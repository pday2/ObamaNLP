{
 "cells": [
  {
   "cell_type": "markdown",
   "id": "04a9e389",
   "metadata": {},
   "source": [
    "### <A HREF=\"https://www.poynter.org/reporting-editing/2017/why-it-worked-a-rhetorical-analysis-of-obamas-speech-on-race-2/\">Poynter article on the linguistic devices used in Obama's March 18, 2008 speech on American race relations, often referred to as A More Perfect Union</A>"
   ]
  },
  {
   "cell_type": "markdown",
   "id": "0acd32e1",
   "metadata": {},
   "source": [
    "### <A HREF=\"https://www.americanrhetoric.com/speeches/barackobamaperfectunion.htm\">A More Perfect Union speech</A>"
   ]
  },
  {
   "cell_type": "markdown",
   "id": "65c156c3",
   "metadata": {},
   "source": [
    "<B>Parallelism</B>\n",
    "<P>\n",
    "At the risk of calling to mind the worst memories of grammar class, I invoke the wisdom that parallel constructions help authors and orators make meaning memorable. To remember how parallelism works, think of equal terms to express equal ideas. So Dr. King dreamed that one day his four children \"will not be judged by the color of their skin but by the content of their character.\" (By the content of their character is parallel to by the color of their skin.)</P>\n",
    "<P>\n",
    "Back to Obama: \"This was one of the tasks we set forth at the beginning of this campaign — to continue the long march of those who came before us, a march for a more just, more equal, more free, more caring and more prosperous America.\" If you are counting, that's five parallel phrases among 43 words. </P>\n",
    "<P>\n",
    "\n",
    "And there are many more:</P>\n",
    "<P>\n",
    "\n",
    " \n",
    "\"…we may not have come from the same place, but we all want to move in the same direction.\"</P>\n",
    "<P>\n",
    "\n",
    " \n",
    "\"So when they are told to bus their children to a school across town; when they hear that an African America is getting an advantage in landing a good job or a spot in a good college because of an injustice that they themselves never committed; when they're told that their fears about crime in urban neighborhoods are somehow prejudiced, resentment builds over time.\"</P>\n",
    "<P>\n",
    "\n",
    " \n",
    "\"…embracing the burdens of our past without becoming victims of our past.\"</P>\n",
    "<P>\n",
    "<I>Roy Peter Clark, October 20, 2017, Poynter<I>"
   ]
  },
  {
   "cell_type": "code",
   "execution_count": 5,
   "id": "e06733f2",
   "metadata": {},
   "outputs": [
    {
     "name": "stderr",
     "output_type": "stream",
     "text": [
      "[nltk_data] Downloading package punkt to\n",
      "[nltk_data]     C:\\Users\\peter\\AppData\\Roaming\\nltk_data...\n",
      "[nltk_data]   Package punkt is already up-to-date!\n"
     ]
    }
   ],
   "source": [
    "import numpy as np\n",
    "import pandas as pd\n",
    "import matplotlib.pyplot as plt\n",
    "import plotly.express as px\n",
    "import os\n",
    "import unicodedata\n",
    "import re\n",
    "import stanza\n",
    "from collections import defaultdict\n",
    "from textblob import TextBlob\n",
    "from graphviz import Source\n",
    "import nltk\n",
    "from nltk.parse.corenlp import CoreNLPParser\n",
    "from nltk.parse.corenlp import CoreNLPDependencyParser\n",
    "from nltk.tokenize import TreebankWordTokenizer\n",
    "from nltk.tokenize import sent_tokenize\n",
    "nltk.download('punkt')\n",
    "word_token = TreebankWordTokenizer()"
   ]
  },
  {
   "cell_type": "markdown",
   "id": "d778db7f",
   "metadata": {},
   "source": [
    "### <A HREF=\"https://stanfordnlp.github.io/stanza/getting_started.html\">Stanza quickstart guide</A>"
   ]
  },
  {
   "cell_type": "code",
   "execution_count": 6,
   "id": "b8c2abe1",
   "metadata": {},
   "outputs": [],
   "source": [
    "# Using Stanford's CoreNLP parser with NLTK\n",
    "# 1. Download CoreNLP from https://stanfordnlp.github.io/CoreNLP/download.html\n",
    "# 2. make sure Java is installed, otherwise download and install Java - https://www.java.com/en/download/windows_manual.jsp\n",
    "# 3. Unzip/extract CoreNLP zip file to a directory\n",
    "# 4. Go to that directory and open a command terminal, and run the following command...\n",
    "# 4b. on my laptop its in C:\\Users\\peter\\stanford-corenlp-4.5.2\n",
    "# 5. java -mx4g -cp \"*\" edu.stanford.nlp.pipeline.StanfordCoreNLPServer -port 9000 -timeout 15000\n",
    "# 6. Now for graphviz if you want to view the parse trees, download from https://graphviz.org/download/ then install\n",
    "# 7. Now, can run the following python code"
   ]
  },
  {
   "cell_type": "code",
   "execution_count": 7,
   "id": "55f88cca",
   "metadata": {},
   "outputs": [
    {
     "name": "stderr",
     "output_type": "stream",
     "text": [
      "2023-04-04 17:27:46 INFO: Checking for updates to resources.json in case models have been updated.  Note: this behavior can be turned off with download_method=None or download_method=DownloadMethod.REUSE_RESOURCES\n"
     ]
    },
    {
     "data": {
      "application/vnd.jupyter.widget-view+json": {
       "model_id": "59bb22b837c9419d817c03b640480ca7",
       "version_major": 2,
       "version_minor": 0
      },
      "text/plain": [
       "Downloading https://raw.githubusercontent.com/stanfordnlp/stanza-resources/main/resources_1.4.1.json:   0%|   …"
      ]
     },
     "metadata": {},
     "output_type": "display_data"
    },
    {
     "name": "stderr",
     "output_type": "stream",
     "text": [
      "2023-04-04 17:27:48 INFO: Loading these models for language: en (English):\n",
      "============================\n",
      "| Processor    | Package   |\n",
      "----------------------------\n",
      "| tokenize     | combined  |\n",
      "| pos          | combined  |\n",
      "| lemma        | combined  |\n",
      "| depparse     | combined  |\n",
      "| sentiment    | sstplus   |\n",
      "| constituency | wsj       |\n",
      "| ner          | ontonotes |\n",
      "============================\n",
      "\n",
      "2023-04-04 17:27:49 INFO: Use device: gpu\n",
      "2023-04-04 17:27:49 INFO: Loading: tokenize\n",
      "2023-04-04 17:27:51 INFO: Loading: pos\n",
      "2023-04-04 17:27:51 INFO: Loading: lemma\n",
      "2023-04-04 17:27:51 INFO: Loading: depparse\n",
      "2023-04-04 17:27:52 INFO: Loading: sentiment\n",
      "2023-04-04 17:27:52 INFO: Loading: constituency\n",
      "2023-04-04 17:27:53 INFO: Loading: ner\n",
      "2023-04-04 17:27:53 INFO: Done loading processors!\n"
     ]
    }
   ],
   "source": [
    "nlp = stanza.Pipeline(lang=\"en\") # Initialize the default English pipeline"
   ]
  },
  {
   "cell_type": "code",
   "execution_count": 8,
   "id": "558ddad1",
   "metadata": {},
   "outputs": [],
   "source": [
    "phrase1 = \"will not be judged by the color of their skin but by the content of their character.\"\n",
    "phrase2 = \"we may not have come from the same place, but we all want to move in the same direction.\"\n",
    "phrase3 = \"embracing the burdens of our past without becoming victims of our past.\"\n",
    "phrase4 = \"That's one small step for man, one giant leap for mankind.\"\n",
    "phrase5 = \"We may not have come from the same place but we want to move in the same direction.\""
   ]
  },
  {
   "cell_type": "code",
   "execution_count": 9,
   "id": "7dc85363",
   "metadata": {},
   "outputs": [
    {
     "name": "stdout",
     "output_type": "stream",
     "text": [
      "id: 1\tword: embracing\thead id: 0\thead: root\tdeprel: root\n",
      "id: 2\tword: the\thead id: 3\thead: burdens\tdeprel: det\n",
      "id: 3\tword: burdens\thead id: 1\thead: embracing\tdeprel: obj\n",
      "id: 4\tword: of\thead id: 6\thead: past\tdeprel: case\n",
      "id: 5\tword: our\thead id: 6\thead: past\tdeprel: nmod:poss\n",
      "id: 6\tword: past\thead id: 3\thead: burdens\tdeprel: nmod\n",
      "id: 7\tword: without\thead id: 8\thead: becoming\tdeprel: mark\n",
      "id: 8\tword: becoming\thead id: 1\thead: embracing\tdeprel: advcl\n",
      "id: 9\tword: victims\thead id: 8\thead: becoming\tdeprel: obj\n",
      "id: 10\tword: of\thead id: 12\thead: past\tdeprel: case\n",
      "id: 11\tword: our\thead id: 12\thead: past\tdeprel: nmod:poss\n",
      "id: 12\tword: past\thead id: 9\thead: victims\tdeprel: nmod\n",
      "id: 13\tword: .\thead id: 1\thead: embracing\tdeprel: punct\n"
     ]
    }
   ],
   "source": [
    "doc = nlp(phrase3)\n",
    "print(*[f'id: {word.id}\\tword: {word.text}\\thead id: {word.head}\\thead: {sent.words[word.head-1].text if word.head > 0 else \"root\"}\\tdeprel: {word.deprel}' for sent in doc.sentences for word in sent.words], sep='\\n')"
   ]
  },
  {
   "cell_type": "code",
   "execution_count": 10,
   "id": "f6e4a238",
   "metadata": {},
   "outputs": [],
   "source": [
    "os.environ[\"PATH\"] += os.pathsep + 'C:/Program Files/Graphviz/bin/'"
   ]
  },
  {
   "cell_type": "code",
   "execution_count": 11,
   "id": "d9bd5f46",
   "metadata": {},
   "outputs": [
    {
     "data": {
      "text/plain": [
       "'dep_tree_p4.png'"
      ]
     },
     "execution_count": 11,
     "metadata": {},
     "output_type": "execute_result"
    }
   ],
   "source": [
    "sdp = CoreNLPDependencyParser()\n",
    "sentence = phrase4\n",
    "result = list(sdp.raw_parse(sentence))\n",
    "dep_tree_dot_repr = [parse for parse in result][0].to_dot()\n",
    "source = Source(dep_tree_dot_repr, filename=\"dep_tree_p4\", format='png')\n",
    "source.view()\n",
    "# Opens in pop-under window... well isn't that nice!"
   ]
  },
  {
   "cell_type": "code",
   "execution_count": 12,
   "id": "fe91d741",
   "metadata": {},
   "outputs": [
    {
     "data": {
      "image/svg+xml": [
       "<?xml version=\"1.0\" encoding=\"UTF-8\" standalone=\"no\"?>\n",
       "<!DOCTYPE svg PUBLIC \"-//W3C//DTD SVG 1.1//EN\"\n",
       " \"http://www.w3.org/Graphics/SVG/1.1/DTD/svg11.dtd\">\n",
       "<!-- Generated by graphviz version 7.1.0 (20230121.1956)\n",
       " -->\n",
       "<!-- Title: G Pages: 1 -->\n",
       "<svg width=\"568pt\" height=\"479pt\"\n",
       " viewBox=\"0.00 0.00 568.00 479.00\" xmlns=\"http://www.w3.org/2000/svg\" xmlns:xlink=\"http://www.w3.org/1999/xlink\">\n",
       "<g id=\"graph0\" class=\"graph\" transform=\"scale(1 1) rotate(0) translate(4 475)\">\n",
       "<title>G</title>\n",
       "<polygon fill=\"white\" stroke=\"none\" points=\"-4,4 -4,-475 564,-475 564,4 -4,4\"/>\n",
       "<!-- 0 -->\n",
       "<g id=\"node1\" class=\"node\">\n",
       "<title>0</title>\n",
       "<text text-anchor=\"middle\" x=\"219\" y=\"-449.3\" font-family=\"Times New Roman,serif\" font-size=\"14.00\">0 (None)</text>\n",
       "</g>\n",
       "<!-- 5 -->\n",
       "<g id=\"node2\" class=\"node\">\n",
       "<title>5</title>\n",
       "<text text-anchor=\"middle\" x=\"219\" y=\"-362.3\" font-family=\"Times New Roman,serif\" font-size=\"14.00\">5 (step)</text>\n",
       "</g>\n",
       "<!-- 0&#45;&gt;5 -->\n",
       "<g id=\"edge1\" class=\"edge\">\n",
       "<title>0&#45;&gt;5</title>\n",
       "<path fill=\"none\" stroke=\"black\" d=\"M219,-435.21C219,-423.8 219,-408.43 219,-395.17\"/>\n",
       "<polygon fill=\"black\" stroke=\"black\" points=\"222.5,-395.27 219,-385.27 215.5,-395.27 222.5,-395.27\"/>\n",
       "<text text-anchor=\"middle\" x=\"239\" y=\"-405.8\" font-family=\"Times New Roman,serif\" font-size=\"14.00\">ROOT</text>\n",
       "</g>\n",
       "<!-- 1 -->\n",
       "<g id=\"node3\" class=\"node\">\n",
       "<title>1</title>\n",
       "<text text-anchor=\"middle\" x=\"31\" y=\"-275.3\" font-family=\"Times New Roman,serif\" font-size=\"14.00\">1 (That)</text>\n",
       "</g>\n",
       "<!-- 5&#45;&gt;1 -->\n",
       "<g id=\"edge2\" class=\"edge\">\n",
       "<title>5&#45;&gt;1</title>\n",
       "<path fill=\"none\" stroke=\"black\" d=\"M189.81,-358.42C166.47,-352.59 133.26,-342.97 106,-330 90.65,-322.69 74.82,-312.59 61.69,-303.37\"/>\n",
       "<polygon fill=\"black\" stroke=\"black\" points=\"64.03,-300.75 53.87,-297.75 59.95,-306.43 64.03,-300.75\"/>\n",
       "<text text-anchor=\"middle\" x=\"121.5\" y=\"-318.8\" font-family=\"Times New Roman,serif\" font-size=\"14.00\">nsubj</text>\n",
       "</g>\n",
       "<!-- 2 -->\n",
       "<g id=\"node4\" class=\"node\">\n",
       "<title>2</title>\n",
       "<text text-anchor=\"middle\" x=\"107\" y=\"-275.3\" font-family=\"Times New Roman,serif\" font-size=\"14.00\">2 (&#39;s)</text>\n",
       "</g>\n",
       "<!-- 5&#45;&gt;2 -->\n",
       "<g id=\"edge3\" class=\"edge\">\n",
       "<title>5&#45;&gt;2</title>\n",
       "<path fill=\"none\" stroke=\"black\" d=\"M189.58,-350.52C178.92,-344.73 167.04,-337.63 157,-330 147.32,-322.65 137.65,-313.51 129.43,-305.06\"/>\n",
       "<polygon fill=\"black\" stroke=\"black\" points=\"132.2,-302.89 122.79,-298.03 127.11,-307.7 132.2,-302.89\"/>\n",
       "<text text-anchor=\"middle\" x=\"168\" y=\"-318.8\" font-family=\"Times New Roman,serif\" font-size=\"14.00\">cop</text>\n",
       "</g>\n",
       "<!-- 3 -->\n",
       "<g id=\"node5\" class=\"node\">\n",
       "<title>3</title>\n",
       "<text text-anchor=\"middle\" x=\"180\" y=\"-275.3\" font-family=\"Times New Roman,serif\" font-size=\"14.00\">3 (one)</text>\n",
       "</g>\n",
       "<!-- 5&#45;&gt;3 -->\n",
       "<g id=\"edge4\" class=\"edge\">\n",
       "<title>5&#45;&gt;3</title>\n",
       "<path fill=\"none\" stroke=\"black\" d=\"M199.73,-348.03C194.83,-342.74 190.09,-336.56 187,-330 183.85,-323.31 182.02,-315.61 180.98,-308.28\"/>\n",
       "<polygon fill=\"black\" stroke=\"black\" points=\"184.47,-308.05 180.04,-298.43 177.5,-308.72 184.47,-308.05\"/>\n",
       "<text text-anchor=\"middle\" x=\"212\" y=\"-318.8\" font-family=\"Times New Roman,serif\" font-size=\"14.00\">nummod</text>\n",
       "</g>\n",
       "<!-- 4 -->\n",
       "<g id=\"node6\" class=\"node\">\n",
       "<title>4</title>\n",
       "<text text-anchor=\"middle\" x=\"259\" y=\"-275.3\" font-family=\"Times New Roman,serif\" font-size=\"14.00\">4 (small)</text>\n",
       "</g>\n",
       "<!-- 5&#45;&gt;4 -->\n",
       "<g id=\"edge5\" class=\"edge\">\n",
       "<title>5&#45;&gt;4</title>\n",
       "<path fill=\"none\" stroke=\"black\" d=\"M228,-348.01C230.94,-342.32 234.18,-335.92 237,-330 240.51,-322.64 244.14,-314.58 247.42,-307.12\"/>\n",
       "<polygon fill=\"black\" stroke=\"black\" points=\"250.54,-308.74 251.31,-298.17 244.12,-305.95 250.54,-308.74\"/>\n",
       "<text text-anchor=\"middle\" x=\"260\" y=\"-318.8\" font-family=\"Times New Roman,serif\" font-size=\"14.00\">amod</text>\n",
       "</g>\n",
       "<!-- 7 -->\n",
       "<g id=\"node7\" class=\"node\">\n",
       "<title>7</title>\n",
       "<text text-anchor=\"middle\" x=\"339\" y=\"-275.3\" font-family=\"Times New Roman,serif\" font-size=\"14.00\">7 (man)</text>\n",
       "</g>\n",
       "<!-- 5&#45;&gt;7 -->\n",
       "<g id=\"edge6\" class=\"edge\">\n",
       "<title>5&#45;&gt;7</title>\n",
       "<path fill=\"none\" stroke=\"black\" d=\"M248.21,-349.66C258.51,-343.89 270.01,-337.01 280,-330 291.02,-322.26 302.46,-312.91 312.31,-304.4\"/>\n",
       "<polygon fill=\"black\" stroke=\"black\" points=\"314.51,-307.13 319.7,-297.89 309.88,-301.88 314.51,-307.13\"/>\n",
       "<text text-anchor=\"middle\" x=\"315.5\" y=\"-318.8\" font-family=\"Times New Roman,serif\" font-size=\"14.00\">nmod</text>\n",
       "</g>\n",
       "<!-- 14 -->\n",
       "<g id=\"node8\" class=\"node\">\n",
       "<title>14</title>\n",
       "<text text-anchor=\"middle\" x=\"414\" y=\"-275.3\" font-family=\"Times New Roman,serif\" font-size=\"14.00\">14 (.)</text>\n",
       "</g>\n",
       "<!-- 5&#45;&gt;14 -->\n",
       "<g id=\"edge7\" class=\"edge\">\n",
       "<title>5&#45;&gt;14</title>\n",
       "<path fill=\"none\" stroke=\"black\" d=\"M248.19,-358.68C272.37,-352.87 307.29,-343.18 336,-330 351.88,-322.71 368.33,-312.6 382,-303.38\"/>\n",
       "<polygon fill=\"black\" stroke=\"black\" points=\"383.94,-306.3 390.18,-297.74 379.96,-300.54 383.94,-306.3\"/>\n",
       "<text text-anchor=\"middle\" x=\"379\" y=\"-318.8\" font-family=\"Times New Roman,serif\" font-size=\"14.00\">punct</text>\n",
       "</g>\n",
       "<!-- 6 -->\n",
       "<g id=\"node9\" class=\"node\">\n",
       "<title>6</title>\n",
       "<text text-anchor=\"middle\" x=\"267\" y=\"-188.3\" font-family=\"Times New Roman,serif\" font-size=\"14.00\">6 (for)</text>\n",
       "</g>\n",
       "<!-- 7&#45;&gt;6 -->\n",
       "<g id=\"edge8\" class=\"edge\">\n",
       "<title>7&#45;&gt;6</title>\n",
       "<path fill=\"none\" stroke=\"black\" d=\"M324.78,-261.21C314.42,-248.98 300.22,-232.21 288.48,-218.36\"/>\n",
       "<polygon fill=\"black\" stroke=\"black\" points=\"291.31,-216.28 282.17,-210.91 285.97,-220.81 291.31,-216.28\"/>\n",
       "<text text-anchor=\"middle\" x=\"320.5\" y=\"-231.8\" font-family=\"Times New Roman,serif\" font-size=\"14.00\">case</text>\n",
       "</g>\n",
       "<!-- 8 -->\n",
       "<g id=\"node10\" class=\"node\">\n",
       "<title>8</title>\n",
       "<text text-anchor=\"middle\" x=\"339\" y=\"-188.3\" font-family=\"Times New Roman,serif\" font-size=\"14.00\">8 (,)</text>\n",
       "</g>\n",
       "<!-- 7&#45;&gt;8 -->\n",
       "<g id=\"edge9\" class=\"edge\">\n",
       "<title>7&#45;&gt;8</title>\n",
       "<path fill=\"none\" stroke=\"black\" d=\"M339,-261.21C339,-249.8 339,-234.43 339,-221.17\"/>\n",
       "<polygon fill=\"black\" stroke=\"black\" points=\"342.5,-221.27 339,-211.27 335.5,-221.27 342.5,-221.27\"/>\n",
       "<text text-anchor=\"middle\" x=\"355\" y=\"-231.8\" font-family=\"Times New Roman,serif\" font-size=\"14.00\">punct</text>\n",
       "</g>\n",
       "<!-- 11 -->\n",
       "<g id=\"node11\" class=\"node\">\n",
       "<title>11</title>\n",
       "<text text-anchor=\"middle\" x=\"417\" y=\"-188.3\" font-family=\"Times New Roman,serif\" font-size=\"14.00\">11 (leap)</text>\n",
       "</g>\n",
       "<!-- 7&#45;&gt;11 -->\n",
       "<g id=\"edge10\" class=\"edge\">\n",
       "<title>7&#45;&gt;11</title>\n",
       "<path fill=\"none\" stroke=\"black\" d=\"M356.93,-261.26C362.81,-255.58 369.3,-249.13 375,-243 382.29,-235.16 389.92,-226.3 396.64,-218.24\"/>\n",
       "<polygon fill=\"black\" stroke=\"black\" points=\"399.16,-220.68 402.82,-210.74 393.76,-216.23 399.16,-220.68\"/>\n",
       "<text text-anchor=\"middle\" x=\"406.5\" y=\"-231.8\" font-family=\"Times New Roman,serif\" font-size=\"14.00\">appos</text>\n",
       "</g>\n",
       "<!-- 9 -->\n",
       "<g id=\"node12\" class=\"node\">\n",
       "<title>9</title>\n",
       "<text text-anchor=\"middle\" x=\"336\" y=\"-101.3\" font-family=\"Times New Roman,serif\" font-size=\"14.00\">9 (one)</text>\n",
       "</g>\n",
       "<!-- 11&#45;&gt;9 -->\n",
       "<g id=\"edge11\" class=\"edge\">\n",
       "<title>11&#45;&gt;9</title>\n",
       "<path fill=\"none\" stroke=\"black\" d=\"M385.25,-174.17C377.37,-169.03 369.37,-162.9 363,-156 356.77,-149.25 351.49,-140.79 347.31,-132.75\"/>\n",
       "<polygon fill=\"black\" stroke=\"black\" points=\"350.58,-131.49 343.1,-123.99 344.27,-134.52 350.58,-131.49\"/>\n",
       "<text text-anchor=\"middle\" x=\"388\" y=\"-144.8\" font-family=\"Times New Roman,serif\" font-size=\"14.00\">nummod</text>\n",
       "</g>\n",
       "<!-- 10 -->\n",
       "<g id=\"node13\" class=\"node\">\n",
       "<title>10</title>\n",
       "<text text-anchor=\"middle\" x=\"417\" y=\"-101.3\" font-family=\"Times New Roman,serif\" font-size=\"14.00\">10 (giant)</text>\n",
       "</g>\n",
       "<!-- 11&#45;&gt;10 -->\n",
       "<g id=\"edge12\" class=\"edge\">\n",
       "<title>11&#45;&gt;10</title>\n",
       "<path fill=\"none\" stroke=\"black\" d=\"M417,-174.21C417,-162.8 417,-147.43 417,-134.17\"/>\n",
       "<polygon fill=\"black\" stroke=\"black\" points=\"420.5,-134.27 417,-124.27 413.5,-134.27 420.5,-134.27\"/>\n",
       "<text text-anchor=\"middle\" x=\"433\" y=\"-144.8\" font-family=\"Times New Roman,serif\" font-size=\"14.00\">amod</text>\n",
       "</g>\n",
       "<!-- 13 -->\n",
       "<g id=\"node14\" class=\"node\">\n",
       "<title>13</title>\n",
       "<text text-anchor=\"middle\" x=\"515\" y=\"-101.3\" font-family=\"Times New Roman,serif\" font-size=\"14.00\">13 (mankind)</text>\n",
       "</g>\n",
       "<!-- 11&#45;&gt;13 -->\n",
       "<g id=\"edge13\" class=\"edge\">\n",
       "<title>11&#45;&gt;13</title>\n",
       "<path fill=\"none\" stroke=\"black\" d=\"M436.36,-174.21C450.86,-161.63 470.9,-144.25 487.12,-130.18\"/>\n",
       "<polygon fill=\"black\" stroke=\"black\" points=\"489.27,-132.95 494.54,-123.75 484.69,-127.66 489.27,-132.95\"/>\n",
       "<text text-anchor=\"middle\" x=\"488.5\" y=\"-144.8\" font-family=\"Times New Roman,serif\" font-size=\"14.00\">nmod</text>\n",
       "</g>\n",
       "<!-- 12 -->\n",
       "<g id=\"node15\" class=\"node\">\n",
       "<title>12</title>\n",
       "<text text-anchor=\"middle\" x=\"515\" y=\"-14.3\" font-family=\"Times New Roman,serif\" font-size=\"14.00\">12 (for)</text>\n",
       "</g>\n",
       "<!-- 13&#45;&gt;12 -->\n",
       "<g id=\"edge14\" class=\"edge\">\n",
       "<title>13&#45;&gt;12</title>\n",
       "<path fill=\"none\" stroke=\"black\" d=\"M515,-87.21C515,-75.8 515,-60.43 515,-47.17\"/>\n",
       "<polygon fill=\"black\" stroke=\"black\" points=\"518.5,-47.27 515,-37.27 511.5,-47.27 518.5,-47.27\"/>\n",
       "<text text-anchor=\"middle\" x=\"527.5\" y=\"-57.8\" font-family=\"Times New Roman,serif\" font-size=\"14.00\">case</text>\n",
       "</g>\n",
       "</g>\n",
       "</svg>\n"
      ],
      "text/plain": [
       "<graphviz.sources.Source at 0x1d0565ed1f0>"
      ]
     },
     "execution_count": 12,
     "metadata": {},
     "output_type": "execute_result"
    }
   ],
   "source": [
    "# Graph image doesn't get saved, need to re-run the code\n",
    "source"
   ]
  },
  {
   "cell_type": "code",
   "execution_count": 13,
   "id": "f000236c",
   "metadata": {},
   "outputs": [
    {
     "name": "stdout",
     "output_type": "stream",
     "text": [
      "(step That 's one small (man for , (leap one giant (mankind for))) .)\n"
     ]
    }
   ],
   "source": [
    "parse, = sdp.raw_parse(phrase4)\n",
    "print(parse.tree())"
   ]
  },
  {
   "cell_type": "code",
   "execution_count": 14,
   "id": "774eb073",
   "metadata": {},
   "outputs": [
    {
     "name": "stdout",
     "output_type": "stream",
     "text": [
      "('step', 'NN') nsubj ('That', 'DT')\n",
      "('step', 'NN') cop (\"'s\", 'VBZ')\n",
      "('step', 'NN') nummod ('one', 'CD')\n",
      "('step', 'NN') amod ('small', 'JJ')\n",
      "('step', 'NN') nmod ('man', 'NN')\n",
      "('man', 'NN') case ('for', 'IN')\n",
      "('man', 'NN') punct (',', ',')\n",
      "('man', 'NN') appos ('leap', 'NN')\n",
      "('leap', 'NN') nummod ('one', 'CD')\n",
      "('leap', 'NN') amod ('giant', 'JJ')\n",
      "('leap', 'NN') nmod ('mankind', 'NN')\n",
      "('mankind', 'NN') case ('for', 'IN')\n",
      "('step', 'NN') punct ('.', '.')\n"
     ]
    }
   ],
   "source": [
    "for gov, dep, dependent in parse.triples():\n",
    "    print(gov, dep, dependent)"
   ]
  },
  {
   "cell_type": "code",
   "execution_count": 15,
   "id": "3491b2c3",
   "metadata": {},
   "outputs": [
    {
     "name": "stdout",
     "output_type": "stream",
     "text": [
      "                            ROOT                                       \n",
      "                             |                                          \n",
      "                             S                                         \n",
      "  ___________________________|_______________________________________   \n",
      " |                           VP                                      | \n",
      " |     ______________________|____                                   |  \n",
      " |    |                           NP                                 | \n",
      " |    |         __________________|___                               |  \n",
      " |    |        |                      PP                             | \n",
      " |    |        |          ____________|____                          |  \n",
      " |    |        |         |                 NP                        | \n",
      " |    |        |         |    _____________|____                     |  \n",
      " |    |        |         |   |    |             NP                   | \n",
      " |    |        |         |   |    |         ____|________            |  \n",
      " |    |        |         |   |    |        |             PP          | \n",
      " |    |        |         |   |    |        |          ___|_____      |  \n",
      " NP   |        NP        |   NP   |        NP        |         NP    | \n",
      " |    |    ____|____     |   |    |    ____|____     |         |     |  \n",
      " DT  VBZ  CD   JJ   NN   IN  NN   ,   CD   JJ   NN   IN        NN    . \n",
      " |    |   |    |    |    |   |    |   |    |    |    |         |     |  \n",
      "That  's one small step for man   ,  one giant leap for     mankind  . \n",
      "\n"
     ]
    }
   ],
   "source": [
    "parser = CoreNLPParser()\n",
    "sent, = parser.parse_text(phrase4)\n",
    "sent.pretty_print()"
   ]
  },
  {
   "cell_type": "code",
   "execution_count": 16,
   "id": "aaeb4de3",
   "metadata": {},
   "outputs": [
    {
     "data": {
      "image/svg+xml": [
       "<svg baseProfile=\"full\" height=\"504px\" preserveAspectRatio=\"xMidYMid meet\" style=\"font-family: times, serif; font-weight:normal; font-style: normal; font-size: 16px;\" version=\"1.1\" viewBox=\"0,0,616.0,504.0\" width=\"616px\" xmlns=\"http://www.w3.org/2000/svg\" xmlns:ev=\"http://www.w3.org/2001/xml-events\" xmlns:xlink=\"http://www.w3.org/1999/xlink\"><defs /><svg width=\"100%\" x=\"0\" y=\"0em\"><defs /><text text-anchor=\"middle\" x=\"50%\" y=\"1em\">ROOT</text></svg><svg width=\"100%\" x=\"0%\" y=\"3em\"><defs /><svg width=\"100%\" x=\"0\" y=\"0em\"><defs /><text text-anchor=\"middle\" x=\"50%\" y=\"1em\">S</text></svg><svg width=\"7.79221%\" x=\"0%\" y=\"3em\"><defs /><svg width=\"100%\" x=\"0\" y=\"0em\"><defs /><text text-anchor=\"middle\" x=\"50%\" y=\"1em\">NP</text></svg><svg width=\"100%\" x=\"0%\" y=\"3em\"><defs /><svg width=\"100%\" x=\"0\" y=\"0em\"><defs /><text text-anchor=\"middle\" x=\"50%\" y=\"1em\">DT</text></svg><svg width=\"100%\" x=\"0%\" y=\"3em\"><defs /><svg width=\"100%\" x=\"0\" y=\"0em\"><defs /><text text-anchor=\"middle\" x=\"50%\" y=\"1em\">That</text></svg></svg><line stroke=\"black\" x1=\"50%\" x2=\"50%\" y1=\"1.2em\" y2=\"3em\" /></svg><line stroke=\"black\" x1=\"50%\" x2=\"50%\" y1=\"1.2em\" y2=\"3em\" /></svg><line stroke=\"black\" x1=\"50%\" x2=\"3.8961%\" y1=\"1.2em\" y2=\"3em\" /><svg width=\"88.3117%\" x=\"7.79221%\" y=\"3em\"><defs /><svg width=\"100%\" x=\"0\" y=\"0em\"><defs /><text text-anchor=\"middle\" x=\"50%\" y=\"1em\">VP</text></svg><svg width=\"7.35294%\" x=\"0%\" y=\"3em\"><defs /><svg width=\"100%\" x=\"0\" y=\"0em\"><defs /><text text-anchor=\"middle\" x=\"50%\" y=\"1em\">VBZ</text></svg><svg width=\"100%\" x=\"0%\" y=\"3em\"><defs /><svg width=\"100%\" x=\"0\" y=\"0em\"><defs /><text text-anchor=\"middle\" x=\"50%\" y=\"1em\">'s</text></svg></svg><line stroke=\"black\" x1=\"50%\" x2=\"50%\" y1=\"1.2em\" y2=\"3em\" /></svg><line stroke=\"black\" x1=\"50%\" x2=\"3.67647%\" y1=\"1.2em\" y2=\"3em\" /><svg width=\"92.6471%\" x=\"7.35294%\" y=\"3em\"><defs /><svg width=\"100%\" x=\"0\" y=\"0em\"><defs /><text text-anchor=\"middle\" x=\"50%\" y=\"1em\">NP</text></svg><svg width=\"28.5714%\" x=\"0%\" y=\"3em\"><defs /><svg width=\"100%\" x=\"0\" y=\"0em\"><defs /><text text-anchor=\"middle\" x=\"50%\" y=\"1em\">NP</text></svg><svg width=\"27.7778%\" x=\"0%\" y=\"3em\"><defs /><svg width=\"100%\" x=\"0\" y=\"0em\"><defs /><text text-anchor=\"middle\" x=\"50%\" y=\"1em\">CD</text></svg><svg width=\"100%\" x=\"0%\" y=\"3em\"><defs /><svg width=\"100%\" x=\"0\" y=\"0em\"><defs /><text text-anchor=\"middle\" x=\"50%\" y=\"1em\">one</text></svg></svg><line stroke=\"black\" x1=\"50%\" x2=\"50%\" y1=\"1.2em\" y2=\"3em\" /></svg><line stroke=\"black\" x1=\"50%\" x2=\"13.8889%\" y1=\"1.2em\" y2=\"3em\" /><svg width=\"38.8889%\" x=\"27.7778%\" y=\"3em\"><defs /><svg width=\"100%\" x=\"0\" y=\"0em\"><defs /><text text-anchor=\"middle\" x=\"50%\" y=\"1em\">JJ</text></svg><svg width=\"100%\" x=\"0%\" y=\"3em\"><defs /><svg width=\"100%\" x=\"0\" y=\"0em\"><defs /><text text-anchor=\"middle\" x=\"50%\" y=\"1em\">small</text></svg></svg><line stroke=\"black\" x1=\"50%\" x2=\"50%\" y1=\"1.2em\" y2=\"3em\" /></svg><line stroke=\"black\" x1=\"50%\" x2=\"47.2222%\" y1=\"1.2em\" y2=\"3em\" /><svg width=\"33.3333%\" x=\"66.6667%\" y=\"3em\"><defs /><svg width=\"100%\" x=\"0\" y=\"0em\"><defs /><text text-anchor=\"middle\" x=\"50%\" y=\"1em\">NN</text></svg><svg width=\"100%\" x=\"0%\" y=\"3em\"><defs /><svg width=\"100%\" x=\"0\" y=\"0em\"><defs /><text text-anchor=\"middle\" x=\"50%\" y=\"1em\">step</text></svg></svg><line stroke=\"black\" x1=\"50%\" x2=\"50%\" y1=\"1.2em\" y2=\"3em\" /></svg><line stroke=\"black\" x1=\"50%\" x2=\"83.3333%\" y1=\"1.2em\" y2=\"3em\" /></svg><line stroke=\"black\" x1=\"50%\" x2=\"14.2857%\" y1=\"1.2em\" y2=\"3em\" /><svg width=\"71.4286%\" x=\"28.5714%\" y=\"3em\"><defs /><svg width=\"100%\" x=\"0\" y=\"0em\"><defs /><text text-anchor=\"middle\" x=\"50%\" y=\"1em\">PP</text></svg><svg width=\"11.1111%\" x=\"0%\" y=\"3em\"><defs /><svg width=\"100%\" x=\"0\" y=\"0em\"><defs /><text text-anchor=\"middle\" x=\"50%\" y=\"1em\">IN</text></svg><svg width=\"100%\" x=\"0%\" y=\"3em\"><defs /><svg width=\"100%\" x=\"0\" y=\"0em\"><defs /><text text-anchor=\"middle\" x=\"50%\" y=\"1em\">for</text></svg></svg><line stroke=\"black\" x1=\"50%\" x2=\"50%\" y1=\"1.2em\" y2=\"3em\" /></svg><line stroke=\"black\" x1=\"50%\" x2=\"5.55556%\" y1=\"1.2em\" y2=\"3em\" /><svg width=\"88.8889%\" x=\"11.1111%\" y=\"3em\"><defs /><svg width=\"100%\" x=\"0\" y=\"0em\"><defs /><text text-anchor=\"middle\" x=\"50%\" y=\"1em\">NP</text></svg><svg width=\"12.5%\" x=\"0%\" y=\"3em\"><defs /><svg width=\"100%\" x=\"0\" y=\"0em\"><defs /><text text-anchor=\"middle\" x=\"50%\" y=\"1em\">NP</text></svg><svg width=\"100%\" x=\"0%\" y=\"3em\"><defs /><svg width=\"100%\" x=\"0\" y=\"0em\"><defs /><text text-anchor=\"middle\" x=\"50%\" y=\"1em\">NN</text></svg><svg width=\"100%\" x=\"0%\" y=\"3em\"><defs /><svg width=\"100%\" x=\"0\" y=\"0em\"><defs /><text text-anchor=\"middle\" x=\"50%\" y=\"1em\">man</text></svg></svg><line stroke=\"black\" x1=\"50%\" x2=\"50%\" y1=\"1.2em\" y2=\"3em\" /></svg><line stroke=\"black\" x1=\"50%\" x2=\"50%\" y1=\"1.2em\" y2=\"3em\" /></svg><line stroke=\"black\" x1=\"50%\" x2=\"6.25%\" y1=\"1.2em\" y2=\"3em\" /><svg width=\"7.5%\" x=\"12.5%\" y=\"3em\"><defs /><svg width=\"100%\" x=\"0\" y=\"0em\"><defs /><text text-anchor=\"middle\" x=\"50%\" y=\"1em\">,</text></svg><svg width=\"100%\" x=\"0%\" y=\"3em\"><defs /><svg width=\"100%\" x=\"0\" y=\"0em\"><defs /><text text-anchor=\"middle\" x=\"50%\" y=\"1em\">,</text></svg></svg><line stroke=\"black\" x1=\"50%\" x2=\"50%\" y1=\"1.2em\" y2=\"3em\" /></svg><line stroke=\"black\" x1=\"50%\" x2=\"16.25%\" y1=\"1.2em\" y2=\"3em\" /><svg width=\"80%\" x=\"20%\" y=\"3em\"><defs /><svg width=\"100%\" x=\"0\" y=\"0em\"><defs /><text text-anchor=\"middle\" x=\"50%\" y=\"1em\">NP</text></svg><svg width=\"56.25%\" x=\"0%\" y=\"3em\"><defs /><svg width=\"100%\" x=\"0\" y=\"0em\"><defs /><text text-anchor=\"middle\" x=\"50%\" y=\"1em\">NP</text></svg><svg width=\"27.7778%\" x=\"0%\" y=\"3em\"><defs /><svg width=\"100%\" x=\"0\" y=\"0em\"><defs /><text text-anchor=\"middle\" x=\"50%\" y=\"1em\">CD</text></svg><svg width=\"100%\" x=\"0%\" y=\"3em\"><defs /><svg width=\"100%\" x=\"0\" y=\"0em\"><defs /><text text-anchor=\"middle\" x=\"50%\" y=\"1em\">one</text></svg></svg><line stroke=\"black\" x1=\"50%\" x2=\"50%\" y1=\"1.2em\" y2=\"3em\" /></svg><line stroke=\"black\" x1=\"50%\" x2=\"13.8889%\" y1=\"1.2em\" y2=\"3em\" /><svg width=\"38.8889%\" x=\"27.7778%\" y=\"3em\"><defs /><svg width=\"100%\" x=\"0\" y=\"0em\"><defs /><text text-anchor=\"middle\" x=\"50%\" y=\"1em\">JJ</text></svg><svg width=\"100%\" x=\"0%\" y=\"3em\"><defs /><svg width=\"100%\" x=\"0\" y=\"0em\"><defs /><text text-anchor=\"middle\" x=\"50%\" y=\"1em\">giant</text></svg></svg><line stroke=\"black\" x1=\"50%\" x2=\"50%\" y1=\"1.2em\" y2=\"3em\" /></svg><line stroke=\"black\" x1=\"50%\" x2=\"47.2222%\" y1=\"1.2em\" y2=\"3em\" /><svg width=\"33.3333%\" x=\"66.6667%\" y=\"3em\"><defs /><svg width=\"100%\" x=\"0\" y=\"0em\"><defs /><text text-anchor=\"middle\" x=\"50%\" y=\"1em\">NN</text></svg><svg width=\"100%\" x=\"0%\" y=\"3em\"><defs /><svg width=\"100%\" x=\"0\" y=\"0em\"><defs /><text text-anchor=\"middle\" x=\"50%\" y=\"1em\">leap</text></svg></svg><line stroke=\"black\" x1=\"50%\" x2=\"50%\" y1=\"1.2em\" y2=\"3em\" /></svg><line stroke=\"black\" x1=\"50%\" x2=\"83.3333%\" y1=\"1.2em\" y2=\"3em\" /></svg><line stroke=\"black\" x1=\"50%\" x2=\"28.125%\" y1=\"1.2em\" y2=\"3em\" /><svg width=\"43.75%\" x=\"56.25%\" y=\"3em\"><defs /><svg width=\"100%\" x=\"0\" y=\"0em\"><defs /><text text-anchor=\"middle\" x=\"50%\" y=\"1em\">PP</text></svg><svg width=\"35.7143%\" x=\"0%\" y=\"3em\"><defs /><svg width=\"100%\" x=\"0\" y=\"0em\"><defs /><text text-anchor=\"middle\" x=\"50%\" y=\"1em\">IN</text></svg><svg width=\"100%\" x=\"0%\" y=\"3em\"><defs /><svg width=\"100%\" x=\"0\" y=\"0em\"><defs /><text text-anchor=\"middle\" x=\"50%\" y=\"1em\">for</text></svg></svg><line stroke=\"black\" x1=\"50%\" x2=\"50%\" y1=\"1.2em\" y2=\"3em\" /></svg><line stroke=\"black\" x1=\"50%\" x2=\"17.8571%\" y1=\"1.2em\" y2=\"3em\" /><svg width=\"64.2857%\" x=\"35.7143%\" y=\"3em\"><defs /><svg width=\"100%\" x=\"0\" y=\"0em\"><defs /><text text-anchor=\"middle\" x=\"50%\" y=\"1em\">NP</text></svg><svg width=\"100%\" x=\"0%\" y=\"3em\"><defs /><svg width=\"100%\" x=\"0\" y=\"0em\"><defs /><text text-anchor=\"middle\" x=\"50%\" y=\"1em\">NN</text></svg><svg width=\"100%\" x=\"0%\" y=\"3em\"><defs /><svg width=\"100%\" x=\"0\" y=\"0em\"><defs /><text text-anchor=\"middle\" x=\"50%\" y=\"1em\">mankind</text></svg></svg><line stroke=\"black\" x1=\"50%\" x2=\"50%\" y1=\"1.2em\" y2=\"3em\" /></svg><line stroke=\"black\" x1=\"50%\" x2=\"50%\" y1=\"1.2em\" y2=\"3em\" /></svg><line stroke=\"black\" x1=\"50%\" x2=\"67.8571%\" y1=\"1.2em\" y2=\"3em\" /></svg><line stroke=\"black\" x1=\"50%\" x2=\"78.125%\" y1=\"1.2em\" y2=\"3em\" /></svg><line stroke=\"black\" x1=\"50%\" x2=\"60%\" y1=\"1.2em\" y2=\"3em\" /></svg><line stroke=\"black\" x1=\"50%\" x2=\"55.5556%\" y1=\"1.2em\" y2=\"3em\" /></svg><line stroke=\"black\" x1=\"50%\" x2=\"64.2857%\" y1=\"1.2em\" y2=\"3em\" /></svg><line stroke=\"black\" x1=\"50%\" x2=\"53.6765%\" y1=\"1.2em\" y2=\"3em\" /></svg><line stroke=\"black\" x1=\"50%\" x2=\"51.9481%\" y1=\"1.2em\" y2=\"3em\" /><svg width=\"3.8961%\" x=\"96.1039%\" y=\"3em\"><defs /><svg width=\"100%\" x=\"0\" y=\"0em\"><defs /><text text-anchor=\"middle\" x=\"50%\" y=\"1em\">.</text></svg><svg width=\"100%\" x=\"0%\" y=\"3em\"><defs /><svg width=\"100%\" x=\"0\" y=\"0em\"><defs /><text text-anchor=\"middle\" x=\"50%\" y=\"1em\">.</text></svg></svg><line stroke=\"black\" x1=\"50%\" x2=\"50%\" y1=\"1.2em\" y2=\"3em\" /></svg><line stroke=\"black\" x1=\"50%\" x2=\"98.0519%\" y1=\"1.2em\" y2=\"3em\" /></svg><line stroke=\"black\" x1=\"50%\" x2=\"50%\" y1=\"1.2em\" y2=\"3em\" /></svg>"
      ],
      "text/plain": [
       "Tree('ROOT', [Tree('S', [Tree('NP', [Tree('DT', ['That'])]), Tree('VP', [Tree('VBZ', [\"'s\"]), Tree('NP', [Tree('NP', [Tree('CD', ['one']), Tree('JJ', ['small']), Tree('NN', ['step'])]), Tree('PP', [Tree('IN', ['for']), Tree('NP', [Tree('NP', [Tree('NN', ['man'])]), Tree(',', [',']), Tree('NP', [Tree('NP', [Tree('CD', ['one']), Tree('JJ', ['giant']), Tree('NN', ['leap'])]), Tree('PP', [Tree('IN', ['for']), Tree('NP', [Tree('NN', ['mankind'])])])])])])])]), Tree('.', ['.'])])])"
      ]
     },
     "execution_count": 16,
     "metadata": {},
     "output_type": "execute_result"
    }
   ],
   "source": [
    "sent"
   ]
  },
  {
   "cell_type": "code",
   "execution_count": 17,
   "id": "a98b102a",
   "metadata": {},
   "outputs": [
    {
     "name": "stdout",
     "output_type": "stream",
     "text": [
      "(S\n",
      "  (NP (DT That))\n",
      "  (VP\n",
      "    (VBZ 's)\n",
      "    (NP\n",
      "      (NP (CD one) (JJ small) (NN step))\n",
      "      (PP\n",
      "        (IN for)\n",
      "        (NP\n",
      "          (NP (NN man))\n",
      "          (, ,)\n",
      "          (NP\n",
      "            (NP (CD one) (JJ giant) (NN leap))\n",
      "            (PP (IN for) (NP (NN mankind))))))))\n",
      "  (. .))\n"
     ]
    },
    {
     "ename": "IndexError",
     "evalue": "list index out of range",
     "output_type": "error",
     "traceback": [
      "\u001b[1;31m---------------------------------------------------------------------------\u001b[0m",
      "\u001b[1;31mIndexError\u001b[0m                                Traceback (most recent call last)",
      "\u001b[1;32m~\\AppData\\Local\\Temp\\ipykernel_6052\\2883949944.py\u001b[0m in \u001b[0;36m<module>\u001b[1;34m\u001b[0m\n\u001b[0;32m      4\u001b[0m \u001b[1;31m#sent.height()\u001b[0m\u001b[1;33m\u001b[0m\u001b[1;33m\u001b[0m\u001b[1;33m\u001b[0m\u001b[0m\n\u001b[0;32m      5\u001b[0m \u001b[1;32mfor\u001b[0m \u001b[0mlevel\u001b[0m \u001b[1;32min\u001b[0m \u001b[0mrange\u001b[0m\u001b[1;33m(\u001b[0m\u001b[0msent\u001b[0m\u001b[1;33m.\u001b[0m\u001b[0mheight\u001b[0m\u001b[1;33m(\u001b[0m\u001b[1;33m)\u001b[0m\u001b[1;33m)\u001b[0m\u001b[1;33m:\u001b[0m\u001b[1;33m\u001b[0m\u001b[1;33m\u001b[0m\u001b[0m\n\u001b[1;32m----> 6\u001b[1;33m     \u001b[0mprint\u001b[0m\u001b[1;33m(\u001b[0m\u001b[0msent\u001b[0m\u001b[1;33m[\u001b[0m\u001b[0mlevel\u001b[0m\u001b[1;33m]\u001b[0m\u001b[1;33m)\u001b[0m\u001b[1;33m\u001b[0m\u001b[1;33m\u001b[0m\u001b[0m\n\u001b[0m",
      "\u001b[1;32mc:\\users\\peter\\appdata\\local\\programs\\python\\python39\\lib\\site-packages\\nltk\\tree\\tree.py\u001b[0m in \u001b[0;36m__getitem__\u001b[1;34m(self, index)\u001b[0m\n\u001b[0;32m    153\u001b[0m     \u001b[1;32mdef\u001b[0m \u001b[0m__getitem__\u001b[0m\u001b[1;33m(\u001b[0m\u001b[0mself\u001b[0m\u001b[1;33m,\u001b[0m \u001b[0mindex\u001b[0m\u001b[1;33m)\u001b[0m\u001b[1;33m:\u001b[0m\u001b[1;33m\u001b[0m\u001b[1;33m\u001b[0m\u001b[0m\n\u001b[0;32m    154\u001b[0m         \u001b[1;32mif\u001b[0m \u001b[0misinstance\u001b[0m\u001b[1;33m(\u001b[0m\u001b[0mindex\u001b[0m\u001b[1;33m,\u001b[0m \u001b[1;33m(\u001b[0m\u001b[0mint\u001b[0m\u001b[1;33m,\u001b[0m \u001b[0mslice\u001b[0m\u001b[1;33m)\u001b[0m\u001b[1;33m)\u001b[0m\u001b[1;33m:\u001b[0m\u001b[1;33m\u001b[0m\u001b[1;33m\u001b[0m\u001b[0m\n\u001b[1;32m--> 155\u001b[1;33m             \u001b[1;32mreturn\u001b[0m \u001b[0mlist\u001b[0m\u001b[1;33m.\u001b[0m\u001b[0m__getitem__\u001b[0m\u001b[1;33m(\u001b[0m\u001b[0mself\u001b[0m\u001b[1;33m,\u001b[0m \u001b[0mindex\u001b[0m\u001b[1;33m)\u001b[0m\u001b[1;33m\u001b[0m\u001b[1;33m\u001b[0m\u001b[0m\n\u001b[0m\u001b[0;32m    156\u001b[0m         \u001b[1;32melif\u001b[0m \u001b[0misinstance\u001b[0m\u001b[1;33m(\u001b[0m\u001b[0mindex\u001b[0m\u001b[1;33m,\u001b[0m \u001b[1;33m(\u001b[0m\u001b[0mlist\u001b[0m\u001b[1;33m,\u001b[0m \u001b[0mtuple\u001b[0m\u001b[1;33m)\u001b[0m\u001b[1;33m)\u001b[0m\u001b[1;33m:\u001b[0m\u001b[1;33m\u001b[0m\u001b[1;33m\u001b[0m\u001b[0m\n\u001b[0;32m    157\u001b[0m             \u001b[1;32mif\u001b[0m \u001b[0mlen\u001b[0m\u001b[1;33m(\u001b[0m\u001b[0mindex\u001b[0m\u001b[1;33m)\u001b[0m \u001b[1;33m==\u001b[0m \u001b[1;36m0\u001b[0m\u001b[1;33m:\u001b[0m\u001b[1;33m\u001b[0m\u001b[1;33m\u001b[0m\u001b[0m\n",
      "\u001b[1;31mIndexError\u001b[0m: list index out of range"
     ]
    }
   ],
   "source": [
    "#sent.pos()\n",
    "#sent.productions()\n",
    "#sent.pformat_latex_qtree() #compatible with LaTeX qtree package\n",
    "#sent.height()\n",
    "for level in range(sent.height()):\n",
    "    print(sent[level])"
   ]
  },
  {
   "cell_type": "code",
   "execution_count": 18,
   "id": "a3413c8c",
   "metadata": {},
   "outputs": [],
   "source": [
    "listr = []\n",
    "def iterate(tree):\n",
    "    if len(tree) > 1:\n",
    "        for i in range(len(tree)):\n",
    "            iterate(tree[i])\n",
    "    else:\n",
    "        listr.append(tree)"
   ]
  },
  {
   "cell_type": "code",
   "execution_count": 19,
   "id": "62ae47d4",
   "metadata": {},
   "outputs": [
    {
     "data": {
      "text/plain": [
       "[Tree('NP', [Tree('DT', ['That'])]),\n",
       " Tree('VBZ', [\"'s\"]),\n",
       " Tree('CD', ['one']),\n",
       " Tree('JJ', ['small']),\n",
       " Tree('NN', ['step']),\n",
       " Tree('IN', ['for']),\n",
       " Tree('NP', [Tree('NN', ['man'])]),\n",
       " Tree(',', [',']),\n",
       " Tree('CD', ['one']),\n",
       " Tree('JJ', ['giant']),\n",
       " Tree('NN', ['leap']),\n",
       " Tree('IN', ['for']),\n",
       " Tree('NP', [Tree('NN', ['mankind'])]),\n",
       " Tree('.', ['.'])]"
      ]
     },
     "execution_count": 19,
     "metadata": {},
     "output_type": "execute_result"
    }
   ],
   "source": [
    "iterate(sent[0])\n",
    "listr"
   ]
  },
  {
   "cell_type": "code",
   "execution_count": 34,
   "id": "060a8efb",
   "metadata": {},
   "outputs": [],
   "source": [
    "with open('./Data/barackobamaperfectunion.txt') as f:\n",
    "    text = f.read()\n",
    "sents = sent_tokenize(text)"
   ]
  },
  {
   "cell_type": "code",
   "execution_count": 38,
   "id": "165c3bc5",
   "metadata": {},
   "outputs": [
    {
     "name": "stdout",
     "output_type": "stream",
     "text": [
      "[',', 'in', 'a']\n",
      "[',', 'with', 'these']\n",
      "\n",
      "['Farmers', 'and', 'scholars']\n",
      "['statesmen', 'and', 'patriots']\n",
      "\n",
      "['the', 'convention', 'to', 'a']\n",
      "['a', 'stalemate', 'until', 'the']\n",
      "\n",
      "['answer', 'to', 'the', 'slavery']\n",
      "['citizenship', 'under', 'the', 'law']\n",
      "\n",
      "['yet', 'words', 'on', 'a', 'parchment']\n",
      "['and', 'women', 'of', 'every', 'color']\n",
      "\n",
      "['struggles', ',', 'on', 'the']\n",
      "['courts', ',', 'through', 'a']\n",
      "\n",
      "[',', 'more', 'equal', ',', 'more', 'free']\n",
      "[',', 'more', 'free', ',', 'more', 'caring']\n",
      "\n",
      "['that', 'we', 'can', 'not', 'solve', 'the']\n",
      "['that', 'we', 'may', 'not', 'look', 'the']\n",
      "\n",
      "['faith', 'in', 'the']\n",
      "['generosity', 'of', 'the']\n",
      "\n",
      "['a', 'black', 'man', 'from', 'Kenya']\n",
      "['a', 'white', 'woman', 'from', 'Kansas']\n",
      "\n",
      "['a', 'white', 'grandfather', 'who', 'survived']\n",
      "['a', 'white', 'grandmother', 'who', 'worked']\n",
      "\n",
      "['I', \"'ve\", 'gone', 'to']\n",
      "['I', \"'ve\", 'lived', 'in']\n",
      "\n",
      "['brothers', ',', 'sisters', ',', 'nieces', ',']\n",
      "['sisters', ',', 'nieces', ',', 'nephews', ',']\n",
      "\n",
      "['the', 'idea', 'that']\n",
      "['the', 'sum', 'of']\n",
      "\n",
      "['of', 'this', 'campaign', ',']\n",
      "['to', 'the', 'contrary', ',']\n",
      "\n",
      "['Despite', 'the', 'temptation']\n",
      "['in', 'the', 'country']\n",
      "\n",
      "['the', 'Confederate', 'flag']\n",
      "['a', 'powerful', 'coalition']\n",
      "\n",
      "['either', '\"', 'too', 'black']\n",
      "['or', '\"', 'not', 'black']\n",
      "\n",
      "['bubble', 'to', 'the', 'surface', 'during', 'the']\n",
      "['surface', 'during', 'the', 'week', 'before', 'the']\n",
      "\n",
      "['white', 'and', 'black']\n",
      "['black', 'and', 'brown']\n",
      "\n",
      "['that', 'the', 'discussion']\n",
      "['in', 'this', 'campaign']\n",
      "\n",
      "['an', 'exercise', 'in', 'affirmative']\n",
      "['the', 'desire', 'of', 'wild']\n",
      "\n",
      "['the', 'other', 'end', ',']\n",
      "['the', 'racial', 'divide', ',']\n",
      "\n",
      "['as', 'I', \"'m\"]\n",
      "['of', 'you', 'have']\n",
      "\n",
      "['a', 'view', 'that', 'sees']\n",
      "['a', 'view', 'that', 'sees']\n",
      "\n",
      "['at', 'a', 'time', 'when', 'we', 'need']\n",
      "['at', 'a', 'time', 'when', 'we', 'need']\n",
      "\n",
      "['of', 'Reverend', 'Wright']\n",
      "['if', 'Trinity', 'United']\n",
      "\n",
      "['a', 'man', 'who', 'helped']\n",
      "['a', 'man', 'who', 'spoke']\n",
      "\n",
      "['the', 'homeless', ',', 'ministering']\n",
      "['the', 'needy', ',', 'providing']\n",
      "\n",
      "['In', 'my', 'first', 'book']\n",
      "['of', 'my', 'first', 'service']\n",
      "\n",
      "['hope', ',', 'I', 'heard']\n",
      "['city', ',', 'I', 'imagined']\n",
      "\n",
      "['survival', 'and', 'freedom']\n",
      "['freedom', 'and', 'hope']\n",
      "\n",
      "['until', 'this', 'black', 'church', ',']\n",
      "['on', 'this', 'bright', 'day', ',']\n",
      "\n",
      "['need', 'to', 'feel']\n",
      "['start', 'to', 'rebuild']\n",
      "\n",
      "['entirety', ',', 'the', 'doctor']\n",
      "['mom', ',', 'the', 'model']\n",
      "\n",
      "[',', 'the', 'love', 'and']\n",
      "[',', 'the', 'bitterness', 'and']\n",
      "\n",
      "['my', 'faith', ',']\n",
      "['my', 'wedding', ',']\n",
      "\n",
      "['anything', 'but', 'courtesy']\n",
      "['courtesy', 'and', 'respect']\n",
      "\n",
      "[',', 'a', 'woman', 'who', 'helped']\n",
      "[',', 'a', 'woman', 'who', 'sacrificed']\n",
      "\n",
      "['from', 'this', 'episode']\n",
      "['into', 'the', 'woodwork']\n",
      "\n",
      "['Reverend', 'Wright', 'as', 'a']\n",
      "['Geraldine', 'Ferraro', 'in', 'the']\n",
      "\n",
      "['the', 'comments', 'that', 'have', 'been']\n",
      "['the', 'issues', 'that', 'have', 'surfaced']\n",
      "\n",
      "----- PARSE ERROR -----\n",
      "In fact, it isn't even past.\"\n"
     ]
    }
   ],
   "source": [
    "for phrase in sents:\n",
    "    try:\n",
    "        sent, = parser.parse_text(phrase)\n",
    "    except:\n",
    "        print('----- PARSE ERROR -----')\n",
    "        print(phrase)\n",
    "        break\n",
    "    poss = []\n",
    "    words = []\n",
    "    for word in sent.pos():\n",
    "        poss.append(word[1])\n",
    "        words.append(word[0])\n",
    "\n",
    "    stop = False\n",
    "    results=[] \n",
    "    for length in range(6,2,-1):\n",
    "        for i in range(len(poss)-length+1):\n",
    "            for j in range(len(poss)-length+1):\n",
    "                if i != j:\n",
    "                    if poss[i:i+length]==poss[j:j+length]:\n",
    "                        results.append([i,j,length])\n",
    "                        stop = True\n",
    "                        break\n",
    "            if stop: break\n",
    "        if stop: break\n",
    "\n",
    "    for result in results:\n",
    "        print(words[result[0]:result[0]+result[2]])\n",
    "        print(words[result[1]:result[1]+result[2]])\n",
    "        print()"
   ]
  },
  {
   "cell_type": "code",
   "execution_count": 27,
   "id": "7a83227e",
   "metadata": {},
   "outputs": [],
   "source": [
    "oba = pd.read_csv('df_encodings.csv')\n",
    "gwb = pd.read_csv('df_encodings_gwb.csv')"
   ]
  },
  {
   "cell_type": "code",
   "execution_count": null,
   "id": "d621f2a7",
   "metadata": {},
   "outputs": [],
   "source": []
  }
 ],
 "metadata": {
  "kernelspec": {
   "display_name": "Python 3 (ipykernel)",
   "language": "python",
   "name": "python3"
  },
  "language_info": {
   "codemirror_mode": {
    "name": "ipython",
    "version": 3
   },
   "file_extension": ".py",
   "mimetype": "text/x-python",
   "name": "python",
   "nbconvert_exporter": "python",
   "pygments_lexer": "ipython3",
   "version": "3.9.2"
  }
 },
 "nbformat": 4,
 "nbformat_minor": 5
}
