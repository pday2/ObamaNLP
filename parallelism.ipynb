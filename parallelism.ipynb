{
 "cells": [
  {
   "cell_type": "markdown",
   "id": "04a9e389",
   "metadata": {},
   "source": [
    "### <A HREF=\"https://www.poynter.org/reporting-editing/2017/why-it-worked-a-rhetorical-analysis-of-obamas-speech-on-race-2/\">Poynter article on the linguistic devices used in Obama's March 18, 2008 speech on American race relations, often referred to as A More Perfect Union</A>"
   ]
  },
  {
   "cell_type": "markdown",
   "id": "0acd32e1",
   "metadata": {},
   "source": [
    "### <A HREF=\"https://www.americanrhetoric.co./Data/speeches/barackobamaperfectunion.htm\">A More Perfect Union speech</A>"
   ]
  },
  {
   "cell_type": "markdown",
   "id": "65c156c3",
   "metadata": {},
   "source": [
    "<B>Parallelism</B>\n",
    "<P>\n",
    "At the risk of calling to mind the worst memories of grammar class, I invoke the wisdom that parallel constructions help authors and orators make meaning memorable. To remember how parallelism works, think of equal terms to express equal ideas. So Dr. King dreamed that one day his four children \"will not be judged by the color of their skin but by the content of their character.\" (By the content of their character is parallel to by the color of their skin.)</P>\n",
    "<P>\n",
    "Back to Obama: \"This was one of the tasks we set forth at the beginning of this campaign — to continue the long march of those who came before us, a march for a more just, more equal, more free, more caring and more prosperous America.\" If you are counting, that's five parallel phrases among 43 words. </P>\n",
    "<P>\n",
    "\n",
    "And there are many more:</P>\n",
    "<P>\n",
    "\n",
    " \n",
    "\"…we may not have come from the same place, but we all want to move in the same direction.\"</P>\n",
    "<P>\n",
    "\n",
    " \n",
    "\"So when they are told to bus their children to a school across town; when they hear that an African America is getting an advantage in landing a good job or a spot in a good college because of an injustice that they themselves never committed; when they're told that their fears about crime in urban neighborhoods are somehow prejudiced, resentment builds over time.\"</P>\n",
    "<P>\n",
    "\n",
    " \n",
    "\"…embracing the burdens of our past without becoming victims of our past.\"</P>\n",
    "<P>\n",
    "<I>Roy Peter Clark, October 20, 2017, Poynter<I>"
   ]
  },
  {
   "cell_type": "code",
   "execution_count": 43,
   "id": "e06733f2",
   "metadata": {},
   "outputs": [
    {
     "name": "stderr",
     "output_type": "stream",
     "text": [
      "[nltk_data] Downloading package punkt to\n",
      "[nltk_data]     C:\\Users\\peter\\AppData\\Roaming\\nltk_data...\n",
      "[nltk_data]   Package punkt is already up-to-date!\n"
     ]
    }
   ],
   "source": [
    "import numpy as np\n",
    "import pandas as pd\n",
    "import matplotlib.pyplot as plt\n",
    "import plotly.express as px\n",
    "import os\n",
    "import unicodedata\n",
    "import re\n",
    "import stanza\n",
    "from collections import defaultdict\n",
    "from textblob import TextBlob\n",
    "from graphviz import Source\n",
    "from scipy.stats import mannwhitneyu, ttest_ind, levene\n",
    "import nltk\n",
    "from nltk.parse.corenlp import CoreNLPParser\n",
    "from nltk.parse.corenlp import CoreNLPDependencyParser\n",
    "from nltk.tokenize import TreebankWordTokenizer\n",
    "from nltk.tokenize import sent_tokenize\n",
    "nltk.download('punkt')\n",
    "word_token = TreebankWordTokenizer()"
   ]
  },
  {
   "cell_type": "markdown",
   "id": "d778db7f",
   "metadata": {},
   "source": [
    "### <A HREF=\"https://stanfordnlp.github.io/stanza/getting_started.html\">Stanza quickstart guide</A>"
   ]
  },
  {
   "cell_type": "code",
   "execution_count": 2,
   "id": "b8c2abe1",
   "metadata": {},
   "outputs": [],
   "source": [
    "# Using Stanford's CoreNLP parser with NLTK\n",
    "# 1. Download CoreNLP from https://stanfordnlp.github.io/CoreNLP/download.html\n",
    "# 2. make sure Java is installed, otherwise download and install Java - https://www.java.com/en/download/windows_manual.jsp\n",
    "# 3. Unzip/extract CoreNLP zip file to a directory\n",
    "# 4. Go to that directory and open a command terminal, and run the following command...\n",
    "# 4b. on my laptop its in C:\\Users\\peter\\stanford-corenlp-4.5.2\n",
    "# 5. java -mx4g -cp \"*\" edu.stanford.nlp.pipeline.StanfordCoreNLPServer -port 9000 -timeout 15000\n",
    "# 6. Now for graphviz if you want to view the parse trees, download from https://graphviz.org/download/ then install\n",
    "# 7. Now, can run the following python code"
   ]
  },
  {
   "cell_type": "code",
   "execution_count": 3,
   "id": "55f88cca",
   "metadata": {},
   "outputs": [
    {
     "name": "stderr",
     "output_type": "stream",
     "text": [
      "2023-04-14 10:11:45 INFO: Checking for updates to resources.json in case models have been updated.  Note: this behavior can be turned off with download_method=None or download_method=DownloadMethod.REUSE_RESOURCES\n"
     ]
    },
    {
     "data": {
      "application/vnd.jupyter.widget-view+json": {
       "model_id": "763bb9c5bb234a5c8fc541a0864d029c",
       "version_major": 2,
       "version_minor": 0
      },
      "text/plain": [
       "Downloading https://raw.githubusercontent.com/stanfordnlp/stanza-resources/main/resources_1.4.1.json:   0%|   …"
      ]
     },
     "metadata": {},
     "output_type": "display_data"
    },
    {
     "name": "stderr",
     "output_type": "stream",
     "text": [
      "2023-04-14 10:11:47 INFO: Loading these models for language: en (English):\n",
      "============================\n",
      "| Processor    | Package   |\n",
      "----------------------------\n",
      "| tokenize     | combined  |\n",
      "| pos          | combined  |\n",
      "| lemma        | combined  |\n",
      "| depparse     | combined  |\n",
      "| sentiment    | sstplus   |\n",
      "| constituency | wsj       |\n",
      "| ner          | ontonotes |\n",
      "============================\n",
      "\n",
      "2023-04-14 10:11:48 INFO: Use device: gpu\n",
      "2023-04-14 10:11:48 INFO: Loading: tokenize\n",
      "2023-04-14 10:11:50 INFO: Loading: pos\n",
      "2023-04-14 10:11:50 INFO: Loading: lemma\n",
      "2023-04-14 10:11:50 INFO: Loading: depparse\n",
      "2023-04-14 10:11:50 INFO: Loading: sentiment\n",
      "2023-04-14 10:11:51 INFO: Loading: constituency\n",
      "2023-04-14 10:11:51 INFO: Loading: ner\n",
      "2023-04-14 10:11:52 INFO: Done loading processors!\n"
     ]
    }
   ],
   "source": [
    "nlp = stanza.Pipeline(lang=\"en\") # Initialize the default English pipeline"
   ]
  },
  {
   "cell_type": "code",
   "execution_count": 4,
   "id": "558ddad1",
   "metadata": {},
   "outputs": [],
   "source": [
    "phrase1 = \"will not be judged by the color of their skin but by the content of their character.\"\n",
    "phrase2 = \"we may not have come from the same place, but we all want to move in the same direction.\"\n",
    "phrase3 = \"embracing the burdens of our past without becoming victims of our past.\"\n",
    "phrase4 = \"That's one small step for man, one giant leap for mankind.\"\n",
    "phrase5 = \"We may not have come from the same place but we want to move in the same direction.\""
   ]
  },
  {
   "cell_type": "code",
   "execution_count": 5,
   "id": "7dc85363",
   "metadata": {},
   "outputs": [
    {
     "name": "stdout",
     "output_type": "stream",
     "text": [
      "id: 1\tword: embracing\thead id: 0\thead: root\tdeprel: root\n",
      "id: 2\tword: the\thead id: 3\thead: burdens\tdeprel: det\n",
      "id: 3\tword: burdens\thead id: 1\thead: embracing\tdeprel: obj\n",
      "id: 4\tword: of\thead id: 6\thead: past\tdeprel: case\n",
      "id: 5\tword: our\thead id: 6\thead: past\tdeprel: nmod:poss\n",
      "id: 6\tword: past\thead id: 3\thead: burdens\tdeprel: nmod\n",
      "id: 7\tword: without\thead id: 8\thead: becoming\tdeprel: mark\n",
      "id: 8\tword: becoming\thead id: 1\thead: embracing\tdeprel: advcl\n",
      "id: 9\tword: victims\thead id: 8\thead: becoming\tdeprel: obj\n",
      "id: 10\tword: of\thead id: 12\thead: past\tdeprel: case\n",
      "id: 11\tword: our\thead id: 12\thead: past\tdeprel: nmod:poss\n",
      "id: 12\tword: past\thead id: 9\thead: victims\tdeprel: nmod\n",
      "id: 13\tword: .\thead id: 1\thead: embracing\tdeprel: punct\n"
     ]
    }
   ],
   "source": [
    "doc = nlp(phrase3)\n",
    "print(*[f'id: {word.id}\\tword: {word.text}\\thead id: {word.head}\\thead: {sent.words[word.head-1].text if word.head > 0 else \"root\"}\\tdeprel: {word.deprel}' for sent in doc.sentences for word in sent.words], sep='\\n')"
   ]
  },
  {
   "cell_type": "code",
   "execution_count": 6,
   "id": "f6e4a238",
   "metadata": {},
   "outputs": [],
   "source": [
    "os.environ[\"PATH\"] += os.pathsep + 'C:/Program Files/Graphviz/bin/'"
   ]
  },
  {
   "cell_type": "code",
   "execution_count": 7,
   "id": "d9bd5f46",
   "metadata": {},
   "outputs": [
    {
     "data": {
      "text/plain": [
       "'dep_tree_p4_nopunc.png'"
      ]
     },
     "execution_count": 7,
     "metadata": {},
     "output_type": "execute_result"
    }
   ],
   "source": [
    "sdp = CoreNLPDependencyParser()\n",
    "sentence = phrase4\n",
    "result = list(sdp.raw_parse(sentence))\n",
    "dep_tree_dot_repr = [parse for parse in result][0].to_dot()\n",
    "source = Source(dep_tree_dot_repr, filename=\"dep_tree_p4_nopunc\", format='png')\n",
    "source.view()\n",
    "# Opens in pop-under window... well isn't that nice!"
   ]
  },
  {
   "cell_type": "code",
   "execution_count": 8,
   "id": "fe91d741",
   "metadata": {},
   "outputs": [
    {
     "data": {
      "image/svg+xml": [
       "<?xml version=\"1.0\" encoding=\"UTF-8\" standalone=\"no\"?>\n",
       "<!DOCTYPE svg PUBLIC \"-//W3C//DTD SVG 1.1//EN\"\n",
       " \"http://www.w3.org/Graphics/SVG/1.1/DTD/svg11.dtd\">\n",
       "<!-- Generated by graphviz version 7.1.0 (20230121.1956)\n",
       " -->\n",
       "<!-- Title: G Pages: 1 -->\n",
       "<svg width=\"568pt\" height=\"479pt\"\n",
       " viewBox=\"0.00 0.00 568.00 479.00\" xmlns=\"http://www.w3.org/2000/svg\" xmlns:xlink=\"http://www.w3.org/1999/xlink\">\n",
       "<g id=\"graph0\" class=\"graph\" transform=\"scale(1 1) rotate(0) translate(4 475)\">\n",
       "<title>G</title>\n",
       "<polygon fill=\"white\" stroke=\"none\" points=\"-4,4 -4,-475 564,-475 564,4 -4,4\"/>\n",
       "<!-- 0 -->\n",
       "<g id=\"node1\" class=\"node\">\n",
       "<title>0</title>\n",
       "<text text-anchor=\"middle\" x=\"219\" y=\"-449.3\" font-family=\"Times New Roman,serif\" font-size=\"14.00\">0 (None)</text>\n",
       "</g>\n",
       "<!-- 5 -->\n",
       "<g id=\"node2\" class=\"node\">\n",
       "<title>5</title>\n",
       "<text text-anchor=\"middle\" x=\"219\" y=\"-362.3\" font-family=\"Times New Roman,serif\" font-size=\"14.00\">5 (step)</text>\n",
       "</g>\n",
       "<!-- 0&#45;&gt;5 -->\n",
       "<g id=\"edge1\" class=\"edge\">\n",
       "<title>0&#45;&gt;5</title>\n",
       "<path fill=\"none\" stroke=\"black\" d=\"M219,-435.21C219,-423.8 219,-408.43 219,-395.17\"/>\n",
       "<polygon fill=\"black\" stroke=\"black\" points=\"222.5,-395.27 219,-385.27 215.5,-395.27 222.5,-395.27\"/>\n",
       "<text text-anchor=\"middle\" x=\"239\" y=\"-405.8\" font-family=\"Times New Roman,serif\" font-size=\"14.00\">ROOT</text>\n",
       "</g>\n",
       "<!-- 1 -->\n",
       "<g id=\"node3\" class=\"node\">\n",
       "<title>1</title>\n",
       "<text text-anchor=\"middle\" x=\"31\" y=\"-275.3\" font-family=\"Times New Roman,serif\" font-size=\"14.00\">1 (That)</text>\n",
       "</g>\n",
       "<!-- 5&#45;&gt;1 -->\n",
       "<g id=\"edge2\" class=\"edge\">\n",
       "<title>5&#45;&gt;1</title>\n",
       "<path fill=\"none\" stroke=\"black\" d=\"M189.81,-358.42C166.47,-352.59 133.26,-342.97 106,-330 90.65,-322.69 74.82,-312.59 61.69,-303.37\"/>\n",
       "<polygon fill=\"black\" stroke=\"black\" points=\"64.03,-300.75 53.87,-297.75 59.95,-306.43 64.03,-300.75\"/>\n",
       "<text text-anchor=\"middle\" x=\"121.5\" y=\"-318.8\" font-family=\"Times New Roman,serif\" font-size=\"14.00\">nsubj</text>\n",
       "</g>\n",
       "<!-- 2 -->\n",
       "<g id=\"node4\" class=\"node\">\n",
       "<title>2</title>\n",
       "<text text-anchor=\"middle\" x=\"107\" y=\"-275.3\" font-family=\"Times New Roman,serif\" font-size=\"14.00\">2 (&#39;s)</text>\n",
       "</g>\n",
       "<!-- 5&#45;&gt;2 -->\n",
       "<g id=\"edge3\" class=\"edge\">\n",
       "<title>5&#45;&gt;2</title>\n",
       "<path fill=\"none\" stroke=\"black\" d=\"M189.58,-350.52C178.92,-344.73 167.04,-337.63 157,-330 147.32,-322.65 137.65,-313.51 129.43,-305.06\"/>\n",
       "<polygon fill=\"black\" stroke=\"black\" points=\"132.2,-302.89 122.79,-298.03 127.11,-307.7 132.2,-302.89\"/>\n",
       "<text text-anchor=\"middle\" x=\"168\" y=\"-318.8\" font-family=\"Times New Roman,serif\" font-size=\"14.00\">cop</text>\n",
       "</g>\n",
       "<!-- 3 -->\n",
       "<g id=\"node5\" class=\"node\">\n",
       "<title>3</title>\n",
       "<text text-anchor=\"middle\" x=\"180\" y=\"-275.3\" font-family=\"Times New Roman,serif\" font-size=\"14.00\">3 (one)</text>\n",
       "</g>\n",
       "<!-- 5&#45;&gt;3 -->\n",
       "<g id=\"edge4\" class=\"edge\">\n",
       "<title>5&#45;&gt;3</title>\n",
       "<path fill=\"none\" stroke=\"black\" d=\"M199.73,-348.03C194.83,-342.74 190.09,-336.56 187,-330 183.85,-323.31 182.02,-315.61 180.98,-308.28\"/>\n",
       "<polygon fill=\"black\" stroke=\"black\" points=\"184.47,-308.05 180.04,-298.43 177.5,-308.72 184.47,-308.05\"/>\n",
       "<text text-anchor=\"middle\" x=\"212\" y=\"-318.8\" font-family=\"Times New Roman,serif\" font-size=\"14.00\">nummod</text>\n",
       "</g>\n",
       "<!-- 4 -->\n",
       "<g id=\"node6\" class=\"node\">\n",
       "<title>4</title>\n",
       "<text text-anchor=\"middle\" x=\"259\" y=\"-275.3\" font-family=\"Times New Roman,serif\" font-size=\"14.00\">4 (small)</text>\n",
       "</g>\n",
       "<!-- 5&#45;&gt;4 -->\n",
       "<g id=\"edge5\" class=\"edge\">\n",
       "<title>5&#45;&gt;4</title>\n",
       "<path fill=\"none\" stroke=\"black\" d=\"M228,-348.01C230.94,-342.32 234.18,-335.92 237,-330 240.51,-322.64 244.14,-314.58 247.42,-307.12\"/>\n",
       "<polygon fill=\"black\" stroke=\"black\" points=\"250.54,-308.74 251.31,-298.17 244.12,-305.95 250.54,-308.74\"/>\n",
       "<text text-anchor=\"middle\" x=\"260\" y=\"-318.8\" font-family=\"Times New Roman,serif\" font-size=\"14.00\">amod</text>\n",
       "</g>\n",
       "<!-- 7 -->\n",
       "<g id=\"node7\" class=\"node\">\n",
       "<title>7</title>\n",
       "<text text-anchor=\"middle\" x=\"339\" y=\"-275.3\" font-family=\"Times New Roman,serif\" font-size=\"14.00\">7 (man)</text>\n",
       "</g>\n",
       "<!-- 5&#45;&gt;7 -->\n",
       "<g id=\"edge6\" class=\"edge\">\n",
       "<title>5&#45;&gt;7</title>\n",
       "<path fill=\"none\" stroke=\"black\" d=\"M248.21,-349.66C258.51,-343.89 270.01,-337.01 280,-330 291.02,-322.26 302.46,-312.91 312.31,-304.4\"/>\n",
       "<polygon fill=\"black\" stroke=\"black\" points=\"314.51,-307.13 319.7,-297.89 309.88,-301.88 314.51,-307.13\"/>\n",
       "<text text-anchor=\"middle\" x=\"315.5\" y=\"-318.8\" font-family=\"Times New Roman,serif\" font-size=\"14.00\">nmod</text>\n",
       "</g>\n",
       "<!-- 14 -->\n",
       "<g id=\"node8\" class=\"node\">\n",
       "<title>14</title>\n",
       "<text text-anchor=\"middle\" x=\"414\" y=\"-275.3\" font-family=\"Times New Roman,serif\" font-size=\"14.00\">14 (.)</text>\n",
       "</g>\n",
       "<!-- 5&#45;&gt;14 -->\n",
       "<g id=\"edge7\" class=\"edge\">\n",
       "<title>5&#45;&gt;14</title>\n",
       "<path fill=\"none\" stroke=\"black\" d=\"M248.19,-358.68C272.37,-352.87 307.29,-343.18 336,-330 351.88,-322.71 368.33,-312.6 382,-303.38\"/>\n",
       "<polygon fill=\"black\" stroke=\"black\" points=\"383.94,-306.3 390.18,-297.74 379.96,-300.54 383.94,-306.3\"/>\n",
       "<text text-anchor=\"middle\" x=\"379\" y=\"-318.8\" font-family=\"Times New Roman,serif\" font-size=\"14.00\">punct</text>\n",
       "</g>\n",
       "<!-- 6 -->\n",
       "<g id=\"node9\" class=\"node\">\n",
       "<title>6</title>\n",
       "<text text-anchor=\"middle\" x=\"267\" y=\"-188.3\" font-family=\"Times New Roman,serif\" font-size=\"14.00\">6 (for)</text>\n",
       "</g>\n",
       "<!-- 7&#45;&gt;6 -->\n",
       "<g id=\"edge8\" class=\"edge\">\n",
       "<title>7&#45;&gt;6</title>\n",
       "<path fill=\"none\" stroke=\"black\" d=\"M324.78,-261.21C314.42,-248.98 300.22,-232.21 288.48,-218.36\"/>\n",
       "<polygon fill=\"black\" stroke=\"black\" points=\"291.31,-216.28 282.17,-210.91 285.97,-220.81 291.31,-216.28\"/>\n",
       "<text text-anchor=\"middle\" x=\"320.5\" y=\"-231.8\" font-family=\"Times New Roman,serif\" font-size=\"14.00\">case</text>\n",
       "</g>\n",
       "<!-- 8 -->\n",
       "<g id=\"node10\" class=\"node\">\n",
       "<title>8</title>\n",
       "<text text-anchor=\"middle\" x=\"339\" y=\"-188.3\" font-family=\"Times New Roman,serif\" font-size=\"14.00\">8 (,)</text>\n",
       "</g>\n",
       "<!-- 7&#45;&gt;8 -->\n",
       "<g id=\"edge9\" class=\"edge\">\n",
       "<title>7&#45;&gt;8</title>\n",
       "<path fill=\"none\" stroke=\"black\" d=\"M339,-261.21C339,-249.8 339,-234.43 339,-221.17\"/>\n",
       "<polygon fill=\"black\" stroke=\"black\" points=\"342.5,-221.27 339,-211.27 335.5,-221.27 342.5,-221.27\"/>\n",
       "<text text-anchor=\"middle\" x=\"355\" y=\"-231.8\" font-family=\"Times New Roman,serif\" font-size=\"14.00\">punct</text>\n",
       "</g>\n",
       "<!-- 11 -->\n",
       "<g id=\"node11\" class=\"node\">\n",
       "<title>11</title>\n",
       "<text text-anchor=\"middle\" x=\"417\" y=\"-188.3\" font-family=\"Times New Roman,serif\" font-size=\"14.00\">11 (leap)</text>\n",
       "</g>\n",
       "<!-- 7&#45;&gt;11 -->\n",
       "<g id=\"edge10\" class=\"edge\">\n",
       "<title>7&#45;&gt;11</title>\n",
       "<path fill=\"none\" stroke=\"black\" d=\"M356.93,-261.26C362.81,-255.58 369.3,-249.13 375,-243 382.29,-235.16 389.92,-226.3 396.64,-218.24\"/>\n",
       "<polygon fill=\"black\" stroke=\"black\" points=\"399.16,-220.68 402.82,-210.74 393.76,-216.23 399.16,-220.68\"/>\n",
       "<text text-anchor=\"middle\" x=\"406.5\" y=\"-231.8\" font-family=\"Times New Roman,serif\" font-size=\"14.00\">appos</text>\n",
       "</g>\n",
       "<!-- 9 -->\n",
       "<g id=\"node12\" class=\"node\">\n",
       "<title>9</title>\n",
       "<text text-anchor=\"middle\" x=\"336\" y=\"-101.3\" font-family=\"Times New Roman,serif\" font-size=\"14.00\">9 (one)</text>\n",
       "</g>\n",
       "<!-- 11&#45;&gt;9 -->\n",
       "<g id=\"edge11\" class=\"edge\">\n",
       "<title>11&#45;&gt;9</title>\n",
       "<path fill=\"none\" stroke=\"black\" d=\"M385.25,-174.17C377.37,-169.03 369.37,-162.9 363,-156 356.77,-149.25 351.49,-140.79 347.31,-132.75\"/>\n",
       "<polygon fill=\"black\" stroke=\"black\" points=\"350.58,-131.49 343.1,-123.99 344.27,-134.52 350.58,-131.49\"/>\n",
       "<text text-anchor=\"middle\" x=\"388\" y=\"-144.8\" font-family=\"Times New Roman,serif\" font-size=\"14.00\">nummod</text>\n",
       "</g>\n",
       "<!-- 10 -->\n",
       "<g id=\"node13\" class=\"node\">\n",
       "<title>10</title>\n",
       "<text text-anchor=\"middle\" x=\"417\" y=\"-101.3\" font-family=\"Times New Roman,serif\" font-size=\"14.00\">10 (giant)</text>\n",
       "</g>\n",
       "<!-- 11&#45;&gt;10 -->\n",
       "<g id=\"edge12\" class=\"edge\">\n",
       "<title>11&#45;&gt;10</title>\n",
       "<path fill=\"none\" stroke=\"black\" d=\"M417,-174.21C417,-162.8 417,-147.43 417,-134.17\"/>\n",
       "<polygon fill=\"black\" stroke=\"black\" points=\"420.5,-134.27 417,-124.27 413.5,-134.27 420.5,-134.27\"/>\n",
       "<text text-anchor=\"middle\" x=\"433\" y=\"-144.8\" font-family=\"Times New Roman,serif\" font-size=\"14.00\">amod</text>\n",
       "</g>\n",
       "<!-- 13 -->\n",
       "<g id=\"node14\" class=\"node\">\n",
       "<title>13</title>\n",
       "<text text-anchor=\"middle\" x=\"515\" y=\"-101.3\" font-family=\"Times New Roman,serif\" font-size=\"14.00\">13 (mankind)</text>\n",
       "</g>\n",
       "<!-- 11&#45;&gt;13 -->\n",
       "<g id=\"edge13\" class=\"edge\">\n",
       "<title>11&#45;&gt;13</title>\n",
       "<path fill=\"none\" stroke=\"black\" d=\"M436.36,-174.21C450.86,-161.63 470.9,-144.25 487.12,-130.18\"/>\n",
       "<polygon fill=\"black\" stroke=\"black\" points=\"489.27,-132.95 494.54,-123.75 484.69,-127.66 489.27,-132.95\"/>\n",
       "<text text-anchor=\"middle\" x=\"488.5\" y=\"-144.8\" font-family=\"Times New Roman,serif\" font-size=\"14.00\">nmod</text>\n",
       "</g>\n",
       "<!-- 12 -->\n",
       "<g id=\"node15\" class=\"node\">\n",
       "<title>12</title>\n",
       "<text text-anchor=\"middle\" x=\"515\" y=\"-14.3\" font-family=\"Times New Roman,serif\" font-size=\"14.00\">12 (for)</text>\n",
       "</g>\n",
       "<!-- 13&#45;&gt;12 -->\n",
       "<g id=\"edge14\" class=\"edge\">\n",
       "<title>13&#45;&gt;12</title>\n",
       "<path fill=\"none\" stroke=\"black\" d=\"M515,-87.21C515,-75.8 515,-60.43 515,-47.17\"/>\n",
       "<polygon fill=\"black\" stroke=\"black\" points=\"518.5,-47.27 515,-37.27 511.5,-47.27 518.5,-47.27\"/>\n",
       "<text text-anchor=\"middle\" x=\"527.5\" y=\"-57.8\" font-family=\"Times New Roman,serif\" font-size=\"14.00\">case</text>\n",
       "</g>\n",
       "</g>\n",
       "</svg>\n"
      ],
      "text/plain": [
       "<graphviz.sources.Source at 0x1d4b433b850>"
      ]
     },
     "execution_count": 8,
     "metadata": {},
     "output_type": "execute_result"
    }
   ],
   "source": [
    "# Graph image doesn't get saved, need to re-run the code\n",
    "source"
   ]
  },
  {
   "cell_type": "code",
   "execution_count": 9,
   "id": "f000236c",
   "metadata": {},
   "outputs": [
    {
     "name": "stdout",
     "output_type": "stream",
     "text": [
      "(step That 's one small (man for , (leap one giant (mankind for))) .)\n"
     ]
    }
   ],
   "source": [
    "parse, = sdp.raw_parse(phrase4)\n",
    "print(parse.tree())"
   ]
  },
  {
   "cell_type": "code",
   "execution_count": 10,
   "id": "774eb073",
   "metadata": {},
   "outputs": [
    {
     "name": "stdout",
     "output_type": "stream",
     "text": [
      "('step', 'NN') nsubj ('That', 'DT')\n",
      "('step', 'NN') cop (\"'s\", 'VBZ')\n",
      "('step', 'NN') nummod ('one', 'CD')\n",
      "('step', 'NN') amod ('small', 'JJ')\n",
      "('step', 'NN') nmod ('man', 'NN')\n",
      "('man', 'NN') case ('for', 'IN')\n",
      "('man', 'NN') punct (',', ',')\n",
      "('man', 'NN') appos ('leap', 'NN')\n",
      "('leap', 'NN') nummod ('one', 'CD')\n",
      "('leap', 'NN') amod ('giant', 'JJ')\n",
      "('leap', 'NN') nmod ('mankind', 'NN')\n",
      "('mankind', 'NN') case ('for', 'IN')\n",
      "('step', 'NN') punct ('.', '.')\n"
     ]
    }
   ],
   "source": [
    "for gov, dep, dependent in parse.triples():\n",
    "    print(gov, dep, dependent)"
   ]
  },
  {
   "cell_type": "code",
   "execution_count": 11,
   "id": "3491b2c3",
   "metadata": {},
   "outputs": [
    {
     "name": "stdout",
     "output_type": "stream",
     "text": [
      "                            ROOT                                       \n",
      "                             |                                          \n",
      "                             S                                         \n",
      "  ___________________________|_______________________________________   \n",
      " |                           VP                                      | \n",
      " |     ______________________|____                                   |  \n",
      " |    |                           NP                                 | \n",
      " |    |         __________________|___                               |  \n",
      " |    |        |                      PP                             | \n",
      " |    |        |          ____________|____                          |  \n",
      " |    |        |         |                 NP                        | \n",
      " |    |        |         |    _____________|____                     |  \n",
      " |    |        |         |   |    |             NP                   | \n",
      " |    |        |         |   |    |         ____|________            |  \n",
      " |    |        |         |   |    |        |             PP          | \n",
      " |    |        |         |   |    |        |          ___|_____      |  \n",
      " NP   |        NP        |   NP   |        NP        |         NP    | \n",
      " |    |    ____|____     |   |    |    ____|____     |         |     |  \n",
      " DT  VBZ  CD   JJ   NN   IN  NN   ,   CD   JJ   NN   IN        NN    . \n",
      " |    |   |    |    |    |   |    |   |    |    |    |         |     |  \n",
      "That  's one small step for man   ,  one giant leap for     mankind  . \n",
      "\n"
     ]
    }
   ],
   "source": [
    "parser = CoreNLPParser()\n",
    "sent, = parser.parse_text(phrase4)\n",
    "sent.pretty_print()"
   ]
  },
  {
   "cell_type": "code",
   "execution_count": 12,
   "id": "aaeb4de3",
   "metadata": {},
   "outputs": [
    {
     "data": {
      "image/svg+xml": [
       "<svg baseProfile=\"full\" height=\"504px\" preserveAspectRatio=\"xMidYMid meet\" style=\"font-family: times, serif; font-weight:normal; font-style: normal; font-size: 16px;\" version=\"1.1\" viewBox=\"0,0,616.0,504.0\" width=\"616px\" xmlns=\"http://www.w3.org/2000/svg\" xmlns:ev=\"http://www.w3.org/2001/xml-events\" xmlns:xlink=\"http://www.w3.org/1999/xlink\"><defs /><svg width=\"100%\" x=\"0\" y=\"0em\"><defs /><text text-anchor=\"middle\" x=\"50%\" y=\"1em\">ROOT</text></svg><svg width=\"100%\" x=\"0%\" y=\"3em\"><defs /><svg width=\"100%\" x=\"0\" y=\"0em\"><defs /><text text-anchor=\"middle\" x=\"50%\" y=\"1em\">S</text></svg><svg width=\"7.79221%\" x=\"0%\" y=\"3em\"><defs /><svg width=\"100%\" x=\"0\" y=\"0em\"><defs /><text text-anchor=\"middle\" x=\"50%\" y=\"1em\">NP</text></svg><svg width=\"100%\" x=\"0%\" y=\"3em\"><defs /><svg width=\"100%\" x=\"0\" y=\"0em\"><defs /><text text-anchor=\"middle\" x=\"50%\" y=\"1em\">DT</text></svg><svg width=\"100%\" x=\"0%\" y=\"3em\"><defs /><svg width=\"100%\" x=\"0\" y=\"0em\"><defs /><text text-anchor=\"middle\" x=\"50%\" y=\"1em\">That</text></svg></svg><line stroke=\"black\" x1=\"50%\" x2=\"50%\" y1=\"1.2em\" y2=\"3em\" /></svg><line stroke=\"black\" x1=\"50%\" x2=\"50%\" y1=\"1.2em\" y2=\"3em\" /></svg><line stroke=\"black\" x1=\"50%\" x2=\"3.8961%\" y1=\"1.2em\" y2=\"3em\" /><svg width=\"88.3117%\" x=\"7.79221%\" y=\"3em\"><defs /><svg width=\"100%\" x=\"0\" y=\"0em\"><defs /><text text-anchor=\"middle\" x=\"50%\" y=\"1em\">VP</text></svg><svg width=\"7.35294%\" x=\"0%\" y=\"3em\"><defs /><svg width=\"100%\" x=\"0\" y=\"0em\"><defs /><text text-anchor=\"middle\" x=\"50%\" y=\"1em\">VBZ</text></svg><svg width=\"100%\" x=\"0%\" y=\"3em\"><defs /><svg width=\"100%\" x=\"0\" y=\"0em\"><defs /><text text-anchor=\"middle\" x=\"50%\" y=\"1em\">'s</text></svg></svg><line stroke=\"black\" x1=\"50%\" x2=\"50%\" y1=\"1.2em\" y2=\"3em\" /></svg><line stroke=\"black\" x1=\"50%\" x2=\"3.67647%\" y1=\"1.2em\" y2=\"3em\" /><svg width=\"92.6471%\" x=\"7.35294%\" y=\"3em\"><defs /><svg width=\"100%\" x=\"0\" y=\"0em\"><defs /><text text-anchor=\"middle\" x=\"50%\" y=\"1em\">NP</text></svg><svg width=\"28.5714%\" x=\"0%\" y=\"3em\"><defs /><svg width=\"100%\" x=\"0\" y=\"0em\"><defs /><text text-anchor=\"middle\" x=\"50%\" y=\"1em\">NP</text></svg><svg width=\"27.7778%\" x=\"0%\" y=\"3em\"><defs /><svg width=\"100%\" x=\"0\" y=\"0em\"><defs /><text text-anchor=\"middle\" x=\"50%\" y=\"1em\">CD</text></svg><svg width=\"100%\" x=\"0%\" y=\"3em\"><defs /><svg width=\"100%\" x=\"0\" y=\"0em\"><defs /><text text-anchor=\"middle\" x=\"50%\" y=\"1em\">one</text></svg></svg><line stroke=\"black\" x1=\"50%\" x2=\"50%\" y1=\"1.2em\" y2=\"3em\" /></svg><line stroke=\"black\" x1=\"50%\" x2=\"13.8889%\" y1=\"1.2em\" y2=\"3em\" /><svg width=\"38.8889%\" x=\"27.7778%\" y=\"3em\"><defs /><svg width=\"100%\" x=\"0\" y=\"0em\"><defs /><text text-anchor=\"middle\" x=\"50%\" y=\"1em\">JJ</text></svg><svg width=\"100%\" x=\"0%\" y=\"3em\"><defs /><svg width=\"100%\" x=\"0\" y=\"0em\"><defs /><text text-anchor=\"middle\" x=\"50%\" y=\"1em\">small</text></svg></svg><line stroke=\"black\" x1=\"50%\" x2=\"50%\" y1=\"1.2em\" y2=\"3em\" /></svg><line stroke=\"black\" x1=\"50%\" x2=\"47.2222%\" y1=\"1.2em\" y2=\"3em\" /><svg width=\"33.3333%\" x=\"66.6667%\" y=\"3em\"><defs /><svg width=\"100%\" x=\"0\" y=\"0em\"><defs /><text text-anchor=\"middle\" x=\"50%\" y=\"1em\">NN</text></svg><svg width=\"100%\" x=\"0%\" y=\"3em\"><defs /><svg width=\"100%\" x=\"0\" y=\"0em\"><defs /><text text-anchor=\"middle\" x=\"50%\" y=\"1em\">step</text></svg></svg><line stroke=\"black\" x1=\"50%\" x2=\"50%\" y1=\"1.2em\" y2=\"3em\" /></svg><line stroke=\"black\" x1=\"50%\" x2=\"83.3333%\" y1=\"1.2em\" y2=\"3em\" /></svg><line stroke=\"black\" x1=\"50%\" x2=\"14.2857%\" y1=\"1.2em\" y2=\"3em\" /><svg width=\"71.4286%\" x=\"28.5714%\" y=\"3em\"><defs /><svg width=\"100%\" x=\"0\" y=\"0em\"><defs /><text text-anchor=\"middle\" x=\"50%\" y=\"1em\">PP</text></svg><svg width=\"11.1111%\" x=\"0%\" y=\"3em\"><defs /><svg width=\"100%\" x=\"0\" y=\"0em\"><defs /><text text-anchor=\"middle\" x=\"50%\" y=\"1em\">IN</text></svg><svg width=\"100%\" x=\"0%\" y=\"3em\"><defs /><svg width=\"100%\" x=\"0\" y=\"0em\"><defs /><text text-anchor=\"middle\" x=\"50%\" y=\"1em\">for</text></svg></svg><line stroke=\"black\" x1=\"50%\" x2=\"50%\" y1=\"1.2em\" y2=\"3em\" /></svg><line stroke=\"black\" x1=\"50%\" x2=\"5.55556%\" y1=\"1.2em\" y2=\"3em\" /><svg width=\"88.8889%\" x=\"11.1111%\" y=\"3em\"><defs /><svg width=\"100%\" x=\"0\" y=\"0em\"><defs /><text text-anchor=\"middle\" x=\"50%\" y=\"1em\">NP</text></svg><svg width=\"12.5%\" x=\"0%\" y=\"3em\"><defs /><svg width=\"100%\" x=\"0\" y=\"0em\"><defs /><text text-anchor=\"middle\" x=\"50%\" y=\"1em\">NP</text></svg><svg width=\"100%\" x=\"0%\" y=\"3em\"><defs /><svg width=\"100%\" x=\"0\" y=\"0em\"><defs /><text text-anchor=\"middle\" x=\"50%\" y=\"1em\">NN</text></svg><svg width=\"100%\" x=\"0%\" y=\"3em\"><defs /><svg width=\"100%\" x=\"0\" y=\"0em\"><defs /><text text-anchor=\"middle\" x=\"50%\" y=\"1em\">man</text></svg></svg><line stroke=\"black\" x1=\"50%\" x2=\"50%\" y1=\"1.2em\" y2=\"3em\" /></svg><line stroke=\"black\" x1=\"50%\" x2=\"50%\" y1=\"1.2em\" y2=\"3em\" /></svg><line stroke=\"black\" x1=\"50%\" x2=\"6.25%\" y1=\"1.2em\" y2=\"3em\" /><svg width=\"7.5%\" x=\"12.5%\" y=\"3em\"><defs /><svg width=\"100%\" x=\"0\" y=\"0em\"><defs /><text text-anchor=\"middle\" x=\"50%\" y=\"1em\">,</text></svg><svg width=\"100%\" x=\"0%\" y=\"3em\"><defs /><svg width=\"100%\" x=\"0\" y=\"0em\"><defs /><text text-anchor=\"middle\" x=\"50%\" y=\"1em\">,</text></svg></svg><line stroke=\"black\" x1=\"50%\" x2=\"50%\" y1=\"1.2em\" y2=\"3em\" /></svg><line stroke=\"black\" x1=\"50%\" x2=\"16.25%\" y1=\"1.2em\" y2=\"3em\" /><svg width=\"80%\" x=\"20%\" y=\"3em\"><defs /><svg width=\"100%\" x=\"0\" y=\"0em\"><defs /><text text-anchor=\"middle\" x=\"50%\" y=\"1em\">NP</text></svg><svg width=\"56.25%\" x=\"0%\" y=\"3em\"><defs /><svg width=\"100%\" x=\"0\" y=\"0em\"><defs /><text text-anchor=\"middle\" x=\"50%\" y=\"1em\">NP</text></svg><svg width=\"27.7778%\" x=\"0%\" y=\"3em\"><defs /><svg width=\"100%\" x=\"0\" y=\"0em\"><defs /><text text-anchor=\"middle\" x=\"50%\" y=\"1em\">CD</text></svg><svg width=\"100%\" x=\"0%\" y=\"3em\"><defs /><svg width=\"100%\" x=\"0\" y=\"0em\"><defs /><text text-anchor=\"middle\" x=\"50%\" y=\"1em\">one</text></svg></svg><line stroke=\"black\" x1=\"50%\" x2=\"50%\" y1=\"1.2em\" y2=\"3em\" /></svg><line stroke=\"black\" x1=\"50%\" x2=\"13.8889%\" y1=\"1.2em\" y2=\"3em\" /><svg width=\"38.8889%\" x=\"27.7778%\" y=\"3em\"><defs /><svg width=\"100%\" x=\"0\" y=\"0em\"><defs /><text text-anchor=\"middle\" x=\"50%\" y=\"1em\">JJ</text></svg><svg width=\"100%\" x=\"0%\" y=\"3em\"><defs /><svg width=\"100%\" x=\"0\" y=\"0em\"><defs /><text text-anchor=\"middle\" x=\"50%\" y=\"1em\">giant</text></svg></svg><line stroke=\"black\" x1=\"50%\" x2=\"50%\" y1=\"1.2em\" y2=\"3em\" /></svg><line stroke=\"black\" x1=\"50%\" x2=\"47.2222%\" y1=\"1.2em\" y2=\"3em\" /><svg width=\"33.3333%\" x=\"66.6667%\" y=\"3em\"><defs /><svg width=\"100%\" x=\"0\" y=\"0em\"><defs /><text text-anchor=\"middle\" x=\"50%\" y=\"1em\">NN</text></svg><svg width=\"100%\" x=\"0%\" y=\"3em\"><defs /><svg width=\"100%\" x=\"0\" y=\"0em\"><defs /><text text-anchor=\"middle\" x=\"50%\" y=\"1em\">leap</text></svg></svg><line stroke=\"black\" x1=\"50%\" x2=\"50%\" y1=\"1.2em\" y2=\"3em\" /></svg><line stroke=\"black\" x1=\"50%\" x2=\"83.3333%\" y1=\"1.2em\" y2=\"3em\" /></svg><line stroke=\"black\" x1=\"50%\" x2=\"28.125%\" y1=\"1.2em\" y2=\"3em\" /><svg width=\"43.75%\" x=\"56.25%\" y=\"3em\"><defs /><svg width=\"100%\" x=\"0\" y=\"0em\"><defs /><text text-anchor=\"middle\" x=\"50%\" y=\"1em\">PP</text></svg><svg width=\"35.7143%\" x=\"0%\" y=\"3em\"><defs /><svg width=\"100%\" x=\"0\" y=\"0em\"><defs /><text text-anchor=\"middle\" x=\"50%\" y=\"1em\">IN</text></svg><svg width=\"100%\" x=\"0%\" y=\"3em\"><defs /><svg width=\"100%\" x=\"0\" y=\"0em\"><defs /><text text-anchor=\"middle\" x=\"50%\" y=\"1em\">for</text></svg></svg><line stroke=\"black\" x1=\"50%\" x2=\"50%\" y1=\"1.2em\" y2=\"3em\" /></svg><line stroke=\"black\" x1=\"50%\" x2=\"17.8571%\" y1=\"1.2em\" y2=\"3em\" /><svg width=\"64.2857%\" x=\"35.7143%\" y=\"3em\"><defs /><svg width=\"100%\" x=\"0\" y=\"0em\"><defs /><text text-anchor=\"middle\" x=\"50%\" y=\"1em\">NP</text></svg><svg width=\"100%\" x=\"0%\" y=\"3em\"><defs /><svg width=\"100%\" x=\"0\" y=\"0em\"><defs /><text text-anchor=\"middle\" x=\"50%\" y=\"1em\">NN</text></svg><svg width=\"100%\" x=\"0%\" y=\"3em\"><defs /><svg width=\"100%\" x=\"0\" y=\"0em\"><defs /><text text-anchor=\"middle\" x=\"50%\" y=\"1em\">mankind</text></svg></svg><line stroke=\"black\" x1=\"50%\" x2=\"50%\" y1=\"1.2em\" y2=\"3em\" /></svg><line stroke=\"black\" x1=\"50%\" x2=\"50%\" y1=\"1.2em\" y2=\"3em\" /></svg><line stroke=\"black\" x1=\"50%\" x2=\"67.8571%\" y1=\"1.2em\" y2=\"3em\" /></svg><line stroke=\"black\" x1=\"50%\" x2=\"78.125%\" y1=\"1.2em\" y2=\"3em\" /></svg><line stroke=\"black\" x1=\"50%\" x2=\"60%\" y1=\"1.2em\" y2=\"3em\" /></svg><line stroke=\"black\" x1=\"50%\" x2=\"55.5556%\" y1=\"1.2em\" y2=\"3em\" /></svg><line stroke=\"black\" x1=\"50%\" x2=\"64.2857%\" y1=\"1.2em\" y2=\"3em\" /></svg><line stroke=\"black\" x1=\"50%\" x2=\"53.6765%\" y1=\"1.2em\" y2=\"3em\" /></svg><line stroke=\"black\" x1=\"50%\" x2=\"51.9481%\" y1=\"1.2em\" y2=\"3em\" /><svg width=\"3.8961%\" x=\"96.1039%\" y=\"3em\"><defs /><svg width=\"100%\" x=\"0\" y=\"0em\"><defs /><text text-anchor=\"middle\" x=\"50%\" y=\"1em\">.</text></svg><svg width=\"100%\" x=\"0%\" y=\"3em\"><defs /><svg width=\"100%\" x=\"0\" y=\"0em\"><defs /><text text-anchor=\"middle\" x=\"50%\" y=\"1em\">.</text></svg></svg><line stroke=\"black\" x1=\"50%\" x2=\"50%\" y1=\"1.2em\" y2=\"3em\" /></svg><line stroke=\"black\" x1=\"50%\" x2=\"98.0519%\" y1=\"1.2em\" y2=\"3em\" /></svg><line stroke=\"black\" x1=\"50%\" x2=\"50%\" y1=\"1.2em\" y2=\"3em\" /></svg>"
      ],
      "text/plain": [
       "Tree('ROOT', [Tree('S', [Tree('NP', [Tree('DT', ['That'])]), Tree('VP', [Tree('VBZ', [\"'s\"]), Tree('NP', [Tree('NP', [Tree('CD', ['one']), Tree('JJ', ['small']), Tree('NN', ['step'])]), Tree('PP', [Tree('IN', ['for']), Tree('NP', [Tree('NP', [Tree('NN', ['man'])]), Tree(',', [',']), Tree('NP', [Tree('NP', [Tree('CD', ['one']), Tree('JJ', ['giant']), Tree('NN', ['leap'])]), Tree('PP', [Tree('IN', ['for']), Tree('NP', [Tree('NN', ['mankind'])])])])])])])]), Tree('.', ['.'])])])"
      ]
     },
     "execution_count": 12,
     "metadata": {},
     "output_type": "execute_result"
    }
   ],
   "source": [
    "sent"
   ]
  },
  {
   "cell_type": "code",
   "execution_count": 13,
   "id": "a3413c8c",
   "metadata": {},
   "outputs": [],
   "source": [
    "listr = []\n",
    "def iterate(tree):\n",
    "    if len(tree) > 1:\n",
    "        for i in range(len(tree)):\n",
    "            iterate(tree[i])\n",
    "    else:\n",
    "        listr.append(tree)"
   ]
  },
  {
   "cell_type": "code",
   "execution_count": 14,
   "id": "62ae47d4",
   "metadata": {},
   "outputs": [
    {
     "data": {
      "text/plain": [
       "[Tree('NP', [Tree('DT', ['That'])]),\n",
       " Tree('VBZ', [\"'s\"]),\n",
       " Tree('CD', ['one']),\n",
       " Tree('JJ', ['small']),\n",
       " Tree('NN', ['step']),\n",
       " Tree('IN', ['for']),\n",
       " Tree('NP', [Tree('NN', ['man'])]),\n",
       " Tree(',', [',']),\n",
       " Tree('CD', ['one']),\n",
       " Tree('JJ', ['giant']),\n",
       " Tree('NN', ['leap']),\n",
       " Tree('IN', ['for']),\n",
       " Tree('NP', [Tree('NN', ['mankind'])]),\n",
       " Tree('.', ['.'])]"
      ]
     },
     "execution_count": 14,
     "metadata": {},
     "output_type": "execute_result"
    }
   ],
   "source": [
    "iterate(sent[0])\n",
    "listr"
   ]
  },
  {
   "cell_type": "code",
   "execution_count": 15,
   "id": "060a8efb",
   "metadata": {},
   "outputs": [],
   "source": [
    "with open('./Data/amrhet/barackobamaperfectunion.txt') as f:\n",
    "    text = f.read()\n",
    "sents = sent_tokenize(text)"
   ]
  },
  {
   "cell_type": "code",
   "execution_count": 16,
   "id": "165c3bc5",
   "metadata": {},
   "outputs": [],
   "source": [
    "def count_parallels(text):\n",
    "    count = 0\n",
    "    sents = sent_tokenize(text)\n",
    "    for phrase in sents:\n",
    "        try:\n",
    "            sent, = parser.parse_text(phrase)\n",
    "        except:\n",
    "            #print('----- PARSE ERROR -----')\n",
    "            #print(phrase)\n",
    "            continue\n",
    "        poss = []\n",
    "        words = []\n",
    "        for word in sent.pos():\n",
    "            poss.append(word[1])\n",
    "            words.append(word[0])\n",
    "        #print(words)\n",
    "        stop = False\n",
    "        results = []\n",
    "        for length in range(7,3,-1):\n",
    "            length = min(length, len(words))\n",
    "            for i in range(len(poss)-length+1):\n",
    "                for j in range(len(poss)-length+1):\n",
    "                    if abs(i-j) > length:\n",
    "                        if poss[i:i+length]==poss[j:j+length]:\n",
    "                            if length > 4 or (',' not in poss[i:i+length] and '``' not in poss[i:i+length]):\n",
    "                                results.append([i,j,length])\n",
    "                                count += 1\n",
    "                                stop = True\n",
    "                                break\n",
    "                if stop: break\n",
    "            if stop: break\n",
    "        '''\n",
    "        for result in results:\n",
    "            print(words[result[0]:result[0]+result[2]])\n",
    "            print(words[result[1]:result[1]+result[2]])\n",
    "            print()\n",
    "        '''\n",
    "    return(len(sents), count)"
   ]
  },
  {
   "cell_type": "code",
   "execution_count": 17,
   "id": "7a83227e",
   "metadata": {},
   "outputs": [
    {
     "name": "stderr",
     "output_type": "stream",
     "text": [
      "C:\\Users\\peter\\AppData\\Local\\Temp\\ipykernel_13688\\2984996246.py:5: SettingWithCopyWarning: \n",
      "A value is trying to be set on a copy of a slice from a DataFrame.\n",
      "Try using .loc[row_indexer,col_indexer] = value instead\n",
      "\n",
      "See the caveats in the documentation: https://pandas.pydata.org/pandas-docs/stable/user_guide/indexing.html#returning-a-view-versus-a-copy\n",
      "  oba_text['sent_count'] = 0\n",
      "C:\\Users\\peter\\AppData\\Local\\Temp\\ipykernel_13688\\2984996246.py:6: SettingWithCopyWarning: \n",
      "A value is trying to be set on a copy of a slice from a DataFrame.\n",
      "Try using .loc[row_indexer,col_indexer] = value instead\n",
      "\n",
      "See the caveats in the documentation: https://pandas.pydata.org/pandas-docs/stable/user_guide/indexing.html#returning-a-view-versus-a-copy\n",
      "  oba_text['parallel_count'] = 0\n",
      "C:\\Users\\peter\\AppData\\Local\\Temp\\ipykernel_13688\\2984996246.py:8: SettingWithCopyWarning: \n",
      "A value is trying to be set on a copy of a slice from a DataFrame.\n",
      "Try using .loc[row_indexer,col_indexer] = value instead\n",
      "\n",
      "See the caveats in the documentation: https://pandas.pydata.org/pandas-docs/stable/user_guide/indexing.html#returning-a-view-versus-a-copy\n",
      "  gwb_text['sent_count'] = 0\n",
      "C:\\Users\\peter\\AppData\\Local\\Temp\\ipykernel_13688\\2984996246.py:9: SettingWithCopyWarning: \n",
      "A value is trying to be set on a copy of a slice from a DataFrame.\n",
      "Try using .loc[row_indexer,col_indexer] = value instead\n",
      "\n",
      "See the caveats in the documentation: https://pandas.pydata.org/pandas-docs/stable/user_guide/indexing.html#returning-a-view-versus-a-copy\n",
      "  gwb_text['parallel_count'] = 0\n"
     ]
    }
   ],
   "source": [
    "oba = pd.read_csv('./Data/genData/text_sentences_words.csv')\n",
    "gwb = pd.read_csv('./Data/genData/text_sentences_words_gwb.csv')\n",
    "oba = oba.query('source == \"oba\"')\n",
    "oba_text = oba[['text', 'date']]\n",
    "oba_text['sent_count'] = 0\n",
    "oba_text['parallel_count'] = 0\n",
    "gwb_text = gwb[['text', 'date']]\n",
    "gwb_text['sent_count'] = 0\n",
    "gwb_text['parallel_count'] = 0"
   ]
  },
  {
   "cell_type": "code",
   "execution_count": 18,
   "id": "d621f2a7",
   "metadata": {},
   "outputs": [
    {
     "data": {
      "text/plain": [
       "\" don't need to run this every time\\nfor i in range(len(gwb_text.text)):\\n    sent_count, parallel_count = count_parallels(gwb_text.text[i])\\n    gwb_text['sent_count'].iloc[i] = sent_count\\n    gwb_text['parallel_count'].iloc[i] = parallel_count\\ngwb_text['parallel_per_sent']=gwb_text.parallel_count/gwb_text.sent_count\\n\""
      ]
     },
     "execution_count": 18,
     "metadata": {},
     "output_type": "execute_result"
    }
   ],
   "source": [
    "''' don't need to run this every time\n",
    "for i in range(len(gwb_text.text)):\n",
    "    sent_count, parallel_count = count_parallels(gwb_text.text[i])\n",
    "    gwb_text['sent_count'].iloc[i] = sent_count\n",
    "    gwb_text['parallel_count'].iloc[i] = parallel_count\n",
    "gwb_text['parallel_per_sent']=gwb_text.parallel_count/gwb_text.sent_count\n",
    "'''"
   ]
  },
  {
   "cell_type": "code",
   "execution_count": null,
   "id": "f0980e25",
   "metadata": {},
   "outputs": [],
   "source": []
  },
  {
   "cell_type": "code",
   "execution_count": 19,
   "id": "1ac82046",
   "metadata": {},
   "outputs": [],
   "source": [
    "#gwb_text.to_csv('./Data/genData/parallelism_gwb.csv', index=False)"
   ]
  },
  {
   "cell_type": "code",
   "execution_count": 20,
   "id": "238c8c5d",
   "metadata": {},
   "outputs": [
    {
     "data": {
      "text/plain": [
       "\" don't need to do this every time\\nfor i in range(len(oba_text.text)):\\n    sent_count, parallel_count = count_parallels(oba_text.text[i])\\n    oba_text['sent_count'].iloc[i] = sent_count\\n    oba_text['parallel_count'].iloc[i] = parallel_count\\noba_text['parallel_per_sent']=oba_text.parallel_count/oba_text.sent_count\\n\""
      ]
     },
     "execution_count": 20,
     "metadata": {},
     "output_type": "execute_result"
    }
   ],
   "source": [
    "''' don't need to do this every time\n",
    "for i in range(len(oba_text.text)):\n",
    "    sent_count, parallel_count = count_parallels(oba_text.text[i])\n",
    "    oba_text['sent_count'].iloc[i] = sent_count\n",
    "    oba_text['parallel_count'].iloc[i] = parallel_count\n",
    "oba_text['parallel_per_sent']=oba_text.parallel_count/oba_text.sent_count\n",
    "'''"
   ]
  },
  {
   "cell_type": "code",
   "execution_count": 21,
   "id": "d229d200",
   "metadata": {},
   "outputs": [],
   "source": [
    "#oba_text.to_csv('./Data/genData/parallelism_oba.csv', index=False)"
   ]
  },
  {
   "cell_type": "markdown",
   "id": "99aaa488",
   "metadata": {},
   "source": [
    "### Find Parallelism in a specific speech"
   ]
  },
  {
   "cell_type": "code",
   "execution_count": 22,
   "id": "e58863f3",
   "metadata": {},
   "outputs": [],
   "source": []
  },
  {
   "cell_type": "code",
   "execution_count": 61,
   "id": "5df9006c",
   "metadata": {},
   "outputs": [],
   "source": [
    "def print_parallel(file):\n",
    "    with open(file, encoding='utf-8') as f:\n",
    "        text = f.read()\n",
    "    sents = sent_tokenize(text)\n",
    "    count = 0\n",
    "    for phrase in sents:\n",
    "        try:\n",
    "            sent, = parser.parse_text(phrase)\n",
    "        except:\n",
    "            print('----- PARSE ERROR -----')\n",
    "            print(phrase)\n",
    "            continue\n",
    "        poss = [] # parts of speech\n",
    "        words = [] # words of repeated phrase\n",
    "        for word in sent.pos():\n",
    "            poss.append(word[1])\n",
    "            words.append(word[0])\n",
    "\n",
    "        stop = False\n",
    "        results = []\n",
    "        for length in range(7,3,-1):\n",
    "            length = min(length, len(words))\n",
    "            for i in range(len(poss)-length+1):\n",
    "                for j in range(len(poss)-length+1):\n",
    "                    if abs(i-j) > length:\n",
    "                        if poss[i:i+length]==poss[j:j+length]:\n",
    "                            if length > 4 or (',' not in poss[i:i+length] and '``' not in poss[i:i+length]):\n",
    "                                results.append([i,j,length])\n",
    "                                count += 1\n",
    "                                stop = True\n",
    "                                break\n",
    "                if stop: break\n",
    "            if stop: break\n",
    "\n",
    "        for result in results:\n",
    "            print(poss[result[0]:result[0]+result[2]])\n",
    "            print(words[result[0]:result[0]+result[2]])\n",
    "            print(words[result[1]:result[1]+result[2]])\n",
    "            print()"
   ]
  },
  {
   "cell_type": "code",
   "execution_count": 62,
   "id": "c5feb2fc",
   "metadata": {},
   "outputs": [
    {
     "name": "stdout",
     "output_type": "stream",
     "text": [
      "['NN', ',', 'NNP', 'MD', 'VB', 'NN', 'IN']\n",
      "['test', ',', 'God', 'will', 'take', 'care', 'of']\n",
      "['breast', ',', 'God', 'will', 'take', 'care', 'of']\n",
      "\n",
      "['IN', 'DT', 'NN', 'IN']\n",
      "['for', 'a', 'night', 'behind']\n",
      "['of', 'the', 'church', 'on']\n",
      "\n",
      "[',', 'NNP', 'NNP', 'CC', 'NNP']\n",
      "[',', 'Independence', 'Hall', 'and', 'Seneca']\n",
      "[',', 'Kitty', 'Hawk', 'and', 'Cape']\n",
      "\n",
      "['JJ', 'NN', ',', 'DT', 'NN', 'IN', 'NN']\n",
      "['turbulent', 'history', ',', 'the', 'stain', 'of', 'slavery']\n",
      "['civil', 'war', ';', 'the', 'yoke', 'of', 'segregation']\n",
      "\n",
      "['DT', 'NN', 'IN', 'NNS']\n",
      "['a', 'clash', 'of', 'armies']\n",
      "['a', 'clash', 'of', 'wills']\n",
      "\n",
      "['NNP', 'NNP', ',', 'NNP', 'NNP', ',', 'NNP']\n",
      "['John', 'Lewis', ',', 'Joseph', 'Lowery', ',', 'Hosea']\n",
      "['Amelia', 'Boynton', ',', 'Diane', 'Nash', ',', 'Ralph']\n",
      "\n",
      "['CC', 'DT', 'JJ', 'NNP', ',', 'DT']\n",
      "['and', 'a', 'fair', 'America', ',', 'an']\n",
      "['and', 'a', 'generous', 'America', ',', 'that']\n",
      "\n",
      "----- PARSE ERROR -----\n",
      "They did as Scripture instructed: “Rejoice in hope, be patient in tribulation, be constant in prayer.” And in the days to come, they went back again and again.\n",
      "----- PARSE ERROR -----\n",
      "And he would send them protection, and speak to the nation, echoing their call for America and the world to hear: “We shall overcome.” What enormous faith these men and women had.\n",
      "['VBD', 'VBN', ':', 'PRP$']\n",
      "['was', 'questioned', ';', 'their']\n",
      "['were', 'threatened', ';', 'their']\n",
      "\n",
      "['JJR', 'NN', 'IN', 'NN']\n",
      "['greater', 'expression', 'of', 'faith']\n",
      "['greater', 'form', 'of', 'patriotism']\n",
      "\n",
      "----- PARSE ERROR -----\n",
      "It is instead the manifestation of a creed written into our founding documents: “We the People…in order to form a more perfect union.” “We hold these truths to be self-evident, that all men are created equal.” These are not just words.\n",
      "['DT', 'NN', 'IN', 'NN']\n",
      "['a', 'call', 'to', 'action']\n",
      "['a', 'roadmap', 'for', 'citizenship']\n",
      "\n",
      "['IN', 'NNS', 'IN', 'NNP', 'CC', 'NNP']\n",
      "['For', 'founders', 'like', 'Franklin', 'and', 'Jefferson']\n",
      "['for', 'leaders', 'like', 'Lincoln', 'and', 'FDR']\n",
      "\n",
      "['DT', 'JJ', 'NN', 'WDT', 'VBD']\n",
      "['The', 'American', 'instinct', 'that', 'led']\n",
      "['the', 'same', 'instinct', 'that', 'moved']\n",
      "\n",
      "['DT', 'JJ', 'NN', 'WDT', 'VBD', 'NNS']\n",
      "['the', 'same', 'instinct', 'that', 'drew', 'immigrants']\n",
      "['the', 'same', 'instinct', 'that', 'led', 'women']\n",
      "\n",
      "['IN', 'DT', 'NNP', 'NNP']\n",
      "['from', 'the', 'Congressional', 'Black']\n",
      "['to', 'the', 'Oval', 'Office']\n",
      "\n",
      "['IN', 'VBG', 'DT', 'NN']\n",
      "['by', 'reasserting', 'the', 'past']\n",
      "['by', 'transcending', 'the', 'past']\n",
      "\n",
      "----- PARSE ERROR -----\n",
      "“We are capable of bearing a great burden,” James Baldwin once wrote, “once we discover that the burden is reality and arrive where reality is.” There’s nothing America can’t handle if we actually look squarely at the problem.\n",
      "['NNS', 'MD', 'VB', 'VBN', ',']\n",
      "['laws', 'can', 'be', 'passed', ',']\n",
      "['consciences', 'can', 'be', 'stirred', ',']\n",
      "\n",
      "['CC', 'JJ', 'NNS', ',', 'CC']\n",
      "['and', 'overcrowded', 'prisons', ',', 'and']\n",
      "['and', 'good', 'workers', ',', 'and']\n",
      "\n",
      "['CC', 'IN', 'PRP', 'RB', 'VB', 'PRP']\n",
      "['And', 'if', 'we', 'really', 'mean', 'it']\n",
      "['but', 'if', 'we', 'really', 'mean', 'it']\n",
      "\n",
      "['DT', 'NN', 'IN', 'DT']\n",
      "['the', 'dignity', 'of', 'a']\n",
      "['that', 'ladder', 'into', 'the']\n",
      "\n",
      "[',', 'DT', 'NN', 'IN', 'RB', 'JJ', 'NN']\n",
      "[',', 'the', 'culmination', 'of', 'so', 'much', 'blood']\n",
      "[',', 'the', 'product', 'of', 'so', 'much', 'sacrifice']\n",
      "\n",
      "['TO', 'VB', 'DT', 'NN']\n",
      "['to', 'honor', 'this', 'day']\n",
      "['to', 'restore', 'that', 'law']\n",
      "\n",
      "['DT', 'NN', 'IN', 'NNS', 'IN', 'DT', 'NN']\n",
      "['the', 'number', 'of', 'jellybeans', 'in', 'a', 'jar']\n",
      "['the', 'number', 'of', 'bubbles', 'on', 'a', 'bar']\n",
      "\n",
      "['CC', 'DT', 'JJ', 'NN']\n",
      "['or', 'a', 'Unitarian', 'minister']\n",
      "['or', 'a', 'young', 'mother']\n",
      "\n",
      "['DT', 'NNS', 'WP', 'VBD']\n",
      "['the', 'firefighters', 'who', 'rushed']\n",
      "['the', 'volunteers', 'who', 'signed']\n",
      "\n",
      "['NN', 'CC', 'NN', ',', 'CC']\n",
      "['bluegrass', 'and', 'country', ',', 'and']\n",
      "['rock', 'and', 'roll', ',', 'and']\n",
      "\n",
      "----- PARSE ERROR -----\n",
      "We are the people Langston Hughes wrote of who “build our temples for tomorrow, strong as we know how.” We are the people Emerson wrote of, “who for truth and honor’s sake stand fast and suffer long;” who are “never tired, so long as we can see far enough.” That’s what America is.\n",
      "['RB', 'IN', 'DT', 'NN']\n",
      "['all', 'across', 'the', 'country']\n",
      "['away', 'from', 'this', 'day']\n",
      "\n",
      "['NNS', 'TO', 'VB', 'VBN']\n",
      "['steps', 'to', 'be', 'taken']\n",
      "['bridges', 'to', 'be', 'crossed']\n",
      "\n",
      "----- PARSE ERROR -----\n",
      "Because the single-most powerful word in our democracy is the word “We.” “We The People.” “We Shall Overcome.” “Yes We Can.” That word is owned by no one.\n",
      "['PRP', 'VBP', 'IN', 'DT', 'NN']\n",
      "['we', 'believe', 'in', 'the', 'power']\n",
      "['we', 'believe', 'in', 'this', 'country']\n",
      "\n"
     ]
    }
   ],
   "source": [
    "print_parallel('./Data/amrhet/barackobamaselma50anniversarymarch.txt')"
   ]
  },
  {
   "cell_type": "code",
   "execution_count": 63,
   "id": "9cac0e28",
   "metadata": {},
   "outputs": [
    {
     "name": "stdout",
     "output_type": "stream",
     "text": [
      "['DT', 'WP', 'VBD', 'CC', 'DT', 'WP', 'VBD']\n",
      "['those', 'who', 'marched', 'and', 'those', 'who', 'sang']\n",
      "['those', 'who', 'organized', 'and', 'those', 'who', 'mobilized']\n",
      "\n",
      "----- PARSE ERROR -----\n",
      "“By the thousands,” said Dr. King, “faceless, anonymous, relentless young people, black and white…have taken our whole nation back to those great wells of democracy which were dug deep by the founding fathers in the formulation of the Constitution and the Declaration of Independence.”  To those men and women, to those foot soldiers for justice, know that this monument is yours, as well.\n",
      "['PRP', 'VBP', 'DT', 'NN']\n",
      "['we', 'honor', 'that', 'march']\n",
      "['I', 'Have', 'a', 'Dream']\n",
      "\n",
      "['RB', ',', 'CC', 'VB', 'RB', ',', 'CC']\n",
      "['together', ',', 'and', 'work', 'together', ',', 'and']\n",
      "['together', ',', 'and', 'build', 'together', ',', 'and']\n",
      "\n",
      "['NNS', 'IN', 'NN', 'NNS']\n",
      "['days', 'in', 'jail', 'cells']\n",
      "['nights', 'of', 'bomb', 'threats']\n",
      "\n",
      "['DT', 'WP', 'VBD', 'PRP', 'VBD', 'VBG', 'RB']\n",
      "['those', 'who', 'felt', 'he', 'was', 'going', 'too']\n",
      "['those', 'who', 'felt', 'he', 'was', 'going', 'too']\n",
      "\n",
      "['IN', 'DT', 'JJ', 'NN']\n",
      "['In', 'the', 'first', 'decade']\n",
      "['by', 'an', 'economic', 'crisis']\n",
      "\n",
      "['JJ', 'NNS', 'IN', 'DT', 'NN']\n",
      "['troubled', 'neighborhoods', 'across', 'the', 'country']\n",
      "['few', 'prospects', 'for', 'the', 'future']\n",
      "\n",
      "['DT', 'NNP', 'NNPS', 'NNP']\n",
      "['the', 'Civil', 'Rights', 'Act']\n",
      "['the', 'Voting', 'Rights', 'Act']\n",
      "\n",
      "['PRP', 'VBD', 'IN', 'VBG']\n",
      "['He', 'kept', 'on', 'pushing']\n",
      "['he', 'kept', 'on', 'speaking']\n",
      "\n",
      "[':', 'PRP', 'VBD', 'RB', 'VB']\n",
      "[';', 'he', 'did', 'n’t', 'say']\n",
      "[';', 'he', 'did', 'n’t', 'say']\n",
      "\n",
      "----- PARSE ERROR -----\n",
      "And just as we draw strength from Dr. King’s struggles, so must we draw inspiration from his constant insistence on the oneness of man; the belief in his words that “we are caught in an inescapable network of mutuality, tied in a single garment of destiny.”  It was that insistence, rooted in his Christian faith, that led him to tell a group of angry young protesters, “I love you as I love my own children,” even as one threw a rock that glanced off his neck.\n",
      "['IN', 'DT', 'NNS', 'IN', 'NN']\n",
      "['from', 'the', 'shackles', 'of', 'discrimination']\n",
      "['from', 'the', 'depredations', 'of', 'poverty']\n",
      "\n",
      "['NNS', ':', 'TO', 'VB']\n",
      "['shoes', ';', 'to', 'see']\n",
      "['eyes', ';', 'to', 'understand']\n",
      "\n",
      "['NN', 'IN', 'DT', 'JJ', 'NN']\n",
      "['child', 'in', 'the', 'decrepit', 'school']\n",
      "['compassion', 'toward', 'the', 'immigrant', 'family']\n",
      "\n",
      "----- PARSE ERROR -----\n",
      "As was true 50 years ago, as has been true throughout human history, those with power and privilege will often decry any call for change as “divisive.”  They’ll say any challenge to the existing arrangements are unwise and destabilizing.\n",
      "['VB', 'DT', 'NN', 'IN']\n",
      "['be', 'the', 'possibility', 'of']\n",
      "['channel', 'this', 'tension', 'through']\n",
      "\n",
      "['DT', 'JJ', 'NN', 'CC']\n",
      "['the', 'proper', 'size', 'and']\n",
      "['no', 'distant', 'object', 'but']\n",
      "\n",
      "['DT', 'NN', 'IN', 'NN']\n",
      "['a', 'man', 'of', 'flesh']\n",
      "['a', 'figure', 'of', 'stone']\n",
      "\n",
      "['PRP', 'VBD', 'VBN', 'NNS', 'CC', 'NNS']\n",
      "['he', 'had', 'seen', 'men', 'and', 'women']\n",
      "['he', 'had', 'seen', 'hills', 'and', 'mountains']\n",
      "\n",
      "['DT', 'NN', 'TO', 'VB']\n",
      "['the', 'courage', 'to', 'do']\n",
      "['the', 'courage', 'to', 'stand']\n",
      "\n",
      "['NN', 'IN', 'DT', 'NN']\n",
      "['today', 'in', 'a', 'country']\n",
      "['monument', 'to', 'that', 'legacy']\n",
      "\n",
      "['IN', 'DT', 'NN', 'CC']\n",
      "['on', 'the', 'horizon', 'and']\n",
      "['of', 'a', 'nation', 'and']\n",
      "\n"
     ]
    }
   ],
   "source": [
    "print_parallel('./Data/speeches/2011-10-17-MLKDedication.txt')"
   ]
  },
  {
   "cell_type": "code",
   "execution_count": 24,
   "id": "0d1e7a09",
   "metadata": {},
   "outputs": [],
   "source": [
    "sent1 = 'Meanwhile, the Voting Rights Act, the culmination of so much blood, so much sweat and tears, the product of so much sacrifice in the face of wanton violence, the Voting Rights Act stands weakened, its future subject to political rancor.'\n",
    "sent2 = 'It’s the same instinct that drew immigrants from across oceans and the Rio Grande; the same instinct that led women to reach for the ballot, workers to organize against an unjust status quo; the same instinct that led us to plant a flag at Iwo Jima and on the surface of the Moon.'\n",
    "sent3 = 'In one afternoon 50 years ago, so much of our turbulent history, the stain of slavery and anguish of civil war; the yoke of segregation and tyranny of Jim Crow; the death of four little girls in Birmingham; and the dream of a Baptist preacher, all that history met on this bridge.'\n",
    "sent4 = 'For everywhere in this country, there are first steps to be taken, there’s new ground to cover, there are more bridges to be crossed.'"
   ]
  },
  {
   "cell_type": "markdown",
   "id": "544a7ea3",
   "metadata": {},
   "source": [
    "<A HREF=\"https://universaldependencies.org/u/pos/\">upos - Universal POS tags</A>\n",
    "<P>\n",
    "    <A HREF=\"https://www.ling.upenn.edu/courses/Fall_2003/ling001/penn_treebank_pos.html\">xpos - Penn Treebank POS tags</A>"
   ]
  },
  {
   "cell_type": "code",
   "execution_count": 36,
   "id": "44c8347b",
   "metadata": {},
   "outputs": [
    {
     "data": {
      "text/plain": [
       "[\n",
       "  [\n",
       "    {\n",
       "      \"id\": 1,\n",
       "      \"text\": \"For\",\n",
       "      \"lemma\": \"for\",\n",
       "      \"upos\": \"ADP\",\n",
       "      \"xpos\": \"IN\",\n",
       "      \"head\": 2,\n",
       "      \"deprel\": \"case\",\n",
       "      \"start_char\": 0,\n",
       "      \"end_char\": 3,\n",
       "      \"ner\": \"O\",\n",
       "      \"multi_ner\": [\n",
       "        \"O\"\n",
       "      ]\n",
       "    },\n",
       "    {\n",
       "      \"id\": 2,\n",
       "      \"text\": \"everywhere\",\n",
       "      \"lemma\": \"everywhere\",\n",
       "      \"upos\": \"ADV\",\n",
       "      \"xpos\": \"RB\",\n",
       "      \"head\": 8,\n",
       "      \"deprel\": \"obl\",\n",
       "      \"start_char\": 4,\n",
       "      \"end_char\": 14,\n",
       "      \"ner\": \"O\",\n",
       "      \"multi_ner\": [\n",
       "        \"O\"\n",
       "      ]\n",
       "    },\n",
       "    {\n",
       "      \"id\": 3,\n",
       "      \"text\": \"in\",\n",
       "      \"lemma\": \"in\",\n",
       "      \"upos\": \"ADP\",\n",
       "      \"xpos\": \"IN\",\n",
       "      \"head\": 5,\n",
       "      \"deprel\": \"case\",\n",
       "      \"start_char\": 15,\n",
       "      \"end_char\": 17,\n",
       "      \"ner\": \"O\",\n",
       "      \"multi_ner\": [\n",
       "        \"O\"\n",
       "      ]\n",
       "    },\n",
       "    {\n",
       "      \"id\": 4,\n",
       "      \"text\": \"this\",\n",
       "      \"lemma\": \"this\",\n",
       "      \"upos\": \"DET\",\n",
       "      \"xpos\": \"DT\",\n",
       "      \"feats\": \"Number=Sing|PronType=Dem\",\n",
       "      \"head\": 5,\n",
       "      \"deprel\": \"det\",\n",
       "      \"start_char\": 18,\n",
       "      \"end_char\": 22,\n",
       "      \"ner\": \"O\",\n",
       "      \"multi_ner\": [\n",
       "        \"O\"\n",
       "      ]\n",
       "    },\n",
       "    {\n",
       "      \"id\": 5,\n",
       "      \"text\": \"country\",\n",
       "      \"lemma\": \"country\",\n",
       "      \"upos\": \"NOUN\",\n",
       "      \"xpos\": \"NN\",\n",
       "      \"feats\": \"Number=Sing\",\n",
       "      \"head\": 2,\n",
       "      \"deprel\": \"nmod\",\n",
       "      \"start_char\": 23,\n",
       "      \"end_char\": 30,\n",
       "      \"ner\": \"O\",\n",
       "      \"multi_ner\": [\n",
       "        \"O\"\n",
       "      ]\n",
       "    },\n",
       "    {\n",
       "      \"id\": 6,\n",
       "      \"text\": \",\",\n",
       "      \"lemma\": \",\",\n",
       "      \"upos\": \"PUNCT\",\n",
       "      \"xpos\": \",\",\n",
       "      \"head\": 2,\n",
       "      \"deprel\": \"punct\",\n",
       "      \"start_char\": 30,\n",
       "      \"end_char\": 31,\n",
       "      \"ner\": \"O\",\n",
       "      \"multi_ner\": [\n",
       "        \"O\"\n",
       "      ]\n",
       "    },\n",
       "    {\n",
       "      \"id\": 7,\n",
       "      \"text\": \"there\",\n",
       "      \"lemma\": \"there\",\n",
       "      \"upos\": \"PRON\",\n",
       "      \"xpos\": \"EX\",\n",
       "      \"head\": 8,\n",
       "      \"deprel\": \"expl\",\n",
       "      \"start_char\": 32,\n",
       "      \"end_char\": 37,\n",
       "      \"ner\": \"O\",\n",
       "      \"multi_ner\": [\n",
       "        \"O\"\n",
       "      ]\n",
       "    },\n",
       "    {\n",
       "      \"id\": 8,\n",
       "      \"text\": \"are\",\n",
       "      \"lemma\": \"be\",\n",
       "      \"upos\": \"VERB\",\n",
       "      \"xpos\": \"VBP\",\n",
       "      \"feats\": \"Mood=Ind|Number=Plur|Person=3|Tense=Pres|VerbForm=Fin\",\n",
       "      \"head\": 0,\n",
       "      \"deprel\": \"root\",\n",
       "      \"start_char\": 38,\n",
       "      \"end_char\": 41,\n",
       "      \"ner\": \"O\",\n",
       "      \"multi_ner\": [\n",
       "        \"O\"\n",
       "      ]\n",
       "    },\n",
       "    {\n",
       "      \"id\": 9,\n",
       "      \"text\": \"first\",\n",
       "      \"lemma\": \"first\",\n",
       "      \"upos\": \"ADJ\",\n",
       "      \"xpos\": \"JJ\",\n",
       "      \"feats\": \"Degree=Pos|NumType=Ord\",\n",
       "      \"head\": 10,\n",
       "      \"deprel\": \"amod\",\n",
       "      \"start_char\": 42,\n",
       "      \"end_char\": 47,\n",
       "      \"ner\": \"S-ORDINAL\",\n",
       "      \"multi_ner\": [\n",
       "        \"S-ORDINAL\"\n",
       "      ]\n",
       "    },\n",
       "    {\n",
       "      \"id\": 10,\n",
       "      \"text\": \"steps\",\n",
       "      \"lemma\": \"step\",\n",
       "      \"upos\": \"NOUN\",\n",
       "      \"xpos\": \"NNS\",\n",
       "      \"feats\": \"Number=Plur\",\n",
       "      \"head\": 8,\n",
       "      \"deprel\": \"nsubj\",\n",
       "      \"start_char\": 48,\n",
       "      \"end_char\": 53,\n",
       "      \"ner\": \"O\",\n",
       "      \"multi_ner\": [\n",
       "        \"O\"\n",
       "      ]\n",
       "    },\n",
       "    {\n",
       "      \"id\": 11,\n",
       "      \"text\": \"to\",\n",
       "      \"lemma\": \"to\",\n",
       "      \"upos\": \"PART\",\n",
       "      \"xpos\": \"TO\",\n",
       "      \"head\": 13,\n",
       "      \"deprel\": \"mark\",\n",
       "      \"start_char\": 54,\n",
       "      \"end_char\": 56,\n",
       "      \"ner\": \"O\",\n",
       "      \"multi_ner\": [\n",
       "        \"O\"\n",
       "      ]\n",
       "    },\n",
       "    {\n",
       "      \"id\": 12,\n",
       "      \"text\": \"be\",\n",
       "      \"lemma\": \"be\",\n",
       "      \"upos\": \"AUX\",\n",
       "      \"xpos\": \"VB\",\n",
       "      \"feats\": \"VerbForm=Inf\",\n",
       "      \"head\": 13,\n",
       "      \"deprel\": \"aux:pass\",\n",
       "      \"start_char\": 57,\n",
       "      \"end_char\": 59,\n",
       "      \"ner\": \"O\",\n",
       "      \"multi_ner\": [\n",
       "        \"O\"\n",
       "      ]\n",
       "    },\n",
       "    {\n",
       "      \"id\": 13,\n",
       "      \"text\": \"taken\",\n",
       "      \"lemma\": \"take\",\n",
       "      \"upos\": \"VERB\",\n",
       "      \"xpos\": \"VBN\",\n",
       "      \"feats\": \"Tense=Past|VerbForm=Part|Voice=Pass\",\n",
       "      \"head\": 10,\n",
       "      \"deprel\": \"acl\",\n",
       "      \"start_char\": 60,\n",
       "      \"end_char\": 65,\n",
       "      \"ner\": \"O\",\n",
       "      \"multi_ner\": [\n",
       "        \"O\"\n",
       "      ]\n",
       "    },\n",
       "    {\n",
       "      \"id\": 14,\n",
       "      \"text\": \",\",\n",
       "      \"lemma\": \",\",\n",
       "      \"upos\": \"PUNCT\",\n",
       "      \"xpos\": \",\",\n",
       "      \"head\": 16,\n",
       "      \"deprel\": \"punct\",\n",
       "      \"start_char\": 65,\n",
       "      \"end_char\": 66,\n",
       "      \"ner\": \"O\",\n",
       "      \"multi_ner\": [\n",
       "        \"O\"\n",
       "      ]\n",
       "    },\n",
       "    {\n",
       "      \"id\": 15,\n",
       "      \"text\": \"there\",\n",
       "      \"lemma\": \"there\",\n",
       "      \"upos\": \"PRON\",\n",
       "      \"xpos\": \"EX\",\n",
       "      \"head\": 16,\n",
       "      \"deprel\": \"expl\",\n",
       "      \"start_char\": 67,\n",
       "      \"end_char\": 72,\n",
       "      \"ner\": \"O\",\n",
       "      \"multi_ner\": [\n",
       "        \"O\"\n",
       "      ]\n",
       "    },\n",
       "    {\n",
       "      \"id\": 16,\n",
       "      \"text\": \"’s\",\n",
       "      \"lemma\": \"be\",\n",
       "      \"upos\": \"VERB\",\n",
       "      \"xpos\": \"VBZ\",\n",
       "      \"feats\": \"Mood=Ind|Number=Sing|Person=3|Tense=Pres|VerbForm=Fin\",\n",
       "      \"head\": 8,\n",
       "      \"deprel\": \"parataxis\",\n",
       "      \"start_char\": 72,\n",
       "      \"end_char\": 74,\n",
       "      \"ner\": \"O\",\n",
       "      \"multi_ner\": [\n",
       "        \"O\"\n",
       "      ]\n",
       "    },\n",
       "    {\n",
       "      \"id\": 17,\n",
       "      \"text\": \"new\",\n",
       "      \"lemma\": \"new\",\n",
       "      \"upos\": \"ADJ\",\n",
       "      \"xpos\": \"JJ\",\n",
       "      \"feats\": \"Degree=Pos\",\n",
       "      \"head\": 18,\n",
       "      \"deprel\": \"amod\",\n",
       "      \"start_char\": 75,\n",
       "      \"end_char\": 78,\n",
       "      \"ner\": \"O\",\n",
       "      \"multi_ner\": [\n",
       "        \"O\"\n",
       "      ]\n",
       "    },\n",
       "    {\n",
       "      \"id\": 18,\n",
       "      \"text\": \"ground\",\n",
       "      \"lemma\": \"ground\",\n",
       "      \"upos\": \"NOUN\",\n",
       "      \"xpos\": \"NN\",\n",
       "      \"feats\": \"Number=Sing\",\n",
       "      \"head\": 16,\n",
       "      \"deprel\": \"nsubj\",\n",
       "      \"start_char\": 79,\n",
       "      \"end_char\": 85,\n",
       "      \"ner\": \"O\",\n",
       "      \"multi_ner\": [\n",
       "        \"O\"\n",
       "      ]\n",
       "    },\n",
       "    {\n",
       "      \"id\": 19,\n",
       "      \"text\": \"to\",\n",
       "      \"lemma\": \"to\",\n",
       "      \"upos\": \"PART\",\n",
       "      \"xpos\": \"TO\",\n",
       "      \"head\": 20,\n",
       "      \"deprel\": \"mark\",\n",
       "      \"start_char\": 86,\n",
       "      \"end_char\": 88,\n",
       "      \"ner\": \"O\",\n",
       "      \"multi_ner\": [\n",
       "        \"O\"\n",
       "      ]\n",
       "    },\n",
       "    {\n",
       "      \"id\": 20,\n",
       "      \"text\": \"cover\",\n",
       "      \"lemma\": \"cover\",\n",
       "      \"upos\": \"VERB\",\n",
       "      \"xpos\": \"VB\",\n",
       "      \"feats\": \"VerbForm=Inf\",\n",
       "      \"head\": 18,\n",
       "      \"deprel\": \"acl\",\n",
       "      \"start_char\": 89,\n",
       "      \"end_char\": 94,\n",
       "      \"ner\": \"O\",\n",
       "      \"multi_ner\": [\n",
       "        \"O\"\n",
       "      ]\n",
       "    },\n",
       "    {\n",
       "      \"id\": 21,\n",
       "      \"text\": \",\",\n",
       "      \"lemma\": \",\",\n",
       "      \"upos\": \"PUNCT\",\n",
       "      \"xpos\": \",\",\n",
       "      \"head\": 23,\n",
       "      \"deprel\": \"punct\",\n",
       "      \"start_char\": 94,\n",
       "      \"end_char\": 95,\n",
       "      \"ner\": \"O\",\n",
       "      \"multi_ner\": [\n",
       "        \"O\"\n",
       "      ]\n",
       "    },\n",
       "    {\n",
       "      \"id\": 22,\n",
       "      \"text\": \"there\",\n",
       "      \"lemma\": \"there\",\n",
       "      \"upos\": \"PRON\",\n",
       "      \"xpos\": \"EX\",\n",
       "      \"head\": 23,\n",
       "      \"deprel\": \"expl\",\n",
       "      \"start_char\": 96,\n",
       "      \"end_char\": 101,\n",
       "      \"ner\": \"O\",\n",
       "      \"multi_ner\": [\n",
       "        \"O\"\n",
       "      ]\n",
       "    },\n",
       "    {\n",
       "      \"id\": 23,\n",
       "      \"text\": \"are\",\n",
       "      \"lemma\": \"be\",\n",
       "      \"upos\": \"VERB\",\n",
       "      \"xpos\": \"VBP\",\n",
       "      \"feats\": \"Mood=Ind|Number=Plur|Person=3|Tense=Pres|VerbForm=Fin\",\n",
       "      \"head\": 16,\n",
       "      \"deprel\": \"parataxis\",\n",
       "      \"start_char\": 102,\n",
       "      \"end_char\": 105,\n",
       "      \"ner\": \"O\",\n",
       "      \"multi_ner\": [\n",
       "        \"O\"\n",
       "      ]\n",
       "    },\n",
       "    {\n",
       "      \"id\": 24,\n",
       "      \"text\": \"more\",\n",
       "      \"lemma\": \"more\",\n",
       "      \"upos\": \"ADJ\",\n",
       "      \"xpos\": \"JJR\",\n",
       "      \"feats\": \"Degree=Cmp\",\n",
       "      \"head\": 25,\n",
       "      \"deprel\": \"amod\",\n",
       "      \"start_char\": 106,\n",
       "      \"end_char\": 110,\n",
       "      \"ner\": \"O\",\n",
       "      \"multi_ner\": [\n",
       "        \"O\"\n",
       "      ]\n",
       "    },\n",
       "    {\n",
       "      \"id\": 25,\n",
       "      \"text\": \"bridges\",\n",
       "      \"lemma\": \"bridge\",\n",
       "      \"upos\": \"NOUN\",\n",
       "      \"xpos\": \"NNS\",\n",
       "      \"feats\": \"Number=Plur\",\n",
       "      \"head\": 23,\n",
       "      \"deprel\": \"nsubj\",\n",
       "      \"start_char\": 111,\n",
       "      \"end_char\": 118,\n",
       "      \"ner\": \"O\",\n",
       "      \"multi_ner\": [\n",
       "        \"O\"\n",
       "      ]\n",
       "    },\n",
       "    {\n",
       "      \"id\": 26,\n",
       "      \"text\": \"to\",\n",
       "      \"lemma\": \"to\",\n",
       "      \"upos\": \"PART\",\n",
       "      \"xpos\": \"TO\",\n",
       "      \"head\": 28,\n",
       "      \"deprel\": \"mark\",\n",
       "      \"start_char\": 119,\n",
       "      \"end_char\": 121,\n",
       "      \"ner\": \"O\",\n",
       "      \"multi_ner\": [\n",
       "        \"O\"\n",
       "      ]\n",
       "    },\n",
       "    {\n",
       "      \"id\": 27,\n",
       "      \"text\": \"be\",\n",
       "      \"lemma\": \"be\",\n",
       "      \"upos\": \"AUX\",\n",
       "      \"xpos\": \"VB\",\n",
       "      \"feats\": \"VerbForm=Inf\",\n",
       "      \"head\": 28,\n",
       "      \"deprel\": \"aux:pass\",\n",
       "      \"start_char\": 122,\n",
       "      \"end_char\": 124,\n",
       "      \"ner\": \"O\",\n",
       "      \"multi_ner\": [\n",
       "        \"O\"\n",
       "      ]\n",
       "    },\n",
       "    {\n",
       "      \"id\": 28,\n",
       "      \"text\": \"crossed\",\n",
       "      \"lemma\": \"cross\",\n",
       "      \"upos\": \"VERB\",\n",
       "      \"xpos\": \"VBN\",\n",
       "      \"feats\": \"Tense=Past|VerbForm=Part|Voice=Pass\",\n",
       "      \"head\": 25,\n",
       "      \"deprel\": \"acl\",\n",
       "      \"start_char\": 125,\n",
       "      \"end_char\": 132,\n",
       "      \"ner\": \"O\",\n",
       "      \"multi_ner\": [\n",
       "        \"O\"\n",
       "      ]\n",
       "    },\n",
       "    {\n",
       "      \"id\": 29,\n",
       "      \"text\": \".\",\n",
       "      \"lemma\": \".\",\n",
       "      \"upos\": \"PUNCT\",\n",
       "      \"xpos\": \".\",\n",
       "      \"head\": 8,\n",
       "      \"deprel\": \"punct\",\n",
       "      \"start_char\": 132,\n",
       "      \"end_char\": 133,\n",
       "      \"ner\": \"O\",\n",
       "      \"multi_ner\": [\n",
       "        \"O\"\n",
       "      ]\n",
       "    }\n",
       "  ]\n",
       "]"
      ]
     },
     "execution_count": 36,
     "metadata": {},
     "output_type": "execute_result"
    }
   ],
   "source": [
    "intxt = stanza.Document([], text=sent4)\n",
    "out=nlp(intxt)\n",
    "out"
   ]
  },
  {
   "cell_type": "code",
   "execution_count": 25,
   "id": "7a4b73d7",
   "metadata": {},
   "outputs": [
    {
     "data": {
      "text/plain": [
       "'dep_tree_culmination_product.png'"
      ]
     },
     "execution_count": 25,
     "metadata": {},
     "output_type": "execute_result"
    }
   ],
   "source": [
    "sdp = CoreNLPDependencyParser()\n",
    "sentence = sent1\n",
    "result = list(sdp.raw_parse(sentence))\n",
    "dep_tree_dot_repr = [parse for parse in result][0].to_dot()\n",
    "source = Source(dep_tree_dot_repr, filename=\"dep_tree_culmination_product\", format='png')\n",
    "source.view()"
   ]
  },
  {
   "cell_type": "code",
   "execution_count": 26,
   "id": "392b9116",
   "metadata": {},
   "outputs": [
    {
     "data": {
      "text/plain": [
       "'dep_tree_instinct.png'"
      ]
     },
     "execution_count": 26,
     "metadata": {},
     "output_type": "execute_result"
    }
   ],
   "source": [
    "sentence = sent2\n",
    "result = list(sdp.raw_parse(sentence))\n",
    "dep_tree_dot_repr = [parse for parse in result][0].to_dot()\n",
    "source = Source(dep_tree_dot_repr, filename=\"dep_tree_instinct\", format='png')\n",
    "source.view()"
   ]
  },
  {
   "cell_type": "code",
   "execution_count": 27,
   "id": "def439e9",
   "metadata": {},
   "outputs": [
    {
     "data": {
      "text/plain": [
       "'dep_tree_turbulent_history.png'"
      ]
     },
     "execution_count": 27,
     "metadata": {},
     "output_type": "execute_result"
    }
   ],
   "source": [
    "sentence = sent3\n",
    "result = list(sdp.raw_parse(sentence))\n",
    "dep_tree_dot_repr = [parse for parse in result][0].to_dot()\n",
    "source = Source(dep_tree_dot_repr, filename=\"dep_tree_turbulent_history\", format='png')\n",
    "source.view()"
   ]
  },
  {
   "cell_type": "code",
   "execution_count": 28,
   "id": "1ff0eaed",
   "metadata": {},
   "outputs": [
    {
     "data": {
      "text/plain": [
       "'dep_tree_steps_to_be_taken.png'"
      ]
     },
     "execution_count": 28,
     "metadata": {},
     "output_type": "execute_result"
    }
   ],
   "source": [
    "sentence = sent4\n",
    "result = list(sdp.raw_parse(sentence))\n",
    "dep_tree_dot_repr = [parse for parse in result][0].to_dot()\n",
    "source = Source(dep_tree_dot_repr, filename=\"dep_tree_steps_to_be_taken\", format='png')\n",
    "source.view()"
   ]
  },
  {
   "cell_type": "code",
   "execution_count": 29,
   "id": "189e2b57",
   "metadata": {},
   "outputs": [
    {
     "name": "stdout",
     "output_type": "stream",
     "text": [
      "                                                                                 ROOT                                                                                        \n",
      "                                                                                  |                                                                                           \n",
      "                                                                                  S                                                                                          \n",
      "         _________________________________________________________________________|________________________________________________________________________________________   \n",
      "        |                                                              PRN                                                   |               |                             | \n",
      "        |                             __________________________________|_______________________________________________     |               |                             |  \n",
      "        |                            |         S                                                                        |    |               |                             | \n",
      "        |                            |     ____|____                                                                    |    |               |                             |  \n",
      "        |                            |    |         VP                                                                  |    |               |                             | \n",
      "        |                            |    |     ____|_____                                                              |    |               |                             |  \n",
      "        |                            |    |    |          NP                                                            |    |               |                             | \n",
      "        |                            |    |    |     _____|________                                                     |    |               |                             |  \n",
      "        |                            |    |    |    |     |        S                                                    |    |               |                             | \n",
      "        |                            |    |    |    |     |        |                                                    |    |               |                             |  \n",
      "        |                            |    |    |    |     |        VP                                                   |    |               |                             | \n",
      "        |                            |    |    |    |     |     ___|_________                                           |    |               |                             |  \n",
      "        |                            |    |    |    |     |    |             VP                                         |    |               VP                            | \n",
      "        |                            |    |    |    |     |    |    _________|_____________                             |    |     __________|_________                    |  \n",
      "        |                            |    |    |    |     |    |   |                       VP                           |    |    |   |                NP                  | \n",
      "        |                            |    |    |    |     |    |   |     __________________|___                         |    |    |   |       _________|___                |  \n",
      "        |                            |    |    |    |     |    |   |    |    |                 S                        |    |    |   |      |             S               | \n",
      "        |                            |    |    |    |     |    |   |    |    |              ___|______________          |    |    |   |      |             |               |  \n",
      "        PP                           |    |    |    |     |    |   |    |    |             NP                 |         |    |    |   |      |             VP              | \n",
      "  ______|_______                     |    |    |    |     |    |   |    |    |          ___|________          |         |    |    |   |      |      _______|___            |  \n",
      " |              PP                   |    |    |    |     |    |   |    |    |         NP      |    |         VP        |    |    |   |      |     |           VP          | \n",
      " |       _______|________            |    |    |    |     |    |   |    |    |     ____|___    |    |      ___|____     |    |    |   |      |     |        ___|_____      |  \n",
      " |     ADVP     |        NP          |    NP   |    |     |    |   |    |    |    NP       |   |    |     |        VP   |    NP   |  ADVP    |     |       |         VP    | \n",
      " |      |       |    ____|_____      |    |    |    |     |    |   |    |    |    |        |   |    |     |        |    |    |    |   |      |     |       |         |     |  \n",
      " IN     RB      IN  DT         NN    ,    EX  VBP   JJ   NNS   TO  VB  VBN   ,    EX      POS  JJ   NN    TO       VB   ,    EX  VBP RBR    NNS    TO      VB       VBN    . \n",
      " |      |       |   |          |     |    |    |    |     |    |   |    |    |    |        |   |    |     |        |    |    |    |   |      |     |       |         |     |  \n",
      "For everywhere  in this     country  ,  there are first steps  to  be taken  ,  there      ’s new ground  to     cover  ,  there are more bridges  to      be     crossed  . \n",
      "\n"
     ]
    }
   ],
   "source": [
    "parser = CoreNLPParser()\n",
    "sent, = parser.parse_text(sent4)\n",
    "sent.pretty_print()"
   ]
  },
  {
   "cell_type": "markdown",
   "id": "d4b16ea4",
   "metadata": {},
   "source": [
    "### Add parallelism data to tidy data, maybe create an obama only tidy data"
   ]
  },
  {
   "cell_type": "code",
   "execution_count": 30,
   "id": "7c625df7",
   "metadata": {},
   "outputs": [],
   "source": [
    "par_oba = pd.read_csv('./Data/genData/parallelism_oba.csv')\n",
    "par_gwb = pd.read_csv('./Data/genData/parallelism_gwb.csv')\n",
    "par_oba.drop(['text', 'sent_count'], axis=1, inplace=True)\n",
    "par_gwb.drop(['text', 'sent_count'], axis=1, inplace=True)\n",
    "tidy = pd.read_csv('./Data/genData/tidy_data.csv')\n",
    "tidy_gwb = pd.read_csv('./Data/genData/tidy_data_gwb.csv')\n",
    "tidy_oba = tidy.query('source == \"oba\"')\n",
    "tidy_oba = pd.merge(tidy_oba, par_oba, how='left', on='date')\n",
    "tidy_gwb = pd.merge(tidy_gwb, par_gwb, how='left', on='date')"
   ]
  },
  {
   "cell_type": "code",
   "execution_count": 31,
   "id": "4f524357",
   "metadata": {},
   "outputs": [
    {
     "data": {
      "text/plain": [
       "False"
      ]
     },
     "execution_count": 31,
     "metadata": {},
     "output_type": "execute_result"
    }
   ],
   "source": [
    "set(tidy_gwb.columns) == set(tidy_oba.columns)"
   ]
  },
  {
   "cell_type": "code",
   "execution_count": 32,
   "id": "bd6a5a01",
   "metadata": {},
   "outputs": [],
   "source": [
    "#tidy_oba.to_csv('./Data/genData/tidy_data_oba.csv', index=False)\n",
    "#tidy_gwb.to_csv('./Data/genData/tidy_data_gwb.csv', index=False)"
   ]
  },
  {
   "cell_type": "code",
   "execution_count": 44,
   "id": "4de964bd",
   "metadata": {},
   "outputs": [
    {
     "data": {
      "text/plain": [
       "<Axes: ylabel='Frequency'>"
      ]
     },
     "execution_count": 44,
     "metadata": {},
     "output_type": "execute_result"
    },
    {
     "data": {
      "image/png": "[encoded data removed]",
      "text/plain": [
       "<Figure size 432x288 with 1 Axes>"
      ]
     },
     "metadata": {
      "needs_background": "light"
     },
     "output_type": "display_data"
    }
   ],
   "source": [
    "par_oba.parallel_per_sent.plot.hist()"
   ]
  },
  {
   "cell_type": "code",
   "execution_count": 41,
   "id": "88bf78b6",
   "metadata": {},
   "outputs": [
    {
     "data": {
      "text/plain": [
       "0.1034482758620689"
      ]
     },
     "execution_count": 41,
     "metadata": {},
     "output_type": "execute_result"
    }
   ],
   "source": [
    "par_oba.parallel_per_sent.median()"
   ]
  },
  {
   "cell_type": "code",
   "execution_count": 42,
   "id": "92fef22e",
   "metadata": {},
   "outputs": [
    {
     "data": {
      "text/plain": [
       "0.0882352941176471"
      ]
     },
     "execution_count": 42,
     "metadata": {},
     "output_type": "execute_result"
    }
   ],
   "source": [
    "par_gwb.parallel_per_sent.median()"
   ]
  },
  {
   "cell_type": "code",
   "execution_count": 45,
   "id": "aea661c1",
   "metadata": {},
   "outputs": [
    {
     "name": "stdout",
     "output_type": "stream",
     "text": [
      "With a statistic of 4898.0  and p-value of 0.0981 fail to reject H0)\n",
      "(U = 4898.0; p = 0.0981)\n"
     ]
    }
   ],
   "source": [
    "# Mann-Whitney U test \n",
    "stat, p_value = mannwhitneyu(par_oba.parallel_per_sent, par_gwb.parallel_per_sent)\n",
    "\n",
    "alpha = 0.05\n",
    "if p_value > alpha:\n",
    "    print(\"With a statistic of\",stat,\" and p-value of\",round(p_value,4),\"fail to reject H0)\")\n",
    "    print(\"(U = \"+str(stat)+\"; p = \"+str(round(p_value,4))+\")\")\n",
    "else:\n",
    "    print(\"With a statistic of\",stat,\" and p-value of\",round(p_value,4),\"there is evidence to reject H0.\")\n",
    "    print(\"(U = \"+str(stat)+\"; p = \"+str(round(p_value,4))+\")\")"
   ]
  },
  {
   "cell_type": "code",
   "execution_count": 46,
   "id": "9d130556",
   "metadata": {},
   "outputs": [
    {
     "data": {
      "text/plain": [
       "0.05610800075222848"
      ]
     },
     "execution_count": 46,
     "metadata": {},
     "output_type": "execute_result"
    }
   ],
   "source": [
    "par_oba.parallel_per_sent.std()"
   ]
  },
  {
   "cell_type": "code",
   "execution_count": 47,
   "id": "d3d044a0",
   "metadata": {},
   "outputs": [
    {
     "data": {
      "text/plain": [
       "0.1074437666944548"
      ]
     },
     "execution_count": 47,
     "metadata": {},
     "output_type": "execute_result"
    }
   ],
   "source": [
    "par_gwb.parallel_per_sent.std()"
   ]
  },
  {
   "cell_type": "code",
   "execution_count": 56,
   "id": "8a8d81e3",
   "metadata": {},
   "outputs": [],
   "source": [
    "topics_man = pd.read_csv('./Data/genData/oba_manual_topics.csv')\n",
    "par_oba = pd.merge(par_oba, topics_man, how='left', on='date')"
   ]
  },
  {
   "cell_type": "markdown",
   "id": "c6296144",
   "metadata": {},
   "source": [
    "<A HREF=\"https://plotly.com/python/plotly-express/\">Plotly express</A>"
   ]
  },
  {
   "cell_type": "code",
   "execution_count": 58,
   "id": "143cd02f",
   "metadata": {},
   "outputs": [
    {
     "data": {
      "application/vnd.plotly.v1+json": {
       "config": {
        "plotlyServerURL": "https://plot.ly"
       },
       "data": [
        {
         "hovertemplate": "<b>%{hovertext}</b><br><br>manual_topic=immigration<br>index=%{x}<br>parallel_per_sent=%{y}<extra></extra>",
         "hovertext": [
          "2014-07-01",
          "2013-01-30"
         ],
         "legendgroup": "immigration",
         "marker": {
          "color": "#636efa",
          "symbol": "circle"
         },
         "mode": "markers",
         "name": "immigration",
         "orientation": "v",
         "showlegend": true,
         "type": "scatter",
         "x": [
          0,
          19
         ],
         "xaxis": "x",
         "y": [
          0.0535714285714285,
          0.0637254901960784
         ],
         "yaxis": "y"
        },
        {
         "hovertemplate": "<b>%{hovertext}</b><br><br>manual_topic=terrorism<br>index=%{x}<br>parallel_per_sent=%{y}<extra></extra>",
         "hovertext": [
          "2009-12-25",
          "2013-04-16",
          "2015-01-08",
          "2015-11-14",
          "2016-03-23"
         ],
         "legendgroup": "terrorism",
         "marker": {
          "color": "#EF553B",
          "symbol": "circle"
         },
         "mode": "markers",
         "name": "terrorism",
         "orientation": "v",
         "showlegend": true,
         "type": "scatter",
         "x": [
          1,
          18,
          20,
          41,
          85
         ],
         "xaxis": "x",
         "y": [
          0.0566037735849056,
          0.0625,
          0.3333333333333333,
          0.09375,
          0.4
         ],
         "yaxis": "y"
        },
        {
         "hovertemplate": "<b>%{hovertext}</b><br><br>manual_topic=multi<br>index=%{x}<br>parallel_per_sent=%{y}<extra></extra>",
         "hovertext": [
          "2008-11-05",
          "2012-04-29",
          "2013-04-26",
          "2013-01-22",
          "2017-01-11",
          "2004-07-28",
          "2014-11-05",
          "2012-09-07",
          "2012-01-25",
          "2015-01-21",
          "2008-06-04",
          "2009-01-20",
          "2016-11-09",
          "2010-11-02",
          "2013-02-13",
          "2016-05-06",
          "2016-07-28",
          "2016-01-13",
          "2016-02-16",
          "2011-01-26",
          "2014-08-12",
          "2014-01-29",
          "2012-11-07"
         ],
         "legendgroup": "multi",
         "marker": {
          "color": "#00cc96",
          "symbol": "circle"
         },
         "mode": "markers",
         "name": "multi",
         "orientation": "v",
         "showlegend": true,
         "type": "scatter",
         "x": [
          2,
          4,
          7,
          11,
          22,
          24,
          25,
          33,
          39,
          43,
          50,
          52,
          53,
          55,
          70,
          75,
          79,
          81,
          89,
          91,
          93,
          98,
          99
         ],
         "xaxis": "x",
         "y": [
          0.1875,
          0.1,
          0.1509433962264151,
          0.1505376344086021,
          0.1255411255411255,
          0.1775700934579439,
          0.0632911392405063,
          0.1160714285714285,
          0.0570071258907363,
          0.0938337801608579,
          0.2304147465437788,
          0.1531531531531531,
          0.0759493670886076,
          0.0961538461538461,
          0.0617977528089887,
          0.0947075208913649,
          0.0698529411764705,
          0.0739644970414201,
          0.0416666666666666,
          0.0798004987531172,
          0.1333333333333333,
          0.0728862973760933,
          0.1574074074074074
         ],
         "yaxis": "y"
        },
        {
         "hovertemplate": "<b>%{hovertext}</b><br><br>manual_topic=national security<br>index=%{x}<br>parallel_per_sent=%{y}<extra></extra>",
         "hovertext": [
          "2011-12-16",
          "2009-05-22",
          "2014-05-21",
          "2014-08-08",
          "2011-05-02",
          "2013-09-11",
          "2012-01-06",
          "2015-07-07",
          "2010-07-26",
          "2012-05-02",
          "2014-01-18"
         ],
         "legendgroup": "national security",
         "marker": {
          "color": "#ab63fa",
          "symbol": "circle"
         },
         "mode": "markers",
         "name": "national security",
         "orientation": "v",
         "showlegend": true,
         "type": "scatter",
         "x": [
          3,
          12,
          16,
          23,
          35,
          45,
          51,
          59,
          62,
          88,
          95
         ],
         "xaxis": "x",
         "y": [
          0.0392156862745098,
          0.1104294478527607,
          0.0704225352112676,
          0.0857142857142857,
          0.1081081081081081,
          0.1121495327102803,
          0.1216216216216216,
          0.05,
          0.0666666666666666,
          0.053763440860215,
          0.1333333333333333
         ],
         "yaxis": "y"
        },
        {
         "hovertemplate": "<b>%{hovertext}</b><br><br>manual_topic=international relations<br>index=%{x}<br>parallel_per_sent=%{y}<extra></extra>",
         "hovertext": [
          "2015-04-03",
          "2010-08-31",
          "2013-06-19",
          "2012-03-27",
          "2016-04-25",
          "2009-09-24",
          "2014-12-18",
          "2014-03-07",
          "2011-11-17",
          "2011-06-23",
          "2013-05-04",
          "2009-10-09",
          "2014-03-26"
         ],
         "legendgroup": "international relations",
         "marker": {
          "color": "#FFA15A",
          "symbol": "circle"
         },
         "mode": "markers",
         "name": "international relations",
         "orientation": "v",
         "showlegend": true,
         "type": "scatter",
         "x": [
          5,
          8,
          10,
          14,
          21,
          28,
          32,
          36,
          48,
          65,
          77,
          84,
          96
         ],
         "xaxis": "x",
         "y": [
          0.0737704918032786,
          0.0875912408759124,
          0.1219512195121951,
          0.08,
          0.1058020477815699,
          0.1694214876033057,
          0.0934579439252336,
          0.1034482758620689,
          0.1030927835051546,
          0.0618556701030927,
          0.0847457627118644,
          0.1388888888888889,
          0.1404494382022472
         ],
         "yaxis": "y"
        },
        {
         "hovertemplate": "<b>%{hovertext}</b><br><br>manual_topic=climate<br>index=%{x}<br>parallel_per_sent=%{y}<extra></extra>",
         "hovertext": [
          "2015-08-03",
          "2015-12-14",
          "2009-12-19"
         ],
         "legendgroup": "climate",
         "marker": {
          "color": "#19d3f3",
          "symbol": "circle"
         },
         "mode": "markers",
         "name": "climate",
         "orientation": "v",
         "showlegend": true,
         "type": "scatter",
         "x": [
          6,
          76,
          78
         ],
         "xaxis": "x",
         "y": [
          0.0769230769230769,
          0.0714285714285714,
          0.1212121212121212
         ],
         "yaxis": "y"
        },
        {
         "hovertemplate": "<b>%{hovertext}</b><br><br>manual_topic=civil rights<br>index=%{x}<br>parallel_per_sent=%{y}<extra></extra>",
         "hovertext": [
          "2013-12-06",
          "2012-05-10",
          "2011-10-17",
          "2014-04-11",
          "2013-08-29",
          "2015-09-24",
          "2013-07-14"
         ],
         "legendgroup": "civil rights",
         "marker": {
          "color": "#FF6692",
          "symbol": "circle"
         },
         "mode": "markers",
         "name": "civil rights",
         "orientation": "v",
         "showlegend": true,
         "type": "scatter",
         "x": [
          9,
          15,
          17,
          26,
          38,
          60,
          66
         ],
         "xaxis": "x",
         "y": [
          0.0769230769230769,
          0.0909090909090909,
          0.2298850574712643,
          0.1094890510948905,
          0.1463414634146341,
          0.1951219512195122,
          0.1931818181818181
         ],
         "yaxis": "y"
        },
        {
         "hovertemplate": "<b>%{hovertext}</b><br><br>manual_topic=shooting<br>index=%{x}<br>parallel_per_sent=%{y}<extra></extra>",
         "hovertext": [
          "2011-01-08",
          "2016-06-13",
          "2012-07-21",
          "2012-12-15",
          "2015-06-18",
          "2009-11-05",
          "2013-01-16",
          "2015-10-02"
         ],
         "legendgroup": "shooting",
         "marker": {
          "color": "#B6E880",
          "symbol": "circle"
         },
         "mode": "markers",
         "name": "shooting",
         "orientation": "v",
         "showlegend": true,
         "type": "scatter",
         "x": [
          13,
          30,
          37,
          44,
          57,
          61,
          68,
          90
         ],
         "xaxis": "x",
         "y": [
          0.1094890510948905,
          0.125,
          0.1555555555555555,
          0.1904761904761904,
          0.1590909090909091,
          0.13,
          0.0393700787401574,
          0.0985915492957746
         ],
         "yaxis": "y"
        },
        {
         "hovertemplate": "<b>%{hovertext}</b><br><br>manual_topic=economy<br>index=%{x}<br>parallel_per_sent=%{y}<extra></extra>",
         "hovertext": [
          "2009-04-02",
          "2015-05-09",
          "2014-10-18",
          "2010-07-21",
          "2011-09-09",
          "2009-04-15",
          "2011-07-26",
          "2009-01-05",
          "2010-05-07",
          "2013-10-02",
          "2012-03-31",
          "2016-09-05"
         ],
         "legendgroup": "economy",
         "marker": {
          "color": "#FF97FF",
          "symbol": "circle"
         },
         "mode": "markers",
         "name": "economy",
         "orientation": "v",
         "showlegend": true,
         "type": "scatter",
         "x": [
          27,
          31,
          34,
          46,
          58,
          64,
          67,
          72,
          74,
          82,
          97,
          100
         ],
         "xaxis": "x",
         "y": [
          0.131578947368421,
          0.0531914893617021,
          0.1052631578947368,
          0.1034482758620689,
          0.0699588477366255,
          0.1590106007067137,
          0.0990990990990991,
          0.2045454545454545,
          0.1,
          0.0446927374301676,
          0.1095890410958904,
          0.0714285714285714
         ],
         "yaxis": "y"
        },
        {
         "hovertemplate": "<b>%{hovertext}</b><br><br>manual_topic=health care<br>index=%{x}<br>parallel_per_sent=%{y}<extra></extra>",
         "hovertext": [
          "2010-03-04",
          "2010-03-24",
          "2012-06-29"
         ],
         "legendgroup": "health care",
         "marker": {
          "color": "#FECB52",
          "symbol": "circle"
         },
         "mode": "markers",
         "name": "health care",
         "orientation": "v",
         "showlegend": true,
         "type": "scatter",
         "x": [
          29,
          63,
          92
         ],
         "xaxis": "x",
         "y": [
          0.1079136690647482,
          0.1176470588235294,
          0.0634920634920634
         ],
         "yaxis": "y"
        },
        {
         "hovertemplate": "<b>%{hovertext}</b><br><br>manual_topic=natural disaster<br>index=%{x}<br>parallel_per_sent=%{y}<extra></extra>",
         "hovertext": [
          "2011-05-23",
          "2012-10-29",
          "2010-07-15",
          "2016-08-17",
          "2014-09-17",
          "2010-04-22",
          "2010-01-12"
         ],
         "legendgroup": "natural disaster",
         "marker": {
          "color": "#636efa",
          "symbol": "circle"
         },
         "mode": "markers",
         "name": "natural disaster",
         "orientation": "v",
         "showlegend": true,
         "type": "scatter",
         "x": [
          40,
          49,
          54,
          56,
          69,
          83,
          94
         ],
         "xaxis": "x",
         "y": [
          0.1287128712871287,
          0.1071428571428571,
          0.0970149253731343,
          0.102803738317757,
          0.0454545454545454,
          0.1860465116279069,
          0.109090909090909
         ],
         "yaxis": "y"
        },
        {
         "hovertemplate": "<b>%{hovertext}</b><br><br>manual_topic=education<br>index=%{x}<br>parallel_per_sent=%{y}<extra></extra>",
         "hovertext": [
          "2009-07-15",
          "2011-02-19",
          "2015-03-11"
         ],
         "legendgroup": "education",
         "marker": {
          "color": "#EF553B",
          "symbol": "circle"
         },
         "mode": "markers",
         "name": "education",
         "orientation": "v",
         "showlegend": true,
         "type": "scatter",
         "x": [
          42,
          47,
          71
         ],
         "xaxis": "x",
         "y": [
          0.1428571428571428,
          0.0827586206896551,
          0.1304347826086956
         ],
         "yaxis": "y"
        },
        {
         "hovertemplate": "<b>%{hovertext}</b><br><br>manual_topic=science<br>index=%{x}<br>parallel_per_sent=%{y}<extra></extra>",
         "hovertext": [
          "2015-02-14",
          "2010-04-15"
         ],
         "legendgroup": "science",
         "marker": {
          "color": "#00cc96",
          "symbol": "circle"
         },
         "mode": "markers",
         "name": "science",
         "orientation": "v",
         "showlegend": true,
         "type": "scatter",
         "x": [
          73,
          80
         ],
         "xaxis": "x",
         "y": [
          0.086021505376344,
          0.0769230769230769
         ],
         "yaxis": "y"
        },
        {
         "hovertemplate": "<b>%{hovertext}</b><br><br>manual_topic=democracy<br>index=%{x}<br>parallel_per_sent=%{y}<extra></extra>",
         "hovertext": [
          "2011-01-31",
          "2009-06-15"
         ],
         "legendgroup": "democracy",
         "marker": {
          "color": "#ab63fa",
          "symbol": "circle"
         },
         "mode": "markers",
         "name": "democracy",
         "orientation": "v",
         "showlegend": true,
         "type": "scatter",
         "x": [
          86,
          87
         ],
         "xaxis": "x",
         "y": [
          0.1052631578947368,
          0.1071428571428571
         ],
         "yaxis": "y"
        }
       ],
       "layout": {
        "legend": {
         "title": {
          "text": "manual_topic"
         },
         "tracegroupgap": 0
        },
        "margin": {
         "t": 60
        },
        "template": {
         "data": {
          "bar": [
           {
            "error_x": {
             "color": "#2a3f5f"
            },
            "error_y": {
             "color": "#2a3f5f"
            },
            "marker": {
             "line": {
              "color": "#E5ECF6",
              "width": 0.5
             },
             "pattern": {
              "fillmode": "overlay",
              "size": 10,
              "solidity": 0.2
             }
            },
            "type": "bar"
           }
          ],
          "barpolar": [
           {
            "marker": {
             "line": {
              "color": "#E5ECF6",
              "width": 0.5
             },
             "pattern": {
              "fillmode": "overlay",
              "size": 10,
              "solidity": 0.2
             }
            },
            "type": "barpolar"
           }
          ],
          "carpet": [
           {
            "aaxis": {
             "endlinecolor": "#2a3f5f",
             "gridcolor": "white",
             "linecolor": "white",
             "minorgridcolor": "white",
             "startlinecolor": "#2a3f5f"
            },
            "baxis": {
             "endlinecolor": "#2a3f5f",
             "gridcolor": "white",
             "linecolor": "white",
             "minorgridcolor": "white",
             "startlinecolor": "#2a3f5f"
            },
            "type": "carpet"
           }
          ],
          "choropleth": [
           {
            "colorbar": {
             "outlinewidth": 0,
             "ticks": ""
            },
            "type": "choropleth"
           }
          ],
          "contour": [
           {
            "colorbar": {
             "outlinewidth": 0,
             "ticks": ""
            },
            "colorscale": [
             [
              0,
              "#0d0887"
             ],
             [
              0.1111111111111111,
              "#46039f"
             ],
             [
              0.2222222222222222,
              "#7201a8"
             ],
             [
              0.3333333333333333,
              "#9c179e"
             ],
             [
              0.4444444444444444,
              "#bd3786"
             ],
             [
              0.5555555555555556,
              "#d8576b"
             ],
             [
              0.6666666666666666,
              "#ed7953"
             ],
             [
              0.7777777777777778,
              "#fb9f3a"
             ],
             [
              0.8888888888888888,
              "#fdca26"
             ],
             [
              1,
              "#f0f921"
             ]
            ],
            "type": "contour"
           }
          ],
          "contourcarpet": [
           {
            "colorbar": {
             "outlinewidth": 0,
             "ticks": ""
            },
            "type": "contourcarpet"
           }
          ],
          "heatmap": [
           {
            "colorbar": {
             "outlinewidth": 0,
             "ticks": ""
            },
            "colorscale": [
             [
              0,
              "#0d0887"
             ],
             [
              0.1111111111111111,
              "#46039f"
             ],
             [
              0.2222222222222222,
              "#7201a8"
             ],
             [
              0.3333333333333333,
              "#9c179e"
             ],
             [
              0.4444444444444444,
              "#bd3786"
             ],
             [
              0.5555555555555556,
              "#d8576b"
             ],
             [
              0.6666666666666666,
              "#ed7953"
             ],
             [
              0.7777777777777778,
              "#fb9f3a"
             ],
             [
              0.8888888888888888,
              "#fdca26"
             ],
             [
              1,
              "#f0f921"
             ]
            ],
            "type": "heatmap"
           }
          ],
          "heatmapgl": [
           {
            "colorbar": {
             "outlinewidth": 0,
             "ticks": ""
            },
            "colorscale": [
             [
              0,
              "#0d0887"
             ],
             [
              0.1111111111111111,
              "#46039f"
             ],
             [
              0.2222222222222222,
              "#7201a8"
             ],
             [
              0.3333333333333333,
              "#9c179e"
             ],
             [
              0.4444444444444444,
              "#bd3786"
             ],
             [
              0.5555555555555556,
              "#d8576b"
             ],
             [
              0.6666666666666666,
              "#ed7953"
             ],
             [
              0.7777777777777778,
              "#fb9f3a"
             ],
             [
              0.8888888888888888,
              "#fdca26"
             ],
             [
              1,
              "#f0f921"
             ]
            ],
            "type": "heatmapgl"
           }
          ],
          "histogram": [
           {
            "marker": {
             "pattern": {
              "fillmode": "overlay",
              "size": 10,
              "solidity": 0.2
             }
            },
            "type": "histogram"
           }
          ],
          "histogram2d": [
           {
            "colorbar": {
             "outlinewidth": 0,
             "ticks": ""
            },
            "colorscale": [
             [
              0,
              "#0d0887"
             ],
             [
              0.1111111111111111,
              "#46039f"
             ],
             [
              0.2222222222222222,
              "#7201a8"
             ],
             [
              0.3333333333333333,
              "#9c179e"
             ],
             [
              0.4444444444444444,
              "#bd3786"
             ],
             [
              0.5555555555555556,
              "#d8576b"
             ],
             [
              0.6666666666666666,
              "#ed7953"
             ],
             [
              0.7777777777777778,
              "#fb9f3a"
             ],
             [
              0.8888888888888888,
              "#fdca26"
             ],
             [
              1,
              "#f0f921"
             ]
            ],
            "type": "histogram2d"
           }
          ],
          "histogram2dcontour": [
           {
            "colorbar": {
             "outlinewidth": 0,
             "ticks": ""
            },
            "colorscale": [
             [
              0,
              "#0d0887"
             ],
             [
              0.1111111111111111,
              "#46039f"
             ],
             [
              0.2222222222222222,
              "#7201a8"
             ],
             [
              0.3333333333333333,
              "#9c179e"
             ],
             [
              0.4444444444444444,
              "#bd3786"
             ],
             [
              0.5555555555555556,
              "#d8576b"
             ],
             [
              0.6666666666666666,
              "#ed7953"
             ],
             [
              0.7777777777777778,
              "#fb9f3a"
             ],
             [
              0.8888888888888888,
              "#fdca26"
             ],
             [
              1,
              "#f0f921"
             ]
            ],
            "type": "histogram2dcontour"
           }
          ],
          "mesh3d": [
           {
            "colorbar": {
             "outlinewidth": 0,
             "ticks": ""
            },
            "type": "mesh3d"
           }
          ],
          "parcoords": [
           {
            "line": {
             "colorbar": {
              "outlinewidth": 0,
              "ticks": ""
             }
            },
            "type": "parcoords"
           }
          ],
          "pie": [
           {
            "automargin": true,
            "type": "pie"
           }
          ],
          "scatter": [
           {
            "fillpattern": {
             "fillmode": "overlay",
             "size": 10,
             "solidity": 0.2
            },
            "type": "scatter"
           }
          ],
          "scatter3d": [
           {
            "line": {
             "colorbar": {
              "outlinewidth": 0,
              "ticks": ""
             }
            },
            "marker": {
             "colorbar": {
              "outlinewidth": 0,
              "ticks": ""
             }
            },
            "type": "scatter3d"
           }
          ],
          "scattercarpet": [
           {
            "marker": {
             "colorbar": {
              "outlinewidth": 0,
              "ticks": ""
             }
            },
            "type": "scattercarpet"
           }
          ],
          "scattergeo": [
           {
            "marker": {
             "colorbar": {
              "outlinewidth": 0,
              "ticks": ""
             }
            },
            "type": "scattergeo"
           }
          ],
          "scattergl": [
           {
            "marker": {
             "colorbar": {
              "outlinewidth": 0,
              "ticks": ""
             }
            },
            "type": "scattergl"
           }
          ],
          "scattermapbox": [
           {
            "marker": {
             "colorbar": {
              "outlinewidth": 0,
              "ticks": ""
             }
            },
            "type": "scattermapbox"
           }
          ],
          "scatterpolar": [
           {
            "marker": {
             "colorbar": {
              "outlinewidth": 0,
              "ticks": ""
             }
            },
            "type": "scatterpolar"
           }
          ],
          "scatterpolargl": [
           {
            "marker": {
             "colorbar": {
              "outlinewidth": 0,
              "ticks": ""
             }
            },
            "type": "scatterpolargl"
           }
          ],
          "scatterternary": [
           {
            "marker": {
             "colorbar": {
              "outlinewidth": 0,
              "ticks": ""
             }
            },
            "type": "scatterternary"
           }
          ],
          "surface": [
           {
            "colorbar": {
             "outlinewidth": 0,
             "ticks": ""
            },
            "colorscale": [
             [
              0,
              "#0d0887"
             ],
             [
              0.1111111111111111,
              "#46039f"
             ],
             [
              0.2222222222222222,
              "#7201a8"
             ],
             [
              0.3333333333333333,
              "#9c179e"
             ],
             [
              0.4444444444444444,
              "#bd3786"
             ],
             [
              0.5555555555555556,
              "#d8576b"
             ],
             [
              0.6666666666666666,
              "#ed7953"
             ],
             [
              0.7777777777777778,
              "#fb9f3a"
             ],
             [
              0.8888888888888888,
              "#fdca26"
             ],
             [
              1,
              "#f0f921"
             ]
            ],
            "type": "surface"
           }
          ],
          "table": [
           {
            "cells": {
             "fill": {
              "color": "#EBF0F8"
             },
             "line": {
              "color": "white"
             }
            },
            "header": {
             "fill": {
              "color": "#C8D4E3"
             },
             "line": {
              "color": "white"
             }
            },
            "type": "table"
           }
          ]
         },
         "layout": {
          "annotationdefaults": {
           "arrowcolor": "#2a3f5f",
           "arrowhead": 0,
           "arrowwidth": 1
          },
          "autotypenumbers": "strict",
          "coloraxis": {
           "colorbar": {
            "outlinewidth": 0,
            "ticks": ""
           }
          },
          "colorscale": {
           "diverging": [
            [
             0,
             "#8e0152"
            ],
            [
             0.1,
             "#c51b7d"
            ],
            [
             0.2,
             "#de77ae"
            ],
            [
             0.3,
             "#f1b6da"
            ],
            [
             0.4,
             "#fde0ef"
            ],
            [
             0.5,
             "#f7f7f7"
            ],
            [
             0.6,
             "#e6f5d0"
            ],
            [
             0.7,
             "#b8e186"
            ],
            [
             0.8,
             "#7fbc41"
            ],
            [
             0.9,
             "#4d9221"
            ],
            [
             1,
             "#276419"
            ]
           ],
           "sequential": [
            [
             0,
             "#0d0887"
            ],
            [
             0.1111111111111111,
             "#46039f"
            ],
            [
             0.2222222222222222,
             "#7201a8"
            ],
            [
             0.3333333333333333,
             "#9c179e"
            ],
            [
             0.4444444444444444,
             "#bd3786"
            ],
            [
             0.5555555555555556,
             "#d8576b"
            ],
            [
             0.6666666666666666,
             "#ed7953"
            ],
            [
             0.7777777777777778,
             "#fb9f3a"
            ],
            [
             0.8888888888888888,
             "#fdca26"
            ],
            [
             1,
             "#f0f921"
            ]
           ],
           "sequentialminus": [
            [
             0,
             "#0d0887"
            ],
            [
             0.1111111111111111,
             "#46039f"
            ],
            [
             0.2222222222222222,
             "#7201a8"
            ],
            [
             0.3333333333333333,
             "#9c179e"
            ],
            [
             0.4444444444444444,
             "#bd3786"
            ],
            [
             0.5555555555555556,
             "#d8576b"
            ],
            [
             0.6666666666666666,
             "#ed7953"
            ],
            [
             0.7777777777777778,
             "#fb9f3a"
            ],
            [
             0.8888888888888888,
             "#fdca26"
            ],
            [
             1,
             "#f0f921"
            ]
           ]
          },
          "colorway": [
           "#636efa",
           "#EF553B",
           "#00cc96",
           "#ab63fa",
           "#FFA15A",
           "#19d3f3",
           "#FF6692",
           "#B6E880",
           "#FF97FF",
           "#FECB52"
          ],
          "font": {
           "color": "#2a3f5f"
          },
          "geo": {
           "bgcolor": "white",
           "lakecolor": "white",
           "landcolor": "#E5ECF6",
           "showlakes": true,
           "showland": true,
           "subunitcolor": "white"
          },
          "hoverlabel": {
           "align": "left"
          },
          "hovermode": "closest",
          "mapbox": {
           "style": "light"
          },
          "paper_bgcolor": "white",
          "plot_bgcolor": "#E5ECF6",
          "polar": {
           "angularaxis": {
            "gridcolor": "white",
            "linecolor": "white",
            "ticks": ""
           },
           "bgcolor": "#E5ECF6",
           "radialaxis": {
            "gridcolor": "white",
            "linecolor": "white",
            "ticks": ""
           }
          },
          "scene": {
           "xaxis": {
            "backgroundcolor": "#E5ECF6",
            "gridcolor": "white",
            "gridwidth": 2,
            "linecolor": "white",
            "showbackground": true,
            "ticks": "",
            "zerolinecolor": "white"
           },
           "yaxis": {
            "backgroundcolor": "#E5ECF6",
            "gridcolor": "white",
            "gridwidth": 2,
            "linecolor": "white",
            "showbackground": true,
            "ticks": "",
            "zerolinecolor": "white"
           },
           "zaxis": {
            "backgroundcolor": "#E5ECF6",
            "gridcolor": "white",
            "gridwidth": 2,
            "linecolor": "white",
            "showbackground": true,
            "ticks": "",
            "zerolinecolor": "white"
           }
          },
          "shapedefaults": {
           "line": {
            "color": "#2a3f5f"
           }
          },
          "ternary": {
           "aaxis": {
            "gridcolor": "white",
            "linecolor": "white",
            "ticks": ""
           },
           "baxis": {
            "gridcolor": "white",
            "linecolor": "white",
            "ticks": ""
           },
           "bgcolor": "#E5ECF6",
           "caxis": {
            "gridcolor": "white",
            "linecolor": "white",
            "ticks": ""
           }
          },
          "title": {
           "x": 0.05
          },
          "xaxis": {
           "automargin": true,
           "gridcolor": "white",
           "linecolor": "white",
           "ticks": "",
           "title": {
            "standoff": 15
           },
           "zerolinecolor": "white",
           "zerolinewidth": 2
          },
          "yaxis": {
           "automargin": true,
           "gridcolor": "white",
           "linecolor": "white",
           "ticks": "",
           "title": {
            "standoff": 15
           },
           "zerolinecolor": "white",
           "zerolinewidth": 2
          }
         }
        },
        "xaxis": {
         "anchor": "y",
         "domain": [
          0,
          1
         ],
         "title": {
          "text": "index"
         }
        },
        "yaxis": {
         "anchor": "x",
         "domain": [
          0,
          1
         ],
         "title": {
          "text": "parallel_per_sent"
         }
        }
       }
      },
      "text/html": [
       "<div>                            <div id=\"1010a8fe-dcf9-4c86-a85d-4ff9b0339bd6\" class=\"plotly-graph-div\" style=\"height:525px; width:100%;\"></div>            <script type=\"text/javascript\">                require([\"plotly\"], function(Plotly) {                    window.PLOTLYENV=window.PLOTLYENV || {};                                    if (document.getElementById(\"1010a8fe-dcf9-4c86-a85d-4ff9b0339bd6\")) {                    Plotly.newPlot(                        \"1010a8fe-dcf9-4c86-a85d-4ff9b0339bd6\",                        [{\"hovertemplate\":\"<b>%{hovertext}</b><br><br>manual_topic=immigration<br>index=%{x}<br>parallel_per_sent=%{y}<extra></extra>\",\"hovertext\":[\"2014-07-01\",\"2013-01-30\"],\"legendgroup\":\"immigration\",\"marker\":{\"color\":\"#636efa\",\"symbol\":\"circle\"},\"mode\":\"markers\",\"name\":\"immigration\",\"orientation\":\"v\",\"showlegend\":true,\"x\":[0,19],\"xaxis\":\"x\",\"y\":[0.0535714285714285,0.0637254901960784],\"yaxis\":\"y\",\"type\":\"scatter\"},{\"hovertemplate\":\"<b>%{hovertext}</b><br><br>manual_topic=terrorism<br>index=%{x}<br>parallel_per_sent=%{y}<extra></extra>\",\"hovertext\":[\"2009-12-25\",\"2013-04-16\",\"2015-01-08\",\"2015-11-14\",\"2016-03-23\"],\"legendgroup\":\"terrorism\",\"marker\":{\"color\":\"#EF553B\",\"symbol\":\"circle\"},\"mode\":\"markers\",\"name\":\"terrorism\",\"orientation\":\"v\",\"showlegend\":true,\"x\":[1,18,20,41,85],\"xaxis\":\"x\",\"y\":[0.0566037735849056,0.0625,0.3333333333333333,0.09375,0.4],\"yaxis\":\"y\",\"type\":\"scatter\"},{\"hovertemplate\":\"<b>%{hovertext}</b><br><br>manual_topic=multi<br>index=%{x}<br>parallel_per_sent=%{y}<extra></extra>\",\"hovertext\":[\"2008-11-05\",\"2012-04-29\",\"2013-04-26\",\"2013-01-22\",\"2017-01-11\",\"2004-07-28\",\"2014-11-05\",\"2012-09-07\",\"2012-01-25\",\"2015-01-21\",\"2008-06-04\",\"2009-01-20\",\"2016-11-09\",\"2010-11-02\",\"2013-02-13\",\"2016-05-06\",\"2016-07-28\",\"2016-01-13\",\"2016-02-16\",\"2011-01-26\",\"2014-08-12\",\"2014-01-29\",\"2012-11-07\"],\"legendgroup\":\"multi\",\"marker\":{\"color\":\"#00cc96\",\"symbol\":\"circle\"},\"mode\":\"markers\",\"name\":\"multi\",\"orientation\":\"v\",\"showlegend\":true,\"x\":[2,4,7,11,22,24,25,33,39,43,50,52,53,55,70,75,79,81,89,91,93,98,99],\"xaxis\":\"x\",\"y\":[0.1875,0.1,0.1509433962264151,0.1505376344086021,0.1255411255411255,0.1775700934579439,0.0632911392405063,0.1160714285714285,0.0570071258907363,0.0938337801608579,0.2304147465437788,0.1531531531531531,0.0759493670886076,0.0961538461538461,0.0617977528089887,0.0947075208913649,0.0698529411764705,0.0739644970414201,0.0416666666666666,0.0798004987531172,0.1333333333333333,0.0728862973760933,0.1574074074074074],\"yaxis\":\"y\",\"type\":\"scatter\"},{\"hovertemplate\":\"<b>%{hovertext}</b><br><br>manual_topic=national security<br>index=%{x}<br>parallel_per_sent=%{y}<extra></extra>\",\"hovertext\":[\"2011-12-16\",\"2009-05-22\",\"2014-05-21\",\"2014-08-08\",\"2011-05-02\",\"2013-09-11\",\"2012-01-06\",\"2015-07-07\",\"2010-07-26\",\"2012-05-02\",\"2014-01-18\"],\"legendgroup\":\"national security\",\"marker\":{\"color\":\"#ab63fa\",\"symbol\":\"circle\"},\"mode\":\"markers\",\"name\":\"national security\",\"orientation\":\"v\",\"showlegend\":true,\"x\":[3,12,16,23,35,45,51,59,62,88,95],\"xaxis\":\"x\",\"y\":[0.0392156862745098,0.1104294478527607,0.0704225352112676,0.0857142857142857,0.1081081081081081,0.1121495327102803,0.1216216216216216,0.05,0.0666666666666666,0.053763440860215,0.1333333333333333],\"yaxis\":\"y\",\"type\":\"scatter\"},{\"hovertemplate\":\"<b>%{hovertext}</b><br><br>manual_topic=international relations<br>index=%{x}<br>parallel_per_sent=%{y}<extra></extra>\",\"hovertext\":[\"2015-04-03\",\"2010-08-31\",\"2013-06-19\",\"2012-03-27\",\"2016-04-25\",\"2009-09-24\",\"2014-12-18\",\"2014-03-07\",\"2011-11-17\",\"2011-06-23\",\"2013-05-04\",\"2009-10-09\",\"2014-03-26\"],\"legendgroup\":\"international relations\",\"marker\":{\"color\":\"#FFA15A\",\"symbol\":\"circle\"},\"mode\":\"markers\",\"name\":\"international relations\",\"orientation\":\"v\",\"showlegend\":true,\"x\":[5,8,10,14,21,28,32,36,48,65,77,84,96],\"xaxis\":\"x\",\"y\":[0.0737704918032786,0.0875912408759124,0.1219512195121951,0.08,0.1058020477815699,0.1694214876033057,0.0934579439252336,0.1034482758620689,0.1030927835051546,0.0618556701030927,0.0847457627118644,0.1388888888888889,0.1404494382022472],\"yaxis\":\"y\",\"type\":\"scatter\"},{\"hovertemplate\":\"<b>%{hovertext}</b><br><br>manual_topic=climate<br>index=%{x}<br>parallel_per_sent=%{y}<extra></extra>\",\"hovertext\":[\"2015-08-03\",\"2015-12-14\",\"2009-12-19\"],\"legendgroup\":\"climate\",\"marker\":{\"color\":\"#19d3f3\",\"symbol\":\"circle\"},\"mode\":\"markers\",\"name\":\"climate\",\"orientation\":\"v\",\"showlegend\":true,\"x\":[6,76,78],\"xaxis\":\"x\",\"y\":[0.0769230769230769,0.0714285714285714,0.1212121212121212],\"yaxis\":\"y\",\"type\":\"scatter\"},{\"hovertemplate\":\"<b>%{hovertext}</b><br><br>manual_topic=civil rights<br>index=%{x}<br>parallel_per_sent=%{y}<extra></extra>\",\"hovertext\":[\"2013-12-06\",\"2012-05-10\",\"2011-10-17\",\"2014-04-11\",\"2013-08-29\",\"2015-09-24\",\"2013-07-14\"],\"legendgroup\":\"civil rights\",\"marker\":{\"color\":\"#FF6692\",\"symbol\":\"circle\"},\"mode\":\"markers\",\"name\":\"civil rights\",\"orientation\":\"v\",\"showlegend\":true,\"x\":[9,15,17,26,38,60,66],\"xaxis\":\"x\",\"y\":[0.0769230769230769,0.0909090909090909,0.2298850574712643,0.1094890510948905,0.1463414634146341,0.1951219512195122,0.1931818181818181],\"yaxis\":\"y\",\"type\":\"scatter\"},{\"hovertemplate\":\"<b>%{hovertext}</b><br><br>manual_topic=shooting<br>index=%{x}<br>parallel_per_sent=%{y}<extra></extra>\",\"hovertext\":[\"2011-01-08\",\"2016-06-13\",\"2012-07-21\",\"2012-12-15\",\"2015-06-18\",\"2009-11-05\",\"2013-01-16\",\"2015-10-02\"],\"legendgroup\":\"shooting\",\"marker\":{\"color\":\"#B6E880\",\"symbol\":\"circle\"},\"mode\":\"markers\",\"name\":\"shooting\",\"orientation\":\"v\",\"showlegend\":true,\"x\":[13,30,37,44,57,61,68,90],\"xaxis\":\"x\",\"y\":[0.1094890510948905,0.125,0.1555555555555555,0.1904761904761904,0.1590909090909091,0.13,0.0393700787401574,0.0985915492957746],\"yaxis\":\"y\",\"type\":\"scatter\"},{\"hovertemplate\":\"<b>%{hovertext}</b><br><br>manual_topic=economy<br>index=%{x}<br>parallel_per_sent=%{y}<extra></extra>\",\"hovertext\":[\"2009-04-02\",\"2015-05-09\",\"2014-10-18\",\"2010-07-21\",\"2011-09-09\",\"2009-04-15\",\"2011-07-26\",\"2009-01-05\",\"2010-05-07\",\"2013-10-02\",\"2012-03-31\",\"2016-09-05\"],\"legendgroup\":\"economy\",\"marker\":{\"color\":\"#FF97FF\",\"symbol\":\"circle\"},\"mode\":\"markers\",\"name\":\"economy\",\"orientation\":\"v\",\"showlegend\":true,\"x\":[27,31,34,46,58,64,67,72,74,82,97,100],\"xaxis\":\"x\",\"y\":[0.131578947368421,0.0531914893617021,0.1052631578947368,0.1034482758620689,0.0699588477366255,0.1590106007067137,0.0990990990990991,0.2045454545454545,0.1,0.0446927374301676,0.1095890410958904,0.0714285714285714],\"yaxis\":\"y\",\"type\":\"scatter\"},{\"hovertemplate\":\"<b>%{hovertext}</b><br><br>manual_topic=health care<br>index=%{x}<br>parallel_per_sent=%{y}<extra></extra>\",\"hovertext\":[\"2010-03-04\",\"2010-03-24\",\"2012-06-29\"],\"legendgroup\":\"health care\",\"marker\":{\"color\":\"#FECB52\",\"symbol\":\"circle\"},\"mode\":\"markers\",\"name\":\"health care\",\"orientation\":\"v\",\"showlegend\":true,\"x\":[29,63,92],\"xaxis\":\"x\",\"y\":[0.1079136690647482,0.1176470588235294,0.0634920634920634],\"yaxis\":\"y\",\"type\":\"scatter\"},{\"hovertemplate\":\"<b>%{hovertext}</b><br><br>manual_topic=natural disaster<br>index=%{x}<br>parallel_per_sent=%{y}<extra></extra>\",\"hovertext\":[\"2011-05-23\",\"2012-10-29\",\"2010-07-15\",\"2016-08-17\",\"2014-09-17\",\"2010-04-22\",\"2010-01-12\"],\"legendgroup\":\"natural disaster\",\"marker\":{\"color\":\"#636efa\",\"symbol\":\"circle\"},\"mode\":\"markers\",\"name\":\"natural disaster\",\"orientation\":\"v\",\"showlegend\":true,\"x\":[40,49,54,56,69,83,94],\"xaxis\":\"x\",\"y\":[0.1287128712871287,0.1071428571428571,0.0970149253731343,0.102803738317757,0.0454545454545454,0.1860465116279069,0.109090909090909],\"yaxis\":\"y\",\"type\":\"scatter\"},{\"hovertemplate\":\"<b>%{hovertext}</b><br><br>manual_topic=education<br>index=%{x}<br>parallel_per_sent=%{y}<extra></extra>\",\"hovertext\":[\"2009-07-15\",\"2011-02-19\",\"2015-03-11\"],\"legendgroup\":\"education\",\"marker\":{\"color\":\"#EF553B\",\"symbol\":\"circle\"},\"mode\":\"markers\",\"name\":\"education\",\"orientation\":\"v\",\"showlegend\":true,\"x\":[42,47,71],\"xaxis\":\"x\",\"y\":[0.1428571428571428,0.0827586206896551,0.1304347826086956],\"yaxis\":\"y\",\"type\":\"scatter\"},{\"hovertemplate\":\"<b>%{hovertext}</b><br><br>manual_topic=science<br>index=%{x}<br>parallel_per_sent=%{y}<extra></extra>\",\"hovertext\":[\"2015-02-14\",\"2010-04-15\"],\"legendgroup\":\"science\",\"marker\":{\"color\":\"#00cc96\",\"symbol\":\"circle\"},\"mode\":\"markers\",\"name\":\"science\",\"orientation\":\"v\",\"showlegend\":true,\"x\":[73,80],\"xaxis\":\"x\",\"y\":[0.086021505376344,0.0769230769230769],\"yaxis\":\"y\",\"type\":\"scatter\"},{\"hovertemplate\":\"<b>%{hovertext}</b><br><br>manual_topic=democracy<br>index=%{x}<br>parallel_per_sent=%{y}<extra></extra>\",\"hovertext\":[\"2011-01-31\",\"2009-06-15\"],\"legendgroup\":\"democracy\",\"marker\":{\"color\":\"#ab63fa\",\"symbol\":\"circle\"},\"mode\":\"markers\",\"name\":\"democracy\",\"orientation\":\"v\",\"showlegend\":true,\"x\":[86,87],\"xaxis\":\"x\",\"y\":[0.1052631578947368,0.1071428571428571],\"yaxis\":\"y\",\"type\":\"scatter\"}],                        {\"template\":{\"data\":{\"histogram2dcontour\":[{\"type\":\"histogram2dcontour\",\"colorbar\":{\"outlinewidth\":0,\"ticks\":\"\"},\"colorscale\":[[0.0,\"#0d0887\"],[0.1111111111111111,\"#46039f\"],[0.2222222222222222,\"#7201a8\"],[0.3333333333333333,\"#9c179e\"],[0.4444444444444444,\"#bd3786\"],[0.5555555555555556,\"#d8576b\"],[0.6666666666666666,\"#ed7953\"],[0.7777777777777778,\"#fb9f3a\"],[0.8888888888888888,\"#fdca26\"],[1.0,\"#f0f921\"]]}],\"choropleth\":[{\"type\":\"choropleth\",\"colorbar\":{\"outlinewidth\":0,\"ticks\":\"\"}}],\"histogram2d\":[{\"type\":\"histogram2d\",\"colorbar\":{\"outlinewidth\":0,\"ticks\":\"\"},\"colorscale\":[[0.0,\"#0d0887\"],[0.1111111111111111,\"#46039f\"],[0.2222222222222222,\"#7201a8\"],[0.3333333333333333,\"#9c179e\"],[0.4444444444444444,\"#bd3786\"],[0.5555555555555556,\"#d8576b\"],[0.6666666666666666,\"#ed7953\"],[0.7777777777777778,\"#fb9f3a\"],[0.8888888888888888,\"#fdca26\"],[1.0,\"#f0f921\"]]}],\"heatmap\":[{\"type\":\"heatmap\",\"colorbar\":{\"outlinewidth\":0,\"ticks\":\"\"},\"colorscale\":[[0.0,\"#0d0887\"],[0.1111111111111111,\"#46039f\"],[0.2222222222222222,\"#7201a8\"],[0.3333333333333333,\"#9c179e\"],[0.4444444444444444,\"#bd3786\"],[0.5555555555555556,\"#d8576b\"],[0.6666666666666666,\"#ed7953\"],[0.7777777777777778,\"#fb9f3a\"],[0.8888888888888888,\"#fdca26\"],[1.0,\"#f0f921\"]]}],\"heatmapgl\":[{\"type\":\"heatmapgl\",\"colorbar\":{\"outlinewidth\":0,\"ticks\":\"\"},\"colorscale\":[[0.0,\"#0d0887\"],[0.1111111111111111,\"#46039f\"],[0.2222222222222222,\"#7201a8\"],[0.3333333333333333,\"#9c179e\"],[0.4444444444444444,\"#bd3786\"],[0.5555555555555556,\"#d8576b\"],[0.6666666666666666,\"#ed7953\"],[0.7777777777777778,\"#fb9f3a\"],[0.8888888888888888,\"#fdca26\"],[1.0,\"#f0f921\"]]}],\"contourcarpet\":[{\"type\":\"contourcarpet\",\"colorbar\":{\"outlinewidth\":0,\"ticks\":\"\"}}],\"contour\":[{\"type\":\"contour\",\"colorbar\":{\"outlinewidth\":0,\"ticks\":\"\"},\"colorscale\":[[0.0,\"#0d0887\"],[0.1111111111111111,\"#46039f\"],[0.2222222222222222,\"#7201a8\"],[0.3333333333333333,\"#9c179e\"],[0.4444444444444444,\"#bd3786\"],[0.5555555555555556,\"#d8576b\"],[0.6666666666666666,\"#ed7953\"],[0.7777777777777778,\"#fb9f3a\"],[0.8888888888888888,\"#fdca26\"],[1.0,\"#f0f921\"]]}],\"surface\":[{\"type\":\"surface\",\"colorbar\":{\"outlinewidth\":0,\"ticks\":\"\"},\"colorscale\":[[0.0,\"#0d0887\"],[0.1111111111111111,\"#46039f\"],[0.2222222222222222,\"#7201a8\"],[0.3333333333333333,\"#9c179e\"],[0.4444444444444444,\"#bd3786\"],[0.5555555555555556,\"#d8576b\"],[0.6666666666666666,\"#ed7953\"],[0.7777777777777778,\"#fb9f3a\"],[0.8888888888888888,\"#fdca26\"],[1.0,\"#f0f921\"]]}],\"mesh3d\":[{\"type\":\"mesh3d\",\"colorbar\":{\"outlinewidth\":0,\"ticks\":\"\"}}],\"scatter\":[{\"fillpattern\":{\"fillmode\":\"overlay\",\"size\":10,\"solidity\":0.2},\"type\":\"scatter\"}],\"parcoords\":[{\"type\":\"parcoords\",\"line\":{\"colorbar\":{\"outlinewidth\":0,\"ticks\":\"\"}}}],\"scatterpolargl\":[{\"type\":\"scatterpolargl\",\"marker\":{\"colorbar\":{\"outlinewidth\":0,\"ticks\":\"\"}}}],\"bar\":[{\"error_x\":{\"color\":\"#2a3f5f\"},\"error_y\":{\"color\":\"#2a3f5f\"},\"marker\":{\"line\":{\"color\":\"#E5ECF6\",\"width\":0.5},\"pattern\":{\"fillmode\":\"overlay\",\"size\":10,\"solidity\":0.2}},\"type\":\"bar\"}],\"scattergeo\":[{\"type\":\"scattergeo\",\"marker\":{\"colorbar\":{\"outlinewidth\":0,\"ticks\":\"\"}}}],\"scatterpolar\":[{\"type\":\"scatterpolar\",\"marker\":{\"colorbar\":{\"outlinewidth\":0,\"ticks\":\"\"}}}],\"histogram\":[{\"marker\":{\"pattern\":{\"fillmode\":\"overlay\",\"size\":10,\"solidity\":0.2}},\"type\":\"histogram\"}],\"scattergl\":[{\"type\":\"scattergl\",\"marker\":{\"colorbar\":{\"outlinewidth\":0,\"ticks\":\"\"}}}],\"scatter3d\":[{\"type\":\"scatter3d\",\"line\":{\"colorbar\":{\"outlinewidth\":0,\"ticks\":\"\"}},\"marker\":{\"colorbar\":{\"outlinewidth\":0,\"ticks\":\"\"}}}],\"scattermapbox\":[{\"type\":\"scattermapbox\",\"marker\":{\"colorbar\":{\"outlinewidth\":0,\"ticks\":\"\"}}}],\"scatterternary\":[{\"type\":\"scatterternary\",\"marker\":{\"colorbar\":{\"outlinewidth\":0,\"ticks\":\"\"}}}],\"scattercarpet\":[{\"type\":\"scattercarpet\",\"marker\":{\"colorbar\":{\"outlinewidth\":0,\"ticks\":\"\"}}}],\"carpet\":[{\"aaxis\":{\"endlinecolor\":\"#2a3f5f\",\"gridcolor\":\"white\",\"linecolor\":\"white\",\"minorgridcolor\":\"white\",\"startlinecolor\":\"#2a3f5f\"},\"baxis\":{\"endlinecolor\":\"#2a3f5f\",\"gridcolor\":\"white\",\"linecolor\":\"white\",\"minorgridcolor\":\"white\",\"startlinecolor\":\"#2a3f5f\"},\"type\":\"carpet\"}],\"table\":[{\"cells\":{\"fill\":{\"color\":\"#EBF0F8\"},\"line\":{\"color\":\"white\"}},\"header\":{\"fill\":{\"color\":\"#C8D4E3\"},\"line\":{\"color\":\"white\"}},\"type\":\"table\"}],\"barpolar\":[{\"marker\":{\"line\":{\"color\":\"#E5ECF6\",\"width\":0.5},\"pattern\":{\"fillmode\":\"overlay\",\"size\":10,\"solidity\":0.2}},\"type\":\"barpolar\"}],\"pie\":[{\"automargin\":true,\"type\":\"pie\"}]},\"layout\":{\"autotypenumbers\":\"strict\",\"colorway\":[\"#636efa\",\"#EF553B\",\"#00cc96\",\"#ab63fa\",\"#FFA15A\",\"#19d3f3\",\"#FF6692\",\"#B6E880\",\"#FF97FF\",\"#FECB52\"],\"font\":{\"color\":\"#2a3f5f\"},\"hovermode\":\"closest\",\"hoverlabel\":{\"align\":\"left\"},\"paper_bgcolor\":\"white\",\"plot_bgcolor\":\"#E5ECF6\",\"polar\":{\"bgcolor\":\"#E5ECF6\",\"angularaxis\":{\"gridcolor\":\"white\",\"linecolor\":\"white\",\"ticks\":\"\"},\"radialaxis\":{\"gridcolor\":\"white\",\"linecolor\":\"white\",\"ticks\":\"\"}},\"ternary\":{\"bgcolor\":\"#E5ECF6\",\"aaxis\":{\"gridcolor\":\"white\",\"linecolor\":\"white\",\"ticks\":\"\"},\"baxis\":{\"gridcolor\":\"white\",\"linecolor\":\"white\",\"ticks\":\"\"},\"caxis\":{\"gridcolor\":\"white\",\"linecolor\":\"white\",\"ticks\":\"\"}},\"coloraxis\":{\"colorbar\":{\"outlinewidth\":0,\"ticks\":\"\"}},\"colorscale\":{\"sequential\":[[0.0,\"#0d0887\"],[0.1111111111111111,\"#46039f\"],[0.2222222222222222,\"#7201a8\"],[0.3333333333333333,\"#9c179e\"],[0.4444444444444444,\"#bd3786\"],[0.5555555555555556,\"#d8576b\"],[0.6666666666666666,\"#ed7953\"],[0.7777777777777778,\"#fb9f3a\"],[0.8888888888888888,\"#fdca26\"],[1.0,\"#f0f921\"]],\"sequentialminus\":[[0.0,\"#0d0887\"],[0.1111111111111111,\"#46039f\"],[0.2222222222222222,\"#7201a8\"],[0.3333333333333333,\"#9c179e\"],[0.4444444444444444,\"#bd3786\"],[0.5555555555555556,\"#d8576b\"],[0.6666666666666666,\"#ed7953\"],[0.7777777777777778,\"#fb9f3a\"],[0.8888888888888888,\"#fdca26\"],[1.0,\"#f0f921\"]],\"diverging\":[[0,\"#8e0152\"],[0.1,\"#c51b7d\"],[0.2,\"#de77ae\"],[0.3,\"#f1b6da\"],[0.4,\"#fde0ef\"],[0.5,\"#f7f7f7\"],[0.6,\"#e6f5d0\"],[0.7,\"#b8e186\"],[0.8,\"#7fbc41\"],[0.9,\"#4d9221\"],[1,\"#276419\"]]},\"xaxis\":{\"gridcolor\":\"white\",\"linecolor\":\"white\",\"ticks\":\"\",\"title\":{\"standoff\":15},\"zerolinecolor\":\"white\",\"automargin\":true,\"zerolinewidth\":2},\"yaxis\":{\"gridcolor\":\"white\",\"linecolor\":\"white\",\"ticks\":\"\",\"title\":{\"standoff\":15},\"zerolinecolor\":\"white\",\"automargin\":true,\"zerolinewidth\":2},\"scene\":{\"xaxis\":{\"backgroundcolor\":\"#E5ECF6\",\"gridcolor\":\"white\",\"linecolor\":\"white\",\"showbackground\":true,\"ticks\":\"\",\"zerolinecolor\":\"white\",\"gridwidth\":2},\"yaxis\":{\"backgroundcolor\":\"#E5ECF6\",\"gridcolor\":\"white\",\"linecolor\":\"white\",\"showbackground\":true,\"ticks\":\"\",\"zerolinecolor\":\"white\",\"gridwidth\":2},\"zaxis\":{\"backgroundcolor\":\"#E5ECF6\",\"gridcolor\":\"white\",\"linecolor\":\"white\",\"showbackground\":true,\"ticks\":\"\",\"zerolinecolor\":\"white\",\"gridwidth\":2}},\"shapedefaults\":{\"line\":{\"color\":\"#2a3f5f\"}},\"annotationdefaults\":{\"arrowcolor\":\"#2a3f5f\",\"arrowhead\":0,\"arrowwidth\":1},\"geo\":{\"bgcolor\":\"white\",\"landcolor\":\"#E5ECF6\",\"subunitcolor\":\"white\",\"showland\":true,\"showlakes\":true,\"lakecolor\":\"white\"},\"title\":{\"x\":0.05},\"mapbox\":{\"style\":\"light\"}}},\"xaxis\":{\"anchor\":\"y\",\"domain\":[0.0,1.0],\"title\":{\"text\":\"index\"}},\"yaxis\":{\"anchor\":\"x\",\"domain\":[0.0,1.0],\"title\":{\"text\":\"parallel_per_sent\"}},\"legend\":{\"title\":{\"text\":\"manual_topic\"},\"tracegroupgap\":0},\"margin\":{\"t\":60}},                        {\"responsive\": true}                    ).then(function(){\n",
       "                            \n",
       "var gd = document.getElementById('1010a8fe-dcf9-4c86-a85d-4ff9b0339bd6');\n",
       "var x = new MutationObserver(function (mutations, observer) {{\n",
       "        var display = window.getComputedStyle(gd).display;\n",
       "        if (!display || display === 'none') {{\n",
       "            console.log([gd, 'removed!']);\n",
       "            Plotly.purge(gd);\n",
       "            observer.disconnect();\n",
       "        }}\n",
       "}});\n",
       "\n",
       "// Listen for the removal of the full notebook cells\n",
       "var notebookContainer = gd.closest('#notebook-container');\n",
       "if (notebookContainer) {{\n",
       "    x.observe(notebookContainer, {childList: true});\n",
       "}}\n",
       "\n",
       "// Listen for the clearing of the current output cell\n",
       "var outputEl = gd.closest('.output');\n",
       "if (outputEl) {{\n",
       "    x.observe(outputEl, {childList: true});\n",
       "}}\n",
       "\n",
       "                        })                };                });            </script>        </div>"
      ]
     },
     "metadata": {},
     "output_type": "display_data"
    }
   ],
   "source": [
    "fig = px.scatter(par_oba, x=par_oba.index, y=\"parallel_per_sent\", color=\"manual_topic\", hover_name=\"date\")\n",
    "fig.show()"
   ]
  },
  {
   "cell_type": "code",
   "execution_count": 60,
   "id": "4eb9dd2a",
   "metadata": {},
   "outputs": [
    {
     "data": {
      "text/plain": [
       "manual_topic\n",
       "immigration                0.058648\n",
       "science                    0.081472\n",
       "national security          0.086493\n",
       "climate                    0.089855\n",
       "health care                0.096351\n",
       "economy                    0.104317\n",
       "international relations    0.104960\n",
       "democracy                  0.106203\n",
       "natural disaster           0.110895\n",
       "multi                      0.111451\n",
       "education                  0.118684\n",
       "shooting                   0.125947\n",
       "civil rights               0.148836\n",
       "terrorism                  0.189237\n",
       "Name: parallel_per_sent, dtype: float64"
      ]
     },
     "execution_count": 60,
     "metadata": {},
     "output_type": "execute_result"
    }
   ],
   "source": [
    "par_oba.groupby(by=\"manual_topic\").parallel_per_sent.mean().sort_values()"
   ]
  },
  {
   "cell_type": "code",
   "execution_count": null,
   "id": "705fae2b",
   "metadata": {},
   "outputs": [],
   "source": []
  }
 ],
 "metadata": {
  "kernelspec": {
   "display_name": "Python 3 (ipykernel)",
   "language": "python",
   "name": "python3"
  },
  "language_info": {
   "codemirror_mode": {
    "name": "ipython",
    "version": 3
   },
   "file_extension": ".py",
   "mimetype": "text/x-python",
   "name": "python",
   "nbconvert_exporter": "python",
   "pygments_lexer": "ipython3",
   "version": "3.9.2"
  }
 },
 "nbformat": 4,
 "nbformat_minor": 5
}
