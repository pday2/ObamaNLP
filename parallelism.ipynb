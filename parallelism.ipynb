{
 "cells": [
  {
   "cell_type": "markdown",
   "id": "04a9e389",
   "metadata": {},
   "source": [
    "### <A HREF=\"https://www.poynter.org/reporting-editing/2017/why-it-worked-a-rhetorical-analysis-of-obamas-speech-on-race-2/\">Poynter article on the linguistic devices used in Obama's March 18, 2008 speech on American race relations, often referred to as A More Perfect Union</A>"
   ]
  },
  {
   "cell_type": "markdown",
   "id": "0acd32e1",
   "metadata": {},
   "source": [
    "### <A HREF=\"https://www.americanrhetoric.com/speeches/barackobamaperfectunion.htm\">A More Perfect Union speech</A>"
   ]
  },
  {
   "cell_type": "markdown",
   "id": "65c156c3",
   "metadata": {},
   "source": [
    "<B>Parallelism</B>\n",
    "<P>\n",
    "At the risk of calling to mind the worst memories of grammar class, I invoke the wisdom that parallel constructions help authors and orators make meaning memorable. To remember how parallelism works, think of equal terms to express equal ideas. So Dr. King dreamed that one day his four children \"will not be judged by the color of their skin but by the content of their character.\" (By the content of their character is parallel to by the color of their skin.)</P>\n",
    "<P>\n",
    "Back to Obama: \"This was one of the tasks we set forth at the beginning of this campaign — to continue the long march of those who came before us, a march for a more just, more equal, more free, more caring and more prosperous America.\" If you are counting, that's five parallel phrases among 43 words. </P>\n",
    "<P>\n",
    "\n",
    "And there are many more:</P>\n",
    "<P>\n",
    "\n",
    " \n",
    "\"…we may not have come from the same place, but we all want to move in the same direction.\"</P>\n",
    "<P>\n",
    "\n",
    " \n",
    "\"So when they are told to bus their children to a school across town; when they hear that an African America is getting an advantage in landing a good job or a spot in a good college because of an injustice that they themselves never committed; when they're told that their fears about crime in urban neighborhoods are somehow prejudiced, resentment builds over time.\"</P>\n",
    "<P>\n",
    "\n",
    " \n",
    "\"…embracing the burdens of our past without becoming victims of our past.\"</P>\n",
    "<P>\n",
    "<I>Roy Peter Clark, October 20, 2017, Poynter<I>"
   ]
  },
  {
   "cell_type": "code",
   "execution_count": 3,
   "id": "e06733f2",
   "metadata": {},
   "outputs": [
    {
     "name": "stderr",
     "output_type": "stream",
     "text": [
      "[nltk_data] Downloading package punkt to /home/muddy/nltk_data...\n",
      "[nltk_data]   Package punkt is already up-to-date!\n"
     ]
    }
   ],
   "source": [
    "import numpy as np\n",
    "import pandas as pd\n",
    "import matplotlib.pyplot as plt\n",
    "import plotly.express as px\n",
    "import os\n",
    "import unicodedata\n",
    "import re\n",
    "import stanza\n",
    "from collections import defaultdict\n",
    "from textblob import TextBlob\n",
    "import nltk\n",
    "from nltk.tokenize import TreebankWordTokenizer\n",
    "from nltk.tokenize import sent_tokenize\n",
    "nltk.download('punkt')\n",
    "word_token = TreebankWordTokenizer()"
   ]
  },
  {
   "cell_type": "markdown",
   "id": "d778db7f",
   "metadata": {},
   "source": [
    "### <A HREF=\"https://stanfordnlp.github.io/stanza/getting_started.html\">Stanza quickstart guide</A>"
   ]
  },
  {
   "cell_type": "code",
   "execution_count": null,
   "id": "55f88cca",
   "metadata": {},
   "outputs": [],
   "source": [
    "nlp = stanza.Pipeline(lang=\"en\") # Initialize the default English pipeline"
   ]
  },
  {
   "cell_type": "code",
   "execution_count": null,
   "id": "161615be",
   "metadata": {},
   "outputs": [],
   "source": [
    "from graphviz import Source\n",
    "from nltk.parse.corenlp import CoreNLPDependencyParser\n",
    "import os"
   ]
  },
  {
   "cell_type": "code",
   "execution_count": null,
   "id": "f6e4a238",
   "metadata": {},
   "outputs": [],
   "source": [
    "os.environ[\"PATH\"] += os.pathsep + 'C:/Program Files/Graphviz/bin/'"
   ]
  },
  {
   "cell_type": "code",
   "execution_count": null,
   "id": "d9bd5f46",
   "metadata": {},
   "outputs": [],
   "source": [
    "sdp = CoreNLPDependencyParser()\n",
    "sentence = [sentence for sentence in text_df['sentences']][150][50]\n",
    "result = list(sdp.raw_parse(sentence))\n",
    "dep_tree_dot_repr = [parse for parse in result][0].to_dot()\n",
    "source = Source(dep_tree_dot_repr, filename=\"dep_tree\", format='png')\n",
    "source.view()\n",
    "# Opens in pop-under window... well isn't that nice!"
   ]
  },
  {
   "cell_type": "code",
   "execution_count": null,
   "id": "fe91d741",
   "metadata": {},
   "outputs": [],
   "source": [
    "# Graph image doesn't get saved, need to re-run the code\n",
    "source"
   ]
  },
  {
   "cell_type": "code",
   "execution_count": null,
   "id": "f000236c",
   "metadata": {},
   "outputs": [],
   "source": []
  }
 ],
 "metadata": {
  "kernelspec": {
   "display_name": "Python 3 (ipykernel)",
   "language": "python",
   "name": "python3"
  },
  "language_info": {
   "codemirror_mode": {
    "name": "ipython",
    "version": 3
   },
   "file_extension": ".py",
   "mimetype": "text/x-python",
   "name": "python",
   "nbconvert_exporter": "python",
   "pygments_lexer": "ipython3",
   "version": "3.10.6"
  }
 },
 "nbformat": 4,
 "nbformat_minor": 5
}
