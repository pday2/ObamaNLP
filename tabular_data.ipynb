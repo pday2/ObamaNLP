{
 "cells": [
  {
   "cell_type": "markdown",
   "id": "94173243",
   "metadata": {},
   "source": [
    "### Just trying to organize one big tall dataset here, each text (speech or article) as its own row"
   ]
  },
  {
   "cell_type": "code",
   "execution_count": 1,
   "id": "7e2b1885",
   "metadata": {},
   "outputs": [
    {
     "name": "stderr",
     "output_type": "stream",
     "text": [
      "[nltk_data] Downloading package punkt to /home/muddy/nltk_data...\n",
      "[nltk_data]   Package punkt is already up-to-date!\n"
     ]
    }
   ],
   "source": [
    "import os\n",
    "import re\n",
    "import unicodedata\n",
    "import numpy as np\n",
    "import pandas as pd\n",
    "import warnings\n",
    "import nltk\n",
    "import gensim\n",
    "from gensim.utils import simple_preprocess\n",
    "from gensim.parsing.preprocessing import STOPWORDS\n",
    "from nltk.stem import WordNetLemmatizer\n",
    "\n",
    "from nltk.tokenize import TreebankWordTokenizer\n",
    "from nltk.tokenize import sent_tokenize\n",
    "nltk.download('punkt')\n",
    "word_token = TreebankWordTokenizer()"
   ]
  },
  {
   "cell_type": "code",
   "execution_count": 2,
   "id": "00ee10c7",
   "metadata": {},
   "outputs": [],
   "source": [
    "# Load up the files\n",
    "paths = ['./Data/speeches/', './Data/NYTimes/', './Data/WSJ/'] \n",
    "list_of_files = []\n",
    "\n",
    "dates = pd.read_csv('./Data/genData/dateSpeeches.csv')\n",
    "for path in paths:\n",
    "    for root, dirs, files in os.walk(path):\n",
    "        for file in files:\n",
    "            if file.endswith('.txt'):\n",
    "                list_of_files.append(os.path.join(root,file))\n",
    "\n",
    "speeches = []\n",
    "for file in list_of_files:\n",
    "    with open(file, encoding='utf-8') as f:\n",
    "        #print(file)\n",
    "        text = f.read()\n",
    "    f.close()\n",
    "    speeches.append([text, file])\n",
    "\n",
    "#clean out goofy unicode  space characters \n",
    "speeches = [(unicodedata.normalize(\"NFKD\", speech[0]), speech[1]) for speech in speeches if len(speech)>0 ]\n",
    "\n",
    "# remove [stuff] in between square brackets\n",
    "def remove_bracket(text):\n",
    "    return re.sub('(\\[[^w]*\\]\\s)', '',text)\n",
    "speeches = [(remove_bracket(speech[0]), speech[1]) for speech in speeches]"
   ]
  },
  {
   "cell_type": "markdown",
   "id": "c6d53ba8",
   "metadata": {},
   "source": [
    "<A HREF=\"https://docs.python.org/3/library/datetime.html#strftime-and-strptime-format-codes\">Python datetime format codes</A>"
   ]
  },
  {
   "cell_type": "code",
   "execution_count": 3,
   "id": "a2e72520",
   "metadata": {},
   "outputs": [],
   "source": [
    "pos = pd.read_csv('./Data/genData/POSFacetPlotData.csv', index_col=None) #date, source, pos, proportion\n",
    "wide = pd.read_csv('./Data/genData/df_encodings.csv', index_col=None) #file, text, emos, enc vectors\n",
    "pca = pd.read_csv('./Data/genData/pcaBiplotData.csv', index_col=None) #date, source, enc1-300, PCA1, PCA2\n",
    "emo = pd.read_csv('./Data/genData/facetPlotData.csv', index_col=None) #date, source, emo, emoValue\n",
    "pos['date'] = pd.to_datetime(pos['date'], format='%Y-%m-%d')\n",
    "wide['date'] = pd.to_datetime(wide['date'], format='%Y-%m-%d')\n",
    "pca['date'] = pd.to_datetime(pca['date'], format='%Y-%m-%d')\n",
    "emo['date'] = pd.to_datetime(emo['date'], format='%Y-%m-%d')"
   ]
  },
  {
   "cell_type": "code",
   "execution_count": 4,
   "id": "42ff16b6",
   "metadata": {},
   "outputs": [
    {
     "data": {
      "text/html": [
       "<div>\n",
       "<style scoped>\n",
       "    .dataframe tbody tr th:only-of-type {\n",
       "        vertical-align: middle;\n",
       "    }\n",
       "\n",
       "    .dataframe tbody tr th {\n",
       "        vertical-align: top;\n",
       "    }\n",
       "\n",
       "    .dataframe thead th {\n",
       "        text-align: right;\n",
       "    }\n",
       "</style>\n",
       "<table border=\"1\" class=\"dataframe\">\n",
       "  <thead>\n",
       "    <tr style=\"text-align: right;\">\n",
       "      <th></th>\n",
       "      <th>Unnamed: 0</th>\n",
       "      <th>date</th>\n",
       "      <th>source</th>\n",
       "      <th>pos</th>\n",
       "      <th>proportion</th>\n",
       "    </tr>\n",
       "  </thead>\n",
       "  <tbody>\n",
       "    <tr>\n",
       "      <th>0</th>\n",
       "      <td>0</td>\n",
       "      <td>2008-06-04</td>\n",
       "      <td>oba</td>\n",
       "      <td>PRON</td>\n",
       "      <td>0.064597</td>\n",
       "    </tr>\n",
       "    <tr>\n",
       "      <th>1</th>\n",
       "      <td>1</td>\n",
       "      <td>2008-06-04</td>\n",
       "      <td>oba</td>\n",
       "      <td>NUM</td>\n",
       "      <td>0.058727</td>\n",
       "    </tr>\n",
       "    <tr>\n",
       "      <th>2</th>\n",
       "      <td>2</td>\n",
       "      <td>2008-06-04</td>\n",
       "      <td>oba</td>\n",
       "      <td>DET</td>\n",
       "      <td>0.064638</td>\n",
       "    </tr>\n",
       "  </tbody>\n",
       "</table>\n",
       "</div>"
      ],
      "text/plain": [
       "   Unnamed: 0       date source   pos  proportion\n",
       "0           0 2008-06-04    oba  PRON    0.064597\n",
       "1           1 2008-06-04    oba   NUM    0.058727\n",
       "2           2 2008-06-04    oba   DET    0.064638"
      ]
     },
     "execution_count": 4,
     "metadata": {},
     "output_type": "execute_result"
    }
   ],
   "source": [
    "pos.head(3)"
   ]
  },
  {
   "cell_type": "code",
   "execution_count": 5,
   "id": "691cd086",
   "metadata": {},
   "outputs": [
    {
     "data": {
      "text/plain": [
       "(300, 18)"
      ]
     },
     "execution_count": 5,
     "metadata": {},
     "output_type": "execute_result"
    }
   ],
   "source": [
    "pos_wide=pos.pivot(index=['date', 'source'],columns='pos', values='proportion').reset_index()\n",
    "pos_wide.shape"
   ]
  },
  {
   "cell_type": "code",
   "execution_count": 6,
   "id": "838ae6f3",
   "metadata": {},
   "outputs": [
    {
     "data": {
      "text/html": [
       "<div>\n",
       "<style scoped>\n",
       "    .dataframe tbody tr th:only-of-type {\n",
       "        vertical-align: middle;\n",
       "    }\n",
       "\n",
       "    .dataframe tbody tr th {\n",
       "        vertical-align: top;\n",
       "    }\n",
       "\n",
       "    .dataframe thead th {\n",
       "        text-align: right;\n",
       "    }\n",
       "</style>\n",
       "<table border=\"1\" class=\"dataframe\">\n",
       "  <thead>\n",
       "    <tr style=\"text-align: right;\">\n",
       "      <th>pos</th>\n",
       "      <th>date</th>\n",
       "      <th>source</th>\n",
       "      <th>ADJ</th>\n",
       "      <th>ADP</th>\n",
       "      <th>ADV</th>\n",
       "      <th>AUX</th>\n",
       "      <th>CCONJ</th>\n",
       "      <th>DET</th>\n",
       "      <th>INTJ</th>\n",
       "      <th>NOUN</th>\n",
       "      <th>NUM</th>\n",
       "      <th>PART</th>\n",
       "      <th>PRON</th>\n",
       "      <th>PROPN</th>\n",
       "      <th>PUNCT</th>\n",
       "      <th>SCONJ</th>\n",
       "      <th>SYM</th>\n",
       "      <th>VERB</th>\n",
       "    </tr>\n",
       "  </thead>\n",
       "  <tbody>\n",
       "    <tr>\n",
       "      <th>0</th>\n",
       "      <td>2008-06-04</td>\n",
       "      <td>nyt</td>\n",
       "      <td>0.064458</td>\n",
       "      <td>0.065088</td>\n",
       "      <td>0.062400</td>\n",
       "      <td>0.064962</td>\n",
       "      <td>0.064416</td>\n",
       "      <td>0.063408</td>\n",
       "      <td>0.055598</td>\n",
       "      <td>0.064920</td>\n",
       "      <td>0.065046</td>\n",
       "      <td>0.065004</td>\n",
       "      <td>0.065130</td>\n",
       "      <td>0.064668</td>\n",
       "      <td>0.065172</td>\n",
       "      <td>0.061602</td>\n",
       "      <td>0.043420</td>\n",
       "      <td>0.064710</td>\n",
       "    </tr>\n",
       "    <tr>\n",
       "      <th>1</th>\n",
       "      <td>2008-06-04</td>\n",
       "      <td>oba</td>\n",
       "      <td>0.064649</td>\n",
       "      <td>0.064670</td>\n",
       "      <td>0.064440</td>\n",
       "      <td>0.064398</td>\n",
       "      <td>0.064471</td>\n",
       "      <td>0.064638</td>\n",
       "      <td>0.054967</td>\n",
       "      <td>0.064503</td>\n",
       "      <td>0.058727</td>\n",
       "      <td>0.064315</td>\n",
       "      <td>0.064597</td>\n",
       "      <td>0.064680</td>\n",
       "      <td>0.064691</td>\n",
       "      <td>0.064377</td>\n",
       "      <td>0.000000</td>\n",
       "      <td>0.064628</td>\n",
       "    </tr>\n",
       "    <tr>\n",
       "      <th>2</th>\n",
       "      <td>2008-06-04</td>\n",
       "      <td>wsj</td>\n",
       "      <td>0.072536</td>\n",
       "      <td>0.071300</td>\n",
       "      <td>0.070185</td>\n",
       "      <td>0.071579</td>\n",
       "      <td>0.072456</td>\n",
       "      <td>0.072177</td>\n",
       "      <td>0.000000</td>\n",
       "      <td>0.072616</td>\n",
       "      <td>0.065402</td>\n",
       "      <td>0.072098</td>\n",
       "      <td>0.071938</td>\n",
       "      <td>0.072217</td>\n",
       "      <td>0.072656</td>\n",
       "      <td>0.070344</td>\n",
       "      <td>0.000000</td>\n",
       "      <td>0.072496</td>\n",
       "    </tr>\n",
       "    <tr>\n",
       "      <th>3</th>\n",
       "      <td>2008-11-05</td>\n",
       "      <td>nyt</td>\n",
       "      <td>0.065299</td>\n",
       "      <td>0.065636</td>\n",
       "      <td>0.065602</td>\n",
       "      <td>0.064593</td>\n",
       "      <td>0.065131</td>\n",
       "      <td>0.065266</td>\n",
       "      <td>0.042603</td>\n",
       "      <td>0.065972</td>\n",
       "      <td>0.065064</td>\n",
       "      <td>0.065703</td>\n",
       "      <td>0.065837</td>\n",
       "      <td>0.065669</td>\n",
       "      <td>0.066005</td>\n",
       "      <td>0.063315</td>\n",
       "      <td>0.042569</td>\n",
       "      <td>0.065736</td>\n",
       "    </tr>\n",
       "    <tr>\n",
       "      <th>4</th>\n",
       "      <td>2008-11-05</td>\n",
       "      <td>oba</td>\n",
       "      <td>0.067288</td>\n",
       "      <td>0.067345</td>\n",
       "      <td>0.064371</td>\n",
       "      <td>0.067174</td>\n",
       "      <td>0.067145</td>\n",
       "      <td>0.067260</td>\n",
       "      <td>0.066802</td>\n",
       "      <td>0.066745</td>\n",
       "      <td>0.065544</td>\n",
       "      <td>0.065000</td>\n",
       "      <td>0.067088</td>\n",
       "      <td>0.067374</td>\n",
       "      <td>0.067403</td>\n",
       "      <td>0.066230</td>\n",
       "      <td>0.000000</td>\n",
       "      <td>0.067231</td>\n",
       "    </tr>\n",
       "  </tbody>\n",
       "</table>\n",
       "</div>"
      ],
      "text/plain": [
       "pos       date source       ADJ       ADP       ADV       AUX     CCONJ  \\\n",
       "0   2008-06-04    nyt  0.064458  0.065088  0.062400  0.064962  0.064416   \n",
       "1   2008-06-04    oba  0.064649  0.064670  0.064440  0.064398  0.064471   \n",
       "2   2008-06-04    wsj  0.072536  0.071300  0.070185  0.071579  0.072456   \n",
       "3   2008-11-05    nyt  0.065299  0.065636  0.065602  0.064593  0.065131   \n",
       "4   2008-11-05    oba  0.067288  0.067345  0.064371  0.067174  0.067145   \n",
       "\n",
       "pos       DET      INTJ      NOUN       NUM      PART      PRON     PROPN  \\\n",
       "0    0.063408  0.055598  0.064920  0.065046  0.065004  0.065130  0.064668   \n",
       "1    0.064638  0.054967  0.064503  0.058727  0.064315  0.064597  0.064680   \n",
       "2    0.072177  0.000000  0.072616  0.065402  0.072098  0.071938  0.072217   \n",
       "3    0.065266  0.042603  0.065972  0.065064  0.065703  0.065837  0.065669   \n",
       "4    0.067260  0.066802  0.066745  0.065544  0.065000  0.067088  0.067374   \n",
       "\n",
       "pos     PUNCT     SCONJ       SYM      VERB  \n",
       "0    0.065172  0.061602  0.043420  0.064710  \n",
       "1    0.064691  0.064377  0.000000  0.064628  \n",
       "2    0.072656  0.070344  0.000000  0.072496  \n",
       "3    0.066005  0.063315  0.042569  0.065736  \n",
       "4    0.067403  0.066230  0.000000  0.067231  "
      ]
     },
     "execution_count": 6,
     "metadata": {},
     "output_type": "execute_result"
    }
   ],
   "source": [
    "pos_wide.head()"
   ]
  },
  {
   "cell_type": "code",
   "execution_count": 7,
   "id": "b38885dc",
   "metadata": {},
   "outputs": [
    {
     "data": {
      "text/html": [
       "<div>\n",
       "<style scoped>\n",
       "    .dataframe tbody tr th:only-of-type {\n",
       "        vertical-align: middle;\n",
       "    }\n",
       "\n",
       "    .dataframe tbody tr th {\n",
       "        vertical-align: top;\n",
       "    }\n",
       "\n",
       "    .dataframe thead th {\n",
       "        text-align: right;\n",
       "    }\n",
       "</style>\n",
       "<table border=\"1\" class=\"dataframe\">\n",
       "  <thead>\n",
       "    <tr style=\"text-align: right;\">\n",
       "      <th></th>\n",
       "      <th>Unnamed: 0</th>\n",
       "      <th>file</th>\n",
       "      <th>text_oba</th>\n",
       "      <th>text_wsj</th>\n",
       "      <th>text_nyt</th>\n",
       "      <th>emo_oba</th>\n",
       "      <th>emo_nyt</th>\n",
       "      <th>emo_wsj</th>\n",
       "      <th>date</th>\n",
       "      <th>obafear</th>\n",
       "      <th>...</th>\n",
       "      <th>InfoWars</th>\n",
       "      <th>NationalReview</th>\n",
       "      <th>Intercept</th>\n",
       "      <th>enc_oba</th>\n",
       "      <th>enc_nyt</th>\n",
       "      <th>enc_wsj</th>\n",
       "      <th>enc_fn</th>\n",
       "      <th>enc_iw</th>\n",
       "      <th>enc_nr</th>\n",
       "      <th>enc_int</th>\n",
       "    </tr>\n",
       "  </thead>\n",
       "  <tbody>\n",
       "    <tr>\n",
       "      <th>0</th>\n",
       "      <td>0</td>\n",
       "      <td>2008-06-04-ObamaNomination.txt</td>\n",
       "      <td>thank you thank you what a what a wonderful re...</td>\n",
       "      <td>sen barack obama captured enough convention de...</td>\n",
       "      <td>senator barack obama claimed the democratic pr...</td>\n",
       "      <td>&lt;nrclex.NRCLex object at 0x7f09f2a0eda0&gt;</td>\n",
       "      <td>&lt;nrclex.NRCLex object at 0x7f09e5416260&gt;</td>\n",
       "      <td>&lt;nrclex.NRCLex object at 0x7f09e2782260&gt;</td>\n",
       "      <td>2008-06-04</td>\n",
       "      <td>0.095798</td>\n",
       "      <td>...</td>\n",
       "      <td>NaN</td>\n",
       "      <td>NaN</td>\n",
       "      <td>NaN</td>\n",
       "      <td>[-0.717641, 0.19752467, -0.15350738, -0.080692...</td>\n",
       "      <td>[-0.68823427, 0.17678636, -0.034410875, -0.026...</td>\n",
       "      <td>[-0.6987737, 0.16180255, -0.02974237, -0.01259...</td>\n",
       "      <td>NaN</td>\n",
       "      <td>NaN</td>\n",
       "      <td>NaN</td>\n",
       "      <td>NaN</td>\n",
       "    </tr>\n",
       "  </tbody>\n",
       "</table>\n",
       "<p>1 rows × 50 columns</p>\n",
       "</div>"
      ],
      "text/plain": [
       "   Unnamed: 0                            file  \\\n",
       "0           0  2008-06-04-ObamaNomination.txt   \n",
       "\n",
       "                                            text_oba  \\\n",
       "0  thank you thank you what a what a wonderful re...   \n",
       "\n",
       "                                            text_wsj  \\\n",
       "0  sen barack obama captured enough convention de...   \n",
       "\n",
       "                                            text_nyt  \\\n",
       "0  senator barack obama claimed the democratic pr...   \n",
       "\n",
       "                                    emo_oba  \\\n",
       "0  <nrclex.NRCLex object at 0x7f09f2a0eda0>   \n",
       "\n",
       "                                    emo_nyt  \\\n",
       "0  <nrclex.NRCLex object at 0x7f09e5416260>   \n",
       "\n",
       "                                    emo_wsj       date   obafear  ...  \\\n",
       "0  <nrclex.NRCLex object at 0x7f09e2782260> 2008-06-04  0.095798  ...   \n",
       "\n",
       "   InfoWars  NationalReview  Intercept  \\\n",
       "0       NaN             NaN        NaN   \n",
       "\n",
       "                                             enc_oba  \\\n",
       "0  [-0.717641, 0.19752467, -0.15350738, -0.080692...   \n",
       "\n",
       "                                             enc_nyt  \\\n",
       "0  [-0.68823427, 0.17678636, -0.034410875, -0.026...   \n",
       "\n",
       "                                             enc_wsj  enc_fn  enc_iw  enc_nr  \\\n",
       "0  [-0.6987737, 0.16180255, -0.02974237, -0.01259...     NaN     NaN     NaN   \n",
       "\n",
       "   enc_int  \n",
       "0      NaN  \n",
       "\n",
       "[1 rows x 50 columns]"
      ]
     },
     "execution_count": 7,
     "metadata": {},
     "output_type": "execute_result"
    }
   ],
   "source": [
    "wide.head(1)"
   ]
  },
  {
   "cell_type": "code",
   "execution_count": 8,
   "id": "81748295",
   "metadata": {},
   "outputs": [],
   "source": [
    "enc_oba=pd.melt(wide, id_vars =['date'], value_vars =['enc_oba'],var_name='source', value_name='enc_value')\n",
    "enc_oba['source']='oba'\n",
    "enc_nyt=pd.melt(wide, id_vars =['date'], value_vars =['enc_nyt'],var_name='source', value_name='enc_value')\n",
    "enc_nyt['source']='nyt'\n",
    "enc_wsj=pd.melt(wide, id_vars =['date'], value_vars =['enc_wsj'],var_name='source', value_name='enc_value')\n",
    "enc_wsj['source']='wsj'\n",
    "encodings=pd.concat([enc_oba,enc_nyt,enc_wsj])"
   ]
  },
  {
   "cell_type": "code",
   "execution_count": 9,
   "id": "09fbf89d",
   "metadata": {},
   "outputs": [
    {
     "data": {
      "text/plain": [
       "(300, 3)"
      ]
     },
     "execution_count": 9,
     "metadata": {},
     "output_type": "execute_result"
    }
   ],
   "source": [
    "encodings.shape"
   ]
  },
  {
   "cell_type": "code",
   "execution_count": 10,
   "id": "e71a342c",
   "metadata": {},
   "outputs": [
    {
     "data": {
      "text/html": [
       "<div>\n",
       "<style scoped>\n",
       "    .dataframe tbody tr th:only-of-type {\n",
       "        vertical-align: middle;\n",
       "    }\n",
       "\n",
       "    .dataframe tbody tr th {\n",
       "        vertical-align: top;\n",
       "    }\n",
       "\n",
       "    .dataframe thead th {\n",
       "        text-align: right;\n",
       "    }\n",
       "</style>\n",
       "<table border=\"1\" class=\"dataframe\">\n",
       "  <thead>\n",
       "    <tr style=\"text-align: right;\">\n",
       "      <th></th>\n",
       "      <th>date</th>\n",
       "      <th>source</th>\n",
       "    </tr>\n",
       "  </thead>\n",
       "  <tbody>\n",
       "    <tr>\n",
       "      <th>0</th>\n",
       "      <td>2008-06-04</td>\n",
       "      <td>oba</td>\n",
       "    </tr>\n",
       "    <tr>\n",
       "      <th>1</th>\n",
       "      <td>2008-06-04</td>\n",
       "      <td>nyt</td>\n",
       "    </tr>\n",
       "    <tr>\n",
       "      <th>2</th>\n",
       "      <td>2008-06-04</td>\n",
       "      <td>wsj</td>\n",
       "    </tr>\n",
       "  </tbody>\n",
       "</table>\n",
       "</div>"
      ],
      "text/plain": [
       "        date source\n",
       "0 2008-06-04    oba\n",
       "1 2008-06-04    nyt\n",
       "2 2008-06-04    wsj"
      ]
     },
     "execution_count": 10,
     "metadata": {},
     "output_type": "execute_result"
    }
   ],
   "source": [
    "try:\n",
    "    pca_values=pca[['date', 'source', 'PCA1', 'PCA2']].copy()\n",
    "except:\n",
    "    pca_values=pca[['date', 'source']].copy()\n",
    "pca_values['source']=pca_values['source'].replace('text_', '', regex=True)\n",
    "pca_values.head(3)"
   ]
  },
  {
   "cell_type": "code",
   "execution_count": 11,
   "id": "957c7537",
   "metadata": {},
   "outputs": [
    {
     "data": {
      "text/html": [
       "<div>\n",
       "<style scoped>\n",
       "    .dataframe tbody tr th:only-of-type {\n",
       "        vertical-align: middle;\n",
       "    }\n",
       "\n",
       "    .dataframe tbody tr th {\n",
       "        vertical-align: top;\n",
       "    }\n",
       "\n",
       "    .dataframe thead th {\n",
       "        text-align: right;\n",
       "    }\n",
       "</style>\n",
       "<table border=\"1\" class=\"dataframe\">\n",
       "  <thead>\n",
       "    <tr style=\"text-align: right;\">\n",
       "      <th></th>\n",
       "      <th>date</th>\n",
       "      <th>source</th>\n",
       "      <th>emotion</th>\n",
       "      <th>emoValue</th>\n",
       "    </tr>\n",
       "  </thead>\n",
       "  <tbody>\n",
       "    <tr>\n",
       "      <th>0</th>\n",
       "      <td>2008-06-04</td>\n",
       "      <td>oba</td>\n",
       "      <td>fear</td>\n",
       "      <td>0.095798</td>\n",
       "    </tr>\n",
       "    <tr>\n",
       "      <th>1</th>\n",
       "      <td>2008-06-04</td>\n",
       "      <td>oba</td>\n",
       "      <td>anger</td>\n",
       "      <td>0.055462</td>\n",
       "    </tr>\n",
       "    <tr>\n",
       "      <th>2</th>\n",
       "      <td>2008-06-04</td>\n",
       "      <td>oba</td>\n",
       "      <td>trust</td>\n",
       "      <td>0.159664</td>\n",
       "    </tr>\n",
       "    <tr>\n",
       "      <th>3</th>\n",
       "      <td>2008-06-04</td>\n",
       "      <td>oba</td>\n",
       "      <td>surprise</td>\n",
       "      <td>0.048739</td>\n",
       "    </tr>\n",
       "    <tr>\n",
       "      <th>4</th>\n",
       "      <td>2008-06-04</td>\n",
       "      <td>oba</td>\n",
       "      <td>positive</td>\n",
       "      <td>0.233613</td>\n",
       "    </tr>\n",
       "    <tr>\n",
       "      <th>5</th>\n",
       "      <td>2008-06-04</td>\n",
       "      <td>oba</td>\n",
       "      <td>negative</td>\n",
       "      <td>0.115966</td>\n",
       "    </tr>\n",
       "    <tr>\n",
       "      <th>6</th>\n",
       "      <td>2008-06-04</td>\n",
       "      <td>oba</td>\n",
       "      <td>sadness</td>\n",
       "      <td>0.042017</td>\n",
       "    </tr>\n",
       "    <tr>\n",
       "      <th>7</th>\n",
       "      <td>2008-06-04</td>\n",
       "      <td>oba</td>\n",
       "      <td>disgust</td>\n",
       "      <td>0.023529</td>\n",
       "    </tr>\n",
       "    <tr>\n",
       "      <th>8</th>\n",
       "      <td>2008-06-04</td>\n",
       "      <td>oba</td>\n",
       "      <td>joy</td>\n",
       "      <td>0.095798</td>\n",
       "    </tr>\n",
       "    <tr>\n",
       "      <th>9</th>\n",
       "      <td>2008-06-04</td>\n",
       "      <td>oba</td>\n",
       "      <td>anticipation</td>\n",
       "      <td>0.129412</td>\n",
       "    </tr>\n",
       "    <tr>\n",
       "      <th>10</th>\n",
       "      <td>2008-06-04</td>\n",
       "      <td>nyt</td>\n",
       "      <td>fear</td>\n",
       "      <td>0.063025</td>\n",
       "    </tr>\n",
       "    <tr>\n",
       "      <th>11</th>\n",
       "      <td>2008-06-04</td>\n",
       "      <td>nyt</td>\n",
       "      <td>anger</td>\n",
       "      <td>0.058824</td>\n",
       "    </tr>\n",
       "    <tr>\n",
       "      <th>12</th>\n",
       "      <td>2008-06-04</td>\n",
       "      <td>nyt</td>\n",
       "      <td>trust</td>\n",
       "      <td>0.130252</td>\n",
       "    </tr>\n",
       "  </tbody>\n",
       "</table>\n",
       "</div>"
      ],
      "text/plain": [
       "         date source       emotion  emoValue\n",
       "0  2008-06-04    oba          fear  0.095798\n",
       "1  2008-06-04    oba         anger  0.055462\n",
       "2  2008-06-04    oba         trust  0.159664\n",
       "3  2008-06-04    oba      surprise  0.048739\n",
       "4  2008-06-04    oba      positive  0.233613\n",
       "5  2008-06-04    oba      negative  0.115966\n",
       "6  2008-06-04    oba       sadness  0.042017\n",
       "7  2008-06-04    oba       disgust  0.023529\n",
       "8  2008-06-04    oba           joy  0.095798\n",
       "9  2008-06-04    oba  anticipation  0.129412\n",
       "10 2008-06-04    nyt          fear  0.063025\n",
       "11 2008-06-04    nyt         anger  0.058824\n",
       "12 2008-06-04    nyt         trust  0.130252"
      ]
     },
     "execution_count": 11,
     "metadata": {},
     "output_type": "execute_result"
    }
   ],
   "source": [
    "emo.head(13)"
   ]
  },
  {
   "cell_type": "markdown",
   "id": "6a621f37",
   "metadata": {},
   "source": [
    "<A HREF=\"https://pandas.pydata.org/Pandas_Cheat_Sheet.pdf\">Pandas Cheat Sheet</A>"
   ]
  },
  {
   "cell_type": "code",
   "execution_count": 12,
   "id": "7fdb8e3a",
   "metadata": {},
   "outputs": [
    {
     "data": {
      "text/plain": [
       "(300, 12)"
      ]
     },
     "execution_count": 12,
     "metadata": {},
     "output_type": "execute_result"
    }
   ],
   "source": [
    "emo_wide=emo.pivot(index=['date', 'source'],columns='emotion', values='emoValue').reset_index()\n",
    "emo_wide.shape"
   ]
  },
  {
   "cell_type": "code",
   "execution_count": 13,
   "id": "532b65c9",
   "metadata": {},
   "outputs": [
    {
     "data": {
      "text/html": [
       "<div>\n",
       "<style scoped>\n",
       "    .dataframe tbody tr th:only-of-type {\n",
       "        vertical-align: middle;\n",
       "    }\n",
       "\n",
       "    .dataframe tbody tr th {\n",
       "        vertical-align: top;\n",
       "    }\n",
       "\n",
       "    .dataframe thead th {\n",
       "        text-align: right;\n",
       "    }\n",
       "</style>\n",
       "<table border=\"1\" class=\"dataframe\">\n",
       "  <thead>\n",
       "    <tr style=\"text-align: right;\">\n",
       "      <th>emotion</th>\n",
       "      <th>date</th>\n",
       "      <th>source</th>\n",
       "      <th>anger</th>\n",
       "      <th>anticipation</th>\n",
       "      <th>disgust</th>\n",
       "      <th>fear</th>\n",
       "      <th>joy</th>\n",
       "      <th>negative</th>\n",
       "      <th>positive</th>\n",
       "      <th>sadness</th>\n",
       "      <th>surprise</th>\n",
       "      <th>trust</th>\n",
       "    </tr>\n",
       "  </thead>\n",
       "  <tbody>\n",
       "    <tr>\n",
       "      <th>0</th>\n",
       "      <td>2008-06-04</td>\n",
       "      <td>nyt</td>\n",
       "      <td>0.058824</td>\n",
       "      <td>0.121849</td>\n",
       "      <td>0.012605</td>\n",
       "      <td>0.063025</td>\n",
       "      <td>0.079832</td>\n",
       "      <td>0.130252</td>\n",
       "      <td>0.281513</td>\n",
       "      <td>0.075630</td>\n",
       "      <td>0.046218</td>\n",
       "      <td>0.130252</td>\n",
       "    </tr>\n",
       "    <tr>\n",
       "      <th>1</th>\n",
       "      <td>2008-06-04</td>\n",
       "      <td>oba</td>\n",
       "      <td>0.055462</td>\n",
       "      <td>0.129412</td>\n",
       "      <td>0.023529</td>\n",
       "      <td>0.095798</td>\n",
       "      <td>0.095798</td>\n",
       "      <td>0.115966</td>\n",
       "      <td>0.233613</td>\n",
       "      <td>0.042017</td>\n",
       "      <td>0.048739</td>\n",
       "      <td>0.159664</td>\n",
       "    </tr>\n",
       "    <tr>\n",
       "      <th>2</th>\n",
       "      <td>2008-06-04</td>\n",
       "      <td>wsj</td>\n",
       "      <td>0.036630</td>\n",
       "      <td>0.087912</td>\n",
       "      <td>0.025641</td>\n",
       "      <td>0.051282</td>\n",
       "      <td>0.106227</td>\n",
       "      <td>0.095238</td>\n",
       "      <td>0.326007</td>\n",
       "      <td>0.054945</td>\n",
       "      <td>0.047619</td>\n",
       "      <td>0.168498</td>\n",
       "    </tr>\n",
       "  </tbody>\n",
       "</table>\n",
       "</div>"
      ],
      "text/plain": [
       "emotion       date source     anger  anticipation   disgust      fear  \\\n",
       "0       2008-06-04    nyt  0.058824      0.121849  0.012605  0.063025   \n",
       "1       2008-06-04    oba  0.055462      0.129412  0.023529  0.095798   \n",
       "2       2008-06-04    wsj  0.036630      0.087912  0.025641  0.051282   \n",
       "\n",
       "emotion       joy  negative  positive   sadness  surprise     trust  \n",
       "0        0.079832  0.130252  0.281513  0.075630  0.046218  0.130252  \n",
       "1        0.095798  0.115966  0.233613  0.042017  0.048739  0.159664  \n",
       "2        0.106227  0.095238  0.326007  0.054945  0.047619  0.168498  "
      ]
     },
     "execution_count": 13,
     "metadata": {},
     "output_type": "execute_result"
    }
   ],
   "source": [
    "emo_wide.head(3)"
   ]
  },
  {
   "cell_type": "code",
   "execution_count": 14,
   "id": "52459ce9",
   "metadata": {},
   "outputs": [],
   "source": [
    "#pos_wide,encodings,pca_values,emo_wide  pd.merge(adf, bdf, how='left', on='x1')\n",
    "df1 = pd.merge(pos_wide, encodings, how='left', on=['date', 'source'])\n",
    "df2 = pd.merge(df1, pca_values, how='left', on=['date', 'source'])\n",
    "df3 = pd.merge(df2, emo_wide, how='left', on=['date', 'source'])"
   ]
  },
  {
   "cell_type": "code",
   "execution_count": 16,
   "id": "b0c23989",
   "metadata": {},
   "outputs": [
    {
     "ename": "KeyError",
     "evalue": "\"None of [Index(['PCA1', 'PCA2'], dtype='object')] are in the [index]\"",
     "output_type": "error",
     "traceback": [
      "\u001b[0;31m---------------------------------------------------------------------------\u001b[0m",
      "\u001b[0;31mKeyError\u001b[0m                                  Traceback (most recent call last)",
      "Cell \u001b[0;32mIn[16], line 1\u001b[0m\n\u001b[0;32m----> 1\u001b[0m \u001b[43mdf3\u001b[49m\u001b[38;5;241;43m.\u001b[39;49m\u001b[43mcorr\u001b[49m\u001b[43m(\u001b[49m\u001b[43mnumeric_only\u001b[49m\u001b[38;5;241;43m=\u001b[39;49m\u001b[38;5;28;43;01mTrue\u001b[39;49;00m\u001b[43m)\u001b[49m\u001b[43m[\u001b[49m\u001b[43mdf3\u001b[49m\u001b[38;5;241;43m.\u001b[39;49m\u001b[43mcorr\u001b[49m\u001b[43m(\u001b[49m\u001b[43mnumeric_only\u001b[49m\u001b[38;5;241;43m=\u001b[39;49m\u001b[38;5;28;43;01mTrue\u001b[39;49;00m\u001b[43m)\u001b[49m\u001b[38;5;241;43m>\u001b[39;49m\u001b[38;5;241;43m0.5\u001b[39;49m\u001b[43m]\u001b[49m\u001b[38;5;241;43m.\u001b[39;49m\u001b[43mloc\u001b[49m\u001b[43m[\u001b[49m\u001b[43m[\u001b[49m\u001b[38;5;124;43m'\u001b[39;49m\u001b[38;5;124;43mPCA1\u001b[39;49m\u001b[38;5;124;43m'\u001b[39;49m\u001b[43m,\u001b[49m\u001b[43m \u001b[49m\u001b[38;5;124;43m'\u001b[39;49m\u001b[38;5;124;43mPCA2\u001b[39;49m\u001b[38;5;124;43m'\u001b[39;49m\u001b[43m]\u001b[49m\u001b[43m \u001b[49m\u001b[43m]\u001b[49m\u001b[38;5;241m.\u001b[39mtranspose()\n",
      "File \u001b[0;32m~/.local/lib/python3.10/site-packages/pandas/core/indexing.py:1103\u001b[0m, in \u001b[0;36m_LocationIndexer.__getitem__\u001b[0;34m(self, key)\u001b[0m\n\u001b[1;32m   1100\u001b[0m axis \u001b[38;5;241m=\u001b[39m \u001b[38;5;28mself\u001b[39m\u001b[38;5;241m.\u001b[39maxis \u001b[38;5;129;01mor\u001b[39;00m \u001b[38;5;241m0\u001b[39m\n\u001b[1;32m   1102\u001b[0m maybe_callable \u001b[38;5;241m=\u001b[39m com\u001b[38;5;241m.\u001b[39mapply_if_callable(key, \u001b[38;5;28mself\u001b[39m\u001b[38;5;241m.\u001b[39mobj)\n\u001b[0;32m-> 1103\u001b[0m \u001b[38;5;28;01mreturn\u001b[39;00m \u001b[38;5;28;43mself\u001b[39;49m\u001b[38;5;241;43m.\u001b[39;49m\u001b[43m_getitem_axis\u001b[49m\u001b[43m(\u001b[49m\u001b[43mmaybe_callable\u001b[49m\u001b[43m,\u001b[49m\u001b[43m \u001b[49m\u001b[43maxis\u001b[49m\u001b[38;5;241;43m=\u001b[39;49m\u001b[43maxis\u001b[49m\u001b[43m)\u001b[49m\n",
      "File \u001b[0;32m~/.local/lib/python3.10/site-packages/pandas/core/indexing.py:1332\u001b[0m, in \u001b[0;36m_LocIndexer._getitem_axis\u001b[0;34m(self, key, axis)\u001b[0m\n\u001b[1;32m   1329\u001b[0m     \u001b[38;5;28;01mif\u001b[39;00m \u001b[38;5;28mhasattr\u001b[39m(key, \u001b[38;5;124m\"\u001b[39m\u001b[38;5;124mndim\u001b[39m\u001b[38;5;124m\"\u001b[39m) \u001b[38;5;129;01mand\u001b[39;00m key\u001b[38;5;241m.\u001b[39mndim \u001b[38;5;241m>\u001b[39m \u001b[38;5;241m1\u001b[39m:\n\u001b[1;32m   1330\u001b[0m         \u001b[38;5;28;01mraise\u001b[39;00m \u001b[38;5;167;01mValueError\u001b[39;00m(\u001b[38;5;124m\"\u001b[39m\u001b[38;5;124mCannot index with multidimensional key\u001b[39m\u001b[38;5;124m\"\u001b[39m)\n\u001b[0;32m-> 1332\u001b[0m     \u001b[38;5;28;01mreturn\u001b[39;00m \u001b[38;5;28;43mself\u001b[39;49m\u001b[38;5;241;43m.\u001b[39;49m\u001b[43m_getitem_iterable\u001b[49m\u001b[43m(\u001b[49m\u001b[43mkey\u001b[49m\u001b[43m,\u001b[49m\u001b[43m \u001b[49m\u001b[43maxis\u001b[49m\u001b[38;5;241;43m=\u001b[39;49m\u001b[43maxis\u001b[49m\u001b[43m)\u001b[49m\n\u001b[1;32m   1334\u001b[0m \u001b[38;5;66;03m# nested tuple slicing\u001b[39;00m\n\u001b[1;32m   1335\u001b[0m \u001b[38;5;28;01mif\u001b[39;00m is_nested_tuple(key, labels):\n",
      "File \u001b[0;32m~/.local/lib/python3.10/site-packages/pandas/core/indexing.py:1272\u001b[0m, in \u001b[0;36m_LocIndexer._getitem_iterable\u001b[0;34m(self, key, axis)\u001b[0m\n\u001b[1;32m   1269\u001b[0m \u001b[38;5;28mself\u001b[39m\u001b[38;5;241m.\u001b[39m_validate_key(key, axis)\n\u001b[1;32m   1271\u001b[0m \u001b[38;5;66;03m# A collection of keys\u001b[39;00m\n\u001b[0;32m-> 1272\u001b[0m keyarr, indexer \u001b[38;5;241m=\u001b[39m \u001b[38;5;28;43mself\u001b[39;49m\u001b[38;5;241;43m.\u001b[39;49m\u001b[43m_get_listlike_indexer\u001b[49m\u001b[43m(\u001b[49m\u001b[43mkey\u001b[49m\u001b[43m,\u001b[49m\u001b[43m \u001b[49m\u001b[43maxis\u001b[49m\u001b[43m)\u001b[49m\n\u001b[1;32m   1273\u001b[0m \u001b[38;5;28;01mreturn\u001b[39;00m \u001b[38;5;28mself\u001b[39m\u001b[38;5;241m.\u001b[39mobj\u001b[38;5;241m.\u001b[39m_reindex_with_indexers(\n\u001b[1;32m   1274\u001b[0m     {axis: [keyarr, indexer]}, copy\u001b[38;5;241m=\u001b[39m\u001b[38;5;28;01mTrue\u001b[39;00m, allow_dups\u001b[38;5;241m=\u001b[39m\u001b[38;5;28;01mTrue\u001b[39;00m\n\u001b[1;32m   1275\u001b[0m )\n",
      "File \u001b[0;32m~/.local/lib/python3.10/site-packages/pandas/core/indexing.py:1462\u001b[0m, in \u001b[0;36m_LocIndexer._get_listlike_indexer\u001b[0;34m(self, key, axis)\u001b[0m\n\u001b[1;32m   1459\u001b[0m ax \u001b[38;5;241m=\u001b[39m \u001b[38;5;28mself\u001b[39m\u001b[38;5;241m.\u001b[39mobj\u001b[38;5;241m.\u001b[39m_get_axis(axis)\n\u001b[1;32m   1460\u001b[0m axis_name \u001b[38;5;241m=\u001b[39m \u001b[38;5;28mself\u001b[39m\u001b[38;5;241m.\u001b[39mobj\u001b[38;5;241m.\u001b[39m_get_axis_name(axis)\n\u001b[0;32m-> 1462\u001b[0m keyarr, indexer \u001b[38;5;241m=\u001b[39m \u001b[43max\u001b[49m\u001b[38;5;241;43m.\u001b[39;49m\u001b[43m_get_indexer_strict\u001b[49m\u001b[43m(\u001b[49m\u001b[43mkey\u001b[49m\u001b[43m,\u001b[49m\u001b[43m \u001b[49m\u001b[43maxis_name\u001b[49m\u001b[43m)\u001b[49m\n\u001b[1;32m   1464\u001b[0m \u001b[38;5;28;01mreturn\u001b[39;00m keyarr, indexer\n",
      "File \u001b[0;32m~/.local/lib/python3.10/site-packages/pandas/core/indexes/base.py:5876\u001b[0m, in \u001b[0;36mIndex._get_indexer_strict\u001b[0;34m(self, key, axis_name)\u001b[0m\n\u001b[1;32m   5873\u001b[0m \u001b[38;5;28;01melse\u001b[39;00m:\n\u001b[1;32m   5874\u001b[0m     keyarr, indexer, new_indexer \u001b[38;5;241m=\u001b[39m \u001b[38;5;28mself\u001b[39m\u001b[38;5;241m.\u001b[39m_reindex_non_unique(keyarr)\n\u001b[0;32m-> 5876\u001b[0m \u001b[38;5;28;43mself\u001b[39;49m\u001b[38;5;241;43m.\u001b[39;49m\u001b[43m_raise_if_missing\u001b[49m\u001b[43m(\u001b[49m\u001b[43mkeyarr\u001b[49m\u001b[43m,\u001b[49m\u001b[43m \u001b[49m\u001b[43mindexer\u001b[49m\u001b[43m,\u001b[49m\u001b[43m \u001b[49m\u001b[43maxis_name\u001b[49m\u001b[43m)\u001b[49m\n\u001b[1;32m   5878\u001b[0m keyarr \u001b[38;5;241m=\u001b[39m \u001b[38;5;28mself\u001b[39m\u001b[38;5;241m.\u001b[39mtake(indexer)\n\u001b[1;32m   5879\u001b[0m \u001b[38;5;28;01mif\u001b[39;00m \u001b[38;5;28misinstance\u001b[39m(key, Index):\n\u001b[1;32m   5880\u001b[0m     \u001b[38;5;66;03m# GH 42790 - Preserve name from an Index\u001b[39;00m\n",
      "File \u001b[0;32m~/.local/lib/python3.10/site-packages/pandas/core/indexes/base.py:5935\u001b[0m, in \u001b[0;36mIndex._raise_if_missing\u001b[0;34m(self, key, indexer, axis_name)\u001b[0m\n\u001b[1;32m   5933\u001b[0m     \u001b[38;5;28;01mif\u001b[39;00m use_interval_msg:\n\u001b[1;32m   5934\u001b[0m         key \u001b[38;5;241m=\u001b[39m \u001b[38;5;28mlist\u001b[39m(key)\n\u001b[0;32m-> 5935\u001b[0m     \u001b[38;5;28;01mraise\u001b[39;00m \u001b[38;5;167;01mKeyError\u001b[39;00m(\u001b[38;5;124mf\u001b[39m\u001b[38;5;124m\"\u001b[39m\u001b[38;5;124mNone of [\u001b[39m\u001b[38;5;132;01m{\u001b[39;00mkey\u001b[38;5;132;01m}\u001b[39;00m\u001b[38;5;124m] are in the [\u001b[39m\u001b[38;5;132;01m{\u001b[39;00maxis_name\u001b[38;5;132;01m}\u001b[39;00m\u001b[38;5;124m]\u001b[39m\u001b[38;5;124m\"\u001b[39m)\n\u001b[1;32m   5937\u001b[0m not_found \u001b[38;5;241m=\u001b[39m \u001b[38;5;28mlist\u001b[39m(ensure_index(key)[missing_mask\u001b[38;5;241m.\u001b[39mnonzero()[\u001b[38;5;241m0\u001b[39m]]\u001b[38;5;241m.\u001b[39munique())\n\u001b[1;32m   5938\u001b[0m \u001b[38;5;28;01mraise\u001b[39;00m \u001b[38;5;167;01mKeyError\u001b[39;00m(\u001b[38;5;124mf\u001b[39m\u001b[38;5;124m\"\u001b[39m\u001b[38;5;132;01m{\u001b[39;00mnot_found\u001b[38;5;132;01m}\u001b[39;00m\u001b[38;5;124m not in index\u001b[39m\u001b[38;5;124m\"\u001b[39m)\n",
      "\u001b[0;31mKeyError\u001b[0m: \"None of [Index(['PCA1', 'PCA2'], dtype='object')] are in the [index]\""
     ]
    }
   ],
   "source": [
    "df3.corr(numeric_only=True)[df3.corr(numeric_only=True)>0.5].loc[['PCA1', 'PCA2'] ].transpose()"
   ]
  },
  {
   "cell_type": "code",
   "execution_count": null,
   "id": "5cb34d9d",
   "metadata": {},
   "outputs": [],
   "source": [
    "text_oba=pd.melt(wide, id_vars =['date'], value_vars =['text_oba'],var_name='source', value_name='text')\n",
    "text_oba['source']='oba'\n",
    "text_nyt=pd.melt(wide, id_vars =['date'], value_vars =['text_nyt'],var_name='source', value_name='text')\n",
    "text_nyt['source']='nyt'\n",
    "text_wsj=pd.melt(wide, id_vars =['date'], value_vars =['text_wsj'],var_name='source', value_name='text')\n",
    "text_wsj['source']='wsj'\n",
    "texts=pd.concat([text_oba,text_nyt,text_wsj])"
   ]
  },
  {
   "cell_type": "code",
   "execution_count": null,
   "id": "61f1100d",
   "metadata": {},
   "outputs": [],
   "source": [
    "texts"
   ]
  },
  {
   "cell_type": "markdown",
   "id": "7bbabd31",
   "metadata": {},
   "source": [
    "<A HREF=\"https://practicaldatascience.co.uk/data-science/how-to-use-python-regular-expressions-to-extract-information\">Decent regex guide</A><BR><A HREF=\"https://regexr.com/\">RegExr</A>"
   ]
  },
  {
   "cell_type": "code",
   "execution_count": null,
   "id": "92f4e72c",
   "metadata": {},
   "outputs": [],
   "source": [
    "def get_source(text):\n",
    "    regex = \"[^./][a-zA-Z]+[^/]\"\n",
    "    string = re.findall(regex, str(text))[0]\n",
    "    if string == 'speeches': string = 'oba'\n",
    "    if string == 'NYTimes': string = 'nyt'\n",
    "    return string.lower()\n",
    "\n",
    "def get_date(text):\n",
    "    regex = \"([0-9]+[\\-][0-9]+[\\-][0-9]+)\"\n",
    "    return re.findall(regex, str(text))[0]\n",
    "\n",
    "def get_filename(text):\n",
    "    regex = \"[-]([a-zA-Z]+)\"\n",
    "    return re.findall(regex, str(text))[0]\n",
    "\n",
    "speech_df = pd.DataFrame(speeches)\n",
    "print(get_source(speeches[50][1]))\n",
    "\n",
    "print(get_date(speeches[50][1]))\n",
    "\n",
    "print(get_filename(speeches[50][1]))"
   ]
  },
  {
   "cell_type": "code",
   "execution_count": null,
   "id": "d2a160ef",
   "metadata": {},
   "outputs": [],
   "source": [
    "cols = ['text', 'filepath']\n",
    "text_df = pd.DataFrame(speeches, columns=cols)\n",
    "text_df['date'] = text_df['filepath'].apply(get_date)\n",
    "text_df['date'] = pd.to_datetime(text_df['date'], format='%Y-%m-%d')\n",
    "text_df['source'] = text_df['filepath'].apply(get_source)\n",
    "text_df"
   ]
  },
  {
   "cell_type": "code",
   "execution_count": null,
   "id": "ad7dedef",
   "metadata": {},
   "outputs": [],
   "source": [
    "text_df['sentences'] = text_df['text'].apply(sent_tokenize)\n",
    "text_df['words'] = text_df['text'].apply(word_token.tokenize)\n",
    "text_df['num_sents'] = text_df['sentences'].apply(len)\n",
    "text_df['num_words'] = text_df['words'].apply(len)\n",
    "text_df['word_set'] = text_df['words'].apply(set)\n",
    "text_df['num_unique_words'] = text_df['word_set'].apply(len)"
   ]
  },
  {
   "cell_type": "code",
   "execution_count": null,
   "id": "94267fc0",
   "metadata": {},
   "outputs": [],
   "source": [
    "#text_df.to_csv('./Data/genData/text_sentences_words.csv', index=False)"
   ]
  },
  {
   "cell_type": "code",
   "execution_count": null,
   "id": "a516a328",
   "metadata": {},
   "outputs": [],
   "source": [
    "text_df_numbers = text_df[['date', 'source', 'num_sents', 'num_words', 'num_unique_words']].copy()"
   ]
  },
  {
   "cell_type": "code",
   "execution_count": null,
   "id": "d2e331af",
   "metadata": {},
   "outputs": [],
   "source": [
    "df4 = pd.merge(df3, text_df_numbers, how='left', on=['date', 'source'])"
   ]
  },
  {
   "cell_type": "code",
   "execution_count": null,
   "id": "107f9854",
   "metadata": {},
   "outputs": [],
   "source": [
    "df4"
   ]
  },
  {
   "cell_type": "code",
   "execution_count": null,
   "id": "c1907f80",
   "metadata": {},
   "outputs": [],
   "source": [
    "#df4.to_csv('./Data/genData/tidy_data.csv', index=False)"
   ]
  },
  {
   "cell_type": "code",
   "execution_count": null,
   "id": "3f7be925",
   "metadata": {},
   "outputs": [],
   "source": [
    "df4.corr(numeric_only=True)[df4.corr(numeric_only=True)>0.5].loc[['PCA1', 'PCA2'] ].transpose()"
   ]
  },
  {
   "cell_type": "code",
   "execution_count": null,
   "id": "93e620a6",
   "metadata": {},
   "outputs": [],
   "source": []
  }
 ],
 "metadata": {
  "kernelspec": {
   "display_name": "Python 3 (ipykernel)",
   "language": "python",
   "name": "python3"
  },
  "language_info": {
   "codemirror_mode": {
    "name": "ipython",
    "version": 3
   },
   "file_extension": ".py",
   "mimetype": "text/x-python",
   "name": "python",
   "nbconvert_exporter": "python",
   "pygments_lexer": "ipython3",
   "version": "3.10.12"
  }
 },
 "nbformat": 4,
 "nbformat_minor": 5
}
