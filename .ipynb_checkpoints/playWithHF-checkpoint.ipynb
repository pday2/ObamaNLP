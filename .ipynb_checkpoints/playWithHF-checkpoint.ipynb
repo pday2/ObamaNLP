{
 "cells": [
  {
   "cell_type": "markdown",
   "id": "21e7f40f",
   "metadata": {},
   "source": [
    "<A HREF=\"https://medium.com/mlearning-ai/using-huggingface-transformers-with-pytorch-for-nlp-tasks-afc430190e22\">Following this Medium article</A><P>\n",
    "<A HREF=\"https://huggingface.co/docs/transformers/installation\">HF installation and environment setup</A>"
   ]
  },
  {
   "cell_type": "code",
   "execution_count": 9,
   "id": "02cb147e",
   "metadata": {},
   "outputs": [],
   "source": [
    "import pandas as pd"
   ]
  },
  {
   "cell_type": "code",
   "execution_count": 1,
   "id": "6205cea3",
   "metadata": {},
   "outputs": [],
   "source": [
    "# install HuggingFace transformers if necessary\n",
    "!pip -q install transformers"
   ]
  },
  {
   "cell_type": "code",
   "execution_count": 5,
   "id": "5c33f90b",
   "metadata": {},
   "outputs": [
    {
     "name": "stderr",
     "output_type": "stream",
     "text": [
      "No model was supplied, defaulted to distilbert-base-uncased-finetuned-sst-2-english (https://huggingface.co/distilbert-base-uncased-finetuned-sst-2-english)\n"
     ]
    },
    {
     "name": "stdout",
     "output_type": "stream",
     "text": [
      "[{'label': 'POSITIVE', 'score': 0.9998704195022583}]\n"
     ]
    }
   ],
   "source": [
    "# Test installation (note: downloads model ~260MB)\n",
    "from transformers import pipeline\n",
    "print(pipeline('sentiment-analysis')('we love you'))"
   ]
  },
  {
   "cell_type": "code",
   "execution_count": 6,
   "id": "d41bc145",
   "metadata": {},
   "outputs": [
    {
     "name": "stderr",
     "output_type": "stream",
     "text": [
      "No model was supplied, defaulted to distilbert-base-uncased-finetuned-sst-2-english (https://huggingface.co/distilbert-base-uncased-finetuned-sst-2-english)\n"
     ]
    },
    {
     "data": {
      "text/plain": [
       "[{'label': 'POSITIVE', 'score': 0.9975104331970215}]"
      ]
     },
     "execution_count": 6,
     "metadata": {},
     "output_type": "execute_result"
    }
   ],
   "source": [
    "# Sentiment Analysis\n",
    "cls = pipeline(\"sentiment-analysis\")\n",
    "cls(\"Team Blauwe Kater rules!\")"
   ]
  },
  {
   "cell_type": "code",
   "execution_count": 7,
   "id": "e1ad7cda",
   "metadata": {},
   "outputs": [
    {
     "name": "stderr",
     "output_type": "stream",
     "text": [
      "No model was supplied, defaulted to facebook/bart-large-mnli (https://huggingface.co/facebook/bart-large-mnli)\n"
     ]
    },
    {
     "data": {
      "application/vnd.jupyter.widget-view+json": {
       "model_id": "700845396aff4befa4f68a08e555229a",
       "version_major": 2,
       "version_minor": 0
      },
      "text/plain": [
       "Downloading:   0%|          | 0.00/1.13k [00:00<?, ?B/s]"
      ]
     },
     "metadata": {},
     "output_type": "display_data"
    },
    {
     "data": {
      "application/vnd.jupyter.widget-view+json": {
       "model_id": "5497c0c3c9b149588296bce7946d6acb",
       "version_major": 2,
       "version_minor": 0
      },
      "text/plain": [
       "Downloading:   0%|          | 0.00/1.52G [00:00<?, ?B/s]"
      ]
     },
     "metadata": {},
     "output_type": "display_data"
    },
    {
     "data": {
      "application/vnd.jupyter.widget-view+json": {
       "model_id": "8be0c12b125f4511af866ffe345eaf45",
       "version_major": 2,
       "version_minor": 0
      },
      "text/plain": [
       "Downloading:   0%|          | 0.00/26.0 [00:00<?, ?B/s]"
      ]
     },
     "metadata": {},
     "output_type": "display_data"
    },
    {
     "data": {
      "application/vnd.jupyter.widget-view+json": {
       "model_id": "c50cb1369a1b4e0bbd6e835c0cac724b",
       "version_major": 2,
       "version_minor": 0
      },
      "text/plain": [
       "Downloading:   0%|          | 0.00/878k [00:00<?, ?B/s]"
      ]
     },
     "metadata": {},
     "output_type": "display_data"
    },
    {
     "data": {
      "application/vnd.jupyter.widget-view+json": {
       "model_id": "92423132d0a948368a13babeabc525fa",
       "version_major": 2,
       "version_minor": 0
      },
      "text/plain": [
       "Downloading:   0%|          | 0.00/446k [00:00<?, ?B/s]"
      ]
     },
     "metadata": {},
     "output_type": "display_data"
    },
    {
     "data": {
      "application/vnd.jupyter.widget-view+json": {
       "model_id": "4f1334621e414f718bbf24d069f4643f",
       "version_major": 2,
       "version_minor": 0
      },
      "text/plain": [
       "Downloading:   0%|          | 0.00/1.29M [00:00<?, ?B/s]"
      ]
     },
     "metadata": {},
     "output_type": "display_data"
    },
    {
     "data": {
      "text/plain": [
       "[{'sequence': 'This is related to computers',\n",
       "  'labels': ['computers', 'apples'],\n",
       "  'scores': [0.9986750483512878, 0.001324947108514607]},\n",
       " {'sequence': 'I love apples',\n",
       "  'labels': ['apples', 'computers'],\n",
       "  'scores': [0.9986883401870728, 0.0013116567861288786]}]"
      ]
     },
     "execution_count": 7,
     "metadata": {},
     "output_type": "execute_result"
    }
   ],
   "source": [
    "# Warning: installs bart-large-mnli model which is 1.52GB\n",
    "cls_b = pipeline(\"zero-shot-classification\")\n",
    "cls_b([\"This is related to computers\" , \"I love apples\"] , [\"apples\", \"computers\"])"
   ]
  },
  {
   "cell_type": "code",
   "execution_count": 11,
   "id": "3e280970",
   "metadata": {},
   "outputs": [],
   "source": [
    "address = './DataUCSB/address-accepting-the-presidential-nomination-the-democratic-national-convention-denver.csv'\n",
    "speech = pd.read_csv(address)"
   ]
  },
  {
   "cell_type": "code",
   "execution_count": null,
   "id": "4b19bdf5",
   "metadata": {},
   "outputs": [],
   "source": []
  }
 ],
 "metadata": {
  "kernelspec": {
   "display_name": "Python 3",
   "language": "python",
   "name": "python3"
  },
  "language_info": {
   "codemirror_mode": {
    "name": "ipython",
    "version": 3
   },
   "file_extension": ".py",
   "mimetype": "text/x-python",
   "name": "python",
   "nbconvert_exporter": "python",
   "pygments_lexer": "ipython3",
   "version": "3.9.10"
  }
 },
 "nbformat": 4,
 "nbformat_minor": 5
}
