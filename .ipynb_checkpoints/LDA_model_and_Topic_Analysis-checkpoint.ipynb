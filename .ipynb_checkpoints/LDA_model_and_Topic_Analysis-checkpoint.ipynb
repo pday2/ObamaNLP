{
 "cells": [
  {
   "cell_type": "code",
   "execution_count": 9,
   "metadata": {
    "colab": {
     "base_uri": "https://localhost:8080/",
     "height": 206
    },
    "id": "lM0KB5v8XIL7",
    "outputId": "de19dd38-a5f4-48db-d87e-412e14e77238"
   },
   "outputs": [
    {
     "name": "stderr",
     "output_type": "stream",
     "text": [
      "[nltk_data] Downloading package omw-1.4 to /home/muddy/nltk_data...\n",
      "[nltk_data]   Package omw-1.4 is already up-to-date!\n",
      "[nltk_data] Downloading package wordnet to /home/muddy/nltk_data...\n",
      "[nltk_data]   Package wordnet is already up-to-date!\n"
     ]
    }
   ],
   "source": [
    "import os\n",
    "import unicodedata\n",
    "import numpy as np\n",
    "import pandas as pd\n",
    "import warnings\n",
    "import nltk\n",
    "import gensim\n",
    "from gensim.utils import simple_preprocess\n",
    "from gensim.parsing.preprocessing import STOPWORDS\n",
    "from nltk.stem import WordNetLemmatizer\n",
    "stemmer = nltk.PorterStemmer()\n",
    "nltk.download('omw-1.4')\n",
    "nltk.download('wordnet')\n",
    "warnings.filterwarnings('ignore')"
   ]
  },
  {
   "cell_type": "markdown",
   "metadata": {
    "id": "psyr1NFFQC9w"
   },
   "source": [
    "## Text Cleaning"
   ]
  },
  {
   "cell_type": "markdown",
   "metadata": {},
   "source": [
    "<A HREF=\"https://docs.python.org/3.8/library/unicodedata.html#unicodedata.normalize\">About unicodedata.normalize</A>"
   ]
  },
  {
   "cell_type": "code",
   "execution_count": 92,
   "metadata": {},
   "outputs": [],
   "source": [
    "# Load up the files\n",
    "#path = './DataUCSB/' # Smaller UCSB dataset\n",
    "path = './Data/' # larger American Rhetoric dataset\n",
    "list_of_files = []\n",
    "\n",
    "dates = pd.read_csv('dateSpeeches.csv')\n",
    "\n",
    "for root, dirs, files in os.walk(path):\n",
    "    for file in files:\n",
    "        if file.endswith('.txt'):\n",
    "            list_of_files.append(os.path.join(root,file))\n",
    "\n",
    "speeches = []\n",
    "for file in list_of_files:\n",
    "    with open(file, encoding='utf-8') as f:\n",
    "        text = f.read()\n",
    "    f.close()\n",
    "    speeches.append([text, file[7:]])\n",
    "\n",
    "#clean out goofy unicode  space characters \n",
    "speeches = [(unicodedata.normalize(\"NFKD\", speech[0]), speech[1]) for speech in speeches if len(speech)>0 ]"
   ]
  },
  {
   "cell_type": "code",
   "execution_count": 121,
   "metadata": {
    "colab": {
     "base_uri": "https://localhost:8080/"
    },
    "id": "RkGKKQrlcXJu",
    "outputId": "f775c7ff-3fb1-4313-b7f4-5743db7043b7"
   },
   "outputs": [
    {
     "data": {
      "text/html": [
       "<div>\n",
       "<style scoped>\n",
       "    .dataframe tbody tr th:only-of-type {\n",
       "        vertical-align: middle;\n",
       "    }\n",
       "\n",
       "    .dataframe tbody tr th {\n",
       "        vertical-align: top;\n",
       "    }\n",
       "\n",
       "    .dataframe thead th {\n",
       "        text-align: right;\n",
       "    }\n",
       "</style>\n",
       "<table border=\"1\" class=\"dataframe\">\n",
       "  <thead>\n",
       "    <tr style=\"text-align: right;\">\n",
       "      <th></th>\n",
       "      <th>content</th>\n",
       "      <th>filename</th>\n",
       "    </tr>\n",
       "  </thead>\n",
       "  <tbody>\n",
       "    <tr>\n",
       "      <th>0</th>\n",
       "      <td>Thank you, Governor. To all the families, first responders, to the community of Newtown, clergy,...</td>\n",
       "      <td>barackobamanewtownvigilspeech.txt</td>\n",
       "    </tr>\n",
       "    <tr>\n",
       "      <th>1</th>\n",
       "      <td>Selamat pagi. [Good morning.] It is wonderful to be here at the University of Indonesia.  To the...</td>\n",
       "      <td>barackobamaindonesiauniversity.txt</td>\n",
       "    </tr>\n",
       "    <tr>\n",
       "      <th>2</th>\n",
       "      <td>First of all, let me thank Dr. [Francis] Collins not just for the introduction but for his incre...</td>\n",
       "      <td>barackobamabraininitiative.txt</td>\n",
       "    </tr>\n",
       "    <tr>\n",
       "      <th>3</th>\n",
       "      <td>Hello, everybody!  All right, everybody have a seat.  I got a lot to say here.  First of all, I ...</td>\n",
       "      <td>barackobamanursesassociation.txt</td>\n",
       "    </tr>\n",
       "    <tr>\n",
       "      <th>4</th>\n",
       "      <td>Good morning, everyone.  It is a great honor to be with you here today.  Of course, it is a trul...</td>\n",
       "      <td>barackobamanationalholocaustmemorialmuseum.txt</td>\n",
       "    </tr>\n",
       "  </tbody>\n",
       "</table>\n",
       "</div>"
      ],
      "text/plain": [
       "                                                                                               content  \\\n",
       "0  Thank you, Governor. To all the families, first responders, to the community of Newtown, clergy,...   \n",
       "1  Selamat pagi. [Good morning.] It is wonderful to be here at the University of Indonesia.  To the...   \n",
       "2  First of all, let me thank Dr. [Francis] Collins not just for the introduction but for his incre...   \n",
       "3  Hello, everybody!  All right, everybody have a seat.  I got a lot to say here.  First of all, I ...   \n",
       "4  Good morning, everyone.  It is a great honor to be with you here today.  Of course, it is a trul...   \n",
       "\n",
       "                                         filename  \n",
       "0               barackobamanewtownvigilspeech.txt  \n",
       "1              barackobamaindonesiauniversity.txt  \n",
       "2                  barackobamabraininitiative.txt  \n",
       "3                barackobamanursesassociation.txt  \n",
       "4  barackobamanationalholocaustmemorialmuseum.txt  "
      ]
     },
     "execution_count": 121,
     "metadata": {},
     "output_type": "execute_result"
    }
   ],
   "source": [
    "docs = pd.DataFrame(speeches, columns=['content', 'filename']);\n",
    "docs.head()"
   ]
  },
  {
   "cell_type": "code",
   "execution_count": 122,
   "metadata": {},
   "outputs": [],
   "source": [
    "dateinfo = pd.read_csv('AmRhet_date_data.csv')\n",
    "dateinfo['date'] = pd.to_datetime(dateinfo['date'], format='%d %b %Y')"
   ]
  },
  {
   "cell_type": "code",
   "execution_count": 123,
   "metadata": {},
   "outputs": [],
   "source": [
    "documents = pd.merge(docs, dateinfo, how='left', on='filename')\n",
    "documents.sort_values('date', ascending=True, ignore_index=True, inplace=True)"
   ]
  },
  {
   "cell_type": "code",
   "execution_count": 138,
   "metadata": {},
   "outputs": [],
   "source": [
    "# Save this good clean data!\n",
    "#documents.to_csv(\"AmRhet_speeches_with_dates.csv\", index=False)"
   ]
  },
  {
   "cell_type": "code",
   "execution_count": 139,
   "metadata": {
    "id": "G21jZobbdj1s"
   },
   "outputs": [],
   "source": [
    "#Build Text-Cleaning Pipeline\n",
    "def lemmatize_stemming(text):\n",
    "    return stemmer.stem(WordNetLemmatizer().lemmatize(text, pos='v'))\n",
    "def preprocess(text):\n",
    "    result = []\n",
    "    for token in gensim.utils.simple_preprocess(text):\n",
    "        if token not in gensim.parsing.preprocessing.STOPWORDS and len(token) > 3:\n",
    "            result.append(lemmatize_stemming(token))\n",
    "    return result"
   ]
  },
  {
   "cell_type": "code",
   "execution_count": 140,
   "metadata": {
    "colab": {
     "base_uri": "https://localhost:8080/"
    },
    "id": "5ypucLCkc-Bv",
    "outputId": "378db138-6aec-4631-a029-1ad185d5c991"
   },
   "outputs": [],
   "source": [
    "word_list = [speech.split() for speech in documents['content']]"
   ]
  },
  {
   "cell_type": "code",
   "execution_count": 141,
   "metadata": {
    "colab": {
     "base_uri": "https://localhost:8080/"
    },
    "id": "B_23C5v2XJ8D",
    "outputId": "5771cb92-07b8-4f84-8797-17e34cfa4480"
   },
   "outputs": [
    {
     "data": {
      "text/plain": [
       "0    [good, afternoon, begin, say, bill, anti, ralli, stand, oppos, circumst, civil, bloodiest, histo...\n",
       "1    [behalf, great, state, illinoi, crossroad, nation, land, lincoln, express, deepest, gratitud, pr...\n",
       "2    [thank, presid, ladi, gentlemen, senat, anticip, speak, today, import, think, issu, feel, import...\n",
       "3    [good, morn, presid, taylor, board, truste, faculti, parent, famili, friend, commun, galesburg, ...\n",
       "4    [presid, today, nation, mourn, genuin, american, hero, know, rosa, park, die, yesterday, home, d...\n",
       "5    [thank, presid, know, year, follow, devast, attack, histori, bodi, pass, patriot, order, nation,...\n",
       "6    [thank, presid, today, mourn, pass, ofcoretta, scott, king, think, coretta, scott, king, think, ...\n",
       "7    [presid, rise, today, humbl, honor, opportun, express, support, renew, expir, provis, thevot, ri...\n",
       "8    [know, month, think, hard, plan, run, presid, profound, decis, decis, basi, media, hype, person,...\n",
       "9    [hello, springfield, look, look, good, thank, thank, give, prais, honor, bring, today, thank, gr...\n",
       "Name: content, dtype: object"
      ]
     },
     "execution_count": 141,
     "metadata": {},
     "output_type": "execute_result"
    }
   ],
   "source": [
    "#apply pipeline \n",
    "processed_docs = documents['content'].map(preprocess)\n",
    "processed_docs[:10]"
   ]
  },
  {
   "cell_type": "markdown",
   "metadata": {
    "id": "97U4cGtOBxHQ"
   },
   "source": [
    "## LDA Model"
   ]
  },
  {
   "cell_type": "code",
   "execution_count": 142,
   "metadata": {
    "id": "zZFs32n94TWd"
   },
   "outputs": [],
   "source": [
    "#Create dictionary\n",
    "dictionary = gensim.corpora.Dictionary(processed_docs)\n",
    "dictionary.filter_extremes(no_below=2, no_above=0.5, keep_n=1000)\n",
    "bow_corpus = [dictionary.doc2bow(doc) for doc in processed_docs]"
   ]
  },
  {
   "cell_type": "code",
   "execution_count": 143,
   "metadata": {
    "colab": {
     "base_uri": "https://localhost:8080/"
    },
    "id": "PzmBTbnm65LR",
    "outputId": "5f003dd8-fe0f-4285-fd33-abdb660927dd"
   },
   "outputs": [
    {
     "name": "stdout",
     "output_type": "stream",
     "text": [
      "Word 8 (\"battl\") appears 1 time.\n",
      "Word 9 (\"bear\") appears 1 time.\n",
      "Word 13 (\"brutal\") appears 1 time.\n",
      "Word 22 (\"corpor\") appears 2 time.\n",
      "Word 27 (\"cynic\") appears 2 time.\n"
     ]
    }
   ],
   "source": [
    "#Take a look\n",
    "bow_doc_200 = bow_corpus[200]\n",
    "for i in range(5):\n",
    "    print(\"Word {} (\\\"{}\\\") appears {} time.\".format(bow_doc_200[i][0], \n",
    "                                               dictionary[bow_doc_200[i][0]], \n",
    "                                     bow_doc_200[i][1]))\n"
   ]
  },
  {
   "cell_type": "code",
   "execution_count": 144,
   "metadata": {
    "colab": {
     "base_uri": "https://localhost:8080/"
    },
    "id": "1EQvPz-lRqBO",
    "outputId": "f7a5e69b-fe11-47e0-98e7-20bed7aa3827"
   },
   "outputs": [],
   "source": [
    "%%capture --no-display\n",
    "#fit in LDA model\n",
    "from gensim import corpora, models\n",
    "import numpy as np\n",
    "tfidf = models.TfidfModel(bow_corpus)\n",
    "corpus_tfidf = tfidf[bow_corpus]\n",
    "from pprint import pprint\n",
    "lda_model = gensim.models.LdaMulticore(bow_corpus, \n",
    "                                       num_topics=6, \n",
    "                                       id2word=dictionary, \n",
    "                                       passes=2, \n",
    "                                       workers=2,\n",
    "                                       random_state=np.random.RandomState(33))"
   ]
  },
  {
   "cell_type": "code",
   "execution_count": 145,
   "metadata": {
    "colab": {
     "base_uri": "https://localhost:8080/"
    },
    "id": "vzHGQvOdoPpj",
    "outputId": "8e815c36-9e6b-4458-8922-fddc8533ac81"
   },
   "outputs": [
    {
     "name": "stdout",
     "output_type": "stream",
     "text": [
      "Topic: 0 \n",
      "Words: 0.006*\"iran\" + 0.006*\"nuclear\" + 0.006*\"democraci\" + 0.005*\"terrorist\" + 0.005*\"muslim\" + 0.005*\"deal\" + 0.005*\"human\" + 0.005*\"intern\" + 0.004*\"obama\" + 0.004*\"attack\"\n",
      "Topic: 1 \n",
      "Words: 0.009*\"militari\" + 0.008*\"iran\" + 0.007*\"nuclear\" + 0.007*\"isil\" + 0.006*\"iraq\" + 0.006*\"terrorist\" + 0.006*\"israel\" + 0.005*\"veteran\" + 0.005*\"intern\" + 0.005*\"weapon\"\n",
      "Topic: 2 \n",
      "Words: 0.008*\"obama\" + 0.005*\"faith\" + 0.005*\"iraq\" + 0.005*\"energi\" + 0.004*\"region\" + 0.004*\"militari\" + 0.004*\"nuclear\" + 0.004*\"folk\" + 0.004*\"intern\" + 0.004*\"iran\"\n",
      "Topic: 3 \n",
      "Words: 0.009*\"obama\" + 0.008*\"republican\" + 0.007*\"energi\" + 0.006*\"vote\" + 0.006*\"deficit\" + 0.005*\"folk\" + 0.005*\"parti\" + 0.005*\"insur\" + 0.005*\"cost\" + 0.005*\"compani\"\n",
      "Topic: 4 \n",
      "Words: 0.012*\"insur\" + 0.011*\"obama\" + 0.009*\"governor\" + 0.009*\"compani\" + 0.008*\"reform\" + 0.007*\"afford\" + 0.006*\"folk\" + 0.006*\"cost\" + 0.006*\"money\" + 0.005*\"republican\"\n",
      "Topic: 5 \n",
      "Words: 0.008*\"human\" + 0.008*\"obama\" + 0.006*\"school\" + 0.005*\"develop\" + 0.005*\"democraci\" + 0.004*\"region\" + 0.004*\"civil\" + 0.004*\"china\" + 0.004*\"freedom\" + 0.004*\"citi\"\n"
     ]
    }
   ],
   "source": [
    "#Take a look of the reasult of topic model\n",
    "for idx, topic in lda_model.print_topics(-1):\n",
    "    print('Topic: {} \\nWords: {}'.format(idx, topic))"
   ]
  },
  {
   "cell_type": "code",
   "execution_count": 146,
   "metadata": {
    "colab": {
     "base_uri": "https://localhost:8080/"
    },
    "id": "gmdspNQTRzqT",
    "outputId": "57206933-baa6-4e56-a774-e0b705b19426"
   },
   "outputs": [],
   "source": [
    "%%capture --no-display\n",
    "#fits LDA_model_tfidf\n",
    "lda_model_tfidf = gensim.models.LdaMulticore(corpus_tfidf, num_topics=5, id2word=dictionary, passes=2, workers=4)\n"
   ]
  },
  {
   "cell_type": "code",
   "execution_count": 152,
   "metadata": {
    "colab": {
     "base_uri": "https://localhost:8080/"
    },
    "id": "w3h9eTixA8g_",
    "outputId": "acc2f8c4-d096-40a1-94b4-e009fb2a7422"
   },
   "outputs": [
    {
     "name": "stdout",
     "output_type": "stream",
     "text": [
      "Topic: 0 Word: 0.010*\"insur\" + 0.006*\"obama\" + 0.005*\"court\" + 0.004*\"afford\" + 0.003*\"republican\" + 0.003*\"intellig\" + 0.003*\"governor\" + 0.003*\"judg\" + 0.003*\"senat\" + 0.003*\"check\"\n",
      "\n",
      "Topic: 1 Word: 0.007*\"veteran\" + 0.004*\"deficit\" + 0.004*\"iraq\" + 0.003*\"obama\" + 0.003*\"cut\" + 0.003*\"troop\" + 0.003*\"insur\" + 0.003*\"debt\" + 0.003*\"militari\" + 0.002*\"republican\"\n",
      "\n",
      "Topic: 2 Word: 0.003*\"obama\" + 0.003*\"veteran\" + 0.003*\"insur\" + 0.002*\"immigr\" + 0.002*\"treatment\" + 0.002*\"energi\" + 0.002*\"africa\" + 0.002*\"tonight\" + 0.002*\"compani\" + 0.002*\"diseas\"\n",
      "\n",
      "Topic: 3 Word: 0.005*\"isil\" + 0.005*\"iran\" + 0.004*\"nuclear\" + 0.004*\"israel\" + 0.004*\"obama\" + 0.003*\"iraq\" + 0.003*\"energi\" + 0.003*\"region\" + 0.003*\"militari\" + 0.003*\"terrorist\"\n",
      "\n",
      "Topic: 4 Word: 0.005*\"tonight\" + 0.004*\"black\" + 0.004*\"insur\" + 0.004*\"father\" + 0.004*\"faith\" + 0.003*\"king\" + 0.003*\"prayer\" + 0.003*\"school\" + 0.003*\"immigr\" + 0.003*\"church\"\n",
      "\n"
     ]
    }
   ],
   "source": [
    "#result\n",
    "for idx, topic in lda_model_tfidf.print_topics():\n",
    "    print('Topic: {} Word: {}\\n'.format(idx, topic))"
   ]
  },
  {
   "cell_type": "markdown",
   "metadata": {
    "id": "kuwrRmhIEcj5"
   },
   "source": [
    "## Topics Visualization"
   ]
  },
  {
   "cell_type": "code",
   "execution_count": 148,
   "metadata": {
    "colab": {
     "base_uri": "https://localhost:8080/",
     "height": 1000
    },
    "id": "ax3QZMr4Eio4",
    "outputId": "0d408738-94fa-45a5-a934-fcc51d3cdc40"
   },
   "outputs": [
    {
     "data": {
      "text/html": [
       "<div>\n",
       "<style scoped>\n",
       "    .dataframe tbody tr th:only-of-type {\n",
       "        vertical-align: middle;\n",
       "    }\n",
       "\n",
       "    .dataframe tbody tr th {\n",
       "        vertical-align: top;\n",
       "    }\n",
       "\n",
       "    .dataframe thead th {\n",
       "        text-align: right;\n",
       "    }\n",
       "</style>\n",
       "<table border=\"1\" class=\"dataframe\">\n",
       "  <thead>\n",
       "    <tr style=\"text-align: right;\">\n",
       "      <th></th>\n",
       "      <th>Document_No</th>\n",
       "      <th>Dominant_Topic</th>\n",
       "      <th>Topic_Perc_Contrib</th>\n",
       "      <th>Keywords</th>\n",
       "      <th>Text</th>\n",
       "    </tr>\n",
       "  </thead>\n",
       "  <tbody>\n",
       "    <tr>\n",
       "      <th>0</th>\n",
       "      <td>0</td>\n",
       "      <td>1</td>\n",
       "      <td>0.7940</td>\n",
       "      <td>militari, iran, nuclear, isil, iraq, terrorist, israel, veteran, intern, weapon</td>\n",
       "      <td>[good, afternoon, begin, say, bill, anti, ralli, stand, oppos, circumst, civil, bloodiest, histo...</td>\n",
       "    </tr>\n",
       "    <tr>\n",
       "      <th>1</th>\n",
       "      <td>1</td>\n",
       "      <td>5</td>\n",
       "      <td>0.6404</td>\n",
       "      <td>human, obama, school, develop, democraci, region, civil, china, freedom, citi</td>\n",
       "      <td>[behalf, great, state, illinoi, crossroad, nation, land, lincoln, express, deepest, gratitud, pr...</td>\n",
       "    </tr>\n",
       "    <tr>\n",
       "      <th>2</th>\n",
       "      <td>2</td>\n",
       "      <td>3</td>\n",
       "      <td>0.9174</td>\n",
       "      <td>obama, republican, energi, vote, deficit, folk, parti, insur, cost, compani</td>\n",
       "      <td>[thank, presid, ladi, gentlemen, senat, anticip, speak, today, import, think, issu, feel, import...</td>\n",
       "    </tr>\n",
       "    <tr>\n",
       "      <th>3</th>\n",
       "      <td>3</td>\n",
       "      <td>3</td>\n",
       "      <td>0.4806</td>\n",
       "      <td>obama, republican, energi, vote, deficit, folk, parti, insur, cost, compani</td>\n",
       "      <td>[good, morn, presid, taylor, board, truste, faculti, parent, famili, friend, commun, galesburg, ...</td>\n",
       "    </tr>\n",
       "    <tr>\n",
       "      <th>4</th>\n",
       "      <td>4</td>\n",
       "      <td>5</td>\n",
       "      <td>0.9930</td>\n",
       "      <td>human, obama, school, develop, democraci, region, civil, china, freedom, citi</td>\n",
       "      <td>[presid, today, nation, mourn, genuin, american, hero, know, rosa, park, die, yesterday, home, d...</td>\n",
       "    </tr>\n",
       "    <tr>\n",
       "      <th>...</th>\n",
       "      <td>...</td>\n",
       "      <td>...</td>\n",
       "      <td>...</td>\n",
       "      <td>...</td>\n",
       "      <td>...</td>\n",
       "    </tr>\n",
       "    <tr>\n",
       "      <th>457</th>\n",
       "      <td>457</td>\n",
       "      <td>5</td>\n",
       "      <td>0.4843</td>\n",
       "      <td>human, obama, school, develop, democraci, region, civil, china, freedom, citi</td>\n",
       "      <td>[welcom, white, hous, everybodi, deliv, farewel, address, rel, brief, want, folk, tribut, somebo...</td>\n",
       "    </tr>\n",
       "    <tr>\n",
       "      <th>458</th>\n",
       "      <td>458</td>\n",
       "      <td>5</td>\n",
       "      <td>0.7958</td>\n",
       "      <td>human, obama, school, develop, democraci, region, civil, china, freedom, citi</td>\n",
       "      <td>[week, travel, chicago, deliv, final, farewel, address, nation, follow, tradit, presid, opportun...</td>\n",
       "    </tr>\n",
       "    <tr>\n",
       "      <th>459</th>\n",
       "      <td>459</td>\n",
       "      <td>3</td>\n",
       "      <td>0.4257</td>\n",
       "      <td>obama, republican, energi, vote, deficit, folk, parti, insur, cost, compani</td>\n",
       "      <td>[say, come, predecessor, chanc, welcom, white, hous, world, seri, champion, chicago, cub, know, ...</td>\n",
       "    </tr>\n",
       "    <tr>\n",
       "      <th>460</th>\n",
       "      <td>460</td>\n",
       "      <td>2</td>\n",
       "      <td>0.3848</td>\n",
       "      <td>obama, faith, iraq, energi, region, militari, nuclear, folk, intern, iran</td>\n",
       "      <td>[good, afternoon, everybodi, start, say, sore, tempt, wear, suit, today, press, confer, michel, ...</td>\n",
       "    </tr>\n",
       "    <tr>\n",
       "      <th>461</th>\n",
       "      <td>461</td>\n",
       "      <td>5</td>\n",
       "      <td>0.4586</td>\n",
       "      <td>human, obama, school, develop, democraci, region, civil, china, freedom, citi</td>\n",
       "      <td>[michel, milk, goodby, thing, behoov, brief, audienc, member, presid, obama, know, say, start, j...</td>\n",
       "    </tr>\n",
       "  </tbody>\n",
       "</table>\n",
       "<p>462 rows × 5 columns</p>\n",
       "</div>"
      ],
      "text/plain": [
       "     Document_No  Dominant_Topic  Topic_Perc_Contrib  \\\n",
       "0              0               1              0.7940   \n",
       "1              1               5              0.6404   \n",
       "2              2               3              0.9174   \n",
       "3              3               3              0.4806   \n",
       "4              4               5              0.9930   \n",
       "..           ...             ...                 ...   \n",
       "457          457               5              0.4843   \n",
       "458          458               5              0.7958   \n",
       "459          459               3              0.4257   \n",
       "460          460               2              0.3848   \n",
       "461          461               5              0.4586   \n",
       "\n",
       "                                                                            Keywords  \\\n",
       "0    militari, iran, nuclear, isil, iraq, terrorist, israel, veteran, intern, weapon   \n",
       "1      human, obama, school, develop, democraci, region, civil, china, freedom, citi   \n",
       "2        obama, republican, energi, vote, deficit, folk, parti, insur, cost, compani   \n",
       "3        obama, republican, energi, vote, deficit, folk, parti, insur, cost, compani   \n",
       "4      human, obama, school, develop, democraci, region, civil, china, freedom, citi   \n",
       "..                                                                               ...   \n",
       "457    human, obama, school, develop, democraci, region, civil, china, freedom, citi   \n",
       "458    human, obama, school, develop, democraci, region, civil, china, freedom, citi   \n",
       "459      obama, republican, energi, vote, deficit, folk, parti, insur, cost, compani   \n",
       "460        obama, faith, iraq, energi, region, militari, nuclear, folk, intern, iran   \n",
       "461    human, obama, school, develop, democraci, region, civil, china, freedom, citi   \n",
       "\n",
       "                                                                                                    Text  \n",
       "0    [good, afternoon, begin, say, bill, anti, ralli, stand, oppos, circumst, civil, bloodiest, histo...  \n",
       "1    [behalf, great, state, illinoi, crossroad, nation, land, lincoln, express, deepest, gratitud, pr...  \n",
       "2    [thank, presid, ladi, gentlemen, senat, anticip, speak, today, import, think, issu, feel, import...  \n",
       "3    [good, morn, presid, taylor, board, truste, faculti, parent, famili, friend, commun, galesburg, ...  \n",
       "4    [presid, today, nation, mourn, genuin, american, hero, know, rosa, park, die, yesterday, home, d...  \n",
       "..                                                                                                   ...  \n",
       "457  [welcom, white, hous, everybodi, deliv, farewel, address, rel, brief, want, folk, tribut, somebo...  \n",
       "458  [week, travel, chicago, deliv, final, farewel, address, nation, follow, tradit, presid, opportun...  \n",
       "459  [say, come, predecessor, chanc, welcom, white, hous, world, seri, champion, chicago, cub, know, ...  \n",
       "460  [good, afternoon, everybodi, start, say, sore, tempt, wear, suit, today, press, confer, michel, ...  \n",
       "461  [michel, milk, goodby, thing, behoov, brief, audienc, member, presid, obama, know, say, start, j...  \n",
       "\n",
       "[462 rows x 5 columns]"
      ]
     },
     "execution_count": 148,
     "metadata": {},
     "output_type": "execute_result"
    }
   ],
   "source": [
    "#generate Table 1\n",
    "def format_topics_sentences(ldamodel=None, corpus=bow_corpus, texts=data):    \n",
    "    sent_topics_df = pd.DataFrame()    \n",
    "    for i, row_list in enumerate(ldamodel[corpus]):\n",
    "        row = row_list[0] if ldamodel.per_word_topics else row_list            \n",
    "        row = sorted(row, key=lambda x: (x[1]), reverse=True)\n",
    "        for j, (topic_num, prop_topic) in enumerate(row):\n",
    "            if j == 0:  \n",
    "                wp = ldamodel.show_topic(topic_num)\n",
    "                topic_keywords = \", \".join([word for word, prop in wp])\n",
    "                sent_topics_df = sent_topics_df.append(pd.Series([int(topic_num), round(prop_topic,4), topic_keywords]), ignore_index=True)\n",
    "            else:\n",
    "                break\n",
    "    sent_topics_df.columns = ['Dominant_Topic', 'Perc_Contribution', 'Topic_Keywords']\n",
    "    contents = pd.Series(texts)\n",
    "    sent_topics_df = pd.concat([sent_topics_df, contents], axis=1)\n",
    "    return(sent_topics_df)\n",
    "\n",
    "\n",
    "df_topic_sents_keywords = format_topics_sentences(ldamodel=lda_model, corpus=bow_corpus, texts=processed_docs)\n",
    "  #Changes columns name\n",
    "df_dominant_topic = df_topic_sents_keywords.reset_index()\n",
    "df_dominant_topic.columns = ['Document_No', 'Dominant_Topic', 'Topic_Perc_Contrib', 'Keywords', 'Text']\n",
    "df_dominant_topic.to_csv('df_dominant_topic.csv')\n",
    "df_dominant_topic"
   ]
  },
  {
   "cell_type": "code",
   "execution_count": 154,
   "metadata": {
    "id": "6nCH21Uf3kgw"
   },
   "outputs": [],
   "source": [
    "df_dominant_topic['date']=documents[['date']]"
   ]
  },
  {
   "cell_type": "code",
   "execution_count": 158,
   "metadata": {
    "colab": {
     "base_uri": "https://localhost:8080/",
     "height": 542
    },
    "id": "j5rxh_7rcmd8",
    "outputId": "6305fb55-216f-4cd7-9dbf-240686b321c1"
   },
   "outputs": [
    {
     "data": {
      "application/vnd.plotly.v1+json": {
       "config": {
        "plotlyServerURL": "https://plot.ly"
       },
       "data": [
        {
         "hovertemplate": "date=%{x}<br>Dominant_Topic=%{marker.color}<br>Topic_Perc_Contrib=%{marker.size}<extra></extra>",
         "legendgroup": "",
         "marker": {
          "color": [
           1,
           5,
           3,
           3,
           5,
           3,
           5,
           3,
           3,
           3,
           5,
           1,
           1,
           4,
           1,
           3,
           3,
           3,
           3,
           3,
           5,
           3,
           1,
           1,
           3,
           3,
           3,
           3,
           2,
           3,
           3,
           3,
           1,
           2,
           3,
           3,
           1,
           5,
           0,
           3,
           0,
           3,
           3,
           5,
           5,
           3,
           1,
           4,
           2,
           1,
           1,
           1,
           2,
           3,
           1,
           1,
           3,
           4,
           1,
           5,
           0,
           1,
           0,
           1,
           1,
           4,
           4,
           0,
           1,
           0,
           4,
           4,
           5,
           5,
           4,
           5,
           1,
           0,
           1,
           5,
           1,
           5,
           3,
           1,
           2,
           0,
           0,
           0,
           0,
           3,
           5,
           4,
           3,
           1,
           3,
           3,
           5,
           3,
           4,
           4,
           5,
           4,
           4,
           3,
           4,
           1,
           3,
           1,
           2,
           2,
           3,
           5,
           5,
           5,
           3,
           2,
           1,
           4,
           2,
           3,
           5,
           1,
           1,
           3,
           4,
           5,
           1,
           3,
           5,
           3,
           5,
           1,
           0,
           1,
           1,
           0,
           3,
           5,
           1,
           5,
           1,
           1,
           3,
           5,
           3,
           5,
           5,
           4,
           3,
           5,
           0,
           1,
           1,
           5,
           5,
           1,
           3,
           3,
           3,
           4,
           5,
           4,
           5,
           1,
           1,
           5,
           0,
           1,
           1,
           0,
           5,
           1,
           1,
           3,
           3,
           3,
           3,
           3,
           1,
           3,
           3,
           1,
           0,
           5,
           1,
           1,
           1,
           3,
           3,
           1,
           1,
           3,
           3,
           3,
           1,
           1,
           1,
           3,
           1,
           3,
           5,
           1,
           4,
           5,
           1,
           3,
           1,
           1,
           0,
           5,
           4,
           4,
           4,
           2,
           2,
           3,
           3,
           3,
           5,
           5,
           5,
           3,
           5,
           3,
           3,
           5,
           2,
           4,
           3,
           5,
           3,
           5,
           1,
           1,
           4,
           3,
           3,
           2,
           2,
           1,
           3,
           5,
           2,
           5,
           2,
           3,
           4,
           5,
           2,
           5,
           1,
           1,
           4,
           4,
           5,
           5,
           5,
           5,
           3,
           1,
           4,
           5,
           1,
           1,
           5,
           4,
           1,
           4,
           4,
           1,
           4,
           1,
           5,
           5,
           4,
           0,
           3,
           5,
           1,
           5,
           4,
           2,
           5,
           1,
           3,
           1,
           1,
           1,
           1,
           1,
           1,
           3,
           1,
           1,
           4,
           1,
           1,
           1,
           1,
           1,
           1,
           1,
           0,
           1,
           0,
           2,
           4,
           2,
           3,
           5,
           2,
           5,
           3,
           5,
           0,
           0,
           4,
           4,
           4,
           4,
           3,
           5,
           5,
           1,
           4,
           0,
           1,
           5,
           4,
           5,
           1,
           5,
           5,
           2,
           5,
           1,
           3,
           4,
           1,
           5,
           5,
           2,
           5,
           5,
           3,
           1,
           4,
           5,
           1,
           4,
           5,
           1,
           1,
           5,
           5,
           0,
           3,
           1,
           5,
           1,
           5,
           5,
           1,
           5,
           0,
           5,
           2,
           1,
           5,
           1,
           5,
           1,
           5,
           0,
           1,
           2,
           2,
           1,
           5,
           4,
           2,
           1,
           5,
           1,
           2,
           3,
           3,
           3,
           3,
           1,
           1,
           0,
           5,
           4,
           3,
           2,
           2,
           5,
           0,
           1,
           3,
           4,
           2,
           4,
           5,
           5,
           5,
           5,
           1,
           2,
           1,
           5,
           1,
           3,
           5,
           5,
           5,
           4,
           5,
           5,
           2,
           2,
           1,
           1,
           3,
           1,
           1,
           5,
           5,
           4,
           1,
           1,
           5,
           3,
           1,
           4,
           2,
           1,
           5,
           1,
           1,
           0,
           5,
           1,
           2,
           2,
           2,
           0,
           5,
           2,
           1,
           5,
           1,
           2,
           1,
           4,
           0,
           5,
           5,
           3,
           2,
           5
          ],
          "coloraxis": "coloraxis",
          "size": [
           0.7940000295639038,
           0.6403999924659729,
           0.9174000024795532,
           0.4805999994277954,
           0.9929999709129333,
           0.5443000197410583,
           0.9901999831199646,
           0.5512999892234802,
           0.6805999875068665,
           0.532800018787384,
           0.8536999821662903,
           0.6933000087738037,
           0.8709999918937683,
           0.8424999713897705,
           0.829200029373169,
           0.996399998664856,
           0.7074000239372253,
           0.8652999997138977,
           0.5447999835014343,
           0.9053999781608582,
           0.9085000157356262,
           0.9524999856948853,
           0.9284999966621399,
           0.4968999922275543,
           0.8787000179290771,
           0.9975000023841858,
           0.7842000126838684,
           0.7674000263214111,
           0.6309000253677368,
           0.7009000182151794,
           0.6600000262260437,
           0.43070000410079956,
           0.7300000190734863,
           0.6452999711036682,
           0.6096000075340271,
           0.9886999726295471,
           0.8791999816894531,
           0.5210000276565552,
           0.4733999967575073,
           0.8812999725341797,
           0.5152000188827515,
           0.9958999752998352,
           0.618399977684021,
           0.7063999772071838,
           0.4519999921321869,
           0.916100025177002,
           0.9804999828338623,
           0.5475999712944031,
           0.4578999876976013,
           0.41029998660087585,
           0.7688000202178955,
           0.6215999722480774,
           0.671999990940094,
           0.8349000215530396,
           0.7723000049591064,
           0.6565999984741211,
           0.8992000222206116,
           0.3707999885082245,
           0.9289000034332275,
           0.8815000057220459,
           0.6492000222206116,
           0.4433000087738037,
           0.8833000063896179,
           0.7784000039100647,
           0.9168999791145325,
           0.975600004196167,
           0.683899998664856,
           0.5990999937057495,
           0.5426999926567078,
           0.5508000254631042,
           0.6758999824523926,
           0.8898000121116638,
           0.9968000054359436,
           0.6427000164985657,
           0.9865999817848206,
           0.8220000267028809,
           0.9082000255584717,
           0.7646999955177307,
           0.713100016117096,
           0.96670001745224,
           0.7807999849319458,
           0.9387000203132629,
           0.8718000054359436,
           0.47429999709129333,
           0.9743000268936157,
           0.8828999996185303,
           0.9950000047683716,
           0.9807999730110168,
           0.9607999920845032,
           0.7626000046730042,
           0.6704000234603882,
           0.8453999757766724,
           0.9546999931335449,
           0.9776999950408936,
           0.7422999739646912,
           0.8980000019073486,
           0.6754999756813049,
           0.8799999952316284,
           0.5356000065803528,
           0.9541000127792358,
           0.49239999055862427,
           0.7681999802589417,
           0.6039000153541565,
           0.8205999732017517,
           0.9702000021934509,
           0.9980000257492065,
           0.6783000230789185,
           0.8992000222206116,
           0.5389000177383423,
           0.8622999787330627,
           0.7815999984741211,
           0.9890999794006348,
           0.9951000213623047,
           0.7616000175476074,
           0.807699978351593,
           0.6717000007629395,
           0.8493000268936157,
           0.5449000000953674,
           0.7662000060081482,
           0.8317000269889832,
           0.6524999737739563,
           0.9120000004768372,
           0.5235000252723694,
           0.5784000158309937,
           0.9976999759674072,
           0.9700999855995178,
           0.996399998664856,
           0.4049000144004822,
           0.7623999714851379,
           0.5907999873161316,
           0.5284000039100647,
           0.9987000226974487,
           0.9779999852180481,
           0.9472000002861023,
           0.7487999796867371,
           0.7699000239372253,
           0.9682000279426575,
           0.31679999828338623,
           0.43160000443458557,
           0.7832000255584717,
           0.5753999948501587,
           0.9972000122070312,
           0.9707000255584717,
           0.9900000095367432,
           0.8266000151634216,
           0.9563999772071838,
           0.604200005531311,
           0.5196999907493591,
           0.5720000267028809,
           0.5713000297546387,
           0.6621999740600586,
           0.9842000007629395,
           0.9902999997138977,
           0.7778000235557556,
           0.883400022983551,
           0.7908999919891357,
           0.9361000061035156,
           0.9517999887466431,
           0.5220000147819519,
           0.7993999719619751,
           0.7547000050544739,
           0.6901000142097473,
           0.4438999891281128,
           0.7516000270843506,
           0.9829999804496765,
           0.6930000185966492,
           0.8083999752998352,
           0.9968000054359436,
           0.9975000023841858,
           0.6086000204086304,
           0.9958999752998352,
           0.9388999938964844,
           0.8608999848365784,
           0.6890000104904175,
           0.6759999990463257,
           0.9980000257492065,
           0.9923999905586243,
           0.9958000183105469,
           0.9262999892234802,
           0.911300003528595,
           0.9240999817848206,
           0.6211000084877014,
           0.5730000138282776,
           0.9761999845504761,
           0.5806999802589417,
           0.9840999841690063,
           0.6715999841690063,
           0.7407000064849854,
           0.9190999865531921,
           0.9901999831199646,
           0.8240000009536743,
           0.9085999727249146,
           0.7152000069618225,
           0.7687000036239624,
           0.9323999881744385,
           0.9987000226974487,
           0.9544000029563904,
           0.5860999822616577,
           0.9020000100135803,
           0.6262000203132629,
           0.5480999946594238,
           0.9961000084877014,
           0.9955999851226807,
           0.9921000003814697,
           0.881600022315979,
           0.9212999939918518,
           0.9939000010490417,
           0.9912999868392944,
           0.8664000034332275,
           0.984499990940094,
           0.9635999798774719,
           0.9429000020027161,
           0.5776000022888184,
           0.9750999808311462,
           0.8853999972343445,
           0.5990999937057495,
           0.9955000281333923,
           0.4941999912261963,
           0.9345999956130981,
           0.9872999787330627,
           0.9958999752998352,
           0.9965999722480774,
           0.9467999935150146,
           0.9993000030517578,
           0.4997999966144562,
           0.7735999822616577,
           0.7174999713897705,
           0.6952999830245972,
           0.8619999885559082,
           0.7269999980926514,
           0.8138999938964844,
           0.9552000164985657,
           0.8808000087738037,
           0.9921000003814697,
           0.4440999925136566,
           0.9106000065803528,
           0.8331000208854675,
           0.7544000148773193,
           0.9890999794006348,
           0.8337000012397766,
           0.9915000200271606,
           0.9678999781608582,
           0.33059999346733093,
           0.9240999817848206,
           0.7084000110626221,
           0.678600013256073,
           0.8341000080108643,
           0.9269999861717224,
           0.9873999953269958,
           0.8960000276565552,
           0.5641999840736389,
           0.6700000166893005,
           0.9986000061035156,
           0.7085999846458435,
           0.8823999762535095,
           0.40639999508857727,
           0.5795999765396118,
           0.8181999921798706,
           0.6026999950408936,
           0.9973000288009644,
           0.7141000032424927,
           0.7307999730110168,
           0.7993000149726868,
           0.9843000173568726,
           0.9973000288009644,
           0.9991999864578247,
           0.6367999911308289,
           0.6744999885559082,
           0.9983999729156494,
           0.9969000220298767,
           0.9969000220298767,
           0.9811999797821045,
           0.6759999990463257,
           0.751800000667572,
           0.6858999729156494,
           0.835099995136261,
           0.5206000208854675,
           0.7250000238418579,
           0.44600000977516174,
           0.9513000249862671,
           0.8693000078201294,
           0.5782999992370605,
           0.9110999703407288,
           0.995199978351593,
           0.868399977684021,
           0.6035000085830688,
           0.9968000054359436,
           0.8367999792098999,
           0.48420000076293945,
           0.7883999943733215,
           0.8988999724388123,
           0.8149999976158142,
           0.916100025177002,
           0.5440000295639038,
           0.3156000077724457,
           0.9966999888420105,
           0.8460999727249146,
           0.8111000061035156,
           0.5685999989509583,
           0.7832000255584717,
           0.7113999724388123,
           0.9898999929428101,
           0.4887000024318695,
           0.6341999769210815,
           0.7504000067710876,
           0.675000011920929,
           0.7731999754905701,
           0.4636000096797943,
           0.48010000586509705,
           0.9758999943733215,
           0.35429999232292175,
           0.9139999747276306,
           0.6518999934196472,
           0.9139999747276306,
           0.6409000158309937,
           0.4519999921321869,
           0.5649999976158142,
           0.8572999835014343,
           0.9745000004768372,
           0.8131999969482422,
           0.546999990940094,
           0.9955000281333923,
           0.7184000015258789,
           0.9969000220298767,
           0.8248000144958496,
           0.9934999942779541,
           0.9957000017166138,
           0.7077999711036682,
           0.9936000108718872,
           0.9326000213623047,
           0.9713000059127808,
           0.4706999957561493,
           0.9969000220298767,
           0.5709999799728394,
           0.5149999856948853,
           0.9681000113487244,
           0.8427000045776367,
           0.6256999969482422,
           0.965399980545044,
           0.9387999773025513,
           0.5566999912261963,
           0.6934000253677368,
           0.9595000147819519,
           0.9937999844551086,
           0.3781000077724457,
           0.8914999961853027,
           0.995199978351593,
           0.9980000257492065,
           0.9829999804496765,
           0.7346000075340271,
           0.7117999792098999,
           0.9508000016212463,
           0.6031000018119812,
           0.9677000045776367,
           0.9251000285148621,
           0.6554999947547913,
           0.7062000036239624,
           0.9182000160217285,
           0.5425999760627747,
           0.44850000739097595,
           0.6729000210762024,
           0.9947999715805054,
           0.9958000183105469,
           0.6093000173568726,
           0.607200026512146,
           0.8159999847412109,
           0.492900013923645,
           0.9983000159263611,
           0.5846999883651733,
           0.989300012588501,
           0.6543999910354614,
           0.6629999876022339,
           0.7210999727249146,
           0.41290000081062317,
           0.9419000148773193,
           0.5738999843597412,
           0.6241999864578247,
           0.5985000133514404,
           0.9958000183105469,
           0.527999997138977,
           0.9952999949455261,
           0.996399998664856,
           0.9969000220298767,
           0.9966999888420105,
           0.3544999957084656,
           0.6503000259399414,
           0.7443000078201294,
           0.7455000281333923,
           0.536899983882904,
           0.9948999881744385,
           0.7253000140190125,
           0.9261000156402588,
           0.6093000173568726,
           0.701200008392334,
           0.8892999887466431,
           0.8755000233650208,
           0.6061000227928162,
           0.9890999794006348,
           0.4408999979496002,
           0.9980000257492065,
           0.9980999827384949,
           0.5139999985694885,
           0.8553000092506409,
           0.579800009727478,
           0.8258000016212463,
           0.8966000080108643,
           0.6879000067710876,
           0.8400999903678894,
           0.7865999937057495,
           0.7760999798774719,
           0.76419997215271,
           0.43689998984336853,
           0.5133000016212463,
           0.617900013923645,
           0.46380001306533813,
           0.6093000173568726,
           0.67330002784729,
           0.8378999829292297,
           0.9526000022888184,
           0.8716999888420105,
           0.49390000104904175,
           0.3887999951839447,
           0.40849998593330383,
           0.9846000075340271,
           0.9851999878883362,
           0.9088000059127808,
           0.853600025177002,
           0.6553999781608582,
           0.5633000135421753,
           0.4587000012397766,
           0.41019999980926514,
           0.3433000147342682,
           0.9984999895095825,
           0.7493000030517578,
           0.6104999780654907,
           0.8937000036239624,
           0.5663999915122986,
           0.5508999824523926,
           0.8226000070571899,
           0.9736999869346619,
           0.8460000157356262,
           0.7483999729156494,
           0.9179999828338623,
           0.8417999744415283,
           0.6748999953269958,
           0.5605999827384949,
           0.3790999948978424,
           0.4821999967098236,
           0.9646000266075134,
           0.4016000032424927,
           0.9980000257492065,
           0.9968000054359436,
           0.8618000149726868,
           0.3846000134944916,
           0.9523000121116638,
           0.9503999948501587,
           0.3846000134944916,
           0.48429998755455017,
           0.795799970626831,
           0.42570000886917114,
           0.384799987077713,
           0.4586000144481659
          ],
          "sizemode": "area",
          "sizeref": 0.009993000030517578,
          "symbol": "circle"
         },
         "mode": "markers",
         "name": "",
         "orientation": "v",
         "showlegend": false,
         "type": "scatter",
         "x": [
          "2002-10-02T00:00:00",
          "2004-07-27T00:00:00",
          "2005-01-06T00:00:00",
          "2005-06-04T00:00:00",
          "2005-10-25T00:00:00",
          "2005-12-15T00:00:00",
          "2006-01-31T00:00:00",
          "2006-07-20T00:00:00",
          "2007-01-16T00:00:00",
          "2007-02-10T00:00:00",
          "2007-03-04T00:00:00",
          "2007-03-13T00:00:00",
          "2007-03-21T00:00:00",
          "2007-05-23T00:00:00",
          "2007-08-01T00:00:00",
          "2007-11-10T00:00:00",
          "2008-01-03T00:00:00",
          "2008-01-08T00:00:00",
          "2008-01-20T00:00:00",
          "2008-01-26T00:00:00",
          "2008-03-18T00:00:00",
          "2008-06-03T00:00:00",
          "2008-07-15T00:00:00",
          "2008-07-24T00:00:00",
          "2008-08-28T00:00:00",
          "2008-10-01T00:00:00",
          "2008-11-04T00:00:00",
          "2008-11-07T00:00:00",
          "2008-11-08T00:00:00",
          "2008-11-21T00:00:00",
          "2008-11-25T00:00:00",
          "2008-11-26T00:00:00",
          "2008-11-27T00:00:00",
          "2008-12-03T00:00:00",
          "2008-12-06T00:00:00",
          "2009-01-08T00:00:00",
          "2009-01-09T00:00:00",
          "2009-01-10T00:00:00",
          "2009-01-20T00:00:00",
          "2009-01-24T00:00:00",
          "2009-01-26T00:00:00",
          "2009-02-04T00:00:00",
          "2009-02-09T00:00:00",
          "2009-02-12T00:00:00",
          "2009-02-12T00:00:00",
          "2009-02-24T00:00:00",
          "2009-02-27T00:00:00",
          "2009-03-10T00:00:00",
          "2009-04-02T00:00:00",
          "2009-04-03T00:00:00",
          "2009-04-05T00:00:00",
          "2009-04-06T00:00:00",
          "2009-04-07T00:00:00",
          "2009-04-14T00:00:00",
          "2009-04-20T00:00:00",
          "2009-04-23T00:00:00",
          "2009-05-09T00:00:00",
          "2009-05-14T00:00:00",
          "2009-05-17T00:00:00",
          "2009-05-18T00:00:00",
          "2009-05-21T00:00:00",
          "2009-05-29T00:00:00",
          "2009-06-04T00:00:00",
          "2009-06-04T00:00:00",
          "2009-06-05T00:00:00",
          "2009-06-15T00:00:00",
          "2009-06-23T00:00:00",
          "2009-06-23T00:00:00",
          "2009-07-07T00:00:00",
          "2009-07-11T00:00:00",
          "2009-07-13T00:00:00",
          "2009-07-14T00:00:00",
          "2009-08-29T00:00:00",
          "2009-09-08T00:00:00",
          "2009-09-09T00:00:00",
          "2009-09-09T00:00:00",
          "2009-09-11T00:00:00",
          "2009-09-23T00:00:00",
          "2009-11-10T00:00:00",
          "2009-11-16T00:00:00",
          "2009-12-01T00:00:00",
          "2009-12-06T00:00:00",
          "2009-12-08T00:00:00",
          "2009-12-10T00:00:00",
          "2009-12-18T00:00:00",
          "2009-12-28T00:00:00",
          "2009-12-29T00:00:00",
          "2010-01-05T00:00:00",
          "2010-01-07T00:00:00",
          "2010-01-14T00:00:00",
          "2010-01-17T00:00:00",
          "2010-01-22T00:00:00",
          "2010-01-27T00:00:00",
          "2010-01-27T00:00:00",
          "2010-01-29T00:00:00",
          "2010-02-01T00:00:00",
          "2010-02-04T00:00:00",
          "2010-02-09T00:00:00",
          "2010-02-19T00:00:00",
          "2010-03-03T00:00:00",
          "2010-03-13T00:00:00",
          "2010-03-19T00:00:00",
          "2010-03-20T00:00:00",
          "2010-03-21T00:00:00",
          "2010-03-23T00:00:00",
          "2010-03-28T00:00:00",
          "2010-03-31T00:00:00",
          "2010-04-08T00:00:00",
          "2010-04-09T00:00:00",
          "2010-04-15T00:00:00",
          "2010-04-22T00:00:00",
          "2010-04-25T00:00:00",
          "2010-04-29T00:00:00",
          "2010-05-01T00:00:00",
          "2010-05-01T00:00:00",
          "2010-05-10T00:00:00",
          "2010-05-22T00:00:00",
          "2010-05-27T00:00:00",
          "2010-05-28T00:00:00",
          "2010-06-02T00:00:00",
          "2010-06-07T00:00:00",
          "2010-06-09T00:00:00",
          "2010-06-15T00:00:00",
          "2010-06-15T00:00:00",
          "2010-06-16T00:00:00",
          "2010-06-21T00:00:00",
          "2010-06-23T00:00:00",
          "2010-07-01T00:00:00",
          "2010-07-02T00:00:00",
          "2010-07-21T00:00:00",
          "2010-07-29T00:00:00",
          "2010-08-02T00:00:00",
          "2010-08-13T00:00:00",
          "2010-08-31T00:00:00",
          "2010-09-11T00:00:00",
          "2010-09-23T00:00:00",
          "2010-11-03T00:00:00",
          "2010-11-06T00:00:00",
          "2010-11-08T00:00:00",
          "2010-11-10T00:00:00",
          "2010-11-16T00:00:00",
          "2010-12-03T00:00:00",
          "2010-12-10T00:00:00",
          "2011-01-12T00:00:00",
          "2011-01-25T00:00:00",
          "2011-02-01T00:00:00",
          "2011-02-03T00:00:00",
          "2011-02-07T00:00:00",
          "2011-02-10T00:00:00",
          "2011-02-11T00:00:00",
          "2011-02-23T00:00:00",
          "2011-03-18T00:00:00",
          "2011-03-19T00:00:00",
          "2011-03-20T00:00:00",
          "2011-03-21T00:00:00",
          "2011-03-28T00:00:00",
          "2011-03-30T00:00:00",
          "2011-04-13T00:00:00",
          "2011-04-26T00:00:00",
          "2011-04-27T00:00:00",
          "2011-04-29T00:00:00",
          "2011-04-29T00:00:00",
          "2011-04-30T00:00:00",
          "2011-05-01T00:00:00",
          "2011-05-06T00:00:00",
          "2011-05-16T00:00:00",
          "2011-05-19T00:00:00",
          "2011-05-20T00:00:00",
          "2011-05-20T00:00:00",
          "2011-05-25T00:00:00",
          "2011-05-29T00:00:00",
          "2011-05-30T00:00:00",
          "2011-06-22T00:00:00",
          "2011-06-24T00:00:00",
          "2011-06-29T00:00:00",
          "2011-07-25T00:00:00",
          "2011-07-31T00:00:00",
          "2011-08-02T00:00:00",
          "2011-08-30T00:00:00",
          "2011-09-08T00:00:00",
          "2011-09-19T00:00:00",
          "2011-09-20T00:00:00",
          "2011-09-21T00:00:00",
          "2011-10-16T00:00:00",
          "2011-10-20T00:00:00",
          "2011-10-21T00:00:00",
          "2011-11-16T00:00:00",
          "2011-12-02T00:00:00",
          "2011-12-06T00:00:00",
          "2011-12-17T00:00:00",
          "2012-01-05T00:00:00",
          "2012-01-24T00:00:00",
          "2012-02-01T00:00:00",
          "2012-02-03T00:00:00",
          "2012-02-29T00:00:00",
          "2012-03-04T00:00:00",
          "2012-03-26T00:00:00",
          "2012-03-29T00:00:00",
          "2012-04-23T00:00:00",
          "2012-04-28T00:00:00",
          "2012-05-14T00:00:00",
          "2012-06-13T00:00:00",
          "2012-06-28T00:00:00",
          "2012-07-20T00:00:00",
          "2012-07-23T00:00:00",
          "2012-09-06T00:00:00",
          "2012-09-12T00:00:00",
          "2012-09-14T00:00:00",
          "2012-09-25T00:00:00",
          "2012-09-25T00:00:00",
          "2012-10-03T00:00:00",
          "2012-10-17T00:00:00",
          "2012-10-23T00:00:00",
          "2012-10-29T00:00:00",
          "2012-10-30T00:00:00",
          "2012-11-06T00:00:00",
          "2012-11-09T00:00:00",
          "2012-11-14T00:00:00",
          "2012-11-19T00:00:00",
          "2012-12-14T00:00:00",
          "2012-12-16T00:00:00",
          "2012-12-19T00:00:00",
          "2012-12-21T00:00:00",
          "2013-01-14T00:00:00",
          "2013-01-16T00:00:00",
          "2013-01-21T00:00:00",
          "2013-01-21T00:00:00",
          "2013-01-29T00:00:00",
          "2013-02-12T00:00:00",
          "2013-02-15T00:00:00",
          "2013-02-26T00:00:00",
          "2013-02-27T00:00:00",
          "2013-03-21T00:00:00",
          "2013-03-22T00:00:00",
          "2013-04-02T00:00:00",
          "2013-04-03T00:00:00",
          "2013-04-08T00:00:00",
          "2013-04-11T00:00:00",
          "2013-04-15T00:00:00",
          "2013-04-16T00:00:00",
          "2013-04-17T00:00:00",
          "2013-04-18T00:00:00",
          "2013-04-19T00:00:00",
          "2013-04-25T00:00:00",
          "2013-04-25T00:00:00",
          "2013-04-27T00:00:00",
          "2013-04-30T00:00:00",
          "2013-05-03T00:00:00",
          "2013-05-15T00:00:00",
          "2013-05-19T00:00:00",
          "2013-05-23T00:00:00",
          "2013-05-24T00:00:00",
          "2013-06-07T00:00:00",
          "2013-06-11T00:00:00",
          "2013-06-17T00:00:00",
          "2013-06-19T00:00:00",
          "2013-06-30T00:00:00",
          "2013-07-19T00:00:00",
          "2013-07-24T00:00:00",
          "2013-07-27T00:00:00",
          "2013-08-09T00:00:00",
          "2013-08-28T00:00:00",
          "2013-08-31T00:00:00",
          "2013-09-10T00:00:00",
          "2013-09-22T00:00:00",
          "2013-09-24T00:00:00",
          "2013-09-24T00:00:00",
          "2013-10-02T00:00:00",
          "2013-10-21T00:00:00",
          "2013-11-11T00:00:00",
          "2013-11-14T00:00:00",
          "2013-11-23T00:00:00",
          "2013-12-05T00:00:00",
          "2013-12-10T00:00:00",
          "2013-12-20T00:00:00",
          "2014-01-17T00:00:00",
          "2014-01-28T00:00:00",
          "2014-02-06T00:00:00",
          "2014-03-26T00:00:00",
          "2014-04-10T00:00:00",
          "2014-04-17T00:00:00",
          "2014-04-24T00:00:00",
          "2014-04-27T00:00:00",
          "2014-04-29T00:00:00",
          "2014-05-03T00:00:00",
          "2014-05-21T00:00:00",
          "2014-05-27T00:00:00",
          "2014-05-28T00:00:00",
          "2014-05-30T00:00:00",
          "2014-06-04T00:00:00",
          "2014-06-06T00:00:00",
          "2014-06-30T00:00:00",
          "2014-07-18T00:00:00",
          "2014-07-21T00:00:00",
          "2014-08-01T00:00:00",
          "2014-08-07T00:00:00",
          "2014-08-09T00:00:00",
          "2014-08-14T00:00:00",
          "2014-08-28T00:00:00",
          "2014-09-03T00:00:00",
          "2014-09-03T00:00:00",
          "2014-09-10T00:00:00",
          "2014-09-16T00:00:00",
          "2014-09-24T00:00:00",
          "2014-09-24T00:00:00",
          "2014-09-25T00:00:00",
          "2014-10-17T00:00:00",
          "2014-10-28T00:00:00",
          "2014-11-05T00:00:00",
          "2014-11-14T00:00:00",
          "2014-11-14T00:00:00",
          "2014-11-15T00:00:00",
          "2014-11-20T00:00:00",
          "2014-11-24T00:00:00",
          "2014-12-02T00:00:00",
          "2014-12-17T00:00:00",
          "2014-12-19T00:00:00",
          "2015-01-09T00:00:00",
          "2015-01-12T00:00:00",
          "2015-01-13T00:00:00",
          "2015-01-20T00:00:00",
          "2015-01-27T00:00:00",
          "2015-02-05T00:00:00",
          "2015-02-11T00:00:00",
          "2015-02-13T00:00:00",
          "2015-02-18T00:00:00",
          "2015-03-03T00:00:00",
          "2015-03-07T00:00:00",
          "2015-03-10T00:00:00",
          "2015-03-30T00:00:00",
          "2015-04-02T00:00:00",
          "2015-04-09T00:00:00",
          "2015-04-10T00:00:00",
          "2015-04-11T00:00:00",
          "2015-04-11T00:00:00",
          "2015-04-23T00:00:00",
          "2015-04-25T00:00:00",
          "2015-05-08T00:00:00",
          "2015-05-22T00:00:00",
          "2015-06-01T00:00:00",
          "2015-06-06T00:00:00",
          "2015-06-08T00:00:00",
          "2015-06-17T00:00:00",
          "2015-06-18T00:00:00",
          "2015-06-19T00:00:00",
          "2015-06-24T00:00:00",
          "2015-06-25T00:00:00",
          "2015-06-26T00:00:00",
          "2015-07-06T00:00:00",
          "2015-07-13T00:00:00",
          "2015-07-14T00:00:00",
          "2015-07-14T00:00:00",
          "2015-07-15T00:00:00",
          "2015-07-26T00:00:00",
          "2015-07-26T00:00:00",
          "2015-07-28T00:00:00",
          "2015-08-03T00:00:00",
          "2015-08-05T00:00:00",
          "2015-08-27T00:00:00",
          "2015-09-11T00:00:00",
          "2015-09-19T00:00:00",
          "2015-09-23T00:00:00",
          "2015-09-25T00:00:00",
          "2015-09-25T00:00:00",
          "2015-09-28T00:00:00",
          "2015-10-01T00:00:00",
          "2015-10-02T00:00:00",
          "2015-10-15T00:00:00",
          "2015-10-21T00:00:00",
          "2015-11-13T00:00:00",
          "2015-11-13T00:00:00",
          "2015-11-16T00:00:00",
          "2015-11-21T00:00:00",
          "2015-11-22T00:00:00",
          "2015-11-24T00:00:00",
          "2015-11-30T00:00:00",
          "2015-12-01T00:00:00",
          "2015-12-06T00:00:00",
          "2015-12-09T00:00:00",
          "2015-12-10T00:00:00",
          "2015-12-12T00:00:00",
          "2015-12-14T00:00:00",
          "2015-12-15T00:00:00",
          "2015-12-17T00:00:00",
          "2015-12-18T00:00:00",
          "2016-01-01T00:00:00",
          "2016-01-05T00:00:00",
          "2016-01-07T00:00:00",
          "2016-01-12T00:00:00",
          "2016-01-17T00:00:00",
          "2016-01-27T00:00:00",
          "2016-02-03T00:00:00",
          "2016-02-04T00:00:00",
          "2016-02-04T00:00:00",
          "2016-02-10T00:00:00",
          "2016-02-13T00:00:00",
          "2016-02-16T00:00:00",
          "2016-02-20T00:00:00",
          "2016-02-23T00:00:00",
          "2016-02-25T00:00:00",
          "2016-02-26T00:00:00",
          "2016-03-11T00:00:00",
          "2016-03-16T00:00:00",
          "2016-03-21T00:00:00",
          "2016-03-21T00:00:00",
          "2016-03-22T00:00:00",
          "2016-03-23T00:00:00",
          "2016-03-26T00:00:00",
          "2016-04-01T00:00:00",
          "2016-04-07T00:00:00",
          "2016-04-21T00:00:00",
          "2016-04-23T00:00:00",
          "2016-04-25T00:00:00",
          "2016-04-30T00:00:00",
          "2016-05-04T00:00:00",
          "2016-05-07T00:00:00",
          "2016-05-14T00:00:00",
          "2016-05-24T00:00:00",
          "2016-05-24T00:00:00",
          "2016-05-25T00:00:00",
          "2016-05-25T00:00:00",
          "2016-05-26T00:00:00",
          "2016-05-27T00:00:00",
          "2016-06-02T00:00:00",
          "2016-06-09T00:00:00",
          "2016-06-12T00:00:00",
          "2016-06-14T00:00:00",
          "2016-06-14T00:00:00",
          "2016-06-16T00:00:00",
          "2016-06-23T00:00:00",
          "2016-06-29T00:00:00",
          "2016-07-09T00:00:00",
          "2016-07-12T00:00:00",
          "2016-07-27T00:00:00",
          "2016-08-04T00:00:00",
          "2016-08-23T00:00:00",
          "2016-09-05T00:00:00",
          "2016-09-06T00:00:00",
          "2016-09-06T00:00:00",
          "2016-09-11T00:00:00",
          "2016-09-19T00:00:00",
          "2016-09-20T00:00:00",
          "2016-09-24T00:00:00",
          "2016-09-30T00:00:00",
          "2016-11-09T00:00:00",
          "2016-11-10T00:00:00",
          "2016-11-14T00:00:00",
          "2016-11-16T00:00:00",
          "2016-11-20T00:00:00",
          "2016-11-20T00:00:00",
          "2016-12-04T00:00:00",
          "2016-12-04T00:00:00",
          "2016-12-06T00:00:00",
          "2016-12-16T00:00:00",
          "2016-12-27T00:00:00",
          "2017-01-06T00:00:00",
          "2017-01-10T00:00:00",
          "2017-01-12T00:00:00",
          "2017-01-14T00:00:00",
          "2017-01-16T00:00:00",
          "2017-01-18T00:00:00",
          "2017-01-20T00:00:00"
         ],
         "xaxis": "x",
         "y": [
          1,
          5,
          3,
          3,
          5,
          3,
          5,
          3,
          3,
          3,
          5,
          1,
          1,
          4,
          1,
          3,
          3,
          3,
          3,
          3,
          5,
          3,
          1,
          1,
          3,
          3,
          3,
          3,
          2,
          3,
          3,
          3,
          1,
          2,
          3,
          3,
          1,
          5,
          0,
          3,
          0,
          3,
          3,
          5,
          5,
          3,
          1,
          4,
          2,
          1,
          1,
          1,
          2,
          3,
          1,
          1,
          3,
          4,
          1,
          5,
          0,
          1,
          0,
          1,
          1,
          4,
          4,
          0,
          1,
          0,
          4,
          4,
          5,
          5,
          4,
          5,
          1,
          0,
          1,
          5,
          1,
          5,
          3,
          1,
          2,
          0,
          0,
          0,
          0,
          3,
          5,
          4,
          3,
          1,
          3,
          3,
          5,
          3,
          4,
          4,
          5,
          4,
          4,
          3,
          4,
          1,
          3,
          1,
          2,
          2,
          3,
          5,
          5,
          5,
          3,
          2,
          1,
          4,
          2,
          3,
          5,
          1,
          1,
          3,
          4,
          5,
          1,
          3,
          5,
          3,
          5,
          1,
          0,
          1,
          1,
          0,
          3,
          5,
          1,
          5,
          1,
          1,
          3,
          5,
          3,
          5,
          5,
          4,
          3,
          5,
          0,
          1,
          1,
          5,
          5,
          1,
          3,
          3,
          3,
          4,
          5,
          4,
          5,
          1,
          1,
          5,
          0,
          1,
          1,
          0,
          5,
          1,
          1,
          3,
          3,
          3,
          3,
          3,
          1,
          3,
          3,
          1,
          0,
          5,
          1,
          1,
          1,
          3,
          3,
          1,
          1,
          3,
          3,
          3,
          1,
          1,
          1,
          3,
          1,
          3,
          5,
          1,
          4,
          5,
          1,
          3,
          1,
          1,
          0,
          5,
          4,
          4,
          4,
          2,
          2,
          3,
          3,
          3,
          5,
          5,
          5,
          3,
          5,
          3,
          3,
          5,
          2,
          4,
          3,
          5,
          3,
          5,
          1,
          1,
          4,
          3,
          3,
          2,
          2,
          1,
          3,
          5,
          2,
          5,
          2,
          3,
          4,
          5,
          2,
          5,
          1,
          1,
          4,
          4,
          5,
          5,
          5,
          5,
          3,
          1,
          4,
          5,
          1,
          1,
          5,
          4,
          1,
          4,
          4,
          1,
          4,
          1,
          5,
          5,
          4,
          0,
          3,
          5,
          1,
          5,
          4,
          2,
          5,
          1,
          3,
          1,
          1,
          1,
          1,
          1,
          1,
          3,
          1,
          1,
          4,
          1,
          1,
          1,
          1,
          1,
          1,
          1,
          0,
          1,
          0,
          2,
          4,
          2,
          3,
          5,
          2,
          5,
          3,
          5,
          0,
          0,
          4,
          4,
          4,
          4,
          3,
          5,
          5,
          1,
          4,
          0,
          1,
          5,
          4,
          5,
          1,
          5,
          5,
          2,
          5,
          1,
          3,
          4,
          1,
          5,
          5,
          2,
          5,
          5,
          3,
          1,
          4,
          5,
          1,
          4,
          5,
          1,
          1,
          5,
          5,
          0,
          3,
          1,
          5,
          1,
          5,
          5,
          1,
          5,
          0,
          5,
          2,
          1,
          5,
          1,
          5,
          1,
          5,
          0,
          1,
          2,
          2,
          1,
          5,
          4,
          2,
          1,
          5,
          1,
          2,
          3,
          3,
          3,
          3,
          1,
          1,
          0,
          5,
          4,
          3,
          2,
          2,
          5,
          0,
          1,
          3,
          4,
          2,
          4,
          5,
          5,
          5,
          5,
          1,
          2,
          1,
          5,
          1,
          3,
          5,
          5,
          5,
          4,
          5,
          5,
          2,
          2,
          1,
          1,
          3,
          1,
          1,
          5,
          5,
          4,
          1,
          1,
          5,
          3,
          1,
          4,
          2,
          1,
          5,
          1,
          1,
          0,
          5,
          1,
          2,
          2,
          2,
          0,
          5,
          2,
          1,
          5,
          1,
          2,
          1,
          4,
          0,
          5,
          5,
          3,
          2,
          5
         ],
         "yaxis": "y"
        }
       ],
       "layout": {
        "coloraxis": {
         "colorbar": {
          "title": {
           "text": "Dominant_Topic"
          }
         },
         "colorscale": [
          [
           0,
           "#0d0887"
          ],
          [
           0.1111111111111111,
           "#46039f"
          ],
          [
           0.2222222222222222,
           "#7201a8"
          ],
          [
           0.3333333333333333,
           "#9c179e"
          ],
          [
           0.4444444444444444,
           "#bd3786"
          ],
          [
           0.5555555555555556,
           "#d8576b"
          ],
          [
           0.6666666666666666,
           "#ed7953"
          ],
          [
           0.7777777777777778,
           "#fb9f3a"
          ],
          [
           0.8888888888888888,
           "#fdca26"
          ],
          [
           1,
           "#f0f921"
          ]
         ]
        },
        "legend": {
         "itemsizing": "constant",
         "tracegroupgap": 0
        },
        "template": {
         "data": {
          "bar": [
           {
            "error_x": {
             "color": "#2a3f5f"
            },
            "error_y": {
             "color": "#2a3f5f"
            },
            "marker": {
             "line": {
              "color": "#E5ECF6",
              "width": 0.5
             },
             "pattern": {
              "fillmode": "overlay",
              "size": 10,
              "solidity": 0.2
             }
            },
            "type": "bar"
           }
          ],
          "barpolar": [
           {
            "marker": {
             "line": {
              "color": "#E5ECF6",
              "width": 0.5
             },
             "pattern": {
              "fillmode": "overlay",
              "size": 10,
              "solidity": 0.2
             }
            },
            "type": "barpolar"
           }
          ],
          "carpet": [
           {
            "aaxis": {
             "endlinecolor": "#2a3f5f",
             "gridcolor": "white",
             "linecolor": "white",
             "minorgridcolor": "white",
             "startlinecolor": "#2a3f5f"
            },
            "baxis": {
             "endlinecolor": "#2a3f5f",
             "gridcolor": "white",
             "linecolor": "white",
             "minorgridcolor": "white",
             "startlinecolor": "#2a3f5f"
            },
            "type": "carpet"
           }
          ],
          "choropleth": [
           {
            "colorbar": {
             "outlinewidth": 0,
             "ticks": ""
            },
            "type": "choropleth"
           }
          ],
          "contour": [
           {
            "colorbar": {
             "outlinewidth": 0,
             "ticks": ""
            },
            "colorscale": [
             [
              0,
              "#0d0887"
             ],
             [
              0.1111111111111111,
              "#46039f"
             ],
             [
              0.2222222222222222,
              "#7201a8"
             ],
             [
              0.3333333333333333,
              "#9c179e"
             ],
             [
              0.4444444444444444,
              "#bd3786"
             ],
             [
              0.5555555555555556,
              "#d8576b"
             ],
             [
              0.6666666666666666,
              "#ed7953"
             ],
             [
              0.7777777777777778,
              "#fb9f3a"
             ],
             [
              0.8888888888888888,
              "#fdca26"
             ],
             [
              1,
              "#f0f921"
             ]
            ],
            "type": "contour"
           }
          ],
          "contourcarpet": [
           {
            "colorbar": {
             "outlinewidth": 0,
             "ticks": ""
            },
            "type": "contourcarpet"
           }
          ],
          "heatmap": [
           {
            "colorbar": {
             "outlinewidth": 0,
             "ticks": ""
            },
            "colorscale": [
             [
              0,
              "#0d0887"
             ],
             [
              0.1111111111111111,
              "#46039f"
             ],
             [
              0.2222222222222222,
              "#7201a8"
             ],
             [
              0.3333333333333333,
              "#9c179e"
             ],
             [
              0.4444444444444444,
              "#bd3786"
             ],
             [
              0.5555555555555556,
              "#d8576b"
             ],
             [
              0.6666666666666666,
              "#ed7953"
             ],
             [
              0.7777777777777778,
              "#fb9f3a"
             ],
             [
              0.8888888888888888,
              "#fdca26"
             ],
             [
              1,
              "#f0f921"
             ]
            ],
            "type": "heatmap"
           }
          ],
          "heatmapgl": [
           {
            "colorbar": {
             "outlinewidth": 0,
             "ticks": ""
            },
            "colorscale": [
             [
              0,
              "#0d0887"
             ],
             [
              0.1111111111111111,
              "#46039f"
             ],
             [
              0.2222222222222222,
              "#7201a8"
             ],
             [
              0.3333333333333333,
              "#9c179e"
             ],
             [
              0.4444444444444444,
              "#bd3786"
             ],
             [
              0.5555555555555556,
              "#d8576b"
             ],
             [
              0.6666666666666666,
              "#ed7953"
             ],
             [
              0.7777777777777778,
              "#fb9f3a"
             ],
             [
              0.8888888888888888,
              "#fdca26"
             ],
             [
              1,
              "#f0f921"
             ]
            ],
            "type": "heatmapgl"
           }
          ],
          "histogram": [
           {
            "marker": {
             "pattern": {
              "fillmode": "overlay",
              "size": 10,
              "solidity": 0.2
             }
            },
            "type": "histogram"
           }
          ],
          "histogram2d": [
           {
            "colorbar": {
             "outlinewidth": 0,
             "ticks": ""
            },
            "colorscale": [
             [
              0,
              "#0d0887"
             ],
             [
              0.1111111111111111,
              "#46039f"
             ],
             [
              0.2222222222222222,
              "#7201a8"
             ],
             [
              0.3333333333333333,
              "#9c179e"
             ],
             [
              0.4444444444444444,
              "#bd3786"
             ],
             [
              0.5555555555555556,
              "#d8576b"
             ],
             [
              0.6666666666666666,
              "#ed7953"
             ],
             [
              0.7777777777777778,
              "#fb9f3a"
             ],
             [
              0.8888888888888888,
              "#fdca26"
             ],
             [
              1,
              "#f0f921"
             ]
            ],
            "type": "histogram2d"
           }
          ],
          "histogram2dcontour": [
           {
            "colorbar": {
             "outlinewidth": 0,
             "ticks": ""
            },
            "colorscale": [
             [
              0,
              "#0d0887"
             ],
             [
              0.1111111111111111,
              "#46039f"
             ],
             [
              0.2222222222222222,
              "#7201a8"
             ],
             [
              0.3333333333333333,
              "#9c179e"
             ],
             [
              0.4444444444444444,
              "#bd3786"
             ],
             [
              0.5555555555555556,
              "#d8576b"
             ],
             [
              0.6666666666666666,
              "#ed7953"
             ],
             [
              0.7777777777777778,
              "#fb9f3a"
             ],
             [
              0.8888888888888888,
              "#fdca26"
             ],
             [
              1,
              "#f0f921"
             ]
            ],
            "type": "histogram2dcontour"
           }
          ],
          "mesh3d": [
           {
            "colorbar": {
             "outlinewidth": 0,
             "ticks": ""
            },
            "type": "mesh3d"
           }
          ],
          "parcoords": [
           {
            "line": {
             "colorbar": {
              "outlinewidth": 0,
              "ticks": ""
             }
            },
            "type": "parcoords"
           }
          ],
          "pie": [
           {
            "automargin": true,
            "type": "pie"
           }
          ],
          "scatter": [
           {
            "fillpattern": {
             "fillmode": "overlay",
             "size": 10,
             "solidity": 0.2
            },
            "type": "scatter"
           }
          ],
          "scatter3d": [
           {
            "line": {
             "colorbar": {
              "outlinewidth": 0,
              "ticks": ""
             }
            },
            "marker": {
             "colorbar": {
              "outlinewidth": 0,
              "ticks": ""
             }
            },
            "type": "scatter3d"
           }
          ],
          "scattercarpet": [
           {
            "marker": {
             "colorbar": {
              "outlinewidth": 0,
              "ticks": ""
             }
            },
            "type": "scattercarpet"
           }
          ],
          "scattergeo": [
           {
            "marker": {
             "colorbar": {
              "outlinewidth": 0,
              "ticks": ""
             }
            },
            "type": "scattergeo"
           }
          ],
          "scattergl": [
           {
            "marker": {
             "colorbar": {
              "outlinewidth": 0,
              "ticks": ""
             }
            },
            "type": "scattergl"
           }
          ],
          "scattermapbox": [
           {
            "marker": {
             "colorbar": {
              "outlinewidth": 0,
              "ticks": ""
             }
            },
            "type": "scattermapbox"
           }
          ],
          "scatterpolar": [
           {
            "marker": {
             "colorbar": {
              "outlinewidth": 0,
              "ticks": ""
             }
            },
            "type": "scatterpolar"
           }
          ],
          "scatterpolargl": [
           {
            "marker": {
             "colorbar": {
              "outlinewidth": 0,
              "ticks": ""
             }
            },
            "type": "scatterpolargl"
           }
          ],
          "scatterternary": [
           {
            "marker": {
             "colorbar": {
              "outlinewidth": 0,
              "ticks": ""
             }
            },
            "type": "scatterternary"
           }
          ],
          "surface": [
           {
            "colorbar": {
             "outlinewidth": 0,
             "ticks": ""
            },
            "colorscale": [
             [
              0,
              "#0d0887"
             ],
             [
              0.1111111111111111,
              "#46039f"
             ],
             [
              0.2222222222222222,
              "#7201a8"
             ],
             [
              0.3333333333333333,
              "#9c179e"
             ],
             [
              0.4444444444444444,
              "#bd3786"
             ],
             [
              0.5555555555555556,
              "#d8576b"
             ],
             [
              0.6666666666666666,
              "#ed7953"
             ],
             [
              0.7777777777777778,
              "#fb9f3a"
             ],
             [
              0.8888888888888888,
              "#fdca26"
             ],
             [
              1,
              "#f0f921"
             ]
            ],
            "type": "surface"
           }
          ],
          "table": [
           {
            "cells": {
             "fill": {
              "color": "#EBF0F8"
             },
             "line": {
              "color": "white"
             }
            },
            "header": {
             "fill": {
              "color": "#C8D4E3"
             },
             "line": {
              "color": "white"
             }
            },
            "type": "table"
           }
          ]
         },
         "layout": {
          "annotationdefaults": {
           "arrowcolor": "#2a3f5f",
           "arrowhead": 0,
           "arrowwidth": 1
          },
          "autotypenumbers": "strict",
          "coloraxis": {
           "colorbar": {
            "outlinewidth": 0,
            "ticks": ""
           }
          },
          "colorscale": {
           "diverging": [
            [
             0,
             "#8e0152"
            ],
            [
             0.1,
             "#c51b7d"
            ],
            [
             0.2,
             "#de77ae"
            ],
            [
             0.3,
             "#f1b6da"
            ],
            [
             0.4,
             "#fde0ef"
            ],
            [
             0.5,
             "#f7f7f7"
            ],
            [
             0.6,
             "#e6f5d0"
            ],
            [
             0.7,
             "#b8e186"
            ],
            [
             0.8,
             "#7fbc41"
            ],
            [
             0.9,
             "#4d9221"
            ],
            [
             1,
             "#276419"
            ]
           ],
           "sequential": [
            [
             0,
             "#0d0887"
            ],
            [
             0.1111111111111111,
             "#46039f"
            ],
            [
             0.2222222222222222,
             "#7201a8"
            ],
            [
             0.3333333333333333,
             "#9c179e"
            ],
            [
             0.4444444444444444,
             "#bd3786"
            ],
            [
             0.5555555555555556,
             "#d8576b"
            ],
            [
             0.6666666666666666,
             "#ed7953"
            ],
            [
             0.7777777777777778,
             "#fb9f3a"
            ],
            [
             0.8888888888888888,
             "#fdca26"
            ],
            [
             1,
             "#f0f921"
            ]
           ],
           "sequentialminus": [
            [
             0,
             "#0d0887"
            ],
            [
             0.1111111111111111,
             "#46039f"
            ],
            [
             0.2222222222222222,
             "#7201a8"
            ],
            [
             0.3333333333333333,
             "#9c179e"
            ],
            [
             0.4444444444444444,
             "#bd3786"
            ],
            [
             0.5555555555555556,
             "#d8576b"
            ],
            [
             0.6666666666666666,
             "#ed7953"
            ],
            [
             0.7777777777777778,
             "#fb9f3a"
            ],
            [
             0.8888888888888888,
             "#fdca26"
            ],
            [
             1,
             "#f0f921"
            ]
           ]
          },
          "colorway": [
           "#636efa",
           "#EF553B",
           "#00cc96",
           "#ab63fa",
           "#FFA15A",
           "#19d3f3",
           "#FF6692",
           "#B6E880",
           "#FF97FF",
           "#FECB52"
          ],
          "font": {
           "color": "#2a3f5f"
          },
          "geo": {
           "bgcolor": "white",
           "lakecolor": "white",
           "landcolor": "#E5ECF6",
           "showlakes": true,
           "showland": true,
           "subunitcolor": "white"
          },
          "hoverlabel": {
           "align": "left"
          },
          "hovermode": "closest",
          "mapbox": {
           "style": "light"
          },
          "paper_bgcolor": "white",
          "plot_bgcolor": "#E5ECF6",
          "polar": {
           "angularaxis": {
            "gridcolor": "white",
            "linecolor": "white",
            "ticks": ""
           },
           "bgcolor": "#E5ECF6",
           "radialaxis": {
            "gridcolor": "white",
            "linecolor": "white",
            "ticks": ""
           }
          },
          "scene": {
           "xaxis": {
            "backgroundcolor": "#E5ECF6",
            "gridcolor": "white",
            "gridwidth": 2,
            "linecolor": "white",
            "showbackground": true,
            "ticks": "",
            "zerolinecolor": "white"
           },
           "yaxis": {
            "backgroundcolor": "#E5ECF6",
            "gridcolor": "white",
            "gridwidth": 2,
            "linecolor": "white",
            "showbackground": true,
            "ticks": "",
            "zerolinecolor": "white"
           },
           "zaxis": {
            "backgroundcolor": "#E5ECF6",
            "gridcolor": "white",
            "gridwidth": 2,
            "linecolor": "white",
            "showbackground": true,
            "ticks": "",
            "zerolinecolor": "white"
           }
          },
          "shapedefaults": {
           "line": {
            "color": "#2a3f5f"
           }
          },
          "ternary": {
           "aaxis": {
            "gridcolor": "white",
            "linecolor": "white",
            "ticks": ""
           },
           "baxis": {
            "gridcolor": "white",
            "linecolor": "white",
            "ticks": ""
           },
           "bgcolor": "#E5ECF6",
           "caxis": {
            "gridcolor": "white",
            "linecolor": "white",
            "ticks": ""
           }
          },
          "title": {
           "x": 0.05
          },
          "xaxis": {
           "automargin": true,
           "gridcolor": "white",
           "linecolor": "white",
           "ticks": "",
           "title": {
            "standoff": 15
           },
           "zerolinecolor": "white",
           "zerolinewidth": 2
          },
          "yaxis": {
           "automargin": true,
           "gridcolor": "white",
           "linecolor": "white",
           "ticks": "",
           "title": {
            "standoff": 15
           },
           "zerolinecolor": "white",
           "zerolinewidth": 2
          }
         }
        },
        "title": {
         "text": "Topic Analysis"
        },
        "xaxis": {
         "anchor": "y",
         "domain": [
          0,
          1
         ],
         "title": {
          "text": "date"
         }
        },
        "yaxis": {
         "anchor": "x",
         "domain": [
          0,
          1
         ],
         "title": {
          "text": "Dominant_Topic"
         }
        }
       }
      },
      "text/html": [
       "<div>                            <div id=\"7f390175-b132-4ca7-9177-5f425af7412d\" class=\"plotly-graph-div\" style=\"height:525px; width:100%;\"></div>            <script type=\"text/javascript\">                require([\"plotly\"], function(Plotly) {                    window.PLOTLYENV=window.PLOTLYENV || {};                                    if (document.getElementById(\"7f390175-b132-4ca7-9177-5f425af7412d\")) {                    Plotly.newPlot(                        \"7f390175-b132-4ca7-9177-5f425af7412d\",                        [{\"hovertemplate\":\"date=%{x}<br>Dominant_Topic=%{marker.color}<br>Topic_Perc_Contrib=%{marker.size}<extra></extra>\",\"legendgroup\":\"\",\"marker\":{\"color\":[1,5,3,3,5,3,5,3,3,3,5,1,1,4,1,3,3,3,3,3,5,3,1,1,3,3,3,3,2,3,3,3,1,2,3,3,1,5,0,3,0,3,3,5,5,3,1,4,2,1,1,1,2,3,1,1,3,4,1,5,0,1,0,1,1,4,4,0,1,0,4,4,5,5,4,5,1,0,1,5,1,5,3,1,2,0,0,0,0,3,5,4,3,1,3,3,5,3,4,4,5,4,4,3,4,1,3,1,2,2,3,5,5,5,3,2,1,4,2,3,5,1,1,3,4,5,1,3,5,3,5,1,0,1,1,0,3,5,1,5,1,1,3,5,3,5,5,4,3,5,0,1,1,5,5,1,3,3,3,4,5,4,5,1,1,5,0,1,1,0,5,1,1,3,3,3,3,3,1,3,3,1,0,5,1,1,1,3,3,1,1,3,3,3,1,1,1,3,1,3,5,1,4,5,1,3,1,1,0,5,4,4,4,2,2,3,3,3,5,5,5,3,5,3,3,5,2,4,3,5,3,5,1,1,4,3,3,2,2,1,3,5,2,5,2,3,4,5,2,5,1,1,4,4,5,5,5,5,3,1,4,5,1,1,5,4,1,4,4,1,4,1,5,5,4,0,3,5,1,5,4,2,5,1,3,1,1,1,1,1,1,3,1,1,4,1,1,1,1,1,1,1,0,1,0,2,4,2,3,5,2,5,3,5,0,0,4,4,4,4,3,5,5,1,4,0,1,5,4,5,1,5,5,2,5,1,3,4,1,5,5,2,5,5,3,1,4,5,1,4,5,1,1,5,5,0,3,1,5,1,5,5,1,5,0,5,2,1,5,1,5,1,5,0,1,2,2,1,5,4,2,1,5,1,2,3,3,3,3,1,1,0,5,4,3,2,2,5,0,1,3,4,2,4,5,5,5,5,1,2,1,5,1,3,5,5,5,4,5,5,2,2,1,1,3,1,1,5,5,4,1,1,5,3,1,4,2,1,5,1,1,0,5,1,2,2,2,0,5,2,1,5,1,2,1,4,0,5,5,3,2,5],\"coloraxis\":\"coloraxis\",\"size\":[0.7940000295639038,0.6403999924659729,0.9174000024795532,0.4805999994277954,0.9929999709129333,0.5443000197410583,0.9901999831199646,0.5512999892234802,0.6805999875068665,0.532800018787384,0.8536999821662903,0.6933000087738037,0.8709999918937683,0.8424999713897705,0.829200029373169,0.996399998664856,0.7074000239372253,0.8652999997138977,0.5447999835014343,0.9053999781608582,0.9085000157356262,0.9524999856948853,0.9284999966621399,0.4968999922275543,0.8787000179290771,0.9975000023841858,0.7842000126838684,0.7674000263214111,0.6309000253677368,0.7009000182151794,0.6600000262260437,0.43070000410079956,0.7300000190734863,0.6452999711036682,0.6096000075340271,0.9886999726295471,0.8791999816894531,0.5210000276565552,0.4733999967575073,0.8812999725341797,0.5152000188827515,0.9958999752998352,0.618399977684021,0.7063999772071838,0.4519999921321869,0.916100025177002,0.9804999828338623,0.5475999712944031,0.4578999876976013,0.41029998660087585,0.7688000202178955,0.6215999722480774,0.671999990940094,0.8349000215530396,0.7723000049591064,0.6565999984741211,0.8992000222206116,0.3707999885082245,0.9289000034332275,0.8815000057220459,0.6492000222206116,0.4433000087738037,0.8833000063896179,0.7784000039100647,0.9168999791145325,0.975600004196167,0.683899998664856,0.5990999937057495,0.5426999926567078,0.5508000254631042,0.6758999824523926,0.8898000121116638,0.9968000054359436,0.6427000164985657,0.9865999817848206,0.8220000267028809,0.9082000255584717,0.7646999955177307,0.713100016117096,0.96670001745224,0.7807999849319458,0.9387000203132629,0.8718000054359436,0.47429999709129333,0.9743000268936157,0.8828999996185303,0.9950000047683716,0.9807999730110168,0.9607999920845032,0.7626000046730042,0.6704000234603882,0.8453999757766724,0.9546999931335449,0.9776999950408936,0.7422999739646912,0.8980000019073486,0.6754999756813049,0.8799999952316284,0.5356000065803528,0.9541000127792358,0.49239999055862427,0.7681999802589417,0.6039000153541565,0.8205999732017517,0.9702000021934509,0.9980000257492065,0.6783000230789185,0.8992000222206116,0.5389000177383423,0.8622999787330627,0.7815999984741211,0.9890999794006348,0.9951000213623047,0.7616000175476074,0.807699978351593,0.6717000007629395,0.8493000268936157,0.5449000000953674,0.7662000060081482,0.8317000269889832,0.6524999737739563,0.9120000004768372,0.5235000252723694,0.5784000158309937,0.9976999759674072,0.9700999855995178,0.996399998664856,0.4049000144004822,0.7623999714851379,0.5907999873161316,0.5284000039100647,0.9987000226974487,0.9779999852180481,0.9472000002861023,0.7487999796867371,0.7699000239372253,0.9682000279426575,0.31679999828338623,0.43160000443458557,0.7832000255584717,0.5753999948501587,0.9972000122070312,0.9707000255584717,0.9900000095367432,0.8266000151634216,0.9563999772071838,0.604200005531311,0.5196999907493591,0.5720000267028809,0.5713000297546387,0.6621999740600586,0.9842000007629395,0.9902999997138977,0.7778000235557556,0.883400022983551,0.7908999919891357,0.9361000061035156,0.9517999887466431,0.5220000147819519,0.7993999719619751,0.7547000050544739,0.6901000142097473,0.4438999891281128,0.7516000270843506,0.9829999804496765,0.6930000185966492,0.8083999752998352,0.9968000054359436,0.9975000023841858,0.6086000204086304,0.9958999752998352,0.9388999938964844,0.8608999848365784,0.6890000104904175,0.6759999990463257,0.9980000257492065,0.9923999905586243,0.9958000183105469,0.9262999892234802,0.911300003528595,0.9240999817848206,0.6211000084877014,0.5730000138282776,0.9761999845504761,0.5806999802589417,0.9840999841690063,0.6715999841690063,0.7407000064849854,0.9190999865531921,0.9901999831199646,0.8240000009536743,0.9085999727249146,0.7152000069618225,0.7687000036239624,0.9323999881744385,0.9987000226974487,0.9544000029563904,0.5860999822616577,0.9020000100135803,0.6262000203132629,0.5480999946594238,0.9961000084877014,0.9955999851226807,0.9921000003814697,0.881600022315979,0.9212999939918518,0.9939000010490417,0.9912999868392944,0.8664000034332275,0.984499990940094,0.9635999798774719,0.9429000020027161,0.5776000022888184,0.9750999808311462,0.8853999972343445,0.5990999937057495,0.9955000281333923,0.4941999912261963,0.9345999956130981,0.9872999787330627,0.9958999752998352,0.9965999722480774,0.9467999935150146,0.9993000030517578,0.4997999966144562,0.7735999822616577,0.7174999713897705,0.6952999830245972,0.8619999885559082,0.7269999980926514,0.8138999938964844,0.9552000164985657,0.8808000087738037,0.9921000003814697,0.4440999925136566,0.9106000065803528,0.8331000208854675,0.7544000148773193,0.9890999794006348,0.8337000012397766,0.9915000200271606,0.9678999781608582,0.33059999346733093,0.9240999817848206,0.7084000110626221,0.678600013256073,0.8341000080108643,0.9269999861717224,0.9873999953269958,0.8960000276565552,0.5641999840736389,0.6700000166893005,0.9986000061035156,0.7085999846458435,0.8823999762535095,0.40639999508857727,0.5795999765396118,0.8181999921798706,0.6026999950408936,0.9973000288009644,0.7141000032424927,0.7307999730110168,0.7993000149726868,0.9843000173568726,0.9973000288009644,0.9991999864578247,0.6367999911308289,0.6744999885559082,0.9983999729156494,0.9969000220298767,0.9969000220298767,0.9811999797821045,0.6759999990463257,0.751800000667572,0.6858999729156494,0.835099995136261,0.5206000208854675,0.7250000238418579,0.44600000977516174,0.9513000249862671,0.8693000078201294,0.5782999992370605,0.9110999703407288,0.995199978351593,0.868399977684021,0.6035000085830688,0.9968000054359436,0.8367999792098999,0.48420000076293945,0.7883999943733215,0.8988999724388123,0.8149999976158142,0.916100025177002,0.5440000295639038,0.3156000077724457,0.9966999888420105,0.8460999727249146,0.8111000061035156,0.5685999989509583,0.7832000255584717,0.7113999724388123,0.9898999929428101,0.4887000024318695,0.6341999769210815,0.7504000067710876,0.675000011920929,0.7731999754905701,0.4636000096797943,0.48010000586509705,0.9758999943733215,0.35429999232292175,0.9139999747276306,0.6518999934196472,0.9139999747276306,0.6409000158309937,0.4519999921321869,0.5649999976158142,0.8572999835014343,0.9745000004768372,0.8131999969482422,0.546999990940094,0.9955000281333923,0.7184000015258789,0.9969000220298767,0.8248000144958496,0.9934999942779541,0.9957000017166138,0.7077999711036682,0.9936000108718872,0.9326000213623047,0.9713000059127808,0.4706999957561493,0.9969000220298767,0.5709999799728394,0.5149999856948853,0.9681000113487244,0.8427000045776367,0.6256999969482422,0.965399980545044,0.9387999773025513,0.5566999912261963,0.6934000253677368,0.9595000147819519,0.9937999844551086,0.3781000077724457,0.8914999961853027,0.995199978351593,0.9980000257492065,0.9829999804496765,0.7346000075340271,0.7117999792098999,0.9508000016212463,0.6031000018119812,0.9677000045776367,0.9251000285148621,0.6554999947547913,0.7062000036239624,0.9182000160217285,0.5425999760627747,0.44850000739097595,0.6729000210762024,0.9947999715805054,0.9958000183105469,0.6093000173568726,0.607200026512146,0.8159999847412109,0.492900013923645,0.9983000159263611,0.5846999883651733,0.989300012588501,0.6543999910354614,0.6629999876022339,0.7210999727249146,0.41290000081062317,0.9419000148773193,0.5738999843597412,0.6241999864578247,0.5985000133514404,0.9958000183105469,0.527999997138977,0.9952999949455261,0.996399998664856,0.9969000220298767,0.9966999888420105,0.3544999957084656,0.6503000259399414,0.7443000078201294,0.7455000281333923,0.536899983882904,0.9948999881744385,0.7253000140190125,0.9261000156402588,0.6093000173568726,0.701200008392334,0.8892999887466431,0.8755000233650208,0.6061000227928162,0.9890999794006348,0.4408999979496002,0.9980000257492065,0.9980999827384949,0.5139999985694885,0.8553000092506409,0.579800009727478,0.8258000016212463,0.8966000080108643,0.6879000067710876,0.8400999903678894,0.7865999937057495,0.7760999798774719,0.76419997215271,0.43689998984336853,0.5133000016212463,0.617900013923645,0.46380001306533813,0.6093000173568726,0.67330002784729,0.8378999829292297,0.9526000022888184,0.8716999888420105,0.49390000104904175,0.3887999951839447,0.40849998593330383,0.9846000075340271,0.9851999878883362,0.9088000059127808,0.853600025177002,0.6553999781608582,0.5633000135421753,0.4587000012397766,0.41019999980926514,0.3433000147342682,0.9984999895095825,0.7493000030517578,0.6104999780654907,0.8937000036239624,0.5663999915122986,0.5508999824523926,0.8226000070571899,0.9736999869346619,0.8460000157356262,0.7483999729156494,0.9179999828338623,0.8417999744415283,0.6748999953269958,0.5605999827384949,0.3790999948978424,0.4821999967098236,0.9646000266075134,0.4016000032424927,0.9980000257492065,0.9968000054359436,0.8618000149726868,0.3846000134944916,0.9523000121116638,0.9503999948501587,0.3846000134944916,0.48429998755455017,0.795799970626831,0.42570000886917114,0.384799987077713,0.4586000144481659],\"sizemode\":\"area\",\"sizeref\":0.009993000030517578,\"symbol\":\"circle\"},\"mode\":\"markers\",\"name\":\"\",\"orientation\":\"v\",\"showlegend\":false,\"x\":[\"2002-10-02T00:00:00\",\"2004-07-27T00:00:00\",\"2005-01-06T00:00:00\",\"2005-06-04T00:00:00\",\"2005-10-25T00:00:00\",\"2005-12-15T00:00:00\",\"2006-01-31T00:00:00\",\"2006-07-20T00:00:00\",\"2007-01-16T00:00:00\",\"2007-02-10T00:00:00\",\"2007-03-04T00:00:00\",\"2007-03-13T00:00:00\",\"2007-03-21T00:00:00\",\"2007-05-23T00:00:00\",\"2007-08-01T00:00:00\",\"2007-11-10T00:00:00\",\"2008-01-03T00:00:00\",\"2008-01-08T00:00:00\",\"2008-01-20T00:00:00\",\"2008-01-26T00:00:00\",\"2008-03-18T00:00:00\",\"2008-06-03T00:00:00\",\"2008-07-15T00:00:00\",\"2008-07-24T00:00:00\",\"2008-08-28T00:00:00\",\"2008-10-01T00:00:00\",\"2008-11-04T00:00:00\",\"2008-11-07T00:00:00\",\"2008-11-08T00:00:00\",\"2008-11-21T00:00:00\",\"2008-11-25T00:00:00\",\"2008-11-26T00:00:00\",\"2008-11-27T00:00:00\",\"2008-12-03T00:00:00\",\"2008-12-06T00:00:00\",\"2009-01-08T00:00:00\",\"2009-01-09T00:00:00\",\"2009-01-10T00:00:00\",\"2009-01-20T00:00:00\",\"2009-01-24T00:00:00\",\"2009-01-26T00:00:00\",\"2009-02-04T00:00:00\",\"2009-02-09T00:00:00\",\"2009-02-12T00:00:00\",\"2009-02-12T00:00:00\",\"2009-02-24T00:00:00\",\"2009-02-27T00:00:00\",\"2009-03-10T00:00:00\",\"2009-04-02T00:00:00\",\"2009-04-03T00:00:00\",\"2009-04-05T00:00:00\",\"2009-04-06T00:00:00\",\"2009-04-07T00:00:00\",\"2009-04-14T00:00:00\",\"2009-04-20T00:00:00\",\"2009-04-23T00:00:00\",\"2009-05-09T00:00:00\",\"2009-05-14T00:00:00\",\"2009-05-17T00:00:00\",\"2009-05-18T00:00:00\",\"2009-05-21T00:00:00\",\"2009-05-29T00:00:00\",\"2009-06-04T00:00:00\",\"2009-06-04T00:00:00\",\"2009-06-05T00:00:00\",\"2009-06-15T00:00:00\",\"2009-06-23T00:00:00\",\"2009-06-23T00:00:00\",\"2009-07-07T00:00:00\",\"2009-07-11T00:00:00\",\"2009-07-13T00:00:00\",\"2009-07-14T00:00:00\",\"2009-08-29T00:00:00\",\"2009-09-08T00:00:00\",\"2009-09-09T00:00:00\",\"2009-09-09T00:00:00\",\"2009-09-11T00:00:00\",\"2009-09-23T00:00:00\",\"2009-11-10T00:00:00\",\"2009-11-16T00:00:00\",\"2009-12-01T00:00:00\",\"2009-12-06T00:00:00\",\"2009-12-08T00:00:00\",\"2009-12-10T00:00:00\",\"2009-12-18T00:00:00\",\"2009-12-28T00:00:00\",\"2009-12-29T00:00:00\",\"2010-01-05T00:00:00\",\"2010-01-07T00:00:00\",\"2010-01-14T00:00:00\",\"2010-01-17T00:00:00\",\"2010-01-22T00:00:00\",\"2010-01-27T00:00:00\",\"2010-01-27T00:00:00\",\"2010-01-29T00:00:00\",\"2010-02-01T00:00:00\",\"2010-02-04T00:00:00\",\"2010-02-09T00:00:00\",\"2010-02-19T00:00:00\",\"2010-03-03T00:00:00\",\"2010-03-13T00:00:00\",\"2010-03-19T00:00:00\",\"2010-03-20T00:00:00\",\"2010-03-21T00:00:00\",\"2010-03-23T00:00:00\",\"2010-03-28T00:00:00\",\"2010-03-31T00:00:00\",\"2010-04-08T00:00:00\",\"2010-04-09T00:00:00\",\"2010-04-15T00:00:00\",\"2010-04-22T00:00:00\",\"2010-04-25T00:00:00\",\"2010-04-29T00:00:00\",\"2010-05-01T00:00:00\",\"2010-05-01T00:00:00\",\"2010-05-10T00:00:00\",\"2010-05-22T00:00:00\",\"2010-05-27T00:00:00\",\"2010-05-28T00:00:00\",\"2010-06-02T00:00:00\",\"2010-06-07T00:00:00\",\"2010-06-09T00:00:00\",\"2010-06-15T00:00:00\",\"2010-06-15T00:00:00\",\"2010-06-16T00:00:00\",\"2010-06-21T00:00:00\",\"2010-06-23T00:00:00\",\"2010-07-01T00:00:00\",\"2010-07-02T00:00:00\",\"2010-07-21T00:00:00\",\"2010-07-29T00:00:00\",\"2010-08-02T00:00:00\",\"2010-08-13T00:00:00\",\"2010-08-31T00:00:00\",\"2010-09-11T00:00:00\",\"2010-09-23T00:00:00\",\"2010-11-03T00:00:00\",\"2010-11-06T00:00:00\",\"2010-11-08T00:00:00\",\"2010-11-10T00:00:00\",\"2010-11-16T00:00:00\",\"2010-12-03T00:00:00\",\"2010-12-10T00:00:00\",\"2011-01-12T00:00:00\",\"2011-01-25T00:00:00\",\"2011-02-01T00:00:00\",\"2011-02-03T00:00:00\",\"2011-02-07T00:00:00\",\"2011-02-10T00:00:00\",\"2011-02-11T00:00:00\",\"2011-02-23T00:00:00\",\"2011-03-18T00:00:00\",\"2011-03-19T00:00:00\",\"2011-03-20T00:00:00\",\"2011-03-21T00:00:00\",\"2011-03-28T00:00:00\",\"2011-03-30T00:00:00\",\"2011-04-13T00:00:00\",\"2011-04-26T00:00:00\",\"2011-04-27T00:00:00\",\"2011-04-29T00:00:00\",\"2011-04-29T00:00:00\",\"2011-04-30T00:00:00\",\"2011-05-01T00:00:00\",\"2011-05-06T00:00:00\",\"2011-05-16T00:00:00\",\"2011-05-19T00:00:00\",\"2011-05-20T00:00:00\",\"2011-05-20T00:00:00\",\"2011-05-25T00:00:00\",\"2011-05-29T00:00:00\",\"2011-05-30T00:00:00\",\"2011-06-22T00:00:00\",\"2011-06-24T00:00:00\",\"2011-06-29T00:00:00\",\"2011-07-25T00:00:00\",\"2011-07-31T00:00:00\",\"2011-08-02T00:00:00\",\"2011-08-30T00:00:00\",\"2011-09-08T00:00:00\",\"2011-09-19T00:00:00\",\"2011-09-20T00:00:00\",\"2011-09-21T00:00:00\",\"2011-10-16T00:00:00\",\"2011-10-20T00:00:00\",\"2011-10-21T00:00:00\",\"2011-11-16T00:00:00\",\"2011-12-02T00:00:00\",\"2011-12-06T00:00:00\",\"2011-12-17T00:00:00\",\"2012-01-05T00:00:00\",\"2012-01-24T00:00:00\",\"2012-02-01T00:00:00\",\"2012-02-03T00:00:00\",\"2012-02-29T00:00:00\",\"2012-03-04T00:00:00\",\"2012-03-26T00:00:00\",\"2012-03-29T00:00:00\",\"2012-04-23T00:00:00\",\"2012-04-28T00:00:00\",\"2012-05-14T00:00:00\",\"2012-06-13T00:00:00\",\"2012-06-28T00:00:00\",\"2012-07-20T00:00:00\",\"2012-07-23T00:00:00\",\"2012-09-06T00:00:00\",\"2012-09-12T00:00:00\",\"2012-09-14T00:00:00\",\"2012-09-25T00:00:00\",\"2012-09-25T00:00:00\",\"2012-10-03T00:00:00\",\"2012-10-17T00:00:00\",\"2012-10-23T00:00:00\",\"2012-10-29T00:00:00\",\"2012-10-30T00:00:00\",\"2012-11-06T00:00:00\",\"2012-11-09T00:00:00\",\"2012-11-14T00:00:00\",\"2012-11-19T00:00:00\",\"2012-12-14T00:00:00\",\"2012-12-16T00:00:00\",\"2012-12-19T00:00:00\",\"2012-12-21T00:00:00\",\"2013-01-14T00:00:00\",\"2013-01-16T00:00:00\",\"2013-01-21T00:00:00\",\"2013-01-21T00:00:00\",\"2013-01-29T00:00:00\",\"2013-02-12T00:00:00\",\"2013-02-15T00:00:00\",\"2013-02-26T00:00:00\",\"2013-02-27T00:00:00\",\"2013-03-21T00:00:00\",\"2013-03-22T00:00:00\",\"2013-04-02T00:00:00\",\"2013-04-03T00:00:00\",\"2013-04-08T00:00:00\",\"2013-04-11T00:00:00\",\"2013-04-15T00:00:00\",\"2013-04-16T00:00:00\",\"2013-04-17T00:00:00\",\"2013-04-18T00:00:00\",\"2013-04-19T00:00:00\",\"2013-04-25T00:00:00\",\"2013-04-25T00:00:00\",\"2013-04-27T00:00:00\",\"2013-04-30T00:00:00\",\"2013-05-03T00:00:00\",\"2013-05-15T00:00:00\",\"2013-05-19T00:00:00\",\"2013-05-23T00:00:00\",\"2013-05-24T00:00:00\",\"2013-06-07T00:00:00\",\"2013-06-11T00:00:00\",\"2013-06-17T00:00:00\",\"2013-06-19T00:00:00\",\"2013-06-30T00:00:00\",\"2013-07-19T00:00:00\",\"2013-07-24T00:00:00\",\"2013-07-27T00:00:00\",\"2013-08-09T00:00:00\",\"2013-08-28T00:00:00\",\"2013-08-31T00:00:00\",\"2013-09-10T00:00:00\",\"2013-09-22T00:00:00\",\"2013-09-24T00:00:00\",\"2013-09-24T00:00:00\",\"2013-10-02T00:00:00\",\"2013-10-21T00:00:00\",\"2013-11-11T00:00:00\",\"2013-11-14T00:00:00\",\"2013-11-23T00:00:00\",\"2013-12-05T00:00:00\",\"2013-12-10T00:00:00\",\"2013-12-20T00:00:00\",\"2014-01-17T00:00:00\",\"2014-01-28T00:00:00\",\"2014-02-06T00:00:00\",\"2014-03-26T00:00:00\",\"2014-04-10T00:00:00\",\"2014-04-17T00:00:00\",\"2014-04-24T00:00:00\",\"2014-04-27T00:00:00\",\"2014-04-29T00:00:00\",\"2014-05-03T00:00:00\",\"2014-05-21T00:00:00\",\"2014-05-27T00:00:00\",\"2014-05-28T00:00:00\",\"2014-05-30T00:00:00\",\"2014-06-04T00:00:00\",\"2014-06-06T00:00:00\",\"2014-06-30T00:00:00\",\"2014-07-18T00:00:00\",\"2014-07-21T00:00:00\",\"2014-08-01T00:00:00\",\"2014-08-07T00:00:00\",\"2014-08-09T00:00:00\",\"2014-08-14T00:00:00\",\"2014-08-28T00:00:00\",\"2014-09-03T00:00:00\",\"2014-09-03T00:00:00\",\"2014-09-10T00:00:00\",\"2014-09-16T00:00:00\",\"2014-09-24T00:00:00\",\"2014-09-24T00:00:00\",\"2014-09-25T00:00:00\",\"2014-10-17T00:00:00\",\"2014-10-28T00:00:00\",\"2014-11-05T00:00:00\",\"2014-11-14T00:00:00\",\"2014-11-14T00:00:00\",\"2014-11-15T00:00:00\",\"2014-11-20T00:00:00\",\"2014-11-24T00:00:00\",\"2014-12-02T00:00:00\",\"2014-12-17T00:00:00\",\"2014-12-19T00:00:00\",\"2015-01-09T00:00:00\",\"2015-01-12T00:00:00\",\"2015-01-13T00:00:00\",\"2015-01-20T00:00:00\",\"2015-01-27T00:00:00\",\"2015-02-05T00:00:00\",\"2015-02-11T00:00:00\",\"2015-02-13T00:00:00\",\"2015-02-18T00:00:00\",\"2015-03-03T00:00:00\",\"2015-03-07T00:00:00\",\"2015-03-10T00:00:00\",\"2015-03-30T00:00:00\",\"2015-04-02T00:00:00\",\"2015-04-09T00:00:00\",\"2015-04-10T00:00:00\",\"2015-04-11T00:00:00\",\"2015-04-11T00:00:00\",\"2015-04-23T00:00:00\",\"2015-04-25T00:00:00\",\"2015-05-08T00:00:00\",\"2015-05-22T00:00:00\",\"2015-06-01T00:00:00\",\"2015-06-06T00:00:00\",\"2015-06-08T00:00:00\",\"2015-06-17T00:00:00\",\"2015-06-18T00:00:00\",\"2015-06-19T00:00:00\",\"2015-06-24T00:00:00\",\"2015-06-25T00:00:00\",\"2015-06-26T00:00:00\",\"2015-07-06T00:00:00\",\"2015-07-13T00:00:00\",\"2015-07-14T00:00:00\",\"2015-07-14T00:00:00\",\"2015-07-15T00:00:00\",\"2015-07-26T00:00:00\",\"2015-07-26T00:00:00\",\"2015-07-28T00:00:00\",\"2015-08-03T00:00:00\",\"2015-08-05T00:00:00\",\"2015-08-27T00:00:00\",\"2015-09-11T00:00:00\",\"2015-09-19T00:00:00\",\"2015-09-23T00:00:00\",\"2015-09-25T00:00:00\",\"2015-09-25T00:00:00\",\"2015-09-28T00:00:00\",\"2015-10-01T00:00:00\",\"2015-10-02T00:00:00\",\"2015-10-15T00:00:00\",\"2015-10-21T00:00:00\",\"2015-11-13T00:00:00\",\"2015-11-13T00:00:00\",\"2015-11-16T00:00:00\",\"2015-11-21T00:00:00\",\"2015-11-22T00:00:00\",\"2015-11-24T00:00:00\",\"2015-11-30T00:00:00\",\"2015-12-01T00:00:00\",\"2015-12-06T00:00:00\",\"2015-12-09T00:00:00\",\"2015-12-10T00:00:00\",\"2015-12-12T00:00:00\",\"2015-12-14T00:00:00\",\"2015-12-15T00:00:00\",\"2015-12-17T00:00:00\",\"2015-12-18T00:00:00\",\"2016-01-01T00:00:00\",\"2016-01-05T00:00:00\",\"2016-01-07T00:00:00\",\"2016-01-12T00:00:00\",\"2016-01-17T00:00:00\",\"2016-01-27T00:00:00\",\"2016-02-03T00:00:00\",\"2016-02-04T00:00:00\",\"2016-02-04T00:00:00\",\"2016-02-10T00:00:00\",\"2016-02-13T00:00:00\",\"2016-02-16T00:00:00\",\"2016-02-20T00:00:00\",\"2016-02-23T00:00:00\",\"2016-02-25T00:00:00\",\"2016-02-26T00:00:00\",\"2016-03-11T00:00:00\",\"2016-03-16T00:00:00\",\"2016-03-21T00:00:00\",\"2016-03-21T00:00:00\",\"2016-03-22T00:00:00\",\"2016-03-23T00:00:00\",\"2016-03-26T00:00:00\",\"2016-04-01T00:00:00\",\"2016-04-07T00:00:00\",\"2016-04-21T00:00:00\",\"2016-04-23T00:00:00\",\"2016-04-25T00:00:00\",\"2016-04-30T00:00:00\",\"2016-05-04T00:00:00\",\"2016-05-07T00:00:00\",\"2016-05-14T00:00:00\",\"2016-05-24T00:00:00\",\"2016-05-24T00:00:00\",\"2016-05-25T00:00:00\",\"2016-05-25T00:00:00\",\"2016-05-26T00:00:00\",\"2016-05-27T00:00:00\",\"2016-06-02T00:00:00\",\"2016-06-09T00:00:00\",\"2016-06-12T00:00:00\",\"2016-06-14T00:00:00\",\"2016-06-14T00:00:00\",\"2016-06-16T00:00:00\",\"2016-06-23T00:00:00\",\"2016-06-29T00:00:00\",\"2016-07-09T00:00:00\",\"2016-07-12T00:00:00\",\"2016-07-27T00:00:00\",\"2016-08-04T00:00:00\",\"2016-08-23T00:00:00\",\"2016-09-05T00:00:00\",\"2016-09-06T00:00:00\",\"2016-09-06T00:00:00\",\"2016-09-11T00:00:00\",\"2016-09-19T00:00:00\",\"2016-09-20T00:00:00\",\"2016-09-24T00:00:00\",\"2016-09-30T00:00:00\",\"2016-11-09T00:00:00\",\"2016-11-10T00:00:00\",\"2016-11-14T00:00:00\",\"2016-11-16T00:00:00\",\"2016-11-20T00:00:00\",\"2016-11-20T00:00:00\",\"2016-12-04T00:00:00\",\"2016-12-04T00:00:00\",\"2016-12-06T00:00:00\",\"2016-12-16T00:00:00\",\"2016-12-27T00:00:00\",\"2017-01-06T00:00:00\",\"2017-01-10T00:00:00\",\"2017-01-12T00:00:00\",\"2017-01-14T00:00:00\",\"2017-01-16T00:00:00\",\"2017-01-18T00:00:00\",\"2017-01-20T00:00:00\"],\"xaxis\":\"x\",\"y\":[1,5,3,3,5,3,5,3,3,3,5,1,1,4,1,3,3,3,3,3,5,3,1,1,3,3,3,3,2,3,3,3,1,2,3,3,1,5,0,3,0,3,3,5,5,3,1,4,2,1,1,1,2,3,1,1,3,4,1,5,0,1,0,1,1,4,4,0,1,0,4,4,5,5,4,5,1,0,1,5,1,5,3,1,2,0,0,0,0,3,5,4,3,1,3,3,5,3,4,4,5,4,4,3,4,1,3,1,2,2,3,5,5,5,3,2,1,4,2,3,5,1,1,3,4,5,1,3,5,3,5,1,0,1,1,0,3,5,1,5,1,1,3,5,3,5,5,4,3,5,0,1,1,5,5,1,3,3,3,4,5,4,5,1,1,5,0,1,1,0,5,1,1,3,3,3,3,3,1,3,3,1,0,5,1,1,1,3,3,1,1,3,3,3,1,1,1,3,1,3,5,1,4,5,1,3,1,1,0,5,4,4,4,2,2,3,3,3,5,5,5,3,5,3,3,5,2,4,3,5,3,5,1,1,4,3,3,2,2,1,3,5,2,5,2,3,4,5,2,5,1,1,4,4,5,5,5,5,3,1,4,5,1,1,5,4,1,4,4,1,4,1,5,5,4,0,3,5,1,5,4,2,5,1,3,1,1,1,1,1,1,3,1,1,4,1,1,1,1,1,1,1,0,1,0,2,4,2,3,5,2,5,3,5,0,0,4,4,4,4,3,5,5,1,4,0,1,5,4,5,1,5,5,2,5,1,3,4,1,5,5,2,5,5,3,1,4,5,1,4,5,1,1,5,5,0,3,1,5,1,5,5,1,5,0,5,2,1,5,1,5,1,5,0,1,2,2,1,5,4,2,1,5,1,2,3,3,3,3,1,1,0,5,4,3,2,2,5,0,1,3,4,2,4,5,5,5,5,1,2,1,5,1,3,5,5,5,4,5,5,2,2,1,1,3,1,1,5,5,4,1,1,5,3,1,4,2,1,5,1,1,0,5,1,2,2,2,0,5,2,1,5,1,2,1,4,0,5,5,3,2,5],\"yaxis\":\"y\",\"type\":\"scatter\"}],                        {\"template\":{\"data\":{\"histogram2dcontour\":[{\"type\":\"histogram2dcontour\",\"colorbar\":{\"outlinewidth\":0,\"ticks\":\"\"},\"colorscale\":[[0.0,\"#0d0887\"],[0.1111111111111111,\"#46039f\"],[0.2222222222222222,\"#7201a8\"],[0.3333333333333333,\"#9c179e\"],[0.4444444444444444,\"#bd3786\"],[0.5555555555555556,\"#d8576b\"],[0.6666666666666666,\"#ed7953\"],[0.7777777777777778,\"#fb9f3a\"],[0.8888888888888888,\"#fdca26\"],[1.0,\"#f0f921\"]]}],\"choropleth\":[{\"type\":\"choropleth\",\"colorbar\":{\"outlinewidth\":0,\"ticks\":\"\"}}],\"histogram2d\":[{\"type\":\"histogram2d\",\"colorbar\":{\"outlinewidth\":0,\"ticks\":\"\"},\"colorscale\":[[0.0,\"#0d0887\"],[0.1111111111111111,\"#46039f\"],[0.2222222222222222,\"#7201a8\"],[0.3333333333333333,\"#9c179e\"],[0.4444444444444444,\"#bd3786\"],[0.5555555555555556,\"#d8576b\"],[0.6666666666666666,\"#ed7953\"],[0.7777777777777778,\"#fb9f3a\"],[0.8888888888888888,\"#fdca26\"],[1.0,\"#f0f921\"]]}],\"heatmap\":[{\"type\":\"heatmap\",\"colorbar\":{\"outlinewidth\":0,\"ticks\":\"\"},\"colorscale\":[[0.0,\"#0d0887\"],[0.1111111111111111,\"#46039f\"],[0.2222222222222222,\"#7201a8\"],[0.3333333333333333,\"#9c179e\"],[0.4444444444444444,\"#bd3786\"],[0.5555555555555556,\"#d8576b\"],[0.6666666666666666,\"#ed7953\"],[0.7777777777777778,\"#fb9f3a\"],[0.8888888888888888,\"#fdca26\"],[1.0,\"#f0f921\"]]}],\"heatmapgl\":[{\"type\":\"heatmapgl\",\"colorbar\":{\"outlinewidth\":0,\"ticks\":\"\"},\"colorscale\":[[0.0,\"#0d0887\"],[0.1111111111111111,\"#46039f\"],[0.2222222222222222,\"#7201a8\"],[0.3333333333333333,\"#9c179e\"],[0.4444444444444444,\"#bd3786\"],[0.5555555555555556,\"#d8576b\"],[0.6666666666666666,\"#ed7953\"],[0.7777777777777778,\"#fb9f3a\"],[0.8888888888888888,\"#fdca26\"],[1.0,\"#f0f921\"]]}],\"contourcarpet\":[{\"type\":\"contourcarpet\",\"colorbar\":{\"outlinewidth\":0,\"ticks\":\"\"}}],\"contour\":[{\"type\":\"contour\",\"colorbar\":{\"outlinewidth\":0,\"ticks\":\"\"},\"colorscale\":[[0.0,\"#0d0887\"],[0.1111111111111111,\"#46039f\"],[0.2222222222222222,\"#7201a8\"],[0.3333333333333333,\"#9c179e\"],[0.4444444444444444,\"#bd3786\"],[0.5555555555555556,\"#d8576b\"],[0.6666666666666666,\"#ed7953\"],[0.7777777777777778,\"#fb9f3a\"],[0.8888888888888888,\"#fdca26\"],[1.0,\"#f0f921\"]]}],\"surface\":[{\"type\":\"surface\",\"colorbar\":{\"outlinewidth\":0,\"ticks\":\"\"},\"colorscale\":[[0.0,\"#0d0887\"],[0.1111111111111111,\"#46039f\"],[0.2222222222222222,\"#7201a8\"],[0.3333333333333333,\"#9c179e\"],[0.4444444444444444,\"#bd3786\"],[0.5555555555555556,\"#d8576b\"],[0.6666666666666666,\"#ed7953\"],[0.7777777777777778,\"#fb9f3a\"],[0.8888888888888888,\"#fdca26\"],[1.0,\"#f0f921\"]]}],\"mesh3d\":[{\"type\":\"mesh3d\",\"colorbar\":{\"outlinewidth\":0,\"ticks\":\"\"}}],\"scatter\":[{\"fillpattern\":{\"fillmode\":\"overlay\",\"size\":10,\"solidity\":0.2},\"type\":\"scatter\"}],\"parcoords\":[{\"type\":\"parcoords\",\"line\":{\"colorbar\":{\"outlinewidth\":0,\"ticks\":\"\"}}}],\"scatterpolargl\":[{\"type\":\"scatterpolargl\",\"marker\":{\"colorbar\":{\"outlinewidth\":0,\"ticks\":\"\"}}}],\"bar\":[{\"error_x\":{\"color\":\"#2a3f5f\"},\"error_y\":{\"color\":\"#2a3f5f\"},\"marker\":{\"line\":{\"color\":\"#E5ECF6\",\"width\":0.5},\"pattern\":{\"fillmode\":\"overlay\",\"size\":10,\"solidity\":0.2}},\"type\":\"bar\"}],\"scattergeo\":[{\"type\":\"scattergeo\",\"marker\":{\"colorbar\":{\"outlinewidth\":0,\"ticks\":\"\"}}}],\"scatterpolar\":[{\"type\":\"scatterpolar\",\"marker\":{\"colorbar\":{\"outlinewidth\":0,\"ticks\":\"\"}}}],\"histogram\":[{\"marker\":{\"pattern\":{\"fillmode\":\"overlay\",\"size\":10,\"solidity\":0.2}},\"type\":\"histogram\"}],\"scattergl\":[{\"type\":\"scattergl\",\"marker\":{\"colorbar\":{\"outlinewidth\":0,\"ticks\":\"\"}}}],\"scatter3d\":[{\"type\":\"scatter3d\",\"line\":{\"colorbar\":{\"outlinewidth\":0,\"ticks\":\"\"}},\"marker\":{\"colorbar\":{\"outlinewidth\":0,\"ticks\":\"\"}}}],\"scattermapbox\":[{\"type\":\"scattermapbox\",\"marker\":{\"colorbar\":{\"outlinewidth\":0,\"ticks\":\"\"}}}],\"scatterternary\":[{\"type\":\"scatterternary\",\"marker\":{\"colorbar\":{\"outlinewidth\":0,\"ticks\":\"\"}}}],\"scattercarpet\":[{\"type\":\"scattercarpet\",\"marker\":{\"colorbar\":{\"outlinewidth\":0,\"ticks\":\"\"}}}],\"carpet\":[{\"aaxis\":{\"endlinecolor\":\"#2a3f5f\",\"gridcolor\":\"white\",\"linecolor\":\"white\",\"minorgridcolor\":\"white\",\"startlinecolor\":\"#2a3f5f\"},\"baxis\":{\"endlinecolor\":\"#2a3f5f\",\"gridcolor\":\"white\",\"linecolor\":\"white\",\"minorgridcolor\":\"white\",\"startlinecolor\":\"#2a3f5f\"},\"type\":\"carpet\"}],\"table\":[{\"cells\":{\"fill\":{\"color\":\"#EBF0F8\"},\"line\":{\"color\":\"white\"}},\"header\":{\"fill\":{\"color\":\"#C8D4E3\"},\"line\":{\"color\":\"white\"}},\"type\":\"table\"}],\"barpolar\":[{\"marker\":{\"line\":{\"color\":\"#E5ECF6\",\"width\":0.5},\"pattern\":{\"fillmode\":\"overlay\",\"size\":10,\"solidity\":0.2}},\"type\":\"barpolar\"}],\"pie\":[{\"automargin\":true,\"type\":\"pie\"}]},\"layout\":{\"autotypenumbers\":\"strict\",\"colorway\":[\"#636efa\",\"#EF553B\",\"#00cc96\",\"#ab63fa\",\"#FFA15A\",\"#19d3f3\",\"#FF6692\",\"#B6E880\",\"#FF97FF\",\"#FECB52\"],\"font\":{\"color\":\"#2a3f5f\"},\"hovermode\":\"closest\",\"hoverlabel\":{\"align\":\"left\"},\"paper_bgcolor\":\"white\",\"plot_bgcolor\":\"#E5ECF6\",\"polar\":{\"bgcolor\":\"#E5ECF6\",\"angularaxis\":{\"gridcolor\":\"white\",\"linecolor\":\"white\",\"ticks\":\"\"},\"radialaxis\":{\"gridcolor\":\"white\",\"linecolor\":\"white\",\"ticks\":\"\"}},\"ternary\":{\"bgcolor\":\"#E5ECF6\",\"aaxis\":{\"gridcolor\":\"white\",\"linecolor\":\"white\",\"ticks\":\"\"},\"baxis\":{\"gridcolor\":\"white\",\"linecolor\":\"white\",\"ticks\":\"\"},\"caxis\":{\"gridcolor\":\"white\",\"linecolor\":\"white\",\"ticks\":\"\"}},\"coloraxis\":{\"colorbar\":{\"outlinewidth\":0,\"ticks\":\"\"}},\"colorscale\":{\"sequential\":[[0.0,\"#0d0887\"],[0.1111111111111111,\"#46039f\"],[0.2222222222222222,\"#7201a8\"],[0.3333333333333333,\"#9c179e\"],[0.4444444444444444,\"#bd3786\"],[0.5555555555555556,\"#d8576b\"],[0.6666666666666666,\"#ed7953\"],[0.7777777777777778,\"#fb9f3a\"],[0.8888888888888888,\"#fdca26\"],[1.0,\"#f0f921\"]],\"sequentialminus\":[[0.0,\"#0d0887\"],[0.1111111111111111,\"#46039f\"],[0.2222222222222222,\"#7201a8\"],[0.3333333333333333,\"#9c179e\"],[0.4444444444444444,\"#bd3786\"],[0.5555555555555556,\"#d8576b\"],[0.6666666666666666,\"#ed7953\"],[0.7777777777777778,\"#fb9f3a\"],[0.8888888888888888,\"#fdca26\"],[1.0,\"#f0f921\"]],\"diverging\":[[0,\"#8e0152\"],[0.1,\"#c51b7d\"],[0.2,\"#de77ae\"],[0.3,\"#f1b6da\"],[0.4,\"#fde0ef\"],[0.5,\"#f7f7f7\"],[0.6,\"#e6f5d0\"],[0.7,\"#b8e186\"],[0.8,\"#7fbc41\"],[0.9,\"#4d9221\"],[1,\"#276419\"]]},\"xaxis\":{\"gridcolor\":\"white\",\"linecolor\":\"white\",\"ticks\":\"\",\"title\":{\"standoff\":15},\"zerolinecolor\":\"white\",\"automargin\":true,\"zerolinewidth\":2},\"yaxis\":{\"gridcolor\":\"white\",\"linecolor\":\"white\",\"ticks\":\"\",\"title\":{\"standoff\":15},\"zerolinecolor\":\"white\",\"automargin\":true,\"zerolinewidth\":2},\"scene\":{\"xaxis\":{\"backgroundcolor\":\"#E5ECF6\",\"gridcolor\":\"white\",\"linecolor\":\"white\",\"showbackground\":true,\"ticks\":\"\",\"zerolinecolor\":\"white\",\"gridwidth\":2},\"yaxis\":{\"backgroundcolor\":\"#E5ECF6\",\"gridcolor\":\"white\",\"linecolor\":\"white\",\"showbackground\":true,\"ticks\":\"\",\"zerolinecolor\":\"white\",\"gridwidth\":2},\"zaxis\":{\"backgroundcolor\":\"#E5ECF6\",\"gridcolor\":\"white\",\"linecolor\":\"white\",\"showbackground\":true,\"ticks\":\"\",\"zerolinecolor\":\"white\",\"gridwidth\":2}},\"shapedefaults\":{\"line\":{\"color\":\"#2a3f5f\"}},\"annotationdefaults\":{\"arrowcolor\":\"#2a3f5f\",\"arrowhead\":0,\"arrowwidth\":1},\"geo\":{\"bgcolor\":\"white\",\"landcolor\":\"#E5ECF6\",\"subunitcolor\":\"white\",\"showland\":true,\"showlakes\":true,\"lakecolor\":\"white\"},\"title\":{\"x\":0.05},\"mapbox\":{\"style\":\"light\"}}},\"xaxis\":{\"anchor\":\"y\",\"domain\":[0.0,1.0],\"title\":{\"text\":\"date\"}},\"yaxis\":{\"anchor\":\"x\",\"domain\":[0.0,1.0],\"title\":{\"text\":\"Dominant_Topic\"}},\"coloraxis\":{\"colorbar\":{\"title\":{\"text\":\"Dominant_Topic\"}},\"colorscale\":[[0.0,\"#0d0887\"],[0.1111111111111111,\"#46039f\"],[0.2222222222222222,\"#7201a8\"],[0.3333333333333333,\"#9c179e\"],[0.4444444444444444,\"#bd3786\"],[0.5555555555555556,\"#d8576b\"],[0.6666666666666666,\"#ed7953\"],[0.7777777777777778,\"#fb9f3a\"],[0.8888888888888888,\"#fdca26\"],[1.0,\"#f0f921\"]]},\"legend\":{\"tracegroupgap\":0,\"itemsizing\":\"constant\"},\"title\":{\"text\":\"Topic Analysis\"}},                        {\"responsive\": true}                    ).then(function(){\n",
       "                            \n",
       "var gd = document.getElementById('7f390175-b132-4ca7-9177-5f425af7412d');\n",
       "var x = new MutationObserver(function (mutations, observer) {{\n",
       "        var display = window.getComputedStyle(gd).display;\n",
       "        if (!display || display === 'none') {{\n",
       "            console.log([gd, 'removed!']);\n",
       "            Plotly.purge(gd);\n",
       "            observer.disconnect();\n",
       "        }}\n",
       "}});\n",
       "\n",
       "// Listen for the removal of the full notebook cells\n",
       "var notebookContainer = gd.closest('#notebook-container');\n",
       "if (notebookContainer) {{\n",
       "    x.observe(notebookContainer, {childList: true});\n",
       "}}\n",
       "\n",
       "// Listen for the clearing of the current output cell\n",
       "var outputEl = gd.closest('.output');\n",
       "if (outputEl) {{\n",
       "    x.observe(outputEl, {childList: true});\n",
       "}}\n",
       "\n",
       "                        })                };                });            </script>        </div>"
      ]
     },
     "metadata": {},
     "output_type": "display_data"
    }
   ],
   "source": [
    "#visualization of table1\n",
    "import plotly.express as px\n",
    "fig3 = px.scatter(df_dominant_topic,\n",
    "                     x=\"date\", y=\"Dominant_Topic\", size=\"Topic_Perc_Contrib\", color=\"Dominant_Topic\",\n",
    "                      size_max=10,\n",
    "                      title=\"Topic Analysis\" )\n",
    "fig3.show()"
   ]
  },
  {
   "cell_type": "code",
   "execution_count": 160,
   "metadata": {
    "colab": {
     "base_uri": "https://localhost:8080/",
     "height": 611
    },
    "id": "GTxBGzRVE4ln",
    "outputId": "53a126ed-c19e-466e-be99-a92e7128f887"
   },
   "outputs": [
    {
     "data": {
      "text/html": [
       "<div>\n",
       "<style scoped>\n",
       "    .dataframe tbody tr th:only-of-type {\n",
       "        vertical-align: middle;\n",
       "    }\n",
       "\n",
       "    .dataframe tbody tr th {\n",
       "        vertical-align: top;\n",
       "    }\n",
       "\n",
       "    .dataframe thead th {\n",
       "        text-align: right;\n",
       "    }\n",
       "</style>\n",
       "<table border=\"1\" class=\"dataframe\">\n",
       "  <thead>\n",
       "    <tr style=\"text-align: right;\">\n",
       "      <th></th>\n",
       "      <th>Topic_Num</th>\n",
       "      <th>Topic_Perc_Contrib</th>\n",
       "      <th>Keywords</th>\n",
       "      <th>Representative Text</th>\n",
       "    </tr>\n",
       "  </thead>\n",
       "  <tbody>\n",
       "    <tr>\n",
       "      <th>0</th>\n",
       "      <td>0</td>\n",
       "      <td>0.9950</td>\n",
       "      <td>iran, nuclear, democraci, terrorist, muslim, deal, human, intern, obama, attack</td>\n",
       "      <td>[good, morn, yesterday, updat, american, peopl, immedi, step, take, increas, screen, secur, trav...</td>\n",
       "    </tr>\n",
       "    <tr>\n",
       "      <th>1</th>\n",
       "      <td>1</td>\n",
       "      <td>0.9987</td>\n",
       "      <td>militari, iran, nuclear, isil, iraq, terrorist, israel, veteran, intern, weapon</td>\n",
       "      <td>[good, morn, rosi, thank, kind, word, see, rosi, basketbal, court, treat, rosi, dear, friend, lo...</td>\n",
       "    </tr>\n",
       "    <tr>\n",
       "      <th>2</th>\n",
       "      <td>2</td>\n",
       "      <td>0.9953</td>\n",
       "      <td>obama, faith, iraq, energi, region, militari, nuclear, folk, intern, iran</td>\n",
       "      <td>[good, even, inaugur, address, commit, countri, tireless, task, combat, climat, chang, protect, ...</td>\n",
       "    </tr>\n",
       "    <tr>\n",
       "      <th>3</th>\n",
       "      <td>3</td>\n",
       "      <td>0.9993</td>\n",
       "      <td>obama, republican, energi, vote, deficit, folk, parti, insur, cost, compani</td>\n",
       "      <td>[seat, everybodi, good, morn, think, sens, question, week, term, come, busi, product, year, expe...</td>\n",
       "    </tr>\n",
       "    <tr>\n",
       "      <th>4</th>\n",
       "      <td>4</td>\n",
       "      <td>0.9992</td>\n",
       "      <td>insur, obama, governor, compani, reform, afford, folk, cost, money, republican</td>\n",
       "      <td>[hillari, clinton, thank, great, pleasur, introduc, speaker, convers, concern, health, care, thi...</td>\n",
       "    </tr>\n",
       "    <tr>\n",
       "      <th>5</th>\n",
       "      <td>5</td>\n",
       "      <td>0.9985</td>\n",
       "      <td>human, obama, school, develop, democraci, region, civil, china, freedom, citi</td>\n",
       "      <td>[presid, bush, friend, vice, presid, biden, mayor, rawl, chief, spiller, clergi, member, congres...</td>\n",
       "    </tr>\n",
       "  </tbody>\n",
       "</table>\n",
       "</div>"
      ],
      "text/plain": [
       "   Topic_Num  Topic_Perc_Contrib  \\\n",
       "0          0              0.9950   \n",
       "1          1              0.9987   \n",
       "2          2              0.9953   \n",
       "3          3              0.9993   \n",
       "4          4              0.9992   \n",
       "5          5              0.9985   \n",
       "\n",
       "                                                                          Keywords  \\\n",
       "0  iran, nuclear, democraci, terrorist, muslim, deal, human, intern, obama, attack   \n",
       "1  militari, iran, nuclear, isil, iraq, terrorist, israel, veteran, intern, weapon   \n",
       "2        obama, faith, iraq, energi, region, militari, nuclear, folk, intern, iran   \n",
       "3      obama, republican, energi, vote, deficit, folk, parti, insur, cost, compani   \n",
       "4   insur, obama, governor, compani, reform, afford, folk, cost, money, republican   \n",
       "5    human, obama, school, develop, democraci, region, civil, china, freedom, citi   \n",
       "\n",
       "                                                                                   Representative Text  \n",
       "0  [good, morn, yesterday, updat, american, peopl, immedi, step, take, increas, screen, secur, trav...  \n",
       "1  [good, morn, rosi, thank, kind, word, see, rosi, basketbal, court, treat, rosi, dear, friend, lo...  \n",
       "2  [good, even, inaugur, address, commit, countri, tireless, task, combat, climat, chang, protect, ...  \n",
       "3  [seat, everybodi, good, morn, think, sens, question, week, term, come, busi, product, year, expe...  \n",
       "4  [hillari, clinton, thank, great, pleasur, introduc, speaker, convers, concern, health, care, thi...  \n",
       "5  [presid, bush, friend, vice, presid, biden, mayor, rawl, chief, spiller, clergi, member, congres...  "
      ]
     },
     "execution_count": 160,
     "metadata": {},
     "output_type": "execute_result"
    }
   ],
   "source": [
    "#generate Table2\n",
    "pd.options.display.max_colwidth = 100\n",
    "sent_topics_sorteddf_mallet = pd.DataFrame()\n",
    "sent_topics_outdf_grpd = df_topic_sents_keywords.groupby('Dominant_Topic')\n",
    "for i, grp in sent_topics_outdf_grpd:\n",
    "    sent_topics_sorteddf_mallet = pd.concat([sent_topics_sorteddf_mallet, \n",
    "                                             grp.sort_values(['Perc_Contribution'], ascending=False).head(1)], \n",
    "                                            axis=0)   \n",
    "sent_topics_sorteddf_mallet.reset_index(drop=True, inplace=True)\n",
    "sent_topics_sorteddf_mallet.columns = ['Topic_Num', \"Topic_Perc_Contrib\", \"Keywords\", \"Representative Text\"]\n",
    "sent_topics_sorteddf_mallet.head(10)\n"
   ]
  },
  {
   "cell_type": "code",
   "execution_count": 161,
   "metadata": {
    "colab": {
     "base_uri": "https://localhost:8080/",
     "height": 281
    },
    "id": "bSAoBoF0FKGG",
    "outputId": "681d1b85-bedb-496d-ea3a-86a74f517b8a"
   },
   "outputs": [
    {
     "data": {
      "image/png": "[encoded data removed]",
      "text/plain": [
       "<Figure size 640x480 with 1 Axes>"
      ]
     },
     "metadata": {},
     "output_type": "display_data"
    }
   ],
   "source": [
    "#Frequency Table\n",
    "import matplotlib.pyplot as plt\n",
    "df_dominant_topic[\"Dominant_Topic\"].value_counts(ascending=True).plot.barh()\n",
    "plt.title(\"Frequency of topics\")\n",
    "plt.show()"
   ]
  },
  {
   "cell_type": "code",
   "execution_count": 162,
   "metadata": {
    "colab": {
     "base_uri": "https://localhost:8080/",
     "height": 484
    },
    "id": "K6T1yQxrFXx8",
    "outputId": "42a2bf42-58e7-4daf-a4c0-3bbc59254294"
   },
   "outputs": [
    {
     "name": "stderr",
     "output_type": "stream",
     "text": [
      "[nltk_data] Downloading package stopwords to /home/muddy/nltk_data...\n",
      "[nltk_data]   Package stopwords is already up-to-date!\n"
     ]
    },
    {
     "data": {
      "image/png": "[encoded data removed]",
      "text/plain": [
       "<Figure size 1000x1000 with 6 Axes>"
      ]
     },
     "metadata": {},
     "output_type": "display_data"
    }
   ],
   "source": [
    "# Wordcloud of Top N words in each topic\n",
    "warnings.filterwarnings('ignore')\n",
    "from wordcloud import WordCloud\n",
    "import matplotlib.colors as mcolors\n",
    "import matplotlib.pyplot as plt\n",
    "from nltk.corpus import stopwords\n",
    "nltk.download('stopwords')\n",
    "\n",
    "stop_words = stopwords.words('english')\n",
    "cols = [color for name, color in mcolors.TABLEAU_COLORS.items()]  \n",
    "cloud = WordCloud(stopwords=stop_words,\n",
    "                  background_color='white',\n",
    "                  width=2500,\n",
    "                  height=1800,\n",
    "                  max_words=10,\n",
    "                  colormap='tab10',\n",
    "                  color_func=lambda *args, **kwargs: cols[i],\n",
    "                  prefer_horizontal=1.0)\n",
    "topics = lda_model.show_topics(formatted=False)\n",
    "fig, axes = plt.subplots(2, 3, figsize=(10,10), sharex=True, sharey=True)\n",
    "for i, ax in enumerate(axes.flatten()):\n",
    "    fig.add_subplot(ax)\n",
    "    topic_words = dict(topics[i][1])\n",
    "    cloud.generate_from_frequencies(topic_words, max_font_size=300)\n",
    "    plt.gca().imshow(cloud)\n",
    "    plt.gca().set_title('Topic ' + str(i), fontdict=dict(size=16))\n",
    "    plt.gca().axis('off')\n",
    "plt.subplots_adjust(wspace=0, hspace=0)\n",
    "plt.axis('off')\n",
    "plt.margins(x=0, y=0)\n",
    "plt.tight_layout()\n",
    "plt.show()\n"
   ]
  },
  {
   "cell_type": "code",
   "execution_count": 163,
   "metadata": {
    "id": "-EIwvWT5J-1s"
   },
   "outputs": [],
   "source": [
    "%%capture --no-display\n",
    "!pip install pyLDAvis"
   ]
  },
  {
   "cell_type": "code",
   "execution_count": 164,
   "metadata": {
    "id": "UIuKSHg4J5le"
   },
   "outputs": [
    {
     "name": "stderr",
     "output_type": "stream",
     "text": [
      "/home/muddy/.local/lib/python3.10/site-packages/past/builtins/misc.py:45: DeprecationWarning: the imp module is deprecated in favour of importlib and slated for removal in Python 3.12; see the module's documentation for alternative uses\n",
      "  from imp import reload\n",
      "/home/muddy/.local/lib/python3.10/site-packages/past/builtins/misc.py:45: DeprecationWarning: the imp module is deprecated in favour of importlib and slated for removal in Python 3.12; see the module's documentation for alternative uses\n",
      "  from imp import reload\n",
      "/home/muddy/.local/lib/python3.10/site-packages/past/builtins/misc.py:45: DeprecationWarning: the imp module is deprecated in favour of importlib and slated for removal in Python 3.12; see the module's documentation for alternative uses\n",
      "  from imp import reload\n",
      "/home/muddy/.local/lib/python3.10/site-packages/past/builtins/misc.py:45: DeprecationWarning: the imp module is deprecated in favour of importlib and slated for removal in Python 3.12; see the module's documentation for alternative uses\n",
      "  from imp import reload\n"
     ]
    }
   ],
   "source": [
    "#PYLDAvis\n",
    "import pyLDAvis\n",
    "import pyLDAvis.gensim_models\n",
    "pyLDAvis.enable_notebook()\n",
    "vis = pyLDAvis.gensim_models.prepare(lda_model,bow_corpus,dictionary=lda_model.id2word)\n",
    "warnings.filterwarnings('ignore')"
   ]
  },
  {
   "cell_type": "code",
   "execution_count": 87,
   "metadata": {},
   "outputs": [
    {
     "data": {
      "text/html": [
       "\n",
       "<link rel=\"stylesheet\" type=\"text/css\" href=\"https://cdn.jsdelivr.net/gh/bmabey/pyLDAvis@3.3.1/pyLDAvis/js/ldavis.v1.0.0.css\">\n",
       "\n",
       "\n",
       "<div id=\"ldavis_el203221398961387513766444640879\"></div>\n",
       "<script type=\"text/javascript\">\n",
       "\n",
       "var ldavis_el203221398961387513766444640879_data = {\"mdsDat\": {\"x\": [-0.023534615877650548, 0.024394407554888312, 0.0008038495279923878, 0.00597178008807189, 0.0006308285213668256, -0.008266249814668874], \"y\": [0.0027348310682304743, -0.0010806366309913708, -0.017426108838185832, 0.023715127471647706, -0.011526194024721798, 0.0035829809540208], \"topics\": [1, 2, 3, 4, 5, 6], \"cluster\": [1, 1, 1, 1, 1, 1], \"Freq\": [27.058229209713115, 23.833769027462733, 16.599453249285997, 12.090917823381258, 11.751475343606959, 8.666155346549942]}, \"tinfo\": {\"Term\": [\"iran\", \"governor\", \"nuclear\", \"obama\", \"iraq\", \"deal\", \"militari\", \"israel\", \"insur\", \"isil\", \"school\", \"muslim\", \"iraqi\", \"percent\", \"weapon\", \"folk\", \"colleg\", \"citi\", \"faith\", \"terrorist\", \"afghanistan\", \"father\", \"immigr\", \"sanction\", \"elect\", \"stori\", \"troop\", \"kid\", \"region\", \"republican\", \"insur\", \"african\", \"afford\", \"phone\", \"buy\", \"cover\", \"africa\", \"compani\", \"folk\", \"sick\", \"owner\", \"privat\", \"consum\", \"senior\", \"price\", \"profit\", \"employ\", \"inform\", \"background\", \"legisl\", \"lower\", \"healthi\", \"check\", \"stuff\", \"hire\", \"congression\", \"cost\", \"advoc\", \"biggest\", \"propos\", \"intellig\", \"republican\", \"rat\", \"debat\", \"actual\", \"number\", \"reform\", \"percent\", \"elect\", \"obama\", \"pay\", \"small\", \"class\", \"technolog\", \"middl\", \"benefit\", \"money\", \"vote\", \"energi\", \"program\", \"governor\", \"deficit\", \"senat\", \"democraci\", \"deal\", \"islam\", \"isil\", \"mutual\", \"qaeda\", \"extremist\", \"europ\", \"forg\", \"global\", \"pacif\", \"muslim\", \"empow\", \"asia\", \"territori\", \"commerc\", \"partnership\", \"reaffirm\", \"alli\", \"regim\", \"afghan\", \"deepen\", \"uphold\", \"allianc\", \"tie\", \"defeat\", \"toler\", \"terrorist\", \"firm\", \"seek\", \"religi\", \"remov\", \"china\", \"region\", \"human\", \"develop\", \"institut\", \"intern\", \"freedom\", \"terror\", \"cooper\", \"iraq\", \"kill\", \"prosper\", \"weapon\", \"afghanistan\", \"democraci\", \"troop\", \"strengthen\", \"threat\", \"russia\", \"reform\", \"energi\", \"militari\", \"nuclear\", \"faith\", \"rule\", \"civil\", \"trade\", \"obama\", \"attack\", \"king\", \"father\", \"kennedi\", \"soldier\", \"hero\", \"march\", \"wound\", \"pray\", \"shake\", \"mother\", \"prayer\", \"distinguish\", \"brother\", \"teach\", \"duti\", \"forev\", \"west\", \"stori\", \"tear\", \"enemi\", \"grate\", \"gather\", \"memori\", \"charact\", \"honor\", \"fellow\", \"name\", \"legaci\", \"post\", \"celebr\", \"justic\", \"black\", \"parent\", \"bless\", \"school\", \"heart\", \"morn\", \"earn\", \"veteran\", \"endur\", \"faith\", \"student\", \"fear\", \"dream\", \"white\", \"freedom\", \"courag\", \"vote\", \"child\", \"welcom\", \"remind\", \"citi\", \"choos\", \"obama\", \"promis\", \"join\", \"intern\", \"democraci\", \"human\", \"senat\", \"interest\", \"folk\", \"centuri\", \"militari\", \"energi\", \"program\", \"worker\", \"republican\", \"iran\", \"iraqi\", \"israel\", \"sanction\", \"minist\", \"nuclear\", \"facil\", \"deal\", \"iraq\", \"prime\", \"altern\", \"diplomat\", \"militari\", \"resolut\", \"negoti\", \"weapon\", \"agreement\", \"bomb\", \"east\", \"command\", \"activ\", \"troop\", \"arm\", \"pressur\", \"diplomaci\", \"violat\", \"consequ\", \"seven\", \"object\", \"regim\", \"civilian\", \"defens\", \"budget\", \"strategi\", \"threat\", \"posit\", \"governor\", \"program\", \"obama\", \"intern\", \"region\", \"concern\", \"middl\", \"afghanistan\", \"percent\", \"cost\", \"actual\", \"energi\", \"veteran\", \"compani\", \"number\", \"money\", \"terrorist\", \"folk\", \"decis\", \"muslim\", \"church\", \"immigr\", \"religi\", \"space\", \"religion\", \"discrimin\", \"flag\", \"prayer\", \"faith\", \"sort\", \"comfort\", \"black\", \"societi\", \"girl\", \"lack\", \"european\", \"court\", \"process\", \"real\", \"pray\", \"depart\", \"happi\", \"arriv\", \"assum\", \"note\", \"contribut\", \"profession\", \"overcom\", \"civil\", \"polic\", \"game\", \"russia\", \"group\", \"organ\", \"belief\", \"obama\", \"law\", \"democraci\", \"human\", \"case\", \"recogn\", \"white\", \"stay\", \"polici\", \"school\", \"move\", \"elect\", \"parti\", \"attack\", \"rule\", \"decis\", \"number\", \"stori\", \"reform\", \"isil\", \"terrorist\", \"administr\", \"region\", \"republican\", \"develop\", \"freedom\", \"folk\", \"actual\", \"worker\", \"militari\", \"biden\", \"governor\", \"tax\", \"disast\", \"unemploy\", \"mayor\", \"trillion\", \"speaker\", \"minut\", \"rat\", \"colleg\", \"citi\", \"incred\", \"drug\", \"polic\", \"outstand\", \"importantli\", \"finish\", \"vice\", \"couldn\", \"tragedi\", \"fine\", \"hello\", \"percent\", \"local\", \"uniform\", \"feder\", \"rais\", \"train\", \"coupl\", \"cut\", \"afghan\", \"school\", \"senat\", \"afghanistan\", \"kid\", \"obama\", \"militari\", \"republican\", \"elect\", \"proud\", \"violenc\", \"money\", \"folk\", \"class\", \"terrorist\", \"deal\", \"deficit\", \"polici\", \"vote\", \"isil\", \"iraq\", \"program\", \"actual\", \"reduc\", \"insur\", \"reform\", \"energi\", \"small\"], \"Freq\": [823.0, 588.0, 917.0, 1735.0, 762.0, 894.0, 929.0, 483.0, 1099.0, 637.0, 841.0, 397.0, 270.0, 698.0, 694.0, 949.0, 541.0, 545.0, 630.0, 741.0, 537.0, 375.0, 514.0, 298.0, 794.0, 591.0, 485.0, 522.0, 806.0, 957.0, 730.9260416647646, 200.7650557921187, 380.04266312364905, 81.03733108235309, 57.41386898282544, 98.67702344416844, 245.29425635902862, 488.69975103030293, 469.7444297130181, 87.01259444559801, 77.01172087075807, 174.10814179479823, 124.951355373546, 103.33214474771255, 125.81427980562535, 75.46434046868849, 93.24578210947548, 267.01304670003896, 89.60625103088215, 126.09703799393904, 108.67188742297263, 47.41565758814288, 101.52157081860425, 78.21375822199748, 95.5209458574103, 44.4003014267749, 336.7733196255387, 44.3264062367259, 68.97276380409183, 179.03295455032145, 206.13100282650186, 418.8500981627145, 96.79744549032988, 231.88861976462226, 284.5820810198665, 293.8091659402634, 391.14036279960317, 280.70043331985914, 314.1096601117466, 623.8414358411317, 209.65150767273317, 249.90879122958162, 246.85327001580958, 229.05278354774285, 262.8450807364778, 181.08688167565057, 238.6276216584024, 244.53321939001404, 301.97720723947214, 268.9489715084512, 213.07067639498553, 199.08397566173085, 207.38948942385952, 229.70675046628565, 215.57424417364203, 102.95901660953041, 340.62233498100846, 75.6730345609072, 190.14409991583923, 81.68462215324698, 167.72875585963817, 93.64146620501755, 328.319363269792, 95.398876999046, 173.94674629008853, 54.09684420328776, 144.59346127666203, 58.514132733198636, 50.4165243226314, 167.08724271270503, 41.99819402698423, 226.60024835187266, 93.69773770580458, 110.97677235408129, 38.62406506624958, 94.66190141211415, 90.07066449862134, 55.39006194514518, 72.47948293443899, 56.875276438146784, 297.5125238538388, 50.02800051704948, 201.69709483281588, 57.484432258033856, 51.11422918706232, 202.0350707214043, 315.64103546455743, 353.6639195710056, 299.9370478241314, 157.6350319913045, 309.1102390388555, 276.3275491206035, 161.23252294237184, 180.0374580923255, 271.44192574515836, 172.6652879112978, 202.50837294390368, 238.16202636834336, 192.82484618511674, 287.2105447875486, 176.55674212600073, 162.50690489029057, 208.58541752180943, 167.1843008184886, 279.84400800050923, 270.3842352108239, 263.3566455871985, 256.1336632193781, 205.04580067499128, 198.56394262514337, 184.75914415256943, 178.92415513654993, 237.07608561193953, 186.13671711302743, 95.6615169958186, 176.88193038541368, 70.60211061232651, 99.43818313927868, 37.17556681653405, 84.13941311655852, 61.03072889770699, 47.371682621404545, 32.78420720666657, 89.52534290407355, 49.490326730431704, 27.26813102683856, 71.00508365752829, 102.39352818508294, 46.49724961937509, 25.931766513707835, 95.66540181851842, 201.5813238712464, 44.752949731549165, 57.554493874901965, 66.55378229641379, 61.02478086693152, 65.37886985503899, 37.97541025635318, 152.31148982024362, 89.62115886693103, 42.294958628702354, 51.84026274616899, 38.24943521276132, 50.48394744581494, 168.84734394314282, 87.43599441697302, 126.88732564370508, 150.40469900882042, 237.65132281478435, 126.70075751673318, 75.08246600191616, 81.33170099708543, 127.33856422864379, 78.75487007545497, 153.67860917974792, 153.34090018952932, 112.07946385065685, 106.20560226479212, 116.91197068699465, 156.41743817433465, 91.43111902300053, 144.43895460148832, 99.21654530688974, 104.44324568240249, 95.33683472450386, 115.51103790802104, 105.20669065282144, 173.33433348891012, 111.862735197202, 103.7081734469255, 128.31564545633861, 129.5864849935586, 128.2789619066657, 113.25537648892079, 113.6220187108888, 126.9303196143307, 112.79812705890923, 122.12276454966188, 120.09287704283992, 116.10508721399937, 111.78235222402515, 114.60639606081835, 424.284469213013, 124.01183940479171, 179.5573768494209, 110.27415732527392, 90.40618664245842, 313.54889170994295, 44.280520447433915, 273.6310627223591, 231.11243783270015, 69.01742004688069, 25.31576012385927, 52.94664559060893, 232.69828109509342, 36.51090630033436, 78.97046698582126, 169.98572375801402, 97.01422589115793, 43.269562437220245, 62.86985071169854, 63.2277483950651, 45.9635616675569, 107.44599485676308, 66.88789891512235, 35.744264755691944, 33.510260306733265, 26.324991820633155, 53.275792500296454, 27.69708545175589, 22.746812153112522, 45.86728933762466, 52.74139906488479, 65.75681694157912, 77.93677654236082, 75.55280983171893, 120.73541263949981, 69.68682139982545, 104.06469411006734, 135.07010001190878, 245.1092534615435, 134.26334675620993, 125.87848224206667, 86.88645702682597, 110.48591844055368, 91.70914678755136, 104.9175668587629, 108.22296612606554, 102.71374209939876, 121.1417034111375, 83.84031097175803, 120.46115932964972, 103.7645232218879, 97.95537467185467, 102.08247801950895, 107.62482051603985, 91.19010539948796, 132.17516093278158, 43.15074327706718, 131.28742336970882, 36.92219291189003, 42.07788479291562, 49.08758058875604, 26.535459892862175, 21.012806611737336, 27.78813893837467, 131.15078731383883, 37.24459297862711, 21.42368283472009, 56.753139030705405, 104.16809439046801, 53.77019783392376, 15.522665282170086, 28.265828085532583, 57.662166970599074, 105.36073176837942, 72.02136994296599, 22.846707129287296, 40.28391399397597, 34.22067875267436, 23.089824145129963, 14.296672752526549, 18.38916275829606, 36.86022368526924, 18.903508023386642, 19.582773322615814, 100.12227286332444, 43.36032213424328, 32.59324426406994, 80.51916524684424, 80.50606400275295, 87.66852440952613, 43.348082904123544, 270.3284024409618, 58.23433216489981, 138.10353203582136, 142.47451754751555, 75.85059335630805, 88.27666158368689, 77.78946801972569, 60.04166760108871, 100.0839474484945, 117.70331462675257, 64.36439401313804, 110.30507971600147, 88.19161637987555, 93.29846080251383, 90.56857885811566, 87.50549430681323, 95.51502710962075, 84.17767568691755, 112.41300489717132, 86.90811178315457, 92.80120188578772, 79.03239638735771, 95.52734843630921, 95.82103522813709, 85.22005581993248, 84.55575091000702, 88.53104464324095, 82.17356161689186, 81.44198541028257, 82.31679960516293, 28.924945007704558, 159.50224165494478, 49.92078808019064, 24.141748314034302, 37.850636647156286, 29.55482481532741, 40.126508343259495, 28.207427664702042, 21.502456187546045, 40.60927787337923, 99.03234728816939, 95.86088814105149, 37.1498315079444, 36.324914606242096, 37.60516527528271, 38.24148527253235, 14.142575697331631, 20.575447270808183, 17.880290976916847, 28.793474830352668, 29.367042709640693, 12.875882724785015, 13.95979463979811, 103.72513411257833, 41.423400583380385, 27.463508823605526, 60.98245071989282, 66.62700322602095, 72.75733724284632, 35.41137635640868, 64.11300343732485, 38.20167617245387, 114.15629386324841, 81.06203366059981, 70.80265266152622, 67.29974447584857, 186.0827230369958, 100.8767489826489, 101.47624915702639, 87.77400786646868, 58.47305719295093, 58.80449614112351, 69.96587198708018, 87.19246858129712, 67.5485179269315, 74.0870434221232, 81.93667346779904, 60.539871201968154, 66.7483603128073, 68.00411908953045, 65.49815124904104, 70.15788701019493, 72.0610652100815, 66.13685762286215, 61.479493102698946, 71.52054334885494, 69.46719496154857, 68.02458239476059, 62.028682606525436], \"Total\": [823.0, 588.0, 917.0, 1735.0, 762.0, 894.0, 929.0, 483.0, 1099.0, 637.0, 841.0, 397.0, 270.0, 698.0, 694.0, 949.0, 541.0, 545.0, 630.0, 741.0, 537.0, 375.0, 514.0, 298.0, 794.0, 591.0, 485.0, 522.0, 806.0, 957.0, 1099.71074621797, 354.1101084802712, 699.6721888154598, 152.3023040240632, 110.20276009070103, 192.63250960888678, 487.8508516522423, 974.8722700317369, 949.846434612239, 176.14663635018533, 157.85935304322692, 358.4093845135698, 258.2254700844161, 214.472243503444, 262.1041169433379, 159.7040485570716, 197.87536116973234, 569.3045968309411, 194.2134917485308, 276.5873654553597, 239.15327588849144, 104.46849220183506, 225.14311135468333, 173.8622353781361, 212.56047151471392, 98.98937426710964, 753.0016052069394, 99.78777517733734, 155.35293726090597, 404.46929339323174, 465.7323361008112, 957.5179576916672, 220.9816273729568, 551.6265496695548, 692.8030399936833, 726.2195592300405, 1000.7482107037949, 698.0195519877796, 794.1901924747698, 1735.7722338814822, 511.8188833810858, 639.8369378123504, 633.1007967816475, 590.6280876759355, 701.0603454742984, 443.50955443496343, 655.9772601000682, 681.924765586528, 954.6865514582282, 812.7493796325402, 588.993815682332, 544.3905178598485, 598.7477115230969, 879.0275018839545, 894.3258087534273, 184.61895118155007, 637.1968501237911, 150.5784162517145, 388.0145038999189, 172.01480169361756, 364.2132055379419, 203.9824774913547, 718.4806899747213, 209.29780949709507, 397.28348503058976, 125.11228676554457, 338.0466087029545, 137.11949889471052, 118.51520449314401, 393.90139384563884, 99.42051859286804, 537.5317850928021, 222.64141599276988, 264.38399238082064, 92.28395814611578, 226.25284109279303, 219.77912464132402, 135.7342314407964, 178.3786080070123, 140.2347310377848, 741.2430946435605, 125.29570615017072, 506.96336860462594, 145.03348460363765, 129.5563140815124, 512.8110558047711, 806.3527099189089, 918.2522756228675, 782.8698210840618, 403.5579799229914, 845.2562316251403, 754.4585753062215, 423.0854360143282, 480.9090060279996, 762.7076462867761, 463.070384406686, 558.892693853801, 694.1488376251853, 537.159572182313, 879.0275018839545, 485.9824121632022, 437.93156805002354, 625.9556503659078, 461.95053848284596, 1000.7482107037949, 954.6865514582282, 929.8528429888171, 917.3476867626448, 630.7652906958613, 631.9828884632433, 560.5857912209611, 522.9857126794521, 1735.7722338814822, 653.2716199659222, 198.94799523725266, 375.8105232316951, 153.84793411326058, 222.43775858778997, 87.59262284977477, 213.23705383798483, 155.39538568816087, 121.83843295156065, 85.38689746360362, 238.90132500193576, 133.3738027629649, 74.46650896839927, 195.90958226831611, 290.6144166464667, 133.45449960265162, 75.23031481095316, 278.94189681127364, 591.9683780300152, 133.14911063515254, 173.52688958068438, 200.74023109081108, 184.65937049594663, 199.90444114931233, 116.16187029988181, 466.1383002647527, 277.2804251293991, 132.44520895977706, 162.48399840559833, 121.0305447381964, 161.45079149214658, 554.0824896612465, 285.8736736998711, 424.4242549087889, 509.73644027665455, 841.9771999876739, 426.03404254523866, 245.51016666590561, 270.44829149969297, 476.9259808313481, 262.3782180716246, 630.7652906958613, 636.6498835262761, 432.5487170763469, 408.16195660254294, 481.0750797983409, 754.4585753062215, 333.211315332051, 681.924765586528, 381.4681209179023, 431.27235353496906, 363.47718110078887, 545.8124152419546, 459.3726378551528, 1735.7722338814822, 560.2418096893844, 454.0594401550897, 845.2562316251403, 879.0275018839545, 918.2522756228675, 598.7477115230969, 606.2736958605208, 949.846434612239, 608.92837629887, 929.8528429888171, 954.6865514582282, 812.7493796325402, 650.5427969551746, 957.5179576916672, 823.663423564076, 270.7659168151731, 483.5062472950631, 298.1732892410128, 253.44031438585165, 917.3476867626448, 136.90969600102605, 894.3258087534273, 762.7076462867761, 236.84852811868487, 95.82933173692233, 205.97521334530927, 929.8528429888171, 145.98871016572178, 317.38290017240126, 694.1488376251853, 404.2210264202602, 181.75268386239634, 275.6828687917754, 279.1492745151737, 205.77126171342644, 485.9824121632022, 309.4293790658296, 165.98519773349048, 156.1266563982972, 122.91408346059671, 249.69765875464645, 132.68351139804975, 110.33913619451984, 222.64141599276988, 256.64815159394925, 321.4484458741905, 385.4102690539607, 375.7131639373626, 625.9556503659078, 356.8259137251743, 588.993815682332, 812.7493796325402, 1735.7722338814822, 845.2562316251403, 806.3527099189089, 488.0556722761335, 701.0603454742984, 537.159572182313, 698.0195519877796, 753.0016052069394, 692.8030399936833, 954.6865514582282, 476.9259808313481, 974.8722700317369, 726.2195592300405, 655.9772601000682, 741.2430946435605, 949.846434612239, 602.8342188550947, 397.28348503058976, 157.4152054866255, 514.8626092739366, 145.03348460363765, 175.2440761081869, 215.37245567159525, 116.91430062143232, 92.59805414327228, 133.3738027629649, 630.7652906958613, 180.5151263541502, 105.0494971161794, 285.8736736998711, 526.3465725243395, 272.532397391642, 78.7628048564734, 145.48569518730963, 298.81245692345186, 546.343888372739, 381.80933047641054, 121.83843295156065, 215.54393867198917, 184.05705080448305, 126.69369640011433, 78.58127836639012, 101.48913039656068, 204.4977051308435, 105.44064670690649, 109.62111647365536, 560.5857912209611, 243.54160082656674, 182.74199552476387, 461.95053848284596, 464.08223465131204, 513.6989232466747, 246.9577584148034, 1735.7722338814822, 340.0326900982841, 879.0275018839545, 918.2522756228675, 459.2192788987833, 554.7515573288553, 481.0750797983409, 354.4187140334229, 655.6699732964531, 841.9771999876739, 390.62395193614907, 794.1901924747698, 592.8706727327053, 653.2716199659222, 631.9828884632433, 602.8342188550947, 726.2195592300405, 591.9683780300152, 1000.7482107037949, 637.1968501237911, 741.2430946435605, 541.8577049776477, 806.3527099189089, 957.5179576916672, 782.8698210840618, 754.4585753062215, 949.846434612239, 692.8030399936833, 650.5427969551746, 929.8528429888171, 105.41094106320796, 588.993815682332, 245.96288878164538, 119.98434615454356, 191.58134467138657, 151.7395586756596, 215.186165297497, 151.36008682392304, 116.11240635288881, 220.9816273729568, 541.9094858924182, 545.8124152419546, 225.19094272153666, 220.41041071709896, 243.54160082656674, 247.66393179477112, 91.61780575894508, 133.53796872440185, 116.05181937890433, 187.91258420742653, 193.40101585933078, 85.68176771547229, 93.60554196841376, 698.0195519877796, 278.8500202221163, 184.95582506233947, 413.7999576452137, 452.40389612097624, 495.0380130451766, 242.0414889747023, 444.6431564700558, 264.38399238082064, 841.9771999876739, 598.7477115230969, 537.159572182313, 522.4902066235094, 1735.7722338814822, 929.8528429888171, 957.5179576916672, 794.1901924747698, 477.259863518816, 490.8123934310004, 655.9772601000682, 949.846434612239, 633.1007967816475, 741.2430946435605, 894.3258087534273, 544.3905178598485, 655.6699732964531, 681.924765586528, 637.1968501237911, 762.7076462867761, 812.7493796325402, 692.8030399936833, 579.1950452988646, 1099.71074621797, 1000.7482107037949, 954.6865514582282, 639.8369378123504], \"Category\": [\"Default\", \"Default\", \"Default\", \"Default\", \"Default\", \"Default\", \"Default\", \"Default\", \"Default\", \"Default\", \"Default\", \"Default\", \"Default\", \"Default\", \"Default\", \"Default\", \"Default\", \"Default\", \"Default\", \"Default\", \"Default\", \"Default\", \"Default\", \"Default\", \"Default\", \"Default\", \"Default\", \"Default\", \"Default\", \"Default\", \"Topic1\", \"Topic1\", \"Topic1\", \"Topic1\", \"Topic1\", \"Topic1\", \"Topic1\", \"Topic1\", \"Topic1\", \"Topic1\", \"Topic1\", \"Topic1\", \"Topic1\", \"Topic1\", \"Topic1\", \"Topic1\", \"Topic1\", \"Topic1\", \"Topic1\", \"Topic1\", \"Topic1\", \"Topic1\", \"Topic1\", \"Topic1\", \"Topic1\", \"Topic1\", \"Topic1\", \"Topic1\", \"Topic1\", \"Topic1\", \"Topic1\", \"Topic1\", \"Topic1\", \"Topic1\", \"Topic1\", \"Topic1\", \"Topic1\", \"Topic1\", \"Topic1\", \"Topic1\", \"Topic1\", \"Topic1\", \"Topic1\", \"Topic1\", \"Topic1\", \"Topic1\", \"Topic1\", \"Topic1\", \"Topic1\", \"Topic1\", \"Topic1\", \"Topic1\", \"Topic1\", \"Topic1\", \"Topic1\", \"Topic2\", \"Topic2\", \"Topic2\", \"Topic2\", \"Topic2\", \"Topic2\", \"Topic2\", \"Topic2\", \"Topic2\", \"Topic2\", \"Topic2\", \"Topic2\", \"Topic2\", \"Topic2\", \"Topic2\", \"Topic2\", \"Topic2\", \"Topic2\", \"Topic2\", \"Topic2\", \"Topic2\", \"Topic2\", \"Topic2\", \"Topic2\", \"Topic2\", \"Topic2\", \"Topic2\", \"Topic2\", \"Topic2\", \"Topic2\", \"Topic2\", \"Topic2\", \"Topic2\", \"Topic2\", \"Topic2\", \"Topic2\", \"Topic2\", \"Topic2\", \"Topic2\", \"Topic2\", \"Topic2\", \"Topic2\", \"Topic2\", \"Topic2\", \"Topic2\", \"Topic2\", \"Topic2\", \"Topic2\", \"Topic2\", \"Topic2\", \"Topic2\", \"Topic2\", \"Topic2\", \"Topic2\", \"Topic2\", \"Topic2\", \"Topic2\", \"Topic2\", \"Topic2\", \"Topic3\", \"Topic3\", \"Topic3\", \"Topic3\", \"Topic3\", \"Topic3\", \"Topic3\", \"Topic3\", \"Topic3\", \"Topic3\", \"Topic3\", \"Topic3\", \"Topic3\", \"Topic3\", \"Topic3\", \"Topic3\", \"Topic3\", \"Topic3\", \"Topic3\", \"Topic3\", \"Topic3\", \"Topic3\", \"Topic3\", \"Topic3\", \"Topic3\", \"Topic3\", \"Topic3\", \"Topic3\", \"Topic3\", \"Topic3\", \"Topic3\", \"Topic3\", \"Topic3\", \"Topic3\", \"Topic3\", \"Topic3\", \"Topic3\", \"Topic3\", \"Topic3\", \"Topic3\", \"Topic3\", \"Topic3\", \"Topic3\", \"Topic3\", \"Topic3\", \"Topic3\", \"Topic3\", \"Topic3\", \"Topic3\", \"Topic3\", \"Topic3\", \"Topic3\", \"Topic3\", \"Topic3\", \"Topic3\", \"Topic3\", \"Topic3\", \"Topic3\", \"Topic3\", \"Topic3\", \"Topic3\", \"Topic3\", \"Topic3\", \"Topic3\", \"Topic3\", \"Topic3\", \"Topic3\", \"Topic3\", \"Topic4\", \"Topic4\", \"Topic4\", \"Topic4\", \"Topic4\", \"Topic4\", \"Topic4\", \"Topic4\", \"Topic4\", \"Topic4\", \"Topic4\", \"Topic4\", \"Topic4\", \"Topic4\", \"Topic4\", \"Topic4\", \"Topic4\", \"Topic4\", \"Topic4\", \"Topic4\", \"Topic4\", \"Topic4\", \"Topic4\", \"Topic4\", \"Topic4\", \"Topic4\", \"Topic4\", \"Topic4\", \"Topic4\", \"Topic4\", \"Topic4\", \"Topic4\", \"Topic4\", \"Topic4\", \"Topic4\", \"Topic4\", \"Topic4\", \"Topic4\", \"Topic4\", \"Topic4\", \"Topic4\", \"Topic4\", \"Topic4\", \"Topic4\", \"Topic4\", \"Topic4\", \"Topic4\", \"Topic4\", \"Topic4\", \"Topic4\", \"Topic4\", \"Topic4\", \"Topic4\", \"Topic4\", \"Topic4\", \"Topic5\", \"Topic5\", \"Topic5\", \"Topic5\", \"Topic5\", \"Topic5\", \"Topic5\", \"Topic5\", \"Topic5\", \"Topic5\", \"Topic5\", \"Topic5\", \"Topic5\", \"Topic5\", \"Topic5\", \"Topic5\", \"Topic5\", \"Topic5\", \"Topic5\", \"Topic5\", \"Topic5\", \"Topic5\", \"Topic5\", \"Topic5\", \"Topic5\", \"Topic5\", \"Topic5\", \"Topic5\", \"Topic5\", \"Topic5\", \"Topic5\", \"Topic5\", \"Topic5\", \"Topic5\", \"Topic5\", \"Topic5\", \"Topic5\", \"Topic5\", \"Topic5\", \"Topic5\", \"Topic5\", \"Topic5\", \"Topic5\", \"Topic5\", \"Topic5\", \"Topic5\", \"Topic5\", \"Topic5\", \"Topic5\", \"Topic5\", \"Topic5\", \"Topic5\", \"Topic5\", \"Topic5\", \"Topic5\", \"Topic5\", \"Topic5\", \"Topic5\", \"Topic5\", \"Topic5\", \"Topic5\", \"Topic5\", \"Topic5\", \"Topic5\", \"Topic5\", \"Topic5\", \"Topic6\", \"Topic6\", \"Topic6\", \"Topic6\", \"Topic6\", \"Topic6\", \"Topic6\", \"Topic6\", \"Topic6\", \"Topic6\", \"Topic6\", \"Topic6\", \"Topic6\", \"Topic6\", \"Topic6\", \"Topic6\", \"Topic6\", \"Topic6\", \"Topic6\", \"Topic6\", \"Topic6\", \"Topic6\", \"Topic6\", \"Topic6\", \"Topic6\", \"Topic6\", \"Topic6\", \"Topic6\", \"Topic6\", \"Topic6\", \"Topic6\", \"Topic6\", \"Topic6\", \"Topic6\", \"Topic6\", \"Topic6\", \"Topic6\", \"Topic6\", \"Topic6\", \"Topic6\", \"Topic6\", \"Topic6\", \"Topic6\", \"Topic6\", \"Topic6\", \"Topic6\", \"Topic6\", \"Topic6\", \"Topic6\", \"Topic6\", \"Topic6\", \"Topic6\", \"Topic6\", \"Topic6\", \"Topic6\", \"Topic6\", \"Topic6\", \"Topic6\", \"Topic6\"], \"logprob\": [30.0, 29.0, 28.0, 27.0, 26.0, 25.0, 24.0, 23.0, 22.0, 21.0, 20.0, 19.0, 18.0, 17.0, 16.0, 15.0, 14.0, 13.0, 12.0, 11.0, 10.0, 9.0, 8.0, 7.0, 6.0, 5.0, 4.0, 3.0, 2.0, 1.0, -4.5279, -5.8201, -5.1819, -6.7273, -7.0719, -6.5303, -5.6197, -4.9305, -4.97, -6.6561, -6.7782, -5.9625, -6.2943, -6.4843, -6.2874, -6.7985, -6.587, -5.5349, -6.6268, -6.2851, -6.4339, -7.2632, -6.5019, -6.7628, -6.5629, -7.329, -5.3028, -7.3306, -6.8885, -5.9346, -5.7937, -5.0847, -6.5496, -5.6759, -5.4712, -5.4393, -5.1531, -5.4849, -5.3725, -4.6863, -5.7768, -5.6011, -5.6134, -5.6882, -5.5506, -5.9232, -5.6473, -5.6229, -5.4118, -5.5277, -5.7606, -5.8285, -5.7876, -5.6854, -5.7489, -6.361, -5.1645, -6.6689, -5.7475, -6.5924, -5.873, -6.4558, -5.2013, -6.4372, -5.8366, -7.0045, -6.0214, -6.926, -7.075, -5.8768, -7.2577, -5.5721, -6.4552, -6.286, -7.3414, -6.445, -6.4947, -6.9809, -6.712, -6.9545, -5.2999, -7.0827, -5.6885, -6.9438, -7.0613, -5.6869, -5.2407, -5.127, -5.2917, -5.935, -5.2616, -5.3737, -5.9125, -5.8021, -5.3916, -5.844, -5.6845, -5.5224, -5.7335, -5.3351, -5.8217, -5.9046, -5.655, -5.8762, -5.3611, -5.3955, -5.4218, -5.4496, -5.6721, -5.7042, -5.7763, -5.8084, -5.5269, -5.7688, -6.0728, -5.4581, -6.3765, -6.034, -7.0179, -6.2011, -6.5222, -6.7756, -7.1436, -6.1391, -6.7318, -7.3279, -6.3708, -6.0048, -6.7942, -7.3781, -6.0727, -5.3274, -6.8324, -6.5808, -6.4356, -6.5223, -6.4534, -6.9966, -5.6077, -6.138, -6.8889, -6.6854, -6.9895, -6.7119, -5.5046, -6.1627, -5.7903, -5.6203, -5.1628, -5.7918, -6.315, -6.235, -5.7867, -6.2672, -5.5987, -5.6009, -5.9144, -5.9682, -5.8722, -5.5811, -6.118, -5.6607, -6.0363, -5.9849, -6.0762, -5.8842, -5.9777, -5.4784, -5.9163, -5.992, -5.7791, -5.7692, -5.7794, -5.9039, -5.9007, -5.7899, -5.908, -5.8286, -5.8453, -5.8791, -5.917, -5.8921, -4.2663, -5.4963, -5.1262, -5.6137, -5.8124, -4.5687, -6.5261, -4.7049, -4.8738, -6.0823, -7.0852, -6.3474, -4.8669, -6.7191, -5.9476, -5.181, -5.7418, -6.5492, -6.1756, -6.1699, -6.4888, -5.6397, -6.1136, -6.7403, -6.8048, -7.0461, -6.3412, -6.9953, -7.1922, -6.4909, -6.3513, -6.1307, -5.9608, -5.9918, -5.5231, -6.0727, -5.6717, -5.4109, -4.815, -5.4169, -5.4813, -5.8521, -5.6118, -5.798, -5.6635, -5.6325, -5.6847, -5.5197, -5.8878, -5.5253, -5.6745, -5.7322, -5.6909, -5.638, -5.8037, -5.4041, -6.5235, -5.4108, -6.6794, -6.5487, -6.3946, -7.0097, -7.2431, -6.9636, -5.4118, -6.6707, -7.2237, -6.2495, -5.6422, -6.3035, -7.5459, -6.9465, -6.2336, -5.6308, -6.0112, -7.1594, -6.5922, -6.7554, -7.1488, -7.6282, -7.3764, -6.6811, -7.3488, -7.3135, -5.6818, -6.5186, -6.8041, -5.8997, -5.8999, -5.8146, -6.5189, -4.6886, -6.2237, -5.3602, -5.329, -5.9594, -5.8077, -5.9342, -6.1932, -5.6822, -5.52, -6.1236, -5.5849, -5.8087, -5.7524, -5.7821, -5.8165, -5.7289, -5.8553, -5.566, -5.8233, -5.7577, -5.9183, -5.7288, -5.7257, -5.843, -5.8508, -5.8048, -5.8794, -5.8883, -5.8776, -6.6189, -4.9116, -6.0732, -6.7997, -6.35, -6.5974, -6.2916, -6.644, -6.9155, -6.2796, -5.3882, -5.4207, -6.3687, -6.3911, -6.3565, -6.3397, -7.3344, -6.9595, -7.0999, -6.6235, -6.6038, -7.4283, -7.3475, -5.3419, -6.2598, -6.6708, -5.873, -5.7845, -5.6965, -6.4166, -5.823, -6.3408, -5.2461, -5.5884, -5.7237, -5.7745, -4.7574, -5.3697, -5.3638, -5.5089, -5.9151, -5.9094, -5.7356, -5.5155, -5.7708, -5.6784, -5.5777, -5.8803, -5.7827, -5.7641, -5.8016, -5.7329, -5.7061, -5.7919, -5.8649, -5.7137, -5.7428, -5.7638, -5.856], \"loglift\": [30.0, 29.0, 28.0, 27.0, 26.0, 25.0, 24.0, 23.0, 22.0, 21.0, 20.0, 19.0, 18.0, 17.0, 16.0, 15.0, 14.0, 13.0, 12.0, 11.0, 10.0, 9.0, 8.0, 7.0, 6.0, 5.0, 4.0, 3.0, 2.0, 1.0, 0.8987, 0.7397, 0.6969, 0.6762, 0.6551, 0.6382, 0.6196, 0.6166, 0.6031, 0.6019, 0.5894, 0.5852, 0.5813, 0.5769, 0.5732, 0.5575, 0.5548, 0.5501, 0.5336, 0.5217, 0.5184, 0.5172, 0.5107, 0.5084, 0.5073, 0.5054, 0.5025, 0.4957, 0.4952, 0.4922, 0.4921, 0.4803, 0.4817, 0.4406, 0.4175, 0.4023, 0.3677, 0.3962, 0.3796, 0.2839, 0.4147, 0.3671, 0.3653, 0.3599, 0.3261, 0.4114, 0.296, 0.2816, 0.1561, 0.2013, 0.2904, 0.3012, 0.2469, -0.0348, -0.1156, 0.8501, 0.8078, 0.746, 0.7208, 0.6894, 0.6587, 0.6555, 0.6509, 0.6484, 0.6082, 0.5956, 0.5848, 0.5825, 0.5793, 0.5765, 0.5723, 0.5703, 0.5686, 0.566, 0.5631, 0.5627, 0.542, 0.5378, 0.5335, 0.5316, 0.5212, 0.516, 0.5124, 0.5086, 0.504, 0.5026, 0.4962, 0.4799, 0.4747, 0.494, 0.4281, 0.4297, 0.4693, 0.4516, 0.4009, 0.4475, 0.4189, 0.3643, 0.4096, 0.3155, 0.4215, 0.4427, 0.3351, 0.4177, 0.1598, 0.1725, 0.1725, 0.1583, 0.3104, 0.2763, 0.3241, 0.3615, -0.5568, 0.1786, 1.0636, 1.0422, 1.0169, 0.9907, 0.9388, 0.8659, 0.8612, 0.8511, 0.8386, 0.8143, 0.8044, 0.7912, 0.7809, 0.7526, 0.7414, 0.7307, 0.7257, 0.7185, 0.7055, 0.6922, 0.6918, 0.6886, 0.6782, 0.6778, 0.6772, 0.6664, 0.6543, 0.6534, 0.6439, 0.6333, 0.6075, 0.6112, 0.5884, 0.5752, 0.5309, 0.5831, 0.611, 0.5943, 0.4753, 0.5924, 0.3837, 0.3722, 0.4453, 0.4495, 0.3812, 0.2223, 0.5026, 0.2437, 0.4491, 0.3777, 0.4575, 0.2429, 0.3219, -0.5082, 0.1847, 0.3192, -0.0893, -0.1187, -0.1725, 0.1306, 0.1213, -0.2169, 0.1097, -0.2342, -0.2773, -0.1501, 0.0345, -0.327, 1.4494, 1.3318, 1.1221, 1.118, 1.0819, 1.0392, 0.9839, 0.9284, 0.9187, 0.8797, 0.7816, 0.7542, 0.7274, 0.7268, 0.7217, 0.7057, 0.6856, 0.6775, 0.6345, 0.6277, 0.6138, 0.6035, 0.581, 0.5772, 0.5739, 0.5717, 0.5679, 0.5461, 0.5336, 0.5329, 0.5304, 0.5258, 0.5143, 0.5087, 0.467, 0.4795, 0.3793, 0.3181, 0.1552, 0.2729, 0.2555, 0.3869, 0.265, 0.345, 0.2176, 0.1728, 0.2039, 0.0483, 0.3743, 0.0217, 0.167, 0.2111, 0.1302, -0.0649, 0.224, 1.0407, 0.847, 0.7747, 0.773, 0.7145, 0.6624, 0.6582, 0.6581, 0.5726, 0.5706, 0.5629, 0.5513, 0.5244, 0.5212, 0.5182, 0.5171, 0.5028, 0.496, 0.4953, 0.4732, 0.4673, 0.464, 0.4588, 0.4388, 0.4371, 0.433, 0.4278, 0.4224, 0.4188, 0.4186, 0.4154, 0.4172, 0.3942, 0.3895, 0.3731, 0.4012, 0.2816, 0.3766, 0.2904, 0.2779, 0.3404, 0.3031, 0.3192, 0.3658, 0.2615, 0.1736, 0.338, 0.1671, 0.2357, 0.195, 0.1984, 0.2113, 0.1126, 0.1907, -0.0451, 0.149, 0.0633, 0.216, 0.0081, -0.1607, -0.0765, -0.0474, -0.2318, 0.0093, 0.0633, -0.2833, 1.1526, 1.1394, 0.851, 0.8423, 0.8241, 0.8098, 0.7663, 0.7657, 0.7594, 0.7517, 0.7461, 0.7064, 0.6438, 0.6428, 0.5776, 0.5776, 0.5773, 0.5755, 0.5754, 0.5699, 0.5609, 0.5505, 0.5428, 0.5392, 0.5389, 0.5385, 0.5309, 0.5303, 0.5282, 0.5237, 0.5091, 0.5112, 0.4476, 0.4461, 0.4193, 0.3963, 0.2127, 0.2246, 0.2012, 0.2432, 0.3462, 0.3239, 0.2076, 0.0576, 0.208, 0.1427, 0.0556, 0.2494, 0.161, 0.1404, 0.1707, 0.0596, 0.0228, 0.0967, 0.2028, -0.2871, -0.2219, -0.1958, 0.1121]}, \"token.table\": {\"Topic\": [1, 2, 3, 4, 5, 6, 1, 2, 3, 4, 5, 6, 1, 2, 3, 4, 5, 6, 1, 2, 3, 4, 5, 6, 1, 2, 3, 4, 5, 6, 1, 2, 3, 4, 5, 6, 1, 2, 3, 4, 5, 6, 1, 2, 3, 4, 5, 6, 1, 2, 3, 4, 5, 6, 1, 2, 3, 4, 5, 6, 1, 2, 3, 4, 5, 6, 1, 2, 3, 4, 5, 6, 1, 2, 3, 4, 5, 6, 1, 2, 3, 4, 5, 6, 1, 2, 3, 4, 5, 6, 1, 2, 3, 4, 5, 6, 1, 2, 3, 4, 5, 6, 1, 2, 3, 4, 5, 6, 1, 2, 3, 4, 5, 6, 1, 2, 3, 4, 5, 6, 1, 2, 3, 4, 5, 6, 1, 2, 3, 4, 5, 6, 1, 2, 3, 4, 5, 6, 1, 2, 3, 4, 5, 6, 1, 2, 3, 4, 5, 6, 1, 2, 3, 4, 5, 6, 1, 2, 3, 4, 5, 6, 1, 2, 3, 4, 5, 6, 1, 2, 3, 4, 5, 6, 1, 2, 3, 4, 5, 6, 1, 2, 3, 4, 5, 6, 1, 2, 3, 4, 5, 6, 1, 2, 3, 4, 5, 6, 1, 2, 3, 4, 5, 6, 1, 2, 3, 4, 5, 6, 1, 2, 3, 4, 5, 6, 1, 2, 3, 4, 5, 6, 1, 2, 3, 4, 5, 6, 1, 2, 3, 4, 5, 6, 1, 2, 3, 4, 5, 6, 1, 2, 3, 4, 5, 6, 1, 2, 3, 4, 5, 6, 1, 2, 3, 4, 5, 6, 1, 2, 3, 4, 5, 6, 1, 2, 3, 4, 5, 6, 1, 2, 3, 4, 5, 6, 1, 2, 3, 4, 5, 6, 1, 2, 3, 4, 5, 6, 1, 2, 3, 4, 5, 6, 1, 2, 3, 4, 5, 6, 1, 2, 3, 4, 5, 6, 1, 2, 3, 4, 5, 6, 1, 2, 3, 4, 5, 6, 1, 2, 3, 4, 5, 6, 1, 2, 3, 4, 5, 6, 1, 2, 3, 4, 5, 6, 1, 2, 3, 4, 5, 6, 1, 2, 3, 4, 5, 6, 1, 2, 3, 4, 5, 6, 1, 2, 3, 4, 5, 6, 1, 2, 3, 4, 5, 6, 1, 2, 3, 4, 5, 6, 1, 2, 3, 4, 5, 6, 1, 2, 3, 4, 5, 6, 1, 2, 3, 4, 5, 6, 1, 2, 3, 4, 5, 6, 1, 2, 3, 4, 5, 6, 1, 2, 3, 4, 5, 6, 1, 2, 3, 4, 5, 6, 1, 2, 3, 4, 5, 6, 1, 2, 3, 4, 5, 6, 1, 2, 3, 4, 5, 6, 1, 2, 3, 4, 5, 6, 1, 2, 3, 4, 5, 6, 1, 2, 3, 4, 5, 6, 1, 2, 3, 4, 5, 6, 1, 2, 3, 4, 5, 6, 1, 2, 3, 4, 5, 6, 1, 2, 3, 4, 5, 6, 1, 2, 3, 4, 5, 6, 1, 2, 3, 4, 5, 6, 1, 2, 3, 4, 5, 6, 1, 2, 3, 4, 5, 6, 1, 2, 3, 4, 5, 6, 1, 2, 3, 4, 5, 6, 1, 2, 3, 4, 5, 6, 1, 2, 3, 4, 5, 6, 1, 2, 3, 4, 5, 6, 1, 2, 3, 4, 5, 6, 1, 2, 3, 4, 5, 6, 1, 2, 3, 4, 5, 6, 1, 2, 3, 4, 5, 6, 1, 2, 3, 4, 5, 6, 1, 2, 3, 4, 5, 6, 1, 2, 3, 4, 5, 6, 1, 2, 3, 4, 5, 6, 1, 2, 3, 4, 5, 6, 1, 2, 3, 4, 5, 6, 1, 2, 3, 4, 5, 6, 1, 2, 3, 4, 5, 6, 1, 2, 3, 4, 5, 6, 1, 2, 3, 4, 5, 6, 1, 2, 3, 4, 5, 6, 1, 2, 3, 4, 5, 6, 1, 2, 3, 4, 5, 6, 1, 2, 3, 4, 5, 6, 1, 2, 3, 4, 5, 6, 1, 2, 3, 4, 5, 6, 1, 2, 3, 4, 5, 6, 1, 2, 3, 4, 5, 6, 1, 2, 3, 4, 5, 6, 1, 2, 3, 4, 5, 6, 1, 2, 3, 4, 5, 6, 1, 2, 3, 4, 5, 6, 1, 2, 3, 4, 5, 6, 1, 2, 3, 4, 5, 6, 1, 2, 3, 4, 5, 6, 1, 2, 3, 4, 5, 6, 1, 2, 3, 4, 5, 6, 1, 2, 3, 4, 5, 6, 1, 2, 3, 4, 5, 6, 1, 2, 3, 4, 5, 6, 1, 2, 3, 4, 5, 6, 1, 2, 3, 4, 5, 6, 1, 2, 3, 4, 5, 6, 1, 2, 3, 4, 5, 6, 1, 2, 3, 4, 5, 6, 1, 2, 3, 4, 5, 6, 1, 2, 3, 4, 5, 6, 1, 2, 3, 4, 5, 6, 1, 2, 3, 4, 5, 6, 1, 2, 3, 4, 5, 6, 1, 2, 3, 4, 5, 6, 1, 2, 3, 4, 5, 6, 1, 2, 3, 4, 5, 6, 1, 2, 3, 4, 5, 6, 1, 2, 3, 4, 5, 6, 1, 2, 3, 4, 5, 6, 1, 2, 3, 4, 5, 6, 1, 2, 3, 4, 5, 6, 1, 2, 3, 4, 5, 6, 1, 2, 3, 4, 5, 6, 1, 2, 3, 4, 5, 6, 1, 2, 3, 4, 5, 6, 1, 2, 3, 4, 5, 6, 1, 2, 3, 4, 5, 6, 1, 2, 3, 4, 5, 6, 1, 2, 3, 4, 5, 6, 1, 2, 3, 4, 5, 6, 1, 2, 3, 4, 5, 6, 1, 2, 3, 4, 5, 6, 1, 2, 3, 4, 5, 6, 1, 2, 3, 4, 5, 6, 1, 2, 3, 4, 5, 6, 1, 2, 3, 4, 5, 6, 1, 2, 3, 4, 5, 6, 1, 2, 3, 4, 5, 6, 1, 2, 3, 4, 5, 6, 1, 2, 3, 4, 5, 6, 1, 2, 3, 4, 5, 6, 1, 2, 3, 4, 5, 6, 1, 2, 3, 4, 5, 6, 1, 2, 3, 4, 5, 6, 1, 2, 3, 4, 5, 6, 1, 2, 3, 4, 5, 6, 1, 2, 3, 4, 5, 6, 1, 2, 3, 4, 5, 6, 1, 2, 3, 4, 5, 6, 1, 2, 3, 4, 5, 6, 1, 2, 3, 4, 5, 6, 1, 2, 3, 4, 5, 6, 1, 2, 3, 4, 5, 6, 1, 2, 3, 4, 5, 6, 1, 2, 3, 4, 5, 6, 1, 2, 3, 4, 5, 6, 1, 2, 3, 4, 5, 6, 1, 2, 3, 4, 5, 6, 1, 2, 3, 4, 5, 6, 1, 2, 3, 4, 5, 6, 1, 2, 3, 4, 5, 6, 1, 2, 3, 4, 5, 6, 1, 2, 3, 4, 5, 6, 1, 2, 3, 4, 5, 6, 1, 2, 3, 4, 5, 6, 1, 2, 3, 4, 5, 6, 1, 2, 3, 4, 5, 6, 1, 2, 3, 4, 5, 6, 1, 2, 3, 4, 5, 6, 1, 2, 3, 4, 5, 6, 1, 2, 3, 4, 5, 6, 1, 2, 3, 4, 5, 6, 1, 2, 3, 4, 5, 6, 1, 2, 3, 4, 5, 6, 1, 2, 3, 4, 5, 6, 1, 2, 3, 4, 5, 6, 1, 2, 3, 4, 5, 6, 1, 2, 3, 4, 5, 6, 1, 2, 3, 4, 5, 6, 1, 2, 3, 4, 5, 6, 1, 2, 3, 4, 5, 6, 1, 2, 3, 4, 5, 6, 1, 2, 3, 4, 5, 6, 1, 2, 3, 4, 5, 6, 1, 2, 3, 4, 5, 6, 1, 2, 3, 4, 5, 6, 1, 2, 3, 4, 5, 6, 1, 2, 3, 4, 5, 6, 1, 2, 3, 4, 5, 6, 1, 2, 3, 4, 5, 6, 1, 2, 3, 4, 5, 6, 1, 2, 3, 4, 5, 6, 1, 2, 3, 4, 5, 6, 1, 2, 3, 4, 5, 6, 1, 2, 3, 4, 5, 6, 1, 2, 3, 4, 5, 6, 1, 2, 3, 4, 5, 6, 1, 2, 3, 4, 5, 6, 1, 2, 3, 4, 5, 6, 1, 2, 3, 4, 5, 6, 1, 2, 3, 4, 5, 6, 1, 2, 3, 4, 5, 6, 1, 2, 3, 4, 5, 6, 1, 2, 3, 4, 5, 6, 1, 2, 3, 4, 5, 6, 1, 2, 3, 4, 5, 6, 1, 2, 3, 4, 5, 6, 1, 2, 3, 4, 5, 6, 1, 2, 3, 4, 5, 6, 1, 2, 3, 4, 5, 6, 1, 2, 3, 4, 5, 6, 1, 2, 3, 4, 5, 6, 1, 2, 3, 4, 5, 6, 1, 2, 3, 4, 5, 6, 1, 2, 3, 4, 5, 6, 1, 2, 3, 4, 5, 6, 1, 2, 3, 4, 5, 6, 1, 2, 3, 4, 5, 6, 1, 2, 3, 4, 5, 6, 1, 2, 3, 4, 5, 6, 1, 2, 3, 4, 5, 6, 1, 2, 3, 4, 5, 6, 1, 2, 3, 4, 5, 6, 1, 2, 3, 4, 5, 6, 1, 2, 3, 4, 5, 6, 1, 2, 3, 4, 5, 6, 1, 2, 3, 4, 5, 6, 1, 2, 3, 4, 5, 6, 1, 2, 3, 4, 5, 6, 1, 2, 3, 4, 5, 6, 1, 2, 3, 4, 5, 6, 1, 2, 3, 4, 5, 6, 1, 2, 3, 4, 5, 6, 1, 2, 3, 4, 5, 6, 1, 2, 3, 4, 5, 6, 1, 2, 3, 4, 5, 6, 1, 2, 3, 4, 5, 6, 1, 2, 3, 4, 5, 6, 1, 2, 3, 4, 5, 6, 1, 2, 3, 4, 5, 6, 1, 2, 3, 4, 5, 6, 1, 2, 3, 4, 5, 6], \"Freq\": [0.22840896055473464, 0.21382966520017713, 0.14093318842738947, 0.2235491954365488, 0.12635389307283193, 0.07289647677278766, 0.4113723288549636, 0.11980316945600694, 0.1082558760144641, 0.14867140305986404, 0.11835975777581409, 0.09526517089272842, 0.25837041480433537, 0.2491428999898948, 0.11257568073617469, 0.15871325480837742, 0.14579473406816065, 0.07382011851552438, 0.4409357751669042, 0.14029774664401498, 0.14029774664401498, 0.06012760570457785, 0.15031901426144462, 0.06012760570457785, 0.5431114828836306, 0.12434394476546282, 0.11148077806558736, 0.07003279647709974, 0.08003748168811399, 0.07146203722153036, 0.09834180869221995, 0.4198438755706313, 0.12103607223657839, 0.12481844949397147, 0.0907770541774338, 0.14373033578093686, 0.09494385400748383, 0.3592973298714584, 0.14334660310933833, 0.17127126605271592, 0.10052878659615935, 0.13217673793198728, 0.502202669463914, 0.12708802247658232, 0.13528724973313602, 0.06764362486656801, 0.13118763610485917, 0.03279690902621479, 0.5676200571133893, 0.07624747035851497, 0.15814290148432736, 0.04518368613837924, 0.10166329381135329, 0.048007666522027946, 0.2473894069430027, 0.2919195001927432, 0.09648186870777105, 0.23996772473471262, 0.06926903394404076, 0.05442566952746059, 0.1209230817648822, 0.42230060862505014, 0.13208521238933288, 0.15999053895045953, 0.07441420416300443, 0.09115740009968043, 0.11830058947787503, 0.4095020405003366, 0.13650068016677888, 0.13650068016677888, 0.10010049878897118, 0.10010049878897118, 0.21913958512880724, 0.2608804584866753, 0.08348174671573609, 0.2608804584866753, 0.07304652837626908, 0.0939169650552031, 0.12927020737578443, 0.29085796659551494, 0.19713706624807123, 0.2165275973544389, 0.05493983813470838, 0.10987967626941676, 0.2367915756854729, 0.20521936559407652, 0.20521936559407652, 0.07893052522849096, 0.18154020802552923, 0.09471663027418917, 0.11832687851381012, 0.42893493461256166, 0.1449504261794174, 0.07395429907113132, 0.1331177383280364, 0.1005778467367386, 0.2926905807355419, 0.17815948392598202, 0.15270812907941317, 0.1272567742328443, 0.17815948392598202, 0.06362838711642214, 0.24798260792111357, 0.28472077205757484, 0.12705281763859522, 0.11327600608742225, 0.14236038602878742, 0.08419162614605707, 0.4634075582994652, 0.08238356591990494, 0.09268151165989305, 0.1338732946198455, 0.1235753488798574, 0.10297945739988117, 0.2105623258559791, 0.2834492848061257, 0.16602029538644505, 0.08908406093906808, 0.1741188463809058, 0.07288695895014662, 0.40810845716863126, 0.202926857155673, 0.10822765714969226, 0.11499188572154803, 0.08568022857683971, 0.07891600000498394, 0.19922030662270335, 0.17076026281946, 0.15178690028396447, 0.12332685648072111, 0.08538013140973, 0.2751137567646856, 0.44414995439782784, 0.15448694066011404, 0.14804998479927595, 0.08368042619089511, 0.08368042619089511, 0.08368042619089511, 0.24486340100519566, 0.12243170050259783, 0.30433022696360035, 0.05596877737261615, 0.19938876938994504, 0.06996097171577019, 0.20402700647329627, 0.21972139158662676, 0.29426972087494657, 0.09416631067998289, 0.09612810881914921, 0.09220451254081659, 0.10453765851614474, 0.3246169396027653, 0.15405549676063435, 0.23658522716811706, 0.0880317124346482, 0.0880317124346482, 0.2296977997654468, 0.11740109765789503, 0.3624120840743716, 0.07656593325514893, 0.11740109765789503, 0.09698351545652198, 0.2620584040168871, 0.15308362214847862, 0.18421927411088104, 0.2023817377556158, 0.1011908688778079, 0.09859623121427437, 0.5172284247063036, 0.0725934631166742, 0.12703856045417983, 0.11796437756459556, 0.09074182889584274, 0.0725934631166742, 0.2787339423269565, 0.21776089244293476, 0.11759088191918476, 0.13065653546576084, 0.1654982782566304, 0.09145957482603259, 0.1424582672369171, 0.2415596705321638, 0.3096918852976459, 0.074326052471435, 0.1734274557666817, 0.061938377059529176, 0.23812324346144792, 0.2824634336232348, 0.18557190697340423, 0.10674490224133872, 0.11659827783284692, 0.0706158584058087, 0.19799956681674918, 0.146347505908032, 0.3271297190885421, 0.043043384090597644, 0.16356485954427105, 0.12052147545367341, 0.4530451737397927, 0.07994914830702224, 0.10215724505897286, 0.1465734385628741, 0.09771562570858273, 0.11992372246053336, 0.2673880054631143, 0.18350157237664705, 0.25952365236125796, 0.05242902067904202, 0.13369400273155715, 0.10223659032413193, 0.16380302072110375, 0.3939072641150352, 0.12870237342372437, 0.13845255322855196, 0.06825125863379322, 0.10725197785310364, 0.24598765944703618, 0.2851715344032012, 0.22857260391096282, 0.07401398602831177, 0.10449033321644015, 0.06312957631826592, 0.17787354095458693, 0.13340515571594022, 0.31127869667052716, 0.057173638163974375, 0.27316293789454427, 0.044468385238646733, 0.2235200163886311, 0.17038820921428435, 0.21252722869738694, 0.11176000819431554, 0.10626361434869347, 0.1758846030599064, 0.21584564199613562, 0.33001193197756273, 0.1373563176339045, 0.09454395889086932, 0.17838482809597983, 0.04459620702399496, 0.1090987791110206, 0.3467782621743155, 0.132477088920525, 0.206508403317289, 0.1090987791110206, 0.10130600917451914, 0.3901432461554597, 0.12320313036488202, 0.17374800436073104, 0.09161258411747637, 0.11530549380303061, 0.1074078572411792, 0.3229321585168591, 0.1273275367866473, 0.14024482312732167, 0.10887427058568393, 0.11625557706606927, 0.18268733538953744, 0.1713477978870562, 0.1523091536773833, 0.2950989852499301, 0.09519322104836456, 0.19990576420156556, 0.07615457683869165, 0.10746938193589785, 0.30091426942051397, 0.18628026202222295, 0.2256857020653855, 0.08597550554871827, 0.09672244374230807, 0.15187924686103277, 0.42188679683620217, 0.16031698279775683, 0.10125283124068851, 0.10125283124068851, 0.0590641515570683, 0.5016041742412887, 0.1641240651914237, 0.08513935881805104, 0.12309304889356779, 0.06975272770635507, 0.0564176474095519, 0.3585656512992805, 0.1700625660448016, 0.11474100841576976, 0.17825835236021373, 0.10859416867921065, 0.0717131302598561, 0.44449215206949244, 0.1616335098434518, 0.12122513238258885, 0.09091884928694163, 0.11112303801737311, 0.0808167549217259, 0.20825185249772538, 0.22026638244951724, 0.13616467278697428, 0.21225669581498932, 0.11614045620065454, 0.10412592624886269, 0.4840730852736426, 0.14328563324099822, 0.1123049557834851, 0.1316678791944308, 0.07745169364378282, 0.050343600868458835, 0.19560121701320243, 0.2836217646691435, 0.15159094318523186, 0.09780060850660122, 0.18093112573721223, 0.09291057808127115, 0.15595465890616597, 0.37429118137479833, 0.12476372712493278, 0.16843103161865924, 0.09981098169994623, 0.07693763172704188, 0.4475422066429538, 0.1460820259071956, 0.10756949180438949, 0.14342598907251933, 0.07702506820561222, 0.07835308662295037, 0.3139757789444963, 0.13304058429851537, 0.21818655824956523, 0.07982435057910924, 0.10643246743881231, 0.15432707778627786, 0.38836317029029965, 0.1074196002930616, 0.13634026191042434, 0.11568264646945096, 0.10328807720486693, 0.1446033080868137, 0.20707580092602879, 0.26409667364479034, 0.27309996933722636, 0.07202636553948827, 0.11704284400166845, 0.06302306984705223, 0.2677264556627703, 0.21418116453021627, 0.207488003138647, 0.06023845252412332, 0.19410168035550848, 0.05354529113255407, 0.5139319432685873, 0.10382463500375501, 0.16611941600600802, 0.08825093975319176, 0.051912317501877504, 0.07786847625281626, 0.27662631980322255, 0.21365447464476542, 0.14393564607647355, 0.14168665160652863, 0.07871480644807147, 0.14393564607647355, 0.24152271787960097, 0.18449652060247299, 0.11405239455425602, 0.30637604027319754, 0.06149884020082432, 0.09168917993577445, 0.4205743906615386, 0.17584360299210883, 0.13958719000404515, 0.09789231506777192, 0.09064103247015919, 0.07613846727493372, 0.3052248764999664, 0.2272598265244315, 0.09123569677988126, 0.15095360739943992, 0.14597711484781, 0.08128271167662149, 0.13003343420749316, 0.4226086611743528, 0.16254179275936648, 0.09752507565561988, 0.10836119517291098, 0.08668895613832878, 0.13454528134369412, 0.4036358440310824, 0.12893922795437354, 0.11212106778641177, 0.11212106778641177, 0.1009089610077706, 0.15865685665800525, 0.2955372820100098, 0.1337695065940044, 0.2053206380280068, 0.12132583156200401, 0.08710572522400288, 0.3655464110255349, 0.14879024770386096, 0.1524640809804995, 0.14327949778890314, 0.07898741544772865, 0.11205191493747553, 0.26165279187176516, 0.3264971794225939, 0.14789070844925856, 0.05233055837435303, 0.1569916751230591, 0.05460580004280316, 0.24125011503632515, 0.20877413801220446, 0.14382218396396307, 0.09742793107236208, 0.18557701156640397, 0.12062505751816258, 0.20820830693701967, 0.3832054728902202, 0.1341219155115771, 0.10985223556186313, 0.1085748839855624, 0.056203469357232305, 0.14731629134056604, 0.37789831256927814, 0.12169606675959804, 0.21777190893822806, 0.07045561759766202, 0.06405056145242002, 0.17963326460048845, 0.2864422327413194, 0.11651887433545197, 0.25731251415745643, 0.10680896814083098, 0.05340448407041549, 0.15835399040744375, 0.2667014575283263, 0.14168514931192336, 0.12501630821640294, 0.10834746712088256, 0.20002609314624473, 0.23093838697650693, 0.17961874542617204, 0.22238511338478445, 0.06842618873377983, 0.23093838697650693, 0.06842618873377983, 0.1342885565408151, 0.20143283481122265, 0.36257910266020077, 0.08057313392448906, 0.12085970088673359, 0.09400198957857057, 0.21315068343010282, 0.2523508091183976, 0.25970083268495286, 0.08575027494314481, 0.12740040848695802, 0.06370020424347901, 0.3629592619501152, 0.12249875090816388, 0.14972069555442252, 0.1270357416825403, 0.07259185239002304, 0.16333166787755185, 0.19482295522003817, 0.179836574049266, 0.34468676692775985, 0.08242509643924692, 0.10490466819540517, 0.089918287024633, 0.2033660471471769, 0.14790257974340137, 0.2995027239803878, 0.09243911233962586, 0.1405074507562313, 0.11092693480755103, 0.11970275898762887, 0.32646206996626054, 0.17411310398200563, 0.22852344897638238, 0.09431126465691972, 0.05441034499437676, 0.3953712888616102, 0.13346928859659452, 0.11835955781207438, 0.10324982702755425, 0.1385058655247679, 0.11080469241981432, 0.46999282503003, 0.13644952984742806, 0.11623478468484612, 0.07580529435968225, 0.10612741210355515, 0.09602003952226419, 0.2557702430934439, 0.43161228522018663, 0.09591384116004147, 0.03996410048335061, 0.12788512154672196, 0.03996410048335061, 0.1410178035049375, 0.28584689899649496, 0.3010920669429747, 0.11052746761197804, 0.09528229966549832, 0.06098067178591892, 0.11525591248900158, 0.3342421462181046, 0.3342421462181046, 0.10373032124010143, 0.06339075186895086, 0.05186516062005071, 0.31633419318488626, 0.2828153382778784, 0.1256957059012793, 0.1267431701171233, 0.07646488775661157, 0.07122756667739161, 0.13179093802791728, 0.46126828309771045, 0.10982578168993107, 0.09609755897868968, 0.1427735161969104, 0.057658535387213807, 0.13059703206928983, 0.35054992818598846, 0.09622939205105566, 0.1443440880765835, 0.1924587841021113, 0.07560880804011516, 0.16859014290905652, 0.4767031627083667, 0.09301525126016912, 0.08138834485264797, 0.10464215766769025, 0.08138834485264797, 0.27755521420276336, 0.17529803002279792, 0.05112859208998272, 0.32137972170846285, 0.08034493042711571, 0.09495309959568221, 0.13792769082779024, 0.3250020301114598, 0.24414786652275516, 0.04439052118595548, 0.20768422412000603, 0.04280514542931422, 0.14635034571954056, 0.14368943034282164, 0.4709820216792487, 0.05055739215765946, 0.10643661506875676, 0.0824883766782865, 0.15720772554735765, 0.2797372763416217, 0.25893037148976555, 0.09478701099178917, 0.14796021227986603, 0.06242071455556848, 0.3649106221742664, 0.13774771830419327, 0.14741422485185596, 0.1184147052088679, 0.0845819322920485, 0.14741422485185596, 0.21278097785830477, 0.1803228625917837, 0.32458115266521065, 0.08294851679222051, 0.11540663205874158, 0.08655497404405618, 0.35013283222193187, 0.12838203848137503, 0.12838203848137503, 0.14005313288877275, 0.10503984966657957, 0.1517242272961705, 0.23963222075095508, 0.194701179360151, 0.2096781931570857, 0.1123276034770102, 0.08986208278160816, 0.15725864486781427, 0.21549022571962426, 0.3990559735548597, 0.18356574783523547, 0.06384895576877755, 0.08779231418206913, 0.039905597355485975, 0.20518789704373552, 0.21598726004603738, 0.18358917103913178, 0.06479617801381121, 0.22678662304833927, 0.08639490401841496, 0.49481682814535244, 0.07369612334079717, 0.1337058237754463, 0.11370259029722991, 0.09369935681901355, 0.09159375329499077, 0.1993877074380669, 0.1329251382920446, 0.345605359559316, 0.1329251382920446, 0.11963262446284013, 0.07975508297522677, 0.1372666924353182, 0.4608238960328539, 0.17648574741683767, 0.07843810996303896, 0.08334049183572889, 0.0686333462176591, 0.17761081176075405, 0.36582525407438893, 0.20677079578117635, 0.06627269095550524, 0.11266357462435891, 0.07157450623194567, 0.33927614625176955, 0.14227709358945173, 0.16416587721859816, 0.1039717222384455, 0.180582464940458, 0.07113854679472587, 0.21661505664494843, 0.17870742173208246, 0.3303379613835464, 0.05415376416123711, 0.15163053965146392, 0.07039989340960824, 0.28620450539650993, 0.1871337150669488, 0.18346442653622433, 0.058708616491591786, 0.19814158065912227, 0.08806292473738768, 0.17258640591212376, 0.45651888015465, 0.11134606833040243, 0.09325233222671203, 0.10160328735149222, 0.0640239892899814, 0.3616336781961722, 0.047538699481186955, 0.09337958826661724, 0.17657231235869442, 0.04923651017694363, 0.2716497113210683, 0.12453906157301609, 0.17933624866514317, 0.3337646850156831, 0.13450218649885737, 0.12952062403593673, 0.09963124925841288, 0.31459941600586594, 0.22625300466175288, 0.1142038975911705, 0.0840368303029368, 0.17453803216763794, 0.08834641134411303, 0.33141897978577317, 0.08692956846839953, 0.19015843102462396, 0.10866196058549941, 0.184725332995349, 0.0923626664976745, 0.4498964138315994, 0.13401169773707217, 0.15315622598522532, 0.08615037711668924, 0.10529490536484241, 0.06700584886853608, 0.21829241495443347, 0.18308396092952484, 0.2980982440775597, 0.10562536207472586, 0.1126670528797076, 0.0845002896597807, 0.33117697251793743, 0.11751440960313908, 0.19229630662331848, 0.0640987688744395, 0.14956379404035883, 0.14956379404035883, 0.12558135196916625, 0.18266378468242364, 0.4224100020781047, 0.07991540579856034, 0.07991540579856034, 0.11416486542651477, 0.4516361829454949, 0.11761358930872264, 0.09409087144697811, 0.13643176359811826, 0.09879541501932701, 0.10820450216402483, 0.16518702701808946, 0.19736631799563936, 0.32608348190583897, 0.12013601964951962, 0.0901020147371397, 0.10297373112815966, 0.19493553650992151, 0.3855149716453196, 0.13939524398474834, 0.06425249527421995, 0.1546415987955802, 0.0609854192433274, 0.22530282430799184, 0.19228430695251028, 0.19422657267930332, 0.05244117462341189, 0.25443681020988734, 0.08351742625210043, 0.24012799496512757, 0.2292130861030763, 0.1418938152066663, 0.12006399748256379, 0.10914908862051254, 0.15280872406871754, 0.2531185282637421, 0.18650838924696786, 0.19538974111587107, 0.06661013901677423, 0.13322027803354847, 0.16430500957470978, 0.46899322697597584, 0.16335719141859834, 0.1176874389789902, 0.0808003312393067, 0.1053917363990957, 0.06323504183945741, 0.22797219873475383, 0.39151747174012075, 0.1362877275044724, 0.06690488441128645, 0.11150814068547742, 0.06690488441128645, 0.66472024804158, 0.0627437717029672, 0.08456769229530361, 0.07183707194977404, 0.05183181140679899, 0.06547176177700925, 0.44231414491135906, 0.22974569662871563, 0.05797321316799366, 0.06870899338428879, 0.13741798676857758, 0.062267525254511714, 0.24081532977077855, 0.27050489097539504, 0.18803388762923803, 0.12040766488538927, 0.10886172441692728, 0.07257448294461818, 0.17154561489740727, 0.36556962071240584, 0.151433370392194, 0.15853180962932809, 0.08399819763942011, 0.06743517275277389, 0.10683975697162196, 0.18332731025812404, 0.11291019770864594, 0.5147733744996331, 0.03399446812733426, 0.047349437748787006, 0.11013394242073223, 0.35531307614307656, 0.07866710172909444, 0.3028683416570136, 0.0603114446589724, 0.09177828535061018, 0.07755776741403816, 0.2769920264787077, 0.07017131337460596, 0.45796015044479677, 0.059091632315457644, 0.05539840529574154, 0.07219119176603489, 0.5351564433090847, 0.04394246455323863, 0.10985616138309658, 0.1365355148618486, 0.10200929271287539, 0.08124843036969343, 0.5579058885385615, 0.06499874429575474, 0.0758318683450472, 0.17874654681332552, 0.04333249619716983, 0.09513837775073913, 0.3412572245406947, 0.13650288981627787, 0.37228060858984874, 0.031023384049154064, 0.02688693284260019, 0.18940251516547177, 0.2774967082656912, 0.22904490206057052, 0.11232009620277977, 0.11452245103028526, 0.077082418962692, 0.1479924046149391, 0.27613216958641074, 0.3050087363405452, 0.07219141688533613, 0.14077326292640546, 0.05775313350826891, 0.18199789396838317, 0.12349857090711716, 0.46149465970554304, 0.09099894698419159, 0.07799909741502137, 0.07149917263043624, 0.3291927730311278, 0.10526513091111646, 0.1397155373911182, 0.1645963865155639, 0.13205989150667338, 0.12823206856445096, 0.20083340056211382, 0.3735933150241472, 0.10365594867722004, 0.10581544760799545, 0.1360484326388513, 0.07990146043869045, 0.10555522298657367, 0.15079317569510525, 0.48253816222433676, 0.04523795270853157, 0.16587249326461576, 0.05026439189836841, 0.2793196616104493, 0.16505252731526548, 0.16505252731526548, 0.10157078604016338, 0.20314157208032677, 0.08887443778514295, 0.2764440088769993, 0.1999807723791059, 0.18233541011036125, 0.08528591763226574, 0.17057183526453149, 0.08234502392080831, 0.172324661349762, 0.18463356573188786, 0.3200315139352723, 0.09231678286594393, 0.14770685258551028, 0.08000787848381807, 0.45555226209469063, 0.11569581259547698, 0.11931130673908563, 0.07954087115939043, 0.11569581259547698, 0.11569581259547698, 0.2187555875069, 0.2187555875069, 0.12910165820079345, 0.12192934385630493, 0.1613770727509918, 0.14703244406201477, 0.45577464743080826, 0.14634965743191092, 0.10035405081045319, 0.10453546959422208, 0.07108411932407101, 0.12544256351306649, 0.20634312474336997, 0.13599887767176658, 0.393927783600979, 0.05627539765728272, 0.145378110614647, 0.05627539765728272, 0.23724861410035672, 0.10544382848904743, 0.23724861410035672, 0.15816574273357115, 0.06590239280565464, 0.19770717841696395, 0.17508365396373485, 0.16007648362398616, 0.32515535736122186, 0.14506931328423744, 0.12505975283123918, 0.06503107147224438, 0.37514602230435506, 0.18115416286179883, 0.10983362630203551, 0.1569051804314793, 0.09271669752769231, 0.08415823314052072, 0.13765619040166702, 0.2828404537159252, 0.13120355647658888, 0.25057728409053454, 0.08818599697606794, 0.1086193377388154, 0.13809957616574786, 0.2091222153367039, 0.14993668269424051, 0.3551131958547802, 0.07891404352328449, 0.06313123481862759, 0.32726907652323045, 0.07751109707129143, 0.13779750590451809, 0.18085922649968, 0.08612344119032381, 0.18947157061871236, 0.36434189801570405, 0.1509198657052498, 0.13719987791386345, 0.14939542261731797, 0.09299102836384078, 0.10671101615522713, 0.18736494958515335, 0.18736494958515335, 0.3054863308453587, 0.11404823018226726, 0.1303408344940197, 0.0773898704808242, 0.23440640188808598, 0.13813234396976495, 0.37672457446299534, 0.06697325768231029, 0.10883154373375421, 0.07534491489259906, 0.24064064564931012, 0.20736055635738426, 0.15360041211658093, 0.15104040524797124, 0.16384043959101965, 0.08192021979550983, 0.07047864070625558, 0.43797441010315963, 0.08306411226094407, 0.037756414664065485, 0.33225644904377627, 0.037756414664065485, 0.09961587041083791, 0.5047204100815788, 0.14610327660256228, 0.09297481238344872, 0.09297481238344872, 0.06641058027389195, 0.20385788366417817, 0.19630759167661602, 0.31711226347761046, 0.09060350385074585, 0.11325437981343231, 0.07550291987562155, 0.1795937965436632, 0.22055378522906008, 0.17329225982283292, 0.24891070047279637, 0.08191997737079373, 0.09452305081245431, 0.22662525444970644, 0.147799078988939, 0.2561850702474942, 0.09853271932595932, 0.17735889478672678, 0.08867944739336339, 0.1820465701389071, 0.27906540093149834, 0.11228021990603253, 0.3422911558300409, 0.033793075894048626, 0.05123466345226727, 0.4048362458203515, 0.1473383615740735, 0.08950461217116615, 0.14320737947386583, 0.1321914272066454, 0.08399663603755592, 0.3594941708478824, 0.13653865142780147, 0.09966745441776226, 0.14114755105405638, 0.15555036238610295, 0.10715691631042648, 0.24470012120088536, 0.20844825139334677, 0.16313341413392357, 0.20844825139334677, 0.09062967451884643, 0.08156670706696179, 0.2919998333887319, 0.2199732078195114, 0.1713065689213894, 0.08370661890476983, 0.1713065689213894, 0.06229329778959615, 0.2503392381389505, 0.18573556378051165, 0.20592421201752378, 0.09690551153765825, 0.10901870047986553, 0.15343372660129223, 0.13683495007647425, 0.3192815501784399, 0.22805825012745706, 0.06385631003568798, 0.18244660010196567, 0.07297864004078626, 0.4877759759912037, 0.13302981163396466, 0.08868654108930976, 0.13302981163396466, 0.06968228228445766, 0.08235178815435906, 0.14811430695088215, 0.4538986825914131, 0.12422490260396568, 0.08600185564889933, 0.09077973651828261, 0.09077973651828261, 0.3086534251633489, 0.14608024702387506, 0.29922889309729245, 0.06597172446239519, 0.09424532066056455, 0.08717692161102221, 0.24288602324730293, 0.2732467761532158, 0.1501170560347914, 0.08096200774910098, 0.14843034754001846, 0.1045759266759221, 0.16755462415516084, 0.4239639732410888, 0.14216755988922739, 0.08123860565098708, 0.11678049562329391, 0.06854507351802035, 0.41030139140771005, 0.1777972696100077, 0.1055060720762683, 0.11136752052494987, 0.10159843977714725, 0.09573699132846568, 0.4025675200641365, 0.11174472087189553, 0.1131773454984583, 0.15042558578909015, 0.0744964805812637, 0.1489929611625274, 0.5318369969452484, 0.12475188817234223, 0.0984883327676386, 0.08535655506528679, 0.09192244391646269, 0.05909299966058316, 0.1724551364426214, 0.1560308377338003, 0.21762195789187938, 0.12318224031615814, 0.17656121111982667, 0.1560308377338003, 0.2867296165093687, 0.2150472123820265, 0.1067610274237011, 0.13726417811618713, 0.15251575346243015, 0.10218555481982819, 0.2522238339150379, 0.17655668374052652, 0.14292683921852148, 0.19617409304502947, 0.12330942991401853, 0.10649450765301599, 0.23134655851188113, 0.1404604105250707, 0.31397032940898156, 0.12393565634565061, 0.12393565634565061, 0.05783663962797028, 0.11490627104147003, 0.22981254208294005, 0.3857567670677922, 0.04924554473205858, 0.1887745881395579, 0.03283036315470572, 0.13495903713557622, 0.142456761420886, 0.3673884899801797, 0.059981794282478317, 0.20993627998867412, 0.08247496713840768, 0.25303461135996075, 0.25303461135996075, 0.07229560324570307, 0.2168868097371092, 0.1084434048685546, 0.10241877126474601, 0.48072499382845973, 0.1564263868806893, 0.09919722094872979, 0.1030124986775271, 0.06485972138955409, 0.09538194321993249, 0.13932955489368162, 0.303991756131669, 0.1224411239974778, 0.29132543295951613, 0.06755372358481533, 0.07177583130886629, 0.48547835943568085, 0.1227646426159193, 0.10602400953193031, 0.1311349591579138, 0.06417242682195781, 0.0892833764479413, 0.25258816459176814, 0.22879362734761607, 0.11348163916441757, 0.12263338425832221, 0.1921866469719975, 0.09151745093904642, 0.19916418056855936, 0.2086481891670622, 0.19916418056855936, 0.08535607738652545, 0.18019616337155372, 0.12329211178053676, 0.46961865198550756, 0.1502779686353624, 0.12523164052946867, 0.11270847647652181, 0.08140056634415464, 0.056354238238260905, 0.33097533722095257, 0.1710244307572952, 0.14272542422910967, 0.16610286440456726, 0.09966171864274036, 0.08858819434910255, 0.23561254750548685, 0.25524692646427743, 0.19991367667132218, 0.10888155604420226, 0.1267309914612846, 0.07318268521003758, 0.44255522711825057, 0.16812153879352537, 0.07911601825577665, 0.12114640295415798, 0.07169889154429758, 0.11867402738366496, 0.23260279017711813, 0.3632182031227306, 0.16640045758824606, 0.0894626116065839, 0.0894626116065839, 0.06083457589247705, 0.2262918134446101, 0.22419651887567854, 0.21372004603102066, 0.10895531758444191, 0.10476472844657876, 0.12152708499803136, 0.11082059966266376, 0.4896724171140957, 0.08762559043094344, 0.13143838564641516, 0.08762559043094344, 0.09020281367891236, 0.2608288766117211, 0.16357065143446917, 0.19672686456307778, 0.12157278147156492, 0.11052071042869538, 0.1480977519744518, 0.4389505188876649, 0.11765684011421945, 0.10408105087027106, 0.08145473546369039, 0.07692947238237426, 0.18553578633396145, 0.12069943075976697, 0.4224480076591844, 0.16093257434635597, 0.12069943075976697, 0.10058285896647247, 0.07040800127653073, 0.2750063752213286, 0.18595669181632693, 0.1257172001011788, 0.1257172001011788, 0.18857580015176817, 0.09952611674676654, 0.1784582642303662, 0.29562783165434403, 0.16764261185276827, 0.1135643499647785, 0.15862956820476998, 0.08472261029118396, 0.33149454843994397, 0.26070665007516425, 0.09841244406810837, 0.11740431923914682, 0.08632670532290207, 0.10531858049394054, 0.39070766834049286, 0.27979065763513555, 0.08893345903402523, 0.05895588857311785, 0.11191626305405422, 0.06894841206008698, 0.1437288738813949, 0.4222035670265975, 0.07635596424949104, 0.20661025620450518, 0.08533901886707822, 0.06288138232311027, 0.13517657801504954, 0.39188806103445556, 0.13517657801504954, 0.15625916357702974, 0.11905460082059409, 0.0644879087778218, 0.11031935172575104, 0.3930126905229881, 0.12410927069146992, 0.08273951379431328, 0.25511350086579926, 0.0344747974142972, 0.13000733966972558, 0.3807357804613392, 0.15786605531323822, 0.05107431201310648, 0.22751284442201977, 0.05107431201310648, 0.23110116499089822, 0.19808671284934132, 0.26136441278732536, 0.09904335642467066, 0.12655539987596806, 0.08528733469902196, 0.1929662801634728, 0.39365121153348454, 0.09262381447846696, 0.18524762895693392, 0.07718651206538912, 0.05403055844577239, 0.4375897043331727, 0.15561065858148623, 0.12010218615349608, 0.08146061321715387, 0.10025921626726629, 0.10548105044785308, 0.13699689501535173, 0.32879254803684416, 0.11644736076304897, 0.2534442557784007, 0.08904798175997863, 0.07534829225844346, 0.23418355576031996, 0.31488194321826807, 0.13766195507532322, 0.09177463671688214, 0.14399124036614266, 0.07911606613524323, 0.14503717263766752, 0.3615105646341862, 0.11689563167812009, 0.127719301277946, 0.17534344751718012, 0.07143621935885117, 0.1777489866208647, 0.20793277680176622, 0.11402765179451696, 0.3689129910999078, 0.05030631696816925, 0.07713635268452618, 0.20665642727920336, 0.15439848015112895, 0.2826679867382207, 0.08076228192520592, 0.1401463127525632, 0.13539559028637463, 0.207115556078546, 0.3984508793130123, 0.1913353232344663, 0.07495610600937856, 0.08284622243141841, 0.04536816942672913, 0.34572157190118114, 0.13695250674346307, 0.18872723490257715, 0.08183747354182548, 0.11023006640327515, 0.1352823542222013, 0.4802486247986026, 0.17717910429463007, 0.09325216015506846, 0.08392694413956162, 0.08858955214731504, 0.07460172812405477, 0.25624887102965044, 0.24117540802790627, 0.14319789851656936, 0.21102848202441798, 0.09044077801046485, 0.06029385200697657, 0.21080517661005949, 0.10540258830502974, 0.38647615711844235, 0.10540258830502974, 0.09369118960447088, 0.10540258830502974, 0.49390667799662735, 0.11354176505669594, 0.17598973583787872, 0.07380214728685236, 0.07947923553968717, 0.06244797078118277, 0.39072455062498956, 0.15472692204749589, 0.1578527184524958, 0.10940287417499708, 0.09064809574499759, 0.09689968855499742, 0.2716841097951433, 0.2735839986748296, 0.1272925549389832, 0.0683959996687074, 0.19758844348737692, 0.05889655527027581, 0.0899127923558291, 0.17083430547607528, 0.445068322161354, 0.14835610738711802, 0.06743459426687182, 0.07642587350245474, 0.3379218198054213, 0.1384925491005825, 0.1052543373164427, 0.0997146353524194, 0.2049689726688621, 0.110794039280466, 0.370911253855293, 0.15977715550689545, 0.13124552059494984, 0.06847592378866947, 0.23966573326034318, 0.028531634911945616, 0.2642704615156038, 0.21141636921248302, 0.17177579998514245, 0.06606761537890095, 0.10570818460624151, 0.18498932306092264, 0.26522301525854386, 0.2031495436022889, 0.15800520057955802, 0.11850390043466852, 0.16929128633524074, 0.08746716460654105, 0.2567704722773097, 0.11318172133276151, 0.34123444342116155, 0.07601757402946668, 0.14189947152167115, 0.07094973576083557, 0.19695876296827594, 0.34867024255194795, 0.08783296186423116, 0.20228197277822935, 0.09581777657916127, 0.06920172752939426, 0.1803934809992416, 0.3722042709224858, 0.1278738599488295, 0.13244078351843053, 0.1278738599488295, 0.05937000640481369, 0.25445696950844393, 0.25131552544043845, 0.24032047120241926, 0.06754104746211782, 0.10837982034618908, 0.07853610170013701, 0.44863106602970104, 0.1035302460068541, 0.12078528700799644, 0.14954368867656703, 0.09777856567313997, 0.08627520500571174, 0.3862371289854896, 0.1138383117009864, 0.0935100417543817, 0.1138383117009864, 0.0935100417543817, 0.20328269946604716, 0.18237223263591448, 0.19269518920021153, 0.35098052318609957, 0.06193773938578228, 0.13763942085729394, 0.07226069595007932, 0.150207537283541, 0.26286319024619675, 0.33796695888796724, 0.06759339177759345, 0.11265565296265574, 0.06759339177759345, 0.387722840783094, 0.2505807005934406, 0.1252903502967203, 0.07957630356683588, 0.11343856040378732, 0.0423278210461893, 0.1385652671804866, 0.43028161913940577, 0.1021007231856217, 0.1021007231856217, 0.12397944958254065, 0.10939363198459469, 0.20799581481462245, 0.3805377975585706, 0.11108867382144608, 0.11817944023558093, 0.11581585143086931, 0.06618048653192532, 0.1659374649002925, 0.4020273539860745, 0.0701524241854895, 0.13760667820999864, 0.125464912485587, 0.09983229595627352, 0.1773288569807046, 0.3338894694501555, 0.10703633709646133, 0.193304429681669, 0.12301190979742573, 0.0670974053440504, 0.1326120891460686, 0.40520360572409847, 0.1547141040037467, 0.10314273600249779, 0.1252447508601759, 0.0663060445730343, 0.19253433012058283, 0.4064613635878971, 0.12122531896481141, 0.07843991227134856, 0.14261802231154283, 0.06417811004019428, 0.26578163921123354, 0.34226556416410653, 0.10707749493402215, 0.13193477054370586, 0.08604441557198209, 0.06501133620994202, 0.170629920703221, 0.18097112801856774, 0.227506560937628, 0.1292650914418341, 0.13960629875718084, 0.14994750607252755, 0.22624525197780923, 0.2585660022603534, 0.11918276666688164, 0.16160375141272088, 0.08686201638433748, 0.1474634231641078, 0.34853541767572166, 0.15800272267966048, 0.10688419475388797, 0.14406130597263161, 0.055765666828115464, 0.1858855560937182, 0.10082669408115301, 0.36421071127273635, 0.1419804467673379, 0.22017257687108924, 0.07613444246944207, 0.09671131881253452, 0.2766448898816804, 0.10961401297198659, 0.1461520172959821, 0.12527315768227038, 0.14093230239255417, 0.19834916633026142, 0.13516741087540085, 0.2378946431407055, 0.21626785740064136, 0.1784209823555291, 0.08650714296025654, 0.1459808037454329, 0.1679536920573522, 0.41988423014338044, 0.13701485404678732, 0.07955701202716682, 0.12817518604376876, 0.06629751002263902, 0.22435347265729613, 0.12580568560222213, 0.26628870119137016, 0.176127959843111, 0.098547787055074, 0.10693483276188881, 0.215421008768299, 0.1895704877161031, 0.16371996666390723, 0.15510312631317527, 0.11201892455951548, 0.15510312631317527, 0.21966563342316706, 0.3091590396326055, 0.08949340620943844, 0.211529869222309, 0.06508611360686431, 0.08949340620943844, 0.16706994586420884, 0.2546797955247086, 0.18336945277779018, 0.1365083704012438, 0.13854580876544148, 0.12020886348766245, 0.3592771700984842, 0.1466437428973405, 0.21116698977217033, 0.06452324687482983, 0.1173149943178724, 0.09971774517019154, 0.20744830531251957, 0.34286594905819207, 0.0936398600369012, 0.24490424932728005, 0.041777783708771304, 0.06914943510417319, 0.1831789108494162, 0.2365094798308918, 0.24114692061188966, 0.12521090108694272, 0.14376066421093422, 0.06956161171496818, 0.13264411127537948, 0.243778366668265, 0.3441576941199035, 0.11471923137330117, 0.08603942352997587, 0.08245444754956022, 0.3097229647864081, 0.12056330172893738, 0.24320528107389092, 0.08730445987267879, 0.16213685404926062, 0.07691107179259798, 0.2705433075637101, 0.21213054797609085, 0.17216392299508823, 0.12758576436243146, 0.12451140859466203, 0.0937678509169677, 0.11583355529051187, 0.19305592548418646, 0.39254704848451244, 0.12226875280665142, 0.08365756770981413, 0.09009276522595368], \"Term\": [\"activ\", \"activ\", \"activ\", \"activ\", \"activ\", \"activ\", \"actual\", \"actual\", \"actual\", \"actual\", \"actual\", \"actual\", \"administr\", \"administr\", \"administr\", \"administr\", \"administr\", \"administr\", \"advoc\", \"advoc\", \"advoc\", \"advoc\", \"advoc\", \"advoc\", \"afford\", \"afford\", \"afford\", \"afford\", \"afford\", \"afford\", \"afghan\", \"afghan\", \"afghan\", \"afghan\", \"afghan\", \"afghan\", \"afghanistan\", \"afghanistan\", \"afghanistan\", \"afghanistan\", \"afghanistan\", \"afghanistan\", \"africa\", \"africa\", \"africa\", \"africa\", \"africa\", \"africa\", \"african\", \"african\", \"african\", \"african\", \"african\", \"african\", \"agreement\", \"agreement\", \"agreement\", \"agreement\", \"agreement\", \"agreement\", \"alli\", \"alli\", \"alli\", \"alli\", \"alli\", \"alli\", \"allianc\", \"allianc\", \"allianc\", \"allianc\", \"allianc\", \"allianc\", \"altern\", \"altern\", \"altern\", \"altern\", \"altern\", \"altern\", \"arm\", \"arm\", \"arm\", \"arm\", \"arm\", \"arm\", \"arriv\", \"arriv\", \"arriv\", \"arriv\", \"arriv\", \"arriv\", \"asia\", \"asia\", \"asia\", \"asia\", \"asia\", \"asia\", \"assum\", \"assum\", \"assum\", \"assum\", \"assum\", \"assum\", \"attack\", \"attack\", \"attack\", \"attack\", \"attack\", \"attack\", \"background\", \"background\", \"background\", \"background\", \"background\", \"background\", \"belief\", \"belief\", \"belief\", \"belief\", \"belief\", \"belief\", \"benefit\", \"benefit\", \"benefit\", \"benefit\", \"benefit\", \"benefit\", \"biden\", \"biden\", \"biden\", \"biden\", \"biden\", \"biden\", \"biggest\", \"biggest\", \"biggest\", \"biggest\", \"biggest\", \"biggest\", \"black\", \"black\", \"black\", \"black\", \"black\", \"black\", \"bless\", \"bless\", \"bless\", \"bless\", \"bless\", \"bless\", \"bomb\", \"bomb\", \"bomb\", \"bomb\", \"bomb\", \"bomb\", \"brother\", \"brother\", \"brother\", \"brother\", \"brother\", \"brother\", \"budget\", \"budget\", \"budget\", \"budget\", \"budget\", \"budget\", \"buy\", \"buy\", \"buy\", \"buy\", \"buy\", \"buy\", \"case\", \"case\", \"case\", \"case\", \"case\", \"case\", \"celebr\", \"celebr\", \"celebr\", \"celebr\", \"celebr\", \"celebr\", \"centuri\", \"centuri\", \"centuri\", \"centuri\", \"centuri\", \"centuri\", \"charact\", \"charact\", \"charact\", \"charact\", \"charact\", \"charact\", \"check\", \"check\", \"check\", \"check\", \"check\", \"check\", \"child\", \"child\", \"child\", \"child\", \"child\", \"child\", \"china\", \"china\", \"china\", \"china\", \"china\", \"china\", \"choos\", \"choos\", \"choos\", \"choos\", \"choos\", \"choos\", \"church\", \"church\", \"church\", \"church\", \"church\", \"church\", \"citi\", \"citi\", \"citi\", \"citi\", \"citi\", \"citi\", \"civil\", \"civil\", \"civil\", \"civil\", \"civil\", \"civil\", \"civilian\", \"civilian\", \"civilian\", \"civilian\", \"civilian\", \"civilian\", \"class\", \"class\", \"class\", \"class\", \"class\", \"class\", \"colleg\", \"colleg\", \"colleg\", \"colleg\", \"colleg\", \"colleg\", \"comfort\", \"comfort\", \"comfort\", \"comfort\", \"comfort\", \"comfort\", \"command\", \"command\", \"command\", \"command\", \"command\", \"command\", \"commerc\", \"commerc\", \"commerc\", \"commerc\", \"commerc\", \"commerc\", \"compani\", \"compani\", \"compani\", \"compani\", \"compani\", \"compani\", \"concern\", \"concern\", \"concern\", \"concern\", \"concern\", \"concern\", \"congression\", \"congression\", \"congression\", \"congression\", \"congression\", \"congression\", \"consequ\", \"consequ\", \"consequ\", \"consequ\", \"consequ\", \"consequ\", \"consum\", \"consum\", \"consum\", \"consum\", \"consum\", \"consum\", \"contribut\", \"contribut\", \"contribut\", \"contribut\", \"contribut\", \"contribut\", \"cooper\", \"cooper\", \"cooper\", \"cooper\", \"cooper\", \"cooper\", \"cost\", \"cost\", \"cost\", \"cost\", \"cost\", \"cost\", \"couldn\", \"couldn\", \"couldn\", \"couldn\", \"couldn\", \"couldn\", \"coupl\", \"coupl\", \"coupl\", \"coupl\", \"coupl\", \"coupl\", \"courag\", \"courag\", \"courag\", \"courag\", \"courag\", \"courag\", \"court\", \"court\", \"court\", \"court\", \"court\", \"court\", \"cover\", \"cover\", \"cover\", \"cover\", \"cover\", \"cover\", \"cut\", \"cut\", \"cut\", \"cut\", \"cut\", \"cut\", \"deal\", \"deal\", \"deal\", \"deal\", \"deal\", \"deal\", \"debat\", \"debat\", \"debat\", \"debat\", \"debat\", \"debat\", \"decis\", \"decis\", \"decis\", \"decis\", \"decis\", \"decis\", \"deepen\", \"deepen\", \"deepen\", \"deepen\", \"deepen\", \"deepen\", \"defeat\", \"defeat\", \"defeat\", \"defeat\", \"defeat\", \"defeat\", \"defens\", \"defens\", \"defens\", \"defens\", \"defens\", \"defens\", \"deficit\", \"deficit\", \"deficit\", \"deficit\", \"deficit\", \"deficit\", \"democraci\", \"democraci\", \"democraci\", \"democraci\", \"democraci\", \"democraci\", \"depart\", \"depart\", \"depart\", \"depart\", \"depart\", \"depart\", \"develop\", \"develop\", \"develop\", \"develop\", \"develop\", \"develop\", \"diplomaci\", \"diplomaci\", \"diplomaci\", \"diplomaci\", \"diplomaci\", \"diplomaci\", \"diplomat\", \"diplomat\", \"diplomat\", \"diplomat\", \"diplomat\", \"diplomat\", \"disast\", \"disast\", \"disast\", \"disast\", \"disast\", \"disast\", \"discrimin\", \"discrimin\", \"discrimin\", \"discrimin\", \"discrimin\", \"discrimin\", \"distinguish\", \"distinguish\", \"distinguish\", \"distinguish\", \"distinguish\", \"distinguish\", \"dream\", \"dream\", \"dream\", \"dream\", \"dream\", \"dream\", \"drug\", \"drug\", \"drug\", \"drug\", \"drug\", \"drug\", \"duti\", \"duti\", \"duti\", \"duti\", \"duti\", \"duti\", \"earn\", \"earn\", \"earn\", \"earn\", \"earn\", \"earn\", \"east\", \"east\", \"east\", \"east\", \"east\", \"east\", \"elect\", \"elect\", \"elect\", \"elect\", \"elect\", \"elect\", \"employ\", \"employ\", \"employ\", \"employ\", \"employ\", \"employ\", \"empow\", \"empow\", \"empow\", \"empow\", \"empow\", \"empow\", \"endur\", \"endur\", \"endur\", \"endur\", \"endur\", \"endur\", \"enemi\", \"enemi\", \"enemi\", \"enemi\", \"enemi\", \"enemi\", \"energi\", \"energi\", \"energi\", \"energi\", \"energi\", \"energi\", \"europ\", \"europ\", \"europ\", \"europ\", \"europ\", \"europ\", \"european\", \"european\", \"european\", \"european\", \"european\", \"european\", \"extremist\", \"extremist\", \"extremist\", \"extremist\", \"extremist\", \"extremist\", \"facil\", \"facil\", \"facil\", \"facil\", \"facil\", \"facil\", \"faith\", \"faith\", \"faith\", \"faith\", \"faith\", \"faith\", \"father\", \"father\", \"father\", \"father\", \"father\", \"father\", \"fear\", \"fear\", \"fear\", \"fear\", \"fear\", \"fear\", \"feder\", \"feder\", \"feder\", \"feder\", \"feder\", \"feder\", \"fellow\", \"fellow\", \"fellow\", \"fellow\", \"fellow\", \"fellow\", \"fine\", \"fine\", \"fine\", \"fine\", \"fine\", \"fine\", \"finish\", \"finish\", \"finish\", \"finish\", \"finish\", \"finish\", \"firm\", \"firm\", \"firm\", \"firm\", \"firm\", \"firm\", \"flag\", \"flag\", \"flag\", \"flag\", \"flag\", \"flag\", \"folk\", \"folk\", \"folk\", \"folk\", \"folk\", \"folk\", \"forev\", \"forev\", \"forev\", \"forev\", \"forev\", \"forev\", \"forg\", \"forg\", \"forg\", \"forg\", \"forg\", \"forg\", \"freedom\", \"freedom\", \"freedom\", \"freedom\", \"freedom\", \"freedom\", \"game\", \"game\", \"game\", \"game\", \"game\", \"game\", \"gather\", \"gather\", \"gather\", \"gather\", \"gather\", \"gather\", \"girl\", \"girl\", \"girl\", \"girl\", \"girl\", \"girl\", \"global\", \"global\", \"global\", \"global\", \"global\", \"global\", \"governor\", \"governor\", \"governor\", \"governor\", \"governor\", \"governor\", \"grate\", \"grate\", \"grate\", \"grate\", \"grate\", \"grate\", \"group\", \"group\", \"group\", \"group\", \"group\", \"group\", \"happi\", \"happi\", \"happi\", \"happi\", \"happi\", \"happi\", \"healthi\", \"healthi\", \"healthi\", \"healthi\", \"healthi\", \"healthi\", \"heart\", \"heart\", \"heart\", \"heart\", \"heart\", \"heart\", \"hello\", \"hello\", \"hello\", \"hello\", \"hello\", \"hello\", \"hero\", \"hero\", \"hero\", \"hero\", \"hero\", \"hero\", \"hire\", \"hire\", \"hire\", \"hire\", \"hire\", \"hire\", \"honor\", \"honor\", \"honor\", \"honor\", \"honor\", \"honor\", \"human\", \"human\", \"human\", \"human\", \"human\", \"human\", \"immigr\", \"immigr\", \"immigr\", \"immigr\", \"immigr\", \"immigr\", \"importantli\", \"importantli\", \"importantli\", \"importantli\", \"importantli\", \"importantli\", \"incred\", \"incred\", \"incred\", \"incred\", \"incred\", \"incred\", \"inform\", \"inform\", \"inform\", \"inform\", \"inform\", \"inform\", \"institut\", \"institut\", \"institut\", \"institut\", \"institut\", \"institut\", \"insur\", \"insur\", \"insur\", \"insur\", \"insur\", \"insur\", \"intellig\", \"intellig\", \"intellig\", \"intellig\", \"intellig\", \"intellig\", \"interest\", \"interest\", \"interest\", \"interest\", \"interest\", \"interest\", \"intern\", \"intern\", \"intern\", \"intern\", \"intern\", \"intern\", \"iran\", \"iran\", \"iran\", \"iran\", \"iran\", \"iran\", \"iraq\", \"iraq\", \"iraq\", \"iraq\", \"iraq\", \"iraq\", \"iraqi\", \"iraqi\", \"iraqi\", \"iraqi\", \"iraqi\", \"iraqi\", \"isil\", \"isil\", \"isil\", \"isil\", \"isil\", \"isil\", \"islam\", \"islam\", \"islam\", \"islam\", \"islam\", \"islam\", \"israel\", \"israel\", \"israel\", \"israel\", \"israel\", \"israel\", \"join\", \"join\", \"join\", \"join\", \"join\", \"join\", \"justic\", \"justic\", \"justic\", \"justic\", \"justic\", \"justic\", \"kennedi\", \"kennedi\", \"kennedi\", \"kennedi\", \"kennedi\", \"kennedi\", \"kid\", \"kid\", \"kid\", \"kid\", \"kid\", \"kid\", \"kill\", \"kill\", \"kill\", \"kill\", \"kill\", \"kill\", \"king\", \"king\", \"king\", \"king\", \"king\", \"king\", \"lack\", \"lack\", \"lack\", \"lack\", \"lack\", \"lack\", \"law\", \"law\", \"law\", \"law\", \"law\", \"law\", \"legaci\", \"legaci\", \"legaci\", \"legaci\", \"legaci\", \"legaci\", \"legisl\", \"legisl\", \"legisl\", \"legisl\", \"legisl\", \"legisl\", \"local\", \"local\", \"local\", \"local\", \"local\", \"local\", \"lower\", \"lower\", \"lower\", \"lower\", \"lower\", \"lower\", \"march\", \"march\", \"march\", \"march\", \"march\", \"march\", \"mayor\", \"mayor\", \"mayor\", \"mayor\", \"mayor\", \"mayor\", \"memori\", \"memori\", \"memori\", \"memori\", \"memori\", \"memori\", \"middl\", \"middl\", \"middl\", \"middl\", \"middl\", \"middl\", \"militari\", \"militari\", \"militari\", \"militari\", \"militari\", \"militari\", \"minist\", \"minist\", \"minist\", \"minist\", \"minist\", \"minist\", \"minut\", \"minut\", \"minut\", \"minut\", \"minut\", \"minut\", \"money\", \"money\", \"money\", \"money\", \"money\", \"money\", \"morn\", \"morn\", \"morn\", \"morn\", \"morn\", \"morn\", \"mother\", \"mother\", \"mother\", \"mother\", \"mother\", \"mother\", \"move\", \"move\", \"move\", \"move\", \"move\", \"move\", \"muslim\", \"muslim\", \"muslim\", \"muslim\", \"muslim\", \"muslim\", \"mutual\", \"mutual\", \"mutual\", \"mutual\", \"mutual\", \"mutual\", \"name\", \"name\", \"name\", \"name\", \"name\", \"name\", \"negoti\", \"negoti\", \"negoti\", \"negoti\", \"negoti\", \"negoti\", \"note\", \"note\", \"note\", \"note\", \"note\", \"note\", \"nuclear\", \"nuclear\", \"nuclear\", \"nuclear\", \"nuclear\", \"nuclear\", \"number\", \"number\", \"number\", \"number\", \"number\", \"number\", \"obama\", \"obama\", \"obama\", \"obama\", \"obama\", \"obama\", \"object\", \"object\", \"object\", \"object\", \"object\", \"object\", \"organ\", \"organ\", \"organ\", \"organ\", \"organ\", \"organ\", \"outstand\", \"outstand\", \"outstand\", \"outstand\", \"outstand\", \"outstand\", \"overcom\", \"overcom\", \"overcom\", \"overcom\", \"overcom\", \"overcom\", \"owner\", \"owner\", \"owner\", \"owner\", \"owner\", \"owner\", \"pacif\", \"pacif\", \"pacif\", \"pacif\", \"pacif\", \"pacif\", \"parent\", \"parent\", \"parent\", \"parent\", \"parent\", \"parent\", \"parti\", \"parti\", \"parti\", \"parti\", \"parti\", \"parti\", \"partnership\", \"partnership\", \"partnership\", \"partnership\", \"partnership\", \"partnership\", \"pay\", \"pay\", \"pay\", \"pay\", \"pay\", \"pay\", \"percent\", \"percent\", \"percent\", \"percent\", \"percent\", \"percent\", \"phone\", \"phone\", \"phone\", \"phone\", \"phone\", \"phone\", \"polic\", \"polic\", \"polic\", \"polic\", \"polic\", \"polic\", \"polici\", \"polici\", \"polici\", \"polici\", \"polici\", \"polici\", \"posit\", \"posit\", \"posit\", \"posit\", \"posit\", \"posit\", \"post\", \"post\", \"post\", \"post\", \"post\", \"post\", \"pray\", \"pray\", \"pray\", \"pray\", \"pray\", \"pray\", \"prayer\", \"prayer\", \"prayer\", \"prayer\", \"prayer\", \"prayer\", \"pressur\", \"pressur\", \"pressur\", \"pressur\", \"pressur\", \"pressur\", \"price\", \"price\", \"price\", \"price\", \"price\", \"price\", \"prime\", \"prime\", \"prime\", \"prime\", \"prime\", \"prime\", \"privat\", \"privat\", \"privat\", \"privat\", \"privat\", \"privat\", \"process\", \"process\", \"process\", \"process\", \"process\", \"process\", \"profession\", \"profession\", \"profession\", \"profession\", \"profession\", \"profession\", \"profit\", \"profit\", \"profit\", \"profit\", \"profit\", \"profit\", \"program\", \"program\", \"program\", \"program\", \"program\", \"program\", \"promis\", \"promis\", \"promis\", \"promis\", \"promis\", \"promis\", \"propos\", \"propos\", \"propos\", \"propos\", \"propos\", \"propos\", \"prosper\", \"prosper\", \"prosper\", \"prosper\", \"prosper\", \"prosper\", \"proud\", \"proud\", \"proud\", \"proud\", \"proud\", \"proud\", \"qaeda\", \"qaeda\", \"qaeda\", \"qaeda\", \"qaeda\", \"qaeda\", \"rais\", \"rais\", \"rais\", \"rais\", \"rais\", \"rais\", \"rat\", \"rat\", \"rat\", \"rat\", \"rat\", \"rat\", \"reaffirm\", \"reaffirm\", \"reaffirm\", \"reaffirm\", \"reaffirm\", \"reaffirm\", \"real\", \"real\", \"real\", \"real\", \"real\", \"real\", \"recogn\", \"recogn\", \"recogn\", \"recogn\", \"recogn\", \"recogn\", \"reduc\", \"reduc\", \"reduc\", \"reduc\", \"reduc\", \"reduc\", \"reform\", \"reform\", \"reform\", \"reform\", \"reform\", \"reform\", \"regim\", \"regim\", \"regim\", \"regim\", \"regim\", \"regim\", \"region\", \"region\", \"region\", \"region\", \"region\", \"region\", \"religi\", \"religi\", \"religi\", \"religi\", \"religi\", \"religi\", \"religion\", \"religion\", \"religion\", \"religion\", \"religion\", \"religion\", \"remind\", \"remind\", \"remind\", \"remind\", \"remind\", \"remind\", \"remov\", \"remov\", \"remov\", \"remov\", \"remov\", \"remov\", \"republican\", \"republican\", \"republican\", \"republican\", \"republican\", \"republican\", \"resolut\", \"resolut\", \"resolut\", \"resolut\", \"resolut\", \"resolut\", \"rule\", \"rule\", \"rule\", \"rule\", \"rule\", \"rule\", \"russia\", \"russia\", \"russia\", \"russia\", \"russia\", \"russia\", \"sanction\", \"sanction\", \"sanction\", \"sanction\", \"sanction\", \"sanction\", \"school\", \"school\", \"school\", \"school\", \"school\", \"school\", \"seek\", \"seek\", \"seek\", \"seek\", \"seek\", \"seek\", \"senat\", \"senat\", \"senat\", \"senat\", \"senat\", \"senat\", \"senior\", \"senior\", \"senior\", \"senior\", \"senior\", \"senior\", \"seven\", \"seven\", \"seven\", \"seven\", \"seven\", \"seven\", \"shake\", \"shake\", \"shake\", \"shake\", \"shake\", \"shake\", \"sick\", \"sick\", \"sick\", \"sick\", \"sick\", \"sick\", \"small\", \"small\", \"small\", \"small\", \"small\", \"small\", \"societi\", \"societi\", \"societi\", \"societi\", \"societi\", \"societi\", \"soldier\", \"soldier\", \"soldier\", \"soldier\", \"soldier\", \"soldier\", \"sort\", \"sort\", \"sort\", \"sort\", \"sort\", \"sort\", \"space\", \"space\", \"space\", \"space\", \"space\", \"space\", \"speaker\", \"speaker\", \"speaker\", \"speaker\", \"speaker\", \"speaker\", \"stay\", \"stay\", \"stay\", \"stay\", \"stay\", \"stay\", \"stori\", \"stori\", \"stori\", \"stori\", \"stori\", \"stori\", \"strategi\", \"strategi\", \"strategi\", \"strategi\", \"strategi\", \"strategi\", \"strengthen\", \"strengthen\", \"strengthen\", \"strengthen\", \"strengthen\", \"strengthen\", \"student\", \"student\", \"student\", \"student\", \"student\", \"student\", \"stuff\", \"stuff\", \"stuff\", \"stuff\", \"stuff\", \"stuff\", \"tax\", \"tax\", \"tax\", \"tax\", \"tax\", \"tax\", \"teach\", \"teach\", \"teach\", \"teach\", \"teach\", \"teach\", \"tear\", \"tear\", \"tear\", \"tear\", \"tear\", \"tear\", \"technolog\", \"technolog\", \"technolog\", \"technolog\", \"technolog\", \"technolog\", \"territori\", \"territori\", \"territori\", \"territori\", \"territori\", \"territori\", \"terror\", \"terror\", \"terror\", \"terror\", \"terror\", \"terror\", \"terrorist\", \"terrorist\", \"terrorist\", \"terrorist\", \"terrorist\", \"terrorist\", \"threat\", \"threat\", \"threat\", \"threat\", \"threat\", \"threat\", \"tie\", \"tie\", \"tie\", \"tie\", \"tie\", \"tie\", \"toler\", \"toler\", \"toler\", \"toler\", \"toler\", \"toler\", \"trade\", \"trade\", \"trade\", \"trade\", \"trade\", \"trade\", \"tragedi\", \"tragedi\", \"tragedi\", \"tragedi\", \"tragedi\", \"tragedi\", \"train\", \"train\", \"train\", \"train\", \"train\", \"train\", \"trillion\", \"trillion\", \"trillion\", \"trillion\", \"trillion\", \"trillion\", \"troop\", \"troop\", \"troop\", \"troop\", \"troop\", \"troop\", \"unemploy\", \"unemploy\", \"unemploy\", \"unemploy\", \"unemploy\", \"unemploy\", \"uniform\", \"uniform\", \"uniform\", \"uniform\", \"uniform\", \"uniform\", \"uphold\", \"uphold\", \"uphold\", \"uphold\", \"uphold\", \"uphold\", \"veteran\", \"veteran\", \"veteran\", \"veteran\", \"veteran\", \"veteran\", \"vice\", \"vice\", \"vice\", \"vice\", \"vice\", \"vice\", \"violat\", \"violat\", \"violat\", \"violat\", \"violat\", \"violat\", \"violenc\", \"violenc\", \"violenc\", \"violenc\", \"violenc\", \"violenc\", \"vote\", \"vote\", \"vote\", \"vote\", \"vote\", \"vote\", \"weapon\", \"weapon\", \"weapon\", \"weapon\", \"weapon\", \"weapon\", \"welcom\", \"welcom\", \"welcom\", \"welcom\", \"welcom\", \"welcom\", \"west\", \"west\", \"west\", \"west\", \"west\", \"west\", \"white\", \"white\", \"white\", \"white\", \"white\", \"white\", \"worker\", \"worker\", \"worker\", \"worker\", \"worker\", \"worker\", \"wound\", \"wound\", \"wound\", \"wound\", \"wound\", \"wound\"]}, \"R\": 30, \"lambda.step\": 0.01, \"plot.opts\": {\"xlab\": \"PC1\", \"ylab\": \"PC2\"}, \"topic.order\": [6, 5, 4, 3, 1, 2]};\n",
       "\n",
       "function LDAvis_load_lib(url, callback){\n",
       "  var s = document.createElement('script');\n",
       "  s.src = url;\n",
       "  s.async = true;\n",
       "  s.onreadystatechange = s.onload = callback;\n",
       "  s.onerror = function(){console.warn(\"failed to load library \" + url);};\n",
       "  document.getElementsByTagName(\"head\")[0].appendChild(s);\n",
       "}\n",
       "\n",
       "if(typeof(LDAvis) !== \"undefined\"){\n",
       "   // already loaded: just create the visualization\n",
       "   !function(LDAvis){\n",
       "       new LDAvis(\"#\" + \"ldavis_el203221398961387513766444640879\", ldavis_el203221398961387513766444640879_data);\n",
       "   }(LDAvis);\n",
       "}else if(typeof define === \"function\" && define.amd){\n",
       "   // require.js is available: use it to load d3/LDAvis\n",
       "   require.config({paths: {d3: \"https://d3js.org/d3.v5\"}});\n",
       "   require([\"d3\"], function(d3){\n",
       "      window.d3 = d3;\n",
       "      LDAvis_load_lib(\"https://cdn.jsdelivr.net/gh/bmabey/pyLDAvis@3.3.1/pyLDAvis/js/ldavis.v3.0.0.js\", function(){\n",
       "        new LDAvis(\"#\" + \"ldavis_el203221398961387513766444640879\", ldavis_el203221398961387513766444640879_data);\n",
       "      });\n",
       "    });\n",
       "}else{\n",
       "    // require.js not available: dynamically load d3 & LDAvis\n",
       "    LDAvis_load_lib(\"https://d3js.org/d3.v5.js\", function(){\n",
       "         LDAvis_load_lib(\"https://cdn.jsdelivr.net/gh/bmabey/pyLDAvis@3.3.1/pyLDAvis/js/ldavis.v3.0.0.js\", function(){\n",
       "                 new LDAvis(\"#\" + \"ldavis_el203221398961387513766444640879\", ldavis_el203221398961387513766444640879_data);\n",
       "            })\n",
       "         });\n",
       "}\n",
       "</script>"
      ],
      "text/plain": [
       "PreparedData(topic_coordinates=              x         y  topics  cluster       Freq\n",
       "topic                                                \n",
       "5     -0.023535  0.002735       1        1  27.058229\n",
       "4      0.024394 -0.001081       2        1  23.833769\n",
       "3      0.000804 -0.017426       3        1  16.599453\n",
       "2      0.005972  0.023715       4        1  12.090918\n",
       "0      0.000631 -0.011526       5        1  11.751475\n",
       "1     -0.008266  0.003583       6        1   8.666155, topic_info=         Term         Freq        Total Category  logprob  loglift\n",
       "644      iran   823.000000   823.000000  Default  30.0000  30.0000\n",
       "50   governor   588.000000   588.000000  Default  29.0000  29.0000\n",
       "658   nuclear   917.000000   917.000000  Default  28.0000  28.0000\n",
       "764     obama  1735.000000  1735.000000  Default  27.0000  27.0000\n",
       "293      iraq   762.000000   762.000000  Default  26.0000  26.0000\n",
       "..        ...          ...          ...      ...      ...      ...\n",
       "581     reduc    61.479493   579.195045   Topic6  -5.8649   0.2028\n",
       "558     insur    71.520543  1099.710746   Topic6  -5.7137  -0.2871\n",
       "582    reform    69.467195  1000.748211   Topic6  -5.7428  -0.2219\n",
       "235    energi    68.024582   954.686551   Topic6  -5.7638  -0.1958\n",
       "117     small    62.028683   639.836938   Topic6  -5.8560   0.1121\n",
       "\n",
       "[392 rows x 6 columns], token_table=      Topic      Freq   Term\n",
       "term                        \n",
       "149       1  0.228409  activ\n",
       "149       2  0.213830  activ\n",
       "149       3  0.140933  activ\n",
       "149       4  0.223549  activ\n",
       "149       5  0.126354  activ\n",
       "...     ...       ...    ...\n",
       "143       2  0.193056  wound\n",
       "143       3  0.392547  wound\n",
       "143       4  0.122269  wound\n",
       "143       5  0.083658  wound\n",
       "143       6  0.090093  wound\n",
       "\n",
       "[1566 rows x 3 columns], R=30, lambda_step=0.01, plot_opts={'xlab': 'PC1', 'ylab': 'PC2'}, topic_order=[6, 5, 4, 3, 1, 2])"
      ]
     },
     "execution_count": 87,
     "metadata": {},
     "output_type": "execute_result"
    }
   ],
   "source": [
    "vis"
   ]
  },
  {
   "cell_type": "code",
   "execution_count": null,
   "metadata": {},
   "outputs": [],
   "source": []
  }
 ],
 "metadata": {
  "accelerator": "GPU",
  "colab": {
   "name": "LDA model and Topic Analysis",
   "provenance": []
  },
  "gpuClass": "standard",
  "kernelspec": {
   "display_name": "Python 3 (ipykernel)",
   "language": "python",
   "name": "python3"
  },
  "language_info": {
   "codemirror_mode": {
    "name": "ipython",
    "version": 3
   },
   "file_extension": ".py",
   "mimetype": "text/x-python",
   "name": "python",
   "nbconvert_exporter": "python",
   "pygments_lexer": "ipython3",
   "version": "3.10.6"
  }
 },
 "nbformat": 4,
 "nbformat_minor": 1
}
