{
 "cells": [
  {
   "cell_type": "markdown",
   "id": "1f303393",
   "metadata": {},
   "source": [
    "### A Start at some correspondence analysis like I did for Corpus Linguistics"
   ]
  },
  {
   "cell_type": "code",
   "execution_count": 15,
   "id": "0457e61f",
   "metadata": {},
   "outputs": [],
   "source": [
    "import pandas as pd\n",
    "import numpy as np\n",
    "import matplotlib.pyplot as plt\n",
    "import plotly.graph_objects as go # for fancy interactive plot\n",
    "import seaborn as sns\n",
    "import requests\n",
    "import re\n",
    "from bs4 import BeautifulSoup\n",
    "import os # to check if directory exists and create it if it doesn't\n",
    "from datetime import datetime # to parse speech date\n",
    "from nrclex import NRCLex\n",
    "import spacy\n",
    "import en_core_web_md\n",
    "import csv\n",
    "import prince # for correspondence analysis\n",
    "import nltk"
   ]
  },
  {
   "cell_type": "code",
   "execution_count": null,
   "id": "7b31a614",
   "metadata": {},
   "outputs": [],
   "source": [
    "#nltk.download('all', halt_on_error=False) # maybe don't need all"
   ]
  },
  {
   "cell_type": "code",
   "execution_count": 31,
   "id": "fe67d091",
   "metadata": {},
   "outputs": [
    {
     "data": {
      "text/plain": [
       "(3000, 4)"
      ]
     },
     "execution_count": 31,
     "metadata": {},
     "output_type": "execute_result"
    }
   ],
   "source": [
    "# Load the two data sets needed\n",
    "# string encodings to try utf_8, iso8859_15\n",
    "facetPlotData = pd.read_csv('facetPlotData.csv')\n",
    "df = pd.read_csv('fullEmotionData.csv', encoding='utf_8') # apostrophes aren't being read correctly\n",
    "# Pandas reads date as string, cast to datetime object\n",
    "df['date'] = pd.to_datetime(df['date'], format='%Y-%m-%d')\n",
    "facetPlotData['date'] = pd.to_datetime(facetPlotData['date'], format='%Y-%m-%d')\n",
    "facetPlotData.shape # Should be (3000, 4) "
   ]
  },
  {
   "cell_type": "code",
   "execution_count": 18,
   "id": "b663c7cf",
   "metadata": {},
   "outputs": [],
   "source": [
    "# Tells pandas to print all the text when printing an article or speech not just a 50 character preview\n",
    "pd.options.display.max_rows\n",
    "pd.set_option('display.max_colwidth', None)"
   ]
  },
  {
   "cell_type": "code",
   "execution_count": 19,
   "id": "eb4623af",
   "metadata": {},
   "outputs": [],
   "source": [
    "# Function to find date of max emoValue for a particular source and emotion\n",
    "def findmax(sourcefm, emofm, printyn):\n",
    "    '''\n",
    "    Function to print date of maximum value of subset of data\n",
    "    # sourcefm - source name (oba, nyt, wsj)\n",
    "    # emofm - emotion name (fear,anger,trust,surprise,positive,negative,sadness,disgust,joy,anticipation)\n",
    "    # printyn = 0 or 1 to print text\n",
    "    '''\n",
    "    find = facetPlotData[(facetPlotData['source'] == sourcefm) & (facetPlotData['emotion'] == emofm)]\n",
    "    result = find.loc[find['emoValue'].idxmax()]\n",
    "    date = result['date'].strftime('%Y-%m-%d')\n",
    "    print(date, round(result['emoValue'], 4))\n",
    "    if printyn == 1:\n",
    "        text = 'text_' + sourcefm\n",
    "        print(df.query('date == @date')[text])"
   ]
  },
  {
   "cell_type": "code",
   "execution_count": 20,
   "id": "9d97c649",
   "metadata": {},
   "outputs": [
    {
     "name": "stdout",
     "output_type": "stream",
     "text": [
      "2014-03-07 0.4107\n",
      "65    Good afternoon, everybody. Before Jay takes some of your questions, I wanted to provide a brief update on our efforts to address the ongoing crisis in Ukraine.\\n\\nSince the Russian intervention, we've been mobilizing the international community to condemn this violation of international law and to support the people and Government of Ukraine. This morning I signed an Executive order that authorizes sanctions on individuals and entities responsible for violating the sovereignty and territorial integrity of Ukraine or for stealing the assets of the Ukrainian people.\\n\\nAccording to my guidance, the State Department has also put in place restrictions on the travel of certain individuals and officials. These decisions continue our efforts to impose a cost on Russia and those responsible for the situation in Crimea. And they also give us the flexibility to adjust our response going forward based on Russia's actions.\\n\\nWe took these steps in close coordination with our European allies. I've spoken to several of our closest friends around the world, and I'm pleased that our international unity is on display at this important moment. Already, we've moved together to announce substantial assistance for the Government in Kiev, and today in Brussels, our allies took similar steps to impose costs on Russia. I am confident that we are moving forward together, united in our determination to oppose actions that violate international law and to support the Government and people of Ukraine.\\n\\nAnd that includes standing up for the principle of state sovereignty. The proposed referendum on the future of Crimea would violate the Ukrainian Constitution and violate international law. Any discussion about the future of Ukraine must include the legitimate Government of Ukraine. In 2014, we are well beyond the days when borders can be redrawn over the heads of democratic leaders.\\n\\nWhile we take these steps, I want to be clear that there is also a way to resolve this crisis that respects the interests of the Russian Federation, as well as the Ukrainian people. Let international monitors into all of Ukraine, including Crimea, to ensure the rights of all Ukrainians are being respected, including ethnic Russians. Begin consultations between the Government of Russia and Ukraine, with the participation of the international community. Russia would maintain its basing rights in Crimea, provided that it abides by its agreements and respects Ukraine's sovereignty and territorial integrity. And the world should support the people of Ukraine as they move to elections in May.\\n\\nThat's the path of deescalation, and Secretary Kerry is engaged in discussions with all of the relevant parties, including Russia and Ukraine, to pursue that path. But if this violation of international law continues, the resolve of the United States and our allies and the international community will remain firm. Meanwhile, we've taken steps to reaffirm our commitment to the security and democracy of our allies in Eastern Europe and to support the people of Ukraine.\\n\\nOne last point: There's been a lot of talk in Congress about these issues. Today, once again, I'm calling on Congress to follow up on these words with action, specifically to support the IMF's capacity to lend resources to Ukraine and to provide American assistance for the Ukrainian Government so that they can weather this storm and stabilize their economy, make needed reforms, deliver for their people, all of which will provide a smoother pathway for the elections that have already been scheduled in May.\\n\\nToday the world can see that the United States is united with our allies and partners in upholding international law and pursuing a just outcome that advances global security and the future that the Ukrainian people deserve. That's what we're going to continue to do in the days to come until we have seen a resolution to this crisis.\\n\\nThanks very much. And Jay and Ben and others will be happy to take your questions.\\n\\n\n",
      "Name: text_oba, dtype: object\n"
     ]
    }
   ],
   "source": [
    "findmax('oba', 'positive', 1)"
   ]
  },
  {
   "cell_type": "code",
   "execution_count": 21,
   "id": "82aa62c3",
   "metadata": {},
   "outputs": [],
   "source": [
    "# ahhh, I'll work on this later. Maybe I'll translate my R code from class to python"
   ]
  },
  {
   "cell_type": "code",
   "execution_count": null,
   "id": "224f495c",
   "metadata": {},
   "outputs": [],
   "source": [
    "## Creating Freq list\n",
    "nouns_freq = nltk.FreqDist([w for w, t in nouns])\n",
    "sorted(nouns_freq.items(),key=lambda x:x[1], reverse=True)[:20]"
   ]
  },
  {
   "cell_type": "code",
   "execution_count": null,
   "id": "0e23b877",
   "metadata": {},
   "outputs": [],
   "source": [
    "df['text_oba'][0].split()"
   ]
  },
  {
   "cell_type": "markdown",
   "id": "63b7ef2a",
   "metadata": {},
   "source": [
    "### <A HREF=\"https://www.nltk.org/index.html\">NLTK Documentation</A> <A HREF=\"https://www.tomaarsen.com/nltk/api/nltk.html\">API reference</A>"
   ]
  },
  {
   "cell_type": "code",
   "execution_count": 51,
   "id": "f389c835",
   "metadata": {},
   "outputs": [
    {
     "data": {
      "text/plain": [
       "FreqDist({'the': 11387, 'to': 8635, 'and': 7612, 'of': 6761, 'that': 5052, 'a': 4820, 'in': 3998, 'our': 3436, 'we': 3271, 'for': 2434, ...})"
      ]
     },
     "execution_count": 51,
     "metadata": {},
     "output_type": "execute_result"
    }
   ],
   "source": [
    "# Create a frequency list of all words in all Obama speeches\n",
    "\n",
    "# How to flatten a list\n",
    "#[item for sublist in list_of_lists for item in sublist]\n",
    "\n",
    "freqlist = nltk.FreqDist([word for text in df['text_oba'] for word in text.split()])\n",
    "freqlist"
   ]
  },
  {
   "cell_type": "code",
   "execution_count": null,
   "id": "0844b393",
   "metadata": {},
   "outputs": [],
   "source": []
  }
 ],
 "metadata": {
  "kernelspec": {
   "display_name": "Python 3 (ipykernel)",
   "language": "python",
   "name": "python3"
  },
  "language_info": {
   "codemirror_mode": {
    "name": "ipython",
    "version": 3
   },
   "file_extension": ".py",
   "mimetype": "text/x-python",
   "name": "python",
   "nbconvert_exporter": "python",
   "pygments_lexer": "ipython3",
   "version": "3.10.6"
  }
 },
 "nbformat": 4,
 "nbformat_minor": 5
}
