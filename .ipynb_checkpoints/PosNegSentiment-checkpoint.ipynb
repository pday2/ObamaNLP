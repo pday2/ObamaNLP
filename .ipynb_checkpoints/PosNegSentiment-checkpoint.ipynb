{
 "cells": [
  {
   "cell_type": "code",
   "execution_count": 2,
   "metadata": {},
   "outputs": [],
   "source": [
    "#Load packages\n",
    "import pandas as pd\n",
    "from vaderSentiment.vaderSentiment import SentimentIntensityAnalyzer\n",
    "analyzer=SentimentIntensityAnalyzer()\n",
    "import matplotlib.pyplot as plt\n",
    "import plotly.express as px"
   ]
  },
  {
   "cell_type": "markdown",
   "metadata": {},
   "source": [
    "## Part 1: Rule-based Sentiment analysis using VADER"
   ]
  },
  {
   "cell_type": "code",
   "execution_count": 3,
   "metadata": {},
   "outputs": [
    {
     "data": {
      "text/html": [
       "<div>\n",
       "<style scoped>\n",
       "    .dataframe tbody tr th:only-of-type {\n",
       "        vertical-align: middle;\n",
       "    }\n",
       "\n",
       "    .dataframe tbody tr th {\n",
       "        vertical-align: top;\n",
       "    }\n",
       "\n",
       "    .dataframe thead th {\n",
       "        text-align: right;\n",
       "    }\n",
       "</style>\n",
       "<table border=\"1\" class=\"dataframe\">\n",
       "  <thead>\n",
       "    <tr style=\"text-align: right;\">\n",
       "      <th></th>\n",
       "      <th>Unnamed: 0</th>\n",
       "      <th>file</th>\n",
       "      <th>text_oba</th>\n",
       "      <th>text_wsj</th>\n",
       "      <th>text_nyt</th>\n",
       "      <th>date</th>\n",
       "    </tr>\n",
       "  </thead>\n",
       "  <tbody>\n",
       "    <tr>\n",
       "      <th>0</th>\n",
       "      <td>0</td>\n",
       "      <td>2004-07-28-DNCSpeech.txt</td>\n",
       "      <td>On behalf of the great state of Illinois, cros...</td>\n",
       "      <td>John Kerry's decorated service in Vietnam took...</td>\n",
       "      <td>Barack Obama took the dais as the keynote spea...</td>\n",
       "      <td>2004-07-28</td>\n",
       "    </tr>\n",
       "    <tr>\n",
       "      <th>1</th>\n",
       "      <td>1</td>\n",
       "      <td>2008-06-04-ObamaNomination.txt</td>\n",
       "      <td>Thank you....Thank you. What a -- What a wonde...</td>\n",
       "      <td>Sen. Barack Obama captured enough convention d...</td>\n",
       "      <td>Senator Barack Obama claimed the Democratic pr...</td>\n",
       "      <td>2008-06-04</td>\n",
       "    </tr>\n",
       "    <tr>\n",
       "      <th>2</th>\n",
       "      <td>2</td>\n",
       "      <td>2008-11-05-ObamaElected.txt</td>\n",
       "      <td>Hello, Chicago.\\n\\nIf there is anyone out ther...</td>\n",
       "      <td>Sen. Barack Obama was elected the nation's fir...</td>\n",
       "      <td>Barack Hussein Obama was elected the 44th pres...</td>\n",
       "      <td>2008-11-05</td>\n",
       "    </tr>\n",
       "  </tbody>\n",
       "</table>\n",
       "</div>"
      ],
      "text/plain": [
       "   Unnamed: 0                            file  \\\n",
       "0           0        2004-07-28-DNCSpeech.txt   \n",
       "1           1  2008-06-04-ObamaNomination.txt   \n",
       "2           2     2008-11-05-ObamaElected.txt   \n",
       "\n",
       "                                            text_oba  \\\n",
       "0  On behalf of the great state of Illinois, cros...   \n",
       "1  Thank you....Thank you. What a -- What a wonde...   \n",
       "2  Hello, Chicago.\\n\\nIf there is anyone out ther...   \n",
       "\n",
       "                                            text_wsj  \\\n",
       "0  John Kerry's decorated service in Vietnam took...   \n",
       "1  Sen. Barack Obama captured enough convention d...   \n",
       "2  Sen. Barack Obama was elected the nation's fir...   \n",
       "\n",
       "                                            text_nyt        date  \n",
       "0  Barack Obama took the dais as the keynote spea...  2004-07-28  \n",
       "1  Senator Barack Obama claimed the Democratic pr...  2008-06-04  \n",
       "2  Barack Hussein Obama was elected the 44th pres...  2008-11-05  "
      ]
     },
     "execution_count": 3,
     "metadata": {},
     "output_type": "execute_result"
    }
   ],
   "source": [
    "#Load previously created data of oba, wsj and nyt - see nrcEmotionAnalysis.ipynb\n",
    "data = pd.read_csv('nonEmotiondata.csv')\n",
    "data.head(3)"
   ]
  },
  {
   "cell_type": "code",
   "execution_count": 4,
   "metadata": {},
   "outputs": [
    {
     "name": "stderr",
     "output_type": "stream",
     "text": [
      "C:\\Users\\Kylan\\AppData\\Local\\Temp\\ipykernel_20784\\3916138746.py:5: SettingWithCopyWarning: \n",
      "A value is trying to be set on a copy of a slice from a DataFrame\n",
      "\n",
      "See the caveats in the documentation: https://pandas.pydata.org/pandas-docs/stable/user_guide/indexing.html#returning-a-view-versus-a-copy\n",
      "  data['oba_scores'][i]=analyzer.polarity_scores(data.iloc[i,2])\n",
      "C:\\Users\\Kylan\\AppData\\Local\\Temp\\ipykernel_20784\\3916138746.py:6: SettingWithCopyWarning: \n",
      "A value is trying to be set on a copy of a slice from a DataFrame\n",
      "\n",
      "See the caveats in the documentation: https://pandas.pydata.org/pandas-docs/stable/user_guide/indexing.html#returning-a-view-versus-a-copy\n",
      "  data['wsj_scores'][i]=analyzer.polarity_scores(data.iloc[i,3])\n",
      "C:\\Users\\Kylan\\AppData\\Local\\Temp\\ipykernel_20784\\3916138746.py:7: SettingWithCopyWarning: \n",
      "A value is trying to be set on a copy of a slice from a DataFrame\n",
      "\n",
      "See the caveats in the documentation: https://pandas.pydata.org/pandas-docs/stable/user_guide/indexing.html#returning-a-view-versus-a-copy\n",
      "  data['nyt_scores'][i]=analyzer.polarity_scores(data.iloc[i,4])\n"
     ]
    }
   ],
   "source": [
    "data['oba_scores']=0\n",
    "data['wsj_scores']=0\n",
    "data['nyt_scores']=0\n",
    "for i in range(0,len(data)):\n",
    "    data['oba_scores'][i]=analyzer.polarity_scores(data.iloc[i,2])\n",
    "    data['wsj_scores'][i]=analyzer.polarity_scores(data.iloc[i,3])\n",
    "    data['nyt_scores'][i]=analyzer.polarity_scores(data.iloc[i,4])\n",
    "#Calculating scores with vader and adding them to the df\n"
   ]
  },
  {
   "cell_type": "code",
   "execution_count": 5,
   "metadata": {},
   "outputs": [
    {
     "data": {
      "text/html": [
       "<div>\n",
       "<style scoped>\n",
       "    .dataframe tbody tr th:only-of-type {\n",
       "        vertical-align: middle;\n",
       "    }\n",
       "\n",
       "    .dataframe tbody tr th {\n",
       "        vertical-align: top;\n",
       "    }\n",
       "\n",
       "    .dataframe thead th {\n",
       "        text-align: right;\n",
       "    }\n",
       "</style>\n",
       "<table border=\"1\" class=\"dataframe\">\n",
       "  <thead>\n",
       "    <tr style=\"text-align: right;\">\n",
       "      <th></th>\n",
       "      <th>Unnamed: 0</th>\n",
       "      <th>file</th>\n",
       "      <th>text_oba</th>\n",
       "      <th>text_wsj</th>\n",
       "      <th>text_nyt</th>\n",
       "      <th>date</th>\n",
       "      <th>oba_scores</th>\n",
       "      <th>wsj_scores</th>\n",
       "      <th>nyt_scores</th>\n",
       "    </tr>\n",
       "  </thead>\n",
       "  <tbody>\n",
       "    <tr>\n",
       "      <th>0</th>\n",
       "      <td>0</td>\n",
       "      <td>2004-07-28-DNCSpeech.txt</td>\n",
       "      <td>On behalf of the great state of Illinois, cros...</td>\n",
       "      <td>John Kerry's decorated service in Vietnam took...</td>\n",
       "      <td>Barack Obama took the dais as the keynote spea...</td>\n",
       "      <td>2004-07-28</td>\n",
       "      <td>{'neg': 0.07, 'neu': 0.749, 'pos': 0.181, 'com...</td>\n",
       "      <td>{'neg': 0.111, 'neu': 0.787, 'pos': 0.102, 'co...</td>\n",
       "      <td>{'neg': 0.038, 'neu': 0.815, 'pos': 0.147, 'co...</td>\n",
       "    </tr>\n",
       "    <tr>\n",
       "      <th>1</th>\n",
       "      <td>1</td>\n",
       "      <td>2008-06-04-ObamaNomination.txt</td>\n",
       "      <td>Thank you....Thank you. What a -- What a wonde...</td>\n",
       "      <td>Sen. Barack Obama captured enough convention d...</td>\n",
       "      <td>Senator Barack Obama claimed the Democratic pr...</td>\n",
       "      <td>2008-06-04</td>\n",
       "      <td>{'neg': 0.063, 'neu': 0.76, 'pos': 0.177, 'com...</td>\n",
       "      <td>{'neg': 0.041, 'neu': 0.812, 'pos': 0.147, 'co...</td>\n",
       "      <td>{'neg': 0.05, 'neu': 0.816, 'pos': 0.133, 'com...</td>\n",
       "    </tr>\n",
       "    <tr>\n",
       "      <th>2</th>\n",
       "      <td>2</td>\n",
       "      <td>2008-11-05-ObamaElected.txt</td>\n",
       "      <td>Hello, Chicago.\\n\\nIf there is anyone out ther...</td>\n",
       "      <td>Sen. Barack Obama was elected the nation's fir...</td>\n",
       "      <td>Barack Hussein Obama was elected the 44th pres...</td>\n",
       "      <td>2008-11-05</td>\n",
       "      <td>{'neg': 0.066, 'neu': 0.758, 'pos': 0.176, 'co...</td>\n",
       "      <td>{'neg': 0.075, 'neu': 0.812, 'pos': 0.113, 'co...</td>\n",
       "      <td>{'neg': 0.066, 'neu': 0.82, 'pos': 0.114, 'com...</td>\n",
       "    </tr>\n",
       "    <tr>\n",
       "      <th>3</th>\n",
       "      <td>3</td>\n",
       "      <td>2009-01-05-EconomyPlans.txt</td>\n",
       "      <td>All right. Well, thanks for taking the time to...</td>\n",
       "      <td>President-elect Barack Obama and congressional...</td>\n",
       "      <td>President-elect Barack Obama plans to include ...</td>\n",
       "      <td>2009-01-05</td>\n",
       "      <td>{'neg': 0.072, 'neu': 0.856, 'pos': 0.072, 'co...</td>\n",
       "      <td>{'neg': 0.059, 'neu': 0.816, 'pos': 0.124, 'co...</td>\n",
       "      <td>{'neg': 0.046, 'neu': 0.872, 'pos': 0.082, 'co...</td>\n",
       "    </tr>\n",
       "    <tr>\n",
       "      <th>4</th>\n",
       "      <td>4</td>\n",
       "      <td>2009-01-20-Inauguration.txt</td>\n",
       "      <td>I, Barack Hussein Obama, do solemnly swear tha...</td>\n",
       "      <td>On a day rich in history, Barack Obama was swo...</td>\n",
       "      <td>Barack Hussein Obama was sworn in as the 44th ...</td>\n",
       "      <td>2009-01-20</td>\n",
       "      <td>{'neg': 0.105, 'neu': 0.711, 'pos': 0.184, 'co...</td>\n",
       "      <td>{'neg': 0.085, 'neu': 0.811, 'pos': 0.105, 'co...</td>\n",
       "      <td>{'neg': 0.083, 'neu': 0.813, 'pos': 0.104, 'co...</td>\n",
       "    </tr>\n",
       "  </tbody>\n",
       "</table>\n",
       "</div>"
      ],
      "text/plain": [
       "   Unnamed: 0                            file  \\\n",
       "0           0        2004-07-28-DNCSpeech.txt   \n",
       "1           1  2008-06-04-ObamaNomination.txt   \n",
       "2           2     2008-11-05-ObamaElected.txt   \n",
       "3           3     2009-01-05-EconomyPlans.txt   \n",
       "4           4     2009-01-20-Inauguration.txt   \n",
       "\n",
       "                                            text_oba  \\\n",
       "0  On behalf of the great state of Illinois, cros...   \n",
       "1  Thank you....Thank you. What a -- What a wonde...   \n",
       "2  Hello, Chicago.\\n\\nIf there is anyone out ther...   \n",
       "3  All right. Well, thanks for taking the time to...   \n",
       "4  I, Barack Hussein Obama, do solemnly swear tha...   \n",
       "\n",
       "                                            text_wsj  \\\n",
       "0  John Kerry's decorated service in Vietnam took...   \n",
       "1  Sen. Barack Obama captured enough convention d...   \n",
       "2  Sen. Barack Obama was elected the nation's fir...   \n",
       "3  President-elect Barack Obama and congressional...   \n",
       "4  On a day rich in history, Barack Obama was swo...   \n",
       "\n",
       "                                            text_nyt        date  \\\n",
       "0  Barack Obama took the dais as the keynote spea...  2004-07-28   \n",
       "1  Senator Barack Obama claimed the Democratic pr...  2008-06-04   \n",
       "2  Barack Hussein Obama was elected the 44th pres...  2008-11-05   \n",
       "3  President-elect Barack Obama plans to include ...  2009-01-05   \n",
       "4  Barack Hussein Obama was sworn in as the 44th ...  2009-01-20   \n",
       "\n",
       "                                          oba_scores  \\\n",
       "0  {'neg': 0.07, 'neu': 0.749, 'pos': 0.181, 'com...   \n",
       "1  {'neg': 0.063, 'neu': 0.76, 'pos': 0.177, 'com...   \n",
       "2  {'neg': 0.066, 'neu': 0.758, 'pos': 0.176, 'co...   \n",
       "3  {'neg': 0.072, 'neu': 0.856, 'pos': 0.072, 'co...   \n",
       "4  {'neg': 0.105, 'neu': 0.711, 'pos': 0.184, 'co...   \n",
       "\n",
       "                                          wsj_scores  \\\n",
       "0  {'neg': 0.111, 'neu': 0.787, 'pos': 0.102, 'co...   \n",
       "1  {'neg': 0.041, 'neu': 0.812, 'pos': 0.147, 'co...   \n",
       "2  {'neg': 0.075, 'neu': 0.812, 'pos': 0.113, 'co...   \n",
       "3  {'neg': 0.059, 'neu': 0.816, 'pos': 0.124, 'co...   \n",
       "4  {'neg': 0.085, 'neu': 0.811, 'pos': 0.105, 'co...   \n",
       "\n",
       "                                          nyt_scores  \n",
       "0  {'neg': 0.038, 'neu': 0.815, 'pos': 0.147, 'co...  \n",
       "1  {'neg': 0.05, 'neu': 0.816, 'pos': 0.133, 'com...  \n",
       "2  {'neg': 0.066, 'neu': 0.82, 'pos': 0.114, 'com...  \n",
       "3  {'neg': 0.046, 'neu': 0.872, 'pos': 0.082, 'co...  \n",
       "4  {'neg': 0.083, 'neu': 0.813, 'pos': 0.104, 'co...  "
      ]
     },
     "execution_count": 5,
     "metadata": {},
     "output_type": "execute_result"
    }
   ],
   "source": [
    "data.head()\n",
    "#Checking that the scores have been implemented properly"
   ]
  },
  {
   "cell_type": "code",
   "execution_count": 6,
   "metadata": {},
   "outputs": [],
   "source": [
    "oba_pos=[]\n",
    "oba_neu=[]\n",
    "oba_neg=[]\n",
    "wsj_pos=[]\n",
    "wsj_neu=[]\n",
    "wsj_neg=[]\n",
    "nyt_pos=[]\n",
    "nyt_neu=[]\n",
    "nyt_neg=[]\n",
    "for i in range(0,len(data)):\n",
    "    oba_pos.append(data['oba_scores'][i].get('pos'))\n",
    "    oba_neu.append(data['oba_scores'][i].get('neu'))\n",
    "    oba_neg.append(data['oba_scores'][i].get('neg'))\n",
    "    wsj_pos.append(data['wsj_scores'][i].get('pos'))\n",
    "    wsj_neu.append(data['wsj_scores'][i].get('neu'))\n",
    "    wsj_neg.append(data['wsj_scores'][i].get('neg'))\n",
    "    nyt_pos.append(data['nyt_scores'][i].get('pos'))\n",
    "    nyt_neu.append(data['nyt_scores'][i].get('neu'))\n",
    "    nyt_neg.append(data['nyt_scores'][i].get('neg'))\n",
    "#This is super verbose and could actually be done nicely through the use of dataframes, clean up required later"
   ]
  },
  {
   "cell_type": "code",
   "execution_count": 7,
   "metadata": {},
   "outputs": [
    {
     "data": {
      "image/png": "[encoded data removed]",
      "text/plain": [
       "<Figure size 640x480 with 1 Axes>"
      ]
     },
     "metadata": {},
     "output_type": "display_data"
    }
   ],
   "source": [
    "x=data.index\n",
    "plt.bar(x,oba_neg,color='red',label='Negative')\n",
    "plt.bar(x,oba_neu,bottom=oba_neg,color='yellow',label='Neutral')\n",
    "plt.bar(x,oba_pos,bottom=[sum(x) for x in zip(oba_neu,oba_neg)],color='green',label='Positive')\n",
    "plt.ylabel('Probability of sentiment')\n",
    "plt.title('Rule-based Sentiment analysis of Obama speeches')\n",
    "plt.legend(loc='best')\n",
    "plt.show()"
   ]
  },
  {
   "cell_type": "code",
   "execution_count": 8,
   "metadata": {},
   "outputs": [
    {
     "data": {
      "text/html": [
       "<div>\n",
       "<style scoped>\n",
       "    .dataframe tbody tr th:only-of-type {\n",
       "        vertical-align: middle;\n",
       "    }\n",
       "\n",
       "    .dataframe tbody tr th {\n",
       "        vertical-align: top;\n",
       "    }\n",
       "\n",
       "    .dataframe thead th {\n",
       "        text-align: right;\n",
       "    }\n",
       "</style>\n",
       "<table border=\"1\" class=\"dataframe\">\n",
       "  <thead>\n",
       "    <tr style=\"text-align: right;\">\n",
       "      <th></th>\n",
       "      <th>oba_neg</th>\n",
       "      <th>oba_neu</th>\n",
       "      <th>oba_pos</th>\n",
       "    </tr>\n",
       "    <tr>\n",
       "      <th>date</th>\n",
       "      <th></th>\n",
       "      <th></th>\n",
       "      <th></th>\n",
       "    </tr>\n",
       "  </thead>\n",
       "  <tbody>\n",
       "    <tr>\n",
       "      <th>2004-07-28</th>\n",
       "      <td>0.070</td>\n",
       "      <td>0.749</td>\n",
       "      <td>0.181</td>\n",
       "    </tr>\n",
       "    <tr>\n",
       "      <th>2008-06-04</th>\n",
       "      <td>0.063</td>\n",
       "      <td>0.760</td>\n",
       "      <td>0.177</td>\n",
       "    </tr>\n",
       "    <tr>\n",
       "      <th>2008-11-05</th>\n",
       "      <td>0.066</td>\n",
       "      <td>0.758</td>\n",
       "      <td>0.176</td>\n",
       "    </tr>\n",
       "    <tr>\n",
       "      <th>2009-01-05</th>\n",
       "      <td>0.072</td>\n",
       "      <td>0.856</td>\n",
       "      <td>0.072</td>\n",
       "    </tr>\n",
       "    <tr>\n",
       "      <th>2009-01-20</th>\n",
       "      <td>0.105</td>\n",
       "      <td>0.711</td>\n",
       "      <td>0.184</td>\n",
       "    </tr>\n",
       "  </tbody>\n",
       "</table>\n",
       "</div>"
      ],
      "text/plain": [
       "            oba_neg  oba_neu  oba_pos\n",
       "date                                 \n",
       "2004-07-28    0.070    0.749    0.181\n",
       "2008-06-04    0.063    0.760    0.177\n",
       "2008-11-05    0.066    0.758    0.176\n",
       "2009-01-05    0.072    0.856    0.072\n",
       "2009-01-20    0.105    0.711    0.184"
      ]
     },
     "execution_count": 8,
     "metadata": {},
     "output_type": "execute_result"
    }
   ],
   "source": [
    "#Create dataframe for plotting obama data using plotly\n",
    "oba_bardata=pd.DataFrame({'oba_neg':oba_neg,'oba_neu':oba_neu,'oba_pos':oba_pos},index=data['date'])\n",
    "oba_bardata.head()"
   ]
  },
  {
   "cell_type": "code",
   "execution_count": 9,
   "metadata": {},
   "outputs": [
    {
     "data": {
      "application/vnd.plotly.v1+json": {
       "config": {
        "plotlyServerURL": "https://plot.ly"
       },
       "data": [
        {
         "hovertemplate": "variable=oba_neg<br>x=%{x}<br>value=%{y}<extra></extra>",
         "legendgroup": "oba_neg",
         "line": {
          "color": "#636efa",
          "dash": "solid"
         },
         "marker": {
          "symbol": "circle"
         },
         "mode": "lines",
         "name": "oba_neg",
         "orientation": "v",
         "showlegend": true,
         "type": "scatter",
         "x": [
          "2008-06-04",
          "2008-11-05",
          "2009-01-05",
          "2009-01-20",
          "2009-04-02",
          "2009-04-15",
          "2009-05-22",
          "2009-06-15",
          "2009-07-15",
          "2009-09-24",
          "2009-10-09",
          "2009-11-05",
          "2009-12-19",
          "2009-12-25",
          "2010-01-12",
          "2010-03-04",
          "2010-03-24",
          "2010-04-15",
          "2010-04-22",
          "2010-05-07",
          "2010-07-15",
          "2010-07-21",
          "2010-07-26",
          "2010-08-31",
          "2010-11-02",
          "2011-01-08",
          "2011-01-26",
          "2011-01-31",
          "2011-02-19",
          "2011-05-02",
          "2011-05-23",
          "2011-06-23",
          "2011-07-26",
          "2011-09-09",
          "2011-10-17",
          "2011-11-17",
          "2011-12-16",
          "2012-01-06",
          "2012-01-25",
          "2012-03-27",
          "2012-03-31",
          "2012-04-29",
          "2012-05-02",
          "2012-05-10",
          "2012-06-29",
          "2012-07-21",
          "2012-09-07",
          "2012-10-29",
          "2012-11-07",
          "2012-12-15",
          "2013-01-16",
          "2013-01-22",
          "2013-01-30",
          "2013-02-13",
          "2013-04-16",
          "2013-04-26",
          "2013-05-04",
          "2013-06-19",
          "2013-07-14",
          "2013-08-29",
          "2013-09-11",
          "2013-10-02",
          "2013-12-06",
          "2014-01-18",
          "2014-01-29",
          "2014-03-07",
          "2014-03-26",
          "2014-04-11",
          "2014-05-21",
          "2014-07-01",
          "2014-08-08",
          "2014-08-12",
          "2014-09-17",
          "2014-10-18",
          "2014-11-05",
          "2014-12-18",
          "2015-01-08",
          "2015-01-21",
          "2015-02-14",
          "2015-03-11",
          "2015-04-03",
          "2015-05-09",
          "2015-06-18",
          "2015-07-07",
          "2015-08-03",
          "2015-09-24",
          "2015-10-02",
          "2015-11-14",
          "2015-12-14",
          "2016-01-13",
          "2016-02-16",
          "2016-03-23",
          "2016-04-25",
          "2016-05-06",
          "2016-06-13",
          "2016-07-28",
          "2016-08-17",
          "2016-09-05",
          "2016-11-09",
          "2017-01-11"
         ],
         "xaxis": "x",
         "y": [
          0.063,
          0.066,
          0.072,
          0.105,
          0.082,
          0.101,
          0.125,
          0.138,
          0.056,
          0.108,
          0.159,
          0.089,
          0.051,
          0.094,
          0.071,
          0.072,
          0.051,
          0.033,
          0.123,
          0.057,
          0.086,
          0.058,
          0.042,
          0.13,
          0.069,
          0.073,
          0.056,
          0.011,
          0.025,
          0.101,
          0.095,
          0.119,
          0.121,
          0.073,
          0.098,
          0.06,
          0.052,
          0.046,
          0.073,
          0.069,
          0.032,
          0.059,
          0.106,
          0.032,
          0.055,
          0.093,
          0.09,
          0.06,
          0.068,
          0.089,
          0.135,
          0.064,
          0.028,
          0.073,
          0.048,
          0.048,
          0.034,
          0.081,
          0.073,
          0.079,
          0.18,
          0.065,
          0.036,
          0.071,
          0.076,
          0.05,
          0.084,
          0.081,
          0.077,
          0.079,
          0.124,
          0.065,
          0.057,
          0.105,
          0.029,
          0.066,
          0.262,
          0.081,
          0.066,
          0.041,
          0.1,
          0.039,
          0.126,
          0.145,
          0.087,
          0.08,
          0.136,
          0.12,
          0.047,
          0.096,
          0.007,
          0.07,
          0.086,
          0.061,
          0.13,
          0.085,
          0.06,
          0.07,
          0.046,
          0.081
         ],
         "yaxis": "y"
        },
        {
         "hovertemplate": "variable=oba_neu<br>x=%{x}<br>value=%{y}<extra></extra>",
         "legendgroup": "oba_neu",
         "line": {
          "color": "#EF553B",
          "dash": "solid"
         },
         "marker": {
          "symbol": "circle"
         },
         "mode": "lines",
         "name": "oba_neu",
         "orientation": "v",
         "showlegend": true,
         "type": "scatter",
         "x": [
          "2008-06-04",
          "2008-11-05",
          "2009-01-05",
          "2009-01-20",
          "2009-04-02",
          "2009-04-15",
          "2009-05-22",
          "2009-06-15",
          "2009-07-15",
          "2009-09-24",
          "2009-10-09",
          "2009-11-05",
          "2009-12-19",
          "2009-12-25",
          "2010-01-12",
          "2010-03-04",
          "2010-03-24",
          "2010-04-15",
          "2010-04-22",
          "2010-05-07",
          "2010-07-15",
          "2010-07-21",
          "2010-07-26",
          "2010-08-31",
          "2010-11-02",
          "2011-01-08",
          "2011-01-26",
          "2011-01-31",
          "2011-02-19",
          "2011-05-02",
          "2011-05-23",
          "2011-06-23",
          "2011-07-26",
          "2011-09-09",
          "2011-10-17",
          "2011-11-17",
          "2011-12-16",
          "2012-01-06",
          "2012-01-25",
          "2012-03-27",
          "2012-03-31",
          "2012-04-29",
          "2012-05-02",
          "2012-05-10",
          "2012-06-29",
          "2012-07-21",
          "2012-09-07",
          "2012-10-29",
          "2012-11-07",
          "2012-12-15",
          "2013-01-16",
          "2013-01-22",
          "2013-01-30",
          "2013-02-13",
          "2013-04-16",
          "2013-04-26",
          "2013-05-04",
          "2013-06-19",
          "2013-07-14",
          "2013-08-29",
          "2013-09-11",
          "2013-10-02",
          "2013-12-06",
          "2014-01-18",
          "2014-01-29",
          "2014-03-07",
          "2014-03-26",
          "2014-04-11",
          "2014-05-21",
          "2014-07-01",
          "2014-08-08",
          "2014-08-12",
          "2014-09-17",
          "2014-10-18",
          "2014-11-05",
          "2014-12-18",
          "2015-01-08",
          "2015-01-21",
          "2015-02-14",
          "2015-03-11",
          "2015-04-03",
          "2015-05-09",
          "2015-06-18",
          "2015-07-07",
          "2015-08-03",
          "2015-09-24",
          "2015-10-02",
          "2015-11-14",
          "2015-12-14",
          "2016-01-13",
          "2016-02-16",
          "2016-03-23",
          "2016-04-25",
          "2016-05-06",
          "2016-06-13",
          "2016-07-28",
          "2016-08-17",
          "2016-09-05",
          "2016-11-09",
          "2017-01-11"
         ],
         "xaxis": "x",
         "y": [
          0.76,
          0.758,
          0.856,
          0.711,
          0.751,
          0.766,
          0.74,
          0.724,
          0.804,
          0.723,
          0.666,
          0.745,
          0.775,
          0.758,
          0.736,
          0.807,
          0.817,
          0.83,
          0.768,
          0.747,
          0.766,
          0.836,
          0.804,
          0.717,
          0.74,
          0.736,
          0.799,
          0.822,
          0.821,
          0.756,
          0.734,
          0.721,
          0.746,
          0.801,
          0.729,
          0.718,
          0.773,
          0.803,
          0.783,
          0.746,
          0.848,
          0.763,
          0.727,
          0.822,
          0.763,
          0.731,
          0.748,
          0.837,
          0.733,
          0.726,
          0.729,
          0.735,
          0.821,
          0.75,
          0.768,
          0.715,
          0.775,
          0.68,
          0.818,
          0.739,
          0.693,
          0.813,
          0.709,
          0.779,
          0.747,
          0.819,
          0.738,
          0.768,
          0.806,
          0.772,
          0.723,
          0.797,
          0.789,
          0.732,
          0.824,
          0.755,
          0.604,
          0.743,
          0.751,
          0.805,
          0.74,
          0.772,
          0.745,
          0.712,
          0.782,
          0.65,
          0.767,
          0.723,
          0.715,
          0.738,
          0.743,
          0.814,
          0.72,
          0.816,
          0.728,
          0.734,
          0.795,
          0.748,
          0.767,
          0.73
         ],
         "yaxis": "y"
        },
        {
         "hovertemplate": "variable=oba_pos<br>x=%{x}<br>value=%{y}<extra></extra>",
         "legendgroup": "oba_pos",
         "line": {
          "color": "#00cc96",
          "dash": "solid"
         },
         "marker": {
          "symbol": "circle"
         },
         "mode": "lines",
         "name": "oba_pos",
         "orientation": "v",
         "showlegend": true,
         "type": "scatter",
         "x": [
          "2008-06-04",
          "2008-11-05",
          "2009-01-05",
          "2009-01-20",
          "2009-04-02",
          "2009-04-15",
          "2009-05-22",
          "2009-06-15",
          "2009-07-15",
          "2009-09-24",
          "2009-10-09",
          "2009-11-05",
          "2009-12-19",
          "2009-12-25",
          "2010-01-12",
          "2010-03-04",
          "2010-03-24",
          "2010-04-15",
          "2010-04-22",
          "2010-05-07",
          "2010-07-15",
          "2010-07-21",
          "2010-07-26",
          "2010-08-31",
          "2010-11-02",
          "2011-01-08",
          "2011-01-26",
          "2011-01-31",
          "2011-02-19",
          "2011-05-02",
          "2011-05-23",
          "2011-06-23",
          "2011-07-26",
          "2011-09-09",
          "2011-10-17",
          "2011-11-17",
          "2011-12-16",
          "2012-01-06",
          "2012-01-25",
          "2012-03-27",
          "2012-03-31",
          "2012-04-29",
          "2012-05-02",
          "2012-05-10",
          "2012-06-29",
          "2012-07-21",
          "2012-09-07",
          "2012-10-29",
          "2012-11-07",
          "2012-12-15",
          "2013-01-16",
          "2013-01-22",
          "2013-01-30",
          "2013-02-13",
          "2013-04-16",
          "2013-04-26",
          "2013-05-04",
          "2013-06-19",
          "2013-07-14",
          "2013-08-29",
          "2013-09-11",
          "2013-10-02",
          "2013-12-06",
          "2014-01-18",
          "2014-01-29",
          "2014-03-07",
          "2014-03-26",
          "2014-04-11",
          "2014-05-21",
          "2014-07-01",
          "2014-08-08",
          "2014-08-12",
          "2014-09-17",
          "2014-10-18",
          "2014-11-05",
          "2014-12-18",
          "2015-01-08",
          "2015-01-21",
          "2015-02-14",
          "2015-03-11",
          "2015-04-03",
          "2015-05-09",
          "2015-06-18",
          "2015-07-07",
          "2015-08-03",
          "2015-09-24",
          "2015-10-02",
          "2015-11-14",
          "2015-12-14",
          "2016-01-13",
          "2016-02-16",
          "2016-03-23",
          "2016-04-25",
          "2016-05-06",
          "2016-06-13",
          "2016-07-28",
          "2016-08-17",
          "2016-09-05",
          "2016-11-09",
          "2017-01-11"
         ],
         "xaxis": "x",
         "y": [
          0.177,
          0.176,
          0.072,
          0.184,
          0.168,
          0.132,
          0.135,
          0.138,
          0.14,
          0.168,
          0.175,
          0.166,
          0.174,
          0.148,
          0.193,
          0.121,
          0.132,
          0.137,
          0.109,
          0.195,
          0.147,
          0.106,
          0.154,
          0.153,
          0.191,
          0.191,
          0.145,
          0.167,
          0.154,
          0.143,
          0.171,
          0.16,
          0.132,
          0.126,
          0.173,
          0.221,
          0.175,
          0.151,
          0.143,
          0.185,
          0.12,
          0.178,
          0.167,
          0.146,
          0.182,
          0.176,
          0.162,
          0.104,
          0.199,
          0.186,
          0.136,
          0.201,
          0.151,
          0.177,
          0.184,
          0.237,
          0.191,
          0.238,
          0.109,
          0.182,
          0.127,
          0.121,
          0.255,
          0.15,
          0.177,
          0.131,
          0.178,
          0.151,
          0.117,
          0.149,
          0.153,
          0.139,
          0.153,
          0.163,
          0.148,
          0.179,
          0.134,
          0.176,
          0.183,
          0.154,
          0.16,
          0.189,
          0.129,
          0.143,
          0.131,
          0.27,
          0.097,
          0.157,
          0.238,
          0.166,
          0.25,
          0.115,
          0.194,
          0.123,
          0.142,
          0.181,
          0.146,
          0.181,
          0.186,
          0.188
         ],
         "yaxis": "y"
        }
       ],
       "layout": {
        "legend": {
         "title": {
          "text": "variable"
         },
         "tracegroupgap": 0
        },
        "margin": {
         "t": 60
        },
        "template": {
         "data": {
          "bar": [
           {
            "error_x": {
             "color": "#2a3f5f"
            },
            "error_y": {
             "color": "#2a3f5f"
            },
            "marker": {
             "line": {
              "color": "#E5ECF6",
              "width": 0.5
             },
             "pattern": {
              "fillmode": "overlay",
              "size": 10,
              "solidity": 0.2
             }
            },
            "type": "bar"
           }
          ],
          "barpolar": [
           {
            "marker": {
             "line": {
              "color": "#E5ECF6",
              "width": 0.5
             },
             "pattern": {
              "fillmode": "overlay",
              "size": 10,
              "solidity": 0.2
             }
            },
            "type": "barpolar"
           }
          ],
          "carpet": [
           {
            "aaxis": {
             "endlinecolor": "#2a3f5f",
             "gridcolor": "white",
             "linecolor": "white",
             "minorgridcolor": "white",
             "startlinecolor": "#2a3f5f"
            },
            "baxis": {
             "endlinecolor": "#2a3f5f",
             "gridcolor": "white",
             "linecolor": "white",
             "minorgridcolor": "white",
             "startlinecolor": "#2a3f5f"
            },
            "type": "carpet"
           }
          ],
          "choropleth": [
           {
            "colorbar": {
             "outlinewidth": 0,
             "ticks": ""
            },
            "type": "choropleth"
           }
          ],
          "contour": [
           {
            "colorbar": {
             "outlinewidth": 0,
             "ticks": ""
            },
            "colorscale": [
             [
              0,
              "#0d0887"
             ],
             [
              0.1111111111111111,
              "#46039f"
             ],
             [
              0.2222222222222222,
              "#7201a8"
             ],
             [
              0.3333333333333333,
              "#9c179e"
             ],
             [
              0.4444444444444444,
              "#bd3786"
             ],
             [
              0.5555555555555556,
              "#d8576b"
             ],
             [
              0.6666666666666666,
              "#ed7953"
             ],
             [
              0.7777777777777778,
              "#fb9f3a"
             ],
             [
              0.8888888888888888,
              "#fdca26"
             ],
             [
              1,
              "#f0f921"
             ]
            ],
            "type": "contour"
           }
          ],
          "contourcarpet": [
           {
            "colorbar": {
             "outlinewidth": 0,
             "ticks": ""
            },
            "type": "contourcarpet"
           }
          ],
          "heatmap": [
           {
            "colorbar": {
             "outlinewidth": 0,
             "ticks": ""
            },
            "colorscale": [
             [
              0,
              "#0d0887"
             ],
             [
              0.1111111111111111,
              "#46039f"
             ],
             [
              0.2222222222222222,
              "#7201a8"
             ],
             [
              0.3333333333333333,
              "#9c179e"
             ],
             [
              0.4444444444444444,
              "#bd3786"
             ],
             [
              0.5555555555555556,
              "#d8576b"
             ],
             [
              0.6666666666666666,
              "#ed7953"
             ],
             [
              0.7777777777777778,
              "#fb9f3a"
             ],
             [
              0.8888888888888888,
              "#fdca26"
             ],
             [
              1,
              "#f0f921"
             ]
            ],
            "type": "heatmap"
           }
          ],
          "heatmapgl": [
           {
            "colorbar": {
             "outlinewidth": 0,
             "ticks": ""
            },
            "colorscale": [
             [
              0,
              "#0d0887"
             ],
             [
              0.1111111111111111,
              "#46039f"
             ],
             [
              0.2222222222222222,
              "#7201a8"
             ],
             [
              0.3333333333333333,
              "#9c179e"
             ],
             [
              0.4444444444444444,
              "#bd3786"
             ],
             [
              0.5555555555555556,
              "#d8576b"
             ],
             [
              0.6666666666666666,
              "#ed7953"
             ],
             [
              0.7777777777777778,
              "#fb9f3a"
             ],
             [
              0.8888888888888888,
              "#fdca26"
             ],
             [
              1,
              "#f0f921"
             ]
            ],
            "type": "heatmapgl"
           }
          ],
          "histogram": [
           {
            "marker": {
             "pattern": {
              "fillmode": "overlay",
              "size": 10,
              "solidity": 0.2
             }
            },
            "type": "histogram"
           }
          ],
          "histogram2d": [
           {
            "colorbar": {
             "outlinewidth": 0,
             "ticks": ""
            },
            "colorscale": [
             [
              0,
              "#0d0887"
             ],
             [
              0.1111111111111111,
              "#46039f"
             ],
             [
              0.2222222222222222,
              "#7201a8"
             ],
             [
              0.3333333333333333,
              "#9c179e"
             ],
             [
              0.4444444444444444,
              "#bd3786"
             ],
             [
              0.5555555555555556,
              "#d8576b"
             ],
             [
              0.6666666666666666,
              "#ed7953"
             ],
             [
              0.7777777777777778,
              "#fb9f3a"
             ],
             [
              0.8888888888888888,
              "#fdca26"
             ],
             [
              1,
              "#f0f921"
             ]
            ],
            "type": "histogram2d"
           }
          ],
          "histogram2dcontour": [
           {
            "colorbar": {
             "outlinewidth": 0,
             "ticks": ""
            },
            "colorscale": [
             [
              0,
              "#0d0887"
             ],
             [
              0.1111111111111111,
              "#46039f"
             ],
             [
              0.2222222222222222,
              "#7201a8"
             ],
             [
              0.3333333333333333,
              "#9c179e"
             ],
             [
              0.4444444444444444,
              "#bd3786"
             ],
             [
              0.5555555555555556,
              "#d8576b"
             ],
             [
              0.6666666666666666,
              "#ed7953"
             ],
             [
              0.7777777777777778,
              "#fb9f3a"
             ],
             [
              0.8888888888888888,
              "#fdca26"
             ],
             [
              1,
              "#f0f921"
             ]
            ],
            "type": "histogram2dcontour"
           }
          ],
          "mesh3d": [
           {
            "colorbar": {
             "outlinewidth": 0,
             "ticks": ""
            },
            "type": "mesh3d"
           }
          ],
          "parcoords": [
           {
            "line": {
             "colorbar": {
              "outlinewidth": 0,
              "ticks": ""
             }
            },
            "type": "parcoords"
           }
          ],
          "pie": [
           {
            "automargin": true,
            "type": "pie"
           }
          ],
          "scatter": [
           {
            "fillpattern": {
             "fillmode": "overlay",
             "size": 10,
             "solidity": 0.2
            },
            "type": "scatter"
           }
          ],
          "scatter3d": [
           {
            "line": {
             "colorbar": {
              "outlinewidth": 0,
              "ticks": ""
             }
            },
            "marker": {
             "colorbar": {
              "outlinewidth": 0,
              "ticks": ""
             }
            },
            "type": "scatter3d"
           }
          ],
          "scattercarpet": [
           {
            "marker": {
             "colorbar": {
              "outlinewidth": 0,
              "ticks": ""
             }
            },
            "type": "scattercarpet"
           }
          ],
          "scattergeo": [
           {
            "marker": {
             "colorbar": {
              "outlinewidth": 0,
              "ticks": ""
             }
            },
            "type": "scattergeo"
           }
          ],
          "scattergl": [
           {
            "marker": {
             "colorbar": {
              "outlinewidth": 0,
              "ticks": ""
             }
            },
            "type": "scattergl"
           }
          ],
          "scattermapbox": [
           {
            "marker": {
             "colorbar": {
              "outlinewidth": 0,
              "ticks": ""
             }
            },
            "type": "scattermapbox"
           }
          ],
          "scatterpolar": [
           {
            "marker": {
             "colorbar": {
              "outlinewidth": 0,
              "ticks": ""
             }
            },
            "type": "scatterpolar"
           }
          ],
          "scatterpolargl": [
           {
            "marker": {
             "colorbar": {
              "outlinewidth": 0,
              "ticks": ""
             }
            },
            "type": "scatterpolargl"
           }
          ],
          "scatterternary": [
           {
            "marker": {
             "colorbar": {
              "outlinewidth": 0,
              "ticks": ""
             }
            },
            "type": "scatterternary"
           }
          ],
          "surface": [
           {
            "colorbar": {
             "outlinewidth": 0,
             "ticks": ""
            },
            "colorscale": [
             [
              0,
              "#0d0887"
             ],
             [
              0.1111111111111111,
              "#46039f"
             ],
             [
              0.2222222222222222,
              "#7201a8"
             ],
             [
              0.3333333333333333,
              "#9c179e"
             ],
             [
              0.4444444444444444,
              "#bd3786"
             ],
             [
              0.5555555555555556,
              "#d8576b"
             ],
             [
              0.6666666666666666,
              "#ed7953"
             ],
             [
              0.7777777777777778,
              "#fb9f3a"
             ],
             [
              0.8888888888888888,
              "#fdca26"
             ],
             [
              1,
              "#f0f921"
             ]
            ],
            "type": "surface"
           }
          ],
          "table": [
           {
            "cells": {
             "fill": {
              "color": "#EBF0F8"
             },
             "line": {
              "color": "white"
             }
            },
            "header": {
             "fill": {
              "color": "#C8D4E3"
             },
             "line": {
              "color": "white"
             }
            },
            "type": "table"
           }
          ]
         },
         "layout": {
          "annotationdefaults": {
           "arrowcolor": "#2a3f5f",
           "arrowhead": 0,
           "arrowwidth": 1
          },
          "autotypenumbers": "strict",
          "coloraxis": {
           "colorbar": {
            "outlinewidth": 0,
            "ticks": ""
           }
          },
          "colorscale": {
           "diverging": [
            [
             0,
             "#8e0152"
            ],
            [
             0.1,
             "#c51b7d"
            ],
            [
             0.2,
             "#de77ae"
            ],
            [
             0.3,
             "#f1b6da"
            ],
            [
             0.4,
             "#fde0ef"
            ],
            [
             0.5,
             "#f7f7f7"
            ],
            [
             0.6,
             "#e6f5d0"
            ],
            [
             0.7,
             "#b8e186"
            ],
            [
             0.8,
             "#7fbc41"
            ],
            [
             0.9,
             "#4d9221"
            ],
            [
             1,
             "#276419"
            ]
           ],
           "sequential": [
            [
             0,
             "#0d0887"
            ],
            [
             0.1111111111111111,
             "#46039f"
            ],
            [
             0.2222222222222222,
             "#7201a8"
            ],
            [
             0.3333333333333333,
             "#9c179e"
            ],
            [
             0.4444444444444444,
             "#bd3786"
            ],
            [
             0.5555555555555556,
             "#d8576b"
            ],
            [
             0.6666666666666666,
             "#ed7953"
            ],
            [
             0.7777777777777778,
             "#fb9f3a"
            ],
            [
             0.8888888888888888,
             "#fdca26"
            ],
            [
             1,
             "#f0f921"
            ]
           ],
           "sequentialminus": [
            [
             0,
             "#0d0887"
            ],
            [
             0.1111111111111111,
             "#46039f"
            ],
            [
             0.2222222222222222,
             "#7201a8"
            ],
            [
             0.3333333333333333,
             "#9c179e"
            ],
            [
             0.4444444444444444,
             "#bd3786"
            ],
            [
             0.5555555555555556,
             "#d8576b"
            ],
            [
             0.6666666666666666,
             "#ed7953"
            ],
            [
             0.7777777777777778,
             "#fb9f3a"
            ],
            [
             0.8888888888888888,
             "#fdca26"
            ],
            [
             1,
             "#f0f921"
            ]
           ]
          },
          "colorway": [
           "#636efa",
           "#EF553B",
           "#00cc96",
           "#ab63fa",
           "#FFA15A",
           "#19d3f3",
           "#FF6692",
           "#B6E880",
           "#FF97FF",
           "#FECB52"
          ],
          "font": {
           "color": "#2a3f5f"
          },
          "geo": {
           "bgcolor": "white",
           "lakecolor": "white",
           "landcolor": "#E5ECF6",
           "showlakes": true,
           "showland": true,
           "subunitcolor": "white"
          },
          "hoverlabel": {
           "align": "left"
          },
          "hovermode": "closest",
          "mapbox": {
           "style": "light"
          },
          "paper_bgcolor": "white",
          "plot_bgcolor": "#E5ECF6",
          "polar": {
           "angularaxis": {
            "gridcolor": "white",
            "linecolor": "white",
            "ticks": ""
           },
           "bgcolor": "#E5ECF6",
           "radialaxis": {
            "gridcolor": "white",
            "linecolor": "white",
            "ticks": ""
           }
          },
          "scene": {
           "xaxis": {
            "backgroundcolor": "#E5ECF6",
            "gridcolor": "white",
            "gridwidth": 2,
            "linecolor": "white",
            "showbackground": true,
            "ticks": "",
            "zerolinecolor": "white"
           },
           "yaxis": {
            "backgroundcolor": "#E5ECF6",
            "gridcolor": "white",
            "gridwidth": 2,
            "linecolor": "white",
            "showbackground": true,
            "ticks": "",
            "zerolinecolor": "white"
           },
           "zaxis": {
            "backgroundcolor": "#E5ECF6",
            "gridcolor": "white",
            "gridwidth": 2,
            "linecolor": "white",
            "showbackground": true,
            "ticks": "",
            "zerolinecolor": "white"
           }
          },
          "shapedefaults": {
           "line": {
            "color": "#2a3f5f"
           }
          },
          "ternary": {
           "aaxis": {
            "gridcolor": "white",
            "linecolor": "white",
            "ticks": ""
           },
           "baxis": {
            "gridcolor": "white",
            "linecolor": "white",
            "ticks": ""
           },
           "bgcolor": "#E5ECF6",
           "caxis": {
            "gridcolor": "white",
            "linecolor": "white",
            "ticks": ""
           }
          },
          "title": {
           "x": 0.05
          },
          "xaxis": {
           "automargin": true,
           "gridcolor": "white",
           "linecolor": "white",
           "ticks": "",
           "title": {
            "standoff": 15
           },
           "zerolinecolor": "white",
           "zerolinewidth": 2
          },
          "yaxis": {
           "automargin": true,
           "gridcolor": "white",
           "linecolor": "white",
           "ticks": "",
           "title": {
            "standoff": 15
           },
           "zerolinecolor": "white",
           "zerolinewidth": 2
          }
         }
        },
        "xaxis": {
         "anchor": "y",
         "domain": [
          0,
          1
         ],
         "title": {
          "text": "x"
         }
        },
        "yaxis": {
         "anchor": "x",
         "domain": [
          0,
          1
         ],
         "title": {
          "text": "value"
         }
        }
       }
      }
     },
     "metadata": {},
     "output_type": "display_data"
    }
   ],
   "source": [
    "#Tail to remove the first obs which is from 2004 and messes with the plot\n",
    "#You can change between px.line, px.bar (difficult to see) and px.histogram (messy aggregation)\n",
    "\n",
    "fig=px.line(oba_bardata.tail(-1),x=oba_bardata.tail(-1).index,y=['oba_neg','oba_neu','oba_pos'])\n",
    "fig.show()"
   ]
  },
  {
   "cell_type": "markdown",
   "metadata": {},
   "source": [
    "## Part 2: Sentiment analysis using pre-trained BERTweet-based model"
   ]
  },
  {
   "cell_type": "code",
   "execution_count": 10,
   "metadata": {},
   "outputs": [
    {
     "name": "stdout",
     "output_type": "stream",
     "text": [
      "Looking in links: orce-reinstall\n",
      "Requirement already satisfied: tensorflow==2.10 in c:\\users\\kylan\\anaconda3\\envs\\blauwe_kater\\lib\\site-packages (2.10.0)\n",
      "Requirement already satisfied: libclang>=13.0.0 in c:\\users\\kylan\\anaconda3\\envs\\blauwe_kater\\lib\\site-packages (from tensorflow==2.10) (15.0.6.1)\n",
      "Requirement already satisfied: absl-py>=1.0.0 in c:\\users\\kylan\\anaconda3\\envs\\blauwe_kater\\lib\\site-packages (from tensorflow==2.10) (1.4.0)\n",
      "Requirement already satisfied: tensorboard<2.11,>=2.10 in c:\\users\\kylan\\anaconda3\\envs\\blauwe_kater\\lib\\site-packages (from tensorflow==2.10) (2.10.1)\n",
      "Requirement already satisfied: typing-extensions>=3.6.6 in c:\\users\\kylan\\anaconda3\\envs\\blauwe_kater\\lib\\site-packages (from tensorflow==2.10) (4.4.0)\n",
      "Requirement already satisfied: gast<=0.4.0,>=0.2.1 in c:\\users\\kylan\\anaconda3\\envs\\blauwe_kater\\lib\\site-packages (from tensorflow==2.10) (0.4.0)\n",
      "Requirement already satisfied: keras-preprocessing>=1.1.1 in c:\\users\\kylan\\anaconda3\\envs\\blauwe_kater\\lib\\site-packages (from tensorflow==2.10) (1.1.2)\n",
      "Requirement already satisfied: wrapt>=1.11.0 in c:\\users\\kylan\\anaconda3\\envs\\blauwe_kater\\lib\\site-packages (from tensorflow==2.10) (1.15.0)\n",
      "Requirement already satisfied: packaging in c:\\users\\kylan\\appdata\\roaming\\python\\python310\\site-packages (from tensorflow==2.10) (23.0)\n",
      "Requirement already satisfied: tensorflow-estimator<2.11,>=2.10.0 in c:\\users\\kylan\\anaconda3\\envs\\blauwe_kater\\lib\\site-packages (from tensorflow==2.10) (2.10.0)\n",
      "Requirement already satisfied: h5py>=2.9.0 in c:\\users\\kylan\\anaconda3\\envs\\blauwe_kater\\lib\\site-packages (from tensorflow==2.10) (3.8.0)\n",
      "Requirement already satisfied: six>=1.12.0 in c:\\users\\kylan\\appdata\\roaming\\python\\python310\\site-packages (from tensorflow==2.10) (1.16.0)\n",
      "Requirement already satisfied: grpcio<2.0,>=1.24.3 in c:\\users\\kylan\\anaconda3\\envs\\blauwe_kater\\lib\\site-packages (from tensorflow==2.10) (1.51.3)\n",
      "Requirement already satisfied: tensorflow-io-gcs-filesystem>=0.23.1 in c:\\users\\kylan\\anaconda3\\envs\\blauwe_kater\\lib\\site-packages (from tensorflow==2.10) (0.31.0)\n",
      "Requirement already satisfied: termcolor>=1.1.0 in c:\\users\\kylan\\anaconda3\\envs\\blauwe_kater\\lib\\site-packages (from tensorflow==2.10) (2.2.0)\n",
      "Requirement already satisfied: astunparse>=1.6.0 in c:\\users\\kylan\\anaconda3\\envs\\blauwe_kater\\lib\\site-packages (from tensorflow==2.10) (1.6.3)\n",
      "Requirement already satisfied: google-pasta>=0.1.1 in c:\\users\\kylan\\anaconda3\\envs\\blauwe_kater\\lib\\site-packages (from tensorflow==2.10) (0.2.0)\n",
      "Requirement already satisfied: protobuf<3.20,>=3.9.2 in c:\\users\\kylan\\anaconda3\\envs\\blauwe_kater\\lib\\site-packages (from tensorflow==2.10) (3.19.6)\n",
      "Requirement already satisfied: setuptools in c:\\users\\kylan\\anaconda3\\envs\\blauwe_kater\\lib\\site-packages (from tensorflow==2.10) (67.3.2)\n",
      "Requirement already satisfied: numpy>=1.20 in c:\\users\\kylan\\anaconda3\\envs\\blauwe_kater\\lib\\site-packages (from tensorflow==2.10) (1.23.5)\n",
      "Requirement already satisfied: flatbuffers>=2.0 in c:\\users\\kylan\\anaconda3\\envs\\blauwe_kater\\lib\\site-packages (from tensorflow==2.10) (23.1.21)\n",
      "Requirement already satisfied: keras<2.11,>=2.10.0 in c:\\users\\kylan\\anaconda3\\envs\\blauwe_kater\\lib\\site-packages (from tensorflow==2.10) (2.10.0)\n",
      "Requirement already satisfied: opt-einsum>=2.3.2 in c:\\users\\kylan\\anaconda3\\envs\\blauwe_kater\\lib\\site-packages (from tensorflow==2.10) (3.3.0)\n",
      "Requirement already satisfied: wheel<1.0,>=0.23.0 in c:\\users\\kylan\\anaconda3\\envs\\blauwe_kater\\lib\\site-packages (from astunparse>=1.6.0->tensorflow==2.10) (0.38.4)\n",
      "Requirement already satisfied: werkzeug>=1.0.1 in c:\\users\\kylan\\anaconda3\\envs\\blauwe_kater\\lib\\site-packages (from tensorboard<2.11,>=2.10->tensorflow==2.10) (2.2.3)\n",
      "Requirement already satisfied: requests<3,>=2.21.0 in c:\\users\\kylan\\anaconda3\\envs\\blauwe_kater\\lib\\site-packages (from tensorboard<2.11,>=2.10->tensorflow==2.10) (2.28.1)\n",
      "Requirement already satisfied: google-auth-oauthlib<0.5,>=0.4.1 in c:\\users\\kylan\\anaconda3\\envs\\blauwe_kater\\lib\\site-packages (from tensorboard<2.11,>=2.10->tensorflow==2.10) (0.4.6)\n",
      "Requirement already satisfied: markdown>=2.6.8 in c:\\users\\kylan\\anaconda3\\envs\\blauwe_kater\\lib\\site-packages (from tensorboard<2.11,>=2.10->tensorflow==2.10) (3.4.1)\n",
      "Requirement already satisfied: google-auth<3,>=1.6.3 in c:\\users\\kylan\\anaconda3\\envs\\blauwe_kater\\lib\\site-packages (from tensorboard<2.11,>=2.10->tensorflow==2.10) (2.16.1)\n",
      "Requirement already satisfied: tensorboard-data-server<0.7.0,>=0.6.0 in c:\\users\\kylan\\anaconda3\\envs\\blauwe_kater\\lib\\site-packages (from tensorboard<2.11,>=2.10->tensorflow==2.10) (0.6.1)\n",
      "Requirement already satisfied: tensorboard-plugin-wit>=1.6.0 in c:\\users\\kylan\\anaconda3\\envs\\blauwe_kater\\lib\\site-packages (from tensorboard<2.11,>=2.10->tensorflow==2.10) (1.8.1)\n",
      "Requirement already satisfied: cachetools<6.0,>=2.0.0 in c:\\users\\kylan\\anaconda3\\envs\\blauwe_kater\\lib\\site-packages (from google-auth<3,>=1.6.3->tensorboard<2.11,>=2.10->tensorflow==2.10) (5.3.0)\n",
      "Requirement already satisfied: rsa<5,>=3.1.4 in c:\\users\\kylan\\anaconda3\\envs\\blauwe_kater\\lib\\site-packages (from google-auth<3,>=1.6.3->tensorboard<2.11,>=2.10->tensorflow==2.10) (4.9)\n",
      "Requirement already satisfied: pyasn1-modules>=0.2.1 in c:\\users\\kylan\\anaconda3\\envs\\blauwe_kater\\lib\\site-packages (from google-auth<3,>=1.6.3->tensorboard<2.11,>=2.10->tensorflow==2.10) (0.2.8)\n",
      "Requirement already satisfied: requests-oauthlib>=0.7.0 in c:\\users\\kylan\\anaconda3\\envs\\blauwe_kater\\lib\\site-packages (from google-auth-oauthlib<0.5,>=0.4.1->tensorboard<2.11,>=2.10->tensorflow==2.10) (1.3.1)\n",
      "Requirement already satisfied: charset-normalizer<3,>=2 in c:\\users\\kylan\\anaconda3\\envs\\blauwe_kater\\lib\\site-packages (from requests<3,>=2.21.0->tensorboard<2.11,>=2.10->tensorflow==2.10) (2.1.1)\n",
      "Requirement already satisfied: idna<4,>=2.5 in c:\\users\\kylan\\anaconda3\\envs\\blauwe_kater\\lib\\site-packages (from requests<3,>=2.21.0->tensorboard<2.11,>=2.10->tensorflow==2.10) (3.4)\n",
      "Requirement already satisfied: urllib3<1.27,>=1.21.1 in c:\\users\\kylan\\anaconda3\\envs\\blauwe_kater\\lib\\site-packages (from requests<3,>=2.21.0->tensorboard<2.11,>=2.10->tensorflow==2.10) (1.26.14)\n",
      "Requirement already satisfied: certifi>=2017.4.17 in c:\\users\\kylan\\anaconda3\\envs\\blauwe_kater\\lib\\site-packages (from requests<3,>=2.21.0->tensorboard<2.11,>=2.10->tensorflow==2.10) (2022.12.7)\n",
      "Requirement already satisfied: MarkupSafe>=2.1.1 in c:\\users\\kylan\\anaconda3\\envs\\blauwe_kater\\lib\\site-packages (from werkzeug>=1.0.1->tensorboard<2.11,>=2.10->tensorflow==2.10) (2.1.1)\n",
      "Requirement already satisfied: pyasn1<0.5.0,>=0.4.6 in c:\\users\\kylan\\anaconda3\\envs\\blauwe_kater\\lib\\site-packages (from pyasn1-modules>=0.2.1->google-auth<3,>=1.6.3->tensorboard<2.11,>=2.10->tensorflow==2.10) (0.4.8)\n",
      "Requirement already satisfied: oauthlib>=3.0.0 in c:\\users\\kylan\\anaconda3\\envs\\blauwe_kater\\lib\\site-packages (from requests-oauthlib>=0.7.0->google-auth-oauthlib<0.5,>=0.4.1->tensorboard<2.11,>=2.10->tensorflow==2.10) (3.2.2)\n"
     ]
    }
   ],
   "source": [
    "!pip install tensorflow==2.10 -force-reinstall"
   ]
  },
  {
   "cell_type": "code",
   "execution_count": 11,
   "metadata": {},
   "outputs": [
    {
     "name": "stderr",
     "output_type": "stream",
     "text": [
      "c:\\Users\\Kylan\\anaconda3\\envs\\blauwe_kater\\lib\\site-packages\\tqdm\\auto.py:22: TqdmWarning:\n",
      "\n",
      "IProgress not found. Please update jupyter and ipywidgets. See https://ipywidgets.readthedocs.io/en/stable/user_install.html\n",
      "\n"
     ]
    }
   ],
   "source": [
    "#New libraries and load sentiment model through HF pipeline\n",
    "from pysentimiento import create_analyzer\n",
    "from transformers import pipeline\n",
    "from nltk import tokenize \n",
    "from gensim.models import Doc2Vec\n",
    "import nltk\n",
    "model=pipeline('sentiment-analysis',model='finiteautomata/bertweet-base-sentiment-analysis')"
   ]
  },
  {
   "cell_type": "code",
   "execution_count": 12,
   "metadata": {},
   "outputs": [
    {
     "data": {
      "text/html": [
       "<div>\n",
       "<style scoped>\n",
       "    .dataframe tbody tr th:only-of-type {\n",
       "        vertical-align: middle;\n",
       "    }\n",
       "\n",
       "    .dataframe tbody tr th {\n",
       "        vertical-align: top;\n",
       "    }\n",
       "\n",
       "    .dataframe thead th {\n",
       "        text-align: right;\n",
       "    }\n",
       "</style>\n",
       "<table border=\"1\" class=\"dataframe\">\n",
       "  <thead>\n",
       "    <tr style=\"text-align: right;\">\n",
       "      <th></th>\n",
       "      <th>Unnamed: 0</th>\n",
       "      <th>file</th>\n",
       "      <th>text_oba</th>\n",
       "      <th>text_wsj</th>\n",
       "      <th>text_nyt</th>\n",
       "      <th>date</th>\n",
       "    </tr>\n",
       "  </thead>\n",
       "  <tbody>\n",
       "    <tr>\n",
       "      <th>0</th>\n",
       "      <td>0</td>\n",
       "      <td>2004-07-28-DNCSpeech.txt</td>\n",
       "      <td>On behalf of the great state of Illinois, cros...</td>\n",
       "      <td>John Kerry's decorated service in Vietnam took...</td>\n",
       "      <td>Barack Obama took the dais as the keynote spea...</td>\n",
       "      <td>2004-07-28</td>\n",
       "    </tr>\n",
       "    <tr>\n",
       "      <th>1</th>\n",
       "      <td>1</td>\n",
       "      <td>2008-06-04-ObamaNomination.txt</td>\n",
       "      <td>Thank you....Thank you. What a -- What a wonde...</td>\n",
       "      <td>Sen. Barack Obama captured enough convention d...</td>\n",
       "      <td>Senator Barack Obama claimed the Democratic pr...</td>\n",
       "      <td>2008-06-04</td>\n",
       "    </tr>\n",
       "    <tr>\n",
       "      <th>2</th>\n",
       "      <td>2</td>\n",
       "      <td>2008-11-05-ObamaElected.txt</td>\n",
       "      <td>Hello, Chicago.\\n\\nIf there is anyone out ther...</td>\n",
       "      <td>Sen. Barack Obama was elected the nation's fir...</td>\n",
       "      <td>Barack Hussein Obama was elected the 44th pres...</td>\n",
       "      <td>2008-11-05</td>\n",
       "    </tr>\n",
       "    <tr>\n",
       "      <th>3</th>\n",
       "      <td>3</td>\n",
       "      <td>2009-01-05-EconomyPlans.txt</td>\n",
       "      <td>All right. Well, thanks for taking the time to...</td>\n",
       "      <td>President-elect Barack Obama and congressional...</td>\n",
       "      <td>President-elect Barack Obama plans to include ...</td>\n",
       "      <td>2009-01-05</td>\n",
       "    </tr>\n",
       "    <tr>\n",
       "      <th>4</th>\n",
       "      <td>4</td>\n",
       "      <td>2009-01-20-Inauguration.txt</td>\n",
       "      <td>I, Barack Hussein Obama, do solemnly swear tha...</td>\n",
       "      <td>On a day rich in history, Barack Obama was swo...</td>\n",
       "      <td>Barack Hussein Obama was sworn in as the 44th ...</td>\n",
       "      <td>2009-01-20</td>\n",
       "    </tr>\n",
       "  </tbody>\n",
       "</table>\n",
       "</div>"
      ],
      "text/plain": [
       "   Unnamed: 0                            file  \\\n",
       "0           0        2004-07-28-DNCSpeech.txt   \n",
       "1           1  2008-06-04-ObamaNomination.txt   \n",
       "2           2     2008-11-05-ObamaElected.txt   \n",
       "3           3     2009-01-05-EconomyPlans.txt   \n",
       "4           4     2009-01-20-Inauguration.txt   \n",
       "\n",
       "                                            text_oba  \\\n",
       "0  On behalf of the great state of Illinois, cros...   \n",
       "1  Thank you....Thank you. What a -- What a wonde...   \n",
       "2  Hello, Chicago.\\n\\nIf there is anyone out ther...   \n",
       "3  All right. Well, thanks for taking the time to...   \n",
       "4  I, Barack Hussein Obama, do solemnly swear tha...   \n",
       "\n",
       "                                            text_wsj  \\\n",
       "0  John Kerry's decorated service in Vietnam took...   \n",
       "1  Sen. Barack Obama captured enough convention d...   \n",
       "2  Sen. Barack Obama was elected the nation's fir...   \n",
       "3  President-elect Barack Obama and congressional...   \n",
       "4  On a day rich in history, Barack Obama was swo...   \n",
       "\n",
       "                                            text_nyt        date  \n",
       "0  Barack Obama took the dais as the keynote spea...  2004-07-28  \n",
       "1  Senator Barack Obama claimed the Democratic pr...  2008-06-04  \n",
       "2  Barack Hussein Obama was elected the 44th pres...  2008-11-05  \n",
       "3  President-elect Barack Obama plans to include ...  2009-01-05  \n",
       "4  Barack Hussein Obama was sworn in as the 44th ...  2009-01-20  "
      ]
     },
     "execution_count": 12,
     "metadata": {},
     "output_type": "execute_result"
    }
   ],
   "source": [
    "#Reload original dataframe\n",
    "data = pd.read_csv('nonEmotiondata.csv')\n",
    "data.head()"
   ]
  },
  {
   "cell_type": "code",
   "execution_count": 13,
   "metadata": {},
   "outputs": [],
   "source": [
    "#Create pysentimiento sentiment analyzer\n",
    "analyzer=create_analyzer(task='sentiment',lang='en')"
   ]
  },
  {
   "cell_type": "code",
   "execution_count": 14,
   "metadata": {},
   "outputs": [
    {
     "name": "stdout",
     "output_type": "stream",
     "text": [
      "AnalyzerOutput(output=POS, probas={POS: 0.984, NEU: 0.014, NEG: 0.002})\n"
     ]
    },
    {
     "data": {
      "text/plain": [
       "0.9842914342880249"
      ]
     },
     "execution_count": 14,
     "metadata": {},
     "output_type": "execute_result"
    }
   ],
   "source": [
    "#Try to get results for single Obama speech\n",
    "result=analyzer.predict(data.iloc[0,2])\n",
    "print(result)\n",
    "result.probas.get(max(result.probas))"
   ]
  },
  {
   "cell_type": "code",
   "execution_count": 15,
   "metadata": {},
   "outputs": [
    {
     "data": {
      "text/plain": [
       "AnalyzerOutput(output=POS, probas={POS: 0.955, NEU: 0.043, NEG: 0.002})"
      ]
     },
     "execution_count": 15,
     "metadata": {},
     "output_type": "execute_result"
    }
   ],
   "source": [
    "analyzer.predict('joy')"
   ]
  },
  {
   "cell_type": "code",
   "execution_count": 16,
   "metadata": {},
   "outputs": [
    {
     "name": "stderr",
     "output_type": "stream",
     "text": [
      "100%|██████████| 4/4 [00:02<00:00,  1.36ba/s]\n",
      "The following columns in the test set don't have a corresponding argument in `RobertaForSequenceClassification.forward` and have been ignored: text. If text are not expected by `RobertaForSequenceClassification.forward`,  you can safely ignore this message.\n",
      "***** Running Prediction *****\n",
      "  Num examples = 101\n",
      "  Batch size = 32\n",
      "100%|██████████| 4/4 [00:17<00:00,  4.46s/it]\n",
      "C:\\Users\\Kylan\\AppData\\Local\\Temp\\ipykernel_20784\\1735466508.py:8: SettingWithCopyWarning:\n",
      "\n",
      "\n",
      "A value is trying to be set on a copy of a slice from a DataFrame\n",
      "\n",
      "See the caveats in the documentation: https://pandas.pydata.org/pandas-docs/stable/user_guide/indexing.html#returning-a-view-versus-a-copy\n",
      "\n",
      "C:\\Users\\Kylan\\AppData\\Local\\Temp\\ipykernel_20784\\1735466508.py:9: SettingWithCopyWarning:\n",
      "\n",
      "\n",
      "A value is trying to be set on a copy of a slice from a DataFrame\n",
      "\n",
      "See the caveats in the documentation: https://pandas.pydata.org/pandas-docs/stable/user_guide/indexing.html#returning-a-view-versus-a-copy\n",
      "\n",
      "C:\\Users\\Kylan\\AppData\\Local\\Temp\\ipykernel_20784\\1735466508.py:10: SettingWithCopyWarning:\n",
      "\n",
      "\n",
      "A value is trying to be set on a copy of a slice from a DataFrame\n",
      "\n",
      "See the caveats in the documentation: https://pandas.pydata.org/pandas-docs/stable/user_guide/indexing.html#returning-a-view-versus-a-copy\n",
      "\n"
     ]
    }
   ],
   "source": [
    "#Now to do it for all Obama speeches + saving pos, neu and neg scores\n",
    "data['oba_results']=analyzer.predict(data['text_oba'])\n",
    "\n",
    "data['oba_pos']=0\n",
    "data['oba_neu']=0\n",
    "data['oba_neg']=0\n",
    "for i in range(0,len(data)):\n",
    "    data['oba_pos'][i]=data['oba_results'][i].probas.get('POS')\n",
    "    data['oba_neu'][i]=data['oba_results'][i].probas.get('NEU')\n",
    "    data['oba_neg'][i]=data['oba_results'][i].probas.get('NEG')"
   ]
  },
  {
   "cell_type": "code",
   "execution_count": 17,
   "metadata": {},
   "outputs": [
    {
     "data": {
      "text/plain": [
       "([<matplotlib.axis.XTick at 0x1dc2f11db10>,\n",
       "  <matplotlib.axis.XTick at 0x1dc2f11dae0>,\n",
       "  <matplotlib.axis.XTick at 0x1dc30459ab0>,\n",
       "  <matplotlib.axis.XTick at 0x1dc30633070>,\n",
       "  <matplotlib.axis.XTick at 0x1dc30633b20>,\n",
       "  <matplotlib.axis.XTick at 0x1dc30664610>,\n",
       "  <matplotlib.axis.XTick at 0x1dc30664970>,\n",
       "  <matplotlib.axis.XTick at 0x1dc30665420>,\n",
       "  <matplotlib.axis.XTick at 0x1dc2f11d720>,\n",
       "  <matplotlib.axis.XTick at 0x1dc306669e0>,\n",
       "  <matplotlib.axis.XTick at 0x1dc30633370>,\n",
       "  <matplotlib.axis.XTick at 0x1dc306672e0>,\n",
       "  <matplotlib.axis.XTick at 0x1dc30667d90>,\n",
       "  <matplotlib.axis.XTick at 0x1dc30688880>,\n",
       "  <matplotlib.axis.XTick at 0x1dc30689330>,\n",
       "  <matplotlib.axis.XTick at 0x1dc30667520>,\n",
       "  <matplotlib.axis.XTick at 0x1dc30689d50>,\n",
       "  <matplotlib.axis.XTick at 0x1dc3068a800>,\n",
       "  <matplotlib.axis.XTick at 0x1dc3068b2b0>,\n",
       "  <matplotlib.axis.XTick at 0x1dc3068bd60>,\n",
       "  <matplotlib.axis.XTick at 0x1dc30689f90>],\n",
       " [Text(0, 0, '0'),\n",
       "  Text(5, 0, '5'),\n",
       "  Text(10, 0, '10'),\n",
       "  Text(15, 0, '15'),\n",
       "  Text(20, 0, '20'),\n",
       "  Text(25, 0, '25'),\n",
       "  Text(30, 0, '30'),\n",
       "  Text(35, 0, '35'),\n",
       "  Text(40, 0, '40'),\n",
       "  Text(45, 0, '45'),\n",
       "  Text(50, 0, '50'),\n",
       "  Text(55, 0, '55'),\n",
       "  Text(60, 0, '60'),\n",
       "  Text(65, 0, '65'),\n",
       "  Text(70, 0, '70'),\n",
       "  Text(75, 0, '75'),\n",
       "  Text(80, 0, '80'),\n",
       "  Text(85, 0, '85'),\n",
       "  Text(90, 0, '90'),\n",
       "  Text(95, 0, '95'),\n",
       "  Text(100, 0, '100')])"
      ]
     },
     "execution_count": 17,
     "metadata": {},
     "output_type": "execute_result"
    },
    {
     "data": {
      "image/png": "[encoded data removed]",
      "text/plain": [
       "<Figure size 640x480 with 1 Axes>"
      ]
     },
     "metadata": {},
     "output_type": "display_data"
    }
   ],
   "source": [
    "ax=data.plot.bar(y=['oba_neg','oba_neu','oba_pos'],stacked=True,color=['r','y','g'])\n",
    "ticks=range(0,101,5)\n",
    "labels=ticks\n",
    "plt.xticks(ticks,labels)"
   ]
  },
  {
   "cell_type": "code",
   "execution_count": 18,
   "metadata": {},
   "outputs": [
    {
     "data": {
      "text/plain": [
       "Unnamed: 0                                                    30\n",
       "file                               2011-05-02-binLadenKilled.txt\n",
       "text_oba       Good evening. Tonight, I can report to the Ame...\n",
       "text_wsj       Al Qaeda leader Osama bin Laden, a mastermind ...\n",
       "text_nyt       Osama bin Laden, the mastermind of the most de...\n",
       "date                                                  2011-05-02\n",
       "oba_results    AnalyzerOutput(output=NEG, probas={NEG: 0.962,...\n",
       "oba_pos                                                 0.003345\n",
       "oba_neu                                                 0.034504\n",
       "oba_neg                                                 0.962151\n",
       "Name: 30, dtype: object"
      ]
     },
     "execution_count": 18,
     "metadata": {},
     "output_type": "execute_result"
    }
   ],
   "source": [
    "#Looks like some speeches turn up  predominantly negative, especially speeches with index 3, 30, 32-34 -- Lets check em out!\n",
    "data.iloc[30]"
   ]
  },
  {
   "cell_type": "code",
   "execution_count": 19,
   "metadata": {},
   "outputs": [
    {
     "name": "stderr",
     "output_type": "stream",
     "text": [
      "100%|██████████| 4/4 [00:01<00:00,  3.17ba/s]\n",
      "The following columns in the test set don't have a corresponding argument in `RobertaForSequenceClassification.forward` and have been ignored: text. If text are not expected by `RobertaForSequenceClassification.forward`,  you can safely ignore this message.\n",
      "***** Running Prediction *****\n",
      "  Num examples = 101\n",
      "  Batch size = 32\n",
      "100%|██████████| 4/4 [00:18<00:00,  4.63s/it]\n",
      "100%|██████████| 4/4 [00:01<00:00,  2.56ba/s]\n",
      "The following columns in the test set don't have a corresponding argument in `RobertaForSequenceClassification.forward` and have been ignored: text. If text are not expected by `RobertaForSequenceClassification.forward`,  you can safely ignore this message.\n",
      "***** Running Prediction *****\n",
      "  Num examples = 101\n",
      "  Batch size = 32\n",
      "100%|██████████| 4/4 [00:19<00:00,  4.78s/it]\n",
      "C:\\Users\\Kylan\\AppData\\Local\\Temp\\ipykernel_20784\\2626055168.py:9: SettingWithCopyWarning:\n",
      "\n",
      "\n",
      "A value is trying to be set on a copy of a slice from a DataFrame\n",
      "\n",
      "See the caveats in the documentation: https://pandas.pydata.org/pandas-docs/stable/user_guide/indexing.html#returning-a-view-versus-a-copy\n",
      "\n",
      "C:\\Users\\Kylan\\AppData\\Local\\Temp\\ipykernel_20784\\2626055168.py:10: SettingWithCopyWarning:\n",
      "\n",
      "\n",
      "A value is trying to be set on a copy of a slice from a DataFrame\n",
      "\n",
      "See the caveats in the documentation: https://pandas.pydata.org/pandas-docs/stable/user_guide/indexing.html#returning-a-view-versus-a-copy\n",
      "\n",
      "C:\\Users\\Kylan\\AppData\\Local\\Temp\\ipykernel_20784\\2626055168.py:11: SettingWithCopyWarning:\n",
      "\n",
      "\n",
      "A value is trying to be set on a copy of a slice from a DataFrame\n",
      "\n",
      "See the caveats in the documentation: https://pandas.pydata.org/pandas-docs/stable/user_guide/indexing.html#returning-a-view-versus-a-copy\n",
      "\n",
      "C:\\Users\\Kylan\\AppData\\Local\\Temp\\ipykernel_20784\\2626055168.py:17: SettingWithCopyWarning:\n",
      "\n",
      "\n",
      "A value is trying to be set on a copy of a slice from a DataFrame\n",
      "\n",
      "See the caveats in the documentation: https://pandas.pydata.org/pandas-docs/stable/user_guide/indexing.html#returning-a-view-versus-a-copy\n",
      "\n",
      "C:\\Users\\Kylan\\AppData\\Local\\Temp\\ipykernel_20784\\2626055168.py:18: SettingWithCopyWarning:\n",
      "\n",
      "\n",
      "A value is trying to be set on a copy of a slice from a DataFrame\n",
      "\n",
      "See the caveats in the documentation: https://pandas.pydata.org/pandas-docs/stable/user_guide/indexing.html#returning-a-view-versus-a-copy\n",
      "\n",
      "C:\\Users\\Kylan\\AppData\\Local\\Temp\\ipykernel_20784\\2626055168.py:19: SettingWithCopyWarning:\n",
      "\n",
      "\n",
      "A value is trying to be set on a copy of a slice from a DataFrame\n",
      "\n",
      "See the caveats in the documentation: https://pandas.pydata.org/pandas-docs/stable/user_guide/indexing.html#returning-a-view-versus-a-copy\n",
      "\n"
     ]
    }
   ],
   "source": [
    "#Now let's compare WSJ and NYT Article Graphs\n",
    "data['wsj_results']=analyzer.predict(data['text_wsj'])\n",
    "data['nyt_results']=analyzer.predict(data['text_nyt'])\n",
    "\n",
    "data['wsj_pos']=0\n",
    "data['wsj_neu']=0\n",
    "data['wsj_neg']=0\n",
    "for i in range(0,len(data)):\n",
    "    data['wsj_pos'][i]=data['wsj_results'][i].probas.get('POS')\n",
    "    data['wsj_neu'][i]=data['wsj_results'][i].probas.get('NEU')\n",
    "    data['wsj_neg'][i]=data['wsj_results'][i].probas.get('NEG')\n",
    "\n",
    "data['nyt_pos']=0\n",
    "data['nyt_neu']=0\n",
    "data['nyt_neg']=0\n",
    "for i in range(0,len(data)):\n",
    "    data['nyt_pos'][i]=data['nyt_results'][i].probas.get('POS')\n",
    "    data['nyt_neu'][i]=data['nyt_results'][i].probas.get('NEU')\n",
    "    data['nyt_neg'][i]=data['nyt_results'][i].probas.get('NEG')"
   ]
  },
  {
   "cell_type": "code",
   "execution_count": 20,
   "metadata": {},
   "outputs": [
    {
     "data": {
      "text/plain": [
       "([<matplotlib.axis.XTick at 0x1dcac5983a0>,\n",
       "  <matplotlib.axis.XTick at 0x1dcac5986a0>,\n",
       "  <matplotlib.axis.XTick at 0x1dc320402b0>,\n",
       "  <matplotlib.axis.XTick at 0x1dc32297cd0>,\n",
       "  <matplotlib.axis.XTick at 0x1dc322ccb20>,\n",
       "  <matplotlib.axis.XTick at 0x1dc322cd5d0>,\n",
       "  <matplotlib.axis.XTick at 0x1dc322ce080>,\n",
       "  <matplotlib.axis.XTick at 0x1dc322cd210>,\n",
       "  <matplotlib.axis.XTick at 0x1dc322cebc0>,\n",
       "  <matplotlib.axis.XTick at 0x1dc322cf670>,\n",
       "  <matplotlib.axis.XTick at 0x1dc322cfdc0>,\n",
       "  <matplotlib.axis.XTick at 0x1dc322ecc10>,\n",
       "  <matplotlib.axis.XTick at 0x1dc322cc370>,\n",
       "  <matplotlib.axis.XTick at 0x1dc322ed510>,\n",
       "  <matplotlib.axis.XTick at 0x1dc322edfc0>,\n",
       "  <matplotlib.axis.XTick at 0x1dc322eea70>,\n",
       "  <matplotlib.axis.XTick at 0x1dc322ef520>,\n",
       "  <matplotlib.axis.XTick at 0x1dc322edba0>,\n",
       "  <matplotlib.axis.XTick at 0x1dc322efd90>,\n",
       "  <matplotlib.axis.XTick at 0x1dc32308880>,\n",
       "  <matplotlib.axis.XTick at 0x1dc32309330>],\n",
       " [Text(0, 0, '0'),\n",
       "  Text(5, 0, '5'),\n",
       "  Text(10, 0, '10'),\n",
       "  Text(15, 0, '15'),\n",
       "  Text(20, 0, '20'),\n",
       "  Text(25, 0, '25'),\n",
       "  Text(30, 0, '30'),\n",
       "  Text(35, 0, '35'),\n",
       "  Text(40, 0, '40'),\n",
       "  Text(45, 0, '45'),\n",
       "  Text(50, 0, '50'),\n",
       "  Text(55, 0, '55'),\n",
       "  Text(60, 0, '60'),\n",
       "  Text(65, 0, '65'),\n",
       "  Text(70, 0, '70'),\n",
       "  Text(75, 0, '75'),\n",
       "  Text(80, 0, '80'),\n",
       "  Text(85, 0, '85'),\n",
       "  Text(90, 0, '90'),\n",
       "  Text(95, 0, '95'),\n",
       "  Text(100, 0, '100')])"
      ]
     },
     "execution_count": 20,
     "metadata": {},
     "output_type": "execute_result"
    },
    {
     "data": {
      "image/png": "[encoded data removed]",
      "text/plain": [
       "<Figure size 640x480 with 3 Axes>"
      ]
     },
     "metadata": {},
     "output_type": "display_data"
    }
   ],
   "source": [
    "fig, (ax1,ax2,ax3)=plt.subplots(3,sharex=True)\n",
    "data.plot.bar(ax=ax1,y=['oba_neg','oba_neu','oba_pos'],stacked=True,color=['r','y','g'])\n",
    "data.plot.bar(ax=ax2,y=['wsj_neg','wsj_neu','wsj_pos'],stacked=True,color=['r','y','g'])\n",
    "data.plot.bar(ax=ax3,y=['nyt_neg','nyt_neu','nyt_pos'],stacked=True,color=['r','y','g'])\n",
    "plt.xticks(ticks,labels)"
   ]
  },
  {
   "cell_type": "markdown",
   "metadata": {},
   "source": [
    "As could be expected, the news articles tend to fluctuate much more between positive and negative, while the speeches themselves remain mostly positive and-or neutral. Of specific interest are the red peaks in speeches, which mostly correlate with additional negativity in their corresponding news articles (FORMAL TEST REQUIRED). The big red peak as explained earlier covers some pretty heavy topics, while speech number 4 (index 3) does not garner significant negativity in news articles and warrants further investigation."
   ]
  },
  {
   "cell_type": "code",
   "execution_count": 21,
   "metadata": {},
   "outputs": [
    {
     "name": "stdout",
     "output_type": "stream",
     "text": [
      "Analysis result: \n",
      " Speech \t WSJ \t NYT \n",
      " NEG \t\t POS \t NEU\n",
      "Negative scores: \n",
      " Speech \t WSJ \t NYT \n",
      " 0.909 \t\t 0.004 \t 0.006\n",
      "Filename: \n",
      " 2009-01-05-EconomyPlans.txt \n",
      "\n",
      "\n",
      "Speech beginning: \n",
      " All right. Well, thanks for taking the time to come in for a moment. You know, this is the core of my economic team, and the message of our meeting today is one that comes as no surprise to most Americans, and that is we are in a very difficult spot. The economy is bad. The situation is getting worse.\n",
      "\n",
      "Last week, we learned that manufacturing had hit a 20-year low. On Friday, we're going to get the final jobs report from this year, and every indication is that we will have lost in 2008 more jobs \n",
      "\n",
      "\n",
      "WSJ Article beginning: \n",
      " President-elect Barack Obama and congressional Democrats are crafting a plan to offer about $300 billion of tax cuts to individuals and businesses, a move aimed at attracting Republican support for an economic-stimulus package and prodding companies to create jobs.\n",
      "\n",
      "The size of the proposed tax cuts -- which would account for about 40% of a stimulus package that could reach $775 billion over two years -- is greater than many on both sides of the aisle in Congress had anticipated. It may make it  \n",
      "\n",
      "\n",
      "NYT Article beginning: \n",
      " President-elect Barack Obama plans to include about $300 billion in tax cuts for workers and businesses in his economic recovery program, advisers said Sunday, as his team seeks to win over Congressional skeptics worried that he was too focused on government spending.\n",
      "\n",
      "The legislation Mr. Obama is developing with Congressional Democrats will devote about 40 percent of the cost to tax cuts, including his centerpiece campaign promise to provide credits up to $500 for most workers, costing roughly \n"
     ]
    }
   ],
   "source": [
    "#Lets check out speech no 4 and the corresponding articles.\n",
    "print('Analysis result: \\n Speech \\t WSJ \\t NYT \\n',data['oba_results'][3].output,'\\t\\t',data['wsj_results'][3].output,'\\t',data['nyt_results'][3].output)\n",
    "print('Negative scores: \\n','Speech','\\t','WSJ','\\t','NYT','\\n',\n",
    "    round(data['oba_neg'][3],3),'\\t\\t',round(data['wsj_neg'][3],3),'\\t',round(data['nyt_neg'][3],3))\n",
    "print('Filename: \\n',data.iloc[3]['file'],'\\n\\n') #Seems to just be economy plans\n",
    "print('Speech beginning: \\n',data.iloc[3,2][0:500],'\\n\\n') #Indeed alot of negative words being used here\n",
    "print('WSJ Article beginning: \\n',data.iloc[3,3][0:500],'\\n\\n') #Maybe stuff like 'greater' can be seen as positive? - must check out POS-NEU scores\n",
    "print('NYT Article beginning: \\n',data.iloc[3,4][0:500]) #Neutral indeed"
   ]
  },
  {
   "cell_type": "code",
   "execution_count": 22,
   "metadata": {},
   "outputs": [
    {
     "name": "stdout",
     "output_type": "stream",
     "text": [
      "{'NEG': 0.004140180069953203, 'NEU': 0.4565861225128174, 'POS': 0.539273738861084}\n"
     ]
    }
   ],
   "source": [
    "print(data['wsj_results'][3].probas) #yeah seems like its just barely more positive than neutral"
   ]
  },
  {
   "cell_type": "code",
   "execution_count": 23,
   "metadata": {},
   "outputs": [],
   "source": [
    "#Set baseline for analyzer using diverse texts (doc2vec)\n",
    "#Tokenize texts for training\n",
    "\n",
    "#Train doc2vec on oba/wsj/nyt corpus\n",
    "\n",
    "#Identify where texts are located through the doc vector"
   ]
  },
  {
   "cell_type": "code",
   "execution_count": 24,
   "metadata": {},
   "outputs": [
    {
     "data": {
      "text/html": [
       "<div>\n",
       "<style scoped>\n",
       "    .dataframe tbody tr th:only-of-type {\n",
       "        vertical-align: middle;\n",
       "    }\n",
       "\n",
       "    .dataframe tbody tr th {\n",
       "        vertical-align: top;\n",
       "    }\n",
       "\n",
       "    .dataframe thead th {\n",
       "        text-align: right;\n",
       "    }\n",
       "</style>\n",
       "<table border=\"1\" class=\"dataframe\">\n",
       "  <thead>\n",
       "    <tr style=\"text-align: right;\">\n",
       "      <th></th>\n",
       "      <th>Unnamed: 0</th>\n",
       "      <th>file</th>\n",
       "      <th>text_oba</th>\n",
       "      <th>text_wsj</th>\n",
       "      <th>text_nyt</th>\n",
       "      <th>date</th>\n",
       "      <th>oba_results</th>\n",
       "      <th>oba_pos</th>\n",
       "      <th>oba_neu</th>\n",
       "      <th>oba_neg</th>\n",
       "      <th>wsj_results</th>\n",
       "      <th>nyt_results</th>\n",
       "      <th>wsj_pos</th>\n",
       "      <th>wsj_neu</th>\n",
       "      <th>wsj_neg</th>\n",
       "      <th>nyt_pos</th>\n",
       "      <th>nyt_neu</th>\n",
       "      <th>nyt_neg</th>\n",
       "    </tr>\n",
       "  </thead>\n",
       "  <tbody>\n",
       "    <tr>\n",
       "      <th>0</th>\n",
       "      <td>0</td>\n",
       "      <td>2004-07-28-DNCSpeech.txt</td>\n",
       "      <td>On behalf of the great state of Illinois, cros...</td>\n",
       "      <td>John Kerry's decorated service in Vietnam took...</td>\n",
       "      <td>Barack Obama took the dais as the keynote spea...</td>\n",
       "      <td>2004-07-28</td>\n",
       "      <td>AnalyzerOutput(output=POS, probas={POS: 0.984,...</td>\n",
       "      <td>0.984291</td>\n",
       "      <td>0.013740</td>\n",
       "      <td>0.001969</td>\n",
       "      <td>AnalyzerOutput(output=POS, probas={POS: 0.679,...</td>\n",
       "      <td>AnalyzerOutput(output=POS, probas={POS: 0.538,...</td>\n",
       "      <td>0.678627</td>\n",
       "      <td>0.318330</td>\n",
       "      <td>0.003043</td>\n",
       "      <td>0.537673</td>\n",
       "      <td>0.451160</td>\n",
       "      <td>0.011166</td>\n",
       "    </tr>\n",
       "    <tr>\n",
       "      <th>1</th>\n",
       "      <td>1</td>\n",
       "      <td>2008-06-04-ObamaNomination.txt</td>\n",
       "      <td>Thank you....Thank you. What a -- What a wonde...</td>\n",
       "      <td>Sen. Barack Obama captured enough convention d...</td>\n",
       "      <td>Senator Barack Obama claimed the Democratic pr...</td>\n",
       "      <td>2008-06-04</td>\n",
       "      <td>AnalyzerOutput(output=POS, probas={POS: 0.992,...</td>\n",
       "      <td>0.991954</td>\n",
       "      <td>0.006306</td>\n",
       "      <td>0.001740</td>\n",
       "      <td>AnalyzerOutput(output=POS, probas={POS: 0.808,...</td>\n",
       "      <td>AnalyzerOutput(output=POS, probas={POS: 0.532,...</td>\n",
       "      <td>0.807944</td>\n",
       "      <td>0.189637</td>\n",
       "      <td>0.002419</td>\n",
       "      <td>0.532222</td>\n",
       "      <td>0.463911</td>\n",
       "      <td>0.003867</td>\n",
       "    </tr>\n",
       "    <tr>\n",
       "      <th>2</th>\n",
       "      <td>2</td>\n",
       "      <td>2008-11-05-ObamaElected.txt</td>\n",
       "      <td>Hello, Chicago.\\n\\nIf there is anyone out ther...</td>\n",
       "      <td>Sen. Barack Obama was elected the nation's fir...</td>\n",
       "      <td>Barack Hussein Obama was elected the 44th pres...</td>\n",
       "      <td>2008-11-05</td>\n",
       "      <td>AnalyzerOutput(output=NEU, probas={NEU: 0.795,...</td>\n",
       "      <td>0.164156</td>\n",
       "      <td>0.794787</td>\n",
       "      <td>0.041057</td>\n",
       "      <td>AnalyzerOutput(output=POS, probas={POS: 0.647,...</td>\n",
       "      <td>AnalyzerOutput(output=POS, probas={POS: 0.900,...</td>\n",
       "      <td>0.646581</td>\n",
       "      <td>0.347354</td>\n",
       "      <td>0.006064</td>\n",
       "      <td>0.899753</td>\n",
       "      <td>0.097999</td>\n",
       "      <td>0.002248</td>\n",
       "    </tr>\n",
       "    <tr>\n",
       "      <th>3</th>\n",
       "      <td>3</td>\n",
       "      <td>2009-01-05-EconomyPlans.txt</td>\n",
       "      <td>All right. Well, thanks for taking the time to...</td>\n",
       "      <td>President-elect Barack Obama and congressional...</td>\n",
       "      <td>President-elect Barack Obama plans to include ...</td>\n",
       "      <td>2009-01-05</td>\n",
       "      <td>AnalyzerOutput(output=NEG, probas={NEG: 0.909,...</td>\n",
       "      <td>0.008281</td>\n",
       "      <td>0.083071</td>\n",
       "      <td>0.908647</td>\n",
       "      <td>AnalyzerOutput(output=POS, probas={POS: 0.539,...</td>\n",
       "      <td>AnalyzerOutput(output=NEU, probas={NEU: 0.617,...</td>\n",
       "      <td>0.539274</td>\n",
       "      <td>0.456586</td>\n",
       "      <td>0.004140</td>\n",
       "      <td>0.377001</td>\n",
       "      <td>0.617145</td>\n",
       "      <td>0.005854</td>\n",
       "    </tr>\n",
       "    <tr>\n",
       "      <th>4</th>\n",
       "      <td>4</td>\n",
       "      <td>2009-01-20-Inauguration.txt</td>\n",
       "      <td>I, Barack Hussein Obama, do solemnly swear tha...</td>\n",
       "      <td>On a day rich in history, Barack Obama was swo...</td>\n",
       "      <td>Barack Hussein Obama was sworn in as the 44th ...</td>\n",
       "      <td>2009-01-20</td>\n",
       "      <td>AnalyzerOutput(output=POS, probas={POS: 0.985,...</td>\n",
       "      <td>0.984908</td>\n",
       "      <td>0.013792</td>\n",
       "      <td>0.001300</td>\n",
       "      <td>AnalyzerOutput(output=POS, probas={POS: 0.945,...</td>\n",
       "      <td>AnalyzerOutput(output=POS, probas={POS: 0.636,...</td>\n",
       "      <td>0.944956</td>\n",
       "      <td>0.053555</td>\n",
       "      <td>0.001489</td>\n",
       "      <td>0.636215</td>\n",
       "      <td>0.355996</td>\n",
       "      <td>0.007789</td>\n",
       "    </tr>\n",
       "  </tbody>\n",
       "</table>\n",
       "</div>"
      ],
      "text/plain": [
       "   Unnamed: 0                            file  \\\n",
       "0           0        2004-07-28-DNCSpeech.txt   \n",
       "1           1  2008-06-04-ObamaNomination.txt   \n",
       "2           2     2008-11-05-ObamaElected.txt   \n",
       "3           3     2009-01-05-EconomyPlans.txt   \n",
       "4           4     2009-01-20-Inauguration.txt   \n",
       "\n",
       "                                            text_oba  \\\n",
       "0  On behalf of the great state of Illinois, cros...   \n",
       "1  Thank you....Thank you. What a -- What a wonde...   \n",
       "2  Hello, Chicago.\\n\\nIf there is anyone out ther...   \n",
       "3  All right. Well, thanks for taking the time to...   \n",
       "4  I, Barack Hussein Obama, do solemnly swear tha...   \n",
       "\n",
       "                                            text_wsj  \\\n",
       "0  John Kerry's decorated service in Vietnam took...   \n",
       "1  Sen. Barack Obama captured enough convention d...   \n",
       "2  Sen. Barack Obama was elected the nation's fir...   \n",
       "3  President-elect Barack Obama and congressional...   \n",
       "4  On a day rich in history, Barack Obama was swo...   \n",
       "\n",
       "                                            text_nyt        date  \\\n",
       "0  Barack Obama took the dais as the keynote spea...  2004-07-28   \n",
       "1  Senator Barack Obama claimed the Democratic pr...  2008-06-04   \n",
       "2  Barack Hussein Obama was elected the 44th pres...  2008-11-05   \n",
       "3  President-elect Barack Obama plans to include ...  2009-01-05   \n",
       "4  Barack Hussein Obama was sworn in as the 44th ...  2009-01-20   \n",
       "\n",
       "                                         oba_results   oba_pos   oba_neu  \\\n",
       "0  AnalyzerOutput(output=POS, probas={POS: 0.984,...  0.984291  0.013740   \n",
       "1  AnalyzerOutput(output=POS, probas={POS: 0.992,...  0.991954  0.006306   \n",
       "2  AnalyzerOutput(output=NEU, probas={NEU: 0.795,...  0.164156  0.794787   \n",
       "3  AnalyzerOutput(output=NEG, probas={NEG: 0.909,...  0.008281  0.083071   \n",
       "4  AnalyzerOutput(output=POS, probas={POS: 0.985,...  0.984908  0.013792   \n",
       "\n",
       "    oba_neg                                        wsj_results  \\\n",
       "0  0.001969  AnalyzerOutput(output=POS, probas={POS: 0.679,...   \n",
       "1  0.001740  AnalyzerOutput(output=POS, probas={POS: 0.808,...   \n",
       "2  0.041057  AnalyzerOutput(output=POS, probas={POS: 0.647,...   \n",
       "3  0.908647  AnalyzerOutput(output=POS, probas={POS: 0.539,...   \n",
       "4  0.001300  AnalyzerOutput(output=POS, probas={POS: 0.945,...   \n",
       "\n",
       "                                         nyt_results   wsj_pos   wsj_neu  \\\n",
       "0  AnalyzerOutput(output=POS, probas={POS: 0.538,...  0.678627  0.318330   \n",
       "1  AnalyzerOutput(output=POS, probas={POS: 0.532,...  0.807944  0.189637   \n",
       "2  AnalyzerOutput(output=POS, probas={POS: 0.900,...  0.646581  0.347354   \n",
       "3  AnalyzerOutput(output=NEU, probas={NEU: 0.617,...  0.539274  0.456586   \n",
       "4  AnalyzerOutput(output=POS, probas={POS: 0.636,...  0.944956  0.053555   \n",
       "\n",
       "    wsj_neg   nyt_pos   nyt_neu   nyt_neg  \n",
       "0  0.003043  0.537673  0.451160  0.011166  \n",
       "1  0.002419  0.532222  0.463911  0.003867  \n",
       "2  0.006064  0.899753  0.097999  0.002248  \n",
       "3  0.004140  0.377001  0.617145  0.005854  \n",
       "4  0.001489  0.636215  0.355996  0.007789  "
      ]
     },
     "execution_count": 24,
     "metadata": {},
     "output_type": "execute_result"
    }
   ],
   "source": [
    "data.head()"
   ]
  },
  {
   "cell_type": "code",
   "execution_count": 150,
   "metadata": {},
   "outputs": [
    {
     "name": "stdout",
     "output_type": "stream",
     "text": [
      "303\n"
     ]
    },
    {
     "data": {
      "text/html": [
       "<div>\n",
       "<style scoped>\n",
       "    .dataframe tbody tr th:only-of-type {\n",
       "        vertical-align: middle;\n",
       "    }\n",
       "\n",
       "    .dataframe tbody tr th {\n",
       "        vertical-align: top;\n",
       "    }\n",
       "\n",
       "    .dataframe thead th {\n",
       "        text-align: right;\n",
       "    }\n",
       "</style>\n",
       "<table border=\"1\" class=\"dataframe\">\n",
       "  <thead>\n",
       "    <tr style=\"text-align: right;\">\n",
       "      <th></th>\n",
       "      <th>Source</th>\n",
       "      <th>Date</th>\n",
       "      <th>Text</th>\n",
       "      <th>Result</th>\n",
       "      <th>Resultint</th>\n",
       "    </tr>\n",
       "  </thead>\n",
       "  <tbody>\n",
       "    <tr>\n",
       "      <th>0</th>\n",
       "      <td>text_oba</td>\n",
       "      <td>2004-07-28</td>\n",
       "      <td>On behalf of the great state of Illinois, cros...</td>\n",
       "      <td>POS</td>\n",
       "      <td>1.0</td>\n",
       "    </tr>\n",
       "    <tr>\n",
       "      <th>1</th>\n",
       "      <td>text_oba</td>\n",
       "      <td>2008-06-04</td>\n",
       "      <td>Thank you....Thank you. What a -- What a wonde...</td>\n",
       "      <td>POS</td>\n",
       "      <td>1.0</td>\n",
       "    </tr>\n",
       "    <tr>\n",
       "      <th>2</th>\n",
       "      <td>text_oba</td>\n",
       "      <td>2008-11-05</td>\n",
       "      <td>Hello, Chicago.\\n\\nIf there is anyone out ther...</td>\n",
       "      <td>NEU</td>\n",
       "      <td>0.5</td>\n",
       "    </tr>\n",
       "    <tr>\n",
       "      <th>3</th>\n",
       "      <td>text_oba</td>\n",
       "      <td>2009-01-05</td>\n",
       "      <td>All right. Well, thanks for taking the time to...</td>\n",
       "      <td>NEG</td>\n",
       "      <td>0.0</td>\n",
       "    </tr>\n",
       "    <tr>\n",
       "      <th>4</th>\n",
       "      <td>text_oba</td>\n",
       "      <td>2009-01-20</td>\n",
       "      <td>I, Barack Hussein Obama, do solemnly swear tha...</td>\n",
       "      <td>POS</td>\n",
       "      <td>1.0</td>\n",
       "    </tr>\n",
       "  </tbody>\n",
       "</table>\n",
       "</div>"
      ],
      "text/plain": [
       "     Source        Date                                               Text  \\\n",
       "0  text_oba  2004-07-28  On behalf of the great state of Illinois, cros...   \n",
       "1  text_oba  2008-06-04  Thank you....Thank you. What a -- What a wonde...   \n",
       "2  text_oba  2008-11-05  Hello, Chicago.\\n\\nIf there is anyone out ther...   \n",
       "3  text_oba  2009-01-05  All right. Well, thanks for taking the time to...   \n",
       "4  text_oba  2009-01-20  I, Barack Hussein Obama, do solemnly swear tha...   \n",
       "\n",
       "  Result  Resultint  \n",
       "0    POS        1.0  \n",
       "1    POS        1.0  \n",
       "2    NEU        0.5  \n",
       "3    NEG        0.0  \n",
       "4    POS        1.0  "
      ]
     },
     "execution_count": 150,
     "metadata": {},
     "output_type": "execute_result"
    }
   ],
   "source": [
    "#Reformat data to long format for use in doc2vec corpus\n",
    "texts=[]\n",
    "sources=[]\n",
    "output=[]\n",
    "date=[]\n",
    "score=[]\n",
    "for column in ['text_oba','text_wsj','text_nyt']:\n",
    "    for i in range(0,len(data)):\n",
    "        texts.append(data[column][i])\n",
    "        sources.append(column)\n",
    "        date.append(data['date'][i])\n",
    "        \n",
    "for scores in ['oba_results','wsj_results','nyt_results']:\n",
    "    for i in range(0,len(data)):\n",
    "        output.append(data[scores][i].output)\n",
    "        if data[scores][i].output=='POS':\n",
    "            score.append(1)\n",
    "        elif data[scores][i].output=='NEG':\n",
    "            score.append(0)\n",
    "        else:\n",
    "            score.append(0.5)\n",
    "D2Vdata = pd.DataFrame(data={'Source':sources,'Date':date,'Text':texts,'Result':output,'Resultint':score})\n",
    "print(len(D2Vdata))\n",
    "D2Vdata.head()"
   ]
  },
  {
   "cell_type": "code",
   "execution_count": 107,
   "metadata": {},
   "outputs": [
    {
     "data": {
      "text/html": [
       "<div>\n",
       "<style scoped>\n",
       "    .dataframe tbody tr th:only-of-type {\n",
       "        vertical-align: middle;\n",
       "    }\n",
       "\n",
       "    .dataframe tbody tr th {\n",
       "        vertical-align: top;\n",
       "    }\n",
       "\n",
       "    .dataframe thead th {\n",
       "        text-align: right;\n",
       "    }\n",
       "</style>\n",
       "<table border=\"1\" class=\"dataframe\">\n",
       "  <thead>\n",
       "    <tr style=\"text-align: right;\">\n",
       "      <th></th>\n",
       "      <th>Unnamed: 0</th>\n",
       "      <th>date</th>\n",
       "      <th>title</th>\n",
       "      <th>tokens</th>\n",
       "    </tr>\n",
       "  </thead>\n",
       "  <tbody>\n",
       "    <tr>\n",
       "      <th>0</th>\n",
       "      <td>0</td>\n",
       "      <td>2012-07-23</td>\n",
       "      <td>Speech to the 113th VFW Convention</td>\n",
       "      <td>([, ', responsibly, ', ,, ', vow, ', ,, ', med...</td>\n",
       "    </tr>\n",
       "    <tr>\n",
       "      <th>1</th>\n",
       "      <td>1</td>\n",
       "      <td>2015-12-09</td>\n",
       "      <td>113th Amendment 150-Year Anniversary Speech</td>\n",
       "      <td>([, ', birthright, ', ,, ', nation, ', ,, ', f...</td>\n",
       "    </tr>\n",
       "    <tr>\n",
       "      <th>2</th>\n",
       "      <td>2</td>\n",
       "      <td>2010-02-01</td>\n",
       "      <td>Press Conference on 2010 Budget Sent to Congress</td>\n",
       "      <td>([, ', subsidy, ', ,, ', veteran, ', ,, ', pat...</td>\n",
       "    </tr>\n",
       "    <tr>\n",
       "      <th>3</th>\n",
       "      <td>3</td>\n",
       "      <td>2010-02-04</td>\n",
       "      <td>Speech at the 58th National Prayer Breakfast</td>\n",
       "      <td>([, ', medic, ', ,, ', neighborhood, ', ,, ', ...</td>\n",
       "    </tr>\n",
       "    <tr>\n",
       "      <th>4</th>\n",
       "      <td>4</td>\n",
       "      <td>2011-02-03</td>\n",
       "      <td>Speech at the 59th National Prayer Breakfast</td>\n",
       "      <td>([, ', imperative, ', ,, ', mortgage, ', ,, ',...</td>\n",
       "    </tr>\n",
       "  </tbody>\n",
       "</table>\n",
       "</div>"
      ],
      "text/plain": [
       "   Unnamed: 0        date                                             title  \\\n",
       "0           0  2012-07-23                Speech to the 113th VFW Convention   \n",
       "1           1  2015-12-09       113th Amendment 150-Year Anniversary Speech   \n",
       "2           2  2010-02-01  Press Conference on 2010 Budget Sent to Congress   \n",
       "3           3  2010-02-04      Speech at the 58th National Prayer Breakfast   \n",
       "4           4  2011-02-03      Speech at the 59th National Prayer Breakfast   \n",
       "\n",
       "                                              tokens  \n",
       "0  ([, ', responsibly, ', ,, ', vow, ', ,, ', med...  \n",
       "1  ([, ', birthright, ', ,, ', nation, ', ,, ', f...  \n",
       "2  ([, ', subsidy, ', ,, ', veteran, ', ,, ', pat...  \n",
       "3  ([, ', medic, ', ,, ', neighborhood, ', ,, ', ...  \n",
       "4  ([, ', imperative, ', ,, ', mortgage, ', ,, ',...  "
      ]
     },
     "execution_count": 107,
     "metadata": {},
     "output_type": "execute_result"
    }
   ],
   "source": [
    "D2Vdata=pd.read_csv('UCSBLemmaTokens.csv')\n",
    "import spacy\n",
    "nlp = spacy.load(\"en_core_web_md\")\n",
    "D2Vdata['tokens']=D2Vdata['tokens'].apply(lambda x: nlp(x)) #Still need to fix commas being tokenized...\n",
    "D2Vdata.head()"
   ]
  },
  {
   "cell_type": "code",
   "execution_count": 139,
   "metadata": {},
   "outputs": [],
   "source": [
    "#Clean up text, train-test split(MIGHT NEED REVIEW), tokenize using nltk + tag set of tokens by sentiment score \n",
    "from sklearn.model_selection import train_test_split\n",
    "from gensim.models.doc2vec import TaggedDocument\n",
    "\n",
    "x_train, x_test = train_test_split(D2Vdata, test_size=0.3, random_state=42, shuffle=True)\n",
    "x_all = D2Vdata\n",
    "def fix_tokens(tokenlist):\n",
    "    correcttokens=[]\n",
    "    for token in tokenlist:\n",
    "        if len(token)>2:\n",
    "            correcttokens.append(str(token))\n",
    "        else:\n",
    "            pass\n",
    "    return correcttokens\n",
    "\n",
    "all_tagged = x_all.apply(\n",
    "    lambda r: TaggedDocument(words=fix_tokens(r['tokens']), tags=[r['date']]), axis=1)\n",
    "train_tagged = x_train.apply(\n",
    "    lambda r: TaggedDocument(words=fix_tokens(r['tokens']), tags=[r['date']]), axis=1)\n",
    "test_tagged = x_test.apply(\n",
    "    lambda r: TaggedDocument(words=fix_tokens(r['tokens']), tags=[r['date']]), axis=1)"
   ]
  },
  {
   "cell_type": "code",
   "execution_count": 141,
   "metadata": {},
   "outputs": [],
   "source": [
    "#Initialize doc2vec DBOW model\n",
    "import multiprocessing\n",
    "cores=multiprocessing.cpu_count()\n",
    "model_dbow = Doc2Vec(dm=0, vector_size=300, negative=5, hs=0, min_count=2, sample=0, workers=cores)\n",
    "model_dbow.build_vocab([x for x in all_tagged.values])\n",
    "model_dm = Doc2Vec(dm=1, vector_size=300, negative=5, hs=0, min_count=2, sample=0, workers=cores)\n",
    "model_dm.build_vocab([x for x in all_tagged.values])"
   ]
  },
  {
   "cell_type": "code",
   "execution_count": 143,
   "metadata": {},
   "outputs": [],
   "source": [
    "#Train model for 50 epochs\n",
    "from sklearn import utils\n",
    "for i in range(50):\n",
    "    model_dbow.train(utils.shuffle([x for x in all_tagged.values]), total_examples=len(all_tagged.values),epochs=1)\n",
    "    model_dbow.alpha=-0.002\n",
    "    model_dbow.min_alpha=model_dbow.alpha\n",
    "    model_dm.train(utils.shuffle([x for x in all_tagged.values]), total_examples=len(all_tagged.values),epochs=1)\n",
    "    model_dm.alpha=-0.002\n",
    "    model_dm.min_alpha=model_dm.alpha"
   ]
  },
  {
   "cell_type": "code",
   "execution_count": 152,
   "metadata": {},
   "outputs": [
    {
     "data": {
      "text/plain": [
       "[('madeleine', 0.2170867621898651),\n",
       " ('beach', 0.19647487998008728),\n",
       " ('surface', 0.19565144181251526),\n",
       " ('gallantry', 0.1931230127811432),\n",
       " ('forget', 0.193122997879982),\n",
       " ('survival', 0.19048865139484406),\n",
       " ('florida', 0.18882864713668823),\n",
       " ('veto', 0.18783539533615112),\n",
       " ('obscure', 0.18629461526870728),\n",
       " ('reopen', 0.1808323860168457)]"
      ]
     },
     "execution_count": 152,
     "metadata": {},
     "output_type": "execute_result"
    }
   ],
   "source": [
    "model_dbow.wv.most_similar('medic')"
   ]
  },
  {
   "cell_type": "code",
   "execution_count": 151,
   "metadata": {},
   "outputs": [
    {
     "data": {
      "text/plain": [
       "[('surface', 0.9992021322250366),\n",
       " ('forget', 0.9992020726203918),\n",
       " ('bomb', 0.999200701713562),\n",
       " ('fly', 0.9991997480392456),\n",
       " ('company', 0.9991975426673889),\n",
       " ('advantage', 0.9991973638534546),\n",
       " ('hospitality', 0.9991960525512695),\n",
       " ('tolerate', 0.9991958737373352),\n",
       " ('beach', 0.9991958141326904),\n",
       " ('govern', 0.9991957545280457)]"
      ]
     },
     "execution_count": 151,
     "metadata": {},
     "output_type": "execute_result"
    }
   ],
   "source": [
    "model_dm.wv.most_similar('medic')"
   ]
  },
  {
   "cell_type": "code",
   "execution_count": 26,
   "metadata": {},
   "outputs": [
    {
     "name": "stderr",
     "output_type": "stream",
     "text": [
      "c:\\Users\\Kylan\\anaconda3\\envs\\blauwe_kater\\lib\\site-packages\\sklearn\\utils\\deprecation.py:87: FutureWarning:\n",
      "\n",
      "Function get_feature_names is deprecated; get_feature_names is deprecated in 1.0 and will be removed in 1.2. Please use get_feature_names_out instead.\n",
      "\n"
     ]
    },
    {
     "name": "stdout",
     "output_type": "stream",
     "text": [
      "Epoch 1/100\n",
      "7/7 - 1s - loss: 0.6635 - accuracy: 0.4245 - 624ms/epoch - 89ms/step\n",
      "Epoch 2/100\n",
      "7/7 - 0s - loss: 0.4555 - accuracy: 0.5708 - 14ms/epoch - 2ms/step\n",
      "Epoch 3/100\n",
      "7/7 - 0s - loss: 0.3763 - accuracy: 0.5849 - 13ms/epoch - 2ms/step\n",
      "Epoch 4/100\n",
      "7/7 - 0s - loss: 0.3302 - accuracy: 0.5943 - 15ms/epoch - 2ms/step\n",
      "Epoch 5/100\n",
      "7/7 - 0s - loss: 0.3248 - accuracy: 0.5943 - 14ms/epoch - 2ms/step\n",
      "Epoch 6/100\n",
      "7/7 - 0s - loss: 0.3330 - accuracy: 0.5943 - 14ms/epoch - 2ms/step\n",
      "Epoch 7/100\n",
      "7/7 - 0s - loss: 0.3183 - accuracy: 0.5943 - 14ms/epoch - 2ms/step\n",
      "Epoch 8/100\n",
      "7/7 - 0s - loss: 0.3133 - accuracy: 0.5943 - 14ms/epoch - 2ms/step\n",
      "Epoch 9/100\n",
      "7/7 - 0s - loss: 0.3030 - accuracy: 0.5943 - 13ms/epoch - 2ms/step\n",
      "Epoch 10/100\n",
      "7/7 - 0s - loss: 0.2993 - accuracy: 0.5943 - 14ms/epoch - 2ms/step\n",
      "Epoch 11/100\n",
      "7/7 - 0s - loss: 0.2942 - accuracy: 0.5943 - 13ms/epoch - 2ms/step\n",
      "Epoch 12/100\n",
      "7/7 - 0s - loss: 0.2969 - accuracy: 0.5943 - 15ms/epoch - 2ms/step\n",
      "Epoch 13/100\n",
      "7/7 - 0s - loss: 0.2966 - accuracy: 0.5943 - 13ms/epoch - 2ms/step\n",
      "Epoch 14/100\n",
      "7/7 - 0s - loss: 0.2985 - accuracy: 0.5943 - 13ms/epoch - 2ms/step\n",
      "Epoch 15/100\n",
      "7/7 - 0s - loss: 0.2945 - accuracy: 0.5943 - 14ms/epoch - 2ms/step\n",
      "Epoch 16/100\n",
      "7/7 - 0s - loss: 0.2918 - accuracy: 0.5943 - 14ms/epoch - 2ms/step\n",
      "Epoch 17/100\n",
      "7/7 - 0s - loss: 0.2871 - accuracy: 0.5943 - 13ms/epoch - 2ms/step\n",
      "Epoch 18/100\n",
      "7/7 - 0s - loss: 0.2879 - accuracy: 0.5943 - 12ms/epoch - 2ms/step\n",
      "Epoch 19/100\n",
      "7/7 - 0s - loss: 0.2893 - accuracy: 0.5943 - 13ms/epoch - 2ms/step\n",
      "Epoch 20/100\n",
      "7/7 - 0s - loss: 0.2889 - accuracy: 0.5943 - 13ms/epoch - 2ms/step\n",
      "Epoch 21/100\n",
      "7/7 - 0s - loss: 0.2925 - accuracy: 0.5943 - 13ms/epoch - 2ms/step\n",
      "Epoch 22/100\n",
      "7/7 - 0s - loss: 0.2902 - accuracy: 0.5943 - 14ms/epoch - 2ms/step\n",
      "Epoch 23/100\n",
      "7/7 - 0s - loss: 0.2941 - accuracy: 0.5943 - 14ms/epoch - 2ms/step\n",
      "Epoch 24/100\n",
      "7/7 - 0s - loss: 0.2898 - accuracy: 0.5943 - 14ms/epoch - 2ms/step\n",
      "Epoch 25/100\n",
      "7/7 - 0s - loss: 0.2917 - accuracy: 0.5943 - 13ms/epoch - 2ms/step\n",
      "Epoch 26/100\n",
      "7/7 - 0s - loss: 0.2878 - accuracy: 0.5943 - 14ms/epoch - 2ms/step\n",
      "Epoch 27/100\n",
      "7/7 - 0s - loss: 0.2857 - accuracy: 0.5943 - 13ms/epoch - 2ms/step\n",
      "Epoch 28/100\n",
      "7/7 - 0s - loss: 0.2848 - accuracy: 0.5943 - 16ms/epoch - 2ms/step\n",
      "Epoch 29/100\n",
      "7/7 - 0s - loss: 0.2838 - accuracy: 0.5943 - 13ms/epoch - 2ms/step\n",
      "Epoch 30/100\n",
      "7/7 - 0s - loss: 0.2841 - accuracy: 0.5943 - 15ms/epoch - 2ms/step\n",
      "Epoch 31/100\n",
      "7/7 - 0s - loss: 0.2856 - accuracy: 0.5943 - 14ms/epoch - 2ms/step\n",
      "Epoch 32/100\n",
      "7/7 - 0s - loss: 0.2868 - accuracy: 0.5943 - 15ms/epoch - 2ms/step\n",
      "Epoch 33/100\n",
      "7/7 - 0s - loss: 0.2883 - accuracy: 0.5943 - 14ms/epoch - 2ms/step\n",
      "Epoch 34/100\n",
      "7/7 - 0s - loss: 0.2886 - accuracy: 0.5943 - 17ms/epoch - 2ms/step\n",
      "Epoch 35/100\n",
      "7/7 - 0s - loss: 0.2884 - accuracy: 0.5943 - 12ms/epoch - 2ms/step\n",
      "Epoch 36/100\n",
      "7/7 - 0s - loss: 0.2863 - accuracy: 0.5943 - 16ms/epoch - 2ms/step\n",
      "Epoch 37/100\n",
      "7/7 - 0s - loss: 0.2874 - accuracy: 0.5943 - 15ms/epoch - 2ms/step\n",
      "Epoch 38/100\n",
      "7/7 - 0s - loss: 0.2852 - accuracy: 0.5943 - 13ms/epoch - 2ms/step\n",
      "Epoch 39/100\n",
      "7/7 - 0s - loss: 0.2874 - accuracy: 0.5943 - 15ms/epoch - 2ms/step\n",
      "Epoch 40/100\n",
      "7/7 - 0s - loss: 0.2862 - accuracy: 0.5943 - 13ms/epoch - 2ms/step\n",
      "Epoch 41/100\n",
      "7/7 - 0s - loss: 0.2860 - accuracy: 0.5943 - 16ms/epoch - 2ms/step\n",
      "Epoch 42/100\n",
      "7/7 - 0s - loss: 0.2870 - accuracy: 0.5943 - 14ms/epoch - 2ms/step\n",
      "Epoch 43/100\n",
      "7/7 - 0s - loss: 0.2884 - accuracy: 0.5943 - 14ms/epoch - 2ms/step\n",
      "Epoch 44/100\n",
      "7/7 - 0s - loss: 0.2896 - accuracy: 0.5943 - 14ms/epoch - 2ms/step\n",
      "Epoch 45/100\n",
      "7/7 - 0s - loss: 0.2915 - accuracy: 0.5943 - 14ms/epoch - 2ms/step\n",
      "Epoch 46/100\n",
      "7/7 - 0s - loss: 0.2895 - accuracy: 0.5943 - 14ms/epoch - 2ms/step\n",
      "Epoch 47/100\n",
      "7/7 - 0s - loss: 0.2891 - accuracy: 0.5943 - 12ms/epoch - 2ms/step\n",
      "Epoch 48/100\n",
      "7/7 - 0s - loss: 0.2868 - accuracy: 0.5943 - 13ms/epoch - 2ms/step\n",
      "Epoch 49/100\n",
      "7/7 - 0s - loss: 0.2845 - accuracy: 0.5943 - 15ms/epoch - 2ms/step\n",
      "Epoch 50/100\n",
      "7/7 - 0s - loss: 0.2834 - accuracy: 0.5943 - 14ms/epoch - 2ms/step\n",
      "Epoch 51/100\n",
      "7/7 - 0s - loss: 0.2828 - accuracy: 0.5943 - 14ms/epoch - 2ms/step\n",
      "Epoch 52/100\n",
      "7/7 - 0s - loss: 0.2830 - accuracy: 0.5943 - 13ms/epoch - 2ms/step\n",
      "Epoch 53/100\n",
      "7/7 - 0s - loss: 0.2826 - accuracy: 0.5943 - 13ms/epoch - 2ms/step\n",
      "Epoch 54/100\n",
      "7/7 - 0s - loss: 0.2824 - accuracy: 0.5943 - 14ms/epoch - 2ms/step\n",
      "Epoch 55/100\n",
      "7/7 - 0s - loss: 0.2820 - accuracy: 0.5943 - 15ms/epoch - 2ms/step\n",
      "Epoch 56/100\n",
      "7/7 - 0s - loss: 0.2817 - accuracy: 0.5943 - 13ms/epoch - 2ms/step\n",
      "Epoch 57/100\n",
      "7/7 - 0s - loss: 0.2816 - accuracy: 0.5943 - 15ms/epoch - 2ms/step\n",
      "Epoch 58/100\n",
      "7/7 - 0s - loss: 0.2816 - accuracy: 0.5943 - 14ms/epoch - 2ms/step\n",
      "Epoch 59/100\n",
      "7/7 - 0s - loss: 0.2815 - accuracy: 0.5943 - 13ms/epoch - 2ms/step\n",
      "Epoch 60/100\n",
      "7/7 - 0s - loss: 0.2815 - accuracy: 0.5943 - 14ms/epoch - 2ms/step\n",
      "Epoch 61/100\n",
      "7/7 - 0s - loss: 0.2814 - accuracy: 0.5943 - 16ms/epoch - 2ms/step\n",
      "Epoch 62/100\n",
      "7/7 - 0s - loss: 0.2813 - accuracy: 0.5943 - 14ms/epoch - 2ms/step\n",
      "Epoch 63/100\n",
      "7/7 - 0s - loss: 0.2813 - accuracy: 0.5943 - 15ms/epoch - 2ms/step\n",
      "Epoch 64/100\n",
      "7/7 - 0s - loss: 0.2813 - accuracy: 0.5943 - 14ms/epoch - 2ms/step\n",
      "Epoch 65/100\n",
      "7/7 - 0s - loss: 0.2813 - accuracy: 0.5943 - 13ms/epoch - 2ms/step\n",
      "Epoch 66/100\n",
      "7/7 - 0s - loss: 0.2813 - accuracy: 0.5943 - 15ms/epoch - 2ms/step\n",
      "Epoch 67/100\n",
      "7/7 - 0s - loss: 0.2813 - accuracy: 0.5943 - 14ms/epoch - 2ms/step\n",
      "Epoch 68/100\n",
      "7/7 - 0s - loss: 0.2813 - accuracy: 0.5943 - 13ms/epoch - 2ms/step\n",
      "Epoch 69/100\n",
      "7/7 - 0s - loss: 0.2813 - accuracy: 0.5943 - 14ms/epoch - 2ms/step\n",
      "Epoch 70/100\n",
      "7/7 - 0s - loss: 0.2813 - accuracy: 0.5943 - 12ms/epoch - 2ms/step\n",
      "Epoch 71/100\n",
      "7/7 - 0s - loss: 0.2813 - accuracy: 0.5943 - 13ms/epoch - 2ms/step\n",
      "Epoch 72/100\n",
      "7/7 - 0s - loss: 0.2813 - accuracy: 0.5943 - 13ms/epoch - 2ms/step\n",
      "Epoch 73/100\n",
      "7/7 - 0s - loss: 0.2813 - accuracy: 0.5943 - 14ms/epoch - 2ms/step\n",
      "Epoch 74/100\n",
      "7/7 - 0s - loss: 0.2813 - accuracy: 0.5943 - 15ms/epoch - 2ms/step\n",
      "Epoch 75/100\n",
      "7/7 - 0s - loss: 0.2813 - accuracy: 0.5943 - 13ms/epoch - 2ms/step\n",
      "Epoch 76/100\n",
      "7/7 - 0s - loss: 0.2813 - accuracy: 0.5943 - 15ms/epoch - 2ms/step\n",
      "Epoch 77/100\n",
      "7/7 - 0s - loss: 0.2813 - accuracy: 0.5943 - 14ms/epoch - 2ms/step\n",
      "Epoch 78/100\n",
      "7/7 - 0s - loss: 0.2813 - accuracy: 0.5943 - 15ms/epoch - 2ms/step\n",
      "Epoch 79/100\n",
      "7/7 - 0s - loss: 0.2814 - accuracy: 0.5943 - 14ms/epoch - 2ms/step\n",
      "Epoch 80/100\n",
      "7/7 - 0s - loss: 0.2814 - accuracy: 0.5943 - 14ms/epoch - 2ms/step\n",
      "Epoch 81/100\n",
      "7/7 - 0s - loss: 0.2815 - accuracy: 0.5943 - 14ms/epoch - 2ms/step\n",
      "Epoch 82/100\n",
      "7/7 - 0s - loss: 0.2815 - accuracy: 0.5943 - 14ms/epoch - 2ms/step\n",
      "Epoch 83/100\n",
      "7/7 - 0s - loss: 0.2816 - accuracy: 0.5943 - 16ms/epoch - 2ms/step\n",
      "Epoch 84/100\n",
      "7/7 - 0s - loss: 0.2817 - accuracy: 0.5943 - 14ms/epoch - 2ms/step\n",
      "Epoch 85/100\n",
      "7/7 - 0s - loss: 0.2818 - accuracy: 0.5943 - 15ms/epoch - 2ms/step\n",
      "Epoch 86/100\n",
      "7/7 - 0s - loss: 0.2820 - accuracy: 0.5943 - 14ms/epoch - 2ms/step\n",
      "Epoch 87/100\n",
      "7/7 - 0s - loss: 0.2822 - accuracy: 0.5943 - 15ms/epoch - 2ms/step\n",
      "Epoch 88/100\n",
      "7/7 - 0s - loss: 0.2824 - accuracy: 0.5943 - 15ms/epoch - 2ms/step\n",
      "Epoch 89/100\n",
      "7/7 - 0s - loss: 0.2826 - accuracy: 0.5943 - 15ms/epoch - 2ms/step\n",
      "Epoch 90/100\n",
      "7/7 - 0s - loss: 0.2826 - accuracy: 0.5943 - 14ms/epoch - 2ms/step\n",
      "Epoch 91/100\n",
      "7/7 - 0s - loss: 0.2826 - accuracy: 0.5943 - 14ms/epoch - 2ms/step\n",
      "Epoch 92/100\n",
      "7/7 - 0s - loss: 0.2828 - accuracy: 0.5943 - 14ms/epoch - 2ms/step\n",
      "Epoch 93/100\n",
      "7/7 - 0s - loss: 0.2827 - accuracy: 0.5943 - 14ms/epoch - 2ms/step\n",
      "Epoch 94/100\n",
      "7/7 - 0s - loss: 0.2823 - accuracy: 0.5943 - 13ms/epoch - 2ms/step\n",
      "Epoch 95/100\n",
      "7/7 - 0s - loss: 0.2818 - accuracy: 0.5943 - 13ms/epoch - 2ms/step\n",
      "Epoch 96/100\n",
      "7/7 - 0s - loss: 0.2818 - accuracy: 0.5943 - 15ms/epoch - 2ms/step\n",
      "Epoch 97/100\n",
      "7/7 - 0s - loss: 0.2817 - accuracy: 0.5943 - 14ms/epoch - 2ms/step\n",
      "Epoch 98/100\n",
      "7/7 - 0s - loss: 0.2816 - accuracy: 0.5943 - 16ms/epoch - 2ms/step\n",
      "Epoch 99/100\n",
      "7/7 - 0s - loss: 0.2815 - accuracy: 0.5943 - 13ms/epoch - 2ms/step\n",
      "Epoch 100/100\n",
      "7/7 - 0s - loss: 0.2814 - accuracy: 0.5943 - 17ms/epoch - 2ms/step\n",
      "1/1 - 0s - loss: 0.7848 - accuracy: 0.5385 - 156ms/epoch - 156ms/step\n",
      "0.5384615659713745\n"
     ]
    }
   ],
   "source": [
    "import numpy as np\n",
    "from sklearn.preprocessing import scale\n",
    "from keras.models import Sequential\n",
    "from keras.layers import Dense\n",
    "from sklearn.feature_extraction.text import TfidfVectorizer\n",
    "\n",
    "vectorizer=TfidfVectorizer(analyzer=lambda x: x, min_df=10)\n",
    "matrix = vectorizer.fit_transform([x.words for x in all_tagged])\n",
    "tfidf = dict(zip(vectorizer.get_feature_names(), vectorizer.idf_))\n",
    "def build_doc_Vector(tokens, size):\n",
    "    vec = np.zeros(size).reshape((1, size))\n",
    "    count = 0.\n",
    "    for word in tokens:\n",
    "        try:\n",
    "            vec += model_d2v[word].reshape((1, size)) * tfidf[word]\n",
    "            count += 1.\n",
    "        except KeyError: \n",
    "            continue\n",
    "    if count != 0:\n",
    "        vec /= count\n",
    "    return vec\n",
    "\n",
    "train_vecs_dbow = np.concatenate([build_doc_Vector(z, 300) for z in map(lambda x: x.words, train_tagged)])\n",
    "train_vecs_dbow = scale(train_vecs_dbow)\n",
    "val_vecs_dbow = np.concatenate([build_doc_Vector(z, 300) for z in map(lambda x: x.words, test_tagged)])\n",
    "val_vecs_dbow = scale(val_vecs_dbow)\n",
    "\n",
    "model1 = Sequential()\n",
    "model1.add(Dense(256, activation='relu', input_dim=300))\n",
    "model1.add(Dense(256, activation='relu'))\n",
    "model1.add(Dense(256, activation='relu'))\n",
    "model1.add(Dense(1, activation='sigmoid'))\n",
    "model1.compile(optimizer='adam',\n",
    "              loss='binary_crossentropy',\n",
    "              metrics=['accuracy'])\n",
    "\n",
    "model1.fit(train_vecs_dbow, y_train, epochs=100, batch_size=32, verbose=2)\n",
    "score = model1.evaluate(val_vecs_dbow, y_test, batch_size=128, verbose=2)\n",
    "print(score[1])"
   ]
  },
  {
   "cell_type": "code",
   "execution_count": 162,
   "metadata": {},
   "outputs": [
    {
     "ename": "NameError",
     "evalue": "name 'tfidf' is not defined",
     "output_type": "error",
     "traceback": [
      "\u001b[1;31m---------------------------------------------------------------------------\u001b[0m",
      "\u001b[1;31mNameError\u001b[0m                                 Traceback (most recent call last)",
      "Cell \u001b[1;32mIn[162], line 19\u001b[0m\n\u001b[0;32m     15\u001b[0m         vec \u001b[39m/\u001b[39m\u001b[39m=\u001b[39m count\n\u001b[0;32m     16\u001b[0m     \u001b[39mreturn\u001b[39;00m vec\n\u001b[1;32m---> 19\u001b[0m train_vecs_dmc \u001b[39m=\u001b[39m np\u001b[39m.\u001b[39mconcatenate([build_doc_Vector(z, \u001b[39m200\u001b[39m) \u001b[39mfor\u001b[39;00m z \u001b[39min\u001b[39;00m \u001b[39mmap\u001b[39m(\u001b[39mlambda\u001b[39;00m x: x\u001b[39m.\u001b[39mwords, train_tagged)])\n\u001b[0;32m     20\u001b[0m train_vecs_dmc \u001b[39m=\u001b[39m scale(train_vecs_dmc)\n\u001b[0;32m     23\u001b[0m val_vecs_dmc \u001b[39m=\u001b[39m np\u001b[39m.\u001b[39mconcatenate([build_doc_Vector(z, \u001b[39m200\u001b[39m) \u001b[39mfor\u001b[39;00m z \u001b[39min\u001b[39;00m \u001b[39mmap\u001b[39m(\u001b[39mlambda\u001b[39;00m x: x\u001b[39m.\u001b[39mwords, test_tagged)])\n",
      "Cell \u001b[1;32mIn[162], line 19\u001b[0m, in \u001b[0;36m<listcomp>\u001b[1;34m(.0)\u001b[0m\n\u001b[0;32m     15\u001b[0m         vec \u001b[39m/\u001b[39m\u001b[39m=\u001b[39m count\n\u001b[0;32m     16\u001b[0m     \u001b[39mreturn\u001b[39;00m vec\n\u001b[1;32m---> 19\u001b[0m train_vecs_dmc \u001b[39m=\u001b[39m np\u001b[39m.\u001b[39mconcatenate([build_doc_Vector(z, \u001b[39m200\u001b[39;49m) \u001b[39mfor\u001b[39;00m z \u001b[39min\u001b[39;00m \u001b[39mmap\u001b[39m(\u001b[39mlambda\u001b[39;00m x: x\u001b[39m.\u001b[39mwords, train_tagged)])\n\u001b[0;32m     20\u001b[0m train_vecs_dmc \u001b[39m=\u001b[39m scale(train_vecs_dmc)\n\u001b[0;32m     23\u001b[0m val_vecs_dmc \u001b[39m=\u001b[39m np\u001b[39m.\u001b[39mconcatenate([build_doc_Vector(z, \u001b[39m200\u001b[39m) \u001b[39mfor\u001b[39;00m z \u001b[39min\u001b[39;00m \u001b[39mmap\u001b[39m(\u001b[39mlambda\u001b[39;00m x: x\u001b[39m.\u001b[39mwords, test_tagged)])\n",
      "Cell \u001b[1;32mIn[162], line 10\u001b[0m, in \u001b[0;36mbuild_doc_Vector\u001b[1;34m(tokens, size)\u001b[0m\n\u001b[0;32m      8\u001b[0m \u001b[39mfor\u001b[39;00m word \u001b[39min\u001b[39;00m tokens:\n\u001b[0;32m      9\u001b[0m     \u001b[39mtry\u001b[39;00m:\n\u001b[1;32m---> 10\u001b[0m         vec \u001b[39m+\u001b[39m\u001b[39m=\u001b[39m model_dmc[word]\u001b[39m.\u001b[39mreshape((\u001b[39m1\u001b[39m, size)) \u001b[39m*\u001b[39m tfidf[word]\n\u001b[0;32m     11\u001b[0m         count \u001b[39m+\u001b[39m\u001b[39m=\u001b[39m \u001b[39m1.\u001b[39m\n\u001b[0;32m     12\u001b[0m     \u001b[39mexcept\u001b[39;00m \u001b[39mKeyError\u001b[39;00m: \n",
      "\u001b[1;31mNameError\u001b[0m: name 'tfidf' is not defined"
     ]
    }
   ],
   "source": [
    "model_dmc = Doc2Vec(dm=1, dm_concat=1, vector_size=200, window=2, negative=5, min_count=2, workers=cores, alpha=0.065, min_alpha=0.065)\n",
    "model_dmc.build_vocab([x for x in (all_tagged)])\n",
    "model_dmc.train(utils.shuffle([x for x in (all_tagged)]), total_examples=len(all_tagged), epochs=1)\n",
    "\n",
    "def build_doc_Vector(tokens, size):\n",
    "    vec = np.zeros(size).reshape((1, size))\n",
    "    count = 0.\n",
    "    for word in tokens:\n",
    "        try:\n",
    "            vec += model_dmc[word].reshape((1, size)) * tfidf[word]\n",
    "            count += 1.\n",
    "        except KeyError: \n",
    "            continue\n",
    "    if count != 0:\n",
    "        vec /= count\n",
    "    return vec\n",
    "\n",
    "  \n",
    "train_vecs_dmc = np.concatenate([build_doc_Vector(z, 200) for z in map(lambda x: x.words, train_tagged)])\n",
    "train_vecs_dmc = scale(train_vecs_dmc)\n",
    "\n",
    "\n",
    "val_vecs_dmc = np.concatenate([build_doc_Vector(z, 200) for z in map(lambda x: x.words, test_tagged)])\n",
    "val_vecs_dmc = scale(val_vecs_dmc)\n",
    "\n",
    "model = Sequential()\n",
    "model.add(Dense(256, activation='relu', input_dim=200))\n",
    "model.add(Dense(256, activation='relu'))\n",
    "model.add(Dense(256, activation='relu'))\n",
    "model.add(Dense(1, activation='sigmoid'))\n",
    "model.compile(optimizer='adam',\n",
    "              loss='binary_crossentropy',\n",
    "              metrics=['accuracy'])\n",
    "model.fit(train_vecs_dmc, y_train, epochs=100, batch_size=32, verbose=2)\n",
    "score = model.evaluate(val_vecs_dmc, y_test, batch_size=128, verbose=2)\n",
    "\n",
    "print(score[1])"
   ]
  },
  {
   "cell_type": "code",
   "execution_count": 28,
   "metadata": {},
   "outputs": [
    {
     "name": "stdout",
     "output_type": "stream",
     "text": [
      "Epoch 1/100\n",
      "7/7 - 0s - loss: 0.6302 - accuracy: 0.4953 - 482ms/epoch - 69ms/step\n",
      "Epoch 2/100\n",
      "7/7 - 0s - loss: 0.5046 - accuracy: 0.5425 - 13ms/epoch - 2ms/step\n",
      "Epoch 3/100\n",
      "7/7 - 0s - loss: 0.4733 - accuracy: 0.5472 - 16ms/epoch - 2ms/step\n",
      "Epoch 4/100\n",
      "7/7 - 0s - loss: 0.4627 - accuracy: 0.5613 - 14ms/epoch - 2ms/step\n",
      "Epoch 5/100\n",
      "7/7 - 0s - loss: 0.4379 - accuracy: 0.5708 - 19ms/epoch - 3ms/step\n",
      "Epoch 6/100\n",
      "7/7 - 0s - loss: 0.4181 - accuracy: 0.5849 - 16ms/epoch - 2ms/step\n",
      "Epoch 7/100\n",
      "7/7 - 0s - loss: 0.4193 - accuracy: 0.5755 - 17ms/epoch - 2ms/step\n",
      "Epoch 8/100\n",
      "7/7 - 0s - loss: 0.4071 - accuracy: 0.5802 - 15ms/epoch - 2ms/step\n",
      "Epoch 9/100\n",
      "7/7 - 0s - loss: 0.3918 - accuracy: 0.5755 - 15ms/epoch - 2ms/step\n",
      "Epoch 10/100\n",
      "7/7 - 0s - loss: 0.3895 - accuracy: 0.5849 - 14ms/epoch - 2ms/step\n",
      "Epoch 11/100\n",
      "7/7 - 0s - loss: 0.3764 - accuracy: 0.5802 - 14ms/epoch - 2ms/step\n",
      "Epoch 12/100\n",
      "7/7 - 0s - loss: 0.3882 - accuracy: 0.5849 - 16ms/epoch - 2ms/step\n",
      "Epoch 13/100\n",
      "7/7 - 0s - loss: 0.3643 - accuracy: 0.5896 - 13ms/epoch - 2ms/step\n",
      "Epoch 14/100\n",
      "7/7 - 0s - loss: 0.3545 - accuracy: 0.5896 - 16ms/epoch - 2ms/step\n",
      "Epoch 15/100\n",
      "7/7 - 0s - loss: 0.3548 - accuracy: 0.5849 - 14ms/epoch - 2ms/step\n",
      "Epoch 16/100\n",
      "7/7 - 0s - loss: 0.3481 - accuracy: 0.5943 - 16ms/epoch - 2ms/step\n",
      "Epoch 17/100\n",
      "7/7 - 0s - loss: 0.3432 - accuracy: 0.5849 - 15ms/epoch - 2ms/step\n",
      "Epoch 18/100\n",
      "7/7 - 0s - loss: 0.3370 - accuracy: 0.5896 - 15ms/epoch - 2ms/step\n",
      "Epoch 19/100\n",
      "7/7 - 0s - loss: 0.3438 - accuracy: 0.5896 - 13ms/epoch - 2ms/step\n",
      "Epoch 20/100\n",
      "7/7 - 0s - loss: 0.3285 - accuracy: 0.5943 - 16ms/epoch - 2ms/step\n",
      "Epoch 21/100\n",
      "7/7 - 0s - loss: 0.3329 - accuracy: 0.5943 - 14ms/epoch - 2ms/step\n",
      "Epoch 22/100\n",
      "7/7 - 0s - loss: 0.3332 - accuracy: 0.5896 - 13ms/epoch - 2ms/step\n",
      "Epoch 23/100\n",
      "7/7 - 0s - loss: 0.3473 - accuracy: 0.5896 - 15ms/epoch - 2ms/step\n",
      "Epoch 24/100\n",
      "7/7 - 0s - loss: 0.3596 - accuracy: 0.5849 - 14ms/epoch - 2ms/step\n",
      "Epoch 25/100\n",
      "7/7 - 0s - loss: 0.3477 - accuracy: 0.5896 - 16ms/epoch - 2ms/step\n",
      "Epoch 26/100\n",
      "7/7 - 0s - loss: 0.3269 - accuracy: 0.5943 - 13ms/epoch - 2ms/step\n",
      "Epoch 27/100\n",
      "7/7 - 0s - loss: 0.3173 - accuracy: 0.5943 - 15ms/epoch - 2ms/step\n",
      "Epoch 28/100\n",
      "7/7 - 0s - loss: 0.3102 - accuracy: 0.5943 - 14ms/epoch - 2ms/step\n",
      "Epoch 29/100\n",
      "7/7 - 0s - loss: 0.3055 - accuracy: 0.5943 - 15ms/epoch - 2ms/step\n",
      "Epoch 30/100\n",
      "7/7 - 0s - loss: 0.3082 - accuracy: 0.5943 - 14ms/epoch - 2ms/step\n",
      "Epoch 31/100\n",
      "7/7 - 0s - loss: 0.2991 - accuracy: 0.5943 - 15ms/epoch - 2ms/step\n",
      "Epoch 32/100\n",
      "7/7 - 0s - loss: 0.2986 - accuracy: 0.5943 - 15ms/epoch - 2ms/step\n",
      "Epoch 33/100\n",
      "7/7 - 0s - loss: 0.2971 - accuracy: 0.5943 - 15ms/epoch - 2ms/step\n",
      "Epoch 34/100\n",
      "7/7 - 0s - loss: 0.3040 - accuracy: 0.5943 - 15ms/epoch - 2ms/step\n",
      "Epoch 35/100\n",
      "7/7 - 0s - loss: 0.3111 - accuracy: 0.5943 - 14ms/epoch - 2ms/step\n",
      "Epoch 36/100\n",
      "7/7 - 0s - loss: 0.3094 - accuracy: 0.5943 - 15ms/epoch - 2ms/step\n",
      "Epoch 37/100\n",
      "7/7 - 0s - loss: 0.3184 - accuracy: 0.5896 - 14ms/epoch - 2ms/step\n",
      "Epoch 38/100\n",
      "7/7 - 0s - loss: 0.3132 - accuracy: 0.5943 - 16ms/epoch - 2ms/step\n",
      "Epoch 39/100\n",
      "7/7 - 0s - loss: 0.3183 - accuracy: 0.5943 - 14ms/epoch - 2ms/step\n",
      "Epoch 40/100\n",
      "7/7 - 0s - loss: 0.3112 - accuracy: 0.5943 - 15ms/epoch - 2ms/step\n",
      "Epoch 41/100\n",
      "7/7 - 0s - loss: 0.3076 - accuracy: 0.5943 - 14ms/epoch - 2ms/step\n",
      "Epoch 42/100\n",
      "7/7 - 0s - loss: 0.3123 - accuracy: 0.5943 - 17ms/epoch - 2ms/step\n",
      "Epoch 43/100\n",
      "7/7 - 0s - loss: 0.3072 - accuracy: 0.5943 - 15ms/epoch - 2ms/step\n",
      "Epoch 44/100\n",
      "7/7 - 0s - loss: 0.3014 - accuracy: 0.5943 - 15ms/epoch - 2ms/step\n",
      "Epoch 45/100\n",
      "7/7 - 0s - loss: 0.3031 - accuracy: 0.5943 - 13ms/epoch - 2ms/step\n",
      "Epoch 46/100\n",
      "7/7 - 0s - loss: 0.3032 - accuracy: 0.5943 - 15ms/epoch - 2ms/step\n",
      "Epoch 47/100\n",
      "7/7 - 0s - loss: 0.2986 - accuracy: 0.5943 - 15ms/epoch - 2ms/step\n",
      "Epoch 48/100\n",
      "7/7 - 0s - loss: 0.2983 - accuracy: 0.5943 - 15ms/epoch - 2ms/step\n",
      "Epoch 49/100\n",
      "7/7 - 0s - loss: 0.2950 - accuracy: 0.5943 - 16ms/epoch - 2ms/step\n",
      "Epoch 50/100\n",
      "7/7 - 0s - loss: 0.2927 - accuracy: 0.5943 - 15ms/epoch - 2ms/step\n",
      "Epoch 51/100\n",
      "7/7 - 0s - loss: 0.2898 - accuracy: 0.5943 - 14ms/epoch - 2ms/step\n",
      "Epoch 52/100\n",
      "7/7 - 0s - loss: 0.2881 - accuracy: 0.5943 - 17ms/epoch - 2ms/step\n",
      "Epoch 53/100\n",
      "7/7 - 0s - loss: 0.2873 - accuracy: 0.5943 - 16ms/epoch - 2ms/step\n",
      "Epoch 54/100\n",
      "7/7 - 0s - loss: 0.2855 - accuracy: 0.5943 - 16ms/epoch - 2ms/step\n",
      "Epoch 55/100\n",
      "7/7 - 0s - loss: 0.2859 - accuracy: 0.5943 - 13ms/epoch - 2ms/step\n",
      "Epoch 56/100\n",
      "7/7 - 0s - loss: 0.2857 - accuracy: 0.5943 - 17ms/epoch - 2ms/step\n",
      "Epoch 57/100\n",
      "7/7 - 0s - loss: 0.2850 - accuracy: 0.5943 - 16ms/epoch - 2ms/step\n",
      "Epoch 58/100\n",
      "7/7 - 0s - loss: 0.2859 - accuracy: 0.5943 - 18ms/epoch - 3ms/step\n",
      "Epoch 59/100\n",
      "7/7 - 0s - loss: 0.2892 - accuracy: 0.5943 - 18ms/epoch - 3ms/step\n",
      "Epoch 60/100\n",
      "7/7 - 0s - loss: 0.2908 - accuracy: 0.5943 - 16ms/epoch - 2ms/step\n",
      "Epoch 61/100\n",
      "7/7 - 0s - loss: 0.2935 - accuracy: 0.5943 - 18ms/epoch - 3ms/step\n",
      "Epoch 62/100\n",
      "7/7 - 0s - loss: 0.2912 - accuracy: 0.5943 - 13ms/epoch - 2ms/step\n",
      "Epoch 63/100\n",
      "7/7 - 0s - loss: 0.2918 - accuracy: 0.5943 - 16ms/epoch - 2ms/step\n",
      "Epoch 64/100\n",
      "7/7 - 0s - loss: 0.2916 - accuracy: 0.5943 - 15ms/epoch - 2ms/step\n",
      "Epoch 65/100\n",
      "7/7 - 0s - loss: 0.2881 - accuracy: 0.5943 - 16ms/epoch - 2ms/step\n",
      "Epoch 66/100\n",
      "7/7 - 0s - loss: 0.2872 - accuracy: 0.5943 - 14ms/epoch - 2ms/step\n",
      "Epoch 67/100\n",
      "7/7 - 0s - loss: 0.2875 - accuracy: 0.5943 - 15ms/epoch - 2ms/step\n",
      "Epoch 68/100\n",
      "7/7 - 0s - loss: 0.2874 - accuracy: 0.5943 - 14ms/epoch - 2ms/step\n",
      "Epoch 69/100\n",
      "7/7 - 0s - loss: 0.2893 - accuracy: 0.5943 - 16ms/epoch - 2ms/step\n",
      "Epoch 70/100\n",
      "7/7 - 0s - loss: 0.2889 - accuracy: 0.5943 - 14ms/epoch - 2ms/step\n",
      "Epoch 71/100\n",
      "7/7 - 0s - loss: 0.2917 - accuracy: 0.5943 - 18ms/epoch - 3ms/step\n",
      "Epoch 72/100\n",
      "7/7 - 0s - loss: 0.2886 - accuracy: 0.5943 - 15ms/epoch - 2ms/step\n",
      "Epoch 73/100\n",
      "7/7 - 0s - loss: 0.2904 - accuracy: 0.5943 - 16ms/epoch - 2ms/step\n",
      "Epoch 74/100\n",
      "7/7 - 0s - loss: 0.2892 - accuracy: 0.5943 - 26ms/epoch - 4ms/step\n",
      "Epoch 75/100\n",
      "7/7 - 0s - loss: 0.2873 - accuracy: 0.5943 - 19ms/epoch - 3ms/step\n",
      "Epoch 76/100\n",
      "7/7 - 0s - loss: 0.2885 - accuracy: 0.5943 - 16ms/epoch - 2ms/step\n",
      "Epoch 77/100\n",
      "7/7 - 0s - loss: 0.2895 - accuracy: 0.5943 - 15ms/epoch - 2ms/step\n",
      "Epoch 78/100\n",
      "7/7 - 0s - loss: 0.2959 - accuracy: 0.5943 - 15ms/epoch - 2ms/step\n",
      "Epoch 79/100\n",
      "7/7 - 0s - loss: 0.2997 - accuracy: 0.5943 - 16ms/epoch - 2ms/step\n",
      "Epoch 80/100\n",
      "7/7 - 0s - loss: 0.2959 - accuracy: 0.5943 - 15ms/epoch - 2ms/step\n",
      "Epoch 81/100\n",
      "7/7 - 0s - loss: 0.2975 - accuracy: 0.5943 - 18ms/epoch - 3ms/step\n",
      "Epoch 82/100\n",
      "7/7 - 0s - loss: 0.2967 - accuracy: 0.5943 - 16ms/epoch - 2ms/step\n",
      "Epoch 83/100\n",
      "7/7 - 0s - loss: 0.2950 - accuracy: 0.5943 - 15ms/epoch - 2ms/step\n",
      "Epoch 84/100\n",
      "7/7 - 0s - loss: 0.2911 - accuracy: 0.5943 - 14ms/epoch - 2ms/step\n",
      "Epoch 85/100\n",
      "7/7 - 0s - loss: 0.2872 - accuracy: 0.5943 - 15ms/epoch - 2ms/step\n",
      "Epoch 86/100\n",
      "7/7 - 0s - loss: 0.2859 - accuracy: 0.5943 - 17ms/epoch - 2ms/step\n",
      "Epoch 87/100\n",
      "7/7 - 0s - loss: 0.2855 - accuracy: 0.5943 - 15ms/epoch - 2ms/step\n",
      "Epoch 88/100\n",
      "7/7 - 0s - loss: 0.2845 - accuracy: 0.5943 - 15ms/epoch - 2ms/step\n",
      "Epoch 89/100\n",
      "7/7 - 0s - loss: 0.2842 - accuracy: 0.5943 - 14ms/epoch - 2ms/step\n",
      "Epoch 90/100\n",
      "7/7 - 0s - loss: 0.2837 - accuracy: 0.5943 - 16ms/epoch - 2ms/step\n",
      "Epoch 91/100\n",
      "7/7 - 0s - loss: 0.2844 - accuracy: 0.5943 - 15ms/epoch - 2ms/step\n",
      "Epoch 92/100\n",
      "7/7 - 0s - loss: 0.2839 - accuracy: 0.5943 - 14ms/epoch - 2ms/step\n",
      "Epoch 93/100\n",
      "7/7 - 0s - loss: 0.2860 - accuracy: 0.5943 - 16ms/epoch - 2ms/step\n",
      "Epoch 94/100\n",
      "7/7 - 0s - loss: 0.2841 - accuracy: 0.5943 - 15ms/epoch - 2ms/step\n",
      "Epoch 95/100\n",
      "7/7 - 0s - loss: 0.2842 - accuracy: 0.5943 - 14ms/epoch - 2ms/step\n",
      "Epoch 96/100\n",
      "7/7 - 0s - loss: 0.2840 - accuracy: 0.5943 - 14ms/epoch - 2ms/step\n",
      "Epoch 97/100\n",
      "7/7 - 0s - loss: 0.2836 - accuracy: 0.5943 - 15ms/epoch - 2ms/step\n",
      "Epoch 98/100\n",
      "7/7 - 0s - loss: 0.2842 - accuracy: 0.5943 - 17ms/epoch - 2ms/step\n",
      "Epoch 99/100\n",
      "7/7 - 0s - loss: 0.2843 - accuracy: 0.5943 - 14ms/epoch - 2ms/step\n",
      "Epoch 100/100\n",
      "7/7 - 0s - loss: 0.2832 - accuracy: 0.5943 - 16ms/epoch - 2ms/step\n",
      "1/1 - 0s - loss: 1.0827 - accuracy: 0.4615 - 114ms/epoch - 114ms/step\n",
      "0.4615384638309479\n"
     ]
    }
   ],
   "source": [
    "model_dmm = Doc2Vec(dm=1, dm_mean=1, vector_size=300, window=4, negative=5, min_count=2, workers=cores, alpha=0.065, min_alpha=0.065)\n",
    "model_dmm.build_vocab([x for x in all_tagged])\n",
    "model_dmm.train(utils.shuffle([x for x in all_tagged]), total_examples=len(all_tagged), epochs=1)\n",
    "\n",
    "def build_doc_Vector(tokens, size):\n",
    "    vec = np.zeros(size).reshape((1, size))\n",
    "    count = 0.\n",
    "    for word in tokens:\n",
    "        try:\n",
    "            vec += model_dmm[word].reshape((1, size)) * tfidf[word]\n",
    "            count += 1.\n",
    "        except KeyError: \n",
    "            continue\n",
    "    if count != 0:\n",
    "        vec /= count\n",
    "    return vec\n",
    "\n",
    "  \n",
    "train_vecs_dmm = np.concatenate([build_doc_Vector(z, 300) for z in (map(lambda x: x.words, train_tagged))])\n",
    "train_vecs_dmm = scale(train_vecs_dmm)\n",
    "\n",
    "val_vecs_dmm = np.concatenate([build_doc_Vector(z, 300) for z in (map(lambda x: x.words, test_tagged))])\n",
    "val_vecs_dmm = scale(val_vecs_dmm)\n",
    "\n",
    "model2 = Sequential()\n",
    "model2.add(Dense(256, activation='relu', input_dim=300))\n",
    "model2.add(Dense(256, activation='relu'))\n",
    "model2.add(Dense(256, activation='relu'))\n",
    "model2.add(Dense(1, activation='sigmoid'))\n",
    "model2.compile(optimizer='adam',\n",
    "              loss='binary_crossentropy',\n",
    "              metrics=['accuracy'])\n",
    "model2.fit(train_vecs_dmm, y_train, epochs=100, batch_size=32, verbose=2)\n",
    "score = model2.evaluate(val_vecs_dmm, y_test, batch_size=128, verbose=2)\n",
    "print(score[1])"
   ]
  },
  {
   "cell_type": "code",
   "execution_count": 29,
   "metadata": {},
   "outputs": [
    {
     "name": "stdout",
     "output_type": "stream",
     "text": [
      "Testing accuracy 0.0\n",
      "Testing F1 score: 0.0\n"
     ]
    },
    {
     "name": "stderr",
     "output_type": "stream",
     "text": [
      "c:\\Users\\Kylan\\anaconda3\\envs\\blauwe_kater\\lib\\site-packages\\sklearn\\linear_model\\_logistic.py:444: ConvergenceWarning:\n",
      "\n",
      "lbfgs failed to converge (status=1):\n",
      "STOP: TOTAL NO. of ITERATIONS REACHED LIMIT.\n",
      "\n",
      "Increase the number of iterations (max_iter) or scale the data as shown in:\n",
      "    https://scikit-learn.org/stable/modules/preprocessing.html\n",
      "Please also refer to the documentation for alternative solver options:\n",
      "    https://scikit-learn.org/stable/modules/linear_model.html#logistic-regression\n",
      "\n"
     ]
    }
   ],
   "source": [
    "#Check model performance\n",
    "def vec_for_learning(model, tagged_docs):\n",
    "    sents = tagged_docs.values\n",
    "    targets, regressors = zip(*[(doc.tags[0], model.infer_vector(doc.words)) for doc in sents])\n",
    "    return targets, regressors\n",
    "from sklearn.linear_model import LogisticRegression\n",
    "y_train, X_train = vec_for_learning(model_d2v, train_tagged)\n",
    "y_test, X_test = vec_for_learning(model_d2v, test_tagged)\n",
    "logreg = LogisticRegression(n_jobs=1, C=1e5)\n",
    "logreg.fit(X_train, y_train)\n",
    "y_pred = logreg.predict(X_test)\n",
    "from sklearn.metrics import accuracy_score, f1_score\n",
    "print('Testing accuracy %s' % accuracy_score(y_test, y_pred))\n",
    "print('Testing F1 score: {}'.format(f1_score(y_test, y_pred, average='weighted')))\n",
    "#Performance is okay, with an accuracy and f1-score of around 72.5%"
   ]
  },
  {
   "cell_type": "code",
   "execution_count": 154,
   "metadata": {},
   "outputs": [
    {
     "data": {
      "text/plain": [
       "[('jolt', 0.19512349367141724),\n",
       " ('pa', 0.1950347125530243),\n",
       " ('eisting', 0.1938062459230423),\n",
       " ('suicide', 0.19191162288188934),\n",
       " ('tumor', 0.19026972353458405),\n",
       " ('whitehouse.gov/collegeopportunity', 0.18620796501636505),\n",
       " ('them', 0.18401788175106049),\n",
       " ('bounced', 0.1823069453239441),\n",
       " ('1.6', 0.18214158713817596),\n",
       " ('barbara', 0.1812383383512497)]"
      ]
     },
     "execution_count": 154,
     "metadata": {},
     "output_type": "execute_result"
    }
   ],
   "source": [
    "#Quick command to identify similar words to a LOWER-CASE term of interest (has to be present in the corpus)\n",
    "model_d2v.wv.most_similar('death')\n",
    "#The similar words look really weird... Also still some cleanup issues so I'll have to review the text cleanup steps\n"
   ]
  },
  {
   "cell_type": "code",
   "execution_count": 158,
   "metadata": {},
   "outputs": [],
   "source": [
    "#T-SNE visualization of doc2vec model for further investigation\n",
    "from sklearn.manifold import TSNE\n",
    "import numpy as np\n",
    "#word='heroic'\n",
    "#wv=model_d2v.wv[word]\n",
    "doc_tags=list(model_dm.dv.index_to_key)\n",
    "#doc_tags.append(word)\n",
    "#wv=model_dbow.wv[word]\n",
    "X=np.zeros((len(model_dm.dv.index_to_key),len(model_dm.dv[0])))\n",
    "#X2=np.zeros((len(model_d2v.dv.index_to_key),len(model_d2v.dv[0])))\n",
    "for i in range(0,len(X)):\n",
    "    X[i]=model_dm.dv[i]\n",
    "#for i in range(0,len(X2)):\n",
    "#    X2[i]=model_d2v.dv[i]"
   ]
  },
  {
   "cell_type": "code",
   "execution_count": 159,
   "metadata": {},
   "outputs": [
    {
     "name": "stderr",
     "output_type": "stream",
     "text": [
      "c:\\Users\\Kylan\\anaconda3\\envs\\blauwe_kater\\lib\\site-packages\\sklearn\\manifold\\_t_sne.py:800: FutureWarning:\n",
      "\n",
      "The default initialization in TSNE will change from 'random' to 'pca' in 1.2.\n",
      "\n",
      "c:\\Users\\Kylan\\anaconda3\\envs\\blauwe_kater\\lib\\site-packages\\sklearn\\manifold\\_t_sne.py:810: FutureWarning:\n",
      "\n",
      "The default learning rate in TSNE will change from 200.0 to 'auto' in 1.2.\n",
      "\n"
     ]
    },
    {
     "data": {
      "text/html": [
       "<div>\n",
       "<style scoped>\n",
       "    .dataframe tbody tr th:only-of-type {\n",
       "        vertical-align: middle;\n",
       "    }\n",
       "\n",
       "    .dataframe tbody tr th {\n",
       "        vertical-align: top;\n",
       "    }\n",
       "\n",
       "    .dataframe thead th {\n",
       "        text-align: right;\n",
       "    }\n",
       "</style>\n",
       "<table border=\"1\" class=\"dataframe\">\n",
       "  <thead>\n",
       "    <tr style=\"text-align: right;\">\n",
       "      <th></th>\n",
       "      <th>x</th>\n",
       "      <th>y</th>\n",
       "    </tr>\n",
       "  </thead>\n",
       "  <tbody>\n",
       "    <tr>\n",
       "      <th>2012-07-23</th>\n",
       "      <td>-14.230117</td>\n",
       "      <td>0.500880</td>\n",
       "    </tr>\n",
       "    <tr>\n",
       "      <th>2015-12-09</th>\n",
       "      <td>-10.719235</td>\n",
       "      <td>8.435213</td>\n",
       "    </tr>\n",
       "    <tr>\n",
       "      <th>2010-02-01</th>\n",
       "      <td>2.189463</td>\n",
       "      <td>16.028496</td>\n",
       "    </tr>\n",
       "    <tr>\n",
       "      <th>2010-02-04</th>\n",
       "      <td>-13.640903</td>\n",
       "      <td>-9.945514</td>\n",
       "    </tr>\n",
       "    <tr>\n",
       "      <th>2011-02-03</th>\n",
       "      <td>-13.508339</td>\n",
       "      <td>-9.593624</td>\n",
       "    </tr>\n",
       "  </tbody>\n",
       "</table>\n",
       "</div>"
      ],
      "text/plain": [
       "                    x          y\n",
       "2012-07-23 -14.230117   0.500880\n",
       "2015-12-09 -10.719235   8.435213\n",
       "2010-02-01   2.189463  16.028496\n",
       "2010-02-04 -13.640903  -9.945514\n",
       "2011-02-03 -13.508339  -9.593624"
      ]
     },
     "execution_count": 159,
     "metadata": {},
     "output_type": "execute_result"
    }
   ],
   "source": [
    "tsne=TSNE(n_components=2,random_state=47)\n",
    "X_tsne=tsne.fit_transform(X)\n",
    "df=pd.DataFrame(X_tsne,index=doc_tags,columns=['x','y'])\n",
    "df.head()\n",
    "#X2_tsne=tsne.fit_transform(X2)\n",
    "#df2=pd.DataFrame(X2_tsne,index=doc_tags[:-1],columns=['x','y'])"
   ]
  },
  {
   "cell_type": "code",
   "execution_count": 160,
   "metadata": {},
   "outputs": [
    {
     "data": {
      "text/html": [
       "<div>\n",
       "<style scoped>\n",
       "    .dataframe tbody tr th:only-of-type {\n",
       "        vertical-align: middle;\n",
       "    }\n",
       "\n",
       "    .dataframe tbody tr th {\n",
       "        vertical-align: top;\n",
       "    }\n",
       "\n",
       "    .dataframe thead th {\n",
       "        text-align: right;\n",
       "    }\n",
       "</style>\n",
       "<table border=\"1\" class=\"dataframe\">\n",
       "  <thead>\n",
       "    <tr style=\"text-align: right;\">\n",
       "      <th></th>\n",
       "      <th>x</th>\n",
       "      <th>y</th>\n",
       "      <th>Source</th>\n",
       "    </tr>\n",
       "  </thead>\n",
       "  <tbody>\n",
       "    <tr>\n",
       "      <th>2012-07-23</th>\n",
       "      <td>-14.230117</td>\n",
       "      <td>0.500880</td>\n",
       "      <td>2012-07-23</td>\n",
       "    </tr>\n",
       "    <tr>\n",
       "      <th>2015-12-09</th>\n",
       "      <td>-10.719235</td>\n",
       "      <td>8.435213</td>\n",
       "      <td>2015-12-09</td>\n",
       "    </tr>\n",
       "    <tr>\n",
       "      <th>2010-02-01</th>\n",
       "      <td>2.189463</td>\n",
       "      <td>16.028496</td>\n",
       "      <td>2010-02-01</td>\n",
       "    </tr>\n",
       "    <tr>\n",
       "      <th>2010-02-04</th>\n",
       "      <td>-13.640903</td>\n",
       "      <td>-9.945514</td>\n",
       "      <td>2010-02-04</td>\n",
       "    </tr>\n",
       "    <tr>\n",
       "      <th>2011-02-03</th>\n",
       "      <td>-13.508339</td>\n",
       "      <td>-9.593624</td>\n",
       "      <td>2011-02-03</td>\n",
       "    </tr>\n",
       "  </tbody>\n",
       "</table>\n",
       "</div>"
      ],
      "text/plain": [
       "                    x          y      Source\n",
       "2012-07-23 -14.230117   0.500880  2012-07-23\n",
       "2015-12-09 -10.719235   8.435213  2015-12-09\n",
       "2010-02-01   2.189463  16.028496  2010-02-01\n",
       "2010-02-04 -13.640903  -9.945514  2010-02-04\n",
       "2011-02-03 -13.508339  -9.593624  2011-02-03"
      ]
     },
     "execution_count": 160,
     "metadata": {},
     "output_type": "execute_result"
    }
   ],
   "source": [
    "df['Source']=df.index\n",
    "df.head()"
   ]
  },
  {
   "cell_type": "code",
   "execution_count": 161,
   "metadata": {},
   "outputs": [
    {
     "data": {
      "application/vnd.plotly.v1+json": {
       "config": {
        "plotlyServerURL": "https://plot.ly"
       },
       "data": [
        {
         "hovertemplate": "<b>%{hovertext}</b><br><br>x=%{x}<br>y=%{y}<extra></extra>",
         "hovertext": [
          "2012-07-23",
          "2015-12-09",
          "2010-02-01",
          "2010-02-04",
          "2011-02-03",
          "2011-04-26",
          "2014-02-06",
          "2015-02-05",
          "2016-02-04",
          "2016-11-09",
          "2016-09-11",
          "2010-09-11",
          "2009-09-11",
          "2015-11-21",
          "2016-02-16",
          "2009-04-20",
          "2015-06-08",
          "2016-06-14",
          "2015-02-11",
          "2016-02-25",
          "2016-11-20",
          "2016-03-23",
          "2015-04-09",
          "2014-04-27",
          "2014-11-14",
          "2016-05-25",
          "2015-06-01",
          "2015-05-22",
          "2015-06-25",
          "2013-11-14",
          "2013-10-21",
          "2015-10-15",
          "2011-06-22",
          "2016-09-24",
          "2015-07-28",
          "2015-07-13",
          "2012-03-04",
          "2016-06-02",
          "2011-04-29",
          "2011-03-30",
          "2009-07-14",
          "2011-08-30",
          "2009-06-15",
          "2016-02-13",
          "2009-05-14",
          "2012-07-20",
          "2010-01-27",
          "2014-04-10",
          "2011-11-16",
          "2010-01-07",
          "2009-09-08",
          "2010-12-03",
          "2012-05-14",
          "2016-08-23",
          "2015-06-06",
          "2012-09-12",
          "2012-09-14",
          "2011-05-20",
          "2011-04-27",
          "2011-05-16",
          "2013-04-18",
          "2013-04-15",
          "2013-04-16",
          "2013-04-19",
          "2010-06-15",
          "2013-04-02",
          "2013-06-19",
          "2011-05-25",
          "2009-12-08",
          "2007-03-04",
          "2009-06-04",
          "2015-11-13",
          "2009-02-27",
          "2013-06-30",
          "2010-06-02",
          "2011-06-24",
          "2011-02-07",
          "2017-01-16",
          "2013-03-22",
          "2011-03-21",
          "2015-04-10",
          "2015-08-03",
          "2015-06-26",
          "2012-09-25",
          "2015-01-09",
          "2010-07-01",
          "2015-09-19",
          "2015-11-30",
          "2015-12-14",
          "2016-12-06",
          "2016-03-21",
          "2016-03-22",
          "2014-12-17",
          "2009-05-29",
          "2016-07-12",
          "2012-12-21",
          "2009-06-05",
          "2014-06-06",
          "2011-07-31",
          "2011-08-02",
          "2011-05-30",
          "2011-07-25",
          "2009-12-29",
          "2016-11-10",
          "2010-04-29",
          "2008-01-20",
          "2014-09-16",
          "2014-10-28",
          "2014-12-02",
          "2011-09-19",
          "2008-11-26",
          "2008-11-24",
          "2009-04-14",
          "2014-08-01",
          "2011-02-01",
          "2011-02-11",
          "2010-05-10",
          "2013-04-11",
          "2010-03-31",
          "2014-09-03",
          "2010-04-25",
          "2009-08-29",
          "2014-03-26",
          "2016-04-25",
          "2015-12-10",
          "2009-02-04",
          "2017-01-10",
          "2017-01-20",
          "2016-12-04",
          "2010-06-21",
          "2014-11-24",
          "2014-08-14",
          "2013-12-20",
          "2014-12-19",
          "2015-12-18",
          "2013-01-14",
          "2016-12-16",
          "2017-01-18",
          "2017-01-14",
          "2010-01-14",
          "2008-11-07",
          "2009-02-09",
          "2011-04-13",
          "2009-12-28",
          "2014-07-18",
          "2016-05-04",
          "2015-12-06",
          "2014-04-29",
          "2011-05-06",
          "2009-11-10",
          "2015-11-24",
          "2014-06-04",
          "2015-01-12",
          "2016-09-05",
          "2009-04-02",
          "2012-03-29",
          "2009-01-08",
          "2009-07-11",
          "2010-11-16",
          "2008-11-18",
          "2010-01-29",
          "2013-10-02",
          "2010-05-28",
          "2016-11-16",
          "2016-02-23",
          "2010-05-27",
          "2013-01-16",
          "2012-12-19",
          "2016-01-05",
          "2013-04-08",
          "2013-04-03",
          "2013-04-25",
          "2012-03-26",
          "2010-03-19",
          "2010-03-23",
          "2010-03-03",
          "2010-02-19",
          "2016-06-09",
          "2016-05-27",
          "2009-03-10",
          "2009-04-23",
          "2015-04-23",
          "2015-06-24",
          "2010-03-20",
          "2012-02-01",
          "2016-05-07",
          "2012-10-29",
          "2010-08-13",
          "2016-02-10",
          "2013-01-29",
          "2014-06-30",
          "2014-11-20",
          "2013-06-11",
          "2009-01-20",
          "2013-01-21",
          "2015-01-27",
          "2010-11-08",
          "2010-11-10",
          "2013-08-09",
          "2008-01-03",
          "2013-11-23",
          "2015-08-05",
          "2015-07-15",
          "2015-04-02",
          "2015-07-14",
          "2015-03-03",
          "2010-06-09",
          "2016-01-17",
          "2014-08-07",
          "2014-08-09",
          "2010-08-02",
          "2014-08-28",
          "2008-07-15",
          "2002-10-02",
          "2012-02-29",
          "2013-05-15",
          "2016-08-04",
          "2015-07-06",
          "2014-09-10",
          "2016-02-03",
          "2016-05-26",
          "2007-11-10",
          "2013-02-27",
          "2011-06-29",
          "2010-02-09",
          "2017-01-12",
          "2009-05-17",
          "2009-02-24",
          "2009-09-09",
          "2011-09-08",
          "2011-05-29",
          "2010-06-07",
          "2015-08-27",
          "2009-12-06",
          "2015-07-26",
          "2013-07-24",
          "2013-07-27",
          "2016-09-06",
          "2013-08-28",
          "2011-02-23",
          "2011-03-19",
          "2011-03-28",
          "2011-03-18",
          "2009-02-12",
          "2016-04-23",
          "2010-01-22",
          "2015-06-17",
          "2015-11-22",
          "2008-11-25",
          "2013-12-05",
          "2015-09-25",
          "2015-06-19",
          "2010-06-23",
          "2016-03-16",
          "2013-05-03",
          "2013-02-12",
          "2011-05-19",
          "2010-11-03",
          "2014-11-05",
          "2012-01-05",
          "2009-01-09",
          "2011-10-16",
          "2010-01-17",
          "2013-05-19",
          "2010-11-06",
          "2010-04-15",
          "2009-05-21",
          "2016-05-24",
          "2015-12-17",
          "2013-05-23",
          "2012-04-23",
          "2011-02-10",
          "2015-12-15",
          "2013-05-24",
          "2013-09-22",
          "2015-01-13",
          "2013-12-10",
          "2009-07-07",
          "2008-01-08",
          "2012-12-14",
          "2012-12-16",
          "2016-09-19",
          "2009-12-10",
          "2010-03-13",
          "2013-06-17",
          "2009-05-18",
          "2016-04-01",
          "2010-06-16",
          "2016-06-16",
          "2016-06-12",
          "2011-05-01",
          "2011-12-06",
          "2015-04-11",
          "2015-12-12",
          "2015-12-01",
          "2016-06-29",
          "2010-03-21",
          "2016-12-27",
          "2014-04-24",
          "2015-09-23",
          "2012-11-09",
          "2016-11-14",
          "2016-07-09",
          "2009-04-05",
          "2009-01-18",
          "2014-04-17",
          "2015-10-02",
          "2009-06-23",
          "2009-01-05",
          "2012-11-14",
          "2011-10-20",
          "2014-11-15",
          "2016-02-26",
          "2012-10-30",
          "2010-04-22",
          "2016-01-27",
          "2011-03-20",
          "2010-07-02",
          "2013-02-26",
          "2014-07-21",
          "2013-06-07",
          "2012-11-06",
          "2008-12-03",
          "2010-01-05",
          "2008-12-01",
          "2015-03-07",
          "2007-05-23",
          "2007-03-21",
          "2005-12-15",
          "2013-04-17",
          "2007-03-13",
          "2008-10-01",
          "2006-01-31",
          "2005-01-06",
          "2006-07-20",
          "2005-10-25",
          "2013-02-15",
          "2009-11-16",
          "2012-06-13",
          "2016-09-30",
          "2014-01-17",
          "2015-06-18",
          "2008-01-26",
          "2015-02-13",
          "2010-04-08",
          "2014-05-27",
          "2009-04-03",
          "2015-03-10",
          "2009-07-13",
          "2013-08-31",
          "2013-09-10",
          "2015-03-30",
          "2015-05-08",
          "2013-07-19",
          "2011-12-02",
          "2010-03-28",
          "2011-01-12",
          "2015-11-16",
          "2009-04-06",
          "2015-10-01",
          "2009-09-23",
          "2010-09-23",
          "2011-09-21",
          "2013-09-24",
          "2014-09-24",
          "2015-09-28",
          "2016-09-20",
          "2009-12-18",
          "2014-09-25",
          "2010-05-01",
          "2011-09-20",
          "2010-07-29",
          "2016-04-07",
          "2012-06-28",
          "2016-06-23",
          "2014-05-21",
          "2014-05-30",
          "2013-11-11",
          "2012-02-03",
          "2015-02-18",
          "2010-07-21",
          "2016-01-01",
          "2009-01-24",
          "2011-12-17",
          "2016-02-20",
          "2009-12-01",
          "2010-05-22",
          "2014-05-28",
          "2009-05-09",
          "2011-04-30",
          "2012-04-28",
          "2013-04-27",
          "2014-05-03",
          "2015-04-25",
          "2016-04-30",
          "2015-09-11",
          "2010-04-09",
          "2012-11-19",
          "2014-10-17"
         ],
         "legendgroup": "",
         "marker": {
          "color": "#636efa",
          "symbol": "circle"
         },
         "mode": "markers",
         "name": "",
         "orientation": "v",
         "showlegend": false,
         "type": "scatter",
         "x": [
          -14.230116844177246,
          -10.71923542022705,
          2.189462661743164,
          -13.640902519226074,
          -13.508338928222656,
          28.239559173583984,
          -14.88304615020752,
          -11.47053050994873,
          -7.8386383056640625,
          21.2403621673584,
          15.389893531799316,
          5.043819427490234,
          22.883316040039062,
          -14.434333801269531,
          5.319157600402832,
          -7.323724746704102,
          7.399550914764404,
          -0.23636096715927124,
          5.732357978820801,
          -14.791427612304688,
          -6.850344181060791,
          -4.532951354980469,
          -2.602235794067383,
          -14.918059349060059,
          -13.11877155303955,
          1.8665157556533813,
          6.358527660369873,
          -14.560835838317871,
          13.37145709991455,
          4.866006851196289,
          -10.772526741027832,
          8.619575500488281,
          1.2696760892868042,
          -5.936247825622559,
          -3.956979513168335,
          -11.20341682434082,
          -13.314411163330078,
          -5.993980884552002,
          -13.060020446777344,
          -3.842257261276245,
          -13.043365478515625,
          -9.464096069335938,
          -3.1634562015533447,
          18.19190788269043,
          -11.345138549804688,
          25.973600387573242,
          8.731596946716309,
          -11.430148124694824,
          -11.48611068725586,
          -7.772121906280518,
          -5.045805931091309,
          -8.625993728637695,
          -13.7852201461792,
          14.830154418945312,
          -12.253828048706055,
          19.823467254638672,
          19.42732048034668,
          -10.189212799072266,
          27.512279510498047,
          -7.958825588226318,
          -8.344324111938477,
          24.677003860473633,
          22.7093448638916,
          13.637110710144043,
          -2.5137083530426025,
          -1.472838282585144,
          -12.74550724029541,
          -8.30843734741211,
          -6.490047931671143,
          -10.353087425231934,
          -0.288792222738266,
          22.72471809387207,
          -14.457866668701172,
          -8.90640640258789,
          -5.5863189697265625,
          -14.478058815002441,
          -4.07870626449585,
          -13.596012115478516,
          -0.7469472885131836,
          -12.758774757385254,
          4.359483242034912,
          -14.56216049194336,
          -8.408973693847656,
          0.11385317891836166,
          -14.841574668884277,
          -2.9941651821136475,
          -14.566814422607422,
          -4.0056867599487305,
          -12.670528411865234,
          -4.903623104095459,
          -11.693306922912598,
          -10.750107765197754,
          -14.6570463180542,
          -12.730619430541992,
          -8.538599014282227,
          3.69897723197937,
          -8.818345069885254,
          -11.05955982208252,
          25.70942497253418,
          14.960518836975098,
          -11.460590362548828,
          -1.1743922233581543,
          17.23373031616211,
          28.230188369750977,
          -11.905315399169922,
          -6.95181941986084,
          -3.5698578357696533,
          11.448847770690918,
          -14.339646339416504,
          -12.374870300292969,
          12.189492225646973,
          -12.845903396606445,
          -0.5727081298828125,
          20.735097885131836,
          25.46418571472168,
          23.434669494628906,
          -14.125985145568848,
          -10.942281723022461,
          -9.840310096740723,
          -5.095516204833984,
          -14.345993995666504,
          -12.923321723937988,
          -7.817844867706299,
          -2.0757362842559814,
          -0.4984952211380005,
          10.486458778381348,
          -1.1045089960098267,
          26.44641876220703,
          -0.46060845255851746,
          -11.487638473510742,
          19.109928131103516,
          2.047816038131714,
          20.286041259765625,
          16.616121292114258,
          18.899290084838867,
          8.994035720825195,
          7.964939594268799,
          25.17610740661621,
          23.359235763549805,
          9.656047821044922,
          15.98048210144043,
          17.453845977783203,
          -7.869189739227295,
          5.273148059844971,
          -8.202364921569824,
          -9.0906400680542,
          -3.497741937637329,
          1.643955111503601,
          -7.417945384979248,
          -14.657731056213379,
          -1.2298362255096436,
          -14.725337982177734,
          -13.604154586791992,
          11.762794494628906,
          0.20768389105796814,
          18.519939422607422,
          -13.700352668762207,
          -10.919754028320312,
          -11.827057838439941,
          23.486278533935547,
          -12.205259323120117,
          -7.874631404876709,
          -9.44174575805664,
          -6.314675331115723,
          -4.466008186340332,
          -13.205605506896973,
          -11.844523429870605,
          14.365991592407227,
          -8.652602195739746,
          -14.688488006591797,
          -12.854926109313965,
          -13.57147216796875,
          -14.883662223815918,
          -10.742981910705566,
          4.031192779541016,
          -8.499947547912598,
          -14.558695793151855,
          27.526514053344727,
          -14.490605354309082,
          -12.255147933959961,
          -14.82436752319336,
          9.718122482299805,
          -9.457907676696777,
          -14.548271179199219,
          -4.5954999923706055,
          -2.0076041221618652,
          16.872970581054688,
          -2.0695855617523193,
          0.5582915544509888,
          -14.492843627929688,
          12.465571403503418,
          -3.110213041305542,
          -2.5672872066497803,
          -14.326898574829102,
          -13.39953327178955,
          -9.108160018920898,
          -13.246723175048828,
          -14.244414329528809,
          19.11083984375,
          12.004195213317871,
          14.605774879455566,
          -0.7635084986686707,
          23.384105682373047,
          -13.927186012268066,
          -2.0265722274780273,
          15.390421867370605,
          10.716279983520508,
          -10.668267250061035,
          5.518267631530762,
          24.236845016479492,
          -7.193492889404297,
          23.556995391845703,
          -2.4316821098327637,
          -9.155391693115234,
          8.812662124633789,
          25.149581909179688,
          -14.245272636413574,
          -14.794987678527832,
          0.5082526206970215,
          -4.16160774230957,
          26.053640365600586,
          5.971412658691406,
          -3.5779809951782227,
          17.634782791137695,
          3.961805582046509,
          -13.91195011138916,
          21.85733985900879,
          -5.7058939933776855,
          -0.11537608504295349,
          -14.786491394042969,
          -10.17974853515625,
          -13.904006958007812,
          -10.654082298278809,
          -6.315084934234619,
          -6.364684104919434,
          -1.5038561820983887,
          -14.650381088256836,
          -8.675518989562988,
          -6.237009525299072,
          23.93686294555664,
          27.27649688720703,
          -14.927522659301758,
          11.308418273925781,
          -12.176478385925293,
          -2.6010661125183105,
          -12.890145301818848,
          7.208106994628906,
          3.29127836227417,
          15.90993595123291,
          25.823259353637695,
          -13.474635124206543,
          -13.601561546325684,
          18.28194808959961,
          -11.3195219039917,
          -14.440332412719727,
          -9.894286155700684,
          -2.073620319366455,
          20.049131393432617,
          19.13631248474121,
          12.2932767868042,
          -4.1259918212890625,
          -14.861647605895996,
          -10.323482513427734,
          -6.685262203216553,
          -14.879060745239258,
          -10.55679702758789,
          0.06951739639043808,
          -7.068873405456543,
          -4.551435947418213,
          0.5545141100883484,
          -11.757783889770508,
          -12.181727409362793,
          -13.88586139678955,
          -14.610684394836426,
          -11.740092277526855,
          -0.7165785431861877,
          -14.21662425994873,
          -11.009556770324707,
          12.229127883911133,
          26.72271728515625,
          -11.306839942932129,
          11.558300971984863,
          -1.0749155282974243,
          14.964446067810059,
          -11.90439224243164,
          -7.092405319213867,
          -4.812019348144531,
          -13.810893058776855,
          -7.970059871673584,
          19.10877799987793,
          11.27025032043457,
          -2.789461135864258,
          -11.930543899536133,
          13.025808334350586,
          22.96291160583496,
          -1.482505440711975,
          10.072669982910156,
          -14.458711624145508,
          18.384037017822266,
          -5.063045024871826,
          25.001270294189453,
          19.709321975708008,
          -14.621092796325684,
          -13.961742401123047,
          22.488004684448242,
          21.489938735961914,
          14.986324310302734,
          -11.096735000610352,
          17.697134017944336,
          27.166893005371094,
          25.400569915771484,
          -5.786740303039551,
          -12.267955780029297,
          -0.827046811580658,
          -12.644622802734375,
          -14.513239860534668,
          -9.359731674194336,
          -14.523039817810059,
          -12.012993812561035,
          -14.374787330627441,
          12.25520133972168,
          -1.1725773811340332,
          22.72264289855957,
          -2.5527822971343994,
          -11.555309295654297,
          -1.0727125406265259,
          -2.1636734008789062,
          3.8313872814178467,
          15.83901596069336,
          3.0937628746032715,
          10.875226974487305,
          -5.401005744934082,
          25.677242279052734,
          20.71482276916504,
          -14.641092300415039,
          3.799131393432617,
          -4.216075897216797,
          -9.861490249633789,
          8.328506469726562,
          -13.464747428894043,
          -0.37131696939468384,
          8.82109546661377,
          0.014864664524793625,
          -11.317436218261719,
          3.4542386531829834,
          20.862245559692383,
          -13.564261436462402,
          -12.64512825012207,
          3.227226972579956,
          1.8536549806594849,
          -7.354339122772217,
          -8.190146446228027,
          -12.956596374511719,
          -10.254355430603027,
          9.494235038757324,
          -7.488114356994629,
          -13.14316177368164,
          7.512440204620361,
          -14.3070650100708,
          5.181970119476318,
          -3.128349542617798,
          -10.691472053527832,
          -8.928348541259766,
          -1.418341040611267,
          -1.6769064664840698,
          -2.049884080886841,
          -1.4862163066864014,
          14.06307601928711,
          7.862269878387451,
          -2.4581358432769775,
          -1.477401852607727,
          -5.4565324783325195,
          20.602285385131836,
          23.929868698120117,
          -1.8089511394500732,
          10.190850257873535,
          8.565227508544922,
          -3.213428020477295,
          9.419281005859375,
          -5.82246208190918,
          -1.450369954109192,
          25.784685134887695,
          19.90921401977539,
          27.70616912841797,
          27.324951171875,
          -7.603085041046143,
          -7.451733112335205,
          -3.7601265907287598,
          -8.88325309753418,
          -11.107022285461426,
          -9.262571334838867,
          -12.353462219238281,
          -13.407148361206055,
          -14.441852569580078,
          -9.912361145019531,
          22.419588088989258,
          -6.4363532066345215,
          -14.21594524383545,
          -2.2659127712249756
         ],
         "xaxis": "x",
         "y": [
          0.5008796453475952,
          8.435213088989258,
          16.02849578857422,
          -9.945513725280762,
          -9.593624114990234,
          12.229586601257324,
          -2.964184522628784,
          -14.597803115844727,
          -19.032312393188477,
          13.903306007385254,
          15.538512229919434,
          16.29180145263672,
          13.111031532287598,
          -5.603010654449463,
          16.53662872314453,
          11.953761100769043,
          16.509489059448242,
          -25.976654052734375,
          16.43810272216797,
          -3.9225687980651855,
          12.315238952636719,
          13.552616119384766,
          14.513900756835938,
          -2.300370216369629,
          4.615121841430664,
          15.960465431213379,
          16.471221923828125,
          -2.665457010269165,
          15.965446472167969,
          16.47141456604004,
          8.837979316711426,
          16.74372673034668,
          15.829914093017578,
          -21.3902530670166,
          -22.9101505279541,
          7.849282264709473,
          -9.676614761352539,
          -20.671539306640625,
          -10.281630516052246,
          -23.0181941986084,
          -11.237983703613281,
          -17.090063095092773,
          -23.60481071472168,
          14.897412300109863,
          -13.932184219360352,
          12.277316093444824,
          16.743572235107422,
          -14.649199485778809,
          -13.793569564819336,
          11.79936695098877,
          13.466278076171875,
          10.89319133758545,
          -8.670519828796387,
          15.525689125061035,
          -12.646262168884277,
          14.183462142944336,
          14.686834335327148,
          9.187559127807617,
          12.24118709564209,
          11.227149963378906,
          11.226366996765137,
          12.807294845581055,
          13.634109497070312,
          15.909811019897461,
          -24.077381134033203,
          15.359709739685059,
          -11.662632942199707,
          -18.540386199951172,
          -20.912221908569336,
          -15.848381996154785,
          -25.99024772644043,
          13.194581031799316,
          -3.204399585723877,
          -17.99888801574707,
          -21.316402435302734,
          -3.7452619075775146,
          -22.79451560974121,
          -9.406672477722168,
          15.086343765258789,
          -11.386207580566406,
          16.325008392333984,
          -5.545166969299316,
          -18.170562744140625,
          -25.94950294494629,
          -0.8564978241920471,
          -23.82095718383789,
          -4.82437801361084,
          13.935370445251465,
          5.602312088012695,
          -22.05752944946289,
          -14.113384246826172,
          -14.680462837219238,
          0.4632313847541809,
          -11.711200714111328,
          -17.958040237426758,
          16.080108642578125,
          -18.273839950561523,
          -15.203512191772461,
          12.777414321899414,
          15.786022186279297,
          7.257054328918457,
          15.41274642944336,
          15.071905136108398,
          12.229612350463867,
          6.967610836029053,
          -20.133193969726562,
          14.262804985046387,
          16.494447708129883,
          -5.937946796417236,
          6.147197246551514,
          16.378917694091797,
          5.217828750610352,
          -25.911699295043945,
          14.067808151245117,
          12.818456649780273,
          12.946073532104492,
          1.773073673248291,
          -14.387917518615723,
          9.846887588500977,
          -21.899444580078125,
          -5.176504611968994,
          -10.83299732208252,
          -19.054418563842773,
          -24.218292236328125,
          15.363129615783691,
          16.49053192138672,
          -24.89975357055664,
          12.340998649597168,
          -25.27779769897461,
          7.931676864624023,
          14.803001403808594,
          15.994183540344238,
          14.306676864624023,
          15.233651161193848,
          14.407530784606934,
          16.728107452392578,
          16.542253494262695,
          12.440205574035645,
          13.464126586914062,
          16.669204711914062,
          15.391815185546875,
          15.013201713562012,
          -19.200889587402344,
          16.541248321533203,
          11.375832557678223,
          -17.57787322998047,
          14.326274871826172,
          15.908310890197754,
          11.886555671691895,
          -0.4739367365837097,
          14.825265884399414,
          -4.255845069885254,
          3.397740364074707,
          16.057249069213867,
          15.586353302001953,
          14.898285865783691,
          3.149094581604004,
          -15.294500350952148,
          -13.467382431030273,
          13.379022598266602,
          6.444815158843994,
          11.6862211227417,
          10.279109001159668,
          -20.477590560913086,
          13.997115135192871,
          4.433773994445801,
          7.447171688079834,
          15.76440715789795,
          -17.856000900268555,
          0.5062137842178345,
          5.210341453552246,
          3.506117105484009,
          -3.0958166122436523,
          8.392045021057129,
          16.45934295654297,
          10.963961601257324,
          -1.5650382041931152,
          12.247990608215332,
          -2.1928884983062744,
          -12.649219512939453,
          -3.4218358993530273,
          16.390836715698242,
          9.91026782989502,
          0.9239271879196167,
          13.530952453613281,
          -24.941659927368164,
          15.16169548034668,
          14.626970291137695,
          -26.480411529541016,
          -2.282128095626831,
          16.078636169433594,
          14.545401573181152,
          14.935214042663574,
          -5.588986396789551,
          3.9571049213409424,
          -17.555532455444336,
          -10.966509819030762,
          1.5001364946365356,
          14.327610969543457,
          15.976831436157227,
          15.722036361694336,
          -25.75885009765625,
          12.959795951843262,
          2.51008677482605,
          -24.922889709472656,
          15.545276641845703,
          16.306921005249023,
          8.914494514465332,
          16.371137619018555,
          12.945831298828125,
          -19.86164665222168,
          13.320993423461914,
          -24.48617172241211,
          10.271683692932129,
          16.303861618041992,
          12.796708106994629,
          -5.390272617340088,
          -0.6628752946853638,
          15.657045364379883,
          -22.717845916748047,
          12.54265022277832,
          16.458545684814453,
          -23.276046752929688,
          14.958637237548828,
          16.161867141723633,
          -8.039793968200684,
          13.664433479309082,
          -20.991544723510742,
          -25.52452278137207,
          -0.9278591871261597,
          9.42722225189209,
          -8.075758934020996,
          -15.139415740966797,
          -20.475210189819336,
          -21.05677604675293,
          -25.291954040527344,
          -4.49747896194458,
          -18.378686904907227,
          -21.187196731567383,
          13.051908493041992,
          12.291601181030273,
          -2.255587577819824,
          16.149545669555664,
          -12.802530288696289,
          14.498564720153809,
          5.124495029449463,
          16.508745193481445,
          16.20525550842285,
          15.408875465393066,
          12.693184852600098,
          3.7439138889312744,
          -9.716632843017578,
          14.691726684570312,
          -14.878885269165039,
          -0.7203688025474548,
          9.361641883850098,
          -24.79754066467285,
          14.47596549987793,
          14.310371398925781,
          15.98611831665039,
          13.743165969848633,
          -1.6119492053985596,
          -15.883528709411621,
          -20.554838180541992,
          -1.727291226387024,
          -15.512728691101074,
          -25.79944610595703,
          -19.859046936035156,
          13.95112133026123,
          -26.480619430541992,
          -13.853224754333496,
          -12.782794952392578,
          -8.166275978088379,
          0.8806079626083374,
          7.639094829559326,
          15.359317779541016,
          0.620412290096283,
          -14.29997444152832,
          16.33908462524414,
          12.284271240234375,
          7.634959697723389,
          16.495328903198242,
          -25.461544036865234,
          15.469627380371094,
          -13.304773330688477,
          -19.944826126098633,
          13.718653678894043,
          2.8446879386901855,
          11.234539985656738,
          14.809847831726074,
          16.169097900390625,
          -23.90498161315918,
          7.306999206542969,
          16.02828598022461,
          13.59989070892334,
          -24.614370346069336,
          16.539443969726562,
          -3.9415552616119385,
          14.682571411132812,
          13.45345401763916,
          12.678324699401855,
          14.558258056640625,
          0.2712821662425995,
          2.300642967224121,
          13.57660961151123,
          13.813234329223633,
          15.776864051818848,
          8.365995407104492,
          14.901665687561035,
          12.199942588806152,
          12.330607414245605,
          -21.42892837524414,
          6.345467567443848,
          15.437804222106934,
          -11.806855201721191,
          -1.7302296161651611,
          9.983027458190918,
          -3.041718006134033,
          6.826429843902588,
          -4.393896579742432,
          16.338573455810547,
          14.901494979858398,
          13.186452865600586,
          14.941603660583496,
          7.027579307556152,
          -24.929224014282227,
          14.582001686096191,
          16.5057315826416,
          15.419261932373047,
          16.1686954498291,
          16.481189727783203,
          13.226953506469727,
          12.277395248413086,
          14.173212051391602,
          -5.360617160797119,
          16.080936431884766,
          14.056275367736816,
          9.701254844665527,
          16.575923919677734,
          -10.338022232055664,
          -25.336545944213867,
          16.313915252685547,
          15.532320022583008,
          -14.883584022521973,
          16.446557998657227,
          14.024720191955566,
          -10.335915565490723,
          5.658912658691406,
          16.175867080688477,
          15.957623481750488,
          11.90378475189209,
          -18.741491317749023,
          -10.65845775604248,
          9.240804672241211,
          16.31523323059082,
          11.653985977172852,
          -9.955804824829102,
          16.52191162109375,
          1.1240113973617554,
          16.265600204467773,
          -23.633859634399414,
          -14.846323013305664,
          -18.046567916870117,
          -25.08864402770996,
          -24.478458404541016,
          -24.23897361755371,
          -25.303524017333984,
          15.831791877746582,
          16.532711029052734,
          -24.466821670532227,
          15.354011535644531,
          -21.535356521606445,
          14.016844749450684,
          13.045822143554688,
          15.1499605178833,
          16.326967239379883,
          16.331066131591797,
          14.407132148742676,
          16.629838943481445,
          -20.853818893432617,
          14.823714256286621,
          12.239022254943848,
          14.114619255065918,
          12.240757942199707,
          12.273681640625,
          -19.374141693115234,
          -19.51046371459961,
          -23.088159561157227,
          10.619529724121094,
          8.322044372558594,
          10.276145935058594,
          -12.43066692352295,
          -10.644168853759766,
          -0.806196391582489,
          -16.454191207885742,
          13.5274019241333,
          12.555705070495605,
          0.566582441329956,
          15.00538444519043
         ],
         "yaxis": "y"
        }
       ],
       "layout": {
        "legend": {
         "tracegroupgap": 0
        },
        "margin": {
         "t": 60
        },
        "template": {
         "data": {
          "bar": [
           {
            "error_x": {
             "color": "#2a3f5f"
            },
            "error_y": {
             "color": "#2a3f5f"
            },
            "marker": {
             "line": {
              "color": "#E5ECF6",
              "width": 0.5
             },
             "pattern": {
              "fillmode": "overlay",
              "size": 10,
              "solidity": 0.2
             }
            },
            "type": "bar"
           }
          ],
          "barpolar": [
           {
            "marker": {
             "line": {
              "color": "#E5ECF6",
              "width": 0.5
             },
             "pattern": {
              "fillmode": "overlay",
              "size": 10,
              "solidity": 0.2
             }
            },
            "type": "barpolar"
           }
          ],
          "carpet": [
           {
            "aaxis": {
             "endlinecolor": "#2a3f5f",
             "gridcolor": "white",
             "linecolor": "white",
             "minorgridcolor": "white",
             "startlinecolor": "#2a3f5f"
            },
            "baxis": {
             "endlinecolor": "#2a3f5f",
             "gridcolor": "white",
             "linecolor": "white",
             "minorgridcolor": "white",
             "startlinecolor": "#2a3f5f"
            },
            "type": "carpet"
           }
          ],
          "choropleth": [
           {
            "colorbar": {
             "outlinewidth": 0,
             "ticks": ""
            },
            "type": "choropleth"
           }
          ],
          "contour": [
           {
            "colorbar": {
             "outlinewidth": 0,
             "ticks": ""
            },
            "colorscale": [
             [
              0,
              "#0d0887"
             ],
             [
              0.1111111111111111,
              "#46039f"
             ],
             [
              0.2222222222222222,
              "#7201a8"
             ],
             [
              0.3333333333333333,
              "#9c179e"
             ],
             [
              0.4444444444444444,
              "#bd3786"
             ],
             [
              0.5555555555555556,
              "#d8576b"
             ],
             [
              0.6666666666666666,
              "#ed7953"
             ],
             [
              0.7777777777777778,
              "#fb9f3a"
             ],
             [
              0.8888888888888888,
              "#fdca26"
             ],
             [
              1,
              "#f0f921"
             ]
            ],
            "type": "contour"
           }
          ],
          "contourcarpet": [
           {
            "colorbar": {
             "outlinewidth": 0,
             "ticks": ""
            },
            "type": "contourcarpet"
           }
          ],
          "heatmap": [
           {
            "colorbar": {
             "outlinewidth": 0,
             "ticks": ""
            },
            "colorscale": [
             [
              0,
              "#0d0887"
             ],
             [
              0.1111111111111111,
              "#46039f"
             ],
             [
              0.2222222222222222,
              "#7201a8"
             ],
             [
              0.3333333333333333,
              "#9c179e"
             ],
             [
              0.4444444444444444,
              "#bd3786"
             ],
             [
              0.5555555555555556,
              "#d8576b"
             ],
             [
              0.6666666666666666,
              "#ed7953"
             ],
             [
              0.7777777777777778,
              "#fb9f3a"
             ],
             [
              0.8888888888888888,
              "#fdca26"
             ],
             [
              1,
              "#f0f921"
             ]
            ],
            "type": "heatmap"
           }
          ],
          "heatmapgl": [
           {
            "colorbar": {
             "outlinewidth": 0,
             "ticks": ""
            },
            "colorscale": [
             [
              0,
              "#0d0887"
             ],
             [
              0.1111111111111111,
              "#46039f"
             ],
             [
              0.2222222222222222,
              "#7201a8"
             ],
             [
              0.3333333333333333,
              "#9c179e"
             ],
             [
              0.4444444444444444,
              "#bd3786"
             ],
             [
              0.5555555555555556,
              "#d8576b"
             ],
             [
              0.6666666666666666,
              "#ed7953"
             ],
             [
              0.7777777777777778,
              "#fb9f3a"
             ],
             [
              0.8888888888888888,
              "#fdca26"
             ],
             [
              1,
              "#f0f921"
             ]
            ],
            "type": "heatmapgl"
           }
          ],
          "histogram": [
           {
            "marker": {
             "pattern": {
              "fillmode": "overlay",
              "size": 10,
              "solidity": 0.2
             }
            },
            "type": "histogram"
           }
          ],
          "histogram2d": [
           {
            "colorbar": {
             "outlinewidth": 0,
             "ticks": ""
            },
            "colorscale": [
             [
              0,
              "#0d0887"
             ],
             [
              0.1111111111111111,
              "#46039f"
             ],
             [
              0.2222222222222222,
              "#7201a8"
             ],
             [
              0.3333333333333333,
              "#9c179e"
             ],
             [
              0.4444444444444444,
              "#bd3786"
             ],
             [
              0.5555555555555556,
              "#d8576b"
             ],
             [
              0.6666666666666666,
              "#ed7953"
             ],
             [
              0.7777777777777778,
              "#fb9f3a"
             ],
             [
              0.8888888888888888,
              "#fdca26"
             ],
             [
              1,
              "#f0f921"
             ]
            ],
            "type": "histogram2d"
           }
          ],
          "histogram2dcontour": [
           {
            "colorbar": {
             "outlinewidth": 0,
             "ticks": ""
            },
            "colorscale": [
             [
              0,
              "#0d0887"
             ],
             [
              0.1111111111111111,
              "#46039f"
             ],
             [
              0.2222222222222222,
              "#7201a8"
             ],
             [
              0.3333333333333333,
              "#9c179e"
             ],
             [
              0.4444444444444444,
              "#bd3786"
             ],
             [
              0.5555555555555556,
              "#d8576b"
             ],
             [
              0.6666666666666666,
              "#ed7953"
             ],
             [
              0.7777777777777778,
              "#fb9f3a"
             ],
             [
              0.8888888888888888,
              "#fdca26"
             ],
             [
              1,
              "#f0f921"
             ]
            ],
            "type": "histogram2dcontour"
           }
          ],
          "mesh3d": [
           {
            "colorbar": {
             "outlinewidth": 0,
             "ticks": ""
            },
            "type": "mesh3d"
           }
          ],
          "parcoords": [
           {
            "line": {
             "colorbar": {
              "outlinewidth": 0,
              "ticks": ""
             }
            },
            "type": "parcoords"
           }
          ],
          "pie": [
           {
            "automargin": true,
            "type": "pie"
           }
          ],
          "scatter": [
           {
            "fillpattern": {
             "fillmode": "overlay",
             "size": 10,
             "solidity": 0.2
            },
            "type": "scatter"
           }
          ],
          "scatter3d": [
           {
            "line": {
             "colorbar": {
              "outlinewidth": 0,
              "ticks": ""
             }
            },
            "marker": {
             "colorbar": {
              "outlinewidth": 0,
              "ticks": ""
             }
            },
            "type": "scatter3d"
           }
          ],
          "scattercarpet": [
           {
            "marker": {
             "colorbar": {
              "outlinewidth": 0,
              "ticks": ""
             }
            },
            "type": "scattercarpet"
           }
          ],
          "scattergeo": [
           {
            "marker": {
             "colorbar": {
              "outlinewidth": 0,
              "ticks": ""
             }
            },
            "type": "scattergeo"
           }
          ],
          "scattergl": [
           {
            "marker": {
             "colorbar": {
              "outlinewidth": 0,
              "ticks": ""
             }
            },
            "type": "scattergl"
           }
          ],
          "scattermapbox": [
           {
            "marker": {
             "colorbar": {
              "outlinewidth": 0,
              "ticks": ""
             }
            },
            "type": "scattermapbox"
           }
          ],
          "scatterpolar": [
           {
            "marker": {
             "colorbar": {
              "outlinewidth": 0,
              "ticks": ""
             }
            },
            "type": "scatterpolar"
           }
          ],
          "scatterpolargl": [
           {
            "marker": {
             "colorbar": {
              "outlinewidth": 0,
              "ticks": ""
             }
            },
            "type": "scatterpolargl"
           }
          ],
          "scatterternary": [
           {
            "marker": {
             "colorbar": {
              "outlinewidth": 0,
              "ticks": ""
             }
            },
            "type": "scatterternary"
           }
          ],
          "surface": [
           {
            "colorbar": {
             "outlinewidth": 0,
             "ticks": ""
            },
            "colorscale": [
             [
              0,
              "#0d0887"
             ],
             [
              0.1111111111111111,
              "#46039f"
             ],
             [
              0.2222222222222222,
              "#7201a8"
             ],
             [
              0.3333333333333333,
              "#9c179e"
             ],
             [
              0.4444444444444444,
              "#bd3786"
             ],
             [
              0.5555555555555556,
              "#d8576b"
             ],
             [
              0.6666666666666666,
              "#ed7953"
             ],
             [
              0.7777777777777778,
              "#fb9f3a"
             ],
             [
              0.8888888888888888,
              "#fdca26"
             ],
             [
              1,
              "#f0f921"
             ]
            ],
            "type": "surface"
           }
          ],
          "table": [
           {
            "cells": {
             "fill": {
              "color": "#EBF0F8"
             },
             "line": {
              "color": "white"
             }
            },
            "header": {
             "fill": {
              "color": "#C8D4E3"
             },
             "line": {
              "color": "white"
             }
            },
            "type": "table"
           }
          ]
         },
         "layout": {
          "annotationdefaults": {
           "arrowcolor": "#2a3f5f",
           "arrowhead": 0,
           "arrowwidth": 1
          },
          "autotypenumbers": "strict",
          "coloraxis": {
           "colorbar": {
            "outlinewidth": 0,
            "ticks": ""
           }
          },
          "colorscale": {
           "diverging": [
            [
             0,
             "#8e0152"
            ],
            [
             0.1,
             "#c51b7d"
            ],
            [
             0.2,
             "#de77ae"
            ],
            [
             0.3,
             "#f1b6da"
            ],
            [
             0.4,
             "#fde0ef"
            ],
            [
             0.5,
             "#f7f7f7"
            ],
            [
             0.6,
             "#e6f5d0"
            ],
            [
             0.7,
             "#b8e186"
            ],
            [
             0.8,
             "#7fbc41"
            ],
            [
             0.9,
             "#4d9221"
            ],
            [
             1,
             "#276419"
            ]
           ],
           "sequential": [
            [
             0,
             "#0d0887"
            ],
            [
             0.1111111111111111,
             "#46039f"
            ],
            [
             0.2222222222222222,
             "#7201a8"
            ],
            [
             0.3333333333333333,
             "#9c179e"
            ],
            [
             0.4444444444444444,
             "#bd3786"
            ],
            [
             0.5555555555555556,
             "#d8576b"
            ],
            [
             0.6666666666666666,
             "#ed7953"
            ],
            [
             0.7777777777777778,
             "#fb9f3a"
            ],
            [
             0.8888888888888888,
             "#fdca26"
            ],
            [
             1,
             "#f0f921"
            ]
           ],
           "sequentialminus": [
            [
             0,
             "#0d0887"
            ],
            [
             0.1111111111111111,
             "#46039f"
            ],
            [
             0.2222222222222222,
             "#7201a8"
            ],
            [
             0.3333333333333333,
             "#9c179e"
            ],
            [
             0.4444444444444444,
             "#bd3786"
            ],
            [
             0.5555555555555556,
             "#d8576b"
            ],
            [
             0.6666666666666666,
             "#ed7953"
            ],
            [
             0.7777777777777778,
             "#fb9f3a"
            ],
            [
             0.8888888888888888,
             "#fdca26"
            ],
            [
             1,
             "#f0f921"
            ]
           ]
          },
          "colorway": [
           "#636efa",
           "#EF553B",
           "#00cc96",
           "#ab63fa",
           "#FFA15A",
           "#19d3f3",
           "#FF6692",
           "#B6E880",
           "#FF97FF",
           "#FECB52"
          ],
          "font": {
           "color": "#2a3f5f"
          },
          "geo": {
           "bgcolor": "white",
           "lakecolor": "white",
           "landcolor": "#E5ECF6",
           "showlakes": true,
           "showland": true,
           "subunitcolor": "white"
          },
          "hoverlabel": {
           "align": "left"
          },
          "hovermode": "closest",
          "mapbox": {
           "style": "light"
          },
          "paper_bgcolor": "white",
          "plot_bgcolor": "#E5ECF6",
          "polar": {
           "angularaxis": {
            "gridcolor": "white",
            "linecolor": "white",
            "ticks": ""
           },
           "bgcolor": "#E5ECF6",
           "radialaxis": {
            "gridcolor": "white",
            "linecolor": "white",
            "ticks": ""
           }
          },
          "scene": {
           "xaxis": {
            "backgroundcolor": "#E5ECF6",
            "gridcolor": "white",
            "gridwidth": 2,
            "linecolor": "white",
            "showbackground": true,
            "ticks": "",
            "zerolinecolor": "white"
           },
           "yaxis": {
            "backgroundcolor": "#E5ECF6",
            "gridcolor": "white",
            "gridwidth": 2,
            "linecolor": "white",
            "showbackground": true,
            "ticks": "",
            "zerolinecolor": "white"
           },
           "zaxis": {
            "backgroundcolor": "#E5ECF6",
            "gridcolor": "white",
            "gridwidth": 2,
            "linecolor": "white",
            "showbackground": true,
            "ticks": "",
            "zerolinecolor": "white"
           }
          },
          "shapedefaults": {
           "line": {
            "color": "#2a3f5f"
           }
          },
          "ternary": {
           "aaxis": {
            "gridcolor": "white",
            "linecolor": "white",
            "ticks": ""
           },
           "baxis": {
            "gridcolor": "white",
            "linecolor": "white",
            "ticks": ""
           },
           "bgcolor": "#E5ECF6",
           "caxis": {
            "gridcolor": "white",
            "linecolor": "white",
            "ticks": ""
           }
          },
          "title": {
           "x": 0.05
          },
          "xaxis": {
           "automargin": true,
           "gridcolor": "white",
           "linecolor": "white",
           "ticks": "",
           "title": {
            "standoff": 15
           },
           "zerolinecolor": "white",
           "zerolinewidth": 2
          },
          "yaxis": {
           "automargin": true,
           "gridcolor": "white",
           "linecolor": "white",
           "ticks": "",
           "title": {
            "standoff": 15
           },
           "zerolinecolor": "white",
           "zerolinewidth": 2
          }
         }
        },
        "xaxis": {
         "anchor": "y",
         "domain": [
          0,
          1
         ],
         "title": {
          "text": "x"
         }
        },
        "yaxis": {
         "anchor": "x",
         "domain": [
          0,
          1
         ],
         "title": {
          "text": "y"
         }
        }
       }
      }
     },
     "metadata": {},
     "output_type": "display_data"
    }
   ],
   "source": [
    "fig = px.scatter(df, \n",
    "             x='x', \n",
    "             y=\"y\", \n",
    "             hover_name=df.index)\n",
    "fig.show()"
   ]
  },
  {
   "cell_type": "code",
   "execution_count": 169,
   "metadata": {},
   "outputs": [
    {
     "data": {
      "text/html": [
       "<div>\n",
       "<style scoped>\n",
       "    .dataframe tbody tr th:only-of-type {\n",
       "        vertical-align: middle;\n",
       "    }\n",
       "\n",
       "    .dataframe tbody tr th {\n",
       "        vertical-align: top;\n",
       "    }\n",
       "\n",
       "    .dataframe thead th {\n",
       "        text-align: right;\n",
       "    }\n",
       "</style>\n",
       "<table border=\"1\" class=\"dataframe\">\n",
       "  <thead>\n",
       "    <tr style=\"text-align: right;\">\n",
       "      <th></th>\n",
       "      <th>Source</th>\n",
       "      <th>Date</th>\n",
       "      <th>Text</th>\n",
       "      <th>Result</th>\n",
       "      <th>Resultint</th>\n",
       "    </tr>\n",
       "  </thead>\n",
       "  <tbody>\n",
       "    <tr>\n",
       "      <th>231</th>\n",
       "      <td>text_nyt</td>\n",
       "      <td>2011-02-19</td>\n",
       "      <td>the intel corporation announced plans on frida...</td>\n",
       "      <td>NEU</td>\n",
       "      <td>0.5</td>\n",
       "    </tr>\n",
       "  </tbody>\n",
       "</table>\n",
       "</div>"
      ],
      "text/plain": [
       "       Source        Date                                               Text  \\\n",
       "231  text_nyt  2011-02-19  the intel corporation announced plans on frida...   \n",
       "\n",
       "    Result  Resultint  \n",
       "231    NEU        0.5  "
      ]
     },
     "execution_count": 169,
     "metadata": {},
     "output_type": "execute_result"
    }
   ],
   "source": [
    "D2Vdata.query('Source == \"text_nyt\" & Date == \"2011-02-19\"')"
   ]
  },
  {
   "cell_type": "markdown",
   "metadata": {},
   "source": [
    "#### Everything after this point is earlier messing around with the new Sentence Embedding model combined with sentimiento on each sentence, but the results from just analyzing the entire speech itself are much more promising"
   ]
  },
  {
   "cell_type": "code",
   "execution_count": null,
   "metadata": {},
   "outputs": [],
   "source": [
    "#Split speeches into sentences\n",
    "scores=[]\n",
    "labels=[]\n",
    "speech=tokenize.sent_tokenize(data.iloc[0,2])\n",
    "for sentence in range(0,len(speech)):\n",
    "    scores.append(model(speech[sentence],batch_size=8,truncation='only_first')[0].get('score'))\n",
    "    labels.append(model(speech[sentence],batch_size=8,truncation='only_first')[0].get('label'))"
   ]
  },
  {
   "cell_type": "code",
   "execution_count": null,
   "metadata": {},
   "outputs": [
    {
     "name": "stdout",
     "output_type": "stream",
     "text": [
      "(0.9905810952186584, 'POS')\n",
      "(0.9287346601486206, 'POS')\n",
      "(0.94754558801651, 'NEU')\n",
      "(0.53578120470047, 'NEU')\n",
      "(0.9337282180786133, 'NEU')\n",
      "(0.8087764978408813, 'NEU')\n",
      "(0.98421311378479, 'POS')\n",
      "(0.9279590845108032, 'NEU')\n",
      "(0.942507266998291, 'NEU')\n",
      "(0.9657571315765381, 'NEU')\n",
      "(0.9635999798774719, 'NEU')\n",
      "(0.939455509185791, 'NEU')\n",
      "(0.9720049500465393, 'NEU')\n",
      "(0.8093428015708923, 'NEU')\n",
      "(0.9521498680114746, 'POS')\n",
      "(0.8059608936309814, 'NEU')\n",
      "(0.9869824051856995, 'POS')\n",
      "(0.6119232177734375, 'POS')\n",
      "(0.8856715559959412, 'POS')\n",
      "(0.9047808647155762, 'NEG')\n",
      "(0.5747033953666687, 'NEU')\n",
      "(0.9809557795524597, 'POS')\n",
      "(0.5950371026992798, 'NEU')\n",
      "(0.9749462604522705, 'POS')\n",
      "(0.7401796579360962, 'NEU')\n",
      "(0.9380322694778442, 'POS')\n",
      "(0.677641749382019, 'POS')\n",
      "(0.802254855632782, 'NEG')\n",
      "(0.5059276223182678, 'NEU')\n",
      "(0.9115768074989319, 'NEG')\n",
      "(0.7648179531097412, 'POS')\n",
      "(0.8802087903022766, 'NEG')\n",
      "(0.734094500541687, 'NEG')\n",
      "(0.9133493900299072, 'NEU')\n",
      "(0.9433218240737915, 'NEG')\n",
      "(0.8998552560806274, 'POS')\n",
      "(0.8097006678581238, 'POS')\n",
      "(0.5411397218704224, 'NEU')\n",
      "(0.5869717597961426, 'NEU')\n",
      "(0.9609391689300537, 'POS')\n",
      "(0.8067649602890015, 'NEU')\n",
      "(0.9206511974334717, 'POS')\n",
      "(0.9684751033782959, 'POS')\n",
      "(0.5628265142440796, 'NEU')\n",
      "(0.8970382213592529, 'POS')\n",
      "(0.7245602607727051, 'POS')\n",
      "(0.8631508946418762, 'POS')\n",
      "(0.5018128752708435, 'POS')\n",
      "(0.9543696045875549, 'POS')\n",
      "(0.5953194499015808, 'NEG')\n",
      "(0.9600601196289062, 'NEU')\n",
      "(0.9698189496994019, 'NEU')\n",
      "(0.9863206744194031, 'POS')\n",
      "(0.9722795486450195, 'NEU')\n",
      "(0.9798961877822876, 'POS')\n",
      "(0.9702849388122559, 'NEU')\n",
      "(0.8667472004890442, 'NEG')\n",
      "(0.8778480291366577, 'NEG')\n",
      "(0.8662083148956299, 'NEU')\n",
      "(0.9399225115776062, 'NEU')\n",
      "(0.9444180130958557, 'NEU')\n",
      "(0.9582224488258362, 'NEG')\n",
      "(0.8864154815673828, 'NEG')\n",
      "(0.6839388012886047, 'NEU')\n",
      "(0.9259438514709473, 'NEG')\n",
      "(0.932004988193512, 'NEU')\n",
      "(0.9061997532844543, 'POS')\n",
      "(0.8110602498054504, 'POS')\n",
      "(0.6706783175468445, 'NEU')\n",
      "(0.8231344223022461, 'NEU')\n",
      "(0.9742156863212585, 'NEG')\n",
      "(0.9616628289222717, 'NEG')\n",
      "(0.5123561024665833, 'NEU')\n",
      "(0.936011791229248, 'POS')\n",
      "(0.7964075207710266, 'POS')\n",
      "(0.9647970199584961, 'NEU')\n",
      "(0.8853462338447571, 'NEG')\n",
      "(0.7787095308303833, 'NEU')\n",
      "(0.6511943936347961, 'NEU')\n",
      "(0.5510657429695129, 'NEG')\n",
      "(0.963558554649353, 'NEU')\n",
      "(0.8779098987579346, 'POS')\n",
      "(0.7346504330635071, 'NEU')\n",
      "(0.8775378465652466, 'NEU')\n",
      "(0.9504102468490601, 'POS')\n",
      "(0.8450486063957214, 'NEU')\n",
      "(0.9192041158676147, 'NEU')\n",
      "(0.8532615303993225, 'POS')\n",
      "(0.8180371522903442, 'POS')\n",
      "(0.9325148463249207, 'NEG')\n",
      "(0.9365320205688477, 'NEG')\n",
      "(0.9636298418045044, 'NEU')\n",
      "(0.5824936628341675, 'NEU')\n",
      "(0.9640174508094788, 'POS')\n",
      "(0.934678852558136, 'POS')\n",
      "(0.7051319479942322, 'NEU')\n",
      "(0.9870859980583191, 'POS')\n",
      "(0.8304940462112427, 'NEU')\n",
      "(0.9627943634986877, 'POS')\n",
      "(0.9666677117347717, 'POS')\n",
      "(0.9033961892127991, 'POS')\n",
      "(0.9224092364311218, 'POS')\n",
      "(0.7218248844146729, 'NEU')\n",
      "(0.9667888283729553, 'POS')\n",
      "(0.9802349805831909, 'POS')\n",
      "(0.9828183054924011, 'POS')\n",
      "(0.9412093162536621, 'POS')\n"
     ]
    }
   ],
   "source": [
    "for list in zip(scores,labels):\n",
    "        print(list)\n",
    "#These are the results for all sentences in one speech using embeddings and pipeline"
   ]
  }
 ],
 "metadata": {
  "kernelspec": {
   "display_name": "Python 3 (ipykernel)",
   "language": "python",
   "name": "python3"
  },
  "language_info": {
   "codemirror_mode": {
    "name": "ipython",
    "version": 3
   },
   "file_extension": ".py",
   "mimetype": "text/x-python",
   "name": "python",
   "nbconvert_exporter": "python",
   "pygments_lexer": "ipython3",
   "version": "3.10.6"
  },
  "vscode": {
   "interpreter": {
    "hash": "107f2f6f19e96c840132efb8a7e6b8d8e9855354386e3f52164003e5deff7bc5"
   }
  }
 },
 "nbformat": 4,
 "nbformat_minor": 2
}
