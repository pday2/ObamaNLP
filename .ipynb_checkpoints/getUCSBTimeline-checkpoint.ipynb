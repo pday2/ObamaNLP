{
 "cells": [
  {
   "cell_type": "markdown",
   "id": "494e4c0e",
   "metadata": {},
   "source": [
    "This notebook scrapes the UC-Santa Barbara presidency site to grab the time line of Obama's presidency, grabs the links, then grabs the speeches. There are about 135 speeches hosted by this site. They also link to some other speeches which are not saved."
   ]
  },
  {
   "cell_type": "code",
   "execution_count": 1,
   "id": "e753b05c",
   "metadata": {},
   "outputs": [],
   "source": [
    "# The usual suspects...\n",
    "import requests\n",
    "import re\n",
    "import pandas as pd\n",
    "from bs4 import BeautifulSoup\n",
    "import time # avoid swamping the americanrhetoric website\n",
    "import os # to check if directory exists and create it if it doesn't\n",
    "from datetime import date, datetime # to parse speech date"
   ]
  },
  {
   "cell_type": "markdown",
   "id": "69657db4",
   "metadata": {},
   "source": [
    "<A HREF=\"https://www.presidency.ucsb.edu/documents/barack-obama-event-timeline\">UCSB timeline and speech links</A>"
   ]
  },
  {
   "cell_type": "markdown",
   "id": "9e354aa7",
   "metadata": {},
   "source": [
    "<A HREF=\"https://pandas.pydata.org/Pandas_Cheat_Sheet.pdf\">Pandas Cheat Sheet</A>"
   ]
  },
  {
   "cell_type": "code",
   "execution_count": 2,
   "id": "83df8469",
   "metadata": {},
   "outputs": [],
   "source": [
    "ucsburl = \"https://www.presidency.ucsb.edu/documents/barack-obama-event-timeline\"\n",
    "ucsbPage = requests.get(ucsburl, headers={'user-agent': 'Mozilla/5.0'})\n",
    "soup = BeautifulSoup(ucsbPage.content, 'html.parser')"
   ]
  },
  {
   "cell_type": "code",
   "execution_count": 3,
   "id": "15235944",
   "metadata": {},
   "outputs": [],
   "source": [
    "# <div class=\"WordSection1\">\n",
    "timeline = soup.find('div', {'class':'WordSection1'})"
   ]
  },
  {
   "cell_type": "code",
   "execution_count": 4,
   "id": "3846bdab",
   "metadata": {},
   "outputs": [],
   "source": [
    "# Example event\n",
    "#<tr>\n",
    "#<td style=\"border:none; border-bottom:solid #43b4e0 1.0pt; width:125.05pt; padding:0in 5.4pt 0in 5.4pt\" valign=\"top\" width=\"167\">\n",
    "#  <p align=\"center\" style=\"margin-top:3.0pt; margin-right:0in; margin-bottom:3.0pt; margin-left:0in; text-align:center\">\n",
    "#  <span lang=\"EN-GB\" style=\"font-size:12.0pt\" xml:lang=\"EN-GB\">\n",
    "#    <span style=\"color:black\">1/22/2009</span>\n",
    "#  </span>\n",
    "#  </p>\n",
    "#</td>\n",
    "#<td style=\"border:none; border-bottom:solid #43b4e0 1.0pt; width:299.45pt; padding:0in 5.4pt 0in 5.4pt\" valign=\"top\" width=\"399\">\n",
    "#  <p style=\"margin-top:3.0pt; margin-right:0in; margin-bottom:3.0pt; margin-left:0in\">\n",
    "#    <span style=\"font-size:12.0pt\">\n",
    "#      <a href=\"https://www.presidency.ucsb.edu/documents/executive-order-13491-ensuring-lawful-interrogations\">Executive Order 13491, Ensuring Lawful Interrogations</a>.  Directs that detainees in armed conflict shall be treated humanely and not be subject “to violence to life and person” or “outrages to personal dignity.”\n",
    "#    </span>\n",
    "#  </p>\n",
    "#</td>\n",
    "#</tr>\n"
   ]
  },
  {
   "cell_type": "code",
   "execution_count": 5,
   "id": "ccc44eec",
   "metadata": {},
   "outputs": [
    {
     "data": {
      "text/plain": [
       "142"
      ]
     },
     "execution_count": 5,
     "metadata": {},
     "output_type": "execute_result"
    }
   ],
   "source": [
    "# Date: <span lang=\"EN-GB\" style=\"font-size:12.0pt\" xml:lang=\"EN-GB\"><span style=\"color:black\">1/22/2009</span></span>\n",
    "# Event: \n",
    "\n",
    "dates = [x.find('span', {'style': 'color:black'}).text for x in timeline.find_all('td', {'width': '167'}) if len(x.find('span', {'style': 'color:black'}).text)>4]\n",
    "len(dates)"
   ]
  },
  {
   "cell_type": "markdown",
   "id": "58f0e54e",
   "metadata": {},
   "source": [
    "<A HREF=\"https://docs.python.org/3/library/datetime.html#datetime.date\">Python datetime documentation</A><BR>\n",
    "<A HREF=\"https://docs.python.org/3/library/datetime.html#strftime-and-strptime-format-codes\">Format codes</A>"
   ]
  },
  {
   "cell_type": "code",
   "execution_count": 6,
   "id": "5d8ccf24",
   "metadata": {},
   "outputs": [
    {
     "data": {
      "text/plain": [
       "'01/20/2009'"
      ]
     },
     "execution_count": 6,
     "metadata": {},
     "output_type": "execute_result"
    }
   ],
   "source": [
    "# type(dates[2]) = str\n",
    "dates[2]\n",
    "# mm/dd/YYYY"
   ]
  },
  {
   "cell_type": "code",
   "execution_count": 7,
   "id": "5487d9a3",
   "metadata": {},
   "outputs": [
    {
     "data": {
      "text/plain": [
       "142"
      ]
     },
     "execution_count": 7,
     "metadata": {},
     "output_type": "execute_result"
    }
   ],
   "source": [
    "cleanDates = []\n",
    "for x in dates:\n",
    "    try:\n",
    "        cleanDates.append(datetime.strptime(x, '%m/%d/%Y').strftime(\"%d/%m/%Y\"))\n",
    "    except:\n",
    "        try:\n",
    "            cleanDates.append(datetime.strptime(x, '0%m/%d/%Y').strftime(\"%d/%m/%Y\"))\n",
    "        except:\n",
    "            try:\n",
    "                cleanDates.append(datetime.strptime(x[0:10], '%m/%d/%Y').strftime(\"%d/%m/%Y\"))\n",
    "            except:\n",
    "                cleanDates.append(datetime.strptime(x[0:10], '%m/%d-%Y').strftime(\"%d/%m/%Y\"))\n",
    "len(cleanDates)"
   ]
  },
  {
   "cell_type": "code",
   "execution_count": 8,
   "id": "16267171",
   "metadata": {},
   "outputs": [
    {
     "data": {
      "text/plain": [
       "142"
      ]
     },
     "execution_count": 8,
     "metadata": {},
     "output_type": "execute_result"
    }
   ],
   "source": [
    "# Event: \n",
    "\n",
    "links = [x.find('a',href=True)['href'] for x in timeline.find_all('td', {'width': '399'}) if x.find('a') is not None]\n",
    "len(links)"
   ]
  },
  {
   "cell_type": "code",
   "execution_count": 9,
   "id": "99f10c8c",
   "metadata": {},
   "outputs": [
    {
     "data": {
      "text/plain": [
       "142"
      ]
     },
     "execution_count": 9,
     "metadata": {},
     "output_type": "execute_result"
    }
   ],
   "source": [
    "#font-size:12.0pt\n",
    "descriptions = [x.find('span', {'style': 'font-size:12.0pt'}).text for x in timeline.find_all('td', {'width': '399'}) if x.find('a') is not None]\n",
    "len(descriptions)"
   ]
  },
  {
   "cell_type": "code",
   "execution_count": 10,
   "id": "b8c9eb9a",
   "metadata": {},
   "outputs": [],
   "source": [
    "metadata=list(zip(cleanDates, links, descriptions))"
   ]
  },
  {
   "cell_type": "code",
   "execution_count": 11,
   "id": "bbbd4a2b",
   "metadata": {},
   "outputs": [],
   "source": [
    "df = pd.DataFrame(metadata)\n",
    "df.to_csv('ucsb_metadata.csv', encoding='utf-8', header=False, index=False)"
   ]
  },
  {
   "cell_type": "markdown",
   "id": "01a31dbb",
   "metadata": {},
   "source": [
    "<A HREF=\"https://beautiful-soup-4.readthedocs.io/en/latest/\">Beautiful Soup Documentation</A>"
   ]
  },
  {
   "cell_type": "code",
   "execution_count": 12,
   "id": "4e3edb80",
   "metadata": {},
   "outputs": [
    {
     "name": "stdout",
     "output_type": "stream",
     "text": [
      "DataUCSB folder already exists.\n"
     ]
    }
   ],
   "source": [
    "# Check if Data and associated folders exist for saving speech CSVs to.\n",
    "# https://djangocentral.com/check-if-a-directory-exists-if-not-create-it/\n",
    "\n",
    "MYDIRS = [\"DataUCSB\"]\n",
    "\n",
    "# If folder doesn't exist, then create it.\n",
    "for MYDIR in MYDIRS:\n",
    "    CHECK_FOLDER = os.path.isdir(MYDIR)\n",
    "    if CHECK_FOLDER:\n",
    "        print(MYDIR, \"folder already exists.\")\n",
    "    else:\n",
    "        os.makedirs(MYDIR)\n",
    "        print(\"created folder : \", MYDIR)"
   ]
  },
  {
   "cell_type": "code",
   "execution_count": 13,
   "id": "9b947002",
   "metadata": {},
   "outputs": [
    {
     "name": "stdout",
     "output_type": "stream",
     "text": [
      "'NoneType' object has no attribute 'find_all' https://www.presidency.ucsb.edu/statistics/elections/2008\n",
      "'NoneType' object has no attribute 'find_all' https://www.presidency.ucsb.edu/statistics/elections/2012\n",
      "HTTPSConnectionPool(host='www.presidency.ucsb.edu', port=443): Max retries exceeded with url: /documents/remarks-georgetown-university-4 (Caused by NewConnectionError('<urllib3.connection.HTTPSConnection object at 0x000001B10537FFA0>: Failed to establish a new connection: [WinError 10060] A connection attempt failed because the connected party did not properly respond after a period of time, or established connection failed because connected host has failed to respond')) https://www.presidency.ucsb.edu/documents/remarks-georgetown-university-4\n",
      "[Errno 22] Invalid argument: 'DataUCSB/12-307?_escaped_fragment_=&_escaped_fragment_=.csv' https://www.oyez.org/cases/2012/12-307?_escaped_fragment_=&_escaped_fragment_=\n",
      "'NoneType' object has no attribute 'find_all' https://www.presidency.ucsb.edu/statistics/data/seats-congress-gainedlost-the-presidents-party-mid-term-elections\n",
      "'NoneType' object has no attribute 'find_all' https://www.presidency.ucsb.edu/documents/remarks-the-democratic-national-convention-philadelphia-pennsylvania-1\n",
      "'NoneType' object has no attribute 'find_all' https://www.presidency.ucsb.edu/statistics/elections/2016\n"
     ]
    }
   ],
   "source": [
    "for speechlink in links:\n",
    "    # check if this is a ucsb presidency link, there are a couple other sites, don't feel like parsing them now.\n",
    "    if 'www.presidency.ucsb.edu' in speechlink:\n",
    "        try:\n",
    "            speechPage = requests.get(speechlink, headers={'user-agent': 'Mozilla/5.0'})\n",
    "        except Exception as e:\n",
    "            print(e, speechlink)\n",
    "            continue # skip this page and go back to beginning of for loop\n",
    "        speechsoup = BeautifulSoup(speechPage.content, 'html.parser')\n",
    "\n",
    "    # speech text is in <div class=\"field-docs-content\">\n",
    "    try:\n",
    "        speechHTML = speechsoup.find('div', {'class':'field-docs-content'})\n",
    "        # Each paragraph is in <p> ... </p>, then remove all html tags, including <em>...</em>\n",
    "        speechCSV = [re.sub('\\<.*?\\>', '', str(x)) for x in speechHTML.find_all('p') if speechHTML is not None]\n",
    "        df = pd.DataFrame(speechCSV)\n",
    "        # filename is everything to left of all / in speechlink\n",
    "        filename = 'DataUCSB/' + re.sub(\"((.*)[\\/])\", \"\", speechlink) + '.csv'\n",
    "        df.to_csv(filename, encoding='utf-8', header=False, index=False)\n",
    "    except Exception as e:\n",
    "        print(e, speechlink)\n",
    "    time.sleep(3) # trying to be nice here!"
   ]
  },
  {
   "cell_type": "code",
   "execution_count": null,
   "id": "15e45eac",
   "metadata": {},
   "outputs": [],
   "source": []
  }
 ],
 "metadata": {
  "kernelspec": {
   "display_name": "Python 3 (ipykernel)",
   "language": "python",
   "name": "python3"
  },
  "language_info": {
   "codemirror_mode": {
    "name": "ipython",
    "version": 3
   },
   "file_extension": ".py",
   "mimetype": "text/x-python",
   "name": "python",
   "nbconvert_exporter": "python",
   "pygments_lexer": "ipython3",
   "version": "3.9.2"
  }
 },
 "nbformat": 4,
 "nbformat_minor": 5
}
