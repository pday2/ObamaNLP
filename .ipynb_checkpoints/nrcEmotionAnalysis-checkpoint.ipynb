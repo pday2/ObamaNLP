{
 "cells": [
  {
   "cell_type": "markdown",
   "id": "842c05ba",
   "metadata": {},
   "source": [
    "<A HREF=\"https://www.geeksforgeeks.org/emotion-classification-using-nrc-lexicon-in-python/\">G4G Emotion Classification using NRC Lexicon</A><P>\n",
    "    <A HREF=\"https://github.com/metalcorebear/NRCLex\">NRC Lexicon</A>"
   ]
  },
  {
   "cell_type": "code",
   "execution_count": 36,
   "id": "a0fd5c96",
   "metadata": {},
   "outputs": [],
   "source": [
    "#!pip3 install NRCLex\n",
    "#!python3 -m textblob.download_corpora"
   ]
  },
  {
   "cell_type": "code",
   "execution_count": 4,
   "id": "ac790ce0",
   "metadata": {},
   "outputs": [],
   "source": [
    "import requests\n",
    "import re\n",
    "import pandas as pd\n",
    "from bs4 import BeautifulSoup\n",
    "import os # to check if directory exists and create it if it doesn't\n",
    "from datetime import datetime # to parse speech date\n",
    "from nrclex import NRCLex"
   ]
  },
  {
   "cell_type": "code",
   "execution_count": 26,
   "id": "d0df44a2",
   "metadata": {},
   "outputs": [],
   "source": [
    "# Load up the files\n",
    "#path = './DataUCSB/'\n",
    "#path = './Data/'\n",
    "#list_of_files = []\n",
    "\n",
    "#for root, dirs, files in os.walk(path):\n",
    "#    for file in files:\n",
    "#        if file.endswith('.txt'):\n",
    "#            list_of_files.append(os.path.join(root,file))\n",
    "\n",
    "list_of_files = ['./NYTimes/11-07-2012-ObamaWinsRe-election.txt', './WSJ/11-07-2012-ObamaWinsRe-election.txt', \n",
    "                './Data/barackobamasecondpresidentialvictoryspeech.txt']\n",
    "speeches = []\n",
    "for file in list_of_files:\n",
    "    with open(file, encoding='utf-8') as f:\n",
    "        text = f.read()\n",
    "    speeches.append(text)"
   ]
  },
  {
   "cell_type": "code",
   "execution_count": 31,
   "id": "016f5624",
   "metadata": {},
   "outputs": [],
   "source": [
    "emotions = []\n",
    "for i in range(len(speeches)):\n",
    "    emotions.append(NRCLex(speeches[i]))"
   ]
  },
  {
   "cell_type": "code",
   "execution_count": 32,
   "id": "29b06e81",
   "metadata": {},
   "outputs": [
    {
     "data": {
      "text/plain": [
       "[<nrclex.NRCLex at 0x7ff0f791a3b0>,\n",
       " <nrclex.NRCLex at 0x7ff0f7533be0>,\n",
       " <nrclex.NRCLex at 0x7ff0f7530f10>]"
      ]
     },
     "execution_count": 32,
     "metadata": {},
     "output_type": "execute_result"
    }
   ],
   "source": [
    "emotions"
   ]
  },
  {
   "cell_type": "markdown",
   "id": "1a84ed50",
   "metadata": {},
   "source": [
    "Sr.\tMethod\tDescription<BR>\n",
    "1\temotion.words \t        Return words list.<BR>\n",
    "2\temotion.sentences\t     Return sentences list.<BR>\n",
    "3\temotion.affect_list\tReturn affect list.<BR>\n",
    "4\temotion.affect_dict\tReturn affect dictionary.<BR>\n",
    "5\temotion.raw_emotion_scores\tReturn raw emotional counts.<BR>\n",
    "6\temotion.top_emotions\tReturn highest emotions.<BR>\n",
    "7\temotion.affect_frequencies\tReturn affect frequencies.<BR>"
   ]
  },
  {
   "cell_type": "code",
   "execution_count": 33,
   "id": "8faf153b",
   "metadata": {},
   "outputs": [
    {
     "data": {
      "text/plain": [
       "[{'fear': 0.03864734299516908,\n",
       "  'anger': 0.043478260869565216,\n",
       "  'anticip': 0.0,\n",
       "  'trust': 0.1956521739130435,\n",
       "  'surprise': 0.057971014492753624,\n",
       "  'positive': 0.28019323671497587,\n",
       "  'negative': 0.07971014492753623,\n",
       "  'sadness': 0.04589371980676329,\n",
       "  'disgust': 0.024154589371980676,\n",
       "  'joy': 0.0966183574879227,\n",
       "  'anticipation': 0.13768115942028986},\n",
       " {'fear': 0.04896907216494845,\n",
       "  'anger': 0.05154639175257732,\n",
       "  'anticip': 0.0,\n",
       "  'trust': 0.19072164948453607,\n",
       "  'surprise': 0.030927835051546393,\n",
       "  'positive': 0.26804123711340205,\n",
       "  'negative': 0.13659793814432988,\n",
       "  'sadness': 0.06701030927835051,\n",
       "  'disgust': 0.020618556701030927,\n",
       "  'joy': 0.09020618556701031,\n",
       "  'anticipation': 0.09536082474226804},\n",
       " {'fear': 0.061895551257253385,\n",
       "  'anger': 0.05609284332688588,\n",
       "  'anticip': 0.0,\n",
       "  'trust': 0.15087040618955513,\n",
       "  'surprise': 0.048355899419729204,\n",
       "  'positive': 0.2688588007736944,\n",
       "  'negative': 0.10638297872340426,\n",
       "  'sadness': 0.04448742746615087,\n",
       "  'disgust': 0.015473887814313346,\n",
       "  'joy': 0.1276595744680851,\n",
       "  'anticipation': 0.11992263056092843}]"
      ]
     },
     "execution_count": 33,
     "metadata": {},
     "output_type": "execute_result"
    }
   ],
   "source": [
    "[emotion.affect_frequencies for emotion in emotions] "
   ]
  },
  {
   "cell_type": "code",
   "execution_count": null,
   "id": "c990125a",
   "metadata": {},
   "outputs": [],
   "source": []
  },
  {
   "cell_type": "code",
   "execution_count": null,
   "id": "2d3c0939",
   "metadata": {},
   "outputs": [],
   "source": []
  }
 ],
 "metadata": {
  "kernelspec": {
   "display_name": "Python 3 (ipykernel)",
   "language": "python",
   "name": "python3"
  },
  "language_info": {
   "codemirror_mode": {
    "name": "ipython",
    "version": 3
   },
   "file_extension": ".py",
   "mimetype": "text/x-python",
   "name": "python",
   "nbconvert_exporter": "python",
   "pygments_lexer": "ipython3",
   "version": "3.10.6"
  }
 },
 "nbformat": 4,
 "nbformat_minor": 5
}
