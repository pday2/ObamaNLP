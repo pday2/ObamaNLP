{
 "cells": [
  {
   "cell_type": "markdown",
   "id": "842c05ba",
   "metadata": {},
   "source": [
    "<A HREF=\"https://www.geeksforgeeks.org/emotion-classification-using-nrc-lexicon-in-python/\">G4G Emotion Classification using NRC Lexicon</A><P>\n",
    "    <A HREF=\"https://github.com/metalcorebear/NRCLex\">NRC Lexicon</A>"
   ]
  },
  {
   "cell_type": "code",
   "execution_count": 36,
   "id": "a0fd5c96",
   "metadata": {},
   "outputs": [],
   "source": [
    "#!pip3 install NRCLex\n",
    "#!python3 -m textblob.download_corpora"
   ]
  },
  {
   "cell_type": "code",
   "execution_count": 3,
   "id": "ac790ce0",
   "metadata": {},
   "outputs": [],
   "source": [
    "import requests\n",
    "import re\n",
    "import pandas as pd\n",
    "from bs4 import BeautifulSoup\n",
    "import os # to check if directory exists and create it if it doesn't\n",
    "from datetime import datetime # to parse speech date\n",
    "from nrclex import NRCLex"
   ]
  },
  {
   "cell_type": "code",
   "execution_count": 4,
   "id": "d0df44a2",
   "metadata": {},
   "outputs": [],
   "source": [
    "# Load up the files\n",
    "#path = './DataUCSB/'\n",
    "#path = './Data/'\n",
    "#list_of_files = []\n",
    "\n",
    "#for root, dirs, files in os.walk(path):\n",
    "#    for file in files:\n",
    "#        if file.endswith('.txt'):\n",
    "#            list_of_files.append(os.path.join(root,file))\n",
    "\n",
    "list_of_files = ['./NYTimes/04-16-2013-BostonMarathon.txt', './WSJ/04-16-2013-BostonMarathon.txt', \n",
    "                './Data/barackobamabostonmarathonexplosionsfirststatement.txt']\n",
    "speeches = []\n",
    "for file in list_of_files:\n",
    "    with open(file, encoding='utf-8') as f:\n",
    "        text = f.read()\n",
    "    speeches.append(text)"
   ]
  },
  {
   "cell_type": "code",
   "execution_count": 5,
   "id": "016f5624",
   "metadata": {},
   "outputs": [],
   "source": [
    "emotions = []\n",
    "for i in range(len(speeches)):\n",
    "    emotions.append(NRCLex(speeches[i]))"
   ]
  },
  {
   "cell_type": "code",
   "execution_count": 6,
   "id": "29b06e81",
   "metadata": {},
   "outputs": [
    {
     "data": {
      "text/plain": [
       "[<nrclex.NRCLex at 0x7fcb684e0e50>,\n",
       " <nrclex.NRCLex at 0x7fcbaf7779d0>,\n",
       " <nrclex.NRCLex at 0x7fcb684e08e0>]"
      ]
     },
     "execution_count": 6,
     "metadata": {},
     "output_type": "execute_result"
    }
   ],
   "source": [
    "emotions"
   ]
  },
  {
   "cell_type": "markdown",
   "id": "1a84ed50",
   "metadata": {},
   "source": [
    "Sr.\tMethod\tDescription<BR>\n",
    "1\temotion.words \t        Return words list.<BR>\n",
    "2\temotion.sentences\t     Return sentences list.<BR>\n",
    "3\temotion.affect_list\tReturn affect list.<BR>\n",
    "4\temotion.affect_dict\tReturn affect dictionary.<BR>\n",
    "5\temotion.raw_emotion_scores\tReturn raw emotional counts.<BR>\n",
    "6\temotion.top_emotions\tReturn highest emotions.<BR>\n",
    "7\temotion.affect_frequencies\tReturn affect frequencies.<BR>"
   ]
  },
  {
   "cell_type": "code",
   "execution_count": 7,
   "id": "8faf153b",
   "metadata": {},
   "outputs": [
    {
     "data": {
      "text/plain": [
       "[{'fear': 0.16216216216216217,\n",
       "  'anger': 0.11056511056511056,\n",
       "  'anticip': 0.0,\n",
       "  'trust': 0.11547911547911548,\n",
       "  'surprise': 0.07125307125307126,\n",
       "  'positive': 0.11302211302211303,\n",
       "  'negative': 0.1891891891891892,\n",
       "  'sadness': 0.08353808353808354,\n",
       "  'disgust': 0.036855036855036855,\n",
       "  'joy': 0.03194103194103194,\n",
       "  'anticipation': 0.085995085995086},\n",
       " {'fear': 0.17209302325581396,\n",
       "  'anger': 0.08837209302325581,\n",
       "  'anticip': 0.0,\n",
       "  'trust': 0.11162790697674418,\n",
       "  'surprise': 0.06511627906976744,\n",
       "  'positive': 0.11162790697674418,\n",
       "  'negative': 0.19534883720930232,\n",
       "  'sadness': 0.08837209302325581,\n",
       "  'disgust': 0.05116279069767442,\n",
       "  'joy': 0.04186046511627907,\n",
       "  'anticipation': 0.07441860465116279},\n",
       " {'fear': 0.07766990291262135,\n",
       "  'anger': 0.019417475728155338,\n",
       "  'anticip': 0.0,\n",
       "  'trust': 0.20388349514563106,\n",
       "  'surprise': 0.019417475728155338,\n",
       "  'positive': 0.3300970873786408,\n",
       "  'negative': 0.10679611650485436,\n",
       "  'sadness': 0.06796116504854369,\n",
       "  'disgust': 0.019417475728155338,\n",
       "  'joy': 0.08737864077669903,\n",
       "  'anticipation': 0.06796116504854369}]"
      ]
     },
     "execution_count": 7,
     "metadata": {},
     "output_type": "execute_result"
    }
   ],
   "source": [
    "[emotion.affect_frequencies for emotion in emotions] "
   ]
  },
  {
   "cell_type": "code",
   "execution_count": 8,
   "id": "c990125a",
   "metadata": {},
   "outputs": [],
   "source": [
    "import matplotlib as plt"
   ]
  },
  {
   "cell_type": "markdown",
   "id": "cebe47e8",
   "metadata": {},
   "source": [
    "<A HREF=\"https://matplotlib.org/cheatsheets/\">Matplotlib cheat sheets</A>"
   ]
  },
  {
   "cell_type": "code",
   "execution_count": null,
   "id": "2d3c0939",
   "metadata": {},
   "outputs": [],
   "source": []
  }
 ],
 "metadata": {
  "kernelspec": {
   "display_name": "Python 3 (ipykernel)",
   "language": "python",
   "name": "python3"
  },
  "language_info": {
   "codemirror_mode": {
    "name": "ipython",
    "version": 3
   },
   "file_extension": ".py",
   "mimetype": "text/x-python",
   "name": "python",
   "nbconvert_exporter": "python",
   "pygments_lexer": "ipython3",
   "version": "3.10.6"
  }
 },
 "nbformat": 4,
 "nbformat_minor": 5
}
