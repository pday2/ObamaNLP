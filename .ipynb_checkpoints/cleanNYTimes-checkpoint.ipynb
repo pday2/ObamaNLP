{
 "cells": [
  {
   "cell_type": "code",
   "execution_count": 1,
   "id": "287183d8",
   "metadata": {},
   "outputs": [],
   "source": [
    "import requests\n",
    "import re\n",
    "import pandas as pd\n",
    "from bs4 import BeautifulSoup\n",
    "import os # to check if directory exists and create it if it doesn't\n",
    "from datetime import datetime # to parse speech date"
   ]
  },
  {
   "cell_type": "code",
   "execution_count": 138,
   "id": "287d5e86",
   "metadata": {},
   "outputs": [],
   "source": [
    "filename = \".txt\""
   ]
  },
  {
   "cell_type": "code",
   "execution_count": 139,
   "id": "94ba029c",
   "metadata": {},
   "outputs": [],
   "source": [
    "text1 = \"\"\"\n",
    "\n",
    "\"\"\""
   ]
  },
  {
   "cell_type": "code",
   "execution_count": 140,
   "id": "a6a74823",
   "metadata": {},
   "outputs": [],
   "source": [
    "text1 = \"\"\"\n",
    "\n",
    "\"\"\""
   ]
  },
  {
   "cell_type": "code",
   "execution_count": 141,
   "id": "b2ea2db4",
   "metadata": {},
   "outputs": [],
   "source": [
    "#text_after = re.sub(regex_search_term, regex_replacement, text_before)\n",
    "clean = text1.replace(\"''\", \"\\\"\").strip()"
   ]
  },
  {
   "cell_type": "code",
   "execution_count": 142,
   "id": "653a7119",
   "metadata": {},
   "outputs": [],
   "source": [
    "with open('./NYTimes/'+filename, 'w') as f:\n",
    "    f.write(clean)\n",
    "f.close()"
   ]
  },
  {
   "cell_type": "markdown",
   "id": "45970a62",
   "metadata": {},
   "source": [
    "<A HREF=\"https://en.wikipedia.org/wiki/Timeline_of_the_Barack_Obama_presidency\">Wikipedia Presidency Timeline</A><BR>\n",
    "<A HREF=\"https://www.americanrhetoric.com/barackobamaspeeches.htm\">American Rhetoric Speeches</A><BR>\n",
    "<A HREF=\"https://advance-lexis-com.kuleuven.e-bronnen.be/search/?pdmfid=1516831&crid=21f59734-96d9-439d-a9d9-8b1b90e25d9a&pdsearchterms=iraq&pdstartin=hlct%3A1%3A1&pdtypeofsearch=searchboxclick&pdsearchtype=SearchBox&pdqttype=and&pdsf=MTA2OTUwNQ%3D%3D~%5Enews~%5EThe%2520New%2520York%2520Times&pdquerytemplateid=&ecomp=zb4yk&earg=pdsf&prid=2dd3a786-e9bd-4eae-a0ed-f71e4927bba2\">NYTimes Nexis Uni search</A><BR>"
   ]
  },
  {
   "cell_type": "code",
   "execution_count": null,
   "id": "c0128755",
   "metadata": {},
   "outputs": [],
   "source": []
  }
 ],
 "metadata": {
  "kernelspec": {
   "display_name": "Python 3 (ipykernel)",
   "language": "python",
   "name": "python3"
  },
  "language_info": {
   "codemirror_mode": {
    "name": "ipython",
    "version": 3
   },
   "file_extension": ".py",
   "mimetype": "text/x-python",
   "name": "python",
   "nbconvert_exporter": "python",
   "pygments_lexer": "ipython3",
   "version": "3.9.2"
  }
 },
 "nbformat": 4,
 "nbformat_minor": 5
}
