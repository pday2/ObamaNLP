{
 "cells": [
  {
   "cell_type": "markdown",
   "id": "1fd9d49e",
   "metadata": {},
   "source": [
    "This notebook scrapes the timelines <A HREF=\"https://en.wikipedia.org/wiki/Timeline_of_the_Barack_Obama_presidency\">found on Wikipedia</A> and saves each year as a csv with fields: data, event"
   ]
  },
  {
   "cell_type": "code",
   "execution_count": 1,
   "id": "91bc3b0f",
   "metadata": {},
   "outputs": [],
   "source": [
    "# The usual suspects...\n",
    "import requests\n",
    "import re\n",
    "import pandas as pd\n",
    "from bs4 import BeautifulSoup\n",
    "import time # avoid swamping the americanrhetoric website\n",
    "import os # to check if directory exists and create it if it doesn't\n",
    "from datetime import date, datetime # to parse speech date"
   ]
  },
  {
   "cell_type": "code",
   "execution_count": 2,
   "id": "78602c3f",
   "metadata": {},
   "outputs": [
    {
     "name": "stdout",
     "output_type": "stream",
     "text": [
      "DataWiki folder already exists.\n",
      "created folder :  USATimeline\n"
     ]
    }
   ],
   "source": [
    "# Check if Data and associated folders exist for saving speech CSVs to.\n",
    "# https://djangocentral.com/check-if-a-directory-exists-if-not-create-it/\n",
    "\n",
    "MYDIRS = [\"DataWiki\", \"USATimeline\"]\n",
    "\n",
    "# If folder doesn't exist, then create it.\n",
    "for MYDIR in MYDIRS:\n",
    "    CHECK_FOLDER = os.path.isdir(MYDIR)\n",
    "    if CHECK_FOLDER:\n",
    "        print(MYDIR, \"folder already exists.\")\n",
    "    else:\n",
    "        os.makedirs(MYDIR)\n",
    "        print(\"created folder : \", MYDIR)"
   ]
  },
  {
   "cell_type": "code",
   "execution_count": 119,
   "id": "85d5c612",
   "metadata": {},
   "outputs": [
    {
     "name": "stdout",
     "output_type": "stream",
     "text": [
      "2009 saved!\n",
      "2010 saved!\n",
      "2011 saved!\n",
      "2012 saved!\n",
      "2013 saved!\n",
      "2014 saved!\n",
      "2015 saved!\n",
      "2016 saved!\n"
     ]
    }
   ],
   "source": [
    "# Barack Obama Presidential timeline\n",
    "url = 'https://en.wikipedia.org/wiki/Timeline_of_the_Barack_Obama_presidency_(2011)'\n",
    "links = []\n",
    "for year in range(2009, 2017):\n",
    "    if year==2016:\n",
    "        links.append('https://en.wikipedia.org/wiki/Timeline_of_the_Barack_Obama_presidency_(2016%E2%80%932017)')\n",
    "    else:\n",
    "        links.append('https://en.wikipedia.org/wiki/Timeline_of_the_Barack_Obama_presidency_('+str(year)+')')\n",
    "for url in links:\n",
    "    try:\n",
    "        page = requests.get(url, headers={'user-agent': 'Mozilla/5.0'})\n",
    "    except Exception as e:\n",
    "        print(e, speechlink)\n",
    "        #continue # skip this page and go back to beginning of for loop\n",
    "    soup = BeautifulSoup(page.content, 'html.parser')\n",
    "    year = re.search('(20[0-9]+)', soup.title.text).group(0)\n",
    "    months = ['January', 'February', 'March', 'April', 'May', 'June', 'July', 'August', 'September', 'October', 'November', 'December']\n",
    "    li_tags = [x for x in soup.find_all('li') if (soup.find_all('li') is not None) and (x.find('b') is not None)]\n",
    "    tmptimeline = [y.text for y in li_tags if y.text.split(' ')[0] in months]\n",
    "    timeline = [re.sub('^(.*?)[\\–|−|-|—|-]\\s', '', x) for x in tmptimeline]\n",
    "    # regex to grab everything to left of first – : ^[^–]*\n",
    "    # note – is not -  I don't think my keyboard has –\n",
    "    # turns out there are three different –,−,- floating around, yeah first two are different!S\n",
    "    # search finds matching text, group(0) returns all of the matching text, .rstrip() removes training space\n",
    "    # re.search(\"^[^–]*\", txt).group(0)\n",
    "    dates = [ re.search(\"^[^–|−|-|—|-]*\", txt).group(0).rstrip()+', '+ year for txt in tmptimeline]\n",
    "    cleanDates = [datetime.strptime(date, '%B %d, %Y').strftime(\"%d/%m/%Y\") for date in dates]\n",
    "    # combine dates and timeline into a df and save as csv\n",
    "    metadata=list(zip(cleanDates, timeline))\n",
    "    df = pd.DataFrame(metadata)\n",
    "    df.to_csv('DataWiki/' + 'wiki_timeline_'+year+'.csv', encoding='utf-8', header=False, index=False)\n",
    "    print(year,\"saved!\")\n",
    "    time.sleep(3)"
   ]
  },
  {
   "cell_type": "code",
   "execution_count": 10,
   "id": "e9aa248e",
   "metadata": {},
   "outputs": [
    {
     "ename": "ValueError",
     "evalue": "time data 'January 19\\nU.S. Senator John Kerry (D, 2004' does not match format '%B %d, %Y'",
     "output_type": "error",
     "traceback": [
      "\u001b[0;31m---------------------------------------------------------------------------\u001b[0m",
      "\u001b[0;31mValueError\u001b[0m                                Traceback (most recent call last)",
      "Input \u001b[0;32mIn [10]\u001b[0m, in \u001b[0;36m<cell line: 6>\u001b[0;34m()\u001b[0m\n\u001b[1;32m     18\u001b[0m \u001b[38;5;66;03m# regex to grab everything to left of first – : ^[^–]*\u001b[39;00m\n\u001b[1;32m     19\u001b[0m \u001b[38;5;66;03m# note – is not -  I don't think my keyboard has –\u001b[39;00m\n\u001b[1;32m     20\u001b[0m \u001b[38;5;66;03m# turns out there are three different –,−,- floating around, yeah first two are different!S\u001b[39;00m\n\u001b[1;32m     21\u001b[0m \u001b[38;5;66;03m# search finds matching text, group(0) returns all of the matching text, .rstrip() removes training space\u001b[39;00m\n\u001b[1;32m     22\u001b[0m \u001b[38;5;66;03m# re.search(\"^[^–]*\", txt).group(0)\u001b[39;00m\n\u001b[1;32m     23\u001b[0m dates \u001b[38;5;241m=\u001b[39m [ re\u001b[38;5;241m.\u001b[39msearch(\u001b[38;5;124m\"\u001b[39m\u001b[38;5;124m^[^–|−|-|—|-]*\u001b[39m\u001b[38;5;124m\"\u001b[39m, txt)\u001b[38;5;241m.\u001b[39mgroup(\u001b[38;5;241m0\u001b[39m)\u001b[38;5;241m.\u001b[39mrstrip()\u001b[38;5;241m+\u001b[39m\u001b[38;5;124m'\u001b[39m\u001b[38;5;124m, \u001b[39m\u001b[38;5;124m'\u001b[39m\u001b[38;5;241m+\u001b[39m year \u001b[38;5;28;01mfor\u001b[39;00m txt \u001b[38;5;129;01min\u001b[39;00m tmptimeline]\n\u001b[0;32m---> 24\u001b[0m cleanDates \u001b[38;5;241m=\u001b[39m [datetime\u001b[38;5;241m.\u001b[39mstrptime(date, \u001b[38;5;124m'\u001b[39m\u001b[38;5;124m%\u001b[39m\u001b[38;5;124mB \u001b[39m\u001b[38;5;132;01m%d\u001b[39;00m\u001b[38;5;124m, \u001b[39m\u001b[38;5;124m%\u001b[39m\u001b[38;5;124mY\u001b[39m\u001b[38;5;124m'\u001b[39m)\u001b[38;5;241m.\u001b[39mstrftime(\u001b[38;5;124m\"\u001b[39m\u001b[38;5;132;01m%d\u001b[39;00m\u001b[38;5;124m/\u001b[39m\u001b[38;5;124m%\u001b[39m\u001b[38;5;124mm/\u001b[39m\u001b[38;5;124m%\u001b[39m\u001b[38;5;124mY\u001b[39m\u001b[38;5;124m\"\u001b[39m) \u001b[38;5;28;01mfor\u001b[39;00m date \u001b[38;5;129;01min\u001b[39;00m dates]\n\u001b[1;32m     25\u001b[0m \u001b[38;5;66;03m# combine dates and timeline into a df and save as csv\u001b[39;00m\n\u001b[1;32m     26\u001b[0m metadata\u001b[38;5;241m=\u001b[39m\u001b[38;5;28mlist\u001b[39m(\u001b[38;5;28mzip\u001b[39m(cleanDates, timeline))\n",
      "Input \u001b[0;32mIn [10]\u001b[0m, in \u001b[0;36m<listcomp>\u001b[0;34m(.0)\u001b[0m\n\u001b[1;32m     18\u001b[0m \u001b[38;5;66;03m# regex to grab everything to left of first – : ^[^–]*\u001b[39;00m\n\u001b[1;32m     19\u001b[0m \u001b[38;5;66;03m# note – is not -  I don't think my keyboard has –\u001b[39;00m\n\u001b[1;32m     20\u001b[0m \u001b[38;5;66;03m# turns out there are three different –,−,- floating around, yeah first two are different!S\u001b[39;00m\n\u001b[1;32m     21\u001b[0m \u001b[38;5;66;03m# search finds matching text, group(0) returns all of the matching text, .rstrip() removes training space\u001b[39;00m\n\u001b[1;32m     22\u001b[0m \u001b[38;5;66;03m# re.search(\"^[^–]*\", txt).group(0)\u001b[39;00m\n\u001b[1;32m     23\u001b[0m dates \u001b[38;5;241m=\u001b[39m [ re\u001b[38;5;241m.\u001b[39msearch(\u001b[38;5;124m\"\u001b[39m\u001b[38;5;124m^[^–|−|-|—|-]*\u001b[39m\u001b[38;5;124m\"\u001b[39m, txt)\u001b[38;5;241m.\u001b[39mgroup(\u001b[38;5;241m0\u001b[39m)\u001b[38;5;241m.\u001b[39mrstrip()\u001b[38;5;241m+\u001b[39m\u001b[38;5;124m'\u001b[39m\u001b[38;5;124m, \u001b[39m\u001b[38;5;124m'\u001b[39m\u001b[38;5;241m+\u001b[39m year \u001b[38;5;28;01mfor\u001b[39;00m txt \u001b[38;5;129;01min\u001b[39;00m tmptimeline]\n\u001b[0;32m---> 24\u001b[0m cleanDates \u001b[38;5;241m=\u001b[39m [\u001b[43mdatetime\u001b[49m\u001b[38;5;241;43m.\u001b[39;49m\u001b[43mstrptime\u001b[49m\u001b[43m(\u001b[49m\u001b[43mdate\u001b[49m\u001b[43m,\u001b[49m\u001b[43m \u001b[49m\u001b[38;5;124;43m'\u001b[39;49m\u001b[38;5;124;43m%\u001b[39;49m\u001b[38;5;124;43mB \u001b[39;49m\u001b[38;5;132;43;01m%d\u001b[39;49;00m\u001b[38;5;124;43m, \u001b[39;49m\u001b[38;5;124;43m%\u001b[39;49m\u001b[38;5;124;43mY\u001b[39;49m\u001b[38;5;124;43m'\u001b[39;49m\u001b[43m)\u001b[49m\u001b[38;5;241m.\u001b[39mstrftime(\u001b[38;5;124m\"\u001b[39m\u001b[38;5;132;01m%d\u001b[39;00m\u001b[38;5;124m/\u001b[39m\u001b[38;5;124m%\u001b[39m\u001b[38;5;124mm/\u001b[39m\u001b[38;5;124m%\u001b[39m\u001b[38;5;124mY\u001b[39m\u001b[38;5;124m\"\u001b[39m) \u001b[38;5;28;01mfor\u001b[39;00m date \u001b[38;5;129;01min\u001b[39;00m dates]\n\u001b[1;32m     25\u001b[0m \u001b[38;5;66;03m# combine dates and timeline into a df and save as csv\u001b[39;00m\n\u001b[1;32m     26\u001b[0m metadata\u001b[38;5;241m=\u001b[39m\u001b[38;5;28mlist\u001b[39m(\u001b[38;5;28mzip\u001b[39m(cleanDates, timeline))\n",
      "File \u001b[0;32m/usr/local/lib/python3.9/_strptime.py:568\u001b[0m, in \u001b[0;36m_strptime_datetime\u001b[0;34m(cls, data_string, format)\u001b[0m\n\u001b[1;32m    565\u001b[0m \u001b[38;5;28;01mdef\u001b[39;00m \u001b[38;5;21m_strptime_datetime\u001b[39m(\u001b[38;5;28mcls\u001b[39m, data_string, \u001b[38;5;28mformat\u001b[39m\u001b[38;5;241m=\u001b[39m\u001b[38;5;124m\"\u001b[39m\u001b[38;5;132;01m%a\u001b[39;00m\u001b[38;5;124m \u001b[39m\u001b[38;5;124m%\u001b[39m\u001b[38;5;124mb \u001b[39m\u001b[38;5;132;01m%d\u001b[39;00m\u001b[38;5;124m \u001b[39m\u001b[38;5;124m%\u001b[39m\u001b[38;5;124mH:\u001b[39m\u001b[38;5;124m%\u001b[39m\u001b[38;5;124mM:\u001b[39m\u001b[38;5;124m%\u001b[39m\u001b[38;5;124mS \u001b[39m\u001b[38;5;124m%\u001b[39m\u001b[38;5;124mY\u001b[39m\u001b[38;5;124m\"\u001b[39m):\n\u001b[1;32m    566\u001b[0m     \u001b[38;5;124;03m\"\"\"Return a class cls instance based on the input string and the\u001b[39;00m\n\u001b[1;32m    567\u001b[0m \u001b[38;5;124;03m    format string.\"\"\"\u001b[39;00m\n\u001b[0;32m--> 568\u001b[0m     tt, fraction, gmtoff_fraction \u001b[38;5;241m=\u001b[39m \u001b[43m_strptime\u001b[49m\u001b[43m(\u001b[49m\u001b[43mdata_string\u001b[49m\u001b[43m,\u001b[49m\u001b[43m \u001b[49m\u001b[38;5;28;43mformat\u001b[39;49m\u001b[43m)\u001b[49m\n\u001b[1;32m    569\u001b[0m     tzname, gmtoff \u001b[38;5;241m=\u001b[39m tt[\u001b[38;5;241m-\u001b[39m\u001b[38;5;241m2\u001b[39m:]\n\u001b[1;32m    570\u001b[0m     args \u001b[38;5;241m=\u001b[39m tt[:\u001b[38;5;241m6\u001b[39m] \u001b[38;5;241m+\u001b[39m (fraction,)\n",
      "File \u001b[0;32m/usr/local/lib/python3.9/_strptime.py:349\u001b[0m, in \u001b[0;36m_strptime\u001b[0;34m(data_string, format)\u001b[0m\n\u001b[1;32m    347\u001b[0m found \u001b[38;5;241m=\u001b[39m format_regex\u001b[38;5;241m.\u001b[39mmatch(data_string)\n\u001b[1;32m    348\u001b[0m \u001b[38;5;28;01mif\u001b[39;00m \u001b[38;5;129;01mnot\u001b[39;00m found:\n\u001b[0;32m--> 349\u001b[0m     \u001b[38;5;28;01mraise\u001b[39;00m \u001b[38;5;167;01mValueError\u001b[39;00m(\u001b[38;5;124m\"\u001b[39m\u001b[38;5;124mtime data \u001b[39m\u001b[38;5;132;01m%r\u001b[39;00m\u001b[38;5;124m does not match format \u001b[39m\u001b[38;5;132;01m%r\u001b[39;00m\u001b[38;5;124m\"\u001b[39m \u001b[38;5;241m%\u001b[39m\n\u001b[1;32m    350\u001b[0m                      (data_string, \u001b[38;5;28mformat\u001b[39m))\n\u001b[1;32m    351\u001b[0m \u001b[38;5;28;01mif\u001b[39;00m \u001b[38;5;28mlen\u001b[39m(data_string) \u001b[38;5;241m!=\u001b[39m found\u001b[38;5;241m.\u001b[39mend():\n\u001b[1;32m    352\u001b[0m     \u001b[38;5;28;01mraise\u001b[39;00m \u001b[38;5;167;01mValueError\u001b[39;00m(\u001b[38;5;124m\"\u001b[39m\u001b[38;5;124munconverted data remains: \u001b[39m\u001b[38;5;132;01m%s\u001b[39;00m\u001b[38;5;124m\"\u001b[39m \u001b[38;5;241m%\u001b[39m\n\u001b[1;32m    353\u001b[0m                       data_string[found\u001b[38;5;241m.\u001b[39mend():])\n",
      "\u001b[0;31mValueError\u001b[0m: time data 'January 19\\nU.S. Senator John Kerry (D, 2004' does not match format '%B %d, %Y'"
     ]
    }
   ],
   "source": [
    "# USA Timeline\n",
    "url = 'https://en.wikipedia.org/wiki/2010_in_the_United_States'\n",
    "links = []\n",
    "for year in range(2004, 2005):\n",
    "    links.append('https://en.wikipedia.org/wiki/'+str(year)+'_in_the_United_States')\n",
    "for url in links:\n",
    "    try:\n",
    "        page = requests.get(url, headers={'user-agent': 'Mozilla/5.0'})\n",
    "    except Exception as e:\n",
    "        print(e, speechlink)\n",
    "        #continue # skip this page and go back to beginning of for loop\n",
    "    soup = BeautifulSoup(page.content, 'html.parser')\n",
    "    year = re.search('(20[0-9]+)', soup.title.text).group(0)\n",
    "    months = ['January', 'February', 'March', 'April', 'May', 'June', 'July', 'August', 'September', 'October', 'November', 'December']\n",
    "    li_tags = [x for x in soup.find_all('li') if (soup.find_all('li') is not None)]\n",
    "    tmptimeline = [y.text for y in li_tags if y.text.split(' ')[0] in months]\n",
    "    timeline = [re.sub('^(.*?)[\\–|−|-|—|-|\\n]\\s', '', x) for x in tmptimeline]\n",
    "    # regex to grab everything to left of first – : ^[^–]*\n",
    "    # note – is not -  I don't think my keyboard has –\n",
    "    # turns out there are three different –,−,- floating around, yeah first two are different!S\n",
    "    # search finds matching text, group(0) returns all of the matching text, .rstrip() removes training space\n",
    "    # re.search(\"^[^–]*\", txt).group(0)\n",
    "    dates = [ re.search(\"^[^–|−|-|—|-|\\n]*\", txt).group(0).rstrip()+', '+ year for txt in tmptimeline]\n",
    "    cleanDates = [datetime.strptime(date, '%B %d, %Y').strftime(\"%d/%m/%Y\") for date in dates]\n",
    "    # combine dates and timeline into a df and save as csv\n",
    "    metadata=list(zip(cleanDates, timeline))\n",
    "    df = pd.DataFrame(metadata)\n",
    "    df.to_csv('USATimeline/' + 'wiki_timeline_'+year+'.csv', encoding='utf-8', header=False, index=False)\n",
    "    print(year,\"saved!\")\n",
    "    time.sleep(3)"
   ]
  },
  {
   "cell_type": "code",
   "execution_count": null,
   "id": "ce3d4b2c",
   "metadata": {},
   "outputs": [],
   "source": []
  }
 ],
 "metadata": {
  "kernelspec": {
   "display_name": "Python 3",
   "language": "python",
   "name": "python3"
  },
  "language_info": {
   "codemirror_mode": {
    "name": "ipython",
    "version": 3
   },
   "file_extension": ".py",
   "mimetype": "text/x-python",
   "name": "python",
   "nbconvert_exporter": "python",
   "pygments_lexer": "ipython3",
   "version": "3.9.10"
  }
 },
 "nbformat": 4,
 "nbformat_minor": 5
}
