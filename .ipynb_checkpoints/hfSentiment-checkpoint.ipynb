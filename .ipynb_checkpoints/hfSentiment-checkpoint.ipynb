{
 "cells": [
  {
   "cell_type": "code",
   "execution_count": 5,
   "id": "a1fdd8fb",
   "metadata": {},
   "outputs": [],
   "source": [
    "import pandas as pd\n",
    "import numpy as np\n",
    "import matplotlib.pyplot as plt\n",
    "import plotly.graph_objects as go # for fancy interactive plot\n",
    "from transformers import pipeline"
   ]
  },
  {
   "cell_type": "code",
   "execution_count": 45,
   "id": "25b49e89",
   "metadata": {},
   "outputs": [],
   "source": [
    "sentiment_pl = pipeline(\"sentiment-analysis\", model=\"distilbert-base-uncased-finetuned-sst-2-english\")"
   ]
  },
  {
   "cell_type": "code",
   "execution_count": 6,
   "id": "4f512bc0",
   "metadata": {},
   "outputs": [
    {
     "data": {
      "text/plain": [
       "(3000, 4)"
      ]
     },
     "execution_count": 6,
     "metadata": {},
     "output_type": "execute_result"
    }
   ],
   "source": [
    "# Load the two data sets needed\n",
    "\n",
    "facetPlotData = pd.read_csv('facetPlotData.csv')\n",
    "df = pd.read_csv('fullEmotionData.csv', encoding='utf_8') # apostrophes aren't being read correctly\n",
    "# Pandas reads date as string, cast to datetime object\n",
    "df['date'] = pd.to_datetime(df['date'], format='%Y-%m-%d')\n",
    "facetPlotData['date'] = pd.to_datetime(facetPlotData['date'], format='%Y-%m-%d')\n",
    "facetPlotData.shape # Should be (3000, 4) "
   ]
  },
  {
   "cell_type": "code",
   "execution_count": 9,
   "id": "3276d436",
   "metadata": {},
   "outputs": [
    {
     "data": {
      "text/html": [
       "<div>\n",
       "<style scoped>\n",
       "    .dataframe tbody tr th:only-of-type {\n",
       "        vertical-align: middle;\n",
       "    }\n",
       "\n",
       "    .dataframe tbody tr th {\n",
       "        vertical-align: top;\n",
       "    }\n",
       "\n",
       "    .dataframe thead th {\n",
       "        text-align: right;\n",
       "    }\n",
       "</style>\n",
       "<table border=\"1\" class=\"dataframe\">\n",
       "  <thead>\n",
       "    <tr style=\"text-align: right;\">\n",
       "      <th></th>\n",
       "      <th>file</th>\n",
       "      <th>text_oba</th>\n",
       "      <th>text_wsj</th>\n",
       "      <th>text_nyt</th>\n",
       "      <th>emo_oba</th>\n",
       "      <th>emo_nyt</th>\n",
       "      <th>emo_wsj</th>\n",
       "      <th>date</th>\n",
       "      <th>obafear</th>\n",
       "      <th>obaanger</th>\n",
       "      <th>...</th>\n",
       "      <th>wsjfear</th>\n",
       "      <th>wsjanger</th>\n",
       "      <th>wsjtrust</th>\n",
       "      <th>wsjsurprise</th>\n",
       "      <th>wsjpositive</th>\n",
       "      <th>wsjnegative</th>\n",
       "      <th>wsjsadness</th>\n",
       "      <th>wsjdisgust</th>\n",
       "      <th>wsjjoy</th>\n",
       "      <th>wsjanticipation</th>\n",
       "    </tr>\n",
       "  </thead>\n",
       "  <tbody>\n",
       "    <tr>\n",
       "      <th>0</th>\n",
       "      <td>2008-06-04-ObamaNomination.txt</td>\n",
       "      <td>Thank you....Thank you. What a -- What a wonde...</td>\n",
       "      <td>Sen. Barack Obama captured enough convention d...</td>\n",
       "      <td>Senator Barack Obama claimed the Democratic pr...</td>\n",
       "      <td>&lt;nrclex.NRCLex object at 0x7f09f2a0eda0&gt;</td>\n",
       "      <td>&lt;nrclex.NRCLex object at 0x7f09e5416260&gt;</td>\n",
       "      <td>&lt;nrclex.NRCLex object at 0x7f09e2782260&gt;</td>\n",
       "      <td>2008-06-04</td>\n",
       "      <td>0.095798</td>\n",
       "      <td>0.055462</td>\n",
       "      <td>...</td>\n",
       "      <td>0.051282</td>\n",
       "      <td>0.036630</td>\n",
       "      <td>0.168498</td>\n",
       "      <td>0.047619</td>\n",
       "      <td>0.326007</td>\n",
       "      <td>0.095238</td>\n",
       "      <td>0.054945</td>\n",
       "      <td>0.025641</td>\n",
       "      <td>0.106227</td>\n",
       "      <td>0.087912</td>\n",
       "    </tr>\n",
       "    <tr>\n",
       "      <th>1</th>\n",
       "      <td>2008-11-05-ObamaElected.txt</td>\n",
       "      <td>Hello, Chicago.\\r\\n\\r\\nIf there is anyone out ...</td>\n",
       "      <td>Sen. Barack Obama was elected the nation's fir...</td>\n",
       "      <td>Barack Hussein Obama was elected the 44th pres...</td>\n",
       "      <td>&lt;nrclex.NRCLex object at 0x7f09f2a0db10&gt;</td>\n",
       "      <td>&lt;nrclex.NRCLex object at 0x7f09e5416350&gt;</td>\n",
       "      <td>&lt;nrclex.NRCLex object at 0x7f09e2782350&gt;</td>\n",
       "      <td>2008-11-05</td>\n",
       "      <td>0.060000</td>\n",
       "      <td>0.037778</td>\n",
       "      <td>...</td>\n",
       "      <td>0.079114</td>\n",
       "      <td>0.063291</td>\n",
       "      <td>0.175633</td>\n",
       "      <td>0.049051</td>\n",
       "      <td>0.216772</td>\n",
       "      <td>0.140823</td>\n",
       "      <td>0.068038</td>\n",
       "      <td>0.030063</td>\n",
       "      <td>0.071203</td>\n",
       "      <td>0.106013</td>\n",
       "    </tr>\n",
       "  </tbody>\n",
       "</table>\n",
       "<p>2 rows × 38 columns</p>\n",
       "</div>"
      ],
      "text/plain": [
       "                             file  \\\n",
       "0  2008-06-04-ObamaNomination.txt   \n",
       "1     2008-11-05-ObamaElected.txt   \n",
       "\n",
       "                                            text_oba  \\\n",
       "0  Thank you....Thank you. What a -- What a wonde...   \n",
       "1  Hello, Chicago.\\r\\n\\r\\nIf there is anyone out ...   \n",
       "\n",
       "                                            text_wsj  \\\n",
       "0  Sen. Barack Obama captured enough convention d...   \n",
       "1  Sen. Barack Obama was elected the nation's fir...   \n",
       "\n",
       "                                            text_nyt  \\\n",
       "0  Senator Barack Obama claimed the Democratic pr...   \n",
       "1  Barack Hussein Obama was elected the 44th pres...   \n",
       "\n",
       "                                    emo_oba  \\\n",
       "0  <nrclex.NRCLex object at 0x7f09f2a0eda0>   \n",
       "1  <nrclex.NRCLex object at 0x7f09f2a0db10>   \n",
       "\n",
       "                                    emo_nyt  \\\n",
       "0  <nrclex.NRCLex object at 0x7f09e5416260>   \n",
       "1  <nrclex.NRCLex object at 0x7f09e5416350>   \n",
       "\n",
       "                                    emo_wsj       date   obafear  obaanger  \\\n",
       "0  <nrclex.NRCLex object at 0x7f09e2782260> 2008-06-04  0.095798  0.055462   \n",
       "1  <nrclex.NRCLex object at 0x7f09e2782350> 2008-11-05  0.060000  0.037778   \n",
       "\n",
       "   ...   wsjfear  wsjanger  wsjtrust  wsjsurprise  wsjpositive  wsjnegative  \\\n",
       "0  ...  0.051282  0.036630  0.168498     0.047619     0.326007     0.095238   \n",
       "1  ...  0.079114  0.063291  0.175633     0.049051     0.216772     0.140823   \n",
       "\n",
       "   wsjsadness  wsjdisgust    wsjjoy  wsjanticipation  \n",
       "0    0.054945    0.025641  0.106227         0.087912  \n",
       "1    0.068038    0.030063  0.071203         0.106013  \n",
       "\n",
       "[2 rows x 38 columns]"
      ]
     },
     "execution_count": 9,
     "metadata": {},
     "output_type": "execute_result"
    }
   ],
   "source": [
    "df.head(2)"
   ]
  },
  {
   "cell_type": "code",
   "execution_count": 74,
   "id": "619be030",
   "metadata": {},
   "outputs": [],
   "source": []
  },
  {
   "cell_type": "code",
   "execution_count": 79,
   "id": "ff95c9e3",
   "metadata": {},
   "outputs": [],
   "source": [
    "meansents = []\n",
    "for text in df['text_oba']:\n",
    "    hfsent = sentiment_pl([sentence.strip() for sentence in text.split('.') if len(sentence)>2])\n",
    "    # hfsent is a list of dictionaries, one for each sentence. Find the mean for the whole document\n",
    "    mean = np.mean([ value[1] if key[1]=='POSITIVE' else -1*value[1] for key, value in (dictnry.items() for dictnry in hfsent) ])\n",
    "    meansents.append(mean)\n"
   ]
  },
  {
   "cell_type": "code",
   "execution_count": 85,
   "id": "d533f0c5",
   "metadata": {},
   "outputs": [
    {
     "data": {
      "text/plain": [
       "'2016-02-16-ScaliaDies.txt'"
      ]
     },
     "execution_count": 85,
     "metadata": {},
     "output_type": "execute_result"
    }
   ],
   "source": [
    "# Find index of maximum\n",
    "maxidx = max( (v, i) for i, v in enumerate(meansents) )[1]\n",
    "df['file'][maxidx]"
   ]
  },
  {
   "cell_type": "code",
   "execution_count": 88,
   "id": "4fd1722b",
   "metadata": {},
   "outputs": [],
   "source": [
    "meandf = pd.DataFrame(meansents)"
   ]
  },
  {
   "cell_type": "code",
   "execution_count": 89,
   "id": "767e7360",
   "metadata": {},
   "outputs": [
    {
     "data": {
      "text/plain": [
       "<AxesSubplot: >"
      ]
     },
     "execution_count": 89,
     "metadata": {},
     "output_type": "execute_result"
    },
    {
     "data": {
      "image/png": "[encoded data removed]",
      "text/plain": [
       "<Figure size 432x288 with 1 Axes>"
      ]
     },
     "metadata": {
      "needs_background": "light"
     },
     "output_type": "display_data"
    }
   ],
   "source": [
    "meandf.plot()"
   ]
  },
  {
   "cell_type": "code",
   "execution_count": null,
   "id": "45cbe865",
   "metadata": {},
   "outputs": [],
   "source": []
  },
  {
   "cell_type": "code",
   "execution_count": 44,
   "id": "99372e0c",
   "metadata": {},
   "outputs": [
    {
     "name": "stdout",
     "output_type": "stream",
     "text": [
      "distilbert-base-uncased-finetuned-sst-2-english/resolve/main/config.json \n",
      " C:\\Users\\peter/.cache\\huggingface\\transformers\\4e60bb8efad3d4b7dc9969bf204947c185166a0a3cf37ddb6f481a876a3777b5.9f8326d0b7697c7fd57366cdde57032f46bc10e37ae81cb7eb564d66d23ec96b.json \n",
      "\n",
      "\n",
      "distilbert-base-uncased-finetuned-sst-2-english/resolve/main/tokenizer_config.json \n",
      " C:\\Users\\peter/.cache\\huggingface\\transformers\\d44ec0488a5f13d92b3934cb68cc5849bd74ce63ede2eea2bf3c675e1e57297c.627f9558061e7bc67ed0f516b2f7efc1351772cc8553101f08748d44aada8b11.json \n",
      "\n",
      "\n",
      "distilbert-base-uncased-finetuned-sst-2-english/resolve/main/vocab.txt \n",
      " C:\\Users\\peter/.cache\\huggingface\\transformers\\83261b0c74c462e53d6367de0646b1fca07d0f15f1be045156b9cf8c71279cc9.d789d64ebfe299b0e416afc4a169632f903f693095b4629a7ea271d5a0cf2c99.json \n",
      "\n",
      "\n",
      "google/pegasus-xsum/resolve/main/config.json \n",
      " C:\\Users\\peter/.cache\\huggingface\\transformers\\f8db793080242073e939bf4bc066830a677ca5e1c2d3aa1fc2a79fe733ccf3c9.149318290a6d6f03f34bb735260994b16b4a7c8609973a4abc8e9315c7c5797c.json \n",
      "\n",
      "\n",
      "google/pegasus-xsum/resolve/main/special_tokens_map.json \n",
      " C:\\Users\\peter/.cache\\huggingface\\transformers\\fa42b967ba408eb6cada6772d2611447c50154335595911e7c51a386db9901e6.294ebaa4cd17bb284635004c92d2c4d522ec488c828dcce0c2471b6f28e3fe82.json \n",
      "\n",
      "\n",
      "google/pegasus-xsum/resolve/main/spiece.model \n",
      " C:\\Users\\peter/.cache\\huggingface\\transformers\\332f03e91a57dbbec20f967da851c4a988b93136d81acd1e170a728ec6b9e3ad.1acf68c74589da6c7fa3548093824dfc450a54637f4356929bbfea7e294a68f8.json \n",
      "\n",
      "\n",
      "google/pegasus-xsum/resolve/main/tokenizer.json \n",
      " C:\\Users\\peter/.cache\\huggingface\\transformers\\249fc759c5fa315dca06897d79493c1d27d999d4876ebb798d07d9d7a2ebbb29.b11a22b825f5f3714fac8c470a8602bd6f8fbce86cb56e588c571016e963bd4e.json \n",
      "\n",
      "\n",
      "google/pegasus-xsum/resolve/main/tokenizer_config.json \n",
      " C:\\Users\\peter/.cache\\huggingface\\transformers\\27c4324d316dbe67537c2fe759928141fb29dfa1cc6c6b2674765b2bc7026f54.85037d315e8cfbde266939f8b6852c54e9482ce4c0aa513420289e0b5c0f3499.json \n",
      "\n",
      "\n",
      "nlptown/bert-base-multilingual-uncased-sentiment/resolve/main/config.json \n",
      " C:\\Users\\peter/.cache\\huggingface\\transformers\\d9226eeac7b8b96d83ebc327cdd670490866d8c999505c1f83b6ef206ccb1604.a34960b447312b0727cb670d710444fcb41a6156eddcba062a19b3fc05d95251.json \n",
      "\n",
      "\n",
      "nlptown/bert-base-multilingual-uncased-sentiment/resolve/main/special_tokens_map.json \n",
      " C:\\Users\\peter/.cache\\huggingface\\transformers\\ed85e7bfaa7dfcf9924004400478a6426fcab28d3e427960549371a1729115d1.dd8bd9bfd3664b530ea4e645105f557769387b3da9f79bdb55ed556bdd80611d.json \n",
      "\n",
      "\n",
      "nlptown/bert-base-multilingual-uncased-sentiment/resolve/main/tokenizer_config.json \n",
      " C:\\Users\\peter/.cache\\huggingface\\transformers\\4d1409805ace1b4cc209352f82a0f0c59a015433d0a58e655394ffe7bbb755e9.13a045cad07359e6844c4f487af8e6323ad2308cac6357692d2359f1a9711443.json \n",
      "\n",
      "\n",
      "nlptown/bert-base-multilingual-uncased-sentiment/resolve/main/vocab.txt \n",
      " C:\\Users\\peter/.cache\\huggingface\\transformers\\d893db6e58fdc9c39ecb49aaba0fc940780c179e1fff5bfe27e322e1599c191f.92022aa29ab6663b0b4254744f28ab43e6adf4deebe0f26651e6c61f28f69d8b.json \n",
      "\n",
      "\n"
     ]
    }
   ],
   "source": [
    "# Returns some info on downloaded hf models so they can be deleted\n",
    "import glob\n",
    "import json\n",
    "import re\n",
    "from collections import OrderedDict \n",
    "from transformers import TRANSFORMERS_CACHE\n",
    " \n",
    "metaFiles = glob.glob(TRANSFORMERS_CACHE + '/*.json')\n",
    "modelRegex = \"huggingface\\.co\\/(.*)(pytorch_model\\.bin$|resolve\\/main\\/tf_model\\.h5$)\"\n",
    "\n",
    "cachedModels = {}\n",
    "cachedTokenizers = {}\n",
    "for file in metaFiles:\n",
    "     with open(file) as j:\n",
    "         data = json.load(j)\n",
    "         isM = re.search(modelRegex, data['url'])\n",
    "         if isM:\n",
    "             cachedModels[isM.group(1)[:-1]] = file\n",
    "         else:\n",
    "             cachedTokenizers[data['url'].partition('huggingface.co/')[2]] = file\n",
    "\n",
    "cachedTokenizers = OrderedDict(sorted(cachedTokenizers.items(), key=lambda k: k[0]))\n",
    "[print(key,'\\n', value, '\\n\\n') for key, value in cachedTokenizers.items()];"
   ]
  },
  {
   "cell_type": "code",
   "execution_count": null,
   "id": "78cc11c7",
   "metadata": {},
   "outputs": [],
   "source": []
  },
  {
   "cell_type": "code",
   "execution_count": null,
   "id": "67abab6b",
   "metadata": {},
   "outputs": [],
   "source": []
  }
 ],
 "metadata": {
  "kernelspec": {
   "display_name": "Python 3 (ipykernel)",
   "language": "python",
   "name": "python3"
  },
  "language_info": {
   "codemirror_mode": {
    "name": "ipython",
    "version": 3
   },
   "file_extension": ".py",
   "mimetype": "text/x-python",
   "name": "python",
   "nbconvert_exporter": "python",
   "pygments_lexer": "ipython3",
   "version": "3.9.2"
  }
 },
 "nbformat": 4,
 "nbformat_minor": 5
}
