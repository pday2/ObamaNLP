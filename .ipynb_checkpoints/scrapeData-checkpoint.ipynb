{
 "cells": [
  {
   "cell_type": "code",
   "execution_count": 1,
   "id": "6d0bfb28",
   "metadata": {},
   "outputs": [],
   "source": [
    "import requests\n",
    "import re\n",
    "import pandas as pd\n",
    "from bs4 import BeautifulSoup\n",
    "import time # avoid swamping the americanrhetoric website"
   ]
  },
  {
   "cell_type": "code",
   "execution_count": 2,
   "id": "89dbf6d8",
   "metadata": {},
   "outputs": [],
   "source": [
    "obamaURL = 'https://www.americanrhetoric.com/barackobamaspeeches.htm'\n",
    "obamaPage = requests.get(obamaURL, headers={'user-agent': 'Mozilla/5.0'})\n",
    "soup = BeautifulSoup(obamaPage.content, 'html.parser')"
   ]
  },
  {
   "cell_type": "code",
   "execution_count": 3,
   "id": "7e2513f9",
   "metadata": {},
   "outputs": [],
   "source": [
    "# From main Obama page, get all links to pages with speeches\n",
    "llist = []\n",
    "\n",
    "#              url from href                          urls are in <font>                          url cannot be None                    href url must start with speeches/...\n",
    "llist.append([ x.find('a',href=True)['href'] for x in soup.find_all('font', {'face':'Arial'}) if x.find('a',href=True) is not None and x.find('a',href=True)['href'].startswith('speeches/barackobama/')])\n",
    "\n",
    "linklist = llist[0]"
   ]
  },
  {
   "cell_type": "markdown",
   "id": "77233e55",
   "metadata": {},
   "source": [
    "<A HREF=\"https://regexr.com/\">RegExr: for testing regex</A><BR>\n",
    "    There is also <A HREF=\"https://regex101.com/\">Regex101</A>"
   ]
  },
  {
   "cell_type": "code",
   "execution_count": null,
   "id": "b449d5bd",
   "metadata": {},
   "outputs": [],
   "source": [
    "# 475 speeches at 3 seconds each is about 24 minutes minimum\n",
    "for link in linklist:\n",
    "    fulllink = 'https://www.americanrhetoric.com/' + link\n",
    "    speechPage = requests.get(fulllink, headers={'user-agent': 'Mozilla/5.0'})\n",
    "    pageHTML = BeautifulSoup(speechPage.content, 'html.parser')\n",
    "\n",
    "    #Speech paragraphs are wrapped in <font face=\"Verdana\" size=\"2\">...</font>\n",
    "    speech = pageHTML.find_all(\"font\", {'face':'Verdana'})\n",
    "\n",
    "    text = []\n",
    "    for i in range(len(speech)):\n",
    "        # Match anything inside an html tag (<>): \\<.*?\\>\n",
    "        # could also try [n.get_text(strip=True) for n in speech] which leaves \\r and \\n\n",
    "        tmp = re.sub(\"\\r|\\n|\\t|\\<.*?\\>\", \"\", str(speech[i]))\n",
    "        # toss empty paragraphs and the last Book/CDs credit\n",
    "        if (len(tmp) > 0) and not tmp.startswith('Book/CDs'):\n",
    "            text.append(tmp)\n",
    "    \n",
    "    df = pd.DataFrame(text)\n",
    "    filename = 'Data/' + link[21:-4] + '.csv'\n",
    "    df.to_csv(filename, encoding='utf-8', header=False, index=False)\n",
    "    time.sleep(2)\n"
   ]
  },
  {
   "cell_type": "code",
   "execution_count": null,
   "id": "b29c3ab5",
   "metadata": {},
   "outputs": [],
   "source": []
  }
 ],
 "metadata": {
  "kernelspec": {
   "display_name": "Python 3 (ipykernel)",
   "language": "python",
   "name": "python3"
  },
  "language_info": {
   "codemirror_mode": {
    "name": "ipython",
    "version": 3
   },
   "file_extension": ".py",
   "mimetype": "text/x-python",
   "name": "python",
   "nbconvert_exporter": "python",
   "pygments_lexer": "ipython3",
   "version": "3.9.2"
  }
 },
 "nbformat": 4,
 "nbformat_minor": 5
}
