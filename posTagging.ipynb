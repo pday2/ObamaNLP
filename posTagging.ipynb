{
 "cells": [
  {
   "cell_type": "markdown",
   "id": "7310a9ee",
   "metadata": {},
   "source": [
    "### Part Of Speech Tagging using stanza"
   ]
  },
  {
   "cell_type": "markdown",
   "id": "2ca9f8ad",
   "metadata": {},
   "source": [
    "<A HREF=\"https://stanfordnlp.github.io/stanza/\">Stanford NLP Stanza</A>"
   ]
  },
  {
   "cell_type": "code",
   "execution_count": 4,
   "id": "6abc2664",
   "metadata": {},
   "outputs": [],
   "source": [
    "import pandas as pd\n",
    "import numpy as np\n",
    "import matplotlib.pyplot as plt\n",
    "import seaborn as sns\n",
    "import stanza\n",
    "from collections import defaultdict"
   ]
  },
  {
   "cell_type": "code",
   "execution_count": 5,
   "id": "9b001ab6",
   "metadata": {},
   "outputs": [],
   "source": [
    "# Trying to avoid memory errors here, may cause problems, don't run unless errors occur\n",
    "#                                     in which case it may be too late anyway.\n",
    "# import os\n",
    "# os.environ[\"PYTORCH_CUDA_ALLOC_CONF\"] = \"max_split_size_mb:<512>\""
   ]
  },
  {
   "cell_type": "code",
   "execution_count": 6,
   "id": "6c5fb59c",
   "metadata": {},
   "outputs": [
    {
     "data": {
      "application/vnd.jupyter.widget-view+json": {
       "model_id": "1df3ffd1a6ea404ba9a9fd629c85ec74",
       "version_major": 2,
       "version_minor": 0
      },
      "text/plain": [
       "Downloading https://raw.githubusercontent.com/stanfordnlp/stanza-resources/main/resources_1.5.0.json:   0%|   …"
      ]
     },
     "metadata": {},
     "output_type": "display_data"
    },
    {
     "name": "stderr",
     "output_type": "stream",
     "text": [
      "2023-04-10 13:42:02 INFO: Downloading default packages for language: en (English) ...\n"
     ]
    },
    {
     "data": {
      "application/vnd.jupyter.widget-view+json": {
       "model_id": "08d53a635693415d981507b138a6f342",
       "version_major": 2,
       "version_minor": 0
      },
      "text/plain": [
       "Downloading https://huggingface.co/stanfordnlp/stanza-en/resolve/v1.5.0/models/default.zip:   0%|          | 0…"
      ]
     },
     "metadata": {},
     "output_type": "display_data"
    },
    {
     "name": "stderr",
     "output_type": "stream",
     "text": [
      "2023-04-10 13:42:44 INFO: Finished downloading models and saved to /home/muddy/stanza_resources.\n"
     ]
    }
   ],
   "source": [
    "# Download English model (about 561MB). Downloads from huggingface\n",
    "stanza.download('en')"
   ]
  },
  {
   "cell_type": "code",
   "execution_count": 7,
   "id": "f9a66726",
   "metadata": {},
   "outputs": [
    {
     "name": "stderr",
     "output_type": "stream",
     "text": [
      "2023-04-10 13:42:44 INFO: Checking for updates to resources.json in case models have been updated.  Note: this behavior can be turned off with download_method=None or download_method=DownloadMethod.REUSE_RESOURCES\n"
     ]
    },
    {
     "data": {
      "application/vnd.jupyter.widget-view+json": {
       "model_id": "44945b211a744ecdbbc8c150d30bde38",
       "version_major": 2,
       "version_minor": 0
      },
      "text/plain": [
       "Downloading https://raw.githubusercontent.com/stanfordnlp/stanza-resources/main/resources_1.5.0.json:   0%|   …"
      ]
     },
     "metadata": {},
     "output_type": "display_data"
    },
    {
     "name": "stderr",
     "output_type": "stream",
     "text": [
      "2023-04-10 13:42:44 INFO: Loading these models for language: en (English):\n",
      "========================\n",
      "| Processor | Package  |\n",
      "------------------------\n",
      "| tokenize  | combined |\n",
      "| pos       | combined |\n",
      "| lemma     | combined |\n",
      "========================\n",
      "\n",
      "2023-04-10 13:42:44 INFO: Using device: cpu\n",
      "2023-04-10 13:42:44 INFO: Loading: tokenize\n",
      "2023-04-10 13:42:44 INFO: Loading: pos\n",
      "2023-04-10 13:42:45 INFO: Loading: lemma\n",
      "2023-04-10 13:42:45 INFO: Done loading processors!\n"
     ]
    }
   ],
   "source": [
    "# Initialize English neural pipeline\n",
    "nlp = stanza.Pipeline('en', processors='tokenize, lemma, pos')\n",
    "\n",
    "# Full list of processors.... only need tokenize and pos for now\n",
    "#============================\n",
    "#| Processor    | Package   |\n",
    "#----------------------------\n",
    "#| tokenize     | combined  |\n",
    "#| pos          | combined  |\n",
    "#| lemma        | combined  |\n",
    "#| depparse     | combined  |\n",
    "#| sentiment    | sstplus   |\n",
    "#| constituency | wsj       |\n",
    "#| ner          | ontonotes |\n",
    "#============================"
   ]
  },
  {
   "cell_type": "code",
   "execution_count": 8,
   "id": "b92ee4ec",
   "metadata": {},
   "outputs": [
    {
     "data": {
      "text/plain": [
       "(3000, 4)"
      ]
     },
     "execution_count": 8,
     "metadata": {},
     "output_type": "execute_result"
    }
   ],
   "source": [
    "# Load the two data sets needed\n",
    "\n",
    "facetPlotData = pd.read_csv('facetPlotData.csv')\n",
    "df = pd.read_csv('fullEmotionData.csv', encoding='utf_8') # apostrophes aren't being read correctly\n",
    "# Pandas reads date as string, cast to datetime object\n",
    "df['date'] = pd.to_datetime(df['date'], format='%Y-%m-%d')\n",
    "facetPlotData['date'] = pd.to_datetime(facetPlotData['date'], format='%Y-%m-%d')\n",
    "facetPlotData.shape # Should be (3000, 4) "
   ]
  },
  {
   "cell_type": "code",
   "execution_count": 9,
   "id": "b93a15ad",
   "metadata": {},
   "outputs": [
    {
     "data": {
      "text/plain": [
       "{'id': 1,\n",
       " 'text': 'Thank',\n",
       " 'lemma': 'thank',\n",
       " 'upos': 'VERB',\n",
       " 'xpos': 'VBP',\n",
       " 'feats': 'Mood=Ind|Number=Sing|Person=1|Tense=Pres|VerbForm=Fin',\n",
       " 'head': 0,\n",
       " 'deprel': 'root',\n",
       " 'start_char': 0,\n",
       " 'end_char': 5,\n",
       " 'ner': 'O',\n",
       " 'multi_ner': ['O']}"
      ]
     },
     "execution_count": 9,
     "metadata": {},
     "output_type": "execute_result"
    }
   ],
   "source": [
    "# doc output looks like this.  Everything is labeled, including punctuation!\n",
    "{\n",
    "      \"id\": 1,\n",
    "      \"text\": \"Thank\",\n",
    "      \"lemma\": \"thank\",\n",
    "      \"upos\": \"VERB\",\n",
    "      \"xpos\": \"VBP\",\n",
    "      \"feats\": \"Mood=Ind|Number=Sing|Person=1|Tense=Pres|VerbForm=Fin\",\n",
    "      \"head\": 0,\n",
    "      \"deprel\": \"root\",\n",
    "      \"start_char\": 0,\n",
    "      \"end_char\": 5,\n",
    "      \"ner\": \"O\",\n",
    "      \"multi_ner\": [\n",
    "        \"O\"\n",
    "      ]\n",
    "    }"
   ]
  },
  {
   "cell_type": "code",
   "execution_count": 10,
   "id": "251d4971",
   "metadata": {},
   "outputs": [],
   "source": [
    "def cumulative_count(items):\n",
    "    '''items: list of objects to count\n",
    "       returns: dictionary with key:item, value: cumulative count of each item'''\n",
    "    counts = defaultdict(int)\n",
    "    cumulative_counts = {}\n",
    "    cumulative_count = 0\n",
    "    \n",
    "    for item in items:\n",
    "        counts[item] += 1\n",
    "        cumulative_count += 1\n",
    "        cumulative_counts[item] = cumulative_count\n",
    "        \n",
    "    return(cumulative_counts)"
   ]
  },
  {
   "cell_type": "code",
   "execution_count": 11,
   "id": "28e83bbe",
   "metadata": {},
   "outputs": [],
   "source": [
    "# Sepecify source: oba, nyt, wsj\n",
    "source = 'wsj'"
   ]
  },
  {
   "cell_type": "code",
   "execution_count": 12,
   "id": "685b5cd8",
   "metadata": {},
   "outputs": [],
   "source": [
    "# OK Lets put it all together and loop over all speeches and count up the POS\n",
    "# The nlp(text) uses a lot of gpu memory, causes errors sometimes, may need to restart notebook to freshen things up\n",
    "pos_dicts = []\n",
    "for text in df['text_'+source]:\n",
    "    doc = nlp(text) # Run stanza on each speech\n",
    "    mat_of_pos = [[word.pos for word in sentence.words] for sentence in doc.sentences] # matrix of POS for each sentence\n",
    "    # How to flatten a list = [item for sublist in list_of_lists for item in sublist]\n",
    "    list_of_pos = [pos for sentence in mat_of_pos for pos in sentence] # flatten matrix into one list of all pos\n",
    "    pos_counts = cumulative_count(list_of_pos) # get dictionary with key: pos, value: count of that POS in speech\n",
    "    pos_dicts.append(pos_counts) # list of dictionaries, one dict for each speech"
   ]
  },
  {
   "cell_type": "code",
   "execution_count": 13,
   "id": "af16f2cb",
   "metadata": {},
   "outputs": [],
   "source": [
    "# Make a list of all the unique POS over all the dictionaries, then will make a row in df for each\n",
    "unique_pos = list(set(key for dict in pos_dicts for key in dict.keys()))"
   ]
  },
  {
   "cell_type": "code",
   "execution_count": 14,
   "id": "28d303b5",
   "metadata": {},
   "outputs": [
    {
     "name": "stderr",
     "output_type": "stream",
     "text": [
      "/tmp/ipykernel_45825/2872237280.py:9: SettingWithCopyWarning: \n",
      "A value is trying to be set on a copy of a slice from a DataFrame\n",
      "\n",
      "See the caveats in the documentation: https://pandas.pydata.org/pandas-docs/stable/user_guide/indexing.html#returning-a-view-versus-a-copy\n",
      "  df[source+'_'+key][i] = proportion\n"
     ]
    }
   ],
   "source": [
    "# use unique_pos list to create new columns in df\n",
    "for col in unique_pos:\n",
    "    df[source+'_'+col] = 0\n",
    "    \n",
    "for i in range(len(df)):\n",
    "    sum1 = sum(pos_dicts[i].values())\n",
    "    for key, value in pos_dicts[i].items():\n",
    "        proportion = value/sum1\n",
    "        df[source+'_'+key][i] = proportion\n",
    "df.fillna(value=0); # ; will supress list of whole dataframe"
   ]
  },
  {
   "cell_type": "code",
   "execution_count": 15,
   "id": "2a8981bc",
   "metadata": {},
   "outputs": [
    {
     "data": {
      "text/html": [
       "<div>\n",
       "<style scoped>\n",
       "    .dataframe tbody tr th:only-of-type {\n",
       "        vertical-align: middle;\n",
       "    }\n",
       "\n",
       "    .dataframe tbody tr th {\n",
       "        vertical-align: top;\n",
       "    }\n",
       "\n",
       "    .dataframe thead th {\n",
       "        text-align: right;\n",
       "    }\n",
       "</style>\n",
       "<table border=\"1\" class=\"dataframe\">\n",
       "  <thead>\n",
       "    <tr style=\"text-align: right;\">\n",
       "      <th></th>\n",
       "      <th>file</th>\n",
       "      <th>text_oba</th>\n",
       "      <th>text_wsj</th>\n",
       "      <th>text_nyt</th>\n",
       "      <th>emo_oba</th>\n",
       "      <th>emo_nyt</th>\n",
       "      <th>emo_wsj</th>\n",
       "      <th>date</th>\n",
       "      <th>obafear</th>\n",
       "      <th>obaanger</th>\n",
       "      <th>...</th>\n",
       "      <th>wsj_NOUN</th>\n",
       "      <th>wsj_INTJ</th>\n",
       "      <th>wsj_PROPN</th>\n",
       "      <th>wsj_ADP</th>\n",
       "      <th>wsj_AUX</th>\n",
       "      <th>wsj_SCONJ</th>\n",
       "      <th>wsj_PART</th>\n",
       "      <th>wsj_PUNCT</th>\n",
       "      <th>wsj_SYM</th>\n",
       "      <th>wsj_CCONJ</th>\n",
       "    </tr>\n",
       "  </thead>\n",
       "  <tbody>\n",
       "    <tr>\n",
       "      <th>0</th>\n",
       "      <td>2008-06-04-ObamaNomination.txt</td>\n",
       "      <td>Thank you....Thank you. What a -- What a wonde...</td>\n",
       "      <td>Sen. Barack Obama captured enough convention d...</td>\n",
       "      <td>Senator Barack Obama claimed the Democratic pr...</td>\n",
       "      <td>&lt;nrclex.NRCLex object at 0x7f09f2a0eda0&gt;</td>\n",
       "      <td>&lt;nrclex.NRCLex object at 0x7f09e5416260&gt;</td>\n",
       "      <td>&lt;nrclex.NRCLex object at 0x7f09e2782260&gt;</td>\n",
       "      <td>2008-06-04</td>\n",
       "      <td>0.095798</td>\n",
       "      <td>0.055462</td>\n",
       "      <td>...</td>\n",
       "      <td>0.072581</td>\n",
       "      <td>0.0</td>\n",
       "      <td>0.072183</td>\n",
       "      <td>0.071266</td>\n",
       "      <td>0.072023</td>\n",
       "      <td>0.07031</td>\n",
       "      <td>0.072063</td>\n",
       "      <td>0.072621</td>\n",
       "      <td>0.0</td>\n",
       "      <td>0.072422</td>\n",
       "    </tr>\n",
       "  </tbody>\n",
       "</table>\n",
       "<p>1 rows × 54 columns</p>\n",
       "</div>"
      ],
      "text/plain": [
       "                             file  \\\n",
       "0  2008-06-04-ObamaNomination.txt   \n",
       "\n",
       "                                            text_oba  \\\n",
       "0  Thank you....Thank you. What a -- What a wonde...   \n",
       "\n",
       "                                            text_wsj  \\\n",
       "0  Sen. Barack Obama captured enough convention d...   \n",
       "\n",
       "                                            text_nyt  \\\n",
       "0  Senator Barack Obama claimed the Democratic pr...   \n",
       "\n",
       "                                    emo_oba  \\\n",
       "0  <nrclex.NRCLex object at 0x7f09f2a0eda0>   \n",
       "\n",
       "                                    emo_nyt  \\\n",
       "0  <nrclex.NRCLex object at 0x7f09e5416260>   \n",
       "\n",
       "                                    emo_wsj       date   obafear  obaanger  \\\n",
       "0  <nrclex.NRCLex object at 0x7f09e2782260> 2008-06-04  0.095798  0.055462   \n",
       "\n",
       "   ...  wsj_NOUN  wsj_INTJ  wsj_PROPN   wsj_ADP   wsj_AUX  wsj_SCONJ  \\\n",
       "0  ...  0.072581       0.0   0.072183  0.071266  0.072023    0.07031   \n",
       "\n",
       "   wsj_PART  wsj_PUNCT  wsj_SYM  wsj_CCONJ  \n",
       "0  0.072063   0.072621      0.0   0.072422  \n",
       "\n",
       "[1 rows x 54 columns]"
      ]
     },
     "execution_count": 15,
     "metadata": {},
     "output_type": "execute_result"
    }
   ],
   "source": [
    "df.head(1)"
   ]
  },
  {
   "cell_type": "code",
   "execution_count": 16,
   "id": "42b560c6",
   "metadata": {},
   "outputs": [],
   "source": [
    "# Write the df quickly, before memory errors creep in again.\n",
    "# Now have POS variables with proportion of each POS for each speech\n",
    "#df.to_csv('fullEmotionPOSData.csv', encoding='utf_8')"
   ]
  },
  {
   "cell_type": "code",
   "execution_count": 17,
   "id": "dd07cb3c",
   "metadata": {},
   "outputs": [
    {
     "data": {
      "text/plain": [
       "['file',\n",
       " 'text_oba',\n",
       " 'text_wsj',\n",
       " 'text_nyt',\n",
       " 'emo_oba',\n",
       " 'emo_nyt',\n",
       " 'emo_wsj',\n",
       " 'date',\n",
       " 'obafear',\n",
       " 'obaanger',\n",
       " 'obatrust',\n",
       " 'obasurprise',\n",
       " 'obapositive',\n",
       " 'obanegative',\n",
       " 'obasadness',\n",
       " 'obadisgust',\n",
       " 'obajoy',\n",
       " 'obaanticipation',\n",
       " 'nytfear',\n",
       " 'nytanger',\n",
       " 'nyttrust',\n",
       " 'nytsurprise',\n",
       " 'nytpositive',\n",
       " 'nytnegative',\n",
       " 'nytsadness',\n",
       " 'nytdisgust',\n",
       " 'nytjoy',\n",
       " 'nytanticipation',\n",
       " 'wsjfear',\n",
       " 'wsjanger',\n",
       " 'wsjtrust',\n",
       " 'wsjsurprise',\n",
       " 'wsjpositive',\n",
       " 'wsjnegative',\n",
       " 'wsjsadness',\n",
       " 'wsjdisgust',\n",
       " 'wsjjoy',\n",
       " 'wsjanticipation',\n",
       " 'wsj_DET',\n",
       " 'wsj_VERB',\n",
       " 'wsj_ADJ',\n",
       " 'wsj_PRON',\n",
       " 'wsj_ADV',\n",
       " 'wsj_NUM',\n",
       " 'wsj_NOUN',\n",
       " 'wsj_INTJ',\n",
       " 'wsj_PROPN',\n",
       " 'wsj_ADP',\n",
       " 'wsj_AUX',\n",
       " 'wsj_SCONJ',\n",
       " 'wsj_PART',\n",
       " 'wsj_PUNCT',\n",
       " 'wsj_SYM',\n",
       " 'wsj_CCONJ']"
      ]
     },
     "execution_count": 17,
     "metadata": {},
     "output_type": "execute_result"
    }
   ],
   "source": [
    "list(df)"
   ]
  },
  {
   "cell_type": "code",
   "execution_count": 18,
   "id": "30b9a29e",
   "metadata": {},
   "outputs": [],
   "source": [
    "corr_matrix = df[df.columns[pd.Series(df.columns).str.startswith('oba')]].corr().round(3)"
   ]
  },
  {
   "cell_type": "code",
   "execution_count": 19,
   "id": "1a9d9e62",
   "metadata": {},
   "outputs": [
    {
     "data": {
      "image/png": "[encoded data removed]",
      "text/plain": [
       "<Figure size 1500x1500 with 2 Axes>"
      ]
     },
     "metadata": {},
     "output_type": "display_data"
    }
   ],
   "source": [
    "fig, ax = plt.subplots(figsize=(15,15))\n",
    "sns.heatmap(corr_matrix, annot=True)\n",
    "plt.show()"
   ]
  },
  {
   "cell_type": "code",
   "execution_count": 20,
   "id": "9f6b9983",
   "metadata": {},
   "outputs": [
    {
     "data": {
      "text/html": [
       "<div>\n",
       "<style scoped>\n",
       "    .dataframe tbody tr th:only-of-type {\n",
       "        vertical-align: middle;\n",
       "    }\n",
       "\n",
       "    .dataframe tbody tr th {\n",
       "        vertical-align: top;\n",
       "    }\n",
       "\n",
       "    .dataframe thead th {\n",
       "        text-align: right;\n",
       "    }\n",
       "</style>\n",
       "<table border=\"1\" class=\"dataframe\">\n",
       "  <thead>\n",
       "    <tr style=\"text-align: right;\">\n",
       "      <th></th>\n",
       "      <th>obafear</th>\n",
       "      <th>obaanger</th>\n",
       "      <th>obatrust</th>\n",
       "      <th>obasurprise</th>\n",
       "      <th>obapositive</th>\n",
       "      <th>obanegative</th>\n",
       "      <th>obasadness</th>\n",
       "      <th>obadisgust</th>\n",
       "      <th>obajoy</th>\n",
       "      <th>obaanticipation</th>\n",
       "    </tr>\n",
       "  </thead>\n",
       "  <tbody>\n",
       "    <tr>\n",
       "      <th>obafear</th>\n",
       "      <td>1.000</td>\n",
       "      <td>0.679</td>\n",
       "      <td>-0.536</td>\n",
       "      <td>NaN</td>\n",
       "      <td>-0.585</td>\n",
       "      <td>0.566</td>\n",
       "      <td>NaN</td>\n",
       "      <td>0.502</td>\n",
       "      <td>-0.665</td>\n",
       "      <td>NaN</td>\n",
       "    </tr>\n",
       "    <tr>\n",
       "      <th>obaanger</th>\n",
       "      <td>0.679</td>\n",
       "      <td>1.000</td>\n",
       "      <td>-0.683</td>\n",
       "      <td>NaN</td>\n",
       "      <td>-0.633</td>\n",
       "      <td>0.649</td>\n",
       "      <td>NaN</td>\n",
       "      <td>0.595</td>\n",
       "      <td>-0.582</td>\n",
       "      <td>NaN</td>\n",
       "    </tr>\n",
       "    <tr>\n",
       "      <th>obatrust</th>\n",
       "      <td>-0.536</td>\n",
       "      <td>-0.683</td>\n",
       "      <td>1.000</td>\n",
       "      <td>NaN</td>\n",
       "      <td>0.642</td>\n",
       "      <td>-0.614</td>\n",
       "      <td>-0.590</td>\n",
       "      <td>-0.556</td>\n",
       "      <td>NaN</td>\n",
       "      <td>NaN</td>\n",
       "    </tr>\n",
       "    <tr>\n",
       "      <th>obasurprise</th>\n",
       "      <td>NaN</td>\n",
       "      <td>NaN</td>\n",
       "      <td>NaN</td>\n",
       "      <td>1.0</td>\n",
       "      <td>NaN</td>\n",
       "      <td>NaN</td>\n",
       "      <td>NaN</td>\n",
       "      <td>NaN</td>\n",
       "      <td>NaN</td>\n",
       "      <td>NaN</td>\n",
       "    </tr>\n",
       "    <tr>\n",
       "      <th>obapositive</th>\n",
       "      <td>-0.585</td>\n",
       "      <td>-0.633</td>\n",
       "      <td>0.642</td>\n",
       "      <td>NaN</td>\n",
       "      <td>1.000</td>\n",
       "      <td>-0.675</td>\n",
       "      <td>-0.596</td>\n",
       "      <td>-0.636</td>\n",
       "      <td>NaN</td>\n",
       "      <td>NaN</td>\n",
       "    </tr>\n",
       "    <tr>\n",
       "      <th>obanegative</th>\n",
       "      <td>0.566</td>\n",
       "      <td>0.649</td>\n",
       "      <td>-0.614</td>\n",
       "      <td>NaN</td>\n",
       "      <td>-0.675</td>\n",
       "      <td>1.000</td>\n",
       "      <td>0.599</td>\n",
       "      <td>0.530</td>\n",
       "      <td>-0.586</td>\n",
       "      <td>NaN</td>\n",
       "    </tr>\n",
       "    <tr>\n",
       "      <th>obasadness</th>\n",
       "      <td>NaN</td>\n",
       "      <td>NaN</td>\n",
       "      <td>-0.590</td>\n",
       "      <td>NaN</td>\n",
       "      <td>-0.596</td>\n",
       "      <td>0.599</td>\n",
       "      <td>1.000</td>\n",
       "      <td>NaN</td>\n",
       "      <td>NaN</td>\n",
       "      <td>NaN</td>\n",
       "    </tr>\n",
       "    <tr>\n",
       "      <th>obadisgust</th>\n",
       "      <td>0.502</td>\n",
       "      <td>0.595</td>\n",
       "      <td>-0.556</td>\n",
       "      <td>NaN</td>\n",
       "      <td>-0.636</td>\n",
       "      <td>0.530</td>\n",
       "      <td>NaN</td>\n",
       "      <td>1.000</td>\n",
       "      <td>NaN</td>\n",
       "      <td>NaN</td>\n",
       "    </tr>\n",
       "    <tr>\n",
       "      <th>obajoy</th>\n",
       "      <td>-0.665</td>\n",
       "      <td>-0.582</td>\n",
       "      <td>NaN</td>\n",
       "      <td>NaN</td>\n",
       "      <td>NaN</td>\n",
       "      <td>-0.586</td>\n",
       "      <td>NaN</td>\n",
       "      <td>NaN</td>\n",
       "      <td>1.000</td>\n",
       "      <td>NaN</td>\n",
       "    </tr>\n",
       "    <tr>\n",
       "      <th>obaanticipation</th>\n",
       "      <td>NaN</td>\n",
       "      <td>NaN</td>\n",
       "      <td>NaN</td>\n",
       "      <td>NaN</td>\n",
       "      <td>NaN</td>\n",
       "      <td>NaN</td>\n",
       "      <td>NaN</td>\n",
       "      <td>NaN</td>\n",
       "      <td>NaN</td>\n",
       "      <td>1.0</td>\n",
       "    </tr>\n",
       "  </tbody>\n",
       "</table>\n",
       "</div>"
      ],
      "text/plain": [
       "                 obafear  obaanger  obatrust  obasurprise  obapositive  \\\n",
       "obafear            1.000     0.679    -0.536          NaN       -0.585   \n",
       "obaanger           0.679     1.000    -0.683          NaN       -0.633   \n",
       "obatrust          -0.536    -0.683     1.000          NaN        0.642   \n",
       "obasurprise          NaN       NaN       NaN          1.0          NaN   \n",
       "obapositive       -0.585    -0.633     0.642          NaN        1.000   \n",
       "obanegative        0.566     0.649    -0.614          NaN       -0.675   \n",
       "obasadness           NaN       NaN    -0.590          NaN       -0.596   \n",
       "obadisgust         0.502     0.595    -0.556          NaN       -0.636   \n",
       "obajoy            -0.665    -0.582       NaN          NaN          NaN   \n",
       "obaanticipation      NaN       NaN       NaN          NaN          NaN   \n",
       "\n",
       "                 obanegative  obasadness  obadisgust  obajoy  obaanticipation  \n",
       "obafear                0.566         NaN       0.502  -0.665              NaN  \n",
       "obaanger               0.649         NaN       0.595  -0.582              NaN  \n",
       "obatrust              -0.614      -0.590      -0.556     NaN              NaN  \n",
       "obasurprise              NaN         NaN         NaN     NaN              NaN  \n",
       "obapositive           -0.675      -0.596      -0.636     NaN              NaN  \n",
       "obanegative            1.000       0.599       0.530  -0.586              NaN  \n",
       "obasadness             0.599       1.000         NaN     NaN              NaN  \n",
       "obadisgust             0.530         NaN       1.000     NaN              NaN  \n",
       "obajoy                -0.586         NaN         NaN   1.000              NaN  \n",
       "obaanticipation          NaN         NaN         NaN     NaN              1.0  "
      ]
     },
     "execution_count": 20,
     "metadata": {},
     "output_type": "execute_result"
    }
   ],
   "source": [
    "corr_matrix[abs(corr_matrix)>=0.5]\n",
    "# Note: None of the POS proportions correlate with the NRC emotion analysis values"
   ]
  },
  {
   "cell_type": "code",
   "execution_count": 21,
   "id": "3b73b088",
   "metadata": {},
   "outputs": [
    {
     "ename": "KeyError",
     "evalue": "'oba_DET'",
     "output_type": "error",
     "traceback": [
      "\u001b[0;31m---------------------------------------------------------------------------\u001b[0m",
      "\u001b[0;31mKeyError\u001b[0m                                  Traceback (most recent call last)",
      "File \u001b[0;32m~/.local/lib/python3.10/site-packages/pandas/core/indexes/base.py:3802\u001b[0m, in \u001b[0;36mIndex.get_loc\u001b[0;34m(self, key, method, tolerance)\u001b[0m\n\u001b[1;32m   3801\u001b[0m \u001b[38;5;28;01mtry\u001b[39;00m:\n\u001b[0;32m-> 3802\u001b[0m     \u001b[38;5;28;01mreturn\u001b[39;00m \u001b[38;5;28;43mself\u001b[39;49m\u001b[38;5;241;43m.\u001b[39;49m\u001b[43m_engine\u001b[49m\u001b[38;5;241;43m.\u001b[39;49m\u001b[43mget_loc\u001b[49m\u001b[43m(\u001b[49m\u001b[43mcasted_key\u001b[49m\u001b[43m)\u001b[49m\n\u001b[1;32m   3803\u001b[0m \u001b[38;5;28;01mexcept\u001b[39;00m \u001b[38;5;167;01mKeyError\u001b[39;00m \u001b[38;5;28;01mas\u001b[39;00m err:\n",
      "File \u001b[0;32m~/.local/lib/python3.10/site-packages/pandas/_libs/index.pyx:138\u001b[0m, in \u001b[0;36mpandas._libs.index.IndexEngine.get_loc\u001b[0;34m()\u001b[0m\n",
      "File \u001b[0;32m~/.local/lib/python3.10/site-packages/pandas/_libs/index.pyx:165\u001b[0m, in \u001b[0;36mpandas._libs.index.IndexEngine.get_loc\u001b[0;34m()\u001b[0m\n",
      "File \u001b[0;32mpandas/_libs/hashtable_class_helper.pxi:5745\u001b[0m, in \u001b[0;36mpandas._libs.hashtable.PyObjectHashTable.get_item\u001b[0;34m()\u001b[0m\n",
      "File \u001b[0;32mpandas/_libs/hashtable_class_helper.pxi:5753\u001b[0m, in \u001b[0;36mpandas._libs.hashtable.PyObjectHashTable.get_item\u001b[0;34m()\u001b[0m\n",
      "\u001b[0;31mKeyError\u001b[0m: 'oba_DET'",
      "\nThe above exception was the direct cause of the following exception:\n",
      "\u001b[0;31mKeyError\u001b[0m                                  Traceback (most recent call last)",
      "Cell \u001b[0;32mIn[21], line 9\u001b[0m\n\u001b[1;32m      7\u001b[0m     \u001b[38;5;28;01mfor\u001b[39;00m source \u001b[38;5;129;01min\u001b[39;00m sources:\n\u001b[1;32m      8\u001b[0m         \u001b[38;5;28;01mfor\u001b[39;00m pos \u001b[38;5;129;01min\u001b[39;00m unique_pos:\n\u001b[0;32m----> 9\u001b[0m             POSFacetPlotData\u001b[38;5;241m.\u001b[39mloc[\u001b[38;5;28mlen\u001b[39m(POSFacetPlotData)] \u001b[38;5;241m=\u001b[39m [df[\u001b[38;5;124m'\u001b[39m\u001b[38;5;124mdate\u001b[39m\u001b[38;5;124m'\u001b[39m]\u001b[38;5;241m.\u001b[39miloc[i], source, pos, \u001b[43mdf\u001b[49m\u001b[43m[\u001b[49m\u001b[43msource\u001b[49m\u001b[38;5;241;43m+\u001b[39;49m\u001b[38;5;124;43m'\u001b[39;49m\u001b[38;5;124;43m_\u001b[39;49m\u001b[38;5;124;43m'\u001b[39;49m\u001b[38;5;241;43m+\u001b[39;49m\u001b[43mpos\u001b[49m\u001b[43m]\u001b[49m\u001b[38;5;241m.\u001b[39miloc[i]]\n\u001b[1;32m     11\u001b[0m POSFacetPlotData[\u001b[38;5;124m'\u001b[39m\u001b[38;5;124mdate\u001b[39m\u001b[38;5;124m'\u001b[39m] \u001b[38;5;241m=\u001b[39m pd\u001b[38;5;241m.\u001b[39mto_datetime(POSFacetPlotData[\u001b[38;5;124m'\u001b[39m\u001b[38;5;124mdate\u001b[39m\u001b[38;5;124m'\u001b[39m])\n\u001b[1;32m     12\u001b[0m POSFacetPlotData\u001b[38;5;241m.\u001b[39mshape \u001b[38;5;66;03m# Should be (4800, 4) \u001b[39;00m\n",
      "File \u001b[0;32m~/.local/lib/python3.10/site-packages/pandas/core/frame.py:3807\u001b[0m, in \u001b[0;36mDataFrame.__getitem__\u001b[0;34m(self, key)\u001b[0m\n\u001b[1;32m   3805\u001b[0m \u001b[38;5;28;01mif\u001b[39;00m \u001b[38;5;28mself\u001b[39m\u001b[38;5;241m.\u001b[39mcolumns\u001b[38;5;241m.\u001b[39mnlevels \u001b[38;5;241m>\u001b[39m \u001b[38;5;241m1\u001b[39m:\n\u001b[1;32m   3806\u001b[0m     \u001b[38;5;28;01mreturn\u001b[39;00m \u001b[38;5;28mself\u001b[39m\u001b[38;5;241m.\u001b[39m_getitem_multilevel(key)\n\u001b[0;32m-> 3807\u001b[0m indexer \u001b[38;5;241m=\u001b[39m \u001b[38;5;28;43mself\u001b[39;49m\u001b[38;5;241;43m.\u001b[39;49m\u001b[43mcolumns\u001b[49m\u001b[38;5;241;43m.\u001b[39;49m\u001b[43mget_loc\u001b[49m\u001b[43m(\u001b[49m\u001b[43mkey\u001b[49m\u001b[43m)\u001b[49m\n\u001b[1;32m   3808\u001b[0m \u001b[38;5;28;01mif\u001b[39;00m is_integer(indexer):\n\u001b[1;32m   3809\u001b[0m     indexer \u001b[38;5;241m=\u001b[39m [indexer]\n",
      "File \u001b[0;32m~/.local/lib/python3.10/site-packages/pandas/core/indexes/base.py:3804\u001b[0m, in \u001b[0;36mIndex.get_loc\u001b[0;34m(self, key, method, tolerance)\u001b[0m\n\u001b[1;32m   3802\u001b[0m     \u001b[38;5;28;01mreturn\u001b[39;00m \u001b[38;5;28mself\u001b[39m\u001b[38;5;241m.\u001b[39m_engine\u001b[38;5;241m.\u001b[39mget_loc(casted_key)\n\u001b[1;32m   3803\u001b[0m \u001b[38;5;28;01mexcept\u001b[39;00m \u001b[38;5;167;01mKeyError\u001b[39;00m \u001b[38;5;28;01mas\u001b[39;00m err:\n\u001b[0;32m-> 3804\u001b[0m     \u001b[38;5;28;01mraise\u001b[39;00m \u001b[38;5;167;01mKeyError\u001b[39;00m(key) \u001b[38;5;28;01mfrom\u001b[39;00m \u001b[38;5;21;01merr\u001b[39;00m\n\u001b[1;32m   3805\u001b[0m \u001b[38;5;28;01mexcept\u001b[39;00m \u001b[38;5;167;01mTypeError\u001b[39;00m:\n\u001b[1;32m   3806\u001b[0m     \u001b[38;5;66;03m# If we have a listlike key, _check_indexing_error will raise\u001b[39;00m\n\u001b[1;32m   3807\u001b[0m     \u001b[38;5;66;03m#  InvalidIndexError. Otherwise we fall through and re-raise\u001b[39;00m\n\u001b[1;32m   3808\u001b[0m     \u001b[38;5;66;03m#  the TypeError.\u001b[39;00m\n\u001b[1;32m   3809\u001b[0m     \u001b[38;5;28mself\u001b[39m\u001b[38;5;241m.\u001b[39m_check_indexing_error(key)\n",
      "\u001b[0;31mKeyError\u001b[0m: 'oba_DET'"
     ]
    }
   ],
   "source": [
    "# Reshape data for faceted plots\n",
    "# check column names - df[df.columns[pd.Series(df.columns).str.startswith('oba')]]\n",
    "sources = ['oba', 'nyt', 'wsj']\n",
    "POSFacetPlotData  = pd.DataFrame(columns=['date', 'source', 'pos', 'proportion'])\n",
    "\n",
    "for i in range(len(df)):\n",
    "    for source in sources:\n",
    "        for pos in unique_pos:\n",
    "            POSFacetPlotData.loc[len(POSFacetPlotData)] = [df['date'].iloc[i], source, pos, df[source+'_'+pos].iloc[i]]\n",
    "            \n",
    "POSFacetPlotData['date'] = pd.to_datetime(POSFacetPlotData['date'])\n",
    "POSFacetPlotData.shape # Should be (4800, 4) "
   ]
  },
  {
   "cell_type": "code",
   "execution_count": null,
   "id": "164e81d8",
   "metadata": {},
   "outputs": [],
   "source": [
    "# Save it!\n",
    "#POSFacetPlotData.to_csv('POSFacetPlotData')"
   ]
  },
  {
   "cell_type": "code",
   "execution_count": null,
   "id": "5b6f65b5",
   "metadata": {},
   "outputs": [],
   "source": [
    "# Give it 15ish seconds or so\n",
    "# <seaborn.axisgrid.FacetGrid at 0x7efac9f911b0> comes up after about 10 seconds, the plots will follow later\n",
    "times = facetPlotData.date.unique()\n",
    "g = sns.FacetGrid(facetPlotData, col=\"source\", row=\"pos\", height=6, aspect=2.5)\n",
    "g.map(sns.barplot, \"date\", \"proportion\", errorbar=None, order=times)\n",
    "plt.show()"
   ]
  },
  {
   "cell_type": "code",
   "execution_count": null,
   "id": "ee9c3043",
   "metadata": {},
   "outputs": [],
   "source": [
    "g.savefig(\"pos_facet_plot.png\", bbox_inches=\"tight\", dpi=300)"
   ]
  },
  {
   "cell_type": "code",
   "execution_count": null,
   "id": "018e3722",
   "metadata": {},
   "outputs": [],
   "source": []
  }
 ],
 "metadata": {
  "kernelspec": {
   "display_name": "Python 3 (ipykernel)",
   "language": "python",
   "name": "python3"
  },
  "language_info": {
   "codemirror_mode": {
    "name": "ipython",
    "version": 3
   },
   "file_extension": ".py",
   "mimetype": "text/x-python",
   "name": "python",
   "nbconvert_exporter": "python",
   "pygments_lexer": "ipython3",
   "version": "3.10.6"
  }
 },
 "nbformat": 4,
 "nbformat_minor": 5
}
