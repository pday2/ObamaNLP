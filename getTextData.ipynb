{
 "cells": [
  {
   "cell_type": "markdown",
   "metadata": {},
   "source": [
    "## This script performs webscraping on the top 100 speeches using beautifulsoup package."
   ]
  },
  {
   "cell_type": "markdown",
   "metadata": {},
   "source": [
    "Importing necessary packages"
   ]
  },
  {
   "cell_type": "code",
   "execution_count": 1,
   "metadata": {},
   "outputs": [],
   "source": [
    "import requests\n",
    "import re\n",
    "import pandas as pd\n",
    "from bs4 import BeautifulSoup"
   ]
  },
  {
   "cell_type": "markdown",
   "metadata": {},
   "source": [
    "Basic setup and site access."
   ]
  },
  {
   "cell_type": "code",
   "execution_count": 1,
   "metadata": {},
   "outputs": [
    {
     "ename": "NameError",
     "evalue": "name 'requests' is not defined",
     "output_type": "error",
     "traceback": [
      "\u001b[1;31m---------------------------------------------------------------------------\u001b[0m",
      "\u001b[1;31mNameError\u001b[0m                                 Traceback (most recent call last)",
      "\u001b[1;32m~\\AppData\\Local\\Temp\\ipykernel_15768\\4294854122.py\u001b[0m in \u001b[0;36m<module>\u001b[1;34m\u001b[0m\n\u001b[0;32m      1\u001b[0m \u001b[0mMainURL\u001b[0m\u001b[1;33m=\u001b[0m\u001b[1;34m'https://www.americanrhetoric.com/top100speechesall.html'\u001b[0m\u001b[1;33m\u001b[0m\u001b[1;33m\u001b[0m\u001b[0m\n\u001b[1;32m----> 2\u001b[1;33m \u001b[0mMainPage\u001b[0m\u001b[1;33m=\u001b[0m \u001b[0mrequests\u001b[0m\u001b[1;33m.\u001b[0m\u001b[0mget\u001b[0m\u001b[1;33m(\u001b[0m\u001b[0mMainURL\u001b[0m\u001b[1;33m,\u001b[0m \u001b[0mheaders\u001b[0m\u001b[1;33m=\u001b[0m\u001b[1;33m{\u001b[0m\u001b[1;34m'user-agent'\u001b[0m\u001b[1;33m:\u001b[0m \u001b[1;34m'Mozilla/5.0'\u001b[0m\u001b[1;33m}\u001b[0m\u001b[1;33m)\u001b[0m\u001b[1;33m\u001b[0m\u001b[1;33m\u001b[0m\u001b[0m\n\u001b[0m\u001b[0;32m      3\u001b[0m \u001b[0msoup\u001b[0m\u001b[1;33m=\u001b[0m \u001b[0mBeautifulSoup\u001b[0m\u001b[1;33m(\u001b[0m\u001b[0mMainPage\u001b[0m\u001b[1;33m.\u001b[0m\u001b[0mcontent\u001b[0m\u001b[1;33m,\u001b[0m \u001b[1;34m'html.parser'\u001b[0m\u001b[1;33m)\u001b[0m\u001b[1;33m\u001b[0m\u001b[1;33m\u001b[0m\u001b[0m\n",
      "\u001b[1;31mNameError\u001b[0m: name 'requests' is not defined"
     ]
    }
   ],
   "source": [
    "MainURL='https://www.americanrhetoric.com/top100speechesall.html'\n",
    "MainPage= requests.get(MainURL, headers={'user-agent': 'Mozilla/5.0'})\n",
    "soup= BeautifulSoup(MainPage.content, 'html.parser')"
   ]
  },
  {
   "cell_type": "markdown",
   "metadata": {},
   "source": [
    "Obtaining name of the speakers and titles of the speeches from the main page."
   ]
  },
  {
   "cell_type": "code",
   "execution_count": 2,
   "metadata": {},
   "outputs": [],
   "source": [
    "names = soup.find_all(attrs={\"width\": \"203\"})\n",
    "nameList = [n.get_text(strip=True) for n in names]\n",
    "\n",
    "def findTitles (x) :\n",
    "    titles = x.find_all(attrs={\"color\":\"#BA1D01\"})\n",
    "    titleList1 = [n.get_text(strip=True) for n in titles]\n",
    "    pattern=re.compile(\"([\\r])|([\\t])|([\\n])|([\\ ]{2,})\")\n",
    "    titleListCleaned = [re.sub(pattern, '', str(title)) for title in titleList1]\n",
    "    titleListCleaned.pop(0)\n",
    "    return titleListCleaned"
   ]
  },
  {
   "cell_type": "markdown",
   "metadata": {},
   "source": [
    "Obtaining URL list for each speech from main webpage and storing them as list variable. "
   ]
  },
  {
   "cell_type": "code",
   "execution_count": 3,
   "metadata": {},
   "outputs": [],
   "source": [
    "mainlinks=[a['href'] for a in soup.find_all('a',href=True)   \n",
    "    if 'off site' in a.text \n",
    "    or a['href'].startswith('speeches') and 'PDFFiles' not in a['href']\n",
    "    or 'Belief and Public Morality' in a.text]"
   ]
  },
  {
   "cell_type": "markdown",
   "metadata": {},
   "source": [
    "Obtaining the speech, and where and when the speech is given by itirating through the URL links list.  "
   ]
  },
  {
   "cell_type": "code",
   "execution_count": 4,
   "metadata": {},
   "outputs": [],
   "source": [
    "deliveredLists = []\n",
    "speeches = []\n",
    "for i, link in enumerate(mainlinks) : \n",
    "    URL='https://www.americanrhetoric.com/'+mainlinks[i]\n",
    "    Page=requests.get(URL, headers={'user-agent': 'Mozilla/5.0'})\n",
    "    speechsoup=BeautifulSoup(Page.content, 'html.parser')\n",
    "    findWhere = speechsoup.find_all(attrs={\"color\":\"#CE0A04\"})\n",
    "    deliveredLists.append([n.get_text(strip=True) for n in findWhere])\n",
    "    findspeeches = speechsoup.find_all(\"font\",{'face':'Verdana'})\n",
    "    speeches.append([n.get_text(strip=True) for n in findspeeches])\n"
   ]
  },
  {
   "cell_type": "markdown",
   "metadata": {},
   "source": [
    "Since some of the speeches cannot be scraped with the common tags and attibutes above, and it sometimes gets some extra information that we do not need the lists should be cleaned. These cleaned list also gives us which data is missing and needs extra scrapping. "
   ]
  },
  {
   "cell_type": "code",
   "execution_count": 5,
   "metadata": {},
   "outputs": [],
   "source": [
    "deliveredAtCleaned = []\n",
    "\n",
    "for i, place in enumerate(deliveredLists) : \n",
    "    if len(place) == 0 : \n",
    "        deliveredAtCleaned.append(None) \n",
    "    else : \n",
    "        for p in place : \n",
    "            if p.startswith('deliver') or p.startswith('Deliver') or p.startswith('Radio') or p.startswith('Broadcast') or p.startswith('broadcast') or p.startswith('presented') or p.startswith('Air') or p.startswith('original') or p.startswith('Paper') : \n",
    "                deliveredAtCleaned.append(p)     "
   ]
  },
  {
   "cell_type": "code",
   "execution_count": 6,
   "metadata": {},
   "outputs": [],
   "source": [
    "speechesCleaned = []\n",
    "\n",
    "for i, speech in enumerate(speeches) :\n",
    "    if len(speeches[i]) <= 4 :\n",
    "        speechesCleaned.append(None)\n",
    "    else : \n",
    "        script=' '.join([str(line) for line in speech])\n",
    "        script=' '.join(script.split())\n",
    "        speechesCleaned.append(script)\n"
   ]
  },
  {
   "cell_type": "markdown",
   "metadata": {},
   "source": [
    "Writing the information into a pandas dataframe. "
   ]
  },
  {
   "cell_type": "code",
   "execution_count": 7,
   "metadata": {},
   "outputs": [
    {
     "data": {
      "text/html": [
       "<div>\n",
       "<style scoped>\n",
       "    .dataframe tbody tr th:only-of-type {\n",
       "        vertical-align: middle;\n",
       "    }\n",
       "\n",
       "    .dataframe tbody tr th {\n",
       "        vertical-align: top;\n",
       "    }\n",
       "\n",
       "    .dataframe thead th {\n",
       "        text-align: right;\n",
       "    }\n",
       "</style>\n",
       "<table border=\"1\" class=\"dataframe\">\n",
       "  <thead>\n",
       "    <tr style=\"text-align: right;\">\n",
       "      <th></th>\n",
       "      <th>Speaker</th>\n",
       "      <th>Title</th>\n",
       "      <th>Links</th>\n",
       "      <th>Delivered</th>\n",
       "      <th>Speeches</th>\n",
       "    </tr>\n",
       "  </thead>\n",
       "  <tbody>\n",
       "    <tr>\n",
       "      <th>0</th>\n",
       "      <td>Martin Luther King, Jr.</td>\n",
       "      <td>I Have A Dream</td>\n",
       "      <td>speeches/mlkihaveadream.htm</td>\n",
       "      <td>delivered \\r\\n      28 August 1963, at the Lin...</td>\n",
       "      <td>I am happy to join with you today in what will...</td>\n",
       "    </tr>\n",
       "    <tr>\n",
       "      <th>1</th>\n",
       "      <td>John Fitzgerald Kennedy</td>\n",
       "      <td>Inaugural Address</td>\n",
       "      <td>speeches/jfkinaugural.htm</td>\n",
       "      <td>delivered 20 January 1961, \\r\\nWashington, D.C.</td>\n",
       "      <td>Vice President Johnson, Mr. Speaker, Mr. Chief...</td>\n",
       "    </tr>\n",
       "    <tr>\n",
       "      <th>2</th>\n",
       "      <td>Franklin Delano Roosevelt</td>\n",
       "      <td>First Inaugural Address</td>\n",
       "      <td>speeches/fdrfirstinaugural.html</td>\n",
       "      <td>Delivered 4 March 1933</td>\n",
       "      <td>President Hoover, Mr. Chief Justice, my friend...</td>\n",
       "    </tr>\n",
       "    <tr>\n",
       "      <th>3</th>\n",
       "      <td>Franklin Delano Roosevelt</td>\n",
       "      <td>Pearl Harbor Address to the Nation</td>\n",
       "      <td>speeches/fdrpearlharbor.htm</td>\n",
       "      <td>delivered 8 \\r\\nDecember 1941, Washington, D.C.</td>\n",
       "      <td>Mr. Vice President, Mr. Speaker, Members of th...</td>\n",
       "    </tr>\n",
       "    <tr>\n",
       "      <th>4</th>\n",
       "      <td>Barbara Charline Jordan</td>\n",
       "      <td>1976 DNC Keynote Address</td>\n",
       "      <td>speeches/barbarajordan1976dnc.html</td>\n",
       "      <td>delivered 12 July 1976, New York, NY</td>\n",
       "      <td>Thank you ladies and gentlemen for a very warm...</td>\n",
       "    </tr>\n",
       "    <tr>\n",
       "      <th>5</th>\n",
       "      <td>Richard Milhous Nixon</td>\n",
       "      <td>Checkers</td>\n",
       "      <td>speeches/richardnixoncheckers.html</td>\n",
       "      <td>delivered and broadcast live on television 23 ...</td>\n",
       "      <td>My Fellow Americans, I come before you tonight...</td>\n",
       "    </tr>\n",
       "    <tr>\n",
       "      <th>6</th>\n",
       "      <td>Malcolm X</td>\n",
       "      <td>The Ballot or the B</td>\n",
       "      <td>http://americanradioworks.publicradio.org/feat...</td>\n",
       "      <td>None</td>\n",
       "      <td>None</td>\n",
       "    </tr>\n",
       "    <tr>\n",
       "      <th>7</th>\n",
       "      <td>Ronald Wilson Reagan</td>\n",
       "      <td>Shuttle 'Challenger' Disaster Address</td>\n",
       "      <td>speeches/ronaldreaganchallenger.htm</td>\n",
       "      <td>delivered 28 January 1986</td>\n",
       "      <td>Ladies and Gentlemen, I'd planned to speakto y...</td>\n",
       "    </tr>\n",
       "    <tr>\n",
       "      <th>8</th>\n",
       "      <td>John Fitzgerald Kennedy</td>\n",
       "      <td>Houston Ministerial Association</td>\n",
       "      <td>speeches/jfkhoustonministers.html</td>\n",
       "      <td>delivered 12 September 1960 at the Rice Hotel ...</td>\n",
       "      <td>Reverend Meza, Reverend Reck, I'm grateful for...</td>\n",
       "    </tr>\n",
       "    <tr>\n",
       "      <th>9</th>\n",
       "      <td>Lyndon Baines Johnson</td>\n",
       "      <td>We Shall Overcome</td>\n",
       "      <td>speeches/lbjweshallovercome.htm</td>\n",
       "      <td>delivered 15 March 1965, \\r\\nWashington, D.C.</td>\n",
       "      <td>Mr. Speaker, Mr. President, Members of the Con...</td>\n",
       "    </tr>\n",
       "  </tbody>\n",
       "</table>\n",
       "</div>"
      ],
      "text/plain": [
       "                     Speaker                                  Title  \\\n",
       "0    Martin Luther King, Jr.                         I Have A Dream   \n",
       "1    John Fitzgerald Kennedy                      Inaugural Address   \n",
       "2  Franklin Delano Roosevelt                First Inaugural Address   \n",
       "3  Franklin Delano Roosevelt     Pearl Harbor Address to the Nation   \n",
       "4    Barbara Charline Jordan               1976 DNC Keynote Address   \n",
       "5      Richard Milhous Nixon                               Checkers   \n",
       "6                  Malcolm X                    The Ballot or the B   \n",
       "7       Ronald Wilson Reagan  Shuttle 'Challenger' Disaster Address   \n",
       "8    John Fitzgerald Kennedy        Houston Ministerial Association   \n",
       "9      Lyndon Baines Johnson                      We Shall Overcome   \n",
       "\n",
       "                                               Links  \\\n",
       "0                        speeches/mlkihaveadream.htm   \n",
       "1                          speeches/jfkinaugural.htm   \n",
       "2                    speeches/fdrfirstinaugural.html   \n",
       "3                        speeches/fdrpearlharbor.htm   \n",
       "4                 speeches/barbarajordan1976dnc.html   \n",
       "5                 speeches/richardnixoncheckers.html   \n",
       "6  http://americanradioworks.publicradio.org/feat...   \n",
       "7                speeches/ronaldreaganchallenger.htm   \n",
       "8                  speeches/jfkhoustonministers.html   \n",
       "9                    speeches/lbjweshallovercome.htm   \n",
       "\n",
       "                                           Delivered  \\\n",
       "0  delivered \\r\\n      28 August 1963, at the Lin...   \n",
       "1    delivered 20 January 1961, \\r\\nWashington, D.C.   \n",
       "2                             Delivered 4 March 1933   \n",
       "3    delivered 8 \\r\\nDecember 1941, Washington, D.C.   \n",
       "4               delivered 12 July 1976, New York, NY   \n",
       "5  delivered and broadcast live on television 23 ...   \n",
       "6                                               None   \n",
       "7                          delivered 28 January 1986   \n",
       "8  delivered 12 September 1960 at the Rice Hotel ...   \n",
       "9      delivered 15 March 1965, \\r\\nWashington, D.C.   \n",
       "\n",
       "                                            Speeches  \n",
       "0  I am happy to join with you today in what will...  \n",
       "1  Vice President Johnson, Mr. Speaker, Mr. Chief...  \n",
       "2  President Hoover, Mr. Chief Justice, my friend...  \n",
       "3  Mr. Vice President, Mr. Speaker, Members of th...  \n",
       "4  Thank you ladies and gentlemen for a very warm...  \n",
       "5  My Fellow Americans, I come before you tonight...  \n",
       "6                                               None  \n",
       "7  Ladies and Gentlemen, I'd planned to speakto y...  \n",
       "8  Reverend Meza, Reverend Reck, I'm grateful for...  \n",
       "9  Mr. Speaker, Mr. President, Members of the Con...  "
      ]
     },
     "execution_count": 7,
     "metadata": {},
     "output_type": "execute_result"
    }
   ],
   "source": [
    "# Creating DF\n",
    "df = pd.DataFrame(list(zip(nameList, findTitles(soup), mainlinks, deliveredAtCleaned, speechesCleaned)),\n",
    "               columns =['Speaker', 'Title', 'Links', \"Delivered\", 'Speeches'])\n",
    "\n",
    "df.head(10)"
   ]
  },
  {
   "cell_type": "markdown",
   "metadata": {},
   "source": [
    "Checking which data is missing. "
   ]
  },
  {
   "cell_type": "code",
   "execution_count": 8,
   "metadata": {},
   "outputs": [
    {
     "data": {
      "text/html": [
       "<div>\n",
       "<style scoped>\n",
       "    .dataframe tbody tr th:only-of-type {\n",
       "        vertical-align: middle;\n",
       "    }\n",
       "\n",
       "    .dataframe tbody tr th {\n",
       "        vertical-align: top;\n",
       "    }\n",
       "\n",
       "    .dataframe thead th {\n",
       "        text-align: right;\n",
       "    }\n",
       "</style>\n",
       "<table border=\"1\" class=\"dataframe\">\n",
       "  <thead>\n",
       "    <tr style=\"text-align: right;\">\n",
       "      <th></th>\n",
       "      <th>Speaker</th>\n",
       "      <th>Title</th>\n",
       "      <th>Links</th>\n",
       "      <th>Delivered</th>\n",
       "      <th>Speeches</th>\n",
       "    </tr>\n",
       "  </thead>\n",
       "  <tbody>\n",
       "    <tr>\n",
       "      <th>6</th>\n",
       "      <td>Malcolm X</td>\n",
       "      <td>The Ballot or the B</td>\n",
       "      <td>http://americanradioworks.publicradio.org/feat...</td>\n",
       "      <td>None</td>\n",
       "      <td>None</td>\n",
       "    </tr>\n",
       "    <tr>\n",
       "      <th>13</th>\n",
       "      <td>(Gen) Douglas MacArthur</td>\n",
       "      <td>Farewell Address to Congress</td>\n",
       "      <td>speeches/douglasmacarthurfarewelladdress.htm</td>\n",
       "      <td>delivered 19 April 1951, \\r\\nWashington, D.C.</td>\n",
       "      <td>None</td>\n",
       "    </tr>\n",
       "    <tr>\n",
       "      <th>41</th>\n",
       "      <td>Franklin Delano Roosevelt</td>\n",
       "      <td>The Four Freedoms</td>\n",
       "      <td>speeches/fdrthefourfreedoms.htm</td>\n",
       "      <td>delivered 6 January, 1941</td>\n",
       "      <td>None</td>\n",
       "    </tr>\n",
       "    <tr>\n",
       "      <th>43</th>\n",
       "      <td>William Jennings Bryan</td>\n",
       "      <td>Against Imperialism</td>\n",
       "      <td>speeches/wjbryanimperialism.htm</td>\n",
       "      <td>delivered  8 August 1900, Indianapolis, IN</td>\n",
       "      <td>None</td>\n",
       "    </tr>\n",
       "    <tr>\n",
       "      <th>58</th>\n",
       "      <td>Mario Matthew Cuomo</td>\n",
       "      <td>Religious Belief and Public Morality</td>\n",
       "      <td>http://archives.nd.edu/research/texts/cuomo.ht...</td>\n",
       "      <td>None</td>\n",
       "      <td>None</td>\n",
       "    </tr>\n",
       "    <tr>\n",
       "      <th>79</th>\n",
       "      <td>Eugene Victor Debs</td>\n",
       "      <td>The Issue (off site)</td>\n",
       "      <td>https://www.marxists.org/archive/debs/works/19...</td>\n",
       "      <td>None</td>\n",
       "      <td>None</td>\n",
       "    </tr>\n",
       "    <tr>\n",
       "      <th>82</th>\n",
       "      <td>Crystal Eastman</td>\n",
       "      <td>Now We Can Begi</td>\n",
       "      <td>https://womenshistory.info/now-can-begin-whats...</td>\n",
       "      <td>None</td>\n",
       "      <td>None</td>\n",
       "    </tr>\n",
       "    <tr>\n",
       "      <th>88</th>\n",
       "      <td>Malcolm X</td>\n",
       "      <td>Message to the Grassroot</td>\n",
       "      <td>http://teachingamericanhistory.org/library/ind...</td>\n",
       "      <td>None</td>\n",
       "      <td>None</td>\n",
       "    </tr>\n",
       "  </tbody>\n",
       "</table>\n",
       "</div>"
      ],
      "text/plain": [
       "                      Speaker                                 Title  \\\n",
       "6                   Malcolm X                   The Ballot or the B   \n",
       "13    (Gen) Douglas MacArthur          Farewell Address to Congress   \n",
       "41  Franklin Delano Roosevelt                     The Four Freedoms   \n",
       "43     William Jennings Bryan                   Against Imperialism   \n",
       "58        Mario Matthew Cuomo  Religious Belief and Public Morality   \n",
       "79         Eugene Victor Debs                  The Issue (off site)   \n",
       "82            Crystal Eastman                       Now We Can Begi   \n",
       "88                  Malcolm X              Message to the Grassroot   \n",
       "\n",
       "                                                Links  \\\n",
       "6   http://americanradioworks.publicradio.org/feat...   \n",
       "13       speeches/douglasmacarthurfarewelladdress.htm   \n",
       "41                    speeches/fdrthefourfreedoms.htm   \n",
       "43                    speeches/wjbryanimperialism.htm   \n",
       "58  http://archives.nd.edu/research/texts/cuomo.ht...   \n",
       "79  https://www.marxists.org/archive/debs/works/19...   \n",
       "82  https://womenshistory.info/now-can-begin-whats...   \n",
       "88  http://teachingamericanhistory.org/library/ind...   \n",
       "\n",
       "                                        Delivered Speeches  \n",
       "6                                            None     None  \n",
       "13  delivered 19 April 1951, \\r\\nWashington, D.C.     None  \n",
       "41                      delivered 6 January, 1941     None  \n",
       "43     delivered  8 August 1900, Indianapolis, IN     None  \n",
       "58                                           None     None  \n",
       "79                                           None     None  \n",
       "82                                           None     None  \n",
       "88                                           None     None  "
      ]
     },
     "execution_count": 8,
     "metadata": {},
     "output_type": "execute_result"
    }
   ],
   "source": [
    "df[df['Speeches'].isna()]"
   ]
  },
  {
   "cell_type": "markdown",
   "metadata": {},
   "source": [
    "There are 8 speeches that need to be scraped individually from different sources and different html structures. This extracted information is added to dataframe."
   ]
  },
  {
   "cell_type": "code",
   "execution_count": 9,
   "metadata": {},
   "outputs": [],
   "source": [
    "speech6 ='http://americanradioworks.publicradio.org/features/blackspeech/mx.html'\n",
    "MainPage6= requests.get(speech6, headers={'user-agent': 'Mozilla/5.0'})\n",
    "soup= BeautifulSoup(MainPage6.content, 'html.parser')    \n",
    "soup6 = soup.select('blockquote p')\n",
    "speech6 = [n.get_text(strip=True) for n in soup6]\n",
    "listToStr6 = ' '.join([str(elem) for elem in speech6])\n",
    "df['Speeches'][6] = str(listToStr6)\n",
    "df['Delivered'][6] = 'King Solomon Baptist Church, Detroit, Michigan - April 12, 1964'"
   ]
  },
  {
   "cell_type": "code",
   "execution_count": 10,
   "metadata": {},
   "outputs": [],
   "source": [
    "speech13 ='https://www.americanrhetoric.com/speeches/douglasmacarthurfarewelladdress.htm'\n",
    "MainPage13= requests.get(speech13, headers={'user-agent': 'Mozilla/5.0'})\n",
    "soup= BeautifulSoup(MainPage13.content, 'html.parser') \n",
    "soup13 = soup.find_all(attrs={\"style\": \"font-family:Verdana\"})\n",
    "speech13 = [n.get_text(strip=True) for n in soup13]\n",
    "listToStr13 = ' '.join([str(elem) for elem in speech13])\n",
    "df['Speeches'][13] = str(listToStr13)"
   ]
  },
  {
   "cell_type": "code",
   "execution_count": 11,
   "metadata": {},
   "outputs": [],
   "source": [
    "speech41 ='https://www.americanrhetoric.com/speeches/fdrthefourfreedoms.htm'\n",
    "MainPage41= requests.get(speech41, headers={'user-agent': 'Mozilla/5.0'})\n",
    "soup= BeautifulSoup(MainPage41.content, 'html.parser') \n",
    "soup41 = soup.select('.MsoNormal')\n",
    "speech41 = [n.get_text(strip=True) for n in soup41]\n",
    "listToStr41 = ' '.join([str(elem) for elem in speech41])\n",
    "df['Speeches'][41] = str(listToStr41)"
   ]
  },
  {
   "cell_type": "code",
   "execution_count": 12,
   "metadata": {},
   "outputs": [],
   "source": [
    "speech43 ='https://www.americanrhetoric.com/speeches/wjbryanimperialism.htm'\n",
    "MainPage43= requests.get(speech43, headers={'user-agent': 'Mozilla/5.0'})\n",
    "soup= BeautifulSoup(MainPage43.content, 'html.parser') \n",
    "soup43 = soup.select('.MsoNormal')\n",
    "speech43 = [n.get_text(strip=True) for n in soup43]\n",
    "del speech43[115:]\n",
    "listToStr43 = ' '.join([str(elem) for elem in speech43])\n",
    "df['Speeches'][43] = str(listToStr43)"
   ]
  },
  {
   "cell_type": "code",
   "execution_count": 13,
   "metadata": {},
   "outputs": [],
   "source": [
    "speech58 ='http://archives.nd.edu/research/texts/cuomo.htm?DocID=14'\n",
    "MainPage58= requests.get(speech58, headers={'user-agent': 'Mozilla/5.0'})\n",
    "soup= BeautifulSoup(MainPage58.content, 'html.parser')    \n",
    "soup58 = soup.select(\".mainbody\")\n",
    "speech58 = [n.get_text(strip=True) for n in soup58]\n",
    "del speech58[0:2]\n",
    "listToStr58 = ' '.join([str(elem) for elem in speech58])\n",
    "df['Speeches'][58] = str(listToStr58)\n",
    "df['Delivered'][58] = \"delivered September 13, 1984, as a John A. O'Brien Lecture in the University of Notre Dame's Department of Theology\""
   ]
  },
  {
   "cell_type": "code",
   "execution_count": 14,
   "metadata": {},
   "outputs": [],
   "source": [
    "speech79 = 'https://www.marxists.org/archive/debs/works/1908/issue.htm'\n",
    "MainPage79= requests.get(speech79, headers={'user-agent': 'Mozilla/5.0'})\n",
    "soup= BeautifulSoup(MainPage79.content, 'html.parser')    \n",
    "soup79 = soup.select(\"p\")\n",
    "soup79speech = [n.get_text(strip=True) for n in soup79]\n",
    "soup79sliced = soup79speech[slice(2, 59)]\n",
    "listToStr79 = ' '.join([str(elem) for elem in soup79sliced])\n",
    "df['Speeches'][79] = str(listToStr79)\n",
    "df['Delivered'][79] = \"May 23, 1908\""
   ]
  },
  {
   "cell_type": "code",
   "execution_count": 15,
   "metadata": {},
   "outputs": [],
   "source": [
    "speech82 ='https://womenshistory.info/now-can-begin-whats-next-beyond-woman-suffrage/'\n",
    "MainPage82= requests.get(speech82, headers={'user-agent': 'Mozilla/5.0'})\n",
    "soup= BeautifulSoup(MainPage82.content, 'html.parser')    \n",
    "soup82 = soup.select(\"blockquote\")\n",
    "soup82speech = [n.get_text(strip=True) for n in soup82]\n",
    "listToStr82 = ' '.join([str(elem) for elem in soup82speech])\n",
    "df['Speeches'][82] = str(listToStr82)\n",
    "df['Delivered'][82] = 'published in 1920'"
   ]
  },
  {
   "cell_type": "code",
   "execution_count": 16,
   "metadata": {},
   "outputs": [],
   "source": [
    "speech88 ='https://teachingamericanhistory.org/document/message-to-grassroots/'\n",
    "MainPage88= requests.get(speech88, headers={'user-agent': 'Mozilla/5.0'})\n",
    "soup= BeautifulSoup(MainPage88.content, 'html.parser')  \n",
    "soup88 = soup.select('div > p')\n",
    "soup88speech = [n.get_text(strip=True) for n in soup88]\n",
    "soup88sliced = soup88speech[slice(2, 41)]\n",
    "listToStr88 = ' '.join([str(elem) for elem in soup88sliced])\n",
    "df['Speeches'][88] = str(listToStr88)\n",
    "df['Delivered'][88] = 'November 10, 1963'"
   ]
  },
  {
   "cell_type": "markdown",
   "metadata": {},
   "source": [
    "Write the dataframe to a CSV file."
   ]
  },
  {
   "cell_type": "code",
   "execution_count": 18,
   "metadata": {},
   "outputs": [],
   "source": [
    "df.to_csv('Data/speeches.csv', encoding='utf-8')"
   ]
  }
 ],
 "metadata": {
  "interpreter": {
   "hash": "9d0d48d9045219c7e42dc97b2cfc48d630dfde08304936750cc668ab108143fd"
  },
  "kernelspec": {
   "display_name": "Python 3 (ipykernel)",
   "language": "python",
   "name": "python3"
  },
  "language_info": {
   "codemirror_mode": {
    "name": "ipython",
    "version": 3
   },
   "file_extension": ".py",
   "mimetype": "text/x-python",
   "name": "python",
   "nbconvert_exporter": "python",
   "pygments_lexer": "ipython3",
   "version": "3.9.2"
  }
 },
 "nbformat": 4,
 "nbformat_minor": 2
}
