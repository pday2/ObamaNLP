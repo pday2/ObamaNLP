{
 "cells": [
  {
   "cell_type": "code",
   "execution_count": 1,
   "metadata": {},
   "outputs": [],
   "source": [
    "#Load packages\n",
    "import pandas as pd\n",
    "from vaderSentiment.vaderSentiment import SentimentIntensityAnalyzer\n",
    "analyzer=SentimentIntensityAnalyzer()\n",
    "import matplotlib.pyplot as plt\n",
    "import plotly.express as px"
   ]
  },
  {
   "cell_type": "markdown",
   "metadata": {},
   "source": [
    "## Part 1: Rule-based Sentiment analysis using VADER"
   ]
  },
  {
   "cell_type": "code",
   "execution_count": 2,
   "metadata": {},
   "outputs": [
    {
     "data": {
      "text/html": [
       "<div>\n",
       "<style scoped>\n",
       "    .dataframe tbody tr th:only-of-type {\n",
       "        vertical-align: middle;\n",
       "    }\n",
       "\n",
       "    .dataframe tbody tr th {\n",
       "        vertical-align: top;\n",
       "    }\n",
       "\n",
       "    .dataframe thead th {\n",
       "        text-align: right;\n",
       "    }\n",
       "</style>\n",
       "<table border=\"1\" class=\"dataframe\">\n",
       "  <thead>\n",
       "    <tr style=\"text-align: right;\">\n",
       "      <th></th>\n",
       "      <th>Unnamed: 0</th>\n",
       "      <th>file</th>\n",
       "      <th>text_oba</th>\n",
       "      <th>text_wsj</th>\n",
       "      <th>text_nyt</th>\n",
       "      <th>date</th>\n",
       "    </tr>\n",
       "  </thead>\n",
       "  <tbody>\n",
       "    <tr>\n",
       "      <th>0</th>\n",
       "      <td>0</td>\n",
       "      <td>2004-07-28-DNCSpeech.txt</td>\n",
       "      <td>On behalf of the great state of Illinois, cros...</td>\n",
       "      <td>John Kerry's decorated service in Vietnam took...</td>\n",
       "      <td>Barack Obama took the dais as the keynote spea...</td>\n",
       "      <td>2004-07-28</td>\n",
       "    </tr>\n",
       "    <tr>\n",
       "      <th>1</th>\n",
       "      <td>1</td>\n",
       "      <td>2008-06-04-ObamaNomination.txt</td>\n",
       "      <td>Thank you....Thank you. What a -- What a wonde...</td>\n",
       "      <td>Sen. Barack Obama captured enough convention d...</td>\n",
       "      <td>Senator Barack Obama claimed the Democratic pr...</td>\n",
       "      <td>2008-06-04</td>\n",
       "    </tr>\n",
       "    <tr>\n",
       "      <th>2</th>\n",
       "      <td>2</td>\n",
       "      <td>2008-11-05-ObamaElected.txt</td>\n",
       "      <td>Hello, Chicago.\\n\\nIf there is anyone out ther...</td>\n",
       "      <td>Sen. Barack Obama was elected the nation's fir...</td>\n",
       "      <td>Barack Hussein Obama was elected the 44th pres...</td>\n",
       "      <td>2008-11-05</td>\n",
       "    </tr>\n",
       "  </tbody>\n",
       "</table>\n",
       "</div>"
      ],
      "text/plain": [
       "   Unnamed: 0                            file  \\\n",
       "0           0        2004-07-28-DNCSpeech.txt   \n",
       "1           1  2008-06-04-ObamaNomination.txt   \n",
       "2           2     2008-11-05-ObamaElected.txt   \n",
       "\n",
       "                                            text_oba  \\\n",
       "0  On behalf of the great state of Illinois, cros...   \n",
       "1  Thank you....Thank you. What a -- What a wonde...   \n",
       "2  Hello, Chicago.\\n\\nIf there is anyone out ther...   \n",
       "\n",
       "                                            text_wsj  \\\n",
       "0  John Kerry's decorated service in Vietnam took...   \n",
       "1  Sen. Barack Obama captured enough convention d...   \n",
       "2  Sen. Barack Obama was elected the nation's fir...   \n",
       "\n",
       "                                            text_nyt        date  \n",
       "0  Barack Obama took the dais as the keynote spea...  2004-07-28  \n",
       "1  Senator Barack Obama claimed the Democratic pr...  2008-06-04  \n",
       "2  Barack Hussein Obama was elected the 44th pres...  2008-11-05  "
      ]
     },
     "execution_count": 2,
     "metadata": {},
     "output_type": "execute_result"
    }
   ],
   "source": [
    "#Load previously created data of oba, wsj and nyt - see nrcEmotionAnalysis.ipynb\n",
    "data = pd.read_csv('nonEmotiondata.csv')\n",
    "data.head(3)"
   ]
  },
  {
   "cell_type": "code",
   "execution_count": 3,
   "metadata": {},
   "outputs": [
    {
     "name": "stderr",
     "output_type": "stream",
     "text": [
      "C:\\Users\\Kylan\\AppData\\Local\\Temp\\ipykernel_21192\\3916138746.py:5: SettingWithCopyWarning: \n",
      "A value is trying to be set on a copy of a slice from a DataFrame\n",
      "\n",
      "See the caveats in the documentation: https://pandas.pydata.org/pandas-docs/stable/user_guide/indexing.html#returning-a-view-versus-a-copy\n",
      "  data['oba_scores'][i]=analyzer.polarity_scores(data.iloc[i,2])\n",
      "C:\\Users\\Kylan\\AppData\\Local\\Temp\\ipykernel_21192\\3916138746.py:6: SettingWithCopyWarning: \n",
      "A value is trying to be set on a copy of a slice from a DataFrame\n",
      "\n",
      "See the caveats in the documentation: https://pandas.pydata.org/pandas-docs/stable/user_guide/indexing.html#returning-a-view-versus-a-copy\n",
      "  data['wsj_scores'][i]=analyzer.polarity_scores(data.iloc[i,3])\n",
      "C:\\Users\\Kylan\\AppData\\Local\\Temp\\ipykernel_21192\\3916138746.py:7: SettingWithCopyWarning: \n",
      "A value is trying to be set on a copy of a slice from a DataFrame\n",
      "\n",
      "See the caveats in the documentation: https://pandas.pydata.org/pandas-docs/stable/user_guide/indexing.html#returning-a-view-versus-a-copy\n",
      "  data['nyt_scores'][i]=analyzer.polarity_scores(data.iloc[i,4])\n"
     ]
    }
   ],
   "source": [
    "data['oba_scores']=0\n",
    "data['wsj_scores']=0\n",
    "data['nyt_scores']=0\n",
    "for i in range(0,len(data)):\n",
    "    data['oba_scores'][i]=analyzer.polarity_scores(data.iloc[i,2])\n",
    "    data['wsj_scores'][i]=analyzer.polarity_scores(data.iloc[i,3])\n",
    "    data['nyt_scores'][i]=analyzer.polarity_scores(data.iloc[i,4])\n",
    "#Calculating scores with vader and adding them to the df\n"
   ]
  },
  {
   "cell_type": "code",
   "execution_count": 4,
   "metadata": {},
   "outputs": [
    {
     "data": {
      "text/html": [
       "<div>\n",
       "<style scoped>\n",
       "    .dataframe tbody tr th:only-of-type {\n",
       "        vertical-align: middle;\n",
       "    }\n",
       "\n",
       "    .dataframe tbody tr th {\n",
       "        vertical-align: top;\n",
       "    }\n",
       "\n",
       "    .dataframe thead th {\n",
       "        text-align: right;\n",
       "    }\n",
       "</style>\n",
       "<table border=\"1\" class=\"dataframe\">\n",
       "  <thead>\n",
       "    <tr style=\"text-align: right;\">\n",
       "      <th></th>\n",
       "      <th>Unnamed: 0</th>\n",
       "      <th>file</th>\n",
       "      <th>text_oba</th>\n",
       "      <th>text_wsj</th>\n",
       "      <th>text_nyt</th>\n",
       "      <th>date</th>\n",
       "      <th>oba_scores</th>\n",
       "      <th>wsj_scores</th>\n",
       "      <th>nyt_scores</th>\n",
       "    </tr>\n",
       "  </thead>\n",
       "  <tbody>\n",
       "    <tr>\n",
       "      <th>0</th>\n",
       "      <td>0</td>\n",
       "      <td>2004-07-28-DNCSpeech.txt</td>\n",
       "      <td>On behalf of the great state of Illinois, cros...</td>\n",
       "      <td>John Kerry's decorated service in Vietnam took...</td>\n",
       "      <td>Barack Obama took the dais as the keynote spea...</td>\n",
       "      <td>2004-07-28</td>\n",
       "      <td>{'neg': 0.07, 'neu': 0.749, 'pos': 0.181, 'com...</td>\n",
       "      <td>{'neg': 0.111, 'neu': 0.787, 'pos': 0.102, 'co...</td>\n",
       "      <td>{'neg': 0.038, 'neu': 0.815, 'pos': 0.147, 'co...</td>\n",
       "    </tr>\n",
       "    <tr>\n",
       "      <th>1</th>\n",
       "      <td>1</td>\n",
       "      <td>2008-06-04-ObamaNomination.txt</td>\n",
       "      <td>Thank you....Thank you. What a -- What a wonde...</td>\n",
       "      <td>Sen. Barack Obama captured enough convention d...</td>\n",
       "      <td>Senator Barack Obama claimed the Democratic pr...</td>\n",
       "      <td>2008-06-04</td>\n",
       "      <td>{'neg': 0.063, 'neu': 0.76, 'pos': 0.177, 'com...</td>\n",
       "      <td>{'neg': 0.041, 'neu': 0.812, 'pos': 0.147, 'co...</td>\n",
       "      <td>{'neg': 0.05, 'neu': 0.816, 'pos': 0.133, 'com...</td>\n",
       "    </tr>\n",
       "    <tr>\n",
       "      <th>2</th>\n",
       "      <td>2</td>\n",
       "      <td>2008-11-05-ObamaElected.txt</td>\n",
       "      <td>Hello, Chicago.\\n\\nIf there is anyone out ther...</td>\n",
       "      <td>Sen. Barack Obama was elected the nation's fir...</td>\n",
       "      <td>Barack Hussein Obama was elected the 44th pres...</td>\n",
       "      <td>2008-11-05</td>\n",
       "      <td>{'neg': 0.066, 'neu': 0.758, 'pos': 0.176, 'co...</td>\n",
       "      <td>{'neg': 0.075, 'neu': 0.812, 'pos': 0.113, 'co...</td>\n",
       "      <td>{'neg': 0.066, 'neu': 0.82, 'pos': 0.114, 'com...</td>\n",
       "    </tr>\n",
       "    <tr>\n",
       "      <th>3</th>\n",
       "      <td>3</td>\n",
       "      <td>2009-01-05-EconomyPlans.txt</td>\n",
       "      <td>All right. Well, thanks for taking the time to...</td>\n",
       "      <td>President-elect Barack Obama and congressional...</td>\n",
       "      <td>President-elect Barack Obama plans to include ...</td>\n",
       "      <td>2009-01-05</td>\n",
       "      <td>{'neg': 0.072, 'neu': 0.856, 'pos': 0.072, 'co...</td>\n",
       "      <td>{'neg': 0.059, 'neu': 0.816, 'pos': 0.124, 'co...</td>\n",
       "      <td>{'neg': 0.046, 'neu': 0.872, 'pos': 0.082, 'co...</td>\n",
       "    </tr>\n",
       "    <tr>\n",
       "      <th>4</th>\n",
       "      <td>4</td>\n",
       "      <td>2009-01-20-Inauguration.txt</td>\n",
       "      <td>I, Barack Hussein Obama, do solemnly swear tha...</td>\n",
       "      <td>On a day rich in history, Barack Obama was swo...</td>\n",
       "      <td>Barack Hussein Obama was sworn in as the 44th ...</td>\n",
       "      <td>2009-01-20</td>\n",
       "      <td>{'neg': 0.105, 'neu': 0.711, 'pos': 0.184, 'co...</td>\n",
       "      <td>{'neg': 0.085, 'neu': 0.811, 'pos': 0.105, 'co...</td>\n",
       "      <td>{'neg': 0.083, 'neu': 0.813, 'pos': 0.104, 'co...</td>\n",
       "    </tr>\n",
       "  </tbody>\n",
       "</table>\n",
       "</div>"
      ],
      "text/plain": [
       "   Unnamed: 0                            file  \\\n",
       "0           0        2004-07-28-DNCSpeech.txt   \n",
       "1           1  2008-06-04-ObamaNomination.txt   \n",
       "2           2     2008-11-05-ObamaElected.txt   \n",
       "3           3     2009-01-05-EconomyPlans.txt   \n",
       "4           4     2009-01-20-Inauguration.txt   \n",
       "\n",
       "                                            text_oba  \\\n",
       "0  On behalf of the great state of Illinois, cros...   \n",
       "1  Thank you....Thank you. What a -- What a wonde...   \n",
       "2  Hello, Chicago.\\n\\nIf there is anyone out ther...   \n",
       "3  All right. Well, thanks for taking the time to...   \n",
       "4  I, Barack Hussein Obama, do solemnly swear tha...   \n",
       "\n",
       "                                            text_wsj  \\\n",
       "0  John Kerry's decorated service in Vietnam took...   \n",
       "1  Sen. Barack Obama captured enough convention d...   \n",
       "2  Sen. Barack Obama was elected the nation's fir...   \n",
       "3  President-elect Barack Obama and congressional...   \n",
       "4  On a day rich in history, Barack Obama was swo...   \n",
       "\n",
       "                                            text_nyt        date  \\\n",
       "0  Barack Obama took the dais as the keynote spea...  2004-07-28   \n",
       "1  Senator Barack Obama claimed the Democratic pr...  2008-06-04   \n",
       "2  Barack Hussein Obama was elected the 44th pres...  2008-11-05   \n",
       "3  President-elect Barack Obama plans to include ...  2009-01-05   \n",
       "4  Barack Hussein Obama was sworn in as the 44th ...  2009-01-20   \n",
       "\n",
       "                                          oba_scores  \\\n",
       "0  {'neg': 0.07, 'neu': 0.749, 'pos': 0.181, 'com...   \n",
       "1  {'neg': 0.063, 'neu': 0.76, 'pos': 0.177, 'com...   \n",
       "2  {'neg': 0.066, 'neu': 0.758, 'pos': 0.176, 'co...   \n",
       "3  {'neg': 0.072, 'neu': 0.856, 'pos': 0.072, 'co...   \n",
       "4  {'neg': 0.105, 'neu': 0.711, 'pos': 0.184, 'co...   \n",
       "\n",
       "                                          wsj_scores  \\\n",
       "0  {'neg': 0.111, 'neu': 0.787, 'pos': 0.102, 'co...   \n",
       "1  {'neg': 0.041, 'neu': 0.812, 'pos': 0.147, 'co...   \n",
       "2  {'neg': 0.075, 'neu': 0.812, 'pos': 0.113, 'co...   \n",
       "3  {'neg': 0.059, 'neu': 0.816, 'pos': 0.124, 'co...   \n",
       "4  {'neg': 0.085, 'neu': 0.811, 'pos': 0.105, 'co...   \n",
       "\n",
       "                                          nyt_scores  \n",
       "0  {'neg': 0.038, 'neu': 0.815, 'pos': 0.147, 'co...  \n",
       "1  {'neg': 0.05, 'neu': 0.816, 'pos': 0.133, 'com...  \n",
       "2  {'neg': 0.066, 'neu': 0.82, 'pos': 0.114, 'com...  \n",
       "3  {'neg': 0.046, 'neu': 0.872, 'pos': 0.082, 'co...  \n",
       "4  {'neg': 0.083, 'neu': 0.813, 'pos': 0.104, 'co...  "
      ]
     },
     "execution_count": 4,
     "metadata": {},
     "output_type": "execute_result"
    }
   ],
   "source": [
    "data.head()\n",
    "#Checking that the scores have been implemented properly"
   ]
  },
  {
   "cell_type": "code",
   "execution_count": 5,
   "metadata": {},
   "outputs": [],
   "source": [
    "oba_pos=[]\n",
    "oba_neu=[]\n",
    "oba_neg=[]\n",
    "wsj_pos=[]\n",
    "wsj_neu=[]\n",
    "wsj_neg=[]\n",
    "nyt_pos=[]\n",
    "nyt_neu=[]\n",
    "nyt_neg=[]\n",
    "for i in range(0,len(data)):\n",
    "    oba_pos.append(data['oba_scores'][i].get('pos'))\n",
    "    oba_neu.append(data['oba_scores'][i].get('neu'))\n",
    "    oba_neg.append(data['oba_scores'][i].get('neg'))\n",
    "    wsj_pos.append(data['wsj_scores'][i].get('pos'))\n",
    "    wsj_neu.append(data['wsj_scores'][i].get('neu'))\n",
    "    wsj_neg.append(data['wsj_scores'][i].get('neg'))\n",
    "    nyt_pos.append(data['nyt_scores'][i].get('pos'))\n",
    "    nyt_neu.append(data['nyt_scores'][i].get('neu'))\n",
    "    nyt_neg.append(data['nyt_scores'][i].get('neg'))\n",
    "#This is super verbose and could actually be done nicely through the use of dataframes, clean up required later"
   ]
  },
  {
   "cell_type": "code",
   "execution_count": 6,
   "metadata": {},
   "outputs": [
    {
     "data": {
      "image/png": "[encoded data removed]",
      "text/plain": [
       "<Figure size 640x480 with 1 Axes>"
      ]
     },
     "metadata": {},
     "output_type": "display_data"
    }
   ],
   "source": [
    "x=data.index\n",
    "plt.bar(x,oba_neg,color='red',label='Negative')\n",
    "plt.bar(x,oba_neu,bottom=oba_neg,color='yellow',label='Neutral')\n",
    "plt.bar(x,oba_pos,bottom=[sum(x) for x in zip(oba_neu,oba_neg)],color='green',label='Positive')\n",
    "plt.ylabel('Probability of sentiment')\n",
    "plt.title('Rule-based Sentiment analysis of Obama speeches')\n",
    "plt.legend(loc='best')\n",
    "plt.show()"
   ]
  },
  {
   "cell_type": "code",
   "execution_count": 7,
   "metadata": {},
   "outputs": [
    {
     "data": {
      "text/html": [
       "<div>\n",
       "<style scoped>\n",
       "    .dataframe tbody tr th:only-of-type {\n",
       "        vertical-align: middle;\n",
       "    }\n",
       "\n",
       "    .dataframe tbody tr th {\n",
       "        vertical-align: top;\n",
       "    }\n",
       "\n",
       "    .dataframe thead th {\n",
       "        text-align: right;\n",
       "    }\n",
       "</style>\n",
       "<table border=\"1\" class=\"dataframe\">\n",
       "  <thead>\n",
       "    <tr style=\"text-align: right;\">\n",
       "      <th></th>\n",
       "      <th>oba_neg</th>\n",
       "      <th>oba_neu</th>\n",
       "      <th>oba_pos</th>\n",
       "    </tr>\n",
       "    <tr>\n",
       "      <th>date</th>\n",
       "      <th></th>\n",
       "      <th></th>\n",
       "      <th></th>\n",
       "    </tr>\n",
       "  </thead>\n",
       "  <tbody>\n",
       "    <tr>\n",
       "      <th>2004-07-28</th>\n",
       "      <td>0.070</td>\n",
       "      <td>0.749</td>\n",
       "      <td>0.181</td>\n",
       "    </tr>\n",
       "    <tr>\n",
       "      <th>2008-06-04</th>\n",
       "      <td>0.063</td>\n",
       "      <td>0.760</td>\n",
       "      <td>0.177</td>\n",
       "    </tr>\n",
       "    <tr>\n",
       "      <th>2008-11-05</th>\n",
       "      <td>0.066</td>\n",
       "      <td>0.758</td>\n",
       "      <td>0.176</td>\n",
       "    </tr>\n",
       "    <tr>\n",
       "      <th>2009-01-05</th>\n",
       "      <td>0.072</td>\n",
       "      <td>0.856</td>\n",
       "      <td>0.072</td>\n",
       "    </tr>\n",
       "    <tr>\n",
       "      <th>2009-01-20</th>\n",
       "      <td>0.105</td>\n",
       "      <td>0.711</td>\n",
       "      <td>0.184</td>\n",
       "    </tr>\n",
       "  </tbody>\n",
       "</table>\n",
       "</div>"
      ],
      "text/plain": [
       "            oba_neg  oba_neu  oba_pos\n",
       "date                                 \n",
       "2004-07-28    0.070    0.749    0.181\n",
       "2008-06-04    0.063    0.760    0.177\n",
       "2008-11-05    0.066    0.758    0.176\n",
       "2009-01-05    0.072    0.856    0.072\n",
       "2009-01-20    0.105    0.711    0.184"
      ]
     },
     "execution_count": 7,
     "metadata": {},
     "output_type": "execute_result"
    }
   ],
   "source": [
    "#Create dataframe for plotting obama data using plotly\n",
    "oba_bardata=pd.DataFrame({'oba_neg':oba_neg,'oba_neu':oba_neu,'oba_pos':oba_pos},index=data['date'])\n",
    "oba_bardata.head()"
   ]
  },
  {
   "cell_type": "code",
   "execution_count": 8,
   "metadata": {},
   "outputs": [
    {
     "data": {
      "application/vnd.plotly.v1+json": {
       "config": {
        "plotlyServerURL": "https://plot.ly"
       },
       "data": [
        {
         "hovertemplate": "variable=oba_neg<br>x=%{x}<br>value=%{y}<extra></extra>",
         "legendgroup": "oba_neg",
         "line": {
          "color": "#636efa",
          "dash": "solid"
         },
         "marker": {
          "symbol": "circle"
         },
         "mode": "lines",
         "name": "oba_neg",
         "orientation": "v",
         "showlegend": true,
         "type": "scatter",
         "x": [
          "2008-06-04",
          "2008-11-05",
          "2009-01-05",
          "2009-01-20",
          "2009-04-02",
          "2009-04-15",
          "2009-05-22",
          "2009-06-15",
          "2009-07-15",
          "2009-09-24",
          "2009-10-09",
          "2009-11-05",
          "2009-12-19",
          "2009-12-25",
          "2010-01-12",
          "2010-03-04",
          "2010-03-24",
          "2010-04-15",
          "2010-04-22",
          "2010-05-07",
          "2010-07-15",
          "2010-07-21",
          "2010-07-26",
          "2010-08-31",
          "2010-11-02",
          "2011-01-08",
          "2011-01-26",
          "2011-01-31",
          "2011-02-19",
          "2011-05-02",
          "2011-05-23",
          "2011-06-23",
          "2011-07-26",
          "2011-09-09",
          "2011-10-17",
          "2011-11-17",
          "2011-12-16",
          "2012-01-06",
          "2012-01-25",
          "2012-03-27",
          "2012-03-31",
          "2012-04-29",
          "2012-05-02",
          "2012-05-10",
          "2012-06-29",
          "2012-07-21",
          "2012-09-07",
          "2012-10-29",
          "2012-11-07",
          "2012-12-15",
          "2013-01-16",
          "2013-01-22",
          "2013-01-30",
          "2013-02-13",
          "2013-04-16",
          "2013-04-26",
          "2013-05-04",
          "2013-06-19",
          "2013-07-14",
          "2013-08-29",
          "2013-09-11",
          "2013-10-02",
          "2013-12-06",
          "2014-01-18",
          "2014-01-29",
          "2014-03-07",
          "2014-03-26",
          "2014-04-11",
          "2014-05-21",
          "2014-07-01",
          "2014-08-08",
          "2014-08-12",
          "2014-09-17",
          "2014-10-18",
          "2014-11-05",
          "2014-12-18",
          "2015-01-08",
          "2015-01-21",
          "2015-02-14",
          "2015-03-11",
          "2015-04-03",
          "2015-05-09",
          "2015-06-18",
          "2015-07-07",
          "2015-08-03",
          "2015-09-24",
          "2015-10-02",
          "2015-11-14",
          "2015-12-14",
          "2016-01-13",
          "2016-02-16",
          "2016-03-23",
          "2016-04-25",
          "2016-05-06",
          "2016-06-13",
          "2016-07-28",
          "2016-08-17",
          "2016-09-05",
          "2016-11-09",
          "2017-01-11"
         ],
         "xaxis": "x",
         "y": [
          0.063,
          0.066,
          0.072,
          0.105,
          0.082,
          0.101,
          0.125,
          0.138,
          0.056,
          0.108,
          0.159,
          0.089,
          0.051,
          0.094,
          0.071,
          0.072,
          0.051,
          0.033,
          0.123,
          0.057,
          0.086,
          0.058,
          0.042,
          0.13,
          0.069,
          0.073,
          0.056,
          0.011,
          0.025,
          0.101,
          0.095,
          0.119,
          0.121,
          0.073,
          0.098,
          0.06,
          0.052,
          0.046,
          0.073,
          0.069,
          0.032,
          0.059,
          0.106,
          0.032,
          0.055,
          0.093,
          0.09,
          0.06,
          0.068,
          0.089,
          0.135,
          0.064,
          0.028,
          0.073,
          0.048,
          0.048,
          0.034,
          0.081,
          0.073,
          0.079,
          0.18,
          0.065,
          0.036,
          0.071,
          0.076,
          0.05,
          0.084,
          0.081,
          0.077,
          0.079,
          0.124,
          0.065,
          0.057,
          0.105,
          0.029,
          0.066,
          0.262,
          0.081,
          0.066,
          0.041,
          0.1,
          0.039,
          0.126,
          0.145,
          0.087,
          0.08,
          0.136,
          0.12,
          0.047,
          0.096,
          0.007,
          0.07,
          0.086,
          0.061,
          0.13,
          0.085,
          0.06,
          0.07,
          0.046,
          0.081
         ],
         "yaxis": "y"
        },
        {
         "hovertemplate": "variable=oba_neu<br>x=%{x}<br>value=%{y}<extra></extra>",
         "legendgroup": "oba_neu",
         "line": {
          "color": "#EF553B",
          "dash": "solid"
         },
         "marker": {
          "symbol": "circle"
         },
         "mode": "lines",
         "name": "oba_neu",
         "orientation": "v",
         "showlegend": true,
         "type": "scatter",
         "x": [
          "2008-06-04",
          "2008-11-05",
          "2009-01-05",
          "2009-01-20",
          "2009-04-02",
          "2009-04-15",
          "2009-05-22",
          "2009-06-15",
          "2009-07-15",
          "2009-09-24",
          "2009-10-09",
          "2009-11-05",
          "2009-12-19",
          "2009-12-25",
          "2010-01-12",
          "2010-03-04",
          "2010-03-24",
          "2010-04-15",
          "2010-04-22",
          "2010-05-07",
          "2010-07-15",
          "2010-07-21",
          "2010-07-26",
          "2010-08-31",
          "2010-11-02",
          "2011-01-08",
          "2011-01-26",
          "2011-01-31",
          "2011-02-19",
          "2011-05-02",
          "2011-05-23",
          "2011-06-23",
          "2011-07-26",
          "2011-09-09",
          "2011-10-17",
          "2011-11-17",
          "2011-12-16",
          "2012-01-06",
          "2012-01-25",
          "2012-03-27",
          "2012-03-31",
          "2012-04-29",
          "2012-05-02",
          "2012-05-10",
          "2012-06-29",
          "2012-07-21",
          "2012-09-07",
          "2012-10-29",
          "2012-11-07",
          "2012-12-15",
          "2013-01-16",
          "2013-01-22",
          "2013-01-30",
          "2013-02-13",
          "2013-04-16",
          "2013-04-26",
          "2013-05-04",
          "2013-06-19",
          "2013-07-14",
          "2013-08-29",
          "2013-09-11",
          "2013-10-02",
          "2013-12-06",
          "2014-01-18",
          "2014-01-29",
          "2014-03-07",
          "2014-03-26",
          "2014-04-11",
          "2014-05-21",
          "2014-07-01",
          "2014-08-08",
          "2014-08-12",
          "2014-09-17",
          "2014-10-18",
          "2014-11-05",
          "2014-12-18",
          "2015-01-08",
          "2015-01-21",
          "2015-02-14",
          "2015-03-11",
          "2015-04-03",
          "2015-05-09",
          "2015-06-18",
          "2015-07-07",
          "2015-08-03",
          "2015-09-24",
          "2015-10-02",
          "2015-11-14",
          "2015-12-14",
          "2016-01-13",
          "2016-02-16",
          "2016-03-23",
          "2016-04-25",
          "2016-05-06",
          "2016-06-13",
          "2016-07-28",
          "2016-08-17",
          "2016-09-05",
          "2016-11-09",
          "2017-01-11"
         ],
         "xaxis": "x",
         "y": [
          0.76,
          0.758,
          0.856,
          0.711,
          0.751,
          0.766,
          0.74,
          0.724,
          0.804,
          0.723,
          0.666,
          0.745,
          0.775,
          0.758,
          0.736,
          0.807,
          0.817,
          0.83,
          0.768,
          0.747,
          0.766,
          0.836,
          0.804,
          0.717,
          0.74,
          0.736,
          0.799,
          0.822,
          0.821,
          0.756,
          0.734,
          0.721,
          0.746,
          0.801,
          0.729,
          0.718,
          0.773,
          0.803,
          0.783,
          0.746,
          0.848,
          0.763,
          0.727,
          0.822,
          0.763,
          0.731,
          0.748,
          0.837,
          0.733,
          0.726,
          0.729,
          0.735,
          0.821,
          0.75,
          0.768,
          0.715,
          0.775,
          0.68,
          0.818,
          0.739,
          0.693,
          0.813,
          0.709,
          0.779,
          0.747,
          0.819,
          0.738,
          0.768,
          0.806,
          0.772,
          0.723,
          0.797,
          0.789,
          0.732,
          0.824,
          0.755,
          0.604,
          0.743,
          0.751,
          0.805,
          0.74,
          0.772,
          0.745,
          0.712,
          0.782,
          0.65,
          0.767,
          0.723,
          0.715,
          0.738,
          0.743,
          0.814,
          0.72,
          0.816,
          0.728,
          0.734,
          0.795,
          0.748,
          0.767,
          0.73
         ],
         "yaxis": "y"
        },
        {
         "hovertemplate": "variable=oba_pos<br>x=%{x}<br>value=%{y}<extra></extra>",
         "legendgroup": "oba_pos",
         "line": {
          "color": "#00cc96",
          "dash": "solid"
         },
         "marker": {
          "symbol": "circle"
         },
         "mode": "lines",
         "name": "oba_pos",
         "orientation": "v",
         "showlegend": true,
         "type": "scatter",
         "x": [
          "2008-06-04",
          "2008-11-05",
          "2009-01-05",
          "2009-01-20",
          "2009-04-02",
          "2009-04-15",
          "2009-05-22",
          "2009-06-15",
          "2009-07-15",
          "2009-09-24",
          "2009-10-09",
          "2009-11-05",
          "2009-12-19",
          "2009-12-25",
          "2010-01-12",
          "2010-03-04",
          "2010-03-24",
          "2010-04-15",
          "2010-04-22",
          "2010-05-07",
          "2010-07-15",
          "2010-07-21",
          "2010-07-26",
          "2010-08-31",
          "2010-11-02",
          "2011-01-08",
          "2011-01-26",
          "2011-01-31",
          "2011-02-19",
          "2011-05-02",
          "2011-05-23",
          "2011-06-23",
          "2011-07-26",
          "2011-09-09",
          "2011-10-17",
          "2011-11-17",
          "2011-12-16",
          "2012-01-06",
          "2012-01-25",
          "2012-03-27",
          "2012-03-31",
          "2012-04-29",
          "2012-05-02",
          "2012-05-10",
          "2012-06-29",
          "2012-07-21",
          "2012-09-07",
          "2012-10-29",
          "2012-11-07",
          "2012-12-15",
          "2013-01-16",
          "2013-01-22",
          "2013-01-30",
          "2013-02-13",
          "2013-04-16",
          "2013-04-26",
          "2013-05-04",
          "2013-06-19",
          "2013-07-14",
          "2013-08-29",
          "2013-09-11",
          "2013-10-02",
          "2013-12-06",
          "2014-01-18",
          "2014-01-29",
          "2014-03-07",
          "2014-03-26",
          "2014-04-11",
          "2014-05-21",
          "2014-07-01",
          "2014-08-08",
          "2014-08-12",
          "2014-09-17",
          "2014-10-18",
          "2014-11-05",
          "2014-12-18",
          "2015-01-08",
          "2015-01-21",
          "2015-02-14",
          "2015-03-11",
          "2015-04-03",
          "2015-05-09",
          "2015-06-18",
          "2015-07-07",
          "2015-08-03",
          "2015-09-24",
          "2015-10-02",
          "2015-11-14",
          "2015-12-14",
          "2016-01-13",
          "2016-02-16",
          "2016-03-23",
          "2016-04-25",
          "2016-05-06",
          "2016-06-13",
          "2016-07-28",
          "2016-08-17",
          "2016-09-05",
          "2016-11-09",
          "2017-01-11"
         ],
         "xaxis": "x",
         "y": [
          0.177,
          0.176,
          0.072,
          0.184,
          0.168,
          0.132,
          0.135,
          0.138,
          0.14,
          0.168,
          0.175,
          0.166,
          0.174,
          0.148,
          0.193,
          0.121,
          0.132,
          0.137,
          0.109,
          0.195,
          0.147,
          0.106,
          0.154,
          0.153,
          0.191,
          0.191,
          0.145,
          0.167,
          0.154,
          0.143,
          0.171,
          0.16,
          0.132,
          0.126,
          0.173,
          0.221,
          0.175,
          0.151,
          0.143,
          0.185,
          0.12,
          0.178,
          0.167,
          0.146,
          0.182,
          0.176,
          0.162,
          0.104,
          0.199,
          0.186,
          0.136,
          0.201,
          0.151,
          0.177,
          0.184,
          0.237,
          0.191,
          0.238,
          0.109,
          0.182,
          0.127,
          0.121,
          0.255,
          0.15,
          0.177,
          0.131,
          0.178,
          0.151,
          0.117,
          0.149,
          0.153,
          0.139,
          0.153,
          0.163,
          0.148,
          0.179,
          0.134,
          0.176,
          0.183,
          0.154,
          0.16,
          0.189,
          0.129,
          0.143,
          0.131,
          0.27,
          0.097,
          0.157,
          0.238,
          0.166,
          0.25,
          0.115,
          0.194,
          0.123,
          0.142,
          0.181,
          0.146,
          0.181,
          0.186,
          0.188
         ],
         "yaxis": "y"
        }
       ],
       "layout": {
        "legend": {
         "title": {
          "text": "variable"
         },
         "tracegroupgap": 0
        },
        "margin": {
         "t": 60
        },
        "template": {
         "data": {
          "bar": [
           {
            "error_x": {
             "color": "#2a3f5f"
            },
            "error_y": {
             "color": "#2a3f5f"
            },
            "marker": {
             "line": {
              "color": "#E5ECF6",
              "width": 0.5
             },
             "pattern": {
              "fillmode": "overlay",
              "size": 10,
              "solidity": 0.2
             }
            },
            "type": "bar"
           }
          ],
          "barpolar": [
           {
            "marker": {
             "line": {
              "color": "#E5ECF6",
              "width": 0.5
             },
             "pattern": {
              "fillmode": "overlay",
              "size": 10,
              "solidity": 0.2
             }
            },
            "type": "barpolar"
           }
          ],
          "carpet": [
           {
            "aaxis": {
             "endlinecolor": "#2a3f5f",
             "gridcolor": "white",
             "linecolor": "white",
             "minorgridcolor": "white",
             "startlinecolor": "#2a3f5f"
            },
            "baxis": {
             "endlinecolor": "#2a3f5f",
             "gridcolor": "white",
             "linecolor": "white",
             "minorgridcolor": "white",
             "startlinecolor": "#2a3f5f"
            },
            "type": "carpet"
           }
          ],
          "choropleth": [
           {
            "colorbar": {
             "outlinewidth": 0,
             "ticks": ""
            },
            "type": "choropleth"
           }
          ],
          "contour": [
           {
            "colorbar": {
             "outlinewidth": 0,
             "ticks": ""
            },
            "colorscale": [
             [
              0,
              "#0d0887"
             ],
             [
              0.1111111111111111,
              "#46039f"
             ],
             [
              0.2222222222222222,
              "#7201a8"
             ],
             [
              0.3333333333333333,
              "#9c179e"
             ],
             [
              0.4444444444444444,
              "#bd3786"
             ],
             [
              0.5555555555555556,
              "#d8576b"
             ],
             [
              0.6666666666666666,
              "#ed7953"
             ],
             [
              0.7777777777777778,
              "#fb9f3a"
             ],
             [
              0.8888888888888888,
              "#fdca26"
             ],
             [
              1,
              "#f0f921"
             ]
            ],
            "type": "contour"
           }
          ],
          "contourcarpet": [
           {
            "colorbar": {
             "outlinewidth": 0,
             "ticks": ""
            },
            "type": "contourcarpet"
           }
          ],
          "heatmap": [
           {
            "colorbar": {
             "outlinewidth": 0,
             "ticks": ""
            },
            "colorscale": [
             [
              0,
              "#0d0887"
             ],
             [
              0.1111111111111111,
              "#46039f"
             ],
             [
              0.2222222222222222,
              "#7201a8"
             ],
             [
              0.3333333333333333,
              "#9c179e"
             ],
             [
              0.4444444444444444,
              "#bd3786"
             ],
             [
              0.5555555555555556,
              "#d8576b"
             ],
             [
              0.6666666666666666,
              "#ed7953"
             ],
             [
              0.7777777777777778,
              "#fb9f3a"
             ],
             [
              0.8888888888888888,
              "#fdca26"
             ],
             [
              1,
              "#f0f921"
             ]
            ],
            "type": "heatmap"
           }
          ],
          "heatmapgl": [
           {
            "colorbar": {
             "outlinewidth": 0,
             "ticks": ""
            },
            "colorscale": [
             [
              0,
              "#0d0887"
             ],
             [
              0.1111111111111111,
              "#46039f"
             ],
             [
              0.2222222222222222,
              "#7201a8"
             ],
             [
              0.3333333333333333,
              "#9c179e"
             ],
             [
              0.4444444444444444,
              "#bd3786"
             ],
             [
              0.5555555555555556,
              "#d8576b"
             ],
             [
              0.6666666666666666,
              "#ed7953"
             ],
             [
              0.7777777777777778,
              "#fb9f3a"
             ],
             [
              0.8888888888888888,
              "#fdca26"
             ],
             [
              1,
              "#f0f921"
             ]
            ],
            "type": "heatmapgl"
           }
          ],
          "histogram": [
           {
            "marker": {
             "pattern": {
              "fillmode": "overlay",
              "size": 10,
              "solidity": 0.2
             }
            },
            "type": "histogram"
           }
          ],
          "histogram2d": [
           {
            "colorbar": {
             "outlinewidth": 0,
             "ticks": ""
            },
            "colorscale": [
             [
              0,
              "#0d0887"
             ],
             [
              0.1111111111111111,
              "#46039f"
             ],
             [
              0.2222222222222222,
              "#7201a8"
             ],
             [
              0.3333333333333333,
              "#9c179e"
             ],
             [
              0.4444444444444444,
              "#bd3786"
             ],
             [
              0.5555555555555556,
              "#d8576b"
             ],
             [
              0.6666666666666666,
              "#ed7953"
             ],
             [
              0.7777777777777778,
              "#fb9f3a"
             ],
             [
              0.8888888888888888,
              "#fdca26"
             ],
             [
              1,
              "#f0f921"
             ]
            ],
            "type": "histogram2d"
           }
          ],
          "histogram2dcontour": [
           {
            "colorbar": {
             "outlinewidth": 0,
             "ticks": ""
            },
            "colorscale": [
             [
              0,
              "#0d0887"
             ],
             [
              0.1111111111111111,
              "#46039f"
             ],
             [
              0.2222222222222222,
              "#7201a8"
             ],
             [
              0.3333333333333333,
              "#9c179e"
             ],
             [
              0.4444444444444444,
              "#bd3786"
             ],
             [
              0.5555555555555556,
              "#d8576b"
             ],
             [
              0.6666666666666666,
              "#ed7953"
             ],
             [
              0.7777777777777778,
              "#fb9f3a"
             ],
             [
              0.8888888888888888,
              "#fdca26"
             ],
             [
              1,
              "#f0f921"
             ]
            ],
            "type": "histogram2dcontour"
           }
          ],
          "mesh3d": [
           {
            "colorbar": {
             "outlinewidth": 0,
             "ticks": ""
            },
            "type": "mesh3d"
           }
          ],
          "parcoords": [
           {
            "line": {
             "colorbar": {
              "outlinewidth": 0,
              "ticks": ""
             }
            },
            "type": "parcoords"
           }
          ],
          "pie": [
           {
            "automargin": true,
            "type": "pie"
           }
          ],
          "scatter": [
           {
            "fillpattern": {
             "fillmode": "overlay",
             "size": 10,
             "solidity": 0.2
            },
            "type": "scatter"
           }
          ],
          "scatter3d": [
           {
            "line": {
             "colorbar": {
              "outlinewidth": 0,
              "ticks": ""
             }
            },
            "marker": {
             "colorbar": {
              "outlinewidth": 0,
              "ticks": ""
             }
            },
            "type": "scatter3d"
           }
          ],
          "scattercarpet": [
           {
            "marker": {
             "colorbar": {
              "outlinewidth": 0,
              "ticks": ""
             }
            },
            "type": "scattercarpet"
           }
          ],
          "scattergeo": [
           {
            "marker": {
             "colorbar": {
              "outlinewidth": 0,
              "ticks": ""
             }
            },
            "type": "scattergeo"
           }
          ],
          "scattergl": [
           {
            "marker": {
             "colorbar": {
              "outlinewidth": 0,
              "ticks": ""
             }
            },
            "type": "scattergl"
           }
          ],
          "scattermapbox": [
           {
            "marker": {
             "colorbar": {
              "outlinewidth": 0,
              "ticks": ""
             }
            },
            "type": "scattermapbox"
           }
          ],
          "scatterpolar": [
           {
            "marker": {
             "colorbar": {
              "outlinewidth": 0,
              "ticks": ""
             }
            },
            "type": "scatterpolar"
           }
          ],
          "scatterpolargl": [
           {
            "marker": {
             "colorbar": {
              "outlinewidth": 0,
              "ticks": ""
             }
            },
            "type": "scatterpolargl"
           }
          ],
          "scatterternary": [
           {
            "marker": {
             "colorbar": {
              "outlinewidth": 0,
              "ticks": ""
             }
            },
            "type": "scatterternary"
           }
          ],
          "surface": [
           {
            "colorbar": {
             "outlinewidth": 0,
             "ticks": ""
            },
            "colorscale": [
             [
              0,
              "#0d0887"
             ],
             [
              0.1111111111111111,
              "#46039f"
             ],
             [
              0.2222222222222222,
              "#7201a8"
             ],
             [
              0.3333333333333333,
              "#9c179e"
             ],
             [
              0.4444444444444444,
              "#bd3786"
             ],
             [
              0.5555555555555556,
              "#d8576b"
             ],
             [
              0.6666666666666666,
              "#ed7953"
             ],
             [
              0.7777777777777778,
              "#fb9f3a"
             ],
             [
              0.8888888888888888,
              "#fdca26"
             ],
             [
              1,
              "#f0f921"
             ]
            ],
            "type": "surface"
           }
          ],
          "table": [
           {
            "cells": {
             "fill": {
              "color": "#EBF0F8"
             },
             "line": {
              "color": "white"
             }
            },
            "header": {
             "fill": {
              "color": "#C8D4E3"
             },
             "line": {
              "color": "white"
             }
            },
            "type": "table"
           }
          ]
         },
         "layout": {
          "annotationdefaults": {
           "arrowcolor": "#2a3f5f",
           "arrowhead": 0,
           "arrowwidth": 1
          },
          "autotypenumbers": "strict",
          "coloraxis": {
           "colorbar": {
            "outlinewidth": 0,
            "ticks": ""
           }
          },
          "colorscale": {
           "diverging": [
            [
             0,
             "#8e0152"
            ],
            [
             0.1,
             "#c51b7d"
            ],
            [
             0.2,
             "#de77ae"
            ],
            [
             0.3,
             "#f1b6da"
            ],
            [
             0.4,
             "#fde0ef"
            ],
            [
             0.5,
             "#f7f7f7"
            ],
            [
             0.6,
             "#e6f5d0"
            ],
            [
             0.7,
             "#b8e186"
            ],
            [
             0.8,
             "#7fbc41"
            ],
            [
             0.9,
             "#4d9221"
            ],
            [
             1,
             "#276419"
            ]
           ],
           "sequential": [
            [
             0,
             "#0d0887"
            ],
            [
             0.1111111111111111,
             "#46039f"
            ],
            [
             0.2222222222222222,
             "#7201a8"
            ],
            [
             0.3333333333333333,
             "#9c179e"
            ],
            [
             0.4444444444444444,
             "#bd3786"
            ],
            [
             0.5555555555555556,
             "#d8576b"
            ],
            [
             0.6666666666666666,
             "#ed7953"
            ],
            [
             0.7777777777777778,
             "#fb9f3a"
            ],
            [
             0.8888888888888888,
             "#fdca26"
            ],
            [
             1,
             "#f0f921"
            ]
           ],
           "sequentialminus": [
            [
             0,
             "#0d0887"
            ],
            [
             0.1111111111111111,
             "#46039f"
            ],
            [
             0.2222222222222222,
             "#7201a8"
            ],
            [
             0.3333333333333333,
             "#9c179e"
            ],
            [
             0.4444444444444444,
             "#bd3786"
            ],
            [
             0.5555555555555556,
             "#d8576b"
            ],
            [
             0.6666666666666666,
             "#ed7953"
            ],
            [
             0.7777777777777778,
             "#fb9f3a"
            ],
            [
             0.8888888888888888,
             "#fdca26"
            ],
            [
             1,
             "#f0f921"
            ]
           ]
          },
          "colorway": [
           "#636efa",
           "#EF553B",
           "#00cc96",
           "#ab63fa",
           "#FFA15A",
           "#19d3f3",
           "#FF6692",
           "#B6E880",
           "#FF97FF",
           "#FECB52"
          ],
          "font": {
           "color": "#2a3f5f"
          },
          "geo": {
           "bgcolor": "white",
           "lakecolor": "white",
           "landcolor": "#E5ECF6",
           "showlakes": true,
           "showland": true,
           "subunitcolor": "white"
          },
          "hoverlabel": {
           "align": "left"
          },
          "hovermode": "closest",
          "mapbox": {
           "style": "light"
          },
          "paper_bgcolor": "white",
          "plot_bgcolor": "#E5ECF6",
          "polar": {
           "angularaxis": {
            "gridcolor": "white",
            "linecolor": "white",
            "ticks": ""
           },
           "bgcolor": "#E5ECF6",
           "radialaxis": {
            "gridcolor": "white",
            "linecolor": "white",
            "ticks": ""
           }
          },
          "scene": {
           "xaxis": {
            "backgroundcolor": "#E5ECF6",
            "gridcolor": "white",
            "gridwidth": 2,
            "linecolor": "white",
            "showbackground": true,
            "ticks": "",
            "zerolinecolor": "white"
           },
           "yaxis": {
            "backgroundcolor": "#E5ECF6",
            "gridcolor": "white",
            "gridwidth": 2,
            "linecolor": "white",
            "showbackground": true,
            "ticks": "",
            "zerolinecolor": "white"
           },
           "zaxis": {
            "backgroundcolor": "#E5ECF6",
            "gridcolor": "white",
            "gridwidth": 2,
            "linecolor": "white",
            "showbackground": true,
            "ticks": "",
            "zerolinecolor": "white"
           }
          },
          "shapedefaults": {
           "line": {
            "color": "#2a3f5f"
           }
          },
          "ternary": {
           "aaxis": {
            "gridcolor": "white",
            "linecolor": "white",
            "ticks": ""
           },
           "baxis": {
            "gridcolor": "white",
            "linecolor": "white",
            "ticks": ""
           },
           "bgcolor": "#E5ECF6",
           "caxis": {
            "gridcolor": "white",
            "linecolor": "white",
            "ticks": ""
           }
          },
          "title": {
           "x": 0.05
          },
          "xaxis": {
           "automargin": true,
           "gridcolor": "white",
           "linecolor": "white",
           "ticks": "",
           "title": {
            "standoff": 15
           },
           "zerolinecolor": "white",
           "zerolinewidth": 2
          },
          "yaxis": {
           "automargin": true,
           "gridcolor": "white",
           "linecolor": "white",
           "ticks": "",
           "title": {
            "standoff": 15
           },
           "zerolinecolor": "white",
           "zerolinewidth": 2
          }
         }
        },
        "xaxis": {
         "anchor": "y",
         "domain": [
          0,
          1
         ],
         "title": {
          "text": "x"
         }
        },
        "yaxis": {
         "anchor": "x",
         "domain": [
          0,
          1
         ],
         "title": {
          "text": "value"
         }
        }
       }
      }
     },
     "metadata": {},
     "output_type": "display_data"
    }
   ],
   "source": [
    "#Tail to remove the first obs which is from 2004 and messes with the plot\n",
    "#You can change between px.line, px.bar (difficult to see) and px.histogram (messy aggregation)\n",
    "\n",
    "fig=px.line(oba_bardata.tail(-1),x=oba_bardata.tail(-1).index,y=['oba_neg','oba_neu','oba_pos'])\n",
    "fig.show()"
   ]
  },
  {
   "cell_type": "markdown",
   "metadata": {},
   "source": [
    "## Part 2: Sentiment analysis using pre-trained BERTweet-based model"
   ]
  },
  {
   "cell_type": "code",
   "execution_count": 9,
   "metadata": {},
   "outputs": [
    {
     "name": "stdout",
     "output_type": "stream",
     "text": [
      "Looking in links: orce-reinstall\n",
      "Requirement already satisfied: tensorflow==2.10 in c:\\users\\kylan\\anaconda3\\envs\\blauwe_kater\\lib\\site-packages (2.10.0)\n",
      "Requirement already satisfied: gast<=0.4.0,>=0.2.1 in c:\\users\\kylan\\anaconda3\\envs\\blauwe_kater\\lib\\site-packages (from tensorflow==2.10) (0.4.0)\n",
      "Requirement already satisfied: termcolor>=1.1.0 in c:\\users\\kylan\\anaconda3\\envs\\blauwe_kater\\lib\\site-packages (from tensorflow==2.10) (2.2.0)\n",
      "Requirement already satisfied: tensorflow-io-gcs-filesystem>=0.23.1 in c:\\users\\kylan\\anaconda3\\envs\\blauwe_kater\\lib\\site-packages (from tensorflow==2.10) (0.31.0)\n",
      "Requirement already satisfied: tensorflow-estimator<2.11,>=2.10.0 in c:\\users\\kylan\\anaconda3\\envs\\blauwe_kater\\lib\\site-packages (from tensorflow==2.10) (2.10.0)\n",
      "Requirement already satisfied: h5py>=2.9.0 in c:\\users\\kylan\\anaconda3\\envs\\blauwe_kater\\lib\\site-packages (from tensorflow==2.10) (3.8.0)\n",
      "Requirement already satisfied: packaging in c:\\users\\kylan\\appdata\\roaming\\python\\python310\\site-packages (from tensorflow==2.10) (23.0)\n",
      "Requirement already satisfied: typing-extensions>=3.6.6 in c:\\users\\kylan\\anaconda3\\envs\\blauwe_kater\\lib\\site-packages (from tensorflow==2.10) (4.4.0)\n",
      "Requirement already satisfied: keras-preprocessing>=1.1.1 in c:\\users\\kylan\\anaconda3\\envs\\blauwe_kater\\lib\\site-packages (from tensorflow==2.10) (1.1.2)\n",
      "Requirement already satisfied: grpcio<2.0,>=1.24.3 in c:\\users\\kylan\\anaconda3\\envs\\blauwe_kater\\lib\\site-packages (from tensorflow==2.10) (1.51.3)\n",
      "Requirement already satisfied: keras<2.11,>=2.10.0 in c:\\users\\kylan\\anaconda3\\envs\\blauwe_kater\\lib\\site-packages (from tensorflow==2.10) (2.10.0)\n",
      "Requirement already satisfied: six>=1.12.0 in c:\\users\\kylan\\appdata\\roaming\\python\\python310\\site-packages (from tensorflow==2.10) (1.16.0)\n",
      "Requirement already satisfied: flatbuffers>=2.0 in c:\\users\\kylan\\anaconda3\\envs\\blauwe_kater\\lib\\site-packages (from tensorflow==2.10) (23.1.21)\n",
      "Requirement already satisfied: numpy>=1.20 in c:\\users\\kylan\\anaconda3\\envs\\blauwe_kater\\lib\\site-packages (from tensorflow==2.10) (1.23.5)\n",
      "Requirement already satisfied: opt-einsum>=2.3.2 in c:\\users\\kylan\\anaconda3\\envs\\blauwe_kater\\lib\\site-packages (from tensorflow==2.10) (3.3.0)\n",
      "Requirement already satisfied: wrapt>=1.11.0 in c:\\users\\kylan\\anaconda3\\envs\\blauwe_kater\\lib\\site-packages (from tensorflow==2.10) (1.15.0)\n",
      "Requirement already satisfied: astunparse>=1.6.0 in c:\\users\\kylan\\anaconda3\\envs\\blauwe_kater\\lib\\site-packages (from tensorflow==2.10) (1.6.3)\n",
      "Requirement already satisfied: libclang>=13.0.0 in c:\\users\\kylan\\anaconda3\\envs\\blauwe_kater\\lib\\site-packages (from tensorflow==2.10) (15.0.6.1)\n",
      "Requirement already satisfied: absl-py>=1.0.0 in c:\\users\\kylan\\anaconda3\\envs\\blauwe_kater\\lib\\site-packages (from tensorflow==2.10) (1.4.0)\n",
      "Requirement already satisfied: setuptools in c:\\users\\kylan\\anaconda3\\envs\\blauwe_kater\\lib\\site-packages (from tensorflow==2.10) (67.3.2)\n",
      "Requirement already satisfied: tensorboard<2.11,>=2.10 in c:\\users\\kylan\\anaconda3\\envs\\blauwe_kater\\lib\\site-packages (from tensorflow==2.10) (2.10.1)\n",
      "Requirement already satisfied: protobuf<3.20,>=3.9.2 in c:\\users\\kylan\\anaconda3\\envs\\blauwe_kater\\lib\\site-packages (from tensorflow==2.10) (3.19.6)\n",
      "Requirement already satisfied: google-pasta>=0.1.1 in c:\\users\\kylan\\anaconda3\\envs\\blauwe_kater\\lib\\site-packages (from tensorflow==2.10) (0.2.0)\n",
      "Requirement already satisfied: wheel<1.0,>=0.23.0 in c:\\users\\kylan\\anaconda3\\envs\\blauwe_kater\\lib\\site-packages (from astunparse>=1.6.0->tensorflow==2.10) (0.38.4)\n",
      "Requirement already satisfied: requests<3,>=2.21.0 in c:\\users\\kylan\\anaconda3\\envs\\blauwe_kater\\lib\\site-packages (from tensorboard<2.11,>=2.10->tensorflow==2.10) (2.28.1)\n",
      "Requirement already satisfied: google-auth<3,>=1.6.3 in c:\\users\\kylan\\anaconda3\\envs\\blauwe_kater\\lib\\site-packages (from tensorboard<2.11,>=2.10->tensorflow==2.10) (2.16.1)\n",
      "Requirement already satisfied: tensorboard-data-server<0.7.0,>=0.6.0 in c:\\users\\kylan\\anaconda3\\envs\\blauwe_kater\\lib\\site-packages (from tensorboard<2.11,>=2.10->tensorflow==2.10) (0.6.1)\n",
      "Requirement already satisfied: tensorboard-plugin-wit>=1.6.0 in c:\\users\\kylan\\anaconda3\\envs\\blauwe_kater\\lib\\site-packages (from tensorboard<2.11,>=2.10->tensorflow==2.10) (1.8.1)\n",
      "Requirement already satisfied: werkzeug>=1.0.1 in c:\\users\\kylan\\anaconda3\\envs\\blauwe_kater\\lib\\site-packages (from tensorboard<2.11,>=2.10->tensorflow==2.10) (2.2.3)\n",
      "Requirement already satisfied: markdown>=2.6.8 in c:\\users\\kylan\\anaconda3\\envs\\blauwe_kater\\lib\\site-packages (from tensorboard<2.11,>=2.10->tensorflow==2.10) (3.4.1)\n",
      "Requirement already satisfied: google-auth-oauthlib<0.5,>=0.4.1 in c:\\users\\kylan\\anaconda3\\envs\\blauwe_kater\\lib\\site-packages (from tensorboard<2.11,>=2.10->tensorflow==2.10) (0.4.6)\n",
      "Requirement already satisfied: pyasn1-modules>=0.2.1 in c:\\users\\kylan\\anaconda3\\envs\\blauwe_kater\\lib\\site-packages (from google-auth<3,>=1.6.3->tensorboard<2.11,>=2.10->tensorflow==2.10) (0.2.8)\n",
      "Requirement already satisfied: cachetools<6.0,>=2.0.0 in c:\\users\\kylan\\anaconda3\\envs\\blauwe_kater\\lib\\site-packages (from google-auth<3,>=1.6.3->tensorboard<2.11,>=2.10->tensorflow==2.10) (5.3.0)\n",
      "Requirement already satisfied: rsa<5,>=3.1.4 in c:\\users\\kylan\\anaconda3\\envs\\blauwe_kater\\lib\\site-packages (from google-auth<3,>=1.6.3->tensorboard<2.11,>=2.10->tensorflow==2.10) (4.9)\n",
      "Requirement already satisfied: requests-oauthlib>=0.7.0 in c:\\users\\kylan\\anaconda3\\envs\\blauwe_kater\\lib\\site-packages (from google-auth-oauthlib<0.5,>=0.4.1->tensorboard<2.11,>=2.10->tensorflow==2.10) (1.3.1)\n",
      "Requirement already satisfied: urllib3<1.27,>=1.21.1 in c:\\users\\kylan\\anaconda3\\envs\\blauwe_kater\\lib\\site-packages (from requests<3,>=2.21.0->tensorboard<2.11,>=2.10->tensorflow==2.10) (1.26.14)\n",
      "Requirement already satisfied: certifi>=2017.4.17 in c:\\users\\kylan\\anaconda3\\envs\\blauwe_kater\\lib\\site-packages (from requests<3,>=2.21.0->tensorboard<2.11,>=2.10->tensorflow==2.10) (2022.12.7)\n",
      "Requirement already satisfied: charset-normalizer<3,>=2 in c:\\users\\kylan\\anaconda3\\envs\\blauwe_kater\\lib\\site-packages (from requests<3,>=2.21.0->tensorboard<2.11,>=2.10->tensorflow==2.10) (2.1.1)\n",
      "Requirement already satisfied: idna<4,>=2.5 in c:\\users\\kylan\\anaconda3\\envs\\blauwe_kater\\lib\\site-packages (from requests<3,>=2.21.0->tensorboard<2.11,>=2.10->tensorflow==2.10) (3.4)\n",
      "Requirement already satisfied: MarkupSafe>=2.1.1 in c:\\users\\kylan\\anaconda3\\envs\\blauwe_kater\\lib\\site-packages (from werkzeug>=1.0.1->tensorboard<2.11,>=2.10->tensorflow==2.10) (2.1.1)\n",
      "Requirement already satisfied: pyasn1<0.5.0,>=0.4.6 in c:\\users\\kylan\\anaconda3\\envs\\blauwe_kater\\lib\\site-packages (from pyasn1-modules>=0.2.1->google-auth<3,>=1.6.3->tensorboard<2.11,>=2.10->tensorflow==2.10) (0.4.8)\n",
      "Requirement already satisfied: oauthlib>=3.0.0 in c:\\users\\kylan\\anaconda3\\envs\\blauwe_kater\\lib\\site-packages (from requests-oauthlib>=0.7.0->google-auth-oauthlib<0.5,>=0.4.1->tensorboard<2.11,>=2.10->tensorflow==2.10) (3.2.2)\n"
     ]
    },
    {
     "name": "stderr",
     "output_type": "stream",
     "text": [
      "\n",
      "[notice] A new release of pip is available: 23.0.1 -> 23.1\n",
      "[notice] To update, run: python.exe -m pip install --upgrade pip\n"
     ]
    }
   ],
   "source": [
    "!pip install tensorflow==2.10 -force-reinstall"
   ]
  },
  {
   "cell_type": "code",
   "execution_count": 10,
   "metadata": {},
   "outputs": [
    {
     "name": "stderr",
     "output_type": "stream",
     "text": [
      "c:\\Users\\Kylan\\anaconda3\\envs\\blauwe_kater\\lib\\site-packages\\tqdm\\auto.py:22: TqdmWarning:\n",
      "\n",
      "IProgress not found. Please update jupyter and ipywidgets. See https://ipywidgets.readthedocs.io/en/stable/user_install.html\n",
      "\n"
     ]
    }
   ],
   "source": [
    "#New libraries and load sentiment model through HF pipeline\n",
    "from pysentimiento import create_analyzer\n",
    "from transformers import pipeline\n",
    "from nltk import tokenize \n",
    "from gensim.models import Doc2Vec\n",
    "import nltk\n",
    "model=pipeline('sentiment-analysis',model='finiteautomata/bertweet-base-sentiment-analysis')"
   ]
  },
  {
   "cell_type": "code",
   "execution_count": 11,
   "metadata": {},
   "outputs": [
    {
     "data": {
      "text/html": [
       "<div>\n",
       "<style scoped>\n",
       "    .dataframe tbody tr th:only-of-type {\n",
       "        vertical-align: middle;\n",
       "    }\n",
       "\n",
       "    .dataframe tbody tr th {\n",
       "        vertical-align: top;\n",
       "    }\n",
       "\n",
       "    .dataframe thead th {\n",
       "        text-align: right;\n",
       "    }\n",
       "</style>\n",
       "<table border=\"1\" class=\"dataframe\">\n",
       "  <thead>\n",
       "    <tr style=\"text-align: right;\">\n",
       "      <th></th>\n",
       "      <th>Unnamed: 0</th>\n",
       "      <th>file</th>\n",
       "      <th>text_oba</th>\n",
       "      <th>text_wsj</th>\n",
       "      <th>text_nyt</th>\n",
       "      <th>date</th>\n",
       "    </tr>\n",
       "  </thead>\n",
       "  <tbody>\n",
       "    <tr>\n",
       "      <th>0</th>\n",
       "      <td>0</td>\n",
       "      <td>2004-07-28-DNCSpeech.txt</td>\n",
       "      <td>On behalf of the great state of Illinois, cros...</td>\n",
       "      <td>John Kerry's decorated service in Vietnam took...</td>\n",
       "      <td>Barack Obama took the dais as the keynote spea...</td>\n",
       "      <td>2004-07-28</td>\n",
       "    </tr>\n",
       "    <tr>\n",
       "      <th>1</th>\n",
       "      <td>1</td>\n",
       "      <td>2008-06-04-ObamaNomination.txt</td>\n",
       "      <td>Thank you....Thank you. What a -- What a wonde...</td>\n",
       "      <td>Sen. Barack Obama captured enough convention d...</td>\n",
       "      <td>Senator Barack Obama claimed the Democratic pr...</td>\n",
       "      <td>2008-06-04</td>\n",
       "    </tr>\n",
       "    <tr>\n",
       "      <th>2</th>\n",
       "      <td>2</td>\n",
       "      <td>2008-11-05-ObamaElected.txt</td>\n",
       "      <td>Hello, Chicago.\\n\\nIf there is anyone out ther...</td>\n",
       "      <td>Sen. Barack Obama was elected the nation's fir...</td>\n",
       "      <td>Barack Hussein Obama was elected the 44th pres...</td>\n",
       "      <td>2008-11-05</td>\n",
       "    </tr>\n",
       "    <tr>\n",
       "      <th>3</th>\n",
       "      <td>3</td>\n",
       "      <td>2009-01-05-EconomyPlans.txt</td>\n",
       "      <td>All right. Well, thanks for taking the time to...</td>\n",
       "      <td>President-elect Barack Obama and congressional...</td>\n",
       "      <td>President-elect Barack Obama plans to include ...</td>\n",
       "      <td>2009-01-05</td>\n",
       "    </tr>\n",
       "    <tr>\n",
       "      <th>4</th>\n",
       "      <td>4</td>\n",
       "      <td>2009-01-20-Inauguration.txt</td>\n",
       "      <td>I, Barack Hussein Obama, do solemnly swear tha...</td>\n",
       "      <td>On a day rich in history, Barack Obama was swo...</td>\n",
       "      <td>Barack Hussein Obama was sworn in as the 44th ...</td>\n",
       "      <td>2009-01-20</td>\n",
       "    </tr>\n",
       "  </tbody>\n",
       "</table>\n",
       "</div>"
      ],
      "text/plain": [
       "   Unnamed: 0                            file  \\\n",
       "0           0        2004-07-28-DNCSpeech.txt   \n",
       "1           1  2008-06-04-ObamaNomination.txt   \n",
       "2           2     2008-11-05-ObamaElected.txt   \n",
       "3           3     2009-01-05-EconomyPlans.txt   \n",
       "4           4     2009-01-20-Inauguration.txt   \n",
       "\n",
       "                                            text_oba  \\\n",
       "0  On behalf of the great state of Illinois, cros...   \n",
       "1  Thank you....Thank you. What a -- What a wonde...   \n",
       "2  Hello, Chicago.\\n\\nIf there is anyone out ther...   \n",
       "3  All right. Well, thanks for taking the time to...   \n",
       "4  I, Barack Hussein Obama, do solemnly swear tha...   \n",
       "\n",
       "                                            text_wsj  \\\n",
       "0  John Kerry's decorated service in Vietnam took...   \n",
       "1  Sen. Barack Obama captured enough convention d...   \n",
       "2  Sen. Barack Obama was elected the nation's fir...   \n",
       "3  President-elect Barack Obama and congressional...   \n",
       "4  On a day rich in history, Barack Obama was swo...   \n",
       "\n",
       "                                            text_nyt        date  \n",
       "0  Barack Obama took the dais as the keynote spea...  2004-07-28  \n",
       "1  Senator Barack Obama claimed the Democratic pr...  2008-06-04  \n",
       "2  Barack Hussein Obama was elected the 44th pres...  2008-11-05  \n",
       "3  President-elect Barack Obama plans to include ...  2009-01-05  \n",
       "4  Barack Hussein Obama was sworn in as the 44th ...  2009-01-20  "
      ]
     },
     "execution_count": 11,
     "metadata": {},
     "output_type": "execute_result"
    }
   ],
   "source": [
    "#Reload original dataframe\n",
    "data = pd.read_csv('nonEmotiondata.csv')\n",
    "data.head()"
   ]
  },
  {
   "cell_type": "code",
   "execution_count": 12,
   "metadata": {},
   "outputs": [],
   "source": [
    "#Create pysentimiento sentiment analyzer\n",
    "analyzer=create_analyzer(task='sentiment',lang='en')"
   ]
  },
  {
   "cell_type": "code",
   "execution_count": 13,
   "metadata": {},
   "outputs": [
    {
     "name": "stdout",
     "output_type": "stream",
     "text": [
      "AnalyzerOutput(output=POS, probas={POS: 0.984, NEU: 0.014, NEG: 0.002})\n"
     ]
    },
    {
     "data": {
      "text/plain": [
       "0.9842914342880249"
      ]
     },
     "execution_count": 13,
     "metadata": {},
     "output_type": "execute_result"
    }
   ],
   "source": [
    "#Try to get results for single Obama speech\n",
    "result=analyzer.predict(data.iloc[0,2])\n",
    "print(result)\n",
    "result.probas.get(max(result.probas))"
   ]
  },
  {
   "cell_type": "code",
   "execution_count": 14,
   "metadata": {},
   "outputs": [
    {
     "data": {
      "text/plain": [
       "AnalyzerOutput(output=POS, probas={POS: 0.955, NEU: 0.043, NEG: 0.002})"
      ]
     },
     "execution_count": 14,
     "metadata": {},
     "output_type": "execute_result"
    }
   ],
   "source": [
    "analyzer.predict('joy')"
   ]
  },
  {
   "cell_type": "code",
   "execution_count": 15,
   "metadata": {},
   "outputs": [
    {
     "name": "stderr",
     "output_type": "stream",
     "text": [
      "100%|██████████| 4/4 [00:02<00:00,  1.37ba/s]\n",
      "The following columns in the test set don't have a corresponding argument in `RobertaForSequenceClassification.forward` and have been ignored: text. If text are not expected by `RobertaForSequenceClassification.forward`,  you can safely ignore this message.\n",
      "***** Running Prediction *****\n",
      "  Num examples = 101\n",
      "  Batch size = 32\n",
      "100%|██████████| 4/4 [00:15<00:00,  3.85s/it]\n",
      "C:\\Users\\Kylan\\AppData\\Local\\Temp\\ipykernel_21192\\1735466508.py:8: SettingWithCopyWarning:\n",
      "\n",
      "\n",
      "A value is trying to be set on a copy of a slice from a DataFrame\n",
      "\n",
      "See the caveats in the documentation: https://pandas.pydata.org/pandas-docs/stable/user_guide/indexing.html#returning-a-view-versus-a-copy\n",
      "\n",
      "C:\\Users\\Kylan\\AppData\\Local\\Temp\\ipykernel_21192\\1735466508.py:9: SettingWithCopyWarning:\n",
      "\n",
      "\n",
      "A value is trying to be set on a copy of a slice from a DataFrame\n",
      "\n",
      "See the caveats in the documentation: https://pandas.pydata.org/pandas-docs/stable/user_guide/indexing.html#returning-a-view-versus-a-copy\n",
      "\n",
      "C:\\Users\\Kylan\\AppData\\Local\\Temp\\ipykernel_21192\\1735466508.py:10: SettingWithCopyWarning:\n",
      "\n",
      "\n",
      "A value is trying to be set on a copy of a slice from a DataFrame\n",
      "\n",
      "See the caveats in the documentation: https://pandas.pydata.org/pandas-docs/stable/user_guide/indexing.html#returning-a-view-versus-a-copy\n",
      "\n"
     ]
    }
   ],
   "source": [
    "#Now to do it for all Obama speeches + saving pos, neu and neg scores\n",
    "data['oba_results']=analyzer.predict(data['text_oba'])\n",
    "\n",
    "data['oba_pos']=0\n",
    "data['oba_neu']=0\n",
    "data['oba_neg']=0\n",
    "for i in range(0,len(data)):\n",
    "    data['oba_pos'][i]=data['oba_results'][i].probas.get('POS')\n",
    "    data['oba_neu'][i]=data['oba_results'][i].probas.get('NEU')\n",
    "    data['oba_neg'][i]=data['oba_results'][i].probas.get('NEG')"
   ]
  },
  {
   "cell_type": "code",
   "execution_count": 16,
   "metadata": {},
   "outputs": [
    {
     "data": {
      "text/plain": [
       "([<matplotlib.axis.XTick at 0x25f20ad62f0>,\n",
       "  <matplotlib.axis.XTick at 0x25f20ad62c0>,\n",
       "  <matplotlib.axis.XTick at 0x25f20a86290>,\n",
       "  <matplotlib.axis.XTick at 0x25f1caa3100>,\n",
       "  <matplotlib.axis.XTick at 0x25f1caa3bb0>,\n",
       "  <matplotlib.axis.XTick at 0x25f1cadc6a0>,\n",
       "  <matplotlib.axis.XTick at 0x25f1caa3760>,\n",
       "  <matplotlib.axis.XTick at 0x25f1cadd660>,\n",
       "  <matplotlib.axis.XTick at 0x25f20ad5f00>,\n",
       "  <matplotlib.axis.XTick at 0x25f1cadec20>,\n",
       "  <matplotlib.axis.XTick at 0x25f1cadf6d0>,\n",
       "  <matplotlib.axis.XTick at 0x25f1caddd50>,\n",
       "  <matplotlib.axis.XTick at 0x25f1cadfc70>,\n",
       "  <matplotlib.axis.XTick at 0x25f1caf8760>,\n",
       "  <matplotlib.axis.XTick at 0x25f1caf9210>,\n",
       "  <matplotlib.axis.XTick at 0x25f17a0e4d0>,\n",
       "  <matplotlib.axis.XTick at 0x25f19b42470>,\n",
       "  <matplotlib.axis.XTick at 0x25f19b425c0>,\n",
       "  <matplotlib.axis.XTick at 0x25f19b43820>,\n",
       "  <matplotlib.axis.XTick at 0x25f19b42dd0>,\n",
       "  <matplotlib.axis.XTick at 0x25f19b43f10>],\n",
       " [Text(0, 0, '0'),\n",
       "  Text(5, 0, '5'),\n",
       "  Text(10, 0, '10'),\n",
       "  Text(15, 0, '15'),\n",
       "  Text(20, 0, '20'),\n",
       "  Text(25, 0, '25'),\n",
       "  Text(30, 0, '30'),\n",
       "  Text(35, 0, '35'),\n",
       "  Text(40, 0, '40'),\n",
       "  Text(45, 0, '45'),\n",
       "  Text(50, 0, '50'),\n",
       "  Text(55, 0, '55'),\n",
       "  Text(60, 0, '60'),\n",
       "  Text(65, 0, '65'),\n",
       "  Text(70, 0, '70'),\n",
       "  Text(75, 0, '75'),\n",
       "  Text(80, 0, '80'),\n",
       "  Text(85, 0, '85'),\n",
       "  Text(90, 0, '90'),\n",
       "  Text(95, 0, '95'),\n",
       "  Text(100, 0, '100')])"
      ]
     },
     "execution_count": 16,
     "metadata": {},
     "output_type": "execute_result"
    },
    {
     "data": {
      "image/png": "[encoded data removed]",
      "text/plain": [
       "<Figure size 640x480 with 1 Axes>"
      ]
     },
     "metadata": {},
     "output_type": "display_data"
    }
   ],
   "source": [
    "ax=data.plot.bar(y=['oba_neg','oba_neu','oba_pos'],stacked=True,color=['r','y','g'])\n",
    "ticks=range(0,101,5)\n",
    "labels=ticks\n",
    "plt.xticks(ticks,labels)"
   ]
  },
  {
   "cell_type": "code",
   "execution_count": 17,
   "metadata": {},
   "outputs": [
    {
     "data": {
      "text/plain": [
       "Unnamed: 0                                                    30\n",
       "file                               2011-05-02-binLadenKilled.txt\n",
       "text_oba       Good evening. Tonight, I can report to the Ame...\n",
       "text_wsj       Al Qaeda leader Osama bin Laden, a mastermind ...\n",
       "text_nyt       Osama bin Laden, the mastermind of the most de...\n",
       "date                                                  2011-05-02\n",
       "oba_results    AnalyzerOutput(output=NEG, probas={NEG: 0.962,...\n",
       "oba_pos                                                 0.003345\n",
       "oba_neu                                                 0.034504\n",
       "oba_neg                                                 0.962151\n",
       "Name: 30, dtype: object"
      ]
     },
     "execution_count": 17,
     "metadata": {},
     "output_type": "execute_result"
    }
   ],
   "source": [
    "#Looks like some speeches turn up  predominantly negative, especially speeches with index 3, 30, 32-34 -- Lets check em out!\n",
    "data.iloc[30]"
   ]
  },
  {
   "cell_type": "code",
   "execution_count": 18,
   "metadata": {},
   "outputs": [
    {
     "name": "stderr",
     "output_type": "stream",
     "text": [
      "100%|██████████| 4/4 [00:01<00:00,  3.30ba/s]\n",
      "The following columns in the test set don't have a corresponding argument in `RobertaForSequenceClassification.forward` and have been ignored: text. If text are not expected by `RobertaForSequenceClassification.forward`,  you can safely ignore this message.\n",
      "***** Running Prediction *****\n",
      "  Num examples = 101\n",
      "  Batch size = 32\n",
      "100%|██████████| 4/4 [00:15<00:00,  3.87s/it]\n",
      "100%|██████████| 4/4 [00:01<00:00,  2.79ba/s]\n",
      "The following columns in the test set don't have a corresponding argument in `RobertaForSequenceClassification.forward` and have been ignored: text. If text are not expected by `RobertaForSequenceClassification.forward`,  you can safely ignore this message.\n",
      "***** Running Prediction *****\n",
      "  Num examples = 101\n",
      "  Batch size = 32\n",
      "100%|██████████| 4/4 [00:16<00:00,  4.10s/it]\n",
      "C:\\Users\\Kylan\\AppData\\Local\\Temp\\ipykernel_21192\\2626055168.py:9: SettingWithCopyWarning:\n",
      "\n",
      "\n",
      "A value is trying to be set on a copy of a slice from a DataFrame\n",
      "\n",
      "See the caveats in the documentation: https://pandas.pydata.org/pandas-docs/stable/user_guide/indexing.html#returning-a-view-versus-a-copy\n",
      "\n",
      "C:\\Users\\Kylan\\AppData\\Local\\Temp\\ipykernel_21192\\2626055168.py:10: SettingWithCopyWarning:\n",
      "\n",
      "\n",
      "A value is trying to be set on a copy of a slice from a DataFrame\n",
      "\n",
      "See the caveats in the documentation: https://pandas.pydata.org/pandas-docs/stable/user_guide/indexing.html#returning-a-view-versus-a-copy\n",
      "\n",
      "C:\\Users\\Kylan\\AppData\\Local\\Temp\\ipykernel_21192\\2626055168.py:11: SettingWithCopyWarning:\n",
      "\n",
      "\n",
      "A value is trying to be set on a copy of a slice from a DataFrame\n",
      "\n",
      "See the caveats in the documentation: https://pandas.pydata.org/pandas-docs/stable/user_guide/indexing.html#returning-a-view-versus-a-copy\n",
      "\n",
      "C:\\Users\\Kylan\\AppData\\Local\\Temp\\ipykernel_21192\\2626055168.py:17: SettingWithCopyWarning:\n",
      "\n",
      "\n",
      "A value is trying to be set on a copy of a slice from a DataFrame\n",
      "\n",
      "See the caveats in the documentation: https://pandas.pydata.org/pandas-docs/stable/user_guide/indexing.html#returning-a-view-versus-a-copy\n",
      "\n",
      "C:\\Users\\Kylan\\AppData\\Local\\Temp\\ipykernel_21192\\2626055168.py:18: SettingWithCopyWarning:\n",
      "\n",
      "\n",
      "A value is trying to be set on a copy of a slice from a DataFrame\n",
      "\n",
      "See the caveats in the documentation: https://pandas.pydata.org/pandas-docs/stable/user_guide/indexing.html#returning-a-view-versus-a-copy\n",
      "\n",
      "C:\\Users\\Kylan\\AppData\\Local\\Temp\\ipykernel_21192\\2626055168.py:19: SettingWithCopyWarning:\n",
      "\n",
      "\n",
      "A value is trying to be set on a copy of a slice from a DataFrame\n",
      "\n",
      "See the caveats in the documentation: https://pandas.pydata.org/pandas-docs/stable/user_guide/indexing.html#returning-a-view-versus-a-copy\n",
      "\n"
     ]
    }
   ],
   "source": [
    "#Now let's compare WSJ and NYT Article Graphs\n",
    "data['wsj_results']=analyzer.predict(data['text_wsj'])\n",
    "data['nyt_results']=analyzer.predict(data['text_nyt'])\n",
    "\n",
    "data['wsj_pos']=0\n",
    "data['wsj_neu']=0\n",
    "data['wsj_neg']=0\n",
    "for i in range(0,len(data)):\n",
    "    data['wsj_pos'][i]=data['wsj_results'][i].probas.get('POS')\n",
    "    data['wsj_neu'][i]=data['wsj_results'][i].probas.get('NEU')\n",
    "    data['wsj_neg'][i]=data['wsj_results'][i].probas.get('NEG')\n",
    "\n",
    "data['nyt_pos']=0\n",
    "data['nyt_neu']=0\n",
    "data['nyt_neg']=0\n",
    "for i in range(0,len(data)):\n",
    "    data['nyt_pos'][i]=data['nyt_results'][i].probas.get('POS')\n",
    "    data['nyt_neu'][i]=data['nyt_results'][i].probas.get('NEU')\n",
    "    data['nyt_neg'][i]=data['nyt_results'][i].probas.get('NEG')"
   ]
  },
  {
   "cell_type": "code",
   "execution_count": 19,
   "metadata": {},
   "outputs": [
    {
     "data": {
      "text/plain": [
       "([<matplotlib.axis.XTick at 0x25f84a6d120>,\n",
       "  <matplotlib.axis.XTick at 0x25f84a6d360>,\n",
       "  <matplotlib.axis.XTick at 0x25f1e61ae00>,\n",
       "  <matplotlib.axis.XTick at 0x25f1e86f460>,\n",
       "  <matplotlib.axis.XTick at 0x25f1e86ff10>,\n",
       "  <matplotlib.axis.XTick at 0x25f1e89ca00>,\n",
       "  <matplotlib.axis.XTick at 0x25f1e89d4b0>,\n",
       "  <matplotlib.axis.XTick at 0x25f1e89df60>,\n",
       "  <matplotlib.axis.XTick at 0x25f1e89c550>,\n",
       "  <matplotlib.axis.XTick at 0x25f1e89e8f0>,\n",
       "  <matplotlib.axis.XTick at 0x25f1e89f3a0>,\n",
       "  <matplotlib.axis.XTick at 0x25f1e89fe50>,\n",
       "  <matplotlib.axis.XTick at 0x25f1e89ed10>,\n",
       "  <matplotlib.axis.XTick at 0x25f1e8b0790>,\n",
       "  <matplotlib.axis.XTick at 0x25f1e8b1240>,\n",
       "  <matplotlib.axis.XTick at 0x25f1e8b1cf0>,\n",
       "  <matplotlib.axis.XTick at 0x25f1e8b27a0>,\n",
       "  <matplotlib.axis.XTick at 0x25f1e8b1930>,\n",
       "  <matplotlib.axis.XTick at 0x25f1e8b31c0>,\n",
       "  <matplotlib.axis.XTick at 0x25f1e8b3c70>,\n",
       "  <matplotlib.axis.XTick at 0x25f1e8d0760>],\n",
       " [Text(0, 0, '0'),\n",
       "  Text(5, 0, '5'),\n",
       "  Text(10, 0, '10'),\n",
       "  Text(15, 0, '15'),\n",
       "  Text(20, 0, '20'),\n",
       "  Text(25, 0, '25'),\n",
       "  Text(30, 0, '30'),\n",
       "  Text(35, 0, '35'),\n",
       "  Text(40, 0, '40'),\n",
       "  Text(45, 0, '45'),\n",
       "  Text(50, 0, '50'),\n",
       "  Text(55, 0, '55'),\n",
       "  Text(60, 0, '60'),\n",
       "  Text(65, 0, '65'),\n",
       "  Text(70, 0, '70'),\n",
       "  Text(75, 0, '75'),\n",
       "  Text(80, 0, '80'),\n",
       "  Text(85, 0, '85'),\n",
       "  Text(90, 0, '90'),\n",
       "  Text(95, 0, '95'),\n",
       "  Text(100, 0, '100')])"
      ]
     },
     "execution_count": 19,
     "metadata": {},
     "output_type": "execute_result"
    },
    {
     "data": {
      "image/png": "[encoded data removed]",
      "text/plain": [
       "<Figure size 1200x600 with 3 Axes>"
      ]
     },
     "metadata": {},
     "output_type": "display_data"
    }
   ],
   "source": [
    "fig, (ax1,ax2,ax3)=plt.subplots(3,sharex=True, figsize=(12,6))\n",
    "data.plot.bar(ax=ax1,y=['oba_neg','oba_neu','oba_pos'],stacked=True,color=['r','y','g'])\n",
    "data.plot.bar(ax=ax2,y=['wsj_neg','wsj_neu','wsj_pos'],stacked=True,color=['r','y','g'])\n",
    "data.plot.bar(ax=ax3,y=['nyt_neg','nyt_neu','nyt_pos'],stacked=True,color=['r','y','g'])\n",
    "plt.xticks(ticks,labels)"
   ]
  },
  {
   "cell_type": "markdown",
   "metadata": {},
   "source": [
    "As could be expected, the news articles tend to fluctuate much more between positive and negative, while the speeches themselves remain mostly positive and-or neutral. Of specific interest are the red peaks in speeches, which mostly correlate with additional negativity in their corresponding news articles (FORMAL TEST REQUIRED). The big red peak as explained earlier covers some pretty heavy topics, while speech number 4 (index 3) does not garner significant negativity in news articles and warrants further investigation."
   ]
  },
  {
   "cell_type": "code",
   "execution_count": 20,
   "metadata": {},
   "outputs": [
    {
     "name": "stdout",
     "output_type": "stream",
     "text": [
      "Analysis result: \n",
      " Speech \t WSJ \t NYT \n",
      " NEG \t\t POS \t NEU\n",
      "Negative scores: \n",
      " Speech \t WSJ \t NYT \n",
      " 0.909 \t\t 0.004 \t 0.006\n",
      "Filename: \n",
      " 2009-01-05-EconomyPlans.txt \n",
      "\n",
      "\n",
      "Speech beginning: \n",
      " All right. Well, thanks for taking the time to come in for a moment. You know, this is the core of my economic team, and the message of our meeting today is one that comes as no surprise to most Americans, and that is we are in a very difficult spot. The economy is bad. The situation is getting worse.\n",
      "\n",
      "Last week, we learned that manufacturing had hit a 20-year low. On Friday, we're going to get the final jobs report from this year, and every indication is that we will have lost in 2008 more jobs \n",
      "\n",
      "\n",
      "WSJ Article beginning: \n",
      " President-elect Barack Obama and congressional Democrats are crafting a plan to offer about $300 billion of tax cuts to individuals and businesses, a move aimed at attracting Republican support for an economic-stimulus package and prodding companies to create jobs.\n",
      "\n",
      "The size of the proposed tax cuts -- which would account for about 40% of a stimulus package that could reach $775 billion over two years -- is greater than many on both sides of the aisle in Congress had anticipated. It may make it  \n",
      "\n",
      "\n",
      "NYT Article beginning: \n",
      " President-elect Barack Obama plans to include about $300 billion in tax cuts for workers and businesses in his economic recovery program, advisers said Sunday, as his team seeks to win over Congressional skeptics worried that he was too focused on government spending.\n",
      "\n",
      "The legislation Mr. Obama is developing with Congressional Democrats will devote about 40 percent of the cost to tax cuts, including his centerpiece campaign promise to provide credits up to $500 for most workers, costing roughly \n"
     ]
    }
   ],
   "source": [
    "#Lets check out speech no 4 and the corresponding articles.\n",
    "print('Analysis result: \\n Speech \\t WSJ \\t NYT \\n',data['oba_results'][3].output,'\\t\\t',data['wsj_results'][3].output,'\\t',data['nyt_results'][3].output)\n",
    "print('Negative scores: \\n','Speech','\\t','WSJ','\\t','NYT','\\n',\n",
    "    round(data['oba_neg'][3],3),'\\t\\t',round(data['wsj_neg'][3],3),'\\t',round(data['nyt_neg'][3],3))\n",
    "print('Filename: \\n',data.iloc[3]['file'],'\\n\\n') #Seems to just be economy plans\n",
    "print('Speech beginning: \\n',data.iloc[3,2][0:500],'\\n\\n') #Indeed alot of negative words being used here\n",
    "print('WSJ Article beginning: \\n',data.iloc[3,3][0:500],'\\n\\n') #Maybe stuff like 'greater' can be seen as positive? - must check out POS-NEU scores\n",
    "print('NYT Article beginning: \\n',data.iloc[3,4][0:500]) #Neutral indeed"
   ]
  },
  {
   "cell_type": "code",
   "execution_count": 21,
   "metadata": {},
   "outputs": [
    {
     "name": "stdout",
     "output_type": "stream",
     "text": [
      "{'NEG': 0.004140180069953203, 'NEU': 0.4565861225128174, 'POS': 0.539273738861084}\n"
     ]
    }
   ],
   "source": [
    "print(data['wsj_results'][3].probas) #yeah seems like its just barely more positive than neutral"
   ]
  },
  {
   "cell_type": "code",
   "execution_count": 22,
   "metadata": {},
   "outputs": [],
   "source": [
    "#Set baseline for analyzer using diverse texts (doc2vec)\n",
    "#Tokenize texts for training\n",
    "\n",
    "#Train doc2vec on oba/wsj/nyt corpus\n",
    "\n",
    "#Identify where texts are located through the doc vector"
   ]
  },
  {
   "cell_type": "code",
   "execution_count": 23,
   "metadata": {},
   "outputs": [
    {
     "data": {
      "text/html": [
       "<div>\n",
       "<style scoped>\n",
       "    .dataframe tbody tr th:only-of-type {\n",
       "        vertical-align: middle;\n",
       "    }\n",
       "\n",
       "    .dataframe tbody tr th {\n",
       "        vertical-align: top;\n",
       "    }\n",
       "\n",
       "    .dataframe thead th {\n",
       "        text-align: right;\n",
       "    }\n",
       "</style>\n",
       "<table border=\"1\" class=\"dataframe\">\n",
       "  <thead>\n",
       "    <tr style=\"text-align: right;\">\n",
       "      <th></th>\n",
       "      <th>Unnamed: 0</th>\n",
       "      <th>file</th>\n",
       "      <th>text_oba</th>\n",
       "      <th>text_wsj</th>\n",
       "      <th>text_nyt</th>\n",
       "      <th>date</th>\n",
       "      <th>oba_results</th>\n",
       "      <th>oba_pos</th>\n",
       "      <th>oba_neu</th>\n",
       "      <th>oba_neg</th>\n",
       "      <th>wsj_results</th>\n",
       "      <th>nyt_results</th>\n",
       "      <th>wsj_pos</th>\n",
       "      <th>wsj_neu</th>\n",
       "      <th>wsj_neg</th>\n",
       "      <th>nyt_pos</th>\n",
       "      <th>nyt_neu</th>\n",
       "      <th>nyt_neg</th>\n",
       "    </tr>\n",
       "  </thead>\n",
       "  <tbody>\n",
       "    <tr>\n",
       "      <th>0</th>\n",
       "      <td>0</td>\n",
       "      <td>2004-07-28-DNCSpeech.txt</td>\n",
       "      <td>On behalf of the great state of Illinois, cros...</td>\n",
       "      <td>John Kerry's decorated service in Vietnam took...</td>\n",
       "      <td>Barack Obama took the dais as the keynote spea...</td>\n",
       "      <td>2004-07-28</td>\n",
       "      <td>AnalyzerOutput(output=POS, probas={POS: 0.984,...</td>\n",
       "      <td>0.984291</td>\n",
       "      <td>0.013740</td>\n",
       "      <td>0.001969</td>\n",
       "      <td>AnalyzerOutput(output=POS, probas={POS: 0.679,...</td>\n",
       "      <td>AnalyzerOutput(output=POS, probas={POS: 0.538,...</td>\n",
       "      <td>0.678627</td>\n",
       "      <td>0.318330</td>\n",
       "      <td>0.003043</td>\n",
       "      <td>0.537673</td>\n",
       "      <td>0.451160</td>\n",
       "      <td>0.011166</td>\n",
       "    </tr>\n",
       "    <tr>\n",
       "      <th>1</th>\n",
       "      <td>1</td>\n",
       "      <td>2008-06-04-ObamaNomination.txt</td>\n",
       "      <td>Thank you....Thank you. What a -- What a wonde...</td>\n",
       "      <td>Sen. Barack Obama captured enough convention d...</td>\n",
       "      <td>Senator Barack Obama claimed the Democratic pr...</td>\n",
       "      <td>2008-06-04</td>\n",
       "      <td>AnalyzerOutput(output=POS, probas={POS: 0.992,...</td>\n",
       "      <td>0.991954</td>\n",
       "      <td>0.006306</td>\n",
       "      <td>0.001740</td>\n",
       "      <td>AnalyzerOutput(output=POS, probas={POS: 0.808,...</td>\n",
       "      <td>AnalyzerOutput(output=POS, probas={POS: 0.532,...</td>\n",
       "      <td>0.807944</td>\n",
       "      <td>0.189637</td>\n",
       "      <td>0.002419</td>\n",
       "      <td>0.532222</td>\n",
       "      <td>0.463911</td>\n",
       "      <td>0.003867</td>\n",
       "    </tr>\n",
       "    <tr>\n",
       "      <th>2</th>\n",
       "      <td>2</td>\n",
       "      <td>2008-11-05-ObamaElected.txt</td>\n",
       "      <td>Hello, Chicago.\\n\\nIf there is anyone out ther...</td>\n",
       "      <td>Sen. Barack Obama was elected the nation's fir...</td>\n",
       "      <td>Barack Hussein Obama was elected the 44th pres...</td>\n",
       "      <td>2008-11-05</td>\n",
       "      <td>AnalyzerOutput(output=NEU, probas={NEU: 0.795,...</td>\n",
       "      <td>0.164156</td>\n",
       "      <td>0.794787</td>\n",
       "      <td>0.041057</td>\n",
       "      <td>AnalyzerOutput(output=POS, probas={POS: 0.647,...</td>\n",
       "      <td>AnalyzerOutput(output=POS, probas={POS: 0.900,...</td>\n",
       "      <td>0.646581</td>\n",
       "      <td>0.347354</td>\n",
       "      <td>0.006064</td>\n",
       "      <td>0.899753</td>\n",
       "      <td>0.097999</td>\n",
       "      <td>0.002248</td>\n",
       "    </tr>\n",
       "    <tr>\n",
       "      <th>3</th>\n",
       "      <td>3</td>\n",
       "      <td>2009-01-05-EconomyPlans.txt</td>\n",
       "      <td>All right. Well, thanks for taking the time to...</td>\n",
       "      <td>President-elect Barack Obama and congressional...</td>\n",
       "      <td>President-elect Barack Obama plans to include ...</td>\n",
       "      <td>2009-01-05</td>\n",
       "      <td>AnalyzerOutput(output=NEG, probas={NEG: 0.909,...</td>\n",
       "      <td>0.008281</td>\n",
       "      <td>0.083071</td>\n",
       "      <td>0.908647</td>\n",
       "      <td>AnalyzerOutput(output=POS, probas={POS: 0.539,...</td>\n",
       "      <td>AnalyzerOutput(output=NEU, probas={NEU: 0.617,...</td>\n",
       "      <td>0.539274</td>\n",
       "      <td>0.456586</td>\n",
       "      <td>0.004140</td>\n",
       "      <td>0.377001</td>\n",
       "      <td>0.617145</td>\n",
       "      <td>0.005854</td>\n",
       "    </tr>\n",
       "    <tr>\n",
       "      <th>4</th>\n",
       "      <td>4</td>\n",
       "      <td>2009-01-20-Inauguration.txt</td>\n",
       "      <td>I, Barack Hussein Obama, do solemnly swear tha...</td>\n",
       "      <td>On a day rich in history, Barack Obama was swo...</td>\n",
       "      <td>Barack Hussein Obama was sworn in as the 44th ...</td>\n",
       "      <td>2009-01-20</td>\n",
       "      <td>AnalyzerOutput(output=POS, probas={POS: 0.985,...</td>\n",
       "      <td>0.984908</td>\n",
       "      <td>0.013792</td>\n",
       "      <td>0.001300</td>\n",
       "      <td>AnalyzerOutput(output=POS, probas={POS: 0.945,...</td>\n",
       "      <td>AnalyzerOutput(output=POS, probas={POS: 0.636,...</td>\n",
       "      <td>0.944956</td>\n",
       "      <td>0.053555</td>\n",
       "      <td>0.001489</td>\n",
       "      <td>0.636215</td>\n",
       "      <td>0.355996</td>\n",
       "      <td>0.007789</td>\n",
       "    </tr>\n",
       "  </tbody>\n",
       "</table>\n",
       "</div>"
      ],
      "text/plain": [
       "   Unnamed: 0                            file  \\\n",
       "0           0        2004-07-28-DNCSpeech.txt   \n",
       "1           1  2008-06-04-ObamaNomination.txt   \n",
       "2           2     2008-11-05-ObamaElected.txt   \n",
       "3           3     2009-01-05-EconomyPlans.txt   \n",
       "4           4     2009-01-20-Inauguration.txt   \n",
       "\n",
       "                                            text_oba  \\\n",
       "0  On behalf of the great state of Illinois, cros...   \n",
       "1  Thank you....Thank you. What a -- What a wonde...   \n",
       "2  Hello, Chicago.\\n\\nIf there is anyone out ther...   \n",
       "3  All right. Well, thanks for taking the time to...   \n",
       "4  I, Barack Hussein Obama, do solemnly swear tha...   \n",
       "\n",
       "                                            text_wsj  \\\n",
       "0  John Kerry's decorated service in Vietnam took...   \n",
       "1  Sen. Barack Obama captured enough convention d...   \n",
       "2  Sen. Barack Obama was elected the nation's fir...   \n",
       "3  President-elect Barack Obama and congressional...   \n",
       "4  On a day rich in history, Barack Obama was swo...   \n",
       "\n",
       "                                            text_nyt        date  \\\n",
       "0  Barack Obama took the dais as the keynote spea...  2004-07-28   \n",
       "1  Senator Barack Obama claimed the Democratic pr...  2008-06-04   \n",
       "2  Barack Hussein Obama was elected the 44th pres...  2008-11-05   \n",
       "3  President-elect Barack Obama plans to include ...  2009-01-05   \n",
       "4  Barack Hussein Obama was sworn in as the 44th ...  2009-01-20   \n",
       "\n",
       "                                         oba_results   oba_pos   oba_neu  \\\n",
       "0  AnalyzerOutput(output=POS, probas={POS: 0.984,...  0.984291  0.013740   \n",
       "1  AnalyzerOutput(output=POS, probas={POS: 0.992,...  0.991954  0.006306   \n",
       "2  AnalyzerOutput(output=NEU, probas={NEU: 0.795,...  0.164156  0.794787   \n",
       "3  AnalyzerOutput(output=NEG, probas={NEG: 0.909,...  0.008281  0.083071   \n",
       "4  AnalyzerOutput(output=POS, probas={POS: 0.985,...  0.984908  0.013792   \n",
       "\n",
       "    oba_neg                                        wsj_results  \\\n",
       "0  0.001969  AnalyzerOutput(output=POS, probas={POS: 0.679,...   \n",
       "1  0.001740  AnalyzerOutput(output=POS, probas={POS: 0.808,...   \n",
       "2  0.041057  AnalyzerOutput(output=POS, probas={POS: 0.647,...   \n",
       "3  0.908647  AnalyzerOutput(output=POS, probas={POS: 0.539,...   \n",
       "4  0.001300  AnalyzerOutput(output=POS, probas={POS: 0.945,...   \n",
       "\n",
       "                                         nyt_results   wsj_pos   wsj_neu  \\\n",
       "0  AnalyzerOutput(output=POS, probas={POS: 0.538,...  0.678627  0.318330   \n",
       "1  AnalyzerOutput(output=POS, probas={POS: 0.532,...  0.807944  0.189637   \n",
       "2  AnalyzerOutput(output=POS, probas={POS: 0.900,...  0.646581  0.347354   \n",
       "3  AnalyzerOutput(output=NEU, probas={NEU: 0.617,...  0.539274  0.456586   \n",
       "4  AnalyzerOutput(output=POS, probas={POS: 0.636,...  0.944956  0.053555   \n",
       "\n",
       "    wsj_neg   nyt_pos   nyt_neu   nyt_neg  \n",
       "0  0.003043  0.537673  0.451160  0.011166  \n",
       "1  0.002419  0.532222  0.463911  0.003867  \n",
       "2  0.006064  0.899753  0.097999  0.002248  \n",
       "3  0.004140  0.377001  0.617145  0.005854  \n",
       "4  0.001489  0.636215  0.355996  0.007789  "
      ]
     },
     "execution_count": 23,
     "metadata": {},
     "output_type": "execute_result"
    }
   ],
   "source": [
    "data.head()"
   ]
  },
  {
   "cell_type": "code",
   "execution_count": 24,
   "metadata": {},
   "outputs": [
    {
     "name": "stdout",
     "output_type": "stream",
     "text": [
      "303\n"
     ]
    },
    {
     "data": {
      "text/html": [
       "<div>\n",
       "<style scoped>\n",
       "    .dataframe tbody tr th:only-of-type {\n",
       "        vertical-align: middle;\n",
       "    }\n",
       "\n",
       "    .dataframe tbody tr th {\n",
       "        vertical-align: top;\n",
       "    }\n",
       "\n",
       "    .dataframe thead th {\n",
       "        text-align: right;\n",
       "    }\n",
       "</style>\n",
       "<table border=\"1\" class=\"dataframe\">\n",
       "  <thead>\n",
       "    <tr style=\"text-align: right;\">\n",
       "      <th></th>\n",
       "      <th>Source</th>\n",
       "      <th>Date</th>\n",
       "      <th>Text</th>\n",
       "      <th>Result</th>\n",
       "      <th>Resultint</th>\n",
       "    </tr>\n",
       "  </thead>\n",
       "  <tbody>\n",
       "    <tr>\n",
       "      <th>0</th>\n",
       "      <td>text_oba</td>\n",
       "      <td>2004-07-28</td>\n",
       "      <td>On behalf of the great state of Illinois, cros...</td>\n",
       "      <td>POS</td>\n",
       "      <td>1.0</td>\n",
       "    </tr>\n",
       "    <tr>\n",
       "      <th>1</th>\n",
       "      <td>text_oba</td>\n",
       "      <td>2008-06-04</td>\n",
       "      <td>Thank you....Thank you. What a -- What a wonde...</td>\n",
       "      <td>POS</td>\n",
       "      <td>1.0</td>\n",
       "    </tr>\n",
       "    <tr>\n",
       "      <th>2</th>\n",
       "      <td>text_oba</td>\n",
       "      <td>2008-11-05</td>\n",
       "      <td>Hello, Chicago.\\n\\nIf there is anyone out ther...</td>\n",
       "      <td>NEU</td>\n",
       "      <td>0.5</td>\n",
       "    </tr>\n",
       "    <tr>\n",
       "      <th>3</th>\n",
       "      <td>text_oba</td>\n",
       "      <td>2009-01-05</td>\n",
       "      <td>All right. Well, thanks for taking the time to...</td>\n",
       "      <td>NEG</td>\n",
       "      <td>0.0</td>\n",
       "    </tr>\n",
       "    <tr>\n",
       "      <th>4</th>\n",
       "      <td>text_oba</td>\n",
       "      <td>2009-01-20</td>\n",
       "      <td>I, Barack Hussein Obama, do solemnly swear tha...</td>\n",
       "      <td>POS</td>\n",
       "      <td>1.0</td>\n",
       "    </tr>\n",
       "  </tbody>\n",
       "</table>\n",
       "</div>"
      ],
      "text/plain": [
       "     Source        Date                                               Text  \\\n",
       "0  text_oba  2004-07-28  On behalf of the great state of Illinois, cros...   \n",
       "1  text_oba  2008-06-04  Thank you....Thank you. What a -- What a wonde...   \n",
       "2  text_oba  2008-11-05  Hello, Chicago.\\n\\nIf there is anyone out ther...   \n",
       "3  text_oba  2009-01-05  All right. Well, thanks for taking the time to...   \n",
       "4  text_oba  2009-01-20  I, Barack Hussein Obama, do solemnly swear tha...   \n",
       "\n",
       "  Result  Resultint  \n",
       "0    POS        1.0  \n",
       "1    POS        1.0  \n",
       "2    NEU        0.5  \n",
       "3    NEG        0.0  \n",
       "4    POS        1.0  "
      ]
     },
     "execution_count": 24,
     "metadata": {},
     "output_type": "execute_result"
    }
   ],
   "source": [
    "#Reformat data to long format for use in doc2vec corpus\n",
    "texts=[]\n",
    "sources=[]\n",
    "output=[]\n",
    "date=[]\n",
    "score=[]\n",
    "for column in ['text_oba','text_wsj','text_nyt']:\n",
    "    for i in range(0,len(data)):\n",
    "        texts.append(data[column][i])\n",
    "        sources.append(column)\n",
    "        date.append(data['date'][i])\n",
    "        \n",
    "for scores in ['oba_results','wsj_results','nyt_results']:\n",
    "    for i in range(0,len(data)):\n",
    "        output.append(data[scores][i].output)\n",
    "        if data[scores][i].output=='POS':\n",
    "            score.append(1)\n",
    "        elif data[scores][i].output=='NEG':\n",
    "            score.append(0)\n",
    "        else:\n",
    "            score.append(0.5)\n",
    "D2Vdata = pd.DataFrame(data={'Source':sources,'Date':date,'Text':texts,'Result':output,'Resultint':score})\n",
    "print(len(D2Vdata))\n",
    "D2Vdata.head()"
   ]
  },
  {
   "cell_type": "code",
   "execution_count": 25,
   "metadata": {},
   "outputs": [
    {
     "data": {
      "text/html": [
       "<div>\n",
       "<style scoped>\n",
       "    .dataframe tbody tr th:only-of-type {\n",
       "        vertical-align: middle;\n",
       "    }\n",
       "\n",
       "    .dataframe tbody tr th {\n",
       "        vertical-align: top;\n",
       "    }\n",
       "\n",
       "    .dataframe thead th {\n",
       "        text-align: right;\n",
       "    }\n",
       "</style>\n",
       "<table border=\"1\" class=\"dataframe\">\n",
       "  <thead>\n",
       "    <tr style=\"text-align: right;\">\n",
       "      <th></th>\n",
       "      <th>Unnamed: 0</th>\n",
       "      <th>date</th>\n",
       "      <th>title</th>\n",
       "      <th>tokens</th>\n",
       "      <th>fulltext</th>\n",
       "    </tr>\n",
       "  </thead>\n",
       "  <tbody>\n",
       "    <tr>\n",
       "      <th>0</th>\n",
       "      <td>0</td>\n",
       "      <td>2012-07-23</td>\n",
       "      <td>Speech to the 113th VFW Convention</td>\n",
       "      <td>([, ', straight, ', ,, ', denoyer, ', ,, ', re...</td>\n",
       "      <td>(Thank, you, !, Hello, VFW, !, Thank, you, so,...</td>\n",
       "    </tr>\n",
       "    <tr>\n",
       "      <th>1</th>\n",
       "      <td>1</td>\n",
       "      <td>2015-12-09</td>\n",
       "      <td>113th Amendment 150-Year Anniversary Speech</td>\n",
       "      <td>([, ', white, ', ,, ', rise, ', ,, ', journey,...</td>\n",
       "      <td>(“, In, giving, freedom, to, the, slave, ,, we...</td>\n",
       "    </tr>\n",
       "    <tr>\n",
       "      <th>2</th>\n",
       "      <td>2</td>\n",
       "      <td>2010-02-01</td>\n",
       "      <td>Press Conference on 2010 Budget Sent to Congress</td>\n",
       "      <td>([, ', reflect, ', ,, ', rise, ', ,, ', energy...</td>\n",
       "      <td>(Good, morning, ,, everybody, .,  , This, morn...</td>\n",
       "    </tr>\n",
       "    <tr>\n",
       "      <th>3</th>\n",
       "      <td>3</td>\n",
       "      <td>2010-02-04</td>\n",
       "      <td>Speech at the 58th National Prayer Breakfast</td>\n",
       "      <td>([, ', head, ', ,, ', share, ', ,, ', contest,...</td>\n",
       "      <td>(Thank, you, .,  , Thank, you, very, much, ., ...</td>\n",
       "    </tr>\n",
       "    <tr>\n",
       "      <th>4</th>\n",
       "      <td>4</td>\n",
       "      <td>2011-02-03</td>\n",
       "      <td>Speech at the 59th National Prayer Breakfast</td>\n",
       "      <td>([, ', straight, ', ,, ', biblical, ', ,, ', s...</td>\n",
       "      <td>(Thank, you, so, much, .,   , To, the, co, -, ...</td>\n",
       "    </tr>\n",
       "  </tbody>\n",
       "</table>\n",
       "</div>"
      ],
      "text/plain": [
       "   Unnamed: 0        date                                             title  \\\n",
       "0           0  2012-07-23                Speech to the 113th VFW Convention   \n",
       "1           1  2015-12-09       113th Amendment 150-Year Anniversary Speech   \n",
       "2           2  2010-02-01  Press Conference on 2010 Budget Sent to Congress   \n",
       "3           3  2010-02-04      Speech at the 58th National Prayer Breakfast   \n",
       "4           4  2011-02-03      Speech at the 59th National Prayer Breakfast   \n",
       "\n",
       "                                              tokens  \\\n",
       "0  ([, ', straight, ', ,, ', denoyer, ', ,, ', re...   \n",
       "1  ([, ', white, ', ,, ', rise, ', ,, ', journey,...   \n",
       "2  ([, ', reflect, ', ,, ', rise, ', ,, ', energy...   \n",
       "3  ([, ', head, ', ,, ', share, ', ,, ', contest,...   \n",
       "4  ([, ', straight, ', ,, ', biblical, ', ,, ', s...   \n",
       "\n",
       "                                            fulltext  \n",
       "0  (Thank, you, !, Hello, VFW, !, Thank, you, so,...  \n",
       "1  (“, In, giving, freedom, to, the, slave, ,, we...  \n",
       "2  (Good, morning, ,, everybody, .,  , This, morn...  \n",
       "3  (Thank, you, .,  , Thank, you, very, much, ., ...  \n",
       "4  (Thank, you, so, much, .,   , To, the, co, -, ...  "
      ]
     },
     "execution_count": 25,
     "metadata": {},
     "output_type": "execute_result"
    }
   ],
   "source": [
    "D2Vdata=pd.read_csv('UCSBLemmaTokens.csv')\n",
    "import spacy\n",
    "nlp = spacy.load(\"en_core_web_md\")\n",
    "D2Vdata['tokens']=D2Vdata['tokens'].apply(lambda x: nlp(x)) #Still need to fix commas being tokenized...\n",
    "D2Vdata['fulltext']=D2Vdata['fulltext'].apply(lambda x: nlp(x))\n",
    "D2Vdata.head()"
   ]
  },
  {
   "cell_type": "code",
   "execution_count": 26,
   "metadata": {},
   "outputs": [],
   "source": [
    "#Clean up text, train-test split(MIGHT NEED REVIEW), tokenize using nltk + tag set of tokens by sentiment score \n",
    "from sklearn.model_selection import train_test_split\n",
    "from gensim.models.doc2vec import TaggedDocument\n",
    "\n",
    "x_train, x_test = train_test_split(D2Vdata, test_size=0.3, random_state=42, shuffle=True)\n",
    "x_all = D2Vdata\n",
    "def fix_tokens(tokenlist):\n",
    "    correcttokens=[]\n",
    "    for token in tokenlist:\n",
    "        if len(token)>2:\n",
    "            correcttokens.append(str(token))\n",
    "        else:\n",
    "            pass\n",
    "    return correcttokens\n",
    "\n",
    "all_tagged = x_all.apply(\n",
    "    lambda r: TaggedDocument(words=fix_tokens(r['fulltext']), tags=[r['title']]), axis=1)\n",
    "train_tagged = x_train.apply(\n",
    "    lambda r: TaggedDocument(words=fix_tokens(r['fulltext']), tags=[r['title']]), axis=1)\n",
    "test_tagged = x_test.apply(\n",
    "    lambda r: TaggedDocument(words=fix_tokens(r['fulltext']), tags=[r['title']]), axis=1)"
   ]
  },
  {
   "cell_type": "code",
   "execution_count": 27,
   "metadata": {},
   "outputs": [],
   "source": [
    "#Initialize doc2vec DBOW model\n",
    "import multiprocessing\n",
    "cores=multiprocessing.cpu_count()\n",
    "model_dbow = Doc2Vec(dm=0, vector_size=300, negative=5, hs=0, min_count=2, sample=0, workers=cores)\n",
    "model_dbow.build_vocab([x for x in all_tagged.values])\n",
    "model_dm = Doc2Vec(dm=1, vector_size=300, negative=5, hs=0, min_count=2, sample=0, workers=cores)\n",
    "model_dm.build_vocab([x for x in all_tagged.values])"
   ]
  },
  {
   "cell_type": "code",
   "execution_count": 28,
   "metadata": {},
   "outputs": [],
   "source": [
    "#Train model for 50 epochs\n",
    "from sklearn import utils\n",
    "for i in range(50):\n",
    "    model_dbow.train(utils.shuffle([x for x in all_tagged.values]), total_examples=len(all_tagged.values),epochs=1)\n",
    "    model_dbow.alpha=-0.002\n",
    "    model_dbow.min_alpha=model_dbow.alpha\n",
    "    model_dm.train(utils.shuffle([x for x in all_tagged.values]), total_examples=len(all_tagged.values),epochs=1)\n",
    "    model_dm.alpha=-0.002\n",
    "    model_dm.min_alpha=model_dm.alpha"
   ]
  },
  {
   "cell_type": "code",
   "execution_count": 31,
   "metadata": {},
   "outputs": [
    {
     "name": "stdout",
     "output_type": "stream",
     "text": [
      "[('Lilly', 0.246506467461586), ('compels', 0.23355937004089355), ('fairly', 0.21797576546669006), ('Assistant', 0.20348632335662842), ('medicine', 0.19897353649139404), ('robotics', 0.19587761163711548), ('stone', 0.19359806180000305), ('Ravenstahl', 0.19113950431346893), ('infant', 0.19075211882591248), ('wrangling', 0.18891564011573792)]\n",
      "[('abused', 0.21076257526874542), ('fusion', 0.20825524628162384), ('Put', 0.20789891481399536), ('lessen', 0.20533142983913422), ('jailer', 0.2000654637813568), ('Protestants', 0.1937597543001175), ('picture', 0.1895957738161087), ('relative', 0.18787528574466705), ('locate', 0.18610002100467682), ('Microsoft', 0.17862237989902496)]\n",
      "[('Brostrom', 0.25030362606048584), ('Party', 0.20104603469371796), ('paint', 0.199672132730484), ('hop', 0.1928839534521103), ('anchor', 0.192011296749115), ('McFaul', 0.19182194769382477), ('structured', 0.1916857659816742), ('starting', 0.1897502988576889), ('violated', 0.18870487809181213), ('unequal', 0.1883152425289154)]\n",
      "[('Taiwan', 0.2076198309659958), ('Syrians', 0.20665982365608215), ('stems', 0.20553503930568695), ('inherited', 0.20137880742549896), ('overlap', 0.20115967094898224), ('perpetuated', 0.19677723944187164), ('remiss', 0.1930253803730011), ('completes', 0.19164036214351654), ('Shanghai', 0.1915980577468872), ('convene', 0.1889112889766693)]\n",
      "[('region', 0.21009081602096558), ('tone', 0.20867007970809937), ('avert', 0.20276591181755066), ('Northern', 0.1897764801979065), ('filled', 0.1894213855266571), ('goodwill', 0.18922512233257294), ('seventh', 0.18910303711891174), ('employ', 0.18685969710350037), ('brothers', 0.18638762831687927), ('invalidated', 0.1862485408782959)]\n"
     ]
    }
   ],
   "source": [
    "print(model_dbow.wv.most_similar('Obama'))\n",
    "print(model_dbow.wv.most_similar('America'))\n",
    "print(model_dbow.wv.most_similar('education'))\n",
    "print(model_dbow.wv.most_similar('war'))\n",
    "print(model_dbow.wv.most_similar('president'))"
   ]
  },
  {
   "cell_type": "code",
   "execution_count": 32,
   "metadata": {},
   "outputs": [
    {
     "name": "stdout",
     "output_type": "stream",
     "text": [
      "[('chief', 0.9989317655563354), ('straight', 0.9988595843315125), ('visited', 0.9988437294960022), ('Hillary', 0.9987964034080505), ('Vietnamese', 0.9987955689430237), ('Hawaii', 0.9987174272537231), ('mass', 0.9987061619758606), ('Congress', 0.9986673593521118), ('FEMA', 0.9986673593521118), ('applause', 0.9986549615859985)]\n",
      "[('President', 0.9963353276252747), ('decades', 0.9949855804443359), ('the', 0.9949362277984619), ('sees', 0.9943190217018127), ('lying', 0.9942976236343384), ('changed', 0.9942179322242737), ('this', 0.9941319823265076), ('ASEAN', 0.9941164255142212), ('pursued', 0.9939959049224854), ('eliminated', 0.993899941444397)]\n",
      "[('justice', 0.9989734888076782), ('invest', 0.9986432194709778), ('faith', 0.9985944032669067), ('systems', 0.9983965158462524), ('free', 0.9983819127082825), ('Laos', 0.9983377456665039), ('students', 0.9983152747154236), ('protest', 0.998196542263031), ('doctors', 0.998172402381897), ('training', 0.9981564879417419)]\n",
      "[('leader', 0.999366819858551), ('term', 0.999283492565155), ('space', 0.999035120010376), ('Ambassador', 0.9990227222442627), ('senseless', 0.9989462494850159), ('Israeli', 0.998912513256073), ('financial', 0.9989067912101746), ('force', 0.9988784193992615), ('threats', 0.9988735318183899), ('U.S.', 0.9988576173782349)]\n",
      "[('most', 0.9990721940994263), ('side', 0.9990026950836182), ('Cubs', 0.9985358715057373), ('head', 0.9984239935874939), ('Navy', 0.9982712268829346), ('Hill', 0.9982680678367615), ('sides', 0.9982413649559021), ('above', 0.9982156753540039), ('State', 0.9981769323348999), ('negotiations', 0.9981662034988403)]\n"
     ]
    }
   ],
   "source": [
    "print(model_dm.wv.most_similar('Obama'))\n",
    "print(model_dm.wv.most_similar('America'))\n",
    "print(model_dm.wv.most_similar('education'))\n",
    "print(model_dm.wv.most_similar('war'))\n",
    "print(model_dm.wv.most_similar('president'))"
   ]
  },
  {
   "cell_type": "code",
   "execution_count": null,
   "metadata": {},
   "outputs": [],
   "source": [
    "import numpy as np\n",
    "from sklearn.preprocessing import scale\n",
    "from keras.models import Sequential\n",
    "from keras.layers import Dense\n",
    "from sklearn.feature_extraction.text import TfidfVectorizer\n",
    "\n",
    "vectorizer=TfidfVectorizer(analyzer=lambda x: x, min_df=10)\n",
    "matrix = vectorizer.fit_transform([x.words for x in all_tagged])\n",
    "tfidf = dict(zip(vectorizer.get_feature_names(), vectorizer.idf_))\n",
    "def build_doc_Vector(tokens, size):\n",
    "    vec = np.zeros(size).reshape((1, size))\n",
    "    count = 0.\n",
    "    for word in tokens:\n",
    "        try:\n",
    "            vec += model_d2v[word].reshape((1, size)) * tfidf[word]\n",
    "            count += 1.\n",
    "        except KeyError: \n",
    "            continue\n",
    "    if count != 0:\n",
    "        vec /= count\n",
    "    return vec\n",
    "\n",
    "train_vecs_dbow = np.concatenate([build_doc_Vector(z, 300) for z in map(lambda x: x.words, train_tagged)])\n",
    "train_vecs_dbow = scale(train_vecs_dbow)\n",
    "val_vecs_dbow = np.concatenate([build_doc_Vector(z, 300) for z in map(lambda x: x.words, test_tagged)])\n",
    "val_vecs_dbow = scale(val_vecs_dbow)\n",
    "\n",
    "model1 = Sequential()\n",
    "model1.add(Dense(256, activation='relu', input_dim=300))\n",
    "model1.add(Dense(256, activation='relu'))\n",
    "model1.add(Dense(256, activation='relu'))\n",
    "model1.add(Dense(1, activation='sigmoid'))\n",
    "model1.compile(optimizer='adam',\n",
    "              loss='binary_crossentropy',\n",
    "              metrics=['accuracy'])\n",
    "\n",
    "model1.fit(train_vecs_dbow, y_train, epochs=100, batch_size=32, verbose=2)\n",
    "score = model1.evaluate(val_vecs_dbow, y_test, batch_size=128, verbose=2)\n",
    "print(score[1])"
   ]
  },
  {
   "cell_type": "code",
   "execution_count": null,
   "metadata": {},
   "outputs": [],
   "source": [
    "model_dmc = Doc2Vec(dm=1, dm_concat=1, vector_size=200, window=2, negative=5, min_count=2, workers=cores, alpha=0.065, min_alpha=0.065)\n",
    "model_dmc.build_vocab([x for x in (all_tagged)])\n",
    "model_dmc.train(utils.shuffle([x for x in (all_tagged)]), total_examples=len(all_tagged), epochs=1)\n",
    "\n",
    "def build_doc_Vector(tokens, size):\n",
    "    vec = np.zeros(size).reshape((1, size))\n",
    "    count = 0.\n",
    "    for word in tokens:\n",
    "        try:\n",
    "            vec += model_dmc[word].reshape((1, size)) * tfidf[word]\n",
    "            count += 1.\n",
    "        except KeyError: \n",
    "            continue\n",
    "    if count != 0:\n",
    "        vec /= count\n",
    "    return vec\n",
    "\n",
    "  \n",
    "train_vecs_dmc = np.concatenate([build_doc_Vector(z, 200) for z in map(lambda x: x.words, train_tagged)])\n",
    "train_vecs_dmc = scale(train_vecs_dmc)\n",
    "\n",
    "\n",
    "val_vecs_dmc = np.concatenate([build_doc_Vector(z, 200) for z in map(lambda x: x.words, test_tagged)])\n",
    "val_vecs_dmc = scale(val_vecs_dmc)\n",
    "\n",
    "model = Sequential()\n",
    "model.add(Dense(256, activation='relu', input_dim=200))\n",
    "model.add(Dense(256, activation='relu'))\n",
    "model.add(Dense(256, activation='relu'))\n",
    "model.add(Dense(1, activation='sigmoid'))\n",
    "model.compile(optimizer='adam',\n",
    "              loss='binary_crossentropy',\n",
    "              metrics=['accuracy'])\n",
    "model.fit(train_vecs_dmc, y_train, epochs=100, batch_size=32, verbose=2)\n",
    "score = model.evaluate(val_vecs_dmc, y_test, batch_size=128, verbose=2)\n",
    "\n",
    "print(score[1])"
   ]
  },
  {
   "cell_type": "code",
   "execution_count": null,
   "metadata": {},
   "outputs": [],
   "source": [
    "model_dmm = Doc2Vec(dm=1, dm_mean=1, vector_size=300, window=4, negative=5, min_count=2, workers=cores, alpha=0.065, min_alpha=0.065)\n",
    "model_dmm.build_vocab([x for x in all_tagged])\n",
    "model_dmm.train(utils.shuffle([x for x in all_tagged]), total_examples=len(all_tagged), epochs=1)\n",
    "\n",
    "def build_doc_Vector(tokens, size):\n",
    "    vec = np.zeros(size).reshape((1, size))\n",
    "    count = 0.\n",
    "    for word in tokens:\n",
    "        try:\n",
    "            vec += model_dmm[word].reshape((1, size)) * tfidf[word]\n",
    "            count += 1.\n",
    "        except KeyError: \n",
    "            continue\n",
    "    if count != 0:\n",
    "        vec /= count\n",
    "    return vec\n",
    "\n",
    "  \n",
    "train_vecs_dmm = np.concatenate([build_doc_Vector(z, 300) for z in (map(lambda x: x.words, train_tagged))])\n",
    "train_vecs_dmm = scale(train_vecs_dmm)\n",
    "\n",
    "val_vecs_dmm = np.concatenate([build_doc_Vector(z, 300) for z in (map(lambda x: x.words, test_tagged))])\n",
    "val_vecs_dmm = scale(val_vecs_dmm)\n",
    "\n",
    "model2 = Sequential()\n",
    "model2.add(Dense(256, activation='relu', input_dim=300))\n",
    "model2.add(Dense(256, activation='relu'))\n",
    "model2.add(Dense(256, activation='relu'))\n",
    "model2.add(Dense(1, activation='sigmoid'))\n",
    "model2.compile(optimizer='adam',\n",
    "              loss='binary_crossentropy',\n",
    "              metrics=['accuracy'])\n",
    "model2.fit(train_vecs_dmm, y_train, epochs=100, batch_size=32, verbose=2)\n",
    "score = model2.evaluate(val_vecs_dmm, y_test, batch_size=128, verbose=2)\n",
    "print(score[1])"
   ]
  },
  {
   "cell_type": "code",
   "execution_count": null,
   "metadata": {},
   "outputs": [],
   "source": [
    "#Check model performance\n",
    "def vec_for_learning(model, tagged_docs):\n",
    "    sents = tagged_docs.values\n",
    "    targets, regressors = zip(*[(doc.tags[0], model.infer_vector(doc.words)) for doc in sents])\n",
    "    return targets, regressors\n",
    "from sklearn.linear_model import LogisticRegression\n",
    "y_train, X_train = vec_for_learning(model_d2v, train_tagged)\n",
    "y_test, X_test = vec_for_learning(model_d2v, test_tagged)\n",
    "logreg = LogisticRegression(n_jobs=1, C=1e5)\n",
    "logreg.fit(X_train, y_train)\n",
    "y_pred = logreg.predict(X_test)\n",
    "from sklearn.metrics import accuracy_score, f1_score\n",
    "print('Testing accuracy %s' % accuracy_score(y_test, y_pred))\n",
    "print('Testing F1 score: {}'.format(f1_score(y_test, y_pred, average='weighted')))\n",
    "#Performance is okay, with an accuracy and f1-score of around 72.5%"
   ]
  },
  {
   "cell_type": "code",
   "execution_count": null,
   "metadata": {},
   "outputs": [],
   "source": [
    "#Quick command to identify similar words to a LOWER-CASE term of interest (has to be present in the corpus)\n",
    "model_d2v.wv.most_similar('death')\n",
    "#The similar words look really weird... Also still some cleanup issues so I'll have to review the text cleanup steps\n"
   ]
  },
  {
   "cell_type": "code",
   "execution_count": 35,
   "metadata": {},
   "outputs": [],
   "source": [
    "#T-SNE visualization of doc2vec model for further investigation\n",
    "from sklearn.manifold import TSNE\n",
    "import numpy as np\n",
    "#word='heroic'\n",
    "#wv=model_d2v.wv[word]\n",
    "doc_tags=list(model_dm.dv.index_to_key)\n",
    "#doc_tags.append(word)\n",
    "#wv=model_dbow.wv[word]\n",
    "X=np.zeros((len(model_dm.dv.index_to_key),len(model_dm.dv[0])))\n",
    "#X2=np.zeros((len(model_d2v.dv.index_to_key),len(model_d2v.dv[0])))\n",
    "for i in range(0,len(X)):\n",
    "    X[i]=model_dm.dv[i]\n",
    "#for i in range(0,len(X2)):\n",
    "#    X2[i]=model_d2v.dv[i]"
   ]
  },
  {
   "cell_type": "code",
   "execution_count": 36,
   "metadata": {},
   "outputs": [
    {
     "name": "stderr",
     "output_type": "stream",
     "text": [
      "c:\\Users\\Kylan\\anaconda3\\envs\\blauwe_kater\\lib\\site-packages\\sklearn\\manifold\\_t_sne.py:800: FutureWarning:\n",
      "\n",
      "The default initialization in TSNE will change from 'random' to 'pca' in 1.2.\n",
      "\n",
      "c:\\Users\\Kylan\\anaconda3\\envs\\blauwe_kater\\lib\\site-packages\\sklearn\\manifold\\_t_sne.py:810: FutureWarning:\n",
      "\n",
      "The default learning rate in TSNE will change from 200.0 to 'auto' in 1.2.\n",
      "\n"
     ]
    },
    {
     "data": {
      "text/html": [
       "<div>\n",
       "<style scoped>\n",
       "    .dataframe tbody tr th:only-of-type {\n",
       "        vertical-align: middle;\n",
       "    }\n",
       "\n",
       "    .dataframe tbody tr th {\n",
       "        vertical-align: top;\n",
       "    }\n",
       "\n",
       "    .dataframe thead th {\n",
       "        text-align: right;\n",
       "    }\n",
       "</style>\n",
       "<table border=\"1\" class=\"dataframe\">\n",
       "  <thead>\n",
       "    <tr style=\"text-align: right;\">\n",
       "      <th></th>\n",
       "      <th>x</th>\n",
       "      <th>y</th>\n",
       "    </tr>\n",
       "  </thead>\n",
       "  <tbody>\n",
       "    <tr>\n",
       "      <th>Speech to the 113th VFW Convention</th>\n",
       "      <td>-11.412508</td>\n",
       "      <td>3.368794</td>\n",
       "    </tr>\n",
       "    <tr>\n",
       "      <th>113th Amendment 150-Year Anniversary Speech</th>\n",
       "      <td>-14.050243</td>\n",
       "      <td>-0.093267</td>\n",
       "    </tr>\n",
       "    <tr>\n",
       "      <th>Press Conference on 2010 Budget Sent to Congress</th>\n",
       "      <td>-5.768793</td>\n",
       "      <td>3.597100</td>\n",
       "    </tr>\n",
       "    <tr>\n",
       "      <th>Speech at the 58th National Prayer Breakfast</th>\n",
       "      <td>1.928741</td>\n",
       "      <td>7.717033</td>\n",
       "    </tr>\n",
       "    <tr>\n",
       "      <th>Speech at the 59th National Prayer Breakfast</th>\n",
       "      <td>-11.670857</td>\n",
       "      <td>0.811207</td>\n",
       "    </tr>\n",
       "  </tbody>\n",
       "</table>\n",
       "</div>"
      ],
      "text/plain": [
       "                                                          x         y\n",
       "Speech to the 113th VFW Convention               -11.412508  3.368794\n",
       "113th Amendment 150-Year Anniversary Speech      -14.050243 -0.093267\n",
       "Press Conference on 2010 Budget Sent to Congress  -5.768793  3.597100\n",
       "Speech at the 58th National Prayer Breakfast       1.928741  7.717033\n",
       "Speech at the 59th National Prayer Breakfast     -11.670857  0.811207"
      ]
     },
     "execution_count": 36,
     "metadata": {},
     "output_type": "execute_result"
    }
   ],
   "source": [
    "tsne=TSNE(n_components=2,random_state=47)\n",
    "X_tsne=tsne.fit_transform(X)\n",
    "df=pd.DataFrame(X_tsne,index=doc_tags,columns=['x','y'])\n",
    "df.head()\n",
    "#X2_tsne=tsne.fit_transform(X2)\n",
    "#df2=pd.DataFrame(X2_tsne,index=doc_tags[:-1],columns=['x','y'])"
   ]
  },
  {
   "cell_type": "code",
   "execution_count": 37,
   "metadata": {},
   "outputs": [
    {
     "data": {
      "text/html": [
       "<div>\n",
       "<style scoped>\n",
       "    .dataframe tbody tr th:only-of-type {\n",
       "        vertical-align: middle;\n",
       "    }\n",
       "\n",
       "    .dataframe tbody tr th {\n",
       "        vertical-align: top;\n",
       "    }\n",
       "\n",
       "    .dataframe thead th {\n",
       "        text-align: right;\n",
       "    }\n",
       "</style>\n",
       "<table border=\"1\" class=\"dataframe\">\n",
       "  <thead>\n",
       "    <tr style=\"text-align: right;\">\n",
       "      <th></th>\n",
       "      <th>x</th>\n",
       "      <th>y</th>\n",
       "      <th>Source</th>\n",
       "    </tr>\n",
       "  </thead>\n",
       "  <tbody>\n",
       "    <tr>\n",
       "      <th>Speech to the 113th VFW Convention</th>\n",
       "      <td>-11.412508</td>\n",
       "      <td>3.368794</td>\n",
       "      <td>Speech to the 113th VFW Convention</td>\n",
       "    </tr>\n",
       "    <tr>\n",
       "      <th>113th Amendment 150-Year Anniversary Speech</th>\n",
       "      <td>-14.050243</td>\n",
       "      <td>-0.093267</td>\n",
       "      <td>113th Amendment 150-Year Anniversary Speech</td>\n",
       "    </tr>\n",
       "    <tr>\n",
       "      <th>Press Conference on 2010 Budget Sent to Congress</th>\n",
       "      <td>-5.768793</td>\n",
       "      <td>3.597100</td>\n",
       "      <td>Press Conference on 2010 Budget Sent to Congress</td>\n",
       "    </tr>\n",
       "    <tr>\n",
       "      <th>Speech at the 58th National Prayer Breakfast</th>\n",
       "      <td>1.928741</td>\n",
       "      <td>7.717033</td>\n",
       "      <td>Speech at the 58th National Prayer Breakfast</td>\n",
       "    </tr>\n",
       "    <tr>\n",
       "      <th>Speech at the 59th National Prayer Breakfast</th>\n",
       "      <td>-11.670857</td>\n",
       "      <td>0.811207</td>\n",
       "      <td>Speech at the 59th National Prayer Breakfast</td>\n",
       "    </tr>\n",
       "  </tbody>\n",
       "</table>\n",
       "</div>"
      ],
      "text/plain": [
       "                                                          x         y  \\\n",
       "Speech to the 113th VFW Convention               -11.412508  3.368794   \n",
       "113th Amendment 150-Year Anniversary Speech      -14.050243 -0.093267   \n",
       "Press Conference on 2010 Budget Sent to Congress  -5.768793  3.597100   \n",
       "Speech at the 58th National Prayer Breakfast       1.928741  7.717033   \n",
       "Speech at the 59th National Prayer Breakfast     -11.670857  0.811207   \n",
       "\n",
       "                                                                                            Source  \n",
       "Speech to the 113th VFW Convention                              Speech to the 113th VFW Convention  \n",
       "113th Amendment 150-Year Anniversary Speech            113th Amendment 150-Year Anniversary Speech  \n",
       "Press Conference on 2010 Budget Sent to Congress  Press Conference on 2010 Budget Sent to Congress  \n",
       "Speech at the 58th National Prayer Breakfast          Speech at the 58th National Prayer Breakfast  \n",
       "Speech at the 59th National Prayer Breakfast          Speech at the 59th National Prayer Breakfast  "
      ]
     },
     "execution_count": 37,
     "metadata": {},
     "output_type": "execute_result"
    }
   ],
   "source": [
    "df['Source']=df.index\n",
    "df.head()"
   ]
  },
  {
   "cell_type": "code",
   "execution_count": 43,
   "metadata": {},
   "outputs": [
    {
     "data": {
      "application/vnd.plotly.v1+json": {
       "config": {
        "plotlyServerURL": "https://plot.ly"
       },
       "data": [
        {
         "hovertemplate": "<b>%{hovertext}</b><br><br>T-SNE Dimension 1=%{x}<br>T-SNE Dimension 2=%{y}<extra></extra>",
         "hovertext": [
          "Speech to the 113th VFW Convention",
          "113th Amendment 150-Year Anniversary Speech",
          "Press Conference on 2010 Budget Sent to Congress",
          "Speech at the 58th National Prayer Breakfast",
          "Speech at the 59th National Prayer Breakfast",
          "Announcement of 2012 Presidential Candidacy",
          "Speech at the 62nd National Prayer Breakfast",
          "Speech at the 63rd National Prayer Breakfast",
          "Speech at the 64th National Prayer Breakfast",
          "Remarks on the U.S. Presidential Election Outcome",
          "9/11 Memorial Address",
          "9/11 Pentagon Memorial Speech",
          "ASEAN Business and Investment Summit Address",
          "U.S-ASEAN Summit Press Conference",
          "First Address at the Central Intelligence Agency",
          "Post G7 Conference Presser",
          "Counter-ISIL Meeting Update Briefing",
          "On Force Authorization Request Against ISIL",
          "Update on Progress to Degrade and Destroy ISIL",
          "Young Leaders of the Americas Initiative Speech/Q&A",
          "Young Leaders Town Hall in Argentina",
          "Young Leaders Town Hall in Jamaica",
          "Young Leaders Town Hall Malaysia",
          "Young Leaders Town Hall Myanmar/Burma",
          "Young Leaders Town Hall in Vietnam",
          "Southeast Asian Youth Imitative Fellows Address",
          "National Jewish American Heritage Month Address",
          "On the USSC Ruling on the Affordable Care Act",
          "Affordable Care Act Changes Press Conference",
          "Affordable Care Act Website Issues Address",
          "Afghanistan Statement",
          "National Speech on Afghanistan War Troop Reduction",
          "National African-American History Museum Dedication",
          "Address to African Continent Representatives",
          "Address at White House Aging Conference",
          "To the American-Israel Public Affairs Committee",
          "U.S. Air Force Academy Commencement Address",
          "Remarks on the Tornado Devastation in Alabama",
          "On American Energy Security at Georgetown Univ.",
          "American Graduation Initiative Speech",
          "To the American Legion Conference in Minnesota",
          "American Medical Association Speech",
          "Address on the Passing of USSC Justice Antonin Scalia",
          "Arizona State University Commencement Address",
          "Remarks on the Tragedy in Aurora Colorado",
          "Auschwitz and Birkenau Remembrance Message",
          "Civil Rights Summit Keynote Speech",
          "Speech to the Australian Parliament",
          "Security Review Results and Aviation Security",
          "Back-to-School Speech to America's Schoolchildren",
          "Speech to Troops at Bagram Air Field",
          "Barnard College Commencement Speech",
          "Baton Rouge Flooding Press Statement",
          "Eulogy for Beau Biden III",
          "Rose Garden Address on Benghazi Attacks",
          "Benghazi Victims Transfer of Remains Speech",
          "Joint Press Conference with Benjamin Netanyahu",
          "Speech on Release of Official Certification of Birth",
          "Commencement Speech at Booker T. Washington HS",
          "Boston Interfaith Prayer Service Speech",
          "First Statement on Boston Marathon Bombings",
          "Second Statement on Boston Marathon Bombings",
          "Third Statement on Boston Marathon Bombings",
          "Oval Office Speech on BP Oil Spill Disaster",
          "BRAIN Initiative Announcement",
          "Brandenburg Gate Speech",
          "Speech to the British Parliament",
          "Brookings Institution Speech on Job Creation",
          "Brown Chapel Speech",
          "Speech at Buchenwald Concentration Camp",
          "Message to the People of Burundi",
          "\"New Beginning\" Speech at Cairo University",
          "Ending the Iraq War at Camp Lejeune Speech",
          "Cape Town University Speech",
          "Speech on the Economy at Carnegie Mellon",
          "Speech at Carnegie Mellon's Robotics Center",
          "Speech to the US Chamber of Commerce",
          "MLB World Series Champion Chicago Cubs WH Visit",
          "Speech in the Children's Memorial at Yad Vashem",
          "Speech on Latin American to the People of Chile",
          "Speech to Intelligence Community at CIA Headquarters",
          "Civil Society Forum Address in Panama",
          "Clean Power Plan Announcement",
          "Eulogy for Revered Clementa C. Pinckney",
          "Clinton Global Initiative Speech on Human Trafficking",
          "American's College Promise Address",
          "Comprehensive Immigration Reform Speech",
          "Congressional Black Caucus Awards Dinner Address",
          "COP21, Session 1 Address",
          "Counter ISIL Campaign Update",
          "On the Administration's Approach to Counterterrorism",
          "Address and Q&A at a Cuba Entrepreneurs Event",
          "Address to the People of Cuba",
          "Cuba Detente Policy Address",
          "Speech on Securing U.S. Cybersecurity Infrastructure",
          "Dallas Police Memorial Address",
          "Eulogy for Senator Daniel Inouye",
          "Speech Marking the 65th Anniversary of D-Day",
          "70th Anniversary of D-Day Address",
          "Statement on the Debt Compromise Agreement",
          "Statement on the Approved Debt Compromise",
          "Department of Defense Personnel Announcement",
          "Speech to the Nation on the Budget and Debt Ceiling",
          "NW Flight 253 Attempted Terrorist Attack Update",
          "First Meeting with President-Elect Donald Trump",
          "Eulogy for Dorothy Height",
          "Ebenezer Baptist Church Speech",
          "Speech on Ebola Response at the CDC",
          "Ebola Response Update Speech",
          "NIH Ebola Vaccine Research Address",
          "Speech on Economic Growth and Deficit Reduction",
          "Economic Recovery Advisory Board Announcement",
          "Economic Team Announcement Speech",
          "A New Foundation Speech at Georgetown",
          "Presser on Executive Action and Foreign Policy",
          "On the Political Transition in Egypt",
          "Address on the Historic Revolution in Egypt",
          "Speech Nominating Elena Kagan for USSC Justice",
          "U.S. Army Chaplain Emil Kapaun Medal of Honor Award",
          "Speech on Energy Security at Andrews Air Force Base",
          "Address to the People of Estonia",
          "Eulogy for Upper Big Branch Miners",
          "Eulogy for Ted Kennedy",
          "Speech to European Youth in Belgium",
          "Address in Hannover to the Peoples of Europe",
          "Every Child Succeeds Act Signing Address",
          "Executive Compensation Salary Cap Speech",
          "Presidential Farewell Address",
          "Farewell Remarks at Andrews to Staff and Supporters",
          "Farewell Address to the U.S. Armed Forces",
          "Father's Day Speech",
          "On Ferguson Grand Jury Decision",
          "On Iraq and Ferguson, Missouri Situation",
          "End of Year Press Conference",
          "Final First Term Press Conference",
          "Final Presidential Press Conference of Year",
          "Final Presidential Press Conference",
          "Final Presidential Weekly Address",
          "Speech on Financial Crisis Responsibility Fee",
          "First President-Elect Press Conference",
          "First Prime Time Press Conference",
          "Speech on Improving Fiscal Policy",
          "On NW Flight 253 Terrorist Threat and Iran Violence",
          "On the Downing of Malaysian Airlines Flight 17",
          "Flint, Michigan Community Speech",
          "On Foreign and Domestic Strategies Against Terrorism",
          "Fort Bonifacio Address",
          "Speech to Troops at Fort Campbell",
          "Fort Hood Memorial Service Speech",
          "Joint Press Conference with Francois Hollande",
          "Polish Freedom Day Anniversary Address",
          "Federal Trade Commission Address",
          "Press Conference Following G-20 Summit",
          "G-20 London Economic Summit Press Conference",
          "Speech on Repealing Oil and Gas Subsidies",
          "George Mason University Speech",
          "Ghanaian Parliament Address",
          "Medal of Honor Award to Salvatore Giunta Speech",
          "Global Climate Summit Prerecorded Speech",
          "Honoring Golden State Warriors 2015 NBA Champs",
          "GOP Issues Conference Forum Dialogue",
          "Government Shutdown Statement",
          "Grande Isle Briefing on Gulf Oil Spill Disaster",
          "Address to the People of Greece",
          "On Closing Guantanamo Bay Detention Facility",
          "Press Conference on Gulf Oil Spill Disaster",
          "On Signing Executive Actions to Reduce Gun Violence",
          "End Year Press Conference",
          "Speech Detailing Steps to Reduce Gun Violence",
          "Gun Violence Reduction Speech in Connecticut",
          "Gun Violence Reduction Speech in Colorado",
          "George W. Bush Presidential Library Dedication Speech",
          "Hankuk University Address",
          "Health Care Speech at George Mason University",
          "Speech on Signing Health Care Reform Bill into Law",
          "Vote Push on Heath Care Reform Legislation",
          "Town Hall at Green Valley High School",
          "Presidential Endorsement of Hillary Clinton",
          "Address at the Hiroshima Peace Memorial",
          "Speech to Hispanic Chamber of Commerce",
          "Holocaust Days of Remembrance Ceremony Speech",
          "On Hostages Warren Weinstein and Giovanni Lo Porto",
          "Hostage Policy Review Statement",
          "Speech to House Democratic Caucus on Health Care",
          "Address on Housing at Falls Church",
          "Howard University Commencement Address",
          "On Hurricane Sandy After Emergency Team Briefings",
          "Iftar Dinner Speech on Religious Tolerance",
          "Address to the Illinois General Assembly",
          "Immigration Reform and Border Security",
          "National Immigration Policy Address",
          "US Senate Call to Comprehensive Immigration Reform",
          "FIRST PRESIDENTIAL INAUGURAL ADDRESS",
          "Inaugural Luncheon Toast",
          "Speech to the People of India in New Delhi",
          "Indian Parliament Joint Session Speech",
          "Indonesia University Speech",
          "Intelligence Gathering Reform Press Conference",
          "Iowa Caucus Victory Speech",
          "Iran Accord Statement",
          "Iran Nuclear Deal Address at American University",
          "Post Iran Nuclear Accord Agreement Press Conference",
          "Statement on Iran Nuclear Agreement",
          "Iran Nuclear Accord Agreement Announcement",
          "On Iran and Netanyahu's Speech to Congress",
          "Speech on UN Security Council Sanctions Against Iran",
          "On Lifting Iran Sanctions and U.S. Detainee Releases",
          "On Air Strikes and Humanitarian Effort in Iraq",
          "Update on Air Strikes and Humanitarian Aid in Iraq",
          "Disabled Veterans Conference Speech on Iraq OPS",
          "Press Statement on the Economy, Iraq, and Ukraine",
          "Policy Speech on Iraq at the Woodrow Wilson Center",
          "Federal Plaza Address Opposing the War in Iraq",
          "Iraq War Veterans and Families Gala Toast",
          "Remarks on IG Audit of the IRS",
          "Post Security Council Pentagon Press Conference",
          "Pentagon Address on Defeating the Islamic State",
          "Speech to the Nation on ISIL",
          "Islamic Society of Baltimore Speech",
          "Speech at the Jefferson-Jackson Dinner",
          "Rosa Parks Statue Dedication Speech",
          "Presser on Congressional Action to Promote Job Growth",
          "Unannounced Briefing on Health Care and Jobs",
          "Joe Biden Medal of Freedom Presentation Address",
          "Joint Press Remarks with Benjamin Netanyahu",
          "Joint Presser with Toomas Ilves",
          "State of the Nation Address to Congress Speech",
          "Joint Session of Congress Heath Care Speech",
          "Joint Session of Congress Speech on Economy and Jobs",
          "Speech at the Memorial for Joplin Tornado Victims",
          "Kalamazoo Central H.S. Commencement Speech",
          "On Hurricane Katrina & 10-Year Aftermath",
          "Kennedy Center Honors Reception Address",
          "Kennedy Center Honorees Address",
          "Kenya Civil Society Meeting",
          "Address to the People of Kenya",
          "Knox College Speech on the Economy",
          "Korean War Armistice Signing 60th Anniversary Speech",
          "Address to the People of Laos",
          "'Let Freedom Ring' Ceremony Speech",
          "Address on the Violence in Libya",
          "On Odyssey Dawn Limited Military Action in Libya",
          "Speech to the American People on Libya",
          "Statement on Libya",
          "Abraham Lincoln D.C. Bicentennial Celebration Speech",
          "Lincoln Association 102nd Birthday Banquet Speech",
          "Young Leaders Town Hall in the United Kingdom",
          "Lorain County Town Hall Speech and Q&A",
          "Loretta Lynch Investiture Ceremony Address",
          "Malaysia Press Conference",
          "Management and Budget Office Announcement",
          "On the Passing of Nelson \"Madiba\" Mandela",
          "Gen. Martin Dempsey Retirement Ceremony Address",
          "U.S. Conference of Mayors Address",
          "On the Removal of Gen. McChrystal in Afghanistan",
          "Merrick Garland USSC Nomination Address",
          "Speech to the People of Mexico",
          "Commencement Speech at Miami Dade College",
          "Fourth Presidential State of the Union Speech",
          "On American Diplomacy in the Middle East",
          "Midterm Election Press Conference",
          "Midterm Elections Press Conference",
          "Speech on Military Defense Strategic Review",
          "Intelligence Community Leadership Team",
          "Speech at the MLK Memorial Dedication",
          "Martin Luther King Remembrance Speech",
          "Morehouse College Commencement Address",
          "U.S.-Indian Business Summit Address",
          "NAACP Convention Address",
          "NASA Space Exploration in the 21st Century Speech",
          "National Security Speech at the National Archives",
          "Address to the People of Vietnam",
          "Address at the National Counterterrorism Center",
          "National Defense University Speech on Terrorism",
          "U.S. Holocaust Memorial Museum Address",
          "National Wireless Initiative Address",
          "Naturalization Ceremony Speech at the Natl. Archives",
          "U.S. Naval Academy Commencement Address",
          "Navy Yard Shooting Memorial Speech",
          "National Cybersecurity Communication Center Speech",
          "Address at the Public Memorial for Nelson Mandela",
          "Moscow New Economic School Speech",
          "New Hampshire Primary Concession Speech",
          "On the Sandy Hook Elementary School Shootings",
          "Newtown, Connecticut Interfaith Vigil Speech",
          "On the Explosions in New York and New Jersey",
          "Nobel Prize for Peace Speech and Lecture",
          "Blueprint for Reforming No Child Left Behind Act",
          "Northern Ireland Speech",
          "Notre Dame University Commencement Speech",
          "Nuclear Security Summit Press Conference",
          "Speech to the American Nurses Association",
          "Address to the Community of Orlando, Florida",
          "Statement on the Shootings in Orlando, Florida",
          "Speech Announcing the Death of Osama Bin Laden",
          "Speech on the Economy at Osawatomie High School",
          "Press Conference Following Summit of the Americas",
          "Statement on Paris Climate Agreement",
          "Paris Press Conference",
          "Statement on the Paris Terrorist Attacks",
          "Speech to the Parliament of Canada",
          "Speech on House Passage of Health Care Reform Bill",
          "Address at Pearl Harbor",
          "Speech to Military Personnel in Pensacola",
          "Press Conference in Peru",
          "Joint Presser with Japan Prime Minister Shinzo Abe",
          "Pope Francis White House Welcome Address",
          "Post ASEAN Press Conference",
          "Post Election Speech on Deficit Reduction and Jobs",
          "Post Presidential Election Press Conference",
          "Press Conference Following 2016 NATO Summit",
          "Speech at Hradcany Square in Prague",
          "Lincoln Memorial Pre-Inauguration Speech",
          "Press Conference on Affordable Care Act and Ukraine",
          "Presser on Education Secretary Change",
          "Third Prime Time Press Conference (Iran & Heath Care)",
          "Remarks After Meeting with Economic Team",
          "First Presser Following Presidential Reelection",
          "Speech on the Death of Muammar Qaddafi",
          "Queensland University Address",
          "Joint Press Conference with President Raul Castro",
          "Recovery and Reinvestment Act Seventh Anniversary",
          "On Hurricane Sandy at the American Red Cross",
          "Cooper Union Speech on Wall Street Financial Reform",
          "Righteous Among Nations Award Ceremony Address",
          "Speech to the People of Rio de Janeiro",
          "Eulogy for Robert Byrd",
          "Newport News Speech on the Impact of the Sequester",
          "SSG Ryan Pitts Medal of Honor Ceremony Speech",
          "On Affordable Care Act and Domestic Surveillance",
          "SECOND PRESIDENTIAL INAUGURAL ADDRESS",
          "Second Presidential Election Victory Speech",
          "Commerce Secretary Announcement",
          "National Security Review Press Conference",
          "Security Team Announcement Speech",
          "Selma March 50-Year Anniversary Address",
          "Senate Speech on Comprehensive Immigration Reform",
          "Senate Speech on Iraq War After 4 Years",
          "Senate Speech on the PATRIOT Act",
          "On Senate Vote Against Background Checks",
          "Senate Speech on Iraq Federalism Amendment",
          "Senate Speech on Wall Street Bailout Bill",
          "Senate Speech Honoring the Life of Coretta Scott King",
          "Senate Speech on Ohio Electoral Vote",
          "Senate Speech on Voting Rights Act Renewal",
          "Senate Speech Honoring the Life of Rosa Parks",
          "On Strengthening the Economy for the Middle Class",
          "Town Hall Address in Shanghai",
          "Shimon Peres Presidential Medal of Freedom Award",
          "Shimon Peres Memorial Service Address",
          "Press Conference with Prime Minister Shinzo Abe",
          "On Proposed Changes to US Intelligence Programs",
          "On the Charleston Emanuel AME Church Shooting",
          "South Carolina Primary Victory Speech",
          "Stanford University Cybersecurity Summit Address",
          "START Treaty Joint Presser with Medvedev",
          "Statement on Afghanistan",
          "Speech at Strasbourg Town Hall",
          "Student Aid Bill of Rights Announcement",
          "Summit of the Americas First Plenary Session",
          "Nomination of Regina Benjamin for Surgeon General",
          "Joint Press Conference with Daw Aung San Suu Kyi",
          "On Syrian Government Use of Chemical Weapons",
          "Speech to the Nation on Syria",
          "Edward M. Kennedy Institute Dedication Speech",
          "Transpacific Trade Pact Speech at Nike HQ",
          "Speech on Trayvon Martin",
          "Speech to the Tribal Nations Conference",
          "Speech to U.S. Military in Afghanistan",
          "Tucson Memorial Service Speech",
          "G-20 Press Conference in Antalya, Turkey",
          "Speech to the Turkish Parliament",
          "On Umpqua Community College Mass Shooting",
          "United Nations 64th Session General Assembly Speech",
          "United Nations 65th Session General Assembly Speech",
          "United Nations 66th Session General Assembly Speech",
          "United Nations 67th Session General Assembly Speech",
          "United Nations 68th Session General Assembly Speech",
          "United Nations 69th Session General Assembly Speech",
          "United Nations 70th Session General Assembly Speech",
          "United Nations 71st Session General Assembly Speech",
          "UN Copenhagen Climate Change Conference Speech",
          "United Nations Meeting on Ebola Speech",
          "United Nations Security Council Remarks",
          "United State of Women White House Summit Address",
          "Commencement Speech at Michigan University",
          "Speech on High-Level UNGA Meeting on Libya",
          "On the Dignity & Courage of the Iranian Peoples",
          "Urban League Centennial Address on Education",
          "Conversation at the University. of Chicago Law School",
          "On the US Supreme Court Affordable Care Act Ruling",
          "Remarks on USSC Ruling in U.S. vs. Texas",
          "On Misconduct Allegations at the VA",
          "Presser on VA Department Misconduct",
          "Veterans Day Address",
          "Address on Veterans Jobs Corps",
          "Address on Entrepreneurship at Dreamplex in Vietnam",
          "Countering Violent Religious Extremism Summit",
          "Dodd-Frank Consumer Protection Act Speech",
          "Eulogy for Walter Cronkite",
          "Weekly Address on Making Children's Safety",
          "First Presidential Weekly Speech",
          "Weekly Address Honoring Military Servicemembers",
          "Weekly Address - A New Chapter with Cuba",
          "West Fertilizer Plant Tragedy Memorial Speech",
          "Afghanistan Troop Surge at the U.S. Military Academy",
          "U.S. Military Academy Commencement Address",
          "White House Correspondents Dinner Speech",
          "Worldwide Troop Talk at Fort Meade",
          "On Justice Stevens and West Virginia Mining Tragedy",
          "Joint Press Conference with President Xi Jinping",
          "Yangon University Address",
          "Speech On Signing Executive Order 13681 at the CFPB"
         ],
         "legendgroup": "",
         "marker": {
          "color": "#636efa",
          "symbol": "circle"
         },
         "mode": "markers",
         "name": "",
         "orientation": "v",
         "showlegend": false,
         "type": "scatter",
         "x": [
          -11.412508010864258,
          -14.050243377685547,
          -5.768792629241943,
          1.928741455078125,
          -11.670857429504395,
          39.97789764404297,
          -8.124610900878906,
          -19.47759246826172,
          -14.795930862426758,
          33.063045501708984,
          23.11505889892578,
          17.834440231323242,
          -18.78799819946289,
          -4.737105846405029,
          16.74680519104004,
          1.8640319108963013,
          -8.496684074401855,
          29.31723976135254,
          -9.022706031799316,
          -7.171046257019043,
          -11.100869178771973,
          21.23914337158203,
          -20.40214729309082,
          3.035881996154785,
          6.057987213134766,
          -1.9268553256988525,
          -15.4122314453125,
          22.691972732543945,
          11.740690231323242,
          -6.725693702697754,
          -1.2841331958770752,
          9.95433235168457,
          -18.82185173034668,
          -26.501644134521484,
          0.36780017614364624,
          -13.701282501220703,
          -28.033987045288086,
          37.6327018737793,
          -31.57504653930664,
          -25.450918197631836,
          -16.176225662231445,
          -30.545516967773438,
          28.441417694091797,
          -30.093856811523438,
          33.92184066772461,
          35.06987762451172,
          -14.673868179321289,
          -18.31787872314453,
          -13.984650611877441,
          -7.724416255950928,
          -2.848224639892578,
          -25.20240020751953,
          16.402729034423828,
          -21.30027961730957,
          29.71759796142578,
          32.93761444091797,
          31.356201171875,
          37.87129592895508,
          -7.705167770385742,
          8.299447059631348,
          37.30698776245117,
          34.00128936767578,
          21.708126068115234,
          -5.4868597984313965,
          -6.217648029327393,
          -15.909082412719727,
          -24.93643569946289,
          -25.41771697998047,
          -11.80025577545166,
          -2.1830482482910156,
          38.630245208740234,
          -31.52845001220703,
          -15.478297233581543,
          -26.415876388549805,
          -18.734071731567383,
          -29.61892318725586,
          -29.39194679260254,
          -29.39038848876953,
          23.493480682373047,
          -23.84063720703125,
          17.760080337524414,
          13.708537101745605,
          -19.93408203125,
          -26.226152420043945,
          -12.569687843322754,
          -27.344173431396484,
          -30.267772674560547,
          -27.680849075317383,
          17.767765045166016,
          4.08237886428833,
          -25.120067596435547,
          2.926140546798706,
          -13.758931159973145,
          -7.096577167510986,
          -15.322152137756348,
          -28.9489803314209,
          3.7795209884643555,
          -5.796816349029541,
          -14.970088005065918,
          34.908966064453125,
          27.685075759887695,
          -14.500816345214844,
          -13.996573448181152,
          30.44745445251465,
          38.97278594970703,
          -19.896709442138672,
          -17.957414627075195,
          6.036684513092041,
          33.03662872314453,
          -26.791244506835938,
          -17.00564193725586,
          25.23514747619629,
          -11.704510688781738,
          -27.964527130126953,
          11.224387168884277,
          33.904239654541016,
          26.118389129638672,
          -8.45116138458252,
          -31.37518310546875,
          -14.162956237792969,
          -16.376916885375977,
          -20.771299362182617,
          -12.63058090209961,
          -24.814977645874023,
          -20.41903305053711,
          1.2964903116226196,
          17.963409423828125,
          -23.28029441833496,
          35.712345123291016,
          1.4271918535232544,
          -5.700128078460693,
          26.336313247680664,
          11.236201286315918,
          -14.334887504577637,
          11.00912857055664,
          25.00600814819336,
          35.56293487548828,
          35.0860481262207,
          -1.85941743850708,
          18.81073760986328,
          26.64208984375,
          -20.447307586669922,
          20.487014770507812,
          2.7563185691833496,
          -28.659406661987305,
          6.2404022216796875,
          3.296706438064575,
          -3.6695852279663086,
          -0.677287757396698,
          11.175562858581543,
          -2.8341362476348877,
          -13.219956398010254,
          16.785581588745117,
          5.186262130737305,
          20.663204193115234,
          -1.5954526662826538,
          -19.428287506103516,
          -26.941030502319336,
          26.729814529418945,
          12.12973690032959,
          0.9058906435966492,
          -12.26894760131836,
          -1.6065346002578735,
          -23.951000213623047,
          4.030477523803711,
          -5.066132068634033,
          -8.171177864074707,
          11.65571117401123,
          -31.480531692504883,
          -2.979417324066162,
          -7.5581374168396,
          20.15944480895996,
          -20.815311431884766,
          -1.97294020652771,
          21.996768951416016,
          1.333254337310791,
          -17.751710891723633,
          39.14371871948242,
          -0.9744196534156799,
          -24.2706241607666,
          -6.9076762199401855,
          26.026540756225586,
          2.626890182495117,
          -3.7358388900756836,
          -20.696653366088867,
          -26.857248306274414,
          32.475616455078125,
          20.88088607788086,
          -28.580835342407227,
          12.296551704406738,
          -6.705859661102295,
          1.9807837009429932,
          -20.194780349731445,
          39.39867401123047,
          -19.779836654663086,
          -18.22751235961914,
          -25.199522018432617,
          20.085676193237305,
          29.302448272705078,
          29.54646873474121,
          -29.709793090820312,
          33.43717575073242,
          -6.715226173400879,
          -0.2530037462711334,
          31.795982360839844,
          20.42391586303711,
          -9.364360809326172,
          10.144956588745117,
          32.86884307861328,
          -27.13741683959961,
          34.44999313354492,
          -25.614761352539062,
          16.31130599975586,
          22.721126556396484,
          34.05712890625,
          -12.873557090759277,
          -14.765743255615234,
          9.423596382141113,
          -20.889921188354492,
          27.89390754699707,
          -28.247915267944336,
          30.625349044799805,
          9.917561531066895,
          -6.98151969909668,
          35.97647476196289,
          -3.3628644943237305,
          -17.840871810913086,
          -23.9747371673584,
          -26.139341354370117,
          6.505934238433838,
          -22.955106735229492,
          -28.654478073120117,
          -19.31951141357422,
          -25.384973526000977,
          24.385774612426758,
          -27.159345626831055,
          -29.305082321166992,
          -25.43783187866211,
          -16.503421783447266,
          -19.50887107849121,
          33.86071014404297,
          38.574378967285156,
          -18.02081871032715,
          19.770315170288086,
          30.53700828552246,
          -12.924589157104492,
          14.89820384979248,
          -4.116079330444336,
          14.993898391723633,
          10.078264236450195,
          12.790461540222168,
          36.040794372558594,
          10.812883377075195,
          -28.49623680114746,
          10.579195976257324,
          -28.692092895507812,
          -18.202444076538086,
          -14.536898612976074,
          -0.5813090801239014,
          -25.799972534179688,
          22.53495979309082,
          27.159931182861328,
          26.482654571533203,
          2.7299723625183105,
          -4.585694789886475,
          -30.102344512939453,
          -13.807751655578613,
          2.9004080295562744,
          -30.01807975769043,
          -28.839832305908203,
          -30.585975646972656,
          -16.10041618347168,
          16.787532806396484,
          -31.690221786499023,
          -12.518051147460938,
          -30.683576583862305,
          -17.15594482421875,
          -15.828818321228027,
          -7.736034393310547,
          16.1715145111084,
          -6.661887168884277,
          -13.625489234924316,
          29.269367218017578,
          38.07329177856445,
          22.733699798583984,
          25.609344482421875,
          -25.814863204956055,
          12.836505889892578,
          -27.114608764648438,
          -24.584373474121094,
          -2.141073703765869,
          -25.56493377685547,
          11.80235481262207,
          30.036251068115234,
          10.031932830810547,
          -28.389726638793945,
          32.66903305053711,
          20.56413459777832,
          23.230915069580078,
          36.22343063354492,
          -25.655399322509766,
          27.664453506469727,
          -6.022523880004883,
          1.616234302520752,
          9.41388988494873,
          16.53290557861328,
          22.23159408569336,
          21.370447158813477,
          35.319149017333984,
          14.297160148620605,
          0.010988697409629822,
          -8.122264862060547,
          36.33396530151367,
          28.496479034423828,
          17.437162399291992,
          15.557711601257324,
          28.1451416015625,
          37.84212875366211,
          32.054405212402344,
          -19.23606300354004,
          -14.765873908996582,
          -24.789104461669922,
          -4.101435661315918,
          -24.265216827392578,
          -2.5630040168762207,
          4.819479465484619,
          1.2187288999557495,
          -5.497809410095215,
          -12.819708824157715,
          11.096046447753906,
          10.817669868469238,
          23.101764678955078,
          20.888975143432617,
          0.9209061861038208,
          -0.03504471108317375,
          -18.733247756958008,
          1.4994064569473267,
          19.788801193237305,
          18.7945613861084,
          -2.1700422763824463,
          11.311569213867188,
          -2.4782729148864746,
          31.94046401977539,
          35.95658874511719,
          -13.250345230102539,
          -7.883119583129883,
          -18.508739471435547,
          12.905901908874512,
          14.39006233215332,
          -4.350020885467529,
          38.7236213684082,
          -29.78586196899414,
          18.536298751831055,
          13.383284568786621,
          -24.65639305114746,
          1.9508610963821411,
          23.84282684326172,
          -1.3958640098571777,
          -22.614604949951172,
          11.078303337097168,
          4.644898414611816,
          21.802066802978516,
          0.49999213218688965,
          -1.4532204866409302,
          -24.70069694519043,
          -29.044668197631836,
          -1.7079721689224243,
          12.396775245666504,
          1.7358728647232056,
          -16.950927734375,
          13.789135932922363,
          -12.395594596862793,
          17.33784294128418,
          -27.427743911743164,
          -13.939255714416504,
          -30.981395721435547,
          -16.261138916015625,
          -26.281660079956055,
          -25.359535217285156,
          -25.75875473022461,
          -29.16135025024414,
          12.927276611328125,
          2.3792693614959717,
          28.36831283569336,
          -27.68231773376465,
          -24.516902923583984,
          19.21244239807129,
          34.558555603027344,
          -28.757343292236328,
          35.22404861450195,
          30.18071174621582,
          4.293231010437012,
          12.292645454406738,
          18.404558181762695,
          17.12652587890625,
          -3.0300374031066895,
          21.800683975219727,
          -18.514793395996094,
          -5.762073040008545,
          -0.04529046639800072,
          35.387062072753906,
          22.207252502441406,
          38.49055862426758,
          37.898258209228516,
          16.74156379699707,
          -17.17593765258789,
          -30.369400024414062,
          -32.141387939453125,
          38.13029479980469,
          21.57482147216797,
          -7.456747055053711,
          -16.48017692565918,
          1.4781975746154785
         ],
         "xaxis": "x",
         "y": [
          3.3687942028045654,
          -0.09326671063899994,
          3.5971004962921143,
          7.717033386230469,
          0.8112072944641113,
          -4.0605010986328125,
          1.8694260120391846,
          -5.349660873413086,
          -1.5667188167572021,
          0.320144921541214,
          3.123525381088257,
          5.772196292877197,
          -9.476895332336426,
          6.743357181549072,
          8.68953800201416,
          5.234135627746582,
          5.989123344421387,
          3.471221685409546,
          -0.22958782315254211,
          5.83642053604126,
          1.594723105430603,
          7.090386390686035,
          -3.2159433364868164,
          6.9230427742004395,
          6.899036884307861,
          9.548256874084473,
          0.2711937129497528,
          7.114843845367432,
          6.3983330726623535,
          4.379037380218506,
          3.2599027156829834,
          9.5910005569458,
          -8.349154472351074,
          -15.256916999816895,
          8.356159210205078,
          -2.1287500858306885,
          -17.592422485351562,
          -2.717684268951416,
          -20.053176879882812,
          -11.72402286529541,
          -4.548931121826172,
          -19.711200714111328,
          2.8533263206481934,
          -16.529041290283203,
          -2.0542876720428467,
          -0.5758892893791199,
          -0.763128936290741,
          -9.212915420532227,
          -4.631411552429199,
          8.584659576416016,
          5.629390239715576,
          -9.576151847839355,
          10.896523475646973,
          -3.6987810134887695,
          4.242446422576904,
          -0.08663033694028854,
          1.8725831508636475,
          -4.197295188903809,
          8.506257057189941,
          9.155831336975098,
          -2.8644344806671143,
          1.436235785484314,
          4.720634937286377,
          2.662853240966797,
          2.824970006942749,
          -0.6963139176368713,
          -12.253863334655762,
          -13.5008544921875,
          -2.804811477661133,
          6.690598487854004,
          -4.044713020324707,
          -19.773725509643555,
          2.4065229892730713,
          -13.470551490783691,
          -3.2523269653320312,
          -15.670729637145996,
          -13.079237937927246,
          -17.288856506347656,
          3.4065041542053223,
          -15.690467834472656,
          10.200811386108398,
          7.389863967895508,
          -3.6690194606781006,
          -17.132461547851562,
          0.39405691623687744,
          -12.81458854675293,
          -20.114809036254883,
          -10.363468170166016,
          6.808352470397949,
          7.132307529449463,
          -16.16396713256836,
          9.081396102905273,
          -1.1009215116500854,
          3.1576921939849854,
          -1.7886885404586792,
          -16.119253158569336,
          9.381314277648926,
          2.180649518966675,
          -1.3105705976486206,
          -0.8928132057189941,
          1.749593734741211,
          2.6910345554351807,
          0.6946142911911011,
          2.601954460144043,
          -3.3513145446777344,
          -2.6361453533172607,
          -0.19369998574256897,
          8.403249740600586,
          -2.136113405227661,
          -12.659431457519531,
          -1.5889127254486084,
          4.425000190734863,
          1.1156930923461914,
          -17.04639434814453,
          7.293159008026123,
          0.7200636863708496,
          4.15697717666626,
          -0.17618101835250854,
          -20.118253707885742,
          2.7084872722625732,
          -5.980151653289795,
          -3.7978250980377197,
          1.4681447744369507,
          -12.829323768615723,
          -4.818562030792236,
          8.139447212219238,
          7.841702938079834,
          -11.157987594604492,
          -1.8376567363739014,
          3.432480573654175,
          6.677572727203369,
          4.509434700012207,
          9.863382339477539,
          -1.0440627336502075,
          10.34162712097168,
          5.0695576667785645,
          -2.6200990676879883,
          -1.7287852764129639,
          4.583422660827637,
          6.102917194366455,
          3.9398818016052246,
          -9.759153366088867,
          4.059086322784424,
          8.341424942016602,
          -10.983217239379883,
          9.01303482055664,
          5.946269989013672,
          5.2995829582214355,
          5.68755578994751,
          10.534119606018066,
          6.6589789390563965,
          2.5136337280273438,
          6.508592128753662,
          8.449447631835938,
          8.921769142150879,
          3.043057918548584,
          -4.357102394104004,
          -16.75666618347168,
          2.8032479286193848,
          8.409781455993652,
          9.58763313293457,
          2.5932371616363525,
          10.100354194641113,
          -13.499180793762207,
          8.013145446777344,
          3.2258448600769043,
          2.991420269012451,
          7.105304718017578,
          -19.182476043701172,
          10.055168151855469,
          7.081528186798096,
          4.93166446685791,
          -2.988154649734497,
          10.197065353393555,
          7.038921356201172,
          7.541158676147461,
          -3.286463975906372,
          -4.01571798324585,
          3.3998055458068848,
          -12.329229354858398,
          5.192403793334961,
          3.616914749145508,
          7.944434642791748,
          9.154376029968262,
          -2.636871099472046,
          -15.919086456298828,
          0.7359133362770081,
          7.4466142654418945,
          -19.090200424194336,
          10.66808795928955,
          6.083705902099609,
          6.290684223175049,
          -2.65032696723938,
          -3.2001469135284424,
          -9.714056015014648,
          -9.006265640258789,
          -12.706649780273438,
          4.316410541534424,
          5.408400535583496,
          2.351508140563965,
          -20.42868995666504,
          0.880800187587738,
          0.3839443624019623,
          2.3730432987213135,
          2.3367021083831787,
          2.9583487510681152,
          -0.503229558467865,
          7.503803730010986,
          1.4157891273498535,
          -17.471406936645508,
          0.014185376465320587,
          -18.551952362060547,
          7.579033851623535,
          6.327169418334961,
          -1.1421624422073364,
          0.30018696188926697,
          -3.0511224269866943,
          7.661523342132568,
          -4.715646266937256,
          3.3800928592681885,
          -16.041688919067383,
          1.1999261379241943,
          9.053789138793945,
          2.43815279006958,
          -0.08704017102718353,
          7.660580158233643,
          -8.624436378479004,
          -11.490494728088379,
          -12.024643898010254,
          7.1968231201171875,
          -3.445385217666626,
          -14.966145515441895,
          -4.264249801635742,
          -14.640543937683105,
          6.777135372161865,
          -11.552213668823242,
          -16.33057403564453,
          -10.526294708251953,
          -6.376834392547607,
          -8.182825088500977,
          -0.34959444403648376,
          -3.367603063583374,
          -8.388603210449219,
          5.22435998916626,
          1.6785167455673218,
          2.2349066734313965,
          6.867231845855713,
          5.1410627365112305,
          8.556207656860352,
          11.269548416137695,
          9.954513549804688,
          -1.4220919609069824,
          8.323522567749023,
          -11.62918472290039,
          7.205530643463135,
          -19.6215763092041,
          -2.6939611434936523,
          0.4038781523704529,
          9.251463890075684,
          -17.68976402282715,
          7.437893390655518,
          3.5538206100463867,
          4.699369430541992,
          4.508508205413818,
          2.1844003200531006,
          -16.480859756469727,
          -2.8770174980163574,
          5.405206203460693,
          -17.581405639648438,
          -17.110393524169922,
          -20.583576202392578,
          -1.8135511875152588,
          8.134101867675781,
          -21.222604751586914,
          -0.01598919928073883,
          -18.11821746826172,
          -1.0090161561965942,
          -3.689528703689575,
          3.606135129928589,
          8.354700088500977,
          3.085667848587036,
          -4.019119739532471,
          4.718217849731445,
          -3.5805490016937256,
          8.36624526977539,
          4.993983268737793,
          -18.538410186767578,
          10.834307670593262,
          -11.986268043518066,
          -11.720820426940918,
          7.910200595855713,
          -10.84985065460205,
          9.323004722595215,
          1.7849258184432983,
          10.812051773071289,
          -16.418123245239258,
          -0.07703011482954025,
          5.8156633377075195,
          6.987781047821045,
          -2.053454875946045,
          -16.51959800720215,
          2.913217544555664,
          1.4387414455413818,
          2.7153866291046143,
          11.24646282196045,
          9.40096378326416,
          5.520815849304199,
          4.044610500335693,
          -1.3437873125076294,
          7.5417609214782715,
          8.968050956726074,
          -0.2892149090766907,
          -0.9103239178657532,
          4.0216193199157715,
          8.181745529174805,
          8.080215454101562,
          4.943759918212891,
          -3.35545015335083,
          1.424812912940979,
          -3.554011106491089,
          0.41307687759399414,
          -9.885045051574707,
          6.9193196296691895,
          -10.785942077636719,
          4.243505001068115,
          6.104519367218018,
          5.925234794616699,
          4.962466239929199,
          1.2036752700805664,
          8.505964279174805,
          9.377419471740723,
          5.771605968475342,
          4.144866466522217,
          4.897467136383057,
          5.910686016082764,
          -3.7697041034698486,
          4.7125701904296875,
          6.848711013793945,
          8.450827598571777,
          7.60251522064209,
          11.559186935424805,
          7.148217678070068,
          0.2829210162162781,
          -0.8956173658370972,
          -1.7805821895599365,
          4.447360038757324,
          -0.8251581192016602,
          10.893150329589844,
          8.67223072052002,
          3.3366875648498535,
          -2.369014024734497,
          -19.213579177856445,
          7.091458320617676,
          6.221560478210449,
          -10.62968921661377,
          5.002020359039307,
          6.387882232666016,
          4.963106632232666,
          -3.532104730606079,
          11.708243370056152,
          8.759713172912598,
          8.571880340576172,
          9.019797325134277,
          4.038022518157959,
          -11.324758529663086,
          -14.555545806884766,
          8.604837417602539,
          7.593439102172852,
          10.469785690307617,
          -2.4090352058410645,
          9.789674758911133,
          -1.268051266670227,
          9.98696517944336,
          -13.083721160888672,
          -3.8362467288970947,
          -18.876663208007812,
          -6.7323899269104,
          -19.293615341186523,
          -16.16157341003418,
          -10.450567245483398,
          -19.03799819946289,
          7.750737190246582,
          9.151115417480469,
          4.498865127563477,
          -13.781933784484863,
          -13.72602367401123,
          5.914703369140625,
          -1.041725993156433,
          -11.615386962890625,
          -2.747730255126953,
          2.275226354598999,
          5.9991230964660645,
          11.7018404006958,
          5.163119316101074,
          7.887409210205078,
          7.510275363922119,
          6.66844367980957,
          -5.008439540863037,
          6.096651554107666,
          3.635927200317383,
          -0.43668797612190247,
          8.016691207885742,
          -2.1421291828155518,
          -2.061579465866089,
          10.959582328796387,
          -7.691481590270996,
          -20.68053436279297,
          -21.467134475708008,
          -2.7588133811950684,
          5.89677619934082,
          5.41939640045166,
          -2.2942678928375244,
          9.431838989257812
         ],
         "yaxis": "y"
        }
       ],
       "layout": {
        "legend": {
         "tracegroupgap": 0
        },
        "template": {
         "data": {
          "bar": [
           {
            "error_x": {
             "color": "#2a3f5f"
            },
            "error_y": {
             "color": "#2a3f5f"
            },
            "marker": {
             "line": {
              "color": "#E5ECF6",
              "width": 0.5
             },
             "pattern": {
              "fillmode": "overlay",
              "size": 10,
              "solidity": 0.2
             }
            },
            "type": "bar"
           }
          ],
          "barpolar": [
           {
            "marker": {
             "line": {
              "color": "#E5ECF6",
              "width": 0.5
             },
             "pattern": {
              "fillmode": "overlay",
              "size": 10,
              "solidity": 0.2
             }
            },
            "type": "barpolar"
           }
          ],
          "carpet": [
           {
            "aaxis": {
             "endlinecolor": "#2a3f5f",
             "gridcolor": "white",
             "linecolor": "white",
             "minorgridcolor": "white",
             "startlinecolor": "#2a3f5f"
            },
            "baxis": {
             "endlinecolor": "#2a3f5f",
             "gridcolor": "white",
             "linecolor": "white",
             "minorgridcolor": "white",
             "startlinecolor": "#2a3f5f"
            },
            "type": "carpet"
           }
          ],
          "choropleth": [
           {
            "colorbar": {
             "outlinewidth": 0,
             "ticks": ""
            },
            "type": "choropleth"
           }
          ],
          "contour": [
           {
            "colorbar": {
             "outlinewidth": 0,
             "ticks": ""
            },
            "colorscale": [
             [
              0,
              "#0d0887"
             ],
             [
              0.1111111111111111,
              "#46039f"
             ],
             [
              0.2222222222222222,
              "#7201a8"
             ],
             [
              0.3333333333333333,
              "#9c179e"
             ],
             [
              0.4444444444444444,
              "#bd3786"
             ],
             [
              0.5555555555555556,
              "#d8576b"
             ],
             [
              0.6666666666666666,
              "#ed7953"
             ],
             [
              0.7777777777777778,
              "#fb9f3a"
             ],
             [
              0.8888888888888888,
              "#fdca26"
             ],
             [
              1,
              "#f0f921"
             ]
            ],
            "type": "contour"
           }
          ],
          "contourcarpet": [
           {
            "colorbar": {
             "outlinewidth": 0,
             "ticks": ""
            },
            "type": "contourcarpet"
           }
          ],
          "heatmap": [
           {
            "colorbar": {
             "outlinewidth": 0,
             "ticks": ""
            },
            "colorscale": [
             [
              0,
              "#0d0887"
             ],
             [
              0.1111111111111111,
              "#46039f"
             ],
             [
              0.2222222222222222,
              "#7201a8"
             ],
             [
              0.3333333333333333,
              "#9c179e"
             ],
             [
              0.4444444444444444,
              "#bd3786"
             ],
             [
              0.5555555555555556,
              "#d8576b"
             ],
             [
              0.6666666666666666,
              "#ed7953"
             ],
             [
              0.7777777777777778,
              "#fb9f3a"
             ],
             [
              0.8888888888888888,
              "#fdca26"
             ],
             [
              1,
              "#f0f921"
             ]
            ],
            "type": "heatmap"
           }
          ],
          "heatmapgl": [
           {
            "colorbar": {
             "outlinewidth": 0,
             "ticks": ""
            },
            "colorscale": [
             [
              0,
              "#0d0887"
             ],
             [
              0.1111111111111111,
              "#46039f"
             ],
             [
              0.2222222222222222,
              "#7201a8"
             ],
             [
              0.3333333333333333,
              "#9c179e"
             ],
             [
              0.4444444444444444,
              "#bd3786"
             ],
             [
              0.5555555555555556,
              "#d8576b"
             ],
             [
              0.6666666666666666,
              "#ed7953"
             ],
             [
              0.7777777777777778,
              "#fb9f3a"
             ],
             [
              0.8888888888888888,
              "#fdca26"
             ],
             [
              1,
              "#f0f921"
             ]
            ],
            "type": "heatmapgl"
           }
          ],
          "histogram": [
           {
            "marker": {
             "pattern": {
              "fillmode": "overlay",
              "size": 10,
              "solidity": 0.2
             }
            },
            "type": "histogram"
           }
          ],
          "histogram2d": [
           {
            "colorbar": {
             "outlinewidth": 0,
             "ticks": ""
            },
            "colorscale": [
             [
              0,
              "#0d0887"
             ],
             [
              0.1111111111111111,
              "#46039f"
             ],
             [
              0.2222222222222222,
              "#7201a8"
             ],
             [
              0.3333333333333333,
              "#9c179e"
             ],
             [
              0.4444444444444444,
              "#bd3786"
             ],
             [
              0.5555555555555556,
              "#d8576b"
             ],
             [
              0.6666666666666666,
              "#ed7953"
             ],
             [
              0.7777777777777778,
              "#fb9f3a"
             ],
             [
              0.8888888888888888,
              "#fdca26"
             ],
             [
              1,
              "#f0f921"
             ]
            ],
            "type": "histogram2d"
           }
          ],
          "histogram2dcontour": [
           {
            "colorbar": {
             "outlinewidth": 0,
             "ticks": ""
            },
            "colorscale": [
             [
              0,
              "#0d0887"
             ],
             [
              0.1111111111111111,
              "#46039f"
             ],
             [
              0.2222222222222222,
              "#7201a8"
             ],
             [
              0.3333333333333333,
              "#9c179e"
             ],
             [
              0.4444444444444444,
              "#bd3786"
             ],
             [
              0.5555555555555556,
              "#d8576b"
             ],
             [
              0.6666666666666666,
              "#ed7953"
             ],
             [
              0.7777777777777778,
              "#fb9f3a"
             ],
             [
              0.8888888888888888,
              "#fdca26"
             ],
             [
              1,
              "#f0f921"
             ]
            ],
            "type": "histogram2dcontour"
           }
          ],
          "mesh3d": [
           {
            "colorbar": {
             "outlinewidth": 0,
             "ticks": ""
            },
            "type": "mesh3d"
           }
          ],
          "parcoords": [
           {
            "line": {
             "colorbar": {
              "outlinewidth": 0,
              "ticks": ""
             }
            },
            "type": "parcoords"
           }
          ],
          "pie": [
           {
            "automargin": true,
            "type": "pie"
           }
          ],
          "scatter": [
           {
            "fillpattern": {
             "fillmode": "overlay",
             "size": 10,
             "solidity": 0.2
            },
            "type": "scatter"
           }
          ],
          "scatter3d": [
           {
            "line": {
             "colorbar": {
              "outlinewidth": 0,
              "ticks": ""
             }
            },
            "marker": {
             "colorbar": {
              "outlinewidth": 0,
              "ticks": ""
             }
            },
            "type": "scatter3d"
           }
          ],
          "scattercarpet": [
           {
            "marker": {
             "colorbar": {
              "outlinewidth": 0,
              "ticks": ""
             }
            },
            "type": "scattercarpet"
           }
          ],
          "scattergeo": [
           {
            "marker": {
             "colorbar": {
              "outlinewidth": 0,
              "ticks": ""
             }
            },
            "type": "scattergeo"
           }
          ],
          "scattergl": [
           {
            "marker": {
             "colorbar": {
              "outlinewidth": 0,
              "ticks": ""
             }
            },
            "type": "scattergl"
           }
          ],
          "scattermapbox": [
           {
            "marker": {
             "colorbar": {
              "outlinewidth": 0,
              "ticks": ""
             }
            },
            "type": "scattermapbox"
           }
          ],
          "scatterpolar": [
           {
            "marker": {
             "colorbar": {
              "outlinewidth": 0,
              "ticks": ""
             }
            },
            "type": "scatterpolar"
           }
          ],
          "scatterpolargl": [
           {
            "marker": {
             "colorbar": {
              "outlinewidth": 0,
              "ticks": ""
             }
            },
            "type": "scatterpolargl"
           }
          ],
          "scatterternary": [
           {
            "marker": {
             "colorbar": {
              "outlinewidth": 0,
              "ticks": ""
             }
            },
            "type": "scatterternary"
           }
          ],
          "surface": [
           {
            "colorbar": {
             "outlinewidth": 0,
             "ticks": ""
            },
            "colorscale": [
             [
              0,
              "#0d0887"
             ],
             [
              0.1111111111111111,
              "#46039f"
             ],
             [
              0.2222222222222222,
              "#7201a8"
             ],
             [
              0.3333333333333333,
              "#9c179e"
             ],
             [
              0.4444444444444444,
              "#bd3786"
             ],
             [
              0.5555555555555556,
              "#d8576b"
             ],
             [
              0.6666666666666666,
              "#ed7953"
             ],
             [
              0.7777777777777778,
              "#fb9f3a"
             ],
             [
              0.8888888888888888,
              "#fdca26"
             ],
             [
              1,
              "#f0f921"
             ]
            ],
            "type": "surface"
           }
          ],
          "table": [
           {
            "cells": {
             "fill": {
              "color": "#EBF0F8"
             },
             "line": {
              "color": "white"
             }
            },
            "header": {
             "fill": {
              "color": "#C8D4E3"
             },
             "line": {
              "color": "white"
             }
            },
            "type": "table"
           }
          ]
         },
         "layout": {
          "annotationdefaults": {
           "arrowcolor": "#2a3f5f",
           "arrowhead": 0,
           "arrowwidth": 1
          },
          "autotypenumbers": "strict",
          "coloraxis": {
           "colorbar": {
            "outlinewidth": 0,
            "ticks": ""
           }
          },
          "colorscale": {
           "diverging": [
            [
             0,
             "#8e0152"
            ],
            [
             0.1,
             "#c51b7d"
            ],
            [
             0.2,
             "#de77ae"
            ],
            [
             0.3,
             "#f1b6da"
            ],
            [
             0.4,
             "#fde0ef"
            ],
            [
             0.5,
             "#f7f7f7"
            ],
            [
             0.6,
             "#e6f5d0"
            ],
            [
             0.7,
             "#b8e186"
            ],
            [
             0.8,
             "#7fbc41"
            ],
            [
             0.9,
             "#4d9221"
            ],
            [
             1,
             "#276419"
            ]
           ],
           "sequential": [
            [
             0,
             "#0d0887"
            ],
            [
             0.1111111111111111,
             "#46039f"
            ],
            [
             0.2222222222222222,
             "#7201a8"
            ],
            [
             0.3333333333333333,
             "#9c179e"
            ],
            [
             0.4444444444444444,
             "#bd3786"
            ],
            [
             0.5555555555555556,
             "#d8576b"
            ],
            [
             0.6666666666666666,
             "#ed7953"
            ],
            [
             0.7777777777777778,
             "#fb9f3a"
            ],
            [
             0.8888888888888888,
             "#fdca26"
            ],
            [
             1,
             "#f0f921"
            ]
           ],
           "sequentialminus": [
            [
             0,
             "#0d0887"
            ],
            [
             0.1111111111111111,
             "#46039f"
            ],
            [
             0.2222222222222222,
             "#7201a8"
            ],
            [
             0.3333333333333333,
             "#9c179e"
            ],
            [
             0.4444444444444444,
             "#bd3786"
            ],
            [
             0.5555555555555556,
             "#d8576b"
            ],
            [
             0.6666666666666666,
             "#ed7953"
            ],
            [
             0.7777777777777778,
             "#fb9f3a"
            ],
            [
             0.8888888888888888,
             "#fdca26"
            ],
            [
             1,
             "#f0f921"
            ]
           ]
          },
          "colorway": [
           "#636efa",
           "#EF553B",
           "#00cc96",
           "#ab63fa",
           "#FFA15A",
           "#19d3f3",
           "#FF6692",
           "#B6E880",
           "#FF97FF",
           "#FECB52"
          ],
          "font": {
           "color": "#2a3f5f"
          },
          "geo": {
           "bgcolor": "white",
           "lakecolor": "white",
           "landcolor": "#E5ECF6",
           "showlakes": true,
           "showland": true,
           "subunitcolor": "white"
          },
          "hoverlabel": {
           "align": "left"
          },
          "hovermode": "closest",
          "mapbox": {
           "style": "light"
          },
          "paper_bgcolor": "white",
          "plot_bgcolor": "#E5ECF6",
          "polar": {
           "angularaxis": {
            "gridcolor": "white",
            "linecolor": "white",
            "ticks": ""
           },
           "bgcolor": "#E5ECF6",
           "radialaxis": {
            "gridcolor": "white",
            "linecolor": "white",
            "ticks": ""
           }
          },
          "scene": {
           "xaxis": {
            "backgroundcolor": "#E5ECF6",
            "gridcolor": "white",
            "gridwidth": 2,
            "linecolor": "white",
            "showbackground": true,
            "ticks": "",
            "zerolinecolor": "white"
           },
           "yaxis": {
            "backgroundcolor": "#E5ECF6",
            "gridcolor": "white",
            "gridwidth": 2,
            "linecolor": "white",
            "showbackground": true,
            "ticks": "",
            "zerolinecolor": "white"
           },
           "zaxis": {
            "backgroundcolor": "#E5ECF6",
            "gridcolor": "white",
            "gridwidth": 2,
            "linecolor": "white",
            "showbackground": true,
            "ticks": "",
            "zerolinecolor": "white"
           }
          },
          "shapedefaults": {
           "line": {
            "color": "#2a3f5f"
           }
          },
          "ternary": {
           "aaxis": {
            "gridcolor": "white",
            "linecolor": "white",
            "ticks": ""
           },
           "baxis": {
            "gridcolor": "white",
            "linecolor": "white",
            "ticks": ""
           },
           "bgcolor": "#E5ECF6",
           "caxis": {
            "gridcolor": "white",
            "linecolor": "white",
            "ticks": ""
           }
          },
          "title": {
           "x": 0.05
          },
          "xaxis": {
           "automargin": true,
           "gridcolor": "white",
           "linecolor": "white",
           "ticks": "",
           "title": {
            "standoff": 15
           },
           "zerolinecolor": "white",
           "zerolinewidth": 2
          },
          "yaxis": {
           "automargin": true,
           "gridcolor": "white",
           "linecolor": "white",
           "ticks": "",
           "title": {
            "standoff": 15
           },
           "zerolinecolor": "white",
           "zerolinewidth": 2
          }
         }
        },
        "title": {
         "text": "T-SNE visualisation of Vector Embeddings"
        },
        "xaxis": {
         "anchor": "y",
         "domain": [
          0,
          1
         ],
         "title": {
          "text": "T-SNE Dimension 1"
         }
        },
        "yaxis": {
         "anchor": "x",
         "domain": [
          0,
          1
         ],
         "title": {
          "text": "T-SNE Dimension 2"
         }
        }
       }
      }
     },
     "metadata": {},
     "output_type": "display_data"
    }
   ],
   "source": [
    "fig = px.scatter(df, \n",
    "             x='x', \n",
    "             y=\"y\",\n",
    "             labels={'x':'T-SNE Dimension 1', 'y':'T-SNE Dimension 2'},\n",
    "             title='T-SNE visualisation of Vector Embeddings',\n",
    "             hover_name=df.index)\n",
    "fig.show()"
   ]
  },
  {
   "cell_type": "code",
   "execution_count": null,
   "metadata": {},
   "outputs": [],
   "source": [
    "D2Vdata.query('Source == \"text_nyt\" & Date == \"2011-02-19\"')"
   ]
  },
  {
   "cell_type": "markdown",
   "metadata": {},
   "source": [
    "#### Everything after this point is earlier messing around with the new Sentence Embedding model combined with sentimiento on each sentence, but the results from just analyzing the entire speech itself are much more promising"
   ]
  },
  {
   "cell_type": "code",
   "execution_count": null,
   "metadata": {},
   "outputs": [],
   "source": [
    "#Split speeches into sentences\n",
    "scores=[]\n",
    "labels=[]\n",
    "speech=tokenize.sent_tokenize(data.iloc[0,2])\n",
    "for sentence in range(0,len(speech)):\n",
    "    scores.append(model(speech[sentence],batch_size=8,truncation='only_first')[0].get('score'))\n",
    "    labels.append(model(speech[sentence],batch_size=8,truncation='only_first')[0].get('label'))"
   ]
  },
  {
   "cell_type": "code",
   "execution_count": null,
   "metadata": {},
   "outputs": [],
   "source": [
    "for list in zip(scores,labels):\n",
    "        print(list)\n",
    "#These are the results for all sentences in one speech using embeddings and pipeline"
   ]
  }
 ],
 "metadata": {
  "kernelspec": {
   "display_name": "Python 3 (ipykernel)",
   "language": "python",
   "name": "python3"
  },
  "language_info": {
   "codemirror_mode": {
    "name": "ipython",
    "version": 3
   },
   "file_extension": ".py",
   "mimetype": "text/x-python",
   "name": "python",
   "nbconvert_exporter": "python",
   "pygments_lexer": "ipython3",
   "version": "3.10.8"
  },
  "vscode": {
   "interpreter": {
    "hash": "107f2f6f19e96c840132efb8a7e6b8d8e9855354386e3f52164003e5deff7bc5"
   }
  }
 },
 "nbformat": 4,
 "nbformat_minor": 2
}
