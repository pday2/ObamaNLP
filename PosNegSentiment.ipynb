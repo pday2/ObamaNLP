{
 "cells": [
  {
   "cell_type": "code",
   "execution_count": 1,
   "metadata": {},
   "outputs": [],
   "source": [
    "#Load packages\n",
    "import pandas as pd\n",
    "from vaderSentiment.vaderSentiment import SentimentIntensityAnalyzer\n",
    "analyzer=SentimentIntensityAnalyzer()\n",
    "import matplotlib.pyplot as plt\n",
    "import plotly.express as px"
   ]
  },
  {
   "attachments": {},
   "cell_type": "markdown",
   "metadata": {},
   "source": [
    "## Part 1: Rule-based Sentiment analysis using VADER"
   ]
  },
  {
   "cell_type": "code",
   "execution_count": 2,
   "metadata": {},
   "outputs": [
    {
     "data": {
      "text/html": [
       "<div>\n",
       "<style scoped>\n",
       "    .dataframe tbody tr th:only-of-type {\n",
       "        vertical-align: middle;\n",
       "    }\n",
       "\n",
       "    .dataframe tbody tr th {\n",
       "        vertical-align: top;\n",
       "    }\n",
       "\n",
       "    .dataframe thead th {\n",
       "        text-align: right;\n",
       "    }\n",
       "</style>\n",
       "<table border=\"1\" class=\"dataframe\">\n",
       "  <thead>\n",
       "    <tr style=\"text-align: right;\">\n",
       "      <th></th>\n",
       "      <th>Unnamed: 0</th>\n",
       "      <th>file</th>\n",
       "      <th>text_oba</th>\n",
       "      <th>text_wsj</th>\n",
       "      <th>text_nyt</th>\n",
       "      <th>date</th>\n",
       "    </tr>\n",
       "  </thead>\n",
       "  <tbody>\n",
       "    <tr>\n",
       "      <th>0</th>\n",
       "      <td>0</td>\n",
       "      <td>2004-07-28-DNCSpeech.txt</td>\n",
       "      <td>On behalf of the great state of Illinois, cros...</td>\n",
       "      <td>John Kerry's decorated service in Vietnam took...</td>\n",
       "      <td>Barack Obama took the dais as the keynote spea...</td>\n",
       "      <td>2004-07-28</td>\n",
       "    </tr>\n",
       "    <tr>\n",
       "      <th>1</th>\n",
       "      <td>1</td>\n",
       "      <td>2008-06-04-ObamaNomination.txt</td>\n",
       "      <td>Thank you....Thank you. What a -- What a wonde...</td>\n",
       "      <td>Sen. Barack Obama captured enough convention d...</td>\n",
       "      <td>Senator Barack Obama claimed the Democratic pr...</td>\n",
       "      <td>2008-06-04</td>\n",
       "    </tr>\n",
       "    <tr>\n",
       "      <th>2</th>\n",
       "      <td>2</td>\n",
       "      <td>2008-11-05-ObamaElected.txt</td>\n",
       "      <td>Hello, Chicago.\\n\\nIf there is anyone out ther...</td>\n",
       "      <td>Sen. Barack Obama was elected the nation's fir...</td>\n",
       "      <td>Barack Hussein Obama was elected the 44th pres...</td>\n",
       "      <td>2008-11-05</td>\n",
       "    </tr>\n",
       "  </tbody>\n",
       "</table>\n",
       "</div>"
      ],
      "text/plain": [
       "   Unnamed: 0                            file  \\\n",
       "0           0        2004-07-28-DNCSpeech.txt   \n",
       "1           1  2008-06-04-ObamaNomination.txt   \n",
       "2           2     2008-11-05-ObamaElected.txt   \n",
       "\n",
       "                                            text_oba  \\\n",
       "0  On behalf of the great state of Illinois, cros...   \n",
       "1  Thank you....Thank you. What a -- What a wonde...   \n",
       "2  Hello, Chicago.\\n\\nIf there is anyone out ther...   \n",
       "\n",
       "                                            text_wsj  \\\n",
       "0  John Kerry's decorated service in Vietnam took...   \n",
       "1  Sen. Barack Obama captured enough convention d...   \n",
       "2  Sen. Barack Obama was elected the nation's fir...   \n",
       "\n",
       "                                            text_nyt        date  \n",
       "0  Barack Obama took the dais as the keynote spea...  2004-07-28  \n",
       "1  Senator Barack Obama claimed the Democratic pr...  2008-06-04  \n",
       "2  Barack Hussein Obama was elected the 44th pres...  2008-11-05  "
      ]
     },
     "execution_count": 2,
     "metadata": {},
     "output_type": "execute_result"
    }
   ],
   "source": [
    "#Load previously created data of oba, wsj and nyt - see nrcEmotionAnalysis.ipynb\n",
    "data = pd.read_csv('nonEmotiondata.csv')\n",
    "data.head(3)"
   ]
  },
  {
   "cell_type": "code",
   "execution_count": 3,
   "metadata": {},
   "outputs": [
    {
     "name": "stderr",
     "output_type": "stream",
     "text": [
      "C:\\Users\\Kylan\\AppData\\Local\\Temp\\ipykernel_3144\\3916138746.py:5: SettingWithCopyWarning: \n",
      "A value is trying to be set on a copy of a slice from a DataFrame\n",
      "\n",
      "See the caveats in the documentation: https://pandas.pydata.org/pandas-docs/stable/user_guide/indexing.html#returning-a-view-versus-a-copy\n",
      "  data['oba_scores'][i]=analyzer.polarity_scores(data.iloc[i,2])\n",
      "C:\\Users\\Kylan\\AppData\\Local\\Temp\\ipykernel_3144\\3916138746.py:6: SettingWithCopyWarning: \n",
      "A value is trying to be set on a copy of a slice from a DataFrame\n",
      "\n",
      "See the caveats in the documentation: https://pandas.pydata.org/pandas-docs/stable/user_guide/indexing.html#returning-a-view-versus-a-copy\n",
      "  data['wsj_scores'][i]=analyzer.polarity_scores(data.iloc[i,3])\n",
      "C:\\Users\\Kylan\\AppData\\Local\\Temp\\ipykernel_3144\\3916138746.py:7: SettingWithCopyWarning: \n",
      "A value is trying to be set on a copy of a slice from a DataFrame\n",
      "\n",
      "See the caveats in the documentation: https://pandas.pydata.org/pandas-docs/stable/user_guide/indexing.html#returning-a-view-versus-a-copy\n",
      "  data['nyt_scores'][i]=analyzer.polarity_scores(data.iloc[i,4])\n"
     ]
    }
   ],
   "source": [
    "data['oba_scores']=0\n",
    "data['wsj_scores']=0\n",
    "data['nyt_scores']=0\n",
    "for i in range(0,len(data)):\n",
    "    data['oba_scores'][i]=analyzer.polarity_scores(data.iloc[i,2])\n",
    "    data['wsj_scores'][i]=analyzer.polarity_scores(data.iloc[i,3])\n",
    "    data['nyt_scores'][i]=analyzer.polarity_scores(data.iloc[i,4])\n",
    "#Calculating scores with vader and adding them to the df\n"
   ]
  },
  {
   "cell_type": "code",
   "execution_count": 4,
   "metadata": {},
   "outputs": [
    {
     "data": {
      "text/html": [
       "<div>\n",
       "<style scoped>\n",
       "    .dataframe tbody tr th:only-of-type {\n",
       "        vertical-align: middle;\n",
       "    }\n",
       "\n",
       "    .dataframe tbody tr th {\n",
       "        vertical-align: top;\n",
       "    }\n",
       "\n",
       "    .dataframe thead th {\n",
       "        text-align: right;\n",
       "    }\n",
       "</style>\n",
       "<table border=\"1\" class=\"dataframe\">\n",
       "  <thead>\n",
       "    <tr style=\"text-align: right;\">\n",
       "      <th></th>\n",
       "      <th>Unnamed: 0</th>\n",
       "      <th>file</th>\n",
       "      <th>text_oba</th>\n",
       "      <th>text_wsj</th>\n",
       "      <th>text_nyt</th>\n",
       "      <th>date</th>\n",
       "      <th>oba_scores</th>\n",
       "      <th>wsj_scores</th>\n",
       "      <th>nyt_scores</th>\n",
       "    </tr>\n",
       "  </thead>\n",
       "  <tbody>\n",
       "    <tr>\n",
       "      <th>0</th>\n",
       "      <td>0</td>\n",
       "      <td>2004-07-28-DNCSpeech.txt</td>\n",
       "      <td>On behalf of the great state of Illinois, cros...</td>\n",
       "      <td>John Kerry's decorated service in Vietnam took...</td>\n",
       "      <td>Barack Obama took the dais as the keynote spea...</td>\n",
       "      <td>2004-07-28</td>\n",
       "      <td>{'neg': 0.07, 'neu': 0.749, 'pos': 0.181, 'com...</td>\n",
       "      <td>{'neg': 0.111, 'neu': 0.787, 'pos': 0.102, 'co...</td>\n",
       "      <td>{'neg': 0.038, 'neu': 0.815, 'pos': 0.147, 'co...</td>\n",
       "    </tr>\n",
       "    <tr>\n",
       "      <th>1</th>\n",
       "      <td>1</td>\n",
       "      <td>2008-06-04-ObamaNomination.txt</td>\n",
       "      <td>Thank you....Thank you. What a -- What a wonde...</td>\n",
       "      <td>Sen. Barack Obama captured enough convention d...</td>\n",
       "      <td>Senator Barack Obama claimed the Democratic pr...</td>\n",
       "      <td>2008-06-04</td>\n",
       "      <td>{'neg': 0.063, 'neu': 0.76, 'pos': 0.177, 'com...</td>\n",
       "      <td>{'neg': 0.041, 'neu': 0.812, 'pos': 0.147, 'co...</td>\n",
       "      <td>{'neg': 0.05, 'neu': 0.816, 'pos': 0.133, 'com...</td>\n",
       "    </tr>\n",
       "    <tr>\n",
       "      <th>2</th>\n",
       "      <td>2</td>\n",
       "      <td>2008-11-05-ObamaElected.txt</td>\n",
       "      <td>Hello, Chicago.\\n\\nIf there is anyone out ther...</td>\n",
       "      <td>Sen. Barack Obama was elected the nation's fir...</td>\n",
       "      <td>Barack Hussein Obama was elected the 44th pres...</td>\n",
       "      <td>2008-11-05</td>\n",
       "      <td>{'neg': 0.066, 'neu': 0.758, 'pos': 0.176, 'co...</td>\n",
       "      <td>{'neg': 0.075, 'neu': 0.812, 'pos': 0.113, 'co...</td>\n",
       "      <td>{'neg': 0.066, 'neu': 0.82, 'pos': 0.114, 'com...</td>\n",
       "    </tr>\n",
       "    <tr>\n",
       "      <th>3</th>\n",
       "      <td>3</td>\n",
       "      <td>2009-01-05-EconomyPlans.txt</td>\n",
       "      <td>All right. Well, thanks for taking the time to...</td>\n",
       "      <td>President-elect Barack Obama and congressional...</td>\n",
       "      <td>President-elect Barack Obama plans to include ...</td>\n",
       "      <td>2009-01-05</td>\n",
       "      <td>{'neg': 0.072, 'neu': 0.856, 'pos': 0.072, 'co...</td>\n",
       "      <td>{'neg': 0.059, 'neu': 0.816, 'pos': 0.124, 'co...</td>\n",
       "      <td>{'neg': 0.046, 'neu': 0.872, 'pos': 0.082, 'co...</td>\n",
       "    </tr>\n",
       "    <tr>\n",
       "      <th>4</th>\n",
       "      <td>4</td>\n",
       "      <td>2009-01-20-Inauguration.txt</td>\n",
       "      <td>I, Barack Hussein Obama, do solemnly swear tha...</td>\n",
       "      <td>On a day rich in history, Barack Obama was swo...</td>\n",
       "      <td>Barack Hussein Obama was sworn in as the 44th ...</td>\n",
       "      <td>2009-01-20</td>\n",
       "      <td>{'neg': 0.105, 'neu': 0.711, 'pos': 0.184, 'co...</td>\n",
       "      <td>{'neg': 0.085, 'neu': 0.811, 'pos': 0.105, 'co...</td>\n",
       "      <td>{'neg': 0.083, 'neu': 0.813, 'pos': 0.104, 'co...</td>\n",
       "    </tr>\n",
       "  </tbody>\n",
       "</table>\n",
       "</div>"
      ],
      "text/plain": [
       "   Unnamed: 0                            file  \\\n",
       "0           0        2004-07-28-DNCSpeech.txt   \n",
       "1           1  2008-06-04-ObamaNomination.txt   \n",
       "2           2     2008-11-05-ObamaElected.txt   \n",
       "3           3     2009-01-05-EconomyPlans.txt   \n",
       "4           4     2009-01-20-Inauguration.txt   \n",
       "\n",
       "                                            text_oba  \\\n",
       "0  On behalf of the great state of Illinois, cros...   \n",
       "1  Thank you....Thank you. What a -- What a wonde...   \n",
       "2  Hello, Chicago.\\n\\nIf there is anyone out ther...   \n",
       "3  All right. Well, thanks for taking the time to...   \n",
       "4  I, Barack Hussein Obama, do solemnly swear tha...   \n",
       "\n",
       "                                            text_wsj  \\\n",
       "0  John Kerry's decorated service in Vietnam took...   \n",
       "1  Sen. Barack Obama captured enough convention d...   \n",
       "2  Sen. Barack Obama was elected the nation's fir...   \n",
       "3  President-elect Barack Obama and congressional...   \n",
       "4  On a day rich in history, Barack Obama was swo...   \n",
       "\n",
       "                                            text_nyt        date  \\\n",
       "0  Barack Obama took the dais as the keynote spea...  2004-07-28   \n",
       "1  Senator Barack Obama claimed the Democratic pr...  2008-06-04   \n",
       "2  Barack Hussein Obama was elected the 44th pres...  2008-11-05   \n",
       "3  President-elect Barack Obama plans to include ...  2009-01-05   \n",
       "4  Barack Hussein Obama was sworn in as the 44th ...  2009-01-20   \n",
       "\n",
       "                                          oba_scores  \\\n",
       "0  {'neg': 0.07, 'neu': 0.749, 'pos': 0.181, 'com...   \n",
       "1  {'neg': 0.063, 'neu': 0.76, 'pos': 0.177, 'com...   \n",
       "2  {'neg': 0.066, 'neu': 0.758, 'pos': 0.176, 'co...   \n",
       "3  {'neg': 0.072, 'neu': 0.856, 'pos': 0.072, 'co...   \n",
       "4  {'neg': 0.105, 'neu': 0.711, 'pos': 0.184, 'co...   \n",
       "\n",
       "                                          wsj_scores  \\\n",
       "0  {'neg': 0.111, 'neu': 0.787, 'pos': 0.102, 'co...   \n",
       "1  {'neg': 0.041, 'neu': 0.812, 'pos': 0.147, 'co...   \n",
       "2  {'neg': 0.075, 'neu': 0.812, 'pos': 0.113, 'co...   \n",
       "3  {'neg': 0.059, 'neu': 0.816, 'pos': 0.124, 'co...   \n",
       "4  {'neg': 0.085, 'neu': 0.811, 'pos': 0.105, 'co...   \n",
       "\n",
       "                                          nyt_scores  \n",
       "0  {'neg': 0.038, 'neu': 0.815, 'pos': 0.147, 'co...  \n",
       "1  {'neg': 0.05, 'neu': 0.816, 'pos': 0.133, 'com...  \n",
       "2  {'neg': 0.066, 'neu': 0.82, 'pos': 0.114, 'com...  \n",
       "3  {'neg': 0.046, 'neu': 0.872, 'pos': 0.082, 'co...  \n",
       "4  {'neg': 0.083, 'neu': 0.813, 'pos': 0.104, 'co...  "
      ]
     },
     "execution_count": 4,
     "metadata": {},
     "output_type": "execute_result"
    }
   ],
   "source": [
    "data.head()\n",
    "#Checking that the scores have been implemented properly"
   ]
  },
  {
   "cell_type": "code",
   "execution_count": 5,
   "metadata": {},
   "outputs": [],
   "source": [
    "oba_pos=[]\n",
    "oba_neu=[]\n",
    "oba_neg=[]\n",
    "wsj_pos=[]\n",
    "wsj_neu=[]\n",
    "wsj_neg=[]\n",
    "nyt_pos=[]\n",
    "nyt_neu=[]\n",
    "nyt_neg=[]\n",
    "for i in range(0,len(data)):\n",
    "    oba_pos.append(data['oba_scores'][i].get('pos'))\n",
    "    oba_neu.append(data['oba_scores'][i].get('neu'))\n",
    "    oba_neg.append(data['oba_scores'][i].get('neg'))\n",
    "    wsj_pos.append(data['wsj_scores'][i].get('pos'))\n",
    "    wsj_neu.append(data['wsj_scores'][i].get('neu'))\n",
    "    wsj_neg.append(data['wsj_scores'][i].get('neg'))\n",
    "    nyt_pos.append(data['nyt_scores'][i].get('pos'))\n",
    "    nyt_neu.append(data['nyt_scores'][i].get('neu'))\n",
    "    nyt_neg.append(data['nyt_scores'][i].get('neg'))\n",
    "#This is super verbose and could actually be done nicely through the use of dataframes, clean up required later"
   ]
  },
  {
   "cell_type": "code",
   "execution_count": 6,
   "metadata": {},
   "outputs": [
    {
     "data": {
      "image/png": "[encoded data removed]",
      "text/plain": [
       "<Figure size 640x480 with 1 Axes>"
      ]
     },
     "metadata": {},
     "output_type": "display_data"
    }
   ],
   "source": [
    "x=data.index\n",
    "plt.bar(x,oba_neg,color='red',label='Negative')\n",
    "plt.bar(x,oba_neu,bottom=oba_neg,color='yellow',label='Neutral')\n",
    "plt.bar(x,oba_pos,bottom=[sum(x) for x in zip(oba_neu,oba_neg)],color='green',label='Positive')\n",
    "plt.ylabel('Probability of sentiment')\n",
    "plt.title('Rule-based Sentiment analysis of Obama speeches')\n",
    "plt.legend(loc='best')\n",
    "plt.show()"
   ]
  },
  {
   "cell_type": "code",
   "execution_count": 7,
   "metadata": {},
   "outputs": [
    {
     "data": {
      "text/html": [
       "<div>\n",
       "<style scoped>\n",
       "    .dataframe tbody tr th:only-of-type {\n",
       "        vertical-align: middle;\n",
       "    }\n",
       "\n",
       "    .dataframe tbody tr th {\n",
       "        vertical-align: top;\n",
       "    }\n",
       "\n",
       "    .dataframe thead th {\n",
       "        text-align: right;\n",
       "    }\n",
       "</style>\n",
       "<table border=\"1\" class=\"dataframe\">\n",
       "  <thead>\n",
       "    <tr style=\"text-align: right;\">\n",
       "      <th></th>\n",
       "      <th>oba_neg</th>\n",
       "      <th>oba_neu</th>\n",
       "      <th>oba_pos</th>\n",
       "    </tr>\n",
       "    <tr>\n",
       "      <th>date</th>\n",
       "      <th></th>\n",
       "      <th></th>\n",
       "      <th></th>\n",
       "    </tr>\n",
       "  </thead>\n",
       "  <tbody>\n",
       "    <tr>\n",
       "      <th>2004-07-28</th>\n",
       "      <td>0.070</td>\n",
       "      <td>0.749</td>\n",
       "      <td>0.181</td>\n",
       "    </tr>\n",
       "    <tr>\n",
       "      <th>2008-06-04</th>\n",
       "      <td>0.063</td>\n",
       "      <td>0.760</td>\n",
       "      <td>0.177</td>\n",
       "    </tr>\n",
       "    <tr>\n",
       "      <th>2008-11-05</th>\n",
       "      <td>0.066</td>\n",
       "      <td>0.758</td>\n",
       "      <td>0.176</td>\n",
       "    </tr>\n",
       "    <tr>\n",
       "      <th>2009-01-05</th>\n",
       "      <td>0.072</td>\n",
       "      <td>0.856</td>\n",
       "      <td>0.072</td>\n",
       "    </tr>\n",
       "    <tr>\n",
       "      <th>2009-01-20</th>\n",
       "      <td>0.105</td>\n",
       "      <td>0.711</td>\n",
       "      <td>0.184</td>\n",
       "    </tr>\n",
       "  </tbody>\n",
       "</table>\n",
       "</div>"
      ],
      "text/plain": [
       "            oba_neg  oba_neu  oba_pos\n",
       "date                                 \n",
       "2004-07-28    0.070    0.749    0.181\n",
       "2008-06-04    0.063    0.760    0.177\n",
       "2008-11-05    0.066    0.758    0.176\n",
       "2009-01-05    0.072    0.856    0.072\n",
       "2009-01-20    0.105    0.711    0.184"
      ]
     },
     "execution_count": 7,
     "metadata": {},
     "output_type": "execute_result"
    }
   ],
   "source": [
    "#Create dataframe for plotting obama data using plotly\n",
    "oba_bardata=pd.DataFrame({'oba_neg':oba_neg,'oba_neu':oba_neu,'oba_pos':oba_pos},index=data['date'])\n",
    "oba_bardata.head()"
   ]
  },
  {
   "cell_type": "code",
   "execution_count": 8,
   "metadata": {},
   "outputs": [
    {
     "data": {
      "application/vnd.plotly.v1+json": {
       "config": {
        "plotlyServerURL": "https://plot.ly"
       },
       "data": [
        {
         "hovertemplate": "variable=oba_neg<br>x=%{x}<br>value=%{y}<extra></extra>",
         "legendgroup": "oba_neg",
         "line": {
          "color": "#636efa",
          "dash": "solid"
         },
         "marker": {
          "symbol": "circle"
         },
         "mode": "lines",
         "name": "oba_neg",
         "orientation": "v",
         "showlegend": true,
         "type": "scatter",
         "x": [
          "2008-06-04",
          "2008-11-05",
          "2009-01-05",
          "2009-01-20",
          "2009-04-02",
          "2009-04-15",
          "2009-05-22",
          "2009-06-15",
          "2009-07-15",
          "2009-09-24",
          "2009-10-09",
          "2009-11-05",
          "2009-12-19",
          "2009-12-25",
          "2010-01-12",
          "2010-03-04",
          "2010-03-24",
          "2010-04-15",
          "2010-04-22",
          "2010-05-07",
          "2010-07-15",
          "2010-07-21",
          "2010-07-26",
          "2010-08-31",
          "2010-11-02",
          "2011-01-08",
          "2011-01-26",
          "2011-01-31",
          "2011-02-19",
          "2011-05-02",
          "2011-05-23",
          "2011-06-23",
          "2011-07-26",
          "2011-09-09",
          "2011-10-17",
          "2011-11-17",
          "2011-12-16",
          "2012-01-06",
          "2012-01-25",
          "2012-03-27",
          "2012-03-31",
          "2012-04-29",
          "2012-05-02",
          "2012-05-10",
          "2012-06-29",
          "2012-07-21",
          "2012-09-07",
          "2012-10-29",
          "2012-11-07",
          "2012-12-15",
          "2013-01-16",
          "2013-01-22",
          "2013-01-30",
          "2013-02-13",
          "2013-04-16",
          "2013-04-26",
          "2013-05-04",
          "2013-06-19",
          "2013-07-14",
          "2013-08-29",
          "2013-09-11",
          "2013-10-02",
          "2013-12-06",
          "2014-01-18",
          "2014-01-29",
          "2014-03-07",
          "2014-03-26",
          "2014-04-11",
          "2014-05-21",
          "2014-07-01",
          "2014-08-08",
          "2014-08-12",
          "2014-09-17",
          "2014-10-18",
          "2014-11-05",
          "2014-12-18",
          "2015-01-08",
          "2015-01-21",
          "2015-02-14",
          "2015-03-11",
          "2015-04-03",
          "2015-05-09",
          "2015-06-18",
          "2015-07-07",
          "2015-08-03",
          "2015-09-24",
          "2015-10-02",
          "2015-11-14",
          "2015-12-14",
          "2016-01-13",
          "2016-02-16",
          "2016-03-23",
          "2016-04-25",
          "2016-05-06",
          "2016-06-13",
          "2016-07-28",
          "2016-08-17",
          "2016-09-05",
          "2016-11-09",
          "2017-01-11"
         ],
         "xaxis": "x",
         "y": [
          0.063,
          0.066,
          0.072,
          0.105,
          0.082,
          0.101,
          0.125,
          0.138,
          0.056,
          0.108,
          0.159,
          0.089,
          0.051,
          0.094,
          0.071,
          0.072,
          0.051,
          0.033,
          0.123,
          0.057,
          0.086,
          0.058,
          0.042,
          0.13,
          0.069,
          0.073,
          0.056,
          0.011,
          0.025,
          0.101,
          0.095,
          0.119,
          0.121,
          0.073,
          0.098,
          0.06,
          0.052,
          0.046,
          0.073,
          0.069,
          0.032,
          0.059,
          0.106,
          0.032,
          0.055,
          0.093,
          0.09,
          0.06,
          0.068,
          0.089,
          0.135,
          0.064,
          0.028,
          0.073,
          0.048,
          0.048,
          0.034,
          0.081,
          0.073,
          0.079,
          0.18,
          0.065,
          0.036,
          0.071,
          0.076,
          0.05,
          0.084,
          0.081,
          0.077,
          0.079,
          0.124,
          0.065,
          0.057,
          0.105,
          0.029,
          0.066,
          0.262,
          0.081,
          0.066,
          0.041,
          0.1,
          0.039,
          0.126,
          0.145,
          0.087,
          0.08,
          0.136,
          0.12,
          0.047,
          0.096,
          0.007,
          0.07,
          0.086,
          0.061,
          0.13,
          0.085,
          0.06,
          0.07,
          0.046,
          0.081
         ],
         "yaxis": "y"
        },
        {
         "hovertemplate": "variable=oba_neu<br>x=%{x}<br>value=%{y}<extra></extra>",
         "legendgroup": "oba_neu",
         "line": {
          "color": "#EF553B",
          "dash": "solid"
         },
         "marker": {
          "symbol": "circle"
         },
         "mode": "lines",
         "name": "oba_neu",
         "orientation": "v",
         "showlegend": true,
         "type": "scatter",
         "x": [
          "2008-06-04",
          "2008-11-05",
          "2009-01-05",
          "2009-01-20",
          "2009-04-02",
          "2009-04-15",
          "2009-05-22",
          "2009-06-15",
          "2009-07-15",
          "2009-09-24",
          "2009-10-09",
          "2009-11-05",
          "2009-12-19",
          "2009-12-25",
          "2010-01-12",
          "2010-03-04",
          "2010-03-24",
          "2010-04-15",
          "2010-04-22",
          "2010-05-07",
          "2010-07-15",
          "2010-07-21",
          "2010-07-26",
          "2010-08-31",
          "2010-11-02",
          "2011-01-08",
          "2011-01-26",
          "2011-01-31",
          "2011-02-19",
          "2011-05-02",
          "2011-05-23",
          "2011-06-23",
          "2011-07-26",
          "2011-09-09",
          "2011-10-17",
          "2011-11-17",
          "2011-12-16",
          "2012-01-06",
          "2012-01-25",
          "2012-03-27",
          "2012-03-31",
          "2012-04-29",
          "2012-05-02",
          "2012-05-10",
          "2012-06-29",
          "2012-07-21",
          "2012-09-07",
          "2012-10-29",
          "2012-11-07",
          "2012-12-15",
          "2013-01-16",
          "2013-01-22",
          "2013-01-30",
          "2013-02-13",
          "2013-04-16",
          "2013-04-26",
          "2013-05-04",
          "2013-06-19",
          "2013-07-14",
          "2013-08-29",
          "2013-09-11",
          "2013-10-02",
          "2013-12-06",
          "2014-01-18",
          "2014-01-29",
          "2014-03-07",
          "2014-03-26",
          "2014-04-11",
          "2014-05-21",
          "2014-07-01",
          "2014-08-08",
          "2014-08-12",
          "2014-09-17",
          "2014-10-18",
          "2014-11-05",
          "2014-12-18",
          "2015-01-08",
          "2015-01-21",
          "2015-02-14",
          "2015-03-11",
          "2015-04-03",
          "2015-05-09",
          "2015-06-18",
          "2015-07-07",
          "2015-08-03",
          "2015-09-24",
          "2015-10-02",
          "2015-11-14",
          "2015-12-14",
          "2016-01-13",
          "2016-02-16",
          "2016-03-23",
          "2016-04-25",
          "2016-05-06",
          "2016-06-13",
          "2016-07-28",
          "2016-08-17",
          "2016-09-05",
          "2016-11-09",
          "2017-01-11"
         ],
         "xaxis": "x",
         "y": [
          0.76,
          0.758,
          0.856,
          0.711,
          0.751,
          0.766,
          0.74,
          0.724,
          0.804,
          0.723,
          0.666,
          0.745,
          0.775,
          0.758,
          0.736,
          0.807,
          0.817,
          0.83,
          0.768,
          0.747,
          0.766,
          0.836,
          0.804,
          0.717,
          0.74,
          0.736,
          0.799,
          0.822,
          0.821,
          0.756,
          0.734,
          0.721,
          0.746,
          0.801,
          0.729,
          0.718,
          0.773,
          0.803,
          0.783,
          0.746,
          0.848,
          0.763,
          0.727,
          0.822,
          0.763,
          0.731,
          0.748,
          0.837,
          0.733,
          0.726,
          0.729,
          0.735,
          0.821,
          0.75,
          0.768,
          0.715,
          0.775,
          0.68,
          0.818,
          0.739,
          0.693,
          0.813,
          0.709,
          0.779,
          0.747,
          0.819,
          0.738,
          0.768,
          0.806,
          0.772,
          0.723,
          0.797,
          0.789,
          0.732,
          0.824,
          0.755,
          0.604,
          0.743,
          0.751,
          0.805,
          0.74,
          0.772,
          0.745,
          0.712,
          0.782,
          0.65,
          0.767,
          0.723,
          0.715,
          0.738,
          0.743,
          0.814,
          0.72,
          0.816,
          0.728,
          0.734,
          0.795,
          0.748,
          0.767,
          0.73
         ],
         "yaxis": "y"
        },
        {
         "hovertemplate": "variable=oba_pos<br>x=%{x}<br>value=%{y}<extra></extra>",
         "legendgroup": "oba_pos",
         "line": {
          "color": "#00cc96",
          "dash": "solid"
         },
         "marker": {
          "symbol": "circle"
         },
         "mode": "lines",
         "name": "oba_pos",
         "orientation": "v",
         "showlegend": true,
         "type": "scatter",
         "x": [
          "2008-06-04",
          "2008-11-05",
          "2009-01-05",
          "2009-01-20",
          "2009-04-02",
          "2009-04-15",
          "2009-05-22",
          "2009-06-15",
          "2009-07-15",
          "2009-09-24",
          "2009-10-09",
          "2009-11-05",
          "2009-12-19",
          "2009-12-25",
          "2010-01-12",
          "2010-03-04",
          "2010-03-24",
          "2010-04-15",
          "2010-04-22",
          "2010-05-07",
          "2010-07-15",
          "2010-07-21",
          "2010-07-26",
          "2010-08-31",
          "2010-11-02",
          "2011-01-08",
          "2011-01-26",
          "2011-01-31",
          "2011-02-19",
          "2011-05-02",
          "2011-05-23",
          "2011-06-23",
          "2011-07-26",
          "2011-09-09",
          "2011-10-17",
          "2011-11-17",
          "2011-12-16",
          "2012-01-06",
          "2012-01-25",
          "2012-03-27",
          "2012-03-31",
          "2012-04-29",
          "2012-05-02",
          "2012-05-10",
          "2012-06-29",
          "2012-07-21",
          "2012-09-07",
          "2012-10-29",
          "2012-11-07",
          "2012-12-15",
          "2013-01-16",
          "2013-01-22",
          "2013-01-30",
          "2013-02-13",
          "2013-04-16",
          "2013-04-26",
          "2013-05-04",
          "2013-06-19",
          "2013-07-14",
          "2013-08-29",
          "2013-09-11",
          "2013-10-02",
          "2013-12-06",
          "2014-01-18",
          "2014-01-29",
          "2014-03-07",
          "2014-03-26",
          "2014-04-11",
          "2014-05-21",
          "2014-07-01",
          "2014-08-08",
          "2014-08-12",
          "2014-09-17",
          "2014-10-18",
          "2014-11-05",
          "2014-12-18",
          "2015-01-08",
          "2015-01-21",
          "2015-02-14",
          "2015-03-11",
          "2015-04-03",
          "2015-05-09",
          "2015-06-18",
          "2015-07-07",
          "2015-08-03",
          "2015-09-24",
          "2015-10-02",
          "2015-11-14",
          "2015-12-14",
          "2016-01-13",
          "2016-02-16",
          "2016-03-23",
          "2016-04-25",
          "2016-05-06",
          "2016-06-13",
          "2016-07-28",
          "2016-08-17",
          "2016-09-05",
          "2016-11-09",
          "2017-01-11"
         ],
         "xaxis": "x",
         "y": [
          0.177,
          0.176,
          0.072,
          0.184,
          0.168,
          0.132,
          0.135,
          0.138,
          0.14,
          0.168,
          0.175,
          0.166,
          0.174,
          0.148,
          0.193,
          0.121,
          0.132,
          0.137,
          0.109,
          0.195,
          0.147,
          0.106,
          0.154,
          0.153,
          0.191,
          0.191,
          0.145,
          0.167,
          0.154,
          0.143,
          0.171,
          0.16,
          0.132,
          0.126,
          0.173,
          0.221,
          0.175,
          0.151,
          0.143,
          0.185,
          0.12,
          0.178,
          0.167,
          0.146,
          0.182,
          0.176,
          0.162,
          0.104,
          0.199,
          0.186,
          0.136,
          0.201,
          0.151,
          0.177,
          0.184,
          0.237,
          0.191,
          0.238,
          0.109,
          0.182,
          0.127,
          0.121,
          0.255,
          0.15,
          0.177,
          0.131,
          0.178,
          0.151,
          0.117,
          0.149,
          0.153,
          0.139,
          0.153,
          0.163,
          0.148,
          0.179,
          0.134,
          0.176,
          0.183,
          0.154,
          0.16,
          0.189,
          0.129,
          0.143,
          0.131,
          0.27,
          0.097,
          0.157,
          0.238,
          0.166,
          0.25,
          0.115,
          0.194,
          0.123,
          0.142,
          0.181,
          0.146,
          0.181,
          0.186,
          0.188
         ],
         "yaxis": "y"
        }
       ],
       "layout": {
        "legend": {
         "title": {
          "text": "variable"
         },
         "tracegroupgap": 0
        },
        "margin": {
         "t": 60
        },
        "template": {
         "data": {
          "bar": [
           {
            "error_x": {
             "color": "#2a3f5f"
            },
            "error_y": {
             "color": "#2a3f5f"
            },
            "marker": {
             "line": {
              "color": "#E5ECF6",
              "width": 0.5
             },
             "pattern": {
              "fillmode": "overlay",
              "size": 10,
              "solidity": 0.2
             }
            },
            "type": "bar"
           }
          ],
          "barpolar": [
           {
            "marker": {
             "line": {
              "color": "#E5ECF6",
              "width": 0.5
             },
             "pattern": {
              "fillmode": "overlay",
              "size": 10,
              "solidity": 0.2
             }
            },
            "type": "barpolar"
           }
          ],
          "carpet": [
           {
            "aaxis": {
             "endlinecolor": "#2a3f5f",
             "gridcolor": "white",
             "linecolor": "white",
             "minorgridcolor": "white",
             "startlinecolor": "#2a3f5f"
            },
            "baxis": {
             "endlinecolor": "#2a3f5f",
             "gridcolor": "white",
             "linecolor": "white",
             "minorgridcolor": "white",
             "startlinecolor": "#2a3f5f"
            },
            "type": "carpet"
           }
          ],
          "choropleth": [
           {
            "colorbar": {
             "outlinewidth": 0,
             "ticks": ""
            },
            "type": "choropleth"
           }
          ],
          "contour": [
           {
            "colorbar": {
             "outlinewidth": 0,
             "ticks": ""
            },
            "colorscale": [
             [
              0,
              "#0d0887"
             ],
             [
              0.1111111111111111,
              "#46039f"
             ],
             [
              0.2222222222222222,
              "#7201a8"
             ],
             [
              0.3333333333333333,
              "#9c179e"
             ],
             [
              0.4444444444444444,
              "#bd3786"
             ],
             [
              0.5555555555555556,
              "#d8576b"
             ],
             [
              0.6666666666666666,
              "#ed7953"
             ],
             [
              0.7777777777777778,
              "#fb9f3a"
             ],
             [
              0.8888888888888888,
              "#fdca26"
             ],
             [
              1,
              "#f0f921"
             ]
            ],
            "type": "contour"
           }
          ],
          "contourcarpet": [
           {
            "colorbar": {
             "outlinewidth": 0,
             "ticks": ""
            },
            "type": "contourcarpet"
           }
          ],
          "heatmap": [
           {
            "colorbar": {
             "outlinewidth": 0,
             "ticks": ""
            },
            "colorscale": [
             [
              0,
              "#0d0887"
             ],
             [
              0.1111111111111111,
              "#46039f"
             ],
             [
              0.2222222222222222,
              "#7201a8"
             ],
             [
              0.3333333333333333,
              "#9c179e"
             ],
             [
              0.4444444444444444,
              "#bd3786"
             ],
             [
              0.5555555555555556,
              "#d8576b"
             ],
             [
              0.6666666666666666,
              "#ed7953"
             ],
             [
              0.7777777777777778,
              "#fb9f3a"
             ],
             [
              0.8888888888888888,
              "#fdca26"
             ],
             [
              1,
              "#f0f921"
             ]
            ],
            "type": "heatmap"
           }
          ],
          "heatmapgl": [
           {
            "colorbar": {
             "outlinewidth": 0,
             "ticks": ""
            },
            "colorscale": [
             [
              0,
              "#0d0887"
             ],
             [
              0.1111111111111111,
              "#46039f"
             ],
             [
              0.2222222222222222,
              "#7201a8"
             ],
             [
              0.3333333333333333,
              "#9c179e"
             ],
             [
              0.4444444444444444,
              "#bd3786"
             ],
             [
              0.5555555555555556,
              "#d8576b"
             ],
             [
              0.6666666666666666,
              "#ed7953"
             ],
             [
              0.7777777777777778,
              "#fb9f3a"
             ],
             [
              0.8888888888888888,
              "#fdca26"
             ],
             [
              1,
              "#f0f921"
             ]
            ],
            "type": "heatmapgl"
           }
          ],
          "histogram": [
           {
            "marker": {
             "pattern": {
              "fillmode": "overlay",
              "size": 10,
              "solidity": 0.2
             }
            },
            "type": "histogram"
           }
          ],
          "histogram2d": [
           {
            "colorbar": {
             "outlinewidth": 0,
             "ticks": ""
            },
            "colorscale": [
             [
              0,
              "#0d0887"
             ],
             [
              0.1111111111111111,
              "#46039f"
             ],
             [
              0.2222222222222222,
              "#7201a8"
             ],
             [
              0.3333333333333333,
              "#9c179e"
             ],
             [
              0.4444444444444444,
              "#bd3786"
             ],
             [
              0.5555555555555556,
              "#d8576b"
             ],
             [
              0.6666666666666666,
              "#ed7953"
             ],
             [
              0.7777777777777778,
              "#fb9f3a"
             ],
             [
              0.8888888888888888,
              "#fdca26"
             ],
             [
              1,
              "#f0f921"
             ]
            ],
            "type": "histogram2d"
           }
          ],
          "histogram2dcontour": [
           {
            "colorbar": {
             "outlinewidth": 0,
             "ticks": ""
            },
            "colorscale": [
             [
              0,
              "#0d0887"
             ],
             [
              0.1111111111111111,
              "#46039f"
             ],
             [
              0.2222222222222222,
              "#7201a8"
             ],
             [
              0.3333333333333333,
              "#9c179e"
             ],
             [
              0.4444444444444444,
              "#bd3786"
             ],
             [
              0.5555555555555556,
              "#d8576b"
             ],
             [
              0.6666666666666666,
              "#ed7953"
             ],
             [
              0.7777777777777778,
              "#fb9f3a"
             ],
             [
              0.8888888888888888,
              "#fdca26"
             ],
             [
              1,
              "#f0f921"
             ]
            ],
            "type": "histogram2dcontour"
           }
          ],
          "mesh3d": [
           {
            "colorbar": {
             "outlinewidth": 0,
             "ticks": ""
            },
            "type": "mesh3d"
           }
          ],
          "parcoords": [
           {
            "line": {
             "colorbar": {
              "outlinewidth": 0,
              "ticks": ""
             }
            },
            "type": "parcoords"
           }
          ],
          "pie": [
           {
            "automargin": true,
            "type": "pie"
           }
          ],
          "scatter": [
           {
            "fillpattern": {
             "fillmode": "overlay",
             "size": 10,
             "solidity": 0.2
            },
            "type": "scatter"
           }
          ],
          "scatter3d": [
           {
            "line": {
             "colorbar": {
              "outlinewidth": 0,
              "ticks": ""
             }
            },
            "marker": {
             "colorbar": {
              "outlinewidth": 0,
              "ticks": ""
             }
            },
            "type": "scatter3d"
           }
          ],
          "scattercarpet": [
           {
            "marker": {
             "colorbar": {
              "outlinewidth": 0,
              "ticks": ""
             }
            },
            "type": "scattercarpet"
           }
          ],
          "scattergeo": [
           {
            "marker": {
             "colorbar": {
              "outlinewidth": 0,
              "ticks": ""
             }
            },
            "type": "scattergeo"
           }
          ],
          "scattergl": [
           {
            "marker": {
             "colorbar": {
              "outlinewidth": 0,
              "ticks": ""
             }
            },
            "type": "scattergl"
           }
          ],
          "scattermapbox": [
           {
            "marker": {
             "colorbar": {
              "outlinewidth": 0,
              "ticks": ""
             }
            },
            "type": "scattermapbox"
           }
          ],
          "scatterpolar": [
           {
            "marker": {
             "colorbar": {
              "outlinewidth": 0,
              "ticks": ""
             }
            },
            "type": "scatterpolar"
           }
          ],
          "scatterpolargl": [
           {
            "marker": {
             "colorbar": {
              "outlinewidth": 0,
              "ticks": ""
             }
            },
            "type": "scatterpolargl"
           }
          ],
          "scatterternary": [
           {
            "marker": {
             "colorbar": {
              "outlinewidth": 0,
              "ticks": ""
             }
            },
            "type": "scatterternary"
           }
          ],
          "surface": [
           {
            "colorbar": {
             "outlinewidth": 0,
             "ticks": ""
            },
            "colorscale": [
             [
              0,
              "#0d0887"
             ],
             [
              0.1111111111111111,
              "#46039f"
             ],
             [
              0.2222222222222222,
              "#7201a8"
             ],
             [
              0.3333333333333333,
              "#9c179e"
             ],
             [
              0.4444444444444444,
              "#bd3786"
             ],
             [
              0.5555555555555556,
              "#d8576b"
             ],
             [
              0.6666666666666666,
              "#ed7953"
             ],
             [
              0.7777777777777778,
              "#fb9f3a"
             ],
             [
              0.8888888888888888,
              "#fdca26"
             ],
             [
              1,
              "#f0f921"
             ]
            ],
            "type": "surface"
           }
          ],
          "table": [
           {
            "cells": {
             "fill": {
              "color": "#EBF0F8"
             },
             "line": {
              "color": "white"
             }
            },
            "header": {
             "fill": {
              "color": "#C8D4E3"
             },
             "line": {
              "color": "white"
             }
            },
            "type": "table"
           }
          ]
         },
         "layout": {
          "annotationdefaults": {
           "arrowcolor": "#2a3f5f",
           "arrowhead": 0,
           "arrowwidth": 1
          },
          "autotypenumbers": "strict",
          "coloraxis": {
           "colorbar": {
            "outlinewidth": 0,
            "ticks": ""
           }
          },
          "colorscale": {
           "diverging": [
            [
             0,
             "#8e0152"
            ],
            [
             0.1,
             "#c51b7d"
            ],
            [
             0.2,
             "#de77ae"
            ],
            [
             0.3,
             "#f1b6da"
            ],
            [
             0.4,
             "#fde0ef"
            ],
            [
             0.5,
             "#f7f7f7"
            ],
            [
             0.6,
             "#e6f5d0"
            ],
            [
             0.7,
             "#b8e186"
            ],
            [
             0.8,
             "#7fbc41"
            ],
            [
             0.9,
             "#4d9221"
            ],
            [
             1,
             "#276419"
            ]
           ],
           "sequential": [
            [
             0,
             "#0d0887"
            ],
            [
             0.1111111111111111,
             "#46039f"
            ],
            [
             0.2222222222222222,
             "#7201a8"
            ],
            [
             0.3333333333333333,
             "#9c179e"
            ],
            [
             0.4444444444444444,
             "#bd3786"
            ],
            [
             0.5555555555555556,
             "#d8576b"
            ],
            [
             0.6666666666666666,
             "#ed7953"
            ],
            [
             0.7777777777777778,
             "#fb9f3a"
            ],
            [
             0.8888888888888888,
             "#fdca26"
            ],
            [
             1,
             "#f0f921"
            ]
           ],
           "sequentialminus": [
            [
             0,
             "#0d0887"
            ],
            [
             0.1111111111111111,
             "#46039f"
            ],
            [
             0.2222222222222222,
             "#7201a8"
            ],
            [
             0.3333333333333333,
             "#9c179e"
            ],
            [
             0.4444444444444444,
             "#bd3786"
            ],
            [
             0.5555555555555556,
             "#d8576b"
            ],
            [
             0.6666666666666666,
             "#ed7953"
            ],
            [
             0.7777777777777778,
             "#fb9f3a"
            ],
            [
             0.8888888888888888,
             "#fdca26"
            ],
            [
             1,
             "#f0f921"
            ]
           ]
          },
          "colorway": [
           "#636efa",
           "#EF553B",
           "#00cc96",
           "#ab63fa",
           "#FFA15A",
           "#19d3f3",
           "#FF6692",
           "#B6E880",
           "#FF97FF",
           "#FECB52"
          ],
          "font": {
           "color": "#2a3f5f"
          },
          "geo": {
           "bgcolor": "white",
           "lakecolor": "white",
           "landcolor": "#E5ECF6",
           "showlakes": true,
           "showland": true,
           "subunitcolor": "white"
          },
          "hoverlabel": {
           "align": "left"
          },
          "hovermode": "closest",
          "mapbox": {
           "style": "light"
          },
          "paper_bgcolor": "white",
          "plot_bgcolor": "#E5ECF6",
          "polar": {
           "angularaxis": {
            "gridcolor": "white",
            "linecolor": "white",
            "ticks": ""
           },
           "bgcolor": "#E5ECF6",
           "radialaxis": {
            "gridcolor": "white",
            "linecolor": "white",
            "ticks": ""
           }
          },
          "scene": {
           "xaxis": {
            "backgroundcolor": "#E5ECF6",
            "gridcolor": "white",
            "gridwidth": 2,
            "linecolor": "white",
            "showbackground": true,
            "ticks": "",
            "zerolinecolor": "white"
           },
           "yaxis": {
            "backgroundcolor": "#E5ECF6",
            "gridcolor": "white",
            "gridwidth": 2,
            "linecolor": "white",
            "showbackground": true,
            "ticks": "",
            "zerolinecolor": "white"
           },
           "zaxis": {
            "backgroundcolor": "#E5ECF6",
            "gridcolor": "white",
            "gridwidth": 2,
            "linecolor": "white",
            "showbackground": true,
            "ticks": "",
            "zerolinecolor": "white"
           }
          },
          "shapedefaults": {
           "line": {
            "color": "#2a3f5f"
           }
          },
          "ternary": {
           "aaxis": {
            "gridcolor": "white",
            "linecolor": "white",
            "ticks": ""
           },
           "baxis": {
            "gridcolor": "white",
            "linecolor": "white",
            "ticks": ""
           },
           "bgcolor": "#E5ECF6",
           "caxis": {
            "gridcolor": "white",
            "linecolor": "white",
            "ticks": ""
           }
          },
          "title": {
           "x": 0.05
          },
          "xaxis": {
           "automargin": true,
           "gridcolor": "white",
           "linecolor": "white",
           "ticks": "",
           "title": {
            "standoff": 15
           },
           "zerolinecolor": "white",
           "zerolinewidth": 2
          },
          "yaxis": {
           "automargin": true,
           "gridcolor": "white",
           "linecolor": "white",
           "ticks": "",
           "title": {
            "standoff": 15
           },
           "zerolinecolor": "white",
           "zerolinewidth": 2
          }
         }
        },
        "xaxis": {
         "anchor": "y",
         "domain": [
          0,
          1
         ],
         "title": {
          "text": "x"
         }
        },
        "yaxis": {
         "anchor": "x",
         "domain": [
          0,
          1
         ],
         "title": {
          "text": "value"
         }
        }
       }
      }
     },
     "metadata": {},
     "output_type": "display_data"
    }
   ],
   "source": [
    "#Tail to remove the first obs which is from 2004 and messes with the plot\n",
    "#You can change between px.line, px.bar (difficult to see) and px.histogram (messy aggregation)\n",
    "\n",
    "fig=px.line(oba_bardata.tail(-1),x=oba_bardata.tail(-1).index,y=['oba_neg','oba_neu','oba_pos'])\n",
    "fig.show()"
   ]
  },
  {
   "attachments": {},
   "cell_type": "markdown",
   "metadata": {},
   "source": [
    "## Part 2: Sentiment analysis using pre-trained BERTweet-based model"
   ]
  },
  {
   "cell_type": "code",
   "execution_count": 9,
   "metadata": {},
   "outputs": [
    {
     "name": "stdout",
     "output_type": "stream",
     "text": [
      "Looking in links: orce-reinstall\n",
      "Requirement already satisfied: tensorflow==2.10 in c:\\users\\kylan\\anaconda3\\envs\\blauwe_kater\\lib\\site-packages (2.10.0)\n",
      "Requirement already satisfied: opt-einsum>=2.3.2 in c:\\users\\kylan\\anaconda3\\envs\\blauwe_kater\\lib\\site-packages (from tensorflow==2.10) (3.3.0)\n",
      "Requirement already satisfied: flatbuffers>=2.0 in c:\\users\\kylan\\anaconda3\\envs\\blauwe_kater\\lib\\site-packages (from tensorflow==2.10) (23.1.21)\n",
      "Requirement already satisfied: protobuf<3.20,>=3.9.2 in c:\\users\\kylan\\anaconda3\\envs\\blauwe_kater\\lib\\site-packages (from tensorflow==2.10) (3.19.6)\n",
      "Requirement already satisfied: h5py>=2.9.0 in c:\\users\\kylan\\anaconda3\\envs\\blauwe_kater\\lib\\site-packages (from tensorflow==2.10) (3.8.0)\n",
      "Requirement already satisfied: tensorflow-io-gcs-filesystem>=0.23.1 in c:\\users\\kylan\\anaconda3\\envs\\blauwe_kater\\lib\\site-packages (from tensorflow==2.10) (0.31.0)\n",
      "Requirement already satisfied: typing-extensions>=3.6.6 in c:\\users\\kylan\\anaconda3\\envs\\blauwe_kater\\lib\\site-packages (from tensorflow==2.10) (4.4.0)\n",
      "Requirement already satisfied: tensorboard<2.11,>=2.10 in c:\\users\\kylan\\anaconda3\\envs\\blauwe_kater\\lib\\site-packages (from tensorflow==2.10) (2.10.1)\n",
      "Requirement already satisfied: tensorflow-estimator<2.11,>=2.10.0 in c:\\users\\kylan\\anaconda3\\envs\\blauwe_kater\\lib\\site-packages (from tensorflow==2.10) (2.10.0)\n",
      "Requirement already satisfied: absl-py>=1.0.0 in c:\\users\\kylan\\anaconda3\\envs\\blauwe_kater\\lib\\site-packages (from tensorflow==2.10) (1.4.0)\n",
      "Requirement already satisfied: numpy>=1.20 in c:\\users\\kylan\\anaconda3\\envs\\blauwe_kater\\lib\\site-packages (from tensorflow==2.10) (1.23.5)\n",
      "Requirement already satisfied: grpcio<2.0,>=1.24.3 in c:\\users\\kylan\\anaconda3\\envs\\blauwe_kater\\lib\\site-packages (from tensorflow==2.10) (1.51.3)\n",
      "Requirement already satisfied: keras<2.11,>=2.10.0 in c:\\users\\kylan\\anaconda3\\envs\\blauwe_kater\\lib\\site-packages (from tensorflow==2.10) (2.10.0)\n",
      "Requirement already satisfied: packaging in c:\\users\\kylan\\anaconda3\\envs\\blauwe_kater\\lib\\site-packages (from tensorflow==2.10) (21.3)\n",
      "Requirement already satisfied: setuptools in c:\\users\\kylan\\anaconda3\\envs\\blauwe_kater\\lib\\site-packages (from tensorflow==2.10) (67.3.2)\n",
      "Requirement already satisfied: libclang>=13.0.0 in c:\\users\\kylan\\anaconda3\\envs\\blauwe_kater\\lib\\site-packages (from tensorflow==2.10) (15.0.6.1)\n",
      "Requirement already satisfied: six>=1.12.0 in c:\\users\\kylan\\anaconda3\\envs\\blauwe_kater\\lib\\site-packages (from tensorflow==2.10) (1.16.0)\n",
      "Requirement already satisfied: wrapt>=1.11.0 in c:\\users\\kylan\\anaconda3\\envs\\blauwe_kater\\lib\\site-packages (from tensorflow==2.10) (1.15.0)\n",
      "Requirement already satisfied: keras-preprocessing>=1.1.1 in c:\\users\\kylan\\anaconda3\\envs\\blauwe_kater\\lib\\site-packages (from tensorflow==2.10) (1.1.2)\n",
      "Requirement already satisfied: astunparse>=1.6.0 in c:\\users\\kylan\\anaconda3\\envs\\blauwe_kater\\lib\\site-packages (from tensorflow==2.10) (1.6.3)\n",
      "Requirement already satisfied: gast<=0.4.0,>=0.2.1 in c:\\users\\kylan\\anaconda3\\envs\\blauwe_kater\\lib\\site-packages (from tensorflow==2.10) (0.4.0)\n",
      "Requirement already satisfied: termcolor>=1.1.0 in c:\\users\\kylan\\anaconda3\\envs\\blauwe_kater\\lib\\site-packages (from tensorflow==2.10) (2.2.0)\n",
      "Requirement already satisfied: google-pasta>=0.1.1 in c:\\users\\kylan\\anaconda3\\envs\\blauwe_kater\\lib\\site-packages (from tensorflow==2.10) (0.2.0)\n",
      "Requirement already satisfied: wheel<1.0,>=0.23.0 in c:\\users\\kylan\\anaconda3\\envs\\blauwe_kater\\lib\\site-packages (from astunparse>=1.6.0->tensorflow==2.10) (0.38.4)\n",
      "Requirement already satisfied: requests<3,>=2.21.0 in c:\\users\\kylan\\anaconda3\\envs\\blauwe_kater\\lib\\site-packages (from tensorboard<2.11,>=2.10->tensorflow==2.10) (2.28.1)\n",
      "Requirement already satisfied: tensorboard-data-server<0.7.0,>=0.6.0 in c:\\users\\kylan\\anaconda3\\envs\\blauwe_kater\\lib\\site-packages (from tensorboard<2.11,>=2.10->tensorflow==2.10) (0.6.1)\n",
      "Requirement already satisfied: tensorboard-plugin-wit>=1.6.0 in c:\\users\\kylan\\anaconda3\\envs\\blauwe_kater\\lib\\site-packages (from tensorboard<2.11,>=2.10->tensorflow==2.10) (1.8.1)\n",
      "Requirement already satisfied: markdown>=2.6.8 in c:\\users\\kylan\\anaconda3\\envs\\blauwe_kater\\lib\\site-packages (from tensorboard<2.11,>=2.10->tensorflow==2.10) (3.4.1)\n",
      "Requirement already satisfied: google-auth<3,>=1.6.3 in c:\\users\\kylan\\anaconda3\\envs\\blauwe_kater\\lib\\site-packages (from tensorboard<2.11,>=2.10->tensorflow==2.10) (2.16.1)\n",
      "Requirement already satisfied: google-auth-oauthlib<0.5,>=0.4.1 in c:\\users\\kylan\\anaconda3\\envs\\blauwe_kater\\lib\\site-packages (from tensorboard<2.11,>=2.10->tensorflow==2.10) (0.4.6)\n",
      "Requirement already satisfied: werkzeug>=1.0.1 in c:\\users\\kylan\\anaconda3\\envs\\blauwe_kater\\lib\\site-packages (from tensorboard<2.11,>=2.10->tensorflow==2.10) (2.2.3)\n",
      "Requirement already satisfied: pyparsing!=3.0.5,>=2.0.2 in c:\\users\\kylan\\anaconda3\\envs\\blauwe_kater\\lib\\site-packages (from packaging->tensorflow==2.10) (3.0.9)\n",
      "Requirement already satisfied: rsa<5,>=3.1.4 in c:\\users\\kylan\\anaconda3\\envs\\blauwe_kater\\lib\\site-packages (from google-auth<3,>=1.6.3->tensorboard<2.11,>=2.10->tensorflow==2.10) (4.9)\n",
      "Requirement already satisfied: pyasn1-modules>=0.2.1 in c:\\users\\kylan\\anaconda3\\envs\\blauwe_kater\\lib\\site-packages (from google-auth<3,>=1.6.3->tensorboard<2.11,>=2.10->tensorflow==2.10) (0.2.8)\n",
      "Requirement already satisfied: cachetools<6.0,>=2.0.0 in c:\\users\\kylan\\anaconda3\\envs\\blauwe_kater\\lib\\site-packages (from google-auth<3,>=1.6.3->tensorboard<2.11,>=2.10->tensorflow==2.10) (5.3.0)\n",
      "Requirement already satisfied: requests-oauthlib>=0.7.0 in c:\\users\\kylan\\anaconda3\\envs\\blauwe_kater\\lib\\site-packages (from google-auth-oauthlib<0.5,>=0.4.1->tensorboard<2.11,>=2.10->tensorflow==2.10) (1.3.1)\n",
      "Requirement already satisfied: idna<4,>=2.5 in c:\\users\\kylan\\anaconda3\\envs\\blauwe_kater\\lib\\site-packages (from requests<3,>=2.21.0->tensorboard<2.11,>=2.10->tensorflow==2.10) (3.4)\n",
      "Requirement already satisfied: certifi>=2017.4.17 in c:\\users\\kylan\\anaconda3\\envs\\blauwe_kater\\lib\\site-packages (from requests<3,>=2.21.0->tensorboard<2.11,>=2.10->tensorflow==2.10) (2022.12.7)\n",
      "Requirement already satisfied: charset-normalizer<3,>=2 in c:\\users\\kylan\\anaconda3\\envs\\blauwe_kater\\lib\\site-packages (from requests<3,>=2.21.0->tensorboard<2.11,>=2.10->tensorflow==2.10) (2.1.1)\n",
      "Requirement already satisfied: urllib3<1.27,>=1.21.1 in c:\\users\\kylan\\anaconda3\\envs\\blauwe_kater\\lib\\site-packages (from requests<3,>=2.21.0->tensorboard<2.11,>=2.10->tensorflow==2.10) (1.26.14)\n",
      "Requirement already satisfied: MarkupSafe>=2.1.1 in c:\\users\\kylan\\anaconda3\\envs\\blauwe_kater\\lib\\site-packages (from werkzeug>=1.0.1->tensorboard<2.11,>=2.10->tensorflow==2.10) (2.1.1)\n",
      "Requirement already satisfied: pyasn1<0.5.0,>=0.4.6 in c:\\users\\kylan\\anaconda3\\envs\\blauwe_kater\\lib\\site-packages (from pyasn1-modules>=0.2.1->google-auth<3,>=1.6.3->tensorboard<2.11,>=2.10->tensorflow==2.10) (0.4.8)\n",
      "Requirement already satisfied: oauthlib>=3.0.0 in c:\\users\\kylan\\anaconda3\\envs\\blauwe_kater\\lib\\site-packages (from requests-oauthlib>=0.7.0->google-auth-oauthlib<0.5,>=0.4.1->tensorboard<2.11,>=2.10->tensorflow==2.10) (3.2.2)\n"
     ]
    }
   ],
   "source": [
    "!pip install tensorflow==2.10 -force-reinstall"
   ]
  },
  {
   "cell_type": "code",
   "execution_count": 10,
   "metadata": {},
   "outputs": [
    {
     "name": "stderr",
     "output_type": "stream",
     "text": [
      "c:\\Users\\Kylan\\anaconda3\\envs\\blauwe_kater\\lib\\site-packages\\tqdm\\auto.py:22: TqdmWarning:\n",
      "\n",
      "IProgress not found. Please update jupyter and ipywidgets. See https://ipywidgets.readthedocs.io/en/stable/user_install.html\n",
      "\n"
     ]
    }
   ],
   "source": [
    "#New libraries and load sentiment model through HF pipeline\n",
    "from pysentimiento import create_analyzer\n",
    "from transformers import pipeline\n",
    "from nltk import tokenize \n",
    "from gensim.models import Doc2Vec\n",
    "import nltk\n",
    "model=pipeline('sentiment-analysis',model='finiteautomata/bertweet-base-sentiment-analysis')"
   ]
  },
  {
   "cell_type": "code",
   "execution_count": 11,
   "metadata": {},
   "outputs": [
    {
     "data": {
      "text/html": [
       "<div>\n",
       "<style scoped>\n",
       "    .dataframe tbody tr th:only-of-type {\n",
       "        vertical-align: middle;\n",
       "    }\n",
       "\n",
       "    .dataframe tbody tr th {\n",
       "        vertical-align: top;\n",
       "    }\n",
       "\n",
       "    .dataframe thead th {\n",
       "        text-align: right;\n",
       "    }\n",
       "</style>\n",
       "<table border=\"1\" class=\"dataframe\">\n",
       "  <thead>\n",
       "    <tr style=\"text-align: right;\">\n",
       "      <th></th>\n",
       "      <th>Unnamed: 0</th>\n",
       "      <th>file</th>\n",
       "      <th>text_oba</th>\n",
       "      <th>text_wsj</th>\n",
       "      <th>text_nyt</th>\n",
       "      <th>date</th>\n",
       "    </tr>\n",
       "  </thead>\n",
       "  <tbody>\n",
       "    <tr>\n",
       "      <th>0</th>\n",
       "      <td>0</td>\n",
       "      <td>2004-07-28-DNCSpeech.txt</td>\n",
       "      <td>On behalf of the great state of Illinois, cros...</td>\n",
       "      <td>John Kerry's decorated service in Vietnam took...</td>\n",
       "      <td>Barack Obama took the dais as the keynote spea...</td>\n",
       "      <td>2004-07-28</td>\n",
       "    </tr>\n",
       "    <tr>\n",
       "      <th>1</th>\n",
       "      <td>1</td>\n",
       "      <td>2008-06-04-ObamaNomination.txt</td>\n",
       "      <td>Thank you....Thank you. What a -- What a wonde...</td>\n",
       "      <td>Sen. Barack Obama captured enough convention d...</td>\n",
       "      <td>Senator Barack Obama claimed the Democratic pr...</td>\n",
       "      <td>2008-06-04</td>\n",
       "    </tr>\n",
       "    <tr>\n",
       "      <th>2</th>\n",
       "      <td>2</td>\n",
       "      <td>2008-11-05-ObamaElected.txt</td>\n",
       "      <td>Hello, Chicago.\\n\\nIf there is anyone out ther...</td>\n",
       "      <td>Sen. Barack Obama was elected the nation's fir...</td>\n",
       "      <td>Barack Hussein Obama was elected the 44th pres...</td>\n",
       "      <td>2008-11-05</td>\n",
       "    </tr>\n",
       "    <tr>\n",
       "      <th>3</th>\n",
       "      <td>3</td>\n",
       "      <td>2009-01-05-EconomyPlans.txt</td>\n",
       "      <td>All right. Well, thanks for taking the time to...</td>\n",
       "      <td>President-elect Barack Obama and congressional...</td>\n",
       "      <td>President-elect Barack Obama plans to include ...</td>\n",
       "      <td>2009-01-05</td>\n",
       "    </tr>\n",
       "    <tr>\n",
       "      <th>4</th>\n",
       "      <td>4</td>\n",
       "      <td>2009-01-20-Inauguration.txt</td>\n",
       "      <td>I, Barack Hussein Obama, do solemnly swear tha...</td>\n",
       "      <td>On a day rich in history, Barack Obama was swo...</td>\n",
       "      <td>Barack Hussein Obama was sworn in as the 44th ...</td>\n",
       "      <td>2009-01-20</td>\n",
       "    </tr>\n",
       "  </tbody>\n",
       "</table>\n",
       "</div>"
      ],
      "text/plain": [
       "   Unnamed: 0                            file  \\\n",
       "0           0        2004-07-28-DNCSpeech.txt   \n",
       "1           1  2008-06-04-ObamaNomination.txt   \n",
       "2           2     2008-11-05-ObamaElected.txt   \n",
       "3           3     2009-01-05-EconomyPlans.txt   \n",
       "4           4     2009-01-20-Inauguration.txt   \n",
       "\n",
       "                                            text_oba  \\\n",
       "0  On behalf of the great state of Illinois, cros...   \n",
       "1  Thank you....Thank you. What a -- What a wonde...   \n",
       "2  Hello, Chicago.\\n\\nIf there is anyone out ther...   \n",
       "3  All right. Well, thanks for taking the time to...   \n",
       "4  I, Barack Hussein Obama, do solemnly swear tha...   \n",
       "\n",
       "                                            text_wsj  \\\n",
       "0  John Kerry's decorated service in Vietnam took...   \n",
       "1  Sen. Barack Obama captured enough convention d...   \n",
       "2  Sen. Barack Obama was elected the nation's fir...   \n",
       "3  President-elect Barack Obama and congressional...   \n",
       "4  On a day rich in history, Barack Obama was swo...   \n",
       "\n",
       "                                            text_nyt        date  \n",
       "0  Barack Obama took the dais as the keynote spea...  2004-07-28  \n",
       "1  Senator Barack Obama claimed the Democratic pr...  2008-06-04  \n",
       "2  Barack Hussein Obama was elected the 44th pres...  2008-11-05  \n",
       "3  President-elect Barack Obama plans to include ...  2009-01-05  \n",
       "4  Barack Hussein Obama was sworn in as the 44th ...  2009-01-20  "
      ]
     },
     "execution_count": 11,
     "metadata": {},
     "output_type": "execute_result"
    }
   ],
   "source": [
    "#Reload original dataframe\n",
    "data = pd.read_csv('nonEmotiondata.csv')\n",
    "data.head()"
   ]
  },
  {
   "cell_type": "code",
   "execution_count": 12,
   "metadata": {},
   "outputs": [],
   "source": [
    "#Create pysentimiento sentiment analyzer\n",
    "analyzer=create_analyzer(task='sentiment',lang='en')"
   ]
  },
  {
   "cell_type": "code",
   "execution_count": 13,
   "metadata": {},
   "outputs": [
    {
     "name": "stdout",
     "output_type": "stream",
     "text": [
      "AnalyzerOutput(output=POS, probas={POS: 0.984, NEU: 0.014, NEG: 0.002})\n"
     ]
    },
    {
     "data": {
      "text/plain": [
       "0.9842914342880249"
      ]
     },
     "execution_count": 13,
     "metadata": {},
     "output_type": "execute_result"
    }
   ],
   "source": [
    "#Try to get results for single Obama speech\n",
    "result=analyzer.predict(data.iloc[0,2])\n",
    "print(result)\n",
    "result.probas.get(max(result.probas))"
   ]
  },
  {
   "cell_type": "code",
   "execution_count": 176,
   "metadata": {},
   "outputs": [
    {
     "data": {
      "text/plain": [
       "AnalyzerOutput(output=NEU, probas={NEU: 0.876, POS: 0.083, NEG: 0.041})"
      ]
     },
     "execution_count": 176,
     "metadata": {},
     "output_type": "execute_result"
    }
   ],
   "source": [
    "analyzer.predict('joy')"
   ]
  },
  {
   "cell_type": "code",
   "execution_count": 14,
   "metadata": {},
   "outputs": [
    {
     "name": "stderr",
     "output_type": "stream",
     "text": [
      "100%|██████████| 4/4 [00:02<00:00,  1.44ba/s]\n",
      "The following columns in the test set don't have a corresponding argument in `RobertaForSequenceClassification.forward` and have been ignored: text. If text are not expected by `RobertaForSequenceClassification.forward`,  you can safely ignore this message.\n",
      "***** Running Prediction *****\n",
      "  Num examples = 101\n",
      "  Batch size = 32\n",
      "100%|██████████| 4/4 [00:17<00:00,  4.33s/it]\n",
      "C:\\Users\\Kylan\\AppData\\Local\\Temp\\ipykernel_3144\\1735466508.py:8: SettingWithCopyWarning:\n",
      "\n",
      "\n",
      "A value is trying to be set on a copy of a slice from a DataFrame\n",
      "\n",
      "See the caveats in the documentation: https://pandas.pydata.org/pandas-docs/stable/user_guide/indexing.html#returning-a-view-versus-a-copy\n",
      "\n",
      "C:\\Users\\Kylan\\AppData\\Local\\Temp\\ipykernel_3144\\1735466508.py:9: SettingWithCopyWarning:\n",
      "\n",
      "\n",
      "A value is trying to be set on a copy of a slice from a DataFrame\n",
      "\n",
      "See the caveats in the documentation: https://pandas.pydata.org/pandas-docs/stable/user_guide/indexing.html#returning-a-view-versus-a-copy\n",
      "\n",
      "C:\\Users\\Kylan\\AppData\\Local\\Temp\\ipykernel_3144\\1735466508.py:10: SettingWithCopyWarning:\n",
      "\n",
      "\n",
      "A value is trying to be set on a copy of a slice from a DataFrame\n",
      "\n",
      "See the caveats in the documentation: https://pandas.pydata.org/pandas-docs/stable/user_guide/indexing.html#returning-a-view-versus-a-copy\n",
      "\n"
     ]
    }
   ],
   "source": [
    "#Now to do it for all Obama speeches + saving pos, neu and neg scores\n",
    "data['oba_results']=analyzer.predict(data['text_oba'])\n",
    "\n",
    "data['oba_pos']=0\n",
    "data['oba_neu']=0\n",
    "data['oba_neg']=0\n",
    "for i in range(0,len(data)):\n",
    "    data['oba_pos'][i]=data['oba_results'][i].probas.get('POS')\n",
    "    data['oba_neu'][i]=data['oba_results'][i].probas.get('NEU')\n",
    "    data['oba_neg'][i]=data['oba_results'][i].probas.get('NEG')"
   ]
  },
  {
   "cell_type": "code",
   "execution_count": 15,
   "metadata": {},
   "outputs": [
    {
     "data": {
      "text/plain": [
       "([<matplotlib.axis.XTick at 0x13e868105e0>,\n",
       "  <matplotlib.axis.XTick at 0x13e868105b0>,\n",
       "  <matplotlib.axis.XTick at 0x13e86828580>,\n",
       "  <matplotlib.axis.XTick at 0x13e86a413f0>,\n",
       "  <matplotlib.axis.XTick at 0x13e86a41ea0>,\n",
       "  <matplotlib.axis.XTick at 0x13e86a42950>,\n",
       "  <matplotlib.axis.XTick at 0x13e86a42e60>,\n",
       "  <matplotlib.axis.XTick at 0x13e86a43910>,\n",
       "  <matplotlib.axis.XTick at 0x13e867c7d30>,\n",
       "  <matplotlib.axis.XTick at 0x13e86a70f10>,\n",
       "  <matplotlib.axis.XTick at 0x13e86a719c0>,\n",
       "  <matplotlib.axis.XTick at 0x13e86a71120>,\n",
       "  <matplotlib.axis.XTick at 0x13e86a722c0>,\n",
       "  <matplotlib.axis.XTick at 0x13e86a72d70>,\n",
       "  <matplotlib.axis.XTick at 0x13e86a73820>,\n",
       "  <matplotlib.axis.XTick at 0x13e86a73070>,\n",
       "  <matplotlib.axis.XTick at 0x13e86a706d0>,\n",
       "  <matplotlib.axis.XTick at 0x13e86a88c10>,\n",
       "  <matplotlib.axis.XTick at 0x13e86a896c0>,\n",
       "  <matplotlib.axis.XTick at 0x13e86a8a170>,\n",
       "  <matplotlib.axis.XTick at 0x13e86a89900>],\n",
       " [Text(0, 0, '0'),\n",
       "  Text(5, 0, '5'),\n",
       "  Text(10, 0, '10'),\n",
       "  Text(15, 0, '15'),\n",
       "  Text(20, 0, '20'),\n",
       "  Text(25, 0, '25'),\n",
       "  Text(30, 0, '30'),\n",
       "  Text(35, 0, '35'),\n",
       "  Text(40, 0, '40'),\n",
       "  Text(45, 0, '45'),\n",
       "  Text(50, 0, '50'),\n",
       "  Text(55, 0, '55'),\n",
       "  Text(60, 0, '60'),\n",
       "  Text(65, 0, '65'),\n",
       "  Text(70, 0, '70'),\n",
       "  Text(75, 0, '75'),\n",
       "  Text(80, 0, '80'),\n",
       "  Text(85, 0, '85'),\n",
       "  Text(90, 0, '90'),\n",
       "  Text(95, 0, '95'),\n",
       "  Text(100, 0, '100')])"
      ]
     },
     "execution_count": 15,
     "metadata": {},
     "output_type": "execute_result"
    },
    {
     "data": {
      "image/png": "[encoded data removed]",
      "text/plain": [
       "<Figure size 640x480 with 1 Axes>"
      ]
     },
     "metadata": {},
     "output_type": "display_data"
    }
   ],
   "source": [
    "ax=data.plot.bar(y=['oba_neg','oba_neu','oba_pos'],stacked=True,color=['r','y','g'])\n",
    "ticks=range(0,101,5)\n",
    "labels=ticks\n",
    "plt.xticks(ticks,labels)"
   ]
  },
  {
   "cell_type": "code",
   "execution_count": 16,
   "metadata": {},
   "outputs": [
    {
     "data": {
      "text/plain": [
       "Unnamed: 0                                                    30\n",
       "file                               2011-05-02-binLadenKilled.txt\n",
       "text_oba       Good evening. Tonight, I can report to the Ame...\n",
       "text_wsj       Al Qaeda leader Osama bin Laden, a mastermind ...\n",
       "text_nyt       Osama bin Laden, the mastermind of the most de...\n",
       "date                                                  2011-05-02\n",
       "oba_results    AnalyzerOutput(output=NEG, probas={NEG: 0.962,...\n",
       "oba_pos                                                 0.003345\n",
       "oba_neu                                                 0.034504\n",
       "oba_neg                                                 0.962151\n",
       "Name: 30, dtype: object"
      ]
     },
     "execution_count": 16,
     "metadata": {},
     "output_type": "execute_result"
    }
   ],
   "source": [
    "#Looks like some speeches turn up  predominantly negative, especially speeches with index 3, 30, 32-34 -- Lets check em out!\n",
    "data.iloc[30]"
   ]
  },
  {
   "cell_type": "code",
   "execution_count": 17,
   "metadata": {},
   "outputs": [
    {
     "name": "stderr",
     "output_type": "stream",
     "text": [
      "100%|██████████| 4/4 [00:01<00:00,  3.30ba/s]\n",
      "The following columns in the test set don't have a corresponding argument in `RobertaForSequenceClassification.forward` and have been ignored: text. If text are not expected by `RobertaForSequenceClassification.forward`,  you can safely ignore this message.\n",
      "***** Running Prediction *****\n",
      "  Num examples = 101\n",
      "  Batch size = 32\n",
      "100%|██████████| 4/4 [00:16<00:00,  4.20s/it]\n",
      "100%|██████████| 4/4 [00:01<00:00,  2.76ba/s]\n",
      "The following columns in the test set don't have a corresponding argument in `RobertaForSequenceClassification.forward` and have been ignored: text. If text are not expected by `RobertaForSequenceClassification.forward`,  you can safely ignore this message.\n",
      "***** Running Prediction *****\n",
      "  Num examples = 101\n",
      "  Batch size = 32\n",
      "100%|██████████| 4/4 [00:16<00:00,  4.15s/it]\n",
      "C:\\Users\\Kylan\\AppData\\Local\\Temp\\ipykernel_3144\\2626055168.py:9: SettingWithCopyWarning:\n",
      "\n",
      "\n",
      "A value is trying to be set on a copy of a slice from a DataFrame\n",
      "\n",
      "See the caveats in the documentation: https://pandas.pydata.org/pandas-docs/stable/user_guide/indexing.html#returning-a-view-versus-a-copy\n",
      "\n",
      "C:\\Users\\Kylan\\AppData\\Local\\Temp\\ipykernel_3144\\2626055168.py:10: SettingWithCopyWarning:\n",
      "\n",
      "\n",
      "A value is trying to be set on a copy of a slice from a DataFrame\n",
      "\n",
      "See the caveats in the documentation: https://pandas.pydata.org/pandas-docs/stable/user_guide/indexing.html#returning-a-view-versus-a-copy\n",
      "\n",
      "C:\\Users\\Kylan\\AppData\\Local\\Temp\\ipykernel_3144\\2626055168.py:11: SettingWithCopyWarning:\n",
      "\n",
      "\n",
      "A value is trying to be set on a copy of a slice from a DataFrame\n",
      "\n",
      "See the caveats in the documentation: https://pandas.pydata.org/pandas-docs/stable/user_guide/indexing.html#returning-a-view-versus-a-copy\n",
      "\n",
      "C:\\Users\\Kylan\\AppData\\Local\\Temp\\ipykernel_3144\\2626055168.py:17: SettingWithCopyWarning:\n",
      "\n",
      "\n",
      "A value is trying to be set on a copy of a slice from a DataFrame\n",
      "\n",
      "See the caveats in the documentation: https://pandas.pydata.org/pandas-docs/stable/user_guide/indexing.html#returning-a-view-versus-a-copy\n",
      "\n",
      "C:\\Users\\Kylan\\AppData\\Local\\Temp\\ipykernel_3144\\2626055168.py:18: SettingWithCopyWarning:\n",
      "\n",
      "\n",
      "A value is trying to be set on a copy of a slice from a DataFrame\n",
      "\n",
      "See the caveats in the documentation: https://pandas.pydata.org/pandas-docs/stable/user_guide/indexing.html#returning-a-view-versus-a-copy\n",
      "\n",
      "C:\\Users\\Kylan\\AppData\\Local\\Temp\\ipykernel_3144\\2626055168.py:19: SettingWithCopyWarning:\n",
      "\n",
      "\n",
      "A value is trying to be set on a copy of a slice from a DataFrame\n",
      "\n",
      "See the caveats in the documentation: https://pandas.pydata.org/pandas-docs/stable/user_guide/indexing.html#returning-a-view-versus-a-copy\n",
      "\n"
     ]
    }
   ],
   "source": [
    "#Now let's compare WSJ and NYT Article Graphs\n",
    "data['wsj_results']=analyzer.predict(data['text_wsj'])\n",
    "data['nyt_results']=analyzer.predict(data['text_nyt'])\n",
    "\n",
    "data['wsj_pos']=0\n",
    "data['wsj_neu']=0\n",
    "data['wsj_neg']=0\n",
    "for i in range(0,len(data)):\n",
    "    data['wsj_pos'][i]=data['wsj_results'][i].probas.get('POS')\n",
    "    data['wsj_neu'][i]=data['wsj_results'][i].probas.get('NEU')\n",
    "    data['wsj_neg'][i]=data['wsj_results'][i].probas.get('NEG')\n",
    "\n",
    "data['nyt_pos']=0\n",
    "data['nyt_neu']=0\n",
    "data['nyt_neg']=0\n",
    "for i in range(0,len(data)):\n",
    "    data['nyt_pos'][i]=data['nyt_results'][i].probas.get('POS')\n",
    "    data['nyt_neu'][i]=data['nyt_results'][i].probas.get('NEU')\n",
    "    data['nyt_neg'][i]=data['nyt_results'][i].probas.get('NEG')"
   ]
  },
  {
   "cell_type": "code",
   "execution_count": 18,
   "metadata": {},
   "outputs": [
    {
     "data": {
      "text/plain": [
       "([<matplotlib.axis.XTick at 0x13f049ec0d0>,\n",
       "  <matplotlib.axis.XTick at 0x13f049ec7c0>,\n",
       "  <matplotlib.axis.XTick at 0x13e8729e410>,\n",
       "  <matplotlib.axis.XTick at 0x13e884fef80>,\n",
       "  <matplotlib.axis.XTick at 0x13e884ffa30>,\n",
       "  <matplotlib.axis.XTick at 0x13e8852c520>,\n",
       "  <matplotlib.axis.XTick at 0x13e8852cfd0>,\n",
       "  <matplotlib.axis.XTick at 0x13e884fea10>,\n",
       "  <matplotlib.axis.XTick at 0x13e8852db10>,\n",
       "  <matplotlib.axis.XTick at 0x13e8852e5c0>,\n",
       "  <matplotlib.axis.XTick at 0x13e8852f070>,\n",
       "  <matplotlib.axis.XTick at 0x13e8852fb20>,\n",
       "  <matplotlib.axis.XTick at 0x13e8852e200>,\n",
       "  <matplotlib.axis.XTick at 0x13e88540460>,\n",
       "  <matplotlib.axis.XTick at 0x13e88540f10>,\n",
       "  <matplotlib.axis.XTick at 0x13e885419c0>,\n",
       "  <matplotlib.axis.XTick at 0x13e88542470>,\n",
       "  <matplotlib.axis.XTick at 0x13e884fe800>,\n",
       "  <matplotlib.axis.XTick at 0x13e885428f0>,\n",
       "  <matplotlib.axis.XTick at 0x13e885433a0>,\n",
       "  <matplotlib.axis.XTick at 0x13e88543e50>],\n",
       " [Text(0, 0, '0'),\n",
       "  Text(5, 0, '5'),\n",
       "  Text(10, 0, '10'),\n",
       "  Text(15, 0, '15'),\n",
       "  Text(20, 0, '20'),\n",
       "  Text(25, 0, '25'),\n",
       "  Text(30, 0, '30'),\n",
       "  Text(35, 0, '35'),\n",
       "  Text(40, 0, '40'),\n",
       "  Text(45, 0, '45'),\n",
       "  Text(50, 0, '50'),\n",
       "  Text(55, 0, '55'),\n",
       "  Text(60, 0, '60'),\n",
       "  Text(65, 0, '65'),\n",
       "  Text(70, 0, '70'),\n",
       "  Text(75, 0, '75'),\n",
       "  Text(80, 0, '80'),\n",
       "  Text(85, 0, '85'),\n",
       "  Text(90, 0, '90'),\n",
       "  Text(95, 0, '95'),\n",
       "  Text(100, 0, '100')])"
      ]
     },
     "execution_count": 18,
     "metadata": {},
     "output_type": "execute_result"
    },
    {
     "data": {
      "image/png": "[encoded data removed]",
      "text/plain": [
       "<Figure size 640x480 with 3 Axes>"
      ]
     },
     "metadata": {},
     "output_type": "display_data"
    }
   ],
   "source": [
    "fig, (ax1,ax2,ax3)=plt.subplots(3,sharex=True)\n",
    "data.plot.bar(ax=ax1,y=['oba_neg','oba_neu','oba_pos'],stacked=True,color=['r','y','g'])\n",
    "data.plot.bar(ax=ax2,y=['wsj_neg','wsj_neu','wsj_pos'],stacked=True,color=['r','y','g'])\n",
    "data.plot.bar(ax=ax3,y=['nyt_neg','nyt_neu','nyt_pos'],stacked=True,color=['r','y','g'])\n",
    "plt.xticks(ticks,labels)"
   ]
  },
  {
   "attachments": {},
   "cell_type": "markdown",
   "metadata": {},
   "source": [
    "As could be expected, the news articles tend to fluctuate much more between positive and negative, while the speeches themselves remain mostly positive and-or neutral. Of specific interest are the red peaks in speeches, which mostly correlate with additional negativity in their corresponding news articles (FORMAL TEST REQUIRED). The big red peak as explained earlier covers some pretty heavy topics, while speech number 4 (index 3) does not garner significant negativity in news articles and warrants further investigation."
   ]
  },
  {
   "cell_type": "code",
   "execution_count": 19,
   "metadata": {},
   "outputs": [
    {
     "name": "stdout",
     "output_type": "stream",
     "text": [
      "Analysis result: \n",
      " Speech \t WSJ \t NYT \n",
      " NEG \t\t POS \t NEU\n",
      "Negative scores: \n",
      " Speech \t WSJ \t NYT \n",
      " 0.909 \t\t 0.004 \t 0.006\n",
      "Filename: \n",
      " 2009-01-05-EconomyPlans.txt \n",
      "\n",
      "\n",
      "Speech beginning: \n",
      " All right. Well, thanks for taking the time to come in for a moment. You know, this is the core of my economic team, and the message of our meeting today is one that comes as no surprise to most Americans, and that is we are in a very difficult spot. The economy is bad. The situation is getting worse.\n",
      "\n",
      "Last week, we learned that manufacturing had hit a 20-year low. On Friday, we're going to get the final jobs report from this year, and every indication is that we will have lost in 2008 more jobs \n",
      "\n",
      "\n",
      "WSJ Article beginning: \n",
      " President-elect Barack Obama and congressional Democrats are crafting a plan to offer about $300 billion of tax cuts to individuals and businesses, a move aimed at attracting Republican support for an economic-stimulus package and prodding companies to create jobs.\n",
      "\n",
      "The size of the proposed tax cuts -- which would account for about 40% of a stimulus package that could reach $775 billion over two years -- is greater than many on both sides of the aisle in Congress had anticipated. It may make it  \n",
      "\n",
      "\n",
      "NYT Article beginning: \n",
      " President-elect Barack Obama plans to include about $300 billion in tax cuts for workers and businesses in his economic recovery program, advisers said Sunday, as his team seeks to win over Congressional skeptics worried that he was too focused on government spending.\n",
      "\n",
      "The legislation Mr. Obama is developing with Congressional Democrats will devote about 40 percent of the cost to tax cuts, including his centerpiece campaign promise to provide credits up to $500 for most workers, costing roughly \n"
     ]
    }
   ],
   "source": [
    "#Lets check out speech no 4 and the corresponding articles.\n",
    "print('Analysis result: \\n Speech \\t WSJ \\t NYT \\n',data['oba_results'][3].output,'\\t\\t',data['wsj_results'][3].output,'\\t',data['nyt_results'][3].output)\n",
    "print('Negative scores: \\n','Speech','\\t','WSJ','\\t','NYT','\\n',\n",
    "    round(data['oba_neg'][3],3),'\\t\\t',round(data['wsj_neg'][3],3),'\\t',round(data['nyt_neg'][3],3))\n",
    "print('Filename: \\n',data.iloc[3]['file'],'\\n\\n') #Seems to just be economy plans\n",
    "print('Speech beginning: \\n',data.iloc[3,2][0:500],'\\n\\n') #Indeed alot of negative words being used here\n",
    "print('WSJ Article beginning: \\n',data.iloc[3,3][0:500],'\\n\\n') #Maybe stuff like 'greater' can be seen as positive? - must check out POS-NEU scores\n",
    "print('NYT Article beginning: \\n',data.iloc[3,4][0:500]) #Neutral indeed"
   ]
  },
  {
   "cell_type": "code",
   "execution_count": 20,
   "metadata": {},
   "outputs": [
    {
     "name": "stdout",
     "output_type": "stream",
     "text": [
      "{'NEG': 0.004140180069953203, 'NEU': 0.4565861225128174, 'POS': 0.539273738861084}\n"
     ]
    }
   ],
   "source": [
    "print(data['wsj_results'][3].probas) #yeah seems like its just barely more positive than neutral"
   ]
  },
  {
   "cell_type": "code",
   "execution_count": 21,
   "metadata": {},
   "outputs": [],
   "source": [
    "#Set baseline for analyzer using diverse texts (doc2vec)\n",
    "#Tokenize texts for training\n",
    "\n",
    "#Train doc2vec on oba/wsj/nyt corpus\n",
    "\n",
    "#Identify where texts are located through the doc vector"
   ]
  },
  {
   "cell_type": "code",
   "execution_count": 149,
   "metadata": {},
   "outputs": [
    {
     "data": {
      "text/html": [
       "<div>\n",
       "<style scoped>\n",
       "    .dataframe tbody tr th:only-of-type {\n",
       "        vertical-align: middle;\n",
       "    }\n",
       "\n",
       "    .dataframe tbody tr th {\n",
       "        vertical-align: top;\n",
       "    }\n",
       "\n",
       "    .dataframe thead th {\n",
       "        text-align: right;\n",
       "    }\n",
       "</style>\n",
       "<table border=\"1\" class=\"dataframe\">\n",
       "  <thead>\n",
       "    <tr style=\"text-align: right;\">\n",
       "      <th></th>\n",
       "      <th>Unnamed: 0</th>\n",
       "      <th>file</th>\n",
       "      <th>text_oba</th>\n",
       "      <th>text_wsj</th>\n",
       "      <th>text_nyt</th>\n",
       "      <th>date</th>\n",
       "      <th>oba_results</th>\n",
       "      <th>oba_pos</th>\n",
       "      <th>oba_neu</th>\n",
       "      <th>oba_neg</th>\n",
       "      <th>wsj_results</th>\n",
       "      <th>nyt_results</th>\n",
       "      <th>wsj_pos</th>\n",
       "      <th>wsj_neu</th>\n",
       "      <th>wsj_neg</th>\n",
       "      <th>nyt_pos</th>\n",
       "      <th>nyt_neu</th>\n",
       "      <th>nyt_neg</th>\n",
       "    </tr>\n",
       "  </thead>\n",
       "  <tbody>\n",
       "    <tr>\n",
       "      <th>0</th>\n",
       "      <td>0</td>\n",
       "      <td>2004-07-28-DNCSpeech.txt</td>\n",
       "      <td>On behalf of the great state of Illinois, cros...</td>\n",
       "      <td>John Kerry's decorated service in Vietnam took...</td>\n",
       "      <td>Barack Obama took the dais as the keynote spea...</td>\n",
       "      <td>2004-07-28</td>\n",
       "      <td>AnalyzerOutput(output=POS, probas={POS: 0.984,...</td>\n",
       "      <td>0.984291</td>\n",
       "      <td>0.013740</td>\n",
       "      <td>0.001969</td>\n",
       "      <td>AnalyzerOutput(output=POS, probas={POS: 0.679,...</td>\n",
       "      <td>AnalyzerOutput(output=POS, probas={POS: 0.538,...</td>\n",
       "      <td>0.678627</td>\n",
       "      <td>0.318330</td>\n",
       "      <td>0.003043</td>\n",
       "      <td>0.537673</td>\n",
       "      <td>0.451160</td>\n",
       "      <td>0.011166</td>\n",
       "    </tr>\n",
       "    <tr>\n",
       "      <th>1</th>\n",
       "      <td>1</td>\n",
       "      <td>2008-06-04-ObamaNomination.txt</td>\n",
       "      <td>Thank you....Thank you. What a -- What a wonde...</td>\n",
       "      <td>Sen. Barack Obama captured enough convention d...</td>\n",
       "      <td>Senator Barack Obama claimed the Democratic pr...</td>\n",
       "      <td>2008-06-04</td>\n",
       "      <td>AnalyzerOutput(output=POS, probas={POS: 0.992,...</td>\n",
       "      <td>0.991954</td>\n",
       "      <td>0.006306</td>\n",
       "      <td>0.001740</td>\n",
       "      <td>AnalyzerOutput(output=POS, probas={POS: 0.808,...</td>\n",
       "      <td>AnalyzerOutput(output=POS, probas={POS: 0.532,...</td>\n",
       "      <td>0.807944</td>\n",
       "      <td>0.189637</td>\n",
       "      <td>0.002419</td>\n",
       "      <td>0.532222</td>\n",
       "      <td>0.463911</td>\n",
       "      <td>0.003867</td>\n",
       "    </tr>\n",
       "    <tr>\n",
       "      <th>2</th>\n",
       "      <td>2</td>\n",
       "      <td>2008-11-05-ObamaElected.txt</td>\n",
       "      <td>Hello, Chicago.\\n\\nIf there is anyone out ther...</td>\n",
       "      <td>Sen. Barack Obama was elected the nation's fir...</td>\n",
       "      <td>Barack Hussein Obama was elected the 44th pres...</td>\n",
       "      <td>2008-11-05</td>\n",
       "      <td>AnalyzerOutput(output=NEU, probas={NEU: 0.795,...</td>\n",
       "      <td>0.164156</td>\n",
       "      <td>0.794787</td>\n",
       "      <td>0.041057</td>\n",
       "      <td>AnalyzerOutput(output=POS, probas={POS: 0.647,...</td>\n",
       "      <td>AnalyzerOutput(output=POS, probas={POS: 0.900,...</td>\n",
       "      <td>0.646581</td>\n",
       "      <td>0.347354</td>\n",
       "      <td>0.006064</td>\n",
       "      <td>0.899753</td>\n",
       "      <td>0.097999</td>\n",
       "      <td>0.002248</td>\n",
       "    </tr>\n",
       "    <tr>\n",
       "      <th>3</th>\n",
       "      <td>3</td>\n",
       "      <td>2009-01-05-EconomyPlans.txt</td>\n",
       "      <td>All right. Well, thanks for taking the time to...</td>\n",
       "      <td>President-elect Barack Obama and congressional...</td>\n",
       "      <td>President-elect Barack Obama plans to include ...</td>\n",
       "      <td>2009-01-05</td>\n",
       "      <td>AnalyzerOutput(output=NEG, probas={NEG: 0.909,...</td>\n",
       "      <td>0.008281</td>\n",
       "      <td>0.083071</td>\n",
       "      <td>0.908647</td>\n",
       "      <td>AnalyzerOutput(output=POS, probas={POS: 0.539,...</td>\n",
       "      <td>AnalyzerOutput(output=NEU, probas={NEU: 0.617,...</td>\n",
       "      <td>0.539274</td>\n",
       "      <td>0.456586</td>\n",
       "      <td>0.004140</td>\n",
       "      <td>0.377001</td>\n",
       "      <td>0.617145</td>\n",
       "      <td>0.005854</td>\n",
       "    </tr>\n",
       "    <tr>\n",
       "      <th>4</th>\n",
       "      <td>4</td>\n",
       "      <td>2009-01-20-Inauguration.txt</td>\n",
       "      <td>I, Barack Hussein Obama, do solemnly swear tha...</td>\n",
       "      <td>On a day rich in history, Barack Obama was swo...</td>\n",
       "      <td>Barack Hussein Obama was sworn in as the 44th ...</td>\n",
       "      <td>2009-01-20</td>\n",
       "      <td>AnalyzerOutput(output=POS, probas={POS: 0.985,...</td>\n",
       "      <td>0.984908</td>\n",
       "      <td>0.013792</td>\n",
       "      <td>0.001300</td>\n",
       "      <td>AnalyzerOutput(output=POS, probas={POS: 0.945,...</td>\n",
       "      <td>AnalyzerOutput(output=POS, probas={POS: 0.636,...</td>\n",
       "      <td>0.944956</td>\n",
       "      <td>0.053555</td>\n",
       "      <td>0.001489</td>\n",
       "      <td>0.636215</td>\n",
       "      <td>0.355996</td>\n",
       "      <td>0.007789</td>\n",
       "    </tr>\n",
       "  </tbody>\n",
       "</table>\n",
       "</div>"
      ],
      "text/plain": [
       "   Unnamed: 0                            file  \\\n",
       "0           0        2004-07-28-DNCSpeech.txt   \n",
       "1           1  2008-06-04-ObamaNomination.txt   \n",
       "2           2     2008-11-05-ObamaElected.txt   \n",
       "3           3     2009-01-05-EconomyPlans.txt   \n",
       "4           4     2009-01-20-Inauguration.txt   \n",
       "\n",
       "                                            text_oba  \\\n",
       "0  On behalf of the great state of Illinois, cros...   \n",
       "1  Thank you....Thank you. What a -- What a wonde...   \n",
       "2  Hello, Chicago.\\n\\nIf there is anyone out ther...   \n",
       "3  All right. Well, thanks for taking the time to...   \n",
       "4  I, Barack Hussein Obama, do solemnly swear tha...   \n",
       "\n",
       "                                            text_wsj  \\\n",
       "0  John Kerry's decorated service in Vietnam took...   \n",
       "1  Sen. Barack Obama captured enough convention d...   \n",
       "2  Sen. Barack Obama was elected the nation's fir...   \n",
       "3  President-elect Barack Obama and congressional...   \n",
       "4  On a day rich in history, Barack Obama was swo...   \n",
       "\n",
       "                                            text_nyt        date  \\\n",
       "0  Barack Obama took the dais as the keynote spea...  2004-07-28   \n",
       "1  Senator Barack Obama claimed the Democratic pr...  2008-06-04   \n",
       "2  Barack Hussein Obama was elected the 44th pres...  2008-11-05   \n",
       "3  President-elect Barack Obama plans to include ...  2009-01-05   \n",
       "4  Barack Hussein Obama was sworn in as the 44th ...  2009-01-20   \n",
       "\n",
       "                                         oba_results   oba_pos   oba_neu  \\\n",
       "0  AnalyzerOutput(output=POS, probas={POS: 0.984,...  0.984291  0.013740   \n",
       "1  AnalyzerOutput(output=POS, probas={POS: 0.992,...  0.991954  0.006306   \n",
       "2  AnalyzerOutput(output=NEU, probas={NEU: 0.795,...  0.164156  0.794787   \n",
       "3  AnalyzerOutput(output=NEG, probas={NEG: 0.909,...  0.008281  0.083071   \n",
       "4  AnalyzerOutput(output=POS, probas={POS: 0.985,...  0.984908  0.013792   \n",
       "\n",
       "    oba_neg                                        wsj_results  \\\n",
       "0  0.001969  AnalyzerOutput(output=POS, probas={POS: 0.679,...   \n",
       "1  0.001740  AnalyzerOutput(output=POS, probas={POS: 0.808,...   \n",
       "2  0.041057  AnalyzerOutput(output=POS, probas={POS: 0.647,...   \n",
       "3  0.908647  AnalyzerOutput(output=POS, probas={POS: 0.539,...   \n",
       "4  0.001300  AnalyzerOutput(output=POS, probas={POS: 0.945,...   \n",
       "\n",
       "                                         nyt_results   wsj_pos   wsj_neu  \\\n",
       "0  AnalyzerOutput(output=POS, probas={POS: 0.538,...  0.678627  0.318330   \n",
       "1  AnalyzerOutput(output=POS, probas={POS: 0.532,...  0.807944  0.189637   \n",
       "2  AnalyzerOutput(output=POS, probas={POS: 0.900,...  0.646581  0.347354   \n",
       "3  AnalyzerOutput(output=NEU, probas={NEU: 0.617,...  0.539274  0.456586   \n",
       "4  AnalyzerOutput(output=POS, probas={POS: 0.636,...  0.944956  0.053555   \n",
       "\n",
       "    wsj_neg   nyt_pos   nyt_neu   nyt_neg  \n",
       "0  0.003043  0.537673  0.451160  0.011166  \n",
       "1  0.002419  0.532222  0.463911  0.003867  \n",
       "2  0.006064  0.899753  0.097999  0.002248  \n",
       "3  0.004140  0.377001  0.617145  0.005854  \n",
       "4  0.001489  0.636215  0.355996  0.007789  "
      ]
     },
     "execution_count": 149,
     "metadata": {},
     "output_type": "execute_result"
    }
   ],
   "source": [
    "data.head()"
   ]
  },
  {
   "cell_type": "code",
   "execution_count": 150,
   "metadata": {},
   "outputs": [
    {
     "name": "stdout",
     "output_type": "stream",
     "text": [
      "303\n"
     ]
    },
    {
     "data": {
      "text/html": [
       "<div>\n",
       "<style scoped>\n",
       "    .dataframe tbody tr th:only-of-type {\n",
       "        vertical-align: middle;\n",
       "    }\n",
       "\n",
       "    .dataframe tbody tr th {\n",
       "        vertical-align: top;\n",
       "    }\n",
       "\n",
       "    .dataframe thead th {\n",
       "        text-align: right;\n",
       "    }\n",
       "</style>\n",
       "<table border=\"1\" class=\"dataframe\">\n",
       "  <thead>\n",
       "    <tr style=\"text-align: right;\">\n",
       "      <th></th>\n",
       "      <th>Source</th>\n",
       "      <th>Date</th>\n",
       "      <th>Text</th>\n",
       "      <th>Result</th>\n",
       "      <th>Resultint</th>\n",
       "    </tr>\n",
       "  </thead>\n",
       "  <tbody>\n",
       "    <tr>\n",
       "      <th>0</th>\n",
       "      <td>text_oba</td>\n",
       "      <td>2004-07-28</td>\n",
       "      <td>On behalf of the great state of Illinois, cros...</td>\n",
       "      <td>POS</td>\n",
       "      <td>1.0</td>\n",
       "    </tr>\n",
       "    <tr>\n",
       "      <th>1</th>\n",
       "      <td>text_oba</td>\n",
       "      <td>2008-06-04</td>\n",
       "      <td>Thank you....Thank you. What a -- What a wonde...</td>\n",
       "      <td>POS</td>\n",
       "      <td>1.0</td>\n",
       "    </tr>\n",
       "    <tr>\n",
       "      <th>2</th>\n",
       "      <td>text_oba</td>\n",
       "      <td>2008-11-05</td>\n",
       "      <td>Hello, Chicago.\\n\\nIf there is anyone out ther...</td>\n",
       "      <td>NEU</td>\n",
       "      <td>0.5</td>\n",
       "    </tr>\n",
       "    <tr>\n",
       "      <th>3</th>\n",
       "      <td>text_oba</td>\n",
       "      <td>2009-01-05</td>\n",
       "      <td>All right. Well, thanks for taking the time to...</td>\n",
       "      <td>NEG</td>\n",
       "      <td>0.0</td>\n",
       "    </tr>\n",
       "    <tr>\n",
       "      <th>4</th>\n",
       "      <td>text_oba</td>\n",
       "      <td>2009-01-20</td>\n",
       "      <td>I, Barack Hussein Obama, do solemnly swear tha...</td>\n",
       "      <td>POS</td>\n",
       "      <td>1.0</td>\n",
       "    </tr>\n",
       "  </tbody>\n",
       "</table>\n",
       "</div>"
      ],
      "text/plain": [
       "     Source        Date                                               Text  \\\n",
       "0  text_oba  2004-07-28  On behalf of the great state of Illinois, cros...   \n",
       "1  text_oba  2008-06-04  Thank you....Thank you. What a -- What a wonde...   \n",
       "2  text_oba  2008-11-05  Hello, Chicago.\\n\\nIf there is anyone out ther...   \n",
       "3  text_oba  2009-01-05  All right. Well, thanks for taking the time to...   \n",
       "4  text_oba  2009-01-20  I, Barack Hussein Obama, do solemnly swear tha...   \n",
       "\n",
       "  Result  Resultint  \n",
       "0    POS        1.0  \n",
       "1    POS        1.0  \n",
       "2    NEU        0.5  \n",
       "3    NEG        0.0  \n",
       "4    POS        1.0  "
      ]
     },
     "execution_count": 150,
     "metadata": {},
     "output_type": "execute_result"
    }
   ],
   "source": [
    "#Reformat data to long format for use in doc2vec corpus\n",
    "texts=[]\n",
    "sources=[]\n",
    "output=[]\n",
    "date=[]\n",
    "score=[]\n",
    "for column in ['text_oba','text_wsj','text_nyt']:\n",
    "    for i in range(0,len(data)):\n",
    "        texts.append(data[column][i])\n",
    "        sources.append(column)\n",
    "        date.append(data['date'][i])\n",
    "        \n",
    "for scores in ['oba_results','wsj_results','nyt_results']:\n",
    "    for i in range(0,len(data)):\n",
    "        output.append(data[scores][i].output)\n",
    "        if data[scores][i].output=='POS':\n",
    "            score.append(1)\n",
    "        elif data[scores][i].output=='NEG':\n",
    "            score.append(0)\n",
    "        else:\n",
    "            score.append(0.5)\n",
    "D2Vdata = pd.DataFrame(data={'Source':sources,'Date':date,'Text':texts,'Result':output,'Resultint':score})\n",
    "print(len(D2Vdata))\n",
    "D2Vdata.head()"
   ]
  },
  {
   "cell_type": "code",
   "execution_count": 151,
   "metadata": {},
   "outputs": [],
   "source": [
    "#Clean up text, train-test split(MIGHT NEED REVIEW), tokenize using nltk + tag set of tokens by sentiment score \n",
    "from bs4 import BeautifulSoup\n",
    "import re\n",
    "from sklearn.model_selection import train_test_split\n",
    "from gensim.models.doc2vec import TaggedDocument\n",
    "def cleanText(text):\n",
    "    text = BeautifulSoup(text, \"lxml\").text\n",
    "    text = re.sub(r'\\|\\|\\|', r' ', text) \n",
    "    text = re.sub(r'http\\S+', r'<URL>', text)\n",
    "    text = text.lower()\n",
    "    text = text.replace('x', '')\n",
    "    return text\n",
    "D2Vdata['Text'] = D2Vdata['Text'].apply(cleanText)\n",
    "\n",
    "x_train, x_test, y_train, y_test = train_test_split(D2Vdata.drop(['Resultint','Result'],axis=1),D2Vdata.Resultint, test_size=0.3, random_state=42, shuffle=True)\n",
    "x_all = D2Vdata.drop(['Resultint','Result'],axis=1)\n",
    "def tokenize_text(text):\n",
    "    tokens = []\n",
    "    for sent in nltk.sent_tokenize(text):\n",
    "        for word in nltk.word_tokenize(sent):\n",
    "            if len(word) < 2:\n",
    "                continue\n",
    "            tokens.append(word.lower())\n",
    "    return tokens\n",
    "all_tagged = x_all.apply(\n",
    "    lambda r: TaggedDocument(words=tokenize_text(r['Text']), tags=[r['Source'] + '_%s' % r['Date']]), axis=1)\n",
    "train_tagged = x_train.apply(\n",
    "    lambda r: TaggedDocument(words=tokenize_text(r['Text']), tags=[r['Source'] + '_%s' % r['Date']]), axis=1)\n",
    "test_tagged = x_test.apply(\n",
    "    lambda r: TaggedDocument(words=tokenize_text(r['Text']), tags=[r['Source'] + '_%s' % r['Date']]), axis=1)"
   ]
  },
  {
   "cell_type": "code",
   "execution_count": 152,
   "metadata": {},
   "outputs": [],
   "source": [
    "#Initialize doc2vec DBOW model\n",
    "import multiprocessing\n",
    "cores=multiprocessing.cpu_count()\n",
    "model_d2v = Doc2Vec(dm=0, vector_size=300, negative=5, hs=0, min_count=2, sample=0, workers=cores)\n",
    "model_d2v.build_vocab([x for x in all_tagged.values])"
   ]
  },
  {
   "cell_type": "code",
   "execution_count": 153,
   "metadata": {},
   "outputs": [],
   "source": [
    "#Train model for 50 epochs\n",
    "from sklearn import utils\n",
    "for i in range(50):\n",
    "    model_d2v.train(utils.shuffle([x for x in all_tagged.values]), total_examples=len(all_tagged.values),epochs=1)\n",
    "    model_d2v.alpha=-0.002\n",
    "    model_d2v.min_alpha=model_d2v.alpha"
   ]
  },
  {
   "cell_type": "code",
   "execution_count": 26,
   "metadata": {},
   "outputs": [
    {
     "name": "stderr",
     "output_type": "stream",
     "text": [
      "c:\\Users\\Kylan\\anaconda3\\envs\\blauwe_kater\\lib\\site-packages\\sklearn\\utils\\deprecation.py:87: FutureWarning:\n",
      "\n",
      "Function get_feature_names is deprecated; get_feature_names is deprecated in 1.0 and will be removed in 1.2. Please use get_feature_names_out instead.\n",
      "\n"
     ]
    },
    {
     "name": "stdout",
     "output_type": "stream",
     "text": [
      "Epoch 1/100\n",
      "7/7 - 1s - loss: 0.6635 - accuracy: 0.4245 - 624ms/epoch - 89ms/step\n",
      "Epoch 2/100\n",
      "7/7 - 0s - loss: 0.4555 - accuracy: 0.5708 - 14ms/epoch - 2ms/step\n",
      "Epoch 3/100\n",
      "7/7 - 0s - loss: 0.3763 - accuracy: 0.5849 - 13ms/epoch - 2ms/step\n",
      "Epoch 4/100\n",
      "7/7 - 0s - loss: 0.3302 - accuracy: 0.5943 - 15ms/epoch - 2ms/step\n",
      "Epoch 5/100\n",
      "7/7 - 0s - loss: 0.3248 - accuracy: 0.5943 - 14ms/epoch - 2ms/step\n",
      "Epoch 6/100\n",
      "7/7 - 0s - loss: 0.3330 - accuracy: 0.5943 - 14ms/epoch - 2ms/step\n",
      "Epoch 7/100\n",
      "7/7 - 0s - loss: 0.3183 - accuracy: 0.5943 - 14ms/epoch - 2ms/step\n",
      "Epoch 8/100\n",
      "7/7 - 0s - loss: 0.3133 - accuracy: 0.5943 - 14ms/epoch - 2ms/step\n",
      "Epoch 9/100\n",
      "7/7 - 0s - loss: 0.3030 - accuracy: 0.5943 - 13ms/epoch - 2ms/step\n",
      "Epoch 10/100\n",
      "7/7 - 0s - loss: 0.2993 - accuracy: 0.5943 - 14ms/epoch - 2ms/step\n",
      "Epoch 11/100\n",
      "7/7 - 0s - loss: 0.2942 - accuracy: 0.5943 - 13ms/epoch - 2ms/step\n",
      "Epoch 12/100\n",
      "7/7 - 0s - loss: 0.2969 - accuracy: 0.5943 - 15ms/epoch - 2ms/step\n",
      "Epoch 13/100\n",
      "7/7 - 0s - loss: 0.2966 - accuracy: 0.5943 - 13ms/epoch - 2ms/step\n",
      "Epoch 14/100\n",
      "7/7 - 0s - loss: 0.2985 - accuracy: 0.5943 - 13ms/epoch - 2ms/step\n",
      "Epoch 15/100\n",
      "7/7 - 0s - loss: 0.2945 - accuracy: 0.5943 - 14ms/epoch - 2ms/step\n",
      "Epoch 16/100\n",
      "7/7 - 0s - loss: 0.2918 - accuracy: 0.5943 - 14ms/epoch - 2ms/step\n",
      "Epoch 17/100\n",
      "7/7 - 0s - loss: 0.2871 - accuracy: 0.5943 - 13ms/epoch - 2ms/step\n",
      "Epoch 18/100\n",
      "7/7 - 0s - loss: 0.2879 - accuracy: 0.5943 - 12ms/epoch - 2ms/step\n",
      "Epoch 19/100\n",
      "7/7 - 0s - loss: 0.2893 - accuracy: 0.5943 - 13ms/epoch - 2ms/step\n",
      "Epoch 20/100\n",
      "7/7 - 0s - loss: 0.2889 - accuracy: 0.5943 - 13ms/epoch - 2ms/step\n",
      "Epoch 21/100\n",
      "7/7 - 0s - loss: 0.2925 - accuracy: 0.5943 - 13ms/epoch - 2ms/step\n",
      "Epoch 22/100\n",
      "7/7 - 0s - loss: 0.2902 - accuracy: 0.5943 - 14ms/epoch - 2ms/step\n",
      "Epoch 23/100\n",
      "7/7 - 0s - loss: 0.2941 - accuracy: 0.5943 - 14ms/epoch - 2ms/step\n",
      "Epoch 24/100\n",
      "7/7 - 0s - loss: 0.2898 - accuracy: 0.5943 - 14ms/epoch - 2ms/step\n",
      "Epoch 25/100\n",
      "7/7 - 0s - loss: 0.2917 - accuracy: 0.5943 - 13ms/epoch - 2ms/step\n",
      "Epoch 26/100\n",
      "7/7 - 0s - loss: 0.2878 - accuracy: 0.5943 - 14ms/epoch - 2ms/step\n",
      "Epoch 27/100\n",
      "7/7 - 0s - loss: 0.2857 - accuracy: 0.5943 - 13ms/epoch - 2ms/step\n",
      "Epoch 28/100\n",
      "7/7 - 0s - loss: 0.2848 - accuracy: 0.5943 - 16ms/epoch - 2ms/step\n",
      "Epoch 29/100\n",
      "7/7 - 0s - loss: 0.2838 - accuracy: 0.5943 - 13ms/epoch - 2ms/step\n",
      "Epoch 30/100\n",
      "7/7 - 0s - loss: 0.2841 - accuracy: 0.5943 - 15ms/epoch - 2ms/step\n",
      "Epoch 31/100\n",
      "7/7 - 0s - loss: 0.2856 - accuracy: 0.5943 - 14ms/epoch - 2ms/step\n",
      "Epoch 32/100\n",
      "7/7 - 0s - loss: 0.2868 - accuracy: 0.5943 - 15ms/epoch - 2ms/step\n",
      "Epoch 33/100\n",
      "7/7 - 0s - loss: 0.2883 - accuracy: 0.5943 - 14ms/epoch - 2ms/step\n",
      "Epoch 34/100\n",
      "7/7 - 0s - loss: 0.2886 - accuracy: 0.5943 - 17ms/epoch - 2ms/step\n",
      "Epoch 35/100\n",
      "7/7 - 0s - loss: 0.2884 - accuracy: 0.5943 - 12ms/epoch - 2ms/step\n",
      "Epoch 36/100\n",
      "7/7 - 0s - loss: 0.2863 - accuracy: 0.5943 - 16ms/epoch - 2ms/step\n",
      "Epoch 37/100\n",
      "7/7 - 0s - loss: 0.2874 - accuracy: 0.5943 - 15ms/epoch - 2ms/step\n",
      "Epoch 38/100\n",
      "7/7 - 0s - loss: 0.2852 - accuracy: 0.5943 - 13ms/epoch - 2ms/step\n",
      "Epoch 39/100\n",
      "7/7 - 0s - loss: 0.2874 - accuracy: 0.5943 - 15ms/epoch - 2ms/step\n",
      "Epoch 40/100\n",
      "7/7 - 0s - loss: 0.2862 - accuracy: 0.5943 - 13ms/epoch - 2ms/step\n",
      "Epoch 41/100\n",
      "7/7 - 0s - loss: 0.2860 - accuracy: 0.5943 - 16ms/epoch - 2ms/step\n",
      "Epoch 42/100\n",
      "7/7 - 0s - loss: 0.2870 - accuracy: 0.5943 - 14ms/epoch - 2ms/step\n",
      "Epoch 43/100\n",
      "7/7 - 0s - loss: 0.2884 - accuracy: 0.5943 - 14ms/epoch - 2ms/step\n",
      "Epoch 44/100\n",
      "7/7 - 0s - loss: 0.2896 - accuracy: 0.5943 - 14ms/epoch - 2ms/step\n",
      "Epoch 45/100\n",
      "7/7 - 0s - loss: 0.2915 - accuracy: 0.5943 - 14ms/epoch - 2ms/step\n",
      "Epoch 46/100\n",
      "7/7 - 0s - loss: 0.2895 - accuracy: 0.5943 - 14ms/epoch - 2ms/step\n",
      "Epoch 47/100\n",
      "7/7 - 0s - loss: 0.2891 - accuracy: 0.5943 - 12ms/epoch - 2ms/step\n",
      "Epoch 48/100\n",
      "7/7 - 0s - loss: 0.2868 - accuracy: 0.5943 - 13ms/epoch - 2ms/step\n",
      "Epoch 49/100\n",
      "7/7 - 0s - loss: 0.2845 - accuracy: 0.5943 - 15ms/epoch - 2ms/step\n",
      "Epoch 50/100\n",
      "7/7 - 0s - loss: 0.2834 - accuracy: 0.5943 - 14ms/epoch - 2ms/step\n",
      "Epoch 51/100\n",
      "7/7 - 0s - loss: 0.2828 - accuracy: 0.5943 - 14ms/epoch - 2ms/step\n",
      "Epoch 52/100\n",
      "7/7 - 0s - loss: 0.2830 - accuracy: 0.5943 - 13ms/epoch - 2ms/step\n",
      "Epoch 53/100\n",
      "7/7 - 0s - loss: 0.2826 - accuracy: 0.5943 - 13ms/epoch - 2ms/step\n",
      "Epoch 54/100\n",
      "7/7 - 0s - loss: 0.2824 - accuracy: 0.5943 - 14ms/epoch - 2ms/step\n",
      "Epoch 55/100\n",
      "7/7 - 0s - loss: 0.2820 - accuracy: 0.5943 - 15ms/epoch - 2ms/step\n",
      "Epoch 56/100\n",
      "7/7 - 0s - loss: 0.2817 - accuracy: 0.5943 - 13ms/epoch - 2ms/step\n",
      "Epoch 57/100\n",
      "7/7 - 0s - loss: 0.2816 - accuracy: 0.5943 - 15ms/epoch - 2ms/step\n",
      "Epoch 58/100\n",
      "7/7 - 0s - loss: 0.2816 - accuracy: 0.5943 - 14ms/epoch - 2ms/step\n",
      "Epoch 59/100\n",
      "7/7 - 0s - loss: 0.2815 - accuracy: 0.5943 - 13ms/epoch - 2ms/step\n",
      "Epoch 60/100\n",
      "7/7 - 0s - loss: 0.2815 - accuracy: 0.5943 - 14ms/epoch - 2ms/step\n",
      "Epoch 61/100\n",
      "7/7 - 0s - loss: 0.2814 - accuracy: 0.5943 - 16ms/epoch - 2ms/step\n",
      "Epoch 62/100\n",
      "7/7 - 0s - loss: 0.2813 - accuracy: 0.5943 - 14ms/epoch - 2ms/step\n",
      "Epoch 63/100\n",
      "7/7 - 0s - loss: 0.2813 - accuracy: 0.5943 - 15ms/epoch - 2ms/step\n",
      "Epoch 64/100\n",
      "7/7 - 0s - loss: 0.2813 - accuracy: 0.5943 - 14ms/epoch - 2ms/step\n",
      "Epoch 65/100\n",
      "7/7 - 0s - loss: 0.2813 - accuracy: 0.5943 - 13ms/epoch - 2ms/step\n",
      "Epoch 66/100\n",
      "7/7 - 0s - loss: 0.2813 - accuracy: 0.5943 - 15ms/epoch - 2ms/step\n",
      "Epoch 67/100\n",
      "7/7 - 0s - loss: 0.2813 - accuracy: 0.5943 - 14ms/epoch - 2ms/step\n",
      "Epoch 68/100\n",
      "7/7 - 0s - loss: 0.2813 - accuracy: 0.5943 - 13ms/epoch - 2ms/step\n",
      "Epoch 69/100\n",
      "7/7 - 0s - loss: 0.2813 - accuracy: 0.5943 - 14ms/epoch - 2ms/step\n",
      "Epoch 70/100\n",
      "7/7 - 0s - loss: 0.2813 - accuracy: 0.5943 - 12ms/epoch - 2ms/step\n",
      "Epoch 71/100\n",
      "7/7 - 0s - loss: 0.2813 - accuracy: 0.5943 - 13ms/epoch - 2ms/step\n",
      "Epoch 72/100\n",
      "7/7 - 0s - loss: 0.2813 - accuracy: 0.5943 - 13ms/epoch - 2ms/step\n",
      "Epoch 73/100\n",
      "7/7 - 0s - loss: 0.2813 - accuracy: 0.5943 - 14ms/epoch - 2ms/step\n",
      "Epoch 74/100\n",
      "7/7 - 0s - loss: 0.2813 - accuracy: 0.5943 - 15ms/epoch - 2ms/step\n",
      "Epoch 75/100\n",
      "7/7 - 0s - loss: 0.2813 - accuracy: 0.5943 - 13ms/epoch - 2ms/step\n",
      "Epoch 76/100\n",
      "7/7 - 0s - loss: 0.2813 - accuracy: 0.5943 - 15ms/epoch - 2ms/step\n",
      "Epoch 77/100\n",
      "7/7 - 0s - loss: 0.2813 - accuracy: 0.5943 - 14ms/epoch - 2ms/step\n",
      "Epoch 78/100\n",
      "7/7 - 0s - loss: 0.2813 - accuracy: 0.5943 - 15ms/epoch - 2ms/step\n",
      "Epoch 79/100\n",
      "7/7 - 0s - loss: 0.2814 - accuracy: 0.5943 - 14ms/epoch - 2ms/step\n",
      "Epoch 80/100\n",
      "7/7 - 0s - loss: 0.2814 - accuracy: 0.5943 - 14ms/epoch - 2ms/step\n",
      "Epoch 81/100\n",
      "7/7 - 0s - loss: 0.2815 - accuracy: 0.5943 - 14ms/epoch - 2ms/step\n",
      "Epoch 82/100\n",
      "7/7 - 0s - loss: 0.2815 - accuracy: 0.5943 - 14ms/epoch - 2ms/step\n",
      "Epoch 83/100\n",
      "7/7 - 0s - loss: 0.2816 - accuracy: 0.5943 - 16ms/epoch - 2ms/step\n",
      "Epoch 84/100\n",
      "7/7 - 0s - loss: 0.2817 - accuracy: 0.5943 - 14ms/epoch - 2ms/step\n",
      "Epoch 85/100\n",
      "7/7 - 0s - loss: 0.2818 - accuracy: 0.5943 - 15ms/epoch - 2ms/step\n",
      "Epoch 86/100\n",
      "7/7 - 0s - loss: 0.2820 - accuracy: 0.5943 - 14ms/epoch - 2ms/step\n",
      "Epoch 87/100\n",
      "7/7 - 0s - loss: 0.2822 - accuracy: 0.5943 - 15ms/epoch - 2ms/step\n",
      "Epoch 88/100\n",
      "7/7 - 0s - loss: 0.2824 - accuracy: 0.5943 - 15ms/epoch - 2ms/step\n",
      "Epoch 89/100\n",
      "7/7 - 0s - loss: 0.2826 - accuracy: 0.5943 - 15ms/epoch - 2ms/step\n",
      "Epoch 90/100\n",
      "7/7 - 0s - loss: 0.2826 - accuracy: 0.5943 - 14ms/epoch - 2ms/step\n",
      "Epoch 91/100\n",
      "7/7 - 0s - loss: 0.2826 - accuracy: 0.5943 - 14ms/epoch - 2ms/step\n",
      "Epoch 92/100\n",
      "7/7 - 0s - loss: 0.2828 - accuracy: 0.5943 - 14ms/epoch - 2ms/step\n",
      "Epoch 93/100\n",
      "7/7 - 0s - loss: 0.2827 - accuracy: 0.5943 - 14ms/epoch - 2ms/step\n",
      "Epoch 94/100\n",
      "7/7 - 0s - loss: 0.2823 - accuracy: 0.5943 - 13ms/epoch - 2ms/step\n",
      "Epoch 95/100\n",
      "7/7 - 0s - loss: 0.2818 - accuracy: 0.5943 - 13ms/epoch - 2ms/step\n",
      "Epoch 96/100\n",
      "7/7 - 0s - loss: 0.2818 - accuracy: 0.5943 - 15ms/epoch - 2ms/step\n",
      "Epoch 97/100\n",
      "7/7 - 0s - loss: 0.2817 - accuracy: 0.5943 - 14ms/epoch - 2ms/step\n",
      "Epoch 98/100\n",
      "7/7 - 0s - loss: 0.2816 - accuracy: 0.5943 - 16ms/epoch - 2ms/step\n",
      "Epoch 99/100\n",
      "7/7 - 0s - loss: 0.2815 - accuracy: 0.5943 - 13ms/epoch - 2ms/step\n",
      "Epoch 100/100\n",
      "7/7 - 0s - loss: 0.2814 - accuracy: 0.5943 - 17ms/epoch - 2ms/step\n",
      "1/1 - 0s - loss: 0.7848 - accuracy: 0.5385 - 156ms/epoch - 156ms/step\n",
      "0.5384615659713745\n"
     ]
    }
   ],
   "source": [
    "import numpy as np\n",
    "from sklearn.preprocessing import scale\n",
    "from keras.models import Sequential\n",
    "from keras.layers import Dense\n",
    "from sklearn.feature_extraction.text import TfidfVectorizer\n",
    "\n",
    "vectorizer=TfidfVectorizer(analyzer=lambda x: x, min_df=10)\n",
    "matrix = vectorizer.fit_transform([x.words for x in all_tagged])\n",
    "tfidf = dict(zip(vectorizer.get_feature_names(), vectorizer.idf_))\n",
    "def build_doc_Vector(tokens, size):\n",
    "    vec = np.zeros(size).reshape((1, size))\n",
    "    count = 0.\n",
    "    for word in tokens:\n",
    "        try:\n",
    "            vec += model_d2v[word].reshape((1, size)) * tfidf[word]\n",
    "            count += 1.\n",
    "        except KeyError: \n",
    "            continue\n",
    "    if count != 0:\n",
    "        vec /= count\n",
    "    return vec\n",
    "\n",
    "train_vecs_dbow = np.concatenate([build_doc_Vector(z, 300) for z in map(lambda x: x.words, train_tagged)])\n",
    "train_vecs_dbow = scale(train_vecs_dbow)\n",
    "val_vecs_dbow = np.concatenate([build_doc_Vector(z, 300) for z in map(lambda x: x.words, test_tagged)])\n",
    "val_vecs_dbow = scale(val_vecs_dbow)\n",
    "\n",
    "model1 = Sequential()\n",
    "model1.add(Dense(256, activation='relu', input_dim=300))\n",
    "model1.add(Dense(256, activation='relu'))\n",
    "model1.add(Dense(256, activation='relu'))\n",
    "model1.add(Dense(1, activation='sigmoid'))\n",
    "model1.compile(optimizer='adam',\n",
    "              loss='binary_crossentropy',\n",
    "              metrics=['accuracy'])\n",
    "\n",
    "model1.fit(train_vecs_dbow, y_train, epochs=100, batch_size=32, verbose=2)\n",
    "score = model1.evaluate(val_vecs_dbow, y_test, batch_size=128, verbose=2)\n",
    "print(score[1])"
   ]
  },
  {
   "cell_type": "code",
   "execution_count": 27,
   "metadata": {},
   "outputs": [
    {
     "name": "stdout",
     "output_type": "stream",
     "text": [
      "Epoch 1/100\n",
      "7/7 - 0s - loss: 0.6428 - accuracy: 0.4340 - 467ms/epoch - 67ms/step\n",
      "Epoch 2/100\n",
      "7/7 - 0s - loss: 0.5066 - accuracy: 0.5425 - 13ms/epoch - 2ms/step\n",
      "Epoch 3/100\n",
      "7/7 - 0s - loss: 0.4568 - accuracy: 0.5755 - 13ms/epoch - 2ms/step\n",
      "Epoch 4/100\n",
      "7/7 - 0s - loss: 0.4301 - accuracy: 0.5708 - 14ms/epoch - 2ms/step\n",
      "Epoch 5/100\n",
      "7/7 - 0s - loss: 0.4075 - accuracy: 0.5802 - 14ms/epoch - 2ms/step\n",
      "Epoch 6/100\n",
      "7/7 - 0s - loss: 0.3739 - accuracy: 0.5896 - 15ms/epoch - 2ms/step\n",
      "Epoch 7/100\n",
      "7/7 - 0s - loss: 0.3578 - accuracy: 0.5943 - 14ms/epoch - 2ms/step\n",
      "Epoch 8/100\n",
      "7/7 - 0s - loss: 0.3428 - accuracy: 0.5896 - 14ms/epoch - 2ms/step\n",
      "Epoch 9/100\n",
      "7/7 - 0s - loss: 0.3242 - accuracy: 0.5943 - 14ms/epoch - 2ms/step\n",
      "Epoch 10/100\n",
      "7/7 - 0s - loss: 0.3140 - accuracy: 0.5943 - 15ms/epoch - 2ms/step\n",
      "Epoch 11/100\n",
      "7/7 - 0s - loss: 0.3062 - accuracy: 0.5943 - 13ms/epoch - 2ms/step\n",
      "Epoch 12/100\n",
      "7/7 - 0s - loss: 0.3137 - accuracy: 0.5943 - 15ms/epoch - 2ms/step\n",
      "Epoch 13/100\n",
      "7/7 - 0s - loss: 0.3171 - accuracy: 0.5943 - 13ms/epoch - 2ms/step\n",
      "Epoch 14/100\n",
      "7/7 - 0s - loss: 0.3141 - accuracy: 0.5943 - 14ms/epoch - 2ms/step\n",
      "Epoch 15/100\n",
      "7/7 - 0s - loss: 0.3112 - accuracy: 0.5943 - 12ms/epoch - 2ms/step\n",
      "Epoch 16/100\n",
      "7/7 - 0s - loss: 0.3069 - accuracy: 0.5943 - 13ms/epoch - 2ms/step\n",
      "Epoch 17/100\n",
      "7/7 - 0s - loss: 0.3033 - accuracy: 0.5943 - 12ms/epoch - 2ms/step\n",
      "Epoch 18/100\n",
      "7/7 - 0s - loss: 0.2947 - accuracy: 0.5943 - 13ms/epoch - 2ms/step\n",
      "Epoch 19/100\n",
      "7/7 - 0s - loss: 0.2960 - accuracy: 0.5943 - 13ms/epoch - 2ms/step\n",
      "Epoch 20/100\n",
      "7/7 - 0s - loss: 0.3029 - accuracy: 0.5943 - 15ms/epoch - 2ms/step\n",
      "Epoch 21/100\n",
      "7/7 - 0s - loss: 0.3062 - accuracy: 0.5943 - 13ms/epoch - 2ms/step\n",
      "Epoch 22/100\n",
      "7/7 - 0s - loss: 0.3153 - accuracy: 0.5943 - 14ms/epoch - 2ms/step\n",
      "Epoch 23/100\n",
      "7/7 - 0s - loss: 0.3174 - accuracy: 0.5943 - 14ms/epoch - 2ms/step\n",
      "Epoch 24/100\n",
      "7/7 - 0s - loss: 0.3094 - accuracy: 0.5943 - 15ms/epoch - 2ms/step\n",
      "Epoch 25/100\n",
      "7/7 - 0s - loss: 0.3006 - accuracy: 0.5943 - 13ms/epoch - 2ms/step\n",
      "Epoch 26/100\n",
      "7/7 - 0s - loss: 0.2982 - accuracy: 0.5943 - 14ms/epoch - 2ms/step\n",
      "Epoch 27/100\n",
      "7/7 - 0s - loss: 0.2933 - accuracy: 0.5943 - 14ms/epoch - 2ms/step\n",
      "Epoch 28/100\n",
      "7/7 - 0s - loss: 0.2940 - accuracy: 0.5943 - 13ms/epoch - 2ms/step\n",
      "Epoch 29/100\n",
      "7/7 - 0s - loss: 0.2934 - accuracy: 0.5943 - 15ms/epoch - 2ms/step\n",
      "Epoch 30/100\n",
      "7/7 - 0s - loss: 0.2934 - accuracy: 0.5943 - 12ms/epoch - 2ms/step\n",
      "Epoch 31/100\n",
      "7/7 - 0s - loss: 0.2879 - accuracy: 0.5943 - 15ms/epoch - 2ms/step\n",
      "Epoch 32/100\n",
      "7/7 - 0s - loss: 0.2866 - accuracy: 0.5943 - 14ms/epoch - 2ms/step\n",
      "Epoch 33/100\n",
      "7/7 - 0s - loss: 0.2865 - accuracy: 0.5943 - 15ms/epoch - 2ms/step\n",
      "Epoch 34/100\n",
      "7/7 - 0s - loss: 0.2874 - accuracy: 0.5943 - 13ms/epoch - 2ms/step\n",
      "Epoch 35/100\n",
      "7/7 - 0s - loss: 0.2924 - accuracy: 0.5943 - 14ms/epoch - 2ms/step\n",
      "Epoch 36/100\n",
      "7/7 - 0s - loss: 0.2907 - accuracy: 0.5943 - 12ms/epoch - 2ms/step\n",
      "Epoch 37/100\n",
      "7/7 - 0s - loss: 0.2896 - accuracy: 0.5943 - 26ms/epoch - 4ms/step\n",
      "Epoch 38/100\n",
      "7/7 - 0s - loss: 0.2901 - accuracy: 0.5943 - 18ms/epoch - 3ms/step\n",
      "Epoch 39/100\n",
      "7/7 - 0s - loss: 0.2881 - accuracy: 0.5943 - 15ms/epoch - 2ms/step\n",
      "Epoch 40/100\n",
      "7/7 - 0s - loss: 0.2879 - accuracy: 0.5943 - 16ms/epoch - 2ms/step\n",
      "Epoch 41/100\n",
      "7/7 - 0s - loss: 0.2870 - accuracy: 0.5943 - 14ms/epoch - 2ms/step\n",
      "Epoch 42/100\n",
      "7/7 - 0s - loss: 0.2856 - accuracy: 0.5943 - 15ms/epoch - 2ms/step\n",
      "Epoch 43/100\n",
      "7/7 - 0s - loss: 0.2861 - accuracy: 0.5943 - 13ms/epoch - 2ms/step\n",
      "Epoch 44/100\n",
      "7/7 - 0s - loss: 0.2861 - accuracy: 0.5943 - 15ms/epoch - 2ms/step\n",
      "Epoch 45/100\n",
      "7/7 - 0s - loss: 0.2841 - accuracy: 0.5943 - 13ms/epoch - 2ms/step\n",
      "Epoch 46/100\n",
      "7/7 - 0s - loss: 0.2861 - accuracy: 0.5943 - 16ms/epoch - 2ms/step\n",
      "Epoch 47/100\n",
      "7/7 - 0s - loss: 0.2851 - accuracy: 0.5943 - 15ms/epoch - 2ms/step\n",
      "Epoch 48/100\n",
      "7/7 - 0s - loss: 0.2841 - accuracy: 0.5943 - 15ms/epoch - 2ms/step\n",
      "Epoch 49/100\n",
      "7/7 - 0s - loss: 0.2839 - accuracy: 0.5943 - 12ms/epoch - 2ms/step\n",
      "Epoch 50/100\n",
      "7/7 - 0s - loss: 0.2839 - accuracy: 0.5943 - 13ms/epoch - 2ms/step\n",
      "Epoch 51/100\n",
      "7/7 - 0s - loss: 0.2834 - accuracy: 0.5943 - 12ms/epoch - 2ms/step\n",
      "Epoch 52/100\n",
      "7/7 - 0s - loss: 0.2834 - accuracy: 0.5943 - 14ms/epoch - 2ms/step\n",
      "Epoch 53/100\n",
      "7/7 - 0s - loss: 0.2835 - accuracy: 0.5943 - 13ms/epoch - 2ms/step\n",
      "Epoch 54/100\n",
      "7/7 - 0s - loss: 0.2835 - accuracy: 0.5943 - 12ms/epoch - 2ms/step\n",
      "Epoch 55/100\n",
      "7/7 - 0s - loss: 0.2837 - accuracy: 0.5943 - 13ms/epoch - 2ms/step\n",
      "Epoch 56/100\n",
      "7/7 - 0s - loss: 0.2835 - accuracy: 0.5943 - 15ms/epoch - 2ms/step\n",
      "Epoch 57/100\n",
      "7/7 - 0s - loss: 0.2835 - accuracy: 0.5943 - 13ms/epoch - 2ms/step\n",
      "Epoch 58/100\n",
      "7/7 - 0s - loss: 0.2838 - accuracy: 0.5943 - 14ms/epoch - 2ms/step\n",
      "Epoch 59/100\n",
      "7/7 - 0s - loss: 0.2846 - accuracy: 0.5943 - 14ms/epoch - 2ms/step\n",
      "Epoch 60/100\n",
      "7/7 - 0s - loss: 0.2855 - accuracy: 0.5943 - 14ms/epoch - 2ms/step\n",
      "Epoch 61/100\n",
      "7/7 - 0s - loss: 0.2846 - accuracy: 0.5943 - 13ms/epoch - 2ms/step\n",
      "Epoch 62/100\n",
      "7/7 - 0s - loss: 0.2860 - accuracy: 0.5943 - 13ms/epoch - 2ms/step\n",
      "Epoch 63/100\n",
      "7/7 - 0s - loss: 0.2857 - accuracy: 0.5943 - 15ms/epoch - 2ms/step\n",
      "Epoch 64/100\n",
      "7/7 - 0s - loss: 0.2862 - accuracy: 0.5943 - 13ms/epoch - 2ms/step\n",
      "Epoch 65/100\n",
      "7/7 - 0s - loss: 0.2862 - accuracy: 0.5943 - 14ms/epoch - 2ms/step\n",
      "Epoch 66/100\n",
      "7/7 - 0s - loss: 0.2864 - accuracy: 0.5943 - 12ms/epoch - 2ms/step\n",
      "Epoch 67/100\n",
      "7/7 - 0s - loss: 0.2868 - accuracy: 0.5943 - 15ms/epoch - 2ms/step\n",
      "Epoch 68/100\n",
      "7/7 - 0s - loss: 0.2888 - accuracy: 0.5943 - 12ms/epoch - 2ms/step\n",
      "Epoch 69/100\n",
      "7/7 - 0s - loss: 0.2895 - accuracy: 0.5943 - 14ms/epoch - 2ms/step\n",
      "Epoch 70/100\n",
      "7/7 - 0s - loss: 0.2863 - accuracy: 0.5943 - 13ms/epoch - 2ms/step\n",
      "Epoch 71/100\n",
      "7/7 - 0s - loss: 0.2852 - accuracy: 0.5943 - 15ms/epoch - 2ms/step\n",
      "Epoch 72/100\n",
      "7/7 - 0s - loss: 0.2848 - accuracy: 0.5943 - 12ms/epoch - 2ms/step\n",
      "Epoch 73/100\n",
      "7/7 - 0s - loss: 0.2845 - accuracy: 0.5943 - 16ms/epoch - 2ms/step\n",
      "Epoch 74/100\n",
      "7/7 - 0s - loss: 0.2848 - accuracy: 0.5943 - 13ms/epoch - 2ms/step\n",
      "Epoch 75/100\n",
      "7/7 - 0s - loss: 0.2837 - accuracy: 0.5943 - 13ms/epoch - 2ms/step\n",
      "Epoch 76/100\n",
      "7/7 - 0s - loss: 0.2827 - accuracy: 0.5943 - 13ms/epoch - 2ms/step\n",
      "Epoch 77/100\n",
      "7/7 - 0s - loss: 0.2829 - accuracy: 0.5943 - 13ms/epoch - 2ms/step\n",
      "Epoch 78/100\n",
      "7/7 - 0s - loss: 0.2839 - accuracy: 0.5943 - 14ms/epoch - 2ms/step\n",
      "Epoch 79/100\n",
      "7/7 - 0s - loss: 0.2829 - accuracy: 0.5943 - 12ms/epoch - 2ms/step\n",
      "Epoch 80/100\n",
      "7/7 - 0s - loss: 0.2829 - accuracy: 0.5943 - 13ms/epoch - 2ms/step\n",
      "Epoch 81/100\n",
      "7/7 - 0s - loss: 0.2829 - accuracy: 0.5943 - 12ms/epoch - 2ms/step\n",
      "Epoch 82/100\n",
      "7/7 - 0s - loss: 0.2826 - accuracy: 0.5943 - 13ms/epoch - 2ms/step\n",
      "Epoch 83/100\n",
      "7/7 - 0s - loss: 0.2823 - accuracy: 0.5943 - 13ms/epoch - 2ms/step\n",
      "Epoch 84/100\n",
      "7/7 - 0s - loss: 0.2826 - accuracy: 0.5943 - 12ms/epoch - 2ms/step\n",
      "Epoch 85/100\n",
      "7/7 - 0s - loss: 0.2825 - accuracy: 0.5943 - 15ms/epoch - 2ms/step\n",
      "Epoch 86/100\n",
      "7/7 - 0s - loss: 0.2825 - accuracy: 0.5943 - 13ms/epoch - 2ms/step\n",
      "Epoch 87/100\n",
      "7/7 - 0s - loss: 0.2831 - accuracy: 0.5943 - 14ms/epoch - 2ms/step\n",
      "Epoch 88/100\n",
      "7/7 - 0s - loss: 0.2834 - accuracy: 0.5943 - 13ms/epoch - 2ms/step\n",
      "Epoch 89/100\n",
      "7/7 - 0s - loss: 0.2839 - accuracy: 0.5943 - 14ms/epoch - 2ms/step\n",
      "Epoch 90/100\n",
      "7/7 - 0s - loss: 0.2843 - accuracy: 0.5943 - 13ms/epoch - 2ms/step\n",
      "Epoch 91/100\n",
      "7/7 - 0s - loss: 0.2841 - accuracy: 0.5943 - 14ms/epoch - 2ms/step\n",
      "Epoch 92/100\n",
      "7/7 - 0s - loss: 0.2840 - accuracy: 0.5943 - 12ms/epoch - 2ms/step\n",
      "Epoch 93/100\n",
      "7/7 - 0s - loss: 0.2837 - accuracy: 0.5943 - 13ms/epoch - 2ms/step\n",
      "Epoch 94/100\n",
      "7/7 - 0s - loss: 0.2841 - accuracy: 0.5943 - 12ms/epoch - 2ms/step\n",
      "Epoch 95/100\n",
      "7/7 - 0s - loss: 0.2840 - accuracy: 0.5943 - 15ms/epoch - 2ms/step\n",
      "Epoch 96/100\n",
      "7/7 - 0s - loss: 0.2829 - accuracy: 0.5943 - 13ms/epoch - 2ms/step\n",
      "Epoch 97/100\n",
      "7/7 - 0s - loss: 0.2825 - accuracy: 0.5943 - 14ms/epoch - 2ms/step\n",
      "Epoch 98/100\n",
      "7/7 - 0s - loss: 0.2827 - accuracy: 0.5943 - 13ms/epoch - 2ms/step\n",
      "Epoch 99/100\n",
      "7/7 - 0s - loss: 0.2820 - accuracy: 0.5943 - 15ms/epoch - 2ms/step\n",
      "Epoch 100/100\n",
      "7/7 - 0s - loss: 0.2818 - accuracy: 0.5943 - 12ms/epoch - 2ms/step\n",
      "1/1 - 0s - loss: 0.8217 - accuracy: 0.4945 - 116ms/epoch - 116ms/step\n",
      "0.49450549483299255\n"
     ]
    }
   ],
   "source": [
    "model_dmc = Doc2Vec(dm=1, dm_concat=1, vector_size=200, window=2, negative=5, min_count=2, workers=cores, alpha=0.065, min_alpha=0.065)\n",
    "model_dmc.build_vocab([x for x in (all_tagged)])\n",
    "model_dmc.train(utils.shuffle([x for x in (all_tagged)]), total_examples=len(all_tagged), epochs=1)\n",
    "\n",
    "def build_doc_Vector(tokens, size):\n",
    "    vec = np.zeros(size).reshape((1, size))\n",
    "    count = 0.\n",
    "    for word in tokens:\n",
    "        try:\n",
    "            vec += model_dmc[word].reshape((1, size)) * tfidf[word]\n",
    "            count += 1.\n",
    "        except KeyError: \n",
    "            continue\n",
    "    if count != 0:\n",
    "        vec /= count\n",
    "    return vec\n",
    "\n",
    "  \n",
    "train_vecs_dmc = np.concatenate([build_doc_Vector(z, 200) for z in map(lambda x: x.words, train_tagged)])\n",
    "train_vecs_dmc = scale(train_vecs_dmc)\n",
    "\n",
    "\n",
    "val_vecs_dmc = np.concatenate([build_doc_Vector(z, 200) for z in map(lambda x: x.words, test_tagged)])\n",
    "val_vecs_dmc = scale(val_vecs_dmc)\n",
    "\n",
    "model = Sequential()\n",
    "model.add(Dense(256, activation='relu', input_dim=200))\n",
    "model.add(Dense(256, activation='relu'))\n",
    "model.add(Dense(256, activation='relu'))\n",
    "model.add(Dense(1, activation='sigmoid'))\n",
    "model.compile(optimizer='adam',\n",
    "              loss='binary_crossentropy',\n",
    "              metrics=['accuracy'])\n",
    "model.fit(train_vecs_dmc, y_train, epochs=100, batch_size=32, verbose=2)\n",
    "score = model.evaluate(val_vecs_dmc, y_test, batch_size=128, verbose=2)\n",
    "\n",
    "print(score[1])"
   ]
  },
  {
   "cell_type": "code",
   "execution_count": 28,
   "metadata": {},
   "outputs": [
    {
     "name": "stdout",
     "output_type": "stream",
     "text": [
      "Epoch 1/100\n",
      "7/7 - 0s - loss: 0.6302 - accuracy: 0.4953 - 482ms/epoch - 69ms/step\n",
      "Epoch 2/100\n",
      "7/7 - 0s - loss: 0.5046 - accuracy: 0.5425 - 13ms/epoch - 2ms/step\n",
      "Epoch 3/100\n",
      "7/7 - 0s - loss: 0.4733 - accuracy: 0.5472 - 16ms/epoch - 2ms/step\n",
      "Epoch 4/100\n",
      "7/7 - 0s - loss: 0.4627 - accuracy: 0.5613 - 14ms/epoch - 2ms/step\n",
      "Epoch 5/100\n",
      "7/7 - 0s - loss: 0.4379 - accuracy: 0.5708 - 19ms/epoch - 3ms/step\n",
      "Epoch 6/100\n",
      "7/7 - 0s - loss: 0.4181 - accuracy: 0.5849 - 16ms/epoch - 2ms/step\n",
      "Epoch 7/100\n",
      "7/7 - 0s - loss: 0.4193 - accuracy: 0.5755 - 17ms/epoch - 2ms/step\n",
      "Epoch 8/100\n",
      "7/7 - 0s - loss: 0.4071 - accuracy: 0.5802 - 15ms/epoch - 2ms/step\n",
      "Epoch 9/100\n",
      "7/7 - 0s - loss: 0.3918 - accuracy: 0.5755 - 15ms/epoch - 2ms/step\n",
      "Epoch 10/100\n",
      "7/7 - 0s - loss: 0.3895 - accuracy: 0.5849 - 14ms/epoch - 2ms/step\n",
      "Epoch 11/100\n",
      "7/7 - 0s - loss: 0.3764 - accuracy: 0.5802 - 14ms/epoch - 2ms/step\n",
      "Epoch 12/100\n",
      "7/7 - 0s - loss: 0.3882 - accuracy: 0.5849 - 16ms/epoch - 2ms/step\n",
      "Epoch 13/100\n",
      "7/7 - 0s - loss: 0.3643 - accuracy: 0.5896 - 13ms/epoch - 2ms/step\n",
      "Epoch 14/100\n",
      "7/7 - 0s - loss: 0.3545 - accuracy: 0.5896 - 16ms/epoch - 2ms/step\n",
      "Epoch 15/100\n",
      "7/7 - 0s - loss: 0.3548 - accuracy: 0.5849 - 14ms/epoch - 2ms/step\n",
      "Epoch 16/100\n",
      "7/7 - 0s - loss: 0.3481 - accuracy: 0.5943 - 16ms/epoch - 2ms/step\n",
      "Epoch 17/100\n",
      "7/7 - 0s - loss: 0.3432 - accuracy: 0.5849 - 15ms/epoch - 2ms/step\n",
      "Epoch 18/100\n",
      "7/7 - 0s - loss: 0.3370 - accuracy: 0.5896 - 15ms/epoch - 2ms/step\n",
      "Epoch 19/100\n",
      "7/7 - 0s - loss: 0.3438 - accuracy: 0.5896 - 13ms/epoch - 2ms/step\n",
      "Epoch 20/100\n",
      "7/7 - 0s - loss: 0.3285 - accuracy: 0.5943 - 16ms/epoch - 2ms/step\n",
      "Epoch 21/100\n",
      "7/7 - 0s - loss: 0.3329 - accuracy: 0.5943 - 14ms/epoch - 2ms/step\n",
      "Epoch 22/100\n",
      "7/7 - 0s - loss: 0.3332 - accuracy: 0.5896 - 13ms/epoch - 2ms/step\n",
      "Epoch 23/100\n",
      "7/7 - 0s - loss: 0.3473 - accuracy: 0.5896 - 15ms/epoch - 2ms/step\n",
      "Epoch 24/100\n",
      "7/7 - 0s - loss: 0.3596 - accuracy: 0.5849 - 14ms/epoch - 2ms/step\n",
      "Epoch 25/100\n",
      "7/7 - 0s - loss: 0.3477 - accuracy: 0.5896 - 16ms/epoch - 2ms/step\n",
      "Epoch 26/100\n",
      "7/7 - 0s - loss: 0.3269 - accuracy: 0.5943 - 13ms/epoch - 2ms/step\n",
      "Epoch 27/100\n",
      "7/7 - 0s - loss: 0.3173 - accuracy: 0.5943 - 15ms/epoch - 2ms/step\n",
      "Epoch 28/100\n",
      "7/7 - 0s - loss: 0.3102 - accuracy: 0.5943 - 14ms/epoch - 2ms/step\n",
      "Epoch 29/100\n",
      "7/7 - 0s - loss: 0.3055 - accuracy: 0.5943 - 15ms/epoch - 2ms/step\n",
      "Epoch 30/100\n",
      "7/7 - 0s - loss: 0.3082 - accuracy: 0.5943 - 14ms/epoch - 2ms/step\n",
      "Epoch 31/100\n",
      "7/7 - 0s - loss: 0.2991 - accuracy: 0.5943 - 15ms/epoch - 2ms/step\n",
      "Epoch 32/100\n",
      "7/7 - 0s - loss: 0.2986 - accuracy: 0.5943 - 15ms/epoch - 2ms/step\n",
      "Epoch 33/100\n",
      "7/7 - 0s - loss: 0.2971 - accuracy: 0.5943 - 15ms/epoch - 2ms/step\n",
      "Epoch 34/100\n",
      "7/7 - 0s - loss: 0.3040 - accuracy: 0.5943 - 15ms/epoch - 2ms/step\n",
      "Epoch 35/100\n",
      "7/7 - 0s - loss: 0.3111 - accuracy: 0.5943 - 14ms/epoch - 2ms/step\n",
      "Epoch 36/100\n",
      "7/7 - 0s - loss: 0.3094 - accuracy: 0.5943 - 15ms/epoch - 2ms/step\n",
      "Epoch 37/100\n",
      "7/7 - 0s - loss: 0.3184 - accuracy: 0.5896 - 14ms/epoch - 2ms/step\n",
      "Epoch 38/100\n",
      "7/7 - 0s - loss: 0.3132 - accuracy: 0.5943 - 16ms/epoch - 2ms/step\n",
      "Epoch 39/100\n",
      "7/7 - 0s - loss: 0.3183 - accuracy: 0.5943 - 14ms/epoch - 2ms/step\n",
      "Epoch 40/100\n",
      "7/7 - 0s - loss: 0.3112 - accuracy: 0.5943 - 15ms/epoch - 2ms/step\n",
      "Epoch 41/100\n",
      "7/7 - 0s - loss: 0.3076 - accuracy: 0.5943 - 14ms/epoch - 2ms/step\n",
      "Epoch 42/100\n",
      "7/7 - 0s - loss: 0.3123 - accuracy: 0.5943 - 17ms/epoch - 2ms/step\n",
      "Epoch 43/100\n",
      "7/7 - 0s - loss: 0.3072 - accuracy: 0.5943 - 15ms/epoch - 2ms/step\n",
      "Epoch 44/100\n",
      "7/7 - 0s - loss: 0.3014 - accuracy: 0.5943 - 15ms/epoch - 2ms/step\n",
      "Epoch 45/100\n",
      "7/7 - 0s - loss: 0.3031 - accuracy: 0.5943 - 13ms/epoch - 2ms/step\n",
      "Epoch 46/100\n",
      "7/7 - 0s - loss: 0.3032 - accuracy: 0.5943 - 15ms/epoch - 2ms/step\n",
      "Epoch 47/100\n",
      "7/7 - 0s - loss: 0.2986 - accuracy: 0.5943 - 15ms/epoch - 2ms/step\n",
      "Epoch 48/100\n",
      "7/7 - 0s - loss: 0.2983 - accuracy: 0.5943 - 15ms/epoch - 2ms/step\n",
      "Epoch 49/100\n",
      "7/7 - 0s - loss: 0.2950 - accuracy: 0.5943 - 16ms/epoch - 2ms/step\n",
      "Epoch 50/100\n",
      "7/7 - 0s - loss: 0.2927 - accuracy: 0.5943 - 15ms/epoch - 2ms/step\n",
      "Epoch 51/100\n",
      "7/7 - 0s - loss: 0.2898 - accuracy: 0.5943 - 14ms/epoch - 2ms/step\n",
      "Epoch 52/100\n",
      "7/7 - 0s - loss: 0.2881 - accuracy: 0.5943 - 17ms/epoch - 2ms/step\n",
      "Epoch 53/100\n",
      "7/7 - 0s - loss: 0.2873 - accuracy: 0.5943 - 16ms/epoch - 2ms/step\n",
      "Epoch 54/100\n",
      "7/7 - 0s - loss: 0.2855 - accuracy: 0.5943 - 16ms/epoch - 2ms/step\n",
      "Epoch 55/100\n",
      "7/7 - 0s - loss: 0.2859 - accuracy: 0.5943 - 13ms/epoch - 2ms/step\n",
      "Epoch 56/100\n",
      "7/7 - 0s - loss: 0.2857 - accuracy: 0.5943 - 17ms/epoch - 2ms/step\n",
      "Epoch 57/100\n",
      "7/7 - 0s - loss: 0.2850 - accuracy: 0.5943 - 16ms/epoch - 2ms/step\n",
      "Epoch 58/100\n",
      "7/7 - 0s - loss: 0.2859 - accuracy: 0.5943 - 18ms/epoch - 3ms/step\n",
      "Epoch 59/100\n",
      "7/7 - 0s - loss: 0.2892 - accuracy: 0.5943 - 18ms/epoch - 3ms/step\n",
      "Epoch 60/100\n",
      "7/7 - 0s - loss: 0.2908 - accuracy: 0.5943 - 16ms/epoch - 2ms/step\n",
      "Epoch 61/100\n",
      "7/7 - 0s - loss: 0.2935 - accuracy: 0.5943 - 18ms/epoch - 3ms/step\n",
      "Epoch 62/100\n",
      "7/7 - 0s - loss: 0.2912 - accuracy: 0.5943 - 13ms/epoch - 2ms/step\n",
      "Epoch 63/100\n",
      "7/7 - 0s - loss: 0.2918 - accuracy: 0.5943 - 16ms/epoch - 2ms/step\n",
      "Epoch 64/100\n",
      "7/7 - 0s - loss: 0.2916 - accuracy: 0.5943 - 15ms/epoch - 2ms/step\n",
      "Epoch 65/100\n",
      "7/7 - 0s - loss: 0.2881 - accuracy: 0.5943 - 16ms/epoch - 2ms/step\n",
      "Epoch 66/100\n",
      "7/7 - 0s - loss: 0.2872 - accuracy: 0.5943 - 14ms/epoch - 2ms/step\n",
      "Epoch 67/100\n",
      "7/7 - 0s - loss: 0.2875 - accuracy: 0.5943 - 15ms/epoch - 2ms/step\n",
      "Epoch 68/100\n",
      "7/7 - 0s - loss: 0.2874 - accuracy: 0.5943 - 14ms/epoch - 2ms/step\n",
      "Epoch 69/100\n",
      "7/7 - 0s - loss: 0.2893 - accuracy: 0.5943 - 16ms/epoch - 2ms/step\n",
      "Epoch 70/100\n",
      "7/7 - 0s - loss: 0.2889 - accuracy: 0.5943 - 14ms/epoch - 2ms/step\n",
      "Epoch 71/100\n",
      "7/7 - 0s - loss: 0.2917 - accuracy: 0.5943 - 18ms/epoch - 3ms/step\n",
      "Epoch 72/100\n",
      "7/7 - 0s - loss: 0.2886 - accuracy: 0.5943 - 15ms/epoch - 2ms/step\n",
      "Epoch 73/100\n",
      "7/7 - 0s - loss: 0.2904 - accuracy: 0.5943 - 16ms/epoch - 2ms/step\n",
      "Epoch 74/100\n",
      "7/7 - 0s - loss: 0.2892 - accuracy: 0.5943 - 26ms/epoch - 4ms/step\n",
      "Epoch 75/100\n",
      "7/7 - 0s - loss: 0.2873 - accuracy: 0.5943 - 19ms/epoch - 3ms/step\n",
      "Epoch 76/100\n",
      "7/7 - 0s - loss: 0.2885 - accuracy: 0.5943 - 16ms/epoch - 2ms/step\n",
      "Epoch 77/100\n",
      "7/7 - 0s - loss: 0.2895 - accuracy: 0.5943 - 15ms/epoch - 2ms/step\n",
      "Epoch 78/100\n",
      "7/7 - 0s - loss: 0.2959 - accuracy: 0.5943 - 15ms/epoch - 2ms/step\n",
      "Epoch 79/100\n",
      "7/7 - 0s - loss: 0.2997 - accuracy: 0.5943 - 16ms/epoch - 2ms/step\n",
      "Epoch 80/100\n",
      "7/7 - 0s - loss: 0.2959 - accuracy: 0.5943 - 15ms/epoch - 2ms/step\n",
      "Epoch 81/100\n",
      "7/7 - 0s - loss: 0.2975 - accuracy: 0.5943 - 18ms/epoch - 3ms/step\n",
      "Epoch 82/100\n",
      "7/7 - 0s - loss: 0.2967 - accuracy: 0.5943 - 16ms/epoch - 2ms/step\n",
      "Epoch 83/100\n",
      "7/7 - 0s - loss: 0.2950 - accuracy: 0.5943 - 15ms/epoch - 2ms/step\n",
      "Epoch 84/100\n",
      "7/7 - 0s - loss: 0.2911 - accuracy: 0.5943 - 14ms/epoch - 2ms/step\n",
      "Epoch 85/100\n",
      "7/7 - 0s - loss: 0.2872 - accuracy: 0.5943 - 15ms/epoch - 2ms/step\n",
      "Epoch 86/100\n",
      "7/7 - 0s - loss: 0.2859 - accuracy: 0.5943 - 17ms/epoch - 2ms/step\n",
      "Epoch 87/100\n",
      "7/7 - 0s - loss: 0.2855 - accuracy: 0.5943 - 15ms/epoch - 2ms/step\n",
      "Epoch 88/100\n",
      "7/7 - 0s - loss: 0.2845 - accuracy: 0.5943 - 15ms/epoch - 2ms/step\n",
      "Epoch 89/100\n",
      "7/7 - 0s - loss: 0.2842 - accuracy: 0.5943 - 14ms/epoch - 2ms/step\n",
      "Epoch 90/100\n",
      "7/7 - 0s - loss: 0.2837 - accuracy: 0.5943 - 16ms/epoch - 2ms/step\n",
      "Epoch 91/100\n",
      "7/7 - 0s - loss: 0.2844 - accuracy: 0.5943 - 15ms/epoch - 2ms/step\n",
      "Epoch 92/100\n",
      "7/7 - 0s - loss: 0.2839 - accuracy: 0.5943 - 14ms/epoch - 2ms/step\n",
      "Epoch 93/100\n",
      "7/7 - 0s - loss: 0.2860 - accuracy: 0.5943 - 16ms/epoch - 2ms/step\n",
      "Epoch 94/100\n",
      "7/7 - 0s - loss: 0.2841 - accuracy: 0.5943 - 15ms/epoch - 2ms/step\n",
      "Epoch 95/100\n",
      "7/7 - 0s - loss: 0.2842 - accuracy: 0.5943 - 14ms/epoch - 2ms/step\n",
      "Epoch 96/100\n",
      "7/7 - 0s - loss: 0.2840 - accuracy: 0.5943 - 14ms/epoch - 2ms/step\n",
      "Epoch 97/100\n",
      "7/7 - 0s - loss: 0.2836 - accuracy: 0.5943 - 15ms/epoch - 2ms/step\n",
      "Epoch 98/100\n",
      "7/7 - 0s - loss: 0.2842 - accuracy: 0.5943 - 17ms/epoch - 2ms/step\n",
      "Epoch 99/100\n",
      "7/7 - 0s - loss: 0.2843 - accuracy: 0.5943 - 14ms/epoch - 2ms/step\n",
      "Epoch 100/100\n",
      "7/7 - 0s - loss: 0.2832 - accuracy: 0.5943 - 16ms/epoch - 2ms/step\n",
      "1/1 - 0s - loss: 1.0827 - accuracy: 0.4615 - 114ms/epoch - 114ms/step\n",
      "0.4615384638309479\n"
     ]
    }
   ],
   "source": [
    "model_dmm = Doc2Vec(dm=1, dm_mean=1, vector_size=300, window=4, negative=5, min_count=2, workers=cores, alpha=0.065, min_alpha=0.065)\n",
    "model_dmm.build_vocab([x for x in all_tagged])\n",
    "model_dmm.train(utils.shuffle([x for x in all_tagged]), total_examples=len(all_tagged), epochs=1)\n",
    "\n",
    "def build_doc_Vector(tokens, size):\n",
    "    vec = np.zeros(size).reshape((1, size))\n",
    "    count = 0.\n",
    "    for word in tokens:\n",
    "        try:\n",
    "            vec += model_dmm[word].reshape((1, size)) * tfidf[word]\n",
    "            count += 1.\n",
    "        except KeyError: \n",
    "            continue\n",
    "    if count != 0:\n",
    "        vec /= count\n",
    "    return vec\n",
    "\n",
    "  \n",
    "train_vecs_dmm = np.concatenate([build_doc_Vector(z, 300) for z in (map(lambda x: x.words, train_tagged))])\n",
    "train_vecs_dmm = scale(train_vecs_dmm)\n",
    "\n",
    "val_vecs_dmm = np.concatenate([build_doc_Vector(z, 300) for z in (map(lambda x: x.words, test_tagged))])\n",
    "val_vecs_dmm = scale(val_vecs_dmm)\n",
    "\n",
    "model2 = Sequential()\n",
    "model2.add(Dense(256, activation='relu', input_dim=300))\n",
    "model2.add(Dense(256, activation='relu'))\n",
    "model2.add(Dense(256, activation='relu'))\n",
    "model2.add(Dense(1, activation='sigmoid'))\n",
    "model2.compile(optimizer='adam',\n",
    "              loss='binary_crossentropy',\n",
    "              metrics=['accuracy'])\n",
    "model2.fit(train_vecs_dmm, y_train, epochs=100, batch_size=32, verbose=2)\n",
    "score = model2.evaluate(val_vecs_dmm, y_test, batch_size=128, verbose=2)\n",
    "print(score[1])"
   ]
  },
  {
   "cell_type": "code",
   "execution_count": 29,
   "metadata": {},
   "outputs": [
    {
     "name": "stdout",
     "output_type": "stream",
     "text": [
      "Testing accuracy 0.0\n",
      "Testing F1 score: 0.0\n"
     ]
    },
    {
     "name": "stderr",
     "output_type": "stream",
     "text": [
      "c:\\Users\\Kylan\\anaconda3\\envs\\blauwe_kater\\lib\\site-packages\\sklearn\\linear_model\\_logistic.py:444: ConvergenceWarning:\n",
      "\n",
      "lbfgs failed to converge (status=1):\n",
      "STOP: TOTAL NO. of ITERATIONS REACHED LIMIT.\n",
      "\n",
      "Increase the number of iterations (max_iter) or scale the data as shown in:\n",
      "    https://scikit-learn.org/stable/modules/preprocessing.html\n",
      "Please also refer to the documentation for alternative solver options:\n",
      "    https://scikit-learn.org/stable/modules/linear_model.html#logistic-regression\n",
      "\n"
     ]
    }
   ],
   "source": [
    "#Check model performance\n",
    "def vec_for_learning(model, tagged_docs):\n",
    "    sents = tagged_docs.values\n",
    "    targets, regressors = zip(*[(doc.tags[0], model.infer_vector(doc.words)) for doc in sents])\n",
    "    return targets, regressors\n",
    "from sklearn.linear_model import LogisticRegression\n",
    "y_train, X_train = vec_for_learning(model_d2v, train_tagged)\n",
    "y_test, X_test = vec_for_learning(model_d2v, test_tagged)\n",
    "logreg = LogisticRegression(n_jobs=1, C=1e5)\n",
    "logreg.fit(X_train, y_train)\n",
    "y_pred = logreg.predict(X_test)\n",
    "from sklearn.metrics import accuracy_score, f1_score\n",
    "print('Testing accuracy %s' % accuracy_score(y_test, y_pred))\n",
    "print('Testing F1 score: {}'.format(f1_score(y_test, y_pred, average='weighted')))\n",
    "#Performance is okay, with an accuracy and f1-score of around 72.5%"
   ]
  },
  {
   "cell_type": "code",
   "execution_count": 154,
   "metadata": {},
   "outputs": [
    {
     "data": {
      "text/plain": [
       "[('jolt', 0.19512349367141724),\n",
       " ('pa', 0.1950347125530243),\n",
       " ('eisting', 0.1938062459230423),\n",
       " ('suicide', 0.19191162288188934),\n",
       " ('tumor', 0.19026972353458405),\n",
       " ('whitehouse.gov/collegeopportunity', 0.18620796501636505),\n",
       " ('them', 0.18401788175106049),\n",
       " ('bounced', 0.1823069453239441),\n",
       " ('1.6', 0.18214158713817596),\n",
       " ('barbara', 0.1812383383512497)]"
      ]
     },
     "execution_count": 154,
     "metadata": {},
     "output_type": "execute_result"
    }
   ],
   "source": [
    "#Quick command to identify similar words to a LOWER-CASE term of interest (has to be present in the corpus)\n",
    "model_d2v.wv.most_similar('death')\n",
    "#The similar words look really weird... Also still some cleanup issues so I'll have to review the text cleanup steps\n"
   ]
  },
  {
   "cell_type": "code",
   "execution_count": 196,
   "metadata": {},
   "outputs": [],
   "source": [
    "#T-SNE visualization of doc2vec model for further investigation\n",
    "from sklearn.manifold import TSNE\n",
    "import numpy as np\n",
    "word='heroic'\n",
    "wv=model_d2v.wv[word]\n",
    "doc_tags=list(model_d2v.dv.index_to_key)\n",
    "doc_tags.append(word)\n",
    "wv=model_d2v.wv[word]\n",
    "X=np.zeros((len(model_d2v.dv.index_to_key)+1,len(model_d2v.dv[0])))\n",
    "X2=np.zeros((len(model_d2v.dv.index_to_key),len(model_d2v.dv[0])))\n",
    "for i in range(0,len(X)):\n",
    "    if i<len(model_d2v.dv.index_to_key):\n",
    "        X[i]=model_d2v.dv[i]\n",
    "    else:\n",
    "        X[i]=wv\n",
    "for i in range(0,len(X2)):\n",
    "    X2[i]=model_d2v.dv[i]"
   ]
  },
  {
   "cell_type": "code",
   "execution_count": 197,
   "metadata": {},
   "outputs": [
    {
     "name": "stderr",
     "output_type": "stream",
     "text": [
      "c:\\Users\\Kylan\\anaconda3\\envs\\blauwe_kater\\lib\\site-packages\\sklearn\\manifold\\_t_sne.py:800: FutureWarning:\n",
      "\n",
      "The default initialization in TSNE will change from 'random' to 'pca' in 1.2.\n",
      "\n",
      "c:\\Users\\Kylan\\anaconda3\\envs\\blauwe_kater\\lib\\site-packages\\sklearn\\manifold\\_t_sne.py:810: FutureWarning:\n",
      "\n",
      "The default learning rate in TSNE will change from 200.0 to 'auto' in 1.2.\n",
      "\n",
      "c:\\Users\\Kylan\\anaconda3\\envs\\blauwe_kater\\lib\\site-packages\\sklearn\\manifold\\_t_sne.py:800: FutureWarning:\n",
      "\n",
      "The default initialization in TSNE will change from 'random' to 'pca' in 1.2.\n",
      "\n",
      "c:\\Users\\Kylan\\anaconda3\\envs\\blauwe_kater\\lib\\site-packages\\sklearn\\manifold\\_t_sne.py:810: FutureWarning:\n",
      "\n",
      "The default learning rate in TSNE will change from 200.0 to 'auto' in 1.2.\n",
      "\n"
     ]
    }
   ],
   "source": [
    "tsne=TSNE(n_components=2,random_state=47)\n",
    "X_tsne=tsne.fit_transform(X)\n",
    "df=pd.DataFrame(X_tsne,index=doc_tags,columns=['x','y'])\n",
    "df.head()\n",
    "X2_tsne=tsne.fit_transform(X2)\n",
    "df2=pd.DataFrame(X2_tsne,index=doc_tags[:-1],columns=['x','y'])"
   ]
  },
  {
   "cell_type": "code",
   "execution_count": 198,
   "metadata": {},
   "outputs": [],
   "source": [
    "df['Source']=df.index\n",
    "df['Source']=df['Source'].apply(lambda x: x[:8])\n",
    "df.head()\n",
    "df2['Source']=df2.index\n",
    "df2['Source']=df2['Source'].apply(lambda x: x[:8])"
   ]
  },
  {
   "cell_type": "code",
   "execution_count": 199,
   "metadata": {},
   "outputs": [
    {
     "data": {
      "application/vnd.plotly.v1+json": {
       "config": {
        "plotlyServerURL": "https://plot.ly"
       },
       "data": [
        {
         "hovertemplate": "<b>%{hovertext}</b><br><br>Source=text_oba<br>x=%{x}<br>y=%{y}<extra></extra>",
         "hovertext": [
          "text_oba_2004-07-28",
          "text_oba_2008-06-04",
          "text_oba_2008-11-05",
          "text_oba_2009-01-05",
          "text_oba_2009-01-20",
          "text_oba_2009-04-02",
          "text_oba_2009-04-15",
          "text_oba_2009-05-22",
          "text_oba_2009-06-15",
          "text_oba_2009-07-15",
          "text_oba_2009-09-24",
          "text_oba_2009-10-09",
          "text_oba_2009-11-05",
          "text_oba_2009-12-19",
          "text_oba_2009-12-25",
          "text_oba_2010-01-12",
          "text_oba_2010-03-04",
          "text_oba_2010-03-24",
          "text_oba_2010-04-15",
          "text_oba_2010-04-22",
          "text_oba_2010-05-07",
          "text_oba_2010-07-15",
          "text_oba_2010-07-21",
          "text_oba_2010-07-26",
          "text_oba_2010-08-31",
          "text_oba_2010-11-02",
          "text_oba_2011-01-08",
          "text_oba_2011-01-26",
          "text_oba_2011-01-31",
          "text_oba_2011-02-19",
          "text_oba_2011-05-02",
          "text_oba_2011-05-23",
          "text_oba_2011-06-23",
          "text_oba_2011-07-26",
          "text_oba_2011-09-09",
          "text_oba_2011-10-17",
          "text_oba_2011-11-17",
          "text_oba_2011-12-16",
          "text_oba_2012-01-06",
          "text_oba_2012-01-25",
          "text_oba_2012-03-27",
          "text_oba_2012-03-31",
          "text_oba_2012-04-29",
          "text_oba_2012-05-02",
          "text_oba_2012-05-10",
          "text_oba_2012-06-29",
          "text_oba_2012-07-21",
          "text_oba_2012-09-07",
          "text_oba_2012-10-29",
          "text_oba_2012-11-07",
          "text_oba_2012-12-15",
          "text_oba_2013-01-16",
          "text_oba_2013-01-22",
          "text_oba_2013-01-30",
          "text_oba_2013-02-13",
          "text_oba_2013-04-16",
          "text_oba_2013-04-26",
          "text_oba_2013-05-04",
          "text_oba_2013-06-19",
          "text_oba_2013-07-14",
          "text_oba_2013-08-29",
          "text_oba_2013-09-11",
          "text_oba_2013-10-02",
          "text_oba_2013-12-06",
          "text_oba_2014-01-18",
          "text_oba_2014-01-29",
          "text_oba_2014-03-07",
          "text_oba_2014-03-26",
          "text_oba_2014-04-11",
          "text_oba_2014-05-21",
          "text_oba_2014-07-01",
          "text_oba_2014-08-08",
          "text_oba_2014-08-12",
          "text_oba_2014-09-17",
          "text_oba_2014-10-18",
          "text_oba_2014-11-05",
          "text_oba_2014-12-18",
          "text_oba_2015-01-08",
          "text_oba_2015-01-21",
          "text_oba_2015-02-14",
          "text_oba_2015-03-11",
          "text_oba_2015-04-03",
          "text_oba_2015-05-09",
          "text_oba_2015-06-18",
          "text_oba_2015-07-07",
          "text_oba_2015-08-03",
          "text_oba_2015-09-24",
          "text_oba_2015-10-02",
          "text_oba_2015-11-14",
          "text_oba_2015-12-14",
          "text_oba_2016-01-13",
          "text_oba_2016-02-16",
          "text_oba_2016-03-23",
          "text_oba_2016-04-25",
          "text_oba_2016-05-06",
          "text_oba_2016-06-13",
          "text_oba_2016-07-28",
          "text_oba_2016-08-17",
          "text_oba_2016-09-05",
          "text_oba_2016-11-09",
          "text_oba_2017-01-11"
         ],
         "legendgroup": "text_oba",
         "marker": {
          "color": "#636efa",
          "symbol": "circle"
         },
         "mode": "markers",
         "name": "text_oba",
         "orientation": "v",
         "showlegend": true,
         "type": "scatter",
         "x": [
          7.160284519195557,
          11.602398872375488,
          5.158370494842529,
          -2.345813274383545,
          8.904658317565918,
          -0.9821653962135315,
          17.241811752319336,
          14.981623649597168,
          -17.078018188476562,
          12.467637062072754,
          15.381053924560547,
          14.971654891967773,
          7.595494747161865,
          -1.3042372465133667,
          -4.657873153686523,
          -3.276695489883423,
          8.248554229736328,
          4.200200080871582,
          11.056979179382324,
          -14.453317642211914,
          -1.9182820320129395,
          11.310210227966309,
          -2.695575714111328,
          -4.445540904998779,
          7.587692737579346,
          -0.6319305896759033,
          9.726892471313477,
          15.477641105651855,
          -4.102296829223633,
          12.313873291015625,
          -6.685564041137695,
          4.122812271118164,
          3.8398892879486084,
          4.1677727699279785,
          9.886600494384766,
          9.298534393310547,
          12.091288566589355,
          -3.251681089401245,
          -7.0930938720703125,
          15.928165435791016,
          10.986032485961914,
          1.3562207221984863,
          -3.39326810836792,
          0.5908628702163696,
          0.19938571751117706,
          -6.844661235809326,
          -2.576178789138794,
          13.242890357971191,
          -3.0532100200653076,
          5.409112453460693,
          -14.778775215148926,
          6.900125980377197,
          8.261468887329102,
          13.1857328414917,
          15.599411964416504,
          -18.106441497802734,
          -5.633134365081787,
          11.008935928344727,
          11.834820747375488,
          3.623318910598755,
          11.414080619812012,
          7.159321308135986,
          7.258152484893799,
          -5.841490745544434,
          16.783628463745117,
          16.550975799560547,
          -5.099603652954102,
          11.941213607788086,
          12.597986221313477,
          -8.86164665222168,
          2.2636706829071045,
          -4.636922359466553,
          -4.278804779052734,
          4.102198123931885,
          2.1832544803619385,
          -0.8556188941001892,
          7.271382808685303,
          -17.37134552001953,
          16.847261428833008,
          12.89307975769043,
          9.808910369873047,
          6.07601261138916,
          10.591737747192383,
          -3.9292497634887695,
          7.846490859985352,
          10.334378242492676,
          -2.387418508529663,
          -7.011391639709473,
          -3.8779361248016357,
          -5.573457717895508,
          16.284420013427734,
          -17.825328826904297,
          -18.751615524291992,
          14.868245124816895,
          13.475205421447754,
          -15.249228477478027,
          13.392220497131348,
          2.819007158279419,
          -4.454885005950928,
          -10.286849975585938,
          13.757782936096191
         ],
         "xaxis": "x",
         "y": [
          -9.43227481842041,
          -14.853013038635254,
          -5.038757801055908,
          -12.115801811218262,
          -15.233838081359863,
          -11.013693809509277,
          -13.190547943115234,
          -14.858774185180664,
          12.605423927307129,
          -13.98135757446289,
          -13.315401077270508,
          -12.956558227539062,
          -10.279802322387695,
          -11.82199764251709,
          -8.653712272644043,
          -10.628249168395996,
          -12.99717903137207,
          -0.5876346230506897,
          -15.862035751342773,
          8.992117881774902,
          -11.519195556640625,
          -2.6286494731903076,
          -5.446178436279297,
          -10.02168083190918,
          -8.695082664489746,
          -12.357964515686035,
          -14.248135566711426,
          -15.542298316955566,
          -11.331746101379395,
          4.319456100463867,
          -1.4991488456726074,
          8.809209823608398,
          -12.42540168762207,
          -11.832046508789062,
          -15.75730037689209,
          -8.731400489807129,
          -9.715322494506836,
          -11.780001640319824,
          -2.0696136951446533,
          -15.155380249023438,
          -12.960711479187012,
          3.919528007507324,
          -6.602531909942627,
          -12.633657455444336,
          -11.80644416809082,
          -5.785694122314453,
          -12.921408653259277,
          -11.588103294372559,
          -11.318859100341797,
          -12.271166801452637,
          14.589096069335938,
          -11.633121490478516,
          -9.194498062133789,
          -2.833437204360962,
          -14.079809188842773,
          10.828039169311523,
          -7.695709705352783,
          -15.317315101623535,
          -12.20119857788086,
          -1.6818264722824097,
          -11.810761451721191,
          1.5647385120391846,
          -10.948439598083496,
          -10.169702529907227,
          -12.351905822753906,
          -13.688549995422363,
          -10.837876319885254,
          -13.154597282409668,
          -12.486270904541016,
          13.191597938537598,
          -13.08326244354248,
          -7.841174602508545,
          -3.069707155227661,
          -4.881618022918701,
          -12.261589050292969,
          -13.174064636230469,
          -0.0015069503569975495,
          13.905094146728516,
          -14.589591026306152,
          -13.144186973571777,
          -14.858074188232422,
          -11.421087265014648,
          -14.284120559692383,
          -9.046296119689941,
          -11.66949462890625,
          -15.17153263092041,
          -10.379986763000488,
          -3.356093406677246,
          -12.24232292175293,
          -4.7992353439331055,
          -12.98814868927002,
          11.540453910827637,
          12.091169357299805,
          -14.360093116760254,
          -14.984987258911133,
          11.427474975585938,
          -10.165215492248535,
          -12.097357749938965,
          -9.189364433288574,
          12.76711368560791,
          -13.490453720092773
         ],
         "yaxis": "y"
        },
        {
         "hovertemplate": "<b>%{hovertext}</b><br><br>Source=text_wsj<br>x=%{x}<br>y=%{y}<extra></extra>",
         "hovertext": [
          "text_wsj_2004-07-28",
          "text_wsj_2008-06-04",
          "text_wsj_2008-11-05",
          "text_wsj_2009-01-05",
          "text_wsj_2009-01-20",
          "text_wsj_2009-04-02",
          "text_wsj_2009-04-15",
          "text_wsj_2009-05-22",
          "text_wsj_2009-06-15",
          "text_wsj_2009-07-15",
          "text_wsj_2009-09-24",
          "text_wsj_2009-10-09",
          "text_wsj_2009-11-05",
          "text_wsj_2009-12-19",
          "text_wsj_2009-12-25",
          "text_wsj_2010-01-12",
          "text_wsj_2010-03-04",
          "text_wsj_2010-03-24",
          "text_wsj_2010-04-15",
          "text_wsj_2010-04-22",
          "text_wsj_2010-05-07",
          "text_wsj_2010-07-15",
          "text_wsj_2010-07-21",
          "text_wsj_2010-07-26",
          "text_wsj_2010-08-31",
          "text_wsj_2010-11-02",
          "text_wsj_2011-01-08",
          "text_wsj_2011-01-26",
          "text_wsj_2011-01-31",
          "text_wsj_2011-02-19",
          "text_wsj_2011-05-02",
          "text_wsj_2011-05-23",
          "text_wsj_2011-06-23",
          "text_wsj_2011-07-26",
          "text_wsj_2011-09-09",
          "text_wsj_2011-10-17",
          "text_wsj_2011-11-17",
          "text_wsj_2011-12-16",
          "text_wsj_2012-01-06",
          "text_wsj_2012-01-25",
          "text_wsj_2012-03-27",
          "text_wsj_2012-03-31",
          "text_wsj_2012-04-29",
          "text_wsj_2012-05-02",
          "text_wsj_2012-05-10",
          "text_wsj_2012-06-29",
          "text_wsj_2012-07-21",
          "text_wsj_2012-09-07",
          "text_wsj_2012-10-29",
          "text_wsj_2012-11-07",
          "text_wsj_2012-12-15",
          "text_wsj_2013-01-16",
          "text_wsj_2013-01-22",
          "text_wsj_2013-01-30",
          "text_wsj_2013-02-13",
          "text_wsj_2013-04-16",
          "text_wsj_2013-04-26",
          "text_wsj_2013-05-04",
          "text_wsj_2013-06-19",
          "text_wsj_2013-07-14",
          "text_wsj_2013-08-29",
          "text_wsj_2013-09-11",
          "text_wsj_2013-10-02",
          "text_wsj_2013-12-06",
          "text_wsj_2014-01-18",
          "text_wsj_2014-01-29",
          "text_wsj_2014-03-07",
          "text_wsj_2014-03-26",
          "text_wsj_2014-04-11",
          "text_wsj_2014-05-21",
          "text_wsj_2014-07-01",
          "text_wsj_2014-08-08",
          "text_wsj_2014-08-12",
          "text_wsj_2014-09-17",
          "text_wsj_2014-10-18",
          "text_wsj_2014-11-05",
          "text_wsj_2014-12-18",
          "text_wsj_2015-01-08",
          "text_wsj_2015-01-21",
          "text_wsj_2015-02-14",
          "text_wsj_2015-03-11",
          "text_wsj_2015-04-03",
          "text_wsj_2015-05-09",
          "text_wsj_2015-06-18",
          "text_wsj_2015-07-07",
          "text_wsj_2015-08-03",
          "text_wsj_2015-09-24",
          "text_wsj_2015-10-02",
          "text_wsj_2015-11-14",
          "text_wsj_2015-12-14",
          "text_wsj_2016-01-13",
          "text_wsj_2016-02-16",
          "text_wsj_2016-03-23",
          "text_wsj_2016-04-25",
          "text_wsj_2016-05-06",
          "text_wsj_2016-06-13",
          "text_wsj_2016-07-28",
          "text_wsj_2016-08-17",
          "text_wsj_2016-09-05",
          "text_wsj_2016-11-09",
          "text_wsj_2017-01-11"
         ],
         "legendgroup": "text_wsj",
         "marker": {
          "color": "#EF553B",
          "symbol": "circle"
         },
         "mode": "markers",
         "name": "text_wsj",
         "orientation": "v",
         "showlegend": true,
         "type": "scatter",
         "x": [
          -7.746872901916504,
          1.1137815713882446,
          12.85229206085205,
          0.26534560322761536,
          3.4275360107421875,
          -1.8506721258163452,
          -11.338062286376953,
          -4.964869976043701,
          10.938512802124023,
          -17.913265228271484,
          -8.989799499511719,
          -5.833969593048096,
          -5.008713245391846,
          1.7446385622024536,
          -2.143505334854126,
          -0.7279150485992432,
          -5.049197196960449,
          -8.516529083251953,
          7.182413101196289,
          -1.391945719718933,
          -8.548859596252441,
          -7.710685729980469,
          10.395933151245117,
          -1.8164749145507812,
          -11.570133209228516,
          -4.171078205108643,
          -5.450294017791748,
          1.606290578842163,
          -5.7452521324157715,
          -13.642120361328125,
          -6.793154716491699,
          -7.236020565032959,
          -10.352484703063965,
          -19.805341720581055,
          -2.283564805984497,
          6.005083084106445,
          -12.935145378112793,
          -4.892682075500488,
          -6.8397536277771,
          5.062695503234863,
          -16.32672691345215,
          -14.72541332244873,
          -5.192309379577637,
          -12.185811996459961,
          -7.590893268585205,
          -2.5891220569610596,
          -19.73891258239746,
          -11.2174072265625,
          4.445620059967041,
          -19.506155014038086,
          6.120813846588135,
          -5.754601001739502,
          -6.5194878578186035,
          -16.444509506225586,
          -7.708606243133545,
          -1.7422571182250977,
          -11.473329544067383,
          -14.549291610717773,
          -14.726634979248047,
          -2.4745914936065674,
          -10.993583679199219,
          5.53590202331543,
          -10.473671913146973,
          12.021036148071289,
          4.024012088775635,
          -2.134505271911621,
          2.892338752746582,
          -10.358755111694336,
          -8.945704460144043,
          -7.7716779708862305,
          -8.539210319519043,
          9.403125762939453,
          -13.757963180541992,
          2.8076255321502686,
          10.486933708190918,
          -1.04944908618927,
          4.992661952972412,
          2.443162679672241,
          -4.041915416717529,
          -13.966497421264648,
          -16.149797439575195,
          -4.699829578399658,
          -11.517351150512695,
          -3.1184210777282715,
          -9.35120677947998,
          -5.098565578460693,
          0.7956153154373169,
          3.2594876289367676,
          -6.017974376678467,
          -7.641115188598633,
          -5.318399429321289,
          -6.34938907623291,
          10.72851276397705,
          -12.226468086242676,
          -12.232769966125488,
          10.770265579223633,
          -13.938555717468262,
          -4.795241355895996,
          -4.160634994506836,
          2.873633623123169,
          -16.541622161865234
         ],
         "xaxis": "x",
         "y": [
          14.216715812683105,
          -1.4570974111557007,
          -4.995188236236572,
          8.118242263793945,
          -0.5921107530593872,
          -5.158424377441406,
          13.101837158203125,
          5.810649871826172,
          5.22999382019043,
          12.794312477111816,
          11.309839248657227,
          0.37835538387298584,
          -2.656101703643799,
          6.778137683868408,
          5.506478309631348,
          4.90315055847168,
          -1.7769668102264404,
          11.855993270874023,
          3.824615240097046,
          5.044762134552002,
          -4.463022708892822,
          -0.38073158264160156,
          -4.91147518157959,
          0.15994341671466827,
          11.900989532470703,
          -4.953862190246582,
          4.64744234085083,
          13.089876174926758,
          3.308706760406494,
          14.343035697937012,
          12.747140884399414,
          -3.8561434745788574,
          11.86850643157959,
          3.975830078125,
          8.002063751220703,
          -5.341360092163086,
          14.875873565673828,
          1.7870880365371704,
          7.915188312530518,
          9.349653244018555,
          13.091267585754395,
          12.776453971862793,
          -0.32429733872413635,
          12.04679012298584,
          13.704779624938965,
          -1.76498281955719,
          4.86595344543457,
          13.665288925170898,
          7.034469127655029,
          4.185253143310547,
          7.972663879394531,
          5.379635334014893,
          14.033844947814941,
          11.019216537475586,
          6.539066314697266,
          4.273453712463379,
          15.564868927001953,
          12.275019645690918,
          10.446115493774414,
          2.5118844509124756,
          14.568079948425293,
          7.709888458251953,
          10.929132461547852,
          -2.6856305599212646,
          7.463158130645752,
          13.752367973327637,
          6.570782661437988,
          10.43692398071289,
          15.92307186126709,
          -3.063629388809204,
          14.4993896484375,
          4.253294467926025,
          11.086152076721191,
          -1.357466697692871,
          -0.7625295519828796,
          11.024456977844238,
          2.533294916152954,
          3.372993230819702,
          12.63681411743164,
          12.99500560760498,
          11.961894035339355,
          5.004184246063232,
          10.735370635986328,
          5.397263050079346,
          12.980551719665527,
          3.375319719314575,
          3.21336030960083,
          -4.599313735961914,
          -3.5904457569122314,
          4.332404136657715,
          13.875703811645508,
          5.082588195800781,
          6.201311111450195,
          13.888538360595703,
          9.55567455291748,
          3.95943021774292,
          9.674640655517578,
          0.9593220949172974,
          3.1320440769195557,
          9.008768081665039,
          12.023299217224121
         ],
         "yaxis": "y"
        },
        {
         "hovertemplate": "<b>%{hovertext}</b><br><br>Source=text_nyt<br>x=%{x}<br>y=%{y}<extra></extra>",
         "hovertext": [
          "text_nyt_2004-07-28",
          "text_nyt_2008-06-04",
          "text_nyt_2008-11-05",
          "text_nyt_2009-01-05",
          "text_nyt_2009-01-20",
          "text_nyt_2009-04-02",
          "text_nyt_2009-04-15",
          "text_nyt_2009-05-22",
          "text_nyt_2009-06-15",
          "text_nyt_2009-07-15",
          "text_nyt_2009-09-24",
          "text_nyt_2009-10-09",
          "text_nyt_2009-11-05",
          "text_nyt_2009-12-19",
          "text_nyt_2009-12-25",
          "text_nyt_2010-01-12",
          "text_nyt_2010-03-04",
          "text_nyt_2010-03-24",
          "text_nyt_2010-04-15",
          "text_nyt_2010-04-22",
          "text_nyt_2010-05-07",
          "text_nyt_2010-07-15",
          "text_nyt_2010-07-21",
          "text_nyt_2010-07-26",
          "text_nyt_2010-08-31",
          "text_nyt_2010-11-02",
          "text_nyt_2011-01-08",
          "text_nyt_2011-01-26",
          "text_nyt_2011-01-31",
          "text_nyt_2011-02-19",
          "text_nyt_2011-05-02",
          "text_nyt_2011-05-23",
          "text_nyt_2011-06-23",
          "text_nyt_2011-07-26",
          "text_nyt_2011-09-09",
          "text_nyt_2011-10-17",
          "text_nyt_2011-11-17",
          "text_nyt_2011-12-16",
          "text_nyt_2012-01-06",
          "text_nyt_2012-01-25",
          "text_nyt_2012-03-27",
          "text_nyt_2012-03-31",
          "text_nyt_2012-04-29",
          "text_nyt_2012-05-02",
          "text_nyt_2012-05-10",
          "text_nyt_2012-06-29",
          "text_nyt_2012-07-21",
          "text_nyt_2012-09-07",
          "text_nyt_2012-10-29",
          "text_nyt_2012-11-07",
          "text_nyt_2012-12-15",
          "text_nyt_2013-01-16",
          "text_nyt_2013-01-22",
          "text_nyt_2013-01-30",
          "text_nyt_2013-02-13",
          "text_nyt_2013-04-16",
          "text_nyt_2013-04-26",
          "text_nyt_2013-05-04",
          "text_nyt_2013-06-19",
          "text_nyt_2013-07-14",
          "text_nyt_2013-08-29",
          "text_nyt_2013-09-11",
          "text_nyt_2013-10-02",
          "text_nyt_2013-12-06",
          "text_nyt_2014-01-18",
          "text_nyt_2014-01-29",
          "text_nyt_2014-03-07",
          "text_nyt_2014-03-26",
          "text_nyt_2014-04-11",
          "text_nyt_2014-05-21",
          "text_nyt_2014-07-01",
          "text_nyt_2014-08-08",
          "text_nyt_2014-08-12",
          "text_nyt_2014-09-17",
          "text_nyt_2014-10-18",
          "text_nyt_2014-11-05",
          "text_nyt_2014-12-18",
          "text_nyt_2015-01-08",
          "text_nyt_2015-01-21",
          "text_nyt_2015-02-14",
          "text_nyt_2015-03-11",
          "text_nyt_2015-04-03",
          "text_nyt_2015-05-09",
          "text_nyt_2015-06-18",
          "text_nyt_2015-07-07",
          "text_nyt_2015-08-03",
          "text_nyt_2015-09-24",
          "text_nyt_2015-10-02",
          "text_nyt_2015-11-14",
          "text_nyt_2015-12-14",
          "text_nyt_2016-01-13",
          "text_nyt_2016-02-16",
          "text_nyt_2016-03-23",
          "text_nyt_2016-04-25",
          "text_nyt_2016-05-06",
          "text_nyt_2016-06-13",
          "text_nyt_2016-07-28",
          "text_nyt_2016-08-17",
          "text_nyt_2016-09-05",
          "text_nyt_2016-11-09",
          "text_nyt_2017-01-11"
         ],
         "legendgroup": "text_nyt",
         "marker": {
          "color": "#00cc96",
          "symbol": "circle"
         },
         "mode": "markers",
         "name": "text_nyt",
         "orientation": "v",
         "showlegend": true,
         "type": "scatter",
         "x": [
          -9.278998374938965,
          -0.5222463011741638,
          9.49816608428955,
          -4.234313488006592,
          11.185846328735352,
          -1.3856210708618164,
          0.21825657784938812,
          2.2390494346618652,
          4.9799323081970215,
          -14.835898399353027,
          -0.8241497874259949,
          -0.5586827397346497,
          -20.156278610229492,
          8.992345809936523,
          2.222148895263672,
          -0.6894606351852417,
          -0.6725228428840637,
          -6.541925430297852,
          -0.5766593813896179,
          -6.988253593444824,
          3.214066982269287,
          -7.676730632781982,
          -13.978519439697266,
          -4.104299545288086,
          0.0064681172370910645,
          -4.730107307434082,
          11.956077575683594,
          0.7207762598991394,
          10.335997581481934,
          -18.735618591308594,
          10.865132331848145,
          -19.396778106689453,
          -1.6361641883850098,
          -5.02200984954834,
          -3.6931111812591553,
          0.553805410861969,
          0.5190603137016296,
          12.928227424621582,
          -5.1869401931762695,
          0.5771712064743042,
          -7.2338480949401855,
          -6.516290664672852,
          -10.310037612915039,
          -1.0426572561264038,
          -20.205575942993164,
          7.3137617111206055,
          12.895377159118652,
          11.642352104187012,
          10.143656730651855,
          8.627893447875977,
          7.866811275482178,
          -2.7810497283935547,
          9.639961242675781,
          -1.628917932510376,
          3.087057590484619,
          9.796161651611328,
          -1.151479721069336,
          -8.379634857177734,
          -8.041004180908203,
          11.866768836975098,
          10.118829727172852,
          -20.34223747253418,
          -3.752307176589966,
          18.335674285888672,
          8.754136085510254,
          0.5534265637397766,
          10.741991996765137,
          0.5517407655715942,
          4.398499011993408,
          -1.8955883979797363,
          2.4180617332458496,
          3.8766002655029297,
          3.4711976051330566,
          1.9847545623779297,
          3.7779505252838135,
          10.049775123596191,
          11.319791793823242,
          9.295697212219238,
          3.6161646842956543,
          -6.181365489959717,
          -17.158248901367188,
          6.120233535766602,
          -5.653242588043213,
          12.743995666503906,
          5.720465660095215,
          -3.007297992706299,
          11.051541328430176,
          11.429197311401367,
          1.522854208946228,
          5.796752452850342,
          4.667788028717041,
          17.38421058654785,
          11.685113906860352,
          1.3734341859817505,
          -3.23195219039917,
          10.741649627685547,
          7.003545761108398,
          3.127307653427124,
          -12.944894790649414,
          10.236468315124512,
          -0.5756399631500244
         ],
         "xaxis": "x",
         "y": [
          10.618423461914062,
          11.268567085266113,
          5.87961483001709,
          7.928656101226807,
          -6.615727424621582,
          -2.456542491912842,
          0.7673708200454712,
          10.185356140136719,
          4.453798294067383,
          9.815837860107422,
          11.784876823425293,
          1.1565855741500854,
          4.835506439208984,
          -8.012222290039062,
          -2.3143956661224365,
          3.64382004737854,
          -1.6848957538604736,
          5.92084264755249,
          5.771381378173828,
          1.6712619066238403,
          1.3216511011123657,
          1.4978420734405518,
          10.456794738769531,
          -0.3161729872226715,
          -1.0786678791046143,
          12.694075584411621,
          -5.848458290100098,
          -1.836076259613037,
          -2.7507922649383545,
          13.840834617614746,
          -2.1086275577545166,
          4.6001057624816895,
          11.742256164550781,
          6.563736438751221,
          6.196796894073486,
          10.094820022583008,
          6.625070095062256,
          -4.075957298278809,
          2.355473041534424,
          11.068753242492676,
          -4.938302993774414,
          3.673753499984741,
          13.933180809020996,
          0.427241712808609,
          4.099365711212158,
          0.9650630354881287,
          -5.452966690063477,
          5.290374279022217,
          -3.5953478813171387,
          -9.624672889709473,
          2.8894219398498535,
          11.782448768615723,
          -4.409557819366455,
          8.014177322387695,
          7.700353145599365,
          3.846665620803833,
          14.362884521484375,
          -5.659806728363037,
          12.430681228637695,
          -1.9185682535171509,
          2.919050455093384,
          4.475161552429199,
          0.9940820336341858,
          -13.525106430053711,
          5.298857688903809,
          11.945799827575684,
          2.3883187770843506,
          13.311928749084473,
          5.978503227233887,
          6.21754264831543,
          2.5068585872650146,
          2.4994890689849854,
          5.761281967163086,
          0.6428834795951843,
          -4.0075602531433105,
          0.6782861948013306,
          4.871888637542725,
          -9.516332626342773,
          4.298216819763184,
          -0.6945470571517944,
          11.082191467285156,
          -0.3981495499610901,
          -1.3603723049163818,
          -1.4580004215240479,
          -5.202713489532471,
          3.8492143154144287,
          -4.079904079437256,
          3.1682121753692627,
          2.383572578430176,
          2.0568628311157227,
          0.9380763173103333,
          -12.581440925598145,
          2.152897596359253,
          7.884966850280762,
          6.7437567710876465,
          2.91805362701416,
          4.993058681488037,
          4.89115571975708,
          12.536684036254883,
          0.39886724948883057,
          9.093527793884277
         ],
         "yaxis": "y"
        }
       ],
       "layout": {
        "legend": {
         "title": {
          "text": "Source"
         },
         "tracegroupgap": 0
        },
        "margin": {
         "t": 60
        },
        "template": {
         "data": {
          "bar": [
           {
            "error_x": {
             "color": "#2a3f5f"
            },
            "error_y": {
             "color": "#2a3f5f"
            },
            "marker": {
             "line": {
              "color": "#E5ECF6",
              "width": 0.5
             },
             "pattern": {
              "fillmode": "overlay",
              "size": 10,
              "solidity": 0.2
             }
            },
            "type": "bar"
           }
          ],
          "barpolar": [
           {
            "marker": {
             "line": {
              "color": "#E5ECF6",
              "width": 0.5
             },
             "pattern": {
              "fillmode": "overlay",
              "size": 10,
              "solidity": 0.2
             }
            },
            "type": "barpolar"
           }
          ],
          "carpet": [
           {
            "aaxis": {
             "endlinecolor": "#2a3f5f",
             "gridcolor": "white",
             "linecolor": "white",
             "minorgridcolor": "white",
             "startlinecolor": "#2a3f5f"
            },
            "baxis": {
             "endlinecolor": "#2a3f5f",
             "gridcolor": "white",
             "linecolor": "white",
             "minorgridcolor": "white",
             "startlinecolor": "#2a3f5f"
            },
            "type": "carpet"
           }
          ],
          "choropleth": [
           {
            "colorbar": {
             "outlinewidth": 0,
             "ticks": ""
            },
            "type": "choropleth"
           }
          ],
          "contour": [
           {
            "colorbar": {
             "outlinewidth": 0,
             "ticks": ""
            },
            "colorscale": [
             [
              0,
              "#0d0887"
             ],
             [
              0.1111111111111111,
              "#46039f"
             ],
             [
              0.2222222222222222,
              "#7201a8"
             ],
             [
              0.3333333333333333,
              "#9c179e"
             ],
             [
              0.4444444444444444,
              "#bd3786"
             ],
             [
              0.5555555555555556,
              "#d8576b"
             ],
             [
              0.6666666666666666,
              "#ed7953"
             ],
             [
              0.7777777777777778,
              "#fb9f3a"
             ],
             [
              0.8888888888888888,
              "#fdca26"
             ],
             [
              1,
              "#f0f921"
             ]
            ],
            "type": "contour"
           }
          ],
          "contourcarpet": [
           {
            "colorbar": {
             "outlinewidth": 0,
             "ticks": ""
            },
            "type": "contourcarpet"
           }
          ],
          "heatmap": [
           {
            "colorbar": {
             "outlinewidth": 0,
             "ticks": ""
            },
            "colorscale": [
             [
              0,
              "#0d0887"
             ],
             [
              0.1111111111111111,
              "#46039f"
             ],
             [
              0.2222222222222222,
              "#7201a8"
             ],
             [
              0.3333333333333333,
              "#9c179e"
             ],
             [
              0.4444444444444444,
              "#bd3786"
             ],
             [
              0.5555555555555556,
              "#d8576b"
             ],
             [
              0.6666666666666666,
              "#ed7953"
             ],
             [
              0.7777777777777778,
              "#fb9f3a"
             ],
             [
              0.8888888888888888,
              "#fdca26"
             ],
             [
              1,
              "#f0f921"
             ]
            ],
            "type": "heatmap"
           }
          ],
          "heatmapgl": [
           {
            "colorbar": {
             "outlinewidth": 0,
             "ticks": ""
            },
            "colorscale": [
             [
              0,
              "#0d0887"
             ],
             [
              0.1111111111111111,
              "#46039f"
             ],
             [
              0.2222222222222222,
              "#7201a8"
             ],
             [
              0.3333333333333333,
              "#9c179e"
             ],
             [
              0.4444444444444444,
              "#bd3786"
             ],
             [
              0.5555555555555556,
              "#d8576b"
             ],
             [
              0.6666666666666666,
              "#ed7953"
             ],
             [
              0.7777777777777778,
              "#fb9f3a"
             ],
             [
              0.8888888888888888,
              "#fdca26"
             ],
             [
              1,
              "#f0f921"
             ]
            ],
            "type": "heatmapgl"
           }
          ],
          "histogram": [
           {
            "marker": {
             "pattern": {
              "fillmode": "overlay",
              "size": 10,
              "solidity": 0.2
             }
            },
            "type": "histogram"
           }
          ],
          "histogram2d": [
           {
            "colorbar": {
             "outlinewidth": 0,
             "ticks": ""
            },
            "colorscale": [
             [
              0,
              "#0d0887"
             ],
             [
              0.1111111111111111,
              "#46039f"
             ],
             [
              0.2222222222222222,
              "#7201a8"
             ],
             [
              0.3333333333333333,
              "#9c179e"
             ],
             [
              0.4444444444444444,
              "#bd3786"
             ],
             [
              0.5555555555555556,
              "#d8576b"
             ],
             [
              0.6666666666666666,
              "#ed7953"
             ],
             [
              0.7777777777777778,
              "#fb9f3a"
             ],
             [
              0.8888888888888888,
              "#fdca26"
             ],
             [
              1,
              "#f0f921"
             ]
            ],
            "type": "histogram2d"
           }
          ],
          "histogram2dcontour": [
           {
            "colorbar": {
             "outlinewidth": 0,
             "ticks": ""
            },
            "colorscale": [
             [
              0,
              "#0d0887"
             ],
             [
              0.1111111111111111,
              "#46039f"
             ],
             [
              0.2222222222222222,
              "#7201a8"
             ],
             [
              0.3333333333333333,
              "#9c179e"
             ],
             [
              0.4444444444444444,
              "#bd3786"
             ],
             [
              0.5555555555555556,
              "#d8576b"
             ],
             [
              0.6666666666666666,
              "#ed7953"
             ],
             [
              0.7777777777777778,
              "#fb9f3a"
             ],
             [
              0.8888888888888888,
              "#fdca26"
             ],
             [
              1,
              "#f0f921"
             ]
            ],
            "type": "histogram2dcontour"
           }
          ],
          "mesh3d": [
           {
            "colorbar": {
             "outlinewidth": 0,
             "ticks": ""
            },
            "type": "mesh3d"
           }
          ],
          "parcoords": [
           {
            "line": {
             "colorbar": {
              "outlinewidth": 0,
              "ticks": ""
             }
            },
            "type": "parcoords"
           }
          ],
          "pie": [
           {
            "automargin": true,
            "type": "pie"
           }
          ],
          "scatter": [
           {
            "fillpattern": {
             "fillmode": "overlay",
             "size": 10,
             "solidity": 0.2
            },
            "type": "scatter"
           }
          ],
          "scatter3d": [
           {
            "line": {
             "colorbar": {
              "outlinewidth": 0,
              "ticks": ""
             }
            },
            "marker": {
             "colorbar": {
              "outlinewidth": 0,
              "ticks": ""
             }
            },
            "type": "scatter3d"
           }
          ],
          "scattercarpet": [
           {
            "marker": {
             "colorbar": {
              "outlinewidth": 0,
              "ticks": ""
             }
            },
            "type": "scattercarpet"
           }
          ],
          "scattergeo": [
           {
            "marker": {
             "colorbar": {
              "outlinewidth": 0,
              "ticks": ""
             }
            },
            "type": "scattergeo"
           }
          ],
          "scattergl": [
           {
            "marker": {
             "colorbar": {
              "outlinewidth": 0,
              "ticks": ""
             }
            },
            "type": "scattergl"
           }
          ],
          "scattermapbox": [
           {
            "marker": {
             "colorbar": {
              "outlinewidth": 0,
              "ticks": ""
             }
            },
            "type": "scattermapbox"
           }
          ],
          "scatterpolar": [
           {
            "marker": {
             "colorbar": {
              "outlinewidth": 0,
              "ticks": ""
             }
            },
            "type": "scatterpolar"
           }
          ],
          "scatterpolargl": [
           {
            "marker": {
             "colorbar": {
              "outlinewidth": 0,
              "ticks": ""
             }
            },
            "type": "scatterpolargl"
           }
          ],
          "scatterternary": [
           {
            "marker": {
             "colorbar": {
              "outlinewidth": 0,
              "ticks": ""
             }
            },
            "type": "scatterternary"
           }
          ],
          "surface": [
           {
            "colorbar": {
             "outlinewidth": 0,
             "ticks": ""
            },
            "colorscale": [
             [
              0,
              "#0d0887"
             ],
             [
              0.1111111111111111,
              "#46039f"
             ],
             [
              0.2222222222222222,
              "#7201a8"
             ],
             [
              0.3333333333333333,
              "#9c179e"
             ],
             [
              0.4444444444444444,
              "#bd3786"
             ],
             [
              0.5555555555555556,
              "#d8576b"
             ],
             [
              0.6666666666666666,
              "#ed7953"
             ],
             [
              0.7777777777777778,
              "#fb9f3a"
             ],
             [
              0.8888888888888888,
              "#fdca26"
             ],
             [
              1,
              "#f0f921"
             ]
            ],
            "type": "surface"
           }
          ],
          "table": [
           {
            "cells": {
             "fill": {
              "color": "#EBF0F8"
             },
             "line": {
              "color": "white"
             }
            },
            "header": {
             "fill": {
              "color": "#C8D4E3"
             },
             "line": {
              "color": "white"
             }
            },
            "type": "table"
           }
          ]
         },
         "layout": {
          "annotationdefaults": {
           "arrowcolor": "#2a3f5f",
           "arrowhead": 0,
           "arrowwidth": 1
          },
          "autotypenumbers": "strict",
          "coloraxis": {
           "colorbar": {
            "outlinewidth": 0,
            "ticks": ""
           }
          },
          "colorscale": {
           "diverging": [
            [
             0,
             "#8e0152"
            ],
            [
             0.1,
             "#c51b7d"
            ],
            [
             0.2,
             "#de77ae"
            ],
            [
             0.3,
             "#f1b6da"
            ],
            [
             0.4,
             "#fde0ef"
            ],
            [
             0.5,
             "#f7f7f7"
            ],
            [
             0.6,
             "#e6f5d0"
            ],
            [
             0.7,
             "#b8e186"
            ],
            [
             0.8,
             "#7fbc41"
            ],
            [
             0.9,
             "#4d9221"
            ],
            [
             1,
             "#276419"
            ]
           ],
           "sequential": [
            [
             0,
             "#0d0887"
            ],
            [
             0.1111111111111111,
             "#46039f"
            ],
            [
             0.2222222222222222,
             "#7201a8"
            ],
            [
             0.3333333333333333,
             "#9c179e"
            ],
            [
             0.4444444444444444,
             "#bd3786"
            ],
            [
             0.5555555555555556,
             "#d8576b"
            ],
            [
             0.6666666666666666,
             "#ed7953"
            ],
            [
             0.7777777777777778,
             "#fb9f3a"
            ],
            [
             0.8888888888888888,
             "#fdca26"
            ],
            [
             1,
             "#f0f921"
            ]
           ],
           "sequentialminus": [
            [
             0,
             "#0d0887"
            ],
            [
             0.1111111111111111,
             "#46039f"
            ],
            [
             0.2222222222222222,
             "#7201a8"
            ],
            [
             0.3333333333333333,
             "#9c179e"
            ],
            [
             0.4444444444444444,
             "#bd3786"
            ],
            [
             0.5555555555555556,
             "#d8576b"
            ],
            [
             0.6666666666666666,
             "#ed7953"
            ],
            [
             0.7777777777777778,
             "#fb9f3a"
            ],
            [
             0.8888888888888888,
             "#fdca26"
            ],
            [
             1,
             "#f0f921"
            ]
           ]
          },
          "colorway": [
           "#636efa",
           "#EF553B",
           "#00cc96",
           "#ab63fa",
           "#FFA15A",
           "#19d3f3",
           "#FF6692",
           "#B6E880",
           "#FF97FF",
           "#FECB52"
          ],
          "font": {
           "color": "#2a3f5f"
          },
          "geo": {
           "bgcolor": "white",
           "lakecolor": "white",
           "landcolor": "#E5ECF6",
           "showlakes": true,
           "showland": true,
           "subunitcolor": "white"
          },
          "hoverlabel": {
           "align": "left"
          },
          "hovermode": "closest",
          "mapbox": {
           "style": "light"
          },
          "paper_bgcolor": "white",
          "plot_bgcolor": "#E5ECF6",
          "polar": {
           "angularaxis": {
            "gridcolor": "white",
            "linecolor": "white",
            "ticks": ""
           },
           "bgcolor": "#E5ECF6",
           "radialaxis": {
            "gridcolor": "white",
            "linecolor": "white",
            "ticks": ""
           }
          },
          "scene": {
           "xaxis": {
            "backgroundcolor": "#E5ECF6",
            "gridcolor": "white",
            "gridwidth": 2,
            "linecolor": "white",
            "showbackground": true,
            "ticks": "",
            "zerolinecolor": "white"
           },
           "yaxis": {
            "backgroundcolor": "#E5ECF6",
            "gridcolor": "white",
            "gridwidth": 2,
            "linecolor": "white",
            "showbackground": true,
            "ticks": "",
            "zerolinecolor": "white"
           },
           "zaxis": {
            "backgroundcolor": "#E5ECF6",
            "gridcolor": "white",
            "gridwidth": 2,
            "linecolor": "white",
            "showbackground": true,
            "ticks": "",
            "zerolinecolor": "white"
           }
          },
          "shapedefaults": {
           "line": {
            "color": "#2a3f5f"
           }
          },
          "ternary": {
           "aaxis": {
            "gridcolor": "white",
            "linecolor": "white",
            "ticks": ""
           },
           "baxis": {
            "gridcolor": "white",
            "linecolor": "white",
            "ticks": ""
           },
           "bgcolor": "#E5ECF6",
           "caxis": {
            "gridcolor": "white",
            "linecolor": "white",
            "ticks": ""
           }
          },
          "title": {
           "x": 0.05
          },
          "xaxis": {
           "automargin": true,
           "gridcolor": "white",
           "linecolor": "white",
           "ticks": "",
           "title": {
            "standoff": 15
           },
           "zerolinecolor": "white",
           "zerolinewidth": 2
          },
          "yaxis": {
           "automargin": true,
           "gridcolor": "white",
           "linecolor": "white",
           "ticks": "",
           "title": {
            "standoff": 15
           },
           "zerolinecolor": "white",
           "zerolinewidth": 2
          }
         }
        },
        "xaxis": {
         "anchor": "y",
         "domain": [
          0,
          1
         ],
         "title": {
          "text": "x"
         }
        },
        "yaxis": {
         "anchor": "x",
         "domain": [
          0,
          1
         ],
         "title": {
          "text": "y"
         }
        }
       }
      }
     },
     "metadata": {},
     "output_type": "display_data"
    }
   ],
   "source": [
    "fig = px.scatter(df2, \n",
    "             x='x', \n",
    "             y=\"y\", \n",
    "             color=df2['Source'], \n",
    "             hover_name=df2.index)\n",
    "fig.show()"
   ]
  },
  {
   "cell_type": "code",
   "execution_count": 169,
   "metadata": {},
   "outputs": [
    {
     "data": {
      "text/html": [
       "<div>\n",
       "<style scoped>\n",
       "    .dataframe tbody tr th:only-of-type {\n",
       "        vertical-align: middle;\n",
       "    }\n",
       "\n",
       "    .dataframe tbody tr th {\n",
       "        vertical-align: top;\n",
       "    }\n",
       "\n",
       "    .dataframe thead th {\n",
       "        text-align: right;\n",
       "    }\n",
       "</style>\n",
       "<table border=\"1\" class=\"dataframe\">\n",
       "  <thead>\n",
       "    <tr style=\"text-align: right;\">\n",
       "      <th></th>\n",
       "      <th>Source</th>\n",
       "      <th>Date</th>\n",
       "      <th>Text</th>\n",
       "      <th>Result</th>\n",
       "      <th>Resultint</th>\n",
       "    </tr>\n",
       "  </thead>\n",
       "  <tbody>\n",
       "    <tr>\n",
       "      <th>231</th>\n",
       "      <td>text_nyt</td>\n",
       "      <td>2011-02-19</td>\n",
       "      <td>the intel corporation announced plans on frida...</td>\n",
       "      <td>NEU</td>\n",
       "      <td>0.5</td>\n",
       "    </tr>\n",
       "  </tbody>\n",
       "</table>\n",
       "</div>"
      ],
      "text/plain": [
       "       Source        Date                                               Text  \\\n",
       "231  text_nyt  2011-02-19  the intel corporation announced plans on frida...   \n",
       "\n",
       "    Result  Resultint  \n",
       "231    NEU        0.5  "
      ]
     },
     "execution_count": 169,
     "metadata": {},
     "output_type": "execute_result"
    }
   ],
   "source": [
    "D2Vdata.query('Source == \"text_nyt\" & Date == \"2011-02-19\"')"
   ]
  },
  {
   "attachments": {},
   "cell_type": "markdown",
   "metadata": {},
   "source": [
    "#### Everything after this point is earlier messing around with the new Sentence Embedding model combined with sentimiento on each sentence, but the results from just analyzing the entire speech itself are much more promising"
   ]
  },
  {
   "cell_type": "code",
   "execution_count": null,
   "metadata": {},
   "outputs": [],
   "source": [
    "#Split speeches into sentences\n",
    "scores=[]\n",
    "labels=[]\n",
    "speech=tokenize.sent_tokenize(data.iloc[0,2])\n",
    "for sentence in range(0,len(speech)):\n",
    "    scores.append(model(speech[sentence],batch_size=8,truncation='only_first')[0].get('score'))\n",
    "    labels.append(model(speech[sentence],batch_size=8,truncation='only_first')[0].get('label'))"
   ]
  },
  {
   "cell_type": "code",
   "execution_count": null,
   "metadata": {},
   "outputs": [
    {
     "name": "stdout",
     "output_type": "stream",
     "text": [
      "(0.9905810952186584, 'POS')\n",
      "(0.9287346601486206, 'POS')\n",
      "(0.94754558801651, 'NEU')\n",
      "(0.53578120470047, 'NEU')\n",
      "(0.9337282180786133, 'NEU')\n",
      "(0.8087764978408813, 'NEU')\n",
      "(0.98421311378479, 'POS')\n",
      "(0.9279590845108032, 'NEU')\n",
      "(0.942507266998291, 'NEU')\n",
      "(0.9657571315765381, 'NEU')\n",
      "(0.9635999798774719, 'NEU')\n",
      "(0.939455509185791, 'NEU')\n",
      "(0.9720049500465393, 'NEU')\n",
      "(0.8093428015708923, 'NEU')\n",
      "(0.9521498680114746, 'POS')\n",
      "(0.8059608936309814, 'NEU')\n",
      "(0.9869824051856995, 'POS')\n",
      "(0.6119232177734375, 'POS')\n",
      "(0.8856715559959412, 'POS')\n",
      "(0.9047808647155762, 'NEG')\n",
      "(0.5747033953666687, 'NEU')\n",
      "(0.9809557795524597, 'POS')\n",
      "(0.5950371026992798, 'NEU')\n",
      "(0.9749462604522705, 'POS')\n",
      "(0.7401796579360962, 'NEU')\n",
      "(0.9380322694778442, 'POS')\n",
      "(0.677641749382019, 'POS')\n",
      "(0.802254855632782, 'NEG')\n",
      "(0.5059276223182678, 'NEU')\n",
      "(0.9115768074989319, 'NEG')\n",
      "(0.7648179531097412, 'POS')\n",
      "(0.8802087903022766, 'NEG')\n",
      "(0.734094500541687, 'NEG')\n",
      "(0.9133493900299072, 'NEU')\n",
      "(0.9433218240737915, 'NEG')\n",
      "(0.8998552560806274, 'POS')\n",
      "(0.8097006678581238, 'POS')\n",
      "(0.5411397218704224, 'NEU')\n",
      "(0.5869717597961426, 'NEU')\n",
      "(0.9609391689300537, 'POS')\n",
      "(0.8067649602890015, 'NEU')\n",
      "(0.9206511974334717, 'POS')\n",
      "(0.9684751033782959, 'POS')\n",
      "(0.5628265142440796, 'NEU')\n",
      "(0.8970382213592529, 'POS')\n",
      "(0.7245602607727051, 'POS')\n",
      "(0.8631508946418762, 'POS')\n",
      "(0.5018128752708435, 'POS')\n",
      "(0.9543696045875549, 'POS')\n",
      "(0.5953194499015808, 'NEG')\n",
      "(0.9600601196289062, 'NEU')\n",
      "(0.9698189496994019, 'NEU')\n",
      "(0.9863206744194031, 'POS')\n",
      "(0.9722795486450195, 'NEU')\n",
      "(0.9798961877822876, 'POS')\n",
      "(0.9702849388122559, 'NEU')\n",
      "(0.8667472004890442, 'NEG')\n",
      "(0.8778480291366577, 'NEG')\n",
      "(0.8662083148956299, 'NEU')\n",
      "(0.9399225115776062, 'NEU')\n",
      "(0.9444180130958557, 'NEU')\n",
      "(0.9582224488258362, 'NEG')\n",
      "(0.8864154815673828, 'NEG')\n",
      "(0.6839388012886047, 'NEU')\n",
      "(0.9259438514709473, 'NEG')\n",
      "(0.932004988193512, 'NEU')\n",
      "(0.9061997532844543, 'POS')\n",
      "(0.8110602498054504, 'POS')\n",
      "(0.6706783175468445, 'NEU')\n",
      "(0.8231344223022461, 'NEU')\n",
      "(0.9742156863212585, 'NEG')\n",
      "(0.9616628289222717, 'NEG')\n",
      "(0.5123561024665833, 'NEU')\n",
      "(0.936011791229248, 'POS')\n",
      "(0.7964075207710266, 'POS')\n",
      "(0.9647970199584961, 'NEU')\n",
      "(0.8853462338447571, 'NEG')\n",
      "(0.7787095308303833, 'NEU')\n",
      "(0.6511943936347961, 'NEU')\n",
      "(0.5510657429695129, 'NEG')\n",
      "(0.963558554649353, 'NEU')\n",
      "(0.8779098987579346, 'POS')\n",
      "(0.7346504330635071, 'NEU')\n",
      "(0.8775378465652466, 'NEU')\n",
      "(0.9504102468490601, 'POS')\n",
      "(0.8450486063957214, 'NEU')\n",
      "(0.9192041158676147, 'NEU')\n",
      "(0.8532615303993225, 'POS')\n",
      "(0.8180371522903442, 'POS')\n",
      "(0.9325148463249207, 'NEG')\n",
      "(0.9365320205688477, 'NEG')\n",
      "(0.9636298418045044, 'NEU')\n",
      "(0.5824936628341675, 'NEU')\n",
      "(0.9640174508094788, 'POS')\n",
      "(0.934678852558136, 'POS')\n",
      "(0.7051319479942322, 'NEU')\n",
      "(0.9870859980583191, 'POS')\n",
      "(0.8304940462112427, 'NEU')\n",
      "(0.9627943634986877, 'POS')\n",
      "(0.9666677117347717, 'POS')\n",
      "(0.9033961892127991, 'POS')\n",
      "(0.9224092364311218, 'POS')\n",
      "(0.7218248844146729, 'NEU')\n",
      "(0.9667888283729553, 'POS')\n",
      "(0.9802349805831909, 'POS')\n",
      "(0.9828183054924011, 'POS')\n",
      "(0.9412093162536621, 'POS')\n"
     ]
    }
   ],
   "source": [
    "for list in zip(scores,labels):\n",
    "        print(list)\n",
    "#These are the results for all sentences in one speech using embeddings and pipeline"
   ]
  }
 ],
 "metadata": {
  "kernelspec": {
   "display_name": "Python 3.10.8 ('blauwe_kater')",
   "language": "python",
   "name": "python3"
  },
  "language_info": {
   "codemirror_mode": {
    "name": "ipython",
    "version": 3
   },
   "file_extension": ".py",
   "mimetype": "text/x-python",
   "name": "python",
   "nbconvert_exporter": "python",
   "pygments_lexer": "ipython3",
   "version": "3.10.8"
  },
  "orig_nbformat": 4,
  "vscode": {
   "interpreter": {
    "hash": "107f2f6f19e96c840132efb8a7e6b8d8e9855354386e3f52164003e5deff7bc5"
   }
  }
 },
 "nbformat": 4,
 "nbformat_minor": 2
}
