{
 "cells": [
  {
   "cell_type": "code",
   "execution_count": 1,
   "metadata": {},
   "outputs": [],
   "source": [
    "#Load packages\n",
    "import pandas as pd\n",
    "from vaderSentiment.vaderSentiment import SentimentIntensityAnalyzer\n",
    "analyzer=SentimentIntensityAnalyzer()\n",
    "import matplotlib.pyplot as plt\n",
    "import plotly.express as px"
   ]
  },
  {
   "attachments": {},
   "cell_type": "markdown",
   "metadata": {},
   "source": [
    "## Part 1: Rule-based Sentiment analysis using VADER"
   ]
  },
  {
   "cell_type": "code",
   "execution_count": 2,
   "metadata": {},
   "outputs": [
    {
     "data": {
      "text/html": [
       "<div>\n",
       "<style scoped>\n",
       "    .dataframe tbody tr th:only-of-type {\n",
       "        vertical-align: middle;\n",
       "    }\n",
       "\n",
       "    .dataframe tbody tr th {\n",
       "        vertical-align: top;\n",
       "    }\n",
       "\n",
       "    .dataframe thead th {\n",
       "        text-align: right;\n",
       "    }\n",
       "</style>\n",
       "<table border=\"1\" class=\"dataframe\">\n",
       "  <thead>\n",
       "    <tr style=\"text-align: right;\">\n",
       "      <th></th>\n",
       "      <th>Unnamed: 0</th>\n",
       "      <th>file</th>\n",
       "      <th>text_oba</th>\n",
       "      <th>text_wsj</th>\n",
       "      <th>text_nyt</th>\n",
       "      <th>date</th>\n",
       "    </tr>\n",
       "  </thead>\n",
       "  <tbody>\n",
       "    <tr>\n",
       "      <th>0</th>\n",
       "      <td>0</td>\n",
       "      <td>2004-07-28-DNCSpeech.txt</td>\n",
       "      <td>On behalf of the great state of Illinois, cros...</td>\n",
       "      <td>John Kerry's decorated service in Vietnam took...</td>\n",
       "      <td>Barack Obama took the dais as the keynote spea...</td>\n",
       "      <td>2004-07-28</td>\n",
       "    </tr>\n",
       "    <tr>\n",
       "      <th>1</th>\n",
       "      <td>1</td>\n",
       "      <td>2008-06-04-ObamaNomination.txt</td>\n",
       "      <td>Thank you....Thank you. What a -- What a wonde...</td>\n",
       "      <td>Sen. Barack Obama captured enough convention d...</td>\n",
       "      <td>Senator Barack Obama claimed the Democratic pr...</td>\n",
       "      <td>2008-06-04</td>\n",
       "    </tr>\n",
       "    <tr>\n",
       "      <th>2</th>\n",
       "      <td>2</td>\n",
       "      <td>2008-11-05-ObamaElected.txt</td>\n",
       "      <td>Hello, Chicago.\\n\\nIf there is anyone out ther...</td>\n",
       "      <td>Sen. Barack Obama was elected the nation's fir...</td>\n",
       "      <td>Barack Hussein Obama was elected the 44th pres...</td>\n",
       "      <td>2008-11-05</td>\n",
       "    </tr>\n",
       "  </tbody>\n",
       "</table>\n",
       "</div>"
      ],
      "text/plain": [
       "   Unnamed: 0                            file  \\\n",
       "0           0        2004-07-28-DNCSpeech.txt   \n",
       "1           1  2008-06-04-ObamaNomination.txt   \n",
       "2           2     2008-11-05-ObamaElected.txt   \n",
       "\n",
       "                                            text_oba  \\\n",
       "0  On behalf of the great state of Illinois, cros...   \n",
       "1  Thank you....Thank you. What a -- What a wonde...   \n",
       "2  Hello, Chicago.\\n\\nIf there is anyone out ther...   \n",
       "\n",
       "                                            text_wsj  \\\n",
       "0  John Kerry's decorated service in Vietnam took...   \n",
       "1  Sen. Barack Obama captured enough convention d...   \n",
       "2  Sen. Barack Obama was elected the nation's fir...   \n",
       "\n",
       "                                            text_nyt        date  \n",
       "0  Barack Obama took the dais as the keynote spea...  2004-07-28  \n",
       "1  Senator Barack Obama claimed the Democratic pr...  2008-06-04  \n",
       "2  Barack Hussein Obama was elected the 44th pres...  2008-11-05  "
      ]
     },
     "execution_count": 2,
     "metadata": {},
     "output_type": "execute_result"
    }
   ],
   "source": [
    "#Load previously created data of oba, wsj and nyt - see nrcEmotionAnalysis.ipynb\n",
    "data = pd.read_csv('nonEmotiondata.csv')\n",
    "data.head(3)"
   ]
  },
  {
   "cell_type": "code",
   "execution_count": 3,
   "metadata": {},
   "outputs": [
    {
     "name": "stderr",
     "output_type": "stream",
     "text": [
      "C:\\Users\\Kylan\\AppData\\Local\\Temp\\ipykernel_14396\\682066490.py:5: SettingWithCopyWarning: \n",
      "A value is trying to be set on a copy of a slice from a DataFrame\n",
      "\n",
      "See the caveats in the documentation: https://pandas.pydata.org/pandas-docs/stable/user_guide/indexing.html#returning-a-view-versus-a-copy\n",
      "  data['oba_scores'][i]=analyzer.polarity_scores(data.iloc[i,2])\n",
      "C:\\Users\\Kylan\\AppData\\Local\\Temp\\ipykernel_14396\\682066490.py:6: SettingWithCopyWarning: \n",
      "A value is trying to be set on a copy of a slice from a DataFrame\n",
      "\n",
      "See the caveats in the documentation: https://pandas.pydata.org/pandas-docs/stable/user_guide/indexing.html#returning-a-view-versus-a-copy\n",
      "  data['wsj_scores'][i]=analyzer.polarity_scores(data.iloc[i,3])\n",
      "C:\\Users\\Kylan\\AppData\\Local\\Temp\\ipykernel_14396\\682066490.py:7: SettingWithCopyWarning: \n",
      "A value is trying to be set on a copy of a slice from a DataFrame\n",
      "\n",
      "See the caveats in the documentation: https://pandas.pydata.org/pandas-docs/stable/user_guide/indexing.html#returning-a-view-versus-a-copy\n",
      "  data['nyt_scores'][i]=analyzer.polarity_scores(data.iloc[i,4])\n"
     ]
    }
   ],
   "source": [
    "data['oba_scores']=0\n",
    "data['wsj_scores']=0\n",
    "data['nyt_scores']=0\n",
    "for i in range(0,len(data)):\n",
    "    data['oba_scores'][i]=analyzer.polarity_scores(data.iloc[i,2])\n",
    "    data['wsj_scores'][i]=analyzer.polarity_scores(data.iloc[i,3])\n",
    "    data['nyt_scores'][i]=analyzer.polarity_scores(data.iloc[i,4])\n",
    "#Calculating scores with vader and adding them to the df\n"
   ]
  },
  {
   "cell_type": "code",
   "execution_count": 4,
   "metadata": {},
   "outputs": [
    {
     "data": {
      "text/html": [
       "<div>\n",
       "<style scoped>\n",
       "    .dataframe tbody tr th:only-of-type {\n",
       "        vertical-align: middle;\n",
       "    }\n",
       "\n",
       "    .dataframe tbody tr th {\n",
       "        vertical-align: top;\n",
       "    }\n",
       "\n",
       "    .dataframe thead th {\n",
       "        text-align: right;\n",
       "    }\n",
       "</style>\n",
       "<table border=\"1\" class=\"dataframe\">\n",
       "  <thead>\n",
       "    <tr style=\"text-align: right;\">\n",
       "      <th></th>\n",
       "      <th>Unnamed: 0</th>\n",
       "      <th>file</th>\n",
       "      <th>text_oba</th>\n",
       "      <th>text_wsj</th>\n",
       "      <th>text_nyt</th>\n",
       "      <th>date</th>\n",
       "      <th>oba_scores</th>\n",
       "      <th>wsj_scores</th>\n",
       "      <th>nyt_scores</th>\n",
       "    </tr>\n",
       "  </thead>\n",
       "  <tbody>\n",
       "    <tr>\n",
       "      <th>0</th>\n",
       "      <td>0</td>\n",
       "      <td>2004-07-28-DNCSpeech.txt</td>\n",
       "      <td>On behalf of the great state of Illinois, cros...</td>\n",
       "      <td>John Kerry's decorated service in Vietnam took...</td>\n",
       "      <td>Barack Obama took the dais as the keynote spea...</td>\n",
       "      <td>2004-07-28</td>\n",
       "      <td>{'neg': 0.07, 'neu': 0.749, 'pos': 0.181, 'com...</td>\n",
       "      <td>{'neg': 0.111, 'neu': 0.787, 'pos': 0.102, 'co...</td>\n",
       "      <td>{'neg': 0.038, 'neu': 0.815, 'pos': 0.147, 'co...</td>\n",
       "    </tr>\n",
       "    <tr>\n",
       "      <th>1</th>\n",
       "      <td>1</td>\n",
       "      <td>2008-06-04-ObamaNomination.txt</td>\n",
       "      <td>Thank you....Thank you. What a -- What a wonde...</td>\n",
       "      <td>Sen. Barack Obama captured enough convention d...</td>\n",
       "      <td>Senator Barack Obama claimed the Democratic pr...</td>\n",
       "      <td>2008-06-04</td>\n",
       "      <td>{'neg': 0.063, 'neu': 0.76, 'pos': 0.177, 'com...</td>\n",
       "      <td>{'neg': 0.041, 'neu': 0.812, 'pos': 0.147, 'co...</td>\n",
       "      <td>{'neg': 0.05, 'neu': 0.816, 'pos': 0.133, 'com...</td>\n",
       "    </tr>\n",
       "    <tr>\n",
       "      <th>2</th>\n",
       "      <td>2</td>\n",
       "      <td>2008-11-05-ObamaElected.txt</td>\n",
       "      <td>Hello, Chicago.\\n\\nIf there is anyone out ther...</td>\n",
       "      <td>Sen. Barack Obama was elected the nation's fir...</td>\n",
       "      <td>Barack Hussein Obama was elected the 44th pres...</td>\n",
       "      <td>2008-11-05</td>\n",
       "      <td>{'neg': 0.066, 'neu': 0.758, 'pos': 0.176, 'co...</td>\n",
       "      <td>{'neg': 0.075, 'neu': 0.812, 'pos': 0.113, 'co...</td>\n",
       "      <td>{'neg': 0.066, 'neu': 0.82, 'pos': 0.114, 'com...</td>\n",
       "    </tr>\n",
       "    <tr>\n",
       "      <th>3</th>\n",
       "      <td>3</td>\n",
       "      <td>2009-01-05-EconomyPlans.txt</td>\n",
       "      <td>All right. Well, thanks for taking the time to...</td>\n",
       "      <td>President-elect Barack Obama and congressional...</td>\n",
       "      <td>President-elect Barack Obama plans to include ...</td>\n",
       "      <td>2009-01-05</td>\n",
       "      <td>{'neg': 0.072, 'neu': 0.856, 'pos': 0.072, 'co...</td>\n",
       "      <td>{'neg': 0.059, 'neu': 0.816, 'pos': 0.124, 'co...</td>\n",
       "      <td>{'neg': 0.046, 'neu': 0.872, 'pos': 0.082, 'co...</td>\n",
       "    </tr>\n",
       "    <tr>\n",
       "      <th>4</th>\n",
       "      <td>4</td>\n",
       "      <td>2009-01-20-Inauguration.txt</td>\n",
       "      <td>I, Barack Hussein Obama, do solemnly swear tha...</td>\n",
       "      <td>On a day rich in history, Barack Obama was swo...</td>\n",
       "      <td>Barack Hussein Obama was sworn in as the 44th ...</td>\n",
       "      <td>2009-01-20</td>\n",
       "      <td>{'neg': 0.105, 'neu': 0.711, 'pos': 0.184, 'co...</td>\n",
       "      <td>{'neg': 0.085, 'neu': 0.811, 'pos': 0.105, 'co...</td>\n",
       "      <td>{'neg': 0.083, 'neu': 0.813, 'pos': 0.104, 'co...</td>\n",
       "    </tr>\n",
       "  </tbody>\n",
       "</table>\n",
       "</div>"
      ],
      "text/plain": [
       "   Unnamed: 0                            file  \\\n",
       "0           0        2004-07-28-DNCSpeech.txt   \n",
       "1           1  2008-06-04-ObamaNomination.txt   \n",
       "2           2     2008-11-05-ObamaElected.txt   \n",
       "3           3     2009-01-05-EconomyPlans.txt   \n",
       "4           4     2009-01-20-Inauguration.txt   \n",
       "\n",
       "                                            text_oba  \\\n",
       "0  On behalf of the great state of Illinois, cros...   \n",
       "1  Thank you....Thank you. What a -- What a wonde...   \n",
       "2  Hello, Chicago.\\n\\nIf there is anyone out ther...   \n",
       "3  All right. Well, thanks for taking the time to...   \n",
       "4  I, Barack Hussein Obama, do solemnly swear tha...   \n",
       "\n",
       "                                            text_wsj  \\\n",
       "0  John Kerry's decorated service in Vietnam took...   \n",
       "1  Sen. Barack Obama captured enough convention d...   \n",
       "2  Sen. Barack Obama was elected the nation's fir...   \n",
       "3  President-elect Barack Obama and congressional...   \n",
       "4  On a day rich in history, Barack Obama was swo...   \n",
       "\n",
       "                                            text_nyt        date  \\\n",
       "0  Barack Obama took the dais as the keynote spea...  2004-07-28   \n",
       "1  Senator Barack Obama claimed the Democratic pr...  2008-06-04   \n",
       "2  Barack Hussein Obama was elected the 44th pres...  2008-11-05   \n",
       "3  President-elect Barack Obama plans to include ...  2009-01-05   \n",
       "4  Barack Hussein Obama was sworn in as the 44th ...  2009-01-20   \n",
       "\n",
       "                                          oba_scores  \\\n",
       "0  {'neg': 0.07, 'neu': 0.749, 'pos': 0.181, 'com...   \n",
       "1  {'neg': 0.063, 'neu': 0.76, 'pos': 0.177, 'com...   \n",
       "2  {'neg': 0.066, 'neu': 0.758, 'pos': 0.176, 'co...   \n",
       "3  {'neg': 0.072, 'neu': 0.856, 'pos': 0.072, 'co...   \n",
       "4  {'neg': 0.105, 'neu': 0.711, 'pos': 0.184, 'co...   \n",
       "\n",
       "                                          wsj_scores  \\\n",
       "0  {'neg': 0.111, 'neu': 0.787, 'pos': 0.102, 'co...   \n",
       "1  {'neg': 0.041, 'neu': 0.812, 'pos': 0.147, 'co...   \n",
       "2  {'neg': 0.075, 'neu': 0.812, 'pos': 0.113, 'co...   \n",
       "3  {'neg': 0.059, 'neu': 0.816, 'pos': 0.124, 'co...   \n",
       "4  {'neg': 0.085, 'neu': 0.811, 'pos': 0.105, 'co...   \n",
       "\n",
       "                                          nyt_scores  \n",
       "0  {'neg': 0.038, 'neu': 0.815, 'pos': 0.147, 'co...  \n",
       "1  {'neg': 0.05, 'neu': 0.816, 'pos': 0.133, 'com...  \n",
       "2  {'neg': 0.066, 'neu': 0.82, 'pos': 0.114, 'com...  \n",
       "3  {'neg': 0.046, 'neu': 0.872, 'pos': 0.082, 'co...  \n",
       "4  {'neg': 0.083, 'neu': 0.813, 'pos': 0.104, 'co...  "
      ]
     },
     "execution_count": 4,
     "metadata": {},
     "output_type": "execute_result"
    }
   ],
   "source": [
    "data.head()\n",
    "#Checking that the scores have been implemented properly"
   ]
  },
  {
   "cell_type": "code",
   "execution_count": 5,
   "metadata": {},
   "outputs": [],
   "source": [
    "oba_pos=[]\n",
    "oba_neu=[]\n",
    "oba_neg=[]\n",
    "wsj_pos=[]\n",
    "wsj_neu=[]\n",
    "wsj_neg=[]\n",
    "nyt_pos=[]\n",
    "nyt_neu=[]\n",
    "nyt_neg=[]\n",
    "for i in range(0,len(data)):\n",
    "    oba_pos.append(data['oba_scores'][i].get('pos'))\n",
    "    oba_neu.append(data['oba_scores'][i].get('neu'))\n",
    "    oba_neg.append(data['oba_scores'][i].get('neg'))\n",
    "    wsj_pos.append(data['wsj_scores'][i].get('pos'))\n",
    "    wsj_neu.append(data['wsj_scores'][i].get('neu'))\n",
    "    wsj_neg.append(data['wsj_scores'][i].get('neg'))\n",
    "    nyt_pos.append(data['nyt_scores'][i].get('pos'))\n",
    "    nyt_neu.append(data['nyt_scores'][i].get('neu'))\n",
    "    nyt_neg.append(data['nyt_scores'][i].get('neg'))\n",
    "#This is super verbose and could actually be done nicely through the use of dataframes, clean up required later"
   ]
  },
  {
   "cell_type": "code",
   "execution_count": 25,
   "metadata": {},
   "outputs": [
    {
     "data": {
      "image/png": "[encoded data removed]",
      "text/plain": [
       "<Figure size 640x480 with 1 Axes>"
      ]
     },
     "metadata": {},
     "output_type": "display_data"
    }
   ],
   "source": [
    "x=data.index\n",
    "plt.bar(x,oba_neg,color='red',label='Negative')\n",
    "plt.bar(x,oba_neu,bottom=oba_neg,color='yellow',label='Neutral')\n",
    "plt.bar(x,oba_pos,bottom=[sum(x) for x in zip(oba_neu,oba_neg)],color='green',label='Positive')\n",
    "plt.ylabel('Probability of sentiment')\n",
    "plt.title('Rule-based Sentiment analysis of Obama speeches')\n",
    "plt.legend(loc='best')\n",
    "plt.show()"
   ]
  },
  {
   "cell_type": "code",
   "execution_count": 7,
   "metadata": {},
   "outputs": [
    {
     "data": {
      "text/html": [
       "<div>\n",
       "<style scoped>\n",
       "    .dataframe tbody tr th:only-of-type {\n",
       "        vertical-align: middle;\n",
       "    }\n",
       "\n",
       "    .dataframe tbody tr th {\n",
       "        vertical-align: top;\n",
       "    }\n",
       "\n",
       "    .dataframe thead th {\n",
       "        text-align: right;\n",
       "    }\n",
       "</style>\n",
       "<table border=\"1\" class=\"dataframe\">\n",
       "  <thead>\n",
       "    <tr style=\"text-align: right;\">\n",
       "      <th></th>\n",
       "      <th>oba_neg</th>\n",
       "      <th>oba_neu</th>\n",
       "      <th>oba_pos</th>\n",
       "    </tr>\n",
       "    <tr>\n",
       "      <th>date</th>\n",
       "      <th></th>\n",
       "      <th></th>\n",
       "      <th></th>\n",
       "    </tr>\n",
       "  </thead>\n",
       "  <tbody>\n",
       "    <tr>\n",
       "      <th>2004-07-28</th>\n",
       "      <td>0.070</td>\n",
       "      <td>0.749</td>\n",
       "      <td>0.181</td>\n",
       "    </tr>\n",
       "    <tr>\n",
       "      <th>2008-06-04</th>\n",
       "      <td>0.063</td>\n",
       "      <td>0.760</td>\n",
       "      <td>0.177</td>\n",
       "    </tr>\n",
       "    <tr>\n",
       "      <th>2008-11-05</th>\n",
       "      <td>0.066</td>\n",
       "      <td>0.758</td>\n",
       "      <td>0.176</td>\n",
       "    </tr>\n",
       "    <tr>\n",
       "      <th>2009-01-05</th>\n",
       "      <td>0.072</td>\n",
       "      <td>0.856</td>\n",
       "      <td>0.072</td>\n",
       "    </tr>\n",
       "    <tr>\n",
       "      <th>2009-01-20</th>\n",
       "      <td>0.105</td>\n",
       "      <td>0.711</td>\n",
       "      <td>0.184</td>\n",
       "    </tr>\n",
       "  </tbody>\n",
       "</table>\n",
       "</div>"
      ],
      "text/plain": [
       "            oba_neg  oba_neu  oba_pos\n",
       "date                                 \n",
       "2004-07-28    0.070    0.749    0.181\n",
       "2008-06-04    0.063    0.760    0.177\n",
       "2008-11-05    0.066    0.758    0.176\n",
       "2009-01-05    0.072    0.856    0.072\n",
       "2009-01-20    0.105    0.711    0.184"
      ]
     },
     "execution_count": 7,
     "metadata": {},
     "output_type": "execute_result"
    }
   ],
   "source": [
    "#Create dataframe for plotting obama data using plotly\n",
    "oba_bardata=pd.DataFrame({'oba_neg':oba_neg,'oba_neu':oba_neu,'oba_pos':oba_pos},index=data['date'])\n",
    "oba_bardata.head()"
   ]
  },
  {
   "cell_type": "code",
   "execution_count": 12,
   "metadata": {},
   "outputs": [
    {
     "data": {
      "application/vnd.plotly.v1+json": {
       "config": {
        "plotlyServerURL": "https://plot.ly"
       },
       "data": [
        {
         "hovertemplate": "variable=oba_neg<br>x=%{x}<br>value=%{y}<extra></extra>",
         "legendgroup": "oba_neg",
         "line": {
          "color": "#636efa",
          "dash": "solid"
         },
         "marker": {
          "symbol": "circle"
         },
         "mode": "lines",
         "name": "oba_neg",
         "orientation": "v",
         "showlegend": true,
         "type": "scatter",
         "x": [
          "2008-06-04",
          "2008-11-05",
          "2009-01-05",
          "2009-01-20",
          "2009-04-02",
          "2009-04-15",
          "2009-05-22",
          "2009-06-15",
          "2009-07-15",
          "2009-09-24",
          "2009-10-09",
          "2009-11-05",
          "2009-12-19",
          "2009-12-25",
          "2010-01-12",
          "2010-03-04",
          "2010-03-24",
          "2010-04-15",
          "2010-04-22",
          "2010-05-07",
          "2010-07-15",
          "2010-07-21",
          "2010-07-26",
          "2010-08-31",
          "2010-11-02",
          "2011-01-08",
          "2011-01-26",
          "2011-01-31",
          "2011-02-19",
          "2011-05-02",
          "2011-05-23",
          "2011-06-23",
          "2011-07-26",
          "2011-09-09",
          "2011-10-17",
          "2011-11-17",
          "2011-12-16",
          "2012-01-06",
          "2012-01-25",
          "2012-03-27",
          "2012-03-31",
          "2012-04-29",
          "2012-05-02",
          "2012-05-10",
          "2012-06-29",
          "2012-07-21",
          "2012-09-07",
          "2012-10-29",
          "2012-11-07",
          "2012-12-15",
          "2013-01-16",
          "2013-01-22",
          "2013-01-30",
          "2013-02-13",
          "2013-04-16",
          "2013-04-26",
          "2013-05-04",
          "2013-06-19",
          "2013-07-14",
          "2013-08-29",
          "2013-09-11",
          "2013-10-02",
          "2013-12-06",
          "2014-01-18",
          "2014-01-29",
          "2014-03-07",
          "2014-03-26",
          "2014-04-11",
          "2014-05-21",
          "2014-07-01",
          "2014-08-08",
          "2014-08-12",
          "2014-09-17",
          "2014-10-18",
          "2014-11-05",
          "2014-12-18",
          "2015-01-08",
          "2015-01-21",
          "2015-02-14",
          "2015-03-11",
          "2015-04-03",
          "2015-05-09",
          "2015-06-18",
          "2015-07-07",
          "2015-08-03",
          "2015-09-24",
          "2015-10-02",
          "2015-11-14",
          "2015-12-14",
          "2016-01-13",
          "2016-02-16",
          "2016-03-23",
          "2016-04-25",
          "2016-05-06",
          "2016-06-13",
          "2016-07-28",
          "2016-08-17",
          "2016-09-05",
          "2016-11-09",
          "2017-01-11"
         ],
         "xaxis": "x",
         "y": [
          0.063,
          0.066,
          0.072,
          0.105,
          0.082,
          0.101,
          0.125,
          0.138,
          0.056,
          0.108,
          0.159,
          0.089,
          0.051,
          0.094,
          0.071,
          0.072,
          0.051,
          0.033,
          0.123,
          0.057,
          0.086,
          0.058,
          0.042,
          0.13,
          0.069,
          0.073,
          0.056,
          0.011,
          0.025,
          0.101,
          0.095,
          0.119,
          0.121,
          0.073,
          0.098,
          0.06,
          0.052,
          0.046,
          0.073,
          0.069,
          0.032,
          0.059,
          0.106,
          0.032,
          0.055,
          0.093,
          0.09,
          0.06,
          0.068,
          0.089,
          0.135,
          0.064,
          0.028,
          0.073,
          0.048,
          0.048,
          0.034,
          0.081,
          0.073,
          0.079,
          0.18,
          0.065,
          0.036,
          0.071,
          0.076,
          0.05,
          0.084,
          0.081,
          0.077,
          0.079,
          0.124,
          0.065,
          0.057,
          0.105,
          0.029,
          0.066,
          0.262,
          0.081,
          0.066,
          0.041,
          0.1,
          0.039,
          0.126,
          0.145,
          0.087,
          0.08,
          0.136,
          0.12,
          0.047,
          0.096,
          0.007,
          0.07,
          0.086,
          0.061,
          0.13,
          0.085,
          0.06,
          0.07,
          0.046,
          0.081
         ],
         "yaxis": "y"
        },
        {
         "hovertemplate": "variable=oba_neu<br>x=%{x}<br>value=%{y}<extra></extra>",
         "legendgroup": "oba_neu",
         "line": {
          "color": "#EF553B",
          "dash": "solid"
         },
         "marker": {
          "symbol": "circle"
         },
         "mode": "lines",
         "name": "oba_neu",
         "orientation": "v",
         "showlegend": true,
         "type": "scatter",
         "x": [
          "2008-06-04",
          "2008-11-05",
          "2009-01-05",
          "2009-01-20",
          "2009-04-02",
          "2009-04-15",
          "2009-05-22",
          "2009-06-15",
          "2009-07-15",
          "2009-09-24",
          "2009-10-09",
          "2009-11-05",
          "2009-12-19",
          "2009-12-25",
          "2010-01-12",
          "2010-03-04",
          "2010-03-24",
          "2010-04-15",
          "2010-04-22",
          "2010-05-07",
          "2010-07-15",
          "2010-07-21",
          "2010-07-26",
          "2010-08-31",
          "2010-11-02",
          "2011-01-08",
          "2011-01-26",
          "2011-01-31",
          "2011-02-19",
          "2011-05-02",
          "2011-05-23",
          "2011-06-23",
          "2011-07-26",
          "2011-09-09",
          "2011-10-17",
          "2011-11-17",
          "2011-12-16",
          "2012-01-06",
          "2012-01-25",
          "2012-03-27",
          "2012-03-31",
          "2012-04-29",
          "2012-05-02",
          "2012-05-10",
          "2012-06-29",
          "2012-07-21",
          "2012-09-07",
          "2012-10-29",
          "2012-11-07",
          "2012-12-15",
          "2013-01-16",
          "2013-01-22",
          "2013-01-30",
          "2013-02-13",
          "2013-04-16",
          "2013-04-26",
          "2013-05-04",
          "2013-06-19",
          "2013-07-14",
          "2013-08-29",
          "2013-09-11",
          "2013-10-02",
          "2013-12-06",
          "2014-01-18",
          "2014-01-29",
          "2014-03-07",
          "2014-03-26",
          "2014-04-11",
          "2014-05-21",
          "2014-07-01",
          "2014-08-08",
          "2014-08-12",
          "2014-09-17",
          "2014-10-18",
          "2014-11-05",
          "2014-12-18",
          "2015-01-08",
          "2015-01-21",
          "2015-02-14",
          "2015-03-11",
          "2015-04-03",
          "2015-05-09",
          "2015-06-18",
          "2015-07-07",
          "2015-08-03",
          "2015-09-24",
          "2015-10-02",
          "2015-11-14",
          "2015-12-14",
          "2016-01-13",
          "2016-02-16",
          "2016-03-23",
          "2016-04-25",
          "2016-05-06",
          "2016-06-13",
          "2016-07-28",
          "2016-08-17",
          "2016-09-05",
          "2016-11-09",
          "2017-01-11"
         ],
         "xaxis": "x",
         "y": [
          0.76,
          0.758,
          0.856,
          0.711,
          0.751,
          0.766,
          0.74,
          0.724,
          0.804,
          0.723,
          0.666,
          0.745,
          0.775,
          0.758,
          0.736,
          0.807,
          0.817,
          0.83,
          0.768,
          0.747,
          0.766,
          0.836,
          0.804,
          0.717,
          0.74,
          0.736,
          0.799,
          0.822,
          0.821,
          0.756,
          0.734,
          0.721,
          0.746,
          0.801,
          0.729,
          0.718,
          0.773,
          0.803,
          0.783,
          0.746,
          0.848,
          0.763,
          0.727,
          0.822,
          0.763,
          0.731,
          0.748,
          0.837,
          0.733,
          0.726,
          0.729,
          0.735,
          0.821,
          0.75,
          0.768,
          0.715,
          0.775,
          0.68,
          0.818,
          0.739,
          0.693,
          0.813,
          0.709,
          0.779,
          0.747,
          0.819,
          0.738,
          0.768,
          0.806,
          0.772,
          0.723,
          0.797,
          0.789,
          0.732,
          0.824,
          0.755,
          0.604,
          0.743,
          0.751,
          0.805,
          0.74,
          0.772,
          0.745,
          0.712,
          0.782,
          0.65,
          0.767,
          0.723,
          0.715,
          0.738,
          0.743,
          0.814,
          0.72,
          0.816,
          0.728,
          0.734,
          0.795,
          0.748,
          0.767,
          0.73
         ],
         "yaxis": "y"
        },
        {
         "hovertemplate": "variable=oba_pos<br>x=%{x}<br>value=%{y}<extra></extra>",
         "legendgroup": "oba_pos",
         "line": {
          "color": "#00cc96",
          "dash": "solid"
         },
         "marker": {
          "symbol": "circle"
         },
         "mode": "lines",
         "name": "oba_pos",
         "orientation": "v",
         "showlegend": true,
         "type": "scatter",
         "x": [
          "2008-06-04",
          "2008-11-05",
          "2009-01-05",
          "2009-01-20",
          "2009-04-02",
          "2009-04-15",
          "2009-05-22",
          "2009-06-15",
          "2009-07-15",
          "2009-09-24",
          "2009-10-09",
          "2009-11-05",
          "2009-12-19",
          "2009-12-25",
          "2010-01-12",
          "2010-03-04",
          "2010-03-24",
          "2010-04-15",
          "2010-04-22",
          "2010-05-07",
          "2010-07-15",
          "2010-07-21",
          "2010-07-26",
          "2010-08-31",
          "2010-11-02",
          "2011-01-08",
          "2011-01-26",
          "2011-01-31",
          "2011-02-19",
          "2011-05-02",
          "2011-05-23",
          "2011-06-23",
          "2011-07-26",
          "2011-09-09",
          "2011-10-17",
          "2011-11-17",
          "2011-12-16",
          "2012-01-06",
          "2012-01-25",
          "2012-03-27",
          "2012-03-31",
          "2012-04-29",
          "2012-05-02",
          "2012-05-10",
          "2012-06-29",
          "2012-07-21",
          "2012-09-07",
          "2012-10-29",
          "2012-11-07",
          "2012-12-15",
          "2013-01-16",
          "2013-01-22",
          "2013-01-30",
          "2013-02-13",
          "2013-04-16",
          "2013-04-26",
          "2013-05-04",
          "2013-06-19",
          "2013-07-14",
          "2013-08-29",
          "2013-09-11",
          "2013-10-02",
          "2013-12-06",
          "2014-01-18",
          "2014-01-29",
          "2014-03-07",
          "2014-03-26",
          "2014-04-11",
          "2014-05-21",
          "2014-07-01",
          "2014-08-08",
          "2014-08-12",
          "2014-09-17",
          "2014-10-18",
          "2014-11-05",
          "2014-12-18",
          "2015-01-08",
          "2015-01-21",
          "2015-02-14",
          "2015-03-11",
          "2015-04-03",
          "2015-05-09",
          "2015-06-18",
          "2015-07-07",
          "2015-08-03",
          "2015-09-24",
          "2015-10-02",
          "2015-11-14",
          "2015-12-14",
          "2016-01-13",
          "2016-02-16",
          "2016-03-23",
          "2016-04-25",
          "2016-05-06",
          "2016-06-13",
          "2016-07-28",
          "2016-08-17",
          "2016-09-05",
          "2016-11-09",
          "2017-01-11"
         ],
         "xaxis": "x",
         "y": [
          0.177,
          0.176,
          0.072,
          0.184,
          0.168,
          0.132,
          0.135,
          0.138,
          0.14,
          0.168,
          0.175,
          0.166,
          0.174,
          0.148,
          0.193,
          0.121,
          0.132,
          0.137,
          0.109,
          0.195,
          0.147,
          0.106,
          0.154,
          0.153,
          0.191,
          0.191,
          0.145,
          0.167,
          0.154,
          0.143,
          0.171,
          0.16,
          0.132,
          0.126,
          0.173,
          0.221,
          0.175,
          0.151,
          0.143,
          0.185,
          0.12,
          0.178,
          0.167,
          0.146,
          0.182,
          0.176,
          0.162,
          0.104,
          0.199,
          0.186,
          0.136,
          0.201,
          0.151,
          0.177,
          0.184,
          0.237,
          0.191,
          0.238,
          0.109,
          0.182,
          0.127,
          0.121,
          0.255,
          0.15,
          0.177,
          0.131,
          0.178,
          0.151,
          0.117,
          0.149,
          0.153,
          0.139,
          0.153,
          0.163,
          0.148,
          0.179,
          0.134,
          0.176,
          0.183,
          0.154,
          0.16,
          0.189,
          0.129,
          0.143,
          0.131,
          0.27,
          0.097,
          0.157,
          0.238,
          0.166,
          0.25,
          0.115,
          0.194,
          0.123,
          0.142,
          0.181,
          0.146,
          0.181,
          0.186,
          0.188
         ],
         "yaxis": "y"
        }
       ],
       "layout": {
        "legend": {
         "title": {
          "text": "variable"
         },
         "tracegroupgap": 0
        },
        "margin": {
         "t": 60
        },
        "template": {
         "data": {
          "bar": [
           {
            "error_x": {
             "color": "#2a3f5f"
            },
            "error_y": {
             "color": "#2a3f5f"
            },
            "marker": {
             "line": {
              "color": "#E5ECF6",
              "width": 0.5
             },
             "pattern": {
              "fillmode": "overlay",
              "size": 10,
              "solidity": 0.2
             }
            },
            "type": "bar"
           }
          ],
          "barpolar": [
           {
            "marker": {
             "line": {
              "color": "#E5ECF6",
              "width": 0.5
             },
             "pattern": {
              "fillmode": "overlay",
              "size": 10,
              "solidity": 0.2
             }
            },
            "type": "barpolar"
           }
          ],
          "carpet": [
           {
            "aaxis": {
             "endlinecolor": "#2a3f5f",
             "gridcolor": "white",
             "linecolor": "white",
             "minorgridcolor": "white",
             "startlinecolor": "#2a3f5f"
            },
            "baxis": {
             "endlinecolor": "#2a3f5f",
             "gridcolor": "white",
             "linecolor": "white",
             "minorgridcolor": "white",
             "startlinecolor": "#2a3f5f"
            },
            "type": "carpet"
           }
          ],
          "choropleth": [
           {
            "colorbar": {
             "outlinewidth": 0,
             "ticks": ""
            },
            "type": "choropleth"
           }
          ],
          "contour": [
           {
            "colorbar": {
             "outlinewidth": 0,
             "ticks": ""
            },
            "colorscale": [
             [
              0,
              "#0d0887"
             ],
             [
              0.1111111111111111,
              "#46039f"
             ],
             [
              0.2222222222222222,
              "#7201a8"
             ],
             [
              0.3333333333333333,
              "#9c179e"
             ],
             [
              0.4444444444444444,
              "#bd3786"
             ],
             [
              0.5555555555555556,
              "#d8576b"
             ],
             [
              0.6666666666666666,
              "#ed7953"
             ],
             [
              0.7777777777777778,
              "#fb9f3a"
             ],
             [
              0.8888888888888888,
              "#fdca26"
             ],
             [
              1,
              "#f0f921"
             ]
            ],
            "type": "contour"
           }
          ],
          "contourcarpet": [
           {
            "colorbar": {
             "outlinewidth": 0,
             "ticks": ""
            },
            "type": "contourcarpet"
           }
          ],
          "heatmap": [
           {
            "colorbar": {
             "outlinewidth": 0,
             "ticks": ""
            },
            "colorscale": [
             [
              0,
              "#0d0887"
             ],
             [
              0.1111111111111111,
              "#46039f"
             ],
             [
              0.2222222222222222,
              "#7201a8"
             ],
             [
              0.3333333333333333,
              "#9c179e"
             ],
             [
              0.4444444444444444,
              "#bd3786"
             ],
             [
              0.5555555555555556,
              "#d8576b"
             ],
             [
              0.6666666666666666,
              "#ed7953"
             ],
             [
              0.7777777777777778,
              "#fb9f3a"
             ],
             [
              0.8888888888888888,
              "#fdca26"
             ],
             [
              1,
              "#f0f921"
             ]
            ],
            "type": "heatmap"
           }
          ],
          "heatmapgl": [
           {
            "colorbar": {
             "outlinewidth": 0,
             "ticks": ""
            },
            "colorscale": [
             [
              0,
              "#0d0887"
             ],
             [
              0.1111111111111111,
              "#46039f"
             ],
             [
              0.2222222222222222,
              "#7201a8"
             ],
             [
              0.3333333333333333,
              "#9c179e"
             ],
             [
              0.4444444444444444,
              "#bd3786"
             ],
             [
              0.5555555555555556,
              "#d8576b"
             ],
             [
              0.6666666666666666,
              "#ed7953"
             ],
             [
              0.7777777777777778,
              "#fb9f3a"
             ],
             [
              0.8888888888888888,
              "#fdca26"
             ],
             [
              1,
              "#f0f921"
             ]
            ],
            "type": "heatmapgl"
           }
          ],
          "histogram": [
           {
            "marker": {
             "pattern": {
              "fillmode": "overlay",
              "size": 10,
              "solidity": 0.2
             }
            },
            "type": "histogram"
           }
          ],
          "histogram2d": [
           {
            "colorbar": {
             "outlinewidth": 0,
             "ticks": ""
            },
            "colorscale": [
             [
              0,
              "#0d0887"
             ],
             [
              0.1111111111111111,
              "#46039f"
             ],
             [
              0.2222222222222222,
              "#7201a8"
             ],
             [
              0.3333333333333333,
              "#9c179e"
             ],
             [
              0.4444444444444444,
              "#bd3786"
             ],
             [
              0.5555555555555556,
              "#d8576b"
             ],
             [
              0.6666666666666666,
              "#ed7953"
             ],
             [
              0.7777777777777778,
              "#fb9f3a"
             ],
             [
              0.8888888888888888,
              "#fdca26"
             ],
             [
              1,
              "#f0f921"
             ]
            ],
            "type": "histogram2d"
           }
          ],
          "histogram2dcontour": [
           {
            "colorbar": {
             "outlinewidth": 0,
             "ticks": ""
            },
            "colorscale": [
             [
              0,
              "#0d0887"
             ],
             [
              0.1111111111111111,
              "#46039f"
             ],
             [
              0.2222222222222222,
              "#7201a8"
             ],
             [
              0.3333333333333333,
              "#9c179e"
             ],
             [
              0.4444444444444444,
              "#bd3786"
             ],
             [
              0.5555555555555556,
              "#d8576b"
             ],
             [
              0.6666666666666666,
              "#ed7953"
             ],
             [
              0.7777777777777778,
              "#fb9f3a"
             ],
             [
              0.8888888888888888,
              "#fdca26"
             ],
             [
              1,
              "#f0f921"
             ]
            ],
            "type": "histogram2dcontour"
           }
          ],
          "mesh3d": [
           {
            "colorbar": {
             "outlinewidth": 0,
             "ticks": ""
            },
            "type": "mesh3d"
           }
          ],
          "parcoords": [
           {
            "line": {
             "colorbar": {
              "outlinewidth": 0,
              "ticks": ""
             }
            },
            "type": "parcoords"
           }
          ],
          "pie": [
           {
            "automargin": true,
            "type": "pie"
           }
          ],
          "scatter": [
           {
            "fillpattern": {
             "fillmode": "overlay",
             "size": 10,
             "solidity": 0.2
            },
            "type": "scatter"
           }
          ],
          "scatter3d": [
           {
            "line": {
             "colorbar": {
              "outlinewidth": 0,
              "ticks": ""
             }
            },
            "marker": {
             "colorbar": {
              "outlinewidth": 0,
              "ticks": ""
             }
            },
            "type": "scatter3d"
           }
          ],
          "scattercarpet": [
           {
            "marker": {
             "colorbar": {
              "outlinewidth": 0,
              "ticks": ""
             }
            },
            "type": "scattercarpet"
           }
          ],
          "scattergeo": [
           {
            "marker": {
             "colorbar": {
              "outlinewidth": 0,
              "ticks": ""
             }
            },
            "type": "scattergeo"
           }
          ],
          "scattergl": [
           {
            "marker": {
             "colorbar": {
              "outlinewidth": 0,
              "ticks": ""
             }
            },
            "type": "scattergl"
           }
          ],
          "scattermapbox": [
           {
            "marker": {
             "colorbar": {
              "outlinewidth": 0,
              "ticks": ""
             }
            },
            "type": "scattermapbox"
           }
          ],
          "scatterpolar": [
           {
            "marker": {
             "colorbar": {
              "outlinewidth": 0,
              "ticks": ""
             }
            },
            "type": "scatterpolar"
           }
          ],
          "scatterpolargl": [
           {
            "marker": {
             "colorbar": {
              "outlinewidth": 0,
              "ticks": ""
             }
            },
            "type": "scatterpolargl"
           }
          ],
          "scatterternary": [
           {
            "marker": {
             "colorbar": {
              "outlinewidth": 0,
              "ticks": ""
             }
            },
            "type": "scatterternary"
           }
          ],
          "surface": [
           {
            "colorbar": {
             "outlinewidth": 0,
             "ticks": ""
            },
            "colorscale": [
             [
              0,
              "#0d0887"
             ],
             [
              0.1111111111111111,
              "#46039f"
             ],
             [
              0.2222222222222222,
              "#7201a8"
             ],
             [
              0.3333333333333333,
              "#9c179e"
             ],
             [
              0.4444444444444444,
              "#bd3786"
             ],
             [
              0.5555555555555556,
              "#d8576b"
             ],
             [
              0.6666666666666666,
              "#ed7953"
             ],
             [
              0.7777777777777778,
              "#fb9f3a"
             ],
             [
              0.8888888888888888,
              "#fdca26"
             ],
             [
              1,
              "#f0f921"
             ]
            ],
            "type": "surface"
           }
          ],
          "table": [
           {
            "cells": {
             "fill": {
              "color": "#EBF0F8"
             },
             "line": {
              "color": "white"
             }
            },
            "header": {
             "fill": {
              "color": "#C8D4E3"
             },
             "line": {
              "color": "white"
             }
            },
            "type": "table"
           }
          ]
         },
         "layout": {
          "annotationdefaults": {
           "arrowcolor": "#2a3f5f",
           "arrowhead": 0,
           "arrowwidth": 1
          },
          "autotypenumbers": "strict",
          "coloraxis": {
           "colorbar": {
            "outlinewidth": 0,
            "ticks": ""
           }
          },
          "colorscale": {
           "diverging": [
            [
             0,
             "#8e0152"
            ],
            [
             0.1,
             "#c51b7d"
            ],
            [
             0.2,
             "#de77ae"
            ],
            [
             0.3,
             "#f1b6da"
            ],
            [
             0.4,
             "#fde0ef"
            ],
            [
             0.5,
             "#f7f7f7"
            ],
            [
             0.6,
             "#e6f5d0"
            ],
            [
             0.7,
             "#b8e186"
            ],
            [
             0.8,
             "#7fbc41"
            ],
            [
             0.9,
             "#4d9221"
            ],
            [
             1,
             "#276419"
            ]
           ],
           "sequential": [
            [
             0,
             "#0d0887"
            ],
            [
             0.1111111111111111,
             "#46039f"
            ],
            [
             0.2222222222222222,
             "#7201a8"
            ],
            [
             0.3333333333333333,
             "#9c179e"
            ],
            [
             0.4444444444444444,
             "#bd3786"
            ],
            [
             0.5555555555555556,
             "#d8576b"
            ],
            [
             0.6666666666666666,
             "#ed7953"
            ],
            [
             0.7777777777777778,
             "#fb9f3a"
            ],
            [
             0.8888888888888888,
             "#fdca26"
            ],
            [
             1,
             "#f0f921"
            ]
           ],
           "sequentialminus": [
            [
             0,
             "#0d0887"
            ],
            [
             0.1111111111111111,
             "#46039f"
            ],
            [
             0.2222222222222222,
             "#7201a8"
            ],
            [
             0.3333333333333333,
             "#9c179e"
            ],
            [
             0.4444444444444444,
             "#bd3786"
            ],
            [
             0.5555555555555556,
             "#d8576b"
            ],
            [
             0.6666666666666666,
             "#ed7953"
            ],
            [
             0.7777777777777778,
             "#fb9f3a"
            ],
            [
             0.8888888888888888,
             "#fdca26"
            ],
            [
             1,
             "#f0f921"
            ]
           ]
          },
          "colorway": [
           "#636efa",
           "#EF553B",
           "#00cc96",
           "#ab63fa",
           "#FFA15A",
           "#19d3f3",
           "#FF6692",
           "#B6E880",
           "#FF97FF",
           "#FECB52"
          ],
          "font": {
           "color": "#2a3f5f"
          },
          "geo": {
           "bgcolor": "white",
           "lakecolor": "white",
           "landcolor": "#E5ECF6",
           "showlakes": true,
           "showland": true,
           "subunitcolor": "white"
          },
          "hoverlabel": {
           "align": "left"
          },
          "hovermode": "closest",
          "mapbox": {
           "style": "light"
          },
          "paper_bgcolor": "white",
          "plot_bgcolor": "#E5ECF6",
          "polar": {
           "angularaxis": {
            "gridcolor": "white",
            "linecolor": "white",
            "ticks": ""
           },
           "bgcolor": "#E5ECF6",
           "radialaxis": {
            "gridcolor": "white",
            "linecolor": "white",
            "ticks": ""
           }
          },
          "scene": {
           "xaxis": {
            "backgroundcolor": "#E5ECF6",
            "gridcolor": "white",
            "gridwidth": 2,
            "linecolor": "white",
            "showbackground": true,
            "ticks": "",
            "zerolinecolor": "white"
           },
           "yaxis": {
            "backgroundcolor": "#E5ECF6",
            "gridcolor": "white",
            "gridwidth": 2,
            "linecolor": "white",
            "showbackground": true,
            "ticks": "",
            "zerolinecolor": "white"
           },
           "zaxis": {
            "backgroundcolor": "#E5ECF6",
            "gridcolor": "white",
            "gridwidth": 2,
            "linecolor": "white",
            "showbackground": true,
            "ticks": "",
            "zerolinecolor": "white"
           }
          },
          "shapedefaults": {
           "line": {
            "color": "#2a3f5f"
           }
          },
          "ternary": {
           "aaxis": {
            "gridcolor": "white",
            "linecolor": "white",
            "ticks": ""
           },
           "baxis": {
            "gridcolor": "white",
            "linecolor": "white",
            "ticks": ""
           },
           "bgcolor": "#E5ECF6",
           "caxis": {
            "gridcolor": "white",
            "linecolor": "white",
            "ticks": ""
           }
          },
          "title": {
           "x": 0.05
          },
          "xaxis": {
           "automargin": true,
           "gridcolor": "white",
           "linecolor": "white",
           "ticks": "",
           "title": {
            "standoff": 15
           },
           "zerolinecolor": "white",
           "zerolinewidth": 2
          },
          "yaxis": {
           "automargin": true,
           "gridcolor": "white",
           "linecolor": "white",
           "ticks": "",
           "title": {
            "standoff": 15
           },
           "zerolinecolor": "white",
           "zerolinewidth": 2
          }
         }
        },
        "xaxis": {
         "anchor": "y",
         "domain": [
          0,
          1
         ],
         "title": {
          "text": "x"
         }
        },
        "yaxis": {
         "anchor": "x",
         "domain": [
          0,
          1
         ],
         "title": {
          "text": "value"
         }
        }
       }
      }
     },
     "metadata": {},
     "output_type": "display_data"
    }
   ],
   "source": [
    "#Tail to remove the first obs which is from 2004 and messes with the plot\n",
    "#You can change between px.line, px.bar (difficult to see) and px.histogram (messy aggregation)\n",
    "\n",
    "fig=px.line(oba_bardata.tail(-1),x=oba_bardata.tail(-1).index,y=['oba_neg','oba_neu','oba_pos'])\n",
    "fig.show()"
   ]
  },
  {
   "attachments": {},
   "cell_type": "markdown",
   "metadata": {},
   "source": [
    "## Part 2: Fine-grained sentiment analysis using FastText and/or Flair"
   ]
  },
  {
   "cell_type": "code",
   "execution_count": null,
   "metadata": {},
   "outputs": [],
   "source": [
    "#Reload original dataframe\n",
    "data = pd.read_csv('nonEmotiondata.csv')"
   ]
  }
 ],
 "metadata": {
  "kernelspec": {
   "display_name": "Python 3.10.8 ('blauwe_kater')",
   "language": "python",
   "name": "python3"
  },
  "language_info": {
   "codemirror_mode": {
    "name": "ipython",
    "version": 3
   },
   "file_extension": ".py",
   "mimetype": "text/x-python",
   "name": "python",
   "nbconvert_exporter": "python",
   "pygments_lexer": "ipython3",
   "version": "3.10.8"
  },
  "orig_nbformat": 4,
  "vscode": {
   "interpreter": {
    "hash": "107f2f6f19e96c840132efb8a7e6b8d8e9855354386e3f52164003e5deff7bc5"
   }
  }
 },
 "nbformat": 4,
 "nbformat_minor": 2
}
