{
 "cells": [
  {
   "cell_type": "code",
   "execution_count": 148,
   "id": "ec194264",
   "metadata": {},
   "outputs": [
    {
     "name": "stderr",
     "output_type": "stream",
     "text": [
      "[nltk_data] Downloading package punkt to /home/muddy/nltk_data...\n",
      "[nltk_data]   Package punkt is already up-to-date!\n",
      "[nltk_data] Downloading package wordnet to /home/muddy/nltk_data...\n",
      "[nltk_data]   Package wordnet is already up-to-date!\n"
     ]
    }
   ],
   "source": [
    "import pandas as pd\n",
    "import numpy as np\n",
    "import matplotlib.pyplot as plt\n",
    "import spacy\n",
    "import en_core_web_md\n",
    "import csv\n",
    "import regex as re\n",
    "import os\n",
    "import nltk\n",
    "import plotly.express as px\n",
    "from nltk.stem import WordNetLemmatizer\n",
    "from sklearn.decomposition import PCA\n",
    "from sklearn.preprocessing import StandardScaler\n",
    "from sklearn.metrics.pairwise import euclidean_distances\n",
    "from collections import defaultdict\n",
    "from textblob import TextBlob\n",
    "from nltk.tokenize import TreebankWordTokenizer\n",
    "from nltk.tokenize import sent_tokenize\n",
    "from nltk.tokenize import RegexpTokenizer\n",
    "import readability\n",
    "import pprint # pretty print for easy printing of ordered dictionary\n",
    "# import spacy # Needed for GeeksforGeeks code which is a mess\n",
    "from textstat.textstat import textstatistics\n",
    "import spacy\n",
    "spacy.load('en_core_web_md')\n",
    "from nltk.corpus import cmudict\n",
    "nltk.download(\"punkt\")\n",
    "from nltk.stem import WordNetLemmatizer\n",
    "nltk.download ('wordnet')\n",
    "import unicodedata\n",
    "import stanza\n",
    "word_token = TreebankWordTokenizer()"
   ]
  },
  {
   "cell_type": "markdown",
   "id": "8495f2ce",
   "metadata": {},
   "source": [
    "<A HREF=\"https://pandas.pydata.org/Pandas_Cheat_Sheet.pdf\">Pandas cheat sheet</A>"
   ]
  },
  {
   "cell_type": "code",
   "execution_count": 47,
   "id": "3087d97a",
   "metadata": {},
   "outputs": [
    {
     "data": {
      "text/plain": [
       "'10/05/2010'"
      ]
     },
     "execution_count": 47,
     "metadata": {},
     "output_type": "execute_result"
    }
   ],
   "source": [
    "file='speech_and_date.csv'\n",
    "dates=pd.read_csv(file)\n",
    "dates['date'][23]"
   ]
  },
  {
   "cell_type": "code",
   "execution_count": 72,
   "id": "3d2e8f66",
   "metadata": {},
   "outputs": [
    {
     "data": {
      "text/plain": [
       "'DataUCSB/address-before-joint-session-the-congress-the-state-the-union-17.txt'"
      ]
     },
     "execution_count": 72,
     "metadata": {},
     "output_type": "execute_result"
    }
   ],
   "source": [
    "# use .iloc[0] to get the actual string in the cell and not a pandas object\n",
    "dates.loc[dates['date'] == '27/01/2010']['file'].iloc[0]"
   ]
  },
  {
   "cell_type": "code",
   "execution_count": 83,
   "id": "d28e51ff",
   "metadata": {},
   "outputs": [],
   "source": [
    "# use .iloc[0] to get the actual string in the cell and not a pandas object\n",
    "speechlink = dates.loc[dates['date'] == '27/01/2010']['file'].iloc[0]\n",
    "with open(speechlink, encoding='utf-8') as f:\n",
    "        spec_speech = f.read()\n",
    "spec_speech=re.sub('\\[.+?\\]', '',spec_speech)\n",
    "spec_speech=re.sub('\\-\\-', ' ',spec_speech)"
   ]
  },
  {
   "cell_type": "code",
   "execution_count": 81,
   "id": "aa93e192",
   "metadata": {},
   "outputs": [],
   "source": [
    "nytimesFile=\"./NYTimes/01-27-2010.txt\"\n",
    "with open(nytimesFile, encoding='utf-8') as f:\n",
    "        nytimes = f.read()\n",
    "nytimes = nytimes.replace('\\n', '')"
   ]
  },
  {
   "cell_type": "code",
   "execution_count": 9,
   "id": "06e75153",
   "metadata": {},
   "outputs": [],
   "source": [
    "# Load up the files\n",
    "path = './DataUCSB/'\n",
    "list_of_files = []\n",
    "\n",
    "for root, dirs, files in os.walk(path):\n",
    "    for file in files:\n",
    "        if file.endswith('.txt'):\n",
    "            list_of_files.append(os.path.join(root,file))\n",
    "\n",
    "speeches = []\n",
    "for file in list_of_files:\n",
    "    with open(file, encoding='utf-8') as f:\n",
    "        text = f.read()\n",
    "    speeches.append(text)"
   ]
  },
  {
   "cell_type": "markdown",
   "id": "fd5e8c96",
   "metadata": {},
   "source": [
    "<A HREF=\"https://regexr.com/\">Regexr</A>"
   ]
  },
  {
   "cell_type": "code",
   "execution_count": 10,
   "id": "45092ef0",
   "metadata": {},
   "outputs": [],
   "source": [
    "# take out stuff like [Laughter] and [applause] and [Obama signs document]\n",
    "speeches = [re.sub('\\[.+?\\]', '',speech) for speech in speeches]\n",
    "# take out -- between words and replace with a space\n",
    "speeches = [re.sub('\\-\\-', ' ',speech) for speech in speeches]"
   ]
  },
  {
   "cell_type": "markdown",
   "id": "2758f1d7",
   "metadata": {},
   "source": [
    "Just looking at the one specific Obama speech vs NYTimes article here, not all"
   ]
  },
  {
   "cell_type": "code",
   "execution_count": 84,
   "id": "aecabcae",
   "metadata": {},
   "outputs": [],
   "source": [
    "speechlist_ob = [sentence.lstrip().rstrip() for sentence in spec_speech.split('.')]\n",
    "lengthsob = [len(sentence.split(' ')) for sentence in speechlist_ob]"
   ]
  },
  {
   "cell_type": "markdown",
   "id": "5d7267f8",
   "metadata": {},
   "source": [
    "Rem: NYTimes article is filled with many quotes from Obama's speech"
   ]
  },
  {
   "cell_type": "code",
   "execution_count": 85,
   "id": "c27cd474",
   "metadata": {},
   "outputs": [],
   "source": [
    "speechlist_ny = [sentence.lstrip().rstrip() for sentence in nytimes.split('.')]\n",
    "lengthsny = [len(sentence.split(' ')) for sentence in speechlist_ny]"
   ]
  },
  {
   "cell_type": "markdown",
   "id": "ac9b4375",
   "metadata": {},
   "source": [
    "<A HREF=\"https://matplotlib.org/stable/api/_as_gen/matplotlib.pyplot.plot.html\">Matplotlib docs</A>"
   ]
  },
  {
   "cell_type": "code",
   "execution_count": 86,
   "id": "4d2f3eb7",
   "metadata": {},
   "outputs": [
    {
     "data": {
      "image/png": "[encoded data removed]",
      "text/plain": [
       "<Figure size 432x288 with 1 Axes>"
      ]
     },
     "metadata": {
      "needs_background": "light"
     },
     "output_type": "display_data"
    }
   ],
   "source": [
    "plt.plot(lengthsob, 'b')\n",
    "plt.plot(lengthsny, 'r')\n",
    "plt.show()"
   ]
  },
  {
   "cell_type": "code",
   "execution_count": 89,
   "id": "033d7175",
   "metadata": {},
   "outputs": [
    {
     "name": "stdout",
     "output_type": "stream",
     "text": [
      "Obama: mean 16.888 and stdev 10.962\n"
     ]
    }
   ],
   "source": [
    "print('Obama: mean %s and stdev %s' %(round(np.average(lengthsob),3), round(np.std(lengthsob),3)))"
   ]
  },
  {
   "cell_type": "code",
   "execution_count": 90,
   "id": "2516ee84",
   "metadata": {},
   "outputs": [
    {
     "name": "stdout",
     "output_type": "stream",
     "text": [
      "NYTines: mean 16.561 and stdev 12.211\n"
     ]
    }
   ],
   "source": [
    "print('NYTines: mean %s and stdev %s' %(round(np.average(lengthsny),3), round(np.std(lengthsny),3)))"
   ]
  },
  {
   "cell_type": "markdown",
   "id": "280f8181",
   "metadata": {},
   "source": [
    "<A HREF=\"https://matplotlib.org/stable/gallery/statistics/hist.html\">Matplotlib histograms</A>"
   ]
  },
  {
   "cell_type": "code",
   "execution_count": 91,
   "id": "7c9b5bab",
   "metadata": {},
   "outputs": [
    {
     "data": {
      "image/png": "[encoded data removed]",
      "text/plain": [
       "<Figure size 432x288 with 2 Axes>"
      ]
     },
     "metadata": {
      "needs_background": "light"
     },
     "output_type": "display_data"
    }
   ],
   "source": [
    "n_bins=15\n",
    "fig, axs = plt.subplots(1, 2, sharey=True, tight_layout=True)\n",
    "axs[0].hist(lengthsob, bins=n_bins)\n",
    "axs[1].hist(lengthsny, bins=n_bins)\n",
    "plt.show()"
   ]
  },
  {
   "cell_type": "markdown",
   "id": "02872d12",
   "metadata": {},
   "source": [
    "<A HREF=\"https://datascience.stackexchange.com/questions/23376/how-to-get-the-number-of-syllables-in-a-word\">Counting syllables</A>"
   ]
  },
  {
   "cell_type": "code",
   "execution_count": 17,
   "id": "ba50aa91",
   "metadata": {},
   "outputs": [],
   "source": [
    "def syllables(word):\n",
    "    #referred from stackoverflow.com/questions/14541303/count-the-number-of-syllables-in-a-word\n",
    "    count = 0\n",
    "    vowels = 'aeiouy'\n",
    "    word = word.lower()\n",
    "    if word[0] in vowels:\n",
    "        count +=1\n",
    "    for index in range(1,len(word)):\n",
    "        if word[index] in vowels and word[index-1] not in vowels:\n",
    "            count +=1\n",
    "    if word.endswith('e'):\n",
    "        count -= 1\n",
    "    if word.endswith('le'):\n",
    "        count += 1\n",
    "    if count == 0:\n",
    "        count += 1\n",
    "    return count"
   ]
  },
  {
   "cell_type": "markdown",
   "id": "6b4a2af5",
   "metadata": {},
   "source": [
    "<P>In a cmd/terminal window </P>\n",
    "<P>>python</P>\n",
    "<P>>>> import nltk</P>\n",
    "<P>>>> nltk.download()</P>\n",
    "<P>This opens a window from which you can download various corpora and dictionaries from NLTK</P>\n"
   ]
  },
  {
   "cell_type": "code",
   "execution_count": 19,
   "id": "2bc658eb",
   "metadata": {},
   "outputs": [],
   "source": [
    "import nltk\n",
    "from nltk.corpus import cmudict\n",
    "d = cmudict.dict()"
   ]
  },
  {
   "cell_type": "code",
   "execution_count": 20,
   "id": "b75592ce",
   "metadata": {},
   "outputs": [],
   "source": [
    "def nsyl(word):\n",
    "    try:\n",
    "        return [len(list(y for y in x if y[-1].isdigit())) for x in d[word.lower()]]\n",
    "    except KeyError:\n",
    "        #if word not found in cmudict\n",
    "        return syllables(word)"
   ]
  },
  {
   "cell_type": "markdown",
   "id": "4e8bb31d",
   "metadata": {},
   "source": [
    "<A HREF=\"https://spacy.io/universe/project/spacy_syllables\">Spacy Syllables</A>"
   ]
  },
  {
   "cell_type": "code",
   "execution_count": null,
   "id": "ea04b8a3",
   "metadata": {},
   "outputs": [],
   "source": [
    "!pip install spacy_syllables"
   ]
  },
  {
   "cell_type": "code",
   "execution_count": 23,
   "id": "d7c2ae41",
   "metadata": {},
   "outputs": [],
   "source": [
    "import spacy\n",
    "from spacy_syllables import SpacySyllables"
   ]
  },
  {
   "cell_type": "code",
   "execution_count": 24,
   "id": "10151d5c",
   "metadata": {},
   "outputs": [
    {
     "name": "stderr",
     "output_type": "stream",
     "text": [
      "/home/muddy/.local/lib/python3.9/site-packages/spacy/util.py:877: UserWarning: [W095] Model 'en_core_web_sm' (3.3.0) was trained with spaCy v3.3 and may not be 100% compatible with the current version (3.4.2). If you see errors or degraded performance, download a newer compatible model or retrain your custom model with the current spaCy version. For more details and available updates, run: python -m spacy validate\n",
      "  warnings.warn(warn_msg)\n"
     ]
    },
    {
     "data": {
      "text/plain": [
       "[1,\n",
       " 3,\n",
       " 3,\n",
       " 2,\n",
       " 1,\n",
       " 1,\n",
       " 1,\n",
       " 1,\n",
       " 1,\n",
       " 2,\n",
       " 1,\n",
       " 2,\n",
       " 1,\n",
       " 2,\n",
       " 1,\n",
       " 1,\n",
       " 2,\n",
       " 1,\n",
       " 1,\n",
       " 2,\n",
       " 1,\n",
       " 2,\n",
       " 1,\n",
       " 3,\n",
       " 2,\n",
       " 1,\n",
       " 1,\n",
       " 1,\n",
       " 1,\n",
       " 2,\n",
       " 4,\n",
       " 1,\n",
       " 1,\n",
       " 4,\n",
       " 1,\n",
       " 5,\n",
       " 4,\n",
       " 1,\n",
       " 2,\n",
       " 1,\n",
       " 4,\n",
       " 1,\n",
       " 5,\n",
       " 1,\n",
       " 1,\n",
       " 1,\n",
       " 2,\n",
       " 1,\n",
       " 2,\n",
       " 1,\n",
       " 3,\n",
       " 1,\n",
       " 1,\n",
       " 1,\n",
       " 2,\n",
       " 1,\n",
       " 1,\n",
       " 1,\n",
       " 4,\n",
       " 2,\n",
       " 1,\n",
       " 3,\n",
       " 2,\n",
       " 1,\n",
       " 5,\n",
       " 1,\n",
       " 3,\n",
       " 4,\n",
       " 1,\n",
       " 4,\n",
       " 1,\n",
       " 2,\n",
       " 1,\n",
       " 5,\n",
       " 3,\n",
       " 1,\n",
       " 1,\n",
       " 1,\n",
       " 1,\n",
       " 2,\n",
       " 1,\n",
       " 2,\n",
       " 1,\n",
       " 1,\n",
       " 2,\n",
       " 2,\n",
       " 3,\n",
       " 1,\n",
       " 1,\n",
       " 2,\n",
       " 1,\n",
       " 1,\n",
       " 3,\n",
       " 1,\n",
       " 2,\n",
       " 1,\n",
       " 1,\n",
       " 1,\n",
       " 3,\n",
       " 1,\n",
       " 1,\n",
       " 2,\n",
       " 1,\n",
       " 2,\n",
       " 5,\n",
       " 1,\n",
       " 3,\n",
       " 1,\n",
       " 3,\n",
       " 3,\n",
       " 1,\n",
       " 2,\n",
       " 1,\n",
       " 2,\n",
       " 1,\n",
       " 1,\n",
       " 1,\n",
       " 2,\n",
       " 1,\n",
       " 1,\n",
       " 4,\n",
       " 1,\n",
       " 1,\n",
       " 4,\n",
       " 1,\n",
       " 1,\n",
       " 1,\n",
       " 1,\n",
       " 2,\n",
       " 1,\n",
       " 1,\n",
       " 1,\n",
       " 5,\n",
       " 1,\n",
       " 2,\n",
       " 1,\n",
       " 2,\n",
       " 2,\n",
       " 2,\n",
       " 1,\n",
       " 1,\n",
       " 2,\n",
       " 2,\n",
       " 1,\n",
       " 1,\n",
       " 1,\n",
       " 1,\n",
       " 1,\n",
       " 1,\n",
       " 5,\n",
       " 1,\n",
       " 1,\n",
       " 3,\n",
       " 2,\n",
       " 1,\n",
       " 2,\n",
       " 1,\n",
       " 3,\n",
       " 1,\n",
       " 1,\n",
       " 2,\n",
       " 1,\n",
       " 1,\n",
       " 1,\n",
       " 1,\n",
       " 1,\n",
       " 1,\n",
       " 1,\n",
       " 1,\n",
       " 1,\n",
       " 5,\n",
       " 2,\n",
       " 1,\n",
       " 1,\n",
       " 2,\n",
       " 1,\n",
       " 1,\n",
       " 3,\n",
       " 2,\n",
       " 2,\n",
       " 1,\n",
       " 1,\n",
       " 3,\n",
       " 1,\n",
       " 2,\n",
       " 3,\n",
       " 3,\n",
       " 1,\n",
       " 1,\n",
       " 3,\n",
       " 1,\n",
       " 1,\n",
       " 1,\n",
       " 2,\n",
       " 1,\n",
       " 2,\n",
       " 1,\n",
       " 2,\n",
       " 1,\n",
       " 3,\n",
       " 1,\n",
       " 1,\n",
       " 2,\n",
       " 1,\n",
       " 1,\n",
       " 2,\n",
       " 1,\n",
       " 1,\n",
       " 3,\n",
       " 1,\n",
       " 1,\n",
       " 1,\n",
       " 2,\n",
       " 2,\n",
       " 3,\n",
       " 2,\n",
       " 1,\n",
       " 1,\n",
       " 5,\n",
       " 1,\n",
       " 2,\n",
       " 2,\n",
       " 1,\n",
       " 3,\n",
       " 5,\n",
       " 1,\n",
       " 1,\n",
       " 1,\n",
       " 2,\n",
       " 1,\n",
       " 3,\n",
       " 1,\n",
       " 2,\n",
       " 1,\n",
       " 1,\n",
       " 1,\n",
       " 1,\n",
       " 2,\n",
       " 2,\n",
       " 1,\n",
       " 1,\n",
       " 1,\n",
       " 3,\n",
       " 1,\n",
       " 1,\n",
       " 2,\n",
       " 1,\n",
       " 2,\n",
       " 4,\n",
       " 1,\n",
       " 1,\n",
       " 2,\n",
       " 1,\n",
       " 1,\n",
       " 1,\n",
       " 3,\n",
       " 1,\n",
       " 2,\n",
       " 4,\n",
       " 1,\n",
       " 3,\n",
       " 5,\n",
       " 1,\n",
       " 1,\n",
       " 3,\n",
       " 1,\n",
       " 1,\n",
       " 2,\n",
       " 1,\n",
       " 1,\n",
       " 1,\n",
       " 2,\n",
       " 1,\n",
       " 4,\n",
       " 3,\n",
       " 1,\n",
       " 1,\n",
       " 1,\n",
       " 1,\n",
       " 1,\n",
       " 1,\n",
       " 2,\n",
       " 1,\n",
       " 1,\n",
       " 1,\n",
       " 2,\n",
       " 1,\n",
       " 1,\n",
       " 2,\n",
       " 1,\n",
       " 1,\n",
       " 1,\n",
       " 1,\n",
       " 3,\n",
       " 2,\n",
       " 1,\n",
       " 1,\n",
       " 1,\n",
       " 1,\n",
       " 1,\n",
       " 1,\n",
       " 1,\n",
       " 1,\n",
       " 1,\n",
       " 1,\n",
       " 1,\n",
       " 1,\n",
       " 1,\n",
       " 2,\n",
       " 1,\n",
       " 1,\n",
       " 1,\n",
       " 2,\n",
       " 1,\n",
       " 2,\n",
       " 1,\n",
       " 2,\n",
       " 1,\n",
       " 3,\n",
       " 1,\n",
       " 1,\n",
       " 2,\n",
       " 4,\n",
       " 1,\n",
       " 1,\n",
       " 1,\n",
       " 1,\n",
       " 2,\n",
       " 2,\n",
       " 1,\n",
       " 5,\n",
       " 3,\n",
       " 2,\n",
       " 1,\n",
       " 1,\n",
       " 1,\n",
       " 3,\n",
       " 1,\n",
       " 1,\n",
       " 2,\n",
       " 1,\n",
       " 1,\n",
       " 1,\n",
       " 1,\n",
       " 2,\n",
       " 1,\n",
       " 2,\n",
       " 3,\n",
       " 3,\n",
       " 2,\n",
       " 2,\n",
       " 2,\n",
       " 4,\n",
       " 2,\n",
       " 1,\n",
       " 3,\n",
       " 1,\n",
       " 2,\n",
       " 1,\n",
       " 1,\n",
       " 1,\n",
       " 1,\n",
       " 5,\n",
       " 1,\n",
       " 1,\n",
       " 5,\n",
       " 4,\n",
       " 2,\n",
       " 1,\n",
       " 2,\n",
       " 1,\n",
       " 2,\n",
       " 1,\n",
       " 1,\n",
       " 1,\n",
       " 3,\n",
       " 1,\n",
       " 1,\n",
       " 1,\n",
       " 1,\n",
       " 1,\n",
       " 2,\n",
       " 1,\n",
       " 2,\n",
       " 1,\n",
       " 2,\n",
       " 1,\n",
       " 5,\n",
       " 3,\n",
       " 1,\n",
       " 1,\n",
       " 1,\n",
       " 1,\n",
       " 2,\n",
       " 1,\n",
       " 2,\n",
       " 1,\n",
       " 1,\n",
       " 1,\n",
       " 1,\n",
       " 1,\n",
       " 1,\n",
       " 2,\n",
       " 1,\n",
       " 1,\n",
       " 1,\n",
       " 1,\n",
       " 1,\n",
       " 1,\n",
       " 3,\n",
       " 1,\n",
       " 3,\n",
       " 2,\n",
       " 1,\n",
       " 2,\n",
       " 1,\n",
       " 3,\n",
       " 1,\n",
       " 1,\n",
       " 1,\n",
       " 1,\n",
       " 3,\n",
       " 2,\n",
       " 3,\n",
       " 2,\n",
       " 1,\n",
       " 1,\n",
       " 1,\n",
       " 2,\n",
       " 1,\n",
       " 1,\n",
       " 1,\n",
       " 1,\n",
       " 1,\n",
       " 4,\n",
       " 1,\n",
       " 5,\n",
       " 1,\n",
       " 3,\n",
       " 1,\n",
       " 2,\n",
       " 1,\n",
       " 1,\n",
       " 2,\n",
       " 1,\n",
       " 1,\n",
       " 1,\n",
       " 2,\n",
       " 1,\n",
       " 1,\n",
       " 5,\n",
       " 4,\n",
       " 1,\n",
       " 2,\n",
       " 1,\n",
       " 2,\n",
       " 1,\n",
       " 2,\n",
       " 1,\n",
       " 1,\n",
       " 2,\n",
       " 1,\n",
       " 3,\n",
       " 1,\n",
       " 1,\n",
       " 4,\n",
       " 1,\n",
       " 3,\n",
       " 1,\n",
       " 1,\n",
       " 2,\n",
       " 1,\n",
       " 2,\n",
       " 2,\n",
       " 1,\n",
       " 1,\n",
       " 2,\n",
       " 1,\n",
       " 2,\n",
       " 1,\n",
       " 1,\n",
       " 1,\n",
       " 1,\n",
       " 1,\n",
       " 1,\n",
       " 1,\n",
       " 1,\n",
       " 1,\n",
       " 1,\n",
       " 1,\n",
       " 1,\n",
       " 2,\n",
       " 1,\n",
       " 1,\n",
       " 2,\n",
       " 2,\n",
       " 1,\n",
       " 1,\n",
       " 1,\n",
       " 2,\n",
       " 1,\n",
       " 2,\n",
       " 1,\n",
       " 2,\n",
       " 1,\n",
       " 1,\n",
       " 1,\n",
       " 1,\n",
       " 1,\n",
       " 2,\n",
       " 4,\n",
       " 1,\n",
       " 2,\n",
       " 1,\n",
       " 1,\n",
       " 4,\n",
       " 1,\n",
       " 1,\n",
       " 2,\n",
       " 1,\n",
       " 1,\n",
       " 1,\n",
       " 1,\n",
       " 2,\n",
       " 3,\n",
       " 3,\n",
       " 1,\n",
       " 1,\n",
       " 2,\n",
       " 3,\n",
       " 1,\n",
       " 1,\n",
       " 1,\n",
       " 1,\n",
       " 2,\n",
       " 1,\n",
       " 1,\n",
       " 1,\n",
       " 3,\n",
       " 1,\n",
       " 3,\n",
       " 1,\n",
       " 2,\n",
       " 2,\n",
       " 3,\n",
       " 1,\n",
       " 1,\n",
       " 2,\n",
       " 1,\n",
       " 1,\n",
       " 1,\n",
       " 1,\n",
       " 2,\n",
       " 1,\n",
       " 1,\n",
       " 2,\n",
       " 1,\n",
       " 1,\n",
       " 2,\n",
       " 1,\n",
       " 1,\n",
       " 2,\n",
       " 1,\n",
       " 2,\n",
       " 1,\n",
       " 1,\n",
       " 2,\n",
       " 1,\n",
       " 1,\n",
       " 1,\n",
       " 1,\n",
       " 1,\n",
       " 1,\n",
       " 2,\n",
       " 1,\n",
       " 1,\n",
       " 2,\n",
       " 1,\n",
       " 1,\n",
       " 2,\n",
       " 1,\n",
       " 2,\n",
       " 1,\n",
       " 3,\n",
       " 5,\n",
       " 1,\n",
       " 1,\n",
       " 3,\n",
       " 1,\n",
       " 1,\n",
       " 2,\n",
       " 1,\n",
       " 2,\n",
       " 2,\n",
       " 4,\n",
       " 1,\n",
       " 1,\n",
       " 2,\n",
       " 1,\n",
       " 1,\n",
       " 2,\n",
       " 2,\n",
       " 2,\n",
       " 1,\n",
       " 1,\n",
       " 1,\n",
       " 2,\n",
       " 1,\n",
       " 3,\n",
       " 1,\n",
       " 1,\n",
       " 1,\n",
       " 1,\n",
       " 1,\n",
       " 1,\n",
       " 1,\n",
       " 2,\n",
       " 1,\n",
       " 1,\n",
       " 1,\n",
       " 1,\n",
       " 4,\n",
       " 1,\n",
       " 1,\n",
       " 2,\n",
       " 1,\n",
       " 1,\n",
       " 1,\n",
       " 1,\n",
       " 1,\n",
       " 1,\n",
       " 1,\n",
       " 1,\n",
       " 2,\n",
       " 1,\n",
       " 1,\n",
       " 2,\n",
       " 1,\n",
       " 1,\n",
       " 1,\n",
       " 2]"
      ]
     },
     "execution_count": 24,
     "metadata": {},
     "output_type": "execute_result"
    }
   ],
   "source": [
    "nlp = spacy.load(\"en_core_web_sm\")\n",
    "nlp.add_pipe(\"syllables\", after=\"tagger\")\n",
    "\n",
    "assert nlp.pipe_names == [\"tok2vec\", \"tagger\", \"syllables\", \"parser\",  \"attribute_ruler\", \"lemmatizer\", \"ner\"]\n",
    "doc = nlp(speeches[87])\n",
    "data = [(token.text, token._.syllables, token._.syllables_count) for token in doc]\n",
    "# punctuation returns None, skip those\n",
    "[i[2] for i in data if i[2]!=None]"
   ]
  },
  {
   "cell_type": "code",
   "execution_count": 25,
   "id": "b86e4c3c",
   "metadata": {},
   "outputs": [
    {
     "data": {
      "text/plain": [
       "[('Good', ['good'], 1),\n",
       " ('afternoon', ['af', 'ter', 'noon'], 3),\n",
       " (',', None, None),\n",
       " ('everybody', ['ev', 'ery', 'body'], 3),\n",
       " ('.', None, None),\n",
       " ('Before', ['be', 'fore'], 2),\n",
       " ('Jay', ['jay'], 1),\n",
       " ('takes', ['takes'], 1),\n",
       " ('some', ['some'], 1),\n",
       " ('of', ['of'], 1),\n",
       " ('your', ['your'], 1),\n",
       " ('questions', ['ques', 'tions'], 2),\n",
       " (',', None, None),\n",
       " ('I', ['i'], 1),\n",
       " ('wanted', ['want', 'ed'], 2),\n",
       " ('to', ['to'], 1),\n",
       " ('provide', ['pro', 'vide'], 2),\n",
       " ('a', ['a'], 1),\n",
       " ('brief', ['brief'], 1),\n",
       " ('update', ['up', 'date'], 2),\n",
       " ('on', ['on'], 1),\n",
       " ('our', ['our'], 1),\n",
       " ('efforts', ['ef', 'forts'], 2),\n",
       " ('to', ['to'], 1),\n",
       " ('address', ['ad', 'dress'], 2),\n",
       " ('the', ['the'], 1),\n",
       " ('ongoing', ['on', 'go', 'ing'], 3),\n",
       " ('crisis', ['cri', 'sis'], 2),\n",
       " ('in', ['in'], 1),\n",
       " ('Ukraine', ['ukraine'], 1),\n",
       " ('.', None, None),\n",
       " ('Since', ['since'], 1),\n",
       " ('the', ['the'], 1),\n",
       " ('Russian', ['rus', 'sian'], 2),\n",
       " ('intervention', ['in', 'ter', 'ven', 'tion'], 4),\n",
       " (',', None, None),\n",
       " ('we', ['we'], 1),\n",
       " (\"'ve\", None, None),\n",
       " ('been', ['been'], 1),\n",
       " ('mobilizing', ['mo', 'bi', 'liz', 'ing'], 4),\n",
       " ('the', ['the'], 1),\n",
       " ('international', ['in', 'ter', 'na', 'tion', 'al'], 5),\n",
       " ('community', ['com', 'mu', 'ni', 'ty'], 4),\n",
       " ('to', ['to'], 1),\n",
       " ('condemn', ['con', 'demn'], 2),\n",
       " ('this', ['this'], 1),\n",
       " ('violation', ['vi', 'o', 'la', 'tion'], 4),\n",
       " ('of', ['of'], 1),\n",
       " ('international', ['in', 'ter', 'na', 'tion', 'al'], 5),\n",
       " ('law', ['law'], 1),\n",
       " ('and', ['and'], 1),\n",
       " ('to', ['to'], 1),\n",
       " ('support', ['sup', 'port'], 2),\n",
       " ('the', ['the'], 1),\n",
       " ('people', ['peo', 'ple'], 2),\n",
       " ('and', ['and'], 1),\n",
       " ('Government', ['gov', 'ern', 'ment'], 3),\n",
       " ('of', ['of'], 1),\n",
       " ('Ukraine', ['ukraine'], 1),\n",
       " ('.', None, None),\n",
       " ('This', ['this'], 1),\n",
       " ('morning', ['morn', 'ing'], 2),\n",
       " ('I', ['i'], 1),\n",
       " ('signed', ['signed'], 1),\n",
       " ('an', ['an'], 1),\n",
       " ('Executive', ['ex', 'ec', 'u', 'tive'], 4),\n",
       " ('order', ['or', 'der'], 2),\n",
       " ('that', ['that'], 1),\n",
       " ('authorizes', ['au', 'tho', 'rizes'], 3),\n",
       " ('sanctions', ['sanc', 'tions'], 2),\n",
       " ('on', ['on'], 1),\n",
       " ('individuals', ['in', 'di', 'vid', 'u', 'als'], 5),\n",
       " ('and', ['and'], 1),\n",
       " ('entities', ['en', 'ti', 'ties'], 3),\n",
       " ('responsible', ['re', 'spon', 'si', 'ble'], 4),\n",
       " ('for', ['for'], 1),\n",
       " ('violating', ['vi', 'o', 'lat', 'ing'], 4),\n",
       " ('the', ['the'], 1),\n",
       " ('sovereignty', ['sovereign', 'ty'], 2),\n",
       " ('and', ['and'], 1),\n",
       " ('territorial', ['ter', 'ri', 'to', 'ri', 'al'], 5),\n",
       " ('integrity', ['in', 'tegri', 'ty'], 3),\n",
       " ('of', ['of'], 1),\n",
       " ('Ukraine', ['ukraine'], 1),\n",
       " ('or', ['or'], 1),\n",
       " ('for', ['for'], 1),\n",
       " ('stealing', ['steal', 'ing'], 2),\n",
       " ('the', ['the'], 1),\n",
       " ('assets', ['as', 'sets'], 2),\n",
       " ('of', ['of'], 1),\n",
       " ('the', ['the'], 1),\n",
       " ('Ukrainian', ['ukrain', 'ian'], 2),\n",
       " ('people', ['peo', 'ple'], 2),\n",
       " ('.', None, None),\n",
       " ('According', ['ac', 'cord', 'ing'], 3),\n",
       " ('to', ['to'], 1),\n",
       " ('my', ['my'], 1),\n",
       " ('guidance', ['guid', 'ance'], 2),\n",
       " (',', None, None),\n",
       " ('the', ['the'], 1),\n",
       " ('State', ['state'], 1),\n",
       " ('Department', ['de', 'part', 'ment'], 3),\n",
       " ('has', ['has'], 1),\n",
       " ('also', ['al', 'so'], 2),\n",
       " ('put', ['put'], 1),\n",
       " ('in', ['in'], 1),\n",
       " ('place', ['place'], 1),\n",
       " ('restrictions', ['re', 'stric', 'tions'], 3),\n",
       " ('on', ['on'], 1),\n",
       " ('the', ['the'], 1),\n",
       " ('travel', ['trav', 'el'], 2),\n",
       " ('of', ['of'], 1),\n",
       " ('certain', ['cer', 'tain'], 2),\n",
       " ('individuals', ['in', 'di', 'vid', 'u', 'als'], 5),\n",
       " ('and', ['and'], 1),\n",
       " ('officials', ['of', 'fi', 'cials'], 3),\n",
       " ('.', None, None),\n",
       " ('These', ['these'], 1),\n",
       " ('decisions', ['de', 'ci', 'sions'], 3),\n",
       " ('continue', ['con', 'tin', 'ue'], 3),\n",
       " ('our', ['our'], 1),\n",
       " ('efforts', ['ef', 'forts'], 2),\n",
       " ('to', ['to'], 1),\n",
       " ('impose', ['im', 'pose'], 2),\n",
       " ('a', ['a'], 1),\n",
       " ('cost', ['cost'], 1),\n",
       " ('on', ['on'], 1),\n",
       " ('Russia', ['rus', 'sia'], 2),\n",
       " ('and', ['and'], 1),\n",
       " ('those', ['those'], 1),\n",
       " ('responsible', ['re', 'spon', 'si', 'ble'], 4),\n",
       " ('for', ['for'], 1),\n",
       " ('the', ['the'], 1),\n",
       " ('situation', ['sit', 'u', 'a', 'tion'], 4),\n",
       " ('in', ['in'], 1),\n",
       " ('Crimea', ['crimea'], 1),\n",
       " ('.', None, None),\n",
       " ('And', ['and'], 1),\n",
       " ('they', ['they'], 1),\n",
       " ('also', ['al', 'so'], 2),\n",
       " ('give', ['give'], 1),\n",
       " ('us', ['us'], 1),\n",
       " ('the', ['the'], 1),\n",
       " ('flexibility', ['flex', 'i', 'bil', 'i', 'ty'], 5),\n",
       " ('to', ['to'], 1),\n",
       " ('adjust', ['ad', 'just'], 2),\n",
       " ('our', ['our'], 1),\n",
       " ('response', ['re', 'sponse'], 2),\n",
       " ('going', ['go', 'ing'], 2),\n",
       " ('forward', ['for', 'ward'], 2),\n",
       " ('based', ['based'], 1),\n",
       " ('on', ['on'], 1),\n",
       " ('Russia', ['rus', 'sia'], 2),\n",
       " (\"'s\", None, None),\n",
       " ('actions', ['ac', 'tions'], 2),\n",
       " ('.', None, None),\n",
       " ('We', ['we'], 1),\n",
       " ('took', ['took'], 1),\n",
       " ('these', ['these'], 1),\n",
       " ('steps', ['steps'], 1),\n",
       " ('in', ['in'], 1),\n",
       " ('close', ['close'], 1),\n",
       " ('coordination', ['co', 'or', 'di', 'na', 'tion'], 5),\n",
       " ('with', ['with'], 1),\n",
       " ('our', ['our'], 1),\n",
       " ('European', ['eu', 'ro', 'pean'], 3),\n",
       " ('allies', ['al', 'lies'], 2),\n",
       " ('.', None, None),\n",
       " ('I', ['i'], 1),\n",
       " (\"'ve\", None, None),\n",
       " ('spoken', ['spo', 'ken'], 2),\n",
       " ('to', ['to'], 1),\n",
       " ('several', ['sev', 'er', 'al'], 3),\n",
       " ('of', ['of'], 1),\n",
       " ('our', ['our'], 1),\n",
       " ('closest', ['clos', 'est'], 2),\n",
       " ('friends', ['friends'], 1),\n",
       " ('around', ['around'], 1),\n",
       " ('the', ['the'], 1),\n",
       " ('world', ['world'], 1),\n",
       " (',', None, None),\n",
       " ('and', ['and'], 1),\n",
       " ('I', ['i'], 1),\n",
       " (\"'m\", None, None),\n",
       " ('pleased', ['pleased'], 1),\n",
       " ('that', ['that'], 1),\n",
       " ('our', ['our'], 1),\n",
       " ('international', ['in', 'ter', 'na', 'tion', 'al'], 5),\n",
       " ('unity', ['uni', 'ty'], 2),\n",
       " ('is', ['is'], 1),\n",
       " ('on', ['on'], 1),\n",
       " ('display', ['dis', 'play'], 2),\n",
       " ('at', ['at'], 1),\n",
       " ('this', ['this'], 1),\n",
       " ('important', ['im', 'por', 'tant'], 3),\n",
       " ('moment', ['mo', 'ment'], 2),\n",
       " ('.', None, None),\n",
       " ('Already', ['al', 'ready'], 2),\n",
       " (',', None, None),\n",
       " ('we', ['we'], 1),\n",
       " (\"'ve\", None, None),\n",
       " ('moved', ['moved'], 1),\n",
       " ('together', ['to', 'geth', 'er'], 3),\n",
       " ('to', ['to'], 1),\n",
       " ('announce', ['an', 'nounce'], 2),\n",
       " ('substantial', ['sub', 'stan', 'tial'], 3),\n",
       " ('assistance', ['as', 'sis', 'tance'], 3),\n",
       " ('for', ['for'], 1),\n",
       " ('the', ['the'], 1),\n",
       " ('Government', ['gov', 'ern', 'ment'], 3),\n",
       " ('in', ['in'], 1),\n",
       " ('Kiev', ['kiev'], 1),\n",
       " (',', None, None),\n",
       " ('and', ['and'], 1),\n",
       " ('today', ['to', 'day'], 2),\n",
       " ('in', ['in'], 1),\n",
       " ('Brussels', ['brus', 'sels'], 2),\n",
       " (',', None, None),\n",
       " ('our', ['our'], 1),\n",
       " ('allies', ['al', 'lies'], 2),\n",
       " ('took', ['took'], 1),\n",
       " ('similar', ['sim', 'i', 'lar'], 3),\n",
       " ('steps', ['steps'], 1),\n",
       " ('to', ['to'], 1),\n",
       " ('impose', ['im', 'pose'], 2),\n",
       " ('costs', ['costs'], 1),\n",
       " ('on', ['on'], 1),\n",
       " ('Russia', ['rus', 'sia'], 2),\n",
       " ('.', None, None),\n",
       " ('I', ['i'], 1),\n",
       " ('am', ['am'], 1),\n",
       " ('confident', ['con', 'fi', 'dent'], 3),\n",
       " ('that', ['that'], 1),\n",
       " ('we', ['we'], 1),\n",
       " ('are', ['are'], 1),\n",
       " ('moving', ['mov', 'ing'], 2),\n",
       " ('forward', ['for', 'ward'], 2),\n",
       " ('together', ['to', 'geth', 'er'], 3),\n",
       " (',', None, None),\n",
       " ('united', ['unit', 'ed'], 2),\n",
       " ('in', ['in'], 1),\n",
       " ('our', ['our'], 1),\n",
       " ('determination', ['de', 'ter', 'mi', 'na', 'tion'], 5),\n",
       " ('to', ['to'], 1),\n",
       " ('oppose', ['op', 'pose'], 2),\n",
       " ('actions', ['ac', 'tions'], 2),\n",
       " ('that', ['that'], 1),\n",
       " ('violate', ['vi', 'o', 'late'], 3),\n",
       " ('international', ['in', 'ter', 'na', 'tion', 'al'], 5),\n",
       " ('law', ['law'], 1),\n",
       " ('and', ['and'], 1),\n",
       " ('to', ['to'], 1),\n",
       " ('support', ['sup', 'port'], 2),\n",
       " ('the', ['the'], 1),\n",
       " ('Government', ['gov', 'ern', 'ment'], 3),\n",
       " ('and', ['and'], 1),\n",
       " ('people', ['peo', 'ple'], 2),\n",
       " ('of', ['of'], 1),\n",
       " ('Ukraine', ['ukraine'], 1),\n",
       " ('.', None, None),\n",
       " ('And', ['and'], 1),\n",
       " ('that', ['that'], 1),\n",
       " ('includes', ['in', 'cludes'], 2),\n",
       " ('standing', ['stand', 'ing'], 2),\n",
       " ('up', ['up'], 1),\n",
       " ('for', ['for'], 1),\n",
       " ('the', ['the'], 1),\n",
       " ('principle', ['prin', 'ci', 'ple'], 3),\n",
       " ('of', ['of'], 1),\n",
       " ('state', ['state'], 1),\n",
       " ('sovereignty', ['sovereign', 'ty'], 2),\n",
       " ('.', None, None),\n",
       " ('The', ['the'], 1),\n",
       " ('proposed', ['pro', 'posed'], 2),\n",
       " ('referendum', ['ref', 'er', 'en', 'dum'], 4),\n",
       " ('on', ['on'], 1),\n",
       " ('the', ['the'], 1),\n",
       " ('future', ['fu', 'ture'], 2),\n",
       " ('of', ['of'], 1),\n",
       " ('Crimea', ['crimea'], 1),\n",
       " ('would', ['would'], 1),\n",
       " ('violate', ['vi', 'o', 'late'], 3),\n",
       " ('the', ['the'], 1),\n",
       " ('Ukrainian', ['ukrain', 'ian'], 2),\n",
       " ('Constitution', ['con', 'sti', 'tu', 'tion'], 4),\n",
       " ('and', ['and'], 1),\n",
       " ('violate', ['vi', 'o', 'late'], 3),\n",
       " ('international', ['in', 'ter', 'na', 'tion', 'al'], 5),\n",
       " ('law', ['law'], 1),\n",
       " ('.', None, None),\n",
       " ('Any', ['any'], 1),\n",
       " ('discussion', ['dis', 'cus', 'sion'], 3),\n",
       " ('about', ['about'], 1),\n",
       " ('the', ['the'], 1),\n",
       " ('future', ['fu', 'ture'], 2),\n",
       " ('of', ['of'], 1),\n",
       " ('Ukraine', ['ukraine'], 1),\n",
       " ('must', ['must'], 1),\n",
       " ('include', ['in', 'clude'], 2),\n",
       " ('the', ['the'], 1),\n",
       " ('legitimate', ['le', 'git', 'i', 'mate'], 4),\n",
       " ('Government', ['gov', 'ern', 'ment'], 3),\n",
       " ('of', ['of'], 1),\n",
       " ('Ukraine', ['ukraine'], 1),\n",
       " ('.', None, None),\n",
       " ('In', ['in'], 1),\n",
       " ('2014', None, None),\n",
       " (',', None, None),\n",
       " ('we', ['we'], 1),\n",
       " ('are', ['are'], 1),\n",
       " ('well', ['well'], 1),\n",
       " ('beyond', ['be', 'yond'], 2),\n",
       " ('the', ['the'], 1),\n",
       " ('days', ['days'], 1),\n",
       " ('when', ['when'], 1),\n",
       " ('borders', ['bor', 'ders'], 2),\n",
       " ('can', ['can'], 1),\n",
       " ('be', ['be'], 1),\n",
       " ('redrawn', ['re', 'drawn'], 2),\n",
       " ('over', ['over'], 1),\n",
       " ('the', ['the'], 1),\n",
       " ('heads', ['heads'], 1),\n",
       " ('of', ['of'], 1),\n",
       " ('democratic', ['demo', 'crat', 'ic'], 3),\n",
       " ('leaders', ['lead', 'ers'], 2),\n",
       " ('.', None, None),\n",
       " ('While', ['while'], 1),\n",
       " ('we', ['we'], 1),\n",
       " ('take', ['take'], 1),\n",
       " ('these', ['these'], 1),\n",
       " ('steps', ['steps'], 1),\n",
       " (',', None, None),\n",
       " ('I', ['i'], 1),\n",
       " ('want', ['want'], 1),\n",
       " ('to', ['to'], 1),\n",
       " ('be', ['be'], 1),\n",
       " ('clear', ['clear'], 1),\n",
       " ('that', ['that'], 1),\n",
       " ('there', ['there'], 1),\n",
       " ('is', ['is'], 1),\n",
       " ('also', ['al', 'so'], 2),\n",
       " ('a', ['a'], 1),\n",
       " ('way', ['way'], 1),\n",
       " ('to', ['to'], 1),\n",
       " ('resolve', ['re', 'solve'], 2),\n",
       " ('this', ['this'], 1),\n",
       " ('crisis', ['cri', 'sis'], 2),\n",
       " ('that', ['that'], 1),\n",
       " ('respects', ['re', 'spects'], 2),\n",
       " ('the', ['the'], 1),\n",
       " ('interests', ['in', 'ter', 'ests'], 3),\n",
       " ('of', ['of'], 1),\n",
       " ('the', ['the'], 1),\n",
       " ('Russian', ['rus', 'sian'], 2),\n",
       " ('Federation', ['fed', 'er', 'a', 'tion'], 4),\n",
       " (',', None, None),\n",
       " ('as', ['as'], 1),\n",
       " ('well', ['well'], 1),\n",
       " ('as', ['as'], 1),\n",
       " ('the', ['the'], 1),\n",
       " ('Ukrainian', ['ukrain', 'ian'], 2),\n",
       " ('people', ['peo', 'ple'], 2),\n",
       " ('.', None, None),\n",
       " ('Let', ['let'], 1),\n",
       " ('international', ['in', 'ter', 'na', 'tion', 'al'], 5),\n",
       " ('monitors', ['mon', 'i', 'tors'], 3),\n",
       " ('into', ['in', 'to'], 2),\n",
       " ('all', ['all'], 1),\n",
       " ('of', ['of'], 1),\n",
       " ('Ukraine', ['ukraine'], 1),\n",
       " (',', None, None),\n",
       " ('including', ['in', 'clud', 'ing'], 3),\n",
       " ('Crimea', ['crimea'], 1),\n",
       " (',', None, None),\n",
       " ('to', ['to'], 1),\n",
       " ('ensure', ['en', 'sure'], 2),\n",
       " ('the', ['the'], 1),\n",
       " ('rights', ['rights'], 1),\n",
       " ('of', ['of'], 1),\n",
       " ('all', ['all'], 1),\n",
       " ('Ukrainians', ['ukraini', 'ans'], 2),\n",
       " ('are', ['are'], 1),\n",
       " ('being', ['be', 'ing'], 2),\n",
       " ('respected', ['re', 'spect', 'ed'], 3),\n",
       " (',', None, None),\n",
       " ('including', ['in', 'clud', 'ing'], 3),\n",
       " ('ethnic', ['eth', 'nic'], 2),\n",
       " ('Russians', ['rus', 'sians'], 2),\n",
       " ('.', None, None),\n",
       " ('Begin', ['be', 'gin'], 2),\n",
       " ('consultations', ['con', 'sul', 'ta', 'tions'], 4),\n",
       " ('between', ['be', 'tween'], 2),\n",
       " ('the', ['the'], 1),\n",
       " ('Government', ['gov', 'ern', 'ment'], 3),\n",
       " ('of', ['of'], 1),\n",
       " ('Russia', ['rus', 'sia'], 2),\n",
       " ('and', ['and'], 1),\n",
       " ('Ukraine', ['ukraine'], 1),\n",
       " (',', None, None),\n",
       " ('with', ['with'], 1),\n",
       " ('the', ['the'], 1),\n",
       " ('participation', ['par', 'tic', 'i', 'pa', 'tion'], 5),\n",
       " ('of', ['of'], 1),\n",
       " ('the', ['the'], 1),\n",
       " ('international', ['in', 'ter', 'na', 'tion', 'al'], 5),\n",
       " ('community', ['com', 'mu', 'ni', 'ty'], 4),\n",
       " ('.', None, None),\n",
       " ('Russia', ['rus', 'sia'], 2),\n",
       " ('would', ['would'], 1),\n",
       " ('maintain', ['main', 'tain'], 2),\n",
       " ('its', ['its'], 1),\n",
       " ('basing', ['bas', 'ing'], 2),\n",
       " ('rights', ['rights'], 1),\n",
       " ('in', ['in'], 1),\n",
       " ('Crimea', ['crimea'], 1),\n",
       " (',', None, None),\n",
       " ('provided', ['pro', 'vid', 'ed'], 3),\n",
       " ('that', ['that'], 1),\n",
       " ('it', ['it'], 1),\n",
       " ('abides', ['abides'], 1),\n",
       " ('by', ['by'], 1),\n",
       " ('its', ['its'], 1),\n",
       " ('agreements', ['agree', 'ments'], 2),\n",
       " ('and', ['and'], 1),\n",
       " ('respects', ['re', 'spects'], 2),\n",
       " ('Ukraine', ['ukraine'], 1),\n",
       " (\"'s\", None, None),\n",
       " ('sovereignty', ['sovereign', 'ty'], 2),\n",
       " ('and', ['and'], 1),\n",
       " ('territorial', ['ter', 'ri', 'to', 'ri', 'al'], 5),\n",
       " ('integrity', ['in', 'tegri', 'ty'], 3),\n",
       " ('.', None, None),\n",
       " ('And', ['and'], 1),\n",
       " ('the', ['the'], 1),\n",
       " ('world', ['world'], 1),\n",
       " ('should', ['should'], 1),\n",
       " ('support', ['sup', 'port'], 2),\n",
       " ('the', ['the'], 1),\n",
       " ('people', ['peo', 'ple'], 2),\n",
       " ('of', ['of'], 1),\n",
       " ('Ukraine', ['ukraine'], 1),\n",
       " ('as', ['as'], 1),\n",
       " ('they', ['they'], 1),\n",
       " ('move', ['move'], 1),\n",
       " ('to', ['to'], 1),\n",
       " ('elections', ['elec', 'tions'], 2),\n",
       " ('in', ['in'], 1),\n",
       " ('May', ['may'], 1),\n",
       " ('.', None, None),\n",
       " ('That', ['that'], 1),\n",
       " (\"'s\", None, None),\n",
       " ('the', ['the'], 1),\n",
       " ('path', ['path'], 1),\n",
       " ('of', ['of'], 1),\n",
       " ('deescalation', ['deesca', 'la', 'tion'], 3),\n",
       " (',', None, None),\n",
       " ('and', ['and'], 1),\n",
       " ('Secretary', ['sec', 're', 'tary'], 3),\n",
       " ('Kerry', ['ker', 'ry'], 2),\n",
       " ('is', ['is'], 1),\n",
       " ('engaged', ['en', 'gaged'], 2),\n",
       " ('in', ['in'], 1),\n",
       " ('discussions', ['dis', 'cus', 'sions'], 3),\n",
       " ('with', ['with'], 1),\n",
       " ('all', ['all'], 1),\n",
       " ('of', ['of'], 1),\n",
       " ('the', ['the'], 1),\n",
       " ('relevant', ['rel', 'e', 'vant'], 3),\n",
       " ('parties', ['par', 'ties'], 2),\n",
       " (',', None, None),\n",
       " ('including', ['in', 'clud', 'ing'], 3),\n",
       " ('Russia', ['rus', 'sia'], 2),\n",
       " ('and', ['and'], 1),\n",
       " ('Ukraine', ['ukraine'], 1),\n",
       " (',', None, None),\n",
       " ('to', ['to'], 1),\n",
       " ('pursue', ['pur', 'sue'], 2),\n",
       " ('that', ['that'], 1),\n",
       " ('path', ['path'], 1),\n",
       " ('.', None, None),\n",
       " ('But', ['but'], 1),\n",
       " ('if', ['if'], 1),\n",
       " ('this', ['this'], 1),\n",
       " ('violation', ['vi', 'o', 'la', 'tion'], 4),\n",
       " ('of', ['of'], 1),\n",
       " ('international', ['in', 'ter', 'na', 'tion', 'al'], 5),\n",
       " ('law', ['law'], 1),\n",
       " ('continues', ['con', 'tin', 'ues'], 3),\n",
       " (',', None, None),\n",
       " ('the', ['the'], 1),\n",
       " ('resolve', ['re', 'solve'], 2),\n",
       " ('of', ['of'], 1),\n",
       " ('the', ['the'], 1),\n",
       " ('United', ['unit', 'ed'], 2),\n",
       " ('States', ['states'], 1),\n",
       " ('and', ['and'], 1),\n",
       " ('our', ['our'], 1),\n",
       " ('allies', ['al', 'lies'], 2),\n",
       " ('and', ['and'], 1),\n",
       " ('the', ['the'], 1),\n",
       " ('international', ['in', 'ter', 'na', 'tion', 'al'], 5),\n",
       " ('community', ['com', 'mu', 'ni', 'ty'], 4),\n",
       " ('will', ['will'], 1),\n",
       " ('remain', ['re', 'main'], 2),\n",
       " ('firm', ['firm'], 1),\n",
       " ('.', None, None),\n",
       " ('Meanwhile', ['mean', 'while'], 2),\n",
       " (',', None, None),\n",
       " ('we', ['we'], 1),\n",
       " (\"'ve\", None, None),\n",
       " ('taken', ['tak', 'en'], 2),\n",
       " ('steps', ['steps'], 1),\n",
       " ('to', ['to'], 1),\n",
       " ('reaffirm', ['reaf', 'firm'], 2),\n",
       " ('our', ['our'], 1),\n",
       " ('commitment', ['com', 'mit', 'ment'], 3),\n",
       " ('to', ['to'], 1),\n",
       " ('the', ['the'], 1),\n",
       " ('security', ['se', 'cu', 'ri', 'ty'], 4),\n",
       " ('and', ['and'], 1),\n",
       " ('democracy', ['democ', 'ra', 'cy'], 3),\n",
       " ('of', ['of'], 1),\n",
       " ('our', ['our'], 1),\n",
       " ('allies', ['al', 'lies'], 2),\n",
       " ('in', ['in'], 1),\n",
       " ('Eastern', ['east', 'ern'], 2),\n",
       " ('Europe', ['eu', 'rope'], 2),\n",
       " ('and', ['and'], 1),\n",
       " ('to', ['to'], 1),\n",
       " ('support', ['sup', 'port'], 2),\n",
       " ('the', ['the'], 1),\n",
       " ('people', ['peo', 'ple'], 2),\n",
       " ('of', ['of'], 1),\n",
       " ('Ukraine', ['ukraine'], 1),\n",
       " ('.', None, None),\n",
       " ('One', ['one'], 1),\n",
       " ('last', ['last'], 1),\n",
       " ('point', ['point'], 1),\n",
       " (':', None, None),\n",
       " ('There', ['there'], 1),\n",
       " (\"'s\", None, None),\n",
       " ('been', ['been'], 1),\n",
       " ('a', ['a'], 1),\n",
       " ('lot', ['lot'], 1),\n",
       " ('of', ['of'], 1),\n",
       " ('talk', ['talk'], 1),\n",
       " ('in', ['in'], 1),\n",
       " ('Congress', ['con', 'gress'], 2),\n",
       " ('about', ['about'], 1),\n",
       " ('these', ['these'], 1),\n",
       " ('issues', ['is', 'sues'], 2),\n",
       " ('.', None, None),\n",
       " ('Today', ['to', 'day'], 2),\n",
       " (',', None, None),\n",
       " ('once', ['once'], 1),\n",
       " ('again', ['again'], 1),\n",
       " (',', None, None),\n",
       " ('I', ['i'], 1),\n",
       " (\"'m\", None, None),\n",
       " ('calling', ['call', 'ing'], 2),\n",
       " ('on', ['on'], 1),\n",
       " ('Congress', ['con', 'gress'], 2),\n",
       " ('to', ['to'], 1),\n",
       " ('follow', ['fol', 'low'], 2),\n",
       " ('up', ['up'], 1),\n",
       " ('on', ['on'], 1),\n",
       " ('these', ['these'], 1),\n",
       " ('words', ['words'], 1),\n",
       " ('with', ['with'], 1),\n",
       " ('action', ['ac', 'tion'], 2),\n",
       " (',', None, None),\n",
       " ('specifically', ['specif', 'i', 'cal', 'ly'], 4),\n",
       " ('to', ['to'], 1),\n",
       " ('support', ['sup', 'port'], 2),\n",
       " ('the', ['the'], 1),\n",
       " ('IMF', ['imf'], 1),\n",
       " (\"'s\", None, None),\n",
       " ('capacity', ['ca', 'pac', 'i', 'ty'], 4),\n",
       " ('to', ['to'], 1),\n",
       " ('lend', ['lend'], 1),\n",
       " ('resources', ['re', 'sources'], 2),\n",
       " ('to', ['to'], 1),\n",
       " ('Ukraine', ['ukraine'], 1),\n",
       " ('and', ['and'], 1),\n",
       " ('to', ['to'], 1),\n",
       " ('provide', ['pro', 'vide'], 2),\n",
       " ('American', ['amer', 'i', 'can'], 3),\n",
       " ('assistance', ['as', 'sis', 'tance'], 3),\n",
       " ('for', ['for'], 1),\n",
       " ('the', ['the'], 1),\n",
       " ('Ukrainian', ['ukrain', 'ian'], 2),\n",
       " ('Government', ['gov', 'ern', 'ment'], 3),\n",
       " ('so', ['so'], 1),\n",
       " ('that', ['that'], 1),\n",
       " ('they', ['they'], 1),\n",
       " ('can', ['can'], 1),\n",
       " ('weather', ['weath', 'er'], 2),\n",
       " ('this', ['this'], 1),\n",
       " ('storm', ['storm'], 1),\n",
       " ('and', ['and'], 1),\n",
       " ('stabilize', ['sta', 'bi', 'lize'], 3),\n",
       " ('their', ['their'], 1),\n",
       " ('economy', ['econ', 'o', 'my'], 3),\n",
       " (',', None, None),\n",
       " ('make', ['make'], 1),\n",
       " ('needed', ['need', 'ed'], 2),\n",
       " ('reforms', ['re', 'forms'], 2),\n",
       " (',', None, None),\n",
       " ('deliver', ['de', 'liv', 'er'], 3),\n",
       " ('for', ['for'], 1),\n",
       " ('their', ['their'], 1),\n",
       " ('people', ['peo', 'ple'], 2),\n",
       " (',', None, None),\n",
       " ('all', ['all'], 1),\n",
       " ('of', ['of'], 1),\n",
       " ('which', ['which'], 1),\n",
       " ('will', ['will'], 1),\n",
       " ('provide', ['pro', 'vide'], 2),\n",
       " ('a', ['a'], 1),\n",
       " ('smoother', ['smoother'], 1),\n",
       " ('pathway', ['path', 'way'], 2),\n",
       " ('for', ['for'], 1),\n",
       " ('the', ['the'], 1),\n",
       " ('elections', ['elec', 'tions'], 2),\n",
       " ('that', ['that'], 1),\n",
       " ('have', ['have'], 1),\n",
       " ('already', ['al', 'ready'], 2),\n",
       " ('been', ['been'], 1),\n",
       " ('scheduled', ['sched', 'uled'], 2),\n",
       " ('in', ['in'], 1),\n",
       " ('May', ['may'], 1),\n",
       " ('.', None, None),\n",
       " ('Today', ['to', 'day'], 2),\n",
       " ('the', ['the'], 1),\n",
       " ('world', ['world'], 1),\n",
       " ('can', ['can'], 1),\n",
       " ('see', ['see'], 1),\n",
       " ('that', ['that'], 1),\n",
       " ('the', ['the'], 1),\n",
       " ('United', ['unit', 'ed'], 2),\n",
       " ('States', ['states'], 1),\n",
       " ('is', ['is'], 1),\n",
       " ('united', ['unit', 'ed'], 2),\n",
       " ('with', ['with'], 1),\n",
       " ('our', ['our'], 1),\n",
       " ('allies', ['al', 'lies'], 2),\n",
       " ('and', ['and'], 1),\n",
       " ('partners', ['part', 'ners'], 2),\n",
       " ('in', ['in'], 1),\n",
       " ('upholding', ['up', 'hold', 'ing'], 3),\n",
       " ('international', ['in', 'ter', 'na', 'tion', 'al'], 5),\n",
       " ('law', ['law'], 1),\n",
       " ('and', ['and'], 1),\n",
       " ('pursuing', ['pur', 'su', 'ing'], 3),\n",
       " ('a', ['a'], 1),\n",
       " ('just', ['just'], 1),\n",
       " ('outcome', ['out', 'come'], 2),\n",
       " ('that', ['that'], 1),\n",
       " ('advances', ['ad', 'vances'], 2),\n",
       " ('global', ['glob', 'al'], 2),\n",
       " ('security', ['se', 'cu', 'ri', 'ty'], 4),\n",
       " ('and', ['and'], 1),\n",
       " ('the', ['the'], 1),\n",
       " ('future', ['fu', 'ture'], 2),\n",
       " ('that', ['that'], 1),\n",
       " ('the', ['the'], 1),\n",
       " ('Ukrainian', ['ukrain', 'ian'], 2),\n",
       " ('people', ['peo', 'ple'], 2),\n",
       " ('deserve', ['de', 'serve'], 2),\n",
       " ('.', None, None),\n",
       " ('That', ['that'], 1),\n",
       " (\"'s\", None, None),\n",
       " ('what', ['what'], 1),\n",
       " ('we', ['we'], 1),\n",
       " (\"'re\", None, None),\n",
       " ('going', ['go', 'ing'], 2),\n",
       " ('to', ['to'], 1),\n",
       " ('continue', ['con', 'tin', 'ue'], 3),\n",
       " ('to', ['to'], 1),\n",
       " ('do', ['do'], 1),\n",
       " ('in', ['in'], 1),\n",
       " ('the', ['the'], 1),\n",
       " ('days', ['days'], 1),\n",
       " ('to', ['to'], 1),\n",
       " ('come', ['come'], 1),\n",
       " ('until', ['un', 'til'], 2),\n",
       " ('we', ['we'], 1),\n",
       " ('have', ['have'], 1),\n",
       " ('seen', ['seen'], 1),\n",
       " ('a', ['a'], 1),\n",
       " ('resolution', ['res', 'o', 'lu', 'tion'], 4),\n",
       " ('to', ['to'], 1),\n",
       " ('this', ['this'], 1),\n",
       " ('crisis', ['cri', 'sis'], 2),\n",
       " ('.', None, None),\n",
       " ('Thanks', ['thanks'], 1),\n",
       " ('very', ['very'], 1),\n",
       " ('much', ['much'], 1),\n",
       " ('.', None, None),\n",
       " ('And', ['and'], 1),\n",
       " ('Jay', ['jay'], 1),\n",
       " ('and', ['and'], 1),\n",
       " ('Ben', ['ben'], 1),\n",
       " ('and', ['and'], 1),\n",
       " ('others', ['oth', 'ers'], 2),\n",
       " ('will', ['will'], 1),\n",
       " ('be', ['be'], 1),\n",
       " ('happy', ['hap', 'py'], 2),\n",
       " ('to', ['to'], 1),\n",
       " ('take', ['take'], 1),\n",
       " ('your', ['your'], 1),\n",
       " ('questions', ['ques', 'tions'], 2),\n",
       " ('.', None, None)]"
      ]
     },
     "execution_count": 25,
     "metadata": {},
     "output_type": "execute_result"
    }
   ],
   "source": [
    "data"
   ]
  },
  {
   "cell_type": "markdown",
   "id": "fb9a81b6",
   "metadata": {},
   "source": [
    "## New stuff, count variance"
   ]
  },
  {
   "cell_type": "code",
   "execution_count": 109,
   "id": "fb85393e",
   "metadata": {},
   "outputs": [],
   "source": [
    "oba = pd.read_csv('sentence_depth.csv')\n",
    "oba = oba.query('source==\"oba\"')\n",
    "gwb = pd.read_csv('sentence_depth_gwb.csv')"
   ]
  },
  {
   "cell_type": "code",
   "execution_count": 110,
   "id": "419de288",
   "metadata": {},
   "outputs": [],
   "source": [
    "def words_per_sentence(sentence):\n",
    "    '''returns: integer number of words in a sentence'''\n",
    "    tokenizer = RegexpTokenizer(r'\\w+')\n",
    "    tokens = tokenizer.tokenize(sentence)\n",
    "    return(len(tokens))\n",
    "\n",
    "def syllable_count(word):\n",
    "    '''backup syllable counter if word not in NLTK-CMU dictionary'''\n",
    "    #referred from stackoverflow.com/questions/14541303/count-the-number-of-syllables-in-a-word\n",
    "    count = 0\n",
    "    vowels = 'aeiouy'\n",
    "    word = word.lower()\n",
    "    try:\n",
    "        if word[0] in vowels:\n",
    "            count +=1\n",
    "    except:\n",
    "        count += 0\n",
    "    for index in range(1,len(word)):\n",
    "        if word[index] in vowels and word[index-1] not in vowels:\n",
    "            count +=1\n",
    "    if word.endswith('e'):\n",
    "        count -= 1\n",
    "    if word.endswith('le'):\n",
    "        count += 1\n",
    "    if count == 0:\n",
    "        count += 1\n",
    "    return count\n",
    "\n",
    "def chars_per_word(word):\n",
    "    '''returns: integer number of characters in a word'''\n",
    "    return(len(word))\n",
    "\n",
    "d = cmudict.dict()\n",
    "def nsyl(word):\n",
    "    '''input: string - word\n",
    "       returns: integer count of syllables in word'''\n",
    "    try:\n",
    "        # needs the [0] otherwise words like 'of' returns [1,1]\n",
    "        return [len(list(y for y in x if y[-1].isdigit())) for x in d[word.lower()]][0]\n",
    "    except KeyError:\n",
    "        #if word not found in cmudict\n",
    "        return syllable_count(word)"
   ]
  },
  {
   "cell_type": "code",
   "execution_count": 111,
   "id": "70f540ce",
   "metadata": {},
   "outputs": [],
   "source": [
    "oba['words_per_sent'] = oba.sentence.apply(words_per_sentence)\n",
    "gwb['words_per_sent'] = gwb.sentence.apply(words_per_sentence)\n",
    "oba['syllables_per_sent'] = [nsyl(word) for word in oba.sentence]\n",
    "gwb['syllables_per_sent'] = [nsyl(word) for word in gwb.sentence]\n",
    "oba['chars_per_sent'] = [chars_per_word(word) for word in oba.sentence]\n",
    "gwb['chars_per_sent'] = [chars_per_word(word) for word in gwb.sentence]"
   ]
  },
  {
   "cell_type": "code",
   "execution_count": 112,
   "id": "4e900c83",
   "metadata": {},
   "outputs": [
    {
     "data": {
      "text/html": [
       "<div>\n",
       "<style scoped>\n",
       "    .dataframe tbody tr th:only-of-type {\n",
       "        vertical-align: middle;\n",
       "    }\n",
       "\n",
       "    .dataframe tbody tr th {\n",
       "        vertical-align: top;\n",
       "    }\n",
       "\n",
       "    .dataframe thead th {\n",
       "        text-align: right;\n",
       "    }\n",
       "</style>\n",
       "<table border=\"1\" class=\"dataframe\">\n",
       "  <thead>\n",
       "    <tr style=\"text-align: right;\">\n",
       "      <th></th>\n",
       "      <th>depth</th>\n",
       "      <th>words_per_sent</th>\n",
       "      <th>syllables_per_sent</th>\n",
       "      <th>chars_per_sent</th>\n",
       "    </tr>\n",
       "    <tr>\n",
       "      <th>date</th>\n",
       "      <th></th>\n",
       "      <th></th>\n",
       "      <th></th>\n",
       "      <th></th>\n",
       "    </tr>\n",
       "  </thead>\n",
       "  <tbody>\n",
       "    <tr>\n",
       "      <th>2004-07-28</th>\n",
       "      <td>5.0</td>\n",
       "      <td>16.0</td>\n",
       "      <td>25.0</td>\n",
       "      <td>83.0</td>\n",
       "    </tr>\n",
       "    <tr>\n",
       "      <th>2008-06-04</th>\n",
       "      <td>6.0</td>\n",
       "      <td>23.0</td>\n",
       "      <td>35.0</td>\n",
       "      <td>125.0</td>\n",
       "    </tr>\n",
       "    <tr>\n",
       "      <th>2008-11-05</th>\n",
       "      <td>5.0</td>\n",
       "      <td>16.5</td>\n",
       "      <td>26.5</td>\n",
       "      <td>85.0</td>\n",
       "    </tr>\n",
       "    <tr>\n",
       "      <th>2009-01-05</th>\n",
       "      <td>6.0</td>\n",
       "      <td>18.5</td>\n",
       "      <td>31.0</td>\n",
       "      <td>110.5</td>\n",
       "    </tr>\n",
       "    <tr>\n",
       "      <th>2009-01-20</th>\n",
       "      <td>5.0</td>\n",
       "      <td>19.0</td>\n",
       "      <td>29.0</td>\n",
       "      <td>104.0</td>\n",
       "    </tr>\n",
       "    <tr>\n",
       "      <th>...</th>\n",
       "      <td>...</td>\n",
       "      <td>...</td>\n",
       "      <td>...</td>\n",
       "      <td>...</td>\n",
       "    </tr>\n",
       "    <tr>\n",
       "      <th>2016-07-28</th>\n",
       "      <td>4.0</td>\n",
       "      <td>14.0</td>\n",
       "      <td>19.5</td>\n",
       "      <td>70.5</td>\n",
       "    </tr>\n",
       "    <tr>\n",
       "      <th>2016-08-17</th>\n",
       "      <td>5.0</td>\n",
       "      <td>17.0</td>\n",
       "      <td>26.0</td>\n",
       "      <td>89.0</td>\n",
       "    </tr>\n",
       "    <tr>\n",
       "      <th>2016-09-05</th>\n",
       "      <td>5.0</td>\n",
       "      <td>18.0</td>\n",
       "      <td>30.0</td>\n",
       "      <td>107.5</td>\n",
       "    </tr>\n",
       "    <tr>\n",
       "      <th>2016-11-09</th>\n",
       "      <td>4.0</td>\n",
       "      <td>11.0</td>\n",
       "      <td>17.0</td>\n",
       "      <td>61.0</td>\n",
       "    </tr>\n",
       "    <tr>\n",
       "      <th>2017-01-11</th>\n",
       "      <td>5.0</td>\n",
       "      <td>16.0</td>\n",
       "      <td>24.0</td>\n",
       "      <td>87.0</td>\n",
       "    </tr>\n",
       "  </tbody>\n",
       "</table>\n",
       "<p>101 rows × 4 columns</p>\n",
       "</div>"
      ],
      "text/plain": [
       "            depth  words_per_sent  syllables_per_sent  chars_per_sent\n",
       "date                                                                 \n",
       "2004-07-28    5.0            16.0                25.0            83.0\n",
       "2008-06-04    6.0            23.0                35.0           125.0\n",
       "2008-11-05    5.0            16.5                26.5            85.0\n",
       "2009-01-05    6.0            18.5                31.0           110.5\n",
       "2009-01-20    5.0            19.0                29.0           104.0\n",
       "...           ...             ...                 ...             ...\n",
       "2016-07-28    4.0            14.0                19.5            70.5\n",
       "2016-08-17    5.0            17.0                26.0            89.0\n",
       "2016-09-05    5.0            18.0                30.0           107.5\n",
       "2016-11-09    4.0            11.0                17.0            61.0\n",
       "2017-01-11    5.0            16.0                24.0            87.0\n",
       "\n",
       "[101 rows x 4 columns]"
      ]
     },
     "execution_count": 112,
     "metadata": {},
     "output_type": "execute_result"
    }
   ],
   "source": [
    "oba.groupby(by='date').median(numeric_only=True)"
   ]
  },
  {
   "cell_type": "code",
   "execution_count": 113,
   "id": "a66e4ccb",
   "metadata": {},
   "outputs": [
    {
     "data": {
      "text/html": [
       "<div>\n",
       "<style scoped>\n",
       "    .dataframe tbody tr th:only-of-type {\n",
       "        vertical-align: middle;\n",
       "    }\n",
       "\n",
       "    .dataframe tbody tr th {\n",
       "        vertical-align: top;\n",
       "    }\n",
       "\n",
       "    .dataframe thead th {\n",
       "        text-align: right;\n",
       "    }\n",
       "</style>\n",
       "<table border=\"1\" class=\"dataframe\">\n",
       "  <thead>\n",
       "    <tr style=\"text-align: right;\">\n",
       "      <th></th>\n",
       "      <th>depth</th>\n",
       "      <th>words_per_sent</th>\n",
       "      <th>syllables_per_sent</th>\n",
       "      <th>chars_per_sent</th>\n",
       "    </tr>\n",
       "    <tr>\n",
       "      <th>date</th>\n",
       "      <th></th>\n",
       "      <th></th>\n",
       "      <th></th>\n",
       "      <th></th>\n",
       "    </tr>\n",
       "  </thead>\n",
       "  <tbody>\n",
       "    <tr>\n",
       "      <th>2001-01-20</th>\n",
       "      <td>4.520833</td>\n",
       "      <td>16.687500</td>\n",
       "      <td>27.125000</td>\n",
       "      <td>92.875000</td>\n",
       "    </tr>\n",
       "    <tr>\n",
       "      <th>2001-01-22</th>\n",
       "      <td>4.666667</td>\n",
       "      <td>14.142857</td>\n",
       "      <td>22.666667</td>\n",
       "      <td>77.285714</td>\n",
       "    </tr>\n",
       "    <tr>\n",
       "      <th>2001-01-29</th>\n",
       "      <td>5.409836</td>\n",
       "      <td>17.459016</td>\n",
       "      <td>29.180328</td>\n",
       "      <td>100.180328</td>\n",
       "    </tr>\n",
       "    <tr>\n",
       "      <th>2001-02-16</th>\n",
       "      <td>7.470588</td>\n",
       "      <td>24.058824</td>\n",
       "      <td>43.823529</td>\n",
       "      <td>148.382353</td>\n",
       "    </tr>\n",
       "    <tr>\n",
       "      <th>2001-03-29</th>\n",
       "      <td>5.115385</td>\n",
       "      <td>15.923077</td>\n",
       "      <td>26.730769</td>\n",
       "      <td>91.846154</td>\n",
       "    </tr>\n",
       "    <tr>\n",
       "      <th>...</th>\n",
       "      <td>...</td>\n",
       "      <td>...</td>\n",
       "      <td>...</td>\n",
       "      <td>...</td>\n",
       "    </tr>\n",
       "    <tr>\n",
       "      <th>2008-09-04</th>\n",
       "      <td>4.290323</td>\n",
       "      <td>14.512903</td>\n",
       "      <td>21.316129</td>\n",
       "      <td>76.758065</td>\n",
       "    </tr>\n",
       "    <tr>\n",
       "      <th>2008-09-07</th>\n",
       "      <td>6.777778</td>\n",
       "      <td>26.888889</td>\n",
       "      <td>51.333333</td>\n",
       "      <td>172.333333</td>\n",
       "    </tr>\n",
       "    <tr>\n",
       "      <th>2008-10-01</th>\n",
       "      <td>5.666667</td>\n",
       "      <td>18.333333</td>\n",
       "      <td>34.666667</td>\n",
       "      <td>120.000000</td>\n",
       "    </tr>\n",
       "    <tr>\n",
       "      <th>2008-10-03</th>\n",
       "      <td>6.214286</td>\n",
       "      <td>24.857143</td>\n",
       "      <td>49.107143</td>\n",
       "      <td>162.964286</td>\n",
       "    </tr>\n",
       "    <tr>\n",
       "      <th>2008-12-19</th>\n",
       "      <td>5.913043</td>\n",
       "      <td>22.739130</td>\n",
       "      <td>40.826087</td>\n",
       "      <td>137.891304</td>\n",
       "    </tr>\n",
       "  </tbody>\n",
       "</table>\n",
       "<p>84 rows × 4 columns</p>\n",
       "</div>"
      ],
      "text/plain": [
       "               depth  words_per_sent  syllables_per_sent  chars_per_sent\n",
       "date                                                                    \n",
       "2001-01-20  4.520833       16.687500           27.125000       92.875000\n",
       "2001-01-22  4.666667       14.142857           22.666667       77.285714\n",
       "2001-01-29  5.409836       17.459016           29.180328      100.180328\n",
       "2001-02-16  7.470588       24.058824           43.823529      148.382353\n",
       "2001-03-29  5.115385       15.923077           26.730769       91.846154\n",
       "...              ...             ...                 ...             ...\n",
       "2008-09-04  4.290323       14.512903           21.316129       76.758065\n",
       "2008-09-07  6.777778       26.888889           51.333333      172.333333\n",
       "2008-10-01  5.666667       18.333333           34.666667      120.000000\n",
       "2008-10-03  6.214286       24.857143           49.107143      162.964286\n",
       "2008-12-19  5.913043       22.739130           40.826087      137.891304\n",
       "\n",
       "[84 rows x 4 columns]"
      ]
     },
     "execution_count": 113,
     "metadata": {},
     "output_type": "execute_result"
    }
   ],
   "source": [
    "gwb.groupby('date').mean(numeric_only=True)"
   ]
  },
  {
   "cell_type": "code",
   "execution_count": 161,
   "id": "411681dd",
   "metadata": {},
   "outputs": [
    {
     "data": {
      "text/plain": [
       "depth                  2.720745\n",
       "words_per_sent        15.170840\n",
       "syllables_per_sent    23.818573\n",
       "chars_per_sent        83.720235\n",
       "dtype: float64"
      ]
     },
     "execution_count": 161,
     "metadata": {},
     "output_type": "execute_result"
    }
   ],
   "source": [
    "top10.std(numeric_only=True)"
   ]
  },
  {
   "cell_type": "code",
   "execution_count": 129,
   "id": "23fa9c43",
   "metadata": {},
   "outputs": [
    {
     "data": {
      "text/plain": [
       "depth                  2.679265\n",
       "words_per_sent        13.313618\n",
       "syllables_per_sent    21.737954\n",
       "chars_per_sent        75.727997\n",
       "dtype: float64"
      ]
     },
     "execution_count": 129,
     "metadata": {},
     "output_type": "execute_result"
    }
   ],
   "source": [
    "oba.std(numeric_only=True)"
   ]
  },
  {
   "cell_type": "code",
   "execution_count": 130,
   "id": "e514da13",
   "metadata": {},
   "outputs": [
    {
     "data": {
      "text/plain": [
       "depth                  2.376683\n",
       "words_per_sent        10.471476\n",
       "syllables_per_sent    18.372897\n",
       "chars_per_sent        62.817604\n",
       "dtype: float64"
      ]
     },
     "execution_count": 130,
     "metadata": {},
     "output_type": "execute_result"
    }
   ],
   "source": [
    "gwb.std(numeric_only=True)"
   ]
  },
  {
   "cell_type": "code",
   "execution_count": 116,
   "id": "49a5adc6",
   "metadata": {},
   "outputs": [],
   "source": [
    "variance_oba['sentence_count'] = oba.groupby(by='date').size()\n",
    "variance_gwb['sentence_count'] = gwb.groupby(by='date').size()"
   ]
  },
  {
   "cell_type": "code",
   "execution_count": 117,
   "id": "ad39ffc6",
   "metadata": {},
   "outputs": [
    {
     "data": {
      "text/html": [
       "<div>\n",
       "<style scoped>\n",
       "    .dataframe tbody tr th:only-of-type {\n",
       "        vertical-align: middle;\n",
       "    }\n",
       "\n",
       "    .dataframe tbody tr th {\n",
       "        vertical-align: top;\n",
       "    }\n",
       "\n",
       "    .dataframe thead th {\n",
       "        text-align: right;\n",
       "    }\n",
       "</style>\n",
       "<table border=\"1\" class=\"dataframe\">\n",
       "  <thead>\n",
       "    <tr style=\"text-align: right;\">\n",
       "      <th></th>\n",
       "      <th>depth_med</th>\n",
       "      <th>words_per_sent_med</th>\n",
       "      <th>syllables_per_sent_med</th>\n",
       "      <th>chars_per_sent_med</th>\n",
       "    </tr>\n",
       "    <tr>\n",
       "      <th>date</th>\n",
       "      <th></th>\n",
       "      <th></th>\n",
       "      <th></th>\n",
       "      <th></th>\n",
       "    </tr>\n",
       "  </thead>\n",
       "  <tbody>\n",
       "    <tr>\n",
       "      <th>2001-01-20</th>\n",
       "      <td>4.0</td>\n",
       "      <td>15.0</td>\n",
       "      <td>25.5</td>\n",
       "      <td>85.5</td>\n",
       "    </tr>\n",
       "    <tr>\n",
       "      <th>2001-01-22</th>\n",
       "      <td>4.0</td>\n",
       "      <td>12.0</td>\n",
       "      <td>18.0</td>\n",
       "      <td>63.0</td>\n",
       "    </tr>\n",
       "    <tr>\n",
       "      <th>2001-01-29</th>\n",
       "      <td>5.0</td>\n",
       "      <td>15.0</td>\n",
       "      <td>25.0</td>\n",
       "      <td>85.0</td>\n",
       "    </tr>\n",
       "    <tr>\n",
       "      <th>2001-02-16</th>\n",
       "      <td>7.0</td>\n",
       "      <td>22.5</td>\n",
       "      <td>42.0</td>\n",
       "      <td>144.0</td>\n",
       "    </tr>\n",
       "    <tr>\n",
       "      <th>2001-03-29</th>\n",
       "      <td>5.0</td>\n",
       "      <td>15.0</td>\n",
       "      <td>25.5</td>\n",
       "      <td>89.0</td>\n",
       "    </tr>\n",
       "    <tr>\n",
       "      <th>...</th>\n",
       "      <td>...</td>\n",
       "      <td>...</td>\n",
       "      <td>...</td>\n",
       "      <td>...</td>\n",
       "    </tr>\n",
       "    <tr>\n",
       "      <th>2008-09-04</th>\n",
       "      <td>4.0</td>\n",
       "      <td>12.0</td>\n",
       "      <td>18.0</td>\n",
       "      <td>67.0</td>\n",
       "    </tr>\n",
       "    <tr>\n",
       "      <th>2008-09-07</th>\n",
       "      <td>6.0</td>\n",
       "      <td>28.0</td>\n",
       "      <td>52.0</td>\n",
       "      <td>169.0</td>\n",
       "    </tr>\n",
       "    <tr>\n",
       "      <th>2008-10-01</th>\n",
       "      <td>6.0</td>\n",
       "      <td>20.0</td>\n",
       "      <td>40.0</td>\n",
       "      <td>131.5</td>\n",
       "    </tr>\n",
       "    <tr>\n",
       "      <th>2008-10-03</th>\n",
       "      <td>7.0</td>\n",
       "      <td>23.0</td>\n",
       "      <td>50.0</td>\n",
       "      <td>157.0</td>\n",
       "    </tr>\n",
       "    <tr>\n",
       "      <th>2008-12-19</th>\n",
       "      <td>6.0</td>\n",
       "      <td>23.0</td>\n",
       "      <td>40.0</td>\n",
       "      <td>135.5</td>\n",
       "    </tr>\n",
       "  </tbody>\n",
       "</table>\n",
       "<p>84 rows × 4 columns</p>\n",
       "</div>"
      ],
      "text/plain": [
       "            depth_med  words_per_sent_med  syllables_per_sent_med  \\\n",
       "date                                                                \n",
       "2001-01-20        4.0                15.0                    25.5   \n",
       "2001-01-22        4.0                12.0                    18.0   \n",
       "2001-01-29        5.0                15.0                    25.0   \n",
       "2001-02-16        7.0                22.5                    42.0   \n",
       "2001-03-29        5.0                15.0                    25.5   \n",
       "...               ...                 ...                     ...   \n",
       "2008-09-04        4.0                12.0                    18.0   \n",
       "2008-09-07        6.0                28.0                    52.0   \n",
       "2008-10-01        6.0                20.0                    40.0   \n",
       "2008-10-03        7.0                23.0                    50.0   \n",
       "2008-12-19        6.0                23.0                    40.0   \n",
       "\n",
       "            chars_per_sent_med  \n",
       "date                            \n",
       "2001-01-20                85.5  \n",
       "2001-01-22                63.0  \n",
       "2001-01-29                85.0  \n",
       "2001-02-16               144.0  \n",
       "2001-03-29                89.0  \n",
       "...                        ...  \n",
       "2008-09-04                67.0  \n",
       "2008-09-07               169.0  \n",
       "2008-10-01               131.5  \n",
       "2008-10-03               157.0  \n",
       "2008-12-19               135.5  \n",
       "\n",
       "[84 rows x 4 columns]"
      ]
     },
     "execution_count": 117,
     "metadata": {},
     "output_type": "execute_result"
    }
   ],
   "source": [
    "oba_std = oba.groupby(by='date').std(numeric_only=True).add_suffix('_std')\n",
    "gwb_std = gwb.groupby(by='date').std(numeric_only=True).add_suffix('_std')\n",
    "oba.groupby(by='date').mean(numeric_only=True).add_suffix('_mean')\n",
    "gwb.groupby(by='date').mean(numeric_only=True).add_suffix('_mean')\n",
    "oba.groupby(by='date').median(numeric_only=True).add_suffix('_med')\n",
    "gwb.groupby(by='date').median(numeric_only=True).add_suffix('_med')"
   ]
  },
  {
   "cell_type": "code",
   "execution_count": 118,
   "id": "ce05b828",
   "metadata": {},
   "outputs": [
    {
     "data": {
      "text/plain": [
       "2.6792646674365406"
      ]
     },
     "execution_count": 118,
     "metadata": {},
     "output_type": "execute_result"
    }
   ],
   "source": [
    "oba.depth.std()"
   ]
  },
  {
   "cell_type": "code",
   "execution_count": 119,
   "id": "9170f16e",
   "metadata": {},
   "outputs": [
    {
     "data": {
      "text/plain": [
       "2.376682583296076"
      ]
     },
     "execution_count": 119,
     "metadata": {},
     "output_type": "execute_result"
    }
   ],
   "source": [
    "gwb.depth.std()"
   ]
  },
  {
   "cell_type": "code",
   "execution_count": 120,
   "id": "d6025185",
   "metadata": {},
   "outputs": [
    {
     "data": {
      "text/plain": [
       "15.514284981688279"
      ]
     },
     "execution_count": 120,
     "metadata": {},
     "output_type": "execute_result"
    }
   ],
   "source": [
    "oba.query('date == \"2009-01-20\"').words_per_sent.std()"
   ]
  },
  {
   "cell_type": "code",
   "execution_count": 121,
   "id": "7aa25d79",
   "metadata": {},
   "outputs": [
    {
     "data": {
      "application/vnd.plotly.v1+json": {
       "config": {
        "plotlyServerURL": "https://plot.ly"
       },
       "data": [
        {
         "hovertemplate": "variable=words_per_sent<br>index=%{x}<br>value=%{y}<extra></extra>",
         "legendgroup": "words_per_sent",
         "line": {
          "color": "#636efa",
          "dash": "solid"
         },
         "marker": {
          "symbol": "circle"
         },
         "mode": "lines",
         "name": "words_per_sent",
         "orientation": "v",
         "showlegend": true,
         "type": "scatter",
         "x": [
          464,
          465,
          466,
          467,
          468,
          469,
          470,
          471,
          472,
          473,
          474,
          475,
          476,
          477,
          478,
          479,
          480,
          481,
          482,
          483,
          484,
          485,
          486,
          487,
          488,
          489,
          490,
          491,
          492,
          493,
          494,
          495,
          496,
          497,
          498,
          499,
          500,
          501,
          502,
          503,
          504,
          505,
          506,
          507,
          508,
          509,
          510,
          511,
          512,
          513,
          514,
          515,
          516,
          517,
          518,
          519,
          520,
          521,
          522,
          523,
          524,
          525,
          526,
          527,
          528,
          529,
          530,
          531,
          532,
          533,
          534,
          535,
          536,
          537,
          538,
          539,
          540,
          541,
          542,
          543,
          544,
          545,
          546,
          547,
          548,
          549,
          550,
          551,
          552,
          553,
          554,
          555,
          556,
          557,
          558,
          559,
          560,
          561,
          562,
          563,
          564,
          565,
          566,
          567,
          568,
          569,
          570,
          571,
          572,
          573,
          574
         ],
         "xaxis": "x",
         "y": [
          43,
          4,
          28,
          23,
          9,
          16,
          14,
          41,
          4,
          9,
          12,
          14,
          33,
          8,
          30,
          11,
          31,
          12,
          7,
          13,
          8,
          19,
          31,
          20,
          52,
          15,
          4,
          13,
          26,
          38,
          19,
          21,
          16,
          25,
          23,
          7,
          9,
          11,
          24,
          4,
          20,
          18,
          10,
          29,
          21,
          23,
          19,
          18,
          5,
          5,
          22,
          4,
          28,
          29,
          39,
          10,
          8,
          45,
          44,
          11,
          50,
          17,
          36,
          16,
          49,
          8,
          23,
          19,
          32,
          7,
          24,
          18,
          24,
          45,
          9,
          13,
          14,
          85,
          17,
          36,
          42,
          30,
          36,
          11,
          29,
          19,
          31,
          22,
          26,
          37,
          28,
          5,
          10,
          26,
          4,
          11,
          10,
          68,
          9,
          19,
          61,
          18,
          28,
          4,
          4,
          6,
          64,
          20,
          18,
          59,
          13
         ],
         "yaxis": "y"
        }
       ],
       "layout": {
        "legend": {
         "title": {
          "text": "variable"
         },
         "tracegroupgap": 0
        },
        "margin": {
         "t": 60
        },
        "template": {
         "data": {
          "bar": [
           {
            "error_x": {
             "color": "#2a3f5f"
            },
            "error_y": {
             "color": "#2a3f5f"
            },
            "marker": {
             "line": {
              "color": "#E5ECF6",
              "width": 0.5
             },
             "pattern": {
              "fillmode": "overlay",
              "size": 10,
              "solidity": 0.2
             }
            },
            "type": "bar"
           }
          ],
          "barpolar": [
           {
            "marker": {
             "line": {
              "color": "#E5ECF6",
              "width": 0.5
             },
             "pattern": {
              "fillmode": "overlay",
              "size": 10,
              "solidity": 0.2
             }
            },
            "type": "barpolar"
           }
          ],
          "carpet": [
           {
            "aaxis": {
             "endlinecolor": "#2a3f5f",
             "gridcolor": "white",
             "linecolor": "white",
             "minorgridcolor": "white",
             "startlinecolor": "#2a3f5f"
            },
            "baxis": {
             "endlinecolor": "#2a3f5f",
             "gridcolor": "white",
             "linecolor": "white",
             "minorgridcolor": "white",
             "startlinecolor": "#2a3f5f"
            },
            "type": "carpet"
           }
          ],
          "choropleth": [
           {
            "colorbar": {
             "outlinewidth": 0,
             "ticks": ""
            },
            "type": "choropleth"
           }
          ],
          "contour": [
           {
            "colorbar": {
             "outlinewidth": 0,
             "ticks": ""
            },
            "colorscale": [
             [
              0,
              "#0d0887"
             ],
             [
              0.1111111111111111,
              "#46039f"
             ],
             [
              0.2222222222222222,
              "#7201a8"
             ],
             [
              0.3333333333333333,
              "#9c179e"
             ],
             [
              0.4444444444444444,
              "#bd3786"
             ],
             [
              0.5555555555555556,
              "#d8576b"
             ],
             [
              0.6666666666666666,
              "#ed7953"
             ],
             [
              0.7777777777777778,
              "#fb9f3a"
             ],
             [
              0.8888888888888888,
              "#fdca26"
             ],
             [
              1,
              "#f0f921"
             ]
            ],
            "type": "contour"
           }
          ],
          "contourcarpet": [
           {
            "colorbar": {
             "outlinewidth": 0,
             "ticks": ""
            },
            "type": "contourcarpet"
           }
          ],
          "heatmap": [
           {
            "colorbar": {
             "outlinewidth": 0,
             "ticks": ""
            },
            "colorscale": [
             [
              0,
              "#0d0887"
             ],
             [
              0.1111111111111111,
              "#46039f"
             ],
             [
              0.2222222222222222,
              "#7201a8"
             ],
             [
              0.3333333333333333,
              "#9c179e"
             ],
             [
              0.4444444444444444,
              "#bd3786"
             ],
             [
              0.5555555555555556,
              "#d8576b"
             ],
             [
              0.6666666666666666,
              "#ed7953"
             ],
             [
              0.7777777777777778,
              "#fb9f3a"
             ],
             [
              0.8888888888888888,
              "#fdca26"
             ],
             [
              1,
              "#f0f921"
             ]
            ],
            "type": "heatmap"
           }
          ],
          "heatmapgl": [
           {
            "colorbar": {
             "outlinewidth": 0,
             "ticks": ""
            },
            "colorscale": [
             [
              0,
              "#0d0887"
             ],
             [
              0.1111111111111111,
              "#46039f"
             ],
             [
              0.2222222222222222,
              "#7201a8"
             ],
             [
              0.3333333333333333,
              "#9c179e"
             ],
             [
              0.4444444444444444,
              "#bd3786"
             ],
             [
              0.5555555555555556,
              "#d8576b"
             ],
             [
              0.6666666666666666,
              "#ed7953"
             ],
             [
              0.7777777777777778,
              "#fb9f3a"
             ],
             [
              0.8888888888888888,
              "#fdca26"
             ],
             [
              1,
              "#f0f921"
             ]
            ],
            "type": "heatmapgl"
           }
          ],
          "histogram": [
           {
            "marker": {
             "pattern": {
              "fillmode": "overlay",
              "size": 10,
              "solidity": 0.2
             }
            },
            "type": "histogram"
           }
          ],
          "histogram2d": [
           {
            "colorbar": {
             "outlinewidth": 0,
             "ticks": ""
            },
            "colorscale": [
             [
              0,
              "#0d0887"
             ],
             [
              0.1111111111111111,
              "#46039f"
             ],
             [
              0.2222222222222222,
              "#7201a8"
             ],
             [
              0.3333333333333333,
              "#9c179e"
             ],
             [
              0.4444444444444444,
              "#bd3786"
             ],
             [
              0.5555555555555556,
              "#d8576b"
             ],
             [
              0.6666666666666666,
              "#ed7953"
             ],
             [
              0.7777777777777778,
              "#fb9f3a"
             ],
             [
              0.8888888888888888,
              "#fdca26"
             ],
             [
              1,
              "#f0f921"
             ]
            ],
            "type": "histogram2d"
           }
          ],
          "histogram2dcontour": [
           {
            "colorbar": {
             "outlinewidth": 0,
             "ticks": ""
            },
            "colorscale": [
             [
              0,
              "#0d0887"
             ],
             [
              0.1111111111111111,
              "#46039f"
             ],
             [
              0.2222222222222222,
              "#7201a8"
             ],
             [
              0.3333333333333333,
              "#9c179e"
             ],
             [
              0.4444444444444444,
              "#bd3786"
             ],
             [
              0.5555555555555556,
              "#d8576b"
             ],
             [
              0.6666666666666666,
              "#ed7953"
             ],
             [
              0.7777777777777778,
              "#fb9f3a"
             ],
             [
              0.8888888888888888,
              "#fdca26"
             ],
             [
              1,
              "#f0f921"
             ]
            ],
            "type": "histogram2dcontour"
           }
          ],
          "mesh3d": [
           {
            "colorbar": {
             "outlinewidth": 0,
             "ticks": ""
            },
            "type": "mesh3d"
           }
          ],
          "parcoords": [
           {
            "line": {
             "colorbar": {
              "outlinewidth": 0,
              "ticks": ""
             }
            },
            "type": "parcoords"
           }
          ],
          "pie": [
           {
            "automargin": true,
            "type": "pie"
           }
          ],
          "scatter": [
           {
            "fillpattern": {
             "fillmode": "overlay",
             "size": 10,
             "solidity": 0.2
            },
            "type": "scatter"
           }
          ],
          "scatter3d": [
           {
            "line": {
             "colorbar": {
              "outlinewidth": 0,
              "ticks": ""
             }
            },
            "marker": {
             "colorbar": {
              "outlinewidth": 0,
              "ticks": ""
             }
            },
            "type": "scatter3d"
           }
          ],
          "scattercarpet": [
           {
            "marker": {
             "colorbar": {
              "outlinewidth": 0,
              "ticks": ""
             }
            },
            "type": "scattercarpet"
           }
          ],
          "scattergeo": [
           {
            "marker": {
             "colorbar": {
              "outlinewidth": 0,
              "ticks": ""
             }
            },
            "type": "scattergeo"
           }
          ],
          "scattergl": [
           {
            "marker": {
             "colorbar": {
              "outlinewidth": 0,
              "ticks": ""
             }
            },
            "type": "scattergl"
           }
          ],
          "scattermapbox": [
           {
            "marker": {
             "colorbar": {
              "outlinewidth": 0,
              "ticks": ""
             }
            },
            "type": "scattermapbox"
           }
          ],
          "scatterpolar": [
           {
            "marker": {
             "colorbar": {
              "outlinewidth": 0,
              "ticks": ""
             }
            },
            "type": "scatterpolar"
           }
          ],
          "scatterpolargl": [
           {
            "marker": {
             "colorbar": {
              "outlinewidth": 0,
              "ticks": ""
             }
            },
            "type": "scatterpolargl"
           }
          ],
          "scatterternary": [
           {
            "marker": {
             "colorbar": {
              "outlinewidth": 0,
              "ticks": ""
             }
            },
            "type": "scatterternary"
           }
          ],
          "surface": [
           {
            "colorbar": {
             "outlinewidth": 0,
             "ticks": ""
            },
            "colorscale": [
             [
              0,
              "#0d0887"
             ],
             [
              0.1111111111111111,
              "#46039f"
             ],
             [
              0.2222222222222222,
              "#7201a8"
             ],
             [
              0.3333333333333333,
              "#9c179e"
             ],
             [
              0.4444444444444444,
              "#bd3786"
             ],
             [
              0.5555555555555556,
              "#d8576b"
             ],
             [
              0.6666666666666666,
              "#ed7953"
             ],
             [
              0.7777777777777778,
              "#fb9f3a"
             ],
             [
              0.8888888888888888,
              "#fdca26"
             ],
             [
              1,
              "#f0f921"
             ]
            ],
            "type": "surface"
           }
          ],
          "table": [
           {
            "cells": {
             "fill": {
              "color": "#EBF0F8"
             },
             "line": {
              "color": "white"
             }
            },
            "header": {
             "fill": {
              "color": "#C8D4E3"
             },
             "line": {
              "color": "white"
             }
            },
            "type": "table"
           }
          ]
         },
         "layout": {
          "annotationdefaults": {
           "arrowcolor": "#2a3f5f",
           "arrowhead": 0,
           "arrowwidth": 1
          },
          "autotypenumbers": "strict",
          "coloraxis": {
           "colorbar": {
            "outlinewidth": 0,
            "ticks": ""
           }
          },
          "colorscale": {
           "diverging": [
            [
             0,
             "#8e0152"
            ],
            [
             0.1,
             "#c51b7d"
            ],
            [
             0.2,
             "#de77ae"
            ],
            [
             0.3,
             "#f1b6da"
            ],
            [
             0.4,
             "#fde0ef"
            ],
            [
             0.5,
             "#f7f7f7"
            ],
            [
             0.6,
             "#e6f5d0"
            ],
            [
             0.7,
             "#b8e186"
            ],
            [
             0.8,
             "#7fbc41"
            ],
            [
             0.9,
             "#4d9221"
            ],
            [
             1,
             "#276419"
            ]
           ],
           "sequential": [
            [
             0,
             "#0d0887"
            ],
            [
             0.1111111111111111,
             "#46039f"
            ],
            [
             0.2222222222222222,
             "#7201a8"
            ],
            [
             0.3333333333333333,
             "#9c179e"
            ],
            [
             0.4444444444444444,
             "#bd3786"
            ],
            [
             0.5555555555555556,
             "#d8576b"
            ],
            [
             0.6666666666666666,
             "#ed7953"
            ],
            [
             0.7777777777777778,
             "#fb9f3a"
            ],
            [
             0.8888888888888888,
             "#fdca26"
            ],
            [
             1,
             "#f0f921"
            ]
           ],
           "sequentialminus": [
            [
             0,
             "#0d0887"
            ],
            [
             0.1111111111111111,
             "#46039f"
            ],
            [
             0.2222222222222222,
             "#7201a8"
            ],
            [
             0.3333333333333333,
             "#9c179e"
            ],
            [
             0.4444444444444444,
             "#bd3786"
            ],
            [
             0.5555555555555556,
             "#d8576b"
            ],
            [
             0.6666666666666666,
             "#ed7953"
            ],
            [
             0.7777777777777778,
             "#fb9f3a"
            ],
            [
             0.8888888888888888,
             "#fdca26"
            ],
            [
             1,
             "#f0f921"
            ]
           ]
          },
          "colorway": [
           "#636efa",
           "#EF553B",
           "#00cc96",
           "#ab63fa",
           "#FFA15A",
           "#19d3f3",
           "#FF6692",
           "#B6E880",
           "#FF97FF",
           "#FECB52"
          ],
          "font": {
           "color": "#2a3f5f"
          },
          "geo": {
           "bgcolor": "white",
           "lakecolor": "white",
           "landcolor": "#E5ECF6",
           "showlakes": true,
           "showland": true,
           "subunitcolor": "white"
          },
          "hoverlabel": {
           "align": "left"
          },
          "hovermode": "closest",
          "mapbox": {
           "style": "light"
          },
          "paper_bgcolor": "white",
          "plot_bgcolor": "#E5ECF6",
          "polar": {
           "angularaxis": {
            "gridcolor": "white",
            "linecolor": "white",
            "ticks": ""
           },
           "bgcolor": "#E5ECF6",
           "radialaxis": {
            "gridcolor": "white",
            "linecolor": "white",
            "ticks": ""
           }
          },
          "scene": {
           "xaxis": {
            "backgroundcolor": "#E5ECF6",
            "gridcolor": "white",
            "gridwidth": 2,
            "linecolor": "white",
            "showbackground": true,
            "ticks": "",
            "zerolinecolor": "white"
           },
           "yaxis": {
            "backgroundcolor": "#E5ECF6",
            "gridcolor": "white",
            "gridwidth": 2,
            "linecolor": "white",
            "showbackground": true,
            "ticks": "",
            "zerolinecolor": "white"
           },
           "zaxis": {
            "backgroundcolor": "#E5ECF6",
            "gridcolor": "white",
            "gridwidth": 2,
            "linecolor": "white",
            "showbackground": true,
            "ticks": "",
            "zerolinecolor": "white"
           }
          },
          "shapedefaults": {
           "line": {
            "color": "#2a3f5f"
           }
          },
          "ternary": {
           "aaxis": {
            "gridcolor": "white",
            "linecolor": "white",
            "ticks": ""
           },
           "baxis": {
            "gridcolor": "white",
            "linecolor": "white",
            "ticks": ""
           },
           "bgcolor": "#E5ECF6",
           "caxis": {
            "gridcolor": "white",
            "linecolor": "white",
            "ticks": ""
           }
          },
          "title": {
           "x": 0.05
          },
          "xaxis": {
           "automargin": true,
           "gridcolor": "white",
           "linecolor": "white",
           "ticks": "",
           "title": {
            "standoff": 15
           },
           "zerolinecolor": "white",
           "zerolinewidth": 2
          },
          "yaxis": {
           "automargin": true,
           "gridcolor": "white",
           "linecolor": "white",
           "ticks": "",
           "title": {
            "standoff": 15
           },
           "zerolinecolor": "white",
           "zerolinewidth": 2
          }
         }
        },
        "xaxis": {
         "anchor": "y",
         "domain": [
          0,
          1
         ],
         "title": {
          "text": "index"
         }
        },
        "yaxis": {
         "anchor": "x",
         "domain": [
          0,
          1
         ],
         "title": {
          "text": "value"
         }
        }
       }
      },
      "text/html": [
       "<div>                            <div id=\"8e916662-d71c-4112-acb4-9445f6829728\" class=\"plotly-graph-div\" style=\"height:525px; width:100%;\"></div>            <script type=\"text/javascript\">                require([\"plotly\"], function(Plotly) {                    window.PLOTLYENV=window.PLOTLYENV || {};                                    if (document.getElementById(\"8e916662-d71c-4112-acb4-9445f6829728\")) {                    Plotly.newPlot(                        \"8e916662-d71c-4112-acb4-9445f6829728\",                        [{\"hovertemplate\":\"variable=words_per_sent<br>index=%{x}<br>value=%{y}<extra></extra>\",\"legendgroup\":\"words_per_sent\",\"line\":{\"color\":\"#636efa\",\"dash\":\"solid\"},\"marker\":{\"symbol\":\"circle\"},\"mode\":\"lines\",\"name\":\"words_per_sent\",\"orientation\":\"v\",\"showlegend\":true,\"x\":[464,465,466,467,468,469,470,471,472,473,474,475,476,477,478,479,480,481,482,483,484,485,486,487,488,489,490,491,492,493,494,495,496,497,498,499,500,501,502,503,504,505,506,507,508,509,510,511,512,513,514,515,516,517,518,519,520,521,522,523,524,525,526,527,528,529,530,531,532,533,534,535,536,537,538,539,540,541,542,543,544,545,546,547,548,549,550,551,552,553,554,555,556,557,558,559,560,561,562,563,564,565,566,567,568,569,570,571,572,573,574],\"xaxis\":\"x\",\"y\":[43,4,28,23,9,16,14,41,4,9,12,14,33,8,30,11,31,12,7,13,8,19,31,20,52,15,4,13,26,38,19,21,16,25,23,7,9,11,24,4,20,18,10,29,21,23,19,18,5,5,22,4,28,29,39,10,8,45,44,11,50,17,36,16,49,8,23,19,32,7,24,18,24,45,9,13,14,85,17,36,42,30,36,11,29,19,31,22,26,37,28,5,10,26,4,11,10,68,9,19,61,18,28,4,4,6,64,20,18,59,13],\"yaxis\":\"y\",\"type\":\"scatter\"}],                        {\"template\":{\"data\":{\"histogram2dcontour\":[{\"type\":\"histogram2dcontour\",\"colorbar\":{\"outlinewidth\":0,\"ticks\":\"\"},\"colorscale\":[[0.0,\"#0d0887\"],[0.1111111111111111,\"#46039f\"],[0.2222222222222222,\"#7201a8\"],[0.3333333333333333,\"#9c179e\"],[0.4444444444444444,\"#bd3786\"],[0.5555555555555556,\"#d8576b\"],[0.6666666666666666,\"#ed7953\"],[0.7777777777777778,\"#fb9f3a\"],[0.8888888888888888,\"#fdca26\"],[1.0,\"#f0f921\"]]}],\"choropleth\":[{\"type\":\"choropleth\",\"colorbar\":{\"outlinewidth\":0,\"ticks\":\"\"}}],\"histogram2d\":[{\"type\":\"histogram2d\",\"colorbar\":{\"outlinewidth\":0,\"ticks\":\"\"},\"colorscale\":[[0.0,\"#0d0887\"],[0.1111111111111111,\"#46039f\"],[0.2222222222222222,\"#7201a8\"],[0.3333333333333333,\"#9c179e\"],[0.4444444444444444,\"#bd3786\"],[0.5555555555555556,\"#d8576b\"],[0.6666666666666666,\"#ed7953\"],[0.7777777777777778,\"#fb9f3a\"],[0.8888888888888888,\"#fdca26\"],[1.0,\"#f0f921\"]]}],\"heatmap\":[{\"type\":\"heatmap\",\"colorbar\":{\"outlinewidth\":0,\"ticks\":\"\"},\"colorscale\":[[0.0,\"#0d0887\"],[0.1111111111111111,\"#46039f\"],[0.2222222222222222,\"#7201a8\"],[0.3333333333333333,\"#9c179e\"],[0.4444444444444444,\"#bd3786\"],[0.5555555555555556,\"#d8576b\"],[0.6666666666666666,\"#ed7953\"],[0.7777777777777778,\"#fb9f3a\"],[0.8888888888888888,\"#fdca26\"],[1.0,\"#f0f921\"]]}],\"heatmapgl\":[{\"type\":\"heatmapgl\",\"colorbar\":{\"outlinewidth\":0,\"ticks\":\"\"},\"colorscale\":[[0.0,\"#0d0887\"],[0.1111111111111111,\"#46039f\"],[0.2222222222222222,\"#7201a8\"],[0.3333333333333333,\"#9c179e\"],[0.4444444444444444,\"#bd3786\"],[0.5555555555555556,\"#d8576b\"],[0.6666666666666666,\"#ed7953\"],[0.7777777777777778,\"#fb9f3a\"],[0.8888888888888888,\"#fdca26\"],[1.0,\"#f0f921\"]]}],\"contourcarpet\":[{\"type\":\"contourcarpet\",\"colorbar\":{\"outlinewidth\":0,\"ticks\":\"\"}}],\"contour\":[{\"type\":\"contour\",\"colorbar\":{\"outlinewidth\":0,\"ticks\":\"\"},\"colorscale\":[[0.0,\"#0d0887\"],[0.1111111111111111,\"#46039f\"],[0.2222222222222222,\"#7201a8\"],[0.3333333333333333,\"#9c179e\"],[0.4444444444444444,\"#bd3786\"],[0.5555555555555556,\"#d8576b\"],[0.6666666666666666,\"#ed7953\"],[0.7777777777777778,\"#fb9f3a\"],[0.8888888888888888,\"#fdca26\"],[1.0,\"#f0f921\"]]}],\"surface\":[{\"type\":\"surface\",\"colorbar\":{\"outlinewidth\":0,\"ticks\":\"\"},\"colorscale\":[[0.0,\"#0d0887\"],[0.1111111111111111,\"#46039f\"],[0.2222222222222222,\"#7201a8\"],[0.3333333333333333,\"#9c179e\"],[0.4444444444444444,\"#bd3786\"],[0.5555555555555556,\"#d8576b\"],[0.6666666666666666,\"#ed7953\"],[0.7777777777777778,\"#fb9f3a\"],[0.8888888888888888,\"#fdca26\"],[1.0,\"#f0f921\"]]}],\"mesh3d\":[{\"type\":\"mesh3d\",\"colorbar\":{\"outlinewidth\":0,\"ticks\":\"\"}}],\"scatter\":[{\"fillpattern\":{\"fillmode\":\"overlay\",\"size\":10,\"solidity\":0.2},\"type\":\"scatter\"}],\"parcoords\":[{\"type\":\"parcoords\",\"line\":{\"colorbar\":{\"outlinewidth\":0,\"ticks\":\"\"}}}],\"scatterpolargl\":[{\"type\":\"scatterpolargl\",\"marker\":{\"colorbar\":{\"outlinewidth\":0,\"ticks\":\"\"}}}],\"bar\":[{\"error_x\":{\"color\":\"#2a3f5f\"},\"error_y\":{\"color\":\"#2a3f5f\"},\"marker\":{\"line\":{\"color\":\"#E5ECF6\",\"width\":0.5},\"pattern\":{\"fillmode\":\"overlay\",\"size\":10,\"solidity\":0.2}},\"type\":\"bar\"}],\"scattergeo\":[{\"type\":\"scattergeo\",\"marker\":{\"colorbar\":{\"outlinewidth\":0,\"ticks\":\"\"}}}],\"scatterpolar\":[{\"type\":\"scatterpolar\",\"marker\":{\"colorbar\":{\"outlinewidth\":0,\"ticks\":\"\"}}}],\"histogram\":[{\"marker\":{\"pattern\":{\"fillmode\":\"overlay\",\"size\":10,\"solidity\":0.2}},\"type\":\"histogram\"}],\"scattergl\":[{\"type\":\"scattergl\",\"marker\":{\"colorbar\":{\"outlinewidth\":0,\"ticks\":\"\"}}}],\"scatter3d\":[{\"type\":\"scatter3d\",\"line\":{\"colorbar\":{\"outlinewidth\":0,\"ticks\":\"\"}},\"marker\":{\"colorbar\":{\"outlinewidth\":0,\"ticks\":\"\"}}}],\"scattermapbox\":[{\"type\":\"scattermapbox\",\"marker\":{\"colorbar\":{\"outlinewidth\":0,\"ticks\":\"\"}}}],\"scatterternary\":[{\"type\":\"scatterternary\",\"marker\":{\"colorbar\":{\"outlinewidth\":0,\"ticks\":\"\"}}}],\"scattercarpet\":[{\"type\":\"scattercarpet\",\"marker\":{\"colorbar\":{\"outlinewidth\":0,\"ticks\":\"\"}}}],\"carpet\":[{\"aaxis\":{\"endlinecolor\":\"#2a3f5f\",\"gridcolor\":\"white\",\"linecolor\":\"white\",\"minorgridcolor\":\"white\",\"startlinecolor\":\"#2a3f5f\"},\"baxis\":{\"endlinecolor\":\"#2a3f5f\",\"gridcolor\":\"white\",\"linecolor\":\"white\",\"minorgridcolor\":\"white\",\"startlinecolor\":\"#2a3f5f\"},\"type\":\"carpet\"}],\"table\":[{\"cells\":{\"fill\":{\"color\":\"#EBF0F8\"},\"line\":{\"color\":\"white\"}},\"header\":{\"fill\":{\"color\":\"#C8D4E3\"},\"line\":{\"color\":\"white\"}},\"type\":\"table\"}],\"barpolar\":[{\"marker\":{\"line\":{\"color\":\"#E5ECF6\",\"width\":0.5},\"pattern\":{\"fillmode\":\"overlay\",\"size\":10,\"solidity\":0.2}},\"type\":\"barpolar\"}],\"pie\":[{\"automargin\":true,\"type\":\"pie\"}]},\"layout\":{\"autotypenumbers\":\"strict\",\"colorway\":[\"#636efa\",\"#EF553B\",\"#00cc96\",\"#ab63fa\",\"#FFA15A\",\"#19d3f3\",\"#FF6692\",\"#B6E880\",\"#FF97FF\",\"#FECB52\"],\"font\":{\"color\":\"#2a3f5f\"},\"hovermode\":\"closest\",\"hoverlabel\":{\"align\":\"left\"},\"paper_bgcolor\":\"white\",\"plot_bgcolor\":\"#E5ECF6\",\"polar\":{\"bgcolor\":\"#E5ECF6\",\"angularaxis\":{\"gridcolor\":\"white\",\"linecolor\":\"white\",\"ticks\":\"\"},\"radialaxis\":{\"gridcolor\":\"white\",\"linecolor\":\"white\",\"ticks\":\"\"}},\"ternary\":{\"bgcolor\":\"#E5ECF6\",\"aaxis\":{\"gridcolor\":\"white\",\"linecolor\":\"white\",\"ticks\":\"\"},\"baxis\":{\"gridcolor\":\"white\",\"linecolor\":\"white\",\"ticks\":\"\"},\"caxis\":{\"gridcolor\":\"white\",\"linecolor\":\"white\",\"ticks\":\"\"}},\"coloraxis\":{\"colorbar\":{\"outlinewidth\":0,\"ticks\":\"\"}},\"colorscale\":{\"sequential\":[[0.0,\"#0d0887\"],[0.1111111111111111,\"#46039f\"],[0.2222222222222222,\"#7201a8\"],[0.3333333333333333,\"#9c179e\"],[0.4444444444444444,\"#bd3786\"],[0.5555555555555556,\"#d8576b\"],[0.6666666666666666,\"#ed7953\"],[0.7777777777777778,\"#fb9f3a\"],[0.8888888888888888,\"#fdca26\"],[1.0,\"#f0f921\"]],\"sequentialminus\":[[0.0,\"#0d0887\"],[0.1111111111111111,\"#46039f\"],[0.2222222222222222,\"#7201a8\"],[0.3333333333333333,\"#9c179e\"],[0.4444444444444444,\"#bd3786\"],[0.5555555555555556,\"#d8576b\"],[0.6666666666666666,\"#ed7953\"],[0.7777777777777778,\"#fb9f3a\"],[0.8888888888888888,\"#fdca26\"],[1.0,\"#f0f921\"]],\"diverging\":[[0,\"#8e0152\"],[0.1,\"#c51b7d\"],[0.2,\"#de77ae\"],[0.3,\"#f1b6da\"],[0.4,\"#fde0ef\"],[0.5,\"#f7f7f7\"],[0.6,\"#e6f5d0\"],[0.7,\"#b8e186\"],[0.8,\"#7fbc41\"],[0.9,\"#4d9221\"],[1,\"#276419\"]]},\"xaxis\":{\"gridcolor\":\"white\",\"linecolor\":\"white\",\"ticks\":\"\",\"title\":{\"standoff\":15},\"zerolinecolor\":\"white\",\"automargin\":true,\"zerolinewidth\":2},\"yaxis\":{\"gridcolor\":\"white\",\"linecolor\":\"white\",\"ticks\":\"\",\"title\":{\"standoff\":15},\"zerolinecolor\":\"white\",\"automargin\":true,\"zerolinewidth\":2},\"scene\":{\"xaxis\":{\"backgroundcolor\":\"#E5ECF6\",\"gridcolor\":\"white\",\"linecolor\":\"white\",\"showbackground\":true,\"ticks\":\"\",\"zerolinecolor\":\"white\",\"gridwidth\":2},\"yaxis\":{\"backgroundcolor\":\"#E5ECF6\",\"gridcolor\":\"white\",\"linecolor\":\"white\",\"showbackground\":true,\"ticks\":\"\",\"zerolinecolor\":\"white\",\"gridwidth\":2},\"zaxis\":{\"backgroundcolor\":\"#E5ECF6\",\"gridcolor\":\"white\",\"linecolor\":\"white\",\"showbackground\":true,\"ticks\":\"\",\"zerolinecolor\":\"white\",\"gridwidth\":2}},\"shapedefaults\":{\"line\":{\"color\":\"#2a3f5f\"}},\"annotationdefaults\":{\"arrowcolor\":\"#2a3f5f\",\"arrowhead\":0,\"arrowwidth\":1},\"geo\":{\"bgcolor\":\"white\",\"landcolor\":\"#E5ECF6\",\"subunitcolor\":\"white\",\"showland\":true,\"showlakes\":true,\"lakecolor\":\"white\"},\"title\":{\"x\":0.05},\"mapbox\":{\"style\":\"light\"}}},\"xaxis\":{\"anchor\":\"y\",\"domain\":[0.0,1.0],\"title\":{\"text\":\"index\"}},\"yaxis\":{\"anchor\":\"x\",\"domain\":[0.0,1.0],\"title\":{\"text\":\"value\"}},\"legend\":{\"title\":{\"text\":\"variable\"},\"tracegroupgap\":0},\"margin\":{\"t\":60}},                        {\"responsive\": true}                    ).then(function(){\n",
       "                            \n",
       "var gd = document.getElementById('8e916662-d71c-4112-acb4-9445f6829728');\n",
       "var x = new MutationObserver(function (mutations, observer) {{\n",
       "        var display = window.getComputedStyle(gd).display;\n",
       "        if (!display || display === 'none') {{\n",
       "            console.log([gd, 'removed!']);\n",
       "            Plotly.purge(gd);\n",
       "            observer.disconnect();\n",
       "        }}\n",
       "}});\n",
       "\n",
       "// Listen for the removal of the full notebook cells\n",
       "var notebookContainer = gd.closest('#notebook-container');\n",
       "if (notebookContainer) {{\n",
       "    x.observe(notebookContainer, {childList: true});\n",
       "}}\n",
       "\n",
       "// Listen for the clearing of the current output cell\n",
       "var outputEl = gd.closest('.output');\n",
       "if (outputEl) {{\n",
       "    x.observe(outputEl, {childList: true});\n",
       "}}\n",
       "\n",
       "                        })                };                });            </script>        </div>"
      ]
     },
     "metadata": {},
     "output_type": "display_data"
    }
   ],
   "source": [
    "fig = px.line(oba.query('date == \"2009-01-20\"').words_per_sent)\n",
    "fig.show()"
   ]
  },
  {
   "cell_type": "code",
   "execution_count": 122,
   "id": "fb788e9b",
   "metadata": {},
   "outputs": [
    {
     "data": {
      "text/plain": [
       "7.780288859473156"
      ]
     },
     "execution_count": 122,
     "metadata": {},
     "output_type": "execute_result"
    }
   ],
   "source": [
    "gwb.query('date == \"2001-01-20\"').words_per_sent.std()"
   ]
  },
  {
   "cell_type": "code",
   "execution_count": 126,
   "id": "6f0f5803",
   "metadata": {},
   "outputs": [
    {
     "data": {
      "application/vnd.plotly.v1+json": {
       "config": {
        "plotlyServerURL": "https://plot.ly"
       },
       "data": [
        {
         "hovertemplate": "variable=words_per_sent<br>index=%{x}<br>value=%{y}<extra></extra>",
         "legendgroup": "words_per_sent",
         "line": {
          "color": "#636efa",
          "dash": "solid"
         },
         "marker": {
          "symbol": "circle"
         },
         "mode": "lines",
         "name": "words_per_sent",
         "orientation": "v",
         "showlegend": true,
         "type": "scatter",
         "x": [
          3403,
          3404,
          3405,
          3406,
          3407,
          3408,
          3409,
          3410,
          3411,
          3412,
          3413,
          3414,
          3415,
          3416,
          3417,
          3418,
          3419,
          3420,
          3421,
          3422,
          3423,
          3424,
          3425,
          3426,
          3427,
          3428,
          3429,
          3430,
          3431,
          3432,
          3433,
          3434,
          3435,
          3436,
          3437,
          3438,
          3439,
          3440,
          3441,
          3442,
          3443,
          3444,
          3445,
          3446,
          3447,
          3448,
          3449,
          3450,
          3451,
          3452,
          3453,
          3454,
          3455,
          3456,
          3457,
          3458,
          3459,
          3460,
          3461,
          3462,
          3463,
          3464,
          3465,
          3466,
          3467,
          3468,
          3469,
          3470,
          3471,
          3472,
          3473,
          3474,
          3475,
          3476,
          3477,
          3478,
          3479,
          3480,
          3481,
          3482,
          3483,
          3484,
          3485,
          3486,
          3487,
          3488,
          3489,
          3490,
          3491,
          3492,
          3493,
          3494,
          3495,
          3496,
          3497,
          3498
         ],
         "xaxis": "x",
         "y": [
          3,
          15,
          14,
          12,
          29,
          24,
          22,
          50,
          21,
          25,
          14,
          16,
          20,
          13,
          11,
          23,
          13,
          17,
          19,
          17,
          11,
          15,
          18,
          36,
          11,
          25,
          7,
          5,
          14,
          19,
          14,
          16,
          25,
          8,
          15,
          22,
          14,
          9,
          21,
          13,
          7,
          20,
          18,
          20,
          15,
          18,
          21,
          11,
          16,
          30,
          8,
          6,
          11,
          15,
          6,
          19,
          18,
          13,
          17,
          7,
          13,
          10,
          16,
          12,
          22,
          25,
          11,
          8,
          28,
          14,
          14,
          10,
          13,
          14,
          28,
          10,
          21,
          11,
          39,
          18,
          10,
          26,
          23,
          20,
          13,
          11,
          30,
          14,
          10,
          27,
          15,
          8,
          10,
          29,
          19,
          8
         ],
         "yaxis": "y"
        }
       ],
       "layout": {
        "legend": {
         "title": {
          "text": "variable"
         },
         "tracegroupgap": 0
        },
        "margin": {
         "t": 60
        },
        "template": {
         "data": {
          "bar": [
           {
            "error_x": {
             "color": "#2a3f5f"
            },
            "error_y": {
             "color": "#2a3f5f"
            },
            "marker": {
             "line": {
              "color": "#E5ECF6",
              "width": 0.5
             },
             "pattern": {
              "fillmode": "overlay",
              "size": 10,
              "solidity": 0.2
             }
            },
            "type": "bar"
           }
          ],
          "barpolar": [
           {
            "marker": {
             "line": {
              "color": "#E5ECF6",
              "width": 0.5
             },
             "pattern": {
              "fillmode": "overlay",
              "size": 10,
              "solidity": 0.2
             }
            },
            "type": "barpolar"
           }
          ],
          "carpet": [
           {
            "aaxis": {
             "endlinecolor": "#2a3f5f",
             "gridcolor": "white",
             "linecolor": "white",
             "minorgridcolor": "white",
             "startlinecolor": "#2a3f5f"
            },
            "baxis": {
             "endlinecolor": "#2a3f5f",
             "gridcolor": "white",
             "linecolor": "white",
             "minorgridcolor": "white",
             "startlinecolor": "#2a3f5f"
            },
            "type": "carpet"
           }
          ],
          "choropleth": [
           {
            "colorbar": {
             "outlinewidth": 0,
             "ticks": ""
            },
            "type": "choropleth"
           }
          ],
          "contour": [
           {
            "colorbar": {
             "outlinewidth": 0,
             "ticks": ""
            },
            "colorscale": [
             [
              0,
              "#0d0887"
             ],
             [
              0.1111111111111111,
              "#46039f"
             ],
             [
              0.2222222222222222,
              "#7201a8"
             ],
             [
              0.3333333333333333,
              "#9c179e"
             ],
             [
              0.4444444444444444,
              "#bd3786"
             ],
             [
              0.5555555555555556,
              "#d8576b"
             ],
             [
              0.6666666666666666,
              "#ed7953"
             ],
             [
              0.7777777777777778,
              "#fb9f3a"
             ],
             [
              0.8888888888888888,
              "#fdca26"
             ],
             [
              1,
              "#f0f921"
             ]
            ],
            "type": "contour"
           }
          ],
          "contourcarpet": [
           {
            "colorbar": {
             "outlinewidth": 0,
             "ticks": ""
            },
            "type": "contourcarpet"
           }
          ],
          "heatmap": [
           {
            "colorbar": {
             "outlinewidth": 0,
             "ticks": ""
            },
            "colorscale": [
             [
              0,
              "#0d0887"
             ],
             [
              0.1111111111111111,
              "#46039f"
             ],
             [
              0.2222222222222222,
              "#7201a8"
             ],
             [
              0.3333333333333333,
              "#9c179e"
             ],
             [
              0.4444444444444444,
              "#bd3786"
             ],
             [
              0.5555555555555556,
              "#d8576b"
             ],
             [
              0.6666666666666666,
              "#ed7953"
             ],
             [
              0.7777777777777778,
              "#fb9f3a"
             ],
             [
              0.8888888888888888,
              "#fdca26"
             ],
             [
              1,
              "#f0f921"
             ]
            ],
            "type": "heatmap"
           }
          ],
          "heatmapgl": [
           {
            "colorbar": {
             "outlinewidth": 0,
             "ticks": ""
            },
            "colorscale": [
             [
              0,
              "#0d0887"
             ],
             [
              0.1111111111111111,
              "#46039f"
             ],
             [
              0.2222222222222222,
              "#7201a8"
             ],
             [
              0.3333333333333333,
              "#9c179e"
             ],
             [
              0.4444444444444444,
              "#bd3786"
             ],
             [
              0.5555555555555556,
              "#d8576b"
             ],
             [
              0.6666666666666666,
              "#ed7953"
             ],
             [
              0.7777777777777778,
              "#fb9f3a"
             ],
             [
              0.8888888888888888,
              "#fdca26"
             ],
             [
              1,
              "#f0f921"
             ]
            ],
            "type": "heatmapgl"
           }
          ],
          "histogram": [
           {
            "marker": {
             "pattern": {
              "fillmode": "overlay",
              "size": 10,
              "solidity": 0.2
             }
            },
            "type": "histogram"
           }
          ],
          "histogram2d": [
           {
            "colorbar": {
             "outlinewidth": 0,
             "ticks": ""
            },
            "colorscale": [
             [
              0,
              "#0d0887"
             ],
             [
              0.1111111111111111,
              "#46039f"
             ],
             [
              0.2222222222222222,
              "#7201a8"
             ],
             [
              0.3333333333333333,
              "#9c179e"
             ],
             [
              0.4444444444444444,
              "#bd3786"
             ],
             [
              0.5555555555555556,
              "#d8576b"
             ],
             [
              0.6666666666666666,
              "#ed7953"
             ],
             [
              0.7777777777777778,
              "#fb9f3a"
             ],
             [
              0.8888888888888888,
              "#fdca26"
             ],
             [
              1,
              "#f0f921"
             ]
            ],
            "type": "histogram2d"
           }
          ],
          "histogram2dcontour": [
           {
            "colorbar": {
             "outlinewidth": 0,
             "ticks": ""
            },
            "colorscale": [
             [
              0,
              "#0d0887"
             ],
             [
              0.1111111111111111,
              "#46039f"
             ],
             [
              0.2222222222222222,
              "#7201a8"
             ],
             [
              0.3333333333333333,
              "#9c179e"
             ],
             [
              0.4444444444444444,
              "#bd3786"
             ],
             [
              0.5555555555555556,
              "#d8576b"
             ],
             [
              0.6666666666666666,
              "#ed7953"
             ],
             [
              0.7777777777777778,
              "#fb9f3a"
             ],
             [
              0.8888888888888888,
              "#fdca26"
             ],
             [
              1,
              "#f0f921"
             ]
            ],
            "type": "histogram2dcontour"
           }
          ],
          "mesh3d": [
           {
            "colorbar": {
             "outlinewidth": 0,
             "ticks": ""
            },
            "type": "mesh3d"
           }
          ],
          "parcoords": [
           {
            "line": {
             "colorbar": {
              "outlinewidth": 0,
              "ticks": ""
             }
            },
            "type": "parcoords"
           }
          ],
          "pie": [
           {
            "automargin": true,
            "type": "pie"
           }
          ],
          "scatter": [
           {
            "fillpattern": {
             "fillmode": "overlay",
             "size": 10,
             "solidity": 0.2
            },
            "type": "scatter"
           }
          ],
          "scatter3d": [
           {
            "line": {
             "colorbar": {
              "outlinewidth": 0,
              "ticks": ""
             }
            },
            "marker": {
             "colorbar": {
              "outlinewidth": 0,
              "ticks": ""
             }
            },
            "type": "scatter3d"
           }
          ],
          "scattercarpet": [
           {
            "marker": {
             "colorbar": {
              "outlinewidth": 0,
              "ticks": ""
             }
            },
            "type": "scattercarpet"
           }
          ],
          "scattergeo": [
           {
            "marker": {
             "colorbar": {
              "outlinewidth": 0,
              "ticks": ""
             }
            },
            "type": "scattergeo"
           }
          ],
          "scattergl": [
           {
            "marker": {
             "colorbar": {
              "outlinewidth": 0,
              "ticks": ""
             }
            },
            "type": "scattergl"
           }
          ],
          "scattermapbox": [
           {
            "marker": {
             "colorbar": {
              "outlinewidth": 0,
              "ticks": ""
             }
            },
            "type": "scattermapbox"
           }
          ],
          "scatterpolar": [
           {
            "marker": {
             "colorbar": {
              "outlinewidth": 0,
              "ticks": ""
             }
            },
            "type": "scatterpolar"
           }
          ],
          "scatterpolargl": [
           {
            "marker": {
             "colorbar": {
              "outlinewidth": 0,
              "ticks": ""
             }
            },
            "type": "scatterpolargl"
           }
          ],
          "scatterternary": [
           {
            "marker": {
             "colorbar": {
              "outlinewidth": 0,
              "ticks": ""
             }
            },
            "type": "scatterternary"
           }
          ],
          "surface": [
           {
            "colorbar": {
             "outlinewidth": 0,
             "ticks": ""
            },
            "colorscale": [
             [
              0,
              "#0d0887"
             ],
             [
              0.1111111111111111,
              "#46039f"
             ],
             [
              0.2222222222222222,
              "#7201a8"
             ],
             [
              0.3333333333333333,
              "#9c179e"
             ],
             [
              0.4444444444444444,
              "#bd3786"
             ],
             [
              0.5555555555555556,
              "#d8576b"
             ],
             [
              0.6666666666666666,
              "#ed7953"
             ],
             [
              0.7777777777777778,
              "#fb9f3a"
             ],
             [
              0.8888888888888888,
              "#fdca26"
             ],
             [
              1,
              "#f0f921"
             ]
            ],
            "type": "surface"
           }
          ],
          "table": [
           {
            "cells": {
             "fill": {
              "color": "#EBF0F8"
             },
             "line": {
              "color": "white"
             }
            },
            "header": {
             "fill": {
              "color": "#C8D4E3"
             },
             "line": {
              "color": "white"
             }
            },
            "type": "table"
           }
          ]
         },
         "layout": {
          "annotationdefaults": {
           "arrowcolor": "#2a3f5f",
           "arrowhead": 0,
           "arrowwidth": 1
          },
          "autotypenumbers": "strict",
          "coloraxis": {
           "colorbar": {
            "outlinewidth": 0,
            "ticks": ""
           }
          },
          "colorscale": {
           "diverging": [
            [
             0,
             "#8e0152"
            ],
            [
             0.1,
             "#c51b7d"
            ],
            [
             0.2,
             "#de77ae"
            ],
            [
             0.3,
             "#f1b6da"
            ],
            [
             0.4,
             "#fde0ef"
            ],
            [
             0.5,
             "#f7f7f7"
            ],
            [
             0.6,
             "#e6f5d0"
            ],
            [
             0.7,
             "#b8e186"
            ],
            [
             0.8,
             "#7fbc41"
            ],
            [
             0.9,
             "#4d9221"
            ],
            [
             1,
             "#276419"
            ]
           ],
           "sequential": [
            [
             0,
             "#0d0887"
            ],
            [
             0.1111111111111111,
             "#46039f"
            ],
            [
             0.2222222222222222,
             "#7201a8"
            ],
            [
             0.3333333333333333,
             "#9c179e"
            ],
            [
             0.4444444444444444,
             "#bd3786"
            ],
            [
             0.5555555555555556,
             "#d8576b"
            ],
            [
             0.6666666666666666,
             "#ed7953"
            ],
            [
             0.7777777777777778,
             "#fb9f3a"
            ],
            [
             0.8888888888888888,
             "#fdca26"
            ],
            [
             1,
             "#f0f921"
            ]
           ],
           "sequentialminus": [
            [
             0,
             "#0d0887"
            ],
            [
             0.1111111111111111,
             "#46039f"
            ],
            [
             0.2222222222222222,
             "#7201a8"
            ],
            [
             0.3333333333333333,
             "#9c179e"
            ],
            [
             0.4444444444444444,
             "#bd3786"
            ],
            [
             0.5555555555555556,
             "#d8576b"
            ],
            [
             0.6666666666666666,
             "#ed7953"
            ],
            [
             0.7777777777777778,
             "#fb9f3a"
            ],
            [
             0.8888888888888888,
             "#fdca26"
            ],
            [
             1,
             "#f0f921"
            ]
           ]
          },
          "colorway": [
           "#636efa",
           "#EF553B",
           "#00cc96",
           "#ab63fa",
           "#FFA15A",
           "#19d3f3",
           "#FF6692",
           "#B6E880",
           "#FF97FF",
           "#FECB52"
          ],
          "font": {
           "color": "#2a3f5f"
          },
          "geo": {
           "bgcolor": "white",
           "lakecolor": "white",
           "landcolor": "#E5ECF6",
           "showlakes": true,
           "showland": true,
           "subunitcolor": "white"
          },
          "hoverlabel": {
           "align": "left"
          },
          "hovermode": "closest",
          "mapbox": {
           "style": "light"
          },
          "paper_bgcolor": "white",
          "plot_bgcolor": "#E5ECF6",
          "polar": {
           "angularaxis": {
            "gridcolor": "white",
            "linecolor": "white",
            "ticks": ""
           },
           "bgcolor": "#E5ECF6",
           "radialaxis": {
            "gridcolor": "white",
            "linecolor": "white",
            "ticks": ""
           }
          },
          "scene": {
           "xaxis": {
            "backgroundcolor": "#E5ECF6",
            "gridcolor": "white",
            "gridwidth": 2,
            "linecolor": "white",
            "showbackground": true,
            "ticks": "",
            "zerolinecolor": "white"
           },
           "yaxis": {
            "backgroundcolor": "#E5ECF6",
            "gridcolor": "white",
            "gridwidth": 2,
            "linecolor": "white",
            "showbackground": true,
            "ticks": "",
            "zerolinecolor": "white"
           },
           "zaxis": {
            "backgroundcolor": "#E5ECF6",
            "gridcolor": "white",
            "gridwidth": 2,
            "linecolor": "white",
            "showbackground": true,
            "ticks": "",
            "zerolinecolor": "white"
           }
          },
          "shapedefaults": {
           "line": {
            "color": "#2a3f5f"
           }
          },
          "ternary": {
           "aaxis": {
            "gridcolor": "white",
            "linecolor": "white",
            "ticks": ""
           },
           "baxis": {
            "gridcolor": "white",
            "linecolor": "white",
            "ticks": ""
           },
           "bgcolor": "#E5ECF6",
           "caxis": {
            "gridcolor": "white",
            "linecolor": "white",
            "ticks": ""
           }
          },
          "title": {
           "x": 0.05
          },
          "xaxis": {
           "automargin": true,
           "gridcolor": "white",
           "linecolor": "white",
           "ticks": "",
           "title": {
            "standoff": 15
           },
           "zerolinecolor": "white",
           "zerolinewidth": 2
          },
          "yaxis": {
           "automargin": true,
           "gridcolor": "white",
           "linecolor": "white",
           "ticks": "",
           "title": {
            "standoff": 15
           },
           "zerolinecolor": "white",
           "zerolinewidth": 2
          }
         }
        },
        "xaxis": {
         "anchor": "y",
         "domain": [
          0,
          1
         ],
         "title": {
          "text": "index"
         }
        },
        "yaxis": {
         "anchor": "x",
         "domain": [
          0,
          1
         ],
         "title": {
          "text": "value"
         }
        }
       }
      },
      "text/html": [
       "<div>                            <div id=\"4755b8ca-473b-4193-80cf-4c11788ae638\" class=\"plotly-graph-div\" style=\"height:525px; width:100%;\"></div>            <script type=\"text/javascript\">                require([\"plotly\"], function(Plotly) {                    window.PLOTLYENV=window.PLOTLYENV || {};                                    if (document.getElementById(\"4755b8ca-473b-4193-80cf-4c11788ae638\")) {                    Plotly.newPlot(                        \"4755b8ca-473b-4193-80cf-4c11788ae638\",                        [{\"hovertemplate\":\"variable=words_per_sent<br>index=%{x}<br>value=%{y}<extra></extra>\",\"legendgroup\":\"words_per_sent\",\"line\":{\"color\":\"#636efa\",\"dash\":\"solid\"},\"marker\":{\"symbol\":\"circle\"},\"mode\":\"lines\",\"name\":\"words_per_sent\",\"orientation\":\"v\",\"showlegend\":true,\"x\":[3403,3404,3405,3406,3407,3408,3409,3410,3411,3412,3413,3414,3415,3416,3417,3418,3419,3420,3421,3422,3423,3424,3425,3426,3427,3428,3429,3430,3431,3432,3433,3434,3435,3436,3437,3438,3439,3440,3441,3442,3443,3444,3445,3446,3447,3448,3449,3450,3451,3452,3453,3454,3455,3456,3457,3458,3459,3460,3461,3462,3463,3464,3465,3466,3467,3468,3469,3470,3471,3472,3473,3474,3475,3476,3477,3478,3479,3480,3481,3482,3483,3484,3485,3486,3487,3488,3489,3490,3491,3492,3493,3494,3495,3496,3497,3498],\"xaxis\":\"x\",\"y\":[3,15,14,12,29,24,22,50,21,25,14,16,20,13,11,23,13,17,19,17,11,15,18,36,11,25,7,5,14,19,14,16,25,8,15,22,14,9,21,13,7,20,18,20,15,18,21,11,16,30,8,6,11,15,6,19,18,13,17,7,13,10,16,12,22,25,11,8,28,14,14,10,13,14,28,10,21,11,39,18,10,26,23,20,13,11,30,14,10,27,15,8,10,29,19,8],\"yaxis\":\"y\",\"type\":\"scatter\"}],                        {\"template\":{\"data\":{\"histogram2dcontour\":[{\"type\":\"histogram2dcontour\",\"colorbar\":{\"outlinewidth\":0,\"ticks\":\"\"},\"colorscale\":[[0.0,\"#0d0887\"],[0.1111111111111111,\"#46039f\"],[0.2222222222222222,\"#7201a8\"],[0.3333333333333333,\"#9c179e\"],[0.4444444444444444,\"#bd3786\"],[0.5555555555555556,\"#d8576b\"],[0.6666666666666666,\"#ed7953\"],[0.7777777777777778,\"#fb9f3a\"],[0.8888888888888888,\"#fdca26\"],[1.0,\"#f0f921\"]]}],\"choropleth\":[{\"type\":\"choropleth\",\"colorbar\":{\"outlinewidth\":0,\"ticks\":\"\"}}],\"histogram2d\":[{\"type\":\"histogram2d\",\"colorbar\":{\"outlinewidth\":0,\"ticks\":\"\"},\"colorscale\":[[0.0,\"#0d0887\"],[0.1111111111111111,\"#46039f\"],[0.2222222222222222,\"#7201a8\"],[0.3333333333333333,\"#9c179e\"],[0.4444444444444444,\"#bd3786\"],[0.5555555555555556,\"#d8576b\"],[0.6666666666666666,\"#ed7953\"],[0.7777777777777778,\"#fb9f3a\"],[0.8888888888888888,\"#fdca26\"],[1.0,\"#f0f921\"]]}],\"heatmap\":[{\"type\":\"heatmap\",\"colorbar\":{\"outlinewidth\":0,\"ticks\":\"\"},\"colorscale\":[[0.0,\"#0d0887\"],[0.1111111111111111,\"#46039f\"],[0.2222222222222222,\"#7201a8\"],[0.3333333333333333,\"#9c179e\"],[0.4444444444444444,\"#bd3786\"],[0.5555555555555556,\"#d8576b\"],[0.6666666666666666,\"#ed7953\"],[0.7777777777777778,\"#fb9f3a\"],[0.8888888888888888,\"#fdca26\"],[1.0,\"#f0f921\"]]}],\"heatmapgl\":[{\"type\":\"heatmapgl\",\"colorbar\":{\"outlinewidth\":0,\"ticks\":\"\"},\"colorscale\":[[0.0,\"#0d0887\"],[0.1111111111111111,\"#46039f\"],[0.2222222222222222,\"#7201a8\"],[0.3333333333333333,\"#9c179e\"],[0.4444444444444444,\"#bd3786\"],[0.5555555555555556,\"#d8576b\"],[0.6666666666666666,\"#ed7953\"],[0.7777777777777778,\"#fb9f3a\"],[0.8888888888888888,\"#fdca26\"],[1.0,\"#f0f921\"]]}],\"contourcarpet\":[{\"type\":\"contourcarpet\",\"colorbar\":{\"outlinewidth\":0,\"ticks\":\"\"}}],\"contour\":[{\"type\":\"contour\",\"colorbar\":{\"outlinewidth\":0,\"ticks\":\"\"},\"colorscale\":[[0.0,\"#0d0887\"],[0.1111111111111111,\"#46039f\"],[0.2222222222222222,\"#7201a8\"],[0.3333333333333333,\"#9c179e\"],[0.4444444444444444,\"#bd3786\"],[0.5555555555555556,\"#d8576b\"],[0.6666666666666666,\"#ed7953\"],[0.7777777777777778,\"#fb9f3a\"],[0.8888888888888888,\"#fdca26\"],[1.0,\"#f0f921\"]]}],\"surface\":[{\"type\":\"surface\",\"colorbar\":{\"outlinewidth\":0,\"ticks\":\"\"},\"colorscale\":[[0.0,\"#0d0887\"],[0.1111111111111111,\"#46039f\"],[0.2222222222222222,\"#7201a8\"],[0.3333333333333333,\"#9c179e\"],[0.4444444444444444,\"#bd3786\"],[0.5555555555555556,\"#d8576b\"],[0.6666666666666666,\"#ed7953\"],[0.7777777777777778,\"#fb9f3a\"],[0.8888888888888888,\"#fdca26\"],[1.0,\"#f0f921\"]]}],\"mesh3d\":[{\"type\":\"mesh3d\",\"colorbar\":{\"outlinewidth\":0,\"ticks\":\"\"}}],\"scatter\":[{\"fillpattern\":{\"fillmode\":\"overlay\",\"size\":10,\"solidity\":0.2},\"type\":\"scatter\"}],\"parcoords\":[{\"type\":\"parcoords\",\"line\":{\"colorbar\":{\"outlinewidth\":0,\"ticks\":\"\"}}}],\"scatterpolargl\":[{\"type\":\"scatterpolargl\",\"marker\":{\"colorbar\":{\"outlinewidth\":0,\"ticks\":\"\"}}}],\"bar\":[{\"error_x\":{\"color\":\"#2a3f5f\"},\"error_y\":{\"color\":\"#2a3f5f\"},\"marker\":{\"line\":{\"color\":\"#E5ECF6\",\"width\":0.5},\"pattern\":{\"fillmode\":\"overlay\",\"size\":10,\"solidity\":0.2}},\"type\":\"bar\"}],\"scattergeo\":[{\"type\":\"scattergeo\",\"marker\":{\"colorbar\":{\"outlinewidth\":0,\"ticks\":\"\"}}}],\"scatterpolar\":[{\"type\":\"scatterpolar\",\"marker\":{\"colorbar\":{\"outlinewidth\":0,\"ticks\":\"\"}}}],\"histogram\":[{\"marker\":{\"pattern\":{\"fillmode\":\"overlay\",\"size\":10,\"solidity\":0.2}},\"type\":\"histogram\"}],\"scattergl\":[{\"type\":\"scattergl\",\"marker\":{\"colorbar\":{\"outlinewidth\":0,\"ticks\":\"\"}}}],\"scatter3d\":[{\"type\":\"scatter3d\",\"line\":{\"colorbar\":{\"outlinewidth\":0,\"ticks\":\"\"}},\"marker\":{\"colorbar\":{\"outlinewidth\":0,\"ticks\":\"\"}}}],\"scattermapbox\":[{\"type\":\"scattermapbox\",\"marker\":{\"colorbar\":{\"outlinewidth\":0,\"ticks\":\"\"}}}],\"scatterternary\":[{\"type\":\"scatterternary\",\"marker\":{\"colorbar\":{\"outlinewidth\":0,\"ticks\":\"\"}}}],\"scattercarpet\":[{\"type\":\"scattercarpet\",\"marker\":{\"colorbar\":{\"outlinewidth\":0,\"ticks\":\"\"}}}],\"carpet\":[{\"aaxis\":{\"endlinecolor\":\"#2a3f5f\",\"gridcolor\":\"white\",\"linecolor\":\"white\",\"minorgridcolor\":\"white\",\"startlinecolor\":\"#2a3f5f\"},\"baxis\":{\"endlinecolor\":\"#2a3f5f\",\"gridcolor\":\"white\",\"linecolor\":\"white\",\"minorgridcolor\":\"white\",\"startlinecolor\":\"#2a3f5f\"},\"type\":\"carpet\"}],\"table\":[{\"cells\":{\"fill\":{\"color\":\"#EBF0F8\"},\"line\":{\"color\":\"white\"}},\"header\":{\"fill\":{\"color\":\"#C8D4E3\"},\"line\":{\"color\":\"white\"}},\"type\":\"table\"}],\"barpolar\":[{\"marker\":{\"line\":{\"color\":\"#E5ECF6\",\"width\":0.5},\"pattern\":{\"fillmode\":\"overlay\",\"size\":10,\"solidity\":0.2}},\"type\":\"barpolar\"}],\"pie\":[{\"automargin\":true,\"type\":\"pie\"}]},\"layout\":{\"autotypenumbers\":\"strict\",\"colorway\":[\"#636efa\",\"#EF553B\",\"#00cc96\",\"#ab63fa\",\"#FFA15A\",\"#19d3f3\",\"#FF6692\",\"#B6E880\",\"#FF97FF\",\"#FECB52\"],\"font\":{\"color\":\"#2a3f5f\"},\"hovermode\":\"closest\",\"hoverlabel\":{\"align\":\"left\"},\"paper_bgcolor\":\"white\",\"plot_bgcolor\":\"#E5ECF6\",\"polar\":{\"bgcolor\":\"#E5ECF6\",\"angularaxis\":{\"gridcolor\":\"white\",\"linecolor\":\"white\",\"ticks\":\"\"},\"radialaxis\":{\"gridcolor\":\"white\",\"linecolor\":\"white\",\"ticks\":\"\"}},\"ternary\":{\"bgcolor\":\"#E5ECF6\",\"aaxis\":{\"gridcolor\":\"white\",\"linecolor\":\"white\",\"ticks\":\"\"},\"baxis\":{\"gridcolor\":\"white\",\"linecolor\":\"white\",\"ticks\":\"\"},\"caxis\":{\"gridcolor\":\"white\",\"linecolor\":\"white\",\"ticks\":\"\"}},\"coloraxis\":{\"colorbar\":{\"outlinewidth\":0,\"ticks\":\"\"}},\"colorscale\":{\"sequential\":[[0.0,\"#0d0887\"],[0.1111111111111111,\"#46039f\"],[0.2222222222222222,\"#7201a8\"],[0.3333333333333333,\"#9c179e\"],[0.4444444444444444,\"#bd3786\"],[0.5555555555555556,\"#d8576b\"],[0.6666666666666666,\"#ed7953\"],[0.7777777777777778,\"#fb9f3a\"],[0.8888888888888888,\"#fdca26\"],[1.0,\"#f0f921\"]],\"sequentialminus\":[[0.0,\"#0d0887\"],[0.1111111111111111,\"#46039f\"],[0.2222222222222222,\"#7201a8\"],[0.3333333333333333,\"#9c179e\"],[0.4444444444444444,\"#bd3786\"],[0.5555555555555556,\"#d8576b\"],[0.6666666666666666,\"#ed7953\"],[0.7777777777777778,\"#fb9f3a\"],[0.8888888888888888,\"#fdca26\"],[1.0,\"#f0f921\"]],\"diverging\":[[0,\"#8e0152\"],[0.1,\"#c51b7d\"],[0.2,\"#de77ae\"],[0.3,\"#f1b6da\"],[0.4,\"#fde0ef\"],[0.5,\"#f7f7f7\"],[0.6,\"#e6f5d0\"],[0.7,\"#b8e186\"],[0.8,\"#7fbc41\"],[0.9,\"#4d9221\"],[1,\"#276419\"]]},\"xaxis\":{\"gridcolor\":\"white\",\"linecolor\":\"white\",\"ticks\":\"\",\"title\":{\"standoff\":15},\"zerolinecolor\":\"white\",\"automargin\":true,\"zerolinewidth\":2},\"yaxis\":{\"gridcolor\":\"white\",\"linecolor\":\"white\",\"ticks\":\"\",\"title\":{\"standoff\":15},\"zerolinecolor\":\"white\",\"automargin\":true,\"zerolinewidth\":2},\"scene\":{\"xaxis\":{\"backgroundcolor\":\"#E5ECF6\",\"gridcolor\":\"white\",\"linecolor\":\"white\",\"showbackground\":true,\"ticks\":\"\",\"zerolinecolor\":\"white\",\"gridwidth\":2},\"yaxis\":{\"backgroundcolor\":\"#E5ECF6\",\"gridcolor\":\"white\",\"linecolor\":\"white\",\"showbackground\":true,\"ticks\":\"\",\"zerolinecolor\":\"white\",\"gridwidth\":2},\"zaxis\":{\"backgroundcolor\":\"#E5ECF6\",\"gridcolor\":\"white\",\"linecolor\":\"white\",\"showbackground\":true,\"ticks\":\"\",\"zerolinecolor\":\"white\",\"gridwidth\":2}},\"shapedefaults\":{\"line\":{\"color\":\"#2a3f5f\"}},\"annotationdefaults\":{\"arrowcolor\":\"#2a3f5f\",\"arrowhead\":0,\"arrowwidth\":1},\"geo\":{\"bgcolor\":\"white\",\"landcolor\":\"#E5ECF6\",\"subunitcolor\":\"white\",\"showland\":true,\"showlakes\":true,\"lakecolor\":\"white\"},\"title\":{\"x\":0.05},\"mapbox\":{\"style\":\"light\"}}},\"xaxis\":{\"anchor\":\"y\",\"domain\":[0.0,1.0],\"title\":{\"text\":\"index\"}},\"yaxis\":{\"anchor\":\"x\",\"domain\":[0.0,1.0],\"title\":{\"text\":\"value\"}},\"legend\":{\"title\":{\"text\":\"variable\"},\"tracegroupgap\":0},\"margin\":{\"t\":60}},                        {\"responsive\": true}                    ).then(function(){\n",
       "                            \n",
       "var gd = document.getElementById('4755b8ca-473b-4193-80cf-4c11788ae638');\n",
       "var x = new MutationObserver(function (mutations, observer) {{\n",
       "        var display = window.getComputedStyle(gd).display;\n",
       "        if (!display || display === 'none') {{\n",
       "            console.log([gd, 'removed!']);\n",
       "            Plotly.purge(gd);\n",
       "            observer.disconnect();\n",
       "        }}\n",
       "}});\n",
       "\n",
       "// Listen for the removal of the full notebook cells\n",
       "var notebookContainer = gd.closest('#notebook-container');\n",
       "if (notebookContainer) {{\n",
       "    x.observe(notebookContainer, {childList: true});\n",
       "}}\n",
       "\n",
       "// Listen for the clearing of the current output cell\n",
       "var outputEl = gd.closest('.output');\n",
       "if (outputEl) {{\n",
       "    x.observe(outputEl, {childList: true});\n",
       "}}\n",
       "\n",
       "                        })                };                });            </script>        </div>"
      ]
     },
     "metadata": {},
     "output_type": "display_data"
    }
   ],
   "source": [
    "fig = px.line(gwb.query('date == \"2001-01-20\"').words_per_sent)\n",
    "fig.show()"
   ]
  },
  {
   "cell_type": "code",
   "execution_count": 124,
   "id": "60336433",
   "metadata": {},
   "outputs": [],
   "source": [
    "tidy_oba = pd.read_csv('tidy_data_oba.csv')\n",
    "tidy_gwb = pd.read_csv('tidy_data_gwb.csv')\n",
    "tidy_oba = pd.merge(tidy_oba, oba_std, how='left', on='date')\n",
    "tidy_gwb = pd.merge(tidy_gwb, gwb_std, how='left', on='date')"
   ]
  },
  {
   "cell_type": "code",
   "execution_count": 107,
   "id": "c9d41677",
   "metadata": {},
   "outputs": [],
   "source": [
    "#tidy_oba.to_csv('tidy_data_oba.csv', index=False)\n",
    "#tidy_gwb.to_csv('tidy_data_gwb.csv', index=False)"
   ]
  },
  {
   "cell_type": "markdown",
   "id": "89a4a377",
   "metadata": {},
   "source": [
    "### Look at Top 10 speeches"
   ]
  },
  {
   "cell_type": "code",
   "execution_count": 134,
   "id": "2b428b57",
   "metadata": {},
   "outputs": [
    {
     "data": {
      "text/html": [
       "<div>\n",
       "<style scoped>\n",
       "    .dataframe tbody tr th:only-of-type {\n",
       "        vertical-align: middle;\n",
       "    }\n",
       "\n",
       "    .dataframe tbody tr th {\n",
       "        vertical-align: top;\n",
       "    }\n",
       "\n",
       "    .dataframe thead th {\n",
       "        text-align: right;\n",
       "    }\n",
       "</style>\n",
       "<table border=\"1\" class=\"dataframe\">\n",
       "  <thead>\n",
       "    <tr style=\"text-align: right;\">\n",
       "      <th></th>\n",
       "      <th>text</th>\n",
       "      <th>filepath</th>\n",
       "      <th>source</th>\n",
       "    </tr>\n",
       "    <tr>\n",
       "      <th>date</th>\n",
       "      <th></th>\n",
       "      <th></th>\n",
       "      <th></th>\n",
       "    </tr>\n",
       "  </thead>\n",
       "  <tbody>\n",
       "    <tr>\n",
       "      <th>2015-06-26</th>\n",
       "      <td>Giving all praise and honor to God. The Bible ...</td>\n",
       "      <td>./Top10/2015-06-26-barackobamaclementapinckney...</td>\n",
       "      <td>top1</td>\n",
       "    </tr>\n",
       "    <tr>\n",
       "      <th>2009-06-04</th>\n",
       "      <td>Thank you so much. Good afternoon. I am honore...</td>\n",
       "      <td>./Top10/2009-06-04-barackobamacairouniversity.txt</td>\n",
       "      <td>top1</td>\n",
       "    </tr>\n",
       "    <tr>\n",
       "      <th>2004-07-28</th>\n",
       "      <td>On behalf of the great state of Illinois, cros...</td>\n",
       "      <td>./Top10/2004-07-28-DNCSpeech.txt</td>\n",
       "      <td>top1</td>\n",
       "    </tr>\n",
       "  </tbody>\n",
       "</table>\n",
       "</div>"
      ],
      "text/plain": [
       "                                                         text  \\\n",
       "date                                                            \n",
       "2015-06-26  Giving all praise and honor to God. The Bible ...   \n",
       "2009-06-04  Thank you so much. Good afternoon. I am honore...   \n",
       "2004-07-28  On behalf of the great state of Illinois, cros...   \n",
       "\n",
       "                                                     filepath source  \n",
       "date                                                                  \n",
       "2015-06-26  ./Top10/2015-06-26-barackobamaclementapinckney...   top1  \n",
       "2009-06-04  ./Top10/2009-06-04-barackobamacairouniversity.txt   top1  \n",
       "2004-07-28                   ./Top10/2004-07-28-DNCSpeech.txt   top1  "
      ]
     },
     "execution_count": 134,
     "metadata": {},
     "output_type": "execute_result"
    }
   ],
   "source": [
    "# Load up the files\n",
    "paths = ['./Top10/']\n",
    "list_of_files = []\n",
    "\n",
    "for path in paths:\n",
    "    for root, dirs, files in os.walk(path):\n",
    "        for file in files:\n",
    "            if file.endswith('.txt'):\n",
    "                list_of_files.append(os.path.join(root,file))\n",
    "\n",
    "speeches = []\n",
    "for file in list_of_files:\n",
    "    with open(file, encoding='utf-8') as f:\n",
    "        #print(file)\n",
    "        text = f.read()\n",
    "    f.close()\n",
    "    speeches.append(text)\n",
    "\n",
    "#clean out goofy unicode  space characters \n",
    "speeches = [unicodedata.normalize(\"NFKD\", speech) for speech in speeches if len(speech)>0 ]\n",
    "\n",
    "# remove [stuff] in between square brackets\n",
    "def remove_bracket(text):\n",
    "    return re.sub('(\\[[^w]*\\]\\s)', '',text)\n",
    "speeches = [remove_bracket(speech) for speech in speeches]\n",
    "\n",
    "# lemmatize text with spacy\n",
    "#nlp = spacy.load(\"en_core_web_md\", exclude=[\"parser\", \"ner\"])\n",
    "#for i, doc in enumerate(nlp.pipe(speeches)):\n",
    "#    words_lemmas_list = [token.lemma_ for token in doc]\n",
    "#    speeches[i]= ' '.join(words_lemmas_list)\n",
    "    \n",
    "# Remove punctuation - only care about words here\n",
    "#speeches = [re.sub(r'[^\\w\\s]', '', speech) for speech in speeches]\n",
    "\n",
    "# remove numbers\n",
    "#speeches = [re.sub(r'\\d', '', speech) for speech in speeches]\n",
    "\n",
    "# Clean up whitespace\n",
    "speeches = [re.sub('[\\s+]', ' ', speech) for speech in speeches]\n",
    "    \n",
    "# Combine speeches and filenames\n",
    "speeches = list(zip(speeches, list_of_files))\n",
    "    \n",
    "def get_source(text):\n",
    "    regex = \"[^./][a-zA-Z]+[^/]\"\n",
    "    string = re.findall(regex, str(text))[0]\n",
    "    if string == 'speeches': string = 'oba'\n",
    "    if string == 'NYTimes': string = 'nyt'\n",
    "    return string.lower()\n",
    "\n",
    "def get_date(text):\n",
    "    regex = \"([0-9]+[\\-][0-9]+[\\-][0-9]+)\"\n",
    "    return re.findall(regex, str(text))[0]\n",
    "\n",
    "def get_filename(text):\n",
    "    regex = \"[-]([a-zA-Z]+)\"\n",
    "    return re.findall(regex, str(text))[0]\n",
    "\n",
    "#dates = pd.read_csv('speech_and_date.csv') # day-month-year\n",
    "dates = pd.DataFrame(list_of_files, columns = ['filepath'])\n",
    "dates['date'] = [get_date(file) for file in dates.filepath]\n",
    "dates['date'] = pd.to_datetime(dates['date'], format='%Y-%m-%d')\n",
    "\n",
    "cols_speeches = ['text', 'filepath']\n",
    "text_df = pd.DataFrame(speeches, columns=cols_speeches)\n",
    "\n",
    "text_df = pd.merge(text_df, dates, how='left', on='filepath')\n",
    "text_df.sort_values(by='date')\n",
    "text_df['source'] = text_df['filepath'].apply(get_source)\n",
    "text_df.set_index('date', inplace=True)\n",
    "text_df.head(3)"
   ]
  },
  {
   "cell_type": "code",
   "execution_count": 135,
   "id": "39d1ab87",
   "metadata": {},
   "outputs": [],
   "source": [
    "######################## HELPER FUNCTIONS ########################\n",
    "def words_per_sentence(sentence):\n",
    "    '''returns: integer number of words in a sentence'''\n",
    "    tokenizer = RegexpTokenizer(r'\\w+')\n",
    "    tokens = tokenizer.tokenize(sentence)\n",
    "    return(len(tokens))\n",
    "\n",
    "def chars_per_word(word):\n",
    "    '''returns: integer number of characters in a word'''\n",
    "    return(len(word))\n",
    "\n",
    "def string_to_list(sentence):\n",
    "    '''converts a string/sentence to a list of words'''\n",
    "    tokenizer = RegexpTokenizer(r'\\w+')\n",
    "    return(tokenizer.tokenize(sentence))\n",
    "\n",
    "def chars_per_word_sentence(sentence):\n",
    "    '''input: string of a sentence\n",
    "       returns: list of number of characters in a sentence'''\n",
    "    tokenizer = RegexpTokenizer(r'\\w+')\n",
    "    tokens = tokenizer.tokenize(sentence)\n",
    "    char_len_list = [chars_per_word(word) for word in tokens]\n",
    "    return(char_len_list)\n",
    "\n",
    "def text_to_sentence(text):\n",
    "    '''uses spacy nlp object to break up sentences\n",
    "       input: pandas series of strings\n",
    "       returns: list of sentence strings'''\n",
    "    doc = nlp(' '.join(text.tolist()))\n",
    "    assert doc.has_annotation(\"SENT_START\")\n",
    "    return([str(sent) for sent in doc.sents])\n",
    "\n",
    "def text_to_wordlist(text):\n",
    "    '''input: string or pandas series of text\n",
    "       returns: list of all words'''\n",
    "    if isinstance(text, str):\n",
    "        text = [text]\n",
    "    return(' '.join(text).split())\n",
    "\n",
    "def syllable_count(word):\n",
    "    '''counts number of syllables in a word'''\n",
    "    word = word.lower()\n",
    "    count = 0\n",
    "    vowels = \"aeiouy\"\n",
    "    if word[0] in vowels:\n",
    "        count += 1\n",
    "    for index in range(1, len(word)):\n",
    "        if word[index] in vowels and word[index - 1] not in vowels:\n",
    "            count += 1\n",
    "    if word.endswith(\"e\"):\n",
    "        count -= 1\n",
    "    if count == 0:\n",
    "        count += 1\n",
    "    return count\n",
    "\n",
    "def count_total_words(text):\n",
    "    '''count total number of words in a text\n",
    "       input: str or pandas.core.series.Series of text\n",
    "       returns: integer'''\n",
    "    if isinstance(text, list):\n",
    "        list_of_sentence = text\n",
    "    elif isinstance(text, str):\n",
    "        list_of_sentence = [text]\n",
    "    elif isinstance(text, pd.Series):\n",
    "        list_of_sentence = text_to_sentence(text)\n",
    "    else:\n",
    "        print('count_total_words: Error: not a string or pandas series object.')\n",
    "    list_of_word_count = [words_per_sentence(str(sentence)) for sentence in list_of_sentence]\n",
    "    return(np.sum(list_of_word_count))\n",
    "\n",
    "def count_total_sentences(text):\n",
    "    '''count total number of sentences in a text\n",
    "       input: str or pandas.core.series.Series of text\n",
    "       returns: integer'''\n",
    "    if isinstance(text, pd.Series):\n",
    "        text = ' '.join(text)\n",
    "    sentences = sent_tokenize(text)\n",
    "    return(len(sentences))\n",
    "\n",
    "# Count Syllables\n",
    "# https://datascience.stackexchange.com/questions/23376/how-to-get-the-number-of-syllables-in-a-word\n",
    "def syllables(word):\n",
    "    '''backup syllable counter if word not in NLTK-CMU dictionary'''\n",
    "    #referred from stackoverflow.com/questions/14541303/count-the-number-of-syllables-in-a-word\n",
    "    count = 0\n",
    "    vowels = 'aeiouy'\n",
    "    word = word.lower()\n",
    "    try:\n",
    "        if word[0] in vowels:\n",
    "            count +=1\n",
    "    except:\n",
    "        count += 0\n",
    "    for index in range(1,len(word)):\n",
    "        if word[index] in vowels and word[index-1] not in vowels:\n",
    "            count +=1\n",
    "    if word.endswith('e'):\n",
    "        count -= 1\n",
    "    if word.endswith('le'):\n",
    "        count += 1\n",
    "    if count == 0:\n",
    "        count += 1\n",
    "    return count\n",
    "\n",
    "d = cmudict.dict()\n",
    "def nsyl(word):\n",
    "    '''input: string - word\n",
    "       returns: integer count of syllables in word'''\n",
    "    try:\n",
    "        # needs the [0] otherwise words like 'of' returns [1,1]\n",
    "        return [len(list(y for y in x if y[-1].isdigit())) for x in d[word.lower()]][0]\n",
    "    except KeyError:\n",
    "        #if word not found in cmudict\n",
    "        return syllables(word)\n",
    "\n",
    "def count_total_syllables(text):\n",
    "    '''count total number of sentences in a text\n",
    "       input: str or pandas.core.series.Series of text\n",
    "       returns: integer count'''\n",
    "    if isinstance(text, str):\n",
    "        list_of_sentence = [text]\n",
    "    elif isinstance(text, pd.Series):\n",
    "        list_of_sentence = text_to_sentence(text)\n",
    "    else:\n",
    "        print('count_total_syllables: Error: not a string or pandas series object.')\n",
    "    list_of_words = text_to_wordlist(list_of_sentence)\n",
    "    syllable_list = [nsyl(word) for word in list_of_words]\n",
    "    return(np.sum(syllable_list))\n",
    "\n",
    "def count_of_letters(text):\n",
    "    '''count total number of letters or digits in a text\n",
    "       input: str or pandas.core.series.Series of text\n",
    "       returns: integer count'''\n",
    "    if isinstance(text, pd.Series):\n",
    "        text = ' '.join(text)\n",
    "    # Replace punctuations with an empty string.\n",
    "    str1 = re.sub(r\"[^\\w\\s]|_\", \"\", text)\n",
    "    no_spaces = str1.replace(\" \", \"\")\n",
    "    return(len(no_spaces))\n",
    "\n",
    "\n",
    "def difficult_words_list(list1):\n",
    "    '''returns difference of list with easy_word list for Dale-Chall\n",
    "       input: two lists of strings/words\n",
    "       returns: list of unique words in both lists'''\n",
    "    if isinstance(list1, pd.Series):\n",
    "        list1 = ' '.join(text)\n",
    "    if isinstance(list1, list):\n",
    "        list1 = list1[0]\n",
    "    try:\n",
    "        easy_words_file = open('./word_lists/DaleChallEasyWordList.txt', 'r')\n",
    "        easy_words = easy_words_file.read().split('\\n')\n",
    "    except E:\n",
    "        print(\"Error reading easy words file\", E)\n",
    "    easy_words_file.close()\n",
    "    easy_words = [word.lower() for word in easy_words]\n",
    "    easy_words = set(easy_words)\n",
    "    diff = [word.lower() for word in list1.split() if word.lower() not in easy_words]\n",
    "    return(diff)\n",
    "\n",
    "def dc_difficult_word_count(text):\n",
    "    '''Count of difficult words - those not in Dale-Chall Easy Word List\n",
    "       input: str or pandas.core.series.Series of text\n",
    "       returns: integer count of difficult words in text'''\n",
    "    list_of_dc_difficult = difficult_words_list(text)\n",
    "    return(len(list_of_dc_difficult))\n",
    "\n",
    "lemmatizer = WordNetLemmatizer()\n",
    "def gf_complex_word_count(text):\n",
    "    '''Count of complex - >= 3 syllables with caveats\n",
    "       input: str or pandas.core.series.Series of text\n",
    "       returns: integer count of complex words in text'''\n",
    "    if isinstance(text, pd.Series):\n",
    "        text = ' '.join(text)\n",
    "    if isinstance(text, list):\n",
    "        text = str(text[0])\n",
    "    text = [word.lower() for word in text.split()]\n",
    "    lemma = [lemmatizer.lemmatize(word) for word in text]\n",
    "    stem = [re.sub(\"(?:ing|ed|es|ly)$\",\"\",word) for word in text]\n",
    "    syllable_list = [nsyl(word) for word in stem]\n",
    "    complex_count = sum(x > 2 for x in syllable_list)\n",
    "    return(complex_count)\n",
    "\n",
    "def smog_poly_count(text):\n",
    "    '''counts number of words with 3 or more syllables\n",
    "       input: str or pandas.core.series.Series of text\n",
    "       returns: integer count of polysyllabic words in text'''\n",
    "    if isinstance(text, pd.Series):\n",
    "        text = ' '.join(text)\n",
    "    if isinstance(text, list):\n",
    "        text = str(text[0])\n",
    "    text = [word.lower() for word in text.split()]\n",
    "    syllable_list = [nsyl(word) for word in text]\n",
    "    poly_count = sum(x > 2 for x in syllable_list)\n",
    "    return(poly_count)\n",
    "\n",
    "\n",
    "######################## READABILITY SCORES ########################\n",
    "\n",
    "# https://en.wikipedia.org/wiki/Automated_readability_index\n",
    "# 4.71(chars/word) + 0.5(words/sentence) - 21.43\n",
    "def ari(text):\n",
    "    '''input: string of sentence\n",
    "       returns: float ari score'''\n",
    "    character_count = count_of_letters(text)\n",
    "    word_count = count_total_words(text)\n",
    "    sentence_count = count_total_sentences(text)\n",
    "    ari = 4.71*(character_count/word_count) + 0.5*(word_count/sentence_count) - 21.43\n",
    "    return(ari)\n",
    "\n",
    "# https://en.wikipedia.org/wiki/Flesch%E2%80%93Kincaid_readability_tests\n",
    "# Flesch–Kincaid grade level\n",
    "# 0.39(total words/total sentences) + 11.8(total syllables/total words) - 15.59\n",
    "def flesch_kincaid(text):\n",
    "    '''input: string or pandas series of text, multiple sentences\n",
    "       returns: float - flesh kincaid grade level score'''\n",
    "    num_total_words = count_total_words(text)\n",
    "    num_total_sentences = count_total_sentences(text)\n",
    "    num_total_syllables = count_total_syllables(text)\n",
    "    fkgl = 0.39*(num_total_words/num_total_sentences) + 11.8*(num_total_syllables/num_total_words) - 15.59\n",
    "    return(fkgl)\n",
    "\n",
    "# https://en.wikipedia.org/wiki/Coleman%E2%80%93Liau_index\n",
    "# 0.0588(average number of letters per 100 words) - 0.296(average number of sentences per 100 words) - 15.8\n",
    "def coleman_liau(text):\n",
    "    '''input: string or pandas series of text, multiple sentences\n",
    "       returns: float - Coleman-Liau index'''\n",
    "    character_count = count_of_letters(text)\n",
    "    word_count = count_total_words(text)\n",
    "    sentence_count = count_total_sentences(text)\n",
    "    l = character_count/word_count*100\n",
    "    s = sentence_count/word_count*100\n",
    "    cl = 0.0588*l - 0.296*s - 15.8\n",
    "    return(cl)\n",
    "\n",
    "# https://en.wikipedia.org/wiki/Dale%E2%80%93Chall_readability_formula\n",
    "# 0.1579(100*difficult words/words) + 0.496(words/sentences)\n",
    "def dale_chall(text):\n",
    "    '''input: string or pandas series of text, multiple sentences\n",
    "       returns: float - Dale-Chall readability score'''\n",
    "    difficult_words = dc_difficult_word_count(text)\n",
    "    word_count = count_total_words(text)\n",
    "    sentence_count = count_total_sentences(text)\n",
    "    dc = 0.1579*(100*difficult_words/word_count) + 0.496*(word_count/sentence_count)\n",
    "    return(dc)\n",
    "\n",
    "# https://en.wikipedia.org/wiki/Gunning_fog_index\n",
    "# 0.4[(words/sentence) + 100(complex words/words)]\n",
    "def gunning_fog(text):\n",
    "    '''input: string or pandas series of text, multiple sentences\n",
    "       returns: float - Gunning Fog index readability score'''\n",
    "    complex_words = gf_complex_word_count(text)\n",
    "    word_count = count_total_words(text)\n",
    "    sentence_count = count_total_sentences(text)\n",
    "    gf = 0.4*((word_count/sentence_count) + 100*(complex_words/word_count))\n",
    "    return(gf)\n",
    "\n",
    "# https://en.wikipedia.org/wiki/SMOG\n",
    "# 1.043*sqrt(30*number polysylables/number sentences)+3.1291\n",
    "def smog(text):\n",
    "    '''input: string or pandas series of text, multiple sentences\n",
    "       returns: float - SMOG grade readability score'''\n",
    "    poly_count = smog_poly_count(text)\n",
    "    sentence_count = count_total_sentences(text)\n",
    "    smog_score = 1.043*np.sqrt(30*poly_count/sentence_count) + 3.1291\n",
    "    return(smog_score)"
   ]
  },
  {
   "cell_type": "code",
   "execution_count": 136,
   "id": "fb9c3e0a",
   "metadata": {},
   "outputs": [],
   "source": [
    "text_df['char_count'] = text_df['text'].apply(count_of_letters)\n",
    "text_df['syl_count'] = text_df['text'].apply(count_total_syllables)\n",
    "text_df['word_count'] = text_df['text'].apply(count_total_words)\n",
    "text_df['char_per_word'] = text_df['char_count']/text_df['word_count']#\n",
    "text_df['syl_per_word'] = text_df['syl_count']/text_df['word_count']#\n",
    "text_df['sent_count'] = text_df['text'].apply(count_total_sentences)\n",
    "text_df['word_per_sent'] = text_df['word_count']/text_df['sent_count']#\n",
    "\n",
    "text_df['dc_word_count'] = text_df['text'].apply(dc_difficult_word_count)\n",
    "text_df['gf_word_count'] = text_df['text'].apply(gf_complex_word_count)\n",
    "text_df['poly_word_count'] = text_df['text'].apply(smog_poly_count)\n",
    "\n",
    "text_df['dc_word_perc'] = text_df['dc_word_count']/text_df['word_count']#\n",
    "text_df['gf_word_perc'] = text_df['gf_word_count']/text_df['word_count']#\n",
    "text_df['poly_word_perc'] = text_df['poly_word_count']/text_df['word_count']#\n",
    "\n",
    "text_df['ari'] = text_df['text'].apply(ari)\n",
    "text_df['flesch_kincaid'] = text_df['text'].apply(flesch_kincaid)\n",
    "text_df['coleman_liau'] = text_df['text'].apply(coleman_liau)\n",
    "text_df['dale_chall'] = text_df['text'].apply(dale_chall)\n",
    "text_df['gunning_fog'] = text_df['text'].apply(gunning_fog)\n",
    "text_df['smog'] = text_df['text'].apply(smog)"
   ]
  },
  {
   "cell_type": "code",
   "execution_count": 142,
   "id": "8fe7f7dd",
   "metadata": {},
   "outputs": [
    {
     "name": "stderr",
     "output_type": "stream",
     "text": [
      "2023-04-08 18:11:40 INFO: Checking for updates to resources.json in case models have been updated.  Note: this behavior can be turned off with download_method=None or download_method=DownloadMethod.REUSE_RESOURCES\n"
     ]
    },
    {
     "data": {
      "application/vnd.jupyter.widget-view+json": {
       "model_id": "da476d2f4aeb4d27a88185cdc2ab64be",
       "version_major": 2,
       "version_minor": 0
      },
      "text/plain": [
       "Downloading https://raw.githubusercontent.com/stanfordnlp/stanza-resources/main/resources_1.5.0.json:   0%|   …"
      ]
     },
     "metadata": {},
     "output_type": "display_data"
    },
    {
     "name": "stderr",
     "output_type": "stream",
     "text": [
      "2023-04-08 18:11:41 INFO: Loading these models for language: en (English):\n",
      "========================\n",
      "| Processor | Package  |\n",
      "------------------------\n",
      "| tokenize  | combined |\n",
      "========================\n",
      "\n",
      "2023-04-08 18:11:41 INFO: Using device: cpu\n",
      "2023-04-08 18:11:41 INFO: Loading: tokenize\n",
      "2023-04-08 18:11:41 INFO: Done loading processors!\n"
     ]
    },
    {
     "name": "stdout",
     "output_type": "stream",
     "text": [
      "['This is a test sentence for stanza.', 'This is another sentence.']\n"
     ]
    }
   ],
   "source": [
    "nlp = stanza.Pipeline(lang='en', processors='tokenize')\n",
    "doc = nlp('This is a test sentence for stanza. This is another sentence.')\n",
    "print([sentence.text for sentence in doc.sentences])\n",
    "for i, sentence in enumerate(doc.sentences):"
   ]
  },
  {
   "cell_type": "code",
   "execution_count": 143,
   "id": "80699e71",
   "metadata": {},
   "outputs": [],
   "source": [
    "text_df['sentences'] = text_df['text'].apply(sent_tokenize)"
   ]
  },
  {
   "cell_type": "code",
   "execution_count": 151,
   "id": "0427d426",
   "metadata": {},
   "outputs": [],
   "source": [
    "text_df['date'] = text_df.index"
   ]
  },
  {
   "cell_type": "code",
   "execution_count": 152,
   "id": "d4cbd015",
   "metadata": {},
   "outputs": [],
   "source": [
    "# Make data frame of sentences and parse tree depth of each\n",
    "def walk_tree_depth(node, depth):\n",
    "    if node.n_lefts + node.n_rights > 0:\n",
    "        return max(walk_tree_depth(child, depth+1) for child in node.children )\n",
    "    else:\n",
    "        return depth\n",
    "nlp = spacy.load(\"en_core_web_md\")    \n",
    "tree_depth = pd.DataFrame(columns = ['date', 'source', 'sentence', 'depth'])\n",
    "for i, speech in enumerate(text_df['sentences']):\n",
    "    for j, sentence in enumerate(speech):\n",
    "        doc = nlp(sentence)\n",
    "        depth = [walk_tree_depth(sent.root, 0) for sent in doc.sents][0]\n",
    "        tree_depth.loc[len(tree_depth)] = [text_df['date'].iloc[i], text_df['source'].iloc[i], sentence, depth]"
   ]
  },
  {
   "cell_type": "code",
   "execution_count": 154,
   "id": "67cf89b2",
   "metadata": {},
   "outputs": [],
   "source": [
    "tree_depth['words_per_sent'] = tree_depth.sentence.apply(words_per_sentence)\n",
    "tree_depth['syllables_per_sent'] = [nsyl(word) for word in tree_depth.sentence]\n",
    "tree_depth['chars_per_sent'] = [chars_per_word(word) for word in tree_depth.sentence]"
   ]
  },
  {
   "cell_type": "code",
   "execution_count": 155,
   "id": "f6091b1b",
   "metadata": {},
   "outputs": [
    {
     "data": {
      "text/html": [
       "<div>\n",
       "<style scoped>\n",
       "    .dataframe tbody tr th:only-of-type {\n",
       "        vertical-align: middle;\n",
       "    }\n",
       "\n",
       "    .dataframe tbody tr th {\n",
       "        vertical-align: top;\n",
       "    }\n",
       "\n",
       "    .dataframe thead th {\n",
       "        text-align: right;\n",
       "    }\n",
       "</style>\n",
       "<table border=\"1\" class=\"dataframe\">\n",
       "  <thead>\n",
       "    <tr style=\"text-align: right;\">\n",
       "      <th></th>\n",
       "      <th>depth_std</th>\n",
       "      <th>words_per_sent_std</th>\n",
       "      <th>syllables_per_sent_std</th>\n",
       "      <th>chars_per_sent_std</th>\n",
       "    </tr>\n",
       "    <tr>\n",
       "      <th>date</th>\n",
       "      <th></th>\n",
       "      <th></th>\n",
       "      <th></th>\n",
       "      <th></th>\n",
       "    </tr>\n",
       "  </thead>\n",
       "  <tbody>\n",
       "    <tr>\n",
       "      <th>2004-07-28</th>\n",
       "      <td>2.844063</td>\n",
       "      <td>21.525296</td>\n",
       "      <td>31.405842</td>\n",
       "      <td>112.610653</td>\n",
       "    </tr>\n",
       "    <tr>\n",
       "      <th>2008-03-18</th>\n",
       "      <td>3.022116</td>\n",
       "      <td>17.011296</td>\n",
       "      <td>28.029918</td>\n",
       "      <td>96.685098</td>\n",
       "    </tr>\n",
       "    <tr>\n",
       "      <th>2008-08-28</th>\n",
       "      <td>2.752099</td>\n",
       "      <td>16.350835</td>\n",
       "      <td>24.926814</td>\n",
       "      <td>87.917105</td>\n",
       "    </tr>\n",
       "    <tr>\n",
       "      <th>2008-11-04</th>\n",
       "      <td>3.066697</td>\n",
       "      <td>19.629516</td>\n",
       "      <td>29.506903</td>\n",
       "      <td>106.358513</td>\n",
       "    </tr>\n",
       "    <tr>\n",
       "      <th>2009-06-04</th>\n",
       "      <td>2.300584</td>\n",
       "      <td>11.922056</td>\n",
       "      <td>19.856574</td>\n",
       "      <td>68.133230</td>\n",
       "    </tr>\n",
       "    <tr>\n",
       "      <th>2009-10-09</th>\n",
       "      <td>2.690526</td>\n",
       "      <td>11.425525</td>\n",
       "      <td>18.887673</td>\n",
       "      <td>65.597751</td>\n",
       "    </tr>\n",
       "    <tr>\n",
       "      <th>2011-01-14</th>\n",
       "      <td>2.695232</td>\n",
       "      <td>14.291677</td>\n",
       "      <td>21.541347</td>\n",
       "      <td>76.207387</td>\n",
       "    </tr>\n",
       "    <tr>\n",
       "      <th>2015-03-07</th>\n",
       "      <td>2.139607</td>\n",
       "      <td>12.979018</td>\n",
       "      <td>20.470547</td>\n",
       "      <td>73.642031</td>\n",
       "    </tr>\n",
       "    <tr>\n",
       "      <th>2015-06-26</th>\n",
       "      <td>2.870117</td>\n",
       "      <td>15.717180</td>\n",
       "      <td>25.220822</td>\n",
       "      <td>89.114615</td>\n",
       "    </tr>\n",
       "    <tr>\n",
       "      <th>2016-07-28</th>\n",
       "      <td>2.747137</td>\n",
       "      <td>14.267376</td>\n",
       "      <td>21.792388</td>\n",
       "      <td>76.951701</td>\n",
       "    </tr>\n",
       "  </tbody>\n",
       "</table>\n",
       "</div>"
      ],
      "text/plain": [
       "            depth_std  words_per_sent_std  syllables_per_sent_std  \\\n",
       "date                                                                \n",
       "2004-07-28   2.844063           21.525296               31.405842   \n",
       "2008-03-18   3.022116           17.011296               28.029918   \n",
       "2008-08-28   2.752099           16.350835               24.926814   \n",
       "2008-11-04   3.066697           19.629516               29.506903   \n",
       "2009-06-04   2.300584           11.922056               19.856574   \n",
       "2009-10-09   2.690526           11.425525               18.887673   \n",
       "2011-01-14   2.695232           14.291677               21.541347   \n",
       "2015-03-07   2.139607           12.979018               20.470547   \n",
       "2015-06-26   2.870117           15.717180               25.220822   \n",
       "2016-07-28   2.747137           14.267376               21.792388   \n",
       "\n",
       "            chars_per_sent_std  \n",
       "date                            \n",
       "2004-07-28          112.610653  \n",
       "2008-03-18           96.685098  \n",
       "2008-08-28           87.917105  \n",
       "2008-11-04          106.358513  \n",
       "2009-06-04           68.133230  \n",
       "2009-10-09           65.597751  \n",
       "2011-01-14           76.207387  \n",
       "2015-03-07           73.642031  \n",
       "2015-06-26           89.114615  \n",
       "2016-07-28           76.951701  "
      ]
     },
     "execution_count": 155,
     "metadata": {},
     "output_type": "execute_result"
    }
   ],
   "source": [
    "tree_depth.groupby(by='date').std(numeric_only=True).add_suffix('_std')"
   ]
  },
  {
   "cell_type": "code",
   "execution_count": 157,
   "id": "9ec83f32",
   "metadata": {},
   "outputs": [
    {
     "data": {
      "text/html": [
       "<div>\n",
       "<style scoped>\n",
       "    .dataframe tbody tr th:only-of-type {\n",
       "        vertical-align: middle;\n",
       "    }\n",
       "\n",
       "    .dataframe tbody tr th {\n",
       "        vertical-align: top;\n",
       "    }\n",
       "\n",
       "    .dataframe thead th {\n",
       "        text-align: right;\n",
       "    }\n",
       "</style>\n",
       "<table border=\"1\" class=\"dataframe\">\n",
       "  <thead>\n",
       "    <tr style=\"text-align: right;\">\n",
       "      <th></th>\n",
       "      <th>depth_med</th>\n",
       "      <th>words_per_sent_med</th>\n",
       "      <th>syllables_per_sent_med</th>\n",
       "      <th>chars_per_sent_med</th>\n",
       "    </tr>\n",
       "    <tr>\n",
       "      <th>date</th>\n",
       "      <th></th>\n",
       "      <th></th>\n",
       "      <th></th>\n",
       "      <th></th>\n",
       "    </tr>\n",
       "  </thead>\n",
       "  <tbody>\n",
       "    <tr>\n",
       "      <th>2004-07-28</th>\n",
       "      <td>5.0</td>\n",
       "      <td>16.0</td>\n",
       "      <td>25.0</td>\n",
       "      <td>83.0</td>\n",
       "    </tr>\n",
       "    <tr>\n",
       "      <th>2008-03-18</th>\n",
       "      <td>6.0</td>\n",
       "      <td>21.0</td>\n",
       "      <td>33.0</td>\n",
       "      <td>113.0</td>\n",
       "    </tr>\n",
       "    <tr>\n",
       "      <th>2008-08-28</th>\n",
       "      <td>5.0</td>\n",
       "      <td>20.0</td>\n",
       "      <td>29.0</td>\n",
       "      <td>105.0</td>\n",
       "    </tr>\n",
       "    <tr>\n",
       "      <th>2008-11-04</th>\n",
       "      <td>5.0</td>\n",
       "      <td>16.0</td>\n",
       "      <td>26.0</td>\n",
       "      <td>81.0</td>\n",
       "    </tr>\n",
       "    <tr>\n",
       "      <th>2009-06-04</th>\n",
       "      <td>5.0</td>\n",
       "      <td>17.0</td>\n",
       "      <td>28.0</td>\n",
       "      <td>98.0</td>\n",
       "    </tr>\n",
       "    <tr>\n",
       "      <th>2009-10-09</th>\n",
       "      <td>5.0</td>\n",
       "      <td>18.5</td>\n",
       "      <td>30.0</td>\n",
       "      <td>103.0</td>\n",
       "    </tr>\n",
       "    <tr>\n",
       "      <th>2011-01-14</th>\n",
       "      <td>5.0</td>\n",
       "      <td>17.0</td>\n",
       "      <td>26.0</td>\n",
       "      <td>87.0</td>\n",
       "    </tr>\n",
       "    <tr>\n",
       "      <th>2015-03-07</th>\n",
       "      <td>5.0</td>\n",
       "      <td>16.0</td>\n",
       "      <td>24.0</td>\n",
       "      <td>86.5</td>\n",
       "    </tr>\n",
       "    <tr>\n",
       "      <th>2015-06-26</th>\n",
       "      <td>4.0</td>\n",
       "      <td>11.0</td>\n",
       "      <td>17.0</td>\n",
       "      <td>60.0</td>\n",
       "    </tr>\n",
       "    <tr>\n",
       "      <th>2016-07-28</th>\n",
       "      <td>4.0</td>\n",
       "      <td>14.0</td>\n",
       "      <td>19.5</td>\n",
       "      <td>70.5</td>\n",
       "    </tr>\n",
       "  </tbody>\n",
       "</table>\n",
       "</div>"
      ],
      "text/plain": [
       "            depth_med  words_per_sent_med  syllables_per_sent_med  \\\n",
       "date                                                                \n",
       "2004-07-28        5.0                16.0                    25.0   \n",
       "2008-03-18        6.0                21.0                    33.0   \n",
       "2008-08-28        5.0                20.0                    29.0   \n",
       "2008-11-04        5.0                16.0                    26.0   \n",
       "2009-06-04        5.0                17.0                    28.0   \n",
       "2009-10-09        5.0                18.5                    30.0   \n",
       "2011-01-14        5.0                17.0                    26.0   \n",
       "2015-03-07        5.0                16.0                    24.0   \n",
       "2015-06-26        4.0                11.0                    17.0   \n",
       "2016-07-28        4.0                14.0                    19.5   \n",
       "\n",
       "            chars_per_sent_med  \n",
       "date                            \n",
       "2004-07-28                83.0  \n",
       "2008-03-18               113.0  \n",
       "2008-08-28               105.0  \n",
       "2008-11-04                81.0  \n",
       "2009-06-04                98.0  \n",
       "2009-10-09               103.0  \n",
       "2011-01-14                87.0  \n",
       "2015-03-07                86.5  \n",
       "2015-06-26                60.0  \n",
       "2016-07-28                70.5  "
      ]
     },
     "execution_count": 157,
     "metadata": {},
     "output_type": "execute_result"
    }
   ],
   "source": [
    "tree_depth.groupby(by='date').median(numeric_only=True).add_suffix('_med')"
   ]
  },
  {
   "cell_type": "code",
   "execution_count": 158,
   "id": "242e15ab",
   "metadata": {},
   "outputs": [
    {
     "data": {
      "application/vnd.plotly.v1+json": {
       "config": {
        "plotlyServerURL": "https://plot.ly"
       },
       "data": [
        {
         "hovertemplate": "variable=words_per_sent<br>index=%{x}<br>value=%{y}<extra></extra>",
         "legendgroup": "words_per_sent",
         "line": {
          "color": "#636efa",
          "dash": "solid"
         },
         "marker": {
          "symbol": "circle"
         },
         "mode": "lines",
         "name": "words_per_sent",
         "orientation": "v",
         "showlegend": true,
         "type": "scatter",
         "x": [
          596,
          597,
          598,
          599,
          600,
          601,
          602,
          603,
          604,
          605,
          606,
          607,
          608,
          609,
          610,
          611,
          612,
          613,
          614,
          615,
          616,
          617,
          618,
          619,
          620,
          621,
          622,
          623,
          624,
          625,
          626,
          627,
          628,
          629,
          630,
          631,
          632,
          633,
          634,
          635,
          636,
          637,
          638,
          639,
          640,
          641,
          642,
          643,
          644,
          645,
          646,
          647,
          648,
          649,
          650,
          651,
          652,
          653,
          654,
          655,
          656,
          657,
          658,
          659,
          660,
          661,
          662,
          663,
          664,
          665,
          666,
          667,
          668,
          669,
          670,
          671,
          672,
          673,
          674,
          675,
          676,
          677,
          678,
          679,
          680,
          681,
          682,
          683,
          684,
          685,
          686,
          687,
          688,
          689,
          690,
          691,
          692,
          693,
          694,
          695,
          696,
          697,
          698,
          699,
          700,
          701,
          702,
          703,
          704,
          705,
          706,
          707,
          708,
          709,
          710,
          711,
          712,
          713,
          714,
          715,
          716,
          717,
          718,
          719,
          720,
          721,
          722,
          723,
          724,
          725,
          726,
          727,
          728,
          729,
          730,
          731,
          732,
          733,
          734,
          735,
          736,
          737,
          738,
          739,
          740,
          741,
          742,
          743,
          744,
          745,
          746,
          747,
          748,
          749,
          750,
          751,
          752,
          753,
          754,
          755,
          756,
          757,
          758,
          759,
          760,
          761,
          762,
          763,
          764,
          765,
          766,
          767,
          768,
          769,
          770,
          771,
          772,
          773,
          774,
          775,
          776,
          777,
          778,
          779,
          780,
          781,
          782,
          783,
          784,
          785,
          786,
          787,
          788,
          789,
          790,
          791,
          792,
          793,
          794,
          795,
          796
         ],
         "xaxis": "x",
         "y": [
          13,
          14,
          25,
          11,
          33,
          35,
          10,
          50,
          51,
          36,
          55,
          43,
          83,
          17,
          8,
          16,
          42,
          23,
          28,
          19,
          23,
          14,
          33,
          27,
          27,
          20,
          15,
          18,
          16,
          29,
          26,
          42,
          50,
          23,
          21,
          2,
          18,
          1,
          10,
          23,
          13,
          15,
          68,
          74,
          26,
          13,
          5,
          59,
          14,
          43,
          77,
          49,
          56,
          13,
          38,
          15,
          40,
          7,
          30,
          16,
          19,
          36,
          10,
          13,
          11,
          32,
          23,
          13,
          77,
          6,
          11,
          17,
          7,
          26,
          32,
          16,
          32,
          48,
          40,
          14,
          12,
          7,
          15,
          49,
          7,
          14,
          22,
          59,
          31,
          43,
          44,
          17,
          27,
          43,
          38,
          36,
          22,
          32,
          34,
          25,
          18,
          38,
          7,
          11,
          18,
          17,
          34,
          12,
          19,
          6,
          16,
          25,
          13,
          28,
          65,
          16,
          13,
          11,
          11,
          30,
          55,
          38,
          7,
          12,
          49,
          60,
          20,
          17,
          49,
          51,
          15,
          19,
          27,
          18,
          67,
          12,
          7,
          20,
          57,
          43,
          42,
          36,
          10,
          7,
          21,
          8,
          12,
          14,
          22,
          47,
          41,
          4,
          29,
          4,
          4,
          16,
          31,
          31,
          25,
          3,
          55,
          42,
          45,
          32,
          25,
          28,
          29,
          18,
          41,
          40,
          23,
          38,
          14,
          18,
          22,
          44,
          9,
          11,
          39,
          8,
          35,
          4,
          9,
          21,
          8,
          6,
          18,
          8,
          9,
          9,
          8,
          12,
          14,
          6,
          21,
          21,
          6,
          7,
          33,
          5,
          2
         ],
         "yaxis": "y"
        }
       ],
       "layout": {
        "legend": {
         "title": {
          "text": "variable"
         },
         "tracegroupgap": 0
        },
        "margin": {
         "t": 60
        },
        "template": {
         "data": {
          "bar": [
           {
            "error_x": {
             "color": "#2a3f5f"
            },
            "error_y": {
             "color": "#2a3f5f"
            },
            "marker": {
             "line": {
              "color": "#E5ECF6",
              "width": 0.5
             },
             "pattern": {
              "fillmode": "overlay",
              "size": 10,
              "solidity": 0.2
             }
            },
            "type": "bar"
           }
          ],
          "barpolar": [
           {
            "marker": {
             "line": {
              "color": "#E5ECF6",
              "width": 0.5
             },
             "pattern": {
              "fillmode": "overlay",
              "size": 10,
              "solidity": 0.2
             }
            },
            "type": "barpolar"
           }
          ],
          "carpet": [
           {
            "aaxis": {
             "endlinecolor": "#2a3f5f",
             "gridcolor": "white",
             "linecolor": "white",
             "minorgridcolor": "white",
             "startlinecolor": "#2a3f5f"
            },
            "baxis": {
             "endlinecolor": "#2a3f5f",
             "gridcolor": "white",
             "linecolor": "white",
             "minorgridcolor": "white",
             "startlinecolor": "#2a3f5f"
            },
            "type": "carpet"
           }
          ],
          "choropleth": [
           {
            "colorbar": {
             "outlinewidth": 0,
             "ticks": ""
            },
            "type": "choropleth"
           }
          ],
          "contour": [
           {
            "colorbar": {
             "outlinewidth": 0,
             "ticks": ""
            },
            "colorscale": [
             [
              0,
              "#0d0887"
             ],
             [
              0.1111111111111111,
              "#46039f"
             ],
             [
              0.2222222222222222,
              "#7201a8"
             ],
             [
              0.3333333333333333,
              "#9c179e"
             ],
             [
              0.4444444444444444,
              "#bd3786"
             ],
             [
              0.5555555555555556,
              "#d8576b"
             ],
             [
              0.6666666666666666,
              "#ed7953"
             ],
             [
              0.7777777777777778,
              "#fb9f3a"
             ],
             [
              0.8888888888888888,
              "#fdca26"
             ],
             [
              1,
              "#f0f921"
             ]
            ],
            "type": "contour"
           }
          ],
          "contourcarpet": [
           {
            "colorbar": {
             "outlinewidth": 0,
             "ticks": ""
            },
            "type": "contourcarpet"
           }
          ],
          "heatmap": [
           {
            "colorbar": {
             "outlinewidth": 0,
             "ticks": ""
            },
            "colorscale": [
             [
              0,
              "#0d0887"
             ],
             [
              0.1111111111111111,
              "#46039f"
             ],
             [
              0.2222222222222222,
              "#7201a8"
             ],
             [
              0.3333333333333333,
              "#9c179e"
             ],
             [
              0.4444444444444444,
              "#bd3786"
             ],
             [
              0.5555555555555556,
              "#d8576b"
             ],
             [
              0.6666666666666666,
              "#ed7953"
             ],
             [
              0.7777777777777778,
              "#fb9f3a"
             ],
             [
              0.8888888888888888,
              "#fdca26"
             ],
             [
              1,
              "#f0f921"
             ]
            ],
            "type": "heatmap"
           }
          ],
          "heatmapgl": [
           {
            "colorbar": {
             "outlinewidth": 0,
             "ticks": ""
            },
            "colorscale": [
             [
              0,
              "#0d0887"
             ],
             [
              0.1111111111111111,
              "#46039f"
             ],
             [
              0.2222222222222222,
              "#7201a8"
             ],
             [
              0.3333333333333333,
              "#9c179e"
             ],
             [
              0.4444444444444444,
              "#bd3786"
             ],
             [
              0.5555555555555556,
              "#d8576b"
             ],
             [
              0.6666666666666666,
              "#ed7953"
             ],
             [
              0.7777777777777778,
              "#fb9f3a"
             ],
             [
              0.8888888888888888,
              "#fdca26"
             ],
             [
              1,
              "#f0f921"
             ]
            ],
            "type": "heatmapgl"
           }
          ],
          "histogram": [
           {
            "marker": {
             "pattern": {
              "fillmode": "overlay",
              "size": 10,
              "solidity": 0.2
             }
            },
            "type": "histogram"
           }
          ],
          "histogram2d": [
           {
            "colorbar": {
             "outlinewidth": 0,
             "ticks": ""
            },
            "colorscale": [
             [
              0,
              "#0d0887"
             ],
             [
              0.1111111111111111,
              "#46039f"
             ],
             [
              0.2222222222222222,
              "#7201a8"
             ],
             [
              0.3333333333333333,
              "#9c179e"
             ],
             [
              0.4444444444444444,
              "#bd3786"
             ],
             [
              0.5555555555555556,
              "#d8576b"
             ],
             [
              0.6666666666666666,
              "#ed7953"
             ],
             [
              0.7777777777777778,
              "#fb9f3a"
             ],
             [
              0.8888888888888888,
              "#fdca26"
             ],
             [
              1,
              "#f0f921"
             ]
            ],
            "type": "histogram2d"
           }
          ],
          "histogram2dcontour": [
           {
            "colorbar": {
             "outlinewidth": 0,
             "ticks": ""
            },
            "colorscale": [
             [
              0,
              "#0d0887"
             ],
             [
              0.1111111111111111,
              "#46039f"
             ],
             [
              0.2222222222222222,
              "#7201a8"
             ],
             [
              0.3333333333333333,
              "#9c179e"
             ],
             [
              0.4444444444444444,
              "#bd3786"
             ],
             [
              0.5555555555555556,
              "#d8576b"
             ],
             [
              0.6666666666666666,
              "#ed7953"
             ],
             [
              0.7777777777777778,
              "#fb9f3a"
             ],
             [
              0.8888888888888888,
              "#fdca26"
             ],
             [
              1,
              "#f0f921"
             ]
            ],
            "type": "histogram2dcontour"
           }
          ],
          "mesh3d": [
           {
            "colorbar": {
             "outlinewidth": 0,
             "ticks": ""
            },
            "type": "mesh3d"
           }
          ],
          "parcoords": [
           {
            "line": {
             "colorbar": {
              "outlinewidth": 0,
              "ticks": ""
             }
            },
            "type": "parcoords"
           }
          ],
          "pie": [
           {
            "automargin": true,
            "type": "pie"
           }
          ],
          "scatter": [
           {
            "fillpattern": {
             "fillmode": "overlay",
             "size": 10,
             "solidity": 0.2
            },
            "type": "scatter"
           }
          ],
          "scatter3d": [
           {
            "line": {
             "colorbar": {
              "outlinewidth": 0,
              "ticks": ""
             }
            },
            "marker": {
             "colorbar": {
              "outlinewidth": 0,
              "ticks": ""
             }
            },
            "type": "scatter3d"
           }
          ],
          "scattercarpet": [
           {
            "marker": {
             "colorbar": {
              "outlinewidth": 0,
              "ticks": ""
             }
            },
            "type": "scattercarpet"
           }
          ],
          "scattergeo": [
           {
            "marker": {
             "colorbar": {
              "outlinewidth": 0,
              "ticks": ""
             }
            },
            "type": "scattergeo"
           }
          ],
          "scattergl": [
           {
            "marker": {
             "colorbar": {
              "outlinewidth": 0,
              "ticks": ""
             }
            },
            "type": "scattergl"
           }
          ],
          "scattermapbox": [
           {
            "marker": {
             "colorbar": {
              "outlinewidth": 0,
              "ticks": ""
             }
            },
            "type": "scattermapbox"
           }
          ],
          "scatterpolar": [
           {
            "marker": {
             "colorbar": {
              "outlinewidth": 0,
              "ticks": ""
             }
            },
            "type": "scatterpolar"
           }
          ],
          "scatterpolargl": [
           {
            "marker": {
             "colorbar": {
              "outlinewidth": 0,
              "ticks": ""
             }
            },
            "type": "scatterpolargl"
           }
          ],
          "scatterternary": [
           {
            "marker": {
             "colorbar": {
              "outlinewidth": 0,
              "ticks": ""
             }
            },
            "type": "scatterternary"
           }
          ],
          "surface": [
           {
            "colorbar": {
             "outlinewidth": 0,
             "ticks": ""
            },
            "colorscale": [
             [
              0,
              "#0d0887"
             ],
             [
              0.1111111111111111,
              "#46039f"
             ],
             [
              0.2222222222222222,
              "#7201a8"
             ],
             [
              0.3333333333333333,
              "#9c179e"
             ],
             [
              0.4444444444444444,
              "#bd3786"
             ],
             [
              0.5555555555555556,
              "#d8576b"
             ],
             [
              0.6666666666666666,
              "#ed7953"
             ],
             [
              0.7777777777777778,
              "#fb9f3a"
             ],
             [
              0.8888888888888888,
              "#fdca26"
             ],
             [
              1,
              "#f0f921"
             ]
            ],
            "type": "surface"
           }
          ],
          "table": [
           {
            "cells": {
             "fill": {
              "color": "#EBF0F8"
             },
             "line": {
              "color": "white"
             }
            },
            "header": {
             "fill": {
              "color": "#C8D4E3"
             },
             "line": {
              "color": "white"
             }
            },
            "type": "table"
           }
          ]
         },
         "layout": {
          "annotationdefaults": {
           "arrowcolor": "#2a3f5f",
           "arrowhead": 0,
           "arrowwidth": 1
          },
          "autotypenumbers": "strict",
          "coloraxis": {
           "colorbar": {
            "outlinewidth": 0,
            "ticks": ""
           }
          },
          "colorscale": {
           "diverging": [
            [
             0,
             "#8e0152"
            ],
            [
             0.1,
             "#c51b7d"
            ],
            [
             0.2,
             "#de77ae"
            ],
            [
             0.3,
             "#f1b6da"
            ],
            [
             0.4,
             "#fde0ef"
            ],
            [
             0.5,
             "#f7f7f7"
            ],
            [
             0.6,
             "#e6f5d0"
            ],
            [
             0.7,
             "#b8e186"
            ],
            [
             0.8,
             "#7fbc41"
            ],
            [
             0.9,
             "#4d9221"
            ],
            [
             1,
             "#276419"
            ]
           ],
           "sequential": [
            [
             0,
             "#0d0887"
            ],
            [
             0.1111111111111111,
             "#46039f"
            ],
            [
             0.2222222222222222,
             "#7201a8"
            ],
            [
             0.3333333333333333,
             "#9c179e"
            ],
            [
             0.4444444444444444,
             "#bd3786"
            ],
            [
             0.5555555555555556,
             "#d8576b"
            ],
            [
             0.6666666666666666,
             "#ed7953"
            ],
            [
             0.7777777777777778,
             "#fb9f3a"
            ],
            [
             0.8888888888888888,
             "#fdca26"
            ],
            [
             1,
             "#f0f921"
            ]
           ],
           "sequentialminus": [
            [
             0,
             "#0d0887"
            ],
            [
             0.1111111111111111,
             "#46039f"
            ],
            [
             0.2222222222222222,
             "#7201a8"
            ],
            [
             0.3333333333333333,
             "#9c179e"
            ],
            [
             0.4444444444444444,
             "#bd3786"
            ],
            [
             0.5555555555555556,
             "#d8576b"
            ],
            [
             0.6666666666666666,
             "#ed7953"
            ],
            [
             0.7777777777777778,
             "#fb9f3a"
            ],
            [
             0.8888888888888888,
             "#fdca26"
            ],
            [
             1,
             "#f0f921"
            ]
           ]
          },
          "colorway": [
           "#636efa",
           "#EF553B",
           "#00cc96",
           "#ab63fa",
           "#FFA15A",
           "#19d3f3",
           "#FF6692",
           "#B6E880",
           "#FF97FF",
           "#FECB52"
          ],
          "font": {
           "color": "#2a3f5f"
          },
          "geo": {
           "bgcolor": "white",
           "lakecolor": "white",
           "landcolor": "#E5ECF6",
           "showlakes": true,
           "showland": true,
           "subunitcolor": "white"
          },
          "hoverlabel": {
           "align": "left"
          },
          "hovermode": "closest",
          "mapbox": {
           "style": "light"
          },
          "paper_bgcolor": "white",
          "plot_bgcolor": "#E5ECF6",
          "polar": {
           "angularaxis": {
            "gridcolor": "white",
            "linecolor": "white",
            "ticks": ""
           },
           "bgcolor": "#E5ECF6",
           "radialaxis": {
            "gridcolor": "white",
            "linecolor": "white",
            "ticks": ""
           }
          },
          "scene": {
           "xaxis": {
            "backgroundcolor": "#E5ECF6",
            "gridcolor": "white",
            "gridwidth": 2,
            "linecolor": "white",
            "showbackground": true,
            "ticks": "",
            "zerolinecolor": "white"
           },
           "yaxis": {
            "backgroundcolor": "#E5ECF6",
            "gridcolor": "white",
            "gridwidth": 2,
            "linecolor": "white",
            "showbackground": true,
            "ticks": "",
            "zerolinecolor": "white"
           },
           "zaxis": {
            "backgroundcolor": "#E5ECF6",
            "gridcolor": "white",
            "gridwidth": 2,
            "linecolor": "white",
            "showbackground": true,
            "ticks": "",
            "zerolinecolor": "white"
           }
          },
          "shapedefaults": {
           "line": {
            "color": "#2a3f5f"
           }
          },
          "ternary": {
           "aaxis": {
            "gridcolor": "white",
            "linecolor": "white",
            "ticks": ""
           },
           "baxis": {
            "gridcolor": "white",
            "linecolor": "white",
            "ticks": ""
           },
           "bgcolor": "#E5ECF6",
           "caxis": {
            "gridcolor": "white",
            "linecolor": "white",
            "ticks": ""
           }
          },
          "title": {
           "x": 0.05
          },
          "xaxis": {
           "automargin": true,
           "gridcolor": "white",
           "linecolor": "white",
           "ticks": "",
           "title": {
            "standoff": 15
           },
           "zerolinecolor": "white",
           "zerolinewidth": 2
          },
          "yaxis": {
           "automargin": true,
           "gridcolor": "white",
           "linecolor": "white",
           "ticks": "",
           "title": {
            "standoff": 15
           },
           "zerolinecolor": "white",
           "zerolinewidth": 2
          }
         }
        },
        "xaxis": {
         "anchor": "y",
         "domain": [
          0,
          1
         ],
         "title": {
          "text": "index"
         }
        },
        "yaxis": {
         "anchor": "x",
         "domain": [
          0,
          1
         ],
         "title": {
          "text": "value"
         }
        }
       }
      },
      "text/html": [
       "<div>                            <div id=\"b63ff339-349e-47e5-834a-cace2074ec57\" class=\"plotly-graph-div\" style=\"height:525px; width:100%;\"></div>            <script type=\"text/javascript\">                require([\"plotly\"], function(Plotly) {                    window.PLOTLYENV=window.PLOTLYENV || {};                                    if (document.getElementById(\"b63ff339-349e-47e5-834a-cace2074ec57\")) {                    Plotly.newPlot(                        \"b63ff339-349e-47e5-834a-cace2074ec57\",                        [{\"hovertemplate\":\"variable=words_per_sent<br>index=%{x}<br>value=%{y}<extra></extra>\",\"legendgroup\":\"words_per_sent\",\"line\":{\"color\":\"#636efa\",\"dash\":\"solid\"},\"marker\":{\"symbol\":\"circle\"},\"mode\":\"lines\",\"name\":\"words_per_sent\",\"orientation\":\"v\",\"showlegend\":true,\"x\":[596,597,598,599,600,601,602,603,604,605,606,607,608,609,610,611,612,613,614,615,616,617,618,619,620,621,622,623,624,625,626,627,628,629,630,631,632,633,634,635,636,637,638,639,640,641,642,643,644,645,646,647,648,649,650,651,652,653,654,655,656,657,658,659,660,661,662,663,664,665,666,667,668,669,670,671,672,673,674,675,676,677,678,679,680,681,682,683,684,685,686,687,688,689,690,691,692,693,694,695,696,697,698,699,700,701,702,703,704,705,706,707,708,709,710,711,712,713,714,715,716,717,718,719,720,721,722,723,724,725,726,727,728,729,730,731,732,733,734,735,736,737,738,739,740,741,742,743,744,745,746,747,748,749,750,751,752,753,754,755,756,757,758,759,760,761,762,763,764,765,766,767,768,769,770,771,772,773,774,775,776,777,778,779,780,781,782,783,784,785,786,787,788,789,790,791,792,793,794,795,796],\"xaxis\":\"x\",\"y\":[13,14,25,11,33,35,10,50,51,36,55,43,83,17,8,16,42,23,28,19,23,14,33,27,27,20,15,18,16,29,26,42,50,23,21,2,18,1,10,23,13,15,68,74,26,13,5,59,14,43,77,49,56,13,38,15,40,7,30,16,19,36,10,13,11,32,23,13,77,6,11,17,7,26,32,16,32,48,40,14,12,7,15,49,7,14,22,59,31,43,44,17,27,43,38,36,22,32,34,25,18,38,7,11,18,17,34,12,19,6,16,25,13,28,65,16,13,11,11,30,55,38,7,12,49,60,20,17,49,51,15,19,27,18,67,12,7,20,57,43,42,36,10,7,21,8,12,14,22,47,41,4,29,4,4,16,31,31,25,3,55,42,45,32,25,28,29,18,41,40,23,38,14,18,22,44,9,11,39,8,35,4,9,21,8,6,18,8,9,9,8,12,14,6,21,21,6,7,33,5,2],\"yaxis\":\"y\",\"type\":\"scatter\"}],                        {\"template\":{\"data\":{\"histogram2dcontour\":[{\"type\":\"histogram2dcontour\",\"colorbar\":{\"outlinewidth\":0,\"ticks\":\"\"},\"colorscale\":[[0.0,\"#0d0887\"],[0.1111111111111111,\"#46039f\"],[0.2222222222222222,\"#7201a8\"],[0.3333333333333333,\"#9c179e\"],[0.4444444444444444,\"#bd3786\"],[0.5555555555555556,\"#d8576b\"],[0.6666666666666666,\"#ed7953\"],[0.7777777777777778,\"#fb9f3a\"],[0.8888888888888888,\"#fdca26\"],[1.0,\"#f0f921\"]]}],\"choropleth\":[{\"type\":\"choropleth\",\"colorbar\":{\"outlinewidth\":0,\"ticks\":\"\"}}],\"histogram2d\":[{\"type\":\"histogram2d\",\"colorbar\":{\"outlinewidth\":0,\"ticks\":\"\"},\"colorscale\":[[0.0,\"#0d0887\"],[0.1111111111111111,\"#46039f\"],[0.2222222222222222,\"#7201a8\"],[0.3333333333333333,\"#9c179e\"],[0.4444444444444444,\"#bd3786\"],[0.5555555555555556,\"#d8576b\"],[0.6666666666666666,\"#ed7953\"],[0.7777777777777778,\"#fb9f3a\"],[0.8888888888888888,\"#fdca26\"],[1.0,\"#f0f921\"]]}],\"heatmap\":[{\"type\":\"heatmap\",\"colorbar\":{\"outlinewidth\":0,\"ticks\":\"\"},\"colorscale\":[[0.0,\"#0d0887\"],[0.1111111111111111,\"#46039f\"],[0.2222222222222222,\"#7201a8\"],[0.3333333333333333,\"#9c179e\"],[0.4444444444444444,\"#bd3786\"],[0.5555555555555556,\"#d8576b\"],[0.6666666666666666,\"#ed7953\"],[0.7777777777777778,\"#fb9f3a\"],[0.8888888888888888,\"#fdca26\"],[1.0,\"#f0f921\"]]}],\"heatmapgl\":[{\"type\":\"heatmapgl\",\"colorbar\":{\"outlinewidth\":0,\"ticks\":\"\"},\"colorscale\":[[0.0,\"#0d0887\"],[0.1111111111111111,\"#46039f\"],[0.2222222222222222,\"#7201a8\"],[0.3333333333333333,\"#9c179e\"],[0.4444444444444444,\"#bd3786\"],[0.5555555555555556,\"#d8576b\"],[0.6666666666666666,\"#ed7953\"],[0.7777777777777778,\"#fb9f3a\"],[0.8888888888888888,\"#fdca26\"],[1.0,\"#f0f921\"]]}],\"contourcarpet\":[{\"type\":\"contourcarpet\",\"colorbar\":{\"outlinewidth\":0,\"ticks\":\"\"}}],\"contour\":[{\"type\":\"contour\",\"colorbar\":{\"outlinewidth\":0,\"ticks\":\"\"},\"colorscale\":[[0.0,\"#0d0887\"],[0.1111111111111111,\"#46039f\"],[0.2222222222222222,\"#7201a8\"],[0.3333333333333333,\"#9c179e\"],[0.4444444444444444,\"#bd3786\"],[0.5555555555555556,\"#d8576b\"],[0.6666666666666666,\"#ed7953\"],[0.7777777777777778,\"#fb9f3a\"],[0.8888888888888888,\"#fdca26\"],[1.0,\"#f0f921\"]]}],\"surface\":[{\"type\":\"surface\",\"colorbar\":{\"outlinewidth\":0,\"ticks\":\"\"},\"colorscale\":[[0.0,\"#0d0887\"],[0.1111111111111111,\"#46039f\"],[0.2222222222222222,\"#7201a8\"],[0.3333333333333333,\"#9c179e\"],[0.4444444444444444,\"#bd3786\"],[0.5555555555555556,\"#d8576b\"],[0.6666666666666666,\"#ed7953\"],[0.7777777777777778,\"#fb9f3a\"],[0.8888888888888888,\"#fdca26\"],[1.0,\"#f0f921\"]]}],\"mesh3d\":[{\"type\":\"mesh3d\",\"colorbar\":{\"outlinewidth\":0,\"ticks\":\"\"}}],\"scatter\":[{\"fillpattern\":{\"fillmode\":\"overlay\",\"size\":10,\"solidity\":0.2},\"type\":\"scatter\"}],\"parcoords\":[{\"type\":\"parcoords\",\"line\":{\"colorbar\":{\"outlinewidth\":0,\"ticks\":\"\"}}}],\"scatterpolargl\":[{\"type\":\"scatterpolargl\",\"marker\":{\"colorbar\":{\"outlinewidth\":0,\"ticks\":\"\"}}}],\"bar\":[{\"error_x\":{\"color\":\"#2a3f5f\"},\"error_y\":{\"color\":\"#2a3f5f\"},\"marker\":{\"line\":{\"color\":\"#E5ECF6\",\"width\":0.5},\"pattern\":{\"fillmode\":\"overlay\",\"size\":10,\"solidity\":0.2}},\"type\":\"bar\"}],\"scattergeo\":[{\"type\":\"scattergeo\",\"marker\":{\"colorbar\":{\"outlinewidth\":0,\"ticks\":\"\"}}}],\"scatterpolar\":[{\"type\":\"scatterpolar\",\"marker\":{\"colorbar\":{\"outlinewidth\":0,\"ticks\":\"\"}}}],\"histogram\":[{\"marker\":{\"pattern\":{\"fillmode\":\"overlay\",\"size\":10,\"solidity\":0.2}},\"type\":\"histogram\"}],\"scattergl\":[{\"type\":\"scattergl\",\"marker\":{\"colorbar\":{\"outlinewidth\":0,\"ticks\":\"\"}}}],\"scatter3d\":[{\"type\":\"scatter3d\",\"line\":{\"colorbar\":{\"outlinewidth\":0,\"ticks\":\"\"}},\"marker\":{\"colorbar\":{\"outlinewidth\":0,\"ticks\":\"\"}}}],\"scattermapbox\":[{\"type\":\"scattermapbox\",\"marker\":{\"colorbar\":{\"outlinewidth\":0,\"ticks\":\"\"}}}],\"scatterternary\":[{\"type\":\"scatterternary\",\"marker\":{\"colorbar\":{\"outlinewidth\":0,\"ticks\":\"\"}}}],\"scattercarpet\":[{\"type\":\"scattercarpet\",\"marker\":{\"colorbar\":{\"outlinewidth\":0,\"ticks\":\"\"}}}],\"carpet\":[{\"aaxis\":{\"endlinecolor\":\"#2a3f5f\",\"gridcolor\":\"white\",\"linecolor\":\"white\",\"minorgridcolor\":\"white\",\"startlinecolor\":\"#2a3f5f\"},\"baxis\":{\"endlinecolor\":\"#2a3f5f\",\"gridcolor\":\"white\",\"linecolor\":\"white\",\"minorgridcolor\":\"white\",\"startlinecolor\":\"#2a3f5f\"},\"type\":\"carpet\"}],\"table\":[{\"cells\":{\"fill\":{\"color\":\"#EBF0F8\"},\"line\":{\"color\":\"white\"}},\"header\":{\"fill\":{\"color\":\"#C8D4E3\"},\"line\":{\"color\":\"white\"}},\"type\":\"table\"}],\"barpolar\":[{\"marker\":{\"line\":{\"color\":\"#E5ECF6\",\"width\":0.5},\"pattern\":{\"fillmode\":\"overlay\",\"size\":10,\"solidity\":0.2}},\"type\":\"barpolar\"}],\"pie\":[{\"automargin\":true,\"type\":\"pie\"}]},\"layout\":{\"autotypenumbers\":\"strict\",\"colorway\":[\"#636efa\",\"#EF553B\",\"#00cc96\",\"#ab63fa\",\"#FFA15A\",\"#19d3f3\",\"#FF6692\",\"#B6E880\",\"#FF97FF\",\"#FECB52\"],\"font\":{\"color\":\"#2a3f5f\"},\"hovermode\":\"closest\",\"hoverlabel\":{\"align\":\"left\"},\"paper_bgcolor\":\"white\",\"plot_bgcolor\":\"#E5ECF6\",\"polar\":{\"bgcolor\":\"#E5ECF6\",\"angularaxis\":{\"gridcolor\":\"white\",\"linecolor\":\"white\",\"ticks\":\"\"},\"radialaxis\":{\"gridcolor\":\"white\",\"linecolor\":\"white\",\"ticks\":\"\"}},\"ternary\":{\"bgcolor\":\"#E5ECF6\",\"aaxis\":{\"gridcolor\":\"white\",\"linecolor\":\"white\",\"ticks\":\"\"},\"baxis\":{\"gridcolor\":\"white\",\"linecolor\":\"white\",\"ticks\":\"\"},\"caxis\":{\"gridcolor\":\"white\",\"linecolor\":\"white\",\"ticks\":\"\"}},\"coloraxis\":{\"colorbar\":{\"outlinewidth\":0,\"ticks\":\"\"}},\"colorscale\":{\"sequential\":[[0.0,\"#0d0887\"],[0.1111111111111111,\"#46039f\"],[0.2222222222222222,\"#7201a8\"],[0.3333333333333333,\"#9c179e\"],[0.4444444444444444,\"#bd3786\"],[0.5555555555555556,\"#d8576b\"],[0.6666666666666666,\"#ed7953\"],[0.7777777777777778,\"#fb9f3a\"],[0.8888888888888888,\"#fdca26\"],[1.0,\"#f0f921\"]],\"sequentialminus\":[[0.0,\"#0d0887\"],[0.1111111111111111,\"#46039f\"],[0.2222222222222222,\"#7201a8\"],[0.3333333333333333,\"#9c179e\"],[0.4444444444444444,\"#bd3786\"],[0.5555555555555556,\"#d8576b\"],[0.6666666666666666,\"#ed7953\"],[0.7777777777777778,\"#fb9f3a\"],[0.8888888888888888,\"#fdca26\"],[1.0,\"#f0f921\"]],\"diverging\":[[0,\"#8e0152\"],[0.1,\"#c51b7d\"],[0.2,\"#de77ae\"],[0.3,\"#f1b6da\"],[0.4,\"#fde0ef\"],[0.5,\"#f7f7f7\"],[0.6,\"#e6f5d0\"],[0.7,\"#b8e186\"],[0.8,\"#7fbc41\"],[0.9,\"#4d9221\"],[1,\"#276419\"]]},\"xaxis\":{\"gridcolor\":\"white\",\"linecolor\":\"white\",\"ticks\":\"\",\"title\":{\"standoff\":15},\"zerolinecolor\":\"white\",\"automargin\":true,\"zerolinewidth\":2},\"yaxis\":{\"gridcolor\":\"white\",\"linecolor\":\"white\",\"ticks\":\"\",\"title\":{\"standoff\":15},\"zerolinecolor\":\"white\",\"automargin\":true,\"zerolinewidth\":2},\"scene\":{\"xaxis\":{\"backgroundcolor\":\"#E5ECF6\",\"gridcolor\":\"white\",\"linecolor\":\"white\",\"showbackground\":true,\"ticks\":\"\",\"zerolinecolor\":\"white\",\"gridwidth\":2},\"yaxis\":{\"backgroundcolor\":\"#E5ECF6\",\"gridcolor\":\"white\",\"linecolor\":\"white\",\"showbackground\":true,\"ticks\":\"\",\"zerolinecolor\":\"white\",\"gridwidth\":2},\"zaxis\":{\"backgroundcolor\":\"#E5ECF6\",\"gridcolor\":\"white\",\"linecolor\":\"white\",\"showbackground\":true,\"ticks\":\"\",\"zerolinecolor\":\"white\",\"gridwidth\":2}},\"shapedefaults\":{\"line\":{\"color\":\"#2a3f5f\"}},\"annotationdefaults\":{\"arrowcolor\":\"#2a3f5f\",\"arrowhead\":0,\"arrowwidth\":1},\"geo\":{\"bgcolor\":\"white\",\"landcolor\":\"#E5ECF6\",\"subunitcolor\":\"white\",\"showland\":true,\"showlakes\":true,\"lakecolor\":\"white\"},\"title\":{\"x\":0.05},\"mapbox\":{\"style\":\"light\"}}},\"xaxis\":{\"anchor\":\"y\",\"domain\":[0.0,1.0],\"title\":{\"text\":\"index\"}},\"yaxis\":{\"anchor\":\"x\",\"domain\":[0.0,1.0],\"title\":{\"text\":\"value\"}},\"legend\":{\"title\":{\"text\":\"variable\"},\"tracegroupgap\":0},\"margin\":{\"t\":60}},                        {\"responsive\": true}                    ).then(function(){\n",
       "                            \n",
       "var gd = document.getElementById('b63ff339-349e-47e5-834a-cace2074ec57');\n",
       "var x = new MutationObserver(function (mutations, observer) {{\n",
       "        var display = window.getComputedStyle(gd).display;\n",
       "        if (!display || display === 'none') {{\n",
       "            console.log([gd, 'removed!']);\n",
       "            Plotly.purge(gd);\n",
       "            observer.disconnect();\n",
       "        }}\n",
       "}});\n",
       "\n",
       "// Listen for the removal of the full notebook cells\n",
       "var notebookContainer = gd.closest('#notebook-container');\n",
       "if (notebookContainer) {{\n",
       "    x.observe(notebookContainer, {childList: true});\n",
       "}}\n",
       "\n",
       "// Listen for the clearing of the current output cell\n",
       "var outputEl = gd.closest('.output');\n",
       "if (outputEl) {{\n",
       "    x.observe(outputEl, {childList: true});\n",
       "}}\n",
       "\n",
       "                        })                };                });            </script>        </div>"
      ]
     },
     "metadata": {},
     "output_type": "display_data"
    }
   ],
   "source": [
    "fig = px.line(tree_depth.query('date == \"2008-03-18\"').words_per_sent)\n",
    "fig.show()"
   ]
  },
  {
   "cell_type": "code",
   "execution_count": null,
   "id": "6d6b5a03",
   "metadata": {},
   "outputs": [],
   "source": []
  }
 ],
 "metadata": {
  "kernelspec": {
   "display_name": "Python 3 (ipykernel)",
   "language": "python",
   "name": "python3"
  },
  "language_info": {
   "codemirror_mode": {
    "name": "ipython",
    "version": 3
   },
   "file_extension": ".py",
   "mimetype": "text/x-python",
   "name": "python",
   "nbconvert_exporter": "python",
   "pygments_lexer": "ipython3",
   "version": "3.10.6"
  }
 },
 "nbformat": 4,
 "nbformat_minor": 5
}
