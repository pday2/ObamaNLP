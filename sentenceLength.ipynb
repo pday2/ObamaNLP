{
 "cells": [
  {
   "cell_type": "markdown",
   "id": "c3892c99",
   "metadata": {},
   "source": [
    "<P>\n",
    "He took a swig of unsweetened iced tea and sat forward. “Let me put it another way. You listen to Miles Davis?” \n",
    "</P>\n",
    "<P>\n",
    "I worried this was a test to see if I’d followed John Coltrane down the rabbit hole. I said yes. \n",
    "</P>\n",
    "<P>\n",
    "“You know what they say about Miles Davis?” \n",
    "</P>\n",
    "<P>\n",
    "I did not.\n",
    "</P>\n",
    "<P>\n",
    "“It’s the notes you don’t play. It’s the silences. That’s what made him so good. I need a speech with some pauses, and some quiet moments, because they say something too. You feel me?” \n",
    "</P>\n",
    "<P>\n",
    "By that point, I did. I knew exactly what he was talking about. What brief pride I’d felt in a speech that was in the best shape it had ever been a week ahead of time was quickly replaced by regret—regret that I’d been so consumed with making sure everything was in there that it made him complain that everything was in there. \n",
    "</P>\n",
    "<P>\n",
    "“Good,” he finished. “Like I said, we’re in great shape. I don’t want you to do any work tonight. I want you to go home, pour yourself a drink, and listen to some Miles Davis. And tomorrow, take another swing at it.” \n",
    "</P>\n",
    "<P>\n",
    "He pointed his fork at me. “Find me some silences.”\n",
    "</P>\n",
    "<P>\n",
    "Keenan, Cody. Grace (p. 156). "
   ]
  },
  {
   "cell_type": "code",
   "execution_count": 1,
   "id": "ec194264",
   "metadata": {},
   "outputs": [
    {
     "name": "stderr",
     "output_type": "stream",
     "text": [
      "2023-04-09 08:28:52.659059: I tensorflow/core/platform/cpu_feature_guard.cc:193] This TensorFlow binary is optimized with oneAPI Deep Neural Network Library (oneDNN) to use the following CPU instructions in performance-critical operations:  AVX2 FMA\n",
      "To enable them in other operations, rebuild TensorFlow with the appropriate compiler flags.\n",
      "2023-04-09 08:28:53.193732: E tensorflow/stream_executor/cuda/cuda_blas.cc:2981] Unable to register cuBLAS factory: Attempting to register factory for plugin cuBLAS when one has already been registered\n",
      "2023-04-09 08:28:54.163934: W tensorflow/stream_executor/platform/default/dso_loader.cc:64] Could not load dynamic library 'libnvinfer.so.7'; dlerror: libnvinfer.so.7: cannot open shared object file: No such file or directory\n",
      "2023-04-09 08:28:54.164049: W tensorflow/stream_executor/platform/default/dso_loader.cc:64] Could not load dynamic library 'libnvinfer_plugin.so.7'; dlerror: libnvinfer_plugin.so.7: cannot open shared object file: No such file or directory\n",
      "2023-04-09 08:28:54.164057: W tensorflow/compiler/tf2tensorrt/utils/py_utils.cc:38] TF-TRT Warning: Cannot dlopen some TensorRT libraries. If you would like to use Nvidia GPU with TensorRT, please make sure the missing libraries mentioned above are installed properly.\n",
      "2023-04-09 08:28:55.118471: W tensorflow/stream_executor/platform/default/dso_loader.cc:64] Could not load dynamic library 'libcuda.so.1'; dlerror: libcuda.so.1: cannot open shared object file: No such file or directory\n",
      "2023-04-09 08:28:55.118800: W tensorflow/stream_executor/cuda/cuda_driver.cc:263] failed call to cuInit: UNKNOWN ERROR (303)\n",
      "2023-04-09 08:28:55.118822: I tensorflow/stream_executor/cuda/cuda_diagnostics.cc:156] kernel driver does not appear to be running on this host (muddy-HP-ProDesk-600-G3-SFF): /proc/driver/nvidia/version does not exist\n",
      "[nltk_data] Downloading package punkt to /home/muddy/nltk_data...\n",
      "[nltk_data]   Package punkt is already up-to-date!\n",
      "[nltk_data] Downloading package wordnet to /home/muddy/nltk_data...\n",
      "[nltk_data]   Package wordnet is already up-to-date!\n"
     ]
    }
   ],
   "source": [
    "import pandas as pd\n",
    "import numpy as np\n",
    "import matplotlib.pyplot as plt\n",
    "import spacy\n",
    "import en_core_web_md\n",
    "import csv\n",
    "import regex as re\n",
    "import os\n",
    "import nltk\n",
    "import plotly.express as px\n",
    "from nltk.stem import WordNetLemmatizer\n",
    "from sklearn.decomposition import PCA\n",
    "from sklearn.preprocessing import StandardScaler\n",
    "from sklearn.metrics.pairwise import euclidean_distances\n",
    "from collections import defaultdict\n",
    "from textblob import TextBlob\n",
    "from nltk.tokenize import TreebankWordTokenizer\n",
    "from nltk.tokenize import sent_tokenize\n",
    "from nltk.tokenize import RegexpTokenizer\n",
    "import readability\n",
    "import pprint # pretty print for easy printing of ordered dictionary\n",
    "# import spacy # Needed for GeeksforGeeks code which is a mess\n",
    "from textstat.textstat import textstatistics\n",
    "import spacy\n",
    "spacy.load('en_core_web_md')\n",
    "from nltk.corpus import cmudict\n",
    "nltk.download(\"punkt\")\n",
    "from nltk.stem import WordNetLemmatizer\n",
    "nltk.download ('wordnet')\n",
    "import unicodedata\n",
    "import stanza\n",
    "word_token = TreebankWordTokenizer()"
   ]
  },
  {
   "cell_type": "markdown",
   "id": "432ded21",
   "metadata": {},
   "source": [
    "## [Skip to count variance stuff](#count_var)"
   ]
  },
  {
   "cell_type": "markdown",
   "id": "89d8bc64",
   "metadata": {},
   "source": [
    "## [Skip to Top10 stuff](#top10)"
   ]
  },
  {
   "cell_type": "markdown",
   "id": "8495f2ce",
   "metadata": {},
   "source": [
    "<A HREF=\"https://pandas.pydata.org/Pandas_Cheat_Sheet.pdf\">Pandas cheat sheet</A>"
   ]
  },
  {
   "cell_type": "code",
   "execution_count": 47,
   "id": "3087d97a",
   "metadata": {},
   "outputs": [
    {
     "data": {
      "text/plain": [
       "'10/05/2010'"
      ]
     },
     "execution_count": 47,
     "metadata": {},
     "output_type": "execute_result"
    }
   ],
   "source": [
    "file='speech_and_date.csv'\n",
    "dates=pd.read_csv(file)\n",
    "dates['date'][23]"
   ]
  },
  {
   "cell_type": "code",
   "execution_count": 72,
   "id": "3d2e8f66",
   "metadata": {},
   "outputs": [
    {
     "data": {
      "text/plain": [
       "'DataUCSB/address-before-joint-session-the-congress-the-state-the-union-17.txt'"
      ]
     },
     "execution_count": 72,
     "metadata": {},
     "output_type": "execute_result"
    }
   ],
   "source": [
    "# use .iloc[0] to get the actual string in the cell and not a pandas object\n",
    "dates.loc[dates['date'] == '27/01/2010']['file'].iloc[0]"
   ]
  },
  {
   "cell_type": "code",
   "execution_count": 83,
   "id": "d28e51ff",
   "metadata": {},
   "outputs": [],
   "source": [
    "# use .iloc[0] to get the actual string in the cell and not a pandas object\n",
    "speechlink = dates.loc[dates['date'] == '27/01/2010']['file'].iloc[0]\n",
    "with open(speechlink, encoding='utf-8') as f:\n",
    "        spec_speech = f.read()\n",
    "spec_speech=re.sub('\\[.+?\\]', '',spec_speech)\n",
    "spec_speech=re.sub('\\-\\-', ' ',spec_speech)"
   ]
  },
  {
   "cell_type": "code",
   "execution_count": 81,
   "id": "aa93e192",
   "metadata": {},
   "outputs": [],
   "source": [
    "nytimesFile=\"./NYTimes/01-27-2010.txt\"\n",
    "with open(nytimesFile, encoding='utf-8') as f:\n",
    "        nytimes = f.read()\n",
    "nytimes = nytimes.replace('\\n', '')"
   ]
  },
  {
   "cell_type": "code",
   "execution_count": 9,
   "id": "06e75153",
   "metadata": {},
   "outputs": [],
   "source": [
    "# Load up the files\n",
    "path = './DataUCSB/'\n",
    "list_of_files = []\n",
    "\n",
    "for root, dirs, files in os.walk(path):\n",
    "    for file in files:\n",
    "        if file.endswith('.txt'):\n",
    "            list_of_files.append(os.path.join(root,file))\n",
    "\n",
    "speeches = []\n",
    "for file in list_of_files:\n",
    "    with open(file, encoding='utf-8') as f:\n",
    "        text = f.read()\n",
    "    speeches.append(text)"
   ]
  },
  {
   "cell_type": "markdown",
   "id": "fd5e8c96",
   "metadata": {},
   "source": [
    "<A HREF=\"https://regexr.com/\">Regexr</A>"
   ]
  },
  {
   "cell_type": "code",
   "execution_count": 10,
   "id": "45092ef0",
   "metadata": {},
   "outputs": [],
   "source": [
    "# take out stuff like [Laughter] and [applause] and [Obama signs document]\n",
    "speeches = [re.sub('\\[.+?\\]', '',speech) for speech in speeches]\n",
    "# take out -- between words and replace with a space\n",
    "speeches = [re.sub('\\-\\-', ' ',speech) for speech in speeches]"
   ]
  },
  {
   "cell_type": "markdown",
   "id": "2758f1d7",
   "metadata": {},
   "source": [
    "Just looking at the one specific Obama speech vs NYTimes article here, not all"
   ]
  },
  {
   "cell_type": "code",
   "execution_count": 84,
   "id": "aecabcae",
   "metadata": {},
   "outputs": [],
   "source": [
    "speechlist_ob = [sentence.lstrip().rstrip() for sentence in spec_speech.split('.')]\n",
    "lengthsob = [len(sentence.split(' ')) for sentence in speechlist_ob]"
   ]
  },
  {
   "cell_type": "markdown",
   "id": "5d7267f8",
   "metadata": {},
   "source": [
    "Rem: NYTimes article is filled with many quotes from Obama's speech"
   ]
  },
  {
   "cell_type": "code",
   "execution_count": 85,
   "id": "c27cd474",
   "metadata": {},
   "outputs": [],
   "source": [
    "speechlist_ny = [sentence.lstrip().rstrip() for sentence in nytimes.split('.')]\n",
    "lengthsny = [len(sentence.split(' ')) for sentence in speechlist_ny]"
   ]
  },
  {
   "cell_type": "markdown",
   "id": "ac9b4375",
   "metadata": {},
   "source": [
    "<A HREF=\"https://matplotlib.org/stable/api/_as_gen/matplotlib.pyplot.plot.html\">Matplotlib docs</A>"
   ]
  },
  {
   "cell_type": "code",
   "execution_count": 86,
   "id": "4d2f3eb7",
   "metadata": {},
   "outputs": [
    {
     "data": {
      "image/png": "[encoded data removed]",
      "text/plain": [
       "<Figure size 432x288 with 1 Axes>"
      ]
     },
     "metadata": {
      "needs_background": "light"
     },
     "output_type": "display_data"
    }
   ],
   "source": [
    "plt.plot(lengthsob, 'b')\n",
    "plt.plot(lengthsny, 'r')\n",
    "plt.show()"
   ]
  },
  {
   "cell_type": "code",
   "execution_count": 89,
   "id": "033d7175",
   "metadata": {},
   "outputs": [
    {
     "name": "stdout",
     "output_type": "stream",
     "text": [
      "Obama: mean 16.888 and stdev 10.962\n"
     ]
    }
   ],
   "source": [
    "print('Obama: mean %s and stdev %s' %(round(np.average(lengthsob),3), round(np.std(lengthsob),3)))"
   ]
  },
  {
   "cell_type": "code",
   "execution_count": 90,
   "id": "2516ee84",
   "metadata": {},
   "outputs": [
    {
     "name": "stdout",
     "output_type": "stream",
     "text": [
      "NYTines: mean 16.561 and stdev 12.211\n"
     ]
    }
   ],
   "source": [
    "print('NYTines: mean %s and stdev %s' %(round(np.average(lengthsny),3), round(np.std(lengthsny),3)))"
   ]
  },
  {
   "cell_type": "markdown",
   "id": "280f8181",
   "metadata": {},
   "source": [
    "<A HREF=\"https://matplotlib.org/stable/gallery/statistics/hist.html\">Matplotlib histograms</A>"
   ]
  },
  {
   "cell_type": "code",
   "execution_count": 91,
   "id": "7c9b5bab",
   "metadata": {},
   "outputs": [
    {
     "data": {
      "image/png": "[encoded data removed]",
      "text/plain": [
       "<Figure size 432x288 with 2 Axes>"
      ]
     },
     "metadata": {
      "needs_background": "light"
     },
     "output_type": "display_data"
    }
   ],
   "source": [
    "n_bins=15\n",
    "fig, axs = plt.subplots(1, 2, sharey=True, tight_layout=True)\n",
    "axs[0].hist(lengthsob, bins=n_bins)\n",
    "axs[1].hist(lengthsny, bins=n_bins)\n",
    "plt.show()"
   ]
  },
  {
   "cell_type": "markdown",
   "id": "02872d12",
   "metadata": {},
   "source": [
    "<A HREF=\"https://datascience.stackexchange.com/questions/23376/how-to-get-the-number-of-syllables-in-a-word\">Counting syllables</A>"
   ]
  },
  {
   "cell_type": "code",
   "execution_count": 17,
   "id": "ba50aa91",
   "metadata": {},
   "outputs": [],
   "source": [
    "def syllables(word):\n",
    "    #referred from stackoverflow.com/questions/14541303/count-the-number-of-syllables-in-a-word\n",
    "    count = 0\n",
    "    vowels = 'aeiouy'\n",
    "    word = word.lower()\n",
    "    if word[0] in vowels:\n",
    "        count +=1\n",
    "    for index in range(1,len(word)):\n",
    "        if word[index] in vowels and word[index-1] not in vowels:\n",
    "            count +=1\n",
    "    if word.endswith('e'):\n",
    "        count -= 1\n",
    "    if word.endswith('le'):\n",
    "        count += 1\n",
    "    if count == 0:\n",
    "        count += 1\n",
    "    return count"
   ]
  },
  {
   "cell_type": "markdown",
   "id": "6b4a2af5",
   "metadata": {},
   "source": [
    "<P>In a cmd/terminal window </P>\n",
    "<P>>python</P>\n",
    "<P>>>> import nltk</P>\n",
    "<P>>>> nltk.download()</P>\n",
    "<P>This opens a window from which you can download various corpora and dictionaries from NLTK</P>\n"
   ]
  },
  {
   "cell_type": "code",
   "execution_count": 19,
   "id": "2bc658eb",
   "metadata": {},
   "outputs": [],
   "source": [
    "import nltk\n",
    "from nltk.corpus import cmudict\n",
    "d = cmudict.dict()"
   ]
  },
  {
   "cell_type": "code",
   "execution_count": 20,
   "id": "b75592ce",
   "metadata": {},
   "outputs": [],
   "source": [
    "def nsyl(word):\n",
    "    try:\n",
    "        return [len(list(y for y in x if y[-1].isdigit())) for x in d[word.lower()]]\n",
    "    except KeyError:\n",
    "        #if word not found in cmudict\n",
    "        return syllables(word)"
   ]
  },
  {
   "cell_type": "markdown",
   "id": "4e8bb31d",
   "metadata": {},
   "source": [
    "<A HREF=\"https://spacy.io/universe/project/spacy_syllables\">Spacy Syllables</A>"
   ]
  },
  {
   "cell_type": "code",
   "execution_count": null,
   "id": "ea04b8a3",
   "metadata": {},
   "outputs": [],
   "source": [
    "!pip install spacy_syllables"
   ]
  },
  {
   "cell_type": "code",
   "execution_count": 23,
   "id": "d7c2ae41",
   "metadata": {},
   "outputs": [],
   "source": [
    "import spacy\n",
    "from spacy_syllables import SpacySyllables"
   ]
  },
  {
   "cell_type": "code",
   "execution_count": 24,
   "id": "10151d5c",
   "metadata": {},
   "outputs": [
    {
     "name": "stderr",
     "output_type": "stream",
     "text": [
      "/home/muddy/.local/lib/python3.9/site-packages/spacy/util.py:877: UserWarning: [W095] Model 'en_core_web_sm' (3.3.0) was trained with spaCy v3.3 and may not be 100% compatible with the current version (3.4.2). If you see errors or degraded performance, download a newer compatible model or retrain your custom model with the current spaCy version. For more details and available updates, run: python -m spacy validate\n",
      "  warnings.warn(warn_msg)\n"
     ]
    },
    {
     "data": {
      "text/plain": [
       "[1,\n",
       " 3,\n",
       " 3,\n",
       " 2,\n",
       " 1,\n",
       " 1,\n",
       " 1,\n",
       " 1,\n",
       " 1,\n",
       " 2,\n",
       " 1,\n",
       " 2,\n",
       " 1,\n",
       " 2,\n",
       " 1,\n",
       " 1,\n",
       " 2,\n",
       " 1,\n",
       " 1,\n",
       " 2,\n",
       " 1,\n",
       " 2,\n",
       " 1,\n",
       " 3,\n",
       " 2,\n",
       " 1,\n",
       " 1,\n",
       " 1,\n",
       " 1,\n",
       " 2,\n",
       " 4,\n",
       " 1,\n",
       " 1,\n",
       " 4,\n",
       " 1,\n",
       " 5,\n",
       " 4,\n",
       " 1,\n",
       " 2,\n",
       " 1,\n",
       " 4,\n",
       " 1,\n",
       " 5,\n",
       " 1,\n",
       " 1,\n",
       " 1,\n",
       " 2,\n",
       " 1,\n",
       " 2,\n",
       " 1,\n",
       " 3,\n",
       " 1,\n",
       " 1,\n",
       " 1,\n",
       " 2,\n",
       " 1,\n",
       " 1,\n",
       " 1,\n",
       " 4,\n",
       " 2,\n",
       " 1,\n",
       " 3,\n",
       " 2,\n",
       " 1,\n",
       " 5,\n",
       " 1,\n",
       " 3,\n",
       " 4,\n",
       " 1,\n",
       " 4,\n",
       " 1,\n",
       " 2,\n",
       " 1,\n",
       " 5,\n",
       " 3,\n",
       " 1,\n",
       " 1,\n",
       " 1,\n",
       " 1,\n",
       " 2,\n",
       " 1,\n",
       " 2,\n",
       " 1,\n",
       " 1,\n",
       " 2,\n",
       " 2,\n",
       " 3,\n",
       " 1,\n",
       " 1,\n",
       " 2,\n",
       " 1,\n",
       " 1,\n",
       " 3,\n",
       " 1,\n",
       " 2,\n",
       " 1,\n",
       " 1,\n",
       " 1,\n",
       " 3,\n",
       " 1,\n",
       " 1,\n",
       " 2,\n",
       " 1,\n",
       " 2,\n",
       " 5,\n",
       " 1,\n",
       " 3,\n",
       " 1,\n",
       " 3,\n",
       " 3,\n",
       " 1,\n",
       " 2,\n",
       " 1,\n",
       " 2,\n",
       " 1,\n",
       " 1,\n",
       " 1,\n",
       " 2,\n",
       " 1,\n",
       " 1,\n",
       " 4,\n",
       " 1,\n",
       " 1,\n",
       " 4,\n",
       " 1,\n",
       " 1,\n",
       " 1,\n",
       " 1,\n",
       " 2,\n",
       " 1,\n",
       " 1,\n",
       " 1,\n",
       " 5,\n",
       " 1,\n",
       " 2,\n",
       " 1,\n",
       " 2,\n",
       " 2,\n",
       " 2,\n",
       " 1,\n",
       " 1,\n",
       " 2,\n",
       " 2,\n",
       " 1,\n",
       " 1,\n",
       " 1,\n",
       " 1,\n",
       " 1,\n",
       " 1,\n",
       " 5,\n",
       " 1,\n",
       " 1,\n",
       " 3,\n",
       " 2,\n",
       " 1,\n",
       " 2,\n",
       " 1,\n",
       " 3,\n",
       " 1,\n",
       " 1,\n",
       " 2,\n",
       " 1,\n",
       " 1,\n",
       " 1,\n",
       " 1,\n",
       " 1,\n",
       " 1,\n",
       " 1,\n",
       " 1,\n",
       " 1,\n",
       " 5,\n",
       " 2,\n",
       " 1,\n",
       " 1,\n",
       " 2,\n",
       " 1,\n",
       " 1,\n",
       " 3,\n",
       " 2,\n",
       " 2,\n",
       " 1,\n",
       " 1,\n",
       " 3,\n",
       " 1,\n",
       " 2,\n",
       " 3,\n",
       " 3,\n",
       " 1,\n",
       " 1,\n",
       " 3,\n",
       " 1,\n",
       " 1,\n",
       " 1,\n",
       " 2,\n",
       " 1,\n",
       " 2,\n",
       " 1,\n",
       " 2,\n",
       " 1,\n",
       " 3,\n",
       " 1,\n",
       " 1,\n",
       " 2,\n",
       " 1,\n",
       " 1,\n",
       " 2,\n",
       " 1,\n",
       " 1,\n",
       " 3,\n",
       " 1,\n",
       " 1,\n",
       " 1,\n",
       " 2,\n",
       " 2,\n",
       " 3,\n",
       " 2,\n",
       " 1,\n",
       " 1,\n",
       " 5,\n",
       " 1,\n",
       " 2,\n",
       " 2,\n",
       " 1,\n",
       " 3,\n",
       " 5,\n",
       " 1,\n",
       " 1,\n",
       " 1,\n",
       " 2,\n",
       " 1,\n",
       " 3,\n",
       " 1,\n",
       " 2,\n",
       " 1,\n",
       " 1,\n",
       " 1,\n",
       " 1,\n",
       " 2,\n",
       " 2,\n",
       " 1,\n",
       " 1,\n",
       " 1,\n",
       " 3,\n",
       " 1,\n",
       " 1,\n",
       " 2,\n",
       " 1,\n",
       " 2,\n",
       " 4,\n",
       " 1,\n",
       " 1,\n",
       " 2,\n",
       " 1,\n",
       " 1,\n",
       " 1,\n",
       " 3,\n",
       " 1,\n",
       " 2,\n",
       " 4,\n",
       " 1,\n",
       " 3,\n",
       " 5,\n",
       " 1,\n",
       " 1,\n",
       " 3,\n",
       " 1,\n",
       " 1,\n",
       " 2,\n",
       " 1,\n",
       " 1,\n",
       " 1,\n",
       " 2,\n",
       " 1,\n",
       " 4,\n",
       " 3,\n",
       " 1,\n",
       " 1,\n",
       " 1,\n",
       " 1,\n",
       " 1,\n",
       " 1,\n",
       " 2,\n",
       " 1,\n",
       " 1,\n",
       " 1,\n",
       " 2,\n",
       " 1,\n",
       " 1,\n",
       " 2,\n",
       " 1,\n",
       " 1,\n",
       " 1,\n",
       " 1,\n",
       " 3,\n",
       " 2,\n",
       " 1,\n",
       " 1,\n",
       " 1,\n",
       " 1,\n",
       " 1,\n",
       " 1,\n",
       " 1,\n",
       " 1,\n",
       " 1,\n",
       " 1,\n",
       " 1,\n",
       " 1,\n",
       " 1,\n",
       " 2,\n",
       " 1,\n",
       " 1,\n",
       " 1,\n",
       " 2,\n",
       " 1,\n",
       " 2,\n",
       " 1,\n",
       " 2,\n",
       " 1,\n",
       " 3,\n",
       " 1,\n",
       " 1,\n",
       " 2,\n",
       " 4,\n",
       " 1,\n",
       " 1,\n",
       " 1,\n",
       " 1,\n",
       " 2,\n",
       " 2,\n",
       " 1,\n",
       " 5,\n",
       " 3,\n",
       " 2,\n",
       " 1,\n",
       " 1,\n",
       " 1,\n",
       " 3,\n",
       " 1,\n",
       " 1,\n",
       " 2,\n",
       " 1,\n",
       " 1,\n",
       " 1,\n",
       " 1,\n",
       " 2,\n",
       " 1,\n",
       " 2,\n",
       " 3,\n",
       " 3,\n",
       " 2,\n",
       " 2,\n",
       " 2,\n",
       " 4,\n",
       " 2,\n",
       " 1,\n",
       " 3,\n",
       " 1,\n",
       " 2,\n",
       " 1,\n",
       " 1,\n",
       " 1,\n",
       " 1,\n",
       " 5,\n",
       " 1,\n",
       " 1,\n",
       " 5,\n",
       " 4,\n",
       " 2,\n",
       " 1,\n",
       " 2,\n",
       " 1,\n",
       " 2,\n",
       " 1,\n",
       " 1,\n",
       " 1,\n",
       " 3,\n",
       " 1,\n",
       " 1,\n",
       " 1,\n",
       " 1,\n",
       " 1,\n",
       " 2,\n",
       " 1,\n",
       " 2,\n",
       " 1,\n",
       " 2,\n",
       " 1,\n",
       " 5,\n",
       " 3,\n",
       " 1,\n",
       " 1,\n",
       " 1,\n",
       " 1,\n",
       " 2,\n",
       " 1,\n",
       " 2,\n",
       " 1,\n",
       " 1,\n",
       " 1,\n",
       " 1,\n",
       " 1,\n",
       " 1,\n",
       " 2,\n",
       " 1,\n",
       " 1,\n",
       " 1,\n",
       " 1,\n",
       " 1,\n",
       " 1,\n",
       " 3,\n",
       " 1,\n",
       " 3,\n",
       " 2,\n",
       " 1,\n",
       " 2,\n",
       " 1,\n",
       " 3,\n",
       " 1,\n",
       " 1,\n",
       " 1,\n",
       " 1,\n",
       " 3,\n",
       " 2,\n",
       " 3,\n",
       " 2,\n",
       " 1,\n",
       " 1,\n",
       " 1,\n",
       " 2,\n",
       " 1,\n",
       " 1,\n",
       " 1,\n",
       " 1,\n",
       " 1,\n",
       " 4,\n",
       " 1,\n",
       " 5,\n",
       " 1,\n",
       " 3,\n",
       " 1,\n",
       " 2,\n",
       " 1,\n",
       " 1,\n",
       " 2,\n",
       " 1,\n",
       " 1,\n",
       " 1,\n",
       " 2,\n",
       " 1,\n",
       " 1,\n",
       " 5,\n",
       " 4,\n",
       " 1,\n",
       " 2,\n",
       " 1,\n",
       " 2,\n",
       " 1,\n",
       " 2,\n",
       " 1,\n",
       " 1,\n",
       " 2,\n",
       " 1,\n",
       " 3,\n",
       " 1,\n",
       " 1,\n",
       " 4,\n",
       " 1,\n",
       " 3,\n",
       " 1,\n",
       " 1,\n",
       " 2,\n",
       " 1,\n",
       " 2,\n",
       " 2,\n",
       " 1,\n",
       " 1,\n",
       " 2,\n",
       " 1,\n",
       " 2,\n",
       " 1,\n",
       " 1,\n",
       " 1,\n",
       " 1,\n",
       " 1,\n",
       " 1,\n",
       " 1,\n",
       " 1,\n",
       " 1,\n",
       " 1,\n",
       " 1,\n",
       " 1,\n",
       " 2,\n",
       " 1,\n",
       " 1,\n",
       " 2,\n",
       " 2,\n",
       " 1,\n",
       " 1,\n",
       " 1,\n",
       " 2,\n",
       " 1,\n",
       " 2,\n",
       " 1,\n",
       " 2,\n",
       " 1,\n",
       " 1,\n",
       " 1,\n",
       " 1,\n",
       " 1,\n",
       " 2,\n",
       " 4,\n",
       " 1,\n",
       " 2,\n",
       " 1,\n",
       " 1,\n",
       " 4,\n",
       " 1,\n",
       " 1,\n",
       " 2,\n",
       " 1,\n",
       " 1,\n",
       " 1,\n",
       " 1,\n",
       " 2,\n",
       " 3,\n",
       " 3,\n",
       " 1,\n",
       " 1,\n",
       " 2,\n",
       " 3,\n",
       " 1,\n",
       " 1,\n",
       " 1,\n",
       " 1,\n",
       " 2,\n",
       " 1,\n",
       " 1,\n",
       " 1,\n",
       " 3,\n",
       " 1,\n",
       " 3,\n",
       " 1,\n",
       " 2,\n",
       " 2,\n",
       " 3,\n",
       " 1,\n",
       " 1,\n",
       " 2,\n",
       " 1,\n",
       " 1,\n",
       " 1,\n",
       " 1,\n",
       " 2,\n",
       " 1,\n",
       " 1,\n",
       " 2,\n",
       " 1,\n",
       " 1,\n",
       " 2,\n",
       " 1,\n",
       " 1,\n",
       " 2,\n",
       " 1,\n",
       " 2,\n",
       " 1,\n",
       " 1,\n",
       " 2,\n",
       " 1,\n",
       " 1,\n",
       " 1,\n",
       " 1,\n",
       " 1,\n",
       " 1,\n",
       " 2,\n",
       " 1,\n",
       " 1,\n",
       " 2,\n",
       " 1,\n",
       " 1,\n",
       " 2,\n",
       " 1,\n",
       " 2,\n",
       " 1,\n",
       " 3,\n",
       " 5,\n",
       " 1,\n",
       " 1,\n",
       " 3,\n",
       " 1,\n",
       " 1,\n",
       " 2,\n",
       " 1,\n",
       " 2,\n",
       " 2,\n",
       " 4,\n",
       " 1,\n",
       " 1,\n",
       " 2,\n",
       " 1,\n",
       " 1,\n",
       " 2,\n",
       " 2,\n",
       " 2,\n",
       " 1,\n",
       " 1,\n",
       " 1,\n",
       " 2,\n",
       " 1,\n",
       " 3,\n",
       " 1,\n",
       " 1,\n",
       " 1,\n",
       " 1,\n",
       " 1,\n",
       " 1,\n",
       " 1,\n",
       " 2,\n",
       " 1,\n",
       " 1,\n",
       " 1,\n",
       " 1,\n",
       " 4,\n",
       " 1,\n",
       " 1,\n",
       " 2,\n",
       " 1,\n",
       " 1,\n",
       " 1,\n",
       " 1,\n",
       " 1,\n",
       " 1,\n",
       " 1,\n",
       " 1,\n",
       " 2,\n",
       " 1,\n",
       " 1,\n",
       " 2,\n",
       " 1,\n",
       " 1,\n",
       " 1,\n",
       " 2]"
      ]
     },
     "execution_count": 24,
     "metadata": {},
     "output_type": "execute_result"
    }
   ],
   "source": [
    "nlp = spacy.load(\"en_core_web_sm\")\n",
    "nlp.add_pipe(\"syllables\", after=\"tagger\")\n",
    "\n",
    "assert nlp.pipe_names == [\"tok2vec\", \"tagger\", \"syllables\", \"parser\",  \"attribute_ruler\", \"lemmatizer\", \"ner\"]\n",
    "doc = nlp(speeches[87])\n",
    "data = [(token.text, token._.syllables, token._.syllables_count) for token in doc]\n",
    "# punctuation returns None, skip those\n",
    "[i[2] for i in data if i[2]!=None]"
   ]
  },
  {
   "cell_type": "code",
   "execution_count": 25,
   "id": "b86e4c3c",
   "metadata": {},
   "outputs": [
    {
     "data": {
      "text/plain": [
       "[('Good', ['good'], 1),\n",
       " ('afternoon', ['af', 'ter', 'noon'], 3),\n",
       " (',', None, None),\n",
       " ('everybody', ['ev', 'ery', 'body'], 3),\n",
       " ('.', None, None),\n",
       " ('Before', ['be', 'fore'], 2),\n",
       " ('Jay', ['jay'], 1),\n",
       " ('takes', ['takes'], 1),\n",
       " ('some', ['some'], 1),\n",
       " ('of', ['of'], 1),\n",
       " ('your', ['your'], 1),\n",
       " ('questions', ['ques', 'tions'], 2),\n",
       " (',', None, None),\n",
       " ('I', ['i'], 1),\n",
       " ('wanted', ['want', 'ed'], 2),\n",
       " ('to', ['to'], 1),\n",
       " ('provide', ['pro', 'vide'], 2),\n",
       " ('a', ['a'], 1),\n",
       " ('brief', ['brief'], 1),\n",
       " ('update', ['up', 'date'], 2),\n",
       " ('on', ['on'], 1),\n",
       " ('our', ['our'], 1),\n",
       " ('efforts', ['ef', 'forts'], 2),\n",
       " ('to', ['to'], 1),\n",
       " ('address', ['ad', 'dress'], 2),\n",
       " ('the', ['the'], 1),\n",
       " ('ongoing', ['on', 'go', 'ing'], 3),\n",
       " ('crisis', ['cri', 'sis'], 2),\n",
       " ('in', ['in'], 1),\n",
       " ('Ukraine', ['ukraine'], 1),\n",
       " ('.', None, None),\n",
       " ('Since', ['since'], 1),\n",
       " ('the', ['the'], 1),\n",
       " ('Russian', ['rus', 'sian'], 2),\n",
       " ('intervention', ['in', 'ter', 'ven', 'tion'], 4),\n",
       " (',', None, None),\n",
       " ('we', ['we'], 1),\n",
       " (\"'ve\", None, None),\n",
       " ('been', ['been'], 1),\n",
       " ('mobilizing', ['mo', 'bi', 'liz', 'ing'], 4),\n",
       " ('the', ['the'], 1),\n",
       " ('international', ['in', 'ter', 'na', 'tion', 'al'], 5),\n",
       " ('community', ['com', 'mu', 'ni', 'ty'], 4),\n",
       " ('to', ['to'], 1),\n",
       " ('condemn', ['con', 'demn'], 2),\n",
       " ('this', ['this'], 1),\n",
       " ('violation', ['vi', 'o', 'la', 'tion'], 4),\n",
       " ('of', ['of'], 1),\n",
       " ('international', ['in', 'ter', 'na', 'tion', 'al'], 5),\n",
       " ('law', ['law'], 1),\n",
       " ('and', ['and'], 1),\n",
       " ('to', ['to'], 1),\n",
       " ('support', ['sup', 'port'], 2),\n",
       " ('the', ['the'], 1),\n",
       " ('people', ['peo', 'ple'], 2),\n",
       " ('and', ['and'], 1),\n",
       " ('Government', ['gov', 'ern', 'ment'], 3),\n",
       " ('of', ['of'], 1),\n",
       " ('Ukraine', ['ukraine'], 1),\n",
       " ('.', None, None),\n",
       " ('This', ['this'], 1),\n",
       " ('morning', ['morn', 'ing'], 2),\n",
       " ('I', ['i'], 1),\n",
       " ('signed', ['signed'], 1),\n",
       " ('an', ['an'], 1),\n",
       " ('Executive', ['ex', 'ec', 'u', 'tive'], 4),\n",
       " ('order', ['or', 'der'], 2),\n",
       " ('that', ['that'], 1),\n",
       " ('authorizes', ['au', 'tho', 'rizes'], 3),\n",
       " ('sanctions', ['sanc', 'tions'], 2),\n",
       " ('on', ['on'], 1),\n",
       " ('individuals', ['in', 'di', 'vid', 'u', 'als'], 5),\n",
       " ('and', ['and'], 1),\n",
       " ('entities', ['en', 'ti', 'ties'], 3),\n",
       " ('responsible', ['re', 'spon', 'si', 'ble'], 4),\n",
       " ('for', ['for'], 1),\n",
       " ('violating', ['vi', 'o', 'lat', 'ing'], 4),\n",
       " ('the', ['the'], 1),\n",
       " ('sovereignty', ['sovereign', 'ty'], 2),\n",
       " ('and', ['and'], 1),\n",
       " ('territorial', ['ter', 'ri', 'to', 'ri', 'al'], 5),\n",
       " ('integrity', ['in', 'tegri', 'ty'], 3),\n",
       " ('of', ['of'], 1),\n",
       " ('Ukraine', ['ukraine'], 1),\n",
       " ('or', ['or'], 1),\n",
       " ('for', ['for'], 1),\n",
       " ('stealing', ['steal', 'ing'], 2),\n",
       " ('the', ['the'], 1),\n",
       " ('assets', ['as', 'sets'], 2),\n",
       " ('of', ['of'], 1),\n",
       " ('the', ['the'], 1),\n",
       " ('Ukrainian', ['ukrain', 'ian'], 2),\n",
       " ('people', ['peo', 'ple'], 2),\n",
       " ('.', None, None),\n",
       " ('According', ['ac', 'cord', 'ing'], 3),\n",
       " ('to', ['to'], 1),\n",
       " ('my', ['my'], 1),\n",
       " ('guidance', ['guid', 'ance'], 2),\n",
       " (',', None, None),\n",
       " ('the', ['the'], 1),\n",
       " ('State', ['state'], 1),\n",
       " ('Department', ['de', 'part', 'ment'], 3),\n",
       " ('has', ['has'], 1),\n",
       " ('also', ['al', 'so'], 2),\n",
       " ('put', ['put'], 1),\n",
       " ('in', ['in'], 1),\n",
       " ('place', ['place'], 1),\n",
       " ('restrictions', ['re', 'stric', 'tions'], 3),\n",
       " ('on', ['on'], 1),\n",
       " ('the', ['the'], 1),\n",
       " ('travel', ['trav', 'el'], 2),\n",
       " ('of', ['of'], 1),\n",
       " ('certain', ['cer', 'tain'], 2),\n",
       " ('individuals', ['in', 'di', 'vid', 'u', 'als'], 5),\n",
       " ('and', ['and'], 1),\n",
       " ('officials', ['of', 'fi', 'cials'], 3),\n",
       " ('.', None, None),\n",
       " ('These', ['these'], 1),\n",
       " ('decisions', ['de', 'ci', 'sions'], 3),\n",
       " ('continue', ['con', 'tin', 'ue'], 3),\n",
       " ('our', ['our'], 1),\n",
       " ('efforts', ['ef', 'forts'], 2),\n",
       " ('to', ['to'], 1),\n",
       " ('impose', ['im', 'pose'], 2),\n",
       " ('a', ['a'], 1),\n",
       " ('cost', ['cost'], 1),\n",
       " ('on', ['on'], 1),\n",
       " ('Russia', ['rus', 'sia'], 2),\n",
       " ('and', ['and'], 1),\n",
       " ('those', ['those'], 1),\n",
       " ('responsible', ['re', 'spon', 'si', 'ble'], 4),\n",
       " ('for', ['for'], 1),\n",
       " ('the', ['the'], 1),\n",
       " ('situation', ['sit', 'u', 'a', 'tion'], 4),\n",
       " ('in', ['in'], 1),\n",
       " ('Crimea', ['crimea'], 1),\n",
       " ('.', None, None),\n",
       " ('And', ['and'], 1),\n",
       " ('they', ['they'], 1),\n",
       " ('also', ['al', 'so'], 2),\n",
       " ('give', ['give'], 1),\n",
       " ('us', ['us'], 1),\n",
       " ('the', ['the'], 1),\n",
       " ('flexibility', ['flex', 'i', 'bil', 'i', 'ty'], 5),\n",
       " ('to', ['to'], 1),\n",
       " ('adjust', ['ad', 'just'], 2),\n",
       " ('our', ['our'], 1),\n",
       " ('response', ['re', 'sponse'], 2),\n",
       " ('going', ['go', 'ing'], 2),\n",
       " ('forward', ['for', 'ward'], 2),\n",
       " ('based', ['based'], 1),\n",
       " ('on', ['on'], 1),\n",
       " ('Russia', ['rus', 'sia'], 2),\n",
       " (\"'s\", None, None),\n",
       " ('actions', ['ac', 'tions'], 2),\n",
       " ('.', None, None),\n",
       " ('We', ['we'], 1),\n",
       " ('took', ['took'], 1),\n",
       " ('these', ['these'], 1),\n",
       " ('steps', ['steps'], 1),\n",
       " ('in', ['in'], 1),\n",
       " ('close', ['close'], 1),\n",
       " ('coordination', ['co', 'or', 'di', 'na', 'tion'], 5),\n",
       " ('with', ['with'], 1),\n",
       " ('our', ['our'], 1),\n",
       " ('European', ['eu', 'ro', 'pean'], 3),\n",
       " ('allies', ['al', 'lies'], 2),\n",
       " ('.', None, None),\n",
       " ('I', ['i'], 1),\n",
       " (\"'ve\", None, None),\n",
       " ('spoken', ['spo', 'ken'], 2),\n",
       " ('to', ['to'], 1),\n",
       " ('several', ['sev', 'er', 'al'], 3),\n",
       " ('of', ['of'], 1),\n",
       " ('our', ['our'], 1),\n",
       " ('closest', ['clos', 'est'], 2),\n",
       " ('friends', ['friends'], 1),\n",
       " ('around', ['around'], 1),\n",
       " ('the', ['the'], 1),\n",
       " ('world', ['world'], 1),\n",
       " (',', None, None),\n",
       " ('and', ['and'], 1),\n",
       " ('I', ['i'], 1),\n",
       " (\"'m\", None, None),\n",
       " ('pleased', ['pleased'], 1),\n",
       " ('that', ['that'], 1),\n",
       " ('our', ['our'], 1),\n",
       " ('international', ['in', 'ter', 'na', 'tion', 'al'], 5),\n",
       " ('unity', ['uni', 'ty'], 2),\n",
       " ('is', ['is'], 1),\n",
       " ('on', ['on'], 1),\n",
       " ('display', ['dis', 'play'], 2),\n",
       " ('at', ['at'], 1),\n",
       " ('this', ['this'], 1),\n",
       " ('important', ['im', 'por', 'tant'], 3),\n",
       " ('moment', ['mo', 'ment'], 2),\n",
       " ('.', None, None),\n",
       " ('Already', ['al', 'ready'], 2),\n",
       " (',', None, None),\n",
       " ('we', ['we'], 1),\n",
       " (\"'ve\", None, None),\n",
       " ('moved', ['moved'], 1),\n",
       " ('together', ['to', 'geth', 'er'], 3),\n",
       " ('to', ['to'], 1),\n",
       " ('announce', ['an', 'nounce'], 2),\n",
       " ('substantial', ['sub', 'stan', 'tial'], 3),\n",
       " ('assistance', ['as', 'sis', 'tance'], 3),\n",
       " ('for', ['for'], 1),\n",
       " ('the', ['the'], 1),\n",
       " ('Government', ['gov', 'ern', 'ment'], 3),\n",
       " ('in', ['in'], 1),\n",
       " ('Kiev', ['kiev'], 1),\n",
       " (',', None, None),\n",
       " ('and', ['and'], 1),\n",
       " ('today', ['to', 'day'], 2),\n",
       " ('in', ['in'], 1),\n",
       " ('Brussels', ['brus', 'sels'], 2),\n",
       " (',', None, None),\n",
       " ('our', ['our'], 1),\n",
       " ('allies', ['al', 'lies'], 2),\n",
       " ('took', ['took'], 1),\n",
       " ('similar', ['sim', 'i', 'lar'], 3),\n",
       " ('steps', ['steps'], 1),\n",
       " ('to', ['to'], 1),\n",
       " ('impose', ['im', 'pose'], 2),\n",
       " ('costs', ['costs'], 1),\n",
       " ('on', ['on'], 1),\n",
       " ('Russia', ['rus', 'sia'], 2),\n",
       " ('.', None, None),\n",
       " ('I', ['i'], 1),\n",
       " ('am', ['am'], 1),\n",
       " ('confident', ['con', 'fi', 'dent'], 3),\n",
       " ('that', ['that'], 1),\n",
       " ('we', ['we'], 1),\n",
       " ('are', ['are'], 1),\n",
       " ('moving', ['mov', 'ing'], 2),\n",
       " ('forward', ['for', 'ward'], 2),\n",
       " ('together', ['to', 'geth', 'er'], 3),\n",
       " (',', None, None),\n",
       " ('united', ['unit', 'ed'], 2),\n",
       " ('in', ['in'], 1),\n",
       " ('our', ['our'], 1),\n",
       " ('determination', ['de', 'ter', 'mi', 'na', 'tion'], 5),\n",
       " ('to', ['to'], 1),\n",
       " ('oppose', ['op', 'pose'], 2),\n",
       " ('actions', ['ac', 'tions'], 2),\n",
       " ('that', ['that'], 1),\n",
       " ('violate', ['vi', 'o', 'late'], 3),\n",
       " ('international', ['in', 'ter', 'na', 'tion', 'al'], 5),\n",
       " ('law', ['law'], 1),\n",
       " ('and', ['and'], 1),\n",
       " ('to', ['to'], 1),\n",
       " ('support', ['sup', 'port'], 2),\n",
       " ('the', ['the'], 1),\n",
       " ('Government', ['gov', 'ern', 'ment'], 3),\n",
       " ('and', ['and'], 1),\n",
       " ('people', ['peo', 'ple'], 2),\n",
       " ('of', ['of'], 1),\n",
       " ('Ukraine', ['ukraine'], 1),\n",
       " ('.', None, None),\n",
       " ('And', ['and'], 1),\n",
       " ('that', ['that'], 1),\n",
       " ('includes', ['in', 'cludes'], 2),\n",
       " ('standing', ['stand', 'ing'], 2),\n",
       " ('up', ['up'], 1),\n",
       " ('for', ['for'], 1),\n",
       " ('the', ['the'], 1),\n",
       " ('principle', ['prin', 'ci', 'ple'], 3),\n",
       " ('of', ['of'], 1),\n",
       " ('state', ['state'], 1),\n",
       " ('sovereignty', ['sovereign', 'ty'], 2),\n",
       " ('.', None, None),\n",
       " ('The', ['the'], 1),\n",
       " ('proposed', ['pro', 'posed'], 2),\n",
       " ('referendum', ['ref', 'er', 'en', 'dum'], 4),\n",
       " ('on', ['on'], 1),\n",
       " ('the', ['the'], 1),\n",
       " ('future', ['fu', 'ture'], 2),\n",
       " ('of', ['of'], 1),\n",
       " ('Crimea', ['crimea'], 1),\n",
       " ('would', ['would'], 1),\n",
       " ('violate', ['vi', 'o', 'late'], 3),\n",
       " ('the', ['the'], 1),\n",
       " ('Ukrainian', ['ukrain', 'ian'], 2),\n",
       " ('Constitution', ['con', 'sti', 'tu', 'tion'], 4),\n",
       " ('and', ['and'], 1),\n",
       " ('violate', ['vi', 'o', 'late'], 3),\n",
       " ('international', ['in', 'ter', 'na', 'tion', 'al'], 5),\n",
       " ('law', ['law'], 1),\n",
       " ('.', None, None),\n",
       " ('Any', ['any'], 1),\n",
       " ('discussion', ['dis', 'cus', 'sion'], 3),\n",
       " ('about', ['about'], 1),\n",
       " ('the', ['the'], 1),\n",
       " ('future', ['fu', 'ture'], 2),\n",
       " ('of', ['of'], 1),\n",
       " ('Ukraine', ['ukraine'], 1),\n",
       " ('must', ['must'], 1),\n",
       " ('include', ['in', 'clude'], 2),\n",
       " ('the', ['the'], 1),\n",
       " ('legitimate', ['le', 'git', 'i', 'mate'], 4),\n",
       " ('Government', ['gov', 'ern', 'ment'], 3),\n",
       " ('of', ['of'], 1),\n",
       " ('Ukraine', ['ukraine'], 1),\n",
       " ('.', None, None),\n",
       " ('In', ['in'], 1),\n",
       " ('2014', None, None),\n",
       " (',', None, None),\n",
       " ('we', ['we'], 1),\n",
       " ('are', ['are'], 1),\n",
       " ('well', ['well'], 1),\n",
       " ('beyond', ['be', 'yond'], 2),\n",
       " ('the', ['the'], 1),\n",
       " ('days', ['days'], 1),\n",
       " ('when', ['when'], 1),\n",
       " ('borders', ['bor', 'ders'], 2),\n",
       " ('can', ['can'], 1),\n",
       " ('be', ['be'], 1),\n",
       " ('redrawn', ['re', 'drawn'], 2),\n",
       " ('over', ['over'], 1),\n",
       " ('the', ['the'], 1),\n",
       " ('heads', ['heads'], 1),\n",
       " ('of', ['of'], 1),\n",
       " ('democratic', ['demo', 'crat', 'ic'], 3),\n",
       " ('leaders', ['lead', 'ers'], 2),\n",
       " ('.', None, None),\n",
       " ('While', ['while'], 1),\n",
       " ('we', ['we'], 1),\n",
       " ('take', ['take'], 1),\n",
       " ('these', ['these'], 1),\n",
       " ('steps', ['steps'], 1),\n",
       " (',', None, None),\n",
       " ('I', ['i'], 1),\n",
       " ('want', ['want'], 1),\n",
       " ('to', ['to'], 1),\n",
       " ('be', ['be'], 1),\n",
       " ('clear', ['clear'], 1),\n",
       " ('that', ['that'], 1),\n",
       " ('there', ['there'], 1),\n",
       " ('is', ['is'], 1),\n",
       " ('also', ['al', 'so'], 2),\n",
       " ('a', ['a'], 1),\n",
       " ('way', ['way'], 1),\n",
       " ('to', ['to'], 1),\n",
       " ('resolve', ['re', 'solve'], 2),\n",
       " ('this', ['this'], 1),\n",
       " ('crisis', ['cri', 'sis'], 2),\n",
       " ('that', ['that'], 1),\n",
       " ('respects', ['re', 'spects'], 2),\n",
       " ('the', ['the'], 1),\n",
       " ('interests', ['in', 'ter', 'ests'], 3),\n",
       " ('of', ['of'], 1),\n",
       " ('the', ['the'], 1),\n",
       " ('Russian', ['rus', 'sian'], 2),\n",
       " ('Federation', ['fed', 'er', 'a', 'tion'], 4),\n",
       " (',', None, None),\n",
       " ('as', ['as'], 1),\n",
       " ('well', ['well'], 1),\n",
       " ('as', ['as'], 1),\n",
       " ('the', ['the'], 1),\n",
       " ('Ukrainian', ['ukrain', 'ian'], 2),\n",
       " ('people', ['peo', 'ple'], 2),\n",
       " ('.', None, None),\n",
       " ('Let', ['let'], 1),\n",
       " ('international', ['in', 'ter', 'na', 'tion', 'al'], 5),\n",
       " ('monitors', ['mon', 'i', 'tors'], 3),\n",
       " ('into', ['in', 'to'], 2),\n",
       " ('all', ['all'], 1),\n",
       " ('of', ['of'], 1),\n",
       " ('Ukraine', ['ukraine'], 1),\n",
       " (',', None, None),\n",
       " ('including', ['in', 'clud', 'ing'], 3),\n",
       " ('Crimea', ['crimea'], 1),\n",
       " (',', None, None),\n",
       " ('to', ['to'], 1),\n",
       " ('ensure', ['en', 'sure'], 2),\n",
       " ('the', ['the'], 1),\n",
       " ('rights', ['rights'], 1),\n",
       " ('of', ['of'], 1),\n",
       " ('all', ['all'], 1),\n",
       " ('Ukrainians', ['ukraini', 'ans'], 2),\n",
       " ('are', ['are'], 1),\n",
       " ('being', ['be', 'ing'], 2),\n",
       " ('respected', ['re', 'spect', 'ed'], 3),\n",
       " (',', None, None),\n",
       " ('including', ['in', 'clud', 'ing'], 3),\n",
       " ('ethnic', ['eth', 'nic'], 2),\n",
       " ('Russians', ['rus', 'sians'], 2),\n",
       " ('.', None, None),\n",
       " ('Begin', ['be', 'gin'], 2),\n",
       " ('consultations', ['con', 'sul', 'ta', 'tions'], 4),\n",
       " ('between', ['be', 'tween'], 2),\n",
       " ('the', ['the'], 1),\n",
       " ('Government', ['gov', 'ern', 'ment'], 3),\n",
       " ('of', ['of'], 1),\n",
       " ('Russia', ['rus', 'sia'], 2),\n",
       " ('and', ['and'], 1),\n",
       " ('Ukraine', ['ukraine'], 1),\n",
       " (',', None, None),\n",
       " ('with', ['with'], 1),\n",
       " ('the', ['the'], 1),\n",
       " ('participation', ['par', 'tic', 'i', 'pa', 'tion'], 5),\n",
       " ('of', ['of'], 1),\n",
       " ('the', ['the'], 1),\n",
       " ('international', ['in', 'ter', 'na', 'tion', 'al'], 5),\n",
       " ('community', ['com', 'mu', 'ni', 'ty'], 4),\n",
       " ('.', None, None),\n",
       " ('Russia', ['rus', 'sia'], 2),\n",
       " ('would', ['would'], 1),\n",
       " ('maintain', ['main', 'tain'], 2),\n",
       " ('its', ['its'], 1),\n",
       " ('basing', ['bas', 'ing'], 2),\n",
       " ('rights', ['rights'], 1),\n",
       " ('in', ['in'], 1),\n",
       " ('Crimea', ['crimea'], 1),\n",
       " (',', None, None),\n",
       " ('provided', ['pro', 'vid', 'ed'], 3),\n",
       " ('that', ['that'], 1),\n",
       " ('it', ['it'], 1),\n",
       " ('abides', ['abides'], 1),\n",
       " ('by', ['by'], 1),\n",
       " ('its', ['its'], 1),\n",
       " ('agreements', ['agree', 'ments'], 2),\n",
       " ('and', ['and'], 1),\n",
       " ('respects', ['re', 'spects'], 2),\n",
       " ('Ukraine', ['ukraine'], 1),\n",
       " (\"'s\", None, None),\n",
       " ('sovereignty', ['sovereign', 'ty'], 2),\n",
       " ('and', ['and'], 1),\n",
       " ('territorial', ['ter', 'ri', 'to', 'ri', 'al'], 5),\n",
       " ('integrity', ['in', 'tegri', 'ty'], 3),\n",
       " ('.', None, None),\n",
       " ('And', ['and'], 1),\n",
       " ('the', ['the'], 1),\n",
       " ('world', ['world'], 1),\n",
       " ('should', ['should'], 1),\n",
       " ('support', ['sup', 'port'], 2),\n",
       " ('the', ['the'], 1),\n",
       " ('people', ['peo', 'ple'], 2),\n",
       " ('of', ['of'], 1),\n",
       " ('Ukraine', ['ukraine'], 1),\n",
       " ('as', ['as'], 1),\n",
       " ('they', ['they'], 1),\n",
       " ('move', ['move'], 1),\n",
       " ('to', ['to'], 1),\n",
       " ('elections', ['elec', 'tions'], 2),\n",
       " ('in', ['in'], 1),\n",
       " ('May', ['may'], 1),\n",
       " ('.', None, None),\n",
       " ('That', ['that'], 1),\n",
       " (\"'s\", None, None),\n",
       " ('the', ['the'], 1),\n",
       " ('path', ['path'], 1),\n",
       " ('of', ['of'], 1),\n",
       " ('deescalation', ['deesca', 'la', 'tion'], 3),\n",
       " (',', None, None),\n",
       " ('and', ['and'], 1),\n",
       " ('Secretary', ['sec', 're', 'tary'], 3),\n",
       " ('Kerry', ['ker', 'ry'], 2),\n",
       " ('is', ['is'], 1),\n",
       " ('engaged', ['en', 'gaged'], 2),\n",
       " ('in', ['in'], 1),\n",
       " ('discussions', ['dis', 'cus', 'sions'], 3),\n",
       " ('with', ['with'], 1),\n",
       " ('all', ['all'], 1),\n",
       " ('of', ['of'], 1),\n",
       " ('the', ['the'], 1),\n",
       " ('relevant', ['rel', 'e', 'vant'], 3),\n",
       " ('parties', ['par', 'ties'], 2),\n",
       " (',', None, None),\n",
       " ('including', ['in', 'clud', 'ing'], 3),\n",
       " ('Russia', ['rus', 'sia'], 2),\n",
       " ('and', ['and'], 1),\n",
       " ('Ukraine', ['ukraine'], 1),\n",
       " (',', None, None),\n",
       " ('to', ['to'], 1),\n",
       " ('pursue', ['pur', 'sue'], 2),\n",
       " ('that', ['that'], 1),\n",
       " ('path', ['path'], 1),\n",
       " ('.', None, None),\n",
       " ('But', ['but'], 1),\n",
       " ('if', ['if'], 1),\n",
       " ('this', ['this'], 1),\n",
       " ('violation', ['vi', 'o', 'la', 'tion'], 4),\n",
       " ('of', ['of'], 1),\n",
       " ('international', ['in', 'ter', 'na', 'tion', 'al'], 5),\n",
       " ('law', ['law'], 1),\n",
       " ('continues', ['con', 'tin', 'ues'], 3),\n",
       " (',', None, None),\n",
       " ('the', ['the'], 1),\n",
       " ('resolve', ['re', 'solve'], 2),\n",
       " ('of', ['of'], 1),\n",
       " ('the', ['the'], 1),\n",
       " ('United', ['unit', 'ed'], 2),\n",
       " ('States', ['states'], 1),\n",
       " ('and', ['and'], 1),\n",
       " ('our', ['our'], 1),\n",
       " ('allies', ['al', 'lies'], 2),\n",
       " ('and', ['and'], 1),\n",
       " ('the', ['the'], 1),\n",
       " ('international', ['in', 'ter', 'na', 'tion', 'al'], 5),\n",
       " ('community', ['com', 'mu', 'ni', 'ty'], 4),\n",
       " ('will', ['will'], 1),\n",
       " ('remain', ['re', 'main'], 2),\n",
       " ('firm', ['firm'], 1),\n",
       " ('.', None, None),\n",
       " ('Meanwhile', ['mean', 'while'], 2),\n",
       " (',', None, None),\n",
       " ('we', ['we'], 1),\n",
       " (\"'ve\", None, None),\n",
       " ('taken', ['tak', 'en'], 2),\n",
       " ('steps', ['steps'], 1),\n",
       " ('to', ['to'], 1),\n",
       " ('reaffirm', ['reaf', 'firm'], 2),\n",
       " ('our', ['our'], 1),\n",
       " ('commitment', ['com', 'mit', 'ment'], 3),\n",
       " ('to', ['to'], 1),\n",
       " ('the', ['the'], 1),\n",
       " ('security', ['se', 'cu', 'ri', 'ty'], 4),\n",
       " ('and', ['and'], 1),\n",
       " ('democracy', ['democ', 'ra', 'cy'], 3),\n",
       " ('of', ['of'], 1),\n",
       " ('our', ['our'], 1),\n",
       " ('allies', ['al', 'lies'], 2),\n",
       " ('in', ['in'], 1),\n",
       " ('Eastern', ['east', 'ern'], 2),\n",
       " ('Europe', ['eu', 'rope'], 2),\n",
       " ('and', ['and'], 1),\n",
       " ('to', ['to'], 1),\n",
       " ('support', ['sup', 'port'], 2),\n",
       " ('the', ['the'], 1),\n",
       " ('people', ['peo', 'ple'], 2),\n",
       " ('of', ['of'], 1),\n",
       " ('Ukraine', ['ukraine'], 1),\n",
       " ('.', None, None),\n",
       " ('One', ['one'], 1),\n",
       " ('last', ['last'], 1),\n",
       " ('point', ['point'], 1),\n",
       " (':', None, None),\n",
       " ('There', ['there'], 1),\n",
       " (\"'s\", None, None),\n",
       " ('been', ['been'], 1),\n",
       " ('a', ['a'], 1),\n",
       " ('lot', ['lot'], 1),\n",
       " ('of', ['of'], 1),\n",
       " ('talk', ['talk'], 1),\n",
       " ('in', ['in'], 1),\n",
       " ('Congress', ['con', 'gress'], 2),\n",
       " ('about', ['about'], 1),\n",
       " ('these', ['these'], 1),\n",
       " ('issues', ['is', 'sues'], 2),\n",
       " ('.', None, None),\n",
       " ('Today', ['to', 'day'], 2),\n",
       " (',', None, None),\n",
       " ('once', ['once'], 1),\n",
       " ('again', ['again'], 1),\n",
       " (',', None, None),\n",
       " ('I', ['i'], 1),\n",
       " (\"'m\", None, None),\n",
       " ('calling', ['call', 'ing'], 2),\n",
       " ('on', ['on'], 1),\n",
       " ('Congress', ['con', 'gress'], 2),\n",
       " ('to', ['to'], 1),\n",
       " ('follow', ['fol', 'low'], 2),\n",
       " ('up', ['up'], 1),\n",
       " ('on', ['on'], 1),\n",
       " ('these', ['these'], 1),\n",
       " ('words', ['words'], 1),\n",
       " ('with', ['with'], 1),\n",
       " ('action', ['ac', 'tion'], 2),\n",
       " (',', None, None),\n",
       " ('specifically', ['specif', 'i', 'cal', 'ly'], 4),\n",
       " ('to', ['to'], 1),\n",
       " ('support', ['sup', 'port'], 2),\n",
       " ('the', ['the'], 1),\n",
       " ('IMF', ['imf'], 1),\n",
       " (\"'s\", None, None),\n",
       " ('capacity', ['ca', 'pac', 'i', 'ty'], 4),\n",
       " ('to', ['to'], 1),\n",
       " ('lend', ['lend'], 1),\n",
       " ('resources', ['re', 'sources'], 2),\n",
       " ('to', ['to'], 1),\n",
       " ('Ukraine', ['ukraine'], 1),\n",
       " ('and', ['and'], 1),\n",
       " ('to', ['to'], 1),\n",
       " ('provide', ['pro', 'vide'], 2),\n",
       " ('American', ['amer', 'i', 'can'], 3),\n",
       " ('assistance', ['as', 'sis', 'tance'], 3),\n",
       " ('for', ['for'], 1),\n",
       " ('the', ['the'], 1),\n",
       " ('Ukrainian', ['ukrain', 'ian'], 2),\n",
       " ('Government', ['gov', 'ern', 'ment'], 3),\n",
       " ('so', ['so'], 1),\n",
       " ('that', ['that'], 1),\n",
       " ('they', ['they'], 1),\n",
       " ('can', ['can'], 1),\n",
       " ('weather', ['weath', 'er'], 2),\n",
       " ('this', ['this'], 1),\n",
       " ('storm', ['storm'], 1),\n",
       " ('and', ['and'], 1),\n",
       " ('stabilize', ['sta', 'bi', 'lize'], 3),\n",
       " ('their', ['their'], 1),\n",
       " ('economy', ['econ', 'o', 'my'], 3),\n",
       " (',', None, None),\n",
       " ('make', ['make'], 1),\n",
       " ('needed', ['need', 'ed'], 2),\n",
       " ('reforms', ['re', 'forms'], 2),\n",
       " (',', None, None),\n",
       " ('deliver', ['de', 'liv', 'er'], 3),\n",
       " ('for', ['for'], 1),\n",
       " ('their', ['their'], 1),\n",
       " ('people', ['peo', 'ple'], 2),\n",
       " (',', None, None),\n",
       " ('all', ['all'], 1),\n",
       " ('of', ['of'], 1),\n",
       " ('which', ['which'], 1),\n",
       " ('will', ['will'], 1),\n",
       " ('provide', ['pro', 'vide'], 2),\n",
       " ('a', ['a'], 1),\n",
       " ('smoother', ['smoother'], 1),\n",
       " ('pathway', ['path', 'way'], 2),\n",
       " ('for', ['for'], 1),\n",
       " ('the', ['the'], 1),\n",
       " ('elections', ['elec', 'tions'], 2),\n",
       " ('that', ['that'], 1),\n",
       " ('have', ['have'], 1),\n",
       " ('already', ['al', 'ready'], 2),\n",
       " ('been', ['been'], 1),\n",
       " ('scheduled', ['sched', 'uled'], 2),\n",
       " ('in', ['in'], 1),\n",
       " ('May', ['may'], 1),\n",
       " ('.', None, None),\n",
       " ('Today', ['to', 'day'], 2),\n",
       " ('the', ['the'], 1),\n",
       " ('world', ['world'], 1),\n",
       " ('can', ['can'], 1),\n",
       " ('see', ['see'], 1),\n",
       " ('that', ['that'], 1),\n",
       " ('the', ['the'], 1),\n",
       " ('United', ['unit', 'ed'], 2),\n",
       " ('States', ['states'], 1),\n",
       " ('is', ['is'], 1),\n",
       " ('united', ['unit', 'ed'], 2),\n",
       " ('with', ['with'], 1),\n",
       " ('our', ['our'], 1),\n",
       " ('allies', ['al', 'lies'], 2),\n",
       " ('and', ['and'], 1),\n",
       " ('partners', ['part', 'ners'], 2),\n",
       " ('in', ['in'], 1),\n",
       " ('upholding', ['up', 'hold', 'ing'], 3),\n",
       " ('international', ['in', 'ter', 'na', 'tion', 'al'], 5),\n",
       " ('law', ['law'], 1),\n",
       " ('and', ['and'], 1),\n",
       " ('pursuing', ['pur', 'su', 'ing'], 3),\n",
       " ('a', ['a'], 1),\n",
       " ('just', ['just'], 1),\n",
       " ('outcome', ['out', 'come'], 2),\n",
       " ('that', ['that'], 1),\n",
       " ('advances', ['ad', 'vances'], 2),\n",
       " ('global', ['glob', 'al'], 2),\n",
       " ('security', ['se', 'cu', 'ri', 'ty'], 4),\n",
       " ('and', ['and'], 1),\n",
       " ('the', ['the'], 1),\n",
       " ('future', ['fu', 'ture'], 2),\n",
       " ('that', ['that'], 1),\n",
       " ('the', ['the'], 1),\n",
       " ('Ukrainian', ['ukrain', 'ian'], 2),\n",
       " ('people', ['peo', 'ple'], 2),\n",
       " ('deserve', ['de', 'serve'], 2),\n",
       " ('.', None, None),\n",
       " ('That', ['that'], 1),\n",
       " (\"'s\", None, None),\n",
       " ('what', ['what'], 1),\n",
       " ('we', ['we'], 1),\n",
       " (\"'re\", None, None),\n",
       " ('going', ['go', 'ing'], 2),\n",
       " ('to', ['to'], 1),\n",
       " ('continue', ['con', 'tin', 'ue'], 3),\n",
       " ('to', ['to'], 1),\n",
       " ('do', ['do'], 1),\n",
       " ('in', ['in'], 1),\n",
       " ('the', ['the'], 1),\n",
       " ('days', ['days'], 1),\n",
       " ('to', ['to'], 1),\n",
       " ('come', ['come'], 1),\n",
       " ('until', ['un', 'til'], 2),\n",
       " ('we', ['we'], 1),\n",
       " ('have', ['have'], 1),\n",
       " ('seen', ['seen'], 1),\n",
       " ('a', ['a'], 1),\n",
       " ('resolution', ['res', 'o', 'lu', 'tion'], 4),\n",
       " ('to', ['to'], 1),\n",
       " ('this', ['this'], 1),\n",
       " ('crisis', ['cri', 'sis'], 2),\n",
       " ('.', None, None),\n",
       " ('Thanks', ['thanks'], 1),\n",
       " ('very', ['very'], 1),\n",
       " ('much', ['much'], 1),\n",
       " ('.', None, None),\n",
       " ('And', ['and'], 1),\n",
       " ('Jay', ['jay'], 1),\n",
       " ('and', ['and'], 1),\n",
       " ('Ben', ['ben'], 1),\n",
       " ('and', ['and'], 1),\n",
       " ('others', ['oth', 'ers'], 2),\n",
       " ('will', ['will'], 1),\n",
       " ('be', ['be'], 1),\n",
       " ('happy', ['hap', 'py'], 2),\n",
       " ('to', ['to'], 1),\n",
       " ('take', ['take'], 1),\n",
       " ('your', ['your'], 1),\n",
       " ('questions', ['ques', 'tions'], 2),\n",
       " ('.', None, None)]"
      ]
     },
     "execution_count": 25,
     "metadata": {},
     "output_type": "execute_result"
    }
   ],
   "source": [
    "data"
   ]
  },
  {
   "cell_type": "markdown",
   "id": "fb9a81b6",
   "metadata": {},
   "source": [
    "##  <a id=\"count_var\">New stuff, count variance</a>"
   ]
  },
  {
   "cell_type": "code",
   "execution_count": 81,
   "id": "fb85393e",
   "metadata": {},
   "outputs": [],
   "source": [
    "oba = pd.read_csv('sentence_depth.csv')\n",
    "oba = oba.query('source==\"oba\"')\n",
    "gwb = pd.read_csv('sentence_depth_gwb.csv')\n",
    "oba = oba[oba.sentence != '...']\n",
    "gwb = gwb[gwb.sentence != '...']"
   ]
  },
  {
   "cell_type": "code",
   "execution_count": 82,
   "id": "419de288",
   "metadata": {},
   "outputs": [],
   "source": [
    "def words_per_sentence(sentence):\n",
    "    '''returns: integer number of words in a sentence'''\n",
    "    tokenizer = RegexpTokenizer(r'\\w+')\n",
    "    tokens = tokenizer.tokenize(sentence)\n",
    "    return(len(tokens))\n",
    "\n",
    "def syllable_count(word):\n",
    "    '''backup syllable counter if word not in NLTK-CMU dictionary'''\n",
    "    #referred from stackoverflow.com/questions/14541303/count-the-number-of-syllables-in-a-word\n",
    "    count = 0\n",
    "    vowels = 'aeiouy'\n",
    "    word = word.lower()\n",
    "    try:\n",
    "        if word[0] in vowels:\n",
    "            count +=1\n",
    "    except:\n",
    "        count += 0\n",
    "    for index in range(1,len(word)):\n",
    "        if word[index] in vowels and word[index-1] not in vowels:\n",
    "            count +=1\n",
    "    if word.endswith('e'):\n",
    "        count -= 1\n",
    "    if word.endswith('le'):\n",
    "        count += 1\n",
    "    if count == 0:\n",
    "        count += 1\n",
    "    return count\n",
    "\n",
    "def chars_per_word(word):\n",
    "    '''returns: integer number of characters in a word'''\n",
    "    return(len(word))\n",
    "\n",
    "d = cmudict.dict()\n",
    "def nsyl(word):\n",
    "    '''input: string - word\n",
    "       returns: integer count of syllables in word'''\n",
    "    try:\n",
    "        # needs the [0] otherwise words like 'of' returns [1,1]\n",
    "        return [len(list(y for y in x if y[-1].isdigit())) for x in d[word.lower()]][0]\n",
    "    except KeyError:\n",
    "        #if word not found in cmudict\n",
    "        return syllable_count(word)"
   ]
  },
  {
   "cell_type": "code",
   "execution_count": 88,
   "id": "70f540ce",
   "metadata": {},
   "outputs": [],
   "source": [
    "oba['words_per_sent'] = oba.sentence.apply(words_per_sentence)\n",
    "gwb['words_per_sent'] = gwb.sentence.apply(words_per_sentence)\n",
    "oba['syllables_per_sent'] = [nsyl(word) for word in oba.sentence]\n",
    "gwb['syllables_per_sent'] = [nsyl(word) for word in gwb.sentence]\n",
    "oba['chars_per_sent'] = [chars_per_word(word) for word in oba.sentence]\n",
    "gwb['chars_per_sent'] = [chars_per_word(word) for word in gwb.sentence]"
   ]
  },
  {
   "cell_type": "code",
   "execution_count": 89,
   "id": "4e900c83",
   "metadata": {},
   "outputs": [
    {
     "data": {
      "text/html": [
       "<div>\n",
       "<style scoped>\n",
       "    .dataframe tbody tr th:only-of-type {\n",
       "        vertical-align: middle;\n",
       "    }\n",
       "\n",
       "    .dataframe tbody tr th {\n",
       "        vertical-align: top;\n",
       "    }\n",
       "\n",
       "    .dataframe thead th {\n",
       "        text-align: right;\n",
       "    }\n",
       "</style>\n",
       "<table border=\"1\" class=\"dataframe\">\n",
       "  <thead>\n",
       "    <tr style=\"text-align: right;\">\n",
       "      <th></th>\n",
       "      <th>depth</th>\n",
       "      <th>words_per_sent</th>\n",
       "      <th>syllables_per_sent</th>\n",
       "      <th>chars_per_sent</th>\n",
       "    </tr>\n",
       "    <tr>\n",
       "      <th>date</th>\n",
       "      <th></th>\n",
       "      <th></th>\n",
       "      <th></th>\n",
       "      <th></th>\n",
       "    </tr>\n",
       "  </thead>\n",
       "  <tbody>\n",
       "    <tr>\n",
       "      <th>2004-07-28</th>\n",
       "      <td>5.0</td>\n",
       "      <td>16.0</td>\n",
       "      <td>25.0</td>\n",
       "      <td>83.0</td>\n",
       "    </tr>\n",
       "    <tr>\n",
       "      <th>2008-06-04</th>\n",
       "      <td>6.0</td>\n",
       "      <td>23.0</td>\n",
       "      <td>35.0</td>\n",
       "      <td>125.0</td>\n",
       "    </tr>\n",
       "    <tr>\n",
       "      <th>2008-11-05</th>\n",
       "      <td>5.0</td>\n",
       "      <td>16.5</td>\n",
       "      <td>26.5</td>\n",
       "      <td>85.0</td>\n",
       "    </tr>\n",
       "    <tr>\n",
       "      <th>2009-01-05</th>\n",
       "      <td>6.0</td>\n",
       "      <td>18.5</td>\n",
       "      <td>31.0</td>\n",
       "      <td>110.5</td>\n",
       "    </tr>\n",
       "    <tr>\n",
       "      <th>2009-01-20</th>\n",
       "      <td>5.0</td>\n",
       "      <td>19.0</td>\n",
       "      <td>29.0</td>\n",
       "      <td>104.0</td>\n",
       "    </tr>\n",
       "    <tr>\n",
       "      <th>...</th>\n",
       "      <td>...</td>\n",
       "      <td>...</td>\n",
       "      <td>...</td>\n",
       "      <td>...</td>\n",
       "    </tr>\n",
       "    <tr>\n",
       "      <th>2016-07-28</th>\n",
       "      <td>4.0</td>\n",
       "      <td>14.0</td>\n",
       "      <td>19.5</td>\n",
       "      <td>70.5</td>\n",
       "    </tr>\n",
       "    <tr>\n",
       "      <th>2016-08-17</th>\n",
       "      <td>5.0</td>\n",
       "      <td>17.0</td>\n",
       "      <td>26.0</td>\n",
       "      <td>89.0</td>\n",
       "    </tr>\n",
       "    <tr>\n",
       "      <th>2016-09-05</th>\n",
       "      <td>5.0</td>\n",
       "      <td>18.0</td>\n",
       "      <td>30.0</td>\n",
       "      <td>107.5</td>\n",
       "    </tr>\n",
       "    <tr>\n",
       "      <th>2016-11-09</th>\n",
       "      <td>4.0</td>\n",
       "      <td>11.0</td>\n",
       "      <td>17.0</td>\n",
       "      <td>61.0</td>\n",
       "    </tr>\n",
       "    <tr>\n",
       "      <th>2017-01-11</th>\n",
       "      <td>5.0</td>\n",
       "      <td>16.0</td>\n",
       "      <td>24.0</td>\n",
       "      <td>87.0</td>\n",
       "    </tr>\n",
       "  </tbody>\n",
       "</table>\n",
       "<p>101 rows × 4 columns</p>\n",
       "</div>"
      ],
      "text/plain": [
       "            depth  words_per_sent  syllables_per_sent  chars_per_sent\n",
       "date                                                                 \n",
       "2004-07-28    5.0            16.0                25.0            83.0\n",
       "2008-06-04    6.0            23.0                35.0           125.0\n",
       "2008-11-05    5.0            16.5                26.5            85.0\n",
       "2009-01-05    6.0            18.5                31.0           110.5\n",
       "2009-01-20    5.0            19.0                29.0           104.0\n",
       "...           ...             ...                 ...             ...\n",
       "2016-07-28    4.0            14.0                19.5            70.5\n",
       "2016-08-17    5.0            17.0                26.0            89.0\n",
       "2016-09-05    5.0            18.0                30.0           107.5\n",
       "2016-11-09    4.0            11.0                17.0            61.0\n",
       "2017-01-11    5.0            16.0                24.0            87.0\n",
       "\n",
       "[101 rows x 4 columns]"
      ]
     },
     "execution_count": 89,
     "metadata": {},
     "output_type": "execute_result"
    }
   ],
   "source": [
    "oba.groupby(by='date').median(numeric_only=True)"
   ]
  },
  {
   "cell_type": "code",
   "execution_count": 90,
   "id": "a66e4ccb",
   "metadata": {},
   "outputs": [
    {
     "data": {
      "text/html": [
       "<div>\n",
       "<style scoped>\n",
       "    .dataframe tbody tr th:only-of-type {\n",
       "        vertical-align: middle;\n",
       "    }\n",
       "\n",
       "    .dataframe tbody tr th {\n",
       "        vertical-align: top;\n",
       "    }\n",
       "\n",
       "    .dataframe thead th {\n",
       "        text-align: right;\n",
       "    }\n",
       "</style>\n",
       "<table border=\"1\" class=\"dataframe\">\n",
       "  <thead>\n",
       "    <tr style=\"text-align: right;\">\n",
       "      <th></th>\n",
       "      <th>depth</th>\n",
       "      <th>words_per_sent</th>\n",
       "      <th>syllables_per_sent</th>\n",
       "      <th>chars_per_sent</th>\n",
       "    </tr>\n",
       "    <tr>\n",
       "      <th>date</th>\n",
       "      <th></th>\n",
       "      <th></th>\n",
       "      <th></th>\n",
       "      <th></th>\n",
       "    </tr>\n",
       "  </thead>\n",
       "  <tbody>\n",
       "    <tr>\n",
       "      <th>2001-01-20</th>\n",
       "      <td>4.520833</td>\n",
       "      <td>16.687500</td>\n",
       "      <td>27.125000</td>\n",
       "      <td>92.875000</td>\n",
       "    </tr>\n",
       "    <tr>\n",
       "      <th>2001-01-22</th>\n",
       "      <td>4.666667</td>\n",
       "      <td>14.142857</td>\n",
       "      <td>22.666667</td>\n",
       "      <td>77.285714</td>\n",
       "    </tr>\n",
       "    <tr>\n",
       "      <th>2001-01-29</th>\n",
       "      <td>5.409836</td>\n",
       "      <td>17.459016</td>\n",
       "      <td>29.180328</td>\n",
       "      <td>100.180328</td>\n",
       "    </tr>\n",
       "    <tr>\n",
       "      <th>2001-02-16</th>\n",
       "      <td>7.470588</td>\n",
       "      <td>24.058824</td>\n",
       "      <td>43.823529</td>\n",
       "      <td>148.382353</td>\n",
       "    </tr>\n",
       "    <tr>\n",
       "      <th>2001-03-29</th>\n",
       "      <td>5.115385</td>\n",
       "      <td>15.923077</td>\n",
       "      <td>26.730769</td>\n",
       "      <td>91.846154</td>\n",
       "    </tr>\n",
       "    <tr>\n",
       "      <th>...</th>\n",
       "      <td>...</td>\n",
       "      <td>...</td>\n",
       "      <td>...</td>\n",
       "      <td>...</td>\n",
       "    </tr>\n",
       "    <tr>\n",
       "      <th>2008-09-04</th>\n",
       "      <td>4.290323</td>\n",
       "      <td>14.512903</td>\n",
       "      <td>21.316129</td>\n",
       "      <td>76.758065</td>\n",
       "    </tr>\n",
       "    <tr>\n",
       "      <th>2008-09-07</th>\n",
       "      <td>6.777778</td>\n",
       "      <td>26.888889</td>\n",
       "      <td>51.333333</td>\n",
       "      <td>172.333333</td>\n",
       "    </tr>\n",
       "    <tr>\n",
       "      <th>2008-10-01</th>\n",
       "      <td>5.666667</td>\n",
       "      <td>18.333333</td>\n",
       "      <td>34.666667</td>\n",
       "      <td>120.000000</td>\n",
       "    </tr>\n",
       "    <tr>\n",
       "      <th>2008-10-03</th>\n",
       "      <td>6.214286</td>\n",
       "      <td>24.857143</td>\n",
       "      <td>49.107143</td>\n",
       "      <td>162.964286</td>\n",
       "    </tr>\n",
       "    <tr>\n",
       "      <th>2008-12-19</th>\n",
       "      <td>5.913043</td>\n",
       "      <td>22.739130</td>\n",
       "      <td>40.826087</td>\n",
       "      <td>137.891304</td>\n",
       "    </tr>\n",
       "  </tbody>\n",
       "</table>\n",
       "<p>84 rows × 4 columns</p>\n",
       "</div>"
      ],
      "text/plain": [
       "               depth  words_per_sent  syllables_per_sent  chars_per_sent\n",
       "date                                                                    \n",
       "2001-01-20  4.520833       16.687500           27.125000       92.875000\n",
       "2001-01-22  4.666667       14.142857           22.666667       77.285714\n",
       "2001-01-29  5.409836       17.459016           29.180328      100.180328\n",
       "2001-02-16  7.470588       24.058824           43.823529      148.382353\n",
       "2001-03-29  5.115385       15.923077           26.730769       91.846154\n",
       "...              ...             ...                 ...             ...\n",
       "2008-09-04  4.290323       14.512903           21.316129       76.758065\n",
       "2008-09-07  6.777778       26.888889           51.333333      172.333333\n",
       "2008-10-01  5.666667       18.333333           34.666667      120.000000\n",
       "2008-10-03  6.214286       24.857143           49.107143      162.964286\n",
       "2008-12-19  5.913043       22.739130           40.826087      137.891304\n",
       "\n",
       "[84 rows x 4 columns]"
      ]
     },
     "execution_count": 90,
     "metadata": {},
     "output_type": "execute_result"
    }
   ],
   "source": [
    "gwb.groupby('date').mean(numeric_only=True)"
   ]
  },
  {
   "cell_type": "code",
   "execution_count": 91,
   "id": "411681dd",
   "metadata": {},
   "outputs": [
    {
     "data": {
      "text/plain": [
       "depth                  2.720745\n",
       "words_per_sent        15.170840\n",
       "syllables_per_sent    23.818573\n",
       "chars_per_sent        83.720235\n",
       "char_count            67.295963\n",
       "syl_count             22.493601\n",
       "word_count            15.170840\n",
       "char_per_word          0.710575\n",
       "syl_per_word           0.281537\n",
       "sent_count             0.000000\n",
       "word_per_sent         15.170840\n",
       "dc_word_count          4.908326\n",
       "gf_word_count          2.186940\n",
       "poly_word_count        2.378188\n",
       "dc_word_perc           0.133151\n",
       "gf_word_perc           0.099248\n",
       "poly_word_perc         0.103054\n",
       "ari                    8.428412\n",
       "flesch_kincaid         6.849700\n",
       "coleman_liau           4.976491\n",
       "dale_chall             7.446929\n",
       "gunning_fog            7.211494\n",
       "smog                   4.876713\n",
       "dtype: float64"
      ]
     },
     "execution_count": 91,
     "metadata": {},
     "output_type": "execute_result"
    }
   ],
   "source": [
    "tree_depth.std(numeric_only=True)"
   ]
  },
  {
   "cell_type": "code",
   "execution_count": 92,
   "id": "23fa9c43",
   "metadata": {},
   "outputs": [
    {
     "data": {
      "text/plain": [
       "depth                  2.679265\n",
       "words_per_sent        13.313618\n",
       "syllables_per_sent    21.737954\n",
       "chars_per_sent        75.727997\n",
       "dtype: float64"
      ]
     },
     "execution_count": 92,
     "metadata": {},
     "output_type": "execute_result"
    }
   ],
   "source": [
    "oba.std(numeric_only=True)"
   ]
  },
  {
   "cell_type": "code",
   "execution_count": 93,
   "id": "e514da13",
   "metadata": {},
   "outputs": [
    {
     "data": {
      "text/plain": [
       "depth                  2.375964\n",
       "words_per_sent        10.469767\n",
       "syllables_per_sent    18.370612\n",
       "chars_per_sent        62.809473\n",
       "dtype: float64"
      ]
     },
     "execution_count": 93,
     "metadata": {},
     "output_type": "execute_result"
    }
   ],
   "source": [
    "gwb.std(numeric_only=True)"
   ]
  },
  {
   "cell_type": "code",
   "execution_count": 94,
   "id": "49a5adc6",
   "metadata": {},
   "outputs": [
    {
     "ename": "NameError",
     "evalue": "name 'variance_oba' is not defined",
     "output_type": "error",
     "traceback": [
      "\u001b[0;31m---------------------------------------------------------------------------\u001b[0m",
      "\u001b[0;31mNameError\u001b[0m                                 Traceback (most recent call last)",
      "Cell \u001b[0;32mIn[94], line 1\u001b[0m\n\u001b[0;32m----> 1\u001b[0m \u001b[43mvariance_oba\u001b[49m[\u001b[38;5;124m'\u001b[39m\u001b[38;5;124msentence_count\u001b[39m\u001b[38;5;124m'\u001b[39m] \u001b[38;5;241m=\u001b[39m oba\u001b[38;5;241m.\u001b[39mgroupby(by\u001b[38;5;241m=\u001b[39m\u001b[38;5;124m'\u001b[39m\u001b[38;5;124mdate\u001b[39m\u001b[38;5;124m'\u001b[39m)\u001b[38;5;241m.\u001b[39msize()\n\u001b[1;32m      2\u001b[0m variance_gwb[\u001b[38;5;124m'\u001b[39m\u001b[38;5;124msentence_count\u001b[39m\u001b[38;5;124m'\u001b[39m] \u001b[38;5;241m=\u001b[39m gwb\u001b[38;5;241m.\u001b[39mgroupby(by\u001b[38;5;241m=\u001b[39m\u001b[38;5;124m'\u001b[39m\u001b[38;5;124mdate\u001b[39m\u001b[38;5;124m'\u001b[39m)\u001b[38;5;241m.\u001b[39msize()\n",
      "\u001b[0;31mNameError\u001b[0m: name 'variance_oba' is not defined"
     ]
    }
   ],
   "source": [
    "variance_oba['sentence_count'] = oba.groupby(by='date').size()\n",
    "variance_gwb['sentence_count'] = gwb.groupby(by='date').size()"
   ]
  },
  {
   "cell_type": "code",
   "execution_count": 95,
   "id": "ad39ffc6",
   "metadata": {},
   "outputs": [
    {
     "data": {
      "text/html": [
       "<div>\n",
       "<style scoped>\n",
       "    .dataframe tbody tr th:only-of-type {\n",
       "        vertical-align: middle;\n",
       "    }\n",
       "\n",
       "    .dataframe tbody tr th {\n",
       "        vertical-align: top;\n",
       "    }\n",
       "\n",
       "    .dataframe thead th {\n",
       "        text-align: right;\n",
       "    }\n",
       "</style>\n",
       "<table border=\"1\" class=\"dataframe\">\n",
       "  <thead>\n",
       "    <tr style=\"text-align: right;\">\n",
       "      <th></th>\n",
       "      <th>depth_med</th>\n",
       "      <th>words_per_sent_med</th>\n",
       "      <th>syllables_per_sent_med</th>\n",
       "      <th>chars_per_sent_med</th>\n",
       "    </tr>\n",
       "    <tr>\n",
       "      <th>date</th>\n",
       "      <th></th>\n",
       "      <th></th>\n",
       "      <th></th>\n",
       "      <th></th>\n",
       "    </tr>\n",
       "  </thead>\n",
       "  <tbody>\n",
       "    <tr>\n",
       "      <th>2001-01-20</th>\n",
       "      <td>4.0</td>\n",
       "      <td>15.0</td>\n",
       "      <td>25.5</td>\n",
       "      <td>85.5</td>\n",
       "    </tr>\n",
       "    <tr>\n",
       "      <th>2001-01-22</th>\n",
       "      <td>4.0</td>\n",
       "      <td>12.0</td>\n",
       "      <td>18.0</td>\n",
       "      <td>63.0</td>\n",
       "    </tr>\n",
       "    <tr>\n",
       "      <th>2001-01-29</th>\n",
       "      <td>5.0</td>\n",
       "      <td>15.0</td>\n",
       "      <td>25.0</td>\n",
       "      <td>85.0</td>\n",
       "    </tr>\n",
       "    <tr>\n",
       "      <th>2001-02-16</th>\n",
       "      <td>7.0</td>\n",
       "      <td>22.5</td>\n",
       "      <td>42.0</td>\n",
       "      <td>144.0</td>\n",
       "    </tr>\n",
       "    <tr>\n",
       "      <th>2001-03-29</th>\n",
       "      <td>5.0</td>\n",
       "      <td>15.0</td>\n",
       "      <td>25.5</td>\n",
       "      <td>89.0</td>\n",
       "    </tr>\n",
       "    <tr>\n",
       "      <th>...</th>\n",
       "      <td>...</td>\n",
       "      <td>...</td>\n",
       "      <td>...</td>\n",
       "      <td>...</td>\n",
       "    </tr>\n",
       "    <tr>\n",
       "      <th>2008-09-04</th>\n",
       "      <td>4.0</td>\n",
       "      <td>12.0</td>\n",
       "      <td>18.0</td>\n",
       "      <td>67.0</td>\n",
       "    </tr>\n",
       "    <tr>\n",
       "      <th>2008-09-07</th>\n",
       "      <td>6.0</td>\n",
       "      <td>28.0</td>\n",
       "      <td>52.0</td>\n",
       "      <td>169.0</td>\n",
       "    </tr>\n",
       "    <tr>\n",
       "      <th>2008-10-01</th>\n",
       "      <td>6.0</td>\n",
       "      <td>20.0</td>\n",
       "      <td>40.0</td>\n",
       "      <td>131.5</td>\n",
       "    </tr>\n",
       "    <tr>\n",
       "      <th>2008-10-03</th>\n",
       "      <td>7.0</td>\n",
       "      <td>23.0</td>\n",
       "      <td>50.0</td>\n",
       "      <td>157.0</td>\n",
       "    </tr>\n",
       "    <tr>\n",
       "      <th>2008-12-19</th>\n",
       "      <td>6.0</td>\n",
       "      <td>23.0</td>\n",
       "      <td>40.0</td>\n",
       "      <td>135.5</td>\n",
       "    </tr>\n",
       "  </tbody>\n",
       "</table>\n",
       "<p>84 rows × 4 columns</p>\n",
       "</div>"
      ],
      "text/plain": [
       "            depth_med  words_per_sent_med  syllables_per_sent_med  \\\n",
       "date                                                                \n",
       "2001-01-20        4.0                15.0                    25.5   \n",
       "2001-01-22        4.0                12.0                    18.0   \n",
       "2001-01-29        5.0                15.0                    25.0   \n",
       "2001-02-16        7.0                22.5                    42.0   \n",
       "2001-03-29        5.0                15.0                    25.5   \n",
       "...               ...                 ...                     ...   \n",
       "2008-09-04        4.0                12.0                    18.0   \n",
       "2008-09-07        6.0                28.0                    52.0   \n",
       "2008-10-01        6.0                20.0                    40.0   \n",
       "2008-10-03        7.0                23.0                    50.0   \n",
       "2008-12-19        6.0                23.0                    40.0   \n",
       "\n",
       "            chars_per_sent_med  \n",
       "date                            \n",
       "2001-01-20                85.5  \n",
       "2001-01-22                63.0  \n",
       "2001-01-29                85.0  \n",
       "2001-02-16               144.0  \n",
       "2001-03-29                89.0  \n",
       "...                        ...  \n",
       "2008-09-04                67.0  \n",
       "2008-09-07               169.0  \n",
       "2008-10-01               131.5  \n",
       "2008-10-03               157.0  \n",
       "2008-12-19               135.5  \n",
       "\n",
       "[84 rows x 4 columns]"
      ]
     },
     "execution_count": 95,
     "metadata": {},
     "output_type": "execute_result"
    }
   ],
   "source": [
    "oba_std = oba.groupby(by='date').std(numeric_only=True).add_suffix('_std')\n",
    "gwb_std = gwb.groupby(by='date').std(numeric_only=True).add_suffix('_std')\n",
    "oba.groupby(by='date').mean(numeric_only=True).add_suffix('_mean')\n",
    "gwb.groupby(by='date').mean(numeric_only=True).add_suffix('_mean')\n",
    "oba.groupby(by='date').median(numeric_only=True).add_suffix('_med')\n",
    "gwb.groupby(by='date').median(numeric_only=True).add_suffix('_med')"
   ]
  },
  {
   "cell_type": "code",
   "execution_count": 96,
   "id": "ce05b828",
   "metadata": {},
   "outputs": [
    {
     "data": {
      "text/plain": [
       "2.6792646674365406"
      ]
     },
     "execution_count": 96,
     "metadata": {},
     "output_type": "execute_result"
    }
   ],
   "source": [
    "oba.depth.std()"
   ]
  },
  {
   "cell_type": "code",
   "execution_count": 97,
   "id": "9170f16e",
   "metadata": {},
   "outputs": [
    {
     "data": {
      "text/plain": [
       "2.375963784209193"
      ]
     },
     "execution_count": 97,
     "metadata": {},
     "output_type": "execute_result"
    }
   ],
   "source": [
    "gwb.depth.std()"
   ]
  },
  {
   "cell_type": "code",
   "execution_count": 98,
   "id": "d6025185",
   "metadata": {},
   "outputs": [
    {
     "data": {
      "text/plain": [
       "15.514284981688279"
      ]
     },
     "execution_count": 98,
     "metadata": {},
     "output_type": "execute_result"
    }
   ],
   "source": [
    "oba.query('date == \"2009-01-20\"').words_per_sent.std()"
   ]
  },
  {
   "cell_type": "code",
   "execution_count": 99,
   "id": "7aa25d79",
   "metadata": {},
   "outputs": [
    {
     "data": {
      "application/vnd.plotly.v1+json": {
       "config": {
        "plotlyServerURL": "https://plot.ly"
       },
       "data": [
        {
         "hovertemplate": "variable=words_per_sent<br>index=%{x}<br>value=%{y}<extra></extra>",
         "legendgroup": "words_per_sent",
         "line": {
          "color": "#636efa",
          "dash": "solid"
         },
         "marker": {
          "symbol": "circle"
         },
         "mode": "lines",
         "name": "words_per_sent",
         "orientation": "v",
         "showlegend": true,
         "type": "scatter",
         "x": [
          464,
          465,
          466,
          467,
          468,
          469,
          470,
          471,
          472,
          473,
          474,
          475,
          476,
          477,
          478,
          479,
          480,
          481,
          482,
          483,
          484,
          485,
          486,
          487,
          488,
          489,
          490,
          491,
          492,
          493,
          494,
          495,
          496,
          497,
          498,
          499,
          500,
          501,
          502,
          503,
          504,
          505,
          506,
          507,
          508,
          509,
          510,
          511,
          512,
          513,
          514,
          515,
          516,
          517,
          518,
          519,
          520,
          521,
          522,
          523,
          524,
          525,
          526,
          527,
          528,
          529,
          530,
          531,
          532,
          533,
          534,
          535,
          536,
          537,
          538,
          539,
          540,
          541,
          542,
          543,
          544,
          545,
          546,
          547,
          548,
          549,
          550,
          551,
          552,
          553,
          554,
          555,
          556,
          557,
          558,
          559,
          560,
          561,
          562,
          563,
          564,
          565,
          566,
          567,
          568,
          569,
          570,
          571,
          572,
          573,
          574
         ],
         "xaxis": "x",
         "y": [
          43,
          4,
          28,
          23,
          9,
          16,
          14,
          41,
          4,
          9,
          12,
          14,
          33,
          8,
          30,
          11,
          31,
          12,
          7,
          13,
          8,
          19,
          31,
          20,
          52,
          15,
          4,
          13,
          26,
          38,
          19,
          21,
          16,
          25,
          23,
          7,
          9,
          11,
          24,
          4,
          20,
          18,
          10,
          29,
          21,
          23,
          19,
          18,
          5,
          5,
          22,
          4,
          28,
          29,
          39,
          10,
          8,
          45,
          44,
          11,
          50,
          17,
          36,
          16,
          49,
          8,
          23,
          19,
          32,
          7,
          24,
          18,
          24,
          45,
          9,
          13,
          14,
          85,
          17,
          36,
          42,
          30,
          36,
          11,
          29,
          19,
          31,
          22,
          26,
          37,
          28,
          5,
          10,
          26,
          4,
          11,
          10,
          68,
          9,
          19,
          61,
          18,
          28,
          4,
          4,
          6,
          64,
          20,
          18,
          59,
          13
         ],
         "yaxis": "y"
        }
       ],
       "layout": {
        "legend": {
         "title": {
          "text": "variable"
         },
         "tracegroupgap": 0
        },
        "margin": {
         "t": 60
        },
        "template": {
         "data": {
          "bar": [
           {
            "error_x": {
             "color": "#2a3f5f"
            },
            "error_y": {
             "color": "#2a3f5f"
            },
            "marker": {
             "line": {
              "color": "#E5ECF6",
              "width": 0.5
             },
             "pattern": {
              "fillmode": "overlay",
              "size": 10,
              "solidity": 0.2
             }
            },
            "type": "bar"
           }
          ],
          "barpolar": [
           {
            "marker": {
             "line": {
              "color": "#E5ECF6",
              "width": 0.5
             },
             "pattern": {
              "fillmode": "overlay",
              "size": 10,
              "solidity": 0.2
             }
            },
            "type": "barpolar"
           }
          ],
          "carpet": [
           {
            "aaxis": {
             "endlinecolor": "#2a3f5f",
             "gridcolor": "white",
             "linecolor": "white",
             "minorgridcolor": "white",
             "startlinecolor": "#2a3f5f"
            },
            "baxis": {
             "endlinecolor": "#2a3f5f",
             "gridcolor": "white",
             "linecolor": "white",
             "minorgridcolor": "white",
             "startlinecolor": "#2a3f5f"
            },
            "type": "carpet"
           }
          ],
          "choropleth": [
           {
            "colorbar": {
             "outlinewidth": 0,
             "ticks": ""
            },
            "type": "choropleth"
           }
          ],
          "contour": [
           {
            "colorbar": {
             "outlinewidth": 0,
             "ticks": ""
            },
            "colorscale": [
             [
              0,
              "#0d0887"
             ],
             [
              0.1111111111111111,
              "#46039f"
             ],
             [
              0.2222222222222222,
              "#7201a8"
             ],
             [
              0.3333333333333333,
              "#9c179e"
             ],
             [
              0.4444444444444444,
              "#bd3786"
             ],
             [
              0.5555555555555556,
              "#d8576b"
             ],
             [
              0.6666666666666666,
              "#ed7953"
             ],
             [
              0.7777777777777778,
              "#fb9f3a"
             ],
             [
              0.8888888888888888,
              "#fdca26"
             ],
             [
              1,
              "#f0f921"
             ]
            ],
            "type": "contour"
           }
          ],
          "contourcarpet": [
           {
            "colorbar": {
             "outlinewidth": 0,
             "ticks": ""
            },
            "type": "contourcarpet"
           }
          ],
          "heatmap": [
           {
            "colorbar": {
             "outlinewidth": 0,
             "ticks": ""
            },
            "colorscale": [
             [
              0,
              "#0d0887"
             ],
             [
              0.1111111111111111,
              "#46039f"
             ],
             [
              0.2222222222222222,
              "#7201a8"
             ],
             [
              0.3333333333333333,
              "#9c179e"
             ],
             [
              0.4444444444444444,
              "#bd3786"
             ],
             [
              0.5555555555555556,
              "#d8576b"
             ],
             [
              0.6666666666666666,
              "#ed7953"
             ],
             [
              0.7777777777777778,
              "#fb9f3a"
             ],
             [
              0.8888888888888888,
              "#fdca26"
             ],
             [
              1,
              "#f0f921"
             ]
            ],
            "type": "heatmap"
           }
          ],
          "heatmapgl": [
           {
            "colorbar": {
             "outlinewidth": 0,
             "ticks": ""
            },
            "colorscale": [
             [
              0,
              "#0d0887"
             ],
             [
              0.1111111111111111,
              "#46039f"
             ],
             [
              0.2222222222222222,
              "#7201a8"
             ],
             [
              0.3333333333333333,
              "#9c179e"
             ],
             [
              0.4444444444444444,
              "#bd3786"
             ],
             [
              0.5555555555555556,
              "#d8576b"
             ],
             [
              0.6666666666666666,
              "#ed7953"
             ],
             [
              0.7777777777777778,
              "#fb9f3a"
             ],
             [
              0.8888888888888888,
              "#fdca26"
             ],
             [
              1,
              "#f0f921"
             ]
            ],
            "type": "heatmapgl"
           }
          ],
          "histogram": [
           {
            "marker": {
             "pattern": {
              "fillmode": "overlay",
              "size": 10,
              "solidity": 0.2
             }
            },
            "type": "histogram"
           }
          ],
          "histogram2d": [
           {
            "colorbar": {
             "outlinewidth": 0,
             "ticks": ""
            },
            "colorscale": [
             [
              0,
              "#0d0887"
             ],
             [
              0.1111111111111111,
              "#46039f"
             ],
             [
              0.2222222222222222,
              "#7201a8"
             ],
             [
              0.3333333333333333,
              "#9c179e"
             ],
             [
              0.4444444444444444,
              "#bd3786"
             ],
             [
              0.5555555555555556,
              "#d8576b"
             ],
             [
              0.6666666666666666,
              "#ed7953"
             ],
             [
              0.7777777777777778,
              "#fb9f3a"
             ],
             [
              0.8888888888888888,
              "#fdca26"
             ],
             [
              1,
              "#f0f921"
             ]
            ],
            "type": "histogram2d"
           }
          ],
          "histogram2dcontour": [
           {
            "colorbar": {
             "outlinewidth": 0,
             "ticks": ""
            },
            "colorscale": [
             [
              0,
              "#0d0887"
             ],
             [
              0.1111111111111111,
              "#46039f"
             ],
             [
              0.2222222222222222,
              "#7201a8"
             ],
             [
              0.3333333333333333,
              "#9c179e"
             ],
             [
              0.4444444444444444,
              "#bd3786"
             ],
             [
              0.5555555555555556,
              "#d8576b"
             ],
             [
              0.6666666666666666,
              "#ed7953"
             ],
             [
              0.7777777777777778,
              "#fb9f3a"
             ],
             [
              0.8888888888888888,
              "#fdca26"
             ],
             [
              1,
              "#f0f921"
             ]
            ],
            "type": "histogram2dcontour"
           }
          ],
          "mesh3d": [
           {
            "colorbar": {
             "outlinewidth": 0,
             "ticks": ""
            },
            "type": "mesh3d"
           }
          ],
          "parcoords": [
           {
            "line": {
             "colorbar": {
              "outlinewidth": 0,
              "ticks": ""
             }
            },
            "type": "parcoords"
           }
          ],
          "pie": [
           {
            "automargin": true,
            "type": "pie"
           }
          ],
          "scatter": [
           {
            "fillpattern": {
             "fillmode": "overlay",
             "size": 10,
             "solidity": 0.2
            },
            "type": "scatter"
           }
          ],
          "scatter3d": [
           {
            "line": {
             "colorbar": {
              "outlinewidth": 0,
              "ticks": ""
             }
            },
            "marker": {
             "colorbar": {
              "outlinewidth": 0,
              "ticks": ""
             }
            },
            "type": "scatter3d"
           }
          ],
          "scattercarpet": [
           {
            "marker": {
             "colorbar": {
              "outlinewidth": 0,
              "ticks": ""
             }
            },
            "type": "scattercarpet"
           }
          ],
          "scattergeo": [
           {
            "marker": {
             "colorbar": {
              "outlinewidth": 0,
              "ticks": ""
             }
            },
            "type": "scattergeo"
           }
          ],
          "scattergl": [
           {
            "marker": {
             "colorbar": {
              "outlinewidth": 0,
              "ticks": ""
             }
            },
            "type": "scattergl"
           }
          ],
          "scattermapbox": [
           {
            "marker": {
             "colorbar": {
              "outlinewidth": 0,
              "ticks": ""
             }
            },
            "type": "scattermapbox"
           }
          ],
          "scatterpolar": [
           {
            "marker": {
             "colorbar": {
              "outlinewidth": 0,
              "ticks": ""
             }
            },
            "type": "scatterpolar"
           }
          ],
          "scatterpolargl": [
           {
            "marker": {
             "colorbar": {
              "outlinewidth": 0,
              "ticks": ""
             }
            },
            "type": "scatterpolargl"
           }
          ],
          "scatterternary": [
           {
            "marker": {
             "colorbar": {
              "outlinewidth": 0,
              "ticks": ""
             }
            },
            "type": "scatterternary"
           }
          ],
          "surface": [
           {
            "colorbar": {
             "outlinewidth": 0,
             "ticks": ""
            },
            "colorscale": [
             [
              0,
              "#0d0887"
             ],
             [
              0.1111111111111111,
              "#46039f"
             ],
             [
              0.2222222222222222,
              "#7201a8"
             ],
             [
              0.3333333333333333,
              "#9c179e"
             ],
             [
              0.4444444444444444,
              "#bd3786"
             ],
             [
              0.5555555555555556,
              "#d8576b"
             ],
             [
              0.6666666666666666,
              "#ed7953"
             ],
             [
              0.7777777777777778,
              "#fb9f3a"
             ],
             [
              0.8888888888888888,
              "#fdca26"
             ],
             [
              1,
              "#f0f921"
             ]
            ],
            "type": "surface"
           }
          ],
          "table": [
           {
            "cells": {
             "fill": {
              "color": "#EBF0F8"
             },
             "line": {
              "color": "white"
             }
            },
            "header": {
             "fill": {
              "color": "#C8D4E3"
             },
             "line": {
              "color": "white"
             }
            },
            "type": "table"
           }
          ]
         },
         "layout": {
          "annotationdefaults": {
           "arrowcolor": "#2a3f5f",
           "arrowhead": 0,
           "arrowwidth": 1
          },
          "autotypenumbers": "strict",
          "coloraxis": {
           "colorbar": {
            "outlinewidth": 0,
            "ticks": ""
           }
          },
          "colorscale": {
           "diverging": [
            [
             0,
             "#8e0152"
            ],
            [
             0.1,
             "#c51b7d"
            ],
            [
             0.2,
             "#de77ae"
            ],
            [
             0.3,
             "#f1b6da"
            ],
            [
             0.4,
             "#fde0ef"
            ],
            [
             0.5,
             "#f7f7f7"
            ],
            [
             0.6,
             "#e6f5d0"
            ],
            [
             0.7,
             "#b8e186"
            ],
            [
             0.8,
             "#7fbc41"
            ],
            [
             0.9,
             "#4d9221"
            ],
            [
             1,
             "#276419"
            ]
           ],
           "sequential": [
            [
             0,
             "#0d0887"
            ],
            [
             0.1111111111111111,
             "#46039f"
            ],
            [
             0.2222222222222222,
             "#7201a8"
            ],
            [
             0.3333333333333333,
             "#9c179e"
            ],
            [
             0.4444444444444444,
             "#bd3786"
            ],
            [
             0.5555555555555556,
             "#d8576b"
            ],
            [
             0.6666666666666666,
             "#ed7953"
            ],
            [
             0.7777777777777778,
             "#fb9f3a"
            ],
            [
             0.8888888888888888,
             "#fdca26"
            ],
            [
             1,
             "#f0f921"
            ]
           ],
           "sequentialminus": [
            [
             0,
             "#0d0887"
            ],
            [
             0.1111111111111111,
             "#46039f"
            ],
            [
             0.2222222222222222,
             "#7201a8"
            ],
            [
             0.3333333333333333,
             "#9c179e"
            ],
            [
             0.4444444444444444,
             "#bd3786"
            ],
            [
             0.5555555555555556,
             "#d8576b"
            ],
            [
             0.6666666666666666,
             "#ed7953"
            ],
            [
             0.7777777777777778,
             "#fb9f3a"
            ],
            [
             0.8888888888888888,
             "#fdca26"
            ],
            [
             1,
             "#f0f921"
            ]
           ]
          },
          "colorway": [
           "#636efa",
           "#EF553B",
           "#00cc96",
           "#ab63fa",
           "#FFA15A",
           "#19d3f3",
           "#FF6692",
           "#B6E880",
           "#FF97FF",
           "#FECB52"
          ],
          "font": {
           "color": "#2a3f5f"
          },
          "geo": {
           "bgcolor": "white",
           "lakecolor": "white",
           "landcolor": "#E5ECF6",
           "showlakes": true,
           "showland": true,
           "subunitcolor": "white"
          },
          "hoverlabel": {
           "align": "left"
          },
          "hovermode": "closest",
          "mapbox": {
           "style": "light"
          },
          "paper_bgcolor": "white",
          "plot_bgcolor": "#E5ECF6",
          "polar": {
           "angularaxis": {
            "gridcolor": "white",
            "linecolor": "white",
            "ticks": ""
           },
           "bgcolor": "#E5ECF6",
           "radialaxis": {
            "gridcolor": "white",
            "linecolor": "white",
            "ticks": ""
           }
          },
          "scene": {
           "xaxis": {
            "backgroundcolor": "#E5ECF6",
            "gridcolor": "white",
            "gridwidth": 2,
            "linecolor": "white",
            "showbackground": true,
            "ticks": "",
            "zerolinecolor": "white"
           },
           "yaxis": {
            "backgroundcolor": "#E5ECF6",
            "gridcolor": "white",
            "gridwidth": 2,
            "linecolor": "white",
            "showbackground": true,
            "ticks": "",
            "zerolinecolor": "white"
           },
           "zaxis": {
            "backgroundcolor": "#E5ECF6",
            "gridcolor": "white",
            "gridwidth": 2,
            "linecolor": "white",
            "showbackground": true,
            "ticks": "",
            "zerolinecolor": "white"
           }
          },
          "shapedefaults": {
           "line": {
            "color": "#2a3f5f"
           }
          },
          "ternary": {
           "aaxis": {
            "gridcolor": "white",
            "linecolor": "white",
            "ticks": ""
           },
           "baxis": {
            "gridcolor": "white",
            "linecolor": "white",
            "ticks": ""
           },
           "bgcolor": "#E5ECF6",
           "caxis": {
            "gridcolor": "white",
            "linecolor": "white",
            "ticks": ""
           }
          },
          "title": {
           "x": 0.05
          },
          "xaxis": {
           "automargin": true,
           "gridcolor": "white",
           "linecolor": "white",
           "ticks": "",
           "title": {
            "standoff": 15
           },
           "zerolinecolor": "white",
           "zerolinewidth": 2
          },
          "yaxis": {
           "automargin": true,
           "gridcolor": "white",
           "linecolor": "white",
           "ticks": "",
           "title": {
            "standoff": 15
           },
           "zerolinecolor": "white",
           "zerolinewidth": 2
          }
         }
        },
        "xaxis": {
         "anchor": "y",
         "domain": [
          0,
          1
         ],
         "title": {
          "text": "index"
         }
        },
        "yaxis": {
         "anchor": "x",
         "domain": [
          0,
          1
         ],
         "title": {
          "text": "value"
         }
        }
       }
      },
      "text/html": [
       "<div>                            <div id=\"87f1c712-507b-41b3-a17e-d97c440bb5c2\" class=\"plotly-graph-div\" style=\"height:525px; width:100%;\"></div>            <script type=\"text/javascript\">                require([\"plotly\"], function(Plotly) {                    window.PLOTLYENV=window.PLOTLYENV || {};                                    if (document.getElementById(\"87f1c712-507b-41b3-a17e-d97c440bb5c2\")) {                    Plotly.newPlot(                        \"87f1c712-507b-41b3-a17e-d97c440bb5c2\",                        [{\"hovertemplate\":\"variable=words_per_sent<br>index=%{x}<br>value=%{y}<extra></extra>\",\"legendgroup\":\"words_per_sent\",\"line\":{\"color\":\"#636efa\",\"dash\":\"solid\"},\"marker\":{\"symbol\":\"circle\"},\"mode\":\"lines\",\"name\":\"words_per_sent\",\"orientation\":\"v\",\"showlegend\":true,\"x\":[464,465,466,467,468,469,470,471,472,473,474,475,476,477,478,479,480,481,482,483,484,485,486,487,488,489,490,491,492,493,494,495,496,497,498,499,500,501,502,503,504,505,506,507,508,509,510,511,512,513,514,515,516,517,518,519,520,521,522,523,524,525,526,527,528,529,530,531,532,533,534,535,536,537,538,539,540,541,542,543,544,545,546,547,548,549,550,551,552,553,554,555,556,557,558,559,560,561,562,563,564,565,566,567,568,569,570,571,572,573,574],\"xaxis\":\"x\",\"y\":[43,4,28,23,9,16,14,41,4,9,12,14,33,8,30,11,31,12,7,13,8,19,31,20,52,15,4,13,26,38,19,21,16,25,23,7,9,11,24,4,20,18,10,29,21,23,19,18,5,5,22,4,28,29,39,10,8,45,44,11,50,17,36,16,49,8,23,19,32,7,24,18,24,45,9,13,14,85,17,36,42,30,36,11,29,19,31,22,26,37,28,5,10,26,4,11,10,68,9,19,61,18,28,4,4,6,64,20,18,59,13],\"yaxis\":\"y\",\"type\":\"scatter\"}],                        {\"template\":{\"data\":{\"histogram2dcontour\":[{\"type\":\"histogram2dcontour\",\"colorbar\":{\"outlinewidth\":0,\"ticks\":\"\"},\"colorscale\":[[0.0,\"#0d0887\"],[0.1111111111111111,\"#46039f\"],[0.2222222222222222,\"#7201a8\"],[0.3333333333333333,\"#9c179e\"],[0.4444444444444444,\"#bd3786\"],[0.5555555555555556,\"#d8576b\"],[0.6666666666666666,\"#ed7953\"],[0.7777777777777778,\"#fb9f3a\"],[0.8888888888888888,\"#fdca26\"],[1.0,\"#f0f921\"]]}],\"choropleth\":[{\"type\":\"choropleth\",\"colorbar\":{\"outlinewidth\":0,\"ticks\":\"\"}}],\"histogram2d\":[{\"type\":\"histogram2d\",\"colorbar\":{\"outlinewidth\":0,\"ticks\":\"\"},\"colorscale\":[[0.0,\"#0d0887\"],[0.1111111111111111,\"#46039f\"],[0.2222222222222222,\"#7201a8\"],[0.3333333333333333,\"#9c179e\"],[0.4444444444444444,\"#bd3786\"],[0.5555555555555556,\"#d8576b\"],[0.6666666666666666,\"#ed7953\"],[0.7777777777777778,\"#fb9f3a\"],[0.8888888888888888,\"#fdca26\"],[1.0,\"#f0f921\"]]}],\"heatmap\":[{\"type\":\"heatmap\",\"colorbar\":{\"outlinewidth\":0,\"ticks\":\"\"},\"colorscale\":[[0.0,\"#0d0887\"],[0.1111111111111111,\"#46039f\"],[0.2222222222222222,\"#7201a8\"],[0.3333333333333333,\"#9c179e\"],[0.4444444444444444,\"#bd3786\"],[0.5555555555555556,\"#d8576b\"],[0.6666666666666666,\"#ed7953\"],[0.7777777777777778,\"#fb9f3a\"],[0.8888888888888888,\"#fdca26\"],[1.0,\"#f0f921\"]]}],\"heatmapgl\":[{\"type\":\"heatmapgl\",\"colorbar\":{\"outlinewidth\":0,\"ticks\":\"\"},\"colorscale\":[[0.0,\"#0d0887\"],[0.1111111111111111,\"#46039f\"],[0.2222222222222222,\"#7201a8\"],[0.3333333333333333,\"#9c179e\"],[0.4444444444444444,\"#bd3786\"],[0.5555555555555556,\"#d8576b\"],[0.6666666666666666,\"#ed7953\"],[0.7777777777777778,\"#fb9f3a\"],[0.8888888888888888,\"#fdca26\"],[1.0,\"#f0f921\"]]}],\"contourcarpet\":[{\"type\":\"contourcarpet\",\"colorbar\":{\"outlinewidth\":0,\"ticks\":\"\"}}],\"contour\":[{\"type\":\"contour\",\"colorbar\":{\"outlinewidth\":0,\"ticks\":\"\"},\"colorscale\":[[0.0,\"#0d0887\"],[0.1111111111111111,\"#46039f\"],[0.2222222222222222,\"#7201a8\"],[0.3333333333333333,\"#9c179e\"],[0.4444444444444444,\"#bd3786\"],[0.5555555555555556,\"#d8576b\"],[0.6666666666666666,\"#ed7953\"],[0.7777777777777778,\"#fb9f3a\"],[0.8888888888888888,\"#fdca26\"],[1.0,\"#f0f921\"]]}],\"surface\":[{\"type\":\"surface\",\"colorbar\":{\"outlinewidth\":0,\"ticks\":\"\"},\"colorscale\":[[0.0,\"#0d0887\"],[0.1111111111111111,\"#46039f\"],[0.2222222222222222,\"#7201a8\"],[0.3333333333333333,\"#9c179e\"],[0.4444444444444444,\"#bd3786\"],[0.5555555555555556,\"#d8576b\"],[0.6666666666666666,\"#ed7953\"],[0.7777777777777778,\"#fb9f3a\"],[0.8888888888888888,\"#fdca26\"],[1.0,\"#f0f921\"]]}],\"mesh3d\":[{\"type\":\"mesh3d\",\"colorbar\":{\"outlinewidth\":0,\"ticks\":\"\"}}],\"scatter\":[{\"fillpattern\":{\"fillmode\":\"overlay\",\"size\":10,\"solidity\":0.2},\"type\":\"scatter\"}],\"parcoords\":[{\"type\":\"parcoords\",\"line\":{\"colorbar\":{\"outlinewidth\":0,\"ticks\":\"\"}}}],\"scatterpolargl\":[{\"type\":\"scatterpolargl\",\"marker\":{\"colorbar\":{\"outlinewidth\":0,\"ticks\":\"\"}}}],\"bar\":[{\"error_x\":{\"color\":\"#2a3f5f\"},\"error_y\":{\"color\":\"#2a3f5f\"},\"marker\":{\"line\":{\"color\":\"#E5ECF6\",\"width\":0.5},\"pattern\":{\"fillmode\":\"overlay\",\"size\":10,\"solidity\":0.2}},\"type\":\"bar\"}],\"scattergeo\":[{\"type\":\"scattergeo\",\"marker\":{\"colorbar\":{\"outlinewidth\":0,\"ticks\":\"\"}}}],\"scatterpolar\":[{\"type\":\"scatterpolar\",\"marker\":{\"colorbar\":{\"outlinewidth\":0,\"ticks\":\"\"}}}],\"histogram\":[{\"marker\":{\"pattern\":{\"fillmode\":\"overlay\",\"size\":10,\"solidity\":0.2}},\"type\":\"histogram\"}],\"scattergl\":[{\"type\":\"scattergl\",\"marker\":{\"colorbar\":{\"outlinewidth\":0,\"ticks\":\"\"}}}],\"scatter3d\":[{\"type\":\"scatter3d\",\"line\":{\"colorbar\":{\"outlinewidth\":0,\"ticks\":\"\"}},\"marker\":{\"colorbar\":{\"outlinewidth\":0,\"ticks\":\"\"}}}],\"scattermapbox\":[{\"type\":\"scattermapbox\",\"marker\":{\"colorbar\":{\"outlinewidth\":0,\"ticks\":\"\"}}}],\"scatterternary\":[{\"type\":\"scatterternary\",\"marker\":{\"colorbar\":{\"outlinewidth\":0,\"ticks\":\"\"}}}],\"scattercarpet\":[{\"type\":\"scattercarpet\",\"marker\":{\"colorbar\":{\"outlinewidth\":0,\"ticks\":\"\"}}}],\"carpet\":[{\"aaxis\":{\"endlinecolor\":\"#2a3f5f\",\"gridcolor\":\"white\",\"linecolor\":\"white\",\"minorgridcolor\":\"white\",\"startlinecolor\":\"#2a3f5f\"},\"baxis\":{\"endlinecolor\":\"#2a3f5f\",\"gridcolor\":\"white\",\"linecolor\":\"white\",\"minorgridcolor\":\"white\",\"startlinecolor\":\"#2a3f5f\"},\"type\":\"carpet\"}],\"table\":[{\"cells\":{\"fill\":{\"color\":\"#EBF0F8\"},\"line\":{\"color\":\"white\"}},\"header\":{\"fill\":{\"color\":\"#C8D4E3\"},\"line\":{\"color\":\"white\"}},\"type\":\"table\"}],\"barpolar\":[{\"marker\":{\"line\":{\"color\":\"#E5ECF6\",\"width\":0.5},\"pattern\":{\"fillmode\":\"overlay\",\"size\":10,\"solidity\":0.2}},\"type\":\"barpolar\"}],\"pie\":[{\"automargin\":true,\"type\":\"pie\"}]},\"layout\":{\"autotypenumbers\":\"strict\",\"colorway\":[\"#636efa\",\"#EF553B\",\"#00cc96\",\"#ab63fa\",\"#FFA15A\",\"#19d3f3\",\"#FF6692\",\"#B6E880\",\"#FF97FF\",\"#FECB52\"],\"font\":{\"color\":\"#2a3f5f\"},\"hovermode\":\"closest\",\"hoverlabel\":{\"align\":\"left\"},\"paper_bgcolor\":\"white\",\"plot_bgcolor\":\"#E5ECF6\",\"polar\":{\"bgcolor\":\"#E5ECF6\",\"angularaxis\":{\"gridcolor\":\"white\",\"linecolor\":\"white\",\"ticks\":\"\"},\"radialaxis\":{\"gridcolor\":\"white\",\"linecolor\":\"white\",\"ticks\":\"\"}},\"ternary\":{\"bgcolor\":\"#E5ECF6\",\"aaxis\":{\"gridcolor\":\"white\",\"linecolor\":\"white\",\"ticks\":\"\"},\"baxis\":{\"gridcolor\":\"white\",\"linecolor\":\"white\",\"ticks\":\"\"},\"caxis\":{\"gridcolor\":\"white\",\"linecolor\":\"white\",\"ticks\":\"\"}},\"coloraxis\":{\"colorbar\":{\"outlinewidth\":0,\"ticks\":\"\"}},\"colorscale\":{\"sequential\":[[0.0,\"#0d0887\"],[0.1111111111111111,\"#46039f\"],[0.2222222222222222,\"#7201a8\"],[0.3333333333333333,\"#9c179e\"],[0.4444444444444444,\"#bd3786\"],[0.5555555555555556,\"#d8576b\"],[0.6666666666666666,\"#ed7953\"],[0.7777777777777778,\"#fb9f3a\"],[0.8888888888888888,\"#fdca26\"],[1.0,\"#f0f921\"]],\"sequentialminus\":[[0.0,\"#0d0887\"],[0.1111111111111111,\"#46039f\"],[0.2222222222222222,\"#7201a8\"],[0.3333333333333333,\"#9c179e\"],[0.4444444444444444,\"#bd3786\"],[0.5555555555555556,\"#d8576b\"],[0.6666666666666666,\"#ed7953\"],[0.7777777777777778,\"#fb9f3a\"],[0.8888888888888888,\"#fdca26\"],[1.0,\"#f0f921\"]],\"diverging\":[[0,\"#8e0152\"],[0.1,\"#c51b7d\"],[0.2,\"#de77ae\"],[0.3,\"#f1b6da\"],[0.4,\"#fde0ef\"],[0.5,\"#f7f7f7\"],[0.6,\"#e6f5d0\"],[0.7,\"#b8e186\"],[0.8,\"#7fbc41\"],[0.9,\"#4d9221\"],[1,\"#276419\"]]},\"xaxis\":{\"gridcolor\":\"white\",\"linecolor\":\"white\",\"ticks\":\"\",\"title\":{\"standoff\":15},\"zerolinecolor\":\"white\",\"automargin\":true,\"zerolinewidth\":2},\"yaxis\":{\"gridcolor\":\"white\",\"linecolor\":\"white\",\"ticks\":\"\",\"title\":{\"standoff\":15},\"zerolinecolor\":\"white\",\"automargin\":true,\"zerolinewidth\":2},\"scene\":{\"xaxis\":{\"backgroundcolor\":\"#E5ECF6\",\"gridcolor\":\"white\",\"linecolor\":\"white\",\"showbackground\":true,\"ticks\":\"\",\"zerolinecolor\":\"white\",\"gridwidth\":2},\"yaxis\":{\"backgroundcolor\":\"#E5ECF6\",\"gridcolor\":\"white\",\"linecolor\":\"white\",\"showbackground\":true,\"ticks\":\"\",\"zerolinecolor\":\"white\",\"gridwidth\":2},\"zaxis\":{\"backgroundcolor\":\"#E5ECF6\",\"gridcolor\":\"white\",\"linecolor\":\"white\",\"showbackground\":true,\"ticks\":\"\",\"zerolinecolor\":\"white\",\"gridwidth\":2}},\"shapedefaults\":{\"line\":{\"color\":\"#2a3f5f\"}},\"annotationdefaults\":{\"arrowcolor\":\"#2a3f5f\",\"arrowhead\":0,\"arrowwidth\":1},\"geo\":{\"bgcolor\":\"white\",\"landcolor\":\"#E5ECF6\",\"subunitcolor\":\"white\",\"showland\":true,\"showlakes\":true,\"lakecolor\":\"white\"},\"title\":{\"x\":0.05},\"mapbox\":{\"style\":\"light\"}}},\"xaxis\":{\"anchor\":\"y\",\"domain\":[0.0,1.0],\"title\":{\"text\":\"index\"}},\"yaxis\":{\"anchor\":\"x\",\"domain\":[0.0,1.0],\"title\":{\"text\":\"value\"}},\"legend\":{\"title\":{\"text\":\"variable\"},\"tracegroupgap\":0},\"margin\":{\"t\":60}},                        {\"responsive\": true}                    ).then(function(){\n",
       "                            \n",
       "var gd = document.getElementById('87f1c712-507b-41b3-a17e-d97c440bb5c2');\n",
       "var x = new MutationObserver(function (mutations, observer) {{\n",
       "        var display = window.getComputedStyle(gd).display;\n",
       "        if (!display || display === 'none') {{\n",
       "            console.log([gd, 'removed!']);\n",
       "            Plotly.purge(gd);\n",
       "            observer.disconnect();\n",
       "        }}\n",
       "}});\n",
       "\n",
       "// Listen for the removal of the full notebook cells\n",
       "var notebookContainer = gd.closest('#notebook-container');\n",
       "if (notebookContainer) {{\n",
       "    x.observe(notebookContainer, {childList: true});\n",
       "}}\n",
       "\n",
       "// Listen for the clearing of the current output cell\n",
       "var outputEl = gd.closest('.output');\n",
       "if (outputEl) {{\n",
       "    x.observe(outputEl, {childList: true});\n",
       "}}\n",
       "\n",
       "                        })                };                });            </script>        </div>"
      ]
     },
     "metadata": {},
     "output_type": "display_data"
    }
   ],
   "source": [
    "fig = px.line(oba.query('date == \"2009-01-20\"').words_per_sent)\n",
    "fig.show()"
   ]
  },
  {
   "cell_type": "code",
   "execution_count": 100,
   "id": "fb788e9b",
   "metadata": {},
   "outputs": [
    {
     "data": {
      "text/plain": [
       "7.780288859473156"
      ]
     },
     "execution_count": 100,
     "metadata": {},
     "output_type": "execute_result"
    }
   ],
   "source": [
    "gwb.query('date == \"2001-01-20\"').words_per_sent.std()"
   ]
  },
  {
   "cell_type": "code",
   "execution_count": 101,
   "id": "6f0f5803",
   "metadata": {},
   "outputs": [
    {
     "data": {
      "application/vnd.plotly.v1+json": {
       "config": {
        "plotlyServerURL": "https://plot.ly"
       },
       "data": [
        {
         "hovertemplate": "variable=words_per_sent<br>index=%{x}<br>value=%{y}<extra></extra>",
         "legendgroup": "words_per_sent",
         "line": {
          "color": "#636efa",
          "dash": "solid"
         },
         "marker": {
          "symbol": "circle"
         },
         "mode": "lines",
         "name": "words_per_sent",
         "orientation": "v",
         "showlegend": true,
         "type": "scatter",
         "x": [
          3403,
          3404,
          3405,
          3406,
          3407,
          3408,
          3409,
          3410,
          3411,
          3412,
          3413,
          3414,
          3415,
          3416,
          3417,
          3418,
          3419,
          3420,
          3421,
          3422,
          3423,
          3424,
          3425,
          3426,
          3427,
          3428,
          3429,
          3430,
          3431,
          3432,
          3433,
          3434,
          3435,
          3436,
          3437,
          3438,
          3439,
          3440,
          3441,
          3442,
          3443,
          3444,
          3445,
          3446,
          3447,
          3448,
          3449,
          3450,
          3451,
          3452,
          3453,
          3454,
          3455,
          3456,
          3457,
          3458,
          3459,
          3460,
          3461,
          3462,
          3463,
          3464,
          3465,
          3466,
          3467,
          3468,
          3469,
          3470,
          3471,
          3472,
          3473,
          3474,
          3475,
          3476,
          3477,
          3478,
          3479,
          3480,
          3481,
          3482,
          3483,
          3484,
          3485,
          3486,
          3487,
          3488,
          3489,
          3490,
          3491,
          3492,
          3493,
          3494,
          3495,
          3496,
          3497,
          3498
         ],
         "xaxis": "x",
         "y": [
          3,
          15,
          14,
          12,
          29,
          24,
          22,
          50,
          21,
          25,
          14,
          16,
          20,
          13,
          11,
          23,
          13,
          17,
          19,
          17,
          11,
          15,
          18,
          36,
          11,
          25,
          7,
          5,
          14,
          19,
          14,
          16,
          25,
          8,
          15,
          22,
          14,
          9,
          21,
          13,
          7,
          20,
          18,
          20,
          15,
          18,
          21,
          11,
          16,
          30,
          8,
          6,
          11,
          15,
          6,
          19,
          18,
          13,
          17,
          7,
          13,
          10,
          16,
          12,
          22,
          25,
          11,
          8,
          28,
          14,
          14,
          10,
          13,
          14,
          28,
          10,
          21,
          11,
          39,
          18,
          10,
          26,
          23,
          20,
          13,
          11,
          30,
          14,
          10,
          27,
          15,
          8,
          10,
          29,
          19,
          8
         ],
         "yaxis": "y"
        }
       ],
       "layout": {
        "legend": {
         "title": {
          "text": "variable"
         },
         "tracegroupgap": 0
        },
        "margin": {
         "t": 60
        },
        "template": {
         "data": {
          "bar": [
           {
            "error_x": {
             "color": "#2a3f5f"
            },
            "error_y": {
             "color": "#2a3f5f"
            },
            "marker": {
             "line": {
              "color": "#E5ECF6",
              "width": 0.5
             },
             "pattern": {
              "fillmode": "overlay",
              "size": 10,
              "solidity": 0.2
             }
            },
            "type": "bar"
           }
          ],
          "barpolar": [
           {
            "marker": {
             "line": {
              "color": "#E5ECF6",
              "width": 0.5
             },
             "pattern": {
              "fillmode": "overlay",
              "size": 10,
              "solidity": 0.2
             }
            },
            "type": "barpolar"
           }
          ],
          "carpet": [
           {
            "aaxis": {
             "endlinecolor": "#2a3f5f",
             "gridcolor": "white",
             "linecolor": "white",
             "minorgridcolor": "white",
             "startlinecolor": "#2a3f5f"
            },
            "baxis": {
             "endlinecolor": "#2a3f5f",
             "gridcolor": "white",
             "linecolor": "white",
             "minorgridcolor": "white",
             "startlinecolor": "#2a3f5f"
            },
            "type": "carpet"
           }
          ],
          "choropleth": [
           {
            "colorbar": {
             "outlinewidth": 0,
             "ticks": ""
            },
            "type": "choropleth"
           }
          ],
          "contour": [
           {
            "colorbar": {
             "outlinewidth": 0,
             "ticks": ""
            },
            "colorscale": [
             [
              0,
              "#0d0887"
             ],
             [
              0.1111111111111111,
              "#46039f"
             ],
             [
              0.2222222222222222,
              "#7201a8"
             ],
             [
              0.3333333333333333,
              "#9c179e"
             ],
             [
              0.4444444444444444,
              "#bd3786"
             ],
             [
              0.5555555555555556,
              "#d8576b"
             ],
             [
              0.6666666666666666,
              "#ed7953"
             ],
             [
              0.7777777777777778,
              "#fb9f3a"
             ],
             [
              0.8888888888888888,
              "#fdca26"
             ],
             [
              1,
              "#f0f921"
             ]
            ],
            "type": "contour"
           }
          ],
          "contourcarpet": [
           {
            "colorbar": {
             "outlinewidth": 0,
             "ticks": ""
            },
            "type": "contourcarpet"
           }
          ],
          "heatmap": [
           {
            "colorbar": {
             "outlinewidth": 0,
             "ticks": ""
            },
            "colorscale": [
             [
              0,
              "#0d0887"
             ],
             [
              0.1111111111111111,
              "#46039f"
             ],
             [
              0.2222222222222222,
              "#7201a8"
             ],
             [
              0.3333333333333333,
              "#9c179e"
             ],
             [
              0.4444444444444444,
              "#bd3786"
             ],
             [
              0.5555555555555556,
              "#d8576b"
             ],
             [
              0.6666666666666666,
              "#ed7953"
             ],
             [
              0.7777777777777778,
              "#fb9f3a"
             ],
             [
              0.8888888888888888,
              "#fdca26"
             ],
             [
              1,
              "#f0f921"
             ]
            ],
            "type": "heatmap"
           }
          ],
          "heatmapgl": [
           {
            "colorbar": {
             "outlinewidth": 0,
             "ticks": ""
            },
            "colorscale": [
             [
              0,
              "#0d0887"
             ],
             [
              0.1111111111111111,
              "#46039f"
             ],
             [
              0.2222222222222222,
              "#7201a8"
             ],
             [
              0.3333333333333333,
              "#9c179e"
             ],
             [
              0.4444444444444444,
              "#bd3786"
             ],
             [
              0.5555555555555556,
              "#d8576b"
             ],
             [
              0.6666666666666666,
              "#ed7953"
             ],
             [
              0.7777777777777778,
              "#fb9f3a"
             ],
             [
              0.8888888888888888,
              "#fdca26"
             ],
             [
              1,
              "#f0f921"
             ]
            ],
            "type": "heatmapgl"
           }
          ],
          "histogram": [
           {
            "marker": {
             "pattern": {
              "fillmode": "overlay",
              "size": 10,
              "solidity": 0.2
             }
            },
            "type": "histogram"
           }
          ],
          "histogram2d": [
           {
            "colorbar": {
             "outlinewidth": 0,
             "ticks": ""
            },
            "colorscale": [
             [
              0,
              "#0d0887"
             ],
             [
              0.1111111111111111,
              "#46039f"
             ],
             [
              0.2222222222222222,
              "#7201a8"
             ],
             [
              0.3333333333333333,
              "#9c179e"
             ],
             [
              0.4444444444444444,
              "#bd3786"
             ],
             [
              0.5555555555555556,
              "#d8576b"
             ],
             [
              0.6666666666666666,
              "#ed7953"
             ],
             [
              0.7777777777777778,
              "#fb9f3a"
             ],
             [
              0.8888888888888888,
              "#fdca26"
             ],
             [
              1,
              "#f0f921"
             ]
            ],
            "type": "histogram2d"
           }
          ],
          "histogram2dcontour": [
           {
            "colorbar": {
             "outlinewidth": 0,
             "ticks": ""
            },
            "colorscale": [
             [
              0,
              "#0d0887"
             ],
             [
              0.1111111111111111,
              "#46039f"
             ],
             [
              0.2222222222222222,
              "#7201a8"
             ],
             [
              0.3333333333333333,
              "#9c179e"
             ],
             [
              0.4444444444444444,
              "#bd3786"
             ],
             [
              0.5555555555555556,
              "#d8576b"
             ],
             [
              0.6666666666666666,
              "#ed7953"
             ],
             [
              0.7777777777777778,
              "#fb9f3a"
             ],
             [
              0.8888888888888888,
              "#fdca26"
             ],
             [
              1,
              "#f0f921"
             ]
            ],
            "type": "histogram2dcontour"
           }
          ],
          "mesh3d": [
           {
            "colorbar": {
             "outlinewidth": 0,
             "ticks": ""
            },
            "type": "mesh3d"
           }
          ],
          "parcoords": [
           {
            "line": {
             "colorbar": {
              "outlinewidth": 0,
              "ticks": ""
             }
            },
            "type": "parcoords"
           }
          ],
          "pie": [
           {
            "automargin": true,
            "type": "pie"
           }
          ],
          "scatter": [
           {
            "fillpattern": {
             "fillmode": "overlay",
             "size": 10,
             "solidity": 0.2
            },
            "type": "scatter"
           }
          ],
          "scatter3d": [
           {
            "line": {
             "colorbar": {
              "outlinewidth": 0,
              "ticks": ""
             }
            },
            "marker": {
             "colorbar": {
              "outlinewidth": 0,
              "ticks": ""
             }
            },
            "type": "scatter3d"
           }
          ],
          "scattercarpet": [
           {
            "marker": {
             "colorbar": {
              "outlinewidth": 0,
              "ticks": ""
             }
            },
            "type": "scattercarpet"
           }
          ],
          "scattergeo": [
           {
            "marker": {
             "colorbar": {
              "outlinewidth": 0,
              "ticks": ""
             }
            },
            "type": "scattergeo"
           }
          ],
          "scattergl": [
           {
            "marker": {
             "colorbar": {
              "outlinewidth": 0,
              "ticks": ""
             }
            },
            "type": "scattergl"
           }
          ],
          "scattermapbox": [
           {
            "marker": {
             "colorbar": {
              "outlinewidth": 0,
              "ticks": ""
             }
            },
            "type": "scattermapbox"
           }
          ],
          "scatterpolar": [
           {
            "marker": {
             "colorbar": {
              "outlinewidth": 0,
              "ticks": ""
             }
            },
            "type": "scatterpolar"
           }
          ],
          "scatterpolargl": [
           {
            "marker": {
             "colorbar": {
              "outlinewidth": 0,
              "ticks": ""
             }
            },
            "type": "scatterpolargl"
           }
          ],
          "scatterternary": [
           {
            "marker": {
             "colorbar": {
              "outlinewidth": 0,
              "ticks": ""
             }
            },
            "type": "scatterternary"
           }
          ],
          "surface": [
           {
            "colorbar": {
             "outlinewidth": 0,
             "ticks": ""
            },
            "colorscale": [
             [
              0,
              "#0d0887"
             ],
             [
              0.1111111111111111,
              "#46039f"
             ],
             [
              0.2222222222222222,
              "#7201a8"
             ],
             [
              0.3333333333333333,
              "#9c179e"
             ],
             [
              0.4444444444444444,
              "#bd3786"
             ],
             [
              0.5555555555555556,
              "#d8576b"
             ],
             [
              0.6666666666666666,
              "#ed7953"
             ],
             [
              0.7777777777777778,
              "#fb9f3a"
             ],
             [
              0.8888888888888888,
              "#fdca26"
             ],
             [
              1,
              "#f0f921"
             ]
            ],
            "type": "surface"
           }
          ],
          "table": [
           {
            "cells": {
             "fill": {
              "color": "#EBF0F8"
             },
             "line": {
              "color": "white"
             }
            },
            "header": {
             "fill": {
              "color": "#C8D4E3"
             },
             "line": {
              "color": "white"
             }
            },
            "type": "table"
           }
          ]
         },
         "layout": {
          "annotationdefaults": {
           "arrowcolor": "#2a3f5f",
           "arrowhead": 0,
           "arrowwidth": 1
          },
          "autotypenumbers": "strict",
          "coloraxis": {
           "colorbar": {
            "outlinewidth": 0,
            "ticks": ""
           }
          },
          "colorscale": {
           "diverging": [
            [
             0,
             "#8e0152"
            ],
            [
             0.1,
             "#c51b7d"
            ],
            [
             0.2,
             "#de77ae"
            ],
            [
             0.3,
             "#f1b6da"
            ],
            [
             0.4,
             "#fde0ef"
            ],
            [
             0.5,
             "#f7f7f7"
            ],
            [
             0.6,
             "#e6f5d0"
            ],
            [
             0.7,
             "#b8e186"
            ],
            [
             0.8,
             "#7fbc41"
            ],
            [
             0.9,
             "#4d9221"
            ],
            [
             1,
             "#276419"
            ]
           ],
           "sequential": [
            [
             0,
             "#0d0887"
            ],
            [
             0.1111111111111111,
             "#46039f"
            ],
            [
             0.2222222222222222,
             "#7201a8"
            ],
            [
             0.3333333333333333,
             "#9c179e"
            ],
            [
             0.4444444444444444,
             "#bd3786"
            ],
            [
             0.5555555555555556,
             "#d8576b"
            ],
            [
             0.6666666666666666,
             "#ed7953"
            ],
            [
             0.7777777777777778,
             "#fb9f3a"
            ],
            [
             0.8888888888888888,
             "#fdca26"
            ],
            [
             1,
             "#f0f921"
            ]
           ],
           "sequentialminus": [
            [
             0,
             "#0d0887"
            ],
            [
             0.1111111111111111,
             "#46039f"
            ],
            [
             0.2222222222222222,
             "#7201a8"
            ],
            [
             0.3333333333333333,
             "#9c179e"
            ],
            [
             0.4444444444444444,
             "#bd3786"
            ],
            [
             0.5555555555555556,
             "#d8576b"
            ],
            [
             0.6666666666666666,
             "#ed7953"
            ],
            [
             0.7777777777777778,
             "#fb9f3a"
            ],
            [
             0.8888888888888888,
             "#fdca26"
            ],
            [
             1,
             "#f0f921"
            ]
           ]
          },
          "colorway": [
           "#636efa",
           "#EF553B",
           "#00cc96",
           "#ab63fa",
           "#FFA15A",
           "#19d3f3",
           "#FF6692",
           "#B6E880",
           "#FF97FF",
           "#FECB52"
          ],
          "font": {
           "color": "#2a3f5f"
          },
          "geo": {
           "bgcolor": "white",
           "lakecolor": "white",
           "landcolor": "#E5ECF6",
           "showlakes": true,
           "showland": true,
           "subunitcolor": "white"
          },
          "hoverlabel": {
           "align": "left"
          },
          "hovermode": "closest",
          "mapbox": {
           "style": "light"
          },
          "paper_bgcolor": "white",
          "plot_bgcolor": "#E5ECF6",
          "polar": {
           "angularaxis": {
            "gridcolor": "white",
            "linecolor": "white",
            "ticks": ""
           },
           "bgcolor": "#E5ECF6",
           "radialaxis": {
            "gridcolor": "white",
            "linecolor": "white",
            "ticks": ""
           }
          },
          "scene": {
           "xaxis": {
            "backgroundcolor": "#E5ECF6",
            "gridcolor": "white",
            "gridwidth": 2,
            "linecolor": "white",
            "showbackground": true,
            "ticks": "",
            "zerolinecolor": "white"
           },
           "yaxis": {
            "backgroundcolor": "#E5ECF6",
            "gridcolor": "white",
            "gridwidth": 2,
            "linecolor": "white",
            "showbackground": true,
            "ticks": "",
            "zerolinecolor": "white"
           },
           "zaxis": {
            "backgroundcolor": "#E5ECF6",
            "gridcolor": "white",
            "gridwidth": 2,
            "linecolor": "white",
            "showbackground": true,
            "ticks": "",
            "zerolinecolor": "white"
           }
          },
          "shapedefaults": {
           "line": {
            "color": "#2a3f5f"
           }
          },
          "ternary": {
           "aaxis": {
            "gridcolor": "white",
            "linecolor": "white",
            "ticks": ""
           },
           "baxis": {
            "gridcolor": "white",
            "linecolor": "white",
            "ticks": ""
           },
           "bgcolor": "#E5ECF6",
           "caxis": {
            "gridcolor": "white",
            "linecolor": "white",
            "ticks": ""
           }
          },
          "title": {
           "x": 0.05
          },
          "xaxis": {
           "automargin": true,
           "gridcolor": "white",
           "linecolor": "white",
           "ticks": "",
           "title": {
            "standoff": 15
           },
           "zerolinecolor": "white",
           "zerolinewidth": 2
          },
          "yaxis": {
           "automargin": true,
           "gridcolor": "white",
           "linecolor": "white",
           "ticks": "",
           "title": {
            "standoff": 15
           },
           "zerolinecolor": "white",
           "zerolinewidth": 2
          }
         }
        },
        "xaxis": {
         "anchor": "y",
         "domain": [
          0,
          1
         ],
         "title": {
          "text": "index"
         }
        },
        "yaxis": {
         "anchor": "x",
         "domain": [
          0,
          1
         ],
         "title": {
          "text": "value"
         }
        }
       }
      },
      "text/html": [
       "<div>                            <div id=\"a7be1e10-e8eb-4efe-abbe-909e302fccc3\" class=\"plotly-graph-div\" style=\"height:525px; width:100%;\"></div>            <script type=\"text/javascript\">                require([\"plotly\"], function(Plotly) {                    window.PLOTLYENV=window.PLOTLYENV || {};                                    if (document.getElementById(\"a7be1e10-e8eb-4efe-abbe-909e302fccc3\")) {                    Plotly.newPlot(                        \"a7be1e10-e8eb-4efe-abbe-909e302fccc3\",                        [{\"hovertemplate\":\"variable=words_per_sent<br>index=%{x}<br>value=%{y}<extra></extra>\",\"legendgroup\":\"words_per_sent\",\"line\":{\"color\":\"#636efa\",\"dash\":\"solid\"},\"marker\":{\"symbol\":\"circle\"},\"mode\":\"lines\",\"name\":\"words_per_sent\",\"orientation\":\"v\",\"showlegend\":true,\"x\":[3403,3404,3405,3406,3407,3408,3409,3410,3411,3412,3413,3414,3415,3416,3417,3418,3419,3420,3421,3422,3423,3424,3425,3426,3427,3428,3429,3430,3431,3432,3433,3434,3435,3436,3437,3438,3439,3440,3441,3442,3443,3444,3445,3446,3447,3448,3449,3450,3451,3452,3453,3454,3455,3456,3457,3458,3459,3460,3461,3462,3463,3464,3465,3466,3467,3468,3469,3470,3471,3472,3473,3474,3475,3476,3477,3478,3479,3480,3481,3482,3483,3484,3485,3486,3487,3488,3489,3490,3491,3492,3493,3494,3495,3496,3497,3498],\"xaxis\":\"x\",\"y\":[3,15,14,12,29,24,22,50,21,25,14,16,20,13,11,23,13,17,19,17,11,15,18,36,11,25,7,5,14,19,14,16,25,8,15,22,14,9,21,13,7,20,18,20,15,18,21,11,16,30,8,6,11,15,6,19,18,13,17,7,13,10,16,12,22,25,11,8,28,14,14,10,13,14,28,10,21,11,39,18,10,26,23,20,13,11,30,14,10,27,15,8,10,29,19,8],\"yaxis\":\"y\",\"type\":\"scatter\"}],                        {\"template\":{\"data\":{\"histogram2dcontour\":[{\"type\":\"histogram2dcontour\",\"colorbar\":{\"outlinewidth\":0,\"ticks\":\"\"},\"colorscale\":[[0.0,\"#0d0887\"],[0.1111111111111111,\"#46039f\"],[0.2222222222222222,\"#7201a8\"],[0.3333333333333333,\"#9c179e\"],[0.4444444444444444,\"#bd3786\"],[0.5555555555555556,\"#d8576b\"],[0.6666666666666666,\"#ed7953\"],[0.7777777777777778,\"#fb9f3a\"],[0.8888888888888888,\"#fdca26\"],[1.0,\"#f0f921\"]]}],\"choropleth\":[{\"type\":\"choropleth\",\"colorbar\":{\"outlinewidth\":0,\"ticks\":\"\"}}],\"histogram2d\":[{\"type\":\"histogram2d\",\"colorbar\":{\"outlinewidth\":0,\"ticks\":\"\"},\"colorscale\":[[0.0,\"#0d0887\"],[0.1111111111111111,\"#46039f\"],[0.2222222222222222,\"#7201a8\"],[0.3333333333333333,\"#9c179e\"],[0.4444444444444444,\"#bd3786\"],[0.5555555555555556,\"#d8576b\"],[0.6666666666666666,\"#ed7953\"],[0.7777777777777778,\"#fb9f3a\"],[0.8888888888888888,\"#fdca26\"],[1.0,\"#f0f921\"]]}],\"heatmap\":[{\"type\":\"heatmap\",\"colorbar\":{\"outlinewidth\":0,\"ticks\":\"\"},\"colorscale\":[[0.0,\"#0d0887\"],[0.1111111111111111,\"#46039f\"],[0.2222222222222222,\"#7201a8\"],[0.3333333333333333,\"#9c179e\"],[0.4444444444444444,\"#bd3786\"],[0.5555555555555556,\"#d8576b\"],[0.6666666666666666,\"#ed7953\"],[0.7777777777777778,\"#fb9f3a\"],[0.8888888888888888,\"#fdca26\"],[1.0,\"#f0f921\"]]}],\"heatmapgl\":[{\"type\":\"heatmapgl\",\"colorbar\":{\"outlinewidth\":0,\"ticks\":\"\"},\"colorscale\":[[0.0,\"#0d0887\"],[0.1111111111111111,\"#46039f\"],[0.2222222222222222,\"#7201a8\"],[0.3333333333333333,\"#9c179e\"],[0.4444444444444444,\"#bd3786\"],[0.5555555555555556,\"#d8576b\"],[0.6666666666666666,\"#ed7953\"],[0.7777777777777778,\"#fb9f3a\"],[0.8888888888888888,\"#fdca26\"],[1.0,\"#f0f921\"]]}],\"contourcarpet\":[{\"type\":\"contourcarpet\",\"colorbar\":{\"outlinewidth\":0,\"ticks\":\"\"}}],\"contour\":[{\"type\":\"contour\",\"colorbar\":{\"outlinewidth\":0,\"ticks\":\"\"},\"colorscale\":[[0.0,\"#0d0887\"],[0.1111111111111111,\"#46039f\"],[0.2222222222222222,\"#7201a8\"],[0.3333333333333333,\"#9c179e\"],[0.4444444444444444,\"#bd3786\"],[0.5555555555555556,\"#d8576b\"],[0.6666666666666666,\"#ed7953\"],[0.7777777777777778,\"#fb9f3a\"],[0.8888888888888888,\"#fdca26\"],[1.0,\"#f0f921\"]]}],\"surface\":[{\"type\":\"surface\",\"colorbar\":{\"outlinewidth\":0,\"ticks\":\"\"},\"colorscale\":[[0.0,\"#0d0887\"],[0.1111111111111111,\"#46039f\"],[0.2222222222222222,\"#7201a8\"],[0.3333333333333333,\"#9c179e\"],[0.4444444444444444,\"#bd3786\"],[0.5555555555555556,\"#d8576b\"],[0.6666666666666666,\"#ed7953\"],[0.7777777777777778,\"#fb9f3a\"],[0.8888888888888888,\"#fdca26\"],[1.0,\"#f0f921\"]]}],\"mesh3d\":[{\"type\":\"mesh3d\",\"colorbar\":{\"outlinewidth\":0,\"ticks\":\"\"}}],\"scatter\":[{\"fillpattern\":{\"fillmode\":\"overlay\",\"size\":10,\"solidity\":0.2},\"type\":\"scatter\"}],\"parcoords\":[{\"type\":\"parcoords\",\"line\":{\"colorbar\":{\"outlinewidth\":0,\"ticks\":\"\"}}}],\"scatterpolargl\":[{\"type\":\"scatterpolargl\",\"marker\":{\"colorbar\":{\"outlinewidth\":0,\"ticks\":\"\"}}}],\"bar\":[{\"error_x\":{\"color\":\"#2a3f5f\"},\"error_y\":{\"color\":\"#2a3f5f\"},\"marker\":{\"line\":{\"color\":\"#E5ECF6\",\"width\":0.5},\"pattern\":{\"fillmode\":\"overlay\",\"size\":10,\"solidity\":0.2}},\"type\":\"bar\"}],\"scattergeo\":[{\"type\":\"scattergeo\",\"marker\":{\"colorbar\":{\"outlinewidth\":0,\"ticks\":\"\"}}}],\"scatterpolar\":[{\"type\":\"scatterpolar\",\"marker\":{\"colorbar\":{\"outlinewidth\":0,\"ticks\":\"\"}}}],\"histogram\":[{\"marker\":{\"pattern\":{\"fillmode\":\"overlay\",\"size\":10,\"solidity\":0.2}},\"type\":\"histogram\"}],\"scattergl\":[{\"type\":\"scattergl\",\"marker\":{\"colorbar\":{\"outlinewidth\":0,\"ticks\":\"\"}}}],\"scatter3d\":[{\"type\":\"scatter3d\",\"line\":{\"colorbar\":{\"outlinewidth\":0,\"ticks\":\"\"}},\"marker\":{\"colorbar\":{\"outlinewidth\":0,\"ticks\":\"\"}}}],\"scattermapbox\":[{\"type\":\"scattermapbox\",\"marker\":{\"colorbar\":{\"outlinewidth\":0,\"ticks\":\"\"}}}],\"scatterternary\":[{\"type\":\"scatterternary\",\"marker\":{\"colorbar\":{\"outlinewidth\":0,\"ticks\":\"\"}}}],\"scattercarpet\":[{\"type\":\"scattercarpet\",\"marker\":{\"colorbar\":{\"outlinewidth\":0,\"ticks\":\"\"}}}],\"carpet\":[{\"aaxis\":{\"endlinecolor\":\"#2a3f5f\",\"gridcolor\":\"white\",\"linecolor\":\"white\",\"minorgridcolor\":\"white\",\"startlinecolor\":\"#2a3f5f\"},\"baxis\":{\"endlinecolor\":\"#2a3f5f\",\"gridcolor\":\"white\",\"linecolor\":\"white\",\"minorgridcolor\":\"white\",\"startlinecolor\":\"#2a3f5f\"},\"type\":\"carpet\"}],\"table\":[{\"cells\":{\"fill\":{\"color\":\"#EBF0F8\"},\"line\":{\"color\":\"white\"}},\"header\":{\"fill\":{\"color\":\"#C8D4E3\"},\"line\":{\"color\":\"white\"}},\"type\":\"table\"}],\"barpolar\":[{\"marker\":{\"line\":{\"color\":\"#E5ECF6\",\"width\":0.5},\"pattern\":{\"fillmode\":\"overlay\",\"size\":10,\"solidity\":0.2}},\"type\":\"barpolar\"}],\"pie\":[{\"automargin\":true,\"type\":\"pie\"}]},\"layout\":{\"autotypenumbers\":\"strict\",\"colorway\":[\"#636efa\",\"#EF553B\",\"#00cc96\",\"#ab63fa\",\"#FFA15A\",\"#19d3f3\",\"#FF6692\",\"#B6E880\",\"#FF97FF\",\"#FECB52\"],\"font\":{\"color\":\"#2a3f5f\"},\"hovermode\":\"closest\",\"hoverlabel\":{\"align\":\"left\"},\"paper_bgcolor\":\"white\",\"plot_bgcolor\":\"#E5ECF6\",\"polar\":{\"bgcolor\":\"#E5ECF6\",\"angularaxis\":{\"gridcolor\":\"white\",\"linecolor\":\"white\",\"ticks\":\"\"},\"radialaxis\":{\"gridcolor\":\"white\",\"linecolor\":\"white\",\"ticks\":\"\"}},\"ternary\":{\"bgcolor\":\"#E5ECF6\",\"aaxis\":{\"gridcolor\":\"white\",\"linecolor\":\"white\",\"ticks\":\"\"},\"baxis\":{\"gridcolor\":\"white\",\"linecolor\":\"white\",\"ticks\":\"\"},\"caxis\":{\"gridcolor\":\"white\",\"linecolor\":\"white\",\"ticks\":\"\"}},\"coloraxis\":{\"colorbar\":{\"outlinewidth\":0,\"ticks\":\"\"}},\"colorscale\":{\"sequential\":[[0.0,\"#0d0887\"],[0.1111111111111111,\"#46039f\"],[0.2222222222222222,\"#7201a8\"],[0.3333333333333333,\"#9c179e\"],[0.4444444444444444,\"#bd3786\"],[0.5555555555555556,\"#d8576b\"],[0.6666666666666666,\"#ed7953\"],[0.7777777777777778,\"#fb9f3a\"],[0.8888888888888888,\"#fdca26\"],[1.0,\"#f0f921\"]],\"sequentialminus\":[[0.0,\"#0d0887\"],[0.1111111111111111,\"#46039f\"],[0.2222222222222222,\"#7201a8\"],[0.3333333333333333,\"#9c179e\"],[0.4444444444444444,\"#bd3786\"],[0.5555555555555556,\"#d8576b\"],[0.6666666666666666,\"#ed7953\"],[0.7777777777777778,\"#fb9f3a\"],[0.8888888888888888,\"#fdca26\"],[1.0,\"#f0f921\"]],\"diverging\":[[0,\"#8e0152\"],[0.1,\"#c51b7d\"],[0.2,\"#de77ae\"],[0.3,\"#f1b6da\"],[0.4,\"#fde0ef\"],[0.5,\"#f7f7f7\"],[0.6,\"#e6f5d0\"],[0.7,\"#b8e186\"],[0.8,\"#7fbc41\"],[0.9,\"#4d9221\"],[1,\"#276419\"]]},\"xaxis\":{\"gridcolor\":\"white\",\"linecolor\":\"white\",\"ticks\":\"\",\"title\":{\"standoff\":15},\"zerolinecolor\":\"white\",\"automargin\":true,\"zerolinewidth\":2},\"yaxis\":{\"gridcolor\":\"white\",\"linecolor\":\"white\",\"ticks\":\"\",\"title\":{\"standoff\":15},\"zerolinecolor\":\"white\",\"automargin\":true,\"zerolinewidth\":2},\"scene\":{\"xaxis\":{\"backgroundcolor\":\"#E5ECF6\",\"gridcolor\":\"white\",\"linecolor\":\"white\",\"showbackground\":true,\"ticks\":\"\",\"zerolinecolor\":\"white\",\"gridwidth\":2},\"yaxis\":{\"backgroundcolor\":\"#E5ECF6\",\"gridcolor\":\"white\",\"linecolor\":\"white\",\"showbackground\":true,\"ticks\":\"\",\"zerolinecolor\":\"white\",\"gridwidth\":2},\"zaxis\":{\"backgroundcolor\":\"#E5ECF6\",\"gridcolor\":\"white\",\"linecolor\":\"white\",\"showbackground\":true,\"ticks\":\"\",\"zerolinecolor\":\"white\",\"gridwidth\":2}},\"shapedefaults\":{\"line\":{\"color\":\"#2a3f5f\"}},\"annotationdefaults\":{\"arrowcolor\":\"#2a3f5f\",\"arrowhead\":0,\"arrowwidth\":1},\"geo\":{\"bgcolor\":\"white\",\"landcolor\":\"#E5ECF6\",\"subunitcolor\":\"white\",\"showland\":true,\"showlakes\":true,\"lakecolor\":\"white\"},\"title\":{\"x\":0.05},\"mapbox\":{\"style\":\"light\"}}},\"xaxis\":{\"anchor\":\"y\",\"domain\":[0.0,1.0],\"title\":{\"text\":\"index\"}},\"yaxis\":{\"anchor\":\"x\",\"domain\":[0.0,1.0],\"title\":{\"text\":\"value\"}},\"legend\":{\"title\":{\"text\":\"variable\"},\"tracegroupgap\":0},\"margin\":{\"t\":60}},                        {\"responsive\": true}                    ).then(function(){\n",
       "                            \n",
       "var gd = document.getElementById('a7be1e10-e8eb-4efe-abbe-909e302fccc3');\n",
       "var x = new MutationObserver(function (mutations, observer) {{\n",
       "        var display = window.getComputedStyle(gd).display;\n",
       "        if (!display || display === 'none') {{\n",
       "            console.log([gd, 'removed!']);\n",
       "            Plotly.purge(gd);\n",
       "            observer.disconnect();\n",
       "        }}\n",
       "}});\n",
       "\n",
       "// Listen for the removal of the full notebook cells\n",
       "var notebookContainer = gd.closest('#notebook-container');\n",
       "if (notebookContainer) {{\n",
       "    x.observe(notebookContainer, {childList: true});\n",
       "}}\n",
       "\n",
       "// Listen for the clearing of the current output cell\n",
       "var outputEl = gd.closest('.output');\n",
       "if (outputEl) {{\n",
       "    x.observe(outputEl, {childList: true});\n",
       "}}\n",
       "\n",
       "                        })                };                });            </script>        </div>"
      ]
     },
     "metadata": {},
     "output_type": "display_data"
    }
   ],
   "source": [
    "fig = px.line(gwb.query('date == \"2001-01-20\"').words_per_sent)\n",
    "fig.show()"
   ]
  },
  {
   "cell_type": "code",
   "execution_count": 124,
   "id": "60336433",
   "metadata": {},
   "outputs": [],
   "source": [
    "tidy_oba = pd.read_csv('tidy_data_oba.csv')\n",
    "tidy_gwb = pd.read_csv('tidy_data_gwb.csv')\n",
    "tidy_oba = pd.merge(tidy_oba, oba_std, how='left', on='date')\n",
    "tidy_gwb = pd.merge(tidy_gwb, gwb_std, how='left', on='date')"
   ]
  },
  {
   "cell_type": "code",
   "execution_count": 107,
   "id": "c9d41677",
   "metadata": {},
   "outputs": [],
   "source": [
    "#tidy_oba.to_csv('tidy_data_oba.csv', index=False)\n",
    "#tidy_gwb.to_csv('tidy_data_gwb.csv', index=False)"
   ]
  },
  {
   "cell_type": "markdown",
   "id": "89a4a377",
   "metadata": {},
   "source": [
    "### <a id=\"top10\">Look at Top 10 speeches</a>"
   ]
  },
  {
   "cell_type": "code",
   "execution_count": 39,
   "id": "2b428b57",
   "metadata": {},
   "outputs": [
    {
     "data": {
      "text/html": [
       "<div>\n",
       "<style scoped>\n",
       "    .dataframe tbody tr th:only-of-type {\n",
       "        vertical-align: middle;\n",
       "    }\n",
       "\n",
       "    .dataframe tbody tr th {\n",
       "        vertical-align: top;\n",
       "    }\n",
       "\n",
       "    .dataframe thead th {\n",
       "        text-align: right;\n",
       "    }\n",
       "</style>\n",
       "<table border=\"1\" class=\"dataframe\">\n",
       "  <thead>\n",
       "    <tr style=\"text-align: right;\">\n",
       "      <th></th>\n",
       "      <th>text</th>\n",
       "      <th>filepath</th>\n",
       "      <th>source</th>\n",
       "    </tr>\n",
       "    <tr>\n",
       "      <th>date</th>\n",
       "      <th></th>\n",
       "      <th></th>\n",
       "      <th></th>\n",
       "    </tr>\n",
       "  </thead>\n",
       "  <tbody>\n",
       "    <tr>\n",
       "      <th>2015-06-26</th>\n",
       "      <td>Giving all praise and honor to God. The Bible ...</td>\n",
       "      <td>./Top10/2015-06-26-barackobamaclementapinckney...</td>\n",
       "      <td>top1</td>\n",
       "    </tr>\n",
       "    <tr>\n",
       "      <th>2009-06-04</th>\n",
       "      <td>Thank you so much. Good afternoon. I am honore...</td>\n",
       "      <td>./Top10/2009-06-04-barackobamacairouniversity.txt</td>\n",
       "      <td>top1</td>\n",
       "    </tr>\n",
       "    <tr>\n",
       "      <th>2004-07-28</th>\n",
       "      <td>On behalf of the great state of Illinois, cros...</td>\n",
       "      <td>./Top10/2004-07-28-DNCSpeech.txt</td>\n",
       "      <td>top1</td>\n",
       "    </tr>\n",
       "  </tbody>\n",
       "</table>\n",
       "</div>"
      ],
      "text/plain": [
       "                                                         text  \\\n",
       "date                                                            \n",
       "2015-06-26  Giving all praise and honor to God. The Bible ...   \n",
       "2009-06-04  Thank you so much. Good afternoon. I am honore...   \n",
       "2004-07-28  On behalf of the great state of Illinois, cros...   \n",
       "\n",
       "                                                     filepath source  \n",
       "date                                                                  \n",
       "2015-06-26  ./Top10/2015-06-26-barackobamaclementapinckney...   top1  \n",
       "2009-06-04  ./Top10/2009-06-04-barackobamacairouniversity.txt   top1  \n",
       "2004-07-28                   ./Top10/2004-07-28-DNCSpeech.txt   top1  "
      ]
     },
     "execution_count": 39,
     "metadata": {},
     "output_type": "execute_result"
    }
   ],
   "source": [
    "# Load up the files\n",
    "paths = ['./Top10/']\n",
    "list_of_files = []\n",
    "\n",
    "for path in paths:\n",
    "    for root, dirs, files in os.walk(path):\n",
    "        for file in files:\n",
    "            if file.endswith('.txt'):\n",
    "                list_of_files.append(os.path.join(root,file))\n",
    "\n",
    "speeches = []\n",
    "for file in list_of_files:\n",
    "    with open(file, encoding='utf-8') as f:\n",
    "        #print(file)\n",
    "        text = f.read()\n",
    "    f.close()\n",
    "    speeches.append(text)\n",
    "\n",
    "#clean out goofy unicode  space characters \n",
    "speeches = [unicodedata.normalize(\"NFKD\", speech) for speech in speeches if len(speech)>0 ]\n",
    "\n",
    "# remove [stuff] in between square brackets\n",
    "def remove_bracket(text):\n",
    "    return re.sub('(\\[[^w]*\\]\\s)', '',text)\n",
    "speeches = [remove_bracket(speech) for speech in speeches]\n",
    "\n",
    "# lemmatize text with spacy\n",
    "#nlp = spacy.load(\"en_core_web_md\", exclude=[\"parser\", \"ner\"])\n",
    "#for i, doc in enumerate(nlp.pipe(speeches)):\n",
    "#    words_lemmas_list = [token.lemma_ for token in doc]\n",
    "#    speeches[i]= ' '.join(words_lemmas_list)\n",
    "    \n",
    "# Remove punctuation - only care about words here\n",
    "#speeches = [re.sub(r'[^\\w\\s]', '', speech) for speech in speeches]\n",
    "\n",
    "# remove numbers\n",
    "#speeches = [re.sub(r'\\d', '', speech) for speech in speeches]\n",
    "\n",
    "# Clean up whitespace\n",
    "speeches = [re.sub('[\\s+]', ' ', speech) for speech in speeches]\n",
    "    \n",
    "# Combine speeches and filenames\n",
    "speeches = list(zip(speeches, list_of_files))\n",
    "    \n",
    "def get_source(text):\n",
    "    regex = \"[^./][a-zA-Z]+[^/]\"\n",
    "    string = re.findall(regex, str(text))[0]\n",
    "    if string == 'speeches': string = 'oba'\n",
    "    if string == 'NYTimes': string = 'nyt'\n",
    "    return string.lower()\n",
    "\n",
    "def get_date(text):\n",
    "    regex = \"([0-9]+[\\-][0-9]+[\\-][0-9]+)\"\n",
    "    return re.findall(regex, str(text))[0]\n",
    "\n",
    "def get_filename(text):\n",
    "    regex = \"[-]([a-zA-Z]+)\"\n",
    "    return re.findall(regex, str(text))[0]\n",
    "\n",
    "#dates = pd.read_csv('speech_and_date.csv') # day-month-year\n",
    "dates = pd.DataFrame(list_of_files, columns = ['filepath'])\n",
    "dates['date'] = [get_date(file) for file in dates.filepath]\n",
    "dates['date'] = pd.to_datetime(dates['date'], format='%Y-%m-%d')\n",
    "\n",
    "cols_speeches = ['text', 'filepath']\n",
    "text_df = pd.DataFrame(speeches, columns=cols_speeches)\n",
    "\n",
    "text_df = pd.merge(text_df, dates, how='left', on='filepath')\n",
    "text_df.sort_values(by='date')\n",
    "text_df['source'] = text_df['filepath'].apply(get_source)\n",
    "text_df.set_index('date', inplace=True)\n",
    "text_df.head(3)"
   ]
  },
  {
   "cell_type": "code",
   "execution_count": 3,
   "id": "39d1ab87",
   "metadata": {},
   "outputs": [],
   "source": [
    "######################## HELPER FUNCTIONS ########################\n",
    "def words_per_sentence(sentence):\n",
    "    '''returns: integer number of words in a sentence'''\n",
    "    tokenizer = RegexpTokenizer(r'\\w+')\n",
    "    tokens = tokenizer.tokenize(sentence)\n",
    "    return(len(tokens))\n",
    "\n",
    "def chars_per_word(word):\n",
    "    '''returns: integer number of characters in a word'''\n",
    "    return(len(word))\n",
    "\n",
    "def string_to_list(sentence):\n",
    "    '''converts a string/sentence to a list of words'''\n",
    "    tokenizer = RegexpTokenizer(r'\\w+')\n",
    "    return(tokenizer.tokenize(sentence))\n",
    "\n",
    "def chars_per_word_sentence(sentence):\n",
    "    '''input: string of a sentence\n",
    "       returns: list of number of characters in a sentence'''\n",
    "    tokenizer = RegexpTokenizer(r'\\w+')\n",
    "    tokens = tokenizer.tokenize(sentence)\n",
    "    char_len_list = [chars_per_word(word) for word in tokens]\n",
    "    return(char_len_list)\n",
    "\n",
    "def text_to_sentence(text):\n",
    "    '''uses spacy nlp object to break up sentences\n",
    "       input: pandas series of strings\n",
    "       returns: list of sentence strings'''\n",
    "    doc = nlp(' '.join(text.tolist()))\n",
    "    assert doc.has_annotation(\"SENT_START\")\n",
    "    return([str(sent) for sent in doc.sents])\n",
    "\n",
    "def text_to_wordlist(text):\n",
    "    '''input: string or pandas series of text\n",
    "       returns: list of all words'''\n",
    "    if isinstance(text, str):\n",
    "        text = [text]\n",
    "    return(' '.join(text).split())\n",
    "\n",
    "def syllable_count(word):\n",
    "    '''counts number of syllables in a word'''\n",
    "    word = word.lower()\n",
    "    count = 0\n",
    "    vowels = \"aeiouy\"\n",
    "    if word[0] in vowels:\n",
    "        count += 1\n",
    "    for index in range(1, len(word)):\n",
    "        if word[index] in vowels and word[index - 1] not in vowels:\n",
    "            count += 1\n",
    "    if word.endswith(\"e\"):\n",
    "        count -= 1\n",
    "    if count == 0:\n",
    "        count += 1\n",
    "    return count\n",
    "\n",
    "def count_total_words(text):\n",
    "    '''count total number of words in a text\n",
    "       input: str or pandas.core.series.Series of text\n",
    "       returns: integer'''\n",
    "    if isinstance(text, list):\n",
    "        list_of_sentence = text\n",
    "    elif isinstance(text, str):\n",
    "        list_of_sentence = [text]\n",
    "    elif isinstance(text, pd.Series):\n",
    "        list_of_sentence = text_to_sentence(text)\n",
    "    else:\n",
    "        print('count_total_words: Error: not a string or pandas series object.')\n",
    "    list_of_word_count = [words_per_sentence(str(sentence)) for sentence in list_of_sentence]\n",
    "    return(np.sum(list_of_word_count))\n",
    "\n",
    "def count_total_sentences(text):\n",
    "    '''count total number of sentences in a text\n",
    "       input: str or pandas.core.series.Series of text\n",
    "       returns: integer'''\n",
    "    if isinstance(text, pd.Series):\n",
    "        text = ' '.join(text)\n",
    "    sentences = sent_tokenize(text)\n",
    "    return(len(sentences))\n",
    "\n",
    "# Count Syllables\n",
    "# https://datascience.stackexchange.com/questions/23376/how-to-get-the-number-of-syllables-in-a-word\n",
    "def syllables(word):\n",
    "    '''backup syllable counter if word not in NLTK-CMU dictionary'''\n",
    "    #referred from stackoverflow.com/questions/14541303/count-the-number-of-syllables-in-a-word\n",
    "    count = 0\n",
    "    vowels = 'aeiouy'\n",
    "    word = word.lower()\n",
    "    try:\n",
    "        if word[0] in vowels:\n",
    "            count +=1\n",
    "    except:\n",
    "        count += 0\n",
    "    for index in range(1,len(word)):\n",
    "        if word[index] in vowels and word[index-1] not in vowels:\n",
    "            count +=1\n",
    "    if word.endswith('e'):\n",
    "        count -= 1\n",
    "    if word.endswith('le'):\n",
    "        count += 1\n",
    "    if count == 0:\n",
    "        count += 1\n",
    "    return count\n",
    "\n",
    "d = cmudict.dict()\n",
    "def nsyl(word):\n",
    "    '''input: string - word\n",
    "       returns: integer count of syllables in word'''\n",
    "    try:\n",
    "        # needs the [0] otherwise words like 'of' returns [1,1]\n",
    "        return [len(list(y for y in x if y[-1].isdigit())) for x in d[word.lower()]][0]\n",
    "    except KeyError:\n",
    "        #if word not found in cmudict\n",
    "        return syllables(word)\n",
    "\n",
    "def count_total_syllables(text):\n",
    "    '''count total number of sentences in a text\n",
    "       input: str or pandas.core.series.Series of text\n",
    "       returns: integer count'''\n",
    "    if isinstance(text, str):\n",
    "        list_of_sentence = [text]\n",
    "    elif isinstance(text, pd.Series):\n",
    "        list_of_sentence = text_to_sentence(text)\n",
    "    else:\n",
    "        print('count_total_syllables: Error: not a string or pandas series object.')\n",
    "    list_of_words = text_to_wordlist(list_of_sentence)\n",
    "    syllable_list = [nsyl(word) for word in list_of_words]\n",
    "    return(np.sum(syllable_list))\n",
    "\n",
    "def count_of_letters(text):\n",
    "    '''count total number of letters or digits in a text\n",
    "       input: str or pandas.core.series.Series of text\n",
    "       returns: integer count'''\n",
    "    if isinstance(text, pd.Series):\n",
    "        text = ' '.join(text)\n",
    "    # Replace punctuations with an empty string.\n",
    "    str1 = re.sub(r\"[^\\w\\s]|_\", \"\", text)\n",
    "    no_spaces = str1.replace(\" \", \"\")\n",
    "    return(len(no_spaces))\n",
    "\n",
    "\n",
    "def difficult_words_list(list1):\n",
    "    '''returns difference of list with easy_word list for Dale-Chall\n",
    "       input: two lists of strings/words\n",
    "       returns: list of unique words in both lists'''\n",
    "    if isinstance(list1, pd.Series):\n",
    "        list1 = ' '.join(text)\n",
    "    if isinstance(list1, list):\n",
    "        list1 = list1[0]\n",
    "    try:\n",
    "        easy_words_file = open('./word_lists/DaleChallEasyWordList.txt', 'r')\n",
    "        easy_words = easy_words_file.read().split('\\n')\n",
    "    except E:\n",
    "        print(\"Error reading easy words file\", E)\n",
    "    easy_words_file.close()\n",
    "    easy_words = [word.lower() for word in easy_words]\n",
    "    easy_words = set(easy_words)\n",
    "    diff = [word.lower() for word in list1.split() if word.lower() not in easy_words]\n",
    "    return(diff)\n",
    "\n",
    "def dc_difficult_word_count(text):\n",
    "    '''Count of difficult words - those not in Dale-Chall Easy Word List\n",
    "       input: str or pandas.core.series.Series of text\n",
    "       returns: integer count of difficult words in text'''\n",
    "    list_of_dc_difficult = difficult_words_list(text)\n",
    "    return(len(list_of_dc_difficult))\n",
    "\n",
    "lemmatizer = WordNetLemmatizer()\n",
    "def gf_complex_word_count(text):\n",
    "    '''Count of complex - >= 3 syllables with caveats\n",
    "       input: str or pandas.core.series.Series of text\n",
    "       returns: integer count of complex words in text'''\n",
    "    if isinstance(text, pd.Series):\n",
    "        text = ' '.join(text)\n",
    "    if isinstance(text, list):\n",
    "        text = str(text[0])\n",
    "    text = [word.lower() for word in text.split()]\n",
    "    lemma = [lemmatizer.lemmatize(word) for word in text]\n",
    "    stem = [re.sub(\"(?:ing|ed|es|ly)$\",\"\",word) for word in text]\n",
    "    syllable_list = [nsyl(word) for word in stem]\n",
    "    complex_count = sum(x > 2 for x in syllable_list)\n",
    "    return(complex_count)\n",
    "\n",
    "def smog_poly_count(text):\n",
    "    '''counts number of words with 3 or more syllables\n",
    "       input: str or pandas.core.series.Series of text\n",
    "       returns: integer count of polysyllabic words in text'''\n",
    "    if isinstance(text, pd.Series):\n",
    "        text = ' '.join(text)\n",
    "    if isinstance(text, list):\n",
    "        text = str(text[0])\n",
    "    text = [word.lower() for word in text.split()]\n",
    "    syllable_list = [nsyl(word) for word in text]\n",
    "    poly_count = sum(x > 2 for x in syllable_list)\n",
    "    return(poly_count)\n",
    "\n",
    "\n",
    "######################## READABILITY SCORES ########################\n",
    "\n",
    "# https://en.wikipedia.org/wiki/Automated_readability_index\n",
    "# 4.71(chars/word) + 0.5(words/sentence) - 21.43\n",
    "def ari(text):\n",
    "    '''input: string of sentence\n",
    "       returns: float ari score'''\n",
    "    character_count = count_of_letters(text)\n",
    "    word_count = count_total_words(text)\n",
    "    sentence_count = count_total_sentences(text)\n",
    "    ari = 4.71*(character_count/word_count) + 0.5*(word_count/sentence_count) - 21.43\n",
    "    return(ari)\n",
    "\n",
    "# https://en.wikipedia.org/wiki/Flesch%E2%80%93Kincaid_readability_tests\n",
    "# Flesch–Kincaid grade level\n",
    "# 0.39(total words/total sentences) + 11.8(total syllables/total words) - 15.59\n",
    "def flesch_kincaid(text):\n",
    "    '''input: string or pandas series of text, multiple sentences\n",
    "       returns: float - flesh kincaid grade level score'''\n",
    "    num_total_words = count_total_words(text)\n",
    "    num_total_sentences = count_total_sentences(text)\n",
    "    num_total_syllables = count_total_syllables(text)\n",
    "    fkgl = 0.39*(num_total_words/num_total_sentences) + 11.8*(num_total_syllables/num_total_words) - 15.59\n",
    "    return(fkgl)\n",
    "\n",
    "# https://en.wikipedia.org/wiki/Coleman%E2%80%93Liau_index\n",
    "# 0.0588(average number of letters per 100 words) - 0.296(average number of sentences per 100 words) - 15.8\n",
    "def coleman_liau(text):\n",
    "    '''input: string or pandas series of text, multiple sentences\n",
    "       returns: float - Coleman-Liau index'''\n",
    "    character_count = count_of_letters(text)\n",
    "    word_count = count_total_words(text)\n",
    "    sentence_count = count_total_sentences(text)\n",
    "    l = character_count/word_count*100\n",
    "    s = sentence_count/word_count*100\n",
    "    cl = 0.0588*l - 0.296*s - 15.8\n",
    "    return(cl)\n",
    "\n",
    "# https://en.wikipedia.org/wiki/Dale%E2%80%93Chall_readability_formula\n",
    "# 0.1579(100*difficult words/words) + 0.496(words/sentences)\n",
    "def dale_chall(text):\n",
    "    '''input: string or pandas series of text, multiple sentences\n",
    "       returns: float - Dale-Chall readability score'''\n",
    "    difficult_words = dc_difficult_word_count(text)\n",
    "    word_count = count_total_words(text)\n",
    "    sentence_count = count_total_sentences(text)\n",
    "    dc = 0.1579*(100*difficult_words/word_count) + 0.496*(word_count/sentence_count)\n",
    "    return(dc)\n",
    "\n",
    "# https://en.wikipedia.org/wiki/Gunning_fog_index\n",
    "# 0.4[(words/sentence) + 100(complex words/words)]\n",
    "def gunning_fog(text):\n",
    "    '''input: string or pandas series of text, multiple sentences\n",
    "       returns: float - Gunning Fog index readability score'''\n",
    "    complex_words = gf_complex_word_count(text)\n",
    "    word_count = count_total_words(text)\n",
    "    sentence_count = count_total_sentences(text)\n",
    "    gf = 0.4*((word_count/sentence_count) + 100*(complex_words/word_count))\n",
    "    return(gf)\n",
    "\n",
    "# https://en.wikipedia.org/wiki/SMOG\n",
    "# 1.043*sqrt(30*number polysylables/number sentences)+3.1291\n",
    "def smog(text):\n",
    "    '''input: string or pandas series of text, multiple sentences\n",
    "       returns: float - SMOG grade readability score'''\n",
    "    poly_count = smog_poly_count(text)\n",
    "    sentence_count = count_total_sentences(text)\n",
    "    smog_score = 1.043*np.sqrt(30*poly_count/sentence_count) + 3.1291\n",
    "    return(smog_score)"
   ]
  },
  {
   "cell_type": "code",
   "execution_count": 4,
   "id": "fb9c3e0a",
   "metadata": {},
   "outputs": [],
   "source": [
    "text_df['char_count'] = text_df['text'].apply(count_of_letters)\n",
    "text_df['syl_count'] = text_df['text'].apply(count_total_syllables)\n",
    "text_df['word_count'] = text_df['text'].apply(count_total_words)\n",
    "text_df['char_per_word'] = text_df['char_count']/text_df['word_count']#\n",
    "text_df['syl_per_word'] = text_df['syl_count']/text_df['word_count']#\n",
    "text_df['sent_count'] = text_df['text'].apply(count_total_sentences)\n",
    "text_df['word_per_sent'] = text_df['word_count']/text_df['sent_count']#\n",
    "\n",
    "text_df['dc_word_count'] = text_df['text'].apply(dc_difficult_word_count)\n",
    "text_df['gf_word_count'] = text_df['text'].apply(gf_complex_word_count)\n",
    "text_df['poly_word_count'] = text_df['text'].apply(smog_poly_count)\n",
    "\n",
    "text_df['dc_word_perc'] = text_df['dc_word_count']/text_df['word_count']#\n",
    "text_df['gf_word_perc'] = text_df['gf_word_count']/text_df['word_count']#\n",
    "text_df['poly_word_perc'] = text_df['poly_word_count']/text_df['word_count']#\n",
    "\n",
    "text_df['ari'] = text_df['text'].apply(ari)\n",
    "text_df['flesch_kincaid'] = text_df['text'].apply(flesch_kincaid)\n",
    "text_df['coleman_liau'] = text_df['text'].apply(coleman_liau)\n",
    "text_df['dale_chall'] = text_df['text'].apply(dale_chall)\n",
    "text_df['gunning_fog'] = text_df['text'].apply(gunning_fog)\n",
    "text_df['smog'] = text_df['text'].apply(smog)"
   ]
  },
  {
   "cell_type": "code",
   "execution_count": 40,
   "id": "80699e71",
   "metadata": {},
   "outputs": [],
   "source": [
    "text_df['sentences'] = text_df['text'].apply(sent_tokenize)"
   ]
  },
  {
   "cell_type": "code",
   "execution_count": 41,
   "id": "0427d426",
   "metadata": {},
   "outputs": [],
   "source": [
    "text_df['date'] = text_df.index"
   ]
  },
  {
   "cell_type": "code",
   "execution_count": 42,
   "id": "d4cbd015",
   "metadata": {},
   "outputs": [],
   "source": [
    "# Make data frame of sentences and parse tree depth of each\n",
    "def walk_tree_depth(node, depth):\n",
    "    if node.n_lefts + node.n_rights > 0:\n",
    "        return max(walk_tree_depth(child, depth+1) for child in node.children )\n",
    "    else:\n",
    "        return depth\n",
    "nlp = spacy.load(\"en_core_web_md\")    \n",
    "tree_depth = pd.DataFrame(columns = ['date', 'source', 'sentence', 'depth'])\n",
    "for i, speech in enumerate(text_df['sentences']):\n",
    "    for j, sentence in enumerate(speech):\n",
    "        doc = nlp(sentence)\n",
    "        depth = [walk_tree_depth(sent.root, 0) for sent in doc.sents][0]\n",
    "        tree_depth.loc[len(tree_depth)] = [text_df['date'].iloc[i], text_df['source'].iloc[i], sentence, depth]"
   ]
  },
  {
   "cell_type": "code",
   "execution_count": 43,
   "id": "67cf89b2",
   "metadata": {},
   "outputs": [],
   "source": [
    "tree_depth['words_per_sent'] = tree_depth.sentence.apply(words_per_sentence)\n",
    "tree_depth['syllables_per_sent'] = [nsyl(word) for word in tree_depth.sentence]\n",
    "tree_depth['chars_per_sent'] = [chars_per_word(word) for word in tree_depth.sentence]"
   ]
  },
  {
   "cell_type": "code",
   "execution_count": 44,
   "id": "f6091b1b",
   "metadata": {},
   "outputs": [
    {
     "data": {
      "text/html": [
       "<div>\n",
       "<style scoped>\n",
       "    .dataframe tbody tr th:only-of-type {\n",
       "        vertical-align: middle;\n",
       "    }\n",
       "\n",
       "    .dataframe tbody tr th {\n",
       "        vertical-align: top;\n",
       "    }\n",
       "\n",
       "    .dataframe thead th {\n",
       "        text-align: right;\n",
       "    }\n",
       "</style>\n",
       "<table border=\"1\" class=\"dataframe\">\n",
       "  <thead>\n",
       "    <tr style=\"text-align: right;\">\n",
       "      <th></th>\n",
       "      <th>depth_std</th>\n",
       "      <th>words_per_sent_std</th>\n",
       "      <th>syllables_per_sent_std</th>\n",
       "      <th>chars_per_sent_std</th>\n",
       "    </tr>\n",
       "    <tr>\n",
       "      <th>date</th>\n",
       "      <th></th>\n",
       "      <th></th>\n",
       "      <th></th>\n",
       "      <th></th>\n",
       "    </tr>\n",
       "  </thead>\n",
       "  <tbody>\n",
       "    <tr>\n",
       "      <th>2004-07-28</th>\n",
       "      <td>2.844063</td>\n",
       "      <td>21.525296</td>\n",
       "      <td>31.405842</td>\n",
       "      <td>112.610653</td>\n",
       "    </tr>\n",
       "    <tr>\n",
       "      <th>2008-03-18</th>\n",
       "      <td>3.022116</td>\n",
       "      <td>17.011296</td>\n",
       "      <td>28.029918</td>\n",
       "      <td>96.685098</td>\n",
       "    </tr>\n",
       "    <tr>\n",
       "      <th>2008-08-28</th>\n",
       "      <td>2.752099</td>\n",
       "      <td>16.350835</td>\n",
       "      <td>24.926814</td>\n",
       "      <td>87.917105</td>\n",
       "    </tr>\n",
       "    <tr>\n",
       "      <th>2008-11-04</th>\n",
       "      <td>3.066697</td>\n",
       "      <td>19.629516</td>\n",
       "      <td>29.506903</td>\n",
       "      <td>106.358513</td>\n",
       "    </tr>\n",
       "    <tr>\n",
       "      <th>2009-06-04</th>\n",
       "      <td>2.300584</td>\n",
       "      <td>11.922056</td>\n",
       "      <td>19.856574</td>\n",
       "      <td>68.133230</td>\n",
       "    </tr>\n",
       "    <tr>\n",
       "      <th>2009-10-09</th>\n",
       "      <td>2.690526</td>\n",
       "      <td>11.425525</td>\n",
       "      <td>18.887673</td>\n",
       "      <td>65.597751</td>\n",
       "    </tr>\n",
       "    <tr>\n",
       "      <th>2011-01-14</th>\n",
       "      <td>2.695232</td>\n",
       "      <td>14.291677</td>\n",
       "      <td>21.541347</td>\n",
       "      <td>76.207387</td>\n",
       "    </tr>\n",
       "    <tr>\n",
       "      <th>2015-03-07</th>\n",
       "      <td>2.139607</td>\n",
       "      <td>12.979018</td>\n",
       "      <td>20.470547</td>\n",
       "      <td>73.642031</td>\n",
       "    </tr>\n",
       "    <tr>\n",
       "      <th>2015-06-26</th>\n",
       "      <td>2.870117</td>\n",
       "      <td>15.717180</td>\n",
       "      <td>25.220822</td>\n",
       "      <td>89.114615</td>\n",
       "    </tr>\n",
       "    <tr>\n",
       "      <th>2016-07-28</th>\n",
       "      <td>2.747137</td>\n",
       "      <td>14.267376</td>\n",
       "      <td>21.792388</td>\n",
       "      <td>76.951701</td>\n",
       "    </tr>\n",
       "  </tbody>\n",
       "</table>\n",
       "</div>"
      ],
      "text/plain": [
       "            depth_std  words_per_sent_std  syllables_per_sent_std  \\\n",
       "date                                                                \n",
       "2004-07-28   2.844063           21.525296               31.405842   \n",
       "2008-03-18   3.022116           17.011296               28.029918   \n",
       "2008-08-28   2.752099           16.350835               24.926814   \n",
       "2008-11-04   3.066697           19.629516               29.506903   \n",
       "2009-06-04   2.300584           11.922056               19.856574   \n",
       "2009-10-09   2.690526           11.425525               18.887673   \n",
       "2011-01-14   2.695232           14.291677               21.541347   \n",
       "2015-03-07   2.139607           12.979018               20.470547   \n",
       "2015-06-26   2.870117           15.717180               25.220822   \n",
       "2016-07-28   2.747137           14.267376               21.792388   \n",
       "\n",
       "            chars_per_sent_std  \n",
       "date                            \n",
       "2004-07-28          112.610653  \n",
       "2008-03-18           96.685098  \n",
       "2008-08-28           87.917105  \n",
       "2008-11-04          106.358513  \n",
       "2009-06-04           68.133230  \n",
       "2009-10-09           65.597751  \n",
       "2011-01-14           76.207387  \n",
       "2015-03-07           73.642031  \n",
       "2015-06-26           89.114615  \n",
       "2016-07-28           76.951701  "
      ]
     },
     "execution_count": 44,
     "metadata": {},
     "output_type": "execute_result"
    }
   ],
   "source": [
    "tree_depth.groupby(by='date').std(numeric_only=True).add_suffix('_std')"
   ]
  },
  {
   "cell_type": "code",
   "execution_count": 45,
   "id": "9ec83f32",
   "metadata": {},
   "outputs": [
    {
     "data": {
      "text/html": [
       "<div>\n",
       "<style scoped>\n",
       "    .dataframe tbody tr th:only-of-type {\n",
       "        vertical-align: middle;\n",
       "    }\n",
       "\n",
       "    .dataframe tbody tr th {\n",
       "        vertical-align: top;\n",
       "    }\n",
       "\n",
       "    .dataframe thead th {\n",
       "        text-align: right;\n",
       "    }\n",
       "</style>\n",
       "<table border=\"1\" class=\"dataframe\">\n",
       "  <thead>\n",
       "    <tr style=\"text-align: right;\">\n",
       "      <th></th>\n",
       "      <th>depth_med</th>\n",
       "      <th>words_per_sent_med</th>\n",
       "      <th>syllables_per_sent_med</th>\n",
       "      <th>chars_per_sent_med</th>\n",
       "    </tr>\n",
       "    <tr>\n",
       "      <th>date</th>\n",
       "      <th></th>\n",
       "      <th></th>\n",
       "      <th></th>\n",
       "      <th></th>\n",
       "    </tr>\n",
       "  </thead>\n",
       "  <tbody>\n",
       "    <tr>\n",
       "      <th>2004-07-28</th>\n",
       "      <td>5.0</td>\n",
       "      <td>16.0</td>\n",
       "      <td>25.0</td>\n",
       "      <td>83.0</td>\n",
       "    </tr>\n",
       "    <tr>\n",
       "      <th>2008-03-18</th>\n",
       "      <td>6.0</td>\n",
       "      <td>21.0</td>\n",
       "      <td>33.0</td>\n",
       "      <td>113.0</td>\n",
       "    </tr>\n",
       "    <tr>\n",
       "      <th>2008-08-28</th>\n",
       "      <td>5.0</td>\n",
       "      <td>20.0</td>\n",
       "      <td>29.0</td>\n",
       "      <td>105.0</td>\n",
       "    </tr>\n",
       "    <tr>\n",
       "      <th>2008-11-04</th>\n",
       "      <td>5.0</td>\n",
       "      <td>16.0</td>\n",
       "      <td>26.0</td>\n",
       "      <td>81.0</td>\n",
       "    </tr>\n",
       "    <tr>\n",
       "      <th>2009-06-04</th>\n",
       "      <td>5.0</td>\n",
       "      <td>17.0</td>\n",
       "      <td>28.0</td>\n",
       "      <td>98.0</td>\n",
       "    </tr>\n",
       "    <tr>\n",
       "      <th>2009-10-09</th>\n",
       "      <td>5.0</td>\n",
       "      <td>18.5</td>\n",
       "      <td>30.0</td>\n",
       "      <td>103.0</td>\n",
       "    </tr>\n",
       "    <tr>\n",
       "      <th>2011-01-14</th>\n",
       "      <td>5.0</td>\n",
       "      <td>17.0</td>\n",
       "      <td>26.0</td>\n",
       "      <td>87.0</td>\n",
       "    </tr>\n",
       "    <tr>\n",
       "      <th>2015-03-07</th>\n",
       "      <td>5.0</td>\n",
       "      <td>16.0</td>\n",
       "      <td>24.0</td>\n",
       "      <td>86.5</td>\n",
       "    </tr>\n",
       "    <tr>\n",
       "      <th>2015-06-26</th>\n",
       "      <td>4.0</td>\n",
       "      <td>11.0</td>\n",
       "      <td>17.0</td>\n",
       "      <td>60.0</td>\n",
       "    </tr>\n",
       "    <tr>\n",
       "      <th>2016-07-28</th>\n",
       "      <td>4.0</td>\n",
       "      <td>14.0</td>\n",
       "      <td>19.5</td>\n",
       "      <td>70.5</td>\n",
       "    </tr>\n",
       "  </tbody>\n",
       "</table>\n",
       "</div>"
      ],
      "text/plain": [
       "            depth_med  words_per_sent_med  syllables_per_sent_med  \\\n",
       "date                                                                \n",
       "2004-07-28        5.0                16.0                    25.0   \n",
       "2008-03-18        6.0                21.0                    33.0   \n",
       "2008-08-28        5.0                20.0                    29.0   \n",
       "2008-11-04        5.0                16.0                    26.0   \n",
       "2009-06-04        5.0                17.0                    28.0   \n",
       "2009-10-09        5.0                18.5                    30.0   \n",
       "2011-01-14        5.0                17.0                    26.0   \n",
       "2015-03-07        5.0                16.0                    24.0   \n",
       "2015-06-26        4.0                11.0                    17.0   \n",
       "2016-07-28        4.0                14.0                    19.5   \n",
       "\n",
       "            chars_per_sent_med  \n",
       "date                            \n",
       "2004-07-28                83.0  \n",
       "2008-03-18               113.0  \n",
       "2008-08-28               105.0  \n",
       "2008-11-04                81.0  \n",
       "2009-06-04                98.0  \n",
       "2009-10-09               103.0  \n",
       "2011-01-14                87.0  \n",
       "2015-03-07                86.5  \n",
       "2015-06-26                60.0  \n",
       "2016-07-28                70.5  "
      ]
     },
     "execution_count": 45,
     "metadata": {},
     "output_type": "execute_result"
    }
   ],
   "source": [
    "tree_depth.groupby(by='date').median(numeric_only=True).add_suffix('_med')"
   ]
  },
  {
   "cell_type": "code",
   "execution_count": 46,
   "id": "242e15ab",
   "metadata": {},
   "outputs": [
    {
     "data": {
      "application/vnd.plotly.v1+json": {
       "config": {
        "plotlyServerURL": "https://plot.ly"
       },
       "data": [
        {
         "hovertemplate": "variable=words_per_sent<br>index=%{x}<br>value=%{y}<extra></extra>",
         "legendgroup": "words_per_sent",
         "line": {
          "color": "#636efa",
          "dash": "solid"
         },
         "marker": {
          "symbol": "circle"
         },
         "mode": "lines",
         "name": "words_per_sent",
         "orientation": "v",
         "showlegend": true,
         "type": "scatter",
         "x": [
          1726,
          1727,
          1728,
          1729,
          1730,
          1731,
          1732,
          1733,
          1734,
          1735,
          1736,
          1737,
          1738,
          1739,
          1740,
          1741,
          1742,
          1743,
          1744,
          1745,
          1746,
          1747,
          1748,
          1749,
          1750,
          1751,
          1752,
          1753,
          1754,
          1755,
          1756,
          1757,
          1758,
          1759,
          1760,
          1761,
          1762,
          1763,
          1764,
          1765,
          1766,
          1767,
          1768,
          1769,
          1770,
          1771,
          1772,
          1773,
          1774,
          1775,
          1776,
          1777,
          1778,
          1779,
          1780,
          1781,
          1782,
          1783,
          1784,
          1785,
          1786,
          1787,
          1788,
          1789,
          1790,
          1791,
          1792,
          1793,
          1794,
          1795,
          1796,
          1797,
          1798,
          1799,
          1800,
          1801,
          1802,
          1803,
          1804,
          1805,
          1806,
          1807,
          1808,
          1809,
          1810,
          1811,
          1812,
          1813,
          1814,
          1815,
          1816,
          1817,
          1818,
          1819,
          1820,
          1821,
          1822,
          1823,
          1824,
          1825,
          1826,
          1827,
          1828,
          1829,
          1830,
          1831,
          1832,
          1833,
          1834,
          1835,
          1836,
          1837,
          1838,
          1839,
          1840,
          1841,
          1842,
          1843,
          1844,
          1845,
          1846,
          1847,
          1848,
          1849,
          1850,
          1851,
          1852,
          1853,
          1854,
          1855,
          1856,
          1857,
          1858,
          1859,
          1860,
          1861,
          1862,
          1863,
          1864,
          1865,
          1866,
          1867,
          1868,
          1869,
          1870,
          1871,
          1872,
          1873,
          1874,
          1875,
          1876,
          1877,
          1878,
          1879,
          1880,
          1881,
          1882,
          1883,
          1884,
          1885,
          1886,
          1887,
          1888,
          1889,
          1890,
          1891,
          1892,
          1893,
          1894,
          1895,
          1896,
          1897,
          1898,
          1899,
          1900,
          1901,
          1902,
          1903,
          1904,
          1905,
          1906,
          1907,
          1908,
          1909,
          1910,
          1911,
          1912,
          1913,
          1914,
          1915,
          1916,
          1917,
          1918,
          1919,
          1920,
          1921
         ],
         "xaxis": "x",
         "y": [
          14,
          8,
          31,
          9,
          9,
          20,
          20,
          9,
          39,
          37,
          39,
          10,
          21,
          5,
          52,
          21,
          21,
          35,
          16,
          24,
          6,
          49,
          28,
          35,
          31,
          15,
          11,
          32,
          8,
          11,
          6,
          5,
          5,
          34,
          9,
          30,
          26,
          29,
          11,
          13,
          44,
          65,
          12,
          17,
          43,
          29,
          30,
          9,
          16,
          32,
          54,
          35,
          20,
          3,
          6,
          11,
          15,
          20,
          13,
          7,
          41,
          11,
          9,
          11,
          8,
          49,
          20,
          5,
          5,
          13,
          21,
          8,
          7,
          12,
          19,
          13,
          13,
          13,
          16,
          29,
          12,
          16,
          9,
          14,
          10,
          10,
          24,
          26,
          18,
          22,
          33,
          53,
          13,
          28,
          8,
          8,
          29,
          40,
          10,
          3,
          3,
          24,
          15,
          24,
          29,
          18,
          58,
          43,
          12,
          17,
          6,
          60,
          33,
          27,
          23,
          10,
          40,
          4,
          20,
          10,
          12,
          23,
          33,
          9,
          20,
          26,
          32,
          9,
          8,
          13,
          16,
          20,
          5,
          9,
          9,
          12,
          12,
          45,
          8,
          9,
          11,
          6,
          20,
          19,
          19,
          9,
          28,
          4,
          5,
          20,
          16,
          4,
          29,
          20,
          7,
          15,
          26,
          12,
          28,
          23,
          24,
          26,
          35,
          24,
          55,
          19,
          12,
          10,
          6,
          10,
          13,
          19,
          21,
          3,
          5,
          14,
          25,
          26,
          14,
          29,
          4,
          18,
          16,
          22,
          13,
          7,
          49,
          7,
          7,
          7,
          9,
          7,
          6,
          19,
          18,
          3
         ],
         "yaxis": "y"
        }
       ],
       "layout": {
        "legend": {
         "title": {
          "text": "variable"
         },
         "tracegroupgap": 0
        },
        "margin": {
         "t": 60
        },
        "template": {
         "data": {
          "bar": [
           {
            "error_x": {
             "color": "#2a3f5f"
            },
            "error_y": {
             "color": "#2a3f5f"
            },
            "marker": {
             "line": {
              "color": "#E5ECF6",
              "width": 0.5
             },
             "pattern": {
              "fillmode": "overlay",
              "size": 10,
              "solidity": 0.2
             }
            },
            "type": "bar"
           }
          ],
          "barpolar": [
           {
            "marker": {
             "line": {
              "color": "#E5ECF6",
              "width": 0.5
             },
             "pattern": {
              "fillmode": "overlay",
              "size": 10,
              "solidity": 0.2
             }
            },
            "type": "barpolar"
           }
          ],
          "carpet": [
           {
            "aaxis": {
             "endlinecolor": "#2a3f5f",
             "gridcolor": "white",
             "linecolor": "white",
             "minorgridcolor": "white",
             "startlinecolor": "#2a3f5f"
            },
            "baxis": {
             "endlinecolor": "#2a3f5f",
             "gridcolor": "white",
             "linecolor": "white",
             "minorgridcolor": "white",
             "startlinecolor": "#2a3f5f"
            },
            "type": "carpet"
           }
          ],
          "choropleth": [
           {
            "colorbar": {
             "outlinewidth": 0,
             "ticks": ""
            },
            "type": "choropleth"
           }
          ],
          "contour": [
           {
            "colorbar": {
             "outlinewidth": 0,
             "ticks": ""
            },
            "colorscale": [
             [
              0,
              "#0d0887"
             ],
             [
              0.1111111111111111,
              "#46039f"
             ],
             [
              0.2222222222222222,
              "#7201a8"
             ],
             [
              0.3333333333333333,
              "#9c179e"
             ],
             [
              0.4444444444444444,
              "#bd3786"
             ],
             [
              0.5555555555555556,
              "#d8576b"
             ],
             [
              0.6666666666666666,
              "#ed7953"
             ],
             [
              0.7777777777777778,
              "#fb9f3a"
             ],
             [
              0.8888888888888888,
              "#fdca26"
             ],
             [
              1,
              "#f0f921"
             ]
            ],
            "type": "contour"
           }
          ],
          "contourcarpet": [
           {
            "colorbar": {
             "outlinewidth": 0,
             "ticks": ""
            },
            "type": "contourcarpet"
           }
          ],
          "heatmap": [
           {
            "colorbar": {
             "outlinewidth": 0,
             "ticks": ""
            },
            "colorscale": [
             [
              0,
              "#0d0887"
             ],
             [
              0.1111111111111111,
              "#46039f"
             ],
             [
              0.2222222222222222,
              "#7201a8"
             ],
             [
              0.3333333333333333,
              "#9c179e"
             ],
             [
              0.4444444444444444,
              "#bd3786"
             ],
             [
              0.5555555555555556,
              "#d8576b"
             ],
             [
              0.6666666666666666,
              "#ed7953"
             ],
             [
              0.7777777777777778,
              "#fb9f3a"
             ],
             [
              0.8888888888888888,
              "#fdca26"
             ],
             [
              1,
              "#f0f921"
             ]
            ],
            "type": "heatmap"
           }
          ],
          "heatmapgl": [
           {
            "colorbar": {
             "outlinewidth": 0,
             "ticks": ""
            },
            "colorscale": [
             [
              0,
              "#0d0887"
             ],
             [
              0.1111111111111111,
              "#46039f"
             ],
             [
              0.2222222222222222,
              "#7201a8"
             ],
             [
              0.3333333333333333,
              "#9c179e"
             ],
             [
              0.4444444444444444,
              "#bd3786"
             ],
             [
              0.5555555555555556,
              "#d8576b"
             ],
             [
              0.6666666666666666,
              "#ed7953"
             ],
             [
              0.7777777777777778,
              "#fb9f3a"
             ],
             [
              0.8888888888888888,
              "#fdca26"
             ],
             [
              1,
              "#f0f921"
             ]
            ],
            "type": "heatmapgl"
           }
          ],
          "histogram": [
           {
            "marker": {
             "pattern": {
              "fillmode": "overlay",
              "size": 10,
              "solidity": 0.2
             }
            },
            "type": "histogram"
           }
          ],
          "histogram2d": [
           {
            "colorbar": {
             "outlinewidth": 0,
             "ticks": ""
            },
            "colorscale": [
             [
              0,
              "#0d0887"
             ],
             [
              0.1111111111111111,
              "#46039f"
             ],
             [
              0.2222222222222222,
              "#7201a8"
             ],
             [
              0.3333333333333333,
              "#9c179e"
             ],
             [
              0.4444444444444444,
              "#bd3786"
             ],
             [
              0.5555555555555556,
              "#d8576b"
             ],
             [
              0.6666666666666666,
              "#ed7953"
             ],
             [
              0.7777777777777778,
              "#fb9f3a"
             ],
             [
              0.8888888888888888,
              "#fdca26"
             ],
             [
              1,
              "#f0f921"
             ]
            ],
            "type": "histogram2d"
           }
          ],
          "histogram2dcontour": [
           {
            "colorbar": {
             "outlinewidth": 0,
             "ticks": ""
            },
            "colorscale": [
             [
              0,
              "#0d0887"
             ],
             [
              0.1111111111111111,
              "#46039f"
             ],
             [
              0.2222222222222222,
              "#7201a8"
             ],
             [
              0.3333333333333333,
              "#9c179e"
             ],
             [
              0.4444444444444444,
              "#bd3786"
             ],
             [
              0.5555555555555556,
              "#d8576b"
             ],
             [
              0.6666666666666666,
              "#ed7953"
             ],
             [
              0.7777777777777778,
              "#fb9f3a"
             ],
             [
              0.8888888888888888,
              "#fdca26"
             ],
             [
              1,
              "#f0f921"
             ]
            ],
            "type": "histogram2dcontour"
           }
          ],
          "mesh3d": [
           {
            "colorbar": {
             "outlinewidth": 0,
             "ticks": ""
            },
            "type": "mesh3d"
           }
          ],
          "parcoords": [
           {
            "line": {
             "colorbar": {
              "outlinewidth": 0,
              "ticks": ""
             }
            },
            "type": "parcoords"
           }
          ],
          "pie": [
           {
            "automargin": true,
            "type": "pie"
           }
          ],
          "scatter": [
           {
            "fillpattern": {
             "fillmode": "overlay",
             "size": 10,
             "solidity": 0.2
            },
            "type": "scatter"
           }
          ],
          "scatter3d": [
           {
            "line": {
             "colorbar": {
              "outlinewidth": 0,
              "ticks": ""
             }
            },
            "marker": {
             "colorbar": {
              "outlinewidth": 0,
              "ticks": ""
             }
            },
            "type": "scatter3d"
           }
          ],
          "scattercarpet": [
           {
            "marker": {
             "colorbar": {
              "outlinewidth": 0,
              "ticks": ""
             }
            },
            "type": "scattercarpet"
           }
          ],
          "scattergeo": [
           {
            "marker": {
             "colorbar": {
              "outlinewidth": 0,
              "ticks": ""
             }
            },
            "type": "scattergeo"
           }
          ],
          "scattergl": [
           {
            "marker": {
             "colorbar": {
              "outlinewidth": 0,
              "ticks": ""
             }
            },
            "type": "scattergl"
           }
          ],
          "scattermapbox": [
           {
            "marker": {
             "colorbar": {
              "outlinewidth": 0,
              "ticks": ""
             }
            },
            "type": "scattermapbox"
           }
          ],
          "scatterpolar": [
           {
            "marker": {
             "colorbar": {
              "outlinewidth": 0,
              "ticks": ""
             }
            },
            "type": "scatterpolar"
           }
          ],
          "scatterpolargl": [
           {
            "marker": {
             "colorbar": {
              "outlinewidth": 0,
              "ticks": ""
             }
            },
            "type": "scatterpolargl"
           }
          ],
          "scatterternary": [
           {
            "marker": {
             "colorbar": {
              "outlinewidth": 0,
              "ticks": ""
             }
            },
            "type": "scatterternary"
           }
          ],
          "surface": [
           {
            "colorbar": {
             "outlinewidth": 0,
             "ticks": ""
            },
            "colorscale": [
             [
              0,
              "#0d0887"
             ],
             [
              0.1111111111111111,
              "#46039f"
             ],
             [
              0.2222222222222222,
              "#7201a8"
             ],
             [
              0.3333333333333333,
              "#9c179e"
             ],
             [
              0.4444444444444444,
              "#bd3786"
             ],
             [
              0.5555555555555556,
              "#d8576b"
             ],
             [
              0.6666666666666666,
              "#ed7953"
             ],
             [
              0.7777777777777778,
              "#fb9f3a"
             ],
             [
              0.8888888888888888,
              "#fdca26"
             ],
             [
              1,
              "#f0f921"
             ]
            ],
            "type": "surface"
           }
          ],
          "table": [
           {
            "cells": {
             "fill": {
              "color": "#EBF0F8"
             },
             "line": {
              "color": "white"
             }
            },
            "header": {
             "fill": {
              "color": "#C8D4E3"
             },
             "line": {
              "color": "white"
             }
            },
            "type": "table"
           }
          ]
         },
         "layout": {
          "annotationdefaults": {
           "arrowcolor": "#2a3f5f",
           "arrowhead": 0,
           "arrowwidth": 1
          },
          "autotypenumbers": "strict",
          "coloraxis": {
           "colorbar": {
            "outlinewidth": 0,
            "ticks": ""
           }
          },
          "colorscale": {
           "diverging": [
            [
             0,
             "#8e0152"
            ],
            [
             0.1,
             "#c51b7d"
            ],
            [
             0.2,
             "#de77ae"
            ],
            [
             0.3,
             "#f1b6da"
            ],
            [
             0.4,
             "#fde0ef"
            ],
            [
             0.5,
             "#f7f7f7"
            ],
            [
             0.6,
             "#e6f5d0"
            ],
            [
             0.7,
             "#b8e186"
            ],
            [
             0.8,
             "#7fbc41"
            ],
            [
             0.9,
             "#4d9221"
            ],
            [
             1,
             "#276419"
            ]
           ],
           "sequential": [
            [
             0,
             "#0d0887"
            ],
            [
             0.1111111111111111,
             "#46039f"
            ],
            [
             0.2222222222222222,
             "#7201a8"
            ],
            [
             0.3333333333333333,
             "#9c179e"
            ],
            [
             0.4444444444444444,
             "#bd3786"
            ],
            [
             0.5555555555555556,
             "#d8576b"
            ],
            [
             0.6666666666666666,
             "#ed7953"
            ],
            [
             0.7777777777777778,
             "#fb9f3a"
            ],
            [
             0.8888888888888888,
             "#fdca26"
            ],
            [
             1,
             "#f0f921"
            ]
           ],
           "sequentialminus": [
            [
             0,
             "#0d0887"
            ],
            [
             0.1111111111111111,
             "#46039f"
            ],
            [
             0.2222222222222222,
             "#7201a8"
            ],
            [
             0.3333333333333333,
             "#9c179e"
            ],
            [
             0.4444444444444444,
             "#bd3786"
            ],
            [
             0.5555555555555556,
             "#d8576b"
            ],
            [
             0.6666666666666666,
             "#ed7953"
            ],
            [
             0.7777777777777778,
             "#fb9f3a"
            ],
            [
             0.8888888888888888,
             "#fdca26"
            ],
            [
             1,
             "#f0f921"
            ]
           ]
          },
          "colorway": [
           "#636efa",
           "#EF553B",
           "#00cc96",
           "#ab63fa",
           "#FFA15A",
           "#19d3f3",
           "#FF6692",
           "#B6E880",
           "#FF97FF",
           "#FECB52"
          ],
          "font": {
           "color": "#2a3f5f"
          },
          "geo": {
           "bgcolor": "white",
           "lakecolor": "white",
           "landcolor": "#E5ECF6",
           "showlakes": true,
           "showland": true,
           "subunitcolor": "white"
          },
          "hoverlabel": {
           "align": "left"
          },
          "hovermode": "closest",
          "mapbox": {
           "style": "light"
          },
          "paper_bgcolor": "white",
          "plot_bgcolor": "#E5ECF6",
          "polar": {
           "angularaxis": {
            "gridcolor": "white",
            "linecolor": "white",
            "ticks": ""
           },
           "bgcolor": "#E5ECF6",
           "radialaxis": {
            "gridcolor": "white",
            "linecolor": "white",
            "ticks": ""
           }
          },
          "scene": {
           "xaxis": {
            "backgroundcolor": "#E5ECF6",
            "gridcolor": "white",
            "gridwidth": 2,
            "linecolor": "white",
            "showbackground": true,
            "ticks": "",
            "zerolinecolor": "white"
           },
           "yaxis": {
            "backgroundcolor": "#E5ECF6",
            "gridcolor": "white",
            "gridwidth": 2,
            "linecolor": "white",
            "showbackground": true,
            "ticks": "",
            "zerolinecolor": "white"
           },
           "zaxis": {
            "backgroundcolor": "#E5ECF6",
            "gridcolor": "white",
            "gridwidth": 2,
            "linecolor": "white",
            "showbackground": true,
            "ticks": "",
            "zerolinecolor": "white"
           }
          },
          "shapedefaults": {
           "line": {
            "color": "#2a3f5f"
           }
          },
          "ternary": {
           "aaxis": {
            "gridcolor": "white",
            "linecolor": "white",
            "ticks": ""
           },
           "baxis": {
            "gridcolor": "white",
            "linecolor": "white",
            "ticks": ""
           },
           "bgcolor": "#E5ECF6",
           "caxis": {
            "gridcolor": "white",
            "linecolor": "white",
            "ticks": ""
           }
          },
          "title": {
           "x": 0.05
          },
          "xaxis": {
           "automargin": true,
           "gridcolor": "white",
           "linecolor": "white",
           "ticks": "",
           "title": {
            "standoff": 15
           },
           "zerolinecolor": "white",
           "zerolinewidth": 2
          },
          "yaxis": {
           "automargin": true,
           "gridcolor": "white",
           "linecolor": "white",
           "ticks": "",
           "title": {
            "standoff": 15
           },
           "zerolinecolor": "white",
           "zerolinewidth": 2
          }
         }
        },
        "xaxis": {
         "anchor": "y",
         "domain": [
          0,
          1
         ],
         "title": {
          "text": "index"
         }
        },
        "yaxis": {
         "anchor": "x",
         "domain": [
          0,
          1
         ],
         "title": {
          "text": "value"
         }
        }
       }
      },
      "text/html": [
       "<div>                            <div id=\"6792f898-5355-4c6b-8169-a2a9e2927c4b\" class=\"plotly-graph-div\" style=\"height:525px; width:100%;\"></div>            <script type=\"text/javascript\">                require([\"plotly\"], function(Plotly) {                    window.PLOTLYENV=window.PLOTLYENV || {};                                    if (document.getElementById(\"6792f898-5355-4c6b-8169-a2a9e2927c4b\")) {                    Plotly.newPlot(                        \"6792f898-5355-4c6b-8169-a2a9e2927c4b\",                        [{\"hovertemplate\":\"variable=words_per_sent<br>index=%{x}<br>value=%{y}<extra></extra>\",\"legendgroup\":\"words_per_sent\",\"line\":{\"color\":\"#636efa\",\"dash\":\"solid\"},\"marker\":{\"symbol\":\"circle\"},\"mode\":\"lines\",\"name\":\"words_per_sent\",\"orientation\":\"v\",\"showlegend\":true,\"x\":[1726,1727,1728,1729,1730,1731,1732,1733,1734,1735,1736,1737,1738,1739,1740,1741,1742,1743,1744,1745,1746,1747,1748,1749,1750,1751,1752,1753,1754,1755,1756,1757,1758,1759,1760,1761,1762,1763,1764,1765,1766,1767,1768,1769,1770,1771,1772,1773,1774,1775,1776,1777,1778,1779,1780,1781,1782,1783,1784,1785,1786,1787,1788,1789,1790,1791,1792,1793,1794,1795,1796,1797,1798,1799,1800,1801,1802,1803,1804,1805,1806,1807,1808,1809,1810,1811,1812,1813,1814,1815,1816,1817,1818,1819,1820,1821,1822,1823,1824,1825,1826,1827,1828,1829,1830,1831,1832,1833,1834,1835,1836,1837,1838,1839,1840,1841,1842,1843,1844,1845,1846,1847,1848,1849,1850,1851,1852,1853,1854,1855,1856,1857,1858,1859,1860,1861,1862,1863,1864,1865,1866,1867,1868,1869,1870,1871,1872,1873,1874,1875,1876,1877,1878,1879,1880,1881,1882,1883,1884,1885,1886,1887,1888,1889,1890,1891,1892,1893,1894,1895,1896,1897,1898,1899,1900,1901,1902,1903,1904,1905,1906,1907,1908,1909,1910,1911,1912,1913,1914,1915,1916,1917,1918,1919,1920,1921],\"xaxis\":\"x\",\"y\":[14,8,31,9,9,20,20,9,39,37,39,10,21,5,52,21,21,35,16,24,6,49,28,35,31,15,11,32,8,11,6,5,5,34,9,30,26,29,11,13,44,65,12,17,43,29,30,9,16,32,54,35,20,3,6,11,15,20,13,7,41,11,9,11,8,49,20,5,5,13,21,8,7,12,19,13,13,13,16,29,12,16,9,14,10,10,24,26,18,22,33,53,13,28,8,8,29,40,10,3,3,24,15,24,29,18,58,43,12,17,6,60,33,27,23,10,40,4,20,10,12,23,33,9,20,26,32,9,8,13,16,20,5,9,9,12,12,45,8,9,11,6,20,19,19,9,28,4,5,20,16,4,29,20,7,15,26,12,28,23,24,26,35,24,55,19,12,10,6,10,13,19,21,3,5,14,25,26,14,29,4,18,16,22,13,7,49,7,7,7,9,7,6,19,18,3],\"yaxis\":\"y\",\"type\":\"scatter\"}],                        {\"template\":{\"data\":{\"histogram2dcontour\":[{\"type\":\"histogram2dcontour\",\"colorbar\":{\"outlinewidth\":0,\"ticks\":\"\"},\"colorscale\":[[0.0,\"#0d0887\"],[0.1111111111111111,\"#46039f\"],[0.2222222222222222,\"#7201a8\"],[0.3333333333333333,\"#9c179e\"],[0.4444444444444444,\"#bd3786\"],[0.5555555555555556,\"#d8576b\"],[0.6666666666666666,\"#ed7953\"],[0.7777777777777778,\"#fb9f3a\"],[0.8888888888888888,\"#fdca26\"],[1.0,\"#f0f921\"]]}],\"choropleth\":[{\"type\":\"choropleth\",\"colorbar\":{\"outlinewidth\":0,\"ticks\":\"\"}}],\"histogram2d\":[{\"type\":\"histogram2d\",\"colorbar\":{\"outlinewidth\":0,\"ticks\":\"\"},\"colorscale\":[[0.0,\"#0d0887\"],[0.1111111111111111,\"#46039f\"],[0.2222222222222222,\"#7201a8\"],[0.3333333333333333,\"#9c179e\"],[0.4444444444444444,\"#bd3786\"],[0.5555555555555556,\"#d8576b\"],[0.6666666666666666,\"#ed7953\"],[0.7777777777777778,\"#fb9f3a\"],[0.8888888888888888,\"#fdca26\"],[1.0,\"#f0f921\"]]}],\"heatmap\":[{\"type\":\"heatmap\",\"colorbar\":{\"outlinewidth\":0,\"ticks\":\"\"},\"colorscale\":[[0.0,\"#0d0887\"],[0.1111111111111111,\"#46039f\"],[0.2222222222222222,\"#7201a8\"],[0.3333333333333333,\"#9c179e\"],[0.4444444444444444,\"#bd3786\"],[0.5555555555555556,\"#d8576b\"],[0.6666666666666666,\"#ed7953\"],[0.7777777777777778,\"#fb9f3a\"],[0.8888888888888888,\"#fdca26\"],[1.0,\"#f0f921\"]]}],\"heatmapgl\":[{\"type\":\"heatmapgl\",\"colorbar\":{\"outlinewidth\":0,\"ticks\":\"\"},\"colorscale\":[[0.0,\"#0d0887\"],[0.1111111111111111,\"#46039f\"],[0.2222222222222222,\"#7201a8\"],[0.3333333333333333,\"#9c179e\"],[0.4444444444444444,\"#bd3786\"],[0.5555555555555556,\"#d8576b\"],[0.6666666666666666,\"#ed7953\"],[0.7777777777777778,\"#fb9f3a\"],[0.8888888888888888,\"#fdca26\"],[1.0,\"#f0f921\"]]}],\"contourcarpet\":[{\"type\":\"contourcarpet\",\"colorbar\":{\"outlinewidth\":0,\"ticks\":\"\"}}],\"contour\":[{\"type\":\"contour\",\"colorbar\":{\"outlinewidth\":0,\"ticks\":\"\"},\"colorscale\":[[0.0,\"#0d0887\"],[0.1111111111111111,\"#46039f\"],[0.2222222222222222,\"#7201a8\"],[0.3333333333333333,\"#9c179e\"],[0.4444444444444444,\"#bd3786\"],[0.5555555555555556,\"#d8576b\"],[0.6666666666666666,\"#ed7953\"],[0.7777777777777778,\"#fb9f3a\"],[0.8888888888888888,\"#fdca26\"],[1.0,\"#f0f921\"]]}],\"surface\":[{\"type\":\"surface\",\"colorbar\":{\"outlinewidth\":0,\"ticks\":\"\"},\"colorscale\":[[0.0,\"#0d0887\"],[0.1111111111111111,\"#46039f\"],[0.2222222222222222,\"#7201a8\"],[0.3333333333333333,\"#9c179e\"],[0.4444444444444444,\"#bd3786\"],[0.5555555555555556,\"#d8576b\"],[0.6666666666666666,\"#ed7953\"],[0.7777777777777778,\"#fb9f3a\"],[0.8888888888888888,\"#fdca26\"],[1.0,\"#f0f921\"]]}],\"mesh3d\":[{\"type\":\"mesh3d\",\"colorbar\":{\"outlinewidth\":0,\"ticks\":\"\"}}],\"scatter\":[{\"fillpattern\":{\"fillmode\":\"overlay\",\"size\":10,\"solidity\":0.2},\"type\":\"scatter\"}],\"parcoords\":[{\"type\":\"parcoords\",\"line\":{\"colorbar\":{\"outlinewidth\":0,\"ticks\":\"\"}}}],\"scatterpolargl\":[{\"type\":\"scatterpolargl\",\"marker\":{\"colorbar\":{\"outlinewidth\":0,\"ticks\":\"\"}}}],\"bar\":[{\"error_x\":{\"color\":\"#2a3f5f\"},\"error_y\":{\"color\":\"#2a3f5f\"},\"marker\":{\"line\":{\"color\":\"#E5ECF6\",\"width\":0.5},\"pattern\":{\"fillmode\":\"overlay\",\"size\":10,\"solidity\":0.2}},\"type\":\"bar\"}],\"scattergeo\":[{\"type\":\"scattergeo\",\"marker\":{\"colorbar\":{\"outlinewidth\":0,\"ticks\":\"\"}}}],\"scatterpolar\":[{\"type\":\"scatterpolar\",\"marker\":{\"colorbar\":{\"outlinewidth\":0,\"ticks\":\"\"}}}],\"histogram\":[{\"marker\":{\"pattern\":{\"fillmode\":\"overlay\",\"size\":10,\"solidity\":0.2}},\"type\":\"histogram\"}],\"scattergl\":[{\"type\":\"scattergl\",\"marker\":{\"colorbar\":{\"outlinewidth\":0,\"ticks\":\"\"}}}],\"scatter3d\":[{\"type\":\"scatter3d\",\"line\":{\"colorbar\":{\"outlinewidth\":0,\"ticks\":\"\"}},\"marker\":{\"colorbar\":{\"outlinewidth\":0,\"ticks\":\"\"}}}],\"scattermapbox\":[{\"type\":\"scattermapbox\",\"marker\":{\"colorbar\":{\"outlinewidth\":0,\"ticks\":\"\"}}}],\"scatterternary\":[{\"type\":\"scatterternary\",\"marker\":{\"colorbar\":{\"outlinewidth\":0,\"ticks\":\"\"}}}],\"scattercarpet\":[{\"type\":\"scattercarpet\",\"marker\":{\"colorbar\":{\"outlinewidth\":0,\"ticks\":\"\"}}}],\"carpet\":[{\"aaxis\":{\"endlinecolor\":\"#2a3f5f\",\"gridcolor\":\"white\",\"linecolor\":\"white\",\"minorgridcolor\":\"white\",\"startlinecolor\":\"#2a3f5f\"},\"baxis\":{\"endlinecolor\":\"#2a3f5f\",\"gridcolor\":\"white\",\"linecolor\":\"white\",\"minorgridcolor\":\"white\",\"startlinecolor\":\"#2a3f5f\"},\"type\":\"carpet\"}],\"table\":[{\"cells\":{\"fill\":{\"color\":\"#EBF0F8\"},\"line\":{\"color\":\"white\"}},\"header\":{\"fill\":{\"color\":\"#C8D4E3\"},\"line\":{\"color\":\"white\"}},\"type\":\"table\"}],\"barpolar\":[{\"marker\":{\"line\":{\"color\":\"#E5ECF6\",\"width\":0.5},\"pattern\":{\"fillmode\":\"overlay\",\"size\":10,\"solidity\":0.2}},\"type\":\"barpolar\"}],\"pie\":[{\"automargin\":true,\"type\":\"pie\"}]},\"layout\":{\"autotypenumbers\":\"strict\",\"colorway\":[\"#636efa\",\"#EF553B\",\"#00cc96\",\"#ab63fa\",\"#FFA15A\",\"#19d3f3\",\"#FF6692\",\"#B6E880\",\"#FF97FF\",\"#FECB52\"],\"font\":{\"color\":\"#2a3f5f\"},\"hovermode\":\"closest\",\"hoverlabel\":{\"align\":\"left\"},\"paper_bgcolor\":\"white\",\"plot_bgcolor\":\"#E5ECF6\",\"polar\":{\"bgcolor\":\"#E5ECF6\",\"angularaxis\":{\"gridcolor\":\"white\",\"linecolor\":\"white\",\"ticks\":\"\"},\"radialaxis\":{\"gridcolor\":\"white\",\"linecolor\":\"white\",\"ticks\":\"\"}},\"ternary\":{\"bgcolor\":\"#E5ECF6\",\"aaxis\":{\"gridcolor\":\"white\",\"linecolor\":\"white\",\"ticks\":\"\"},\"baxis\":{\"gridcolor\":\"white\",\"linecolor\":\"white\",\"ticks\":\"\"},\"caxis\":{\"gridcolor\":\"white\",\"linecolor\":\"white\",\"ticks\":\"\"}},\"coloraxis\":{\"colorbar\":{\"outlinewidth\":0,\"ticks\":\"\"}},\"colorscale\":{\"sequential\":[[0.0,\"#0d0887\"],[0.1111111111111111,\"#46039f\"],[0.2222222222222222,\"#7201a8\"],[0.3333333333333333,\"#9c179e\"],[0.4444444444444444,\"#bd3786\"],[0.5555555555555556,\"#d8576b\"],[0.6666666666666666,\"#ed7953\"],[0.7777777777777778,\"#fb9f3a\"],[0.8888888888888888,\"#fdca26\"],[1.0,\"#f0f921\"]],\"sequentialminus\":[[0.0,\"#0d0887\"],[0.1111111111111111,\"#46039f\"],[0.2222222222222222,\"#7201a8\"],[0.3333333333333333,\"#9c179e\"],[0.4444444444444444,\"#bd3786\"],[0.5555555555555556,\"#d8576b\"],[0.6666666666666666,\"#ed7953\"],[0.7777777777777778,\"#fb9f3a\"],[0.8888888888888888,\"#fdca26\"],[1.0,\"#f0f921\"]],\"diverging\":[[0,\"#8e0152\"],[0.1,\"#c51b7d\"],[0.2,\"#de77ae\"],[0.3,\"#f1b6da\"],[0.4,\"#fde0ef\"],[0.5,\"#f7f7f7\"],[0.6,\"#e6f5d0\"],[0.7,\"#b8e186\"],[0.8,\"#7fbc41\"],[0.9,\"#4d9221\"],[1,\"#276419\"]]},\"xaxis\":{\"gridcolor\":\"white\",\"linecolor\":\"white\",\"ticks\":\"\",\"title\":{\"standoff\":15},\"zerolinecolor\":\"white\",\"automargin\":true,\"zerolinewidth\":2},\"yaxis\":{\"gridcolor\":\"white\",\"linecolor\":\"white\",\"ticks\":\"\",\"title\":{\"standoff\":15},\"zerolinecolor\":\"white\",\"automargin\":true,\"zerolinewidth\":2},\"scene\":{\"xaxis\":{\"backgroundcolor\":\"#E5ECF6\",\"gridcolor\":\"white\",\"linecolor\":\"white\",\"showbackground\":true,\"ticks\":\"\",\"zerolinecolor\":\"white\",\"gridwidth\":2},\"yaxis\":{\"backgroundcolor\":\"#E5ECF6\",\"gridcolor\":\"white\",\"linecolor\":\"white\",\"showbackground\":true,\"ticks\":\"\",\"zerolinecolor\":\"white\",\"gridwidth\":2},\"zaxis\":{\"backgroundcolor\":\"#E5ECF6\",\"gridcolor\":\"white\",\"linecolor\":\"white\",\"showbackground\":true,\"ticks\":\"\",\"zerolinecolor\":\"white\",\"gridwidth\":2}},\"shapedefaults\":{\"line\":{\"color\":\"#2a3f5f\"}},\"annotationdefaults\":{\"arrowcolor\":\"#2a3f5f\",\"arrowhead\":0,\"arrowwidth\":1},\"geo\":{\"bgcolor\":\"white\",\"landcolor\":\"#E5ECF6\",\"subunitcolor\":\"white\",\"showland\":true,\"showlakes\":true,\"lakecolor\":\"white\"},\"title\":{\"x\":0.05},\"mapbox\":{\"style\":\"light\"}}},\"xaxis\":{\"anchor\":\"y\",\"domain\":[0.0,1.0],\"title\":{\"text\":\"index\"}},\"yaxis\":{\"anchor\":\"x\",\"domain\":[0.0,1.0],\"title\":{\"text\":\"value\"}},\"legend\":{\"title\":{\"text\":\"variable\"},\"tracegroupgap\":0},\"margin\":{\"t\":60}},                        {\"responsive\": true}                    ).then(function(){\n",
       "                            \n",
       "var gd = document.getElementById('6792f898-5355-4c6b-8169-a2a9e2927c4b');\n",
       "var x = new MutationObserver(function (mutations, observer) {{\n",
       "        var display = window.getComputedStyle(gd).display;\n",
       "        if (!display || display === 'none') {{\n",
       "            console.log([gd, 'removed!']);\n",
       "            Plotly.purge(gd);\n",
       "            observer.disconnect();\n",
       "        }}\n",
       "}});\n",
       "\n",
       "// Listen for the removal of the full notebook cells\n",
       "var notebookContainer = gd.closest('#notebook-container');\n",
       "if (notebookContainer) {{\n",
       "    x.observe(notebookContainer, {childList: true});\n",
       "}}\n",
       "\n",
       "// Listen for the clearing of the current output cell\n",
       "var outputEl = gd.closest('.output');\n",
       "if (outputEl) {{\n",
       "    x.observe(outputEl, {childList: true});\n",
       "}}\n",
       "\n",
       "                        })                };                });            </script>        </div>"
      ]
     },
     "metadata": {},
     "output_type": "display_data"
    }
   ],
   "source": [
    "fig = px.line(tree_depth.query('date == \"2015-03-07\"').words_per_sent)\n",
    "fig.show()"
   ]
  },
  {
   "cell_type": "code",
   "execution_count": 47,
   "id": "6d6b5a03",
   "metadata": {},
   "outputs": [
    {
     "data": {
      "text/plain": [
       "12.979018410135382"
      ]
     },
     "execution_count": 47,
     "metadata": {},
     "output_type": "execute_result"
    }
   ],
   "source": [
    "tree_depth.query('date == \"2015-03-07\"').words_per_sent.std()"
   ]
  },
  {
   "cell_type": "code",
   "execution_count": 48,
   "id": "7cfbe309",
   "metadata": {},
   "outputs": [],
   "source": [
    "def calc_scores(df):\n",
    "    '''calculate readability scores for a dataframe\n",
    "       input: dataframe with one row per SENTENCE, with column called ['sentence']\n",
    "       returns: dataframe with a whole mess of readability scores'''\n",
    "    df['char_count'] = df['sentence'].apply(count_of_letters)\n",
    "    df['syl_count'] = df['sentence'].apply(count_total_syllables)\n",
    "    df['word_count'] = df['sentence'].apply(count_total_words)\n",
    "    df['char_per_word'] = df['char_count']/df['word_count']#\n",
    "    df['syl_per_word'] = df['syl_count']/df['word_count']#\n",
    "    df['sent_count'] = df['sentence'].apply(count_total_sentences)\n",
    "    df['word_per_sent'] = df['word_count']/df['sent_count']#\n",
    "\n",
    "    df['dc_word_count'] = df['sentence'].apply(dc_difficult_word_count)\n",
    "    df['gf_word_count'] = df['sentence'].apply(gf_complex_word_count)\n",
    "    df['poly_word_count'] = df['sentence'].apply(smog_poly_count)\n",
    "\n",
    "    df['dc_word_perc'] = df['dc_word_count']/df['word_count']#\n",
    "    df['gf_word_perc'] = df['gf_word_count']/df['word_count']#\n",
    "    df['poly_word_perc'] = df['poly_word_count']/df['word_count']#\n",
    "\n",
    "    df['ari'] = df['sentence'].apply(ari)\n",
    "    df['flesch_kincaid'] = df['sentence'].apply(flesch_kincaid)\n",
    "    df['coleman_liau'] = df['sentence'].apply(coleman_liau)\n",
    "    df['dale_chall'] = df['sentence'].apply(dale_chall)\n",
    "    df['gunning_fog'] = df['sentence'].apply(gunning_fog)\n",
    "    df['smog'] = df['sentence'].apply(smog)\n",
    "    return(df)"
   ]
  },
  {
   "cell_type": "code",
   "execution_count": 49,
   "id": "313cfc86",
   "metadata": {},
   "outputs": [],
   "source": [
    "tree_depth = calc_scores(tree_depth)\n",
    "#tree_depth.to_csv('top10_data.csv', index=False)"
   ]
  },
  {
   "cell_type": "code",
   "execution_count": 19,
   "id": "03c45ebc",
   "metadata": {},
   "outputs": [
    {
     "data": {
      "application/vnd.plotly.v1+json": {
       "config": {
        "plotlyServerURL": "https://plot.ly"
       },
       "data": [
        {
         "hovertemplate": "variable=dale_chall<br>index=%{x}<br>value=%{y}<extra></extra>",
         "legendgroup": "dale_chall",
         "line": {
          "color": "#636efa",
          "dash": "solid"
         },
         "marker": {
          "symbol": "circle"
         },
         "mode": "lines",
         "name": "dale_chall",
         "orientation": "v",
         "showlegend": true,
         "type": "scatter",
         "x": [
          1726,
          1727,
          1728,
          1729,
          1730,
          1731,
          1732,
          1733,
          1734,
          1735,
          1736,
          1737,
          1738,
          1739,
          1740,
          1741,
          1742,
          1743,
          1744,
          1745,
          1746,
          1747,
          1748,
          1749,
          1750,
          1751,
          1752,
          1753,
          1754,
          1755,
          1756,
          1757,
          1758,
          1759,
          1760,
          1761,
          1762,
          1763,
          1764,
          1765,
          1766,
          1767,
          1768,
          1769,
          1770,
          1771,
          1772,
          1773,
          1774,
          1775,
          1776,
          1777,
          1778,
          1779,
          1780,
          1781,
          1782,
          1783,
          1784,
          1785,
          1786,
          1787,
          1788,
          1789,
          1790,
          1791,
          1792,
          1793,
          1794,
          1795,
          1796,
          1797,
          1798,
          1799,
          1800,
          1801,
          1802,
          1803,
          1804,
          1805,
          1806,
          1807,
          1808,
          1809,
          1810,
          1811,
          1812,
          1813,
          1814,
          1815,
          1816,
          1817,
          1818,
          1819,
          1820,
          1821,
          1822,
          1823,
          1824,
          1825,
          1826,
          1827,
          1828,
          1829,
          1830,
          1831,
          1832,
          1833,
          1834,
          1835,
          1836,
          1837,
          1838,
          1839,
          1840,
          1841,
          1842,
          1843,
          1844,
          1845,
          1846,
          1847,
          1848,
          1849,
          1850,
          1851,
          1852,
          1853,
          1854,
          1855,
          1856,
          1857,
          1858,
          1859,
          1860,
          1861,
          1862,
          1863,
          1864,
          1865,
          1866,
          1867,
          1868,
          1869,
          1870,
          1871,
          1872,
          1873,
          1874,
          1875,
          1876,
          1877,
          1878,
          1879,
          1880,
          1881,
          1882,
          1883,
          1884,
          1885,
          1886,
          1887,
          1888,
          1889,
          1890,
          1891,
          1892,
          1893,
          1894,
          1895,
          1896,
          1897,
          1898,
          1899,
          1900,
          1901,
          1902,
          1903,
          1904,
          1905,
          1906,
          1907,
          1908,
          1909,
          1910,
          1911,
          1912,
          1913,
          1914,
          1915,
          1916,
          1917,
          1918,
          1919,
          1920,
          1921
         ],
         "xaxis": "x",
         "y": [
          9.199714285714286,
          9.88925,
          20.97890322580645,
          6.218444444444445,
          11.48177777777778,
          15.4465,
          16.236,
          11.48177777777778,
          23.797589743589747,
          23.473081081081084,
          28.25117948717949,
          14.434000000000001,
          17.93504761904762,
          8.796000000000001,
          32.47238461538462,
          16.431238095238097,
          19.438857142857145,
          25.48057142857143,
          12.870375,
          16.509416666666667,
          8.239333333333335,
          29.137673469387753,
          20.655142857142856,
          22.773714285714284,
          20.469548387096772,
          13.756,
          9.762363636363636,
          19.8195,
          7.9155,
          12.633272727272727,
          8.239333333333335,
          8.796000000000001,
          5.638,
          24.759,
          7.972888888888889,
          18.564333333333334,
          17.14715384615385,
          20.917793103448275,
          11.197818181818182,
          10.091846153846154,
          26.48922727272727,
          36.61261538461539,
          11.215333333333334,
          14.933764705882353,
          26.83613953488372,
          18.739862068965518,
          22.248666666666665,
          9.727333333333334,
          12.870375,
          20.3129375,
          32.047333333333334,
          23.676000000000002,
          15.4465,
          12.014666666666669,
          10.871,
          12.633272727272727,
          10.597999999999999,
          16.236,
          11.306461538461539,
          10.239142857142857,
          25.72770731707317,
          8.32690909090909,
          7.972888888888889,
          14.068727272727273,
          13.83675,
          29.137673469387753,
          14.657,
          8.796000000000001,
          11.954,
          14.950307692307694,
          15.679333333333336,
          11.863,
          10.239142857142857,
          9.8995,
          14.410315789473684,
          11.306461538461539,
          12.521076923076924,
          14.950307692307694,
          13.85725,
          21.462275862068967,
          13.847000000000001,
          15.831,
          11.48177777777778,
          13.711142857142857,
          11.276,
          11.276,
          18.483166666666666,
          18.969076923076926,
          14.191333333333336,
          13.78290909090909,
          20.674363636363637,
          31.650641509433964,
          11.306461538461539,
          17.8355,
          5.94175,
          5.94175,
          20.917793103448275,
          26.55075,
          9.697,
          6.751333333333335,
          6.751333333333335,
          17.167333333333335,
          11.650666666666666,
          16.509416666666667,
          18.739862068965518,
          15.068555555555555,
          34.2128275862069,
          26.10172093023256,
          11.215333333333334,
          14.00494117647059,
          5.607666666666667,
          34.497,
          19.717393939393936,
          17.485703703703702,
          18.959739130434784,
          9.697,
          27.34025,
          5.9315,
          17.815,
          12.855,
          13.847000000000001,
          13.467565217391304,
          20.195878787878787,
          7.972888888888889,
          16.236,
          18.361769230769234,
          20.3129375,
          11.48177777777778,
          7.9155,
          10.091846153846154,
          12.870375,
          12.288499999999999,
          5.638,
          11.48177777777778,
          11.48177777777778,
          12.531166666666667,
          12.531166666666667,
          26.881555555555558,
          7.9155,
          7.972888888888889,
          8.32690909090909,
          5.607666666666667,
          16.236,
          14.410315789473684,
          14.410315789473684,
          6.218444444444445,
          21.21907142857143,
          9.879000000000001,
          8.796000000000001,
          13.8675,
          14.844125000000002,
          5.9315,
          22.551241379310348,
          14.657,
          7.983428571428572,
          11.650666666666666,
          20.791,
          12.531166666666667,
          18.399428571428572,
          17.586695652173912,
          16.509416666666667,
          19.576384615384615,
          22.773714285714284,
          19.141083333333334,
          32.160545454545456,
          15.241368421052632,
          11.215333333333334,
          9.697,
          8.239333333333335,
          12.855,
          12.521076923076924,
          14.410315789473684,
          14.17552380952381,
          6.751333333333335,
          8.796000000000001,
          12.583285714285715,
          16.8212,
          18.969076923076926,
          11.455428571428573,
          20.373310344827587,
          9.879000000000001,
          14.191333333333336,
          13.85725,
          16.65381818181818,
          10.091846153846154,
          5.727714285714287,
          29.459918367346937,
          10.239142857142857,
          5.727714285714287,
          5.727714285714287,
          7.972888888888889,
          5.727714285714287,
          5.607666666666667,
          13.579263157894736,
          13.314111111111114,
          12.014666666666669
         ],
         "yaxis": "y"
        }
       ],
       "layout": {
        "legend": {
         "title": {
          "text": "variable"
         },
         "tracegroupgap": 0
        },
        "margin": {
         "t": 60
        },
        "template": {
         "data": {
          "bar": [
           {
            "error_x": {
             "color": "#2a3f5f"
            },
            "error_y": {
             "color": "#2a3f5f"
            },
            "marker": {
             "line": {
              "color": "#E5ECF6",
              "width": 0.5
             },
             "pattern": {
              "fillmode": "overlay",
              "size": 10,
              "solidity": 0.2
             }
            },
            "type": "bar"
           }
          ],
          "barpolar": [
           {
            "marker": {
             "line": {
              "color": "#E5ECF6",
              "width": 0.5
             },
             "pattern": {
              "fillmode": "overlay",
              "size": 10,
              "solidity": 0.2
             }
            },
            "type": "barpolar"
           }
          ],
          "carpet": [
           {
            "aaxis": {
             "endlinecolor": "#2a3f5f",
             "gridcolor": "white",
             "linecolor": "white",
             "minorgridcolor": "white",
             "startlinecolor": "#2a3f5f"
            },
            "baxis": {
             "endlinecolor": "#2a3f5f",
             "gridcolor": "white",
             "linecolor": "white",
             "minorgridcolor": "white",
             "startlinecolor": "#2a3f5f"
            },
            "type": "carpet"
           }
          ],
          "choropleth": [
           {
            "colorbar": {
             "outlinewidth": 0,
             "ticks": ""
            },
            "type": "choropleth"
           }
          ],
          "contour": [
           {
            "colorbar": {
             "outlinewidth": 0,
             "ticks": ""
            },
            "colorscale": [
             [
              0,
              "#0d0887"
             ],
             [
              0.1111111111111111,
              "#46039f"
             ],
             [
              0.2222222222222222,
              "#7201a8"
             ],
             [
              0.3333333333333333,
              "#9c179e"
             ],
             [
              0.4444444444444444,
              "#bd3786"
             ],
             [
              0.5555555555555556,
              "#d8576b"
             ],
             [
              0.6666666666666666,
              "#ed7953"
             ],
             [
              0.7777777777777778,
              "#fb9f3a"
             ],
             [
              0.8888888888888888,
              "#fdca26"
             ],
             [
              1,
              "#f0f921"
             ]
            ],
            "type": "contour"
           }
          ],
          "contourcarpet": [
           {
            "colorbar": {
             "outlinewidth": 0,
             "ticks": ""
            },
            "type": "contourcarpet"
           }
          ],
          "heatmap": [
           {
            "colorbar": {
             "outlinewidth": 0,
             "ticks": ""
            },
            "colorscale": [
             [
              0,
              "#0d0887"
             ],
             [
              0.1111111111111111,
              "#46039f"
             ],
             [
              0.2222222222222222,
              "#7201a8"
             ],
             [
              0.3333333333333333,
              "#9c179e"
             ],
             [
              0.4444444444444444,
              "#bd3786"
             ],
             [
              0.5555555555555556,
              "#d8576b"
             ],
             [
              0.6666666666666666,
              "#ed7953"
             ],
             [
              0.7777777777777778,
              "#fb9f3a"
             ],
             [
              0.8888888888888888,
              "#fdca26"
             ],
             [
              1,
              "#f0f921"
             ]
            ],
            "type": "heatmap"
           }
          ],
          "heatmapgl": [
           {
            "colorbar": {
             "outlinewidth": 0,
             "ticks": ""
            },
            "colorscale": [
             [
              0,
              "#0d0887"
             ],
             [
              0.1111111111111111,
              "#46039f"
             ],
             [
              0.2222222222222222,
              "#7201a8"
             ],
             [
              0.3333333333333333,
              "#9c179e"
             ],
             [
              0.4444444444444444,
              "#bd3786"
             ],
             [
              0.5555555555555556,
              "#d8576b"
             ],
             [
              0.6666666666666666,
              "#ed7953"
             ],
             [
              0.7777777777777778,
              "#fb9f3a"
             ],
             [
              0.8888888888888888,
              "#fdca26"
             ],
             [
              1,
              "#f0f921"
             ]
            ],
            "type": "heatmapgl"
           }
          ],
          "histogram": [
           {
            "marker": {
             "pattern": {
              "fillmode": "overlay",
              "size": 10,
              "solidity": 0.2
             }
            },
            "type": "histogram"
           }
          ],
          "histogram2d": [
           {
            "colorbar": {
             "outlinewidth": 0,
             "ticks": ""
            },
            "colorscale": [
             [
              0,
              "#0d0887"
             ],
             [
              0.1111111111111111,
              "#46039f"
             ],
             [
              0.2222222222222222,
              "#7201a8"
             ],
             [
              0.3333333333333333,
              "#9c179e"
             ],
             [
              0.4444444444444444,
              "#bd3786"
             ],
             [
              0.5555555555555556,
              "#d8576b"
             ],
             [
              0.6666666666666666,
              "#ed7953"
             ],
             [
              0.7777777777777778,
              "#fb9f3a"
             ],
             [
              0.8888888888888888,
              "#fdca26"
             ],
             [
              1,
              "#f0f921"
             ]
            ],
            "type": "histogram2d"
           }
          ],
          "histogram2dcontour": [
           {
            "colorbar": {
             "outlinewidth": 0,
             "ticks": ""
            },
            "colorscale": [
             [
              0,
              "#0d0887"
             ],
             [
              0.1111111111111111,
              "#46039f"
             ],
             [
              0.2222222222222222,
              "#7201a8"
             ],
             [
              0.3333333333333333,
              "#9c179e"
             ],
             [
              0.4444444444444444,
              "#bd3786"
             ],
             [
              0.5555555555555556,
              "#d8576b"
             ],
             [
              0.6666666666666666,
              "#ed7953"
             ],
             [
              0.7777777777777778,
              "#fb9f3a"
             ],
             [
              0.8888888888888888,
              "#fdca26"
             ],
             [
              1,
              "#f0f921"
             ]
            ],
            "type": "histogram2dcontour"
           }
          ],
          "mesh3d": [
           {
            "colorbar": {
             "outlinewidth": 0,
             "ticks": ""
            },
            "type": "mesh3d"
           }
          ],
          "parcoords": [
           {
            "line": {
             "colorbar": {
              "outlinewidth": 0,
              "ticks": ""
             }
            },
            "type": "parcoords"
           }
          ],
          "pie": [
           {
            "automargin": true,
            "type": "pie"
           }
          ],
          "scatter": [
           {
            "fillpattern": {
             "fillmode": "overlay",
             "size": 10,
             "solidity": 0.2
            },
            "type": "scatter"
           }
          ],
          "scatter3d": [
           {
            "line": {
             "colorbar": {
              "outlinewidth": 0,
              "ticks": ""
             }
            },
            "marker": {
             "colorbar": {
              "outlinewidth": 0,
              "ticks": ""
             }
            },
            "type": "scatter3d"
           }
          ],
          "scattercarpet": [
           {
            "marker": {
             "colorbar": {
              "outlinewidth": 0,
              "ticks": ""
             }
            },
            "type": "scattercarpet"
           }
          ],
          "scattergeo": [
           {
            "marker": {
             "colorbar": {
              "outlinewidth": 0,
              "ticks": ""
             }
            },
            "type": "scattergeo"
           }
          ],
          "scattergl": [
           {
            "marker": {
             "colorbar": {
              "outlinewidth": 0,
              "ticks": ""
             }
            },
            "type": "scattergl"
           }
          ],
          "scattermapbox": [
           {
            "marker": {
             "colorbar": {
              "outlinewidth": 0,
              "ticks": ""
             }
            },
            "type": "scattermapbox"
           }
          ],
          "scatterpolar": [
           {
            "marker": {
             "colorbar": {
              "outlinewidth": 0,
              "ticks": ""
             }
            },
            "type": "scatterpolar"
           }
          ],
          "scatterpolargl": [
           {
            "marker": {
             "colorbar": {
              "outlinewidth": 0,
              "ticks": ""
             }
            },
            "type": "scatterpolargl"
           }
          ],
          "scatterternary": [
           {
            "marker": {
             "colorbar": {
              "outlinewidth": 0,
              "ticks": ""
             }
            },
            "type": "scatterternary"
           }
          ],
          "surface": [
           {
            "colorbar": {
             "outlinewidth": 0,
             "ticks": ""
            },
            "colorscale": [
             [
              0,
              "#0d0887"
             ],
             [
              0.1111111111111111,
              "#46039f"
             ],
             [
              0.2222222222222222,
              "#7201a8"
             ],
             [
              0.3333333333333333,
              "#9c179e"
             ],
             [
              0.4444444444444444,
              "#bd3786"
             ],
             [
              0.5555555555555556,
              "#d8576b"
             ],
             [
              0.6666666666666666,
              "#ed7953"
             ],
             [
              0.7777777777777778,
              "#fb9f3a"
             ],
             [
              0.8888888888888888,
              "#fdca26"
             ],
             [
              1,
              "#f0f921"
             ]
            ],
            "type": "surface"
           }
          ],
          "table": [
           {
            "cells": {
             "fill": {
              "color": "#EBF0F8"
             },
             "line": {
              "color": "white"
             }
            },
            "header": {
             "fill": {
              "color": "#C8D4E3"
             },
             "line": {
              "color": "white"
             }
            },
            "type": "table"
           }
          ]
         },
         "layout": {
          "annotationdefaults": {
           "arrowcolor": "#2a3f5f",
           "arrowhead": 0,
           "arrowwidth": 1
          },
          "autotypenumbers": "strict",
          "coloraxis": {
           "colorbar": {
            "outlinewidth": 0,
            "ticks": ""
           }
          },
          "colorscale": {
           "diverging": [
            [
             0,
             "#8e0152"
            ],
            [
             0.1,
             "#c51b7d"
            ],
            [
             0.2,
             "#de77ae"
            ],
            [
             0.3,
             "#f1b6da"
            ],
            [
             0.4,
             "#fde0ef"
            ],
            [
             0.5,
             "#f7f7f7"
            ],
            [
             0.6,
             "#e6f5d0"
            ],
            [
             0.7,
             "#b8e186"
            ],
            [
             0.8,
             "#7fbc41"
            ],
            [
             0.9,
             "#4d9221"
            ],
            [
             1,
             "#276419"
            ]
           ],
           "sequential": [
            [
             0,
             "#0d0887"
            ],
            [
             0.1111111111111111,
             "#46039f"
            ],
            [
             0.2222222222222222,
             "#7201a8"
            ],
            [
             0.3333333333333333,
             "#9c179e"
            ],
            [
             0.4444444444444444,
             "#bd3786"
            ],
            [
             0.5555555555555556,
             "#d8576b"
            ],
            [
             0.6666666666666666,
             "#ed7953"
            ],
            [
             0.7777777777777778,
             "#fb9f3a"
            ],
            [
             0.8888888888888888,
             "#fdca26"
            ],
            [
             1,
             "#f0f921"
            ]
           ],
           "sequentialminus": [
            [
             0,
             "#0d0887"
            ],
            [
             0.1111111111111111,
             "#46039f"
            ],
            [
             0.2222222222222222,
             "#7201a8"
            ],
            [
             0.3333333333333333,
             "#9c179e"
            ],
            [
             0.4444444444444444,
             "#bd3786"
            ],
            [
             0.5555555555555556,
             "#d8576b"
            ],
            [
             0.6666666666666666,
             "#ed7953"
            ],
            [
             0.7777777777777778,
             "#fb9f3a"
            ],
            [
             0.8888888888888888,
             "#fdca26"
            ],
            [
             1,
             "#f0f921"
            ]
           ]
          },
          "colorway": [
           "#636efa",
           "#EF553B",
           "#00cc96",
           "#ab63fa",
           "#FFA15A",
           "#19d3f3",
           "#FF6692",
           "#B6E880",
           "#FF97FF",
           "#FECB52"
          ],
          "font": {
           "color": "#2a3f5f"
          },
          "geo": {
           "bgcolor": "white",
           "lakecolor": "white",
           "landcolor": "#E5ECF6",
           "showlakes": true,
           "showland": true,
           "subunitcolor": "white"
          },
          "hoverlabel": {
           "align": "left"
          },
          "hovermode": "closest",
          "mapbox": {
           "style": "light"
          },
          "paper_bgcolor": "white",
          "plot_bgcolor": "#E5ECF6",
          "polar": {
           "angularaxis": {
            "gridcolor": "white",
            "linecolor": "white",
            "ticks": ""
           },
           "bgcolor": "#E5ECF6",
           "radialaxis": {
            "gridcolor": "white",
            "linecolor": "white",
            "ticks": ""
           }
          },
          "scene": {
           "xaxis": {
            "backgroundcolor": "#E5ECF6",
            "gridcolor": "white",
            "gridwidth": 2,
            "linecolor": "white",
            "showbackground": true,
            "ticks": "",
            "zerolinecolor": "white"
           },
           "yaxis": {
            "backgroundcolor": "#E5ECF6",
            "gridcolor": "white",
            "gridwidth": 2,
            "linecolor": "white",
            "showbackground": true,
            "ticks": "",
            "zerolinecolor": "white"
           },
           "zaxis": {
            "backgroundcolor": "#E5ECF6",
            "gridcolor": "white",
            "gridwidth": 2,
            "linecolor": "white",
            "showbackground": true,
            "ticks": "",
            "zerolinecolor": "white"
           }
          },
          "shapedefaults": {
           "line": {
            "color": "#2a3f5f"
           }
          },
          "ternary": {
           "aaxis": {
            "gridcolor": "white",
            "linecolor": "white",
            "ticks": ""
           },
           "baxis": {
            "gridcolor": "white",
            "linecolor": "white",
            "ticks": ""
           },
           "bgcolor": "#E5ECF6",
           "caxis": {
            "gridcolor": "white",
            "linecolor": "white",
            "ticks": ""
           }
          },
          "title": {
           "x": 0.05
          },
          "xaxis": {
           "automargin": true,
           "gridcolor": "white",
           "linecolor": "white",
           "ticks": "",
           "title": {
            "standoff": 15
           },
           "zerolinecolor": "white",
           "zerolinewidth": 2
          },
          "yaxis": {
           "automargin": true,
           "gridcolor": "white",
           "linecolor": "white",
           "ticks": "",
           "title": {
            "standoff": 15
           },
           "zerolinecolor": "white",
           "zerolinewidth": 2
          }
         }
        },
        "xaxis": {
         "anchor": "y",
         "domain": [
          0,
          1
         ],
         "title": {
          "text": "index"
         }
        },
        "yaxis": {
         "anchor": "x",
         "domain": [
          0,
          1
         ],
         "title": {
          "text": "value"
         }
        }
       }
      },
      "text/html": [
       "<div>                            <div id=\"2434b02f-b085-4c1a-8e5c-f1e3aeb0c36a\" class=\"plotly-graph-div\" style=\"height:525px; width:100%;\"></div>            <script type=\"text/javascript\">                require([\"plotly\"], function(Plotly) {                    window.PLOTLYENV=window.PLOTLYENV || {};                                    if (document.getElementById(\"2434b02f-b085-4c1a-8e5c-f1e3aeb0c36a\")) {                    Plotly.newPlot(                        \"2434b02f-b085-4c1a-8e5c-f1e3aeb0c36a\",                        [{\"hovertemplate\":\"variable=dale_chall<br>index=%{x}<br>value=%{y}<extra></extra>\",\"legendgroup\":\"dale_chall\",\"line\":{\"color\":\"#636efa\",\"dash\":\"solid\"},\"marker\":{\"symbol\":\"circle\"},\"mode\":\"lines\",\"name\":\"dale_chall\",\"orientation\":\"v\",\"showlegend\":true,\"x\":[1726,1727,1728,1729,1730,1731,1732,1733,1734,1735,1736,1737,1738,1739,1740,1741,1742,1743,1744,1745,1746,1747,1748,1749,1750,1751,1752,1753,1754,1755,1756,1757,1758,1759,1760,1761,1762,1763,1764,1765,1766,1767,1768,1769,1770,1771,1772,1773,1774,1775,1776,1777,1778,1779,1780,1781,1782,1783,1784,1785,1786,1787,1788,1789,1790,1791,1792,1793,1794,1795,1796,1797,1798,1799,1800,1801,1802,1803,1804,1805,1806,1807,1808,1809,1810,1811,1812,1813,1814,1815,1816,1817,1818,1819,1820,1821,1822,1823,1824,1825,1826,1827,1828,1829,1830,1831,1832,1833,1834,1835,1836,1837,1838,1839,1840,1841,1842,1843,1844,1845,1846,1847,1848,1849,1850,1851,1852,1853,1854,1855,1856,1857,1858,1859,1860,1861,1862,1863,1864,1865,1866,1867,1868,1869,1870,1871,1872,1873,1874,1875,1876,1877,1878,1879,1880,1881,1882,1883,1884,1885,1886,1887,1888,1889,1890,1891,1892,1893,1894,1895,1896,1897,1898,1899,1900,1901,1902,1903,1904,1905,1906,1907,1908,1909,1910,1911,1912,1913,1914,1915,1916,1917,1918,1919,1920,1921],\"xaxis\":\"x\",\"y\":[9.199714285714286,9.88925,20.97890322580645,6.218444444444445,11.48177777777778,15.4465,16.236,11.48177777777778,23.797589743589747,23.473081081081084,28.25117948717949,14.434000000000001,17.93504761904762,8.796000000000001,32.47238461538462,16.431238095238097,19.438857142857145,25.48057142857143,12.870375,16.509416666666667,8.239333333333335,29.137673469387753,20.655142857142856,22.773714285714284,20.469548387096772,13.756,9.762363636363636,19.8195,7.9155,12.633272727272727,8.239333333333335,8.796000000000001,5.638,24.759,7.972888888888889,18.564333333333334,17.14715384615385,20.917793103448275,11.197818181818182,10.091846153846154,26.48922727272727,36.61261538461539,11.215333333333334,14.933764705882353,26.83613953488372,18.739862068965518,22.248666666666665,9.727333333333334,12.870375,20.3129375,32.047333333333334,23.676000000000002,15.4465,12.014666666666669,10.871,12.633272727272727,10.597999999999999,16.236,11.306461538461539,10.239142857142857,25.72770731707317,8.32690909090909,7.972888888888889,14.068727272727273,13.83675,29.137673469387753,14.657,8.796000000000001,11.954,14.950307692307694,15.679333333333336,11.863,10.239142857142857,9.8995,14.410315789473684,11.306461538461539,12.521076923076924,14.950307692307694,13.85725,21.462275862068967,13.847000000000001,15.831,11.48177777777778,13.711142857142857,11.276,11.276,18.483166666666666,18.969076923076926,14.191333333333336,13.78290909090909,20.674363636363637,31.650641509433964,11.306461538461539,17.8355,5.94175,5.94175,20.917793103448275,26.55075,9.697,6.751333333333335,6.751333333333335,17.167333333333335,11.650666666666666,16.509416666666667,18.739862068965518,15.068555555555555,34.2128275862069,26.10172093023256,11.215333333333334,14.00494117647059,5.607666666666667,34.497,19.717393939393936,17.485703703703702,18.959739130434784,9.697,27.34025,5.9315,17.815,12.855,13.847000000000001,13.467565217391304,20.195878787878787,7.972888888888889,16.236,18.361769230769234,20.3129375,11.48177777777778,7.9155,10.091846153846154,12.870375,12.288499999999999,5.638,11.48177777777778,11.48177777777778,12.531166666666667,12.531166666666667,26.881555555555558,7.9155,7.972888888888889,8.32690909090909,5.607666666666667,16.236,14.410315789473684,14.410315789473684,6.218444444444445,21.21907142857143,9.879000000000001,8.796000000000001,13.8675,14.844125000000002,5.9315,22.551241379310348,14.657,7.983428571428572,11.650666666666666,20.791,12.531166666666667,18.399428571428572,17.586695652173912,16.509416666666667,19.576384615384615,22.773714285714284,19.141083333333334,32.160545454545456,15.241368421052632,11.215333333333334,9.697,8.239333333333335,12.855,12.521076923076924,14.410315789473684,14.17552380952381,6.751333333333335,8.796000000000001,12.583285714285715,16.8212,18.969076923076926,11.455428571428573,20.373310344827587,9.879000000000001,14.191333333333336,13.85725,16.65381818181818,10.091846153846154,5.727714285714287,29.459918367346937,10.239142857142857,5.727714285714287,5.727714285714287,7.972888888888889,5.727714285714287,5.607666666666667,13.579263157894736,13.314111111111114,12.014666666666669],\"yaxis\":\"y\",\"type\":\"scatter\"}],                        {\"template\":{\"data\":{\"histogram2dcontour\":[{\"type\":\"histogram2dcontour\",\"colorbar\":{\"outlinewidth\":0,\"ticks\":\"\"},\"colorscale\":[[0.0,\"#0d0887\"],[0.1111111111111111,\"#46039f\"],[0.2222222222222222,\"#7201a8\"],[0.3333333333333333,\"#9c179e\"],[0.4444444444444444,\"#bd3786\"],[0.5555555555555556,\"#d8576b\"],[0.6666666666666666,\"#ed7953\"],[0.7777777777777778,\"#fb9f3a\"],[0.8888888888888888,\"#fdca26\"],[1.0,\"#f0f921\"]]}],\"choropleth\":[{\"type\":\"choropleth\",\"colorbar\":{\"outlinewidth\":0,\"ticks\":\"\"}}],\"histogram2d\":[{\"type\":\"histogram2d\",\"colorbar\":{\"outlinewidth\":0,\"ticks\":\"\"},\"colorscale\":[[0.0,\"#0d0887\"],[0.1111111111111111,\"#46039f\"],[0.2222222222222222,\"#7201a8\"],[0.3333333333333333,\"#9c179e\"],[0.4444444444444444,\"#bd3786\"],[0.5555555555555556,\"#d8576b\"],[0.6666666666666666,\"#ed7953\"],[0.7777777777777778,\"#fb9f3a\"],[0.8888888888888888,\"#fdca26\"],[1.0,\"#f0f921\"]]}],\"heatmap\":[{\"type\":\"heatmap\",\"colorbar\":{\"outlinewidth\":0,\"ticks\":\"\"},\"colorscale\":[[0.0,\"#0d0887\"],[0.1111111111111111,\"#46039f\"],[0.2222222222222222,\"#7201a8\"],[0.3333333333333333,\"#9c179e\"],[0.4444444444444444,\"#bd3786\"],[0.5555555555555556,\"#d8576b\"],[0.6666666666666666,\"#ed7953\"],[0.7777777777777778,\"#fb9f3a\"],[0.8888888888888888,\"#fdca26\"],[1.0,\"#f0f921\"]]}],\"heatmapgl\":[{\"type\":\"heatmapgl\",\"colorbar\":{\"outlinewidth\":0,\"ticks\":\"\"},\"colorscale\":[[0.0,\"#0d0887\"],[0.1111111111111111,\"#46039f\"],[0.2222222222222222,\"#7201a8\"],[0.3333333333333333,\"#9c179e\"],[0.4444444444444444,\"#bd3786\"],[0.5555555555555556,\"#d8576b\"],[0.6666666666666666,\"#ed7953\"],[0.7777777777777778,\"#fb9f3a\"],[0.8888888888888888,\"#fdca26\"],[1.0,\"#f0f921\"]]}],\"contourcarpet\":[{\"type\":\"contourcarpet\",\"colorbar\":{\"outlinewidth\":0,\"ticks\":\"\"}}],\"contour\":[{\"type\":\"contour\",\"colorbar\":{\"outlinewidth\":0,\"ticks\":\"\"},\"colorscale\":[[0.0,\"#0d0887\"],[0.1111111111111111,\"#46039f\"],[0.2222222222222222,\"#7201a8\"],[0.3333333333333333,\"#9c179e\"],[0.4444444444444444,\"#bd3786\"],[0.5555555555555556,\"#d8576b\"],[0.6666666666666666,\"#ed7953\"],[0.7777777777777778,\"#fb9f3a\"],[0.8888888888888888,\"#fdca26\"],[1.0,\"#f0f921\"]]}],\"surface\":[{\"type\":\"surface\",\"colorbar\":{\"outlinewidth\":0,\"ticks\":\"\"},\"colorscale\":[[0.0,\"#0d0887\"],[0.1111111111111111,\"#46039f\"],[0.2222222222222222,\"#7201a8\"],[0.3333333333333333,\"#9c179e\"],[0.4444444444444444,\"#bd3786\"],[0.5555555555555556,\"#d8576b\"],[0.6666666666666666,\"#ed7953\"],[0.7777777777777778,\"#fb9f3a\"],[0.8888888888888888,\"#fdca26\"],[1.0,\"#f0f921\"]]}],\"mesh3d\":[{\"type\":\"mesh3d\",\"colorbar\":{\"outlinewidth\":0,\"ticks\":\"\"}}],\"scatter\":[{\"fillpattern\":{\"fillmode\":\"overlay\",\"size\":10,\"solidity\":0.2},\"type\":\"scatter\"}],\"parcoords\":[{\"type\":\"parcoords\",\"line\":{\"colorbar\":{\"outlinewidth\":0,\"ticks\":\"\"}}}],\"scatterpolargl\":[{\"type\":\"scatterpolargl\",\"marker\":{\"colorbar\":{\"outlinewidth\":0,\"ticks\":\"\"}}}],\"bar\":[{\"error_x\":{\"color\":\"#2a3f5f\"},\"error_y\":{\"color\":\"#2a3f5f\"},\"marker\":{\"line\":{\"color\":\"#E5ECF6\",\"width\":0.5},\"pattern\":{\"fillmode\":\"overlay\",\"size\":10,\"solidity\":0.2}},\"type\":\"bar\"}],\"scattergeo\":[{\"type\":\"scattergeo\",\"marker\":{\"colorbar\":{\"outlinewidth\":0,\"ticks\":\"\"}}}],\"scatterpolar\":[{\"type\":\"scatterpolar\",\"marker\":{\"colorbar\":{\"outlinewidth\":0,\"ticks\":\"\"}}}],\"histogram\":[{\"marker\":{\"pattern\":{\"fillmode\":\"overlay\",\"size\":10,\"solidity\":0.2}},\"type\":\"histogram\"}],\"scattergl\":[{\"type\":\"scattergl\",\"marker\":{\"colorbar\":{\"outlinewidth\":0,\"ticks\":\"\"}}}],\"scatter3d\":[{\"type\":\"scatter3d\",\"line\":{\"colorbar\":{\"outlinewidth\":0,\"ticks\":\"\"}},\"marker\":{\"colorbar\":{\"outlinewidth\":0,\"ticks\":\"\"}}}],\"scattermapbox\":[{\"type\":\"scattermapbox\",\"marker\":{\"colorbar\":{\"outlinewidth\":0,\"ticks\":\"\"}}}],\"scatterternary\":[{\"type\":\"scatterternary\",\"marker\":{\"colorbar\":{\"outlinewidth\":0,\"ticks\":\"\"}}}],\"scattercarpet\":[{\"type\":\"scattercarpet\",\"marker\":{\"colorbar\":{\"outlinewidth\":0,\"ticks\":\"\"}}}],\"carpet\":[{\"aaxis\":{\"endlinecolor\":\"#2a3f5f\",\"gridcolor\":\"white\",\"linecolor\":\"white\",\"minorgridcolor\":\"white\",\"startlinecolor\":\"#2a3f5f\"},\"baxis\":{\"endlinecolor\":\"#2a3f5f\",\"gridcolor\":\"white\",\"linecolor\":\"white\",\"minorgridcolor\":\"white\",\"startlinecolor\":\"#2a3f5f\"},\"type\":\"carpet\"}],\"table\":[{\"cells\":{\"fill\":{\"color\":\"#EBF0F8\"},\"line\":{\"color\":\"white\"}},\"header\":{\"fill\":{\"color\":\"#C8D4E3\"},\"line\":{\"color\":\"white\"}},\"type\":\"table\"}],\"barpolar\":[{\"marker\":{\"line\":{\"color\":\"#E5ECF6\",\"width\":0.5},\"pattern\":{\"fillmode\":\"overlay\",\"size\":10,\"solidity\":0.2}},\"type\":\"barpolar\"}],\"pie\":[{\"automargin\":true,\"type\":\"pie\"}]},\"layout\":{\"autotypenumbers\":\"strict\",\"colorway\":[\"#636efa\",\"#EF553B\",\"#00cc96\",\"#ab63fa\",\"#FFA15A\",\"#19d3f3\",\"#FF6692\",\"#B6E880\",\"#FF97FF\",\"#FECB52\"],\"font\":{\"color\":\"#2a3f5f\"},\"hovermode\":\"closest\",\"hoverlabel\":{\"align\":\"left\"},\"paper_bgcolor\":\"white\",\"plot_bgcolor\":\"#E5ECF6\",\"polar\":{\"bgcolor\":\"#E5ECF6\",\"angularaxis\":{\"gridcolor\":\"white\",\"linecolor\":\"white\",\"ticks\":\"\"},\"radialaxis\":{\"gridcolor\":\"white\",\"linecolor\":\"white\",\"ticks\":\"\"}},\"ternary\":{\"bgcolor\":\"#E5ECF6\",\"aaxis\":{\"gridcolor\":\"white\",\"linecolor\":\"white\",\"ticks\":\"\"},\"baxis\":{\"gridcolor\":\"white\",\"linecolor\":\"white\",\"ticks\":\"\"},\"caxis\":{\"gridcolor\":\"white\",\"linecolor\":\"white\",\"ticks\":\"\"}},\"coloraxis\":{\"colorbar\":{\"outlinewidth\":0,\"ticks\":\"\"}},\"colorscale\":{\"sequential\":[[0.0,\"#0d0887\"],[0.1111111111111111,\"#46039f\"],[0.2222222222222222,\"#7201a8\"],[0.3333333333333333,\"#9c179e\"],[0.4444444444444444,\"#bd3786\"],[0.5555555555555556,\"#d8576b\"],[0.6666666666666666,\"#ed7953\"],[0.7777777777777778,\"#fb9f3a\"],[0.8888888888888888,\"#fdca26\"],[1.0,\"#f0f921\"]],\"sequentialminus\":[[0.0,\"#0d0887\"],[0.1111111111111111,\"#46039f\"],[0.2222222222222222,\"#7201a8\"],[0.3333333333333333,\"#9c179e\"],[0.4444444444444444,\"#bd3786\"],[0.5555555555555556,\"#d8576b\"],[0.6666666666666666,\"#ed7953\"],[0.7777777777777778,\"#fb9f3a\"],[0.8888888888888888,\"#fdca26\"],[1.0,\"#f0f921\"]],\"diverging\":[[0,\"#8e0152\"],[0.1,\"#c51b7d\"],[0.2,\"#de77ae\"],[0.3,\"#f1b6da\"],[0.4,\"#fde0ef\"],[0.5,\"#f7f7f7\"],[0.6,\"#e6f5d0\"],[0.7,\"#b8e186\"],[0.8,\"#7fbc41\"],[0.9,\"#4d9221\"],[1,\"#276419\"]]},\"xaxis\":{\"gridcolor\":\"white\",\"linecolor\":\"white\",\"ticks\":\"\",\"title\":{\"standoff\":15},\"zerolinecolor\":\"white\",\"automargin\":true,\"zerolinewidth\":2},\"yaxis\":{\"gridcolor\":\"white\",\"linecolor\":\"white\",\"ticks\":\"\",\"title\":{\"standoff\":15},\"zerolinecolor\":\"white\",\"automargin\":true,\"zerolinewidth\":2},\"scene\":{\"xaxis\":{\"backgroundcolor\":\"#E5ECF6\",\"gridcolor\":\"white\",\"linecolor\":\"white\",\"showbackground\":true,\"ticks\":\"\",\"zerolinecolor\":\"white\",\"gridwidth\":2},\"yaxis\":{\"backgroundcolor\":\"#E5ECF6\",\"gridcolor\":\"white\",\"linecolor\":\"white\",\"showbackground\":true,\"ticks\":\"\",\"zerolinecolor\":\"white\",\"gridwidth\":2},\"zaxis\":{\"backgroundcolor\":\"#E5ECF6\",\"gridcolor\":\"white\",\"linecolor\":\"white\",\"showbackground\":true,\"ticks\":\"\",\"zerolinecolor\":\"white\",\"gridwidth\":2}},\"shapedefaults\":{\"line\":{\"color\":\"#2a3f5f\"}},\"annotationdefaults\":{\"arrowcolor\":\"#2a3f5f\",\"arrowhead\":0,\"arrowwidth\":1},\"geo\":{\"bgcolor\":\"white\",\"landcolor\":\"#E5ECF6\",\"subunitcolor\":\"white\",\"showland\":true,\"showlakes\":true,\"lakecolor\":\"white\"},\"title\":{\"x\":0.05},\"mapbox\":{\"style\":\"light\"}}},\"xaxis\":{\"anchor\":\"y\",\"domain\":[0.0,1.0],\"title\":{\"text\":\"index\"}},\"yaxis\":{\"anchor\":\"x\",\"domain\":[0.0,1.0],\"title\":{\"text\":\"value\"}},\"legend\":{\"title\":{\"text\":\"variable\"},\"tracegroupgap\":0},\"margin\":{\"t\":60}},                        {\"responsive\": true}                    ).then(function(){\n",
       "                            \n",
       "var gd = document.getElementById('2434b02f-b085-4c1a-8e5c-f1e3aeb0c36a');\n",
       "var x = new MutationObserver(function (mutations, observer) {{\n",
       "        var display = window.getComputedStyle(gd).display;\n",
       "        if (!display || display === 'none') {{\n",
       "            console.log([gd, 'removed!']);\n",
       "            Plotly.purge(gd);\n",
       "            observer.disconnect();\n",
       "        }}\n",
       "}});\n",
       "\n",
       "// Listen for the removal of the full notebook cells\n",
       "var notebookContainer = gd.closest('#notebook-container');\n",
       "if (notebookContainer) {{\n",
       "    x.observe(notebookContainer, {childList: true});\n",
       "}}\n",
       "\n",
       "// Listen for the clearing of the current output cell\n",
       "var outputEl = gd.closest('.output');\n",
       "if (outputEl) {{\n",
       "    x.observe(outputEl, {childList: true});\n",
       "}}\n",
       "\n",
       "                        })                };                });            </script>        </div>"
      ]
     },
     "metadata": {},
     "output_type": "display_data"
    }
   ],
   "source": [
    "fig = px.line(tree_depth.query('date == \"2015-03-07\"').dale_chall)\n",
    "fig.show()"
   ]
  },
  {
   "cell_type": "code",
   "execution_count": 21,
   "id": "40fd0d15",
   "metadata": {},
   "outputs": [
    {
     "data": {
      "text/plain": [
       "6.661601076392115"
      ]
     },
     "execution_count": 21,
     "metadata": {},
     "output_type": "execute_result"
    }
   ],
   "source": [
    "tree_depth.query('date == \"2015-03-07\"').dale_chall.std()"
   ]
  },
  {
   "cell_type": "code",
   "execution_count": null,
   "id": "d6441aa3",
   "metadata": {},
   "outputs": [],
   "source": [
    "gwb.query('date == \"2001-01-20\"').words_per_sent.std()"
   ]
  },
  {
   "cell_type": "code",
   "execution_count": 102,
   "id": "02843d8b",
   "metadata": {},
   "outputs": [],
   "source": [
    "gwb = calc_scores(gwb)"
   ]
  },
  {
   "cell_type": "code",
   "execution_count": 103,
   "id": "cdcaad94",
   "metadata": {},
   "outputs": [
    {
     "data": {
      "text/plain": [
       "6.7400003330564795"
      ]
     },
     "execution_count": 103,
     "metadata": {},
     "output_type": "execute_result"
    }
   ],
   "source": [
    "gwb.query('date == \"2002-09-17\"').dale_chall.std() #Can't get fooled again"
   ]
  },
  {
   "cell_type": "code",
   "execution_count": 104,
   "id": "14d98302",
   "metadata": {},
   "outputs": [
    {
     "data": {
      "text/plain": [
       "7.4469287931264025"
      ]
     },
     "execution_count": 104,
     "metadata": {},
     "output_type": "execute_result"
    }
   ],
   "source": [
    "tree_depth.dale_chall.std()"
   ]
  },
  {
   "cell_type": "code",
   "execution_count": 105,
   "id": "d0c9878a",
   "metadata": {},
   "outputs": [
    {
     "data": {
      "text/plain": [
       "5.478525083862469"
      ]
     },
     "execution_count": 105,
     "metadata": {},
     "output_type": "execute_result"
    }
   ],
   "source": [
    "gwb.dale_chall.std()"
   ]
  },
  {
   "cell_type": "code",
   "execution_count": 106,
   "id": "9821bfb3",
   "metadata": {},
   "outputs": [],
   "source": [
    "oba = calc_scores(oba)"
   ]
  },
  {
   "cell_type": "code",
   "execution_count": 107,
   "id": "1790bc3b",
   "metadata": {},
   "outputs": [
    {
     "data": {
      "text/plain": [
       "6.676559068616707"
      ]
     },
     "execution_count": 107,
     "metadata": {},
     "output_type": "execute_result"
    }
   ],
   "source": [
    "oba.dale_chall.std()"
   ]
  },
  {
   "cell_type": "code",
   "execution_count": 108,
   "id": "336346f2",
   "metadata": {},
   "outputs": [],
   "source": [
    "#tree_depth.to_csv('sentence_variance_top10.csv', index=False)\n",
    "#oba.to_csv('sentence_variance_oba.csv', index=False)\n",
    "#gwb.to_csv('sentence_variance_gwb.csv', index=False)"
   ]
  },
  {
   "cell_type": "code",
   "execution_count": 110,
   "id": "de3d537c",
   "metadata": {},
   "outputs": [
    {
     "data": {
      "text/plain": [
       "True"
      ]
     },
     "execution_count": 110,
     "metadata": {},
     "output_type": "execute_result"
    }
   ],
   "source": [
    "set(oba.columns) == set(gwb.columns)"
   ]
  },
  {
   "cell_type": "markdown",
   "id": "15f30204",
   "metadata": {},
   "source": [
    "## Try a little PCA with this data"
   ]
  },
  {
   "cell_type": "code",
   "execution_count": 147,
   "id": "1f856918",
   "metadata": {},
   "outputs": [],
   "source": [
    "#     tree_depth.groupby(by='date').median(numeric_only=True).add_suffix('_med') \n",
    "oba_grp = oba.groupby(by='date').median(numeric_only=True)\n",
    "gwb_grp = gwb.groupby(by='date').median(numeric_only=True)\n",
    "oba_grp['source'] = 'oba'\n",
    "gwb_grp['source'] = 'gwb'\n",
    "combine_med = pd.concat([oba_grp, gwb_grp])\n",
    "#combine_med['date'] = combine_med.index\n",
    "oba_speech = oba.groupby(by='date').std(numeric_only=True).add_suffix('_std')\n",
    "gwb_speech = gwb.groupby(by='date').std(numeric_only=True).add_suffix('_std')\n",
    "combined_std = pd.concat([oba_speech,gwb_speech])\n",
    "#combined_std['date'] = combined_std.index\n",
    "combined = pd.merge(combine_med, combined_std, how='left', on='date')"
   ]
  },
  {
   "cell_type": "code",
   "execution_count": 152,
   "id": "89bb2acf",
   "metadata": {},
   "outputs": [
    {
     "name": "stdout",
     "output_type": "stream",
     "text": [
      "[0.49933797 0.24305327]\n"
     ]
    }
   ],
   "source": [
    "pca_data = combined.drop(['source'], axis=1)\n",
    "# Scale data before applying PCA\n",
    "scaling = StandardScaler()\n",
    "# Use fit and transform method\n",
    "scaling.fit(pca_data)\n",
    "scaled_data = scaling.transform(pca_data)\n",
    "pca = PCA(n_components=2)\n",
    "pcafit = pca.fit_transform(scaled_data)\n",
    "print(pca.explained_variance_ratio_)"
   ]
  },
  {
   "cell_type": "code",
   "execution_count": 153,
   "id": "36b5400f",
   "metadata": {},
   "outputs": [
    {
     "data": {
      "application/vnd.plotly.v1+json": {
       "config": {
        "plotlyServerURL": "https://plot.ly"
       },
       "data": [
        {
         "hovertemplate": "<b>%{hovertext}</b><br><br>color=oba<br>0=%{x}<br>1=%{y}<extra></extra>",
         "hovertext": [
          "2004-07-28",
          "2008-06-04",
          "2008-11-05",
          "2009-01-05",
          "2009-01-20",
          "2009-04-02",
          "2009-04-15",
          "2009-05-22",
          "2009-06-15",
          "2009-07-15",
          "2009-09-24",
          "2009-10-09",
          "2009-11-05",
          "2009-12-19",
          "2009-12-25",
          "2010-01-12",
          "2010-03-04",
          "2010-03-24",
          "2010-04-15",
          "2010-04-22",
          "2010-05-07",
          "2010-07-15",
          "2010-07-21",
          "2010-07-26",
          "2010-08-31",
          "2010-11-02",
          "2011-01-08",
          "2011-01-26",
          "2011-01-31",
          "2011-02-19",
          "2011-05-02",
          "2011-05-23",
          "2011-06-23",
          "2011-07-26",
          "2011-09-09",
          "2011-10-17",
          "2011-11-17",
          "2011-12-16",
          "2012-01-06",
          "2012-01-25",
          "2012-03-27",
          "2012-03-31",
          "2012-04-29",
          "2012-05-02",
          "2012-05-10",
          "2012-06-29",
          "2012-07-21",
          "2012-09-07",
          "2012-10-29",
          "2012-11-07",
          "2012-12-15",
          "2013-01-16",
          "2013-01-22",
          "2013-01-30",
          "2013-02-13",
          "2013-04-16",
          "2013-04-26",
          "2013-05-04",
          "2013-06-19",
          "2013-07-14",
          "2013-08-29",
          "2013-09-11",
          "2013-10-02",
          "2013-12-06",
          "2014-01-18",
          "2014-01-29",
          "2014-03-07",
          "2014-03-26",
          "2014-04-11",
          "2014-05-21",
          "2014-07-01",
          "2014-08-08",
          "2014-08-12",
          "2014-09-17",
          "2014-10-18",
          "2014-11-05",
          "2014-12-18",
          "2015-01-08",
          "2015-01-21",
          "2015-02-14",
          "2015-03-11",
          "2015-04-03",
          "2015-05-09",
          "2015-06-18",
          "2015-07-07",
          "2015-08-03",
          "2015-09-24",
          "2015-10-02",
          "2015-11-14",
          "2015-12-14",
          "2016-01-13",
          "2016-02-16",
          "2016-03-23",
          "2016-04-25",
          "2016-05-06",
          "2016-06-13",
          "2016-07-28",
          "2016-08-17",
          "2016-09-05",
          "2016-11-09",
          "2017-01-11"
         ],
         "legendgroup": "oba",
         "marker": {
          "color": "rgb(127, 60, 141)",
          "symbol": "circle"
         },
         "mode": "markers",
         "name": "oba",
         "orientation": "v",
         "showlegend": true,
         "type": "scatter",
         "x": [
          -0.07448205395390124,
          3.3643108379007223,
          -2.5078752151601886,
          0.2589339271290922,
          -0.193755788563686,
          -0.5956845523477297,
          1.969042821903559,
          0.18413377773955988,
          -2.2359790497441483,
          -2.4422433650317665,
          0.36927665346676486,
          -0.6787719623769771,
          -2.3224305210263476,
          -1.0196652114669413,
          0.25548099435089733,
          0.5078748032545911,
          -0.9675389896038188,
          -4.148690501359112,
          0.0975997792775538,
          1.8345578397369688,
          -1.0264783450224004,
          -1.0820843755373912,
          -2.073628363167443,
          1.0991409018480214,
          -0.8657162519769452,
          -1.077023044541647,
          -1.7982736224907185,
          -2.5681365319280056,
          -2.100750745215032,
          -2.8947108278018683,
          -1.699246963941732,
          -5.644162026285151,
          -0.5926596954648581,
          -0.7483304327137691,
          -3.0909294027157155,
          3.0838729208827687,
          0.3958862677386217,
          -1.8192261538399859,
          0.7910824797755227,
          -2.7317071748903206,
          -0.6857564674117669,
          -4.020786461523775,
          -5.987364307417289,
          -3.4223319919788446,
          -1.0381092332271173,
          -1.6799317940992602,
          -4.104905715949496,
          -1.1195079485619142,
          -1.46818407676038,
          -2.5611309321936524,
          -0.7402718869767544,
          -1.9836420112177968,
          0.6656369972580656,
          -4.754301808919386,
          -0.8571643811537392,
          -2.6042230412511898,
          -0.43848905902255525,
          0.130362978405025,
          -0.9047652991374533,
          0.8616640034582452,
          2.769866830456037,
          0.2632081621713589,
          -3.9656934867947373,
          0.1956557267678139,
          6.4853338952808235,
          -0.5720474706244452,
          4.8843142153611785,
          1.5898685827363157,
          -0.5589511341450786,
          -1.7528589608300515,
          -2.2810883246527807,
          0.5631458598248522,
          2.874439104049275,
          -2.0774256815304355,
          -0.0771051504073401,
          -3.3503222610905814,
          1.221982142435611,
          -0.14036874055805215,
          -1.8139054645704396,
          1.237678338831526,
          -2.8080051884428814,
          1.1973830551477513,
          -5.6886479917659205,
          -1.7391401960498256,
          -0.5233072394502662,
          -2.312807122317367,
          2.5936864983743315,
          -2.0787927494053093,
          -2.5845145113338783,
          1.0233723367243754,
          -1.9890072049195973,
          -1.5406161639255587,
          19.33447141681126,
          -0.17514092724204391,
          -5.322523414560422,
          -3.0875027831959976,
          -3.644411692762591,
          -1.9981584112724613,
          0.2150992089438081,
          -5.544161628937155,
          0.2498610446129977
         ],
         "xaxis": "x",
         "y": [
          6.519039014118074,
          3.742488702587069,
          3.850272995031479,
          1.4145425842711221,
          1.9421547434388267,
          -0.4276991708668322,
          2.5171225951467413,
          -0.7532194018674824,
          -1.5514115682388858,
          1.4050126735615716,
          -0.797138742915949,
          -0.4910217746267109,
          0.6648074576323755,
          3.9571551049587503,
          -2.55210432598379,
          -2.2008007735317605,
          2.1118922318650806,
          4.810522245132961,
          0.40132176442918144,
          -1.9061031989638713,
          0.22560967189202957,
          -0.2807930593721865,
          -0.4560397187906767,
          0.1606182874047962,
          -1.5442927603076673,
          2.059505821448246,
          1.9976162772782002,
          0.07382367398458313,
          -0.7687222611290262,
          1.9480767210064986,
          0.2670193751897291,
          3.1291000981921666,
          -0.554246704332132,
          1.9252957260540877,
          0.9885506206429496,
          3.74369203044196,
          -1.1605309292880395,
          -1.2594520552703052,
          0.024536174587165293,
          0.7617336951831823,
          -0.6433941057094887,
          2.7371977566816508,
          3.5194992771442593,
          -1.0625347126885178,
          3.677304117799315,
          0.9604011673695299,
          3.216044534418558,
          4.066662930801818,
          2.235222058290301,
          5.248375446596494,
          0.5836660732614752,
          3.292335166902707,
          -0.13671580123415059,
          2.5878296510733914,
          1.2146742748360106,
          1.7137181133787742,
          2.584698796340374,
          -0.5923022338320699,
          2.434144884796963,
          1.6359022624289592,
          4.696932384195518,
          -0.25693976930097034,
          1.6422205089598247,
          -1.538574442630172,
          -2.7968188609089593,
          0.607939040719327,
          -1.890974053213299,
          -0.4473313819634526,
          3.942826449754471,
          1.9903857220924528,
          0.9034517006549724,
          -0.7135395422615827,
          -1.204892963712742,
          0.7516599702836971,
          1.8419721169515018,
          1.3771319100593618,
          -2.0486573351838895,
          -8.152757633187402,
          1.9914774526123096,
          1.8300224395382427,
          2.8687040260730496,
          1.3788156023121192,
          2.5959003729687606,
          0.827999244730388,
          -0.7165122512915785,
          2.2845708388381474,
          0.13657650840003904,
          2.7104153302786034,
          0.6242339969062912,
          -0.04989830365738831,
          1.4684574090916922,
          -1.9042613426210773,
          7.196931233883992,
          1.6469691664692745,
          3.8588149700346013,
          -0.07006932123601732,
          3.81822006927286,
          2.352317940479522,
          -0.3815161900859971,
          4.7108796752850015,
          4.833605955613469
         ],
         "yaxis": "y"
        },
        {
         "hovertemplate": "<b>%{hovertext}</b><br><br>color=gwb<br>0=%{x}<br>1=%{y}<extra></extra>",
         "hovertext": [
          "2001-01-20",
          "2001-01-22",
          "2001-01-29",
          "2001-02-16",
          "2001-03-29",
          "2001-06-07",
          "2001-08-09",
          "2001-09-11",
          "2001-09-20",
          "2001-10-07",
          "2001-10-17",
          "2001-11-10",
          "2001-12-13",
          "2001-12-27",
          "2002-01-08",
          "2002-01-29",
          "2002-05-20",
          "2002-06-06",
          "2002-06-24",
          "2002-07-09",
          "2002-09-04",
          "2002-09-12",
          "2002-09-17",
          "2002-10-16",
          "2003-01-07",
          "2003-01-28",
          "2003-02-01",
          "2003-03-17",
          "2003-03-19",
          "2003-04-10",
          "2003-05-01",
          "2003-05-22",
          "2003-05-28",
          "2003-07-22",
          "2003-10-02",
          "2003-11-05",
          "2003-12-08",
          "2004-01-20",
          "2004-03-08",
          "2004-05-17",
          "2004-09-02",
          "2004-10-29",
          "2004-11-04",
          "2004-11-15",
          "2005-01-20",
          "2005-01-28",
          "2005-02-02",
          "2005-02-14",
          "2005-03-21",
          "2005-03-31",
          "2005-06-10",
          "2005-06-21",
          "2005-07-26",
          "2005-08-08",
          "2005-08-28",
          "2005-09-29",
          "2006-01-24",
          "2006-01-31",
          "2006-03-09",
          "2006-03-31",
          "2006-05-03",
          "2006-07-19",
          "2006-10-26",
          "2006-12-30",
          "2007-01-11",
          "2007-01-23",
          "2007-03-06",
          "2007-04-16",
          "2007-05-01",
          "2007-07-26",
          "2007-09-17",
          "2007-11-27",
          "2007-12-19",
          "2008-01-18",
          "2008-01-28",
          "2008-02-13",
          "2008-05-21",
          "2008-05-22",
          "2008-06-03",
          "2008-09-04",
          "2008-09-07",
          "2008-10-01",
          "2008-10-03",
          "2008-12-19"
         ],
         "legendgroup": "gwb",
         "marker": {
          "color": "rgb(17, 165, 121)",
          "symbol": "circle"
         },
         "mode": "markers",
         "name": "gwb",
         "orientation": "v",
         "showlegend": true,
         "type": "scatter",
         "x": [
          -4.081462150312614,
          -5.7526814047183645,
          -2.0359658875767317,
          4.558073715463441,
          -2.5151616215693484,
          -2.679945892324733,
          8.738623440489915,
          -1.8766556067124522,
          -3.0570308587832113,
          -0.34398527672284096,
          -4.69545549379941,
          1.9056965050209222,
          1.5900614150822063,
          8.47108201615011,
          -5.512158423186492,
          -1.6992193593317841,
          -0.6055110316260283,
          2.2174265964172295,
          1.0863171655261148,
          -0.4410345337363699,
          2.1358649688776166,
          -0.04208028697553776,
          -3.990747861816165,
          2.1443300058454287,
          -3.011449794290061,
          -1.1631592942067492,
          31.205622122337978,
          -2.9363684428287966,
          -1.8939497526458142,
          -2.737229364533035,
          -1.1299217628621152,
          7.488633591741835,
          -1.7411071645285694,
          1.4792679323050806,
          1.4792679323050806,
          -5.079626060519293,
          11.140841002539078,
          -1.0794181063046273,
          4.112135433035736,
          -3.3145896276827926,
          -2.475497435437059,
          -4.522727379674772,
          -4.059192419324464,
          0.8051613039683883,
          -0.5362862340905671,
          -2.6646228968973973,
          -3.7030904746636697,
          -0.7109600868655501,
          2.5684634334595047,
          0.5785245585335657,
          -2.4481873015033253,
          0.7268717367823319,
          -1.1258176272747253,
          27.638279169248715,
          0.6832801015477068,
          -0.8608393182322978,
          -0.34131693388609086,
          0.37281629729642524,
          8.727988484974187,
          0.15800920234326093,
          13.371399031675846,
          2.9153922692677443,
          -3.392412436499941,
          2.140439997983835,
          0.13808085900922343,
          -1.2644940593086826,
          -1.5653544626059346,
          -1.710825763558496,
          -0.7378627469548531,
          3.858091255927336,
          -1.2306963259729993,
          2.0547855905892827,
          -2.2540135536890706,
          0.6012766947209071,
          -1.4189169658459795,
          -2.352139371131106,
          0.017392098974907032,
          4.158521377403959,
          -1.5221587832141648,
          -6.484540591439558,
          9.384974452097499,
          6.020109890403175,
          11.926686188605736,
          4.627407472813227
         ],
         "xaxis": "x",
         "y": [
          -1.3620181953954393,
          -0.3209193974994708,
          0.07820383126289733,
          -7.253238852276328,
          -1.4929399140767246,
          2.4440671892403794,
          -3.7848690352381342,
          -0.9107597885108236,
          -0.5690418322584758,
          0.9231471759200917,
          -0.12164483967155933,
          -6.56597500684438,
          -2.3731286634715087,
          -10.60045495378116,
          1.8907903244175348,
          -1.1471414041271235,
          -0.21723414720421136,
          -0.3506148791134997,
          -2.8721183466170963,
          -2.843575949824805,
          4.51637418794776,
          -1.5994559975285034,
          3.3342495634235765,
          4.0822291337000465,
          -1.7237659380905197,
          -1.4690527895632803,
          19.605541110007504,
          -1.5617390962853288,
          -1.2886189340931467,
          -1.7646560619388691,
          0.9264782991998255,
          -6.70488528898072,
          -1.4248492267494874,
          -4.968075473033009,
          -4.968075473033009,
          0.15000106017654444,
          -0.92509236639356,
          -1.9790023867159114,
          -9.067543964423239,
          -0.25120328833096944,
          0.17001439951401928,
          1.8061613673547077,
          0.020463580901835293,
          -1.914799623443202,
          -2.1320213285388006,
          -1.036246460943844,
          1.2951698464999888,
          -2.6070118364064556,
          -4.075884792281827,
          -2.294440221878385,
          -0.5894718073852969,
          0.5340510200637465,
          -5.108280414111252,
          -2.5105918220764196,
          -3.8158300125923827,
          -0.8211991568707212,
          -0.3293725218074185,
          -2.8070729053427024,
          7.4038406491162165,
          -5.2673901051137415,
          -0.9609149681345306,
          -2.684244353977013,
          -0.9797434238808248,
          -4.381440095923847,
          -2.5999341627939976,
          -2.073617389154321,
          -0.7949255899449732,
          1.7422741731365887,
          -2.6445337831831828,
          -8.233289479498,
          -1.1922208632967244,
          0.5328445061745682,
          -1.707007845823308,
          -3.479198923958134,
          -2.5234338738522375,
          0.4227858646248593,
          -1.9850601621448143,
          -4.267515223481567,
          2.0789974163888756,
          2.4046223526801613,
          -7.840315848134327,
          -3.2476981549672552,
          0.4426262555834053,
          -3.3458868091781824
         ],
         "yaxis": "y"
        }
       ],
       "layout": {
        "legend": {
         "title": {
          "text": "color"
         },
         "tracegroupgap": 0
        },
        "margin": {
         "t": 60
        },
        "template": {
         "data": {
          "bar": [
           {
            "error_x": {
             "color": "#2a3f5f"
            },
            "error_y": {
             "color": "#2a3f5f"
            },
            "marker": {
             "line": {
              "color": "#E5ECF6",
              "width": 0.5
             },
             "pattern": {
              "fillmode": "overlay",
              "size": 10,
              "solidity": 0.2
             }
            },
            "type": "bar"
           }
          ],
          "barpolar": [
           {
            "marker": {
             "line": {
              "color": "#E5ECF6",
              "width": 0.5
             },
             "pattern": {
              "fillmode": "overlay",
              "size": 10,
              "solidity": 0.2
             }
            },
            "type": "barpolar"
           }
          ],
          "carpet": [
           {
            "aaxis": {
             "endlinecolor": "#2a3f5f",
             "gridcolor": "white",
             "linecolor": "white",
             "minorgridcolor": "white",
             "startlinecolor": "#2a3f5f"
            },
            "baxis": {
             "endlinecolor": "#2a3f5f",
             "gridcolor": "white",
             "linecolor": "white",
             "minorgridcolor": "white",
             "startlinecolor": "#2a3f5f"
            },
            "type": "carpet"
           }
          ],
          "choropleth": [
           {
            "colorbar": {
             "outlinewidth": 0,
             "ticks": ""
            },
            "type": "choropleth"
           }
          ],
          "contour": [
           {
            "colorbar": {
             "outlinewidth": 0,
             "ticks": ""
            },
            "colorscale": [
             [
              0,
              "#0d0887"
             ],
             [
              0.1111111111111111,
              "#46039f"
             ],
             [
              0.2222222222222222,
              "#7201a8"
             ],
             [
              0.3333333333333333,
              "#9c179e"
             ],
             [
              0.4444444444444444,
              "#bd3786"
             ],
             [
              0.5555555555555556,
              "#d8576b"
             ],
             [
              0.6666666666666666,
              "#ed7953"
             ],
             [
              0.7777777777777778,
              "#fb9f3a"
             ],
             [
              0.8888888888888888,
              "#fdca26"
             ],
             [
              1,
              "#f0f921"
             ]
            ],
            "type": "contour"
           }
          ],
          "contourcarpet": [
           {
            "colorbar": {
             "outlinewidth": 0,
             "ticks": ""
            },
            "type": "contourcarpet"
           }
          ],
          "heatmap": [
           {
            "colorbar": {
             "outlinewidth": 0,
             "ticks": ""
            },
            "colorscale": [
             [
              0,
              "#0d0887"
             ],
             [
              0.1111111111111111,
              "#46039f"
             ],
             [
              0.2222222222222222,
              "#7201a8"
             ],
             [
              0.3333333333333333,
              "#9c179e"
             ],
             [
              0.4444444444444444,
              "#bd3786"
             ],
             [
              0.5555555555555556,
              "#d8576b"
             ],
             [
              0.6666666666666666,
              "#ed7953"
             ],
             [
              0.7777777777777778,
              "#fb9f3a"
             ],
             [
              0.8888888888888888,
              "#fdca26"
             ],
             [
              1,
              "#f0f921"
             ]
            ],
            "type": "heatmap"
           }
          ],
          "heatmapgl": [
           {
            "colorbar": {
             "outlinewidth": 0,
             "ticks": ""
            },
            "colorscale": [
             [
              0,
              "#0d0887"
             ],
             [
              0.1111111111111111,
              "#46039f"
             ],
             [
              0.2222222222222222,
              "#7201a8"
             ],
             [
              0.3333333333333333,
              "#9c179e"
             ],
             [
              0.4444444444444444,
              "#bd3786"
             ],
             [
              0.5555555555555556,
              "#d8576b"
             ],
             [
              0.6666666666666666,
              "#ed7953"
             ],
             [
              0.7777777777777778,
              "#fb9f3a"
             ],
             [
              0.8888888888888888,
              "#fdca26"
             ],
             [
              1,
              "#f0f921"
             ]
            ],
            "type": "heatmapgl"
           }
          ],
          "histogram": [
           {
            "marker": {
             "pattern": {
              "fillmode": "overlay",
              "size": 10,
              "solidity": 0.2
             }
            },
            "type": "histogram"
           }
          ],
          "histogram2d": [
           {
            "colorbar": {
             "outlinewidth": 0,
             "ticks": ""
            },
            "colorscale": [
             [
              0,
              "#0d0887"
             ],
             [
              0.1111111111111111,
              "#46039f"
             ],
             [
              0.2222222222222222,
              "#7201a8"
             ],
             [
              0.3333333333333333,
              "#9c179e"
             ],
             [
              0.4444444444444444,
              "#bd3786"
             ],
             [
              0.5555555555555556,
              "#d8576b"
             ],
             [
              0.6666666666666666,
              "#ed7953"
             ],
             [
              0.7777777777777778,
              "#fb9f3a"
             ],
             [
              0.8888888888888888,
              "#fdca26"
             ],
             [
              1,
              "#f0f921"
             ]
            ],
            "type": "histogram2d"
           }
          ],
          "histogram2dcontour": [
           {
            "colorbar": {
             "outlinewidth": 0,
             "ticks": ""
            },
            "colorscale": [
             [
              0,
              "#0d0887"
             ],
             [
              0.1111111111111111,
              "#46039f"
             ],
             [
              0.2222222222222222,
              "#7201a8"
             ],
             [
              0.3333333333333333,
              "#9c179e"
             ],
             [
              0.4444444444444444,
              "#bd3786"
             ],
             [
              0.5555555555555556,
              "#d8576b"
             ],
             [
              0.6666666666666666,
              "#ed7953"
             ],
             [
              0.7777777777777778,
              "#fb9f3a"
             ],
             [
              0.8888888888888888,
              "#fdca26"
             ],
             [
              1,
              "#f0f921"
             ]
            ],
            "type": "histogram2dcontour"
           }
          ],
          "mesh3d": [
           {
            "colorbar": {
             "outlinewidth": 0,
             "ticks": ""
            },
            "type": "mesh3d"
           }
          ],
          "parcoords": [
           {
            "line": {
             "colorbar": {
              "outlinewidth": 0,
              "ticks": ""
             }
            },
            "type": "parcoords"
           }
          ],
          "pie": [
           {
            "automargin": true,
            "type": "pie"
           }
          ],
          "scatter": [
           {
            "fillpattern": {
             "fillmode": "overlay",
             "size": 10,
             "solidity": 0.2
            },
            "type": "scatter"
           }
          ],
          "scatter3d": [
           {
            "line": {
             "colorbar": {
              "outlinewidth": 0,
              "ticks": ""
             }
            },
            "marker": {
             "colorbar": {
              "outlinewidth": 0,
              "ticks": ""
             }
            },
            "type": "scatter3d"
           }
          ],
          "scattercarpet": [
           {
            "marker": {
             "colorbar": {
              "outlinewidth": 0,
              "ticks": ""
             }
            },
            "type": "scattercarpet"
           }
          ],
          "scattergeo": [
           {
            "marker": {
             "colorbar": {
              "outlinewidth": 0,
              "ticks": ""
             }
            },
            "type": "scattergeo"
           }
          ],
          "scattergl": [
           {
            "marker": {
             "colorbar": {
              "outlinewidth": 0,
              "ticks": ""
             }
            },
            "type": "scattergl"
           }
          ],
          "scattermapbox": [
           {
            "marker": {
             "colorbar": {
              "outlinewidth": 0,
              "ticks": ""
             }
            },
            "type": "scattermapbox"
           }
          ],
          "scatterpolar": [
           {
            "marker": {
             "colorbar": {
              "outlinewidth": 0,
              "ticks": ""
             }
            },
            "type": "scatterpolar"
           }
          ],
          "scatterpolargl": [
           {
            "marker": {
             "colorbar": {
              "outlinewidth": 0,
              "ticks": ""
             }
            },
            "type": "scatterpolargl"
           }
          ],
          "scatterternary": [
           {
            "marker": {
             "colorbar": {
              "outlinewidth": 0,
              "ticks": ""
             }
            },
            "type": "scatterternary"
           }
          ],
          "surface": [
           {
            "colorbar": {
             "outlinewidth": 0,
             "ticks": ""
            },
            "colorscale": [
             [
              0,
              "#0d0887"
             ],
             [
              0.1111111111111111,
              "#46039f"
             ],
             [
              0.2222222222222222,
              "#7201a8"
             ],
             [
              0.3333333333333333,
              "#9c179e"
             ],
             [
              0.4444444444444444,
              "#bd3786"
             ],
             [
              0.5555555555555556,
              "#d8576b"
             ],
             [
              0.6666666666666666,
              "#ed7953"
             ],
             [
              0.7777777777777778,
              "#fb9f3a"
             ],
             [
              0.8888888888888888,
              "#fdca26"
             ],
             [
              1,
              "#f0f921"
             ]
            ],
            "type": "surface"
           }
          ],
          "table": [
           {
            "cells": {
             "fill": {
              "color": "#EBF0F8"
             },
             "line": {
              "color": "white"
             }
            },
            "header": {
             "fill": {
              "color": "#C8D4E3"
             },
             "line": {
              "color": "white"
             }
            },
            "type": "table"
           }
          ]
         },
         "layout": {
          "annotationdefaults": {
           "arrowcolor": "#2a3f5f",
           "arrowhead": 0,
           "arrowwidth": 1
          },
          "autotypenumbers": "strict",
          "coloraxis": {
           "colorbar": {
            "outlinewidth": 0,
            "ticks": ""
           }
          },
          "colorscale": {
           "diverging": [
            [
             0,
             "#8e0152"
            ],
            [
             0.1,
             "#c51b7d"
            ],
            [
             0.2,
             "#de77ae"
            ],
            [
             0.3,
             "#f1b6da"
            ],
            [
             0.4,
             "#fde0ef"
            ],
            [
             0.5,
             "#f7f7f7"
            ],
            [
             0.6,
             "#e6f5d0"
            ],
            [
             0.7,
             "#b8e186"
            ],
            [
             0.8,
             "#7fbc41"
            ],
            [
             0.9,
             "#4d9221"
            ],
            [
             1,
             "#276419"
            ]
           ],
           "sequential": [
            [
             0,
             "#0d0887"
            ],
            [
             0.1111111111111111,
             "#46039f"
            ],
            [
             0.2222222222222222,
             "#7201a8"
            ],
            [
             0.3333333333333333,
             "#9c179e"
            ],
            [
             0.4444444444444444,
             "#bd3786"
            ],
            [
             0.5555555555555556,
             "#d8576b"
            ],
            [
             0.6666666666666666,
             "#ed7953"
            ],
            [
             0.7777777777777778,
             "#fb9f3a"
            ],
            [
             0.8888888888888888,
             "#fdca26"
            ],
            [
             1,
             "#f0f921"
            ]
           ],
           "sequentialminus": [
            [
             0,
             "#0d0887"
            ],
            [
             0.1111111111111111,
             "#46039f"
            ],
            [
             0.2222222222222222,
             "#7201a8"
            ],
            [
             0.3333333333333333,
             "#9c179e"
            ],
            [
             0.4444444444444444,
             "#bd3786"
            ],
            [
             0.5555555555555556,
             "#d8576b"
            ],
            [
             0.6666666666666666,
             "#ed7953"
            ],
            [
             0.7777777777777778,
             "#fb9f3a"
            ],
            [
             0.8888888888888888,
             "#fdca26"
            ],
            [
             1,
             "#f0f921"
            ]
           ]
          },
          "colorway": [
           "#636efa",
           "#EF553B",
           "#00cc96",
           "#ab63fa",
           "#FFA15A",
           "#19d3f3",
           "#FF6692",
           "#B6E880",
           "#FF97FF",
           "#FECB52"
          ],
          "font": {
           "color": "#2a3f5f"
          },
          "geo": {
           "bgcolor": "white",
           "lakecolor": "white",
           "landcolor": "#E5ECF6",
           "showlakes": true,
           "showland": true,
           "subunitcolor": "white"
          },
          "hoverlabel": {
           "align": "left"
          },
          "hovermode": "closest",
          "mapbox": {
           "style": "light"
          },
          "paper_bgcolor": "white",
          "plot_bgcolor": "#E5ECF6",
          "polar": {
           "angularaxis": {
            "gridcolor": "white",
            "linecolor": "white",
            "ticks": ""
           },
           "bgcolor": "#E5ECF6",
           "radialaxis": {
            "gridcolor": "white",
            "linecolor": "white",
            "ticks": ""
           }
          },
          "scene": {
           "xaxis": {
            "backgroundcolor": "#E5ECF6",
            "gridcolor": "white",
            "gridwidth": 2,
            "linecolor": "white",
            "showbackground": true,
            "ticks": "",
            "zerolinecolor": "white"
           },
           "yaxis": {
            "backgroundcolor": "#E5ECF6",
            "gridcolor": "white",
            "gridwidth": 2,
            "linecolor": "white",
            "showbackground": true,
            "ticks": "",
            "zerolinecolor": "white"
           },
           "zaxis": {
            "backgroundcolor": "#E5ECF6",
            "gridcolor": "white",
            "gridwidth": 2,
            "linecolor": "white",
            "showbackground": true,
            "ticks": "",
            "zerolinecolor": "white"
           }
          },
          "shapedefaults": {
           "line": {
            "color": "#2a3f5f"
           }
          },
          "ternary": {
           "aaxis": {
            "gridcolor": "white",
            "linecolor": "white",
            "ticks": ""
           },
           "baxis": {
            "gridcolor": "white",
            "linecolor": "white",
            "ticks": ""
           },
           "bgcolor": "#E5ECF6",
           "caxis": {
            "gridcolor": "white",
            "linecolor": "white",
            "ticks": ""
           }
          },
          "title": {
           "x": 0.05
          },
          "xaxis": {
           "automargin": true,
           "gridcolor": "white",
           "linecolor": "white",
           "ticks": "",
           "title": {
            "standoff": 15
           },
           "zerolinecolor": "white",
           "zerolinewidth": 2
          },
          "yaxis": {
           "automargin": true,
           "gridcolor": "white",
           "linecolor": "white",
           "ticks": "",
           "title": {
            "standoff": 15
           },
           "zerolinecolor": "white",
           "zerolinewidth": 2
          }
         }
        },
        "xaxis": {
         "anchor": "y",
         "domain": [
          0,
          1
         ],
         "title": {
          "text": "0"
         }
        },
        "yaxis": {
         "anchor": "x",
         "domain": [
          0,
          1
         ],
         "title": {
          "text": "1"
         }
        }
       }
      },
      "text/html": [
       "<div>                            <div id=\"66101cd1-f5fe-4da2-8ba1-bbe0d99a4631\" class=\"plotly-graph-div\" style=\"height:525px; width:100%;\"></div>            <script type=\"text/javascript\">                require([\"plotly\"], function(Plotly) {                    window.PLOTLYENV=window.PLOTLYENV || {};                                    if (document.getElementById(\"66101cd1-f5fe-4da2-8ba1-bbe0d99a4631\")) {                    Plotly.newPlot(                        \"66101cd1-f5fe-4da2-8ba1-bbe0d99a4631\",                        [{\"hovertemplate\":\"<b>%{hovertext}</b><br><br>color=oba<br>0=%{x}<br>1=%{y}<extra></extra>\",\"hovertext\":[\"2004-07-28\",\"2008-06-04\",\"2008-11-05\",\"2009-01-05\",\"2009-01-20\",\"2009-04-02\",\"2009-04-15\",\"2009-05-22\",\"2009-06-15\",\"2009-07-15\",\"2009-09-24\",\"2009-10-09\",\"2009-11-05\",\"2009-12-19\",\"2009-12-25\",\"2010-01-12\",\"2010-03-04\",\"2010-03-24\",\"2010-04-15\",\"2010-04-22\",\"2010-05-07\",\"2010-07-15\",\"2010-07-21\",\"2010-07-26\",\"2010-08-31\",\"2010-11-02\",\"2011-01-08\",\"2011-01-26\",\"2011-01-31\",\"2011-02-19\",\"2011-05-02\",\"2011-05-23\",\"2011-06-23\",\"2011-07-26\",\"2011-09-09\",\"2011-10-17\",\"2011-11-17\",\"2011-12-16\",\"2012-01-06\",\"2012-01-25\",\"2012-03-27\",\"2012-03-31\",\"2012-04-29\",\"2012-05-02\",\"2012-05-10\",\"2012-06-29\",\"2012-07-21\",\"2012-09-07\",\"2012-10-29\",\"2012-11-07\",\"2012-12-15\",\"2013-01-16\",\"2013-01-22\",\"2013-01-30\",\"2013-02-13\",\"2013-04-16\",\"2013-04-26\",\"2013-05-04\",\"2013-06-19\",\"2013-07-14\",\"2013-08-29\",\"2013-09-11\",\"2013-10-02\",\"2013-12-06\",\"2014-01-18\",\"2014-01-29\",\"2014-03-07\",\"2014-03-26\",\"2014-04-11\",\"2014-05-21\",\"2014-07-01\",\"2014-08-08\",\"2014-08-12\",\"2014-09-17\",\"2014-10-18\",\"2014-11-05\",\"2014-12-18\",\"2015-01-08\",\"2015-01-21\",\"2015-02-14\",\"2015-03-11\",\"2015-04-03\",\"2015-05-09\",\"2015-06-18\",\"2015-07-07\",\"2015-08-03\",\"2015-09-24\",\"2015-10-02\",\"2015-11-14\",\"2015-12-14\",\"2016-01-13\",\"2016-02-16\",\"2016-03-23\",\"2016-04-25\",\"2016-05-06\",\"2016-06-13\",\"2016-07-28\",\"2016-08-17\",\"2016-09-05\",\"2016-11-09\",\"2017-01-11\"],\"legendgroup\":\"oba\",\"marker\":{\"color\":\"rgb(127, 60, 141)\",\"symbol\":\"circle\"},\"mode\":\"markers\",\"name\":\"oba\",\"orientation\":\"v\",\"showlegend\":true,\"x\":[-0.07448205395390124,3.3643108379007223,-2.5078752151601886,0.2589339271290922,-0.193755788563686,-0.5956845523477297,1.969042821903559,0.18413377773955988,-2.2359790497441483,-2.4422433650317665,0.36927665346676486,-0.6787719623769771,-2.3224305210263476,-1.0196652114669413,0.25548099435089733,0.5078748032545911,-0.9675389896038188,-4.148690501359112,0.0975997792775538,1.8345578397369688,-1.0264783450224004,-1.0820843755373912,-2.073628363167443,1.0991409018480214,-0.8657162519769452,-1.077023044541647,-1.7982736224907185,-2.5681365319280056,-2.100750745215032,-2.8947108278018683,-1.699246963941732,-5.644162026285151,-0.5926596954648581,-0.7483304327137691,-3.0909294027157155,3.0838729208827687,0.3958862677386217,-1.8192261538399859,0.7910824797755227,-2.7317071748903206,-0.6857564674117669,-4.020786461523775,-5.987364307417289,-3.4223319919788446,-1.0381092332271173,-1.6799317940992602,-4.104905715949496,-1.1195079485619142,-1.46818407676038,-2.5611309321936524,-0.7402718869767544,-1.9836420112177968,0.6656369972580656,-4.754301808919386,-0.8571643811537392,-2.6042230412511898,-0.43848905902255525,0.130362978405025,-0.9047652991374533,0.8616640034582452,2.769866830456037,0.2632081621713589,-3.9656934867947373,0.1956557267678139,6.4853338952808235,-0.5720474706244452,4.8843142153611785,1.5898685827363157,-0.5589511341450786,-1.7528589608300515,-2.2810883246527807,0.5631458598248522,2.874439104049275,-2.0774256815304355,-0.0771051504073401,-3.3503222610905814,1.221982142435611,-0.14036874055805215,-1.8139054645704396,1.237678338831526,-2.8080051884428814,1.1973830551477513,-5.6886479917659205,-1.7391401960498256,-0.5233072394502662,-2.312807122317367,2.5936864983743315,-2.0787927494053093,-2.5845145113338783,1.0233723367243754,-1.9890072049195973,-1.5406161639255587,19.33447141681126,-0.17514092724204391,-5.322523414560422,-3.0875027831959976,-3.644411692762591,-1.9981584112724613,0.2150992089438081,-5.544161628937155,0.2498610446129977],\"xaxis\":\"x\",\"y\":[6.519039014118074,3.742488702587069,3.850272995031479,1.4145425842711221,1.9421547434388267,-0.4276991708668322,2.5171225951467413,-0.7532194018674824,-1.5514115682388858,1.4050126735615716,-0.797138742915949,-0.4910217746267109,0.6648074576323755,3.9571551049587503,-2.55210432598379,-2.2008007735317605,2.1118922318650806,4.810522245132961,0.40132176442918144,-1.9061031989638713,0.22560967189202957,-0.2807930593721865,-0.4560397187906767,0.1606182874047962,-1.5442927603076673,2.059505821448246,1.9976162772782002,0.07382367398458313,-0.7687222611290262,1.9480767210064986,0.2670193751897291,3.1291000981921666,-0.554246704332132,1.9252957260540877,0.9885506206429496,3.74369203044196,-1.1605309292880395,-1.2594520552703052,0.024536174587165293,0.7617336951831823,-0.6433941057094887,2.7371977566816508,3.5194992771442593,-1.0625347126885178,3.677304117799315,0.9604011673695299,3.216044534418558,4.066662930801818,2.235222058290301,5.248375446596494,0.5836660732614752,3.292335166902707,-0.13671580123415059,2.5878296510733914,1.2146742748360106,1.7137181133787742,2.584698796340374,-0.5923022338320699,2.434144884796963,1.6359022624289592,4.696932384195518,-0.25693976930097034,1.6422205089598247,-1.538574442630172,-2.7968188609089593,0.607939040719327,-1.890974053213299,-0.4473313819634526,3.942826449754471,1.9903857220924528,0.9034517006549724,-0.7135395422615827,-1.204892963712742,0.7516599702836971,1.8419721169515018,1.3771319100593618,-2.0486573351838895,-8.152757633187402,1.9914774526123096,1.8300224395382427,2.8687040260730496,1.3788156023121192,2.5959003729687606,0.827999244730388,-0.7165122512915785,2.2845708388381474,0.13657650840003904,2.7104153302786034,0.6242339969062912,-0.04989830365738831,1.4684574090916922,-1.9042613426210773,7.196931233883992,1.6469691664692745,3.8588149700346013,-0.07006932123601732,3.81822006927286,2.352317940479522,-0.3815161900859971,4.7108796752850015,4.833605955613469],\"yaxis\":\"y\",\"type\":\"scatter\"},{\"hovertemplate\":\"<b>%{hovertext}</b><br><br>color=gwb<br>0=%{x}<br>1=%{y}<extra></extra>\",\"hovertext\":[\"2001-01-20\",\"2001-01-22\",\"2001-01-29\",\"2001-02-16\",\"2001-03-29\",\"2001-06-07\",\"2001-08-09\",\"2001-09-11\",\"2001-09-20\",\"2001-10-07\",\"2001-10-17\",\"2001-11-10\",\"2001-12-13\",\"2001-12-27\",\"2002-01-08\",\"2002-01-29\",\"2002-05-20\",\"2002-06-06\",\"2002-06-24\",\"2002-07-09\",\"2002-09-04\",\"2002-09-12\",\"2002-09-17\",\"2002-10-16\",\"2003-01-07\",\"2003-01-28\",\"2003-02-01\",\"2003-03-17\",\"2003-03-19\",\"2003-04-10\",\"2003-05-01\",\"2003-05-22\",\"2003-05-28\",\"2003-07-22\",\"2003-10-02\",\"2003-11-05\",\"2003-12-08\",\"2004-01-20\",\"2004-03-08\",\"2004-05-17\",\"2004-09-02\",\"2004-10-29\",\"2004-11-04\",\"2004-11-15\",\"2005-01-20\",\"2005-01-28\",\"2005-02-02\",\"2005-02-14\",\"2005-03-21\",\"2005-03-31\",\"2005-06-10\",\"2005-06-21\",\"2005-07-26\",\"2005-08-08\",\"2005-08-28\",\"2005-09-29\",\"2006-01-24\",\"2006-01-31\",\"2006-03-09\",\"2006-03-31\",\"2006-05-03\",\"2006-07-19\",\"2006-10-26\",\"2006-12-30\",\"2007-01-11\",\"2007-01-23\",\"2007-03-06\",\"2007-04-16\",\"2007-05-01\",\"2007-07-26\",\"2007-09-17\",\"2007-11-27\",\"2007-12-19\",\"2008-01-18\",\"2008-01-28\",\"2008-02-13\",\"2008-05-21\",\"2008-05-22\",\"2008-06-03\",\"2008-09-04\",\"2008-09-07\",\"2008-10-01\",\"2008-10-03\",\"2008-12-19\"],\"legendgroup\":\"gwb\",\"marker\":{\"color\":\"rgb(17, 165, 121)\",\"symbol\":\"circle\"},\"mode\":\"markers\",\"name\":\"gwb\",\"orientation\":\"v\",\"showlegend\":true,\"x\":[-4.081462150312614,-5.7526814047183645,-2.0359658875767317,4.558073715463441,-2.5151616215693484,-2.679945892324733,8.738623440489915,-1.8766556067124522,-3.0570308587832113,-0.34398527672284096,-4.69545549379941,1.9056965050209222,1.5900614150822063,8.47108201615011,-5.512158423186492,-1.6992193593317841,-0.6055110316260283,2.2174265964172295,1.0863171655261148,-0.4410345337363699,2.1358649688776166,-0.04208028697553776,-3.990747861816165,2.1443300058454287,-3.011449794290061,-1.1631592942067492,31.205622122337978,-2.9363684428287966,-1.8939497526458142,-2.737229364533035,-1.1299217628621152,7.488633591741835,-1.7411071645285694,1.4792679323050806,1.4792679323050806,-5.079626060519293,11.140841002539078,-1.0794181063046273,4.112135433035736,-3.3145896276827926,-2.475497435437059,-4.522727379674772,-4.059192419324464,0.8051613039683883,-0.5362862340905671,-2.6646228968973973,-3.7030904746636697,-0.7109600868655501,2.5684634334595047,0.5785245585335657,-2.4481873015033253,0.7268717367823319,-1.1258176272747253,27.638279169248715,0.6832801015477068,-0.8608393182322978,-0.34131693388609086,0.37281629729642524,8.727988484974187,0.15800920234326093,13.371399031675846,2.9153922692677443,-3.392412436499941,2.140439997983835,0.13808085900922343,-1.2644940593086826,-1.5653544626059346,-1.710825763558496,-0.7378627469548531,3.858091255927336,-1.2306963259729993,2.0547855905892827,-2.2540135536890706,0.6012766947209071,-1.4189169658459795,-2.352139371131106,0.017392098974907032,4.158521377403959,-1.5221587832141648,-6.484540591439558,9.384974452097499,6.020109890403175,11.926686188605736,4.627407472813227],\"xaxis\":\"x\",\"y\":[-1.3620181953954393,-0.3209193974994708,0.07820383126289733,-7.253238852276328,-1.4929399140767246,2.4440671892403794,-3.7848690352381342,-0.9107597885108236,-0.5690418322584758,0.9231471759200917,-0.12164483967155933,-6.56597500684438,-2.3731286634715087,-10.60045495378116,1.8907903244175348,-1.1471414041271235,-0.21723414720421136,-0.3506148791134997,-2.8721183466170963,-2.843575949824805,4.51637418794776,-1.5994559975285034,3.3342495634235765,4.0822291337000465,-1.7237659380905197,-1.4690527895632803,19.605541110007504,-1.5617390962853288,-1.2886189340931467,-1.7646560619388691,0.9264782991998255,-6.70488528898072,-1.4248492267494874,-4.968075473033009,-4.968075473033009,0.15000106017654444,-0.92509236639356,-1.9790023867159114,-9.067543964423239,-0.25120328833096944,0.17001439951401928,1.8061613673547077,0.020463580901835293,-1.914799623443202,-2.1320213285388006,-1.036246460943844,1.2951698464999888,-2.6070118364064556,-4.075884792281827,-2.294440221878385,-0.5894718073852969,0.5340510200637465,-5.108280414111252,-2.5105918220764196,-3.8158300125923827,-0.8211991568707212,-0.3293725218074185,-2.8070729053427024,7.4038406491162165,-5.2673901051137415,-0.9609149681345306,-2.684244353977013,-0.9797434238808248,-4.381440095923847,-2.5999341627939976,-2.073617389154321,-0.7949255899449732,1.7422741731365887,-2.6445337831831828,-8.233289479498,-1.1922208632967244,0.5328445061745682,-1.707007845823308,-3.479198923958134,-2.5234338738522375,0.4227858646248593,-1.9850601621448143,-4.267515223481567,2.0789974163888756,2.4046223526801613,-7.840315848134327,-3.2476981549672552,0.4426262555834053,-3.3458868091781824],\"yaxis\":\"y\",\"type\":\"scatter\"}],                        {\"template\":{\"data\":{\"histogram2dcontour\":[{\"type\":\"histogram2dcontour\",\"colorbar\":{\"outlinewidth\":0,\"ticks\":\"\"},\"colorscale\":[[0.0,\"#0d0887\"],[0.1111111111111111,\"#46039f\"],[0.2222222222222222,\"#7201a8\"],[0.3333333333333333,\"#9c179e\"],[0.4444444444444444,\"#bd3786\"],[0.5555555555555556,\"#d8576b\"],[0.6666666666666666,\"#ed7953\"],[0.7777777777777778,\"#fb9f3a\"],[0.8888888888888888,\"#fdca26\"],[1.0,\"#f0f921\"]]}],\"choropleth\":[{\"type\":\"choropleth\",\"colorbar\":{\"outlinewidth\":0,\"ticks\":\"\"}}],\"histogram2d\":[{\"type\":\"histogram2d\",\"colorbar\":{\"outlinewidth\":0,\"ticks\":\"\"},\"colorscale\":[[0.0,\"#0d0887\"],[0.1111111111111111,\"#46039f\"],[0.2222222222222222,\"#7201a8\"],[0.3333333333333333,\"#9c179e\"],[0.4444444444444444,\"#bd3786\"],[0.5555555555555556,\"#d8576b\"],[0.6666666666666666,\"#ed7953\"],[0.7777777777777778,\"#fb9f3a\"],[0.8888888888888888,\"#fdca26\"],[1.0,\"#f0f921\"]]}],\"heatmap\":[{\"type\":\"heatmap\",\"colorbar\":{\"outlinewidth\":0,\"ticks\":\"\"},\"colorscale\":[[0.0,\"#0d0887\"],[0.1111111111111111,\"#46039f\"],[0.2222222222222222,\"#7201a8\"],[0.3333333333333333,\"#9c179e\"],[0.4444444444444444,\"#bd3786\"],[0.5555555555555556,\"#d8576b\"],[0.6666666666666666,\"#ed7953\"],[0.7777777777777778,\"#fb9f3a\"],[0.8888888888888888,\"#fdca26\"],[1.0,\"#f0f921\"]]}],\"heatmapgl\":[{\"type\":\"heatmapgl\",\"colorbar\":{\"outlinewidth\":0,\"ticks\":\"\"},\"colorscale\":[[0.0,\"#0d0887\"],[0.1111111111111111,\"#46039f\"],[0.2222222222222222,\"#7201a8\"],[0.3333333333333333,\"#9c179e\"],[0.4444444444444444,\"#bd3786\"],[0.5555555555555556,\"#d8576b\"],[0.6666666666666666,\"#ed7953\"],[0.7777777777777778,\"#fb9f3a\"],[0.8888888888888888,\"#fdca26\"],[1.0,\"#f0f921\"]]}],\"contourcarpet\":[{\"type\":\"contourcarpet\",\"colorbar\":{\"outlinewidth\":0,\"ticks\":\"\"}}],\"contour\":[{\"type\":\"contour\",\"colorbar\":{\"outlinewidth\":0,\"ticks\":\"\"},\"colorscale\":[[0.0,\"#0d0887\"],[0.1111111111111111,\"#46039f\"],[0.2222222222222222,\"#7201a8\"],[0.3333333333333333,\"#9c179e\"],[0.4444444444444444,\"#bd3786\"],[0.5555555555555556,\"#d8576b\"],[0.6666666666666666,\"#ed7953\"],[0.7777777777777778,\"#fb9f3a\"],[0.8888888888888888,\"#fdca26\"],[1.0,\"#f0f921\"]]}],\"surface\":[{\"type\":\"surface\",\"colorbar\":{\"outlinewidth\":0,\"ticks\":\"\"},\"colorscale\":[[0.0,\"#0d0887\"],[0.1111111111111111,\"#46039f\"],[0.2222222222222222,\"#7201a8\"],[0.3333333333333333,\"#9c179e\"],[0.4444444444444444,\"#bd3786\"],[0.5555555555555556,\"#d8576b\"],[0.6666666666666666,\"#ed7953\"],[0.7777777777777778,\"#fb9f3a\"],[0.8888888888888888,\"#fdca26\"],[1.0,\"#f0f921\"]]}],\"mesh3d\":[{\"type\":\"mesh3d\",\"colorbar\":{\"outlinewidth\":0,\"ticks\":\"\"}}],\"scatter\":[{\"fillpattern\":{\"fillmode\":\"overlay\",\"size\":10,\"solidity\":0.2},\"type\":\"scatter\"}],\"parcoords\":[{\"type\":\"parcoords\",\"line\":{\"colorbar\":{\"outlinewidth\":0,\"ticks\":\"\"}}}],\"scatterpolargl\":[{\"type\":\"scatterpolargl\",\"marker\":{\"colorbar\":{\"outlinewidth\":0,\"ticks\":\"\"}}}],\"bar\":[{\"error_x\":{\"color\":\"#2a3f5f\"},\"error_y\":{\"color\":\"#2a3f5f\"},\"marker\":{\"line\":{\"color\":\"#E5ECF6\",\"width\":0.5},\"pattern\":{\"fillmode\":\"overlay\",\"size\":10,\"solidity\":0.2}},\"type\":\"bar\"}],\"scattergeo\":[{\"type\":\"scattergeo\",\"marker\":{\"colorbar\":{\"outlinewidth\":0,\"ticks\":\"\"}}}],\"scatterpolar\":[{\"type\":\"scatterpolar\",\"marker\":{\"colorbar\":{\"outlinewidth\":0,\"ticks\":\"\"}}}],\"histogram\":[{\"marker\":{\"pattern\":{\"fillmode\":\"overlay\",\"size\":10,\"solidity\":0.2}},\"type\":\"histogram\"}],\"scattergl\":[{\"type\":\"scattergl\",\"marker\":{\"colorbar\":{\"outlinewidth\":0,\"ticks\":\"\"}}}],\"scatter3d\":[{\"type\":\"scatter3d\",\"line\":{\"colorbar\":{\"outlinewidth\":0,\"ticks\":\"\"}},\"marker\":{\"colorbar\":{\"outlinewidth\":0,\"ticks\":\"\"}}}],\"scattermapbox\":[{\"type\":\"scattermapbox\",\"marker\":{\"colorbar\":{\"outlinewidth\":0,\"ticks\":\"\"}}}],\"scatterternary\":[{\"type\":\"scatterternary\",\"marker\":{\"colorbar\":{\"outlinewidth\":0,\"ticks\":\"\"}}}],\"scattercarpet\":[{\"type\":\"scattercarpet\",\"marker\":{\"colorbar\":{\"outlinewidth\":0,\"ticks\":\"\"}}}],\"carpet\":[{\"aaxis\":{\"endlinecolor\":\"#2a3f5f\",\"gridcolor\":\"white\",\"linecolor\":\"white\",\"minorgridcolor\":\"white\",\"startlinecolor\":\"#2a3f5f\"},\"baxis\":{\"endlinecolor\":\"#2a3f5f\",\"gridcolor\":\"white\",\"linecolor\":\"white\",\"minorgridcolor\":\"white\",\"startlinecolor\":\"#2a3f5f\"},\"type\":\"carpet\"}],\"table\":[{\"cells\":{\"fill\":{\"color\":\"#EBF0F8\"},\"line\":{\"color\":\"white\"}},\"header\":{\"fill\":{\"color\":\"#C8D4E3\"},\"line\":{\"color\":\"white\"}},\"type\":\"table\"}],\"barpolar\":[{\"marker\":{\"line\":{\"color\":\"#E5ECF6\",\"width\":0.5},\"pattern\":{\"fillmode\":\"overlay\",\"size\":10,\"solidity\":0.2}},\"type\":\"barpolar\"}],\"pie\":[{\"automargin\":true,\"type\":\"pie\"}]},\"layout\":{\"autotypenumbers\":\"strict\",\"colorway\":[\"#636efa\",\"#EF553B\",\"#00cc96\",\"#ab63fa\",\"#FFA15A\",\"#19d3f3\",\"#FF6692\",\"#B6E880\",\"#FF97FF\",\"#FECB52\"],\"font\":{\"color\":\"#2a3f5f\"},\"hovermode\":\"closest\",\"hoverlabel\":{\"align\":\"left\"},\"paper_bgcolor\":\"white\",\"plot_bgcolor\":\"#E5ECF6\",\"polar\":{\"bgcolor\":\"#E5ECF6\",\"angularaxis\":{\"gridcolor\":\"white\",\"linecolor\":\"white\",\"ticks\":\"\"},\"radialaxis\":{\"gridcolor\":\"white\",\"linecolor\":\"white\",\"ticks\":\"\"}},\"ternary\":{\"bgcolor\":\"#E5ECF6\",\"aaxis\":{\"gridcolor\":\"white\",\"linecolor\":\"white\",\"ticks\":\"\"},\"baxis\":{\"gridcolor\":\"white\",\"linecolor\":\"white\",\"ticks\":\"\"},\"caxis\":{\"gridcolor\":\"white\",\"linecolor\":\"white\",\"ticks\":\"\"}},\"coloraxis\":{\"colorbar\":{\"outlinewidth\":0,\"ticks\":\"\"}},\"colorscale\":{\"sequential\":[[0.0,\"#0d0887\"],[0.1111111111111111,\"#46039f\"],[0.2222222222222222,\"#7201a8\"],[0.3333333333333333,\"#9c179e\"],[0.4444444444444444,\"#bd3786\"],[0.5555555555555556,\"#d8576b\"],[0.6666666666666666,\"#ed7953\"],[0.7777777777777778,\"#fb9f3a\"],[0.8888888888888888,\"#fdca26\"],[1.0,\"#f0f921\"]],\"sequentialminus\":[[0.0,\"#0d0887\"],[0.1111111111111111,\"#46039f\"],[0.2222222222222222,\"#7201a8\"],[0.3333333333333333,\"#9c179e\"],[0.4444444444444444,\"#bd3786\"],[0.5555555555555556,\"#d8576b\"],[0.6666666666666666,\"#ed7953\"],[0.7777777777777778,\"#fb9f3a\"],[0.8888888888888888,\"#fdca26\"],[1.0,\"#f0f921\"]],\"diverging\":[[0,\"#8e0152\"],[0.1,\"#c51b7d\"],[0.2,\"#de77ae\"],[0.3,\"#f1b6da\"],[0.4,\"#fde0ef\"],[0.5,\"#f7f7f7\"],[0.6,\"#e6f5d0\"],[0.7,\"#b8e186\"],[0.8,\"#7fbc41\"],[0.9,\"#4d9221\"],[1,\"#276419\"]]},\"xaxis\":{\"gridcolor\":\"white\",\"linecolor\":\"white\",\"ticks\":\"\",\"title\":{\"standoff\":15},\"zerolinecolor\":\"white\",\"automargin\":true,\"zerolinewidth\":2},\"yaxis\":{\"gridcolor\":\"white\",\"linecolor\":\"white\",\"ticks\":\"\",\"title\":{\"standoff\":15},\"zerolinecolor\":\"white\",\"automargin\":true,\"zerolinewidth\":2},\"scene\":{\"xaxis\":{\"backgroundcolor\":\"#E5ECF6\",\"gridcolor\":\"white\",\"linecolor\":\"white\",\"showbackground\":true,\"ticks\":\"\",\"zerolinecolor\":\"white\",\"gridwidth\":2},\"yaxis\":{\"backgroundcolor\":\"#E5ECF6\",\"gridcolor\":\"white\",\"linecolor\":\"white\",\"showbackground\":true,\"ticks\":\"\",\"zerolinecolor\":\"white\",\"gridwidth\":2},\"zaxis\":{\"backgroundcolor\":\"#E5ECF6\",\"gridcolor\":\"white\",\"linecolor\":\"white\",\"showbackground\":true,\"ticks\":\"\",\"zerolinecolor\":\"white\",\"gridwidth\":2}},\"shapedefaults\":{\"line\":{\"color\":\"#2a3f5f\"}},\"annotationdefaults\":{\"arrowcolor\":\"#2a3f5f\",\"arrowhead\":0,\"arrowwidth\":1},\"geo\":{\"bgcolor\":\"white\",\"landcolor\":\"#E5ECF6\",\"subunitcolor\":\"white\",\"showland\":true,\"showlakes\":true,\"lakecolor\":\"white\"},\"title\":{\"x\":0.05},\"mapbox\":{\"style\":\"light\"}}},\"xaxis\":{\"anchor\":\"y\",\"domain\":[0.0,1.0],\"title\":{\"text\":\"0\"}},\"yaxis\":{\"anchor\":\"x\",\"domain\":[0.0,1.0],\"title\":{\"text\":\"1\"}},\"legend\":{\"title\":{\"text\":\"color\"},\"tracegroupgap\":0},\"margin\":{\"t\":60}},                        {\"responsive\": true}                    ).then(function(){\n",
       "                            \n",
       "var gd = document.getElementById('66101cd1-f5fe-4da2-8ba1-bbe0d99a4631');\n",
       "var x = new MutationObserver(function (mutations, observer) {{\n",
       "        var display = window.getComputedStyle(gd).display;\n",
       "        if (!display || display === 'none') {{\n",
       "            console.log([gd, 'removed!']);\n",
       "            Plotly.purge(gd);\n",
       "            observer.disconnect();\n",
       "        }}\n",
       "}});\n",
       "\n",
       "// Listen for the removal of the full notebook cells\n",
       "var notebookContainer = gd.closest('#notebook-container');\n",
       "if (notebookContainer) {{\n",
       "    x.observe(notebookContainer, {childList: true});\n",
       "}}\n",
       "\n",
       "// Listen for the clearing of the current output cell\n",
       "var outputEl = gd.closest('.output');\n",
       "if (outputEl) {{\n",
       "    x.observe(outputEl, {childList: true});\n",
       "}}\n",
       "\n",
       "                        })                };                });            </script>        </div>"
      ]
     },
     "metadata": {},
     "output_type": "display_data"
    }
   ],
   "source": [
    "fig = px.scatter(pcafit, \n",
    "                 x=0, \n",
    "                 y=1, \n",
    "                 color=combined['source'],\n",
    "                 hover_name=combined.index,\n",
    "                 color_discrete_sequence=px.colors.qualitative.Bold)\n",
    "fig.show()"
   ]
  },
  {
   "cell_type": "code",
   "execution_count": 154,
   "id": "ea20ca30",
   "metadata": {},
   "outputs": [
    {
     "data": {
      "text/html": [
       "<div>\n",
       "<style scoped>\n",
       "    .dataframe tbody tr th:only-of-type {\n",
       "        vertical-align: middle;\n",
       "    }\n",
       "\n",
       "    .dataframe tbody tr th {\n",
       "        vertical-align: top;\n",
       "    }\n",
       "\n",
       "    .dataframe thead th {\n",
       "        text-align: right;\n",
       "    }\n",
       "</style>\n",
       "<table border=\"1\" class=\"dataframe\">\n",
       "  <thead>\n",
       "    <tr style=\"text-align: right;\">\n",
       "      <th></th>\n",
       "      <th>PC1</th>\n",
       "      <th>PC2</th>\n",
       "    </tr>\n",
       "  </thead>\n",
       "  <tbody>\n",
       "    <tr>\n",
       "      <th>syl_per_word_std</th>\n",
       "      <td>-2.962698e-02</td>\n",
       "      <td>7.987603e-02</td>\n",
       "    </tr>\n",
       "    <tr>\n",
       "      <th>poly_word_perc_std</th>\n",
       "      <td>-2.860524e-02</td>\n",
       "      <td>7.738785e-02</td>\n",
       "    </tr>\n",
       "    <tr>\n",
       "      <th>gf_word_perc_std</th>\n",
       "      <td>-2.091051e-02</td>\n",
       "      <td>7.448329e-02</td>\n",
       "    </tr>\n",
       "    <tr>\n",
       "      <th>dc_word_perc_std</th>\n",
       "      <td>-1.542182e-02</td>\n",
       "      <td>1.282426e-01</td>\n",
       "    </tr>\n",
       "    <tr>\n",
       "      <th>sent_count</th>\n",
       "      <td>-8.077936e-28</td>\n",
       "      <td>-8.271806e-25</td>\n",
       "    </tr>\n",
       "    <tr>\n",
       "      <th>sent_count_std</th>\n",
       "      <td>0.000000e+00</td>\n",
       "      <td>0.000000e+00</td>\n",
       "    </tr>\n",
       "    <tr>\n",
       "      <th>char_per_word_std</th>\n",
       "      <td>1.237897e-02</td>\n",
       "      <td>8.563348e-02</td>\n",
       "    </tr>\n",
       "    <tr>\n",
       "      <th>coleman_liau_std</th>\n",
       "      <td>3.793453e-02</td>\n",
       "      <td>9.405456e-02</td>\n",
       "    </tr>\n",
       "    <tr>\n",
       "      <th>smog_std</th>\n",
       "      <td>9.717629e-02</td>\n",
       "      <td>2.033337e-01</td>\n",
       "    </tr>\n",
       "    <tr>\n",
       "      <th>depth_std</th>\n",
       "      <td>1.128769e-01</td>\n",
       "      <td>1.210719e-01</td>\n",
       "    </tr>\n",
       "    <tr>\n",
       "      <th>syl_per_word</th>\n",
       "      <td>1.193859e-01</td>\n",
       "      <td>-1.850090e-01</td>\n",
       "    </tr>\n",
       "    <tr>\n",
       "      <th>char_per_word</th>\n",
       "      <td>1.223122e-01</td>\n",
       "      <td>-1.882520e-01</td>\n",
       "    </tr>\n",
       "    <tr>\n",
       "      <th>gf_word_perc</th>\n",
       "      <td>1.224210e-01</td>\n",
       "      <td>-1.668799e-01</td>\n",
       "    </tr>\n",
       "    <tr>\n",
       "      <th>dc_word_perc</th>\n",
       "      <td>1.228999e-01</td>\n",
       "      <td>-1.093088e-01</td>\n",
       "    </tr>\n",
       "    <tr>\n",
       "      <th>poly_word_perc</th>\n",
       "      <td>1.270227e-01</td>\n",
       "      <td>-1.640279e-01</td>\n",
       "    </tr>\n",
       "    <tr>\n",
       "      <th>gunning_fog_std</th>\n",
       "      <td>1.333533e-01</td>\n",
       "      <td>2.291343e-01</td>\n",
       "    </tr>\n",
       "    <tr>\n",
       "      <th>flesch_kincaid_std</th>\n",
       "      <td>1.353458e-01</td>\n",
       "      <td>2.288110e-01</td>\n",
       "    </tr>\n",
       "    <tr>\n",
       "      <th>coleman_liau</th>\n",
       "      <td>1.378701e-01</td>\n",
       "      <td>-1.886488e-01</td>\n",
       "    </tr>\n",
       "    <tr>\n",
       "      <th>depth</th>\n",
       "      <td>1.403321e-01</td>\n",
       "      <td>-1.284272e-01</td>\n",
       "    </tr>\n",
       "    <tr>\n",
       "      <th>dale_chall_std</th>\n",
       "      <td>1.408426e-01</td>\n",
       "      <td>2.102080e-01</td>\n",
       "    </tr>\n",
       "    <tr>\n",
       "      <th>word_per_sent_std</th>\n",
       "      <td>1.431748e-01</td>\n",
       "      <td>2.107717e-01</td>\n",
       "    </tr>\n",
       "    <tr>\n",
       "      <th>words_per_sent_std</th>\n",
       "      <td>1.431748e-01</td>\n",
       "      <td>2.107717e-01</td>\n",
       "    </tr>\n",
       "    <tr>\n",
       "      <th>word_count_std</th>\n",
       "      <td>1.431748e-01</td>\n",
       "      <td>2.107717e-01</td>\n",
       "    </tr>\n",
       "    <tr>\n",
       "      <th>ari_std</th>\n",
       "      <td>1.444514e-01</td>\n",
       "      <td>2.187138e-01</td>\n",
       "    </tr>\n",
       "    <tr>\n",
       "      <th>chars_per_sent_std</th>\n",
       "      <td>1.579000e-01</td>\n",
       "      <td>1.966448e-01</td>\n",
       "    </tr>\n",
       "    <tr>\n",
       "      <th>syllables_per_sent_std</th>\n",
       "      <td>1.596818e-01</td>\n",
       "      <td>1.937640e-01</td>\n",
       "    </tr>\n",
       "    <tr>\n",
       "      <th>syl_count_std</th>\n",
       "      <td>1.613192e-01</td>\n",
       "      <td>1.916035e-01</td>\n",
       "    </tr>\n",
       "    <tr>\n",
       "      <th>char_count_std</th>\n",
       "      <td>1.614714e-01</td>\n",
       "      <td>1.914390e-01</td>\n",
       "    </tr>\n",
       "    <tr>\n",
       "      <th>gf_word_count_std</th>\n",
       "      <td>1.717096e-01</td>\n",
       "      <td>1.068005e-01</td>\n",
       "    </tr>\n",
       "    <tr>\n",
       "      <th>dc_word_count_std</th>\n",
       "      <td>1.724111e-01</td>\n",
       "      <td>1.587800e-01</td>\n",
       "    </tr>\n",
       "    <tr>\n",
       "      <th>smog</th>\n",
       "      <td>1.733971e-01</td>\n",
       "      <td>-1.501246e-01</td>\n",
       "    </tr>\n",
       "    <tr>\n",
       "      <th>gf_word_count</th>\n",
       "      <td>1.755403e-01</td>\n",
       "      <td>-1.345238e-01</td>\n",
       "    </tr>\n",
       "    <tr>\n",
       "      <th>poly_word_count_std</th>\n",
       "      <td>1.759274e-01</td>\n",
       "      <td>1.193502e-01</td>\n",
       "    </tr>\n",
       "    <tr>\n",
       "      <th>poly_word_count</th>\n",
       "      <td>1.811882e-01</td>\n",
       "      <td>-1.337878e-01</td>\n",
       "    </tr>\n",
       "    <tr>\n",
       "      <th>flesch_kincaid</th>\n",
       "      <td>1.851185e-01</td>\n",
       "      <td>-1.379577e-01</td>\n",
       "    </tr>\n",
       "    <tr>\n",
       "      <th>gunning_fog</th>\n",
       "      <td>1.860303e-01</td>\n",
       "      <td>-1.220260e-01</td>\n",
       "    </tr>\n",
       "    <tr>\n",
       "      <th>dc_word_count</th>\n",
       "      <td>1.860699e-01</td>\n",
       "      <td>-1.094760e-01</td>\n",
       "    </tr>\n",
       "    <tr>\n",
       "      <th>ari</th>\n",
       "      <td>1.893717e-01</td>\n",
       "      <td>-1.264454e-01</td>\n",
       "    </tr>\n",
       "    <tr>\n",
       "      <th>word_count</th>\n",
       "      <td>1.901264e-01</td>\n",
       "      <td>-5.733321e-02</td>\n",
       "    </tr>\n",
       "    <tr>\n",
       "      <th>word_per_sent</th>\n",
       "      <td>1.901264e-01</td>\n",
       "      <td>-5.733321e-02</td>\n",
       "    </tr>\n",
       "    <tr>\n",
       "      <th>words_per_sent</th>\n",
       "      <td>1.901264e-01</td>\n",
       "      <td>-5.733321e-02</td>\n",
       "    </tr>\n",
       "    <tr>\n",
       "      <th>syllables_per_sent</th>\n",
       "      <td>1.921607e-01</td>\n",
       "      <td>-9.942579e-02</td>\n",
       "    </tr>\n",
       "    <tr>\n",
       "      <th>dale_chall</th>\n",
       "      <td>1.925893e-01</td>\n",
       "      <td>-9.166305e-02</td>\n",
       "    </tr>\n",
       "    <tr>\n",
       "      <th>syl_count</th>\n",
       "      <td>1.937965e-01</td>\n",
       "      <td>-9.886767e-02</td>\n",
       "    </tr>\n",
       "    <tr>\n",
       "      <th>char_count</th>\n",
       "      <td>1.940297e-01</td>\n",
       "      <td>-9.361542e-02</td>\n",
       "    </tr>\n",
       "    <tr>\n",
       "      <th>chars_per_sent</th>\n",
       "      <td>1.949034e-01</td>\n",
       "      <td>-8.541502e-02</td>\n",
       "    </tr>\n",
       "  </tbody>\n",
       "</table>\n",
       "</div>"
      ],
      "text/plain": [
       "                                 PC1           PC2\n",
       "syl_per_word_std       -2.962698e-02  7.987603e-02\n",
       "poly_word_perc_std     -2.860524e-02  7.738785e-02\n",
       "gf_word_perc_std       -2.091051e-02  7.448329e-02\n",
       "dc_word_perc_std       -1.542182e-02  1.282426e-01\n",
       "sent_count             -8.077936e-28 -8.271806e-25\n",
       "sent_count_std          0.000000e+00  0.000000e+00\n",
       "char_per_word_std       1.237897e-02  8.563348e-02\n",
       "coleman_liau_std        3.793453e-02  9.405456e-02\n",
       "smog_std                9.717629e-02  2.033337e-01\n",
       "depth_std               1.128769e-01  1.210719e-01\n",
       "syl_per_word            1.193859e-01 -1.850090e-01\n",
       "char_per_word           1.223122e-01 -1.882520e-01\n",
       "gf_word_perc            1.224210e-01 -1.668799e-01\n",
       "dc_word_perc            1.228999e-01 -1.093088e-01\n",
       "poly_word_perc          1.270227e-01 -1.640279e-01\n",
       "gunning_fog_std         1.333533e-01  2.291343e-01\n",
       "flesch_kincaid_std      1.353458e-01  2.288110e-01\n",
       "coleman_liau            1.378701e-01 -1.886488e-01\n",
       "depth                   1.403321e-01 -1.284272e-01\n",
       "dale_chall_std          1.408426e-01  2.102080e-01\n",
       "word_per_sent_std       1.431748e-01  2.107717e-01\n",
       "words_per_sent_std      1.431748e-01  2.107717e-01\n",
       "word_count_std          1.431748e-01  2.107717e-01\n",
       "ari_std                 1.444514e-01  2.187138e-01\n",
       "chars_per_sent_std      1.579000e-01  1.966448e-01\n",
       "syllables_per_sent_std  1.596818e-01  1.937640e-01\n",
       "syl_count_std           1.613192e-01  1.916035e-01\n",
       "char_count_std          1.614714e-01  1.914390e-01\n",
       "gf_word_count_std       1.717096e-01  1.068005e-01\n",
       "dc_word_count_std       1.724111e-01  1.587800e-01\n",
       "smog                    1.733971e-01 -1.501246e-01\n",
       "gf_word_count           1.755403e-01 -1.345238e-01\n",
       "poly_word_count_std     1.759274e-01  1.193502e-01\n",
       "poly_word_count         1.811882e-01 -1.337878e-01\n",
       "flesch_kincaid          1.851185e-01 -1.379577e-01\n",
       "gunning_fog             1.860303e-01 -1.220260e-01\n",
       "dc_word_count           1.860699e-01 -1.094760e-01\n",
       "ari                     1.893717e-01 -1.264454e-01\n",
       "word_count              1.901264e-01 -5.733321e-02\n",
       "word_per_sent           1.901264e-01 -5.733321e-02\n",
       "words_per_sent          1.901264e-01 -5.733321e-02\n",
       "syllables_per_sent      1.921607e-01 -9.942579e-02\n",
       "dale_chall              1.925893e-01 -9.166305e-02\n",
       "syl_count               1.937965e-01 -9.886767e-02\n",
       "char_count              1.940297e-01 -9.361542e-02\n",
       "chars_per_sent          1.949034e-01 -8.541502e-02"
      ]
     },
     "execution_count": 154,
     "metadata": {},
     "output_type": "execute_result"
    }
   ],
   "source": [
    "loadings = pd.DataFrame(pca.components_.T, columns=['PC1', 'PC2'], index=pca_data.columns)\n",
    "loadings.sort_values(by=['PC1'], inplace=True)\n",
    "loadings"
   ]
  },
  {
   "cell_type": "code",
   "execution_count": 155,
   "id": "01106ad6",
   "metadata": {},
   "outputs": [
    {
     "data": {
      "text/html": [
       "<style type=\"text/css\">\n",
       "#T_6d5bb_row8_col1, #T_6d5bb_row10_col1, #T_6d5bb_row11_col1, #T_6d5bb_row12_col1, #T_6d5bb_row14_col1, #T_6d5bb_row15_col1, #T_6d5bb_row16_col1, #T_6d5bb_row17_col1, #T_6d5bb_row19_col1, #T_6d5bb_row20_col1, #T_6d5bb_row21_col1, #T_6d5bb_row22_col1, #T_6d5bb_row23_col1, #T_6d5bb_row24_col0, #T_6d5bb_row24_col1, #T_6d5bb_row25_col0, #T_6d5bb_row25_col1, #T_6d5bb_row26_col0, #T_6d5bb_row26_col1, #T_6d5bb_row27_col0, #T_6d5bb_row27_col1, #T_6d5bb_row28_col0, #T_6d5bb_row29_col0, #T_6d5bb_row29_col1, #T_6d5bb_row30_col0, #T_6d5bb_row30_col1, #T_6d5bb_row31_col0, #T_6d5bb_row32_col0, #T_6d5bb_row33_col0, #T_6d5bb_row34_col0, #T_6d5bb_row35_col0, #T_6d5bb_row36_col0, #T_6d5bb_row37_col0, #T_6d5bb_row38_col0, #T_6d5bb_row39_col0, #T_6d5bb_row40_col0, #T_6d5bb_row41_col0, #T_6d5bb_row42_col0, #T_6d5bb_row43_col0, #T_6d5bb_row44_col0, #T_6d5bb_row45_col0 {\n",
       "  font-weight: bold;\n",
       "}\n",
       "</style>\n",
       "<table id=\"T_6d5bb\">\n",
       "  <thead>\n",
       "    <tr>\n",
       "      <th class=\"blank level0\" >&nbsp;</th>\n",
       "      <th id=\"T_6d5bb_level0_col0\" class=\"col_heading level0 col0\" >PC1</th>\n",
       "      <th id=\"T_6d5bb_level0_col1\" class=\"col_heading level0 col1\" >PC2</th>\n",
       "    </tr>\n",
       "  </thead>\n",
       "  <tbody>\n",
       "    <tr>\n",
       "      <th id=\"T_6d5bb_level0_row0\" class=\"row_heading level0 row0\" >syl_per_word_std</th>\n",
       "      <td id=\"T_6d5bb_row0_col0\" class=\"data row0 col0\" >-0.029627</td>\n",
       "      <td id=\"T_6d5bb_row0_col1\" class=\"data row0 col1\" >0.079876</td>\n",
       "    </tr>\n",
       "    <tr>\n",
       "      <th id=\"T_6d5bb_level0_row1\" class=\"row_heading level0 row1\" >poly_word_perc_std</th>\n",
       "      <td id=\"T_6d5bb_row1_col0\" class=\"data row1 col0\" >-0.028605</td>\n",
       "      <td id=\"T_6d5bb_row1_col1\" class=\"data row1 col1\" >0.077388</td>\n",
       "    </tr>\n",
       "    <tr>\n",
       "      <th id=\"T_6d5bb_level0_row2\" class=\"row_heading level0 row2\" >gf_word_perc_std</th>\n",
       "      <td id=\"T_6d5bb_row2_col0\" class=\"data row2 col0\" >-0.020911</td>\n",
       "      <td id=\"T_6d5bb_row2_col1\" class=\"data row2 col1\" >0.074483</td>\n",
       "    </tr>\n",
       "    <tr>\n",
       "      <th id=\"T_6d5bb_level0_row3\" class=\"row_heading level0 row3\" >dc_word_perc_std</th>\n",
       "      <td id=\"T_6d5bb_row3_col0\" class=\"data row3 col0\" >-0.015422</td>\n",
       "      <td id=\"T_6d5bb_row3_col1\" class=\"data row3 col1\" >0.128243</td>\n",
       "    </tr>\n",
       "    <tr>\n",
       "      <th id=\"T_6d5bb_level0_row4\" class=\"row_heading level0 row4\" >sent_count</th>\n",
       "      <td id=\"T_6d5bb_row4_col0\" class=\"data row4 col0\" >-0.000000</td>\n",
       "      <td id=\"T_6d5bb_row4_col1\" class=\"data row4 col1\" >-0.000000</td>\n",
       "    </tr>\n",
       "    <tr>\n",
       "      <th id=\"T_6d5bb_level0_row5\" class=\"row_heading level0 row5\" >sent_count_std</th>\n",
       "      <td id=\"T_6d5bb_row5_col0\" class=\"data row5 col0\" >0.000000</td>\n",
       "      <td id=\"T_6d5bb_row5_col1\" class=\"data row5 col1\" >0.000000</td>\n",
       "    </tr>\n",
       "    <tr>\n",
       "      <th id=\"T_6d5bb_level0_row6\" class=\"row_heading level0 row6\" >char_per_word_std</th>\n",
       "      <td id=\"T_6d5bb_row6_col0\" class=\"data row6 col0\" >0.012379</td>\n",
       "      <td id=\"T_6d5bb_row6_col1\" class=\"data row6 col1\" >0.085633</td>\n",
       "    </tr>\n",
       "    <tr>\n",
       "      <th id=\"T_6d5bb_level0_row7\" class=\"row_heading level0 row7\" >coleman_liau_std</th>\n",
       "      <td id=\"T_6d5bb_row7_col0\" class=\"data row7 col0\" >0.037935</td>\n",
       "      <td id=\"T_6d5bb_row7_col1\" class=\"data row7 col1\" >0.094055</td>\n",
       "    </tr>\n",
       "    <tr>\n",
       "      <th id=\"T_6d5bb_level0_row8\" class=\"row_heading level0 row8\" >smog_std</th>\n",
       "      <td id=\"T_6d5bb_row8_col0\" class=\"data row8 col0\" >0.097176</td>\n",
       "      <td id=\"T_6d5bb_row8_col1\" class=\"data row8 col1\" >0.203334</td>\n",
       "    </tr>\n",
       "    <tr>\n",
       "      <th id=\"T_6d5bb_level0_row9\" class=\"row_heading level0 row9\" >depth_std</th>\n",
       "      <td id=\"T_6d5bb_row9_col0\" class=\"data row9 col0\" >0.112877</td>\n",
       "      <td id=\"T_6d5bb_row9_col1\" class=\"data row9 col1\" >0.121072</td>\n",
       "    </tr>\n",
       "    <tr>\n",
       "      <th id=\"T_6d5bb_level0_row10\" class=\"row_heading level0 row10\" >syl_per_word</th>\n",
       "      <td id=\"T_6d5bb_row10_col0\" class=\"data row10 col0\" >0.119386</td>\n",
       "      <td id=\"T_6d5bb_row10_col1\" class=\"data row10 col1\" >-0.185009</td>\n",
       "    </tr>\n",
       "    <tr>\n",
       "      <th id=\"T_6d5bb_level0_row11\" class=\"row_heading level0 row11\" >char_per_word</th>\n",
       "      <td id=\"T_6d5bb_row11_col0\" class=\"data row11 col0\" >0.122312</td>\n",
       "      <td id=\"T_6d5bb_row11_col1\" class=\"data row11 col1\" >-0.188252</td>\n",
       "    </tr>\n",
       "    <tr>\n",
       "      <th id=\"T_6d5bb_level0_row12\" class=\"row_heading level0 row12\" >gf_word_perc</th>\n",
       "      <td id=\"T_6d5bb_row12_col0\" class=\"data row12 col0\" >0.122421</td>\n",
       "      <td id=\"T_6d5bb_row12_col1\" class=\"data row12 col1\" >-0.166880</td>\n",
       "    </tr>\n",
       "    <tr>\n",
       "      <th id=\"T_6d5bb_level0_row13\" class=\"row_heading level0 row13\" >dc_word_perc</th>\n",
       "      <td id=\"T_6d5bb_row13_col0\" class=\"data row13 col0\" >0.122900</td>\n",
       "      <td id=\"T_6d5bb_row13_col1\" class=\"data row13 col1\" >-0.109309</td>\n",
       "    </tr>\n",
       "    <tr>\n",
       "      <th id=\"T_6d5bb_level0_row14\" class=\"row_heading level0 row14\" >poly_word_perc</th>\n",
       "      <td id=\"T_6d5bb_row14_col0\" class=\"data row14 col0\" >0.127023</td>\n",
       "      <td id=\"T_6d5bb_row14_col1\" class=\"data row14 col1\" >-0.164028</td>\n",
       "    </tr>\n",
       "    <tr>\n",
       "      <th id=\"T_6d5bb_level0_row15\" class=\"row_heading level0 row15\" >gunning_fog_std</th>\n",
       "      <td id=\"T_6d5bb_row15_col0\" class=\"data row15 col0\" >0.133353</td>\n",
       "      <td id=\"T_6d5bb_row15_col1\" class=\"data row15 col1\" >0.229134</td>\n",
       "    </tr>\n",
       "    <tr>\n",
       "      <th id=\"T_6d5bb_level0_row16\" class=\"row_heading level0 row16\" >flesch_kincaid_std</th>\n",
       "      <td id=\"T_6d5bb_row16_col0\" class=\"data row16 col0\" >0.135346</td>\n",
       "      <td id=\"T_6d5bb_row16_col1\" class=\"data row16 col1\" >0.228811</td>\n",
       "    </tr>\n",
       "    <tr>\n",
       "      <th id=\"T_6d5bb_level0_row17\" class=\"row_heading level0 row17\" >coleman_liau</th>\n",
       "      <td id=\"T_6d5bb_row17_col0\" class=\"data row17 col0\" >0.137870</td>\n",
       "      <td id=\"T_6d5bb_row17_col1\" class=\"data row17 col1\" >-0.188649</td>\n",
       "    </tr>\n",
       "    <tr>\n",
       "      <th id=\"T_6d5bb_level0_row18\" class=\"row_heading level0 row18\" >depth</th>\n",
       "      <td id=\"T_6d5bb_row18_col0\" class=\"data row18 col0\" >0.140332</td>\n",
       "      <td id=\"T_6d5bb_row18_col1\" class=\"data row18 col1\" >-0.128427</td>\n",
       "    </tr>\n",
       "    <tr>\n",
       "      <th id=\"T_6d5bb_level0_row19\" class=\"row_heading level0 row19\" >dale_chall_std</th>\n",
       "      <td id=\"T_6d5bb_row19_col0\" class=\"data row19 col0\" >0.140843</td>\n",
       "      <td id=\"T_6d5bb_row19_col1\" class=\"data row19 col1\" >0.210208</td>\n",
       "    </tr>\n",
       "    <tr>\n",
       "      <th id=\"T_6d5bb_level0_row20\" class=\"row_heading level0 row20\" >word_per_sent_std</th>\n",
       "      <td id=\"T_6d5bb_row20_col0\" class=\"data row20 col0\" >0.143175</td>\n",
       "      <td id=\"T_6d5bb_row20_col1\" class=\"data row20 col1\" >0.210772</td>\n",
       "    </tr>\n",
       "    <tr>\n",
       "      <th id=\"T_6d5bb_level0_row21\" class=\"row_heading level0 row21\" >words_per_sent_std</th>\n",
       "      <td id=\"T_6d5bb_row21_col0\" class=\"data row21 col0\" >0.143175</td>\n",
       "      <td id=\"T_6d5bb_row21_col1\" class=\"data row21 col1\" >0.210772</td>\n",
       "    </tr>\n",
       "    <tr>\n",
       "      <th id=\"T_6d5bb_level0_row22\" class=\"row_heading level0 row22\" >word_count_std</th>\n",
       "      <td id=\"T_6d5bb_row22_col0\" class=\"data row22 col0\" >0.143175</td>\n",
       "      <td id=\"T_6d5bb_row22_col1\" class=\"data row22 col1\" >0.210772</td>\n",
       "    </tr>\n",
       "    <tr>\n",
       "      <th id=\"T_6d5bb_level0_row23\" class=\"row_heading level0 row23\" >ari_std</th>\n",
       "      <td id=\"T_6d5bb_row23_col0\" class=\"data row23 col0\" >0.144451</td>\n",
       "      <td id=\"T_6d5bb_row23_col1\" class=\"data row23 col1\" >0.218714</td>\n",
       "    </tr>\n",
       "    <tr>\n",
       "      <th id=\"T_6d5bb_level0_row24\" class=\"row_heading level0 row24\" >chars_per_sent_std</th>\n",
       "      <td id=\"T_6d5bb_row24_col0\" class=\"data row24 col0\" >0.157900</td>\n",
       "      <td id=\"T_6d5bb_row24_col1\" class=\"data row24 col1\" >0.196645</td>\n",
       "    </tr>\n",
       "    <tr>\n",
       "      <th id=\"T_6d5bb_level0_row25\" class=\"row_heading level0 row25\" >syllables_per_sent_std</th>\n",
       "      <td id=\"T_6d5bb_row25_col0\" class=\"data row25 col0\" >0.159682</td>\n",
       "      <td id=\"T_6d5bb_row25_col1\" class=\"data row25 col1\" >0.193764</td>\n",
       "    </tr>\n",
       "    <tr>\n",
       "      <th id=\"T_6d5bb_level0_row26\" class=\"row_heading level0 row26\" >syl_count_std</th>\n",
       "      <td id=\"T_6d5bb_row26_col0\" class=\"data row26 col0\" >0.161319</td>\n",
       "      <td id=\"T_6d5bb_row26_col1\" class=\"data row26 col1\" >0.191604</td>\n",
       "    </tr>\n",
       "    <tr>\n",
       "      <th id=\"T_6d5bb_level0_row27\" class=\"row_heading level0 row27\" >char_count_std</th>\n",
       "      <td id=\"T_6d5bb_row27_col0\" class=\"data row27 col0\" >0.161471</td>\n",
       "      <td id=\"T_6d5bb_row27_col1\" class=\"data row27 col1\" >0.191439</td>\n",
       "    </tr>\n",
       "    <tr>\n",
       "      <th id=\"T_6d5bb_level0_row28\" class=\"row_heading level0 row28\" >gf_word_count_std</th>\n",
       "      <td id=\"T_6d5bb_row28_col0\" class=\"data row28 col0\" >0.171710</td>\n",
       "      <td id=\"T_6d5bb_row28_col1\" class=\"data row28 col1\" >0.106800</td>\n",
       "    </tr>\n",
       "    <tr>\n",
       "      <th id=\"T_6d5bb_level0_row29\" class=\"row_heading level0 row29\" >dc_word_count_std</th>\n",
       "      <td id=\"T_6d5bb_row29_col0\" class=\"data row29 col0\" >0.172411</td>\n",
       "      <td id=\"T_6d5bb_row29_col1\" class=\"data row29 col1\" >0.158780</td>\n",
       "    </tr>\n",
       "    <tr>\n",
       "      <th id=\"T_6d5bb_level0_row30\" class=\"row_heading level0 row30\" >smog</th>\n",
       "      <td id=\"T_6d5bb_row30_col0\" class=\"data row30 col0\" >0.173397</td>\n",
       "      <td id=\"T_6d5bb_row30_col1\" class=\"data row30 col1\" >-0.150125</td>\n",
       "    </tr>\n",
       "    <tr>\n",
       "      <th id=\"T_6d5bb_level0_row31\" class=\"row_heading level0 row31\" >gf_word_count</th>\n",
       "      <td id=\"T_6d5bb_row31_col0\" class=\"data row31 col0\" >0.175540</td>\n",
       "      <td id=\"T_6d5bb_row31_col1\" class=\"data row31 col1\" >-0.134524</td>\n",
       "    </tr>\n",
       "    <tr>\n",
       "      <th id=\"T_6d5bb_level0_row32\" class=\"row_heading level0 row32\" >poly_word_count_std</th>\n",
       "      <td id=\"T_6d5bb_row32_col0\" class=\"data row32 col0\" >0.175927</td>\n",
       "      <td id=\"T_6d5bb_row32_col1\" class=\"data row32 col1\" >0.119350</td>\n",
       "    </tr>\n",
       "    <tr>\n",
       "      <th id=\"T_6d5bb_level0_row33\" class=\"row_heading level0 row33\" >poly_word_count</th>\n",
       "      <td id=\"T_6d5bb_row33_col0\" class=\"data row33 col0\" >0.181188</td>\n",
       "      <td id=\"T_6d5bb_row33_col1\" class=\"data row33 col1\" >-0.133788</td>\n",
       "    </tr>\n",
       "    <tr>\n",
       "      <th id=\"T_6d5bb_level0_row34\" class=\"row_heading level0 row34\" >flesch_kincaid</th>\n",
       "      <td id=\"T_6d5bb_row34_col0\" class=\"data row34 col0\" >0.185118</td>\n",
       "      <td id=\"T_6d5bb_row34_col1\" class=\"data row34 col1\" >-0.137958</td>\n",
       "    </tr>\n",
       "    <tr>\n",
       "      <th id=\"T_6d5bb_level0_row35\" class=\"row_heading level0 row35\" >gunning_fog</th>\n",
       "      <td id=\"T_6d5bb_row35_col0\" class=\"data row35 col0\" >0.186030</td>\n",
       "      <td id=\"T_6d5bb_row35_col1\" class=\"data row35 col1\" >-0.122026</td>\n",
       "    </tr>\n",
       "    <tr>\n",
       "      <th id=\"T_6d5bb_level0_row36\" class=\"row_heading level0 row36\" >dc_word_count</th>\n",
       "      <td id=\"T_6d5bb_row36_col0\" class=\"data row36 col0\" >0.186070</td>\n",
       "      <td id=\"T_6d5bb_row36_col1\" class=\"data row36 col1\" >-0.109476</td>\n",
       "    </tr>\n",
       "    <tr>\n",
       "      <th id=\"T_6d5bb_level0_row37\" class=\"row_heading level0 row37\" >ari</th>\n",
       "      <td id=\"T_6d5bb_row37_col0\" class=\"data row37 col0\" >0.189372</td>\n",
       "      <td id=\"T_6d5bb_row37_col1\" class=\"data row37 col1\" >-0.126445</td>\n",
       "    </tr>\n",
       "    <tr>\n",
       "      <th id=\"T_6d5bb_level0_row38\" class=\"row_heading level0 row38\" >word_count</th>\n",
       "      <td id=\"T_6d5bb_row38_col0\" class=\"data row38 col0\" >0.190126</td>\n",
       "      <td id=\"T_6d5bb_row38_col1\" class=\"data row38 col1\" >-0.057333</td>\n",
       "    </tr>\n",
       "    <tr>\n",
       "      <th id=\"T_6d5bb_level0_row39\" class=\"row_heading level0 row39\" >word_per_sent</th>\n",
       "      <td id=\"T_6d5bb_row39_col0\" class=\"data row39 col0\" >0.190126</td>\n",
       "      <td id=\"T_6d5bb_row39_col1\" class=\"data row39 col1\" >-0.057333</td>\n",
       "    </tr>\n",
       "    <tr>\n",
       "      <th id=\"T_6d5bb_level0_row40\" class=\"row_heading level0 row40\" >words_per_sent</th>\n",
       "      <td id=\"T_6d5bb_row40_col0\" class=\"data row40 col0\" >0.190126</td>\n",
       "      <td id=\"T_6d5bb_row40_col1\" class=\"data row40 col1\" >-0.057333</td>\n",
       "    </tr>\n",
       "    <tr>\n",
       "      <th id=\"T_6d5bb_level0_row41\" class=\"row_heading level0 row41\" >syllables_per_sent</th>\n",
       "      <td id=\"T_6d5bb_row41_col0\" class=\"data row41 col0\" >0.192161</td>\n",
       "      <td id=\"T_6d5bb_row41_col1\" class=\"data row41 col1\" >-0.099426</td>\n",
       "    </tr>\n",
       "    <tr>\n",
       "      <th id=\"T_6d5bb_level0_row42\" class=\"row_heading level0 row42\" >dale_chall</th>\n",
       "      <td id=\"T_6d5bb_row42_col0\" class=\"data row42 col0\" >0.192589</td>\n",
       "      <td id=\"T_6d5bb_row42_col1\" class=\"data row42 col1\" >-0.091663</td>\n",
       "    </tr>\n",
       "    <tr>\n",
       "      <th id=\"T_6d5bb_level0_row43\" class=\"row_heading level0 row43\" >syl_count</th>\n",
       "      <td id=\"T_6d5bb_row43_col0\" class=\"data row43 col0\" >0.193796</td>\n",
       "      <td id=\"T_6d5bb_row43_col1\" class=\"data row43 col1\" >-0.098868</td>\n",
       "    </tr>\n",
       "    <tr>\n",
       "      <th id=\"T_6d5bb_level0_row44\" class=\"row_heading level0 row44\" >char_count</th>\n",
       "      <td id=\"T_6d5bb_row44_col0\" class=\"data row44 col0\" >0.194030</td>\n",
       "      <td id=\"T_6d5bb_row44_col1\" class=\"data row44 col1\" >-0.093615</td>\n",
       "    </tr>\n",
       "    <tr>\n",
       "      <th id=\"T_6d5bb_level0_row45\" class=\"row_heading level0 row45\" >chars_per_sent</th>\n",
       "      <td id=\"T_6d5bb_row45_col0\" class=\"data row45 col0\" >0.194903</td>\n",
       "      <td id=\"T_6d5bb_row45_col1\" class=\"data row45 col1\" >-0.085415</td>\n",
       "    </tr>\n",
       "  </tbody>\n",
       "</table>\n"
      ],
      "text/plain": [
       "<pandas.io.formats.style.Styler at 0x7fdfe1d4b400>"
      ]
     },
     "execution_count": 155,
     "metadata": {},
     "output_type": "execute_result"
    }
   ],
   "source": [
    "def highlight_max(x):\n",
    "    return ['font-weight: bold' if abs(v) > 0.15 else ''\n",
    "                for v in x]\n",
    "loadings.style.apply(highlight_max)"
   ]
  },
  {
   "cell_type": "code",
   "execution_count": null,
   "id": "e93da102",
   "metadata": {},
   "outputs": [],
   "source": []
  }
 ],
 "metadata": {
  "kernelspec": {
   "display_name": "Python 3 (ipykernel)",
   "language": "python",
   "name": "python3"
  },
  "language_info": {
   "codemirror_mode": {
    "name": "ipython",
    "version": 3
   },
   "file_extension": ".py",
   "mimetype": "text/x-python",
   "name": "python",
   "nbconvert_exporter": "python",
   "pygments_lexer": "ipython3",
   "version": "3.10.6"
  }
 },
 "nbformat": 4,
 "nbformat_minor": 5
}
