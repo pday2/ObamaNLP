{
 "cells": [
  {
   "cell_type": "markdown",
   "id": "0d7c36f1",
   "metadata": {},
   "source": [
    "<A HREF=\"https://news.gallup.com/poll/116479/barack-obama-presidential-job-approval.aspx\">Gallup Approval Numbers</A><BR>"
   ]
  },
  {
   "cell_type": "code",
   "execution_count": 1,
   "id": "aeb62b79",
   "metadata": {},
   "outputs": [],
   "source": [
    "import requests\n",
    "import re\n",
    "import pandas as pd\n",
    "from bs4 import BeautifulSoup\n",
    "import time # avoid swamping the americanrhetoric website\n",
    "import os # to check if directory exists and create it if it doesn't\n",
    "from datetime import datetime # to parse speech date"
   ]
  },
  {
   "cell_type": "code",
   "execution_count": 60,
   "id": "1b384c3c",
   "metadata": {},
   "outputs": [],
   "source": [
    "URL = 'https://news.gallup.com/poll/116479/barack-obama-presidential-job-approval.aspx'\n",
    "Page = requests.get(URL, headers={'user-agent': 'Mozilla/5.0'})\n",
    "soup = BeautifulSoup(Page.content, 'html.parser')"
   ]
  },
  {
   "cell_type": "markdown",
   "id": "cf6a0e71",
   "metadata": {},
   "source": [
    "<A HREF=\"https://regexr.com/\">RegExr: for testing regex</A><BR>\n",
    "    There is also <A HREF=\"https://regex101.com/\">Regex101</A>"
   ]
  },
  {
   "cell_type": "code",
   "execution_count": 61,
   "id": "e818ba37",
   "metadata": {},
   "outputs": [
    {
     "name": "stdout",
     "output_type": "stream",
     "text": [
      "approvalData folder already exists.\n"
     ]
    }
   ],
   "source": [
    "# Check if Data and associated folders exist for saving speech CSVs to.\n",
    "# https://djangocentral.com/check-if-a-directory-exists-if-not-create-it/\n",
    "\n",
    "MYDIRS = [\"approvalData\"]\n",
    "\n",
    "# If folder doesn't exist, then create it.\n",
    "for MYDIR in MYDIRS:\n",
    "    CHECK_FOLDER = os.path.isdir(MYDIR)\n",
    "    if CHECK_FOLDER:\n",
    "        print(MYDIR, \"folder already exists.\")\n",
    "    else:\n",
    "        os.makedirs(MYDIR)\n",
    "        print(\"created folder : \", MYDIR)\n"
   ]
  },
  {
   "cell_type": "markdown",
   "id": "51f29f9c",
   "metadata": {},
   "source": [
    "<A HREF=\"https://beautiful-soup-4.readthedocs.io/en/latest/\">Beautifulsoup documentation</A><BR>\n",
    "<A HREF=\"https://docs.python.org/3/library/re.html\">Python regex documentation</A>"
   ]
  },
  {
   "cell_type": "code",
   "execution_count": 62,
   "id": "896b16b7",
   "metadata": {},
   "outputs": [],
   "source": [
    "tables = soup.find_all('table', {'aria-describedby':'table'})"
   ]
  },
  {
   "cell_type": "code",
   "execution_count": 78,
   "id": "8744a7a0",
   "metadata": {},
   "outputs": [],
   "source": [
    "#<tr>\n",
    "#<th scope=\"row\">2017 Jan 16-19</th>\n",
    "#<td data-th=\"Approve\" data-thunit=\"%\">59</td>\n",
    "#<td data-th=\"Disapprove\" data-thunit=\"%\">37</td>\n",
    "#<td data-th=\"No opinion\" data-thunit=\"%\">4</td>\n",
    "#</tr>\n",
    "\n",
    "# dates also grabs the party breakdown numbers, thus list is twice as long as the other three\n",
    "dates = [[row.text for row in table.find_all('th', {'scope':'row'})] for table in tables if len(table.find_all('th', {'scope':'row'}))>0]\n",
    "approval = [[row.text for row in table.find_all('td', {'data-th':'Approve'})] for table in tables if len(table.find_all('td', {'data-th':'Approve'}))>0]\n",
    "disapproval = [[row.text for row in table.find_all('td', {'data-th':'Disapprove'})] for table in tables if len(table.find_all('td', {'data-th':'Disapprove'}))>0]\n",
    "noOp = [[row.text for row in table.find_all('td', {'data-th':'No opinion'})] for table in tables if len(table.find_all('td', {'data-th':'No opinion'}))>0]\n",
    "\n"
   ]
  },
  {
   "cell_type": "code",
   "execution_count": 80,
   "id": "701999e0",
   "metadata": {},
   "outputs": [],
   "source": [
    "# Flatten the lists into vectors\n",
    "dates = sum(dates, [])\n",
    "approval = sum(approval, [])\n",
    "disapproval = sum(disapproval, [])\n",
    "noOp=sum(noOp, [])\n",
    "# use only first half of date data\n",
    "dates=dates[0:418]"
   ]
  },
  {
   "cell_type": "code",
   "execution_count": 81,
   "id": "35766920",
   "metadata": {},
   "outputs": [],
   "source": [
    "# Parse dates\n",
    "dates = [date.split('-') for date in dates ]"
   ]
  },
  {
   "cell_type": "code",
   "execution_count": 122,
   "id": "d1dbb3ce",
   "metadata": {},
   "outputs": [],
   "source": [
    "fulldates=[]\n",
    "for i in range(len(dates)):\n",
    "    if len(dates[i][1])<=2:\n",
    "        fulldates.append([dates[i][0], dates[i][0][0:9]+dates[i][1]])\n",
    "    elif len(dates[i][1])<=6:\n",
    "        fulldates.append([dates[i][0], dates[i][0][0:5]+dates[i][1]])\n",
    "    else:\n",
    "        fulldates.append([dates[i][0], dates[i][1]])"
   ]
  },
  {
   "cell_type": "code",
   "execution_count": 123,
   "id": "d185496f",
   "metadata": {},
   "outputs": [
    {
     "data": {
      "text/plain": [
       "True"
      ]
     },
     "execution_count": 123,
     "metadata": {},
     "output_type": "execute_result"
    }
   ],
   "source": [
    "len(fulldates)==len(approval)"
   ]
  },
  {
   "cell_type": "markdown",
   "id": "4ecc3522",
   "metadata": {},
   "source": [
    "<A HREF=\"https://pandas.pydata.org/Pandas_Cheat_Sheet.pdf\">Pandas cheat sheet</A>"
   ]
  },
  {
   "cell_type": "code",
   "execution_count": 124,
   "id": "ea5056aa",
   "metadata": {},
   "outputs": [],
   "source": [
    "beg =[fulldates[i][0] for i in range(len(fulldates))]\n",
    "end =[fulldates[i][1] for i in range(len(fulldates))]\n",
    "end = [ date.replace('Sept', 'Sep') for date in end ]"
   ]
  },
  {
   "cell_type": "code",
   "execution_count": 125,
   "id": "30fffe62",
   "metadata": {},
   "outputs": [],
   "source": [
    "df = pd.DataFrame(\n",
    "    {\"beg\": beg,\n",
    "     \"end\": end,\n",
    "     \"approval\": approval,\n",
    "     \"disapproval\": disapproval,\n",
    "     \"no opinon\": noOp})"
   ]
  },
  {
   "cell_type": "code",
   "execution_count": 126,
   "id": "9bed4fe4",
   "metadata": {},
   "outputs": [
    {
     "data": {
      "text/plain": [
       "datetime.datetime(2016, 5, 23, 0, 0)"
      ]
     },
     "execution_count": 126,
     "metadata": {},
     "output_type": "execute_result"
    }
   ],
   "source": [
    "datetime.strptime(df['beg'][34], '%Y %b %d')"
   ]
  },
  {
   "cell_type": "markdown",
   "id": "ccde3131",
   "metadata": {},
   "source": [
    "<A HREF=\"https://docs.python.org/3/library/datetime.html#strftime-strptime-behavior\">Python Datetime doc</A>"
   ]
  },
  {
   "cell_type": "code",
   "execution_count": 127,
   "id": "c39277b7",
   "metadata": {},
   "outputs": [],
   "source": [
    "df['beg'] = [ datetime.strptime(date, '%Y %b %d')for date in df['beg'] ]"
   ]
  },
  {
   "cell_type": "code",
   "execution_count": 128,
   "id": "5dd46112",
   "metadata": {},
   "outputs": [],
   "source": [
    "\n",
    "df['end'] = [ datetime.strptime(date, '%Y %b %d')for date in df['end'] ]"
   ]
  },
  {
   "cell_type": "code",
   "execution_count": 132,
   "id": "6d099c0d",
   "metadata": {},
   "outputs": [],
   "source": [
    "df.to_csv('./Data/genData/approvalData.csv', index=False)"
   ]
  },
  {
   "cell_type": "code",
   "execution_count": 147,
   "id": "a9859b69",
   "metadata": {},
   "outputs": [
    {
     "name": "stdout",
     "output_type": "stream",
     "text": [
      "2005-10-25 00:00:00\n"
     ]
    }
   ],
   "source": [
    "# Just checking probably delete this once we're happy with the data\n",
    "text1 = '25 October 2005, Washington, D.C.'\n",
    "text2 = '4 April 1997'\n",
    "text1.split(',')[0]\n",
    "text2.split(',')[1:]\n",
    "date1 = datetime.strptime(text1.split(',')[0], '%d %B %Y')\n",
    "print(date1)"
   ]
  },
  {
   "cell_type": "code",
   "execution_count": 148,
   "id": "0190a769",
   "metadata": {},
   "outputs": [
    {
     "data": {
      "text/plain": [
       "2005"
      ]
     },
     "execution_count": 148,
     "metadata": {},
     "output_type": "execute_result"
    }
   ],
   "source": [
    "date1.year"
   ]
  },
  {
   "cell_type": "code",
   "execution_count": 149,
   "id": "181b3a0c",
   "metadata": {},
   "outputs": [
    {
     "data": {
      "text/plain": [
       "10"
      ]
     },
     "execution_count": 149,
     "metadata": {},
     "output_type": "execute_result"
    }
   ],
   "source": [
    "date1.month"
   ]
  },
  {
   "cell_type": "code",
   "execution_count": 150,
   "id": "a58d6557",
   "metadata": {},
   "outputs": [
    {
     "data": {
      "text/plain": [
       "25"
      ]
     },
     "execution_count": 150,
     "metadata": {},
     "output_type": "execute_result"
    }
   ],
   "source": [
    "date1.day"
   ]
  },
  {
   "cell_type": "code",
   "execution_count": null,
   "id": "869598cb",
   "metadata": {},
   "outputs": [],
   "source": []
  }
 ],
 "metadata": {
  "kernelspec": {
   "display_name": "Python 3 (ipykernel)",
   "language": "python",
   "name": "python3"
  },
  "language_info": {
   "codemirror_mode": {
    "name": "ipython",
    "version": 3
   },
   "file_extension": ".py",
   "mimetype": "text/x-python",
   "name": "python",
   "nbconvert_exporter": "python",
   "pygments_lexer": "ipython3",
   "version": "3.10.6"
  }
 },
 "nbformat": 4,
 "nbformat_minor": 5
}
