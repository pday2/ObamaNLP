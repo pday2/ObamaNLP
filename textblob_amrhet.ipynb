{
 "cells": [
  {
   "cell_type": "code",
   "execution_count": 157,
   "id": "0660ec20",
   "metadata": {},
   "outputs": [
    {
     "name": "stderr",
     "output_type": "stream",
     "text": [
      "[nltk_data] Downloading package punkt to /home/muddy/nltk_data...\n",
      "[nltk_data]   Package punkt is already up-to-date!\n",
      "[nltk_data] Downloading package wordnet to /home/muddy/nltk_data...\n",
      "[nltk_data]   Package wordnet is already up-to-date!\n"
     ]
    },
    {
     "data": {
      "text/plain": [
       "True"
      ]
     },
     "execution_count": 157,
     "metadata": {},
     "output_type": "execute_result"
    }
   ],
   "source": [
    "import os\n",
    "import re\n",
    "import unicodedata\n",
    "import numpy as np\n",
    "import pandas as pd\n",
    "import warnings\n",
    "import nltk\n",
    "from nltk.corpus import stopwords\n",
    "import en_core_web_md\n",
    "import matplotlib.pyplot as plt\n",
    "import plotly.express as px\n",
    "from nrclex import NRCLex\n",
    "from nltk.stem import WordNetLemmatizer\n",
    "from sklearn.feature_extraction.text import TfidfVectorizer\n",
    "from sklearn.cluster import KMeans\n",
    "from collections import defaultdict\n",
    "from textblob import TextBlob\n",
    "from nltk.tokenize import TreebankWordTokenizer\n",
    "from nltk.tokenize import sent_tokenize\n",
    "from nltk.corpus import cmudict\n",
    "nltk.download(\"punkt\")\n",
    "from nltk.stem import WordNetLemmatizer\n",
    "nltk.download ('wordnet')"
   ]
  },
  {
   "cell_type": "code",
   "execution_count": 4,
   "id": "f4160585",
   "metadata": {},
   "outputs": [
    {
     "data": {
      "text/html": [
       "<div>\n",
       "<style scoped>\n",
       "    .dataframe tbody tr th:only-of-type {\n",
       "        vertical-align: middle;\n",
       "    }\n",
       "\n",
       "    .dataframe tbody tr th {\n",
       "        vertical-align: top;\n",
       "    }\n",
       "\n",
       "    .dataframe thead th {\n",
       "        text-align: right;\n",
       "    }\n",
       "</style>\n",
       "<table border=\"1\" class=\"dataframe\">\n",
       "  <thead>\n",
       "    <tr style=\"text-align: right;\">\n",
       "      <th></th>\n",
       "      <th>filepath</th>\n",
       "      <th>text</th>\n",
       "      <th>source</th>\n",
       "    </tr>\n",
       "    <tr>\n",
       "      <th>date</th>\n",
       "      <th></th>\n",
       "      <th></th>\n",
       "      <th></th>\n",
       "    </tr>\n",
       "  </thead>\n",
       "  <tbody>\n",
       "    <tr>\n",
       "      <th>2002-10-02</th>\n",
       "      <td>./Data/barackobamairaqwarspeechfederalplaza.txt</td>\n",
       "      <td>Good afternoon. Let begin by saying that altho...</td>\n",
       "      <td>oba</td>\n",
       "    </tr>\n",
       "    <tr>\n",
       "      <th>2005-01-06</th>\n",
       "      <td>./Data/barackobamasenatespeechonohioelectoralv...</td>\n",
       "      <td>Thank you very much, Mr. President; Ladies and...</td>\n",
       "      <td>oba</td>\n",
       "    </tr>\n",
       "    <tr>\n",
       "      <th>2005-10-25</th>\n",
       "      <td>./Data/barackobamasenatespeechrosaparks.txt</td>\n",
       "      <td>Mr. President, today the nation mourns a genui...</td>\n",
       "      <td>oba</td>\n",
       "    </tr>\n",
       "    <tr>\n",
       "      <th>2005-12-15</th>\n",
       "      <td>./Data/barackobamasenatefloorspeechpatriotact.txt</td>\n",
       "      <td>Thank you very much, Mr. President. You know, ...</td>\n",
       "      <td>oba</td>\n",
       "    </tr>\n",
       "    <tr>\n",
       "      <th>2006-01-31</th>\n",
       "      <td>./Data/barackobamasenatespeechoncorettascottki...</td>\n",
       "      <td>Thank you very much, Mr. President. Today, we ...</td>\n",
       "      <td>oba</td>\n",
       "    </tr>\n",
       "  </tbody>\n",
       "</table>\n",
       "</div>"
      ],
      "text/plain": [
       "                                                     filepath  \\\n",
       "date                                                            \n",
       "2002-10-02    ./Data/barackobamairaqwarspeechfederalplaza.txt   \n",
       "2005-01-06  ./Data/barackobamasenatespeechonohioelectoralv...   \n",
       "2005-10-25        ./Data/barackobamasenatespeechrosaparks.txt   \n",
       "2005-12-15  ./Data/barackobamasenatefloorspeechpatriotact.txt   \n",
       "2006-01-31  ./Data/barackobamasenatespeechoncorettascottki...   \n",
       "\n",
       "                                                         text source  \n",
       "date                                                                  \n",
       "2002-10-02  Good afternoon. Let begin by saying that altho...    oba  \n",
       "2005-01-06  Thank you very much, Mr. President; Ladies and...    oba  \n",
       "2005-10-25  Mr. President, today the nation mourns a genui...    oba  \n",
       "2005-12-15  Thank you very much, Mr. President. You know, ...    oba  \n",
       "2006-01-31  Thank you very much, Mr. President. Today, we ...    oba  "
      ]
     },
     "execution_count": 4,
     "metadata": {},
     "output_type": "execute_result"
    }
   ],
   "source": [
    "paths = ['./Data/']\n",
    "\n",
    "speeches = []\n",
    "\n",
    "for path in paths:\n",
    "    list_of_files = []\n",
    "    for root, dirs, files in os.walk(path):\n",
    "        for file in files:\n",
    "            if file.endswith('.txt'):\n",
    "                list_of_files.append(os.path.join(root,file))\n",
    "   \n",
    "    for file in list_of_files:\n",
    "        with open(file, encoding='utf-8') as f:\n",
    "            text = f.read()\n",
    "        f.close()\n",
    "        speeches.append(text)\n",
    "\n",
    "#clean out goofy unicode  space characters \n",
    "speeches = [unicodedata.normalize(\"NFKD\", speech) for speech in speeches if len(speech)>0 ]\n",
    "#clean out xa0 space characters\n",
    "[speech.replace(u'\\xa0', '') for speech in speeches]; # ; supresses output\n",
    "# remove [stuff] in between square brackets\n",
    "def remove_bracket(text):\n",
    "    return re.sub(r'(\\[[^w]*\\]\\s)', '',text)\n",
    "speeches = [remove_bracket(speech) for speech in speeches]\n",
    "\n",
    "# # lemmatize text with spacy\n",
    "# nlp = spacy.load(\"en_core_web_md\", exclude=[\"parser\", \"ner\"])\n",
    "# for i, doc in enumerate(nlp.pipe(speeches)):\n",
    "#     words_lemmas_list = [token.lemma_ for token in doc]\n",
    "#     speeches[i]= ' '.join(words_lemmas_list)\n",
    "    \n",
    "# Remove punctuation - only care about words here\n",
    "# speeches = [re.sub(r'[^\\w\\s]', '', speech) for speech in speeches]\n",
    "\n",
    "# remove numbers\n",
    "# speeches = [re.sub(r'\\d', '', speech) for speech in speeches]\n",
    "\n",
    "# Clean up whitespace\n",
    "speeches = [re.sub('[\\s+]', ' ', speech) for speech in speeches]\n",
    "\n",
    "df = pd.DataFrame({'filepath' : list_of_files,\n",
    "                   'text' : speeches})\n",
    "datetitle = pd.read_csv('datetitle.csv')\n",
    "#datetitle.url = [file.replace('Data/', './Data/') for file in datetitle.url]\n",
    "datetitle.date = pd.to_datetime(datetitle.date, format='%Y-%m-%d')\n",
    "datetitle = datetitle.drop('title', axis=1)\n",
    "datetitle = datetitle.rename(columns={'url': 'filepath'})\n",
    "df = pd.merge(df, datetitle, how='inner', on='filepath')\n",
    "df = df.sort_values(by='date', ignore_index=True)\n",
    "df = df[['date', 'filepath', 'text']]\n",
    "df['source'] = 'oba'\n",
    "df.set_index('date', inplace=True)\n",
    "text_df = df.copy()\n",
    "text_df.head()"
   ]
  },
  {
   "cell_type": "code",
   "execution_count": 5,
   "id": "e4b55fc1",
   "metadata": {},
   "outputs": [],
   "source": [
    "text_df['TBsubjectivity']=[TextBlob(text).sentiment.subjectivity for text in text_df['text']]\n",
    "text_df['TBpolarity']=[TextBlob(text).sentiment.polarity for text in text_df['text']]"
   ]
  },
  {
   "cell_type": "code",
   "execution_count": 8,
   "id": "8a15a0e6",
   "metadata": {},
   "outputs": [
    {
     "data": {
      "text/html": [
       "<div>\n",
       "<style scoped>\n",
       "    .dataframe tbody tr th:only-of-type {\n",
       "        vertical-align: middle;\n",
       "    }\n",
       "\n",
       "    .dataframe tbody tr th {\n",
       "        vertical-align: top;\n",
       "    }\n",
       "\n",
       "    .dataframe thead th {\n",
       "        text-align: right;\n",
       "    }\n",
       "</style>\n",
       "<table border=\"1\" class=\"dataframe\">\n",
       "  <thead>\n",
       "    <tr style=\"text-align: right;\">\n",
       "      <th></th>\n",
       "      <th>filepath</th>\n",
       "      <th>text</th>\n",
       "      <th>source</th>\n",
       "      <th>TBsubjectivity</th>\n",
       "      <th>TBpolarity</th>\n",
       "    </tr>\n",
       "    <tr>\n",
       "      <th>date</th>\n",
       "      <th></th>\n",
       "      <th></th>\n",
       "      <th></th>\n",
       "      <th></th>\n",
       "      <th></th>\n",
       "    </tr>\n",
       "  </thead>\n",
       "  <tbody>\n",
       "    <tr>\n",
       "      <th>2013-01-21</th>\n",
       "      <td>./Data/barackobamainauguralluncheontoast.txt</td>\n",
       "      <td>Michelle and the Speaker of the House came to ...</td>\n",
       "      <td>oba</td>\n",
       "      <td>0.601327</td>\n",
       "      <td>0.180204</td>\n",
       "    </tr>\n",
       "  </tbody>\n",
       "</table>\n",
       "</div>"
      ],
      "text/plain": [
       "                                                filepath  \\\n",
       "date                                                       \n",
       "2013-01-21  ./Data/barackobamainauguralluncheontoast.txt   \n",
       "\n",
       "                                                         text source  \\\n",
       "date                                                                   \n",
       "2013-01-21  Michelle and the Speaker of the House came to ...    oba   \n",
       "\n",
       "            TBsubjectivity  TBpolarity  \n",
       "date                                    \n",
       "2013-01-21        0.601327    0.180204  "
      ]
     },
     "execution_count": 8,
     "metadata": {},
     "output_type": "execute_result"
    }
   ],
   "source": [
    "text_df[text_df.TBsubjectivity == text_df.TBsubjectivity.max()]"
   ]
  },
  {
   "cell_type": "code",
   "execution_count": 9,
   "id": "927e1590",
   "metadata": {},
   "outputs": [
    {
     "data": {
      "text/html": [
       "<div>\n",
       "<style scoped>\n",
       "    .dataframe tbody tr th:only-of-type {\n",
       "        vertical-align: middle;\n",
       "    }\n",
       "\n",
       "    .dataframe tbody tr th {\n",
       "        vertical-align: top;\n",
       "    }\n",
       "\n",
       "    .dataframe thead th {\n",
       "        text-align: right;\n",
       "    }\n",
       "</style>\n",
       "<table border=\"1\" class=\"dataframe\">\n",
       "  <thead>\n",
       "    <tr style=\"text-align: right;\">\n",
       "      <th></th>\n",
       "      <th>filepath</th>\n",
       "      <th>text</th>\n",
       "      <th>source</th>\n",
       "      <th>TBsubjectivity</th>\n",
       "      <th>TBpolarity</th>\n",
       "    </tr>\n",
       "    <tr>\n",
       "      <th>date</th>\n",
       "      <th></th>\n",
       "      <th></th>\n",
       "      <th></th>\n",
       "      <th></th>\n",
       "      <th></th>\n",
       "    </tr>\n",
       "  </thead>\n",
       "  <tbody>\n",
       "    <tr>\n",
       "      <th>2011-03-19</th>\n",
       "      <td>./Data/barackobamalibyaltdmilitaryaction.txt</td>\n",
       "      <td>Good afternoon, everybody.  Today I authorized...</td>\n",
       "      <td>oba</td>\n",
       "      <td>0.291015</td>\n",
       "      <td>0.179076</td>\n",
       "    </tr>\n",
       "  </tbody>\n",
       "</table>\n",
       "</div>"
      ],
      "text/plain": [
       "                                                filepath  \\\n",
       "date                                                       \n",
       "2011-03-19  ./Data/barackobamalibyaltdmilitaryaction.txt   \n",
       "\n",
       "                                                         text source  \\\n",
       "date                                                                   \n",
       "2011-03-19  Good afternoon, everybody.  Today I authorized...    oba   \n",
       "\n",
       "            TBsubjectivity  TBpolarity  \n",
       "date                                    \n",
       "2011-03-19        0.291015    0.179076  "
      ]
     },
     "execution_count": 9,
     "metadata": {},
     "output_type": "execute_result"
    }
   ],
   "source": [
    "text_df[text_df.TBsubjectivity == text_df.TBsubjectivity.min()]"
   ]
  },
  {
   "cell_type": "code",
   "execution_count": 10,
   "id": "41ed66ab",
   "metadata": {},
   "outputs": [
    {
     "data": {
      "text/html": [
       "<div>\n",
       "<style scoped>\n",
       "    .dataframe tbody tr th:only-of-type {\n",
       "        vertical-align: middle;\n",
       "    }\n",
       "\n",
       "    .dataframe tbody tr th {\n",
       "        vertical-align: top;\n",
       "    }\n",
       "\n",
       "    .dataframe thead th {\n",
       "        text-align: right;\n",
       "    }\n",
       "</style>\n",
       "<table border=\"1\" class=\"dataframe\">\n",
       "  <thead>\n",
       "    <tr style=\"text-align: right;\">\n",
       "      <th></th>\n",
       "      <th>filepath</th>\n",
       "      <th>text</th>\n",
       "      <th>source</th>\n",
       "      <th>TBsubjectivity</th>\n",
       "      <th>TBpolarity</th>\n",
       "    </tr>\n",
       "    <tr>\n",
       "      <th>date</th>\n",
       "      <th></th>\n",
       "      <th></th>\n",
       "      <th></th>\n",
       "      <th></th>\n",
       "      <th></th>\n",
       "    </tr>\n",
       "  </thead>\n",
       "  <tbody>\n",
       "    <tr>\n",
       "      <th>2016-11-10</th>\n",
       "      <td>./Data/barackobamadonaldtrumpmeeting.txt</td>\n",
       "      <td>Well, I just had the opportunity to have an ex...</td>\n",
       "      <td>oba</td>\n",
       "      <td>0.506327</td>\n",
       "      <td>0.431944</td>\n",
       "    </tr>\n",
       "  </tbody>\n",
       "</table>\n",
       "</div>"
      ],
      "text/plain": [
       "                                            filepath  \\\n",
       "date                                                   \n",
       "2016-11-10  ./Data/barackobamadonaldtrumpmeeting.txt   \n",
       "\n",
       "                                                         text source  \\\n",
       "date                                                                   \n",
       "2016-11-10  Well, I just had the opportunity to have an ex...    oba   \n",
       "\n",
       "            TBsubjectivity  TBpolarity  \n",
       "date                                    \n",
       "2016-11-10        0.506327    0.431944  "
      ]
     },
     "execution_count": 10,
     "metadata": {},
     "output_type": "execute_result"
    }
   ],
   "source": [
    "text_df[text_df.TBpolarity == text_df.TBpolarity.max()]"
   ]
  },
  {
   "cell_type": "code",
   "execution_count": 11,
   "id": "f81fd767",
   "metadata": {},
   "outputs": [
    {
     "data": {
      "text/html": [
       "<div>\n",
       "<style scoped>\n",
       "    .dataframe tbody tr th:only-of-type {\n",
       "        vertical-align: middle;\n",
       "    }\n",
       "\n",
       "    .dataframe tbody tr th {\n",
       "        vertical-align: top;\n",
       "    }\n",
       "\n",
       "    .dataframe thead th {\n",
       "        text-align: right;\n",
       "    }\n",
       "</style>\n",
       "<table border=\"1\" class=\"dataframe\">\n",
       "  <thead>\n",
       "    <tr style=\"text-align: right;\">\n",
       "      <th></th>\n",
       "      <th>filepath</th>\n",
       "      <th>text</th>\n",
       "      <th>source</th>\n",
       "      <th>TBsubjectivity</th>\n",
       "      <th>TBpolarity</th>\n",
       "    </tr>\n",
       "    <tr>\n",
       "      <th>date</th>\n",
       "      <th></th>\n",
       "      <th></th>\n",
       "      <th></th>\n",
       "      <th></th>\n",
       "      <th></th>\n",
       "    </tr>\n",
       "  </thead>\n",
       "  <tbody>\n",
       "    <tr>\n",
       "      <th>2013-02-26</th>\n",
       "      <td>./Data/barackobamarosaparksstatue.txt</td>\n",
       "      <td>Mr. Speaker, Leader Reid, Leader McConnell, Le...</td>\n",
       "      <td>oba</td>\n",
       "      <td>0.486788</td>\n",
       "      <td>-0.008304</td>\n",
       "    </tr>\n",
       "  </tbody>\n",
       "</table>\n",
       "</div>"
      ],
      "text/plain": [
       "                                         filepath  \\\n",
       "date                                                \n",
       "2013-02-26  ./Data/barackobamarosaparksstatue.txt   \n",
       "\n",
       "                                                         text source  \\\n",
       "date                                                                   \n",
       "2013-02-26  Mr. Speaker, Leader Reid, Leader McConnell, Le...    oba   \n",
       "\n",
       "            TBsubjectivity  TBpolarity  \n",
       "date                                    \n",
       "2013-02-26        0.486788   -0.008304  "
      ]
     },
     "execution_count": 11,
     "metadata": {},
     "output_type": "execute_result"
    }
   ],
   "source": [
    "text_df[text_df.TBpolarity == text_df.TBpolarity.min()]"
   ]
  },
  {
   "cell_type": "code",
   "execution_count": 15,
   "id": "01e711f7",
   "metadata": {},
   "outputs": [
    {
     "data": {
      "application/vnd.plotly.v1+json": {
       "config": {
        "plotlyServerURL": "https://plot.ly"
       },
       "data": [
        {
         "hovertemplate": "<b>%{hovertext}</b><br><br>date=%{x}<br>TBsubjectivity=%{y}<extra></extra>",
         "hovertext": [
          "2002-10-02T00:00:00",
          "2005-01-06T00:00:00",
          "2005-10-25T00:00:00",
          "2005-12-15T00:00:00",
          "2006-01-31T00:00:00",
          "2006-07-20T00:00:00",
          "2007-03-04T00:00:00",
          "2007-03-13T00:00:00",
          "2007-03-21T00:00:00",
          "2007-05-23T00:00:00",
          "2007-11-10T00:00:00",
          "2008-01-03T00:00:00",
          "2008-01-08T00:00:00",
          "2008-01-20T00:00:00",
          "2008-01-26T00:00:00",
          "2008-07-15T00:00:00",
          "2008-10-01T00:00:00",
          "2008-11-07T00:00:00",
          "2008-11-18T00:00:00",
          "2008-11-24T00:00:00",
          "2008-11-25T00:00:00",
          "2008-11-26T00:00:00",
          "2008-12-01T00:00:00",
          "2008-12-03T00:00:00",
          "2009-01-05T00:00:00",
          "2009-01-08T00:00:00",
          "2009-01-09T00:00:00",
          "2009-01-18T00:00:00",
          "2009-01-20T00:00:00",
          "2009-01-24T00:00:00",
          "2009-02-04T00:00:00",
          "2009-02-09T00:00:00",
          "2009-02-12T00:00:00",
          "2009-02-12T00:00:00",
          "2009-02-24T00:00:00",
          "2009-02-27T00:00:00",
          "2009-03-10T00:00:00",
          "2009-04-02T00:00:00",
          "2009-04-03T00:00:00",
          "2009-04-05T00:00:00",
          "2009-04-06T00:00:00",
          "2009-04-14T00:00:00",
          "2009-04-20T00:00:00",
          "2009-04-23T00:00:00",
          "2009-05-09T00:00:00",
          "2009-05-14T00:00:00",
          "2009-05-17T00:00:00",
          "2009-05-18T00:00:00",
          "2009-05-21T00:00:00",
          "2009-05-29T00:00:00",
          "2009-06-04T00:00:00",
          "2009-06-04T00:00:00",
          "2009-06-05T00:00:00",
          "2009-06-15T00:00:00",
          "2009-06-23T00:00:00",
          "2009-06-23T00:00:00",
          "2009-07-07T00:00:00",
          "2009-07-11T00:00:00",
          "2009-07-13T00:00:00",
          "2009-07-14T00:00:00",
          "2009-08-29T00:00:00",
          "2009-09-08T00:00:00",
          "2009-09-09T00:00:00",
          "2009-09-09T00:00:00",
          "2009-09-11T00:00:00",
          "2009-09-23T00:00:00",
          "2009-11-10T00:00:00",
          "2009-11-16T00:00:00",
          "2009-12-01T00:00:00",
          "2009-12-06T00:00:00",
          "2009-12-08T00:00:00",
          "2009-12-10T00:00:00",
          "2009-12-18T00:00:00",
          "2009-12-28T00:00:00",
          "2009-12-29T00:00:00",
          "2010-01-05T00:00:00",
          "2010-01-07T00:00:00",
          "2010-01-14T00:00:00",
          "2010-01-17T00:00:00",
          "2010-01-22T00:00:00",
          "2010-01-27T00:00:00",
          "2010-01-27T00:00:00",
          "2010-01-29T00:00:00",
          "2010-02-01T00:00:00",
          "2010-02-04T00:00:00",
          "2010-02-09T00:00:00",
          "2010-02-19T00:00:00",
          "2010-03-03T00:00:00",
          "2010-03-13T00:00:00",
          "2010-03-19T00:00:00",
          "2010-03-20T00:00:00",
          "2010-03-21T00:00:00",
          "2010-03-23T00:00:00",
          "2010-03-28T00:00:00",
          "2010-03-31T00:00:00",
          "2010-04-08T00:00:00",
          "2010-04-09T00:00:00",
          "2010-04-15T00:00:00",
          "2010-04-22T00:00:00",
          "2010-04-25T00:00:00",
          "2010-04-29T00:00:00",
          "2010-05-01T00:00:00",
          "2010-05-01T00:00:00",
          "2010-05-10T00:00:00",
          "2010-05-22T00:00:00",
          "2010-05-27T00:00:00",
          "2010-05-28T00:00:00",
          "2010-06-02T00:00:00",
          "2010-06-07T00:00:00",
          "2010-06-09T00:00:00",
          "2010-06-15T00:00:00",
          "2010-06-15T00:00:00",
          "2010-06-16T00:00:00",
          "2010-06-21T00:00:00",
          "2010-06-23T00:00:00",
          "2010-07-01T00:00:00",
          "2010-07-02T00:00:00",
          "2010-07-21T00:00:00",
          "2010-07-29T00:00:00",
          "2010-08-02T00:00:00",
          "2010-08-13T00:00:00",
          "2010-09-11T00:00:00",
          "2010-09-23T00:00:00",
          "2010-11-03T00:00:00",
          "2010-11-06T00:00:00",
          "2010-11-08T00:00:00",
          "2010-11-10T00:00:00",
          "2010-11-16T00:00:00",
          "2010-12-03T00:00:00",
          "2011-01-12T00:00:00",
          "2011-01-26T00:00:00",
          "2011-02-01T00:00:00",
          "2011-02-03T00:00:00",
          "2011-02-07T00:00:00",
          "2011-02-10T00:00:00",
          "2011-02-11T00:00:00",
          "2011-02-23T00:00:00",
          "2011-03-18T00:00:00",
          "2011-03-19T00:00:00",
          "2011-03-20T00:00:00",
          "2011-03-21T00:00:00",
          "2011-03-28T00:00:00",
          "2011-03-30T00:00:00",
          "2011-04-13T00:00:00",
          "2011-04-26T00:00:00",
          "2011-04-27T00:00:00",
          "2011-04-29T00:00:00",
          "2011-04-29T00:00:00",
          "2011-04-30T00:00:00",
          "2011-05-01T00:00:00",
          "2011-05-06T00:00:00",
          "2011-05-16T00:00:00",
          "2011-05-19T00:00:00",
          "2011-05-20T00:00:00",
          "2011-05-20T00:00:00",
          "2011-05-25T00:00:00",
          "2011-05-29T00:00:00",
          "2011-05-30T00:00:00",
          "2011-06-22T00:00:00",
          "2011-06-24T00:00:00",
          "2011-06-29T00:00:00",
          "2011-07-25T00:00:00",
          "2011-07-31T00:00:00",
          "2011-08-02T00:00:00",
          "2011-08-30T00:00:00",
          "2011-09-08T00:00:00",
          "2011-09-19T00:00:00",
          "2011-09-20T00:00:00",
          "2011-09-21T00:00:00",
          "2011-10-16T00:00:00",
          "2011-10-20T00:00:00",
          "2011-11-16T00:00:00",
          "2011-12-02T00:00:00",
          "2011-12-06T00:00:00",
          "2011-12-17T00:00:00",
          "2012-01-05T00:00:00",
          "2012-01-25T00:00:00",
          "2012-02-01T00:00:00",
          "2012-02-03T00:00:00",
          "2012-02-29T00:00:00",
          "2012-03-04T00:00:00",
          "2012-03-26T00:00:00",
          "2012-03-29T00:00:00",
          "2012-04-23T00:00:00",
          "2012-04-28T00:00:00",
          "2012-05-14T00:00:00",
          "2012-06-13T00:00:00",
          "2012-06-28T00:00:00",
          "2012-07-20T00:00:00",
          "2012-07-23T00:00:00",
          "2012-09-12T00:00:00",
          "2012-09-14T00:00:00",
          "2012-09-25T00:00:00",
          "2012-09-25T00:00:00",
          "2012-10-29T00:00:00",
          "2012-10-30T00:00:00",
          "2012-11-06T00:00:00",
          "2012-11-09T00:00:00",
          "2012-11-14T00:00:00",
          "2012-11-19T00:00:00",
          "2012-12-14T00:00:00",
          "2012-12-16T00:00:00",
          "2012-12-19T00:00:00",
          "2012-12-21T00:00:00",
          "2013-01-14T00:00:00",
          "2013-01-16T00:00:00",
          "2013-01-21T00:00:00",
          "2013-01-21T00:00:00",
          "2013-01-29T00:00:00",
          "2013-02-12T00:00:00",
          "2013-02-13T00:00:00",
          "2013-02-15T00:00:00",
          "2013-02-26T00:00:00",
          "2013-02-27T00:00:00",
          "2013-03-22T00:00:00",
          "2013-04-02T00:00:00",
          "2013-04-03T00:00:00",
          "2013-04-08T00:00:00",
          "2013-04-11T00:00:00",
          "2013-04-15T00:00:00",
          "2013-04-16T00:00:00",
          "2013-04-17T00:00:00",
          "2013-04-18T00:00:00",
          "2013-04-19T00:00:00",
          "2013-04-25T00:00:00",
          "2013-04-25T00:00:00",
          "2013-04-27T00:00:00",
          "2013-05-03T00:00:00",
          "2013-05-15T00:00:00",
          "2013-05-19T00:00:00",
          "2013-05-23T00:00:00",
          "2013-05-24T00:00:00",
          "2013-06-07T00:00:00",
          "2013-06-11T00:00:00",
          "2013-06-17T00:00:00",
          "2013-06-19T00:00:00",
          "2013-06-30T00:00:00",
          "2013-07-19T00:00:00",
          "2013-07-24T00:00:00",
          "2013-07-27T00:00:00",
          "2013-08-09T00:00:00",
          "2013-08-28T00:00:00",
          "2013-08-31T00:00:00",
          "2013-09-10T00:00:00",
          "2013-09-22T00:00:00",
          "2013-09-24T00:00:00",
          "2013-10-02T00:00:00",
          "2013-10-21T00:00:00",
          "2013-11-11T00:00:00",
          "2013-11-14T00:00:00",
          "2013-11-23T00:00:00",
          "2013-12-05T00:00:00",
          "2013-12-10T00:00:00",
          "2013-12-20T00:00:00",
          "2014-01-17T00:00:00",
          "2014-01-29T00:00:00",
          "2014-02-06T00:00:00",
          "2014-03-26T00:00:00",
          "2014-04-10T00:00:00",
          "2014-04-17T00:00:00",
          "2014-04-24T00:00:00",
          "2014-04-27T00:00:00",
          "2014-04-29T00:00:00",
          "2014-05-03T00:00:00",
          "2014-05-21T00:00:00",
          "2014-05-27T00:00:00",
          "2014-05-28T00:00:00",
          "2014-05-30T00:00:00",
          "2014-06-04T00:00:00",
          "2014-06-06T00:00:00",
          "2014-06-30T00:00:00",
          "2014-07-18T00:00:00",
          "2014-07-21T00:00:00",
          "2014-08-01T00:00:00",
          "2014-08-07T00:00:00",
          "2014-08-09T00:00:00",
          "2014-08-14T00:00:00",
          "2014-08-28T00:00:00",
          "2014-09-03T00:00:00",
          "2014-09-03T00:00:00",
          "2014-09-10T00:00:00",
          "2014-09-16T00:00:00",
          "2014-09-24T00:00:00",
          "2014-09-24T00:00:00",
          "2014-09-25T00:00:00",
          "2014-10-17T00:00:00",
          "2014-10-28T00:00:00",
          "2014-11-05T00:00:00",
          "2014-11-14T00:00:00",
          "2014-11-14T00:00:00",
          "2014-11-15T00:00:00",
          "2014-11-20T00:00:00",
          "2014-11-24T00:00:00",
          "2014-12-02T00:00:00",
          "2014-12-17T00:00:00",
          "2014-12-19T00:00:00",
          "2015-01-09T00:00:00",
          "2015-01-12T00:00:00",
          "2015-01-13T00:00:00",
          "2015-01-21T00:00:00",
          "2015-01-27T00:00:00",
          "2015-02-05T00:00:00",
          "2015-02-11T00:00:00",
          "2015-02-13T00:00:00",
          "2015-02-18T00:00:00",
          "2015-03-03T00:00:00",
          "2015-03-07T00:00:00",
          "2015-03-10T00:00:00",
          "2015-03-30T00:00:00",
          "2015-04-02T00:00:00",
          "2015-04-09T00:00:00",
          "2015-04-10T00:00:00",
          "2015-04-11T00:00:00",
          "2015-04-11T00:00:00",
          "2015-04-23T00:00:00",
          "2015-04-25T00:00:00",
          "2015-05-08T00:00:00",
          "2015-05-22T00:00:00",
          "2015-06-01T00:00:00",
          "2015-06-06T00:00:00",
          "2015-06-08T00:00:00",
          "2015-06-17T00:00:00",
          "2015-06-18T00:00:00",
          "2015-06-19T00:00:00",
          "2015-06-24T00:00:00",
          "2015-06-25T00:00:00",
          "2015-06-26T00:00:00",
          "2015-07-06T00:00:00",
          "2015-07-13T00:00:00",
          "2015-07-14T00:00:00",
          "2015-07-14T00:00:00",
          "2015-07-15T00:00:00",
          "2015-07-26T00:00:00",
          "2015-07-26T00:00:00",
          "2015-07-28T00:00:00",
          "2015-08-03T00:00:00",
          "2015-08-05T00:00:00",
          "2015-08-27T00:00:00",
          "2015-09-11T00:00:00",
          "2015-09-19T00:00:00",
          "2015-09-23T00:00:00",
          "2015-09-25T00:00:00",
          "2015-09-25T00:00:00",
          "2015-09-28T00:00:00",
          "2015-10-01T00:00:00",
          "2015-10-02T00:00:00",
          "2015-10-15T00:00:00",
          "2015-11-13T00:00:00",
          "2015-11-13T00:00:00",
          "2015-11-16T00:00:00",
          "2015-11-21T00:00:00",
          "2015-11-22T00:00:00",
          "2015-11-24T00:00:00",
          "2015-11-30T00:00:00",
          "2015-12-01T00:00:00",
          "2015-12-06T00:00:00",
          "2015-12-09T00:00:00",
          "2015-12-10T00:00:00",
          "2015-12-12T00:00:00",
          "2015-12-14T00:00:00",
          "2015-12-15T00:00:00",
          "2015-12-17T00:00:00",
          "2015-12-18T00:00:00",
          "2016-01-01T00:00:00",
          "2016-01-05T00:00:00",
          "2016-01-13T00:00:00",
          "2016-01-17T00:00:00",
          "2016-01-27T00:00:00",
          "2016-02-03T00:00:00",
          "2016-02-04T00:00:00",
          "2016-02-04T00:00:00",
          "2016-02-10T00:00:00",
          "2016-02-13T00:00:00",
          "2016-02-16T00:00:00",
          "2016-02-20T00:00:00",
          "2016-02-23T00:00:00",
          "2016-02-25T00:00:00",
          "2016-02-26T00:00:00",
          "2016-03-16T00:00:00",
          "2016-03-21T00:00:00",
          "2016-03-21T00:00:00",
          "2016-03-22T00:00:00",
          "2016-03-23T00:00:00",
          "2016-04-01T00:00:00",
          "2016-04-07T00:00:00",
          "2016-04-23T00:00:00",
          "2016-04-25T00:00:00",
          "2016-04-30T00:00:00",
          "2016-05-04T00:00:00",
          "2016-05-07T00:00:00",
          "2016-05-24T00:00:00",
          "2016-05-24T00:00:00",
          "2016-05-25T00:00:00",
          "2016-05-25T00:00:00",
          "2016-05-26T00:00:00",
          "2016-05-27T00:00:00",
          "2016-06-02T00:00:00",
          "2016-06-09T00:00:00",
          "2016-06-12T00:00:00",
          "2016-06-14T00:00:00",
          "2016-06-14T00:00:00",
          "2016-06-16T00:00:00",
          "2016-06-23T00:00:00",
          "2016-06-29T00:00:00",
          "2016-07-09T00:00:00",
          "2016-07-12T00:00:00",
          "2016-08-04T00:00:00",
          "2016-08-23T00:00:00",
          "2016-09-05T00:00:00",
          "2016-09-06T00:00:00",
          "2016-09-06T00:00:00",
          "2016-09-11T00:00:00",
          "2016-09-19T00:00:00",
          "2016-09-20T00:00:00",
          "2016-09-24T00:00:00",
          "2016-09-30T00:00:00",
          "2016-11-09T00:00:00",
          "2016-11-10T00:00:00",
          "2016-11-14T00:00:00",
          "2016-11-16T00:00:00",
          "2016-11-20T00:00:00",
          "2016-11-20T00:00:00",
          "2016-12-04T00:00:00",
          "2016-12-04T00:00:00",
          "2016-12-06T00:00:00",
          "2016-12-16T00:00:00",
          "2016-12-27T00:00:00",
          "2017-01-10T00:00:00",
          "2017-01-12T00:00:00",
          "2017-01-14T00:00:00",
          "2017-01-16T00:00:00",
          "2017-01-18T00:00:00",
          "2017-01-20T00:00:00"
         ],
         "legendgroup": "",
         "line": {
          "color": "#636efa",
          "dash": "solid"
         },
         "marker": {
          "symbol": "circle"
         },
         "mode": "lines",
         "name": "",
         "orientation": "v",
         "showlegend": false,
         "type": "scatter",
         "x": [
          "2002-10-02T00:00:00",
          "2005-01-06T00:00:00",
          "2005-10-25T00:00:00",
          "2005-12-15T00:00:00",
          "2006-01-31T00:00:00",
          "2006-07-20T00:00:00",
          "2007-03-04T00:00:00",
          "2007-03-13T00:00:00",
          "2007-03-21T00:00:00",
          "2007-05-23T00:00:00",
          "2007-11-10T00:00:00",
          "2008-01-03T00:00:00",
          "2008-01-08T00:00:00",
          "2008-01-20T00:00:00",
          "2008-01-26T00:00:00",
          "2008-07-15T00:00:00",
          "2008-10-01T00:00:00",
          "2008-11-07T00:00:00",
          "2008-11-18T00:00:00",
          "2008-11-24T00:00:00",
          "2008-11-25T00:00:00",
          "2008-11-26T00:00:00",
          "2008-12-01T00:00:00",
          "2008-12-03T00:00:00",
          "2009-01-05T00:00:00",
          "2009-01-08T00:00:00",
          "2009-01-09T00:00:00",
          "2009-01-18T00:00:00",
          "2009-01-20T00:00:00",
          "2009-01-24T00:00:00",
          "2009-02-04T00:00:00",
          "2009-02-09T00:00:00",
          "2009-02-12T00:00:00",
          "2009-02-12T00:00:00",
          "2009-02-24T00:00:00",
          "2009-02-27T00:00:00",
          "2009-03-10T00:00:00",
          "2009-04-02T00:00:00",
          "2009-04-03T00:00:00",
          "2009-04-05T00:00:00",
          "2009-04-06T00:00:00",
          "2009-04-14T00:00:00",
          "2009-04-20T00:00:00",
          "2009-04-23T00:00:00",
          "2009-05-09T00:00:00",
          "2009-05-14T00:00:00",
          "2009-05-17T00:00:00",
          "2009-05-18T00:00:00",
          "2009-05-21T00:00:00",
          "2009-05-29T00:00:00",
          "2009-06-04T00:00:00",
          "2009-06-04T00:00:00",
          "2009-06-05T00:00:00",
          "2009-06-15T00:00:00",
          "2009-06-23T00:00:00",
          "2009-06-23T00:00:00",
          "2009-07-07T00:00:00",
          "2009-07-11T00:00:00",
          "2009-07-13T00:00:00",
          "2009-07-14T00:00:00",
          "2009-08-29T00:00:00",
          "2009-09-08T00:00:00",
          "2009-09-09T00:00:00",
          "2009-09-09T00:00:00",
          "2009-09-11T00:00:00",
          "2009-09-23T00:00:00",
          "2009-11-10T00:00:00",
          "2009-11-16T00:00:00",
          "2009-12-01T00:00:00",
          "2009-12-06T00:00:00",
          "2009-12-08T00:00:00",
          "2009-12-10T00:00:00",
          "2009-12-18T00:00:00",
          "2009-12-28T00:00:00",
          "2009-12-29T00:00:00",
          "2010-01-05T00:00:00",
          "2010-01-07T00:00:00",
          "2010-01-14T00:00:00",
          "2010-01-17T00:00:00",
          "2010-01-22T00:00:00",
          "2010-01-27T00:00:00",
          "2010-01-27T00:00:00",
          "2010-01-29T00:00:00",
          "2010-02-01T00:00:00",
          "2010-02-04T00:00:00",
          "2010-02-09T00:00:00",
          "2010-02-19T00:00:00",
          "2010-03-03T00:00:00",
          "2010-03-13T00:00:00",
          "2010-03-19T00:00:00",
          "2010-03-20T00:00:00",
          "2010-03-21T00:00:00",
          "2010-03-23T00:00:00",
          "2010-03-28T00:00:00",
          "2010-03-31T00:00:00",
          "2010-04-08T00:00:00",
          "2010-04-09T00:00:00",
          "2010-04-15T00:00:00",
          "2010-04-22T00:00:00",
          "2010-04-25T00:00:00",
          "2010-04-29T00:00:00",
          "2010-05-01T00:00:00",
          "2010-05-01T00:00:00",
          "2010-05-10T00:00:00",
          "2010-05-22T00:00:00",
          "2010-05-27T00:00:00",
          "2010-05-28T00:00:00",
          "2010-06-02T00:00:00",
          "2010-06-07T00:00:00",
          "2010-06-09T00:00:00",
          "2010-06-15T00:00:00",
          "2010-06-15T00:00:00",
          "2010-06-16T00:00:00",
          "2010-06-21T00:00:00",
          "2010-06-23T00:00:00",
          "2010-07-01T00:00:00",
          "2010-07-02T00:00:00",
          "2010-07-21T00:00:00",
          "2010-07-29T00:00:00",
          "2010-08-02T00:00:00",
          "2010-08-13T00:00:00",
          "2010-09-11T00:00:00",
          "2010-09-23T00:00:00",
          "2010-11-03T00:00:00",
          "2010-11-06T00:00:00",
          "2010-11-08T00:00:00",
          "2010-11-10T00:00:00",
          "2010-11-16T00:00:00",
          "2010-12-03T00:00:00",
          "2011-01-12T00:00:00",
          "2011-01-26T00:00:00",
          "2011-02-01T00:00:00",
          "2011-02-03T00:00:00",
          "2011-02-07T00:00:00",
          "2011-02-10T00:00:00",
          "2011-02-11T00:00:00",
          "2011-02-23T00:00:00",
          "2011-03-18T00:00:00",
          "2011-03-19T00:00:00",
          "2011-03-20T00:00:00",
          "2011-03-21T00:00:00",
          "2011-03-28T00:00:00",
          "2011-03-30T00:00:00",
          "2011-04-13T00:00:00",
          "2011-04-26T00:00:00",
          "2011-04-27T00:00:00",
          "2011-04-29T00:00:00",
          "2011-04-29T00:00:00",
          "2011-04-30T00:00:00",
          "2011-05-01T00:00:00",
          "2011-05-06T00:00:00",
          "2011-05-16T00:00:00",
          "2011-05-19T00:00:00",
          "2011-05-20T00:00:00",
          "2011-05-20T00:00:00",
          "2011-05-25T00:00:00",
          "2011-05-29T00:00:00",
          "2011-05-30T00:00:00",
          "2011-06-22T00:00:00",
          "2011-06-24T00:00:00",
          "2011-06-29T00:00:00",
          "2011-07-25T00:00:00",
          "2011-07-31T00:00:00",
          "2011-08-02T00:00:00",
          "2011-08-30T00:00:00",
          "2011-09-08T00:00:00",
          "2011-09-19T00:00:00",
          "2011-09-20T00:00:00",
          "2011-09-21T00:00:00",
          "2011-10-16T00:00:00",
          "2011-10-20T00:00:00",
          "2011-11-16T00:00:00",
          "2011-12-02T00:00:00",
          "2011-12-06T00:00:00",
          "2011-12-17T00:00:00",
          "2012-01-05T00:00:00",
          "2012-01-25T00:00:00",
          "2012-02-01T00:00:00",
          "2012-02-03T00:00:00",
          "2012-02-29T00:00:00",
          "2012-03-04T00:00:00",
          "2012-03-26T00:00:00",
          "2012-03-29T00:00:00",
          "2012-04-23T00:00:00",
          "2012-04-28T00:00:00",
          "2012-05-14T00:00:00",
          "2012-06-13T00:00:00",
          "2012-06-28T00:00:00",
          "2012-07-20T00:00:00",
          "2012-07-23T00:00:00",
          "2012-09-12T00:00:00",
          "2012-09-14T00:00:00",
          "2012-09-25T00:00:00",
          "2012-09-25T00:00:00",
          "2012-10-29T00:00:00",
          "2012-10-30T00:00:00",
          "2012-11-06T00:00:00",
          "2012-11-09T00:00:00",
          "2012-11-14T00:00:00",
          "2012-11-19T00:00:00",
          "2012-12-14T00:00:00",
          "2012-12-16T00:00:00",
          "2012-12-19T00:00:00",
          "2012-12-21T00:00:00",
          "2013-01-14T00:00:00",
          "2013-01-16T00:00:00",
          "2013-01-21T00:00:00",
          "2013-01-21T00:00:00",
          "2013-01-29T00:00:00",
          "2013-02-12T00:00:00",
          "2013-02-13T00:00:00",
          "2013-02-15T00:00:00",
          "2013-02-26T00:00:00",
          "2013-02-27T00:00:00",
          "2013-03-22T00:00:00",
          "2013-04-02T00:00:00",
          "2013-04-03T00:00:00",
          "2013-04-08T00:00:00",
          "2013-04-11T00:00:00",
          "2013-04-15T00:00:00",
          "2013-04-16T00:00:00",
          "2013-04-17T00:00:00",
          "2013-04-18T00:00:00",
          "2013-04-19T00:00:00",
          "2013-04-25T00:00:00",
          "2013-04-25T00:00:00",
          "2013-04-27T00:00:00",
          "2013-05-03T00:00:00",
          "2013-05-15T00:00:00",
          "2013-05-19T00:00:00",
          "2013-05-23T00:00:00",
          "2013-05-24T00:00:00",
          "2013-06-07T00:00:00",
          "2013-06-11T00:00:00",
          "2013-06-17T00:00:00",
          "2013-06-19T00:00:00",
          "2013-06-30T00:00:00",
          "2013-07-19T00:00:00",
          "2013-07-24T00:00:00",
          "2013-07-27T00:00:00",
          "2013-08-09T00:00:00",
          "2013-08-28T00:00:00",
          "2013-08-31T00:00:00",
          "2013-09-10T00:00:00",
          "2013-09-22T00:00:00",
          "2013-09-24T00:00:00",
          "2013-10-02T00:00:00",
          "2013-10-21T00:00:00",
          "2013-11-11T00:00:00",
          "2013-11-14T00:00:00",
          "2013-11-23T00:00:00",
          "2013-12-05T00:00:00",
          "2013-12-10T00:00:00",
          "2013-12-20T00:00:00",
          "2014-01-17T00:00:00",
          "2014-01-29T00:00:00",
          "2014-02-06T00:00:00",
          "2014-03-26T00:00:00",
          "2014-04-10T00:00:00",
          "2014-04-17T00:00:00",
          "2014-04-24T00:00:00",
          "2014-04-27T00:00:00",
          "2014-04-29T00:00:00",
          "2014-05-03T00:00:00",
          "2014-05-21T00:00:00",
          "2014-05-27T00:00:00",
          "2014-05-28T00:00:00",
          "2014-05-30T00:00:00",
          "2014-06-04T00:00:00",
          "2014-06-06T00:00:00",
          "2014-06-30T00:00:00",
          "2014-07-18T00:00:00",
          "2014-07-21T00:00:00",
          "2014-08-01T00:00:00",
          "2014-08-07T00:00:00",
          "2014-08-09T00:00:00",
          "2014-08-14T00:00:00",
          "2014-08-28T00:00:00",
          "2014-09-03T00:00:00",
          "2014-09-03T00:00:00",
          "2014-09-10T00:00:00",
          "2014-09-16T00:00:00",
          "2014-09-24T00:00:00",
          "2014-09-24T00:00:00",
          "2014-09-25T00:00:00",
          "2014-10-17T00:00:00",
          "2014-10-28T00:00:00",
          "2014-11-05T00:00:00",
          "2014-11-14T00:00:00",
          "2014-11-14T00:00:00",
          "2014-11-15T00:00:00",
          "2014-11-20T00:00:00",
          "2014-11-24T00:00:00",
          "2014-12-02T00:00:00",
          "2014-12-17T00:00:00",
          "2014-12-19T00:00:00",
          "2015-01-09T00:00:00",
          "2015-01-12T00:00:00",
          "2015-01-13T00:00:00",
          "2015-01-21T00:00:00",
          "2015-01-27T00:00:00",
          "2015-02-05T00:00:00",
          "2015-02-11T00:00:00",
          "2015-02-13T00:00:00",
          "2015-02-18T00:00:00",
          "2015-03-03T00:00:00",
          "2015-03-07T00:00:00",
          "2015-03-10T00:00:00",
          "2015-03-30T00:00:00",
          "2015-04-02T00:00:00",
          "2015-04-09T00:00:00",
          "2015-04-10T00:00:00",
          "2015-04-11T00:00:00",
          "2015-04-11T00:00:00",
          "2015-04-23T00:00:00",
          "2015-04-25T00:00:00",
          "2015-05-08T00:00:00",
          "2015-05-22T00:00:00",
          "2015-06-01T00:00:00",
          "2015-06-06T00:00:00",
          "2015-06-08T00:00:00",
          "2015-06-17T00:00:00",
          "2015-06-18T00:00:00",
          "2015-06-19T00:00:00",
          "2015-06-24T00:00:00",
          "2015-06-25T00:00:00",
          "2015-06-26T00:00:00",
          "2015-07-06T00:00:00",
          "2015-07-13T00:00:00",
          "2015-07-14T00:00:00",
          "2015-07-14T00:00:00",
          "2015-07-15T00:00:00",
          "2015-07-26T00:00:00",
          "2015-07-26T00:00:00",
          "2015-07-28T00:00:00",
          "2015-08-03T00:00:00",
          "2015-08-05T00:00:00",
          "2015-08-27T00:00:00",
          "2015-09-11T00:00:00",
          "2015-09-19T00:00:00",
          "2015-09-23T00:00:00",
          "2015-09-25T00:00:00",
          "2015-09-25T00:00:00",
          "2015-09-28T00:00:00",
          "2015-10-01T00:00:00",
          "2015-10-02T00:00:00",
          "2015-10-15T00:00:00",
          "2015-11-13T00:00:00",
          "2015-11-13T00:00:00",
          "2015-11-16T00:00:00",
          "2015-11-21T00:00:00",
          "2015-11-22T00:00:00",
          "2015-11-24T00:00:00",
          "2015-11-30T00:00:00",
          "2015-12-01T00:00:00",
          "2015-12-06T00:00:00",
          "2015-12-09T00:00:00",
          "2015-12-10T00:00:00",
          "2015-12-12T00:00:00",
          "2015-12-14T00:00:00",
          "2015-12-15T00:00:00",
          "2015-12-17T00:00:00",
          "2015-12-18T00:00:00",
          "2016-01-01T00:00:00",
          "2016-01-05T00:00:00",
          "2016-01-13T00:00:00",
          "2016-01-17T00:00:00",
          "2016-01-27T00:00:00",
          "2016-02-03T00:00:00",
          "2016-02-04T00:00:00",
          "2016-02-04T00:00:00",
          "2016-02-10T00:00:00",
          "2016-02-13T00:00:00",
          "2016-02-16T00:00:00",
          "2016-02-20T00:00:00",
          "2016-02-23T00:00:00",
          "2016-02-25T00:00:00",
          "2016-02-26T00:00:00",
          "2016-03-16T00:00:00",
          "2016-03-21T00:00:00",
          "2016-03-21T00:00:00",
          "2016-03-22T00:00:00",
          "2016-03-23T00:00:00",
          "2016-04-01T00:00:00",
          "2016-04-07T00:00:00",
          "2016-04-23T00:00:00",
          "2016-04-25T00:00:00",
          "2016-04-30T00:00:00",
          "2016-05-04T00:00:00",
          "2016-05-07T00:00:00",
          "2016-05-24T00:00:00",
          "2016-05-24T00:00:00",
          "2016-05-25T00:00:00",
          "2016-05-25T00:00:00",
          "2016-05-26T00:00:00",
          "2016-05-27T00:00:00",
          "2016-06-02T00:00:00",
          "2016-06-09T00:00:00",
          "2016-06-12T00:00:00",
          "2016-06-14T00:00:00",
          "2016-06-14T00:00:00",
          "2016-06-16T00:00:00",
          "2016-06-23T00:00:00",
          "2016-06-29T00:00:00",
          "2016-07-09T00:00:00",
          "2016-07-12T00:00:00",
          "2016-08-04T00:00:00",
          "2016-08-23T00:00:00",
          "2016-09-05T00:00:00",
          "2016-09-06T00:00:00",
          "2016-09-06T00:00:00",
          "2016-09-11T00:00:00",
          "2016-09-19T00:00:00",
          "2016-09-20T00:00:00",
          "2016-09-24T00:00:00",
          "2016-09-30T00:00:00",
          "2016-11-09T00:00:00",
          "2016-11-10T00:00:00",
          "2016-11-14T00:00:00",
          "2016-11-16T00:00:00",
          "2016-11-20T00:00:00",
          "2016-11-20T00:00:00",
          "2016-12-04T00:00:00",
          "2016-12-04T00:00:00",
          "2016-12-06T00:00:00",
          "2016-12-16T00:00:00",
          "2016-12-27T00:00:00",
          "2017-01-10T00:00:00",
          "2017-01-12T00:00:00",
          "2017-01-14T00:00:00",
          "2017-01-16T00:00:00",
          "2017-01-18T00:00:00",
          "2017-01-20T00:00:00"
         ],
         "xaxis": "x",
         "y": [
          0.5661663216011042,
          0.5696825396825398,
          0.45583549783549776,
          0.47364389233954446,
          0.4512049062049061,
          0.43728549978549963,
          0.48432164069804506,
          0.4135696794787703,
          0.4648168978877639,
          0.4751991577263315,
          0.40207558940641647,
          0.4814622687918142,
          0.4449554250924114,
          0.5137788110879025,
          0.4758844202392589,
          0.40011558042456963,
          0.43455550550926264,
          0.4097008547008547,
          0.4811477633477632,
          0.35065205627705653,
          0.4723138127304793,
          0.3810923290801338,
          0.40265211207657253,
          0.4064507955812304,
          0.3935449194999756,
          0.4444710876485685,
          0.4114297246469378,
          0.5802785265049416,
          0.4703723702861634,
          0.4280546653923276,
          0.4149433474688576,
          0.4626553307803306,
          0.46636390358612584,
          0.5300743190006992,
          0.4322582072752142,
          0.43965427128427104,
          0.4655087540664465,
          0.4267431339152652,
          0.463035523748552,
          0.4465936108143901,
          0.48927542741496227,
          0.4301640621953128,
          0.5065634297115779,
          0.5252581498549243,
          0.42610184739814383,
          0.4904328065573422,
          0.48126102292768963,
          0.4852276854458671,
          0.4303324498172982,
          0.3680443224963773,
          0.4561005905499302,
          0.48869511440940033,
          0.44099013271548493,
          0.4257899965203341,
          0.49591690576539044,
          0.5101770451770451,
          0.43048972111298967,
          0.4732016698779704,
          0.3874738675958187,
          0.4736552711311554,
          0.4909841131974889,
          0.4722182101387711,
          0.44446740850925887,
          0.5135838383838381,
          0.49616001282667954,
          0.4153558453354095,
          0.45697413697413686,
          0.4463918566381623,
          0.45470574270731007,
          0.4526671906136193,
          0.45063848871225926,
          0.460084822063695,
          0.41112089299589294,
          0.4595523051583658,
          0.4610937500000001,
          0.41692411754911746,
          0.4393229778262673,
          0.43572402597402593,
          0.4582023769291429,
          0.4631979735240608,
          0.4314304415180074,
          0.4854497354497355,
          0.43997514232588864,
          0.4344091560069003,
          0.4928845083487939,
          0.48711538461538456,
          0.4553896103896106,
          0.44490658753874623,
          0.3768498817966903,
          0.4328149520960682,
          0.528006145389414,
          0.45563900624141573,
          0.5400285320739867,
          0.5003885920034247,
          0.4155014665798981,
          0.49725359276140546,
          0.4581383382699172,
          0.4390007734072481,
          0.4073240693583832,
          0.49555137844611535,
          0.538390209563679,
          0.49716568475674444,
          0.5287085245581487,
          0.4900585688820984,
          0.44336003962869636,
          0.4979496495567926,
          0.47669969106210713,
          0.41346166508213433,
          0.5192734036796537,
          0.44380401557820925,
          0.4851174078446807,
          0.4892882149416237,
          0.5141639610389609,
          0.5141099154813439,
          0.5029311786698148,
          0.4884076479076479,
          0.5045391170391169,
          0.44021565707735905,
          0.46187952312238034,
          0.46148665766146973,
          0.3966376426603698,
          0.5224266474266474,
          0.4317569214774183,
          0.4666150793650792,
          0.43234043491685425,
          0.4330114320955907,
          0.44877816817885297,
          0.4345252613240417,
          0.4637474986646257,
          0.5282540689284871,
          0.4184891512527878,
          0.4382801701222754,
          0.4719771879607944,
          0.44434704184704243,
          0.42898534031170704,
          0.4614711969317232,
          0.3271662763466043,
          0.3735808767951625,
          0.29101540616246496,
          0.43721244263898285,
          0.4759212825327279,
          0.43567077194984205,
          0.4322997439464505,
          0.4364859347002204,
          0.36177777777777786,
          0.5501417233560091,
          0.5532135076252724,
          0.5028102609271443,
          0.49131703330682913,
          0.43778195488721794,
          0.5402798149562856,
          0.5280567465495694,
          0.4510470994868586,
          0.46476533484730215,
          0.5852228372720176,
          0.4757684898183386,
          0.4983557466196356,
          0.4825731974119071,
          0.4283803110469778,
          0.4593130468130466,
          0.41828572997051255,
          0.46953786702427996,
          0.5290079365079365,
          0.45669063910999397,
          0.45170944302012267,
          0.43828344306640127,
          0.43780806836841346,
          0.4194890607758253,
          0.42154745751760664,
          0.5051059087111718,
          0.5252509099524025,
          0.44184626791893217,
          0.4667523448773449,
          0.43553507424475224,
          0.5204545454545455,
          0.4465758982072543,
          0.4098744085371993,
          0.4662328948560833,
          0.459895227788085,
          0.5357528124518417,
          0.4511896569613962,
          0.4640161135161137,
          0.45153738685556855,
          0.4184345543994669,
          0.514510816874098,
          0.49689739313509823,
          0.4857344482002015,
          0.49917469765684047,
          0.481064272703617,
          0.4183172498797501,
          0.5265316627816629,
          0.4827258297258298,
          0.460174719348448,
          0.45131534236372955,
          0.45511076225361957,
          0.5013960803176488,
          0.47437037424940665,
          0.4086150289376094,
          0.4082251082251082,
          0.46543506757792485,
          0.5015625000000001,
          0.5190009337068161,
          0.41022840007215006,
          0.49775219729765185,
          0.394263267313726,
          0.5048714207905384,
          0.451187217800121,
          0.6013265306122448,
          0.42549190284541855,
          0.5102062593224213,
          0.43573521430727086,
          0.5109925788497216,
          0.4867878290292083,
          0.4822002164502168,
          0.5524932614555255,
          0.49669256239023685,
          0.49302751113620674,
          0.43716822991823007,
          0.46152665468703186,
          0.47620334620334637,
          0.5140818903318904,
          0.3933537946428571,
          0.49367838437282896,
          0.5352097505668935,
          0.4620420979986197,
          0.5562804232804233,
          0.5023173484269738,
          0.4243830215905689,
          0.5619666506333173,
          0.4722612624763961,
          0.43534361302653996,
          0.460941672362725,
          0.4670516085221966,
          0.49111962481962496,
          0.49692208322723036,
          0.4747209700308874,
          0.4662188221500725,
          0.42043335852859665,
          0.43995758849640093,
          0.4680138248847926,
          0.42137042336194885,
          0.4503942984818561,
          0.4176820728291317,
          0.40536845452099707,
          0.5104452790916882,
          0.42420813720486217,
          0.4005909881594812,
          0.47248893994030167,
          0.4876291486291487,
          0.4451080097348753,
          0.47472464244616136,
          0.5425757575757577,
          0.5604698079698082,
          0.40405325836360323,
          0.4410360849027519,
          0.43080506511134803,
          0.5111957955972044,
          0.4675089796684224,
          0.5266072052644105,
          0.36542000617343073,
          0.42622053872053867,
          0.45253544987507255,
          0.5227145870003014,
          0.4605380203481468,
          0.45908765725667133,
          0.4211026149343907,
          0.4072304943118895,
          0.40816964958756,
          0.5619010867604617,
          0.4532210371132526,
          0.43617327290764807,
          0.5045906659765356,
          0.46734804990124146,
          0.46974857704024375,
          0.43434305460621253,
          0.47218253968253965,
          0.4220883977133977,
          0.4509174376821435,
          0.46972196980214476,
          0.5438670316611491,
          0.37120903584719384,
          0.4662547270736927,
          0.4694462620357761,
          0.4024891774891777,
          0.474034163059163,
          0.4698132649243759,
          0.5606594369349471,
          0.38226879476879483,
          0.4752394070575888,
          0.4357981549600045,
          0.4436733834948121,
          0.43180474655884465,
          0.5743326118326119,
          0.43728572416928596,
          0.4235043961563298,
          0.4253487484737486,
          0.4441781226379441,
          0.4233897073076176,
          0.40661079911079917,
          0.4489515739129144,
          0.485984792984793,
          0.5396364229805788,
          0.4838041125541125,
          0.4571904893485441,
          0.4840996555855044,
          0.46779415779415784,
          0.4721959713103627,
          0.5124186473903454,
          0.48880602293163866,
          0.42655566792266303,
          0.470525501318605,
          0.6005065720371843,
          0.4584272727272729,
          0.3993130553656867,
          0.5048735119047618,
          0.5066477425014011,
          0.4672001377596276,
          0.5055319966939685,
          0.4579592963295493,
          0.5029734642929087,
          0.4205816461877069,
          0.4967917547568709,
          0.4434731106372897,
          0.47447603190460336,
          0.4521033544644657,
          0.4576551955339833,
          0.537272563295291,
          0.4786283161283161,
          0.49178502790228473,
          0.4872202629020809,
          0.4694749933974071,
          0.48058201058201067,
          0.4689644922303571,
          0.5079437965662457,
          0.433906538715282,
          0.45322816266196053,
          0.4510268330517848,
          0.4534503244182583,
          0.49752901034151026,
          0.47639016814548724,
          0.5163511050353154,
          0.37150451332933077,
          0.44628860028860046,
          0.45407474195221725,
          0.4341179653679653,
          0.5206260325825541,
          0.4468224036620264,
          0.4843521421107629,
          0.39835802469135806,
          0.4695615042553817,
          0.39854324303332817,
          0.45924438349007307,
          0.42362187769164517,
          0.4667862504436578,
          0.508948202335299,
          0.3975194547515975,
          0.45620607333842617,
          0.5325063637984986,
          0.4674429073342118,
          0.3986446945489499,
          0.48958011975253335,
          0.4298773818773818,
          0.3239563041125541,
          0.4246623977873978,
          0.485330167717711,
          0.4265519210741844,
          0.49186900056465266,
          0.5061193212917352,
          0.44811651414144493,
          0.5008239348370929,
          0.5435190208291469,
          0.4913136199549243,
          0.5764379910213244,
          0.43562976705833845,
          0.3782538499751614,
          0.43181969148001764,
          0.4289190327744544,
          0.47383549610112113,
          0.5116383781235269,
          0.4908355841366316,
          0.44431706677161226,
          0.49102692795645814,
          0.5194247234247236,
          0.44316010721951316,
          0.5224229242979241,
          0.4679664603784322,
          0.4559787320298121,
          0.4989437288115701,
          0.5189094666539654,
          0.48008307689633006,
          0.42017349178212693,
          0.4818836718836719,
          0.38125,
          0.4629021431243651,
          0.5687222222222222,
          0.522437263257576,
          0.4431499685090844,
          0.5061904761904762,
          0.5703067765567764,
          0.4658263163711883,
          0.48565685894954197,
          0.5383195970695971,
          0.41374785393033564,
          0.47764351149536355,
          0.4596627337803808,
          0.518935609844701,
          0.45242333550992775,
          0.4598773448773447,
          0.3728410478410479,
          0.46203595658073277,
          0.41368092691622094,
          0.5739353764921945,
          0.5160450937950937,
          0.45131472949028073,
          0.47221273857871804,
          0.4218106083012916,
          0.4909763872491143,
          0.5063271604938271,
          0.45399610136452245,
          0.47771707070707065,
          0.4323010146819671,
          0.469587465332146,
          0.4963702733730359,
          0.4423253430966196,
          0.43048749210858595,
          0.4398882027558497,
          0.3982140997604916,
          0.500203537294002,
          0.4963195534624107,
          0.4782407407407407,
          0.48931137960988735,
          0.5012806637806638,
          0.48478139793929265
         ],
         "yaxis": "y"
        }
       ],
       "layout": {
        "legend": {
         "tracegroupgap": 0
        },
        "template": {
         "data": {
          "bar": [
           {
            "error_x": {
             "color": "#2a3f5f"
            },
            "error_y": {
             "color": "#2a3f5f"
            },
            "marker": {
             "line": {
              "color": "#E5ECF6",
              "width": 0.5
             },
             "pattern": {
              "fillmode": "overlay",
              "size": 10,
              "solidity": 0.2
             }
            },
            "type": "bar"
           }
          ],
          "barpolar": [
           {
            "marker": {
             "line": {
              "color": "#E5ECF6",
              "width": 0.5
             },
             "pattern": {
              "fillmode": "overlay",
              "size": 10,
              "solidity": 0.2
             }
            },
            "type": "barpolar"
           }
          ],
          "carpet": [
           {
            "aaxis": {
             "endlinecolor": "#2a3f5f",
             "gridcolor": "white",
             "linecolor": "white",
             "minorgridcolor": "white",
             "startlinecolor": "#2a3f5f"
            },
            "baxis": {
             "endlinecolor": "#2a3f5f",
             "gridcolor": "white",
             "linecolor": "white",
             "minorgridcolor": "white",
             "startlinecolor": "#2a3f5f"
            },
            "type": "carpet"
           }
          ],
          "choropleth": [
           {
            "colorbar": {
             "outlinewidth": 0,
             "ticks": ""
            },
            "type": "choropleth"
           }
          ],
          "contour": [
           {
            "colorbar": {
             "outlinewidth": 0,
             "ticks": ""
            },
            "colorscale": [
             [
              0,
              "#0d0887"
             ],
             [
              0.1111111111111111,
              "#46039f"
             ],
             [
              0.2222222222222222,
              "#7201a8"
             ],
             [
              0.3333333333333333,
              "#9c179e"
             ],
             [
              0.4444444444444444,
              "#bd3786"
             ],
             [
              0.5555555555555556,
              "#d8576b"
             ],
             [
              0.6666666666666666,
              "#ed7953"
             ],
             [
              0.7777777777777778,
              "#fb9f3a"
             ],
             [
              0.8888888888888888,
              "#fdca26"
             ],
             [
              1,
              "#f0f921"
             ]
            ],
            "type": "contour"
           }
          ],
          "contourcarpet": [
           {
            "colorbar": {
             "outlinewidth": 0,
             "ticks": ""
            },
            "type": "contourcarpet"
           }
          ],
          "heatmap": [
           {
            "colorbar": {
             "outlinewidth": 0,
             "ticks": ""
            },
            "colorscale": [
             [
              0,
              "#0d0887"
             ],
             [
              0.1111111111111111,
              "#46039f"
             ],
             [
              0.2222222222222222,
              "#7201a8"
             ],
             [
              0.3333333333333333,
              "#9c179e"
             ],
             [
              0.4444444444444444,
              "#bd3786"
             ],
             [
              0.5555555555555556,
              "#d8576b"
             ],
             [
              0.6666666666666666,
              "#ed7953"
             ],
             [
              0.7777777777777778,
              "#fb9f3a"
             ],
             [
              0.8888888888888888,
              "#fdca26"
             ],
             [
              1,
              "#f0f921"
             ]
            ],
            "type": "heatmap"
           }
          ],
          "heatmapgl": [
           {
            "colorbar": {
             "outlinewidth": 0,
             "ticks": ""
            },
            "colorscale": [
             [
              0,
              "#0d0887"
             ],
             [
              0.1111111111111111,
              "#46039f"
             ],
             [
              0.2222222222222222,
              "#7201a8"
             ],
             [
              0.3333333333333333,
              "#9c179e"
             ],
             [
              0.4444444444444444,
              "#bd3786"
             ],
             [
              0.5555555555555556,
              "#d8576b"
             ],
             [
              0.6666666666666666,
              "#ed7953"
             ],
             [
              0.7777777777777778,
              "#fb9f3a"
             ],
             [
              0.8888888888888888,
              "#fdca26"
             ],
             [
              1,
              "#f0f921"
             ]
            ],
            "type": "heatmapgl"
           }
          ],
          "histogram": [
           {
            "marker": {
             "pattern": {
              "fillmode": "overlay",
              "size": 10,
              "solidity": 0.2
             }
            },
            "type": "histogram"
           }
          ],
          "histogram2d": [
           {
            "colorbar": {
             "outlinewidth": 0,
             "ticks": ""
            },
            "colorscale": [
             [
              0,
              "#0d0887"
             ],
             [
              0.1111111111111111,
              "#46039f"
             ],
             [
              0.2222222222222222,
              "#7201a8"
             ],
             [
              0.3333333333333333,
              "#9c179e"
             ],
             [
              0.4444444444444444,
              "#bd3786"
             ],
             [
              0.5555555555555556,
              "#d8576b"
             ],
             [
              0.6666666666666666,
              "#ed7953"
             ],
             [
              0.7777777777777778,
              "#fb9f3a"
             ],
             [
              0.8888888888888888,
              "#fdca26"
             ],
             [
              1,
              "#f0f921"
             ]
            ],
            "type": "histogram2d"
           }
          ],
          "histogram2dcontour": [
           {
            "colorbar": {
             "outlinewidth": 0,
             "ticks": ""
            },
            "colorscale": [
             [
              0,
              "#0d0887"
             ],
             [
              0.1111111111111111,
              "#46039f"
             ],
             [
              0.2222222222222222,
              "#7201a8"
             ],
             [
              0.3333333333333333,
              "#9c179e"
             ],
             [
              0.4444444444444444,
              "#bd3786"
             ],
             [
              0.5555555555555556,
              "#d8576b"
             ],
             [
              0.6666666666666666,
              "#ed7953"
             ],
             [
              0.7777777777777778,
              "#fb9f3a"
             ],
             [
              0.8888888888888888,
              "#fdca26"
             ],
             [
              1,
              "#f0f921"
             ]
            ],
            "type": "histogram2dcontour"
           }
          ],
          "mesh3d": [
           {
            "colorbar": {
             "outlinewidth": 0,
             "ticks": ""
            },
            "type": "mesh3d"
           }
          ],
          "parcoords": [
           {
            "line": {
             "colorbar": {
              "outlinewidth": 0,
              "ticks": ""
             }
            },
            "type": "parcoords"
           }
          ],
          "pie": [
           {
            "automargin": true,
            "type": "pie"
           }
          ],
          "scatter": [
           {
            "fillpattern": {
             "fillmode": "overlay",
             "size": 10,
             "solidity": 0.2
            },
            "type": "scatter"
           }
          ],
          "scatter3d": [
           {
            "line": {
             "colorbar": {
              "outlinewidth": 0,
              "ticks": ""
             }
            },
            "marker": {
             "colorbar": {
              "outlinewidth": 0,
              "ticks": ""
             }
            },
            "type": "scatter3d"
           }
          ],
          "scattercarpet": [
           {
            "marker": {
             "colorbar": {
              "outlinewidth": 0,
              "ticks": ""
             }
            },
            "type": "scattercarpet"
           }
          ],
          "scattergeo": [
           {
            "marker": {
             "colorbar": {
              "outlinewidth": 0,
              "ticks": ""
             }
            },
            "type": "scattergeo"
           }
          ],
          "scattergl": [
           {
            "marker": {
             "colorbar": {
              "outlinewidth": 0,
              "ticks": ""
             }
            },
            "type": "scattergl"
           }
          ],
          "scattermapbox": [
           {
            "marker": {
             "colorbar": {
              "outlinewidth": 0,
              "ticks": ""
             }
            },
            "type": "scattermapbox"
           }
          ],
          "scatterpolar": [
           {
            "marker": {
             "colorbar": {
              "outlinewidth": 0,
              "ticks": ""
             }
            },
            "type": "scatterpolar"
           }
          ],
          "scatterpolargl": [
           {
            "marker": {
             "colorbar": {
              "outlinewidth": 0,
              "ticks": ""
             }
            },
            "type": "scatterpolargl"
           }
          ],
          "scatterternary": [
           {
            "marker": {
             "colorbar": {
              "outlinewidth": 0,
              "ticks": ""
             }
            },
            "type": "scatterternary"
           }
          ],
          "surface": [
           {
            "colorbar": {
             "outlinewidth": 0,
             "ticks": ""
            },
            "colorscale": [
             [
              0,
              "#0d0887"
             ],
             [
              0.1111111111111111,
              "#46039f"
             ],
             [
              0.2222222222222222,
              "#7201a8"
             ],
             [
              0.3333333333333333,
              "#9c179e"
             ],
             [
              0.4444444444444444,
              "#bd3786"
             ],
             [
              0.5555555555555556,
              "#d8576b"
             ],
             [
              0.6666666666666666,
              "#ed7953"
             ],
             [
              0.7777777777777778,
              "#fb9f3a"
             ],
             [
              0.8888888888888888,
              "#fdca26"
             ],
             [
              1,
              "#f0f921"
             ]
            ],
            "type": "surface"
           }
          ],
          "table": [
           {
            "cells": {
             "fill": {
              "color": "#EBF0F8"
             },
             "line": {
              "color": "white"
             }
            },
            "header": {
             "fill": {
              "color": "#C8D4E3"
             },
             "line": {
              "color": "white"
             }
            },
            "type": "table"
           }
          ]
         },
         "layout": {
          "annotationdefaults": {
           "arrowcolor": "#2a3f5f",
           "arrowhead": 0,
           "arrowwidth": 1
          },
          "autotypenumbers": "strict",
          "coloraxis": {
           "colorbar": {
            "outlinewidth": 0,
            "ticks": ""
           }
          },
          "colorscale": {
           "diverging": [
            [
             0,
             "#8e0152"
            ],
            [
             0.1,
             "#c51b7d"
            ],
            [
             0.2,
             "#de77ae"
            ],
            [
             0.3,
             "#f1b6da"
            ],
            [
             0.4,
             "#fde0ef"
            ],
            [
             0.5,
             "#f7f7f7"
            ],
            [
             0.6,
             "#e6f5d0"
            ],
            [
             0.7,
             "#b8e186"
            ],
            [
             0.8,
             "#7fbc41"
            ],
            [
             0.9,
             "#4d9221"
            ],
            [
             1,
             "#276419"
            ]
           ],
           "sequential": [
            [
             0,
             "#0d0887"
            ],
            [
             0.1111111111111111,
             "#46039f"
            ],
            [
             0.2222222222222222,
             "#7201a8"
            ],
            [
             0.3333333333333333,
             "#9c179e"
            ],
            [
             0.4444444444444444,
             "#bd3786"
            ],
            [
             0.5555555555555556,
             "#d8576b"
            ],
            [
             0.6666666666666666,
             "#ed7953"
            ],
            [
             0.7777777777777778,
             "#fb9f3a"
            ],
            [
             0.8888888888888888,
             "#fdca26"
            ],
            [
             1,
             "#f0f921"
            ]
           ],
           "sequentialminus": [
            [
             0,
             "#0d0887"
            ],
            [
             0.1111111111111111,
             "#46039f"
            ],
            [
             0.2222222222222222,
             "#7201a8"
            ],
            [
             0.3333333333333333,
             "#9c179e"
            ],
            [
             0.4444444444444444,
             "#bd3786"
            ],
            [
             0.5555555555555556,
             "#d8576b"
            ],
            [
             0.6666666666666666,
             "#ed7953"
            ],
            [
             0.7777777777777778,
             "#fb9f3a"
            ],
            [
             0.8888888888888888,
             "#fdca26"
            ],
            [
             1,
             "#f0f921"
            ]
           ]
          },
          "colorway": [
           "#636efa",
           "#EF553B",
           "#00cc96",
           "#ab63fa",
           "#FFA15A",
           "#19d3f3",
           "#FF6692",
           "#B6E880",
           "#FF97FF",
           "#FECB52"
          ],
          "font": {
           "color": "#2a3f5f"
          },
          "geo": {
           "bgcolor": "white",
           "lakecolor": "white",
           "landcolor": "#E5ECF6",
           "showlakes": true,
           "showland": true,
           "subunitcolor": "white"
          },
          "hoverlabel": {
           "align": "left"
          },
          "hovermode": "closest",
          "mapbox": {
           "style": "light"
          },
          "paper_bgcolor": "white",
          "plot_bgcolor": "#E5ECF6",
          "polar": {
           "angularaxis": {
            "gridcolor": "white",
            "linecolor": "white",
            "ticks": ""
           },
           "bgcolor": "#E5ECF6",
           "radialaxis": {
            "gridcolor": "white",
            "linecolor": "white",
            "ticks": ""
           }
          },
          "scene": {
           "xaxis": {
            "backgroundcolor": "#E5ECF6",
            "gridcolor": "white",
            "gridwidth": 2,
            "linecolor": "white",
            "showbackground": true,
            "ticks": "",
            "zerolinecolor": "white"
           },
           "yaxis": {
            "backgroundcolor": "#E5ECF6",
            "gridcolor": "white",
            "gridwidth": 2,
            "linecolor": "white",
            "showbackground": true,
            "ticks": "",
            "zerolinecolor": "white"
           },
           "zaxis": {
            "backgroundcolor": "#E5ECF6",
            "gridcolor": "white",
            "gridwidth": 2,
            "linecolor": "white",
            "showbackground": true,
            "ticks": "",
            "zerolinecolor": "white"
           }
          },
          "shapedefaults": {
           "line": {
            "color": "#2a3f5f"
           }
          },
          "ternary": {
           "aaxis": {
            "gridcolor": "white",
            "linecolor": "white",
            "ticks": ""
           },
           "baxis": {
            "gridcolor": "white",
            "linecolor": "white",
            "ticks": ""
           },
           "bgcolor": "#E5ECF6",
           "caxis": {
            "gridcolor": "white",
            "linecolor": "white",
            "ticks": ""
           }
          },
          "title": {
           "x": 0.05
          },
          "xaxis": {
           "automargin": true,
           "gridcolor": "white",
           "linecolor": "white",
           "ticks": "",
           "title": {
            "standoff": 15
           },
           "zerolinecolor": "white",
           "zerolinewidth": 2
          },
          "yaxis": {
           "automargin": true,
           "gridcolor": "white",
           "linecolor": "white",
           "ticks": "",
           "title": {
            "standoff": 15
           },
           "zerolinecolor": "white",
           "zerolinewidth": 2
          }
         }
        },
        "title": {
         "text": "TextBlob subjectivity"
        },
        "xaxis": {
         "anchor": "y",
         "domain": [
          0,
          1
         ],
         "title": {
          "text": "date"
         }
        },
        "yaxis": {
         "anchor": "x",
         "domain": [
          0,
          1
         ],
         "title": {
          "text": "TBsubjectivity"
         }
        }
       }
      },
      "text/html": [
       "<div>                            <div id=\"0dfad1b9-4b78-4789-81d3-48f694ceb3bb\" class=\"plotly-graph-div\" style=\"height:525px; width:100%;\"></div>            <script type=\"text/javascript\">                require([\"plotly\"], function(Plotly) {                    window.PLOTLYENV=window.PLOTLYENV || {};                                    if (document.getElementById(\"0dfad1b9-4b78-4789-81d3-48f694ceb3bb\")) {                    Plotly.newPlot(                        \"0dfad1b9-4b78-4789-81d3-48f694ceb3bb\",                        [{\"hovertemplate\":\"<b>%{hovertext}</b><br><br>date=%{x}<br>TBsubjectivity=%{y}<extra></extra>\",\"hovertext\":[\"2002-10-02T00:00:00\",\"2005-01-06T00:00:00\",\"2005-10-25T00:00:00\",\"2005-12-15T00:00:00\",\"2006-01-31T00:00:00\",\"2006-07-20T00:00:00\",\"2007-03-04T00:00:00\",\"2007-03-13T00:00:00\",\"2007-03-21T00:00:00\",\"2007-05-23T00:00:00\",\"2007-11-10T00:00:00\",\"2008-01-03T00:00:00\",\"2008-01-08T00:00:00\",\"2008-01-20T00:00:00\",\"2008-01-26T00:00:00\",\"2008-07-15T00:00:00\",\"2008-10-01T00:00:00\",\"2008-11-07T00:00:00\",\"2008-11-18T00:00:00\",\"2008-11-24T00:00:00\",\"2008-11-25T00:00:00\",\"2008-11-26T00:00:00\",\"2008-12-01T00:00:00\",\"2008-12-03T00:00:00\",\"2009-01-05T00:00:00\",\"2009-01-08T00:00:00\",\"2009-01-09T00:00:00\",\"2009-01-18T00:00:00\",\"2009-01-20T00:00:00\",\"2009-01-24T00:00:00\",\"2009-02-04T00:00:00\",\"2009-02-09T00:00:00\",\"2009-02-12T00:00:00\",\"2009-02-12T00:00:00\",\"2009-02-24T00:00:00\",\"2009-02-27T00:00:00\",\"2009-03-10T00:00:00\",\"2009-04-02T00:00:00\",\"2009-04-03T00:00:00\",\"2009-04-05T00:00:00\",\"2009-04-06T00:00:00\",\"2009-04-14T00:00:00\",\"2009-04-20T00:00:00\",\"2009-04-23T00:00:00\",\"2009-05-09T00:00:00\",\"2009-05-14T00:00:00\",\"2009-05-17T00:00:00\",\"2009-05-18T00:00:00\",\"2009-05-21T00:00:00\",\"2009-05-29T00:00:00\",\"2009-06-04T00:00:00\",\"2009-06-04T00:00:00\",\"2009-06-05T00:00:00\",\"2009-06-15T00:00:00\",\"2009-06-23T00:00:00\",\"2009-06-23T00:00:00\",\"2009-07-07T00:00:00\",\"2009-07-11T00:00:00\",\"2009-07-13T00:00:00\",\"2009-07-14T00:00:00\",\"2009-08-29T00:00:00\",\"2009-09-08T00:00:00\",\"2009-09-09T00:00:00\",\"2009-09-09T00:00:00\",\"2009-09-11T00:00:00\",\"2009-09-23T00:00:00\",\"2009-11-10T00:00:00\",\"2009-11-16T00:00:00\",\"2009-12-01T00:00:00\",\"2009-12-06T00:00:00\",\"2009-12-08T00:00:00\",\"2009-12-10T00:00:00\",\"2009-12-18T00:00:00\",\"2009-12-28T00:00:00\",\"2009-12-29T00:00:00\",\"2010-01-05T00:00:00\",\"2010-01-07T00:00:00\",\"2010-01-14T00:00:00\",\"2010-01-17T00:00:00\",\"2010-01-22T00:00:00\",\"2010-01-27T00:00:00\",\"2010-01-27T00:00:00\",\"2010-01-29T00:00:00\",\"2010-02-01T00:00:00\",\"2010-02-04T00:00:00\",\"2010-02-09T00:00:00\",\"2010-02-19T00:00:00\",\"2010-03-03T00:00:00\",\"2010-03-13T00:00:00\",\"2010-03-19T00:00:00\",\"2010-03-20T00:00:00\",\"2010-03-21T00:00:00\",\"2010-03-23T00:00:00\",\"2010-03-28T00:00:00\",\"2010-03-31T00:00:00\",\"2010-04-08T00:00:00\",\"2010-04-09T00:00:00\",\"2010-04-15T00:00:00\",\"2010-04-22T00:00:00\",\"2010-04-25T00:00:00\",\"2010-04-29T00:00:00\",\"2010-05-01T00:00:00\",\"2010-05-01T00:00:00\",\"2010-05-10T00:00:00\",\"2010-05-22T00:00:00\",\"2010-05-27T00:00:00\",\"2010-05-28T00:00:00\",\"2010-06-02T00:00:00\",\"2010-06-07T00:00:00\",\"2010-06-09T00:00:00\",\"2010-06-15T00:00:00\",\"2010-06-15T00:00:00\",\"2010-06-16T00:00:00\",\"2010-06-21T00:00:00\",\"2010-06-23T00:00:00\",\"2010-07-01T00:00:00\",\"2010-07-02T00:00:00\",\"2010-07-21T00:00:00\",\"2010-07-29T00:00:00\",\"2010-08-02T00:00:00\",\"2010-08-13T00:00:00\",\"2010-09-11T00:00:00\",\"2010-09-23T00:00:00\",\"2010-11-03T00:00:00\",\"2010-11-06T00:00:00\",\"2010-11-08T00:00:00\",\"2010-11-10T00:00:00\",\"2010-11-16T00:00:00\",\"2010-12-03T00:00:00\",\"2011-01-12T00:00:00\",\"2011-01-26T00:00:00\",\"2011-02-01T00:00:00\",\"2011-02-03T00:00:00\",\"2011-02-07T00:00:00\",\"2011-02-10T00:00:00\",\"2011-02-11T00:00:00\",\"2011-02-23T00:00:00\",\"2011-03-18T00:00:00\",\"2011-03-19T00:00:00\",\"2011-03-20T00:00:00\",\"2011-03-21T00:00:00\",\"2011-03-28T00:00:00\",\"2011-03-30T00:00:00\",\"2011-04-13T00:00:00\",\"2011-04-26T00:00:00\",\"2011-04-27T00:00:00\",\"2011-04-29T00:00:00\",\"2011-04-29T00:00:00\",\"2011-04-30T00:00:00\",\"2011-05-01T00:00:00\",\"2011-05-06T00:00:00\",\"2011-05-16T00:00:00\",\"2011-05-19T00:00:00\",\"2011-05-20T00:00:00\",\"2011-05-20T00:00:00\",\"2011-05-25T00:00:00\",\"2011-05-29T00:00:00\",\"2011-05-30T00:00:00\",\"2011-06-22T00:00:00\",\"2011-06-24T00:00:00\",\"2011-06-29T00:00:00\",\"2011-07-25T00:00:00\",\"2011-07-31T00:00:00\",\"2011-08-02T00:00:00\",\"2011-08-30T00:00:00\",\"2011-09-08T00:00:00\",\"2011-09-19T00:00:00\",\"2011-09-20T00:00:00\",\"2011-09-21T00:00:00\",\"2011-10-16T00:00:00\",\"2011-10-20T00:00:00\",\"2011-11-16T00:00:00\",\"2011-12-02T00:00:00\",\"2011-12-06T00:00:00\",\"2011-12-17T00:00:00\",\"2012-01-05T00:00:00\",\"2012-01-25T00:00:00\",\"2012-02-01T00:00:00\",\"2012-02-03T00:00:00\",\"2012-02-29T00:00:00\",\"2012-03-04T00:00:00\",\"2012-03-26T00:00:00\",\"2012-03-29T00:00:00\",\"2012-04-23T00:00:00\",\"2012-04-28T00:00:00\",\"2012-05-14T00:00:00\",\"2012-06-13T00:00:00\",\"2012-06-28T00:00:00\",\"2012-07-20T00:00:00\",\"2012-07-23T00:00:00\",\"2012-09-12T00:00:00\",\"2012-09-14T00:00:00\",\"2012-09-25T00:00:00\",\"2012-09-25T00:00:00\",\"2012-10-29T00:00:00\",\"2012-10-30T00:00:00\",\"2012-11-06T00:00:00\",\"2012-11-09T00:00:00\",\"2012-11-14T00:00:00\",\"2012-11-19T00:00:00\",\"2012-12-14T00:00:00\",\"2012-12-16T00:00:00\",\"2012-12-19T00:00:00\",\"2012-12-21T00:00:00\",\"2013-01-14T00:00:00\",\"2013-01-16T00:00:00\",\"2013-01-21T00:00:00\",\"2013-01-21T00:00:00\",\"2013-01-29T00:00:00\",\"2013-02-12T00:00:00\",\"2013-02-13T00:00:00\",\"2013-02-15T00:00:00\",\"2013-02-26T00:00:00\",\"2013-02-27T00:00:00\",\"2013-03-22T00:00:00\",\"2013-04-02T00:00:00\",\"2013-04-03T00:00:00\",\"2013-04-08T00:00:00\",\"2013-04-11T00:00:00\",\"2013-04-15T00:00:00\",\"2013-04-16T00:00:00\",\"2013-04-17T00:00:00\",\"2013-04-18T00:00:00\",\"2013-04-19T00:00:00\",\"2013-04-25T00:00:00\",\"2013-04-25T00:00:00\",\"2013-04-27T00:00:00\",\"2013-05-03T00:00:00\",\"2013-05-15T00:00:00\",\"2013-05-19T00:00:00\",\"2013-05-23T00:00:00\",\"2013-05-24T00:00:00\",\"2013-06-07T00:00:00\",\"2013-06-11T00:00:00\",\"2013-06-17T00:00:00\",\"2013-06-19T00:00:00\",\"2013-06-30T00:00:00\",\"2013-07-19T00:00:00\",\"2013-07-24T00:00:00\",\"2013-07-27T00:00:00\",\"2013-08-09T00:00:00\",\"2013-08-28T00:00:00\",\"2013-08-31T00:00:00\",\"2013-09-10T00:00:00\",\"2013-09-22T00:00:00\",\"2013-09-24T00:00:00\",\"2013-10-02T00:00:00\",\"2013-10-21T00:00:00\",\"2013-11-11T00:00:00\",\"2013-11-14T00:00:00\",\"2013-11-23T00:00:00\",\"2013-12-05T00:00:00\",\"2013-12-10T00:00:00\",\"2013-12-20T00:00:00\",\"2014-01-17T00:00:00\",\"2014-01-29T00:00:00\",\"2014-02-06T00:00:00\",\"2014-03-26T00:00:00\",\"2014-04-10T00:00:00\",\"2014-04-17T00:00:00\",\"2014-04-24T00:00:00\",\"2014-04-27T00:00:00\",\"2014-04-29T00:00:00\",\"2014-05-03T00:00:00\",\"2014-05-21T00:00:00\",\"2014-05-27T00:00:00\",\"2014-05-28T00:00:00\",\"2014-05-30T00:00:00\",\"2014-06-04T00:00:00\",\"2014-06-06T00:00:00\",\"2014-06-30T00:00:00\",\"2014-07-18T00:00:00\",\"2014-07-21T00:00:00\",\"2014-08-01T00:00:00\",\"2014-08-07T00:00:00\",\"2014-08-09T00:00:00\",\"2014-08-14T00:00:00\",\"2014-08-28T00:00:00\",\"2014-09-03T00:00:00\",\"2014-09-03T00:00:00\",\"2014-09-10T00:00:00\",\"2014-09-16T00:00:00\",\"2014-09-24T00:00:00\",\"2014-09-24T00:00:00\",\"2014-09-25T00:00:00\",\"2014-10-17T00:00:00\",\"2014-10-28T00:00:00\",\"2014-11-05T00:00:00\",\"2014-11-14T00:00:00\",\"2014-11-14T00:00:00\",\"2014-11-15T00:00:00\",\"2014-11-20T00:00:00\",\"2014-11-24T00:00:00\",\"2014-12-02T00:00:00\",\"2014-12-17T00:00:00\",\"2014-12-19T00:00:00\",\"2015-01-09T00:00:00\",\"2015-01-12T00:00:00\",\"2015-01-13T00:00:00\",\"2015-01-21T00:00:00\",\"2015-01-27T00:00:00\",\"2015-02-05T00:00:00\",\"2015-02-11T00:00:00\",\"2015-02-13T00:00:00\",\"2015-02-18T00:00:00\",\"2015-03-03T00:00:00\",\"2015-03-07T00:00:00\",\"2015-03-10T00:00:00\",\"2015-03-30T00:00:00\",\"2015-04-02T00:00:00\",\"2015-04-09T00:00:00\",\"2015-04-10T00:00:00\",\"2015-04-11T00:00:00\",\"2015-04-11T00:00:00\",\"2015-04-23T00:00:00\",\"2015-04-25T00:00:00\",\"2015-05-08T00:00:00\",\"2015-05-22T00:00:00\",\"2015-06-01T00:00:00\",\"2015-06-06T00:00:00\",\"2015-06-08T00:00:00\",\"2015-06-17T00:00:00\",\"2015-06-18T00:00:00\",\"2015-06-19T00:00:00\",\"2015-06-24T00:00:00\",\"2015-06-25T00:00:00\",\"2015-06-26T00:00:00\",\"2015-07-06T00:00:00\",\"2015-07-13T00:00:00\",\"2015-07-14T00:00:00\",\"2015-07-14T00:00:00\",\"2015-07-15T00:00:00\",\"2015-07-26T00:00:00\",\"2015-07-26T00:00:00\",\"2015-07-28T00:00:00\",\"2015-08-03T00:00:00\",\"2015-08-05T00:00:00\",\"2015-08-27T00:00:00\",\"2015-09-11T00:00:00\",\"2015-09-19T00:00:00\",\"2015-09-23T00:00:00\",\"2015-09-25T00:00:00\",\"2015-09-25T00:00:00\",\"2015-09-28T00:00:00\",\"2015-10-01T00:00:00\",\"2015-10-02T00:00:00\",\"2015-10-15T00:00:00\",\"2015-11-13T00:00:00\",\"2015-11-13T00:00:00\",\"2015-11-16T00:00:00\",\"2015-11-21T00:00:00\",\"2015-11-22T00:00:00\",\"2015-11-24T00:00:00\",\"2015-11-30T00:00:00\",\"2015-12-01T00:00:00\",\"2015-12-06T00:00:00\",\"2015-12-09T00:00:00\",\"2015-12-10T00:00:00\",\"2015-12-12T00:00:00\",\"2015-12-14T00:00:00\",\"2015-12-15T00:00:00\",\"2015-12-17T00:00:00\",\"2015-12-18T00:00:00\",\"2016-01-01T00:00:00\",\"2016-01-05T00:00:00\",\"2016-01-13T00:00:00\",\"2016-01-17T00:00:00\",\"2016-01-27T00:00:00\",\"2016-02-03T00:00:00\",\"2016-02-04T00:00:00\",\"2016-02-04T00:00:00\",\"2016-02-10T00:00:00\",\"2016-02-13T00:00:00\",\"2016-02-16T00:00:00\",\"2016-02-20T00:00:00\",\"2016-02-23T00:00:00\",\"2016-02-25T00:00:00\",\"2016-02-26T00:00:00\",\"2016-03-16T00:00:00\",\"2016-03-21T00:00:00\",\"2016-03-21T00:00:00\",\"2016-03-22T00:00:00\",\"2016-03-23T00:00:00\",\"2016-04-01T00:00:00\",\"2016-04-07T00:00:00\",\"2016-04-23T00:00:00\",\"2016-04-25T00:00:00\",\"2016-04-30T00:00:00\",\"2016-05-04T00:00:00\",\"2016-05-07T00:00:00\",\"2016-05-24T00:00:00\",\"2016-05-24T00:00:00\",\"2016-05-25T00:00:00\",\"2016-05-25T00:00:00\",\"2016-05-26T00:00:00\",\"2016-05-27T00:00:00\",\"2016-06-02T00:00:00\",\"2016-06-09T00:00:00\",\"2016-06-12T00:00:00\",\"2016-06-14T00:00:00\",\"2016-06-14T00:00:00\",\"2016-06-16T00:00:00\",\"2016-06-23T00:00:00\",\"2016-06-29T00:00:00\",\"2016-07-09T00:00:00\",\"2016-07-12T00:00:00\",\"2016-08-04T00:00:00\",\"2016-08-23T00:00:00\",\"2016-09-05T00:00:00\",\"2016-09-06T00:00:00\",\"2016-09-06T00:00:00\",\"2016-09-11T00:00:00\",\"2016-09-19T00:00:00\",\"2016-09-20T00:00:00\",\"2016-09-24T00:00:00\",\"2016-09-30T00:00:00\",\"2016-11-09T00:00:00\",\"2016-11-10T00:00:00\",\"2016-11-14T00:00:00\",\"2016-11-16T00:00:00\",\"2016-11-20T00:00:00\",\"2016-11-20T00:00:00\",\"2016-12-04T00:00:00\",\"2016-12-04T00:00:00\",\"2016-12-06T00:00:00\",\"2016-12-16T00:00:00\",\"2016-12-27T00:00:00\",\"2017-01-10T00:00:00\",\"2017-01-12T00:00:00\",\"2017-01-14T00:00:00\",\"2017-01-16T00:00:00\",\"2017-01-18T00:00:00\",\"2017-01-20T00:00:00\"],\"legendgroup\":\"\",\"line\":{\"color\":\"#636efa\",\"dash\":\"solid\"},\"marker\":{\"symbol\":\"circle\"},\"mode\":\"lines\",\"name\":\"\",\"orientation\":\"v\",\"showlegend\":false,\"x\":[\"2002-10-02T00:00:00\",\"2005-01-06T00:00:00\",\"2005-10-25T00:00:00\",\"2005-12-15T00:00:00\",\"2006-01-31T00:00:00\",\"2006-07-20T00:00:00\",\"2007-03-04T00:00:00\",\"2007-03-13T00:00:00\",\"2007-03-21T00:00:00\",\"2007-05-23T00:00:00\",\"2007-11-10T00:00:00\",\"2008-01-03T00:00:00\",\"2008-01-08T00:00:00\",\"2008-01-20T00:00:00\",\"2008-01-26T00:00:00\",\"2008-07-15T00:00:00\",\"2008-10-01T00:00:00\",\"2008-11-07T00:00:00\",\"2008-11-18T00:00:00\",\"2008-11-24T00:00:00\",\"2008-11-25T00:00:00\",\"2008-11-26T00:00:00\",\"2008-12-01T00:00:00\",\"2008-12-03T00:00:00\",\"2009-01-05T00:00:00\",\"2009-01-08T00:00:00\",\"2009-01-09T00:00:00\",\"2009-01-18T00:00:00\",\"2009-01-20T00:00:00\",\"2009-01-24T00:00:00\",\"2009-02-04T00:00:00\",\"2009-02-09T00:00:00\",\"2009-02-12T00:00:00\",\"2009-02-12T00:00:00\",\"2009-02-24T00:00:00\",\"2009-02-27T00:00:00\",\"2009-03-10T00:00:00\",\"2009-04-02T00:00:00\",\"2009-04-03T00:00:00\",\"2009-04-05T00:00:00\",\"2009-04-06T00:00:00\",\"2009-04-14T00:00:00\",\"2009-04-20T00:00:00\",\"2009-04-23T00:00:00\",\"2009-05-09T00:00:00\",\"2009-05-14T00:00:00\",\"2009-05-17T00:00:00\",\"2009-05-18T00:00:00\",\"2009-05-21T00:00:00\",\"2009-05-29T00:00:00\",\"2009-06-04T00:00:00\",\"2009-06-04T00:00:00\",\"2009-06-05T00:00:00\",\"2009-06-15T00:00:00\",\"2009-06-23T00:00:00\",\"2009-06-23T00:00:00\",\"2009-07-07T00:00:00\",\"2009-07-11T00:00:00\",\"2009-07-13T00:00:00\",\"2009-07-14T00:00:00\",\"2009-08-29T00:00:00\",\"2009-09-08T00:00:00\",\"2009-09-09T00:00:00\",\"2009-09-09T00:00:00\",\"2009-09-11T00:00:00\",\"2009-09-23T00:00:00\",\"2009-11-10T00:00:00\",\"2009-11-16T00:00:00\",\"2009-12-01T00:00:00\",\"2009-12-06T00:00:00\",\"2009-12-08T00:00:00\",\"2009-12-10T00:00:00\",\"2009-12-18T00:00:00\",\"2009-12-28T00:00:00\",\"2009-12-29T00:00:00\",\"2010-01-05T00:00:00\",\"2010-01-07T00:00:00\",\"2010-01-14T00:00:00\",\"2010-01-17T00:00:00\",\"2010-01-22T00:00:00\",\"2010-01-27T00:00:00\",\"2010-01-27T00:00:00\",\"2010-01-29T00:00:00\",\"2010-02-01T00:00:00\",\"2010-02-04T00:00:00\",\"2010-02-09T00:00:00\",\"2010-02-19T00:00:00\",\"2010-03-03T00:00:00\",\"2010-03-13T00:00:00\",\"2010-03-19T00:00:00\",\"2010-03-20T00:00:00\",\"2010-03-21T00:00:00\",\"2010-03-23T00:00:00\",\"2010-03-28T00:00:00\",\"2010-03-31T00:00:00\",\"2010-04-08T00:00:00\",\"2010-04-09T00:00:00\",\"2010-04-15T00:00:00\",\"2010-04-22T00:00:00\",\"2010-04-25T00:00:00\",\"2010-04-29T00:00:00\",\"2010-05-01T00:00:00\",\"2010-05-01T00:00:00\",\"2010-05-10T00:00:00\",\"2010-05-22T00:00:00\",\"2010-05-27T00:00:00\",\"2010-05-28T00:00:00\",\"2010-06-02T00:00:00\",\"2010-06-07T00:00:00\",\"2010-06-09T00:00:00\",\"2010-06-15T00:00:00\",\"2010-06-15T00:00:00\",\"2010-06-16T00:00:00\",\"2010-06-21T00:00:00\",\"2010-06-23T00:00:00\",\"2010-07-01T00:00:00\",\"2010-07-02T00:00:00\",\"2010-07-21T00:00:00\",\"2010-07-29T00:00:00\",\"2010-08-02T00:00:00\",\"2010-08-13T00:00:00\",\"2010-09-11T00:00:00\",\"2010-09-23T00:00:00\",\"2010-11-03T00:00:00\",\"2010-11-06T00:00:00\",\"2010-11-08T00:00:00\",\"2010-11-10T00:00:00\",\"2010-11-16T00:00:00\",\"2010-12-03T00:00:00\",\"2011-01-12T00:00:00\",\"2011-01-26T00:00:00\",\"2011-02-01T00:00:00\",\"2011-02-03T00:00:00\",\"2011-02-07T00:00:00\",\"2011-02-10T00:00:00\",\"2011-02-11T00:00:00\",\"2011-02-23T00:00:00\",\"2011-03-18T00:00:00\",\"2011-03-19T00:00:00\",\"2011-03-20T00:00:00\",\"2011-03-21T00:00:00\",\"2011-03-28T00:00:00\",\"2011-03-30T00:00:00\",\"2011-04-13T00:00:00\",\"2011-04-26T00:00:00\",\"2011-04-27T00:00:00\",\"2011-04-29T00:00:00\",\"2011-04-29T00:00:00\",\"2011-04-30T00:00:00\",\"2011-05-01T00:00:00\",\"2011-05-06T00:00:00\",\"2011-05-16T00:00:00\",\"2011-05-19T00:00:00\",\"2011-05-20T00:00:00\",\"2011-05-20T00:00:00\",\"2011-05-25T00:00:00\",\"2011-05-29T00:00:00\",\"2011-05-30T00:00:00\",\"2011-06-22T00:00:00\",\"2011-06-24T00:00:00\",\"2011-06-29T00:00:00\",\"2011-07-25T00:00:00\",\"2011-07-31T00:00:00\",\"2011-08-02T00:00:00\",\"2011-08-30T00:00:00\",\"2011-09-08T00:00:00\",\"2011-09-19T00:00:00\",\"2011-09-20T00:00:00\",\"2011-09-21T00:00:00\",\"2011-10-16T00:00:00\",\"2011-10-20T00:00:00\",\"2011-11-16T00:00:00\",\"2011-12-02T00:00:00\",\"2011-12-06T00:00:00\",\"2011-12-17T00:00:00\",\"2012-01-05T00:00:00\",\"2012-01-25T00:00:00\",\"2012-02-01T00:00:00\",\"2012-02-03T00:00:00\",\"2012-02-29T00:00:00\",\"2012-03-04T00:00:00\",\"2012-03-26T00:00:00\",\"2012-03-29T00:00:00\",\"2012-04-23T00:00:00\",\"2012-04-28T00:00:00\",\"2012-05-14T00:00:00\",\"2012-06-13T00:00:00\",\"2012-06-28T00:00:00\",\"2012-07-20T00:00:00\",\"2012-07-23T00:00:00\",\"2012-09-12T00:00:00\",\"2012-09-14T00:00:00\",\"2012-09-25T00:00:00\",\"2012-09-25T00:00:00\",\"2012-10-29T00:00:00\",\"2012-10-30T00:00:00\",\"2012-11-06T00:00:00\",\"2012-11-09T00:00:00\",\"2012-11-14T00:00:00\",\"2012-11-19T00:00:00\",\"2012-12-14T00:00:00\",\"2012-12-16T00:00:00\",\"2012-12-19T00:00:00\",\"2012-12-21T00:00:00\",\"2013-01-14T00:00:00\",\"2013-01-16T00:00:00\",\"2013-01-21T00:00:00\",\"2013-01-21T00:00:00\",\"2013-01-29T00:00:00\",\"2013-02-12T00:00:00\",\"2013-02-13T00:00:00\",\"2013-02-15T00:00:00\",\"2013-02-26T00:00:00\",\"2013-02-27T00:00:00\",\"2013-03-22T00:00:00\",\"2013-04-02T00:00:00\",\"2013-04-03T00:00:00\",\"2013-04-08T00:00:00\",\"2013-04-11T00:00:00\",\"2013-04-15T00:00:00\",\"2013-04-16T00:00:00\",\"2013-04-17T00:00:00\",\"2013-04-18T00:00:00\",\"2013-04-19T00:00:00\",\"2013-04-25T00:00:00\",\"2013-04-25T00:00:00\",\"2013-04-27T00:00:00\",\"2013-05-03T00:00:00\",\"2013-05-15T00:00:00\",\"2013-05-19T00:00:00\",\"2013-05-23T00:00:00\",\"2013-05-24T00:00:00\",\"2013-06-07T00:00:00\",\"2013-06-11T00:00:00\",\"2013-06-17T00:00:00\",\"2013-06-19T00:00:00\",\"2013-06-30T00:00:00\",\"2013-07-19T00:00:00\",\"2013-07-24T00:00:00\",\"2013-07-27T00:00:00\",\"2013-08-09T00:00:00\",\"2013-08-28T00:00:00\",\"2013-08-31T00:00:00\",\"2013-09-10T00:00:00\",\"2013-09-22T00:00:00\",\"2013-09-24T00:00:00\",\"2013-10-02T00:00:00\",\"2013-10-21T00:00:00\",\"2013-11-11T00:00:00\",\"2013-11-14T00:00:00\",\"2013-11-23T00:00:00\",\"2013-12-05T00:00:00\",\"2013-12-10T00:00:00\",\"2013-12-20T00:00:00\",\"2014-01-17T00:00:00\",\"2014-01-29T00:00:00\",\"2014-02-06T00:00:00\",\"2014-03-26T00:00:00\",\"2014-04-10T00:00:00\",\"2014-04-17T00:00:00\",\"2014-04-24T00:00:00\",\"2014-04-27T00:00:00\",\"2014-04-29T00:00:00\",\"2014-05-03T00:00:00\",\"2014-05-21T00:00:00\",\"2014-05-27T00:00:00\",\"2014-05-28T00:00:00\",\"2014-05-30T00:00:00\",\"2014-06-04T00:00:00\",\"2014-06-06T00:00:00\",\"2014-06-30T00:00:00\",\"2014-07-18T00:00:00\",\"2014-07-21T00:00:00\",\"2014-08-01T00:00:00\",\"2014-08-07T00:00:00\",\"2014-08-09T00:00:00\",\"2014-08-14T00:00:00\",\"2014-08-28T00:00:00\",\"2014-09-03T00:00:00\",\"2014-09-03T00:00:00\",\"2014-09-10T00:00:00\",\"2014-09-16T00:00:00\",\"2014-09-24T00:00:00\",\"2014-09-24T00:00:00\",\"2014-09-25T00:00:00\",\"2014-10-17T00:00:00\",\"2014-10-28T00:00:00\",\"2014-11-05T00:00:00\",\"2014-11-14T00:00:00\",\"2014-11-14T00:00:00\",\"2014-11-15T00:00:00\",\"2014-11-20T00:00:00\",\"2014-11-24T00:00:00\",\"2014-12-02T00:00:00\",\"2014-12-17T00:00:00\",\"2014-12-19T00:00:00\",\"2015-01-09T00:00:00\",\"2015-01-12T00:00:00\",\"2015-01-13T00:00:00\",\"2015-01-21T00:00:00\",\"2015-01-27T00:00:00\",\"2015-02-05T00:00:00\",\"2015-02-11T00:00:00\",\"2015-02-13T00:00:00\",\"2015-02-18T00:00:00\",\"2015-03-03T00:00:00\",\"2015-03-07T00:00:00\",\"2015-03-10T00:00:00\",\"2015-03-30T00:00:00\",\"2015-04-02T00:00:00\",\"2015-04-09T00:00:00\",\"2015-04-10T00:00:00\",\"2015-04-11T00:00:00\",\"2015-04-11T00:00:00\",\"2015-04-23T00:00:00\",\"2015-04-25T00:00:00\",\"2015-05-08T00:00:00\",\"2015-05-22T00:00:00\",\"2015-06-01T00:00:00\",\"2015-06-06T00:00:00\",\"2015-06-08T00:00:00\",\"2015-06-17T00:00:00\",\"2015-06-18T00:00:00\",\"2015-06-19T00:00:00\",\"2015-06-24T00:00:00\",\"2015-06-25T00:00:00\",\"2015-06-26T00:00:00\",\"2015-07-06T00:00:00\",\"2015-07-13T00:00:00\",\"2015-07-14T00:00:00\",\"2015-07-14T00:00:00\",\"2015-07-15T00:00:00\",\"2015-07-26T00:00:00\",\"2015-07-26T00:00:00\",\"2015-07-28T00:00:00\",\"2015-08-03T00:00:00\",\"2015-08-05T00:00:00\",\"2015-08-27T00:00:00\",\"2015-09-11T00:00:00\",\"2015-09-19T00:00:00\",\"2015-09-23T00:00:00\",\"2015-09-25T00:00:00\",\"2015-09-25T00:00:00\",\"2015-09-28T00:00:00\",\"2015-10-01T00:00:00\",\"2015-10-02T00:00:00\",\"2015-10-15T00:00:00\",\"2015-11-13T00:00:00\",\"2015-11-13T00:00:00\",\"2015-11-16T00:00:00\",\"2015-11-21T00:00:00\",\"2015-11-22T00:00:00\",\"2015-11-24T00:00:00\",\"2015-11-30T00:00:00\",\"2015-12-01T00:00:00\",\"2015-12-06T00:00:00\",\"2015-12-09T00:00:00\",\"2015-12-10T00:00:00\",\"2015-12-12T00:00:00\",\"2015-12-14T00:00:00\",\"2015-12-15T00:00:00\",\"2015-12-17T00:00:00\",\"2015-12-18T00:00:00\",\"2016-01-01T00:00:00\",\"2016-01-05T00:00:00\",\"2016-01-13T00:00:00\",\"2016-01-17T00:00:00\",\"2016-01-27T00:00:00\",\"2016-02-03T00:00:00\",\"2016-02-04T00:00:00\",\"2016-02-04T00:00:00\",\"2016-02-10T00:00:00\",\"2016-02-13T00:00:00\",\"2016-02-16T00:00:00\",\"2016-02-20T00:00:00\",\"2016-02-23T00:00:00\",\"2016-02-25T00:00:00\",\"2016-02-26T00:00:00\",\"2016-03-16T00:00:00\",\"2016-03-21T00:00:00\",\"2016-03-21T00:00:00\",\"2016-03-22T00:00:00\",\"2016-03-23T00:00:00\",\"2016-04-01T00:00:00\",\"2016-04-07T00:00:00\",\"2016-04-23T00:00:00\",\"2016-04-25T00:00:00\",\"2016-04-30T00:00:00\",\"2016-05-04T00:00:00\",\"2016-05-07T00:00:00\",\"2016-05-24T00:00:00\",\"2016-05-24T00:00:00\",\"2016-05-25T00:00:00\",\"2016-05-25T00:00:00\",\"2016-05-26T00:00:00\",\"2016-05-27T00:00:00\",\"2016-06-02T00:00:00\",\"2016-06-09T00:00:00\",\"2016-06-12T00:00:00\",\"2016-06-14T00:00:00\",\"2016-06-14T00:00:00\",\"2016-06-16T00:00:00\",\"2016-06-23T00:00:00\",\"2016-06-29T00:00:00\",\"2016-07-09T00:00:00\",\"2016-07-12T00:00:00\",\"2016-08-04T00:00:00\",\"2016-08-23T00:00:00\",\"2016-09-05T00:00:00\",\"2016-09-06T00:00:00\",\"2016-09-06T00:00:00\",\"2016-09-11T00:00:00\",\"2016-09-19T00:00:00\",\"2016-09-20T00:00:00\",\"2016-09-24T00:00:00\",\"2016-09-30T00:00:00\",\"2016-11-09T00:00:00\",\"2016-11-10T00:00:00\",\"2016-11-14T00:00:00\",\"2016-11-16T00:00:00\",\"2016-11-20T00:00:00\",\"2016-11-20T00:00:00\",\"2016-12-04T00:00:00\",\"2016-12-04T00:00:00\",\"2016-12-06T00:00:00\",\"2016-12-16T00:00:00\",\"2016-12-27T00:00:00\",\"2017-01-10T00:00:00\",\"2017-01-12T00:00:00\",\"2017-01-14T00:00:00\",\"2017-01-16T00:00:00\",\"2017-01-18T00:00:00\",\"2017-01-20T00:00:00\"],\"xaxis\":\"x\",\"y\":[0.5661663216011042,0.5696825396825398,0.45583549783549776,0.47364389233954446,0.4512049062049061,0.43728549978549963,0.48432164069804506,0.4135696794787703,0.4648168978877639,0.4751991577263315,0.40207558940641647,0.4814622687918142,0.4449554250924114,0.5137788110879025,0.4758844202392589,0.40011558042456963,0.43455550550926264,0.4097008547008547,0.4811477633477632,0.35065205627705653,0.4723138127304793,0.3810923290801338,0.40265211207657253,0.4064507955812304,0.3935449194999756,0.4444710876485685,0.4114297246469378,0.5802785265049416,0.4703723702861634,0.4280546653923276,0.4149433474688576,0.4626553307803306,0.46636390358612584,0.5300743190006992,0.4322582072752142,0.43965427128427104,0.4655087540664465,0.4267431339152652,0.463035523748552,0.4465936108143901,0.48927542741496227,0.4301640621953128,0.5065634297115779,0.5252581498549243,0.42610184739814383,0.4904328065573422,0.48126102292768963,0.4852276854458671,0.4303324498172982,0.3680443224963773,0.4561005905499302,0.48869511440940033,0.44099013271548493,0.4257899965203341,0.49591690576539044,0.5101770451770451,0.43048972111298967,0.4732016698779704,0.3874738675958187,0.4736552711311554,0.4909841131974889,0.4722182101387711,0.44446740850925887,0.5135838383838381,0.49616001282667954,0.4153558453354095,0.45697413697413686,0.4463918566381623,0.45470574270731007,0.4526671906136193,0.45063848871225926,0.460084822063695,0.41112089299589294,0.4595523051583658,0.4610937500000001,0.41692411754911746,0.4393229778262673,0.43572402597402593,0.4582023769291429,0.4631979735240608,0.4314304415180074,0.4854497354497355,0.43997514232588864,0.4344091560069003,0.4928845083487939,0.48711538461538456,0.4553896103896106,0.44490658753874623,0.3768498817966903,0.4328149520960682,0.528006145389414,0.45563900624141573,0.5400285320739867,0.5003885920034247,0.4155014665798981,0.49725359276140546,0.4581383382699172,0.4390007734072481,0.4073240693583832,0.49555137844611535,0.538390209563679,0.49716568475674444,0.5287085245581487,0.4900585688820984,0.44336003962869636,0.4979496495567926,0.47669969106210713,0.41346166508213433,0.5192734036796537,0.44380401557820925,0.4851174078446807,0.4892882149416237,0.5141639610389609,0.5141099154813439,0.5029311786698148,0.4884076479076479,0.5045391170391169,0.44021565707735905,0.46187952312238034,0.46148665766146973,0.3966376426603698,0.5224266474266474,0.4317569214774183,0.4666150793650792,0.43234043491685425,0.4330114320955907,0.44877816817885297,0.4345252613240417,0.4637474986646257,0.5282540689284871,0.4184891512527878,0.4382801701222754,0.4719771879607944,0.44434704184704243,0.42898534031170704,0.4614711969317232,0.3271662763466043,0.3735808767951625,0.29101540616246496,0.43721244263898285,0.4759212825327279,0.43567077194984205,0.4322997439464505,0.4364859347002204,0.36177777777777786,0.5501417233560091,0.5532135076252724,0.5028102609271443,0.49131703330682913,0.43778195488721794,0.5402798149562856,0.5280567465495694,0.4510470994868586,0.46476533484730215,0.5852228372720176,0.4757684898183386,0.4983557466196356,0.4825731974119071,0.4283803110469778,0.4593130468130466,0.41828572997051255,0.46953786702427996,0.5290079365079365,0.45669063910999397,0.45170944302012267,0.43828344306640127,0.43780806836841346,0.4194890607758253,0.42154745751760664,0.5051059087111718,0.5252509099524025,0.44184626791893217,0.4667523448773449,0.43553507424475224,0.5204545454545455,0.4465758982072543,0.4098744085371993,0.4662328948560833,0.459895227788085,0.5357528124518417,0.4511896569613962,0.4640161135161137,0.45153738685556855,0.4184345543994669,0.514510816874098,0.49689739313509823,0.4857344482002015,0.49917469765684047,0.481064272703617,0.4183172498797501,0.5265316627816629,0.4827258297258298,0.460174719348448,0.45131534236372955,0.45511076225361957,0.5013960803176488,0.47437037424940665,0.4086150289376094,0.4082251082251082,0.46543506757792485,0.5015625000000001,0.5190009337068161,0.41022840007215006,0.49775219729765185,0.394263267313726,0.5048714207905384,0.451187217800121,0.6013265306122448,0.42549190284541855,0.5102062593224213,0.43573521430727086,0.5109925788497216,0.4867878290292083,0.4822002164502168,0.5524932614555255,0.49669256239023685,0.49302751113620674,0.43716822991823007,0.46152665468703186,0.47620334620334637,0.5140818903318904,0.3933537946428571,0.49367838437282896,0.5352097505668935,0.4620420979986197,0.5562804232804233,0.5023173484269738,0.4243830215905689,0.5619666506333173,0.4722612624763961,0.43534361302653996,0.460941672362725,0.4670516085221966,0.49111962481962496,0.49692208322723036,0.4747209700308874,0.4662188221500725,0.42043335852859665,0.43995758849640093,0.4680138248847926,0.42137042336194885,0.4503942984818561,0.4176820728291317,0.40536845452099707,0.5104452790916882,0.42420813720486217,0.4005909881594812,0.47248893994030167,0.4876291486291487,0.4451080097348753,0.47472464244616136,0.5425757575757577,0.5604698079698082,0.40405325836360323,0.4410360849027519,0.43080506511134803,0.5111957955972044,0.4675089796684224,0.5266072052644105,0.36542000617343073,0.42622053872053867,0.45253544987507255,0.5227145870003014,0.4605380203481468,0.45908765725667133,0.4211026149343907,0.4072304943118895,0.40816964958756,0.5619010867604617,0.4532210371132526,0.43617327290764807,0.5045906659765356,0.46734804990124146,0.46974857704024375,0.43434305460621253,0.47218253968253965,0.4220883977133977,0.4509174376821435,0.46972196980214476,0.5438670316611491,0.37120903584719384,0.4662547270736927,0.4694462620357761,0.4024891774891777,0.474034163059163,0.4698132649243759,0.5606594369349471,0.38226879476879483,0.4752394070575888,0.4357981549600045,0.4436733834948121,0.43180474655884465,0.5743326118326119,0.43728572416928596,0.4235043961563298,0.4253487484737486,0.4441781226379441,0.4233897073076176,0.40661079911079917,0.4489515739129144,0.485984792984793,0.5396364229805788,0.4838041125541125,0.4571904893485441,0.4840996555855044,0.46779415779415784,0.4721959713103627,0.5124186473903454,0.48880602293163866,0.42655566792266303,0.470525501318605,0.6005065720371843,0.4584272727272729,0.3993130553656867,0.5048735119047618,0.5066477425014011,0.4672001377596276,0.5055319966939685,0.4579592963295493,0.5029734642929087,0.4205816461877069,0.4967917547568709,0.4434731106372897,0.47447603190460336,0.4521033544644657,0.4576551955339833,0.537272563295291,0.4786283161283161,0.49178502790228473,0.4872202629020809,0.4694749933974071,0.48058201058201067,0.4689644922303571,0.5079437965662457,0.433906538715282,0.45322816266196053,0.4510268330517848,0.4534503244182583,0.49752901034151026,0.47639016814548724,0.5163511050353154,0.37150451332933077,0.44628860028860046,0.45407474195221725,0.4341179653679653,0.5206260325825541,0.4468224036620264,0.4843521421107629,0.39835802469135806,0.4695615042553817,0.39854324303332817,0.45924438349007307,0.42362187769164517,0.4667862504436578,0.508948202335299,0.3975194547515975,0.45620607333842617,0.5325063637984986,0.4674429073342118,0.3986446945489499,0.48958011975253335,0.4298773818773818,0.3239563041125541,0.4246623977873978,0.485330167717711,0.4265519210741844,0.49186900056465266,0.5061193212917352,0.44811651414144493,0.5008239348370929,0.5435190208291469,0.4913136199549243,0.5764379910213244,0.43562976705833845,0.3782538499751614,0.43181969148001764,0.4289190327744544,0.47383549610112113,0.5116383781235269,0.4908355841366316,0.44431706677161226,0.49102692795645814,0.5194247234247236,0.44316010721951316,0.5224229242979241,0.4679664603784322,0.4559787320298121,0.4989437288115701,0.5189094666539654,0.48008307689633006,0.42017349178212693,0.4818836718836719,0.38125,0.4629021431243651,0.5687222222222222,0.522437263257576,0.4431499685090844,0.5061904761904762,0.5703067765567764,0.4658263163711883,0.48565685894954197,0.5383195970695971,0.41374785393033564,0.47764351149536355,0.4596627337803808,0.518935609844701,0.45242333550992775,0.4598773448773447,0.3728410478410479,0.46203595658073277,0.41368092691622094,0.5739353764921945,0.5160450937950937,0.45131472949028073,0.47221273857871804,0.4218106083012916,0.4909763872491143,0.5063271604938271,0.45399610136452245,0.47771707070707065,0.4323010146819671,0.469587465332146,0.4963702733730359,0.4423253430966196,0.43048749210858595,0.4398882027558497,0.3982140997604916,0.500203537294002,0.4963195534624107,0.4782407407407407,0.48931137960988735,0.5012806637806638,0.48478139793929265],\"yaxis\":\"y\",\"type\":\"scatter\"}],                        {\"template\":{\"data\":{\"histogram2dcontour\":[{\"type\":\"histogram2dcontour\",\"colorbar\":{\"outlinewidth\":0,\"ticks\":\"\"},\"colorscale\":[[0.0,\"#0d0887\"],[0.1111111111111111,\"#46039f\"],[0.2222222222222222,\"#7201a8\"],[0.3333333333333333,\"#9c179e\"],[0.4444444444444444,\"#bd3786\"],[0.5555555555555556,\"#d8576b\"],[0.6666666666666666,\"#ed7953\"],[0.7777777777777778,\"#fb9f3a\"],[0.8888888888888888,\"#fdca26\"],[1.0,\"#f0f921\"]]}],\"choropleth\":[{\"type\":\"choropleth\",\"colorbar\":{\"outlinewidth\":0,\"ticks\":\"\"}}],\"histogram2d\":[{\"type\":\"histogram2d\",\"colorbar\":{\"outlinewidth\":0,\"ticks\":\"\"},\"colorscale\":[[0.0,\"#0d0887\"],[0.1111111111111111,\"#46039f\"],[0.2222222222222222,\"#7201a8\"],[0.3333333333333333,\"#9c179e\"],[0.4444444444444444,\"#bd3786\"],[0.5555555555555556,\"#d8576b\"],[0.6666666666666666,\"#ed7953\"],[0.7777777777777778,\"#fb9f3a\"],[0.8888888888888888,\"#fdca26\"],[1.0,\"#f0f921\"]]}],\"heatmap\":[{\"type\":\"heatmap\",\"colorbar\":{\"outlinewidth\":0,\"ticks\":\"\"},\"colorscale\":[[0.0,\"#0d0887\"],[0.1111111111111111,\"#46039f\"],[0.2222222222222222,\"#7201a8\"],[0.3333333333333333,\"#9c179e\"],[0.4444444444444444,\"#bd3786\"],[0.5555555555555556,\"#d8576b\"],[0.6666666666666666,\"#ed7953\"],[0.7777777777777778,\"#fb9f3a\"],[0.8888888888888888,\"#fdca26\"],[1.0,\"#f0f921\"]]}],\"heatmapgl\":[{\"type\":\"heatmapgl\",\"colorbar\":{\"outlinewidth\":0,\"ticks\":\"\"},\"colorscale\":[[0.0,\"#0d0887\"],[0.1111111111111111,\"#46039f\"],[0.2222222222222222,\"#7201a8\"],[0.3333333333333333,\"#9c179e\"],[0.4444444444444444,\"#bd3786\"],[0.5555555555555556,\"#d8576b\"],[0.6666666666666666,\"#ed7953\"],[0.7777777777777778,\"#fb9f3a\"],[0.8888888888888888,\"#fdca26\"],[1.0,\"#f0f921\"]]}],\"contourcarpet\":[{\"type\":\"contourcarpet\",\"colorbar\":{\"outlinewidth\":0,\"ticks\":\"\"}}],\"contour\":[{\"type\":\"contour\",\"colorbar\":{\"outlinewidth\":0,\"ticks\":\"\"},\"colorscale\":[[0.0,\"#0d0887\"],[0.1111111111111111,\"#46039f\"],[0.2222222222222222,\"#7201a8\"],[0.3333333333333333,\"#9c179e\"],[0.4444444444444444,\"#bd3786\"],[0.5555555555555556,\"#d8576b\"],[0.6666666666666666,\"#ed7953\"],[0.7777777777777778,\"#fb9f3a\"],[0.8888888888888888,\"#fdca26\"],[1.0,\"#f0f921\"]]}],\"surface\":[{\"type\":\"surface\",\"colorbar\":{\"outlinewidth\":0,\"ticks\":\"\"},\"colorscale\":[[0.0,\"#0d0887\"],[0.1111111111111111,\"#46039f\"],[0.2222222222222222,\"#7201a8\"],[0.3333333333333333,\"#9c179e\"],[0.4444444444444444,\"#bd3786\"],[0.5555555555555556,\"#d8576b\"],[0.6666666666666666,\"#ed7953\"],[0.7777777777777778,\"#fb9f3a\"],[0.8888888888888888,\"#fdca26\"],[1.0,\"#f0f921\"]]}],\"mesh3d\":[{\"type\":\"mesh3d\",\"colorbar\":{\"outlinewidth\":0,\"ticks\":\"\"}}],\"scatter\":[{\"fillpattern\":{\"fillmode\":\"overlay\",\"size\":10,\"solidity\":0.2},\"type\":\"scatter\"}],\"parcoords\":[{\"type\":\"parcoords\",\"line\":{\"colorbar\":{\"outlinewidth\":0,\"ticks\":\"\"}}}],\"scatterpolargl\":[{\"type\":\"scatterpolargl\",\"marker\":{\"colorbar\":{\"outlinewidth\":0,\"ticks\":\"\"}}}],\"bar\":[{\"error_x\":{\"color\":\"#2a3f5f\"},\"error_y\":{\"color\":\"#2a3f5f\"},\"marker\":{\"line\":{\"color\":\"#E5ECF6\",\"width\":0.5},\"pattern\":{\"fillmode\":\"overlay\",\"size\":10,\"solidity\":0.2}},\"type\":\"bar\"}],\"scattergeo\":[{\"type\":\"scattergeo\",\"marker\":{\"colorbar\":{\"outlinewidth\":0,\"ticks\":\"\"}}}],\"scatterpolar\":[{\"type\":\"scatterpolar\",\"marker\":{\"colorbar\":{\"outlinewidth\":0,\"ticks\":\"\"}}}],\"histogram\":[{\"marker\":{\"pattern\":{\"fillmode\":\"overlay\",\"size\":10,\"solidity\":0.2}},\"type\":\"histogram\"}],\"scattergl\":[{\"type\":\"scattergl\",\"marker\":{\"colorbar\":{\"outlinewidth\":0,\"ticks\":\"\"}}}],\"scatter3d\":[{\"type\":\"scatter3d\",\"line\":{\"colorbar\":{\"outlinewidth\":0,\"ticks\":\"\"}},\"marker\":{\"colorbar\":{\"outlinewidth\":0,\"ticks\":\"\"}}}],\"scattermapbox\":[{\"type\":\"scattermapbox\",\"marker\":{\"colorbar\":{\"outlinewidth\":0,\"ticks\":\"\"}}}],\"scatterternary\":[{\"type\":\"scatterternary\",\"marker\":{\"colorbar\":{\"outlinewidth\":0,\"ticks\":\"\"}}}],\"scattercarpet\":[{\"type\":\"scattercarpet\",\"marker\":{\"colorbar\":{\"outlinewidth\":0,\"ticks\":\"\"}}}],\"carpet\":[{\"aaxis\":{\"endlinecolor\":\"#2a3f5f\",\"gridcolor\":\"white\",\"linecolor\":\"white\",\"minorgridcolor\":\"white\",\"startlinecolor\":\"#2a3f5f\"},\"baxis\":{\"endlinecolor\":\"#2a3f5f\",\"gridcolor\":\"white\",\"linecolor\":\"white\",\"minorgridcolor\":\"white\",\"startlinecolor\":\"#2a3f5f\"},\"type\":\"carpet\"}],\"table\":[{\"cells\":{\"fill\":{\"color\":\"#EBF0F8\"},\"line\":{\"color\":\"white\"}},\"header\":{\"fill\":{\"color\":\"#C8D4E3\"},\"line\":{\"color\":\"white\"}},\"type\":\"table\"}],\"barpolar\":[{\"marker\":{\"line\":{\"color\":\"#E5ECF6\",\"width\":0.5},\"pattern\":{\"fillmode\":\"overlay\",\"size\":10,\"solidity\":0.2}},\"type\":\"barpolar\"}],\"pie\":[{\"automargin\":true,\"type\":\"pie\"}]},\"layout\":{\"autotypenumbers\":\"strict\",\"colorway\":[\"#636efa\",\"#EF553B\",\"#00cc96\",\"#ab63fa\",\"#FFA15A\",\"#19d3f3\",\"#FF6692\",\"#B6E880\",\"#FF97FF\",\"#FECB52\"],\"font\":{\"color\":\"#2a3f5f\"},\"hovermode\":\"closest\",\"hoverlabel\":{\"align\":\"left\"},\"paper_bgcolor\":\"white\",\"plot_bgcolor\":\"#E5ECF6\",\"polar\":{\"bgcolor\":\"#E5ECF6\",\"angularaxis\":{\"gridcolor\":\"white\",\"linecolor\":\"white\",\"ticks\":\"\"},\"radialaxis\":{\"gridcolor\":\"white\",\"linecolor\":\"white\",\"ticks\":\"\"}},\"ternary\":{\"bgcolor\":\"#E5ECF6\",\"aaxis\":{\"gridcolor\":\"white\",\"linecolor\":\"white\",\"ticks\":\"\"},\"baxis\":{\"gridcolor\":\"white\",\"linecolor\":\"white\",\"ticks\":\"\"},\"caxis\":{\"gridcolor\":\"white\",\"linecolor\":\"white\",\"ticks\":\"\"}},\"coloraxis\":{\"colorbar\":{\"outlinewidth\":0,\"ticks\":\"\"}},\"colorscale\":{\"sequential\":[[0.0,\"#0d0887\"],[0.1111111111111111,\"#46039f\"],[0.2222222222222222,\"#7201a8\"],[0.3333333333333333,\"#9c179e\"],[0.4444444444444444,\"#bd3786\"],[0.5555555555555556,\"#d8576b\"],[0.6666666666666666,\"#ed7953\"],[0.7777777777777778,\"#fb9f3a\"],[0.8888888888888888,\"#fdca26\"],[1.0,\"#f0f921\"]],\"sequentialminus\":[[0.0,\"#0d0887\"],[0.1111111111111111,\"#46039f\"],[0.2222222222222222,\"#7201a8\"],[0.3333333333333333,\"#9c179e\"],[0.4444444444444444,\"#bd3786\"],[0.5555555555555556,\"#d8576b\"],[0.6666666666666666,\"#ed7953\"],[0.7777777777777778,\"#fb9f3a\"],[0.8888888888888888,\"#fdca26\"],[1.0,\"#f0f921\"]],\"diverging\":[[0,\"#8e0152\"],[0.1,\"#c51b7d\"],[0.2,\"#de77ae\"],[0.3,\"#f1b6da\"],[0.4,\"#fde0ef\"],[0.5,\"#f7f7f7\"],[0.6,\"#e6f5d0\"],[0.7,\"#b8e186\"],[0.8,\"#7fbc41\"],[0.9,\"#4d9221\"],[1,\"#276419\"]]},\"xaxis\":{\"gridcolor\":\"white\",\"linecolor\":\"white\",\"ticks\":\"\",\"title\":{\"standoff\":15},\"zerolinecolor\":\"white\",\"automargin\":true,\"zerolinewidth\":2},\"yaxis\":{\"gridcolor\":\"white\",\"linecolor\":\"white\",\"ticks\":\"\",\"title\":{\"standoff\":15},\"zerolinecolor\":\"white\",\"automargin\":true,\"zerolinewidth\":2},\"scene\":{\"xaxis\":{\"backgroundcolor\":\"#E5ECF6\",\"gridcolor\":\"white\",\"linecolor\":\"white\",\"showbackground\":true,\"ticks\":\"\",\"zerolinecolor\":\"white\",\"gridwidth\":2},\"yaxis\":{\"backgroundcolor\":\"#E5ECF6\",\"gridcolor\":\"white\",\"linecolor\":\"white\",\"showbackground\":true,\"ticks\":\"\",\"zerolinecolor\":\"white\",\"gridwidth\":2},\"zaxis\":{\"backgroundcolor\":\"#E5ECF6\",\"gridcolor\":\"white\",\"linecolor\":\"white\",\"showbackground\":true,\"ticks\":\"\",\"zerolinecolor\":\"white\",\"gridwidth\":2}},\"shapedefaults\":{\"line\":{\"color\":\"#2a3f5f\"}},\"annotationdefaults\":{\"arrowcolor\":\"#2a3f5f\",\"arrowhead\":0,\"arrowwidth\":1},\"geo\":{\"bgcolor\":\"white\",\"landcolor\":\"#E5ECF6\",\"subunitcolor\":\"white\",\"showland\":true,\"showlakes\":true,\"lakecolor\":\"white\"},\"title\":{\"x\":0.05},\"mapbox\":{\"style\":\"light\"}}},\"xaxis\":{\"anchor\":\"y\",\"domain\":[0.0,1.0],\"title\":{\"text\":\"date\"}},\"yaxis\":{\"anchor\":\"x\",\"domain\":[0.0,1.0],\"title\":{\"text\":\"TBsubjectivity\"}},\"legend\":{\"tracegroupgap\":0},\"title\":{\"text\":\"TextBlob subjectivity\"}},                        {\"responsive\": true}                    ).then(function(){\n",
       "                            \n",
       "var gd = document.getElementById('0dfad1b9-4b78-4789-81d3-48f694ceb3bb');\n",
       "var x = new MutationObserver(function (mutations, observer) {{\n",
       "        var display = window.getComputedStyle(gd).display;\n",
       "        if (!display || display === 'none') {{\n",
       "            console.log([gd, 'removed!']);\n",
       "            Plotly.purge(gd);\n",
       "            observer.disconnect();\n",
       "        }}\n",
       "}});\n",
       "\n",
       "// Listen for the removal of the full notebook cells\n",
       "var notebookContainer = gd.closest('#notebook-container');\n",
       "if (notebookContainer) {{\n",
       "    x.observe(notebookContainer, {childList: true});\n",
       "}}\n",
       "\n",
       "// Listen for the clearing of the current output cell\n",
       "var outputEl = gd.closest('.output');\n",
       "if (outputEl) {{\n",
       "    x.observe(outputEl, {childList: true});\n",
       "}}\n",
       "\n",
       "                        })                };                });            </script>        </div>"
      ]
     },
     "metadata": {},
     "output_type": "display_data"
    }
   ],
   "source": [
    "fig = px.line(text_df, x=text_df.index, y=\"TBsubjectivity\", hover_name=text_df.index,\n",
    "             title='TextBlob subjectivity')\n",
    "fig.show()"
   ]
  },
  {
   "cell_type": "code",
   "execution_count": 156,
   "id": "c2e446b0",
   "metadata": {},
   "outputs": [
    {
     "data": {
      "application/vnd.plotly.v1+json": {
       "config": {
        "plotlyServerURL": "https://plot.ly"
       },
       "data": [
        {
         "hovertemplate": "<b>%{hovertext}</b><br><br>date=%{x}<br>TBpolarity=%{y}<extra></extra>",
         "hovertext": [
          "2008-07-15T00:00:00",
          "2008-10-01T00:00:00",
          "2008-11-07T00:00:00",
          "2008-11-18T00:00:00",
          "2008-11-24T00:00:00",
          "2008-11-25T00:00:00",
          "2008-11-26T00:00:00",
          "2008-12-01T00:00:00",
          "2008-12-03T00:00:00",
          "2009-01-05T00:00:00",
          "2009-01-08T00:00:00",
          "2009-01-09T00:00:00",
          "2009-01-18T00:00:00",
          "2009-01-20T00:00:00",
          "2009-01-24T00:00:00",
          "2009-02-04T00:00:00",
          "2009-02-09T00:00:00",
          "2009-02-12T00:00:00",
          "2009-02-12T00:00:00",
          "2009-02-24T00:00:00",
          "2009-02-27T00:00:00",
          "2009-03-10T00:00:00",
          "2009-04-02T00:00:00",
          "2009-04-03T00:00:00",
          "2009-04-05T00:00:00",
          "2009-04-06T00:00:00",
          "2009-04-14T00:00:00",
          "2009-04-20T00:00:00",
          "2009-04-23T00:00:00",
          "2009-05-09T00:00:00",
          "2009-05-14T00:00:00",
          "2009-05-17T00:00:00",
          "2009-05-18T00:00:00",
          "2009-05-21T00:00:00",
          "2009-05-29T00:00:00",
          "2009-06-04T00:00:00",
          "2009-06-04T00:00:00",
          "2009-06-05T00:00:00",
          "2009-06-15T00:00:00",
          "2009-06-23T00:00:00",
          "2009-06-23T00:00:00",
          "2009-07-07T00:00:00",
          "2009-07-11T00:00:00",
          "2009-07-13T00:00:00",
          "2009-07-14T00:00:00",
          "2009-08-29T00:00:00",
          "2009-09-08T00:00:00",
          "2009-09-09T00:00:00",
          "2009-09-09T00:00:00",
          "2009-09-11T00:00:00",
          "2009-09-23T00:00:00",
          "2009-11-10T00:00:00",
          "2009-11-16T00:00:00",
          "2009-12-01T00:00:00",
          "2009-12-06T00:00:00",
          "2009-12-08T00:00:00",
          "2009-12-10T00:00:00",
          "2009-12-18T00:00:00",
          "2009-12-28T00:00:00",
          "2009-12-29T00:00:00",
          "2010-01-05T00:00:00",
          "2010-01-07T00:00:00",
          "2010-01-14T00:00:00",
          "2010-01-17T00:00:00",
          "2010-01-22T00:00:00",
          "2010-01-27T00:00:00",
          "2010-01-27T00:00:00",
          "2010-01-29T00:00:00",
          "2010-02-01T00:00:00",
          "2010-02-04T00:00:00",
          "2010-02-09T00:00:00",
          "2010-02-19T00:00:00",
          "2010-03-03T00:00:00",
          "2010-03-13T00:00:00",
          "2010-03-19T00:00:00",
          "2010-03-20T00:00:00",
          "2010-03-21T00:00:00",
          "2010-03-23T00:00:00",
          "2010-03-28T00:00:00",
          "2010-03-31T00:00:00",
          "2010-04-08T00:00:00",
          "2010-04-09T00:00:00",
          "2010-04-15T00:00:00",
          "2010-04-22T00:00:00",
          "2010-04-25T00:00:00",
          "2010-04-29T00:00:00",
          "2010-05-01T00:00:00",
          "2010-05-01T00:00:00",
          "2010-05-10T00:00:00",
          "2010-05-22T00:00:00",
          "2010-05-27T00:00:00",
          "2010-05-28T00:00:00",
          "2010-06-02T00:00:00",
          "2010-06-07T00:00:00",
          "2010-06-09T00:00:00",
          "2010-06-15T00:00:00",
          "2010-06-15T00:00:00",
          "2010-06-16T00:00:00",
          "2010-06-21T00:00:00",
          "2010-06-23T00:00:00",
          "2010-07-01T00:00:00",
          "2010-07-02T00:00:00",
          "2010-07-21T00:00:00",
          "2010-07-29T00:00:00",
          "2010-08-02T00:00:00",
          "2010-08-13T00:00:00",
          "2010-09-11T00:00:00",
          "2010-09-23T00:00:00",
          "2010-11-03T00:00:00",
          "2010-11-06T00:00:00",
          "2010-11-08T00:00:00",
          "2010-11-10T00:00:00",
          "2010-11-16T00:00:00",
          "2010-12-03T00:00:00",
          "2011-01-12T00:00:00",
          "2011-01-26T00:00:00",
          "2011-02-01T00:00:00",
          "2011-02-03T00:00:00",
          "2011-02-07T00:00:00",
          "2011-02-10T00:00:00",
          "2011-02-11T00:00:00",
          "2011-02-23T00:00:00",
          "2011-03-18T00:00:00",
          "2011-03-19T00:00:00",
          "2011-03-20T00:00:00",
          "2011-03-21T00:00:00",
          "2011-03-28T00:00:00",
          "2011-03-30T00:00:00",
          "2011-04-13T00:00:00",
          "2011-04-26T00:00:00",
          "2011-04-27T00:00:00",
          "2011-04-29T00:00:00",
          "2011-04-29T00:00:00",
          "2011-04-30T00:00:00",
          "2011-05-01T00:00:00",
          "2011-05-06T00:00:00",
          "2011-05-16T00:00:00",
          "2011-05-19T00:00:00",
          "2011-05-20T00:00:00",
          "2011-05-20T00:00:00",
          "2011-05-25T00:00:00",
          "2011-05-29T00:00:00",
          "2011-05-30T00:00:00",
          "2011-06-22T00:00:00",
          "2011-06-24T00:00:00",
          "2011-06-29T00:00:00",
          "2011-07-25T00:00:00",
          "2011-07-31T00:00:00",
          "2011-08-02T00:00:00",
          "2011-08-30T00:00:00",
          "2011-09-08T00:00:00",
          "2011-09-19T00:00:00",
          "2011-09-20T00:00:00",
          "2011-09-21T00:00:00",
          "2011-10-16T00:00:00",
          "2011-10-20T00:00:00",
          "2011-11-16T00:00:00",
          "2011-12-02T00:00:00",
          "2011-12-06T00:00:00",
          "2011-12-17T00:00:00",
          "2012-01-05T00:00:00",
          "2012-01-25T00:00:00",
          "2012-02-01T00:00:00",
          "2012-02-03T00:00:00",
          "2012-02-29T00:00:00",
          "2012-03-04T00:00:00",
          "2012-03-26T00:00:00",
          "2012-03-29T00:00:00",
          "2012-04-23T00:00:00",
          "2012-04-28T00:00:00",
          "2012-05-14T00:00:00",
          "2012-06-13T00:00:00",
          "2012-06-28T00:00:00",
          "2012-07-20T00:00:00",
          "2012-07-23T00:00:00",
          "2012-09-12T00:00:00",
          "2012-09-14T00:00:00",
          "2012-09-25T00:00:00",
          "2012-09-25T00:00:00",
          "2012-10-29T00:00:00",
          "2012-10-30T00:00:00",
          "2012-11-06T00:00:00",
          "2012-11-09T00:00:00",
          "2012-11-14T00:00:00",
          "2012-11-19T00:00:00",
          "2012-12-14T00:00:00",
          "2012-12-16T00:00:00",
          "2012-12-19T00:00:00",
          "2012-12-21T00:00:00",
          "2013-01-14T00:00:00",
          "2013-01-16T00:00:00",
          "2013-01-21T00:00:00",
          "2013-01-21T00:00:00",
          "2013-01-29T00:00:00",
          "2013-02-12T00:00:00",
          "2013-02-13T00:00:00",
          "2013-02-15T00:00:00",
          "2013-02-26T00:00:00",
          "2013-02-27T00:00:00",
          "2013-03-22T00:00:00",
          "2013-04-02T00:00:00",
          "2013-04-03T00:00:00",
          "2013-04-08T00:00:00",
          "2013-04-11T00:00:00",
          "2013-04-15T00:00:00",
          "2013-04-16T00:00:00",
          "2013-04-17T00:00:00",
          "2013-04-18T00:00:00",
          "2013-04-19T00:00:00",
          "2013-04-25T00:00:00",
          "2013-04-25T00:00:00",
          "2013-04-27T00:00:00",
          "2013-05-03T00:00:00",
          "2013-05-15T00:00:00",
          "2013-05-19T00:00:00",
          "2013-05-23T00:00:00",
          "2013-05-24T00:00:00",
          "2013-06-07T00:00:00",
          "2013-06-11T00:00:00",
          "2013-06-17T00:00:00",
          "2013-06-19T00:00:00",
          "2013-06-30T00:00:00",
          "2013-07-19T00:00:00",
          "2013-07-24T00:00:00",
          "2013-07-27T00:00:00",
          "2013-08-09T00:00:00",
          "2013-08-28T00:00:00",
          "2013-08-31T00:00:00",
          "2013-09-10T00:00:00",
          "2013-09-22T00:00:00",
          "2013-09-24T00:00:00",
          "2013-10-02T00:00:00",
          "2013-10-21T00:00:00",
          "2013-11-11T00:00:00",
          "2013-11-14T00:00:00",
          "2013-11-23T00:00:00",
          "2013-12-05T00:00:00",
          "2013-12-10T00:00:00",
          "2013-12-20T00:00:00",
          "2014-01-17T00:00:00",
          "2014-01-29T00:00:00",
          "2014-02-06T00:00:00",
          "2014-03-26T00:00:00",
          "2014-04-10T00:00:00",
          "2014-04-17T00:00:00",
          "2014-04-24T00:00:00",
          "2014-04-27T00:00:00",
          "2014-04-29T00:00:00",
          "2014-05-03T00:00:00",
          "2014-05-21T00:00:00",
          "2014-05-27T00:00:00",
          "2014-05-28T00:00:00",
          "2014-05-30T00:00:00",
          "2014-06-04T00:00:00",
          "2014-06-06T00:00:00",
          "2014-06-30T00:00:00",
          "2014-07-18T00:00:00",
          "2014-07-21T00:00:00",
          "2014-08-01T00:00:00",
          "2014-08-07T00:00:00",
          "2014-08-09T00:00:00",
          "2014-08-14T00:00:00",
          "2014-08-28T00:00:00",
          "2014-09-03T00:00:00",
          "2014-09-03T00:00:00",
          "2014-09-10T00:00:00",
          "2014-09-16T00:00:00",
          "2014-09-24T00:00:00",
          "2014-09-24T00:00:00",
          "2014-09-25T00:00:00",
          "2014-10-17T00:00:00",
          "2014-10-28T00:00:00",
          "2014-11-05T00:00:00",
          "2014-11-14T00:00:00",
          "2014-11-14T00:00:00",
          "2014-11-15T00:00:00",
          "2014-11-20T00:00:00",
          "2014-11-24T00:00:00",
          "2014-12-02T00:00:00",
          "2014-12-17T00:00:00",
          "2014-12-19T00:00:00",
          "2015-01-09T00:00:00",
          "2015-01-12T00:00:00",
          "2015-01-13T00:00:00",
          "2015-01-21T00:00:00",
          "2015-01-27T00:00:00",
          "2015-02-05T00:00:00",
          "2015-02-11T00:00:00",
          "2015-02-13T00:00:00",
          "2015-02-18T00:00:00",
          "2015-03-03T00:00:00",
          "2015-03-07T00:00:00",
          "2015-03-10T00:00:00",
          "2015-03-30T00:00:00",
          "2015-04-02T00:00:00",
          "2015-04-09T00:00:00",
          "2015-04-10T00:00:00",
          "2015-04-11T00:00:00",
          "2015-04-11T00:00:00",
          "2015-04-23T00:00:00",
          "2015-04-25T00:00:00",
          "2015-05-08T00:00:00",
          "2015-05-22T00:00:00",
          "2015-06-01T00:00:00",
          "2015-06-06T00:00:00",
          "2015-06-08T00:00:00",
          "2015-06-17T00:00:00",
          "2015-06-18T00:00:00",
          "2015-06-19T00:00:00",
          "2015-06-24T00:00:00",
          "2015-06-25T00:00:00",
          "2015-06-26T00:00:00",
          "2015-07-06T00:00:00",
          "2015-07-13T00:00:00",
          "2015-07-14T00:00:00",
          "2015-07-14T00:00:00",
          "2015-07-15T00:00:00",
          "2015-07-26T00:00:00",
          "2015-07-26T00:00:00",
          "2015-07-28T00:00:00",
          "2015-08-03T00:00:00",
          "2015-08-05T00:00:00",
          "2015-08-27T00:00:00",
          "2015-09-11T00:00:00",
          "2015-09-19T00:00:00",
          "2015-09-23T00:00:00",
          "2015-09-25T00:00:00",
          "2015-09-25T00:00:00",
          "2015-09-28T00:00:00",
          "2015-10-01T00:00:00",
          "2015-10-02T00:00:00",
          "2015-10-15T00:00:00",
          "2015-11-13T00:00:00",
          "2015-11-13T00:00:00",
          "2015-11-16T00:00:00",
          "2015-11-21T00:00:00",
          "2015-11-22T00:00:00",
          "2015-11-24T00:00:00",
          "2015-11-30T00:00:00",
          "2015-12-01T00:00:00",
          "2015-12-06T00:00:00",
          "2015-12-09T00:00:00",
          "2015-12-10T00:00:00",
          "2015-12-12T00:00:00",
          "2015-12-14T00:00:00",
          "2015-12-15T00:00:00",
          "2015-12-17T00:00:00",
          "2015-12-18T00:00:00",
          "2016-01-01T00:00:00",
          "2016-01-05T00:00:00",
          "2016-01-13T00:00:00",
          "2016-01-17T00:00:00",
          "2016-01-27T00:00:00",
          "2016-02-03T00:00:00",
          "2016-02-04T00:00:00",
          "2016-02-04T00:00:00",
          "2016-02-10T00:00:00",
          "2016-02-13T00:00:00",
          "2016-02-16T00:00:00",
          "2016-02-20T00:00:00",
          "2016-02-23T00:00:00",
          "2016-02-25T00:00:00",
          "2016-02-26T00:00:00",
          "2016-03-16T00:00:00",
          "2016-03-21T00:00:00",
          "2016-03-21T00:00:00",
          "2016-03-22T00:00:00",
          "2016-03-23T00:00:00",
          "2016-04-01T00:00:00",
          "2016-04-07T00:00:00",
          "2016-04-23T00:00:00",
          "2016-04-25T00:00:00",
          "2016-04-30T00:00:00",
          "2016-05-04T00:00:00",
          "2016-05-07T00:00:00",
          "2016-05-24T00:00:00",
          "2016-05-24T00:00:00",
          "2016-05-25T00:00:00",
          "2016-05-25T00:00:00",
          "2016-05-26T00:00:00",
          "2016-05-27T00:00:00",
          "2016-06-02T00:00:00",
          "2016-06-09T00:00:00",
          "2016-06-12T00:00:00",
          "2016-06-14T00:00:00",
          "2016-06-14T00:00:00",
          "2016-06-16T00:00:00",
          "2016-06-23T00:00:00",
          "2016-06-29T00:00:00",
          "2016-07-09T00:00:00",
          "2016-07-12T00:00:00",
          "2016-08-04T00:00:00",
          "2016-08-23T00:00:00",
          "2016-09-05T00:00:00",
          "2016-09-06T00:00:00",
          "2016-09-06T00:00:00",
          "2016-09-11T00:00:00",
          "2016-09-19T00:00:00",
          "2016-09-20T00:00:00",
          "2016-09-24T00:00:00",
          "2016-09-30T00:00:00",
          "2016-11-09T00:00:00",
          "2016-11-10T00:00:00",
          "2016-11-14T00:00:00",
          "2016-11-16T00:00:00",
          "2016-11-20T00:00:00",
          "2016-11-20T00:00:00",
          "2016-12-04T00:00:00",
          "2016-12-04T00:00:00",
          "2016-12-06T00:00:00",
          "2016-12-16T00:00:00",
          "2016-12-27T00:00:00",
          "2017-01-10T00:00:00",
          "2017-01-12T00:00:00",
          "2017-01-14T00:00:00",
          "2017-01-16T00:00:00",
          "2017-01-18T00:00:00",
          "2017-01-20T00:00:00"
         ],
         "legendgroup": "",
         "line": {
          "color": "#636efa",
          "dash": "solid"
         },
         "marker": {
          "symbol": "circle"
         },
         "mode": "lines",
         "name": "",
         "orientation": "v",
         "showlegend": false,
         "type": "scatter",
         "x": [
          "2008-07-15T00:00:00",
          "2008-10-01T00:00:00",
          "2008-11-07T00:00:00",
          "2008-11-18T00:00:00",
          "2008-11-24T00:00:00",
          "2008-11-25T00:00:00",
          "2008-11-26T00:00:00",
          "2008-12-01T00:00:00",
          "2008-12-03T00:00:00",
          "2009-01-05T00:00:00",
          "2009-01-08T00:00:00",
          "2009-01-09T00:00:00",
          "2009-01-18T00:00:00",
          "2009-01-20T00:00:00",
          "2009-01-24T00:00:00",
          "2009-02-04T00:00:00",
          "2009-02-09T00:00:00",
          "2009-02-12T00:00:00",
          "2009-02-12T00:00:00",
          "2009-02-24T00:00:00",
          "2009-02-27T00:00:00",
          "2009-03-10T00:00:00",
          "2009-04-02T00:00:00",
          "2009-04-03T00:00:00",
          "2009-04-05T00:00:00",
          "2009-04-06T00:00:00",
          "2009-04-14T00:00:00",
          "2009-04-20T00:00:00",
          "2009-04-23T00:00:00",
          "2009-05-09T00:00:00",
          "2009-05-14T00:00:00",
          "2009-05-17T00:00:00",
          "2009-05-18T00:00:00",
          "2009-05-21T00:00:00",
          "2009-05-29T00:00:00",
          "2009-06-04T00:00:00",
          "2009-06-04T00:00:00",
          "2009-06-05T00:00:00",
          "2009-06-15T00:00:00",
          "2009-06-23T00:00:00",
          "2009-06-23T00:00:00",
          "2009-07-07T00:00:00",
          "2009-07-11T00:00:00",
          "2009-07-13T00:00:00",
          "2009-07-14T00:00:00",
          "2009-08-29T00:00:00",
          "2009-09-08T00:00:00",
          "2009-09-09T00:00:00",
          "2009-09-09T00:00:00",
          "2009-09-11T00:00:00",
          "2009-09-23T00:00:00",
          "2009-11-10T00:00:00",
          "2009-11-16T00:00:00",
          "2009-12-01T00:00:00",
          "2009-12-06T00:00:00",
          "2009-12-08T00:00:00",
          "2009-12-10T00:00:00",
          "2009-12-18T00:00:00",
          "2009-12-28T00:00:00",
          "2009-12-29T00:00:00",
          "2010-01-05T00:00:00",
          "2010-01-07T00:00:00",
          "2010-01-14T00:00:00",
          "2010-01-17T00:00:00",
          "2010-01-22T00:00:00",
          "2010-01-27T00:00:00",
          "2010-01-27T00:00:00",
          "2010-01-29T00:00:00",
          "2010-02-01T00:00:00",
          "2010-02-04T00:00:00",
          "2010-02-09T00:00:00",
          "2010-02-19T00:00:00",
          "2010-03-03T00:00:00",
          "2010-03-13T00:00:00",
          "2010-03-19T00:00:00",
          "2010-03-20T00:00:00",
          "2010-03-21T00:00:00",
          "2010-03-23T00:00:00",
          "2010-03-28T00:00:00",
          "2010-03-31T00:00:00",
          "2010-04-08T00:00:00",
          "2010-04-09T00:00:00",
          "2010-04-15T00:00:00",
          "2010-04-22T00:00:00",
          "2010-04-25T00:00:00",
          "2010-04-29T00:00:00",
          "2010-05-01T00:00:00",
          "2010-05-01T00:00:00",
          "2010-05-10T00:00:00",
          "2010-05-22T00:00:00",
          "2010-05-27T00:00:00",
          "2010-05-28T00:00:00",
          "2010-06-02T00:00:00",
          "2010-06-07T00:00:00",
          "2010-06-09T00:00:00",
          "2010-06-15T00:00:00",
          "2010-06-15T00:00:00",
          "2010-06-16T00:00:00",
          "2010-06-21T00:00:00",
          "2010-06-23T00:00:00",
          "2010-07-01T00:00:00",
          "2010-07-02T00:00:00",
          "2010-07-21T00:00:00",
          "2010-07-29T00:00:00",
          "2010-08-02T00:00:00",
          "2010-08-13T00:00:00",
          "2010-09-11T00:00:00",
          "2010-09-23T00:00:00",
          "2010-11-03T00:00:00",
          "2010-11-06T00:00:00",
          "2010-11-08T00:00:00",
          "2010-11-10T00:00:00",
          "2010-11-16T00:00:00",
          "2010-12-03T00:00:00",
          "2011-01-12T00:00:00",
          "2011-01-26T00:00:00",
          "2011-02-01T00:00:00",
          "2011-02-03T00:00:00",
          "2011-02-07T00:00:00",
          "2011-02-10T00:00:00",
          "2011-02-11T00:00:00",
          "2011-02-23T00:00:00",
          "2011-03-18T00:00:00",
          "2011-03-19T00:00:00",
          "2011-03-20T00:00:00",
          "2011-03-21T00:00:00",
          "2011-03-28T00:00:00",
          "2011-03-30T00:00:00",
          "2011-04-13T00:00:00",
          "2011-04-26T00:00:00",
          "2011-04-27T00:00:00",
          "2011-04-29T00:00:00",
          "2011-04-29T00:00:00",
          "2011-04-30T00:00:00",
          "2011-05-01T00:00:00",
          "2011-05-06T00:00:00",
          "2011-05-16T00:00:00",
          "2011-05-19T00:00:00",
          "2011-05-20T00:00:00",
          "2011-05-20T00:00:00",
          "2011-05-25T00:00:00",
          "2011-05-29T00:00:00",
          "2011-05-30T00:00:00",
          "2011-06-22T00:00:00",
          "2011-06-24T00:00:00",
          "2011-06-29T00:00:00",
          "2011-07-25T00:00:00",
          "2011-07-31T00:00:00",
          "2011-08-02T00:00:00",
          "2011-08-30T00:00:00",
          "2011-09-08T00:00:00",
          "2011-09-19T00:00:00",
          "2011-09-20T00:00:00",
          "2011-09-21T00:00:00",
          "2011-10-16T00:00:00",
          "2011-10-20T00:00:00",
          "2011-11-16T00:00:00",
          "2011-12-02T00:00:00",
          "2011-12-06T00:00:00",
          "2011-12-17T00:00:00",
          "2012-01-05T00:00:00",
          "2012-01-25T00:00:00",
          "2012-02-01T00:00:00",
          "2012-02-03T00:00:00",
          "2012-02-29T00:00:00",
          "2012-03-04T00:00:00",
          "2012-03-26T00:00:00",
          "2012-03-29T00:00:00",
          "2012-04-23T00:00:00",
          "2012-04-28T00:00:00",
          "2012-05-14T00:00:00",
          "2012-06-13T00:00:00",
          "2012-06-28T00:00:00",
          "2012-07-20T00:00:00",
          "2012-07-23T00:00:00",
          "2012-09-12T00:00:00",
          "2012-09-14T00:00:00",
          "2012-09-25T00:00:00",
          "2012-09-25T00:00:00",
          "2012-10-29T00:00:00",
          "2012-10-30T00:00:00",
          "2012-11-06T00:00:00",
          "2012-11-09T00:00:00",
          "2012-11-14T00:00:00",
          "2012-11-19T00:00:00",
          "2012-12-14T00:00:00",
          "2012-12-16T00:00:00",
          "2012-12-19T00:00:00",
          "2012-12-21T00:00:00",
          "2013-01-14T00:00:00",
          "2013-01-16T00:00:00",
          "2013-01-21T00:00:00",
          "2013-01-21T00:00:00",
          "2013-01-29T00:00:00",
          "2013-02-12T00:00:00",
          "2013-02-13T00:00:00",
          "2013-02-15T00:00:00",
          "2013-02-26T00:00:00",
          "2013-02-27T00:00:00",
          "2013-03-22T00:00:00",
          "2013-04-02T00:00:00",
          "2013-04-03T00:00:00",
          "2013-04-08T00:00:00",
          "2013-04-11T00:00:00",
          "2013-04-15T00:00:00",
          "2013-04-16T00:00:00",
          "2013-04-17T00:00:00",
          "2013-04-18T00:00:00",
          "2013-04-19T00:00:00",
          "2013-04-25T00:00:00",
          "2013-04-25T00:00:00",
          "2013-04-27T00:00:00",
          "2013-05-03T00:00:00",
          "2013-05-15T00:00:00",
          "2013-05-19T00:00:00",
          "2013-05-23T00:00:00",
          "2013-05-24T00:00:00",
          "2013-06-07T00:00:00",
          "2013-06-11T00:00:00",
          "2013-06-17T00:00:00",
          "2013-06-19T00:00:00",
          "2013-06-30T00:00:00",
          "2013-07-19T00:00:00",
          "2013-07-24T00:00:00",
          "2013-07-27T00:00:00",
          "2013-08-09T00:00:00",
          "2013-08-28T00:00:00",
          "2013-08-31T00:00:00",
          "2013-09-10T00:00:00",
          "2013-09-22T00:00:00",
          "2013-09-24T00:00:00",
          "2013-10-02T00:00:00",
          "2013-10-21T00:00:00",
          "2013-11-11T00:00:00",
          "2013-11-14T00:00:00",
          "2013-11-23T00:00:00",
          "2013-12-05T00:00:00",
          "2013-12-10T00:00:00",
          "2013-12-20T00:00:00",
          "2014-01-17T00:00:00",
          "2014-01-29T00:00:00",
          "2014-02-06T00:00:00",
          "2014-03-26T00:00:00",
          "2014-04-10T00:00:00",
          "2014-04-17T00:00:00",
          "2014-04-24T00:00:00",
          "2014-04-27T00:00:00",
          "2014-04-29T00:00:00",
          "2014-05-03T00:00:00",
          "2014-05-21T00:00:00",
          "2014-05-27T00:00:00",
          "2014-05-28T00:00:00",
          "2014-05-30T00:00:00",
          "2014-06-04T00:00:00",
          "2014-06-06T00:00:00",
          "2014-06-30T00:00:00",
          "2014-07-18T00:00:00",
          "2014-07-21T00:00:00",
          "2014-08-01T00:00:00",
          "2014-08-07T00:00:00",
          "2014-08-09T00:00:00",
          "2014-08-14T00:00:00",
          "2014-08-28T00:00:00",
          "2014-09-03T00:00:00",
          "2014-09-03T00:00:00",
          "2014-09-10T00:00:00",
          "2014-09-16T00:00:00",
          "2014-09-24T00:00:00",
          "2014-09-24T00:00:00",
          "2014-09-25T00:00:00",
          "2014-10-17T00:00:00",
          "2014-10-28T00:00:00",
          "2014-11-05T00:00:00",
          "2014-11-14T00:00:00",
          "2014-11-14T00:00:00",
          "2014-11-15T00:00:00",
          "2014-11-20T00:00:00",
          "2014-11-24T00:00:00",
          "2014-12-02T00:00:00",
          "2014-12-17T00:00:00",
          "2014-12-19T00:00:00",
          "2015-01-09T00:00:00",
          "2015-01-12T00:00:00",
          "2015-01-13T00:00:00",
          "2015-01-21T00:00:00",
          "2015-01-27T00:00:00",
          "2015-02-05T00:00:00",
          "2015-02-11T00:00:00",
          "2015-02-13T00:00:00",
          "2015-02-18T00:00:00",
          "2015-03-03T00:00:00",
          "2015-03-07T00:00:00",
          "2015-03-10T00:00:00",
          "2015-03-30T00:00:00",
          "2015-04-02T00:00:00",
          "2015-04-09T00:00:00",
          "2015-04-10T00:00:00",
          "2015-04-11T00:00:00",
          "2015-04-11T00:00:00",
          "2015-04-23T00:00:00",
          "2015-04-25T00:00:00",
          "2015-05-08T00:00:00",
          "2015-05-22T00:00:00",
          "2015-06-01T00:00:00",
          "2015-06-06T00:00:00",
          "2015-06-08T00:00:00",
          "2015-06-17T00:00:00",
          "2015-06-18T00:00:00",
          "2015-06-19T00:00:00",
          "2015-06-24T00:00:00",
          "2015-06-25T00:00:00",
          "2015-06-26T00:00:00",
          "2015-07-06T00:00:00",
          "2015-07-13T00:00:00",
          "2015-07-14T00:00:00",
          "2015-07-14T00:00:00",
          "2015-07-15T00:00:00",
          "2015-07-26T00:00:00",
          "2015-07-26T00:00:00",
          "2015-07-28T00:00:00",
          "2015-08-03T00:00:00",
          "2015-08-05T00:00:00",
          "2015-08-27T00:00:00",
          "2015-09-11T00:00:00",
          "2015-09-19T00:00:00",
          "2015-09-23T00:00:00",
          "2015-09-25T00:00:00",
          "2015-09-25T00:00:00",
          "2015-09-28T00:00:00",
          "2015-10-01T00:00:00",
          "2015-10-02T00:00:00",
          "2015-10-15T00:00:00",
          "2015-11-13T00:00:00",
          "2015-11-13T00:00:00",
          "2015-11-16T00:00:00",
          "2015-11-21T00:00:00",
          "2015-11-22T00:00:00",
          "2015-11-24T00:00:00",
          "2015-11-30T00:00:00",
          "2015-12-01T00:00:00",
          "2015-12-06T00:00:00",
          "2015-12-09T00:00:00",
          "2015-12-10T00:00:00",
          "2015-12-12T00:00:00",
          "2015-12-14T00:00:00",
          "2015-12-15T00:00:00",
          "2015-12-17T00:00:00",
          "2015-12-18T00:00:00",
          "2016-01-01T00:00:00",
          "2016-01-05T00:00:00",
          "2016-01-13T00:00:00",
          "2016-01-17T00:00:00",
          "2016-01-27T00:00:00",
          "2016-02-03T00:00:00",
          "2016-02-04T00:00:00",
          "2016-02-04T00:00:00",
          "2016-02-10T00:00:00",
          "2016-02-13T00:00:00",
          "2016-02-16T00:00:00",
          "2016-02-20T00:00:00",
          "2016-02-23T00:00:00",
          "2016-02-25T00:00:00",
          "2016-02-26T00:00:00",
          "2016-03-16T00:00:00",
          "2016-03-21T00:00:00",
          "2016-03-21T00:00:00",
          "2016-03-22T00:00:00",
          "2016-03-23T00:00:00",
          "2016-04-01T00:00:00",
          "2016-04-07T00:00:00",
          "2016-04-23T00:00:00",
          "2016-04-25T00:00:00",
          "2016-04-30T00:00:00",
          "2016-05-04T00:00:00",
          "2016-05-07T00:00:00",
          "2016-05-24T00:00:00",
          "2016-05-24T00:00:00",
          "2016-05-25T00:00:00",
          "2016-05-25T00:00:00",
          "2016-05-26T00:00:00",
          "2016-05-27T00:00:00",
          "2016-06-02T00:00:00",
          "2016-06-09T00:00:00",
          "2016-06-12T00:00:00",
          "2016-06-14T00:00:00",
          "2016-06-14T00:00:00",
          "2016-06-16T00:00:00",
          "2016-06-23T00:00:00",
          "2016-06-29T00:00:00",
          "2016-07-09T00:00:00",
          "2016-07-12T00:00:00",
          "2016-08-04T00:00:00",
          "2016-08-23T00:00:00",
          "2016-09-05T00:00:00",
          "2016-09-06T00:00:00",
          "2016-09-06T00:00:00",
          "2016-09-11T00:00:00",
          "2016-09-19T00:00:00",
          "2016-09-20T00:00:00",
          "2016-09-24T00:00:00",
          "2016-09-30T00:00:00",
          "2016-11-09T00:00:00",
          "2016-11-10T00:00:00",
          "2016-11-14T00:00:00",
          "2016-11-16T00:00:00",
          "2016-11-20T00:00:00",
          "2016-11-20T00:00:00",
          "2016-12-04T00:00:00",
          "2016-12-04T00:00:00",
          "2016-12-06T00:00:00",
          "2016-12-16T00:00:00",
          "2016-12-27T00:00:00",
          "2017-01-10T00:00:00",
          "2017-01-12T00:00:00",
          "2017-01-14T00:00:00",
          "2017-01-16T00:00:00",
          "2017-01-18T00:00:00",
          "2017-01-20T00:00:00"
         ],
         "xaxis": "x",
         "y": [
          0.10829639711100382,
          0.09940326051597731,
          0.09045940170940171,
          0.1662519480519481,
          0.16552895021645014,
          0.17074484928651593,
          0.19012960616619148,
          0.16170050972209254,
          0.14368843716669802,
          0.054137847171555016,
          0.11785466441954996,
          0.09926208809405532,
          0.1738891611533121,
          0.08521095124543403,
          0.13152606772736644,
          0.12418275318785524,
          0.13004429598179598,
          0.1133318636096414,
          0.16922586956329286,
          0.10163050573764858,
          0.17092624819624816,
          0.17432092213342207,
          0.10819272940174578,
          0.08525139473202857,
          0.10031615630641606,
          0.15565459088714909,
          0.0900567785724035,
          0.148214463862612,
          0.10218482831386058,
          0.19338892674540833,
          0.16241460676869615,
          0.05445326278659613,
          0.14334256753347657,
          0.09575411345108326,
          0.08866680503666809,
          0.10999123154134165,
          0.07920981615786812,
          0.07925444078613093,
          0.13477207873275296,
          0.1284778072656861,
          0.08775539275539275,
          0.11843206501101246,
          0.16470640550842863,
          0.11191798941798943,
          0.12207910524630783,
          0.21995730737768965,
          0.15906751088994062,
          0.10300749788635258,
          0.1715930447330448,
          0.12193763027096359,
          0.07781578926674299,
          0.14638021069839247,
          0.15939930622196635,
          0.11186692182773686,
          0.20634891646052372,
          0.08762825365284382,
          0.07798931975692543,
          0.14044512778887774,
          0.16138557290072444,
          0.10879340277777777,
          0.056354478854478834,
          0.09779436754765702,
          0.07994480519480518,
          0.09359609102174157,
          0.0802603415103415,
          0.0787360785740821,
          0.10182379349046015,
          0.1679301364749125,
          0.08369963056993131,
          0.11473451350237068,
          0.14546004060538942,
          0.14795708278961875,
          0.13098078011073608,
          0.13884160756501182,
          0.058312385039852886,
          0.16343498913537824,
          0.13106777760392221,
          0.1357747933884298,
          0.18454224403985162,
          0.0851137660451386,
          0.1316027462121212,
          0.04050215500873394,
          0.11442621227693171,
          0.1019415796621679,
          0.1635233918128655,
          0.2383453706157788,
          0.1176549076383514,
          0.14632215278455876,
          0.260696142093201,
          0.14132624216579442,
          0.12335819934034224,
          0.17329471609672953,
          0.11891005701240245,
          0.2190808080808081,
          0.12173385157256124,
          0.12042020665015318,
          0.14137800488652746,
          0.13620665358946607,
          0.22512552051123477,
          0.10122376361012728,
          0.07666993403421972,
          0.20003237003237004,
          0.09436991495502137,
          0.14564971483542902,
          0.19041098417038263,
          0.1837213449429359,
          0.15470259958896326,
          0.11922980918322534,
          0.15016323953823957,
          0.18546517892587758,
          0.14564887441125063,
          0.18778475805016895,
          0.11622314169570264,
          0.14213517375810192,
          0.18063112856136118,
          0.15237445231536148,
          0.16641679957469432,
          0.14643399254054995,
          0.15184901485169577,
          0.19878173675199398,
          0.15012901572112097,
          0.14029061102831594,
          0.10972241118669689,
          0.17907563025210085,
          0.2055608385821657,
          0.1758673112362871,
          0.10743085618085621,
          0.14573811251954946,
          0.13282429296254183,
          0.051333333333333335,
          0.20476924860853432,
          0.12889433551198257,
          0.16132849834148535,
          0.15198751362016671,
          0.12453007518796987,
          0.19845140480434598,
          0.15022775602919147,
          0.11326453165308584,
          0.19529753033851394,
          0.1594466326023703,
          0.1172552521328957,
          0.1623803344289455,
          0.174168004934134,
          0.10559515792849122,
          0.22856117481117474,
          0.15172121055273227,
          0.1251904722692766,
          0.11161097187412974,
          0.1815087123151639,
          0.19970465169494286,
          0.13140829517035307,
          0.10779519331243469,
          0.12556292971734148,
          0.10513244384139905,
          0.13736656034024458,
          0.15056627037970322,
          0.14937122085911012,
          0.1510968314093314,
          0.19233497211201206,
          0.20928030303030304,
          0.13274741971775875,
          0.12489665281193517,
          0.1323984322172728,
          0.2509917542774686,
          0.26273953123467697,
          0.1282590959764873,
          0.16354494822915874,
          0.15545962875508335,
          0.13542883935427794,
          0.1496650940205628,
          0.16232608284247627,
          0.18794016485797305,
          0.17215466742252458,
          0.13101873536299766,
          0.18285614532773609,
          0.05845959595959595,
          0.11371717171717172,
          0.14510201897913758,
          0.061939052584213894,
          0.144440083725798,
          0.16768332248724407,
          0.177370556564105,
          0.11483719685332586,
          0.1293757957728546,
          0.14645661217089792,
          0.17922247023809526,
          0.135351811179017,
          0.04668955176767677,
          0.24180202258714653,
          0.12913876388647025,
          0.1393024608833432,
          0.13168255131964804,
          0.18020408163265303,
          0.13742420014880952,
          0.20416326565316453,
          0.1530172361323505,
          0.12245943832078278,
          -0.008304100114444948,
          0.15178042929292931,
          0.08008862206975413,
          0.22312521672986796,
          0.12781284898676193,
          0.11855593634760295,
          0.10579582890903644,
          0.1645988845988846,
          0.20543290043290047,
          0.06040488591269842,
          0.18404090508257176,
          0.12887775716347147,
          0.17786316581968756,
          0.1944153439153439,
          0.14092610597958194,
          0.205501403863432,
          0.2683751803751803,
          0.14541598691450328,
          0.06479468702029675,
          0.15803303713830022,
          0.16376649902385204,
          0.14776806156806158,
          0.1508795876305068,
          0.18467760545239884,
          0.16832022907647912,
          0.0976179214671278,
          0.16549810180517965,
          0.12621356421356422,
          0.16348906742974537,
          0.1553947473417519,
          0.08788918597742125,
          0.018375033629270926,
          0.12755913515582024,
          0.05655751999092613,
          0.1193413587934136,
          0.18439770130431607,
          0.21812531155712978,
          0.1693049094355064,
          0.15808948435530717,
          0.28425619834710736,
          0.16100288600288604,
          0.17082918677746264,
          0.10260031265031257,
          0.16359914905726436,
          0.23291875834129355,
          0.1308535040810582,
          0.12022203899933162,
          0.0816538674415387,
          0.23948653198653197,
          0.1683629148629149,
          0.20824354217211363,
          0.14042742068058517,
          0.1460786943885536,
          0.14026149343906352,
          0.08160986106916339,
          0.21390611875686508,
          0.18236420003607504,
          0.16264693764319516,
          0.14469843524531023,
          0.03092277589560198,
          0.12839284435029116,
          0.17319841937897487,
          0.05369854560644034,
          0.16625661375661377,
          0.12398312798312801,
          0.16217532467532472,
          0.19560359951030487,
          0.16225044563279856,
          0.12309917786891474,
          0.14890389942114082,
          0.08202809977746042,
          0.09111471861471862,
          0.1444681457431457,
          0.1758124098124098,
          0.2836902185116471,
          0.1894727519727519,
          0.2072363242817788,
          0.18830086580086586,
          0.17412796994371665,
          0.09503102392446658,
          0.1372840372840372,
          0.16366003479017177,
          0.12369157086007916,
          0.18871222527472525,
          0.18100387377173086,
          0.166652918667844,
          0.1530756893256893,
          0.15821942423746535,
          0.20704916379916358,
          0.207615502583035,
          0.08246631493506494,
          0.20192409329947314,
          0.10933552733081038,
          0.15926767676767678,
          0.159312923648717,
          0.19775165400637093,
          0.14948089267054787,
          0.11805620487886495,
          0.16870831467383213,
          0.22963171560110338,
          0.1865892857142858,
          0.16759498177261337,
          0.0660257711038961,
          0.10399300563934705,
          0.17168900661818517,
          0.1757309767697091,
          0.26778042632473015,
          0.18021843639899196,
          0.1545353243838092,
          0.17146305245142457,
          0.14471393034825863,
          0.16430313866028148,
          0.15233568043753226,
          0.17755403967525185,
          0.15446871310507673,
          0.10334303092367612,
          0.19832434649912525,
          0.1598627971355243,
          0.16548852169541828,
          0.19522675736961448,
          0.14073342230344427,
          0.2317249757045675,
          0.19888362548198604,
          0.11408596919920964,
          0.10875069774541944,
          0.15557304466449354,
          0.14540900072150073,
          0.18884829807702153,
          0.2176395534290271,
          0.1460547603248334,
          0.18844925444925445,
          0.13740572958394742,
          0.0646577380952381,
          0.27878845389714957,
          0.14470259649504935,
          0.06016196447230929,
          0.1308821548821549,
          0.11087128574373471,
          0.16408545184749154,
          0.1386603099965169,
          0.15128318064364576,
          0.1327405893146634,
          0.17530012102592749,
          0.07578418109668107,
          0.10173892284186402,
          0.2188373299609255,
          0.19410047681786805,
          0.13660069540388692,
          0.16325156325156323,
          0.1991795506081221,
          0.1093529791967292,
          0.080200968013468,
          0.12810252799872165,
          0.1163023283663358,
          0.16514092791266702,
          0.14135114693735387,
          0.15195784517114158,
          0.2480973266499583,
          0.17765573151649108,
          0.12804677206851123,
          0.3331860269360269,
          0.18665945165945172,
          0.1649652260307998,
          0.12638961431080994,
          0.07572404335958555,
          0.19382296739718616,
          0.1349512808423699,
          0.25772111657975527,
          0.21635279198915558,
          0.17281807770901728,
          0.25297556517556524,
          0.15436329347220443,
          0.2389133089133089,
          0.1993792807349146,
          0.15687028154120497,
          0.15425218870703453,
          0.16902120224247363,
          0.1442233609763732,
          0.20583252943280805,
          0.17023552065218742,
          0.13645833333333335,
          0.22256036556036551,
          0.1693125,
          0.12247615665584416,
          0.14430146970892813,
          0.3581746031746032,
          0.049806443556443564,
          0.11836757259834184,
          0.13957512112999912,
          0.17849409849409856,
          0.1334543295309719,
          0.15126875216690028,
          0.08203307585660527,
          0.11956635536180987,
          0.09260363007569714,
          0.17959940123733226,
          0.1513153513153513,
          0.1799998384699877,
          0.18915329768270941,
          0.24296229338842978,
          0.18517438672438677,
          0.12992831744440206,
          0.16963802234420788,
          0.1725334534340745,
          0.23731542699724506,
          0.43194444444444446,
          0.1502923976608187,
          0.18872239538239538,
          0.16689640165830644,
          0.2578378772527709,
          0.22110362205320777,
          0.19333461898621465,
          0.0856370531956469,
          0.14784628497863794,
          0.1617866812454441,
          0.1820393244354125,
          0.2120267298838727,
          0.05439814814814815,
          0.17871406854615823,
          0.19615440115440122,
          0.1824178501810081
         ],
         "yaxis": "y"
        }
       ],
       "layout": {
        "legend": {
         "tracegroupgap": 0
        },
        "template": {
         "data": {
          "bar": [
           {
            "error_x": {
             "color": "#2a3f5f"
            },
            "error_y": {
             "color": "#2a3f5f"
            },
            "marker": {
             "line": {
              "color": "#E5ECF6",
              "width": 0.5
             },
             "pattern": {
              "fillmode": "overlay",
              "size": 10,
              "solidity": 0.2
             }
            },
            "type": "bar"
           }
          ],
          "barpolar": [
           {
            "marker": {
             "line": {
              "color": "#E5ECF6",
              "width": 0.5
             },
             "pattern": {
              "fillmode": "overlay",
              "size": 10,
              "solidity": 0.2
             }
            },
            "type": "barpolar"
           }
          ],
          "carpet": [
           {
            "aaxis": {
             "endlinecolor": "#2a3f5f",
             "gridcolor": "white",
             "linecolor": "white",
             "minorgridcolor": "white",
             "startlinecolor": "#2a3f5f"
            },
            "baxis": {
             "endlinecolor": "#2a3f5f",
             "gridcolor": "white",
             "linecolor": "white",
             "minorgridcolor": "white",
             "startlinecolor": "#2a3f5f"
            },
            "type": "carpet"
           }
          ],
          "choropleth": [
           {
            "colorbar": {
             "outlinewidth": 0,
             "ticks": ""
            },
            "type": "choropleth"
           }
          ],
          "contour": [
           {
            "colorbar": {
             "outlinewidth": 0,
             "ticks": ""
            },
            "colorscale": [
             [
              0,
              "#0d0887"
             ],
             [
              0.1111111111111111,
              "#46039f"
             ],
             [
              0.2222222222222222,
              "#7201a8"
             ],
             [
              0.3333333333333333,
              "#9c179e"
             ],
             [
              0.4444444444444444,
              "#bd3786"
             ],
             [
              0.5555555555555556,
              "#d8576b"
             ],
             [
              0.6666666666666666,
              "#ed7953"
             ],
             [
              0.7777777777777778,
              "#fb9f3a"
             ],
             [
              0.8888888888888888,
              "#fdca26"
             ],
             [
              1,
              "#f0f921"
             ]
            ],
            "type": "contour"
           }
          ],
          "contourcarpet": [
           {
            "colorbar": {
             "outlinewidth": 0,
             "ticks": ""
            },
            "type": "contourcarpet"
           }
          ],
          "heatmap": [
           {
            "colorbar": {
             "outlinewidth": 0,
             "ticks": ""
            },
            "colorscale": [
             [
              0,
              "#0d0887"
             ],
             [
              0.1111111111111111,
              "#46039f"
             ],
             [
              0.2222222222222222,
              "#7201a8"
             ],
             [
              0.3333333333333333,
              "#9c179e"
             ],
             [
              0.4444444444444444,
              "#bd3786"
             ],
             [
              0.5555555555555556,
              "#d8576b"
             ],
             [
              0.6666666666666666,
              "#ed7953"
             ],
             [
              0.7777777777777778,
              "#fb9f3a"
             ],
             [
              0.8888888888888888,
              "#fdca26"
             ],
             [
              1,
              "#f0f921"
             ]
            ],
            "type": "heatmap"
           }
          ],
          "heatmapgl": [
           {
            "colorbar": {
             "outlinewidth": 0,
             "ticks": ""
            },
            "colorscale": [
             [
              0,
              "#0d0887"
             ],
             [
              0.1111111111111111,
              "#46039f"
             ],
             [
              0.2222222222222222,
              "#7201a8"
             ],
             [
              0.3333333333333333,
              "#9c179e"
             ],
             [
              0.4444444444444444,
              "#bd3786"
             ],
             [
              0.5555555555555556,
              "#d8576b"
             ],
             [
              0.6666666666666666,
              "#ed7953"
             ],
             [
              0.7777777777777778,
              "#fb9f3a"
             ],
             [
              0.8888888888888888,
              "#fdca26"
             ],
             [
              1,
              "#f0f921"
             ]
            ],
            "type": "heatmapgl"
           }
          ],
          "histogram": [
           {
            "marker": {
             "pattern": {
              "fillmode": "overlay",
              "size": 10,
              "solidity": 0.2
             }
            },
            "type": "histogram"
           }
          ],
          "histogram2d": [
           {
            "colorbar": {
             "outlinewidth": 0,
             "ticks": ""
            },
            "colorscale": [
             [
              0,
              "#0d0887"
             ],
             [
              0.1111111111111111,
              "#46039f"
             ],
             [
              0.2222222222222222,
              "#7201a8"
             ],
             [
              0.3333333333333333,
              "#9c179e"
             ],
             [
              0.4444444444444444,
              "#bd3786"
             ],
             [
              0.5555555555555556,
              "#d8576b"
             ],
             [
              0.6666666666666666,
              "#ed7953"
             ],
             [
              0.7777777777777778,
              "#fb9f3a"
             ],
             [
              0.8888888888888888,
              "#fdca26"
             ],
             [
              1,
              "#f0f921"
             ]
            ],
            "type": "histogram2d"
           }
          ],
          "histogram2dcontour": [
           {
            "colorbar": {
             "outlinewidth": 0,
             "ticks": ""
            },
            "colorscale": [
             [
              0,
              "#0d0887"
             ],
             [
              0.1111111111111111,
              "#46039f"
             ],
             [
              0.2222222222222222,
              "#7201a8"
             ],
             [
              0.3333333333333333,
              "#9c179e"
             ],
             [
              0.4444444444444444,
              "#bd3786"
             ],
             [
              0.5555555555555556,
              "#d8576b"
             ],
             [
              0.6666666666666666,
              "#ed7953"
             ],
             [
              0.7777777777777778,
              "#fb9f3a"
             ],
             [
              0.8888888888888888,
              "#fdca26"
             ],
             [
              1,
              "#f0f921"
             ]
            ],
            "type": "histogram2dcontour"
           }
          ],
          "mesh3d": [
           {
            "colorbar": {
             "outlinewidth": 0,
             "ticks": ""
            },
            "type": "mesh3d"
           }
          ],
          "parcoords": [
           {
            "line": {
             "colorbar": {
              "outlinewidth": 0,
              "ticks": ""
             }
            },
            "type": "parcoords"
           }
          ],
          "pie": [
           {
            "automargin": true,
            "type": "pie"
           }
          ],
          "scatter": [
           {
            "fillpattern": {
             "fillmode": "overlay",
             "size": 10,
             "solidity": 0.2
            },
            "type": "scatter"
           }
          ],
          "scatter3d": [
           {
            "line": {
             "colorbar": {
              "outlinewidth": 0,
              "ticks": ""
             }
            },
            "marker": {
             "colorbar": {
              "outlinewidth": 0,
              "ticks": ""
             }
            },
            "type": "scatter3d"
           }
          ],
          "scattercarpet": [
           {
            "marker": {
             "colorbar": {
              "outlinewidth": 0,
              "ticks": ""
             }
            },
            "type": "scattercarpet"
           }
          ],
          "scattergeo": [
           {
            "marker": {
             "colorbar": {
              "outlinewidth": 0,
              "ticks": ""
             }
            },
            "type": "scattergeo"
           }
          ],
          "scattergl": [
           {
            "marker": {
             "colorbar": {
              "outlinewidth": 0,
              "ticks": ""
             }
            },
            "type": "scattergl"
           }
          ],
          "scattermapbox": [
           {
            "marker": {
             "colorbar": {
              "outlinewidth": 0,
              "ticks": ""
             }
            },
            "type": "scattermapbox"
           }
          ],
          "scatterpolar": [
           {
            "marker": {
             "colorbar": {
              "outlinewidth": 0,
              "ticks": ""
             }
            },
            "type": "scatterpolar"
           }
          ],
          "scatterpolargl": [
           {
            "marker": {
             "colorbar": {
              "outlinewidth": 0,
              "ticks": ""
             }
            },
            "type": "scatterpolargl"
           }
          ],
          "scatterternary": [
           {
            "marker": {
             "colorbar": {
              "outlinewidth": 0,
              "ticks": ""
             }
            },
            "type": "scatterternary"
           }
          ],
          "surface": [
           {
            "colorbar": {
             "outlinewidth": 0,
             "ticks": ""
            },
            "colorscale": [
             [
              0,
              "#0d0887"
             ],
             [
              0.1111111111111111,
              "#46039f"
             ],
             [
              0.2222222222222222,
              "#7201a8"
             ],
             [
              0.3333333333333333,
              "#9c179e"
             ],
             [
              0.4444444444444444,
              "#bd3786"
             ],
             [
              0.5555555555555556,
              "#d8576b"
             ],
             [
              0.6666666666666666,
              "#ed7953"
             ],
             [
              0.7777777777777778,
              "#fb9f3a"
             ],
             [
              0.8888888888888888,
              "#fdca26"
             ],
             [
              1,
              "#f0f921"
             ]
            ],
            "type": "surface"
           }
          ],
          "table": [
           {
            "cells": {
             "fill": {
              "color": "#EBF0F8"
             },
             "line": {
              "color": "white"
             }
            },
            "header": {
             "fill": {
              "color": "#C8D4E3"
             },
             "line": {
              "color": "white"
             }
            },
            "type": "table"
           }
          ]
         },
         "layout": {
          "annotationdefaults": {
           "arrowcolor": "#2a3f5f",
           "arrowhead": 0,
           "arrowwidth": 1
          },
          "autotypenumbers": "strict",
          "coloraxis": {
           "colorbar": {
            "outlinewidth": 0,
            "ticks": ""
           }
          },
          "colorscale": {
           "diverging": [
            [
             0,
             "#8e0152"
            ],
            [
             0.1,
             "#c51b7d"
            ],
            [
             0.2,
             "#de77ae"
            ],
            [
             0.3,
             "#f1b6da"
            ],
            [
             0.4,
             "#fde0ef"
            ],
            [
             0.5,
             "#f7f7f7"
            ],
            [
             0.6,
             "#e6f5d0"
            ],
            [
             0.7,
             "#b8e186"
            ],
            [
             0.8,
             "#7fbc41"
            ],
            [
             0.9,
             "#4d9221"
            ],
            [
             1,
             "#276419"
            ]
           ],
           "sequential": [
            [
             0,
             "#0d0887"
            ],
            [
             0.1111111111111111,
             "#46039f"
            ],
            [
             0.2222222222222222,
             "#7201a8"
            ],
            [
             0.3333333333333333,
             "#9c179e"
            ],
            [
             0.4444444444444444,
             "#bd3786"
            ],
            [
             0.5555555555555556,
             "#d8576b"
            ],
            [
             0.6666666666666666,
             "#ed7953"
            ],
            [
             0.7777777777777778,
             "#fb9f3a"
            ],
            [
             0.8888888888888888,
             "#fdca26"
            ],
            [
             1,
             "#f0f921"
            ]
           ],
           "sequentialminus": [
            [
             0,
             "#0d0887"
            ],
            [
             0.1111111111111111,
             "#46039f"
            ],
            [
             0.2222222222222222,
             "#7201a8"
            ],
            [
             0.3333333333333333,
             "#9c179e"
            ],
            [
             0.4444444444444444,
             "#bd3786"
            ],
            [
             0.5555555555555556,
             "#d8576b"
            ],
            [
             0.6666666666666666,
             "#ed7953"
            ],
            [
             0.7777777777777778,
             "#fb9f3a"
            ],
            [
             0.8888888888888888,
             "#fdca26"
            ],
            [
             1,
             "#f0f921"
            ]
           ]
          },
          "colorway": [
           "#636efa",
           "#EF553B",
           "#00cc96",
           "#ab63fa",
           "#FFA15A",
           "#19d3f3",
           "#FF6692",
           "#B6E880",
           "#FF97FF",
           "#FECB52"
          ],
          "font": {
           "color": "#2a3f5f"
          },
          "geo": {
           "bgcolor": "white",
           "lakecolor": "white",
           "landcolor": "#E5ECF6",
           "showlakes": true,
           "showland": true,
           "subunitcolor": "white"
          },
          "hoverlabel": {
           "align": "left"
          },
          "hovermode": "closest",
          "mapbox": {
           "style": "light"
          },
          "paper_bgcolor": "white",
          "plot_bgcolor": "#E5ECF6",
          "polar": {
           "angularaxis": {
            "gridcolor": "white",
            "linecolor": "white",
            "ticks": ""
           },
           "bgcolor": "#E5ECF6",
           "radialaxis": {
            "gridcolor": "white",
            "linecolor": "white",
            "ticks": ""
           }
          },
          "scene": {
           "xaxis": {
            "backgroundcolor": "#E5ECF6",
            "gridcolor": "white",
            "gridwidth": 2,
            "linecolor": "white",
            "showbackground": true,
            "ticks": "",
            "zerolinecolor": "white"
           },
           "yaxis": {
            "backgroundcolor": "#E5ECF6",
            "gridcolor": "white",
            "gridwidth": 2,
            "linecolor": "white",
            "showbackground": true,
            "ticks": "",
            "zerolinecolor": "white"
           },
           "zaxis": {
            "backgroundcolor": "#E5ECF6",
            "gridcolor": "white",
            "gridwidth": 2,
            "linecolor": "white",
            "showbackground": true,
            "ticks": "",
            "zerolinecolor": "white"
           }
          },
          "shapedefaults": {
           "line": {
            "color": "#2a3f5f"
           }
          },
          "ternary": {
           "aaxis": {
            "gridcolor": "white",
            "linecolor": "white",
            "ticks": ""
           },
           "baxis": {
            "gridcolor": "white",
            "linecolor": "white",
            "ticks": ""
           },
           "bgcolor": "#E5ECF6",
           "caxis": {
            "gridcolor": "white",
            "linecolor": "white",
            "ticks": ""
           }
          },
          "title": {
           "x": 0.05
          },
          "xaxis": {
           "automargin": true,
           "gridcolor": "white",
           "linecolor": "white",
           "ticks": "",
           "title": {
            "standoff": 15
           },
           "zerolinecolor": "white",
           "zerolinewidth": 2
          },
          "yaxis": {
           "automargin": true,
           "gridcolor": "white",
           "linecolor": "white",
           "ticks": "",
           "title": {
            "standoff": 15
           },
           "zerolinecolor": "white",
           "zerolinewidth": 2
          }
         }
        },
        "title": {
         "text": "TextBlob polarity"
        },
        "xaxis": {
         "anchor": "y",
         "domain": [
          0,
          1
         ],
         "title": {
          "text": "date"
         }
        },
        "yaxis": {
         "anchor": "x",
         "domain": [
          0,
          1
         ],
         "title": {
          "text": "TBpolarity"
         }
        }
       }
      },
      "text/html": [
       "<div>                            <div id=\"c1d5e6cc-4243-47fe-8971-9a16cf484279\" class=\"plotly-graph-div\" style=\"height:525px; width:100%;\"></div>            <script type=\"text/javascript\">                require([\"plotly\"], function(Plotly) {                    window.PLOTLYENV=window.PLOTLYENV || {};                                    if (document.getElementById(\"c1d5e6cc-4243-47fe-8971-9a16cf484279\")) {                    Plotly.newPlot(                        \"c1d5e6cc-4243-47fe-8971-9a16cf484279\",                        [{\"hovertemplate\":\"<b>%{hovertext}</b><br><br>date=%{x}<br>TBpolarity=%{y}<extra></extra>\",\"hovertext\":[\"2008-07-15T00:00:00\",\"2008-10-01T00:00:00\",\"2008-11-07T00:00:00\",\"2008-11-18T00:00:00\",\"2008-11-24T00:00:00\",\"2008-11-25T00:00:00\",\"2008-11-26T00:00:00\",\"2008-12-01T00:00:00\",\"2008-12-03T00:00:00\",\"2009-01-05T00:00:00\",\"2009-01-08T00:00:00\",\"2009-01-09T00:00:00\",\"2009-01-18T00:00:00\",\"2009-01-20T00:00:00\",\"2009-01-24T00:00:00\",\"2009-02-04T00:00:00\",\"2009-02-09T00:00:00\",\"2009-02-12T00:00:00\",\"2009-02-12T00:00:00\",\"2009-02-24T00:00:00\",\"2009-02-27T00:00:00\",\"2009-03-10T00:00:00\",\"2009-04-02T00:00:00\",\"2009-04-03T00:00:00\",\"2009-04-05T00:00:00\",\"2009-04-06T00:00:00\",\"2009-04-14T00:00:00\",\"2009-04-20T00:00:00\",\"2009-04-23T00:00:00\",\"2009-05-09T00:00:00\",\"2009-05-14T00:00:00\",\"2009-05-17T00:00:00\",\"2009-05-18T00:00:00\",\"2009-05-21T00:00:00\",\"2009-05-29T00:00:00\",\"2009-06-04T00:00:00\",\"2009-06-04T00:00:00\",\"2009-06-05T00:00:00\",\"2009-06-15T00:00:00\",\"2009-06-23T00:00:00\",\"2009-06-23T00:00:00\",\"2009-07-07T00:00:00\",\"2009-07-11T00:00:00\",\"2009-07-13T00:00:00\",\"2009-07-14T00:00:00\",\"2009-08-29T00:00:00\",\"2009-09-08T00:00:00\",\"2009-09-09T00:00:00\",\"2009-09-09T00:00:00\",\"2009-09-11T00:00:00\",\"2009-09-23T00:00:00\",\"2009-11-10T00:00:00\",\"2009-11-16T00:00:00\",\"2009-12-01T00:00:00\",\"2009-12-06T00:00:00\",\"2009-12-08T00:00:00\",\"2009-12-10T00:00:00\",\"2009-12-18T00:00:00\",\"2009-12-28T00:00:00\",\"2009-12-29T00:00:00\",\"2010-01-05T00:00:00\",\"2010-01-07T00:00:00\",\"2010-01-14T00:00:00\",\"2010-01-17T00:00:00\",\"2010-01-22T00:00:00\",\"2010-01-27T00:00:00\",\"2010-01-27T00:00:00\",\"2010-01-29T00:00:00\",\"2010-02-01T00:00:00\",\"2010-02-04T00:00:00\",\"2010-02-09T00:00:00\",\"2010-02-19T00:00:00\",\"2010-03-03T00:00:00\",\"2010-03-13T00:00:00\",\"2010-03-19T00:00:00\",\"2010-03-20T00:00:00\",\"2010-03-21T00:00:00\",\"2010-03-23T00:00:00\",\"2010-03-28T00:00:00\",\"2010-03-31T00:00:00\",\"2010-04-08T00:00:00\",\"2010-04-09T00:00:00\",\"2010-04-15T00:00:00\",\"2010-04-22T00:00:00\",\"2010-04-25T00:00:00\",\"2010-04-29T00:00:00\",\"2010-05-01T00:00:00\",\"2010-05-01T00:00:00\",\"2010-05-10T00:00:00\",\"2010-05-22T00:00:00\",\"2010-05-27T00:00:00\",\"2010-05-28T00:00:00\",\"2010-06-02T00:00:00\",\"2010-06-07T00:00:00\",\"2010-06-09T00:00:00\",\"2010-06-15T00:00:00\",\"2010-06-15T00:00:00\",\"2010-06-16T00:00:00\",\"2010-06-21T00:00:00\",\"2010-06-23T00:00:00\",\"2010-07-01T00:00:00\",\"2010-07-02T00:00:00\",\"2010-07-21T00:00:00\",\"2010-07-29T00:00:00\",\"2010-08-02T00:00:00\",\"2010-08-13T00:00:00\",\"2010-09-11T00:00:00\",\"2010-09-23T00:00:00\",\"2010-11-03T00:00:00\",\"2010-11-06T00:00:00\",\"2010-11-08T00:00:00\",\"2010-11-10T00:00:00\",\"2010-11-16T00:00:00\",\"2010-12-03T00:00:00\",\"2011-01-12T00:00:00\",\"2011-01-26T00:00:00\",\"2011-02-01T00:00:00\",\"2011-02-03T00:00:00\",\"2011-02-07T00:00:00\",\"2011-02-10T00:00:00\",\"2011-02-11T00:00:00\",\"2011-02-23T00:00:00\",\"2011-03-18T00:00:00\",\"2011-03-19T00:00:00\",\"2011-03-20T00:00:00\",\"2011-03-21T00:00:00\",\"2011-03-28T00:00:00\",\"2011-03-30T00:00:00\",\"2011-04-13T00:00:00\",\"2011-04-26T00:00:00\",\"2011-04-27T00:00:00\",\"2011-04-29T00:00:00\",\"2011-04-29T00:00:00\",\"2011-04-30T00:00:00\",\"2011-05-01T00:00:00\",\"2011-05-06T00:00:00\",\"2011-05-16T00:00:00\",\"2011-05-19T00:00:00\",\"2011-05-20T00:00:00\",\"2011-05-20T00:00:00\",\"2011-05-25T00:00:00\",\"2011-05-29T00:00:00\",\"2011-05-30T00:00:00\",\"2011-06-22T00:00:00\",\"2011-06-24T00:00:00\",\"2011-06-29T00:00:00\",\"2011-07-25T00:00:00\",\"2011-07-31T00:00:00\",\"2011-08-02T00:00:00\",\"2011-08-30T00:00:00\",\"2011-09-08T00:00:00\",\"2011-09-19T00:00:00\",\"2011-09-20T00:00:00\",\"2011-09-21T00:00:00\",\"2011-10-16T00:00:00\",\"2011-10-20T00:00:00\",\"2011-11-16T00:00:00\",\"2011-12-02T00:00:00\",\"2011-12-06T00:00:00\",\"2011-12-17T00:00:00\",\"2012-01-05T00:00:00\",\"2012-01-25T00:00:00\",\"2012-02-01T00:00:00\",\"2012-02-03T00:00:00\",\"2012-02-29T00:00:00\",\"2012-03-04T00:00:00\",\"2012-03-26T00:00:00\",\"2012-03-29T00:00:00\",\"2012-04-23T00:00:00\",\"2012-04-28T00:00:00\",\"2012-05-14T00:00:00\",\"2012-06-13T00:00:00\",\"2012-06-28T00:00:00\",\"2012-07-20T00:00:00\",\"2012-07-23T00:00:00\",\"2012-09-12T00:00:00\",\"2012-09-14T00:00:00\",\"2012-09-25T00:00:00\",\"2012-09-25T00:00:00\",\"2012-10-29T00:00:00\",\"2012-10-30T00:00:00\",\"2012-11-06T00:00:00\",\"2012-11-09T00:00:00\",\"2012-11-14T00:00:00\",\"2012-11-19T00:00:00\",\"2012-12-14T00:00:00\",\"2012-12-16T00:00:00\",\"2012-12-19T00:00:00\",\"2012-12-21T00:00:00\",\"2013-01-14T00:00:00\",\"2013-01-16T00:00:00\",\"2013-01-21T00:00:00\",\"2013-01-21T00:00:00\",\"2013-01-29T00:00:00\",\"2013-02-12T00:00:00\",\"2013-02-13T00:00:00\",\"2013-02-15T00:00:00\",\"2013-02-26T00:00:00\",\"2013-02-27T00:00:00\",\"2013-03-22T00:00:00\",\"2013-04-02T00:00:00\",\"2013-04-03T00:00:00\",\"2013-04-08T00:00:00\",\"2013-04-11T00:00:00\",\"2013-04-15T00:00:00\",\"2013-04-16T00:00:00\",\"2013-04-17T00:00:00\",\"2013-04-18T00:00:00\",\"2013-04-19T00:00:00\",\"2013-04-25T00:00:00\",\"2013-04-25T00:00:00\",\"2013-04-27T00:00:00\",\"2013-05-03T00:00:00\",\"2013-05-15T00:00:00\",\"2013-05-19T00:00:00\",\"2013-05-23T00:00:00\",\"2013-05-24T00:00:00\",\"2013-06-07T00:00:00\",\"2013-06-11T00:00:00\",\"2013-06-17T00:00:00\",\"2013-06-19T00:00:00\",\"2013-06-30T00:00:00\",\"2013-07-19T00:00:00\",\"2013-07-24T00:00:00\",\"2013-07-27T00:00:00\",\"2013-08-09T00:00:00\",\"2013-08-28T00:00:00\",\"2013-08-31T00:00:00\",\"2013-09-10T00:00:00\",\"2013-09-22T00:00:00\",\"2013-09-24T00:00:00\",\"2013-10-02T00:00:00\",\"2013-10-21T00:00:00\",\"2013-11-11T00:00:00\",\"2013-11-14T00:00:00\",\"2013-11-23T00:00:00\",\"2013-12-05T00:00:00\",\"2013-12-10T00:00:00\",\"2013-12-20T00:00:00\",\"2014-01-17T00:00:00\",\"2014-01-29T00:00:00\",\"2014-02-06T00:00:00\",\"2014-03-26T00:00:00\",\"2014-04-10T00:00:00\",\"2014-04-17T00:00:00\",\"2014-04-24T00:00:00\",\"2014-04-27T00:00:00\",\"2014-04-29T00:00:00\",\"2014-05-03T00:00:00\",\"2014-05-21T00:00:00\",\"2014-05-27T00:00:00\",\"2014-05-28T00:00:00\",\"2014-05-30T00:00:00\",\"2014-06-04T00:00:00\",\"2014-06-06T00:00:00\",\"2014-06-30T00:00:00\",\"2014-07-18T00:00:00\",\"2014-07-21T00:00:00\",\"2014-08-01T00:00:00\",\"2014-08-07T00:00:00\",\"2014-08-09T00:00:00\",\"2014-08-14T00:00:00\",\"2014-08-28T00:00:00\",\"2014-09-03T00:00:00\",\"2014-09-03T00:00:00\",\"2014-09-10T00:00:00\",\"2014-09-16T00:00:00\",\"2014-09-24T00:00:00\",\"2014-09-24T00:00:00\",\"2014-09-25T00:00:00\",\"2014-10-17T00:00:00\",\"2014-10-28T00:00:00\",\"2014-11-05T00:00:00\",\"2014-11-14T00:00:00\",\"2014-11-14T00:00:00\",\"2014-11-15T00:00:00\",\"2014-11-20T00:00:00\",\"2014-11-24T00:00:00\",\"2014-12-02T00:00:00\",\"2014-12-17T00:00:00\",\"2014-12-19T00:00:00\",\"2015-01-09T00:00:00\",\"2015-01-12T00:00:00\",\"2015-01-13T00:00:00\",\"2015-01-21T00:00:00\",\"2015-01-27T00:00:00\",\"2015-02-05T00:00:00\",\"2015-02-11T00:00:00\",\"2015-02-13T00:00:00\",\"2015-02-18T00:00:00\",\"2015-03-03T00:00:00\",\"2015-03-07T00:00:00\",\"2015-03-10T00:00:00\",\"2015-03-30T00:00:00\",\"2015-04-02T00:00:00\",\"2015-04-09T00:00:00\",\"2015-04-10T00:00:00\",\"2015-04-11T00:00:00\",\"2015-04-11T00:00:00\",\"2015-04-23T00:00:00\",\"2015-04-25T00:00:00\",\"2015-05-08T00:00:00\",\"2015-05-22T00:00:00\",\"2015-06-01T00:00:00\",\"2015-06-06T00:00:00\",\"2015-06-08T00:00:00\",\"2015-06-17T00:00:00\",\"2015-06-18T00:00:00\",\"2015-06-19T00:00:00\",\"2015-06-24T00:00:00\",\"2015-06-25T00:00:00\",\"2015-06-26T00:00:00\",\"2015-07-06T00:00:00\",\"2015-07-13T00:00:00\",\"2015-07-14T00:00:00\",\"2015-07-14T00:00:00\",\"2015-07-15T00:00:00\",\"2015-07-26T00:00:00\",\"2015-07-26T00:00:00\",\"2015-07-28T00:00:00\",\"2015-08-03T00:00:00\",\"2015-08-05T00:00:00\",\"2015-08-27T00:00:00\",\"2015-09-11T00:00:00\",\"2015-09-19T00:00:00\",\"2015-09-23T00:00:00\",\"2015-09-25T00:00:00\",\"2015-09-25T00:00:00\",\"2015-09-28T00:00:00\",\"2015-10-01T00:00:00\",\"2015-10-02T00:00:00\",\"2015-10-15T00:00:00\",\"2015-11-13T00:00:00\",\"2015-11-13T00:00:00\",\"2015-11-16T00:00:00\",\"2015-11-21T00:00:00\",\"2015-11-22T00:00:00\",\"2015-11-24T00:00:00\",\"2015-11-30T00:00:00\",\"2015-12-01T00:00:00\",\"2015-12-06T00:00:00\",\"2015-12-09T00:00:00\",\"2015-12-10T00:00:00\",\"2015-12-12T00:00:00\",\"2015-12-14T00:00:00\",\"2015-12-15T00:00:00\",\"2015-12-17T00:00:00\",\"2015-12-18T00:00:00\",\"2016-01-01T00:00:00\",\"2016-01-05T00:00:00\",\"2016-01-13T00:00:00\",\"2016-01-17T00:00:00\",\"2016-01-27T00:00:00\",\"2016-02-03T00:00:00\",\"2016-02-04T00:00:00\",\"2016-02-04T00:00:00\",\"2016-02-10T00:00:00\",\"2016-02-13T00:00:00\",\"2016-02-16T00:00:00\",\"2016-02-20T00:00:00\",\"2016-02-23T00:00:00\",\"2016-02-25T00:00:00\",\"2016-02-26T00:00:00\",\"2016-03-16T00:00:00\",\"2016-03-21T00:00:00\",\"2016-03-21T00:00:00\",\"2016-03-22T00:00:00\",\"2016-03-23T00:00:00\",\"2016-04-01T00:00:00\",\"2016-04-07T00:00:00\",\"2016-04-23T00:00:00\",\"2016-04-25T00:00:00\",\"2016-04-30T00:00:00\",\"2016-05-04T00:00:00\",\"2016-05-07T00:00:00\",\"2016-05-24T00:00:00\",\"2016-05-24T00:00:00\",\"2016-05-25T00:00:00\",\"2016-05-25T00:00:00\",\"2016-05-26T00:00:00\",\"2016-05-27T00:00:00\",\"2016-06-02T00:00:00\",\"2016-06-09T00:00:00\",\"2016-06-12T00:00:00\",\"2016-06-14T00:00:00\",\"2016-06-14T00:00:00\",\"2016-06-16T00:00:00\",\"2016-06-23T00:00:00\",\"2016-06-29T00:00:00\",\"2016-07-09T00:00:00\",\"2016-07-12T00:00:00\",\"2016-08-04T00:00:00\",\"2016-08-23T00:00:00\",\"2016-09-05T00:00:00\",\"2016-09-06T00:00:00\",\"2016-09-06T00:00:00\",\"2016-09-11T00:00:00\",\"2016-09-19T00:00:00\",\"2016-09-20T00:00:00\",\"2016-09-24T00:00:00\",\"2016-09-30T00:00:00\",\"2016-11-09T00:00:00\",\"2016-11-10T00:00:00\",\"2016-11-14T00:00:00\",\"2016-11-16T00:00:00\",\"2016-11-20T00:00:00\",\"2016-11-20T00:00:00\",\"2016-12-04T00:00:00\",\"2016-12-04T00:00:00\",\"2016-12-06T00:00:00\",\"2016-12-16T00:00:00\",\"2016-12-27T00:00:00\",\"2017-01-10T00:00:00\",\"2017-01-12T00:00:00\",\"2017-01-14T00:00:00\",\"2017-01-16T00:00:00\",\"2017-01-18T00:00:00\",\"2017-01-20T00:00:00\"],\"legendgroup\":\"\",\"line\":{\"color\":\"#636efa\",\"dash\":\"solid\"},\"marker\":{\"symbol\":\"circle\"},\"mode\":\"lines\",\"name\":\"\",\"orientation\":\"v\",\"showlegend\":false,\"x\":[\"2008-07-15T00:00:00\",\"2008-10-01T00:00:00\",\"2008-11-07T00:00:00\",\"2008-11-18T00:00:00\",\"2008-11-24T00:00:00\",\"2008-11-25T00:00:00\",\"2008-11-26T00:00:00\",\"2008-12-01T00:00:00\",\"2008-12-03T00:00:00\",\"2009-01-05T00:00:00\",\"2009-01-08T00:00:00\",\"2009-01-09T00:00:00\",\"2009-01-18T00:00:00\",\"2009-01-20T00:00:00\",\"2009-01-24T00:00:00\",\"2009-02-04T00:00:00\",\"2009-02-09T00:00:00\",\"2009-02-12T00:00:00\",\"2009-02-12T00:00:00\",\"2009-02-24T00:00:00\",\"2009-02-27T00:00:00\",\"2009-03-10T00:00:00\",\"2009-04-02T00:00:00\",\"2009-04-03T00:00:00\",\"2009-04-05T00:00:00\",\"2009-04-06T00:00:00\",\"2009-04-14T00:00:00\",\"2009-04-20T00:00:00\",\"2009-04-23T00:00:00\",\"2009-05-09T00:00:00\",\"2009-05-14T00:00:00\",\"2009-05-17T00:00:00\",\"2009-05-18T00:00:00\",\"2009-05-21T00:00:00\",\"2009-05-29T00:00:00\",\"2009-06-04T00:00:00\",\"2009-06-04T00:00:00\",\"2009-06-05T00:00:00\",\"2009-06-15T00:00:00\",\"2009-06-23T00:00:00\",\"2009-06-23T00:00:00\",\"2009-07-07T00:00:00\",\"2009-07-11T00:00:00\",\"2009-07-13T00:00:00\",\"2009-07-14T00:00:00\",\"2009-08-29T00:00:00\",\"2009-09-08T00:00:00\",\"2009-09-09T00:00:00\",\"2009-09-09T00:00:00\",\"2009-09-11T00:00:00\",\"2009-09-23T00:00:00\",\"2009-11-10T00:00:00\",\"2009-11-16T00:00:00\",\"2009-12-01T00:00:00\",\"2009-12-06T00:00:00\",\"2009-12-08T00:00:00\",\"2009-12-10T00:00:00\",\"2009-12-18T00:00:00\",\"2009-12-28T00:00:00\",\"2009-12-29T00:00:00\",\"2010-01-05T00:00:00\",\"2010-01-07T00:00:00\",\"2010-01-14T00:00:00\",\"2010-01-17T00:00:00\",\"2010-01-22T00:00:00\",\"2010-01-27T00:00:00\",\"2010-01-27T00:00:00\",\"2010-01-29T00:00:00\",\"2010-02-01T00:00:00\",\"2010-02-04T00:00:00\",\"2010-02-09T00:00:00\",\"2010-02-19T00:00:00\",\"2010-03-03T00:00:00\",\"2010-03-13T00:00:00\",\"2010-03-19T00:00:00\",\"2010-03-20T00:00:00\",\"2010-03-21T00:00:00\",\"2010-03-23T00:00:00\",\"2010-03-28T00:00:00\",\"2010-03-31T00:00:00\",\"2010-04-08T00:00:00\",\"2010-04-09T00:00:00\",\"2010-04-15T00:00:00\",\"2010-04-22T00:00:00\",\"2010-04-25T00:00:00\",\"2010-04-29T00:00:00\",\"2010-05-01T00:00:00\",\"2010-05-01T00:00:00\",\"2010-05-10T00:00:00\",\"2010-05-22T00:00:00\",\"2010-05-27T00:00:00\",\"2010-05-28T00:00:00\",\"2010-06-02T00:00:00\",\"2010-06-07T00:00:00\",\"2010-06-09T00:00:00\",\"2010-06-15T00:00:00\",\"2010-06-15T00:00:00\",\"2010-06-16T00:00:00\",\"2010-06-21T00:00:00\",\"2010-06-23T00:00:00\",\"2010-07-01T00:00:00\",\"2010-07-02T00:00:00\",\"2010-07-21T00:00:00\",\"2010-07-29T00:00:00\",\"2010-08-02T00:00:00\",\"2010-08-13T00:00:00\",\"2010-09-11T00:00:00\",\"2010-09-23T00:00:00\",\"2010-11-03T00:00:00\",\"2010-11-06T00:00:00\",\"2010-11-08T00:00:00\",\"2010-11-10T00:00:00\",\"2010-11-16T00:00:00\",\"2010-12-03T00:00:00\",\"2011-01-12T00:00:00\",\"2011-01-26T00:00:00\",\"2011-02-01T00:00:00\",\"2011-02-03T00:00:00\",\"2011-02-07T00:00:00\",\"2011-02-10T00:00:00\",\"2011-02-11T00:00:00\",\"2011-02-23T00:00:00\",\"2011-03-18T00:00:00\",\"2011-03-19T00:00:00\",\"2011-03-20T00:00:00\",\"2011-03-21T00:00:00\",\"2011-03-28T00:00:00\",\"2011-03-30T00:00:00\",\"2011-04-13T00:00:00\",\"2011-04-26T00:00:00\",\"2011-04-27T00:00:00\",\"2011-04-29T00:00:00\",\"2011-04-29T00:00:00\",\"2011-04-30T00:00:00\",\"2011-05-01T00:00:00\",\"2011-05-06T00:00:00\",\"2011-05-16T00:00:00\",\"2011-05-19T00:00:00\",\"2011-05-20T00:00:00\",\"2011-05-20T00:00:00\",\"2011-05-25T00:00:00\",\"2011-05-29T00:00:00\",\"2011-05-30T00:00:00\",\"2011-06-22T00:00:00\",\"2011-06-24T00:00:00\",\"2011-06-29T00:00:00\",\"2011-07-25T00:00:00\",\"2011-07-31T00:00:00\",\"2011-08-02T00:00:00\",\"2011-08-30T00:00:00\",\"2011-09-08T00:00:00\",\"2011-09-19T00:00:00\",\"2011-09-20T00:00:00\",\"2011-09-21T00:00:00\",\"2011-10-16T00:00:00\",\"2011-10-20T00:00:00\",\"2011-11-16T00:00:00\",\"2011-12-02T00:00:00\",\"2011-12-06T00:00:00\",\"2011-12-17T00:00:00\",\"2012-01-05T00:00:00\",\"2012-01-25T00:00:00\",\"2012-02-01T00:00:00\",\"2012-02-03T00:00:00\",\"2012-02-29T00:00:00\",\"2012-03-04T00:00:00\",\"2012-03-26T00:00:00\",\"2012-03-29T00:00:00\",\"2012-04-23T00:00:00\",\"2012-04-28T00:00:00\",\"2012-05-14T00:00:00\",\"2012-06-13T00:00:00\",\"2012-06-28T00:00:00\",\"2012-07-20T00:00:00\",\"2012-07-23T00:00:00\",\"2012-09-12T00:00:00\",\"2012-09-14T00:00:00\",\"2012-09-25T00:00:00\",\"2012-09-25T00:00:00\",\"2012-10-29T00:00:00\",\"2012-10-30T00:00:00\",\"2012-11-06T00:00:00\",\"2012-11-09T00:00:00\",\"2012-11-14T00:00:00\",\"2012-11-19T00:00:00\",\"2012-12-14T00:00:00\",\"2012-12-16T00:00:00\",\"2012-12-19T00:00:00\",\"2012-12-21T00:00:00\",\"2013-01-14T00:00:00\",\"2013-01-16T00:00:00\",\"2013-01-21T00:00:00\",\"2013-01-21T00:00:00\",\"2013-01-29T00:00:00\",\"2013-02-12T00:00:00\",\"2013-02-13T00:00:00\",\"2013-02-15T00:00:00\",\"2013-02-26T00:00:00\",\"2013-02-27T00:00:00\",\"2013-03-22T00:00:00\",\"2013-04-02T00:00:00\",\"2013-04-03T00:00:00\",\"2013-04-08T00:00:00\",\"2013-04-11T00:00:00\",\"2013-04-15T00:00:00\",\"2013-04-16T00:00:00\",\"2013-04-17T00:00:00\",\"2013-04-18T00:00:00\",\"2013-04-19T00:00:00\",\"2013-04-25T00:00:00\",\"2013-04-25T00:00:00\",\"2013-04-27T00:00:00\",\"2013-05-03T00:00:00\",\"2013-05-15T00:00:00\",\"2013-05-19T00:00:00\",\"2013-05-23T00:00:00\",\"2013-05-24T00:00:00\",\"2013-06-07T00:00:00\",\"2013-06-11T00:00:00\",\"2013-06-17T00:00:00\",\"2013-06-19T00:00:00\",\"2013-06-30T00:00:00\",\"2013-07-19T00:00:00\",\"2013-07-24T00:00:00\",\"2013-07-27T00:00:00\",\"2013-08-09T00:00:00\",\"2013-08-28T00:00:00\",\"2013-08-31T00:00:00\",\"2013-09-10T00:00:00\",\"2013-09-22T00:00:00\",\"2013-09-24T00:00:00\",\"2013-10-02T00:00:00\",\"2013-10-21T00:00:00\",\"2013-11-11T00:00:00\",\"2013-11-14T00:00:00\",\"2013-11-23T00:00:00\",\"2013-12-05T00:00:00\",\"2013-12-10T00:00:00\",\"2013-12-20T00:00:00\",\"2014-01-17T00:00:00\",\"2014-01-29T00:00:00\",\"2014-02-06T00:00:00\",\"2014-03-26T00:00:00\",\"2014-04-10T00:00:00\",\"2014-04-17T00:00:00\",\"2014-04-24T00:00:00\",\"2014-04-27T00:00:00\",\"2014-04-29T00:00:00\",\"2014-05-03T00:00:00\",\"2014-05-21T00:00:00\",\"2014-05-27T00:00:00\",\"2014-05-28T00:00:00\",\"2014-05-30T00:00:00\",\"2014-06-04T00:00:00\",\"2014-06-06T00:00:00\",\"2014-06-30T00:00:00\",\"2014-07-18T00:00:00\",\"2014-07-21T00:00:00\",\"2014-08-01T00:00:00\",\"2014-08-07T00:00:00\",\"2014-08-09T00:00:00\",\"2014-08-14T00:00:00\",\"2014-08-28T00:00:00\",\"2014-09-03T00:00:00\",\"2014-09-03T00:00:00\",\"2014-09-10T00:00:00\",\"2014-09-16T00:00:00\",\"2014-09-24T00:00:00\",\"2014-09-24T00:00:00\",\"2014-09-25T00:00:00\",\"2014-10-17T00:00:00\",\"2014-10-28T00:00:00\",\"2014-11-05T00:00:00\",\"2014-11-14T00:00:00\",\"2014-11-14T00:00:00\",\"2014-11-15T00:00:00\",\"2014-11-20T00:00:00\",\"2014-11-24T00:00:00\",\"2014-12-02T00:00:00\",\"2014-12-17T00:00:00\",\"2014-12-19T00:00:00\",\"2015-01-09T00:00:00\",\"2015-01-12T00:00:00\",\"2015-01-13T00:00:00\",\"2015-01-21T00:00:00\",\"2015-01-27T00:00:00\",\"2015-02-05T00:00:00\",\"2015-02-11T00:00:00\",\"2015-02-13T00:00:00\",\"2015-02-18T00:00:00\",\"2015-03-03T00:00:00\",\"2015-03-07T00:00:00\",\"2015-03-10T00:00:00\",\"2015-03-30T00:00:00\",\"2015-04-02T00:00:00\",\"2015-04-09T00:00:00\",\"2015-04-10T00:00:00\",\"2015-04-11T00:00:00\",\"2015-04-11T00:00:00\",\"2015-04-23T00:00:00\",\"2015-04-25T00:00:00\",\"2015-05-08T00:00:00\",\"2015-05-22T00:00:00\",\"2015-06-01T00:00:00\",\"2015-06-06T00:00:00\",\"2015-06-08T00:00:00\",\"2015-06-17T00:00:00\",\"2015-06-18T00:00:00\",\"2015-06-19T00:00:00\",\"2015-06-24T00:00:00\",\"2015-06-25T00:00:00\",\"2015-06-26T00:00:00\",\"2015-07-06T00:00:00\",\"2015-07-13T00:00:00\",\"2015-07-14T00:00:00\",\"2015-07-14T00:00:00\",\"2015-07-15T00:00:00\",\"2015-07-26T00:00:00\",\"2015-07-26T00:00:00\",\"2015-07-28T00:00:00\",\"2015-08-03T00:00:00\",\"2015-08-05T00:00:00\",\"2015-08-27T00:00:00\",\"2015-09-11T00:00:00\",\"2015-09-19T00:00:00\",\"2015-09-23T00:00:00\",\"2015-09-25T00:00:00\",\"2015-09-25T00:00:00\",\"2015-09-28T00:00:00\",\"2015-10-01T00:00:00\",\"2015-10-02T00:00:00\",\"2015-10-15T00:00:00\",\"2015-11-13T00:00:00\",\"2015-11-13T00:00:00\",\"2015-11-16T00:00:00\",\"2015-11-21T00:00:00\",\"2015-11-22T00:00:00\",\"2015-11-24T00:00:00\",\"2015-11-30T00:00:00\",\"2015-12-01T00:00:00\",\"2015-12-06T00:00:00\",\"2015-12-09T00:00:00\",\"2015-12-10T00:00:00\",\"2015-12-12T00:00:00\",\"2015-12-14T00:00:00\",\"2015-12-15T00:00:00\",\"2015-12-17T00:00:00\",\"2015-12-18T00:00:00\",\"2016-01-01T00:00:00\",\"2016-01-05T00:00:00\",\"2016-01-13T00:00:00\",\"2016-01-17T00:00:00\",\"2016-01-27T00:00:00\",\"2016-02-03T00:00:00\",\"2016-02-04T00:00:00\",\"2016-02-04T00:00:00\",\"2016-02-10T00:00:00\",\"2016-02-13T00:00:00\",\"2016-02-16T00:00:00\",\"2016-02-20T00:00:00\",\"2016-02-23T00:00:00\",\"2016-02-25T00:00:00\",\"2016-02-26T00:00:00\",\"2016-03-16T00:00:00\",\"2016-03-21T00:00:00\",\"2016-03-21T00:00:00\",\"2016-03-22T00:00:00\",\"2016-03-23T00:00:00\",\"2016-04-01T00:00:00\",\"2016-04-07T00:00:00\",\"2016-04-23T00:00:00\",\"2016-04-25T00:00:00\",\"2016-04-30T00:00:00\",\"2016-05-04T00:00:00\",\"2016-05-07T00:00:00\",\"2016-05-24T00:00:00\",\"2016-05-24T00:00:00\",\"2016-05-25T00:00:00\",\"2016-05-25T00:00:00\",\"2016-05-26T00:00:00\",\"2016-05-27T00:00:00\",\"2016-06-02T00:00:00\",\"2016-06-09T00:00:00\",\"2016-06-12T00:00:00\",\"2016-06-14T00:00:00\",\"2016-06-14T00:00:00\",\"2016-06-16T00:00:00\",\"2016-06-23T00:00:00\",\"2016-06-29T00:00:00\",\"2016-07-09T00:00:00\",\"2016-07-12T00:00:00\",\"2016-08-04T00:00:00\",\"2016-08-23T00:00:00\",\"2016-09-05T00:00:00\",\"2016-09-06T00:00:00\",\"2016-09-06T00:00:00\",\"2016-09-11T00:00:00\",\"2016-09-19T00:00:00\",\"2016-09-20T00:00:00\",\"2016-09-24T00:00:00\",\"2016-09-30T00:00:00\",\"2016-11-09T00:00:00\",\"2016-11-10T00:00:00\",\"2016-11-14T00:00:00\",\"2016-11-16T00:00:00\",\"2016-11-20T00:00:00\",\"2016-11-20T00:00:00\",\"2016-12-04T00:00:00\",\"2016-12-04T00:00:00\",\"2016-12-06T00:00:00\",\"2016-12-16T00:00:00\",\"2016-12-27T00:00:00\",\"2017-01-10T00:00:00\",\"2017-01-12T00:00:00\",\"2017-01-14T00:00:00\",\"2017-01-16T00:00:00\",\"2017-01-18T00:00:00\",\"2017-01-20T00:00:00\"],\"xaxis\":\"x\",\"y\":[0.10829639711100382,0.09940326051597731,0.09045940170940171,0.1662519480519481,0.16552895021645014,0.17074484928651593,0.19012960616619148,0.16170050972209254,0.14368843716669802,0.054137847171555016,0.11785466441954996,0.09926208809405532,0.1738891611533121,0.08521095124543403,0.13152606772736644,0.12418275318785524,0.13004429598179598,0.1133318636096414,0.16922586956329286,0.10163050573764858,0.17092624819624816,0.17432092213342207,0.10819272940174578,0.08525139473202857,0.10031615630641606,0.15565459088714909,0.0900567785724035,0.148214463862612,0.10218482831386058,0.19338892674540833,0.16241460676869615,0.05445326278659613,0.14334256753347657,0.09575411345108326,0.08866680503666809,0.10999123154134165,0.07920981615786812,0.07925444078613093,0.13477207873275296,0.1284778072656861,0.08775539275539275,0.11843206501101246,0.16470640550842863,0.11191798941798943,0.12207910524630783,0.21995730737768965,0.15906751088994062,0.10300749788635258,0.1715930447330448,0.12193763027096359,0.07781578926674299,0.14638021069839247,0.15939930622196635,0.11186692182773686,0.20634891646052372,0.08762825365284382,0.07798931975692543,0.14044512778887774,0.16138557290072444,0.10879340277777777,0.056354478854478834,0.09779436754765702,0.07994480519480518,0.09359609102174157,0.0802603415103415,0.0787360785740821,0.10182379349046015,0.1679301364749125,0.08369963056993131,0.11473451350237068,0.14546004060538942,0.14795708278961875,0.13098078011073608,0.13884160756501182,0.058312385039852886,0.16343498913537824,0.13106777760392221,0.1357747933884298,0.18454224403985162,0.0851137660451386,0.1316027462121212,0.04050215500873394,0.11442621227693171,0.1019415796621679,0.1635233918128655,0.2383453706157788,0.1176549076383514,0.14632215278455876,0.260696142093201,0.14132624216579442,0.12335819934034224,0.17329471609672953,0.11891005701240245,0.2190808080808081,0.12173385157256124,0.12042020665015318,0.14137800488652746,0.13620665358946607,0.22512552051123477,0.10122376361012728,0.07666993403421972,0.20003237003237004,0.09436991495502137,0.14564971483542902,0.19041098417038263,0.1837213449429359,0.15470259958896326,0.11922980918322534,0.15016323953823957,0.18546517892587758,0.14564887441125063,0.18778475805016895,0.11622314169570264,0.14213517375810192,0.18063112856136118,0.15237445231536148,0.16641679957469432,0.14643399254054995,0.15184901485169577,0.19878173675199398,0.15012901572112097,0.14029061102831594,0.10972241118669689,0.17907563025210085,0.2055608385821657,0.1758673112362871,0.10743085618085621,0.14573811251954946,0.13282429296254183,0.051333333333333335,0.20476924860853432,0.12889433551198257,0.16132849834148535,0.15198751362016671,0.12453007518796987,0.19845140480434598,0.15022775602919147,0.11326453165308584,0.19529753033851394,0.1594466326023703,0.1172552521328957,0.1623803344289455,0.174168004934134,0.10559515792849122,0.22856117481117474,0.15172121055273227,0.1251904722692766,0.11161097187412974,0.1815087123151639,0.19970465169494286,0.13140829517035307,0.10779519331243469,0.12556292971734148,0.10513244384139905,0.13736656034024458,0.15056627037970322,0.14937122085911012,0.1510968314093314,0.19233497211201206,0.20928030303030304,0.13274741971775875,0.12489665281193517,0.1323984322172728,0.2509917542774686,0.26273953123467697,0.1282590959764873,0.16354494822915874,0.15545962875508335,0.13542883935427794,0.1496650940205628,0.16232608284247627,0.18794016485797305,0.17215466742252458,0.13101873536299766,0.18285614532773609,0.05845959595959595,0.11371717171717172,0.14510201897913758,0.061939052584213894,0.144440083725798,0.16768332248724407,0.177370556564105,0.11483719685332586,0.1293757957728546,0.14645661217089792,0.17922247023809526,0.135351811179017,0.04668955176767677,0.24180202258714653,0.12913876388647025,0.1393024608833432,0.13168255131964804,0.18020408163265303,0.13742420014880952,0.20416326565316453,0.1530172361323505,0.12245943832078278,-0.008304100114444948,0.15178042929292931,0.08008862206975413,0.22312521672986796,0.12781284898676193,0.11855593634760295,0.10579582890903644,0.1645988845988846,0.20543290043290047,0.06040488591269842,0.18404090508257176,0.12887775716347147,0.17786316581968756,0.1944153439153439,0.14092610597958194,0.205501403863432,0.2683751803751803,0.14541598691450328,0.06479468702029675,0.15803303713830022,0.16376649902385204,0.14776806156806158,0.1508795876305068,0.18467760545239884,0.16832022907647912,0.0976179214671278,0.16549810180517965,0.12621356421356422,0.16348906742974537,0.1553947473417519,0.08788918597742125,0.018375033629270926,0.12755913515582024,0.05655751999092613,0.1193413587934136,0.18439770130431607,0.21812531155712978,0.1693049094355064,0.15808948435530717,0.28425619834710736,0.16100288600288604,0.17082918677746264,0.10260031265031257,0.16359914905726436,0.23291875834129355,0.1308535040810582,0.12022203899933162,0.0816538674415387,0.23948653198653197,0.1683629148629149,0.20824354217211363,0.14042742068058517,0.1460786943885536,0.14026149343906352,0.08160986106916339,0.21390611875686508,0.18236420003607504,0.16264693764319516,0.14469843524531023,0.03092277589560198,0.12839284435029116,0.17319841937897487,0.05369854560644034,0.16625661375661377,0.12398312798312801,0.16217532467532472,0.19560359951030487,0.16225044563279856,0.12309917786891474,0.14890389942114082,0.08202809977746042,0.09111471861471862,0.1444681457431457,0.1758124098124098,0.2836902185116471,0.1894727519727519,0.2072363242817788,0.18830086580086586,0.17412796994371665,0.09503102392446658,0.1372840372840372,0.16366003479017177,0.12369157086007916,0.18871222527472525,0.18100387377173086,0.166652918667844,0.1530756893256893,0.15821942423746535,0.20704916379916358,0.207615502583035,0.08246631493506494,0.20192409329947314,0.10933552733081038,0.15926767676767678,0.159312923648717,0.19775165400637093,0.14948089267054787,0.11805620487886495,0.16870831467383213,0.22963171560110338,0.1865892857142858,0.16759498177261337,0.0660257711038961,0.10399300563934705,0.17168900661818517,0.1757309767697091,0.26778042632473015,0.18021843639899196,0.1545353243838092,0.17146305245142457,0.14471393034825863,0.16430313866028148,0.15233568043753226,0.17755403967525185,0.15446871310507673,0.10334303092367612,0.19832434649912525,0.1598627971355243,0.16548852169541828,0.19522675736961448,0.14073342230344427,0.2317249757045675,0.19888362548198604,0.11408596919920964,0.10875069774541944,0.15557304466449354,0.14540900072150073,0.18884829807702153,0.2176395534290271,0.1460547603248334,0.18844925444925445,0.13740572958394742,0.0646577380952381,0.27878845389714957,0.14470259649504935,0.06016196447230929,0.1308821548821549,0.11087128574373471,0.16408545184749154,0.1386603099965169,0.15128318064364576,0.1327405893146634,0.17530012102592749,0.07578418109668107,0.10173892284186402,0.2188373299609255,0.19410047681786805,0.13660069540388692,0.16325156325156323,0.1991795506081221,0.1093529791967292,0.080200968013468,0.12810252799872165,0.1163023283663358,0.16514092791266702,0.14135114693735387,0.15195784517114158,0.2480973266499583,0.17765573151649108,0.12804677206851123,0.3331860269360269,0.18665945165945172,0.1649652260307998,0.12638961431080994,0.07572404335958555,0.19382296739718616,0.1349512808423699,0.25772111657975527,0.21635279198915558,0.17281807770901728,0.25297556517556524,0.15436329347220443,0.2389133089133089,0.1993792807349146,0.15687028154120497,0.15425218870703453,0.16902120224247363,0.1442233609763732,0.20583252943280805,0.17023552065218742,0.13645833333333335,0.22256036556036551,0.1693125,0.12247615665584416,0.14430146970892813,0.3581746031746032,0.049806443556443564,0.11836757259834184,0.13957512112999912,0.17849409849409856,0.1334543295309719,0.15126875216690028,0.08203307585660527,0.11956635536180987,0.09260363007569714,0.17959940123733226,0.1513153513153513,0.1799998384699877,0.18915329768270941,0.24296229338842978,0.18517438672438677,0.12992831744440206,0.16963802234420788,0.1725334534340745,0.23731542699724506,0.43194444444444446,0.1502923976608187,0.18872239538239538,0.16689640165830644,0.2578378772527709,0.22110362205320777,0.19333461898621465,0.0856370531956469,0.14784628497863794,0.1617866812454441,0.1820393244354125,0.2120267298838727,0.05439814814814815,0.17871406854615823,0.19615440115440122,0.1824178501810081],\"yaxis\":\"y\",\"type\":\"scatter\"}],                        {\"template\":{\"data\":{\"histogram2dcontour\":[{\"type\":\"histogram2dcontour\",\"colorbar\":{\"outlinewidth\":0,\"ticks\":\"\"},\"colorscale\":[[0.0,\"#0d0887\"],[0.1111111111111111,\"#46039f\"],[0.2222222222222222,\"#7201a8\"],[0.3333333333333333,\"#9c179e\"],[0.4444444444444444,\"#bd3786\"],[0.5555555555555556,\"#d8576b\"],[0.6666666666666666,\"#ed7953\"],[0.7777777777777778,\"#fb9f3a\"],[0.8888888888888888,\"#fdca26\"],[1.0,\"#f0f921\"]]}],\"choropleth\":[{\"type\":\"choropleth\",\"colorbar\":{\"outlinewidth\":0,\"ticks\":\"\"}}],\"histogram2d\":[{\"type\":\"histogram2d\",\"colorbar\":{\"outlinewidth\":0,\"ticks\":\"\"},\"colorscale\":[[0.0,\"#0d0887\"],[0.1111111111111111,\"#46039f\"],[0.2222222222222222,\"#7201a8\"],[0.3333333333333333,\"#9c179e\"],[0.4444444444444444,\"#bd3786\"],[0.5555555555555556,\"#d8576b\"],[0.6666666666666666,\"#ed7953\"],[0.7777777777777778,\"#fb9f3a\"],[0.8888888888888888,\"#fdca26\"],[1.0,\"#f0f921\"]]}],\"heatmap\":[{\"type\":\"heatmap\",\"colorbar\":{\"outlinewidth\":0,\"ticks\":\"\"},\"colorscale\":[[0.0,\"#0d0887\"],[0.1111111111111111,\"#46039f\"],[0.2222222222222222,\"#7201a8\"],[0.3333333333333333,\"#9c179e\"],[0.4444444444444444,\"#bd3786\"],[0.5555555555555556,\"#d8576b\"],[0.6666666666666666,\"#ed7953\"],[0.7777777777777778,\"#fb9f3a\"],[0.8888888888888888,\"#fdca26\"],[1.0,\"#f0f921\"]]}],\"heatmapgl\":[{\"type\":\"heatmapgl\",\"colorbar\":{\"outlinewidth\":0,\"ticks\":\"\"},\"colorscale\":[[0.0,\"#0d0887\"],[0.1111111111111111,\"#46039f\"],[0.2222222222222222,\"#7201a8\"],[0.3333333333333333,\"#9c179e\"],[0.4444444444444444,\"#bd3786\"],[0.5555555555555556,\"#d8576b\"],[0.6666666666666666,\"#ed7953\"],[0.7777777777777778,\"#fb9f3a\"],[0.8888888888888888,\"#fdca26\"],[1.0,\"#f0f921\"]]}],\"contourcarpet\":[{\"type\":\"contourcarpet\",\"colorbar\":{\"outlinewidth\":0,\"ticks\":\"\"}}],\"contour\":[{\"type\":\"contour\",\"colorbar\":{\"outlinewidth\":0,\"ticks\":\"\"},\"colorscale\":[[0.0,\"#0d0887\"],[0.1111111111111111,\"#46039f\"],[0.2222222222222222,\"#7201a8\"],[0.3333333333333333,\"#9c179e\"],[0.4444444444444444,\"#bd3786\"],[0.5555555555555556,\"#d8576b\"],[0.6666666666666666,\"#ed7953\"],[0.7777777777777778,\"#fb9f3a\"],[0.8888888888888888,\"#fdca26\"],[1.0,\"#f0f921\"]]}],\"surface\":[{\"type\":\"surface\",\"colorbar\":{\"outlinewidth\":0,\"ticks\":\"\"},\"colorscale\":[[0.0,\"#0d0887\"],[0.1111111111111111,\"#46039f\"],[0.2222222222222222,\"#7201a8\"],[0.3333333333333333,\"#9c179e\"],[0.4444444444444444,\"#bd3786\"],[0.5555555555555556,\"#d8576b\"],[0.6666666666666666,\"#ed7953\"],[0.7777777777777778,\"#fb9f3a\"],[0.8888888888888888,\"#fdca26\"],[1.0,\"#f0f921\"]]}],\"mesh3d\":[{\"type\":\"mesh3d\",\"colorbar\":{\"outlinewidth\":0,\"ticks\":\"\"}}],\"scatter\":[{\"fillpattern\":{\"fillmode\":\"overlay\",\"size\":10,\"solidity\":0.2},\"type\":\"scatter\"}],\"parcoords\":[{\"type\":\"parcoords\",\"line\":{\"colorbar\":{\"outlinewidth\":0,\"ticks\":\"\"}}}],\"scatterpolargl\":[{\"type\":\"scatterpolargl\",\"marker\":{\"colorbar\":{\"outlinewidth\":0,\"ticks\":\"\"}}}],\"bar\":[{\"error_x\":{\"color\":\"#2a3f5f\"},\"error_y\":{\"color\":\"#2a3f5f\"},\"marker\":{\"line\":{\"color\":\"#E5ECF6\",\"width\":0.5},\"pattern\":{\"fillmode\":\"overlay\",\"size\":10,\"solidity\":0.2}},\"type\":\"bar\"}],\"scattergeo\":[{\"type\":\"scattergeo\",\"marker\":{\"colorbar\":{\"outlinewidth\":0,\"ticks\":\"\"}}}],\"scatterpolar\":[{\"type\":\"scatterpolar\",\"marker\":{\"colorbar\":{\"outlinewidth\":0,\"ticks\":\"\"}}}],\"histogram\":[{\"marker\":{\"pattern\":{\"fillmode\":\"overlay\",\"size\":10,\"solidity\":0.2}},\"type\":\"histogram\"}],\"scattergl\":[{\"type\":\"scattergl\",\"marker\":{\"colorbar\":{\"outlinewidth\":0,\"ticks\":\"\"}}}],\"scatter3d\":[{\"type\":\"scatter3d\",\"line\":{\"colorbar\":{\"outlinewidth\":0,\"ticks\":\"\"}},\"marker\":{\"colorbar\":{\"outlinewidth\":0,\"ticks\":\"\"}}}],\"scattermapbox\":[{\"type\":\"scattermapbox\",\"marker\":{\"colorbar\":{\"outlinewidth\":0,\"ticks\":\"\"}}}],\"scatterternary\":[{\"type\":\"scatterternary\",\"marker\":{\"colorbar\":{\"outlinewidth\":0,\"ticks\":\"\"}}}],\"scattercarpet\":[{\"type\":\"scattercarpet\",\"marker\":{\"colorbar\":{\"outlinewidth\":0,\"ticks\":\"\"}}}],\"carpet\":[{\"aaxis\":{\"endlinecolor\":\"#2a3f5f\",\"gridcolor\":\"white\",\"linecolor\":\"white\",\"minorgridcolor\":\"white\",\"startlinecolor\":\"#2a3f5f\"},\"baxis\":{\"endlinecolor\":\"#2a3f5f\",\"gridcolor\":\"white\",\"linecolor\":\"white\",\"minorgridcolor\":\"white\",\"startlinecolor\":\"#2a3f5f\"},\"type\":\"carpet\"}],\"table\":[{\"cells\":{\"fill\":{\"color\":\"#EBF0F8\"},\"line\":{\"color\":\"white\"}},\"header\":{\"fill\":{\"color\":\"#C8D4E3\"},\"line\":{\"color\":\"white\"}},\"type\":\"table\"}],\"barpolar\":[{\"marker\":{\"line\":{\"color\":\"#E5ECF6\",\"width\":0.5},\"pattern\":{\"fillmode\":\"overlay\",\"size\":10,\"solidity\":0.2}},\"type\":\"barpolar\"}],\"pie\":[{\"automargin\":true,\"type\":\"pie\"}]},\"layout\":{\"autotypenumbers\":\"strict\",\"colorway\":[\"#636efa\",\"#EF553B\",\"#00cc96\",\"#ab63fa\",\"#FFA15A\",\"#19d3f3\",\"#FF6692\",\"#B6E880\",\"#FF97FF\",\"#FECB52\"],\"font\":{\"color\":\"#2a3f5f\"},\"hovermode\":\"closest\",\"hoverlabel\":{\"align\":\"left\"},\"paper_bgcolor\":\"white\",\"plot_bgcolor\":\"#E5ECF6\",\"polar\":{\"bgcolor\":\"#E5ECF6\",\"angularaxis\":{\"gridcolor\":\"white\",\"linecolor\":\"white\",\"ticks\":\"\"},\"radialaxis\":{\"gridcolor\":\"white\",\"linecolor\":\"white\",\"ticks\":\"\"}},\"ternary\":{\"bgcolor\":\"#E5ECF6\",\"aaxis\":{\"gridcolor\":\"white\",\"linecolor\":\"white\",\"ticks\":\"\"},\"baxis\":{\"gridcolor\":\"white\",\"linecolor\":\"white\",\"ticks\":\"\"},\"caxis\":{\"gridcolor\":\"white\",\"linecolor\":\"white\",\"ticks\":\"\"}},\"coloraxis\":{\"colorbar\":{\"outlinewidth\":0,\"ticks\":\"\"}},\"colorscale\":{\"sequential\":[[0.0,\"#0d0887\"],[0.1111111111111111,\"#46039f\"],[0.2222222222222222,\"#7201a8\"],[0.3333333333333333,\"#9c179e\"],[0.4444444444444444,\"#bd3786\"],[0.5555555555555556,\"#d8576b\"],[0.6666666666666666,\"#ed7953\"],[0.7777777777777778,\"#fb9f3a\"],[0.8888888888888888,\"#fdca26\"],[1.0,\"#f0f921\"]],\"sequentialminus\":[[0.0,\"#0d0887\"],[0.1111111111111111,\"#46039f\"],[0.2222222222222222,\"#7201a8\"],[0.3333333333333333,\"#9c179e\"],[0.4444444444444444,\"#bd3786\"],[0.5555555555555556,\"#d8576b\"],[0.6666666666666666,\"#ed7953\"],[0.7777777777777778,\"#fb9f3a\"],[0.8888888888888888,\"#fdca26\"],[1.0,\"#f0f921\"]],\"diverging\":[[0,\"#8e0152\"],[0.1,\"#c51b7d\"],[0.2,\"#de77ae\"],[0.3,\"#f1b6da\"],[0.4,\"#fde0ef\"],[0.5,\"#f7f7f7\"],[0.6,\"#e6f5d0\"],[0.7,\"#b8e186\"],[0.8,\"#7fbc41\"],[0.9,\"#4d9221\"],[1,\"#276419\"]]},\"xaxis\":{\"gridcolor\":\"white\",\"linecolor\":\"white\",\"ticks\":\"\",\"title\":{\"standoff\":15},\"zerolinecolor\":\"white\",\"automargin\":true,\"zerolinewidth\":2},\"yaxis\":{\"gridcolor\":\"white\",\"linecolor\":\"white\",\"ticks\":\"\",\"title\":{\"standoff\":15},\"zerolinecolor\":\"white\",\"automargin\":true,\"zerolinewidth\":2},\"scene\":{\"xaxis\":{\"backgroundcolor\":\"#E5ECF6\",\"gridcolor\":\"white\",\"linecolor\":\"white\",\"showbackground\":true,\"ticks\":\"\",\"zerolinecolor\":\"white\",\"gridwidth\":2},\"yaxis\":{\"backgroundcolor\":\"#E5ECF6\",\"gridcolor\":\"white\",\"linecolor\":\"white\",\"showbackground\":true,\"ticks\":\"\",\"zerolinecolor\":\"white\",\"gridwidth\":2},\"zaxis\":{\"backgroundcolor\":\"#E5ECF6\",\"gridcolor\":\"white\",\"linecolor\":\"white\",\"showbackground\":true,\"ticks\":\"\",\"zerolinecolor\":\"white\",\"gridwidth\":2}},\"shapedefaults\":{\"line\":{\"color\":\"#2a3f5f\"}},\"annotationdefaults\":{\"arrowcolor\":\"#2a3f5f\",\"arrowhead\":0,\"arrowwidth\":1},\"geo\":{\"bgcolor\":\"white\",\"landcolor\":\"#E5ECF6\",\"subunitcolor\":\"white\",\"showland\":true,\"showlakes\":true,\"lakecolor\":\"white\"},\"title\":{\"x\":0.05},\"mapbox\":{\"style\":\"light\"}}},\"xaxis\":{\"anchor\":\"y\",\"domain\":[0.0,1.0],\"title\":{\"text\":\"date\"}},\"yaxis\":{\"anchor\":\"x\",\"domain\":[0.0,1.0],\"title\":{\"text\":\"TBpolarity\"}},\"legend\":{\"tracegroupgap\":0},\"title\":{\"text\":\"TextBlob polarity\"}},                        {\"responsive\": true}                    ).then(function(){\n",
       "                            \n",
       "var gd = document.getElementById('c1d5e6cc-4243-47fe-8971-9a16cf484279');\n",
       "var x = new MutationObserver(function (mutations, observer) {{\n",
       "        var display = window.getComputedStyle(gd).display;\n",
       "        if (!display || display === 'none') {{\n",
       "            console.log([gd, 'removed!']);\n",
       "            Plotly.purge(gd);\n",
       "            observer.disconnect();\n",
       "        }}\n",
       "}});\n",
       "\n",
       "// Listen for the removal of the full notebook cells\n",
       "var notebookContainer = gd.closest('#notebook-container');\n",
       "if (notebookContainer) {{\n",
       "    x.observe(notebookContainer, {childList: true});\n",
       "}}\n",
       "\n",
       "// Listen for the clearing of the current output cell\n",
       "var outputEl = gd.closest('.output');\n",
       "if (outputEl) {{\n",
       "    x.observe(outputEl, {childList: true});\n",
       "}}\n",
       "\n",
       "                        })                };                });            </script>        </div>"
      ]
     },
     "metadata": {},
     "output_type": "display_data"
    }
   ],
   "source": [
    "plot_df = text_df.iloc[15:]\n",
    "fig = px.line(plot_df, x=plot_df.index, y=\"TBpolarity\", hover_name=plot_df.index,\n",
    "             title='TextBlob polarity')\n",
    "fig.show()"
   ]
  },
  {
   "cell_type": "code",
   "execution_count": 21,
   "id": "90c86f21",
   "metadata": {},
   "outputs": [],
   "source": [
    "fig.write_image(\"./plots/textblob_polarity_oba_amrhet.png\", format='png', engine='kaleido')"
   ]
  },
  {
   "cell_type": "code",
   "execution_count": 47,
   "id": "dc781891",
   "metadata": {},
   "outputs": [
    {
     "data": {
      "text/html": [
       "<div>\n",
       "<style scoped>\n",
       "    .dataframe tbody tr th:only-of-type {\n",
       "        vertical-align: middle;\n",
       "    }\n",
       "\n",
       "    .dataframe tbody tr th {\n",
       "        vertical-align: top;\n",
       "    }\n",
       "\n",
       "    .dataframe thead th {\n",
       "        text-align: right;\n",
       "    }\n",
       "</style>\n",
       "<table border=\"1\" class=\"dataframe\">\n",
       "  <thead>\n",
       "    <tr style=\"text-align: right;\">\n",
       "      <th></th>\n",
       "      <th>filepath</th>\n",
       "      <th>text</th>\n",
       "      <th>source</th>\n",
       "      <th>TBsubjectivity</th>\n",
       "      <th>TBpolarity</th>\n",
       "    </tr>\n",
       "    <tr>\n",
       "      <th>date</th>\n",
       "      <th></th>\n",
       "      <th></th>\n",
       "      <th></th>\n",
       "      <th></th>\n",
       "      <th></th>\n",
       "    </tr>\n",
       "  </thead>\n",
       "  <tbody>\n",
       "    <tr>\n",
       "      <th>2016-02-13</th>\n",
       "      <td>./Data/barackobamaantoninscaliapassing.txt</td>\n",
       "      <td>Good evening, everybody.  For almost 30 years,...</td>\n",
       "      <td>oba</td>\n",
       "      <td>0.576438</td>\n",
       "      <td>0.333186</td>\n",
       "    </tr>\n",
       "    <tr>\n",
       "      <th>2016-06-09</th>\n",
       "      <td>./Data/barackobamahillaryclintonpresidentialen...</td>\n",
       "      <td>For more than a year now, across thousands of ...</td>\n",
       "      <td>oba</td>\n",
       "      <td>0.506190</td>\n",
       "      <td>0.358175</td>\n",
       "    </tr>\n",
       "    <tr>\n",
       "      <th>2016-11-10</th>\n",
       "      <td>./Data/barackobamadonaldtrumpmeeting.txt</td>\n",
       "      <td>Well, I just had the opportunity to have an ex...</td>\n",
       "      <td>oba</td>\n",
       "      <td>0.506327</td>\n",
       "      <td>0.431944</td>\n",
       "    </tr>\n",
       "  </tbody>\n",
       "</table>\n",
       "</div>"
      ],
      "text/plain": [
       "                                                     filepath  \\\n",
       "date                                                            \n",
       "2016-02-13         ./Data/barackobamaantoninscaliapassing.txt   \n",
       "2016-06-09  ./Data/barackobamahillaryclintonpresidentialen...   \n",
       "2016-11-10           ./Data/barackobamadonaldtrumpmeeting.txt   \n",
       "\n",
       "                                                         text source  \\\n",
       "date                                                                   \n",
       "2016-02-13  Good evening, everybody.  For almost 30 years,...    oba   \n",
       "2016-06-09  For more than a year now, across thousands of ...    oba   \n",
       "2016-11-10  Well, I just had the opportunity to have an ex...    oba   \n",
       "\n",
       "            TBsubjectivity  TBpolarity  \n",
       "date                                    \n",
       "2016-02-13        0.576438    0.333186  \n",
       "2016-06-09        0.506190    0.358175  \n",
       "2016-11-10        0.506327    0.431944  "
      ]
     },
     "execution_count": 47,
     "metadata": {},
     "output_type": "execute_result"
    }
   ],
   "source": [
    "text_df.sort_values(by='TBpolarity').tail(3)"
   ]
  },
  {
   "cell_type": "code",
   "execution_count": 52,
   "id": "fc80206d",
   "metadata": {},
   "outputs": [],
   "source": [
    "most_pos = ['./Data/barackobamaantoninscaliapassing.txt',\n",
    "            './Data/barackobamahillaryclintonpresidentialendorsement.txt',\n",
    "            './Data/barackobamadonaldtrumpmeeting.txt']\n",
    "# first count max number of sentences\n",
    "count = []\n",
    "for i, doc in enumerate(most_pos):\n",
    "    sentences = sent_tokenize(text_df.query('filepath==@doc').text[0])\n",
    "    count.append(len(sentences))\n",
    "max_count = max(count)\n",
    "speeches = pd.DataFrame(index=range(max_count))\n",
    "\n",
    "for i, doc in enumerate(most_pos):\n",
    "    sentences = sent_tokenize(text_df.query('filepath==@doc').text[0])\n",
    "    col = 'polarity'+str(i)\n",
    "    polarity = [TextBlob(text).sentiment.polarity for text in sentences]\n",
    "    polarity = polarity + [0]*(max_count-len(sentences))\n",
    "    speeches[col] = polarity"
   ]
  },
  {
   "cell_type": "code",
   "execution_count": 53,
   "id": "5a05f7c6",
   "metadata": {},
   "outputs": [
    {
     "data": {
      "text/plain": [
       "polarity0    0.212879\n",
       "polarity1    0.228625\n",
       "polarity2    0.141026\n",
       "dtype: float64"
      ]
     },
     "execution_count": 53,
     "metadata": {},
     "output_type": "execute_result"
    }
   ],
   "source": [
    "speeches.mean()"
   ]
  },
  {
   "cell_type": "code",
   "execution_count": 54,
   "id": "9ec89a6d",
   "metadata": {},
   "outputs": [
    {
     "data": {
      "text/plain": [
       "polarity0    0.299185\n",
       "polarity1    0.309561\n",
       "polarity2    0.282095\n",
       "dtype: float64"
      ]
     },
     "execution_count": 54,
     "metadata": {},
     "output_type": "execute_result"
    }
   ],
   "source": [
    "speeches.std()"
   ]
  },
  {
   "cell_type": "code",
   "execution_count": 58,
   "id": "1353ccce",
   "metadata": {},
   "outputs": [
    {
     "data": {
      "application/vnd.plotly.v1+json": {
       "config": {
        "plotlyServerURL": "https://plot.ly"
       },
       "data": [
        {
         "hovertemplate": "index=%{x}<br>polarity1=%{y}<extra></extra>",
         "legendgroup": "",
         "line": {
          "color": "#636efa",
          "dash": "solid"
         },
         "marker": {
          "symbol": "circle"
         },
         "mode": "lines",
         "name": "",
         "orientation": "v",
         "showlegend": false,
         "type": "scatter",
         "x": [
          0,
          1,
          2,
          3,
          4,
          5,
          6,
          7,
          8,
          9,
          10,
          11,
          12,
          13,
          14,
          15,
          16,
          17,
          18,
          19,
          20,
          21,
          22,
          23,
          24,
          25
         ],
         "xaxis": "x",
         "y": [
          0.5,
          0,
          0,
          -0.2916666666666667,
          0.6,
          0.6,
          0,
          0,
          0.10370370370370369,
          0,
          0.575,
          0,
          -0.2916666666666667,
          0,
          0.25,
          0,
          0.325,
          0.55,
          0.275,
          0.8,
          0.45,
          0.33888888888888885,
          0,
          0.8,
          0,
          0.36
         ],
         "yaxis": "y"
        }
       ],
       "layout": {
        "legend": {
         "tracegroupgap": 0
        },
        "template": {
         "data": {
          "bar": [
           {
            "error_x": {
             "color": "#2a3f5f"
            },
            "error_y": {
             "color": "#2a3f5f"
            },
            "marker": {
             "line": {
              "color": "#E5ECF6",
              "width": 0.5
             },
             "pattern": {
              "fillmode": "overlay",
              "size": 10,
              "solidity": 0.2
             }
            },
            "type": "bar"
           }
          ],
          "barpolar": [
           {
            "marker": {
             "line": {
              "color": "#E5ECF6",
              "width": 0.5
             },
             "pattern": {
              "fillmode": "overlay",
              "size": 10,
              "solidity": 0.2
             }
            },
            "type": "barpolar"
           }
          ],
          "carpet": [
           {
            "aaxis": {
             "endlinecolor": "#2a3f5f",
             "gridcolor": "white",
             "linecolor": "white",
             "minorgridcolor": "white",
             "startlinecolor": "#2a3f5f"
            },
            "baxis": {
             "endlinecolor": "#2a3f5f",
             "gridcolor": "white",
             "linecolor": "white",
             "minorgridcolor": "white",
             "startlinecolor": "#2a3f5f"
            },
            "type": "carpet"
           }
          ],
          "choropleth": [
           {
            "colorbar": {
             "outlinewidth": 0,
             "ticks": ""
            },
            "type": "choropleth"
           }
          ],
          "contour": [
           {
            "colorbar": {
             "outlinewidth": 0,
             "ticks": ""
            },
            "colorscale": [
             [
              0,
              "#0d0887"
             ],
             [
              0.1111111111111111,
              "#46039f"
             ],
             [
              0.2222222222222222,
              "#7201a8"
             ],
             [
              0.3333333333333333,
              "#9c179e"
             ],
             [
              0.4444444444444444,
              "#bd3786"
             ],
             [
              0.5555555555555556,
              "#d8576b"
             ],
             [
              0.6666666666666666,
              "#ed7953"
             ],
             [
              0.7777777777777778,
              "#fb9f3a"
             ],
             [
              0.8888888888888888,
              "#fdca26"
             ],
             [
              1,
              "#f0f921"
             ]
            ],
            "type": "contour"
           }
          ],
          "contourcarpet": [
           {
            "colorbar": {
             "outlinewidth": 0,
             "ticks": ""
            },
            "type": "contourcarpet"
           }
          ],
          "heatmap": [
           {
            "colorbar": {
             "outlinewidth": 0,
             "ticks": ""
            },
            "colorscale": [
             [
              0,
              "#0d0887"
             ],
             [
              0.1111111111111111,
              "#46039f"
             ],
             [
              0.2222222222222222,
              "#7201a8"
             ],
             [
              0.3333333333333333,
              "#9c179e"
             ],
             [
              0.4444444444444444,
              "#bd3786"
             ],
             [
              0.5555555555555556,
              "#d8576b"
             ],
             [
              0.6666666666666666,
              "#ed7953"
             ],
             [
              0.7777777777777778,
              "#fb9f3a"
             ],
             [
              0.8888888888888888,
              "#fdca26"
             ],
             [
              1,
              "#f0f921"
             ]
            ],
            "type": "heatmap"
           }
          ],
          "heatmapgl": [
           {
            "colorbar": {
             "outlinewidth": 0,
             "ticks": ""
            },
            "colorscale": [
             [
              0,
              "#0d0887"
             ],
             [
              0.1111111111111111,
              "#46039f"
             ],
             [
              0.2222222222222222,
              "#7201a8"
             ],
             [
              0.3333333333333333,
              "#9c179e"
             ],
             [
              0.4444444444444444,
              "#bd3786"
             ],
             [
              0.5555555555555556,
              "#d8576b"
             ],
             [
              0.6666666666666666,
              "#ed7953"
             ],
             [
              0.7777777777777778,
              "#fb9f3a"
             ],
             [
              0.8888888888888888,
              "#fdca26"
             ],
             [
              1,
              "#f0f921"
             ]
            ],
            "type": "heatmapgl"
           }
          ],
          "histogram": [
           {
            "marker": {
             "pattern": {
              "fillmode": "overlay",
              "size": 10,
              "solidity": 0.2
             }
            },
            "type": "histogram"
           }
          ],
          "histogram2d": [
           {
            "colorbar": {
             "outlinewidth": 0,
             "ticks": ""
            },
            "colorscale": [
             [
              0,
              "#0d0887"
             ],
             [
              0.1111111111111111,
              "#46039f"
             ],
             [
              0.2222222222222222,
              "#7201a8"
             ],
             [
              0.3333333333333333,
              "#9c179e"
             ],
             [
              0.4444444444444444,
              "#bd3786"
             ],
             [
              0.5555555555555556,
              "#d8576b"
             ],
             [
              0.6666666666666666,
              "#ed7953"
             ],
             [
              0.7777777777777778,
              "#fb9f3a"
             ],
             [
              0.8888888888888888,
              "#fdca26"
             ],
             [
              1,
              "#f0f921"
             ]
            ],
            "type": "histogram2d"
           }
          ],
          "histogram2dcontour": [
           {
            "colorbar": {
             "outlinewidth": 0,
             "ticks": ""
            },
            "colorscale": [
             [
              0,
              "#0d0887"
             ],
             [
              0.1111111111111111,
              "#46039f"
             ],
             [
              0.2222222222222222,
              "#7201a8"
             ],
             [
              0.3333333333333333,
              "#9c179e"
             ],
             [
              0.4444444444444444,
              "#bd3786"
             ],
             [
              0.5555555555555556,
              "#d8576b"
             ],
             [
              0.6666666666666666,
              "#ed7953"
             ],
             [
              0.7777777777777778,
              "#fb9f3a"
             ],
             [
              0.8888888888888888,
              "#fdca26"
             ],
             [
              1,
              "#f0f921"
             ]
            ],
            "type": "histogram2dcontour"
           }
          ],
          "mesh3d": [
           {
            "colorbar": {
             "outlinewidth": 0,
             "ticks": ""
            },
            "type": "mesh3d"
           }
          ],
          "parcoords": [
           {
            "line": {
             "colorbar": {
              "outlinewidth": 0,
              "ticks": ""
             }
            },
            "type": "parcoords"
           }
          ],
          "pie": [
           {
            "automargin": true,
            "type": "pie"
           }
          ],
          "scatter": [
           {
            "fillpattern": {
             "fillmode": "overlay",
             "size": 10,
             "solidity": 0.2
            },
            "type": "scatter"
           }
          ],
          "scatter3d": [
           {
            "line": {
             "colorbar": {
              "outlinewidth": 0,
              "ticks": ""
             }
            },
            "marker": {
             "colorbar": {
              "outlinewidth": 0,
              "ticks": ""
             }
            },
            "type": "scatter3d"
           }
          ],
          "scattercarpet": [
           {
            "marker": {
             "colorbar": {
              "outlinewidth": 0,
              "ticks": ""
             }
            },
            "type": "scattercarpet"
           }
          ],
          "scattergeo": [
           {
            "marker": {
             "colorbar": {
              "outlinewidth": 0,
              "ticks": ""
             }
            },
            "type": "scattergeo"
           }
          ],
          "scattergl": [
           {
            "marker": {
             "colorbar": {
              "outlinewidth": 0,
              "ticks": ""
             }
            },
            "type": "scattergl"
           }
          ],
          "scattermapbox": [
           {
            "marker": {
             "colorbar": {
              "outlinewidth": 0,
              "ticks": ""
             }
            },
            "type": "scattermapbox"
           }
          ],
          "scatterpolar": [
           {
            "marker": {
             "colorbar": {
              "outlinewidth": 0,
              "ticks": ""
             }
            },
            "type": "scatterpolar"
           }
          ],
          "scatterpolargl": [
           {
            "marker": {
             "colorbar": {
              "outlinewidth": 0,
              "ticks": ""
             }
            },
            "type": "scatterpolargl"
           }
          ],
          "scatterternary": [
           {
            "marker": {
             "colorbar": {
              "outlinewidth": 0,
              "ticks": ""
             }
            },
            "type": "scatterternary"
           }
          ],
          "surface": [
           {
            "colorbar": {
             "outlinewidth": 0,
             "ticks": ""
            },
            "colorscale": [
             [
              0,
              "#0d0887"
             ],
             [
              0.1111111111111111,
              "#46039f"
             ],
             [
              0.2222222222222222,
              "#7201a8"
             ],
             [
              0.3333333333333333,
              "#9c179e"
             ],
             [
              0.4444444444444444,
              "#bd3786"
             ],
             [
              0.5555555555555556,
              "#d8576b"
             ],
             [
              0.6666666666666666,
              "#ed7953"
             ],
             [
              0.7777777777777778,
              "#fb9f3a"
             ],
             [
              0.8888888888888888,
              "#fdca26"
             ],
             [
              1,
              "#f0f921"
             ]
            ],
            "type": "surface"
           }
          ],
          "table": [
           {
            "cells": {
             "fill": {
              "color": "#EBF0F8"
             },
             "line": {
              "color": "white"
             }
            },
            "header": {
             "fill": {
              "color": "#C8D4E3"
             },
             "line": {
              "color": "white"
             }
            },
            "type": "table"
           }
          ]
         },
         "layout": {
          "annotationdefaults": {
           "arrowcolor": "#2a3f5f",
           "arrowhead": 0,
           "arrowwidth": 1
          },
          "autotypenumbers": "strict",
          "coloraxis": {
           "colorbar": {
            "outlinewidth": 0,
            "ticks": ""
           }
          },
          "colorscale": {
           "diverging": [
            [
             0,
             "#8e0152"
            ],
            [
             0.1,
             "#c51b7d"
            ],
            [
             0.2,
             "#de77ae"
            ],
            [
             0.3,
             "#f1b6da"
            ],
            [
             0.4,
             "#fde0ef"
            ],
            [
             0.5,
             "#f7f7f7"
            ],
            [
             0.6,
             "#e6f5d0"
            ],
            [
             0.7,
             "#b8e186"
            ],
            [
             0.8,
             "#7fbc41"
            ],
            [
             0.9,
             "#4d9221"
            ],
            [
             1,
             "#276419"
            ]
           ],
           "sequential": [
            [
             0,
             "#0d0887"
            ],
            [
             0.1111111111111111,
             "#46039f"
            ],
            [
             0.2222222222222222,
             "#7201a8"
            ],
            [
             0.3333333333333333,
             "#9c179e"
            ],
            [
             0.4444444444444444,
             "#bd3786"
            ],
            [
             0.5555555555555556,
             "#d8576b"
            ],
            [
             0.6666666666666666,
             "#ed7953"
            ],
            [
             0.7777777777777778,
             "#fb9f3a"
            ],
            [
             0.8888888888888888,
             "#fdca26"
            ],
            [
             1,
             "#f0f921"
            ]
           ],
           "sequentialminus": [
            [
             0,
             "#0d0887"
            ],
            [
             0.1111111111111111,
             "#46039f"
            ],
            [
             0.2222222222222222,
             "#7201a8"
            ],
            [
             0.3333333333333333,
             "#9c179e"
            ],
            [
             0.4444444444444444,
             "#bd3786"
            ],
            [
             0.5555555555555556,
             "#d8576b"
            ],
            [
             0.6666666666666666,
             "#ed7953"
            ],
            [
             0.7777777777777778,
             "#fb9f3a"
            ],
            [
             0.8888888888888888,
             "#fdca26"
            ],
            [
             1,
             "#f0f921"
            ]
           ]
          },
          "colorway": [
           "#636efa",
           "#EF553B",
           "#00cc96",
           "#ab63fa",
           "#FFA15A",
           "#19d3f3",
           "#FF6692",
           "#B6E880",
           "#FF97FF",
           "#FECB52"
          ],
          "font": {
           "color": "#2a3f5f"
          },
          "geo": {
           "bgcolor": "white",
           "lakecolor": "white",
           "landcolor": "#E5ECF6",
           "showlakes": true,
           "showland": true,
           "subunitcolor": "white"
          },
          "hoverlabel": {
           "align": "left"
          },
          "hovermode": "closest",
          "mapbox": {
           "style": "light"
          },
          "paper_bgcolor": "white",
          "plot_bgcolor": "#E5ECF6",
          "polar": {
           "angularaxis": {
            "gridcolor": "white",
            "linecolor": "white",
            "ticks": ""
           },
           "bgcolor": "#E5ECF6",
           "radialaxis": {
            "gridcolor": "white",
            "linecolor": "white",
            "ticks": ""
           }
          },
          "scene": {
           "xaxis": {
            "backgroundcolor": "#E5ECF6",
            "gridcolor": "white",
            "gridwidth": 2,
            "linecolor": "white",
            "showbackground": true,
            "ticks": "",
            "zerolinecolor": "white"
           },
           "yaxis": {
            "backgroundcolor": "#E5ECF6",
            "gridcolor": "white",
            "gridwidth": 2,
            "linecolor": "white",
            "showbackground": true,
            "ticks": "",
            "zerolinecolor": "white"
           },
           "zaxis": {
            "backgroundcolor": "#E5ECF6",
            "gridcolor": "white",
            "gridwidth": 2,
            "linecolor": "white",
            "showbackground": true,
            "ticks": "",
            "zerolinecolor": "white"
           }
          },
          "shapedefaults": {
           "line": {
            "color": "#2a3f5f"
           }
          },
          "ternary": {
           "aaxis": {
            "gridcolor": "white",
            "linecolor": "white",
            "ticks": ""
           },
           "baxis": {
            "gridcolor": "white",
            "linecolor": "white",
            "ticks": ""
           },
           "bgcolor": "#E5ECF6",
           "caxis": {
            "gridcolor": "white",
            "linecolor": "white",
            "ticks": ""
           }
          },
          "title": {
           "x": 0.05
          },
          "xaxis": {
           "automargin": true,
           "gridcolor": "white",
           "linecolor": "white",
           "ticks": "",
           "title": {
            "standoff": 15
           },
           "zerolinecolor": "white",
           "zerolinewidth": 2
          },
          "yaxis": {
           "automargin": true,
           "gridcolor": "white",
           "linecolor": "white",
           "ticks": "",
           "title": {
            "standoff": 15
           },
           "zerolinecolor": "white",
           "zerolinewidth": 2
          }
         }
        },
        "title": {
         "text": "TextBlob polarity"
        },
        "xaxis": {
         "anchor": "y",
         "domain": [
          0,
          1
         ],
         "title": {
          "text": "index"
         }
        },
        "yaxis": {
         "anchor": "x",
         "domain": [
          0,
          1
         ],
         "title": {
          "text": "polarity1"
         }
        }
       }
      },
      "text/html": [
       "<div>                            <div id=\"017498e2-bd20-453b-9622-b96cac476f5e\" class=\"plotly-graph-div\" style=\"height:525px; width:100%;\"></div>            <script type=\"text/javascript\">                require([\"plotly\"], function(Plotly) {                    window.PLOTLYENV=window.PLOTLYENV || {};                                    if (document.getElementById(\"017498e2-bd20-453b-9622-b96cac476f5e\")) {                    Plotly.newPlot(                        \"017498e2-bd20-453b-9622-b96cac476f5e\",                        [{\"hovertemplate\":\"index=%{x}<br>polarity1=%{y}<extra></extra>\",\"legendgroup\":\"\",\"line\":{\"color\":\"#636efa\",\"dash\":\"solid\"},\"marker\":{\"symbol\":\"circle\"},\"mode\":\"lines\",\"name\":\"\",\"orientation\":\"v\",\"showlegend\":false,\"x\":[0,1,2,3,4,5,6,7,8,9,10,11,12,13,14,15,16,17,18,19,20,21,22,23,24,25],\"xaxis\":\"x\",\"y\":[0.5,0.0,0.0,-0.2916666666666667,0.6,0.6,0.0,0.0,0.10370370370370369,0.0,0.575,0.0,-0.2916666666666667,0.0,0.25,0.0,0.325,0.55,0.275,0.8,0.45,0.33888888888888885,0.0,0.8,0.0,0.36],\"yaxis\":\"y\",\"type\":\"scatter\"}],                        {\"template\":{\"data\":{\"histogram2dcontour\":[{\"type\":\"histogram2dcontour\",\"colorbar\":{\"outlinewidth\":0,\"ticks\":\"\"},\"colorscale\":[[0.0,\"#0d0887\"],[0.1111111111111111,\"#46039f\"],[0.2222222222222222,\"#7201a8\"],[0.3333333333333333,\"#9c179e\"],[0.4444444444444444,\"#bd3786\"],[0.5555555555555556,\"#d8576b\"],[0.6666666666666666,\"#ed7953\"],[0.7777777777777778,\"#fb9f3a\"],[0.8888888888888888,\"#fdca26\"],[1.0,\"#f0f921\"]]}],\"choropleth\":[{\"type\":\"choropleth\",\"colorbar\":{\"outlinewidth\":0,\"ticks\":\"\"}}],\"histogram2d\":[{\"type\":\"histogram2d\",\"colorbar\":{\"outlinewidth\":0,\"ticks\":\"\"},\"colorscale\":[[0.0,\"#0d0887\"],[0.1111111111111111,\"#46039f\"],[0.2222222222222222,\"#7201a8\"],[0.3333333333333333,\"#9c179e\"],[0.4444444444444444,\"#bd3786\"],[0.5555555555555556,\"#d8576b\"],[0.6666666666666666,\"#ed7953\"],[0.7777777777777778,\"#fb9f3a\"],[0.8888888888888888,\"#fdca26\"],[1.0,\"#f0f921\"]]}],\"heatmap\":[{\"type\":\"heatmap\",\"colorbar\":{\"outlinewidth\":0,\"ticks\":\"\"},\"colorscale\":[[0.0,\"#0d0887\"],[0.1111111111111111,\"#46039f\"],[0.2222222222222222,\"#7201a8\"],[0.3333333333333333,\"#9c179e\"],[0.4444444444444444,\"#bd3786\"],[0.5555555555555556,\"#d8576b\"],[0.6666666666666666,\"#ed7953\"],[0.7777777777777778,\"#fb9f3a\"],[0.8888888888888888,\"#fdca26\"],[1.0,\"#f0f921\"]]}],\"heatmapgl\":[{\"type\":\"heatmapgl\",\"colorbar\":{\"outlinewidth\":0,\"ticks\":\"\"},\"colorscale\":[[0.0,\"#0d0887\"],[0.1111111111111111,\"#46039f\"],[0.2222222222222222,\"#7201a8\"],[0.3333333333333333,\"#9c179e\"],[0.4444444444444444,\"#bd3786\"],[0.5555555555555556,\"#d8576b\"],[0.6666666666666666,\"#ed7953\"],[0.7777777777777778,\"#fb9f3a\"],[0.8888888888888888,\"#fdca26\"],[1.0,\"#f0f921\"]]}],\"contourcarpet\":[{\"type\":\"contourcarpet\",\"colorbar\":{\"outlinewidth\":0,\"ticks\":\"\"}}],\"contour\":[{\"type\":\"contour\",\"colorbar\":{\"outlinewidth\":0,\"ticks\":\"\"},\"colorscale\":[[0.0,\"#0d0887\"],[0.1111111111111111,\"#46039f\"],[0.2222222222222222,\"#7201a8\"],[0.3333333333333333,\"#9c179e\"],[0.4444444444444444,\"#bd3786\"],[0.5555555555555556,\"#d8576b\"],[0.6666666666666666,\"#ed7953\"],[0.7777777777777778,\"#fb9f3a\"],[0.8888888888888888,\"#fdca26\"],[1.0,\"#f0f921\"]]}],\"surface\":[{\"type\":\"surface\",\"colorbar\":{\"outlinewidth\":0,\"ticks\":\"\"},\"colorscale\":[[0.0,\"#0d0887\"],[0.1111111111111111,\"#46039f\"],[0.2222222222222222,\"#7201a8\"],[0.3333333333333333,\"#9c179e\"],[0.4444444444444444,\"#bd3786\"],[0.5555555555555556,\"#d8576b\"],[0.6666666666666666,\"#ed7953\"],[0.7777777777777778,\"#fb9f3a\"],[0.8888888888888888,\"#fdca26\"],[1.0,\"#f0f921\"]]}],\"mesh3d\":[{\"type\":\"mesh3d\",\"colorbar\":{\"outlinewidth\":0,\"ticks\":\"\"}}],\"scatter\":[{\"fillpattern\":{\"fillmode\":\"overlay\",\"size\":10,\"solidity\":0.2},\"type\":\"scatter\"}],\"parcoords\":[{\"type\":\"parcoords\",\"line\":{\"colorbar\":{\"outlinewidth\":0,\"ticks\":\"\"}}}],\"scatterpolargl\":[{\"type\":\"scatterpolargl\",\"marker\":{\"colorbar\":{\"outlinewidth\":0,\"ticks\":\"\"}}}],\"bar\":[{\"error_x\":{\"color\":\"#2a3f5f\"},\"error_y\":{\"color\":\"#2a3f5f\"},\"marker\":{\"line\":{\"color\":\"#E5ECF6\",\"width\":0.5},\"pattern\":{\"fillmode\":\"overlay\",\"size\":10,\"solidity\":0.2}},\"type\":\"bar\"}],\"scattergeo\":[{\"type\":\"scattergeo\",\"marker\":{\"colorbar\":{\"outlinewidth\":0,\"ticks\":\"\"}}}],\"scatterpolar\":[{\"type\":\"scatterpolar\",\"marker\":{\"colorbar\":{\"outlinewidth\":0,\"ticks\":\"\"}}}],\"histogram\":[{\"marker\":{\"pattern\":{\"fillmode\":\"overlay\",\"size\":10,\"solidity\":0.2}},\"type\":\"histogram\"}],\"scattergl\":[{\"type\":\"scattergl\",\"marker\":{\"colorbar\":{\"outlinewidth\":0,\"ticks\":\"\"}}}],\"scatter3d\":[{\"type\":\"scatter3d\",\"line\":{\"colorbar\":{\"outlinewidth\":0,\"ticks\":\"\"}},\"marker\":{\"colorbar\":{\"outlinewidth\":0,\"ticks\":\"\"}}}],\"scattermapbox\":[{\"type\":\"scattermapbox\",\"marker\":{\"colorbar\":{\"outlinewidth\":0,\"ticks\":\"\"}}}],\"scatterternary\":[{\"type\":\"scatterternary\",\"marker\":{\"colorbar\":{\"outlinewidth\":0,\"ticks\":\"\"}}}],\"scattercarpet\":[{\"type\":\"scattercarpet\",\"marker\":{\"colorbar\":{\"outlinewidth\":0,\"ticks\":\"\"}}}],\"carpet\":[{\"aaxis\":{\"endlinecolor\":\"#2a3f5f\",\"gridcolor\":\"white\",\"linecolor\":\"white\",\"minorgridcolor\":\"white\",\"startlinecolor\":\"#2a3f5f\"},\"baxis\":{\"endlinecolor\":\"#2a3f5f\",\"gridcolor\":\"white\",\"linecolor\":\"white\",\"minorgridcolor\":\"white\",\"startlinecolor\":\"#2a3f5f\"},\"type\":\"carpet\"}],\"table\":[{\"cells\":{\"fill\":{\"color\":\"#EBF0F8\"},\"line\":{\"color\":\"white\"}},\"header\":{\"fill\":{\"color\":\"#C8D4E3\"},\"line\":{\"color\":\"white\"}},\"type\":\"table\"}],\"barpolar\":[{\"marker\":{\"line\":{\"color\":\"#E5ECF6\",\"width\":0.5},\"pattern\":{\"fillmode\":\"overlay\",\"size\":10,\"solidity\":0.2}},\"type\":\"barpolar\"}],\"pie\":[{\"automargin\":true,\"type\":\"pie\"}]},\"layout\":{\"autotypenumbers\":\"strict\",\"colorway\":[\"#636efa\",\"#EF553B\",\"#00cc96\",\"#ab63fa\",\"#FFA15A\",\"#19d3f3\",\"#FF6692\",\"#B6E880\",\"#FF97FF\",\"#FECB52\"],\"font\":{\"color\":\"#2a3f5f\"},\"hovermode\":\"closest\",\"hoverlabel\":{\"align\":\"left\"},\"paper_bgcolor\":\"white\",\"plot_bgcolor\":\"#E5ECF6\",\"polar\":{\"bgcolor\":\"#E5ECF6\",\"angularaxis\":{\"gridcolor\":\"white\",\"linecolor\":\"white\",\"ticks\":\"\"},\"radialaxis\":{\"gridcolor\":\"white\",\"linecolor\":\"white\",\"ticks\":\"\"}},\"ternary\":{\"bgcolor\":\"#E5ECF6\",\"aaxis\":{\"gridcolor\":\"white\",\"linecolor\":\"white\",\"ticks\":\"\"},\"baxis\":{\"gridcolor\":\"white\",\"linecolor\":\"white\",\"ticks\":\"\"},\"caxis\":{\"gridcolor\":\"white\",\"linecolor\":\"white\",\"ticks\":\"\"}},\"coloraxis\":{\"colorbar\":{\"outlinewidth\":0,\"ticks\":\"\"}},\"colorscale\":{\"sequential\":[[0.0,\"#0d0887\"],[0.1111111111111111,\"#46039f\"],[0.2222222222222222,\"#7201a8\"],[0.3333333333333333,\"#9c179e\"],[0.4444444444444444,\"#bd3786\"],[0.5555555555555556,\"#d8576b\"],[0.6666666666666666,\"#ed7953\"],[0.7777777777777778,\"#fb9f3a\"],[0.8888888888888888,\"#fdca26\"],[1.0,\"#f0f921\"]],\"sequentialminus\":[[0.0,\"#0d0887\"],[0.1111111111111111,\"#46039f\"],[0.2222222222222222,\"#7201a8\"],[0.3333333333333333,\"#9c179e\"],[0.4444444444444444,\"#bd3786\"],[0.5555555555555556,\"#d8576b\"],[0.6666666666666666,\"#ed7953\"],[0.7777777777777778,\"#fb9f3a\"],[0.8888888888888888,\"#fdca26\"],[1.0,\"#f0f921\"]],\"diverging\":[[0,\"#8e0152\"],[0.1,\"#c51b7d\"],[0.2,\"#de77ae\"],[0.3,\"#f1b6da\"],[0.4,\"#fde0ef\"],[0.5,\"#f7f7f7\"],[0.6,\"#e6f5d0\"],[0.7,\"#b8e186\"],[0.8,\"#7fbc41\"],[0.9,\"#4d9221\"],[1,\"#276419\"]]},\"xaxis\":{\"gridcolor\":\"white\",\"linecolor\":\"white\",\"ticks\":\"\",\"title\":{\"standoff\":15},\"zerolinecolor\":\"white\",\"automargin\":true,\"zerolinewidth\":2},\"yaxis\":{\"gridcolor\":\"white\",\"linecolor\":\"white\",\"ticks\":\"\",\"title\":{\"standoff\":15},\"zerolinecolor\":\"white\",\"automargin\":true,\"zerolinewidth\":2},\"scene\":{\"xaxis\":{\"backgroundcolor\":\"#E5ECF6\",\"gridcolor\":\"white\",\"linecolor\":\"white\",\"showbackground\":true,\"ticks\":\"\",\"zerolinecolor\":\"white\",\"gridwidth\":2},\"yaxis\":{\"backgroundcolor\":\"#E5ECF6\",\"gridcolor\":\"white\",\"linecolor\":\"white\",\"showbackground\":true,\"ticks\":\"\",\"zerolinecolor\":\"white\",\"gridwidth\":2},\"zaxis\":{\"backgroundcolor\":\"#E5ECF6\",\"gridcolor\":\"white\",\"linecolor\":\"white\",\"showbackground\":true,\"ticks\":\"\",\"zerolinecolor\":\"white\",\"gridwidth\":2}},\"shapedefaults\":{\"line\":{\"color\":\"#2a3f5f\"}},\"annotationdefaults\":{\"arrowcolor\":\"#2a3f5f\",\"arrowhead\":0,\"arrowwidth\":1},\"geo\":{\"bgcolor\":\"white\",\"landcolor\":\"#E5ECF6\",\"subunitcolor\":\"white\",\"showland\":true,\"showlakes\":true,\"lakecolor\":\"white\"},\"title\":{\"x\":0.05},\"mapbox\":{\"style\":\"light\"}}},\"xaxis\":{\"anchor\":\"y\",\"domain\":[0.0,1.0],\"title\":{\"text\":\"index\"}},\"yaxis\":{\"anchor\":\"x\",\"domain\":[0.0,1.0],\"title\":{\"text\":\"polarity1\"}},\"legend\":{\"tracegroupgap\":0},\"title\":{\"text\":\"TextBlob polarity\"}},                        {\"responsive\": true}                    ).then(function(){\n",
       "                            \n",
       "var gd = document.getElementById('017498e2-bd20-453b-9622-b96cac476f5e');\n",
       "var x = new MutationObserver(function (mutations, observer) {{\n",
       "        var display = window.getComputedStyle(gd).display;\n",
       "        if (!display || display === 'none') {{\n",
       "            console.log([gd, 'removed!']);\n",
       "            Plotly.purge(gd);\n",
       "            observer.disconnect();\n",
       "        }}\n",
       "}});\n",
       "\n",
       "// Listen for the removal of the full notebook cells\n",
       "var notebookContainer = gd.closest('#notebook-container');\n",
       "if (notebookContainer) {{\n",
       "    x.observe(notebookContainer, {childList: true});\n",
       "}}\n",
       "\n",
       "// Listen for the clearing of the current output cell\n",
       "var outputEl = gd.closest('.output');\n",
       "if (outputEl) {{\n",
       "    x.observe(outputEl, {childList: true});\n",
       "}}\n",
       "\n",
       "                        })                };                });            </script>        </div>"
      ]
     },
     "metadata": {},
     "output_type": "display_data"
    }
   ],
   "source": [
    "fig = px.line(speeches, x=speeches.index, y=\"polarity1\",\n",
    "             title='TextBlob polarity')\n",
    "fig.show()"
   ]
  },
  {
   "cell_type": "code",
   "execution_count": 60,
   "id": "c8876a82",
   "metadata": {},
   "outputs": [
    {
     "data": {
      "text/plain": [
       "polarity0    0.75\n",
       "polarity1    0.80\n",
       "polarity2    1.00\n",
       "dtype: float64"
      ]
     },
     "execution_count": 60,
     "metadata": {},
     "output_type": "execute_result"
    }
   ],
   "source": []
  },
  {
   "cell_type": "code",
   "execution_count": 85,
   "id": "19443816",
   "metadata": {},
   "outputs": [
    {
     "name": "stderr",
     "output_type": "stream",
     "text": [
      "/tmp/ipykernel_5864/1593368253.py:17: PerformanceWarning:\n",
      "\n",
      "DataFrame is highly fragmented.  This is usually the result of calling `frame.insert` many times, which has poor performance.  Consider joining all columns at once using pd.concat(axis=1) instead. To get a de-fragmented frame, use `newframe = frame.copy()`\n",
      "\n",
      "/tmp/ipykernel_5864/1593368253.py:17: PerformanceWarning:\n",
      "\n",
      "DataFrame is highly fragmented.  This is usually the result of calling `frame.insert` many times, which has poor performance.  Consider joining all columns at once using pd.concat(axis=1) instead. To get a de-fragmented frame, use `newframe = frame.copy()`\n",
      "\n",
      "/tmp/ipykernel_5864/1593368253.py:17: PerformanceWarning:\n",
      "\n",
      "DataFrame is highly fragmented.  This is usually the result of calling `frame.insert` many times, which has poor performance.  Consider joining all columns at once using pd.concat(axis=1) instead. To get a de-fragmented frame, use `newframe = frame.copy()`\n",
      "\n",
      "/tmp/ipykernel_5864/1593368253.py:17: PerformanceWarning:\n",
      "\n",
      "DataFrame is highly fragmented.  This is usually the result of calling `frame.insert` many times, which has poor performance.  Consider joining all columns at once using pd.concat(axis=1) instead. To get a de-fragmented frame, use `newframe = frame.copy()`\n",
      "\n",
      "/tmp/ipykernel_5864/1593368253.py:17: PerformanceWarning:\n",
      "\n",
      "DataFrame is highly fragmented.  This is usually the result of calling `frame.insert` many times, which has poor performance.  Consider joining all columns at once using pd.concat(axis=1) instead. To get a de-fragmented frame, use `newframe = frame.copy()`\n",
      "\n",
      "/tmp/ipykernel_5864/1593368253.py:17: PerformanceWarning:\n",
      "\n",
      "DataFrame is highly fragmented.  This is usually the result of calling `frame.insert` many times, which has poor performance.  Consider joining all columns at once using pd.concat(axis=1) instead. To get a de-fragmented frame, use `newframe = frame.copy()`\n",
      "\n",
      "/tmp/ipykernel_5864/1593368253.py:17: PerformanceWarning:\n",
      "\n",
      "DataFrame is highly fragmented.  This is usually the result of calling `frame.insert` many times, which has poor performance.  Consider joining all columns at once using pd.concat(axis=1) instead. To get a de-fragmented frame, use `newframe = frame.copy()`\n",
      "\n",
      "/tmp/ipykernel_5864/1593368253.py:17: PerformanceWarning:\n",
      "\n",
      "DataFrame is highly fragmented.  This is usually the result of calling `frame.insert` many times, which has poor performance.  Consider joining all columns at once using pd.concat(axis=1) instead. To get a de-fragmented frame, use `newframe = frame.copy()`\n",
      "\n",
      "/tmp/ipykernel_5864/1593368253.py:17: PerformanceWarning:\n",
      "\n",
      "DataFrame is highly fragmented.  This is usually the result of calling `frame.insert` many times, which has poor performance.  Consider joining all columns at once using pd.concat(axis=1) instead. To get a de-fragmented frame, use `newframe = frame.copy()`\n",
      "\n",
      "/tmp/ipykernel_5864/1593368253.py:17: PerformanceWarning:\n",
      "\n",
      "DataFrame is highly fragmented.  This is usually the result of calling `frame.insert` many times, which has poor performance.  Consider joining all columns at once using pd.concat(axis=1) instead. To get a de-fragmented frame, use `newframe = frame.copy()`\n",
      "\n",
      "/tmp/ipykernel_5864/1593368253.py:17: PerformanceWarning:\n",
      "\n",
      "DataFrame is highly fragmented.  This is usually the result of calling `frame.insert` many times, which has poor performance.  Consider joining all columns at once using pd.concat(axis=1) instead. To get a de-fragmented frame, use `newframe = frame.copy()`\n",
      "\n",
      "/tmp/ipykernel_5864/1593368253.py:17: PerformanceWarning:\n",
      "\n",
      "DataFrame is highly fragmented.  This is usually the result of calling `frame.insert` many times, which has poor performance.  Consider joining all columns at once using pd.concat(axis=1) instead. To get a de-fragmented frame, use `newframe = frame.copy()`\n",
      "\n",
      "/tmp/ipykernel_5864/1593368253.py:17: PerformanceWarning:\n",
      "\n",
      "DataFrame is highly fragmented.  This is usually the result of calling `frame.insert` many times, which has poor performance.  Consider joining all columns at once using pd.concat(axis=1) instead. To get a de-fragmented frame, use `newframe = frame.copy()`\n",
      "\n",
      "/tmp/ipykernel_5864/1593368253.py:17: PerformanceWarning:\n",
      "\n",
      "DataFrame is highly fragmented.  This is usually the result of calling `frame.insert` many times, which has poor performance.  Consider joining all columns at once using pd.concat(axis=1) instead. To get a de-fragmented frame, use `newframe = frame.copy()`\n",
      "\n",
      "/tmp/ipykernel_5864/1593368253.py:17: PerformanceWarning:\n",
      "\n",
      "DataFrame is highly fragmented.  This is usually the result of calling `frame.insert` many times, which has poor performance.  Consider joining all columns at once using pd.concat(axis=1) instead. To get a de-fragmented frame, use `newframe = frame.copy()`\n",
      "\n",
      "/tmp/ipykernel_5864/1593368253.py:17: PerformanceWarning:\n",
      "\n",
      "DataFrame is highly fragmented.  This is usually the result of calling `frame.insert` many times, which has poor performance.  Consider joining all columns at once using pd.concat(axis=1) instead. To get a de-fragmented frame, use `newframe = frame.copy()`\n",
      "\n",
      "/tmp/ipykernel_5864/1593368253.py:17: PerformanceWarning:\n",
      "\n",
      "DataFrame is highly fragmented.  This is usually the result of calling `frame.insert` many times, which has poor performance.  Consider joining all columns at once using pd.concat(axis=1) instead. To get a de-fragmented frame, use `newframe = frame.copy()`\n",
      "\n",
      "/tmp/ipykernel_5864/1593368253.py:17: PerformanceWarning:\n",
      "\n",
      "DataFrame is highly fragmented.  This is usually the result of calling `frame.insert` many times, which has poor performance.  Consider joining all columns at once using pd.concat(axis=1) instead. To get a de-fragmented frame, use `newframe = frame.copy()`\n",
      "\n",
      "/tmp/ipykernel_5864/1593368253.py:17: PerformanceWarning:\n",
      "\n",
      "DataFrame is highly fragmented.  This is usually the result of calling `frame.insert` many times, which has poor performance.  Consider joining all columns at once using pd.concat(axis=1) instead. To get a de-fragmented frame, use `newframe = frame.copy()`\n",
      "\n",
      "/tmp/ipykernel_5864/1593368253.py:17: PerformanceWarning:\n",
      "\n",
      "DataFrame is highly fragmented.  This is usually the result of calling `frame.insert` many times, which has poor performance.  Consider joining all columns at once using pd.concat(axis=1) instead. To get a de-fragmented frame, use `newframe = frame.copy()`\n",
      "\n",
      "/tmp/ipykernel_5864/1593368253.py:17: PerformanceWarning:\n",
      "\n",
      "DataFrame is highly fragmented.  This is usually the result of calling `frame.insert` many times, which has poor performance.  Consider joining all columns at once using pd.concat(axis=1) instead. To get a de-fragmented frame, use `newframe = frame.copy()`\n",
      "\n",
      "/tmp/ipykernel_5864/1593368253.py:17: PerformanceWarning:\n",
      "\n",
      "DataFrame is highly fragmented.  This is usually the result of calling `frame.insert` many times, which has poor performance.  Consider joining all columns at once using pd.concat(axis=1) instead. To get a de-fragmented frame, use `newframe = frame.copy()`\n",
      "\n",
      "/tmp/ipykernel_5864/1593368253.py:17: PerformanceWarning:\n",
      "\n",
      "DataFrame is highly fragmented.  This is usually the result of calling `frame.insert` many times, which has poor performance.  Consider joining all columns at once using pd.concat(axis=1) instead. To get a de-fragmented frame, use `newframe = frame.copy()`\n",
      "\n",
      "/tmp/ipykernel_5864/1593368253.py:17: PerformanceWarning:\n",
      "\n",
      "DataFrame is highly fragmented.  This is usually the result of calling `frame.insert` many times, which has poor performance.  Consider joining all columns at once using pd.concat(axis=1) instead. To get a de-fragmented frame, use `newframe = frame.copy()`\n",
      "\n",
      "/tmp/ipykernel_5864/1593368253.py:17: PerformanceWarning:\n",
      "\n",
      "DataFrame is highly fragmented.  This is usually the result of calling `frame.insert` many times, which has poor performance.  Consider joining all columns at once using pd.concat(axis=1) instead. To get a de-fragmented frame, use `newframe = frame.copy()`\n",
      "\n",
      "/tmp/ipykernel_5864/1593368253.py:17: PerformanceWarning:\n",
      "\n",
      "DataFrame is highly fragmented.  This is usually the result of calling `frame.insert` many times, which has poor performance.  Consider joining all columns at once using pd.concat(axis=1) instead. To get a de-fragmented frame, use `newframe = frame.copy()`\n",
      "\n",
      "/tmp/ipykernel_5864/1593368253.py:17: PerformanceWarning:\n",
      "\n",
      "DataFrame is highly fragmented.  This is usually the result of calling `frame.insert` many times, which has poor performance.  Consider joining all columns at once using pd.concat(axis=1) instead. To get a de-fragmented frame, use `newframe = frame.copy()`\n",
      "\n",
      "/tmp/ipykernel_5864/1593368253.py:17: PerformanceWarning:\n",
      "\n",
      "DataFrame is highly fragmented.  This is usually the result of calling `frame.insert` many times, which has poor performance.  Consider joining all columns at once using pd.concat(axis=1) instead. To get a de-fragmented frame, use `newframe = frame.copy()`\n",
      "\n",
      "/tmp/ipykernel_5864/1593368253.py:17: PerformanceWarning:\n",
      "\n",
      "DataFrame is highly fragmented.  This is usually the result of calling `frame.insert` many times, which has poor performance.  Consider joining all columns at once using pd.concat(axis=1) instead. To get a de-fragmented frame, use `newframe = frame.copy()`\n",
      "\n",
      "/tmp/ipykernel_5864/1593368253.py:17: PerformanceWarning:\n",
      "\n",
      "DataFrame is highly fragmented.  This is usually the result of calling `frame.insert` many times, which has poor performance.  Consider joining all columns at once using pd.concat(axis=1) instead. To get a de-fragmented frame, use `newframe = frame.copy()`\n",
      "\n",
      "/tmp/ipykernel_5864/1593368253.py:17: PerformanceWarning:\n",
      "\n",
      "DataFrame is highly fragmented.  This is usually the result of calling `frame.insert` many times, which has poor performance.  Consider joining all columns at once using pd.concat(axis=1) instead. To get a de-fragmented frame, use `newframe = frame.copy()`\n",
      "\n",
      "/tmp/ipykernel_5864/1593368253.py:17: PerformanceWarning:\n",
      "\n",
      "DataFrame is highly fragmented.  This is usually the result of calling `frame.insert` many times, which has poor performance.  Consider joining all columns at once using pd.concat(axis=1) instead. To get a de-fragmented frame, use `newframe = frame.copy()`\n",
      "\n",
      "/tmp/ipykernel_5864/1593368253.py:17: PerformanceWarning:\n",
      "\n",
      "DataFrame is highly fragmented.  This is usually the result of calling `frame.insert` many times, which has poor performance.  Consider joining all columns at once using pd.concat(axis=1) instead. To get a de-fragmented frame, use `newframe = frame.copy()`\n",
      "\n"
     ]
    },
    {
     "name": "stderr",
     "output_type": "stream",
     "text": [
      "/tmp/ipykernel_5864/1593368253.py:17: PerformanceWarning:\n",
      "\n",
      "DataFrame is highly fragmented.  This is usually the result of calling `frame.insert` many times, which has poor performance.  Consider joining all columns at once using pd.concat(axis=1) instead. To get a de-fragmented frame, use `newframe = frame.copy()`\n",
      "\n",
      "/tmp/ipykernel_5864/1593368253.py:17: PerformanceWarning:\n",
      "\n",
      "DataFrame is highly fragmented.  This is usually the result of calling `frame.insert` many times, which has poor performance.  Consider joining all columns at once using pd.concat(axis=1) instead. To get a de-fragmented frame, use `newframe = frame.copy()`\n",
      "\n",
      "/tmp/ipykernel_5864/1593368253.py:17: PerformanceWarning:\n",
      "\n",
      "DataFrame is highly fragmented.  This is usually the result of calling `frame.insert` many times, which has poor performance.  Consider joining all columns at once using pd.concat(axis=1) instead. To get a de-fragmented frame, use `newframe = frame.copy()`\n",
      "\n",
      "/tmp/ipykernel_5864/1593368253.py:17: PerformanceWarning:\n",
      "\n",
      "DataFrame is highly fragmented.  This is usually the result of calling `frame.insert` many times, which has poor performance.  Consider joining all columns at once using pd.concat(axis=1) instead. To get a de-fragmented frame, use `newframe = frame.copy()`\n",
      "\n",
      "/tmp/ipykernel_5864/1593368253.py:17: PerformanceWarning:\n",
      "\n",
      "DataFrame is highly fragmented.  This is usually the result of calling `frame.insert` many times, which has poor performance.  Consider joining all columns at once using pd.concat(axis=1) instead. To get a de-fragmented frame, use `newframe = frame.copy()`\n",
      "\n",
      "/tmp/ipykernel_5864/1593368253.py:17: PerformanceWarning:\n",
      "\n",
      "DataFrame is highly fragmented.  This is usually the result of calling `frame.insert` many times, which has poor performance.  Consider joining all columns at once using pd.concat(axis=1) instead. To get a de-fragmented frame, use `newframe = frame.copy()`\n",
      "\n",
      "/tmp/ipykernel_5864/1593368253.py:17: PerformanceWarning:\n",
      "\n",
      "DataFrame is highly fragmented.  This is usually the result of calling `frame.insert` many times, which has poor performance.  Consider joining all columns at once using pd.concat(axis=1) instead. To get a de-fragmented frame, use `newframe = frame.copy()`\n",
      "\n",
      "/tmp/ipykernel_5864/1593368253.py:17: PerformanceWarning:\n",
      "\n",
      "DataFrame is highly fragmented.  This is usually the result of calling `frame.insert` many times, which has poor performance.  Consider joining all columns at once using pd.concat(axis=1) instead. To get a de-fragmented frame, use `newframe = frame.copy()`\n",
      "\n",
      "/tmp/ipykernel_5864/1593368253.py:17: PerformanceWarning:\n",
      "\n",
      "DataFrame is highly fragmented.  This is usually the result of calling `frame.insert` many times, which has poor performance.  Consider joining all columns at once using pd.concat(axis=1) instead. To get a de-fragmented frame, use `newframe = frame.copy()`\n",
      "\n",
      "/tmp/ipykernel_5864/1593368253.py:17: PerformanceWarning:\n",
      "\n",
      "DataFrame is highly fragmented.  This is usually the result of calling `frame.insert` many times, which has poor performance.  Consider joining all columns at once using pd.concat(axis=1) instead. To get a de-fragmented frame, use `newframe = frame.copy()`\n",
      "\n",
      "/tmp/ipykernel_5864/1593368253.py:17: PerformanceWarning:\n",
      "\n",
      "DataFrame is highly fragmented.  This is usually the result of calling `frame.insert` many times, which has poor performance.  Consider joining all columns at once using pd.concat(axis=1) instead. To get a de-fragmented frame, use `newframe = frame.copy()`\n",
      "\n",
      "/tmp/ipykernel_5864/1593368253.py:17: PerformanceWarning:\n",
      "\n",
      "DataFrame is highly fragmented.  This is usually the result of calling `frame.insert` many times, which has poor performance.  Consider joining all columns at once using pd.concat(axis=1) instead. To get a de-fragmented frame, use `newframe = frame.copy()`\n",
      "\n",
      "/tmp/ipykernel_5864/1593368253.py:17: PerformanceWarning:\n",
      "\n",
      "DataFrame is highly fragmented.  This is usually the result of calling `frame.insert` many times, which has poor performance.  Consider joining all columns at once using pd.concat(axis=1) instead. To get a de-fragmented frame, use `newframe = frame.copy()`\n",
      "\n",
      "/tmp/ipykernel_5864/1593368253.py:17: PerformanceWarning:\n",
      "\n",
      "DataFrame is highly fragmented.  This is usually the result of calling `frame.insert` many times, which has poor performance.  Consider joining all columns at once using pd.concat(axis=1) instead. To get a de-fragmented frame, use `newframe = frame.copy()`\n",
      "\n",
      "/tmp/ipykernel_5864/1593368253.py:17: PerformanceWarning:\n",
      "\n",
      "DataFrame is highly fragmented.  This is usually the result of calling `frame.insert` many times, which has poor performance.  Consider joining all columns at once using pd.concat(axis=1) instead. To get a de-fragmented frame, use `newframe = frame.copy()`\n",
      "\n",
      "/tmp/ipykernel_5864/1593368253.py:17: PerformanceWarning:\n",
      "\n",
      "DataFrame is highly fragmented.  This is usually the result of calling `frame.insert` many times, which has poor performance.  Consider joining all columns at once using pd.concat(axis=1) instead. To get a de-fragmented frame, use `newframe = frame.copy()`\n",
      "\n",
      "/tmp/ipykernel_5864/1593368253.py:17: PerformanceWarning:\n",
      "\n",
      "DataFrame is highly fragmented.  This is usually the result of calling `frame.insert` many times, which has poor performance.  Consider joining all columns at once using pd.concat(axis=1) instead. To get a de-fragmented frame, use `newframe = frame.copy()`\n",
      "\n",
      "/tmp/ipykernel_5864/1593368253.py:17: PerformanceWarning:\n",
      "\n",
      "DataFrame is highly fragmented.  This is usually the result of calling `frame.insert` many times, which has poor performance.  Consider joining all columns at once using pd.concat(axis=1) instead. To get a de-fragmented frame, use `newframe = frame.copy()`\n",
      "\n",
      "/tmp/ipykernel_5864/1593368253.py:17: PerformanceWarning:\n",
      "\n",
      "DataFrame is highly fragmented.  This is usually the result of calling `frame.insert` many times, which has poor performance.  Consider joining all columns at once using pd.concat(axis=1) instead. To get a de-fragmented frame, use `newframe = frame.copy()`\n",
      "\n",
      "/tmp/ipykernel_5864/1593368253.py:17: PerformanceWarning:\n",
      "\n",
      "DataFrame is highly fragmented.  This is usually the result of calling `frame.insert` many times, which has poor performance.  Consider joining all columns at once using pd.concat(axis=1) instead. To get a de-fragmented frame, use `newframe = frame.copy()`\n",
      "\n",
      "/tmp/ipykernel_5864/1593368253.py:17: PerformanceWarning:\n",
      "\n",
      "DataFrame is highly fragmented.  This is usually the result of calling `frame.insert` many times, which has poor performance.  Consider joining all columns at once using pd.concat(axis=1) instead. To get a de-fragmented frame, use `newframe = frame.copy()`\n",
      "\n",
      "/tmp/ipykernel_5864/1593368253.py:17: PerformanceWarning:\n",
      "\n",
      "DataFrame is highly fragmented.  This is usually the result of calling `frame.insert` many times, which has poor performance.  Consider joining all columns at once using pd.concat(axis=1) instead. To get a de-fragmented frame, use `newframe = frame.copy()`\n",
      "\n",
      "/tmp/ipykernel_5864/1593368253.py:17: PerformanceWarning:\n",
      "\n",
      "DataFrame is highly fragmented.  This is usually the result of calling `frame.insert` many times, which has poor performance.  Consider joining all columns at once using pd.concat(axis=1) instead. To get a de-fragmented frame, use `newframe = frame.copy()`\n",
      "\n",
      "/tmp/ipykernel_5864/1593368253.py:17: PerformanceWarning:\n",
      "\n",
      "DataFrame is highly fragmented.  This is usually the result of calling `frame.insert` many times, which has poor performance.  Consider joining all columns at once using pd.concat(axis=1) instead. To get a de-fragmented frame, use `newframe = frame.copy()`\n",
      "\n",
      "/tmp/ipykernel_5864/1593368253.py:17: PerformanceWarning:\n",
      "\n",
      "DataFrame is highly fragmented.  This is usually the result of calling `frame.insert` many times, which has poor performance.  Consider joining all columns at once using pd.concat(axis=1) instead. To get a de-fragmented frame, use `newframe = frame.copy()`\n",
      "\n",
      "/tmp/ipykernel_5864/1593368253.py:17: PerformanceWarning:\n",
      "\n",
      "DataFrame is highly fragmented.  This is usually the result of calling `frame.insert` many times, which has poor performance.  Consider joining all columns at once using pd.concat(axis=1) instead. To get a de-fragmented frame, use `newframe = frame.copy()`\n",
      "\n",
      "/tmp/ipykernel_5864/1593368253.py:17: PerformanceWarning:\n",
      "\n",
      "DataFrame is highly fragmented.  This is usually the result of calling `frame.insert` many times, which has poor performance.  Consider joining all columns at once using pd.concat(axis=1) instead. To get a de-fragmented frame, use `newframe = frame.copy()`\n",
      "\n",
      "/tmp/ipykernel_5864/1593368253.py:17: PerformanceWarning:\n",
      "\n",
      "DataFrame is highly fragmented.  This is usually the result of calling `frame.insert` many times, which has poor performance.  Consider joining all columns at once using pd.concat(axis=1) instead. To get a de-fragmented frame, use `newframe = frame.copy()`\n",
      "\n",
      "/tmp/ipykernel_5864/1593368253.py:17: PerformanceWarning:\n",
      "\n",
      "DataFrame is highly fragmented.  This is usually the result of calling `frame.insert` many times, which has poor performance.  Consider joining all columns at once using pd.concat(axis=1) instead. To get a de-fragmented frame, use `newframe = frame.copy()`\n",
      "\n",
      "/tmp/ipykernel_5864/1593368253.py:17: PerformanceWarning:\n",
      "\n",
      "DataFrame is highly fragmented.  This is usually the result of calling `frame.insert` many times, which has poor performance.  Consider joining all columns at once using pd.concat(axis=1) instead. To get a de-fragmented frame, use `newframe = frame.copy()`\n",
      "\n",
      "/tmp/ipykernel_5864/1593368253.py:17: PerformanceWarning:\n",
      "\n",
      "DataFrame is highly fragmented.  This is usually the result of calling `frame.insert` many times, which has poor performance.  Consider joining all columns at once using pd.concat(axis=1) instead. To get a de-fragmented frame, use `newframe = frame.copy()`\n",
      "\n"
     ]
    },
    {
     "name": "stderr",
     "output_type": "stream",
     "text": [
      "/tmp/ipykernel_5864/1593368253.py:17: PerformanceWarning:\n",
      "\n",
      "DataFrame is highly fragmented.  This is usually the result of calling `frame.insert` many times, which has poor performance.  Consider joining all columns at once using pd.concat(axis=1) instead. To get a de-fragmented frame, use `newframe = frame.copy()`\n",
      "\n",
      "/tmp/ipykernel_5864/1593368253.py:17: PerformanceWarning:\n",
      "\n",
      "DataFrame is highly fragmented.  This is usually the result of calling `frame.insert` many times, which has poor performance.  Consider joining all columns at once using pd.concat(axis=1) instead. To get a de-fragmented frame, use `newframe = frame.copy()`\n",
      "\n",
      "/tmp/ipykernel_5864/1593368253.py:17: PerformanceWarning:\n",
      "\n",
      "DataFrame is highly fragmented.  This is usually the result of calling `frame.insert` many times, which has poor performance.  Consider joining all columns at once using pd.concat(axis=1) instead. To get a de-fragmented frame, use `newframe = frame.copy()`\n",
      "\n",
      "/tmp/ipykernel_5864/1593368253.py:17: PerformanceWarning:\n",
      "\n",
      "DataFrame is highly fragmented.  This is usually the result of calling `frame.insert` many times, which has poor performance.  Consider joining all columns at once using pd.concat(axis=1) instead. To get a de-fragmented frame, use `newframe = frame.copy()`\n",
      "\n",
      "/tmp/ipykernel_5864/1593368253.py:17: PerformanceWarning:\n",
      "\n",
      "DataFrame is highly fragmented.  This is usually the result of calling `frame.insert` many times, which has poor performance.  Consider joining all columns at once using pd.concat(axis=1) instead. To get a de-fragmented frame, use `newframe = frame.copy()`\n",
      "\n",
      "/tmp/ipykernel_5864/1593368253.py:17: PerformanceWarning:\n",
      "\n",
      "DataFrame is highly fragmented.  This is usually the result of calling `frame.insert` many times, which has poor performance.  Consider joining all columns at once using pd.concat(axis=1) instead. To get a de-fragmented frame, use `newframe = frame.copy()`\n",
      "\n",
      "/tmp/ipykernel_5864/1593368253.py:17: PerformanceWarning:\n",
      "\n",
      "DataFrame is highly fragmented.  This is usually the result of calling `frame.insert` many times, which has poor performance.  Consider joining all columns at once using pd.concat(axis=1) instead. To get a de-fragmented frame, use `newframe = frame.copy()`\n",
      "\n",
      "/tmp/ipykernel_5864/1593368253.py:17: PerformanceWarning:\n",
      "\n",
      "DataFrame is highly fragmented.  This is usually the result of calling `frame.insert` many times, which has poor performance.  Consider joining all columns at once using pd.concat(axis=1) instead. To get a de-fragmented frame, use `newframe = frame.copy()`\n",
      "\n",
      "/tmp/ipykernel_5864/1593368253.py:17: PerformanceWarning:\n",
      "\n",
      "DataFrame is highly fragmented.  This is usually the result of calling `frame.insert` many times, which has poor performance.  Consider joining all columns at once using pd.concat(axis=1) instead. To get a de-fragmented frame, use `newframe = frame.copy()`\n",
      "\n",
      "/tmp/ipykernel_5864/1593368253.py:17: PerformanceWarning:\n",
      "\n",
      "DataFrame is highly fragmented.  This is usually the result of calling `frame.insert` many times, which has poor performance.  Consider joining all columns at once using pd.concat(axis=1) instead. To get a de-fragmented frame, use `newframe = frame.copy()`\n",
      "\n",
      "/tmp/ipykernel_5864/1593368253.py:17: PerformanceWarning:\n",
      "\n",
      "DataFrame is highly fragmented.  This is usually the result of calling `frame.insert` many times, which has poor performance.  Consider joining all columns at once using pd.concat(axis=1) instead. To get a de-fragmented frame, use `newframe = frame.copy()`\n",
      "\n",
      "/tmp/ipykernel_5864/1593368253.py:17: PerformanceWarning:\n",
      "\n",
      "DataFrame is highly fragmented.  This is usually the result of calling `frame.insert` many times, which has poor performance.  Consider joining all columns at once using pd.concat(axis=1) instead. To get a de-fragmented frame, use `newframe = frame.copy()`\n",
      "\n",
      "/tmp/ipykernel_5864/1593368253.py:17: PerformanceWarning:\n",
      "\n",
      "DataFrame is highly fragmented.  This is usually the result of calling `frame.insert` many times, which has poor performance.  Consider joining all columns at once using pd.concat(axis=1) instead. To get a de-fragmented frame, use `newframe = frame.copy()`\n",
      "\n",
      "/tmp/ipykernel_5864/1593368253.py:17: PerformanceWarning:\n",
      "\n",
      "DataFrame is highly fragmented.  This is usually the result of calling `frame.insert` many times, which has poor performance.  Consider joining all columns at once using pd.concat(axis=1) instead. To get a de-fragmented frame, use `newframe = frame.copy()`\n",
      "\n",
      "/tmp/ipykernel_5864/1593368253.py:17: PerformanceWarning:\n",
      "\n",
      "DataFrame is highly fragmented.  This is usually the result of calling `frame.insert` many times, which has poor performance.  Consider joining all columns at once using pd.concat(axis=1) instead. To get a de-fragmented frame, use `newframe = frame.copy()`\n",
      "\n",
      "/tmp/ipykernel_5864/1593368253.py:17: PerformanceWarning:\n",
      "\n",
      "DataFrame is highly fragmented.  This is usually the result of calling `frame.insert` many times, which has poor performance.  Consider joining all columns at once using pd.concat(axis=1) instead. To get a de-fragmented frame, use `newframe = frame.copy()`\n",
      "\n",
      "/tmp/ipykernel_5864/1593368253.py:17: PerformanceWarning:\n",
      "\n",
      "DataFrame is highly fragmented.  This is usually the result of calling `frame.insert` many times, which has poor performance.  Consider joining all columns at once using pd.concat(axis=1) instead. To get a de-fragmented frame, use `newframe = frame.copy()`\n",
      "\n",
      "/tmp/ipykernel_5864/1593368253.py:17: PerformanceWarning:\n",
      "\n",
      "DataFrame is highly fragmented.  This is usually the result of calling `frame.insert` many times, which has poor performance.  Consider joining all columns at once using pd.concat(axis=1) instead. To get a de-fragmented frame, use `newframe = frame.copy()`\n",
      "\n",
      "/tmp/ipykernel_5864/1593368253.py:17: PerformanceWarning:\n",
      "\n",
      "DataFrame is highly fragmented.  This is usually the result of calling `frame.insert` many times, which has poor performance.  Consider joining all columns at once using pd.concat(axis=1) instead. To get a de-fragmented frame, use `newframe = frame.copy()`\n",
      "\n",
      "/tmp/ipykernel_5864/1593368253.py:17: PerformanceWarning:\n",
      "\n",
      "DataFrame is highly fragmented.  This is usually the result of calling `frame.insert` many times, which has poor performance.  Consider joining all columns at once using pd.concat(axis=1) instead. To get a de-fragmented frame, use `newframe = frame.copy()`\n",
      "\n",
      "/tmp/ipykernel_5864/1593368253.py:17: PerformanceWarning:\n",
      "\n",
      "DataFrame is highly fragmented.  This is usually the result of calling `frame.insert` many times, which has poor performance.  Consider joining all columns at once using pd.concat(axis=1) instead. To get a de-fragmented frame, use `newframe = frame.copy()`\n",
      "\n",
      "/tmp/ipykernel_5864/1593368253.py:17: PerformanceWarning:\n",
      "\n",
      "DataFrame is highly fragmented.  This is usually the result of calling `frame.insert` many times, which has poor performance.  Consider joining all columns at once using pd.concat(axis=1) instead. To get a de-fragmented frame, use `newframe = frame.copy()`\n",
      "\n",
      "/tmp/ipykernel_5864/1593368253.py:17: PerformanceWarning:\n",
      "\n",
      "DataFrame is highly fragmented.  This is usually the result of calling `frame.insert` many times, which has poor performance.  Consider joining all columns at once using pd.concat(axis=1) instead. To get a de-fragmented frame, use `newframe = frame.copy()`\n",
      "\n",
      "/tmp/ipykernel_5864/1593368253.py:17: PerformanceWarning:\n",
      "\n",
      "DataFrame is highly fragmented.  This is usually the result of calling `frame.insert` many times, which has poor performance.  Consider joining all columns at once using pd.concat(axis=1) instead. To get a de-fragmented frame, use `newframe = frame.copy()`\n",
      "\n",
      "/tmp/ipykernel_5864/1593368253.py:17: PerformanceWarning:\n",
      "\n",
      "DataFrame is highly fragmented.  This is usually the result of calling `frame.insert` many times, which has poor performance.  Consider joining all columns at once using pd.concat(axis=1) instead. To get a de-fragmented frame, use `newframe = frame.copy()`\n",
      "\n",
      "/tmp/ipykernel_5864/1593368253.py:17: PerformanceWarning:\n",
      "\n",
      "DataFrame is highly fragmented.  This is usually the result of calling `frame.insert` many times, which has poor performance.  Consider joining all columns at once using pd.concat(axis=1) instead. To get a de-fragmented frame, use `newframe = frame.copy()`\n",
      "\n",
      "/tmp/ipykernel_5864/1593368253.py:17: PerformanceWarning:\n",
      "\n",
      "DataFrame is highly fragmented.  This is usually the result of calling `frame.insert` many times, which has poor performance.  Consider joining all columns at once using pd.concat(axis=1) instead. To get a de-fragmented frame, use `newframe = frame.copy()`\n",
      "\n",
      "/tmp/ipykernel_5864/1593368253.py:17: PerformanceWarning:\n",
      "\n",
      "DataFrame is highly fragmented.  This is usually the result of calling `frame.insert` many times, which has poor performance.  Consider joining all columns at once using pd.concat(axis=1) instead. To get a de-fragmented frame, use `newframe = frame.copy()`\n",
      "\n",
      "/tmp/ipykernel_5864/1593368253.py:17: PerformanceWarning:\n",
      "\n",
      "DataFrame is highly fragmented.  This is usually the result of calling `frame.insert` many times, which has poor performance.  Consider joining all columns at once using pd.concat(axis=1) instead. To get a de-fragmented frame, use `newframe = frame.copy()`\n",
      "\n",
      "/tmp/ipykernel_5864/1593368253.py:17: PerformanceWarning:\n",
      "\n",
      "DataFrame is highly fragmented.  This is usually the result of calling `frame.insert` many times, which has poor performance.  Consider joining all columns at once using pd.concat(axis=1) instead. To get a de-fragmented frame, use `newframe = frame.copy()`\n",
      "\n",
      "/tmp/ipykernel_5864/1593368253.py:17: PerformanceWarning:\n",
      "\n",
      "DataFrame is highly fragmented.  This is usually the result of calling `frame.insert` many times, which has poor performance.  Consider joining all columns at once using pd.concat(axis=1) instead. To get a de-fragmented frame, use `newframe = frame.copy()`\n",
      "\n"
     ]
    },
    {
     "name": "stderr",
     "output_type": "stream",
     "text": [
      "/tmp/ipykernel_5864/1593368253.py:17: PerformanceWarning:\n",
      "\n",
      "DataFrame is highly fragmented.  This is usually the result of calling `frame.insert` many times, which has poor performance.  Consider joining all columns at once using pd.concat(axis=1) instead. To get a de-fragmented frame, use `newframe = frame.copy()`\n",
      "\n",
      "/tmp/ipykernel_5864/1593368253.py:17: PerformanceWarning:\n",
      "\n",
      "DataFrame is highly fragmented.  This is usually the result of calling `frame.insert` many times, which has poor performance.  Consider joining all columns at once using pd.concat(axis=1) instead. To get a de-fragmented frame, use `newframe = frame.copy()`\n",
      "\n",
      "/tmp/ipykernel_5864/1593368253.py:17: PerformanceWarning:\n",
      "\n",
      "DataFrame is highly fragmented.  This is usually the result of calling `frame.insert` many times, which has poor performance.  Consider joining all columns at once using pd.concat(axis=1) instead. To get a de-fragmented frame, use `newframe = frame.copy()`\n",
      "\n",
      "/tmp/ipykernel_5864/1593368253.py:17: PerformanceWarning:\n",
      "\n",
      "DataFrame is highly fragmented.  This is usually the result of calling `frame.insert` many times, which has poor performance.  Consider joining all columns at once using pd.concat(axis=1) instead. To get a de-fragmented frame, use `newframe = frame.copy()`\n",
      "\n",
      "/tmp/ipykernel_5864/1593368253.py:17: PerformanceWarning:\n",
      "\n",
      "DataFrame is highly fragmented.  This is usually the result of calling `frame.insert` many times, which has poor performance.  Consider joining all columns at once using pd.concat(axis=1) instead. To get a de-fragmented frame, use `newframe = frame.copy()`\n",
      "\n",
      "/tmp/ipykernel_5864/1593368253.py:17: PerformanceWarning:\n",
      "\n",
      "DataFrame is highly fragmented.  This is usually the result of calling `frame.insert` many times, which has poor performance.  Consider joining all columns at once using pd.concat(axis=1) instead. To get a de-fragmented frame, use `newframe = frame.copy()`\n",
      "\n",
      "/tmp/ipykernel_5864/1593368253.py:17: PerformanceWarning:\n",
      "\n",
      "DataFrame is highly fragmented.  This is usually the result of calling `frame.insert` many times, which has poor performance.  Consider joining all columns at once using pd.concat(axis=1) instead. To get a de-fragmented frame, use `newframe = frame.copy()`\n",
      "\n",
      "/tmp/ipykernel_5864/1593368253.py:17: PerformanceWarning:\n",
      "\n",
      "DataFrame is highly fragmented.  This is usually the result of calling `frame.insert` many times, which has poor performance.  Consider joining all columns at once using pd.concat(axis=1) instead. To get a de-fragmented frame, use `newframe = frame.copy()`\n",
      "\n",
      "/tmp/ipykernel_5864/1593368253.py:17: PerformanceWarning:\n",
      "\n",
      "DataFrame is highly fragmented.  This is usually the result of calling `frame.insert` many times, which has poor performance.  Consider joining all columns at once using pd.concat(axis=1) instead. To get a de-fragmented frame, use `newframe = frame.copy()`\n",
      "\n",
      "/tmp/ipykernel_5864/1593368253.py:17: PerformanceWarning:\n",
      "\n",
      "DataFrame is highly fragmented.  This is usually the result of calling `frame.insert` many times, which has poor performance.  Consider joining all columns at once using pd.concat(axis=1) instead. To get a de-fragmented frame, use `newframe = frame.copy()`\n",
      "\n",
      "/tmp/ipykernel_5864/1593368253.py:17: PerformanceWarning:\n",
      "\n",
      "DataFrame is highly fragmented.  This is usually the result of calling `frame.insert` many times, which has poor performance.  Consider joining all columns at once using pd.concat(axis=1) instead. To get a de-fragmented frame, use `newframe = frame.copy()`\n",
      "\n",
      "/tmp/ipykernel_5864/1593368253.py:17: PerformanceWarning:\n",
      "\n",
      "DataFrame is highly fragmented.  This is usually the result of calling `frame.insert` many times, which has poor performance.  Consider joining all columns at once using pd.concat(axis=1) instead. To get a de-fragmented frame, use `newframe = frame.copy()`\n",
      "\n",
      "/tmp/ipykernel_5864/1593368253.py:17: PerformanceWarning:\n",
      "\n",
      "DataFrame is highly fragmented.  This is usually the result of calling `frame.insert` many times, which has poor performance.  Consider joining all columns at once using pd.concat(axis=1) instead. To get a de-fragmented frame, use `newframe = frame.copy()`\n",
      "\n",
      "/tmp/ipykernel_5864/1593368253.py:17: PerformanceWarning:\n",
      "\n",
      "DataFrame is highly fragmented.  This is usually the result of calling `frame.insert` many times, which has poor performance.  Consider joining all columns at once using pd.concat(axis=1) instead. To get a de-fragmented frame, use `newframe = frame.copy()`\n",
      "\n",
      "/tmp/ipykernel_5864/1593368253.py:17: PerformanceWarning:\n",
      "\n",
      "DataFrame is highly fragmented.  This is usually the result of calling `frame.insert` many times, which has poor performance.  Consider joining all columns at once using pd.concat(axis=1) instead. To get a de-fragmented frame, use `newframe = frame.copy()`\n",
      "\n",
      "/tmp/ipykernel_5864/1593368253.py:17: PerformanceWarning:\n",
      "\n",
      "DataFrame is highly fragmented.  This is usually the result of calling `frame.insert` many times, which has poor performance.  Consider joining all columns at once using pd.concat(axis=1) instead. To get a de-fragmented frame, use `newframe = frame.copy()`\n",
      "\n",
      "/tmp/ipykernel_5864/1593368253.py:17: PerformanceWarning:\n",
      "\n",
      "DataFrame is highly fragmented.  This is usually the result of calling `frame.insert` many times, which has poor performance.  Consider joining all columns at once using pd.concat(axis=1) instead. To get a de-fragmented frame, use `newframe = frame.copy()`\n",
      "\n",
      "/tmp/ipykernel_5864/1593368253.py:17: PerformanceWarning:\n",
      "\n",
      "DataFrame is highly fragmented.  This is usually the result of calling `frame.insert` many times, which has poor performance.  Consider joining all columns at once using pd.concat(axis=1) instead. To get a de-fragmented frame, use `newframe = frame.copy()`\n",
      "\n",
      "/tmp/ipykernel_5864/1593368253.py:17: PerformanceWarning:\n",
      "\n",
      "DataFrame is highly fragmented.  This is usually the result of calling `frame.insert` many times, which has poor performance.  Consider joining all columns at once using pd.concat(axis=1) instead. To get a de-fragmented frame, use `newframe = frame.copy()`\n",
      "\n",
      "/tmp/ipykernel_5864/1593368253.py:17: PerformanceWarning:\n",
      "\n",
      "DataFrame is highly fragmented.  This is usually the result of calling `frame.insert` many times, which has poor performance.  Consider joining all columns at once using pd.concat(axis=1) instead. To get a de-fragmented frame, use `newframe = frame.copy()`\n",
      "\n",
      "/tmp/ipykernel_5864/1593368253.py:17: PerformanceWarning:\n",
      "\n",
      "DataFrame is highly fragmented.  This is usually the result of calling `frame.insert` many times, which has poor performance.  Consider joining all columns at once using pd.concat(axis=1) instead. To get a de-fragmented frame, use `newframe = frame.copy()`\n",
      "\n",
      "/tmp/ipykernel_5864/1593368253.py:17: PerformanceWarning:\n",
      "\n",
      "DataFrame is highly fragmented.  This is usually the result of calling `frame.insert` many times, which has poor performance.  Consider joining all columns at once using pd.concat(axis=1) instead. To get a de-fragmented frame, use `newframe = frame.copy()`\n",
      "\n",
      "/tmp/ipykernel_5864/1593368253.py:17: PerformanceWarning:\n",
      "\n",
      "DataFrame is highly fragmented.  This is usually the result of calling `frame.insert` many times, which has poor performance.  Consider joining all columns at once using pd.concat(axis=1) instead. To get a de-fragmented frame, use `newframe = frame.copy()`\n",
      "\n",
      "/tmp/ipykernel_5864/1593368253.py:17: PerformanceWarning:\n",
      "\n",
      "DataFrame is highly fragmented.  This is usually the result of calling `frame.insert` many times, which has poor performance.  Consider joining all columns at once using pd.concat(axis=1) instead. To get a de-fragmented frame, use `newframe = frame.copy()`\n",
      "\n",
      "/tmp/ipykernel_5864/1593368253.py:17: PerformanceWarning:\n",
      "\n",
      "DataFrame is highly fragmented.  This is usually the result of calling `frame.insert` many times, which has poor performance.  Consider joining all columns at once using pd.concat(axis=1) instead. To get a de-fragmented frame, use `newframe = frame.copy()`\n",
      "\n",
      "/tmp/ipykernel_5864/1593368253.py:17: PerformanceWarning:\n",
      "\n",
      "DataFrame is highly fragmented.  This is usually the result of calling `frame.insert` many times, which has poor performance.  Consider joining all columns at once using pd.concat(axis=1) instead. To get a de-fragmented frame, use `newframe = frame.copy()`\n",
      "\n",
      "/tmp/ipykernel_5864/1593368253.py:17: PerformanceWarning:\n",
      "\n",
      "DataFrame is highly fragmented.  This is usually the result of calling `frame.insert` many times, which has poor performance.  Consider joining all columns at once using pd.concat(axis=1) instead. To get a de-fragmented frame, use `newframe = frame.copy()`\n",
      "\n",
      "/tmp/ipykernel_5864/1593368253.py:17: PerformanceWarning:\n",
      "\n",
      "DataFrame is highly fragmented.  This is usually the result of calling `frame.insert` many times, which has poor performance.  Consider joining all columns at once using pd.concat(axis=1) instead. To get a de-fragmented frame, use `newframe = frame.copy()`\n",
      "\n",
      "/tmp/ipykernel_5864/1593368253.py:17: PerformanceWarning:\n",
      "\n",
      "DataFrame is highly fragmented.  This is usually the result of calling `frame.insert` many times, which has poor performance.  Consider joining all columns at once using pd.concat(axis=1) instead. To get a de-fragmented frame, use `newframe = frame.copy()`\n",
      "\n",
      "/tmp/ipykernel_5864/1593368253.py:17: PerformanceWarning:\n",
      "\n",
      "DataFrame is highly fragmented.  This is usually the result of calling `frame.insert` many times, which has poor performance.  Consider joining all columns at once using pd.concat(axis=1) instead. To get a de-fragmented frame, use `newframe = frame.copy()`\n",
      "\n"
     ]
    },
    {
     "name": "stderr",
     "output_type": "stream",
     "text": [
      "/tmp/ipykernel_5864/1593368253.py:17: PerformanceWarning:\n",
      "\n",
      "DataFrame is highly fragmented.  This is usually the result of calling `frame.insert` many times, which has poor performance.  Consider joining all columns at once using pd.concat(axis=1) instead. To get a de-fragmented frame, use `newframe = frame.copy()`\n",
      "\n",
      "/tmp/ipykernel_5864/1593368253.py:17: PerformanceWarning:\n",
      "\n",
      "DataFrame is highly fragmented.  This is usually the result of calling `frame.insert` many times, which has poor performance.  Consider joining all columns at once using pd.concat(axis=1) instead. To get a de-fragmented frame, use `newframe = frame.copy()`\n",
      "\n",
      "/tmp/ipykernel_5864/1593368253.py:17: PerformanceWarning:\n",
      "\n",
      "DataFrame is highly fragmented.  This is usually the result of calling `frame.insert` many times, which has poor performance.  Consider joining all columns at once using pd.concat(axis=1) instead. To get a de-fragmented frame, use `newframe = frame.copy()`\n",
      "\n",
      "/tmp/ipykernel_5864/1593368253.py:17: PerformanceWarning:\n",
      "\n",
      "DataFrame is highly fragmented.  This is usually the result of calling `frame.insert` many times, which has poor performance.  Consider joining all columns at once using pd.concat(axis=1) instead. To get a de-fragmented frame, use `newframe = frame.copy()`\n",
      "\n",
      "/tmp/ipykernel_5864/1593368253.py:17: PerformanceWarning:\n",
      "\n",
      "DataFrame is highly fragmented.  This is usually the result of calling `frame.insert` many times, which has poor performance.  Consider joining all columns at once using pd.concat(axis=1) instead. To get a de-fragmented frame, use `newframe = frame.copy()`\n",
      "\n",
      "/tmp/ipykernel_5864/1593368253.py:17: PerformanceWarning:\n",
      "\n",
      "DataFrame is highly fragmented.  This is usually the result of calling `frame.insert` many times, which has poor performance.  Consider joining all columns at once using pd.concat(axis=1) instead. To get a de-fragmented frame, use `newframe = frame.copy()`\n",
      "\n",
      "/tmp/ipykernel_5864/1593368253.py:17: PerformanceWarning:\n",
      "\n",
      "DataFrame is highly fragmented.  This is usually the result of calling `frame.insert` many times, which has poor performance.  Consider joining all columns at once using pd.concat(axis=1) instead. To get a de-fragmented frame, use `newframe = frame.copy()`\n",
      "\n",
      "/tmp/ipykernel_5864/1593368253.py:17: PerformanceWarning:\n",
      "\n",
      "DataFrame is highly fragmented.  This is usually the result of calling `frame.insert` many times, which has poor performance.  Consider joining all columns at once using pd.concat(axis=1) instead. To get a de-fragmented frame, use `newframe = frame.copy()`\n",
      "\n",
      "/tmp/ipykernel_5864/1593368253.py:17: PerformanceWarning:\n",
      "\n",
      "DataFrame is highly fragmented.  This is usually the result of calling `frame.insert` many times, which has poor performance.  Consider joining all columns at once using pd.concat(axis=1) instead. To get a de-fragmented frame, use `newframe = frame.copy()`\n",
      "\n",
      "/tmp/ipykernel_5864/1593368253.py:17: PerformanceWarning:\n",
      "\n",
      "DataFrame is highly fragmented.  This is usually the result of calling `frame.insert` many times, which has poor performance.  Consider joining all columns at once using pd.concat(axis=1) instead. To get a de-fragmented frame, use `newframe = frame.copy()`\n",
      "\n",
      "/tmp/ipykernel_5864/1593368253.py:17: PerformanceWarning:\n",
      "\n",
      "DataFrame is highly fragmented.  This is usually the result of calling `frame.insert` many times, which has poor performance.  Consider joining all columns at once using pd.concat(axis=1) instead. To get a de-fragmented frame, use `newframe = frame.copy()`\n",
      "\n",
      "/tmp/ipykernel_5864/1593368253.py:17: PerformanceWarning:\n",
      "\n",
      "DataFrame is highly fragmented.  This is usually the result of calling `frame.insert` many times, which has poor performance.  Consider joining all columns at once using pd.concat(axis=1) instead. To get a de-fragmented frame, use `newframe = frame.copy()`\n",
      "\n",
      "/tmp/ipykernel_5864/1593368253.py:17: PerformanceWarning:\n",
      "\n",
      "DataFrame is highly fragmented.  This is usually the result of calling `frame.insert` many times, which has poor performance.  Consider joining all columns at once using pd.concat(axis=1) instead. To get a de-fragmented frame, use `newframe = frame.copy()`\n",
      "\n",
      "/tmp/ipykernel_5864/1593368253.py:17: PerformanceWarning:\n",
      "\n",
      "DataFrame is highly fragmented.  This is usually the result of calling `frame.insert` many times, which has poor performance.  Consider joining all columns at once using pd.concat(axis=1) instead. To get a de-fragmented frame, use `newframe = frame.copy()`\n",
      "\n",
      "/tmp/ipykernel_5864/1593368253.py:17: PerformanceWarning:\n",
      "\n",
      "DataFrame is highly fragmented.  This is usually the result of calling `frame.insert` many times, which has poor performance.  Consider joining all columns at once using pd.concat(axis=1) instead. To get a de-fragmented frame, use `newframe = frame.copy()`\n",
      "\n",
      "/tmp/ipykernel_5864/1593368253.py:17: PerformanceWarning:\n",
      "\n",
      "DataFrame is highly fragmented.  This is usually the result of calling `frame.insert` many times, which has poor performance.  Consider joining all columns at once using pd.concat(axis=1) instead. To get a de-fragmented frame, use `newframe = frame.copy()`\n",
      "\n",
      "/tmp/ipykernel_5864/1593368253.py:17: PerformanceWarning:\n",
      "\n",
      "DataFrame is highly fragmented.  This is usually the result of calling `frame.insert` many times, which has poor performance.  Consider joining all columns at once using pd.concat(axis=1) instead. To get a de-fragmented frame, use `newframe = frame.copy()`\n",
      "\n",
      "/tmp/ipykernel_5864/1593368253.py:17: PerformanceWarning:\n",
      "\n",
      "DataFrame is highly fragmented.  This is usually the result of calling `frame.insert` many times, which has poor performance.  Consider joining all columns at once using pd.concat(axis=1) instead. To get a de-fragmented frame, use `newframe = frame.copy()`\n",
      "\n",
      "/tmp/ipykernel_5864/1593368253.py:17: PerformanceWarning:\n",
      "\n",
      "DataFrame is highly fragmented.  This is usually the result of calling `frame.insert` many times, which has poor performance.  Consider joining all columns at once using pd.concat(axis=1) instead. To get a de-fragmented frame, use `newframe = frame.copy()`\n",
      "\n",
      "/tmp/ipykernel_5864/1593368253.py:17: PerformanceWarning:\n",
      "\n",
      "DataFrame is highly fragmented.  This is usually the result of calling `frame.insert` many times, which has poor performance.  Consider joining all columns at once using pd.concat(axis=1) instead. To get a de-fragmented frame, use `newframe = frame.copy()`\n",
      "\n",
      "/tmp/ipykernel_5864/1593368253.py:17: PerformanceWarning:\n",
      "\n",
      "DataFrame is highly fragmented.  This is usually the result of calling `frame.insert` many times, which has poor performance.  Consider joining all columns at once using pd.concat(axis=1) instead. To get a de-fragmented frame, use `newframe = frame.copy()`\n",
      "\n",
      "/tmp/ipykernel_5864/1593368253.py:17: PerformanceWarning:\n",
      "\n",
      "DataFrame is highly fragmented.  This is usually the result of calling `frame.insert` many times, which has poor performance.  Consider joining all columns at once using pd.concat(axis=1) instead. To get a de-fragmented frame, use `newframe = frame.copy()`\n",
      "\n",
      "/tmp/ipykernel_5864/1593368253.py:17: PerformanceWarning:\n",
      "\n",
      "DataFrame is highly fragmented.  This is usually the result of calling `frame.insert` many times, which has poor performance.  Consider joining all columns at once using pd.concat(axis=1) instead. To get a de-fragmented frame, use `newframe = frame.copy()`\n",
      "\n",
      "/tmp/ipykernel_5864/1593368253.py:17: PerformanceWarning:\n",
      "\n",
      "DataFrame is highly fragmented.  This is usually the result of calling `frame.insert` many times, which has poor performance.  Consider joining all columns at once using pd.concat(axis=1) instead. To get a de-fragmented frame, use `newframe = frame.copy()`\n",
      "\n",
      "/tmp/ipykernel_5864/1593368253.py:17: PerformanceWarning:\n",
      "\n",
      "DataFrame is highly fragmented.  This is usually the result of calling `frame.insert` many times, which has poor performance.  Consider joining all columns at once using pd.concat(axis=1) instead. To get a de-fragmented frame, use `newframe = frame.copy()`\n",
      "\n",
      "/tmp/ipykernel_5864/1593368253.py:17: PerformanceWarning:\n",
      "\n",
      "DataFrame is highly fragmented.  This is usually the result of calling `frame.insert` many times, which has poor performance.  Consider joining all columns at once using pd.concat(axis=1) instead. To get a de-fragmented frame, use `newframe = frame.copy()`\n",
      "\n",
      "/tmp/ipykernel_5864/1593368253.py:17: PerformanceWarning:\n",
      "\n",
      "DataFrame is highly fragmented.  This is usually the result of calling `frame.insert` many times, which has poor performance.  Consider joining all columns at once using pd.concat(axis=1) instead. To get a de-fragmented frame, use `newframe = frame.copy()`\n",
      "\n"
     ]
    },
    {
     "name": "stderr",
     "output_type": "stream",
     "text": [
      "/tmp/ipykernel_5864/1593368253.py:17: PerformanceWarning:\n",
      "\n",
      "DataFrame is highly fragmented.  This is usually the result of calling `frame.insert` many times, which has poor performance.  Consider joining all columns at once using pd.concat(axis=1) instead. To get a de-fragmented frame, use `newframe = frame.copy()`\n",
      "\n",
      "/tmp/ipykernel_5864/1593368253.py:17: PerformanceWarning:\n",
      "\n",
      "DataFrame is highly fragmented.  This is usually the result of calling `frame.insert` many times, which has poor performance.  Consider joining all columns at once using pd.concat(axis=1) instead. To get a de-fragmented frame, use `newframe = frame.copy()`\n",
      "\n",
      "/tmp/ipykernel_5864/1593368253.py:17: PerformanceWarning:\n",
      "\n",
      "DataFrame is highly fragmented.  This is usually the result of calling `frame.insert` many times, which has poor performance.  Consider joining all columns at once using pd.concat(axis=1) instead. To get a de-fragmented frame, use `newframe = frame.copy()`\n",
      "\n",
      "/tmp/ipykernel_5864/1593368253.py:17: PerformanceWarning:\n",
      "\n",
      "DataFrame is highly fragmented.  This is usually the result of calling `frame.insert` many times, which has poor performance.  Consider joining all columns at once using pd.concat(axis=1) instead. To get a de-fragmented frame, use `newframe = frame.copy()`\n",
      "\n",
      "/tmp/ipykernel_5864/1593368253.py:17: PerformanceWarning:\n",
      "\n",
      "DataFrame is highly fragmented.  This is usually the result of calling `frame.insert` many times, which has poor performance.  Consider joining all columns at once using pd.concat(axis=1) instead. To get a de-fragmented frame, use `newframe = frame.copy()`\n",
      "\n",
      "/tmp/ipykernel_5864/1593368253.py:17: PerformanceWarning:\n",
      "\n",
      "DataFrame is highly fragmented.  This is usually the result of calling `frame.insert` many times, which has poor performance.  Consider joining all columns at once using pd.concat(axis=1) instead. To get a de-fragmented frame, use `newframe = frame.copy()`\n",
      "\n",
      "/tmp/ipykernel_5864/1593368253.py:17: PerformanceWarning:\n",
      "\n",
      "DataFrame is highly fragmented.  This is usually the result of calling `frame.insert` many times, which has poor performance.  Consider joining all columns at once using pd.concat(axis=1) instead. To get a de-fragmented frame, use `newframe = frame.copy()`\n",
      "\n",
      "/tmp/ipykernel_5864/1593368253.py:17: PerformanceWarning:\n",
      "\n",
      "DataFrame is highly fragmented.  This is usually the result of calling `frame.insert` many times, which has poor performance.  Consider joining all columns at once using pd.concat(axis=1) instead. To get a de-fragmented frame, use `newframe = frame.copy()`\n",
      "\n",
      "/tmp/ipykernel_5864/1593368253.py:17: PerformanceWarning:\n",
      "\n",
      "DataFrame is highly fragmented.  This is usually the result of calling `frame.insert` many times, which has poor performance.  Consider joining all columns at once using pd.concat(axis=1) instead. To get a de-fragmented frame, use `newframe = frame.copy()`\n",
      "\n",
      "/tmp/ipykernel_5864/1593368253.py:17: PerformanceWarning:\n",
      "\n",
      "DataFrame is highly fragmented.  This is usually the result of calling `frame.insert` many times, which has poor performance.  Consider joining all columns at once using pd.concat(axis=1) instead. To get a de-fragmented frame, use `newframe = frame.copy()`\n",
      "\n",
      "/tmp/ipykernel_5864/1593368253.py:17: PerformanceWarning:\n",
      "\n",
      "DataFrame is highly fragmented.  This is usually the result of calling `frame.insert` many times, which has poor performance.  Consider joining all columns at once using pd.concat(axis=1) instead. To get a de-fragmented frame, use `newframe = frame.copy()`\n",
      "\n",
      "/tmp/ipykernel_5864/1593368253.py:17: PerformanceWarning:\n",
      "\n",
      "DataFrame is highly fragmented.  This is usually the result of calling `frame.insert` many times, which has poor performance.  Consider joining all columns at once using pd.concat(axis=1) instead. To get a de-fragmented frame, use `newframe = frame.copy()`\n",
      "\n",
      "/tmp/ipykernel_5864/1593368253.py:17: PerformanceWarning:\n",
      "\n",
      "DataFrame is highly fragmented.  This is usually the result of calling `frame.insert` many times, which has poor performance.  Consider joining all columns at once using pd.concat(axis=1) instead. To get a de-fragmented frame, use `newframe = frame.copy()`\n",
      "\n",
      "/tmp/ipykernel_5864/1593368253.py:17: PerformanceWarning:\n",
      "\n",
      "DataFrame is highly fragmented.  This is usually the result of calling `frame.insert` many times, which has poor performance.  Consider joining all columns at once using pd.concat(axis=1) instead. To get a de-fragmented frame, use `newframe = frame.copy()`\n",
      "\n",
      "/tmp/ipykernel_5864/1593368253.py:17: PerformanceWarning:\n",
      "\n",
      "DataFrame is highly fragmented.  This is usually the result of calling `frame.insert` many times, which has poor performance.  Consider joining all columns at once using pd.concat(axis=1) instead. To get a de-fragmented frame, use `newframe = frame.copy()`\n",
      "\n",
      "/tmp/ipykernel_5864/1593368253.py:17: PerformanceWarning:\n",
      "\n",
      "DataFrame is highly fragmented.  This is usually the result of calling `frame.insert` many times, which has poor performance.  Consider joining all columns at once using pd.concat(axis=1) instead. To get a de-fragmented frame, use `newframe = frame.copy()`\n",
      "\n",
      "/tmp/ipykernel_5864/1593368253.py:17: PerformanceWarning:\n",
      "\n",
      "DataFrame is highly fragmented.  This is usually the result of calling `frame.insert` many times, which has poor performance.  Consider joining all columns at once using pd.concat(axis=1) instead. To get a de-fragmented frame, use `newframe = frame.copy()`\n",
      "\n",
      "/tmp/ipykernel_5864/1593368253.py:17: PerformanceWarning:\n",
      "\n",
      "DataFrame is highly fragmented.  This is usually the result of calling `frame.insert` many times, which has poor performance.  Consider joining all columns at once using pd.concat(axis=1) instead. To get a de-fragmented frame, use `newframe = frame.copy()`\n",
      "\n",
      "/tmp/ipykernel_5864/1593368253.py:17: PerformanceWarning:\n",
      "\n",
      "DataFrame is highly fragmented.  This is usually the result of calling `frame.insert` many times, which has poor performance.  Consider joining all columns at once using pd.concat(axis=1) instead. To get a de-fragmented frame, use `newframe = frame.copy()`\n",
      "\n",
      "/tmp/ipykernel_5864/1593368253.py:17: PerformanceWarning:\n",
      "\n",
      "DataFrame is highly fragmented.  This is usually the result of calling `frame.insert` many times, which has poor performance.  Consider joining all columns at once using pd.concat(axis=1) instead. To get a de-fragmented frame, use `newframe = frame.copy()`\n",
      "\n",
      "/tmp/ipykernel_5864/1593368253.py:17: PerformanceWarning:\n",
      "\n",
      "DataFrame is highly fragmented.  This is usually the result of calling `frame.insert` many times, which has poor performance.  Consider joining all columns at once using pd.concat(axis=1) instead. To get a de-fragmented frame, use `newframe = frame.copy()`\n",
      "\n",
      "/tmp/ipykernel_5864/1593368253.py:17: PerformanceWarning:\n",
      "\n",
      "DataFrame is highly fragmented.  This is usually the result of calling `frame.insert` many times, which has poor performance.  Consider joining all columns at once using pd.concat(axis=1) instead. To get a de-fragmented frame, use `newframe = frame.copy()`\n",
      "\n",
      "/tmp/ipykernel_5864/1593368253.py:17: PerformanceWarning:\n",
      "\n",
      "DataFrame is highly fragmented.  This is usually the result of calling `frame.insert` many times, which has poor performance.  Consider joining all columns at once using pd.concat(axis=1) instead. To get a de-fragmented frame, use `newframe = frame.copy()`\n",
      "\n",
      "/tmp/ipykernel_5864/1593368253.py:17: PerformanceWarning:\n",
      "\n",
      "DataFrame is highly fragmented.  This is usually the result of calling `frame.insert` many times, which has poor performance.  Consider joining all columns at once using pd.concat(axis=1) instead. To get a de-fragmented frame, use `newframe = frame.copy()`\n",
      "\n",
      "/tmp/ipykernel_5864/1593368253.py:17: PerformanceWarning:\n",
      "\n",
      "DataFrame is highly fragmented.  This is usually the result of calling `frame.insert` many times, which has poor performance.  Consider joining all columns at once using pd.concat(axis=1) instead. To get a de-fragmented frame, use `newframe = frame.copy()`\n",
      "\n",
      "/tmp/ipykernel_5864/1593368253.py:17: PerformanceWarning:\n",
      "\n",
      "DataFrame is highly fragmented.  This is usually the result of calling `frame.insert` many times, which has poor performance.  Consider joining all columns at once using pd.concat(axis=1) instead. To get a de-fragmented frame, use `newframe = frame.copy()`\n",
      "\n",
      "/tmp/ipykernel_5864/1593368253.py:17: PerformanceWarning:\n",
      "\n",
      "DataFrame is highly fragmented.  This is usually the result of calling `frame.insert` many times, which has poor performance.  Consider joining all columns at once using pd.concat(axis=1) instead. To get a de-fragmented frame, use `newframe = frame.copy()`\n",
      "\n"
     ]
    },
    {
     "name": "stderr",
     "output_type": "stream",
     "text": [
      "/tmp/ipykernel_5864/1593368253.py:17: PerformanceWarning:\n",
      "\n",
      "DataFrame is highly fragmented.  This is usually the result of calling `frame.insert` many times, which has poor performance.  Consider joining all columns at once using pd.concat(axis=1) instead. To get a de-fragmented frame, use `newframe = frame.copy()`\n",
      "\n",
      "/tmp/ipykernel_5864/1593368253.py:17: PerformanceWarning:\n",
      "\n",
      "DataFrame is highly fragmented.  This is usually the result of calling `frame.insert` many times, which has poor performance.  Consider joining all columns at once using pd.concat(axis=1) instead. To get a de-fragmented frame, use `newframe = frame.copy()`\n",
      "\n",
      "/tmp/ipykernel_5864/1593368253.py:17: PerformanceWarning:\n",
      "\n",
      "DataFrame is highly fragmented.  This is usually the result of calling `frame.insert` many times, which has poor performance.  Consider joining all columns at once using pd.concat(axis=1) instead. To get a de-fragmented frame, use `newframe = frame.copy()`\n",
      "\n",
      "/tmp/ipykernel_5864/1593368253.py:17: PerformanceWarning:\n",
      "\n",
      "DataFrame is highly fragmented.  This is usually the result of calling `frame.insert` many times, which has poor performance.  Consider joining all columns at once using pd.concat(axis=1) instead. To get a de-fragmented frame, use `newframe = frame.copy()`\n",
      "\n",
      "/tmp/ipykernel_5864/1593368253.py:17: PerformanceWarning:\n",
      "\n",
      "DataFrame is highly fragmented.  This is usually the result of calling `frame.insert` many times, which has poor performance.  Consider joining all columns at once using pd.concat(axis=1) instead. To get a de-fragmented frame, use `newframe = frame.copy()`\n",
      "\n",
      "/tmp/ipykernel_5864/1593368253.py:17: PerformanceWarning:\n",
      "\n",
      "DataFrame is highly fragmented.  This is usually the result of calling `frame.insert` many times, which has poor performance.  Consider joining all columns at once using pd.concat(axis=1) instead. To get a de-fragmented frame, use `newframe = frame.copy()`\n",
      "\n",
      "/tmp/ipykernel_5864/1593368253.py:17: PerformanceWarning:\n",
      "\n",
      "DataFrame is highly fragmented.  This is usually the result of calling `frame.insert` many times, which has poor performance.  Consider joining all columns at once using pd.concat(axis=1) instead. To get a de-fragmented frame, use `newframe = frame.copy()`\n",
      "\n",
      "/tmp/ipykernel_5864/1593368253.py:17: PerformanceWarning:\n",
      "\n",
      "DataFrame is highly fragmented.  This is usually the result of calling `frame.insert` many times, which has poor performance.  Consider joining all columns at once using pd.concat(axis=1) instead. To get a de-fragmented frame, use `newframe = frame.copy()`\n",
      "\n",
      "/tmp/ipykernel_5864/1593368253.py:17: PerformanceWarning:\n",
      "\n",
      "DataFrame is highly fragmented.  This is usually the result of calling `frame.insert` many times, which has poor performance.  Consider joining all columns at once using pd.concat(axis=1) instead. To get a de-fragmented frame, use `newframe = frame.copy()`\n",
      "\n",
      "/tmp/ipykernel_5864/1593368253.py:17: PerformanceWarning:\n",
      "\n",
      "DataFrame is highly fragmented.  This is usually the result of calling `frame.insert` many times, which has poor performance.  Consider joining all columns at once using pd.concat(axis=1) instead. To get a de-fragmented frame, use `newframe = frame.copy()`\n",
      "\n",
      "/tmp/ipykernel_5864/1593368253.py:17: PerformanceWarning:\n",
      "\n",
      "DataFrame is highly fragmented.  This is usually the result of calling `frame.insert` many times, which has poor performance.  Consider joining all columns at once using pd.concat(axis=1) instead. To get a de-fragmented frame, use `newframe = frame.copy()`\n",
      "\n",
      "/tmp/ipykernel_5864/1593368253.py:17: PerformanceWarning:\n",
      "\n",
      "DataFrame is highly fragmented.  This is usually the result of calling `frame.insert` many times, which has poor performance.  Consider joining all columns at once using pd.concat(axis=1) instead. To get a de-fragmented frame, use `newframe = frame.copy()`\n",
      "\n",
      "/tmp/ipykernel_5864/1593368253.py:17: PerformanceWarning:\n",
      "\n",
      "DataFrame is highly fragmented.  This is usually the result of calling `frame.insert` many times, which has poor performance.  Consider joining all columns at once using pd.concat(axis=1) instead. To get a de-fragmented frame, use `newframe = frame.copy()`\n",
      "\n",
      "/tmp/ipykernel_5864/1593368253.py:17: PerformanceWarning:\n",
      "\n",
      "DataFrame is highly fragmented.  This is usually the result of calling `frame.insert` many times, which has poor performance.  Consider joining all columns at once using pd.concat(axis=1) instead. To get a de-fragmented frame, use `newframe = frame.copy()`\n",
      "\n",
      "/tmp/ipykernel_5864/1593368253.py:17: PerformanceWarning:\n",
      "\n",
      "DataFrame is highly fragmented.  This is usually the result of calling `frame.insert` many times, which has poor performance.  Consider joining all columns at once using pd.concat(axis=1) instead. To get a de-fragmented frame, use `newframe = frame.copy()`\n",
      "\n",
      "/tmp/ipykernel_5864/1593368253.py:17: PerformanceWarning:\n",
      "\n",
      "DataFrame is highly fragmented.  This is usually the result of calling `frame.insert` many times, which has poor performance.  Consider joining all columns at once using pd.concat(axis=1) instead. To get a de-fragmented frame, use `newframe = frame.copy()`\n",
      "\n",
      "/tmp/ipykernel_5864/1593368253.py:17: PerformanceWarning:\n",
      "\n",
      "DataFrame is highly fragmented.  This is usually the result of calling `frame.insert` many times, which has poor performance.  Consider joining all columns at once using pd.concat(axis=1) instead. To get a de-fragmented frame, use `newframe = frame.copy()`\n",
      "\n",
      "/tmp/ipykernel_5864/1593368253.py:17: PerformanceWarning:\n",
      "\n",
      "DataFrame is highly fragmented.  This is usually the result of calling `frame.insert` many times, which has poor performance.  Consider joining all columns at once using pd.concat(axis=1) instead. To get a de-fragmented frame, use `newframe = frame.copy()`\n",
      "\n",
      "/tmp/ipykernel_5864/1593368253.py:17: PerformanceWarning:\n",
      "\n",
      "DataFrame is highly fragmented.  This is usually the result of calling `frame.insert` many times, which has poor performance.  Consider joining all columns at once using pd.concat(axis=1) instead. To get a de-fragmented frame, use `newframe = frame.copy()`\n",
      "\n",
      "/tmp/ipykernel_5864/1593368253.py:17: PerformanceWarning:\n",
      "\n",
      "DataFrame is highly fragmented.  This is usually the result of calling `frame.insert` many times, which has poor performance.  Consider joining all columns at once using pd.concat(axis=1) instead. To get a de-fragmented frame, use `newframe = frame.copy()`\n",
      "\n",
      "/tmp/ipykernel_5864/1593368253.py:17: PerformanceWarning:\n",
      "\n",
      "DataFrame is highly fragmented.  This is usually the result of calling `frame.insert` many times, which has poor performance.  Consider joining all columns at once using pd.concat(axis=1) instead. To get a de-fragmented frame, use `newframe = frame.copy()`\n",
      "\n",
      "/tmp/ipykernel_5864/1593368253.py:17: PerformanceWarning:\n",
      "\n",
      "DataFrame is highly fragmented.  This is usually the result of calling `frame.insert` many times, which has poor performance.  Consider joining all columns at once using pd.concat(axis=1) instead. To get a de-fragmented frame, use `newframe = frame.copy()`\n",
      "\n",
      "/tmp/ipykernel_5864/1593368253.py:17: PerformanceWarning:\n",
      "\n",
      "DataFrame is highly fragmented.  This is usually the result of calling `frame.insert` many times, which has poor performance.  Consider joining all columns at once using pd.concat(axis=1) instead. To get a de-fragmented frame, use `newframe = frame.copy()`\n",
      "\n",
      "/tmp/ipykernel_5864/1593368253.py:17: PerformanceWarning:\n",
      "\n",
      "DataFrame is highly fragmented.  This is usually the result of calling `frame.insert` many times, which has poor performance.  Consider joining all columns at once using pd.concat(axis=1) instead. To get a de-fragmented frame, use `newframe = frame.copy()`\n",
      "\n",
      "/tmp/ipykernel_5864/1593368253.py:17: PerformanceWarning:\n",
      "\n",
      "DataFrame is highly fragmented.  This is usually the result of calling `frame.insert` many times, which has poor performance.  Consider joining all columns at once using pd.concat(axis=1) instead. To get a de-fragmented frame, use `newframe = frame.copy()`\n",
      "\n",
      "/tmp/ipykernel_5864/1593368253.py:17: PerformanceWarning:\n",
      "\n",
      "DataFrame is highly fragmented.  This is usually the result of calling `frame.insert` many times, which has poor performance.  Consider joining all columns at once using pd.concat(axis=1) instead. To get a de-fragmented frame, use `newframe = frame.copy()`\n",
      "\n",
      "/tmp/ipykernel_5864/1593368253.py:17: PerformanceWarning:\n",
      "\n",
      "DataFrame is highly fragmented.  This is usually the result of calling `frame.insert` many times, which has poor performance.  Consider joining all columns at once using pd.concat(axis=1) instead. To get a de-fragmented frame, use `newframe = frame.copy()`\n",
      "\n",
      "/tmp/ipykernel_5864/1593368253.py:17: PerformanceWarning:\n",
      "\n",
      "DataFrame is highly fragmented.  This is usually the result of calling `frame.insert` many times, which has poor performance.  Consider joining all columns at once using pd.concat(axis=1) instead. To get a de-fragmented frame, use `newframe = frame.copy()`\n",
      "\n",
      "/tmp/ipykernel_5864/1593368253.py:17: PerformanceWarning:\n",
      "\n",
      "DataFrame is highly fragmented.  This is usually the result of calling `frame.insert` many times, which has poor performance.  Consider joining all columns at once using pd.concat(axis=1) instead. To get a de-fragmented frame, use `newframe = frame.copy()`\n",
      "\n",
      "/tmp/ipykernel_5864/1593368253.py:17: PerformanceWarning:\n",
      "\n",
      "DataFrame is highly fragmented.  This is usually the result of calling `frame.insert` many times, which has poor performance.  Consider joining all columns at once using pd.concat(axis=1) instead. To get a de-fragmented frame, use `newframe = frame.copy()`\n",
      "\n",
      "/tmp/ipykernel_5864/1593368253.py:17: PerformanceWarning:\n",
      "\n",
      "DataFrame is highly fragmented.  This is usually the result of calling `frame.insert` many times, which has poor performance.  Consider joining all columns at once using pd.concat(axis=1) instead. To get a de-fragmented frame, use `newframe = frame.copy()`\n",
      "\n",
      "/tmp/ipykernel_5864/1593368253.py:17: PerformanceWarning:\n",
      "\n",
      "DataFrame is highly fragmented.  This is usually the result of calling `frame.insert` many times, which has poor performance.  Consider joining all columns at once using pd.concat(axis=1) instead. To get a de-fragmented frame, use `newframe = frame.copy()`\n",
      "\n",
      "/tmp/ipykernel_5864/1593368253.py:17: PerformanceWarning:\n",
      "\n",
      "DataFrame is highly fragmented.  This is usually the result of calling `frame.insert` many times, which has poor performance.  Consider joining all columns at once using pd.concat(axis=1) instead. To get a de-fragmented frame, use `newframe = frame.copy()`\n",
      "\n",
      "/tmp/ipykernel_5864/1593368253.py:17: PerformanceWarning:\n",
      "\n",
      "DataFrame is highly fragmented.  This is usually the result of calling `frame.insert` many times, which has poor performance.  Consider joining all columns at once using pd.concat(axis=1) instead. To get a de-fragmented frame, use `newframe = frame.copy()`\n",
      "\n"
     ]
    },
    {
     "name": "stderr",
     "output_type": "stream",
     "text": [
      "/tmp/ipykernel_5864/1593368253.py:17: PerformanceWarning:\n",
      "\n",
      "DataFrame is highly fragmented.  This is usually the result of calling `frame.insert` many times, which has poor performance.  Consider joining all columns at once using pd.concat(axis=1) instead. To get a de-fragmented frame, use `newframe = frame.copy()`\n",
      "\n",
      "/tmp/ipykernel_5864/1593368253.py:17: PerformanceWarning:\n",
      "\n",
      "DataFrame is highly fragmented.  This is usually the result of calling `frame.insert` many times, which has poor performance.  Consider joining all columns at once using pd.concat(axis=1) instead. To get a de-fragmented frame, use `newframe = frame.copy()`\n",
      "\n",
      "/tmp/ipykernel_5864/1593368253.py:17: PerformanceWarning:\n",
      "\n",
      "DataFrame is highly fragmented.  This is usually the result of calling `frame.insert` many times, which has poor performance.  Consider joining all columns at once using pd.concat(axis=1) instead. To get a de-fragmented frame, use `newframe = frame.copy()`\n",
      "\n",
      "/tmp/ipykernel_5864/1593368253.py:17: PerformanceWarning:\n",
      "\n",
      "DataFrame is highly fragmented.  This is usually the result of calling `frame.insert` many times, which has poor performance.  Consider joining all columns at once using pd.concat(axis=1) instead. To get a de-fragmented frame, use `newframe = frame.copy()`\n",
      "\n",
      "/tmp/ipykernel_5864/1593368253.py:17: PerformanceWarning:\n",
      "\n",
      "DataFrame is highly fragmented.  This is usually the result of calling `frame.insert` many times, which has poor performance.  Consider joining all columns at once using pd.concat(axis=1) instead. To get a de-fragmented frame, use `newframe = frame.copy()`\n",
      "\n",
      "/tmp/ipykernel_5864/1593368253.py:17: PerformanceWarning:\n",
      "\n",
      "DataFrame is highly fragmented.  This is usually the result of calling `frame.insert` many times, which has poor performance.  Consider joining all columns at once using pd.concat(axis=1) instead. To get a de-fragmented frame, use `newframe = frame.copy()`\n",
      "\n",
      "/tmp/ipykernel_5864/1593368253.py:17: PerformanceWarning:\n",
      "\n",
      "DataFrame is highly fragmented.  This is usually the result of calling `frame.insert` many times, which has poor performance.  Consider joining all columns at once using pd.concat(axis=1) instead. To get a de-fragmented frame, use `newframe = frame.copy()`\n",
      "\n",
      "/tmp/ipykernel_5864/1593368253.py:17: PerformanceWarning:\n",
      "\n",
      "DataFrame is highly fragmented.  This is usually the result of calling `frame.insert` many times, which has poor performance.  Consider joining all columns at once using pd.concat(axis=1) instead. To get a de-fragmented frame, use `newframe = frame.copy()`\n",
      "\n",
      "/tmp/ipykernel_5864/1593368253.py:17: PerformanceWarning:\n",
      "\n",
      "DataFrame is highly fragmented.  This is usually the result of calling `frame.insert` many times, which has poor performance.  Consider joining all columns at once using pd.concat(axis=1) instead. To get a de-fragmented frame, use `newframe = frame.copy()`\n",
      "\n",
      "/tmp/ipykernel_5864/1593368253.py:17: PerformanceWarning:\n",
      "\n",
      "DataFrame is highly fragmented.  This is usually the result of calling `frame.insert` many times, which has poor performance.  Consider joining all columns at once using pd.concat(axis=1) instead. To get a de-fragmented frame, use `newframe = frame.copy()`\n",
      "\n",
      "/tmp/ipykernel_5864/1593368253.py:17: PerformanceWarning:\n",
      "\n",
      "DataFrame is highly fragmented.  This is usually the result of calling `frame.insert` many times, which has poor performance.  Consider joining all columns at once using pd.concat(axis=1) instead. To get a de-fragmented frame, use `newframe = frame.copy()`\n",
      "\n",
      "/tmp/ipykernel_5864/1593368253.py:17: PerformanceWarning:\n",
      "\n",
      "DataFrame is highly fragmented.  This is usually the result of calling `frame.insert` many times, which has poor performance.  Consider joining all columns at once using pd.concat(axis=1) instead. To get a de-fragmented frame, use `newframe = frame.copy()`\n",
      "\n",
      "/tmp/ipykernel_5864/1593368253.py:17: PerformanceWarning:\n",
      "\n",
      "DataFrame is highly fragmented.  This is usually the result of calling `frame.insert` many times, which has poor performance.  Consider joining all columns at once using pd.concat(axis=1) instead. To get a de-fragmented frame, use `newframe = frame.copy()`\n",
      "\n",
      "/tmp/ipykernel_5864/1593368253.py:17: PerformanceWarning:\n",
      "\n",
      "DataFrame is highly fragmented.  This is usually the result of calling `frame.insert` many times, which has poor performance.  Consider joining all columns at once using pd.concat(axis=1) instead. To get a de-fragmented frame, use `newframe = frame.copy()`\n",
      "\n",
      "/tmp/ipykernel_5864/1593368253.py:17: PerformanceWarning:\n",
      "\n",
      "DataFrame is highly fragmented.  This is usually the result of calling `frame.insert` many times, which has poor performance.  Consider joining all columns at once using pd.concat(axis=1) instead. To get a de-fragmented frame, use `newframe = frame.copy()`\n",
      "\n",
      "/tmp/ipykernel_5864/1593368253.py:17: PerformanceWarning:\n",
      "\n",
      "DataFrame is highly fragmented.  This is usually the result of calling `frame.insert` many times, which has poor performance.  Consider joining all columns at once using pd.concat(axis=1) instead. To get a de-fragmented frame, use `newframe = frame.copy()`\n",
      "\n",
      "/tmp/ipykernel_5864/1593368253.py:17: PerformanceWarning:\n",
      "\n",
      "DataFrame is highly fragmented.  This is usually the result of calling `frame.insert` many times, which has poor performance.  Consider joining all columns at once using pd.concat(axis=1) instead. To get a de-fragmented frame, use `newframe = frame.copy()`\n",
      "\n",
      "/tmp/ipykernel_5864/1593368253.py:17: PerformanceWarning:\n",
      "\n",
      "DataFrame is highly fragmented.  This is usually the result of calling `frame.insert` many times, which has poor performance.  Consider joining all columns at once using pd.concat(axis=1) instead. To get a de-fragmented frame, use `newframe = frame.copy()`\n",
      "\n",
      "/tmp/ipykernel_5864/1593368253.py:17: PerformanceWarning:\n",
      "\n",
      "DataFrame is highly fragmented.  This is usually the result of calling `frame.insert` many times, which has poor performance.  Consider joining all columns at once using pd.concat(axis=1) instead. To get a de-fragmented frame, use `newframe = frame.copy()`\n",
      "\n",
      "/tmp/ipykernel_5864/1593368253.py:17: PerformanceWarning:\n",
      "\n",
      "DataFrame is highly fragmented.  This is usually the result of calling `frame.insert` many times, which has poor performance.  Consider joining all columns at once using pd.concat(axis=1) instead. To get a de-fragmented frame, use `newframe = frame.copy()`\n",
      "\n",
      "/tmp/ipykernel_5864/1593368253.py:17: PerformanceWarning:\n",
      "\n",
      "DataFrame is highly fragmented.  This is usually the result of calling `frame.insert` many times, which has poor performance.  Consider joining all columns at once using pd.concat(axis=1) instead. To get a de-fragmented frame, use `newframe = frame.copy()`\n",
      "\n",
      "/tmp/ipykernel_5864/1593368253.py:17: PerformanceWarning:\n",
      "\n",
      "DataFrame is highly fragmented.  This is usually the result of calling `frame.insert` many times, which has poor performance.  Consider joining all columns at once using pd.concat(axis=1) instead. To get a de-fragmented frame, use `newframe = frame.copy()`\n",
      "\n",
      "/tmp/ipykernel_5864/1593368253.py:17: PerformanceWarning:\n",
      "\n",
      "DataFrame is highly fragmented.  This is usually the result of calling `frame.insert` many times, which has poor performance.  Consider joining all columns at once using pd.concat(axis=1) instead. To get a de-fragmented frame, use `newframe = frame.copy()`\n",
      "\n",
      "/tmp/ipykernel_5864/1593368253.py:17: PerformanceWarning:\n",
      "\n",
      "DataFrame is highly fragmented.  This is usually the result of calling `frame.insert` many times, which has poor performance.  Consider joining all columns at once using pd.concat(axis=1) instead. To get a de-fragmented frame, use `newframe = frame.copy()`\n",
      "\n",
      "/tmp/ipykernel_5864/1593368253.py:17: PerformanceWarning:\n",
      "\n",
      "DataFrame is highly fragmented.  This is usually the result of calling `frame.insert` many times, which has poor performance.  Consider joining all columns at once using pd.concat(axis=1) instead. To get a de-fragmented frame, use `newframe = frame.copy()`\n",
      "\n",
      "/tmp/ipykernel_5864/1593368253.py:17: PerformanceWarning:\n",
      "\n",
      "DataFrame is highly fragmented.  This is usually the result of calling `frame.insert` many times, which has poor performance.  Consider joining all columns at once using pd.concat(axis=1) instead. To get a de-fragmented frame, use `newframe = frame.copy()`\n",
      "\n",
      "/tmp/ipykernel_5864/1593368253.py:17: PerformanceWarning:\n",
      "\n",
      "DataFrame is highly fragmented.  This is usually the result of calling `frame.insert` many times, which has poor performance.  Consider joining all columns at once using pd.concat(axis=1) instead. To get a de-fragmented frame, use `newframe = frame.copy()`\n",
      "\n"
     ]
    },
    {
     "name": "stderr",
     "output_type": "stream",
     "text": [
      "/tmp/ipykernel_5864/1593368253.py:17: PerformanceWarning:\n",
      "\n",
      "DataFrame is highly fragmented.  This is usually the result of calling `frame.insert` many times, which has poor performance.  Consider joining all columns at once using pd.concat(axis=1) instead. To get a de-fragmented frame, use `newframe = frame.copy()`\n",
      "\n",
      "/tmp/ipykernel_5864/1593368253.py:17: PerformanceWarning:\n",
      "\n",
      "DataFrame is highly fragmented.  This is usually the result of calling `frame.insert` many times, which has poor performance.  Consider joining all columns at once using pd.concat(axis=1) instead. To get a de-fragmented frame, use `newframe = frame.copy()`\n",
      "\n",
      "/tmp/ipykernel_5864/1593368253.py:17: PerformanceWarning:\n",
      "\n",
      "DataFrame is highly fragmented.  This is usually the result of calling `frame.insert` many times, which has poor performance.  Consider joining all columns at once using pd.concat(axis=1) instead. To get a de-fragmented frame, use `newframe = frame.copy()`\n",
      "\n",
      "/tmp/ipykernel_5864/1593368253.py:17: PerformanceWarning:\n",
      "\n",
      "DataFrame is highly fragmented.  This is usually the result of calling `frame.insert` many times, which has poor performance.  Consider joining all columns at once using pd.concat(axis=1) instead. To get a de-fragmented frame, use `newframe = frame.copy()`\n",
      "\n",
      "/tmp/ipykernel_5864/1593368253.py:17: PerformanceWarning:\n",
      "\n",
      "DataFrame is highly fragmented.  This is usually the result of calling `frame.insert` many times, which has poor performance.  Consider joining all columns at once using pd.concat(axis=1) instead. To get a de-fragmented frame, use `newframe = frame.copy()`\n",
      "\n",
      "/tmp/ipykernel_5864/1593368253.py:17: PerformanceWarning:\n",
      "\n",
      "DataFrame is highly fragmented.  This is usually the result of calling `frame.insert` many times, which has poor performance.  Consider joining all columns at once using pd.concat(axis=1) instead. To get a de-fragmented frame, use `newframe = frame.copy()`\n",
      "\n",
      "/tmp/ipykernel_5864/1593368253.py:17: PerformanceWarning:\n",
      "\n",
      "DataFrame is highly fragmented.  This is usually the result of calling `frame.insert` many times, which has poor performance.  Consider joining all columns at once using pd.concat(axis=1) instead. To get a de-fragmented frame, use `newframe = frame.copy()`\n",
      "\n",
      "/tmp/ipykernel_5864/1593368253.py:17: PerformanceWarning:\n",
      "\n",
      "DataFrame is highly fragmented.  This is usually the result of calling `frame.insert` many times, which has poor performance.  Consider joining all columns at once using pd.concat(axis=1) instead. To get a de-fragmented frame, use `newframe = frame.copy()`\n",
      "\n",
      "/tmp/ipykernel_5864/1593368253.py:17: PerformanceWarning:\n",
      "\n",
      "DataFrame is highly fragmented.  This is usually the result of calling `frame.insert` many times, which has poor performance.  Consider joining all columns at once using pd.concat(axis=1) instead. To get a de-fragmented frame, use `newframe = frame.copy()`\n",
      "\n",
      "/tmp/ipykernel_5864/1593368253.py:17: PerformanceWarning:\n",
      "\n",
      "DataFrame is highly fragmented.  This is usually the result of calling `frame.insert` many times, which has poor performance.  Consider joining all columns at once using pd.concat(axis=1) instead. To get a de-fragmented frame, use `newframe = frame.copy()`\n",
      "\n",
      "/tmp/ipykernel_5864/1593368253.py:17: PerformanceWarning:\n",
      "\n",
      "DataFrame is highly fragmented.  This is usually the result of calling `frame.insert` many times, which has poor performance.  Consider joining all columns at once using pd.concat(axis=1) instead. To get a de-fragmented frame, use `newframe = frame.copy()`\n",
      "\n",
      "/tmp/ipykernel_5864/1593368253.py:17: PerformanceWarning:\n",
      "\n",
      "DataFrame is highly fragmented.  This is usually the result of calling `frame.insert` many times, which has poor performance.  Consider joining all columns at once using pd.concat(axis=1) instead. To get a de-fragmented frame, use `newframe = frame.copy()`\n",
      "\n",
      "/tmp/ipykernel_5864/1593368253.py:17: PerformanceWarning:\n",
      "\n",
      "DataFrame is highly fragmented.  This is usually the result of calling `frame.insert` many times, which has poor performance.  Consider joining all columns at once using pd.concat(axis=1) instead. To get a de-fragmented frame, use `newframe = frame.copy()`\n",
      "\n",
      "/tmp/ipykernel_5864/1593368253.py:17: PerformanceWarning:\n",
      "\n",
      "DataFrame is highly fragmented.  This is usually the result of calling `frame.insert` many times, which has poor performance.  Consider joining all columns at once using pd.concat(axis=1) instead. To get a de-fragmented frame, use `newframe = frame.copy()`\n",
      "\n",
      "/tmp/ipykernel_5864/1593368253.py:17: PerformanceWarning:\n",
      "\n",
      "DataFrame is highly fragmented.  This is usually the result of calling `frame.insert` many times, which has poor performance.  Consider joining all columns at once using pd.concat(axis=1) instead. To get a de-fragmented frame, use `newframe = frame.copy()`\n",
      "\n",
      "/tmp/ipykernel_5864/1593368253.py:17: PerformanceWarning:\n",
      "\n",
      "DataFrame is highly fragmented.  This is usually the result of calling `frame.insert` many times, which has poor performance.  Consider joining all columns at once using pd.concat(axis=1) instead. To get a de-fragmented frame, use `newframe = frame.copy()`\n",
      "\n",
      "/tmp/ipykernel_5864/1593368253.py:17: PerformanceWarning:\n",
      "\n",
      "DataFrame is highly fragmented.  This is usually the result of calling `frame.insert` many times, which has poor performance.  Consider joining all columns at once using pd.concat(axis=1) instead. To get a de-fragmented frame, use `newframe = frame.copy()`\n",
      "\n",
      "/tmp/ipykernel_5864/1593368253.py:17: PerformanceWarning:\n",
      "\n",
      "DataFrame is highly fragmented.  This is usually the result of calling `frame.insert` many times, which has poor performance.  Consider joining all columns at once using pd.concat(axis=1) instead. To get a de-fragmented frame, use `newframe = frame.copy()`\n",
      "\n",
      "/tmp/ipykernel_5864/1593368253.py:17: PerformanceWarning:\n",
      "\n",
      "DataFrame is highly fragmented.  This is usually the result of calling `frame.insert` many times, which has poor performance.  Consider joining all columns at once using pd.concat(axis=1) instead. To get a de-fragmented frame, use `newframe = frame.copy()`\n",
      "\n",
      "/tmp/ipykernel_5864/1593368253.py:17: PerformanceWarning:\n",
      "\n",
      "DataFrame is highly fragmented.  This is usually the result of calling `frame.insert` many times, which has poor performance.  Consider joining all columns at once using pd.concat(axis=1) instead. To get a de-fragmented frame, use `newframe = frame.copy()`\n",
      "\n",
      "/tmp/ipykernel_5864/1593368253.py:17: PerformanceWarning:\n",
      "\n",
      "DataFrame is highly fragmented.  This is usually the result of calling `frame.insert` many times, which has poor performance.  Consider joining all columns at once using pd.concat(axis=1) instead. To get a de-fragmented frame, use `newframe = frame.copy()`\n",
      "\n",
      "/tmp/ipykernel_5864/1593368253.py:17: PerformanceWarning:\n",
      "\n",
      "DataFrame is highly fragmented.  This is usually the result of calling `frame.insert` many times, which has poor performance.  Consider joining all columns at once using pd.concat(axis=1) instead. To get a de-fragmented frame, use `newframe = frame.copy()`\n",
      "\n",
      "/tmp/ipykernel_5864/1593368253.py:17: PerformanceWarning:\n",
      "\n",
      "DataFrame is highly fragmented.  This is usually the result of calling `frame.insert` many times, which has poor performance.  Consider joining all columns at once using pd.concat(axis=1) instead. To get a de-fragmented frame, use `newframe = frame.copy()`\n",
      "\n",
      "/tmp/ipykernel_5864/1593368253.py:17: PerformanceWarning:\n",
      "\n",
      "DataFrame is highly fragmented.  This is usually the result of calling `frame.insert` many times, which has poor performance.  Consider joining all columns at once using pd.concat(axis=1) instead. To get a de-fragmented frame, use `newframe = frame.copy()`\n",
      "\n",
      "/tmp/ipykernel_5864/1593368253.py:17: PerformanceWarning:\n",
      "\n",
      "DataFrame is highly fragmented.  This is usually the result of calling `frame.insert` many times, which has poor performance.  Consider joining all columns at once using pd.concat(axis=1) instead. To get a de-fragmented frame, use `newframe = frame.copy()`\n",
      "\n",
      "/tmp/ipykernel_5864/1593368253.py:17: PerformanceWarning:\n",
      "\n",
      "DataFrame is highly fragmented.  This is usually the result of calling `frame.insert` many times, which has poor performance.  Consider joining all columns at once using pd.concat(axis=1) instead. To get a de-fragmented frame, use `newframe = frame.copy()`\n",
      "\n",
      "/tmp/ipykernel_5864/1593368253.py:17: PerformanceWarning:\n",
      "\n",
      "DataFrame is highly fragmented.  This is usually the result of calling `frame.insert` many times, which has poor performance.  Consider joining all columns at once using pd.concat(axis=1) instead. To get a de-fragmented frame, use `newframe = frame.copy()`\n",
      "\n",
      "/tmp/ipykernel_5864/1593368253.py:17: PerformanceWarning:\n",
      "\n",
      "DataFrame is highly fragmented.  This is usually the result of calling `frame.insert` many times, which has poor performance.  Consider joining all columns at once using pd.concat(axis=1) instead. To get a de-fragmented frame, use `newframe = frame.copy()`\n",
      "\n",
      "/tmp/ipykernel_5864/1593368253.py:17: PerformanceWarning:\n",
      "\n",
      "DataFrame is highly fragmented.  This is usually the result of calling `frame.insert` many times, which has poor performance.  Consider joining all columns at once using pd.concat(axis=1) instead. To get a de-fragmented frame, use `newframe = frame.copy()`\n",
      "\n"
     ]
    },
    {
     "name": "stderr",
     "output_type": "stream",
     "text": [
      "/tmp/ipykernel_5864/1593368253.py:17: PerformanceWarning:\n",
      "\n",
      "DataFrame is highly fragmented.  This is usually the result of calling `frame.insert` many times, which has poor performance.  Consider joining all columns at once using pd.concat(axis=1) instead. To get a de-fragmented frame, use `newframe = frame.copy()`\n",
      "\n",
      "/tmp/ipykernel_5864/1593368253.py:17: PerformanceWarning:\n",
      "\n",
      "DataFrame is highly fragmented.  This is usually the result of calling `frame.insert` many times, which has poor performance.  Consider joining all columns at once using pd.concat(axis=1) instead. To get a de-fragmented frame, use `newframe = frame.copy()`\n",
      "\n",
      "/tmp/ipykernel_5864/1593368253.py:17: PerformanceWarning:\n",
      "\n",
      "DataFrame is highly fragmented.  This is usually the result of calling `frame.insert` many times, which has poor performance.  Consider joining all columns at once using pd.concat(axis=1) instead. To get a de-fragmented frame, use `newframe = frame.copy()`\n",
      "\n",
      "/tmp/ipykernel_5864/1593368253.py:17: PerformanceWarning:\n",
      "\n",
      "DataFrame is highly fragmented.  This is usually the result of calling `frame.insert` many times, which has poor performance.  Consider joining all columns at once using pd.concat(axis=1) instead. To get a de-fragmented frame, use `newframe = frame.copy()`\n",
      "\n",
      "/tmp/ipykernel_5864/1593368253.py:17: PerformanceWarning:\n",
      "\n",
      "DataFrame is highly fragmented.  This is usually the result of calling `frame.insert` many times, which has poor performance.  Consider joining all columns at once using pd.concat(axis=1) instead. To get a de-fragmented frame, use `newframe = frame.copy()`\n",
      "\n",
      "/tmp/ipykernel_5864/1593368253.py:17: PerformanceWarning:\n",
      "\n",
      "DataFrame is highly fragmented.  This is usually the result of calling `frame.insert` many times, which has poor performance.  Consider joining all columns at once using pd.concat(axis=1) instead. To get a de-fragmented frame, use `newframe = frame.copy()`\n",
      "\n",
      "/tmp/ipykernel_5864/1593368253.py:17: PerformanceWarning:\n",
      "\n",
      "DataFrame is highly fragmented.  This is usually the result of calling `frame.insert` many times, which has poor performance.  Consider joining all columns at once using pd.concat(axis=1) instead. To get a de-fragmented frame, use `newframe = frame.copy()`\n",
      "\n",
      "/tmp/ipykernel_5864/1593368253.py:17: PerformanceWarning:\n",
      "\n",
      "DataFrame is highly fragmented.  This is usually the result of calling `frame.insert` many times, which has poor performance.  Consider joining all columns at once using pd.concat(axis=1) instead. To get a de-fragmented frame, use `newframe = frame.copy()`\n",
      "\n",
      "/tmp/ipykernel_5864/1593368253.py:17: PerformanceWarning:\n",
      "\n",
      "DataFrame is highly fragmented.  This is usually the result of calling `frame.insert` many times, which has poor performance.  Consider joining all columns at once using pd.concat(axis=1) instead. To get a de-fragmented frame, use `newframe = frame.copy()`\n",
      "\n",
      "/tmp/ipykernel_5864/1593368253.py:17: PerformanceWarning:\n",
      "\n",
      "DataFrame is highly fragmented.  This is usually the result of calling `frame.insert` many times, which has poor performance.  Consider joining all columns at once using pd.concat(axis=1) instead. To get a de-fragmented frame, use `newframe = frame.copy()`\n",
      "\n",
      "/tmp/ipykernel_5864/1593368253.py:17: PerformanceWarning:\n",
      "\n",
      "DataFrame is highly fragmented.  This is usually the result of calling `frame.insert` many times, which has poor performance.  Consider joining all columns at once using pd.concat(axis=1) instead. To get a de-fragmented frame, use `newframe = frame.copy()`\n",
      "\n",
      "/tmp/ipykernel_5864/1593368253.py:17: PerformanceWarning:\n",
      "\n",
      "DataFrame is highly fragmented.  This is usually the result of calling `frame.insert` many times, which has poor performance.  Consider joining all columns at once using pd.concat(axis=1) instead. To get a de-fragmented frame, use `newframe = frame.copy()`\n",
      "\n",
      "/tmp/ipykernel_5864/1593368253.py:17: PerformanceWarning:\n",
      "\n",
      "DataFrame is highly fragmented.  This is usually the result of calling `frame.insert` many times, which has poor performance.  Consider joining all columns at once using pd.concat(axis=1) instead. To get a de-fragmented frame, use `newframe = frame.copy()`\n",
      "\n",
      "/tmp/ipykernel_5864/1593368253.py:17: PerformanceWarning:\n",
      "\n",
      "DataFrame is highly fragmented.  This is usually the result of calling `frame.insert` many times, which has poor performance.  Consider joining all columns at once using pd.concat(axis=1) instead. To get a de-fragmented frame, use `newframe = frame.copy()`\n",
      "\n",
      "/tmp/ipykernel_5864/1593368253.py:17: PerformanceWarning:\n",
      "\n",
      "DataFrame is highly fragmented.  This is usually the result of calling `frame.insert` many times, which has poor performance.  Consider joining all columns at once using pd.concat(axis=1) instead. To get a de-fragmented frame, use `newframe = frame.copy()`\n",
      "\n",
      "/tmp/ipykernel_5864/1593368253.py:17: PerformanceWarning:\n",
      "\n",
      "DataFrame is highly fragmented.  This is usually the result of calling `frame.insert` many times, which has poor performance.  Consider joining all columns at once using pd.concat(axis=1) instead. To get a de-fragmented frame, use `newframe = frame.copy()`\n",
      "\n",
      "/tmp/ipykernel_5864/1593368253.py:17: PerformanceWarning:\n",
      "\n",
      "DataFrame is highly fragmented.  This is usually the result of calling `frame.insert` many times, which has poor performance.  Consider joining all columns at once using pd.concat(axis=1) instead. To get a de-fragmented frame, use `newframe = frame.copy()`\n",
      "\n",
      "/tmp/ipykernel_5864/1593368253.py:17: PerformanceWarning:\n",
      "\n",
      "DataFrame is highly fragmented.  This is usually the result of calling `frame.insert` many times, which has poor performance.  Consider joining all columns at once using pd.concat(axis=1) instead. To get a de-fragmented frame, use `newframe = frame.copy()`\n",
      "\n",
      "/tmp/ipykernel_5864/1593368253.py:17: PerformanceWarning:\n",
      "\n",
      "DataFrame is highly fragmented.  This is usually the result of calling `frame.insert` many times, which has poor performance.  Consider joining all columns at once using pd.concat(axis=1) instead. To get a de-fragmented frame, use `newframe = frame.copy()`\n",
      "\n",
      "/tmp/ipykernel_5864/1593368253.py:17: PerformanceWarning:\n",
      "\n",
      "DataFrame is highly fragmented.  This is usually the result of calling `frame.insert` many times, which has poor performance.  Consider joining all columns at once using pd.concat(axis=1) instead. To get a de-fragmented frame, use `newframe = frame.copy()`\n",
      "\n",
      "/tmp/ipykernel_5864/1593368253.py:17: PerformanceWarning:\n",
      "\n",
      "DataFrame is highly fragmented.  This is usually the result of calling `frame.insert` many times, which has poor performance.  Consider joining all columns at once using pd.concat(axis=1) instead. To get a de-fragmented frame, use `newframe = frame.copy()`\n",
      "\n",
      "/tmp/ipykernel_5864/1593368253.py:17: PerformanceWarning:\n",
      "\n",
      "DataFrame is highly fragmented.  This is usually the result of calling `frame.insert` many times, which has poor performance.  Consider joining all columns at once using pd.concat(axis=1) instead. To get a de-fragmented frame, use `newframe = frame.copy()`\n",
      "\n",
      "/tmp/ipykernel_5864/1593368253.py:17: PerformanceWarning:\n",
      "\n",
      "DataFrame is highly fragmented.  This is usually the result of calling `frame.insert` many times, which has poor performance.  Consider joining all columns at once using pd.concat(axis=1) instead. To get a de-fragmented frame, use `newframe = frame.copy()`\n",
      "\n",
      "/tmp/ipykernel_5864/1593368253.py:17: PerformanceWarning:\n",
      "\n",
      "DataFrame is highly fragmented.  This is usually the result of calling `frame.insert` many times, which has poor performance.  Consider joining all columns at once using pd.concat(axis=1) instead. To get a de-fragmented frame, use `newframe = frame.copy()`\n",
      "\n",
      "/tmp/ipykernel_5864/1593368253.py:17: PerformanceWarning:\n",
      "\n",
      "DataFrame is highly fragmented.  This is usually the result of calling `frame.insert` many times, which has poor performance.  Consider joining all columns at once using pd.concat(axis=1) instead. To get a de-fragmented frame, use `newframe = frame.copy()`\n",
      "\n",
      "/tmp/ipykernel_5864/1593368253.py:17: PerformanceWarning:\n",
      "\n",
      "DataFrame is highly fragmented.  This is usually the result of calling `frame.insert` many times, which has poor performance.  Consider joining all columns at once using pd.concat(axis=1) instead. To get a de-fragmented frame, use `newframe = frame.copy()`\n",
      "\n",
      "/tmp/ipykernel_5864/1593368253.py:17: PerformanceWarning:\n",
      "\n",
      "DataFrame is highly fragmented.  This is usually the result of calling `frame.insert` many times, which has poor performance.  Consider joining all columns at once using pd.concat(axis=1) instead. To get a de-fragmented frame, use `newframe = frame.copy()`\n",
      "\n"
     ]
    },
    {
     "name": "stderr",
     "output_type": "stream",
     "text": [
      "/tmp/ipykernel_5864/1593368253.py:17: PerformanceWarning:\n",
      "\n",
      "DataFrame is highly fragmented.  This is usually the result of calling `frame.insert` many times, which has poor performance.  Consider joining all columns at once using pd.concat(axis=1) instead. To get a de-fragmented frame, use `newframe = frame.copy()`\n",
      "\n",
      "/tmp/ipykernel_5864/1593368253.py:17: PerformanceWarning:\n",
      "\n",
      "DataFrame is highly fragmented.  This is usually the result of calling `frame.insert` many times, which has poor performance.  Consider joining all columns at once using pd.concat(axis=1) instead. To get a de-fragmented frame, use `newframe = frame.copy()`\n",
      "\n",
      "/tmp/ipykernel_5864/1593368253.py:17: PerformanceWarning:\n",
      "\n",
      "DataFrame is highly fragmented.  This is usually the result of calling `frame.insert` many times, which has poor performance.  Consider joining all columns at once using pd.concat(axis=1) instead. To get a de-fragmented frame, use `newframe = frame.copy()`\n",
      "\n",
      "/tmp/ipykernel_5864/1593368253.py:17: PerformanceWarning:\n",
      "\n",
      "DataFrame is highly fragmented.  This is usually the result of calling `frame.insert` many times, which has poor performance.  Consider joining all columns at once using pd.concat(axis=1) instead. To get a de-fragmented frame, use `newframe = frame.copy()`\n",
      "\n",
      "/tmp/ipykernel_5864/1593368253.py:17: PerformanceWarning:\n",
      "\n",
      "DataFrame is highly fragmented.  This is usually the result of calling `frame.insert` many times, which has poor performance.  Consider joining all columns at once using pd.concat(axis=1) instead. To get a de-fragmented frame, use `newframe = frame.copy()`\n",
      "\n",
      "/tmp/ipykernel_5864/1593368253.py:17: PerformanceWarning:\n",
      "\n",
      "DataFrame is highly fragmented.  This is usually the result of calling `frame.insert` many times, which has poor performance.  Consider joining all columns at once using pd.concat(axis=1) instead. To get a de-fragmented frame, use `newframe = frame.copy()`\n",
      "\n",
      "/tmp/ipykernel_5864/1593368253.py:17: PerformanceWarning:\n",
      "\n",
      "DataFrame is highly fragmented.  This is usually the result of calling `frame.insert` many times, which has poor performance.  Consider joining all columns at once using pd.concat(axis=1) instead. To get a de-fragmented frame, use `newframe = frame.copy()`\n",
      "\n",
      "/tmp/ipykernel_5864/1593368253.py:17: PerformanceWarning:\n",
      "\n",
      "DataFrame is highly fragmented.  This is usually the result of calling `frame.insert` many times, which has poor performance.  Consider joining all columns at once using pd.concat(axis=1) instead. To get a de-fragmented frame, use `newframe = frame.copy()`\n",
      "\n",
      "/tmp/ipykernel_5864/1593368253.py:17: PerformanceWarning:\n",
      "\n",
      "DataFrame is highly fragmented.  This is usually the result of calling `frame.insert` many times, which has poor performance.  Consider joining all columns at once using pd.concat(axis=1) instead. To get a de-fragmented frame, use `newframe = frame.copy()`\n",
      "\n"
     ]
    }
   ],
   "source": [
    "most_pos = pd.DataFrame(text_df.filepath)\n",
    "most_pos.set_index(text_df.index)\n",
    "# first count max number of sentences\n",
    "count = []\n",
    "for i, doc in enumerate(most_pos.filepath):\n",
    "    sentences = sent_tokenize(text_df.query('filepath==@doc').text[0])\n",
    "    count.append(len(sentences))\n",
    "max_count = max(count)\n",
    "allspeeches = pd.DataFrame(index=range(max_count))\n",
    "\n",
    "for i, doc in enumerate(most_pos.filepath):\n",
    "    sentences = sent_tokenize(text_df.query('filepath==@doc').text[0])\n",
    "    #col = 'polarity'+str(i)\n",
    "    col = str(most_pos.index[i])[:10]\n",
    "    polarity = [TextBlob(text).sentiment.polarity for text in sentences]\n",
    "    polarity = polarity + [0]*(max_count-len(sentences))\n",
    "    allspeeches[col] = polarity"
   ]
  },
  {
   "cell_type": "code",
   "execution_count": 95,
   "id": "dda3253e",
   "metadata": {},
   "outputs": [
    {
     "data": {
      "text/plain": [
       "2013-02-26   -0.001724\n",
       "2002-10-02   -0.000784\n",
       "2011-04-26    0.001042\n",
       "2009-01-05    0.001369\n",
       "2012-09-12    0.001476\n",
       "                ...   \n",
       "2014-01-29    0.096669\n",
       "2011-12-06    0.105179\n",
       "2015-01-21    0.106200\n",
       "2013-07-24    0.124776\n",
       "2015-07-28    0.127265\n",
       "Length: 405, dtype: float64"
      ]
     },
     "execution_count": 95,
     "metadata": {},
     "output_type": "execute_result"
    }
   ],
   "source": [
    "allspeeches.mean().sort_values()"
   ]
  },
  {
   "cell_type": "code",
   "execution_count": 94,
   "id": "436b151d",
   "metadata": {},
   "outputs": [
    {
     "data": {
      "text/plain": [
       "Index(['2015-01-21', '2013-07-24', '2015-07-28'], dtype='object')"
      ]
     },
     "execution_count": 94,
     "metadata": {},
     "output_type": "execute_result"
    }
   ],
   "source": [
    "top_3 = allspeeches.mean().sort_values().tail(3).index\n",
    "top_3"
   ]
  },
  {
   "cell_type": "code",
   "execution_count": 93,
   "id": "b525aac6",
   "metadata": {},
   "outputs": [
    {
     "data": {
      "text/html": [
       "<div>\n",
       "<style scoped>\n",
       "    .dataframe tbody tr th:only-of-type {\n",
       "        vertical-align: middle;\n",
       "    }\n",
       "\n",
       "    .dataframe tbody tr th {\n",
       "        vertical-align: top;\n",
       "    }\n",
       "\n",
       "    .dataframe thead th {\n",
       "        text-align: right;\n",
       "    }\n",
       "</style>\n",
       "<table border=\"1\" class=\"dataframe\">\n",
       "  <thead>\n",
       "    <tr style=\"text-align: right;\">\n",
       "      <th></th>\n",
       "      <th>filepath</th>\n",
       "      <th>text</th>\n",
       "      <th>source</th>\n",
       "      <th>TBsubjectivity</th>\n",
       "      <th>TBpolarity</th>\n",
       "    </tr>\n",
       "  </thead>\n",
       "  <tbody>\n",
       "    <tr>\n",
       "      <th>2015-01-21</th>\n",
       "      <td>./Data/stateoftheunion2015.txt</td>\n",
       "      <td>Mr. Speaker, Mr. Vice President, Members of Co...</td>\n",
       "      <td>oba</td>\n",
       "      <td>0.448952</td>\n",
       "      <td>0.158219</td>\n",
       "    </tr>\n",
       "    <tr>\n",
       "      <th>2013-07-24</th>\n",
       "      <td>./Data/barackobamaknoxcollegeeconomy.txt</td>\n",
       "      <td>Hello, Galesburg!  Well, it’s good to be home ...</td>\n",
       "      <td>oba</td>\n",
       "      <td>0.439958</td>\n",
       "      <td>0.165498</td>\n",
       "    </tr>\n",
       "    <tr>\n",
       "      <th>2015-07-28</th>\n",
       "      <td>./Data/barackobamaafricancontinentreps.txt</td>\n",
       "      <td>Thank you.  Thank you so much. Madam Chairwoma...</td>\n",
       "      <td>oba</td>\n",
       "      <td>0.433907</td>\n",
       "      <td>0.198884</td>\n",
       "    </tr>\n",
       "  </tbody>\n",
       "</table>\n",
       "</div>"
      ],
      "text/plain": [
       "                                              filepath  \\\n",
       "2015-01-21              ./Data/stateoftheunion2015.txt   \n",
       "2013-07-24    ./Data/barackobamaknoxcollegeeconomy.txt   \n",
       "2015-07-28  ./Data/barackobamaafricancontinentreps.txt   \n",
       "\n",
       "                                                         text source  \\\n",
       "2015-01-21  Mr. Speaker, Mr. Vice President, Members of Co...    oba   \n",
       "2013-07-24  Hello, Galesburg!  Well, it’s good to be home ...    oba   \n",
       "2015-07-28  Thank you.  Thank you so much. Madam Chairwoma...    oba   \n",
       "\n",
       "            TBsubjectivity  TBpolarity  \n",
       "2015-01-21        0.448952    0.158219  \n",
       "2013-07-24        0.439958    0.165498  \n",
       "2015-07-28        0.433907    0.198884  "
      ]
     },
     "execution_count": 93,
     "metadata": {},
     "output_type": "execute_result"
    }
   ],
   "source": [
    "text_df.loc[top_3]"
   ]
  },
  {
   "cell_type": "code",
   "execution_count": 102,
   "id": "8ba900f5",
   "metadata": {},
   "outputs": [
    {
     "data": {
      "text/plain": [
       "0.127264509947045"
      ]
     },
     "execution_count": 102,
     "metadata": {},
     "output_type": "execute_result"
    }
   ],
   "source": [
    "allspeeches['2015-07-28']"
   ]
  },
  {
   "cell_type": "code",
   "execution_count": 147,
   "id": "3d5349d8",
   "metadata": {},
   "outputs": [
    {
     "data": {
      "application/vnd.plotly.v1+json": {
       "config": {
        "plotlyServerURL": "https://plot.ly"
       },
       "data": [
        {
         "hovertemplate": "index=%{x}<br>polarity=%{y}<extra></extra>",
         "legendgroup": "",
         "line": {
          "color": "#636efa",
          "dash": "solid"
         },
         "marker": {
          "symbol": "circle"
         },
         "mode": "lines",
         "name": "",
         "orientation": "v",
         "showlegend": false,
         "type": "scatter",
         "x": [
          0,
          1,
          2,
          3,
          4,
          5,
          6,
          7,
          8,
          9,
          10,
          11,
          12,
          13,
          14,
          15,
          16,
          17,
          18,
          19,
          20,
          21,
          22,
          23,
          24,
          25,
          26,
          27,
          28,
          29,
          30,
          31,
          32,
          33,
          34,
          35,
          36,
          37,
          38,
          39,
          40,
          41,
          42,
          43,
          44,
          45,
          46,
          47,
          48,
          49,
          50,
          51,
          52,
          53,
          54,
          55,
          56,
          57,
          58,
          59,
          60,
          61,
          62,
          63,
          64,
          65,
          66,
          67,
          68,
          69,
          70,
          71,
          72,
          73,
          74,
          75,
          76,
          77,
          78,
          79,
          80,
          81,
          82,
          83,
          84,
          85,
          86,
          87,
          88,
          89,
          90,
          91,
          92,
          93,
          94,
          95,
          96,
          97,
          98,
          99,
          100,
          101,
          102,
          103,
          104,
          105,
          106,
          107,
          108,
          109,
          110,
          111,
          112,
          113,
          114,
          115,
          116,
          117,
          118,
          119,
          120,
          121,
          122,
          123,
          124,
          125,
          126,
          127,
          128,
          129,
          130,
          131,
          132,
          133,
          134,
          135,
          136,
          137,
          138,
          139,
          140,
          141,
          142,
          143,
          144,
          145,
          146,
          147,
          148,
          149,
          150,
          151,
          152,
          153,
          154,
          155,
          156,
          157,
          158,
          159,
          160,
          161,
          162,
          163,
          164,
          165,
          166,
          167,
          168,
          169,
          170,
          171,
          172,
          173,
          174,
          175,
          176,
          177,
          178,
          179,
          180,
          181,
          182,
          183,
          184,
          185,
          186,
          187,
          188,
          189,
          190,
          191,
          192,
          193,
          194,
          195,
          196,
          197,
          198,
          199,
          200,
          201,
          202,
          203,
          204,
          205,
          206,
          207,
          208,
          209,
          210,
          211,
          212,
          213,
          214,
          215,
          216,
          217,
          218,
          219,
          220,
          221,
          222,
          223,
          224,
          225,
          226,
          227,
          228,
          229,
          230,
          231,
          232,
          233,
          234,
          235,
          236,
          237,
          238,
          239,
          240,
          241,
          242,
          243,
          244,
          245,
          246,
          247,
          248,
          249,
          250,
          251,
          252,
          253,
          254,
          255,
          256,
          257,
          258,
          259,
          260,
          261,
          262,
          263,
          264,
          265,
          266,
          267,
          268,
          269,
          270,
          271,
          272,
          273,
          274,
          275,
          276,
          277,
          278,
          279,
          280,
          281,
          282,
          283,
          284,
          285,
          286,
          287,
          288,
          289,
          290,
          291,
          292,
          293,
          294,
          295,
          296,
          297,
          298,
          299,
          300,
          301,
          302,
          303,
          304,
          305,
          306,
          307,
          308,
          309,
          310,
          311,
          312,
          313,
          314,
          315,
          316,
          317,
          318,
          319,
          320,
          321,
          322,
          323,
          324,
          325,
          326,
          327,
          328,
          329,
          330,
          331,
          332,
          333,
          334,
          335,
          336,
          337,
          338,
          339,
          340,
          341,
          342
         ],
         "xaxis": "x",
         "y": [
          0,
          0.2,
          0.4,
          1,
          0,
          0.35000000000000003,
          0.43333333333333335,
          0.5333333333333333,
          0,
          0,
          0.4,
          0,
          0.8,
          0,
          0,
          0.16666666666666666,
          0,
          -0.125,
          0.15,
          -0.09999999999999999,
          0.3,
          0,
          0,
          0.2,
          -0.8,
          0.25,
          0,
          0,
          0.4,
          -0.5,
          0.6,
          0,
          0.17314814814814816,
          -0.06666666666666667,
          0.3333333333333333,
          0,
          0.25,
          0.11818181818181818,
          0.13636363636363635,
          0,
          0.13636363636363635,
          0.25,
          0,
          -0.125,
          0.5,
          0.21875,
          0,
          0.3416666666666667,
          0,
          0,
          -0.024999999999999994,
          0.5,
          0.6,
          0.39999999999999997,
          0,
          0.8,
          0,
          0.16666666666666666,
          0,
          0.25,
          0.015625,
          0.04545454545454545,
          0,
          0.26666666666666666,
          -0.02453703703703704,
          0.5,
          0.005681818181818177,
          0.25,
          0.19999999999999998,
          0.1765151515151515,
          0,
          0.05,
          0.07857142857142857,
          0.25,
          0,
          0.39285714285714285,
          0,
          0,
          0,
          0.22537878787878787,
          0,
          0,
          0.45,
          -0.02777777777777779,
          0,
          0.2619047619047619,
          0,
          -0.05625,
          0.35,
          0.5,
          0,
          0.5,
          0.1278409090909091,
          0,
          0.7,
          0.39999999999999997,
          0,
          0.043750000000000004,
          0.5,
          0.4,
          0.35,
          0.2333333333333333,
          0.2857142857142857,
          -0.1875,
          0,
          0,
          0,
          0.26666666666666666,
          0.4333333333333333,
          0,
          0.15,
          0,
          0,
          0.17272727272727273,
          1,
          0.16666666666666669,
          0.15000000000000002,
          0,
          -0.020833333333333343,
          0,
          0.21103896103896103,
          0.05,
          0.4,
          0.16666666666666666,
          0.03409090909090909,
          0,
          0.3,
          0.37878787878787873,
          0.04545454545454545,
          0,
          0.3333333333333333,
          0.5,
          0.25,
          0.3090909090909091,
          0.1,
          0.17777777777777778,
          0.2333333333333333,
          0.5,
          0.25,
          0.42083333333333334,
          0.4,
          -0.16666666666666666,
          0.6,
          0.2,
          0.55,
          0,
          0,
          0.05714285714285714,
          0.5166666666666667,
          0.2333333333333333,
          0,
          -0.2777777777777778,
          0.35,
          0.375,
          0.4431818181818182,
          0.7166666666666667,
          0,
          0,
          0.55,
          0,
          -0.25,
          0.5,
          0.425,
          0,
          0.8,
          0,
          -0.5,
          0,
          0.6,
          0,
          0.7,
          0.5,
          0,
          0.25,
          0.35,
          0.4,
          0.4,
          0,
          0,
          0,
          0,
          0,
          -0.0625,
          0.07142857142857142,
          0,
          0,
          0.6,
          0,
          0.3333333333333333,
          0.5,
          0.5,
          0,
          0,
          0.4375,
          0,
          0,
          0,
          0,
          0.6,
          0,
          0,
          0,
          -0.125,
          0.5,
          -0.05,
          0,
          -0.16666666666666666,
          0.04722222222222221,
          0,
          -0.07500000000000001,
          0.125,
          0.21666666666666665,
          0,
          0.25757575757575757,
          0.26454545454545453,
          0.7,
          0.225,
          0,
          0.5,
          0.25,
          0,
          0,
          -0.16666666666666666,
          0,
          0,
          0.45,
          0,
          0,
          0.125,
          0.5,
          0.1787878787878788,
          0.13636363636363635,
          0.14444444444444443,
          0,
          0,
          0.85,
          -0.5,
          0.35,
          0,
          0,
          0,
          0.27499999999999997,
          0.8,
          0.13636363636363635,
          0.05,
          0,
          0,
          0,
          0.125,
          0.19999999999999998,
          0.1,
          0.5,
          0,
          0.85,
          0.1,
          0.35,
          0.5833333333333333,
          0.11666666666666665,
          0,
          0.1,
          0,
          0.19374999999999998,
          -0.10000000000000002,
          -0.35,
          0,
          0.1590909090909091,
          0.16666666666666666,
          0,
          -0.3499999999999999,
          -0.16666666666666666,
          0,
          0.175,
          -0.033333333333333326,
          0.21393939393939393,
          0.7,
          0.47142857142857136,
          0.6416666666666666,
          0.4642857142857143,
          0.5,
          0.30000000000000004,
          0,
          0.5,
          0.25,
          0.10000000000000002,
          0,
          0.06818181818181818,
          0.25,
          0.85,
          0.30000000000000004,
          0.25,
          0,
          0.35,
          0,
          0,
          0.3,
          0,
          0,
          -0.08055555555555556,
          -0.027777777777777776,
          0.5,
          0.07314814814814814,
          0.5,
          -0.16527777777777777,
          0.6,
          0.1965909090909091,
          0.3,
          0,
          0.4666666666666666,
          0,
          0,
          0,
          0.05,
          0.1,
          0.1,
          0.025,
          0.1,
          0,
          0,
          0,
          0,
          0,
          0.00416666666666667,
          0,
          0,
          0,
          -0.10740740740740741,
          0.08333333333333333,
          0.13636363636363635,
          0,
          0,
          0.25,
          0,
          0,
          0,
          0,
          0,
          0.05,
          0.4333333333333333,
          -0.16666666666666666,
          0,
          0,
          0.26,
          0
         ],
         "yaxis": "y"
        }
       ],
       "layout": {
        "legend": {
         "tracegroupgap": 0
        },
        "template": {
         "data": {
          "bar": [
           {
            "error_x": {
             "color": "#2a3f5f"
            },
            "error_y": {
             "color": "#2a3f5f"
            },
            "marker": {
             "line": {
              "color": "#E5ECF6",
              "width": 0.5
             },
             "pattern": {
              "fillmode": "overlay",
              "size": 10,
              "solidity": 0.2
             }
            },
            "type": "bar"
           }
          ],
          "barpolar": [
           {
            "marker": {
             "line": {
              "color": "#E5ECF6",
              "width": 0.5
             },
             "pattern": {
              "fillmode": "overlay",
              "size": 10,
              "solidity": 0.2
             }
            },
            "type": "barpolar"
           }
          ],
          "carpet": [
           {
            "aaxis": {
             "endlinecolor": "#2a3f5f",
             "gridcolor": "white",
             "linecolor": "white",
             "minorgridcolor": "white",
             "startlinecolor": "#2a3f5f"
            },
            "baxis": {
             "endlinecolor": "#2a3f5f",
             "gridcolor": "white",
             "linecolor": "white",
             "minorgridcolor": "white",
             "startlinecolor": "#2a3f5f"
            },
            "type": "carpet"
           }
          ],
          "choropleth": [
           {
            "colorbar": {
             "outlinewidth": 0,
             "ticks": ""
            },
            "type": "choropleth"
           }
          ],
          "contour": [
           {
            "colorbar": {
             "outlinewidth": 0,
             "ticks": ""
            },
            "colorscale": [
             [
              0,
              "#0d0887"
             ],
             [
              0.1111111111111111,
              "#46039f"
             ],
             [
              0.2222222222222222,
              "#7201a8"
             ],
             [
              0.3333333333333333,
              "#9c179e"
             ],
             [
              0.4444444444444444,
              "#bd3786"
             ],
             [
              0.5555555555555556,
              "#d8576b"
             ],
             [
              0.6666666666666666,
              "#ed7953"
             ],
             [
              0.7777777777777778,
              "#fb9f3a"
             ],
             [
              0.8888888888888888,
              "#fdca26"
             ],
             [
              1,
              "#f0f921"
             ]
            ],
            "type": "contour"
           }
          ],
          "contourcarpet": [
           {
            "colorbar": {
             "outlinewidth": 0,
             "ticks": ""
            },
            "type": "contourcarpet"
           }
          ],
          "heatmap": [
           {
            "colorbar": {
             "outlinewidth": 0,
             "ticks": ""
            },
            "colorscale": [
             [
              0,
              "#0d0887"
             ],
             [
              0.1111111111111111,
              "#46039f"
             ],
             [
              0.2222222222222222,
              "#7201a8"
             ],
             [
              0.3333333333333333,
              "#9c179e"
             ],
             [
              0.4444444444444444,
              "#bd3786"
             ],
             [
              0.5555555555555556,
              "#d8576b"
             ],
             [
              0.6666666666666666,
              "#ed7953"
             ],
             [
              0.7777777777777778,
              "#fb9f3a"
             ],
             [
              0.8888888888888888,
              "#fdca26"
             ],
             [
              1,
              "#f0f921"
             ]
            ],
            "type": "heatmap"
           }
          ],
          "heatmapgl": [
           {
            "colorbar": {
             "outlinewidth": 0,
             "ticks": ""
            },
            "colorscale": [
             [
              0,
              "#0d0887"
             ],
             [
              0.1111111111111111,
              "#46039f"
             ],
             [
              0.2222222222222222,
              "#7201a8"
             ],
             [
              0.3333333333333333,
              "#9c179e"
             ],
             [
              0.4444444444444444,
              "#bd3786"
             ],
             [
              0.5555555555555556,
              "#d8576b"
             ],
             [
              0.6666666666666666,
              "#ed7953"
             ],
             [
              0.7777777777777778,
              "#fb9f3a"
             ],
             [
              0.8888888888888888,
              "#fdca26"
             ],
             [
              1,
              "#f0f921"
             ]
            ],
            "type": "heatmapgl"
           }
          ],
          "histogram": [
           {
            "marker": {
             "pattern": {
              "fillmode": "overlay",
              "size": 10,
              "solidity": 0.2
             }
            },
            "type": "histogram"
           }
          ],
          "histogram2d": [
           {
            "colorbar": {
             "outlinewidth": 0,
             "ticks": ""
            },
            "colorscale": [
             [
              0,
              "#0d0887"
             ],
             [
              0.1111111111111111,
              "#46039f"
             ],
             [
              0.2222222222222222,
              "#7201a8"
             ],
             [
              0.3333333333333333,
              "#9c179e"
             ],
             [
              0.4444444444444444,
              "#bd3786"
             ],
             [
              0.5555555555555556,
              "#d8576b"
             ],
             [
              0.6666666666666666,
              "#ed7953"
             ],
             [
              0.7777777777777778,
              "#fb9f3a"
             ],
             [
              0.8888888888888888,
              "#fdca26"
             ],
             [
              1,
              "#f0f921"
             ]
            ],
            "type": "histogram2d"
           }
          ],
          "histogram2dcontour": [
           {
            "colorbar": {
             "outlinewidth": 0,
             "ticks": ""
            },
            "colorscale": [
             [
              0,
              "#0d0887"
             ],
             [
              0.1111111111111111,
              "#46039f"
             ],
             [
              0.2222222222222222,
              "#7201a8"
             ],
             [
              0.3333333333333333,
              "#9c179e"
             ],
             [
              0.4444444444444444,
              "#bd3786"
             ],
             [
              0.5555555555555556,
              "#d8576b"
             ],
             [
              0.6666666666666666,
              "#ed7953"
             ],
             [
              0.7777777777777778,
              "#fb9f3a"
             ],
             [
              0.8888888888888888,
              "#fdca26"
             ],
             [
              1,
              "#f0f921"
             ]
            ],
            "type": "histogram2dcontour"
           }
          ],
          "mesh3d": [
           {
            "colorbar": {
             "outlinewidth": 0,
             "ticks": ""
            },
            "type": "mesh3d"
           }
          ],
          "parcoords": [
           {
            "line": {
             "colorbar": {
              "outlinewidth": 0,
              "ticks": ""
             }
            },
            "type": "parcoords"
           }
          ],
          "pie": [
           {
            "automargin": true,
            "type": "pie"
           }
          ],
          "scatter": [
           {
            "fillpattern": {
             "fillmode": "overlay",
             "size": 10,
             "solidity": 0.2
            },
            "type": "scatter"
           }
          ],
          "scatter3d": [
           {
            "line": {
             "colorbar": {
              "outlinewidth": 0,
              "ticks": ""
             }
            },
            "marker": {
             "colorbar": {
              "outlinewidth": 0,
              "ticks": ""
             }
            },
            "type": "scatter3d"
           }
          ],
          "scattercarpet": [
           {
            "marker": {
             "colorbar": {
              "outlinewidth": 0,
              "ticks": ""
             }
            },
            "type": "scattercarpet"
           }
          ],
          "scattergeo": [
           {
            "marker": {
             "colorbar": {
              "outlinewidth": 0,
              "ticks": ""
             }
            },
            "type": "scattergeo"
           }
          ],
          "scattergl": [
           {
            "marker": {
             "colorbar": {
              "outlinewidth": 0,
              "ticks": ""
             }
            },
            "type": "scattergl"
           }
          ],
          "scattermapbox": [
           {
            "marker": {
             "colorbar": {
              "outlinewidth": 0,
              "ticks": ""
             }
            },
            "type": "scattermapbox"
           }
          ],
          "scatterpolar": [
           {
            "marker": {
             "colorbar": {
              "outlinewidth": 0,
              "ticks": ""
             }
            },
            "type": "scatterpolar"
           }
          ],
          "scatterpolargl": [
           {
            "marker": {
             "colorbar": {
              "outlinewidth": 0,
              "ticks": ""
             }
            },
            "type": "scatterpolargl"
           }
          ],
          "scatterternary": [
           {
            "marker": {
             "colorbar": {
              "outlinewidth": 0,
              "ticks": ""
             }
            },
            "type": "scatterternary"
           }
          ],
          "surface": [
           {
            "colorbar": {
             "outlinewidth": 0,
             "ticks": ""
            },
            "colorscale": [
             [
              0,
              "#0d0887"
             ],
             [
              0.1111111111111111,
              "#46039f"
             ],
             [
              0.2222222222222222,
              "#7201a8"
             ],
             [
              0.3333333333333333,
              "#9c179e"
             ],
             [
              0.4444444444444444,
              "#bd3786"
             ],
             [
              0.5555555555555556,
              "#d8576b"
             ],
             [
              0.6666666666666666,
              "#ed7953"
             ],
             [
              0.7777777777777778,
              "#fb9f3a"
             ],
             [
              0.8888888888888888,
              "#fdca26"
             ],
             [
              1,
              "#f0f921"
             ]
            ],
            "type": "surface"
           }
          ],
          "table": [
           {
            "cells": {
             "fill": {
              "color": "#EBF0F8"
             },
             "line": {
              "color": "white"
             }
            },
            "header": {
             "fill": {
              "color": "#C8D4E3"
             },
             "line": {
              "color": "white"
             }
            },
            "type": "table"
           }
          ]
         },
         "layout": {
          "annotationdefaults": {
           "arrowcolor": "#2a3f5f",
           "arrowhead": 0,
           "arrowwidth": 1
          },
          "autotypenumbers": "strict",
          "coloraxis": {
           "colorbar": {
            "outlinewidth": 0,
            "ticks": ""
           }
          },
          "colorscale": {
           "diverging": [
            [
             0,
             "#8e0152"
            ],
            [
             0.1,
             "#c51b7d"
            ],
            [
             0.2,
             "#de77ae"
            ],
            [
             0.3,
             "#f1b6da"
            ],
            [
             0.4,
             "#fde0ef"
            ],
            [
             0.5,
             "#f7f7f7"
            ],
            [
             0.6,
             "#e6f5d0"
            ],
            [
             0.7,
             "#b8e186"
            ],
            [
             0.8,
             "#7fbc41"
            ],
            [
             0.9,
             "#4d9221"
            ],
            [
             1,
             "#276419"
            ]
           ],
           "sequential": [
            [
             0,
             "#0d0887"
            ],
            [
             0.1111111111111111,
             "#46039f"
            ],
            [
             0.2222222222222222,
             "#7201a8"
            ],
            [
             0.3333333333333333,
             "#9c179e"
            ],
            [
             0.4444444444444444,
             "#bd3786"
            ],
            [
             0.5555555555555556,
             "#d8576b"
            ],
            [
             0.6666666666666666,
             "#ed7953"
            ],
            [
             0.7777777777777778,
             "#fb9f3a"
            ],
            [
             0.8888888888888888,
             "#fdca26"
            ],
            [
             1,
             "#f0f921"
            ]
           ],
           "sequentialminus": [
            [
             0,
             "#0d0887"
            ],
            [
             0.1111111111111111,
             "#46039f"
            ],
            [
             0.2222222222222222,
             "#7201a8"
            ],
            [
             0.3333333333333333,
             "#9c179e"
            ],
            [
             0.4444444444444444,
             "#bd3786"
            ],
            [
             0.5555555555555556,
             "#d8576b"
            ],
            [
             0.6666666666666666,
             "#ed7953"
            ],
            [
             0.7777777777777778,
             "#fb9f3a"
            ],
            [
             0.8888888888888888,
             "#fdca26"
            ],
            [
             1,
             "#f0f921"
            ]
           ]
          },
          "colorway": [
           "#636efa",
           "#EF553B",
           "#00cc96",
           "#ab63fa",
           "#FFA15A",
           "#19d3f3",
           "#FF6692",
           "#B6E880",
           "#FF97FF",
           "#FECB52"
          ],
          "font": {
           "color": "#2a3f5f"
          },
          "geo": {
           "bgcolor": "white",
           "lakecolor": "white",
           "landcolor": "#E5ECF6",
           "showlakes": true,
           "showland": true,
           "subunitcolor": "white"
          },
          "hoverlabel": {
           "align": "left"
          },
          "hovermode": "closest",
          "mapbox": {
           "style": "light"
          },
          "paper_bgcolor": "white",
          "plot_bgcolor": "#E5ECF6",
          "polar": {
           "angularaxis": {
            "gridcolor": "white",
            "linecolor": "white",
            "ticks": ""
           },
           "bgcolor": "#E5ECF6",
           "radialaxis": {
            "gridcolor": "white",
            "linecolor": "white",
            "ticks": ""
           }
          },
          "scene": {
           "xaxis": {
            "backgroundcolor": "#E5ECF6",
            "gridcolor": "white",
            "gridwidth": 2,
            "linecolor": "white",
            "showbackground": true,
            "ticks": "",
            "zerolinecolor": "white"
           },
           "yaxis": {
            "backgroundcolor": "#E5ECF6",
            "gridcolor": "white",
            "gridwidth": 2,
            "linecolor": "white",
            "showbackground": true,
            "ticks": "",
            "zerolinecolor": "white"
           },
           "zaxis": {
            "backgroundcolor": "#E5ECF6",
            "gridcolor": "white",
            "gridwidth": 2,
            "linecolor": "white",
            "showbackground": true,
            "ticks": "",
            "zerolinecolor": "white"
           }
          },
          "shapedefaults": {
           "line": {
            "color": "#2a3f5f"
           }
          },
          "ternary": {
           "aaxis": {
            "gridcolor": "white",
            "linecolor": "white",
            "ticks": ""
           },
           "baxis": {
            "gridcolor": "white",
            "linecolor": "white",
            "ticks": ""
           },
           "bgcolor": "#E5ECF6",
           "caxis": {
            "gridcolor": "white",
            "linecolor": "white",
            "ticks": ""
           }
          },
          "title": {
           "x": 0.05
          },
          "xaxis": {
           "automargin": true,
           "gridcolor": "white",
           "linecolor": "white",
           "ticks": "",
           "title": {
            "standoff": 15
           },
           "zerolinecolor": "white",
           "zerolinewidth": 2
          },
          "yaxis": {
           "automargin": true,
           "gridcolor": "white",
           "linecolor": "white",
           "ticks": "",
           "title": {
            "standoff": 15
           },
           "zerolinecolor": "white",
           "zerolinewidth": 2
          }
         }
        },
        "title": {
         "text": "TextBlob polarity: 2015 African Union speech"
        },
        "xaxis": {
         "anchor": "y",
         "domain": [
          0,
          1
         ],
         "title": {
          "text": "index"
         }
        },
        "yaxis": {
         "anchor": "x",
         "domain": [
          0,
          1
         ],
         "title": {
          "text": "polarity"
         }
        }
       }
      },
      "text/html": [
       "<div>                            <div id=\"2cf85a6a-10fe-455a-bdc1-1f6a3507213a\" class=\"plotly-graph-div\" style=\"height:525px; width:100%;\"></div>            <script type=\"text/javascript\">                require([\"plotly\"], function(Plotly) {                    window.PLOTLYENV=window.PLOTLYENV || {};                                    if (document.getElementById(\"2cf85a6a-10fe-455a-bdc1-1f6a3507213a\")) {                    Plotly.newPlot(                        \"2cf85a6a-10fe-455a-bdc1-1f6a3507213a\",                        [{\"hovertemplate\":\"index=%{x}<br>polarity=%{y}<extra></extra>\",\"legendgroup\":\"\",\"line\":{\"color\":\"#636efa\",\"dash\":\"solid\"},\"marker\":{\"symbol\":\"circle\"},\"mode\":\"lines\",\"name\":\"\",\"orientation\":\"v\",\"showlegend\":false,\"x\":[0,1,2,3,4,5,6,7,8,9,10,11,12,13,14,15,16,17,18,19,20,21,22,23,24,25,26,27,28,29,30,31,32,33,34,35,36,37,38,39,40,41,42,43,44,45,46,47,48,49,50,51,52,53,54,55,56,57,58,59,60,61,62,63,64,65,66,67,68,69,70,71,72,73,74,75,76,77,78,79,80,81,82,83,84,85,86,87,88,89,90,91,92,93,94,95,96,97,98,99,100,101,102,103,104,105,106,107,108,109,110,111,112,113,114,115,116,117,118,119,120,121,122,123,124,125,126,127,128,129,130,131,132,133,134,135,136,137,138,139,140,141,142,143,144,145,146,147,148,149,150,151,152,153,154,155,156,157,158,159,160,161,162,163,164,165,166,167,168,169,170,171,172,173,174,175,176,177,178,179,180,181,182,183,184,185,186,187,188,189,190,191,192,193,194,195,196,197,198,199,200,201,202,203,204,205,206,207,208,209,210,211,212,213,214,215,216,217,218,219,220,221,222,223,224,225,226,227,228,229,230,231,232,233,234,235,236,237,238,239,240,241,242,243,244,245,246,247,248,249,250,251,252,253,254,255,256,257,258,259,260,261,262,263,264,265,266,267,268,269,270,271,272,273,274,275,276,277,278,279,280,281,282,283,284,285,286,287,288,289,290,291,292,293,294,295,296,297,298,299,300,301,302,303,304,305,306,307,308,309,310,311,312,313,314,315,316,317,318,319,320,321,322,323,324,325,326,327,328,329,330,331,332,333,334,335,336,337,338,339,340,341,342],\"xaxis\":\"x\",\"y\":[0.0,0.2,0.4,1.0,0.0,0.35000000000000003,0.43333333333333335,0.5333333333333333,0.0,0.0,0.4,0.0,0.8,0.0,0.0,0.16666666666666666,0.0,-0.125,0.15,-0.09999999999999999,0.3,0.0,0.0,0.2,-0.8,0.25,0.0,0.0,0.4,-0.5,0.6,0.0,0.17314814814814816,-0.06666666666666667,0.3333333333333333,0.0,0.25,0.11818181818181818,0.13636363636363635,0.0,0.13636363636363635,0.25,0.0,-0.125,0.5,0.21875,0.0,0.3416666666666667,0.0,0.0,-0.024999999999999994,0.5,0.6,0.39999999999999997,0.0,0.8,0.0,0.16666666666666666,0.0,0.25,0.015625,0.04545454545454545,0.0,0.26666666666666666,-0.02453703703703704,0.5,0.005681818181818177,0.25,0.19999999999999998,0.1765151515151515,0.0,0.05,0.07857142857142857,0.25,0.0,0.39285714285714285,0.0,0.0,0.0,0.22537878787878787,0.0,0.0,0.45,-0.02777777777777779,0.0,0.2619047619047619,0.0,-0.05625,0.35,0.5,0.0,0.5,0.1278409090909091,0.0,0.7,0.39999999999999997,0.0,0.043750000000000004,0.5,0.4,0.35,0.2333333333333333,0.2857142857142857,-0.1875,0.0,0.0,0.0,0.26666666666666666,0.4333333333333333,0.0,0.15,0.0,0.0,0.17272727272727273,1.0,0.16666666666666669,0.15000000000000002,0.0,-0.020833333333333343,0.0,0.21103896103896103,0.05,0.4,0.16666666666666666,0.03409090909090909,0.0,0.3,0.37878787878787873,0.04545454545454545,0.0,0.3333333333333333,0.5,0.25,0.3090909090909091,0.1,0.17777777777777778,0.2333333333333333,0.5,0.25,0.42083333333333334,0.4,-0.16666666666666666,0.6,0.2,0.55,0.0,0.0,0.05714285714285714,0.5166666666666667,0.2333333333333333,0.0,-0.2777777777777778,0.35,0.375,0.4431818181818182,0.7166666666666667,0.0,0.0,0.55,0.0,-0.25,0.5,0.425,0.0,0.8,0.0,-0.5,0.0,0.6,0.0,0.7,0.5,0.0,0.25,0.35,0.4,0.4,0.0,0.0,0.0,0.0,0.0,-0.0625,0.07142857142857142,0.0,0.0,0.6,0.0,0.3333333333333333,0.5,0.5,0.0,0.0,0.4375,0.0,0.0,0.0,0.0,0.6,0.0,0.0,0.0,-0.125,0.5,-0.05,0.0,-0.16666666666666666,0.04722222222222221,0.0,-0.07500000000000001,0.125,0.21666666666666665,0.0,0.25757575757575757,0.26454545454545453,0.7,0.225,0.0,0.5,0.25,0.0,0.0,-0.16666666666666666,0.0,0.0,0.45,0.0,0.0,0.125,0.5,0.1787878787878788,0.13636363636363635,0.14444444444444443,0.0,0.0,0.85,-0.5,0.35,0.0,0.0,0.0,0.27499999999999997,0.8,0.13636363636363635,0.05,0.0,0.0,0.0,0.125,0.19999999999999998,0.1,0.5,0.0,0.85,0.1,0.35,0.5833333333333333,0.11666666666666665,0.0,0.1,0.0,0.19374999999999998,-0.10000000000000002,-0.35,0.0,0.1590909090909091,0.16666666666666666,0.0,-0.3499999999999999,-0.16666666666666666,0.0,0.175,-0.033333333333333326,0.21393939393939393,0.7,0.47142857142857136,0.6416666666666666,0.4642857142857143,0.5,0.30000000000000004,0.0,0.5,0.25,0.10000000000000002,0.0,0.06818181818181818,0.25,0.85,0.30000000000000004,0.25,0.0,0.35,0.0,0.0,0.3,0.0,0.0,-0.08055555555555556,-0.027777777777777776,0.5,0.07314814814814814,0.5,-0.16527777777777777,0.6,0.1965909090909091,0.3,0.0,0.4666666666666666,0.0,0.0,0.0,0.05,0.1,0.1,0.025,0.1,0.0,0.0,0.0,0.0,0.0,0.00416666666666667,0.0,0.0,0.0,-0.10740740740740741,0.08333333333333333,0.13636363636363635,0.0,0.0,0.25,0.0,0.0,0.0,0.0,0.0,0.05,0.4333333333333333,-0.16666666666666666,0.0,0.0,0.26,0.0],\"yaxis\":\"y\",\"type\":\"scatter\"}],                        {\"template\":{\"data\":{\"histogram2dcontour\":[{\"type\":\"histogram2dcontour\",\"colorbar\":{\"outlinewidth\":0,\"ticks\":\"\"},\"colorscale\":[[0.0,\"#0d0887\"],[0.1111111111111111,\"#46039f\"],[0.2222222222222222,\"#7201a8\"],[0.3333333333333333,\"#9c179e\"],[0.4444444444444444,\"#bd3786\"],[0.5555555555555556,\"#d8576b\"],[0.6666666666666666,\"#ed7953\"],[0.7777777777777778,\"#fb9f3a\"],[0.8888888888888888,\"#fdca26\"],[1.0,\"#f0f921\"]]}],\"choropleth\":[{\"type\":\"choropleth\",\"colorbar\":{\"outlinewidth\":0,\"ticks\":\"\"}}],\"histogram2d\":[{\"type\":\"histogram2d\",\"colorbar\":{\"outlinewidth\":0,\"ticks\":\"\"},\"colorscale\":[[0.0,\"#0d0887\"],[0.1111111111111111,\"#46039f\"],[0.2222222222222222,\"#7201a8\"],[0.3333333333333333,\"#9c179e\"],[0.4444444444444444,\"#bd3786\"],[0.5555555555555556,\"#d8576b\"],[0.6666666666666666,\"#ed7953\"],[0.7777777777777778,\"#fb9f3a\"],[0.8888888888888888,\"#fdca26\"],[1.0,\"#f0f921\"]]}],\"heatmap\":[{\"type\":\"heatmap\",\"colorbar\":{\"outlinewidth\":0,\"ticks\":\"\"},\"colorscale\":[[0.0,\"#0d0887\"],[0.1111111111111111,\"#46039f\"],[0.2222222222222222,\"#7201a8\"],[0.3333333333333333,\"#9c179e\"],[0.4444444444444444,\"#bd3786\"],[0.5555555555555556,\"#d8576b\"],[0.6666666666666666,\"#ed7953\"],[0.7777777777777778,\"#fb9f3a\"],[0.8888888888888888,\"#fdca26\"],[1.0,\"#f0f921\"]]}],\"heatmapgl\":[{\"type\":\"heatmapgl\",\"colorbar\":{\"outlinewidth\":0,\"ticks\":\"\"},\"colorscale\":[[0.0,\"#0d0887\"],[0.1111111111111111,\"#46039f\"],[0.2222222222222222,\"#7201a8\"],[0.3333333333333333,\"#9c179e\"],[0.4444444444444444,\"#bd3786\"],[0.5555555555555556,\"#d8576b\"],[0.6666666666666666,\"#ed7953\"],[0.7777777777777778,\"#fb9f3a\"],[0.8888888888888888,\"#fdca26\"],[1.0,\"#f0f921\"]]}],\"contourcarpet\":[{\"type\":\"contourcarpet\",\"colorbar\":{\"outlinewidth\":0,\"ticks\":\"\"}}],\"contour\":[{\"type\":\"contour\",\"colorbar\":{\"outlinewidth\":0,\"ticks\":\"\"},\"colorscale\":[[0.0,\"#0d0887\"],[0.1111111111111111,\"#46039f\"],[0.2222222222222222,\"#7201a8\"],[0.3333333333333333,\"#9c179e\"],[0.4444444444444444,\"#bd3786\"],[0.5555555555555556,\"#d8576b\"],[0.6666666666666666,\"#ed7953\"],[0.7777777777777778,\"#fb9f3a\"],[0.8888888888888888,\"#fdca26\"],[1.0,\"#f0f921\"]]}],\"surface\":[{\"type\":\"surface\",\"colorbar\":{\"outlinewidth\":0,\"ticks\":\"\"},\"colorscale\":[[0.0,\"#0d0887\"],[0.1111111111111111,\"#46039f\"],[0.2222222222222222,\"#7201a8\"],[0.3333333333333333,\"#9c179e\"],[0.4444444444444444,\"#bd3786\"],[0.5555555555555556,\"#d8576b\"],[0.6666666666666666,\"#ed7953\"],[0.7777777777777778,\"#fb9f3a\"],[0.8888888888888888,\"#fdca26\"],[1.0,\"#f0f921\"]]}],\"mesh3d\":[{\"type\":\"mesh3d\",\"colorbar\":{\"outlinewidth\":0,\"ticks\":\"\"}}],\"scatter\":[{\"fillpattern\":{\"fillmode\":\"overlay\",\"size\":10,\"solidity\":0.2},\"type\":\"scatter\"}],\"parcoords\":[{\"type\":\"parcoords\",\"line\":{\"colorbar\":{\"outlinewidth\":0,\"ticks\":\"\"}}}],\"scatterpolargl\":[{\"type\":\"scatterpolargl\",\"marker\":{\"colorbar\":{\"outlinewidth\":0,\"ticks\":\"\"}}}],\"bar\":[{\"error_x\":{\"color\":\"#2a3f5f\"},\"error_y\":{\"color\":\"#2a3f5f\"},\"marker\":{\"line\":{\"color\":\"#E5ECF6\",\"width\":0.5},\"pattern\":{\"fillmode\":\"overlay\",\"size\":10,\"solidity\":0.2}},\"type\":\"bar\"}],\"scattergeo\":[{\"type\":\"scattergeo\",\"marker\":{\"colorbar\":{\"outlinewidth\":0,\"ticks\":\"\"}}}],\"scatterpolar\":[{\"type\":\"scatterpolar\",\"marker\":{\"colorbar\":{\"outlinewidth\":0,\"ticks\":\"\"}}}],\"histogram\":[{\"marker\":{\"pattern\":{\"fillmode\":\"overlay\",\"size\":10,\"solidity\":0.2}},\"type\":\"histogram\"}],\"scattergl\":[{\"type\":\"scattergl\",\"marker\":{\"colorbar\":{\"outlinewidth\":0,\"ticks\":\"\"}}}],\"scatter3d\":[{\"type\":\"scatter3d\",\"line\":{\"colorbar\":{\"outlinewidth\":0,\"ticks\":\"\"}},\"marker\":{\"colorbar\":{\"outlinewidth\":0,\"ticks\":\"\"}}}],\"scattermapbox\":[{\"type\":\"scattermapbox\",\"marker\":{\"colorbar\":{\"outlinewidth\":0,\"ticks\":\"\"}}}],\"scatterternary\":[{\"type\":\"scatterternary\",\"marker\":{\"colorbar\":{\"outlinewidth\":0,\"ticks\":\"\"}}}],\"scattercarpet\":[{\"type\":\"scattercarpet\",\"marker\":{\"colorbar\":{\"outlinewidth\":0,\"ticks\":\"\"}}}],\"carpet\":[{\"aaxis\":{\"endlinecolor\":\"#2a3f5f\",\"gridcolor\":\"white\",\"linecolor\":\"white\",\"minorgridcolor\":\"white\",\"startlinecolor\":\"#2a3f5f\"},\"baxis\":{\"endlinecolor\":\"#2a3f5f\",\"gridcolor\":\"white\",\"linecolor\":\"white\",\"minorgridcolor\":\"white\",\"startlinecolor\":\"#2a3f5f\"},\"type\":\"carpet\"}],\"table\":[{\"cells\":{\"fill\":{\"color\":\"#EBF0F8\"},\"line\":{\"color\":\"white\"}},\"header\":{\"fill\":{\"color\":\"#C8D4E3\"},\"line\":{\"color\":\"white\"}},\"type\":\"table\"}],\"barpolar\":[{\"marker\":{\"line\":{\"color\":\"#E5ECF6\",\"width\":0.5},\"pattern\":{\"fillmode\":\"overlay\",\"size\":10,\"solidity\":0.2}},\"type\":\"barpolar\"}],\"pie\":[{\"automargin\":true,\"type\":\"pie\"}]},\"layout\":{\"autotypenumbers\":\"strict\",\"colorway\":[\"#636efa\",\"#EF553B\",\"#00cc96\",\"#ab63fa\",\"#FFA15A\",\"#19d3f3\",\"#FF6692\",\"#B6E880\",\"#FF97FF\",\"#FECB52\"],\"font\":{\"color\":\"#2a3f5f\"},\"hovermode\":\"closest\",\"hoverlabel\":{\"align\":\"left\"},\"paper_bgcolor\":\"white\",\"plot_bgcolor\":\"#E5ECF6\",\"polar\":{\"bgcolor\":\"#E5ECF6\",\"angularaxis\":{\"gridcolor\":\"white\",\"linecolor\":\"white\",\"ticks\":\"\"},\"radialaxis\":{\"gridcolor\":\"white\",\"linecolor\":\"white\",\"ticks\":\"\"}},\"ternary\":{\"bgcolor\":\"#E5ECF6\",\"aaxis\":{\"gridcolor\":\"white\",\"linecolor\":\"white\",\"ticks\":\"\"},\"baxis\":{\"gridcolor\":\"white\",\"linecolor\":\"white\",\"ticks\":\"\"},\"caxis\":{\"gridcolor\":\"white\",\"linecolor\":\"white\",\"ticks\":\"\"}},\"coloraxis\":{\"colorbar\":{\"outlinewidth\":0,\"ticks\":\"\"}},\"colorscale\":{\"sequential\":[[0.0,\"#0d0887\"],[0.1111111111111111,\"#46039f\"],[0.2222222222222222,\"#7201a8\"],[0.3333333333333333,\"#9c179e\"],[0.4444444444444444,\"#bd3786\"],[0.5555555555555556,\"#d8576b\"],[0.6666666666666666,\"#ed7953\"],[0.7777777777777778,\"#fb9f3a\"],[0.8888888888888888,\"#fdca26\"],[1.0,\"#f0f921\"]],\"sequentialminus\":[[0.0,\"#0d0887\"],[0.1111111111111111,\"#46039f\"],[0.2222222222222222,\"#7201a8\"],[0.3333333333333333,\"#9c179e\"],[0.4444444444444444,\"#bd3786\"],[0.5555555555555556,\"#d8576b\"],[0.6666666666666666,\"#ed7953\"],[0.7777777777777778,\"#fb9f3a\"],[0.8888888888888888,\"#fdca26\"],[1.0,\"#f0f921\"]],\"diverging\":[[0,\"#8e0152\"],[0.1,\"#c51b7d\"],[0.2,\"#de77ae\"],[0.3,\"#f1b6da\"],[0.4,\"#fde0ef\"],[0.5,\"#f7f7f7\"],[0.6,\"#e6f5d0\"],[0.7,\"#b8e186\"],[0.8,\"#7fbc41\"],[0.9,\"#4d9221\"],[1,\"#276419\"]]},\"xaxis\":{\"gridcolor\":\"white\",\"linecolor\":\"white\",\"ticks\":\"\",\"title\":{\"standoff\":15},\"zerolinecolor\":\"white\",\"automargin\":true,\"zerolinewidth\":2},\"yaxis\":{\"gridcolor\":\"white\",\"linecolor\":\"white\",\"ticks\":\"\",\"title\":{\"standoff\":15},\"zerolinecolor\":\"white\",\"automargin\":true,\"zerolinewidth\":2},\"scene\":{\"xaxis\":{\"backgroundcolor\":\"#E5ECF6\",\"gridcolor\":\"white\",\"linecolor\":\"white\",\"showbackground\":true,\"ticks\":\"\",\"zerolinecolor\":\"white\",\"gridwidth\":2},\"yaxis\":{\"backgroundcolor\":\"#E5ECF6\",\"gridcolor\":\"white\",\"linecolor\":\"white\",\"showbackground\":true,\"ticks\":\"\",\"zerolinecolor\":\"white\",\"gridwidth\":2},\"zaxis\":{\"backgroundcolor\":\"#E5ECF6\",\"gridcolor\":\"white\",\"linecolor\":\"white\",\"showbackground\":true,\"ticks\":\"\",\"zerolinecolor\":\"white\",\"gridwidth\":2}},\"shapedefaults\":{\"line\":{\"color\":\"#2a3f5f\"}},\"annotationdefaults\":{\"arrowcolor\":\"#2a3f5f\",\"arrowhead\":0,\"arrowwidth\":1},\"geo\":{\"bgcolor\":\"white\",\"landcolor\":\"#E5ECF6\",\"subunitcolor\":\"white\",\"showland\":true,\"showlakes\":true,\"lakecolor\":\"white\"},\"title\":{\"x\":0.05},\"mapbox\":{\"style\":\"light\"}}},\"xaxis\":{\"anchor\":\"y\",\"domain\":[0.0,1.0],\"title\":{\"text\":\"index\"}},\"yaxis\":{\"anchor\":\"x\",\"domain\":[0.0,1.0],\"title\":{\"text\":\"polarity\"}},\"legend\":{\"tracegroupgap\":0},\"title\":{\"text\":\"TextBlob polarity: 2015 African Union speech\"}},                        {\"responsive\": true}                    ).then(function(){\n",
       "                            \n",
       "var gd = document.getElementById('2cf85a6a-10fe-455a-bdc1-1f6a3507213a');\n",
       "var x = new MutationObserver(function (mutations, observer) {{\n",
       "        var display = window.getComputedStyle(gd).display;\n",
       "        if (!display || display === 'none') {{\n",
       "            console.log([gd, 'removed!']);\n",
       "            Plotly.purge(gd);\n",
       "            observer.disconnect();\n",
       "        }}\n",
       "}});\n",
       "\n",
       "// Listen for the removal of the full notebook cells\n",
       "var notebookContainer = gd.closest('#notebook-container');\n",
       "if (notebookContainer) {{\n",
       "    x.observe(notebookContainer, {childList: true});\n",
       "}}\n",
       "\n",
       "// Listen for the clearing of the current output cell\n",
       "var outputEl = gd.closest('.output');\n",
       "if (outputEl) {{\n",
       "    x.observe(outputEl, {childList: true});\n",
       "}}\n",
       "\n",
       "                        })                };                });            </script>        </div>"
      ]
     },
     "metadata": {},
     "output_type": "display_data"
    }
   ],
   "source": [
    "plot_this= pd.DataFrame(allspeeches.loc[0:342, '2015-07-28'])\n",
    "fig = px.line(plot_this, x=plot_this.index, y=\"2015-07-28\",\n",
    "              labels={'2015-07-28':'polarity'},\n",
    "             title='TextBlob polarity: 2015 African Union speech')\n",
    "fig.show()"
   ]
  },
  {
   "cell_type": "code",
   "execution_count": 148,
   "id": "a42accdf",
   "metadata": {},
   "outputs": [],
   "source": [
    "fig.write_image(\"./plots/textblob_polarity_african_union_speech.png\", format='png', engine='kaleido')"
   ]
  },
  {
   "cell_type": "code",
   "execution_count": 120,
   "id": "c1d4d7aa",
   "metadata": {},
   "outputs": [
    {
     "data": {
      "text/plain": [
       "24    -0.80\n",
       "29    -0.50\n",
       "166   -0.50\n",
       "236   -0.50\n",
       "263   -0.35\n",
       "       ... \n",
       "287    0.85\n",
       "253    0.85\n",
       "235    0.85\n",
       "3      1.00\n",
       "114    1.00\n",
       "Name: 2015-07-28, Length: 428, dtype: float64"
      ]
     },
     "execution_count": 120,
     "metadata": {},
     "output_type": "execute_result"
    }
   ],
   "source": [
    "allspeeches['2015-07-28'].sort_values()"
   ]
  },
  {
   "cell_type": "code",
   "execution_count": 117,
   "id": "98b1238d",
   "metadata": {},
   "outputs": [
    {
     "data": {
      "text/plain": [
       "'Dignity was seen as a virtue reserved to those of rank and privilege, kings and elders.'"
      ]
     },
     "execution_count": 117,
     "metadata": {},
     "output_type": "execute_result"
    }
   ],
   "source": [
    "sent_tokenize(text_df.query('filepath==\"./Data/barackobamaafricancontinentreps.txt\"').text[0])[24]"
   ]
  },
  {
   "cell_type": "code",
   "execution_count": 122,
   "id": "81278f5a",
   "metadata": {},
   "outputs": [
    {
     "data": {
      "text/plain": [
       "'History shows that the nations that do best are the ones that invest in the education of their people.'"
      ]
     },
     "execution_count": 122,
     "metadata": {},
     "output_type": "execute_result"
    }
   ],
   "source": [
    "sent_tokenize(text_df.query('filepath==\"./Data/barackobamaafricancontinentreps.txt\"').text[0])[114]"
   ]
  },
  {
   "cell_type": "code",
   "execution_count": 200,
   "id": "5832e584",
   "metadata": {},
   "outputs": [],
   "source": [
    "text_df['nrc'] = [NRCLex(speech).affect_frequencies for speech in text_df.text]\n",
    "# remove 'anticip'\n",
    "for i, dct in enumerate(text_df.nrc):\n",
    "    dctn = dct.pop('anticip')\n",
    "    text_df.nrc.loc[i] = dct"
   ]
  },
  {
   "cell_type": "code",
   "execution_count": 204,
   "id": "d30bb7d9",
   "metadata": {},
   "outputs": [],
   "source": [
    "columns = ['fear', 'anger', 'trust', 'surprise', 'positive', 'negative',\n",
    "           'sadness', 'disgust', 'joy', 'anticipation']"
   ]
  },
  {
   "cell_type": "code",
   "execution_count": 216,
   "id": "b0bbbd09",
   "metadata": {},
   "outputs": [],
   "source": [
    "text_df[columns] = [list(dct.values()) for dct in text_df.nrc]"
   ]
  },
  {
   "cell_type": "code",
   "execution_count": 218,
   "id": "573dc519",
   "metadata": {},
   "outputs": [
    {
     "data": {
      "text/html": [
       "<div>\n",
       "<style scoped>\n",
       "    .dataframe tbody tr th:only-of-type {\n",
       "        vertical-align: middle;\n",
       "    }\n",
       "\n",
       "    .dataframe tbody tr th {\n",
       "        vertical-align: top;\n",
       "    }\n",
       "\n",
       "    .dataframe thead th {\n",
       "        text-align: right;\n",
       "    }\n",
       "</style>\n",
       "<table border=\"1\" class=\"dataframe\">\n",
       "  <thead>\n",
       "    <tr style=\"text-align: right;\">\n",
       "      <th></th>\n",
       "      <th>TBsubjectivity</th>\n",
       "      <th>TBpolarity</th>\n",
       "      <th>fear</th>\n",
       "      <th>anger</th>\n",
       "      <th>trust</th>\n",
       "      <th>surprise</th>\n",
       "      <th>positive</th>\n",
       "      <th>negative</th>\n",
       "      <th>sadness</th>\n",
       "      <th>disgust</th>\n",
       "      <th>joy</th>\n",
       "      <th>anticipation</th>\n",
       "    </tr>\n",
       "  </thead>\n",
       "  <tbody>\n",
       "    <tr>\n",
       "      <th>TBsubjectivity</th>\n",
       "      <td>1.000000</td>\n",
       "      <td>0.307927</td>\n",
       "      <td>-0.134265</td>\n",
       "      <td>-0.039109</td>\n",
       "      <td>0.024463</td>\n",
       "      <td>0.137095</td>\n",
       "      <td>-0.078407</td>\n",
       "      <td>-0.125458</td>\n",
       "      <td>0.044761</td>\n",
       "      <td>0.095737</td>\n",
       "      <td>0.298766</td>\n",
       "      <td>0.020468</td>\n",
       "    </tr>\n",
       "    <tr>\n",
       "      <th>TBpolarity</th>\n",
       "      <td>0.307927</td>\n",
       "      <td>1.000000</td>\n",
       "      <td>-0.513125</td>\n",
       "      <td>-0.503859</td>\n",
       "      <td>0.411718</td>\n",
       "      <td>0.290082</td>\n",
       "      <td>0.436460</td>\n",
       "      <td>-0.575041</td>\n",
       "      <td>-0.428331</td>\n",
       "      <td>-0.405011</td>\n",
       "      <td>0.552948</td>\n",
       "      <td>0.392072</td>\n",
       "    </tr>\n",
       "    <tr>\n",
       "      <th>fear</th>\n",
       "      <td>-0.134265</td>\n",
       "      <td>-0.513125</td>\n",
       "      <td>1.000000</td>\n",
       "      <td>0.714736</td>\n",
       "      <td>-0.552972</td>\n",
       "      <td>-0.366343</td>\n",
       "      <td>-0.620553</td>\n",
       "      <td>0.670347</td>\n",
       "      <td>0.387517</td>\n",
       "      <td>0.468183</td>\n",
       "      <td>-0.654472</td>\n",
       "      <td>-0.668047</td>\n",
       "    </tr>\n",
       "    <tr>\n",
       "      <th>anger</th>\n",
       "      <td>-0.039109</td>\n",
       "      <td>-0.503859</td>\n",
       "      <td>0.714736</td>\n",
       "      <td>1.000000</td>\n",
       "      <td>-0.631280</td>\n",
       "      <td>-0.279816</td>\n",
       "      <td>-0.714942</td>\n",
       "      <td>0.716355</td>\n",
       "      <td>0.499507</td>\n",
       "      <td>0.579551</td>\n",
       "      <td>-0.600012</td>\n",
       "      <td>-0.622592</td>\n",
       "    </tr>\n",
       "    <tr>\n",
       "      <th>trust</th>\n",
       "      <td>0.024463</td>\n",
       "      <td>0.411718</td>\n",
       "      <td>-0.552972</td>\n",
       "      <td>-0.631280</td>\n",
       "      <td>1.000000</td>\n",
       "      <td>-0.065755</td>\n",
       "      <td>0.535617</td>\n",
       "      <td>-0.550722</td>\n",
       "      <td>-0.543114</td>\n",
       "      <td>-0.524052</td>\n",
       "      <td>0.309620</td>\n",
       "      <td>0.270503</td>\n",
       "    </tr>\n",
       "    <tr>\n",
       "      <th>surprise</th>\n",
       "      <td>0.137095</td>\n",
       "      <td>0.290082</td>\n",
       "      <td>-0.366343</td>\n",
       "      <td>-0.279816</td>\n",
       "      <td>-0.065755</td>\n",
       "      <td>1.000000</td>\n",
       "      <td>0.020387</td>\n",
       "      <td>-0.381353</td>\n",
       "      <td>-0.197942</td>\n",
       "      <td>-0.052437</td>\n",
       "      <td>0.385424</td>\n",
       "      <td>0.441185</td>\n",
       "    </tr>\n",
       "    <tr>\n",
       "      <th>positive</th>\n",
       "      <td>-0.078407</td>\n",
       "      <td>0.436460</td>\n",
       "      <td>-0.620553</td>\n",
       "      <td>-0.714942</td>\n",
       "      <td>0.535617</td>\n",
       "      <td>0.020387</td>\n",
       "      <td>1.000000</td>\n",
       "      <td>-0.771317</td>\n",
       "      <td>-0.686729</td>\n",
       "      <td>-0.644578</td>\n",
       "      <td>0.417397</td>\n",
       "      <td>0.421034</td>\n",
       "    </tr>\n",
       "    <tr>\n",
       "      <th>negative</th>\n",
       "      <td>-0.125458</td>\n",
       "      <td>-0.575041</td>\n",
       "      <td>0.670347</td>\n",
       "      <td>0.716355</td>\n",
       "      <td>-0.550722</td>\n",
       "      <td>-0.381353</td>\n",
       "      <td>-0.771317</td>\n",
       "      <td>1.000000</td>\n",
       "      <td>0.704629</td>\n",
       "      <td>0.513586</td>\n",
       "      <td>-0.713103</td>\n",
       "      <td>-0.625609</td>\n",
       "    </tr>\n",
       "    <tr>\n",
       "      <th>sadness</th>\n",
       "      <td>0.044761</td>\n",
       "      <td>-0.428331</td>\n",
       "      <td>0.387517</td>\n",
       "      <td>0.499507</td>\n",
       "      <td>-0.543114</td>\n",
       "      <td>-0.197942</td>\n",
       "      <td>-0.686729</td>\n",
       "      <td>0.704629</td>\n",
       "      <td>1.000000</td>\n",
       "      <td>0.481453</td>\n",
       "      <td>-0.424974</td>\n",
       "      <td>-0.456612</td>\n",
       "    </tr>\n",
       "    <tr>\n",
       "      <th>disgust</th>\n",
       "      <td>0.095737</td>\n",
       "      <td>-0.405011</td>\n",
       "      <td>0.468183</td>\n",
       "      <td>0.579551</td>\n",
       "      <td>-0.524052</td>\n",
       "      <td>-0.052437</td>\n",
       "      <td>-0.644578</td>\n",
       "      <td>0.513586</td>\n",
       "      <td>0.481453</td>\n",
       "      <td>1.000000</td>\n",
       "      <td>-0.380394</td>\n",
       "      <td>-0.470532</td>\n",
       "    </tr>\n",
       "    <tr>\n",
       "      <th>joy</th>\n",
       "      <td>0.298766</td>\n",
       "      <td>0.552948</td>\n",
       "      <td>-0.654472</td>\n",
       "      <td>-0.600012</td>\n",
       "      <td>0.309620</td>\n",
       "      <td>0.385424</td>\n",
       "      <td>0.417397</td>\n",
       "      <td>-0.713103</td>\n",
       "      <td>-0.424974</td>\n",
       "      <td>-0.380394</td>\n",
       "      <td>1.000000</td>\n",
       "      <td>0.473860</td>\n",
       "    </tr>\n",
       "    <tr>\n",
       "      <th>anticipation</th>\n",
       "      <td>0.020468</td>\n",
       "      <td>0.392072</td>\n",
       "      <td>-0.668047</td>\n",
       "      <td>-0.622592</td>\n",
       "      <td>0.270503</td>\n",
       "      <td>0.441185</td>\n",
       "      <td>0.421034</td>\n",
       "      <td>-0.625609</td>\n",
       "      <td>-0.456612</td>\n",
       "      <td>-0.470532</td>\n",
       "      <td>0.473860</td>\n",
       "      <td>1.000000</td>\n",
       "    </tr>\n",
       "  </tbody>\n",
       "</table>\n",
       "</div>"
      ],
      "text/plain": [
       "                TBsubjectivity  TBpolarity      fear     anger     trust  \\\n",
       "TBsubjectivity        1.000000    0.307927 -0.134265 -0.039109  0.024463   \n",
       "TBpolarity            0.307927    1.000000 -0.513125 -0.503859  0.411718   \n",
       "fear                 -0.134265   -0.513125  1.000000  0.714736 -0.552972   \n",
       "anger                -0.039109   -0.503859  0.714736  1.000000 -0.631280   \n",
       "trust                 0.024463    0.411718 -0.552972 -0.631280  1.000000   \n",
       "surprise              0.137095    0.290082 -0.366343 -0.279816 -0.065755   \n",
       "positive             -0.078407    0.436460 -0.620553 -0.714942  0.535617   \n",
       "negative             -0.125458   -0.575041  0.670347  0.716355 -0.550722   \n",
       "sadness               0.044761   -0.428331  0.387517  0.499507 -0.543114   \n",
       "disgust               0.095737   -0.405011  0.468183  0.579551 -0.524052   \n",
       "joy                   0.298766    0.552948 -0.654472 -0.600012  0.309620   \n",
       "anticipation          0.020468    0.392072 -0.668047 -0.622592  0.270503   \n",
       "\n",
       "                surprise  positive  negative   sadness   disgust       joy  \\\n",
       "TBsubjectivity  0.137095 -0.078407 -0.125458  0.044761  0.095737  0.298766   \n",
       "TBpolarity      0.290082  0.436460 -0.575041 -0.428331 -0.405011  0.552948   \n",
       "fear           -0.366343 -0.620553  0.670347  0.387517  0.468183 -0.654472   \n",
       "anger          -0.279816 -0.714942  0.716355  0.499507  0.579551 -0.600012   \n",
       "trust          -0.065755  0.535617 -0.550722 -0.543114 -0.524052  0.309620   \n",
       "surprise        1.000000  0.020387 -0.381353 -0.197942 -0.052437  0.385424   \n",
       "positive        0.020387  1.000000 -0.771317 -0.686729 -0.644578  0.417397   \n",
       "negative       -0.381353 -0.771317  1.000000  0.704629  0.513586 -0.713103   \n",
       "sadness        -0.197942 -0.686729  0.704629  1.000000  0.481453 -0.424974   \n",
       "disgust        -0.052437 -0.644578  0.513586  0.481453  1.000000 -0.380394   \n",
       "joy             0.385424  0.417397 -0.713103 -0.424974 -0.380394  1.000000   \n",
       "anticipation    0.441185  0.421034 -0.625609 -0.456612 -0.470532  0.473860   \n",
       "\n",
       "                anticipation  \n",
       "TBsubjectivity      0.020468  \n",
       "TBpolarity          0.392072  \n",
       "fear               -0.668047  \n",
       "anger              -0.622592  \n",
       "trust               0.270503  \n",
       "surprise            0.441185  \n",
       "positive            0.421034  \n",
       "negative           -0.625609  \n",
       "sadness            -0.456612  \n",
       "disgust            -0.470532  \n",
       "joy                 0.473860  \n",
       "anticipation        1.000000  "
      ]
     },
     "execution_count": 218,
     "metadata": {},
     "output_type": "execute_result"
    }
   ],
   "source": [
    "# Compare TextBlob to NRCLex\n",
    "text_df.corr(numeric_only=True)"
   ]
  },
  {
   "cell_type": "code",
   "execution_count": 219,
   "id": "e974cd9c",
   "metadata": {},
   "outputs": [
    {
     "data": {
      "text/plain": [
       "TBsubjectivity    0.464998\n",
       "TBpolarity        0.148944\n",
       "fear              0.083926\n",
       "anger             0.056321\n",
       "trust             0.161268\n",
       "surprise          0.043152\n",
       "positive          0.259467\n",
       "negative          0.116806\n",
       "sadness           0.054008\n",
       "disgust           0.025886\n",
       "joy               0.091556\n",
       "anticipation      0.107609\n",
       "dtype: float64"
      ]
     },
     "execution_count": 219,
     "metadata": {},
     "output_type": "execute_result"
    }
   ],
   "source": [
    "text_df.mean(numeric_only=True)"
   ]
  },
  {
   "cell_type": "code",
   "execution_count": 235,
   "id": "8205935f",
   "metadata": {},
   "outputs": [
    {
     "data": {
      "text/plain": [
       "date\n",
       "2014-09-24    0.171745\n",
       "2002-10-02    0.174419\n",
       "2012-12-19    0.219512\n",
       "2011-03-18    0.220280\n",
       "2013-09-22    0.220690\n",
       "                ...   \n",
       "2016-02-20    0.495238\n",
       "2015-12-10    0.503778\n",
       "2016-02-13    0.521739\n",
       "2010-03-13    0.523438\n",
       "2016-11-10    0.571429\n",
       "Length: 433, dtype: float64"
      ]
     },
     "execution_count": 235,
     "metadata": {},
     "output_type": "execute_result"
    }
   ],
   "source": [
    "text_df[['trust', 'joy', 'anticipation']].sum(axis=1).sort_values()"
   ]
  },
  {
   "cell_type": "code",
   "execution_count": 236,
   "id": "d7b688d5",
   "metadata": {},
   "outputs": [
    {
     "data": {
      "text/html": [
       "<div>\n",
       "<style scoped>\n",
       "    .dataframe tbody tr th:only-of-type {\n",
       "        vertical-align: middle;\n",
       "    }\n",
       "\n",
       "    .dataframe tbody tr th {\n",
       "        vertical-align: top;\n",
       "    }\n",
       "\n",
       "    .dataframe thead th {\n",
       "        text-align: right;\n",
       "    }\n",
       "</style>\n",
       "<table border=\"1\" class=\"dataframe\">\n",
       "  <thead>\n",
       "    <tr style=\"text-align: right;\">\n",
       "      <th></th>\n",
       "      <th>filepath</th>\n",
       "      <th>text</th>\n",
       "      <th>source</th>\n",
       "      <th>TBsubjectivity</th>\n",
       "      <th>TBpolarity</th>\n",
       "      <th>nrc</th>\n",
       "      <th>fear</th>\n",
       "      <th>anger</th>\n",
       "      <th>trust</th>\n",
       "      <th>surprise</th>\n",
       "      <th>positive</th>\n",
       "      <th>negative</th>\n",
       "      <th>sadness</th>\n",
       "      <th>disgust</th>\n",
       "      <th>joy</th>\n",
       "      <th>anticipation</th>\n",
       "    </tr>\n",
       "    <tr>\n",
       "      <th>date</th>\n",
       "      <th></th>\n",
       "      <th></th>\n",
       "      <th></th>\n",
       "      <th></th>\n",
       "      <th></th>\n",
       "      <th></th>\n",
       "      <th></th>\n",
       "      <th></th>\n",
       "      <th></th>\n",
       "      <th></th>\n",
       "      <th></th>\n",
       "      <th></th>\n",
       "      <th></th>\n",
       "      <th></th>\n",
       "      <th></th>\n",
       "      <th></th>\n",
       "    </tr>\n",
       "  </thead>\n",
       "  <tbody>\n",
       "    <tr>\n",
       "      <th>2016-02-13</th>\n",
       "      <td>./Data/barackobamaantoninscaliapassing.txt</td>\n",
       "      <td>Good evening, everybody.  For almost 30 years,...</td>\n",
       "      <td>oba</td>\n",
       "      <td>0.576438</td>\n",
       "      <td>0.333186</td>\n",
       "      <td>{'fear': 0.050724637681159424, 'anger': 0.0144...</td>\n",
       "      <td>0.050725</td>\n",
       "      <td>0.014493</td>\n",
       "      <td>0.246377</td>\n",
       "      <td>0.021739</td>\n",
       "      <td>0.304348</td>\n",
       "      <td>0.043478</td>\n",
       "      <td>0.043478</td>\n",
       "      <td>0.000000</td>\n",
       "      <td>0.137681</td>\n",
       "      <td>0.137681</td>\n",
       "    </tr>\n",
       "    <tr>\n",
       "      <th>2010-03-13</th>\n",
       "      <td>./Data/barackobamanochildleftbehind.txt</td>\n",
       "      <td>Lost in the news of the week was a headline th...</td>\n",
       "      <td>oba</td>\n",
       "      <td>0.376850</td>\n",
       "      <td>0.138842</td>\n",
       "      <td>{'fear': 0.03515625, 'anger': 0.01953125, 'tru...</td>\n",
       "      <td>0.035156</td>\n",
       "      <td>0.019531</td>\n",
       "      <td>0.218750</td>\n",
       "      <td>0.031250</td>\n",
       "      <td>0.304688</td>\n",
       "      <td>0.042969</td>\n",
       "      <td>0.023438</td>\n",
       "      <td>0.019531</td>\n",
       "      <td>0.128906</td>\n",
       "      <td>0.175781</td>\n",
       "    </tr>\n",
       "    <tr>\n",
       "      <th>2016-11-10</th>\n",
       "      <td>./Data/barackobamadonaldtrumpmeeting.txt</td>\n",
       "      <td>Well, I just had the opportunity to have an ex...</td>\n",
       "      <td>oba</td>\n",
       "      <td>0.506327</td>\n",
       "      <td>0.431944</td>\n",
       "      <td>{'fear': 0.0, 'anger': 0.0, 'trust': 0.2619047...</td>\n",
       "      <td>0.000000</td>\n",
       "      <td>0.000000</td>\n",
       "      <td>0.261905</td>\n",
       "      <td>0.095238</td>\n",
       "      <td>0.261905</td>\n",
       "      <td>0.047619</td>\n",
       "      <td>0.023810</td>\n",
       "      <td>0.000000</td>\n",
       "      <td>0.142857</td>\n",
       "      <td>0.166667</td>\n",
       "    </tr>\n",
       "  </tbody>\n",
       "</table>\n",
       "</div>"
      ],
      "text/plain": [
       "                                              filepath  \\\n",
       "date                                                     \n",
       "2016-02-13  ./Data/barackobamaantoninscaliapassing.txt   \n",
       "2010-03-13     ./Data/barackobamanochildleftbehind.txt   \n",
       "2016-11-10    ./Data/barackobamadonaldtrumpmeeting.txt   \n",
       "\n",
       "                                                         text source  \\\n",
       "date                                                                   \n",
       "2016-02-13  Good evening, everybody.  For almost 30 years,...    oba   \n",
       "2010-03-13  Lost in the news of the week was a headline th...    oba   \n",
       "2016-11-10  Well, I just had the opportunity to have an ex...    oba   \n",
       "\n",
       "            TBsubjectivity  TBpolarity  \\\n",
       "date                                     \n",
       "2016-02-13        0.576438    0.333186   \n",
       "2010-03-13        0.376850    0.138842   \n",
       "2016-11-10        0.506327    0.431944   \n",
       "\n",
       "                                                          nrc      fear  \\\n",
       "date                                                                      \n",
       "2016-02-13  {'fear': 0.050724637681159424, 'anger': 0.0144...  0.050725   \n",
       "2010-03-13  {'fear': 0.03515625, 'anger': 0.01953125, 'tru...  0.035156   \n",
       "2016-11-10  {'fear': 0.0, 'anger': 0.0, 'trust': 0.2619047...  0.000000   \n",
       "\n",
       "               anger     trust  surprise  positive  negative   sadness  \\\n",
       "date                                                                     \n",
       "2016-02-13  0.014493  0.246377  0.021739  0.304348  0.043478  0.043478   \n",
       "2010-03-13  0.019531  0.218750  0.031250  0.304688  0.042969  0.023438   \n",
       "2016-11-10  0.000000  0.261905  0.095238  0.261905  0.047619  0.023810   \n",
       "\n",
       "             disgust       joy  anticipation  \n",
       "date                                          \n",
       "2016-02-13  0.000000  0.137681      0.137681  \n",
       "2010-03-13  0.019531  0.128906      0.175781  \n",
       "2016-11-10  0.000000  0.142857      0.166667  "
      ]
     },
     "execution_count": 236,
     "metadata": {},
     "output_type": "execute_result"
    }
   ],
   "source": [
    "# top 3 most hopefull, assuming \"hope\" is a combiation of trust, joy and anticipation\n",
    "top_3_h = text_df[['trust', 'joy', 'anticipation']].sum(axis=1).sort_values().tail(3).index\n",
    "text_df.loc[top_3_h]"
   ]
  },
  {
   "cell_type": "code",
   "execution_count": null,
   "id": "23fa633a",
   "metadata": {},
   "outputs": [],
   "source": []
  }
 ],
 "metadata": {
  "kernelspec": {
   "display_name": "Python 3 (ipykernel)",
   "language": "python",
   "name": "python3"
  },
  "language_info": {
   "codemirror_mode": {
    "name": "ipython",
    "version": 3
   },
   "file_extension": ".py",
   "mimetype": "text/x-python",
   "name": "python",
   "nbconvert_exporter": "python",
   "pygments_lexer": "ipython3",
   "version": "3.10.6"
  }
 },
 "nbformat": 4,
 "nbformat_minor": 5
}
