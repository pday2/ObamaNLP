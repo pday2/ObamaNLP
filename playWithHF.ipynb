{
 "cells": [
  {
   "cell_type": "markdown",
   "id": "6fafb630",
   "metadata": {},
   "source": [
    "<A HREF=\"https://medium.com/mlearning-ai/using-huggingface-transformers-with-pytorch-for-nlp-tasks-afc430190e22\">Following this Medium article</A><P>\n",
    "<A HREF=\"https://huggingface.co/docs/transformers/installation\">HF installation and environment setup</A>"
   ]
  },
  {
   "cell_type": "code",
   "execution_count": 21,
   "id": "a54b9d9c",
   "metadata": {},
   "outputs": [],
   "source": [
    "import csv\n",
    "import pandas as pd"
   ]
  },
  {
   "cell_type": "code",
   "execution_count": 1,
   "id": "15e1a314",
   "metadata": {},
   "outputs": [],
   "source": [
    "# install HuggingFace transformers if necessary\n",
    "!pip -q install transformers"
   ]
  },
  {
   "cell_type": "code",
   "execution_count": 5,
   "id": "4cb3d489",
   "metadata": {},
   "outputs": [
    {
     "name": "stderr",
     "output_type": "stream",
     "text": [
      "No model was supplied, defaulted to distilbert-base-uncased-finetuned-sst-2-english (https://huggingface.co/distilbert-base-uncased-finetuned-sst-2-english)\n"
     ]
    },
    {
     "name": "stdout",
     "output_type": "stream",
     "text": [
      "[{'label': 'POSITIVE', 'score': 0.9998704195022583}]\n"
     ]
    }
   ],
   "source": [
    "# Test installation (note: downloads model ~260MB)\n",
    "from transformers import pipeline\n",
    "print(pipeline('sentiment-analysis')('we love you'))"
   ]
  },
  {
   "cell_type": "code",
   "execution_count": 6,
   "id": "9129356a",
   "metadata": {},
   "outputs": [
    {
     "name": "stderr",
     "output_type": "stream",
     "text": [
      "No model was supplied, defaulted to distilbert-base-uncased-finetuned-sst-2-english (https://huggingface.co/distilbert-base-uncased-finetuned-sst-2-english)\n"
     ]
    },
    {
     "data": {
      "text/plain": [
       "[{'label': 'POSITIVE', 'score': 0.9975104331970215}]"
      ]
     },
     "execution_count": 6,
     "metadata": {},
     "output_type": "execute_result"
    }
   ],
   "source": [
    "# Sentiment Analysis\n",
    "cls = pipeline(\"sentiment-analysis\")\n",
    "cls(\"Team Blauwe Kater rules!\")"
   ]
  },
  {
   "cell_type": "code",
   "execution_count": 7,
   "id": "6e4d99ee",
   "metadata": {},
   "outputs": [
    {
     "name": "stderr",
     "output_type": "stream",
     "text": [
      "No model was supplied, defaulted to facebook/bart-large-mnli (https://huggingface.co/facebook/bart-large-mnli)\n"
     ]
    },
    {
     "data": {
      "application/vnd.jupyter.widget-view+json": {
       "model_id": "700845396aff4befa4f68a08e555229a",
       "version_major": 2,
       "version_minor": 0
      },
      "text/plain": [
       "Downloading:   0%|          | 0.00/1.13k [00:00<?, ?B/s]"
      ]
     },
     "metadata": {},
     "output_type": "display_data"
    },
    {
     "data": {
      "application/vnd.jupyter.widget-view+json": {
       "model_id": "5497c0c3c9b149588296bce7946d6acb",
       "version_major": 2,
       "version_minor": 0
      },
      "text/plain": [
       "Downloading:   0%|          | 0.00/1.52G [00:00<?, ?B/s]"
      ]
     },
     "metadata": {},
     "output_type": "display_data"
    },
    {
     "data": {
      "application/vnd.jupyter.widget-view+json": {
       "model_id": "8be0c12b125f4511af866ffe345eaf45",
       "version_major": 2,
       "version_minor": 0
      },
      "text/plain": [
       "Downloading:   0%|          | 0.00/26.0 [00:00<?, ?B/s]"
      ]
     },
     "metadata": {},
     "output_type": "display_data"
    },
    {
     "data": {
      "application/vnd.jupyter.widget-view+json": {
       "model_id": "c50cb1369a1b4e0bbd6e835c0cac724b",
       "version_major": 2,
       "version_minor": 0
      },
      "text/plain": [
       "Downloading:   0%|          | 0.00/878k [00:00<?, ?B/s]"
      ]
     },
     "metadata": {},
     "output_type": "display_data"
    },
    {
     "data": {
      "application/vnd.jupyter.widget-view+json": {
       "model_id": "92423132d0a948368a13babeabc525fa",
       "version_major": 2,
       "version_minor": 0
      },
      "text/plain": [
       "Downloading:   0%|          | 0.00/446k [00:00<?, ?B/s]"
      ]
     },
     "metadata": {},
     "output_type": "display_data"
    },
    {
     "data": {
      "application/vnd.jupyter.widget-view+json": {
       "model_id": "4f1334621e414f718bbf24d069f4643f",
       "version_major": 2,
       "version_minor": 0
      },
      "text/plain": [
       "Downloading:   0%|          | 0.00/1.29M [00:00<?, ?B/s]"
      ]
     },
     "metadata": {},
     "output_type": "display_data"
    },
    {
     "data": {
      "text/plain": [
       "[{'sequence': 'This is related to computers',\n",
       "  'labels': ['computers', 'apples'],\n",
       "  'scores': [0.9986750483512878, 0.001324947108514607]},\n",
       " {'sequence': 'I love apples',\n",
       "  'labels': ['apples', 'computers'],\n",
       "  'scores': [0.9986883401870728, 0.0013116567861288786]}]"
      ]
     },
     "execution_count": 7,
     "metadata": {},
     "output_type": "execute_result"
    }
   ],
   "source": [
    "# Warning: installs bart-large-mnli model which is 1.52GB\n",
    "cls_b = pipeline(\"zero-shot-classification\")\n",
    "cls_b([\"This is related to computers\" , \"I love apples\"] , [\"apples\", \"computers\"])"
   ]
  },
  {
   "cell_type": "code",
   "execution_count": 37,
   "id": "d6e9cc8e",
   "metadata": {},
   "outputs": [],
   "source": [
    "# Read in a csv formatted speech using csv package\n",
    "filepath = './DataUCSB/address-accepting-the-presidential-nomination-the-democratic-national-convention-denver.csv'\n",
    "with open(filepath, 'r') as read_obj: # read csv file as a list of lists\n",
    "  csv_reader = csv.reader(read_obj) # pass the file object to reader() to get the reader object\n",
    "  speechList = sum(list(csv_reader), []) # Pass reader object to list() to get a list of lists (matrix)\n",
    "                                        # sum(list, []) flattens 2D matrix into a vector"
   ]
  },
  {
   "cell_type": "code",
   "execution_count": 56,
   "id": "7f3b00c1",
   "metadata": {},
   "outputs": [],
   "source": [
    "# joins list into a str - type(speech) = str\n",
    "speech = ' '.join(speechList)\n",
    "short = int(len(speechList)/10)\n",
    "shortspeech = ' '.join(speechList[0:short])"
   ]
  },
  {
   "cell_type": "code",
   "execution_count": 54,
   "id": "1f516a43",
   "metadata": {},
   "outputs": [
    {
     "name": "stderr",
     "output_type": "stream",
     "text": [
      "No model was supplied, defaulted to sshleifer/distilbart-cnn-12-6 (https://huggingface.co/sshleifer/distilbart-cnn-12-6)\n"
     ]
    }
   ],
   "source": [
    "# Warning: Downloads 1.14GB sshleifer/distilbart-cnn-12-6 model\n",
    "sum = pipeline(\"summarization\")"
   ]
  },
  {
   "cell_type": "code",
   "execution_count": 57,
   "id": "fe464ccd",
   "metadata": {},
   "outputs": [
    {
     "data": {
      "text/plain": [
       "[{'summary_text': ' Barack Obama: With profound gratitude and great humility, I accept your nomination for the presidency of the United States. To Chairman Dean and my great friend Dick Durbin; and to all my fellow citizens of this great nation, I thank you. Let me express my thanks to the historic slate of candidates who accompanied me on this journey, and especially the one who traveled the farthest – Hillary Rodham Clinton .'}]"
      ]
     },
     "execution_count": 57,
     "metadata": {},
     "output_type": "execute_result"
    }
   ],
   "source": [
    "sum(shortspeech)"
   ]
  },
  {
   "cell_type": "code",
   "execution_count": 58,
   "id": "acedb0e2",
   "metadata": {},
   "outputs": [
    {
     "data": {
      "text/plain": [
       "' Barack Obama: With profound gratitude and great humility, I accept your nomination for the presidency of the United States. To Chairman Dean and my great friend Dick Durbin; and to all my fellow citizens of this great nation, I thank you. Let me express my thanks to the historic slate of candidates who accompanied me on this journey, and especially the one who traveled the farthest – Hillary Rodham Clinton .'"
      ]
     },
     "execution_count": 58,
     "metadata": {},
     "output_type": "execute_result"
    }
   ],
   "source": [
    "sum(shortspeech)[0][\"summary_text\"]"
   ]
  },
  {
   "cell_type": "code",
   "execution_count": 60,
   "id": "6a11c265",
   "metadata": {},
   "outputs": [
    {
     "data": {
      "text/plain": [
       "\"To Chairman Dean and my great friend Dick Durbin; and to all my fellow citizens of this great nation; With profound gratitude and great humility, I accept your nomination for the presidency of the United States. Let me express my thanks to the historic slate of candidates who accompanied me on this journey, and especially the one who traveled the farthest – a champion for working Americans and an inspiration to my daughters and to yours -- Hillary Rodham Clinton. To President Clinton, who last night made the case for change as only he can make it; to Ted Kennedy, who embodies the spirit of service; and to the next Vice President of the United States, Joe Biden, I thank you. I am grateful to finish this journey with one of the finest statesmen of our time, a man at ease with everyone from world leaders to the conductors on the Amtrak train he still takes home every night. To the love of my life, our next First Lady, Michelle Obama, and to Sasha and Malia – I love you so much, and I'm so proud of all of you. Four years ago, I stood before you and told you my story – of the brief union between a young man from Kenya and a young woman from Kansas who weren't well-off or well-known, but shared a belief that in America, their son could achieve whatever he put his mind to. It is that promise that has always set this country apart – that through hard work and sacrifice, each of us can pursue our individual dreams but still come together as one American family, to ensure that the next generation can pursue their dreams as well. That's why I stand here tonight. Because for two hundred and thirty two years, at each moment when that promise was in jeopardy, ordinary men and women – students and soldiers, farmers and teachers, nurses and janitors -- found the courage to keep it alive. We meet at one of those defining moments – a moment when our nation is at war, our economy is in turmoil, and the American promise has been threatened once more.\""
      ]
     },
     "execution_count": 60,
     "metadata": {},
     "output_type": "execute_result"
    }
   ],
   "source": [
    "shortspeech"
   ]
  },
  {
   "cell_type": "code",
   "execution_count": null,
   "id": "4399d811",
   "metadata": {},
   "outputs": [],
   "source": []
  }
 ],
 "metadata": {
  "kernelspec": {
   "display_name": "Python 3",
   "language": "python",
   "name": "python3"
  },
  "language_info": {
   "codemirror_mode": {
    "name": "ipython",
    "version": 3
   },
   "file_extension": ".py",
   "mimetype": "text/x-python",
   "name": "python",
   "nbconvert_exporter": "python",
   "pygments_lexer": "ipython3",
   "version": "3.9.10"
  }
 },
 "nbformat": 4,
 "nbformat_minor": 5
}
