{
 "cells": [
  {
   "cell_type": "markdown",
   "id": "6fafb630",
   "metadata": {},
   "source": [
    "<A HREF=\"https://medium.com/mlearning-ai/using-huggingface-transformers-with-pytorch-for-nlp-tasks-afc430190e22\">Following this Medium article</A><P>\n",
    "<A HREF=\"https://huggingface.co/docs/transformers/installation\">HF installation and environment setup</A>"
   ]
  },
  {
   "cell_type": "code",
   "execution_count": 1,
   "id": "a54b9d9c",
   "metadata": {},
   "outputs": [],
   "source": [
    "import csv\n",
    "import pandas as pd"
   ]
  },
  {
   "cell_type": "code",
   "execution_count": 2,
   "id": "15e1a314",
   "metadata": {},
   "outputs": [],
   "source": [
    "# install HuggingFace transformers if necessary\n",
    "!pip -q install transformers"
   ]
  },
  {
   "cell_type": "code",
   "execution_count": 3,
   "id": "4cb3d489",
   "metadata": {},
   "outputs": [
    {
     "name": "stderr",
     "output_type": "stream",
     "text": [
      "No model was supplied, defaulted to distilbert-base-uncased-finetuned-sst-2-english (https://huggingface.co/distilbert-base-uncased-finetuned-sst-2-english)\n"
     ]
    },
    {
     "name": "stdout",
     "output_type": "stream",
     "text": [
      "[{'label': 'POSITIVE', 'score': 0.9998704195022583}]\n"
     ]
    }
   ],
   "source": [
    "# Test installation (note: downloads model ~260MB)\n",
    "from transformers import pipeline\n",
    "print(pipeline('sentiment-analysis')('we love you'))"
   ]
  },
  {
   "cell_type": "code",
   "execution_count": 4,
   "id": "9129356a",
   "metadata": {},
   "outputs": [
    {
     "name": "stderr",
     "output_type": "stream",
     "text": [
      "No model was supplied, defaulted to distilbert-base-uncased-finetuned-sst-2-english (https://huggingface.co/distilbert-base-uncased-finetuned-sst-2-english)\n"
     ]
    },
    {
     "data": {
      "text/plain": [
       "[{'label': 'POSITIVE', 'score': 0.9975104331970215}]"
      ]
     },
     "execution_count": 4,
     "metadata": {},
     "output_type": "execute_result"
    }
   ],
   "source": [
    "# Sentiment Analysis\n",
    "cls = pipeline(\"sentiment-analysis\")\n",
    "cls(\"Team Blauwe Kater rules!\")"
   ]
  },
  {
   "cell_type": "code",
   "execution_count": 5,
   "id": "6e4d99ee",
   "metadata": {},
   "outputs": [
    {
     "name": "stderr",
     "output_type": "stream",
     "text": [
      "No model was supplied, defaulted to facebook/bart-large-mnli (https://huggingface.co/facebook/bart-large-mnli)\n"
     ]
    },
    {
     "data": {
      "text/plain": [
       "[{'sequence': 'This is related to computers',\n",
       "  'labels': ['computers', 'apples'],\n",
       "  'scores': [0.9986750483512878, 0.001324947108514607]},\n",
       " {'sequence': 'I love apples',\n",
       "  'labels': ['apples', 'computers'],\n",
       "  'scores': [0.9986883401870728, 0.0013116567861288786]}]"
      ]
     },
     "execution_count": 5,
     "metadata": {},
     "output_type": "execute_result"
    }
   ],
   "source": [
    "# Warning: installs bart-large-mnli model which is 1.52GB\n",
    "cls_b = pipeline(\"zero-shot-classification\")\n",
    "cls_b([\"This is related to computers\" , \"I love apples\"] , [\"apples\", \"computers\"])"
   ]
  },
  {
   "cell_type": "code",
   "execution_count": 6,
   "id": "d6e9cc8e",
   "metadata": {},
   "outputs": [],
   "source": [
    "# Read in a csv formatted speech using csv package\n",
    "filepath = './Data/DataUCSB/address-accepting-the-presidential-nomination-the-democratic-national-convention-denver.csv'\n",
    "with open(filepath, 'r') as read_obj: # read csv file as a list of lists\n",
    "  csv_reader = csv.reader(read_obj) # pass the file object to reader() to get the reader object\n",
    "  speechList = sum(list(csv_reader), []) # Pass reader object to list() to get a list of lists (matrix)\n",
    "                                        # sum(list, []) flattens 2D matrix into a vector"
   ]
  },
  {
   "cell_type": "code",
   "execution_count": 7,
   "id": "7f3b00c1",
   "metadata": {},
   "outputs": [],
   "source": [
    "# joins list into a str - type(speech) = str\n",
    "speech = ' '.join(speechList)\n",
    "short = int(len(speechList)/10)\n",
    "shortspeech = ' '.join(speechList[0:short])"
   ]
  },
  {
   "cell_type": "code",
   "execution_count": 8,
   "id": "1f516a43",
   "metadata": {},
   "outputs": [
    {
     "name": "stderr",
     "output_type": "stream",
     "text": [
      "No model was supplied, defaulted to sshleifer/distilbart-cnn-12-6 (https://huggingface.co/sshleifer/distilbart-cnn-12-6)\n"
     ]
    }
   ],
   "source": [
    "# Warning: Downloads 1.14GB sshleifer/distilbart-cnn-12-6 model\n",
    "sum = pipeline(\"summarization\")"
   ]
  },
  {
   "cell_type": "code",
   "execution_count": 9,
   "id": "fe464ccd",
   "metadata": {},
   "outputs": [
    {
     "data": {
      "text/plain": [
       "[{'summary_text': ' Barack Obama: With profound gratitude and great humility, I accept your nomination for the presidency of the United States. To Chairman Dean and my great friend Dick Durbin; and to all my fellow citizens of this great nation, I thank you. Let me express my thanks to the historic slate of candidates who accompanied me on this journey, and especially the one who traveled the farthest – Hillary Rodham Clinton .'}]"
      ]
     },
     "execution_count": 9,
     "metadata": {},
     "output_type": "execute_result"
    }
   ],
   "source": [
    "sum(shortspeech)"
   ]
  },
  {
   "cell_type": "code",
   "execution_count": 10,
   "id": "acedb0e2",
   "metadata": {},
   "outputs": [
    {
     "data": {
      "text/plain": [
       "' Barack Obama: With profound gratitude and great humility, I accept your nomination for the presidency of the United States. To Chairman Dean and my great friend Dick Durbin; and to all my fellow citizens of this great nation, I thank you. Let me express my thanks to the historic slate of candidates who accompanied me on this journey, and especially the one who traveled the farthest – Hillary Rodham Clinton .'"
      ]
     },
     "execution_count": 10,
     "metadata": {},
     "output_type": "execute_result"
    }
   ],
   "source": [
    "sum(shortspeech)[0][\"summary_text\"]"
   ]
  },
  {
   "cell_type": "code",
   "execution_count": 11,
   "id": "6a11c265",
   "metadata": {},
   "outputs": [
    {
     "data": {
      "text/plain": [
       "\"To Chairman Dean and my great friend Dick Durbin; and to all my fellow citizens of this great nation; With profound gratitude and great humility, I accept your nomination for the presidency of the United States. Let me express my thanks to the historic slate of candidates who accompanied me on this journey, and especially the one who traveled the farthest – a champion for working Americans and an inspiration to my daughters and to yours -- Hillary Rodham Clinton. To President Clinton, who last night made the case for change as only he can make it; to Ted Kennedy, who embodies the spirit of service; and to the next Vice President of the United States, Joe Biden, I thank you. I am grateful to finish this journey with one of the finest statesmen of our time, a man at ease with everyone from world leaders to the conductors on the Amtrak train he still takes home every night. To the love of my life, our next First Lady, Michelle Obama, and to Sasha and Malia – I love you so much, and I'm so proud of all of you. Four years ago, I stood before you and told you my story – of the brief union between a young man from Kenya and a young woman from Kansas who weren't well-off or well-known, but shared a belief that in America, their son could achieve whatever he put his mind to. It is that promise that has always set this country apart – that through hard work and sacrifice, each of us can pursue our individual dreams but still come together as one American family, to ensure that the next generation can pursue their dreams as well. That's why I stand here tonight. Because for two hundred and thirty two years, at each moment when that promise was in jeopardy, ordinary men and women – students and soldiers, farmers and teachers, nurses and janitors -- found the courage to keep it alive. We meet at one of those defining moments – a moment when our nation is at war, our economy is in turmoil, and the American promise has been threatened once more.\""
      ]
     },
     "execution_count": 11,
     "metadata": {},
     "output_type": "execute_result"
    }
   ],
   "source": [
    "shortspeech"
   ]
  },
  {
   "cell_type": "markdown",
   "id": "ab24b64a",
   "metadata": {},
   "source": [
    "<A HREF=\"https://spacy.io/\">Spacy</A><BR>"
   ]
  },
  {
   "cell_type": "code",
   "execution_count": 13,
   "id": "4399d811",
   "metadata": {},
   "outputs": [],
   "source": [
    "# NER using SpaCy\n",
    "import spacy"
   ]
  },
  {
   "cell_type": "code",
   "execution_count": 23,
   "id": "5ff0bc4c",
   "metadata": {},
   "outputs": [
    {
     "name": "stdout",
     "output_type": "stream",
     "text": [
      "Defaulting to user installation because normal site-packages is not writeable\n",
      "Requirement already satisfied: spacy in /home/muddy/.local/lib/python3.9/site-packages (3.4.1)\n",
      "Requirement already satisfied: preshed<3.1.0,>=3.0.2 in /home/muddy/.local/lib/python3.9/site-packages (from spacy) (3.0.6)\n",
      "Requirement already satisfied: pydantic!=1.8,!=1.8.1,<1.10.0,>=1.7.4 in /home/muddy/.local/lib/python3.9/site-packages (from spacy) (1.8.2)\n",
      "Requirement already satisfied: spacy-legacy<3.1.0,>=3.0.9 in /home/muddy/.local/lib/python3.9/site-packages (from spacy) (3.0.9)\n",
      "Requirement already satisfied: setuptools in /home/muddy/.local/lib/python3.9/site-packages (from spacy) (65.4.1)\n",
      "Requirement already satisfied: numpy>=1.15.0 in /home/muddy/.local/lib/python3.9/site-packages (from spacy) (1.22.4)\n",
      "Requirement already satisfied: langcodes<4.0.0,>=3.2.0 in /home/muddy/.local/lib/python3.9/site-packages (from spacy) (3.3.0)\n",
      "Requirement already satisfied: typer<0.5.0,>=0.3.0 in /home/muddy/.local/lib/python3.9/site-packages (from spacy) (0.4.1)\n",
      "Requirement already satisfied: catalogue<2.1.0,>=2.0.6 in /home/muddy/.local/lib/python3.9/site-packages (from spacy) (2.0.7)\n",
      "Requirement already satisfied: wasabi<1.1.0,>=0.9.1 in /home/muddy/.local/lib/python3.9/site-packages (from spacy) (0.9.1)\n",
      "Requirement already satisfied: requests<3.0.0,>=2.13.0 in /home/muddy/.local/lib/python3.9/site-packages (from spacy) (2.27.1)\n",
      "Requirement already satisfied: murmurhash<1.1.0,>=0.28.0 in /home/muddy/.local/lib/python3.9/site-packages (from spacy) (1.0.7)\n",
      "Requirement already satisfied: tqdm<5.0.0,>=4.38.0 in /home/muddy/.local/lib/python3.9/site-packages (from spacy) (4.64.0)\n",
      "Requirement already satisfied: srsly<3.0.0,>=2.4.3 in /home/muddy/.local/lib/python3.9/site-packages (from spacy) (2.4.3)\n",
      "Requirement already satisfied: jinja2 in /usr/local/lib/python3.9/site-packages (from spacy) (3.0.3)\n",
      "Requirement already satisfied: cymem<2.1.0,>=2.0.2 in /home/muddy/.local/lib/python3.9/site-packages (from spacy) (2.0.6)\n",
      "Requirement already satisfied: spacy-loggers<2.0.0,>=1.0.0 in /home/muddy/.local/lib/python3.9/site-packages (from spacy) (1.0.2)\n",
      "Requirement already satisfied: packaging>=20.0 in /usr/local/lib/python3.9/site-packages (from spacy) (21.3)\n",
      "Requirement already satisfied: pathy>=0.3.5 in /home/muddy/.local/lib/python3.9/site-packages (from spacy) (0.6.1)\n",
      "Requirement already satisfied: thinc<8.2.0,>=8.1.0 in /home/muddy/.local/lib/python3.9/site-packages (from spacy) (8.1.3)\n",
      "Requirement already satisfied: pyparsing!=3.0.5,>=2.0.2 in /home/muddy/.local/lib/python3.9/site-packages (from packaging>=20.0->spacy) (2.4.7)\n",
      "Requirement already satisfied: smart-open<6.0.0,>=5.0.0 in /home/muddy/.local/lib/python3.9/site-packages (from pathy>=0.3.5->spacy) (5.2.1)\n",
      "Requirement already satisfied: typing-extensions>=3.7.4.3 in /home/muddy/.local/lib/python3.9/site-packages (from pydantic!=1.8,!=1.8.1,<1.10.0,>=1.7.4->spacy) (4.1.1)\n",
      "Requirement already satisfied: urllib3<1.27,>=1.21.1 in /home/muddy/.local/lib/python3.9/site-packages (from requests<3.0.0,>=2.13.0->spacy) (1.26.9)\n",
      "Requirement already satisfied: certifi>=2017.4.17 in /home/muddy/.local/lib/python3.9/site-packages (from requests<3.0.0,>=2.13.0->spacy) (2021.10.8)\n",
      "Requirement already satisfied: charset-normalizer~=2.0.0 in /home/muddy/.local/lib/python3.9/site-packages (from requests<3.0.0,>=2.13.0->spacy) (2.0.12)\n",
      "Requirement already satisfied: idna<4,>=2.5 in /home/muddy/.local/lib/python3.9/site-packages (from requests<3.0.0,>=2.13.0->spacy) (2.10)\n",
      "Requirement already satisfied: confection<1.0.0,>=0.0.1 in /home/muddy/.local/lib/python3.9/site-packages (from thinc<8.2.0,>=8.1.0->spacy) (0.0.3)\n",
      "Requirement already satisfied: blis<0.8.0,>=0.7.8 in /home/muddy/.local/lib/python3.9/site-packages (from thinc<8.2.0,>=8.1.0->spacy) (0.7.8)\n",
      "Requirement already satisfied: click<9.0.0,>=7.1.1 in /home/muddy/.local/lib/python3.9/site-packages (from typer<0.5.0,>=0.3.0->spacy) (8.0.4)\n",
      "Requirement already satisfied: MarkupSafe>=2.0 in /usr/local/lib/python3.9/site-packages (from jinja2->spacy) (2.1.0)\n",
      "2022-10-10 15:21:13.819587: W tensorflow/stream_executor/platform/default/dso_loader.cc:64] Could not load dynamic library 'libcuda.so.1'; dlerror: libcuda.so.1: cannot open shared object file: No such file or directory\n",
      "2022-10-10 15:21:13.819609: W tensorflow/stream_executor/cuda/cuda_driver.cc:269] failed call to cuInit: UNKNOWN ERROR (303)\n",
      "2022-10-10 15:21:13.819642: I tensorflow/stream_executor/cuda/cuda_diagnostics.cc:156] kernel driver does not appear to be running on this host (muddy-HP-ProDesk-600-G3-SFF): /proc/driver/nvidia/version does not exist\n",
      "Defaulting to user installation because normal site-packages is not writeable\n",
      "Collecting en-core-web-trf==3.4.0\n",
      "  Downloading https://github.com/explosion/spacy-models/releases/download/en_core_web_trf-3.4.0/en_core_web_trf-3.4.0-py3-none-any.whl (460.3 MB)\n",
      "\u001b[2K     \u001b[38;2;114;156;31m━━━━━━━━━━━━━━━━━━━━━━━━━━━━━━━━━━━━━━━\u001b[0m \u001b[32m460.3/460.3 MB\u001b[0m \u001b[31m6.4 MB/s\u001b[0m eta \u001b[36m0:00:00\u001b[0mm eta \u001b[36m0:00:01\u001b[0m[36m0:00:01\u001b[0m\n",
      "\u001b[?25hRequirement already satisfied: spacy<3.5.0,>=3.4.0 in /home/muddy/.local/lib/python3.9/site-packages (from en-core-web-trf==3.4.0) (3.4.1)\n",
      "Requirement already satisfied: spacy-transformers<1.2.0,>=1.1.2 in /home/muddy/.local/lib/python3.9/site-packages (from en-core-web-trf==3.4.0) (1.1.8)\n",
      "Requirement already satisfied: wasabi<1.1.0,>=0.9.1 in /home/muddy/.local/lib/python3.9/site-packages (from spacy<3.5.0,>=3.4.0->en-core-web-trf==3.4.0) (0.9.1)\n",
      "Requirement already satisfied: pathy>=0.3.5 in /home/muddy/.local/lib/python3.9/site-packages (from spacy<3.5.0,>=3.4.0->en-core-web-trf==3.4.0) (0.6.1)\n",
      "Requirement already satisfied: thinc<8.2.0,>=8.1.0 in /home/muddy/.local/lib/python3.9/site-packages (from spacy<3.5.0,>=3.4.0->en-core-web-trf==3.4.0) (8.1.3)\n",
      "Requirement already satisfied: jinja2 in /usr/local/lib/python3.9/site-packages (from spacy<3.5.0,>=3.4.0->en-core-web-trf==3.4.0) (3.0.3)\n",
      "Requirement already satisfied: spacy-loggers<2.0.0,>=1.0.0 in /home/muddy/.local/lib/python3.9/site-packages (from spacy<3.5.0,>=3.4.0->en-core-web-trf==3.4.0) (1.0.2)\n",
      "Requirement already satisfied: numpy>=1.15.0 in /home/muddy/.local/lib/python3.9/site-packages (from spacy<3.5.0,>=3.4.0->en-core-web-trf==3.4.0) (1.22.4)\n",
      "Requirement already satisfied: tqdm<5.0.0,>=4.38.0 in /home/muddy/.local/lib/python3.9/site-packages (from spacy<3.5.0,>=3.4.0->en-core-web-trf==3.4.0) (4.64.0)\n",
      "Requirement already satisfied: catalogue<2.1.0,>=2.0.6 in /home/muddy/.local/lib/python3.9/site-packages (from spacy<3.5.0,>=3.4.0->en-core-web-trf==3.4.0) (2.0.7)\n",
      "Requirement already satisfied: srsly<3.0.0,>=2.4.3 in /home/muddy/.local/lib/python3.9/site-packages (from spacy<3.5.0,>=3.4.0->en-core-web-trf==3.4.0) (2.4.3)\n",
      "Requirement already satisfied: typer<0.5.0,>=0.3.0 in /home/muddy/.local/lib/python3.9/site-packages (from spacy<3.5.0,>=3.4.0->en-core-web-trf==3.4.0) (0.4.1)\n",
      "Requirement already satisfied: packaging>=20.0 in /usr/local/lib/python3.9/site-packages (from spacy<3.5.0,>=3.4.0->en-core-web-trf==3.4.0) (21.3)\n",
      "Requirement already satisfied: preshed<3.1.0,>=3.0.2 in /home/muddy/.local/lib/python3.9/site-packages (from spacy<3.5.0,>=3.4.0->en-core-web-trf==3.4.0) (3.0.6)\n",
      "Requirement already satisfied: spacy-legacy<3.1.0,>=3.0.9 in /home/muddy/.local/lib/python3.9/site-packages (from spacy<3.5.0,>=3.4.0->en-core-web-trf==3.4.0) (3.0.9)\n",
      "Requirement already satisfied: cymem<2.1.0,>=2.0.2 in /home/muddy/.local/lib/python3.9/site-packages (from spacy<3.5.0,>=3.4.0->en-core-web-trf==3.4.0) (2.0.6)\n",
      "Requirement already satisfied: requests<3.0.0,>=2.13.0 in /home/muddy/.local/lib/python3.9/site-packages (from spacy<3.5.0,>=3.4.0->en-core-web-trf==3.4.0) (2.27.1)\n",
      "Requirement already satisfied: langcodes<4.0.0,>=3.2.0 in /home/muddy/.local/lib/python3.9/site-packages (from spacy<3.5.0,>=3.4.0->en-core-web-trf==3.4.0) (3.3.0)\n",
      "Requirement already satisfied: pydantic!=1.8,!=1.8.1,<1.10.0,>=1.7.4 in /home/muddy/.local/lib/python3.9/site-packages (from spacy<3.5.0,>=3.4.0->en-core-web-trf==3.4.0) (1.8.2)\n",
      "Requirement already satisfied: setuptools in /home/muddy/.local/lib/python3.9/site-packages (from spacy<3.5.0,>=3.4.0->en-core-web-trf==3.4.0) (65.4.1)\n",
      "Requirement already satisfied: murmurhash<1.1.0,>=0.28.0 in /home/muddy/.local/lib/python3.9/site-packages (from spacy<3.5.0,>=3.4.0->en-core-web-trf==3.4.0) (1.0.7)\n",
      "Requirement already satisfied: torch>=1.6.0 in /home/muddy/.local/lib/python3.9/site-packages (from spacy-transformers<1.2.0,>=1.1.2->en-core-web-trf==3.4.0) (1.10.0+cu111)\n",
      "Requirement already satisfied: spacy-alignments<1.0.0,>=0.7.2 in /home/muddy/.local/lib/python3.9/site-packages (from spacy-transformers<1.2.0,>=1.1.2->en-core-web-trf==3.4.0) (0.8.5)\n",
      "Requirement already satisfied: transformers<4.22.0,>=3.4.0 in /home/muddy/.local/lib/python3.9/site-packages (from spacy-transformers<1.2.0,>=1.1.2->en-core-web-trf==3.4.0) (4.20.1)\n",
      "Requirement already satisfied: pyparsing!=3.0.5,>=2.0.2 in /home/muddy/.local/lib/python3.9/site-packages (from packaging>=20.0->spacy<3.5.0,>=3.4.0->en-core-web-trf==3.4.0) (2.4.7)\n"
     ]
    },
    {
     "name": "stdout",
     "output_type": "stream",
     "text": [
      "Requirement already satisfied: smart-open<6.0.0,>=5.0.0 in /home/muddy/.local/lib/python3.9/site-packages (from pathy>=0.3.5->spacy<3.5.0,>=3.4.0->en-core-web-trf==3.4.0) (5.2.1)\n",
      "Requirement already satisfied: typing-extensions>=3.7.4.3 in /home/muddy/.local/lib/python3.9/site-packages (from pydantic!=1.8,!=1.8.1,<1.10.0,>=1.7.4->spacy<3.5.0,>=3.4.0->en-core-web-trf==3.4.0) (4.1.1)\n",
      "Requirement already satisfied: certifi>=2017.4.17 in /home/muddy/.local/lib/python3.9/site-packages (from requests<3.0.0,>=2.13.0->spacy<3.5.0,>=3.4.0->en-core-web-trf==3.4.0) (2021.10.8)\n",
      "Requirement already satisfied: idna<4,>=2.5 in /home/muddy/.local/lib/python3.9/site-packages (from requests<3.0.0,>=2.13.0->spacy<3.5.0,>=3.4.0->en-core-web-trf==3.4.0) (2.10)\n",
      "Requirement already satisfied: urllib3<1.27,>=1.21.1 in /home/muddy/.local/lib/python3.9/site-packages (from requests<3.0.0,>=2.13.0->spacy<3.5.0,>=3.4.0->en-core-web-trf==3.4.0) (1.26.9)\n",
      "Requirement already satisfied: charset-normalizer~=2.0.0 in /home/muddy/.local/lib/python3.9/site-packages (from requests<3.0.0,>=2.13.0->spacy<3.5.0,>=3.4.0->en-core-web-trf==3.4.0) (2.0.12)\n",
      "Requirement already satisfied: confection<1.0.0,>=0.0.1 in /home/muddy/.local/lib/python3.9/site-packages (from thinc<8.2.0,>=8.1.0->spacy<3.5.0,>=3.4.0->en-core-web-trf==3.4.0) (0.0.3)\n",
      "Requirement already satisfied: blis<0.8.0,>=0.7.8 in /home/muddy/.local/lib/python3.9/site-packages (from thinc<8.2.0,>=8.1.0->spacy<3.5.0,>=3.4.0->en-core-web-trf==3.4.0) (0.7.8)\n",
      "Requirement already satisfied: tokenizers!=0.11.3,<0.13,>=0.11.1 in /home/muddy/.local/lib/python3.9/site-packages (from transformers<4.22.0,>=3.4.0->spacy-transformers<1.2.0,>=1.1.2->en-core-web-trf==3.4.0) (0.12.1)\n",
      "Requirement already satisfied: filelock in /home/muddy/.local/lib/python3.9/site-packages (from transformers<4.22.0,>=3.4.0->spacy-transformers<1.2.0,>=1.1.2->en-core-web-trf==3.4.0) (3.7.1)\n",
      "Requirement already satisfied: regex!=2019.12.17 in /home/muddy/.local/lib/python3.9/site-packages (from transformers<4.22.0,>=3.4.0->spacy-transformers<1.2.0,>=1.1.2->en-core-web-trf==3.4.0) (2022.4.24)\n",
      "Requirement already satisfied: pyyaml>=5.1 in /home/muddy/.local/lib/python3.9/site-packages (from transformers<4.22.0,>=3.4.0->spacy-transformers<1.2.0,>=1.1.2->en-core-web-trf==3.4.0) (5.4.1)\n",
      "Requirement already satisfied: huggingface-hub<1.0,>=0.1.0 in /home/muddy/.local/lib/python3.9/site-packages (from transformers<4.22.0,>=3.4.0->spacy-transformers<1.2.0,>=1.1.2->en-core-web-trf==3.4.0) (0.8.1)\n",
      "Requirement already satisfied: click<9.0.0,>=7.1.1 in /home/muddy/.local/lib/python3.9/site-packages (from typer<0.5.0,>=0.3.0->spacy<3.5.0,>=3.4.0->en-core-web-trf==3.4.0) (8.0.4)\n",
      "Requirement already satisfied: MarkupSafe>=2.0 in /usr/local/lib/python3.9/site-packages (from jinja2->spacy<3.5.0,>=3.4.0->en-core-web-trf==3.4.0) (2.1.0)\n",
      "\u001b[38;5;2m✔ Download and installation successful\u001b[0m\n",
      "You can now load the package via spacy.load('en_core_web_trf')\n"
     ]
    }
   ],
   "source": [
    "!pip3 install -U spacy\n",
    "# the following model is 587 MB\n",
    "!python3 -m spacy download en_core_web_trf"
   ]
  },
  {
   "cell_type": "code",
   "execution_count": 25,
   "id": "09030eae",
   "metadata": {},
   "outputs": [],
   "source": [
    "nlp = spacy.load(\"en_core_web_lg\")\n",
    "doc = nlp(speech)"
   ]
  },
  {
   "cell_type": "code",
   "execution_count": 29,
   "id": "cd8e71ce",
   "metadata": {},
   "outputs": [
    {
     "data": {
      "text/plain": [
       "[['Dean', 'PERSON'],\n",
       " ['Dick Durbin', 'PERSON'],\n",
       " ['the United States', 'GPE'],\n",
       " ['Americans', 'NORP'],\n",
       " ['Hillary Rodham Clinton', 'PERSON'],\n",
       " ['Clinton', 'PERSON'],\n",
       " ['last night', 'TIME'],\n",
       " ['Ted Kennedy', 'PERSON'],\n",
       " ['the United States', 'GPE'],\n",
       " ['Joe Biden', 'PERSON'],\n",
       " ['Amtrak', 'ORG'],\n",
       " ['every night', 'TIME'],\n",
       " ['First', 'ORDINAL'],\n",
       " ['Michelle Obama', 'PERSON'],\n",
       " ['Malia', 'PERSON'],\n",
       " ['Four years ago', 'DATE'],\n",
       " ['Kenya', 'GPE'],\n",
       " ['Kansas', 'GPE'],\n",
       " ['America', 'GPE'],\n",
       " ['one', 'CARDINAL'],\n",
       " ['American', 'NORP'],\n",
       " ['tonight', 'TIME'],\n",
       " ['two hundred and thirty two years', 'CARDINAL'],\n",
       " ['American', 'NORP'],\n",
       " ['Tonight', 'TIME'],\n",
       " ['Americans', 'NORP'],\n",
       " ['Washington', 'GPE'],\n",
       " ['George W. Bush', 'PERSON'],\n",
       " ['America', 'GPE'],\n",
       " ['these last eight years', 'DATE'],\n",
       " ['Ohio', 'GPE'],\n",
       " ['one', 'CARDINAL'],\n",
       " ['Indiana', 'GPE'],\n",
       " ['twenty years', 'DATE'],\n",
       " ['China', 'GPE'],\n",
       " ['American', 'NORP'],\n",
       " ['Tonight', 'TIME'],\n",
       " ['American', 'NORP'],\n",
       " ['Democrats', 'NORP'],\n",
       " ['Republicans', 'NORP'],\n",
       " ['Independents', 'NORP'],\n",
       " ['the 21st century', 'DATE'],\n",
       " ['American', 'NORP'],\n",
       " ['next week', 'DATE'],\n",
       " ['Minnesota', 'GPE'],\n",
       " ['two', 'CARDINAL'],\n",
       " ['George Bush', 'PERSON'],\n",
       " ['Dick Cheney', 'PERSON'],\n",
       " ['third', 'ORDINAL'],\n",
       " ['the next four years', 'DATE'],\n",
       " ['the last eight', 'DATE'],\n",
       " ['November 4th', 'DATE'],\n",
       " ['Eight', 'CARDINAL'],\n",
       " ['Republican', 'NORP'],\n",
       " ['John McCain', 'PERSON'],\n",
       " ['next week', 'DATE'],\n",
       " ['John McCain', 'PERSON'],\n",
       " ['George Bush', 'PERSON'],\n",
       " ['ninety percent', 'PERCENT'],\n",
       " ['McCain', 'PERSON'],\n",
       " ['George Bush', 'PERSON'],\n",
       " ['more than ninety percent', 'PERCENT'],\n",
       " ['ten percent', 'PERCENT'],\n",
       " ['McCain', 'PERSON'],\n",
       " ['Americans', 'NORP'],\n",
       " ['Michigan', 'GPE'],\n",
       " ['third', 'ORDINAL'],\n",
       " ['fourth', 'ORDINAL'],\n",
       " ['fifth', 'ORDINAL'],\n",
       " ['Americans', 'NORP'],\n",
       " ['McCain', 'PERSON'],\n",
       " ['Americans', 'NORP'],\n",
       " ['under five million dollars', 'MONEY'],\n",
       " ['hundreds of billions', 'MONEY'],\n",
       " ['one penny', 'MONEY'],\n",
       " ['more than one hundred million', 'CARDINAL'],\n",
       " ['Americans', 'NORP'],\n",
       " ['Social Security', 'ORG'],\n",
       " ['John McCain', 'PERSON'],\n",
       " ['John McCain', 'PERSON'],\n",
       " ['over two decades', 'DATE'],\n",
       " ['Republican', 'NORP'],\n",
       " ['Washington', 'GPE'],\n",
       " ['the Ownership Society', 'ORG'],\n",
       " ['America', 'GPE'],\n",
       " ['Democrats', 'NORP'],\n",
       " ['the end of each month', 'DATE'],\n",
       " ['23 million', 'CARDINAL'],\n",
       " ['Bill Clinton', 'PERSON'],\n",
       " ['American', 'NORP'],\n",
       " ['7,500', 'MONEY'],\n",
       " ['2,000', 'MONEY'],\n",
       " ['George Bush', 'PERSON'],\n",
       " ['the Fortune 500', 'ORG'],\n",
       " ['tonight', 'TIME'],\n",
       " ['Iraq', 'GPE'],\n",
       " ['Afghanistan', 'GPE'],\n",
       " ['Pearl Harbor', 'FAC'],\n",
       " [\"Patton's Army\", 'ORG'],\n",
       " ['just three hours', 'TIME'],\n",
       " ['the South Side of Chicago', 'LOC'],\n",
       " ['two decades ago', 'DATE'],\n",
       " ['years', 'DATE'],\n",
       " ['tonight', 'TIME'],\n",
       " ['tonight', 'TIME'],\n",
       " ['John McCain', 'PERSON'],\n",
       " ['the United States', 'GPE'],\n",
       " ['American', 'NORP'],\n",
       " ['American', 'NORP'],\n",
       " ['American', 'NORP'],\n",
       " ['America', 'GPE'],\n",
       " ['one', 'CARDINAL'],\n",
       " ['American', 'NORP'],\n",
       " ['John McCain', 'PERSON'],\n",
       " ['America', 'GPE'],\n",
       " ['tomorrow', 'DATE'],\n",
       " ['95%', 'PERCENT'],\n",
       " ['ten years', 'DATE'],\n",
       " ['the Middle East', 'LOC'],\n",
       " ['Washington', 'GPE'],\n",
       " ['the last thirty years', 'DATE'],\n",
       " ['John McCain', 'PERSON'],\n",
       " ['twenty-six', 'CARDINAL'],\n",
       " ['today', 'DATE'],\n",
       " ['the day', 'DATE'],\n",
       " ['McCain', 'PERSON'],\n",
       " ['America', 'GPE'],\n",
       " ['American', 'NORP'],\n",
       " ['150 billion dollars', 'MONEY'],\n",
       " ['the next decade', 'DATE'],\n",
       " ['five million', 'CARDINAL'],\n",
       " ['America', 'GPE'],\n",
       " ['Michelle', 'PERSON'],\n",
       " ['tonight', 'TIME'],\n",
       " ['America', 'GPE'],\n",
       " ['American', 'NORP'],\n",
       " ['American', 'NORP'],\n",
       " ['Congress', 'ORG'],\n",
       " ['sick days', 'DATE'],\n",
       " ['America', 'GPE'],\n",
       " ['Social Security', 'ORG'],\n",
       " [\"an equal day's\", 'DATE'],\n",
       " ['America', 'GPE'],\n",
       " ['twenty-first century', 'DATE'],\n",
       " ['a twentieth century', 'DATE'],\n",
       " ['Democrats', 'NORP'],\n",
       " ['America', 'GPE'],\n",
       " ['John F. Kennedy', 'PERSON'],\n",
       " ['America', 'GPE'],\n",
       " ['America', 'GPE'],\n",
       " ['John McCain', 'PERSON'],\n",
       " ['McCain', 'PERSON'],\n",
       " ['Iraq', 'GPE'],\n",
       " ['just days', 'DATE'],\n",
       " ['John McCain', 'PERSON'],\n",
       " ['Afghanistan', 'GPE'],\n",
       " ['9/11', 'DATE'],\n",
       " ['Osama bin Laden', 'PERSON'],\n",
       " ['John McCain', 'PERSON'],\n",
       " ['bin Laden', 'PERSON'],\n",
       " ['today', 'DATE'],\n",
       " ['Iraq', 'GPE'],\n",
       " ['Iraqi', 'NORP'],\n",
       " ['the Bush Administration', 'ORG'],\n",
       " ['Iraq', 'GPE'],\n",
       " ['$79 billion', 'MONEY'],\n",
       " ['John McCain', 'PERSON'],\n",
       " ['America', 'GPE'],\n",
       " ['eighty', 'CARDINAL'],\n",
       " ['Iraq', 'GPE'],\n",
       " ['Israel', 'GPE'],\n",
       " ['Iran', 'GPE'],\n",
       " ['Washington', 'GPE'],\n",
       " ['Georgia', 'GPE'],\n",
       " ['John McCain', 'PERSON'],\n",
       " ['George Bush', 'PERSON'],\n",
       " ['Roosevelt', 'PERSON'],\n",
       " ['Kennedy', 'PERSON'],\n",
       " ['Democrats', 'NORP'],\n",
       " ['Democrats', 'NORP'],\n",
       " ['Bush', 'PERSON'],\n",
       " ['Americans', 'NORP'],\n",
       " ['Democrats', 'NORP'],\n",
       " ['Republicans', 'NORP'],\n",
       " ['Iraq', 'GPE'],\n",
       " ['al Qaeda', 'ORG'],\n",
       " ['Taliban', 'ORG'],\n",
       " ['Afghanistan', 'GPE'],\n",
       " ['Iran', 'GPE'],\n",
       " ['Russian', 'NORP'],\n",
       " ['the 21st century', 'DATE'],\n",
       " ['America', 'GPE'],\n",
       " ['the weeks ahead', 'DATE'],\n",
       " ['John McCain', 'PERSON'],\n",
       " ['John McCain', 'PERSON'],\n",
       " ['Democrats', 'NORP'],\n",
       " ['Republicans', 'NORP'],\n",
       " ['Independents', 'NORP'],\n",
       " ['Red America', 'LOC'],\n",
       " ['Blue America', 'LOC'],\n",
       " ['the United States of America', 'GPE'],\n",
       " ['John McCain', 'PERSON'],\n",
       " ['first', 'ORDINAL'],\n",
       " ['America', 'GPE'],\n",
       " ['Democrats', 'NORP'],\n",
       " ['Republicans', 'NORP'],\n",
       " ['these past eight years', 'DATE'],\n",
       " ['Ohio', 'GPE'],\n",
       " ['Cleveland', 'GPE'],\n",
       " ['the Second Amendment', 'LAW'],\n",
       " ['American', 'NORP'],\n",
       " ['America', 'GPE'],\n",
       " ['Washington', 'GPE'],\n",
       " ['Washington', 'GPE'],\n",
       " ['tonight', 'TIME'],\n",
       " ['America', 'GPE'],\n",
       " ['eighteen long months', 'DATE'],\n",
       " ['one', 'CARDINAL'],\n",
       " ['Washington', 'GPE'],\n",
       " ['Washington', 'GPE'],\n",
       " ['American', 'NORP'],\n",
       " ['America', 'GPE'],\n",
       " ['Illinois', 'GPE'],\n",
       " ['Washington', 'GPE'],\n",
       " ['first', 'ORDINAL'],\n",
       " ['Republicans', 'NORP'],\n",
       " ['Democratic', 'NORP'],\n",
       " ['their hours', 'TIME'],\n",
       " ['Earth', 'LOC'],\n",
       " ['American', 'NORP'],\n",
       " ['American', 'NORP'],\n",
       " ['night', 'TIME'],\n",
       " ['forty five years ago', 'DATE'],\n",
       " ['Americans', 'NORP'],\n",
       " ['Mall', 'FAC'],\n",
       " ['Washington', 'GPE'],\n",
       " ['Lincoln', 'ORG'],\n",
       " ['Georgia', 'GPE'],\n",
       " ['America', 'GPE'],\n",
       " ['America', 'GPE'],\n",
       " ['America', 'GPE'],\n",
       " ['American', 'NORP'],\n",
       " ['the United States of America', 'GPE']]"
      ]
     },
     "execution_count": 29,
     "metadata": {},
     "output_type": "execute_result"
    }
   ],
   "source": [
    "[[ent.text, ent.label_] for ent in doc.ents if ent.text]"
   ]
  },
  {
   "cell_type": "code",
   "execution_count": null,
   "id": "c5faf5ba",
   "metadata": {},
   "outputs": [],
   "source": []
  }
 ],
 "metadata": {
  "kernelspec": {
   "display_name": "Python 3",
   "language": "python",
   "name": "python3"
  },
  "language_info": {
   "codemirror_mode": {
    "name": "ipython",
    "version": 3
   },
   "file_extension": ".py",
   "mimetype": "text/x-python",
   "name": "python",
   "nbconvert_exporter": "python",
   "pygments_lexer": "ipython3",
   "version": "3.9.10"
  }
 },
 "nbformat": 4,
 "nbformat_minor": 5
}
