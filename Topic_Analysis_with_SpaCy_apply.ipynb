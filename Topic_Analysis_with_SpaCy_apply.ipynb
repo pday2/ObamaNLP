{
 "cells": [
  {
   "cell_type": "markdown",
   "metadata": {},
   "source": [
    "# Topic Analysis with SpaCy & Gensim"
   ]
  },
  {
   "cell_type": "markdown",
   "metadata": {},
   "source": [
    "## [Topic Table LaTeX code](#latex)"
   ]
  },
  {
   "cell_type": "code",
   "execution_count": 1,
   "metadata": {},
   "outputs": [],
   "source": [
    "# CONSTANTS ... so far best: 8, 0.5, False\n",
    "NUM_TOPICS = 8   # number of topics\n",
    "NO_ABOVE = 0.5   # token filter words appearing in more than X% of documents\n",
    "REM_SW = True    # True - removes kaggle stop words, false does not"
   ]
  },
  {
   "cell_type": "code",
   "execution_count": 2,
   "metadata": {},
   "outputs": [
    {
     "name": "stderr",
     "output_type": "stream",
     "text": [
      "2023-04-27 19:59:31.342904: I tensorflow/core/platform/cpu_feature_guard.cc:193] This TensorFlow binary is optimized with oneAPI Deep Neural Network Library (oneDNN) to use the following CPU instructions in performance-critical operations:  AVX2 FMA\n",
      "To enable them in other operations, rebuild TensorFlow with the appropriate compiler flags.\n",
      "2023-04-27 19:59:31.517120: E tensorflow/stream_executor/cuda/cuda_blas.cc:2981] Unable to register cuBLAS factory: Attempting to register factory for plugin cuBLAS when one has already been registered\n",
      "2023-04-27 19:59:32.045324: W tensorflow/stream_executor/platform/default/dso_loader.cc:64] Could not load dynamic library 'libnvinfer.so.7'; dlerror: libnvinfer.so.7: cannot open shared object file: No such file or directory\n",
      "2023-04-27 19:59:32.045418: W tensorflow/stream_executor/platform/default/dso_loader.cc:64] Could not load dynamic library 'libnvinfer_plugin.so.7'; dlerror: libnvinfer_plugin.so.7: cannot open shared object file: No such file or directory\n",
      "2023-04-27 19:59:32.045425: W tensorflow/compiler/tf2tensorrt/utils/py_utils.cc:38] TF-TRT Warning: Cannot dlopen some TensorRT libraries. If you would like to use Nvidia GPU with TensorRT, please make sure the missing libraries mentioned above are installed properly.\n",
      "2023-04-27 19:59:32.690562: W tensorflow/stream_executor/platform/default/dso_loader.cc:64] Could not load dynamic library 'libcuda.so.1'; dlerror: libcuda.so.1: cannot open shared object file: No such file or directory\n",
      "2023-04-27 19:59:32.690582: W tensorflow/stream_executor/cuda/cuda_driver.cc:263] failed call to cuInit: UNKNOWN ERROR (303)\n",
      "2023-04-27 19:59:32.690611: I tensorflow/stream_executor/cuda/cuda_diagnostics.cc:156] kernel driver does not appear to be running on this host (muddy-HP-ProDesk-600-G3-SFF): /proc/driver/nvidia/version does not exist\n"
     ]
    }
   ],
   "source": [
    "import pandas as pd\n",
    "import numpy as np\n",
    "import matplotlib.pyplot as plt\n",
    "import plotly.express as px\n",
    "import spacy\n",
    "import en_core_web_sm\n",
    "from wordcloud import WordCloud\n",
    "from gensim.corpora.dictionary import Dictionary\n",
    "from gensim.models import LdaMulticore\n",
    "from gensim.models import CoherenceModel\n",
    "import dateutil.parser as dparser\n",
    "import pyLDAvis.gensim_models\n",
    "pyLDAvis.enable_notebook() #Notebook visualisation enabled\n",
    "import os\n",
    "import re\n",
    "import unicodedata\n",
    "import en_core_web_md\n",
    "from sklearn.feature_extraction.text import ENGLISH_STOP_WORDS"
   ]
  },
  {
   "cell_type": "markdown",
   "metadata": {},
   "source": [
    "Read data and exploration"
   ]
  },
  {
   "cell_type": "code",
   "execution_count": 3,
   "metadata": {},
   "outputs": [
    {
     "name": "stdout",
     "output_type": "stream",
     "text": [
      "Total documents: 743\n"
     ]
    }
   ],
   "source": [
    "# Load up the files\n",
    "#path = './Data/DataUCSB/' # Smaller UCSB dataset\n",
    "#path = './Data/amrhet/' # larger American Rhetoric dataset\n",
    "paths = ['./Data/amrhet/', './NYT/', './Data/WSJ/', './Data/GWB/', './Data/speeches/', './Data/Top10/']\n",
    "\n",
    "speeches = []\n",
    "\n",
    "for path in paths:\n",
    "    list_of_files = []\n",
    "    for root, dirs, files in os.walk(path):\n",
    "        for file in files:\n",
    "            if file.endswith('.txt'):\n",
    "                list_of_files.append(os.path.join(root,file))\n",
    "   \n",
    "    for file in list_of_files:\n",
    "        with open(file, encoding='utf-8') as f:\n",
    "            text = f.read()\n",
    "        f.close()\n",
    "        speeches.append(text)\n",
    "\n",
    "#clean out goofy unicode  space characters \n",
    "speeches = [unicodedata.normalize(\"NFKD\", speech) for speech in speeches if len(speech)>0 ]\n",
    "#clean out xa0 space characters\n",
    "[speech.replace(u'\\xa0', '') for speech in speeches]; # ; supresses output\n",
    "# remove [stuff] in between square brackets\n",
    "def remove_bracket(text):\n",
    "    return re.sub(r'(\\[[^w]*\\]\\s)', '',text)\n",
    "speeches = [remove_bracket(speech) for speech in speeches]\n",
    "# Clean up whitespace\n",
    "speeches = [re.sub(r'[\\s+]', ' ', speech) for speech in speeches]\n",
    "print(\"Total documents:\",len(speeches))"
   ]
  },
  {
   "cell_type": "code",
   "execution_count": 4,
   "metadata": {},
   "outputs": [],
   "source": [
    "# Run this if you want to remove stop words \n",
    "def rem_stop_words(df):\n",
    "    kaggle_file = open(\"./Data/word_lists/kaggle_stopwords.txt\", \"r\")\n",
    "    kaggle_data = kaggle_file.read()\n",
    "    kaggle_list = [word for word in kaggle_data.split('\\n')]\n",
    "    kaggle_file.close()\n",
    "    my_list = ['thats', 'just', 'im', 'did', 'thing', 'mr', 'al', 'thank', 'okay', 'thank','thanks', \n",
    "               'question', 'joshua', 'president', 'obama', 'â', u'\\x99s', u'\\x99t', u'\\x99ve', u'\\x99m',u'\\x99re', '\\x99']\n",
    "    stop_list = list(set(kaggle_list) | set(my_list))\n",
    "    stop_words = ENGLISH_STOP_WORDS.union(stop_list)\n",
    "\n",
    "    for i in range(len(df)):\n",
    "            df.iloc[i] = ' '.join([word for word in df.iloc[i].split() if word.lower() not in stop_words])\n",
    "    return(df)"
   ]
  },
  {
   "cell_type": "markdown",
   "metadata": {},
   "source": [
    "Step 3: Tokenization and text cleanup"
   ]
  },
  {
   "cell_type": "code",
   "execution_count": 5,
   "metadata": {},
   "outputs": [],
   "source": [
    "oba_scripts=pd.DataFrame(speeches)\n",
    "oba_scripts = oba_scripts[0]\n",
    "if REM_SW:\n",
    "    oba_scripts=rem_stop_words(oba_scripts)"
   ]
  },
  {
   "cell_type": "code",
   "execution_count": 6,
   "metadata": {},
   "outputs": [
    {
     "data": {
      "text/plain": [
       "0      [governor, family, responder, community, newto...\n",
       "1      [selamat, pagi, wonderful, university, indones...\n",
       "2      [let, collins, introduction, incredible, leade...\n",
       "3      [hello, right, seat, want, becky, patton, extr...\n",
       "4      [morning, great, honor, today, course, truly, ...\n",
       "                             ...                        \n",
       "738    [hello, chicago, doubt, america, place, possib...\n",
       "739    [chairman, dean, great, friend, dick, durbin, ...\n",
       "740    [hello, america, hello, democrats, year, ago, ...\n",
       "741    [majesty, royal, highnesses, distinguished, me...\n",
       "742    [rare, honor, life, follow, hero, john, lewis,...\n",
       "Name: tokens, Length: 743, dtype: object"
      ]
     },
     "execution_count": 6,
     "metadata": {},
     "output_type": "execute_result"
    }
   ],
   "source": [
    "#Load SpaCy English Model\n",
    "nlp = en_core_web_md.load()\n",
    "#Tags to remove\n",
    "extags = ['PRON','CCONJ','PUNCT','PART','DET','ADP','NUM','SYM','SPACE']\n",
    "docs = oba_scripts.apply(nlp)\n",
    "tokens=[]\n",
    "#SpaCy tokenization + lemmatization + lowercase\n",
    "for speech in docs:\n",
    "    scr_tok = [token.lemma_.lower() for token in speech if token.pos_ not in extags and not token.is_stop and token.is_alpha]\n",
    "    tokens.append(scr_tok)\n",
    "data = pd.DataFrame()\n",
    "data['tokens'] = tokens\n",
    "data['tokens']\n"
   ]
  },
  {
   "cell_type": "markdown",
   "metadata": {},
   "source": [
    "## LDA Topic Analysis model and coherence scores"
   ]
  },
  {
   "cell_type": "code",
   "execution_count": 7,
   "metadata": {},
   "outputs": [],
   "source": [
    "token_dict = Dictionary(data['tokens'])\n",
    "#Filter out tokens that appear in less than 5 speeches, and tokens that appear in more than 70% of speeches since they are too general. Keep the top 1000 most frequent tokens\n",
    "token_dict.filter_extremes(no_below=5,no_above=NO_ABOVE,keep_n=1000)\n",
    "\n",
    "#Convert token counts into bag of words (BoW) corpus\n",
    "corpus = [token_dict.doc2bow(speech) for speech in data['tokens']]"
   ]
  },
  {
   "cell_type": "code",
   "execution_count": 57,
   "metadata": {},
   "outputs": [],
   "source": [
    "# # Don't need to run this everytime, commented out to save time\n",
    "\n",
    "# #Construct and train unsupervised LDA model + Determine optimal number of topics\n",
    "# umtopics, umscore = [], []\n",
    "# cvtopics, cvscore = [], []\n",
    "# #Compute coherence score using C_umass:\n",
    "# for i in range(3,15,1):\n",
    "#     model = LdaMulticore(corpus=corpus, id2word=token_dict, iterations=50, num_topics=i, workers=4, passes=10, random_state=47)\n",
    "#     #LdamultiCore uses multiple cores to speed up model training, use with caution if you have a weaker PC! (Find your max number of cores with ctrl+shift+esc, under CPU)\n",
    "#     cm = CoherenceModel(model=model, corpus=corpus, dictionary=token_dict, coherence='u_mass')\n",
    "\n",
    "#     umtopics.append(i)\n",
    "#     umscore.append(cm.get_coherence())\n",
    "# #Compute coherence score using C_v: \n",
    "# for i in range (3,15,1):\n",
    "#     model = LdaMulticore(corpus=corpus, id2word=token_dict, iterations=10, num_topics=i, workers = 4, passes=10, random_state=47)\n",
    "#     cm = CoherenceModel(model=model, texts = data['tokens'], corpus=corpus, dictionary=token_dict, coherence='c_v')\n",
    "\n",
    "#     cvtopics.append(i)\n",
    "#     cvscore.append(cm.get_coherence())\n",
    "# #The difference in coherence score measures is the method in which the text is segmented and probability is calculated\n",
    "# #Adjustable threshold for visualising with red vertical lines\n",
    "# threshold=9\n",
    "# fig, (ax1, ax2) = plt.subplots(1,2)\n",
    "# fig.suptitle('Coherence score by topic count using C_umass and C_v measure')\n",
    "# fig.subplots_adjust(wspace=0.4)\n",
    "\n",
    "# ax1.plot(umtopics,umscore)\n",
    "# ax1.set_xlabel('Number of Topics')\n",
    "# ax1.set_ylabel('Coherence Score (C_umass)')\n",
    "# ax1.axvline(x=threshold,c='red')\n",
    "\n",
    "# ax2.plot(cvtopics,cvscore)\n",
    "# ax2.set_xlabel('Number of Topics')\n",
    "# ax2.set_ylabel('Coherence Score (C_v)')\n",
    "# ax2.axvline(x=threshold,c='red')\n",
    "# #For both scores, higher values are better. Choice of topic count is subjective, but both scores must be taken into account.\n",
    "# plt.show()\n"
   ]
  },
  {
   "cell_type": "code",
   "execution_count": 58,
   "metadata": {},
   "outputs": [],
   "source": [
    "# um = pd.DataFrame({'number of topics': umtopics, 'score':umscore})\n",
    "# um['method'] = 'umass'\n",
    "# cv = pd.DataFrame({'number of topics': cvtopics, 'score':cvscore})\n",
    "# cv['method'] = 'cv'\n",
    "# coherence = pd.concat([um,cv])\n",
    "\n",
    "# fig = px.line(coherence, x=\"number of topics\", y=\"score\", facet_row=\"method\", width=600, \n",
    "#               title='Coherence score by topic count using C_umass and C_v measure')\n",
    "# fig.update_yaxes(matches=None)\n",
    "# fig.show()"
   ]
  },
  {
   "cell_type": "code",
   "execution_count": 10,
   "metadata": {},
   "outputs": [],
   "source": [
    "#fig.write_image(\"./plots/coherence_score_by_topic_num.png\", format='png', engine='kaleido')"
   ]
  },
  {
   "cell_type": "markdown",
   "metadata": {},
   "source": [
    "Based on the coherence scores, best is usually the max. In this case we choose to select 6 topics, since it is the max value for the C_v score while also having a relatively higher C_umass score."
   ]
  },
  {
   "cell_type": "code",
   "execution_count": 11,
   "metadata": {},
   "outputs": [
    {
     "data": {
      "text/plain": [
       "[(0,\n",
       "  '0.017*\"energy\" + 0.017*\"business\" + 0.015*\"company\" + 0.011*\"oil\" + 0.011*\"economic\" + 0.010*\"financial\" + 0.009*\"crisis\" + 0.009*\"clean\" + 0.009*\"industry\" + 0.008*\"plan\"'),\n",
       " (1,\n",
       "  '0.016*\"peace\" + 0.015*\"freedom\" + 0.012*\"democracy\" + 0.011*\"free\" + 0.010*\"human\" + 0.010*\"citizen\" + 0.009*\"europe\" + 0.008*\"generation\" + 0.007*\"century\" + 0.007*\"common\"'),\n",
       " (2,\n",
       "  '0.014*\"progress\" + 0.012*\"africa\" + 0.012*\"partner\" + 0.012*\"region\" + 0.010*\"human\" + 0.010*\"global\" + 0.010*\"partnership\" + 0.009*\"asia\" + 0.008*\"democracy\" + 0.008*\"trade\"'),\n",
       " (3,\n",
       "  '0.017*\"gun\" + 0.016*\"intelligence\" + 0.012*\"protect\" + 0.012*\"national\" + 0.010*\"court\" + 0.009*\"enforcement\" + 0.009*\"attack\" + 0.008*\"public\" + 0.008*\"terrorist\" + 0.008*\"review\"'),\n",
       " (4,\n",
       "  '0.022*\"health\" + 0.021*\"care\" + 0.015*\"tax\" + 0.015*\"pay\" + 0.013*\"insurance\" + 0.013*\"business\" + 0.011*\"reform\" + 0.010*\"cut\" + 0.010*\"college\" + 0.009*\"education\"'),\n",
       " (5,\n",
       "  '0.031*\"iraq\" + 0.023*\"military\" + 0.020*\"terrorist\" + 0.017*\"afghanistan\" + 0.016*\"troop\" + 0.013*\"attack\" + 0.010*\"iraqi\" + 0.010*\"serve\" + 0.010*\"qaeda\" + 0.009*\"ally\"'),\n",
       " (6,\n",
       "  '0.042*\"nuclear\" + 0.039*\"iran\" + 0.023*\"israel\" + 0.022*\"weapon\" + 0.017*\"international\" + 0.017*\"deal\" + 0.012*\"sanction\" + 0.011*\"program\" + 0.010*\"official\" + 0.010*\"obama\"'),\n",
       " (7,\n",
       "  '0.014*\"love\" + 0.011*\"god\" + 0.008*\"school\" + 0.007*\"white\" + 0.007*\"story\" + 0.007*\"talk\" + 0.006*\"black\" + 0.006*\"faith\" + 0.006*\"feel\" + 0.006*\"old\"')]"
      ]
     },
     "execution_count": 11,
     "metadata": {},
     "output_type": "execute_result"
    }
   ],
   "source": [
    "#Construct final model with NUM_TOPICS topics (Increase iterations and passes because it is the final model)\n",
    "finalmodel = LdaMulticore(corpus=corpus, \n",
    "                          id2word=token_dict, \n",
    "                          iterations=100, \n",
    "                          num_topics=NUM_TOPICS, \n",
    "                          workers = 4, \n",
    "                          passes=100, \n",
    "                          random_state=47)\n",
    "\n",
    "finalmodel.print_topics()"
   ]
  },
  {
   "cell_type": "code",
   "execution_count": 12,
   "metadata": {},
   "outputs": [
    {
     "data": {
      "text/plain": [
       "[(0,\n",
       "  '0.017*\"energy\" + 0.017*\"business\" + 0.015*\"company\" + 0.011*\"oil\" + 0.011*\"economic\" + 0.010*\"financial\" + 0.009*\"crisis\" + 0.009*\"clean\" + 0.009*\"industry\" + 0.008*\"plan\"'),\n",
       " (1,\n",
       "  '0.016*\"peace\" + 0.015*\"freedom\" + 0.012*\"democracy\" + 0.011*\"free\" + 0.010*\"human\" + 0.010*\"citizen\" + 0.009*\"europe\" + 0.008*\"generation\" + 0.007*\"century\" + 0.007*\"common\"'),\n",
       " (2,\n",
       "  '0.014*\"progress\" + 0.012*\"africa\" + 0.012*\"partner\" + 0.012*\"region\" + 0.010*\"human\" + 0.010*\"global\" + 0.010*\"partnership\" + 0.009*\"asia\" + 0.008*\"democracy\" + 0.008*\"trade\"'),\n",
       " (3,\n",
       "  '0.017*\"gun\" + 0.016*\"intelligence\" + 0.012*\"protect\" + 0.012*\"national\" + 0.010*\"court\" + 0.009*\"enforcement\" + 0.009*\"attack\" + 0.008*\"public\" + 0.008*\"terrorist\" + 0.008*\"review\"'),\n",
       " (4,\n",
       "  '0.022*\"health\" + 0.021*\"care\" + 0.015*\"tax\" + 0.015*\"pay\" + 0.013*\"insurance\" + 0.013*\"business\" + 0.011*\"reform\" + 0.010*\"cut\" + 0.010*\"college\" + 0.009*\"education\"'),\n",
       " (5,\n",
       "  '0.031*\"iraq\" + 0.023*\"military\" + 0.020*\"terrorist\" + 0.017*\"afghanistan\" + 0.016*\"troop\" + 0.013*\"attack\" + 0.010*\"iraqi\" + 0.010*\"serve\" + 0.010*\"qaeda\" + 0.009*\"ally\"'),\n",
       " (6,\n",
       "  '0.042*\"nuclear\" + 0.039*\"iran\" + 0.023*\"israel\" + 0.022*\"weapon\" + 0.017*\"international\" + 0.017*\"deal\" + 0.012*\"sanction\" + 0.011*\"program\" + 0.010*\"official\" + 0.010*\"obama\"'),\n",
       " (7,\n",
       "  '0.014*\"love\" + 0.011*\"god\" + 0.008*\"school\" + 0.007*\"white\" + 0.007*\"story\" + 0.007*\"talk\" + 0.006*\"black\" + 0.006*\"faith\" + 0.006*\"feel\" + 0.006*\"old\"')]"
      ]
     },
     "execution_count": 12,
     "metadata": {},
     "output_type": "execute_result"
    }
   ],
   "source": [
    "#Construct final model with NUM_TOPICS topics (Increase iterations and passes because it is the final model)\n",
    "finalmodel_8 = LdaMulticore(corpus=corpus, \n",
    "                          id2word=token_dict, \n",
    "                          iterations=100, \n",
    "                          num_topics=8, \n",
    "                          workers = 4, \n",
    "                          passes=100, \n",
    "                          random_state=47)\n",
    "\n",
    "finalmodel_8.print_topics()"
   ]
  },
  {
   "cell_type": "markdown",
   "metadata": {},
   "source": [
    "## <a id='latex'>Generate LaTeX code for table of topics</a>\n",
    "### copy the output and paste into LaTeX"
   ]
  },
  {
   "cell_type": "code",
   "execution_count": 62,
   "metadata": {},
   "outputs": [
    {
     "name": "stdout",
     "output_type": "stream",
     "text": [
      "\\begin{center}\n",
      "\\begin{tabular}{||c c c c c c c c||}\n",
      "\\hline\n",
      " Topic 0 & Topic 1 & Topic 2 & Topic 3 & Topic 4 & Topic 5 & Topic7 \\\\\n",
      " economy & democracy & intl relations & security & health care & terrorism & middle east & civil rights \\\\\n",
      "\\hline\\hline\n",
      "  energy & peace & progress & gun & health & iraq & nuclear & love \\\\\n",
      "  business & freedom & africa & intelligence & care & military & iran & god \\\\\n",
      "  company & democracy & partner & protect & tax & terrorist & israel & school \\\\\n",
      "  oil & free & region & national & pay & afghanistan & weapon & white \\\\\n",
      "  economic & human & human & court & insurance & troop & international & story \\\\\n",
      "  financial & citizen & global & enforcement & business & attack & deal & talk \\\\\n",
      "  crisis & europe & partnership & attack & reform & iraqi & sanction & black \\\\\n",
      "  clean & generation & asia & public & cut & serve & program & faith \\\\\n",
      "\\hline\n",
      "\\end{tabular}\n",
      "\\end{center}\n"
     ]
    }
   ],
   "source": [
    "# First select number of words to show for each topic, essential number of rows\n",
    "# Then verify correct topic file to retrieve the manual topic names\n",
    "numb_words = 8 # Number of words to show for each topic\n",
    "tn = pd.read_csv('./Data/genData/./Data/topics/topics_8.csv')\n",
    "topic_names = list(tn.topic_name)\n",
    "\n",
    "numb_topics = len(topic_names)\n",
    "print(r'\\begin{center}')\n",
    "# \\begin{tabular}{||c c c c||} \n",
    "line1 = r'\\begin{tabular}{||'\n",
    "for i in range(numb_topics-1): line1 += 'c '\n",
    "line1 += r'c||}'\n",
    "print(line1)\n",
    "print(r'\\hline')\n",
    "#Col1 & Col2 & Col2 & Col3 \\\\\n",
    "line3 = ' '\n",
    "for i in range(numb_topics-2): line3 += 'Topic '+ str(i) + ' & '\n",
    "line3 += 'Topic' + str(numb_topics-1) + r' \\\\'\n",
    "print(line3)\n",
    "line4 = ' '\n",
    "for name in topic_names[0:-1]: line4 += name + ' & '\n",
    "line4 += topic_names[-1] + r' \\\\'\n",
    "print(line4)\n",
    "print\n",
    "print(r'\\hline\\hline')\n",
    "for j in range(numb_words):\n",
    "    line = '  '\n",
    "    for i, topic in finalmodel_8.show_topics(num_topics=numb_topics, num_words=numb_words,formatted=False):\n",
    "        line += topic[j][0] + ' & '\n",
    "    line = line[:-3]\n",
    "    line += r' \\\\'\n",
    "    print(line)\n",
    "print(r'\\hline')\n",
    "print(r'\\end{tabular}')\n",
    "print(r'\\end{center}')"
   ]
  },
  {
   "cell_type": "code",
   "execution_count": 64,
   "metadata": {},
   "outputs": [],
   "source": [
    "def latexizer(topic_names, finalmodel_8, numb_words, start):\n",
    "    print(\"THIS IS MESSED UP RIGHT NOW--- FORGET IT, needs work on splitting table in two\")\n",
    "    numb_topics = len(topic_names)\n",
    "    print(r'\\begin{center}')\n",
    "    # \\begin{tabular}{||c c c c||} \n",
    "    line1 = r'\\begin{tabular}{||'\n",
    "    for i in range(start, start+numb_topics-1): line1 += 'c '\n",
    "    line1 += r'c||}'\n",
    "    print(line1)\n",
    "    print(r'\\hline')\n",
    "    #Col1 & Col2 & Col2 & Col3 \\\\\n",
    "    line3 = ' '\n",
    "    for i in range(start, start+numb_topics-1): line3 += 'Topic '+ str(i) + ' & '\n",
    "    line3 += 'Topic ' + str(start+numb_topics-1) + r' \\\\'\n",
    "    print(line3)\n",
    "    line4 = ' '\n",
    "    for name in topic_names[0:-1]: line4 += name + ' & '\n",
    "    line4 += topic_names[-1] + r' \\\\'\n",
    "    print(line4)\n",
    "    print\n",
    "    print(r'\\hline\\hline')\n",
    "    for j in range(numb_words):\n",
    "        line = '  '\n",
    "        for i, topic in finalmodel_8.show_topics(num_topics=numb_topics, num_words=numb_words,formatted=False):\n",
    "            line += topic[j][0] + ' & '\n",
    "        line = line[:-3]\n",
    "        line += r' \\\\'\n",
    "        print(line)\n",
    "    print(r'\\hline')\n",
    "    print(r'\\end{tabular}')\n",
    "    print(r'\\end{center}')"
   ]
  },
  {
   "cell_type": "code",
   "execution_count": 59,
   "metadata": {},
   "outputs": [
    {
     "name": "stdout",
     "output_type": "stream",
     "text": [
      "\\begin{center}\n",
      "\\begin{tabular}{||c c c c||}\n",
      "\\hline\n",
      " Topic 0 & Topic 1 & Topic 2 & Topic 3 \\\\\n",
      " economy & democracy & intl relations & security \\\\\n",
      "\\hline\\hline\n",
      "  nuclear & peace & energy & gun \\\\\n",
      "  business & intelligence & care & africa \\\\\n",
      "  school & terrorist & democracy & protect \\\\\n",
      "  region & white & pay & oil \\\\\n",
      "  troop & story & international & human \\\\\n",
      "  financial & citizen & deal & attack \\\\\n",
      "  black & sanction & reform & attack \\\\\n",
      "  asia & cut & clean & serve \\\\\n",
      "\\hline\n",
      "\\end{tabular}\n",
      "\\end{center}\n"
     ]
    }
   ],
   "source": [
    "# latexizer(topic_names, model, numb_words, start)\n",
    "latexizer(topic_names[0:4], finalmodel_8, 8, 0)"
   ]
  },
  {
   "cell_type": "code",
   "execution_count": 60,
   "metadata": {},
   "outputs": [
    {
     "name": "stdout",
     "output_type": "stream",
     "text": [
      "\\begin{center}\n",
      "\\begin{tabular}{||c c c c||}\n",
      "\\hline\n",
      " Topic 4 & Topic 5 & Topic 6 & Topic 7 \\\\\n",
      " health care & terrorism & middle east & civil rights \\\\\n",
      "\\hline\\hline\n",
      "  iraq & energy & love & peace \\\\\n",
      "  care & intelligence & god & africa \\\\\n",
      "  israel & tax & democracy & school \\\\\n",
      "  pay & national & free & afghanistan \\\\\n",
      "  insurance & human & court & economic \\\\\n",
      "  deal & financial & global & citizen \\\\\n",
      "  europe & sanction & crisis & attack \\\\\n",
      "  generation & clean & asia & public \\\\\n",
      "\\hline\n",
      "\\end{tabular}\n",
      "\\end{center}\n"
     ]
    }
   ],
   "source": [
    "# latexizer(topic_names, model, numb_words, start)\n",
    "latexizer(topic_names[4:8], finalmodel_8, 8, 4)"
   ]
  },
  {
   "cell_type": "code",
   "execution_count": 14,
   "metadata": {},
   "outputs": [],
   "source": [
    "save_model=pd.DataFrame(finalmodel_8.print_topics(),columns=['del', 'topic'])\n",
    "save_model.drop('del', axis=1, inplace=True)\n",
    "#save_model.to_csv('./Data/genData/./Data/topics/topics_8.csv', index=False)"
   ]
  },
  {
   "cell_type": "code",
   "execution_count": 15,
   "metadata": {},
   "outputs": [
    {
     "data": {
      "text/plain": [
       "array([[1.6797418e-04, 1.0341981e-03, 6.7944976e-04, ..., 1.3563832e-03,\n",
       "        3.0581248e-06, 3.0369247e-06],\n",
       "       [1.9855765e-03, 2.2151479e-03, 1.9789231e-03, ..., 3.0999406e-06,\n",
       "        3.0964031e-06, 3.1525030e-06],\n",
       "       [1.6530842e-04, 1.8501725e-03, 4.8767275e-04, ..., 3.9084089e-06,\n",
       "        3.9081087e-06, 3.9102101e-06],\n",
       "       ...,\n",
       "       [6.6028573e-05, 1.7983015e-03, 3.5228746e-04, ..., 3.2903652e-06,\n",
       "        3.2747459e-06, 2.1263678e-03],\n",
       "       [1.6693427e-03, 3.4536477e-03, 3.2747808e-04, ..., 3.5808547e-04,\n",
       "        3.7957532e-03, 5.9942963e-06],\n",
       "       [6.8670249e-04, 9.3691115e-04, 1.7871216e-03, ..., 2.4554124e-06,\n",
       "        5.4784655e-04, 2.0755665e-06]], dtype=float32)"
      ]
     },
     "execution_count": 15,
     "metadata": {},
     "output_type": "execute_result"
    }
   ],
   "source": [
    "finalmodel_8.get_topics() # shape: num_topics x vocabulary_size"
   ]
  },
  {
   "cell_type": "code",
   "execution_count": 16,
   "metadata": {},
   "outputs": [
    {
     "data": {
      "text/plain": [
       "['0.017*\"energy\" + 0.017*\"business\" + 0.015*\"company\" + 0.011*\"oil\" + 0.011*\"economic\" + 0.010*\"financial\" + 0.009*\"crisis\" + 0.009*\"clean\"',\n",
       " '0.016*\"peace\" + 0.015*\"freedom\" + 0.012*\"democracy\" + 0.011*\"free\" + 0.010*\"human\" + 0.010*\"citizen\" + 0.009*\"europe\" + 0.008*\"generation\"',\n",
       " '0.014*\"progress\" + 0.012*\"africa\" + 0.012*\"partner\" + 0.012*\"region\" + 0.010*\"human\" + 0.010*\"global\" + 0.010*\"partnership\" + 0.009*\"asia\"',\n",
       " '0.017*\"gun\" + 0.016*\"intelligence\" + 0.012*\"protect\" + 0.012*\"national\" + 0.010*\"court\" + 0.009*\"enforcement\" + 0.009*\"attack\" + 0.008*\"public\"',\n",
       " '0.022*\"health\" + 0.021*\"care\" + 0.015*\"tax\" + 0.015*\"pay\" + 0.013*\"insurance\" + 0.013*\"business\" + 0.011*\"reform\" + 0.010*\"cut\"',\n",
       " '0.031*\"iraq\" + 0.023*\"military\" + 0.020*\"terrorist\" + 0.017*\"afghanistan\" + 0.016*\"troop\" + 0.013*\"attack\" + 0.010*\"iraqi\" + 0.010*\"serve\"',\n",
       " '0.042*\"nuclear\" + 0.039*\"iran\" + 0.023*\"israel\" + 0.022*\"weapon\" + 0.017*\"international\" + 0.017*\"deal\" + 0.012*\"sanction\" + 0.011*\"program\"',\n",
       " '0.014*\"love\" + 0.011*\"god\" + 0.008*\"school\" + 0.007*\"white\" + 0.007*\"story\" + 0.007*\"talk\" + 0.006*\"black\" + 0.006*\"faith\"']"
      ]
     },
     "execution_count": 16,
     "metadata": {},
     "output_type": "execute_result"
    }
   ],
   "source": [
    "[topic for num, topic in finalmodel_8.show_topics(num_topics=8, num_words=8,formatted=True)]"
   ]
  },
  {
   "cell_type": "code",
   "execution_count": 17,
   "metadata": {},
   "outputs": [
    {
     "name": "stdout",
     "output_type": "stream",
     "text": [
      "0::['energy', 'business', 'company', 'oil', 'economic', 'financial', 'crisis', 'clean']\n",
      "1::['peace', 'freedom', 'democracy', 'free', 'human', 'citizen', 'europe', 'generation']\n",
      "2::['progress', 'africa', 'partner', 'region', 'human', 'global', 'partnership', 'asia']\n",
      "3::['gun', 'intelligence', 'protect', 'national', 'court', 'enforcement', 'attack', 'public']\n",
      "4::['health', 'care', 'tax', 'pay', 'insurance', 'business', 'reform', 'cut']\n",
      "5::['iraq', 'military', 'terrorist', 'afghanistan', 'troop', 'attack', 'iraqi', 'serve']\n",
      "6::['nuclear', 'iran', 'israel', 'weapon', 'international', 'deal', 'sanction', 'program']\n",
      "7::['love', 'god', 'school', 'white', 'story', 'talk', 'black', 'faith']\n",
      "\n"
     ]
    }
   ],
   "source": [
    "x=finalmodel_8.show_topics(num_topics=8, num_words=8,formatted=False)\n",
    "topics_words = [(tp[0], [wd[0] for wd in tp[1]]) for tp in x]\n",
    "#Below Code Prints Topics and Words\n",
    "for topic,words in topics_words:\n",
    "    print(str(topic)+ \"::\"+ str(words))\n",
    "print()"
   ]
  },
  {
   "cell_type": "code",
   "execution_count": 18,
   "metadata": {},
   "outputs": [
    {
     "data": {
      "text/plain": [
       "[(1, 0.068497464), (7, 0.9281483)]"
      ]
     },
     "execution_count": 18,
     "metadata": {},
     "output_type": "execute_result"
    }
   ],
   "source": [
    "#Checking for first speech - DNC keynote speech 2004\n",
    "finalmodel_8[corpus][0]\n",
    "#Main topic is Topic 3, which seems to be some sort of mixed bag. The speech itself covers his personal life and the democratic party."
   ]
  },
  {
   "cell_type": "markdown",
   "metadata": {},
   "source": [
    "What follows is an advanced visualisation of the topics. Each circle represents a topic and upon hovering over a circle, the bars on the right illustrate the frequency of words that appear in the topic. Closer circles are more related, which is logical since political arguments correlate highly with voting campaigns. Visualisation of circles is done through PCA dimension reduction."
   ]
  },
  {
   "cell_type": "markdown",
   "metadata": {},
   "source": [
    "### The topic numbers and order in the plot below do NOT correspond to the topic numbers in print_topics"
   ]
  },
  {
   "cell_type": "code",
   "execution_count": 19,
   "metadata": {},
   "outputs": [
    {
     "name": "stderr",
     "output_type": "stream",
     "text": [
      "/home/muddy/.local/lib/python3.10/site-packages/pyLDAvis/_prepare.py:244: FutureWarning: In a future version of pandas all arguments of DataFrame.drop except for the argument 'labels' will be keyword-only.\n",
      "  by='saliency', ascending=False).head(R).drop('saliency', 1)\n"
     ]
    },
    {
     "data": {
      "text/html": [
       "\n",
       "<link rel=\"stylesheet\" type=\"text/css\" href=\"https://cdn.jsdelivr.net/gh/bmabey/pyLDAvis@3.4.0/pyLDAvis/js/ldavis.v1.0.0.css\">\n",
       "\n",
       "\n",
       "<div id=\"ldavis_el462561404043820989121866356725\" style=\"background-color:white;\"></div>\n",
       "<script type=\"text/javascript\">\n",
       "\n",
       "var ldavis_el462561404043820989121866356725_data = {\"mdsDat\": {\"x\": [0.08810757432305241, 0.1899228746697548, 0.09758550532064533, -0.010636266566415599, -0.15217664141861437, 0.0006048605686841298, -0.07878168801819813, -0.1346262188789085], \"y\": [0.10008091145954011, -0.07827219195180035, -0.0941015289818852, 0.16194209284429953, 0.02517266453134503, 0.07371988623283009, -0.08314825076688466, -0.10539358336744474], \"topics\": [1, 2, 3, 4, 5, 6, 7, 8], \"cluster\": [1, 1, 1, 1, 1, 1, 1, 1], \"Freq\": [19.388143411925945, 17.238398323721754, 13.314906751927694, 13.302435182862894, 12.340479417878642, 10.18904912208888, 7.47022837083776, 6.7563594187564275]}, \"tinfo\": {\"Term\": [\"nuclear\", \"iraq\", \"iran\", \"health\", \"military\", \"business\", \"terrorist\", \"israel\", \"weapon\", \"insurance\", \"tax\", \"care\", \"afghanistan\", \"troop\", \"company\", \"energy\", \"gun\", \"international\", \"intelligence\", \"peace\", \"democracy\", \"freedom\", \"attack\", \"deal\", \"love\", \"iraqi\", \"africa\", \"human\", \"program\", \"region\", \"black\", \"brother\", \"prayer\", \"sister\", \"church\", \"love\", \"michelle\", \"father\", \"wife\", \"boy\", \"guy\", \"pray\", \"neighborhood\", \"tragedy\", \"clinton\", \"mayor\", \"hero\", \"daughter\", \"king\", \"mom\", \"teach\", \"african\", \"mother\", \"chicago\", \"story\", \"bit\", \"miss\", \"legacy\", \"shake\", \"wear\", \"god\", \"memory\", \"walk\", \"son\", \"night\", \"heart\", \"little\", \"feel\", \"white\", \"parent\", \"bless\", \"old\", \"faith\", \"kid\", \"talk\", \"school\", \"hear\", \"friend\", \"race\", \"city\", \"moment\", \"lose\", \"understand\", \"generation\", \"honor\", \"john\", \"service\", \"tonight\", \"like\", \"serve\", \"care\", \"learn\", \"insurance\", \"medicare\", \"taxis\", \"deficit\", \"affordable\", \"republicans\", \"tax\", \"democrats\", \"wealthy\", \"health\", \"bill\", \"college\", \"afford\", \"spending\", \"debt\", \"code\", \"rate\", \"hire\", \"care\", \"bipartisan\", \"income\", \"pay\", \"proposal\", \"saving\", \"teacher\", \"quality\", \"republican\", \"cover\", \"sick\", \"competition\", \"class\", \"education\", \"cut\", \"cost\", \"money\", \"pass\", \"reform\", \"party\", \"business\", \"student\", \"school\", \"plan\", \"worker\", \"middle\", \"spend\", \"idea\", \"company\", \"vote\", \"washington\", \"recovery\", \"consumer\", \"oil\", \"bank\", \"financial\", \"industry\", \"sector\", \"efficient\", \"clean\", \"taxpayer\", \"space\", \"energy\", \"scientist\", \"creation\", \"product\", \"gas\", \"research\", \"recession\", \"wind\", \"sell\", \"infrastructure\", \"natural\", \"market\", \"crisis\", \"company\", \"investment\", \"disaster\", \"produce\", \"speed\", \"loan\", \"car\", \"business\", \"invest\", \"economic\", \"technology\", \"fast\", \"growth\", \"worker\", \"plan\", \"climate\", \"street\", \"trade\", \"rule\", \"term\", \"administration\", \"big\", \"cut\", \"program\", \"percent\", \"immigrant\", \"europe\", \"ideal\", \"moral\", \"revolution\", \"peace\", \"reject\", \"freedom\", \"found\", \"border\", \"humanity\", \"belong\", \"globe\", \"embrace\", \"belief\", \"democracy\", \"self\", \"blood\", \"feed\", \"liberty\", \"russia\", \"independence\", \"witness\", \"ignore\", \"cold\", \"living\", \"dignity\", \"truth\", \"define\", \"equal\", \"fear\", \"choose\", \"free\", \"human\", \"path\", \"citizen\", \"common\", \"conflict\", \"century\", \"seek\", \"value\", \"faith\", \"justice\", \"generation\", \"society\", \"true\", \"word\", \"rule\", \"understand\", \"progress\", \"iraqi\", \"iraq\", \"troop\", \"afghanistan\", \"civilian\", \"operation\", \"qaeda\", \"commander\", \"personnel\", \"coalition\", \"haven\", \"military\", \"uniform\", \"terror\", \"armed\", \"syria\", \"terrorist\", \"enemy\", \"extremist\", \"army\", \"defeat\", \"plot\", \"destruction\", \"strike\", \"mission\", \"combat\", \"attack\", \"deploy\", \"strategy\", \"murder\", \"ally\", \"soldier\", \"kill\", \"regime\", \"serve\", \"veteran\", \"threat\", \"ground\", \"protect\", \"service\", \"partner\", \"leadership\", \"safe\", \"pacific\", \"asia\", \"africa\", \"partnership\", \"empower\", \"summit\", \"relationship\", \"development\", \"promote\", \"disease\", \"mutual\", \"region\", \"korea\", \"commerce\", \"partner\", \"trade\", \"visit\", \"host\", \"initiative\", \"cooperation\", \"china\", \"talent\", \"prosperous\", \"tie\", \"connect\", \"friendship\", \"global\", \"entrepreneur\", \"universal\", \"progress\", \"society\", \"human\", \"prosperity\", \"forge\", \"democracy\", \"growth\", \"commitment\", \"welcome\", \"advance\", \"economic\", \"climate\", \"dignity\", \"civil\", \"strengthen\", \"freedom\", \"business\", \"open\", \"free\", \"student\", \"citizen\", \"peace\", \"legal\", \"gun\", \"court\", \"enforcement\", \"intelligence\", \"review\", \"department\", \"background\", \"criminal\", \"release\", \"check\", \"agency\", \"authority\", \"executive\", \"director\", \"crime\", \"case\", \"report\", \"secret\", \"officer\", \"homeland\", \"victim\", \"capability\", \"constitution\", \"mass\", \"shoot\", \"board\", \"advocate\", \"involve\", \"subject\", \"national\", \"police\", \"public\", \"general\", \"federal\", \"protect\", \"official\", \"attack\", \"administration\", \"process\", \"justice\", \"prevent\", \"terrorist\", \"order\", \"threat\", \"safe\", \"debate\", \"violence\", \"veteran\", \"action\", \"program\", \"israel\", \"iran\", \"sanction\", \"negotiation\", \"nuclear\", \"obama\", \"accord\", \"barack\", \"material\", \"resolution\", \"weapon\", \"diplomatic\", \"speech\", \"deal\", \"international\", \"european\", \"official\", \"russia\", \"council\", \"minister\", \"non\", \"opposition\", \"prime\", \"bomb\", \"statement\", \"discussion\", \"relation\", \"prospect\", \"impose\", \"agreement\", \"regime\", \"program\", \"nations\", \"arm\", \"policy\", \"administration\", \"address\", \"agree\", \"ally\", \"develop\", \"threat\", \"action\", \"talk\", \"white\", \"commitment\", \"seek\", \"prevent\"], \"Freq\": [1033.0, 1241.0, 832.0, 1482.0, 1088.0, 1628.0, 1014.0, 477.0, 772.0, 709.0, 919.0, 1591.0, 713.0, 655.0, 1036.0, 1021.0, 455.0, 754.0, 499.0, 1073.0, 925.0, 1044.0, 775.0, 726.0, 985.0, 391.0, 456.0, 915.0, 844.0, 649.0, 382.87298163947617, 196.37333001599745, 158.6205203001563, 139.84148877646803, 215.9547367699199, 813.4090535023557, 235.8650886552311, 335.0447498094332, 140.3580441395726, 115.46480073960758, 120.27739345700256, 109.91599118461136, 122.64631412206366, 180.41812518504548, 145.30631278531243, 137.73215599814355, 77.34369095261172, 197.67731869489344, 198.0374996754111, 94.34332445242909, 208.07375501761285, 208.51300827484107, 191.73861855990685, 106.50114347773467, 421.15157390812436, 85.39820520007936, 75.33810830502846, 116.34858988986046, 72.67131806664771, 77.15441508770944, 651.9872030112454, 100.91709776629138, 199.15640096448882, 178.22350362456137, 208.29229445469102, 322.14226730459325, 354.6093747863136, 369.9670981764981, 421.49387198171104, 270.11912087145583, 336.6610133495001, 367.8662259784598, 382.2433583566332, 288.1219533918908, 409.8161246804672, 472.8294115834217, 337.5888895103709, 344.4574032372987, 249.3820016381168, 310.43951459802264, 307.4414584924745, 347.3660866232509, 335.76594807165003, 361.760363175645, 259.526892503795, 233.35934911687713, 277.14076134471577, 265.62648304774854, 255.41234644424242, 277.89181555911205, 301.9986431430565, 250.48901351206422, 708.5098144304935, 225.7213876666766, 207.35860119406487, 449.52787751210207, 276.2180745272754, 470.01032931677634, 789.7372429381365, 340.43461836294114, 131.9438162961402, 1184.9492214643096, 269.96143130430033, 537.1326806528954, 291.63553261388176, 234.78625687463386, 241.37309591907345, 100.57732624257964, 264.6723247940329, 151.5357283344648, 1136.0287846612125, 140.98689882589093, 175.69425453222516, 777.0919971352223, 155.7656528047567, 94.0383484900818, 212.0594549998789, 129.88709438763337, 251.66837955197764, 120.63455983947053, 105.94566661354875, 79.07522567635911, 411.1201945519024, 492.20542718597227, 552.014890371049, 396.4811826569142, 359.31397713798896, 479.6211543391308, 588.3240874264073, 396.1564644871944, 682.8238413258442, 393.4013295883537, 479.42812288307573, 474.38630384546633, 401.70304541522006, 354.26992738247446, 307.6019455911799, 325.67276826864514, 361.99507698813466, 314.0315190233096, 299.4920962899071, 242.6500769571917, 196.34092353589585, 447.075384972928, 267.15375493903, 422.1834379827809, 353.1029897245537, 173.9704756244597, 89.28222011193878, 353.8725208649304, 121.02789715035955, 172.00089248877586, 714.0649377875922, 98.10078546718664, 62.6313605267459, 116.11391358033428, 162.69430586113992, 188.0713545919081, 139.26545589239154, 105.99148533793195, 130.7922280701242, 119.65280726032489, 76.39403806263122, 321.5591049785287, 368.4105255296675, 608.0910653626155, 308.57473153667405, 90.90926080735026, 100.85506216396509, 72.76901340939564, 131.6761857112977, 141.50487076899586, 713.2210495233917, 259.51317757671893, 436.3916599969029, 255.61566967338433, 177.10055827918407, 213.916236750813, 320.3491935808607, 328.93351676603993, 191.46385050519405, 184.969261153206, 189.03129663690675, 208.6279787804901, 190.8260524670398, 194.56023889165633, 203.14632336813105, 203.9032000134388, 201.44160398324604, 183.26586273679263, 252.01326310596076, 350.7069678731121, 254.3460696519052, 143.55285912185005, 82.80957341154075, 661.2553960492402, 150.03781726494174, 618.6229533303024, 128.3211722544638, 251.44365565685754, 91.51132608007606, 66.37247947713294, 93.87851257933849, 114.43450184172434, 166.7820212496631, 505.5719122860171, 151.02322610217092, 56.63609104238257, 61.910391883578825, 175.8232508536315, 190.87587506568366, 81.26454117841115, 63.4512258414632, 73.60349695212902, 78.60201223177197, 52.6880865560779, 235.1026104181797, 183.62016522922247, 135.5509847575216, 135.58751644644366, 255.05247010580965, 268.4459627181016, 435.9720063232973, 423.01989684464604, 185.0685797520957, 400.602522398989, 277.4516360866218, 191.87060809053037, 297.9168412330556, 258.3094518753268, 275.57557128489634, 269.8445908607319, 251.03868945290662, 308.5510628659505, 192.50046413654687, 223.54482561095065, 203.0212845214738, 199.27060853496423, 191.99626944980668, 181.10165911901413, 390.9162606884286, 1189.6543905897622, 616.299214182528, 658.4713423360521, 272.9296514338983, 159.20604010845733, 367.1423882877218, 211.30216796116846, 81.02247568662894, 197.56067205189234, 90.69360507562268, 875.8298354024832, 178.12018571629827, 193.12639691659336, 126.03652261416856, 220.5128822890072, 751.0642294036443, 193.21802392300236, 143.34900543840587, 154.12656109359773, 164.86952595696263, 83.71070985258645, 81.16618849422186, 184.9337466373081, 301.8379187256916, 178.26830776306483, 477.3200664032847, 84.80163724386236, 220.67688469416572, 60.41630450725068, 340.31136059068257, 164.6637200608863, 257.4017305377387, 182.29528275659018, 384.80386638482105, 236.6915962411447, 290.7598516851306, 179.3191793900169, 248.64178772380797, 212.61175635428043, 213.96391120524976, 199.87240864833146, 187.72361509697413, 203.98046906918876, 287.126712707918, 390.09254485571716, 308.80763308196737, 97.61483815570823, 121.22264933546086, 146.0110415247552, 197.19307502332836, 162.3048335765918, 108.5810689586243, 91.35777565268629, 368.31613550387164, 106.91335205690876, 70.49391013060969, 374.5284860768178, 254.60640159995515, 182.83240004530845, 72.5073460630897, 118.92333247129717, 137.4878225290396, 145.16000589892565, 60.32628977600803, 64.71361861460805, 82.6297490611452, 74.74226133989654, 58.09236703958868, 315.23012386625265, 85.52935142165714, 75.03958395486634, 429.90605738103324, 206.2885979339883, 326.37669669381904, 172.81527225351917, 102.07582008357953, 261.6680151435739, 158.5282723398345, 197.23283523899863, 157.44227933046784, 119.63377163810404, 227.38168534791632, 133.90449535443807, 135.6412286069357, 141.33219881308415, 142.16187467677395, 168.7837563250487, 180.98284681459538, 147.44076848411132, 148.2621524236783, 143.1613005842999, 141.88227861337415, 141.80756339601294, 161.80351482522258, 392.88348021499723, 225.04916507151913, 214.90833119033238, 365.0841976597192, 182.20627505857118, 172.37610985136723, 116.44095836836615, 117.95662279662864, 121.16517586559712, 114.80690816619139, 141.74202397987207, 110.44807329071216, 107.91309037850404, 63.537420374716085, 78.87179906069905, 180.04323743440588, 110.58736078083142, 52.812584379651774, 90.38846209609969, 98.09756496533406, 64.6359849337774, 68.67422120894628, 76.35727748938213, 71.98680489061911, 57.230096580741844, 54.20426704523331, 39.46065721578482, 78.63909292889934, 42.74611753730778, 271.0130486516271, 125.3576992437748, 193.4367478430289, 116.16899975872553, 160.6230404574283, 285.48137557484404, 150.35839666734233, 212.12432140748768, 161.34193704912875, 121.68899693327339, 175.06747970498006, 151.78004633611886, 190.23313557028612, 133.0538701159315, 152.91822319187662, 133.19107387894684, 128.52428776740894, 129.74065809386906, 119.4926733797528, 119.27422574140877, 118.64830204564231, 470.85536158775426, 818.0808928631161, 250.12579093695106, 138.68032221965785, 886.0449348912317, 212.2947321039485, 91.46792707146237, 79.18552730124537, 130.4631940912101, 101.73199554049955, 460.4139656466007, 64.97241080588763, 137.92850192152963, 352.5537875767851, 361.6719207294097, 79.81978339056715, 212.95119541367447, 160.2838773206391, 86.45160158682756, 100.35043636979843, 54.11530463605665, 55.50634510470813, 84.32168046028337, 70.54346022173002, 43.49383203495885, 53.47884822502815, 46.115624636011084, 35.507577397379855, 49.48239856617818, 153.9371975029018, 106.91981983047802, 233.01354416104886, 72.88166875539855, 75.93977106494756, 146.69618648444245, 135.85700346493766, 116.0608790724088, 127.05760124033647, 125.31711276976917, 94.0172304867508, 114.52265505330067, 112.00616703194285, 109.90077487806732, 105.42519423883009, 102.22063210494872, 98.21085908530071, 96.50890781654594], \"Total\": [1033.0, 1241.0, 832.0, 1482.0, 1088.0, 1628.0, 1014.0, 477.0, 772.0, 709.0, 919.0, 1591.0, 713.0, 655.0, 1036.0, 1021.0, 455.0, 754.0, 499.0, 1073.0, 925.0, 1044.0, 775.0, 726.0, 985.0, 391.0, 456.0, 915.0, 844.0, 649.0, 404.2448514565872, 212.7986757756682, 173.8330969974883, 158.21779346678346, 244.8112240117815, 985.7098701584911, 289.06445400831007, 420.1048767640749, 178.05588454763412, 150.64815325981405, 156.96893988291774, 144.4436443977018, 167.30452797529193, 249.51825463851944, 202.8953383816384, 195.7363946467631, 110.62835248608957, 284.05592988834144, 285.7550696480882, 137.25467414253575, 302.87618881795015, 304.9212887575053, 282.4342482480895, 157.48600876877452, 626.6634927608193, 127.11904550283622, 112.22889294169667, 173.36393156611504, 108.37284037049437, 115.21632209719216, 975.111794987585, 150.82882831065794, 300.90885330916313, 269.38480768725367, 320.04012374366454, 506.92869274997264, 565.7733667758616, 594.9631684642001, 703.211316762268, 455.0725437476063, 617.7230974664653, 718.7866901531344, 763.5094315965001, 519.3858911357703, 842.3637515799965, 1055.209876541423, 657.9850988308382, 744.660064112034, 444.0765878572004, 675.1494506192496, 673.978308436011, 873.3693515971049, 861.8405901363448, 1076.0032531278384, 535.9938709433878, 417.16456598248607, 684.1764934856002, 673.2817597266915, 588.2963827539469, 965.8584404419107, 1591.479190221081, 592.0315314979919, 709.7783369060918, 230.56677805474112, 215.66681008973703, 479.91820590706544, 296.30721313452005, 529.8448854585631, 919.5359575853251, 402.00598441981526, 159.7218881892869, 1482.299440528414, 340.0019772677449, 678.0024296187607, 369.54856153445115, 302.8998057908325, 317.9131958248325, 135.00014684382177, 364.6387040565759, 211.18695807364037, 1591.479190221081, 206.3901509676977, 257.891891417122, 1149.784354018349, 232.3071336343737, 140.46049003870885, 318.7661568076538, 195.56599276289194, 380.8225208073689, 185.24697163684837, 165.91225085285603, 126.57367828521365, 659.6140046754651, 801.0856365863315, 913.4499467326896, 667.4519664219218, 603.4728795184544, 838.2515755509692, 1073.897895893288, 724.2911907820729, 1628.6075654504275, 785.1998746666825, 1055.209876541423, 1060.9024635780574, 935.1200857793199, 751.439873393542, 601.3250666025679, 727.8378593134709, 1036.3649199037886, 682.294083167866, 663.0580441249075, 278.754377600841, 234.17068615426987, 534.877418745432, 324.48120938792175, 518.5177468926612, 447.2302669739241, 223.94890069350973, 115.05187505223405, 470.98233718530804, 168.85506066027318, 245.3644098741351, 1021.1121366878705, 146.0325698735812, 94.3486511322091, 175.7371133643992, 247.68535176101028, 297.9310247246987, 222.07000775665622, 172.15684454123976, 213.15825338493565, 195.41680150288005, 127.80821003668909, 539.6084962570025, 620.1362220569766, 1036.3649199037886, 526.1504862805959, 161.5957262523546, 179.96460551847238, 130.18430061506453, 236.67069073487653, 254.41145261528789, 1628.6075654504275, 538.3260192676777, 1003.1291010079171, 543.9067094701937, 354.3463326073571, 482.04809400934283, 935.1200857793199, 1060.9024635780574, 428.59805671726565, 444.19549736302514, 518.5181402168984, 681.9992640532133, 552.7100194995296, 593.8673862773104, 775.3480408252047, 913.4499467326896, 844.69314552625, 511.32283277868214, 307.71137604543, 437.3917300499429, 342.3635831088174, 200.85944674336852, 120.00955385033161, 1073.7904610600547, 244.09930171626894, 1044.1717745989001, 218.4324481304505, 432.9760942946447, 158.7405557915841, 115.74882353339895, 167.9591894314432, 208.0386563258661, 303.534718464322, 925.8759744822581, 277.70918923886, 105.60506930147098, 115.61301711509185, 329.0721223803636, 358.07905065306176, 152.55835383048154, 119.63449136933109, 139.8400397015416, 153.95355555019358, 103.49140043272044, 463.1416006398817, 368.5097990742677, 279.1650835591292, 279.8024412550242, 526.7931731204499, 555.0002948704516, 907.3077543695772, 915.7471345784169, 390.8952770408015, 951.3431253652766, 637.9477475077908, 424.1690594707921, 755.8010981429524, 661.475483161522, 764.0051605509617, 763.5094315965001, 724.0537547453919, 1076.0032531278384, 496.0868285417794, 678.243338293287, 580.1289278086384, 681.9992640532133, 861.8405901363448, 1021.6163308961258, 391.7895431894897, 1241.5270598359211, 655.85215230415, 713.1066807285869, 302.8269092649692, 183.31395629984598, 429.59335491511007, 250.1598946675215, 99.6305069430838, 244.46449490217168, 112.58098508356431, 1088.0659972983456, 222.24018731836696, 241.42092768852405, 157.6397194274948, 286.56289987062337, 1014.4455173130922, 261.53266432990625, 205.64605987523592, 225.41970336850045, 241.40941268324545, 122.68384240720754, 119.51093771333527, 278.1240879945186, 454.72953077492315, 271.0704930492184, 775.2025064442704, 140.6033918894859, 372.18888124740147, 103.54146478566018, 612.9978281038456, 292.41667340574537, 492.0559282573102, 331.02771755957394, 965.8584404419107, 498.0297314365804, 785.4293856931274, 371.6393410794547, 1006.2206058811303, 684.1764934856002, 722.3349603674519, 567.3831098048636, 591.6835109050733, 220.3922200519547, 329.1455270986226, 456.57005368661396, 409.31527363614435, 133.41042911997835, 168.76554284704727, 209.3283892962099, 314.54570072884013, 277.1994470349401, 187.20130552572806, 157.6564471315416, 649.8250589674335, 197.05516129986356, 133.19108161519898, 722.3349603674519, 518.5181402168984, 374.7826500651649, 148.64277067694925, 244.63700369909506, 285.0607959783832, 302.8539195081945, 127.84174160596231, 138.5430292922514, 178.77546080041282, 167.32541920740564, 132.83756563906564, 725.1216595982402, 196.89366207352248, 173.60841409591893, 1021.6163308961258, 496.0868285417794, 915.7471345784169, 445.68850263690064, 246.68124047494788, 925.8759744822581, 482.04809400934283, 681.1202260259952, 487.15772173681665, 327.73317817555375, 1003.1291010079171, 428.59805671726565, 463.1416006398817, 524.4032976057566, 535.8069186008983, 1044.1717745989001, 1628.6075654504275, 712.6022251341333, 907.3077543695772, 785.1998746666825, 951.3431253652766, 1073.7904610600547, 186.08258816576233, 455.11182183881743, 287.5717566516784, 291.57427635114027, 499.4245624623874, 256.61643734572056, 262.35892883874845, 182.12459187630074, 186.28383122401226, 196.89868232202758, 203.0469095287395, 264.18204115078873, 215.41994308677513, 211.68982959203313, 125.11997839581385, 158.92173165649808, 392.0569645316981, 243.6070386915848, 120.1481308980855, 219.71340344989096, 240.5647209586461, 158.9431123509552, 170.99493117765778, 192.78159000980963, 185.36923970461925, 149.8900741617204, 141.9688451212052, 104.27869197779235, 211.69518542818633, 115.62958945135499, 798.0176559351344, 362.8431474010383, 582.8139147964838, 336.44649564626735, 497.1236446525106, 1006.2206058811303, 463.35432934402445, 775.2025064442704, 593.8673862773104, 402.28137217779073, 724.0537547453919, 606.1675547517565, 1014.4455173130922, 530.05754201793, 785.4293856931274, 591.6835109050733, 528.9091228510977, 581.0920510759431, 498.0297314365804, 817.937908613198, 844.69314552625, 477.84038431504763, 832.0453392483513, 274.18892394674356, 158.864141814245, 1033.5276415058197, 279.609640811341, 129.70020461520897, 112.73267321791013, 189.1518379240178, 168.52664705599233, 772.0127471287083, 119.72887703285268, 277.75185372777173, 726.4382737219311, 754.9618661760131, 170.08118465640132, 463.35432934402445, 358.07905065306176, 193.29502846844775, 231.86727312129585, 130.08899533103036, 135.81074671931788, 207.02537502006982, 174.79728666675496, 113.51107880378578, 146.26475954726772, 126.5105067599691, 97.83499263099458, 138.41698711892073, 457.7572534201024, 331.02771755957394, 844.69314552625, 217.68366387125735, 232.69325870066413, 632.1399469956044, 593.8673862773104, 480.60502489620967, 577.5469693755849, 612.9978281038456, 409.48596955110236, 785.4293856931274, 817.937908613198, 842.3637515799965, 703.211316762268, 681.1202260259952, 661.475483161522, 606.1675547517565], \"Category\": [\"Default\", \"Default\", \"Default\", \"Default\", \"Default\", \"Default\", \"Default\", \"Default\", \"Default\", \"Default\", \"Default\", \"Default\", \"Default\", \"Default\", \"Default\", \"Default\", \"Default\", \"Default\", \"Default\", \"Default\", \"Default\", \"Default\", \"Default\", \"Default\", \"Default\", \"Default\", \"Default\", \"Default\", \"Default\", \"Default\", \"Topic1\", \"Topic1\", \"Topic1\", \"Topic1\", \"Topic1\", \"Topic1\", \"Topic1\", \"Topic1\", \"Topic1\", \"Topic1\", \"Topic1\", \"Topic1\", \"Topic1\", \"Topic1\", \"Topic1\", \"Topic1\", \"Topic1\", \"Topic1\", \"Topic1\", \"Topic1\", \"Topic1\", \"Topic1\", \"Topic1\", \"Topic1\", \"Topic1\", \"Topic1\", \"Topic1\", \"Topic1\", \"Topic1\", \"Topic1\", \"Topic1\", \"Topic1\", \"Topic1\", \"Topic1\", \"Topic1\", \"Topic1\", \"Topic1\", \"Topic1\", \"Topic1\", \"Topic1\", \"Topic1\", \"Topic1\", \"Topic1\", \"Topic1\", \"Topic1\", \"Topic1\", \"Topic1\", \"Topic1\", \"Topic1\", \"Topic1\", \"Topic1\", \"Topic1\", \"Topic1\", \"Topic1\", \"Topic1\", \"Topic1\", \"Topic1\", \"Topic1\", \"Topic1\", \"Topic1\", \"Topic1\", \"Topic1\", \"Topic2\", \"Topic2\", \"Topic2\", \"Topic2\", \"Topic2\", \"Topic2\", \"Topic2\", \"Topic2\", \"Topic2\", \"Topic2\", \"Topic2\", \"Topic2\", \"Topic2\", \"Topic2\", \"Topic2\", \"Topic2\", \"Topic2\", \"Topic2\", \"Topic2\", \"Topic2\", \"Topic2\", \"Topic2\", \"Topic2\", \"Topic2\", \"Topic2\", \"Topic2\", \"Topic2\", \"Topic2\", \"Topic2\", \"Topic2\", \"Topic2\", \"Topic2\", \"Topic2\", \"Topic2\", \"Topic2\", \"Topic2\", \"Topic2\", \"Topic2\", \"Topic2\", \"Topic2\", \"Topic2\", \"Topic2\", \"Topic2\", \"Topic2\", \"Topic2\", \"Topic2\", \"Topic2\", \"Topic2\", \"Topic2\", \"Topic3\", \"Topic3\", \"Topic3\", \"Topic3\", \"Topic3\", \"Topic3\", \"Topic3\", \"Topic3\", \"Topic3\", \"Topic3\", \"Topic3\", \"Topic3\", \"Topic3\", \"Topic3\", \"Topic3\", \"Topic3\", \"Topic3\", \"Topic3\", \"Topic3\", \"Topic3\", \"Topic3\", \"Topic3\", \"Topic3\", \"Topic3\", \"Topic3\", \"Topic3\", \"Topic3\", \"Topic3\", \"Topic3\", \"Topic3\", \"Topic3\", \"Topic3\", \"Topic3\", \"Topic3\", \"Topic3\", \"Topic3\", \"Topic3\", \"Topic3\", \"Topic3\", \"Topic3\", \"Topic3\", \"Topic3\", \"Topic3\", \"Topic3\", \"Topic3\", \"Topic3\", \"Topic3\", \"Topic3\", \"Topic3\", \"Topic4\", \"Topic4\", \"Topic4\", \"Topic4\", \"Topic4\", \"Topic4\", \"Topic4\", \"Topic4\", \"Topic4\", \"Topic4\", \"Topic4\", \"Topic4\", \"Topic4\", \"Topic4\", \"Topic4\", \"Topic4\", \"Topic4\", \"Topic4\", \"Topic4\", \"Topic4\", \"Topic4\", \"Topic4\", \"Topic4\", \"Topic4\", \"Topic4\", \"Topic4\", \"Topic4\", \"Topic4\", \"Topic4\", \"Topic4\", \"Topic4\", \"Topic4\", \"Topic4\", \"Topic4\", \"Topic4\", \"Topic4\", \"Topic4\", \"Topic4\", \"Topic4\", \"Topic4\", \"Topic4\", \"Topic4\", \"Topic4\", \"Topic4\", \"Topic4\", \"Topic4\", \"Topic4\", \"Topic4\", \"Topic4\", \"Topic4\", \"Topic5\", \"Topic5\", \"Topic5\", \"Topic5\", \"Topic5\", \"Topic5\", \"Topic5\", \"Topic5\", \"Topic5\", \"Topic5\", \"Topic5\", \"Topic5\", \"Topic5\", \"Topic5\", \"Topic5\", \"Topic5\", \"Topic5\", \"Topic5\", \"Topic5\", \"Topic5\", \"Topic5\", \"Topic5\", \"Topic5\", \"Topic5\", \"Topic5\", \"Topic5\", \"Topic5\", \"Topic5\", \"Topic5\", \"Topic5\", \"Topic5\", \"Topic5\", \"Topic5\", \"Topic5\", \"Topic5\", \"Topic5\", \"Topic5\", \"Topic5\", \"Topic5\", \"Topic5\", \"Topic5\", \"Topic5\", \"Topic5\", \"Topic6\", \"Topic6\", \"Topic6\", \"Topic6\", \"Topic6\", \"Topic6\", \"Topic6\", \"Topic6\", \"Topic6\", \"Topic6\", \"Topic6\", \"Topic6\", \"Topic6\", \"Topic6\", \"Topic6\", \"Topic6\", \"Topic6\", \"Topic6\", \"Topic6\", \"Topic6\", \"Topic6\", \"Topic6\", \"Topic6\", \"Topic6\", \"Topic6\", \"Topic6\", \"Topic6\", \"Topic6\", \"Topic6\", \"Topic6\", \"Topic6\", \"Topic6\", \"Topic6\", \"Topic6\", \"Topic6\", \"Topic6\", \"Topic6\", \"Topic6\", \"Topic6\", \"Topic6\", \"Topic6\", \"Topic6\", \"Topic6\", \"Topic6\", \"Topic6\", \"Topic6\", \"Topic6\", \"Topic6\", \"Topic6\", \"Topic6\", \"Topic6\", \"Topic7\", \"Topic7\", \"Topic7\", \"Topic7\", \"Topic7\", \"Topic7\", \"Topic7\", \"Topic7\", \"Topic7\", \"Topic7\", \"Topic7\", \"Topic7\", \"Topic7\", \"Topic7\", \"Topic7\", \"Topic7\", \"Topic7\", \"Topic7\", \"Topic7\", \"Topic7\", \"Topic7\", \"Topic7\", \"Topic7\", \"Topic7\", \"Topic7\", \"Topic7\", \"Topic7\", \"Topic7\", \"Topic7\", \"Topic7\", \"Topic7\", \"Topic7\", \"Topic7\", \"Topic7\", \"Topic7\", \"Topic7\", \"Topic7\", \"Topic7\", \"Topic7\", \"Topic7\", \"Topic7\", \"Topic7\", \"Topic7\", \"Topic7\", \"Topic7\", \"Topic7\", \"Topic7\", \"Topic7\", \"Topic7\", \"Topic7\", \"Topic7\", \"Topic8\", \"Topic8\", \"Topic8\", \"Topic8\", \"Topic8\", \"Topic8\", \"Topic8\", \"Topic8\", \"Topic8\", \"Topic8\", \"Topic8\", \"Topic8\", \"Topic8\", \"Topic8\", \"Topic8\", \"Topic8\", \"Topic8\", \"Topic8\", \"Topic8\", \"Topic8\", \"Topic8\", \"Topic8\", \"Topic8\", \"Topic8\", \"Topic8\", \"Topic8\", \"Topic8\", \"Topic8\", \"Topic8\", \"Topic8\", \"Topic8\", \"Topic8\", \"Topic8\", \"Topic8\", \"Topic8\", \"Topic8\", \"Topic8\", \"Topic8\", \"Topic8\", \"Topic8\", \"Topic8\", \"Topic8\", \"Topic8\", \"Topic8\", \"Topic8\", \"Topic8\", \"Topic8\"], \"logprob\": [30.0, 29.0, 28.0, 27.0, 26.0, 25.0, 24.0, 23.0, 22.0, 21.0, 20.0, 19.0, 18.0, 17.0, 16.0, 15.0, 14.0, 13.0, 12.0, 11.0, 10.0, 9.0, 8.0, 7.0, 6.0, 5.0, 4.0, 3.0, 2.0, 1.0, -5.0521, -5.7198, -5.9333, -6.0593, -5.6248, -4.2986, -5.5366, -5.1856, -6.0556, -6.2509, -6.21, -6.3001, -6.1905, -5.8046, -6.021, -6.0745, -6.6516, -5.7132, -5.7114, -6.4529, -5.662, -5.6598, -5.7437, -6.3317, -4.9569, -6.5525, -6.6779, -6.2433, -6.7139, -6.654, -4.5198, -6.3855, -5.7058, -5.8168, -5.6609, -5.2249, -5.1288, -5.0864, -4.956, -5.401, -5.1808, -5.0921, -5.0538, -5.3365, -4.9841, -4.8411, -5.178, -5.1579, -5.4809, -5.2619, -5.2716, -5.1495, -5.1834, -5.1089, -5.441, -5.5473, -5.3753, -5.4178, -5.457, -5.3726, -5.2894, -5.4764, -4.3192, -5.463, -5.5479, -4.7741, -5.2611, -4.7296, -4.2106, -5.0521, -5.9999, -3.8049, -5.284, -4.5961, -5.2068, -5.4236, -5.396, -6.2714, -5.3038, -5.8615, -3.847, -5.9337, -5.7136, -4.2268, -5.834, -6.3386, -5.5255, -6.0157, -5.3542, -6.0896, -6.2194, -6.5119, -4.8634, -4.6834, -4.5687, -4.8997, -4.9981, -4.7093, -4.505, -4.9005, -4.3561, -4.9075, -4.7097, -4.7203, -4.8866, -5.0123, -5.1535, -5.0964, -4.9907, -5.1328, -5.1802, -5.1324, -5.3442, -4.5213, -5.0362, -4.5786, -4.7573, -5.4652, -6.1323, -4.7551, -5.828, -5.4766, -4.0531, -6.0381, -6.4868, -5.8695, -5.5322, -5.3872, -5.6877, -5.9607, -5.7505, -5.8395, -6.2882, -4.8509, -4.7149, -4.2137, -4.8921, -6.1142, -6.0104, -6.3368, -5.7437, -5.6717, -4.0543, -5.0653, -4.5455, -5.0804, -5.4473, -5.2585, -4.8547, -4.8282, -5.3694, -5.4039, -5.3822, -5.2835, -5.3727, -5.3533, -5.3101, -5.3064, -5.3186, -5.4131, -5.0936, -4.7632, -5.0844, -5.6564, -6.2066, -4.129, -5.6122, -4.1956, -5.7686, -5.0959, -6.1067, -6.4278, -6.0811, -5.8831, -5.5064, -4.3974, -5.6057, -6.5865, -6.4974, -5.4536, -5.3715, -6.2254, -6.4729, -6.3244, -6.2587, -6.6587, -5.1631, -5.4103, -5.7138, -5.7135, -5.0817, -5.0305, -4.5456, -4.5757, -5.4024, -4.6302, -4.9975, -5.3663, -4.9263, -5.069, -5.0043, -5.0253, -5.0975, -4.8912, -5.363, -5.2135, -5.3098, -5.3285, -5.3657, -5.4241, -4.5796, -3.4666, -4.1243, -4.0581, -4.9389, -5.4779, -4.6423, -5.1948, -6.1533, -5.262, -6.0406, -3.7729, -5.3656, -5.2847, -5.7115, -5.1521, -3.9266, -5.2842, -5.5828, -5.5103, -5.4429, -6.1207, -6.1516, -5.3281, -4.8382, -5.3648, -4.3799, -6.1078, -5.1514, -6.4468, -4.7182, -5.4442, -4.9974, -5.3424, -4.5953, -5.0813, -4.8756, -5.3589, -5.0321, -5.1886, -5.1823, -5.2504, -5.3131, -5.0385, -4.6966, -4.3901, -4.6238, -5.7755, -5.5589, -5.3728, -5.0723, -5.267, -5.669, -5.8417, -4.4476, -5.6845, -6.101, -4.4308, -4.8168, -5.1479, -6.0728, -5.578, -5.433, -5.3787, -6.2567, -6.1865, -5.9421, -6.0424, -6.2945, -4.6032, -5.9076, -6.0385, -4.2929, -5.0272, -4.5684, -5.2043, -5.7308, -4.7894, -5.2906, -5.0721, -5.2974, -5.5721, -4.9299, -5.4594, -5.4465, -5.4054, -5.3995, -5.2279, -5.1581, -5.3631, -5.3575, -5.3925, -5.4015, -5.402, -4.9597, -4.0726, -4.6298, -4.6759, -4.146, -4.841, -4.8964, -5.2887, -5.2758, -5.249, -5.3029, -5.0921, -5.3416, -5.3648, -5.8945, -5.6783, -4.8529, -5.3403, -6.0794, -5.542, -5.4601, -5.8773, -5.8167, -5.7107, -5.7696, -5.999, -6.0533, -6.3708, -5.6812, -6.2908, -4.4439, -5.2149, -4.7812, -5.2911, -4.967, -4.3919, -5.0331, -4.6889, -4.9626, -5.2446, -4.8809, -5.0237, -4.7979, -5.1554, -5.0162, -5.1543, -5.19, -5.1806, -5.2629, -5.2647, -5.2699, -3.7911, -3.2387, -4.4237, -5.0135, -3.1589, -4.5877, -5.4297, -5.5739, -5.0746, -5.3233, -3.8135, -5.7717, -5.0189, -4.0805, -4.0549, -5.5659, -4.5846, -4.8687, -5.4861, -5.337, -5.9545, -5.9292, -5.511, -5.6894, -6.173, -5.9664, -6.1145, -6.3759, -6.044, -4.9091, -5.2736, -4.4946, -5.6568, -5.6157, -4.9573, -5.0341, -5.1916, -5.101, -5.1148, -5.4022, -5.2049, -5.2271, -5.2461, -5.2877, -5.3185, -5.3585, -5.376], \"loglift\": [30.0, 29.0, 28.0, 27.0, 26.0, 25.0, 24.0, 23.0, 22.0, 21.0, 20.0, 19.0, 18.0, 17.0, 16.0, 15.0, 14.0, 13.0, 12.0, 11.0, 10.0, 9.0, 8.0, 7.0, 6.0, 5.0, 4.0, 3.0, 2.0, 1.0, 1.5862, 1.5602, 1.5489, 1.517, 1.5151, 1.4484, 1.4371, 1.4143, 1.4026, 1.3745, 1.3743, 1.3673, 1.33, 1.3163, 1.3067, 1.2891, 1.2826, 1.278, 1.2738, 1.2656, 1.2651, 1.2605, 1.2532, 1.2493, 1.2431, 1.2427, 1.242, 1.2417, 1.2409, 1.2395, 1.238, 1.2387, 1.2278, 1.2274, 1.211, 1.1871, 1.1733, 1.1654, 1.1287, 1.1189, 1.0335, 0.9707, 0.9486, 1.0512, 0.92, 0.8377, 0.9732, 0.8696, 1.0635, 0.8636, 0.8556, 0.7185, 0.6979, 0.5505, 0.9152, 1.0596, 0.7368, 0.7104, 0.8062, 0.3947, -0.0215, 0.7804, 1.7562, 1.7368, 1.7187, 1.6926, 1.6878, 1.6382, 1.6059, 1.5918, 1.567, 1.5341, 1.5274, 1.5251, 1.5213, 1.5033, 1.4826, 1.4637, 1.4376, 1.4261, 1.4209, 1.3769, 1.3742, 1.3663, 1.3583, 1.3568, 1.3504, 1.3488, 1.3438, 1.3291, 1.3095, 1.2876, 1.2853, 1.271, 1.2544, 1.2372, 1.2395, 1.1997, 1.1563, 1.1546, 0.8888, 1.0669, 0.9691, 0.9532, 0.9131, 1.0061, 1.0877, 0.9538, 0.7062, 0.9821, 0.9633, 1.8776, 1.8401, 1.837, 1.8219, 1.8108, 1.78, 1.7638, 1.7627, 1.7304, 1.6833, 1.661, 1.6586, 1.6185, 1.6066, 1.6019, 1.596, 1.5562, 1.5497, 1.5312, 1.5279, 1.5257, 1.5017, 1.4986, 1.4955, 1.4831, 1.4827, 1.4411, 1.4372, 1.4346, 1.43, 1.4297, 1.1906, 1.2866, 1.1839, 1.2612, 1.3227, 1.2038, 0.945, 0.8453, 1.2105, 1.1402, 1.0072, 0.8318, 0.9528, 0.9004, 0.6769, 0.5167, 0.5828, 0.9902, 1.8175, 1.7963, 1.72, 1.6813, 1.6462, 1.5324, 1.5305, 1.4937, 1.4853, 1.4738, 1.4664, 1.4611, 1.4355, 1.4195, 1.4184, 1.4122, 1.4081, 1.3942, 1.3927, 1.3904, 1.3881, 1.3874, 1.3831, 1.3754, 1.345, 1.3421, 1.3392, 1.3206, 1.2948, 1.2928, 1.2919, 1.2909, 1.2843, 1.2449, 1.2695, 1.1523, 1.1846, 1.2239, 1.0863, 1.0769, 0.9975, 0.9771, 0.958, 0.7681, 1.0706, 0.9073, 0.9673, 0.7869, 0.5156, 0.2871, 2.0901, 2.0496, 2.0301, 2.0126, 1.9883, 1.9513, 1.9352, 1.9235, 1.8855, 1.8793, 1.8761, 1.8753, 1.871, 1.8691, 1.8685, 1.8303, 1.7917, 1.7895, 1.7314, 1.7121, 1.7109, 1.71, 1.7054, 1.6842, 1.6825, 1.6732, 1.6073, 1.5867, 1.5696, 1.5536, 1.5038, 1.518, 1.4443, 1.4957, 1.172, 1.3484, 1.0986, 1.3635, 0.6943, 0.9235, 0.8756, 1.0489, 0.9443, 2.2065, 2.1473, 2.1265, 2.0021, 1.9715, 1.953, 1.9236, 1.8169, 1.7486, 1.7392, 1.7382, 1.7161, 1.6724, 1.6476, 1.627, 1.5726, 1.5661, 1.566, 1.5626, 1.5547, 1.5484, 1.5328, 1.5226, 1.5121, 1.478, 1.4568, 1.4508, 1.4501, 1.4451, 1.4183, 1.4064, 1.2522, 1.3365, 1.4015, 1.0202, 1.1717, 1.0445, 1.1543, 1.2761, 0.7996, 1.1205, 1.0558, 0.9727, 0.957, 0.4615, 0.0868, 0.7084, 0.4724, 0.5819, 0.381, 0.2594, 2.4544, 2.4472, 2.3491, 2.2892, 2.2809, 2.2518, 2.1742, 2.1469, 2.1373, 2.1087, 2.0241, 1.9716, 1.9262, 1.9204, 1.9166, 1.8937, 1.816, 1.8045, 1.7723, 1.706, 1.6972, 1.6945, 1.682, 1.6681, 1.6484, 1.6314, 1.6314, 1.6225, 1.604, 1.5991, 1.5143, 1.5314, 1.4913, 1.5309, 1.4645, 1.3345, 1.4688, 1.2983, 1.2911, 1.3986, 1.1746, 1.2095, 0.9204, 1.212, 0.9579, 1.1031, 1.1795, 1.0949, 1.1668, 0.6689, 0.6314, 2.68, 2.6778, 2.6028, 2.5588, 2.5407, 2.4193, 2.3454, 2.3415, 2.3232, 2.1899, 2.1778, 2.0834, 1.9947, 1.9717, 1.9588, 1.9382, 1.9173, 1.8909, 1.8901, 1.8572, 1.8176, 1.7999, 1.7965, 1.7873, 1.7354, 1.6886, 1.6855, 1.6811, 1.666, 1.6049, 1.5646, 1.4068, 1.6005, 1.5749, 1.2339, 1.2196, 1.2738, 1.1805, 1.1072, 1.2233, 0.7692, 0.7065, 0.6581, 0.797, 0.7981, 0.7873, 0.8572]}, \"token.table\": {\"Topic\": [1, 2, 3, 5, 7, 8, 1, 2, 3, 4, 5, 6, 7, 8, 1, 2, 3, 4, 5, 6, 7, 8, 1, 2, 3, 4, 5, 6, 7, 8, 2, 3, 4, 5, 6, 7, 8, 1, 2, 3, 4, 6, 7, 8, 1, 2, 3, 4, 1, 2, 3, 6, 1, 2, 4, 5, 6, 7, 8, 4, 5, 6, 8, 1, 6, 1, 3, 7, 8, 1, 2, 3, 4, 5, 6, 7, 8, 2, 3, 4, 5, 6, 8, 4, 5, 6, 7, 8, 1, 3, 4, 5, 7, 8, 1, 4, 5, 6, 7, 8, 1, 4, 5, 7, 4, 5, 6, 8, 1, 2, 3, 4, 5, 6, 7, 8, 1, 2, 3, 4, 5, 6, 7, 8, 1, 2, 4, 6, 7, 2, 3, 4, 6, 8, 1, 8, 1, 2, 3, 4, 5, 6, 7, 8, 1, 2, 3, 4, 5, 6, 1, 2, 3, 4, 5, 6, 7, 8, 1, 2, 3, 4, 7, 8, 2, 3, 5, 6, 7, 8, 1, 2, 3, 7, 1, 3, 4, 6, 8, 1, 2, 3, 4, 5, 6, 7, 8, 1, 4, 5, 6, 1, 2, 3, 5, 6, 7, 8, 1, 4, 5, 6, 7, 8, 2, 3, 4, 5, 6, 7, 8, 1, 5, 6, 1, 2, 4, 1, 2, 3, 4, 6, 3, 4, 5, 6, 7, 8, 1, 2, 3, 4, 5, 1, 2, 3, 4, 5, 6, 7, 1, 2, 3, 4, 5, 6, 7, 8, 1, 2, 3, 4, 5, 6, 7, 1, 2, 3, 4, 6, 7, 1, 2, 3, 4, 6, 2, 3, 6, 8, 1, 2, 3, 4, 5, 6, 8, 1, 2, 4, 6, 1, 2, 3, 4, 5, 6, 7, 1, 3, 4, 5, 6, 7, 8, 1, 2, 4, 5, 6, 7, 8, 2, 5, 6, 7, 8, 1, 2, 3, 4, 5, 6, 1, 2, 3, 4, 6, 8, 1, 2, 3, 4, 6, 8, 1, 2, 7, 8, 1, 2, 4, 5, 6, 8, 1, 2, 3, 4, 7, 8, 1, 4, 5, 6, 7, 8, 1, 2, 3, 6, 3, 5, 6, 7, 8, 1, 5, 7, 8, 3, 4, 6, 7, 1, 2, 3, 4, 5, 6, 7, 8, 1, 2, 3, 4, 5, 6, 7, 8, 1, 2, 3, 6, 7, 1, 2, 3, 4, 6, 4, 5, 6, 7, 8, 1, 2, 3, 4, 6, 7, 1, 2, 4, 5, 6, 7, 2, 3, 6, 2, 4, 5, 6, 7, 8, 2, 3, 4, 5, 6, 7, 8, 1, 3, 5, 6, 8, 1, 2, 3, 4, 7, 8, 1, 2, 3, 6, 7, 8, 2, 3, 4, 5, 6, 7, 8, 1, 5, 6, 7, 1, 4, 5, 7, 1, 2, 3, 4, 5, 6, 8, 1, 2, 3, 4, 5, 6, 8, 1, 2, 4, 5, 6, 7, 1, 2, 3, 4, 5, 6, 7, 8, 1, 2, 3, 4, 5, 6, 7, 8, 1, 2, 3, 5, 6, 7, 1, 2, 4, 5, 6, 7, 8, 2, 3, 6, 1, 2, 4, 5, 6, 7, 8, 1, 2, 4, 5, 6, 7, 8, 1, 2, 3, 7, 8, 1, 3, 5, 7, 8, 3, 4, 5, 6, 7, 8, 2, 3, 5, 6, 7, 8, 3, 4, 5, 6, 7, 8, 3, 4, 5, 6, 7, 8, 1, 2, 4, 5, 6, 7, 4, 5, 6, 8, 1, 3, 7, 8, 1, 3, 5, 6, 7, 1, 2, 3, 5, 6, 7, 8, 1, 2, 4, 5, 6, 1, 2, 3, 4, 5, 6, 8, 1, 2, 3, 4, 6, 1, 2, 3, 6, 1, 2, 3, 4, 5, 6, 8, 1, 3, 4, 5, 6, 7, 1, 4, 5, 7, 1, 2, 3, 4, 6, 8, 1, 2, 3, 4, 5, 6, 7, 8, 1, 2, 3, 4, 6, 1, 2, 4, 6, 7, 8, 2, 3, 4, 5, 6, 7, 8, 3, 4, 5, 8, 2, 3, 7, 8, 5, 6, 7, 1, 2, 3, 4, 5, 6, 7, 1, 2, 3, 4, 5, 6, 7, 1, 2, 4, 5, 6, 7, 1, 2, 3, 4, 5, 6, 7, 8, 1, 2, 3, 5, 7, 1, 2, 3, 4, 5, 6, 7, 1, 2, 3, 4, 5, 6, 7, 8, 1, 2, 3, 4, 5, 6, 8, 1, 3, 4, 5, 6, 7, 8, 1, 2, 3, 4, 5, 6, 1, 2, 3, 4, 5, 6, 7, 8, 1, 4, 5, 6, 7, 1, 2, 3, 4, 5, 6, 7, 8, 1, 4, 6, 1, 2, 3, 4, 5, 8, 1, 2, 3, 5, 7, 8, 1, 2, 3, 4, 5, 6, 7, 8, 2, 3, 4, 5, 6, 8, 1, 3, 4, 5, 6, 7, 1, 2, 3, 4, 5, 6, 7, 8, 1, 2, 3, 4, 5, 6, 7, 2, 3, 4, 6, 1, 6, 7, 1, 2, 3, 3, 4, 5, 6, 8, 1, 2, 3, 4, 6, 7, 1, 2, 3, 4, 5, 6, 7, 8, 1, 2, 3, 4, 5, 6, 1, 2, 4, 5, 2, 3, 6, 7, 4, 5, 7, 1, 4, 5, 6, 7, 8, 1, 2, 3, 4, 5, 6, 8, 1, 2, 3, 4, 5, 6, 7, 8, 1, 4, 5, 6, 1, 2, 3, 4, 5, 6, 7, 8, 1, 4, 5, 6, 7, 1, 2, 3, 4, 5, 8, 1, 2, 4, 6, 2, 4, 5, 6, 8, 1, 2, 3, 6, 1, 2, 3, 4, 5, 6, 7, 2, 3, 4, 6, 2, 3, 5, 6, 1, 2, 3, 4, 5, 6, 8, 2, 3, 2, 5, 7, 8, 3, 4, 5, 6, 7, 8, 1, 2, 3, 4, 5, 6, 2, 3, 4, 6, 7, 1, 2, 3, 5, 6, 7, 8, 4, 8, 1, 2, 4, 5, 8, 5, 5, 6, 8, 1, 2, 4, 7, 8, 1, 2, 4, 5, 6, 7, 1, 2, 3, 7, 1, 2, 3, 4, 5, 6, 7, 8, 1, 4, 6, 7, 8, 2, 6, 7, 8, 1, 2, 3, 4, 5, 6, 7, 8, 1, 2, 3, 4, 5, 6, 7, 1, 2, 4, 6, 7, 8, 1, 2, 3, 4, 6, 7, 1, 2, 4, 5, 6, 7, 1, 2, 3, 4, 5, 6, 7, 8, 1, 2, 3, 4, 5, 6, 7, 8, 1, 2, 3, 4, 6, 2, 3, 1, 2, 3, 4, 5, 6, 7, 8, 1, 2, 3, 4, 5, 6, 7, 2, 3, 4, 6, 1, 3, 4, 5, 7, 8, 1, 2, 3, 4, 5, 7, 8, 1, 2, 3, 4, 1, 2, 1, 4, 5, 7, 1, 2, 3, 4, 6, 7, 1, 2, 3, 4, 5, 6, 8, 1, 2, 4, 5, 6, 7, 8, 1, 4, 5, 6, 8, 1, 2, 3, 5, 6, 7, 8, 1, 2, 3, 4, 5, 6, 7, 8, 1, 2, 1, 2, 3, 4, 5, 6, 7, 8, 1, 2, 3, 5, 6, 8, 1, 4, 5, 6, 7, 1, 2, 4, 6, 7, 1, 5, 7, 8, 1, 2, 3, 4, 5, 6, 8, 1, 2, 3, 4, 5, 6, 7, 8, 4, 5, 6, 8, 1, 2, 3, 5, 6, 7, 1, 2, 3, 8, 1, 4, 5, 6, 1, 2, 3, 5, 6, 7, 8, 1, 3, 4, 6, 7, 8, 2, 3, 4, 5, 6, 8, 1, 2, 8, 1, 2, 3, 5, 7, 8, 1, 3, 5, 7, 8, 1, 2, 3, 5, 8, 1, 2, 3, 4, 5, 6, 7, 8, 1, 2, 3, 4, 5, 6, 7, 8, 3, 5, 6, 7, 2, 3, 4, 5, 6, 8, 1, 2, 3, 4, 5, 6, 7, 8, 3, 4, 6, 7, 1, 2, 4, 6, 7, 8, 1, 2, 3, 5, 6, 7, 8, 3, 5, 6, 7, 8, 1, 2, 3, 4, 5, 6, 7, 8, 1, 2, 3, 4, 5, 6, 7, 8, 1, 2, 3, 4, 5, 6, 8, 1, 2, 3, 4, 5, 6, 7, 1, 2, 4, 5, 6, 8, 1, 2, 3, 4, 5, 6, 7, 8, 2, 5, 7, 1, 2, 3, 4, 5, 7, 8, 4, 5, 7, 1, 3, 5, 6, 7, 1, 2, 3, 4, 5, 6, 7, 8, 1, 4, 5, 6, 1, 5, 6, 1, 2, 3, 4, 5, 6, 7, 8, 4, 5, 6, 8, 1, 2, 3, 4, 5, 6, 7, 8, 1, 2, 3, 4, 5, 6, 8, 2, 3, 4, 6, 1, 2, 3, 4, 6, 7, 8, 1, 2, 3, 4, 5, 6, 7, 8, 1, 2, 3, 4, 5, 6, 7, 8, 2, 3, 5, 7, 8, 1, 2, 3, 4, 5, 8, 2, 3, 4, 5, 6, 8, 3, 4, 5, 6, 1, 2, 3, 4, 5, 6, 7, 1, 2, 3, 4, 5, 6, 7, 8, 4, 5, 6, 7, 8, 1, 2, 3, 4, 6, 7, 1, 2, 3, 4, 6, 7, 8, 1, 2, 3, 6, 7, 1, 2, 3, 4, 5, 1, 2, 3, 4, 6, 2, 3, 4, 5, 6, 7, 8, 4, 5, 7, 8, 1, 3, 5, 6, 8, 1, 2, 4, 5, 6, 7, 8, 1, 4, 6, 8, 1, 2, 4, 6, 7, 8, 2, 3, 4, 6, 7, 8, 1, 2, 3, 5, 7, 8, 1, 2, 3, 7, 8, 1, 2, 3, 7, 8, 1, 2, 3, 4, 6, 7, 8, 3, 5, 6, 8, 3, 5, 7, 8, 1, 3, 4, 6, 7, 8, 1, 2, 3, 4, 5, 6, 7, 8, 4, 5, 8, 1, 2, 3, 4, 5, 6, 7, 8, 4, 6, 8, 1, 2, 3, 4, 1, 2, 3, 4, 5, 6, 7, 1, 2, 3, 4, 5, 6, 8, 1, 3, 6, 7, 8, 2, 3, 6, 7, 1, 2, 3, 4, 5, 6, 7, 8, 1, 2, 4, 5, 6, 7, 1, 2, 3, 6, 1, 2, 3, 4, 5, 6, 7, 8, 1, 2, 3, 4, 5, 6, 7, 8, 1, 2, 3, 5, 7, 8, 1, 2, 3, 6, 7, 8, 1, 2, 4, 5, 6, 8, 1, 2, 4, 1, 2, 4, 5, 6, 7, 1, 3, 4, 5, 7, 1, 2, 4, 5, 6, 7, 1, 3, 4, 5, 6, 8, 1, 2, 6, 7, 8, 1, 2, 3, 5, 1, 2, 3, 5, 6, 7, 8, 2, 3, 6, 1, 3, 5, 7, 8, 1, 2, 3, 4, 6, 7, 2, 3, 5, 6, 7, 8, 1, 2, 3, 4, 5, 6, 7, 8, 2, 3, 4, 5, 6, 7, 8, 1, 4, 5, 6, 7, 8, 1, 2, 3, 4, 6, 7, 8, 1, 2, 3, 4, 6, 7, 8, 2, 3, 6, 8, 4, 5, 8, 1, 2, 3, 4, 6, 7, 8, 1, 2, 3, 5, 6, 7, 8, 2, 3, 2, 3, 4, 2, 3, 5, 1, 2, 4, 6, 1, 2, 3, 6, 7, 2, 3, 4, 5, 6, 7, 8, 1, 2, 3, 5, 6, 7, 8, 2, 4, 5, 6, 7, 8, 4, 5, 6, 7, 8, 1, 2, 3, 4, 5, 6, 7, 8, 1, 2, 3, 4, 5, 6, 7, 8, 1, 2, 5, 1, 3, 4, 5, 6, 7, 8, 1, 3, 4, 5, 6, 7, 1, 2, 5, 7, 1, 2, 3, 4, 5, 6, 7, 8, 1, 2, 3, 4, 6, 7, 8, 1, 2, 3, 4, 5, 6, 7, 8, 1, 2, 4, 5, 7, 8, 1, 2, 4, 6, 7, 1, 2, 3, 4, 5, 6, 7, 1, 2, 5, 6, 7, 1, 3, 5, 6, 7, 1, 4, 5, 6, 7, 8, 1, 2, 3, 5, 6, 7, 8, 1, 2, 3, 4, 5, 6, 7, 8, 1, 2, 4, 6, 7, 8, 1, 2, 3, 5, 6, 7, 8, 2, 4, 6, 3, 4, 5, 6, 7, 8, 1, 3, 5, 6, 7, 1, 2, 3, 4, 5, 6, 7, 8, 1, 2, 3, 5, 6, 7, 8, 1, 2, 4, 5, 6, 7, 1, 3, 4, 5, 6, 1, 3, 4, 5, 6, 7, 1, 2, 3, 4, 5, 6, 7, 8, 1, 2, 3, 4, 5, 6], \"Freq\": [0.12336140908542406, 0.015420176135678008, 0.06939079261055103, 0.015420176135678008, 0.07710088067839004, 0.7016180141733493, 0.04645829420527587, 0.04890346758450091, 0.19194611026916608, 0.18094283006265338, 0.21028491061335391, 0.03912277406760073, 0.14548781606389022, 0.13692970923660255, 0.07282487320551531, 0.10611624381375089, 0.1165197971288245, 0.062421319890441695, 0.09571269049867727, 0.18934467033433983, 0.11443908646580978, 0.2413624369097079, 0.013471020946525502, 0.07745837044252164, 0.3283561355715591, 0.0016838776183156878, 0.05388408378610201, 0.02357428665641963, 0.27110429654882573, 0.22900735609093353, 0.051871464752628035, 0.012205050530030126, 0.21969090954054227, 0.19833207111298956, 0.3661515159009038, 0.0579739900176431, 0.09458914160773348, 0.019179373677087636, 0.25892154464068307, 0.08630718154689436, 0.009589686838543818, 0.18220404993233252, 0.3739977867032089, 0.04794843419271908, 0.018942030164951475, 0.7901532583094044, 0.11094617668043007, 0.07847412496908468, 0.023624129584797118, 0.9314656807720006, 0.03037388089473915, 0.013499502619884066, 0.012620832539115504, 0.009816203085978725, 0.030850923984504564, 0.9227230900820002, 0.011218517812547115, 0.002804629453136779, 0.009816203085978725, 0.04599513224845498, 0.07665855374742497, 0.8541953131855925, 0.021902443927835705, 0.685422788456766, 0.3148353478078925, 0.05677902984873359, 0.3709563283450595, 0.537508149234678, 0.03406741790924016, 0.055406749055573454, 0.3289775725174674, 0.055406749055573454, 0.03462921815973341, 0.053675288147586785, 0.14890563808685364, 0.10042473266322688, 0.21989553531430714, 0.010922819819113378, 0.3604530540307415, 0.013107383782936055, 0.050244971167921544, 0.22937921620138094, 0.3364228504286921, 0.11419290051406442, 0.5546512310683129, 0.08972299326105061, 0.035889197304420244, 0.20391589377511504, 0.1117350805312599, 0.0171900123894246, 0.3051227199122866, 0.171900123894246, 0.06446254646034225, 0.3266102353990674, 0.08246652586805225, 0.06977936804219806, 0.7992909430288141, 0.006343578912927097, 0.01903073673878129, 0.025374315651708387, 0.21737230272146268, 0.07985104997931282, 0.6831700942674541, 0.017744677773180628, 0.024305358394261095, 0.06987790538350065, 0.8719547323941168, 0.03038169799282637, 0.03611959425728834, 0.0038699565275666084, 0.009029898564322085, 0.02321973916539965, 0.6153230878830908, 0.006449927545944347, 0.27347692794804035, 0.030959652220532867, 0.009284191478940105, 0.004642095739470053, 0.05570514887364063, 0.10212610626834115, 0.14854706366304168, 0.009284191478940105, 0.5106305313417058, 0.1578312551419818, 0.19217613414761717, 0.049416720209387276, 0.07687045365904686, 0.043925973519455354, 0.6369266160321027, 0.01849105534128763, 0.8228519626872994, 0.006163685113762543, 0.03698211068257526, 0.11711001716148832, 0.2927279115985445, 0.700772879281364, 0.181198382439618, 0.08565741715327396, 0.003294516044356691, 0.5501841794075674, 0.016472580221783457, 0.14166418990733773, 0.009883548133070073, 0.013178064177426764, 0.3110182799362303, 0.03455758665958115, 0.025918189994685863, 0.5702001798830889, 0.04319698332447643, 0.008639396664895287, 0.31727687057567283, 0.32243584408096837, 0.2618179053937463, 0.04901024830030719, 0.006448716881619367, 0.027084610902801343, 0.0038692301289716203, 0.01160769038691486, 0.032352753029249934, 0.794113028899771, 0.13823449021588607, 0.002941159366295448, 0.020588115564068137, 0.011764637465181792, 0.6831721346144469, 0.04360673199666682, 0.02907115466444455, 0.014535577332222275, 0.159891350654445, 0.06783269421703728, 0.6686645550536605, 0.09439970188992854, 0.2045326874281785, 0.023599925472482134, 0.9474455855651912, 0.004947496530366534, 0.009894993060733067, 0.022263734386649404, 0.014842489591099602, 0.5455518846262583, 0.1052251409516522, 0.058278539603991986, 0.09551205101765353, 0.14569634900997996, 0.012950786578664886, 0.01942617986799733, 0.016188483223331107, 0.28407727203283156, 0.53974681686238, 0.15150787841751018, 0.018938484802188772, 0.20427016910112494, 0.05635039147617239, 0.23244536483921113, 0.028175195738086196, 0.07043798934521549, 0.3803651424641637, 0.028175195738086196, 0.09725551422551494, 0.11441825203001758, 0.24599924186453778, 0.05720912601500879, 0.07437186381951143, 0.4061847947065624, 0.034643945006793714, 0.01847677067028998, 0.5797086797803481, 0.19631568837183103, 0.09007425701766365, 0.05312071567708369, 0.02771515600543497, 0.7633681363598678, 0.026551935177734534, 0.19913951383300899, 0.9210583631949979, 0.023496386816198925, 0.05169205099563764, 0.022718794131210383, 0.41937665923288353, 0.4377973031230541, 0.00921032194508529, 0.11113788480402917, 0.08772189851882523, 0.011696253135843365, 0.3041025815319275, 0.11111440479051196, 0.40352073318659604, 0.08772189851882523, 0.20832395497597644, 0.13364178243741887, 0.55815097370922, 0.03144512527939267, 0.06682089121870943, 0.18976057108107555, 0.7138013534705359, 0.010681886451583723, 0.04272754580633489, 0.015080310284588786, 0.008796847666010126, 0.018850387855735982, 0.0994753403923955, 0.1912987315238375, 0.030607797043814, 0.0076519492609535, 0.08927274137779084, 0.04081039605841867, 0.45911695565721, 0.07907014236318617, 0.07409356792097191, 0.09658625818269553, 0.21169590834563404, 0.3942836292937434, 0.05292397708640851, 0.15744883183206532, 0.013230994271602127, 0.07879952488385616, 0.2314736043463275, 0.07879952488385616, 0.034474792136687075, 0.00984994061048202, 0.5663715851027162, 0.6794254349102241, 0.10159632671554752, 0.0317488520986086, 0.15874426049304302, 0.0317488520986086, 0.08584997031645318, 0.22453069159687755, 0.4787786806109889, 0.20802108192063656, 0.17837828360633326, 0.2144143004965016, 0.009009004222542083, 0.4828826263282557, 0.0540540253352525, 0.04144141942369358, 0.019819809289592583, 0.8823124873947978, 0.012254340102705527, 0.08986516075317386, 0.012254340102705527, 0.08514278165293866, 0.08304049074792784, 0.022074054502613728, 0.42150932645467165, 0.14190463608823112, 0.149262654255769, 0.09670538163049823, 0.4591575979446726, 0.10071844083947658, 0.15403996834272887, 0.1229357439658317, 0.1258980510493457, 0.02962307083514017, 0.0074057677087850425, 0.3432472694619151, 0.009534646373942086, 0.18115828110489965, 0.06102173679322935, 0.2688770277451668, 0.1220434735864587, 0.011441575648730504, 0.009906649337344864, 0.9015050896983826, 0.05613767957828756, 0.003302216445781621, 0.026417731566252968, 0.21830949461245755, 0.6230916825397226, 0.05457737365311439, 0.02880472498358815, 0.01819245788437146, 0.05609341181014534, 0.02123221872769615, 0.03821799370985307, 0.7516205429604437, 0.040341215582622686, 0.14437908734833382, 0.00424644374553923, 0.04433057897071563, 0.00466637673375954, 0.445638978074036, 0.09799391140895033, 0.31264724116188913, 0.0933275346751908, 0.7146541717348899, 0.1232162365060155, 0.0246432473012031, 0.13307353542649675, 0.06135860344874461, 0.032724588505997125, 0.05726802988549497, 0.8099335655234289, 0.004090573563249641, 0.03681516206924677, 0.051851795450994005, 0.748147334364342, 0.007407399350142001, 0.133333188302556, 0.037036996750710004, 0.014814798700284001, 0.0779455853235402, 0.5131417700466396, 0.1169183779853103, 0.05845918899265515, 0.0259818617745134, 0.2078548941961072, 0.15634162263932236, 0.7920325599746801, 0.04424762904886481, 0.007374604841477469, 0.014756309161520278, 0.6566557576876524, 0.2766807967785052, 0.022134463742280418, 0.025823541032660487, 0.027982103243621236, 0.8434605406291543, 0.07595142308982906, 0.04796931984620783, 0.12763617348731, 0.2777963775900276, 0.5255607143595117, 0.06006408164108705, 0.03817240922604419, 0.06753580093838586, 0.0734084792808542, 0.15268963690417675, 0.2114164203288601, 0.2892294083665656, 0.016149865441787925, 0.14975329773294258, 0.2131836040354373, 0.09091653701511296, 0.0344855830057325, 0.4342048405721774, 0.04545826850755648, 0.09561911651589466, 0.07053869251172556, 0.015675265002605684, 0.024122777141396184, 0.34929781300741675, 0.5866659400787552, 0.031842065826642965, 0.007719288685246779, 0.0790053677468912, 0.6241424052004404, 0.13430912516971502, 0.07110483097220208, 0.08690590452158031, 0.4526497058497048, 0.1838889430014426, 0.23339750457875405, 0.014145303307803276, 0.11551997701372675, 0.137456700296628, 0.14940945684416088, 0.137456700296628, 0.04183464791636504, 0.4482283705324826, 0.08366929583273008, 0.10374434612237769, 0.01037443461223777, 0.3008586037548953, 0.02074886922447554, 0.1659909537958043, 0.3942285152650352, 0.14092284795313728, 0.8369963090549971, 0.017081557327653003, 0.014032094403831415, 0.1297968732354406, 0.05612837761532566, 0.48059923333122595, 0.05963640121628351, 0.2560857228699233, 0.5933011211621382, 0.23821938955752517, 0.06442411164134328, 0.0853994038036411, 0.0014982351544498439, 0.0014982351544498439, 0.014982351544498437, 0.06725470439154123, 0.15520316398047976, 0.2897125727635622, 0.0413875103947946, 0.444915736744042, 0.0660704661028787, 0.09041221677236032, 0.020864357716698537, 0.03477392952783089, 0.782413414376195, 0.006954785905566178, 0.22132615522792434, 0.6531820678677767, 0.005398198907998155, 0.05398198907998154, 0.048583790171983395, 0.016194596723994464, 0.01059898565585975, 0.6677360963191642, 0.1059898565585975, 0.03179695696757925, 0.11658884221445726, 0.05299492827929875, 0.01059898565585975, 0.3460823099944565, 0.09438608454394268, 0.05663165072636561, 0.4971000452647648, 0.2469350114701234, 0.1127312008885346, 0.005368152423263552, 0.6334419859450992, 0.01290039142281384, 0.09836548459895553, 0.5934180054494366, 0.16931763742443165, 0.0806274463925865, 0.00806274463925865, 0.037088625340589786, 0.02189501468749088, 0.6043024053747483, 0.22332914981240698, 0.03612677423435995, 0.04816903231247994, 0.006568504406247264, 0.06021129039059992, 0.6970458250170349, 0.0668882357339579, 0.03872476805650194, 0.06336780227427591, 0.1337764714679158, 0.0035204334596819946, 0.04818028078377026, 0.14316426290034592, 0.19960402038990538, 0.005506317803859459, 0.01651895341157838, 0.04955686023473513, 0.050933439685699994, 0.4859325461905973, 0.09075283054535875, 0.38569952981777467, 0.04159504733328943, 0.19095908093919237, 0.007562735878779896, 0.00945341984847487, 0.24389823209065165, 0.030250943515119585, 0.06920127974845629, 0.7580685645171803, 0.12896602134939583, 0.018873076295033535, 0.022018589010872457, 0.0031455127158389225, 0.16155128156155246, 0.00414234055286032, 0.07870447050434608, 0.6834861912219528, 0.00414234055286032, 0.053850427187184156, 0.01656936221144128, 0.9376597813151956, 0.05209221007306642, 0.010418442014613285, 0.1647770538261346, 0.04298531838942642, 0.4871669417468328, 0.1719412735577057, 0.11104540583935159, 0.017910549328927678, 0.0071642197315710705, 0.1468879242449833, 0.00324017479952169, 0.5465094828526583, 0.01836099053062291, 0.28297526582489424, 0.00108005826650723, 0.00108005826650723, 0.08706338053776201, 0.8457585537954023, 0.022387726423995943, 0.03233782705688303, 0.012437625791108858, 0.09910087724127037, 0.14865131586190555, 0.08766616063650841, 0.6555904186730194, 0.003811572201587322, 0.11379526329333493, 0.05689763164666747, 0.6045373362458418, 0.007112203955833433, 0.09245865142583463, 0.12090746724916836, 0.008367434974015922, 0.008367434974015922, 0.6777622328952897, 0.05857204481811146, 0.09204178471417515, 0.1506138295322866, 0.3394499698057501, 0.007326258341131297, 0.05372589450162951, 0.29549241975896234, 0.0757046695250234, 0.22955609468878063, 0.15578022489724425, 0.08265889484343572, 0.05086701221134506, 0.626300087852186, 0.006358376526418133, 0.07630051831701759, 0.06477500608572337, 0.004318333739048225, 0.5074042143381664, 0.11875417782382618, 0.2936466942552793, 0.010795834347620561, 0.03340881581059539, 0.34244036205860273, 0.08352203952648848, 0.5428932569221752, 0.1518542461691768, 0.3196931498298459, 0.5115090397277535, 0.015984657491492298, 0.16089534422090668, 0.5631337047731734, 0.11757736693066256, 0.1113890844606277, 0.04331797729024411, 0.11622758655345267, 0.12306450340953812, 0.07520608541693996, 0.07520608541693996, 0.12990142026562357, 0.11622758655345267, 0.3623565933725289, 0.026709215440342236, 0.1816226649943272, 0.0801276463210267, 0.13354607720171116, 0.5822608965994607, 0.013956329236120432, 0.12261632114591522, 0.43463996763917917, 0.12959448576397545, 0.01993761319445776, 0.22629190975709557, 0.05183779430559018, 0.13731365908486803, 0.6141665479068642, 0.044939015700502266, 0.02871103780865422, 0.17476283883528657, 0.043458657216407626, 0.13037597164922288, 0.7735640984520558, 0.043458657216407626, 0.1682379641270945, 0.0672951856508378, 0.01922719590023937, 0.5479750831568221, 0.03845439180047874, 0.13939717027673543, 0.009613597950119686, 0.007495665868076044, 0.05246966107653231, 0.10493932215306462, 0.07495665868076044, 0.7345752550714523, 0.02248699760422813, 0.0688250549739905, 0.09941396829576404, 0.737957533887787, 0.09176673996532066, 0.018607163030721907, 0.04798689413186177, 0.6992376002071286, 0.03917297480151981, 0.1243741949948254, 0.07051135464273565, 0.0788821300967624, 0.006859315660588035, 0.01371863132117607, 0.044585551793822224, 0.09946007707852651, 0.006859315660588035, 0.7373764335132138, 0.010288973490882052, 0.02539441822222261, 0.18791869484444731, 0.33520632053333843, 0.015236650933333566, 0.4367839934222289, 0.2894899688390247, 0.03573950232580552, 0.4860572316309551, 0.17154961116386652, 0.0071479004651611045, 0.010721850697741658, 0.002286280080983279, 0.02514908089081607, 0.802484308425131, 0.057157002024581974, 0.02514908089081607, 0.002286280080983279, 0.0868786430773646, 0.04115681587085266, 0.4350863392061567, 0.052915906119667705, 0.47036360995260185, 0.12282120520436425, 0.32594858304235125, 0.5101803908488977, 0.037791140062881305, 0.6953695105403777, 0.2285480209468374, 0.06807813389905795, 0.5003212589021161, 0.007858449092703394, 0.019646122731758482, 0.3536302091716527, 0.028814313339912443, 0.08251371547338564, 0.006548707577252828, 0.039509368975219714, 0.20883523601187562, 0.4995113077581349, 0.028220977839442652, 0.05079776011099677, 0.15803747590087885, 0.014110488919721326, 0.7974199266154469, 0.026183937888865423, 0.11425718351504911, 0.009521431959587427, 0.04284644381814342, 0.009521431959587427, 0.22589510660342396, 0.09301563213082163, 0.026575894894520467, 0.4840609427216228, 0.07593112827005848, 0.015186225654011695, 0.03606728592827778, 0.041762120548532164, 0.06437030373473383, 0.2655275029057771, 0.33794409460735264, 0.008046287966841729, 0.3238630906653796, 0.1470422658642031, 0.1556918109150386, 0.025948635152506432, 0.5362717931517996, 0.025948635152506432, 0.09514499555919025, 0.025948635152506432, 0.6218872353982758, 0.05378484198039142, 0.12605822339154238, 0.08908114453002329, 0.013446210495097855, 0.047061736732842495, 0.042019407797180795, 0.006723105247548928, 0.0057857228956543945, 0.0713572490464042, 0.8138583539887181, 0.038571485971029294, 0.015428594388411718, 0.0057857228956543945, 0.04821435746378662, 0.09323773447756682, 0.03243051634002324, 0.21079835621015108, 0.16620639624261913, 0.4134890833352963, 0.036484330882526145, 0.05269958905253777, 0.23805986905821325, 0.03204652083475947, 0.03662459523972511, 0.5859935238356018, 0.05493689285958767, 0.050358818454622034, 0.08266213932240897, 0.13336158477348645, 0.04739295987818114, 0.4805425699276041, 0.07164052074608777, 0.1631199549295537, 0.009919456718689075, 0.011021618576321194, 0.0871504116599551, 0.5928143386539804, 0.1494007057027802, 0.1618507645113452, 0.008619271482852704, 0.4619557521326204, 0.08325946695413508, 0.004028683884877504, 0.07251630992779506, 0.20411998350046018, 0.08460236158242758, 0.03760104959219004, 0.049687101246822546, 0.12044785616949477, 0.4366234786144186, 0.4366234786144186, 0.04037380462308859, 0.012112141386926576, 0.658093015356344, 0.07671022878386832, 0.15342045756773665, 0.06459808739694174, 0.10105618706085996, 0.026750167163168814, 0.05350033432633763, 0.40422474824343985, 0.3447799323252869, 0.0653892975099682, 0.33643020961851244, 0.10037144375358935, 0.13661668733127438, 0.2871738529616584, 0.012081747859228349, 0.1124531916128177, 0.007434921759525137, 0.007434921759525137, 0.004137236779911078, 0.212378154702102, 0.16824762904971718, 0.06481670955194022, 0.4344098618906632, 0.11446355091087315, 0.047630618051210605, 0.04167679079480928, 0.5596597621017246, 0.20243012671764507, 0.10121506335882254, 0.047630618051210605, 0.6686412812884713, 0.05332721875306826, 0.02256151562629811, 0.14562432813337872, 0.07793978125448439, 0.01230628125070806, 0.00820418750047204, 0.011280757813149056, 0.24486105194268074, 0.029598588696368, 0.06726951976447273, 0.08072342371736728, 0.4816497615136247, 0.05112483502099927, 0.043052492649262544, 0.1369157991084616, 0.4439391062001634, 0.09127719940564108, 0.32984260694311207, 0.11206037187507333, 0.021972621936288888, 0.8635240420961533, 0.7644824516844373, 0.1210430548500359, 0.10830168065529529, 0.02664748401138275, 0.008882494670460917, 0.8083070150119435, 0.0532949680227655, 0.11547243071599192, 0.06408961469089819, 0.7994336148285721, 0.05734333946027732, 0.01416717798430381, 0.06408961469089819, 0.0006746275230620862, 0.5136894446402906, 0.15197912563322208, 0.06079165025328883, 0.0440739464336344, 0.009118747537993325, 0.12158330050657766, 0.06535102402228549, 0.034955198895641075, 0.6351978189540296, 0.0157813122721498, 0.011835984204112353, 0.22093837181009723, 0.053261928918505584, 0.06115258505458049, 0.696024104758154, 0.07231419270214588, 0.1265498372287553, 0.09943201496545058, 0.7197414148415262, 0.2509624670171111, 0.014205422661345913, 0.014205422661345913, 0.12886345045302386, 0.45725740483331045, 0.40737477885149476, 0.48508017366389145, 0.2126889992218601, 0.18470360458740484, 0.07462771902521408, 0.03171678058571598, 0.013059850829412462, 0.1950986238209106, 0.04709277126711635, 0.053820310019561536, 0.0941855425342327, 0.053820310019561536, 0.49111032892849904, 0.06054784877200673, 0.03603614879471311, 0.004368018035722801, 0.020748085669683305, 0.4619179072776862, 0.06770427955370342, 0.3559934699114083, 0.013104054107168403, 0.04040416683043591, 0.13229133472086124, 0.5795620378247255, 0.08189463577958077, 0.20788638313278196, 0.1346453729302265, 0.44790195484952894, 0.14014110243758265, 0.17036761472804168, 0.0027478647536780913, 0.08243594261034275, 0.010991459014712365, 0.010991459014712365, 0.13436008462786558, 0.7419013368582144, 0.029208714049535997, 0.07302178512383999, 0.0204460998346752, 0.16447363751532493, 0.05005719402640324, 0.12156747120697929, 0.5291760511362629, 0.035755138590288026, 0.09296336033474888, 0.14299113853205062, 0.016248993015005753, 0.8189492479562899, 0.019498791618006904, 0.07947001469226728, 0.3612273395103058, 0.05779637432164893, 0.1444909358041223, 0.35400279272009966, 0.011632781408965322, 0.6824565093259655, 0.2675539724062024, 0.0387759380298844, 0.11798763914299366, 0.026219475365109702, 0.09176816377788395, 0.5309443761434715, 0.026219475365109702, 0.1769814587144905, 0.026219475365109702, 0.14533900051042353, 0.7893025720027615, 0.0603715848274067, 0.00447196924647457, 0.14328348322489218, 0.6140720709638237, 0.11769714693473286, 0.12281441419276473, 0.05313995758380885, 0.1962090741556019, 0.1635075617963349, 0.05313995758380885, 0.008175378089816747, 0.48643499634409637, 0.03678920140417535, 0.998903408478928, 0.0014088905620295176, 0.0060069132066886185, 0.24428113707200383, 0.7308411068137819, 0.018020739620065857, 0.025166834049827766, 0.1377553021674783, 0.19868553197232447, 0.15762385536471074, 0.0026491404262976594, 0.4794944171598764, 0.020433714155158364, 0.20433714155158364, 0.48297869821283407, 0.07801963586515012, 0.016718493399675027, 0.19876431041835863, 0.16725253001680135, 0.5872844519908138, 0.007602387728036425, 0.22997222877310186, 0.005701790796027319, 0.1747796007980142, 0.08975168689627756, 0.12281809785806404, 0.06140904892903202, 0.07085659491811386, 0.37317806656873304, 0.10864677887444125, 0.015624148573134093, 0.9831195025248991, 0.01691465347744844, 0.005638217825816146, 0.01691465347744844, 0.9584970303887449, 0.00241637906820692, 0.9979847772784793, 0.008370996113553134, 0.004185498056776567, 0.9856847923708816, 0.5585325768291214, 0.23491928124143305, 0.02876562627446119, 0.08869401434625533, 0.08629687882338358, 0.32179931182310173, 0.002762225852558813, 0.34665934449613106, 0.0621500816825733, 0.023478919746749913, 0.24169476209889618, 0.5545010076615948, 0.3715926891621104, 0.051984469468274515, 0.021178857931519246, 0.04877494329760358, 0.006096867912200448, 0.012193735824400895, 0.13616338337247666, 0.5222983511451716, 0.05690410051387084, 0.18290603736601344, 0.03454891816913587, 0.6929010926869646, 0.2589630346405828, 0.017497502340579917, 0.006999000936231967, 0.024496503276811882, 0.1268680294141441, 0.5429951658925367, 0.010149442353131527, 0.3146327129470774, 0.0951737883395434, 0.05463680441714529, 0.16038545812774907, 0.035249551236867925, 0.35249551236867926, 0.19915996448830378, 0.0493493717316151, 0.05463680441714529, 0.42227480581555477, 0.08107676271658651, 0.09290045727942205, 0.0624966712607021, 0.07600946504679985, 0.18411181533558188, 0.0793876634933243, 0.6691126519345323, 0.017304637550031005, 0.15574173795027904, 0.06921855020012402, 0.04037748761673902, 0.04614570013341602, 0.005373957928343087, 0.021495831713372347, 0.016121873785029262, 0.06448749514011705, 0.026869789641715436, 0.8705811843915802, 0.0972431203485911, 0.009116542532680415, 0.5348371619172511, 0.1428258330119932, 0.003038847510893472, 0.21271932576254304, 0.4334549854042753, 0.1427851716625848, 0.12408711346867489, 0.10878870221911223, 0.03739611638781983, 0.10028958485824409, 0.03739611638781983, 0.013598587777389029, 0.6274597230036065, 0.15730680379527037, 0.12372445242324635, 0.03181485919454906, 0.010604953064849687, 0.026512382662124218, 0.00883746088737474, 0.014139937419799582, 0.14493957891459272, 0.1642648561032051, 0.106289024537368, 0.5121198454982276, 0.06763847016014327, 0.4394291480583161, 0.5577369956124781, 0.39731185822521853, 0.13052896783191617, 0.17632860566767625, 0.06526448391595809, 0.19121348796429827, 0.0034349728376820046, 0.018319855134304026, 0.01602987324251602, 0.824786303366607, 0.014202962173594708, 0.005072486490569538, 0.11058020549441594, 0.014202962173594708, 0.020289945962278153, 0.010144972981139077, 0.13713646192248907, 0.596728928905966, 0.10748533502032927, 0.15752161166772394, 0.048551744692599756, 0.03776246809424426, 0.05934102129095526, 0.3938085958399758, 0.38841395754079805, 0.07013029788931076, 0.010573516080786903, 0.015860274121180355, 0.08987488668668867, 0.13216895100983628, 0.04229406432314761, 0.015860274121180355, 0.6872785452511486, 0.7050298451089924, 0.0459802072897169, 0.21968321260642518, 0.030653471526477932, 0.017348553133922532, 0.9801932520666231, 0.6696332599758258, 0.24531119424856984, 0.053040258215906994, 0.026520129107953497, 0.8164269135395508, 0.08302646578368313, 0.00691887214864026, 0.02075661644592078, 0.06572928541208248, 0.00691887214864026, 0.029277126193273245, 0.4710955760190331, 0.09049293550648094, 0.14106251711304382, 0.10513149860311756, 0.05456191699655468, 0.10779305552977876, 0.03951966158924961, 0.007352495179395277, 0.03951966158924961, 0.8050982221437828, 0.018381237948488192, 0.04319590917894725, 0.0477912186660693, 0.06469218272193639, 0.05606655835901153, 0.1681996750770346, 0.2717071674321328, 0.43128121814624254, 0.6682771079187494, 0.08910361438916659, 0.05346216863349995, 0.05346216863349995, 0.04455180719458329, 0.08019325295024993, 0.008910361438916659, 0.07257061124612547, 0.0043982188634015444, 0.13854389419714863, 0.0043982188634015444, 0.6641310483736331, 0.05057951692911776, 0.05937595465592085, 0.0043982188634015444, 0.6848582795977004, 0.3060005079053555, 0.45550427388739506, 0.0875399093138642, 0.09940972752591358, 0.2077218187108642, 0.0816050002078395, 0.028190818253617283, 0.007418636382530864, 0.03115827280662963, 0.08782499064795048, 0.5948900309927211, 0.28501695078202793, 0.018227828247687834, 0.0016570752952443485, 0.01159952706671044, 0.20910144223219937, 0.7169192305103979, 0.004978605767433319, 0.04978605767433318, 0.02489302883716659, 0.6798042418402025, 0.09559747150877847, 0.09559747150877847, 0.12746329534503795, 0.003540647092917721, 0.1931593303359358, 0.5794779910078074, 0.17384339730234222, 0.04828983258398395, 0.025371623379680606, 0.012685811689840303, 0.03171452922460075, 0.13320102274332318, 0.0634290584492015, 0.5772044318877337, 0.15222974027808364, 0.08897046258556857, 0.052630414487237744, 0.1629036638890692, 0.02882141745729686, 0.18921887113268807, 0.04260557363252579, 0.33959148395336736, 0.09398288301292454, 0.1699714132976123, 0.3031922507470922, 0.18834670122167851, 0.3353490046142081, 0.0391211174819261, 0.00782422349638522, 0.5946409857252767, 0.1564844699277044, 0.17995714041686003, 0.023472670489155658, 0.031473433481586724, 0.08183092705212548, 0.006294686696317345, 0.8749614507881109, 0.7351863185565727, 0.1016111171988759, 0.14942811352775867, 0.011954249082220694, 0.649918508863586, 0.13435815327468364, 0.04686912323535476, 0.0718659889608773, 0.031246082156903172, 0.03437069037259349, 0.031246082156903172, 0.09993158888589776, 0.08455749828806734, 0.2690465854620325, 0.11530567948372819, 0.02306113589674564, 0.4151004461414215, 0.0038702399813633588, 0.011610719944090077, 0.1141720794502191, 0.0077404799627267176, 0.005805359972045039, 0.8572581558719841, 0.14663299835095325, 0.09298677944206792, 0.7581998939122461, 0.3413537764304166, 0.02275691842869444, 0.04551383685738888, 0.17295258005807773, 0.40962453171649993, 0.013654151057216663, 0.11654148149742846, 0.0690616186651428, 0.03021445816599997, 0.32372633749285684, 0.4596913992398567, 0.029913395928226675, 0.016826285209627506, 0.8357054987448327, 0.08039225155710919, 0.035522157664769176, 0.5119738651832844, 0.09321263306326101, 0.07930029977023698, 0.10573373302698263, 0.013912333293024031, 0.18642526612652202, 0.0013912333293024032, 0.008347399975814419, 0.18102665898316314, 0.1698001995113391, 0.08700506090663655, 0.1866398887190752, 0.03788930071740624, 0.20628619279476731, 0.08139183117072452, 0.04771245275525231, 0.021820488089064068, 0.8673644015402966, 0.005455122022266017, 0.0981921964007883, 0.10308462576186266, 0.007363187554418761, 0.11781100087070018, 0.2429851892958191, 0.11781100087070018, 0.4123385030474506, 0.060370804041719586, 0.08300985555736444, 0.09432938131518685, 0.17545264924624757, 0.2339368656616634, 0.060370804041719586, 0.25091615429839703, 0.03961834015237848, 0.049911017718351804, 0.004537365247122891, 0.9256225104130698, 0.013612095741368672, 0.5933119976355863, 0.33181522830730936, 0.04614648870499004, 0.01757961474475811, 0.0021974518430947637, 0.008789807372379055, 0.062297967659087815, 0.002768798562626125, 0.017997190657069815, 0.2962614462009954, 0.5191497304923984, 0.03876317987676575, 0.062297967659087815, 0.04397588157436039, 0.16124489910598808, 0.7549193003598533, 0.017101731723362372, 0.021987940787180194, 0.1960537444155184, 0.546741428088347, 0.016567922063283246, 0.04832310601790946, 0.0027613203438805406, 0.027613203438805408, 0.030374523782685948, 0.12978205616238542, 0.15985654415492626, 0.5726204566743627, 0.07157755708429533, 0.07396347565377184, 0.0322099006879329, 0.005964796423691278, 0.06799867923008057, 0.015508470701597324, 0.07418866817613913, 0.12023680704408757, 0.040931678993731936, 0.47327253836502553, 0.0332569891824072, 0.09977096754722159, 0.156052026163603, 0.08436364580975331, 0.6757788947853435, 0.13567761594145894, 0.04087723044390109, 0.034789132292681775, 0.026091849219511333, 0.0017394566146340888, 0.03818249601465491, 0.0037251215624053576, 0.6155763381874854, 0.12199773116877546, 0.13224181546539018, 0.08847163710712724, 0.021512827698741105, 0.44003511201970447, 0.35789522444269295, 0.001955711608976464, 0.029335674134646963, 0.03324709735259989, 0.09778558044882321, 0.019557116089764643, 0.030111259011397166, 0.8130039933077234, 0.15055629505698584, 0.025450030447604324, 0.44678942341349814, 0.3101133339726601, 0.020737061846196118, 0.07069452902112312, 0.05844081065746178, 0.06598156041971491, 0.07335929347670367, 0.6846867391159008, 0.23637994564715625, 0.39962171268384566, 0.04960821260902912, 0.2011888622477292, 0.002756011811612729, 0.34450147645159107, 0.14711932134965466, 0.1249723267378787, 0.1787578850807632, 0.06011327108910621, 0.01898313823866512, 0.10915304487232444, 0.12813618311098957, 0.23254344342364772, 0.7615426795597396, 0.1315391901057732, 0.07615426795597396, 0.027692461074899623, 0.9146704669381653, 0.08053702224612776, 0.005752644446151983, 0.03134446878764579, 0.09238369747937705, 0.13692583733550528, 0.03794330432188701, 0.19961477491079685, 0.09238369747937705, 0.2507557503011663, 0.16002176170534954, 0.08694586351192463, 0.19321303002649917, 0.30914084804239866, 0.40574736305564824, 0.08451795770690941, 0.2038374274107815, 0.12180529198936944, 0.0770604908504174, 0.057173912566438716, 0.08948960227790408, 0.30327031883067496, 0.06463137942293072, 0.10001966746818111, 0.027783240963383644, 0.5612214674603496, 0.027783240963383644, 0.005556648192676729, 0.022226592770706915, 0.2500491686704528, 0.2048514358225078, 0.660076848761414, 0.039832223632154294, 0.09104508258778125, 0.01539020420474811, 0.2947816036140215, 0.23795623424264387, 0.007103171171422205, 0.02722882282378512, 0.14087956156654038, 0.2758398138235623, 0.1517203624417784, 0.05579393973665399, 0.0626458270727343, 0.1771702296900767, 0.07047655545682609, 0.42090165064493357, 0.014682615720172102, 0.04698437030455073, 0.032467597234656746, 0.09018777009626874, 0.09379528090011949, 0.09018777009626874, 0.057720172861612, 0.5844167502238214, 0.025252575626955247, 0.0216450648231045, 0.6715247937479488, 0.07748363004784026, 0.008609292227537806, 0.1721858445507561, 0.06887433782030244, 0.2861961681298218, 0.03066387515676662, 0.13287679234598868, 0.13287679234598868, 0.051106458594611034, 0.36796650188119945, 0.06282414698682817, 0.15706036746707042, 0.3253393326103602, 0.05384926884585272, 0.38816347959718833, 0.011218597676219315, 0.08661568944538121, 0.3536807319019733, 0.08661568944538121, 0.46916831782914825, 0.021863992718311482, 0.06261052460243742, 0.13913449911652762, 0.15901085613317442, 0.2474606448572527, 0.08646215302241358, 0.2832380874872169, 0.24192970761385582, 0.16986553938845195, 0.11495950645481091, 0.03603208411270193, 0.039463711171054495, 0.0583376599919936, 0.3311520111310225, 0.006863254116705129, 0.013966696484831875, 0.8542962683222164, 0.009311130989887917, 0.10940578913118303, 0.009311130989887917, 0.1738543573944488, 0.6647372488611277, 0.05624699798055696, 0.07158708833889067, 0.020453453811111622, 0.010226726905555811, 0.5607140903363041, 0.12385250991364148, 0.029274229615951625, 0.17789724151232142, 0.036029821065786616, 0.009007455266446654, 0.06305218686512658, 0.03839416892461261, 0.7267467689301673, 0.19471328526053538, 0.021939525099778635, 0.016454643824833977, 0.009006168911344368, 0.24766964506197012, 0.6259287393384336, 0.1125771113918046, 0.004503084455672184, 0.050223426517976094, 0.050223426517976094, 0.8717351888477279, 0.014349550433707456, 0.014349550433707456, 0.5475380874183489, 0.16575132578310559, 0.10056822013806407, 0.0018623744470011865, 0.0977746584675623, 0.08380685011505339, 0.0027935616705017795, 0.1178149077289315, 0.5498029027350136, 0.006041790139945205, 0.3232357724870685, 0.0169276328270241, 0.061555028461905824, 0.2200592267513133, 0.5663062618495336, 0.13388218690464518, 0.02048346703511588, 0.09012725495450988, 0.6145040110534764, 0.07783717473344035, 0.032773547256185406, 0.04916032088427811, 0.11061072198962575, 0.07114033632855395, 0.18970756354281054, 0.36360616345705354, 0.36360616345705354, 0.06688056047758202, 0.019108731565023435, 0.014331548673767576, 0.6974687021233554, 0.07643492626009374, 0.12420675517265233, 0.030472524900837104, 0.06094504980167421, 0.02031501660055807, 0.0863388205523718, 0.6145292521668816, 0.1777563952548831, 0.10262429252568064, 0.03694474530924503, 0.18472372654622515, 0.16830383974211624, 0.45565185881402204, 0.05336463211335393, 0.13654654638007374, 0.661725570918819, 0.03938842684040589, 0.09978401466236159, 0.0603955878219557, 0.041521586041091504, 0.8870520654233185, 0.009436724100248069, 0.043408930861141115, 0.018873448200496138, 0.010069444774246426, 0.2148148218505904, 0.6310185391861093, 0.030208334322739276, 0.08391203978538687, 0.003356481591415475, 0.0268518527313238, 0.04153645801589037, 0.2729538669615653, 0.07713913631522498, 0.6052455310886883, 0.08183419666024058, 0.1052153957060236, 0.7092297043887517, 0.1013185291983931, 0.024998009772967008, 0.1166573789405127, 0.6916116037187539, 0.06666135939457869, 0.07499402931890102, 0.024998009772967008, 0.007331386210425401, 0.10557196143012577, 0.30645194359578176, 0.291789171174931, 0.016129049662935883, 0.16568932835561406, 0.0894429117671899, 0.017595326905020962, 0.5334017716246056, 0.016756076595537347, 0.4468287092143292, 0.1537984383928515, 0.018591020025509525, 0.1419677892857091, 0.06422352372448745, 0.3177374331632537, 0.016900927295917748, 0.22478233303570608, 0.06422352372448745, 0.0729424066884797, 0.014588481337695941, 0.9117800836059963, 0.02847775911146016, 0.6692273391193138, 0.2847775911146016, 0.01423887955573008, 0.448252059154634, 0.4539381317866167, 0.021796611755933577, 0.02274429052793069, 0.000947678771997112, 0.05022697491584694, 0.001895357543994224, 0.05478229963990576, 0.01369557490997644, 0.6710831705888456, 0.08217344945985865, 0.02739114981995288, 0.08902123691484685, 0.0684778745498822, 0.2996301293320714, 0.049938354888678566, 0.09987670977735713, 0.44112213484999396, 0.10819976892547023, 0.008930608696030818, 0.7769629565546812, 0.098236695656339, 0.11609791304840063, 0.09221808147514479, 0.01058240279222973, 0.05291201396114865, 0.3900371314850386, 0.08163567868291506, 0.13303592081660232, 0.0907063096476834, 0.1481536390912162, 0.30607557579555206, 0.061215115159110406, 0.5437342581779807, 0.0648160042861169, 0.018004445635032472, 0.007201778254012989, 0.11259240315062617, 0.14074050393828272, 0.6145668671971678, 0.13135780367573052, 0.28782685780827905, 0.02484836182517517, 0.04348463319405655, 0.09939344730070068, 0.398609137612185, 0.036237194328380455, 0.10974693139452367, 0.0010353484093822988, 0.4048662920130418, 0.09061989207512126, 0.0599260576625802, 0.002923222325003912, 0.3113231776129166, 0.039463501387552814, 0.09061989207512126, 0.002923222325003912, 0.6736005049829349, 0.13841106266772635, 0.009227404177848423, 0.06459182924493896, 0.06459182924493896, 0.055364425067090536, 0.4603373531295612, 0.0066715558424574085, 0.013343111684914817, 0.09340178179440371, 0.3802786830200723, 0.046700890897201856, 0.1808184738968212, 0.6388919411021016, 0.1326002141910022, 0.030136412316136868, 0.006027282463227373, 0.012054564926454747, 0.8848562284455816, 0.02528160652701662, 0.08216522121280401, 0.11691501701524284, 0.0282208661760931, 0.3890447979989977, 0.01411043308804655, 0.4152498880196556, 0.03829974695326921, 0.3077799872072264, 0.0034197776356358484, 0.11969221724725469, 0.564263309879915, 0.0034197776356358484, 0.660764805291662, 0.06310675106718121, 0.04825810375725622, 0.12621350213436242, 0.09280404568703118, 0.007424323654962495, 0.0652091312191835, 0.7009981606062227, 0.09781369682877525, 0.03260456560959175, 0.09373812612757629, 0.012226712103596906, 0.24482284847915975, 0.09720907219025461, 0.13321243226071927, 0.025202352049325267, 0.4968463689724124, 0.0691327599217332, 0.29189387522509574, 0.560743497142947, 0.07681417769081467, 0.16629940369023852, 0.5122021633659346, 0.1130835945093622, 0.0781607197344121, 0.04988982110707156, 0.0565417972546811, 0.023281916516633392, 0.775834105890049, 0.18487961672273506, 0.03961706072630037, 0.20262339361391843, 0.0880971276582254, 0.035238851063290166, 0.2907205212721439, 0.37881764893036923, 0.6718119131932334, 0.08297914367232337, 0.011170269340505069, 0.14840500695242448, 0.0718088743318183, 0.012766022103434365, 0.02686807828993902, 0.21763143414850608, 0.5937845302076524, 0.05373615657987804, 0.016120846973963415, 0.08866465835679876, 0.3016689741239916, 0.0045025220018506205, 0.4164832851711824, 0.14858322606107047, 0.09680422303978835, 0.027015132011103723, 0.0022512610009253102, 0.0022512610009253102, 0.1437084840208163, 0.06158935029463555, 0.14744117191746087, 0.2444910572302199, 0.2650208406617651, 0.070921070036247, 0.06718838213960242, 0.1330341441002018, 0.03955069148924919, 0.6651707205010091, 0.02516862185679494, 0.046741726305476315, 0.09348345261095263, 0.20504333379872805, 0.5005095042416157, 0.0967906420416356, 0.008914927556466437, 0.18211923436781435, 0.003820683238485616, 0.0025471221589904104, 0.06053813762734908, 0.04324152687667791, 0.034593221501342336, 0.13837288600536934, 0.12972458063003375, 0.3718771311394301, 0.22485593975872517, 0.07110456197137136, 0.08295532229993324, 0.7169709998779945, 0.12443298344989986, 0.055834164182535964, 0.7712093927712781, 0.1709921278090164, 0.16426559694975712, 0.20337645336636595, 0.0469330276999306, 0.0703995415498959, 0.469330276999306, 0.015644342566643536, 0.0234665138499653, 0.4867255971437224, 0.1828188828295933, 0.1567018995682228, 0.011871356027895668, 0.02255557645300177, 0.009497084822316534, 0.13058491630685234, 0.85912899162151, 0.1402881517964238, 0.9598138902961896, 0.01391034623617666, 0.023183910393627768, 0.266500748180343, 0.7165909006627, 0.011844477696904132, 0.6867492648127007, 0.019810074946520213, 0.18159235367643528, 0.10895541220586118, 0.25724186287906187, 0.665064328419038, 0.015685479443845234, 0.03450805477645952, 0.025096767110152376, 0.02757825880583664, 0.47066895028627864, 0.1525996987256294, 0.020224056457613535, 0.19488636222791225, 0.11582868698451387, 0.018385505870557758, 0.19901937022890104, 0.20082863723098196, 0.3455699973974555, 0.09227261710612684, 0.04161314104786113, 0.04161314104786113, 0.08141701509364134, 0.0041421429764787335, 0.07870071655309593, 0.7994335944603955, 0.04142142976478733, 0.062132144647181, 0.0124264289294362, 0.023658244420624502, 0.7403058983287084, 0.02858704534158794, 0.18729443499661064, 0.019715203683853752, 0.01145870037961167, 0.010185511448543707, 0.03692247900097094, 0.17824645034951486, 0.37049797894077735, 0.05347393510485446, 0.1947979064533984, 0.14641672707281578, 0.06152969736870397, 0.04474887081360289, 0.08390413277550542, 0.16780826555101083, 0.04474887081360289, 0.46426953469112997, 0.033561653110202164, 0.09509135047890613, 0.39507976587391685, 0.4025060772625243, 0.2019956697701229, 0.019285728356228687, 0.3645002659327222, 0.07328576775366902, 0.0038571456712457376, 0.49178607308383154, 0.013500009849360083, 0.03471431104121164, 0.7213901053482781, 0.004007722807490434, 0.028054059652433034, 0.10019307018726084, 0.0120231684224713, 0.1322548526471843, 0.022871008271150392, 0.003049467769486719, 0.9392360730019094, 0.032019411579610545, 0.3110977846549214, 0.08404063376933896, 0.05750148626323191, 0.3302649467426654, 0.048655103761196236, 0.10763098710810076, 0.05160389792854146, 0.010320779585708293, 0.3093540532338056, 0.0325635845509269, 0.0651271691018538, 0.4993082964475458, 0.07598169728549611, 0.0027136320459105754, 0.013568160229552876, 0.38986328080329125, 0.12299258263437164, 0.11022920141759722, 0.2227790176018807, 0.04293137318369576, 0.046412295333725144, 0.04409168056703889, 0.022045840283519445, 0.14848799579495642, 0.0044996362362108005, 0.017998544944843202, 0.8009352500455225, 0.017998544944843202, 0.008999272472421601, 0.03456053689128794, 0.011520178963762649, 0.3859259952860487, 0.4320067111410993, 0.13248205808327046, 0.13350695161069695, 0.06544458412289066, 0.09031352608958912, 0.3612541043583565, 0.1308891682457813, 0.09947576786679381, 0.12041803478611882, 0.08031649011118053, 0.19677540077239228, 0.4758752039087446, 0.008031649011118053, 0.23894155808076206, 0.39007667009250807, 0.02516623678016181, 0.1321227430958495, 0.04404091436528317, 0.4089513476776294, 0.23232119549740116, 0.22887940000855078, 0.19790324060889727, 0.10325386466551162, 0.2237167067752752, 0.01376718195540155, 0.3015080873683781, 0.08271460803911257, 0.053364263251040364, 0.010672852650208073, 0.48828300874701935, 0.024013918462968166, 0.037354984275728254, 0.3356323990628228, 0.46021211050535527, 0.017587723968357526, 0.06888525220940031, 0.0234502986244767, 0.0029312873280595876, 0.03810673526477464, 0.05276317190507258, 0.6613298273266197, 0.18277960051740746, 0.0897281675267273, 0.006646530927905726, 0.003323265463952863, 0.049848981959292944, 0.2880592456307177, 0.4509409133171969, 0.09803063332982541, 0.0030163271793792433, 0.031671435383482056, 0.042228580511309406, 0.08445716102261881, 0.8264365109656505, 0.08139147456479892, 0.0876523572236296, 0.002590630799087783, 0.09196739336761629, 0.22279424872154932, 0.012953153995438914, 0.07383297777400182, 0.5958450837901901, 0.6683080886321444, 0.06943460661113189, 0.1996244940070042, 0.034717303305565946, 0.026037977479174457, 0.17037603284638098, 0.034896295884198514, 0.03694901917150431, 0.240168624614778, 0.11289978080181873, 0.3222775561070098, 0.05337080546995067, 0.030790849309586924, 0.5986820603774866, 0.0938551448572782, 0.04123938183122829, 0.012798428844174299, 0.0056881905974108, 0.09669924015598359, 0.14931500318203347, 0.7862699980721318, 0.050545928447494184, 0.07862699980721317, 0.016848642815831396, 0.04492971417555039, 0.016848642815831396, 0.12198178966372435, 0.6157176049692753, 0.13359910296503144, 0.09293850641045664, 0.0290432832532677, 0.25076380278481003, 0.01671758685232067, 0.5266039858481011, 0.05015276055696201, 0.025076380278481004, 0.11702310796624468, 0.33613217795669514, 0.09135900221387099, 0.012066283311265979, 0.3499222160267134, 0.04654137848631164, 0.0396463594513025, 0.06722643559133903, 0.05688390703882533, 0.04170587349484402, 0.42989131140839215, 0.3422020389320535, 0.11870133225455605, 0.006416288229976003, 0.060954738184772025], \"Term\": [\"accord\", \"accord\", \"accord\", \"accord\", \"accord\", \"accord\", \"action\", \"action\", \"action\", \"action\", \"action\", \"action\", \"action\", \"action\", \"address\", \"address\", \"address\", \"address\", \"address\", \"address\", \"address\", \"address\", \"administration\", \"administration\", \"administration\", \"administration\", \"administration\", \"administration\", \"administration\", \"administration\", \"advance\", \"advance\", \"advance\", \"advance\", \"advance\", \"advance\", \"advance\", \"advocate\", \"advocate\", \"advocate\", \"advocate\", \"advocate\", \"advocate\", \"advocate\", \"afford\", \"afford\", \"afford\", \"afford\", \"affordable\", \"affordable\", \"affordable\", \"affordable\", \"afghanistan\", \"afghanistan\", \"afghanistan\", \"afghanistan\", \"afghanistan\", \"afghanistan\", \"afghanistan\", \"africa\", \"africa\", \"africa\", \"africa\", \"african\", \"african\", \"agency\", \"agency\", \"agency\", \"agency\", \"agree\", \"agree\", \"agree\", \"agree\", \"agree\", \"agree\", \"agree\", \"agree\", \"agreement\", \"agreement\", \"agreement\", \"agreement\", \"agreement\", \"agreement\", \"ally\", \"ally\", \"ally\", \"ally\", \"ally\", \"arm\", \"arm\", \"arm\", \"arm\", \"arm\", \"arm\", \"armed\", \"armed\", \"armed\", \"armed\", \"armed\", \"armed\", \"army\", \"army\", \"army\", \"army\", \"asia\", \"asia\", \"asia\", \"asia\", \"attack\", \"attack\", \"attack\", \"attack\", \"attack\", \"attack\", \"attack\", \"attack\", \"authority\", \"authority\", \"authority\", \"authority\", \"authority\", \"authority\", \"authority\", \"authority\", \"background\", \"background\", \"background\", \"background\", \"background\", \"bank\", \"bank\", \"bank\", \"bank\", \"bank\", \"barack\", \"barack\", \"belief\", \"belief\", \"belief\", \"belief\", \"belief\", \"belief\", \"belief\", \"belief\", \"belong\", \"belong\", \"belong\", \"belong\", \"belong\", \"belong\", \"big\", \"big\", \"big\", \"big\", \"big\", \"big\", \"big\", \"big\", \"bill\", \"bill\", \"bill\", \"bill\", \"bill\", \"bill\", \"bipartisan\", \"bipartisan\", \"bipartisan\", \"bipartisan\", \"bipartisan\", \"bipartisan\", \"bit\", \"bit\", \"bit\", \"bit\", \"black\", \"black\", \"black\", \"black\", \"black\", \"bless\", \"bless\", \"bless\", \"bless\", \"bless\", \"bless\", \"bless\", \"bless\", \"blood\", \"blood\", \"blood\", \"blood\", \"board\", \"board\", \"board\", \"board\", \"board\", \"board\", \"board\", \"bomb\", \"bomb\", \"bomb\", \"bomb\", \"bomb\", \"bomb\", \"border\", \"border\", \"border\", \"border\", \"border\", \"border\", \"border\", \"boy\", \"boy\", \"boy\", \"brother\", \"brother\", \"brother\", \"business\", \"business\", \"business\", \"business\", \"business\", \"capability\", \"capability\", \"capability\", \"capability\", \"capability\", \"capability\", \"car\", \"car\", \"car\", \"car\", \"car\", \"care\", \"care\", \"care\", \"care\", \"care\", \"care\", \"care\", \"case\", \"case\", \"case\", \"case\", \"case\", \"case\", \"case\", \"case\", \"century\", \"century\", \"century\", \"century\", \"century\", \"century\", \"century\", \"check\", \"check\", \"check\", \"check\", \"check\", \"check\", \"chicago\", \"chicago\", \"chicago\", \"chicago\", \"chicago\", \"china\", \"china\", \"china\", \"china\", \"choose\", \"choose\", \"choose\", \"choose\", \"choose\", \"choose\", \"choose\", \"church\", \"church\", \"church\", \"church\", \"citizen\", \"citizen\", \"citizen\", \"citizen\", \"citizen\", \"citizen\", \"citizen\", \"city\", \"city\", \"city\", \"city\", \"city\", \"city\", \"city\", \"civil\", \"civil\", \"civil\", \"civil\", \"civil\", \"civil\", \"civil\", \"civilian\", \"civilian\", \"civilian\", \"civilian\", \"civilian\", \"class\", \"class\", \"class\", \"class\", \"class\", \"class\", \"clean\", \"clean\", \"clean\", \"clean\", \"clean\", \"clean\", \"climate\", \"climate\", \"climate\", \"climate\", \"climate\", \"climate\", \"clinton\", \"clinton\", \"clinton\", \"clinton\", \"coalition\", \"coalition\", \"coalition\", \"coalition\", \"coalition\", \"coalition\", \"code\", \"code\", \"code\", \"code\", \"code\", \"code\", \"cold\", \"cold\", \"cold\", \"cold\", \"cold\", \"cold\", \"college\", \"college\", \"college\", \"college\", \"combat\", \"combat\", \"combat\", \"combat\", \"combat\", \"commander\", \"commander\", \"commander\", \"commander\", \"commerce\", \"commerce\", \"commerce\", \"commerce\", \"commitment\", \"commitment\", \"commitment\", \"commitment\", \"commitment\", \"commitment\", \"commitment\", \"commitment\", \"common\", \"common\", \"common\", \"common\", \"common\", \"common\", \"common\", \"common\", \"company\", \"company\", \"company\", \"company\", \"company\", \"competition\", \"competition\", \"competition\", \"competition\", \"competition\", \"conflict\", \"conflict\", \"conflict\", \"conflict\", \"conflict\", \"connect\", \"connect\", \"connect\", \"connect\", \"connect\", \"connect\", \"constitution\", \"constitution\", \"constitution\", \"constitution\", \"constitution\", \"constitution\", \"consumer\", \"consumer\", \"consumer\", \"cooperation\", \"cooperation\", \"cooperation\", \"cooperation\", \"cooperation\", \"cooperation\", \"cost\", \"cost\", \"cost\", \"cost\", \"cost\", \"cost\", \"cost\", \"council\", \"council\", \"council\", \"council\", \"council\", \"court\", \"court\", \"court\", \"court\", \"court\", \"court\", \"cover\", \"cover\", \"cover\", \"cover\", \"cover\", \"cover\", \"creation\", \"creation\", \"creation\", \"creation\", \"creation\", \"creation\", \"creation\", \"crime\", \"crime\", \"crime\", \"crime\", \"criminal\", \"criminal\", \"criminal\", \"criminal\", \"crisis\", \"crisis\", \"crisis\", \"crisis\", \"crisis\", \"crisis\", \"crisis\", \"cut\", \"cut\", \"cut\", \"cut\", \"cut\", \"cut\", \"cut\", \"daughter\", \"daughter\", \"daughter\", \"daughter\", \"daughter\", \"daughter\", \"deal\", \"deal\", \"deal\", \"deal\", \"deal\", \"deal\", \"deal\", \"deal\", \"debate\", \"debate\", \"debate\", \"debate\", \"debate\", \"debate\", \"debate\", \"debate\", \"debt\", \"debt\", \"debt\", \"debt\", \"debt\", \"debt\", \"defeat\", \"defeat\", \"defeat\", \"defeat\", \"defeat\", \"defeat\", \"defeat\", \"deficit\", \"deficit\", \"deficit\", \"define\", \"define\", \"define\", \"define\", \"define\", \"define\", \"define\", \"democracy\", \"democracy\", \"democracy\", \"democracy\", \"democracy\", \"democracy\", \"democracy\", \"democrats\", \"democrats\", \"democrats\", \"democrats\", \"democrats\", \"department\", \"department\", \"department\", \"department\", \"department\", \"deploy\", \"deploy\", \"deploy\", \"deploy\", \"deploy\", \"deploy\", \"destruction\", \"destruction\", \"destruction\", \"destruction\", \"destruction\", \"destruction\", \"develop\", \"develop\", \"develop\", \"develop\", \"develop\", \"develop\", \"development\", \"development\", \"development\", \"development\", \"development\", \"development\", \"dignity\", \"dignity\", \"dignity\", \"dignity\", \"dignity\", \"dignity\", \"diplomatic\", \"diplomatic\", \"diplomatic\", \"diplomatic\", \"director\", \"director\", \"director\", \"director\", \"disaster\", \"disaster\", \"disaster\", \"disaster\", \"disaster\", \"discussion\", \"discussion\", \"discussion\", \"discussion\", \"discussion\", \"discussion\", \"discussion\", \"disease\", \"disease\", \"disease\", \"disease\", \"disease\", \"economic\", \"economic\", \"economic\", \"economic\", \"economic\", \"economic\", \"economic\", \"education\", \"education\", \"education\", \"education\", \"education\", \"efficient\", \"efficient\", \"efficient\", \"efficient\", \"embrace\", \"embrace\", \"embrace\", \"embrace\", \"embrace\", \"embrace\", \"embrace\", \"empower\", \"empower\", \"empower\", \"empower\", \"empower\", \"empower\", \"enemy\", \"enemy\", \"enemy\", \"enemy\", \"energy\", \"energy\", \"energy\", \"energy\", \"energy\", \"energy\", \"enforcement\", \"enforcement\", \"enforcement\", \"enforcement\", \"enforcement\", \"enforcement\", \"enforcement\", \"enforcement\", \"entrepreneur\", \"entrepreneur\", \"entrepreneur\", \"entrepreneur\", \"entrepreneur\", \"equal\", \"equal\", \"equal\", \"equal\", \"equal\", \"equal\", \"europe\", \"europe\", \"europe\", \"europe\", \"europe\", \"europe\", \"europe\", \"european\", \"european\", \"european\", \"european\", \"executive\", \"executive\", \"executive\", \"executive\", \"extremist\", \"extremist\", \"extremist\", \"faith\", \"faith\", \"faith\", \"faith\", \"faith\", \"faith\", \"faith\", \"fast\", \"fast\", \"fast\", \"fast\", \"fast\", \"fast\", \"fast\", \"father\", \"father\", \"father\", \"father\", \"father\", \"father\", \"fear\", \"fear\", \"fear\", \"fear\", \"fear\", \"fear\", \"fear\", \"fear\", \"federal\", \"federal\", \"federal\", \"federal\", \"federal\", \"feed\", \"feed\", \"feed\", \"feed\", \"feed\", \"feed\", \"feed\", \"feel\", \"feel\", \"feel\", \"feel\", \"feel\", \"feel\", \"feel\", \"feel\", \"financial\", \"financial\", \"financial\", \"financial\", \"financial\", \"financial\", \"financial\", \"forge\", \"forge\", \"forge\", \"forge\", \"forge\", \"forge\", \"forge\", \"found\", \"found\", \"found\", \"found\", \"found\", \"found\", \"free\", \"free\", \"free\", \"free\", \"free\", \"free\", \"free\", \"free\", \"freedom\", \"freedom\", \"freedom\", \"freedom\", \"freedom\", \"friend\", \"friend\", \"friend\", \"friend\", \"friend\", \"friend\", \"friend\", \"friend\", \"friendship\", \"friendship\", \"friendship\", \"gas\", \"gas\", \"gas\", \"gas\", \"gas\", \"gas\", \"general\", \"general\", \"general\", \"general\", \"general\", \"general\", \"generation\", \"generation\", \"generation\", \"generation\", \"generation\", \"generation\", \"generation\", \"generation\", \"global\", \"global\", \"global\", \"global\", \"global\", \"global\", \"globe\", \"globe\", \"globe\", \"globe\", \"globe\", \"globe\", \"god\", \"god\", \"god\", \"god\", \"god\", \"god\", \"god\", \"god\", \"ground\", \"ground\", \"ground\", \"ground\", \"ground\", \"ground\", \"ground\", \"growth\", \"growth\", \"growth\", \"growth\", \"gun\", \"gun\", \"gun\", \"guy\", \"guy\", \"guy\", \"haven\", \"haven\", \"haven\", \"haven\", \"haven\", \"health\", \"health\", \"health\", \"health\", \"health\", \"health\", \"hear\", \"hear\", \"hear\", \"hear\", \"hear\", \"hear\", \"hear\", \"hear\", \"heart\", \"heart\", \"heart\", \"heart\", \"heart\", \"heart\", \"hero\", \"hero\", \"hero\", \"hero\", \"hire\", \"hire\", \"hire\", \"hire\", \"homeland\", \"homeland\", \"homeland\", \"honor\", \"honor\", \"honor\", \"honor\", \"honor\", \"honor\", \"host\", \"host\", \"host\", \"host\", \"host\", \"host\", \"host\", \"human\", \"human\", \"human\", \"human\", \"human\", \"human\", \"human\", \"human\", \"humanity\", \"humanity\", \"humanity\", \"humanity\", \"idea\", \"idea\", \"idea\", \"idea\", \"idea\", \"idea\", \"idea\", \"idea\", \"ideal\", \"ideal\", \"ideal\", \"ideal\", \"ideal\", \"ignore\", \"ignore\", \"ignore\", \"ignore\", \"ignore\", \"ignore\", \"immigrant\", \"immigrant\", \"immigrant\", \"immigrant\", \"impose\", \"impose\", \"impose\", \"impose\", \"impose\", \"income\", \"income\", \"income\", \"income\", \"independence\", \"independence\", \"independence\", \"independence\", \"independence\", \"independence\", \"independence\", \"industry\", \"industry\", \"industry\", \"industry\", \"infrastructure\", \"infrastructure\", \"infrastructure\", \"infrastructure\", \"initiative\", \"initiative\", \"initiative\", \"initiative\", \"initiative\", \"initiative\", \"initiative\", \"insurance\", \"insurance\", \"intelligence\", \"intelligence\", \"intelligence\", \"intelligence\", \"international\", \"international\", \"international\", \"international\", \"international\", \"international\", \"invest\", \"invest\", \"invest\", \"invest\", \"invest\", \"invest\", \"investment\", \"investment\", \"investment\", \"investment\", \"investment\", \"involve\", \"involve\", \"involve\", \"involve\", \"involve\", \"involve\", \"involve\", \"iran\", \"iran\", \"iraq\", \"iraq\", \"iraq\", \"iraq\", \"iraq\", \"iraqi\", \"israel\", \"israel\", \"israel\", \"john\", \"john\", \"john\", \"john\", \"john\", \"justice\", \"justice\", \"justice\", \"justice\", \"justice\", \"justice\", \"kid\", \"kid\", \"kid\", \"kid\", \"kill\", \"kill\", \"kill\", \"kill\", \"kill\", \"kill\", \"kill\", \"kill\", \"king\", \"king\", \"king\", \"king\", \"king\", \"korea\", \"korea\", \"korea\", \"korea\", \"leadership\", \"leadership\", \"leadership\", \"leadership\", \"leadership\", \"leadership\", \"leadership\", \"leadership\", \"learn\", \"learn\", \"learn\", \"learn\", \"learn\", \"learn\", \"learn\", \"legacy\", \"legacy\", \"legacy\", \"legacy\", \"legacy\", \"legacy\", \"legal\", \"legal\", \"legal\", \"legal\", \"legal\", \"legal\", \"liberty\", \"liberty\", \"liberty\", \"liberty\", \"liberty\", \"liberty\", \"like\", \"like\", \"like\", \"like\", \"like\", \"like\", \"like\", \"like\", \"little\", \"little\", \"little\", \"little\", \"little\", \"little\", \"little\", \"little\", \"living\", \"living\", \"living\", \"living\", \"living\", \"loan\", \"loan\", \"lose\", \"lose\", \"lose\", \"lose\", \"lose\", \"lose\", \"lose\", \"lose\", \"love\", \"love\", \"love\", \"love\", \"love\", \"love\", \"love\", \"market\", \"market\", \"market\", \"market\", \"mass\", \"mass\", \"mass\", \"mass\", \"mass\", \"mass\", \"material\", \"material\", \"material\", \"material\", \"material\", \"material\", \"material\", \"mayor\", \"mayor\", \"mayor\", \"mayor\", \"medicare\", \"medicare\", \"memory\", \"memory\", \"memory\", \"memory\", \"michelle\", \"michelle\", \"michelle\", \"michelle\", \"michelle\", \"michelle\", \"middle\", \"middle\", \"middle\", \"middle\", \"middle\", \"middle\", \"middle\", \"military\", \"military\", \"military\", \"military\", \"military\", \"military\", \"military\", \"minister\", \"minister\", \"minister\", \"minister\", \"minister\", \"miss\", \"miss\", \"miss\", \"miss\", \"miss\", \"miss\", \"miss\", \"mission\", \"mission\", \"mission\", \"mission\", \"mission\", \"mission\", \"mission\", \"mission\", \"mom\", \"mom\", \"moment\", \"moment\", \"moment\", \"moment\", \"moment\", \"moment\", \"moment\", \"moment\", \"money\", \"money\", \"money\", \"money\", \"money\", \"money\", \"moral\", \"moral\", \"moral\", \"moral\", \"moral\", \"mother\", \"mother\", \"mother\", \"mother\", \"mother\", \"murder\", \"murder\", \"murder\", \"murder\", \"mutual\", \"mutual\", \"mutual\", \"mutual\", \"mutual\", \"mutual\", \"mutual\", \"national\", \"national\", \"national\", \"national\", \"national\", \"national\", \"national\", \"national\", \"nations\", \"nations\", \"nations\", \"nations\", \"natural\", \"natural\", \"natural\", \"natural\", \"natural\", \"natural\", \"negotiation\", \"negotiation\", \"negotiation\", \"negotiation\", \"neighborhood\", \"neighborhood\", \"neighborhood\", \"neighborhood\", \"night\", \"night\", \"night\", \"night\", \"night\", \"night\", \"night\", \"non\", \"non\", \"non\", \"non\", \"non\", \"non\", \"nuclear\", \"nuclear\", \"nuclear\", \"nuclear\", \"nuclear\", \"nuclear\", \"obama\", \"obama\", \"obama\", \"officer\", \"officer\", \"officer\", \"officer\", \"officer\", \"officer\", \"official\", \"official\", \"official\", \"official\", \"official\", \"oil\", \"oil\", \"oil\", \"oil\", \"oil\", \"old\", \"old\", \"old\", \"old\", \"old\", \"old\", \"old\", \"old\", \"open\", \"open\", \"open\", \"open\", \"open\", \"open\", \"open\", \"open\", \"operation\", \"operation\", \"operation\", \"operation\", \"opposition\", \"opposition\", \"opposition\", \"opposition\", \"opposition\", \"opposition\", \"order\", \"order\", \"order\", \"order\", \"order\", \"order\", \"order\", \"order\", \"pacific\", \"pacific\", \"pacific\", \"pacific\", \"parent\", \"parent\", \"parent\", \"parent\", \"parent\", \"parent\", \"partner\", \"partner\", \"partner\", \"partner\", \"partner\", \"partner\", \"partner\", \"partnership\", \"partnership\", \"partnership\", \"partnership\", \"partnership\", \"party\", \"party\", \"party\", \"party\", \"party\", \"party\", \"party\", \"party\", \"pass\", \"pass\", \"pass\", \"pass\", \"pass\", \"pass\", \"pass\", \"pass\", \"path\", \"path\", \"path\", \"path\", \"path\", \"path\", \"path\", \"pay\", \"pay\", \"pay\", \"pay\", \"pay\", \"pay\", \"pay\", \"peace\", \"peace\", \"peace\", \"peace\", \"peace\", \"peace\", \"percent\", \"percent\", \"percent\", \"percent\", \"percent\", \"percent\", \"percent\", \"percent\", \"personnel\", \"personnel\", \"personnel\", \"plan\", \"plan\", \"plan\", \"plan\", \"plan\", \"plan\", \"plan\", \"plot\", \"plot\", \"plot\", \"police\", \"police\", \"police\", \"police\", \"police\", \"policy\", \"policy\", \"policy\", \"policy\", \"policy\", \"policy\", \"policy\", \"policy\", \"pray\", \"pray\", \"pray\", \"pray\", \"prayer\", \"prayer\", \"prayer\", \"prevent\", \"prevent\", \"prevent\", \"prevent\", \"prevent\", \"prevent\", \"prevent\", \"prevent\", \"prime\", \"prime\", \"prime\", \"prime\", \"process\", \"process\", \"process\", \"process\", \"process\", \"process\", \"process\", \"process\", \"produce\", \"produce\", \"produce\", \"produce\", \"produce\", \"produce\", \"produce\", \"product\", \"product\", \"product\", \"product\", \"program\", \"program\", \"program\", \"program\", \"program\", \"program\", \"program\", \"progress\", \"progress\", \"progress\", \"progress\", \"progress\", \"progress\", \"progress\", \"progress\", \"promote\", \"promote\", \"promote\", \"promote\", \"promote\", \"promote\", \"promote\", \"promote\", \"proposal\", \"proposal\", \"proposal\", \"proposal\", \"proposal\", \"prospect\", \"prospect\", \"prospect\", \"prospect\", \"prospect\", \"prospect\", \"prosperity\", \"prosperity\", \"prosperity\", \"prosperity\", \"prosperity\", \"prosperity\", \"prosperous\", \"prosperous\", \"prosperous\", \"prosperous\", \"protect\", \"protect\", \"protect\", \"protect\", \"protect\", \"protect\", \"protect\", \"public\", \"public\", \"public\", \"public\", \"public\", \"public\", \"public\", \"public\", \"qaeda\", \"qaeda\", \"qaeda\", \"qaeda\", \"qaeda\", \"quality\", \"quality\", \"quality\", \"quality\", \"quality\", \"quality\", \"race\", \"race\", \"race\", \"race\", \"race\", \"race\", \"race\", \"rate\", \"rate\", \"rate\", \"rate\", \"rate\", \"recession\", \"recession\", \"recession\", \"recession\", \"recession\", \"recovery\", \"recovery\", \"recovery\", \"recovery\", \"recovery\", \"reform\", \"reform\", \"reform\", \"reform\", \"reform\", \"reform\", \"reform\", \"regime\", \"regime\", \"regime\", \"regime\", \"region\", \"region\", \"region\", \"region\", \"region\", \"reject\", \"reject\", \"reject\", \"reject\", \"reject\", \"reject\", \"reject\", \"relation\", \"relation\", \"relation\", \"relation\", \"relationship\", \"relationship\", \"relationship\", \"relationship\", \"relationship\", \"relationship\", \"release\", \"release\", \"release\", \"release\", \"release\", \"release\", \"report\", \"report\", \"report\", \"report\", \"report\", \"report\", \"republican\", \"republican\", \"republican\", \"republican\", \"republican\", \"republicans\", \"republicans\", \"republicans\", \"republicans\", \"republicans\", \"research\", \"research\", \"research\", \"research\", \"research\", \"research\", \"research\", \"resolution\", \"resolution\", \"resolution\", \"resolution\", \"review\", \"review\", \"review\", \"review\", \"revolution\", \"revolution\", \"revolution\", \"revolution\", \"revolution\", \"revolution\", \"rule\", \"rule\", \"rule\", \"rule\", \"rule\", \"rule\", \"rule\", \"rule\", \"russia\", \"russia\", \"russia\", \"safe\", \"safe\", \"safe\", \"safe\", \"safe\", \"safe\", \"safe\", \"safe\", \"sanction\", \"sanction\", \"sanction\", \"saving\", \"saving\", \"saving\", \"saving\", \"school\", \"school\", \"school\", \"school\", \"school\", \"school\", \"school\", \"scientist\", \"scientist\", \"scientist\", \"scientist\", \"scientist\", \"scientist\", \"scientist\", \"secret\", \"secret\", \"secret\", \"secret\", \"secret\", \"sector\", \"sector\", \"sector\", \"sector\", \"seek\", \"seek\", \"seek\", \"seek\", \"seek\", \"seek\", \"seek\", \"seek\", \"self\", \"self\", \"self\", \"self\", \"self\", \"self\", \"sell\", \"sell\", \"sell\", \"sell\", \"serve\", \"serve\", \"serve\", \"serve\", \"serve\", \"serve\", \"serve\", \"serve\", \"service\", \"service\", \"service\", \"service\", \"service\", \"service\", \"service\", \"service\", \"shake\", \"shake\", \"shake\", \"shake\", \"shake\", \"shake\", \"shoot\", \"shoot\", \"shoot\", \"shoot\", \"shoot\", \"shoot\", \"sick\", \"sick\", \"sick\", \"sick\", \"sick\", \"sick\", \"sister\", \"sister\", \"sister\", \"society\", \"society\", \"society\", \"society\", \"society\", \"society\", \"soldier\", \"soldier\", \"soldier\", \"soldier\", \"soldier\", \"son\", \"son\", \"son\", \"son\", \"son\", \"son\", \"space\", \"space\", \"space\", \"space\", \"space\", \"space\", \"speech\", \"speech\", \"speech\", \"speech\", \"speech\", \"speed\", \"speed\", \"speed\", \"speed\", \"spend\", \"spend\", \"spend\", \"spend\", \"spend\", \"spend\", \"spend\", \"spending\", \"spending\", \"spending\", \"statement\", \"statement\", \"statement\", \"statement\", \"statement\", \"story\", \"story\", \"story\", \"story\", \"story\", \"story\", \"strategy\", \"strategy\", \"strategy\", \"strategy\", \"strategy\", \"strategy\", \"street\", \"street\", \"street\", \"street\", \"street\", \"street\", \"street\", \"street\", \"strengthen\", \"strengthen\", \"strengthen\", \"strengthen\", \"strengthen\", \"strengthen\", \"strengthen\", \"strike\", \"strike\", \"strike\", \"strike\", \"strike\", \"strike\", \"student\", \"student\", \"student\", \"student\", \"student\", \"student\", \"student\", \"subject\", \"subject\", \"subject\", \"subject\", \"subject\", \"subject\", \"subject\", \"summit\", \"summit\", \"summit\", \"summit\", \"syria\", \"syria\", \"syria\", \"talent\", \"talent\", \"talent\", \"talent\", \"talent\", \"talent\", \"talent\", \"talk\", \"talk\", \"talk\", \"talk\", \"talk\", \"talk\", \"talk\", \"tax\", \"tax\", \"taxis\", \"taxis\", \"taxis\", \"taxpayer\", \"taxpayer\", \"taxpayer\", \"teach\", \"teach\", \"teach\", \"teach\", \"teacher\", \"teacher\", \"teacher\", \"teacher\", \"teacher\", \"technology\", \"technology\", \"technology\", \"technology\", \"technology\", \"technology\", \"technology\", \"term\", \"term\", \"term\", \"term\", \"term\", \"term\", \"term\", \"terror\", \"terror\", \"terror\", \"terror\", \"terror\", \"terror\", \"terrorist\", \"terrorist\", \"terrorist\", \"terrorist\", \"terrorist\", \"threat\", \"threat\", \"threat\", \"threat\", \"threat\", \"threat\", \"threat\", \"threat\", \"tie\", \"tie\", \"tie\", \"tie\", \"tie\", \"tie\", \"tie\", \"tie\", \"tonight\", \"tonight\", \"tonight\", \"trade\", \"trade\", \"trade\", \"trade\", \"trade\", \"trade\", \"trade\", \"tragedy\", \"tragedy\", \"tragedy\", \"tragedy\", \"tragedy\", \"tragedy\", \"troop\", \"troop\", \"troop\", \"troop\", \"true\", \"true\", \"true\", \"true\", \"true\", \"true\", \"true\", \"true\", \"truth\", \"truth\", \"truth\", \"truth\", \"truth\", \"truth\", \"truth\", \"understand\", \"understand\", \"understand\", \"understand\", \"understand\", \"understand\", \"understand\", \"understand\", \"uniform\", \"uniform\", \"uniform\", \"uniform\", \"uniform\", \"uniform\", \"universal\", \"universal\", \"universal\", \"universal\", \"universal\", \"value\", \"value\", \"value\", \"value\", \"value\", \"value\", \"value\", \"veteran\", \"veteran\", \"veteran\", \"veteran\", \"veteran\", \"victim\", \"victim\", \"victim\", \"victim\", \"victim\", \"violence\", \"violence\", \"violence\", \"violence\", \"violence\", \"violence\", \"visit\", \"visit\", \"visit\", \"visit\", \"visit\", \"visit\", \"visit\", \"vote\", \"vote\", \"vote\", \"vote\", \"vote\", \"vote\", \"vote\", \"vote\", \"walk\", \"walk\", \"walk\", \"walk\", \"walk\", \"walk\", \"washington\", \"washington\", \"washington\", \"washington\", \"washington\", \"washington\", \"washington\", \"wealthy\", \"wealthy\", \"wealthy\", \"weapon\", \"weapon\", \"weapon\", \"weapon\", \"weapon\", \"weapon\", \"wear\", \"wear\", \"wear\", \"wear\", \"wear\", \"welcome\", \"welcome\", \"welcome\", \"welcome\", \"welcome\", \"welcome\", \"welcome\", \"welcome\", \"white\", \"white\", \"white\", \"white\", \"white\", \"white\", \"white\", \"wife\", \"wife\", \"wife\", \"wife\", \"wife\", \"wife\", \"wind\", \"wind\", \"wind\", \"wind\", \"wind\", \"witness\", \"witness\", \"witness\", \"witness\", \"witness\", \"witness\", \"word\", \"word\", \"word\", \"word\", \"word\", \"word\", \"word\", \"word\", \"worker\", \"worker\", \"worker\", \"worker\", \"worker\", \"worker\"]}, \"R\": 30, \"lambda.step\": 0.01, \"plot.opts\": {\"xlab\": \"PC1\", \"ylab\": \"PC2\"}, \"topic.order\": [8, 5, 1, 2, 6, 3, 4, 7]};\n",
       "\n",
       "function LDAvis_load_lib(url, callback){\n",
       "  var s = document.createElement('script');\n",
       "  s.src = url;\n",
       "  s.async = true;\n",
       "  s.onreadystatechange = s.onload = callback;\n",
       "  s.onerror = function(){console.warn(\"failed to load library \" + url);};\n",
       "  document.getElementsByTagName(\"head\")[0].appendChild(s);\n",
       "}\n",
       "\n",
       "if(typeof(LDAvis) !== \"undefined\"){\n",
       "   // already loaded: just create the visualization\n",
       "   !function(LDAvis){\n",
       "       new LDAvis(\"#\" + \"ldavis_el462561404043820989121866356725\", ldavis_el462561404043820989121866356725_data);\n",
       "   }(LDAvis);\n",
       "}else if(typeof define === \"function\" && define.amd){\n",
       "   // require.js is available: use it to load d3/LDAvis\n",
       "   require.config({paths: {d3: \"https://d3js.org/d3.v5\"}});\n",
       "   require([\"d3\"], function(d3){\n",
       "      window.d3 = d3;\n",
       "      LDAvis_load_lib(\"https://cdn.jsdelivr.net/gh/bmabey/pyLDAvis@3.4.0/pyLDAvis/js/ldavis.v3.0.0.js\", function(){\n",
       "        new LDAvis(\"#\" + \"ldavis_el462561404043820989121866356725\", ldavis_el462561404043820989121866356725_data);\n",
       "      });\n",
       "    });\n",
       "}else{\n",
       "    // require.js not available: dynamically load d3 & LDAvis\n",
       "    LDAvis_load_lib(\"https://d3js.org/d3.v5.js\", function(){\n",
       "         LDAvis_load_lib(\"https://cdn.jsdelivr.net/gh/bmabey/pyLDAvis@3.4.0/pyLDAvis/js/ldavis.v3.0.0.js\", function(){\n",
       "                 new LDAvis(\"#\" + \"ldavis_el462561404043820989121866356725\", ldavis_el462561404043820989121866356725_data);\n",
       "            })\n",
       "         });\n",
       "}\n",
       "</script>"
      ],
      "text/plain": [
       "<IPython.core.display.HTML object>"
      ]
     },
     "execution_count": 19,
     "metadata": {},
     "output_type": "execute_result"
    }
   ],
   "source": [
    "#       vis = pyLDAvis.gensim_models.prepare(lda_model, corpus, id2word)\n",
    "lda_display = pyLDAvis.gensim_models.prepare(topic_model=finalmodel_8, corpus=corpus, dictionary=token_dict)\n",
    "pyLDAvis.display(lda_display)"
   ]
  },
  {
   "cell_type": "code",
   "execution_count": 20,
   "metadata": {},
   "outputs": [],
   "source": [
    "columns = list(dict(token_dict).values())"
   ]
  },
  {
   "cell_type": "code",
   "execution_count": 21,
   "metadata": {},
   "outputs": [
    {
     "data": {
      "text/plain": [
       "(8, 1000)"
      ]
     },
     "execution_count": 21,
     "metadata": {},
     "output_type": "execute_result"
    }
   ],
   "source": [
    "# num topics x vocab size, here 9x1000\n",
    "topic_vals = pd.DataFrame(finalmodel_8.get_topics(), columns=columns)\n",
    "topic_vals.shape"
   ]
  },
  {
   "cell_type": "code",
   "execution_count": 22,
   "metadata": {},
   "outputs": [],
   "source": [
    "topic_by_doc=list(finalmodel_8[corpus])"
   ]
  },
  {
   "cell_type": "code",
   "execution_count": 23,
   "metadata": {},
   "outputs": [],
   "source": [
    "#[doc][topic][0-id] or [1-value]\n",
    "doc_topics = []\n",
    "for doc_num in range(len(topic_by_doc)):\n",
    "    topics_for_doc = [0] * len(finalmodel_8.print_topics())\n",
    "    for i in range(len(finalmodel_8.print_topics())):\n",
    "        if (i < len(topic_by_doc[doc_num])):\n",
    "            topics_for_doc[topic_by_doc[doc_num][i][0]]=topic_by_doc[doc_num][i][1]\n",
    "    doc_topics.append(topics_for_doc);"
   ]
  },
  {
   "cell_type": "code",
   "execution_count": 24,
   "metadata": {},
   "outputs": [
    {
     "data": {
      "text/plain": [
       "(743, 8)"
      ]
     },
     "execution_count": 24,
     "metadata": {},
     "output_type": "execute_result"
    }
   ],
   "source": [
    "# doc_topics is num_docs x num_topics or 743 rows x 9 cols\n",
    "doc_topics = pd.DataFrame(doc_topics)\n",
    "doc_topics.shape"
   ]
  },
  {
   "cell_type": "code",
   "execution_count": 25,
   "metadata": {},
   "outputs": [],
   "source": [
    "docs_words = doc_topics.dot(topic_vals)"
   ]
  },
  {
   "cell_type": "code",
   "execution_count": 26,
   "metadata": {},
   "outputs": [
    {
     "data": {
      "text/plain": [
       "0      0.996646\n",
       "1      0.999327\n",
       "2      0.998303\n",
       "3      0.992373\n",
       "4      0.999457\n",
       "         ...   \n",
       "738    0.998308\n",
       "739    0.999742\n",
       "740    0.996281\n",
       "741    0.999242\n",
       "742    0.998858\n",
       "Length: 743, dtype: float64"
      ]
     },
     "execution_count": 26,
     "metadata": {},
     "output_type": "execute_result"
    }
   ],
   "source": [
    "# sum for each document should by 1-ish\n",
    "docs_words.sum(axis=1) # 0-rows, 1-cols"
   ]
  },
  {
   "cell_type": "markdown",
   "metadata": {},
   "source": [
    "### Load just the 101 speeches used for comparison"
   ]
  },
  {
   "cell_type": "code",
   "execution_count": 27,
   "metadata": {},
   "outputs": [],
   "source": [
    "# Load up the files\n",
    "\n",
    "paths = ['./Data/speeches/']\n",
    "\n",
    "speeches = []\n",
    "\n",
    "for path in paths:\n",
    "    list_of_files = []\n",
    "    for root, dirs, files in os.walk(path):\n",
    "        for file in files:\n",
    "            if file.endswith('.txt'):\n",
    "                list_of_files.append(os.path.join(root,file))\n",
    "   \n",
    "    for file in list_of_files:\n",
    "        with open(file, encoding='utf-8') as f:\n",
    "            text = f.read()\n",
    "        f.close()\n",
    "        speeches.append(text)\n",
    "\n",
    "#clean out goofy unicode  space characters \n",
    "speeches = [unicodedata.normalize(\"NFKD\", speech) for speech in speeches if len(speech)>0 ]\n",
    "#clean out xa0 space characters\n",
    "[speech.replace(u'\\xa0', '') for speech in speeches]; # ; supresses output\n",
    "# remove [stuff] in between square brackets\n",
    "def remove_bracket(text):\n",
    "    return re.sub(r'(\\[[^w]*\\]\\s)', '',text)\n",
    "speeches = [remove_bracket(speech) for speech in speeches]\n",
    "# Clean up whitespace\n",
    "speeches = [re.sub(r'[\\s+]', ' ', speech) for speech in speeches]\n",
    "\n",
    "date_text = [file[11:21] for file in list_of_files]\n",
    "\n",
    "df = pd.DataFrame({'date' : date_text,\n",
    "                   'file' : list_of_files,\n",
    "                   'text' : speeches})\n",
    "df.date = pd.to_datetime(df.date, format='%Y-%m-%d')\n",
    "speeches101 = df"
   ]
  },
  {
   "cell_type": "markdown",
   "metadata": {},
   "source": [
    "### Load the 400+ American Rhetoric speeches"
   ]
  },
  {
   "cell_type": "code",
   "execution_count": 28,
   "metadata": {},
   "outputs": [
    {
     "ename": "KeyboardInterrupt",
     "evalue": "",
     "output_type": "error",
     "traceback": [
      "\u001b[0;31m---------------------------------------------------------------------------\u001b[0m",
      "\u001b[0;31mKeyboardInterrupt\u001b[0m                         Traceback (most recent call last)",
      "Cell \u001b[0;32mIn[28], line 30\u001b[0m\n\u001b[1;32m     28\u001b[0m speeches \u001b[38;5;241m=\u001b[39m [remove_bracket(speech) \u001b[38;5;28;01mfor\u001b[39;00m speech \u001b[38;5;129;01min\u001b[39;00m speeches]\n\u001b[1;32m     29\u001b[0m \u001b[38;5;66;03m# Clean up whitespace\u001b[39;00m\n\u001b[0;32m---> 30\u001b[0m speeches \u001b[38;5;241m=\u001b[39m [re\u001b[38;5;241m.\u001b[39msub(\u001b[38;5;124mr\u001b[39m\u001b[38;5;124m'\u001b[39m\u001b[38;5;124m[\u001b[39m\u001b[38;5;124m\\\u001b[39m\u001b[38;5;124ms+]\u001b[39m\u001b[38;5;124m'\u001b[39m, \u001b[38;5;124m'\u001b[39m\u001b[38;5;124m \u001b[39m\u001b[38;5;124m'\u001b[39m, speech) \u001b[38;5;28;01mfor\u001b[39;00m speech \u001b[38;5;129;01min\u001b[39;00m speeches]\n\u001b[1;32m     32\u001b[0m df \u001b[38;5;241m=\u001b[39m pd\u001b[38;5;241m.\u001b[39mDataFrame({\u001b[38;5;124m'\u001b[39m\u001b[38;5;124mfile\u001b[39m\u001b[38;5;124m'\u001b[39m : list_of_files,\n\u001b[1;32m     33\u001b[0m                    \u001b[38;5;124m'\u001b[39m\u001b[38;5;124mtext\u001b[39m\u001b[38;5;124m'\u001b[39m : speeches})\n\u001b[1;32m     34\u001b[0m datetitle \u001b[38;5;241m=\u001b[39m pd\u001b[38;5;241m.\u001b[39mread_csv(\u001b[38;5;124m'\u001b[39m\u001b[38;5;124mdatetitle.csv\u001b[39m\u001b[38;5;124m'\u001b[39m)\n",
      "Cell \u001b[0;32mIn[28], line 30\u001b[0m, in \u001b[0;36m<listcomp>\u001b[0;34m(.0)\u001b[0m\n\u001b[1;32m     28\u001b[0m speeches \u001b[38;5;241m=\u001b[39m [remove_bracket(speech) \u001b[38;5;28;01mfor\u001b[39;00m speech \u001b[38;5;129;01min\u001b[39;00m speeches]\n\u001b[1;32m     29\u001b[0m \u001b[38;5;66;03m# Clean up whitespace\u001b[39;00m\n\u001b[0;32m---> 30\u001b[0m speeches \u001b[38;5;241m=\u001b[39m [\u001b[43mre\u001b[49m\u001b[38;5;241;43m.\u001b[39;49m\u001b[43msub\u001b[49m\u001b[43m(\u001b[49m\u001b[38;5;124;43mr\u001b[39;49m\u001b[38;5;124;43m'\u001b[39;49m\u001b[38;5;124;43m[\u001b[39;49m\u001b[38;5;124;43m\\\u001b[39;49m\u001b[38;5;124;43ms+]\u001b[39;49m\u001b[38;5;124;43m'\u001b[39;49m\u001b[43m,\u001b[49m\u001b[43m \u001b[49m\u001b[38;5;124;43m'\u001b[39;49m\u001b[38;5;124;43m \u001b[39;49m\u001b[38;5;124;43m'\u001b[39;49m\u001b[43m,\u001b[49m\u001b[43m \u001b[49m\u001b[43mspeech\u001b[49m\u001b[43m)\u001b[49m \u001b[38;5;28;01mfor\u001b[39;00m speech \u001b[38;5;129;01min\u001b[39;00m speeches]\n\u001b[1;32m     32\u001b[0m df \u001b[38;5;241m=\u001b[39m pd\u001b[38;5;241m.\u001b[39mDataFrame({\u001b[38;5;124m'\u001b[39m\u001b[38;5;124mfile\u001b[39m\u001b[38;5;124m'\u001b[39m : list_of_files,\n\u001b[1;32m     33\u001b[0m                    \u001b[38;5;124m'\u001b[39m\u001b[38;5;124mtext\u001b[39m\u001b[38;5;124m'\u001b[39m : speeches})\n\u001b[1;32m     34\u001b[0m datetitle \u001b[38;5;241m=\u001b[39m pd\u001b[38;5;241m.\u001b[39mread_csv(\u001b[38;5;124m'\u001b[39m\u001b[38;5;124mdatetitle.csv\u001b[39m\u001b[38;5;124m'\u001b[39m)\n",
      "File \u001b[0;32m/usr/lib/python3.10/re.py:209\u001b[0m, in \u001b[0;36msub\u001b[0;34m(pattern, repl, string, count, flags)\u001b[0m\n\u001b[1;32m    202\u001b[0m \u001b[38;5;28;01mdef\u001b[39;00m \u001b[38;5;21msub\u001b[39m(pattern, repl, string, count\u001b[38;5;241m=\u001b[39m\u001b[38;5;241m0\u001b[39m, flags\u001b[38;5;241m=\u001b[39m\u001b[38;5;241m0\u001b[39m):\n\u001b[1;32m    203\u001b[0m \u001b[38;5;250m    \u001b[39m\u001b[38;5;124;03m\"\"\"Return the string obtained by replacing the leftmost\u001b[39;00m\n\u001b[1;32m    204\u001b[0m \u001b[38;5;124;03m    non-overlapping occurrences of the pattern in string by the\u001b[39;00m\n\u001b[1;32m    205\u001b[0m \u001b[38;5;124;03m    replacement repl.  repl can be either a string or a callable;\u001b[39;00m\n\u001b[1;32m    206\u001b[0m \u001b[38;5;124;03m    if a string, backslash escapes in it are processed.  If it is\u001b[39;00m\n\u001b[1;32m    207\u001b[0m \u001b[38;5;124;03m    a callable, it's passed the Match object and must return\u001b[39;00m\n\u001b[1;32m    208\u001b[0m \u001b[38;5;124;03m    a replacement string to be used.\"\"\"\u001b[39;00m\n\u001b[0;32m--> 209\u001b[0m     \u001b[38;5;28;01mreturn\u001b[39;00m \u001b[43m_compile\u001b[49m\u001b[43m(\u001b[49m\u001b[43mpattern\u001b[49m\u001b[43m,\u001b[49m\u001b[43m \u001b[49m\u001b[43mflags\u001b[49m\u001b[43m)\u001b[49m\u001b[38;5;241;43m.\u001b[39;49m\u001b[43msub\u001b[49m\u001b[43m(\u001b[49m\u001b[43mrepl\u001b[49m\u001b[43m,\u001b[49m\u001b[43m \u001b[49m\u001b[43mstring\u001b[49m\u001b[43m,\u001b[49m\u001b[43m \u001b[49m\u001b[43mcount\u001b[49m\u001b[43m)\u001b[49m\n",
      "\u001b[0;31mKeyboardInterrupt\u001b[0m: "
     ]
    }
   ],
   "source": [
    "# Load up the files\n",
    "#path = './Data/DataUCSB/' # Smaller UCSB dataset\n",
    "#path = './Data/amrhet/' # larger American Rhetoric dataset\n",
    "paths = ['./Data/amrhet/']\n",
    "\n",
    "speeches = []\n",
    "\n",
    "for path in paths:\n",
    "    list_of_files = []\n",
    "    for root, dirs, files in os.walk(path):\n",
    "        for file in files:\n",
    "            if file.endswith('.txt'):\n",
    "                list_of_files.append(os.path.join(root,file))\n",
    "   \n",
    "    for file in list_of_files:\n",
    "        with open(file, encoding='utf-8') as f:\n",
    "            text = f.read()\n",
    "        f.close()\n",
    "        speeches.append(text)\n",
    "\n",
    "#clean out goofy unicode  space characters \n",
    "speeches = [unicodedata.normalize(\"NFKD\", speech) for speech in speeches if len(speech)>0 ]\n",
    "#clean out xa0 space characters\n",
    "[speech.replace(u'\\xa0', '') for speech in speeches]; # ; supresses output\n",
    "# remove [stuff] in between square brackets\n",
    "def remove_bracket(text):\n",
    "    return re.sub(r'(\\[[^w]*\\]\\s)', '',text)\n",
    "speeches = [remove_bracket(speech) for speech in speeches]\n",
    "# Clean up whitespace\n",
    "speeches = [re.sub(r'[\\s+]', ' ', speech) for speech in speeches]\n",
    "\n",
    "df = pd.DataFrame({'file' : list_of_files,\n",
    "                   'text' : speeches})\n",
    "datetitle = pd.read_csv('./Data/genData/datetitle.csv')\n",
    "#datetitle.url = [file.replace('Data/', './Data/amrhet/') for file in datetitle.url]\n",
    "datetitle.date = pd.to_datetime(datetitle.date, format='%Y-%m-%d')\n",
    "datetitle = datetitle.drop('title', axis=1)\n",
    "datetitle = datetitle.rename(columns={'url': 'file'})\n",
    "df = pd.merge(df, datetitle, how='inner', on='file')\n",
    "df = df.sort_values(by='date', ignore_index=True)\n",
    "amrhet = df[['date', 'file', 'text']]"
   ]
  },
  {
   "cell_type": "code",
   "execution_count": null,
   "metadata": {},
   "outputs": [],
   "source": [
    "nlp = en_core_web_md.load()\n",
    "def prepare_text(text_list):\n",
    "    #Tags to remove\n",
    "    extags = ['PRON','CCONJ','PUNCT','PART','DET','ADP','NUM','SYM','SPACE']\n",
    "    docs = text_list.apply(nlp)\n",
    "    tokens=[]\n",
    "    #SpaCy tokenization + lemmatization + lowercase\n",
    "    for speech in docs:\n",
    "        scr_tok = [token.lemma_.lower() for token in speech if token.pos_ not in extags and not token.is_stop and token.is_alpha]\n",
    "        tokens.append(scr_tok)\n",
    "    data = pd.DataFrame()\n",
    "    data['tokens'] = tokens\n",
    "\n",
    "    token_dict = Dictionary(data['tokens'])\n",
    "    #Filter out tokens that appear in less than 5 speeches, and tokens that appear in more than 70% of speeches since they are too general. Keep the top 1000 most frequent tokens\n",
    "    token_dict.filter_extremes(no_below=5,no_above=NO_ABOVE,keep_n=1000)\n",
    "\n",
    "    #Convert token counts into bag of words (BoW) corpus\n",
    "    corpus = [token_dict.doc2bow(speech) for speech in data['tokens']]\n",
    "    \n",
    "    return([token_dict, corpus])"
   ]
  },
  {
   "cell_type": "code",
   "execution_count": null,
   "metadata": {},
   "outputs": [],
   "source": [
    "if REM_SW:\n",
    "    amrhet.text=rem_stop_words(amrhet.text)\n",
    "    speeches101.text=rem_stop_words(speeches101.text)\n",
    "amrhet_token_dict, amrhet_corpus = prepare_text(amrhet.text)\n",
    "speeches_token_dict, speeches_corpus = prepare_text(speeches101.text)"
   ]
  },
  {
   "cell_type": "code",
   "execution_count": null,
   "metadata": {},
   "outputs": [],
   "source": [
    "amrhet['topics'] = [finalmodel_8[corpus] for corpus in amrhet_corpus]\n",
    "speeches101['topics'] = [finalmodel_8[corpus] for corpus in speeches_corpus]\n",
    "amrhet_topics = [finalmodel_8[corpus] for corpus in amrhet_corpus]\n",
    "speeches101_topics = [finalmodel_8[corpus] for corpus in speeches_corpus]"
   ]
  },
  {
   "cell_type": "code",
   "execution_count": null,
   "metadata": {},
   "outputs": [],
   "source": [
    "# Convert topic list to matrix of values to put in a data frame\n",
    "def topic_to_matrix(topic_by_doc):\n",
    "    doc_topics = []\n",
    "    for doc_num in range(len(topic_by_doc)):\n",
    "        topics_for_doc = [0] * len(finalmodel_8.print_topics())\n",
    "        for i in range(len(finalmodel_8.print_topics())):\n",
    "            if (i < len(topic_by_doc[doc_num])):\n",
    "                topics_for_doc[topic_by_doc[doc_num][i][0]]=topic_by_doc[doc_num][i][1]\n",
    "        doc_topics.append(topics_for_doc);\n",
    "    return(doc_topics)"
   ]
  },
  {
   "cell_type": "code",
   "execution_count": null,
   "metadata": {},
   "outputs": [],
   "source": [
    "amrhet_topic_mat = pd.DataFrame(topic_to_matrix(amrhet_topics))\n",
    "speeches101_topic_mat = pd.DataFrame(topic_to_matrix(speeches101_topics))"
   ]
  },
  {
   "cell_type": "code",
   "execution_count": null,
   "metadata": {},
   "outputs": [],
   "source": [
    "amrhet = pd.concat([amrhet,amrhet_topic_mat], axis=1)\n",
    "speeches101 = pd.concat([speeches101,speeches101_topic_mat], axis=1)"
   ]
  },
  {
   "cell_type": "code",
   "execution_count": null,
   "metadata": {},
   "outputs": [],
   "source": [
    "# Leave commented as to not accidently overwrite something important\n",
    "#amrhet.to_csv('./Data/genData/topics_amrhet_oba.csv', index=False)\n",
    "#speeches101.to_csv('./Data/genData/topics_speeches_oba.csv', index=False)"
   ]
  },
  {
   "cell_type": "code",
   "execution_count": null,
   "metadata": {},
   "outputs": [],
   "source": [
    "tidy = pd.read_csv('./Data/genData/tidy_data_oba.csv')\n",
    "tidy.date = pd.to_datetime(tidy.date, format='%Y-%m-%d')"
   ]
  },
  {
   "cell_type": "code",
   "execution_count": null,
   "metadata": {},
   "outputs": [],
   "source": [
    "ar = speeches101.drop(['file', 'text', 'topics'], axis=1)"
   ]
  },
  {
   "cell_type": "code",
   "execution_count": null,
   "metadata": {},
   "outputs": [],
   "source": [
    "topics = pd.read_csv('./Data/genData/./Data/topics/topics_8.csv')\n",
    "topic_lst = list(topics.topic_name)\n",
    "col_lst = ['date']\n",
    "for topic in topic_lst: col_lst.append(topic)\n",
    "ar.columns = col_lst\n",
    "topic_lst"
   ]
  },
  {
   "cell_type": "code",
   "execution_count": null,
   "metadata": {},
   "outputs": [],
   "source": [
    "tidy_topic = pd.merge(tidy, ar, how='left', on='date')"
   ]
  },
  {
   "cell_type": "code",
   "execution_count": null,
   "metadata": {},
   "outputs": [],
   "source": [
    "#tidy_topic.to_csv('./Data/genData/tidy_topic_oba.csv', index=False)"
   ]
  },
  {
   "cell_type": "code",
   "execution_count": null,
   "metadata": {},
   "outputs": [],
   "source": [
    "correlation = tidy_topic.corr(numeric_only=True)"
   ]
  },
  {
   "cell_type": "code",
   "execution_count": null,
   "metadata": {},
   "outputs": [],
   "source": [
    "topic_corr = correlation.loc['ADJ':'chars_per_sent_std', 'economy':'civil rights']"
   ]
  },
  {
   "cell_type": "code",
   "execution_count": null,
   "metadata": {},
   "outputs": [],
   "source": [
    "topic_corr.columns = list(topics.topic_name)"
   ]
  },
  {
   "cell_type": "code",
   "execution_count": null,
   "metadata": {},
   "outputs": [],
   "source": [
    "def highlight_max(x):\n",
    "    return ['font-weight: bold' if abs(v) > 0.30 else ''\n",
    "                for v in x]\n",
    "\n",
    "topic_corr.style.apply(highlight_max)"
   ]
  },
  {
   "cell_type": "code",
   "execution_count": null,
   "metadata": {},
   "outputs": [],
   "source": [
    "fig = px.scatter(tidy_topic, x=\"intl relations\", y=\"NUM\")\n",
    "fig.show()"
   ]
  },
  {
   "cell_type": "code",
   "execution_count": null,
   "metadata": {},
   "outputs": [],
   "source": [
    "fig = px.scatter(tidy_topic, x=\"middle east\", y=\"syl_per_word\",\n",
    "                title=\"Topic: Middle East vs Syllables per word\")\n",
    "fig.show()"
   ]
  },
  {
   "cell_type": "code",
   "execution_count": null,
   "metadata": {},
   "outputs": [],
   "source": [
    "fig.write_image(\"./plots/middle_east_vs_syllables_per_word.png\", format='png', engine='kaleido')"
   ]
  },
  {
   "cell_type": "code",
   "execution_count": null,
   "metadata": {},
   "outputs": [],
   "source": [
    "fig = px.scatter(tidy_topic, x=\"middle east\", y=\"smog\",\n",
    "                title=\"Topic: Middle East vs SMOG readbility index\")\n",
    "fig.show()"
   ]
  },
  {
   "cell_type": "code",
   "execution_count": null,
   "metadata": {},
   "outputs": [],
   "source": [
    "fig.write_image(\"./plots/middle_east_vs_SMOG.png\", format='png', engine='kaleido')"
   ]
  },
  {
   "cell_type": "code",
   "execution_count": null,
   "metadata": {},
   "outputs": [],
   "source": [
    "import plotly.express as px\n",
    "fig = px.scatter(tidy_topic, x=\"intl relations\", y=\"anger\",\n",
    "                 labels = {'intl relations':'international relations'},\n",
    "                title=\"International relations vs anger\")\n",
    "fig.show()"
   ]
  },
  {
   "cell_type": "code",
   "execution_count": null,
   "metadata": {},
   "outputs": [],
   "source": [
    "fig.write_image(\"./plots/scatter_internationalrelations_vs_anger.png\", format='png', engine='kaleido')"
   ]
  },
  {
   "cell_type": "code",
   "execution_count": null,
   "metadata": {},
   "outputs": [],
   "source": [
    "nlp = spacy.load('en_core_web_md')\n",
    "# remove [stuff] in between square brackets\n",
    "def remove_bracket(text):\n",
    "    return re.sub(r'(\\[[^w]*\\]\\s)', '',text)\n",
    "amrhet.text = amrhet.text.apply(remove_bracket)\n",
    "def get_encodings(text):\n",
    "    return list(nlp(text).vector)\n",
    "amrhet['enc'] = amrhet.text.apply(get_encodings)\n",
    "pca_data = pd.DataFrame(amrhet['enc'].to_list(), index=amrhet.date)"
   ]
  },
  {
   "cell_type": "code",
   "execution_count": null,
   "metadata": {},
   "outputs": [],
   "source": [
    "#pca_data.to_csv('./Data/genData/amrhet_spacy_encodings.csv')"
   ]
  },
  {
   "cell_type": "code",
   "execution_count": null,
   "metadata": {},
   "outputs": [],
   "source": [
    "# remove [stuff] in between square brackets\n",
    "def remove_bracket(text):\n",
    "    return re.sub(r'(\\[[^w]*\\]\\s)', '',text)\n",
    "speeches101.text = speeches101.text.apply(remove_bracket)\n",
    "def get_encodings(text):\n",
    "    return list(nlp(text).vector)\n",
    "speeches101['enc'] = speeches101.text.apply(get_encodings)\n",
    "pca_data2 = pd.DataFrame(speeches101['enc'].to_list(), index=speeches101.date)"
   ]
  },
  {
   "cell_type": "code",
   "execution_count": null,
   "metadata": {},
   "outputs": [],
   "source": [
    "#pca_data2.to_csv('./Data/genData/speeches_spacy_encodings.csv')"
   ]
  },
  {
   "cell_type": "markdown",
   "metadata": {},
   "source": [
    "### Coherence revisisted - investigate all four methods"
   ]
  },
  {
   "cell_type": "code",
   "execution_count": null,
   "metadata": {},
   "outputs": [],
   "source": [
    "#Construct and train unsupervised LDA model + Determine optimal number of topics\n",
    "umtopics, umscore = [], []\n",
    "cvtopics, cvscore = [], []\n",
    "ucitopics, uciscore = [], []\n",
    "npmitopics, npmiscore = [], []\n",
    "#Compute coherence score using C_umass:\n",
    "for i in range(3,15,1):\n",
    "    model = LdaMulticore(corpus=corpus, id2word=token_dict, iterations=50, num_topics=i, workers=4, passes=10, random_state=47)\n",
    "    #LdamultiCore uses multiple cores to speed up model training, use with caution if you have a weaker PC! (Find your max number of cores with ctrl+shift+esc, under CPU)\n",
    "    cm = CoherenceModel(model=model, corpus=corpus, dictionary=token_dict, coherence='u_mass')\n",
    "\n",
    "    umtopics.append(i)\n",
    "    umscore.append(cm.get_coherence())\n",
    "#Compute coherence score using C_v: \n",
    "for i in range (3,15,1):\n",
    "    model = LdaMulticore(corpus=corpus, id2word=token_dict, iterations=10, num_topics=i, workers = 4, passes=10, random_state=47)\n",
    "    cm = CoherenceModel(model=model, texts = data['tokens'], corpus=corpus, dictionary=token_dict, coherence='c_v')\n",
    "\n",
    "    cvtopics.append(i)\n",
    "    cvscore.append(cm.get_coherence())\n",
    "#The difference in coherence score measures is the method in which the text is segmented and probability is calculated\n",
    "\n",
    "#Compute coherence score using C_uci: \n",
    "for i in range (3,15,1):\n",
    "    model = LdaMulticore(corpus=corpus, id2word=token_dict, iterations=10, num_topics=i, workers = 4, passes=10, random_state=47)\n",
    "    cm = CoherenceModel(model=model, texts = data['tokens'], corpus=corpus, dictionary=token_dict, coherence='c_uci')\n",
    "\n",
    "    ucitopics.append(i)\n",
    "    uciscore.append(cm.get_coherence())\n",
    "    \n",
    "#Compute coherence score using C_npmi: \n",
    "for i in range (3,15,1):\n",
    "    model = LdaMulticore(corpus=corpus, id2word=token_dict, iterations=10, num_topics=i, workers = 4, passes=10, random_state=47)\n",
    "    cm = CoherenceModel(model=model, texts = data['tokens'], corpus=corpus, dictionary=token_dict, coherence='c_npmi')\n",
    "\n",
    "    npmitopics.append(i)\n",
    "    npmiscore.append(cm.get_coherence())"
   ]
  },
  {
   "cell_type": "code",
   "execution_count": null,
   "metadata": {},
   "outputs": [],
   "source": [
    "#Adjustable threshold for visualising with red vertical lines\n",
    "threshold=9\n",
    "fig, (ax1, ax2, ax3, ax4) = plt.subplots(1,4)\n",
    "fig.suptitle('Coherence score by topic count using C_umass and C_v measure')\n",
    "fig.subplots_adjust(wspace=0.4)\n",
    "\n",
    "ax1.plot(umtopics,umscore)\n",
    "ax1.set_xlabel('Number of Topics')\n",
    "ax1.set_ylabel('Coherence Score (C_umass)')\n",
    "ax1.axvline(x=threshold,c='red')\n",
    "\n",
    "ax2.plot(cvtopics,cvscore)\n",
    "ax2.set_xlabel('Number of Topics')\n",
    "ax2.set_ylabel('Coherence Score (C_v)')\n",
    "ax2.axvline(x=threshold,c='red')\n",
    "\n",
    "ax3.plot(ucitopics,uciscore)\n",
    "ax3.set_xlabel('Number of Topics')\n",
    "ax3.set_ylabel('Coherence Score (C_uci)')\n",
    "ax3.axvline(x=threshold,c='red')\n",
    "\n",
    "ax4.plot(npmitopics,npmiscore)\n",
    "ax4.set_xlabel('Number of Topics')\n",
    "ax4.set_ylabel('Coherence Score (C_npmi)')\n",
    "ax4.axvline(x=threshold,c='red')\n",
    "\n",
    "#For both scores, higher values are better. Choice of topic count is subjective, but both scores must be taken into account.\n",
    "plt.show()"
   ]
  },
  {
   "cell_type": "code",
   "execution_count": null,
   "metadata": {},
   "outputs": [],
   "source": [
    "um = pd.DataFrame({'number of topics': umtopics, 'score':umscore})\n",
    "um['method'] = 'umass'\n",
    "cv = pd.DataFrame({'number of topics': cvtopics, 'score':cvscore})\n",
    "cv['method'] = 'cv'\n",
    "uci = pd.DataFrame({'number of topics': ucitopics, 'score':uciscore})\n",
    "uci['method'] = 'uci'\n",
    "npmi = pd.DataFrame({'number of topics': npmitopics, 'score':npmiscore})\n",
    "npmi['method'] = 'npmi'\n",
    "coherence = pd.concat([um,cv,uci,npmi])"
   ]
  },
  {
   "cell_type": "code",
   "execution_count": null,
   "metadata": {},
   "outputs": [],
   "source": [
    "fig = px.line(coherence, x=\"number of topics\", y=\"score\", facet_row=\"method\", width=600, \n",
    "              title='Coherence score by topic count using 4 methods')\n",
    "fig.update_yaxes(matches=None)\n",
    "fig.show()"
   ]
  },
  {
   "cell_type": "code",
   "execution_count": null,
   "metadata": {},
   "outputs": [],
   "source": [
    "fig.write_image(\"./plots/coherence_scores_4_methods.png\", format='png', engine='kaleido')"
   ]
  },
  {
   "cell_type": "code",
   "execution_count": null,
   "metadata": {},
   "outputs": [],
   "source": [
    "coherence['rank']=coherence.groupby(by='method').rank(axis=0,ascending=False).score\n",
    "rank = coherence.groupby('number of topics').sum('rank')\n",
    "rank['number of topics'] = rank.index"
   ]
  },
  {
   "cell_type": "markdown",
   "metadata": {},
   "source": [
    "Eight topics returns the best rank"
   ]
  },
  {
   "cell_type": "code",
   "execution_count": null,
   "metadata": {},
   "outputs": [],
   "source": [
    "fig = px.bar(rank, x=\"number of topics\", y=\"rank\", width=600, \n",
    "             labels={'rank':'sum of ranks'},\n",
    "             title='Sum of coherence ranks for the four methods')\n",
    "fig.show()"
   ]
  },
  {
   "cell_type": "code",
   "execution_count": null,
   "metadata": {},
   "outputs": [],
   "source": [
    "fig.write_image(\"./plots/coherence_score_rank.png\", format='png', engine='kaleido')"
   ]
  },
  {
   "cell_type": "code",
   "execution_count": null,
   "metadata": {},
   "outputs": [],
   "source": []
  },
  {
   "cell_type": "code",
   "execution_count": null,
   "metadata": {},
   "outputs": [],
   "source": []
  },
  {
   "cell_type": "code",
   "execution_count": null,
   "metadata": {},
   "outputs": [],
   "source": [
    "finalmodel_8.show_topics(num_topics=8, num_words=20,formatted=True)[0] # economy"
   ]
  },
  {
   "cell_type": "code",
   "execution_count": null,
   "metadata": {},
   "outputs": [],
   "source": [
    "finalmodel_8.show_topics(num_topics=8, num_words=20,formatted=True)[7] # civil rights"
   ]
  },
  {
   "cell_type": "code",
   "execution_count": null,
   "metadata": {},
   "outputs": [],
   "source": []
  }
 ],
 "metadata": {
  "kernelspec": {
   "display_name": "Python 3 (ipykernel)",
   "language": "python",
   "name": "python3"
  },
  "language_info": {
   "codemirror_mode": {
    "name": "ipython",
    "version": 3
   },
   "file_extension": ".py",
   "mimetype": "text/x-python",
   "name": "python",
   "nbconvert_exporter": "python",
   "pygments_lexer": "ipython3",
   "version": "3.10.6"
  },
  "vscode": {
   "interpreter": {
    "hash": "107f2f6f19e96c840132efb8a7e6b8d8e9855354386e3f52164003e5deff7bc5"
   }
  }
 },
 "nbformat": 4,
 "nbformat_minor": 2
}
