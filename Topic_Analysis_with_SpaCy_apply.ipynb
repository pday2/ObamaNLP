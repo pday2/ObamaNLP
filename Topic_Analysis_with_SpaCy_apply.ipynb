{
 "cells": [
  {
   "cell_type": "markdown",
   "metadata": {},
   "source": [
    "# Topic Analysis with SpaCy & Gensim"
   ]
  },
  {
   "cell_type": "code",
   "execution_count": 1,
   "metadata": {},
   "outputs": [],
   "source": [
    "# CONSTANTS ... so far best: 9, 0.5, False\n",
    "NUM_TOPICS = 9   # number of topics\n",
    "NO_ABOVE = 0.5   # token filter words appearing in more than X% of documents\n",
    "REM_SW = True    # True - removes kaggle stop words, false does not"
   ]
  },
  {
   "cell_type": "code",
   "execution_count": 2,
   "metadata": {},
   "outputs": [
    {
     "name": "stderr",
     "output_type": "stream",
     "text": [
      "2023-04-23 09:46:20.186138: I tensorflow/core/platform/cpu_feature_guard.cc:193] This TensorFlow binary is optimized with oneAPI Deep Neural Network Library (oneDNN) to use the following CPU instructions in performance-critical operations:  AVX2 FMA\n",
      "To enable them in other operations, rebuild TensorFlow with the appropriate compiler flags.\n",
      "2023-04-23 09:46:20.341981: E tensorflow/stream_executor/cuda/cuda_blas.cc:2981] Unable to register cuBLAS factory: Attempting to register factory for plugin cuBLAS when one has already been registered\n",
      "2023-04-23 09:46:20.910268: W tensorflow/stream_executor/platform/default/dso_loader.cc:64] Could not load dynamic library 'libnvinfer.so.7'; dlerror: libnvinfer.so.7: cannot open shared object file: No such file or directory\n",
      "2023-04-23 09:46:20.910362: W tensorflow/stream_executor/platform/default/dso_loader.cc:64] Could not load dynamic library 'libnvinfer_plugin.so.7'; dlerror: libnvinfer_plugin.so.7: cannot open shared object file: No such file or directory\n",
      "2023-04-23 09:46:20.910370: W tensorflow/compiler/tf2tensorrt/utils/py_utils.cc:38] TF-TRT Warning: Cannot dlopen some TensorRT libraries. If you would like to use Nvidia GPU with TensorRT, please make sure the missing libraries mentioned above are installed properly.\n",
      "2023-04-23 09:46:21.529909: W tensorflow/stream_executor/platform/default/dso_loader.cc:64] Could not load dynamic library 'libcuda.so.1'; dlerror: libcuda.so.1: cannot open shared object file: No such file or directory\n",
      "2023-04-23 09:46:21.529929: W tensorflow/stream_executor/cuda/cuda_driver.cc:263] failed call to cuInit: UNKNOWN ERROR (303)\n",
      "2023-04-23 09:46:21.529945: I tensorflow/stream_executor/cuda/cuda_diagnostics.cc:156] kernel driver does not appear to be running on this host (muddy-HP-ProDesk-600-G3-SFF): /proc/driver/nvidia/version does not exist\n"
     ]
    }
   ],
   "source": [
    "import pandas as pd\n",
    "import numpy as np\n",
    "import matplotlib.pyplot as plt\n",
    "import plotly.express as px\n",
    "import spacy\n",
    "import en_core_web_sm\n",
    "from wordcloud import WordCloud\n",
    "from gensim.corpora.dictionary import Dictionary\n",
    "from gensim.models import LdaMulticore\n",
    "from gensim.models import CoherenceModel\n",
    "import dateutil.parser as dparser\n",
    "import pyLDAvis.gensim_models\n",
    "pyLDAvis.enable_notebook() #Notebook visualisation enabled\n",
    "import os\n",
    "import re\n",
    "import unicodedata\n",
    "import en_core_web_md\n",
    "from sklearn.feature_extraction.text import ENGLISH_STOP_WORDS"
   ]
  },
  {
   "cell_type": "markdown",
   "metadata": {},
   "source": [
    "Read data and exploration"
   ]
  },
  {
   "cell_type": "code",
   "execution_count": 3,
   "metadata": {},
   "outputs": [
    {
     "name": "stdout",
     "output_type": "stream",
     "text": [
      "Total documents: 743\n"
     ]
    }
   ],
   "source": [
    "# Load up the files\n",
    "#path = './DataUCSB/' # Smaller UCSB dataset\n",
    "#path = './Data/' # larger American Rhetoric dataset\n",
    "paths = ['./Data/', './NYT/', './WSJ/', './GWB/', './speeches/', './Top10/']\n",
    "\n",
    "speeches = []\n",
    "\n",
    "for path in paths:\n",
    "    list_of_files = []\n",
    "    for root, dirs, files in os.walk(path):\n",
    "        for file in files:\n",
    "            if file.endswith('.txt'):\n",
    "                list_of_files.append(os.path.join(root,file))\n",
    "   \n",
    "    for file in list_of_files:\n",
    "        with open(file, encoding='utf-8') as f:\n",
    "            text = f.read()\n",
    "        f.close()\n",
    "        speeches.append(text)\n",
    "\n",
    "#clean out goofy unicode  space characters \n",
    "speeches = [unicodedata.normalize(\"NFKD\", speech) for speech in speeches if len(speech)>0 ]\n",
    "#clean out xa0 space characters\n",
    "[speech.replace(u'\\xa0', '') for speech in speeches]; # ; supresses output\n",
    "# remove [stuff] in between square brackets\n",
    "def remove_bracket(text):\n",
    "    return re.sub(r'(\\[[^w]*\\]\\s)', '',text)\n",
    "speeches = [remove_bracket(speech) for speech in speeches]\n",
    "# Clean up whitespace\n",
    "speeches = [re.sub(r'[\\s+]', ' ', speech) for speech in speeches]\n",
    "print(\"Total documents:\",len(speeches))"
   ]
  },
  {
   "cell_type": "code",
   "execution_count": 4,
   "metadata": {},
   "outputs": [],
   "source": [
    "# Run this if you want to remove stop words \n",
    "def rem_stop_words(df):\n",
    "    kaggle_file = open(\"./word_lists/kaggle_stopwords.txt\", \"r\")\n",
    "    kaggle_data = kaggle_file.read()\n",
    "    kaggle_list = [word for word in kaggle_data.split('\\n')]\n",
    "    kaggle_file.close()\n",
    "    my_list = ['thats', 'just', 'im', 'did', 'thing', 'mr', 'al', 'thank', 'okay', 'thank','thanks', \n",
    "               'question', 'joshua', 'president', 'obama', 'â', u'\\x99s', u'\\x99t', u'\\x99ve', u'\\x99m',u'\\x99re', '\\x99']\n",
    "    stop_list = list(set(kaggle_list) | set(my_list))\n",
    "    stop_words = ENGLISH_STOP_WORDS.union(stop_list)\n",
    "\n",
    "    for i in range(len(df)):\n",
    "            df.iloc[i] = ' '.join([word for word in df.iloc[i].split() if word.lower() not in stop_words])\n",
    "    return(df)"
   ]
  },
  {
   "cell_type": "markdown",
   "metadata": {},
   "source": [
    "Step 3: Tokenization and text cleanup"
   ]
  },
  {
   "cell_type": "code",
   "execution_count": 5,
   "metadata": {},
   "outputs": [],
   "source": [
    "oba_scripts=pd.DataFrame(speeches)\n",
    "oba_scripts = oba_scripts[0]\n",
    "if REM_SW:\n",
    "    oba_scripts=rem_stop_words(oba_scripts)"
   ]
  },
  {
   "cell_type": "code",
   "execution_count": 6,
   "metadata": {},
   "outputs": [
    {
     "data": {
      "text/plain": [
       "0      [governor, family, responder, community, newto...\n",
       "1      [selamat, pagi, wonderful, university, indones...\n",
       "2      [let, collins, introduction, incredible, leade...\n",
       "3      [hello, right, seat, want, becky, patton, extr...\n",
       "4      [morning, great, honor, today, course, truly, ...\n",
       "                             ...                        \n",
       "738    [hello, chicago, doubt, america, place, possib...\n",
       "739    [chairman, dean, great, friend, dick, durbin, ...\n",
       "740    [hello, america, hello, democrats, year, ago, ...\n",
       "741    [majesty, royal, highnesses, distinguished, me...\n",
       "742    [rare, honor, life, follow, hero, john, lewis,...\n",
       "Name: tokens, Length: 743, dtype: object"
      ]
     },
     "execution_count": 6,
     "metadata": {},
     "output_type": "execute_result"
    }
   ],
   "source": [
    "#Load SpaCy English Model\n",
    "nlp = en_core_web_md.load()\n",
    "#Tags to remove\n",
    "extags = ['PRON','CCONJ','PUNCT','PART','DET','ADP','NUM','SYM','SPACE']\n",
    "docs = oba_scripts.apply(nlp)\n",
    "tokens=[]\n",
    "#SpaCy tokenization + lemmatization + lowercase\n",
    "for speech in docs:\n",
    "    scr_tok = [token.lemma_.lower() for token in speech if token.pos_ not in extags and not token.is_stop and token.is_alpha]\n",
    "    tokens.append(scr_tok)\n",
    "data = pd.DataFrame()\n",
    "data['tokens'] = tokens\n",
    "data['tokens']\n"
   ]
  },
  {
   "cell_type": "markdown",
   "metadata": {},
   "source": [
    "## LDA Topic Analysis model and coherence scores"
   ]
  },
  {
   "cell_type": "code",
   "execution_count": 7,
   "metadata": {},
   "outputs": [],
   "source": [
    "token_dict = Dictionary(data['tokens'])\n",
    "#Filter out tokens that appear in less than 5 speeches, and tokens that appear in more than 70% of speeches since they are too general. Keep the top 1000 most frequent tokens\n",
    "token_dict.filter_extremes(no_below=5,no_above=NO_ABOVE,keep_n=1000)\n",
    "\n",
    "#Convert token counts into bag of words (BoW) corpus\n",
    "corpus = [token_dict.doc2bow(speech) for speech in data['tokens']]"
   ]
  },
  {
   "cell_type": "code",
   "execution_count": 8,
   "metadata": {},
   "outputs": [
    {
     "data": {
      "text/plain": [
       "\"\\n#Construct and train unsupervised LDA model + Determine optimal number of topics\\numtopics, umscore = [], []\\ncvtopics, cvscore = [], []\\n#Compute coherence score using C_umass:\\nfor i in range(3,15,1):\\n    model = LdaMulticore(corpus=corpus, id2word=token_dict, iterations=50, num_topics=i, workers=4, passes=10, random_state=47)\\n    #LdamultiCore uses multiple cores to speed up model training, use with caution if you have a weaker PC! (Find your max number of cores with ctrl+shift+esc, under CPU)\\n    cm = CoherenceModel(model=model, corpus=corpus, dictionary=token_dict, coherence='u_mass')\\n\\n    umtopics.append(i)\\n    umscore.append(cm.get_coherence())\\n#Compute coherence score using C_v: \\nfor i in range (3,15,1):\\n    model = LdaMulticore(corpus=corpus, id2word=token_dict, iterations=10, num_topics=i, workers = 4, passes=10, random_state=47)\\n    cm = CoherenceModel(model=model, texts = data['tokens'], corpus=corpus, dictionary=token_dict, coherence='c_v')\\n\\n    cvtopics.append(i)\\n    cvscore.append(cm.get_coherence())\\n#The difference in coherence score measures is the method in which the text is segmented and probability is calculated\\n#Adjustable threshold for visualising with red vertical lines\\nthreshold=9\\nfig, (ax1, ax2) = plt.subplots(1,2)\\nfig.suptitle('Coherence score by topic count using C_umass and C_v measure')\\nfig.subplots_adjust(wspace=0.4)\\n\\nax1.plot(umtopics,umscore)\\nax1.set_xlabel('Number of Topics')\\nax1.set_ylabel('Coherence Score (C_umass)')\\nax1.axvline(x=threshold,c='red')\\n\\nax2.plot(cvtopics,cvscore)\\nax2.set_xlabel('Number of Topics')\\nax2.set_ylabel('Coherence Score (C_v)')\\nax2.axvline(x=threshold,c='red')\\n#For both scores, higher values are better. Choice of topic count is subjective, but both scores must be taken into account.\\nplt.show()\\n\""
      ]
     },
     "execution_count": 8,
     "metadata": {},
     "output_type": "execute_result"
    }
   ],
   "source": [
    "# Don't need to run this everytime, commented out to save time\n",
    "'''\n",
    "#Construct and train unsupervised LDA model + Determine optimal number of topics\n",
    "umtopics, umscore = [], []\n",
    "cvtopics, cvscore = [], []\n",
    "#Compute coherence score using C_umass:\n",
    "for i in range(3,15,1):\n",
    "    model = LdaMulticore(corpus=corpus, id2word=token_dict, iterations=50, num_topics=i, workers=4, passes=10, random_state=47)\n",
    "    #LdamultiCore uses multiple cores to speed up model training, use with caution if you have a weaker PC! (Find your max number of cores with ctrl+shift+esc, under CPU)\n",
    "    cm = CoherenceModel(model=model, corpus=corpus, dictionary=token_dict, coherence='u_mass')\n",
    "\n",
    "    umtopics.append(i)\n",
    "    umscore.append(cm.get_coherence())\n",
    "#Compute coherence score using C_v: \n",
    "for i in range (3,15,1):\n",
    "    model = LdaMulticore(corpus=corpus, id2word=token_dict, iterations=10, num_topics=i, workers = 4, passes=10, random_state=47)\n",
    "    cm = CoherenceModel(model=model, texts = data['tokens'], corpus=corpus, dictionary=token_dict, coherence='c_v')\n",
    "\n",
    "    cvtopics.append(i)\n",
    "    cvscore.append(cm.get_coherence())\n",
    "#The difference in coherence score measures is the method in which the text is segmented and probability is calculated\n",
    "#Adjustable threshold for visualising with red vertical lines\n",
    "threshold=9\n",
    "fig, (ax1, ax2) = plt.subplots(1,2)\n",
    "fig.suptitle('Coherence score by topic count using C_umass and C_v measure')\n",
    "fig.subplots_adjust(wspace=0.4)\n",
    "\n",
    "ax1.plot(umtopics,umscore)\n",
    "ax1.set_xlabel('Number of Topics')\n",
    "ax1.set_ylabel('Coherence Score (C_umass)')\n",
    "ax1.axvline(x=threshold,c='red')\n",
    "\n",
    "ax2.plot(cvtopics,cvscore)\n",
    "ax2.set_xlabel('Number of Topics')\n",
    "ax2.set_ylabel('Coherence Score (C_v)')\n",
    "ax2.axvline(x=threshold,c='red')\n",
    "#For both scores, higher values are better. Choice of topic count is subjective, but both scores must be taken into account.\n",
    "plt.show()\n",
    "'''"
   ]
  },
  {
   "cell_type": "code",
   "execution_count": 9,
   "metadata": {},
   "outputs": [
    {
     "data": {
      "text/plain": [
       "'\\num = pd.DataFrame({\\'number of topics\\': umtopics, \\'score\\':umscore})\\num[\\'method\\'] = \\'umass\\'\\ncv = pd.DataFrame({\\'number of topics\\': cvtopics, \\'score\\':cvscore})\\ncv[\\'method\\'] = \\'cv\\'\\ncoherence = pd.concat([um,cv])\\n\\nfig = px.line(coherence, x=\"number of topics\", y=\"score\", facet_row=\"method\", width=600, \\n              title=\\'Coherence score by topic count using C_umass and C_v measure\\')\\nfig.update_yaxes(matches=None)\\nfig.show()\\n'"
      ]
     },
     "execution_count": 9,
     "metadata": {},
     "output_type": "execute_result"
    }
   ],
   "source": [
    "'''\n",
    "um = pd.DataFrame({'number of topics': umtopics, 'score':umscore})\n",
    "um['method'] = 'umass'\n",
    "cv = pd.DataFrame({'number of topics': cvtopics, 'score':cvscore})\n",
    "cv['method'] = 'cv'\n",
    "coherence = pd.concat([um,cv])\n",
    "\n",
    "fig = px.line(coherence, x=\"number of topics\", y=\"score\", facet_row=\"method\", width=600, \n",
    "              title='Coherence score by topic count using C_umass and C_v measure')\n",
    "fig.update_yaxes(matches=None)\n",
    "fig.show()\n",
    "'''"
   ]
  },
  {
   "cell_type": "code",
   "execution_count": 10,
   "metadata": {},
   "outputs": [],
   "source": [
    "#fig.write_image(\"./plots/coherence_score_by_topic_num.png\", format='png', engine='kaleido')"
   ]
  },
  {
   "cell_type": "markdown",
   "metadata": {},
   "source": [
    "Based on the coherence scores, best is usually the max. In this case we choose to select 6 topics, since it is the max value for the C_v score while also having a relatively higher C_umass score."
   ]
  },
  {
   "cell_type": "code",
   "execution_count": 11,
   "metadata": {},
   "outputs": [
    {
     "data": {
      "text/plain": [
       "[(0,\n",
       "  '0.017*\"energy\" + 0.014*\"business\" + 0.013*\"company\" + 0.013*\"financial\" + 0.011*\"economic\" + 0.011*\"oil\" + 0.011*\"plan\" + 0.010*\"crisis\" + 0.009*\"clean\" + 0.008*\"industry\"'),\n",
       " (1,\n",
       "  '0.015*\"peace\" + 0.013*\"freedom\" + 0.013*\"democracy\" + 0.012*\"human\" + 0.010*\"free\" + 0.009*\"citizen\" + 0.007*\"progress\" + 0.007*\"africa\" + 0.007*\"europe\" + 0.007*\"dignity\"'),\n",
       " (2,\n",
       "  '0.018*\"student\" + 0.016*\"school\" + 0.013*\"education\" + 0.012*\"business\" + 0.012*\"trade\" + 0.009*\"partner\" + 0.008*\"region\" + 0.008*\"progress\" + 0.008*\"worker\" + 0.008*\"space\"'),\n",
       " (3,\n",
       "  '0.017*\"veteran\" + 0.017*\"intelligence\" + 0.016*\"serve\" + 0.013*\"national\" + 0.012*\"military\" + 0.011*\"protect\" + 0.010*\"service\" + 0.009*\"terrorist\" + 0.008*\"attack\" + 0.008*\"review\"'),\n",
       " (4,\n",
       "  '0.019*\"tax\" + 0.016*\"pay\" + 0.015*\"cut\" + 0.015*\"business\" + 0.011*\"worker\" + 0.011*\"deficit\" + 0.010*\"care\" + 0.010*\"college\" + 0.009*\"middle\" + 0.009*\"health\"'),\n",
       " (5,\n",
       "  '0.036*\"iraq\" + 0.022*\"terrorist\" + 0.019*\"military\" + 0.014*\"attack\" + 0.014*\"afghanistan\" + 0.013*\"troop\" + 0.012*\"iraqi\" + 0.009*\"ally\" + 0.009*\"kill\" + 0.008*\"threat\"'),\n",
       " (6,\n",
       "  '0.047*\"nuclear\" + 0.043*\"iran\" + 0.025*\"israel\" + 0.023*\"weapon\" + 0.019*\"deal\" + 0.018*\"international\" + 0.013*\"sanction\" + 0.012*\"program\" + 0.009*\"agreement\" + 0.008*\"official\"'),\n",
       " (7,\n",
       "  '0.014*\"love\" + 0.012*\"god\" + 0.007*\"faith\" + 0.007*\"white\" + 0.007*\"story\" + 0.007*\"black\" + 0.006*\"generation\" + 0.006*\"feel\" + 0.006*\"talk\" + 0.006*\"understand\"'),\n",
       " (8,\n",
       "  '0.030*\"health\" + 0.029*\"care\" + 0.022*\"insurance\" + 0.014*\"gun\" + 0.014*\"reform\" + 0.012*\"vote\" + 0.011*\"republicans\" + 0.010*\"pass\" + 0.010*\"immigration\" + 0.009*\"senate\"')]"
      ]
     },
     "execution_count": 11,
     "metadata": {},
     "output_type": "execute_result"
    }
   ],
   "source": [
    "#Construct final model with NUM_TOPICS topics (Increase iterations and passes because it is the final model)\n",
    "finalmodel = LdaMulticore(corpus=corpus, \n",
    "                          id2word=token_dict, \n",
    "                          iterations=100, \n",
    "                          num_topics=NUM_TOPICS, \n",
    "                          workers = 4, \n",
    "                          passes=100, \n",
    "                          random_state=47)\n",
    "\n",
    "finalmodel.print_topics()"
   ]
  },
  {
   "cell_type": "code",
   "execution_count": 12,
   "metadata": {},
   "outputs": [
    {
     "data": {
      "text/plain": [
       "[(0,\n",
       "  '0.017*\"energy\" + 0.017*\"business\" + 0.015*\"company\" + 0.011*\"oil\" + 0.011*\"economic\" + 0.010*\"financial\" + 0.009*\"crisis\" + 0.009*\"clean\" + 0.009*\"industry\" + 0.008*\"plan\"'),\n",
       " (1,\n",
       "  '0.016*\"peace\" + 0.015*\"freedom\" + 0.012*\"democracy\" + 0.011*\"free\" + 0.010*\"human\" + 0.010*\"citizen\" + 0.009*\"europe\" + 0.008*\"generation\" + 0.007*\"century\" + 0.007*\"common\"'),\n",
       " (2,\n",
       "  '0.014*\"progress\" + 0.012*\"africa\" + 0.012*\"partner\" + 0.012*\"region\" + 0.010*\"human\" + 0.010*\"global\" + 0.010*\"partnership\" + 0.009*\"asia\" + 0.008*\"democracy\" + 0.008*\"trade\"'),\n",
       " (3,\n",
       "  '0.017*\"gun\" + 0.016*\"intelligence\" + 0.012*\"protect\" + 0.012*\"national\" + 0.010*\"court\" + 0.009*\"enforcement\" + 0.009*\"attack\" + 0.008*\"public\" + 0.008*\"terrorist\" + 0.008*\"review\"'),\n",
       " (4,\n",
       "  '0.022*\"health\" + 0.021*\"care\" + 0.015*\"tax\" + 0.015*\"pay\" + 0.013*\"insurance\" + 0.013*\"business\" + 0.011*\"reform\" + 0.010*\"cut\" + 0.010*\"college\" + 0.009*\"education\"'),\n",
       " (5,\n",
       "  '0.031*\"iraq\" + 0.023*\"military\" + 0.020*\"terrorist\" + 0.017*\"afghanistan\" + 0.016*\"troop\" + 0.012*\"attack\" + 0.010*\"iraqi\" + 0.010*\"serve\" + 0.010*\"qaeda\" + 0.009*\"ally\"'),\n",
       " (6,\n",
       "  '0.042*\"nuclear\" + 0.039*\"iran\" + 0.023*\"israel\" + 0.022*\"weapon\" + 0.017*\"international\" + 0.017*\"deal\" + 0.012*\"sanction\" + 0.011*\"program\" + 0.010*\"official\" + 0.010*\"obama\"'),\n",
       " (7,\n",
       "  '0.014*\"love\" + 0.011*\"god\" + 0.008*\"school\" + 0.007*\"white\" + 0.007*\"story\" + 0.007*\"talk\" + 0.006*\"black\" + 0.006*\"faith\" + 0.006*\"feel\" + 0.006*\"old\"')]"
      ]
     },
     "execution_count": 12,
     "metadata": {},
     "output_type": "execute_result"
    }
   ],
   "source": [
    "#Construct final model with NUM_TOPICS topics (Increase iterations and passes because it is the final model)\n",
    "finalmodel_8 = LdaMulticore(corpus=corpus, \n",
    "                          id2word=token_dict, \n",
    "                          iterations=100, \n",
    "                          num_topics=8, \n",
    "                          workers = 4, \n",
    "                          passes=100, \n",
    "                          random_state=47)\n",
    "\n",
    "finalmodel_8.print_topics()"
   ]
  },
  {
   "cell_type": "code",
   "execution_count": 13,
   "metadata": {},
   "outputs": [],
   "source": [
    "save_model=pd.DataFrame(finalmodel_8.print_topics(),columns=['del', 'topic'])\n",
    "save_model.drop('del', axis=1, inplace=True)\n",
    "#save_model.to_csv('./topics/topics_8.csv', index=False)"
   ]
  },
  {
   "cell_type": "code",
   "execution_count": 98,
   "metadata": {},
   "outputs": [
    {
     "data": {
      "text/plain": [
       "array([[1.6803069e-04, 1.0344026e-03, 6.7966123e-04, ..., 1.3574165e-03,\n",
       "        3.0576173e-06, 3.0366889e-06],\n",
       "       [1.9847713e-03, 2.2142129e-03, 1.9781282e-03, ..., 3.0999583e-06,\n",
       "        3.0964293e-06, 3.1522763e-06],\n",
       "       [1.6506587e-04, 1.8497617e-03, 4.8769801e-04, ..., 3.9094880e-06,\n",
       "        3.9091879e-06, 3.9112902e-06],\n",
       "       ...,\n",
       "       [6.6629116e-05, 1.7983710e-03, 3.5289663e-04, ..., 3.2913008e-06,\n",
       "        3.2757832e-06, 2.1257640e-03],\n",
       "       [1.6691025e-03, 3.4554324e-03, 3.2742240e-04, ..., 3.5770371e-04,\n",
       "        3.7932412e-03, 5.9927074e-06],\n",
       "       [6.8738806e-04, 9.3784014e-04, 1.7872067e-03, ..., 2.4537744e-06,\n",
       "        5.4836669e-04, 2.0755665e-06]], dtype=float32)"
      ]
     },
     "execution_count": 98,
     "metadata": {},
     "output_type": "execute_result"
    }
   ],
   "source": [
    "finalmodel_8.get_topics() # shape: num_topics x vocabulary_size"
   ]
  },
  {
   "cell_type": "code",
   "execution_count": 104,
   "metadata": {},
   "outputs": [
    {
     "data": {
      "text/plain": [
       "['0.017*\"energy\" + 0.017*\"business\" + 0.015*\"company\" + 0.011*\"oil\" + 0.011*\"economic\" + 0.010*\"financial\" + 0.009*\"crisis\" + 0.009*\"clean\"',\n",
       " '0.016*\"peace\" + 0.015*\"freedom\" + 0.012*\"democracy\" + 0.011*\"free\" + 0.010*\"human\" + 0.010*\"citizen\" + 0.009*\"europe\" + 0.008*\"generation\"',\n",
       " '0.014*\"progress\" + 0.012*\"africa\" + 0.012*\"partner\" + 0.012*\"region\" + 0.010*\"human\" + 0.010*\"global\" + 0.010*\"partnership\" + 0.009*\"asia\"',\n",
       " '0.017*\"gun\" + 0.016*\"intelligence\" + 0.012*\"protect\" + 0.012*\"national\" + 0.010*\"court\" + 0.009*\"enforcement\" + 0.009*\"attack\" + 0.008*\"public\"',\n",
       " '0.022*\"health\" + 0.021*\"care\" + 0.015*\"tax\" + 0.015*\"pay\" + 0.013*\"insurance\" + 0.013*\"business\" + 0.011*\"reform\" + 0.010*\"cut\"',\n",
       " '0.031*\"iraq\" + 0.023*\"military\" + 0.020*\"terrorist\" + 0.017*\"afghanistan\" + 0.016*\"troop\" + 0.012*\"attack\" + 0.010*\"iraqi\" + 0.010*\"serve\"',\n",
       " '0.042*\"nuclear\" + 0.039*\"iran\" + 0.023*\"israel\" + 0.022*\"weapon\" + 0.017*\"international\" + 0.017*\"deal\" + 0.012*\"sanction\" + 0.011*\"program\"',\n",
       " '0.014*\"love\" + 0.011*\"god\" + 0.008*\"school\" + 0.007*\"white\" + 0.007*\"story\" + 0.007*\"talk\" + 0.006*\"black\" + 0.006*\"faith\"']"
      ]
     },
     "execution_count": 104,
     "metadata": {},
     "output_type": "execute_result"
    }
   ],
   "source": [
    "[topic for num, topic in finalmodel_8.show_topics(num_topics=8, num_words=8,formatted=True)]"
   ]
  },
  {
   "cell_type": "code",
   "execution_count": 101,
   "metadata": {},
   "outputs": [
    {
     "name": "stdout",
     "output_type": "stream",
     "text": [
      "0::['energy', 'business', 'company', 'oil', 'economic', 'financial', 'crisis', 'clean']\n",
      "1::['peace', 'freedom', 'democracy', 'free', 'human', 'citizen', 'europe', 'generation']\n",
      "2::['progress', 'africa', 'partner', 'region', 'human', 'global', 'partnership', 'asia']\n",
      "3::['gun', 'intelligence', 'protect', 'national', 'court', 'enforcement', 'attack', 'public']\n",
      "4::['health', 'care', 'tax', 'pay', 'insurance', 'business', 'reform', 'cut']\n",
      "5::['iraq', 'military', 'terrorist', 'afghanistan', 'troop', 'attack', 'iraqi', 'serve']\n",
      "6::['nuclear', 'iran', 'israel', 'weapon', 'international', 'deal', 'sanction', 'program']\n",
      "7::['love', 'god', 'school', 'white', 'story', 'talk', 'black', 'faith']\n",
      "\n"
     ]
    }
   ],
   "source": [
    "x=finalmodel_8.show_topics(num_topics=8, num_words=8,formatted=False)\n",
    "topics_words = [(tp[0], [wd[0] for wd in tp[1]]) for tp in x]\n",
    "#Below Code Prints Topics and Words\n",
    "for topic,words in topics_words:\n",
    "    print(str(topic)+ \"::\"+ str(words))\n",
    "print()"
   ]
  },
  {
   "cell_type": "code",
   "execution_count": 15,
   "metadata": {},
   "outputs": [
    {
     "data": {
      "text/plain": [
       "[(1, 0.06848784), (7, 0.92815804)]"
      ]
     },
     "execution_count": 15,
     "metadata": {},
     "output_type": "execute_result"
    }
   ],
   "source": [
    "#Checking for first speech - DNC keynote speech 2004\n",
    "finalmodel_8[corpus][0]\n",
    "#Main topic is Topic 3, which seems to be some sort of mixed bag. The speech itself covers his personal life and the democratic party."
   ]
  },
  {
   "cell_type": "markdown",
   "metadata": {},
   "source": [
    "What follows is an advanced visualisation of the topics. Each circle represents a topic and upon hovering over a circle, the bars on the right illustrate the frequency of words that appear in the topic. Closer circles are more related, which is logical since political arguments correlate highly with voting campaigns. Visualisation of circles is done through PCA dimension reduction."
   ]
  },
  {
   "cell_type": "markdown",
   "metadata": {},
   "source": [
    "### The topic numbers and order in the plot below do NOT correspond to the topic numbers in print_topics"
   ]
  },
  {
   "cell_type": "code",
   "execution_count": 16,
   "metadata": {},
   "outputs": [
    {
     "name": "stderr",
     "output_type": "stream",
     "text": [
      "/home/muddy/.local/lib/python3.10/site-packages/pyLDAvis/_prepare.py:244: FutureWarning: In a future version of pandas all arguments of DataFrame.drop except for the argument 'labels' will be keyword-only.\n",
      "  by='saliency', ascending=False).head(R).drop('saliency', 1)\n"
     ]
    },
    {
     "data": {
      "text/html": [
       "\n",
       "<link rel=\"stylesheet\" type=\"text/css\" href=\"https://cdn.jsdelivr.net/gh/bmabey/pyLDAvis@3.4.0/pyLDAvis/js/ldavis.v1.0.0.css\">\n",
       "\n",
       "\n",
       "<div id=\"ldavis_el160941406285906663367411013902\" style=\"background-color:white;\"></div>\n",
       "<script type=\"text/javascript\">\n",
       "\n",
       "var ldavis_el160941406285906663367411013902_data = {\"mdsDat\": {\"x\": [0.0881415746607517, 0.1899606933274145, 0.09759856004420997, -0.010703652148450357, -0.15216976368707752, 0.000572544847349392, -0.07883093329927861, -0.13456902374491916], \"y\": [0.10009103994201145, -0.07823236658699417, -0.09406992470063803, 0.16191845737534694, 0.025216743428326763, 0.07373812319746456, -0.08324581315747016, -0.10541625949804713], \"topics\": [1, 2, 3, 4, 5, 6, 7, 8], \"cluster\": [1, 1, 1, 1, 1, 1, 1, 1], \"Freq\": [19.38666950843199, 17.235683742799047, 13.316776868520636, 13.30290309617789, 12.335621338379534, 10.18632906902986, 7.477826307382952, 6.7581900692781]}, \"tinfo\": {\"Term\": [\"nuclear\", \"iraq\", \"iran\", \"health\", \"military\", \"business\", \"terrorist\", \"israel\", \"weapon\", \"insurance\", \"tax\", \"care\", \"afghanistan\", \"troop\", \"company\", \"energy\", \"gun\", \"international\", \"intelligence\", \"peace\", \"democracy\", \"freedom\", \"attack\", \"deal\", \"love\", \"iraqi\", \"africa\", \"human\", \"program\", \"region\", \"black\", \"brother\", \"prayer\", \"sister\", \"church\", \"love\", \"michelle\", \"father\", \"wife\", \"boy\", \"guy\", \"pray\", \"neighborhood\", \"tragedy\", \"clinton\", \"mayor\", \"hero\", \"daughter\", \"king\", \"mom\", \"teach\", \"african\", \"mother\", \"chicago\", \"story\", \"bit\", \"miss\", \"legacy\", \"shake\", \"wear\", \"god\", \"memory\", \"walk\", \"son\", \"night\", \"heart\", \"little\", \"feel\", \"white\", \"parent\", \"bless\", \"old\", \"faith\", \"kid\", \"talk\", \"school\", \"hear\", \"friend\", \"race\", \"city\", \"moment\", \"lose\", \"understand\", \"generation\", \"honor\", \"john\", \"service\", \"tonight\", \"like\", \"serve\", \"care\", \"learn\", \"insurance\", \"medicare\", \"taxis\", \"deficit\", \"affordable\", \"republicans\", \"tax\", \"democrats\", \"wealthy\", \"health\", \"bill\", \"college\", \"afford\", \"spending\", \"debt\", \"code\", \"rate\", \"hire\", \"care\", \"bipartisan\", \"income\", \"pay\", \"proposal\", \"saving\", \"teacher\", \"quality\", \"republican\", \"cover\", \"sick\", \"competition\", \"class\", \"education\", \"cut\", \"cost\", \"money\", \"pass\", \"reform\", \"party\", \"business\", \"student\", \"school\", \"plan\", \"worker\", \"middle\", \"spend\", \"idea\", \"company\", \"vote\", \"washington\", \"recovery\", \"consumer\", \"oil\", \"bank\", \"financial\", \"industry\", \"sector\", \"efficient\", \"clean\", \"taxpayer\", \"space\", \"energy\", \"scientist\", \"creation\", \"product\", \"gas\", \"research\", \"recession\", \"wind\", \"sell\", \"infrastructure\", \"natural\", \"market\", \"crisis\", \"company\", \"investment\", \"disaster\", \"produce\", \"speed\", \"loan\", \"car\", \"business\", \"invest\", \"economic\", \"technology\", \"fast\", \"growth\", \"worker\", \"plan\", \"climate\", \"street\", \"trade\", \"rule\", \"term\", \"administration\", \"big\", \"cut\", \"program\", \"percent\", \"immigrant\", \"europe\", \"ideal\", \"moral\", \"revolution\", \"peace\", \"reject\", \"freedom\", \"found\", \"border\", \"humanity\", \"belong\", \"globe\", \"embrace\", \"belief\", \"democracy\", \"self\", \"blood\", \"feed\", \"liberty\", \"russia\", \"independence\", \"witness\", \"ignore\", \"cold\", \"living\", \"dignity\", \"truth\", \"define\", \"equal\", \"fear\", \"choose\", \"free\", \"human\", \"path\", \"citizen\", \"common\", \"conflict\", \"century\", \"seek\", \"value\", \"faith\", \"justice\", \"generation\", \"society\", \"true\", \"word\", \"rule\", \"understand\", \"progress\", \"iraqi\", \"iraq\", \"troop\", \"afghanistan\", \"civilian\", \"operation\", \"qaeda\", \"commander\", \"personnel\", \"coalition\", \"haven\", \"military\", \"uniform\", \"armed\", \"terror\", \"syria\", \"terrorist\", \"enemy\", \"extremist\", \"army\", \"defeat\", \"plot\", \"destruction\", \"strike\", \"mission\", \"combat\", \"attack\", \"deploy\", \"strategy\", \"murder\", \"ally\", \"soldier\", \"kill\", \"regime\", \"serve\", \"veteran\", \"threat\", \"ground\", \"protect\", \"service\", \"partner\", \"leadership\", \"safe\", \"pacific\", \"asia\", \"africa\", \"partnership\", \"empower\", \"summit\", \"relationship\", \"development\", \"promote\", \"disease\", \"mutual\", \"region\", \"korea\", \"commerce\", \"partner\", \"trade\", \"host\", \"visit\", \"initiative\", \"cooperation\", \"china\", \"talent\", \"prosperous\", \"tie\", \"connect\", \"friendship\", \"global\", \"entrepreneur\", \"universal\", \"progress\", \"society\", \"human\", \"prosperity\", \"forge\", \"democracy\", \"growth\", \"commitment\", \"welcome\", \"advance\", \"economic\", \"climate\", \"dignity\", \"civil\", \"strengthen\", \"freedom\", \"business\", \"open\", \"free\", \"student\", \"citizen\", \"peace\", \"legal\", \"gun\", \"court\", \"enforcement\", \"intelligence\", \"review\", \"department\", \"background\", \"criminal\", \"release\", \"check\", \"agency\", \"authority\", \"executive\", \"director\", \"crime\", \"case\", \"report\", \"secret\", \"officer\", \"homeland\", \"victim\", \"capability\", \"constitution\", \"mass\", \"shoot\", \"board\", \"advocate\", \"involve\", \"subject\", \"national\", \"police\", \"public\", \"general\", \"federal\", \"protect\", \"official\", \"attack\", \"administration\", \"process\", \"justice\", \"prevent\", \"terrorist\", \"order\", \"threat\", \"safe\", \"debate\", \"violence\", \"action\", \"program\", \"israel\", \"iran\", \"sanction\", \"negotiation\", \"nuclear\", \"obama\", \"accord\", \"barack\", \"material\", \"resolution\", \"weapon\", \"diplomatic\", \"speech\", \"deal\", \"international\", \"european\", \"official\", \"council\", \"russia\", \"minister\", \"non\", \"opposition\", \"prime\", \"bomb\", \"statement\", \"discussion\", \"relation\", \"prospect\", \"impose\", \"agreement\", \"regime\", \"program\", \"nations\", \"arm\", \"policy\", \"administration\", \"address\", \"agree\", \"ally\", \"develop\", \"threat\", \"action\", \"talk\", \"white\", \"commitment\", \"seek\", \"prevent\"], \"Freq\": [1033.0, 1241.0, 832.0, 1482.0, 1088.0, 1628.0, 1014.0, 477.0, 772.0, 709.0, 919.0, 1591.0, 713.0, 655.0, 1036.0, 1021.0, 455.0, 754.0, 499.0, 1073.0, 925.0, 1044.0, 774.0, 726.0, 985.0, 391.0, 456.0, 915.0, 844.0, 649.0, 382.83175208328885, 196.3775482495459, 158.60303078350063, 139.84036367834113, 215.94079617999927, 813.3923484511039, 235.87495489878776, 335.0495840593808, 140.36621435447253, 115.4565159106145, 120.2733527030281, 109.91035224418508, 122.64745770499594, 180.3006498839543, 145.31158003464873, 137.72779029412058, 77.33467637262298, 197.71990997421042, 198.04645864481097, 94.34393878821453, 208.10581622648633, 208.4805039968843, 191.73880103941713, 106.51373039342171, 421.1693186207635, 85.3958850082182, 75.3406667758885, 116.35947246189627, 72.66617323369643, 77.13248936603306, 651.9535428101661, 100.94507904965494, 199.17081463727177, 178.2704871821606, 208.25102794646017, 322.1551345432244, 354.60637906475995, 369.9355186051249, 421.4264878939142, 270.13987554506036, 336.6546202524537, 367.8856347608259, 382.1646339156847, 288.1227143204669, 409.79215666643375, 472.89303920272516, 337.53740270212666, 344.44381649350726, 249.3909200537303, 310.3627275572313, 307.503370952007, 347.3254447494196, 335.8116982038869, 361.86175254946096, 259.4865283008872, 233.36642557211047, 277.1146373808552, 265.66031906969897, 255.3963215336733, 277.866577367037, 302.03881657882135, 250.49942944617095, 708.4722644083577, 225.70941099353686, 207.3477144503421, 449.48252934490125, 276.19496921589143, 470.01956272135556, 789.6417689378087, 340.42549408067845, 131.93837943380882, 1184.8733108077604, 269.96631422605, 537.0325758481429, 291.5945102375607, 234.75071356328777, 241.3479714246022, 100.56607209666615, 264.64204226643153, 151.53834272965202, 1135.9715008918533, 140.99880107814232, 175.65728454623027, 777.0163399665921, 155.77340980780062, 94.0230675523056, 212.01621330353865, 129.86148786792367, 251.66275552986852, 120.63168336581701, 105.93870552621061, 79.06532212638633, 411.0073680872945, 492.0822065572439, 551.9032755845335, 396.4327847762925, 359.255192857823, 479.61205966163914, 588.3404897036129, 396.11362137830264, 682.6428035451801, 393.31956006661994, 479.3091778346159, 474.408301065203, 401.6510158802546, 354.23826342960217, 307.56219630638543, 325.61786374780394, 361.9163251791479, 314.0288546562932, 299.45399874669056, 242.66929858080644, 196.3448459300548, 447.0908619216042, 267.19749356814197, 422.196154380096, 353.1466979603646, 174.0580220692477, 89.2878634045939, 353.90013380858807, 121.04531843646407, 172.01055297156196, 714.1491948354924, 98.1092377477685, 62.63787531439242, 116.12656946376752, 162.70762111121465, 188.09132479320013, 139.30859382388448, 106.01803565688705, 130.79442409231908, 119.66480760101706, 76.39846202448945, 321.59965927548427, 368.45345087058126, 608.1648771081789, 308.65398475794836, 90.89822482809682, 100.85783299260162, 72.79659828816376, 131.71204577023806, 141.5170416228139, 713.3701402537256, 259.5814155382519, 436.43683864590633, 255.675094789916, 177.1302022145885, 213.93065133272884, 320.4106666629561, 328.9326675320545, 191.47142756398262, 184.96867306219434, 189.027729712977, 208.65066481414897, 190.82757020011445, 194.6187406767549, 203.18996857420865, 203.981909110889, 201.47280498650267, 183.30695928939193, 251.9681068964518, 350.7456856835641, 254.336977573839, 143.56217215181124, 82.81843416281772, 661.4152262224798, 150.06051410632236, 618.6840882964058, 128.30029594396584, 251.4224493401978, 91.59107290986965, 66.37512556903854, 93.8788447356543, 114.43887640264397, 166.76282259386332, 505.61331509153877, 150.99987407105766, 56.64147977581238, 61.925375991119445, 175.80943774430077, 190.88996047066752, 81.23874712154384, 63.47540648300426, 73.6647551393036, 78.58415122718695, 52.66942442998297, 235.16008299551294, 183.6227000293999, 135.52719823030858, 135.56706864449856, 255.0623914997535, 268.4355538748353, 435.8985617660132, 423.2324513127095, 185.06243417039653, 400.6368958517592, 277.4188009839145, 191.94185465554514, 297.839778723746, 258.3749926814022, 275.56441070992463, 269.9633682544238, 251.15250875230475, 308.42495767702684, 192.52567075164515, 223.55759163181142, 203.0368661299263, 199.28646503923744, 191.94145298670466, 181.0616977566478, 390.88484421207716, 1189.5437279589448, 616.415350102421, 658.470003021614, 272.90096367949207, 159.15361537222654, 367.0691203628942, 211.39661198911645, 80.96706005030501, 197.53591058341624, 90.68640230937147, 875.9552089622031, 178.18306984106405, 126.03297605424433, 192.87654455342434, 220.42533752476314, 750.4196833995544, 193.22204801462465, 143.1971907131676, 154.17987311791356, 164.85091069120412, 83.65634689876276, 81.14048576096295, 184.86109482570237, 301.92472653465416, 178.2785444371442, 474.9030917973934, 84.74549867213997, 220.6019380362196, 60.36183133821234, 340.2960074927943, 164.73957982744878, 255.13139077445854, 182.26476401626672, 385.2954566476141, 239.05517502828732, 290.58394788341775, 179.28025616618274, 248.56694916587395, 212.86170274419808, 213.9931024254079, 199.91215143135113, 187.7338816130502, 203.97113704252916, 287.0469730602565, 390.07604241445324, 308.7038334022091, 97.60460204291905, 121.26821109185917, 145.98724284772098, 197.1054997059803, 162.26555120389614, 108.56054061064343, 91.30102101622595, 368.2688258582788, 106.92151727367111, 70.48000267383856, 374.4699871493345, 254.62999166315961, 72.50749016899462, 182.80428915520565, 118.9053220299986, 137.4628686086102, 145.15017790407947, 60.31231747046989, 64.69603374223254, 82.62364695324325, 74.72385295526753, 58.07726634118635, 315.1631750307189, 85.53064360680949, 75.02625700096658, 429.83473057565436, 206.24043792896816, 326.24960978670714, 172.76447483799691, 102.0078231742463, 261.6185238948513, 158.51430572561728, 197.14530763411736, 157.39303443705313, 119.61675326960784, 227.35283185131246, 133.9055366581219, 135.5913247907313, 141.32806025352127, 142.12445315285203, 168.6945169519952, 180.95354270964268, 147.4163298925974, 148.21688226639134, 143.14523798264193, 141.83944127590306, 141.64561562433357, 161.8464338279839, 392.9392745456322, 225.13502445708136, 215.17306478905707, 365.3502416733665, 182.28399490359047, 172.5344676448808, 116.4923832322184, 118.02092247379304, 121.25480217866361, 114.87550789008051, 141.81262120032665, 110.72920529060185, 107.90540679454134, 63.561528321508426, 78.93187004720487, 180.22131039960314, 110.846807562749, 52.82827816199725, 90.65917013095853, 98.26931014208076, 64.90633686025014, 68.70086480804564, 76.40209873494467, 72.09659547321672, 57.50772611427902, 54.22256072298115, 39.450293964413724, 78.71537348915449, 42.7674725907928, 271.1768623402168, 127.084436478311, 193.81781247788868, 116.33537592008047, 160.841804214969, 285.534360141697, 150.99868326645856, 213.39918213478123, 161.36743411812583, 121.70558938512853, 175.42326026556464, 151.95212395849225, 190.8266420152424, 133.10907465526074, 153.0657867258173, 133.23911666308845, 128.49399722806078, 130.05760856798466, 119.33395431521065, 118.72620280347272, 470.8597504090344, 818.1291124835827, 250.1383441773868, 138.6819311447385, 886.14867591672, 212.2805278023192, 91.39043931730397, 79.15405154789408, 130.48990544035183, 101.84359471276767, 460.5054559125772, 64.98045560292044, 137.9000710585619, 352.55755535716327, 361.8122336972245, 79.83578752326247, 212.88788003659315, 86.5157341254522, 160.27639114018154, 100.36086585093331, 54.115522311132885, 55.51963567233699, 84.33481838378535, 70.58816859377022, 43.50509218784633, 53.481875837355155, 46.11446022161994, 35.507948484172225, 49.4815367036224, 153.96125524782582, 106.95882514868354, 232.99516077785415, 72.92424075423858, 75.94015893087965, 146.7476745370072, 135.84856650747582, 116.06510525308249, 127.0588764316331, 125.35724268157202, 94.0610051043647, 114.56908351628834, 112.02917269758241, 109.91682992272202, 105.40449161171857, 102.23676452755059, 98.30030504293018, 96.54176845970788], \"Total\": [1033.0, 1241.0, 832.0, 1482.0, 1088.0, 1628.0, 1014.0, 477.0, 772.0, 709.0, 919.0, 1591.0, 713.0, 655.0, 1036.0, 1021.0, 455.0, 754.0, 499.0, 1073.0, 925.0, 1044.0, 774.0, 726.0, 985.0, 391.0, 456.0, 915.0, 844.0, 649.0, 404.2129695121929, 212.7826653531399, 173.8191741469316, 158.2065276297367, 244.79427295945155, 985.6488768660624, 289.0447299187513, 420.0793066310508, 178.04512592707823, 150.6385262332781, 156.9586166335791, 144.43470160123346, 167.29306364431585, 249.51400222841772, 202.88392889627087, 195.72567046007185, 110.62123695198275, 284.0381761462773, 285.74182895035244, 137.2447861195711, 302.8608936031364, 304.904454757903, 282.41890593069064, 157.47750497046442, 626.6329183825844, 127.11332792039194, 112.22505646955538, 173.3580032555971, 108.36799580047887, 115.20955727064771, 975.0583763978262, 150.82317165326512, 300.8910090788583, 269.36769439198883, 320.02322348903755, 506.90435307736374, 565.7433310236022, 594.9428858908134, 703.1970894765578, 455.0432507008144, 617.6917023192881, 718.7576613061125, 763.4915800506056, 519.3565413241237, 842.3272451276538, 1055.1481494016675, 657.969546861763, 744.6287466606184, 444.0577923938303, 675.1301042998767, 673.9527066876292, 873.3332549995816, 861.8265671292756, 1075.9824809254312, 535.9740886809558, 417.15340824389136, 684.1571138514131, 673.2347649361482, 588.2814048462085, 965.845496819089, 1591.4063848978542, 592.02469420397, 709.7408414942947, 230.55455462214303, 215.65607056040983, 479.89496834582314, 296.2922084937631, 529.8265828411155, 919.4967589769182, 401.98987406104703, 159.71548838996202, 1482.2328533327188, 339.99053224268334, 677.9658305404856, 369.53424621850166, 302.88863742241784, 317.8992694446818, 134.99665855044418, 364.6274799187624, 211.18110733993467, 1591.4063848978542, 206.39407754323454, 257.88390992073704, 1149.7379073209656, 232.3132824664134, 140.45611273586596, 318.75100140734, 195.55741204259212, 380.8187665181882, 185.24057466367867, 165.90457986403965, 126.569582074101, 659.5803113608144, 801.0527177437076, 913.4212744969336, 667.4318997458801, 603.4525233013749, 838.2362580929172, 1073.9063076323396, 724.2677716459782, 1628.5857958349627, 785.169425060024, 1055.1481494016675, 1060.899864610628, 935.1048836867236, 751.4184020979429, 601.3104744140716, 727.8220605671278, 1036.3607706473929, 682.2682815323244, 663.0377793438633, 278.7584494148343, 234.1736165936449, 534.8827770136057, 324.4874696650631, 518.5257644315277, 447.2358429964417, 223.9617981512987, 115.05284129015841, 470.9904079071341, 168.85533807234074, 245.36746947916637, 1021.1260771836004, 146.03415846786004, 94.3523362928735, 175.7382476855912, 247.6859623299463, 297.93207265519794, 222.07073610674598, 172.15716536378298, 213.15783613933402, 195.41635257732753, 127.80907287491199, 539.6146412707035, 620.1405026402391, 1036.3607706473929, 526.1546943448731, 161.59673944149299, 179.96531509733617, 130.18237143702046, 236.66811780937903, 254.4075091257917, 1628.5857958349627, 538.3266978014078, 1003.1347834629348, 543.9363083122748, 354.34624551167536, 482.0522254530222, 935.1048836867236, 1060.899864610628, 428.60265675334887, 444.18817434844794, 518.5254771142452, 682.0288867947455, 552.7039298582545, 593.9229114354946, 775.320892684834, 913.4212744969336, 844.7251278373959, 511.3305549342593, 307.71584992032757, 437.4037707925743, 342.37071922091354, 200.8631539465657, 120.015928098013, 1073.806401319938, 244.1062012092126, 1044.1803473436662, 218.43152756044722, 432.9855480530905, 158.74304928170992, 115.74790237719027, 167.96254411672425, 208.03904514593137, 303.53558749273736, 925.8841544318511, 277.7057623372677, 105.60337655259094, 115.6143236798696, 329.0964050283527, 358.08549588698077, 152.56047029859639, 119.63942670143045, 139.84181188269434, 153.95512903871995, 103.49111094531602, 463.14704063515285, 368.5078434923903, 279.1631629318607, 279.80086925006015, 526.7940399796405, 554.9935353576221, 907.3095328193741, 915.7660163877282, 390.89676211817164, 951.3706406162074, 637.9572735851907, 424.1745570636812, 755.8074599580965, 661.4995383395125, 764.0300127485604, 763.4915800506056, 724.1041566467791, 1075.9824809254312, 496.0961629740301, 678.2428408016359, 580.1297933930878, 682.0288867947455, 861.8265671292756, 1021.6091784873827, 391.75816029351205, 1241.430427366396, 655.8093371449444, 713.0540551623923, 302.80513430219514, 183.30762933642788, 429.5808111580301, 250.1493891240644, 99.62881380225149, 244.4476226295885, 112.57384238468973, 1088.0094196056602, 222.22471666181366, 157.62996807042472, 241.41283392058196, 286.5463866494597, 1014.4521936690182, 261.52507122010593, 205.63853908499843, 225.40509004164943, 241.39813779614082, 122.6878630259665, 119.50833745004024, 278.11070466512996, 454.7139648032248, 271.0591062394537, 774.2443521288717, 140.60172177195616, 372.17489023671243, 103.54122224694589, 612.9803187582174, 292.3978699869936, 491.0818835345195, 331.0152021312062, 965.845496819089, 498.0499283055167, 785.4640571587356, 371.62469568082514, 1006.3059708643307, 684.1571138514131, 722.3256734125902, 567.3750451227229, 591.7104254400043, 220.39490981636823, 329.1459977133797, 456.5694738461345, 409.31488015413856, 133.4118461008477, 168.764724343319, 209.33358004622713, 314.5498835289841, 277.2013855459232, 187.19837917539536, 157.65720548262462, 649.8153714984655, 197.0545493237136, 133.1965300983293, 722.3256734125902, 518.5254771142452, 148.64049638243898, 374.77594178258784, 244.63531073347113, 285.06742340008157, 302.8544833718961, 127.84014258899994, 138.5445792919366, 178.77723796499774, 167.32877825967984, 132.83889446142373, 725.1276807045912, 196.8928819518387, 173.61909399275348, 1021.6091784873827, 496.0961629740301, 915.7660163877282, 445.69265216147494, 246.68272143486033, 925.8841544318511, 482.0522254530222, 681.1141567423349, 487.1606594957102, 327.73728857860533, 1003.1347834629348, 428.60265675334887, 463.14704063515285, 524.4135591222945, 535.8101977385486, 1044.1803473436662, 1628.5857958349627, 712.6107843646123, 907.3095328193741, 785.169425060024, 951.3706406162074, 1073.806401319938, 186.14039800001976, 455.2459185208976, 287.64875975059107, 291.64684609430606, 499.5431093903238, 256.6789137022949, 262.41649186278863, 182.16278531076162, 186.32232850548337, 196.94139103752204, 203.08459386177427, 264.23307138751403, 215.45764974360088, 211.7280472400481, 125.14167639465028, 158.94388126424346, 392.11089794842104, 243.64125625598314, 120.16391036452849, 219.7364727148019, 240.59182682175012, 158.95914275748888, 171.01537349870455, 192.80868671260976, 185.38897520535807, 149.90453836019606, 141.9855333450882, 104.29117697916612, 211.71848772346127, 115.64457755779753, 798.0966405103611, 362.8705301231663, 582.8665970477475, 336.47351832293214, 497.1748813549857, 1006.3059708643307, 463.4017030481914, 774.2443521288717, 593.9229114354946, 402.31831268278137, 724.1041566467791, 606.2103997227873, 1014.4521936690182, 530.0950645749851, 785.4640571587356, 591.7104254400043, 528.9432585490667, 581.1264512719979, 817.9705534393535, 844.7251278373959, 477.83911869821276, 832.0432307326703, 274.18908418463377, 158.86283483342314, 1033.5275466789171, 279.60446167707835, 129.7016903587862, 112.72965707375047, 189.15213706548846, 168.52326562188594, 772.0202715416418, 119.72571562682444, 277.7472148008601, 726.4450482934993, 754.9552395948167, 170.08352025222808, 463.4017030481914, 193.29028178575942, 358.08549588698077, 231.86335138887665, 130.09043673583466, 135.80812482951558, 207.02279749822196, 174.79748950622275, 113.52051221466493, 146.26763002044402, 126.51034528357229, 97.83283426911149, 138.4180089753262, 457.7593878258657, 331.0152021312062, 844.7251278373959, 217.6807108688832, 232.69567589239932, 632.158879674497, 593.9229114354946, 480.6180367148372, 577.5539382302891, 612.9803187582174, 409.49905863095637, 785.4640571587356, 817.9705534393535, 842.3272451276538, 703.1970894765578, 681.1141567423349, 661.4995383395125, 606.2103997227873], \"Category\": [\"Default\", \"Default\", \"Default\", \"Default\", \"Default\", \"Default\", \"Default\", \"Default\", \"Default\", \"Default\", \"Default\", \"Default\", \"Default\", \"Default\", \"Default\", \"Default\", \"Default\", \"Default\", \"Default\", \"Default\", \"Default\", \"Default\", \"Default\", \"Default\", \"Default\", \"Default\", \"Default\", \"Default\", \"Default\", \"Default\", \"Topic1\", \"Topic1\", \"Topic1\", \"Topic1\", \"Topic1\", \"Topic1\", \"Topic1\", \"Topic1\", \"Topic1\", \"Topic1\", \"Topic1\", \"Topic1\", \"Topic1\", \"Topic1\", \"Topic1\", \"Topic1\", \"Topic1\", \"Topic1\", \"Topic1\", \"Topic1\", \"Topic1\", \"Topic1\", \"Topic1\", \"Topic1\", \"Topic1\", \"Topic1\", \"Topic1\", \"Topic1\", \"Topic1\", \"Topic1\", \"Topic1\", \"Topic1\", \"Topic1\", \"Topic1\", \"Topic1\", \"Topic1\", \"Topic1\", \"Topic1\", \"Topic1\", \"Topic1\", \"Topic1\", \"Topic1\", \"Topic1\", \"Topic1\", \"Topic1\", \"Topic1\", \"Topic1\", \"Topic1\", \"Topic1\", \"Topic1\", \"Topic1\", \"Topic1\", \"Topic1\", \"Topic1\", \"Topic1\", \"Topic1\", \"Topic1\", \"Topic1\", \"Topic1\", \"Topic1\", \"Topic1\", \"Topic1\", \"Topic2\", \"Topic2\", \"Topic2\", \"Topic2\", \"Topic2\", \"Topic2\", \"Topic2\", \"Topic2\", \"Topic2\", \"Topic2\", \"Topic2\", \"Topic2\", \"Topic2\", \"Topic2\", \"Topic2\", \"Topic2\", \"Topic2\", \"Topic2\", \"Topic2\", \"Topic2\", \"Topic2\", \"Topic2\", \"Topic2\", \"Topic2\", \"Topic2\", \"Topic2\", \"Topic2\", \"Topic2\", \"Topic2\", \"Topic2\", \"Topic2\", \"Topic2\", \"Topic2\", \"Topic2\", \"Topic2\", \"Topic2\", \"Topic2\", \"Topic2\", \"Topic2\", \"Topic2\", \"Topic2\", \"Topic2\", \"Topic2\", \"Topic2\", \"Topic2\", \"Topic2\", \"Topic2\", \"Topic2\", \"Topic2\", \"Topic3\", \"Topic3\", \"Topic3\", \"Topic3\", \"Topic3\", \"Topic3\", \"Topic3\", \"Topic3\", \"Topic3\", \"Topic3\", \"Topic3\", \"Topic3\", \"Topic3\", \"Topic3\", \"Topic3\", \"Topic3\", \"Topic3\", \"Topic3\", \"Topic3\", \"Topic3\", \"Topic3\", \"Topic3\", \"Topic3\", \"Topic3\", \"Topic3\", \"Topic3\", \"Topic3\", \"Topic3\", \"Topic3\", \"Topic3\", \"Topic3\", \"Topic3\", \"Topic3\", \"Topic3\", \"Topic3\", \"Topic3\", \"Topic3\", \"Topic3\", \"Topic3\", \"Topic3\", \"Topic3\", \"Topic3\", \"Topic3\", \"Topic3\", \"Topic3\", \"Topic3\", \"Topic3\", \"Topic3\", \"Topic3\", \"Topic4\", \"Topic4\", \"Topic4\", \"Topic4\", \"Topic4\", \"Topic4\", \"Topic4\", \"Topic4\", \"Topic4\", \"Topic4\", \"Topic4\", \"Topic4\", \"Topic4\", \"Topic4\", \"Topic4\", \"Topic4\", \"Topic4\", \"Topic4\", \"Topic4\", \"Topic4\", \"Topic4\", \"Topic4\", \"Topic4\", \"Topic4\", \"Topic4\", \"Topic4\", \"Topic4\", \"Topic4\", \"Topic4\", \"Topic4\", \"Topic4\", \"Topic4\", \"Topic4\", \"Topic4\", \"Topic4\", \"Topic4\", \"Topic4\", \"Topic4\", \"Topic4\", \"Topic4\", \"Topic4\", \"Topic4\", \"Topic4\", \"Topic4\", \"Topic4\", \"Topic4\", \"Topic4\", \"Topic4\", \"Topic4\", \"Topic4\", \"Topic5\", \"Topic5\", \"Topic5\", \"Topic5\", \"Topic5\", \"Topic5\", \"Topic5\", \"Topic5\", \"Topic5\", \"Topic5\", \"Topic5\", \"Topic5\", \"Topic5\", \"Topic5\", \"Topic5\", \"Topic5\", \"Topic5\", \"Topic5\", \"Topic5\", \"Topic5\", \"Topic5\", \"Topic5\", \"Topic5\", \"Topic5\", \"Topic5\", \"Topic5\", \"Topic5\", \"Topic5\", \"Topic5\", \"Topic5\", \"Topic5\", \"Topic5\", \"Topic5\", \"Topic5\", \"Topic5\", \"Topic5\", \"Topic5\", \"Topic5\", \"Topic5\", \"Topic5\", \"Topic5\", \"Topic5\", \"Topic5\", \"Topic6\", \"Topic6\", \"Topic6\", \"Topic6\", \"Topic6\", \"Topic6\", \"Topic6\", \"Topic6\", \"Topic6\", \"Topic6\", \"Topic6\", \"Topic6\", \"Topic6\", \"Topic6\", \"Topic6\", \"Topic6\", \"Topic6\", \"Topic6\", \"Topic6\", \"Topic6\", \"Topic6\", \"Topic6\", \"Topic6\", \"Topic6\", \"Topic6\", \"Topic6\", \"Topic6\", \"Topic6\", \"Topic6\", \"Topic6\", \"Topic6\", \"Topic6\", \"Topic6\", \"Topic6\", \"Topic6\", \"Topic6\", \"Topic6\", \"Topic6\", \"Topic6\", \"Topic6\", \"Topic6\", \"Topic6\", \"Topic6\", \"Topic6\", \"Topic6\", \"Topic6\", \"Topic6\", \"Topic6\", \"Topic6\", \"Topic6\", \"Topic6\", \"Topic7\", \"Topic7\", \"Topic7\", \"Topic7\", \"Topic7\", \"Topic7\", \"Topic7\", \"Topic7\", \"Topic7\", \"Topic7\", \"Topic7\", \"Topic7\", \"Topic7\", \"Topic7\", \"Topic7\", \"Topic7\", \"Topic7\", \"Topic7\", \"Topic7\", \"Topic7\", \"Topic7\", \"Topic7\", \"Topic7\", \"Topic7\", \"Topic7\", \"Topic7\", \"Topic7\", \"Topic7\", \"Topic7\", \"Topic7\", \"Topic7\", \"Topic7\", \"Topic7\", \"Topic7\", \"Topic7\", \"Topic7\", \"Topic7\", \"Topic7\", \"Topic7\", \"Topic7\", \"Topic7\", \"Topic7\", \"Topic7\", \"Topic7\", \"Topic7\", \"Topic7\", \"Topic7\", \"Topic7\", \"Topic7\", \"Topic7\", \"Topic8\", \"Topic8\", \"Topic8\", \"Topic8\", \"Topic8\", \"Topic8\", \"Topic8\", \"Topic8\", \"Topic8\", \"Topic8\", \"Topic8\", \"Topic8\", \"Topic8\", \"Topic8\", \"Topic8\", \"Topic8\", \"Topic8\", \"Topic8\", \"Topic8\", \"Topic8\", \"Topic8\", \"Topic8\", \"Topic8\", \"Topic8\", \"Topic8\", \"Topic8\", \"Topic8\", \"Topic8\", \"Topic8\", \"Topic8\", \"Topic8\", \"Topic8\", \"Topic8\", \"Topic8\", \"Topic8\", \"Topic8\", \"Topic8\", \"Topic8\", \"Topic8\", \"Topic8\", \"Topic8\", \"Topic8\", \"Topic8\", \"Topic8\", \"Topic8\", \"Topic8\", \"Topic8\"], \"logprob\": [30.0, 29.0, 28.0, 27.0, 26.0, 25.0, 24.0, 23.0, 22.0, 21.0, 20.0, 19.0, 18.0, 17.0, 16.0, 15.0, 14.0, 13.0, 12.0, 11.0, 10.0, 9.0, 8.0, 7.0, 6.0, 5.0, 4.0, 3.0, 2.0, 1.0, -5.0522, -5.7197, -5.9334, -6.0593, -5.6248, -4.2985, -5.5365, -5.1855, -6.0555, -6.2509, -6.21, -6.3001, -6.1904, -5.8051, -6.0209, -6.0745, -6.6516, -5.7129, -5.7113, -6.4528, -5.6617, -5.6599, -5.7436, -6.3315, -4.9567, -6.5525, -6.6777, -6.2431, -6.7139, -6.6542, -4.5198, -6.3852, -5.7056, -5.8165, -5.661, -5.2247, -5.1288, -5.0864, -4.9561, -5.4008, -5.1807, -5.092, -5.0539, -5.3364, -4.9841, -4.8409, -5.1781, -5.1578, -5.4807, -5.262, -5.2713, -5.1495, -5.1832, -5.1085, -5.4411, -5.5472, -5.3753, -5.4175, -5.4569, -5.3726, -5.2892, -5.4763, -4.319, -5.4629, -5.5478, -4.7741, -5.2611, -4.7294, -4.2106, -5.052, -5.9998, -3.8048, -5.2839, -4.5961, -5.2068, -5.4236, -5.3959, -6.2713, -5.3038, -5.8613, -3.8469, -5.9334, -5.7136, -4.2267, -5.8338, -6.3386, -5.5255, -6.0157, -5.3541, -6.0894, -6.2193, -6.5119, -4.8635, -4.6835, -4.5688, -4.8997, -4.9981, -4.7092, -4.5049, -4.9005, -4.3562, -4.9075, -4.7098, -4.7201, -4.8866, -5.0122, -5.1535, -5.0964, -4.9907, -5.1327, -5.1802, -5.1325, -5.3443, -4.5214, -5.0362, -4.5787, -4.7573, -5.4648, -6.1323, -4.7552, -5.828, -5.4766, -4.0531, -6.0381, -6.4868, -5.8695, -5.5322, -5.3873, -5.6875, -5.9606, -5.7506, -5.8395, -6.2882, -4.8509, -4.7149, -4.2138, -4.892, -6.1145, -6.0105, -6.3365, -5.7436, -5.6718, -4.0542, -5.0651, -4.5456, -5.0803, -5.4473, -5.2585, -4.8546, -4.8283, -5.3695, -5.404, -5.3823, -5.2835, -5.3728, -5.3532, -5.3101, -5.3062, -5.3185, -5.413, -5.0939, -4.7631, -5.0845, -5.6564, -6.2065, -4.1288, -5.6121, -4.1956, -5.7688, -5.096, -6.1058, -6.4278, -6.0812, -5.8831, -5.5066, -4.3974, -5.6059, -6.5864, -6.4972, -5.4538, -5.3715, -6.2258, -6.4725, -6.3236, -6.259, -6.6591, -5.1629, -5.4103, -5.714, -5.7137, -5.0816, -5.0305, -4.5457, -4.5752, -5.4025, -4.6301, -4.9976, -5.366, -4.9266, -5.0687, -5.0043, -5.0249, -5.0971, -4.8917, -5.3629, -5.2135, -5.3098, -5.3284, -5.366, -5.4243, -4.5793, -3.4663, -4.1237, -4.0577, -4.9386, -5.4778, -4.6421, -5.1939, -6.1536, -5.2617, -6.0403, -3.7724, -5.3649, -5.7111, -5.2856, -5.1521, -3.927, -5.2838, -5.5834, -5.5095, -5.4426, -6.1209, -6.1515, -5.3281, -4.8375, -5.3643, -4.3846, -6.108, -5.1513, -6.4473, -4.7179, -5.4433, -5.0059, -5.3422, -4.5937, -5.071, -4.8758, -5.3587, -5.032, -5.187, -5.1817, -5.2498, -5.3126, -5.0382, -4.6966, -4.3899, -4.6238, -5.7753, -5.5582, -5.3727, -5.0725, -5.267, -5.6689, -5.8421, -4.4474, -5.6841, -6.1009, -4.4307, -4.8164, -6.0725, -5.1478, -5.5779, -5.4329, -5.3785, -6.2567, -6.1865, -5.9419, -6.0424, -6.2944, -4.6031, -5.9073, -6.0384, -4.2928, -5.0272, -4.5686, -5.2043, -5.7312, -4.7893, -5.2904, -5.0723, -5.2975, -5.5719, -4.9297, -5.4591, -5.4466, -5.4051, -5.3995, -5.2281, -5.158, -5.363, -5.3575, -5.3924, -5.4015, -5.4029, -4.9605, -4.0735, -4.6304, -4.6757, -4.1463, -4.8416, -4.8965, -5.2893, -5.2763, -5.2492, -5.3033, -5.0926, -5.34, -5.3659, -5.8951, -5.6785, -4.8529, -5.339, -6.0801, -5.54, -5.4594, -5.8742, -5.8174, -5.7111, -5.7691, -5.9952, -6.054, -6.3721, -5.6813, -6.2913, -4.4443, -5.2023, -4.7802, -5.2906, -4.9667, -4.3928, -5.0298, -4.684, -4.9634, -5.2455, -4.8799, -5.0236, -4.7958, -5.1559, -5.0162, -5.155, -5.1912, -5.1791, -5.2652, -5.2703, -3.7914, -3.2389, -4.4239, -5.0137, -3.159, -4.588, -5.4308, -5.5745, -5.0746, -5.3225, -3.8136, -5.7718, -5.0194, -4.0807, -4.0548, -5.566, -4.5852, -5.4856, -4.869, -5.3372, -5.9548, -5.9292, -5.5111, -5.6891, -6.1731, -5.9666, -6.1148, -6.3762, -6.0443, -4.9092, -5.2735, -4.4949, -5.6565, -5.616, -4.9572, -5.0344, -5.1918, -5.1013, -5.1148, -5.402, -5.2048, -5.2272, -5.2462, -5.2881, -5.3186, -5.3579, -5.376], \"loglift\": [30.0, 29.0, 28.0, 27.0, 26.0, 25.0, 24.0, 23.0, 22.0, 21.0, 20.0, 19.0, 18.0, 17.0, 16.0, 15.0, 14.0, 13.0, 12.0, 11.0, 10.0, 9.0, 8.0, 7.0, 6.0, 5.0, 4.0, 3.0, 2.0, 1.0, 1.5862, 1.5604, 1.549, 1.5172, 1.5152, 1.4485, 1.4373, 1.4144, 1.4028, 1.3746, 1.3744, 1.3674, 1.3302, 1.3157, 1.3068, 1.2891, 1.2826, 1.2783, 1.274, 1.2658, 1.2654, 1.2604, 1.2533, 1.2496, 1.2433, 1.2428, 1.2421, 1.2419, 1.2409, 1.2394, 1.2381, 1.2391, 1.228, 1.2278, 1.2109, 1.1873, 1.1735, 1.1654, 1.1286, 1.1191, 1.0337, 0.9708, 0.9485, 1.0514, 0.9201, 0.838, 0.9731, 0.8696, 1.0637, 0.8634, 0.8559, 0.7185, 0.6981, 0.5509, 0.9152, 1.0597, 0.7368, 0.7107, 0.8062, 0.3947, -0.0212, 0.7805, 1.7564, 1.7369, 1.7189, 1.6927, 1.6879, 1.6384, 1.6059, 1.592, 1.5671, 1.5343, 1.5276, 1.5252, 1.5213, 1.5033, 1.4827, 1.4638, 1.4377, 1.4263, 1.4211, 1.3772, 1.3742, 1.3664, 1.3585, 1.3568, 1.3504, 1.3488, 1.344, 1.3293, 1.3096, 1.2877, 1.2852, 1.2709, 1.2544, 1.2373, 1.2396, 1.1999, 1.1564, 1.1547, 0.8887, 1.0669, 0.9691, 0.9534, 0.9131, 1.0062, 1.0878, 0.9539, 0.7061, 0.9823, 0.9633, 1.8775, 1.84, 1.8369, 1.8219, 1.8106, 1.7799, 1.7641, 1.7626, 1.7303, 1.6833, 1.6609, 1.6586, 1.6184, 1.6065, 1.6018, 1.5959, 1.5562, 1.5498, 1.5313, 1.5277, 1.5257, 1.5016, 1.4986, 1.4955, 1.4831, 1.4828, 1.4408, 1.4371, 1.4349, 1.4301, 1.4296, 1.1907, 1.2868, 1.1839, 1.2612, 1.3228, 1.2037, 0.9451, 0.8451, 1.2104, 1.1401, 1.0071, 0.8317, 0.9527, 0.9004, 0.677, 0.517, 0.5828, 0.9903, 1.8173, 1.7964, 1.72, 1.6813, 1.6462, 1.5326, 1.5306, 1.4938, 1.4851, 1.4736, 1.4672, 1.4611, 1.4355, 1.4195, 1.4183, 1.4122, 1.4079, 1.3942, 1.3929, 1.3902, 1.3881, 1.387, 1.3834, 1.3762, 1.3447, 1.3417, 1.3394, 1.3206, 1.2946, 1.2926, 1.2919, 1.2908, 1.2841, 1.2453, 1.2694, 1.1523, 1.1844, 1.2242, 1.086, 1.0771, 0.9974, 0.9776, 0.9583, 0.7677, 1.0706, 0.9074, 0.9673, 0.7869, 0.5153, 0.2869, 2.0904, 2.05, 2.0307, 2.013, 1.9887, 1.9514, 1.9354, 1.9244, 1.8853, 1.8796, 1.8765, 1.8759, 1.8718, 1.869, 1.8682, 1.8303, 1.7912, 1.79, 1.7308, 1.7129, 1.7113, 1.7098, 1.7055, 1.6843, 1.6832, 1.6737, 1.6039, 1.5864, 1.5697, 1.5531, 1.5042, 1.5189, 1.4378, 1.496, 1.1737, 1.3587, 1.0983, 1.3637, 0.6943, 0.9251, 0.8761, 1.0495, 0.9447, 2.2067, 2.1473, 2.1267, 2.002, 1.9716, 1.9536, 1.9237, 1.8167, 1.7486, 1.7393, 1.7379, 1.7162, 1.6727, 1.6476, 1.6272, 1.5729, 1.5663, 1.5662, 1.5627, 1.5548, 1.5486, 1.5329, 1.5226, 1.5123, 1.478, 1.4568, 1.4509, 1.4503, 1.4451, 1.4184, 1.4064, 1.252, 1.3364, 1.4011, 1.0203, 1.1719, 1.0443, 1.1543, 1.2762, 0.7997, 1.1207, 1.0557, 0.9729, 0.957, 0.4612, 0.0869, 0.7084, 0.4723, 0.5821, 0.3809, 0.2585, 2.4534, 2.446, 2.3482, 2.2891, 2.2804, 2.251, 2.1739, 2.1462, 2.1366, 2.1082, 2.0235, 1.9709, 1.9276, 1.9192, 1.9158, 1.8933, 1.8159, 1.8057, 1.7714, 1.7079, 1.6978, 1.6975, 1.6812, 1.6675, 1.6488, 1.6351, 1.6306, 1.6211, 1.6038, 1.5985, 1.5138, 1.544, 1.4922, 1.5312, 1.4647, 1.3335, 1.4719, 1.3045, 1.2902, 1.3976, 1.1755, 1.2096, 0.9225, 1.2113, 0.9578, 1.1024, 1.1782, 1.0962, 0.6683, 0.631, 2.6797, 2.6776, 2.6026, 2.5586, 2.5406, 2.4189, 2.3443, 2.3408, 2.3232, 2.1908, 2.1777, 2.0833, 1.9942, 1.9715, 1.9589, 1.9381, 1.9166, 1.8905, 1.8905, 1.857, 1.8173, 1.7999, 1.7964, 1.7876, 1.7353, 1.6883, 1.6852, 1.6809, 1.6657, 1.6048, 1.5647, 1.4064, 1.6008, 1.5746, 1.234, 1.2192, 1.2735, 1.1803, 1.1072, 1.2234, 0.7693, 0.7063, 0.658, 0.7966, 0.798, 0.7879, 0.8572]}, \"token.table\": {\"Topic\": [1, 2, 3, 5, 7, 8, 1, 2, 3, 4, 5, 6, 7, 8, 1, 2, 3, 4, 5, 6, 7, 8, 1, 2, 3, 4, 5, 6, 7, 8, 2, 3, 4, 5, 6, 7, 8, 1, 2, 3, 4, 6, 7, 8, 1, 2, 3, 4, 1, 2, 3, 6, 1, 2, 4, 5, 6, 7, 8, 4, 5, 6, 8, 1, 6, 1, 3, 7, 8, 1, 2, 3, 4, 5, 6, 7, 8, 2, 3, 4, 5, 6, 8, 4, 5, 6, 7, 8, 1, 3, 4, 5, 7, 8, 1, 4, 5, 6, 7, 8, 1, 4, 5, 7, 4, 5, 6, 8, 1, 2, 3, 4, 5, 6, 7, 8, 1, 2, 3, 4, 5, 6, 7, 8, 1, 2, 4, 6, 7, 2, 3, 4, 6, 8, 1, 8, 1, 2, 3, 4, 5, 6, 7, 8, 1, 2, 3, 4, 5, 6, 1, 2, 3, 4, 5, 6, 7, 8, 1, 2, 3, 4, 7, 8, 2, 3, 5, 6, 7, 8, 1, 2, 3, 7, 1, 3, 4, 6, 8, 1, 2, 3, 4, 5, 6, 7, 8, 1, 4, 5, 6, 1, 2, 3, 5, 6, 7, 8, 1, 4, 5, 6, 7, 8, 2, 3, 4, 5, 6, 7, 8, 1, 5, 6, 1, 2, 4, 1, 2, 3, 4, 6, 3, 4, 5, 6, 7, 8, 1, 2, 3, 4, 5, 1, 2, 3, 4, 5, 6, 7, 1, 2, 3, 4, 5, 6, 7, 8, 1, 2, 3, 4, 5, 6, 7, 1, 2, 3, 4, 6, 7, 1, 2, 3, 4, 6, 2, 3, 6, 8, 1, 2, 3, 4, 5, 6, 8, 1, 2, 4, 6, 1, 2, 3, 4, 5, 6, 7, 1, 3, 4, 5, 6, 7, 8, 1, 2, 4, 5, 6, 7, 8, 2, 5, 6, 7, 8, 1, 2, 3, 4, 5, 6, 1, 2, 3, 4, 6, 8, 1, 2, 3, 4, 6, 8, 1, 2, 7, 8, 1, 2, 4, 5, 6, 8, 1, 2, 3, 4, 7, 8, 1, 4, 5, 6, 7, 8, 1, 2, 3, 6, 3, 5, 6, 7, 8, 1, 5, 7, 8, 3, 4, 6, 7, 1, 2, 3, 4, 5, 6, 7, 8, 1, 2, 3, 4, 5, 6, 7, 8, 1, 2, 3, 6, 7, 1, 2, 3, 4, 6, 4, 5, 6, 7, 8, 1, 2, 3, 4, 6, 7, 1, 2, 4, 5, 6, 7, 2, 3, 6, 2, 4, 5, 6, 7, 8, 2, 3, 4, 5, 6, 7, 8, 1, 3, 5, 6, 8, 1, 2, 3, 4, 7, 8, 1, 2, 3, 6, 7, 8, 2, 3, 4, 5, 6, 7, 8, 1, 5, 6, 7, 1, 4, 5, 7, 1, 2, 3, 4, 5, 6, 8, 1, 2, 3, 4, 5, 6, 8, 1, 2, 4, 5, 6, 7, 1, 2, 3, 4, 5, 6, 7, 8, 1, 2, 3, 4, 5, 6, 7, 8, 1, 2, 3, 5, 6, 7, 1, 2, 4, 5, 6, 7, 8, 2, 3, 6, 1, 2, 4, 5, 6, 7, 8, 1, 2, 4, 5, 6, 7, 8, 1, 2, 3, 7, 8, 1, 3, 5, 7, 8, 3, 4, 5, 6, 7, 8, 2, 3, 5, 6, 7, 8, 3, 4, 5, 6, 7, 8, 3, 4, 5, 6, 7, 8, 1, 2, 4, 5, 6, 7, 4, 5, 6, 8, 1, 3, 7, 8, 1, 3, 5, 6, 7, 1, 2, 3, 5, 6, 7, 8, 1, 2, 4, 5, 6, 1, 2, 3, 4, 5, 6, 8, 1, 2, 3, 4, 6, 1, 2, 3, 6, 1, 2, 3, 4, 5, 6, 8, 1, 3, 4, 5, 6, 7, 1, 4, 5, 7, 1, 2, 3, 4, 6, 8, 1, 2, 3, 4, 5, 6, 7, 8, 1, 2, 3, 4, 6, 1, 2, 4, 6, 7, 8, 2, 3, 4, 5, 6, 7, 8, 3, 4, 5, 8, 2, 3, 7, 8, 5, 6, 7, 1, 2, 3, 4, 5, 6, 7, 1, 2, 3, 4, 5, 6, 7, 1, 2, 4, 5, 6, 7, 1, 2, 3, 4, 5, 6, 7, 8, 1, 2, 3, 5, 7, 1, 2, 3, 4, 5, 6, 7, 1, 2, 3, 4, 5, 6, 7, 8, 1, 2, 3, 4, 5, 6, 8, 1, 3, 4, 5, 6, 7, 8, 1, 2, 3, 4, 5, 6, 1, 2, 3, 4, 5, 6, 7, 8, 1, 4, 5, 6, 7, 1, 2, 3, 4, 5, 6, 7, 8, 1, 4, 6, 1, 2, 3, 4, 5, 8, 1, 2, 3, 5, 7, 8, 1, 2, 3, 4, 5, 6, 7, 8, 2, 3, 4, 5, 6, 8, 1, 3, 4, 5, 6, 7, 1, 2, 3, 4, 5, 6, 7, 8, 1, 2, 3, 4, 5, 6, 7, 2, 3, 4, 6, 1, 6, 7, 1, 2, 3, 3, 4, 5, 6, 8, 1, 2, 3, 4, 6, 7, 1, 2, 3, 4, 5, 6, 7, 8, 1, 2, 3, 4, 5, 6, 1, 2, 4, 5, 2, 3, 6, 7, 4, 5, 7, 1, 4, 5, 6, 7, 8, 1, 2, 3, 4, 5, 6, 8, 1, 2, 3, 4, 5, 6, 7, 8, 1, 4, 5, 6, 1, 2, 3, 4, 5, 6, 7, 8, 1, 4, 5, 6, 7, 1, 2, 3, 4, 5, 8, 1, 2, 4, 6, 2, 4, 5, 6, 8, 1, 2, 3, 6, 1, 2, 3, 4, 5, 6, 7, 2, 3, 4, 6, 2, 3, 5, 6, 1, 2, 3, 4, 5, 6, 8, 2, 3, 2, 5, 7, 8, 3, 4, 5, 6, 7, 8, 1, 2, 3, 4, 5, 6, 2, 3, 4, 6, 7, 1, 2, 3, 5, 6, 7, 8, 4, 8, 1, 2, 4, 5, 8, 5, 5, 6, 8, 1, 2, 4, 7, 8, 1, 2, 4, 5, 6, 7, 1, 2, 3, 7, 1, 2, 3, 4, 5, 6, 7, 8, 1, 4, 6, 7, 8, 2, 6, 7, 8, 1, 2, 3, 4, 5, 6, 7, 8, 1, 2, 3, 4, 5, 6, 7, 1, 2, 4, 6, 7, 8, 1, 2, 3, 4, 6, 7, 1, 2, 4, 5, 6, 7, 1, 2, 3, 4, 5, 6, 7, 8, 1, 2, 3, 4, 5, 6, 7, 8, 1, 2, 3, 4, 6, 2, 3, 1, 2, 3, 4, 5, 6, 7, 8, 1, 2, 3, 4, 5, 6, 7, 2, 3, 4, 6, 1, 3, 4, 5, 7, 8, 1, 2, 3, 4, 5, 7, 8, 1, 2, 3, 4, 1, 2, 1, 4, 5, 7, 1, 2, 3, 4, 6, 7, 1, 2, 3, 4, 5, 6, 8, 1, 2, 4, 5, 6, 7, 8, 1, 4, 5, 6, 8, 1, 2, 3, 5, 6, 7, 8, 1, 2, 3, 4, 5, 6, 7, 8, 1, 2, 1, 2, 3, 4, 5, 6, 7, 8, 1, 2, 3, 5, 6, 8, 1, 4, 5, 6, 7, 1, 2, 4, 6, 7, 1, 5, 7, 8, 1, 2, 3, 4, 5, 6, 8, 1, 2, 3, 4, 5, 6, 7, 8, 4, 5, 6, 8, 1, 2, 3, 5, 6, 7, 1, 2, 3, 8, 1, 4, 5, 6, 1, 2, 3, 5, 6, 7, 8, 1, 3, 4, 6, 7, 8, 2, 3, 4, 5, 6, 8, 1, 2, 8, 1, 2, 3, 5, 7, 8, 1, 3, 5, 7, 8, 1, 2, 3, 5, 8, 1, 2, 3, 4, 5, 6, 7, 8, 1, 2, 3, 4, 5, 6, 7, 8, 3, 5, 6, 7, 2, 3, 4, 5, 6, 8, 1, 2, 3, 4, 5, 6, 7, 8, 3, 4, 6, 7, 1, 2, 4, 6, 7, 8, 1, 2, 3, 5, 6, 7, 8, 3, 5, 6, 7, 8, 1, 2, 3, 4, 5, 6, 7, 8, 1, 2, 3, 4, 5, 6, 7, 8, 1, 2, 3, 4, 5, 6, 8, 1, 2, 3, 4, 5, 6, 7, 1, 2, 4, 5, 6, 8, 1, 2, 3, 4, 5, 6, 7, 8, 2, 5, 7, 1, 2, 3, 4, 5, 7, 8, 4, 5, 7, 1, 3, 5, 6, 7, 1, 2, 3, 4, 5, 6, 7, 8, 1, 4, 5, 6, 1, 5, 6, 1, 2, 3, 4, 5, 6, 7, 8, 4, 5, 6, 8, 1, 2, 3, 4, 5, 6, 7, 8, 1, 2, 3, 4, 5, 6, 8, 2, 3, 4, 6, 1, 2, 3, 4, 6, 7, 8, 1, 2, 3, 4, 5, 6, 7, 8, 1, 2, 3, 4, 5, 6, 7, 8, 2, 3, 5, 7, 8, 1, 2, 3, 4, 5, 8, 2, 3, 4, 5, 6, 8, 3, 4, 5, 6, 1, 2, 3, 4, 5, 6, 7, 1, 2, 3, 4, 5, 6, 7, 8, 4, 5, 6, 7, 8, 1, 2, 3, 4, 6, 7, 1, 2, 3, 4, 6, 7, 8, 1, 2, 3, 6, 7, 1, 2, 3, 4, 5, 1, 2, 3, 4, 6, 2, 3, 4, 5, 6, 7, 8, 4, 5, 7, 8, 1, 3, 5, 6, 8, 1, 2, 4, 5, 6, 7, 8, 1, 4, 6, 8, 1, 2, 4, 6, 7, 8, 2, 3, 4, 6, 7, 8, 1, 2, 3, 5, 7, 8, 1, 2, 3, 7, 8, 1, 2, 3, 7, 8, 1, 2, 3, 4, 6, 7, 8, 3, 5, 6, 8, 3, 5, 7, 8, 1, 3, 4, 6, 7, 8, 1, 2, 3, 4, 5, 6, 7, 8, 4, 5, 8, 1, 2, 3, 4, 5, 6, 7, 8, 4, 6, 8, 1, 2, 3, 4, 1, 2, 3, 4, 5, 6, 7, 1, 2, 3, 4, 5, 6, 8, 1, 3, 6, 7, 8, 2, 3, 6, 7, 1, 2, 3, 4, 5, 6, 7, 8, 1, 2, 4, 5, 6, 7, 1, 2, 3, 6, 1, 2, 3, 4, 5, 6, 7, 8, 1, 2, 3, 4, 5, 6, 7, 8, 1, 2, 3, 5, 7, 8, 1, 2, 3, 6, 7, 8, 1, 2, 4, 5, 6, 8, 1, 2, 4, 1, 2, 4, 5, 6, 7, 1, 3, 4, 5, 7, 1, 2, 4, 5, 6, 7, 1, 3, 4, 5, 6, 8, 1, 2, 6, 7, 8, 1, 2, 3, 5, 1, 2, 3, 5, 6, 7, 8, 2, 3, 6, 1, 3, 5, 7, 8, 1, 2, 3, 4, 6, 7, 2, 3, 5, 6, 7, 8, 1, 2, 3, 4, 5, 6, 7, 8, 2, 3, 4, 5, 6, 7, 8, 1, 4, 5, 6, 7, 8, 1, 2, 3, 4, 6, 7, 8, 1, 2, 3, 4, 6, 7, 8, 2, 3, 6, 8, 4, 5, 8, 1, 2, 3, 4, 6, 7, 8, 1, 2, 3, 5, 6, 7, 8, 2, 3, 2, 3, 4, 2, 3, 5, 1, 2, 4, 6, 1, 2, 3, 6, 7, 2, 3, 4, 5, 6, 7, 8, 1, 2, 3, 5, 6, 7, 8, 2, 4, 5, 6, 7, 8, 4, 5, 6, 7, 8, 1, 2, 3, 4, 5, 6, 7, 8, 1, 2, 3, 4, 5, 6, 7, 8, 1, 2, 5, 1, 3, 4, 5, 6, 7, 8, 1, 3, 4, 5, 6, 7, 1, 2, 5, 7, 1, 2, 3, 4, 5, 6, 7, 8, 1, 2, 3, 4, 6, 7, 8, 1, 2, 3, 4, 5, 6, 7, 8, 1, 2, 4, 5, 7, 8, 1, 2, 4, 6, 7, 1, 2, 3, 4, 5, 6, 7, 1, 2, 5, 6, 7, 1, 3, 5, 6, 7, 1, 4, 5, 6, 7, 8, 1, 2, 3, 5, 6, 7, 8, 1, 2, 3, 4, 5, 6, 7, 8, 1, 2, 4, 6, 7, 8, 1, 2, 3, 5, 6, 7, 8, 2, 4, 6, 3, 4, 5, 6, 7, 8, 1, 3, 5, 6, 7, 1, 2, 3, 4, 5, 6, 7, 8, 1, 2, 3, 5, 6, 7, 8, 1, 2, 4, 5, 6, 7, 1, 3, 4, 5, 6, 1, 3, 4, 5, 6, 7, 1, 2, 3, 4, 5, 6, 7, 8, 1, 2, 3, 4, 5, 6], \"Freq\": [0.12335999597029255, 0.01541999949628657, 0.06938999773328956, 0.01541999949628657, 0.07709999748143286, 0.7016099770810389, 0.04645644007625933, 0.048901515869746656, 0.19193844978875563, 0.18093560871806263, 0.21027651823991061, 0.039121212695797325, 0.1454820097124963, 0.13692424443529064, 0.07282290161067421, 0.106113370918411, 0.11651664257707875, 0.06241962995200647, 0.09571009925974326, 0.18933954418775298, 0.1144359882453452, 0.2413559024810917, 0.013469761556536402, 0.07745112895008432, 0.32832543794057484, 0.0016837201945670503, 0.05387904622614561, 0.023572082723938705, 0.27107895132529514, 0.22898594646111886, 0.05187081419306573, 0.012204897457191936, 0.21968815422945484, 0.19832958367936895, 0.3661469237157581, 0.057973262921661696, 0.0945879552932375, 0.01917707765825227, 0.25889054838640563, 0.08629684946213521, 0.009588538829126135, 0.18218223775339656, 0.37395301433591926, 0.04794269414563067, 0.018942763956607624, 0.7901838679042037, 0.1109504746029875, 0.07847716496308872, 0.023625325942876925, 0.9315128514620045, 0.030375419069413188, 0.013500186253072529, 0.012621763995087755, 0.00981692755173492, 0.030853200876881176, 0.9227911898630825, 0.011219345773411337, 0.0028048364433528343, 0.00981692755173492, 0.045995190661995665, 0.0766586511033261, 0.854196398008491, 0.02190247174380746, 0.6821809152154039, 0.3148527300994172, 0.05676806435028558, 0.37088468708853245, 0.5374043425160369, 0.03406083861017135, 0.05540608050921226, 0.3289736030234478, 0.05540608050921226, 0.034628800318257665, 0.053674640493299376, 0.14890384136850796, 0.10042352092294722, 0.21989288202093615, 0.010922768889017364, 0.36045137333757304, 0.013107322666820838, 0.05024473688947988, 0.22937814666936465, 0.3364212817817348, 0.1141961623528253, 0.5546670742851515, 0.08972555613436273, 0.035890222453745096, 0.20392171848718804, 0.11173391985170641, 0.01718983382333945, 0.30511955036427524, 0.17189833823339448, 0.06446187683752294, 0.3266068426434495, 0.08247162743947241, 0.06978368475647666, 0.7993403890287326, 0.006343971341497878, 0.019031914024493633, 0.025375885365991512, 0.2173863952714909, 0.07985622683442523, 0.6832143851389714, 0.017745828185427828, 0.02430532364232604, 0.06987780547168736, 0.8719534856684467, 0.030381654552907547, 0.036164293511487505, 0.003874745733373661, 0.009041073377871876, 0.02454005631136652, 0.613501407784163, 0.006457909555622769, 0.27510694706952993, 0.030997965866989288, 0.00928256667786009, 0.004641283338930045, 0.05569540006716054, 0.10210823345646099, 0.14852106684576144, 0.00928256667786009, 0.5151824506212349, 0.15780363352362153, 0.19213584124930652, 0.0494063591783931, 0.0768543364997226, 0.043916763714127206, 0.6367930738548444, 0.018490698596753882, 0.8228360875555477, 0.006163566198917961, 0.036981397193507765, 0.11710775777944125, 0.29273574369529576, 0.7007916288463141, 0.1811978636650504, 0.08565717191438746, 0.003294506612091825, 0.5501826042193348, 0.01647253306045913, 0.1416637843199485, 0.009883519836275476, 0.0131780264483673, 0.31102075511214017, 0.03455786167912668, 0.025918396259345014, 0.5702047177055902, 0.043197327098908354, 0.00863946541978167, 0.3172879801395967, 0.32244713428820804, 0.2618270730420249, 0.04901196441180762, 0.006448942685764161, 0.027085559280209476, 0.0038693656114584963, 0.011608096834375489, 0.03235384211272172, 0.794139760948624, 0.13823914357253825, 0.002941258373883793, 0.02058880861718655, 0.011765033495535171, 0.6831591375022082, 0.04360590239375797, 0.029070601595838647, 0.014535300797919324, 0.15988830877711258, 0.06783140372362352, 0.6686946317166166, 0.09440394800705175, 0.20454188734861212, 0.023600987001762937, 0.9475203145069965, 0.004947886759827658, 0.009895773519655315, 0.02226549041922446, 0.014843660279482973, 0.5455796131543352, 0.1052304891840706, 0.05828150170194679, 0.09551690556707947, 0.14732268485769884, 0.012951444822654843, 0.019427167233982263, 0.016189306028318553, 0.2840818255944673, 0.5397554686294879, 0.1515103069837159, 0.018938788372964487, 0.20424616027266004, 0.056343768351078634, 0.23241804444819938, 0.028171884175539317, 0.0704297104388483, 0.3803204363697808, 0.028171884175539317, 0.0972554013677342, 0.11441811925615789, 0.24599895640073943, 0.05720905962807894, 0.08009268347931052, 0.4061843233593605, 0.03464318859473983, 0.01847636725052791, 0.5796960224853132, 0.19631140203685904, 0.09007229034632357, 0.053119555845267744, 0.027714550875791864, 0.7634169217900576, 0.026553632062262873, 0.19915224046697153, 0.9211276664605789, 0.02349815475664742, 0.05169594046462432, 0.02271909781764393, 0.419382265120292, 0.43780315524270597, 0.009210445061206997, 0.1111393704052311, 0.08771141268251902, 0.011694855024335869, 0.3040662306327326, 0.11110112273119074, 0.4034724983395875, 0.08771141268251902, 0.208327184139027, 0.13364385397597958, 0.5581596254290913, 0.03144561270023049, 0.06682192698798979, 0.18976925244608978, 0.7138340092011853, 0.010682375137693795, 0.04272950055077518, 0.01508100019439124, 0.00879725011339489, 0.01885125024298905, 0.09946165792395326, 0.1912724190845255, 0.03060358705352408, 0.00765089676338102, 0.08926046223944524, 0.040804782738032105, 0.4590538058028612, 0.07905926655493721, 0.07409294425739692, 0.09658544519267813, 0.21169412644970548, 0.39428031051257645, 0.05292353161242637, 0.15744750654696846, 0.013230882903106592, 0.07878490286116976, 0.2314306521546862, 0.07878490286116976, 0.03446839500176178, 0.00984811285764622, 0.5662664893146577, 0.6794621239399767, 0.101601812925604, 0.03175056653925125, 0.15875283269625626, 0.03175056653925125, 0.0858498104783636, 0.2245302735587971, 0.4787777892062585, 0.20802069462065026, 0.17838045615469592, 0.212615089154082, 0.009009113947206866, 0.48288850757028795, 0.05405468368324119, 0.04144192415715158, 0.019820050683855103, 0.8823735841065975, 0.012255188668147187, 0.08987138356641271, 0.012255188668147187, 0.08514031917942717, 0.08303808907623143, 0.022073416083555192, 0.4214971356907444, 0.14190053196571195, 0.14925833732689703, 0.09775369979860157, 0.45917075542272867, 0.10072132699595339, 0.1540443824643993, 0.12293926677447252, 0.12590165874494175, 0.02962391970469217, 0.007405979926173043, 0.34324055293548117, 0.009534459803763365, 0.18115473627150394, 0.06102054274408554, 0.2688717664661269, 0.12204108548817108, 0.013348243725268712, 0.009907361732532724, 0.9015699176604778, 0.0561417164843521, 0.003302453910844241, 0.02641963128675393, 0.2183206465076347, 0.6231235119072074, 0.05458016162690867, 0.0288061964142018, 0.01819338720896956, 0.05609627722765614, 0.02123185490005078, 0.0382173388200914, 0.7516076634617975, 0.04034052431009648, 0.1443766133203453, 0.004246370980010156, 0.04433010318677066, 0.004666326651239016, 0.4456341951933261, 0.09799285967601934, 0.3126438856330141, 0.09332653302478033, 0.7146943613958433, 0.12322316575790403, 0.024644633151580806, 0.13308101901853633, 0.06136283854447421, 0.03272684722371958, 0.05727198264150927, 0.8099894687870596, 0.004090855902964948, 0.03681770312668453, 0.051853135293599216, 0.7481666663790745, 0.0074075907562284595, 0.1333366336121123, 0.0370379537811423, 0.014815181512456919, 0.07794478868568246, 0.5131365255140762, 0.11691718302852368, 0.05845859151426184, 0.025981596228560815, 0.20785276982848652, 0.15635006253264275, 0.7920753167927278, 0.044250017697917754, 0.00737500294965296, 0.014756929053202143, 0.6566833428674953, 0.27669241974754016, 0.022135393579803212, 0.025824625843103747, 0.0279832784101994, 0.843495963507439, 0.07595461282768408, 0.04797133441748468, 0.12763095245386752, 0.27778501416429985, 0.5255392159865133, 0.06006162468417295, 0.03817274937340025, 0.06753640273755428, 0.07340913341038509, 0.152690997493601, 0.21141830422190905, 0.2892319856369172, 0.016150009350284718, 0.14975463215718557, 0.21318042074464882, 0.09091517943521789, 0.03448506806163437, 0.4341983569578509, 0.045457589717608944, 0.09561768871634985, 0.07053763921697939, 0.01567503093710653, 0.02412287372126506, 0.34929921148391807, 0.5866682889011663, 0.03184219331206988, 0.00771931959080482, 0.07900792462240598, 0.6241626045170072, 0.13431347185809017, 0.07110713216016538, 0.08690871708464658, 0.4526438391993773, 0.183886559674747, 0.2333944795871789, 0.01414511997498054, 0.11551847979567441, 0.13745394091329577, 0.14940645751445192, 0.13745394091329577, 0.041833808104046535, 0.44821937254335575, 0.08366761620809307, 0.10372976623097341, 0.010372976623097342, 0.3008163220698229, 0.020745953246194684, 0.16596762596955747, 0.394173111677699, 0.14092108445019236, 0.836985834916294, 0.017081343569720287, 0.014031768177124006, 0.12979385563839707, 0.056127072708496026, 0.48058806006649724, 0.05963501475277703, 0.25607976923251313, 0.5933189590590053, 0.23822655174338853, 0.06442604858468998, 0.08390369118006137, 0.001498280199643953, 0.001498280199643953, 0.01498280199643953, 0.06725635598384114, 0.1552069753473257, 0.28971968731500797, 0.04138852675928685, 0.4501002285072445, 0.06605277914799339, 0.09038801357093831, 0.020858772362524227, 0.03476462060420704, 0.7822039635946585, 0.006952924120841409, 0.22133379835621475, 0.6532046244171216, 0.005398385325761336, 0.05398385325761336, 0.04858546793185202, 0.016195155977284006, 0.010598571686618964, 0.6677100162569948, 0.10598571686618964, 0.03179571505985689, 0.1165842885528086, 0.05299285843309482, 0.010598571686618964, 0.3460340817307887, 0.0943729313811242, 0.05662375882867452, 0.4970307719405874, 0.24688399060366104, 0.11270790875384526, 0.005367043273992631, 0.6333111063311305, 0.014512840173610065, 0.09836480562113488, 0.5934139093209448, 0.16931646869211742, 0.08062688985338924, 0.008062688985338925, 0.03708836933255905, 0.02189570197061043, 0.6043213743888479, 0.2233361601002264, 0.03612790825150721, 0.048170544335342944, 0.006568710591183129, 0.06021318041917868, 0.6970893937089345, 0.06689241656802908, 0.038727188539385254, 0.0633717630644486, 0.13378483313605816, 0.0035206535035804776, 0.04817983147138096, 0.14316292780067486, 0.19960215895286398, 0.005506266453872109, 0.016518799361616328, 0.04955639808484899, 0.05093296469831701, 0.4859280145542137, 0.09074697375228451, 0.3856746384472092, 0.04159236296979707, 0.190946757270432, 0.007562247812690376, 0.00945280976586297, 0.24199193000609204, 0.030248991250761505, 0.06920431128523954, 0.7581017736246696, 0.1289716710315828, 0.018873903077792603, 0.022019553590758037, 0.003145650512965434, 0.16155882707320324, 0.004142534027518032, 0.07456561249532458, 0.6835181145404752, 0.004142534027518032, 0.05385294235773441, 0.016570136110072128, 0.93562139554762, 0.05209473249151559, 0.01041894649830312, 0.1647781874832385, 0.042985614126062215, 0.4871702934287051, 0.17194245650424886, 0.11104616982566072, 0.017910672552525923, 0.00716426902101037, 0.14688662652775764, 0.0032401461734064187, 0.546504654581216, 0.018360828315969704, 0.28297276581082725, 0.0010800487244688062, 0.0010800487244688062, 0.08706686973584023, 0.8457924488624479, 0.022388623646358914, 0.03233912304474065, 0.012438124247977175, 0.09907913872118519, 0.1486187080817778, 0.08764693040720228, 0.6592573461063477, 0.003810736104660969, 0.11379661499416498, 0.05689830749708249, 0.6045445171565015, 0.007112288437135311, 0.09245974968275905, 0.1209089034313003, 0.008367617032728316, 0.008367617032728316, 0.6777769796509936, 0.05857331922909821, 0.09204378736001147, 0.15061710658910968, 0.33943911974964475, 0.00732602416725852, 0.05372417722656248, 0.29548297474609364, 0.07570224972833804, 0.22954875724076695, 0.15577815337351703, 0.08265779566758047, 0.050866335795434134, 0.6262917594812828, 0.006358291974429267, 0.0762995036931512, 0.06477424525666504, 0.004318283017111003, 0.5073982545105428, 0.11875278297055257, 0.29364324516354817, 0.010795707542777507, 0.033409697983912516, 0.3424494043351033, 0.0835242449597813, 0.5429075922385784, 0.15182791654541267, 0.31963771904297406, 0.5114203504687584, 0.0159818859521487, 0.16089433542941903, 0.5631301740029666, 0.11757662973688314, 0.11138838606652086, 0.043317705692535895, 0.11622530561016055, 0.12306208829311117, 0.07520460951245683, 0.07520460951245683, 0.1298988709760618, 0.11622530561016055, 0.3623494821963829, 0.026709632968110554, 0.18162550418315176, 0.08012889890433166, 0.13354816484055276, 0.5822699987048101, 0.013956250177738244, 0.12261562656155744, 0.43463750553527675, 0.12959375165042655, 0.019937500253911777, 0.2262906278818987, 0.05183750066017062, 0.13731930191789687, 0.6141917867600478, 0.044940862445857155, 0.02871221767374207, 0.17477002062277783, 0.04345829224147721, 0.13037487672443163, 0.7735576018982944, 0.04345829224147721, 0.16823764969431027, 0.0672950598777241, 0.01922715996506403, 0.5479740590043248, 0.03845431993012806, 0.13939690974671423, 0.009613579982532015, 0.007495586255841834, 0.05246910379089284, 0.10493820758178568, 0.07495586255841834, 0.7345674530724997, 0.022486758767525504, 0.06882705323823718, 0.0994168546774537, 0.7379789597210986, 0.09176940431764957, 0.018606909004228442, 0.04798623901090493, 0.6992280541589003, 0.03917244000890198, 0.12437249702826379, 0.07051039201602356, 0.07886250205689792, 0.006857608874512862, 0.013715217749025723, 0.0445744576843336, 0.0994353286804365, 0.006857608874512862, 0.7371929540101326, 0.010286413311769292, 0.02539451883904586, 0.18791943940893935, 0.33520764867540537, 0.015236711303427516, 0.4367857240315888, 0.289491595280248, 0.03573970312101827, 0.4860599624458485, 0.17155057498088772, 0.007147940624203654, 0.010721910936305482, 0.0022862171448316576, 0.025148388593148236, 0.8024622178359119, 0.05715542862079144, 0.025148388593148236, 0.0022862171448316576, 0.086876251503603, 0.04115625070329705, 0.43508036457771165, 0.05291517947566764, 0.47035715089482344, 0.12279903555017595, 0.32588974819085154, 0.5100883015161155, 0.03778431863082337, 0.6953949421946268, 0.2285563796024298, 0.06808062371136207, 0.5003329571423437, 0.007858632834696498, 0.01964658208674125, 0.3536384775613425, 0.02881498706055383, 0.08251564476431324, 0.006548860695580415, 0.03950937868632987, 0.20883528734202933, 0.4995114305343134, 0.028220984775949913, 0.05079777259670984, 0.1580375147453195, 0.014110492387974957, 0.7974684653872401, 0.026185531699282512, 0.11426413832414187, 0.009522011527011823, 0.042849051871553204, 0.009522011527011823, 0.22589473488462228, 0.09301547907013859, 0.02657585116289674, 0.4840601461813335, 0.07593100332256211, 0.015186200664512421, 0.036067226578217, 0.04176205182740916, 0.06436367000840458, 0.2655001387846689, 0.33790926754412404, 0.008045458751050573, 0.32382971472978556, 0.14704060413026476, 0.15569005143204503, 0.02594834190534084, 0.5362657327103774, 0.02594834190534084, 0.09514392031958308, 0.02594834190534084, 0.6219084365484859, 0.053786675593382564, 0.12606252092199038, 0.08908418145153987, 0.013446668898345641, 0.04706334114420974, 0.04202084030733013, 0.0067233344491728205, 0.005785633435763741, 0.07135614570775281, 0.8138457699640996, 0.03857088957175828, 0.01542835582870331, 0.005785633435763741, 0.048213611964697846, 0.09323717472475444, 0.03243032164339285, 0.21079709068205352, 0.16620539842238835, 0.41348660095325884, 0.036484111848816954, 0.05269927267051338, 0.23806087235099282, 0.03204665589340288, 0.03662474959246044, 0.585995993479367, 0.059515218087748206, 0.0503590306896331, 0.08266197729339948, 0.13336132336668452, 0.04739286698154904, 0.48054162799896233, 0.07164038032094622, 0.16311963519230832, 0.009919437275207938, 0.011021596972453265, 0.08714969615306271, 0.5928094716345695, 0.14939947911953608, 0.16184943571283075, 0.008619200718434774, 0.46197518097805307, 0.08326296866464909, 0.004028853322483021, 0.07251935980469437, 0.20412856833913973, 0.08460591977214343, 0.03760263100984153, 0.04968919097729059, 0.12044665129794785, 0.43661911095506095, 0.43661911095506095, 0.040373705097904763, 0.012112111529371429, 0.6580913930958476, 0.07671003968601904, 0.15342007937203808, 0.06459792815664762, 0.10104807109178895, 0.026748018818414723, 0.05349603763682945, 0.4041922843671558, 0.34475224254845643, 0.06538404600056932, 0.3364367045164629, 0.10037338145795026, 0.1366193247622101, 0.28625001378748777, 0.012081981101419939, 0.1124553625593702, 0.007435065293181501, 0.007435065293181501, 0.004137202426316099, 0.21237639121755975, 0.16824623200352135, 0.06481617134561889, 0.4344062547631904, 0.11446260046141207, 0.047629666733557355, 0.04167595839186268, 0.5596485841192989, 0.20242608361761874, 0.10121304180880937, 0.047629666733557355, 0.6686779128124555, 0.053330140285655955, 0.02256275165931598, 0.14563230616467587, 0.07794405118672794, 0.01230695545053599, 0.008204636967023993, 0.01128137582965799, 0.24487070169888972, 0.02959975515041524, 0.06727217079639827, 0.08072660495567792, 0.4816687429022116, 0.051126849805262685, 0.043054189309694894, 0.1369146256673219, 0.443935301406165, 0.09127641711154794, 0.3298397800167301, 0.11202736350871621, 0.021966149707591417, 0.8632696835083427, 0.7645327320904004, 0.12105101591431339, 0.10830880371280673, 0.0266491747678678, 0.008883058255955933, 0.8083583012919899, 0.0532983495357356, 0.11547975732742713, 0.06409249382537821, 0.7994695282428755, 0.05734591552796997, 0.014167814424557288, 0.06409249382537821, 0.0006746578297408232, 0.5137015863608237, 0.15198271785823186, 0.06079308714329275, 0.04407498817888725, 0.009118963071493912, 0.1215861742865855, 0.06535256867903971, 0.03495602510739333, 0.6352283188044676, 0.015782070032409133, 0.01183655252430685, 0.22094898045372785, 0.053264486359380823, 0.06115552137558539, 0.6960688753952671, 0.07231884419691087, 0.126557977344594, 0.09943841077075244, 0.719761355144938, 0.2509694198860639, 0.014205816219965882, 0.014205816219965882, 0.12884893227469155, 0.45720588871664747, 0.40732888267483136, 0.48323231564683433, 0.21269684935806607, 0.18471042181095212, 0.07463047345897056, 0.03171795122006248, 0.013060332855319847, 0.19510160895443687, 0.047093491816588215, 0.05382113350467224, 0.09418698363317643, 0.05382113350467224, 0.4911178432301342, 0.060548775192756275, 0.036035405779928024, 0.004367927973324609, 0.020747657873291893, 0.46190838317907734, 0.06770288358653144, 0.3559861298259556, 0.013103783919973825, 0.040403333753252633, 0.13228925672665393, 0.5795529342310554, 0.08189334940221434, 0.20788311771331333, 0.13464829566121864, 0.4479116774036457, 0.14014414446371737, 0.17037131287746032, 0.00274792440124936, 0.0824377320374808, 0.01099169760499744, 0.01099169760499744, 0.1343572841295422, 0.7418858732370375, 0.029208105245552656, 0.07302026311388164, 0.02044567367188686, 0.1644715531810575, 0.050056559663800106, 0.12156593061208597, 0.5291693450173154, 0.035754685474142935, 0.10011311932760021, 0.1429890595866033, 0.016248756771204922, 0.8189373412687281, 0.019498508125445905, 0.07946942801323499, 0.3612246727874318, 0.05779594764598909, 0.14448986911497272, 0.35400017933168315, 0.011633141443070556, 0.682477631326806, 0.26756225319062277, 0.03877713814356852, 0.11798600230301995, 0.026219111622893324, 0.09176689068012663, 0.5309370103635898, 0.026219111622893324, 0.17697900345452994, 0.026219111622893324, 0.1431012317152523, 0.7892927311794384, 0.060370832129872064, 0.004471913491101634, 0.14328381238678692, 0.6140734816576582, 0.11769741731771782, 0.12281469633153164, 0.053140325331707455, 0.19621043199399674, 0.16350869332833062, 0.053140325331707455, 0.008175434666416532, 0.4864383626517836, 0.03678945599887439, 0.9975472152756074, 0.001408964993327129, 0.006005487701875025, 0.24422316654291767, 0.7306676703947947, 0.018016463105625075, 0.023842473110936447, 0.1377565113076328, 0.19868727592447039, 0.15762523890007984, 0.0026491636789929386, 0.47949862589772185, 0.020433688399489284, 0.20433688399489283, 0.48297808944247395, 0.07801953752532272, 0.016718472326854868, 0.196906451849624, 0.16725119236951932, 0.5872797550247894, 0.007602326925887241, 0.22997038950808907, 0.005701745194415431, 0.17476036409407955, 0.08974180858885165, 0.12280458017421805, 0.06140229008710903, 0.07084879625435657, 0.37313699360627794, 0.10863482092334674, 0.01562418816694491, 0.9831219938893028, 0.016915970107603987, 0.005638656702534663, 0.016915970107603987, 0.9585716394308926, 0.0024165671582291413, 0.9980647236730333, 0.008371018285186204, 0.004185509142593102, 0.9856874030806755, 0.5585475160825609, 0.23492556470425308, 0.028766395678071807, 0.08869638667405473, 0.08629918703421542, 0.32177691270132885, 0.002762033585419132, 0.3466352149701011, 0.06214575567193047, 0.02347728547606262, 0.24167793872417404, 0.5545323435529099, 0.3716136885614987, 0.051987407208085305, 0.0211800547884792, 0.04887168678930298, 0.006108960848662873, 0.012217921697325745, 0.13846977923635845, 0.5192616721363441, 0.05701696792085348, 0.1853051457427738, 0.03461744480908961, 0.6929332003204979, 0.25897503446321635, 0.017498313139406512, 0.0069993252557626045, 0.024497638395169115, 0.1268684234177764, 0.542996852228083, 0.010149473873422112, 0.3146336900760855, 0.09517514114199335, 0.05463758102595915, 0.1603877378503962, 0.03525005227481235, 0.35250052274812355, 0.1991627953526898, 0.049350073184737296, 0.05463758102595915, 0.4222796826678781, 0.0810776990722326, 0.09290153018693319, 0.06249739303484596, 0.07601034288021806, 0.18411394164319486, 0.07938858034156109, 0.6691355335292533, 0.017305229315411723, 0.1557470638387055, 0.06922091726164689, 0.04037886840262735, 0.04614727817443126, 0.00537228893214193, 0.02148915572856772, 0.01611686679642579, 0.06446746718570316, 0.026861444660709652, 0.8703108070069927, 0.0972359451852508, 0.009115869861117263, 0.5347976985188794, 0.1428152944908371, 0.0030386232870390877, 0.21270363009273613, 0.4334660213621122, 0.1427888070369311, 0.12409027278209488, 0.10879147202813796, 0.03739706850967243, 0.10029213827593969, 0.039096935260112084, 0.013598934003517246, 0.6274930353269861, 0.15731515533549792, 0.12373102105039162, 0.031816548270100706, 0.010605516090033568, 0.02651379022508392, 0.008837930075027972, 0.014140688120044757, 0.14493998434248034, 0.1642653155881444, 0.10628932185115225, 0.5121212780100972, 0.06763865935982416, 0.4394339252901201, 0.5577430590220754, 0.39732827991322306, 0.13053436285333553, 0.1763358936790673, 0.06526718142666776, 0.19122139119743012, 0.0034351148119298827, 0.018320612330292706, 0.01603053578900612, 0.8248373422643048, 0.013189280995616191, 0.005072800382929304, 0.11058704834785883, 0.014203841072202052, 0.020291201531717217, 0.010145600765858609, 0.1371349002424067, 0.5967221334872291, 0.10748411100080525, 0.1575198178460077, 0.04854657613825509, 0.037758448107531734, 0.059334704168978444, 0.3937666731214024, 0.3883726091060407, 0.07012283219970179, 0.010573499358918466, 0.0158602490383777, 0.08987474455080696, 0.13216874198648082, 0.042293997435673865, 0.0158602490383777, 0.6872774583297002, 0.7050684750529547, 0.045982726633888346, 0.2196952494730221, 0.030655151089258897, 0.017349472911327296, 0.9802452194899922, 0.6696583747237057, 0.24532039470076347, 0.053042247502867776, 0.026521123751433888, 0.8164826256003289, 0.08303213141698261, 0.00691934428474855, 0.020758032854245653, 0.06573377070511123, 0.00691934428474855, 0.02927796276824803, 0.4711090372709001, 0.09049552128367573, 0.14106654788337686, 0.10513450266779974, 0.0545634760680986, 0.10779613564673138, 0.03952171665534383, 0.007352877517273271, 0.038602606965684676, 0.8051400881414232, 0.018382193793183177, 0.04319815541398047, 0.047793703862276264, 0.06469327692431347, 0.05606750666773834, 0.16820252000321503, 0.2717117630821166, 0.43128851282875647, 0.6682999533205505, 0.08910666044274006, 0.053463996265644034, 0.053463996265644034, 0.04455333022137003, 0.08019599439846606, 0.008910666044274006, 0.07257309551572841, 0.004398369425195661, 0.1385486368936633, 0.004398369425195661, 0.6641537832045448, 0.0505812483897501, 0.05937798724014142, 0.004398369425195661, 0.6849076213219848, 0.3060225542076953, 0.4570053609752103, 0.0860594510927344, 0.09941350384850353, 0.20772970953418649, 0.0816081001741447, 0.028191889151068166, 0.0074189181976495175, 0.031159456430127973, 0.08782795324153589, 0.5949100983719129, 0.2850265652366825, 0.01822844312560179, 0.0016571311932365262, 0.011599918352655683, 0.20909758298016662, 0.7169059987891426, 0.004978513880480157, 0.04978513880480157, 0.024892569402400786, 0.6798411719898078, 0.09560266481106672, 0.09560266481106672, 0.12747021974808895, 0.0035408394374469155, 0.1931597827993568, 0.5794793483980705, 0.17384380451942114, 0.0482899456998392, 0.025371501338965693, 0.012685750669482847, 0.03171437667370712, 0.13320038202956988, 0.06342875334741424, 0.5772016554614695, 0.15222900803379416, 0.08896165751881556, 0.05262520585620075, 0.16288754193585947, 0.02881856511172898, 0.18920014486395983, 0.04260135712168632, 0.33955787588167624, 0.09397358188607277, 0.1699737190875236, 0.3031963637777448, 0.1883492562861748, 0.3353535538753844, 0.03912085337551544, 0.007824170675103088, 0.5946369713078348, 0.15648341350206177, 0.17995592552737102, 0.023472512025309266, 0.03147369241674926, 0.08183160028354808, 0.006294738483349852, 0.8749686491856294, 0.7352366997206294, 0.10161808044919268, 0.14943835360175395, 0.011955068288140316, 0.6499528307111283, 0.1343652486566275, 0.046871598368590985, 0.07186978416517284, 0.03124773224572732, 0.034372505470300053, 0.03124773224572732, 0.09993048164176872, 0.08455656138918892, 0.2690436044201465, 0.11530440189434853, 0.023060880378869705, 0.41509584681965467, 0.003870240336460686, 0.011610721009382059, 0.11417208992559025, 0.007740480672921372, 0.005805360504691029, 0.857258234526042, 0.14663571444489984, 0.09298850184310721, 0.7582139381053358, 0.3367670331909137, 0.022754529269656334, 0.04550905853931267, 0.17293442244938814, 0.4141324327077453, 0.0136527175617938, 0.1165295674245381, 0.06905455847380035, 0.028053414379981392, 0.3258511977982454, 0.4596444048412336, 0.02991309626631147, 0.016826116649800202, 0.8356971269400767, 0.08039144621571208, 0.03552180181624487, 0.5119945425434179, 0.0932163976913288, 0.07930350251351855, 0.10573800335135805, 0.01391289517781027, 0.1864327953826576, 0.001391289517781027, 0.008347737106686163, 0.18102448465612364, 0.16979816002628653, 0.08840730645996736, 0.1866376469710422, 0.0378888456257003, 0.20628371507325718, 0.08139085356631916, 0.04771187967680778, 0.02182124123518463, 0.8673943390985891, 0.005455310308796158, 0.09819558555833084, 0.10308661589705817, 0.007363329706932726, 0.11781327531092362, 0.24298988032877997, 0.11781327531092362, 0.4123464635882327, 0.060366530719648696, 0.08300397973951695, 0.09432270424945109, 0.17544022990397903, 0.23392030653863868, 0.060366530719648696, 0.2508983933035399, 0.03961553578476946, 0.049910408589586466, 0.0045373098717805885, 0.92561121384324, 0.013611929615341764, 0.5933501916228219, 0.33183658864831894, 0.0461494593484417, 0.01758074641845398, 0.0021975933023067476, 0.00879037320922699, 0.06229876862523775, 0.0027688341611216776, 0.017997422047290906, 0.2962652552400195, 0.5177719881297538, 0.03876367825570349, 0.06229876862523775, 0.043975923849193105, 0.1636881609942188, 0.7549200260778149, 0.017101748163575098, 0.021987961924596552, 0.19606008379647955, 0.5467591069253936, 0.01656845778561799, 0.048324668541385805, 0.0027614096309363317, 0.027614096309363317, 0.030375505940299648, 0.1297862526540076, 0.15985946528352907, 0.5726309204186115, 0.07157886505232644, 0.07396482722073733, 0.0322104892735469, 0.005964905421027204, 0.06799992179971012, 0.01550875409467073, 0.07418838632189294, 0.12023635024582648, 0.04093152348794093, 0.473270740329317, 0.033256862833952, 0.09977058850185601, 0.1560514332977748, 0.08436705390189511, 0.6758061946574485, 0.13568309699686226, 0.04087888178751619, 0.03479053769150314, 0.025223139826339776, 0.001739526884575157, 0.038181929209587705, 0.00372506626435002, 0.6155672001838408, 0.12199592015746316, 0.1322398523844257, 0.08847032377831297, 0.021512502810269663, 0.4400284665736977, 0.3578898194799408, 0.0019556820736608784, 0.02933523110491318, 0.03324659525223494, 0.09778410368304392, 0.019556820736608787, 0.030111770736872948, 0.8130178098955696, 0.15055885368436475, 0.025450092794487778, 0.4467905179476743, 0.3101140936809807, 0.02073711264736041, 0.07069470220691049, 0.05844095382437934, 0.06598172205978313, 0.07335688941044786, 0.6846643011641801, 0.23637219921144312, 0.39683575282656103, 0.04960446910332013, 0.20117368025235385, 0.0027558038390733406, 0.3499870875623143, 0.1471149152375845, 0.1249685839114965, 0.1787525314177102, 0.06011147074223882, 0.01898256970807542, 0.10914977582143365, 0.12813234552950906, 0.23253647892392387, 0.76158983111757, 0.13154733446576208, 0.07615898311175699, 0.027694175677002546, 0.9147437316989853, 0.0805434732313572, 0.005753105230811228, 0.031342253462970066, 0.09237716810138547, 0.13691615986455347, 0.03794062261306903, 0.1996006667904936, 0.09072757581386072, 0.2507380277037605, 0.16001045188989982, 0.08694694602489175, 0.19321543561087057, 0.3091446969773929, 0.4057524147828282, 0.08451019734418157, 0.20381871124184966, 0.12179410793720286, 0.0770534152255773, 0.0571686629092993, 0.08948138542325107, 0.30324247282323974, 0.06462544502790356, 0.10001927310417848, 0.027783131417827355, 0.5612192546401126, 0.027783131417827355, 0.005556626283565471, 0.022226505134261883, 0.25004818276044616, 0.20485011358714966, 0.66007258822526, 0.03983196653083466, 0.09104449492762208, 0.01538962151307332, 0.29477044282732745, 0.2379472249329029, 0.007102902236803071, 0.027227791907745106, 0.14087422769659425, 0.27582937019585263, 0.15172142465428556, 0.05579433035673727, 0.062646265663705, 0.17717147008016573, 0.07047704887166813, 0.420904597428018, 0.014682718514930861, 0.046984699247778754, 0.03246737018386582, 0.09018713939962728, 0.09379462497561236, 0.09018713939962728, 0.057719769215761454, 0.5844126633095847, 0.025252399031895637, 0.021644913455910547, 0.6715070199335401, 0.07748157922310078, 0.00860906435812231, 0.17218128716244618, 0.06887251486497847, 0.286202482113312, 0.030664551654997717, 0.13287972383832344, 0.13287972383832344, 0.05110758609166286, 0.3679746198599726, 0.0628235620762614, 0.1570589051906535, 0.32533630360921084, 0.05384876749393834, 0.3881598656854722, 0.011218493227903822, 0.08661472041222193, 0.35367677501657285, 0.08661472041222193, 0.4691630688995354, 0.021862137994772986, 0.06260521334866809, 0.1401164298755905, 0.1589973672347126, 0.24743965275902152, 0.08645481843387498, 0.2842077939320488, 0.24019218241207846, 0.16985018613425548, 0.11494911586863754, 0.03602882736181177, 0.037744485807612325, 0.05833238715721905, 0.33283773848530873, 0.006862633783202242, 0.01396710431228451, 0.8543212137680692, 0.00931140287485634, 0.109408983779562, 0.00931140287485634, 0.17386198582232643, 0.6647664163794834, 0.056249466001340905, 0.07159022945625206, 0.020454351273214873, 0.010227175636607437, 0.560737823465925, 0.12385775217118826, 0.029275468695008133, 0.17790477130043403, 0.03603134608616386, 0.009007836521540965, 0.06305485565078675, 0.038395350792318636, 0.7267691399974598, 0.19471927901818736, 0.021940200452753505, 0.016455150339565128, 0.00900613937281061, 0.24766883275229182, 0.6259266864103374, 0.11257674216013264, 0.004503069686405305, 0.050222692906308666, 0.050222692906308666, 0.8717224554452147, 0.014349340830373904, 0.014349340830373904, 0.5475337986387044, 0.1657500274790636, 0.10056743240302735, 0.0018623598593153212, 0.09777389261405436, 0.08380619366918945, 0.002793539788972982, 0.11781936221932601, 0.5498236903568547, 0.006042018575350052, 0.3232479937812278, 0.016927885184732008, 0.06155594612629821, 0.2200625074015161, 0.5663147043619435, 0.1338841828246986, 0.02048288808408731, 0.09012470756998417, 0.6144866425226193, 0.07783497471953178, 0.0327726209345397, 0.04915893140180954, 0.11060759565407147, 0.07114042713128753, 0.18970780568343343, 0.3636066275599141, 0.3636066275599141, 0.06687890207060129, 0.019108257734457512, 0.014331193300843134, 0.6974514073076992, 0.07643303093783005, 0.12420367527397382, 0.0304659166282463, 0.0609318332564926, 0.020310611085497535, 0.08632009711336452, 0.6143959853363005, 0.17771784699810342, 0.10260987972305315, 0.036939556700299137, 0.18469778350149565, 0.16828020274580716, 0.455587865970356, 0.053357137455987635, 0.13654789251967298, 0.6617320945184152, 0.039388815149905665, 0.09978499837976101, 0.06039618322985535, 0.04152302038532741, 0.8870827082319946, 0.00943705008757441, 0.04341043040284229, 0.01887410017514882, 0.010069409356514474, 0.21481406627230876, 0.631016319674907, 0.03020822806954342, 0.0839117446376206, 0.0033564697855048243, 0.026851758284038595, 0.041537291448563746, 0.2729593438048475, 0.07714068411876125, 0.6052576753933575, 0.0818142779907372, 0.1051897859880907, 0.7090570759197224, 0.10129386798853178, 0.0249966820866477, 0.1166511830710226, 0.6915748710639197, 0.06665781889772719, 0.0749900462599431, 0.0249966820866477, 0.007331067784383647, 0.10556737609512451, 0.3064386333872364, 0.29177649781846915, 0.016128349125644023, 0.1656821319270704, 0.08943902696948049, 0.017594562682520753, 0.5333921708470526, 0.016755775000430972, 0.44682066667815923, 0.15379144271850728, 0.018590174394544835, 0.14196133174016057, 0.06422060245388217, 0.31772298056131176, 0.016900158540495307, 0.22477210858858757, 0.06422060245388217, 0.0729423640604612, 0.014588472812092239, 0.911779550755765, 0.028478646618407988, 0.6692481955325877, 0.2847864661840799, 0.014239323309203994, 0.44827828231345473, 0.45396468758592984, 0.021797886877821266, 0.02274562108990045, 0.0009477342120791855, 0.05022991324019683, 0.001895468424158371, 0.05478170370503201, 0.013695425926258003, 0.6710758703866422, 0.08217255555754802, 0.027390851852516006, 0.08902026852067702, 0.06847712963129002, 0.29959078304617937, 0.04993179717436323, 0.09986359434872646, 0.4410642083735419, 0.10818556054445366, 0.008930094402300201, 0.7769182130001175, 0.09823103842530222, 0.11609122722990262, 0.09221472799984322, 0.010582017967195123, 0.052910089835975616, 0.3900229479337631, 0.08163271003264809, 0.13151936616371082, 0.09070301114738677, 0.14814825154073172, 0.3060793527819179, 0.06121587055638358, 0.5437409678831717, 0.06481680411852378, 0.018004667810701053, 0.007201867124280421, 0.11259262354451757, 0.14074077943064697, 0.6145680701804918, 0.13135806080193718, 0.2878307150735432, 0.024848694826492938, 0.04348521594636264, 0.09939477930597175, 0.39861447950832424, 0.035202317670865, 0.10974840215034382, 0.0010353622844372057, 0.40487776037385403, 0.09062245900064603, 0.0599277551455885, 0.002923305129053098, 0.3113319962441549, 0.039464619242216815, 0.08916080643611948, 0.002923305129053098, 0.6736306181615054, 0.13841725030715865, 0.00922781668714391, 0.06459471681000736, 0.06459471681000736, 0.05536690012286346, 0.4536220233479999, 0.006670912108058822, 0.013341824216117643, 0.0933927695128235, 0.38691290226741165, 0.04002547264835293, 0.18082683446463793, 0.638921481775054, 0.1326063452740678, 0.030137805744106322, 0.006027561148821264, 0.012055122297642528, 0.8849192387791552, 0.02528340682226158, 0.08217107217235013, 0.11691281716894919, 0.02822033517871187, 0.38903747782081366, 0.014110167589355935, 0.4152420747724747, 0.03829902631396611, 0.30437978226024315, 0.003419997553485878, 0.11969991437200574, 0.5642995963251699, 0.003419997553485878, 0.6608067845766654, 0.06311076032473771, 0.04826116966009354, 0.12622152064947542, 0.09280994165402603, 0.007424795332322083, 0.06520831809515208, 0.7009894195228848, 0.09781247714272812, 0.03260415904757604, 0.0937369572617811, 0.012226559642841014, 0.24482693750414317, 0.0972106957737039, 0.13321465717137201, 0.025202772978367677, 0.49685466728781996, 0.06913378440301353, 0.29189820081272383, 0.5607518068244431, 0.07681531600334837, 0.166303439329644, 0.5122145931353035, 0.11308633874415792, 0.07816261648493268, 0.0498910317988932, 0.05654316937207896, 0.02328248150615016, 0.7758627131075299, 0.18488643376179434, 0.0396185215203845, 0.20260655586637485, 0.08808980689842386, 0.03523592275936954, 0.2906963627647987, 0.38759515035306497, 0.6718446919237057, 0.08298319235162159, 0.011170814355025984, 0.14841224785963095, 0.07181237799659561, 0.012766644977172554, 0.02686908833005836, 0.2176396154734727, 0.5938068520942897, 0.05373817666011672, 0.016121452998035014, 0.08866799148919258, 0.3016739475258572, 0.004502596231729212, 0.4164901514349521, 0.148585675647064, 0.09680581898217806, 0.027015577390375273, 0.002251298115864606, 0.002251298115864606, 0.14370760453046202, 0.06158897337019801, 0.1474402695832013, 0.2444895609544224, 0.2650192187444884, 0.07092063600204619, 0.06718797094930692, 0.13304054601045037, 0.03955259475986363, 0.665202730052252, 0.025169833029004128, 0.04674397562529338, 0.09348795125058676, 0.20505128557150834, 0.5005289144695825, 0.09679439567350705, 0.008915273285717755, 0.18212629712251985, 0.003820831408164752, 0.002547220938776501, 0.06053029158674991, 0.04323592256196423, 0.03458873804957138, 0.13835495219828553, 0.12970776768589268, 0.37182893403289236, 0.22482679732221397, 0.07110490682631244, 0.08295572463069785, 0.7169744771653171, 0.12443358694604678, 0.05583738181829964, 0.76776400000162, 0.17100198181854265, 0.16426765157415393, 0.20337899718704774, 0.046933614735472556, 0.07040042210320883, 0.46933614735472556, 0.01564453824515752, 0.023466807367736278, 0.4867466918250578, 0.18282680619770464, 0.15670869102660398, 0.011871870532318482, 0.022556554011405116, 0.009497496425854787, 0.1305905758555033, 0.859165616721691, 0.14029413235075713, 0.9598616883915397, 0.013911038962196228, 0.023185064936993714, 0.26650031034684357, 0.7165897233770683, 0.011844458237637492, 0.6867839473278434, 0.01981107540368779, 0.18160152453380474, 0.10896091472028284, 0.2572540937532934, 0.6650959497036365, 0.015686225228859353, 0.034509695503490576, 0.025097960366174964, 0.027576758107106306, 0.47064333836128097, 0.15259139485932155, 0.020222955945211292, 0.1948757572902179, 0.11582238404984649, 0.018384505404737538, 0.19902156300609336, 0.2008308499425124, 0.34557380485603484, 0.09227363375737056, 0.041613599537637706, 0.041613599537637706, 0.08141791213885638, 0.0041422818487312565, 0.07870335512589387, 0.7994603968051325, 0.041422818487312565, 0.0662765095797001, 0.01242684554619377, 0.02365808871998003, 0.739315272499376, 0.028586857203309207, 0.18827895606317444, 0.019715073933316694, 0.011458194576790388, 0.010185061846035902, 0.03692084919188014, 0.17823858230562825, 0.37048162464955586, 0.05347157469168848, 0.1947893078054366, 0.14641026403676607, 0.061529085722611156, 0.044748425980080844, 0.08390329871265158, 0.16780659742530316, 0.044748425980080844, 0.46426491954333876, 0.03356131948506063, 0.09509040520767179, 0.3951073442044074, 0.40253417398268576, 0.2020097699691707, 0.01928545547203022, 0.3644951084213712, 0.07328473079371484, 0.0038570910944060437, 0.4917791145367706, 0.013499818830421154, 0.034713819849654395, 0.7214023998349356, 0.004007791110194087, 0.028054537771358603, 0.10019477775485215, 0.012023373330582258, 0.13225710663640486, 0.02287250142747626, 0.0030496668569968345, 0.939297391955025, 0.03202150199846676, 0.31109801284538835, 0.08404069541320917, 0.0575015284406168, 0.3302651889922606, 0.04865513944975268, 0.1076310660555135, 0.051603935780040716, 0.010320787156008144, 0.30935569490084436, 0.03256375735798362, 0.06512751471596724, 0.49931094615574884, 0.07598210050196177, 0.002713646446498635, 0.013568232232493174, 0.38986962437141875, 0.12299458387907854, 0.11023099498596661, 0.22278264249795357, 0.04293207173137647, 0.04525272425739682, 0.04409239799438664, 0.02204619899719332, 0.14849833310945385, 0.004499949488165267, 0.01799979795266107, 0.8009910088934177, 0.01799979795266107, 0.008999898976330535, 0.0345584109559426, 0.011519470318647534, 0.3859022556746924, 0.4319801369492825, 0.13247390866444664, 0.13350260892639548, 0.0654424553560762, 0.09031058839138517, 0.3612423535655407, 0.1308849107121524, 0.09947253214123584, 0.12041411785518023, 0.08031323312521986, 0.19475959032865817, 0.4798715679231887, 0.008031323312521986, 0.2349162068912681, 0.39003733238916866, 0.025163698863817332, 0.132109419035041, 0.04403647301168033, 0.40891010653703164, 0.23230744307801757, 0.2288658513287136, 0.19789152558497794, 0.10324775247911892, 0.22370346370475766, 0.013766366997215855, 0.3015134841967863, 0.08271608858495907, 0.05336521844190908, 0.010673043688381815, 0.4882917487434681, 0.024014348298859085, 0.03735565290933635, 0.33564509181884117, 0.46022951454635863, 0.01758838909094364, 0.06888785727286259, 0.023451185454591524, 0.0029313981818239404, 0.03810817636371122, 0.052765167272830926, 0.661369047248087, 0.18279044019419488, 0.08973348882260476, 0.006646925097970723, 0.0033234625489853616, 0.04985193823478042, 0.28806804974071315, 0.4509546956673991, 0.09803362949291285, 0.003016419369012703, 0.03167240337463338, 0.04222987116617784, 0.08445974233235568, 0.8264696262751189, 0.08139473592103444, 0.0876558694534217, 0.002590605549782021, 0.09196649701726174, 0.2227920772812538, 0.012953027748910105, 0.07383225816878759, 0.5971345792247558, 0.6683473300666656, 0.06943868364328994, 0.19963621547445856, 0.03471934182164497, 0.026039506366233724, 0.17037500541591016, 0.034896085446632204, 0.03694879635525763, 0.24016717630917458, 0.11289909997439831, 0.3222756126541915, 0.0513177727156356, 0.03079066362938136, 0.598694173085076, 0.09385704376155586, 0.04124021619825939, 0.012798687785666708, 0.005688305682518537, 0.09670119660281513, 0.1493180241661116, 0.7863175095135132, 0.050548982754440135, 0.07863175095135132, 0.016849660918146714, 0.0449324291150579, 0.016849660918146714, 0.12198156234522789, 0.6157164575521027, 0.13359885399715435, 0.09293833321541171, 0.02904322912981616, 0.25075345834669827, 0.016716897223113217, 0.5265822625280664, 0.05015069166933965, 0.025075345834669825, 0.11701828056179252, 0.33613167642964126, 0.09135886590138967, 0.01206626530773071, 0.34992169392419065, 0.046541309044104175, 0.03964630029682948, 0.06722633528592825, 0.05688382216501621, 0.041706551511355036, 0.4298983001939673, 0.3422076021444516, 0.11870326199385665, 0.006416392540208467, 0.06095572913198044], \"Term\": [\"accord\", \"accord\", \"accord\", \"accord\", \"accord\", \"accord\", \"action\", \"action\", \"action\", \"action\", \"action\", \"action\", \"action\", \"action\", \"address\", \"address\", \"address\", \"address\", \"address\", \"address\", \"address\", \"address\", \"administration\", \"administration\", \"administration\", \"administration\", \"administration\", \"administration\", \"administration\", \"administration\", \"advance\", \"advance\", \"advance\", \"advance\", \"advance\", \"advance\", \"advance\", \"advocate\", \"advocate\", \"advocate\", \"advocate\", \"advocate\", \"advocate\", \"advocate\", \"afford\", \"afford\", \"afford\", \"afford\", \"affordable\", \"affordable\", \"affordable\", \"affordable\", \"afghanistan\", \"afghanistan\", \"afghanistan\", \"afghanistan\", \"afghanistan\", \"afghanistan\", \"afghanistan\", \"africa\", \"africa\", \"africa\", \"africa\", \"african\", \"african\", \"agency\", \"agency\", \"agency\", \"agency\", \"agree\", \"agree\", \"agree\", \"agree\", \"agree\", \"agree\", \"agree\", \"agree\", \"agreement\", \"agreement\", \"agreement\", \"agreement\", \"agreement\", \"agreement\", \"ally\", \"ally\", \"ally\", \"ally\", \"ally\", \"arm\", \"arm\", \"arm\", \"arm\", \"arm\", \"arm\", \"armed\", \"armed\", \"armed\", \"armed\", \"armed\", \"armed\", \"army\", \"army\", \"army\", \"army\", \"asia\", \"asia\", \"asia\", \"asia\", \"attack\", \"attack\", \"attack\", \"attack\", \"attack\", \"attack\", \"attack\", \"attack\", \"authority\", \"authority\", \"authority\", \"authority\", \"authority\", \"authority\", \"authority\", \"authority\", \"background\", \"background\", \"background\", \"background\", \"background\", \"bank\", \"bank\", \"bank\", \"bank\", \"bank\", \"barack\", \"barack\", \"belief\", \"belief\", \"belief\", \"belief\", \"belief\", \"belief\", \"belief\", \"belief\", \"belong\", \"belong\", \"belong\", \"belong\", \"belong\", \"belong\", \"big\", \"big\", \"big\", \"big\", \"big\", \"big\", \"big\", \"big\", \"bill\", \"bill\", \"bill\", \"bill\", \"bill\", \"bill\", \"bipartisan\", \"bipartisan\", \"bipartisan\", \"bipartisan\", \"bipartisan\", \"bipartisan\", \"bit\", \"bit\", \"bit\", \"bit\", \"black\", \"black\", \"black\", \"black\", \"black\", \"bless\", \"bless\", \"bless\", \"bless\", \"bless\", \"bless\", \"bless\", \"bless\", \"blood\", \"blood\", \"blood\", \"blood\", \"board\", \"board\", \"board\", \"board\", \"board\", \"board\", \"board\", \"bomb\", \"bomb\", \"bomb\", \"bomb\", \"bomb\", \"bomb\", \"border\", \"border\", \"border\", \"border\", \"border\", \"border\", \"border\", \"boy\", \"boy\", \"boy\", \"brother\", \"brother\", \"brother\", \"business\", \"business\", \"business\", \"business\", \"business\", \"capability\", \"capability\", \"capability\", \"capability\", \"capability\", \"capability\", \"car\", \"car\", \"car\", \"car\", \"car\", \"care\", \"care\", \"care\", \"care\", \"care\", \"care\", \"care\", \"case\", \"case\", \"case\", \"case\", \"case\", \"case\", \"case\", \"case\", \"century\", \"century\", \"century\", \"century\", \"century\", \"century\", \"century\", \"check\", \"check\", \"check\", \"check\", \"check\", \"check\", \"chicago\", \"chicago\", \"chicago\", \"chicago\", \"chicago\", \"china\", \"china\", \"china\", \"china\", \"choose\", \"choose\", \"choose\", \"choose\", \"choose\", \"choose\", \"choose\", \"church\", \"church\", \"church\", \"church\", \"citizen\", \"citizen\", \"citizen\", \"citizen\", \"citizen\", \"citizen\", \"citizen\", \"city\", \"city\", \"city\", \"city\", \"city\", \"city\", \"city\", \"civil\", \"civil\", \"civil\", \"civil\", \"civil\", \"civil\", \"civil\", \"civilian\", \"civilian\", \"civilian\", \"civilian\", \"civilian\", \"class\", \"class\", \"class\", \"class\", \"class\", \"class\", \"clean\", \"clean\", \"clean\", \"clean\", \"clean\", \"clean\", \"climate\", \"climate\", \"climate\", \"climate\", \"climate\", \"climate\", \"clinton\", \"clinton\", \"clinton\", \"clinton\", \"coalition\", \"coalition\", \"coalition\", \"coalition\", \"coalition\", \"coalition\", \"code\", \"code\", \"code\", \"code\", \"code\", \"code\", \"cold\", \"cold\", \"cold\", \"cold\", \"cold\", \"cold\", \"college\", \"college\", \"college\", \"college\", \"combat\", \"combat\", \"combat\", \"combat\", \"combat\", \"commander\", \"commander\", \"commander\", \"commander\", \"commerce\", \"commerce\", \"commerce\", \"commerce\", \"commitment\", \"commitment\", \"commitment\", \"commitment\", \"commitment\", \"commitment\", \"commitment\", \"commitment\", \"common\", \"common\", \"common\", \"common\", \"common\", \"common\", \"common\", \"common\", \"company\", \"company\", \"company\", \"company\", \"company\", \"competition\", \"competition\", \"competition\", \"competition\", \"competition\", \"conflict\", \"conflict\", \"conflict\", \"conflict\", \"conflict\", \"connect\", \"connect\", \"connect\", \"connect\", \"connect\", \"connect\", \"constitution\", \"constitution\", \"constitution\", \"constitution\", \"constitution\", \"constitution\", \"consumer\", \"consumer\", \"consumer\", \"cooperation\", \"cooperation\", \"cooperation\", \"cooperation\", \"cooperation\", \"cooperation\", \"cost\", \"cost\", \"cost\", \"cost\", \"cost\", \"cost\", \"cost\", \"council\", \"council\", \"council\", \"council\", \"council\", \"court\", \"court\", \"court\", \"court\", \"court\", \"court\", \"cover\", \"cover\", \"cover\", \"cover\", \"cover\", \"cover\", \"creation\", \"creation\", \"creation\", \"creation\", \"creation\", \"creation\", \"creation\", \"crime\", \"crime\", \"crime\", \"crime\", \"criminal\", \"criminal\", \"criminal\", \"criminal\", \"crisis\", \"crisis\", \"crisis\", \"crisis\", \"crisis\", \"crisis\", \"crisis\", \"cut\", \"cut\", \"cut\", \"cut\", \"cut\", \"cut\", \"cut\", \"daughter\", \"daughter\", \"daughter\", \"daughter\", \"daughter\", \"daughter\", \"deal\", \"deal\", \"deal\", \"deal\", \"deal\", \"deal\", \"deal\", \"deal\", \"debate\", \"debate\", \"debate\", \"debate\", \"debate\", \"debate\", \"debate\", \"debate\", \"debt\", \"debt\", \"debt\", \"debt\", \"debt\", \"debt\", \"defeat\", \"defeat\", \"defeat\", \"defeat\", \"defeat\", \"defeat\", \"defeat\", \"deficit\", \"deficit\", \"deficit\", \"define\", \"define\", \"define\", \"define\", \"define\", \"define\", \"define\", \"democracy\", \"democracy\", \"democracy\", \"democracy\", \"democracy\", \"democracy\", \"democracy\", \"democrats\", \"democrats\", \"democrats\", \"democrats\", \"democrats\", \"department\", \"department\", \"department\", \"department\", \"department\", \"deploy\", \"deploy\", \"deploy\", \"deploy\", \"deploy\", \"deploy\", \"destruction\", \"destruction\", \"destruction\", \"destruction\", \"destruction\", \"destruction\", \"develop\", \"develop\", \"develop\", \"develop\", \"develop\", \"develop\", \"development\", \"development\", \"development\", \"development\", \"development\", \"development\", \"dignity\", \"dignity\", \"dignity\", \"dignity\", \"dignity\", \"dignity\", \"diplomatic\", \"diplomatic\", \"diplomatic\", \"diplomatic\", \"director\", \"director\", \"director\", \"director\", \"disaster\", \"disaster\", \"disaster\", \"disaster\", \"disaster\", \"discussion\", \"discussion\", \"discussion\", \"discussion\", \"discussion\", \"discussion\", \"discussion\", \"disease\", \"disease\", \"disease\", \"disease\", \"disease\", \"economic\", \"economic\", \"economic\", \"economic\", \"economic\", \"economic\", \"economic\", \"education\", \"education\", \"education\", \"education\", \"education\", \"efficient\", \"efficient\", \"efficient\", \"efficient\", \"embrace\", \"embrace\", \"embrace\", \"embrace\", \"embrace\", \"embrace\", \"embrace\", \"empower\", \"empower\", \"empower\", \"empower\", \"empower\", \"empower\", \"enemy\", \"enemy\", \"enemy\", \"enemy\", \"energy\", \"energy\", \"energy\", \"energy\", \"energy\", \"energy\", \"enforcement\", \"enforcement\", \"enforcement\", \"enforcement\", \"enforcement\", \"enforcement\", \"enforcement\", \"enforcement\", \"entrepreneur\", \"entrepreneur\", \"entrepreneur\", \"entrepreneur\", \"entrepreneur\", \"equal\", \"equal\", \"equal\", \"equal\", \"equal\", \"equal\", \"europe\", \"europe\", \"europe\", \"europe\", \"europe\", \"europe\", \"europe\", \"european\", \"european\", \"european\", \"european\", \"executive\", \"executive\", \"executive\", \"executive\", \"extremist\", \"extremist\", \"extremist\", \"faith\", \"faith\", \"faith\", \"faith\", \"faith\", \"faith\", \"faith\", \"fast\", \"fast\", \"fast\", \"fast\", \"fast\", \"fast\", \"fast\", \"father\", \"father\", \"father\", \"father\", \"father\", \"father\", \"fear\", \"fear\", \"fear\", \"fear\", \"fear\", \"fear\", \"fear\", \"fear\", \"federal\", \"federal\", \"federal\", \"federal\", \"federal\", \"feed\", \"feed\", \"feed\", \"feed\", \"feed\", \"feed\", \"feed\", \"feel\", \"feel\", \"feel\", \"feel\", \"feel\", \"feel\", \"feel\", \"feel\", \"financial\", \"financial\", \"financial\", \"financial\", \"financial\", \"financial\", \"financial\", \"forge\", \"forge\", \"forge\", \"forge\", \"forge\", \"forge\", \"forge\", \"found\", \"found\", \"found\", \"found\", \"found\", \"found\", \"free\", \"free\", \"free\", \"free\", \"free\", \"free\", \"free\", \"free\", \"freedom\", \"freedom\", \"freedom\", \"freedom\", \"freedom\", \"friend\", \"friend\", \"friend\", \"friend\", \"friend\", \"friend\", \"friend\", \"friend\", \"friendship\", \"friendship\", \"friendship\", \"gas\", \"gas\", \"gas\", \"gas\", \"gas\", \"gas\", \"general\", \"general\", \"general\", \"general\", \"general\", \"general\", \"generation\", \"generation\", \"generation\", \"generation\", \"generation\", \"generation\", \"generation\", \"generation\", \"global\", \"global\", \"global\", \"global\", \"global\", \"global\", \"globe\", \"globe\", \"globe\", \"globe\", \"globe\", \"globe\", \"god\", \"god\", \"god\", \"god\", \"god\", \"god\", \"god\", \"god\", \"ground\", \"ground\", \"ground\", \"ground\", \"ground\", \"ground\", \"ground\", \"growth\", \"growth\", \"growth\", \"growth\", \"gun\", \"gun\", \"gun\", \"guy\", \"guy\", \"guy\", \"haven\", \"haven\", \"haven\", \"haven\", \"haven\", \"health\", \"health\", \"health\", \"health\", \"health\", \"health\", \"hear\", \"hear\", \"hear\", \"hear\", \"hear\", \"hear\", \"hear\", \"hear\", \"heart\", \"heart\", \"heart\", \"heart\", \"heart\", \"heart\", \"hero\", \"hero\", \"hero\", \"hero\", \"hire\", \"hire\", \"hire\", \"hire\", \"homeland\", \"homeland\", \"homeland\", \"honor\", \"honor\", \"honor\", \"honor\", \"honor\", \"honor\", \"host\", \"host\", \"host\", \"host\", \"host\", \"host\", \"host\", \"human\", \"human\", \"human\", \"human\", \"human\", \"human\", \"human\", \"human\", \"humanity\", \"humanity\", \"humanity\", \"humanity\", \"idea\", \"idea\", \"idea\", \"idea\", \"idea\", \"idea\", \"idea\", \"idea\", \"ideal\", \"ideal\", \"ideal\", \"ideal\", \"ideal\", \"ignore\", \"ignore\", \"ignore\", \"ignore\", \"ignore\", \"ignore\", \"immigrant\", \"immigrant\", \"immigrant\", \"immigrant\", \"impose\", \"impose\", \"impose\", \"impose\", \"impose\", \"income\", \"income\", \"income\", \"income\", \"independence\", \"independence\", \"independence\", \"independence\", \"independence\", \"independence\", \"independence\", \"industry\", \"industry\", \"industry\", \"industry\", \"infrastructure\", \"infrastructure\", \"infrastructure\", \"infrastructure\", \"initiative\", \"initiative\", \"initiative\", \"initiative\", \"initiative\", \"initiative\", \"initiative\", \"insurance\", \"insurance\", \"intelligence\", \"intelligence\", \"intelligence\", \"intelligence\", \"international\", \"international\", \"international\", \"international\", \"international\", \"international\", \"invest\", \"invest\", \"invest\", \"invest\", \"invest\", \"invest\", \"investment\", \"investment\", \"investment\", \"investment\", \"investment\", \"involve\", \"involve\", \"involve\", \"involve\", \"involve\", \"involve\", \"involve\", \"iran\", \"iran\", \"iraq\", \"iraq\", \"iraq\", \"iraq\", \"iraq\", \"iraqi\", \"israel\", \"israel\", \"israel\", \"john\", \"john\", \"john\", \"john\", \"john\", \"justice\", \"justice\", \"justice\", \"justice\", \"justice\", \"justice\", \"kid\", \"kid\", \"kid\", \"kid\", \"kill\", \"kill\", \"kill\", \"kill\", \"kill\", \"kill\", \"kill\", \"kill\", \"king\", \"king\", \"king\", \"king\", \"king\", \"korea\", \"korea\", \"korea\", \"korea\", \"leadership\", \"leadership\", \"leadership\", \"leadership\", \"leadership\", \"leadership\", \"leadership\", \"leadership\", \"learn\", \"learn\", \"learn\", \"learn\", \"learn\", \"learn\", \"learn\", \"legacy\", \"legacy\", \"legacy\", \"legacy\", \"legacy\", \"legacy\", \"legal\", \"legal\", \"legal\", \"legal\", \"legal\", \"legal\", \"liberty\", \"liberty\", \"liberty\", \"liberty\", \"liberty\", \"liberty\", \"like\", \"like\", \"like\", \"like\", \"like\", \"like\", \"like\", \"like\", \"little\", \"little\", \"little\", \"little\", \"little\", \"little\", \"little\", \"little\", \"living\", \"living\", \"living\", \"living\", \"living\", \"loan\", \"loan\", \"lose\", \"lose\", \"lose\", \"lose\", \"lose\", \"lose\", \"lose\", \"lose\", \"love\", \"love\", \"love\", \"love\", \"love\", \"love\", \"love\", \"market\", \"market\", \"market\", \"market\", \"mass\", \"mass\", \"mass\", \"mass\", \"mass\", \"mass\", \"material\", \"material\", \"material\", \"material\", \"material\", \"material\", \"material\", \"mayor\", \"mayor\", \"mayor\", \"mayor\", \"medicare\", \"medicare\", \"memory\", \"memory\", \"memory\", \"memory\", \"michelle\", \"michelle\", \"michelle\", \"michelle\", \"michelle\", \"michelle\", \"middle\", \"middle\", \"middle\", \"middle\", \"middle\", \"middle\", \"middle\", \"military\", \"military\", \"military\", \"military\", \"military\", \"military\", \"military\", \"minister\", \"minister\", \"minister\", \"minister\", \"minister\", \"miss\", \"miss\", \"miss\", \"miss\", \"miss\", \"miss\", \"miss\", \"mission\", \"mission\", \"mission\", \"mission\", \"mission\", \"mission\", \"mission\", \"mission\", \"mom\", \"mom\", \"moment\", \"moment\", \"moment\", \"moment\", \"moment\", \"moment\", \"moment\", \"moment\", \"money\", \"money\", \"money\", \"money\", \"money\", \"money\", \"moral\", \"moral\", \"moral\", \"moral\", \"moral\", \"mother\", \"mother\", \"mother\", \"mother\", \"mother\", \"murder\", \"murder\", \"murder\", \"murder\", \"mutual\", \"mutual\", \"mutual\", \"mutual\", \"mutual\", \"mutual\", \"mutual\", \"national\", \"national\", \"national\", \"national\", \"national\", \"national\", \"national\", \"national\", \"nations\", \"nations\", \"nations\", \"nations\", \"natural\", \"natural\", \"natural\", \"natural\", \"natural\", \"natural\", \"negotiation\", \"negotiation\", \"negotiation\", \"negotiation\", \"neighborhood\", \"neighborhood\", \"neighborhood\", \"neighborhood\", \"night\", \"night\", \"night\", \"night\", \"night\", \"night\", \"night\", \"non\", \"non\", \"non\", \"non\", \"non\", \"non\", \"nuclear\", \"nuclear\", \"nuclear\", \"nuclear\", \"nuclear\", \"nuclear\", \"obama\", \"obama\", \"obama\", \"officer\", \"officer\", \"officer\", \"officer\", \"officer\", \"officer\", \"official\", \"official\", \"official\", \"official\", \"official\", \"oil\", \"oil\", \"oil\", \"oil\", \"oil\", \"old\", \"old\", \"old\", \"old\", \"old\", \"old\", \"old\", \"old\", \"open\", \"open\", \"open\", \"open\", \"open\", \"open\", \"open\", \"open\", \"operation\", \"operation\", \"operation\", \"operation\", \"opposition\", \"opposition\", \"opposition\", \"opposition\", \"opposition\", \"opposition\", \"order\", \"order\", \"order\", \"order\", \"order\", \"order\", \"order\", \"order\", \"pacific\", \"pacific\", \"pacific\", \"pacific\", \"parent\", \"parent\", \"parent\", \"parent\", \"parent\", \"parent\", \"partner\", \"partner\", \"partner\", \"partner\", \"partner\", \"partner\", \"partner\", \"partnership\", \"partnership\", \"partnership\", \"partnership\", \"partnership\", \"party\", \"party\", \"party\", \"party\", \"party\", \"party\", \"party\", \"party\", \"pass\", \"pass\", \"pass\", \"pass\", \"pass\", \"pass\", \"pass\", \"pass\", \"path\", \"path\", \"path\", \"path\", \"path\", \"path\", \"path\", \"pay\", \"pay\", \"pay\", \"pay\", \"pay\", \"pay\", \"pay\", \"peace\", \"peace\", \"peace\", \"peace\", \"peace\", \"peace\", \"percent\", \"percent\", \"percent\", \"percent\", \"percent\", \"percent\", \"percent\", \"percent\", \"personnel\", \"personnel\", \"personnel\", \"plan\", \"plan\", \"plan\", \"plan\", \"plan\", \"plan\", \"plan\", \"plot\", \"plot\", \"plot\", \"police\", \"police\", \"police\", \"police\", \"police\", \"policy\", \"policy\", \"policy\", \"policy\", \"policy\", \"policy\", \"policy\", \"policy\", \"pray\", \"pray\", \"pray\", \"pray\", \"prayer\", \"prayer\", \"prayer\", \"prevent\", \"prevent\", \"prevent\", \"prevent\", \"prevent\", \"prevent\", \"prevent\", \"prevent\", \"prime\", \"prime\", \"prime\", \"prime\", \"process\", \"process\", \"process\", \"process\", \"process\", \"process\", \"process\", \"process\", \"produce\", \"produce\", \"produce\", \"produce\", \"produce\", \"produce\", \"produce\", \"product\", \"product\", \"product\", \"product\", \"program\", \"program\", \"program\", \"program\", \"program\", \"program\", \"program\", \"progress\", \"progress\", \"progress\", \"progress\", \"progress\", \"progress\", \"progress\", \"progress\", \"promote\", \"promote\", \"promote\", \"promote\", \"promote\", \"promote\", \"promote\", \"promote\", \"proposal\", \"proposal\", \"proposal\", \"proposal\", \"proposal\", \"prospect\", \"prospect\", \"prospect\", \"prospect\", \"prospect\", \"prospect\", \"prosperity\", \"prosperity\", \"prosperity\", \"prosperity\", \"prosperity\", \"prosperity\", \"prosperous\", \"prosperous\", \"prosperous\", \"prosperous\", \"protect\", \"protect\", \"protect\", \"protect\", \"protect\", \"protect\", \"protect\", \"public\", \"public\", \"public\", \"public\", \"public\", \"public\", \"public\", \"public\", \"qaeda\", \"qaeda\", \"qaeda\", \"qaeda\", \"qaeda\", \"quality\", \"quality\", \"quality\", \"quality\", \"quality\", \"quality\", \"race\", \"race\", \"race\", \"race\", \"race\", \"race\", \"race\", \"rate\", \"rate\", \"rate\", \"rate\", \"rate\", \"recession\", \"recession\", \"recession\", \"recession\", \"recession\", \"recovery\", \"recovery\", \"recovery\", \"recovery\", \"recovery\", \"reform\", \"reform\", \"reform\", \"reform\", \"reform\", \"reform\", \"reform\", \"regime\", \"regime\", \"regime\", \"regime\", \"region\", \"region\", \"region\", \"region\", \"region\", \"reject\", \"reject\", \"reject\", \"reject\", \"reject\", \"reject\", \"reject\", \"relation\", \"relation\", \"relation\", \"relation\", \"relationship\", \"relationship\", \"relationship\", \"relationship\", \"relationship\", \"relationship\", \"release\", \"release\", \"release\", \"release\", \"release\", \"release\", \"report\", \"report\", \"report\", \"report\", \"report\", \"report\", \"republican\", \"republican\", \"republican\", \"republican\", \"republican\", \"republicans\", \"republicans\", \"republicans\", \"republicans\", \"republicans\", \"research\", \"research\", \"research\", \"research\", \"research\", \"research\", \"research\", \"resolution\", \"resolution\", \"resolution\", \"resolution\", \"review\", \"review\", \"review\", \"review\", \"revolution\", \"revolution\", \"revolution\", \"revolution\", \"revolution\", \"revolution\", \"rule\", \"rule\", \"rule\", \"rule\", \"rule\", \"rule\", \"rule\", \"rule\", \"russia\", \"russia\", \"russia\", \"safe\", \"safe\", \"safe\", \"safe\", \"safe\", \"safe\", \"safe\", \"safe\", \"sanction\", \"sanction\", \"sanction\", \"saving\", \"saving\", \"saving\", \"saving\", \"school\", \"school\", \"school\", \"school\", \"school\", \"school\", \"school\", \"scientist\", \"scientist\", \"scientist\", \"scientist\", \"scientist\", \"scientist\", \"scientist\", \"secret\", \"secret\", \"secret\", \"secret\", \"secret\", \"sector\", \"sector\", \"sector\", \"sector\", \"seek\", \"seek\", \"seek\", \"seek\", \"seek\", \"seek\", \"seek\", \"seek\", \"self\", \"self\", \"self\", \"self\", \"self\", \"self\", \"sell\", \"sell\", \"sell\", \"sell\", \"serve\", \"serve\", \"serve\", \"serve\", \"serve\", \"serve\", \"serve\", \"serve\", \"service\", \"service\", \"service\", \"service\", \"service\", \"service\", \"service\", \"service\", \"shake\", \"shake\", \"shake\", \"shake\", \"shake\", \"shake\", \"shoot\", \"shoot\", \"shoot\", \"shoot\", \"shoot\", \"shoot\", \"sick\", \"sick\", \"sick\", \"sick\", \"sick\", \"sick\", \"sister\", \"sister\", \"sister\", \"society\", \"society\", \"society\", \"society\", \"society\", \"society\", \"soldier\", \"soldier\", \"soldier\", \"soldier\", \"soldier\", \"son\", \"son\", \"son\", \"son\", \"son\", \"son\", \"space\", \"space\", \"space\", \"space\", \"space\", \"space\", \"speech\", \"speech\", \"speech\", \"speech\", \"speech\", \"speed\", \"speed\", \"speed\", \"speed\", \"spend\", \"spend\", \"spend\", \"spend\", \"spend\", \"spend\", \"spend\", \"spending\", \"spending\", \"spending\", \"statement\", \"statement\", \"statement\", \"statement\", \"statement\", \"story\", \"story\", \"story\", \"story\", \"story\", \"story\", \"strategy\", \"strategy\", \"strategy\", \"strategy\", \"strategy\", \"strategy\", \"street\", \"street\", \"street\", \"street\", \"street\", \"street\", \"street\", \"street\", \"strengthen\", \"strengthen\", \"strengthen\", \"strengthen\", \"strengthen\", \"strengthen\", \"strengthen\", \"strike\", \"strike\", \"strike\", \"strike\", \"strike\", \"strike\", \"student\", \"student\", \"student\", \"student\", \"student\", \"student\", \"student\", \"subject\", \"subject\", \"subject\", \"subject\", \"subject\", \"subject\", \"subject\", \"summit\", \"summit\", \"summit\", \"summit\", \"syria\", \"syria\", \"syria\", \"talent\", \"talent\", \"talent\", \"talent\", \"talent\", \"talent\", \"talent\", \"talk\", \"talk\", \"talk\", \"talk\", \"talk\", \"talk\", \"talk\", \"tax\", \"tax\", \"taxis\", \"taxis\", \"taxis\", \"taxpayer\", \"taxpayer\", \"taxpayer\", \"teach\", \"teach\", \"teach\", \"teach\", \"teacher\", \"teacher\", \"teacher\", \"teacher\", \"teacher\", \"technology\", \"technology\", \"technology\", \"technology\", \"technology\", \"technology\", \"technology\", \"term\", \"term\", \"term\", \"term\", \"term\", \"term\", \"term\", \"terror\", \"terror\", \"terror\", \"terror\", \"terror\", \"terror\", \"terrorist\", \"terrorist\", \"terrorist\", \"terrorist\", \"terrorist\", \"threat\", \"threat\", \"threat\", \"threat\", \"threat\", \"threat\", \"threat\", \"threat\", \"tie\", \"tie\", \"tie\", \"tie\", \"tie\", \"tie\", \"tie\", \"tie\", \"tonight\", \"tonight\", \"tonight\", \"trade\", \"trade\", \"trade\", \"trade\", \"trade\", \"trade\", \"trade\", \"tragedy\", \"tragedy\", \"tragedy\", \"tragedy\", \"tragedy\", \"tragedy\", \"troop\", \"troop\", \"troop\", \"troop\", \"true\", \"true\", \"true\", \"true\", \"true\", \"true\", \"true\", \"true\", \"truth\", \"truth\", \"truth\", \"truth\", \"truth\", \"truth\", \"truth\", \"understand\", \"understand\", \"understand\", \"understand\", \"understand\", \"understand\", \"understand\", \"understand\", \"uniform\", \"uniform\", \"uniform\", \"uniform\", \"uniform\", \"uniform\", \"universal\", \"universal\", \"universal\", \"universal\", \"universal\", \"value\", \"value\", \"value\", \"value\", \"value\", \"value\", \"value\", \"veteran\", \"veteran\", \"veteran\", \"veteran\", \"veteran\", \"victim\", \"victim\", \"victim\", \"victim\", \"victim\", \"violence\", \"violence\", \"violence\", \"violence\", \"violence\", \"violence\", \"visit\", \"visit\", \"visit\", \"visit\", \"visit\", \"visit\", \"visit\", \"vote\", \"vote\", \"vote\", \"vote\", \"vote\", \"vote\", \"vote\", \"vote\", \"walk\", \"walk\", \"walk\", \"walk\", \"walk\", \"walk\", \"washington\", \"washington\", \"washington\", \"washington\", \"washington\", \"washington\", \"washington\", \"wealthy\", \"wealthy\", \"wealthy\", \"weapon\", \"weapon\", \"weapon\", \"weapon\", \"weapon\", \"weapon\", \"wear\", \"wear\", \"wear\", \"wear\", \"wear\", \"welcome\", \"welcome\", \"welcome\", \"welcome\", \"welcome\", \"welcome\", \"welcome\", \"welcome\", \"white\", \"white\", \"white\", \"white\", \"white\", \"white\", \"white\", \"wife\", \"wife\", \"wife\", \"wife\", \"wife\", \"wife\", \"wind\", \"wind\", \"wind\", \"wind\", \"wind\", \"witness\", \"witness\", \"witness\", \"witness\", \"witness\", \"witness\", \"word\", \"word\", \"word\", \"word\", \"word\", \"word\", \"word\", \"word\", \"worker\", \"worker\", \"worker\", \"worker\", \"worker\", \"worker\"]}, \"R\": 30, \"lambda.step\": 0.01, \"plot.opts\": {\"xlab\": \"PC1\", \"ylab\": \"PC2\"}, \"topic.order\": [8, 5, 1, 2, 6, 3, 4, 7]};\n",
       "\n",
       "function LDAvis_load_lib(url, callback){\n",
       "  var s = document.createElement('script');\n",
       "  s.src = url;\n",
       "  s.async = true;\n",
       "  s.onreadystatechange = s.onload = callback;\n",
       "  s.onerror = function(){console.warn(\"failed to load library \" + url);};\n",
       "  document.getElementsByTagName(\"head\")[0].appendChild(s);\n",
       "}\n",
       "\n",
       "if(typeof(LDAvis) !== \"undefined\"){\n",
       "   // already loaded: just create the visualization\n",
       "   !function(LDAvis){\n",
       "       new LDAvis(\"#\" + \"ldavis_el160941406285906663367411013902\", ldavis_el160941406285906663367411013902_data);\n",
       "   }(LDAvis);\n",
       "}else if(typeof define === \"function\" && define.amd){\n",
       "   // require.js is available: use it to load d3/LDAvis\n",
       "   require.config({paths: {d3: \"https://d3js.org/d3.v5\"}});\n",
       "   require([\"d3\"], function(d3){\n",
       "      window.d3 = d3;\n",
       "      LDAvis_load_lib(\"https://cdn.jsdelivr.net/gh/bmabey/pyLDAvis@3.4.0/pyLDAvis/js/ldavis.v3.0.0.js\", function(){\n",
       "        new LDAvis(\"#\" + \"ldavis_el160941406285906663367411013902\", ldavis_el160941406285906663367411013902_data);\n",
       "      });\n",
       "    });\n",
       "}else{\n",
       "    // require.js not available: dynamically load d3 & LDAvis\n",
       "    LDAvis_load_lib(\"https://d3js.org/d3.v5.js\", function(){\n",
       "         LDAvis_load_lib(\"https://cdn.jsdelivr.net/gh/bmabey/pyLDAvis@3.4.0/pyLDAvis/js/ldavis.v3.0.0.js\", function(){\n",
       "                 new LDAvis(\"#\" + \"ldavis_el160941406285906663367411013902\", ldavis_el160941406285906663367411013902_data);\n",
       "            })\n",
       "         });\n",
       "}\n",
       "</script>"
      ],
      "text/plain": [
       "<IPython.core.display.HTML object>"
      ]
     },
     "execution_count": 16,
     "metadata": {},
     "output_type": "execute_result"
    }
   ],
   "source": [
    "#       vis = pyLDAvis.gensim_models.prepare(lda_model, corpus, id2word)\n",
    "lda_display = pyLDAvis.gensim_models.prepare(topic_model=finalmodel_8, corpus=corpus, dictionary=token_dict)\n",
    "pyLDAvis.display(lda_display)"
   ]
  },
  {
   "cell_type": "code",
   "execution_count": 17,
   "metadata": {},
   "outputs": [],
   "source": [
    "columns = list(dict(token_dict).values())"
   ]
  },
  {
   "cell_type": "code",
   "execution_count": 18,
   "metadata": {},
   "outputs": [
    {
     "data": {
      "text/plain": [
       "(8, 1000)"
      ]
     },
     "execution_count": 18,
     "metadata": {},
     "output_type": "execute_result"
    }
   ],
   "source": [
    "# num topics x vocab size, here 9x1000\n",
    "topic_vals = pd.DataFrame(finalmodel_8.get_topics(), columns=columns)\n",
    "topic_vals.shape0.017*\"energy\" + 0.017*\"business\" + 0.015*\"company\" + 0.011*\"oil\" + 0.011*\"economic\" + 0.010*\"financial\" + 0.009*\"crisis\" + 0.009*\"clean"
   ]
  },
  {
   "cell_type": "code",
   "execution_count": 19,
   "metadata": {},
   "outputs": [],
   "source": [
    "topic_by_doc=list(finalmodel_8[corpus])"
   ]
  },
  {
   "cell_type": "code",
   "execution_count": 20,
   "metadata": {},
   "outputs": [],
   "source": [
    "#[doc][topic][0-id] or [1-value]\n",
    "doc_topics = []\n",
    "for doc_num in range(len(topic_by_doc)):\n",
    "    topics_for_doc = [0] * len(finalmodel_8.print_topics())\n",
    "    for i in range(len(finalmodel_8.print_topics())):\n",
    "        if (i < len(topic_by_doc[doc_num])):\n",
    "            topics_for_doc[topic_by_doc[doc_num][i][0]]=topic_by_doc[doc_num][i][1]\n",
    "    doc_topics.append(topics_for_doc);"
   ]
  },
  {
   "cell_type": "code",
   "execution_count": 21,
   "metadata": {},
   "outputs": [
    {
     "data": {
      "text/plain": [
       "(743, 8)"
      ]
     },
     "execution_count": 21,
     "metadata": {},
     "output_type": "execute_result"
    }
   ],
   "source": [
    "# doc_topics is num_docs x num_topics or 743 rows x 9 cols\n",
    "doc_topics = pd.DataFrame(doc_topics)\n",
    "doc_topics.shape"
   ]
  },
  {
   "cell_type": "code",
   "execution_count": 22,
   "metadata": {},
   "outputs": [],
   "source": [
    "docs_words = doc_topics.dot(topic_vals)"
   ]
  },
  {
   "cell_type": "code",
   "execution_count": 23,
   "metadata": {},
   "outputs": [
    {
     "data": {
      "text/plain": [
       "0      0.996646\n",
       "1      0.999327\n",
       "2      0.998303\n",
       "3      0.992254\n",
       "4      0.999457\n",
       "         ...   \n",
       "738    0.998308\n",
       "739    0.999742\n",
       "740    0.996262\n",
       "741    0.999242\n",
       "742    0.998858\n",
       "Length: 743, dtype: float64"
      ]
     },
     "execution_count": 23,
     "metadata": {},
     "output_type": "execute_result"
    }
   ],
   "source": [
    "# sum for each document should by 1-ish\n",
    "docs_words.sum(axis=1) # 0-rows, 1-cols"
   ]
  },
  {
   "cell_type": "markdown",
   "metadata": {},
   "source": [
    "### Load just the 101 speeches used for comparison"
   ]
  },
  {
   "cell_type": "code",
   "execution_count": 24,
   "metadata": {},
   "outputs": [],
   "source": [
    "# Load up the files\n",
    "\n",
    "paths = ['./speeches/']\n",
    "\n",
    "speeches = []\n",
    "\n",
    "for path in paths:\n",
    "    list_of_files = []\n",
    "    for root, dirs, files in os.walk(path):\n",
    "        for file in files:\n",
    "            if file.endswith('.txt'):\n",
    "                list_of_files.append(os.path.join(root,file))\n",
    "   \n",
    "    for file in list_of_files:\n",
    "        with open(file, encoding='utf-8') as f:\n",
    "            text = f.read()\n",
    "        f.close()\n",
    "        speeches.append(text)\n",
    "\n",
    "#clean out goofy unicode  space characters \n",
    "speeches = [unicodedata.normalize(\"NFKD\", speech) for speech in speeches if len(speech)>0 ]\n",
    "#clean out xa0 space characters\n",
    "[speech.replace(u'\\xa0', '') for speech in speeches]; # ; supresses output\n",
    "# remove [stuff] in between square brackets\n",
    "def remove_bracket(text):\n",
    "    return re.sub(r'(\\[[^w]*\\]\\s)', '',text)\n",
    "speeches = [remove_bracket(speech) for speech in speeches]\n",
    "# Clean up whitespace\n",
    "speeches = [re.sub(r'[\\s+]', ' ', speech) for speech in speeches]\n",
    "\n",
    "date_text = [file[11:21] for file in list_of_files]\n",
    "\n",
    "df = pd.DataFrame({'date' : date_text,\n",
    "                   'file' : list_of_files,\n",
    "                   'text' : speeches})\n",
    "df.date = pd.to_datetime(df.date, format='%Y-%m-%d')\n",
    "speeches101 = df"
   ]
  },
  {
   "cell_type": "markdown",
   "metadata": {},
   "source": [
    "### Load the 400+ American Rhetoric speeches"
   ]
  },
  {
   "cell_type": "code",
   "execution_count": 25,
   "metadata": {},
   "outputs": [],
   "source": [
    "# Load up the files\n",
    "#path = './DataUCSB/' # Smaller UCSB dataset\n",
    "#path = './Data/' # larger American Rhetoric dataset\n",
    "paths = ['./Data/']\n",
    "\n",
    "speeches = []\n",
    "\n",
    "for path in paths:\n",
    "    list_of_files = []\n",
    "    for root, dirs, files in os.walk(path):\n",
    "        for file in files:\n",
    "            if file.endswith('.txt'):\n",
    "                list_of_files.append(os.path.join(root,file))\n",
    "   \n",
    "    for file in list_of_files:\n",
    "        with open(file, encoding='utf-8') as f:\n",
    "            text = f.read()\n",
    "        f.close()\n",
    "        speeches.append(text)\n",
    "\n",
    "#clean out goofy unicode  space characters \n",
    "speeches = [unicodedata.normalize(\"NFKD\", speech) for speech in speeches if len(speech)>0 ]\n",
    "#clean out xa0 space characters\n",
    "[speech.replace(u'\\xa0', '') for speech in speeches]; # ; supresses output\n",
    "# remove [stuff] in between square brackets\n",
    "def remove_bracket(text):\n",
    "    return re.sub(r'(\\[[^w]*\\]\\s)', '',text)\n",
    "speeches = [remove_bracket(speech) for speech in speeches]\n",
    "# Clean up whitespace\n",
    "speeches = [re.sub(r'[\\s+]', ' ', speech) for speech in speeches]\n",
    "\n",
    "df = pd.DataFrame({'file' : list_of_files,\n",
    "                   'text' : speeches})\n",
    "datetitle = pd.read_csv('datetitle.csv')\n",
    "datetitle.url = [file.replace('Data/', './Data/') for file in datetitle.url]\n",
    "datetitle.date = pd.to_datetime(datetitle.date, format='%Y-%m-%d')\n",
    "datetitle = datetitle.drop('title', axis=1)\n",
    "datetitle = datetitle.rename(columns={'url': 'file'})\n",
    "df = pd.merge(df, datetitle, how='inner', on='file')\n",
    "df = df.sort_values(by='date', ignore_index=True)\n",
    "amrhet = df[['date', 'file', 'text']]"
   ]
  },
  {
   "cell_type": "code",
   "execution_count": 26,
   "metadata": {},
   "outputs": [],
   "source": [
    "nlp = en_core_web_md.load()\n",
    "def prepare_text(text_list):\n",
    "    #Tags to remove\n",
    "    extags = ['PRON','CCONJ','PUNCT','PART','DET','ADP','NUM','SYM','SPACE']\n",
    "    docs = text_list.apply(nlp)\n",
    "    tokens=[]\n",
    "    #SpaCy tokenization + lemmatization + lowercase\n",
    "    for speech in docs:\n",
    "        scr_tok = [token.lemma_.lower() for token in speech if token.pos_ not in extags and not token.is_stop and token.is_alpha]\n",
    "        tokens.append(scr_tok)\n",
    "    data = pd.DataFrame()\n",
    "    data['tokens'] = tokens\n",
    "\n",
    "    token_dict = Dictionary(data['tokens'])\n",
    "    #Filter out tokens that appear in less than 5 speeches, and tokens that appear in more than 70% of speeches since they are too general. Keep the top 1000 most frequent tokens\n",
    "    token_dict.filter_extremes(no_below=5,no_above=NO_ABOVE,keep_n=1000)\n",
    "\n",
    "    #Convert token counts into bag of words (BoW) corpus\n",
    "    corpus = [token_dict.doc2bow(speech) for speech in data['tokens']]\n",
    "    \n",
    "    return([token_dict, corpus])"
   ]
  },
  {
   "cell_type": "code",
   "execution_count": 27,
   "metadata": {},
   "outputs": [
    {
     "name": "stderr",
     "output_type": "stream",
     "text": [
      "/tmp/ipykernel_16094/4174625056.py:13: SettingWithCopyWarning: \n",
      "A value is trying to be set on a copy of a slice from a DataFrame\n",
      "\n",
      "See the caveats in the documentation: https://pandas.pydata.org/pandas-docs/stable/user_guide/indexing.html#returning-a-view-versus-a-copy\n",
      "  df.iloc[i] = ' '.join([word for word in df.iloc[i].split() if word.lower() not in stop_words])\n"
     ]
    }
   ],
   "source": [
    "if REM_SW:\n",
    "    amrhet.text=rem_stop_words(amrhet.text)\n",
    "    speeches101.text=rem_stop_words(speeches101.text)\n",
    "amrhet_token_dict, amrhet_corpus = prepare_text(amrhet.text)\n",
    "speeches_token_dict, speeches_corpus = prepare_text(speeches101.text)"
   ]
  },
  {
   "cell_type": "code",
   "execution_count": 28,
   "metadata": {},
   "outputs": [],
   "source": [
    "amrhet['topics'] = [finalmodel_8[corpus] for corpus in amrhet_corpus]\n",
    "speeches101['topics'] = [finalmodel_8[corpus] for corpus in speeches_corpus]\n",
    "amrhet_topics = [finalmodel_8[corpus] for corpus in amrhet_corpus]\n",
    "speeches101_topics = [finalmodel_8[corpus] for corpus in speeches_corpus]"
   ]
  },
  {
   "cell_type": "code",
   "execution_count": 29,
   "metadata": {},
   "outputs": [],
   "source": [
    "# Convert topic list to matrix of values to put in a data frame\n",
    "def topic_to_matrix(topic_by_doc):\n",
    "    doc_topics = []\n",
    "    for doc_num in range(len(topic_by_doc)):\n",
    "        topics_for_doc = [0] * len(finalmodel_8.print_topics())\n",
    "        for i in range(len(finalmodel_8.print_topics())):\n",
    "            if (i < len(topic_by_doc[doc_num])):\n",
    "                topics_for_doc[topic_by_doc[doc_num][i][0]]=topic_by_doc[doc_num][i][1]\n",
    "        doc_topics.append(topics_for_doc);\n",
    "    return(doc_topics)"
   ]
  },
  {
   "cell_type": "code",
   "execution_count": 30,
   "metadata": {},
   "outputs": [],
   "source": [
    "amrhet_topic_mat = pd.DataFrame(topic_to_matrix(amrhet_topics))\n",
    "speeches101_topic_mat = pd.DataFrame(topic_to_matrix(speeches101_topics))"
   ]
  },
  {
   "cell_type": "code",
   "execution_count": 31,
   "metadata": {},
   "outputs": [],
   "source": [
    "amrhet = pd.concat([amrhet,amrhet_topic_mat], axis=1)\n",
    "speeches101 = pd.concat([speeches101,speeches101_topic_mat], axis=1)"
   ]
  },
  {
   "cell_type": "code",
   "execution_count": 41,
   "metadata": {},
   "outputs": [],
   "source": [
    "# Leave commented as to not accidently overwrite something important\n",
    "#amrhet.to_csv('topics_amrhet_oba.csv', index=False)\n",
    "#speeches101.to_csv('topics_speeches_oba.csv', index=False)"
   ]
  },
  {
   "cell_type": "code",
   "execution_count": 33,
   "metadata": {},
   "outputs": [],
   "source": [
    "tidy = pd.read_csv('tidy_data_oba.csv')\n",
    "tidy.date = pd.to_datetime(tidy.date, format='%Y-%m-%d')"
   ]
  },
  {
   "cell_type": "code",
   "execution_count": 34,
   "metadata": {},
   "outputs": [],
   "source": [
    "ar = speeches101.drop(['file', 'text', 'topics'], axis=1)"
   ]
  },
  {
   "cell_type": "code",
   "execution_count": 88,
   "metadata": {},
   "outputs": [
    {
     "data": {
      "text/plain": [
       "['economy',\n",
       " 'democracy',\n",
       " 'intl relations',\n",
       " 'security',\n",
       " 'health care',\n",
       " 'terrorism',\n",
       " 'middle east',\n",
       " 'civil rights']"
      ]
     },
     "execution_count": 88,
     "metadata": {},
     "output_type": "execute_result"
    }
   ],
   "source": [
    "topics = pd.read_csv('./topics/topics_8.csv')\n",
    "topic_lst = list(topics.topic_name)\n",
    "col_lst = ['date']\n",
    "for topic in topic_lst: col_lst.append(topic)\n",
    "ar.columns = col_lst\n",
    "topic_lst"
   ]
  },
  {
   "cell_type": "code",
   "execution_count": 89,
   "metadata": {},
   "outputs": [],
   "source": [
    "tidy_topic = pd.merge(tidy, ar, how='left', on='date')"
   ]
  },
  {
   "cell_type": "code",
   "execution_count": 90,
   "metadata": {},
   "outputs": [],
   "source": [
    "#tidy_topic.to_csv('tidy_topic_oba.csv', index=False)"
   ]
  },
  {
   "cell_type": "code",
   "execution_count": 91,
   "metadata": {},
   "outputs": [],
   "source": [
    "correlation = tidy_topic.corr(numeric_only=True)"
   ]
  },
  {
   "cell_type": "code",
   "execution_count": 92,
   "metadata": {},
   "outputs": [],
   "source": [
    "topic_corr = correlation.loc['ADJ':'chars_per_sent_std', 'economy':'civil rights']"
   ]
  },
  {
   "cell_type": "code",
   "execution_count": 93,
   "metadata": {},
   "outputs": [],
   "source": [
    "topic_corr.columns = list(topics.topic_name)"
   ]
  },
  {
   "cell_type": "code",
   "execution_count": 94,
   "metadata": {},
   "outputs": [
    {
     "data": {
      "text/html": [
       "<style type=\"text/css\">\n",
       "#T_405c6_row0_col6, #T_405c6_row1_col6, #T_405c6_row2_col6, #T_405c6_row4_col6, #T_405c6_row5_col6, #T_405c6_row6_col6, #T_405c6_row7_col6, #T_405c6_row8_col2, #T_405c6_row9_col2, #T_405c6_row9_col6, #T_405c6_row10_col6, #T_405c6_row12_col6, #T_405c6_row15_col6, #T_405c6_row16_col6, #T_405c6_row18_col2, #T_405c6_row22_col2, #T_405c6_row31_col6, #T_405c6_row33_col2, #T_405c6_row34_col5, #T_405c6_row39_col6, #T_405c6_row41_col5, #T_405c6_row48_col6, #T_405c6_row49_col6, #T_405c6_row50_col6, #T_405c6_row52_col6, #T_405c6_row53_col6, #T_405c6_row56_col5, #T_405c6_row57_col5, #T_405c6_row58_col5, #T_405c6_row59_col5 {\n",
       "  font-weight: bold;\n",
       "}\n",
       "</style>\n",
       "<table id=\"T_405c6\">\n",
       "  <thead>\n",
       "    <tr>\n",
       "      <th class=\"blank level0\" >&nbsp;</th>\n",
       "      <th id=\"T_405c6_level0_col0\" class=\"col_heading level0 col0\" >economy</th>\n",
       "      <th id=\"T_405c6_level0_col1\" class=\"col_heading level0 col1\" >democracy</th>\n",
       "      <th id=\"T_405c6_level0_col2\" class=\"col_heading level0 col2\" >intl relations</th>\n",
       "      <th id=\"T_405c6_level0_col3\" class=\"col_heading level0 col3\" >security</th>\n",
       "      <th id=\"T_405c6_level0_col4\" class=\"col_heading level0 col4\" >health care</th>\n",
       "      <th id=\"T_405c6_level0_col5\" class=\"col_heading level0 col5\" >terrorism</th>\n",
       "      <th id=\"T_405c6_level0_col6\" class=\"col_heading level0 col6\" >middle east</th>\n",
       "      <th id=\"T_405c6_level0_col7\" class=\"col_heading level0 col7\" >civil rights</th>\n",
       "    </tr>\n",
       "  </thead>\n",
       "  <tbody>\n",
       "    <tr>\n",
       "      <th id=\"T_405c6_level0_row0\" class=\"row_heading level0 row0\" >ADJ</th>\n",
       "      <td id=\"T_405c6_row0_col0\" class=\"data row0 col0\" >0.013352</td>\n",
       "      <td id=\"T_405c6_row0_col1\" class=\"data row0 col1\" >0.043100</td>\n",
       "      <td id=\"T_405c6_row0_col2\" class=\"data row0 col2\" >0.193408</td>\n",
       "      <td id=\"T_405c6_row0_col3\" class=\"data row0 col3\" >-0.007005</td>\n",
       "      <td id=\"T_405c6_row0_col4\" class=\"data row0 col4\" >0.073924</td>\n",
       "      <td id=\"T_405c6_row0_col5\" class=\"data row0 col5\" >-0.102562</td>\n",
       "      <td id=\"T_405c6_row0_col6\" class=\"data row0 col6\" >-0.364562</td>\n",
       "      <td id=\"T_405c6_row0_col7\" class=\"data row0 col7\" >-0.053242</td>\n",
       "    </tr>\n",
       "    <tr>\n",
       "      <th id=\"T_405c6_level0_row1\" class=\"row_heading level0 row1\" >ADP</th>\n",
       "      <td id=\"T_405c6_row1_col0\" class=\"data row1 col0\" >-0.036464</td>\n",
       "      <td id=\"T_405c6_row1_col1\" class=\"data row1 col1\" >0.012487</td>\n",
       "      <td id=\"T_405c6_row1_col2\" class=\"data row1 col2\" >0.213564</td>\n",
       "      <td id=\"T_405c6_row1_col3\" class=\"data row1 col3\" >-0.086717</td>\n",
       "      <td id=\"T_405c6_row1_col4\" class=\"data row1 col4\" >0.094788</td>\n",
       "      <td id=\"T_405c6_row1_col5\" class=\"data row1 col5\" >-0.055484</td>\n",
       "      <td id=\"T_405c6_row1_col6\" class=\"data row1 col6\" >-0.322728</td>\n",
       "      <td id=\"T_405c6_row1_col7\" class=\"data row1 col7\" >-0.021185</td>\n",
       "    </tr>\n",
       "    <tr>\n",
       "      <th id=\"T_405c6_level0_row2\" class=\"row_heading level0 row2\" >ADV</th>\n",
       "      <td id=\"T_405c6_row2_col0\" class=\"data row2 col0\" >0.066589</td>\n",
       "      <td id=\"T_405c6_row2_col1\" class=\"data row2 col1\" >0.093218</td>\n",
       "      <td id=\"T_405c6_row2_col2\" class=\"data row2 col2\" >0.078711</td>\n",
       "      <td id=\"T_405c6_row2_col3\" class=\"data row2 col3\" >0.027927</td>\n",
       "      <td id=\"T_405c6_row2_col4\" class=\"data row2 col4\" >0.068222</td>\n",
       "      <td id=\"T_405c6_row2_col5\" class=\"data row2 col5\" >-0.090867</td>\n",
       "      <td id=\"T_405c6_row2_col6\" class=\"data row2 col6\" >-0.303099</td>\n",
       "      <td id=\"T_405c6_row2_col7\" class=\"data row2 col7\" >-0.072230</td>\n",
       "    </tr>\n",
       "    <tr>\n",
       "      <th id=\"T_405c6_level0_row3\" class=\"row_heading level0 row3\" >AUX</th>\n",
       "      <td id=\"T_405c6_row3_col0\" class=\"data row3 col0\" >-0.111622</td>\n",
       "      <td id=\"T_405c6_row3_col1\" class=\"data row3 col1\" >0.152553</td>\n",
       "      <td id=\"T_405c6_row3_col2\" class=\"data row3 col2\" >0.280504</td>\n",
       "      <td id=\"T_405c6_row3_col3\" class=\"data row3 col3\" >-0.016102</td>\n",
       "      <td id=\"T_405c6_row3_col4\" class=\"data row3 col4\" >0.083482</td>\n",
       "      <td id=\"T_405c6_row3_col5\" class=\"data row3 col5\" >-0.156556</td>\n",
       "      <td id=\"T_405c6_row3_col6\" class=\"data row3 col6\" >-0.255563</td>\n",
       "      <td id=\"T_405c6_row3_col7\" class=\"data row3 col7\" >-0.163418</td>\n",
       "    </tr>\n",
       "    <tr>\n",
       "      <th id=\"T_405c6_level0_row4\" class=\"row_heading level0 row4\" >CCONJ</th>\n",
       "      <td id=\"T_405c6_row4_col0\" class=\"data row4 col0\" >-0.027645</td>\n",
       "      <td id=\"T_405c6_row4_col1\" class=\"data row4 col1\" >0.036737</td>\n",
       "      <td id=\"T_405c6_row4_col2\" class=\"data row4 col2\" >0.136032</td>\n",
       "      <td id=\"T_405c6_row4_col3\" class=\"data row4 col3\" >-0.056764</td>\n",
       "      <td id=\"T_405c6_row4_col4\" class=\"data row4 col4\" >0.133326</td>\n",
       "      <td id=\"T_405c6_row4_col5\" class=\"data row4 col5\" >0.005118</td>\n",
       "      <td id=\"T_405c6_row4_col6\" class=\"data row4 col6\" >-0.343171</td>\n",
       "      <td id=\"T_405c6_row4_col7\" class=\"data row4 col7\" >-0.036455</td>\n",
       "    </tr>\n",
       "    <tr>\n",
       "      <th id=\"T_405c6_level0_row5\" class=\"row_heading level0 row5\" >DET</th>\n",
       "      <td id=\"T_405c6_row5_col0\" class=\"data row5 col0\" >-0.049158</td>\n",
       "      <td id=\"T_405c6_row5_col1\" class=\"data row5 col1\" >0.005194</td>\n",
       "      <td id=\"T_405c6_row5_col2\" class=\"data row5 col2\" >0.200217</td>\n",
       "      <td id=\"T_405c6_row5_col3\" class=\"data row5 col3\" >-0.076316</td>\n",
       "      <td id=\"T_405c6_row5_col4\" class=\"data row5 col4\" >0.102232</td>\n",
       "      <td id=\"T_405c6_row5_col5\" class=\"data row5 col5\" >-0.041883</td>\n",
       "      <td id=\"T_405c6_row5_col6\" class=\"data row5 col6\" >-0.323372</td>\n",
       "      <td id=\"T_405c6_row5_col7\" class=\"data row5 col7\" >-0.009399</td>\n",
       "    </tr>\n",
       "    <tr>\n",
       "      <th id=\"T_405c6_level0_row6\" class=\"row_heading level0 row6\" >INTJ</th>\n",
       "      <td id=\"T_405c6_row6_col0\" class=\"data row6 col0\" >-0.018656</td>\n",
       "      <td id=\"T_405c6_row6_col1\" class=\"data row6 col1\" >-0.078964</td>\n",
       "      <td id=\"T_405c6_row6_col2\" class=\"data row6 col2\" >-0.037260</td>\n",
       "      <td id=\"T_405c6_row6_col3\" class=\"data row6 col3\" >0.010395</td>\n",
       "      <td id=\"T_405c6_row6_col4\" class=\"data row6 col4\" >-0.108813</td>\n",
       "      <td id=\"T_405c6_row6_col5\" class=\"data row6 col5\" >-0.026107</td>\n",
       "      <td id=\"T_405c6_row6_col6\" class=\"data row6 col6\" >0.346471</td>\n",
       "      <td id=\"T_405c6_row6_col7\" class=\"data row6 col7\" >0.033929</td>\n",
       "    </tr>\n",
       "    <tr>\n",
       "      <th id=\"T_405c6_level0_row7\" class=\"row_heading level0 row7\" >NOUN</th>\n",
       "      <td id=\"T_405c6_row7_col0\" class=\"data row7 col0\" >-0.062282</td>\n",
       "      <td id=\"T_405c6_row7_col1\" class=\"data row7 col1\" >0.009822</td>\n",
       "      <td id=\"T_405c6_row7_col2\" class=\"data row7 col2\" >0.223727</td>\n",
       "      <td id=\"T_405c6_row7_col3\" class=\"data row7 col3\" >-0.083635</td>\n",
       "      <td id=\"T_405c6_row7_col4\" class=\"data row7 col4\" >0.099945</td>\n",
       "      <td id=\"T_405c6_row7_col5\" class=\"data row7 col5\" >-0.034760</td>\n",
       "      <td id=\"T_405c6_row7_col6\" class=\"data row7 col6\" >-0.328854</td>\n",
       "      <td id=\"T_405c6_row7_col7\" class=\"data row7 col7\" >-0.025191</td>\n",
       "    </tr>\n",
       "    <tr>\n",
       "      <th id=\"T_405c6_level0_row8\" class=\"row_heading level0 row8\" >NUM</th>\n",
       "      <td id=\"T_405c6_row8_col0\" class=\"data row8 col0\" >0.013140</td>\n",
       "      <td id=\"T_405c6_row8_col1\" class=\"data row8 col1\" >-0.157060</td>\n",
       "      <td id=\"T_405c6_row8_col2\" class=\"data row8 col2\" >-0.459232</td>\n",
       "      <td id=\"T_405c6_row8_col3\" class=\"data row8 col3\" >0.112481</td>\n",
       "      <td id=\"T_405c6_row8_col4\" class=\"data row8 col4\" >0.219923</td>\n",
       "      <td id=\"T_405c6_row8_col5\" class=\"data row8 col5\" >0.124689</td>\n",
       "      <td id=\"T_405c6_row8_col6\" class=\"data row8 col6\" >0.193419</td>\n",
       "      <td id=\"T_405c6_row8_col7\" class=\"data row8 col7\" >0.269030</td>\n",
       "    </tr>\n",
       "    <tr>\n",
       "      <th id=\"T_405c6_level0_row9\" class=\"row_heading level0 row9\" >PART</th>\n",
       "      <td id=\"T_405c6_row9_col0\" class=\"data row9 col0\" >-0.051135</td>\n",
       "      <td id=\"T_405c6_row9_col1\" class=\"data row9 col1\" >-0.018406</td>\n",
       "      <td id=\"T_405c6_row9_col2\" class=\"data row9 col2\" >0.309559</td>\n",
       "      <td id=\"T_405c6_row9_col3\" class=\"data row9 col3\" >-0.026196</td>\n",
       "      <td id=\"T_405c6_row9_col4\" class=\"data row9 col4\" >0.036811</td>\n",
       "      <td id=\"T_405c6_row9_col5\" class=\"data row9 col5\" >-0.165335</td>\n",
       "      <td id=\"T_405c6_row9_col6\" class=\"data row9 col6\" >-0.323455</td>\n",
       "      <td id=\"T_405c6_row9_col7\" class=\"data row9 col7\" >-0.017614</td>\n",
       "    </tr>\n",
       "    <tr>\n",
       "      <th id=\"T_405c6_level0_row10\" class=\"row_heading level0 row10\" >PRON</th>\n",
       "      <td id=\"T_405c6_row10_col0\" class=\"data row10 col0\" >-0.013037</td>\n",
       "      <td id=\"T_405c6_row10_col1\" class=\"data row10 col1\" >0.058365</td>\n",
       "      <td id=\"T_405c6_row10_col2\" class=\"data row10 col2\" >0.167824</td>\n",
       "      <td id=\"T_405c6_row10_col3\" class=\"data row10 col3\" >-0.056189</td>\n",
       "      <td id=\"T_405c6_row10_col4\" class=\"data row10 col4\" >0.085564</td>\n",
       "      <td id=\"T_405c6_row10_col5\" class=\"data row10 col5\" >-0.053859</td>\n",
       "      <td id=\"T_405c6_row10_col6\" class=\"data row10 col6\" >-0.325666</td>\n",
       "      <td id=\"T_405c6_row10_col7\" class=\"data row10 col7\" >-0.046142</td>\n",
       "    </tr>\n",
       "    <tr>\n",
       "      <th id=\"T_405c6_level0_row11\" class=\"row_heading level0 row11\" >PROPN</th>\n",
       "      <td id=\"T_405c6_row11_col0\" class=\"data row11 col0\" >-0.028395</td>\n",
       "      <td id=\"T_405c6_row11_col1\" class=\"data row11 col1\" >0.107877</td>\n",
       "      <td id=\"T_405c6_row11_col2\" class=\"data row11 col2\" >-0.170716</td>\n",
       "      <td id=\"T_405c6_row11_col3\" class=\"data row11 col3\" >0.029695</td>\n",
       "      <td id=\"T_405c6_row11_col4\" class=\"data row11 col4\" >0.202814</td>\n",
       "      <td id=\"T_405c6_row11_col5\" class=\"data row11 col5\" >0.069702</td>\n",
       "      <td id=\"T_405c6_row11_col6\" class=\"data row11 col6\" >-0.221248</td>\n",
       "      <td id=\"T_405c6_row11_col7\" class=\"data row11 col7\" >0.037550</td>\n",
       "    </tr>\n",
       "    <tr>\n",
       "      <th id=\"T_405c6_level0_row12\" class=\"row_heading level0 row12\" >PUNCT</th>\n",
       "      <td id=\"T_405c6_row12_col0\" class=\"data row12 col0\" >-0.036132</td>\n",
       "      <td id=\"T_405c6_row12_col1\" class=\"data row12 col1\" >0.005358</td>\n",
       "      <td id=\"T_405c6_row12_col2\" class=\"data row12 col2\" >0.221744</td>\n",
       "      <td id=\"T_405c6_row12_col3\" class=\"data row12 col3\" >-0.087617</td>\n",
       "      <td id=\"T_405c6_row12_col4\" class=\"data row12 col4\" >0.077459</td>\n",
       "      <td id=\"T_405c6_row12_col5\" class=\"data row12 col5\" >-0.030948</td>\n",
       "      <td id=\"T_405c6_row12_col6\" class=\"data row12 col6\" >-0.335316</td>\n",
       "      <td id=\"T_405c6_row12_col7\" class=\"data row12 col7\" >-0.024623</td>\n",
       "    </tr>\n",
       "    <tr>\n",
       "      <th id=\"T_405c6_level0_row13\" class=\"row_heading level0 row13\" >SCONJ</th>\n",
       "      <td id=\"T_405c6_row13_col0\" class=\"data row13 col0\" >0.066680</td>\n",
       "      <td id=\"T_405c6_row13_col1\" class=\"data row13 col1\" >0.050716</td>\n",
       "      <td id=\"T_405c6_row13_col2\" class=\"data row13 col2\" >0.035126</td>\n",
       "      <td id=\"T_405c6_row13_col3\" class=\"data row13 col3\" >0.142859</td>\n",
       "      <td id=\"T_405c6_row13_col4\" class=\"data row13 col4\" >0.028058</td>\n",
       "      <td id=\"T_405c6_row13_col5\" class=\"data row13 col5\" >-0.235155</td>\n",
       "      <td id=\"T_405c6_row13_col6\" class=\"data row13 col6\" >-0.164217</td>\n",
       "      <td id=\"T_405c6_row13_col7\" class=\"data row13 col7\" >-0.008690</td>\n",
       "    </tr>\n",
       "    <tr>\n",
       "      <th id=\"T_405c6_level0_row14\" class=\"row_heading level0 row14\" >SYM</th>\n",
       "      <td id=\"T_405c6_row14_col0\" class=\"data row14 col0\" >-0.024990</td>\n",
       "      <td id=\"T_405c6_row14_col1\" class=\"data row14 col1\" >-0.080663</td>\n",
       "      <td id=\"T_405c6_row14_col2\" class=\"data row14 col2\" >-0.036654</td>\n",
       "      <td id=\"T_405c6_row14_col3\" class=\"data row14 col3\" >0.035666</td>\n",
       "      <td id=\"T_405c6_row14_col4\" class=\"data row14 col4\" >-0.041648</td>\n",
       "      <td id=\"T_405c6_row14_col5\" class=\"data row14 col5\" >0.134016</td>\n",
       "      <td id=\"T_405c6_row14_col6\" class=\"data row14 col6\" >0.201549</td>\n",
       "      <td id=\"T_405c6_row14_col7\" class=\"data row14 col7\" >-0.051323</td>\n",
       "    </tr>\n",
       "    <tr>\n",
       "      <th id=\"T_405c6_level0_row15\" class=\"row_heading level0 row15\" >VERB</th>\n",
       "      <td id=\"T_405c6_row15_col0\" class=\"data row15 col0\" >-0.028687</td>\n",
       "      <td id=\"T_405c6_row15_col1\" class=\"data row15 col1\" >0.016035</td>\n",
       "      <td id=\"T_405c6_row15_col2\" class=\"data row15 col2\" >0.214506</td>\n",
       "      <td id=\"T_405c6_row15_col3\" class=\"data row15 col3\" >-0.079269</td>\n",
       "      <td id=\"T_405c6_row15_col4\" class=\"data row15 col4\" >0.078745</td>\n",
       "      <td id=\"T_405c6_row15_col5\" class=\"data row15 col5\" >-0.056688</td>\n",
       "      <td id=\"T_405c6_row15_col6\" class=\"data row15 col6\" >-0.334235</td>\n",
       "      <td id=\"T_405c6_row15_col7\" class=\"data row15 col7\" >-0.021180</td>\n",
       "    </tr>\n",
       "    <tr>\n",
       "      <th id=\"T_405c6_level0_row16\" class=\"row_heading level0 row16\" >PCA1</th>\n",
       "      <td id=\"T_405c6_row16_col0\" class=\"data row16 col0\" >0.006463</td>\n",
       "      <td id=\"T_405c6_row16_col1\" class=\"data row16 col1\" >0.089718</td>\n",
       "      <td id=\"T_405c6_row16_col2\" class=\"data row16 col2\" >-0.170875</td>\n",
       "      <td id=\"T_405c6_row16_col3\" class=\"data row16 col3\" >0.060453</td>\n",
       "      <td id=\"T_405c6_row16_col4\" class=\"data row16 col4\" >-0.065973</td>\n",
       "      <td id=\"T_405c6_row16_col5\" class=\"data row16 col5\" >-0.047434</td>\n",
       "      <td id=\"T_405c6_row16_col6\" class=\"data row16 col6\" >0.319495</td>\n",
       "      <td id=\"T_405c6_row16_col7\" class=\"data row16 col7\" >-0.027985</td>\n",
       "    </tr>\n",
       "    <tr>\n",
       "      <th id=\"T_405c6_level0_row17\" class=\"row_heading level0 row17\" >PCA2</th>\n",
       "      <td id=\"T_405c6_row17_col0\" class=\"data row17 col0\" >0.058438</td>\n",
       "      <td id=\"T_405c6_row17_col1\" class=\"data row17 col1\" >0.152770</td>\n",
       "      <td id=\"T_405c6_row17_col2\" class=\"data row17 col2\" >-0.107575</td>\n",
       "      <td id=\"T_405c6_row17_col3\" class=\"data row17 col3\" >-0.058733</td>\n",
       "      <td id=\"T_405c6_row17_col4\" class=\"data row17 col4\" >-0.164382</td>\n",
       "      <td id=\"T_405c6_row17_col5\" class=\"data row17 col5\" >-0.083043</td>\n",
       "      <td id=\"T_405c6_row17_col6\" class=\"data row17 col6\" >0.112727</td>\n",
       "      <td id=\"T_405c6_row17_col7\" class=\"data row17 col7\" >0.057624</td>\n",
       "    </tr>\n",
       "    <tr>\n",
       "      <th id=\"T_405c6_level0_row18\" class=\"row_heading level0 row18\" >anger</th>\n",
       "      <td id=\"T_405c6_row18_col0\" class=\"data row18 col0\" >-0.216654</td>\n",
       "      <td id=\"T_405c6_row18_col1\" class=\"data row18 col1\" >0.135245</td>\n",
       "      <td id=\"T_405c6_row18_col2\" class=\"data row18 col2\" >0.308463</td>\n",
       "      <td id=\"T_405c6_row18_col3\" class=\"data row18 col3\" >-0.138355</td>\n",
       "      <td id=\"T_405c6_row18_col4\" class=\"data row18 col4\" >-0.116638</td>\n",
       "      <td id=\"T_405c6_row18_col5\" class=\"data row18 col5\" >0.144653</td>\n",
       "      <td id=\"T_405c6_row18_col6\" class=\"data row18 col6\" >-0.104879</td>\n",
       "      <td id=\"T_405c6_row18_col7\" class=\"data row18 col7\" >-0.188426</td>\n",
       "    </tr>\n",
       "    <tr>\n",
       "      <th id=\"T_405c6_level0_row19\" class=\"row_heading level0 row19\" >anticipation</th>\n",
       "      <td id=\"T_405c6_row19_col0\" class=\"data row19 col0\" >0.200757</td>\n",
       "      <td id=\"T_405c6_row19_col1\" class=\"data row19 col1\" >-0.024368</td>\n",
       "      <td id=\"T_405c6_row19_col2\" class=\"data row19 col2\" >-0.252575</td>\n",
       "      <td id=\"T_405c6_row19_col3\" class=\"data row19 col3\" >0.014815</td>\n",
       "      <td id=\"T_405c6_row19_col4\" class=\"data row19 col4\" >0.047934</td>\n",
       "      <td id=\"T_405c6_row19_col5\" class=\"data row19 col5\" >-0.115461</td>\n",
       "      <td id=\"T_405c6_row19_col6\" class=\"data row19 col6\" >0.097927</td>\n",
       "      <td id=\"T_405c6_row19_col7\" class=\"data row19 col7\" >0.132810</td>\n",
       "    </tr>\n",
       "    <tr>\n",
       "      <th id=\"T_405c6_level0_row20\" class=\"row_heading level0 row20\" >disgust</th>\n",
       "      <td id=\"T_405c6_row20_col0\" class=\"data row20 col0\" >-0.119256</td>\n",
       "      <td id=\"T_405c6_row20_col1\" class=\"data row20 col1\" >0.092525</td>\n",
       "      <td id=\"T_405c6_row20_col2\" class=\"data row20 col2\" >0.115359</td>\n",
       "      <td id=\"T_405c6_row20_col3\" class=\"data row20 col3\" >0.116855</td>\n",
       "      <td id=\"T_405c6_row20_col4\" class=\"data row20 col4\" >-0.080443</td>\n",
       "      <td id=\"T_405c6_row20_col5\" class=\"data row20 col5\" >-0.004290</td>\n",
       "      <td id=\"T_405c6_row20_col6\" class=\"data row20 col6\" >-0.097983</td>\n",
       "      <td id=\"T_405c6_row20_col7\" class=\"data row20 col7\" >-0.111757</td>\n",
       "    </tr>\n",
       "    <tr>\n",
       "      <th id=\"T_405c6_level0_row21\" class=\"row_heading level0 row21\" >fear</th>\n",
       "      <td id=\"T_405c6_row21_col0\" class=\"data row21 col0\" >-0.023813</td>\n",
       "      <td id=\"T_405c6_row21_col1\" class=\"data row21 col1\" >0.135098</td>\n",
       "      <td id=\"T_405c6_row21_col2\" class=\"data row21 col2\" >0.221474</td>\n",
       "      <td id=\"T_405c6_row21_col3\" class=\"data row21 col3\" >-0.048295</td>\n",
       "      <td id=\"T_405c6_row21_col4\" class=\"data row21 col4\" >-0.066394</td>\n",
       "      <td id=\"T_405c6_row21_col5\" class=\"data row21 col5\" >0.007809</td>\n",
       "      <td id=\"T_405c6_row21_col6\" class=\"data row21 col6\" >-0.167276</td>\n",
       "      <td id=\"T_405c6_row21_col7\" class=\"data row21 col7\" >-0.210721</td>\n",
       "    </tr>\n",
       "    <tr>\n",
       "      <th id=\"T_405c6_level0_row22\" class=\"row_heading level0 row22\" >joy</th>\n",
       "      <td id=\"T_405c6_row22_col0\" class=\"data row22 col0\" >0.140536</td>\n",
       "      <td id=\"T_405c6_row22_col1\" class=\"data row22 col1\" >0.138844</td>\n",
       "      <td id=\"T_405c6_row22_col2\" class=\"data row22 col2\" >-0.356402</td>\n",
       "      <td id=\"T_405c6_row22_col3\" class=\"data row22 col3\" >-0.138397</td>\n",
       "      <td id=\"T_405c6_row22_col4\" class=\"data row22 col4\" >0.157755</td>\n",
       "      <td id=\"T_405c6_row22_col5\" class=\"data row22 col5\" >0.052390</td>\n",
       "      <td id=\"T_405c6_row22_col6\" class=\"data row22 col6\" >0.135060</td>\n",
       "      <td id=\"T_405c6_row22_col7\" class=\"data row22 col7\" >0.062791</td>\n",
       "    </tr>\n",
       "    <tr>\n",
       "      <th id=\"T_405c6_level0_row23\" class=\"row_heading level0 row23\" >negative</th>\n",
       "      <td id=\"T_405c6_row23_col0\" class=\"data row23 col0\" >-0.272472</td>\n",
       "      <td id=\"T_405c6_row23_col1\" class=\"data row23 col1\" >0.098153</td>\n",
       "      <td id=\"T_405c6_row23_col2\" class=\"data row23 col2\" >0.193353</td>\n",
       "      <td id=\"T_405c6_row23_col3\" class=\"data row23 col3\" >0.137188</td>\n",
       "      <td id=\"T_405c6_row23_col4\" class=\"data row23 col4\" >-0.135484</td>\n",
       "      <td id=\"T_405c6_row23_col5\" class=\"data row23 col5\" >0.012918</td>\n",
       "      <td id=\"T_405c6_row23_col6\" class=\"data row23 col6\" >-0.016975</td>\n",
       "      <td id=\"T_405c6_row23_col7\" class=\"data row23 col7\" >-0.113422</td>\n",
       "    </tr>\n",
       "    <tr>\n",
       "      <th id=\"T_405c6_level0_row24\" class=\"row_heading level0 row24\" >positive</th>\n",
       "      <td id=\"T_405c6_row24_col0\" class=\"data row24 col0\" >0.145482</td>\n",
       "      <td id=\"T_405c6_row24_col1\" class=\"data row24 col1\" >-0.293498</td>\n",
       "      <td id=\"T_405c6_row24_col2\" class=\"data row24 col2\" >-0.043648</td>\n",
       "      <td id=\"T_405c6_row24_col3\" class=\"data row24 col3\" >-0.038263</td>\n",
       "      <td id=\"T_405c6_row24_col4\" class=\"data row24 col4\" >0.080769</td>\n",
       "      <td id=\"T_405c6_row24_col5\" class=\"data row24 col5\" >0.094328</td>\n",
       "      <td id=\"T_405c6_row24_col6\" class=\"data row24 col6\" >0.063700</td>\n",
       "      <td id=\"T_405c6_row24_col7\" class=\"data row24 col7\" >0.104530</td>\n",
       "    </tr>\n",
       "    <tr>\n",
       "      <th id=\"T_405c6_level0_row25\" class=\"row_heading level0 row25\" >sadness</th>\n",
       "      <td id=\"T_405c6_row25_col0\" class=\"data row25 col0\" >-0.201709</td>\n",
       "      <td id=\"T_405c6_row25_col1\" class=\"data row25 col1\" >0.157173</td>\n",
       "      <td id=\"T_405c6_row25_col2\" class=\"data row25 col2\" >-0.161536</td>\n",
       "      <td id=\"T_405c6_row25_col3\" class=\"data row25 col3\" >0.067192</td>\n",
       "      <td id=\"T_405c6_row25_col4\" class=\"data row25 col4\" >-0.107997</td>\n",
       "      <td id=\"T_405c6_row25_col5\" class=\"data row25 col5\" >0.088455</td>\n",
       "      <td id=\"T_405c6_row25_col6\" class=\"data row25 col6\" >0.117254</td>\n",
       "      <td id=\"T_405c6_row25_col7\" class=\"data row25 col7\" >0.074187</td>\n",
       "    </tr>\n",
       "    <tr>\n",
       "      <th id=\"T_405c6_level0_row26\" class=\"row_heading level0 row26\" >surprise</th>\n",
       "      <td id=\"T_405c6_row26_col0\" class=\"data row26 col0\" >0.052804</td>\n",
       "      <td id=\"T_405c6_row26_col1\" class=\"data row26 col1\" >-0.091395</td>\n",
       "      <td id=\"T_405c6_row26_col2\" class=\"data row26 col2\" >-0.051598</td>\n",
       "      <td id=\"T_405c6_row26_col3\" class=\"data row26 col3\" >-0.021092</td>\n",
       "      <td id=\"T_405c6_row26_col4\" class=\"data row26 col4\" >0.096519</td>\n",
       "      <td id=\"T_405c6_row26_col5\" class=\"data row26 col5\" >-0.079311</td>\n",
       "      <td id=\"T_405c6_row26_col6\" class=\"data row26 col6\" >-0.048593</td>\n",
       "      <td id=\"T_405c6_row26_col7\" class=\"data row26 col7\" >0.146205</td>\n",
       "    </tr>\n",
       "    <tr>\n",
       "      <th id=\"T_405c6_level0_row27\" class=\"row_heading level0 row27\" >trust</th>\n",
       "      <td id=\"T_405c6_row27_col0\" class=\"data row27 col0\" >0.092835</td>\n",
       "      <td id=\"T_405c6_row27_col1\" class=\"data row27 col1\" >-0.097692</td>\n",
       "      <td id=\"T_405c6_row27_col2\" class=\"data row27 col2\" >0.007807</td>\n",
       "      <td id=\"T_405c6_row27_col3\" class=\"data row27 col3\" >0.115659</td>\n",
       "      <td id=\"T_405c6_row27_col4\" class=\"data row27 col4\" >0.047245</td>\n",
       "      <td id=\"T_405c6_row27_col5\" class=\"data row27 col5\" >-0.245845</td>\n",
       "      <td id=\"T_405c6_row27_col6\" class=\"data row27 col6\" >-0.032541</td>\n",
       "      <td id=\"T_405c6_row27_col7\" class=\"data row27 col7\" >0.091588</td>\n",
       "    </tr>\n",
       "    <tr>\n",
       "      <th id=\"T_405c6_level0_row28\" class=\"row_heading level0 row28\" >num_sents</th>\n",
       "      <td id=\"T_405c6_row28_col0\" class=\"data row28 col0\" >0.001476</td>\n",
       "      <td id=\"T_405c6_row28_col1\" class=\"data row28 col1\" >-0.048532</td>\n",
       "      <td id=\"T_405c6_row28_col2\" class=\"data row28 col2\" >-0.048486</td>\n",
       "      <td id=\"T_405c6_row28_col3\" class=\"data row28 col3\" >0.070380</td>\n",
       "      <td id=\"T_405c6_row28_col4\" class=\"data row28 col4\" >0.041208</td>\n",
       "      <td id=\"T_405c6_row28_col5\" class=\"data row28 col5\" >-0.053292</td>\n",
       "      <td id=\"T_405c6_row28_col6\" class=\"data row28 col6\" >0.232187</td>\n",
       "      <td id=\"T_405c6_row28_col7\" class=\"data row28 col7\" >-0.042969</td>\n",
       "    </tr>\n",
       "    <tr>\n",
       "      <th id=\"T_405c6_level0_row29\" class=\"row_heading level0 row29\" >num_words</th>\n",
       "      <td id=\"T_405c6_row29_col0\" class=\"data row29 col0\" >-0.019408</td>\n",
       "      <td id=\"T_405c6_row29_col1\" class=\"data row29 col1\" >-0.054016</td>\n",
       "      <td id=\"T_405c6_row29_col2\" class=\"data row29 col2\" >-0.036121</td>\n",
       "      <td id=\"T_405c6_row29_col3\" class=\"data row29 col3\" >0.066834</td>\n",
       "      <td id=\"T_405c6_row29_col4\" class=\"data row29 col4\" >0.078505</td>\n",
       "      <td id=\"T_405c6_row29_col5\" class=\"data row29 col5\" >-0.045145</td>\n",
       "      <td id=\"T_405c6_row29_col6\" class=\"data row29 col6\" >0.191484</td>\n",
       "      <td id=\"T_405c6_row29_col7\" class=\"data row29 col7\" >-0.037067</td>\n",
       "    </tr>\n",
       "    <tr>\n",
       "      <th id=\"T_405c6_level0_row30\" class=\"row_heading level0 row30\" >num_unique_words</th>\n",
       "      <td id=\"T_405c6_row30_col0\" class=\"data row30 col0\" >-0.011772</td>\n",
       "      <td id=\"T_405c6_row30_col1\" class=\"data row30 col1\" >-0.052732</td>\n",
       "      <td id=\"T_405c6_row30_col2\" class=\"data row30 col2\" >-0.034539</td>\n",
       "      <td id=\"T_405c6_row30_col3\" class=\"data row30 col3\" >0.055262</td>\n",
       "      <td id=\"T_405c6_row30_col4\" class=\"data row30 col4\" >0.090526</td>\n",
       "      <td id=\"T_405c6_row30_col5\" class=\"data row30 col5\" >-0.057286</td>\n",
       "      <td id=\"T_405c6_row30_col6\" class=\"data row30 col6\" >0.187782</td>\n",
       "      <td id=\"T_405c6_row30_col7\" class=\"data row30 col7\" >-0.032817</td>\n",
       "    </tr>\n",
       "    <tr>\n",
       "      <th id=\"T_405c6_level0_row31\" class=\"row_heading level0 row31\" >depth</th>\n",
       "      <td id=\"T_405c6_row31_col0\" class=\"data row31 col0\" >-0.137097</td>\n",
       "      <td id=\"T_405c6_row31_col1\" class=\"data row31 col1\" >-0.161207</td>\n",
       "      <td id=\"T_405c6_row31_col2\" class=\"data row31 col2\" >0.198185</td>\n",
       "      <td id=\"T_405c6_row31_col3\" class=\"data row31 col3\" >-0.173308</td>\n",
       "      <td id=\"T_405c6_row31_col4\" class=\"data row31 col4\" >0.162402</td>\n",
       "      <td id=\"T_405c6_row31_col5\" class=\"data row31 col5\" >0.175646</td>\n",
       "      <td id=\"T_405c6_row31_col6\" class=\"data row31 col6\" >-0.321220</td>\n",
       "      <td id=\"T_405c6_row31_col7\" class=\"data row31 col7\" >0.109641</td>\n",
       "    </tr>\n",
       "    <tr>\n",
       "      <th id=\"T_405c6_level0_row32\" class=\"row_heading level0 row32\" >TBsubjectivity</th>\n",
       "      <td id=\"T_405c6_row32_col0\" class=\"data row32 col0\" >0.021329</td>\n",
       "      <td id=\"T_405c6_row32_col1\" class=\"data row32 col1\" >0.149739</td>\n",
       "      <td id=\"T_405c6_row32_col2\" class=\"data row32 col2\" >-0.045204</td>\n",
       "      <td id=\"T_405c6_row32_col3\" class=\"data row32 col3\" >-0.020366</td>\n",
       "      <td id=\"T_405c6_row32_col4\" class=\"data row32 col4\" >-0.105563</td>\n",
       "      <td id=\"T_405c6_row32_col5\" class=\"data row32 col5\" >-0.186062</td>\n",
       "      <td id=\"T_405c6_row32_col6\" class=\"data row32 col6\" >0.118947</td>\n",
       "      <td id=\"T_405c6_row32_col7\" class=\"data row32 col7\" >0.029368</td>\n",
       "    </tr>\n",
       "    <tr>\n",
       "      <th id=\"T_405c6_level0_row33\" class=\"row_heading level0 row33\" >TBpolarity</th>\n",
       "      <td id=\"T_405c6_row33_col0\" class=\"data row33 col0\" >0.256724</td>\n",
       "      <td id=\"T_405c6_row33_col1\" class=\"data row33 col1\" >0.080545</td>\n",
       "      <td id=\"T_405c6_row33_col2\" class=\"data row33 col2\" >-0.350196</td>\n",
       "      <td id=\"T_405c6_row33_col3\" class=\"data row33 col3\" >0.039207</td>\n",
       "      <td id=\"T_405c6_row33_col4\" class=\"data row33 col4\" >-0.029105</td>\n",
       "      <td id=\"T_405c6_row33_col5\" class=\"data row33 col5\" >-0.057378</td>\n",
       "      <td id=\"T_405c6_row33_col6\" class=\"data row33 col6\" >0.145531</td>\n",
       "      <td id=\"T_405c6_row33_col7\" class=\"data row33 col7\" >0.066519</td>\n",
       "    </tr>\n",
       "    <tr>\n",
       "      <th id=\"T_405c6_level0_row34\" class=\"row_heading level0 row34\" >words_per_sentence</th>\n",
       "      <td id=\"T_405c6_row34_col0\" class=\"data row34 col0\" >-0.122901</td>\n",
       "      <td id=\"T_405c6_row34_col1\" class=\"data row34 col1\" >-0.102492</td>\n",
       "      <td id=\"T_405c6_row34_col2\" class=\"data row34 col2\" >0.012941</td>\n",
       "      <td id=\"T_405c6_row34_col3\" class=\"data row34 col3\" >-0.185186</td>\n",
       "      <td id=\"T_405c6_row34_col4\" class=\"data row34 col4\" >0.253276</td>\n",
       "      <td id=\"T_405c6_row34_col5\" class=\"data row34 col5\" >0.312681</td>\n",
       "      <td id=\"T_405c6_row34_col6\" class=\"data row34 col6\" >-0.239473</td>\n",
       "      <td id=\"T_405c6_row34_col7\" class=\"data row34 col7\" >0.074177</td>\n",
       "    </tr>\n",
       "    <tr>\n",
       "      <th id=\"T_405c6_level0_row35\" class=\"row_heading level0 row35\" >char_count</th>\n",
       "      <td id=\"T_405c6_row35_col0\" class=\"data row35 col0\" >-0.021104</td>\n",
       "      <td id=\"T_405c6_row35_col1\" class=\"data row35 col1\" >-0.061877</td>\n",
       "      <td id=\"T_405c6_row35_col2\" class=\"data row35 col2\" >-0.030537</td>\n",
       "      <td id=\"T_405c6_row35_col3\" class=\"data row35 col3\" >0.076200</td>\n",
       "      <td id=\"T_405c6_row35_col4\" class=\"data row35 col4\" >0.084382</td>\n",
       "      <td id=\"T_405c6_row35_col5\" class=\"data row35 col5\" >-0.051186</td>\n",
       "      <td id=\"T_405c6_row35_col6\" class=\"data row35 col6\" >0.176464</td>\n",
       "      <td id=\"T_405c6_row35_col7\" class=\"data row35 col7\" >-0.032532</td>\n",
       "    </tr>\n",
       "    <tr>\n",
       "      <th id=\"T_405c6_level0_row36\" class=\"row_heading level0 row36\" >syl_count</th>\n",
       "      <td id=\"T_405c6_row36_col0\" class=\"data row36 col0\" >-0.018703</td>\n",
       "      <td id=\"T_405c6_row36_col1\" class=\"data row36 col1\" >-0.060925</td>\n",
       "      <td id=\"T_405c6_row36_col2\" class=\"data row36 col2\" >-0.029249</td>\n",
       "      <td id=\"T_405c6_row36_col3\" class=\"data row36 col3\" >0.074231</td>\n",
       "      <td id=\"T_405c6_row36_col4\" class=\"data row36 col4\" >0.083941</td>\n",
       "      <td id=\"T_405c6_row36_col5\" class=\"data row36 col5\" >-0.054026</td>\n",
       "      <td id=\"T_405c6_row36_col6\" class=\"data row36 col6\" >0.170842</td>\n",
       "      <td id=\"T_405c6_row36_col7\" class=\"data row36 col7\" >-0.030379</td>\n",
       "    </tr>\n",
       "    <tr>\n",
       "      <th id=\"T_405c6_level0_row37\" class=\"row_heading level0 row37\" >word_count</th>\n",
       "      <td id=\"T_405c6_row37_col0\" class=\"data row37 col0\" >-0.019720</td>\n",
       "      <td id=\"T_405c6_row37_col1\" class=\"data row37 col1\" >-0.056548</td>\n",
       "      <td id=\"T_405c6_row37_col2\" class=\"data row37 col2\" >-0.037038</td>\n",
       "      <td id=\"T_405c6_row37_col3\" class=\"data row37 col3\" >0.069932</td>\n",
       "      <td id=\"T_405c6_row37_col4\" class=\"data row37 col4\" >0.076336</td>\n",
       "      <td id=\"T_405c6_row37_col5\" class=\"data row37 col5\" >-0.044772</td>\n",
       "      <td id=\"T_405c6_row37_col6\" class=\"data row37 col6\" >0.193682</td>\n",
       "      <td id=\"T_405c6_row37_col7\" class=\"data row37 col7\" >-0.035789</td>\n",
       "    </tr>\n",
       "    <tr>\n",
       "      <th id=\"T_405c6_level0_row38\" class=\"row_heading level0 row38\" >char_per_word</th>\n",
       "      <td id=\"T_405c6_row38_col0\" class=\"data row38 col0\" >-0.060924</td>\n",
       "      <td id=\"T_405c6_row38_col1\" class=\"data row38 col1\" >-0.217627</td>\n",
       "      <td id=\"T_405c6_row38_col2\" class=\"data row38 col2\" >0.249443</td>\n",
       "      <td id=\"T_405c6_row38_col3\" class=\"data row38 col3\" >0.102496</td>\n",
       "      <td id=\"T_405c6_row38_col4\" class=\"data row38 col4\" >0.088626</td>\n",
       "      <td id=\"T_405c6_row38_col5\" class=\"data row38 col5\" >-0.024063</td>\n",
       "      <td id=\"T_405c6_row38_col6\" class=\"data row38 col6\" >-0.297478</td>\n",
       "      <td id=\"T_405c6_row38_col7\" class=\"data row38 col7\" >0.023875</td>\n",
       "    </tr>\n",
       "    <tr>\n",
       "      <th id=\"T_405c6_level0_row39\" class=\"row_heading level0 row39\" >syl_per_word</th>\n",
       "      <td id=\"T_405c6_row39_col0\" class=\"data row39 col0\" >0.030970</td>\n",
       "      <td id=\"T_405c6_row39_col1\" class=\"data row39 col1\" >-0.185055</td>\n",
       "      <td id=\"T_405c6_row39_col2\" class=\"data row39 col2\" >0.172049</td>\n",
       "      <td id=\"T_405c6_row39_col3\" class=\"data row39 col3\" >0.069987</td>\n",
       "      <td id=\"T_405c6_row39_col4\" class=\"data row39 col4\" >0.059921</td>\n",
       "      <td id=\"T_405c6_row39_col5\" class=\"data row39 col5\" >-0.040428</td>\n",
       "      <td id=\"T_405c6_row39_col6\" class=\"data row39 col6\" >-0.325969</td>\n",
       "      <td id=\"T_405c6_row39_col7\" class=\"data row39 col7\" >0.069603</td>\n",
       "    </tr>\n",
       "    <tr>\n",
       "      <th id=\"T_405c6_level0_row40\" class=\"row_heading level0 row40\" >sent_count</th>\n",
       "      <td id=\"T_405c6_row40_col0\" class=\"data row40 col0\" >0.001378</td>\n",
       "      <td id=\"T_405c6_row40_col1\" class=\"data row40 col1\" >-0.048580</td>\n",
       "      <td id=\"T_405c6_row40_col2\" class=\"data row40 col2\" >-0.048472</td>\n",
       "      <td id=\"T_405c6_row40_col3\" class=\"data row40 col3\" >0.070359</td>\n",
       "      <td id=\"T_405c6_row40_col4\" class=\"data row40 col4\" >0.041299</td>\n",
       "      <td id=\"T_405c6_row40_col5\" class=\"data row40 col5\" >-0.053273</td>\n",
       "      <td id=\"T_405c6_row40_col6\" class=\"data row40 col6\" >0.232188</td>\n",
       "      <td id=\"T_405c6_row40_col7\" class=\"data row40 col7\" >-0.042909</td>\n",
       "    </tr>\n",
       "    <tr>\n",
       "      <th id=\"T_405c6_level0_row41\" class=\"row_heading level0 row41\" >word_per_sent</th>\n",
       "      <td id=\"T_405c6_row41_col0\" class=\"data row41 col0\" >-0.129693</td>\n",
       "      <td id=\"T_405c6_row41_col1\" class=\"data row41 col1\" >-0.109678</td>\n",
       "      <td id=\"T_405c6_row41_col2\" class=\"data row41 col2\" >0.017823</td>\n",
       "      <td id=\"T_405c6_row41_col3\" class=\"data row41 col3\" >-0.170648</td>\n",
       "      <td id=\"T_405c6_row41_col4\" class=\"data row41 col4\" >0.250932</td>\n",
       "      <td id=\"T_405c6_row41_col5\" class=\"data row41 col5\" >0.309101</td>\n",
       "      <td id=\"T_405c6_row41_col6\" class=\"data row41 col6\" >-0.239581</td>\n",
       "      <td id=\"T_405c6_row41_col7\" class=\"data row41 col7\" >0.074337</td>\n",
       "    </tr>\n",
       "    <tr>\n",
       "      <th id=\"T_405c6_level0_row42\" class=\"row_heading level0 row42\" >dc_word_count</th>\n",
       "      <td id=\"T_405c6_row42_col0\" class=\"data row42 col0\" >-0.017888</td>\n",
       "      <td id=\"T_405c6_row42_col1\" class=\"data row42 col1\" >-0.072836</td>\n",
       "      <td id=\"T_405c6_row42_col2\" class=\"data row42 col2\" >-0.019191</td>\n",
       "      <td id=\"T_405c6_row42_col3\" class=\"data row42 col3\" >0.074149</td>\n",
       "      <td id=\"T_405c6_row42_col4\" class=\"data row42 col4\" >0.085037</td>\n",
       "      <td id=\"T_405c6_row42_col5\" class=\"data row42 col5\" >-0.057269</td>\n",
       "      <td id=\"T_405c6_row42_col6\" class=\"data row42 col6\" >0.172096</td>\n",
       "      <td id=\"T_405c6_row42_col7\" class=\"data row42 col7\" >-0.029563</td>\n",
       "    </tr>\n",
       "    <tr>\n",
       "      <th id=\"T_405c6_level0_row43\" class=\"row_heading level0 row43\" >gf_word_count</th>\n",
       "      <td id=\"T_405c6_row43_col0\" class=\"data row43 col0\" >-0.013145</td>\n",
       "      <td id=\"T_405c6_row43_col1\" class=\"data row43 col1\" >-0.084930</td>\n",
       "      <td id=\"T_405c6_row43_col2\" class=\"data row43 col2\" >-0.017251</td>\n",
       "      <td id=\"T_405c6_row43_col3\" class=\"data row43 col3\" >0.104510</td>\n",
       "      <td id=\"T_405c6_row43_col4\" class=\"data row43 col4\" >0.097428</td>\n",
       "      <td id=\"T_405c6_row43_col5\" class=\"data row43 col5\" >-0.076656</td>\n",
       "      <td id=\"T_405c6_row43_col6\" class=\"data row43 col6\" >0.128088</td>\n",
       "      <td id=\"T_405c6_row43_col7\" class=\"data row43 col7\" >-0.017362</td>\n",
       "    </tr>\n",
       "    <tr>\n",
       "      <th id=\"T_405c6_level0_row44\" class=\"row_heading level0 row44\" >poly_word_count</th>\n",
       "      <td id=\"T_405c6_row44_col0\" class=\"data row44 col0\" >-0.010502</td>\n",
       "      <td id=\"T_405c6_row44_col1\" class=\"data row44 col1\" >-0.087757</td>\n",
       "      <td id=\"T_405c6_row44_col2\" class=\"data row44 col2\" >-0.016962</td>\n",
       "      <td id=\"T_405c6_row44_col3\" class=\"data row44 col3\" >0.104130</td>\n",
       "      <td id=\"T_405c6_row44_col4\" class=\"data row44 col4\" >0.090721</td>\n",
       "      <td id=\"T_405c6_row44_col5\" class=\"data row44 col5\" >-0.075586</td>\n",
       "      <td id=\"T_405c6_row44_col6\" class=\"data row44 col6\" >0.127020</td>\n",
       "      <td id=\"T_405c6_row44_col7\" class=\"data row44 col7\" >-0.013443</td>\n",
       "    </tr>\n",
       "    <tr>\n",
       "      <th id=\"T_405c6_level0_row45\" class=\"row_heading level0 row45\" >dc_word_perc</th>\n",
       "      <td id=\"T_405c6_row45_col0\" class=\"data row45 col0\" >0.002252</td>\n",
       "      <td id=\"T_405c6_row45_col1\" class=\"data row45 col1\" >-0.228377</td>\n",
       "      <td id=\"T_405c6_row45_col2\" class=\"data row45 col2\" >0.149252</td>\n",
       "      <td id=\"T_405c6_row45_col3\" class=\"data row45 col3\" >0.179646</td>\n",
       "      <td id=\"T_405c6_row45_col4\" class=\"data row45 col4\" >0.068945</td>\n",
       "      <td id=\"T_405c6_row45_col5\" class=\"data row45 col5\" >-0.092863</td>\n",
       "      <td id=\"T_405c6_row45_col6\" class=\"data row45 col6\" >-0.134456</td>\n",
       "      <td id=\"T_405c6_row45_col7\" class=\"data row45 col7\" >0.019341</td>\n",
       "    </tr>\n",
       "    <tr>\n",
       "      <th id=\"T_405c6_level0_row46\" class=\"row_heading level0 row46\" >gf_word_perc</th>\n",
       "      <td id=\"T_405c6_row46_col0\" class=\"data row46 col0\" >0.080861</td>\n",
       "      <td id=\"T_405c6_row46_col1\" class=\"data row46 col1\" >-0.227678</td>\n",
       "      <td id=\"T_405c6_row46_col2\" class=\"data row46 col2\" >0.079519</td>\n",
       "      <td id=\"T_405c6_row46_col3\" class=\"data row46 col3\" >0.192679</td>\n",
       "      <td id=\"T_405c6_row46_col4\" class=\"data row46 col4\" >0.077091</td>\n",
       "      <td id=\"T_405c6_row46_col5\" class=\"data row46 col5\" >-0.049736</td>\n",
       "      <td id=\"T_405c6_row46_col6\" class=\"data row46 col6\" >-0.288250</td>\n",
       "      <td id=\"T_405c6_row46_col7\" class=\"data row46 col7\" >0.063916</td>\n",
       "    </tr>\n",
       "    <tr>\n",
       "      <th id=\"T_405c6_level0_row47\" class=\"row_heading level0 row47\" >poly_word_perc</th>\n",
       "      <td id=\"T_405c6_row47_col0\" class=\"data row47 col0\" >0.076452</td>\n",
       "      <td id=\"T_405c6_row47_col1\" class=\"data row47 col1\" >-0.256107</td>\n",
       "      <td id=\"T_405c6_row47_col2\" class=\"data row47 col2\" >0.091344</td>\n",
       "      <td id=\"T_405c6_row47_col3\" class=\"data row47 col3\" >0.177918</td>\n",
       "      <td id=\"T_405c6_row47_col4\" class=\"data row47 col4\" >0.054906</td>\n",
       "      <td id=\"T_405c6_row47_col5\" class=\"data row47 col5\" >-0.019028</td>\n",
       "      <td id=\"T_405c6_row47_col6\" class=\"data row47 col6\" >-0.293335</td>\n",
       "      <td id=\"T_405c6_row47_col7\" class=\"data row47 col7\" >0.084806</td>\n",
       "    </tr>\n",
       "    <tr>\n",
       "      <th id=\"T_405c6_level0_row48\" class=\"row_heading level0 row48\" >ari</th>\n",
       "      <td id=\"T_405c6_row48_col0\" class=\"data row48 col0\" >-0.130127</td>\n",
       "      <td id=\"T_405c6_row48_col1\" class=\"data row48 col1\" >-0.176477</td>\n",
       "      <td id=\"T_405c6_row48_col2\" class=\"data row48 col2\" >0.114297</td>\n",
       "      <td id=\"T_405c6_row48_col3\" class=\"data row48 col3\" >-0.098166</td>\n",
       "      <td id=\"T_405c6_row48_col4\" class=\"data row48 col4\" >0.240073</td>\n",
       "      <td id=\"T_405c6_row48_col5\" class=\"data row48 col5\" >0.242440</td>\n",
       "      <td id=\"T_405c6_row48_col6\" class=\"data row48 col6\" >-0.314346</td>\n",
       "      <td id=\"T_405c6_row48_col7\" class=\"data row48 col7\" >0.070168</td>\n",
       "    </tr>\n",
       "    <tr>\n",
       "      <th id=\"T_405c6_level0_row49\" class=\"row_heading level0 row49\" >flesch_kincaid</th>\n",
       "      <td id=\"T_405c6_row49_col0\" class=\"data row49 col0\" >-0.084351</td>\n",
       "      <td id=\"T_405c6_row49_col1\" class=\"data row49 col1\" >-0.175972</td>\n",
       "      <td id=\"T_405c6_row49_col2\" class=\"data row49 col2\" >0.098923</td>\n",
       "      <td id=\"T_405c6_row49_col3\" class=\"data row49 col3\" >-0.096505</td>\n",
       "      <td id=\"T_405c6_row49_col4\" class=\"data row49 col4\" >0.222567</td>\n",
       "      <td id=\"T_405c6_row49_col5\" class=\"data row49 col5\" >0.217573</td>\n",
       "      <td id=\"T_405c6_row49_col6\" class=\"data row49 col6\" >-0.345626</td>\n",
       "      <td id=\"T_405c6_row49_col7\" class=\"data row49 col7\" >0.091618</td>\n",
       "    </tr>\n",
       "    <tr>\n",
       "      <th id=\"T_405c6_level0_row50\" class=\"row_heading level0 row50\" >coleman_liau</th>\n",
       "      <td id=\"T_405c6_row50_col0\" class=\"data row50 col0\" >-0.085927</td>\n",
       "      <td id=\"T_405c6_row50_col1\" class=\"data row50 col1\" >-0.211799</td>\n",
       "      <td id=\"T_405c6_row50_col2\" class=\"data row50 col2\" >0.247003</td>\n",
       "      <td id=\"T_405c6_row50_col3\" class=\"data row50 col3\" >0.070829</td>\n",
       "      <td id=\"T_405c6_row50_col4\" class=\"data row50 col4\" >0.125207</td>\n",
       "      <td id=\"T_405c6_row50_col5\" class=\"data row50 col5\" >0.011827</td>\n",
       "      <td id=\"T_405c6_row50_col6\" class=\"data row50 col6\" >-0.319246</td>\n",
       "      <td id=\"T_405c6_row50_col7\" class=\"data row50 col7\" >0.029441</td>\n",
       "    </tr>\n",
       "    <tr>\n",
       "      <th id=\"T_405c6_level0_row51\" class=\"row_heading level0 row51\" >dale_chall</th>\n",
       "      <td id=\"T_405c6_row51_col0\" class=\"data row51 col0\" >-0.124610</td>\n",
       "      <td id=\"T_405c6_row51_col1\" class=\"data row51 col1\" >-0.165788</td>\n",
       "      <td id=\"T_405c6_row51_col2\" class=\"data row51 col2\" >0.056359</td>\n",
       "      <td id=\"T_405c6_row51_col3\" class=\"data row51 col3\" >-0.117610</td>\n",
       "      <td id=\"T_405c6_row51_col4\" class=\"data row51 col4\" >0.260326</td>\n",
       "      <td id=\"T_405c6_row51_col5\" class=\"data row51 col5\" >0.274033</td>\n",
       "      <td id=\"T_405c6_row51_col6\" class=\"data row51 col6\" >-0.266554</td>\n",
       "      <td id=\"T_405c6_row51_col7\" class=\"data row51 col7\" >0.076836</td>\n",
       "    </tr>\n",
       "    <tr>\n",
       "      <th id=\"T_405c6_level0_row52\" class=\"row_heading level0 row52\" >gunning_fog</th>\n",
       "      <td id=\"T_405c6_row52_col0\" class=\"data row52 col0\" >-0.073655</td>\n",
       "      <td id=\"T_405c6_row52_col1\" class=\"data row52 col1\" >-0.190815</td>\n",
       "      <td id=\"T_405c6_row52_col2\" class=\"data row52 col2\" >0.049467</td>\n",
       "      <td id=\"T_405c6_row52_col3\" class=\"data row52 col3\" >-0.059456</td>\n",
       "      <td id=\"T_405c6_row52_col4\" class=\"data row52 col4\" >0.243895</td>\n",
       "      <td id=\"T_405c6_row52_col5\" class=\"data row52 col5\" >0.237617</td>\n",
       "      <td id=\"T_405c6_row52_col6\" class=\"data row52 col6\" >-0.326046</td>\n",
       "      <td id=\"T_405c6_row52_col7\" class=\"data row52 col7\" >0.090086</td>\n",
       "    </tr>\n",
       "    <tr>\n",
       "      <th id=\"T_405c6_level0_row53\" class=\"row_heading level0 row53\" >smog</th>\n",
       "      <td id=\"T_405c6_row53_col0\" class=\"data row53 col0\" >-0.039616</td>\n",
       "      <td id=\"T_405c6_row53_col1\" class=\"data row53 col1\" >-0.242411</td>\n",
       "      <td id=\"T_405c6_row53_col2\" class=\"data row53 col2\" >0.084067</td>\n",
       "      <td id=\"T_405c6_row53_col3\" class=\"data row53 col3\" >0.014457</td>\n",
       "      <td id=\"T_405c6_row53_col4\" class=\"data row53 col4\" >0.199828</td>\n",
       "      <td id=\"T_405c6_row53_col5\" class=\"data row53 col5\" >0.163209</td>\n",
       "      <td id=\"T_405c6_row53_col6\" class=\"data row53 col6\" >-0.341884</td>\n",
       "      <td id=\"T_405c6_row53_col7\" class=\"data row53 col7\" >0.105574</td>\n",
       "    </tr>\n",
       "    <tr>\n",
       "      <th id=\"T_405c6_level0_row54\" class=\"row_heading level0 row54\" >parallel_count</th>\n",
       "      <td id=\"T_405c6_row54_col0\" class=\"data row54 col0\" >-0.035006</td>\n",
       "      <td id=\"T_405c6_row54_col1\" class=\"data row54 col1\" >-0.017399</td>\n",
       "      <td id=\"T_405c6_row54_col2\" class=\"data row54 col2\" >-0.039679</td>\n",
       "      <td id=\"T_405c6_row54_col3\" class=\"data row54 col3\" >0.018981</td>\n",
       "      <td id=\"T_405c6_row54_col4\" class=\"data row54 col4\" >0.121954</td>\n",
       "      <td id=\"T_405c6_row54_col5\" class=\"data row54 col5\" >0.018007</td>\n",
       "      <td id=\"T_405c6_row54_col6\" class=\"data row54 col6\" >0.147315</td>\n",
       "      <td id=\"T_405c6_row54_col7\" class=\"data row54 col7\" >-0.067006</td>\n",
       "    </tr>\n",
       "    <tr>\n",
       "      <th id=\"T_405c6_level0_row55\" class=\"row_heading level0 row55\" >parallel_per_sent</th>\n",
       "      <td id=\"T_405c6_row55_col0\" class=\"data row55 col0\" >-0.146841</td>\n",
       "      <td id=\"T_405c6_row55_col1\" class=\"data row55 col1\" >-0.034428</td>\n",
       "      <td id=\"T_405c6_row55_col2\" class=\"data row55 col2\" >0.151775</td>\n",
       "      <td id=\"T_405c6_row55_col3\" class=\"data row55 col3\" >-0.282190</td>\n",
       "      <td id=\"T_405c6_row55_col4\" class=\"data row55 col4\" >0.130929</td>\n",
       "      <td id=\"T_405c6_row55_col5\" class=\"data row55 col5\" >0.290925</td>\n",
       "      <td id=\"T_405c6_row55_col6\" class=\"data row55 col6\" >-0.164580</td>\n",
       "      <td id=\"T_405c6_row55_col7\" class=\"data row55 col7\" >-0.014967</td>\n",
       "    </tr>\n",
       "    <tr>\n",
       "      <th id=\"T_405c6_level0_row56\" class=\"row_heading level0 row56\" >depth_std</th>\n",
       "      <td id=\"T_405c6_row56_col0\" class=\"data row56 col0\" >-0.022709</td>\n",
       "      <td id=\"T_405c6_row56_col1\" class=\"data row56 col1\" >-0.196384</td>\n",
       "      <td id=\"T_405c6_row56_col2\" class=\"data row56 col2\" >-0.166616</td>\n",
       "      <td id=\"T_405c6_row56_col3\" class=\"data row56 col3\" >-0.057133</td>\n",
       "      <td id=\"T_405c6_row56_col4\" class=\"data row56 col4\" >0.162391</td>\n",
       "      <td id=\"T_405c6_row56_col5\" class=\"data row56 col5\" >0.372501</td>\n",
       "      <td id=\"T_405c6_row56_col6\" class=\"data row56 col6\" >-0.095875</td>\n",
       "      <td id=\"T_405c6_row56_col7\" class=\"data row56 col7\" >0.131239</td>\n",
       "    </tr>\n",
       "    <tr>\n",
       "      <th id=\"T_405c6_level0_row57\" class=\"row_heading level0 row57\" >words_per_sent_std</th>\n",
       "      <td id=\"T_405c6_row57_col0\" class=\"data row57 col0\" >-0.056595</td>\n",
       "      <td id=\"T_405c6_row57_col1\" class=\"data row57 col1\" >-0.090332</td>\n",
       "      <td id=\"T_405c6_row57_col2\" class=\"data row57 col2\" >-0.221966</td>\n",
       "      <td id=\"T_405c6_row57_col3\" class=\"data row57 col3\" >-0.119901</td>\n",
       "      <td id=\"T_405c6_row57_col4\" class=\"data row57 col4\" >0.248115</td>\n",
       "      <td id=\"T_405c6_row57_col5\" class=\"data row57 col5\" >0.428038</td>\n",
       "      <td id=\"T_405c6_row57_col6\" class=\"data row57 col6\" >-0.079897</td>\n",
       "      <td id=\"T_405c6_row57_col7\" class=\"data row57 col7\" >0.071597</td>\n",
       "    </tr>\n",
       "    <tr>\n",
       "      <th id=\"T_405c6_level0_row58\" class=\"row_heading level0 row58\" >syllables_per_sent_std</th>\n",
       "      <td id=\"T_405c6_row58_col0\" class=\"data row58 col0\" >-0.063021</td>\n",
       "      <td id=\"T_405c6_row58_col1\" class=\"data row58 col1\" >-0.133147</td>\n",
       "      <td id=\"T_405c6_row58_col2\" class=\"data row58 col2\" >-0.210891</td>\n",
       "      <td id=\"T_405c6_row58_col3\" class=\"data row58 col3\" >-0.097360</td>\n",
       "      <td id=\"T_405c6_row58_col4\" class=\"data row58 col4\" >0.275115</td>\n",
       "      <td id=\"T_405c6_row58_col5\" class=\"data row58 col5\" >0.444486</td>\n",
       "      <td id=\"T_405c6_row58_col6\" class=\"data row58 col6\" >-0.123871</td>\n",
       "      <td id=\"T_405c6_row58_col7\" class=\"data row58 col7\" >0.086443</td>\n",
       "    </tr>\n",
       "    <tr>\n",
       "      <th id=\"T_405c6_level0_row59\" class=\"row_heading level0 row59\" >chars_per_sent_std</th>\n",
       "      <td id=\"T_405c6_row59_col0\" class=\"data row59 col0\" >-0.071016</td>\n",
       "      <td id=\"T_405c6_row59_col1\" class=\"data row59 col1\" >-0.121126</td>\n",
       "      <td id=\"T_405c6_row59_col2\" class=\"data row59 col2\" >-0.208608</td>\n",
       "      <td id=\"T_405c6_row59_col3\" class=\"data row59 col3\" >-0.104716</td>\n",
       "      <td id=\"T_405c6_row59_col4\" class=\"data row59 col4\" >0.272279</td>\n",
       "      <td id=\"T_405c6_row59_col5\" class=\"data row59 col5\" >0.438508</td>\n",
       "      <td id=\"T_405c6_row59_col6\" class=\"data row59 col6\" >-0.100772</td>\n",
       "      <td id=\"T_405c6_row59_col7\" class=\"data row59 col7\" >0.077955</td>\n",
       "    </tr>\n",
       "  </tbody>\n",
       "</table>\n"
      ],
      "text/plain": [
       "<pandas.io.formats.style.Styler at 0x7fe656e2e9e0>"
      ]
     },
     "execution_count": 94,
     "metadata": {},
     "output_type": "execute_result"
    }
   ],
   "source": [
    "def highlight_max(x):\n",
    "    return ['font-weight: bold' if abs(v) > 0.30 else ''\n",
    "                for v in x]\n",
    "\n",
    "topic_corr.style.apply(highlight_max)"
   ]
  },
  {
   "cell_type": "code",
   "execution_count": 95,
   "metadata": {},
   "outputs": [
    {
     "data": {
      "application/vnd.plotly.v1+json": {
       "config": {
        "plotlyServerURL": "https://plot.ly"
       },
       "data": [
        {
         "hovertemplate": "intl relations=%{x}<br>NUM=%{y}<extra></extra>",
         "legendgroup": "",
         "marker": {
          "color": "#636efa",
          "symbol": "circle"
         },
         "mode": "markers",
         "name": "",
         "orientation": "v",
         "showlegend": false,
         "type": "scatter",
         "x": [
          0.11188622564077377,
          0.420229971408844,
          0,
          0.0726303681731224,
          0.10882536321878433,
          0.16871045529842377,
          0.12155161052942276,
          0.2156946361064911,
          0.065737284719944,
          0.07108937203884125,
          0.03577682748436928,
          0.19298720359802246,
          0.18843954801559448,
          0.43292608857154846,
          0.23327946662902832,
          0.053984835743904114,
          0.1863272339105606,
          0.05676846206188202,
          0.07677609473466873,
          0.1759592741727829,
          0.08652687817811966,
          0.18355108797550201,
          0.1676500141620636,
          0.07995971292257309,
          0,
          0.08264129608869553,
          0.13169389963150024,
          0.1694147288799286,
          0.07697319984436035,
          0.2573986351490021,
          0.13138069212436676,
          0.1985931247472763,
          0.1951139271259308,
          0.10672546923160553,
          0.10264112800359726,
          0.12957236170768738,
          0.09249997138977051,
          0.08174112439155579,
          0.18718044459819794,
          0.12662377953529358,
          0,
          0.23654107749462128,
          0.21574027836322784,
          0.10404754430055618,
          0.018950041383504868,
          0,
          0.08901991695165634,
          0.11608149856328964,
          0.2137587070465088,
          0,
          0.1353229284286499,
          0.1476685255765915,
          0.087431900203228,
          0.13106302917003632,
          0,
          0.1418261080980301,
          0.11195823550224304,
          0.07702472060918808,
          0.186525359749794,
          0.07071498036384583,
          0.13305267691612244,
          0.017932388931512833,
          0.06334024667739868,
          0.16277295351028442,
          0.14252066612243652,
          0.2708681523799896,
          0.15504318475723267,
          0.18164768815040588,
          0.15955543518066406,
          0.06558198481798172,
          0.07202276587486267,
          0.15389101207256317,
          0,
          0.2469029277563095,
          0.04028588533401489,
          0.13448810577392578,
          0.7034854292869568,
          0.12902411818504333,
          0.20695744454860687,
          0.13938148319721222,
          0.23119588196277618,
          0.20283181965351105,
          0.062220655381679535,
          0.09072249382734299,
          0.0912475734949112,
          0,
          0.16747373342514038,
          0.38420355319976807,
          0.037459541112184525,
          0.14532287418842316,
          0,
          0,
          0.20127716660499573,
          0,
          0,
          0.11875002086162567,
          0.1522427648305893,
          0.037067461758852005,
          0,
          0.12345875799655914
         ],
         "xaxis": "x",
         "y": [
          0.0587270752391695,
          0.065543767336784,
          0.0365657648004286,
          0.0665162341732481,
          0.0529040972534894,
          0.0634532672343807,
          0.0712391919431748,
          0.0406829398426037,
          0.0622495972168755,
          0.0632519689437524,
          0.0613433266070914,
          0.0648509636239698,
          0.0597342922784937,
          0.0275777162203755,
          0.0499916587888561,
          0.0612997721601389,
          0.0511505357456526,
          0.0628401859815605,
          0.0646535282898919,
          0.0648248386957087,
          0.0590968525263846,
          0.067124884440693,
          0.0658343522749212,
          0.0675964317125267,
          0.0532680841489481,
          0.0580608687458777,
          0.0609550730739159,
          0.0347430650295589,
          0.0600338284019556,
          0.0707047337004303,
          0.0548588192152549,
          0.0668974550898204,
          0.0635347424502701,
          0.0631839739505911,
          0.0664666683059975,
          0.067969784033315,
          0.0552693208430913,
          0.0633893919793014,
          0.0622001894344465,
          0.0595264748684652,
          0.0533519427310792,
          0.0595109672779576,
          0.0664007894087657,
          0.063128208836503,
          0.0645395565023724,
          0.041720791625277,
          0.0620485154076261,
          0.0645776724287449,
          0.0560802315721763,
          0.0552763819095477,
          0.0617481589900746,
          0.0604711663535193,
          0.0561339742174363,
          0.0625,
          0.0562563927719059,
          0.0452572517467711,
          0.0581527237055884,
          0.0551916032685263,
          0.0518338711109795,
          0.067621625989979,
          0.0616195636257139,
          0.0564767460444302,
          0.0663891076853831,
          0.0706188086354262,
          0.0648436781801315,
          0.0553604627143152,
          0.0528259653049804,
          0.0588422272914251,
          0.0597935318837932,
          0.0628717854854946,
          0.0480801495613825,
          0.0634928072723865,
          0.0604014372444555,
          0.0563069376313945,
          0.0640398904966758,
          0.0570012999435874,
          0.0111234705228031,
          0.0622892999220769,
          0.0608606619086337,
          0.0603247453148361,
          0.0570891637250171,
          0.0573037110450391,
          0.0501398751882935,
          0.0683916122454603,
          0.0583640806938521,
          0.0629483616622504,
          0.0432981746375765,
          0,
          0.0571592429745747,
          0.0587714089113857,
          0.0579825258141382,
          0.0780669144981413,
          0.0613302154922482,
          0.0564003641640902,
          0.0642351660315732,
          0.0609606781257358,
          0.0595892975432735,
          0.0697244312927686,
          0.0608006421189927,
          0.0654024720394938
         ],
         "yaxis": "y"
        }
       ],
       "layout": {
        "legend": {
         "tracegroupgap": 0
        },
        "margin": {
         "t": 60
        },
        "template": {
         "data": {
          "bar": [
           {
            "error_x": {
             "color": "#2a3f5f"
            },
            "error_y": {
             "color": "#2a3f5f"
            },
            "marker": {
             "line": {
              "color": "#E5ECF6",
              "width": 0.5
             },
             "pattern": {
              "fillmode": "overlay",
              "size": 10,
              "solidity": 0.2
             }
            },
            "type": "bar"
           }
          ],
          "barpolar": [
           {
            "marker": {
             "line": {
              "color": "#E5ECF6",
              "width": 0.5
             },
             "pattern": {
              "fillmode": "overlay",
              "size": 10,
              "solidity": 0.2
             }
            },
            "type": "barpolar"
           }
          ],
          "carpet": [
           {
            "aaxis": {
             "endlinecolor": "#2a3f5f",
             "gridcolor": "white",
             "linecolor": "white",
             "minorgridcolor": "white",
             "startlinecolor": "#2a3f5f"
            },
            "baxis": {
             "endlinecolor": "#2a3f5f",
             "gridcolor": "white",
             "linecolor": "white",
             "minorgridcolor": "white",
             "startlinecolor": "#2a3f5f"
            },
            "type": "carpet"
           }
          ],
          "choropleth": [
           {
            "colorbar": {
             "outlinewidth": 0,
             "ticks": ""
            },
            "type": "choropleth"
           }
          ],
          "contour": [
           {
            "colorbar": {
             "outlinewidth": 0,
             "ticks": ""
            },
            "colorscale": [
             [
              0,
              "#0d0887"
             ],
             [
              0.1111111111111111,
              "#46039f"
             ],
             [
              0.2222222222222222,
              "#7201a8"
             ],
             [
              0.3333333333333333,
              "#9c179e"
             ],
             [
              0.4444444444444444,
              "#bd3786"
             ],
             [
              0.5555555555555556,
              "#d8576b"
             ],
             [
              0.6666666666666666,
              "#ed7953"
             ],
             [
              0.7777777777777778,
              "#fb9f3a"
             ],
             [
              0.8888888888888888,
              "#fdca26"
             ],
             [
              1,
              "#f0f921"
             ]
            ],
            "type": "contour"
           }
          ],
          "contourcarpet": [
           {
            "colorbar": {
             "outlinewidth": 0,
             "ticks": ""
            },
            "type": "contourcarpet"
           }
          ],
          "heatmap": [
           {
            "colorbar": {
             "outlinewidth": 0,
             "ticks": ""
            },
            "colorscale": [
             [
              0,
              "#0d0887"
             ],
             [
              0.1111111111111111,
              "#46039f"
             ],
             [
              0.2222222222222222,
              "#7201a8"
             ],
             [
              0.3333333333333333,
              "#9c179e"
             ],
             [
              0.4444444444444444,
              "#bd3786"
             ],
             [
              0.5555555555555556,
              "#d8576b"
             ],
             [
              0.6666666666666666,
              "#ed7953"
             ],
             [
              0.7777777777777778,
              "#fb9f3a"
             ],
             [
              0.8888888888888888,
              "#fdca26"
             ],
             [
              1,
              "#f0f921"
             ]
            ],
            "type": "heatmap"
           }
          ],
          "heatmapgl": [
           {
            "colorbar": {
             "outlinewidth": 0,
             "ticks": ""
            },
            "colorscale": [
             [
              0,
              "#0d0887"
             ],
             [
              0.1111111111111111,
              "#46039f"
             ],
             [
              0.2222222222222222,
              "#7201a8"
             ],
             [
              0.3333333333333333,
              "#9c179e"
             ],
             [
              0.4444444444444444,
              "#bd3786"
             ],
             [
              0.5555555555555556,
              "#d8576b"
             ],
             [
              0.6666666666666666,
              "#ed7953"
             ],
             [
              0.7777777777777778,
              "#fb9f3a"
             ],
             [
              0.8888888888888888,
              "#fdca26"
             ],
             [
              1,
              "#f0f921"
             ]
            ],
            "type": "heatmapgl"
           }
          ],
          "histogram": [
           {
            "marker": {
             "pattern": {
              "fillmode": "overlay",
              "size": 10,
              "solidity": 0.2
             }
            },
            "type": "histogram"
           }
          ],
          "histogram2d": [
           {
            "colorbar": {
             "outlinewidth": 0,
             "ticks": ""
            },
            "colorscale": [
             [
              0,
              "#0d0887"
             ],
             [
              0.1111111111111111,
              "#46039f"
             ],
             [
              0.2222222222222222,
              "#7201a8"
             ],
             [
              0.3333333333333333,
              "#9c179e"
             ],
             [
              0.4444444444444444,
              "#bd3786"
             ],
             [
              0.5555555555555556,
              "#d8576b"
             ],
             [
              0.6666666666666666,
              "#ed7953"
             ],
             [
              0.7777777777777778,
              "#fb9f3a"
             ],
             [
              0.8888888888888888,
              "#fdca26"
             ],
             [
              1,
              "#f0f921"
             ]
            ],
            "type": "histogram2d"
           }
          ],
          "histogram2dcontour": [
           {
            "colorbar": {
             "outlinewidth": 0,
             "ticks": ""
            },
            "colorscale": [
             [
              0,
              "#0d0887"
             ],
             [
              0.1111111111111111,
              "#46039f"
             ],
             [
              0.2222222222222222,
              "#7201a8"
             ],
             [
              0.3333333333333333,
              "#9c179e"
             ],
             [
              0.4444444444444444,
              "#bd3786"
             ],
             [
              0.5555555555555556,
              "#d8576b"
             ],
             [
              0.6666666666666666,
              "#ed7953"
             ],
             [
              0.7777777777777778,
              "#fb9f3a"
             ],
             [
              0.8888888888888888,
              "#fdca26"
             ],
             [
              1,
              "#f0f921"
             ]
            ],
            "type": "histogram2dcontour"
           }
          ],
          "mesh3d": [
           {
            "colorbar": {
             "outlinewidth": 0,
             "ticks": ""
            },
            "type": "mesh3d"
           }
          ],
          "parcoords": [
           {
            "line": {
             "colorbar": {
              "outlinewidth": 0,
              "ticks": ""
             }
            },
            "type": "parcoords"
           }
          ],
          "pie": [
           {
            "automargin": true,
            "type": "pie"
           }
          ],
          "scatter": [
           {
            "fillpattern": {
             "fillmode": "overlay",
             "size": 10,
             "solidity": 0.2
            },
            "type": "scatter"
           }
          ],
          "scatter3d": [
           {
            "line": {
             "colorbar": {
              "outlinewidth": 0,
              "ticks": ""
             }
            },
            "marker": {
             "colorbar": {
              "outlinewidth": 0,
              "ticks": ""
             }
            },
            "type": "scatter3d"
           }
          ],
          "scattercarpet": [
           {
            "marker": {
             "colorbar": {
              "outlinewidth": 0,
              "ticks": ""
             }
            },
            "type": "scattercarpet"
           }
          ],
          "scattergeo": [
           {
            "marker": {
             "colorbar": {
              "outlinewidth": 0,
              "ticks": ""
             }
            },
            "type": "scattergeo"
           }
          ],
          "scattergl": [
           {
            "marker": {
             "colorbar": {
              "outlinewidth": 0,
              "ticks": ""
             }
            },
            "type": "scattergl"
           }
          ],
          "scattermapbox": [
           {
            "marker": {
             "colorbar": {
              "outlinewidth": 0,
              "ticks": ""
             }
            },
            "type": "scattermapbox"
           }
          ],
          "scatterpolar": [
           {
            "marker": {
             "colorbar": {
              "outlinewidth": 0,
              "ticks": ""
             }
            },
            "type": "scatterpolar"
           }
          ],
          "scatterpolargl": [
           {
            "marker": {
             "colorbar": {
              "outlinewidth": 0,
              "ticks": ""
             }
            },
            "type": "scatterpolargl"
           }
          ],
          "scatterternary": [
           {
            "marker": {
             "colorbar": {
              "outlinewidth": 0,
              "ticks": ""
             }
            },
            "type": "scatterternary"
           }
          ],
          "surface": [
           {
            "colorbar": {
             "outlinewidth": 0,
             "ticks": ""
            },
            "colorscale": [
             [
              0,
              "#0d0887"
             ],
             [
              0.1111111111111111,
              "#46039f"
             ],
             [
              0.2222222222222222,
              "#7201a8"
             ],
             [
              0.3333333333333333,
              "#9c179e"
             ],
             [
              0.4444444444444444,
              "#bd3786"
             ],
             [
              0.5555555555555556,
              "#d8576b"
             ],
             [
              0.6666666666666666,
              "#ed7953"
             ],
             [
              0.7777777777777778,
              "#fb9f3a"
             ],
             [
              0.8888888888888888,
              "#fdca26"
             ],
             [
              1,
              "#f0f921"
             ]
            ],
            "type": "surface"
           }
          ],
          "table": [
           {
            "cells": {
             "fill": {
              "color": "#EBF0F8"
             },
             "line": {
              "color": "white"
             }
            },
            "header": {
             "fill": {
              "color": "#C8D4E3"
             },
             "line": {
              "color": "white"
             }
            },
            "type": "table"
           }
          ]
         },
         "layout": {
          "annotationdefaults": {
           "arrowcolor": "#2a3f5f",
           "arrowhead": 0,
           "arrowwidth": 1
          },
          "autotypenumbers": "strict",
          "coloraxis": {
           "colorbar": {
            "outlinewidth": 0,
            "ticks": ""
           }
          },
          "colorscale": {
           "diverging": [
            [
             0,
             "#8e0152"
            ],
            [
             0.1,
             "#c51b7d"
            ],
            [
             0.2,
             "#de77ae"
            ],
            [
             0.3,
             "#f1b6da"
            ],
            [
             0.4,
             "#fde0ef"
            ],
            [
             0.5,
             "#f7f7f7"
            ],
            [
             0.6,
             "#e6f5d0"
            ],
            [
             0.7,
             "#b8e186"
            ],
            [
             0.8,
             "#7fbc41"
            ],
            [
             0.9,
             "#4d9221"
            ],
            [
             1,
             "#276419"
            ]
           ],
           "sequential": [
            [
             0,
             "#0d0887"
            ],
            [
             0.1111111111111111,
             "#46039f"
            ],
            [
             0.2222222222222222,
             "#7201a8"
            ],
            [
             0.3333333333333333,
             "#9c179e"
            ],
            [
             0.4444444444444444,
             "#bd3786"
            ],
            [
             0.5555555555555556,
             "#d8576b"
            ],
            [
             0.6666666666666666,
             "#ed7953"
            ],
            [
             0.7777777777777778,
             "#fb9f3a"
            ],
            [
             0.8888888888888888,
             "#fdca26"
            ],
            [
             1,
             "#f0f921"
            ]
           ],
           "sequentialminus": [
            [
             0,
             "#0d0887"
            ],
            [
             0.1111111111111111,
             "#46039f"
            ],
            [
             0.2222222222222222,
             "#7201a8"
            ],
            [
             0.3333333333333333,
             "#9c179e"
            ],
            [
             0.4444444444444444,
             "#bd3786"
            ],
            [
             0.5555555555555556,
             "#d8576b"
            ],
            [
             0.6666666666666666,
             "#ed7953"
            ],
            [
             0.7777777777777778,
             "#fb9f3a"
            ],
            [
             0.8888888888888888,
             "#fdca26"
            ],
            [
             1,
             "#f0f921"
            ]
           ]
          },
          "colorway": [
           "#636efa",
           "#EF553B",
           "#00cc96",
           "#ab63fa",
           "#FFA15A",
           "#19d3f3",
           "#FF6692",
           "#B6E880",
           "#FF97FF",
           "#FECB52"
          ],
          "font": {
           "color": "#2a3f5f"
          },
          "geo": {
           "bgcolor": "white",
           "lakecolor": "white",
           "landcolor": "#E5ECF6",
           "showlakes": true,
           "showland": true,
           "subunitcolor": "white"
          },
          "hoverlabel": {
           "align": "left"
          },
          "hovermode": "closest",
          "mapbox": {
           "style": "light"
          },
          "paper_bgcolor": "white",
          "plot_bgcolor": "#E5ECF6",
          "polar": {
           "angularaxis": {
            "gridcolor": "white",
            "linecolor": "white",
            "ticks": ""
           },
           "bgcolor": "#E5ECF6",
           "radialaxis": {
            "gridcolor": "white",
            "linecolor": "white",
            "ticks": ""
           }
          },
          "scene": {
           "xaxis": {
            "backgroundcolor": "#E5ECF6",
            "gridcolor": "white",
            "gridwidth": 2,
            "linecolor": "white",
            "showbackground": true,
            "ticks": "",
            "zerolinecolor": "white"
           },
           "yaxis": {
            "backgroundcolor": "#E5ECF6",
            "gridcolor": "white",
            "gridwidth": 2,
            "linecolor": "white",
            "showbackground": true,
            "ticks": "",
            "zerolinecolor": "white"
           },
           "zaxis": {
            "backgroundcolor": "#E5ECF6",
            "gridcolor": "white",
            "gridwidth": 2,
            "linecolor": "white",
            "showbackground": true,
            "ticks": "",
            "zerolinecolor": "white"
           }
          },
          "shapedefaults": {
           "line": {
            "color": "#2a3f5f"
           }
          },
          "ternary": {
           "aaxis": {
            "gridcolor": "white",
            "linecolor": "white",
            "ticks": ""
           },
           "baxis": {
            "gridcolor": "white",
            "linecolor": "white",
            "ticks": ""
           },
           "bgcolor": "#E5ECF6",
           "caxis": {
            "gridcolor": "white",
            "linecolor": "white",
            "ticks": ""
           }
          },
          "title": {
           "x": 0.05
          },
          "xaxis": {
           "automargin": true,
           "gridcolor": "white",
           "linecolor": "white",
           "ticks": "",
           "title": {
            "standoff": 15
           },
           "zerolinecolor": "white",
           "zerolinewidth": 2
          },
          "yaxis": {
           "automargin": true,
           "gridcolor": "white",
           "linecolor": "white",
           "ticks": "",
           "title": {
            "standoff": 15
           },
           "zerolinecolor": "white",
           "zerolinewidth": 2
          }
         }
        },
        "xaxis": {
         "anchor": "y",
         "domain": [
          0,
          1
         ],
         "title": {
          "text": "intl relations"
         }
        },
        "yaxis": {
         "anchor": "x",
         "domain": [
          0,
          1
         ],
         "title": {
          "text": "NUM"
         }
        }
       }
      },
      "text/html": [
       "<div>                            <div id=\"a59fcfd1-a1db-44cc-8065-49507cd0ecc9\" class=\"plotly-graph-div\" style=\"height:525px; width:100%;\"></div>            <script type=\"text/javascript\">                require([\"plotly\"], function(Plotly) {                    window.PLOTLYENV=window.PLOTLYENV || {};                                    if (document.getElementById(\"a59fcfd1-a1db-44cc-8065-49507cd0ecc9\")) {                    Plotly.newPlot(                        \"a59fcfd1-a1db-44cc-8065-49507cd0ecc9\",                        [{\"hovertemplate\":\"intl relations=%{x}<br>NUM=%{y}<extra></extra>\",\"legendgroup\":\"\",\"marker\":{\"color\":\"#636efa\",\"symbol\":\"circle\"},\"mode\":\"markers\",\"name\":\"\",\"orientation\":\"v\",\"showlegend\":false,\"x\":[0.11188622564077377,0.420229971408844,0.0,0.0726303681731224,0.10882536321878433,0.16871045529842377,0.12155161052942276,0.2156946361064911,0.065737284719944,0.07108937203884125,0.03577682748436928,0.19298720359802246,0.18843954801559448,0.43292608857154846,0.23327946662902832,0.053984835743904114,0.1863272339105606,0.05676846206188202,0.07677609473466873,0.1759592741727829,0.08652687817811966,0.18355108797550201,0.1676500141620636,0.07995971292257309,0.0,0.08264129608869553,0.13169389963150024,0.1694147288799286,0.07697319984436035,0.2573986351490021,0.13138069212436676,0.1985931247472763,0.1951139271259308,0.10672546923160553,0.10264112800359726,0.12957236170768738,0.09249997138977051,0.08174112439155579,0.18718044459819794,0.12662377953529358,0.0,0.23654107749462128,0.21574027836322784,0.10404754430055618,0.018950041383504868,0.0,0.08901991695165634,0.11608149856328964,0.2137587070465088,0.0,0.1353229284286499,0.1476685255765915,0.087431900203228,0.13106302917003632,0.0,0.1418261080980301,0.11195823550224304,0.07702472060918808,0.186525359749794,0.07071498036384583,0.13305267691612244,0.017932388931512833,0.06334024667739868,0.16277295351028442,0.14252066612243652,0.2708681523799896,0.15504318475723267,0.18164768815040588,0.15955543518066406,0.06558198481798172,0.07202276587486267,0.15389101207256317,0.0,0.2469029277563095,0.04028588533401489,0.13448810577392578,0.7034854292869568,0.12902411818504333,0.20695744454860687,0.13938148319721222,0.23119588196277618,0.20283181965351105,0.062220655381679535,0.09072249382734299,0.0912475734949112,0.0,0.16747373342514038,0.38420355319976807,0.037459541112184525,0.14532287418842316,0.0,0.0,0.20127716660499573,0.0,0.0,0.11875002086162567,0.1522427648305893,0.037067461758852005,0.0,0.12345875799655914],\"xaxis\":\"x\",\"y\":[0.0587270752391695,0.065543767336784,0.0365657648004286,0.0665162341732481,0.0529040972534894,0.0634532672343807,0.0712391919431748,0.0406829398426037,0.0622495972168755,0.0632519689437524,0.0613433266070914,0.0648509636239698,0.0597342922784937,0.0275777162203755,0.0499916587888561,0.0612997721601389,0.0511505357456526,0.0628401859815605,0.0646535282898919,0.0648248386957087,0.0590968525263846,0.067124884440693,0.0658343522749212,0.0675964317125267,0.0532680841489481,0.0580608687458777,0.0609550730739159,0.0347430650295589,0.0600338284019556,0.0707047337004303,0.0548588192152549,0.0668974550898204,0.0635347424502701,0.0631839739505911,0.0664666683059975,0.067969784033315,0.0552693208430913,0.0633893919793014,0.0622001894344465,0.0595264748684652,0.0533519427310792,0.0595109672779576,0.0664007894087657,0.063128208836503,0.0645395565023724,0.041720791625277,0.0620485154076261,0.0645776724287449,0.0560802315721763,0.0552763819095477,0.0617481589900746,0.0604711663535193,0.0561339742174363,0.0625,0.0562563927719059,0.0452572517467711,0.0581527237055884,0.0551916032685263,0.0518338711109795,0.067621625989979,0.0616195636257139,0.0564767460444302,0.0663891076853831,0.0706188086354262,0.0648436781801315,0.0553604627143152,0.0528259653049804,0.0588422272914251,0.0597935318837932,0.0628717854854946,0.0480801495613825,0.0634928072723865,0.0604014372444555,0.0563069376313945,0.0640398904966758,0.0570012999435874,0.0111234705228031,0.0622892999220769,0.0608606619086337,0.0603247453148361,0.0570891637250171,0.0573037110450391,0.0501398751882935,0.0683916122454603,0.0583640806938521,0.0629483616622504,0.0432981746375765,0.0,0.0571592429745747,0.0587714089113857,0.0579825258141382,0.0780669144981413,0.0613302154922482,0.0564003641640902,0.0642351660315732,0.0609606781257358,0.0595892975432735,0.0697244312927686,0.0608006421189927,0.0654024720394938],\"yaxis\":\"y\",\"type\":\"scatter\"}],                        {\"template\":{\"data\":{\"histogram2dcontour\":[{\"type\":\"histogram2dcontour\",\"colorbar\":{\"outlinewidth\":0,\"ticks\":\"\"},\"colorscale\":[[0.0,\"#0d0887\"],[0.1111111111111111,\"#46039f\"],[0.2222222222222222,\"#7201a8\"],[0.3333333333333333,\"#9c179e\"],[0.4444444444444444,\"#bd3786\"],[0.5555555555555556,\"#d8576b\"],[0.6666666666666666,\"#ed7953\"],[0.7777777777777778,\"#fb9f3a\"],[0.8888888888888888,\"#fdca26\"],[1.0,\"#f0f921\"]]}],\"choropleth\":[{\"type\":\"choropleth\",\"colorbar\":{\"outlinewidth\":0,\"ticks\":\"\"}}],\"histogram2d\":[{\"type\":\"histogram2d\",\"colorbar\":{\"outlinewidth\":0,\"ticks\":\"\"},\"colorscale\":[[0.0,\"#0d0887\"],[0.1111111111111111,\"#46039f\"],[0.2222222222222222,\"#7201a8\"],[0.3333333333333333,\"#9c179e\"],[0.4444444444444444,\"#bd3786\"],[0.5555555555555556,\"#d8576b\"],[0.6666666666666666,\"#ed7953\"],[0.7777777777777778,\"#fb9f3a\"],[0.8888888888888888,\"#fdca26\"],[1.0,\"#f0f921\"]]}],\"heatmap\":[{\"type\":\"heatmap\",\"colorbar\":{\"outlinewidth\":0,\"ticks\":\"\"},\"colorscale\":[[0.0,\"#0d0887\"],[0.1111111111111111,\"#46039f\"],[0.2222222222222222,\"#7201a8\"],[0.3333333333333333,\"#9c179e\"],[0.4444444444444444,\"#bd3786\"],[0.5555555555555556,\"#d8576b\"],[0.6666666666666666,\"#ed7953\"],[0.7777777777777778,\"#fb9f3a\"],[0.8888888888888888,\"#fdca26\"],[1.0,\"#f0f921\"]]}],\"heatmapgl\":[{\"type\":\"heatmapgl\",\"colorbar\":{\"outlinewidth\":0,\"ticks\":\"\"},\"colorscale\":[[0.0,\"#0d0887\"],[0.1111111111111111,\"#46039f\"],[0.2222222222222222,\"#7201a8\"],[0.3333333333333333,\"#9c179e\"],[0.4444444444444444,\"#bd3786\"],[0.5555555555555556,\"#d8576b\"],[0.6666666666666666,\"#ed7953\"],[0.7777777777777778,\"#fb9f3a\"],[0.8888888888888888,\"#fdca26\"],[1.0,\"#f0f921\"]]}],\"contourcarpet\":[{\"type\":\"contourcarpet\",\"colorbar\":{\"outlinewidth\":0,\"ticks\":\"\"}}],\"contour\":[{\"type\":\"contour\",\"colorbar\":{\"outlinewidth\":0,\"ticks\":\"\"},\"colorscale\":[[0.0,\"#0d0887\"],[0.1111111111111111,\"#46039f\"],[0.2222222222222222,\"#7201a8\"],[0.3333333333333333,\"#9c179e\"],[0.4444444444444444,\"#bd3786\"],[0.5555555555555556,\"#d8576b\"],[0.6666666666666666,\"#ed7953\"],[0.7777777777777778,\"#fb9f3a\"],[0.8888888888888888,\"#fdca26\"],[1.0,\"#f0f921\"]]}],\"surface\":[{\"type\":\"surface\",\"colorbar\":{\"outlinewidth\":0,\"ticks\":\"\"},\"colorscale\":[[0.0,\"#0d0887\"],[0.1111111111111111,\"#46039f\"],[0.2222222222222222,\"#7201a8\"],[0.3333333333333333,\"#9c179e\"],[0.4444444444444444,\"#bd3786\"],[0.5555555555555556,\"#d8576b\"],[0.6666666666666666,\"#ed7953\"],[0.7777777777777778,\"#fb9f3a\"],[0.8888888888888888,\"#fdca26\"],[1.0,\"#f0f921\"]]}],\"mesh3d\":[{\"type\":\"mesh3d\",\"colorbar\":{\"outlinewidth\":0,\"ticks\":\"\"}}],\"scatter\":[{\"fillpattern\":{\"fillmode\":\"overlay\",\"size\":10,\"solidity\":0.2},\"type\":\"scatter\"}],\"parcoords\":[{\"type\":\"parcoords\",\"line\":{\"colorbar\":{\"outlinewidth\":0,\"ticks\":\"\"}}}],\"scatterpolargl\":[{\"type\":\"scatterpolargl\",\"marker\":{\"colorbar\":{\"outlinewidth\":0,\"ticks\":\"\"}}}],\"bar\":[{\"error_x\":{\"color\":\"#2a3f5f\"},\"error_y\":{\"color\":\"#2a3f5f\"},\"marker\":{\"line\":{\"color\":\"#E5ECF6\",\"width\":0.5},\"pattern\":{\"fillmode\":\"overlay\",\"size\":10,\"solidity\":0.2}},\"type\":\"bar\"}],\"scattergeo\":[{\"type\":\"scattergeo\",\"marker\":{\"colorbar\":{\"outlinewidth\":0,\"ticks\":\"\"}}}],\"scatterpolar\":[{\"type\":\"scatterpolar\",\"marker\":{\"colorbar\":{\"outlinewidth\":0,\"ticks\":\"\"}}}],\"histogram\":[{\"marker\":{\"pattern\":{\"fillmode\":\"overlay\",\"size\":10,\"solidity\":0.2}},\"type\":\"histogram\"}],\"scattergl\":[{\"type\":\"scattergl\",\"marker\":{\"colorbar\":{\"outlinewidth\":0,\"ticks\":\"\"}}}],\"scatter3d\":[{\"type\":\"scatter3d\",\"line\":{\"colorbar\":{\"outlinewidth\":0,\"ticks\":\"\"}},\"marker\":{\"colorbar\":{\"outlinewidth\":0,\"ticks\":\"\"}}}],\"scattermapbox\":[{\"type\":\"scattermapbox\",\"marker\":{\"colorbar\":{\"outlinewidth\":0,\"ticks\":\"\"}}}],\"scatterternary\":[{\"type\":\"scatterternary\",\"marker\":{\"colorbar\":{\"outlinewidth\":0,\"ticks\":\"\"}}}],\"scattercarpet\":[{\"type\":\"scattercarpet\",\"marker\":{\"colorbar\":{\"outlinewidth\":0,\"ticks\":\"\"}}}],\"carpet\":[{\"aaxis\":{\"endlinecolor\":\"#2a3f5f\",\"gridcolor\":\"white\",\"linecolor\":\"white\",\"minorgridcolor\":\"white\",\"startlinecolor\":\"#2a3f5f\"},\"baxis\":{\"endlinecolor\":\"#2a3f5f\",\"gridcolor\":\"white\",\"linecolor\":\"white\",\"minorgridcolor\":\"white\",\"startlinecolor\":\"#2a3f5f\"},\"type\":\"carpet\"}],\"table\":[{\"cells\":{\"fill\":{\"color\":\"#EBF0F8\"},\"line\":{\"color\":\"white\"}},\"header\":{\"fill\":{\"color\":\"#C8D4E3\"},\"line\":{\"color\":\"white\"}},\"type\":\"table\"}],\"barpolar\":[{\"marker\":{\"line\":{\"color\":\"#E5ECF6\",\"width\":0.5},\"pattern\":{\"fillmode\":\"overlay\",\"size\":10,\"solidity\":0.2}},\"type\":\"barpolar\"}],\"pie\":[{\"automargin\":true,\"type\":\"pie\"}]},\"layout\":{\"autotypenumbers\":\"strict\",\"colorway\":[\"#636efa\",\"#EF553B\",\"#00cc96\",\"#ab63fa\",\"#FFA15A\",\"#19d3f3\",\"#FF6692\",\"#B6E880\",\"#FF97FF\",\"#FECB52\"],\"font\":{\"color\":\"#2a3f5f\"},\"hovermode\":\"closest\",\"hoverlabel\":{\"align\":\"left\"},\"paper_bgcolor\":\"white\",\"plot_bgcolor\":\"#E5ECF6\",\"polar\":{\"bgcolor\":\"#E5ECF6\",\"angularaxis\":{\"gridcolor\":\"white\",\"linecolor\":\"white\",\"ticks\":\"\"},\"radialaxis\":{\"gridcolor\":\"white\",\"linecolor\":\"white\",\"ticks\":\"\"}},\"ternary\":{\"bgcolor\":\"#E5ECF6\",\"aaxis\":{\"gridcolor\":\"white\",\"linecolor\":\"white\",\"ticks\":\"\"},\"baxis\":{\"gridcolor\":\"white\",\"linecolor\":\"white\",\"ticks\":\"\"},\"caxis\":{\"gridcolor\":\"white\",\"linecolor\":\"white\",\"ticks\":\"\"}},\"coloraxis\":{\"colorbar\":{\"outlinewidth\":0,\"ticks\":\"\"}},\"colorscale\":{\"sequential\":[[0.0,\"#0d0887\"],[0.1111111111111111,\"#46039f\"],[0.2222222222222222,\"#7201a8\"],[0.3333333333333333,\"#9c179e\"],[0.4444444444444444,\"#bd3786\"],[0.5555555555555556,\"#d8576b\"],[0.6666666666666666,\"#ed7953\"],[0.7777777777777778,\"#fb9f3a\"],[0.8888888888888888,\"#fdca26\"],[1.0,\"#f0f921\"]],\"sequentialminus\":[[0.0,\"#0d0887\"],[0.1111111111111111,\"#46039f\"],[0.2222222222222222,\"#7201a8\"],[0.3333333333333333,\"#9c179e\"],[0.4444444444444444,\"#bd3786\"],[0.5555555555555556,\"#d8576b\"],[0.6666666666666666,\"#ed7953\"],[0.7777777777777778,\"#fb9f3a\"],[0.8888888888888888,\"#fdca26\"],[1.0,\"#f0f921\"]],\"diverging\":[[0,\"#8e0152\"],[0.1,\"#c51b7d\"],[0.2,\"#de77ae\"],[0.3,\"#f1b6da\"],[0.4,\"#fde0ef\"],[0.5,\"#f7f7f7\"],[0.6,\"#e6f5d0\"],[0.7,\"#b8e186\"],[0.8,\"#7fbc41\"],[0.9,\"#4d9221\"],[1,\"#276419\"]]},\"xaxis\":{\"gridcolor\":\"white\",\"linecolor\":\"white\",\"ticks\":\"\",\"title\":{\"standoff\":15},\"zerolinecolor\":\"white\",\"automargin\":true,\"zerolinewidth\":2},\"yaxis\":{\"gridcolor\":\"white\",\"linecolor\":\"white\",\"ticks\":\"\",\"title\":{\"standoff\":15},\"zerolinecolor\":\"white\",\"automargin\":true,\"zerolinewidth\":2},\"scene\":{\"xaxis\":{\"backgroundcolor\":\"#E5ECF6\",\"gridcolor\":\"white\",\"linecolor\":\"white\",\"showbackground\":true,\"ticks\":\"\",\"zerolinecolor\":\"white\",\"gridwidth\":2},\"yaxis\":{\"backgroundcolor\":\"#E5ECF6\",\"gridcolor\":\"white\",\"linecolor\":\"white\",\"showbackground\":true,\"ticks\":\"\",\"zerolinecolor\":\"white\",\"gridwidth\":2},\"zaxis\":{\"backgroundcolor\":\"#E5ECF6\",\"gridcolor\":\"white\",\"linecolor\":\"white\",\"showbackground\":true,\"ticks\":\"\",\"zerolinecolor\":\"white\",\"gridwidth\":2}},\"shapedefaults\":{\"line\":{\"color\":\"#2a3f5f\"}},\"annotationdefaults\":{\"arrowcolor\":\"#2a3f5f\",\"arrowhead\":0,\"arrowwidth\":1},\"geo\":{\"bgcolor\":\"white\",\"landcolor\":\"#E5ECF6\",\"subunitcolor\":\"white\",\"showland\":true,\"showlakes\":true,\"lakecolor\":\"white\"},\"title\":{\"x\":0.05},\"mapbox\":{\"style\":\"light\"}}},\"xaxis\":{\"anchor\":\"y\",\"domain\":[0.0,1.0],\"title\":{\"text\":\"intl relations\"}},\"yaxis\":{\"anchor\":\"x\",\"domain\":[0.0,1.0],\"title\":{\"text\":\"NUM\"}},\"legend\":{\"tracegroupgap\":0},\"margin\":{\"t\":60}},                        {\"responsive\": true}                    ).then(function(){\n",
       "                            \n",
       "var gd = document.getElementById('a59fcfd1-a1db-44cc-8065-49507cd0ecc9');\n",
       "var x = new MutationObserver(function (mutations, observer) {{\n",
       "        var display = window.getComputedStyle(gd).display;\n",
       "        if (!display || display === 'none') {{\n",
       "            console.log([gd, 'removed!']);\n",
       "            Plotly.purge(gd);\n",
       "            observer.disconnect();\n",
       "        }}\n",
       "}});\n",
       "\n",
       "// Listen for the removal of the full notebook cells\n",
       "var notebookContainer = gd.closest('#notebook-container');\n",
       "if (notebookContainer) {{\n",
       "    x.observe(notebookContainer, {childList: true});\n",
       "}}\n",
       "\n",
       "// Listen for the clearing of the current output cell\n",
       "var outputEl = gd.closest('.output');\n",
       "if (outputEl) {{\n",
       "    x.observe(outputEl, {childList: true});\n",
       "}}\n",
       "\n",
       "                        })                };                });            </script>        </div>"
      ]
     },
     "metadata": {},
     "output_type": "display_data"
    }
   ],
   "source": [
    "fig = px.scatter(tidy_topic, x=\"intl relations\", y=\"NUM\")\n",
    "fig.show()"
   ]
  },
  {
   "cell_type": "code",
   "execution_count": 84,
   "metadata": {},
   "outputs": [
    {
     "data": {
      "application/vnd.plotly.v1+json": {
       "config": {
        "plotlyServerURL": "https://plot.ly"
       },
       "data": [
        {
         "hovertemplate": "middle east=%{x}<br>syl_per_word=%{y}<extra></extra>",
         "legendgroup": "",
         "marker": {
          "color": "#636efa",
          "symbol": "circle"
         },
         "mode": "markers",
         "name": "",
         "orientation": "v",
         "showlegend": false,
         "type": "scatter",
         "x": [
          0.018048368394374847,
          0,
          0,
          0.08734668791294098,
          0,
          0.09460406005382538,
          0,
          0,
          0.14081445336341858,
          0.02596990205347538,
          0.040509361773729324,
          0,
          0,
          0,
          0.055299047380685806,
          0.04218825325369835,
          0.045016098767519,
          0.06545063853263855,
          0,
          0.09366368502378464,
          0.015400698408484459,
          0.06020769104361534,
          0,
          0.06438516825437546,
          0,
          0.04336601495742798,
          0.09628212451934814,
          0,
          0.08665052056312561,
          0,
          0.20538726449012756,
          0.08767981082201004,
          0,
          0.03845614567399025,
          0,
          0.045004818588495255,
          0.07143785059452057,
          0.026504740118980408,
          0.060505665838718414,
          0.019487369805574417,
          0.07307698577642441,
          0,
          0.07977841794490814,
          0.1457718163728714,
          0.07971116155385971,
          0.08726538717746735,
          0.09195005893707275,
          0.20212329924106598,
          0.034416601061820984,
          0.07736069709062576,
          0.03233122080564499,
          0.0424196831882,
          0.031272560358047485,
          0.08198992908000946,
          0,
          0,
          0.04960713908076286,
          0.09051673114299774,
          0.01615278050303459,
          0.016670387238264084,
          0.023793894797563553,
          0.1308121234178543,
          0,
          0.012501094490289688,
          0.08387871831655502,
          0,
          0,
          0,
          0,
          0,
          0,
          0,
          0.08162446320056915,
          0.050310730934143066,
          0,
          0.040729325264692307,
          0,
          0.03304911404848099,
          0.12259326875209808,
          0.17821739614009857,
          0,
          0.08971433341503143,
          0,
          0.015383079648017883,
          0.10526513308286667,
          0.04523864760994911,
          0,
          0,
          0.043446555733680725,
          0.03807791694998741,
          0,
          0,
          0.029673278331756592,
          0.07671017199754715,
          0.10664083063602448,
          0.023125652223825455,
          0.10822172462940216,
          0.12020716071128845,
          0,
          0.028487972915172577
         ],
         "xaxis": "x",
         "y": [
          1.4522045855379189,
          1.3836598184424271,
          1.4681059862610402,
          1.479918864097363,
          1.592487597448618,
          1.499110056363097,
          1.5942848410757946,
          1.537109375,
          1.443729136862184,
          1.575692963752665,
          1.5293018911977585,
          1.4476284584980237,
          1.5599356395816573,
          1.6112115732368897,
          1.567986230636833,
          1.4901026392961876,
          1.4557038834951457,
          1.507843137254902,
          1.5196548418024929,
          1.494729444834856,
          1.496544197890142,
          1.4681528662420382,
          1.5109628217349858,
          1.5579710144927537,
          1.4331597222222223,
          1.4272300469483568,
          1.4700674536256324,
          1.5699708454810497,
          1.4535561601243685,
          1.5483641536273116,
          1.348447204968944,
          1.5395823215152986,
          1.4611794654221468,
          1.4444970414201184,
          1.4289693593314765,
          1.6026420079260235,
          1.5468431771894091,
          1.5577411167512691,
          1.486475353563092,
          1.5749464668094215,
          1.3789712556732223,
          1.391629297458894,
          1.53430749682338,
          1.3857677902621723,
          1.4596322941646682,
          1.3773364485981308,
          1.4103722831934582,
          1.4672131147540983,
          1.3964044943820224,
          1.4,
          1.442109600329625,
          1.537989617744219,
          1.457889641819942,
          1.5181792155740053,
          1.5625,
          1.418975650713686,
          1.53894679100384,
          1.4816568047337275,
          1.4396003633060854,
          1.4885114885114883,
          1.558325912733749,
          1.4431743958197256,
          1.4074074074074074,
          1.707986989519335,
          1.5113895216400912,
          1.7206106870229008,
          1.597323908104014,
          1.453851261620186,
          1.493791088385683,
          1.4798249878463785,
          1.6359583952451708,
          1.6024355300859598,
          1.5221503235440517,
          1.472308649657747,
          1.4545454545454546,
          1.6295493934142111,
          1.582191780821918,
          1.4784730195177955,
          1.578739118965972,
          1.3997695852534562,
          1.6043913713405238,
          1.407169990503324,
          1.4367945823927766,
          1.627140974967062,
          1.4625368731563422,
          1.534975369458128,
          1.451951951951952,
          1.4716006884681585,
          1.5711556829035338,
          1.4625237191650853,
          1.6382978723404256,
          1.5701754385964912,
          1.5435374149659864,
          1.3540967092008058,
          1.480246913580247,
          1.4055707955264825,
          1.3894637817497648,
          1.5735430157261794,
          1.3890675241157555,
          1.4937307297019526
         ],
         "yaxis": "y"
        }
       ],
       "layout": {
        "legend": {
         "tracegroupgap": 0
        },
        "template": {
         "data": {
          "bar": [
           {
            "error_x": {
             "color": "#2a3f5f"
            },
            "error_y": {
             "color": "#2a3f5f"
            },
            "marker": {
             "line": {
              "color": "#E5ECF6",
              "width": 0.5
             },
             "pattern": {
              "fillmode": "overlay",
              "size": 10,
              "solidity": 0.2
             }
            },
            "type": "bar"
           }
          ],
          "barpolar": [
           {
            "marker": {
             "line": {
              "color": "#E5ECF6",
              "width": 0.5
             },
             "pattern": {
              "fillmode": "overlay",
              "size": 10,
              "solidity": 0.2
             }
            },
            "type": "barpolar"
           }
          ],
          "carpet": [
           {
            "aaxis": {
             "endlinecolor": "#2a3f5f",
             "gridcolor": "white",
             "linecolor": "white",
             "minorgridcolor": "white",
             "startlinecolor": "#2a3f5f"
            },
            "baxis": {
             "endlinecolor": "#2a3f5f",
             "gridcolor": "white",
             "linecolor": "white",
             "minorgridcolor": "white",
             "startlinecolor": "#2a3f5f"
            },
            "type": "carpet"
           }
          ],
          "choropleth": [
           {
            "colorbar": {
             "outlinewidth": 0,
             "ticks": ""
            },
            "type": "choropleth"
           }
          ],
          "contour": [
           {
            "colorbar": {
             "outlinewidth": 0,
             "ticks": ""
            },
            "colorscale": [
             [
              0,
              "#0d0887"
             ],
             [
              0.1111111111111111,
              "#46039f"
             ],
             [
              0.2222222222222222,
              "#7201a8"
             ],
             [
              0.3333333333333333,
              "#9c179e"
             ],
             [
              0.4444444444444444,
              "#bd3786"
             ],
             [
              0.5555555555555556,
              "#d8576b"
             ],
             [
              0.6666666666666666,
              "#ed7953"
             ],
             [
              0.7777777777777778,
              "#fb9f3a"
             ],
             [
              0.8888888888888888,
              "#fdca26"
             ],
             [
              1,
              "#f0f921"
             ]
            ],
            "type": "contour"
           }
          ],
          "contourcarpet": [
           {
            "colorbar": {
             "outlinewidth": 0,
             "ticks": ""
            },
            "type": "contourcarpet"
           }
          ],
          "heatmap": [
           {
            "colorbar": {
             "outlinewidth": 0,
             "ticks": ""
            },
            "colorscale": [
             [
              0,
              "#0d0887"
             ],
             [
              0.1111111111111111,
              "#46039f"
             ],
             [
              0.2222222222222222,
              "#7201a8"
             ],
             [
              0.3333333333333333,
              "#9c179e"
             ],
             [
              0.4444444444444444,
              "#bd3786"
             ],
             [
              0.5555555555555556,
              "#d8576b"
             ],
             [
              0.6666666666666666,
              "#ed7953"
             ],
             [
              0.7777777777777778,
              "#fb9f3a"
             ],
             [
              0.8888888888888888,
              "#fdca26"
             ],
             [
              1,
              "#f0f921"
             ]
            ],
            "type": "heatmap"
           }
          ],
          "heatmapgl": [
           {
            "colorbar": {
             "outlinewidth": 0,
             "ticks": ""
            },
            "colorscale": [
             [
              0,
              "#0d0887"
             ],
             [
              0.1111111111111111,
              "#46039f"
             ],
             [
              0.2222222222222222,
              "#7201a8"
             ],
             [
              0.3333333333333333,
              "#9c179e"
             ],
             [
              0.4444444444444444,
              "#bd3786"
             ],
             [
              0.5555555555555556,
              "#d8576b"
             ],
             [
              0.6666666666666666,
              "#ed7953"
             ],
             [
              0.7777777777777778,
              "#fb9f3a"
             ],
             [
              0.8888888888888888,
              "#fdca26"
             ],
             [
              1,
              "#f0f921"
             ]
            ],
            "type": "heatmapgl"
           }
          ],
          "histogram": [
           {
            "marker": {
             "pattern": {
              "fillmode": "overlay",
              "size": 10,
              "solidity": 0.2
             }
            },
            "type": "histogram"
           }
          ],
          "histogram2d": [
           {
            "colorbar": {
             "outlinewidth": 0,
             "ticks": ""
            },
            "colorscale": [
             [
              0,
              "#0d0887"
             ],
             [
              0.1111111111111111,
              "#46039f"
             ],
             [
              0.2222222222222222,
              "#7201a8"
             ],
             [
              0.3333333333333333,
              "#9c179e"
             ],
             [
              0.4444444444444444,
              "#bd3786"
             ],
             [
              0.5555555555555556,
              "#d8576b"
             ],
             [
              0.6666666666666666,
              "#ed7953"
             ],
             [
              0.7777777777777778,
              "#fb9f3a"
             ],
             [
              0.8888888888888888,
              "#fdca26"
             ],
             [
              1,
              "#f0f921"
             ]
            ],
            "type": "histogram2d"
           }
          ],
          "histogram2dcontour": [
           {
            "colorbar": {
             "outlinewidth": 0,
             "ticks": ""
            },
            "colorscale": [
             [
              0,
              "#0d0887"
             ],
             [
              0.1111111111111111,
              "#46039f"
             ],
             [
              0.2222222222222222,
              "#7201a8"
             ],
             [
              0.3333333333333333,
              "#9c179e"
             ],
             [
              0.4444444444444444,
              "#bd3786"
             ],
             [
              0.5555555555555556,
              "#d8576b"
             ],
             [
              0.6666666666666666,
              "#ed7953"
             ],
             [
              0.7777777777777778,
              "#fb9f3a"
             ],
             [
              0.8888888888888888,
              "#fdca26"
             ],
             [
              1,
              "#f0f921"
             ]
            ],
            "type": "histogram2dcontour"
           }
          ],
          "mesh3d": [
           {
            "colorbar": {
             "outlinewidth": 0,
             "ticks": ""
            },
            "type": "mesh3d"
           }
          ],
          "parcoords": [
           {
            "line": {
             "colorbar": {
              "outlinewidth": 0,
              "ticks": ""
             }
            },
            "type": "parcoords"
           }
          ],
          "pie": [
           {
            "automargin": true,
            "type": "pie"
           }
          ],
          "scatter": [
           {
            "fillpattern": {
             "fillmode": "overlay",
             "size": 10,
             "solidity": 0.2
            },
            "type": "scatter"
           }
          ],
          "scatter3d": [
           {
            "line": {
             "colorbar": {
              "outlinewidth": 0,
              "ticks": ""
             }
            },
            "marker": {
             "colorbar": {
              "outlinewidth": 0,
              "ticks": ""
             }
            },
            "type": "scatter3d"
           }
          ],
          "scattercarpet": [
           {
            "marker": {
             "colorbar": {
              "outlinewidth": 0,
              "ticks": ""
             }
            },
            "type": "scattercarpet"
           }
          ],
          "scattergeo": [
           {
            "marker": {
             "colorbar": {
              "outlinewidth": 0,
              "ticks": ""
             }
            },
            "type": "scattergeo"
           }
          ],
          "scattergl": [
           {
            "marker": {
             "colorbar": {
              "outlinewidth": 0,
              "ticks": ""
             }
            },
            "type": "scattergl"
           }
          ],
          "scattermapbox": [
           {
            "marker": {
             "colorbar": {
              "outlinewidth": 0,
              "ticks": ""
             }
            },
            "type": "scattermapbox"
           }
          ],
          "scatterpolar": [
           {
            "marker": {
             "colorbar": {
              "outlinewidth": 0,
              "ticks": ""
             }
            },
            "type": "scatterpolar"
           }
          ],
          "scatterpolargl": [
           {
            "marker": {
             "colorbar": {
              "outlinewidth": 0,
              "ticks": ""
             }
            },
            "type": "scatterpolargl"
           }
          ],
          "scatterternary": [
           {
            "marker": {
             "colorbar": {
              "outlinewidth": 0,
              "ticks": ""
             }
            },
            "type": "scatterternary"
           }
          ],
          "surface": [
           {
            "colorbar": {
             "outlinewidth": 0,
             "ticks": ""
            },
            "colorscale": [
             [
              0,
              "#0d0887"
             ],
             [
              0.1111111111111111,
              "#46039f"
             ],
             [
              0.2222222222222222,
              "#7201a8"
             ],
             [
              0.3333333333333333,
              "#9c179e"
             ],
             [
              0.4444444444444444,
              "#bd3786"
             ],
             [
              0.5555555555555556,
              "#d8576b"
             ],
             [
              0.6666666666666666,
              "#ed7953"
             ],
             [
              0.7777777777777778,
              "#fb9f3a"
             ],
             [
              0.8888888888888888,
              "#fdca26"
             ],
             [
              1,
              "#f0f921"
             ]
            ],
            "type": "surface"
           }
          ],
          "table": [
           {
            "cells": {
             "fill": {
              "color": "#EBF0F8"
             },
             "line": {
              "color": "white"
             }
            },
            "header": {
             "fill": {
              "color": "#C8D4E3"
             },
             "line": {
              "color": "white"
             }
            },
            "type": "table"
           }
          ]
         },
         "layout": {
          "annotationdefaults": {
           "arrowcolor": "#2a3f5f",
           "arrowhead": 0,
           "arrowwidth": 1
          },
          "autotypenumbers": "strict",
          "coloraxis": {
           "colorbar": {
            "outlinewidth": 0,
            "ticks": ""
           }
          },
          "colorscale": {
           "diverging": [
            [
             0,
             "#8e0152"
            ],
            [
             0.1,
             "#c51b7d"
            ],
            [
             0.2,
             "#de77ae"
            ],
            [
             0.3,
             "#f1b6da"
            ],
            [
             0.4,
             "#fde0ef"
            ],
            [
             0.5,
             "#f7f7f7"
            ],
            [
             0.6,
             "#e6f5d0"
            ],
            [
             0.7,
             "#b8e186"
            ],
            [
             0.8,
             "#7fbc41"
            ],
            [
             0.9,
             "#4d9221"
            ],
            [
             1,
             "#276419"
            ]
           ],
           "sequential": [
            [
             0,
             "#0d0887"
            ],
            [
             0.1111111111111111,
             "#46039f"
            ],
            [
             0.2222222222222222,
             "#7201a8"
            ],
            [
             0.3333333333333333,
             "#9c179e"
            ],
            [
             0.4444444444444444,
             "#bd3786"
            ],
            [
             0.5555555555555556,
             "#d8576b"
            ],
            [
             0.6666666666666666,
             "#ed7953"
            ],
            [
             0.7777777777777778,
             "#fb9f3a"
            ],
            [
             0.8888888888888888,
             "#fdca26"
            ],
            [
             1,
             "#f0f921"
            ]
           ],
           "sequentialminus": [
            [
             0,
             "#0d0887"
            ],
            [
             0.1111111111111111,
             "#46039f"
            ],
            [
             0.2222222222222222,
             "#7201a8"
            ],
            [
             0.3333333333333333,
             "#9c179e"
            ],
            [
             0.4444444444444444,
             "#bd3786"
            ],
            [
             0.5555555555555556,
             "#d8576b"
            ],
            [
             0.6666666666666666,
             "#ed7953"
            ],
            [
             0.7777777777777778,
             "#fb9f3a"
            ],
            [
             0.8888888888888888,
             "#fdca26"
            ],
            [
             1,
             "#f0f921"
            ]
           ]
          },
          "colorway": [
           "#636efa",
           "#EF553B",
           "#00cc96",
           "#ab63fa",
           "#FFA15A",
           "#19d3f3",
           "#FF6692",
           "#B6E880",
           "#FF97FF",
           "#FECB52"
          ],
          "font": {
           "color": "#2a3f5f"
          },
          "geo": {
           "bgcolor": "white",
           "lakecolor": "white",
           "landcolor": "#E5ECF6",
           "showlakes": true,
           "showland": true,
           "subunitcolor": "white"
          },
          "hoverlabel": {
           "align": "left"
          },
          "hovermode": "closest",
          "mapbox": {
           "style": "light"
          },
          "paper_bgcolor": "white",
          "plot_bgcolor": "#E5ECF6",
          "polar": {
           "angularaxis": {
            "gridcolor": "white",
            "linecolor": "white",
            "ticks": ""
           },
           "bgcolor": "#E5ECF6",
           "radialaxis": {
            "gridcolor": "white",
            "linecolor": "white",
            "ticks": ""
           }
          },
          "scene": {
           "xaxis": {
            "backgroundcolor": "#E5ECF6",
            "gridcolor": "white",
            "gridwidth": 2,
            "linecolor": "white",
            "showbackground": true,
            "ticks": "",
            "zerolinecolor": "white"
           },
           "yaxis": {
            "backgroundcolor": "#E5ECF6",
            "gridcolor": "white",
            "gridwidth": 2,
            "linecolor": "white",
            "showbackground": true,
            "ticks": "",
            "zerolinecolor": "white"
           },
           "zaxis": {
            "backgroundcolor": "#E5ECF6",
            "gridcolor": "white",
            "gridwidth": 2,
            "linecolor": "white",
            "showbackground": true,
            "ticks": "",
            "zerolinecolor": "white"
           }
          },
          "shapedefaults": {
           "line": {
            "color": "#2a3f5f"
           }
          },
          "ternary": {
           "aaxis": {
            "gridcolor": "white",
            "linecolor": "white",
            "ticks": ""
           },
           "baxis": {
            "gridcolor": "white",
            "linecolor": "white",
            "ticks": ""
           },
           "bgcolor": "#E5ECF6",
           "caxis": {
            "gridcolor": "white",
            "linecolor": "white",
            "ticks": ""
           }
          },
          "title": {
           "x": 0.05
          },
          "xaxis": {
           "automargin": true,
           "gridcolor": "white",
           "linecolor": "white",
           "ticks": "",
           "title": {
            "standoff": 15
           },
           "zerolinecolor": "white",
           "zerolinewidth": 2
          },
          "yaxis": {
           "automargin": true,
           "gridcolor": "white",
           "linecolor": "white",
           "ticks": "",
           "title": {
            "standoff": 15
           },
           "zerolinecolor": "white",
           "zerolinewidth": 2
          }
         }
        },
        "title": {
         "text": "Topic: Middle East vs Syllables per word"
        },
        "xaxis": {
         "anchor": "y",
         "domain": [
          0,
          1
         ],
         "title": {
          "text": "middle east"
         }
        },
        "yaxis": {
         "anchor": "x",
         "domain": [
          0,
          1
         ],
         "title": {
          "text": "syl_per_word"
         }
        }
       }
      },
      "text/html": [
       "<div>                            <div id=\"64a82311-067d-4d72-9d9b-21b3172dd261\" class=\"plotly-graph-div\" style=\"height:525px; width:100%;\"></div>            <script type=\"text/javascript\">                require([\"plotly\"], function(Plotly) {                    window.PLOTLYENV=window.PLOTLYENV || {};                                    if (document.getElementById(\"64a82311-067d-4d72-9d9b-21b3172dd261\")) {                    Plotly.newPlot(                        \"64a82311-067d-4d72-9d9b-21b3172dd261\",                        [{\"hovertemplate\":\"middle east=%{x}<br>syl_per_word=%{y}<extra></extra>\",\"legendgroup\":\"\",\"marker\":{\"color\":\"#636efa\",\"symbol\":\"circle\"},\"mode\":\"markers\",\"name\":\"\",\"orientation\":\"v\",\"showlegend\":false,\"x\":[0.018048368394374847,0.0,0.0,0.08734668791294098,0.0,0.09460406005382538,0.0,0.0,0.14081445336341858,0.02596990205347538,0.040509361773729324,0.0,0.0,0.0,0.055299047380685806,0.04218825325369835,0.045016098767519,0.06545063853263855,0.0,0.09366368502378464,0.015400698408484459,0.06020769104361534,0.0,0.06438516825437546,0.0,0.04336601495742798,0.09628212451934814,0.0,0.08665052056312561,0.0,0.20538726449012756,0.08767981082201004,0.0,0.03845614567399025,0.0,0.045004818588495255,0.07143785059452057,0.026504740118980408,0.060505665838718414,0.019487369805574417,0.07307698577642441,0.0,0.07977841794490814,0.1457718163728714,0.07971116155385971,0.08726538717746735,0.09195005893707275,0.20212329924106598,0.034416601061820984,0.07736069709062576,0.03233122080564499,0.0424196831882,0.031272560358047485,0.08198992908000946,0.0,0.0,0.04960713908076286,0.09051673114299774,0.01615278050303459,0.016670387238264084,0.023793894797563553,0.1308121234178543,0.0,0.012501094490289688,0.08387871831655502,0.0,0.0,0.0,0.0,0.0,0.0,0.0,0.08162446320056915,0.050310730934143066,0.0,0.040729325264692307,0.0,0.03304911404848099,0.12259326875209808,0.17821739614009857,0.0,0.08971433341503143,0.0,0.015383079648017883,0.10526513308286667,0.04523864760994911,0.0,0.0,0.043446555733680725,0.03807791694998741,0.0,0.0,0.029673278331756592,0.07671017199754715,0.10664083063602448,0.023125652223825455,0.10822172462940216,0.12020716071128845,0.0,0.028487972915172577],\"xaxis\":\"x\",\"y\":[1.4522045855379189,1.3836598184424271,1.4681059862610402,1.479918864097363,1.592487597448618,1.499110056363097,1.5942848410757946,1.537109375,1.443729136862184,1.575692963752665,1.5293018911977585,1.4476284584980237,1.5599356395816573,1.6112115732368897,1.567986230636833,1.4901026392961876,1.4557038834951457,1.507843137254902,1.5196548418024929,1.494729444834856,1.496544197890142,1.4681528662420382,1.5109628217349858,1.5579710144927537,1.4331597222222223,1.4272300469483568,1.4700674536256324,1.5699708454810497,1.4535561601243685,1.5483641536273116,1.348447204968944,1.5395823215152986,1.4611794654221468,1.4444970414201184,1.4289693593314765,1.6026420079260235,1.5468431771894091,1.5577411167512691,1.486475353563092,1.5749464668094215,1.3789712556732223,1.391629297458894,1.53430749682338,1.3857677902621723,1.4596322941646682,1.3773364485981308,1.4103722831934582,1.4672131147540983,1.3964044943820224,1.4,1.442109600329625,1.537989617744219,1.457889641819942,1.5181792155740053,1.5625,1.418975650713686,1.53894679100384,1.4816568047337275,1.4396003633060854,1.4885114885114883,1.558325912733749,1.4431743958197256,1.4074074074074074,1.707986989519335,1.5113895216400912,1.7206106870229008,1.597323908104014,1.453851261620186,1.493791088385683,1.4798249878463785,1.6359583952451708,1.6024355300859598,1.5221503235440517,1.472308649657747,1.4545454545454546,1.6295493934142111,1.582191780821918,1.4784730195177955,1.578739118965972,1.3997695852534562,1.6043913713405238,1.407169990503324,1.4367945823927766,1.627140974967062,1.4625368731563422,1.534975369458128,1.451951951951952,1.4716006884681585,1.5711556829035338,1.4625237191650853,1.6382978723404256,1.5701754385964912,1.5435374149659864,1.3540967092008058,1.480246913580247,1.4055707955264825,1.3894637817497648,1.5735430157261794,1.3890675241157555,1.4937307297019526],\"yaxis\":\"y\",\"type\":\"scatter\"}],                        {\"template\":{\"data\":{\"histogram2dcontour\":[{\"type\":\"histogram2dcontour\",\"colorbar\":{\"outlinewidth\":0,\"ticks\":\"\"},\"colorscale\":[[0.0,\"#0d0887\"],[0.1111111111111111,\"#46039f\"],[0.2222222222222222,\"#7201a8\"],[0.3333333333333333,\"#9c179e\"],[0.4444444444444444,\"#bd3786\"],[0.5555555555555556,\"#d8576b\"],[0.6666666666666666,\"#ed7953\"],[0.7777777777777778,\"#fb9f3a\"],[0.8888888888888888,\"#fdca26\"],[1.0,\"#f0f921\"]]}],\"choropleth\":[{\"type\":\"choropleth\",\"colorbar\":{\"outlinewidth\":0,\"ticks\":\"\"}}],\"histogram2d\":[{\"type\":\"histogram2d\",\"colorbar\":{\"outlinewidth\":0,\"ticks\":\"\"},\"colorscale\":[[0.0,\"#0d0887\"],[0.1111111111111111,\"#46039f\"],[0.2222222222222222,\"#7201a8\"],[0.3333333333333333,\"#9c179e\"],[0.4444444444444444,\"#bd3786\"],[0.5555555555555556,\"#d8576b\"],[0.6666666666666666,\"#ed7953\"],[0.7777777777777778,\"#fb9f3a\"],[0.8888888888888888,\"#fdca26\"],[1.0,\"#f0f921\"]]}],\"heatmap\":[{\"type\":\"heatmap\",\"colorbar\":{\"outlinewidth\":0,\"ticks\":\"\"},\"colorscale\":[[0.0,\"#0d0887\"],[0.1111111111111111,\"#46039f\"],[0.2222222222222222,\"#7201a8\"],[0.3333333333333333,\"#9c179e\"],[0.4444444444444444,\"#bd3786\"],[0.5555555555555556,\"#d8576b\"],[0.6666666666666666,\"#ed7953\"],[0.7777777777777778,\"#fb9f3a\"],[0.8888888888888888,\"#fdca26\"],[1.0,\"#f0f921\"]]}],\"heatmapgl\":[{\"type\":\"heatmapgl\",\"colorbar\":{\"outlinewidth\":0,\"ticks\":\"\"},\"colorscale\":[[0.0,\"#0d0887\"],[0.1111111111111111,\"#46039f\"],[0.2222222222222222,\"#7201a8\"],[0.3333333333333333,\"#9c179e\"],[0.4444444444444444,\"#bd3786\"],[0.5555555555555556,\"#d8576b\"],[0.6666666666666666,\"#ed7953\"],[0.7777777777777778,\"#fb9f3a\"],[0.8888888888888888,\"#fdca26\"],[1.0,\"#f0f921\"]]}],\"contourcarpet\":[{\"type\":\"contourcarpet\",\"colorbar\":{\"outlinewidth\":0,\"ticks\":\"\"}}],\"contour\":[{\"type\":\"contour\",\"colorbar\":{\"outlinewidth\":0,\"ticks\":\"\"},\"colorscale\":[[0.0,\"#0d0887\"],[0.1111111111111111,\"#46039f\"],[0.2222222222222222,\"#7201a8\"],[0.3333333333333333,\"#9c179e\"],[0.4444444444444444,\"#bd3786\"],[0.5555555555555556,\"#d8576b\"],[0.6666666666666666,\"#ed7953\"],[0.7777777777777778,\"#fb9f3a\"],[0.8888888888888888,\"#fdca26\"],[1.0,\"#f0f921\"]]}],\"surface\":[{\"type\":\"surface\",\"colorbar\":{\"outlinewidth\":0,\"ticks\":\"\"},\"colorscale\":[[0.0,\"#0d0887\"],[0.1111111111111111,\"#46039f\"],[0.2222222222222222,\"#7201a8\"],[0.3333333333333333,\"#9c179e\"],[0.4444444444444444,\"#bd3786\"],[0.5555555555555556,\"#d8576b\"],[0.6666666666666666,\"#ed7953\"],[0.7777777777777778,\"#fb9f3a\"],[0.8888888888888888,\"#fdca26\"],[1.0,\"#f0f921\"]]}],\"mesh3d\":[{\"type\":\"mesh3d\",\"colorbar\":{\"outlinewidth\":0,\"ticks\":\"\"}}],\"scatter\":[{\"fillpattern\":{\"fillmode\":\"overlay\",\"size\":10,\"solidity\":0.2},\"type\":\"scatter\"}],\"parcoords\":[{\"type\":\"parcoords\",\"line\":{\"colorbar\":{\"outlinewidth\":0,\"ticks\":\"\"}}}],\"scatterpolargl\":[{\"type\":\"scatterpolargl\",\"marker\":{\"colorbar\":{\"outlinewidth\":0,\"ticks\":\"\"}}}],\"bar\":[{\"error_x\":{\"color\":\"#2a3f5f\"},\"error_y\":{\"color\":\"#2a3f5f\"},\"marker\":{\"line\":{\"color\":\"#E5ECF6\",\"width\":0.5},\"pattern\":{\"fillmode\":\"overlay\",\"size\":10,\"solidity\":0.2}},\"type\":\"bar\"}],\"scattergeo\":[{\"type\":\"scattergeo\",\"marker\":{\"colorbar\":{\"outlinewidth\":0,\"ticks\":\"\"}}}],\"scatterpolar\":[{\"type\":\"scatterpolar\",\"marker\":{\"colorbar\":{\"outlinewidth\":0,\"ticks\":\"\"}}}],\"histogram\":[{\"marker\":{\"pattern\":{\"fillmode\":\"overlay\",\"size\":10,\"solidity\":0.2}},\"type\":\"histogram\"}],\"scattergl\":[{\"type\":\"scattergl\",\"marker\":{\"colorbar\":{\"outlinewidth\":0,\"ticks\":\"\"}}}],\"scatter3d\":[{\"type\":\"scatter3d\",\"line\":{\"colorbar\":{\"outlinewidth\":0,\"ticks\":\"\"}},\"marker\":{\"colorbar\":{\"outlinewidth\":0,\"ticks\":\"\"}}}],\"scattermapbox\":[{\"type\":\"scattermapbox\",\"marker\":{\"colorbar\":{\"outlinewidth\":0,\"ticks\":\"\"}}}],\"scatterternary\":[{\"type\":\"scatterternary\",\"marker\":{\"colorbar\":{\"outlinewidth\":0,\"ticks\":\"\"}}}],\"scattercarpet\":[{\"type\":\"scattercarpet\",\"marker\":{\"colorbar\":{\"outlinewidth\":0,\"ticks\":\"\"}}}],\"carpet\":[{\"aaxis\":{\"endlinecolor\":\"#2a3f5f\",\"gridcolor\":\"white\",\"linecolor\":\"white\",\"minorgridcolor\":\"white\",\"startlinecolor\":\"#2a3f5f\"},\"baxis\":{\"endlinecolor\":\"#2a3f5f\",\"gridcolor\":\"white\",\"linecolor\":\"white\",\"minorgridcolor\":\"white\",\"startlinecolor\":\"#2a3f5f\"},\"type\":\"carpet\"}],\"table\":[{\"cells\":{\"fill\":{\"color\":\"#EBF0F8\"},\"line\":{\"color\":\"white\"}},\"header\":{\"fill\":{\"color\":\"#C8D4E3\"},\"line\":{\"color\":\"white\"}},\"type\":\"table\"}],\"barpolar\":[{\"marker\":{\"line\":{\"color\":\"#E5ECF6\",\"width\":0.5},\"pattern\":{\"fillmode\":\"overlay\",\"size\":10,\"solidity\":0.2}},\"type\":\"barpolar\"}],\"pie\":[{\"automargin\":true,\"type\":\"pie\"}]},\"layout\":{\"autotypenumbers\":\"strict\",\"colorway\":[\"#636efa\",\"#EF553B\",\"#00cc96\",\"#ab63fa\",\"#FFA15A\",\"#19d3f3\",\"#FF6692\",\"#B6E880\",\"#FF97FF\",\"#FECB52\"],\"font\":{\"color\":\"#2a3f5f\"},\"hovermode\":\"closest\",\"hoverlabel\":{\"align\":\"left\"},\"paper_bgcolor\":\"white\",\"plot_bgcolor\":\"#E5ECF6\",\"polar\":{\"bgcolor\":\"#E5ECF6\",\"angularaxis\":{\"gridcolor\":\"white\",\"linecolor\":\"white\",\"ticks\":\"\"},\"radialaxis\":{\"gridcolor\":\"white\",\"linecolor\":\"white\",\"ticks\":\"\"}},\"ternary\":{\"bgcolor\":\"#E5ECF6\",\"aaxis\":{\"gridcolor\":\"white\",\"linecolor\":\"white\",\"ticks\":\"\"},\"baxis\":{\"gridcolor\":\"white\",\"linecolor\":\"white\",\"ticks\":\"\"},\"caxis\":{\"gridcolor\":\"white\",\"linecolor\":\"white\",\"ticks\":\"\"}},\"coloraxis\":{\"colorbar\":{\"outlinewidth\":0,\"ticks\":\"\"}},\"colorscale\":{\"sequential\":[[0.0,\"#0d0887\"],[0.1111111111111111,\"#46039f\"],[0.2222222222222222,\"#7201a8\"],[0.3333333333333333,\"#9c179e\"],[0.4444444444444444,\"#bd3786\"],[0.5555555555555556,\"#d8576b\"],[0.6666666666666666,\"#ed7953\"],[0.7777777777777778,\"#fb9f3a\"],[0.8888888888888888,\"#fdca26\"],[1.0,\"#f0f921\"]],\"sequentialminus\":[[0.0,\"#0d0887\"],[0.1111111111111111,\"#46039f\"],[0.2222222222222222,\"#7201a8\"],[0.3333333333333333,\"#9c179e\"],[0.4444444444444444,\"#bd3786\"],[0.5555555555555556,\"#d8576b\"],[0.6666666666666666,\"#ed7953\"],[0.7777777777777778,\"#fb9f3a\"],[0.8888888888888888,\"#fdca26\"],[1.0,\"#f0f921\"]],\"diverging\":[[0,\"#8e0152\"],[0.1,\"#c51b7d\"],[0.2,\"#de77ae\"],[0.3,\"#f1b6da\"],[0.4,\"#fde0ef\"],[0.5,\"#f7f7f7\"],[0.6,\"#e6f5d0\"],[0.7,\"#b8e186\"],[0.8,\"#7fbc41\"],[0.9,\"#4d9221\"],[1,\"#276419\"]]},\"xaxis\":{\"gridcolor\":\"white\",\"linecolor\":\"white\",\"ticks\":\"\",\"title\":{\"standoff\":15},\"zerolinecolor\":\"white\",\"automargin\":true,\"zerolinewidth\":2},\"yaxis\":{\"gridcolor\":\"white\",\"linecolor\":\"white\",\"ticks\":\"\",\"title\":{\"standoff\":15},\"zerolinecolor\":\"white\",\"automargin\":true,\"zerolinewidth\":2},\"scene\":{\"xaxis\":{\"backgroundcolor\":\"#E5ECF6\",\"gridcolor\":\"white\",\"linecolor\":\"white\",\"showbackground\":true,\"ticks\":\"\",\"zerolinecolor\":\"white\",\"gridwidth\":2},\"yaxis\":{\"backgroundcolor\":\"#E5ECF6\",\"gridcolor\":\"white\",\"linecolor\":\"white\",\"showbackground\":true,\"ticks\":\"\",\"zerolinecolor\":\"white\",\"gridwidth\":2},\"zaxis\":{\"backgroundcolor\":\"#E5ECF6\",\"gridcolor\":\"white\",\"linecolor\":\"white\",\"showbackground\":true,\"ticks\":\"\",\"zerolinecolor\":\"white\",\"gridwidth\":2}},\"shapedefaults\":{\"line\":{\"color\":\"#2a3f5f\"}},\"annotationdefaults\":{\"arrowcolor\":\"#2a3f5f\",\"arrowhead\":0,\"arrowwidth\":1},\"geo\":{\"bgcolor\":\"white\",\"landcolor\":\"#E5ECF6\",\"subunitcolor\":\"white\",\"showland\":true,\"showlakes\":true,\"lakecolor\":\"white\"},\"title\":{\"x\":0.05},\"mapbox\":{\"style\":\"light\"}}},\"xaxis\":{\"anchor\":\"y\",\"domain\":[0.0,1.0],\"title\":{\"text\":\"middle east\"}},\"yaxis\":{\"anchor\":\"x\",\"domain\":[0.0,1.0],\"title\":{\"text\":\"syl_per_word\"}},\"legend\":{\"tracegroupgap\":0},\"title\":{\"text\":\"Topic: Middle East vs Syllables per word\"}},                        {\"responsive\": true}                    ).then(function(){\n",
       "                            \n",
       "var gd = document.getElementById('64a82311-067d-4d72-9d9b-21b3172dd261');\n",
       "var x = new MutationObserver(function (mutations, observer) {{\n",
       "        var display = window.getComputedStyle(gd).display;\n",
       "        if (!display || display === 'none') {{\n",
       "            console.log([gd, 'removed!']);\n",
       "            Plotly.purge(gd);\n",
       "            observer.disconnect();\n",
       "        }}\n",
       "}});\n",
       "\n",
       "// Listen for the removal of the full notebook cells\n",
       "var notebookContainer = gd.closest('#notebook-container');\n",
       "if (notebookContainer) {{\n",
       "    x.observe(notebookContainer, {childList: true});\n",
       "}}\n",
       "\n",
       "// Listen for the clearing of the current output cell\n",
       "var outputEl = gd.closest('.output');\n",
       "if (outputEl) {{\n",
       "    x.observe(outputEl, {childList: true});\n",
       "}}\n",
       "\n",
       "                        })                };                });            </script>        </div>"
      ]
     },
     "metadata": {},
     "output_type": "display_data"
    }
   ],
   "source": [
    "fig = px.scatter(tidy_topic, x=\"middle east\", y=\"syl_per_word\",\n",
    "                title=\"Topic: Middle East vs Syllables per word\")\n",
    "fig.show()"
   ]
  },
  {
   "cell_type": "code",
   "execution_count": 85,
   "metadata": {},
   "outputs": [],
   "source": [
    "fig.write_image(\"./plots/middle_east_vs_syllables_per_word.png\", format='png', engine='kaleido')"
   ]
  },
  {
   "cell_type": "code",
   "execution_count": 86,
   "metadata": {},
   "outputs": [
    {
     "data": {
      "application/vnd.plotly.v1+json": {
       "config": {
        "plotlyServerURL": "https://plot.ly"
       },
       "data": [
        {
         "hovertemplate": "middle east=%{x}<br>smog=%{y}<extra></extra>",
         "legendgroup": "",
         "marker": {
          "color": "#636efa",
          "symbol": "circle"
         },
         "mode": "markers",
         "name": "",
         "orientation": "v",
         "showlegend": false,
         "type": "scatter",
         "x": [
          0.018048368394374847,
          0,
          0,
          0.08734668791294098,
          0,
          0.09460406005382538,
          0,
          0,
          0.14081445336341858,
          0.02596990205347538,
          0.040509361773729324,
          0,
          0,
          0,
          0.055299047380685806,
          0.04218825325369835,
          0.045016098767519,
          0.06545063853263855,
          0,
          0.09366368502378464,
          0.015400698408484459,
          0.06020769104361534,
          0,
          0.06438516825437546,
          0,
          0.04336601495742798,
          0.09628212451934814,
          0,
          0.08665052056312561,
          0,
          0.20538726449012756,
          0.08767981082201004,
          0,
          0.03845614567399025,
          0,
          0.045004818588495255,
          0.07143785059452057,
          0.026504740118980408,
          0.060505665838718414,
          0.019487369805574417,
          0.07307698577642441,
          0,
          0.07977841794490814,
          0.1457718163728714,
          0.07971116155385971,
          0.08726538717746735,
          0.09195005893707275,
          0.20212329924106598,
          0.034416601061820984,
          0.07736069709062576,
          0.03233122080564499,
          0.0424196831882,
          0.031272560358047485,
          0.08198992908000946,
          0,
          0,
          0.04960713908076286,
          0.09051673114299774,
          0.01615278050303459,
          0.016670387238264084,
          0.023793894797563553,
          0.1308121234178543,
          0,
          0.012501094490289688,
          0.08387871831655502,
          0,
          0,
          0,
          0,
          0,
          0,
          0,
          0.08162446320056915,
          0.050310730934143066,
          0,
          0.040729325264692307,
          0,
          0.03304911404848099,
          0.12259326875209808,
          0.17821739614009857,
          0,
          0.08971433341503143,
          0,
          0.015383079648017883,
          0.10526513308286667,
          0.04523864760994911,
          0,
          0,
          0.043446555733680725,
          0.03807791694998741,
          0,
          0,
          0.029673278331756592,
          0.07671017199754715,
          0.10664083063602448,
          0.023125652223825455,
          0.10822172462940216,
          0.12020716071128845,
          0,
          0.028487972915172577
         ],
         "xaxis": "x",
         "y": [
          13.330695890333896,
          11.123543617288195,
          13.282839044849888,
          12.02233127060308,
          12.602617957971052,
          13.457251133208146,
          13.352288888157393,
          12.478775796518292,
          11.849897017761624,
          13.132305837370009,
          12.522536065205912,
          11.56386879351177,
          12.351356379393966,
          13.888447283281833,
          13.463846863241148,
          12.734905989350189,
          11.306551799991029,
          12.846632751736166,
          13.905071234487943,
          12.340626583579944,
          12.749305182905092,
          11.615742811318064,
          13.867442237049442,
          12.655902019320465,
          12.536136308816108,
          11.354249913216812,
          11.582277870465385,
          12.75995879102334,
          11.495548251488056,
          12.426405712598328,
          10.044464984676306,
          12.67778824045492,
          12.266920368177583,
          11.493998212098305,
          12.985882908756022,
          13.415641760560376,
          13.02386679866686,
          13.41718862556926,
          11.75569688821345,
          12.957680324746804,
          11.096702843295663,
          9.994966539143718,
          11.380057051037443,
          11.81489498638176,
          12.318104479993105,
          10.84071971745668,
          11.629938488055164,
          12.161744961471694,
          11.1706532979919,
          11.944058876818428,
          11.45871555388906,
          13.006118323752464,
          10.833109450776076,
          12.382330377318524,
          12.656292710211122,
          12.479951782410186,
          13.38978503841859,
          12.039751522126789,
          13.061276258367185,
          13.262329122003724,
          12.83715630853672,
          11.430748103181095,
          12.09199376347754,
          16.239406708845525,
          12.606383516764858,
          15.131025362782136,
          13.405622473935594,
          12.299156360221296,
          12.35060116861766,
          11.629938488055164,
          13.640730558576532,
          14.33831761319674,
          12.259751211466494,
          12.75995879102334,
          11.53393990314321,
          13.923157529211398,
          13.81666964889586,
          11.98814160751903,
          13.5591,
          11.219112774080312,
          13.473254918774494,
          10.613259982142145,
          11.434490787697086,
          13.348371206891418,
          11.480976090482258,
          13.45684262871021,
          11.837888300445236,
          11.757521984204296,
          13.1118220110549,
          11.751575087074414,
          12.815532586354998,
          18.243605946275583,
          12.939077173784383,
          10.251310593108752,
          11.497509608462051,
          10.974573617747032,
          11.773524571261197,
          12.875511070235031,
          10.841910057776722,
          12.57087453467495
         ],
         "yaxis": "y"
        }
       ],
       "layout": {
        "legend": {
         "tracegroupgap": 0
        },
        "template": {
         "data": {
          "bar": [
           {
            "error_x": {
             "color": "#2a3f5f"
            },
            "error_y": {
             "color": "#2a3f5f"
            },
            "marker": {
             "line": {
              "color": "#E5ECF6",
              "width": 0.5
             },
             "pattern": {
              "fillmode": "overlay",
              "size": 10,
              "solidity": 0.2
             }
            },
            "type": "bar"
           }
          ],
          "barpolar": [
           {
            "marker": {
             "line": {
              "color": "#E5ECF6",
              "width": 0.5
             },
             "pattern": {
              "fillmode": "overlay",
              "size": 10,
              "solidity": 0.2
             }
            },
            "type": "barpolar"
           }
          ],
          "carpet": [
           {
            "aaxis": {
             "endlinecolor": "#2a3f5f",
             "gridcolor": "white",
             "linecolor": "white",
             "minorgridcolor": "white",
             "startlinecolor": "#2a3f5f"
            },
            "baxis": {
             "endlinecolor": "#2a3f5f",
             "gridcolor": "white",
             "linecolor": "white",
             "minorgridcolor": "white",
             "startlinecolor": "#2a3f5f"
            },
            "type": "carpet"
           }
          ],
          "choropleth": [
           {
            "colorbar": {
             "outlinewidth": 0,
             "ticks": ""
            },
            "type": "choropleth"
           }
          ],
          "contour": [
           {
            "colorbar": {
             "outlinewidth": 0,
             "ticks": ""
            },
            "colorscale": [
             [
              0,
              "#0d0887"
             ],
             [
              0.1111111111111111,
              "#46039f"
             ],
             [
              0.2222222222222222,
              "#7201a8"
             ],
             [
              0.3333333333333333,
              "#9c179e"
             ],
             [
              0.4444444444444444,
              "#bd3786"
             ],
             [
              0.5555555555555556,
              "#d8576b"
             ],
             [
              0.6666666666666666,
              "#ed7953"
             ],
             [
              0.7777777777777778,
              "#fb9f3a"
             ],
             [
              0.8888888888888888,
              "#fdca26"
             ],
             [
              1,
              "#f0f921"
             ]
            ],
            "type": "contour"
           }
          ],
          "contourcarpet": [
           {
            "colorbar": {
             "outlinewidth": 0,
             "ticks": ""
            },
            "type": "contourcarpet"
           }
          ],
          "heatmap": [
           {
            "colorbar": {
             "outlinewidth": 0,
             "ticks": ""
            },
            "colorscale": [
             [
              0,
              "#0d0887"
             ],
             [
              0.1111111111111111,
              "#46039f"
             ],
             [
              0.2222222222222222,
              "#7201a8"
             ],
             [
              0.3333333333333333,
              "#9c179e"
             ],
             [
              0.4444444444444444,
              "#bd3786"
             ],
             [
              0.5555555555555556,
              "#d8576b"
             ],
             [
              0.6666666666666666,
              "#ed7953"
             ],
             [
              0.7777777777777778,
              "#fb9f3a"
             ],
             [
              0.8888888888888888,
              "#fdca26"
             ],
             [
              1,
              "#f0f921"
             ]
            ],
            "type": "heatmap"
           }
          ],
          "heatmapgl": [
           {
            "colorbar": {
             "outlinewidth": 0,
             "ticks": ""
            },
            "colorscale": [
             [
              0,
              "#0d0887"
             ],
             [
              0.1111111111111111,
              "#46039f"
             ],
             [
              0.2222222222222222,
              "#7201a8"
             ],
             [
              0.3333333333333333,
              "#9c179e"
             ],
             [
              0.4444444444444444,
              "#bd3786"
             ],
             [
              0.5555555555555556,
              "#d8576b"
             ],
             [
              0.6666666666666666,
              "#ed7953"
             ],
             [
              0.7777777777777778,
              "#fb9f3a"
             ],
             [
              0.8888888888888888,
              "#fdca26"
             ],
             [
              1,
              "#f0f921"
             ]
            ],
            "type": "heatmapgl"
           }
          ],
          "histogram": [
           {
            "marker": {
             "pattern": {
              "fillmode": "overlay",
              "size": 10,
              "solidity": 0.2
             }
            },
            "type": "histogram"
           }
          ],
          "histogram2d": [
           {
            "colorbar": {
             "outlinewidth": 0,
             "ticks": ""
            },
            "colorscale": [
             [
              0,
              "#0d0887"
             ],
             [
              0.1111111111111111,
              "#46039f"
             ],
             [
              0.2222222222222222,
              "#7201a8"
             ],
             [
              0.3333333333333333,
              "#9c179e"
             ],
             [
              0.4444444444444444,
              "#bd3786"
             ],
             [
              0.5555555555555556,
              "#d8576b"
             ],
             [
              0.6666666666666666,
              "#ed7953"
             ],
             [
              0.7777777777777778,
              "#fb9f3a"
             ],
             [
              0.8888888888888888,
              "#fdca26"
             ],
             [
              1,
              "#f0f921"
             ]
            ],
            "type": "histogram2d"
           }
          ],
          "histogram2dcontour": [
           {
            "colorbar": {
             "outlinewidth": 0,
             "ticks": ""
            },
            "colorscale": [
             [
              0,
              "#0d0887"
             ],
             [
              0.1111111111111111,
              "#46039f"
             ],
             [
              0.2222222222222222,
              "#7201a8"
             ],
             [
              0.3333333333333333,
              "#9c179e"
             ],
             [
              0.4444444444444444,
              "#bd3786"
             ],
             [
              0.5555555555555556,
              "#d8576b"
             ],
             [
              0.6666666666666666,
              "#ed7953"
             ],
             [
              0.7777777777777778,
              "#fb9f3a"
             ],
             [
              0.8888888888888888,
              "#fdca26"
             ],
             [
              1,
              "#f0f921"
             ]
            ],
            "type": "histogram2dcontour"
           }
          ],
          "mesh3d": [
           {
            "colorbar": {
             "outlinewidth": 0,
             "ticks": ""
            },
            "type": "mesh3d"
           }
          ],
          "parcoords": [
           {
            "line": {
             "colorbar": {
              "outlinewidth": 0,
              "ticks": ""
             }
            },
            "type": "parcoords"
           }
          ],
          "pie": [
           {
            "automargin": true,
            "type": "pie"
           }
          ],
          "scatter": [
           {
            "fillpattern": {
             "fillmode": "overlay",
             "size": 10,
             "solidity": 0.2
            },
            "type": "scatter"
           }
          ],
          "scatter3d": [
           {
            "line": {
             "colorbar": {
              "outlinewidth": 0,
              "ticks": ""
             }
            },
            "marker": {
             "colorbar": {
              "outlinewidth": 0,
              "ticks": ""
             }
            },
            "type": "scatter3d"
           }
          ],
          "scattercarpet": [
           {
            "marker": {
             "colorbar": {
              "outlinewidth": 0,
              "ticks": ""
             }
            },
            "type": "scattercarpet"
           }
          ],
          "scattergeo": [
           {
            "marker": {
             "colorbar": {
              "outlinewidth": 0,
              "ticks": ""
             }
            },
            "type": "scattergeo"
           }
          ],
          "scattergl": [
           {
            "marker": {
             "colorbar": {
              "outlinewidth": 0,
              "ticks": ""
             }
            },
            "type": "scattergl"
           }
          ],
          "scattermapbox": [
           {
            "marker": {
             "colorbar": {
              "outlinewidth": 0,
              "ticks": ""
             }
            },
            "type": "scattermapbox"
           }
          ],
          "scatterpolar": [
           {
            "marker": {
             "colorbar": {
              "outlinewidth": 0,
              "ticks": ""
             }
            },
            "type": "scatterpolar"
           }
          ],
          "scatterpolargl": [
           {
            "marker": {
             "colorbar": {
              "outlinewidth": 0,
              "ticks": ""
             }
            },
            "type": "scatterpolargl"
           }
          ],
          "scatterternary": [
           {
            "marker": {
             "colorbar": {
              "outlinewidth": 0,
              "ticks": ""
             }
            },
            "type": "scatterternary"
           }
          ],
          "surface": [
           {
            "colorbar": {
             "outlinewidth": 0,
             "ticks": ""
            },
            "colorscale": [
             [
              0,
              "#0d0887"
             ],
             [
              0.1111111111111111,
              "#46039f"
             ],
             [
              0.2222222222222222,
              "#7201a8"
             ],
             [
              0.3333333333333333,
              "#9c179e"
             ],
             [
              0.4444444444444444,
              "#bd3786"
             ],
             [
              0.5555555555555556,
              "#d8576b"
             ],
             [
              0.6666666666666666,
              "#ed7953"
             ],
             [
              0.7777777777777778,
              "#fb9f3a"
             ],
             [
              0.8888888888888888,
              "#fdca26"
             ],
             [
              1,
              "#f0f921"
             ]
            ],
            "type": "surface"
           }
          ],
          "table": [
           {
            "cells": {
             "fill": {
              "color": "#EBF0F8"
             },
             "line": {
              "color": "white"
             }
            },
            "header": {
             "fill": {
              "color": "#C8D4E3"
             },
             "line": {
              "color": "white"
             }
            },
            "type": "table"
           }
          ]
         },
         "layout": {
          "annotationdefaults": {
           "arrowcolor": "#2a3f5f",
           "arrowhead": 0,
           "arrowwidth": 1
          },
          "autotypenumbers": "strict",
          "coloraxis": {
           "colorbar": {
            "outlinewidth": 0,
            "ticks": ""
           }
          },
          "colorscale": {
           "diverging": [
            [
             0,
             "#8e0152"
            ],
            [
             0.1,
             "#c51b7d"
            ],
            [
             0.2,
             "#de77ae"
            ],
            [
             0.3,
             "#f1b6da"
            ],
            [
             0.4,
             "#fde0ef"
            ],
            [
             0.5,
             "#f7f7f7"
            ],
            [
             0.6,
             "#e6f5d0"
            ],
            [
             0.7,
             "#b8e186"
            ],
            [
             0.8,
             "#7fbc41"
            ],
            [
             0.9,
             "#4d9221"
            ],
            [
             1,
             "#276419"
            ]
           ],
           "sequential": [
            [
             0,
             "#0d0887"
            ],
            [
             0.1111111111111111,
             "#46039f"
            ],
            [
             0.2222222222222222,
             "#7201a8"
            ],
            [
             0.3333333333333333,
             "#9c179e"
            ],
            [
             0.4444444444444444,
             "#bd3786"
            ],
            [
             0.5555555555555556,
             "#d8576b"
            ],
            [
             0.6666666666666666,
             "#ed7953"
            ],
            [
             0.7777777777777778,
             "#fb9f3a"
            ],
            [
             0.8888888888888888,
             "#fdca26"
            ],
            [
             1,
             "#f0f921"
            ]
           ],
           "sequentialminus": [
            [
             0,
             "#0d0887"
            ],
            [
             0.1111111111111111,
             "#46039f"
            ],
            [
             0.2222222222222222,
             "#7201a8"
            ],
            [
             0.3333333333333333,
             "#9c179e"
            ],
            [
             0.4444444444444444,
             "#bd3786"
            ],
            [
             0.5555555555555556,
             "#d8576b"
            ],
            [
             0.6666666666666666,
             "#ed7953"
            ],
            [
             0.7777777777777778,
             "#fb9f3a"
            ],
            [
             0.8888888888888888,
             "#fdca26"
            ],
            [
             1,
             "#f0f921"
            ]
           ]
          },
          "colorway": [
           "#636efa",
           "#EF553B",
           "#00cc96",
           "#ab63fa",
           "#FFA15A",
           "#19d3f3",
           "#FF6692",
           "#B6E880",
           "#FF97FF",
           "#FECB52"
          ],
          "font": {
           "color": "#2a3f5f"
          },
          "geo": {
           "bgcolor": "white",
           "lakecolor": "white",
           "landcolor": "#E5ECF6",
           "showlakes": true,
           "showland": true,
           "subunitcolor": "white"
          },
          "hoverlabel": {
           "align": "left"
          },
          "hovermode": "closest",
          "mapbox": {
           "style": "light"
          },
          "paper_bgcolor": "white",
          "plot_bgcolor": "#E5ECF6",
          "polar": {
           "angularaxis": {
            "gridcolor": "white",
            "linecolor": "white",
            "ticks": ""
           },
           "bgcolor": "#E5ECF6",
           "radialaxis": {
            "gridcolor": "white",
            "linecolor": "white",
            "ticks": ""
           }
          },
          "scene": {
           "xaxis": {
            "backgroundcolor": "#E5ECF6",
            "gridcolor": "white",
            "gridwidth": 2,
            "linecolor": "white",
            "showbackground": true,
            "ticks": "",
            "zerolinecolor": "white"
           },
           "yaxis": {
            "backgroundcolor": "#E5ECF6",
            "gridcolor": "white",
            "gridwidth": 2,
            "linecolor": "white",
            "showbackground": true,
            "ticks": "",
            "zerolinecolor": "white"
           },
           "zaxis": {
            "backgroundcolor": "#E5ECF6",
            "gridcolor": "white",
            "gridwidth": 2,
            "linecolor": "white",
            "showbackground": true,
            "ticks": "",
            "zerolinecolor": "white"
           }
          },
          "shapedefaults": {
           "line": {
            "color": "#2a3f5f"
           }
          },
          "ternary": {
           "aaxis": {
            "gridcolor": "white",
            "linecolor": "white",
            "ticks": ""
           },
           "baxis": {
            "gridcolor": "white",
            "linecolor": "white",
            "ticks": ""
           },
           "bgcolor": "#E5ECF6",
           "caxis": {
            "gridcolor": "white",
            "linecolor": "white",
            "ticks": ""
           }
          },
          "title": {
           "x": 0.05
          },
          "xaxis": {
           "automargin": true,
           "gridcolor": "white",
           "linecolor": "white",
           "ticks": "",
           "title": {
            "standoff": 15
           },
           "zerolinecolor": "white",
           "zerolinewidth": 2
          },
          "yaxis": {
           "automargin": true,
           "gridcolor": "white",
           "linecolor": "white",
           "ticks": "",
           "title": {
            "standoff": 15
           },
           "zerolinecolor": "white",
           "zerolinewidth": 2
          }
         }
        },
        "title": {
         "text": "Topic: Middle East vs SMOG readbility index"
        },
        "xaxis": {
         "anchor": "y",
         "domain": [
          0,
          1
         ],
         "title": {
          "text": "middle east"
         }
        },
        "yaxis": {
         "anchor": "x",
         "domain": [
          0,
          1
         ],
         "title": {
          "text": "smog"
         }
        }
       }
      },
      "text/html": [
       "<div>                            <div id=\"5e0753c2-80b6-404e-8c91-7672980e6e75\" class=\"plotly-graph-div\" style=\"height:525px; width:100%;\"></div>            <script type=\"text/javascript\">                require([\"plotly\"], function(Plotly) {                    window.PLOTLYENV=window.PLOTLYENV || {};                                    if (document.getElementById(\"5e0753c2-80b6-404e-8c91-7672980e6e75\")) {                    Plotly.newPlot(                        \"5e0753c2-80b6-404e-8c91-7672980e6e75\",                        [{\"hovertemplate\":\"middle east=%{x}<br>smog=%{y}<extra></extra>\",\"legendgroup\":\"\",\"marker\":{\"color\":\"#636efa\",\"symbol\":\"circle\"},\"mode\":\"markers\",\"name\":\"\",\"orientation\":\"v\",\"showlegend\":false,\"x\":[0.018048368394374847,0.0,0.0,0.08734668791294098,0.0,0.09460406005382538,0.0,0.0,0.14081445336341858,0.02596990205347538,0.040509361773729324,0.0,0.0,0.0,0.055299047380685806,0.04218825325369835,0.045016098767519,0.06545063853263855,0.0,0.09366368502378464,0.015400698408484459,0.06020769104361534,0.0,0.06438516825437546,0.0,0.04336601495742798,0.09628212451934814,0.0,0.08665052056312561,0.0,0.20538726449012756,0.08767981082201004,0.0,0.03845614567399025,0.0,0.045004818588495255,0.07143785059452057,0.026504740118980408,0.060505665838718414,0.019487369805574417,0.07307698577642441,0.0,0.07977841794490814,0.1457718163728714,0.07971116155385971,0.08726538717746735,0.09195005893707275,0.20212329924106598,0.034416601061820984,0.07736069709062576,0.03233122080564499,0.0424196831882,0.031272560358047485,0.08198992908000946,0.0,0.0,0.04960713908076286,0.09051673114299774,0.01615278050303459,0.016670387238264084,0.023793894797563553,0.1308121234178543,0.0,0.012501094490289688,0.08387871831655502,0.0,0.0,0.0,0.0,0.0,0.0,0.0,0.08162446320056915,0.050310730934143066,0.0,0.040729325264692307,0.0,0.03304911404848099,0.12259326875209808,0.17821739614009857,0.0,0.08971433341503143,0.0,0.015383079648017883,0.10526513308286667,0.04523864760994911,0.0,0.0,0.043446555733680725,0.03807791694998741,0.0,0.0,0.029673278331756592,0.07671017199754715,0.10664083063602448,0.023125652223825455,0.10822172462940216,0.12020716071128845,0.0,0.028487972915172577],\"xaxis\":\"x\",\"y\":[13.330695890333896,11.123543617288195,13.282839044849888,12.02233127060308,12.602617957971052,13.457251133208146,13.352288888157393,12.478775796518292,11.849897017761624,13.132305837370009,12.522536065205912,11.56386879351177,12.351356379393966,13.888447283281833,13.463846863241148,12.734905989350189,11.306551799991029,12.846632751736166,13.905071234487943,12.340626583579944,12.749305182905092,11.615742811318064,13.867442237049442,12.655902019320465,12.536136308816108,11.354249913216812,11.582277870465385,12.75995879102334,11.495548251488056,12.426405712598328,10.044464984676306,12.67778824045492,12.266920368177583,11.493998212098305,12.985882908756022,13.415641760560376,13.02386679866686,13.41718862556926,11.75569688821345,12.957680324746804,11.096702843295663,9.994966539143718,11.380057051037443,11.81489498638176,12.318104479993105,10.84071971745668,11.629938488055164,12.161744961471694,11.1706532979919,11.944058876818428,11.45871555388906,13.006118323752464,10.833109450776076,12.382330377318524,12.656292710211122,12.479951782410186,13.38978503841859,12.039751522126789,13.061276258367185,13.262329122003724,12.83715630853672,11.430748103181095,12.09199376347754,16.239406708845525,12.606383516764858,15.131025362782136,13.405622473935594,12.299156360221296,12.35060116861766,11.629938488055164,13.640730558576532,14.33831761319674,12.259751211466494,12.75995879102334,11.53393990314321,13.923157529211398,13.81666964889586,11.98814160751903,13.5591,11.219112774080312,13.473254918774494,10.613259982142145,11.434490787697086,13.348371206891418,11.480976090482258,13.45684262871021,11.837888300445236,11.757521984204296,13.1118220110549,11.751575087074414,12.815532586354998,18.243605946275583,12.939077173784383,10.251310593108752,11.497509608462051,10.974573617747032,11.773524571261197,12.875511070235031,10.841910057776722,12.57087453467495],\"yaxis\":\"y\",\"type\":\"scatter\"}],                        {\"template\":{\"data\":{\"histogram2dcontour\":[{\"type\":\"histogram2dcontour\",\"colorbar\":{\"outlinewidth\":0,\"ticks\":\"\"},\"colorscale\":[[0.0,\"#0d0887\"],[0.1111111111111111,\"#46039f\"],[0.2222222222222222,\"#7201a8\"],[0.3333333333333333,\"#9c179e\"],[0.4444444444444444,\"#bd3786\"],[0.5555555555555556,\"#d8576b\"],[0.6666666666666666,\"#ed7953\"],[0.7777777777777778,\"#fb9f3a\"],[0.8888888888888888,\"#fdca26\"],[1.0,\"#f0f921\"]]}],\"choropleth\":[{\"type\":\"choropleth\",\"colorbar\":{\"outlinewidth\":0,\"ticks\":\"\"}}],\"histogram2d\":[{\"type\":\"histogram2d\",\"colorbar\":{\"outlinewidth\":0,\"ticks\":\"\"},\"colorscale\":[[0.0,\"#0d0887\"],[0.1111111111111111,\"#46039f\"],[0.2222222222222222,\"#7201a8\"],[0.3333333333333333,\"#9c179e\"],[0.4444444444444444,\"#bd3786\"],[0.5555555555555556,\"#d8576b\"],[0.6666666666666666,\"#ed7953\"],[0.7777777777777778,\"#fb9f3a\"],[0.8888888888888888,\"#fdca26\"],[1.0,\"#f0f921\"]]}],\"heatmap\":[{\"type\":\"heatmap\",\"colorbar\":{\"outlinewidth\":0,\"ticks\":\"\"},\"colorscale\":[[0.0,\"#0d0887\"],[0.1111111111111111,\"#46039f\"],[0.2222222222222222,\"#7201a8\"],[0.3333333333333333,\"#9c179e\"],[0.4444444444444444,\"#bd3786\"],[0.5555555555555556,\"#d8576b\"],[0.6666666666666666,\"#ed7953\"],[0.7777777777777778,\"#fb9f3a\"],[0.8888888888888888,\"#fdca26\"],[1.0,\"#f0f921\"]]}],\"heatmapgl\":[{\"type\":\"heatmapgl\",\"colorbar\":{\"outlinewidth\":0,\"ticks\":\"\"},\"colorscale\":[[0.0,\"#0d0887\"],[0.1111111111111111,\"#46039f\"],[0.2222222222222222,\"#7201a8\"],[0.3333333333333333,\"#9c179e\"],[0.4444444444444444,\"#bd3786\"],[0.5555555555555556,\"#d8576b\"],[0.6666666666666666,\"#ed7953\"],[0.7777777777777778,\"#fb9f3a\"],[0.8888888888888888,\"#fdca26\"],[1.0,\"#f0f921\"]]}],\"contourcarpet\":[{\"type\":\"contourcarpet\",\"colorbar\":{\"outlinewidth\":0,\"ticks\":\"\"}}],\"contour\":[{\"type\":\"contour\",\"colorbar\":{\"outlinewidth\":0,\"ticks\":\"\"},\"colorscale\":[[0.0,\"#0d0887\"],[0.1111111111111111,\"#46039f\"],[0.2222222222222222,\"#7201a8\"],[0.3333333333333333,\"#9c179e\"],[0.4444444444444444,\"#bd3786\"],[0.5555555555555556,\"#d8576b\"],[0.6666666666666666,\"#ed7953\"],[0.7777777777777778,\"#fb9f3a\"],[0.8888888888888888,\"#fdca26\"],[1.0,\"#f0f921\"]]}],\"surface\":[{\"type\":\"surface\",\"colorbar\":{\"outlinewidth\":0,\"ticks\":\"\"},\"colorscale\":[[0.0,\"#0d0887\"],[0.1111111111111111,\"#46039f\"],[0.2222222222222222,\"#7201a8\"],[0.3333333333333333,\"#9c179e\"],[0.4444444444444444,\"#bd3786\"],[0.5555555555555556,\"#d8576b\"],[0.6666666666666666,\"#ed7953\"],[0.7777777777777778,\"#fb9f3a\"],[0.8888888888888888,\"#fdca26\"],[1.0,\"#f0f921\"]]}],\"mesh3d\":[{\"type\":\"mesh3d\",\"colorbar\":{\"outlinewidth\":0,\"ticks\":\"\"}}],\"scatter\":[{\"fillpattern\":{\"fillmode\":\"overlay\",\"size\":10,\"solidity\":0.2},\"type\":\"scatter\"}],\"parcoords\":[{\"type\":\"parcoords\",\"line\":{\"colorbar\":{\"outlinewidth\":0,\"ticks\":\"\"}}}],\"scatterpolargl\":[{\"type\":\"scatterpolargl\",\"marker\":{\"colorbar\":{\"outlinewidth\":0,\"ticks\":\"\"}}}],\"bar\":[{\"error_x\":{\"color\":\"#2a3f5f\"},\"error_y\":{\"color\":\"#2a3f5f\"},\"marker\":{\"line\":{\"color\":\"#E5ECF6\",\"width\":0.5},\"pattern\":{\"fillmode\":\"overlay\",\"size\":10,\"solidity\":0.2}},\"type\":\"bar\"}],\"scattergeo\":[{\"type\":\"scattergeo\",\"marker\":{\"colorbar\":{\"outlinewidth\":0,\"ticks\":\"\"}}}],\"scatterpolar\":[{\"type\":\"scatterpolar\",\"marker\":{\"colorbar\":{\"outlinewidth\":0,\"ticks\":\"\"}}}],\"histogram\":[{\"marker\":{\"pattern\":{\"fillmode\":\"overlay\",\"size\":10,\"solidity\":0.2}},\"type\":\"histogram\"}],\"scattergl\":[{\"type\":\"scattergl\",\"marker\":{\"colorbar\":{\"outlinewidth\":0,\"ticks\":\"\"}}}],\"scatter3d\":[{\"type\":\"scatter3d\",\"line\":{\"colorbar\":{\"outlinewidth\":0,\"ticks\":\"\"}},\"marker\":{\"colorbar\":{\"outlinewidth\":0,\"ticks\":\"\"}}}],\"scattermapbox\":[{\"type\":\"scattermapbox\",\"marker\":{\"colorbar\":{\"outlinewidth\":0,\"ticks\":\"\"}}}],\"scatterternary\":[{\"type\":\"scatterternary\",\"marker\":{\"colorbar\":{\"outlinewidth\":0,\"ticks\":\"\"}}}],\"scattercarpet\":[{\"type\":\"scattercarpet\",\"marker\":{\"colorbar\":{\"outlinewidth\":0,\"ticks\":\"\"}}}],\"carpet\":[{\"aaxis\":{\"endlinecolor\":\"#2a3f5f\",\"gridcolor\":\"white\",\"linecolor\":\"white\",\"minorgridcolor\":\"white\",\"startlinecolor\":\"#2a3f5f\"},\"baxis\":{\"endlinecolor\":\"#2a3f5f\",\"gridcolor\":\"white\",\"linecolor\":\"white\",\"minorgridcolor\":\"white\",\"startlinecolor\":\"#2a3f5f\"},\"type\":\"carpet\"}],\"table\":[{\"cells\":{\"fill\":{\"color\":\"#EBF0F8\"},\"line\":{\"color\":\"white\"}},\"header\":{\"fill\":{\"color\":\"#C8D4E3\"},\"line\":{\"color\":\"white\"}},\"type\":\"table\"}],\"barpolar\":[{\"marker\":{\"line\":{\"color\":\"#E5ECF6\",\"width\":0.5},\"pattern\":{\"fillmode\":\"overlay\",\"size\":10,\"solidity\":0.2}},\"type\":\"barpolar\"}],\"pie\":[{\"automargin\":true,\"type\":\"pie\"}]},\"layout\":{\"autotypenumbers\":\"strict\",\"colorway\":[\"#636efa\",\"#EF553B\",\"#00cc96\",\"#ab63fa\",\"#FFA15A\",\"#19d3f3\",\"#FF6692\",\"#B6E880\",\"#FF97FF\",\"#FECB52\"],\"font\":{\"color\":\"#2a3f5f\"},\"hovermode\":\"closest\",\"hoverlabel\":{\"align\":\"left\"},\"paper_bgcolor\":\"white\",\"plot_bgcolor\":\"#E5ECF6\",\"polar\":{\"bgcolor\":\"#E5ECF6\",\"angularaxis\":{\"gridcolor\":\"white\",\"linecolor\":\"white\",\"ticks\":\"\"},\"radialaxis\":{\"gridcolor\":\"white\",\"linecolor\":\"white\",\"ticks\":\"\"}},\"ternary\":{\"bgcolor\":\"#E5ECF6\",\"aaxis\":{\"gridcolor\":\"white\",\"linecolor\":\"white\",\"ticks\":\"\"},\"baxis\":{\"gridcolor\":\"white\",\"linecolor\":\"white\",\"ticks\":\"\"},\"caxis\":{\"gridcolor\":\"white\",\"linecolor\":\"white\",\"ticks\":\"\"}},\"coloraxis\":{\"colorbar\":{\"outlinewidth\":0,\"ticks\":\"\"}},\"colorscale\":{\"sequential\":[[0.0,\"#0d0887\"],[0.1111111111111111,\"#46039f\"],[0.2222222222222222,\"#7201a8\"],[0.3333333333333333,\"#9c179e\"],[0.4444444444444444,\"#bd3786\"],[0.5555555555555556,\"#d8576b\"],[0.6666666666666666,\"#ed7953\"],[0.7777777777777778,\"#fb9f3a\"],[0.8888888888888888,\"#fdca26\"],[1.0,\"#f0f921\"]],\"sequentialminus\":[[0.0,\"#0d0887\"],[0.1111111111111111,\"#46039f\"],[0.2222222222222222,\"#7201a8\"],[0.3333333333333333,\"#9c179e\"],[0.4444444444444444,\"#bd3786\"],[0.5555555555555556,\"#d8576b\"],[0.6666666666666666,\"#ed7953\"],[0.7777777777777778,\"#fb9f3a\"],[0.8888888888888888,\"#fdca26\"],[1.0,\"#f0f921\"]],\"diverging\":[[0,\"#8e0152\"],[0.1,\"#c51b7d\"],[0.2,\"#de77ae\"],[0.3,\"#f1b6da\"],[0.4,\"#fde0ef\"],[0.5,\"#f7f7f7\"],[0.6,\"#e6f5d0\"],[0.7,\"#b8e186\"],[0.8,\"#7fbc41\"],[0.9,\"#4d9221\"],[1,\"#276419\"]]},\"xaxis\":{\"gridcolor\":\"white\",\"linecolor\":\"white\",\"ticks\":\"\",\"title\":{\"standoff\":15},\"zerolinecolor\":\"white\",\"automargin\":true,\"zerolinewidth\":2},\"yaxis\":{\"gridcolor\":\"white\",\"linecolor\":\"white\",\"ticks\":\"\",\"title\":{\"standoff\":15},\"zerolinecolor\":\"white\",\"automargin\":true,\"zerolinewidth\":2},\"scene\":{\"xaxis\":{\"backgroundcolor\":\"#E5ECF6\",\"gridcolor\":\"white\",\"linecolor\":\"white\",\"showbackground\":true,\"ticks\":\"\",\"zerolinecolor\":\"white\",\"gridwidth\":2},\"yaxis\":{\"backgroundcolor\":\"#E5ECF6\",\"gridcolor\":\"white\",\"linecolor\":\"white\",\"showbackground\":true,\"ticks\":\"\",\"zerolinecolor\":\"white\",\"gridwidth\":2},\"zaxis\":{\"backgroundcolor\":\"#E5ECF6\",\"gridcolor\":\"white\",\"linecolor\":\"white\",\"showbackground\":true,\"ticks\":\"\",\"zerolinecolor\":\"white\",\"gridwidth\":2}},\"shapedefaults\":{\"line\":{\"color\":\"#2a3f5f\"}},\"annotationdefaults\":{\"arrowcolor\":\"#2a3f5f\",\"arrowhead\":0,\"arrowwidth\":1},\"geo\":{\"bgcolor\":\"white\",\"landcolor\":\"#E5ECF6\",\"subunitcolor\":\"white\",\"showland\":true,\"showlakes\":true,\"lakecolor\":\"white\"},\"title\":{\"x\":0.05},\"mapbox\":{\"style\":\"light\"}}},\"xaxis\":{\"anchor\":\"y\",\"domain\":[0.0,1.0],\"title\":{\"text\":\"middle east\"}},\"yaxis\":{\"anchor\":\"x\",\"domain\":[0.0,1.0],\"title\":{\"text\":\"smog\"}},\"legend\":{\"tracegroupgap\":0},\"title\":{\"text\":\"Topic: Middle East vs SMOG readbility index\"}},                        {\"responsive\": true}                    ).then(function(){\n",
       "                            \n",
       "var gd = document.getElementById('5e0753c2-80b6-404e-8c91-7672980e6e75');\n",
       "var x = new MutationObserver(function (mutations, observer) {{\n",
       "        var display = window.getComputedStyle(gd).display;\n",
       "        if (!display || display === 'none') {{\n",
       "            console.log([gd, 'removed!']);\n",
       "            Plotly.purge(gd);\n",
       "            observer.disconnect();\n",
       "        }}\n",
       "}});\n",
       "\n",
       "// Listen for the removal of the full notebook cells\n",
       "var notebookContainer = gd.closest('#notebook-container');\n",
       "if (notebookContainer) {{\n",
       "    x.observe(notebookContainer, {childList: true});\n",
       "}}\n",
       "\n",
       "// Listen for the clearing of the current output cell\n",
       "var outputEl = gd.closest('.output');\n",
       "if (outputEl) {{\n",
       "    x.observe(outputEl, {childList: true});\n",
       "}}\n",
       "\n",
       "                        })                };                });            </script>        </div>"
      ]
     },
     "metadata": {},
     "output_type": "display_data"
    }
   ],
   "source": [
    "fig = px.scatter(tidy_topic, x=\"middle east\", y=\"smog\",\n",
    "                title=\"Topic: Middle East vs SMOG readbility index\")\n",
    "fig.show()"
   ]
  },
  {
   "cell_type": "code",
   "execution_count": 87,
   "metadata": {},
   "outputs": [],
   "source": [
    "fig.write_image(\"./plots/middle_east_vs_SMOG.png\", format='png', engine='kaleido')"
   ]
  },
  {
   "cell_type": "code",
   "execution_count": 97,
   "metadata": {},
   "outputs": [
    {
     "data": {
      "application/vnd.plotly.v1+json": {
       "config": {
        "plotlyServerURL": "https://plot.ly"
       },
       "data": [
        {
         "hovertemplate": "international relations=%{x}<br>anger=%{y}<extra></extra>",
         "legendgroup": "",
         "marker": {
          "color": "#636efa",
          "symbol": "circle"
         },
         "mode": "markers",
         "name": "",
         "orientation": "v",
         "showlegend": false,
         "type": "scatter",
         "x": [
          0.11188622564077377,
          0.420229971408844,
          0,
          0.0726303681731224,
          0.10882536321878433,
          0.16871045529842377,
          0.12155161052942276,
          0.2156946361064911,
          0.065737284719944,
          0.07108937203884125,
          0.03577682748436928,
          0.19298720359802246,
          0.18843954801559448,
          0.43292608857154846,
          0.23327946662902832,
          0.053984835743904114,
          0.1863272339105606,
          0.05676846206188202,
          0.07677609473466873,
          0.1759592741727829,
          0.08652687817811966,
          0.18355108797550201,
          0.1676500141620636,
          0.07995971292257309,
          0,
          0.08264129608869553,
          0.13169389963150024,
          0.1694147288799286,
          0.07697319984436035,
          0.2573986351490021,
          0.13138069212436676,
          0.1985931247472763,
          0.1951139271259308,
          0.10672546923160553,
          0.10264112800359726,
          0.12957236170768738,
          0.09249997138977051,
          0.08174112439155579,
          0.18718044459819794,
          0.12662377953529358,
          0,
          0.23654107749462128,
          0.21574027836322784,
          0.10404754430055618,
          0.018950041383504868,
          0,
          0.08901991695165634,
          0.11608149856328964,
          0.2137587070465088,
          0,
          0.1353229284286499,
          0.1476685255765915,
          0.087431900203228,
          0.13106302917003632,
          0,
          0.1418261080980301,
          0.11195823550224304,
          0.07702472060918808,
          0.186525359749794,
          0.07071498036384583,
          0.13305267691612244,
          0.017932388931512833,
          0.06334024667739868,
          0.16277295351028442,
          0.14252066612243652,
          0.2708681523799896,
          0.15504318475723267,
          0.18164768815040588,
          0.15955543518066406,
          0.06558198481798172,
          0.07202276587486267,
          0.15389101207256317,
          0,
          0.2469029277563095,
          0.04028588533401489,
          0.13448810577392578,
          0.7034854292869568,
          0.12902411818504333,
          0.20695744454860687,
          0.13938148319721222,
          0.23119588196277618,
          0.20283181965351105,
          0.062220655381679535,
          0.09072249382734299,
          0.0912475734949112,
          0,
          0.16747373342514038,
          0.38420355319976807,
          0.037459541112184525,
          0.14532287418842316,
          0,
          0,
          0.20127716660499573,
          0,
          0,
          0.11875002086162567,
          0.1522427648305893,
          0.037067461758852005,
          0,
          0.12345875799655914
         ],
         "xaxis": "x",
         "y": [
          0.0554621848739495,
          0.0377777777777777,
          0.044776119402985,
          0.0595084087968952,
          0.0546075085324232,
          0.0640776699029126,
          0.0816733067729083,
          0.1134751773049645,
          0.0432632880098887,
          0.0659163987138263,
          0.0844865258557902,
          0.0477178423236514,
          0.0410447761194029,
          0.0733590733590733,
          0.0512820512820512,
          0.0665399239543726,
          0.0363636363636363,
          0.0285714285714285,
          0.0680628272251308,
          0.0367647058823529,
          0.0699300699300699,
          0.059322033898305,
          0.0418848167539267,
          0.0787878787878787,
          0.0452674897119341,
          0.0590163934426229,
          0.0476190476190476,
          0.0208333333333333,
          0.0301624129930394,
          0.0625,
          0.0792838874680307,
          0.052734375,
          0.0601769911504424,
          0.0382244143033292,
          0.0723472668810289,
          0.0334486735870818,
          0.037037037037037,
          0.0835820895522388,
          0.0516739446870451,
          0.0449438202247191,
          0.0559006211180124,
          0.0597609561752988,
          0.0497076023391812,
          0.039426523297491,
          0.0378151260504201,
          0.0628571428571428,
          0.0485074626865671,
          0.0813397129186602,
          0.056420233463035,
          0.0843373493975903,
          0.1118421052631579,
          0.0592948717948717,
          0.0301953818827708,
          0.0555555555555555,
          0.0208333333333333,
          0.0189393939393939,
          0.0338461538461538,
          0.0644783118405627,
          0.0769230769230769,
          0.0738255033557047,
          0.1057692307692307,
          0.0588235294117647,
          0.0549450549450549,
          0.0486656200941915,
          0.0429128738621586,
          0.0535714285714285,
          0.0649064906490649,
          0.0656634746922024,
          0.0735930735930736,
          0.05,
          0.0668380462724935,
          0.0368550368550368,
          0.0510948905109489,
          0.0920245398773006,
          0.0229007633587786,
          0.0600858369098712,
          0.1636363636363636,
          0.0578345662407531,
          0.0497667185069984,
          0.0270833333333333,
          0.0451127819548872,
          0.0311004784688995,
          0.0688524590163934,
          0.0762564991334488,
          0.0481099656357388,
          0.0549132947976878,
          0.108695652173913,
          0.0769230769230769,
          0.0512820512820512,
          0.074949358541526,
          0.0145985401459854,
          0.0967741935483871,
          0.0596590909090909,
          0.0440900562851782,
          0.0996563573883161,
          0.0651785714285714,
          0.0634920634920634,
          0.0439024390243902,
          0.0510204081632653,
          0.0667678300455235
         ],
         "yaxis": "y"
        }
       ],
       "layout": {
        "legend": {
         "tracegroupgap": 0
        },
        "template": {
         "data": {
          "bar": [
           {
            "error_x": {
             "color": "#2a3f5f"
            },
            "error_y": {
             "color": "#2a3f5f"
            },
            "marker": {
             "line": {
              "color": "#E5ECF6",
              "width": 0.5
             },
             "pattern": {
              "fillmode": "overlay",
              "size": 10,
              "solidity": 0.2
             }
            },
            "type": "bar"
           }
          ],
          "barpolar": [
           {
            "marker": {
             "line": {
              "color": "#E5ECF6",
              "width": 0.5
             },
             "pattern": {
              "fillmode": "overlay",
              "size": 10,
              "solidity": 0.2
             }
            },
            "type": "barpolar"
           }
          ],
          "carpet": [
           {
            "aaxis": {
             "endlinecolor": "#2a3f5f",
             "gridcolor": "white",
             "linecolor": "white",
             "minorgridcolor": "white",
             "startlinecolor": "#2a3f5f"
            },
            "baxis": {
             "endlinecolor": "#2a3f5f",
             "gridcolor": "white",
             "linecolor": "white",
             "minorgridcolor": "white",
             "startlinecolor": "#2a3f5f"
            },
            "type": "carpet"
           }
          ],
          "choropleth": [
           {
            "colorbar": {
             "outlinewidth": 0,
             "ticks": ""
            },
            "type": "choropleth"
           }
          ],
          "contour": [
           {
            "colorbar": {
             "outlinewidth": 0,
             "ticks": ""
            },
            "colorscale": [
             [
              0,
              "#0d0887"
             ],
             [
              0.1111111111111111,
              "#46039f"
             ],
             [
              0.2222222222222222,
              "#7201a8"
             ],
             [
              0.3333333333333333,
              "#9c179e"
             ],
             [
              0.4444444444444444,
              "#bd3786"
             ],
             [
              0.5555555555555556,
              "#d8576b"
             ],
             [
              0.6666666666666666,
              "#ed7953"
             ],
             [
              0.7777777777777778,
              "#fb9f3a"
             ],
             [
              0.8888888888888888,
              "#fdca26"
             ],
             [
              1,
              "#f0f921"
             ]
            ],
            "type": "contour"
           }
          ],
          "contourcarpet": [
           {
            "colorbar": {
             "outlinewidth": 0,
             "ticks": ""
            },
            "type": "contourcarpet"
           }
          ],
          "heatmap": [
           {
            "colorbar": {
             "outlinewidth": 0,
             "ticks": ""
            },
            "colorscale": [
             [
              0,
              "#0d0887"
             ],
             [
              0.1111111111111111,
              "#46039f"
             ],
             [
              0.2222222222222222,
              "#7201a8"
             ],
             [
              0.3333333333333333,
              "#9c179e"
             ],
             [
              0.4444444444444444,
              "#bd3786"
             ],
             [
              0.5555555555555556,
              "#d8576b"
             ],
             [
              0.6666666666666666,
              "#ed7953"
             ],
             [
              0.7777777777777778,
              "#fb9f3a"
             ],
             [
              0.8888888888888888,
              "#fdca26"
             ],
             [
              1,
              "#f0f921"
             ]
            ],
            "type": "heatmap"
           }
          ],
          "heatmapgl": [
           {
            "colorbar": {
             "outlinewidth": 0,
             "ticks": ""
            },
            "colorscale": [
             [
              0,
              "#0d0887"
             ],
             [
              0.1111111111111111,
              "#46039f"
             ],
             [
              0.2222222222222222,
              "#7201a8"
             ],
             [
              0.3333333333333333,
              "#9c179e"
             ],
             [
              0.4444444444444444,
              "#bd3786"
             ],
             [
              0.5555555555555556,
              "#d8576b"
             ],
             [
              0.6666666666666666,
              "#ed7953"
             ],
             [
              0.7777777777777778,
              "#fb9f3a"
             ],
             [
              0.8888888888888888,
              "#fdca26"
             ],
             [
              1,
              "#f0f921"
             ]
            ],
            "type": "heatmapgl"
           }
          ],
          "histogram": [
           {
            "marker": {
             "pattern": {
              "fillmode": "overlay",
              "size": 10,
              "solidity": 0.2
             }
            },
            "type": "histogram"
           }
          ],
          "histogram2d": [
           {
            "colorbar": {
             "outlinewidth": 0,
             "ticks": ""
            },
            "colorscale": [
             [
              0,
              "#0d0887"
             ],
             [
              0.1111111111111111,
              "#46039f"
             ],
             [
              0.2222222222222222,
              "#7201a8"
             ],
             [
              0.3333333333333333,
              "#9c179e"
             ],
             [
              0.4444444444444444,
              "#bd3786"
             ],
             [
              0.5555555555555556,
              "#d8576b"
             ],
             [
              0.6666666666666666,
              "#ed7953"
             ],
             [
              0.7777777777777778,
              "#fb9f3a"
             ],
             [
              0.8888888888888888,
              "#fdca26"
             ],
             [
              1,
              "#f0f921"
             ]
            ],
            "type": "histogram2d"
           }
          ],
          "histogram2dcontour": [
           {
            "colorbar": {
             "outlinewidth": 0,
             "ticks": ""
            },
            "colorscale": [
             [
              0,
              "#0d0887"
             ],
             [
              0.1111111111111111,
              "#46039f"
             ],
             [
              0.2222222222222222,
              "#7201a8"
             ],
             [
              0.3333333333333333,
              "#9c179e"
             ],
             [
              0.4444444444444444,
              "#bd3786"
             ],
             [
              0.5555555555555556,
              "#d8576b"
             ],
             [
              0.6666666666666666,
              "#ed7953"
             ],
             [
              0.7777777777777778,
              "#fb9f3a"
             ],
             [
              0.8888888888888888,
              "#fdca26"
             ],
             [
              1,
              "#f0f921"
             ]
            ],
            "type": "histogram2dcontour"
           }
          ],
          "mesh3d": [
           {
            "colorbar": {
             "outlinewidth": 0,
             "ticks": ""
            },
            "type": "mesh3d"
           }
          ],
          "parcoords": [
           {
            "line": {
             "colorbar": {
              "outlinewidth": 0,
              "ticks": ""
             }
            },
            "type": "parcoords"
           }
          ],
          "pie": [
           {
            "automargin": true,
            "type": "pie"
           }
          ],
          "scatter": [
           {
            "fillpattern": {
             "fillmode": "overlay",
             "size": 10,
             "solidity": 0.2
            },
            "type": "scatter"
           }
          ],
          "scatter3d": [
           {
            "line": {
             "colorbar": {
              "outlinewidth": 0,
              "ticks": ""
             }
            },
            "marker": {
             "colorbar": {
              "outlinewidth": 0,
              "ticks": ""
             }
            },
            "type": "scatter3d"
           }
          ],
          "scattercarpet": [
           {
            "marker": {
             "colorbar": {
              "outlinewidth": 0,
              "ticks": ""
             }
            },
            "type": "scattercarpet"
           }
          ],
          "scattergeo": [
           {
            "marker": {
             "colorbar": {
              "outlinewidth": 0,
              "ticks": ""
             }
            },
            "type": "scattergeo"
           }
          ],
          "scattergl": [
           {
            "marker": {
             "colorbar": {
              "outlinewidth": 0,
              "ticks": ""
             }
            },
            "type": "scattergl"
           }
          ],
          "scattermapbox": [
           {
            "marker": {
             "colorbar": {
              "outlinewidth": 0,
              "ticks": ""
             }
            },
            "type": "scattermapbox"
           }
          ],
          "scatterpolar": [
           {
            "marker": {
             "colorbar": {
              "outlinewidth": 0,
              "ticks": ""
             }
            },
            "type": "scatterpolar"
           }
          ],
          "scatterpolargl": [
           {
            "marker": {
             "colorbar": {
              "outlinewidth": 0,
              "ticks": ""
             }
            },
            "type": "scatterpolargl"
           }
          ],
          "scatterternary": [
           {
            "marker": {
             "colorbar": {
              "outlinewidth": 0,
              "ticks": ""
             }
            },
            "type": "scatterternary"
           }
          ],
          "surface": [
           {
            "colorbar": {
             "outlinewidth": 0,
             "ticks": ""
            },
            "colorscale": [
             [
              0,
              "#0d0887"
             ],
             [
              0.1111111111111111,
              "#46039f"
             ],
             [
              0.2222222222222222,
              "#7201a8"
             ],
             [
              0.3333333333333333,
              "#9c179e"
             ],
             [
              0.4444444444444444,
              "#bd3786"
             ],
             [
              0.5555555555555556,
              "#d8576b"
             ],
             [
              0.6666666666666666,
              "#ed7953"
             ],
             [
              0.7777777777777778,
              "#fb9f3a"
             ],
             [
              0.8888888888888888,
              "#fdca26"
             ],
             [
              1,
              "#f0f921"
             ]
            ],
            "type": "surface"
           }
          ],
          "table": [
           {
            "cells": {
             "fill": {
              "color": "#EBF0F8"
             },
             "line": {
              "color": "white"
             }
            },
            "header": {
             "fill": {
              "color": "#C8D4E3"
             },
             "line": {
              "color": "white"
             }
            },
            "type": "table"
           }
          ]
         },
         "layout": {
          "annotationdefaults": {
           "arrowcolor": "#2a3f5f",
           "arrowhead": 0,
           "arrowwidth": 1
          },
          "autotypenumbers": "strict",
          "coloraxis": {
           "colorbar": {
            "outlinewidth": 0,
            "ticks": ""
           }
          },
          "colorscale": {
           "diverging": [
            [
             0,
             "#8e0152"
            ],
            [
             0.1,
             "#c51b7d"
            ],
            [
             0.2,
             "#de77ae"
            ],
            [
             0.3,
             "#f1b6da"
            ],
            [
             0.4,
             "#fde0ef"
            ],
            [
             0.5,
             "#f7f7f7"
            ],
            [
             0.6,
             "#e6f5d0"
            ],
            [
             0.7,
             "#b8e186"
            ],
            [
             0.8,
             "#7fbc41"
            ],
            [
             0.9,
             "#4d9221"
            ],
            [
             1,
             "#276419"
            ]
           ],
           "sequential": [
            [
             0,
             "#0d0887"
            ],
            [
             0.1111111111111111,
             "#46039f"
            ],
            [
             0.2222222222222222,
             "#7201a8"
            ],
            [
             0.3333333333333333,
             "#9c179e"
            ],
            [
             0.4444444444444444,
             "#bd3786"
            ],
            [
             0.5555555555555556,
             "#d8576b"
            ],
            [
             0.6666666666666666,
             "#ed7953"
            ],
            [
             0.7777777777777778,
             "#fb9f3a"
            ],
            [
             0.8888888888888888,
             "#fdca26"
            ],
            [
             1,
             "#f0f921"
            ]
           ],
           "sequentialminus": [
            [
             0,
             "#0d0887"
            ],
            [
             0.1111111111111111,
             "#46039f"
            ],
            [
             0.2222222222222222,
             "#7201a8"
            ],
            [
             0.3333333333333333,
             "#9c179e"
            ],
            [
             0.4444444444444444,
             "#bd3786"
            ],
            [
             0.5555555555555556,
             "#d8576b"
            ],
            [
             0.6666666666666666,
             "#ed7953"
            ],
            [
             0.7777777777777778,
             "#fb9f3a"
            ],
            [
             0.8888888888888888,
             "#fdca26"
            ],
            [
             1,
             "#f0f921"
            ]
           ]
          },
          "colorway": [
           "#636efa",
           "#EF553B",
           "#00cc96",
           "#ab63fa",
           "#FFA15A",
           "#19d3f3",
           "#FF6692",
           "#B6E880",
           "#FF97FF",
           "#FECB52"
          ],
          "font": {
           "color": "#2a3f5f"
          },
          "geo": {
           "bgcolor": "white",
           "lakecolor": "white",
           "landcolor": "#E5ECF6",
           "showlakes": true,
           "showland": true,
           "subunitcolor": "white"
          },
          "hoverlabel": {
           "align": "left"
          },
          "hovermode": "closest",
          "mapbox": {
           "style": "light"
          },
          "paper_bgcolor": "white",
          "plot_bgcolor": "#E5ECF6",
          "polar": {
           "angularaxis": {
            "gridcolor": "white",
            "linecolor": "white",
            "ticks": ""
           },
           "bgcolor": "#E5ECF6",
           "radialaxis": {
            "gridcolor": "white",
            "linecolor": "white",
            "ticks": ""
           }
          },
          "scene": {
           "xaxis": {
            "backgroundcolor": "#E5ECF6",
            "gridcolor": "white",
            "gridwidth": 2,
            "linecolor": "white",
            "showbackground": true,
            "ticks": "",
            "zerolinecolor": "white"
           },
           "yaxis": {
            "backgroundcolor": "#E5ECF6",
            "gridcolor": "white",
            "gridwidth": 2,
            "linecolor": "white",
            "showbackground": true,
            "ticks": "",
            "zerolinecolor": "white"
           },
           "zaxis": {
            "backgroundcolor": "#E5ECF6",
            "gridcolor": "white",
            "gridwidth": 2,
            "linecolor": "white",
            "showbackground": true,
            "ticks": "",
            "zerolinecolor": "white"
           }
          },
          "shapedefaults": {
           "line": {
            "color": "#2a3f5f"
           }
          },
          "ternary": {
           "aaxis": {
            "gridcolor": "white",
            "linecolor": "white",
            "ticks": ""
           },
           "baxis": {
            "gridcolor": "white",
            "linecolor": "white",
            "ticks": ""
           },
           "bgcolor": "#E5ECF6",
           "caxis": {
            "gridcolor": "white",
            "linecolor": "white",
            "ticks": ""
           }
          },
          "title": {
           "x": 0.05
          },
          "xaxis": {
           "automargin": true,
           "gridcolor": "white",
           "linecolor": "white",
           "ticks": "",
           "title": {
            "standoff": 15
           },
           "zerolinecolor": "white",
           "zerolinewidth": 2
          },
          "yaxis": {
           "automargin": true,
           "gridcolor": "white",
           "linecolor": "white",
           "ticks": "",
           "title": {
            "standoff": 15
           },
           "zerolinecolor": "white",
           "zerolinewidth": 2
          }
         }
        },
        "title": {
         "text": "International relations vs anger"
        },
        "xaxis": {
         "anchor": "y",
         "domain": [
          0,
          1
         ],
         "title": {
          "text": "international relations"
         }
        },
        "yaxis": {
         "anchor": "x",
         "domain": [
          0,
          1
         ],
         "title": {
          "text": "anger"
         }
        }
       }
      },
      "text/html": [
       "<div>                            <div id=\"73b3d6f1-21ee-49c0-b7b9-7bcd26305b21\" class=\"plotly-graph-div\" style=\"height:525px; width:100%;\"></div>            <script type=\"text/javascript\">                require([\"plotly\"], function(Plotly) {                    window.PLOTLYENV=window.PLOTLYENV || {};                                    if (document.getElementById(\"73b3d6f1-21ee-49c0-b7b9-7bcd26305b21\")) {                    Plotly.newPlot(                        \"73b3d6f1-21ee-49c0-b7b9-7bcd26305b21\",                        [{\"hovertemplate\":\"international relations=%{x}<br>anger=%{y}<extra></extra>\",\"legendgroup\":\"\",\"marker\":{\"color\":\"#636efa\",\"symbol\":\"circle\"},\"mode\":\"markers\",\"name\":\"\",\"orientation\":\"v\",\"showlegend\":false,\"x\":[0.11188622564077377,0.420229971408844,0.0,0.0726303681731224,0.10882536321878433,0.16871045529842377,0.12155161052942276,0.2156946361064911,0.065737284719944,0.07108937203884125,0.03577682748436928,0.19298720359802246,0.18843954801559448,0.43292608857154846,0.23327946662902832,0.053984835743904114,0.1863272339105606,0.05676846206188202,0.07677609473466873,0.1759592741727829,0.08652687817811966,0.18355108797550201,0.1676500141620636,0.07995971292257309,0.0,0.08264129608869553,0.13169389963150024,0.1694147288799286,0.07697319984436035,0.2573986351490021,0.13138069212436676,0.1985931247472763,0.1951139271259308,0.10672546923160553,0.10264112800359726,0.12957236170768738,0.09249997138977051,0.08174112439155579,0.18718044459819794,0.12662377953529358,0.0,0.23654107749462128,0.21574027836322784,0.10404754430055618,0.018950041383504868,0.0,0.08901991695165634,0.11608149856328964,0.2137587070465088,0.0,0.1353229284286499,0.1476685255765915,0.087431900203228,0.13106302917003632,0.0,0.1418261080980301,0.11195823550224304,0.07702472060918808,0.186525359749794,0.07071498036384583,0.13305267691612244,0.017932388931512833,0.06334024667739868,0.16277295351028442,0.14252066612243652,0.2708681523799896,0.15504318475723267,0.18164768815040588,0.15955543518066406,0.06558198481798172,0.07202276587486267,0.15389101207256317,0.0,0.2469029277563095,0.04028588533401489,0.13448810577392578,0.7034854292869568,0.12902411818504333,0.20695744454860687,0.13938148319721222,0.23119588196277618,0.20283181965351105,0.062220655381679535,0.09072249382734299,0.0912475734949112,0.0,0.16747373342514038,0.38420355319976807,0.037459541112184525,0.14532287418842316,0.0,0.0,0.20127716660499573,0.0,0.0,0.11875002086162567,0.1522427648305893,0.037067461758852005,0.0,0.12345875799655914],\"xaxis\":\"x\",\"y\":[0.0554621848739495,0.0377777777777777,0.044776119402985,0.0595084087968952,0.0546075085324232,0.0640776699029126,0.0816733067729083,0.1134751773049645,0.0432632880098887,0.0659163987138263,0.0844865258557902,0.0477178423236514,0.0410447761194029,0.0733590733590733,0.0512820512820512,0.0665399239543726,0.0363636363636363,0.0285714285714285,0.0680628272251308,0.0367647058823529,0.0699300699300699,0.059322033898305,0.0418848167539267,0.0787878787878787,0.0452674897119341,0.0590163934426229,0.0476190476190476,0.0208333333333333,0.0301624129930394,0.0625,0.0792838874680307,0.052734375,0.0601769911504424,0.0382244143033292,0.0723472668810289,0.0334486735870818,0.037037037037037,0.0835820895522388,0.0516739446870451,0.0449438202247191,0.0559006211180124,0.0597609561752988,0.0497076023391812,0.039426523297491,0.0378151260504201,0.0628571428571428,0.0485074626865671,0.0813397129186602,0.056420233463035,0.0843373493975903,0.1118421052631579,0.0592948717948717,0.0301953818827708,0.0555555555555555,0.0208333333333333,0.0189393939393939,0.0338461538461538,0.0644783118405627,0.0769230769230769,0.0738255033557047,0.1057692307692307,0.0588235294117647,0.0549450549450549,0.0486656200941915,0.0429128738621586,0.0535714285714285,0.0649064906490649,0.0656634746922024,0.0735930735930736,0.05,0.0668380462724935,0.0368550368550368,0.0510948905109489,0.0920245398773006,0.0229007633587786,0.0600858369098712,0.1636363636363636,0.0578345662407531,0.0497667185069984,0.0270833333333333,0.0451127819548872,0.0311004784688995,0.0688524590163934,0.0762564991334488,0.0481099656357388,0.0549132947976878,0.108695652173913,0.0769230769230769,0.0512820512820512,0.074949358541526,0.0145985401459854,0.0967741935483871,0.0596590909090909,0.0440900562851782,0.0996563573883161,0.0651785714285714,0.0634920634920634,0.0439024390243902,0.0510204081632653,0.0667678300455235],\"yaxis\":\"y\",\"type\":\"scatter\"}],                        {\"template\":{\"data\":{\"histogram2dcontour\":[{\"type\":\"histogram2dcontour\",\"colorbar\":{\"outlinewidth\":0,\"ticks\":\"\"},\"colorscale\":[[0.0,\"#0d0887\"],[0.1111111111111111,\"#46039f\"],[0.2222222222222222,\"#7201a8\"],[0.3333333333333333,\"#9c179e\"],[0.4444444444444444,\"#bd3786\"],[0.5555555555555556,\"#d8576b\"],[0.6666666666666666,\"#ed7953\"],[0.7777777777777778,\"#fb9f3a\"],[0.8888888888888888,\"#fdca26\"],[1.0,\"#f0f921\"]]}],\"choropleth\":[{\"type\":\"choropleth\",\"colorbar\":{\"outlinewidth\":0,\"ticks\":\"\"}}],\"histogram2d\":[{\"type\":\"histogram2d\",\"colorbar\":{\"outlinewidth\":0,\"ticks\":\"\"},\"colorscale\":[[0.0,\"#0d0887\"],[0.1111111111111111,\"#46039f\"],[0.2222222222222222,\"#7201a8\"],[0.3333333333333333,\"#9c179e\"],[0.4444444444444444,\"#bd3786\"],[0.5555555555555556,\"#d8576b\"],[0.6666666666666666,\"#ed7953\"],[0.7777777777777778,\"#fb9f3a\"],[0.8888888888888888,\"#fdca26\"],[1.0,\"#f0f921\"]]}],\"heatmap\":[{\"type\":\"heatmap\",\"colorbar\":{\"outlinewidth\":0,\"ticks\":\"\"},\"colorscale\":[[0.0,\"#0d0887\"],[0.1111111111111111,\"#46039f\"],[0.2222222222222222,\"#7201a8\"],[0.3333333333333333,\"#9c179e\"],[0.4444444444444444,\"#bd3786\"],[0.5555555555555556,\"#d8576b\"],[0.6666666666666666,\"#ed7953\"],[0.7777777777777778,\"#fb9f3a\"],[0.8888888888888888,\"#fdca26\"],[1.0,\"#f0f921\"]]}],\"heatmapgl\":[{\"type\":\"heatmapgl\",\"colorbar\":{\"outlinewidth\":0,\"ticks\":\"\"},\"colorscale\":[[0.0,\"#0d0887\"],[0.1111111111111111,\"#46039f\"],[0.2222222222222222,\"#7201a8\"],[0.3333333333333333,\"#9c179e\"],[0.4444444444444444,\"#bd3786\"],[0.5555555555555556,\"#d8576b\"],[0.6666666666666666,\"#ed7953\"],[0.7777777777777778,\"#fb9f3a\"],[0.8888888888888888,\"#fdca26\"],[1.0,\"#f0f921\"]]}],\"contourcarpet\":[{\"type\":\"contourcarpet\",\"colorbar\":{\"outlinewidth\":0,\"ticks\":\"\"}}],\"contour\":[{\"type\":\"contour\",\"colorbar\":{\"outlinewidth\":0,\"ticks\":\"\"},\"colorscale\":[[0.0,\"#0d0887\"],[0.1111111111111111,\"#46039f\"],[0.2222222222222222,\"#7201a8\"],[0.3333333333333333,\"#9c179e\"],[0.4444444444444444,\"#bd3786\"],[0.5555555555555556,\"#d8576b\"],[0.6666666666666666,\"#ed7953\"],[0.7777777777777778,\"#fb9f3a\"],[0.8888888888888888,\"#fdca26\"],[1.0,\"#f0f921\"]]}],\"surface\":[{\"type\":\"surface\",\"colorbar\":{\"outlinewidth\":0,\"ticks\":\"\"},\"colorscale\":[[0.0,\"#0d0887\"],[0.1111111111111111,\"#46039f\"],[0.2222222222222222,\"#7201a8\"],[0.3333333333333333,\"#9c179e\"],[0.4444444444444444,\"#bd3786\"],[0.5555555555555556,\"#d8576b\"],[0.6666666666666666,\"#ed7953\"],[0.7777777777777778,\"#fb9f3a\"],[0.8888888888888888,\"#fdca26\"],[1.0,\"#f0f921\"]]}],\"mesh3d\":[{\"type\":\"mesh3d\",\"colorbar\":{\"outlinewidth\":0,\"ticks\":\"\"}}],\"scatter\":[{\"fillpattern\":{\"fillmode\":\"overlay\",\"size\":10,\"solidity\":0.2},\"type\":\"scatter\"}],\"parcoords\":[{\"type\":\"parcoords\",\"line\":{\"colorbar\":{\"outlinewidth\":0,\"ticks\":\"\"}}}],\"scatterpolargl\":[{\"type\":\"scatterpolargl\",\"marker\":{\"colorbar\":{\"outlinewidth\":0,\"ticks\":\"\"}}}],\"bar\":[{\"error_x\":{\"color\":\"#2a3f5f\"},\"error_y\":{\"color\":\"#2a3f5f\"},\"marker\":{\"line\":{\"color\":\"#E5ECF6\",\"width\":0.5},\"pattern\":{\"fillmode\":\"overlay\",\"size\":10,\"solidity\":0.2}},\"type\":\"bar\"}],\"scattergeo\":[{\"type\":\"scattergeo\",\"marker\":{\"colorbar\":{\"outlinewidth\":0,\"ticks\":\"\"}}}],\"scatterpolar\":[{\"type\":\"scatterpolar\",\"marker\":{\"colorbar\":{\"outlinewidth\":0,\"ticks\":\"\"}}}],\"histogram\":[{\"marker\":{\"pattern\":{\"fillmode\":\"overlay\",\"size\":10,\"solidity\":0.2}},\"type\":\"histogram\"}],\"scattergl\":[{\"type\":\"scattergl\",\"marker\":{\"colorbar\":{\"outlinewidth\":0,\"ticks\":\"\"}}}],\"scatter3d\":[{\"type\":\"scatter3d\",\"line\":{\"colorbar\":{\"outlinewidth\":0,\"ticks\":\"\"}},\"marker\":{\"colorbar\":{\"outlinewidth\":0,\"ticks\":\"\"}}}],\"scattermapbox\":[{\"type\":\"scattermapbox\",\"marker\":{\"colorbar\":{\"outlinewidth\":0,\"ticks\":\"\"}}}],\"scatterternary\":[{\"type\":\"scatterternary\",\"marker\":{\"colorbar\":{\"outlinewidth\":0,\"ticks\":\"\"}}}],\"scattercarpet\":[{\"type\":\"scattercarpet\",\"marker\":{\"colorbar\":{\"outlinewidth\":0,\"ticks\":\"\"}}}],\"carpet\":[{\"aaxis\":{\"endlinecolor\":\"#2a3f5f\",\"gridcolor\":\"white\",\"linecolor\":\"white\",\"minorgridcolor\":\"white\",\"startlinecolor\":\"#2a3f5f\"},\"baxis\":{\"endlinecolor\":\"#2a3f5f\",\"gridcolor\":\"white\",\"linecolor\":\"white\",\"minorgridcolor\":\"white\",\"startlinecolor\":\"#2a3f5f\"},\"type\":\"carpet\"}],\"table\":[{\"cells\":{\"fill\":{\"color\":\"#EBF0F8\"},\"line\":{\"color\":\"white\"}},\"header\":{\"fill\":{\"color\":\"#C8D4E3\"},\"line\":{\"color\":\"white\"}},\"type\":\"table\"}],\"barpolar\":[{\"marker\":{\"line\":{\"color\":\"#E5ECF6\",\"width\":0.5},\"pattern\":{\"fillmode\":\"overlay\",\"size\":10,\"solidity\":0.2}},\"type\":\"barpolar\"}],\"pie\":[{\"automargin\":true,\"type\":\"pie\"}]},\"layout\":{\"autotypenumbers\":\"strict\",\"colorway\":[\"#636efa\",\"#EF553B\",\"#00cc96\",\"#ab63fa\",\"#FFA15A\",\"#19d3f3\",\"#FF6692\",\"#B6E880\",\"#FF97FF\",\"#FECB52\"],\"font\":{\"color\":\"#2a3f5f\"},\"hovermode\":\"closest\",\"hoverlabel\":{\"align\":\"left\"},\"paper_bgcolor\":\"white\",\"plot_bgcolor\":\"#E5ECF6\",\"polar\":{\"bgcolor\":\"#E5ECF6\",\"angularaxis\":{\"gridcolor\":\"white\",\"linecolor\":\"white\",\"ticks\":\"\"},\"radialaxis\":{\"gridcolor\":\"white\",\"linecolor\":\"white\",\"ticks\":\"\"}},\"ternary\":{\"bgcolor\":\"#E5ECF6\",\"aaxis\":{\"gridcolor\":\"white\",\"linecolor\":\"white\",\"ticks\":\"\"},\"baxis\":{\"gridcolor\":\"white\",\"linecolor\":\"white\",\"ticks\":\"\"},\"caxis\":{\"gridcolor\":\"white\",\"linecolor\":\"white\",\"ticks\":\"\"}},\"coloraxis\":{\"colorbar\":{\"outlinewidth\":0,\"ticks\":\"\"}},\"colorscale\":{\"sequential\":[[0.0,\"#0d0887\"],[0.1111111111111111,\"#46039f\"],[0.2222222222222222,\"#7201a8\"],[0.3333333333333333,\"#9c179e\"],[0.4444444444444444,\"#bd3786\"],[0.5555555555555556,\"#d8576b\"],[0.6666666666666666,\"#ed7953\"],[0.7777777777777778,\"#fb9f3a\"],[0.8888888888888888,\"#fdca26\"],[1.0,\"#f0f921\"]],\"sequentialminus\":[[0.0,\"#0d0887\"],[0.1111111111111111,\"#46039f\"],[0.2222222222222222,\"#7201a8\"],[0.3333333333333333,\"#9c179e\"],[0.4444444444444444,\"#bd3786\"],[0.5555555555555556,\"#d8576b\"],[0.6666666666666666,\"#ed7953\"],[0.7777777777777778,\"#fb9f3a\"],[0.8888888888888888,\"#fdca26\"],[1.0,\"#f0f921\"]],\"diverging\":[[0,\"#8e0152\"],[0.1,\"#c51b7d\"],[0.2,\"#de77ae\"],[0.3,\"#f1b6da\"],[0.4,\"#fde0ef\"],[0.5,\"#f7f7f7\"],[0.6,\"#e6f5d0\"],[0.7,\"#b8e186\"],[0.8,\"#7fbc41\"],[0.9,\"#4d9221\"],[1,\"#276419\"]]},\"xaxis\":{\"gridcolor\":\"white\",\"linecolor\":\"white\",\"ticks\":\"\",\"title\":{\"standoff\":15},\"zerolinecolor\":\"white\",\"automargin\":true,\"zerolinewidth\":2},\"yaxis\":{\"gridcolor\":\"white\",\"linecolor\":\"white\",\"ticks\":\"\",\"title\":{\"standoff\":15},\"zerolinecolor\":\"white\",\"automargin\":true,\"zerolinewidth\":2},\"scene\":{\"xaxis\":{\"backgroundcolor\":\"#E5ECF6\",\"gridcolor\":\"white\",\"linecolor\":\"white\",\"showbackground\":true,\"ticks\":\"\",\"zerolinecolor\":\"white\",\"gridwidth\":2},\"yaxis\":{\"backgroundcolor\":\"#E5ECF6\",\"gridcolor\":\"white\",\"linecolor\":\"white\",\"showbackground\":true,\"ticks\":\"\",\"zerolinecolor\":\"white\",\"gridwidth\":2},\"zaxis\":{\"backgroundcolor\":\"#E5ECF6\",\"gridcolor\":\"white\",\"linecolor\":\"white\",\"showbackground\":true,\"ticks\":\"\",\"zerolinecolor\":\"white\",\"gridwidth\":2}},\"shapedefaults\":{\"line\":{\"color\":\"#2a3f5f\"}},\"annotationdefaults\":{\"arrowcolor\":\"#2a3f5f\",\"arrowhead\":0,\"arrowwidth\":1},\"geo\":{\"bgcolor\":\"white\",\"landcolor\":\"#E5ECF6\",\"subunitcolor\":\"white\",\"showland\":true,\"showlakes\":true,\"lakecolor\":\"white\"},\"title\":{\"x\":0.05},\"mapbox\":{\"style\":\"light\"}}},\"xaxis\":{\"anchor\":\"y\",\"domain\":[0.0,1.0],\"title\":{\"text\":\"international relations\"}},\"yaxis\":{\"anchor\":\"x\",\"domain\":[0.0,1.0],\"title\":{\"text\":\"anger\"}},\"legend\":{\"tracegroupgap\":0},\"title\":{\"text\":\"International relations vs anger\"}},                        {\"responsive\": true}                    ).then(function(){\n",
       "                            \n",
       "var gd = document.getElementById('73b3d6f1-21ee-49c0-b7b9-7bcd26305b21');\n",
       "var x = new MutationObserver(function (mutations, observer) {{\n",
       "        var display = window.getComputedStyle(gd).display;\n",
       "        if (!display || display === 'none') {{\n",
       "            console.log([gd, 'removed!']);\n",
       "            Plotly.purge(gd);\n",
       "            observer.disconnect();\n",
       "        }}\n",
       "}});\n",
       "\n",
       "// Listen for the removal of the full notebook cells\n",
       "var notebookContainer = gd.closest('#notebook-container');\n",
       "if (notebookContainer) {{\n",
       "    x.observe(notebookContainer, {childList: true});\n",
       "}}\n",
       "\n",
       "// Listen for the clearing of the current output cell\n",
       "var outputEl = gd.closest('.output');\n",
       "if (outputEl) {{\n",
       "    x.observe(outputEl, {childList: true});\n",
       "}}\n",
       "\n",
       "                        })                };                });            </script>        </div>"
      ]
     },
     "metadata": {},
     "output_type": "display_data"
    }
   ],
   "source": [
    "import plotly.express as px\n",
    "fig = px.scatter(tidy_topic, x=\"intl relations\", y=\"anger\",\n",
    "                 labels = {'intl relations':'international relations'},\n",
    "                title=\"International relations vs anger\")\n",
    "fig.show()"
   ]
  },
  {
   "cell_type": "code",
   "execution_count": 52,
   "metadata": {},
   "outputs": [
    {
     "name": "stderr",
     "output_type": "stream",
     "text": [
      "/home/muddy/.local/lib/python3.10/site-packages/kaleido/scopes/base.py:188: DeprecationWarning:\n",
      "\n",
      "setDaemon() is deprecated, set the daemon attribute instead\n",
      "\n"
     ]
    }
   ],
   "source": [
    "fig.write_image(\"./plots/scatter_internationalrelations_vs_anger.png\", format='png', engine='kaleido')"
   ]
  },
  {
   "cell_type": "code",
   "execution_count": null,
   "metadata": {},
   "outputs": [],
   "source": [
    "nlp = spacy.load('en_core_web_md')\n",
    "# remove [stuff] in between square brackets\n",
    "def remove_bracket(text):\n",
    "    return re.sub(r'(\\[[^w]*\\]\\s)', '',text)\n",
    "amrhet.text = amrhet.text.apply(remove_bracket)\n",
    "def get_encodings(text):\n",
    "    return list(nlp(text).vector)\n",
    "amrhet['enc'] = amrhet.text.apply(get_encodings)\n",
    "pca_data = pd.DataFrame(amrhet['enc'].to_list(), index=amrhet.date)"
   ]
  },
  {
   "cell_type": "code",
   "execution_count": null,
   "metadata": {},
   "outputs": [],
   "source": [
    "#pca_data.to_csv('amrhet_spacy_encodings.csv')"
   ]
  },
  {
   "cell_type": "code",
   "execution_count": null,
   "metadata": {},
   "outputs": [],
   "source": [
    "# remove [stuff] in between square brackets\n",
    "def remove_bracket(text):\n",
    "    return re.sub(r'(\\[[^w]*\\]\\s)', '',text)\n",
    "speeches101.text = speeches101.text.apply(remove_bracket)\n",
    "def get_encodings(text):\n",
    "    return list(nlp(text).vector)\n",
    "speeches101['enc'] = speeches101.text.apply(get_encodings)\n",
    "pca_data2 = pd.DataFrame(speeches101['enc'].to_list(), index=speeches101.date)"
   ]
  },
  {
   "cell_type": "code",
   "execution_count": null,
   "metadata": {},
   "outputs": [],
   "source": [
    "#pca_data2.to_csv('speeches_spacy_encodings.csv')"
   ]
  },
  {
   "cell_type": "markdown",
   "metadata": {},
   "source": [
    "### Coherence revisisted - investigate all four methods"
   ]
  },
  {
   "cell_type": "code",
   "execution_count": null,
   "metadata": {},
   "outputs": [],
   "source": [
    "#Construct and train unsupervised LDA model + Determine optimal number of topics\n",
    "umtopics, umscore = [], []\n",
    "cvtopics, cvscore = [], []\n",
    "ucitopics, uciscore = [], []\n",
    "npmitopics, npmiscore = [], []\n",
    "#Compute coherence score using C_umass:\n",
    "for i in range(3,15,1):\n",
    "    model = LdaMulticore(corpus=corpus, id2word=token_dict, iterations=50, num_topics=i, workers=4, passes=10, random_state=47)\n",
    "    #LdamultiCore uses multiple cores to speed up model training, use with caution if you have a weaker PC! (Find your max number of cores with ctrl+shift+esc, under CPU)\n",
    "    cm = CoherenceModel(model=model, corpus=corpus, dictionary=token_dict, coherence='u_mass')\n",
    "\n",
    "    umtopics.append(i)\n",
    "    umscore.append(cm.get_coherence())\n",
    "#Compute coherence score using C_v: \n",
    "for i in range (3,15,1):\n",
    "    model = LdaMulticore(corpus=corpus, id2word=token_dict, iterations=10, num_topics=i, workers = 4, passes=10, random_state=47)\n",
    "    cm = CoherenceModel(model=model, texts = data['tokens'], corpus=corpus, dictionary=token_dict, coherence='c_v')\n",
    "\n",
    "    cvtopics.append(i)\n",
    "    cvscore.append(cm.get_coherence())\n",
    "#The difference in coherence score measures is the method in which the text is segmented and probability is calculated\n",
    "\n",
    "#Compute coherence score using C_uci: \n",
    "for i in range (3,15,1):\n",
    "    model = LdaMulticore(corpus=corpus, id2word=token_dict, iterations=10, num_topics=i, workers = 4, passes=10, random_state=47)\n",
    "    cm = CoherenceModel(model=model, texts = data['tokens'], corpus=corpus, dictionary=token_dict, coherence='c_uci')\n",
    "\n",
    "    ucitopics.append(i)\n",
    "    uciscore.append(cm.get_coherence())\n",
    "    \n",
    "#Compute coherence score using C_npmi: \n",
    "for i in range (3,15,1):\n",
    "    model = LdaMulticore(corpus=corpus, id2word=token_dict, iterations=10, num_topics=i, workers = 4, passes=10, random_state=47)\n",
    "    cm = CoherenceModel(model=model, texts = data['tokens'], corpus=corpus, dictionary=token_dict, coherence='c_npmi')\n",
    "\n",
    "    npmitopics.append(i)\n",
    "    npmiscore.append(cm.get_coherence())"
   ]
  },
  {
   "cell_type": "code",
   "execution_count": null,
   "metadata": {},
   "outputs": [],
   "source": [
    "#Adjustable threshold for visualising with red vertical lines\n",
    "threshold=9\n",
    "fig, (ax1, ax2, ax3, ax4) = plt.subplots(1,4)\n",
    "fig.suptitle('Coherence score by topic count using C_umass and C_v measure')\n",
    "fig.subplots_adjust(wspace=0.4)\n",
    "\n",
    "ax1.plot(umtopics,umscore)\n",
    "ax1.set_xlabel('Number of Topics')\n",
    "ax1.set_ylabel('Coherence Score (C_umass)')\n",
    "ax1.axvline(x=threshold,c='red')\n",
    "\n",
    "ax2.plot(cvtopics,cvscore)\n",
    "ax2.set_xlabel('Number of Topics')\n",
    "ax2.set_ylabel('Coherence Score (C_v)')\n",
    "ax2.axvline(x=threshold,c='red')\n",
    "\n",
    "ax3.plot(ucitopics,uciscore)\n",
    "ax3.set_xlabel('Number of Topics')\n",
    "ax3.set_ylabel('Coherence Score (C_uci)')\n",
    "ax3.axvline(x=threshold,c='red')\n",
    "\n",
    "ax4.plot(npmitopics,npmiscore)\n",
    "ax4.set_xlabel('Number of Topics')\n",
    "ax4.set_ylabel('Coherence Score (C_npmi)')\n",
    "ax4.axvline(x=threshold,c='red')\n",
    "\n",
    "#For both scores, higher values are better. Choice of topic count is subjective, but both scores must be taken into account.\n",
    "plt.show()"
   ]
  },
  {
   "cell_type": "code",
   "execution_count": null,
   "metadata": {},
   "outputs": [],
   "source": [
    "um = pd.DataFrame({'number of topics': umtopics, 'score':umscore})\n",
    "um['method'] = 'umass'\n",
    "cv = pd.DataFrame({'number of topics': cvtopics, 'score':cvscore})\n",
    "cv['method'] = 'cv'\n",
    "uci = pd.DataFrame({'number of topics': ucitopics, 'score':uciscore})\n",
    "uci['method'] = 'uci'\n",
    "npmi = pd.DataFrame({'number of topics': npmitopics, 'score':npmiscore})\n",
    "npmi['method'] = 'npmi'\n",
    "coherence = pd.concat([um,cv,uci,npmi])"
   ]
  },
  {
   "cell_type": "code",
   "execution_count": null,
   "metadata": {},
   "outputs": [],
   "source": [
    "fig = px.line(coherence, x=\"number of topics\", y=\"score\", facet_row=\"method\", width=600, \n",
    "              title='Coherence score by topic count using 4 methods')\n",
    "fig.update_yaxes(matches=None)\n",
    "fig.show()"
   ]
  },
  {
   "cell_type": "code",
   "execution_count": null,
   "metadata": {},
   "outputs": [],
   "source": [
    "fig.write_image(\"./plots/coherence_scores_4_methods.png\", format='png', engine='kaleido')"
   ]
  },
  {
   "cell_type": "code",
   "execution_count": null,
   "metadata": {},
   "outputs": [],
   "source": [
    "coherence['rank']=coherence.groupby(by='method').rank(axis=0,ascending=False).score\n",
    "rank = coherence.groupby('number of topics').sum('rank')\n",
    "rank['number of topics'] = rank.index"
   ]
  },
  {
   "cell_type": "markdown",
   "metadata": {},
   "source": [
    "Eight topics returns the best rank"
   ]
  },
  {
   "cell_type": "code",
   "execution_count": null,
   "metadata": {},
   "outputs": [],
   "source": [
    "fig = px.bar(rank, x=\"number of topics\", y=\"rank\", width=600, \n",
    "             labels={'rank':'sum of ranks'},\n",
    "             title='Sum of coherence ranks for the four methods')\n",
    "fig.show()"
   ]
  },
  {
   "cell_type": "code",
   "execution_count": null,
   "metadata": {},
   "outputs": [],
   "source": [
    "fig.write_image(\"./plots/coherence_score_rank.png\", format='png', engine='kaleido')"
   ]
  },
  {
   "cell_type": "code",
   "execution_count": null,
   "metadata": {},
   "outputs": [],
   "source": []
  },
  {
   "cell_type": "code",
   "execution_count": null,
   "metadata": {},
   "outputs": [],
   "source": []
  },
  {
   "cell_type": "code",
   "execution_count": 109,
   "metadata": {},
   "outputs": [
    {
     "data": {
      "text/plain": [
       "(0,\n",
       " '0.017*\"energy\" + 0.017*\"business\" + 0.015*\"company\" + 0.011*\"oil\" + 0.011*\"economic\" + 0.010*\"financial\" + 0.009*\"crisis\" + 0.009*\"clean\" + 0.009*\"industry\" + 0.008*\"plan\" + 0.008*\"market\" + 0.008*\"worker\" + 0.008*\"investment\" + 0.006*\"bank\" + 0.006*\"invest\" + 0.006*\"technology\" + 0.006*\"recovery\" + 0.005*\"growth\" + 0.005*\"rule\" + 0.005*\"cut\"')"
      ]
     },
     "execution_count": 109,
     "metadata": {},
     "output_type": "execute_result"
    }
   ],
   "source": [
    "finalmodel_8.show_topics(num_topics=8, num_words=20,formatted=True)[0] # economy"
   ]
  },
  {
   "cell_type": "code",
   "execution_count": 110,
   "metadata": {},
   "outputs": [
    {
     "data": {
      "text/plain": [
       "(7,\n",
       " '0.014*\"love\" + 0.011*\"god\" + 0.008*\"school\" + 0.007*\"white\" + 0.007*\"story\" + 0.007*\"talk\" + 0.006*\"black\" + 0.006*\"faith\" + 0.006*\"feel\" + 0.006*\"old\" + 0.006*\"generation\" + 0.006*\"little\" + 0.006*\"lose\" + 0.006*\"friend\" + 0.006*\"hear\" + 0.006*\"bless\" + 0.006*\"understand\" + 0.006*\"father\" + 0.005*\"heart\" + 0.005*\"city\"')"
      ]
     },
     "execution_count": 110,
     "metadata": {},
     "output_type": "execute_result"
    }
   ],
   "source": [
    "finalmodel_8.show_topics(num_topics=8, num_words=20,formatted=True)[7] # civil rights"
   ]
  },
  {
   "cell_type": "code",
   "execution_count": null,
   "metadata": {},
   "outputs": [],
   "source": []
  }
 ],
 "metadata": {
  "kernelspec": {
   "display_name": "Python 3 (ipykernel)",
   "language": "python",
   "name": "python3"
  },
  "language_info": {
   "codemirror_mode": {
    "name": "ipython",
    "version": 3
   },
   "file_extension": ".py",
   "mimetype": "text/x-python",
   "name": "python",
   "nbconvert_exporter": "python",
   "pygments_lexer": "ipython3",
   "version": "3.10.6"
  },
  "vscode": {
   "interpreter": {
    "hash": "107f2f6f19e96c840132efb8a7e6b8d8e9855354386e3f52164003e5deff7bc5"
   }
  }
 },
 "nbformat": 4,
 "nbformat_minor": 2
}
