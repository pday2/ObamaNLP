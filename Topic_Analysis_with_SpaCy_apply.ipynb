{
 "cells": [
  {
   "cell_type": "markdown",
   "metadata": {},
   "source": [
    "# Topic Analysis with SpaCy\n",
    "## Data Pre-processing\n",
    "Import necessary packages and functions"
   ]
  },
  {
   "cell_type": "code",
   "execution_count": 1,
   "metadata": {},
   "outputs": [],
   "source": [
    "import pandas as pd\n",
    "import numpy as np\n",
    "import matplotlib.pyplot as plt\n",
    "import spacy\n",
    "import en_core_web_sm\n",
    "from wordcloud import WordCloud\n",
    "from gensim.corpora.dictionary import Dictionary\n",
    "from gensim.models import LdaMulticore\n",
    "from gensim.models import CoherenceModel\n",
    "import dateutil.parser as dparser\n",
    "import pyLDAvis.gensim_models\n",
    "pyLDAvis.enable_notebook() #Notebook visualisation enabled\n",
    "import os\n",
    "import re\n",
    "import unicodedata\n",
    "import en_core_web_md"
   ]
  },
  {
   "cell_type": "markdown",
   "metadata": {},
   "source": [
    "Read data and exploration"
   ]
  },
  {
   "cell_type": "code",
   "execution_count": 2,
   "metadata": {},
   "outputs": [
    {
     "name": "stdout",
     "output_type": "stream",
     "text": [
      "Total documents: 744\n"
     ]
    }
   ],
   "source": [
    "# Load up the files\n",
    "#path = './DataUCSB/' # Smaller UCSB dataset\n",
    "#path = './Data/' # larger American Rhetoric dataset\n",
    "paths = ['./Data/', './NYT/', './WSJ/', './GWB/', './speeches/', './Top10/']\n",
    "\n",
    "speeches = []\n",
    "\n",
    "for path in paths:\n",
    "    list_of_files = []\n",
    "    for root, dirs, files in os.walk(path):\n",
    "        for file in files:\n",
    "            if file.endswith('.txt'):\n",
    "                list_of_files.append(os.path.join(root,file))\n",
    "   \n",
    "    for file in list_of_files:\n",
    "        with open(file, encoding='utf-8') as f:\n",
    "            text = f.read()\n",
    "        f.close()\n",
    "        speeches.append(text)\n",
    "\n",
    "#clean out goofy unicode  space characters \n",
    "speeches = [unicodedata.normalize(\"NFKD\", speech) for speech in speeches if len(speech)>0 ]\n",
    "#clean out xa0 space characters\n",
    "[speech.replace(u'\\xa0', '') for speech in speeches]; # ; supresses output\n",
    "# remove [stuff] in between square brackets\n",
    "def remove_bracket(text):\n",
    "    return re.sub(r'(\\[[^w]*\\]\\s)', '',text)\n",
    "speeches = [remove_bracket(speech) for speech in speeches]\n",
    "# Clean up whitespace\n",
    "speeches = [re.sub(r'[\\s+]', ' ', speech) for speech in speeches]\n",
    "print(\"Total documents:\",len(speeches))"
   ]
  },
  {
   "cell_type": "markdown",
   "metadata": {},
   "source": [
    "Step 3: Tokenization and text cleanup"
   ]
  },
  {
   "cell_type": "code",
   "execution_count": 3,
   "metadata": {},
   "outputs": [],
   "source": [
    "oba_scripts=pd.DataFrame(speeches)\n",
    "oba_scripts = oba_scripts[0]"
   ]
  },
  {
   "cell_type": "code",
   "execution_count": 4,
   "metadata": {},
   "outputs": [
    {
     "data": {
      "text/plain": [
       "0      [thank, hello, vfw, thank, seat, commander, de...\n",
       "1      [give, freedom, slave, assure, freedom, free, ...\n",
       "2      [behalf, great, state, illinois, crossroad, na...\n",
       "3      [thank, thank, thank, chairman, dean, great, f...\n",
       "4      [good, morning, morning, send, budget, congres...\n",
       "                             ...                        \n",
       "739    [majesty, royal, highnesses, distinguished, me...\n",
       "740    [thank, seat, family, lose, call, friend, stud...\n",
       "741    [rare, honor, life, follow, hero, john, lewis,...\n",
       "742    [give, praise, honor, god, bible, call, hope, ...\n",
       "743    [hello, america, hello, democrats, year, ago, ...\n",
       "Name: tokens, Length: 744, dtype: object"
      ]
     },
     "execution_count": 4,
     "metadata": {},
     "output_type": "execute_result"
    }
   ],
   "source": [
    "#Load SpaCy English Model\n",
    "nlp = en_core_web_md.load()\n",
    "#Tags to remove\n",
    "extags = ['PRON','CCONJ','PUNCT','PART','DET','ADP','NUM','SYM','SPACE']\n",
    "docs = oba_scripts.apply(nlp)\n",
    "tokens=[]\n",
    "#SpaCy tokenization + lemmatization + lowercase\n",
    "for speech in docs:\n",
    "    scr_tok = [token.lemma_.lower() for token in speech if token.pos_ not in extags and not token.is_stop and token.is_alpha]\n",
    "    tokens.append(scr_tok)\n",
    "data = pd.DataFrame()\n",
    "data['tokens'] = tokens\n",
    "data['tokens']\n"
   ]
  },
  {
   "cell_type": "markdown",
   "metadata": {},
   "source": [
    "## LDA Topic Analysis model and coherence scores"
   ]
  },
  {
   "cell_type": "code",
   "execution_count": 5,
   "metadata": {},
   "outputs": [],
   "source": [
    "token_dict = Dictionary(data['tokens'])\n",
    "#Filter out tokens that appear in less than 5 speeches, and tokens that appear in more than 70% of speeches since they are too general. Keep the top 1000 most frequent tokens\n",
    "token_dict.filter_extremes(no_below=5,no_above=0.5,keep_n=1000)\n",
    "\n",
    "#Convert token counts into bag of words (BoW) corpus\n",
    "corpus = [token_dict.doc2bow(speech) for speech in data['tokens']]"
   ]
  },
  {
   "cell_type": "code",
   "execution_count": 6,
   "metadata": {},
   "outputs": [],
   "source": [
    "#Construct and train unsupervised LDA model + Determine optimal number of topics\n",
    "umtopics, umscore = [], []\n",
    "cvtopics, cvscore = [], []\n",
    "#Compute coherence score using C_umass:\n",
    "for i in range(3,15,1):\n",
    "    model = LdaMulticore(corpus=corpus, id2word=token_dict, iterations=50, num_topics=i, workers=4, passes=10, random_state=47)\n",
    "    #LdamultiCore uses multiple cores to speed up model training, use with caution if you have a weaker PC! (Find your max number of cores with ctrl+shift+esc, under CPU)\n",
    "    cm = CoherenceModel(model=model, corpus=corpus, dictionary=token_dict, coherence='u_mass')\n",
    "\n",
    "    umtopics.append(i)\n",
    "    umscore.append(cm.get_coherence())\n",
    "#Compute coherence score using C_v: \n",
    "for i in range (3,15,1):\n",
    "    model = LdaMulticore(corpus=corpus, id2word=token_dict, iterations=10, num_topics=i, workers = 4, passes=10, random_state=47)\n",
    "    cm = CoherenceModel(model=model, texts = data['tokens'], corpus=corpus, dictionary=token_dict, coherence='c_v')\n",
    "\n",
    "    cvtopics.append(i)\n",
    "    cvscore.append(cm.get_coherence())\n",
    "#The difference in coherence score measures is the method in which the text is segmented and probability is calculated\n"
   ]
  },
  {
   "cell_type": "code",
   "execution_count": 7,
   "metadata": {},
   "outputs": [
    {
     "data": {
      "image/png": "[encoded data removed]",
      "text/plain": [
       "<Figure size 432x288 with 2 Axes>"
      ]
     },
     "metadata": {
      "needs_background": "light"
     },
     "output_type": "display_data"
    }
   ],
   "source": [
    "#Adjustable threshold for visualising with red vertical lines\n",
    "threshold=4\n",
    "fig, (ax1, ax2) = plt.subplots(1,2)\n",
    "fig.suptitle('Coherence score by topic count using C_umass and C_v measure')\n",
    "fig.subplots_adjust(wspace=0.4)\n",
    "\n",
    "ax1.plot(umtopics,umscore)\n",
    "ax1.set_xlabel('Number of Topics')\n",
    "ax1.set_ylabel('Coherence Score (C_umass)')\n",
    "ax1.axvline(x=threshold,c='red')\n",
    "\n",
    "ax2.plot(cvtopics,cvscore)\n",
    "ax2.set_xlabel('Number of Topics')\n",
    "ax2.set_ylabel('Coherence Score (C_v)')\n",
    "ax2.axvline(x=threshold,c='red')\n",
    "#For both scores, higher values are better. Choice of topic count is subjective, but both scores must be taken into account.\n",
    "plt.show()"
   ]
  },
  {
   "cell_type": "markdown",
   "metadata": {},
   "source": [
    "Based on the coherence scores, best is usually the max. In this case we choose to select 6 topics, since it is the max value for the C_v score while also having a relatively higher C_umass score."
   ]
  },
  {
   "cell_type": "code",
   "execution_count": 8,
   "metadata": {},
   "outputs": [
    {
     "data": {
      "text/plain": [
       "[(0,\n",
       "  '0.032*\"energy\" + 0.021*\"oil\" + 0.015*\"clean\" + 0.012*\"climate\" + 0.010*\"plan\" + 0.009*\"industry\" + 0.009*\"space\" + 0.009*\"company\" + 0.009*\"global\" + 0.008*\"develop\"'),\n",
       " (1,\n",
       "  '0.063*\"nuclear\" + 0.056*\"iran\" + 0.039*\"weapon\" + 0.032*\"israel\" + 0.022*\"deal\" + 0.020*\"international\" + 0.016*\"sanction\" + 0.013*\"program\" + 0.011*\"regime\" + 0.010*\"peace\"'),\n",
       " (2,\n",
       "  '0.019*\"intelligence\" + 0.017*\"information\" + 0.014*\"protect\" + 0.014*\"national\" + 0.013*\"court\" + 0.010*\"review\" + 0.010*\"terrorist\" + 0.009*\"administration\" + 0.009*\"justice\" + 0.009*\"system\"'),\n",
       " (3,\n",
       "  '0.031*\"health\" + 0.030*\"care\" + 0.022*\"tax\" + 0.020*\"insurance\" + 0.016*\"pay\" + 0.014*\"cut\" + 0.013*\"plan\" + 0.012*\"reform\" + 0.011*\"bill\" + 0.011*\"business\"'),\n",
       " (4,\n",
       "  '0.013*\"peace\" + 0.012*\"human\" + 0.012*\"democracy\" + 0.011*\"freedom\" + 0.009*\"progress\" + 0.008*\"free\" + 0.008*\"region\" + 0.007*\"global\" + 0.007*\"citizen\" + 0.007*\"africa\"'),\n",
       " (5,\n",
       "  '0.020*\"business\" + 0.013*\"school\" + 0.012*\"student\" + 0.012*\"education\" + 0.012*\"college\" + 0.011*\"worker\" + 0.010*\"company\" + 0.009*\"financial\" + 0.009*\"economic\" + 0.008*\"system\"'),\n",
       " (6,\n",
       "  '0.032*\"obama\" + 0.015*\"gun\" + 0.012*\"official\" + 0.010*\"vote\" + 0.010*\"white\" + 0.010*\"lot\" + 0.009*\"party\" + 0.008*\"police\" + 0.008*\"election\" + 0.008*\"talk\"'),\n",
       " (7,\n",
       "  '0.015*\"love\" + 0.013*\"god\" + 0.009*\"faith\" + 0.009*\"generation\" + 0.008*\"story\" + 0.006*\"heart\" + 0.006*\"father\" + 0.006*\"understand\" + 0.006*\"bless\" + 0.006*\"justice\"'),\n",
       " (8,\n",
       "  '0.032*\"iraq\" + 0.023*\"military\" + 0.020*\"terrorist\" + 0.018*\"afghanistan\" + 0.017*\"troop\" + 0.014*\"al\" + 0.014*\"attack\" + 0.011*\"serve\" + 0.011*\"veteran\" + 0.010*\"iraqi\"')]"
      ]
     },
     "execution_count": 8,
     "metadata": {},
     "output_type": "execute_result"
    }
   ],
   "source": [
    "#Construct final model with 4 topics (Increase iterations and passes because it is the final model)\n",
    "finalmodel = LdaMulticore(corpus=corpus, id2word=token_dict, iterations=100, num_topics=9, workers = 4, passes=100, random_state=47)\n",
    "\n",
    "finalmodel.print_topics()"
   ]
  },
  {
   "cell_type": "code",
   "execution_count": 9,
   "metadata": {},
   "outputs": [
    {
     "data": {
      "text/plain": [
       "array([[1.0949839e-03, 3.1652470e-04, 9.4115443e-04, ..., 5.4462221e-06,\n",
       "        5.5266460e-06, 7.3807879e-04],\n",
       "       [1.7173205e-03, 7.4915483e-06, 4.9176267e-03, ..., 1.2829450e-04,\n",
       "        7.5171406e-06, 3.7115888e-04],\n",
       "       [2.2182479e-03, 1.1366716e-03, 7.9031242e-04, ..., 6.0718248e-06,\n",
       "        7.9863379e-04, 5.7426264e-04],\n",
       "       ...,\n",
       "       [3.7583283e-03, 6.8135280e-04, 4.1011795e-06, ..., 9.5725723e-04,\n",
       "        4.0000073e-06, 4.8901711e-04],\n",
       "       [1.5897113e-03, 1.8255290e-06, 1.3654119e-03, ..., 3.1098130e-04,\n",
       "        3.8793773e-06, 1.3103370e-04],\n",
       "       [8.5190131e-04, 3.2382077e-04, 1.5073243e-03, ..., 1.2915278e-03,\n",
       "        2.9632756e-06, 1.8410213e-04]], dtype=float32)"
      ]
     },
     "execution_count": 9,
     "metadata": {},
     "output_type": "execute_result"
    }
   ],
   "source": [
    "finalmodel.get_topics() # shape: num_topics x vocabulary_size"
   ]
  },
  {
   "cell_type": "code",
   "execution_count": 10,
   "metadata": {},
   "outputs": [
    {
     "data": {
      "text/plain": [
       "[(1, 0.013998536),\n",
       " (3, 0.2005018),\n",
       " (5, 0.10192279),\n",
       " (7, 0.13320048),\n",
       " (8, 0.5498218)]"
      ]
     },
     "execution_count": 10,
     "metadata": {},
     "output_type": "execute_result"
    }
   ],
   "source": [
    "#Checking for first speech - DNC keynote speech 2004\n",
    "finalmodel[corpus][0]\n",
    "#Main topic is Topic 3, which seems to be some sort of mixed bag. The speech itself covers his personal life and the democratic party."
   ]
  },
  {
   "cell_type": "markdown",
   "metadata": {},
   "source": [
    "What follows is an advanced visualisation of the topics. Each circle represents a topic and upon hovering over a circle, the bars on the right illustrate the frequency of words that appear in the topic. Closer circles are more related, which is logical since political arguments correlate highly with voting campaigns. Visualisation of circles is done through PCA dimension reduction."
   ]
  },
  {
   "cell_type": "code",
   "execution_count": 11,
   "metadata": {},
   "outputs": [
    {
     "ename": "TypeError",
     "evalue": "drop() takes from 1 to 2 positional arguments but 3 were given",
     "output_type": "error",
     "traceback": [
      "\u001b[1;31m---------------------------------------------------------------------------\u001b[0m",
      "\u001b[1;31mTypeError\u001b[0m                                 Traceback (most recent call last)",
      "\u001b[1;32m~\\AppData\\Local\\Temp\\ipykernel_14404\\2913849579.py\u001b[0m in \u001b[0;36m<module>\u001b[1;34m\u001b[0m\n\u001b[0;32m      1\u001b[0m \u001b[1;31m#       vis = pyLDAvis.gensim_models.prepare(lda_model, corpus, id2word)\u001b[0m\u001b[1;33m\u001b[0m\u001b[1;33m\u001b[0m\u001b[1;33m\u001b[0m\u001b[0m\n\u001b[1;32m----> 2\u001b[1;33m \u001b[0mlda_display\u001b[0m \u001b[1;33m=\u001b[0m \u001b[0mpyLDAvis\u001b[0m\u001b[1;33m.\u001b[0m\u001b[0mgensim_models\u001b[0m\u001b[1;33m.\u001b[0m\u001b[0mprepare\u001b[0m\u001b[1;33m(\u001b[0m\u001b[0mtopic_model\u001b[0m\u001b[1;33m=\u001b[0m\u001b[0mfinalmodel\u001b[0m\u001b[1;33m,\u001b[0m \u001b[0mcorpus\u001b[0m\u001b[1;33m=\u001b[0m\u001b[0mcorpus\u001b[0m\u001b[1;33m,\u001b[0m \u001b[0mdictionary\u001b[0m\u001b[1;33m=\u001b[0m\u001b[0mtoken_dict\u001b[0m\u001b[1;33m)\u001b[0m\u001b[1;33m\u001b[0m\u001b[1;33m\u001b[0m\u001b[0m\n\u001b[0m\u001b[0;32m      3\u001b[0m \u001b[0mpyLDAvis\u001b[0m\u001b[1;33m.\u001b[0m\u001b[0mdisplay\u001b[0m\u001b[1;33m(\u001b[0m\u001b[0mlda_display\u001b[0m\u001b[1;33m)\u001b[0m\u001b[1;33m\u001b[0m\u001b[1;33m\u001b[0m\u001b[0m\n",
      "\u001b[1;32m~\\AppData\\Roaming\\Python\\Python39\\site-packages\\pyLDAvis\\gensim_models.py\u001b[0m in \u001b[0;36mprepare\u001b[1;34m(topic_model, corpus, dictionary, doc_topic_dist, **kwargs)\u001b[0m\n\u001b[0;32m    121\u001b[0m     \"\"\"\n\u001b[0;32m    122\u001b[0m     \u001b[0mopts\u001b[0m \u001b[1;33m=\u001b[0m \u001b[0mfp\u001b[0m\u001b[1;33m.\u001b[0m\u001b[0mmerge\u001b[0m\u001b[1;33m(\u001b[0m\u001b[0m_extract_data\u001b[0m\u001b[1;33m(\u001b[0m\u001b[0mtopic_model\u001b[0m\u001b[1;33m,\u001b[0m \u001b[0mcorpus\u001b[0m\u001b[1;33m,\u001b[0m \u001b[0mdictionary\u001b[0m\u001b[1;33m,\u001b[0m \u001b[0mdoc_topic_dist\u001b[0m\u001b[1;33m)\u001b[0m\u001b[1;33m,\u001b[0m \u001b[0mkwargs\u001b[0m\u001b[1;33m)\u001b[0m\u001b[1;33m\u001b[0m\u001b[1;33m\u001b[0m\u001b[0m\n\u001b[1;32m--> 123\u001b[1;33m     \u001b[1;32mreturn\u001b[0m \u001b[0mpyLDAvis\u001b[0m\u001b[1;33m.\u001b[0m\u001b[0mprepare\u001b[0m\u001b[1;33m(\u001b[0m\u001b[1;33m**\u001b[0m\u001b[0mopts\u001b[0m\u001b[1;33m)\u001b[0m\u001b[1;33m\u001b[0m\u001b[1;33m\u001b[0m\u001b[0m\n\u001b[0m",
      "\u001b[1;32m~\\AppData\\Roaming\\Python\\Python39\\site-packages\\pyLDAvis\\_prepare.py\u001b[0m in \u001b[0;36mprepare\u001b[1;34m(topic_term_dists, doc_topic_dists, doc_lengths, vocab, term_frequency, R, lambda_step, mds, n_jobs, plot_opts, sort_topics, start_index)\u001b[0m\n\u001b[0;32m    430\u001b[0m     \u001b[0mterm_frequency\u001b[0m \u001b[1;33m=\u001b[0m \u001b[0mnp\u001b[0m\u001b[1;33m.\u001b[0m\u001b[0msum\u001b[0m\u001b[1;33m(\u001b[0m\u001b[0mterm_topic_freq\u001b[0m\u001b[1;33m,\u001b[0m \u001b[0maxis\u001b[0m\u001b[1;33m=\u001b[0m\u001b[1;36m0\u001b[0m\u001b[1;33m)\u001b[0m\u001b[1;33m\u001b[0m\u001b[1;33m\u001b[0m\u001b[0m\n\u001b[0;32m    431\u001b[0m \u001b[1;33m\u001b[0m\u001b[0m\n\u001b[1;32m--> 432\u001b[1;33m     topic_info = _topic_info(topic_term_dists, topic_proportion,\n\u001b[0m\u001b[0;32m    433\u001b[0m                              \u001b[0mterm_frequency\u001b[0m\u001b[1;33m,\u001b[0m \u001b[0mterm_topic_freq\u001b[0m\u001b[1;33m,\u001b[0m \u001b[0mvocab\u001b[0m\u001b[1;33m,\u001b[0m \u001b[0mlambda_step\u001b[0m\u001b[1;33m,\u001b[0m \u001b[0mR\u001b[0m\u001b[1;33m,\u001b[0m\u001b[1;33m\u001b[0m\u001b[1;33m\u001b[0m\u001b[0m\n\u001b[0;32m    434\u001b[0m                              n_jobs, start_index)\n",
      "\u001b[1;32m~\\AppData\\Roaming\\Python\\Python39\\site-packages\\pyLDAvis\\_prepare.py\u001b[0m in \u001b[0;36m_topic_info\u001b[1;34m(topic_term_dists, topic_proportion, term_frequency, term_topic_freq, vocab, lambda_step, R, n_jobs, start_index)\u001b[0m\n\u001b[0;32m    241\u001b[0m         \u001b[1;34m'Total'\u001b[0m\u001b[1;33m:\u001b[0m \u001b[0mterm_frequency\u001b[0m\u001b[1;33m,\u001b[0m\u001b[1;33m\u001b[0m\u001b[1;33m\u001b[0m\u001b[0m\n\u001b[0;32m    242\u001b[0m         'Category': 'Default'})\n\u001b[1;32m--> 243\u001b[1;33m     default_term_info = default_term_info.sort_values(\n\u001b[0m\u001b[0;32m    244\u001b[0m         by='saliency', ascending=False).head(R).drop('saliency', 1)\n\u001b[0;32m    245\u001b[0m     \u001b[1;31m# Rounding Freq and Total to integer values to match LDAvis code:\u001b[0m\u001b[1;33m\u001b[0m\u001b[1;33m\u001b[0m\u001b[1;33m\u001b[0m\u001b[0m\n",
      "\u001b[1;31mTypeError\u001b[0m: drop() takes from 1 to 2 positional arguments but 3 were given"
     ]
    }
   ],
   "source": [
    "#       vis = pyLDAvis.gensim_models.prepare(lda_model, corpus, id2word)\n",
    "lda_display = pyLDAvis.gensim_models.prepare(topic_model=finalmodel, corpus=corpus, dictionary=token_dict)\n",
    "pyLDAvis.display(lda_display)"
   ]
  },
  {
   "cell_type": "code",
   "execution_count": 24,
   "metadata": {},
   "outputs": [],
   "source": [
    "columns = list(dict(token_dict).values())"
   ]
  },
  {
   "cell_type": "code",
   "execution_count": 95,
   "metadata": {},
   "outputs": [
    {
     "data": {
      "text/plain": [
       "(9, 1000)"
      ]
     },
     "execution_count": 95,
     "metadata": {},
     "output_type": "execute_result"
    }
   ],
   "source": [
    "# num topics x vocab size, here 9x1000\n",
    "topic_vals = pd.DataFrame(finalmodel.get_topics(), columns=columns)\n",
    "topic_vals.shape"
   ]
  },
  {
   "cell_type": "code",
   "execution_count": 52,
   "metadata": {},
   "outputs": [],
   "source": [
    "topic_by_doc=list(finalmodel[corpus])"
   ]
  },
  {
   "cell_type": "code",
   "execution_count": 85,
   "metadata": {},
   "outputs": [],
   "source": [
    "#[doc][topic][0-id] or [1-value]\n",
    "doc_topics = []\n",
    "for doc_num in range(len(topic_by_doc)):\n",
    "    topics_for_doc = [0] * len(finalmodel.print_topics())\n",
    "    for i in range(len(finalmodel.print_topics())):\n",
    "        if (i < len(topic_by_doc[doc_num])):\n",
    "            topics_for_doc[topic_by_doc[doc_num][i][0]]=topic_by_doc[doc_num][i][1]\n",
    "    doc_topics.append(topics_for_doc);"
   ]
  },
  {
   "cell_type": "code",
   "execution_count": 93,
   "metadata": {},
   "outputs": [
    {
     "data": {
      "text/plain": [
       "(744, 9)"
      ]
     },
     "execution_count": 93,
     "metadata": {},
     "output_type": "execute_result"
    }
   ],
   "source": [
    "# doc_topics is num_docs x num_topics or 744 rows x 9 cols\n",
    "doc_topics = pd.DataFrame(doc_topics)\n",
    "doc_topics.shape"
   ]
  },
  {
   "cell_type": "code",
   "execution_count": 96,
   "metadata": {},
   "outputs": [],
   "source": [
    "docs_words = doc_topics.dot(topic_vals)"
   ]
  },
  {
   "cell_type": "code",
   "execution_count": 110,
   "metadata": {},
   "outputs": [
    {
     "data": {
      "text/plain": [
       "0      0.999445\n",
       "1      0.996525\n",
       "2      0.998966\n",
       "3      0.999773\n",
       "4      0.998328\n",
       "         ...   \n",
       "739    0.999341\n",
       "740    0.998194\n",
       "741    0.999157\n",
       "742    0.998424\n",
       "743    0.999729\n",
       "Length: 744, dtype: float64"
      ]
     },
     "execution_count": 110,
     "metadata": {},
     "output_type": "execute_result"
    }
   ],
   "source": [
    "# sum for each document should by 1-ish\n",
    "docs_words.sum(axis=1) # 0-rows, 1-cols"
   ]
  },
  {
   "cell_type": "code",
   "execution_count": null,
   "metadata": {},
   "outputs": [],
   "source": []
  }
 ],
 "metadata": {
  "kernelspec": {
   "display_name": "Python 3 (ipykernel)",
   "language": "python",
   "name": "python3"
  },
  "language_info": {
   "codemirror_mode": {
    "name": "ipython",
    "version": 3
   },
   "file_extension": ".py",
   "mimetype": "text/x-python",
   "name": "python",
   "nbconvert_exporter": "python",
   "pygments_lexer": "ipython3",
   "version": "3.9.2"
  },
  "vscode": {
   "interpreter": {
    "hash": "107f2f6f19e96c840132efb8a7e6b8d8e9855354386e3f52164003e5deff7bc5"
   }
  }
 },
 "nbformat": 4,
 "nbformat_minor": 2
}
