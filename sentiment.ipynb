{
 "cells": [
  {
   "cell_type": "markdown",
   "id": "cb2553f0",
   "metadata": {},
   "source": [
    "<A HREF=\"https://huggingface.co/blog/sentiment-analysis-python\">Getting started with sentiment analysis using huggingface</A>"
   ]
  },
  {
   "cell_type": "code",
   "execution_count": 36,
   "id": "d4bfe817",
   "metadata": {},
   "outputs": [],
   "source": [
    "import pandas as pd\n",
    "import numpy as np\n",
    "import matplotlib.pyplot as plt\n",
    "import spacy\n",
    "import en_core_web_md\n",
    "import csv\n",
    "import regex as re\n",
    "import os\n",
    "import spacy\n",
    "from gensim.corpora.dictionary import Dictionary\n",
    "from gensim.models import LdaModel\n",
    "from gensim.models import LdaMulticore\n",
    "from gensim.models import CoherenceModel\n",
    "from gensim import corpora\n",
    "import pprint\n",
    "from transformers import pipeline # huggingface"
   ]
  },
  {
   "cell_type": "code",
   "execution_count": 37,
   "id": "bb07666f",
   "metadata": {},
   "outputs": [
    {
     "name": "stderr",
     "output_type": "stream",
     "text": [
      "No model was supplied, defaulted to distilbert-base-uncased-finetuned-sst-2-english and revision af0f99b (https://huggingface.co/distilbert-base-uncased-finetuned-sst-2-english).\n",
      "Using a pipeline without specifying a model name and revision in production is not recommended.\n"
     ]
    }
   ],
   "source": [
    "# Setup huggingface sentiment pipeline - default, distilbert, is 255MB\n",
    "sentiment_pipeline = pipeline(\"sentiment-analysis\")"
   ]
  },
  {
   "cell_type": "code",
   "execution_count": 38,
   "id": "3e910e3e",
   "metadata": {},
   "outputs": [],
   "source": [
    "# Load up the files\n",
    "#path = './Data/DataUCSB/' # Smaller UCSB dataset\n",
    "path = './Data/amrhet/' # larger American Rhetoric dataset\n",
    "list_of_files = []\n",
    "\n",
    "for root, dirs, files in os.walk(path):\n",
    "    for file in files:\n",
    "        if file.endswith('.txt'):\n",
    "            list_of_files.append(os.path.join(root,file))\n",
    "\n",
    "filepath = './Data/DataUCSB/address-before-joint-session-the-congress-the-state-the-union-16.csv'\n",
    "speeches = []\n",
    "for file in list_of_files:\n",
    "    with open(file, encoding='utf-8') as f:\n",
    "        text = f.read()\n",
    "    f.close()\n",
    "    speeches.append(text)\n",
    "\n",
    "#clean out xa0 space characters\n",
    "[speech.replace(u'\\xa0', '') for speech in speeches if len(speech)>0]; # ; hides output of list comprehension"
   ]
  },
  {
   "cell_type": "code",
   "execution_count": 39,
   "id": "8af1ceb6",
   "metadata": {},
   "outputs": [],
   "source": [
    "test = speeches[343].split('.') # sentiment_pipeline wants sentences! Not whole speeches.\n",
    "sent = sentiment_pipeline(test)"
   ]
  },
  {
   "cell_type": "code",
   "execution_count": 40,
   "id": "2f2af2eb",
   "metadata": {},
   "outputs": [
    {
     "data": {
      "text/plain": [
       "0.959"
      ]
     },
     "execution_count": 40,
     "metadata": {},
     "output_type": "execute_result"
    }
   ],
   "source": [
    "round(sum( [sent[i]['score'] for i in range(len(sent))] )/len(sent), 3)"
   ]
  },
  {
   "cell_type": "code",
   "execution_count": 41,
   "id": "6e8eaae8",
   "metadata": {},
   "outputs": [],
   "source": [
    "# Stuff for progress bar\n",
    "from tqdm.notebook import tqdm, trange\n",
    "import time    # to be used in loop iterations"
   ]
  },
  {
   "cell_type": "code",
   "execution_count": 42,
   "id": "6e56e545",
   "metadata": {},
   "outputs": [
    {
     "data": {
      "application/vnd.jupyter.widget-view+json": {
       "model_id": "48533d2e740a42cca1d6e1988e20c4ac",
       "version_major": 2,
       "version_minor": 0
      },
      "text/plain": [
       "  0%|          | 0/466 [00:00<?, ?it/s]"
      ]
     },
     "metadata": {},
     "output_type": "display_data"
    }
   ],
   "source": [
    "# This is slow for 466 speeches!\n",
    "scores = []\n",
    "# Wrap iterable in tqdm() for progress bar\n",
    "for i in tqdm(range(len(speeches))):\n",
    "    test = speeches[i].split('.')\n",
    "    sent = sentiment_pipeline(test)\n",
    "    scores.append(sum( [sent[i]['score'] for i in range(len(sent))] )/len(sent))"
   ]
  },
  {
   "cell_type": "code",
   "execution_count": 43,
   "id": "937fe272",
   "metadata": {},
   "outputs": [
    {
     "data": {
      "text/plain": [
       "0.748120903968811"
      ]
     },
     "execution_count": 43,
     "metadata": {},
     "output_type": "execute_result"
    }
   ],
   "source": [
    "np.min(scores)"
   ]
  },
  {
   "cell_type": "code",
   "execution_count": 44,
   "id": "9280a3d5",
   "metadata": {},
   "outputs": [
    {
     "data": {
      "text/plain": [
       "0.992634262641271"
      ]
     },
     "execution_count": 44,
     "metadata": {},
     "output_type": "execute_result"
    }
   ],
   "source": [
    "np.max(scores)"
   ]
  },
  {
   "cell_type": "code",
   "execution_count": 45,
   "id": "02b3d52d",
   "metadata": {},
   "outputs": [
    {
     "data": {
      "text/plain": [
       "0.9604947458079558"
      ]
     },
     "execution_count": 45,
     "metadata": {},
     "output_type": "execute_result"
    }
   ],
   "source": [
    "np.mean(scores)"
   ]
  },
  {
   "cell_type": "code",
   "execution_count": 46,
   "id": "81466db5",
   "metadata": {},
   "outputs": [
    {
     "data": {
      "text/plain": [
       "0.00048181062130331153"
      ]
     },
     "execution_count": 46,
     "metadata": {},
     "output_type": "execute_result"
    }
   ],
   "source": [
    "np.var(scores)"
   ]
  },
  {
   "cell_type": "code",
   "execution_count": null,
   "id": "220c1fec",
   "metadata": {},
   "outputs": [],
   "source": []
  }
 ],
 "metadata": {
  "kernelspec": {
   "display_name": "Python 3 (ipykernel)",
   "language": "python",
   "name": "python3"
  },
  "language_info": {
   "codemirror_mode": {
    "name": "ipython",
    "version": 3
   },
   "file_extension": ".py",
   "mimetype": "text/x-python",
   "name": "python",
   "nbconvert_exporter": "python",
   "pygments_lexer": "ipython3",
   "version": "3.10.6"
  }
 },
 "nbformat": 4,
 "nbformat_minor": 5
}
