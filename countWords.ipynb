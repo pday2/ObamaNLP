{
 "cells": [
  {
   "cell_type": "markdown",
   "id": "cd21e6e0",
   "metadata": {},
   "source": [
    "This counts the number of words in each speech"
   ]
  },
  {
   "cell_type": "code",
   "execution_count": 13,
   "id": "2f4a864d",
   "metadata": {},
   "outputs": [],
   "source": [
    "import pandas as pd\n",
    "import numpy as np\n",
    "import matplotlib.pyplot as plt\n",
    "import seaborn as sns\n",
    "import spacy\n",
    "import en_core_web_md\n",
    "import csv\n",
    "import regex as re\n",
    "import os\n",
    "import spacy\n",
    "from gensim.corpora.dictionary import Dictionary\n",
    "from gensim.models import LdaModel\n",
    "from gensim.models import LdaMulticore\n",
    "from gensim.models import CoherenceModel\n",
    "from gensim import corpora\n",
    "import pprint"
   ]
  },
  {
   "cell_type": "code",
   "execution_count": 2,
   "id": "2e529ed5",
   "metadata": {},
   "outputs": [],
   "source": [
    "# Load up the files\n",
    "#path = './Data/DataUCSB/' # Smaller UCSB dataset\n",
    "path = './Data/amrhet/' # larger American Rhetoric dataset\n",
    "list_of_files = []\n",
    "\n",
    "for root, dirs, files in os.walk(path):\n",
    "    for file in files:\n",
    "        if file.endswith('.txt'):\n",
    "            list_of_files.append(os.path.join(root,file))\n",
    "\n",
    "filepath = './Data/DataUCSB/address-before-joint-session-the-congress-the-state-the-union-16.csv'\n",
    "speeches = []\n",
    "for file in list_of_files:\n",
    "    with open(file, encoding='utf-8') as f:\n",
    "        text = f.read()\n",
    "    f.close()\n",
    "    speeches.append(text)\n",
    "\n",
    "#clean out xa0 space characters\n",
    "[speech.replace(u'\\xa0', '') for speech in speeches]; # ; supresses output"
   ]
  },
  {
   "cell_type": "code",
   "execution_count": 6,
   "id": "538a6310",
   "metadata": {},
   "outputs": [],
   "source": [
    "lengths = [ len(speech.split()) for speech in speeches]"
   ]
  },
  {
   "cell_type": "code",
   "execution_count": 12,
   "id": "512fc104",
   "metadata": {},
   "outputs": [
    {
     "name": "stdout",
     "output_type": "stream",
     "text": [
      "238\n",
      "3480.0\n",
      "18209\n",
      "2672.0\n"
     ]
    }
   ],
   "source": [
    "print(min(lengths))\n",
    "print(round(np.mean(lengths), 0))\n",
    "print(max(lengths))\n",
    "print(round(np.std(lengths), 0))"
   ]
  },
  {
   "cell_type": "code",
   "execution_count": 40,
   "id": "70ded8ea",
   "metadata": {},
   "outputs": [
    {
     "data": {
      "image/png": "[encoded data removed]",
      "text/plain": [
       "<Figure size 640x480 with 1 Axes>"
      ]
     },
     "metadata": {},
     "output_type": "display_data"
    }
   ],
   "source": [
    "sns.histplot(data = lengths,\n",
    "             color = 'navy',\n",
    "             kde = False);"
   ]
  },
  {
   "cell_type": "code",
   "execution_count": 29,
   "id": "293ff3f1",
   "metadata": {},
   "outputs": [
    {
     "data": {
      "text/plain": [
       "0.6926406926406926"
      ]
     },
     "execution_count": 29,
     "metadata": {},
     "output_type": "execute_result"
    }
   ],
   "source": [
    "# percent of speeches less than 4096 tokens\n",
    "lengths = np.asarray(lengths)\n",
    "len(np.where(lengths<4096)[0])/len(lengths)"
   ]
  },
  {
   "cell_type": "code",
   "execution_count": null,
   "id": "8537bddc",
   "metadata": {},
   "outputs": [],
   "source": []
  }
 ],
 "metadata": {
  "kernelspec": {
   "display_name": "Python 3 (ipykernel)",
   "language": "python",
   "name": "python3"
  },
  "language_info": {
   "codemirror_mode": {
    "name": "ipython",
    "version": 3
   },
   "file_extension": ".py",
   "mimetype": "text/x-python",
   "name": "python",
   "nbconvert_exporter": "python",
   "pygments_lexer": "ipython3",
   "version": "3.10.6"
  }
 },
 "nbformat": 4,
 "nbformat_minor": 5
}
