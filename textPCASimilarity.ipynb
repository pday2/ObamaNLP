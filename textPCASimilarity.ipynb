{
 "cells": [
  {
   "cell_type": "code",
   "execution_count": 80,
   "id": "f40823ed",
   "metadata": {},
   "outputs": [],
   "source": [
    "import pandas as pd\n",
    "import numpy as np\n",
    "import unicodedata\n",
    "import matplotlib.pyplot as plt\n",
    "import plotly.express as px\n",
    "import os # to check if directory exists and create it if it doesn't\n",
    "from datetime import datetime # to parse speech date\n",
    "import spacy\n",
    "import en_core_web_md\n",
    "import csv\n",
    "import nltk\n",
    "import re\n",
    "from sklearn.decomposition import PCA\n",
    "from sklearn.preprocessing import StandardScaler\n",
    "from sklearn import manifold # for t-sne\n",
    "import plotly.graph_objects as go\n",
    "import kaleido"
   ]
  },
  {
   "cell_type": "markdown",
   "id": "ccfcd757",
   "metadata": {},
   "source": [
    "# [To PCA on tidy data csv](#pcatidydata)"
   ]
  },
  {
   "cell_type": "code",
   "execution_count": 2,
   "id": "c0e6c31c",
   "metadata": {},
   "outputs": [
    {
     "data": {
      "text/plain": [
       "(3000, 4)"
      ]
     },
     "execution_count": 2,
     "metadata": {},
     "output_type": "execute_result"
    }
   ],
   "source": [
    "# Load the two data sets needed\n",
    "# string encodings to try utf_8, iso8859_15\n",
    "facetPlotData = pd.read_csv('facetPlotData.csv')\n",
    "df = pd.read_csv('fullEmotionData.csv', encoding='utf_8') # apostrophes aren't being read correctly\n",
    "# Pandas reads date as string, cast to datetime object\n",
    "df['date'] = pd.to_datetime(df['date'], format='%Y-%m-%d')\n",
    "facetPlotData['date'] = pd.to_datetime(facetPlotData['date'], format='%Y-%m-%d')\n",
    "facetPlotData.shape # Should be (3000, 4) "
   ]
  },
  {
   "cell_type": "code",
   "execution_count": 3,
   "id": "cf0d29ea",
   "metadata": {},
   "outputs": [],
   "source": [
    "sources = ['text_oba', 'text_nyt', 'text_wsj']\n",
    "for source in sources:\n",
    "    tmp1 = [re.sub(r\"[^\\w\\s^']\", \" \", text).lower() for text in df[source]]\n",
    "    df[source] = [re.sub(' +', ' ', text).replace('\\n', '').replace(\"â \" , \"'\") for text in tmp1]"
   ]
  },
  {
   "cell_type": "code",
   "execution_count": 4,
   "id": "a356abd7",
   "metadata": {},
   "outputs": [],
   "source": [
    "# Read in new articles from OtherSources directory\n",
    "# Load up the files\n",
    "path = './OtherSources/' \n",
    "list_of_files = []\n",
    "\n",
    "# Get file names in target directory\n",
    "for root, dirs, files in os.walk(path):\n",
    "    for file in files:\n",
    "        if file.endswith('.txt'):\n",
    "            list_of_files.append(os.path.join(root,file))\n",
    "\n",
    "# Open files and read in text\n",
    "speeches = []\n",
    "for file in list_of_files:\n",
    "    with open(file, encoding='utf-8') as f:\n",
    "        text = f.read()\n",
    "    f.close()\n",
    "    speeches.append(text)\n",
    "\n",
    "#clean out goofy unicode  space characters \n",
    "speeches = [unicodedata.normalize(\"NFKD\", speech) for speech in speeches]\n",
    "\n",
    "info = [(file.split('_')[0][15:]+'.txt', file.split('_')[1][:-4]) for file in list_of_files]\n",
    "\n",
    "# speeches[i] has the article text\n",
    "# info[i][0] has the filename to match row of original Obama speech\n",
    "# info[i][1] has the source name for naming the column\n",
    "# Some new source/column names are: FoxNews, InfoWars, NationalReview, Intercept\n",
    "\n",
    "for i in range(len(info)):\n",
    "    df[info[i][1]] = None\n",
    "\n",
    "for i in range(len(list_of_files)):\n",
    "    df.loc[df['file'] == info[i][0], [info[i][1]]] = speeches[i]"
   ]
  },
  {
   "cell_type": "markdown",
   "id": "a9706724",
   "metadata": {},
   "source": [
    "<A HREf=\"https://arxiv.org/abs/1905.05583\">Paper with some stuff on dealing with long text</A> This doesn't seem to be an issue with spacy encodings"
   ]
  },
  {
   "cell_type": "code",
   "execution_count": 5,
   "id": "7aa03ead",
   "metadata": {},
   "outputs": [],
   "source": [
    "# Clean up Obama speeches and what the heck, let's do NYT and WSJ too, just to be sure no more unicode garbage\n",
    "df['text_oba'] = [unicodedata.normalize(\"NFKD\", speech) for speech in df['text_oba']]\n",
    "df['text_nyt'] = [unicodedata.normalize(\"NFKD\", speech) for speech in df['text_nyt']]\n",
    "df['text_wsj'] = [unicodedata.normalize(\"NFKD\", speech) for speech in df['text_wsj']]"
   ]
  },
  {
   "cell_type": "code",
   "execution_count": 6,
   "id": "61a759cf",
   "metadata": {},
   "outputs": [],
   "source": [
    "nlp = spacy.load('en_core_web_md')"
   ]
  },
  {
   "cell_type": "code",
   "execution_count": 7,
   "id": "4a292843",
   "metadata": {},
   "outputs": [
    {
     "name": "stderr",
     "output_type": "stream",
     "text": [
      "/tmp/ipykernel_36646/3038641089.py:15: SettingWithCopyWarning: \n",
      "A value is trying to be set on a copy of a slice from a DataFrame\n",
      "\n",
      "See the caveats in the documentation: https://pandas.pydata.org/pandas-docs/stable/user_guide/indexing.html#returning-a-view-versus-a-copy\n",
      "  df[enc_col[j]][i] = list(nlp(df[sources[j]][i]).vector)\n"
     ]
    }
   ],
   "source": [
    "# This takes a little bit to calculate the encodings... maybe a minute\n",
    "# Encode all the texts and save to source specific columns\n",
    "sources = ['text_oba', 'text_nyt', 'text_wsj', 'FoxNews', 'InfoWars', 'NationalReview', 'Intercept']\n",
    "enc_col = ['enc_oba', 'enc_nyt', 'enc_wsj', 'enc_fn', 'enc_iw', 'enc_nr', 'enc_int']\n",
    "\n",
    "# initialize the new encoding columns\n",
    "for col in enc_col:\n",
    "    df[col]=None\n",
    "\n",
    "for i in range(len(df)):\n",
    "    for j in range(len(sources)):\n",
    "        #print(i, sources[j])\n",
    "        if df[sources[j]][i] != None:\n",
    "            # dfmi.loc[:, ('one', 'second')]\n",
    "            df[enc_col[j]][i] = list(nlp(df[sources[j]][i]).vector)"
   ]
  },
  {
   "cell_type": "code",
   "execution_count": 8,
   "id": "78441924",
   "metadata": {},
   "outputs": [],
   "source": [
    "pcaBiplotData = pd.DataFrame(columns=['date','source'])"
   ]
  },
  {
   "cell_type": "code",
   "execution_count": 9,
   "id": "732fa2b2",
   "metadata": {},
   "outputs": [
    {
     "name": "stderr",
     "output_type": "stream",
     "text": [
      "/tmp/ipykernel_36646/1484095954.py:11: PerformanceWarning: DataFrame is highly fragmented.  This is usually the result of calling `frame.insert` many times, which has poor performance.  Consider joining all columns at once using pd.concat(axis=1) instead. To get a de-fragmented frame, use `newframe = frame.copy()`\n",
      "  pcaBiplotData.loc[index, columnname] = None\n",
      "/tmp/ipykernel_36646/1484095954.py:11: PerformanceWarning: DataFrame is highly fragmented.  This is usually the result of calling `frame.insert` many times, which has poor performance.  Consider joining all columns at once using pd.concat(axis=1) instead. To get a de-fragmented frame, use `newframe = frame.copy()`\n",
      "  pcaBiplotData.loc[index, columnname] = None\n",
      "/tmp/ipykernel_36646/1484095954.py:11: PerformanceWarning: DataFrame is highly fragmented.  This is usually the result of calling `frame.insert` many times, which has poor performance.  Consider joining all columns at once using pd.concat(axis=1) instead. To get a de-fragmented frame, use `newframe = frame.copy()`\n",
      "  pcaBiplotData.loc[index, columnname] = None\n",
      "/tmp/ipykernel_36646/1484095954.py:11: PerformanceWarning: DataFrame is highly fragmented.  This is usually the result of calling `frame.insert` many times, which has poor performance.  Consider joining all columns at once using pd.concat(axis=1) instead. To get a de-fragmented frame, use `newframe = frame.copy()`\n",
      "  pcaBiplotData.loc[index, columnname] = None\n",
      "/tmp/ipykernel_36646/1484095954.py:11: PerformanceWarning: DataFrame is highly fragmented.  This is usually the result of calling `frame.insert` many times, which has poor performance.  Consider joining all columns at once using pd.concat(axis=1) instead. To get a de-fragmented frame, use `newframe = frame.copy()`\n",
      "  pcaBiplotData.loc[index, columnname] = None\n",
      "/tmp/ipykernel_36646/1484095954.py:11: PerformanceWarning: DataFrame is highly fragmented.  This is usually the result of calling `frame.insert` many times, which has poor performance.  Consider joining all columns at once using pd.concat(axis=1) instead. To get a de-fragmented frame, use `newframe = frame.copy()`\n",
      "  pcaBiplotData.loc[index, columnname] = None\n",
      "/tmp/ipykernel_36646/1484095954.py:11: PerformanceWarning: DataFrame is highly fragmented.  This is usually the result of calling `frame.insert` many times, which has poor performance.  Consider joining all columns at once using pd.concat(axis=1) instead. To get a de-fragmented frame, use `newframe = frame.copy()`\n",
      "  pcaBiplotData.loc[index, columnname] = None\n",
      "/tmp/ipykernel_36646/1484095954.py:11: PerformanceWarning: DataFrame is highly fragmented.  This is usually the result of calling `frame.insert` many times, which has poor performance.  Consider joining all columns at once using pd.concat(axis=1) instead. To get a de-fragmented frame, use `newframe = frame.copy()`\n",
      "  pcaBiplotData.loc[index, columnname] = None\n",
      "/tmp/ipykernel_36646/1484095954.py:11: PerformanceWarning: DataFrame is highly fragmented.  This is usually the result of calling `frame.insert` many times, which has poor performance.  Consider joining all columns at once using pd.concat(axis=1) instead. To get a de-fragmented frame, use `newframe = frame.copy()`\n",
      "  pcaBiplotData.loc[index, columnname] = None\n",
      "/tmp/ipykernel_36646/1484095954.py:11: PerformanceWarning: DataFrame is highly fragmented.  This is usually the result of calling `frame.insert` many times, which has poor performance.  Consider joining all columns at once using pd.concat(axis=1) instead. To get a de-fragmented frame, use `newframe = frame.copy()`\n",
      "  pcaBiplotData.loc[index, columnname] = None\n",
      "/tmp/ipykernel_36646/1484095954.py:11: PerformanceWarning: DataFrame is highly fragmented.  This is usually the result of calling `frame.insert` many times, which has poor performance.  Consider joining all columns at once using pd.concat(axis=1) instead. To get a de-fragmented frame, use `newframe = frame.copy()`\n",
      "  pcaBiplotData.loc[index, columnname] = None\n",
      "/tmp/ipykernel_36646/1484095954.py:11: PerformanceWarning: DataFrame is highly fragmented.  This is usually the result of calling `frame.insert` many times, which has poor performance.  Consider joining all columns at once using pd.concat(axis=1) instead. To get a de-fragmented frame, use `newframe = frame.copy()`\n",
      "  pcaBiplotData.loc[index, columnname] = None\n",
      "/tmp/ipykernel_36646/1484095954.py:11: PerformanceWarning: DataFrame is highly fragmented.  This is usually the result of calling `frame.insert` many times, which has poor performance.  Consider joining all columns at once using pd.concat(axis=1) instead. To get a de-fragmented frame, use `newframe = frame.copy()`\n",
      "  pcaBiplotData.loc[index, columnname] = None\n",
      "/tmp/ipykernel_36646/1484095954.py:11: PerformanceWarning: DataFrame is highly fragmented.  This is usually the result of calling `frame.insert` many times, which has poor performance.  Consider joining all columns at once using pd.concat(axis=1) instead. To get a de-fragmented frame, use `newframe = frame.copy()`\n",
      "  pcaBiplotData.loc[index, columnname] = None\n",
      "/tmp/ipykernel_36646/1484095954.py:11: PerformanceWarning: DataFrame is highly fragmented.  This is usually the result of calling `frame.insert` many times, which has poor performance.  Consider joining all columns at once using pd.concat(axis=1) instead. To get a de-fragmented frame, use `newframe = frame.copy()`\n",
      "  pcaBiplotData.loc[index, columnname] = None\n",
      "/tmp/ipykernel_36646/1484095954.py:11: PerformanceWarning: DataFrame is highly fragmented.  This is usually the result of calling `frame.insert` many times, which has poor performance.  Consider joining all columns at once using pd.concat(axis=1) instead. To get a de-fragmented frame, use `newframe = frame.copy()`\n",
      "  pcaBiplotData.loc[index, columnname] = None\n",
      "/tmp/ipykernel_36646/1484095954.py:11: PerformanceWarning: DataFrame is highly fragmented.  This is usually the result of calling `frame.insert` many times, which has poor performance.  Consider joining all columns at once using pd.concat(axis=1) instead. To get a de-fragmented frame, use `newframe = frame.copy()`\n",
      "  pcaBiplotData.loc[index, columnname] = None\n",
      "/tmp/ipykernel_36646/1484095954.py:11: PerformanceWarning: DataFrame is highly fragmented.  This is usually the result of calling `frame.insert` many times, which has poor performance.  Consider joining all columns at once using pd.concat(axis=1) instead. To get a de-fragmented frame, use `newframe = frame.copy()`\n",
      "  pcaBiplotData.loc[index, columnname] = None\n",
      "/tmp/ipykernel_36646/1484095954.py:11: PerformanceWarning: DataFrame is highly fragmented.  This is usually the result of calling `frame.insert` many times, which has poor performance.  Consider joining all columns at once using pd.concat(axis=1) instead. To get a de-fragmented frame, use `newframe = frame.copy()`\n",
      "  pcaBiplotData.loc[index, columnname] = None\n",
      "/tmp/ipykernel_36646/1484095954.py:11: PerformanceWarning: DataFrame is highly fragmented.  This is usually the result of calling `frame.insert` many times, which has poor performance.  Consider joining all columns at once using pd.concat(axis=1) instead. To get a de-fragmented frame, use `newframe = frame.copy()`\n",
      "  pcaBiplotData.loc[index, columnname] = None\n",
      "/tmp/ipykernel_36646/1484095954.py:11: PerformanceWarning: DataFrame is highly fragmented.  This is usually the result of calling `frame.insert` many times, which has poor performance.  Consider joining all columns at once using pd.concat(axis=1) instead. To get a de-fragmented frame, use `newframe = frame.copy()`\n",
      "  pcaBiplotData.loc[index, columnname] = None\n",
      "/tmp/ipykernel_36646/1484095954.py:11: PerformanceWarning: DataFrame is highly fragmented.  This is usually the result of calling `frame.insert` many times, which has poor performance.  Consider joining all columns at once using pd.concat(axis=1) instead. To get a de-fragmented frame, use `newframe = frame.copy()`\n",
      "  pcaBiplotData.loc[index, columnname] = None\n",
      "/tmp/ipykernel_36646/1484095954.py:11: PerformanceWarning: DataFrame is highly fragmented.  This is usually the result of calling `frame.insert` many times, which has poor performance.  Consider joining all columns at once using pd.concat(axis=1) instead. To get a de-fragmented frame, use `newframe = frame.copy()`\n",
      "  pcaBiplotData.loc[index, columnname] = None\n",
      "/tmp/ipykernel_36646/1484095954.py:11: PerformanceWarning: DataFrame is highly fragmented.  This is usually the result of calling `frame.insert` many times, which has poor performance.  Consider joining all columns at once using pd.concat(axis=1) instead. To get a de-fragmented frame, use `newframe = frame.copy()`\n",
      "  pcaBiplotData.loc[index, columnname] = None\n",
      "/tmp/ipykernel_36646/1484095954.py:11: PerformanceWarning: DataFrame is highly fragmented.  This is usually the result of calling `frame.insert` many times, which has poor performance.  Consider joining all columns at once using pd.concat(axis=1) instead. To get a de-fragmented frame, use `newframe = frame.copy()`\n",
      "  pcaBiplotData.loc[index, columnname] = None\n",
      "/tmp/ipykernel_36646/1484095954.py:11: PerformanceWarning: DataFrame is highly fragmented.  This is usually the result of calling `frame.insert` many times, which has poor performance.  Consider joining all columns at once using pd.concat(axis=1) instead. To get a de-fragmented frame, use `newframe = frame.copy()`\n",
      "  pcaBiplotData.loc[index, columnname] = None\n",
      "/tmp/ipykernel_36646/1484095954.py:11: PerformanceWarning: DataFrame is highly fragmented.  This is usually the result of calling `frame.insert` many times, which has poor performance.  Consider joining all columns at once using pd.concat(axis=1) instead. To get a de-fragmented frame, use `newframe = frame.copy()`\n",
      "  pcaBiplotData.loc[index, columnname] = None\n",
      "/tmp/ipykernel_36646/1484095954.py:11: PerformanceWarning: DataFrame is highly fragmented.  This is usually the result of calling `frame.insert` many times, which has poor performance.  Consider joining all columns at once using pd.concat(axis=1) instead. To get a de-fragmented frame, use `newframe = frame.copy()`\n",
      "  pcaBiplotData.loc[index, columnname] = None\n",
      "/tmp/ipykernel_36646/1484095954.py:11: PerformanceWarning: DataFrame is highly fragmented.  This is usually the result of calling `frame.insert` many times, which has poor performance.  Consider joining all columns at once using pd.concat(axis=1) instead. To get a de-fragmented frame, use `newframe = frame.copy()`\n",
      "  pcaBiplotData.loc[index, columnname] = None\n",
      "/tmp/ipykernel_36646/1484095954.py:11: PerformanceWarning: DataFrame is highly fragmented.  This is usually the result of calling `frame.insert` many times, which has poor performance.  Consider joining all columns at once using pd.concat(axis=1) instead. To get a de-fragmented frame, use `newframe = frame.copy()`\n",
      "  pcaBiplotData.loc[index, columnname] = None\n",
      "/tmp/ipykernel_36646/1484095954.py:11: PerformanceWarning: DataFrame is highly fragmented.  This is usually the result of calling `frame.insert` many times, which has poor performance.  Consider joining all columns at once using pd.concat(axis=1) instead. To get a de-fragmented frame, use `newframe = frame.copy()`\n",
      "  pcaBiplotData.loc[index, columnname] = None\n",
      "/tmp/ipykernel_36646/1484095954.py:11: PerformanceWarning: DataFrame is highly fragmented.  This is usually the result of calling `frame.insert` many times, which has poor performance.  Consider joining all columns at once using pd.concat(axis=1) instead. To get a de-fragmented frame, use `newframe = frame.copy()`\n",
      "  pcaBiplotData.loc[index, columnname] = None\n",
      "/tmp/ipykernel_36646/1484095954.py:11: PerformanceWarning: DataFrame is highly fragmented.  This is usually the result of calling `frame.insert` many times, which has poor performance.  Consider joining all columns at once using pd.concat(axis=1) instead. To get a de-fragmented frame, use `newframe = frame.copy()`\n",
      "  pcaBiplotData.loc[index, columnname] = None\n",
      "/tmp/ipykernel_36646/1484095954.py:11: PerformanceWarning: DataFrame is highly fragmented.  This is usually the result of calling `frame.insert` many times, which has poor performance.  Consider joining all columns at once using pd.concat(axis=1) instead. To get a de-fragmented frame, use `newframe = frame.copy()`\n",
      "  pcaBiplotData.loc[index, columnname] = None\n",
      "/tmp/ipykernel_36646/1484095954.py:11: PerformanceWarning: DataFrame is highly fragmented.  This is usually the result of calling `frame.insert` many times, which has poor performance.  Consider joining all columns at once using pd.concat(axis=1) instead. To get a de-fragmented frame, use `newframe = frame.copy()`\n",
      "  pcaBiplotData.loc[index, columnname] = None\n",
      "/tmp/ipykernel_36646/1484095954.py:11: PerformanceWarning: DataFrame is highly fragmented.  This is usually the result of calling `frame.insert` many times, which has poor performance.  Consider joining all columns at once using pd.concat(axis=1) instead. To get a de-fragmented frame, use `newframe = frame.copy()`\n",
      "  pcaBiplotData.loc[index, columnname] = None\n",
      "/tmp/ipykernel_36646/1484095954.py:11: PerformanceWarning: DataFrame is highly fragmented.  This is usually the result of calling `frame.insert` many times, which has poor performance.  Consider joining all columns at once using pd.concat(axis=1) instead. To get a de-fragmented frame, use `newframe = frame.copy()`\n",
      "  pcaBiplotData.loc[index, columnname] = None\n",
      "/tmp/ipykernel_36646/1484095954.py:11: PerformanceWarning: DataFrame is highly fragmented.  This is usually the result of calling `frame.insert` many times, which has poor performance.  Consider joining all columns at once using pd.concat(axis=1) instead. To get a de-fragmented frame, use `newframe = frame.copy()`\n",
      "  pcaBiplotData.loc[index, columnname] = None\n",
      "/tmp/ipykernel_36646/1484095954.py:11: PerformanceWarning: DataFrame is highly fragmented.  This is usually the result of calling `frame.insert` many times, which has poor performance.  Consider joining all columns at once using pd.concat(axis=1) instead. To get a de-fragmented frame, use `newframe = frame.copy()`\n",
      "  pcaBiplotData.loc[index, columnname] = None\n",
      "/tmp/ipykernel_36646/1484095954.py:11: PerformanceWarning: DataFrame is highly fragmented.  This is usually the result of calling `frame.insert` many times, which has poor performance.  Consider joining all columns at once using pd.concat(axis=1) instead. To get a de-fragmented frame, use `newframe = frame.copy()`\n",
      "  pcaBiplotData.loc[index, columnname] = None\n",
      "/tmp/ipykernel_36646/1484095954.py:11: PerformanceWarning: DataFrame is highly fragmented.  This is usually the result of calling `frame.insert` many times, which has poor performance.  Consider joining all columns at once using pd.concat(axis=1) instead. To get a de-fragmented frame, use `newframe = frame.copy()`\n",
      "  pcaBiplotData.loc[index, columnname] = None\n",
      "/tmp/ipykernel_36646/1484095954.py:11: PerformanceWarning: DataFrame is highly fragmented.  This is usually the result of calling `frame.insert` many times, which has poor performance.  Consider joining all columns at once using pd.concat(axis=1) instead. To get a de-fragmented frame, use `newframe = frame.copy()`\n",
      "  pcaBiplotData.loc[index, columnname] = None\n",
      "/tmp/ipykernel_36646/1484095954.py:11: PerformanceWarning: DataFrame is highly fragmented.  This is usually the result of calling `frame.insert` many times, which has poor performance.  Consider joining all columns at once using pd.concat(axis=1) instead. To get a de-fragmented frame, use `newframe = frame.copy()`\n",
      "  pcaBiplotData.loc[index, columnname] = None\n",
      "/tmp/ipykernel_36646/1484095954.py:11: PerformanceWarning: DataFrame is highly fragmented.  This is usually the result of calling `frame.insert` many times, which has poor performance.  Consider joining all columns at once using pd.concat(axis=1) instead. To get a de-fragmented frame, use `newframe = frame.copy()`\n",
      "  pcaBiplotData.loc[index, columnname] = None\n",
      "/tmp/ipykernel_36646/1484095954.py:11: PerformanceWarning: DataFrame is highly fragmented.  This is usually the result of calling `frame.insert` many times, which has poor performance.  Consider joining all columns at once using pd.concat(axis=1) instead. To get a de-fragmented frame, use `newframe = frame.copy()`\n",
      "  pcaBiplotData.loc[index, columnname] = None\n",
      "/tmp/ipykernel_36646/1484095954.py:11: PerformanceWarning: DataFrame is highly fragmented.  This is usually the result of calling `frame.insert` many times, which has poor performance.  Consider joining all columns at once using pd.concat(axis=1) instead. To get a de-fragmented frame, use `newframe = frame.copy()`\n",
      "  pcaBiplotData.loc[index, columnname] = None\n",
      "/tmp/ipykernel_36646/1484095954.py:11: PerformanceWarning: DataFrame is highly fragmented.  This is usually the result of calling `frame.insert` many times, which has poor performance.  Consider joining all columns at once using pd.concat(axis=1) instead. To get a de-fragmented frame, use `newframe = frame.copy()`\n",
      "  pcaBiplotData.loc[index, columnname] = None\n",
      "/tmp/ipykernel_36646/1484095954.py:11: PerformanceWarning: DataFrame is highly fragmented.  This is usually the result of calling `frame.insert` many times, which has poor performance.  Consider joining all columns at once using pd.concat(axis=1) instead. To get a de-fragmented frame, use `newframe = frame.copy()`\n",
      "  pcaBiplotData.loc[index, columnname] = None\n",
      "/tmp/ipykernel_36646/1484095954.py:11: PerformanceWarning: DataFrame is highly fragmented.  This is usually the result of calling `frame.insert` many times, which has poor performance.  Consider joining all columns at once using pd.concat(axis=1) instead. To get a de-fragmented frame, use `newframe = frame.copy()`\n",
      "  pcaBiplotData.loc[index, columnname] = None\n",
      "/tmp/ipykernel_36646/1484095954.py:11: PerformanceWarning: DataFrame is highly fragmented.  This is usually the result of calling `frame.insert` many times, which has poor performance.  Consider joining all columns at once using pd.concat(axis=1) instead. To get a de-fragmented frame, use `newframe = frame.copy()`\n",
      "  pcaBiplotData.loc[index, columnname] = None\n",
      "/tmp/ipykernel_36646/1484095954.py:11: PerformanceWarning: DataFrame is highly fragmented.  This is usually the result of calling `frame.insert` many times, which has poor performance.  Consider joining all columns at once using pd.concat(axis=1) instead. To get a de-fragmented frame, use `newframe = frame.copy()`\n",
      "  pcaBiplotData.loc[index, columnname] = None\n",
      "/tmp/ipykernel_36646/1484095954.py:11: PerformanceWarning: DataFrame is highly fragmented.  This is usually the result of calling `frame.insert` many times, which has poor performance.  Consider joining all columns at once using pd.concat(axis=1) instead. To get a de-fragmented frame, use `newframe = frame.copy()`\n",
      "  pcaBiplotData.loc[index, columnname] = None\n",
      "/tmp/ipykernel_36646/1484095954.py:11: PerformanceWarning: DataFrame is highly fragmented.  This is usually the result of calling `frame.insert` many times, which has poor performance.  Consider joining all columns at once using pd.concat(axis=1) instead. To get a de-fragmented frame, use `newframe = frame.copy()`\n",
      "  pcaBiplotData.loc[index, columnname] = None\n",
      "/tmp/ipykernel_36646/1484095954.py:11: PerformanceWarning: DataFrame is highly fragmented.  This is usually the result of calling `frame.insert` many times, which has poor performance.  Consider joining all columns at once using pd.concat(axis=1) instead. To get a de-fragmented frame, use `newframe = frame.copy()`\n",
      "  pcaBiplotData.loc[index, columnname] = None\n",
      "/tmp/ipykernel_36646/1484095954.py:11: PerformanceWarning: DataFrame is highly fragmented.  This is usually the result of calling `frame.insert` many times, which has poor performance.  Consider joining all columns at once using pd.concat(axis=1) instead. To get a de-fragmented frame, use `newframe = frame.copy()`\n",
      "  pcaBiplotData.loc[index, columnname] = None\n",
      "/tmp/ipykernel_36646/1484095954.py:11: PerformanceWarning: DataFrame is highly fragmented.  This is usually the result of calling `frame.insert` many times, which has poor performance.  Consider joining all columns at once using pd.concat(axis=1) instead. To get a de-fragmented frame, use `newframe = frame.copy()`\n",
      "  pcaBiplotData.loc[index, columnname] = None\n",
      "/tmp/ipykernel_36646/1484095954.py:11: PerformanceWarning: DataFrame is highly fragmented.  This is usually the result of calling `frame.insert` many times, which has poor performance.  Consider joining all columns at once using pd.concat(axis=1) instead. To get a de-fragmented frame, use `newframe = frame.copy()`\n",
      "  pcaBiplotData.loc[index, columnname] = None\n",
      "/tmp/ipykernel_36646/1484095954.py:11: PerformanceWarning: DataFrame is highly fragmented.  This is usually the result of calling `frame.insert` many times, which has poor performance.  Consider joining all columns at once using pd.concat(axis=1) instead. To get a de-fragmented frame, use `newframe = frame.copy()`\n",
      "  pcaBiplotData.loc[index, columnname] = None\n",
      "/tmp/ipykernel_36646/1484095954.py:11: PerformanceWarning: DataFrame is highly fragmented.  This is usually the result of calling `frame.insert` many times, which has poor performance.  Consider joining all columns at once using pd.concat(axis=1) instead. To get a de-fragmented frame, use `newframe = frame.copy()`\n",
      "  pcaBiplotData.loc[index, columnname] = None\n",
      "/tmp/ipykernel_36646/1484095954.py:11: PerformanceWarning: DataFrame is highly fragmented.  This is usually the result of calling `frame.insert` many times, which has poor performance.  Consider joining all columns at once using pd.concat(axis=1) instead. To get a de-fragmented frame, use `newframe = frame.copy()`\n",
      "  pcaBiplotData.loc[index, columnname] = None\n",
      "/tmp/ipykernel_36646/1484095954.py:11: PerformanceWarning: DataFrame is highly fragmented.  This is usually the result of calling `frame.insert` many times, which has poor performance.  Consider joining all columns at once using pd.concat(axis=1) instead. To get a de-fragmented frame, use `newframe = frame.copy()`\n",
      "  pcaBiplotData.loc[index, columnname] = None\n",
      "/tmp/ipykernel_36646/1484095954.py:11: PerformanceWarning: DataFrame is highly fragmented.  This is usually the result of calling `frame.insert` many times, which has poor performance.  Consider joining all columns at once using pd.concat(axis=1) instead. To get a de-fragmented frame, use `newframe = frame.copy()`\n",
      "  pcaBiplotData.loc[index, columnname] = None\n",
      "/tmp/ipykernel_36646/1484095954.py:11: PerformanceWarning: DataFrame is highly fragmented.  This is usually the result of calling `frame.insert` many times, which has poor performance.  Consider joining all columns at once using pd.concat(axis=1) instead. To get a de-fragmented frame, use `newframe = frame.copy()`\n",
      "  pcaBiplotData.loc[index, columnname] = None\n",
      "/tmp/ipykernel_36646/1484095954.py:11: PerformanceWarning: DataFrame is highly fragmented.  This is usually the result of calling `frame.insert` many times, which has poor performance.  Consider joining all columns at once using pd.concat(axis=1) instead. To get a de-fragmented frame, use `newframe = frame.copy()`\n",
      "  pcaBiplotData.loc[index, columnname] = None\n",
      "/tmp/ipykernel_36646/1484095954.py:11: PerformanceWarning: DataFrame is highly fragmented.  This is usually the result of calling `frame.insert` many times, which has poor performance.  Consider joining all columns at once using pd.concat(axis=1) instead. To get a de-fragmented frame, use `newframe = frame.copy()`\n",
      "  pcaBiplotData.loc[index, columnname] = None\n",
      "/tmp/ipykernel_36646/1484095954.py:11: PerformanceWarning: DataFrame is highly fragmented.  This is usually the result of calling `frame.insert` many times, which has poor performance.  Consider joining all columns at once using pd.concat(axis=1) instead. To get a de-fragmented frame, use `newframe = frame.copy()`\n",
      "  pcaBiplotData.loc[index, columnname] = None\n",
      "/tmp/ipykernel_36646/1484095954.py:11: PerformanceWarning: DataFrame is highly fragmented.  This is usually the result of calling `frame.insert` many times, which has poor performance.  Consider joining all columns at once using pd.concat(axis=1) instead. To get a de-fragmented frame, use `newframe = frame.copy()`\n",
      "  pcaBiplotData.loc[index, columnname] = None\n",
      "/tmp/ipykernel_36646/1484095954.py:11: PerformanceWarning: DataFrame is highly fragmented.  This is usually the result of calling `frame.insert` many times, which has poor performance.  Consider joining all columns at once using pd.concat(axis=1) instead. To get a de-fragmented frame, use `newframe = frame.copy()`\n",
      "  pcaBiplotData.loc[index, columnname] = None\n",
      "/tmp/ipykernel_36646/1484095954.py:11: PerformanceWarning: DataFrame is highly fragmented.  This is usually the result of calling `frame.insert` many times, which has poor performance.  Consider joining all columns at once using pd.concat(axis=1) instead. To get a de-fragmented frame, use `newframe = frame.copy()`\n",
      "  pcaBiplotData.loc[index, columnname] = None\n",
      "/tmp/ipykernel_36646/1484095954.py:11: PerformanceWarning: DataFrame is highly fragmented.  This is usually the result of calling `frame.insert` many times, which has poor performance.  Consider joining all columns at once using pd.concat(axis=1) instead. To get a de-fragmented frame, use `newframe = frame.copy()`\n",
      "  pcaBiplotData.loc[index, columnname] = None\n",
      "/tmp/ipykernel_36646/1484095954.py:11: PerformanceWarning: DataFrame is highly fragmented.  This is usually the result of calling `frame.insert` many times, which has poor performance.  Consider joining all columns at once using pd.concat(axis=1) instead. To get a de-fragmented frame, use `newframe = frame.copy()`\n",
      "  pcaBiplotData.loc[index, columnname] = None\n",
      "/tmp/ipykernel_36646/1484095954.py:11: PerformanceWarning: DataFrame is highly fragmented.  This is usually the result of calling `frame.insert` many times, which has poor performance.  Consider joining all columns at once using pd.concat(axis=1) instead. To get a de-fragmented frame, use `newframe = frame.copy()`\n",
      "  pcaBiplotData.loc[index, columnname] = None\n",
      "/tmp/ipykernel_36646/1484095954.py:11: PerformanceWarning: DataFrame is highly fragmented.  This is usually the result of calling `frame.insert` many times, which has poor performance.  Consider joining all columns at once using pd.concat(axis=1) instead. To get a de-fragmented frame, use `newframe = frame.copy()`\n",
      "  pcaBiplotData.loc[index, columnname] = None\n",
      "/tmp/ipykernel_36646/1484095954.py:11: PerformanceWarning: DataFrame is highly fragmented.  This is usually the result of calling `frame.insert` many times, which has poor performance.  Consider joining all columns at once using pd.concat(axis=1) instead. To get a de-fragmented frame, use `newframe = frame.copy()`\n",
      "  pcaBiplotData.loc[index, columnname] = None\n",
      "/tmp/ipykernel_36646/1484095954.py:11: PerformanceWarning: DataFrame is highly fragmented.  This is usually the result of calling `frame.insert` many times, which has poor performance.  Consider joining all columns at once using pd.concat(axis=1) instead. To get a de-fragmented frame, use `newframe = frame.copy()`\n",
      "  pcaBiplotData.loc[index, columnname] = None\n",
      "/tmp/ipykernel_36646/1484095954.py:11: PerformanceWarning: DataFrame is highly fragmented.  This is usually the result of calling `frame.insert` many times, which has poor performance.  Consider joining all columns at once using pd.concat(axis=1) instead. To get a de-fragmented frame, use `newframe = frame.copy()`\n",
      "  pcaBiplotData.loc[index, columnname] = None\n",
      "/tmp/ipykernel_36646/1484095954.py:11: PerformanceWarning: DataFrame is highly fragmented.  This is usually the result of calling `frame.insert` many times, which has poor performance.  Consider joining all columns at once using pd.concat(axis=1) instead. To get a de-fragmented frame, use `newframe = frame.copy()`\n",
      "  pcaBiplotData.loc[index, columnname] = None\n",
      "/tmp/ipykernel_36646/1484095954.py:11: PerformanceWarning: DataFrame is highly fragmented.  This is usually the result of calling `frame.insert` many times, which has poor performance.  Consider joining all columns at once using pd.concat(axis=1) instead. To get a de-fragmented frame, use `newframe = frame.copy()`\n",
      "  pcaBiplotData.loc[index, columnname] = None\n",
      "/tmp/ipykernel_36646/1484095954.py:11: PerformanceWarning: DataFrame is highly fragmented.  This is usually the result of calling `frame.insert` many times, which has poor performance.  Consider joining all columns at once using pd.concat(axis=1) instead. To get a de-fragmented frame, use `newframe = frame.copy()`\n",
      "  pcaBiplotData.loc[index, columnname] = None\n",
      "/tmp/ipykernel_36646/1484095954.py:11: PerformanceWarning: DataFrame is highly fragmented.  This is usually the result of calling `frame.insert` many times, which has poor performance.  Consider joining all columns at once using pd.concat(axis=1) instead. To get a de-fragmented frame, use `newframe = frame.copy()`\n",
      "  pcaBiplotData.loc[index, columnname] = None\n",
      "/tmp/ipykernel_36646/1484095954.py:11: PerformanceWarning: DataFrame is highly fragmented.  This is usually the result of calling `frame.insert` many times, which has poor performance.  Consider joining all columns at once using pd.concat(axis=1) instead. To get a de-fragmented frame, use `newframe = frame.copy()`\n",
      "  pcaBiplotData.loc[index, columnname] = None\n",
      "/tmp/ipykernel_36646/1484095954.py:11: PerformanceWarning: DataFrame is highly fragmented.  This is usually the result of calling `frame.insert` many times, which has poor performance.  Consider joining all columns at once using pd.concat(axis=1) instead. To get a de-fragmented frame, use `newframe = frame.copy()`\n",
      "  pcaBiplotData.loc[index, columnname] = None\n",
      "/tmp/ipykernel_36646/1484095954.py:11: PerformanceWarning: DataFrame is highly fragmented.  This is usually the result of calling `frame.insert` many times, which has poor performance.  Consider joining all columns at once using pd.concat(axis=1) instead. To get a de-fragmented frame, use `newframe = frame.copy()`\n",
      "  pcaBiplotData.loc[index, columnname] = None\n",
      "/tmp/ipykernel_36646/1484095954.py:11: PerformanceWarning: DataFrame is highly fragmented.  This is usually the result of calling `frame.insert` many times, which has poor performance.  Consider joining all columns at once using pd.concat(axis=1) instead. To get a de-fragmented frame, use `newframe = frame.copy()`\n",
      "  pcaBiplotData.loc[index, columnname] = None\n",
      "/tmp/ipykernel_36646/1484095954.py:11: PerformanceWarning: DataFrame is highly fragmented.  This is usually the result of calling `frame.insert` many times, which has poor performance.  Consider joining all columns at once using pd.concat(axis=1) instead. To get a de-fragmented frame, use `newframe = frame.copy()`\n",
      "  pcaBiplotData.loc[index, columnname] = None\n",
      "/tmp/ipykernel_36646/1484095954.py:11: PerformanceWarning: DataFrame is highly fragmented.  This is usually the result of calling `frame.insert` many times, which has poor performance.  Consider joining all columns at once using pd.concat(axis=1) instead. To get a de-fragmented frame, use `newframe = frame.copy()`\n",
      "  pcaBiplotData.loc[index, columnname] = None\n",
      "/tmp/ipykernel_36646/1484095954.py:11: PerformanceWarning: DataFrame is highly fragmented.  This is usually the result of calling `frame.insert` many times, which has poor performance.  Consider joining all columns at once using pd.concat(axis=1) instead. To get a de-fragmented frame, use `newframe = frame.copy()`\n",
      "  pcaBiplotData.loc[index, columnname] = None\n",
      "/tmp/ipykernel_36646/1484095954.py:11: PerformanceWarning: DataFrame is highly fragmented.  This is usually the result of calling `frame.insert` many times, which has poor performance.  Consider joining all columns at once using pd.concat(axis=1) instead. To get a de-fragmented frame, use `newframe = frame.copy()`\n",
      "  pcaBiplotData.loc[index, columnname] = None\n",
      "/tmp/ipykernel_36646/1484095954.py:11: PerformanceWarning: DataFrame is highly fragmented.  This is usually the result of calling `frame.insert` many times, which has poor performance.  Consider joining all columns at once using pd.concat(axis=1) instead. To get a de-fragmented frame, use `newframe = frame.copy()`\n",
      "  pcaBiplotData.loc[index, columnname] = None\n",
      "/tmp/ipykernel_36646/1484095954.py:11: PerformanceWarning: DataFrame is highly fragmented.  This is usually the result of calling `frame.insert` many times, which has poor performance.  Consider joining all columns at once using pd.concat(axis=1) instead. To get a de-fragmented frame, use `newframe = frame.copy()`\n",
      "  pcaBiplotData.loc[index, columnname] = None\n",
      "/tmp/ipykernel_36646/1484095954.py:11: PerformanceWarning: DataFrame is highly fragmented.  This is usually the result of calling `frame.insert` many times, which has poor performance.  Consider joining all columns at once using pd.concat(axis=1) instead. To get a de-fragmented frame, use `newframe = frame.copy()`\n",
      "  pcaBiplotData.loc[index, columnname] = None\n",
      "/tmp/ipykernel_36646/1484095954.py:11: PerformanceWarning: DataFrame is highly fragmented.  This is usually the result of calling `frame.insert` many times, which has poor performance.  Consider joining all columns at once using pd.concat(axis=1) instead. To get a de-fragmented frame, use `newframe = frame.copy()`\n",
      "  pcaBiplotData.loc[index, columnname] = None\n",
      "/tmp/ipykernel_36646/1484095954.py:11: PerformanceWarning: DataFrame is highly fragmented.  This is usually the result of calling `frame.insert` many times, which has poor performance.  Consider joining all columns at once using pd.concat(axis=1) instead. To get a de-fragmented frame, use `newframe = frame.copy()`\n",
      "  pcaBiplotData.loc[index, columnname] = None\n",
      "/tmp/ipykernel_36646/1484095954.py:11: PerformanceWarning: DataFrame is highly fragmented.  This is usually the result of calling `frame.insert` many times, which has poor performance.  Consider joining all columns at once using pd.concat(axis=1) instead. To get a de-fragmented frame, use `newframe = frame.copy()`\n",
      "  pcaBiplotData.loc[index, columnname] = None\n",
      "/tmp/ipykernel_36646/1484095954.py:11: PerformanceWarning: DataFrame is highly fragmented.  This is usually the result of calling `frame.insert` many times, which has poor performance.  Consider joining all columns at once using pd.concat(axis=1) instead. To get a de-fragmented frame, use `newframe = frame.copy()`\n",
      "  pcaBiplotData.loc[index, columnname] = None\n",
      "/tmp/ipykernel_36646/1484095954.py:11: PerformanceWarning: DataFrame is highly fragmented.  This is usually the result of calling `frame.insert` many times, which has poor performance.  Consider joining all columns at once using pd.concat(axis=1) instead. To get a de-fragmented frame, use `newframe = frame.copy()`\n",
      "  pcaBiplotData.loc[index, columnname] = None\n",
      "/tmp/ipykernel_36646/1484095954.py:11: PerformanceWarning: DataFrame is highly fragmented.  This is usually the result of calling `frame.insert` many times, which has poor performance.  Consider joining all columns at once using pd.concat(axis=1) instead. To get a de-fragmented frame, use `newframe = frame.copy()`\n",
      "  pcaBiplotData.loc[index, columnname] = None\n",
      "/tmp/ipykernel_36646/1484095954.py:11: PerformanceWarning: DataFrame is highly fragmented.  This is usually the result of calling `frame.insert` many times, which has poor performance.  Consider joining all columns at once using pd.concat(axis=1) instead. To get a de-fragmented frame, use `newframe = frame.copy()`\n",
      "  pcaBiplotData.loc[index, columnname] = None\n",
      "/tmp/ipykernel_36646/1484095954.py:11: PerformanceWarning: DataFrame is highly fragmented.  This is usually the result of calling `frame.insert` many times, which has poor performance.  Consider joining all columns at once using pd.concat(axis=1) instead. To get a de-fragmented frame, use `newframe = frame.copy()`\n",
      "  pcaBiplotData.loc[index, columnname] = None\n",
      "/tmp/ipykernel_36646/1484095954.py:11: PerformanceWarning: DataFrame is highly fragmented.  This is usually the result of calling `frame.insert` many times, which has poor performance.  Consider joining all columns at once using pd.concat(axis=1) instead. To get a de-fragmented frame, use `newframe = frame.copy()`\n",
      "  pcaBiplotData.loc[index, columnname] = None\n",
      "/tmp/ipykernel_36646/1484095954.py:11: PerformanceWarning: DataFrame is highly fragmented.  This is usually the result of calling `frame.insert` many times, which has poor performance.  Consider joining all columns at once using pd.concat(axis=1) instead. To get a de-fragmented frame, use `newframe = frame.copy()`\n",
      "  pcaBiplotData.loc[index, columnname] = None\n",
      "/tmp/ipykernel_36646/1484095954.py:11: PerformanceWarning: DataFrame is highly fragmented.  This is usually the result of calling `frame.insert` many times, which has poor performance.  Consider joining all columns at once using pd.concat(axis=1) instead. To get a de-fragmented frame, use `newframe = frame.copy()`\n",
      "  pcaBiplotData.loc[index, columnname] = None\n",
      "/tmp/ipykernel_36646/1484095954.py:11: PerformanceWarning: DataFrame is highly fragmented.  This is usually the result of calling `frame.insert` many times, which has poor performance.  Consider joining all columns at once using pd.concat(axis=1) instead. To get a de-fragmented frame, use `newframe = frame.copy()`\n",
      "  pcaBiplotData.loc[index, columnname] = None\n",
      "/tmp/ipykernel_36646/1484095954.py:11: PerformanceWarning: DataFrame is highly fragmented.  This is usually the result of calling `frame.insert` many times, which has poor performance.  Consider joining all columns at once using pd.concat(axis=1) instead. To get a de-fragmented frame, use `newframe = frame.copy()`\n",
      "  pcaBiplotData.loc[index, columnname] = None\n",
      "/tmp/ipykernel_36646/1484095954.py:11: PerformanceWarning: DataFrame is highly fragmented.  This is usually the result of calling `frame.insert` many times, which has poor performance.  Consider joining all columns at once using pd.concat(axis=1) instead. To get a de-fragmented frame, use `newframe = frame.copy()`\n",
      "  pcaBiplotData.loc[index, columnname] = None\n",
      "/tmp/ipykernel_36646/1484095954.py:11: PerformanceWarning: DataFrame is highly fragmented.  This is usually the result of calling `frame.insert` many times, which has poor performance.  Consider joining all columns at once using pd.concat(axis=1) instead. To get a de-fragmented frame, use `newframe = frame.copy()`\n",
      "  pcaBiplotData.loc[index, columnname] = None\n",
      "/tmp/ipykernel_36646/1484095954.py:11: PerformanceWarning: DataFrame is highly fragmented.  This is usually the result of calling `frame.insert` many times, which has poor performance.  Consider joining all columns at once using pd.concat(axis=1) instead. To get a de-fragmented frame, use `newframe = frame.copy()`\n",
      "  pcaBiplotData.loc[index, columnname] = None\n",
      "/tmp/ipykernel_36646/1484095954.py:11: PerformanceWarning: DataFrame is highly fragmented.  This is usually the result of calling `frame.insert` many times, which has poor performance.  Consider joining all columns at once using pd.concat(axis=1) instead. To get a de-fragmented frame, use `newframe = frame.copy()`\n",
      "  pcaBiplotData.loc[index, columnname] = None\n",
      "/tmp/ipykernel_36646/1484095954.py:11: PerformanceWarning: DataFrame is highly fragmented.  This is usually the result of calling `frame.insert` many times, which has poor performance.  Consider joining all columns at once using pd.concat(axis=1) instead. To get a de-fragmented frame, use `newframe = frame.copy()`\n",
      "  pcaBiplotData.loc[index, columnname] = None\n",
      "/tmp/ipykernel_36646/1484095954.py:11: PerformanceWarning: DataFrame is highly fragmented.  This is usually the result of calling `frame.insert` many times, which has poor performance.  Consider joining all columns at once using pd.concat(axis=1) instead. To get a de-fragmented frame, use `newframe = frame.copy()`\n",
      "  pcaBiplotData.loc[index, columnname] = None\n",
      "/tmp/ipykernel_36646/1484095954.py:11: PerformanceWarning: DataFrame is highly fragmented.  This is usually the result of calling `frame.insert` many times, which has poor performance.  Consider joining all columns at once using pd.concat(axis=1) instead. To get a de-fragmented frame, use `newframe = frame.copy()`\n",
      "  pcaBiplotData.loc[index, columnname] = None\n",
      "/tmp/ipykernel_36646/1484095954.py:11: PerformanceWarning: DataFrame is highly fragmented.  This is usually the result of calling `frame.insert` many times, which has poor performance.  Consider joining all columns at once using pd.concat(axis=1) instead. To get a de-fragmented frame, use `newframe = frame.copy()`\n",
      "  pcaBiplotData.loc[index, columnname] = None\n",
      "/tmp/ipykernel_36646/1484095954.py:11: PerformanceWarning: DataFrame is highly fragmented.  This is usually the result of calling `frame.insert` many times, which has poor performance.  Consider joining all columns at once using pd.concat(axis=1) instead. To get a de-fragmented frame, use `newframe = frame.copy()`\n",
      "  pcaBiplotData.loc[index, columnname] = None\n",
      "/tmp/ipykernel_36646/1484095954.py:11: PerformanceWarning: DataFrame is highly fragmented.  This is usually the result of calling `frame.insert` many times, which has poor performance.  Consider joining all columns at once using pd.concat(axis=1) instead. To get a de-fragmented frame, use `newframe = frame.copy()`\n",
      "  pcaBiplotData.loc[index, columnname] = None\n",
      "/tmp/ipykernel_36646/1484095954.py:11: PerformanceWarning: DataFrame is highly fragmented.  This is usually the result of calling `frame.insert` many times, which has poor performance.  Consider joining all columns at once using pd.concat(axis=1) instead. To get a de-fragmented frame, use `newframe = frame.copy()`\n",
      "  pcaBiplotData.loc[index, columnname] = None\n",
      "/tmp/ipykernel_36646/1484095954.py:11: PerformanceWarning: DataFrame is highly fragmented.  This is usually the result of calling `frame.insert` many times, which has poor performance.  Consider joining all columns at once using pd.concat(axis=1) instead. To get a de-fragmented frame, use `newframe = frame.copy()`\n",
      "  pcaBiplotData.loc[index, columnname] = None\n",
      "/tmp/ipykernel_36646/1484095954.py:11: PerformanceWarning: DataFrame is highly fragmented.  This is usually the result of calling `frame.insert` many times, which has poor performance.  Consider joining all columns at once using pd.concat(axis=1) instead. To get a de-fragmented frame, use `newframe = frame.copy()`\n",
      "  pcaBiplotData.loc[index, columnname] = None\n",
      "/tmp/ipykernel_36646/1484095954.py:11: PerformanceWarning: DataFrame is highly fragmented.  This is usually the result of calling `frame.insert` many times, which has poor performance.  Consider joining all columns at once using pd.concat(axis=1) instead. To get a de-fragmented frame, use `newframe = frame.copy()`\n",
      "  pcaBiplotData.loc[index, columnname] = None\n",
      "/tmp/ipykernel_36646/1484095954.py:11: PerformanceWarning: DataFrame is highly fragmented.  This is usually the result of calling `frame.insert` many times, which has poor performance.  Consider joining all columns at once using pd.concat(axis=1) instead. To get a de-fragmented frame, use `newframe = frame.copy()`\n",
      "  pcaBiplotData.loc[index, columnname] = None\n",
      "/tmp/ipykernel_36646/1484095954.py:11: PerformanceWarning: DataFrame is highly fragmented.  This is usually the result of calling `frame.insert` many times, which has poor performance.  Consider joining all columns at once using pd.concat(axis=1) instead. To get a de-fragmented frame, use `newframe = frame.copy()`\n",
      "  pcaBiplotData.loc[index, columnname] = None\n",
      "/tmp/ipykernel_36646/1484095954.py:11: PerformanceWarning: DataFrame is highly fragmented.  This is usually the result of calling `frame.insert` many times, which has poor performance.  Consider joining all columns at once using pd.concat(axis=1) instead. To get a de-fragmented frame, use `newframe = frame.copy()`\n",
      "  pcaBiplotData.loc[index, columnname] = None\n",
      "/tmp/ipykernel_36646/1484095954.py:11: PerformanceWarning: DataFrame is highly fragmented.  This is usually the result of calling `frame.insert` many times, which has poor performance.  Consider joining all columns at once using pd.concat(axis=1) instead. To get a de-fragmented frame, use `newframe = frame.copy()`\n",
      "  pcaBiplotData.loc[index, columnname] = None\n",
      "/tmp/ipykernel_36646/1484095954.py:11: PerformanceWarning: DataFrame is highly fragmented.  This is usually the result of calling `frame.insert` many times, which has poor performance.  Consider joining all columns at once using pd.concat(axis=1) instead. To get a de-fragmented frame, use `newframe = frame.copy()`\n",
      "  pcaBiplotData.loc[index, columnname] = None\n",
      "/tmp/ipykernel_36646/1484095954.py:11: PerformanceWarning: DataFrame is highly fragmented.  This is usually the result of calling `frame.insert` many times, which has poor performance.  Consider joining all columns at once using pd.concat(axis=1) instead. To get a de-fragmented frame, use `newframe = frame.copy()`\n",
      "  pcaBiplotData.loc[index, columnname] = None\n",
      "/tmp/ipykernel_36646/1484095954.py:11: PerformanceWarning: DataFrame is highly fragmented.  This is usually the result of calling `frame.insert` many times, which has poor performance.  Consider joining all columns at once using pd.concat(axis=1) instead. To get a de-fragmented frame, use `newframe = frame.copy()`\n",
      "  pcaBiplotData.loc[index, columnname] = None\n",
      "/tmp/ipykernel_36646/1484095954.py:11: PerformanceWarning: DataFrame is highly fragmented.  This is usually the result of calling `frame.insert` many times, which has poor performance.  Consider joining all columns at once using pd.concat(axis=1) instead. To get a de-fragmented frame, use `newframe = frame.copy()`\n",
      "  pcaBiplotData.loc[index, columnname] = None\n",
      "/tmp/ipykernel_36646/1484095954.py:11: PerformanceWarning: DataFrame is highly fragmented.  This is usually the result of calling `frame.insert` many times, which has poor performance.  Consider joining all columns at once using pd.concat(axis=1) instead. To get a de-fragmented frame, use `newframe = frame.copy()`\n",
      "  pcaBiplotData.loc[index, columnname] = None\n",
      "/tmp/ipykernel_36646/1484095954.py:11: PerformanceWarning: DataFrame is highly fragmented.  This is usually the result of calling `frame.insert` many times, which has poor performance.  Consider joining all columns at once using pd.concat(axis=1) instead. To get a de-fragmented frame, use `newframe = frame.copy()`\n",
      "  pcaBiplotData.loc[index, columnname] = None\n",
      "/tmp/ipykernel_36646/1484095954.py:11: PerformanceWarning: DataFrame is highly fragmented.  This is usually the result of calling `frame.insert` many times, which has poor performance.  Consider joining all columns at once using pd.concat(axis=1) instead. To get a de-fragmented frame, use `newframe = frame.copy()`\n",
      "  pcaBiplotData.loc[index, columnname] = None\n",
      "/tmp/ipykernel_36646/1484095954.py:11: PerformanceWarning: DataFrame is highly fragmented.  This is usually the result of calling `frame.insert` many times, which has poor performance.  Consider joining all columns at once using pd.concat(axis=1) instead. To get a de-fragmented frame, use `newframe = frame.copy()`\n",
      "  pcaBiplotData.loc[index, columnname] = None\n",
      "/tmp/ipykernel_36646/1484095954.py:11: PerformanceWarning: DataFrame is highly fragmented.  This is usually the result of calling `frame.insert` many times, which has poor performance.  Consider joining all columns at once using pd.concat(axis=1) instead. To get a de-fragmented frame, use `newframe = frame.copy()`\n",
      "  pcaBiplotData.loc[index, columnname] = None\n",
      "/tmp/ipykernel_36646/1484095954.py:11: PerformanceWarning: DataFrame is highly fragmented.  This is usually the result of calling `frame.insert` many times, which has poor performance.  Consider joining all columns at once using pd.concat(axis=1) instead. To get a de-fragmented frame, use `newframe = frame.copy()`\n",
      "  pcaBiplotData.loc[index, columnname] = None\n",
      "/tmp/ipykernel_36646/1484095954.py:11: PerformanceWarning: DataFrame is highly fragmented.  This is usually the result of calling `frame.insert` many times, which has poor performance.  Consider joining all columns at once using pd.concat(axis=1) instead. To get a de-fragmented frame, use `newframe = frame.copy()`\n",
      "  pcaBiplotData.loc[index, columnname] = None\n",
      "/tmp/ipykernel_36646/1484095954.py:11: PerformanceWarning: DataFrame is highly fragmented.  This is usually the result of calling `frame.insert` many times, which has poor performance.  Consider joining all columns at once using pd.concat(axis=1) instead. To get a de-fragmented frame, use `newframe = frame.copy()`\n",
      "  pcaBiplotData.loc[index, columnname] = None\n",
      "/tmp/ipykernel_36646/1484095954.py:11: PerformanceWarning: DataFrame is highly fragmented.  This is usually the result of calling `frame.insert` many times, which has poor performance.  Consider joining all columns at once using pd.concat(axis=1) instead. To get a de-fragmented frame, use `newframe = frame.copy()`\n",
      "  pcaBiplotData.loc[index, columnname] = None\n",
      "/tmp/ipykernel_36646/1484095954.py:11: PerformanceWarning: DataFrame is highly fragmented.  This is usually the result of calling `frame.insert` many times, which has poor performance.  Consider joining all columns at once using pd.concat(axis=1) instead. To get a de-fragmented frame, use `newframe = frame.copy()`\n",
      "  pcaBiplotData.loc[index, columnname] = None\n",
      "/tmp/ipykernel_36646/1484095954.py:11: PerformanceWarning: DataFrame is highly fragmented.  This is usually the result of calling `frame.insert` many times, which has poor performance.  Consider joining all columns at once using pd.concat(axis=1) instead. To get a de-fragmented frame, use `newframe = frame.copy()`\n",
      "  pcaBiplotData.loc[index, columnname] = None\n",
      "/tmp/ipykernel_36646/1484095954.py:11: PerformanceWarning: DataFrame is highly fragmented.  This is usually the result of calling `frame.insert` many times, which has poor performance.  Consider joining all columns at once using pd.concat(axis=1) instead. To get a de-fragmented frame, use `newframe = frame.copy()`\n",
      "  pcaBiplotData.loc[index, columnname] = None\n",
      "/tmp/ipykernel_36646/1484095954.py:11: PerformanceWarning: DataFrame is highly fragmented.  This is usually the result of calling `frame.insert` many times, which has poor performance.  Consider joining all columns at once using pd.concat(axis=1) instead. To get a de-fragmented frame, use `newframe = frame.copy()`\n",
      "  pcaBiplotData.loc[index, columnname] = None\n",
      "/tmp/ipykernel_36646/1484095954.py:11: PerformanceWarning: DataFrame is highly fragmented.  This is usually the result of calling `frame.insert` many times, which has poor performance.  Consider joining all columns at once using pd.concat(axis=1) instead. To get a de-fragmented frame, use `newframe = frame.copy()`\n",
      "  pcaBiplotData.loc[index, columnname] = None\n",
      "/tmp/ipykernel_36646/1484095954.py:11: PerformanceWarning: DataFrame is highly fragmented.  This is usually the result of calling `frame.insert` many times, which has poor performance.  Consider joining all columns at once using pd.concat(axis=1) instead. To get a de-fragmented frame, use `newframe = frame.copy()`\n",
      "  pcaBiplotData.loc[index, columnname] = None\n",
      "/tmp/ipykernel_36646/1484095954.py:11: PerformanceWarning: DataFrame is highly fragmented.  This is usually the result of calling `frame.insert` many times, which has poor performance.  Consider joining all columns at once using pd.concat(axis=1) instead. To get a de-fragmented frame, use `newframe = frame.copy()`\n",
      "  pcaBiplotData.loc[index, columnname] = None\n",
      "/tmp/ipykernel_36646/1484095954.py:11: PerformanceWarning: DataFrame is highly fragmented.  This is usually the result of calling `frame.insert` many times, which has poor performance.  Consider joining all columns at once using pd.concat(axis=1) instead. To get a de-fragmented frame, use `newframe = frame.copy()`\n",
      "  pcaBiplotData.loc[index, columnname] = None\n",
      "/tmp/ipykernel_36646/1484095954.py:11: PerformanceWarning: DataFrame is highly fragmented.  This is usually the result of calling `frame.insert` many times, which has poor performance.  Consider joining all columns at once using pd.concat(axis=1) instead. To get a de-fragmented frame, use `newframe = frame.copy()`\n",
      "  pcaBiplotData.loc[index, columnname] = None\n",
      "/tmp/ipykernel_36646/1484095954.py:11: PerformanceWarning: DataFrame is highly fragmented.  This is usually the result of calling `frame.insert` many times, which has poor performance.  Consider joining all columns at once using pd.concat(axis=1) instead. To get a de-fragmented frame, use `newframe = frame.copy()`\n",
      "  pcaBiplotData.loc[index, columnname] = None\n",
      "/tmp/ipykernel_36646/1484095954.py:11: PerformanceWarning: DataFrame is highly fragmented.  This is usually the result of calling `frame.insert` many times, which has poor performance.  Consider joining all columns at once using pd.concat(axis=1) instead. To get a de-fragmented frame, use `newframe = frame.copy()`\n",
      "  pcaBiplotData.loc[index, columnname] = None\n",
      "/tmp/ipykernel_36646/1484095954.py:11: PerformanceWarning: DataFrame is highly fragmented.  This is usually the result of calling `frame.insert` many times, which has poor performance.  Consider joining all columns at once using pd.concat(axis=1) instead. To get a de-fragmented frame, use `newframe = frame.copy()`\n",
      "  pcaBiplotData.loc[index, columnname] = None\n",
      "/tmp/ipykernel_36646/1484095954.py:11: PerformanceWarning: DataFrame is highly fragmented.  This is usually the result of calling `frame.insert` many times, which has poor performance.  Consider joining all columns at once using pd.concat(axis=1) instead. To get a de-fragmented frame, use `newframe = frame.copy()`\n",
      "  pcaBiplotData.loc[index, columnname] = None\n",
      "/tmp/ipykernel_36646/1484095954.py:11: PerformanceWarning: DataFrame is highly fragmented.  This is usually the result of calling `frame.insert` many times, which has poor performance.  Consider joining all columns at once using pd.concat(axis=1) instead. To get a de-fragmented frame, use `newframe = frame.copy()`\n",
      "  pcaBiplotData.loc[index, columnname] = None\n",
      "/tmp/ipykernel_36646/1484095954.py:11: PerformanceWarning: DataFrame is highly fragmented.  This is usually the result of calling `frame.insert` many times, which has poor performance.  Consider joining all columns at once using pd.concat(axis=1) instead. To get a de-fragmented frame, use `newframe = frame.copy()`\n",
      "  pcaBiplotData.loc[index, columnname] = None\n",
      "/tmp/ipykernel_36646/1484095954.py:11: PerformanceWarning: DataFrame is highly fragmented.  This is usually the result of calling `frame.insert` many times, which has poor performance.  Consider joining all columns at once using pd.concat(axis=1) instead. To get a de-fragmented frame, use `newframe = frame.copy()`\n",
      "  pcaBiplotData.loc[index, columnname] = None\n",
      "/tmp/ipykernel_36646/1484095954.py:11: PerformanceWarning: DataFrame is highly fragmented.  This is usually the result of calling `frame.insert` many times, which has poor performance.  Consider joining all columns at once using pd.concat(axis=1) instead. To get a de-fragmented frame, use `newframe = frame.copy()`\n",
      "  pcaBiplotData.loc[index, columnname] = None\n",
      "/tmp/ipykernel_36646/1484095954.py:11: PerformanceWarning: DataFrame is highly fragmented.  This is usually the result of calling `frame.insert` many times, which has poor performance.  Consider joining all columns at once using pd.concat(axis=1) instead. To get a de-fragmented frame, use `newframe = frame.copy()`\n",
      "  pcaBiplotData.loc[index, columnname] = None\n",
      "/tmp/ipykernel_36646/1484095954.py:11: PerformanceWarning: DataFrame is highly fragmented.  This is usually the result of calling `frame.insert` many times, which has poor performance.  Consider joining all columns at once using pd.concat(axis=1) instead. To get a de-fragmented frame, use `newframe = frame.copy()`\n",
      "  pcaBiplotData.loc[index, columnname] = None\n",
      "/tmp/ipykernel_36646/1484095954.py:11: PerformanceWarning: DataFrame is highly fragmented.  This is usually the result of calling `frame.insert` many times, which has poor performance.  Consider joining all columns at once using pd.concat(axis=1) instead. To get a de-fragmented frame, use `newframe = frame.copy()`\n",
      "  pcaBiplotData.loc[index, columnname] = None\n",
      "/tmp/ipykernel_36646/1484095954.py:11: PerformanceWarning: DataFrame is highly fragmented.  This is usually the result of calling `frame.insert` many times, which has poor performance.  Consider joining all columns at once using pd.concat(axis=1) instead. To get a de-fragmented frame, use `newframe = frame.copy()`\n",
      "  pcaBiplotData.loc[index, columnname] = None\n",
      "/tmp/ipykernel_36646/1484095954.py:11: PerformanceWarning: DataFrame is highly fragmented.  This is usually the result of calling `frame.insert` many times, which has poor performance.  Consider joining all columns at once using pd.concat(axis=1) instead. To get a de-fragmented frame, use `newframe = frame.copy()`\n",
      "  pcaBiplotData.loc[index, columnname] = None\n",
      "/tmp/ipykernel_36646/1484095954.py:11: PerformanceWarning: DataFrame is highly fragmented.  This is usually the result of calling `frame.insert` many times, which has poor performance.  Consider joining all columns at once using pd.concat(axis=1) instead. To get a de-fragmented frame, use `newframe = frame.copy()`\n",
      "  pcaBiplotData.loc[index, columnname] = None\n",
      "/tmp/ipykernel_36646/1484095954.py:11: PerformanceWarning: DataFrame is highly fragmented.  This is usually the result of calling `frame.insert` many times, which has poor performance.  Consider joining all columns at once using pd.concat(axis=1) instead. To get a de-fragmented frame, use `newframe = frame.copy()`\n",
      "  pcaBiplotData.loc[index, columnname] = None\n",
      "/tmp/ipykernel_36646/1484095954.py:11: PerformanceWarning: DataFrame is highly fragmented.  This is usually the result of calling `frame.insert` many times, which has poor performance.  Consider joining all columns at once using pd.concat(axis=1) instead. To get a de-fragmented frame, use `newframe = frame.copy()`\n",
      "  pcaBiplotData.loc[index, columnname] = None\n",
      "/tmp/ipykernel_36646/1484095954.py:11: PerformanceWarning: DataFrame is highly fragmented.  This is usually the result of calling `frame.insert` many times, which has poor performance.  Consider joining all columns at once using pd.concat(axis=1) instead. To get a de-fragmented frame, use `newframe = frame.copy()`\n",
      "  pcaBiplotData.loc[index, columnname] = None\n",
      "/tmp/ipykernel_36646/1484095954.py:11: PerformanceWarning: DataFrame is highly fragmented.  This is usually the result of calling `frame.insert` many times, which has poor performance.  Consider joining all columns at once using pd.concat(axis=1) instead. To get a de-fragmented frame, use `newframe = frame.copy()`\n",
      "  pcaBiplotData.loc[index, columnname] = None\n",
      "/tmp/ipykernel_36646/1484095954.py:11: PerformanceWarning: DataFrame is highly fragmented.  This is usually the result of calling `frame.insert` many times, which has poor performance.  Consider joining all columns at once using pd.concat(axis=1) instead. To get a de-fragmented frame, use `newframe = frame.copy()`\n",
      "  pcaBiplotData.loc[index, columnname] = None\n",
      "/tmp/ipykernel_36646/1484095954.py:11: PerformanceWarning: DataFrame is highly fragmented.  This is usually the result of calling `frame.insert` many times, which has poor performance.  Consider joining all columns at once using pd.concat(axis=1) instead. To get a de-fragmented frame, use `newframe = frame.copy()`\n",
      "  pcaBiplotData.loc[index, columnname] = None\n",
      "/tmp/ipykernel_36646/1484095954.py:11: PerformanceWarning: DataFrame is highly fragmented.  This is usually the result of calling `frame.insert` many times, which has poor performance.  Consider joining all columns at once using pd.concat(axis=1) instead. To get a de-fragmented frame, use `newframe = frame.copy()`\n",
      "  pcaBiplotData.loc[index, columnname] = None\n",
      "/tmp/ipykernel_36646/1484095954.py:11: PerformanceWarning: DataFrame is highly fragmented.  This is usually the result of calling `frame.insert` many times, which has poor performance.  Consider joining all columns at once using pd.concat(axis=1) instead. To get a de-fragmented frame, use `newframe = frame.copy()`\n",
      "  pcaBiplotData.loc[index, columnname] = None\n",
      "/tmp/ipykernel_36646/1484095954.py:11: PerformanceWarning: DataFrame is highly fragmented.  This is usually the result of calling `frame.insert` many times, which has poor performance.  Consider joining all columns at once using pd.concat(axis=1) instead. To get a de-fragmented frame, use `newframe = frame.copy()`\n",
      "  pcaBiplotData.loc[index, columnname] = None\n",
      "/tmp/ipykernel_36646/1484095954.py:11: PerformanceWarning: DataFrame is highly fragmented.  This is usually the result of calling `frame.insert` many times, which has poor performance.  Consider joining all columns at once using pd.concat(axis=1) instead. To get a de-fragmented frame, use `newframe = frame.copy()`\n",
      "  pcaBiplotData.loc[index, columnname] = None\n",
      "/tmp/ipykernel_36646/1484095954.py:11: PerformanceWarning: DataFrame is highly fragmented.  This is usually the result of calling `frame.insert` many times, which has poor performance.  Consider joining all columns at once using pd.concat(axis=1) instead. To get a de-fragmented frame, use `newframe = frame.copy()`\n",
      "  pcaBiplotData.loc[index, columnname] = None\n",
      "/tmp/ipykernel_36646/1484095954.py:11: PerformanceWarning: DataFrame is highly fragmented.  This is usually the result of calling `frame.insert` many times, which has poor performance.  Consider joining all columns at once using pd.concat(axis=1) instead. To get a de-fragmented frame, use `newframe = frame.copy()`\n",
      "  pcaBiplotData.loc[index, columnname] = None\n",
      "/tmp/ipykernel_36646/1484095954.py:11: PerformanceWarning: DataFrame is highly fragmented.  This is usually the result of calling `frame.insert` many times, which has poor performance.  Consider joining all columns at once using pd.concat(axis=1) instead. To get a de-fragmented frame, use `newframe = frame.copy()`\n",
      "  pcaBiplotData.loc[index, columnname] = None\n",
      "/tmp/ipykernel_36646/1484095954.py:11: PerformanceWarning: DataFrame is highly fragmented.  This is usually the result of calling `frame.insert` many times, which has poor performance.  Consider joining all columns at once using pd.concat(axis=1) instead. To get a de-fragmented frame, use `newframe = frame.copy()`\n",
      "  pcaBiplotData.loc[index, columnname] = None\n",
      "/tmp/ipykernel_36646/1484095954.py:11: PerformanceWarning: DataFrame is highly fragmented.  This is usually the result of calling `frame.insert` many times, which has poor performance.  Consider joining all columns at once using pd.concat(axis=1) instead. To get a de-fragmented frame, use `newframe = frame.copy()`\n",
      "  pcaBiplotData.loc[index, columnname] = None\n",
      "/tmp/ipykernel_36646/1484095954.py:11: PerformanceWarning: DataFrame is highly fragmented.  This is usually the result of calling `frame.insert` many times, which has poor performance.  Consider joining all columns at once using pd.concat(axis=1) instead. To get a de-fragmented frame, use `newframe = frame.copy()`\n",
      "  pcaBiplotData.loc[index, columnname] = None\n",
      "/tmp/ipykernel_36646/1484095954.py:11: PerformanceWarning: DataFrame is highly fragmented.  This is usually the result of calling `frame.insert` many times, which has poor performance.  Consider joining all columns at once using pd.concat(axis=1) instead. To get a de-fragmented frame, use `newframe = frame.copy()`\n",
      "  pcaBiplotData.loc[index, columnname] = None\n",
      "/tmp/ipykernel_36646/1484095954.py:11: PerformanceWarning: DataFrame is highly fragmented.  This is usually the result of calling `frame.insert` many times, which has poor performance.  Consider joining all columns at once using pd.concat(axis=1) instead. To get a de-fragmented frame, use `newframe = frame.copy()`\n",
      "  pcaBiplotData.loc[index, columnname] = None\n",
      "/tmp/ipykernel_36646/1484095954.py:11: PerformanceWarning: DataFrame is highly fragmented.  This is usually the result of calling `frame.insert` many times, which has poor performance.  Consider joining all columns at once using pd.concat(axis=1) instead. To get a de-fragmented frame, use `newframe = frame.copy()`\n",
      "  pcaBiplotData.loc[index, columnname] = None\n",
      "/tmp/ipykernel_36646/1484095954.py:11: PerformanceWarning: DataFrame is highly fragmented.  This is usually the result of calling `frame.insert` many times, which has poor performance.  Consider joining all columns at once using pd.concat(axis=1) instead. To get a de-fragmented frame, use `newframe = frame.copy()`\n",
      "  pcaBiplotData.loc[index, columnname] = None\n",
      "/tmp/ipykernel_36646/1484095954.py:11: PerformanceWarning: DataFrame is highly fragmented.  This is usually the result of calling `frame.insert` many times, which has poor performance.  Consider joining all columns at once using pd.concat(axis=1) instead. To get a de-fragmented frame, use `newframe = frame.copy()`\n",
      "  pcaBiplotData.loc[index, columnname] = None\n",
      "/tmp/ipykernel_36646/1484095954.py:11: PerformanceWarning: DataFrame is highly fragmented.  This is usually the result of calling `frame.insert` many times, which has poor performance.  Consider joining all columns at once using pd.concat(axis=1) instead. To get a de-fragmented frame, use `newframe = frame.copy()`\n",
      "  pcaBiplotData.loc[index, columnname] = None\n",
      "/tmp/ipykernel_36646/1484095954.py:11: PerformanceWarning: DataFrame is highly fragmented.  This is usually the result of calling `frame.insert` many times, which has poor performance.  Consider joining all columns at once using pd.concat(axis=1) instead. To get a de-fragmented frame, use `newframe = frame.copy()`\n",
      "  pcaBiplotData.loc[index, columnname] = None\n",
      "/tmp/ipykernel_36646/1484095954.py:11: PerformanceWarning: DataFrame is highly fragmented.  This is usually the result of calling `frame.insert` many times, which has poor performance.  Consider joining all columns at once using pd.concat(axis=1) instead. To get a de-fragmented frame, use `newframe = frame.copy()`\n",
      "  pcaBiplotData.loc[index, columnname] = None\n",
      "/tmp/ipykernel_36646/1484095954.py:11: PerformanceWarning: DataFrame is highly fragmented.  This is usually the result of calling `frame.insert` many times, which has poor performance.  Consider joining all columns at once using pd.concat(axis=1) instead. To get a de-fragmented frame, use `newframe = frame.copy()`\n",
      "  pcaBiplotData.loc[index, columnname] = None\n",
      "/tmp/ipykernel_36646/1484095954.py:11: PerformanceWarning: DataFrame is highly fragmented.  This is usually the result of calling `frame.insert` many times, which has poor performance.  Consider joining all columns at once using pd.concat(axis=1) instead. To get a de-fragmented frame, use `newframe = frame.copy()`\n",
      "  pcaBiplotData.loc[index, columnname] = None\n",
      "/tmp/ipykernel_36646/1484095954.py:11: PerformanceWarning: DataFrame is highly fragmented.  This is usually the result of calling `frame.insert` many times, which has poor performance.  Consider joining all columns at once using pd.concat(axis=1) instead. To get a de-fragmented frame, use `newframe = frame.copy()`\n",
      "  pcaBiplotData.loc[index, columnname] = None\n",
      "/tmp/ipykernel_36646/1484095954.py:11: PerformanceWarning: DataFrame is highly fragmented.  This is usually the result of calling `frame.insert` many times, which has poor performance.  Consider joining all columns at once using pd.concat(axis=1) instead. To get a de-fragmented frame, use `newframe = frame.copy()`\n",
      "  pcaBiplotData.loc[index, columnname] = None\n",
      "/tmp/ipykernel_36646/1484095954.py:11: PerformanceWarning: DataFrame is highly fragmented.  This is usually the result of calling `frame.insert` many times, which has poor performance.  Consider joining all columns at once using pd.concat(axis=1) instead. To get a de-fragmented frame, use `newframe = frame.copy()`\n",
      "  pcaBiplotData.loc[index, columnname] = None\n",
      "/tmp/ipykernel_36646/1484095954.py:11: PerformanceWarning: DataFrame is highly fragmented.  This is usually the result of calling `frame.insert` many times, which has poor performance.  Consider joining all columns at once using pd.concat(axis=1) instead. To get a de-fragmented frame, use `newframe = frame.copy()`\n",
      "  pcaBiplotData.loc[index, columnname] = None\n",
      "/tmp/ipykernel_36646/1484095954.py:11: PerformanceWarning: DataFrame is highly fragmented.  This is usually the result of calling `frame.insert` many times, which has poor performance.  Consider joining all columns at once using pd.concat(axis=1) instead. To get a de-fragmented frame, use `newframe = frame.copy()`\n",
      "  pcaBiplotData.loc[index, columnname] = None\n",
      "/tmp/ipykernel_36646/1484095954.py:11: PerformanceWarning: DataFrame is highly fragmented.  This is usually the result of calling `frame.insert` many times, which has poor performance.  Consider joining all columns at once using pd.concat(axis=1) instead. To get a de-fragmented frame, use `newframe = frame.copy()`\n",
      "  pcaBiplotData.loc[index, columnname] = None\n",
      "/tmp/ipykernel_36646/1484095954.py:11: PerformanceWarning: DataFrame is highly fragmented.  This is usually the result of calling `frame.insert` many times, which has poor performance.  Consider joining all columns at once using pd.concat(axis=1) instead. To get a de-fragmented frame, use `newframe = frame.copy()`\n",
      "  pcaBiplotData.loc[index, columnname] = None\n",
      "/tmp/ipykernel_36646/1484095954.py:11: PerformanceWarning: DataFrame is highly fragmented.  This is usually the result of calling `frame.insert` many times, which has poor performance.  Consider joining all columns at once using pd.concat(axis=1) instead. To get a de-fragmented frame, use `newframe = frame.copy()`\n",
      "  pcaBiplotData.loc[index, columnname] = None\n",
      "/tmp/ipykernel_36646/1484095954.py:11: PerformanceWarning: DataFrame is highly fragmented.  This is usually the result of calling `frame.insert` many times, which has poor performance.  Consider joining all columns at once using pd.concat(axis=1) instead. To get a de-fragmented frame, use `newframe = frame.copy()`\n",
      "  pcaBiplotData.loc[index, columnname] = None\n",
      "/tmp/ipykernel_36646/1484095954.py:11: PerformanceWarning: DataFrame is highly fragmented.  This is usually the result of calling `frame.insert` many times, which has poor performance.  Consider joining all columns at once using pd.concat(axis=1) instead. To get a de-fragmented frame, use `newframe = frame.copy()`\n",
      "  pcaBiplotData.loc[index, columnname] = None\n",
      "/tmp/ipykernel_36646/1484095954.py:11: PerformanceWarning: DataFrame is highly fragmented.  This is usually the result of calling `frame.insert` many times, which has poor performance.  Consider joining all columns at once using pd.concat(axis=1) instead. To get a de-fragmented frame, use `newframe = frame.copy()`\n",
      "  pcaBiplotData.loc[index, columnname] = None\n",
      "/tmp/ipykernel_36646/1484095954.py:11: PerformanceWarning: DataFrame is highly fragmented.  This is usually the result of calling `frame.insert` many times, which has poor performance.  Consider joining all columns at once using pd.concat(axis=1) instead. To get a de-fragmented frame, use `newframe = frame.copy()`\n",
      "  pcaBiplotData.loc[index, columnname] = None\n",
      "/tmp/ipykernel_36646/1484095954.py:11: PerformanceWarning: DataFrame is highly fragmented.  This is usually the result of calling `frame.insert` many times, which has poor performance.  Consider joining all columns at once using pd.concat(axis=1) instead. To get a de-fragmented frame, use `newframe = frame.copy()`\n",
      "  pcaBiplotData.loc[index, columnname] = None\n",
      "/tmp/ipykernel_36646/1484095954.py:11: PerformanceWarning: DataFrame is highly fragmented.  This is usually the result of calling `frame.insert` many times, which has poor performance.  Consider joining all columns at once using pd.concat(axis=1) instead. To get a de-fragmented frame, use `newframe = frame.copy()`\n",
      "  pcaBiplotData.loc[index, columnname] = None\n",
      "/tmp/ipykernel_36646/1484095954.py:11: PerformanceWarning: DataFrame is highly fragmented.  This is usually the result of calling `frame.insert` many times, which has poor performance.  Consider joining all columns at once using pd.concat(axis=1) instead. To get a de-fragmented frame, use `newframe = frame.copy()`\n",
      "  pcaBiplotData.loc[index, columnname] = None\n",
      "/tmp/ipykernel_36646/1484095954.py:11: PerformanceWarning: DataFrame is highly fragmented.  This is usually the result of calling `frame.insert` many times, which has poor performance.  Consider joining all columns at once using pd.concat(axis=1) instead. To get a de-fragmented frame, use `newframe = frame.copy()`\n",
      "  pcaBiplotData.loc[index, columnname] = None\n",
      "/tmp/ipykernel_36646/1484095954.py:11: PerformanceWarning: DataFrame is highly fragmented.  This is usually the result of calling `frame.insert` many times, which has poor performance.  Consider joining all columns at once using pd.concat(axis=1) instead. To get a de-fragmented frame, use `newframe = frame.copy()`\n",
      "  pcaBiplotData.loc[index, columnname] = None\n"
     ]
    }
   ],
   "source": [
    "# Reshape data for pca analysis and plotting\n",
    "for i in range(len(df)):\n",
    "    for j in range(len(sources)):\n",
    "        if df.loc[i,sources[j]] != None:\n",
    "            index = (i*len(sources))+j\n",
    "            pcaBiplotData.loc[index, 'date' ] = pd.to_datetime(df['date'][i])\n",
    "            pcaBiplotData.loc[index, 'source' ] = sources[j]\n",
    "            for k in range(len(df['enc_oba'][99])):\n",
    "                columnname = 'enc'+str(k+1)\n",
    "                # initialize column, not sure this is necessary\n",
    "                pcaBiplotData.loc[index, columnname] = None\n",
    "                encoding = enc_col[j]\n",
    "                pcaBiplotData.loc[index, columnname] = df[encoding][i][k]\n",
    "pcaBiplotData = pcaBiplotData.reset_index()"
   ]
  },
  {
   "cell_type": "code",
   "execution_count": 38,
   "id": "7314fa1d",
   "metadata": {},
   "outputs": [],
   "source": [
    "pcaBiplotData['date'] = pd.to_datetime(pcaBiplotData['date'], format='%Y-%m-%d')"
   ]
  },
  {
   "cell_type": "code",
   "execution_count": 39,
   "id": "3278b20f",
   "metadata": {},
   "outputs": [],
   "source": [
    "# Selecting dataframe subset with columns that start with 'enc'\n",
    "# pcaBiplotData.loc[:, pcaBiplotData.columns.str.startswith('enc')]"
   ]
  },
  {
   "cell_type": "code",
   "execution_count": 40,
   "id": "e052535c",
   "metadata": {},
   "outputs": [],
   "source": [
    "# All encoding values are already on same scale\n",
    "pca = PCA(n_components = 2)\n",
    "pcafit = pca.fit_transform(pcaBiplotData.loc[:, pcaBiplotData.columns.str.startswith('enc')])"
   ]
  },
  {
   "cell_type": "code",
   "execution_count": 41,
   "id": "13d77205",
   "metadata": {},
   "outputs": [],
   "source": [
    "plot_data = pd.DataFrame()\n",
    "plot_data = pd.concat([pd.DataFrame(pcafit), pcaBiplotData['date'], pcaBiplotData['source']], axis=1, ignore_index=True)"
   ]
  },
  {
   "cell_type": "markdown",
   "id": "4dbd342f",
   "metadata": {},
   "source": [
    "<A HREF=\"https://plotly.com/python/discrete-color/#color-sequences-in-plotly-express\">Plotly discrete color palettes/sequences</A><BR><A HREF=\"https://plotly.com/python/plotly-express/\">Plotly Express docs</A>"
   ]
  },
  {
   "cell_type": "code",
   "execution_count": 42,
   "id": "0fc08def",
   "metadata": {},
   "outputs": [
    {
     "data": {
      "application/vnd.plotly.v1+json": {
       "config": {
        "plotlyServerURL": "https://plot.ly"
       },
       "data": [
        {
         "hovertemplate": "<b>%{hovertext}</b><br><br>color=text_oba<br>0=%{x}<br>1=%{y}<extra></extra>",
         "hovertext": [
          "2008-06-04T00:00:00",
          "2008-11-05T00:00:00",
          "2009-01-05T00:00:00",
          "2009-01-20T00:00:00",
          "2009-04-02T00:00:00",
          "2009-04-15T00:00:00",
          "2009-05-22T00:00:00",
          "2009-06-15T00:00:00",
          "2009-07-15T00:00:00",
          "2009-09-24T00:00:00",
          "2009-10-09T00:00:00",
          "2009-11-05T00:00:00",
          "2009-12-19T00:00:00",
          "2009-12-25T00:00:00",
          "2010-01-12T00:00:00",
          "2010-03-04T00:00:00",
          "2010-03-24T00:00:00",
          "2010-04-15T00:00:00",
          "2010-04-22T00:00:00",
          "2010-05-07T00:00:00",
          "2010-07-15T00:00:00",
          "2010-07-21T00:00:00",
          "2010-07-26T00:00:00",
          "2010-08-31T00:00:00",
          "2010-11-02T00:00:00",
          "2011-01-08T00:00:00",
          "2011-01-26T00:00:00",
          "2011-01-31T00:00:00",
          "2011-02-19T00:00:00",
          "2011-05-02T00:00:00",
          "2011-05-23T00:00:00",
          "2011-06-23T00:00:00",
          "2011-07-26T00:00:00",
          "2011-09-09T00:00:00",
          "2011-10-17T00:00:00",
          "2011-11-17T00:00:00",
          "2011-12-16T00:00:00",
          "2012-01-06T00:00:00",
          "2012-01-25T00:00:00",
          "2012-03-27T00:00:00",
          "2012-03-31T00:00:00",
          "2012-04-29T00:00:00",
          "2012-05-02T00:00:00",
          "2012-05-10T00:00:00",
          "2012-06-29T00:00:00",
          "2012-07-21T00:00:00",
          "2012-09-07T00:00:00",
          "2012-10-29T00:00:00",
          "2012-11-07T00:00:00",
          "2012-12-15T00:00:00",
          "2013-01-16T00:00:00",
          "2013-01-22T00:00:00",
          "2013-01-30T00:00:00",
          "2013-02-13T00:00:00",
          "2013-04-16T00:00:00",
          "2013-04-26T00:00:00",
          "2013-05-04T00:00:00",
          "2013-06-19T00:00:00",
          "2013-07-14T00:00:00",
          "2013-08-29T00:00:00",
          "2013-09-11T00:00:00",
          "2013-10-02T00:00:00",
          "2013-12-06T00:00:00",
          "2014-01-18T00:00:00",
          "2014-01-29T00:00:00",
          "2014-03-07T00:00:00",
          "2014-03-26T00:00:00",
          "2014-04-11T00:00:00",
          "2014-05-21T00:00:00",
          "2014-07-01T00:00:00",
          "2014-08-08T00:00:00",
          "2014-08-12T00:00:00",
          "2014-09-17T00:00:00",
          "2014-10-18T00:00:00",
          "2014-11-05T00:00:00",
          "2014-12-18T00:00:00",
          "2015-01-08T00:00:00",
          "2015-01-21T00:00:00",
          "2015-02-14T00:00:00",
          "2015-03-11T00:00:00",
          "2015-04-03T00:00:00",
          "2015-05-09T00:00:00",
          "2015-06-18T00:00:00",
          "2015-07-07T00:00:00",
          "2015-08-03T00:00:00",
          "2015-09-24T00:00:00",
          "2015-10-02T00:00:00",
          "2015-11-14T00:00:00",
          "2015-12-14T00:00:00",
          "2016-01-13T00:00:00",
          "2016-02-16T00:00:00",
          "2016-03-23T00:00:00",
          "2016-04-25T00:00:00",
          "2016-05-06T00:00:00",
          "2016-06-13T00:00:00",
          "2016-07-28T00:00:00",
          "2016-08-17T00:00:00",
          "2016-09-05T00:00:00",
          "2016-11-09T00:00:00",
          "2017-01-11T00:00:00"
         ],
         "legendgroup": "text_oba",
         "marker": {
          "color": "rgb(127, 60, 141)",
          "symbol": "circle"
         },
         "mode": "markers",
         "name": "text_oba",
         "orientation": "v",
         "showlegend": true,
         "type": "scatter",
         "x": [
          5.8032430035955125,
          6.873613899831376,
          8.858641273819895,
          6.762372637625319,
          6.0874959545733445,
          6.723747464715338,
          5.569405541195908,
          3.5436936867887705,
          6.947298993178176,
          5.342283997829986,
          4.634903983621506,
          0.769238871385785,
          9.463306169774276,
          4.613031047416282,
          5.832999054378117,
          6.258286964994472,
          4.6246156079175975,
          4.542644127596693,
          4.540285555452256,
          4.63876178574997,
          4.421184438637136,
          6.729516099004913,
          7.588994871024047,
          2.2432285068426983,
          9.85622029066619,
          5.833836478849952,
          5.395406508386809,
          2.4244424376959652,
          7.108720429870265,
          3.1679030066569434,
          6.8155387351848535,
          4.043855407218132,
          6.458240478959024,
          8.46017513563883,
          4.774934401580766,
          4.405502309299131,
          2.074023990280783,
          5.456458462603524,
          5.147219755795893,
          4.099362824402308,
          7.148223753416237,
          6.845427243303278,
          3.1321208117168684,
          9.047866904609418,
          7.453311432738898,
          10.99582858328017,
          8.300540404603863,
          9.133351817151482,
          8.007890295986542,
          7.110090874717888,
          7.013553925180411,
          7.7334391767860975,
          5.740867217463618,
          5.564279688286177,
          6.395583415006029,
          5.399054053381251,
          6.0686033458042825,
          6.717833766709904,
          8.257964848939961,
          2.920392282707565,
          3.9096290313928184,
          7.89830114283639,
          4.591770863922713,
          4.317622710959949,
          5.989193527467994,
          2.0700392063063116,
          3.573343848612438,
          2.7443321076246208,
          7.895872513106621,
          8.430434243521278,
          5.493883061297588,
          4.366527830975268,
          7.095026712435583,
          7.148164770024019,
          9.65620119565955,
          3.444877367745236,
          -0.2075141397376561,
          7.219560574867803,
          7.727025705823536,
          10.945325427490951,
          4.8441682303452245,
          8.639563128612068,
          4.465829596135664,
          4.6708582624705866,
          6.776572707886701,
          5.691542616655231,
          9.220112278577483,
          9.183331269978773,
          5.409559442202788,
          8.226424453473406,
          0.384481252386938,
          -5.68451624674731,
          6.4802078427284835,
          10.581277991825278,
          6.743955403630472,
          7.334127770854261,
          9.148596779306786,
          3.9410992986505327,
          8.165977205623498,
          7.632589835164375
         ],
         "xaxis": "x",
         "y": [
          1.4207568766163177,
          2.312425089156263,
          -0.6466484939317342,
          -1.7049597845831985,
          -2.5094126286821576,
          -2.0041527775341437,
          -1.3691662811619663,
          -1.2696403465352013,
          0.07471525860888868,
          -3.5875137847077108,
          -1.4580498485292992,
          2.0825348187604655,
          -2.010860529770566,
          -1.4696409525947383,
          -2.3115611766422437,
          1.0329184432518999,
          1.76605184781232,
          -0.5806237653291728,
          -1.3561981535792853,
          -2.5521824387717538,
          -1.8927650901151962,
          -1.6452946364674756,
          -1.683853705352368,
          -2.061244820483475,
          2.301034479626163,
          3.5431645111269767,
          0.41397829822829607,
          -2.346297218711195,
          0.36114348306929045,
          -0.045771399863873956,
          3.6789829917943715,
          -1.1951715712534197,
          -0.03846447181103587,
          -0.6046157141565367,
          2.308811859907133,
          -2.823764645197839,
          -3.006210864172512,
          -2.3199051141539595,
          0.5670955382650247,
          -0.4362241586419391,
          0.5411468805137671,
          6.770431346100588,
          -1.49390916558582,
          5.535360806284809,
          1.2257010600899123,
          3.8205673612770834,
          2.0933469964273868,
          -0.9431947796276102,
          1.9077394510231303,
          1.5292151716571005,
          1.5437895691653645,
          -1.9874834634442549,
          2.468749925866466,
          -0.8362073002212866,
          1.2988108213184624,
          3.5546114862408413,
          -0.6257659796156924,
          -0.9147800947793348,
          1.9113226006454889,
          0.5847946719357986,
          -0.6984934028969384,
          1.4598611606368646,
          3.1938908367467054,
          -3.9221576617107705,
          -0.3537453710545856,
          -5.771383003897714,
          -2.473357795531081,
          3.4018716339300528,
          0.11005990487298856,
          0.7662995033119828,
          -1.7619331975216033,
          -1.1500709268943325,
          -1.0235769347939618,
          -0.0020445938724631034,
          0.37610097457473773,
          -1.868045657759786,
          -2.3052724302737944,
          0.2634333269719546,
          -0.826065296766922,
          1.573785241849365,
          -2.5741789711517207,
          1.4314498859933824,
          0.4843263557043034,
          -1.7982271215553756,
          -0.2947966151940978,
          -1.5578556786171796,
          1.784815900317384,
          0.31152459163628154,
          -2.810685568629308,
          0.7174874627122254,
          1.232926083225221,
          -5.60207466766791,
          -1.709143982532185,
          3.2189618760362206,
          0.14513083925811032,
          4.661550215472078,
          3.1690191721731176,
          -3.570080969354658,
          3.2526316982961934,
          0.5541234789869378
         ],
         "yaxis": "y"
        },
        {
         "hovertemplate": "<b>%{hovertext}</b><br><br>color=text_nyt<br>0=%{x}<br>1=%{y}<extra></extra>",
         "hovertext": [
          "2008-06-04T00:00:00",
          "2008-11-05T00:00:00",
          "2009-01-05T00:00:00",
          "2009-01-20T00:00:00",
          "2009-04-02T00:00:00",
          "2009-04-15T00:00:00",
          "2009-05-22T00:00:00",
          "2009-06-15T00:00:00",
          "2009-07-15T00:00:00",
          "2009-09-24T00:00:00",
          "2009-10-09T00:00:00",
          "2009-11-05T00:00:00",
          "2009-12-19T00:00:00",
          "2009-12-25T00:00:00",
          "2010-01-12T00:00:00",
          "2010-03-04T00:00:00",
          "2010-03-24T00:00:00",
          "2010-04-15T00:00:00",
          "2010-04-22T00:00:00",
          "2010-05-07T00:00:00",
          "2010-07-15T00:00:00",
          "2010-07-21T00:00:00",
          "2010-07-26T00:00:00",
          "2010-08-31T00:00:00",
          "2010-11-02T00:00:00",
          "2011-01-08T00:00:00",
          "2011-01-26T00:00:00",
          "2011-01-31T00:00:00",
          "2011-02-19T00:00:00",
          "2011-05-02T00:00:00",
          "2011-05-23T00:00:00",
          "2011-06-23T00:00:00",
          "2011-07-26T00:00:00",
          "2011-09-09T00:00:00",
          "2011-10-17T00:00:00",
          "2011-11-17T00:00:00",
          "2011-12-16T00:00:00",
          "2012-01-06T00:00:00",
          "2012-01-25T00:00:00",
          "2012-03-27T00:00:00",
          "2012-03-31T00:00:00",
          "2012-04-29T00:00:00",
          "2012-05-02T00:00:00",
          "2012-05-10T00:00:00",
          "2012-06-29T00:00:00",
          "2012-07-21T00:00:00",
          "2012-09-07T00:00:00",
          "2012-10-29T00:00:00",
          "2012-11-07T00:00:00",
          "2012-12-15T00:00:00",
          "2013-01-16T00:00:00",
          "2013-01-22T00:00:00",
          "2013-01-30T00:00:00",
          "2013-02-13T00:00:00",
          "2013-04-16T00:00:00",
          "2013-04-26T00:00:00",
          "2013-05-04T00:00:00",
          "2013-06-19T00:00:00",
          "2013-07-14T00:00:00",
          "2013-08-29T00:00:00",
          "2013-09-11T00:00:00",
          "2013-10-02T00:00:00",
          "2013-12-06T00:00:00",
          "2014-01-18T00:00:00",
          "2014-01-29T00:00:00",
          "2014-03-07T00:00:00",
          "2014-03-26T00:00:00",
          "2014-04-11T00:00:00",
          "2014-05-21T00:00:00",
          "2014-07-01T00:00:00",
          "2014-08-08T00:00:00",
          "2014-08-12T00:00:00",
          "2014-09-17T00:00:00",
          "2014-10-18T00:00:00",
          "2014-11-05T00:00:00",
          "2014-12-18T00:00:00",
          "2015-01-08T00:00:00",
          "2015-01-21T00:00:00",
          "2015-02-14T00:00:00",
          "2015-03-11T00:00:00",
          "2015-04-03T00:00:00",
          "2015-05-09T00:00:00",
          "2015-06-18T00:00:00",
          "2015-07-07T00:00:00",
          "2015-08-03T00:00:00",
          "2015-09-24T00:00:00",
          "2015-10-02T00:00:00",
          "2015-11-14T00:00:00",
          "2015-12-14T00:00:00",
          "2016-01-13T00:00:00",
          "2016-02-16T00:00:00",
          "2016-03-23T00:00:00",
          "2016-04-25T00:00:00",
          "2016-05-06T00:00:00",
          "2016-06-13T00:00:00",
          "2016-07-28T00:00:00",
          "2016-08-17T00:00:00",
          "2016-09-05T00:00:00",
          "2016-11-09T00:00:00",
          "2017-01-11T00:00:00"
         ],
         "legendgroup": "text_nyt",
         "marker": {
          "color": "rgb(17, 165, 121)",
          "symbol": "circle"
         },
         "mode": "markers",
         "name": "text_nyt",
         "orientation": "v",
         "showlegend": true,
         "type": "scatter",
         "x": [
          -3.2457025699838717,
          -3.422792993919327,
          0.532122202619792,
          -2.9065366463794104,
          -1.9301020038004486,
          1.1441543557640683,
          -0.9618174244059883,
          -5.280360765684137,
          -3.3249483413120395,
          -0.8395106387098267,
          -4.637164064036529,
          -5.513763622484057,
          -2.985000814680135,
          -2.7933427719736446,
          -4.924060027618297,
          -0.2809132757468234,
          -1.8496086538033203,
          -1.838105714423126,
          -3.818320737521079,
          -3.8592577356244067,
          -1.324375395592886,
          -2.591915302337694,
          -2.4042262062650055,
          -4.225429796177734,
          -1.607980819360049,
          -4.626074744076363,
          -1.0434378523882106,
          -4.099564403046835,
          -7.12837284699959,
          -4.140092819356439,
          -3.8435667133856426,
          -4.059072496523741,
          -1.6437616525970737,
          -0.312755930179649,
          -1.9978722807986302,
          -3.1566876477264936,
          -3.4543067070062405,
          -3.0557230326198606,
          -3.05251366041287,
          -2.850619578670996,
          -0.2469579813672644,
          -3.762270370522018,
          -5.2020624879557,
          -1.9124282996436066,
          -1.9395518872960211,
          -3.726703666564506,
          0.25637018640923703,
          -3.195274388614744,
          -3.4849416090208183,
          -3.5419967020763767,
          -1.2176661105912572,
          -2.718155351886218,
          -1.8108413616108177,
          -2.125882550403208,
          -3.628349730140238,
          -2.222528810026656,
          -2.7602746018550426,
          -2.6101591478628463,
          -3.6153935598198976,
          -1.753863144141657,
          -2.6576605874522614,
          -1.6263289983909164,
          -5.091505002213886,
          -1.5594521835063027,
          -2.904169349659967,
          -3.6987763052108495,
          -3.6226902453711705,
          -2.4965357716898335,
          -2.8909483506535776,
          -2.333699932809868,
          -4.0778326426298355,
          -3.8250906012622514,
          -1.6494501477964592,
          5.478743185586046,
          -4.836879958826454,
          -4.459537487982428,
          -6.279566641057423,
          -0.7532531587508923,
          2.128779157909502,
          1.7080409063410962,
          -1.9821047113805146,
          0.05616738674954968,
          -3.65545214265809,
          -4.708196866992372,
          -1.8088281963138826,
          -3.491070676952733,
          -2.240424134466249,
          -4.282969244256091,
          -2.3837318565454964,
          -1.3915925163915994,
          -3.4163972054773,
          -5.203654492352584,
          -0.9573081275443638,
          -1.046416350883563,
          -3.526686389543448,
          -2.1366303879104116,
          -1.8796811996706106,
          -2.855260084891434,
          -4.459308320782796,
          0.3659314916530476
         ],
         "xaxis": "x",
         "y": [
          3.3286054846307134,
          2.3852353903750223,
          -2.1990331350578463,
          1.0173014727136318,
          1.129460756059304,
          1.0390524369807832,
          1.2655653866957493,
          1.624273670094855,
          -3.247427783312445,
          -0.7293924681412285,
          0.4440199916880044,
          1.1699432682656126,
          -4.273906249381155,
          3.2802452092660594,
          0.2797395250735561,
          0.40823352863697554,
          -1.8393236633311638,
          -0.3679692011914309,
          -0.43829548881087443,
          -0.6388099251056404,
          -0.124330863256706,
          -3.7213410681865673,
          -1.04189788422313,
          -0.179455096800088,
          1.04943664797565,
          3.042138251029115,
          -0.34644897847581024,
          0.5616240040642323,
          -6.008754503758861,
          1.2742343181721407,
          3.1883021050112146,
          -1.7309271038067742,
          -1.6671521467545154,
          -0.1113291698721302,
          3.9709655833185438,
          -2.7938646132787364,
          -0.5715912773990827,
          -1.8399219210543751,
          -0.6215298319989011,
          0.9669098445921649,
          -4.702758657841355,
          6.121721632554293,
          -0.12340028772301333,
          3.190171499748513,
          -1.497205930839677,
          4.148298263603171,
          3.2340524558519474,
          0.1173731269575434,
          0.3675609920998828,
          4.302287386173864,
          -0.3594642997096952,
          1.7605019566586344,
          -0.5880567714083167,
          -0.8231461012763339,
          2.23257137692183,
          3.6867885518818673,
          -2.958270727391909,
          -0.9760001343238298,
          5.74772941610206,
          3.176233952120482,
          -0.5066761926879833,
          0.3784723227768331,
          3.2736256391047887,
          -1.936244506392651,
          0.14113306469447515,
          -1.5981476362132747,
          0.8237521706317322,
          2.0930839415376097,
          -0.7017582307886319,
          0.5310814408607244,
          -0.35123753080523495,
          2.651700451102152,
          -2.350461075531023,
          -0.5485236924585736,
          -0.038232372539447515,
          -0.6267945174947591,
          1.083946484758164,
          -1.3934505178520697,
          -2.031447954287623,
          -1.8445455954523209,
          -1.7190337964694065,
          1.3368109413379141,
          4.069770518188156,
          -2.9207505037951047,
          -5.619642699376749,
          0.6860497097191192,
          4.065286676305553,
          2.6764512540723078,
          -4.022214344029894,
          -0.31883947348952857,
          1.5626309699729162,
          0.28866477556959863,
          0.21465241687026423,
          0.7731348689583526,
          2.6976809292511956,
          2.4714963468093454,
          1.3736621721492375,
          0.1129056311858003,
          2.032421045854526,
          1.9956693320195265
         ],
         "yaxis": "y"
        },
        {
         "hovertemplate": "<b>%{hovertext}</b><br><br>color=text_wsj<br>0=%{x}<br>1=%{y}<extra></extra>",
         "hovertext": [
          "2008-06-04T00:00:00",
          "2008-11-05T00:00:00",
          "2009-01-05T00:00:00",
          "2009-01-20T00:00:00",
          "2009-04-02T00:00:00",
          "2009-04-15T00:00:00",
          "2009-05-22T00:00:00",
          "2009-06-15T00:00:00",
          "2009-07-15T00:00:00",
          "2009-09-24T00:00:00",
          "2009-10-09T00:00:00",
          "2009-11-05T00:00:00",
          "2009-12-19T00:00:00",
          "2009-12-25T00:00:00",
          "2010-01-12T00:00:00",
          "2010-03-04T00:00:00",
          "2010-03-24T00:00:00",
          "2010-04-15T00:00:00",
          "2010-04-22T00:00:00",
          "2010-05-07T00:00:00",
          "2010-07-15T00:00:00",
          "2010-07-21T00:00:00",
          "2010-07-26T00:00:00",
          "2010-08-31T00:00:00",
          "2010-11-02T00:00:00",
          "2011-01-08T00:00:00",
          "2011-01-26T00:00:00",
          "2011-01-31T00:00:00",
          "2011-02-19T00:00:00",
          "2011-05-02T00:00:00",
          "2011-05-23T00:00:00",
          "2011-06-23T00:00:00",
          "2011-07-26T00:00:00",
          "2011-09-09T00:00:00",
          "2011-10-17T00:00:00",
          "2011-11-17T00:00:00",
          "2011-12-16T00:00:00",
          "2012-01-06T00:00:00",
          "2012-01-25T00:00:00",
          "2012-03-27T00:00:00",
          "2012-03-31T00:00:00",
          "2012-04-29T00:00:00",
          "2012-05-02T00:00:00",
          "2012-05-10T00:00:00",
          "2012-06-29T00:00:00",
          "2012-07-21T00:00:00",
          "2012-09-07T00:00:00",
          "2012-10-29T00:00:00",
          "2012-11-07T00:00:00",
          "2012-12-15T00:00:00",
          "2013-01-16T00:00:00",
          "2013-01-22T00:00:00",
          "2013-01-30T00:00:00",
          "2013-02-13T00:00:00",
          "2013-04-16T00:00:00",
          "2013-04-26T00:00:00",
          "2013-05-04T00:00:00",
          "2013-06-19T00:00:00",
          "2013-07-14T00:00:00",
          "2013-08-29T00:00:00",
          "2013-09-11T00:00:00",
          "2013-10-02T00:00:00",
          "2013-12-06T00:00:00",
          "2014-01-18T00:00:00",
          "2014-01-29T00:00:00",
          "2014-03-07T00:00:00",
          "2014-03-26T00:00:00",
          "2014-04-11T00:00:00",
          "2014-05-21T00:00:00",
          "2014-07-01T00:00:00",
          "2014-08-08T00:00:00",
          "2014-08-12T00:00:00",
          "2014-09-17T00:00:00",
          "2014-10-18T00:00:00",
          "2014-11-05T00:00:00",
          "2014-12-18T00:00:00",
          "2015-01-08T00:00:00",
          "2015-01-21T00:00:00",
          "2015-02-14T00:00:00",
          "2015-03-11T00:00:00",
          "2015-04-03T00:00:00",
          "2015-05-09T00:00:00",
          "2015-06-18T00:00:00",
          "2015-07-07T00:00:00",
          "2015-08-03T00:00:00",
          "2015-09-24T00:00:00",
          "2015-10-02T00:00:00",
          "2015-11-14T00:00:00",
          "2015-12-14T00:00:00",
          "2016-01-13T00:00:00",
          "2016-02-16T00:00:00",
          "2016-03-23T00:00:00",
          "2016-04-25T00:00:00",
          "2016-05-06T00:00:00",
          "2016-06-13T00:00:00",
          "2016-07-28T00:00:00",
          "2016-08-17T00:00:00",
          "2016-09-05T00:00:00",
          "2016-11-09T00:00:00",
          "2017-01-11T00:00:00"
         ],
         "legendgroup": "text_wsj",
         "marker": {
          "color": "rgb(57, 105, 172)",
          "symbol": "circle"
         },
         "mode": "markers",
         "name": "text_wsj",
         "orientation": "v",
         "showlegend": true,
         "type": "scatter",
         "x": [
          -3.515470575801589,
          -4.623719965162284,
          -0.13602125283206337,
          -3.320453172010618,
          -1.2237747685674372,
          -0.20257704023339373,
          -2.7424723834421267,
          -4.533688656380277,
          -5.873272964163741,
          -3.5986825116628602,
          -4.591995977741197,
          -5.58336427868902,
          -2.844289041831476,
          -3.894777407484284,
          -5.298647268678516,
          -0.23476605462149733,
          -1.9861365968520768,
          -0.9512586387857276,
          -4.702819229043798,
          -3.5871863305946063,
          -0.4264829161188786,
          -1.8760588581901474,
          -5.958241823108102,
          -2.496806016042252,
          -5.163786621917259,
          -5.325166204692198,
          -1.3752197261687478,
          -5.034489497657536,
          -3.8541553439344365,
          -6.291853773394625,
          -3.7746287167233192,
          -3.82984001357094,
          -1.294816874872403,
          -1.809358138304115,
          -4.391565146244374,
          -2.7208051673579012,
          -4.831382686590233,
          -2.57092626520584,
          -2.1553695727596405,
          -2.19473045471466,
          -4.2920935478086335,
          -2.3931413908570898,
          -4.48332446048766,
          -2.498142631780515,
          -3.008725663532418,
          -5.75726835263802,
          -0.9525202950478394,
          -2.782778687087348,
          -5.682514455314874,
          -4.996984095210903,
          -0.19271386939167665,
          -4.005633872226834,
          -0.49676861883846213,
          -1.9585227253558606,
          -2.4276130735946033,
          -4.93293256509667,
          -2.055830131825077,
          -2.0725095655081063,
          -2.721354729263013,
          -2.719839316931351,
          -1.975738491294322,
          -0.49795205480392096,
          -6.460740530566799,
          -1.2004881336635405,
          -0.1081149746220706,
          -3.0133499119751246,
          -1.2859647883712655,
          -3.5831653729790345,
          -3.0441517680723535,
          -1.5073353563175969,
          -5.270888613309444,
          -3.2421915698615664,
          0.5191990769022953,
          3.933952880483451,
          -5.624607160569139,
          -3.137959867635241,
          -5.841851497046401,
          -2.3954811970827303,
          0.8794697478315949,
          -0.07066277919401741,
          -1.5130826736046328,
          -1.277723864326242,
          -6.13011524021531,
          -1.4731789802429707,
          -2.195762600327967,
          -2.8998559521505074,
          -2.1165786139053693,
          -5.148973394507167,
          -2.4556659239181235,
          -1.9193565854103416,
          -2.58321229765922,
          -5.929057263426186,
          -1.9025430496923057,
          0.8782695905822225,
          -6.255222657290472,
          -2.4792156976948956,
          -4.543910894488004,
          -1.7207460700571948,
          -3.9866548945063536,
          -1.2304999806157357
         ],
         "xaxis": "x",
         "y": [
          2.659996740780884,
          0.3771056897818227,
          -2.9144291374113216,
          1.840979931554225,
          -1.3609104299633652,
          -2.8006660335279774,
          0.17286529649494273,
          1.805056194205465,
          -4.976886152527888,
          -2.812568411914963,
          0.45668969554225486,
          3.2174707246894974,
          -2.252443654704843,
          4.254656524153913,
          -0.56946542782652,
          -0.6716625609856279,
          -0.3868559261049136,
          -1.6481816412673516,
          -2.301289783701724,
          -3.5512479278001607,
          -2.8369079844332,
          -0.6721601855693123,
          -3.589447563483486,
          -0.12646015729516177,
          -0.2887779477064405,
          6.516826960501966,
          -2.0785737069950496,
          -2.897447263328558,
          -3.1679331568349003,
          1.4939092867536705,
          3.8438279137286546,
          -1.2985806926126007,
          -2.808937499832622,
          -2.3275861661383925,
          -0.7893405272211819,
          -1.82299635514258,
          -1.1407506754969299,
          -3.482595205867012,
          -0.6041462928426582,
          -1.3098364080291438,
          -5.305566228658849,
          3.9245864836514426,
          -0.6265758581709674,
          2.9283827014712283,
          -1.8999831326937864,
          4.352919883916774,
          0.9382767762971207,
          -0.030287542805619416,
          1.1029043686553996,
          4.706519208651656,
          -0.7020865408201151,
          0.8292667585294885,
          1.5719973919639103,
          0.06527846588424854,
          3.11118432398322,
          2.618216328808726,
          -1.5966432707063638,
          -3.0470568480925837,
          2.7184510030010127,
          1.919899918882153,
          -0.14900350232055318,
          -1.9733287747290302,
          2.564320383270878,
          -1.946445809973196,
          -0.4129143818706889,
          -0.5171161373941024,
          -1.292978658885455,
          0.6293145737999424,
          0.5916901473644924,
          -1.2815473795660612,
          -2.2929316865154026,
          1.9838247801278919,
          -4.174312605284692,
          1.4645054169015166,
          0.6856825929632347,
          -2.1081062837311264,
          1.5909386670314987,
          -1.437029792574914,
          -1.4912354919687585,
          -3.7056478842165186,
          -3.1635789179168876,
          -1.6270008741258388,
          5.381112293161666,
          -0.9029914411673069,
          -5.30457786615875,
          0.1114123745873998,
          3.1283918354368367,
          0.44946139991906725,
          -5.235060819670357,
          0.4861009172887967,
          0.0048204069876227,
          2.8282591097537364,
          -0.3341726283530083,
          0.14831621062526493,
          3.833880381240806,
          3.8422633017466032,
          2.1672265965191544,
          -5.81385637197697,
          2.0909545833049554,
          0.30543977816240453
         ],
         "yaxis": "y"
        },
        {
         "hovertemplate": "<b>%{hovertext}</b><br><br>color=FoxNews<br>0=%{x}<br>1=%{y}<extra></extra>",
         "hovertext": [
          "2011-05-02T00:00:00",
          "2011-09-09T00:00:00"
         ],
         "legendgroup": "FoxNews",
         "marker": {
          "color": "rgb(242, 183, 1)",
          "symbol": "circle"
         },
         "mode": "markers",
         "name": "FoxNews",
         "orientation": "v",
         "showlegend": true,
         "type": "scatter",
         "x": [
          -7.391743094527398,
          -4.54723594975655
         ],
         "xaxis": "x",
         "y": [
          2.0131820261436575,
          1.1904206725643207
         ],
         "yaxis": "y"
        },
        {
         "hovertemplate": "<b>%{hovertext}</b><br><br>color=InfoWars<br>0=%{x}<br>1=%{y}<extra></extra>",
         "hovertext": [
          "2011-05-02T00:00:00",
          "2012-12-15T00:00:00",
          "2016-02-16T00:00:00"
         ],
         "legendgroup": "InfoWars",
         "marker": {
          "color": "rgb(231, 63, 116)",
          "symbol": "circle"
         },
         "mode": "markers",
         "name": "InfoWars",
         "orientation": "v",
         "showlegend": true,
         "type": "scatter",
         "x": [
          -2.9208498626474007,
          -5.882511106252943,
          -8.637472412829837
         ],
         "xaxis": "x",
         "y": [
          0.5609297052589985,
          0.2796286331887441,
          -2.364271406134781
         ],
         "yaxis": "y"
        },
        {
         "hovertemplate": "<b>%{hovertext}</b><br><br>color=NationalReview<br>0=%{x}<br>1=%{y}<extra></extra>",
         "hovertext": [
          "2011-05-02T00:00:00",
          "2011-09-09T00:00:00",
          "2012-12-15T00:00:00",
          "2016-02-16T00:00:00"
         ],
         "legendgroup": "NationalReview",
         "marker": {
          "color": "rgb(128, 186, 90)",
          "symbol": "circle"
         },
         "mode": "markers",
         "name": "NationalReview",
         "orientation": "v",
         "showlegend": true,
         "type": "scatter",
         "x": [
          -6.216451208564068,
          -3.79696617989323,
          2.0881728117490646,
          -3.254146888479252
         ],
         "xaxis": "x",
         "y": [
          1.9319177362099136,
          -4.23084546837629,
          -2.5277390582927746,
          0.43518881643873625
         ],
         "yaxis": "y"
        },
        {
         "hovertemplate": "<b>%{hovertext}</b><br><br>color=Intercept<br>0=%{x}<br>1=%{y}<extra></extra>",
         "hovertext": [
          "2015-04-03T00:00:00"
         ],
         "legendgroup": "Intercept",
         "marker": {
          "color": "rgb(230, 131, 16)",
          "symbol": "circle"
         },
         "mode": "markers",
         "name": "Intercept",
         "orientation": "v",
         "showlegend": true,
         "type": "scatter",
         "x": [
          -1.4399097309012643
         ],
         "xaxis": "x",
         "y": [
          0.1081441783726349
         ],
         "yaxis": "y"
        }
       ],
       "layout": {
        "legend": {
         "title": {
          "text": "color"
         },
         "tracegroupgap": 0
        },
        "margin": {
         "t": 60
        },
        "template": {
         "data": {
          "bar": [
           {
            "error_x": {
             "color": "#2a3f5f"
            },
            "error_y": {
             "color": "#2a3f5f"
            },
            "marker": {
             "line": {
              "color": "#E5ECF6",
              "width": 0.5
             },
             "pattern": {
              "fillmode": "overlay",
              "size": 10,
              "solidity": 0.2
             }
            },
            "type": "bar"
           }
          ],
          "barpolar": [
           {
            "marker": {
             "line": {
              "color": "#E5ECF6",
              "width": 0.5
             },
             "pattern": {
              "fillmode": "overlay",
              "size": 10,
              "solidity": 0.2
             }
            },
            "type": "barpolar"
           }
          ],
          "carpet": [
           {
            "aaxis": {
             "endlinecolor": "#2a3f5f",
             "gridcolor": "white",
             "linecolor": "white",
             "minorgridcolor": "white",
             "startlinecolor": "#2a3f5f"
            },
            "baxis": {
             "endlinecolor": "#2a3f5f",
             "gridcolor": "white",
             "linecolor": "white",
             "minorgridcolor": "white",
             "startlinecolor": "#2a3f5f"
            },
            "type": "carpet"
           }
          ],
          "choropleth": [
           {
            "colorbar": {
             "outlinewidth": 0,
             "ticks": ""
            },
            "type": "choropleth"
           }
          ],
          "contour": [
           {
            "colorbar": {
             "outlinewidth": 0,
             "ticks": ""
            },
            "colorscale": [
             [
              0,
              "#0d0887"
             ],
             [
              0.1111111111111111,
              "#46039f"
             ],
             [
              0.2222222222222222,
              "#7201a8"
             ],
             [
              0.3333333333333333,
              "#9c179e"
             ],
             [
              0.4444444444444444,
              "#bd3786"
             ],
             [
              0.5555555555555556,
              "#d8576b"
             ],
             [
              0.6666666666666666,
              "#ed7953"
             ],
             [
              0.7777777777777778,
              "#fb9f3a"
             ],
             [
              0.8888888888888888,
              "#fdca26"
             ],
             [
              1,
              "#f0f921"
             ]
            ],
            "type": "contour"
           }
          ],
          "contourcarpet": [
           {
            "colorbar": {
             "outlinewidth": 0,
             "ticks": ""
            },
            "type": "contourcarpet"
           }
          ],
          "heatmap": [
           {
            "colorbar": {
             "outlinewidth": 0,
             "ticks": ""
            },
            "colorscale": [
             [
              0,
              "#0d0887"
             ],
             [
              0.1111111111111111,
              "#46039f"
             ],
             [
              0.2222222222222222,
              "#7201a8"
             ],
             [
              0.3333333333333333,
              "#9c179e"
             ],
             [
              0.4444444444444444,
              "#bd3786"
             ],
             [
              0.5555555555555556,
              "#d8576b"
             ],
             [
              0.6666666666666666,
              "#ed7953"
             ],
             [
              0.7777777777777778,
              "#fb9f3a"
             ],
             [
              0.8888888888888888,
              "#fdca26"
             ],
             [
              1,
              "#f0f921"
             ]
            ],
            "type": "heatmap"
           }
          ],
          "heatmapgl": [
           {
            "colorbar": {
             "outlinewidth": 0,
             "ticks": ""
            },
            "colorscale": [
             [
              0,
              "#0d0887"
             ],
             [
              0.1111111111111111,
              "#46039f"
             ],
             [
              0.2222222222222222,
              "#7201a8"
             ],
             [
              0.3333333333333333,
              "#9c179e"
             ],
             [
              0.4444444444444444,
              "#bd3786"
             ],
             [
              0.5555555555555556,
              "#d8576b"
             ],
             [
              0.6666666666666666,
              "#ed7953"
             ],
             [
              0.7777777777777778,
              "#fb9f3a"
             ],
             [
              0.8888888888888888,
              "#fdca26"
             ],
             [
              1,
              "#f0f921"
             ]
            ],
            "type": "heatmapgl"
           }
          ],
          "histogram": [
           {
            "marker": {
             "pattern": {
              "fillmode": "overlay",
              "size": 10,
              "solidity": 0.2
             }
            },
            "type": "histogram"
           }
          ],
          "histogram2d": [
           {
            "colorbar": {
             "outlinewidth": 0,
             "ticks": ""
            },
            "colorscale": [
             [
              0,
              "#0d0887"
             ],
             [
              0.1111111111111111,
              "#46039f"
             ],
             [
              0.2222222222222222,
              "#7201a8"
             ],
             [
              0.3333333333333333,
              "#9c179e"
             ],
             [
              0.4444444444444444,
              "#bd3786"
             ],
             [
              0.5555555555555556,
              "#d8576b"
             ],
             [
              0.6666666666666666,
              "#ed7953"
             ],
             [
              0.7777777777777778,
              "#fb9f3a"
             ],
             [
              0.8888888888888888,
              "#fdca26"
             ],
             [
              1,
              "#f0f921"
             ]
            ],
            "type": "histogram2d"
           }
          ],
          "histogram2dcontour": [
           {
            "colorbar": {
             "outlinewidth": 0,
             "ticks": ""
            },
            "colorscale": [
             [
              0,
              "#0d0887"
             ],
             [
              0.1111111111111111,
              "#46039f"
             ],
             [
              0.2222222222222222,
              "#7201a8"
             ],
             [
              0.3333333333333333,
              "#9c179e"
             ],
             [
              0.4444444444444444,
              "#bd3786"
             ],
             [
              0.5555555555555556,
              "#d8576b"
             ],
             [
              0.6666666666666666,
              "#ed7953"
             ],
             [
              0.7777777777777778,
              "#fb9f3a"
             ],
             [
              0.8888888888888888,
              "#fdca26"
             ],
             [
              1,
              "#f0f921"
             ]
            ],
            "type": "histogram2dcontour"
           }
          ],
          "mesh3d": [
           {
            "colorbar": {
             "outlinewidth": 0,
             "ticks": ""
            },
            "type": "mesh3d"
           }
          ],
          "parcoords": [
           {
            "line": {
             "colorbar": {
              "outlinewidth": 0,
              "ticks": ""
             }
            },
            "type": "parcoords"
           }
          ],
          "pie": [
           {
            "automargin": true,
            "type": "pie"
           }
          ],
          "scatter": [
           {
            "fillpattern": {
             "fillmode": "overlay",
             "size": 10,
             "solidity": 0.2
            },
            "type": "scatter"
           }
          ],
          "scatter3d": [
           {
            "line": {
             "colorbar": {
              "outlinewidth": 0,
              "ticks": ""
             }
            },
            "marker": {
             "colorbar": {
              "outlinewidth": 0,
              "ticks": ""
             }
            },
            "type": "scatter3d"
           }
          ],
          "scattercarpet": [
           {
            "marker": {
             "colorbar": {
              "outlinewidth": 0,
              "ticks": ""
             }
            },
            "type": "scattercarpet"
           }
          ],
          "scattergeo": [
           {
            "marker": {
             "colorbar": {
              "outlinewidth": 0,
              "ticks": ""
             }
            },
            "type": "scattergeo"
           }
          ],
          "scattergl": [
           {
            "marker": {
             "colorbar": {
              "outlinewidth": 0,
              "ticks": ""
             }
            },
            "type": "scattergl"
           }
          ],
          "scattermapbox": [
           {
            "marker": {
             "colorbar": {
              "outlinewidth": 0,
              "ticks": ""
             }
            },
            "type": "scattermapbox"
           }
          ],
          "scatterpolar": [
           {
            "marker": {
             "colorbar": {
              "outlinewidth": 0,
              "ticks": ""
             }
            },
            "type": "scatterpolar"
           }
          ],
          "scatterpolargl": [
           {
            "marker": {
             "colorbar": {
              "outlinewidth": 0,
              "ticks": ""
             }
            },
            "type": "scatterpolargl"
           }
          ],
          "scatterternary": [
           {
            "marker": {
             "colorbar": {
              "outlinewidth": 0,
              "ticks": ""
             }
            },
            "type": "scatterternary"
           }
          ],
          "surface": [
           {
            "colorbar": {
             "outlinewidth": 0,
             "ticks": ""
            },
            "colorscale": [
             [
              0,
              "#0d0887"
             ],
             [
              0.1111111111111111,
              "#46039f"
             ],
             [
              0.2222222222222222,
              "#7201a8"
             ],
             [
              0.3333333333333333,
              "#9c179e"
             ],
             [
              0.4444444444444444,
              "#bd3786"
             ],
             [
              0.5555555555555556,
              "#d8576b"
             ],
             [
              0.6666666666666666,
              "#ed7953"
             ],
             [
              0.7777777777777778,
              "#fb9f3a"
             ],
             [
              0.8888888888888888,
              "#fdca26"
             ],
             [
              1,
              "#f0f921"
             ]
            ],
            "type": "surface"
           }
          ],
          "table": [
           {
            "cells": {
             "fill": {
              "color": "#EBF0F8"
             },
             "line": {
              "color": "white"
             }
            },
            "header": {
             "fill": {
              "color": "#C8D4E3"
             },
             "line": {
              "color": "white"
             }
            },
            "type": "table"
           }
          ]
         },
         "layout": {
          "annotationdefaults": {
           "arrowcolor": "#2a3f5f",
           "arrowhead": 0,
           "arrowwidth": 1
          },
          "autotypenumbers": "strict",
          "coloraxis": {
           "colorbar": {
            "outlinewidth": 0,
            "ticks": ""
           }
          },
          "colorscale": {
           "diverging": [
            [
             0,
             "#8e0152"
            ],
            [
             0.1,
             "#c51b7d"
            ],
            [
             0.2,
             "#de77ae"
            ],
            [
             0.3,
             "#f1b6da"
            ],
            [
             0.4,
             "#fde0ef"
            ],
            [
             0.5,
             "#f7f7f7"
            ],
            [
             0.6,
             "#e6f5d0"
            ],
            [
             0.7,
             "#b8e186"
            ],
            [
             0.8,
             "#7fbc41"
            ],
            [
             0.9,
             "#4d9221"
            ],
            [
             1,
             "#276419"
            ]
           ],
           "sequential": [
            [
             0,
             "#0d0887"
            ],
            [
             0.1111111111111111,
             "#46039f"
            ],
            [
             0.2222222222222222,
             "#7201a8"
            ],
            [
             0.3333333333333333,
             "#9c179e"
            ],
            [
             0.4444444444444444,
             "#bd3786"
            ],
            [
             0.5555555555555556,
             "#d8576b"
            ],
            [
             0.6666666666666666,
             "#ed7953"
            ],
            [
             0.7777777777777778,
             "#fb9f3a"
            ],
            [
             0.8888888888888888,
             "#fdca26"
            ],
            [
             1,
             "#f0f921"
            ]
           ],
           "sequentialminus": [
            [
             0,
             "#0d0887"
            ],
            [
             0.1111111111111111,
             "#46039f"
            ],
            [
             0.2222222222222222,
             "#7201a8"
            ],
            [
             0.3333333333333333,
             "#9c179e"
            ],
            [
             0.4444444444444444,
             "#bd3786"
            ],
            [
             0.5555555555555556,
             "#d8576b"
            ],
            [
             0.6666666666666666,
             "#ed7953"
            ],
            [
             0.7777777777777778,
             "#fb9f3a"
            ],
            [
             0.8888888888888888,
             "#fdca26"
            ],
            [
             1,
             "#f0f921"
            ]
           ]
          },
          "colorway": [
           "#636efa",
           "#EF553B",
           "#00cc96",
           "#ab63fa",
           "#FFA15A",
           "#19d3f3",
           "#FF6692",
           "#B6E880",
           "#FF97FF",
           "#FECB52"
          ],
          "font": {
           "color": "#2a3f5f"
          },
          "geo": {
           "bgcolor": "white",
           "lakecolor": "white",
           "landcolor": "#E5ECF6",
           "showlakes": true,
           "showland": true,
           "subunitcolor": "white"
          },
          "hoverlabel": {
           "align": "left"
          },
          "hovermode": "closest",
          "mapbox": {
           "style": "light"
          },
          "paper_bgcolor": "white",
          "plot_bgcolor": "#E5ECF6",
          "polar": {
           "angularaxis": {
            "gridcolor": "white",
            "linecolor": "white",
            "ticks": ""
           },
           "bgcolor": "#E5ECF6",
           "radialaxis": {
            "gridcolor": "white",
            "linecolor": "white",
            "ticks": ""
           }
          },
          "scene": {
           "xaxis": {
            "backgroundcolor": "#E5ECF6",
            "gridcolor": "white",
            "gridwidth": 2,
            "linecolor": "white",
            "showbackground": true,
            "ticks": "",
            "zerolinecolor": "white"
           },
           "yaxis": {
            "backgroundcolor": "#E5ECF6",
            "gridcolor": "white",
            "gridwidth": 2,
            "linecolor": "white",
            "showbackground": true,
            "ticks": "",
            "zerolinecolor": "white"
           },
           "zaxis": {
            "backgroundcolor": "#E5ECF6",
            "gridcolor": "white",
            "gridwidth": 2,
            "linecolor": "white",
            "showbackground": true,
            "ticks": "",
            "zerolinecolor": "white"
           }
          },
          "shapedefaults": {
           "line": {
            "color": "#2a3f5f"
           }
          },
          "ternary": {
           "aaxis": {
            "gridcolor": "white",
            "linecolor": "white",
            "ticks": ""
           },
           "baxis": {
            "gridcolor": "white",
            "linecolor": "white",
            "ticks": ""
           },
           "bgcolor": "#E5ECF6",
           "caxis": {
            "gridcolor": "white",
            "linecolor": "white",
            "ticks": ""
           }
          },
          "title": {
           "x": 0.05
          },
          "xaxis": {
           "automargin": true,
           "gridcolor": "white",
           "linecolor": "white",
           "ticks": "",
           "title": {
            "standoff": 15
           },
           "zerolinecolor": "white",
           "zerolinewidth": 2
          },
          "yaxis": {
           "automargin": true,
           "gridcolor": "white",
           "linecolor": "white",
           "ticks": "",
           "title": {
            "standoff": 15
           },
           "zerolinecolor": "white",
           "zerolinewidth": 2
          }
         }
        },
        "xaxis": {
         "anchor": "y",
         "domain": [
          0,
          1
         ],
         "title": {
          "text": "0"
         }
        },
        "yaxis": {
         "anchor": "x",
         "domain": [
          0,
          1
         ],
         "title": {
          "text": "1"
         }
        }
       }
      },
      "text/html": [
       "<div>                            <div id=\"bb46f55e-efbd-4804-a576-aa675774a47d\" class=\"plotly-graph-div\" style=\"height:525px; width:100%;\"></div>            <script type=\"text/javascript\">                require([\"plotly\"], function(Plotly) {                    window.PLOTLYENV=window.PLOTLYENV || {};                                    if (document.getElementById(\"bb46f55e-efbd-4804-a576-aa675774a47d\")) {                    Plotly.newPlot(                        \"bb46f55e-efbd-4804-a576-aa675774a47d\",                        [{\"hovertemplate\":\"<b>%{hovertext}</b><br><br>color=text_oba<br>0=%{x}<br>1=%{y}<extra></extra>\",\"hovertext\":[\"2008-06-04T00:00:00\",\"2008-11-05T00:00:00\",\"2009-01-05T00:00:00\",\"2009-01-20T00:00:00\",\"2009-04-02T00:00:00\",\"2009-04-15T00:00:00\",\"2009-05-22T00:00:00\",\"2009-06-15T00:00:00\",\"2009-07-15T00:00:00\",\"2009-09-24T00:00:00\",\"2009-10-09T00:00:00\",\"2009-11-05T00:00:00\",\"2009-12-19T00:00:00\",\"2009-12-25T00:00:00\",\"2010-01-12T00:00:00\",\"2010-03-04T00:00:00\",\"2010-03-24T00:00:00\",\"2010-04-15T00:00:00\",\"2010-04-22T00:00:00\",\"2010-05-07T00:00:00\",\"2010-07-15T00:00:00\",\"2010-07-21T00:00:00\",\"2010-07-26T00:00:00\",\"2010-08-31T00:00:00\",\"2010-11-02T00:00:00\",\"2011-01-08T00:00:00\",\"2011-01-26T00:00:00\",\"2011-01-31T00:00:00\",\"2011-02-19T00:00:00\",\"2011-05-02T00:00:00\",\"2011-05-23T00:00:00\",\"2011-06-23T00:00:00\",\"2011-07-26T00:00:00\",\"2011-09-09T00:00:00\",\"2011-10-17T00:00:00\",\"2011-11-17T00:00:00\",\"2011-12-16T00:00:00\",\"2012-01-06T00:00:00\",\"2012-01-25T00:00:00\",\"2012-03-27T00:00:00\",\"2012-03-31T00:00:00\",\"2012-04-29T00:00:00\",\"2012-05-02T00:00:00\",\"2012-05-10T00:00:00\",\"2012-06-29T00:00:00\",\"2012-07-21T00:00:00\",\"2012-09-07T00:00:00\",\"2012-10-29T00:00:00\",\"2012-11-07T00:00:00\",\"2012-12-15T00:00:00\",\"2013-01-16T00:00:00\",\"2013-01-22T00:00:00\",\"2013-01-30T00:00:00\",\"2013-02-13T00:00:00\",\"2013-04-16T00:00:00\",\"2013-04-26T00:00:00\",\"2013-05-04T00:00:00\",\"2013-06-19T00:00:00\",\"2013-07-14T00:00:00\",\"2013-08-29T00:00:00\",\"2013-09-11T00:00:00\",\"2013-10-02T00:00:00\",\"2013-12-06T00:00:00\",\"2014-01-18T00:00:00\",\"2014-01-29T00:00:00\",\"2014-03-07T00:00:00\",\"2014-03-26T00:00:00\",\"2014-04-11T00:00:00\",\"2014-05-21T00:00:00\",\"2014-07-01T00:00:00\",\"2014-08-08T00:00:00\",\"2014-08-12T00:00:00\",\"2014-09-17T00:00:00\",\"2014-10-18T00:00:00\",\"2014-11-05T00:00:00\",\"2014-12-18T00:00:00\",\"2015-01-08T00:00:00\",\"2015-01-21T00:00:00\",\"2015-02-14T00:00:00\",\"2015-03-11T00:00:00\",\"2015-04-03T00:00:00\",\"2015-05-09T00:00:00\",\"2015-06-18T00:00:00\",\"2015-07-07T00:00:00\",\"2015-08-03T00:00:00\",\"2015-09-24T00:00:00\",\"2015-10-02T00:00:00\",\"2015-11-14T00:00:00\",\"2015-12-14T00:00:00\",\"2016-01-13T00:00:00\",\"2016-02-16T00:00:00\",\"2016-03-23T00:00:00\",\"2016-04-25T00:00:00\",\"2016-05-06T00:00:00\",\"2016-06-13T00:00:00\",\"2016-07-28T00:00:00\",\"2016-08-17T00:00:00\",\"2016-09-05T00:00:00\",\"2016-11-09T00:00:00\",\"2017-01-11T00:00:00\"],\"legendgroup\":\"text_oba\",\"marker\":{\"color\":\"rgb(127, 60, 141)\",\"symbol\":\"circle\"},\"mode\":\"markers\",\"name\":\"text_oba\",\"orientation\":\"v\",\"showlegend\":true,\"x\":[5.8032430035955125,6.873613899831376,8.858641273819895,6.762372637625319,6.0874959545733445,6.723747464715338,5.569405541195908,3.5436936867887705,6.947298993178176,5.342283997829986,4.634903983621506,0.769238871385785,9.463306169774276,4.613031047416282,5.832999054378117,6.258286964994472,4.6246156079175975,4.542644127596693,4.540285555452256,4.63876178574997,4.421184438637136,6.729516099004913,7.588994871024047,2.2432285068426983,9.85622029066619,5.833836478849952,5.395406508386809,2.4244424376959652,7.108720429870265,3.1679030066569434,6.8155387351848535,4.043855407218132,6.458240478959024,8.46017513563883,4.774934401580766,4.405502309299131,2.074023990280783,5.456458462603524,5.147219755795893,4.099362824402308,7.148223753416237,6.845427243303278,3.1321208117168684,9.047866904609418,7.453311432738898,10.99582858328017,8.300540404603863,9.133351817151482,8.007890295986542,7.110090874717888,7.013553925180411,7.7334391767860975,5.740867217463618,5.564279688286177,6.395583415006029,5.399054053381251,6.0686033458042825,6.717833766709904,8.257964848939961,2.920392282707565,3.9096290313928184,7.89830114283639,4.591770863922713,4.317622710959949,5.989193527467994,2.0700392063063116,3.573343848612438,2.7443321076246208,7.895872513106621,8.430434243521278,5.493883061297588,4.366527830975268,7.095026712435583,7.148164770024019,9.65620119565955,3.444877367745236,-0.2075141397376561,7.219560574867803,7.727025705823536,10.945325427490951,4.8441682303452245,8.639563128612068,4.465829596135664,4.6708582624705866,6.776572707886701,5.691542616655231,9.220112278577483,9.183331269978773,5.409559442202788,8.226424453473406,0.384481252386938,-5.68451624674731,6.4802078427284835,10.581277991825278,6.743955403630472,7.334127770854261,9.148596779306786,3.9410992986505327,8.165977205623498,7.632589835164375],\"xaxis\":\"x\",\"y\":[1.4207568766163177,2.312425089156263,-0.6466484939317342,-1.7049597845831985,-2.5094126286821576,-2.0041527775341437,-1.3691662811619663,-1.2696403465352013,0.07471525860888868,-3.5875137847077108,-1.4580498485292992,2.0825348187604655,-2.010860529770566,-1.4696409525947383,-2.3115611766422437,1.0329184432518999,1.76605184781232,-0.5806237653291728,-1.3561981535792853,-2.5521824387717538,-1.8927650901151962,-1.6452946364674756,-1.683853705352368,-2.061244820483475,2.301034479626163,3.5431645111269767,0.41397829822829607,-2.346297218711195,0.36114348306929045,-0.045771399863873956,3.6789829917943715,-1.1951715712534197,-0.03846447181103587,-0.6046157141565367,2.308811859907133,-2.823764645197839,-3.006210864172512,-2.3199051141539595,0.5670955382650247,-0.4362241586419391,0.5411468805137671,6.770431346100588,-1.49390916558582,5.535360806284809,1.2257010600899123,3.8205673612770834,2.0933469964273868,-0.9431947796276102,1.9077394510231303,1.5292151716571005,1.5437895691653645,-1.9874834634442549,2.468749925866466,-0.8362073002212866,1.2988108213184624,3.5546114862408413,-0.6257659796156924,-0.9147800947793348,1.9113226006454889,0.5847946719357986,-0.6984934028969384,1.4598611606368646,3.1938908367467054,-3.9221576617107705,-0.3537453710545856,-5.771383003897714,-2.473357795531081,3.4018716339300528,0.11005990487298856,0.7662995033119828,-1.7619331975216033,-1.1500709268943325,-1.0235769347939618,-0.0020445938724631034,0.37610097457473773,-1.868045657759786,-2.3052724302737944,0.2634333269719546,-0.826065296766922,1.573785241849365,-2.5741789711517207,1.4314498859933824,0.4843263557043034,-1.7982271215553756,-0.2947966151940978,-1.5578556786171796,1.784815900317384,0.31152459163628154,-2.810685568629308,0.7174874627122254,1.232926083225221,-5.60207466766791,-1.709143982532185,3.2189618760362206,0.14513083925811032,4.661550215472078,3.1690191721731176,-3.570080969354658,3.2526316982961934,0.5541234789869378],\"yaxis\":\"y\",\"type\":\"scatter\"},{\"hovertemplate\":\"<b>%{hovertext}</b><br><br>color=text_nyt<br>0=%{x}<br>1=%{y}<extra></extra>\",\"hovertext\":[\"2008-06-04T00:00:00\",\"2008-11-05T00:00:00\",\"2009-01-05T00:00:00\",\"2009-01-20T00:00:00\",\"2009-04-02T00:00:00\",\"2009-04-15T00:00:00\",\"2009-05-22T00:00:00\",\"2009-06-15T00:00:00\",\"2009-07-15T00:00:00\",\"2009-09-24T00:00:00\",\"2009-10-09T00:00:00\",\"2009-11-05T00:00:00\",\"2009-12-19T00:00:00\",\"2009-12-25T00:00:00\",\"2010-01-12T00:00:00\",\"2010-03-04T00:00:00\",\"2010-03-24T00:00:00\",\"2010-04-15T00:00:00\",\"2010-04-22T00:00:00\",\"2010-05-07T00:00:00\",\"2010-07-15T00:00:00\",\"2010-07-21T00:00:00\",\"2010-07-26T00:00:00\",\"2010-08-31T00:00:00\",\"2010-11-02T00:00:00\",\"2011-01-08T00:00:00\",\"2011-01-26T00:00:00\",\"2011-01-31T00:00:00\",\"2011-02-19T00:00:00\",\"2011-05-02T00:00:00\",\"2011-05-23T00:00:00\",\"2011-06-23T00:00:00\",\"2011-07-26T00:00:00\",\"2011-09-09T00:00:00\",\"2011-10-17T00:00:00\",\"2011-11-17T00:00:00\",\"2011-12-16T00:00:00\",\"2012-01-06T00:00:00\",\"2012-01-25T00:00:00\",\"2012-03-27T00:00:00\",\"2012-03-31T00:00:00\",\"2012-04-29T00:00:00\",\"2012-05-02T00:00:00\",\"2012-05-10T00:00:00\",\"2012-06-29T00:00:00\",\"2012-07-21T00:00:00\",\"2012-09-07T00:00:00\",\"2012-10-29T00:00:00\",\"2012-11-07T00:00:00\",\"2012-12-15T00:00:00\",\"2013-01-16T00:00:00\",\"2013-01-22T00:00:00\",\"2013-01-30T00:00:00\",\"2013-02-13T00:00:00\",\"2013-04-16T00:00:00\",\"2013-04-26T00:00:00\",\"2013-05-04T00:00:00\",\"2013-06-19T00:00:00\",\"2013-07-14T00:00:00\",\"2013-08-29T00:00:00\",\"2013-09-11T00:00:00\",\"2013-10-02T00:00:00\",\"2013-12-06T00:00:00\",\"2014-01-18T00:00:00\",\"2014-01-29T00:00:00\",\"2014-03-07T00:00:00\",\"2014-03-26T00:00:00\",\"2014-04-11T00:00:00\",\"2014-05-21T00:00:00\",\"2014-07-01T00:00:00\",\"2014-08-08T00:00:00\",\"2014-08-12T00:00:00\",\"2014-09-17T00:00:00\",\"2014-10-18T00:00:00\",\"2014-11-05T00:00:00\",\"2014-12-18T00:00:00\",\"2015-01-08T00:00:00\",\"2015-01-21T00:00:00\",\"2015-02-14T00:00:00\",\"2015-03-11T00:00:00\",\"2015-04-03T00:00:00\",\"2015-05-09T00:00:00\",\"2015-06-18T00:00:00\",\"2015-07-07T00:00:00\",\"2015-08-03T00:00:00\",\"2015-09-24T00:00:00\",\"2015-10-02T00:00:00\",\"2015-11-14T00:00:00\",\"2015-12-14T00:00:00\",\"2016-01-13T00:00:00\",\"2016-02-16T00:00:00\",\"2016-03-23T00:00:00\",\"2016-04-25T00:00:00\",\"2016-05-06T00:00:00\",\"2016-06-13T00:00:00\",\"2016-07-28T00:00:00\",\"2016-08-17T00:00:00\",\"2016-09-05T00:00:00\",\"2016-11-09T00:00:00\",\"2017-01-11T00:00:00\"],\"legendgroup\":\"text_nyt\",\"marker\":{\"color\":\"rgb(17, 165, 121)\",\"symbol\":\"circle\"},\"mode\":\"markers\",\"name\":\"text_nyt\",\"orientation\":\"v\",\"showlegend\":true,\"x\":[-3.2457025699838717,-3.422792993919327,0.532122202619792,-2.9065366463794104,-1.9301020038004486,1.1441543557640683,-0.9618174244059883,-5.280360765684137,-3.3249483413120395,-0.8395106387098267,-4.637164064036529,-5.513763622484057,-2.985000814680135,-2.7933427719736446,-4.924060027618297,-0.2809132757468234,-1.8496086538033203,-1.838105714423126,-3.818320737521079,-3.8592577356244067,-1.324375395592886,-2.591915302337694,-2.4042262062650055,-4.225429796177734,-1.607980819360049,-4.626074744076363,-1.0434378523882106,-4.099564403046835,-7.12837284699959,-4.140092819356439,-3.8435667133856426,-4.059072496523741,-1.6437616525970737,-0.312755930179649,-1.9978722807986302,-3.1566876477264936,-3.4543067070062405,-3.0557230326198606,-3.05251366041287,-2.850619578670996,-0.2469579813672644,-3.762270370522018,-5.2020624879557,-1.9124282996436066,-1.9395518872960211,-3.726703666564506,0.25637018640923703,-3.195274388614744,-3.4849416090208183,-3.5419967020763767,-1.2176661105912572,-2.718155351886218,-1.8108413616108177,-2.125882550403208,-3.628349730140238,-2.222528810026656,-2.7602746018550426,-2.6101591478628463,-3.6153935598198976,-1.753863144141657,-2.6576605874522614,-1.6263289983909164,-5.091505002213886,-1.5594521835063027,-2.904169349659967,-3.6987763052108495,-3.6226902453711705,-2.4965357716898335,-2.8909483506535776,-2.333699932809868,-4.0778326426298355,-3.8250906012622514,-1.6494501477964592,5.478743185586046,-4.836879958826454,-4.459537487982428,-6.279566641057423,-0.7532531587508923,2.128779157909502,1.7080409063410962,-1.9821047113805146,0.05616738674954968,-3.65545214265809,-4.708196866992372,-1.8088281963138826,-3.491070676952733,-2.240424134466249,-4.282969244256091,-2.3837318565454964,-1.3915925163915994,-3.4163972054773,-5.203654492352584,-0.9573081275443638,-1.046416350883563,-3.526686389543448,-2.1366303879104116,-1.8796811996706106,-2.855260084891434,-4.459308320782796,0.3659314916530476],\"xaxis\":\"x\",\"y\":[3.3286054846307134,2.3852353903750223,-2.1990331350578463,1.0173014727136318,1.129460756059304,1.0390524369807832,1.2655653866957493,1.624273670094855,-3.247427783312445,-0.7293924681412285,0.4440199916880044,1.1699432682656126,-4.273906249381155,3.2802452092660594,0.2797395250735561,0.40823352863697554,-1.8393236633311638,-0.3679692011914309,-0.43829548881087443,-0.6388099251056404,-0.124330863256706,-3.7213410681865673,-1.04189788422313,-0.179455096800088,1.04943664797565,3.042138251029115,-0.34644897847581024,0.5616240040642323,-6.008754503758861,1.2742343181721407,3.1883021050112146,-1.7309271038067742,-1.6671521467545154,-0.1113291698721302,3.9709655833185438,-2.7938646132787364,-0.5715912773990827,-1.8399219210543751,-0.6215298319989011,0.9669098445921649,-4.702758657841355,6.121721632554293,-0.12340028772301333,3.190171499748513,-1.497205930839677,4.148298263603171,3.2340524558519474,0.1173731269575434,0.3675609920998828,4.302287386173864,-0.3594642997096952,1.7605019566586344,-0.5880567714083167,-0.8231461012763339,2.23257137692183,3.6867885518818673,-2.958270727391909,-0.9760001343238298,5.74772941610206,3.176233952120482,-0.5066761926879833,0.3784723227768331,3.2736256391047887,-1.936244506392651,0.14113306469447515,-1.5981476362132747,0.8237521706317322,2.0930839415376097,-0.7017582307886319,0.5310814408607244,-0.35123753080523495,2.651700451102152,-2.350461075531023,-0.5485236924585736,-0.038232372539447515,-0.6267945174947591,1.083946484758164,-1.3934505178520697,-2.031447954287623,-1.8445455954523209,-1.7190337964694065,1.3368109413379141,4.069770518188156,-2.9207505037951047,-5.619642699376749,0.6860497097191192,4.065286676305553,2.6764512540723078,-4.022214344029894,-0.31883947348952857,1.5626309699729162,0.28866477556959863,0.21465241687026423,0.7731348689583526,2.6976809292511956,2.4714963468093454,1.3736621721492375,0.1129056311858003,2.032421045854526,1.9956693320195265],\"yaxis\":\"y\",\"type\":\"scatter\"},{\"hovertemplate\":\"<b>%{hovertext}</b><br><br>color=text_wsj<br>0=%{x}<br>1=%{y}<extra></extra>\",\"hovertext\":[\"2008-06-04T00:00:00\",\"2008-11-05T00:00:00\",\"2009-01-05T00:00:00\",\"2009-01-20T00:00:00\",\"2009-04-02T00:00:00\",\"2009-04-15T00:00:00\",\"2009-05-22T00:00:00\",\"2009-06-15T00:00:00\",\"2009-07-15T00:00:00\",\"2009-09-24T00:00:00\",\"2009-10-09T00:00:00\",\"2009-11-05T00:00:00\",\"2009-12-19T00:00:00\",\"2009-12-25T00:00:00\",\"2010-01-12T00:00:00\",\"2010-03-04T00:00:00\",\"2010-03-24T00:00:00\",\"2010-04-15T00:00:00\",\"2010-04-22T00:00:00\",\"2010-05-07T00:00:00\",\"2010-07-15T00:00:00\",\"2010-07-21T00:00:00\",\"2010-07-26T00:00:00\",\"2010-08-31T00:00:00\",\"2010-11-02T00:00:00\",\"2011-01-08T00:00:00\",\"2011-01-26T00:00:00\",\"2011-01-31T00:00:00\",\"2011-02-19T00:00:00\",\"2011-05-02T00:00:00\",\"2011-05-23T00:00:00\",\"2011-06-23T00:00:00\",\"2011-07-26T00:00:00\",\"2011-09-09T00:00:00\",\"2011-10-17T00:00:00\",\"2011-11-17T00:00:00\",\"2011-12-16T00:00:00\",\"2012-01-06T00:00:00\",\"2012-01-25T00:00:00\",\"2012-03-27T00:00:00\",\"2012-03-31T00:00:00\",\"2012-04-29T00:00:00\",\"2012-05-02T00:00:00\",\"2012-05-10T00:00:00\",\"2012-06-29T00:00:00\",\"2012-07-21T00:00:00\",\"2012-09-07T00:00:00\",\"2012-10-29T00:00:00\",\"2012-11-07T00:00:00\",\"2012-12-15T00:00:00\",\"2013-01-16T00:00:00\",\"2013-01-22T00:00:00\",\"2013-01-30T00:00:00\",\"2013-02-13T00:00:00\",\"2013-04-16T00:00:00\",\"2013-04-26T00:00:00\",\"2013-05-04T00:00:00\",\"2013-06-19T00:00:00\",\"2013-07-14T00:00:00\",\"2013-08-29T00:00:00\",\"2013-09-11T00:00:00\",\"2013-10-02T00:00:00\",\"2013-12-06T00:00:00\",\"2014-01-18T00:00:00\",\"2014-01-29T00:00:00\",\"2014-03-07T00:00:00\",\"2014-03-26T00:00:00\",\"2014-04-11T00:00:00\",\"2014-05-21T00:00:00\",\"2014-07-01T00:00:00\",\"2014-08-08T00:00:00\",\"2014-08-12T00:00:00\",\"2014-09-17T00:00:00\",\"2014-10-18T00:00:00\",\"2014-11-05T00:00:00\",\"2014-12-18T00:00:00\",\"2015-01-08T00:00:00\",\"2015-01-21T00:00:00\",\"2015-02-14T00:00:00\",\"2015-03-11T00:00:00\",\"2015-04-03T00:00:00\",\"2015-05-09T00:00:00\",\"2015-06-18T00:00:00\",\"2015-07-07T00:00:00\",\"2015-08-03T00:00:00\",\"2015-09-24T00:00:00\",\"2015-10-02T00:00:00\",\"2015-11-14T00:00:00\",\"2015-12-14T00:00:00\",\"2016-01-13T00:00:00\",\"2016-02-16T00:00:00\",\"2016-03-23T00:00:00\",\"2016-04-25T00:00:00\",\"2016-05-06T00:00:00\",\"2016-06-13T00:00:00\",\"2016-07-28T00:00:00\",\"2016-08-17T00:00:00\",\"2016-09-05T00:00:00\",\"2016-11-09T00:00:00\",\"2017-01-11T00:00:00\"],\"legendgroup\":\"text_wsj\",\"marker\":{\"color\":\"rgb(57, 105, 172)\",\"symbol\":\"circle\"},\"mode\":\"markers\",\"name\":\"text_wsj\",\"orientation\":\"v\",\"showlegend\":true,\"x\":[-3.515470575801589,-4.623719965162284,-0.13602125283206337,-3.320453172010618,-1.2237747685674372,-0.20257704023339373,-2.7424723834421267,-4.533688656380277,-5.873272964163741,-3.5986825116628602,-4.591995977741197,-5.58336427868902,-2.844289041831476,-3.894777407484284,-5.298647268678516,-0.23476605462149733,-1.9861365968520768,-0.9512586387857276,-4.702819229043798,-3.5871863305946063,-0.4264829161188786,-1.8760588581901474,-5.958241823108102,-2.496806016042252,-5.163786621917259,-5.325166204692198,-1.3752197261687478,-5.034489497657536,-3.8541553439344365,-6.291853773394625,-3.7746287167233192,-3.82984001357094,-1.294816874872403,-1.809358138304115,-4.391565146244374,-2.7208051673579012,-4.831382686590233,-2.57092626520584,-2.1553695727596405,-2.19473045471466,-4.2920935478086335,-2.3931413908570898,-4.48332446048766,-2.498142631780515,-3.008725663532418,-5.75726835263802,-0.9525202950478394,-2.782778687087348,-5.682514455314874,-4.996984095210903,-0.19271386939167665,-4.005633872226834,-0.49676861883846213,-1.9585227253558606,-2.4276130735946033,-4.93293256509667,-2.055830131825077,-2.0725095655081063,-2.721354729263013,-2.719839316931351,-1.975738491294322,-0.49795205480392096,-6.460740530566799,-1.2004881336635405,-0.1081149746220706,-3.0133499119751246,-1.2859647883712655,-3.5831653729790345,-3.0441517680723535,-1.5073353563175969,-5.270888613309444,-3.2421915698615664,0.5191990769022953,3.933952880483451,-5.624607160569139,-3.137959867635241,-5.841851497046401,-2.3954811970827303,0.8794697478315949,-0.07066277919401741,-1.5130826736046328,-1.277723864326242,-6.13011524021531,-1.4731789802429707,-2.195762600327967,-2.8998559521505074,-2.1165786139053693,-5.148973394507167,-2.4556659239181235,-1.9193565854103416,-2.58321229765922,-5.929057263426186,-1.9025430496923057,0.8782695905822225,-6.255222657290472,-2.4792156976948956,-4.543910894488004,-1.7207460700571948,-3.9866548945063536,-1.2304999806157357],\"xaxis\":\"x\",\"y\":[2.659996740780884,0.3771056897818227,-2.9144291374113216,1.840979931554225,-1.3609104299633652,-2.8006660335279774,0.17286529649494273,1.805056194205465,-4.976886152527888,-2.812568411914963,0.45668969554225486,3.2174707246894974,-2.252443654704843,4.254656524153913,-0.56946542782652,-0.6716625609856279,-0.3868559261049136,-1.6481816412673516,-2.301289783701724,-3.5512479278001607,-2.8369079844332,-0.6721601855693123,-3.589447563483486,-0.12646015729516177,-0.2887779477064405,6.516826960501966,-2.0785737069950496,-2.897447263328558,-3.1679331568349003,1.4939092867536705,3.8438279137286546,-1.2985806926126007,-2.808937499832622,-2.3275861661383925,-0.7893405272211819,-1.82299635514258,-1.1407506754969299,-3.482595205867012,-0.6041462928426582,-1.3098364080291438,-5.305566228658849,3.9245864836514426,-0.6265758581709674,2.9283827014712283,-1.8999831326937864,4.352919883916774,0.9382767762971207,-0.030287542805619416,1.1029043686553996,4.706519208651656,-0.7020865408201151,0.8292667585294885,1.5719973919639103,0.06527846588424854,3.11118432398322,2.618216328808726,-1.5966432707063638,-3.0470568480925837,2.7184510030010127,1.919899918882153,-0.14900350232055318,-1.9733287747290302,2.564320383270878,-1.946445809973196,-0.4129143818706889,-0.5171161373941024,-1.292978658885455,0.6293145737999424,0.5916901473644924,-1.2815473795660612,-2.2929316865154026,1.9838247801278919,-4.174312605284692,1.4645054169015166,0.6856825929632347,-2.1081062837311264,1.5909386670314987,-1.437029792574914,-1.4912354919687585,-3.7056478842165186,-3.1635789179168876,-1.6270008741258388,5.381112293161666,-0.9029914411673069,-5.30457786615875,0.1114123745873998,3.1283918354368367,0.44946139991906725,-5.235060819670357,0.4861009172887967,0.0048204069876227,2.8282591097537364,-0.3341726283530083,0.14831621062526493,3.833880381240806,3.8422633017466032,2.1672265965191544,-5.81385637197697,2.0909545833049554,0.30543977816240453],\"yaxis\":\"y\",\"type\":\"scatter\"},{\"hovertemplate\":\"<b>%{hovertext}</b><br><br>color=FoxNews<br>0=%{x}<br>1=%{y}<extra></extra>\",\"hovertext\":[\"2011-05-02T00:00:00\",\"2011-09-09T00:00:00\"],\"legendgroup\":\"FoxNews\",\"marker\":{\"color\":\"rgb(242, 183, 1)\",\"symbol\":\"circle\"},\"mode\":\"markers\",\"name\":\"FoxNews\",\"orientation\":\"v\",\"showlegend\":true,\"x\":[-7.391743094527398,-4.54723594975655],\"xaxis\":\"x\",\"y\":[2.0131820261436575,1.1904206725643207],\"yaxis\":\"y\",\"type\":\"scatter\"},{\"hovertemplate\":\"<b>%{hovertext}</b><br><br>color=InfoWars<br>0=%{x}<br>1=%{y}<extra></extra>\",\"hovertext\":[\"2011-05-02T00:00:00\",\"2012-12-15T00:00:00\",\"2016-02-16T00:00:00\"],\"legendgroup\":\"InfoWars\",\"marker\":{\"color\":\"rgb(231, 63, 116)\",\"symbol\":\"circle\"},\"mode\":\"markers\",\"name\":\"InfoWars\",\"orientation\":\"v\",\"showlegend\":true,\"x\":[-2.9208498626474007,-5.882511106252943,-8.637472412829837],\"xaxis\":\"x\",\"y\":[0.5609297052589985,0.2796286331887441,-2.364271406134781],\"yaxis\":\"y\",\"type\":\"scatter\"},{\"hovertemplate\":\"<b>%{hovertext}</b><br><br>color=NationalReview<br>0=%{x}<br>1=%{y}<extra></extra>\",\"hovertext\":[\"2011-05-02T00:00:00\",\"2011-09-09T00:00:00\",\"2012-12-15T00:00:00\",\"2016-02-16T00:00:00\"],\"legendgroup\":\"NationalReview\",\"marker\":{\"color\":\"rgb(128, 186, 90)\",\"symbol\":\"circle\"},\"mode\":\"markers\",\"name\":\"NationalReview\",\"orientation\":\"v\",\"showlegend\":true,\"x\":[-6.216451208564068,-3.79696617989323,2.0881728117490646,-3.254146888479252],\"xaxis\":\"x\",\"y\":[1.9319177362099136,-4.23084546837629,-2.5277390582927746,0.43518881643873625],\"yaxis\":\"y\",\"type\":\"scatter\"},{\"hovertemplate\":\"<b>%{hovertext}</b><br><br>color=Intercept<br>0=%{x}<br>1=%{y}<extra></extra>\",\"hovertext\":[\"2015-04-03T00:00:00\"],\"legendgroup\":\"Intercept\",\"marker\":{\"color\":\"rgb(230, 131, 16)\",\"symbol\":\"circle\"},\"mode\":\"markers\",\"name\":\"Intercept\",\"orientation\":\"v\",\"showlegend\":true,\"x\":[-1.4399097309012643],\"xaxis\":\"x\",\"y\":[0.1081441783726349],\"yaxis\":\"y\",\"type\":\"scatter\"}],                        {\"template\":{\"data\":{\"histogram2dcontour\":[{\"type\":\"histogram2dcontour\",\"colorbar\":{\"outlinewidth\":0,\"ticks\":\"\"},\"colorscale\":[[0.0,\"#0d0887\"],[0.1111111111111111,\"#46039f\"],[0.2222222222222222,\"#7201a8\"],[0.3333333333333333,\"#9c179e\"],[0.4444444444444444,\"#bd3786\"],[0.5555555555555556,\"#d8576b\"],[0.6666666666666666,\"#ed7953\"],[0.7777777777777778,\"#fb9f3a\"],[0.8888888888888888,\"#fdca26\"],[1.0,\"#f0f921\"]]}],\"choropleth\":[{\"type\":\"choropleth\",\"colorbar\":{\"outlinewidth\":0,\"ticks\":\"\"}}],\"histogram2d\":[{\"type\":\"histogram2d\",\"colorbar\":{\"outlinewidth\":0,\"ticks\":\"\"},\"colorscale\":[[0.0,\"#0d0887\"],[0.1111111111111111,\"#46039f\"],[0.2222222222222222,\"#7201a8\"],[0.3333333333333333,\"#9c179e\"],[0.4444444444444444,\"#bd3786\"],[0.5555555555555556,\"#d8576b\"],[0.6666666666666666,\"#ed7953\"],[0.7777777777777778,\"#fb9f3a\"],[0.8888888888888888,\"#fdca26\"],[1.0,\"#f0f921\"]]}],\"heatmap\":[{\"type\":\"heatmap\",\"colorbar\":{\"outlinewidth\":0,\"ticks\":\"\"},\"colorscale\":[[0.0,\"#0d0887\"],[0.1111111111111111,\"#46039f\"],[0.2222222222222222,\"#7201a8\"],[0.3333333333333333,\"#9c179e\"],[0.4444444444444444,\"#bd3786\"],[0.5555555555555556,\"#d8576b\"],[0.6666666666666666,\"#ed7953\"],[0.7777777777777778,\"#fb9f3a\"],[0.8888888888888888,\"#fdca26\"],[1.0,\"#f0f921\"]]}],\"heatmapgl\":[{\"type\":\"heatmapgl\",\"colorbar\":{\"outlinewidth\":0,\"ticks\":\"\"},\"colorscale\":[[0.0,\"#0d0887\"],[0.1111111111111111,\"#46039f\"],[0.2222222222222222,\"#7201a8\"],[0.3333333333333333,\"#9c179e\"],[0.4444444444444444,\"#bd3786\"],[0.5555555555555556,\"#d8576b\"],[0.6666666666666666,\"#ed7953\"],[0.7777777777777778,\"#fb9f3a\"],[0.8888888888888888,\"#fdca26\"],[1.0,\"#f0f921\"]]}],\"contourcarpet\":[{\"type\":\"contourcarpet\",\"colorbar\":{\"outlinewidth\":0,\"ticks\":\"\"}}],\"contour\":[{\"type\":\"contour\",\"colorbar\":{\"outlinewidth\":0,\"ticks\":\"\"},\"colorscale\":[[0.0,\"#0d0887\"],[0.1111111111111111,\"#46039f\"],[0.2222222222222222,\"#7201a8\"],[0.3333333333333333,\"#9c179e\"],[0.4444444444444444,\"#bd3786\"],[0.5555555555555556,\"#d8576b\"],[0.6666666666666666,\"#ed7953\"],[0.7777777777777778,\"#fb9f3a\"],[0.8888888888888888,\"#fdca26\"],[1.0,\"#f0f921\"]]}],\"surface\":[{\"type\":\"surface\",\"colorbar\":{\"outlinewidth\":0,\"ticks\":\"\"},\"colorscale\":[[0.0,\"#0d0887\"],[0.1111111111111111,\"#46039f\"],[0.2222222222222222,\"#7201a8\"],[0.3333333333333333,\"#9c179e\"],[0.4444444444444444,\"#bd3786\"],[0.5555555555555556,\"#d8576b\"],[0.6666666666666666,\"#ed7953\"],[0.7777777777777778,\"#fb9f3a\"],[0.8888888888888888,\"#fdca26\"],[1.0,\"#f0f921\"]]}],\"mesh3d\":[{\"type\":\"mesh3d\",\"colorbar\":{\"outlinewidth\":0,\"ticks\":\"\"}}],\"scatter\":[{\"fillpattern\":{\"fillmode\":\"overlay\",\"size\":10,\"solidity\":0.2},\"type\":\"scatter\"}],\"parcoords\":[{\"type\":\"parcoords\",\"line\":{\"colorbar\":{\"outlinewidth\":0,\"ticks\":\"\"}}}],\"scatterpolargl\":[{\"type\":\"scatterpolargl\",\"marker\":{\"colorbar\":{\"outlinewidth\":0,\"ticks\":\"\"}}}],\"bar\":[{\"error_x\":{\"color\":\"#2a3f5f\"},\"error_y\":{\"color\":\"#2a3f5f\"},\"marker\":{\"line\":{\"color\":\"#E5ECF6\",\"width\":0.5},\"pattern\":{\"fillmode\":\"overlay\",\"size\":10,\"solidity\":0.2}},\"type\":\"bar\"}],\"scattergeo\":[{\"type\":\"scattergeo\",\"marker\":{\"colorbar\":{\"outlinewidth\":0,\"ticks\":\"\"}}}],\"scatterpolar\":[{\"type\":\"scatterpolar\",\"marker\":{\"colorbar\":{\"outlinewidth\":0,\"ticks\":\"\"}}}],\"histogram\":[{\"marker\":{\"pattern\":{\"fillmode\":\"overlay\",\"size\":10,\"solidity\":0.2}},\"type\":\"histogram\"}],\"scattergl\":[{\"type\":\"scattergl\",\"marker\":{\"colorbar\":{\"outlinewidth\":0,\"ticks\":\"\"}}}],\"scatter3d\":[{\"type\":\"scatter3d\",\"line\":{\"colorbar\":{\"outlinewidth\":0,\"ticks\":\"\"}},\"marker\":{\"colorbar\":{\"outlinewidth\":0,\"ticks\":\"\"}}}],\"scattermapbox\":[{\"type\":\"scattermapbox\",\"marker\":{\"colorbar\":{\"outlinewidth\":0,\"ticks\":\"\"}}}],\"scatterternary\":[{\"type\":\"scatterternary\",\"marker\":{\"colorbar\":{\"outlinewidth\":0,\"ticks\":\"\"}}}],\"scattercarpet\":[{\"type\":\"scattercarpet\",\"marker\":{\"colorbar\":{\"outlinewidth\":0,\"ticks\":\"\"}}}],\"carpet\":[{\"aaxis\":{\"endlinecolor\":\"#2a3f5f\",\"gridcolor\":\"white\",\"linecolor\":\"white\",\"minorgridcolor\":\"white\",\"startlinecolor\":\"#2a3f5f\"},\"baxis\":{\"endlinecolor\":\"#2a3f5f\",\"gridcolor\":\"white\",\"linecolor\":\"white\",\"minorgridcolor\":\"white\",\"startlinecolor\":\"#2a3f5f\"},\"type\":\"carpet\"}],\"table\":[{\"cells\":{\"fill\":{\"color\":\"#EBF0F8\"},\"line\":{\"color\":\"white\"}},\"header\":{\"fill\":{\"color\":\"#C8D4E3\"},\"line\":{\"color\":\"white\"}},\"type\":\"table\"}],\"barpolar\":[{\"marker\":{\"line\":{\"color\":\"#E5ECF6\",\"width\":0.5},\"pattern\":{\"fillmode\":\"overlay\",\"size\":10,\"solidity\":0.2}},\"type\":\"barpolar\"}],\"pie\":[{\"automargin\":true,\"type\":\"pie\"}]},\"layout\":{\"autotypenumbers\":\"strict\",\"colorway\":[\"#636efa\",\"#EF553B\",\"#00cc96\",\"#ab63fa\",\"#FFA15A\",\"#19d3f3\",\"#FF6692\",\"#B6E880\",\"#FF97FF\",\"#FECB52\"],\"font\":{\"color\":\"#2a3f5f\"},\"hovermode\":\"closest\",\"hoverlabel\":{\"align\":\"left\"},\"paper_bgcolor\":\"white\",\"plot_bgcolor\":\"#E5ECF6\",\"polar\":{\"bgcolor\":\"#E5ECF6\",\"angularaxis\":{\"gridcolor\":\"white\",\"linecolor\":\"white\",\"ticks\":\"\"},\"radialaxis\":{\"gridcolor\":\"white\",\"linecolor\":\"white\",\"ticks\":\"\"}},\"ternary\":{\"bgcolor\":\"#E5ECF6\",\"aaxis\":{\"gridcolor\":\"white\",\"linecolor\":\"white\",\"ticks\":\"\"},\"baxis\":{\"gridcolor\":\"white\",\"linecolor\":\"white\",\"ticks\":\"\"},\"caxis\":{\"gridcolor\":\"white\",\"linecolor\":\"white\",\"ticks\":\"\"}},\"coloraxis\":{\"colorbar\":{\"outlinewidth\":0,\"ticks\":\"\"}},\"colorscale\":{\"sequential\":[[0.0,\"#0d0887\"],[0.1111111111111111,\"#46039f\"],[0.2222222222222222,\"#7201a8\"],[0.3333333333333333,\"#9c179e\"],[0.4444444444444444,\"#bd3786\"],[0.5555555555555556,\"#d8576b\"],[0.6666666666666666,\"#ed7953\"],[0.7777777777777778,\"#fb9f3a\"],[0.8888888888888888,\"#fdca26\"],[1.0,\"#f0f921\"]],\"sequentialminus\":[[0.0,\"#0d0887\"],[0.1111111111111111,\"#46039f\"],[0.2222222222222222,\"#7201a8\"],[0.3333333333333333,\"#9c179e\"],[0.4444444444444444,\"#bd3786\"],[0.5555555555555556,\"#d8576b\"],[0.6666666666666666,\"#ed7953\"],[0.7777777777777778,\"#fb9f3a\"],[0.8888888888888888,\"#fdca26\"],[1.0,\"#f0f921\"]],\"diverging\":[[0,\"#8e0152\"],[0.1,\"#c51b7d\"],[0.2,\"#de77ae\"],[0.3,\"#f1b6da\"],[0.4,\"#fde0ef\"],[0.5,\"#f7f7f7\"],[0.6,\"#e6f5d0\"],[0.7,\"#b8e186\"],[0.8,\"#7fbc41\"],[0.9,\"#4d9221\"],[1,\"#276419\"]]},\"xaxis\":{\"gridcolor\":\"white\",\"linecolor\":\"white\",\"ticks\":\"\",\"title\":{\"standoff\":15},\"zerolinecolor\":\"white\",\"automargin\":true,\"zerolinewidth\":2},\"yaxis\":{\"gridcolor\":\"white\",\"linecolor\":\"white\",\"ticks\":\"\",\"title\":{\"standoff\":15},\"zerolinecolor\":\"white\",\"automargin\":true,\"zerolinewidth\":2},\"scene\":{\"xaxis\":{\"backgroundcolor\":\"#E5ECF6\",\"gridcolor\":\"white\",\"linecolor\":\"white\",\"showbackground\":true,\"ticks\":\"\",\"zerolinecolor\":\"white\",\"gridwidth\":2},\"yaxis\":{\"backgroundcolor\":\"#E5ECF6\",\"gridcolor\":\"white\",\"linecolor\":\"white\",\"showbackground\":true,\"ticks\":\"\",\"zerolinecolor\":\"white\",\"gridwidth\":2},\"zaxis\":{\"backgroundcolor\":\"#E5ECF6\",\"gridcolor\":\"white\",\"linecolor\":\"white\",\"showbackground\":true,\"ticks\":\"\",\"zerolinecolor\":\"white\",\"gridwidth\":2}},\"shapedefaults\":{\"line\":{\"color\":\"#2a3f5f\"}},\"annotationdefaults\":{\"arrowcolor\":\"#2a3f5f\",\"arrowhead\":0,\"arrowwidth\":1},\"geo\":{\"bgcolor\":\"white\",\"landcolor\":\"#E5ECF6\",\"subunitcolor\":\"white\",\"showland\":true,\"showlakes\":true,\"lakecolor\":\"white\"},\"title\":{\"x\":0.05},\"mapbox\":{\"style\":\"light\"}}},\"xaxis\":{\"anchor\":\"y\",\"domain\":[0.0,1.0],\"title\":{\"text\":\"0\"}},\"yaxis\":{\"anchor\":\"x\",\"domain\":[0.0,1.0],\"title\":{\"text\":\"1\"}},\"legend\":{\"title\":{\"text\":\"color\"},\"tracegroupgap\":0},\"margin\":{\"t\":60}},                        {\"responsive\": true}                    ).then(function(){\n",
       "                            \n",
       "var gd = document.getElementById('bb46f55e-efbd-4804-a576-aa675774a47d');\n",
       "var x = new MutationObserver(function (mutations, observer) {{\n",
       "        var display = window.getComputedStyle(gd).display;\n",
       "        if (!display || display === 'none') {{\n",
       "            console.log([gd, 'removed!']);\n",
       "            Plotly.purge(gd);\n",
       "            observer.disconnect();\n",
       "        }}\n",
       "}});\n",
       "\n",
       "// Listen for the removal of the full notebook cells\n",
       "var notebookContainer = gd.closest('#notebook-container');\n",
       "if (notebookContainer) {{\n",
       "    x.observe(notebookContainer, {childList: true});\n",
       "}}\n",
       "\n",
       "// Listen for the clearing of the current output cell\n",
       "var outputEl = gd.closest('.output');\n",
       "if (outputEl) {{\n",
       "    x.observe(outputEl, {childList: true});\n",
       "}}\n",
       "\n",
       "                        })                };                });            </script>        </div>"
      ]
     },
     "metadata": {},
     "output_type": "display_data"
    }
   ],
   "source": [
    "fig = px.scatter(pcafit, \n",
    "                 x=0, \n",
    "                 y=1, \n",
    "                 color=pcaBiplotData['source'],\n",
    "                 hover_name=pcaBiplotData['date'],\n",
    "                 color_discrete_sequence=px.colors.qualitative.Bold)\n",
    "fig.show()"
   ]
  },
  {
   "cell_type": "code",
   "execution_count": 14,
   "id": "191102b8",
   "metadata": {},
   "outputs": [
    {
     "data": {
      "text/plain": [
       "0              10.995829\n",
       "1               3.820567\n",
       "2    2012-07-21 00:00:00\n",
       "3               text_oba\n",
       "Name: 140, dtype: object"
      ]
     },
     "execution_count": 14,
     "metadata": {},
     "output_type": "execute_result"
    }
   ],
   "source": [
    "# What is that NYT way out there?\n",
    "plot_data.loc[plot_data[0].idxmax()]"
   ]
  },
  {
   "cell_type": "markdown",
   "id": "20dccc14",
   "metadata": {},
   "source": [
    "Very short article announcing new Intel fab and mentioning that Obama spoke at Intel."
   ]
  },
  {
   "cell_type": "markdown",
   "id": "937b40bf",
   "metadata": {},
   "source": [
    "### Save the data"
   ]
  },
  {
   "cell_type": "code",
   "execution_count": 15,
   "id": "bad460cc",
   "metadata": {},
   "outputs": [],
   "source": [
    "#pcaBiplotData.to_csv('pcaBiplotData.csv', index=False)"
   ]
  },
  {
   "cell_type": "code",
   "execution_count": 16,
   "id": "f2153dd1",
   "metadata": {},
   "outputs": [],
   "source": [
    "#df.to_csv('df_encodings.csv')"
   ]
  },
  {
   "cell_type": "markdown",
   "id": "0a741a07",
   "metadata": {},
   "source": [
    "Playing with python's PCA"
   ]
  },
  {
   "cell_type": "code",
   "execution_count": 17,
   "id": "32a69aac",
   "metadata": {},
   "outputs": [],
   "source": [
    "pca2 = PCA(n_components = 10)\n",
    "pcafit2 = pca2.fit_transform(pcaBiplotData.loc[:, pcaBiplotData.columns.str.startswith('enc')])"
   ]
  },
  {
   "cell_type": "code",
   "execution_count": 18,
   "id": "613311f3",
   "metadata": {},
   "outputs": [
    {
     "name": "stdout",
     "output_type": "stream",
     "text": [
      "[81.78093018 42.05430485 31.00536398 29.35742016 20.7621332  17.90038185\n",
      " 17.76776161 16.05083271 13.82075759 13.030196  ]\n"
     ]
    }
   ],
   "source": [
    "# The singular values corresponding to each of the selected components - guessing they're refering to eigenvalues\n",
    "print(pca2.singular_values_)"
   ]
  },
  {
   "cell_type": "code",
   "execution_count": 19,
   "id": "3af4b37f",
   "metadata": {},
   "outputs": [
    {
     "name": "stdout",
     "output_type": "stream",
     "text": [
      "[21.64440304  5.72350989  3.11110872  2.78918485  1.39503616  1.03696981\n",
      "  1.02166134  0.83375156  0.61816615  0.54946928]\n"
     ]
    }
   ],
   "source": [
    "# The amount of variance explained by each of the selected components.\n",
    "print(pca2.explained_variance_)"
   ]
  },
  {
   "cell_type": "code",
   "execution_count": 20,
   "id": "3d4a0916",
   "metadata": {},
   "outputs": [
    {
     "name": "stdout",
     "output_type": "stream",
     "text": [
      "[0.47480208 0.12555368 0.06824678 0.06118491 0.03060219 0.02274747\n",
      " 0.02241166 0.01828958 0.01356039 0.01205342]\n"
     ]
    }
   ],
   "source": [
    "# Percentage of variance explained by each of the selected components.\n",
    "print(pca2.explained_variance_ratio_)"
   ]
  },
  {
   "cell_type": "code",
   "execution_count": 21,
   "id": "b2fd093c",
   "metadata": {},
   "outputs": [],
   "source": [
    "# Sklearn's T-SNE\n",
    "# https://scikit-learn.org/stable/modules/generated/sklearn.manifold.TSNE.html\n",
    "from sklearn import manifold"
   ]
  },
  {
   "cell_type": "code",
   "execution_count": 44,
   "id": "a1f9f3be",
   "metadata": {},
   "outputs": [
    {
     "name": "stderr",
     "output_type": "stream",
     "text": [
      "/home/muddy/.local/lib/python3.10/site-packages/sklearn/manifold/_t_sne.py:810: FutureWarning:\n",
      "\n",
      "The default learning rate in TSNE will change from 200.0 to 'auto' in 1.2.\n",
      "\n"
     ]
    },
    {
     "data": {
      "application/vnd.plotly.v1+json": {
       "config": {
        "plotlyServerURL": "https://plot.ly"
       },
       "data": [
        {
         "hovertemplate": "<b>%{hovertext}</b><br><br>color=text_oba<br>0=%{x}<br>1=%{y}<extra></extra>",
         "hovertext": [
          "2008-06-04T00:00:00",
          "2008-11-05T00:00:00",
          "2009-01-05T00:00:00",
          "2009-01-20T00:00:00",
          "2009-04-02T00:00:00",
          "2009-04-15T00:00:00",
          "2009-05-22T00:00:00",
          "2009-06-15T00:00:00",
          "2009-07-15T00:00:00",
          "2009-09-24T00:00:00",
          "2009-10-09T00:00:00",
          "2009-11-05T00:00:00",
          "2009-12-19T00:00:00",
          "2009-12-25T00:00:00",
          "2010-01-12T00:00:00",
          "2010-03-04T00:00:00",
          "2010-03-24T00:00:00",
          "2010-04-15T00:00:00",
          "2010-04-22T00:00:00",
          "2010-05-07T00:00:00",
          "2010-07-15T00:00:00",
          "2010-07-21T00:00:00",
          "2010-07-26T00:00:00",
          "2010-08-31T00:00:00",
          "2010-11-02T00:00:00",
          "2011-01-08T00:00:00",
          "2011-01-26T00:00:00",
          "2011-01-31T00:00:00",
          "2011-02-19T00:00:00",
          "2011-05-02T00:00:00",
          "2011-05-23T00:00:00",
          "2011-06-23T00:00:00",
          "2011-07-26T00:00:00",
          "2011-09-09T00:00:00",
          "2011-10-17T00:00:00",
          "2011-11-17T00:00:00",
          "2011-12-16T00:00:00",
          "2012-01-06T00:00:00",
          "2012-01-25T00:00:00",
          "2012-03-27T00:00:00",
          "2012-03-31T00:00:00",
          "2012-04-29T00:00:00",
          "2012-05-02T00:00:00",
          "2012-05-10T00:00:00",
          "2012-06-29T00:00:00",
          "2012-07-21T00:00:00",
          "2012-09-07T00:00:00",
          "2012-10-29T00:00:00",
          "2012-11-07T00:00:00",
          "2012-12-15T00:00:00",
          "2013-01-16T00:00:00",
          "2013-01-22T00:00:00",
          "2013-01-30T00:00:00",
          "2013-02-13T00:00:00",
          "2013-04-16T00:00:00",
          "2013-04-26T00:00:00",
          "2013-05-04T00:00:00",
          "2013-06-19T00:00:00",
          "2013-07-14T00:00:00",
          "2013-08-29T00:00:00",
          "2013-09-11T00:00:00",
          "2013-10-02T00:00:00",
          "2013-12-06T00:00:00",
          "2014-01-18T00:00:00",
          "2014-01-29T00:00:00",
          "2014-03-07T00:00:00",
          "2014-03-26T00:00:00",
          "2014-04-11T00:00:00",
          "2014-05-21T00:00:00",
          "2014-07-01T00:00:00",
          "2014-08-08T00:00:00",
          "2014-08-12T00:00:00",
          "2014-09-17T00:00:00",
          "2014-10-18T00:00:00",
          "2014-11-05T00:00:00",
          "2014-12-18T00:00:00",
          "2015-01-08T00:00:00",
          "2015-01-21T00:00:00",
          "2015-02-14T00:00:00",
          "2015-03-11T00:00:00",
          "2015-04-03T00:00:00",
          "2015-05-09T00:00:00",
          "2015-06-18T00:00:00",
          "2015-07-07T00:00:00",
          "2015-08-03T00:00:00",
          "2015-09-24T00:00:00",
          "2015-10-02T00:00:00",
          "2015-11-14T00:00:00",
          "2015-12-14T00:00:00",
          "2016-01-13T00:00:00",
          "2016-02-16T00:00:00",
          "2016-03-23T00:00:00",
          "2016-04-25T00:00:00",
          "2016-05-06T00:00:00",
          "2016-06-13T00:00:00",
          "2016-07-28T00:00:00",
          "2016-08-17T00:00:00",
          "2016-09-05T00:00:00",
          "2016-11-09T00:00:00",
          "2017-01-11T00:00:00"
         ],
         "legendgroup": "text_oba",
         "marker": {
          "color": "rgb(127, 60, 141)",
          "symbol": "circle"
         },
         "mode": "markers",
         "name": "text_oba",
         "orientation": "v",
         "showlegend": true,
         "type": "scatter",
         "x": [
          1.8654340505599976,
          -3.7954883575439453,
          1.2041397094726562,
          5.735947608947754,
          0.7105698585510254,
          1.8597359657287598,
          0.28485074639320374,
          -0.6638705730438232,
          0.7837364673614502,
          0.1275169849395752,
          -2.496737480163574,
          0.09749400615692139,
          -2.5092356204986572,
          2.110290050506592,
          1.7316670417785645,
          2.459566354751587,
          2.101213216781616,
          1.1051335334777832,
          0.9178870916366577,
          -0.231070876121521,
          0.6327565908432007,
          0.18033051490783691,
          0.6304743885993958,
          5.074860095977783,
          2.4781081676483154,
          2.192936897277832,
          1.3102068901062012,
          1.1734389066696167,
          3.735198497772217,
          1.5463398694992065,
          2.6252188682556152,
          -1.3191174268722534,
          0.9199152588844299,
          3.1154305934906006,
          0.4857379198074341,
          0.4985201060771942,
          2.545867919921875,
          1.5229589939117432,
          0.2584707736968994,
          2.4969892501831055,
          1.7143957614898682,
          2.553893566131592,
          2.2285051345825195,
          1.369613766670227,
          1.3204493522644043,
          1.3761838674545288,
          4.037976264953613,
          1.9457305669784546,
          1.7565343379974365,
          1.5731651782989502,
          0.8076272010803223,
          -0.8745006322860718,
          -0.1274086833000183,
          3.3454203605651855,
          0.8811401128768921,
          1.1103956699371338,
          0.44670796394348145,
          1.0187921524047852,
          1.6184701919555664,
          2.69813871383667,
          1.7500946521759033,
          -0.6469448804855347,
          0.8629311323165894,
          2.0928258895874023,
          0.7163838744163513,
          0.7768709659576416,
          10.328425407409668,
          1.6583402156829834,
          2.7988088130950928,
          2.3523623943328857,
          0.7400093078613281,
          1.1945688724517822,
          0.8837863802909851,
          9.889060974121094,
          1.8703293800354004,
          -2.9493038654327393,
          -4.1310272216796875,
          -16.85917091369629,
          0.027045130729675293,
          1.7759023904800415,
          -0.8736157417297363,
          1.7996444702148438,
          -3.2767910957336426,
          -0.43993252515792847,
          1.031884789466858,
          1.9031175374984741,
          3.8550076484680176,
          0.7331591844558716,
          3.8988847732543945,
          -4.1356000900268555,
          0.522908627986908,
          -0.316750705242157,
          1.7566590309143066,
          -17.42554473876953,
          -0.5361478328704834,
          1.5495648384094238,
          -0.37636494636535645,
          -0.05966305732727051,
          1.7677667140960693,
          2.6399779319763184
         ],
         "xaxis": "x",
         "y": [
          -5.436565399169922,
          -14.576501846313477,
          -7.416962623596191,
          -8.204791069030762,
          -2.7729673385620117,
          -7.247067928314209,
          -5.464535713195801,
          -4.77400016784668,
          -10.46169662475586,
          -7.921433925628662,
          -5.516733169555664,
          -6.9952826499938965,
          -7.233489990234375,
          -5.437755107879639,
          -3.74302077293396,
          -6.81475830078125,
          -7.330801963806152,
          -7.882567882537842,
          -6.228524208068848,
          -6.899524211883545,
          -5.100600242614746,
          -7.035801887512207,
          -7.521516799926758,
          -3.3353707790374756,
          -7.138784885406494,
          -3.8517749309539795,
          -5.781062126159668,
          -7.279315948486328,
          -7.6671319007873535,
          -4.17435359954834,
          -6.057620048522949,
          -9.75070571899414,
          -10.224533081054688,
          -7.458702564239502,
          -6.9040632247924805,
          -8.449888229370117,
          -4.595001220703125,
          -4.942207336425781,
          -6.213761806488037,
          -8.057144165039062,
          -6.935281276702881,
          -7.20874547958374,
          -3.9285569190979004,
          -7.854968070983887,
          -7.256288051605225,
          -6.67294979095459,
          -3.5738635063171387,
          -5.443599700927734,
          -7.057742595672607,
          -5.110515594482422,
          -7.635403156280518,
          -3.644440174102783,
          -7.2816009521484375,
          -3.496607780456543,
          -6.585744857788086,
          -5.478754997253418,
          -5.047260284423828,
          -3.620814323425293,
          -7.7848801612854,
          -5.701728343963623,
          -5.122087001800537,
          -8.195648193359375,
          -5.0459394454956055,
          -5.60465669631958,
          -6.856276512145996,
          -4.834928035736084,
          2.0011653900146484,
          -4.235922813415527,
          -7.429200172424316,
          -6.608589172363281,
          -4.996351718902588,
          -5.56795597076416,
          -2.380849838256836,
          -6.339103698730469,
          -6.9367594718933105,
          -5.204696178436279,
          -5.507479190826416,
          -11.84453296661377,
          -6.309850215911865,
          -7.911919593811035,
          -8.48990249633789,
          -7.554216384887695,
          -0.8796901702880859,
          -7.508532524108887,
          -6.960986137390137,
          -3.087225914001465,
          -4.7266387939453125,
          -7.087031364440918,
          -5.190790176391602,
          -4.350800514221191,
          -0.8305137157440186,
          1.3250372409820557,
          -7.890332221984863,
          1.1332954168319702,
          -5.548984050750732,
          -6.562851905822754,
          -7.779782295227051,
          -7.267183303833008,
          -6.644905090332031,
          -8.174515724182129
         ],
         "yaxis": "y"
        },
        {
         "hovertemplate": "<b>%{hovertext}</b><br><br>color=text_nyt<br>0=%{x}<br>1=%{y}<extra></extra>",
         "hovertext": [
          "2008-06-04T00:00:00",
          "2008-11-05T00:00:00",
          "2009-01-05T00:00:00",
          "2009-01-20T00:00:00",
          "2009-04-02T00:00:00",
          "2009-04-15T00:00:00",
          "2009-05-22T00:00:00",
          "2009-06-15T00:00:00",
          "2009-07-15T00:00:00",
          "2009-09-24T00:00:00",
          "2009-10-09T00:00:00",
          "2009-11-05T00:00:00",
          "2009-12-19T00:00:00",
          "2009-12-25T00:00:00",
          "2010-01-12T00:00:00",
          "2010-03-04T00:00:00",
          "2010-03-24T00:00:00",
          "2010-04-15T00:00:00",
          "2010-04-22T00:00:00",
          "2010-05-07T00:00:00",
          "2010-07-15T00:00:00",
          "2010-07-21T00:00:00",
          "2010-07-26T00:00:00",
          "2010-08-31T00:00:00",
          "2010-11-02T00:00:00",
          "2011-01-08T00:00:00",
          "2011-01-26T00:00:00",
          "2011-01-31T00:00:00",
          "2011-02-19T00:00:00",
          "2011-05-02T00:00:00",
          "2011-05-23T00:00:00",
          "2011-06-23T00:00:00",
          "2011-07-26T00:00:00",
          "2011-09-09T00:00:00",
          "2011-10-17T00:00:00",
          "2011-11-17T00:00:00",
          "2011-12-16T00:00:00",
          "2012-01-06T00:00:00",
          "2012-01-25T00:00:00",
          "2012-03-27T00:00:00",
          "2012-03-31T00:00:00",
          "2012-04-29T00:00:00",
          "2012-05-02T00:00:00",
          "2012-05-10T00:00:00",
          "2012-06-29T00:00:00",
          "2012-07-21T00:00:00",
          "2012-09-07T00:00:00",
          "2012-10-29T00:00:00",
          "2012-11-07T00:00:00",
          "2012-12-15T00:00:00",
          "2013-01-16T00:00:00",
          "2013-01-22T00:00:00",
          "2013-01-30T00:00:00",
          "2013-02-13T00:00:00",
          "2013-04-16T00:00:00",
          "2013-04-26T00:00:00",
          "2013-05-04T00:00:00",
          "2013-06-19T00:00:00",
          "2013-07-14T00:00:00",
          "2013-08-29T00:00:00",
          "2013-09-11T00:00:00",
          "2013-10-02T00:00:00",
          "2013-12-06T00:00:00",
          "2014-01-18T00:00:00",
          "2014-01-29T00:00:00",
          "2014-03-07T00:00:00",
          "2014-03-26T00:00:00",
          "2014-04-11T00:00:00",
          "2014-05-21T00:00:00",
          "2014-07-01T00:00:00",
          "2014-08-08T00:00:00",
          "2014-08-12T00:00:00",
          "2014-09-17T00:00:00",
          "2014-10-18T00:00:00",
          "2014-11-05T00:00:00",
          "2014-12-18T00:00:00",
          "2015-01-08T00:00:00",
          "2015-01-21T00:00:00",
          "2015-02-14T00:00:00",
          "2015-03-11T00:00:00",
          "2015-04-03T00:00:00",
          "2015-05-09T00:00:00",
          "2015-06-18T00:00:00",
          "2015-07-07T00:00:00",
          "2015-08-03T00:00:00",
          "2015-09-24T00:00:00",
          "2015-10-02T00:00:00",
          "2015-11-14T00:00:00",
          "2015-12-14T00:00:00",
          "2016-01-13T00:00:00",
          "2016-02-16T00:00:00",
          "2016-03-23T00:00:00",
          "2016-04-25T00:00:00",
          "2016-05-06T00:00:00",
          "2016-06-13T00:00:00",
          "2016-07-28T00:00:00",
          "2016-08-17T00:00:00",
          "2016-09-05T00:00:00",
          "2016-11-09T00:00:00",
          "2017-01-11T00:00:00"
         ],
         "legendgroup": "text_nyt",
         "marker": {
          "color": "rgb(17, 165, 121)",
          "symbol": "circle"
         },
         "mode": "markers",
         "name": "text_nyt",
         "orientation": "v",
         "showlegend": true,
         "type": "scatter",
         "x": [
          4.0353827476501465,
          -5.491243362426758,
          1.0734748840332031,
          -2.1170763969421387,
          -1.3236126899719238,
          -2.5887162685394287,
          3.6548173427581787,
          -0.058238863945007324,
          -3.445131778717041,
          -1.3301541805267334,
          0.0841604471206665,
          -0.28156256675720215,
          -4.922008037567139,
          -3.42733097076416,
          -0.6022947430610657,
          -3.2023110389709473,
          -2.693329334259033,
          -1.7417025566101074,
          -2.8013997077941895,
          -3.726081371307373,
          -2.37878155708313,
          -0.9780239462852478,
          -1.7861624956130981,
          0.5120563507080078,
          -1.1754651069641113,
          1.5662628412246704,
          -5.250934600830078,
          -2.820668935775757,
          -1.2600834369659424,
          1.762760877609253,
          1.0574731826782227,
          -0.9164201021194458,
          -5.611321449279785,
          -2.953502655029297,
          1.865951657295227,
          -2.3461432456970215,
          -5.257844924926758,
          -2.727191686630249,
          0.4714691638946533,
          -0.026581764221191406,
          -2.9282896518707275,
          1.7343504428863525,
          2.15421724319458,
          -7.56135892868042,
          -1.9421730041503906,
          -0.05843853950500488,
          -1.4751527309417725,
          1.818131923675537,
          1.6062164306640625,
          -1.483962059020996,
          -6.031020164489746,
          4.105264663696289,
          -7.466787815093994,
          -3.3158493041992188,
          1.4113199710845947,
          -1.0636911392211914,
          -1.3983430862426758,
          -2.415438175201416,
          -2.320369243621826,
          -1.9611459970474243,
          -7.2748637199401855,
          -1.9511377811431885,
          -6.457773208618164,
          0.029674530029296875,
          -8.694393157958984,
          -1.937736988067627,
          -1.5406334400177002,
          -0.7698811888694763,
          0.22107696533203125,
          -4.417229175567627,
          2.349188804626465,
          1.838782787322998,
          -4.0675787925720215,
          2.2328524589538574,
          2.68642520904541,
          -1.7517030239105225,
          0.4935038089752197,
          -0.49428343772888184,
          -3.6562201976776123,
          -3.4354047775268555,
          -0.39462709426879883,
          -1.9544291496276855,
          -0.12161913514137268,
          4.684121131896973,
          -0.0017750263214111328,
          -1.906801700592041,
          1.0392218828201294,
          -0.1689774990081787,
          -1.5424485206604004,
          -2.5632734298706055,
          -0.47390222549438477,
          2.081207036972046,
          -1.6199067831039429,
          -0.5096157789230347,
          7.175322532653809,
          0.39486002922058105,
          2.5542452335357666,
          -1.570359230041504,
          -3.8652279376983643,
          -0.9149594306945801
         ],
         "xaxis": "x",
         "y": [
          -0.9917392730712891,
          2.6620664596557617,
          3.528770685195923,
          8.649216651916504,
          -0.822374701499939,
          1.69846773147583,
          0.6325682997703552,
          4.55695104598999,
          2.8114609718322754,
          0.003726065158843994,
          2.2238755226135254,
          5.950835704803467,
          4.880042552947998,
          4.102595329284668,
          3.805927038192749,
          0.4595850706100464,
          2.9930944442749023,
          -1.4173948764801025,
          4.842009544372559,
          0.20076656341552734,
          3.415801525115967,
          2.2478389739990234,
          3.6486380100250244,
          -1.2463476657867432,
          0.8811841011047363,
          8.410051345825195,
          2.4039080142974854,
          4.288115501403809,
          3.669121265411377,
          3.0773861408233643,
          3.4503695964813232,
          8.23680591583252,
          3.969555616378784,
          6.793868541717529,
          2.8437178134918213,
          2.5128607749938965,
          4.216458320617676,
          4.784653663635254,
          2.239774227142334,
          1.7725292444229126,
          7.176687240600586,
          4.453891277313232,
          4.7383270263671875,
          2.192615032196045,
          2.8351879119873047,
          6.340826034545898,
          0.4782094955444336,
          2.341679573059082,
          2.764094114303589,
          5.873533248901367,
          3.8528096675872803,
          0.03258633613586426,
          1.9523950815200806,
          4.635552406311035,
          2.8730483055114746,
          1.8006134033203125,
          0.1229243278503418,
          0.5761432647705078,
          1.1971899271011353,
          6.431753158569336,
          -2.815363883972168,
          -0.06433629989624023,
          8.474754333496094,
          4.043647766113281,
          1.1969497203826904,
          3.2317397594451904,
          1.9554370641708374,
          2.647099256515503,
          -0.5648562908172607,
          9.473928451538086,
          1.8930883407592773,
          3.9829957485198975,
          4.545958042144775,
          -6.1959309577941895,
          2.3932275772094727,
          1.4593420028686523,
          3.857132911682129,
          1.3403511047363281,
          -3.3160853385925293,
          2.5807113647460938,
          2.6294312477111816,
          3.338496446609497,
          4.307010173797607,
          2.065941572189331,
          -1.7491278648376465,
          -6.2860260009765625,
          5.239436149597168,
          3.5359320640563965,
          2.779635190963745,
          5.229248046875,
          4.101844787597656,
          7.132838249206543,
          1.5487409830093384,
          0.9471144676208496,
          4.708706855773926,
          7.122714519500732,
          4.5800065994262695,
          0.8001735806465149,
          -1.2367889881134033,
          -4.807245254516602
         ],
         "yaxis": "y"
        },
        {
         "hovertemplate": "<b>%{hovertext}</b><br><br>color=text_wsj<br>0=%{x}<br>1=%{y}<extra></extra>",
         "hovertext": [
          "2008-06-04T00:00:00",
          "2008-11-05T00:00:00",
          "2009-01-05T00:00:00",
          "2009-01-20T00:00:00",
          "2009-04-02T00:00:00",
          "2009-04-15T00:00:00",
          "2009-05-22T00:00:00",
          "2009-06-15T00:00:00",
          "2009-07-15T00:00:00",
          "2009-09-24T00:00:00",
          "2009-10-09T00:00:00",
          "2009-11-05T00:00:00",
          "2009-12-19T00:00:00",
          "2009-12-25T00:00:00",
          "2010-01-12T00:00:00",
          "2010-03-04T00:00:00",
          "2010-03-24T00:00:00",
          "2010-04-15T00:00:00",
          "2010-04-22T00:00:00",
          "2010-05-07T00:00:00",
          "2010-07-15T00:00:00",
          "2010-07-21T00:00:00",
          "2010-07-26T00:00:00",
          "2010-08-31T00:00:00",
          "2010-11-02T00:00:00",
          "2011-01-08T00:00:00",
          "2011-01-26T00:00:00",
          "2011-01-31T00:00:00",
          "2011-02-19T00:00:00",
          "2011-05-02T00:00:00",
          "2011-05-23T00:00:00",
          "2011-06-23T00:00:00",
          "2011-07-26T00:00:00",
          "2011-09-09T00:00:00",
          "2011-10-17T00:00:00",
          "2011-11-17T00:00:00",
          "2011-12-16T00:00:00",
          "2012-01-06T00:00:00",
          "2012-01-25T00:00:00",
          "2012-03-27T00:00:00",
          "2012-03-31T00:00:00",
          "2012-04-29T00:00:00",
          "2012-05-02T00:00:00",
          "2012-05-10T00:00:00",
          "2012-06-29T00:00:00",
          "2012-07-21T00:00:00",
          "2012-09-07T00:00:00",
          "2012-10-29T00:00:00",
          "2012-11-07T00:00:00",
          "2012-12-15T00:00:00",
          "2013-01-16T00:00:00",
          "2013-01-22T00:00:00",
          "2013-01-30T00:00:00",
          "2013-02-13T00:00:00",
          "2013-04-16T00:00:00",
          "2013-04-26T00:00:00",
          "2013-05-04T00:00:00",
          "2013-06-19T00:00:00",
          "2013-07-14T00:00:00",
          "2013-08-29T00:00:00",
          "2013-09-11T00:00:00",
          "2013-10-02T00:00:00",
          "2013-12-06T00:00:00",
          "2014-01-18T00:00:00",
          "2014-01-29T00:00:00",
          "2014-03-07T00:00:00",
          "2014-03-26T00:00:00",
          "2014-04-11T00:00:00",
          "2014-05-21T00:00:00",
          "2014-07-01T00:00:00",
          "2014-08-08T00:00:00",
          "2014-08-12T00:00:00",
          "2014-09-17T00:00:00",
          "2014-10-18T00:00:00",
          "2014-11-05T00:00:00",
          "2014-12-18T00:00:00",
          "2015-01-08T00:00:00",
          "2015-01-21T00:00:00",
          "2015-02-14T00:00:00",
          "2015-03-11T00:00:00",
          "2015-04-03T00:00:00",
          "2015-05-09T00:00:00",
          "2015-06-18T00:00:00",
          "2015-07-07T00:00:00",
          "2015-08-03T00:00:00",
          "2015-09-24T00:00:00",
          "2015-10-02T00:00:00",
          "2015-11-14T00:00:00",
          "2015-12-14T00:00:00",
          "2016-01-13T00:00:00",
          "2016-02-16T00:00:00",
          "2016-03-23T00:00:00",
          "2016-04-25T00:00:00",
          "2016-05-06T00:00:00",
          "2016-06-13T00:00:00",
          "2016-07-28T00:00:00",
          "2016-08-17T00:00:00",
          "2016-09-05T00:00:00",
          "2016-11-09T00:00:00",
          "2017-01-11T00:00:00"
         ],
         "legendgroup": "text_wsj",
         "marker": {
          "color": "rgb(57, 105, 172)",
          "symbol": "circle"
         },
         "mode": "markers",
         "name": "text_wsj",
         "orientation": "v",
         "showlegend": true,
         "type": "scatter",
         "x": [
          -0.6678458452224731,
          -2.2219748497009277,
          -5.552929401397705,
          -0.8802087306976318,
          -5.971976280212402,
          -3.10050892829895,
          -2.1429977416992188,
          1.0586845874786377,
          -2.858865261077881,
          -3.5246236324310303,
          -0.5095226764678955,
          -0.18430191278457642,
          -2.622103691101074,
          0.0035114288330078125,
          -0.259493350982666,
          -2.723102331161499,
          -2.045552968978882,
          -3.319650411605835,
          2.770580768585205,
          2.853602647781372,
          0.31507372856140137,
          -2.6304397583007812,
          -0.5841607451438904,
          -1.1188182830810547,
          -0.31889212131500244,
          0.457330584526062,
          -2.9071359634399414,
          -2.8820486068725586,
          -2.614715576171875,
          1.6388074159622192,
          0.4728301763534546,
          -1.0392624139785767,
          -2.484302043914795,
          -1.1165709495544434,
          -0.31108784675598145,
          -2.395252227783203,
          2.6609888076782227,
          2.2404873371124268,
          -2.1766395568847656,
          -3.2474892139434814,
          -3.0280256271362305,
          1.7872405052185059,
          -5.682676792144775,
          -0.1454792022705078,
          -1.5211181640625,
          8.946418762207031,
          -2.3722639083862305,
          1.6853196620941162,
          1.4114869832992554,
          1.5581251382827759,
          -2.877815008163452,
          -0.39277350902557373,
          -0.5000815391540527,
          -0.7838180661201477,
          1.6333810091018677,
          -1.4920248985290527,
          -1.2006222009658813,
          -6.601532936096191,
          1.8092319965362549,
          -4.119779586791992,
          -3.886301040649414,
          -6.661411285400391,
          2.9628219604492188,
          -0.6806617975234985,
          -3.323498010635376,
          -2.4962384700775146,
          -3.0067403316497803,
          -0.688574492931366,
          -4.966188907623291,
          3.8477954864501953,
          -2.231462001800537,
          -0.8068861365318298,
          -1.6974703073501587,
          0.18899178504943848,
          -0.5324363112449646,
          -1.8293260335922241,
          -21.312240600585938,
          -4.074057579040527,
          -3.3212270736694336,
          -3.341905355453491,
          -2.472336530685425,
          -2.19296932220459,
          0.2603297233581543,
          0.8786048889160156,
          -3.285656690597534,
          -0.163457989692688,
          -1.9416635036468506,
          -0.45218729972839355,
          -3.052128791809082,
          -1.897517204284668,
          -2.321270704269409,
          1.226143717765808,
          -2.6621665954589844,
          -2.2010490894317627,
          0.8036400079727173,
          -0.06517261266708374,
          1.1452038288116455,
          -8.69036865234375,
          -0.7057045698165894,
          -5.421076774597168
         ],
         "xaxis": "x",
         "y": [
          2.665618419647217,
          3.340941905975342,
          2.151409864425659,
          2.018907070159912,
          -16.374540328979492,
          2.748234987258911,
          1.4207372665405273,
          2.2152040004730225,
          3.0164339542388916,
          2.351386547088623,
          2.759061098098755,
          4.822013854980469,
          2.7738213539123535,
          4.686028480529785,
          3.651402473449707,
          4.488664627075195,
          2.6168107986450195,
          5.812525749206543,
          2.4333889484405518,
          6.97299861907959,
          5.300411224365234,
          1.6983911991119385,
          1.5635441541671753,
          2.3709182739257812,
          -1.7746343612670898,
          4.531206130981445,
          5.337334632873535,
          0.25090479850769043,
          3.6683952808380127,
          4.840418815612793,
          4.844419479370117,
          -1.262080192565918,
          3.3728904724121094,
          -3.246579170227051,
          5.258113384246826,
          1.6058769226074219,
          5.008462905883789,
          2.5432705879211426,
          2.7547953128814697,
          2.4242897033691406,
          2.3321588039398193,
          4.951359748840332,
          3.3864312171936035,
          2.732499122619629,
          2.5303213596343994,
          3.487177848815918,
          3.7570159435272217,
          2.265007495880127,
          1.4156146049499512,
          5.381407737731934,
          -3.0003316402435303,
          2.296921491622925,
          1.5432982444763184,
          -0.8424437046051025,
          3.0927796363830566,
          3.3308422565460205,
          3.192943572998047,
          3.3983144760131836,
          5.3389387130737305,
          1.2777833938598633,
          1.6258420944213867,
          3.2536795139312744,
          1.5530221462249756,
          3.4707608222961426,
          3.1129584312438965,
          4.185301780700684,
          3.3647232055664062,
          1.8969464302062988,
          2.171548366546631,
          1.5894639492034912,
          1.8701393604278564,
          4.1753830909729,
          0.7720160484313965,
          -7.5425615310668945,
          6.349468231201172,
          0.5213437080383301,
          12.744732856750488,
          -0.9401154518127441,
          7.454894065856934,
          4.141018390655518,
          2.666210651397705,
          3.4717540740966797,
          5.374919891357422,
          4.4326982498168945,
          7.664102077484131,
          6.221444129943848,
          3.6747841835021973,
          2.3240292072296143,
          0.5960747003555298,
          4.969682216644287,
          0.7241966724395752,
          3.9709770679473877,
          2.548163890838623,
          -0.647580623626709,
          5.318711280822754,
          2.1962954998016357,
          4.718514442443848,
          2.1098520755767822,
          4.487503528594971,
          4.809021472930908
         ],
         "yaxis": "y"
        },
        {
         "hovertemplate": "<b>%{hovertext}</b><br><br>color=FoxNews<br>0=%{x}<br>1=%{y}<extra></extra>",
         "hovertext": [
          "2011-05-02T00:00:00",
          "2011-09-09T00:00:00"
         ],
         "legendgroup": "FoxNews",
         "marker": {
          "color": "rgb(242, 183, 1)",
          "symbol": "circle"
         },
         "mode": "markers",
         "name": "FoxNews",
         "orientation": "v",
         "showlegend": true,
         "type": "scatter",
         "x": [
          9.295873641967773,
          1.1860283613204956
         ],
         "xaxis": "x",
         "y": [
          2.0860085487365723,
          4.8784003257751465
         ],
         "yaxis": "y"
        },
        {
         "hovertemplate": "<b>%{hovertext}</b><br><br>color=InfoWars<br>0=%{x}<br>1=%{y}<extra></extra>",
         "hovertext": [
          "2011-05-02T00:00:00",
          "2012-12-15T00:00:00",
          "2016-02-16T00:00:00"
         ],
         "legendgroup": "InfoWars",
         "marker": {
          "color": "rgb(231, 63, 116)",
          "symbol": "circle"
         },
         "mode": "markers",
         "name": "InfoWars",
         "orientation": "v",
         "showlegend": true,
         "type": "scatter",
         "x": [
          0.49228739738464355,
          2.2826790809631348,
          0.9638147354125977
         ],
         "xaxis": "x",
         "y": [
          6.053598403930664,
          4.531741619110107,
          3.9401252269744873
         ],
         "yaxis": "y"
        },
        {
         "hovertemplate": "<b>%{hovertext}</b><br><br>color=NationalReview<br>0=%{x}<br>1=%{y}<extra></extra>",
         "hovertext": [
          "2011-05-02T00:00:00",
          "2011-09-09T00:00:00",
          "2012-12-15T00:00:00",
          "2016-02-16T00:00:00"
         ],
         "legendgroup": "NationalReview",
         "marker": {
          "color": "rgb(128, 186, 90)",
          "symbol": "circle"
         },
         "mode": "markers",
         "name": "NationalReview",
         "orientation": "v",
         "showlegend": true,
         "type": "scatter",
         "x": [
          -1.0561800003051758,
          -1.2864266633987427,
          1.111605167388916,
          -0.5435302257537842
         ],
         "xaxis": "x",
         "y": [
          3.320974111557007,
          4.971914291381836,
          -5.9491400718688965,
          2.163325786590576
         ],
         "yaxis": "y"
        },
        {
         "hovertemplate": "<b>%{hovertext}</b><br><br>color=Intercept<br>0=%{x}<br>1=%{y}<extra></extra>",
         "hovertext": [
          "2015-04-03T00:00:00"
         ],
         "legendgroup": "Intercept",
         "marker": {
          "color": "rgb(230, 131, 16)",
          "symbol": "circle"
         },
         "mode": "markers",
         "name": "Intercept",
         "orientation": "v",
         "showlegend": true,
         "type": "scatter",
         "x": [
          -1.2223271131515503
         ],
         "xaxis": "x",
         "y": [
          -3.6206297874450684
         ],
         "yaxis": "y"
        }
       ],
       "layout": {
        "legend": {
         "title": {
          "text": "color"
         },
         "tracegroupgap": 0
        },
        "margin": {
         "t": 60
        },
        "template": {
         "data": {
          "bar": [
           {
            "error_x": {
             "color": "#2a3f5f"
            },
            "error_y": {
             "color": "#2a3f5f"
            },
            "marker": {
             "line": {
              "color": "#E5ECF6",
              "width": 0.5
             },
             "pattern": {
              "fillmode": "overlay",
              "size": 10,
              "solidity": 0.2
             }
            },
            "type": "bar"
           }
          ],
          "barpolar": [
           {
            "marker": {
             "line": {
              "color": "#E5ECF6",
              "width": 0.5
             },
             "pattern": {
              "fillmode": "overlay",
              "size": 10,
              "solidity": 0.2
             }
            },
            "type": "barpolar"
           }
          ],
          "carpet": [
           {
            "aaxis": {
             "endlinecolor": "#2a3f5f",
             "gridcolor": "white",
             "linecolor": "white",
             "minorgridcolor": "white",
             "startlinecolor": "#2a3f5f"
            },
            "baxis": {
             "endlinecolor": "#2a3f5f",
             "gridcolor": "white",
             "linecolor": "white",
             "minorgridcolor": "white",
             "startlinecolor": "#2a3f5f"
            },
            "type": "carpet"
           }
          ],
          "choropleth": [
           {
            "colorbar": {
             "outlinewidth": 0,
             "ticks": ""
            },
            "type": "choropleth"
           }
          ],
          "contour": [
           {
            "colorbar": {
             "outlinewidth": 0,
             "ticks": ""
            },
            "colorscale": [
             [
              0,
              "#0d0887"
             ],
             [
              0.1111111111111111,
              "#46039f"
             ],
             [
              0.2222222222222222,
              "#7201a8"
             ],
             [
              0.3333333333333333,
              "#9c179e"
             ],
             [
              0.4444444444444444,
              "#bd3786"
             ],
             [
              0.5555555555555556,
              "#d8576b"
             ],
             [
              0.6666666666666666,
              "#ed7953"
             ],
             [
              0.7777777777777778,
              "#fb9f3a"
             ],
             [
              0.8888888888888888,
              "#fdca26"
             ],
             [
              1,
              "#f0f921"
             ]
            ],
            "type": "contour"
           }
          ],
          "contourcarpet": [
           {
            "colorbar": {
             "outlinewidth": 0,
             "ticks": ""
            },
            "type": "contourcarpet"
           }
          ],
          "heatmap": [
           {
            "colorbar": {
             "outlinewidth": 0,
             "ticks": ""
            },
            "colorscale": [
             [
              0,
              "#0d0887"
             ],
             [
              0.1111111111111111,
              "#46039f"
             ],
             [
              0.2222222222222222,
              "#7201a8"
             ],
             [
              0.3333333333333333,
              "#9c179e"
             ],
             [
              0.4444444444444444,
              "#bd3786"
             ],
             [
              0.5555555555555556,
              "#d8576b"
             ],
             [
              0.6666666666666666,
              "#ed7953"
             ],
             [
              0.7777777777777778,
              "#fb9f3a"
             ],
             [
              0.8888888888888888,
              "#fdca26"
             ],
             [
              1,
              "#f0f921"
             ]
            ],
            "type": "heatmap"
           }
          ],
          "heatmapgl": [
           {
            "colorbar": {
             "outlinewidth": 0,
             "ticks": ""
            },
            "colorscale": [
             [
              0,
              "#0d0887"
             ],
             [
              0.1111111111111111,
              "#46039f"
             ],
             [
              0.2222222222222222,
              "#7201a8"
             ],
             [
              0.3333333333333333,
              "#9c179e"
             ],
             [
              0.4444444444444444,
              "#bd3786"
             ],
             [
              0.5555555555555556,
              "#d8576b"
             ],
             [
              0.6666666666666666,
              "#ed7953"
             ],
             [
              0.7777777777777778,
              "#fb9f3a"
             ],
             [
              0.8888888888888888,
              "#fdca26"
             ],
             [
              1,
              "#f0f921"
             ]
            ],
            "type": "heatmapgl"
           }
          ],
          "histogram": [
           {
            "marker": {
             "pattern": {
              "fillmode": "overlay",
              "size": 10,
              "solidity": 0.2
             }
            },
            "type": "histogram"
           }
          ],
          "histogram2d": [
           {
            "colorbar": {
             "outlinewidth": 0,
             "ticks": ""
            },
            "colorscale": [
             [
              0,
              "#0d0887"
             ],
             [
              0.1111111111111111,
              "#46039f"
             ],
             [
              0.2222222222222222,
              "#7201a8"
             ],
             [
              0.3333333333333333,
              "#9c179e"
             ],
             [
              0.4444444444444444,
              "#bd3786"
             ],
             [
              0.5555555555555556,
              "#d8576b"
             ],
             [
              0.6666666666666666,
              "#ed7953"
             ],
             [
              0.7777777777777778,
              "#fb9f3a"
             ],
             [
              0.8888888888888888,
              "#fdca26"
             ],
             [
              1,
              "#f0f921"
             ]
            ],
            "type": "histogram2d"
           }
          ],
          "histogram2dcontour": [
           {
            "colorbar": {
             "outlinewidth": 0,
             "ticks": ""
            },
            "colorscale": [
             [
              0,
              "#0d0887"
             ],
             [
              0.1111111111111111,
              "#46039f"
             ],
             [
              0.2222222222222222,
              "#7201a8"
             ],
             [
              0.3333333333333333,
              "#9c179e"
             ],
             [
              0.4444444444444444,
              "#bd3786"
             ],
             [
              0.5555555555555556,
              "#d8576b"
             ],
             [
              0.6666666666666666,
              "#ed7953"
             ],
             [
              0.7777777777777778,
              "#fb9f3a"
             ],
             [
              0.8888888888888888,
              "#fdca26"
             ],
             [
              1,
              "#f0f921"
             ]
            ],
            "type": "histogram2dcontour"
           }
          ],
          "mesh3d": [
           {
            "colorbar": {
             "outlinewidth": 0,
             "ticks": ""
            },
            "type": "mesh3d"
           }
          ],
          "parcoords": [
           {
            "line": {
             "colorbar": {
              "outlinewidth": 0,
              "ticks": ""
             }
            },
            "type": "parcoords"
           }
          ],
          "pie": [
           {
            "automargin": true,
            "type": "pie"
           }
          ],
          "scatter": [
           {
            "fillpattern": {
             "fillmode": "overlay",
             "size": 10,
             "solidity": 0.2
            },
            "type": "scatter"
           }
          ],
          "scatter3d": [
           {
            "line": {
             "colorbar": {
              "outlinewidth": 0,
              "ticks": ""
             }
            },
            "marker": {
             "colorbar": {
              "outlinewidth": 0,
              "ticks": ""
             }
            },
            "type": "scatter3d"
           }
          ],
          "scattercarpet": [
           {
            "marker": {
             "colorbar": {
              "outlinewidth": 0,
              "ticks": ""
             }
            },
            "type": "scattercarpet"
           }
          ],
          "scattergeo": [
           {
            "marker": {
             "colorbar": {
              "outlinewidth": 0,
              "ticks": ""
             }
            },
            "type": "scattergeo"
           }
          ],
          "scattergl": [
           {
            "marker": {
             "colorbar": {
              "outlinewidth": 0,
              "ticks": ""
             }
            },
            "type": "scattergl"
           }
          ],
          "scattermapbox": [
           {
            "marker": {
             "colorbar": {
              "outlinewidth": 0,
              "ticks": ""
             }
            },
            "type": "scattermapbox"
           }
          ],
          "scatterpolar": [
           {
            "marker": {
             "colorbar": {
              "outlinewidth": 0,
              "ticks": ""
             }
            },
            "type": "scatterpolar"
           }
          ],
          "scatterpolargl": [
           {
            "marker": {
             "colorbar": {
              "outlinewidth": 0,
              "ticks": ""
             }
            },
            "type": "scatterpolargl"
           }
          ],
          "scatterternary": [
           {
            "marker": {
             "colorbar": {
              "outlinewidth": 0,
              "ticks": ""
             }
            },
            "type": "scatterternary"
           }
          ],
          "surface": [
           {
            "colorbar": {
             "outlinewidth": 0,
             "ticks": ""
            },
            "colorscale": [
             [
              0,
              "#0d0887"
             ],
             [
              0.1111111111111111,
              "#46039f"
             ],
             [
              0.2222222222222222,
              "#7201a8"
             ],
             [
              0.3333333333333333,
              "#9c179e"
             ],
             [
              0.4444444444444444,
              "#bd3786"
             ],
             [
              0.5555555555555556,
              "#d8576b"
             ],
             [
              0.6666666666666666,
              "#ed7953"
             ],
             [
              0.7777777777777778,
              "#fb9f3a"
             ],
             [
              0.8888888888888888,
              "#fdca26"
             ],
             [
              1,
              "#f0f921"
             ]
            ],
            "type": "surface"
           }
          ],
          "table": [
           {
            "cells": {
             "fill": {
              "color": "#EBF0F8"
             },
             "line": {
              "color": "white"
             }
            },
            "header": {
             "fill": {
              "color": "#C8D4E3"
             },
             "line": {
              "color": "white"
             }
            },
            "type": "table"
           }
          ]
         },
         "layout": {
          "annotationdefaults": {
           "arrowcolor": "#2a3f5f",
           "arrowhead": 0,
           "arrowwidth": 1
          },
          "autotypenumbers": "strict",
          "coloraxis": {
           "colorbar": {
            "outlinewidth": 0,
            "ticks": ""
           }
          },
          "colorscale": {
           "diverging": [
            [
             0,
             "#8e0152"
            ],
            [
             0.1,
             "#c51b7d"
            ],
            [
             0.2,
             "#de77ae"
            ],
            [
             0.3,
             "#f1b6da"
            ],
            [
             0.4,
             "#fde0ef"
            ],
            [
             0.5,
             "#f7f7f7"
            ],
            [
             0.6,
             "#e6f5d0"
            ],
            [
             0.7,
             "#b8e186"
            ],
            [
             0.8,
             "#7fbc41"
            ],
            [
             0.9,
             "#4d9221"
            ],
            [
             1,
             "#276419"
            ]
           ],
           "sequential": [
            [
             0,
             "#0d0887"
            ],
            [
             0.1111111111111111,
             "#46039f"
            ],
            [
             0.2222222222222222,
             "#7201a8"
            ],
            [
             0.3333333333333333,
             "#9c179e"
            ],
            [
             0.4444444444444444,
             "#bd3786"
            ],
            [
             0.5555555555555556,
             "#d8576b"
            ],
            [
             0.6666666666666666,
             "#ed7953"
            ],
            [
             0.7777777777777778,
             "#fb9f3a"
            ],
            [
             0.8888888888888888,
             "#fdca26"
            ],
            [
             1,
             "#f0f921"
            ]
           ],
           "sequentialminus": [
            [
             0,
             "#0d0887"
            ],
            [
             0.1111111111111111,
             "#46039f"
            ],
            [
             0.2222222222222222,
             "#7201a8"
            ],
            [
             0.3333333333333333,
             "#9c179e"
            ],
            [
             0.4444444444444444,
             "#bd3786"
            ],
            [
             0.5555555555555556,
             "#d8576b"
            ],
            [
             0.6666666666666666,
             "#ed7953"
            ],
            [
             0.7777777777777778,
             "#fb9f3a"
            ],
            [
             0.8888888888888888,
             "#fdca26"
            ],
            [
             1,
             "#f0f921"
            ]
           ]
          },
          "colorway": [
           "#636efa",
           "#EF553B",
           "#00cc96",
           "#ab63fa",
           "#FFA15A",
           "#19d3f3",
           "#FF6692",
           "#B6E880",
           "#FF97FF",
           "#FECB52"
          ],
          "font": {
           "color": "#2a3f5f"
          },
          "geo": {
           "bgcolor": "white",
           "lakecolor": "white",
           "landcolor": "#E5ECF6",
           "showlakes": true,
           "showland": true,
           "subunitcolor": "white"
          },
          "hoverlabel": {
           "align": "left"
          },
          "hovermode": "closest",
          "mapbox": {
           "style": "light"
          },
          "paper_bgcolor": "white",
          "plot_bgcolor": "#E5ECF6",
          "polar": {
           "angularaxis": {
            "gridcolor": "white",
            "linecolor": "white",
            "ticks": ""
           },
           "bgcolor": "#E5ECF6",
           "radialaxis": {
            "gridcolor": "white",
            "linecolor": "white",
            "ticks": ""
           }
          },
          "scene": {
           "xaxis": {
            "backgroundcolor": "#E5ECF6",
            "gridcolor": "white",
            "gridwidth": 2,
            "linecolor": "white",
            "showbackground": true,
            "ticks": "",
            "zerolinecolor": "white"
           },
           "yaxis": {
            "backgroundcolor": "#E5ECF6",
            "gridcolor": "white",
            "gridwidth": 2,
            "linecolor": "white",
            "showbackground": true,
            "ticks": "",
            "zerolinecolor": "white"
           },
           "zaxis": {
            "backgroundcolor": "#E5ECF6",
            "gridcolor": "white",
            "gridwidth": 2,
            "linecolor": "white",
            "showbackground": true,
            "ticks": "",
            "zerolinecolor": "white"
           }
          },
          "shapedefaults": {
           "line": {
            "color": "#2a3f5f"
           }
          },
          "ternary": {
           "aaxis": {
            "gridcolor": "white",
            "linecolor": "white",
            "ticks": ""
           },
           "baxis": {
            "gridcolor": "white",
            "linecolor": "white",
            "ticks": ""
           },
           "bgcolor": "#E5ECF6",
           "caxis": {
            "gridcolor": "white",
            "linecolor": "white",
            "ticks": ""
           }
          },
          "title": {
           "x": 0.05
          },
          "xaxis": {
           "automargin": true,
           "gridcolor": "white",
           "linecolor": "white",
           "ticks": "",
           "title": {
            "standoff": 15
           },
           "zerolinecolor": "white",
           "zerolinewidth": 2
          },
          "yaxis": {
           "automargin": true,
           "gridcolor": "white",
           "linecolor": "white",
           "ticks": "",
           "title": {
            "standoff": 15
           },
           "zerolinecolor": "white",
           "zerolinewidth": 2
          }
         }
        },
        "xaxis": {
         "anchor": "y",
         "domain": [
          0,
          1
         ],
         "title": {
          "text": "0"
         }
        },
        "yaxis": {
         "anchor": "x",
         "domain": [
          0,
          1
         ],
         "title": {
          "text": "1"
         }
        }
       }
      },
      "text/html": [
       "<div>                            <div id=\"4f20d2ff-59ee-4e7e-b0cb-75c3dbfe96df\" class=\"plotly-graph-div\" style=\"height:525px; width:100%;\"></div>            <script type=\"text/javascript\">                require([\"plotly\"], function(Plotly) {                    window.PLOTLYENV=window.PLOTLYENV || {};                                    if (document.getElementById(\"4f20d2ff-59ee-4e7e-b0cb-75c3dbfe96df\")) {                    Plotly.newPlot(                        \"4f20d2ff-59ee-4e7e-b0cb-75c3dbfe96df\",                        [{\"hovertemplate\":\"<b>%{hovertext}</b><br><br>color=text_oba<br>0=%{x}<br>1=%{y}<extra></extra>\",\"hovertext\":[\"2008-06-04T00:00:00\",\"2008-11-05T00:00:00\",\"2009-01-05T00:00:00\",\"2009-01-20T00:00:00\",\"2009-04-02T00:00:00\",\"2009-04-15T00:00:00\",\"2009-05-22T00:00:00\",\"2009-06-15T00:00:00\",\"2009-07-15T00:00:00\",\"2009-09-24T00:00:00\",\"2009-10-09T00:00:00\",\"2009-11-05T00:00:00\",\"2009-12-19T00:00:00\",\"2009-12-25T00:00:00\",\"2010-01-12T00:00:00\",\"2010-03-04T00:00:00\",\"2010-03-24T00:00:00\",\"2010-04-15T00:00:00\",\"2010-04-22T00:00:00\",\"2010-05-07T00:00:00\",\"2010-07-15T00:00:00\",\"2010-07-21T00:00:00\",\"2010-07-26T00:00:00\",\"2010-08-31T00:00:00\",\"2010-11-02T00:00:00\",\"2011-01-08T00:00:00\",\"2011-01-26T00:00:00\",\"2011-01-31T00:00:00\",\"2011-02-19T00:00:00\",\"2011-05-02T00:00:00\",\"2011-05-23T00:00:00\",\"2011-06-23T00:00:00\",\"2011-07-26T00:00:00\",\"2011-09-09T00:00:00\",\"2011-10-17T00:00:00\",\"2011-11-17T00:00:00\",\"2011-12-16T00:00:00\",\"2012-01-06T00:00:00\",\"2012-01-25T00:00:00\",\"2012-03-27T00:00:00\",\"2012-03-31T00:00:00\",\"2012-04-29T00:00:00\",\"2012-05-02T00:00:00\",\"2012-05-10T00:00:00\",\"2012-06-29T00:00:00\",\"2012-07-21T00:00:00\",\"2012-09-07T00:00:00\",\"2012-10-29T00:00:00\",\"2012-11-07T00:00:00\",\"2012-12-15T00:00:00\",\"2013-01-16T00:00:00\",\"2013-01-22T00:00:00\",\"2013-01-30T00:00:00\",\"2013-02-13T00:00:00\",\"2013-04-16T00:00:00\",\"2013-04-26T00:00:00\",\"2013-05-04T00:00:00\",\"2013-06-19T00:00:00\",\"2013-07-14T00:00:00\",\"2013-08-29T00:00:00\",\"2013-09-11T00:00:00\",\"2013-10-02T00:00:00\",\"2013-12-06T00:00:00\",\"2014-01-18T00:00:00\",\"2014-01-29T00:00:00\",\"2014-03-07T00:00:00\",\"2014-03-26T00:00:00\",\"2014-04-11T00:00:00\",\"2014-05-21T00:00:00\",\"2014-07-01T00:00:00\",\"2014-08-08T00:00:00\",\"2014-08-12T00:00:00\",\"2014-09-17T00:00:00\",\"2014-10-18T00:00:00\",\"2014-11-05T00:00:00\",\"2014-12-18T00:00:00\",\"2015-01-08T00:00:00\",\"2015-01-21T00:00:00\",\"2015-02-14T00:00:00\",\"2015-03-11T00:00:00\",\"2015-04-03T00:00:00\",\"2015-05-09T00:00:00\",\"2015-06-18T00:00:00\",\"2015-07-07T00:00:00\",\"2015-08-03T00:00:00\",\"2015-09-24T00:00:00\",\"2015-10-02T00:00:00\",\"2015-11-14T00:00:00\",\"2015-12-14T00:00:00\",\"2016-01-13T00:00:00\",\"2016-02-16T00:00:00\",\"2016-03-23T00:00:00\",\"2016-04-25T00:00:00\",\"2016-05-06T00:00:00\",\"2016-06-13T00:00:00\",\"2016-07-28T00:00:00\",\"2016-08-17T00:00:00\",\"2016-09-05T00:00:00\",\"2016-11-09T00:00:00\",\"2017-01-11T00:00:00\"],\"legendgroup\":\"text_oba\",\"marker\":{\"color\":\"rgb(127, 60, 141)\",\"symbol\":\"circle\"},\"mode\":\"markers\",\"name\":\"text_oba\",\"orientation\":\"v\",\"showlegend\":true,\"x\":[1.8654340505599976,-3.7954883575439453,1.2041397094726562,5.735947608947754,0.7105698585510254,1.8597359657287598,0.28485074639320374,-0.6638705730438232,0.7837364673614502,0.1275169849395752,-2.496737480163574,0.09749400615692139,-2.5092356204986572,2.110290050506592,1.7316670417785645,2.459566354751587,2.101213216781616,1.1051335334777832,0.9178870916366577,-0.231070876121521,0.6327565908432007,0.18033051490783691,0.6304743885993958,5.074860095977783,2.4781081676483154,2.192936897277832,1.3102068901062012,1.1734389066696167,3.735198497772217,1.5463398694992065,2.6252188682556152,-1.3191174268722534,0.9199152588844299,3.1154305934906006,0.4857379198074341,0.4985201060771942,2.545867919921875,1.5229589939117432,0.2584707736968994,2.4969892501831055,1.7143957614898682,2.553893566131592,2.2285051345825195,1.369613766670227,1.3204493522644043,1.3761838674545288,4.037976264953613,1.9457305669784546,1.7565343379974365,1.5731651782989502,0.8076272010803223,-0.8745006322860718,-0.1274086833000183,3.3454203605651855,0.8811401128768921,1.1103956699371338,0.44670796394348145,1.0187921524047852,1.6184701919555664,2.69813871383667,1.7500946521759033,-0.6469448804855347,0.8629311323165894,2.0928258895874023,0.7163838744163513,0.7768709659576416,10.328425407409668,1.6583402156829834,2.7988088130950928,2.3523623943328857,0.7400093078613281,1.1945688724517822,0.8837863802909851,9.889060974121094,1.8703293800354004,-2.9493038654327393,-4.1310272216796875,-16.85917091369629,0.027045130729675293,1.7759023904800415,-0.8736157417297363,1.7996444702148438,-3.2767910957336426,-0.43993252515792847,1.031884789466858,1.9031175374984741,3.8550076484680176,0.7331591844558716,3.8988847732543945,-4.1356000900268555,0.522908627986908,-0.316750705242157,1.7566590309143066,-17.42554473876953,-0.5361478328704834,1.5495648384094238,-0.37636494636535645,-0.05966305732727051,1.7677667140960693,2.6399779319763184],\"xaxis\":\"x\",\"y\":[-5.436565399169922,-14.576501846313477,-7.416962623596191,-8.204791069030762,-2.7729673385620117,-7.247067928314209,-5.464535713195801,-4.77400016784668,-10.46169662475586,-7.921433925628662,-5.516733169555664,-6.9952826499938965,-7.233489990234375,-5.437755107879639,-3.74302077293396,-6.81475830078125,-7.330801963806152,-7.882567882537842,-6.228524208068848,-6.899524211883545,-5.100600242614746,-7.035801887512207,-7.521516799926758,-3.3353707790374756,-7.138784885406494,-3.8517749309539795,-5.781062126159668,-7.279315948486328,-7.6671319007873535,-4.17435359954834,-6.057620048522949,-9.75070571899414,-10.224533081054688,-7.458702564239502,-6.9040632247924805,-8.449888229370117,-4.595001220703125,-4.942207336425781,-6.213761806488037,-8.057144165039062,-6.935281276702881,-7.20874547958374,-3.9285569190979004,-7.854968070983887,-7.256288051605225,-6.67294979095459,-3.5738635063171387,-5.443599700927734,-7.057742595672607,-5.110515594482422,-7.635403156280518,-3.644440174102783,-7.2816009521484375,-3.496607780456543,-6.585744857788086,-5.478754997253418,-5.047260284423828,-3.620814323425293,-7.7848801612854,-5.701728343963623,-5.122087001800537,-8.195648193359375,-5.0459394454956055,-5.60465669631958,-6.856276512145996,-4.834928035736084,2.0011653900146484,-4.235922813415527,-7.429200172424316,-6.608589172363281,-4.996351718902588,-5.56795597076416,-2.380849838256836,-6.339103698730469,-6.9367594718933105,-5.204696178436279,-5.507479190826416,-11.84453296661377,-6.309850215911865,-7.911919593811035,-8.48990249633789,-7.554216384887695,-0.8796901702880859,-7.508532524108887,-6.960986137390137,-3.087225914001465,-4.7266387939453125,-7.087031364440918,-5.190790176391602,-4.350800514221191,-0.8305137157440186,1.3250372409820557,-7.890332221984863,1.1332954168319702,-5.548984050750732,-6.562851905822754,-7.779782295227051,-7.267183303833008,-6.644905090332031,-8.174515724182129],\"yaxis\":\"y\",\"type\":\"scatter\"},{\"hovertemplate\":\"<b>%{hovertext}</b><br><br>color=text_nyt<br>0=%{x}<br>1=%{y}<extra></extra>\",\"hovertext\":[\"2008-06-04T00:00:00\",\"2008-11-05T00:00:00\",\"2009-01-05T00:00:00\",\"2009-01-20T00:00:00\",\"2009-04-02T00:00:00\",\"2009-04-15T00:00:00\",\"2009-05-22T00:00:00\",\"2009-06-15T00:00:00\",\"2009-07-15T00:00:00\",\"2009-09-24T00:00:00\",\"2009-10-09T00:00:00\",\"2009-11-05T00:00:00\",\"2009-12-19T00:00:00\",\"2009-12-25T00:00:00\",\"2010-01-12T00:00:00\",\"2010-03-04T00:00:00\",\"2010-03-24T00:00:00\",\"2010-04-15T00:00:00\",\"2010-04-22T00:00:00\",\"2010-05-07T00:00:00\",\"2010-07-15T00:00:00\",\"2010-07-21T00:00:00\",\"2010-07-26T00:00:00\",\"2010-08-31T00:00:00\",\"2010-11-02T00:00:00\",\"2011-01-08T00:00:00\",\"2011-01-26T00:00:00\",\"2011-01-31T00:00:00\",\"2011-02-19T00:00:00\",\"2011-05-02T00:00:00\",\"2011-05-23T00:00:00\",\"2011-06-23T00:00:00\",\"2011-07-26T00:00:00\",\"2011-09-09T00:00:00\",\"2011-10-17T00:00:00\",\"2011-11-17T00:00:00\",\"2011-12-16T00:00:00\",\"2012-01-06T00:00:00\",\"2012-01-25T00:00:00\",\"2012-03-27T00:00:00\",\"2012-03-31T00:00:00\",\"2012-04-29T00:00:00\",\"2012-05-02T00:00:00\",\"2012-05-10T00:00:00\",\"2012-06-29T00:00:00\",\"2012-07-21T00:00:00\",\"2012-09-07T00:00:00\",\"2012-10-29T00:00:00\",\"2012-11-07T00:00:00\",\"2012-12-15T00:00:00\",\"2013-01-16T00:00:00\",\"2013-01-22T00:00:00\",\"2013-01-30T00:00:00\",\"2013-02-13T00:00:00\",\"2013-04-16T00:00:00\",\"2013-04-26T00:00:00\",\"2013-05-04T00:00:00\",\"2013-06-19T00:00:00\",\"2013-07-14T00:00:00\",\"2013-08-29T00:00:00\",\"2013-09-11T00:00:00\",\"2013-10-02T00:00:00\",\"2013-12-06T00:00:00\",\"2014-01-18T00:00:00\",\"2014-01-29T00:00:00\",\"2014-03-07T00:00:00\",\"2014-03-26T00:00:00\",\"2014-04-11T00:00:00\",\"2014-05-21T00:00:00\",\"2014-07-01T00:00:00\",\"2014-08-08T00:00:00\",\"2014-08-12T00:00:00\",\"2014-09-17T00:00:00\",\"2014-10-18T00:00:00\",\"2014-11-05T00:00:00\",\"2014-12-18T00:00:00\",\"2015-01-08T00:00:00\",\"2015-01-21T00:00:00\",\"2015-02-14T00:00:00\",\"2015-03-11T00:00:00\",\"2015-04-03T00:00:00\",\"2015-05-09T00:00:00\",\"2015-06-18T00:00:00\",\"2015-07-07T00:00:00\",\"2015-08-03T00:00:00\",\"2015-09-24T00:00:00\",\"2015-10-02T00:00:00\",\"2015-11-14T00:00:00\",\"2015-12-14T00:00:00\",\"2016-01-13T00:00:00\",\"2016-02-16T00:00:00\",\"2016-03-23T00:00:00\",\"2016-04-25T00:00:00\",\"2016-05-06T00:00:00\",\"2016-06-13T00:00:00\",\"2016-07-28T00:00:00\",\"2016-08-17T00:00:00\",\"2016-09-05T00:00:00\",\"2016-11-09T00:00:00\",\"2017-01-11T00:00:00\"],\"legendgroup\":\"text_nyt\",\"marker\":{\"color\":\"rgb(17, 165, 121)\",\"symbol\":\"circle\"},\"mode\":\"markers\",\"name\":\"text_nyt\",\"orientation\":\"v\",\"showlegend\":true,\"x\":[4.0353827476501465,-5.491243362426758,1.0734748840332031,-2.1170763969421387,-1.3236126899719238,-2.5887162685394287,3.6548173427581787,-0.058238863945007324,-3.445131778717041,-1.3301541805267334,0.0841604471206665,-0.28156256675720215,-4.922008037567139,-3.42733097076416,-0.6022947430610657,-3.2023110389709473,-2.693329334259033,-1.7417025566101074,-2.8013997077941895,-3.726081371307373,-2.37878155708313,-0.9780239462852478,-1.7861624956130981,0.5120563507080078,-1.1754651069641113,1.5662628412246704,-5.250934600830078,-2.820668935775757,-1.2600834369659424,1.762760877609253,1.0574731826782227,-0.9164201021194458,-5.611321449279785,-2.953502655029297,1.865951657295227,-2.3461432456970215,-5.257844924926758,-2.727191686630249,0.4714691638946533,-0.026581764221191406,-2.9282896518707275,1.7343504428863525,2.15421724319458,-7.56135892868042,-1.9421730041503906,-0.05843853950500488,-1.4751527309417725,1.818131923675537,1.6062164306640625,-1.483962059020996,-6.031020164489746,4.105264663696289,-7.466787815093994,-3.3158493041992188,1.4113199710845947,-1.0636911392211914,-1.3983430862426758,-2.415438175201416,-2.320369243621826,-1.9611459970474243,-7.2748637199401855,-1.9511377811431885,-6.457773208618164,0.029674530029296875,-8.694393157958984,-1.937736988067627,-1.5406334400177002,-0.7698811888694763,0.22107696533203125,-4.417229175567627,2.349188804626465,1.838782787322998,-4.0675787925720215,2.2328524589538574,2.68642520904541,-1.7517030239105225,0.4935038089752197,-0.49428343772888184,-3.6562201976776123,-3.4354047775268555,-0.39462709426879883,-1.9544291496276855,-0.12161913514137268,4.684121131896973,-0.0017750263214111328,-1.906801700592041,1.0392218828201294,-0.1689774990081787,-1.5424485206604004,-2.5632734298706055,-0.47390222549438477,2.081207036972046,-1.6199067831039429,-0.5096157789230347,7.175322532653809,0.39486002922058105,2.5542452335357666,-1.570359230041504,-3.8652279376983643,-0.9149594306945801],\"xaxis\":\"x\",\"y\":[-0.9917392730712891,2.6620664596557617,3.528770685195923,8.649216651916504,-0.822374701499939,1.69846773147583,0.6325682997703552,4.55695104598999,2.8114609718322754,0.003726065158843994,2.2238755226135254,5.950835704803467,4.880042552947998,4.102595329284668,3.805927038192749,0.4595850706100464,2.9930944442749023,-1.4173948764801025,4.842009544372559,0.20076656341552734,3.415801525115967,2.2478389739990234,3.6486380100250244,-1.2463476657867432,0.8811841011047363,8.410051345825195,2.4039080142974854,4.288115501403809,3.669121265411377,3.0773861408233643,3.4503695964813232,8.23680591583252,3.969555616378784,6.793868541717529,2.8437178134918213,2.5128607749938965,4.216458320617676,4.784653663635254,2.239774227142334,1.7725292444229126,7.176687240600586,4.453891277313232,4.7383270263671875,2.192615032196045,2.8351879119873047,6.340826034545898,0.4782094955444336,2.341679573059082,2.764094114303589,5.873533248901367,3.8528096675872803,0.03258633613586426,1.9523950815200806,4.635552406311035,2.8730483055114746,1.8006134033203125,0.1229243278503418,0.5761432647705078,1.1971899271011353,6.431753158569336,-2.815363883972168,-0.06433629989624023,8.474754333496094,4.043647766113281,1.1969497203826904,3.2317397594451904,1.9554370641708374,2.647099256515503,-0.5648562908172607,9.473928451538086,1.8930883407592773,3.9829957485198975,4.545958042144775,-6.1959309577941895,2.3932275772094727,1.4593420028686523,3.857132911682129,1.3403511047363281,-3.3160853385925293,2.5807113647460938,2.6294312477111816,3.338496446609497,4.307010173797607,2.065941572189331,-1.7491278648376465,-6.2860260009765625,5.239436149597168,3.5359320640563965,2.779635190963745,5.229248046875,4.101844787597656,7.132838249206543,1.5487409830093384,0.9471144676208496,4.708706855773926,7.122714519500732,4.5800065994262695,0.8001735806465149,-1.2367889881134033,-4.807245254516602],\"yaxis\":\"y\",\"type\":\"scatter\"},{\"hovertemplate\":\"<b>%{hovertext}</b><br><br>color=text_wsj<br>0=%{x}<br>1=%{y}<extra></extra>\",\"hovertext\":[\"2008-06-04T00:00:00\",\"2008-11-05T00:00:00\",\"2009-01-05T00:00:00\",\"2009-01-20T00:00:00\",\"2009-04-02T00:00:00\",\"2009-04-15T00:00:00\",\"2009-05-22T00:00:00\",\"2009-06-15T00:00:00\",\"2009-07-15T00:00:00\",\"2009-09-24T00:00:00\",\"2009-10-09T00:00:00\",\"2009-11-05T00:00:00\",\"2009-12-19T00:00:00\",\"2009-12-25T00:00:00\",\"2010-01-12T00:00:00\",\"2010-03-04T00:00:00\",\"2010-03-24T00:00:00\",\"2010-04-15T00:00:00\",\"2010-04-22T00:00:00\",\"2010-05-07T00:00:00\",\"2010-07-15T00:00:00\",\"2010-07-21T00:00:00\",\"2010-07-26T00:00:00\",\"2010-08-31T00:00:00\",\"2010-11-02T00:00:00\",\"2011-01-08T00:00:00\",\"2011-01-26T00:00:00\",\"2011-01-31T00:00:00\",\"2011-02-19T00:00:00\",\"2011-05-02T00:00:00\",\"2011-05-23T00:00:00\",\"2011-06-23T00:00:00\",\"2011-07-26T00:00:00\",\"2011-09-09T00:00:00\",\"2011-10-17T00:00:00\",\"2011-11-17T00:00:00\",\"2011-12-16T00:00:00\",\"2012-01-06T00:00:00\",\"2012-01-25T00:00:00\",\"2012-03-27T00:00:00\",\"2012-03-31T00:00:00\",\"2012-04-29T00:00:00\",\"2012-05-02T00:00:00\",\"2012-05-10T00:00:00\",\"2012-06-29T00:00:00\",\"2012-07-21T00:00:00\",\"2012-09-07T00:00:00\",\"2012-10-29T00:00:00\",\"2012-11-07T00:00:00\",\"2012-12-15T00:00:00\",\"2013-01-16T00:00:00\",\"2013-01-22T00:00:00\",\"2013-01-30T00:00:00\",\"2013-02-13T00:00:00\",\"2013-04-16T00:00:00\",\"2013-04-26T00:00:00\",\"2013-05-04T00:00:00\",\"2013-06-19T00:00:00\",\"2013-07-14T00:00:00\",\"2013-08-29T00:00:00\",\"2013-09-11T00:00:00\",\"2013-10-02T00:00:00\",\"2013-12-06T00:00:00\",\"2014-01-18T00:00:00\",\"2014-01-29T00:00:00\",\"2014-03-07T00:00:00\",\"2014-03-26T00:00:00\",\"2014-04-11T00:00:00\",\"2014-05-21T00:00:00\",\"2014-07-01T00:00:00\",\"2014-08-08T00:00:00\",\"2014-08-12T00:00:00\",\"2014-09-17T00:00:00\",\"2014-10-18T00:00:00\",\"2014-11-05T00:00:00\",\"2014-12-18T00:00:00\",\"2015-01-08T00:00:00\",\"2015-01-21T00:00:00\",\"2015-02-14T00:00:00\",\"2015-03-11T00:00:00\",\"2015-04-03T00:00:00\",\"2015-05-09T00:00:00\",\"2015-06-18T00:00:00\",\"2015-07-07T00:00:00\",\"2015-08-03T00:00:00\",\"2015-09-24T00:00:00\",\"2015-10-02T00:00:00\",\"2015-11-14T00:00:00\",\"2015-12-14T00:00:00\",\"2016-01-13T00:00:00\",\"2016-02-16T00:00:00\",\"2016-03-23T00:00:00\",\"2016-04-25T00:00:00\",\"2016-05-06T00:00:00\",\"2016-06-13T00:00:00\",\"2016-07-28T00:00:00\",\"2016-08-17T00:00:00\",\"2016-09-05T00:00:00\",\"2016-11-09T00:00:00\",\"2017-01-11T00:00:00\"],\"legendgroup\":\"text_wsj\",\"marker\":{\"color\":\"rgb(57, 105, 172)\",\"symbol\":\"circle\"},\"mode\":\"markers\",\"name\":\"text_wsj\",\"orientation\":\"v\",\"showlegend\":true,\"x\":[-0.6678458452224731,-2.2219748497009277,-5.552929401397705,-0.8802087306976318,-5.971976280212402,-3.10050892829895,-2.1429977416992188,1.0586845874786377,-2.858865261077881,-3.5246236324310303,-0.5095226764678955,-0.18430191278457642,-2.622103691101074,0.0035114288330078125,-0.259493350982666,-2.723102331161499,-2.045552968978882,-3.319650411605835,2.770580768585205,2.853602647781372,0.31507372856140137,-2.6304397583007812,-0.5841607451438904,-1.1188182830810547,-0.31889212131500244,0.457330584526062,-2.9071359634399414,-2.8820486068725586,-2.614715576171875,1.6388074159622192,0.4728301763534546,-1.0392624139785767,-2.484302043914795,-1.1165709495544434,-0.31108784675598145,-2.395252227783203,2.6609888076782227,2.2404873371124268,-2.1766395568847656,-3.2474892139434814,-3.0280256271362305,1.7872405052185059,-5.682676792144775,-0.1454792022705078,-1.5211181640625,8.946418762207031,-2.3722639083862305,1.6853196620941162,1.4114869832992554,1.5581251382827759,-2.877815008163452,-0.39277350902557373,-0.5000815391540527,-0.7838180661201477,1.6333810091018677,-1.4920248985290527,-1.2006222009658813,-6.601532936096191,1.8092319965362549,-4.119779586791992,-3.886301040649414,-6.661411285400391,2.9628219604492188,-0.6806617975234985,-3.323498010635376,-2.4962384700775146,-3.0067403316497803,-0.688574492931366,-4.966188907623291,3.8477954864501953,-2.231462001800537,-0.8068861365318298,-1.6974703073501587,0.18899178504943848,-0.5324363112449646,-1.8293260335922241,-21.312240600585938,-4.074057579040527,-3.3212270736694336,-3.341905355453491,-2.472336530685425,-2.19296932220459,0.2603297233581543,0.8786048889160156,-3.285656690597534,-0.163457989692688,-1.9416635036468506,-0.45218729972839355,-3.052128791809082,-1.897517204284668,-2.321270704269409,1.226143717765808,-2.6621665954589844,-2.2010490894317627,0.8036400079727173,-0.06517261266708374,1.1452038288116455,-8.69036865234375,-0.7057045698165894,-5.421076774597168],\"xaxis\":\"x\",\"y\":[2.665618419647217,3.340941905975342,2.151409864425659,2.018907070159912,-16.374540328979492,2.748234987258911,1.4207372665405273,2.2152040004730225,3.0164339542388916,2.351386547088623,2.759061098098755,4.822013854980469,2.7738213539123535,4.686028480529785,3.651402473449707,4.488664627075195,2.6168107986450195,5.812525749206543,2.4333889484405518,6.97299861907959,5.300411224365234,1.6983911991119385,1.5635441541671753,2.3709182739257812,-1.7746343612670898,4.531206130981445,5.337334632873535,0.25090479850769043,3.6683952808380127,4.840418815612793,4.844419479370117,-1.262080192565918,3.3728904724121094,-3.246579170227051,5.258113384246826,1.6058769226074219,5.008462905883789,2.5432705879211426,2.7547953128814697,2.4242897033691406,2.3321588039398193,4.951359748840332,3.3864312171936035,2.732499122619629,2.5303213596343994,3.487177848815918,3.7570159435272217,2.265007495880127,1.4156146049499512,5.381407737731934,-3.0003316402435303,2.296921491622925,1.5432982444763184,-0.8424437046051025,3.0927796363830566,3.3308422565460205,3.192943572998047,3.3983144760131836,5.3389387130737305,1.2777833938598633,1.6258420944213867,3.2536795139312744,1.5530221462249756,3.4707608222961426,3.1129584312438965,4.185301780700684,3.3647232055664062,1.8969464302062988,2.171548366546631,1.5894639492034912,1.8701393604278564,4.1753830909729,0.7720160484313965,-7.5425615310668945,6.349468231201172,0.5213437080383301,12.744732856750488,-0.9401154518127441,7.454894065856934,4.141018390655518,2.666210651397705,3.4717540740966797,5.374919891357422,4.4326982498168945,7.664102077484131,6.221444129943848,3.6747841835021973,2.3240292072296143,0.5960747003555298,4.969682216644287,0.7241966724395752,3.9709770679473877,2.548163890838623,-0.647580623626709,5.318711280822754,2.1962954998016357,4.718514442443848,2.1098520755767822,4.487503528594971,4.809021472930908],\"yaxis\":\"y\",\"type\":\"scatter\"},{\"hovertemplate\":\"<b>%{hovertext}</b><br><br>color=FoxNews<br>0=%{x}<br>1=%{y}<extra></extra>\",\"hovertext\":[\"2011-05-02T00:00:00\",\"2011-09-09T00:00:00\"],\"legendgroup\":\"FoxNews\",\"marker\":{\"color\":\"rgb(242, 183, 1)\",\"symbol\":\"circle\"},\"mode\":\"markers\",\"name\":\"FoxNews\",\"orientation\":\"v\",\"showlegend\":true,\"x\":[9.295873641967773,1.1860283613204956],\"xaxis\":\"x\",\"y\":[2.0860085487365723,4.8784003257751465],\"yaxis\":\"y\",\"type\":\"scatter\"},{\"hovertemplate\":\"<b>%{hovertext}</b><br><br>color=InfoWars<br>0=%{x}<br>1=%{y}<extra></extra>\",\"hovertext\":[\"2011-05-02T00:00:00\",\"2012-12-15T00:00:00\",\"2016-02-16T00:00:00\"],\"legendgroup\":\"InfoWars\",\"marker\":{\"color\":\"rgb(231, 63, 116)\",\"symbol\":\"circle\"},\"mode\":\"markers\",\"name\":\"InfoWars\",\"orientation\":\"v\",\"showlegend\":true,\"x\":[0.49228739738464355,2.2826790809631348,0.9638147354125977],\"xaxis\":\"x\",\"y\":[6.053598403930664,4.531741619110107,3.9401252269744873],\"yaxis\":\"y\",\"type\":\"scatter\"},{\"hovertemplate\":\"<b>%{hovertext}</b><br><br>color=NationalReview<br>0=%{x}<br>1=%{y}<extra></extra>\",\"hovertext\":[\"2011-05-02T00:00:00\",\"2011-09-09T00:00:00\",\"2012-12-15T00:00:00\",\"2016-02-16T00:00:00\"],\"legendgroup\":\"NationalReview\",\"marker\":{\"color\":\"rgb(128, 186, 90)\",\"symbol\":\"circle\"},\"mode\":\"markers\",\"name\":\"NationalReview\",\"orientation\":\"v\",\"showlegend\":true,\"x\":[-1.0561800003051758,-1.2864266633987427,1.111605167388916,-0.5435302257537842],\"xaxis\":\"x\",\"y\":[3.320974111557007,4.971914291381836,-5.9491400718688965,2.163325786590576],\"yaxis\":\"y\",\"type\":\"scatter\"},{\"hovertemplate\":\"<b>%{hovertext}</b><br><br>color=Intercept<br>0=%{x}<br>1=%{y}<extra></extra>\",\"hovertext\":[\"2015-04-03T00:00:00\"],\"legendgroup\":\"Intercept\",\"marker\":{\"color\":\"rgb(230, 131, 16)\",\"symbol\":\"circle\"},\"mode\":\"markers\",\"name\":\"Intercept\",\"orientation\":\"v\",\"showlegend\":true,\"x\":[-1.2223271131515503],\"xaxis\":\"x\",\"y\":[-3.6206297874450684],\"yaxis\":\"y\",\"type\":\"scatter\"}],                        {\"template\":{\"data\":{\"histogram2dcontour\":[{\"type\":\"histogram2dcontour\",\"colorbar\":{\"outlinewidth\":0,\"ticks\":\"\"},\"colorscale\":[[0.0,\"#0d0887\"],[0.1111111111111111,\"#46039f\"],[0.2222222222222222,\"#7201a8\"],[0.3333333333333333,\"#9c179e\"],[0.4444444444444444,\"#bd3786\"],[0.5555555555555556,\"#d8576b\"],[0.6666666666666666,\"#ed7953\"],[0.7777777777777778,\"#fb9f3a\"],[0.8888888888888888,\"#fdca26\"],[1.0,\"#f0f921\"]]}],\"choropleth\":[{\"type\":\"choropleth\",\"colorbar\":{\"outlinewidth\":0,\"ticks\":\"\"}}],\"histogram2d\":[{\"type\":\"histogram2d\",\"colorbar\":{\"outlinewidth\":0,\"ticks\":\"\"},\"colorscale\":[[0.0,\"#0d0887\"],[0.1111111111111111,\"#46039f\"],[0.2222222222222222,\"#7201a8\"],[0.3333333333333333,\"#9c179e\"],[0.4444444444444444,\"#bd3786\"],[0.5555555555555556,\"#d8576b\"],[0.6666666666666666,\"#ed7953\"],[0.7777777777777778,\"#fb9f3a\"],[0.8888888888888888,\"#fdca26\"],[1.0,\"#f0f921\"]]}],\"heatmap\":[{\"type\":\"heatmap\",\"colorbar\":{\"outlinewidth\":0,\"ticks\":\"\"},\"colorscale\":[[0.0,\"#0d0887\"],[0.1111111111111111,\"#46039f\"],[0.2222222222222222,\"#7201a8\"],[0.3333333333333333,\"#9c179e\"],[0.4444444444444444,\"#bd3786\"],[0.5555555555555556,\"#d8576b\"],[0.6666666666666666,\"#ed7953\"],[0.7777777777777778,\"#fb9f3a\"],[0.8888888888888888,\"#fdca26\"],[1.0,\"#f0f921\"]]}],\"heatmapgl\":[{\"type\":\"heatmapgl\",\"colorbar\":{\"outlinewidth\":0,\"ticks\":\"\"},\"colorscale\":[[0.0,\"#0d0887\"],[0.1111111111111111,\"#46039f\"],[0.2222222222222222,\"#7201a8\"],[0.3333333333333333,\"#9c179e\"],[0.4444444444444444,\"#bd3786\"],[0.5555555555555556,\"#d8576b\"],[0.6666666666666666,\"#ed7953\"],[0.7777777777777778,\"#fb9f3a\"],[0.8888888888888888,\"#fdca26\"],[1.0,\"#f0f921\"]]}],\"contourcarpet\":[{\"type\":\"contourcarpet\",\"colorbar\":{\"outlinewidth\":0,\"ticks\":\"\"}}],\"contour\":[{\"type\":\"contour\",\"colorbar\":{\"outlinewidth\":0,\"ticks\":\"\"},\"colorscale\":[[0.0,\"#0d0887\"],[0.1111111111111111,\"#46039f\"],[0.2222222222222222,\"#7201a8\"],[0.3333333333333333,\"#9c179e\"],[0.4444444444444444,\"#bd3786\"],[0.5555555555555556,\"#d8576b\"],[0.6666666666666666,\"#ed7953\"],[0.7777777777777778,\"#fb9f3a\"],[0.8888888888888888,\"#fdca26\"],[1.0,\"#f0f921\"]]}],\"surface\":[{\"type\":\"surface\",\"colorbar\":{\"outlinewidth\":0,\"ticks\":\"\"},\"colorscale\":[[0.0,\"#0d0887\"],[0.1111111111111111,\"#46039f\"],[0.2222222222222222,\"#7201a8\"],[0.3333333333333333,\"#9c179e\"],[0.4444444444444444,\"#bd3786\"],[0.5555555555555556,\"#d8576b\"],[0.6666666666666666,\"#ed7953\"],[0.7777777777777778,\"#fb9f3a\"],[0.8888888888888888,\"#fdca26\"],[1.0,\"#f0f921\"]]}],\"mesh3d\":[{\"type\":\"mesh3d\",\"colorbar\":{\"outlinewidth\":0,\"ticks\":\"\"}}],\"scatter\":[{\"fillpattern\":{\"fillmode\":\"overlay\",\"size\":10,\"solidity\":0.2},\"type\":\"scatter\"}],\"parcoords\":[{\"type\":\"parcoords\",\"line\":{\"colorbar\":{\"outlinewidth\":0,\"ticks\":\"\"}}}],\"scatterpolargl\":[{\"type\":\"scatterpolargl\",\"marker\":{\"colorbar\":{\"outlinewidth\":0,\"ticks\":\"\"}}}],\"bar\":[{\"error_x\":{\"color\":\"#2a3f5f\"},\"error_y\":{\"color\":\"#2a3f5f\"},\"marker\":{\"line\":{\"color\":\"#E5ECF6\",\"width\":0.5},\"pattern\":{\"fillmode\":\"overlay\",\"size\":10,\"solidity\":0.2}},\"type\":\"bar\"}],\"scattergeo\":[{\"type\":\"scattergeo\",\"marker\":{\"colorbar\":{\"outlinewidth\":0,\"ticks\":\"\"}}}],\"scatterpolar\":[{\"type\":\"scatterpolar\",\"marker\":{\"colorbar\":{\"outlinewidth\":0,\"ticks\":\"\"}}}],\"histogram\":[{\"marker\":{\"pattern\":{\"fillmode\":\"overlay\",\"size\":10,\"solidity\":0.2}},\"type\":\"histogram\"}],\"scattergl\":[{\"type\":\"scattergl\",\"marker\":{\"colorbar\":{\"outlinewidth\":0,\"ticks\":\"\"}}}],\"scatter3d\":[{\"type\":\"scatter3d\",\"line\":{\"colorbar\":{\"outlinewidth\":0,\"ticks\":\"\"}},\"marker\":{\"colorbar\":{\"outlinewidth\":0,\"ticks\":\"\"}}}],\"scattermapbox\":[{\"type\":\"scattermapbox\",\"marker\":{\"colorbar\":{\"outlinewidth\":0,\"ticks\":\"\"}}}],\"scatterternary\":[{\"type\":\"scatterternary\",\"marker\":{\"colorbar\":{\"outlinewidth\":0,\"ticks\":\"\"}}}],\"scattercarpet\":[{\"type\":\"scattercarpet\",\"marker\":{\"colorbar\":{\"outlinewidth\":0,\"ticks\":\"\"}}}],\"carpet\":[{\"aaxis\":{\"endlinecolor\":\"#2a3f5f\",\"gridcolor\":\"white\",\"linecolor\":\"white\",\"minorgridcolor\":\"white\",\"startlinecolor\":\"#2a3f5f\"},\"baxis\":{\"endlinecolor\":\"#2a3f5f\",\"gridcolor\":\"white\",\"linecolor\":\"white\",\"minorgridcolor\":\"white\",\"startlinecolor\":\"#2a3f5f\"},\"type\":\"carpet\"}],\"table\":[{\"cells\":{\"fill\":{\"color\":\"#EBF0F8\"},\"line\":{\"color\":\"white\"}},\"header\":{\"fill\":{\"color\":\"#C8D4E3\"},\"line\":{\"color\":\"white\"}},\"type\":\"table\"}],\"barpolar\":[{\"marker\":{\"line\":{\"color\":\"#E5ECF6\",\"width\":0.5},\"pattern\":{\"fillmode\":\"overlay\",\"size\":10,\"solidity\":0.2}},\"type\":\"barpolar\"}],\"pie\":[{\"automargin\":true,\"type\":\"pie\"}]},\"layout\":{\"autotypenumbers\":\"strict\",\"colorway\":[\"#636efa\",\"#EF553B\",\"#00cc96\",\"#ab63fa\",\"#FFA15A\",\"#19d3f3\",\"#FF6692\",\"#B6E880\",\"#FF97FF\",\"#FECB52\"],\"font\":{\"color\":\"#2a3f5f\"},\"hovermode\":\"closest\",\"hoverlabel\":{\"align\":\"left\"},\"paper_bgcolor\":\"white\",\"plot_bgcolor\":\"#E5ECF6\",\"polar\":{\"bgcolor\":\"#E5ECF6\",\"angularaxis\":{\"gridcolor\":\"white\",\"linecolor\":\"white\",\"ticks\":\"\"},\"radialaxis\":{\"gridcolor\":\"white\",\"linecolor\":\"white\",\"ticks\":\"\"}},\"ternary\":{\"bgcolor\":\"#E5ECF6\",\"aaxis\":{\"gridcolor\":\"white\",\"linecolor\":\"white\",\"ticks\":\"\"},\"baxis\":{\"gridcolor\":\"white\",\"linecolor\":\"white\",\"ticks\":\"\"},\"caxis\":{\"gridcolor\":\"white\",\"linecolor\":\"white\",\"ticks\":\"\"}},\"coloraxis\":{\"colorbar\":{\"outlinewidth\":0,\"ticks\":\"\"}},\"colorscale\":{\"sequential\":[[0.0,\"#0d0887\"],[0.1111111111111111,\"#46039f\"],[0.2222222222222222,\"#7201a8\"],[0.3333333333333333,\"#9c179e\"],[0.4444444444444444,\"#bd3786\"],[0.5555555555555556,\"#d8576b\"],[0.6666666666666666,\"#ed7953\"],[0.7777777777777778,\"#fb9f3a\"],[0.8888888888888888,\"#fdca26\"],[1.0,\"#f0f921\"]],\"sequentialminus\":[[0.0,\"#0d0887\"],[0.1111111111111111,\"#46039f\"],[0.2222222222222222,\"#7201a8\"],[0.3333333333333333,\"#9c179e\"],[0.4444444444444444,\"#bd3786\"],[0.5555555555555556,\"#d8576b\"],[0.6666666666666666,\"#ed7953\"],[0.7777777777777778,\"#fb9f3a\"],[0.8888888888888888,\"#fdca26\"],[1.0,\"#f0f921\"]],\"diverging\":[[0,\"#8e0152\"],[0.1,\"#c51b7d\"],[0.2,\"#de77ae\"],[0.3,\"#f1b6da\"],[0.4,\"#fde0ef\"],[0.5,\"#f7f7f7\"],[0.6,\"#e6f5d0\"],[0.7,\"#b8e186\"],[0.8,\"#7fbc41\"],[0.9,\"#4d9221\"],[1,\"#276419\"]]},\"xaxis\":{\"gridcolor\":\"white\",\"linecolor\":\"white\",\"ticks\":\"\",\"title\":{\"standoff\":15},\"zerolinecolor\":\"white\",\"automargin\":true,\"zerolinewidth\":2},\"yaxis\":{\"gridcolor\":\"white\",\"linecolor\":\"white\",\"ticks\":\"\",\"title\":{\"standoff\":15},\"zerolinecolor\":\"white\",\"automargin\":true,\"zerolinewidth\":2},\"scene\":{\"xaxis\":{\"backgroundcolor\":\"#E5ECF6\",\"gridcolor\":\"white\",\"linecolor\":\"white\",\"showbackground\":true,\"ticks\":\"\",\"zerolinecolor\":\"white\",\"gridwidth\":2},\"yaxis\":{\"backgroundcolor\":\"#E5ECF6\",\"gridcolor\":\"white\",\"linecolor\":\"white\",\"showbackground\":true,\"ticks\":\"\",\"zerolinecolor\":\"white\",\"gridwidth\":2},\"zaxis\":{\"backgroundcolor\":\"#E5ECF6\",\"gridcolor\":\"white\",\"linecolor\":\"white\",\"showbackground\":true,\"ticks\":\"\",\"zerolinecolor\":\"white\",\"gridwidth\":2}},\"shapedefaults\":{\"line\":{\"color\":\"#2a3f5f\"}},\"annotationdefaults\":{\"arrowcolor\":\"#2a3f5f\",\"arrowhead\":0,\"arrowwidth\":1},\"geo\":{\"bgcolor\":\"white\",\"landcolor\":\"#E5ECF6\",\"subunitcolor\":\"white\",\"showland\":true,\"showlakes\":true,\"lakecolor\":\"white\"},\"title\":{\"x\":0.05},\"mapbox\":{\"style\":\"light\"}}},\"xaxis\":{\"anchor\":\"y\",\"domain\":[0.0,1.0],\"title\":{\"text\":\"0\"}},\"yaxis\":{\"anchor\":\"x\",\"domain\":[0.0,1.0],\"title\":{\"text\":\"1\"}},\"legend\":{\"title\":{\"text\":\"color\"},\"tracegroupgap\":0},\"margin\":{\"t\":60}},                        {\"responsive\": true}                    ).then(function(){\n",
       "                            \n",
       "var gd = document.getElementById('4f20d2ff-59ee-4e7e-b0cb-75c3dbfe96df');\n",
       "var x = new MutationObserver(function (mutations, observer) {{\n",
       "        var display = window.getComputedStyle(gd).display;\n",
       "        if (!display || display === 'none') {{\n",
       "            console.log([gd, 'removed!']);\n",
       "            Plotly.purge(gd);\n",
       "            observer.disconnect();\n",
       "        }}\n",
       "}});\n",
       "\n",
       "// Listen for the removal of the full notebook cells\n",
       "var notebookContainer = gd.closest('#notebook-container');\n",
       "if (notebookContainer) {{\n",
       "    x.observe(notebookContainer, {childList: true});\n",
       "}}\n",
       "\n",
       "// Listen for the clearing of the current output cell\n",
       "var outputEl = gd.closest('.output');\n",
       "if (outputEl) {{\n",
       "    x.observe(outputEl, {childList: true});\n",
       "}}\n",
       "\n",
       "                        })                };                });            </script>        </div>"
      ]
     },
     "metadata": {},
     "output_type": "display_data"
    }
   ],
   "source": [
    "# Perplexity value can greatly influence the shape of the results, typical ranges from 5 to 50\n",
    "# Some perplexity values with decent separation: 6,7,9,10,12,14,15\n",
    "t_sne = manifold.TSNE(\n",
    "    n_components=2,\n",
    "    perplexity=10,\n",
    "    init=\"random\",\n",
    "    n_iter=250,\n",
    "    random_state=0,\n",
    ");\n",
    "tsne_data = pcaBiplotData.loc[:, pcaBiplotData.columns.str.startswith('enc')]\n",
    "S_t_sne = t_sne.fit_transform(tsne_data);\n",
    "fig = px.scatter(S_t_sne, \n",
    "                 x=0, \n",
    "                 y=1, \n",
    "                 color=pcaBiplotData['source'],\n",
    "                 hover_name=pcaBiplotData['date'],\n",
    "                 color_discrete_sequence=px.colors.qualitative.Bold)\n",
    "fig.show()"
   ]
  },
  {
   "cell_type": "code",
   "execution_count": 23,
   "id": "11046a54",
   "metadata": {},
   "outputs": [],
   "source": [
    "# Join PCA components to biplot dataframe and then save\n",
    "pcaBiplotData.drop(['index'], axis=1, inplace=True)\n",
    "pcafitdf = pd.DataFrame(pcafit, columns=['PCA1', 'PCA2'])\n",
    "pcaBiplotData = pcaBiplotData.join(pcafitdf)"
   ]
  },
  {
   "cell_type": "code",
   "execution_count": 24,
   "id": "6dd6ad77",
   "metadata": {},
   "outputs": [],
   "source": [
    "#pcaBiplotData.to_csv('pcaBiplotData.csv', index=False)"
   ]
  },
  {
   "cell_type": "markdown",
   "id": "d2f0c6b3",
   "metadata": {},
   "source": [
    "### <a id='pcatidydata'>Try PCA on the big tidy data set with emo, pos, sentence and word counts</a>"
   ]
  },
  {
   "cell_type": "code",
   "execution_count": 3,
   "id": "fa5e1d03",
   "metadata": {},
   "outputs": [],
   "source": [
    "scaling=StandardScaler()\n",
    "df_tidy = pd.read_csv('tidy_data.csv')\n",
    "#df_tidy.columns"
   ]
  },
  {
   "cell_type": "code",
   "execution_count": 39,
   "id": "13fb39b1",
   "metadata": {},
   "outputs": [],
   "source": [
    "pca_data = df_tidy.drop(['date', 'source', 'enc_value','PCA1', 'PCA2','num_sents', 'num_words'], axis=1, inplace=False)\n",
    "scaling.fit(pca_data)\n",
    "scaled_data = scaling.transform(pca_data)\n",
    "pca = PCA(n_components = 2)\n",
    "pcafit2 = pca.fit_transform(scaled_data)"
   ]
  },
  {
   "cell_type": "code",
   "execution_count": 40,
   "id": "be589bd6",
   "metadata": {},
   "outputs": [
    {
     "data": {
      "application/vnd.plotly.v1+json": {
       "config": {
        "plotlyServerURL": "https://plot.ly"
       },
       "data": [
        {
         "hovertemplate": "color=nyt<br>0=%{x}<br>1=%{y}<extra></extra>",
         "legendgroup": "nyt",
         "marker": {
          "color": "rgb(127, 60, 141)",
          "symbol": "circle"
         },
         "mode": "markers",
         "name": "nyt",
         "orientation": "v",
         "showlegend": true,
         "type": "scatter",
         "x": [
          0.04525949641405576,
          -0.534551708176186,
          -1.6816178265044701,
          0.2520872953613063,
          -1.8523972705118192,
          -2.266203185651129,
          -4.943652365787246,
          -1.909835821780266,
          -5.8081792792459765,
          -4.573215043135965,
          0.15793709267150824,
          2.0259762201926907,
          -1.2611603849050053,
          -2.2577148939602174,
          1.0740304618591627,
          -2.6830843015861285,
          2.230659276666797,
          -1.407416395566149,
          0.06146660131513627,
          2.6005588364469423,
          2.055224162702987,
          -5.804936175662025,
          -2.2289827282551307,
          -2.8859318192110535,
          -3.594401870362033,
          -0.558107071722032,
          1.1955403680731231,
          -1.5310765757779203,
          -10.58260770037301,
          0.044801690501485546,
          -1.9074093676067372,
          -2.7972346231105396,
          -2.0014749155966256,
          -1.1540447143738488,
          1.8467342790686536,
          -5.2799511518707325,
          -1.5862639660772133,
          -5.636493287686073,
          -3.793956631399306,
          -4.2148657600230806,
          -2.908374062965828,
          -0.4551226402817252,
          -4.873126836276935,
          -1.6607118479318974,
          -1.8060608656977053,
          0.1982196118172056,
          0.5757601094597148,
          -1.2525373542455764,
          -0.7398585550137052,
          0.5755609117690387,
          -3.48049300943461,
          -0.5131588439602255,
          -4.921548543863938,
          -1.6527349810734266,
          2.3310608852787276,
          0.4143294393306396,
          -6.601917569682092,
          -4.247385316592578,
          -0.14438208171312755,
          0.5040266236165905,
          -2.646951784569854,
          -0.9208616466835111,
          8.680231399043539,
          -4.187971107177019,
          0.6128290855936939,
          -5.1700503010179055,
          -3.590709734651983,
          -1.8640338728732724,
          -3.747584877198123,
          -4.008405258299311,
          -3.761565915774197,
          0.10088385856648113,
          -3.0148100545992844,
          1.1647102826605855,
          -0.8704128388470339,
          -1.1589547921200005,
          -0.558158099690237,
          -1.8016613725236181,
          -5.2060082867211115,
          -2.0074001969884874,
          -3.8463383471695853,
          -0.06490238804627262,
          2.5562866955392396,
          -4.365725676303845,
          -2.2082181196810127,
          -1.7787587056432563,
          3.533922161558087,
          -1.1077249456069211,
          -1.8735745494452172,
          -5.121187525773096,
          2.1930153583686605,
          -2.0715763911492826,
          -3.3769906505217326,
          -0.36072742369991706,
          -2.76995111432148,
          0.3344690199055717,
          -1.1734553368599665,
          -3.0251602414103544,
          -3.334528859161483,
          -0.33636442433682523
         ],
         "xaxis": "x",
         "y": [
          -4.181004549816631,
          -4.544168751837551,
          -3.154670098010419,
          -2.5025023892576157,
          -0.0022107122997543933,
          -0.7361360213180677,
          -0.2300882042975954,
          -3.5487095565146007,
          -3.635448382267589,
          -2.061977310049109,
          -6.140451408130872,
          -3.8271194958408548,
          -6.324288368044178,
          -0.4826348363366127,
          -3.1101720594042104,
          -2.6377129246943065,
          -1.5043063751967256,
          -4.22681023421038,
          0.43152930234352677,
          -1.0994857743466224,
          -1.2282776406052653,
          -7.128077002040985,
          -6.4865479992444,
          -4.317039397262822,
          0.1520693300387506,
          0.5482465242257778,
          -3.070036555162893,
          -1.690589435697224,
          13.013646234595033,
          -0.20599620699575905,
          3.271553925912522,
          -2.7772344760619574,
          -2.376192586709237,
          -1.1249659577004174,
          4.557044849203494,
          -2.0806856637034277,
          0.4453536227904351,
          -4.891382990404936,
          -4.102831503011993,
          -0.7344565174327591,
          -0.6851811350465438,
          1.9397418069514893,
          -2.4594262854660838,
          -3.533559521176939,
          -0.959396824462399,
          3.03810349710157,
          0.08014123775376542,
          1.656288665361766,
          -3.8918977205440264,
          4.277575893397306,
          0.4135198147867063,
          -0.7532444377972637,
          -1.4299777585844873,
          -1.8600545385465777,
          -1.9554468377633745,
          2.269908468508129,
          -2.57764491490446,
          -0.8119180296142429,
          2.967364531433262,
          2.62311004176951,
          -2.5574962669718864,
          -2.2145206021847788,
          -9.64803309750737,
          -1.0717215007283896,
          -2.9826197892752804,
          -0.4614383594826988,
          -0.10111109711663716,
          2.1796490723194797,
          -2.5422820767658525,
          -4.47125435828759,
          -0.38714853924298964,
          1.781866918304812,
          -1.3344644598977888,
          0.7121306773247111,
          -4.951847622578889,
          -3.3042164148002384,
          0.3001471540133584,
          -2.655617355041288,
          2.326753245607799,
          2.952801273089517,
          -1.9561299776982872,
          1.5440380322309941,
          2.084055602662248,
          -1.5919063843955146,
          -3.6449179601317128,
          0.6217367918539415,
          1.647673440380728,
          3.3799344575495818,
          -2.695583806206942,
          -0.08457570259190135,
          -3.0826409451238392,
          0.6479101637502109,
          0.5976427213323894,
          2.569265137218764,
          0.7805519429210378,
          -3.4048225428950674,
          2.73796641688446,
          1.695280618016395,
          -1.2571712186370316,
          0.4656870758621043
         ],
         "yaxis": "y"
        },
        {
         "hovertemplate": "color=oba<br>0=%{x}<br>1=%{y}<extra></extra>",
         "legendgroup": "oba",
         "marker": {
          "color": "rgb(17, 165, 121)",
          "symbol": "circle"
         },
         "mode": "markers",
         "name": "oba",
         "orientation": "v",
         "showlegend": true,
         "type": "scatter",
         "x": [
          6.89605084071504,
          5.261129758322379,
          -1.2393207247829152,
          2.965109743043365,
          0.8799756107295866,
          8.185210645628564,
          4.651218112606452,
          -1.684143296465674,
          6.965848199576697,
          7.2044132180254365,
          4.472349845763713,
          3.403635924753272,
          1.5688129224615508,
          -2.4797302761636297,
          0.4260847802355948,
          4.275811160667819,
          5.360158192267609,
          6.569581674680671,
          -1.049033460854231,
          2.85877243804201,
          3.288729433164213,
          2.7694524068209305,
          -0.707880810793299,
          1.3773750995400367,
          2.761841507247774,
          8.848725614522692,
          12.403450263880831,
          1.0320944354198858,
          6.542875293603658,
          0.43269865176328,
          7.069963642571315,
          1.2369489622520988,
          5.447384807811764,
          8.24970348440392,
          2.536214921072996,
          4.520175106688999,
          -0.27793699929711724,
          1.402829480211419,
          11.569994406061241,
          7.900199856662569,
          6.279363985103335,
          5.718476870552464,
          1.407384807726918,
          6.681433091766083,
          4.271967118431459,
          3.4665662205206385,
          7.256365666077269,
          3.0008550797119145,
          3.8967226014295204,
          0.13365347384839285,
          6.429406125476506,
          2.629635730296969,
          9.84370231369518,
          10.483681134666814,
          3.985007541566139,
          3.22362743856493,
          7.695412796081868,
          5.8717673104057555,
          1.0943516237716946,
          3.394066242358896,
          -0.14292226940325203,
          6.430584242380325,
          1.111715673606684,
          0.8626802892366491,
          8.838966760942542,
          -4.597475612704002,
          2.799045405283445,
          6.910963611291685,
          3.037557782174795,
          4.566872792139594,
          0.09579831229889484,
          -0.4087159858446133,
          3.974724047844173,
          5.806297825715112,
          2.322802544928487,
          4.197760579843854,
          -7.254336520992918,
          11.156080102514958,
          6.3495690525593,
          8.144375587484115,
          0.4912316018221341,
          10.127520885406383,
          1.9335294747811504,
          1.8105172647895964,
          8.945732294134713,
          -0.772530588346192,
          1.7415414498194959,
          1.2286789625956827,
          -0.7514648267771022,
          9.48694883164673,
          -0.4224532347729058,
          -9.421697693133565,
          9.669144430490292,
          13.197656696259262,
          2.6364866105984492,
          10.31216863624989,
          5.870701755456461,
          -0.5662155677877013,
          5.3315056646066985,
          6.89005603726948
         ],
         "xaxis": "x",
         "y": [
          -2.896972536070146,
          2.9128387277002217,
          5.298981013109656,
          2.4215549116511683,
          2.2763136313852117,
          -5.076265353437063,
          -1.7335436989878275,
          6.2436989825386355,
          0.4330555785827904,
          -4.302588424284614,
          -0.02250922859318449,
          3.2359420160366685,
          2.537080241991737,
          4.270773038716657,
          2.4496052232045966,
          0.6404310195589391,
          2.9122423562903266,
          -2.1606449296949113,
          2.969518115522865,
          1.5482160684543351,
          1.4290547107305491,
          3.276374135382273,
          3.111483322515174,
          2.513818149608605,
          3.66209037906286,
          -0.9068407038785227,
          -4.410464502938054,
          3.2465395285036007,
          1.7710462127746713,
          3.8362269698142515,
          4.133973271404341,
          2.3124292665357316,
          -0.3923242683694106,
          -0.13517508400560674,
          -0.1461409009604143,
          -1.3975180463212091,
          4.40434258221218,
          1.3893743725970253,
          -4.210684238608842,
          -3.856270725569142,
          3.1913293325275736,
          6.0411895692224835,
          4.660605182183227,
          1.4192405692312924,
          1.7070499343872936,
          6.714882750604632,
          0.8690618868507971,
          3.0224930736713054,
          4.999514686241364,
          5.980921110178842,
          0.46599003174502585,
          0.6191473997683319,
          -0.14047650000384312,
          -4.823097445571162,
          1.0539790078285918,
          3.3674807398024105,
          -3.556576330863344,
          0.4216062603806894,
          2.6206611706803677,
          -0.5047531765398071,
          2.5391560459230376,
          1.4764380022973163,
          5.767323746733375,
          -5.080505666715407,
          -3.5225693145867623,
          0.8582903449971774,
          -0.4810584914307525,
          -1.4368061998088928,
          2.5985983065388947,
          2.4556431507140917,
          2.042820798184395,
          0.9405368288163445,
          1.7259982814179453,
          -1.7502318570370878,
          5.7072365224450365,
          -3.3714124251300275,
          6.2512919627317896,
          -4.122494991216795,
          -3.544821527245598,
          1.3893842908899534,
          1.9424590945892932,
          0.6108202881178726,
          4.194871402713036,
          0.44044778836166737,
          -1.7395839626057872,
          3.498535555443813,
          4.681898097060812,
          6.044762681630248,
          3.7991859201465155,
          -1.928719066772023,
          4.589144768307325,
          -3.3859533881573274,
          -4.883634288950007,
          -0.8968860417899567,
          4.5898776240399,
          -1.0304729497205227,
          2.3269072294421376,
          2.9927365895978086,
          6.059773982120474,
          -0.8722339030493463
         ],
         "yaxis": "y"
        },
        {
         "hovertemplate": "color=wsj<br>0=%{x}<br>1=%{y}<extra></extra>",
         "legendgroup": "wsj",
         "marker": {
          "color": "rgb(57, 105, 172)",
          "symbol": "circle"
         },
         "mode": "markers",
         "name": "wsj",
         "orientation": "v",
         "showlegend": true,
         "type": "scatter",
         "x": [
          -2.294717378083079,
          1.7578213210057967,
          -0.6610763937728837,
          1.0311244810768145,
          -2.413198785657317,
          -2.9010344638577785,
          -4.146733642343392,
          -1.3447212239640054,
          -11.773749047086369,
          -4.886412297716923,
          -0.7474335470072869,
          -2.923182984213833,
          -3.5597569206599626,
          -1.8909717587566346,
          1.3597715849297942,
          -0.1388451694277314,
          -0.2579287900654333,
          -1.421905968985795,
          0.27257563263199175,
          -2.1918702839415487,
          1.0688815048011369,
          0.19483853174664564,
          -4.607334839872526,
          -1.1381890029577668,
          -2.532081478488327,
          -0.7963912960668863,
          -1.1968652359656962,
          -3.3069982480658466,
          -1.54997310539479,
          -1.2453374226960419,
          -0.42055859170076515,
          -0.648622916545816,
          -0.2443735012903415,
          -1.5425750885655387,
          0.0565499312430961,
          -4.563081915681175,
          -5.201621489281301,
          -4.061430895960226,
          -2.4553944488230597,
          -5.945736308546294,
          -3.6052291624997106,
          -2.1121382087261917,
          -4.111619177125759,
          -0.01065878120613651,
          -3.339609251138831,
          -1.2286106862981303,
          1.983001242863197,
          0.34255177203896947,
          1.3241471606161328,
          -0.1260441773584766,
          -3.9369052757395693,
          -1.7224133565855624,
          -2.895134093263065,
          -2.4702924063195364,
          -1.5693540065968683,
          -3.3114100077293367,
          -2.7604145444486434,
          -4.812092997001354,
          -2.9696333423999213,
          -4.738735800809666,
          -4.795247799824012,
          -4.373260631139744,
          -1.4754207373423558,
          -4.586034127683241,
          -2.6122920070715154,
          -3.6565821381021344,
          -3.316131538067914,
          -3.020683619404563,
          -1.9243876808388345,
          -3.519578508906416,
          -3.451253164618827,
          -1.6888815254708853,
          -4.339470826068941,
          1.4202757524959433,
          -0.245877524619533,
          -3.616362628457319,
          -1.7864023345302005,
          -4.018050913367377,
          -3.800627736611756,
          -4.034070255714754,
          -0.7419098120068118,
          -4.42605380541033,
          1.8823569893450085,
          -5.175548081215719,
          -1.6361471331552582,
          -3.1534878848125105,
          0.559817523272354,
          -3.76764536484512,
          -4.940565396436009,
          -1.7706045526810414,
          -4.362340752584757,
          -2.1434169414964392,
          -4.762972285582516,
          -1.8577663528088297,
          -2.8763963697439014,
          0.22796983990410694,
          0.8814622994741798,
          -3.561240013388805,
          -0.10924617369980513,
          -4.729091224637011
         ],
         "xaxis": "x",
         "y": [
          0.19306475579051952,
          -2.842588796109881,
          -1.6390817131309698,
          -0.24702779973564237,
          -0.4533738298843363,
          -2.1435655178670117,
          -1.6130745261608028,
          -0.7732413312817642,
          -0.5231662603269432,
          -0.9289888339664392,
          -1.9547835992869924,
          2.8043970791079342,
          -1.2879051573780012,
          3.7789743074662434,
          -2.3020214416591838,
          -0.5968272350546351,
          -0.5358249774871119,
          -1.061678258289849,
          0.6026921664233085,
          -0.5589634445781745,
          2.8675962487996474,
          -2.802884386239014,
          -0.46677788486619887,
          -0.9638921661971361,
          -0.49053955484033934,
          4.8825063188969295,
          -2.8176112589176956,
          -2.6483075890558223,
          -0.6212625972886907,
          2.6077419448142,
          4.746657603387464,
          -0.7960667365706962,
          -1.1364786730228729,
          -2.7222018402941712,
          -0.6378356887899569,
          -3.272235782452404,
          -0.7378733753431399,
          -2.0394567790112483,
          -3.1448784520834945,
          2.6978789194794146,
          0.5905486696745534,
          3.031679495721988,
          0.13742646607023506,
          -1.1658872611397308,
          -1.345533520618197,
          2.7203621846074717,
          -0.33629827324215594,
          1.7589190026371793,
          -0.9839458892455363,
          4.184744172090241,
          -0.17352223875617556,
          -2.1455822211829942,
          1.4815214878110552,
          -1.0518680832056342,
          3.3403304936706184,
          0.855257574188554,
          -2.379298935798445,
          -1.3571743241318843,
          1.2959130549712528,
          -0.3842249530692624,
          -1.3709778114051427,
          -0.33334326353641525,
          -0.006914491877903433,
          -1.071098226941795,
          -0.3418843352971464,
          -2.345268587818302,
          -1.7522660643923347,
          0.22714815175871184,
          -1.9798228484958016,
          -2.8453273771871364,
          -0.06652977185048994,
          3.4932067309047103,
          -0.9334684389921495,
          -0.9505694244959833,
          -0.8868351518790676,
          -1.8937818928515981,
          0.8742466250836746,
          -3.188740132038989,
          1.5905449536229332,
          -1.8282937210137948,
          -1.217749070309897,
          0.5218210218579178,
          2.5204726216791595,
          -0.619076556173971,
          -2.6818437883835045,
          0.13039567377722908,
          2.958009348734662,
          1.2601926941493191,
          -3.906390698126459,
          0.1349869528435625,
          -0.5030621333006333,
          1.7316160302764085,
          0.07975149369362416,
          2.9740378389212,
          1.0423987244819,
          0.3048396516007507,
          3.06597456515096,
          -0.27866537015259696,
          0.06018315369474092,
          -0.885252521414107
         ],
         "yaxis": "y"
        }
       ],
       "layout": {
        "legend": {
         "title": {
          "text": "color"
         },
         "tracegroupgap": 0
        },
        "margin": {
         "t": 60
        },
        "template": {
         "data": {
          "bar": [
           {
            "error_x": {
             "color": "#2a3f5f"
            },
            "error_y": {
             "color": "#2a3f5f"
            },
            "marker": {
             "line": {
              "color": "#E5ECF6",
              "width": 0.5
             },
             "pattern": {
              "fillmode": "overlay",
              "size": 10,
              "solidity": 0.2
             }
            },
            "type": "bar"
           }
          ],
          "barpolar": [
           {
            "marker": {
             "line": {
              "color": "#E5ECF6",
              "width": 0.5
             },
             "pattern": {
              "fillmode": "overlay",
              "size": 10,
              "solidity": 0.2
             }
            },
            "type": "barpolar"
           }
          ],
          "carpet": [
           {
            "aaxis": {
             "endlinecolor": "#2a3f5f",
             "gridcolor": "white",
             "linecolor": "white",
             "minorgridcolor": "white",
             "startlinecolor": "#2a3f5f"
            },
            "baxis": {
             "endlinecolor": "#2a3f5f",
             "gridcolor": "white",
             "linecolor": "white",
             "minorgridcolor": "white",
             "startlinecolor": "#2a3f5f"
            },
            "type": "carpet"
           }
          ],
          "choropleth": [
           {
            "colorbar": {
             "outlinewidth": 0,
             "ticks": ""
            },
            "type": "choropleth"
           }
          ],
          "contour": [
           {
            "colorbar": {
             "outlinewidth": 0,
             "ticks": ""
            },
            "colorscale": [
             [
              0,
              "#0d0887"
             ],
             [
              0.1111111111111111,
              "#46039f"
             ],
             [
              0.2222222222222222,
              "#7201a8"
             ],
             [
              0.3333333333333333,
              "#9c179e"
             ],
             [
              0.4444444444444444,
              "#bd3786"
             ],
             [
              0.5555555555555556,
              "#d8576b"
             ],
             [
              0.6666666666666666,
              "#ed7953"
             ],
             [
              0.7777777777777778,
              "#fb9f3a"
             ],
             [
              0.8888888888888888,
              "#fdca26"
             ],
             [
              1,
              "#f0f921"
             ]
            ],
            "type": "contour"
           }
          ],
          "contourcarpet": [
           {
            "colorbar": {
             "outlinewidth": 0,
             "ticks": ""
            },
            "type": "contourcarpet"
           }
          ],
          "heatmap": [
           {
            "colorbar": {
             "outlinewidth": 0,
             "ticks": ""
            },
            "colorscale": [
             [
              0,
              "#0d0887"
             ],
             [
              0.1111111111111111,
              "#46039f"
             ],
             [
              0.2222222222222222,
              "#7201a8"
             ],
             [
              0.3333333333333333,
              "#9c179e"
             ],
             [
              0.4444444444444444,
              "#bd3786"
             ],
             [
              0.5555555555555556,
              "#d8576b"
             ],
             [
              0.6666666666666666,
              "#ed7953"
             ],
             [
              0.7777777777777778,
              "#fb9f3a"
             ],
             [
              0.8888888888888888,
              "#fdca26"
             ],
             [
              1,
              "#f0f921"
             ]
            ],
            "type": "heatmap"
           }
          ],
          "heatmapgl": [
           {
            "colorbar": {
             "outlinewidth": 0,
             "ticks": ""
            },
            "colorscale": [
             [
              0,
              "#0d0887"
             ],
             [
              0.1111111111111111,
              "#46039f"
             ],
             [
              0.2222222222222222,
              "#7201a8"
             ],
             [
              0.3333333333333333,
              "#9c179e"
             ],
             [
              0.4444444444444444,
              "#bd3786"
             ],
             [
              0.5555555555555556,
              "#d8576b"
             ],
             [
              0.6666666666666666,
              "#ed7953"
             ],
             [
              0.7777777777777778,
              "#fb9f3a"
             ],
             [
              0.8888888888888888,
              "#fdca26"
             ],
             [
              1,
              "#f0f921"
             ]
            ],
            "type": "heatmapgl"
           }
          ],
          "histogram": [
           {
            "marker": {
             "pattern": {
              "fillmode": "overlay",
              "size": 10,
              "solidity": 0.2
             }
            },
            "type": "histogram"
           }
          ],
          "histogram2d": [
           {
            "colorbar": {
             "outlinewidth": 0,
             "ticks": ""
            },
            "colorscale": [
             [
              0,
              "#0d0887"
             ],
             [
              0.1111111111111111,
              "#46039f"
             ],
             [
              0.2222222222222222,
              "#7201a8"
             ],
             [
              0.3333333333333333,
              "#9c179e"
             ],
             [
              0.4444444444444444,
              "#bd3786"
             ],
             [
              0.5555555555555556,
              "#d8576b"
             ],
             [
              0.6666666666666666,
              "#ed7953"
             ],
             [
              0.7777777777777778,
              "#fb9f3a"
             ],
             [
              0.8888888888888888,
              "#fdca26"
             ],
             [
              1,
              "#f0f921"
             ]
            ],
            "type": "histogram2d"
           }
          ],
          "histogram2dcontour": [
           {
            "colorbar": {
             "outlinewidth": 0,
             "ticks": ""
            },
            "colorscale": [
             [
              0,
              "#0d0887"
             ],
             [
              0.1111111111111111,
              "#46039f"
             ],
             [
              0.2222222222222222,
              "#7201a8"
             ],
             [
              0.3333333333333333,
              "#9c179e"
             ],
             [
              0.4444444444444444,
              "#bd3786"
             ],
             [
              0.5555555555555556,
              "#d8576b"
             ],
             [
              0.6666666666666666,
              "#ed7953"
             ],
             [
              0.7777777777777778,
              "#fb9f3a"
             ],
             [
              0.8888888888888888,
              "#fdca26"
             ],
             [
              1,
              "#f0f921"
             ]
            ],
            "type": "histogram2dcontour"
           }
          ],
          "mesh3d": [
           {
            "colorbar": {
             "outlinewidth": 0,
             "ticks": ""
            },
            "type": "mesh3d"
           }
          ],
          "parcoords": [
           {
            "line": {
             "colorbar": {
              "outlinewidth": 0,
              "ticks": ""
             }
            },
            "type": "parcoords"
           }
          ],
          "pie": [
           {
            "automargin": true,
            "type": "pie"
           }
          ],
          "scatter": [
           {
            "fillpattern": {
             "fillmode": "overlay",
             "size": 10,
             "solidity": 0.2
            },
            "type": "scatter"
           }
          ],
          "scatter3d": [
           {
            "line": {
             "colorbar": {
              "outlinewidth": 0,
              "ticks": ""
             }
            },
            "marker": {
             "colorbar": {
              "outlinewidth": 0,
              "ticks": ""
             }
            },
            "type": "scatter3d"
           }
          ],
          "scattercarpet": [
           {
            "marker": {
             "colorbar": {
              "outlinewidth": 0,
              "ticks": ""
             }
            },
            "type": "scattercarpet"
           }
          ],
          "scattergeo": [
           {
            "marker": {
             "colorbar": {
              "outlinewidth": 0,
              "ticks": ""
             }
            },
            "type": "scattergeo"
           }
          ],
          "scattergl": [
           {
            "marker": {
             "colorbar": {
              "outlinewidth": 0,
              "ticks": ""
             }
            },
            "type": "scattergl"
           }
          ],
          "scattermapbox": [
           {
            "marker": {
             "colorbar": {
              "outlinewidth": 0,
              "ticks": ""
             }
            },
            "type": "scattermapbox"
           }
          ],
          "scatterpolar": [
           {
            "marker": {
             "colorbar": {
              "outlinewidth": 0,
              "ticks": ""
             }
            },
            "type": "scatterpolar"
           }
          ],
          "scatterpolargl": [
           {
            "marker": {
             "colorbar": {
              "outlinewidth": 0,
              "ticks": ""
             }
            },
            "type": "scatterpolargl"
           }
          ],
          "scatterternary": [
           {
            "marker": {
             "colorbar": {
              "outlinewidth": 0,
              "ticks": ""
             }
            },
            "type": "scatterternary"
           }
          ],
          "surface": [
           {
            "colorbar": {
             "outlinewidth": 0,
             "ticks": ""
            },
            "colorscale": [
             [
              0,
              "#0d0887"
             ],
             [
              0.1111111111111111,
              "#46039f"
             ],
             [
              0.2222222222222222,
              "#7201a8"
             ],
             [
              0.3333333333333333,
              "#9c179e"
             ],
             [
              0.4444444444444444,
              "#bd3786"
             ],
             [
              0.5555555555555556,
              "#d8576b"
             ],
             [
              0.6666666666666666,
              "#ed7953"
             ],
             [
              0.7777777777777778,
              "#fb9f3a"
             ],
             [
              0.8888888888888888,
              "#fdca26"
             ],
             [
              1,
              "#f0f921"
             ]
            ],
            "type": "surface"
           }
          ],
          "table": [
           {
            "cells": {
             "fill": {
              "color": "#EBF0F8"
             },
             "line": {
              "color": "white"
             }
            },
            "header": {
             "fill": {
              "color": "#C8D4E3"
             },
             "line": {
              "color": "white"
             }
            },
            "type": "table"
           }
          ]
         },
         "layout": {
          "annotationdefaults": {
           "arrowcolor": "#2a3f5f",
           "arrowhead": 0,
           "arrowwidth": 1
          },
          "autotypenumbers": "strict",
          "coloraxis": {
           "colorbar": {
            "outlinewidth": 0,
            "ticks": ""
           }
          },
          "colorscale": {
           "diverging": [
            [
             0,
             "#8e0152"
            ],
            [
             0.1,
             "#c51b7d"
            ],
            [
             0.2,
             "#de77ae"
            ],
            [
             0.3,
             "#f1b6da"
            ],
            [
             0.4,
             "#fde0ef"
            ],
            [
             0.5,
             "#f7f7f7"
            ],
            [
             0.6,
             "#e6f5d0"
            ],
            [
             0.7,
             "#b8e186"
            ],
            [
             0.8,
             "#7fbc41"
            ],
            [
             0.9,
             "#4d9221"
            ],
            [
             1,
             "#276419"
            ]
           ],
           "sequential": [
            [
             0,
             "#0d0887"
            ],
            [
             0.1111111111111111,
             "#46039f"
            ],
            [
             0.2222222222222222,
             "#7201a8"
            ],
            [
             0.3333333333333333,
             "#9c179e"
            ],
            [
             0.4444444444444444,
             "#bd3786"
            ],
            [
             0.5555555555555556,
             "#d8576b"
            ],
            [
             0.6666666666666666,
             "#ed7953"
            ],
            [
             0.7777777777777778,
             "#fb9f3a"
            ],
            [
             0.8888888888888888,
             "#fdca26"
            ],
            [
             1,
             "#f0f921"
            ]
           ],
           "sequentialminus": [
            [
             0,
             "#0d0887"
            ],
            [
             0.1111111111111111,
             "#46039f"
            ],
            [
             0.2222222222222222,
             "#7201a8"
            ],
            [
             0.3333333333333333,
             "#9c179e"
            ],
            [
             0.4444444444444444,
             "#bd3786"
            ],
            [
             0.5555555555555556,
             "#d8576b"
            ],
            [
             0.6666666666666666,
             "#ed7953"
            ],
            [
             0.7777777777777778,
             "#fb9f3a"
            ],
            [
             0.8888888888888888,
             "#fdca26"
            ],
            [
             1,
             "#f0f921"
            ]
           ]
          },
          "colorway": [
           "#636efa",
           "#EF553B",
           "#00cc96",
           "#ab63fa",
           "#FFA15A",
           "#19d3f3",
           "#FF6692",
           "#B6E880",
           "#FF97FF",
           "#FECB52"
          ],
          "font": {
           "color": "#2a3f5f"
          },
          "geo": {
           "bgcolor": "white",
           "lakecolor": "white",
           "landcolor": "#E5ECF6",
           "showlakes": true,
           "showland": true,
           "subunitcolor": "white"
          },
          "hoverlabel": {
           "align": "left"
          },
          "hovermode": "closest",
          "mapbox": {
           "style": "light"
          },
          "paper_bgcolor": "white",
          "plot_bgcolor": "#E5ECF6",
          "polar": {
           "angularaxis": {
            "gridcolor": "white",
            "linecolor": "white",
            "ticks": ""
           },
           "bgcolor": "#E5ECF6",
           "radialaxis": {
            "gridcolor": "white",
            "linecolor": "white",
            "ticks": ""
           }
          },
          "scene": {
           "xaxis": {
            "backgroundcolor": "#E5ECF6",
            "gridcolor": "white",
            "gridwidth": 2,
            "linecolor": "white",
            "showbackground": true,
            "ticks": "",
            "zerolinecolor": "white"
           },
           "yaxis": {
            "backgroundcolor": "#E5ECF6",
            "gridcolor": "white",
            "gridwidth": 2,
            "linecolor": "white",
            "showbackground": true,
            "ticks": "",
            "zerolinecolor": "white"
           },
           "zaxis": {
            "backgroundcolor": "#E5ECF6",
            "gridcolor": "white",
            "gridwidth": 2,
            "linecolor": "white",
            "showbackground": true,
            "ticks": "",
            "zerolinecolor": "white"
           }
          },
          "shapedefaults": {
           "line": {
            "color": "#2a3f5f"
           }
          },
          "ternary": {
           "aaxis": {
            "gridcolor": "white",
            "linecolor": "white",
            "ticks": ""
           },
           "baxis": {
            "gridcolor": "white",
            "linecolor": "white",
            "ticks": ""
           },
           "bgcolor": "#E5ECF6",
           "caxis": {
            "gridcolor": "white",
            "linecolor": "white",
            "ticks": ""
           }
          },
          "title": {
           "x": 0.05
          },
          "xaxis": {
           "automargin": true,
           "gridcolor": "white",
           "linecolor": "white",
           "ticks": "",
           "title": {
            "standoff": 15
           },
           "zerolinecolor": "white",
           "zerolinewidth": 2
          },
          "yaxis": {
           "automargin": true,
           "gridcolor": "white",
           "linecolor": "white",
           "ticks": "",
           "title": {
            "standoff": 15
           },
           "zerolinecolor": "white",
           "zerolinewidth": 2
          }
         }
        },
        "xaxis": {
         "anchor": "y",
         "domain": [
          0,
          1
         ],
         "title": {
          "text": "0"
         }
        },
        "yaxis": {
         "anchor": "x",
         "domain": [
          0,
          1
         ],
         "title": {
          "text": "1"
         }
        }
       }
      },
      "text/html": [
       "<div>                            <div id=\"b4ffcdb5-95ac-4ef4-8a09-07e5a47b666e\" class=\"plotly-graph-div\" style=\"height:525px; width:100%;\"></div>            <script type=\"text/javascript\">                require([\"plotly\"], function(Plotly) {                    window.PLOTLYENV=window.PLOTLYENV || {};                                    if (document.getElementById(\"b4ffcdb5-95ac-4ef4-8a09-07e5a47b666e\")) {                    Plotly.newPlot(                        \"b4ffcdb5-95ac-4ef4-8a09-07e5a47b666e\",                        [{\"hovertemplate\":\"color=nyt<br>0=%{x}<br>1=%{y}<extra></extra>\",\"legendgroup\":\"nyt\",\"marker\":{\"color\":\"rgb(127, 60, 141)\",\"symbol\":\"circle\"},\"mode\":\"markers\",\"name\":\"nyt\",\"orientation\":\"v\",\"showlegend\":true,\"x\":[0.04525949641405576,-0.534551708176186,-1.6816178265044701,0.2520872953613063,-1.8523972705118192,-2.266203185651129,-4.943652365787246,-1.909835821780266,-5.8081792792459765,-4.573215043135965,0.15793709267150824,2.0259762201926907,-1.2611603849050053,-2.2577148939602174,1.0740304618591627,-2.6830843015861285,2.230659276666797,-1.407416395566149,0.06146660131513627,2.6005588364469423,2.055224162702987,-5.804936175662025,-2.2289827282551307,-2.8859318192110535,-3.594401870362033,-0.558107071722032,1.1955403680731231,-1.5310765757779203,-10.58260770037301,0.044801690501485546,-1.9074093676067372,-2.7972346231105396,-2.0014749155966256,-1.1540447143738488,1.8467342790686536,-5.2799511518707325,-1.5862639660772133,-5.636493287686073,-3.793956631399306,-4.2148657600230806,-2.908374062965828,-0.4551226402817252,-4.873126836276935,-1.6607118479318974,-1.8060608656977053,0.1982196118172056,0.5757601094597148,-1.2525373542455764,-0.7398585550137052,0.5755609117690387,-3.48049300943461,-0.5131588439602255,-4.921548543863938,-1.6527349810734266,2.3310608852787276,0.4143294393306396,-6.601917569682092,-4.247385316592578,-0.14438208171312755,0.5040266236165905,-2.646951784569854,-0.9208616466835111,8.680231399043539,-4.187971107177019,0.6128290855936939,-5.1700503010179055,-3.590709734651983,-1.8640338728732724,-3.747584877198123,-4.008405258299311,-3.761565915774197,0.10088385856648113,-3.0148100545992844,1.1647102826605855,-0.8704128388470339,-1.1589547921200005,-0.558158099690237,-1.8016613725236181,-5.2060082867211115,-2.0074001969884874,-3.8463383471695853,-0.06490238804627262,2.5562866955392396,-4.365725676303845,-2.2082181196810127,-1.7787587056432563,3.533922161558087,-1.1077249456069211,-1.8735745494452172,-5.121187525773096,2.1930153583686605,-2.0715763911492826,-3.3769906505217326,-0.36072742369991706,-2.76995111432148,0.3344690199055717,-1.1734553368599665,-3.0251602414103544,-3.334528859161483,-0.33636442433682523],\"xaxis\":\"x\",\"y\":[-4.181004549816631,-4.544168751837551,-3.154670098010419,-2.5025023892576157,-0.0022107122997543933,-0.7361360213180677,-0.2300882042975954,-3.5487095565146007,-3.635448382267589,-2.061977310049109,-6.140451408130872,-3.8271194958408548,-6.324288368044178,-0.4826348363366127,-3.1101720594042104,-2.6377129246943065,-1.5043063751967256,-4.22681023421038,0.43152930234352677,-1.0994857743466224,-1.2282776406052653,-7.128077002040985,-6.4865479992444,-4.317039397262822,0.1520693300387506,0.5482465242257778,-3.070036555162893,-1.690589435697224,13.013646234595033,-0.20599620699575905,3.271553925912522,-2.7772344760619574,-2.376192586709237,-1.1249659577004174,4.557044849203494,-2.0806856637034277,0.4453536227904351,-4.891382990404936,-4.102831503011993,-0.7344565174327591,-0.6851811350465438,1.9397418069514893,-2.4594262854660838,-3.533559521176939,-0.959396824462399,3.03810349710157,0.08014123775376542,1.656288665361766,-3.8918977205440264,4.277575893397306,0.4135198147867063,-0.7532444377972637,-1.4299777585844873,-1.8600545385465777,-1.9554468377633745,2.269908468508129,-2.57764491490446,-0.8119180296142429,2.967364531433262,2.62311004176951,-2.5574962669718864,-2.2145206021847788,-9.64803309750737,-1.0717215007283896,-2.9826197892752804,-0.4614383594826988,-0.10111109711663716,2.1796490723194797,-2.5422820767658525,-4.47125435828759,-0.38714853924298964,1.781866918304812,-1.3344644598977888,0.7121306773247111,-4.951847622578889,-3.3042164148002384,0.3001471540133584,-2.655617355041288,2.326753245607799,2.952801273089517,-1.9561299776982872,1.5440380322309941,2.084055602662248,-1.5919063843955146,-3.6449179601317128,0.6217367918539415,1.647673440380728,3.3799344575495818,-2.695583806206942,-0.08457570259190135,-3.0826409451238392,0.6479101637502109,0.5976427213323894,2.569265137218764,0.7805519429210378,-3.4048225428950674,2.73796641688446,1.695280618016395,-1.2571712186370316,0.4656870758621043],\"yaxis\":\"y\",\"type\":\"scatter\"},{\"hovertemplate\":\"color=oba<br>0=%{x}<br>1=%{y}<extra></extra>\",\"legendgroup\":\"oba\",\"marker\":{\"color\":\"rgb(17, 165, 121)\",\"symbol\":\"circle\"},\"mode\":\"markers\",\"name\":\"oba\",\"orientation\":\"v\",\"showlegend\":true,\"x\":[6.89605084071504,5.261129758322379,-1.2393207247829152,2.965109743043365,0.8799756107295866,8.185210645628564,4.651218112606452,-1.684143296465674,6.965848199576697,7.2044132180254365,4.472349845763713,3.403635924753272,1.5688129224615508,-2.4797302761636297,0.4260847802355948,4.275811160667819,5.360158192267609,6.569581674680671,-1.049033460854231,2.85877243804201,3.288729433164213,2.7694524068209305,-0.707880810793299,1.3773750995400367,2.761841507247774,8.848725614522692,12.403450263880831,1.0320944354198858,6.542875293603658,0.43269865176328,7.069963642571315,1.2369489622520988,5.447384807811764,8.24970348440392,2.536214921072996,4.520175106688999,-0.27793699929711724,1.402829480211419,11.569994406061241,7.900199856662569,6.279363985103335,5.718476870552464,1.407384807726918,6.681433091766083,4.271967118431459,3.4665662205206385,7.256365666077269,3.0008550797119145,3.8967226014295204,0.13365347384839285,6.429406125476506,2.629635730296969,9.84370231369518,10.483681134666814,3.985007541566139,3.22362743856493,7.695412796081868,5.8717673104057555,1.0943516237716946,3.394066242358896,-0.14292226940325203,6.430584242380325,1.111715673606684,0.8626802892366491,8.838966760942542,-4.597475612704002,2.799045405283445,6.910963611291685,3.037557782174795,4.566872792139594,0.09579831229889484,-0.4087159858446133,3.974724047844173,5.806297825715112,2.322802544928487,4.197760579843854,-7.254336520992918,11.156080102514958,6.3495690525593,8.144375587484115,0.4912316018221341,10.127520885406383,1.9335294747811504,1.8105172647895964,8.945732294134713,-0.772530588346192,1.7415414498194959,1.2286789625956827,-0.7514648267771022,9.48694883164673,-0.4224532347729058,-9.421697693133565,9.669144430490292,13.197656696259262,2.6364866105984492,10.31216863624989,5.870701755456461,-0.5662155677877013,5.3315056646066985,6.89005603726948],\"xaxis\":\"x\",\"y\":[-2.896972536070146,2.9128387277002217,5.298981013109656,2.4215549116511683,2.2763136313852117,-5.076265353437063,-1.7335436989878275,6.2436989825386355,0.4330555785827904,-4.302588424284614,-0.02250922859318449,3.2359420160366685,2.537080241991737,4.270773038716657,2.4496052232045966,0.6404310195589391,2.9122423562903266,-2.1606449296949113,2.969518115522865,1.5482160684543351,1.4290547107305491,3.276374135382273,3.111483322515174,2.513818149608605,3.66209037906286,-0.9068407038785227,-4.410464502938054,3.2465395285036007,1.7710462127746713,3.8362269698142515,4.133973271404341,2.3124292665357316,-0.3923242683694106,-0.13517508400560674,-0.1461409009604143,-1.3975180463212091,4.40434258221218,1.3893743725970253,-4.210684238608842,-3.856270725569142,3.1913293325275736,6.0411895692224835,4.660605182183227,1.4192405692312924,1.7070499343872936,6.714882750604632,0.8690618868507971,3.0224930736713054,4.999514686241364,5.980921110178842,0.46599003174502585,0.6191473997683319,-0.14047650000384312,-4.823097445571162,1.0539790078285918,3.3674807398024105,-3.556576330863344,0.4216062603806894,2.6206611706803677,-0.5047531765398071,2.5391560459230376,1.4764380022973163,5.767323746733375,-5.080505666715407,-3.5225693145867623,0.8582903449971774,-0.4810584914307525,-1.4368061998088928,2.5985983065388947,2.4556431507140917,2.042820798184395,0.9405368288163445,1.7259982814179453,-1.7502318570370878,5.7072365224450365,-3.3714124251300275,6.2512919627317896,-4.122494991216795,-3.544821527245598,1.3893842908899534,1.9424590945892932,0.6108202881178726,4.194871402713036,0.44044778836166737,-1.7395839626057872,3.498535555443813,4.681898097060812,6.044762681630248,3.7991859201465155,-1.928719066772023,4.589144768307325,-3.3859533881573274,-4.883634288950007,-0.8968860417899567,4.5898776240399,-1.0304729497205227,2.3269072294421376,2.9927365895978086,6.059773982120474,-0.8722339030493463],\"yaxis\":\"y\",\"type\":\"scatter\"},{\"hovertemplate\":\"color=wsj<br>0=%{x}<br>1=%{y}<extra></extra>\",\"legendgroup\":\"wsj\",\"marker\":{\"color\":\"rgb(57, 105, 172)\",\"symbol\":\"circle\"},\"mode\":\"markers\",\"name\":\"wsj\",\"orientation\":\"v\",\"showlegend\":true,\"x\":[-2.294717378083079,1.7578213210057967,-0.6610763937728837,1.0311244810768145,-2.413198785657317,-2.9010344638577785,-4.146733642343392,-1.3447212239640054,-11.773749047086369,-4.886412297716923,-0.7474335470072869,-2.923182984213833,-3.5597569206599626,-1.8909717587566346,1.3597715849297942,-0.1388451694277314,-0.2579287900654333,-1.421905968985795,0.27257563263199175,-2.1918702839415487,1.0688815048011369,0.19483853174664564,-4.607334839872526,-1.1381890029577668,-2.532081478488327,-0.7963912960668863,-1.1968652359656962,-3.3069982480658466,-1.54997310539479,-1.2453374226960419,-0.42055859170076515,-0.648622916545816,-0.2443735012903415,-1.5425750885655387,0.0565499312430961,-4.563081915681175,-5.201621489281301,-4.061430895960226,-2.4553944488230597,-5.945736308546294,-3.6052291624997106,-2.1121382087261917,-4.111619177125759,-0.01065878120613651,-3.339609251138831,-1.2286106862981303,1.983001242863197,0.34255177203896947,1.3241471606161328,-0.1260441773584766,-3.9369052757395693,-1.7224133565855624,-2.895134093263065,-2.4702924063195364,-1.5693540065968683,-3.3114100077293367,-2.7604145444486434,-4.812092997001354,-2.9696333423999213,-4.738735800809666,-4.795247799824012,-4.373260631139744,-1.4754207373423558,-4.586034127683241,-2.6122920070715154,-3.6565821381021344,-3.316131538067914,-3.020683619404563,-1.9243876808388345,-3.519578508906416,-3.451253164618827,-1.6888815254708853,-4.339470826068941,1.4202757524959433,-0.245877524619533,-3.616362628457319,-1.7864023345302005,-4.018050913367377,-3.800627736611756,-4.034070255714754,-0.7419098120068118,-4.42605380541033,1.8823569893450085,-5.175548081215719,-1.6361471331552582,-3.1534878848125105,0.559817523272354,-3.76764536484512,-4.940565396436009,-1.7706045526810414,-4.362340752584757,-2.1434169414964392,-4.762972285582516,-1.8577663528088297,-2.8763963697439014,0.22796983990410694,0.8814622994741798,-3.561240013388805,-0.10924617369980513,-4.729091224637011],\"xaxis\":\"x\",\"y\":[0.19306475579051952,-2.842588796109881,-1.6390817131309698,-0.24702779973564237,-0.4533738298843363,-2.1435655178670117,-1.6130745261608028,-0.7732413312817642,-0.5231662603269432,-0.9289888339664392,-1.9547835992869924,2.8043970791079342,-1.2879051573780012,3.7789743074662434,-2.3020214416591838,-0.5968272350546351,-0.5358249774871119,-1.061678258289849,0.6026921664233085,-0.5589634445781745,2.8675962487996474,-2.802884386239014,-0.46677788486619887,-0.9638921661971361,-0.49053955484033934,4.8825063188969295,-2.8176112589176956,-2.6483075890558223,-0.6212625972886907,2.6077419448142,4.746657603387464,-0.7960667365706962,-1.1364786730228729,-2.7222018402941712,-0.6378356887899569,-3.272235782452404,-0.7378733753431399,-2.0394567790112483,-3.1448784520834945,2.6978789194794146,0.5905486696745534,3.031679495721988,0.13742646607023506,-1.1658872611397308,-1.345533520618197,2.7203621846074717,-0.33629827324215594,1.7589190026371793,-0.9839458892455363,4.184744172090241,-0.17352223875617556,-2.1455822211829942,1.4815214878110552,-1.0518680832056342,3.3403304936706184,0.855257574188554,-2.379298935798445,-1.3571743241318843,1.2959130549712528,-0.3842249530692624,-1.3709778114051427,-0.33334326353641525,-0.006914491877903433,-1.071098226941795,-0.3418843352971464,-2.345268587818302,-1.7522660643923347,0.22714815175871184,-1.9798228484958016,-2.8453273771871364,-0.06652977185048994,3.4932067309047103,-0.9334684389921495,-0.9505694244959833,-0.8868351518790676,-1.8937818928515981,0.8742466250836746,-3.188740132038989,1.5905449536229332,-1.8282937210137948,-1.217749070309897,0.5218210218579178,2.5204726216791595,-0.619076556173971,-2.6818437883835045,0.13039567377722908,2.958009348734662,1.2601926941493191,-3.906390698126459,0.1349869528435625,-0.5030621333006333,1.7316160302764085,0.07975149369362416,2.9740378389212,1.0423987244819,0.3048396516007507,3.06597456515096,-0.27866537015259696,0.06018315369474092,-0.885252521414107],\"yaxis\":\"y\",\"type\":\"scatter\"}],                        {\"template\":{\"data\":{\"histogram2dcontour\":[{\"type\":\"histogram2dcontour\",\"colorbar\":{\"outlinewidth\":0,\"ticks\":\"\"},\"colorscale\":[[0.0,\"#0d0887\"],[0.1111111111111111,\"#46039f\"],[0.2222222222222222,\"#7201a8\"],[0.3333333333333333,\"#9c179e\"],[0.4444444444444444,\"#bd3786\"],[0.5555555555555556,\"#d8576b\"],[0.6666666666666666,\"#ed7953\"],[0.7777777777777778,\"#fb9f3a\"],[0.8888888888888888,\"#fdca26\"],[1.0,\"#f0f921\"]]}],\"choropleth\":[{\"type\":\"choropleth\",\"colorbar\":{\"outlinewidth\":0,\"ticks\":\"\"}}],\"histogram2d\":[{\"type\":\"histogram2d\",\"colorbar\":{\"outlinewidth\":0,\"ticks\":\"\"},\"colorscale\":[[0.0,\"#0d0887\"],[0.1111111111111111,\"#46039f\"],[0.2222222222222222,\"#7201a8\"],[0.3333333333333333,\"#9c179e\"],[0.4444444444444444,\"#bd3786\"],[0.5555555555555556,\"#d8576b\"],[0.6666666666666666,\"#ed7953\"],[0.7777777777777778,\"#fb9f3a\"],[0.8888888888888888,\"#fdca26\"],[1.0,\"#f0f921\"]]}],\"heatmap\":[{\"type\":\"heatmap\",\"colorbar\":{\"outlinewidth\":0,\"ticks\":\"\"},\"colorscale\":[[0.0,\"#0d0887\"],[0.1111111111111111,\"#46039f\"],[0.2222222222222222,\"#7201a8\"],[0.3333333333333333,\"#9c179e\"],[0.4444444444444444,\"#bd3786\"],[0.5555555555555556,\"#d8576b\"],[0.6666666666666666,\"#ed7953\"],[0.7777777777777778,\"#fb9f3a\"],[0.8888888888888888,\"#fdca26\"],[1.0,\"#f0f921\"]]}],\"heatmapgl\":[{\"type\":\"heatmapgl\",\"colorbar\":{\"outlinewidth\":0,\"ticks\":\"\"},\"colorscale\":[[0.0,\"#0d0887\"],[0.1111111111111111,\"#46039f\"],[0.2222222222222222,\"#7201a8\"],[0.3333333333333333,\"#9c179e\"],[0.4444444444444444,\"#bd3786\"],[0.5555555555555556,\"#d8576b\"],[0.6666666666666666,\"#ed7953\"],[0.7777777777777778,\"#fb9f3a\"],[0.8888888888888888,\"#fdca26\"],[1.0,\"#f0f921\"]]}],\"contourcarpet\":[{\"type\":\"contourcarpet\",\"colorbar\":{\"outlinewidth\":0,\"ticks\":\"\"}}],\"contour\":[{\"type\":\"contour\",\"colorbar\":{\"outlinewidth\":0,\"ticks\":\"\"},\"colorscale\":[[0.0,\"#0d0887\"],[0.1111111111111111,\"#46039f\"],[0.2222222222222222,\"#7201a8\"],[0.3333333333333333,\"#9c179e\"],[0.4444444444444444,\"#bd3786\"],[0.5555555555555556,\"#d8576b\"],[0.6666666666666666,\"#ed7953\"],[0.7777777777777778,\"#fb9f3a\"],[0.8888888888888888,\"#fdca26\"],[1.0,\"#f0f921\"]]}],\"surface\":[{\"type\":\"surface\",\"colorbar\":{\"outlinewidth\":0,\"ticks\":\"\"},\"colorscale\":[[0.0,\"#0d0887\"],[0.1111111111111111,\"#46039f\"],[0.2222222222222222,\"#7201a8\"],[0.3333333333333333,\"#9c179e\"],[0.4444444444444444,\"#bd3786\"],[0.5555555555555556,\"#d8576b\"],[0.6666666666666666,\"#ed7953\"],[0.7777777777777778,\"#fb9f3a\"],[0.8888888888888888,\"#fdca26\"],[1.0,\"#f0f921\"]]}],\"mesh3d\":[{\"type\":\"mesh3d\",\"colorbar\":{\"outlinewidth\":0,\"ticks\":\"\"}}],\"scatter\":[{\"fillpattern\":{\"fillmode\":\"overlay\",\"size\":10,\"solidity\":0.2},\"type\":\"scatter\"}],\"parcoords\":[{\"type\":\"parcoords\",\"line\":{\"colorbar\":{\"outlinewidth\":0,\"ticks\":\"\"}}}],\"scatterpolargl\":[{\"type\":\"scatterpolargl\",\"marker\":{\"colorbar\":{\"outlinewidth\":0,\"ticks\":\"\"}}}],\"bar\":[{\"error_x\":{\"color\":\"#2a3f5f\"},\"error_y\":{\"color\":\"#2a3f5f\"},\"marker\":{\"line\":{\"color\":\"#E5ECF6\",\"width\":0.5},\"pattern\":{\"fillmode\":\"overlay\",\"size\":10,\"solidity\":0.2}},\"type\":\"bar\"}],\"scattergeo\":[{\"type\":\"scattergeo\",\"marker\":{\"colorbar\":{\"outlinewidth\":0,\"ticks\":\"\"}}}],\"scatterpolar\":[{\"type\":\"scatterpolar\",\"marker\":{\"colorbar\":{\"outlinewidth\":0,\"ticks\":\"\"}}}],\"histogram\":[{\"marker\":{\"pattern\":{\"fillmode\":\"overlay\",\"size\":10,\"solidity\":0.2}},\"type\":\"histogram\"}],\"scattergl\":[{\"type\":\"scattergl\",\"marker\":{\"colorbar\":{\"outlinewidth\":0,\"ticks\":\"\"}}}],\"scatter3d\":[{\"type\":\"scatter3d\",\"line\":{\"colorbar\":{\"outlinewidth\":0,\"ticks\":\"\"}},\"marker\":{\"colorbar\":{\"outlinewidth\":0,\"ticks\":\"\"}}}],\"scattermapbox\":[{\"type\":\"scattermapbox\",\"marker\":{\"colorbar\":{\"outlinewidth\":0,\"ticks\":\"\"}}}],\"scatterternary\":[{\"type\":\"scatterternary\",\"marker\":{\"colorbar\":{\"outlinewidth\":0,\"ticks\":\"\"}}}],\"scattercarpet\":[{\"type\":\"scattercarpet\",\"marker\":{\"colorbar\":{\"outlinewidth\":0,\"ticks\":\"\"}}}],\"carpet\":[{\"aaxis\":{\"endlinecolor\":\"#2a3f5f\",\"gridcolor\":\"white\",\"linecolor\":\"white\",\"minorgridcolor\":\"white\",\"startlinecolor\":\"#2a3f5f\"},\"baxis\":{\"endlinecolor\":\"#2a3f5f\",\"gridcolor\":\"white\",\"linecolor\":\"white\",\"minorgridcolor\":\"white\",\"startlinecolor\":\"#2a3f5f\"},\"type\":\"carpet\"}],\"table\":[{\"cells\":{\"fill\":{\"color\":\"#EBF0F8\"},\"line\":{\"color\":\"white\"}},\"header\":{\"fill\":{\"color\":\"#C8D4E3\"},\"line\":{\"color\":\"white\"}},\"type\":\"table\"}],\"barpolar\":[{\"marker\":{\"line\":{\"color\":\"#E5ECF6\",\"width\":0.5},\"pattern\":{\"fillmode\":\"overlay\",\"size\":10,\"solidity\":0.2}},\"type\":\"barpolar\"}],\"pie\":[{\"automargin\":true,\"type\":\"pie\"}]},\"layout\":{\"autotypenumbers\":\"strict\",\"colorway\":[\"#636efa\",\"#EF553B\",\"#00cc96\",\"#ab63fa\",\"#FFA15A\",\"#19d3f3\",\"#FF6692\",\"#B6E880\",\"#FF97FF\",\"#FECB52\"],\"font\":{\"color\":\"#2a3f5f\"},\"hovermode\":\"closest\",\"hoverlabel\":{\"align\":\"left\"},\"paper_bgcolor\":\"white\",\"plot_bgcolor\":\"#E5ECF6\",\"polar\":{\"bgcolor\":\"#E5ECF6\",\"angularaxis\":{\"gridcolor\":\"white\",\"linecolor\":\"white\",\"ticks\":\"\"},\"radialaxis\":{\"gridcolor\":\"white\",\"linecolor\":\"white\",\"ticks\":\"\"}},\"ternary\":{\"bgcolor\":\"#E5ECF6\",\"aaxis\":{\"gridcolor\":\"white\",\"linecolor\":\"white\",\"ticks\":\"\"},\"baxis\":{\"gridcolor\":\"white\",\"linecolor\":\"white\",\"ticks\":\"\"},\"caxis\":{\"gridcolor\":\"white\",\"linecolor\":\"white\",\"ticks\":\"\"}},\"coloraxis\":{\"colorbar\":{\"outlinewidth\":0,\"ticks\":\"\"}},\"colorscale\":{\"sequential\":[[0.0,\"#0d0887\"],[0.1111111111111111,\"#46039f\"],[0.2222222222222222,\"#7201a8\"],[0.3333333333333333,\"#9c179e\"],[0.4444444444444444,\"#bd3786\"],[0.5555555555555556,\"#d8576b\"],[0.6666666666666666,\"#ed7953\"],[0.7777777777777778,\"#fb9f3a\"],[0.8888888888888888,\"#fdca26\"],[1.0,\"#f0f921\"]],\"sequentialminus\":[[0.0,\"#0d0887\"],[0.1111111111111111,\"#46039f\"],[0.2222222222222222,\"#7201a8\"],[0.3333333333333333,\"#9c179e\"],[0.4444444444444444,\"#bd3786\"],[0.5555555555555556,\"#d8576b\"],[0.6666666666666666,\"#ed7953\"],[0.7777777777777778,\"#fb9f3a\"],[0.8888888888888888,\"#fdca26\"],[1.0,\"#f0f921\"]],\"diverging\":[[0,\"#8e0152\"],[0.1,\"#c51b7d\"],[0.2,\"#de77ae\"],[0.3,\"#f1b6da\"],[0.4,\"#fde0ef\"],[0.5,\"#f7f7f7\"],[0.6,\"#e6f5d0\"],[0.7,\"#b8e186\"],[0.8,\"#7fbc41\"],[0.9,\"#4d9221\"],[1,\"#276419\"]]},\"xaxis\":{\"gridcolor\":\"white\",\"linecolor\":\"white\",\"ticks\":\"\",\"title\":{\"standoff\":15},\"zerolinecolor\":\"white\",\"automargin\":true,\"zerolinewidth\":2},\"yaxis\":{\"gridcolor\":\"white\",\"linecolor\":\"white\",\"ticks\":\"\",\"title\":{\"standoff\":15},\"zerolinecolor\":\"white\",\"automargin\":true,\"zerolinewidth\":2},\"scene\":{\"xaxis\":{\"backgroundcolor\":\"#E5ECF6\",\"gridcolor\":\"white\",\"linecolor\":\"white\",\"showbackground\":true,\"ticks\":\"\",\"zerolinecolor\":\"white\",\"gridwidth\":2},\"yaxis\":{\"backgroundcolor\":\"#E5ECF6\",\"gridcolor\":\"white\",\"linecolor\":\"white\",\"showbackground\":true,\"ticks\":\"\",\"zerolinecolor\":\"white\",\"gridwidth\":2},\"zaxis\":{\"backgroundcolor\":\"#E5ECF6\",\"gridcolor\":\"white\",\"linecolor\":\"white\",\"showbackground\":true,\"ticks\":\"\",\"zerolinecolor\":\"white\",\"gridwidth\":2}},\"shapedefaults\":{\"line\":{\"color\":\"#2a3f5f\"}},\"annotationdefaults\":{\"arrowcolor\":\"#2a3f5f\",\"arrowhead\":0,\"arrowwidth\":1},\"geo\":{\"bgcolor\":\"white\",\"landcolor\":\"#E5ECF6\",\"subunitcolor\":\"white\",\"showland\":true,\"showlakes\":true,\"lakecolor\":\"white\"},\"title\":{\"x\":0.05},\"mapbox\":{\"style\":\"light\"}}},\"xaxis\":{\"anchor\":\"y\",\"domain\":[0.0,1.0],\"title\":{\"text\":\"0\"}},\"yaxis\":{\"anchor\":\"x\",\"domain\":[0.0,1.0],\"title\":{\"text\":\"1\"}},\"legend\":{\"title\":{\"text\":\"color\"},\"tracegroupgap\":0},\"margin\":{\"t\":60}},                        {\"responsive\": true}                    ).then(function(){\n",
       "                            \n",
       "var gd = document.getElementById('b4ffcdb5-95ac-4ef4-8a09-07e5a47b666e');\n",
       "var x = new MutationObserver(function (mutations, observer) {{\n",
       "        var display = window.getComputedStyle(gd).display;\n",
       "        if (!display || display === 'none') {{\n",
       "            console.log([gd, 'removed!']);\n",
       "            Plotly.purge(gd);\n",
       "            observer.disconnect();\n",
       "        }}\n",
       "}});\n",
       "\n",
       "// Listen for the removal of the full notebook cells\n",
       "var notebookContainer = gd.closest('#notebook-container');\n",
       "if (notebookContainer) {{\n",
       "    x.observe(notebookContainer, {childList: true});\n",
       "}}\n",
       "\n",
       "// Listen for the clearing of the current output cell\n",
       "var outputEl = gd.closest('.output');\n",
       "if (outputEl) {{\n",
       "    x.observe(outputEl, {childList: true});\n",
       "}}\n",
       "\n",
       "                        })                };                });            </script>        </div>"
      ]
     },
     "metadata": {},
     "output_type": "display_data"
    }
   ],
   "source": [
    "fig = px.scatter(pcafit2, \n",
    "                 x=0, \n",
    "                 y=1, \n",
    "                 color=df_tidy['source'],\n",
    "                 color_discrete_sequence=px.colors.qualitative.Bold)\n",
    "fig.show()"
   ]
  },
  {
   "cell_type": "code",
   "execution_count": 41,
   "id": "ddd51ad0",
   "metadata": {},
   "outputs": [
    {
     "name": "stdout",
     "output_type": "stream",
     "text": [
      "[0.33908322 0.16506299]\n"
     ]
    }
   ],
   "source": [
    "print(pca.explained_variance_ratio_)"
   ]
  },
  {
   "cell_type": "code",
   "execution_count": 42,
   "id": "58ef780f",
   "metadata": {},
   "outputs": [
    {
     "name": "stdout",
     "output_type": "stream",
     "text": [
      "[71.31793855 49.75886645]\n"
     ]
    }
   ],
   "source": [
    "print(pca.singular_values_)"
   ]
  },
  {
   "cell_type": "code",
   "execution_count": 53,
   "id": "9f489951",
   "metadata": {},
   "outputs": [
    {
     "data": {
      "text/html": [
       "<style type=\"text/css\">\n",
       "#T_f05d2_row0_col0, #T_f05d2_row0_col1, #T_f05d2_row0_col2, #T_f05d2_row0_col3, #T_f05d2_row0_col4, #T_f05d2_row0_col5, #T_f05d2_row0_col6, #T_f05d2_row0_col7, #T_f05d2_row0_col8, #T_f05d2_row0_col9, #T_f05d2_row0_col10, #T_f05d2_row0_col11, #T_f05d2_row0_col12, #T_f05d2_row0_col13, #T_f05d2_row0_col14, #T_f05d2_row0_col15, #T_f05d2_row0_col16, #T_f05d2_row0_col17, #T_f05d2_row0_col18, #T_f05d2_row0_col19, #T_f05d2_row0_col20, #T_f05d2_row0_col21, #T_f05d2_row0_col22, #T_f05d2_row0_col23, #T_f05d2_row0_col24, #T_f05d2_row0_col25, #T_f05d2_row0_col26, #T_f05d2_row0_col27, #T_f05d2_row0_col28, #T_f05d2_row0_col29, #T_f05d2_row0_col30, #T_f05d2_row0_col31, #T_f05d2_row0_col32, #T_f05d2_row0_col35, #T_f05d2_row0_col37, #T_f05d2_row0_col38, #T_f05d2_row0_col39, #T_f05d2_row0_col40, #T_f05d2_row0_col41, #T_f05d2_row0_col42, #T_f05d2_row0_col43, #T_f05d2_row0_col47, #T_f05d2_row0_col48, #T_f05d2_row1_col0, #T_f05d2_row1_col2, #T_f05d2_row1_col4, #T_f05d2_row1_col6, #T_f05d2_row1_col8, #T_f05d2_row1_col9, #T_f05d2_row1_col10, #T_f05d2_row1_col11, #T_f05d2_row1_col13, #T_f05d2_row1_col14, #T_f05d2_row1_col16, #T_f05d2_row1_col17, #T_f05d2_row1_col18, #T_f05d2_row1_col19, #T_f05d2_row1_col20, #T_f05d2_row1_col21, #T_f05d2_row1_col22, #T_f05d2_row1_col23, #T_f05d2_row1_col24, #T_f05d2_row1_col25, #T_f05d2_row1_col26, #T_f05d2_row1_col27, #T_f05d2_row1_col28, #T_f05d2_row1_col29, #T_f05d2_row1_col31, #T_f05d2_row1_col32, #T_f05d2_row1_col33, #T_f05d2_row1_col34, #T_f05d2_row1_col35, #T_f05d2_row1_col36, #T_f05d2_row1_col38, #T_f05d2_row1_col39, #T_f05d2_row1_col40, #T_f05d2_row1_col41, #T_f05d2_row1_col46 {\n",
       "  font-weight: ;\n",
       "}\n",
       "#T_f05d2_row0_col33, #T_f05d2_row0_col34, #T_f05d2_row0_col36, #T_f05d2_row0_col44, #T_f05d2_row0_col45, #T_f05d2_row0_col46, #T_f05d2_row0_col49, #T_f05d2_row1_col1, #T_f05d2_row1_col3, #T_f05d2_row1_col5, #T_f05d2_row1_col7, #T_f05d2_row1_col12, #T_f05d2_row1_col15, #T_f05d2_row1_col30, #T_f05d2_row1_col37, #T_f05d2_row1_col42, #T_f05d2_row1_col43, #T_f05d2_row1_col44, #T_f05d2_row1_col45, #T_f05d2_row1_col47, #T_f05d2_row1_col48, #T_f05d2_row1_col49 {\n",
       "  font-weight: bold;\n",
       "}\n",
       "</style>\n",
       "<table id=\"T_f05d2\">\n",
       "  <thead>\n",
       "    <tr>\n",
       "      <th class=\"blank level0\" >&nbsp;</th>\n",
       "      <th id=\"T_f05d2_level0_col0\" class=\"col_heading level0 col0\" >ADJ</th>\n",
       "      <th id=\"T_f05d2_level0_col1\" class=\"col_heading level0 col1\" >ADP</th>\n",
       "      <th id=\"T_f05d2_level0_col2\" class=\"col_heading level0 col2\" >ADV</th>\n",
       "      <th id=\"T_f05d2_level0_col3\" class=\"col_heading level0 col3\" >AUX</th>\n",
       "      <th id=\"T_f05d2_level0_col4\" class=\"col_heading level0 col4\" >CCONJ</th>\n",
       "      <th id=\"T_f05d2_level0_col5\" class=\"col_heading level0 col5\" >DET</th>\n",
       "      <th id=\"T_f05d2_level0_col6\" class=\"col_heading level0 col6\" >INTJ</th>\n",
       "      <th id=\"T_f05d2_level0_col7\" class=\"col_heading level0 col7\" >NOUN</th>\n",
       "      <th id=\"T_f05d2_level0_col8\" class=\"col_heading level0 col8\" >NUM</th>\n",
       "      <th id=\"T_f05d2_level0_col9\" class=\"col_heading level0 col9\" >PART</th>\n",
       "      <th id=\"T_f05d2_level0_col10\" class=\"col_heading level0 col10\" >PRON</th>\n",
       "      <th id=\"T_f05d2_level0_col11\" class=\"col_heading level0 col11\" >PROPN</th>\n",
       "      <th id=\"T_f05d2_level0_col12\" class=\"col_heading level0 col12\" >PUNCT</th>\n",
       "      <th id=\"T_f05d2_level0_col13\" class=\"col_heading level0 col13\" >SCONJ</th>\n",
       "      <th id=\"T_f05d2_level0_col14\" class=\"col_heading level0 col14\" >SYM</th>\n",
       "      <th id=\"T_f05d2_level0_col15\" class=\"col_heading level0 col15\" >VERB</th>\n",
       "      <th id=\"T_f05d2_level0_col16\" class=\"col_heading level0 col16\" >anger</th>\n",
       "      <th id=\"T_f05d2_level0_col17\" class=\"col_heading level0 col17\" >anticipation</th>\n",
       "      <th id=\"T_f05d2_level0_col18\" class=\"col_heading level0 col18\" >disgust</th>\n",
       "      <th id=\"T_f05d2_level0_col19\" class=\"col_heading level0 col19\" >fear</th>\n",
       "      <th id=\"T_f05d2_level0_col20\" class=\"col_heading level0 col20\" >joy</th>\n",
       "      <th id=\"T_f05d2_level0_col21\" class=\"col_heading level0 col21\" >negative</th>\n",
       "      <th id=\"T_f05d2_level0_col22\" class=\"col_heading level0 col22\" >positive</th>\n",
       "      <th id=\"T_f05d2_level0_col23\" class=\"col_heading level0 col23\" >sadness</th>\n",
       "      <th id=\"T_f05d2_level0_col24\" class=\"col_heading level0 col24\" >surprise</th>\n",
       "      <th id=\"T_f05d2_level0_col25\" class=\"col_heading level0 col25\" >trust</th>\n",
       "      <th id=\"T_f05d2_level0_col26\" class=\"col_heading level0 col26\" >num_unique_words</th>\n",
       "      <th id=\"T_f05d2_level0_col27\" class=\"col_heading level0 col27\" >depth</th>\n",
       "      <th id=\"T_f05d2_level0_col28\" class=\"col_heading level0 col28\" >TBsubjectivity</th>\n",
       "      <th id=\"T_f05d2_level0_col29\" class=\"col_heading level0 col29\" >TBpolarity</th>\n",
       "      <th id=\"T_f05d2_level0_col30\" class=\"col_heading level0 col30\" >words_per_sentence</th>\n",
       "      <th id=\"T_f05d2_level0_col31\" class=\"col_heading level0 col31\" >char_count</th>\n",
       "      <th id=\"T_f05d2_level0_col32\" class=\"col_heading level0 col32\" >syl_count</th>\n",
       "      <th id=\"T_f05d2_level0_col33\" class=\"col_heading level0 col33\" >word_count</th>\n",
       "      <th id=\"T_f05d2_level0_col34\" class=\"col_heading level0 col34\" >char_per_word</th>\n",
       "      <th id=\"T_f05d2_level0_col35\" class=\"col_heading level0 col35\" >syl_per_word</th>\n",
       "      <th id=\"T_f05d2_level0_col36\" class=\"col_heading level0 col36\" >sent_count</th>\n",
       "      <th id=\"T_f05d2_level0_col37\" class=\"col_heading level0 col37\" >word_per_sent</th>\n",
       "      <th id=\"T_f05d2_level0_col38\" class=\"col_heading level0 col38\" >dc_word_count</th>\n",
       "      <th id=\"T_f05d2_level0_col39\" class=\"col_heading level0 col39\" >gf_word_count</th>\n",
       "      <th id=\"T_f05d2_level0_col40\" class=\"col_heading level0 col40\" >poly_word_count</th>\n",
       "      <th id=\"T_f05d2_level0_col41\" class=\"col_heading level0 col41\" >dc_word_perc</th>\n",
       "      <th id=\"T_f05d2_level0_col42\" class=\"col_heading level0 col42\" >gf_word_perc</th>\n",
       "      <th id=\"T_f05d2_level0_col43\" class=\"col_heading level0 col43\" >poly_word_perc</th>\n",
       "      <th id=\"T_f05d2_level0_col44\" class=\"col_heading level0 col44\" >ari</th>\n",
       "      <th id=\"T_f05d2_level0_col45\" class=\"col_heading level0 col45\" >flesch_kincaid</th>\n",
       "      <th id=\"T_f05d2_level0_col46\" class=\"col_heading level0 col46\" >coleman_liau</th>\n",
       "      <th id=\"T_f05d2_level0_col47\" class=\"col_heading level0 col47\" >dale_chall</th>\n",
       "      <th id=\"T_f05d2_level0_col48\" class=\"col_heading level0 col48\" >gunning_fog</th>\n",
       "      <th id=\"T_f05d2_level0_col49\" class=\"col_heading level0 col49\" >smog</th>\n",
       "    </tr>\n",
       "  </thead>\n",
       "  <tbody>\n",
       "    <tr>\n",
       "      <th id=\"T_f05d2_level0_row0\" class=\"row_heading level0 row0\" >PC1</th>\n",
       "      <td id=\"T_f05d2_row0_col0\" class=\"data row0 col0\" >-0.167454</td>\n",
       "      <td id=\"T_f05d2_row0_col1\" class=\"data row0 col1\" >-0.169442</td>\n",
       "      <td id=\"T_f05d2_row0_col2\" class=\"data row0 col2\" >-0.025360</td>\n",
       "      <td id=\"T_f05d2_row0_col3\" class=\"data row0 col3\" >-0.146019</td>\n",
       "      <td id=\"T_f05d2_row0_col4\" class=\"data row0 col4\" >-0.115724</td>\n",
       "      <td id=\"T_f05d2_row0_col5\" class=\"data row0 col5\" >-0.171191</td>\n",
       "      <td id=\"T_f05d2_row0_col6\" class=\"data row0 col6\" >0.161070</td>\n",
       "      <td id=\"T_f05d2_row0_col7\" class=\"data row0 col7\" >-0.175604</td>\n",
       "      <td id=\"T_f05d2_row0_col8\" class=\"data row0 col8\" >-0.007077</td>\n",
       "      <td id=\"T_f05d2_row0_col9\" class=\"data row0 col9\" >-0.152370</td>\n",
       "      <td id=\"T_f05d2_row0_col10\" class=\"data row0 col10\" >-0.057085</td>\n",
       "      <td id=\"T_f05d2_row0_col11\" class=\"data row0 col11\" >-0.136704</td>\n",
       "      <td id=\"T_f05d2_row0_col12\" class=\"data row0 col12\" >-0.171323</td>\n",
       "      <td id=\"T_f05d2_row0_col13\" class=\"data row0 col13\" >-0.018019</td>\n",
       "      <td id=\"T_f05d2_row0_col14\" class=\"data row0 col14\" >0.076269</td>\n",
       "      <td id=\"T_f05d2_row0_col15\" class=\"data row0 col15\" >-0.171430</td>\n",
       "      <td id=\"T_f05d2_row0_col16\" class=\"data row0 col16\" >-0.043376</td>\n",
       "      <td id=\"T_f05d2_row0_col17\" class=\"data row0 col17\" >0.058347</td>\n",
       "      <td id=\"T_f05d2_row0_col18\" class=\"data row0 col18\" >-0.000095</td>\n",
       "      <td id=\"T_f05d2_row0_col19\" class=\"data row0 col19\" >-0.060229</td>\n",
       "      <td id=\"T_f05d2_row0_col20\" class=\"data row0 col20\" >0.118699</td>\n",
       "      <td id=\"T_f05d2_row0_col21\" class=\"data row0 col21\" >-0.051894</td>\n",
       "      <td id=\"T_f05d2_row0_col22\" class=\"data row0 col22\" >0.008079</td>\n",
       "      <td id=\"T_f05d2_row0_col23\" class=\"data row0 col23\" >0.003931</td>\n",
       "      <td id=\"T_f05d2_row0_col24\" class=\"data row0 col24\" >0.030234</td>\n",
       "      <td id=\"T_f05d2_row0_col25\" class=\"data row0 col25\" >-0.004633</td>\n",
       "      <td id=\"T_f05d2_row0_col26\" class=\"data row0 col26\" >0.173243</td>\n",
       "      <td id=\"T_f05d2_row0_col27\" class=\"data row0 col27\" >-0.175198</td>\n",
       "      <td id=\"T_f05d2_row0_col28\" class=\"data row0 col28\" >0.104792</td>\n",
       "      <td id=\"T_f05d2_row0_col29\" class=\"data row0 col29\" >0.115483</td>\n",
       "      <td id=\"T_f05d2_row0_col30\" class=\"data row0 col30\" >-0.157923</td>\n",
       "      <td id=\"T_f05d2_row0_col31\" class=\"data row0 col31\" >0.174021</td>\n",
       "      <td id=\"T_f05d2_row0_col32\" class=\"data row0 col32\" >0.172315</td>\n",
       "      <td id=\"T_f05d2_row0_col33\" class=\"data row0 col33\" >0.181860</td>\n",
       "      <td id=\"T_f05d2_row0_col34\" class=\"data row0 col34\" >-0.182341</td>\n",
       "      <td id=\"T_f05d2_row0_col35\" class=\"data row0 col35\" >-0.179789</td>\n",
       "      <td id=\"T_f05d2_row0_col36\" class=\"data row0 col36\" >0.195367</td>\n",
       "      <td id=\"T_f05d2_row0_col37\" class=\"data row0 col37\" >-0.151936</td>\n",
       "      <td id=\"T_f05d2_row0_col38\" class=\"data row0 col38\" >0.162632</td>\n",
       "      <td id=\"T_f05d2_row0_col39\" class=\"data row0 col39\" >0.142131</td>\n",
       "      <td id=\"T_f05d2_row0_col40\" class=\"data row0 col40\" >0.141894</td>\n",
       "      <td id=\"T_f05d2_row0_col41\" class=\"data row0 col41\" >-0.171388</td>\n",
       "      <td id=\"T_f05d2_row0_col42\" class=\"data row0 col42\" >-0.166694</td>\n",
       "      <td id=\"T_f05d2_row0_col43\" class=\"data row0 col43\" >-0.171637</td>\n",
       "      <td id=\"T_f05d2_row0_col44\" class=\"data row0 col44\" >-0.184010</td>\n",
       "      <td id=\"T_f05d2_row0_col45\" class=\"data row0 col45\" >-0.184644</td>\n",
       "      <td id=\"T_f05d2_row0_col46\" class=\"data row0 col46\" >-0.189192</td>\n",
       "      <td id=\"T_f05d2_row0_col47\" class=\"data row0 col47\" >-0.179811</td>\n",
       "      <td id=\"T_f05d2_row0_col48\" class=\"data row0 col48\" >-0.178789</td>\n",
       "      <td id=\"T_f05d2_row0_col49\" class=\"data row0 col49\" >-0.183604</td>\n",
       "    </tr>\n",
       "    <tr>\n",
       "      <th id=\"T_f05d2_level0_row1\" class=\"row_heading level0 row1\" >PC2</th>\n",
       "      <td id=\"T_f05d2_row1_col0\" class=\"data row1 col0\" >0.172198</td>\n",
       "      <td id=\"T_f05d2_row1_col1\" class=\"data row1 col1\" >0.187543</td>\n",
       "      <td id=\"T_f05d2_row1_col2\" class=\"data row1 col2\" >0.033855</td>\n",
       "      <td id=\"T_f05d2_row1_col3\" class=\"data row1 col3\" >0.185056</td>\n",
       "      <td id=\"T_f05d2_row1_col4\" class=\"data row1 col4\" >0.114378</td>\n",
       "      <td id=\"T_f05d2_row1_col5\" class=\"data row1 col5\" >0.187895</td>\n",
       "      <td id=\"T_f05d2_row1_col6\" class=\"data row1 col6\" >-0.056674</td>\n",
       "      <td id=\"T_f05d2_row1_col7\" class=\"data row1 col7\" >0.183391</td>\n",
       "      <td id=\"T_f05d2_row1_col8\" class=\"data row1 col8\" >-0.114525</td>\n",
       "      <td id=\"T_f05d2_row1_col9\" class=\"data row1 col9\" >0.162208</td>\n",
       "      <td id=\"T_f05d2_row1_col10\" class=\"data row1 col10\" >0.047754</td>\n",
       "      <td id=\"T_f05d2_row1_col11\" class=\"data row1 col11\" >0.127821</td>\n",
       "      <td id=\"T_f05d2_row1_col12\" class=\"data row1 col12\" >0.188561</td>\n",
       "      <td id=\"T_f05d2_row1_col13\" class=\"data row1 col13\" >0.025831</td>\n",
       "      <td id=\"T_f05d2_row1_col14\" class=\"data row1 col14\" >-0.158616</td>\n",
       "      <td id=\"T_f05d2_row1_col15\" class=\"data row1 col15\" >0.193874</td>\n",
       "      <td id=\"T_f05d2_row1_col16\" class=\"data row1 col16\" >-0.002320</td>\n",
       "      <td id=\"T_f05d2_row1_col17\" class=\"data row1 col17\" >0.000157</td>\n",
       "      <td id=\"T_f05d2_row1_col18\" class=\"data row1 col18\" >0.009148</td>\n",
       "      <td id=\"T_f05d2_row1_col19\" class=\"data row1 col19\" >0.010402</td>\n",
       "      <td id=\"T_f05d2_row1_col20\" class=\"data row1 col20\" >0.050616</td>\n",
       "      <td id=\"T_f05d2_row1_col21\" class=\"data row1 col21\" >-0.025371</td>\n",
       "      <td id=\"T_f05d2_row1_col22\" class=\"data row1 col22\" >-0.011454</td>\n",
       "      <td id=\"T_f05d2_row1_col23\" class=\"data row1 col23\" >0.010641</td>\n",
       "      <td id=\"T_f05d2_row1_col24\" class=\"data row1 col24\" >0.019828</td>\n",
       "      <td id=\"T_f05d2_row1_col25\" class=\"data row1 col25\" >-0.024384</td>\n",
       "      <td id=\"T_f05d2_row1_col26\" class=\"data row1 col26\" >-0.134787</td>\n",
       "      <td id=\"T_f05d2_row1_col27\" class=\"data row1 col27\" >-0.158762</td>\n",
       "      <td id=\"T_f05d2_row1_col28\" class=\"data row1 col28\" >0.088322</td>\n",
       "      <td id=\"T_f05d2_row1_col29\" class=\"data row1 col29\" >0.031032</td>\n",
       "      <td id=\"T_f05d2_row1_col30\" class=\"data row1 col30\" >-0.190637</td>\n",
       "      <td id=\"T_f05d2_row1_col31\" class=\"data row1 col31\" >-0.130198</td>\n",
       "      <td id=\"T_f05d2_row1_col32\" class=\"data row1 col32\" >-0.133203</td>\n",
       "      <td id=\"T_f05d2_row1_col33\" class=\"data row1 col33\" >-0.118264</td>\n",
       "      <td id=\"T_f05d2_row1_col34\" class=\"data row1 col34\" >-0.160269</td>\n",
       "      <td id=\"T_f05d2_row1_col35\" class=\"data row1 col35\" >-0.171813</td>\n",
       "      <td id=\"T_f05d2_row1_col36\" class=\"data row1 col36\" >-0.081596</td>\n",
       "      <td id=\"T_f05d2_row1_col37\" class=\"data row1 col37\" >-0.195582</td>\n",
       "      <td id=\"T_f05d2_row1_col38\" class=\"data row1 col38\" >-0.147714</td>\n",
       "      <td id=\"T_f05d2_row1_col39\" class=\"data row1 col39\" >-0.171997</td>\n",
       "      <td id=\"T_f05d2_row1_col40\" class=\"data row1 col40\" >-0.170964</td>\n",
       "      <td id=\"T_f05d2_row1_col41\" class=\"data row1 col41\" >-0.130252</td>\n",
       "      <td id=\"T_f05d2_row1_col42\" class=\"data row1 col42\" >-0.183632</td>\n",
       "      <td id=\"T_f05d2_row1_col43\" class=\"data row1 col43\" >-0.182047</td>\n",
       "      <td id=\"T_f05d2_row1_col44\" class=\"data row1 col44\" >-0.207665</td>\n",
       "      <td id=\"T_f05d2_row1_col45\" class=\"data row1 col45\" >-0.210552</td>\n",
       "      <td id=\"T_f05d2_row1_col46\" class=\"data row1 col46\" >-0.174319</td>\n",
       "      <td id=\"T_f05d2_row1_col47\" class=\"data row1 col47\" >-0.202604</td>\n",
       "      <td id=\"T_f05d2_row1_col48\" class=\"data row1 col48\" >-0.215686</td>\n",
       "      <td id=\"T_f05d2_row1_col49\" class=\"data row1 col49\" >-0.213905</td>\n",
       "    </tr>\n",
       "  </tbody>\n",
       "</table>\n"
      ],
      "text/plain": [
       "<pandas.io.formats.style.Styler at 0x7f0719cf5090>"
      ]
     },
     "execution_count": 53,
     "metadata": {},
     "output_type": "execute_result"
    }
   ],
   "source": [
    "loadings=pd.DataFrame(pca.components_.T, columns=['PC1', 'PC2'], index=pca_data.columns)\n",
    "def large_bold(val):\n",
    "    bold = 'bold' if abs(val) > 0.18 else ''\n",
    "    return 'font-weight: %s' % bold\n",
    "loadings.T.style.applymap(large_bold) # .T makes it wide instead of tall"
   ]
  },
  {
   "cell_type": "code",
   "execution_count": 60,
   "id": "3103c96b",
   "metadata": {},
   "outputs": [
    {
     "data": {
      "application/vnd.plotly.v1+json": {
       "config": {
        "plotlyServerURL": "https://plot.ly"
       },
       "data": [
        {
         "alignmentgroup": "True",
         "hovertemplate": "index=%{x}<br>PC1=%{marker.color}<extra></extra>",
         "legendgroup": "",
         "marker": {
          "color": [
           -0.16745392152821373,
           -0.16944214376398992,
           -0.025360292613201774,
           -0.1460185507330068,
           -0.115724224270179,
           -0.17119097150439827,
           0.1610698140473504,
           -0.17560430318911582,
           -0.0070772887995754,
           -0.1523695167438893,
           -0.0570852646338992,
           -0.13670445973215992,
           -0.1713229233646325,
           -0.018018927289185492,
           0.07626944495855663,
           -0.17143008028299617,
           -0.0433758256531776,
           0.058347240279319215,
           -9.508785108037838e-05,
           -0.06022856567522041,
           0.11869890635177104,
           -0.05189377156413365,
           0.008078599056457296,
           0.003930825282051969,
           0.030234033968180377,
           -0.0046330996503011245,
           0.17324333162533562,
           -0.17519813203071347,
           0.10479151131767998,
           0.11548285970436799,
           -0.1579229166527755,
           0.17402059824150062,
           0.17231490048357065,
           0.18186037113904072,
           -0.18234121423442864,
           -0.17978939493842208,
           0.1953673499256751,
           -0.15193597204445736,
           0.16263233349010786,
           0.14213088672395868,
           0.1418941350739248,
           -0.17138777762307833,
           -0.16669442969586648,
           -0.171637459249034,
           -0.18400973420221006,
           -0.1846437775622433,
           -0.18919229070966717,
           -0.17981100746138584,
           -0.1787892702245872,
           -0.18360355113406274
          ],
          "coloraxis": "coloraxis",
          "pattern": {
           "shape": ""
          }
         },
         "name": "",
         "offsetgroup": "",
         "orientation": "v",
         "showlegend": false,
         "textposition": "auto",
         "type": "bar",
         "x": [
          "ADJ",
          "ADP",
          "ADV",
          "AUX",
          "CCONJ",
          "DET",
          "INTJ",
          "NOUN",
          "NUM",
          "PART",
          "PRON",
          "PROPN",
          "PUNCT",
          "SCONJ",
          "SYM",
          "VERB",
          "anger",
          "anticipation",
          "disgust",
          "fear",
          "joy",
          "negative",
          "positive",
          "sadness",
          "surprise",
          "trust",
          "num_unique_words",
          "depth",
          "TBsubjectivity",
          "TBpolarity",
          "words_per_sentence",
          "char_count",
          "syl_count",
          "word_count",
          "char_per_word",
          "syl_per_word",
          "sent_count",
          "word_per_sent",
          "dc_word_count",
          "gf_word_count",
          "poly_word_count",
          "dc_word_perc",
          "gf_word_perc",
          "poly_word_perc",
          "ari",
          "flesch_kincaid",
          "coleman_liau",
          "dale_chall",
          "gunning_fog",
          "smog"
         ],
         "xaxis": "x",
         "y": [
          -0.16745392152821373,
          -0.16944214376398992,
          -0.025360292613201774,
          -0.1460185507330068,
          -0.115724224270179,
          -0.17119097150439827,
          0.1610698140473504,
          -0.17560430318911582,
          -0.0070772887995754,
          -0.1523695167438893,
          -0.0570852646338992,
          -0.13670445973215992,
          -0.1713229233646325,
          -0.018018927289185492,
          0.07626944495855663,
          -0.17143008028299617,
          -0.0433758256531776,
          0.058347240279319215,
          -9.508785108037838e-05,
          -0.06022856567522041,
          0.11869890635177104,
          -0.05189377156413365,
          0.008078599056457296,
          0.003930825282051969,
          0.030234033968180377,
          -0.0046330996503011245,
          0.17324333162533562,
          -0.17519813203071347,
          0.10479151131767998,
          0.11548285970436799,
          -0.1579229166527755,
          0.17402059824150062,
          0.17231490048357065,
          0.18186037113904072,
          -0.18234121423442864,
          -0.17978939493842208,
          0.1953673499256751,
          -0.15193597204445736,
          0.16263233349010786,
          0.14213088672395868,
          0.1418941350739248,
          -0.17138777762307833,
          -0.16669442969586648,
          -0.171637459249034,
          -0.18400973420221006,
          -0.1846437775622433,
          -0.18919229070966717,
          -0.17981100746138584,
          -0.1787892702245872,
          -0.18360355113406274
         ],
         "yaxis": "y"
        }
       ],
       "layout": {
        "barmode": "relative",
        "coloraxis": {
         "colorbar": {
          "title": {
           "text": "PC1"
          }
         },
         "colorscale": [
          [
           0,
           "#0d0887"
          ],
          [
           0.1111111111111111,
           "#46039f"
          ],
          [
           0.2222222222222222,
           "#7201a8"
          ],
          [
           0.3333333333333333,
           "#9c179e"
          ],
          [
           0.4444444444444444,
           "#bd3786"
          ],
          [
           0.5555555555555556,
           "#d8576b"
          ],
          [
           0.6666666666666666,
           "#ed7953"
          ],
          [
           0.7777777777777778,
           "#fb9f3a"
          ],
          [
           0.8888888888888888,
           "#fdca26"
          ],
          [
           1,
           "#f0f921"
          ]
         ]
        },
        "legend": {
         "tracegroupgap": 0
        },
        "template": {
         "data": {
          "bar": [
           {
            "error_x": {
             "color": "#2a3f5f"
            },
            "error_y": {
             "color": "#2a3f5f"
            },
            "marker": {
             "line": {
              "color": "#E5ECF6",
              "width": 0.5
             },
             "pattern": {
              "fillmode": "overlay",
              "size": 10,
              "solidity": 0.2
             }
            },
            "type": "bar"
           }
          ],
          "barpolar": [
           {
            "marker": {
             "line": {
              "color": "#E5ECF6",
              "width": 0.5
             },
             "pattern": {
              "fillmode": "overlay",
              "size": 10,
              "solidity": 0.2
             }
            },
            "type": "barpolar"
           }
          ],
          "carpet": [
           {
            "aaxis": {
             "endlinecolor": "#2a3f5f",
             "gridcolor": "white",
             "linecolor": "white",
             "minorgridcolor": "white",
             "startlinecolor": "#2a3f5f"
            },
            "baxis": {
             "endlinecolor": "#2a3f5f",
             "gridcolor": "white",
             "linecolor": "white",
             "minorgridcolor": "white",
             "startlinecolor": "#2a3f5f"
            },
            "type": "carpet"
           }
          ],
          "choropleth": [
           {
            "colorbar": {
             "outlinewidth": 0,
             "ticks": ""
            },
            "type": "choropleth"
           }
          ],
          "contour": [
           {
            "colorbar": {
             "outlinewidth": 0,
             "ticks": ""
            },
            "colorscale": [
             [
              0,
              "#0d0887"
             ],
             [
              0.1111111111111111,
              "#46039f"
             ],
             [
              0.2222222222222222,
              "#7201a8"
             ],
             [
              0.3333333333333333,
              "#9c179e"
             ],
             [
              0.4444444444444444,
              "#bd3786"
             ],
             [
              0.5555555555555556,
              "#d8576b"
             ],
             [
              0.6666666666666666,
              "#ed7953"
             ],
             [
              0.7777777777777778,
              "#fb9f3a"
             ],
             [
              0.8888888888888888,
              "#fdca26"
             ],
             [
              1,
              "#f0f921"
             ]
            ],
            "type": "contour"
           }
          ],
          "contourcarpet": [
           {
            "colorbar": {
             "outlinewidth": 0,
             "ticks": ""
            },
            "type": "contourcarpet"
           }
          ],
          "heatmap": [
           {
            "colorbar": {
             "outlinewidth": 0,
             "ticks": ""
            },
            "colorscale": [
             [
              0,
              "#0d0887"
             ],
             [
              0.1111111111111111,
              "#46039f"
             ],
             [
              0.2222222222222222,
              "#7201a8"
             ],
             [
              0.3333333333333333,
              "#9c179e"
             ],
             [
              0.4444444444444444,
              "#bd3786"
             ],
             [
              0.5555555555555556,
              "#d8576b"
             ],
             [
              0.6666666666666666,
              "#ed7953"
             ],
             [
              0.7777777777777778,
              "#fb9f3a"
             ],
             [
              0.8888888888888888,
              "#fdca26"
             ],
             [
              1,
              "#f0f921"
             ]
            ],
            "type": "heatmap"
           }
          ],
          "heatmapgl": [
           {
            "colorbar": {
             "outlinewidth": 0,
             "ticks": ""
            },
            "colorscale": [
             [
              0,
              "#0d0887"
             ],
             [
              0.1111111111111111,
              "#46039f"
             ],
             [
              0.2222222222222222,
              "#7201a8"
             ],
             [
              0.3333333333333333,
              "#9c179e"
             ],
             [
              0.4444444444444444,
              "#bd3786"
             ],
             [
              0.5555555555555556,
              "#d8576b"
             ],
             [
              0.6666666666666666,
              "#ed7953"
             ],
             [
              0.7777777777777778,
              "#fb9f3a"
             ],
             [
              0.8888888888888888,
              "#fdca26"
             ],
             [
              1,
              "#f0f921"
             ]
            ],
            "type": "heatmapgl"
           }
          ],
          "histogram": [
           {
            "marker": {
             "pattern": {
              "fillmode": "overlay",
              "size": 10,
              "solidity": 0.2
             }
            },
            "type": "histogram"
           }
          ],
          "histogram2d": [
           {
            "colorbar": {
             "outlinewidth": 0,
             "ticks": ""
            },
            "colorscale": [
             [
              0,
              "#0d0887"
             ],
             [
              0.1111111111111111,
              "#46039f"
             ],
             [
              0.2222222222222222,
              "#7201a8"
             ],
             [
              0.3333333333333333,
              "#9c179e"
             ],
             [
              0.4444444444444444,
              "#bd3786"
             ],
             [
              0.5555555555555556,
              "#d8576b"
             ],
             [
              0.6666666666666666,
              "#ed7953"
             ],
             [
              0.7777777777777778,
              "#fb9f3a"
             ],
             [
              0.8888888888888888,
              "#fdca26"
             ],
             [
              1,
              "#f0f921"
             ]
            ],
            "type": "histogram2d"
           }
          ],
          "histogram2dcontour": [
           {
            "colorbar": {
             "outlinewidth": 0,
             "ticks": ""
            },
            "colorscale": [
             [
              0,
              "#0d0887"
             ],
             [
              0.1111111111111111,
              "#46039f"
             ],
             [
              0.2222222222222222,
              "#7201a8"
             ],
             [
              0.3333333333333333,
              "#9c179e"
             ],
             [
              0.4444444444444444,
              "#bd3786"
             ],
             [
              0.5555555555555556,
              "#d8576b"
             ],
             [
              0.6666666666666666,
              "#ed7953"
             ],
             [
              0.7777777777777778,
              "#fb9f3a"
             ],
             [
              0.8888888888888888,
              "#fdca26"
             ],
             [
              1,
              "#f0f921"
             ]
            ],
            "type": "histogram2dcontour"
           }
          ],
          "mesh3d": [
           {
            "colorbar": {
             "outlinewidth": 0,
             "ticks": ""
            },
            "type": "mesh3d"
           }
          ],
          "parcoords": [
           {
            "line": {
             "colorbar": {
              "outlinewidth": 0,
              "ticks": ""
             }
            },
            "type": "parcoords"
           }
          ],
          "pie": [
           {
            "automargin": true,
            "type": "pie"
           }
          ],
          "scatter": [
           {
            "fillpattern": {
             "fillmode": "overlay",
             "size": 10,
             "solidity": 0.2
            },
            "type": "scatter"
           }
          ],
          "scatter3d": [
           {
            "line": {
             "colorbar": {
              "outlinewidth": 0,
              "ticks": ""
             }
            },
            "marker": {
             "colorbar": {
              "outlinewidth": 0,
              "ticks": ""
             }
            },
            "type": "scatter3d"
           }
          ],
          "scattercarpet": [
           {
            "marker": {
             "colorbar": {
              "outlinewidth": 0,
              "ticks": ""
             }
            },
            "type": "scattercarpet"
           }
          ],
          "scattergeo": [
           {
            "marker": {
             "colorbar": {
              "outlinewidth": 0,
              "ticks": ""
             }
            },
            "type": "scattergeo"
           }
          ],
          "scattergl": [
           {
            "marker": {
             "colorbar": {
              "outlinewidth": 0,
              "ticks": ""
             }
            },
            "type": "scattergl"
           }
          ],
          "scattermapbox": [
           {
            "marker": {
             "colorbar": {
              "outlinewidth": 0,
              "ticks": ""
             }
            },
            "type": "scattermapbox"
           }
          ],
          "scatterpolar": [
           {
            "marker": {
             "colorbar": {
              "outlinewidth": 0,
              "ticks": ""
             }
            },
            "type": "scatterpolar"
           }
          ],
          "scatterpolargl": [
           {
            "marker": {
             "colorbar": {
              "outlinewidth": 0,
              "ticks": ""
             }
            },
            "type": "scatterpolargl"
           }
          ],
          "scatterternary": [
           {
            "marker": {
             "colorbar": {
              "outlinewidth": 0,
              "ticks": ""
             }
            },
            "type": "scatterternary"
           }
          ],
          "surface": [
           {
            "colorbar": {
             "outlinewidth": 0,
             "ticks": ""
            },
            "colorscale": [
             [
              0,
              "#0d0887"
             ],
             [
              0.1111111111111111,
              "#46039f"
             ],
             [
              0.2222222222222222,
              "#7201a8"
             ],
             [
              0.3333333333333333,
              "#9c179e"
             ],
             [
              0.4444444444444444,
              "#bd3786"
             ],
             [
              0.5555555555555556,
              "#d8576b"
             ],
             [
              0.6666666666666666,
              "#ed7953"
             ],
             [
              0.7777777777777778,
              "#fb9f3a"
             ],
             [
              0.8888888888888888,
              "#fdca26"
             ],
             [
              1,
              "#f0f921"
             ]
            ],
            "type": "surface"
           }
          ],
          "table": [
           {
            "cells": {
             "fill": {
              "color": "#EBF0F8"
             },
             "line": {
              "color": "white"
             }
            },
            "header": {
             "fill": {
              "color": "#C8D4E3"
             },
             "line": {
              "color": "white"
             }
            },
            "type": "table"
           }
          ]
         },
         "layout": {
          "annotationdefaults": {
           "arrowcolor": "#2a3f5f",
           "arrowhead": 0,
           "arrowwidth": 1
          },
          "autotypenumbers": "strict",
          "coloraxis": {
           "colorbar": {
            "outlinewidth": 0,
            "ticks": ""
           }
          },
          "colorscale": {
           "diverging": [
            [
             0,
             "#8e0152"
            ],
            [
             0.1,
             "#c51b7d"
            ],
            [
             0.2,
             "#de77ae"
            ],
            [
             0.3,
             "#f1b6da"
            ],
            [
             0.4,
             "#fde0ef"
            ],
            [
             0.5,
             "#f7f7f7"
            ],
            [
             0.6,
             "#e6f5d0"
            ],
            [
             0.7,
             "#b8e186"
            ],
            [
             0.8,
             "#7fbc41"
            ],
            [
             0.9,
             "#4d9221"
            ],
            [
             1,
             "#276419"
            ]
           ],
           "sequential": [
            [
             0,
             "#0d0887"
            ],
            [
             0.1111111111111111,
             "#46039f"
            ],
            [
             0.2222222222222222,
             "#7201a8"
            ],
            [
             0.3333333333333333,
             "#9c179e"
            ],
            [
             0.4444444444444444,
             "#bd3786"
            ],
            [
             0.5555555555555556,
             "#d8576b"
            ],
            [
             0.6666666666666666,
             "#ed7953"
            ],
            [
             0.7777777777777778,
             "#fb9f3a"
            ],
            [
             0.8888888888888888,
             "#fdca26"
            ],
            [
             1,
             "#f0f921"
            ]
           ],
           "sequentialminus": [
            [
             0,
             "#0d0887"
            ],
            [
             0.1111111111111111,
             "#46039f"
            ],
            [
             0.2222222222222222,
             "#7201a8"
            ],
            [
             0.3333333333333333,
             "#9c179e"
            ],
            [
             0.4444444444444444,
             "#bd3786"
            ],
            [
             0.5555555555555556,
             "#d8576b"
            ],
            [
             0.6666666666666666,
             "#ed7953"
            ],
            [
             0.7777777777777778,
             "#fb9f3a"
            ],
            [
             0.8888888888888888,
             "#fdca26"
            ],
            [
             1,
             "#f0f921"
            ]
           ]
          },
          "colorway": [
           "#636efa",
           "#EF553B",
           "#00cc96",
           "#ab63fa",
           "#FFA15A",
           "#19d3f3",
           "#FF6692",
           "#B6E880",
           "#FF97FF",
           "#FECB52"
          ],
          "font": {
           "color": "#2a3f5f"
          },
          "geo": {
           "bgcolor": "white",
           "lakecolor": "white",
           "landcolor": "#E5ECF6",
           "showlakes": true,
           "showland": true,
           "subunitcolor": "white"
          },
          "hoverlabel": {
           "align": "left"
          },
          "hovermode": "closest",
          "mapbox": {
           "style": "light"
          },
          "paper_bgcolor": "white",
          "plot_bgcolor": "#E5ECF6",
          "polar": {
           "angularaxis": {
            "gridcolor": "white",
            "linecolor": "white",
            "ticks": ""
           },
           "bgcolor": "#E5ECF6",
           "radialaxis": {
            "gridcolor": "white",
            "linecolor": "white",
            "ticks": ""
           }
          },
          "scene": {
           "xaxis": {
            "backgroundcolor": "#E5ECF6",
            "gridcolor": "white",
            "gridwidth": 2,
            "linecolor": "white",
            "showbackground": true,
            "ticks": "",
            "zerolinecolor": "white"
           },
           "yaxis": {
            "backgroundcolor": "#E5ECF6",
            "gridcolor": "white",
            "gridwidth": 2,
            "linecolor": "white",
            "showbackground": true,
            "ticks": "",
            "zerolinecolor": "white"
           },
           "zaxis": {
            "backgroundcolor": "#E5ECF6",
            "gridcolor": "white",
            "gridwidth": 2,
            "linecolor": "white",
            "showbackground": true,
            "ticks": "",
            "zerolinecolor": "white"
           }
          },
          "shapedefaults": {
           "line": {
            "color": "#2a3f5f"
           }
          },
          "ternary": {
           "aaxis": {
            "gridcolor": "white",
            "linecolor": "white",
            "ticks": ""
           },
           "baxis": {
            "gridcolor": "white",
            "linecolor": "white",
            "ticks": ""
           },
           "bgcolor": "#E5ECF6",
           "caxis": {
            "gridcolor": "white",
            "linecolor": "white",
            "ticks": ""
           }
          },
          "title": {
           "x": 0.05
          },
          "xaxis": {
           "automargin": true,
           "gridcolor": "white",
           "linecolor": "white",
           "ticks": "",
           "title": {
            "standoff": 15
           },
           "zerolinecolor": "white",
           "zerolinewidth": 2
          },
          "yaxis": {
           "automargin": true,
           "gridcolor": "white",
           "linecolor": "white",
           "ticks": "",
           "title": {
            "standoff": 15
           },
           "zerolinecolor": "white",
           "zerolinewidth": 2
          }
         }
        },
        "title": {
         "text": "PC1 loadings"
        },
        "xaxis": {
         "anchor": "y",
         "domain": [
          0,
          1
         ],
         "title": {
          "text": "index"
         }
        },
        "yaxis": {
         "anchor": "x",
         "domain": [
          0,
          1
         ],
         "title": {
          "text": "PC1"
         }
        }
       }
      },
      "text/html": [
       "<div>                            <div id=\"3dd8518e-f57d-45b9-8356-38b712f934bd\" class=\"plotly-graph-div\" style=\"height:525px; width:100%;\"></div>            <script type=\"text/javascript\">                require([\"plotly\"], function(Plotly) {                    window.PLOTLYENV=window.PLOTLYENV || {};                                    if (document.getElementById(\"3dd8518e-f57d-45b9-8356-38b712f934bd\")) {                    Plotly.newPlot(                        \"3dd8518e-f57d-45b9-8356-38b712f934bd\",                        [{\"alignmentgroup\":\"True\",\"hovertemplate\":\"index=%{x}<br>PC1=%{marker.color}<extra></extra>\",\"legendgroup\":\"\",\"marker\":{\"color\":[-0.16745392152821373,-0.16944214376398992,-0.025360292613201774,-0.1460185507330068,-0.115724224270179,-0.17119097150439827,0.1610698140473504,-0.17560430318911582,-0.0070772887995754,-0.1523695167438893,-0.0570852646338992,-0.13670445973215992,-0.1713229233646325,-0.018018927289185492,0.07626944495855663,-0.17143008028299617,-0.0433758256531776,0.058347240279319215,-9.508785108037838e-05,-0.06022856567522041,0.11869890635177104,-0.05189377156413365,0.008078599056457296,0.003930825282051969,0.030234033968180377,-0.0046330996503011245,0.17324333162533562,-0.17519813203071347,0.10479151131767998,0.11548285970436799,-0.1579229166527755,0.17402059824150062,0.17231490048357065,0.18186037113904072,-0.18234121423442864,-0.17978939493842208,0.1953673499256751,-0.15193597204445736,0.16263233349010786,0.14213088672395868,0.1418941350739248,-0.17138777762307833,-0.16669442969586648,-0.171637459249034,-0.18400973420221006,-0.1846437775622433,-0.18919229070966717,-0.17981100746138584,-0.1787892702245872,-0.18360355113406274],\"coloraxis\":\"coloraxis\",\"pattern\":{\"shape\":\"\"}},\"name\":\"\",\"offsetgroup\":\"\",\"orientation\":\"v\",\"showlegend\":false,\"textposition\":\"auto\",\"x\":[\"ADJ\",\"ADP\",\"ADV\",\"AUX\",\"CCONJ\",\"DET\",\"INTJ\",\"NOUN\",\"NUM\",\"PART\",\"PRON\",\"PROPN\",\"PUNCT\",\"SCONJ\",\"SYM\",\"VERB\",\"anger\",\"anticipation\",\"disgust\",\"fear\",\"joy\",\"negative\",\"positive\",\"sadness\",\"surprise\",\"trust\",\"num_unique_words\",\"depth\",\"TBsubjectivity\",\"TBpolarity\",\"words_per_sentence\",\"char_count\",\"syl_count\",\"word_count\",\"char_per_word\",\"syl_per_word\",\"sent_count\",\"word_per_sent\",\"dc_word_count\",\"gf_word_count\",\"poly_word_count\",\"dc_word_perc\",\"gf_word_perc\",\"poly_word_perc\",\"ari\",\"flesch_kincaid\",\"coleman_liau\",\"dale_chall\",\"gunning_fog\",\"smog\"],\"xaxis\":\"x\",\"y\":[-0.16745392152821373,-0.16944214376398992,-0.025360292613201774,-0.1460185507330068,-0.115724224270179,-0.17119097150439827,0.1610698140473504,-0.17560430318911582,-0.0070772887995754,-0.1523695167438893,-0.0570852646338992,-0.13670445973215992,-0.1713229233646325,-0.018018927289185492,0.07626944495855663,-0.17143008028299617,-0.0433758256531776,0.058347240279319215,-9.508785108037838e-05,-0.06022856567522041,0.11869890635177104,-0.05189377156413365,0.008078599056457296,0.003930825282051969,0.030234033968180377,-0.0046330996503011245,0.17324333162533562,-0.17519813203071347,0.10479151131767998,0.11548285970436799,-0.1579229166527755,0.17402059824150062,0.17231490048357065,0.18186037113904072,-0.18234121423442864,-0.17978939493842208,0.1953673499256751,-0.15193597204445736,0.16263233349010786,0.14213088672395868,0.1418941350739248,-0.17138777762307833,-0.16669442969586648,-0.171637459249034,-0.18400973420221006,-0.1846437775622433,-0.18919229070966717,-0.17981100746138584,-0.1787892702245872,-0.18360355113406274],\"yaxis\":\"y\",\"type\":\"bar\"}],                        {\"template\":{\"data\":{\"histogram2dcontour\":[{\"type\":\"histogram2dcontour\",\"colorbar\":{\"outlinewidth\":0,\"ticks\":\"\"},\"colorscale\":[[0.0,\"#0d0887\"],[0.1111111111111111,\"#46039f\"],[0.2222222222222222,\"#7201a8\"],[0.3333333333333333,\"#9c179e\"],[0.4444444444444444,\"#bd3786\"],[0.5555555555555556,\"#d8576b\"],[0.6666666666666666,\"#ed7953\"],[0.7777777777777778,\"#fb9f3a\"],[0.8888888888888888,\"#fdca26\"],[1.0,\"#f0f921\"]]}],\"choropleth\":[{\"type\":\"choropleth\",\"colorbar\":{\"outlinewidth\":0,\"ticks\":\"\"}}],\"histogram2d\":[{\"type\":\"histogram2d\",\"colorbar\":{\"outlinewidth\":0,\"ticks\":\"\"},\"colorscale\":[[0.0,\"#0d0887\"],[0.1111111111111111,\"#46039f\"],[0.2222222222222222,\"#7201a8\"],[0.3333333333333333,\"#9c179e\"],[0.4444444444444444,\"#bd3786\"],[0.5555555555555556,\"#d8576b\"],[0.6666666666666666,\"#ed7953\"],[0.7777777777777778,\"#fb9f3a\"],[0.8888888888888888,\"#fdca26\"],[1.0,\"#f0f921\"]]}],\"heatmap\":[{\"type\":\"heatmap\",\"colorbar\":{\"outlinewidth\":0,\"ticks\":\"\"},\"colorscale\":[[0.0,\"#0d0887\"],[0.1111111111111111,\"#46039f\"],[0.2222222222222222,\"#7201a8\"],[0.3333333333333333,\"#9c179e\"],[0.4444444444444444,\"#bd3786\"],[0.5555555555555556,\"#d8576b\"],[0.6666666666666666,\"#ed7953\"],[0.7777777777777778,\"#fb9f3a\"],[0.8888888888888888,\"#fdca26\"],[1.0,\"#f0f921\"]]}],\"heatmapgl\":[{\"type\":\"heatmapgl\",\"colorbar\":{\"outlinewidth\":0,\"ticks\":\"\"},\"colorscale\":[[0.0,\"#0d0887\"],[0.1111111111111111,\"#46039f\"],[0.2222222222222222,\"#7201a8\"],[0.3333333333333333,\"#9c179e\"],[0.4444444444444444,\"#bd3786\"],[0.5555555555555556,\"#d8576b\"],[0.6666666666666666,\"#ed7953\"],[0.7777777777777778,\"#fb9f3a\"],[0.8888888888888888,\"#fdca26\"],[1.0,\"#f0f921\"]]}],\"contourcarpet\":[{\"type\":\"contourcarpet\",\"colorbar\":{\"outlinewidth\":0,\"ticks\":\"\"}}],\"contour\":[{\"type\":\"contour\",\"colorbar\":{\"outlinewidth\":0,\"ticks\":\"\"},\"colorscale\":[[0.0,\"#0d0887\"],[0.1111111111111111,\"#46039f\"],[0.2222222222222222,\"#7201a8\"],[0.3333333333333333,\"#9c179e\"],[0.4444444444444444,\"#bd3786\"],[0.5555555555555556,\"#d8576b\"],[0.6666666666666666,\"#ed7953\"],[0.7777777777777778,\"#fb9f3a\"],[0.8888888888888888,\"#fdca26\"],[1.0,\"#f0f921\"]]}],\"surface\":[{\"type\":\"surface\",\"colorbar\":{\"outlinewidth\":0,\"ticks\":\"\"},\"colorscale\":[[0.0,\"#0d0887\"],[0.1111111111111111,\"#46039f\"],[0.2222222222222222,\"#7201a8\"],[0.3333333333333333,\"#9c179e\"],[0.4444444444444444,\"#bd3786\"],[0.5555555555555556,\"#d8576b\"],[0.6666666666666666,\"#ed7953\"],[0.7777777777777778,\"#fb9f3a\"],[0.8888888888888888,\"#fdca26\"],[1.0,\"#f0f921\"]]}],\"mesh3d\":[{\"type\":\"mesh3d\",\"colorbar\":{\"outlinewidth\":0,\"ticks\":\"\"}}],\"scatter\":[{\"fillpattern\":{\"fillmode\":\"overlay\",\"size\":10,\"solidity\":0.2},\"type\":\"scatter\"}],\"parcoords\":[{\"type\":\"parcoords\",\"line\":{\"colorbar\":{\"outlinewidth\":0,\"ticks\":\"\"}}}],\"scatterpolargl\":[{\"type\":\"scatterpolargl\",\"marker\":{\"colorbar\":{\"outlinewidth\":0,\"ticks\":\"\"}}}],\"bar\":[{\"error_x\":{\"color\":\"#2a3f5f\"},\"error_y\":{\"color\":\"#2a3f5f\"},\"marker\":{\"line\":{\"color\":\"#E5ECF6\",\"width\":0.5},\"pattern\":{\"fillmode\":\"overlay\",\"size\":10,\"solidity\":0.2}},\"type\":\"bar\"}],\"scattergeo\":[{\"type\":\"scattergeo\",\"marker\":{\"colorbar\":{\"outlinewidth\":0,\"ticks\":\"\"}}}],\"scatterpolar\":[{\"type\":\"scatterpolar\",\"marker\":{\"colorbar\":{\"outlinewidth\":0,\"ticks\":\"\"}}}],\"histogram\":[{\"marker\":{\"pattern\":{\"fillmode\":\"overlay\",\"size\":10,\"solidity\":0.2}},\"type\":\"histogram\"}],\"scattergl\":[{\"type\":\"scattergl\",\"marker\":{\"colorbar\":{\"outlinewidth\":0,\"ticks\":\"\"}}}],\"scatter3d\":[{\"type\":\"scatter3d\",\"line\":{\"colorbar\":{\"outlinewidth\":0,\"ticks\":\"\"}},\"marker\":{\"colorbar\":{\"outlinewidth\":0,\"ticks\":\"\"}}}],\"scattermapbox\":[{\"type\":\"scattermapbox\",\"marker\":{\"colorbar\":{\"outlinewidth\":0,\"ticks\":\"\"}}}],\"scatterternary\":[{\"type\":\"scatterternary\",\"marker\":{\"colorbar\":{\"outlinewidth\":0,\"ticks\":\"\"}}}],\"scattercarpet\":[{\"type\":\"scattercarpet\",\"marker\":{\"colorbar\":{\"outlinewidth\":0,\"ticks\":\"\"}}}],\"carpet\":[{\"aaxis\":{\"endlinecolor\":\"#2a3f5f\",\"gridcolor\":\"white\",\"linecolor\":\"white\",\"minorgridcolor\":\"white\",\"startlinecolor\":\"#2a3f5f\"},\"baxis\":{\"endlinecolor\":\"#2a3f5f\",\"gridcolor\":\"white\",\"linecolor\":\"white\",\"minorgridcolor\":\"white\",\"startlinecolor\":\"#2a3f5f\"},\"type\":\"carpet\"}],\"table\":[{\"cells\":{\"fill\":{\"color\":\"#EBF0F8\"},\"line\":{\"color\":\"white\"}},\"header\":{\"fill\":{\"color\":\"#C8D4E3\"},\"line\":{\"color\":\"white\"}},\"type\":\"table\"}],\"barpolar\":[{\"marker\":{\"line\":{\"color\":\"#E5ECF6\",\"width\":0.5},\"pattern\":{\"fillmode\":\"overlay\",\"size\":10,\"solidity\":0.2}},\"type\":\"barpolar\"}],\"pie\":[{\"automargin\":true,\"type\":\"pie\"}]},\"layout\":{\"autotypenumbers\":\"strict\",\"colorway\":[\"#636efa\",\"#EF553B\",\"#00cc96\",\"#ab63fa\",\"#FFA15A\",\"#19d3f3\",\"#FF6692\",\"#B6E880\",\"#FF97FF\",\"#FECB52\"],\"font\":{\"color\":\"#2a3f5f\"},\"hovermode\":\"closest\",\"hoverlabel\":{\"align\":\"left\"},\"paper_bgcolor\":\"white\",\"plot_bgcolor\":\"#E5ECF6\",\"polar\":{\"bgcolor\":\"#E5ECF6\",\"angularaxis\":{\"gridcolor\":\"white\",\"linecolor\":\"white\",\"ticks\":\"\"},\"radialaxis\":{\"gridcolor\":\"white\",\"linecolor\":\"white\",\"ticks\":\"\"}},\"ternary\":{\"bgcolor\":\"#E5ECF6\",\"aaxis\":{\"gridcolor\":\"white\",\"linecolor\":\"white\",\"ticks\":\"\"},\"baxis\":{\"gridcolor\":\"white\",\"linecolor\":\"white\",\"ticks\":\"\"},\"caxis\":{\"gridcolor\":\"white\",\"linecolor\":\"white\",\"ticks\":\"\"}},\"coloraxis\":{\"colorbar\":{\"outlinewidth\":0,\"ticks\":\"\"}},\"colorscale\":{\"sequential\":[[0.0,\"#0d0887\"],[0.1111111111111111,\"#46039f\"],[0.2222222222222222,\"#7201a8\"],[0.3333333333333333,\"#9c179e\"],[0.4444444444444444,\"#bd3786\"],[0.5555555555555556,\"#d8576b\"],[0.6666666666666666,\"#ed7953\"],[0.7777777777777778,\"#fb9f3a\"],[0.8888888888888888,\"#fdca26\"],[1.0,\"#f0f921\"]],\"sequentialminus\":[[0.0,\"#0d0887\"],[0.1111111111111111,\"#46039f\"],[0.2222222222222222,\"#7201a8\"],[0.3333333333333333,\"#9c179e\"],[0.4444444444444444,\"#bd3786\"],[0.5555555555555556,\"#d8576b\"],[0.6666666666666666,\"#ed7953\"],[0.7777777777777778,\"#fb9f3a\"],[0.8888888888888888,\"#fdca26\"],[1.0,\"#f0f921\"]],\"diverging\":[[0,\"#8e0152\"],[0.1,\"#c51b7d\"],[0.2,\"#de77ae\"],[0.3,\"#f1b6da\"],[0.4,\"#fde0ef\"],[0.5,\"#f7f7f7\"],[0.6,\"#e6f5d0\"],[0.7,\"#b8e186\"],[0.8,\"#7fbc41\"],[0.9,\"#4d9221\"],[1,\"#276419\"]]},\"xaxis\":{\"gridcolor\":\"white\",\"linecolor\":\"white\",\"ticks\":\"\",\"title\":{\"standoff\":15},\"zerolinecolor\":\"white\",\"automargin\":true,\"zerolinewidth\":2},\"yaxis\":{\"gridcolor\":\"white\",\"linecolor\":\"white\",\"ticks\":\"\",\"title\":{\"standoff\":15},\"zerolinecolor\":\"white\",\"automargin\":true,\"zerolinewidth\":2},\"scene\":{\"xaxis\":{\"backgroundcolor\":\"#E5ECF6\",\"gridcolor\":\"white\",\"linecolor\":\"white\",\"showbackground\":true,\"ticks\":\"\",\"zerolinecolor\":\"white\",\"gridwidth\":2},\"yaxis\":{\"backgroundcolor\":\"#E5ECF6\",\"gridcolor\":\"white\",\"linecolor\":\"white\",\"showbackground\":true,\"ticks\":\"\",\"zerolinecolor\":\"white\",\"gridwidth\":2},\"zaxis\":{\"backgroundcolor\":\"#E5ECF6\",\"gridcolor\":\"white\",\"linecolor\":\"white\",\"showbackground\":true,\"ticks\":\"\",\"zerolinecolor\":\"white\",\"gridwidth\":2}},\"shapedefaults\":{\"line\":{\"color\":\"#2a3f5f\"}},\"annotationdefaults\":{\"arrowcolor\":\"#2a3f5f\",\"arrowhead\":0,\"arrowwidth\":1},\"geo\":{\"bgcolor\":\"white\",\"landcolor\":\"#E5ECF6\",\"subunitcolor\":\"white\",\"showland\":true,\"showlakes\":true,\"lakecolor\":\"white\"},\"title\":{\"x\":0.05},\"mapbox\":{\"style\":\"light\"}}},\"xaxis\":{\"anchor\":\"y\",\"domain\":[0.0,1.0],\"title\":{\"text\":\"index\"}},\"yaxis\":{\"anchor\":\"x\",\"domain\":[0.0,1.0],\"title\":{\"text\":\"PC1\"}},\"coloraxis\":{\"colorbar\":{\"title\":{\"text\":\"PC1\"}},\"colorscale\":[[0.0,\"#0d0887\"],[0.1111111111111111,\"#46039f\"],[0.2222222222222222,\"#7201a8\"],[0.3333333333333333,\"#9c179e\"],[0.4444444444444444,\"#bd3786\"],[0.5555555555555556,\"#d8576b\"],[0.6666666666666666,\"#ed7953\"],[0.7777777777777778,\"#fb9f3a\"],[0.8888888888888888,\"#fdca26\"],[1.0,\"#f0f921\"]]},\"legend\":{\"tracegroupgap\":0},\"title\":{\"text\":\"PC1 loadings\"},\"barmode\":\"relative\"},                        {\"responsive\": true}                    ).then(function(){\n",
       "                            \n",
       "var gd = document.getElementById('3dd8518e-f57d-45b9-8356-38b712f934bd');\n",
       "var x = new MutationObserver(function (mutations, observer) {{\n",
       "        var display = window.getComputedStyle(gd).display;\n",
       "        if (!display || display === 'none') {{\n",
       "            console.log([gd, 'removed!']);\n",
       "            Plotly.purge(gd);\n",
       "            observer.disconnect();\n",
       "        }}\n",
       "}});\n",
       "\n",
       "// Listen for the removal of the full notebook cells\n",
       "var notebookContainer = gd.closest('#notebook-container');\n",
       "if (notebookContainer) {{\n",
       "    x.observe(notebookContainer, {childList: true});\n",
       "}}\n",
       "\n",
       "// Listen for the clearing of the current output cell\n",
       "var outputEl = gd.closest('.output');\n",
       "if (outputEl) {{\n",
       "    x.observe(outputEl, {childList: true});\n",
       "}}\n",
       "\n",
       "                        })                };                });            </script>        </div>"
      ]
     },
     "metadata": {},
     "output_type": "display_data"
    }
   ],
   "source": [
    "fig = px.bar(loadings, \n",
    "             x=loadings.index, \n",
    "             y='PC1', \n",
    "             color='PC1', \n",
    "             title = 'PC1 loadings')\n",
    "fig.show()"
   ]
  },
  {
   "cell_type": "code",
   "execution_count": 61,
   "id": "a9856176",
   "metadata": {},
   "outputs": [
    {
     "data": {
      "application/vnd.plotly.v1+json": {
       "config": {
        "plotlyServerURL": "https://plot.ly"
       },
       "data": [
        {
         "alignmentgroup": "True",
         "hovertemplate": "index=%{x}<br>PC2=%{marker.color}<extra></extra>",
         "legendgroup": "",
         "marker": {
          "color": [
           0.17219766544774612,
           0.18754276275293924,
           0.03385501593911666,
           0.185056155882783,
           0.1143781666351307,
           0.18789502866323132,
           -0.056673953438124425,
           0.1833913440524383,
           -0.11452465711388617,
           0.16220838997692708,
           0.04775449179847722,
           0.1278206376501512,
           0.18856128732677044,
           0.025831074672136863,
           -0.15861600223242572,
           0.19387382806177023,
           -0.0023195331798430345,
           0.00015690470035216556,
           0.009148279150319499,
           0.010401632825641952,
           0.050615906871123655,
           -0.02537073114135776,
           -0.011454110597967339,
           0.010641297409207417,
           0.019828063602471985,
           -0.024384016501319314,
           -0.13478675927908806,
           -0.1587617290875212,
           0.08832223255261722,
           0.031032150312679228,
           -0.1906371244102519,
           -0.13019814570940672,
           -0.13320301554797465,
           -0.11826421615498098,
           -0.16026880647011754,
           -0.1718125950098315,
           -0.08159583615978888,
           -0.19558214550187608,
           -0.14771385173806512,
           -0.17199703465958988,
           -0.17096427056890268,
           -0.13025216354712,
           -0.1836322663461345,
           -0.18204728776411444,
           -0.2076650048184621,
           -0.21055187275912796,
           -0.1743194071755653,
           -0.20260356498183904,
           -0.21568559989856073,
           -0.21390474272107907
          ],
          "coloraxis": "coloraxis",
          "pattern": {
           "shape": ""
          }
         },
         "name": "",
         "offsetgroup": "",
         "orientation": "v",
         "showlegend": false,
         "textposition": "auto",
         "type": "bar",
         "x": [
          "ADJ",
          "ADP",
          "ADV",
          "AUX",
          "CCONJ",
          "DET",
          "INTJ",
          "NOUN",
          "NUM",
          "PART",
          "PRON",
          "PROPN",
          "PUNCT",
          "SCONJ",
          "SYM",
          "VERB",
          "anger",
          "anticipation",
          "disgust",
          "fear",
          "joy",
          "negative",
          "positive",
          "sadness",
          "surprise",
          "trust",
          "num_unique_words",
          "depth",
          "TBsubjectivity",
          "TBpolarity",
          "words_per_sentence",
          "char_count",
          "syl_count",
          "word_count",
          "char_per_word",
          "syl_per_word",
          "sent_count",
          "word_per_sent",
          "dc_word_count",
          "gf_word_count",
          "poly_word_count",
          "dc_word_perc",
          "gf_word_perc",
          "poly_word_perc",
          "ari",
          "flesch_kincaid",
          "coleman_liau",
          "dale_chall",
          "gunning_fog",
          "smog"
         ],
         "xaxis": "x",
         "y": [
          0.17219766544774612,
          0.18754276275293924,
          0.03385501593911666,
          0.185056155882783,
          0.1143781666351307,
          0.18789502866323132,
          -0.056673953438124425,
          0.1833913440524383,
          -0.11452465711388617,
          0.16220838997692708,
          0.04775449179847722,
          0.1278206376501512,
          0.18856128732677044,
          0.025831074672136863,
          -0.15861600223242572,
          0.19387382806177023,
          -0.0023195331798430345,
          0.00015690470035216556,
          0.009148279150319499,
          0.010401632825641952,
          0.050615906871123655,
          -0.02537073114135776,
          -0.011454110597967339,
          0.010641297409207417,
          0.019828063602471985,
          -0.024384016501319314,
          -0.13478675927908806,
          -0.1587617290875212,
          0.08832223255261722,
          0.031032150312679228,
          -0.1906371244102519,
          -0.13019814570940672,
          -0.13320301554797465,
          -0.11826421615498098,
          -0.16026880647011754,
          -0.1718125950098315,
          -0.08159583615978888,
          -0.19558214550187608,
          -0.14771385173806512,
          -0.17199703465958988,
          -0.17096427056890268,
          -0.13025216354712,
          -0.1836322663461345,
          -0.18204728776411444,
          -0.2076650048184621,
          -0.21055187275912796,
          -0.1743194071755653,
          -0.20260356498183904,
          -0.21568559989856073,
          -0.21390474272107907
         ],
         "yaxis": "y"
        }
       ],
       "layout": {
        "barmode": "relative",
        "coloraxis": {
         "colorbar": {
          "title": {
           "text": "PC2"
          }
         },
         "colorscale": [
          [
           0,
           "#0d0887"
          ],
          [
           0.1111111111111111,
           "#46039f"
          ],
          [
           0.2222222222222222,
           "#7201a8"
          ],
          [
           0.3333333333333333,
           "#9c179e"
          ],
          [
           0.4444444444444444,
           "#bd3786"
          ],
          [
           0.5555555555555556,
           "#d8576b"
          ],
          [
           0.6666666666666666,
           "#ed7953"
          ],
          [
           0.7777777777777778,
           "#fb9f3a"
          ],
          [
           0.8888888888888888,
           "#fdca26"
          ],
          [
           1,
           "#f0f921"
          ]
         ]
        },
        "legend": {
         "tracegroupgap": 0
        },
        "template": {
         "data": {
          "bar": [
           {
            "error_x": {
             "color": "#2a3f5f"
            },
            "error_y": {
             "color": "#2a3f5f"
            },
            "marker": {
             "line": {
              "color": "#E5ECF6",
              "width": 0.5
             },
             "pattern": {
              "fillmode": "overlay",
              "size": 10,
              "solidity": 0.2
             }
            },
            "type": "bar"
           }
          ],
          "barpolar": [
           {
            "marker": {
             "line": {
              "color": "#E5ECF6",
              "width": 0.5
             },
             "pattern": {
              "fillmode": "overlay",
              "size": 10,
              "solidity": 0.2
             }
            },
            "type": "barpolar"
           }
          ],
          "carpet": [
           {
            "aaxis": {
             "endlinecolor": "#2a3f5f",
             "gridcolor": "white",
             "linecolor": "white",
             "minorgridcolor": "white",
             "startlinecolor": "#2a3f5f"
            },
            "baxis": {
             "endlinecolor": "#2a3f5f",
             "gridcolor": "white",
             "linecolor": "white",
             "minorgridcolor": "white",
             "startlinecolor": "#2a3f5f"
            },
            "type": "carpet"
           }
          ],
          "choropleth": [
           {
            "colorbar": {
             "outlinewidth": 0,
             "ticks": ""
            },
            "type": "choropleth"
           }
          ],
          "contour": [
           {
            "colorbar": {
             "outlinewidth": 0,
             "ticks": ""
            },
            "colorscale": [
             [
              0,
              "#0d0887"
             ],
             [
              0.1111111111111111,
              "#46039f"
             ],
             [
              0.2222222222222222,
              "#7201a8"
             ],
             [
              0.3333333333333333,
              "#9c179e"
             ],
             [
              0.4444444444444444,
              "#bd3786"
             ],
             [
              0.5555555555555556,
              "#d8576b"
             ],
             [
              0.6666666666666666,
              "#ed7953"
             ],
             [
              0.7777777777777778,
              "#fb9f3a"
             ],
             [
              0.8888888888888888,
              "#fdca26"
             ],
             [
              1,
              "#f0f921"
             ]
            ],
            "type": "contour"
           }
          ],
          "contourcarpet": [
           {
            "colorbar": {
             "outlinewidth": 0,
             "ticks": ""
            },
            "type": "contourcarpet"
           }
          ],
          "heatmap": [
           {
            "colorbar": {
             "outlinewidth": 0,
             "ticks": ""
            },
            "colorscale": [
             [
              0,
              "#0d0887"
             ],
             [
              0.1111111111111111,
              "#46039f"
             ],
             [
              0.2222222222222222,
              "#7201a8"
             ],
             [
              0.3333333333333333,
              "#9c179e"
             ],
             [
              0.4444444444444444,
              "#bd3786"
             ],
             [
              0.5555555555555556,
              "#d8576b"
             ],
             [
              0.6666666666666666,
              "#ed7953"
             ],
             [
              0.7777777777777778,
              "#fb9f3a"
             ],
             [
              0.8888888888888888,
              "#fdca26"
             ],
             [
              1,
              "#f0f921"
             ]
            ],
            "type": "heatmap"
           }
          ],
          "heatmapgl": [
           {
            "colorbar": {
             "outlinewidth": 0,
             "ticks": ""
            },
            "colorscale": [
             [
              0,
              "#0d0887"
             ],
             [
              0.1111111111111111,
              "#46039f"
             ],
             [
              0.2222222222222222,
              "#7201a8"
             ],
             [
              0.3333333333333333,
              "#9c179e"
             ],
             [
              0.4444444444444444,
              "#bd3786"
             ],
             [
              0.5555555555555556,
              "#d8576b"
             ],
             [
              0.6666666666666666,
              "#ed7953"
             ],
             [
              0.7777777777777778,
              "#fb9f3a"
             ],
             [
              0.8888888888888888,
              "#fdca26"
             ],
             [
              1,
              "#f0f921"
             ]
            ],
            "type": "heatmapgl"
           }
          ],
          "histogram": [
           {
            "marker": {
             "pattern": {
              "fillmode": "overlay",
              "size": 10,
              "solidity": 0.2
             }
            },
            "type": "histogram"
           }
          ],
          "histogram2d": [
           {
            "colorbar": {
             "outlinewidth": 0,
             "ticks": ""
            },
            "colorscale": [
             [
              0,
              "#0d0887"
             ],
             [
              0.1111111111111111,
              "#46039f"
             ],
             [
              0.2222222222222222,
              "#7201a8"
             ],
             [
              0.3333333333333333,
              "#9c179e"
             ],
             [
              0.4444444444444444,
              "#bd3786"
             ],
             [
              0.5555555555555556,
              "#d8576b"
             ],
             [
              0.6666666666666666,
              "#ed7953"
             ],
             [
              0.7777777777777778,
              "#fb9f3a"
             ],
             [
              0.8888888888888888,
              "#fdca26"
             ],
             [
              1,
              "#f0f921"
             ]
            ],
            "type": "histogram2d"
           }
          ],
          "histogram2dcontour": [
           {
            "colorbar": {
             "outlinewidth": 0,
             "ticks": ""
            },
            "colorscale": [
             [
              0,
              "#0d0887"
             ],
             [
              0.1111111111111111,
              "#46039f"
             ],
             [
              0.2222222222222222,
              "#7201a8"
             ],
             [
              0.3333333333333333,
              "#9c179e"
             ],
             [
              0.4444444444444444,
              "#bd3786"
             ],
             [
              0.5555555555555556,
              "#d8576b"
             ],
             [
              0.6666666666666666,
              "#ed7953"
             ],
             [
              0.7777777777777778,
              "#fb9f3a"
             ],
             [
              0.8888888888888888,
              "#fdca26"
             ],
             [
              1,
              "#f0f921"
             ]
            ],
            "type": "histogram2dcontour"
           }
          ],
          "mesh3d": [
           {
            "colorbar": {
             "outlinewidth": 0,
             "ticks": ""
            },
            "type": "mesh3d"
           }
          ],
          "parcoords": [
           {
            "line": {
             "colorbar": {
              "outlinewidth": 0,
              "ticks": ""
             }
            },
            "type": "parcoords"
           }
          ],
          "pie": [
           {
            "automargin": true,
            "type": "pie"
           }
          ],
          "scatter": [
           {
            "fillpattern": {
             "fillmode": "overlay",
             "size": 10,
             "solidity": 0.2
            },
            "type": "scatter"
           }
          ],
          "scatter3d": [
           {
            "line": {
             "colorbar": {
              "outlinewidth": 0,
              "ticks": ""
             }
            },
            "marker": {
             "colorbar": {
              "outlinewidth": 0,
              "ticks": ""
             }
            },
            "type": "scatter3d"
           }
          ],
          "scattercarpet": [
           {
            "marker": {
             "colorbar": {
              "outlinewidth": 0,
              "ticks": ""
             }
            },
            "type": "scattercarpet"
           }
          ],
          "scattergeo": [
           {
            "marker": {
             "colorbar": {
              "outlinewidth": 0,
              "ticks": ""
             }
            },
            "type": "scattergeo"
           }
          ],
          "scattergl": [
           {
            "marker": {
             "colorbar": {
              "outlinewidth": 0,
              "ticks": ""
             }
            },
            "type": "scattergl"
           }
          ],
          "scattermapbox": [
           {
            "marker": {
             "colorbar": {
              "outlinewidth": 0,
              "ticks": ""
             }
            },
            "type": "scattermapbox"
           }
          ],
          "scatterpolar": [
           {
            "marker": {
             "colorbar": {
              "outlinewidth": 0,
              "ticks": ""
             }
            },
            "type": "scatterpolar"
           }
          ],
          "scatterpolargl": [
           {
            "marker": {
             "colorbar": {
              "outlinewidth": 0,
              "ticks": ""
             }
            },
            "type": "scatterpolargl"
           }
          ],
          "scatterternary": [
           {
            "marker": {
             "colorbar": {
              "outlinewidth": 0,
              "ticks": ""
             }
            },
            "type": "scatterternary"
           }
          ],
          "surface": [
           {
            "colorbar": {
             "outlinewidth": 0,
             "ticks": ""
            },
            "colorscale": [
             [
              0,
              "#0d0887"
             ],
             [
              0.1111111111111111,
              "#46039f"
             ],
             [
              0.2222222222222222,
              "#7201a8"
             ],
             [
              0.3333333333333333,
              "#9c179e"
             ],
             [
              0.4444444444444444,
              "#bd3786"
             ],
             [
              0.5555555555555556,
              "#d8576b"
             ],
             [
              0.6666666666666666,
              "#ed7953"
             ],
             [
              0.7777777777777778,
              "#fb9f3a"
             ],
             [
              0.8888888888888888,
              "#fdca26"
             ],
             [
              1,
              "#f0f921"
             ]
            ],
            "type": "surface"
           }
          ],
          "table": [
           {
            "cells": {
             "fill": {
              "color": "#EBF0F8"
             },
             "line": {
              "color": "white"
             }
            },
            "header": {
             "fill": {
              "color": "#C8D4E3"
             },
             "line": {
              "color": "white"
             }
            },
            "type": "table"
           }
          ]
         },
         "layout": {
          "annotationdefaults": {
           "arrowcolor": "#2a3f5f",
           "arrowhead": 0,
           "arrowwidth": 1
          },
          "autotypenumbers": "strict",
          "coloraxis": {
           "colorbar": {
            "outlinewidth": 0,
            "ticks": ""
           }
          },
          "colorscale": {
           "diverging": [
            [
             0,
             "#8e0152"
            ],
            [
             0.1,
             "#c51b7d"
            ],
            [
             0.2,
             "#de77ae"
            ],
            [
             0.3,
             "#f1b6da"
            ],
            [
             0.4,
             "#fde0ef"
            ],
            [
             0.5,
             "#f7f7f7"
            ],
            [
             0.6,
             "#e6f5d0"
            ],
            [
             0.7,
             "#b8e186"
            ],
            [
             0.8,
             "#7fbc41"
            ],
            [
             0.9,
             "#4d9221"
            ],
            [
             1,
             "#276419"
            ]
           ],
           "sequential": [
            [
             0,
             "#0d0887"
            ],
            [
             0.1111111111111111,
             "#46039f"
            ],
            [
             0.2222222222222222,
             "#7201a8"
            ],
            [
             0.3333333333333333,
             "#9c179e"
            ],
            [
             0.4444444444444444,
             "#bd3786"
            ],
            [
             0.5555555555555556,
             "#d8576b"
            ],
            [
             0.6666666666666666,
             "#ed7953"
            ],
            [
             0.7777777777777778,
             "#fb9f3a"
            ],
            [
             0.8888888888888888,
             "#fdca26"
            ],
            [
             1,
             "#f0f921"
            ]
           ],
           "sequentialminus": [
            [
             0,
             "#0d0887"
            ],
            [
             0.1111111111111111,
             "#46039f"
            ],
            [
             0.2222222222222222,
             "#7201a8"
            ],
            [
             0.3333333333333333,
             "#9c179e"
            ],
            [
             0.4444444444444444,
             "#bd3786"
            ],
            [
             0.5555555555555556,
             "#d8576b"
            ],
            [
             0.6666666666666666,
             "#ed7953"
            ],
            [
             0.7777777777777778,
             "#fb9f3a"
            ],
            [
             0.8888888888888888,
             "#fdca26"
            ],
            [
             1,
             "#f0f921"
            ]
           ]
          },
          "colorway": [
           "#636efa",
           "#EF553B",
           "#00cc96",
           "#ab63fa",
           "#FFA15A",
           "#19d3f3",
           "#FF6692",
           "#B6E880",
           "#FF97FF",
           "#FECB52"
          ],
          "font": {
           "color": "#2a3f5f"
          },
          "geo": {
           "bgcolor": "white",
           "lakecolor": "white",
           "landcolor": "#E5ECF6",
           "showlakes": true,
           "showland": true,
           "subunitcolor": "white"
          },
          "hoverlabel": {
           "align": "left"
          },
          "hovermode": "closest",
          "mapbox": {
           "style": "light"
          },
          "paper_bgcolor": "white",
          "plot_bgcolor": "#E5ECF6",
          "polar": {
           "angularaxis": {
            "gridcolor": "white",
            "linecolor": "white",
            "ticks": ""
           },
           "bgcolor": "#E5ECF6",
           "radialaxis": {
            "gridcolor": "white",
            "linecolor": "white",
            "ticks": ""
           }
          },
          "scene": {
           "xaxis": {
            "backgroundcolor": "#E5ECF6",
            "gridcolor": "white",
            "gridwidth": 2,
            "linecolor": "white",
            "showbackground": true,
            "ticks": "",
            "zerolinecolor": "white"
           },
           "yaxis": {
            "backgroundcolor": "#E5ECF6",
            "gridcolor": "white",
            "gridwidth": 2,
            "linecolor": "white",
            "showbackground": true,
            "ticks": "",
            "zerolinecolor": "white"
           },
           "zaxis": {
            "backgroundcolor": "#E5ECF6",
            "gridcolor": "white",
            "gridwidth": 2,
            "linecolor": "white",
            "showbackground": true,
            "ticks": "",
            "zerolinecolor": "white"
           }
          },
          "shapedefaults": {
           "line": {
            "color": "#2a3f5f"
           }
          },
          "ternary": {
           "aaxis": {
            "gridcolor": "white",
            "linecolor": "white",
            "ticks": ""
           },
           "baxis": {
            "gridcolor": "white",
            "linecolor": "white",
            "ticks": ""
           },
           "bgcolor": "#E5ECF6",
           "caxis": {
            "gridcolor": "white",
            "linecolor": "white",
            "ticks": ""
           }
          },
          "title": {
           "x": 0.05
          },
          "xaxis": {
           "automargin": true,
           "gridcolor": "white",
           "linecolor": "white",
           "ticks": "",
           "title": {
            "standoff": 15
           },
           "zerolinecolor": "white",
           "zerolinewidth": 2
          },
          "yaxis": {
           "automargin": true,
           "gridcolor": "white",
           "linecolor": "white",
           "ticks": "",
           "title": {
            "standoff": 15
           },
           "zerolinecolor": "white",
           "zerolinewidth": 2
          }
         }
        },
        "title": {
         "text": "PC2 loadings"
        },
        "xaxis": {
         "anchor": "y",
         "domain": [
          0,
          1
         ],
         "title": {
          "text": "index"
         }
        },
        "yaxis": {
         "anchor": "x",
         "domain": [
          0,
          1
         ],
         "title": {
          "text": "PC2"
         }
        }
       }
      },
      "text/html": [
       "<div>                            <div id=\"12db0537-5103-4222-bbff-d1f657166a0a\" class=\"plotly-graph-div\" style=\"height:525px; width:100%;\"></div>            <script type=\"text/javascript\">                require([\"plotly\"], function(Plotly) {                    window.PLOTLYENV=window.PLOTLYENV || {};                                    if (document.getElementById(\"12db0537-5103-4222-bbff-d1f657166a0a\")) {                    Plotly.newPlot(                        \"12db0537-5103-4222-bbff-d1f657166a0a\",                        [{\"alignmentgroup\":\"True\",\"hovertemplate\":\"index=%{x}<br>PC2=%{marker.color}<extra></extra>\",\"legendgroup\":\"\",\"marker\":{\"color\":[0.17219766544774612,0.18754276275293924,0.03385501593911666,0.185056155882783,0.1143781666351307,0.18789502866323132,-0.056673953438124425,0.1833913440524383,-0.11452465711388617,0.16220838997692708,0.04775449179847722,0.1278206376501512,0.18856128732677044,0.025831074672136863,-0.15861600223242572,0.19387382806177023,-0.0023195331798430345,0.00015690470035216556,0.009148279150319499,0.010401632825641952,0.050615906871123655,-0.02537073114135776,-0.011454110597967339,0.010641297409207417,0.019828063602471985,-0.024384016501319314,-0.13478675927908806,-0.1587617290875212,0.08832223255261722,0.031032150312679228,-0.1906371244102519,-0.13019814570940672,-0.13320301554797465,-0.11826421615498098,-0.16026880647011754,-0.1718125950098315,-0.08159583615978888,-0.19558214550187608,-0.14771385173806512,-0.17199703465958988,-0.17096427056890268,-0.13025216354712,-0.1836322663461345,-0.18204728776411444,-0.2076650048184621,-0.21055187275912796,-0.1743194071755653,-0.20260356498183904,-0.21568559989856073,-0.21390474272107907],\"coloraxis\":\"coloraxis\",\"pattern\":{\"shape\":\"\"}},\"name\":\"\",\"offsetgroup\":\"\",\"orientation\":\"v\",\"showlegend\":false,\"textposition\":\"auto\",\"x\":[\"ADJ\",\"ADP\",\"ADV\",\"AUX\",\"CCONJ\",\"DET\",\"INTJ\",\"NOUN\",\"NUM\",\"PART\",\"PRON\",\"PROPN\",\"PUNCT\",\"SCONJ\",\"SYM\",\"VERB\",\"anger\",\"anticipation\",\"disgust\",\"fear\",\"joy\",\"negative\",\"positive\",\"sadness\",\"surprise\",\"trust\",\"num_unique_words\",\"depth\",\"TBsubjectivity\",\"TBpolarity\",\"words_per_sentence\",\"char_count\",\"syl_count\",\"word_count\",\"char_per_word\",\"syl_per_word\",\"sent_count\",\"word_per_sent\",\"dc_word_count\",\"gf_word_count\",\"poly_word_count\",\"dc_word_perc\",\"gf_word_perc\",\"poly_word_perc\",\"ari\",\"flesch_kincaid\",\"coleman_liau\",\"dale_chall\",\"gunning_fog\",\"smog\"],\"xaxis\":\"x\",\"y\":[0.17219766544774612,0.18754276275293924,0.03385501593911666,0.185056155882783,0.1143781666351307,0.18789502866323132,-0.056673953438124425,0.1833913440524383,-0.11452465711388617,0.16220838997692708,0.04775449179847722,0.1278206376501512,0.18856128732677044,0.025831074672136863,-0.15861600223242572,0.19387382806177023,-0.0023195331798430345,0.00015690470035216556,0.009148279150319499,0.010401632825641952,0.050615906871123655,-0.02537073114135776,-0.011454110597967339,0.010641297409207417,0.019828063602471985,-0.024384016501319314,-0.13478675927908806,-0.1587617290875212,0.08832223255261722,0.031032150312679228,-0.1906371244102519,-0.13019814570940672,-0.13320301554797465,-0.11826421615498098,-0.16026880647011754,-0.1718125950098315,-0.08159583615978888,-0.19558214550187608,-0.14771385173806512,-0.17199703465958988,-0.17096427056890268,-0.13025216354712,-0.1836322663461345,-0.18204728776411444,-0.2076650048184621,-0.21055187275912796,-0.1743194071755653,-0.20260356498183904,-0.21568559989856073,-0.21390474272107907],\"yaxis\":\"y\",\"type\":\"bar\"}],                        {\"template\":{\"data\":{\"histogram2dcontour\":[{\"type\":\"histogram2dcontour\",\"colorbar\":{\"outlinewidth\":0,\"ticks\":\"\"},\"colorscale\":[[0.0,\"#0d0887\"],[0.1111111111111111,\"#46039f\"],[0.2222222222222222,\"#7201a8\"],[0.3333333333333333,\"#9c179e\"],[0.4444444444444444,\"#bd3786\"],[0.5555555555555556,\"#d8576b\"],[0.6666666666666666,\"#ed7953\"],[0.7777777777777778,\"#fb9f3a\"],[0.8888888888888888,\"#fdca26\"],[1.0,\"#f0f921\"]]}],\"choropleth\":[{\"type\":\"choropleth\",\"colorbar\":{\"outlinewidth\":0,\"ticks\":\"\"}}],\"histogram2d\":[{\"type\":\"histogram2d\",\"colorbar\":{\"outlinewidth\":0,\"ticks\":\"\"},\"colorscale\":[[0.0,\"#0d0887\"],[0.1111111111111111,\"#46039f\"],[0.2222222222222222,\"#7201a8\"],[0.3333333333333333,\"#9c179e\"],[0.4444444444444444,\"#bd3786\"],[0.5555555555555556,\"#d8576b\"],[0.6666666666666666,\"#ed7953\"],[0.7777777777777778,\"#fb9f3a\"],[0.8888888888888888,\"#fdca26\"],[1.0,\"#f0f921\"]]}],\"heatmap\":[{\"type\":\"heatmap\",\"colorbar\":{\"outlinewidth\":0,\"ticks\":\"\"},\"colorscale\":[[0.0,\"#0d0887\"],[0.1111111111111111,\"#46039f\"],[0.2222222222222222,\"#7201a8\"],[0.3333333333333333,\"#9c179e\"],[0.4444444444444444,\"#bd3786\"],[0.5555555555555556,\"#d8576b\"],[0.6666666666666666,\"#ed7953\"],[0.7777777777777778,\"#fb9f3a\"],[0.8888888888888888,\"#fdca26\"],[1.0,\"#f0f921\"]]}],\"heatmapgl\":[{\"type\":\"heatmapgl\",\"colorbar\":{\"outlinewidth\":0,\"ticks\":\"\"},\"colorscale\":[[0.0,\"#0d0887\"],[0.1111111111111111,\"#46039f\"],[0.2222222222222222,\"#7201a8\"],[0.3333333333333333,\"#9c179e\"],[0.4444444444444444,\"#bd3786\"],[0.5555555555555556,\"#d8576b\"],[0.6666666666666666,\"#ed7953\"],[0.7777777777777778,\"#fb9f3a\"],[0.8888888888888888,\"#fdca26\"],[1.0,\"#f0f921\"]]}],\"contourcarpet\":[{\"type\":\"contourcarpet\",\"colorbar\":{\"outlinewidth\":0,\"ticks\":\"\"}}],\"contour\":[{\"type\":\"contour\",\"colorbar\":{\"outlinewidth\":0,\"ticks\":\"\"},\"colorscale\":[[0.0,\"#0d0887\"],[0.1111111111111111,\"#46039f\"],[0.2222222222222222,\"#7201a8\"],[0.3333333333333333,\"#9c179e\"],[0.4444444444444444,\"#bd3786\"],[0.5555555555555556,\"#d8576b\"],[0.6666666666666666,\"#ed7953\"],[0.7777777777777778,\"#fb9f3a\"],[0.8888888888888888,\"#fdca26\"],[1.0,\"#f0f921\"]]}],\"surface\":[{\"type\":\"surface\",\"colorbar\":{\"outlinewidth\":0,\"ticks\":\"\"},\"colorscale\":[[0.0,\"#0d0887\"],[0.1111111111111111,\"#46039f\"],[0.2222222222222222,\"#7201a8\"],[0.3333333333333333,\"#9c179e\"],[0.4444444444444444,\"#bd3786\"],[0.5555555555555556,\"#d8576b\"],[0.6666666666666666,\"#ed7953\"],[0.7777777777777778,\"#fb9f3a\"],[0.8888888888888888,\"#fdca26\"],[1.0,\"#f0f921\"]]}],\"mesh3d\":[{\"type\":\"mesh3d\",\"colorbar\":{\"outlinewidth\":0,\"ticks\":\"\"}}],\"scatter\":[{\"fillpattern\":{\"fillmode\":\"overlay\",\"size\":10,\"solidity\":0.2},\"type\":\"scatter\"}],\"parcoords\":[{\"type\":\"parcoords\",\"line\":{\"colorbar\":{\"outlinewidth\":0,\"ticks\":\"\"}}}],\"scatterpolargl\":[{\"type\":\"scatterpolargl\",\"marker\":{\"colorbar\":{\"outlinewidth\":0,\"ticks\":\"\"}}}],\"bar\":[{\"error_x\":{\"color\":\"#2a3f5f\"},\"error_y\":{\"color\":\"#2a3f5f\"},\"marker\":{\"line\":{\"color\":\"#E5ECF6\",\"width\":0.5},\"pattern\":{\"fillmode\":\"overlay\",\"size\":10,\"solidity\":0.2}},\"type\":\"bar\"}],\"scattergeo\":[{\"type\":\"scattergeo\",\"marker\":{\"colorbar\":{\"outlinewidth\":0,\"ticks\":\"\"}}}],\"scatterpolar\":[{\"type\":\"scatterpolar\",\"marker\":{\"colorbar\":{\"outlinewidth\":0,\"ticks\":\"\"}}}],\"histogram\":[{\"marker\":{\"pattern\":{\"fillmode\":\"overlay\",\"size\":10,\"solidity\":0.2}},\"type\":\"histogram\"}],\"scattergl\":[{\"type\":\"scattergl\",\"marker\":{\"colorbar\":{\"outlinewidth\":0,\"ticks\":\"\"}}}],\"scatter3d\":[{\"type\":\"scatter3d\",\"line\":{\"colorbar\":{\"outlinewidth\":0,\"ticks\":\"\"}},\"marker\":{\"colorbar\":{\"outlinewidth\":0,\"ticks\":\"\"}}}],\"scattermapbox\":[{\"type\":\"scattermapbox\",\"marker\":{\"colorbar\":{\"outlinewidth\":0,\"ticks\":\"\"}}}],\"scatterternary\":[{\"type\":\"scatterternary\",\"marker\":{\"colorbar\":{\"outlinewidth\":0,\"ticks\":\"\"}}}],\"scattercarpet\":[{\"type\":\"scattercarpet\",\"marker\":{\"colorbar\":{\"outlinewidth\":0,\"ticks\":\"\"}}}],\"carpet\":[{\"aaxis\":{\"endlinecolor\":\"#2a3f5f\",\"gridcolor\":\"white\",\"linecolor\":\"white\",\"minorgridcolor\":\"white\",\"startlinecolor\":\"#2a3f5f\"},\"baxis\":{\"endlinecolor\":\"#2a3f5f\",\"gridcolor\":\"white\",\"linecolor\":\"white\",\"minorgridcolor\":\"white\",\"startlinecolor\":\"#2a3f5f\"},\"type\":\"carpet\"}],\"table\":[{\"cells\":{\"fill\":{\"color\":\"#EBF0F8\"},\"line\":{\"color\":\"white\"}},\"header\":{\"fill\":{\"color\":\"#C8D4E3\"},\"line\":{\"color\":\"white\"}},\"type\":\"table\"}],\"barpolar\":[{\"marker\":{\"line\":{\"color\":\"#E5ECF6\",\"width\":0.5},\"pattern\":{\"fillmode\":\"overlay\",\"size\":10,\"solidity\":0.2}},\"type\":\"barpolar\"}],\"pie\":[{\"automargin\":true,\"type\":\"pie\"}]},\"layout\":{\"autotypenumbers\":\"strict\",\"colorway\":[\"#636efa\",\"#EF553B\",\"#00cc96\",\"#ab63fa\",\"#FFA15A\",\"#19d3f3\",\"#FF6692\",\"#B6E880\",\"#FF97FF\",\"#FECB52\"],\"font\":{\"color\":\"#2a3f5f\"},\"hovermode\":\"closest\",\"hoverlabel\":{\"align\":\"left\"},\"paper_bgcolor\":\"white\",\"plot_bgcolor\":\"#E5ECF6\",\"polar\":{\"bgcolor\":\"#E5ECF6\",\"angularaxis\":{\"gridcolor\":\"white\",\"linecolor\":\"white\",\"ticks\":\"\"},\"radialaxis\":{\"gridcolor\":\"white\",\"linecolor\":\"white\",\"ticks\":\"\"}},\"ternary\":{\"bgcolor\":\"#E5ECF6\",\"aaxis\":{\"gridcolor\":\"white\",\"linecolor\":\"white\",\"ticks\":\"\"},\"baxis\":{\"gridcolor\":\"white\",\"linecolor\":\"white\",\"ticks\":\"\"},\"caxis\":{\"gridcolor\":\"white\",\"linecolor\":\"white\",\"ticks\":\"\"}},\"coloraxis\":{\"colorbar\":{\"outlinewidth\":0,\"ticks\":\"\"}},\"colorscale\":{\"sequential\":[[0.0,\"#0d0887\"],[0.1111111111111111,\"#46039f\"],[0.2222222222222222,\"#7201a8\"],[0.3333333333333333,\"#9c179e\"],[0.4444444444444444,\"#bd3786\"],[0.5555555555555556,\"#d8576b\"],[0.6666666666666666,\"#ed7953\"],[0.7777777777777778,\"#fb9f3a\"],[0.8888888888888888,\"#fdca26\"],[1.0,\"#f0f921\"]],\"sequentialminus\":[[0.0,\"#0d0887\"],[0.1111111111111111,\"#46039f\"],[0.2222222222222222,\"#7201a8\"],[0.3333333333333333,\"#9c179e\"],[0.4444444444444444,\"#bd3786\"],[0.5555555555555556,\"#d8576b\"],[0.6666666666666666,\"#ed7953\"],[0.7777777777777778,\"#fb9f3a\"],[0.8888888888888888,\"#fdca26\"],[1.0,\"#f0f921\"]],\"diverging\":[[0,\"#8e0152\"],[0.1,\"#c51b7d\"],[0.2,\"#de77ae\"],[0.3,\"#f1b6da\"],[0.4,\"#fde0ef\"],[0.5,\"#f7f7f7\"],[0.6,\"#e6f5d0\"],[0.7,\"#b8e186\"],[0.8,\"#7fbc41\"],[0.9,\"#4d9221\"],[1,\"#276419\"]]},\"xaxis\":{\"gridcolor\":\"white\",\"linecolor\":\"white\",\"ticks\":\"\",\"title\":{\"standoff\":15},\"zerolinecolor\":\"white\",\"automargin\":true,\"zerolinewidth\":2},\"yaxis\":{\"gridcolor\":\"white\",\"linecolor\":\"white\",\"ticks\":\"\",\"title\":{\"standoff\":15},\"zerolinecolor\":\"white\",\"automargin\":true,\"zerolinewidth\":2},\"scene\":{\"xaxis\":{\"backgroundcolor\":\"#E5ECF6\",\"gridcolor\":\"white\",\"linecolor\":\"white\",\"showbackground\":true,\"ticks\":\"\",\"zerolinecolor\":\"white\",\"gridwidth\":2},\"yaxis\":{\"backgroundcolor\":\"#E5ECF6\",\"gridcolor\":\"white\",\"linecolor\":\"white\",\"showbackground\":true,\"ticks\":\"\",\"zerolinecolor\":\"white\",\"gridwidth\":2},\"zaxis\":{\"backgroundcolor\":\"#E5ECF6\",\"gridcolor\":\"white\",\"linecolor\":\"white\",\"showbackground\":true,\"ticks\":\"\",\"zerolinecolor\":\"white\",\"gridwidth\":2}},\"shapedefaults\":{\"line\":{\"color\":\"#2a3f5f\"}},\"annotationdefaults\":{\"arrowcolor\":\"#2a3f5f\",\"arrowhead\":0,\"arrowwidth\":1},\"geo\":{\"bgcolor\":\"white\",\"landcolor\":\"#E5ECF6\",\"subunitcolor\":\"white\",\"showland\":true,\"showlakes\":true,\"lakecolor\":\"white\"},\"title\":{\"x\":0.05},\"mapbox\":{\"style\":\"light\"}}},\"xaxis\":{\"anchor\":\"y\",\"domain\":[0.0,1.0],\"title\":{\"text\":\"index\"}},\"yaxis\":{\"anchor\":\"x\",\"domain\":[0.0,1.0],\"title\":{\"text\":\"PC2\"}},\"coloraxis\":{\"colorbar\":{\"title\":{\"text\":\"PC2\"}},\"colorscale\":[[0.0,\"#0d0887\"],[0.1111111111111111,\"#46039f\"],[0.2222222222222222,\"#7201a8\"],[0.3333333333333333,\"#9c179e\"],[0.4444444444444444,\"#bd3786\"],[0.5555555555555556,\"#d8576b\"],[0.6666666666666666,\"#ed7953\"],[0.7777777777777778,\"#fb9f3a\"],[0.8888888888888888,\"#fdca26\"],[1.0,\"#f0f921\"]]},\"legend\":{\"tracegroupgap\":0},\"title\":{\"text\":\"PC2 loadings\"},\"barmode\":\"relative\"},                        {\"responsive\": true}                    ).then(function(){\n",
       "                            \n",
       "var gd = document.getElementById('12db0537-5103-4222-bbff-d1f657166a0a');\n",
       "var x = new MutationObserver(function (mutations, observer) {{\n",
       "        var display = window.getComputedStyle(gd).display;\n",
       "        if (!display || display === 'none') {{\n",
       "            console.log([gd, 'removed!']);\n",
       "            Plotly.purge(gd);\n",
       "            observer.disconnect();\n",
       "        }}\n",
       "}});\n",
       "\n",
       "// Listen for the removal of the full notebook cells\n",
       "var notebookContainer = gd.closest('#notebook-container');\n",
       "if (notebookContainer) {{\n",
       "    x.observe(notebookContainer, {childList: true});\n",
       "}}\n",
       "\n",
       "// Listen for the clearing of the current output cell\n",
       "var outputEl = gd.closest('.output');\n",
       "if (outputEl) {{\n",
       "    x.observe(outputEl, {childList: true});\n",
       "}}\n",
       "\n",
       "                        })                };                });            </script>        </div>"
      ]
     },
     "metadata": {},
     "output_type": "display_data"
    }
   ],
   "source": [
    "fig = px.bar(loadings, \n",
    "             x=loadings.index, \n",
    "             y='PC2', \n",
    "             color='PC2', \n",
    "             title = 'PC2 loadings')\n",
    "fig.show()"
   ]
  },
  {
   "cell_type": "markdown",
   "id": "ce37d77f",
   "metadata": {},
   "source": [
    "<A HREF=\"https://plotly.com/python/figure-factory-table/\">Plotly Figure Factory</A>"
   ]
  },
  {
   "cell_type": "code",
   "execution_count": 81,
   "id": "36772d0f",
   "metadata": {},
   "outputs": [
    {
     "data": {
      "application/vnd.plotly.v1+json": {
       "config": {
        "plotlyServerURL": "https://plot.ly"
       },
       "data": [
        {
         "colorscale": [
          [
           0,
           "#00083e"
          ],
          [
           0.5,
           "#ededee"
          ],
          [
           1,
           "#ffffff"
          ]
         ],
         "hoverinfo": "none",
         "opacity": 0.75,
         "showscale": false,
         "type": "heatmap",
         "z": [
          [
           0,
           0,
           0
          ],
          [
           0.5,
           0.5,
           0.5
          ],
          [
           1,
           1,
           1
          ],
          [
           0.5,
           0.5,
           0.5
          ],
          [
           1,
           1,
           1
          ],
          [
           0.5,
           0.5,
           0.5
          ],
          [
           1,
           1,
           1
          ],
          [
           0.5,
           0.5,
           0.5
          ],
          [
           1,
           1,
           1
          ],
          [
           0.5,
           0.5,
           0.5
          ],
          [
           1,
           1,
           1
          ],
          [
           0.5,
           0.5,
           0.5
          ],
          [
           1,
           1,
           1
          ],
          [
           0.5,
           0.5,
           0.5
          ],
          [
           1,
           1,
           1
          ],
          [
           0.5,
           0.5,
           0.5
          ],
          [
           1,
           1,
           1
          ],
          [
           0.5,
           0.5,
           0.5
          ],
          [
           1,
           1,
           1
          ],
          [
           0.5,
           0.5,
           0.5
          ],
          [
           1,
           1,
           1
          ],
          [
           0.5,
           0.5,
           0.5
          ],
          [
           1,
           1,
           1
          ],
          [
           0.5,
           0.5,
           0.5
          ],
          [
           1,
           1,
           1
          ],
          [
           0.5,
           0.5,
           0.5
          ],
          [
           1,
           1,
           1
          ],
          [
           0.5,
           0.5,
           0.5
          ],
          [
           1,
           1,
           1
          ],
          [
           0.5,
           0.5,
           0.5
          ],
          [
           1,
           1,
           1
          ],
          [
           0.5,
           0.5,
           0.5
          ],
          [
           1,
           1,
           1
          ],
          [
           0.5,
           0.5,
           0.5
          ],
          [
           1,
           1,
           1
          ],
          [
           0.5,
           0.5,
           0.5
          ],
          [
           1,
           1,
           1
          ],
          [
           0.5,
           0.5,
           0.5
          ],
          [
           1,
           1,
           1
          ],
          [
           0.5,
           0.5,
           0.5
          ],
          [
           1,
           1,
           1
          ],
          [
           0.5,
           0.5,
           0.5
          ],
          [
           1,
           1,
           1
          ],
          [
           0.5,
           0.5,
           0.5
          ],
          [
           1,
           1,
           1
          ],
          [
           0.5,
           0.5,
           0.5
          ],
          [
           1,
           1,
           1
          ],
          [
           0.5,
           0.5,
           0.5
          ],
          [
           1,
           1,
           1
          ],
          [
           0.5,
           0.5,
           0.5
          ],
          [
           1,
           1,
           1
          ]
         ]
        }
       ],
       "layout": {
        "annotations": [
         {
          "align": "left",
          "font": {
           "color": "#ffffff"
          },
          "showarrow": false,
          "text": "<b>PC1</b>",
          "x": -0.45,
          "xanchor": "left",
          "xref": "x",
          "y": 0,
          "yref": "y"
         },
         {
          "align": "left",
          "font": {
           "color": "#ffffff"
          },
          "showarrow": false,
          "text": "<b>PC2</b>",
          "x": 0.55,
          "xanchor": "left",
          "xref": "x",
          "y": 0,
          "yref": "y"
         },
         {
          "align": "left",
          "font": {
           "color": "#ffffff"
          },
          "showarrow": false,
          "text": "<b>var</b>",
          "x": 1.55,
          "xanchor": "left",
          "xref": "x",
          "y": 0,
          "yref": "y"
         },
         {
          "align": "left",
          "font": {
           "color": "#000000"
          },
          "showarrow": false,
          "text": "-0.167",
          "x": -0.45,
          "xanchor": "left",
          "xref": "x",
          "y": 1,
          "yref": "y"
         },
         {
          "align": "left",
          "font": {
           "color": "#000000"
          },
          "showarrow": false,
          "text": "0.172",
          "x": 0.55,
          "xanchor": "left",
          "xref": "x",
          "y": 1,
          "yref": "y"
         },
         {
          "align": "left",
          "font": {
           "color": "#000000"
          },
          "showarrow": false,
          "text": "ADJ",
          "x": 1.55,
          "xanchor": "left",
          "xref": "x",
          "y": 1,
          "yref": "y"
         },
         {
          "align": "left",
          "font": {
           "color": "#000000"
          },
          "showarrow": false,
          "text": "-0.169",
          "x": -0.45,
          "xanchor": "left",
          "xref": "x",
          "y": 2,
          "yref": "y"
         },
         {
          "align": "left",
          "font": {
           "color": "#000000"
          },
          "showarrow": false,
          "text": "0.188",
          "x": 0.55,
          "xanchor": "left",
          "xref": "x",
          "y": 2,
          "yref": "y"
         },
         {
          "align": "left",
          "font": {
           "color": "#000000"
          },
          "showarrow": false,
          "text": "ADP",
          "x": 1.55,
          "xanchor": "left",
          "xref": "x",
          "y": 2,
          "yref": "y"
         },
         {
          "align": "left",
          "font": {
           "color": "#000000"
          },
          "showarrow": false,
          "text": "-0.025",
          "x": -0.45,
          "xanchor": "left",
          "xref": "x",
          "y": 3,
          "yref": "y"
         },
         {
          "align": "left",
          "font": {
           "color": "#000000"
          },
          "showarrow": false,
          "text": "0.034",
          "x": 0.55,
          "xanchor": "left",
          "xref": "x",
          "y": 3,
          "yref": "y"
         },
         {
          "align": "left",
          "font": {
           "color": "#000000"
          },
          "showarrow": false,
          "text": "ADV",
          "x": 1.55,
          "xanchor": "left",
          "xref": "x",
          "y": 3,
          "yref": "y"
         },
         {
          "align": "left",
          "font": {
           "color": "#000000"
          },
          "showarrow": false,
          "text": "-0.146",
          "x": -0.45,
          "xanchor": "left",
          "xref": "x",
          "y": 4,
          "yref": "y"
         },
         {
          "align": "left",
          "font": {
           "color": "#000000"
          },
          "showarrow": false,
          "text": "0.185",
          "x": 0.55,
          "xanchor": "left",
          "xref": "x",
          "y": 4,
          "yref": "y"
         },
         {
          "align": "left",
          "font": {
           "color": "#000000"
          },
          "showarrow": false,
          "text": "AUX",
          "x": 1.55,
          "xanchor": "left",
          "xref": "x",
          "y": 4,
          "yref": "y"
         },
         {
          "align": "left",
          "font": {
           "color": "#000000"
          },
          "showarrow": false,
          "text": "-0.116",
          "x": -0.45,
          "xanchor": "left",
          "xref": "x",
          "y": 5,
          "yref": "y"
         },
         {
          "align": "left",
          "font": {
           "color": "#000000"
          },
          "showarrow": false,
          "text": "0.114",
          "x": 0.55,
          "xanchor": "left",
          "xref": "x",
          "y": 5,
          "yref": "y"
         },
         {
          "align": "left",
          "font": {
           "color": "#000000"
          },
          "showarrow": false,
          "text": "CCONJ",
          "x": 1.55,
          "xanchor": "left",
          "xref": "x",
          "y": 5,
          "yref": "y"
         },
         {
          "align": "left",
          "font": {
           "color": "#000000"
          },
          "showarrow": false,
          "text": "-0.171",
          "x": -0.45,
          "xanchor": "left",
          "xref": "x",
          "y": 6,
          "yref": "y"
         },
         {
          "align": "left",
          "font": {
           "color": "#000000"
          },
          "showarrow": false,
          "text": "0.188",
          "x": 0.55,
          "xanchor": "left",
          "xref": "x",
          "y": 6,
          "yref": "y"
         },
         {
          "align": "left",
          "font": {
           "color": "#000000"
          },
          "showarrow": false,
          "text": "DET",
          "x": 1.55,
          "xanchor": "left",
          "xref": "x",
          "y": 6,
          "yref": "y"
         },
         {
          "align": "left",
          "font": {
           "color": "#000000"
          },
          "showarrow": false,
          "text": "0.161",
          "x": -0.45,
          "xanchor": "left",
          "xref": "x",
          "y": 7,
          "yref": "y"
         },
         {
          "align": "left",
          "font": {
           "color": "#000000"
          },
          "showarrow": false,
          "text": "-0.057",
          "x": 0.55,
          "xanchor": "left",
          "xref": "x",
          "y": 7,
          "yref": "y"
         },
         {
          "align": "left",
          "font": {
           "color": "#000000"
          },
          "showarrow": false,
          "text": "INTJ",
          "x": 1.55,
          "xanchor": "left",
          "xref": "x",
          "y": 7,
          "yref": "y"
         },
         {
          "align": "left",
          "font": {
           "color": "#000000"
          },
          "showarrow": false,
          "text": "-0.176",
          "x": -0.45,
          "xanchor": "left",
          "xref": "x",
          "y": 8,
          "yref": "y"
         },
         {
          "align": "left",
          "font": {
           "color": "#000000"
          },
          "showarrow": false,
          "text": "0.183",
          "x": 0.55,
          "xanchor": "left",
          "xref": "x",
          "y": 8,
          "yref": "y"
         },
         {
          "align": "left",
          "font": {
           "color": "#000000"
          },
          "showarrow": false,
          "text": "NOUN",
          "x": 1.55,
          "xanchor": "left",
          "xref": "x",
          "y": 8,
          "yref": "y"
         },
         {
          "align": "left",
          "font": {
           "color": "#000000"
          },
          "showarrow": false,
          "text": "-0.007",
          "x": -0.45,
          "xanchor": "left",
          "xref": "x",
          "y": 9,
          "yref": "y"
         },
         {
          "align": "left",
          "font": {
           "color": "#000000"
          },
          "showarrow": false,
          "text": "-0.115",
          "x": 0.55,
          "xanchor": "left",
          "xref": "x",
          "y": 9,
          "yref": "y"
         },
         {
          "align": "left",
          "font": {
           "color": "#000000"
          },
          "showarrow": false,
          "text": "NUM",
          "x": 1.55,
          "xanchor": "left",
          "xref": "x",
          "y": 9,
          "yref": "y"
         },
         {
          "align": "left",
          "font": {
           "color": "#000000"
          },
          "showarrow": false,
          "text": "-0.152",
          "x": -0.45,
          "xanchor": "left",
          "xref": "x",
          "y": 10,
          "yref": "y"
         },
         {
          "align": "left",
          "font": {
           "color": "#000000"
          },
          "showarrow": false,
          "text": "0.162",
          "x": 0.55,
          "xanchor": "left",
          "xref": "x",
          "y": 10,
          "yref": "y"
         },
         {
          "align": "left",
          "font": {
           "color": "#000000"
          },
          "showarrow": false,
          "text": "PART",
          "x": 1.55,
          "xanchor": "left",
          "xref": "x",
          "y": 10,
          "yref": "y"
         },
         {
          "align": "left",
          "font": {
           "color": "#000000"
          },
          "showarrow": false,
          "text": "-0.057",
          "x": -0.45,
          "xanchor": "left",
          "xref": "x",
          "y": 11,
          "yref": "y"
         },
         {
          "align": "left",
          "font": {
           "color": "#000000"
          },
          "showarrow": false,
          "text": "0.048",
          "x": 0.55,
          "xanchor": "left",
          "xref": "x",
          "y": 11,
          "yref": "y"
         },
         {
          "align": "left",
          "font": {
           "color": "#000000"
          },
          "showarrow": false,
          "text": "PRON",
          "x": 1.55,
          "xanchor": "left",
          "xref": "x",
          "y": 11,
          "yref": "y"
         },
         {
          "align": "left",
          "font": {
           "color": "#000000"
          },
          "showarrow": false,
          "text": "-0.137",
          "x": -0.45,
          "xanchor": "left",
          "xref": "x",
          "y": 12,
          "yref": "y"
         },
         {
          "align": "left",
          "font": {
           "color": "#000000"
          },
          "showarrow": false,
          "text": "0.128",
          "x": 0.55,
          "xanchor": "left",
          "xref": "x",
          "y": 12,
          "yref": "y"
         },
         {
          "align": "left",
          "font": {
           "color": "#000000"
          },
          "showarrow": false,
          "text": "PROPN",
          "x": 1.55,
          "xanchor": "left",
          "xref": "x",
          "y": 12,
          "yref": "y"
         },
         {
          "align": "left",
          "font": {
           "color": "#000000"
          },
          "showarrow": false,
          "text": "-0.171",
          "x": -0.45,
          "xanchor": "left",
          "xref": "x",
          "y": 13,
          "yref": "y"
         },
         {
          "align": "left",
          "font": {
           "color": "#000000"
          },
          "showarrow": false,
          "text": "0.189",
          "x": 0.55,
          "xanchor": "left",
          "xref": "x",
          "y": 13,
          "yref": "y"
         },
         {
          "align": "left",
          "font": {
           "color": "#000000"
          },
          "showarrow": false,
          "text": "PUNCT",
          "x": 1.55,
          "xanchor": "left",
          "xref": "x",
          "y": 13,
          "yref": "y"
         },
         {
          "align": "left",
          "font": {
           "color": "#000000"
          },
          "showarrow": false,
          "text": "-0.018",
          "x": -0.45,
          "xanchor": "left",
          "xref": "x",
          "y": 14,
          "yref": "y"
         },
         {
          "align": "left",
          "font": {
           "color": "#000000"
          },
          "showarrow": false,
          "text": "0.026",
          "x": 0.55,
          "xanchor": "left",
          "xref": "x",
          "y": 14,
          "yref": "y"
         },
         {
          "align": "left",
          "font": {
           "color": "#000000"
          },
          "showarrow": false,
          "text": "SCONJ",
          "x": 1.55,
          "xanchor": "left",
          "xref": "x",
          "y": 14,
          "yref": "y"
         },
         {
          "align": "left",
          "font": {
           "color": "#000000"
          },
          "showarrow": false,
          "text": "0.076",
          "x": -0.45,
          "xanchor": "left",
          "xref": "x",
          "y": 15,
          "yref": "y"
         },
         {
          "align": "left",
          "font": {
           "color": "#000000"
          },
          "showarrow": false,
          "text": "-0.159",
          "x": 0.55,
          "xanchor": "left",
          "xref": "x",
          "y": 15,
          "yref": "y"
         },
         {
          "align": "left",
          "font": {
           "color": "#000000"
          },
          "showarrow": false,
          "text": "SYM",
          "x": 1.55,
          "xanchor": "left",
          "xref": "x",
          "y": 15,
          "yref": "y"
         },
         {
          "align": "left",
          "font": {
           "color": "#000000"
          },
          "showarrow": false,
          "text": "-0.171",
          "x": -0.45,
          "xanchor": "left",
          "xref": "x",
          "y": 16,
          "yref": "y"
         },
         {
          "align": "left",
          "font": {
           "color": "#000000"
          },
          "showarrow": false,
          "text": "0.194",
          "x": 0.55,
          "xanchor": "left",
          "xref": "x",
          "y": 16,
          "yref": "y"
         },
         {
          "align": "left",
          "font": {
           "color": "#000000"
          },
          "showarrow": false,
          "text": "VERB",
          "x": 1.55,
          "xanchor": "left",
          "xref": "x",
          "y": 16,
          "yref": "y"
         },
         {
          "align": "left",
          "font": {
           "color": "#000000"
          },
          "showarrow": false,
          "text": "-0.043",
          "x": -0.45,
          "xanchor": "left",
          "xref": "x",
          "y": 17,
          "yref": "y"
         },
         {
          "align": "left",
          "font": {
           "color": "#000000"
          },
          "showarrow": false,
          "text": "-0.002",
          "x": 0.55,
          "xanchor": "left",
          "xref": "x",
          "y": 17,
          "yref": "y"
         },
         {
          "align": "left",
          "font": {
           "color": "#000000"
          },
          "showarrow": false,
          "text": "anger",
          "x": 1.55,
          "xanchor": "left",
          "xref": "x",
          "y": 17,
          "yref": "y"
         },
         {
          "align": "left",
          "font": {
           "color": "#000000"
          },
          "showarrow": false,
          "text": "0.058",
          "x": -0.45,
          "xanchor": "left",
          "xref": "x",
          "y": 18,
          "yref": "y"
         },
         {
          "align": "left",
          "font": {
           "color": "#000000"
          },
          "showarrow": false,
          "text": "0.0",
          "x": 0.55,
          "xanchor": "left",
          "xref": "x",
          "y": 18,
          "yref": "y"
         },
         {
          "align": "left",
          "font": {
           "color": "#000000"
          },
          "showarrow": false,
          "text": "anticipation",
          "x": 1.55,
          "xanchor": "left",
          "xref": "x",
          "y": 18,
          "yref": "y"
         },
         {
          "align": "left",
          "font": {
           "color": "#000000"
          },
          "showarrow": false,
          "text": "-0.0",
          "x": -0.45,
          "xanchor": "left",
          "xref": "x",
          "y": 19,
          "yref": "y"
         },
         {
          "align": "left",
          "font": {
           "color": "#000000"
          },
          "showarrow": false,
          "text": "0.009",
          "x": 0.55,
          "xanchor": "left",
          "xref": "x",
          "y": 19,
          "yref": "y"
         },
         {
          "align": "left",
          "font": {
           "color": "#000000"
          },
          "showarrow": false,
          "text": "disgust",
          "x": 1.55,
          "xanchor": "left",
          "xref": "x",
          "y": 19,
          "yref": "y"
         },
         {
          "align": "left",
          "font": {
           "color": "#000000"
          },
          "showarrow": false,
          "text": "-0.06",
          "x": -0.45,
          "xanchor": "left",
          "xref": "x",
          "y": 20,
          "yref": "y"
         },
         {
          "align": "left",
          "font": {
           "color": "#000000"
          },
          "showarrow": false,
          "text": "0.01",
          "x": 0.55,
          "xanchor": "left",
          "xref": "x",
          "y": 20,
          "yref": "y"
         },
         {
          "align": "left",
          "font": {
           "color": "#000000"
          },
          "showarrow": false,
          "text": "fear",
          "x": 1.55,
          "xanchor": "left",
          "xref": "x",
          "y": 20,
          "yref": "y"
         },
         {
          "align": "left",
          "font": {
           "color": "#000000"
          },
          "showarrow": false,
          "text": "0.119",
          "x": -0.45,
          "xanchor": "left",
          "xref": "x",
          "y": 21,
          "yref": "y"
         },
         {
          "align": "left",
          "font": {
           "color": "#000000"
          },
          "showarrow": false,
          "text": "0.051",
          "x": 0.55,
          "xanchor": "left",
          "xref": "x",
          "y": 21,
          "yref": "y"
         },
         {
          "align": "left",
          "font": {
           "color": "#000000"
          },
          "showarrow": false,
          "text": "joy",
          "x": 1.55,
          "xanchor": "left",
          "xref": "x",
          "y": 21,
          "yref": "y"
         },
         {
          "align": "left",
          "font": {
           "color": "#000000"
          },
          "showarrow": false,
          "text": "-0.052",
          "x": -0.45,
          "xanchor": "left",
          "xref": "x",
          "y": 22,
          "yref": "y"
         },
         {
          "align": "left",
          "font": {
           "color": "#000000"
          },
          "showarrow": false,
          "text": "-0.025",
          "x": 0.55,
          "xanchor": "left",
          "xref": "x",
          "y": 22,
          "yref": "y"
         },
         {
          "align": "left",
          "font": {
           "color": "#000000"
          },
          "showarrow": false,
          "text": "negative",
          "x": 1.55,
          "xanchor": "left",
          "xref": "x",
          "y": 22,
          "yref": "y"
         },
         {
          "align": "left",
          "font": {
           "color": "#000000"
          },
          "showarrow": false,
          "text": "0.008",
          "x": -0.45,
          "xanchor": "left",
          "xref": "x",
          "y": 23,
          "yref": "y"
         },
         {
          "align": "left",
          "font": {
           "color": "#000000"
          },
          "showarrow": false,
          "text": "-0.011",
          "x": 0.55,
          "xanchor": "left",
          "xref": "x",
          "y": 23,
          "yref": "y"
         },
         {
          "align": "left",
          "font": {
           "color": "#000000"
          },
          "showarrow": false,
          "text": "positive",
          "x": 1.55,
          "xanchor": "left",
          "xref": "x",
          "y": 23,
          "yref": "y"
         },
         {
          "align": "left",
          "font": {
           "color": "#000000"
          },
          "showarrow": false,
          "text": "0.004",
          "x": -0.45,
          "xanchor": "left",
          "xref": "x",
          "y": 24,
          "yref": "y"
         },
         {
          "align": "left",
          "font": {
           "color": "#000000"
          },
          "showarrow": false,
          "text": "0.011",
          "x": 0.55,
          "xanchor": "left",
          "xref": "x",
          "y": 24,
          "yref": "y"
         },
         {
          "align": "left",
          "font": {
           "color": "#000000"
          },
          "showarrow": false,
          "text": "sadness",
          "x": 1.55,
          "xanchor": "left",
          "xref": "x",
          "y": 24,
          "yref": "y"
         },
         {
          "align": "left",
          "font": {
           "color": "#000000"
          },
          "showarrow": false,
          "text": "0.03",
          "x": -0.45,
          "xanchor": "left",
          "xref": "x",
          "y": 25,
          "yref": "y"
         },
         {
          "align": "left",
          "font": {
           "color": "#000000"
          },
          "showarrow": false,
          "text": "0.02",
          "x": 0.55,
          "xanchor": "left",
          "xref": "x",
          "y": 25,
          "yref": "y"
         },
         {
          "align": "left",
          "font": {
           "color": "#000000"
          },
          "showarrow": false,
          "text": "surprise",
          "x": 1.55,
          "xanchor": "left",
          "xref": "x",
          "y": 25,
          "yref": "y"
         },
         {
          "align": "left",
          "font": {
           "color": "#000000"
          },
          "showarrow": false,
          "text": "-0.005",
          "x": -0.45,
          "xanchor": "left",
          "xref": "x",
          "y": 26,
          "yref": "y"
         },
         {
          "align": "left",
          "font": {
           "color": "#000000"
          },
          "showarrow": false,
          "text": "-0.024",
          "x": 0.55,
          "xanchor": "left",
          "xref": "x",
          "y": 26,
          "yref": "y"
         },
         {
          "align": "left",
          "font": {
           "color": "#000000"
          },
          "showarrow": false,
          "text": "trust",
          "x": 1.55,
          "xanchor": "left",
          "xref": "x",
          "y": 26,
          "yref": "y"
         },
         {
          "align": "left",
          "font": {
           "color": "#000000"
          },
          "showarrow": false,
          "text": "0.173",
          "x": -0.45,
          "xanchor": "left",
          "xref": "x",
          "y": 27,
          "yref": "y"
         },
         {
          "align": "left",
          "font": {
           "color": "#000000"
          },
          "showarrow": false,
          "text": "-0.135",
          "x": 0.55,
          "xanchor": "left",
          "xref": "x",
          "y": 27,
          "yref": "y"
         },
         {
          "align": "left",
          "font": {
           "color": "#000000"
          },
          "showarrow": false,
          "text": "num_unique_words",
          "x": 1.55,
          "xanchor": "left",
          "xref": "x",
          "y": 27,
          "yref": "y"
         },
         {
          "align": "left",
          "font": {
           "color": "#000000"
          },
          "showarrow": false,
          "text": "-0.175",
          "x": -0.45,
          "xanchor": "left",
          "xref": "x",
          "y": 28,
          "yref": "y"
         },
         {
          "align": "left",
          "font": {
           "color": "#000000"
          },
          "showarrow": false,
          "text": "-0.159",
          "x": 0.55,
          "xanchor": "left",
          "xref": "x",
          "y": 28,
          "yref": "y"
         },
         {
          "align": "left",
          "font": {
           "color": "#000000"
          },
          "showarrow": false,
          "text": "depth",
          "x": 1.55,
          "xanchor": "left",
          "xref": "x",
          "y": 28,
          "yref": "y"
         },
         {
          "align": "left",
          "font": {
           "color": "#000000"
          },
          "showarrow": false,
          "text": "0.105",
          "x": -0.45,
          "xanchor": "left",
          "xref": "x",
          "y": 29,
          "yref": "y"
         },
         {
          "align": "left",
          "font": {
           "color": "#000000"
          },
          "showarrow": false,
          "text": "0.088",
          "x": 0.55,
          "xanchor": "left",
          "xref": "x",
          "y": 29,
          "yref": "y"
         },
         {
          "align": "left",
          "font": {
           "color": "#000000"
          },
          "showarrow": false,
          "text": "TBsubjectivity",
          "x": 1.55,
          "xanchor": "left",
          "xref": "x",
          "y": 29,
          "yref": "y"
         },
         {
          "align": "left",
          "font": {
           "color": "#000000"
          },
          "showarrow": false,
          "text": "0.115",
          "x": -0.45,
          "xanchor": "left",
          "xref": "x",
          "y": 30,
          "yref": "y"
         },
         {
          "align": "left",
          "font": {
           "color": "#000000"
          },
          "showarrow": false,
          "text": "0.031",
          "x": 0.55,
          "xanchor": "left",
          "xref": "x",
          "y": 30,
          "yref": "y"
         },
         {
          "align": "left",
          "font": {
           "color": "#000000"
          },
          "showarrow": false,
          "text": "TBpolarity",
          "x": 1.55,
          "xanchor": "left",
          "xref": "x",
          "y": 30,
          "yref": "y"
         },
         {
          "align": "left",
          "font": {
           "color": "#000000"
          },
          "showarrow": false,
          "text": "-0.158",
          "x": -0.45,
          "xanchor": "left",
          "xref": "x",
          "y": 31,
          "yref": "y"
         },
         {
          "align": "left",
          "font": {
           "color": "#000000"
          },
          "showarrow": false,
          "text": "-0.191",
          "x": 0.55,
          "xanchor": "left",
          "xref": "x",
          "y": 31,
          "yref": "y"
         },
         {
          "align": "left",
          "font": {
           "color": "#000000"
          },
          "showarrow": false,
          "text": "words_per_sentence",
          "x": 1.55,
          "xanchor": "left",
          "xref": "x",
          "y": 31,
          "yref": "y"
         },
         {
          "align": "left",
          "font": {
           "color": "#000000"
          },
          "showarrow": false,
          "text": "0.174",
          "x": -0.45,
          "xanchor": "left",
          "xref": "x",
          "y": 32,
          "yref": "y"
         },
         {
          "align": "left",
          "font": {
           "color": "#000000"
          },
          "showarrow": false,
          "text": "-0.13",
          "x": 0.55,
          "xanchor": "left",
          "xref": "x",
          "y": 32,
          "yref": "y"
         },
         {
          "align": "left",
          "font": {
           "color": "#000000"
          },
          "showarrow": false,
          "text": "char_count",
          "x": 1.55,
          "xanchor": "left",
          "xref": "x",
          "y": 32,
          "yref": "y"
         },
         {
          "align": "left",
          "font": {
           "color": "#000000"
          },
          "showarrow": false,
          "text": "0.172",
          "x": -0.45,
          "xanchor": "left",
          "xref": "x",
          "y": 33,
          "yref": "y"
         },
         {
          "align": "left",
          "font": {
           "color": "#000000"
          },
          "showarrow": false,
          "text": "-0.133",
          "x": 0.55,
          "xanchor": "left",
          "xref": "x",
          "y": 33,
          "yref": "y"
         },
         {
          "align": "left",
          "font": {
           "color": "#000000"
          },
          "showarrow": false,
          "text": "syl_count",
          "x": 1.55,
          "xanchor": "left",
          "xref": "x",
          "y": 33,
          "yref": "y"
         },
         {
          "align": "left",
          "font": {
           "color": "#000000"
          },
          "showarrow": false,
          "text": "0.182",
          "x": -0.45,
          "xanchor": "left",
          "xref": "x",
          "y": 34,
          "yref": "y"
         },
         {
          "align": "left",
          "font": {
           "color": "#000000"
          },
          "showarrow": false,
          "text": "-0.118",
          "x": 0.55,
          "xanchor": "left",
          "xref": "x",
          "y": 34,
          "yref": "y"
         },
         {
          "align": "left",
          "font": {
           "color": "#000000"
          },
          "showarrow": false,
          "text": "word_count",
          "x": 1.55,
          "xanchor": "left",
          "xref": "x",
          "y": 34,
          "yref": "y"
         },
         {
          "align": "left",
          "font": {
           "color": "#000000"
          },
          "showarrow": false,
          "text": "-0.182",
          "x": -0.45,
          "xanchor": "left",
          "xref": "x",
          "y": 35,
          "yref": "y"
         },
         {
          "align": "left",
          "font": {
           "color": "#000000"
          },
          "showarrow": false,
          "text": "-0.16",
          "x": 0.55,
          "xanchor": "left",
          "xref": "x",
          "y": 35,
          "yref": "y"
         },
         {
          "align": "left",
          "font": {
           "color": "#000000"
          },
          "showarrow": false,
          "text": "char_per_word",
          "x": 1.55,
          "xanchor": "left",
          "xref": "x",
          "y": 35,
          "yref": "y"
         },
         {
          "align": "left",
          "font": {
           "color": "#000000"
          },
          "showarrow": false,
          "text": "-0.18",
          "x": -0.45,
          "xanchor": "left",
          "xref": "x",
          "y": 36,
          "yref": "y"
         },
         {
          "align": "left",
          "font": {
           "color": "#000000"
          },
          "showarrow": false,
          "text": "-0.172",
          "x": 0.55,
          "xanchor": "left",
          "xref": "x",
          "y": 36,
          "yref": "y"
         },
         {
          "align": "left",
          "font": {
           "color": "#000000"
          },
          "showarrow": false,
          "text": "syl_per_word",
          "x": 1.55,
          "xanchor": "left",
          "xref": "x",
          "y": 36,
          "yref": "y"
         },
         {
          "align": "left",
          "font": {
           "color": "#000000"
          },
          "showarrow": false,
          "text": "0.195",
          "x": -0.45,
          "xanchor": "left",
          "xref": "x",
          "y": 37,
          "yref": "y"
         },
         {
          "align": "left",
          "font": {
           "color": "#000000"
          },
          "showarrow": false,
          "text": "-0.082",
          "x": 0.55,
          "xanchor": "left",
          "xref": "x",
          "y": 37,
          "yref": "y"
         },
         {
          "align": "left",
          "font": {
           "color": "#000000"
          },
          "showarrow": false,
          "text": "sent_count",
          "x": 1.55,
          "xanchor": "left",
          "xref": "x",
          "y": 37,
          "yref": "y"
         },
         {
          "align": "left",
          "font": {
           "color": "#000000"
          },
          "showarrow": false,
          "text": "-0.152",
          "x": -0.45,
          "xanchor": "left",
          "xref": "x",
          "y": 38,
          "yref": "y"
         },
         {
          "align": "left",
          "font": {
           "color": "#000000"
          },
          "showarrow": false,
          "text": "-0.196",
          "x": 0.55,
          "xanchor": "left",
          "xref": "x",
          "y": 38,
          "yref": "y"
         },
         {
          "align": "left",
          "font": {
           "color": "#000000"
          },
          "showarrow": false,
          "text": "word_per_sent",
          "x": 1.55,
          "xanchor": "left",
          "xref": "x",
          "y": 38,
          "yref": "y"
         },
         {
          "align": "left",
          "font": {
           "color": "#000000"
          },
          "showarrow": false,
          "text": "0.163",
          "x": -0.45,
          "xanchor": "left",
          "xref": "x",
          "y": 39,
          "yref": "y"
         },
         {
          "align": "left",
          "font": {
           "color": "#000000"
          },
          "showarrow": false,
          "text": "-0.148",
          "x": 0.55,
          "xanchor": "left",
          "xref": "x",
          "y": 39,
          "yref": "y"
         },
         {
          "align": "left",
          "font": {
           "color": "#000000"
          },
          "showarrow": false,
          "text": "dc_word_count",
          "x": 1.55,
          "xanchor": "left",
          "xref": "x",
          "y": 39,
          "yref": "y"
         },
         {
          "align": "left",
          "font": {
           "color": "#000000"
          },
          "showarrow": false,
          "text": "0.142",
          "x": -0.45,
          "xanchor": "left",
          "xref": "x",
          "y": 40,
          "yref": "y"
         },
         {
          "align": "left",
          "font": {
           "color": "#000000"
          },
          "showarrow": false,
          "text": "-0.172",
          "x": 0.55,
          "xanchor": "left",
          "xref": "x",
          "y": 40,
          "yref": "y"
         },
         {
          "align": "left",
          "font": {
           "color": "#000000"
          },
          "showarrow": false,
          "text": "gf_word_count",
          "x": 1.55,
          "xanchor": "left",
          "xref": "x",
          "y": 40,
          "yref": "y"
         },
         {
          "align": "left",
          "font": {
           "color": "#000000"
          },
          "showarrow": false,
          "text": "0.142",
          "x": -0.45,
          "xanchor": "left",
          "xref": "x",
          "y": 41,
          "yref": "y"
         },
         {
          "align": "left",
          "font": {
           "color": "#000000"
          },
          "showarrow": false,
          "text": "-0.171",
          "x": 0.55,
          "xanchor": "left",
          "xref": "x",
          "y": 41,
          "yref": "y"
         },
         {
          "align": "left",
          "font": {
           "color": "#000000"
          },
          "showarrow": false,
          "text": "poly_word_count",
          "x": 1.55,
          "xanchor": "left",
          "xref": "x",
          "y": 41,
          "yref": "y"
         },
         {
          "align": "left",
          "font": {
           "color": "#000000"
          },
          "showarrow": false,
          "text": "-0.171",
          "x": -0.45,
          "xanchor": "left",
          "xref": "x",
          "y": 42,
          "yref": "y"
         },
         {
          "align": "left",
          "font": {
           "color": "#000000"
          },
          "showarrow": false,
          "text": "-0.13",
          "x": 0.55,
          "xanchor": "left",
          "xref": "x",
          "y": 42,
          "yref": "y"
         },
         {
          "align": "left",
          "font": {
           "color": "#000000"
          },
          "showarrow": false,
          "text": "dc_word_perc",
          "x": 1.55,
          "xanchor": "left",
          "xref": "x",
          "y": 42,
          "yref": "y"
         },
         {
          "align": "left",
          "font": {
           "color": "#000000"
          },
          "showarrow": false,
          "text": "-0.167",
          "x": -0.45,
          "xanchor": "left",
          "xref": "x",
          "y": 43,
          "yref": "y"
         },
         {
          "align": "left",
          "font": {
           "color": "#000000"
          },
          "showarrow": false,
          "text": "-0.184",
          "x": 0.55,
          "xanchor": "left",
          "xref": "x",
          "y": 43,
          "yref": "y"
         },
         {
          "align": "left",
          "font": {
           "color": "#000000"
          },
          "showarrow": false,
          "text": "gf_word_perc",
          "x": 1.55,
          "xanchor": "left",
          "xref": "x",
          "y": 43,
          "yref": "y"
         },
         {
          "align": "left",
          "font": {
           "color": "#000000"
          },
          "showarrow": false,
          "text": "-0.172",
          "x": -0.45,
          "xanchor": "left",
          "xref": "x",
          "y": 44,
          "yref": "y"
         },
         {
          "align": "left",
          "font": {
           "color": "#000000"
          },
          "showarrow": false,
          "text": "-0.182",
          "x": 0.55,
          "xanchor": "left",
          "xref": "x",
          "y": 44,
          "yref": "y"
         },
         {
          "align": "left",
          "font": {
           "color": "#000000"
          },
          "showarrow": false,
          "text": "poly_word_perc",
          "x": 1.55,
          "xanchor": "left",
          "xref": "x",
          "y": 44,
          "yref": "y"
         },
         {
          "align": "left",
          "font": {
           "color": "#000000"
          },
          "showarrow": false,
          "text": "-0.184",
          "x": -0.45,
          "xanchor": "left",
          "xref": "x",
          "y": 45,
          "yref": "y"
         },
         {
          "align": "left",
          "font": {
           "color": "#000000"
          },
          "showarrow": false,
          "text": "-0.208",
          "x": 0.55,
          "xanchor": "left",
          "xref": "x",
          "y": 45,
          "yref": "y"
         },
         {
          "align": "left",
          "font": {
           "color": "#000000"
          },
          "showarrow": false,
          "text": "ari",
          "x": 1.55,
          "xanchor": "left",
          "xref": "x",
          "y": 45,
          "yref": "y"
         },
         {
          "align": "left",
          "font": {
           "color": "#000000"
          },
          "showarrow": false,
          "text": "-0.185",
          "x": -0.45,
          "xanchor": "left",
          "xref": "x",
          "y": 46,
          "yref": "y"
         },
         {
          "align": "left",
          "font": {
           "color": "#000000"
          },
          "showarrow": false,
          "text": "-0.211",
          "x": 0.55,
          "xanchor": "left",
          "xref": "x",
          "y": 46,
          "yref": "y"
         },
         {
          "align": "left",
          "font": {
           "color": "#000000"
          },
          "showarrow": false,
          "text": "flesch_kincaid",
          "x": 1.55,
          "xanchor": "left",
          "xref": "x",
          "y": 46,
          "yref": "y"
         },
         {
          "align": "left",
          "font": {
           "color": "#000000"
          },
          "showarrow": false,
          "text": "-0.189",
          "x": -0.45,
          "xanchor": "left",
          "xref": "x",
          "y": 47,
          "yref": "y"
         },
         {
          "align": "left",
          "font": {
           "color": "#000000"
          },
          "showarrow": false,
          "text": "-0.174",
          "x": 0.55,
          "xanchor": "left",
          "xref": "x",
          "y": 47,
          "yref": "y"
         },
         {
          "align": "left",
          "font": {
           "color": "#000000"
          },
          "showarrow": false,
          "text": "coleman_liau",
          "x": 1.55,
          "xanchor": "left",
          "xref": "x",
          "y": 47,
          "yref": "y"
         },
         {
          "align": "left",
          "font": {
           "color": "#000000"
          },
          "showarrow": false,
          "text": "-0.18",
          "x": -0.45,
          "xanchor": "left",
          "xref": "x",
          "y": 48,
          "yref": "y"
         },
         {
          "align": "left",
          "font": {
           "color": "#000000"
          },
          "showarrow": false,
          "text": "-0.203",
          "x": 0.55,
          "xanchor": "left",
          "xref": "x",
          "y": 48,
          "yref": "y"
         },
         {
          "align": "left",
          "font": {
           "color": "#000000"
          },
          "showarrow": false,
          "text": "dale_chall",
          "x": 1.55,
          "xanchor": "left",
          "xref": "x",
          "y": 48,
          "yref": "y"
         },
         {
          "align": "left",
          "font": {
           "color": "#000000"
          },
          "showarrow": false,
          "text": "-0.179",
          "x": -0.45,
          "xanchor": "left",
          "xref": "x",
          "y": 49,
          "yref": "y"
         },
         {
          "align": "left",
          "font": {
           "color": "#000000"
          },
          "showarrow": false,
          "text": "-0.216",
          "x": 0.55,
          "xanchor": "left",
          "xref": "x",
          "y": 49,
          "yref": "y"
         },
         {
          "align": "left",
          "font": {
           "color": "#000000"
          },
          "showarrow": false,
          "text": "gunning_fog",
          "x": 1.55,
          "xanchor": "left",
          "xref": "x",
          "y": 49,
          "yref": "y"
         },
         {
          "align": "left",
          "font": {
           "color": "#000000"
          },
          "showarrow": false,
          "text": "-0.184",
          "x": -0.45,
          "xanchor": "left",
          "xref": "x",
          "y": 50,
          "yref": "y"
         },
         {
          "align": "left",
          "font": {
           "color": "#000000"
          },
          "showarrow": false,
          "text": "-0.214",
          "x": 0.55,
          "xanchor": "left",
          "xref": "x",
          "y": 50,
          "yref": "y"
         },
         {
          "align": "left",
          "font": {
           "color": "#000000"
          },
          "showarrow": false,
          "text": "smog",
          "x": 1.55,
          "xanchor": "left",
          "xref": "x",
          "y": 50,
          "yref": "y"
         }
        ],
        "autosize": false,
        "height": 700,
        "margin": {
         "b": 0,
         "l": 0,
         "r": 0,
         "t": 0
        },
        "template": {
         "data": {
          "bar": [
           {
            "error_x": {
             "color": "#2a3f5f"
            },
            "error_y": {
             "color": "#2a3f5f"
            },
            "marker": {
             "line": {
              "color": "#E5ECF6",
              "width": 0.5
             },
             "pattern": {
              "fillmode": "overlay",
              "size": 10,
              "solidity": 0.2
             }
            },
            "type": "bar"
           }
          ],
          "barpolar": [
           {
            "marker": {
             "line": {
              "color": "#E5ECF6",
              "width": 0.5
             },
             "pattern": {
              "fillmode": "overlay",
              "size": 10,
              "solidity": 0.2
             }
            },
            "type": "barpolar"
           }
          ],
          "carpet": [
           {
            "aaxis": {
             "endlinecolor": "#2a3f5f",
             "gridcolor": "white",
             "linecolor": "white",
             "minorgridcolor": "white",
             "startlinecolor": "#2a3f5f"
            },
            "baxis": {
             "endlinecolor": "#2a3f5f",
             "gridcolor": "white",
             "linecolor": "white",
             "minorgridcolor": "white",
             "startlinecolor": "#2a3f5f"
            },
            "type": "carpet"
           }
          ],
          "choropleth": [
           {
            "colorbar": {
             "outlinewidth": 0,
             "ticks": ""
            },
            "type": "choropleth"
           }
          ],
          "contour": [
           {
            "colorbar": {
             "outlinewidth": 0,
             "ticks": ""
            },
            "colorscale": [
             [
              0,
              "#0d0887"
             ],
             [
              0.1111111111111111,
              "#46039f"
             ],
             [
              0.2222222222222222,
              "#7201a8"
             ],
             [
              0.3333333333333333,
              "#9c179e"
             ],
             [
              0.4444444444444444,
              "#bd3786"
             ],
             [
              0.5555555555555556,
              "#d8576b"
             ],
             [
              0.6666666666666666,
              "#ed7953"
             ],
             [
              0.7777777777777778,
              "#fb9f3a"
             ],
             [
              0.8888888888888888,
              "#fdca26"
             ],
             [
              1,
              "#f0f921"
             ]
            ],
            "type": "contour"
           }
          ],
          "contourcarpet": [
           {
            "colorbar": {
             "outlinewidth": 0,
             "ticks": ""
            },
            "type": "contourcarpet"
           }
          ],
          "heatmap": [
           {
            "colorbar": {
             "outlinewidth": 0,
             "ticks": ""
            },
            "colorscale": [
             [
              0,
              "#0d0887"
             ],
             [
              0.1111111111111111,
              "#46039f"
             ],
             [
              0.2222222222222222,
              "#7201a8"
             ],
             [
              0.3333333333333333,
              "#9c179e"
             ],
             [
              0.4444444444444444,
              "#bd3786"
             ],
             [
              0.5555555555555556,
              "#d8576b"
             ],
             [
              0.6666666666666666,
              "#ed7953"
             ],
             [
              0.7777777777777778,
              "#fb9f3a"
             ],
             [
              0.8888888888888888,
              "#fdca26"
             ],
             [
              1,
              "#f0f921"
             ]
            ],
            "type": "heatmap"
           }
          ],
          "heatmapgl": [
           {
            "colorbar": {
             "outlinewidth": 0,
             "ticks": ""
            },
            "colorscale": [
             [
              0,
              "#0d0887"
             ],
             [
              0.1111111111111111,
              "#46039f"
             ],
             [
              0.2222222222222222,
              "#7201a8"
             ],
             [
              0.3333333333333333,
              "#9c179e"
             ],
             [
              0.4444444444444444,
              "#bd3786"
             ],
             [
              0.5555555555555556,
              "#d8576b"
             ],
             [
              0.6666666666666666,
              "#ed7953"
             ],
             [
              0.7777777777777778,
              "#fb9f3a"
             ],
             [
              0.8888888888888888,
              "#fdca26"
             ],
             [
              1,
              "#f0f921"
             ]
            ],
            "type": "heatmapgl"
           }
          ],
          "histogram": [
           {
            "marker": {
             "pattern": {
              "fillmode": "overlay",
              "size": 10,
              "solidity": 0.2
             }
            },
            "type": "histogram"
           }
          ],
          "histogram2d": [
           {
            "colorbar": {
             "outlinewidth": 0,
             "ticks": ""
            },
            "colorscale": [
             [
              0,
              "#0d0887"
             ],
             [
              0.1111111111111111,
              "#46039f"
             ],
             [
              0.2222222222222222,
              "#7201a8"
             ],
             [
              0.3333333333333333,
              "#9c179e"
             ],
             [
              0.4444444444444444,
              "#bd3786"
             ],
             [
              0.5555555555555556,
              "#d8576b"
             ],
             [
              0.6666666666666666,
              "#ed7953"
             ],
             [
              0.7777777777777778,
              "#fb9f3a"
             ],
             [
              0.8888888888888888,
              "#fdca26"
             ],
             [
              1,
              "#f0f921"
             ]
            ],
            "type": "histogram2d"
           }
          ],
          "histogram2dcontour": [
           {
            "colorbar": {
             "outlinewidth": 0,
             "ticks": ""
            },
            "colorscale": [
             [
              0,
              "#0d0887"
             ],
             [
              0.1111111111111111,
              "#46039f"
             ],
             [
              0.2222222222222222,
              "#7201a8"
             ],
             [
              0.3333333333333333,
              "#9c179e"
             ],
             [
              0.4444444444444444,
              "#bd3786"
             ],
             [
              0.5555555555555556,
              "#d8576b"
             ],
             [
              0.6666666666666666,
              "#ed7953"
             ],
             [
              0.7777777777777778,
              "#fb9f3a"
             ],
             [
              0.8888888888888888,
              "#fdca26"
             ],
             [
              1,
              "#f0f921"
             ]
            ],
            "type": "histogram2dcontour"
           }
          ],
          "mesh3d": [
           {
            "colorbar": {
             "outlinewidth": 0,
             "ticks": ""
            },
            "type": "mesh3d"
           }
          ],
          "parcoords": [
           {
            "line": {
             "colorbar": {
              "outlinewidth": 0,
              "ticks": ""
             }
            },
            "type": "parcoords"
           }
          ],
          "pie": [
           {
            "automargin": true,
            "type": "pie"
           }
          ],
          "scatter": [
           {
            "fillpattern": {
             "fillmode": "overlay",
             "size": 10,
             "solidity": 0.2
            },
            "type": "scatter"
           }
          ],
          "scatter3d": [
           {
            "line": {
             "colorbar": {
              "outlinewidth": 0,
              "ticks": ""
             }
            },
            "marker": {
             "colorbar": {
              "outlinewidth": 0,
              "ticks": ""
             }
            },
            "type": "scatter3d"
           }
          ],
          "scattercarpet": [
           {
            "marker": {
             "colorbar": {
              "outlinewidth": 0,
              "ticks": ""
             }
            },
            "type": "scattercarpet"
           }
          ],
          "scattergeo": [
           {
            "marker": {
             "colorbar": {
              "outlinewidth": 0,
              "ticks": ""
             }
            },
            "type": "scattergeo"
           }
          ],
          "scattergl": [
           {
            "marker": {
             "colorbar": {
              "outlinewidth": 0,
              "ticks": ""
             }
            },
            "type": "scattergl"
           }
          ],
          "scattermapbox": [
           {
            "marker": {
             "colorbar": {
              "outlinewidth": 0,
              "ticks": ""
             }
            },
            "type": "scattermapbox"
           }
          ],
          "scatterpolar": [
           {
            "marker": {
             "colorbar": {
              "outlinewidth": 0,
              "ticks": ""
             }
            },
            "type": "scatterpolar"
           }
          ],
          "scatterpolargl": [
           {
            "marker": {
             "colorbar": {
              "outlinewidth": 0,
              "ticks": ""
             }
            },
            "type": "scatterpolargl"
           }
          ],
          "scatterternary": [
           {
            "marker": {
             "colorbar": {
              "outlinewidth": 0,
              "ticks": ""
             }
            },
            "type": "scatterternary"
           }
          ],
          "surface": [
           {
            "colorbar": {
             "outlinewidth": 0,
             "ticks": ""
            },
            "colorscale": [
             [
              0,
              "#0d0887"
             ],
             [
              0.1111111111111111,
              "#46039f"
             ],
             [
              0.2222222222222222,
              "#7201a8"
             ],
             [
              0.3333333333333333,
              "#9c179e"
             ],
             [
              0.4444444444444444,
              "#bd3786"
             ],
             [
              0.5555555555555556,
              "#d8576b"
             ],
             [
              0.6666666666666666,
              "#ed7953"
             ],
             [
              0.7777777777777778,
              "#fb9f3a"
             ],
             [
              0.8888888888888888,
              "#fdca26"
             ],
             [
              1,
              "#f0f921"
             ]
            ],
            "type": "surface"
           }
          ],
          "table": [
           {
            "cells": {
             "fill": {
              "color": "#EBF0F8"
             },
             "line": {
              "color": "white"
             }
            },
            "header": {
             "fill": {
              "color": "#C8D4E3"
             },
             "line": {
              "color": "white"
             }
            },
            "type": "table"
           }
          ]
         },
         "layout": {
          "annotationdefaults": {
           "arrowcolor": "#2a3f5f",
           "arrowhead": 0,
           "arrowwidth": 1
          },
          "autotypenumbers": "strict",
          "coloraxis": {
           "colorbar": {
            "outlinewidth": 0,
            "ticks": ""
           }
          },
          "colorscale": {
           "diverging": [
            [
             0,
             "#8e0152"
            ],
            [
             0.1,
             "#c51b7d"
            ],
            [
             0.2,
             "#de77ae"
            ],
            [
             0.3,
             "#f1b6da"
            ],
            [
             0.4,
             "#fde0ef"
            ],
            [
             0.5,
             "#f7f7f7"
            ],
            [
             0.6,
             "#e6f5d0"
            ],
            [
             0.7,
             "#b8e186"
            ],
            [
             0.8,
             "#7fbc41"
            ],
            [
             0.9,
             "#4d9221"
            ],
            [
             1,
             "#276419"
            ]
           ],
           "sequential": [
            [
             0,
             "#0d0887"
            ],
            [
             0.1111111111111111,
             "#46039f"
            ],
            [
             0.2222222222222222,
             "#7201a8"
            ],
            [
             0.3333333333333333,
             "#9c179e"
            ],
            [
             0.4444444444444444,
             "#bd3786"
            ],
            [
             0.5555555555555556,
             "#d8576b"
            ],
            [
             0.6666666666666666,
             "#ed7953"
            ],
            [
             0.7777777777777778,
             "#fb9f3a"
            ],
            [
             0.8888888888888888,
             "#fdca26"
            ],
            [
             1,
             "#f0f921"
            ]
           ],
           "sequentialminus": [
            [
             0,
             "#0d0887"
            ],
            [
             0.1111111111111111,
             "#46039f"
            ],
            [
             0.2222222222222222,
             "#7201a8"
            ],
            [
             0.3333333333333333,
             "#9c179e"
            ],
            [
             0.4444444444444444,
             "#bd3786"
            ],
            [
             0.5555555555555556,
             "#d8576b"
            ],
            [
             0.6666666666666666,
             "#ed7953"
            ],
            [
             0.7777777777777778,
             "#fb9f3a"
            ],
            [
             0.8888888888888888,
             "#fdca26"
            ],
            [
             1,
             "#f0f921"
            ]
           ]
          },
          "colorway": [
           "#636efa",
           "#EF553B",
           "#00cc96",
           "#ab63fa",
           "#FFA15A",
           "#19d3f3",
           "#FF6692",
           "#B6E880",
           "#FF97FF",
           "#FECB52"
          ],
          "font": {
           "color": "#2a3f5f"
          },
          "geo": {
           "bgcolor": "white",
           "lakecolor": "white",
           "landcolor": "#E5ECF6",
           "showlakes": true,
           "showland": true,
           "subunitcolor": "white"
          },
          "hoverlabel": {
           "align": "left"
          },
          "hovermode": "closest",
          "mapbox": {
           "style": "light"
          },
          "paper_bgcolor": "white",
          "plot_bgcolor": "#E5ECF6",
          "polar": {
           "angularaxis": {
            "gridcolor": "white",
            "linecolor": "white",
            "ticks": ""
           },
           "bgcolor": "#E5ECF6",
           "radialaxis": {
            "gridcolor": "white",
            "linecolor": "white",
            "ticks": ""
           }
          },
          "scene": {
           "xaxis": {
            "backgroundcolor": "#E5ECF6",
            "gridcolor": "white",
            "gridwidth": 2,
            "linecolor": "white",
            "showbackground": true,
            "ticks": "",
            "zerolinecolor": "white"
           },
           "yaxis": {
            "backgroundcolor": "#E5ECF6",
            "gridcolor": "white",
            "gridwidth": 2,
            "linecolor": "white",
            "showbackground": true,
            "ticks": "",
            "zerolinecolor": "white"
           },
           "zaxis": {
            "backgroundcolor": "#E5ECF6",
            "gridcolor": "white",
            "gridwidth": 2,
            "linecolor": "white",
            "showbackground": true,
            "ticks": "",
            "zerolinecolor": "white"
           }
          },
          "shapedefaults": {
           "line": {
            "color": "#2a3f5f"
           }
          },
          "ternary": {
           "aaxis": {
            "gridcolor": "white",
            "linecolor": "white",
            "ticks": ""
           },
           "baxis": {
            "gridcolor": "white",
            "linecolor": "white",
            "ticks": ""
           },
           "bgcolor": "#E5ECF6",
           "caxis": {
            "gridcolor": "white",
            "linecolor": "white",
            "ticks": ""
           }
          },
          "title": {
           "x": 0.05
          },
          "xaxis": {
           "automargin": true,
           "gridcolor": "white",
           "linecolor": "white",
           "ticks": "",
           "title": {
            "standoff": 15
           },
           "zerolinecolor": "white",
           "zerolinewidth": 2
          },
          "yaxis": {
           "automargin": true,
           "gridcolor": "white",
           "linecolor": "white",
           "ticks": "",
           "title": {
            "standoff": 15
           },
           "zerolinecolor": "white",
           "zerolinewidth": 2
          }
         }
        },
        "width": 400,
        "xaxis": {
         "dtick": 1,
         "gridwidth": 2,
         "showticklabels": false,
         "tick0": -0.5,
         "ticks": "",
         "zeroline": false
        },
        "yaxis": {
         "autorange": "reversed",
         "dtick": 1,
         "gridwidth": 2,
         "showticklabels": false,
         "tick0": 0.5,
         "ticks": "",
         "zeroline": false
        }
       }
      },
      "text/html": [
       "<div>                            <div id=\"026068f4-2f39-482f-be29-62b3a21ea331\" class=\"plotly-graph-div\" style=\"height:700px; width:400px;\"></div>            <script type=\"text/javascript\">                require([\"plotly\"], function(Plotly) {                    window.PLOTLYENV=window.PLOTLYENV || {};                                    if (document.getElementById(\"026068f4-2f39-482f-be29-62b3a21ea331\")) {                    Plotly.newPlot(                        \"026068f4-2f39-482f-be29-62b3a21ea331\",                        [{\"colorscale\":[[0,\"#00083e\"],[0.5,\"#ededee\"],[1,\"#ffffff\"]],\"hoverinfo\":\"none\",\"opacity\":0.75,\"showscale\":false,\"z\":[[0,0,0],[0.5,0.5,0.5],[1,1,1],[0.5,0.5,0.5],[1,1,1],[0.5,0.5,0.5],[1,1,1],[0.5,0.5,0.5],[1,1,1],[0.5,0.5,0.5],[1,1,1],[0.5,0.5,0.5],[1,1,1],[0.5,0.5,0.5],[1,1,1],[0.5,0.5,0.5],[1,1,1],[0.5,0.5,0.5],[1,1,1],[0.5,0.5,0.5],[1,1,1],[0.5,0.5,0.5],[1,1,1],[0.5,0.5,0.5],[1,1,1],[0.5,0.5,0.5],[1,1,1],[0.5,0.5,0.5],[1,1,1],[0.5,0.5,0.5],[1,1,1],[0.5,0.5,0.5],[1,1,1],[0.5,0.5,0.5],[1,1,1],[0.5,0.5,0.5],[1,1,1],[0.5,0.5,0.5],[1,1,1],[0.5,0.5,0.5],[1,1,1],[0.5,0.5,0.5],[1,1,1],[0.5,0.5,0.5],[1,1,1],[0.5,0.5,0.5],[1,1,1],[0.5,0.5,0.5],[1,1,1],[0.5,0.5,0.5],[1,1,1]],\"type\":\"heatmap\"}],                        {\"annotations\":[{\"align\":\"left\",\"font\":{\"color\":\"#ffffff\"},\"showarrow\":false,\"text\":\"<b>PC1</b>\",\"x\":-0.45,\"xanchor\":\"left\",\"xref\":\"x\",\"y\":0,\"yref\":\"y\"},{\"align\":\"left\",\"font\":{\"color\":\"#ffffff\"},\"showarrow\":false,\"text\":\"<b>PC2</b>\",\"x\":0.55,\"xanchor\":\"left\",\"xref\":\"x\",\"y\":0,\"yref\":\"y\"},{\"align\":\"left\",\"font\":{\"color\":\"#ffffff\"},\"showarrow\":false,\"text\":\"<b>var</b>\",\"x\":1.55,\"xanchor\":\"left\",\"xref\":\"x\",\"y\":0,\"yref\":\"y\"},{\"align\":\"left\",\"font\":{\"color\":\"#000000\"},\"showarrow\":false,\"text\":\"-0.167\",\"x\":-0.45,\"xanchor\":\"left\",\"xref\":\"x\",\"y\":1,\"yref\":\"y\"},{\"align\":\"left\",\"font\":{\"color\":\"#000000\"},\"showarrow\":false,\"text\":\"0.172\",\"x\":0.55,\"xanchor\":\"left\",\"xref\":\"x\",\"y\":1,\"yref\":\"y\"},{\"align\":\"left\",\"font\":{\"color\":\"#000000\"},\"showarrow\":false,\"text\":\"ADJ\",\"x\":1.55,\"xanchor\":\"left\",\"xref\":\"x\",\"y\":1,\"yref\":\"y\"},{\"align\":\"left\",\"font\":{\"color\":\"#000000\"},\"showarrow\":false,\"text\":\"-0.169\",\"x\":-0.45,\"xanchor\":\"left\",\"xref\":\"x\",\"y\":2,\"yref\":\"y\"},{\"align\":\"left\",\"font\":{\"color\":\"#000000\"},\"showarrow\":false,\"text\":\"0.188\",\"x\":0.55,\"xanchor\":\"left\",\"xref\":\"x\",\"y\":2,\"yref\":\"y\"},{\"align\":\"left\",\"font\":{\"color\":\"#000000\"},\"showarrow\":false,\"text\":\"ADP\",\"x\":1.55,\"xanchor\":\"left\",\"xref\":\"x\",\"y\":2,\"yref\":\"y\"},{\"align\":\"left\",\"font\":{\"color\":\"#000000\"},\"showarrow\":false,\"text\":\"-0.025\",\"x\":-0.45,\"xanchor\":\"left\",\"xref\":\"x\",\"y\":3,\"yref\":\"y\"},{\"align\":\"left\",\"font\":{\"color\":\"#000000\"},\"showarrow\":false,\"text\":\"0.034\",\"x\":0.55,\"xanchor\":\"left\",\"xref\":\"x\",\"y\":3,\"yref\":\"y\"},{\"align\":\"left\",\"font\":{\"color\":\"#000000\"},\"showarrow\":false,\"text\":\"ADV\",\"x\":1.55,\"xanchor\":\"left\",\"xref\":\"x\",\"y\":3,\"yref\":\"y\"},{\"align\":\"left\",\"font\":{\"color\":\"#000000\"},\"showarrow\":false,\"text\":\"-0.146\",\"x\":-0.45,\"xanchor\":\"left\",\"xref\":\"x\",\"y\":4,\"yref\":\"y\"},{\"align\":\"left\",\"font\":{\"color\":\"#000000\"},\"showarrow\":false,\"text\":\"0.185\",\"x\":0.55,\"xanchor\":\"left\",\"xref\":\"x\",\"y\":4,\"yref\":\"y\"},{\"align\":\"left\",\"font\":{\"color\":\"#000000\"},\"showarrow\":false,\"text\":\"AUX\",\"x\":1.55,\"xanchor\":\"left\",\"xref\":\"x\",\"y\":4,\"yref\":\"y\"},{\"align\":\"left\",\"font\":{\"color\":\"#000000\"},\"showarrow\":false,\"text\":\"-0.116\",\"x\":-0.45,\"xanchor\":\"left\",\"xref\":\"x\",\"y\":5,\"yref\":\"y\"},{\"align\":\"left\",\"font\":{\"color\":\"#000000\"},\"showarrow\":false,\"text\":\"0.114\",\"x\":0.55,\"xanchor\":\"left\",\"xref\":\"x\",\"y\":5,\"yref\":\"y\"},{\"align\":\"left\",\"font\":{\"color\":\"#000000\"},\"showarrow\":false,\"text\":\"CCONJ\",\"x\":1.55,\"xanchor\":\"left\",\"xref\":\"x\",\"y\":5,\"yref\":\"y\"},{\"align\":\"left\",\"font\":{\"color\":\"#000000\"},\"showarrow\":false,\"text\":\"-0.171\",\"x\":-0.45,\"xanchor\":\"left\",\"xref\":\"x\",\"y\":6,\"yref\":\"y\"},{\"align\":\"left\",\"font\":{\"color\":\"#000000\"},\"showarrow\":false,\"text\":\"0.188\",\"x\":0.55,\"xanchor\":\"left\",\"xref\":\"x\",\"y\":6,\"yref\":\"y\"},{\"align\":\"left\",\"font\":{\"color\":\"#000000\"},\"showarrow\":false,\"text\":\"DET\",\"x\":1.55,\"xanchor\":\"left\",\"xref\":\"x\",\"y\":6,\"yref\":\"y\"},{\"align\":\"left\",\"font\":{\"color\":\"#000000\"},\"showarrow\":false,\"text\":\"0.161\",\"x\":-0.45,\"xanchor\":\"left\",\"xref\":\"x\",\"y\":7,\"yref\":\"y\"},{\"align\":\"left\",\"font\":{\"color\":\"#000000\"},\"showarrow\":false,\"text\":\"-0.057\",\"x\":0.55,\"xanchor\":\"left\",\"xref\":\"x\",\"y\":7,\"yref\":\"y\"},{\"align\":\"left\",\"font\":{\"color\":\"#000000\"},\"showarrow\":false,\"text\":\"INTJ\",\"x\":1.55,\"xanchor\":\"left\",\"xref\":\"x\",\"y\":7,\"yref\":\"y\"},{\"align\":\"left\",\"font\":{\"color\":\"#000000\"},\"showarrow\":false,\"text\":\"-0.176\",\"x\":-0.45,\"xanchor\":\"left\",\"xref\":\"x\",\"y\":8,\"yref\":\"y\"},{\"align\":\"left\",\"font\":{\"color\":\"#000000\"},\"showarrow\":false,\"text\":\"0.183\",\"x\":0.55,\"xanchor\":\"left\",\"xref\":\"x\",\"y\":8,\"yref\":\"y\"},{\"align\":\"left\",\"font\":{\"color\":\"#000000\"},\"showarrow\":false,\"text\":\"NOUN\",\"x\":1.55,\"xanchor\":\"left\",\"xref\":\"x\",\"y\":8,\"yref\":\"y\"},{\"align\":\"left\",\"font\":{\"color\":\"#000000\"},\"showarrow\":false,\"text\":\"-0.007\",\"x\":-0.45,\"xanchor\":\"left\",\"xref\":\"x\",\"y\":9,\"yref\":\"y\"},{\"align\":\"left\",\"font\":{\"color\":\"#000000\"},\"showarrow\":false,\"text\":\"-0.115\",\"x\":0.55,\"xanchor\":\"left\",\"xref\":\"x\",\"y\":9,\"yref\":\"y\"},{\"align\":\"left\",\"font\":{\"color\":\"#000000\"},\"showarrow\":false,\"text\":\"NUM\",\"x\":1.55,\"xanchor\":\"left\",\"xref\":\"x\",\"y\":9,\"yref\":\"y\"},{\"align\":\"left\",\"font\":{\"color\":\"#000000\"},\"showarrow\":false,\"text\":\"-0.152\",\"x\":-0.45,\"xanchor\":\"left\",\"xref\":\"x\",\"y\":10,\"yref\":\"y\"},{\"align\":\"left\",\"font\":{\"color\":\"#000000\"},\"showarrow\":false,\"text\":\"0.162\",\"x\":0.55,\"xanchor\":\"left\",\"xref\":\"x\",\"y\":10,\"yref\":\"y\"},{\"align\":\"left\",\"font\":{\"color\":\"#000000\"},\"showarrow\":false,\"text\":\"PART\",\"x\":1.55,\"xanchor\":\"left\",\"xref\":\"x\",\"y\":10,\"yref\":\"y\"},{\"align\":\"left\",\"font\":{\"color\":\"#000000\"},\"showarrow\":false,\"text\":\"-0.057\",\"x\":-0.45,\"xanchor\":\"left\",\"xref\":\"x\",\"y\":11,\"yref\":\"y\"},{\"align\":\"left\",\"font\":{\"color\":\"#000000\"},\"showarrow\":false,\"text\":\"0.048\",\"x\":0.55,\"xanchor\":\"left\",\"xref\":\"x\",\"y\":11,\"yref\":\"y\"},{\"align\":\"left\",\"font\":{\"color\":\"#000000\"},\"showarrow\":false,\"text\":\"PRON\",\"x\":1.55,\"xanchor\":\"left\",\"xref\":\"x\",\"y\":11,\"yref\":\"y\"},{\"align\":\"left\",\"font\":{\"color\":\"#000000\"},\"showarrow\":false,\"text\":\"-0.137\",\"x\":-0.45,\"xanchor\":\"left\",\"xref\":\"x\",\"y\":12,\"yref\":\"y\"},{\"align\":\"left\",\"font\":{\"color\":\"#000000\"},\"showarrow\":false,\"text\":\"0.128\",\"x\":0.55,\"xanchor\":\"left\",\"xref\":\"x\",\"y\":12,\"yref\":\"y\"},{\"align\":\"left\",\"font\":{\"color\":\"#000000\"},\"showarrow\":false,\"text\":\"PROPN\",\"x\":1.55,\"xanchor\":\"left\",\"xref\":\"x\",\"y\":12,\"yref\":\"y\"},{\"align\":\"left\",\"font\":{\"color\":\"#000000\"},\"showarrow\":false,\"text\":\"-0.171\",\"x\":-0.45,\"xanchor\":\"left\",\"xref\":\"x\",\"y\":13,\"yref\":\"y\"},{\"align\":\"left\",\"font\":{\"color\":\"#000000\"},\"showarrow\":false,\"text\":\"0.189\",\"x\":0.55,\"xanchor\":\"left\",\"xref\":\"x\",\"y\":13,\"yref\":\"y\"},{\"align\":\"left\",\"font\":{\"color\":\"#000000\"},\"showarrow\":false,\"text\":\"PUNCT\",\"x\":1.55,\"xanchor\":\"left\",\"xref\":\"x\",\"y\":13,\"yref\":\"y\"},{\"align\":\"left\",\"font\":{\"color\":\"#000000\"},\"showarrow\":false,\"text\":\"-0.018\",\"x\":-0.45,\"xanchor\":\"left\",\"xref\":\"x\",\"y\":14,\"yref\":\"y\"},{\"align\":\"left\",\"font\":{\"color\":\"#000000\"},\"showarrow\":false,\"text\":\"0.026\",\"x\":0.55,\"xanchor\":\"left\",\"xref\":\"x\",\"y\":14,\"yref\":\"y\"},{\"align\":\"left\",\"font\":{\"color\":\"#000000\"},\"showarrow\":false,\"text\":\"SCONJ\",\"x\":1.55,\"xanchor\":\"left\",\"xref\":\"x\",\"y\":14,\"yref\":\"y\"},{\"align\":\"left\",\"font\":{\"color\":\"#000000\"},\"showarrow\":false,\"text\":\"0.076\",\"x\":-0.45,\"xanchor\":\"left\",\"xref\":\"x\",\"y\":15,\"yref\":\"y\"},{\"align\":\"left\",\"font\":{\"color\":\"#000000\"},\"showarrow\":false,\"text\":\"-0.159\",\"x\":0.55,\"xanchor\":\"left\",\"xref\":\"x\",\"y\":15,\"yref\":\"y\"},{\"align\":\"left\",\"font\":{\"color\":\"#000000\"},\"showarrow\":false,\"text\":\"SYM\",\"x\":1.55,\"xanchor\":\"left\",\"xref\":\"x\",\"y\":15,\"yref\":\"y\"},{\"align\":\"left\",\"font\":{\"color\":\"#000000\"},\"showarrow\":false,\"text\":\"-0.171\",\"x\":-0.45,\"xanchor\":\"left\",\"xref\":\"x\",\"y\":16,\"yref\":\"y\"},{\"align\":\"left\",\"font\":{\"color\":\"#000000\"},\"showarrow\":false,\"text\":\"0.194\",\"x\":0.55,\"xanchor\":\"left\",\"xref\":\"x\",\"y\":16,\"yref\":\"y\"},{\"align\":\"left\",\"font\":{\"color\":\"#000000\"},\"showarrow\":false,\"text\":\"VERB\",\"x\":1.55,\"xanchor\":\"left\",\"xref\":\"x\",\"y\":16,\"yref\":\"y\"},{\"align\":\"left\",\"font\":{\"color\":\"#000000\"},\"showarrow\":false,\"text\":\"-0.043\",\"x\":-0.45,\"xanchor\":\"left\",\"xref\":\"x\",\"y\":17,\"yref\":\"y\"},{\"align\":\"left\",\"font\":{\"color\":\"#000000\"},\"showarrow\":false,\"text\":\"-0.002\",\"x\":0.55,\"xanchor\":\"left\",\"xref\":\"x\",\"y\":17,\"yref\":\"y\"},{\"align\":\"left\",\"font\":{\"color\":\"#000000\"},\"showarrow\":false,\"text\":\"anger\",\"x\":1.55,\"xanchor\":\"left\",\"xref\":\"x\",\"y\":17,\"yref\":\"y\"},{\"align\":\"left\",\"font\":{\"color\":\"#000000\"},\"showarrow\":false,\"text\":\"0.058\",\"x\":-0.45,\"xanchor\":\"left\",\"xref\":\"x\",\"y\":18,\"yref\":\"y\"},{\"align\":\"left\",\"font\":{\"color\":\"#000000\"},\"showarrow\":false,\"text\":\"0.0\",\"x\":0.55,\"xanchor\":\"left\",\"xref\":\"x\",\"y\":18,\"yref\":\"y\"},{\"align\":\"left\",\"font\":{\"color\":\"#000000\"},\"showarrow\":false,\"text\":\"anticipation\",\"x\":1.55,\"xanchor\":\"left\",\"xref\":\"x\",\"y\":18,\"yref\":\"y\"},{\"align\":\"left\",\"font\":{\"color\":\"#000000\"},\"showarrow\":false,\"text\":\"-0.0\",\"x\":-0.45,\"xanchor\":\"left\",\"xref\":\"x\",\"y\":19,\"yref\":\"y\"},{\"align\":\"left\",\"font\":{\"color\":\"#000000\"},\"showarrow\":false,\"text\":\"0.009\",\"x\":0.55,\"xanchor\":\"left\",\"xref\":\"x\",\"y\":19,\"yref\":\"y\"},{\"align\":\"left\",\"font\":{\"color\":\"#000000\"},\"showarrow\":false,\"text\":\"disgust\",\"x\":1.55,\"xanchor\":\"left\",\"xref\":\"x\",\"y\":19,\"yref\":\"y\"},{\"align\":\"left\",\"font\":{\"color\":\"#000000\"},\"showarrow\":false,\"text\":\"-0.06\",\"x\":-0.45,\"xanchor\":\"left\",\"xref\":\"x\",\"y\":20,\"yref\":\"y\"},{\"align\":\"left\",\"font\":{\"color\":\"#000000\"},\"showarrow\":false,\"text\":\"0.01\",\"x\":0.55,\"xanchor\":\"left\",\"xref\":\"x\",\"y\":20,\"yref\":\"y\"},{\"align\":\"left\",\"font\":{\"color\":\"#000000\"},\"showarrow\":false,\"text\":\"fear\",\"x\":1.55,\"xanchor\":\"left\",\"xref\":\"x\",\"y\":20,\"yref\":\"y\"},{\"align\":\"left\",\"font\":{\"color\":\"#000000\"},\"showarrow\":false,\"text\":\"0.119\",\"x\":-0.45,\"xanchor\":\"left\",\"xref\":\"x\",\"y\":21,\"yref\":\"y\"},{\"align\":\"left\",\"font\":{\"color\":\"#000000\"},\"showarrow\":false,\"text\":\"0.051\",\"x\":0.55,\"xanchor\":\"left\",\"xref\":\"x\",\"y\":21,\"yref\":\"y\"},{\"align\":\"left\",\"font\":{\"color\":\"#000000\"},\"showarrow\":false,\"text\":\"joy\",\"x\":1.55,\"xanchor\":\"left\",\"xref\":\"x\",\"y\":21,\"yref\":\"y\"},{\"align\":\"left\",\"font\":{\"color\":\"#000000\"},\"showarrow\":false,\"text\":\"-0.052\",\"x\":-0.45,\"xanchor\":\"left\",\"xref\":\"x\",\"y\":22,\"yref\":\"y\"},{\"align\":\"left\",\"font\":{\"color\":\"#000000\"},\"showarrow\":false,\"text\":\"-0.025\",\"x\":0.55,\"xanchor\":\"left\",\"xref\":\"x\",\"y\":22,\"yref\":\"y\"},{\"align\":\"left\",\"font\":{\"color\":\"#000000\"},\"showarrow\":false,\"text\":\"negative\",\"x\":1.55,\"xanchor\":\"left\",\"xref\":\"x\",\"y\":22,\"yref\":\"y\"},{\"align\":\"left\",\"font\":{\"color\":\"#000000\"},\"showarrow\":false,\"text\":\"0.008\",\"x\":-0.45,\"xanchor\":\"left\",\"xref\":\"x\",\"y\":23,\"yref\":\"y\"},{\"align\":\"left\",\"font\":{\"color\":\"#000000\"},\"showarrow\":false,\"text\":\"-0.011\",\"x\":0.55,\"xanchor\":\"left\",\"xref\":\"x\",\"y\":23,\"yref\":\"y\"},{\"align\":\"left\",\"font\":{\"color\":\"#000000\"},\"showarrow\":false,\"text\":\"positive\",\"x\":1.55,\"xanchor\":\"left\",\"xref\":\"x\",\"y\":23,\"yref\":\"y\"},{\"align\":\"left\",\"font\":{\"color\":\"#000000\"},\"showarrow\":false,\"text\":\"0.004\",\"x\":-0.45,\"xanchor\":\"left\",\"xref\":\"x\",\"y\":24,\"yref\":\"y\"},{\"align\":\"left\",\"font\":{\"color\":\"#000000\"},\"showarrow\":false,\"text\":\"0.011\",\"x\":0.55,\"xanchor\":\"left\",\"xref\":\"x\",\"y\":24,\"yref\":\"y\"},{\"align\":\"left\",\"font\":{\"color\":\"#000000\"},\"showarrow\":false,\"text\":\"sadness\",\"x\":1.55,\"xanchor\":\"left\",\"xref\":\"x\",\"y\":24,\"yref\":\"y\"},{\"align\":\"left\",\"font\":{\"color\":\"#000000\"},\"showarrow\":false,\"text\":\"0.03\",\"x\":-0.45,\"xanchor\":\"left\",\"xref\":\"x\",\"y\":25,\"yref\":\"y\"},{\"align\":\"left\",\"font\":{\"color\":\"#000000\"},\"showarrow\":false,\"text\":\"0.02\",\"x\":0.55,\"xanchor\":\"left\",\"xref\":\"x\",\"y\":25,\"yref\":\"y\"},{\"align\":\"left\",\"font\":{\"color\":\"#000000\"},\"showarrow\":false,\"text\":\"surprise\",\"x\":1.55,\"xanchor\":\"left\",\"xref\":\"x\",\"y\":25,\"yref\":\"y\"},{\"align\":\"left\",\"font\":{\"color\":\"#000000\"},\"showarrow\":false,\"text\":\"-0.005\",\"x\":-0.45,\"xanchor\":\"left\",\"xref\":\"x\",\"y\":26,\"yref\":\"y\"},{\"align\":\"left\",\"font\":{\"color\":\"#000000\"},\"showarrow\":false,\"text\":\"-0.024\",\"x\":0.55,\"xanchor\":\"left\",\"xref\":\"x\",\"y\":26,\"yref\":\"y\"},{\"align\":\"left\",\"font\":{\"color\":\"#000000\"},\"showarrow\":false,\"text\":\"trust\",\"x\":1.55,\"xanchor\":\"left\",\"xref\":\"x\",\"y\":26,\"yref\":\"y\"},{\"align\":\"left\",\"font\":{\"color\":\"#000000\"},\"showarrow\":false,\"text\":\"0.173\",\"x\":-0.45,\"xanchor\":\"left\",\"xref\":\"x\",\"y\":27,\"yref\":\"y\"},{\"align\":\"left\",\"font\":{\"color\":\"#000000\"},\"showarrow\":false,\"text\":\"-0.135\",\"x\":0.55,\"xanchor\":\"left\",\"xref\":\"x\",\"y\":27,\"yref\":\"y\"},{\"align\":\"left\",\"font\":{\"color\":\"#000000\"},\"showarrow\":false,\"text\":\"num_unique_words\",\"x\":1.55,\"xanchor\":\"left\",\"xref\":\"x\",\"y\":27,\"yref\":\"y\"},{\"align\":\"left\",\"font\":{\"color\":\"#000000\"},\"showarrow\":false,\"text\":\"-0.175\",\"x\":-0.45,\"xanchor\":\"left\",\"xref\":\"x\",\"y\":28,\"yref\":\"y\"},{\"align\":\"left\",\"font\":{\"color\":\"#000000\"},\"showarrow\":false,\"text\":\"-0.159\",\"x\":0.55,\"xanchor\":\"left\",\"xref\":\"x\",\"y\":28,\"yref\":\"y\"},{\"align\":\"left\",\"font\":{\"color\":\"#000000\"},\"showarrow\":false,\"text\":\"depth\",\"x\":1.55,\"xanchor\":\"left\",\"xref\":\"x\",\"y\":28,\"yref\":\"y\"},{\"align\":\"left\",\"font\":{\"color\":\"#000000\"},\"showarrow\":false,\"text\":\"0.105\",\"x\":-0.45,\"xanchor\":\"left\",\"xref\":\"x\",\"y\":29,\"yref\":\"y\"},{\"align\":\"left\",\"font\":{\"color\":\"#000000\"},\"showarrow\":false,\"text\":\"0.088\",\"x\":0.55,\"xanchor\":\"left\",\"xref\":\"x\",\"y\":29,\"yref\":\"y\"},{\"align\":\"left\",\"font\":{\"color\":\"#000000\"},\"showarrow\":false,\"text\":\"TBsubjectivity\",\"x\":1.55,\"xanchor\":\"left\",\"xref\":\"x\",\"y\":29,\"yref\":\"y\"},{\"align\":\"left\",\"font\":{\"color\":\"#000000\"},\"showarrow\":false,\"text\":\"0.115\",\"x\":-0.45,\"xanchor\":\"left\",\"xref\":\"x\",\"y\":30,\"yref\":\"y\"},{\"align\":\"left\",\"font\":{\"color\":\"#000000\"},\"showarrow\":false,\"text\":\"0.031\",\"x\":0.55,\"xanchor\":\"left\",\"xref\":\"x\",\"y\":30,\"yref\":\"y\"},{\"align\":\"left\",\"font\":{\"color\":\"#000000\"},\"showarrow\":false,\"text\":\"TBpolarity\",\"x\":1.55,\"xanchor\":\"left\",\"xref\":\"x\",\"y\":30,\"yref\":\"y\"},{\"align\":\"left\",\"font\":{\"color\":\"#000000\"},\"showarrow\":false,\"text\":\"-0.158\",\"x\":-0.45,\"xanchor\":\"left\",\"xref\":\"x\",\"y\":31,\"yref\":\"y\"},{\"align\":\"left\",\"font\":{\"color\":\"#000000\"},\"showarrow\":false,\"text\":\"-0.191\",\"x\":0.55,\"xanchor\":\"left\",\"xref\":\"x\",\"y\":31,\"yref\":\"y\"},{\"align\":\"left\",\"font\":{\"color\":\"#000000\"},\"showarrow\":false,\"text\":\"words_per_sentence\",\"x\":1.55,\"xanchor\":\"left\",\"xref\":\"x\",\"y\":31,\"yref\":\"y\"},{\"align\":\"left\",\"font\":{\"color\":\"#000000\"},\"showarrow\":false,\"text\":\"0.174\",\"x\":-0.45,\"xanchor\":\"left\",\"xref\":\"x\",\"y\":32,\"yref\":\"y\"},{\"align\":\"left\",\"font\":{\"color\":\"#000000\"},\"showarrow\":false,\"text\":\"-0.13\",\"x\":0.55,\"xanchor\":\"left\",\"xref\":\"x\",\"y\":32,\"yref\":\"y\"},{\"align\":\"left\",\"font\":{\"color\":\"#000000\"},\"showarrow\":false,\"text\":\"char_count\",\"x\":1.55,\"xanchor\":\"left\",\"xref\":\"x\",\"y\":32,\"yref\":\"y\"},{\"align\":\"left\",\"font\":{\"color\":\"#000000\"},\"showarrow\":false,\"text\":\"0.172\",\"x\":-0.45,\"xanchor\":\"left\",\"xref\":\"x\",\"y\":33,\"yref\":\"y\"},{\"align\":\"left\",\"font\":{\"color\":\"#000000\"},\"showarrow\":false,\"text\":\"-0.133\",\"x\":0.55,\"xanchor\":\"left\",\"xref\":\"x\",\"y\":33,\"yref\":\"y\"},{\"align\":\"left\",\"font\":{\"color\":\"#000000\"},\"showarrow\":false,\"text\":\"syl_count\",\"x\":1.55,\"xanchor\":\"left\",\"xref\":\"x\",\"y\":33,\"yref\":\"y\"},{\"align\":\"left\",\"font\":{\"color\":\"#000000\"},\"showarrow\":false,\"text\":\"0.182\",\"x\":-0.45,\"xanchor\":\"left\",\"xref\":\"x\",\"y\":34,\"yref\":\"y\"},{\"align\":\"left\",\"font\":{\"color\":\"#000000\"},\"showarrow\":false,\"text\":\"-0.118\",\"x\":0.55,\"xanchor\":\"left\",\"xref\":\"x\",\"y\":34,\"yref\":\"y\"},{\"align\":\"left\",\"font\":{\"color\":\"#000000\"},\"showarrow\":false,\"text\":\"word_count\",\"x\":1.55,\"xanchor\":\"left\",\"xref\":\"x\",\"y\":34,\"yref\":\"y\"},{\"align\":\"left\",\"font\":{\"color\":\"#000000\"},\"showarrow\":false,\"text\":\"-0.182\",\"x\":-0.45,\"xanchor\":\"left\",\"xref\":\"x\",\"y\":35,\"yref\":\"y\"},{\"align\":\"left\",\"font\":{\"color\":\"#000000\"},\"showarrow\":false,\"text\":\"-0.16\",\"x\":0.55,\"xanchor\":\"left\",\"xref\":\"x\",\"y\":35,\"yref\":\"y\"},{\"align\":\"left\",\"font\":{\"color\":\"#000000\"},\"showarrow\":false,\"text\":\"char_per_word\",\"x\":1.55,\"xanchor\":\"left\",\"xref\":\"x\",\"y\":35,\"yref\":\"y\"},{\"align\":\"left\",\"font\":{\"color\":\"#000000\"},\"showarrow\":false,\"text\":\"-0.18\",\"x\":-0.45,\"xanchor\":\"left\",\"xref\":\"x\",\"y\":36,\"yref\":\"y\"},{\"align\":\"left\",\"font\":{\"color\":\"#000000\"},\"showarrow\":false,\"text\":\"-0.172\",\"x\":0.55,\"xanchor\":\"left\",\"xref\":\"x\",\"y\":36,\"yref\":\"y\"},{\"align\":\"left\",\"font\":{\"color\":\"#000000\"},\"showarrow\":false,\"text\":\"syl_per_word\",\"x\":1.55,\"xanchor\":\"left\",\"xref\":\"x\",\"y\":36,\"yref\":\"y\"},{\"align\":\"left\",\"font\":{\"color\":\"#000000\"},\"showarrow\":false,\"text\":\"0.195\",\"x\":-0.45,\"xanchor\":\"left\",\"xref\":\"x\",\"y\":37,\"yref\":\"y\"},{\"align\":\"left\",\"font\":{\"color\":\"#000000\"},\"showarrow\":false,\"text\":\"-0.082\",\"x\":0.55,\"xanchor\":\"left\",\"xref\":\"x\",\"y\":37,\"yref\":\"y\"},{\"align\":\"left\",\"font\":{\"color\":\"#000000\"},\"showarrow\":false,\"text\":\"sent_count\",\"x\":1.55,\"xanchor\":\"left\",\"xref\":\"x\",\"y\":37,\"yref\":\"y\"},{\"align\":\"left\",\"font\":{\"color\":\"#000000\"},\"showarrow\":false,\"text\":\"-0.152\",\"x\":-0.45,\"xanchor\":\"left\",\"xref\":\"x\",\"y\":38,\"yref\":\"y\"},{\"align\":\"left\",\"font\":{\"color\":\"#000000\"},\"showarrow\":false,\"text\":\"-0.196\",\"x\":0.55,\"xanchor\":\"left\",\"xref\":\"x\",\"y\":38,\"yref\":\"y\"},{\"align\":\"left\",\"font\":{\"color\":\"#000000\"},\"showarrow\":false,\"text\":\"word_per_sent\",\"x\":1.55,\"xanchor\":\"left\",\"xref\":\"x\",\"y\":38,\"yref\":\"y\"},{\"align\":\"left\",\"font\":{\"color\":\"#000000\"},\"showarrow\":false,\"text\":\"0.163\",\"x\":-0.45,\"xanchor\":\"left\",\"xref\":\"x\",\"y\":39,\"yref\":\"y\"},{\"align\":\"left\",\"font\":{\"color\":\"#000000\"},\"showarrow\":false,\"text\":\"-0.148\",\"x\":0.55,\"xanchor\":\"left\",\"xref\":\"x\",\"y\":39,\"yref\":\"y\"},{\"align\":\"left\",\"font\":{\"color\":\"#000000\"},\"showarrow\":false,\"text\":\"dc_word_count\",\"x\":1.55,\"xanchor\":\"left\",\"xref\":\"x\",\"y\":39,\"yref\":\"y\"},{\"align\":\"left\",\"font\":{\"color\":\"#000000\"},\"showarrow\":false,\"text\":\"0.142\",\"x\":-0.45,\"xanchor\":\"left\",\"xref\":\"x\",\"y\":40,\"yref\":\"y\"},{\"align\":\"left\",\"font\":{\"color\":\"#000000\"},\"showarrow\":false,\"text\":\"-0.172\",\"x\":0.55,\"xanchor\":\"left\",\"xref\":\"x\",\"y\":40,\"yref\":\"y\"},{\"align\":\"left\",\"font\":{\"color\":\"#000000\"},\"showarrow\":false,\"text\":\"gf_word_count\",\"x\":1.55,\"xanchor\":\"left\",\"xref\":\"x\",\"y\":40,\"yref\":\"y\"},{\"align\":\"left\",\"font\":{\"color\":\"#000000\"},\"showarrow\":false,\"text\":\"0.142\",\"x\":-0.45,\"xanchor\":\"left\",\"xref\":\"x\",\"y\":41,\"yref\":\"y\"},{\"align\":\"left\",\"font\":{\"color\":\"#000000\"},\"showarrow\":false,\"text\":\"-0.171\",\"x\":0.55,\"xanchor\":\"left\",\"xref\":\"x\",\"y\":41,\"yref\":\"y\"},{\"align\":\"left\",\"font\":{\"color\":\"#000000\"},\"showarrow\":false,\"text\":\"poly_word_count\",\"x\":1.55,\"xanchor\":\"left\",\"xref\":\"x\",\"y\":41,\"yref\":\"y\"},{\"align\":\"left\",\"font\":{\"color\":\"#000000\"},\"showarrow\":false,\"text\":\"-0.171\",\"x\":-0.45,\"xanchor\":\"left\",\"xref\":\"x\",\"y\":42,\"yref\":\"y\"},{\"align\":\"left\",\"font\":{\"color\":\"#000000\"},\"showarrow\":false,\"text\":\"-0.13\",\"x\":0.55,\"xanchor\":\"left\",\"xref\":\"x\",\"y\":42,\"yref\":\"y\"},{\"align\":\"left\",\"font\":{\"color\":\"#000000\"},\"showarrow\":false,\"text\":\"dc_word_perc\",\"x\":1.55,\"xanchor\":\"left\",\"xref\":\"x\",\"y\":42,\"yref\":\"y\"},{\"align\":\"left\",\"font\":{\"color\":\"#000000\"},\"showarrow\":false,\"text\":\"-0.167\",\"x\":-0.45,\"xanchor\":\"left\",\"xref\":\"x\",\"y\":43,\"yref\":\"y\"},{\"align\":\"left\",\"font\":{\"color\":\"#000000\"},\"showarrow\":false,\"text\":\"-0.184\",\"x\":0.55,\"xanchor\":\"left\",\"xref\":\"x\",\"y\":43,\"yref\":\"y\"},{\"align\":\"left\",\"font\":{\"color\":\"#000000\"},\"showarrow\":false,\"text\":\"gf_word_perc\",\"x\":1.55,\"xanchor\":\"left\",\"xref\":\"x\",\"y\":43,\"yref\":\"y\"},{\"align\":\"left\",\"font\":{\"color\":\"#000000\"},\"showarrow\":false,\"text\":\"-0.172\",\"x\":-0.45,\"xanchor\":\"left\",\"xref\":\"x\",\"y\":44,\"yref\":\"y\"},{\"align\":\"left\",\"font\":{\"color\":\"#000000\"},\"showarrow\":false,\"text\":\"-0.182\",\"x\":0.55,\"xanchor\":\"left\",\"xref\":\"x\",\"y\":44,\"yref\":\"y\"},{\"align\":\"left\",\"font\":{\"color\":\"#000000\"},\"showarrow\":false,\"text\":\"poly_word_perc\",\"x\":1.55,\"xanchor\":\"left\",\"xref\":\"x\",\"y\":44,\"yref\":\"y\"},{\"align\":\"left\",\"font\":{\"color\":\"#000000\"},\"showarrow\":false,\"text\":\"-0.184\",\"x\":-0.45,\"xanchor\":\"left\",\"xref\":\"x\",\"y\":45,\"yref\":\"y\"},{\"align\":\"left\",\"font\":{\"color\":\"#000000\"},\"showarrow\":false,\"text\":\"-0.208\",\"x\":0.55,\"xanchor\":\"left\",\"xref\":\"x\",\"y\":45,\"yref\":\"y\"},{\"align\":\"left\",\"font\":{\"color\":\"#000000\"},\"showarrow\":false,\"text\":\"ari\",\"x\":1.55,\"xanchor\":\"left\",\"xref\":\"x\",\"y\":45,\"yref\":\"y\"},{\"align\":\"left\",\"font\":{\"color\":\"#000000\"},\"showarrow\":false,\"text\":\"-0.185\",\"x\":-0.45,\"xanchor\":\"left\",\"xref\":\"x\",\"y\":46,\"yref\":\"y\"},{\"align\":\"left\",\"font\":{\"color\":\"#000000\"},\"showarrow\":false,\"text\":\"-0.211\",\"x\":0.55,\"xanchor\":\"left\",\"xref\":\"x\",\"y\":46,\"yref\":\"y\"},{\"align\":\"left\",\"font\":{\"color\":\"#000000\"},\"showarrow\":false,\"text\":\"flesch_kincaid\",\"x\":1.55,\"xanchor\":\"left\",\"xref\":\"x\",\"y\":46,\"yref\":\"y\"},{\"align\":\"left\",\"font\":{\"color\":\"#000000\"},\"showarrow\":false,\"text\":\"-0.189\",\"x\":-0.45,\"xanchor\":\"left\",\"xref\":\"x\",\"y\":47,\"yref\":\"y\"},{\"align\":\"left\",\"font\":{\"color\":\"#000000\"},\"showarrow\":false,\"text\":\"-0.174\",\"x\":0.55,\"xanchor\":\"left\",\"xref\":\"x\",\"y\":47,\"yref\":\"y\"},{\"align\":\"left\",\"font\":{\"color\":\"#000000\"},\"showarrow\":false,\"text\":\"coleman_liau\",\"x\":1.55,\"xanchor\":\"left\",\"xref\":\"x\",\"y\":47,\"yref\":\"y\"},{\"align\":\"left\",\"font\":{\"color\":\"#000000\"},\"showarrow\":false,\"text\":\"-0.18\",\"x\":-0.45,\"xanchor\":\"left\",\"xref\":\"x\",\"y\":48,\"yref\":\"y\"},{\"align\":\"left\",\"font\":{\"color\":\"#000000\"},\"showarrow\":false,\"text\":\"-0.203\",\"x\":0.55,\"xanchor\":\"left\",\"xref\":\"x\",\"y\":48,\"yref\":\"y\"},{\"align\":\"left\",\"font\":{\"color\":\"#000000\"},\"showarrow\":false,\"text\":\"dale_chall\",\"x\":1.55,\"xanchor\":\"left\",\"xref\":\"x\",\"y\":48,\"yref\":\"y\"},{\"align\":\"left\",\"font\":{\"color\":\"#000000\"},\"showarrow\":false,\"text\":\"-0.179\",\"x\":-0.45,\"xanchor\":\"left\",\"xref\":\"x\",\"y\":49,\"yref\":\"y\"},{\"align\":\"left\",\"font\":{\"color\":\"#000000\"},\"showarrow\":false,\"text\":\"-0.216\",\"x\":0.55,\"xanchor\":\"left\",\"xref\":\"x\",\"y\":49,\"yref\":\"y\"},{\"align\":\"left\",\"font\":{\"color\":\"#000000\"},\"showarrow\":false,\"text\":\"gunning_fog\",\"x\":1.55,\"xanchor\":\"left\",\"xref\":\"x\",\"y\":49,\"yref\":\"y\"},{\"align\":\"left\",\"font\":{\"color\":\"#000000\"},\"showarrow\":false,\"text\":\"-0.184\",\"x\":-0.45,\"xanchor\":\"left\",\"xref\":\"x\",\"y\":50,\"yref\":\"y\"},{\"align\":\"left\",\"font\":{\"color\":\"#000000\"},\"showarrow\":false,\"text\":\"-0.214\",\"x\":0.55,\"xanchor\":\"left\",\"xref\":\"x\",\"y\":50,\"yref\":\"y\"},{\"align\":\"left\",\"font\":{\"color\":\"#000000\"},\"showarrow\":false,\"text\":\"smog\",\"x\":1.55,\"xanchor\":\"left\",\"xref\":\"x\",\"y\":50,\"yref\":\"y\"}],\"height\":700,\"margin\":{\"b\":0,\"l\":0,\"r\":0,\"t\":0},\"xaxis\":{\"dtick\":1,\"gridwidth\":2,\"showticklabels\":false,\"tick0\":-0.5,\"ticks\":\"\",\"zeroline\":false},\"yaxis\":{\"autorange\":\"reversed\",\"dtick\":1,\"gridwidth\":2,\"showticklabels\":false,\"tick0\":0.5,\"ticks\":\"\",\"zeroline\":false},\"template\":{\"data\":{\"histogram2dcontour\":[{\"type\":\"histogram2dcontour\",\"colorbar\":{\"outlinewidth\":0,\"ticks\":\"\"},\"colorscale\":[[0.0,\"#0d0887\"],[0.1111111111111111,\"#46039f\"],[0.2222222222222222,\"#7201a8\"],[0.3333333333333333,\"#9c179e\"],[0.4444444444444444,\"#bd3786\"],[0.5555555555555556,\"#d8576b\"],[0.6666666666666666,\"#ed7953\"],[0.7777777777777778,\"#fb9f3a\"],[0.8888888888888888,\"#fdca26\"],[1.0,\"#f0f921\"]]}],\"choropleth\":[{\"type\":\"choropleth\",\"colorbar\":{\"outlinewidth\":0,\"ticks\":\"\"}}],\"histogram2d\":[{\"type\":\"histogram2d\",\"colorbar\":{\"outlinewidth\":0,\"ticks\":\"\"},\"colorscale\":[[0.0,\"#0d0887\"],[0.1111111111111111,\"#46039f\"],[0.2222222222222222,\"#7201a8\"],[0.3333333333333333,\"#9c179e\"],[0.4444444444444444,\"#bd3786\"],[0.5555555555555556,\"#d8576b\"],[0.6666666666666666,\"#ed7953\"],[0.7777777777777778,\"#fb9f3a\"],[0.8888888888888888,\"#fdca26\"],[1.0,\"#f0f921\"]]}],\"heatmap\":[{\"type\":\"heatmap\",\"colorbar\":{\"outlinewidth\":0,\"ticks\":\"\"},\"colorscale\":[[0.0,\"#0d0887\"],[0.1111111111111111,\"#46039f\"],[0.2222222222222222,\"#7201a8\"],[0.3333333333333333,\"#9c179e\"],[0.4444444444444444,\"#bd3786\"],[0.5555555555555556,\"#d8576b\"],[0.6666666666666666,\"#ed7953\"],[0.7777777777777778,\"#fb9f3a\"],[0.8888888888888888,\"#fdca26\"],[1.0,\"#f0f921\"]]}],\"heatmapgl\":[{\"type\":\"heatmapgl\",\"colorbar\":{\"outlinewidth\":0,\"ticks\":\"\"},\"colorscale\":[[0.0,\"#0d0887\"],[0.1111111111111111,\"#46039f\"],[0.2222222222222222,\"#7201a8\"],[0.3333333333333333,\"#9c179e\"],[0.4444444444444444,\"#bd3786\"],[0.5555555555555556,\"#d8576b\"],[0.6666666666666666,\"#ed7953\"],[0.7777777777777778,\"#fb9f3a\"],[0.8888888888888888,\"#fdca26\"],[1.0,\"#f0f921\"]]}],\"contourcarpet\":[{\"type\":\"contourcarpet\",\"colorbar\":{\"outlinewidth\":0,\"ticks\":\"\"}}],\"contour\":[{\"type\":\"contour\",\"colorbar\":{\"outlinewidth\":0,\"ticks\":\"\"},\"colorscale\":[[0.0,\"#0d0887\"],[0.1111111111111111,\"#46039f\"],[0.2222222222222222,\"#7201a8\"],[0.3333333333333333,\"#9c179e\"],[0.4444444444444444,\"#bd3786\"],[0.5555555555555556,\"#d8576b\"],[0.6666666666666666,\"#ed7953\"],[0.7777777777777778,\"#fb9f3a\"],[0.8888888888888888,\"#fdca26\"],[1.0,\"#f0f921\"]]}],\"surface\":[{\"type\":\"surface\",\"colorbar\":{\"outlinewidth\":0,\"ticks\":\"\"},\"colorscale\":[[0.0,\"#0d0887\"],[0.1111111111111111,\"#46039f\"],[0.2222222222222222,\"#7201a8\"],[0.3333333333333333,\"#9c179e\"],[0.4444444444444444,\"#bd3786\"],[0.5555555555555556,\"#d8576b\"],[0.6666666666666666,\"#ed7953\"],[0.7777777777777778,\"#fb9f3a\"],[0.8888888888888888,\"#fdca26\"],[1.0,\"#f0f921\"]]}],\"mesh3d\":[{\"type\":\"mesh3d\",\"colorbar\":{\"outlinewidth\":0,\"ticks\":\"\"}}],\"scatter\":[{\"fillpattern\":{\"fillmode\":\"overlay\",\"size\":10,\"solidity\":0.2},\"type\":\"scatter\"}],\"parcoords\":[{\"type\":\"parcoords\",\"line\":{\"colorbar\":{\"outlinewidth\":0,\"ticks\":\"\"}}}],\"scatterpolargl\":[{\"type\":\"scatterpolargl\",\"marker\":{\"colorbar\":{\"outlinewidth\":0,\"ticks\":\"\"}}}],\"bar\":[{\"error_x\":{\"color\":\"#2a3f5f\"},\"error_y\":{\"color\":\"#2a3f5f\"},\"marker\":{\"line\":{\"color\":\"#E5ECF6\",\"width\":0.5},\"pattern\":{\"fillmode\":\"overlay\",\"size\":10,\"solidity\":0.2}},\"type\":\"bar\"}],\"scattergeo\":[{\"type\":\"scattergeo\",\"marker\":{\"colorbar\":{\"outlinewidth\":0,\"ticks\":\"\"}}}],\"scatterpolar\":[{\"type\":\"scatterpolar\",\"marker\":{\"colorbar\":{\"outlinewidth\":0,\"ticks\":\"\"}}}],\"histogram\":[{\"marker\":{\"pattern\":{\"fillmode\":\"overlay\",\"size\":10,\"solidity\":0.2}},\"type\":\"histogram\"}],\"scattergl\":[{\"type\":\"scattergl\",\"marker\":{\"colorbar\":{\"outlinewidth\":0,\"ticks\":\"\"}}}],\"scatter3d\":[{\"type\":\"scatter3d\",\"line\":{\"colorbar\":{\"outlinewidth\":0,\"ticks\":\"\"}},\"marker\":{\"colorbar\":{\"outlinewidth\":0,\"ticks\":\"\"}}}],\"scattermapbox\":[{\"type\":\"scattermapbox\",\"marker\":{\"colorbar\":{\"outlinewidth\":0,\"ticks\":\"\"}}}],\"scatterternary\":[{\"type\":\"scatterternary\",\"marker\":{\"colorbar\":{\"outlinewidth\":0,\"ticks\":\"\"}}}],\"scattercarpet\":[{\"type\":\"scattercarpet\",\"marker\":{\"colorbar\":{\"outlinewidth\":0,\"ticks\":\"\"}}}],\"carpet\":[{\"aaxis\":{\"endlinecolor\":\"#2a3f5f\",\"gridcolor\":\"white\",\"linecolor\":\"white\",\"minorgridcolor\":\"white\",\"startlinecolor\":\"#2a3f5f\"},\"baxis\":{\"endlinecolor\":\"#2a3f5f\",\"gridcolor\":\"white\",\"linecolor\":\"white\",\"minorgridcolor\":\"white\",\"startlinecolor\":\"#2a3f5f\"},\"type\":\"carpet\"}],\"table\":[{\"cells\":{\"fill\":{\"color\":\"#EBF0F8\"},\"line\":{\"color\":\"white\"}},\"header\":{\"fill\":{\"color\":\"#C8D4E3\"},\"line\":{\"color\":\"white\"}},\"type\":\"table\"}],\"barpolar\":[{\"marker\":{\"line\":{\"color\":\"#E5ECF6\",\"width\":0.5},\"pattern\":{\"fillmode\":\"overlay\",\"size\":10,\"solidity\":0.2}},\"type\":\"barpolar\"}],\"pie\":[{\"automargin\":true,\"type\":\"pie\"}]},\"layout\":{\"autotypenumbers\":\"strict\",\"colorway\":[\"#636efa\",\"#EF553B\",\"#00cc96\",\"#ab63fa\",\"#FFA15A\",\"#19d3f3\",\"#FF6692\",\"#B6E880\",\"#FF97FF\",\"#FECB52\"],\"font\":{\"color\":\"#2a3f5f\"},\"hovermode\":\"closest\",\"hoverlabel\":{\"align\":\"left\"},\"paper_bgcolor\":\"white\",\"plot_bgcolor\":\"#E5ECF6\",\"polar\":{\"bgcolor\":\"#E5ECF6\",\"angularaxis\":{\"gridcolor\":\"white\",\"linecolor\":\"white\",\"ticks\":\"\"},\"radialaxis\":{\"gridcolor\":\"white\",\"linecolor\":\"white\",\"ticks\":\"\"}},\"ternary\":{\"bgcolor\":\"#E5ECF6\",\"aaxis\":{\"gridcolor\":\"white\",\"linecolor\":\"white\",\"ticks\":\"\"},\"baxis\":{\"gridcolor\":\"white\",\"linecolor\":\"white\",\"ticks\":\"\"},\"caxis\":{\"gridcolor\":\"white\",\"linecolor\":\"white\",\"ticks\":\"\"}},\"coloraxis\":{\"colorbar\":{\"outlinewidth\":0,\"ticks\":\"\"}},\"colorscale\":{\"sequential\":[[0.0,\"#0d0887\"],[0.1111111111111111,\"#46039f\"],[0.2222222222222222,\"#7201a8\"],[0.3333333333333333,\"#9c179e\"],[0.4444444444444444,\"#bd3786\"],[0.5555555555555556,\"#d8576b\"],[0.6666666666666666,\"#ed7953\"],[0.7777777777777778,\"#fb9f3a\"],[0.8888888888888888,\"#fdca26\"],[1.0,\"#f0f921\"]],\"sequentialminus\":[[0.0,\"#0d0887\"],[0.1111111111111111,\"#46039f\"],[0.2222222222222222,\"#7201a8\"],[0.3333333333333333,\"#9c179e\"],[0.4444444444444444,\"#bd3786\"],[0.5555555555555556,\"#d8576b\"],[0.6666666666666666,\"#ed7953\"],[0.7777777777777778,\"#fb9f3a\"],[0.8888888888888888,\"#fdca26\"],[1.0,\"#f0f921\"]],\"diverging\":[[0,\"#8e0152\"],[0.1,\"#c51b7d\"],[0.2,\"#de77ae\"],[0.3,\"#f1b6da\"],[0.4,\"#fde0ef\"],[0.5,\"#f7f7f7\"],[0.6,\"#e6f5d0\"],[0.7,\"#b8e186\"],[0.8,\"#7fbc41\"],[0.9,\"#4d9221\"],[1,\"#276419\"]]},\"xaxis\":{\"gridcolor\":\"white\",\"linecolor\":\"white\",\"ticks\":\"\",\"title\":{\"standoff\":15},\"zerolinecolor\":\"white\",\"automargin\":true,\"zerolinewidth\":2},\"yaxis\":{\"gridcolor\":\"white\",\"linecolor\":\"white\",\"ticks\":\"\",\"title\":{\"standoff\":15},\"zerolinecolor\":\"white\",\"automargin\":true,\"zerolinewidth\":2},\"scene\":{\"xaxis\":{\"backgroundcolor\":\"#E5ECF6\",\"gridcolor\":\"white\",\"linecolor\":\"white\",\"showbackground\":true,\"ticks\":\"\",\"zerolinecolor\":\"white\",\"gridwidth\":2},\"yaxis\":{\"backgroundcolor\":\"#E5ECF6\",\"gridcolor\":\"white\",\"linecolor\":\"white\",\"showbackground\":true,\"ticks\":\"\",\"zerolinecolor\":\"white\",\"gridwidth\":2},\"zaxis\":{\"backgroundcolor\":\"#E5ECF6\",\"gridcolor\":\"white\",\"linecolor\":\"white\",\"showbackground\":true,\"ticks\":\"\",\"zerolinecolor\":\"white\",\"gridwidth\":2}},\"shapedefaults\":{\"line\":{\"color\":\"#2a3f5f\"}},\"annotationdefaults\":{\"arrowcolor\":\"#2a3f5f\",\"arrowhead\":0,\"arrowwidth\":1},\"geo\":{\"bgcolor\":\"white\",\"landcolor\":\"#E5ECF6\",\"subunitcolor\":\"white\",\"showland\":true,\"showlakes\":true,\"lakecolor\":\"white\"},\"title\":{\"x\":0.05},\"mapbox\":{\"style\":\"light\"}}},\"autosize\":false,\"width\":400},                        {\"responsive\": true}                    ).then(function(){\n",
       "                            \n",
       "var gd = document.getElementById('026068f4-2f39-482f-be29-62b3a21ea331');\n",
       "var x = new MutationObserver(function (mutations, observer) {{\n",
       "        var display = window.getComputedStyle(gd).display;\n",
       "        if (!display || display === 'none') {{\n",
       "            console.log([gd, 'removed!']);\n",
       "            Plotly.purge(gd);\n",
       "            observer.disconnect();\n",
       "        }}\n",
       "}});\n",
       "\n",
       "// Listen for the removal of the full notebook cells\n",
       "var notebookContainer = gd.closest('#notebook-container');\n",
       "if (notebookContainer) {{\n",
       "    x.observe(notebookContainer, {childList: true});\n",
       "}}\n",
       "\n",
       "// Listen for the clearing of the current output cell\n",
       "var outputEl = gd.closest('.output');\n",
       "if (outputEl) {{\n",
       "    x.observe(outputEl, {childList: true});\n",
       "}}\n",
       "\n",
       "                        })                };                });            </script>        </div>"
      ]
     },
     "metadata": {},
     "output_type": "display_data"
    }
   ],
   "source": [
    "to_png = loadings.copy()\n",
    "to_png['var'] = to_png.index\n",
    "table = ff.create_table(round(to_png,3))\n",
    "table.update_layout(\n",
    "    autosize=False,\n",
    "    width=400,\n",
    "    height=700)"
   ]
  },
  {
   "cell_type": "code",
   "execution_count": null,
   "id": "2c95587c",
   "metadata": {},
   "outputs": [],
   "source": [
    "# Not working\n",
    "import kaleido\n",
    "table.write_image(\"table_plotly.png\", scale=2)"
   ]
  },
  {
   "cell_type": "code",
   "execution_count": 106,
   "id": "df8f236d",
   "metadata": {},
   "outputs": [
    {
     "data": {
      "application/vnd.plotly.v1+json": {
       "config": {
        "plotlyServerURL": "https://plot.ly"
       },
       "data": [
        {
         "cells": {
          "align": [
           "left",
           "left",
           "left"
          ],
          "fill": {
           "color": "rgb(245,245,245)"
          },
          "font": {
           "color": [
            "black",
            "black",
            [
             "red",
             "red",
             "black",
             "black",
             "black",
             "red",
             "red",
             "red",
             "black",
             "black",
             "black",
             "black",
             "red",
             "black",
             "black",
             "red",
             "black",
             "black",
             "black",
             "black",
             "black",
             "black",
             "black",
             "black",
             "black",
             "black",
             "red",
             "red",
             "black",
             "black",
             "black",
             "red",
             "red",
             "red",
             "red",
             "red",
             "red",
             "black",
             "red",
             "black",
             "black",
             "red",
             "red",
             "red",
             "red",
             "red",
             "red",
             "red",
             "red",
             "red"
            ]
           ],
           "family": "Arial",
           "size": 14
          },
          "height": 25,
          "line": {
           "color": "#506784"
          },
          "values": [
           [
            "ADJ",
            "ADP",
            "ADV",
            "AUX",
            "CCONJ",
            "DET",
            "INTJ",
            "NOUN",
            "NUM",
            "PART",
            "PRON",
            "PROPN",
            "PUNCT",
            "SCONJ",
            "SYM",
            "VERB",
            "anger",
            "anticipation",
            "disgust",
            "fear",
            "joy",
            "negative",
            "positive",
            "sadness",
            "surprise",
            "trust",
            "num_unique_words",
            "depth",
            "TBsubjectivity",
            "TBpolarity",
            "words_per_sentence",
            "char_count",
            "syl_count",
            "word_count",
            "char_per_word",
            "syl_per_word",
            "sent_count",
            "word_per_sent",
            "dc_word_count",
            "gf_word_count",
            "poly_word_count",
            "dc_word_perc",
            "gf_word_perc",
            "poly_word_perc",
            "ari",
            "flesch_kincaid",
            "coleman_liau",
            "dale_chall",
            "gunning_fog",
            "smog"
           ],
           [
            -0.167,
            -0.169,
            -0.025,
            -0.146,
            -0.116,
            -0.171,
            0.161,
            -0.176,
            -0.007,
            -0.152,
            -0.057,
            -0.137,
            -0.171,
            -0.018,
            0.076,
            -0.171,
            -0.043,
            0.058,
            0,
            -0.06,
            0.119,
            -0.052,
            0.008,
            0.004,
            0.03,
            -0.005,
            0.173,
            -0.175,
            0.105,
            0.115,
            -0.158,
            0.174,
            0.172,
            0.182,
            -0.182,
            -0.18,
            0.195,
            -0.152,
            0.163,
            0.142,
            0.142,
            -0.171,
            -0.167,
            -0.172,
            -0.184,
            -0.185,
            -0.189,
            -0.18,
            -0.179,
            -0.184
           ],
           [
            0.172,
            0.188,
            0.034,
            0.185,
            0.114,
            0.188,
            -0.057,
            0.183,
            -0.115,
            0.162,
            0.048,
            0.128,
            0.189,
            0.026,
            -0.159,
            0.194,
            -0.002,
            0,
            0.009,
            0.01,
            0.051,
            -0.025,
            -0.011,
            0.011,
            0.02,
            -0.024,
            -0.135,
            -0.159,
            0.088,
            0.031,
            -0.191,
            -0.13,
            -0.133,
            -0.118,
            -0.16,
            -0.172,
            -0.082,
            -0.196,
            -0.148,
            -0.172,
            -0.171,
            -0.13,
            -0.184,
            -0.182,
            -0.208,
            -0.211,
            -0.174,
            -0.203,
            -0.216,
            -0.214
           ]
          ]
         },
         "header": {
          "align": [
           "center",
           "center",
           "center"
          ],
          "fill": {
           "color": "#686dea"
          },
          "font": {
           "color": "#ffffff",
           "size": 20
          },
          "height": 50,
          "values": [
           [
            "Var"
           ],
           [
            "PC1"
           ],
           [
            "PC2"
           ]
          ]
         },
         "type": "table"
        }
       ],
       "layout": {
        "autosize": false,
        "height": 800,
        "showlegend": false,
        "template": {
         "data": {
          "bar": [
           {
            "error_x": {
             "color": "#2a3f5f"
            },
            "error_y": {
             "color": "#2a3f5f"
            },
            "marker": {
             "line": {
              "color": "#E5ECF6",
              "width": 0.5
             },
             "pattern": {
              "fillmode": "overlay",
              "size": 10,
              "solidity": 0.2
             }
            },
            "type": "bar"
           }
          ],
          "barpolar": [
           {
            "marker": {
             "line": {
              "color": "#E5ECF6",
              "width": 0.5
             },
             "pattern": {
              "fillmode": "overlay",
              "size": 10,
              "solidity": 0.2
             }
            },
            "type": "barpolar"
           }
          ],
          "carpet": [
           {
            "aaxis": {
             "endlinecolor": "#2a3f5f",
             "gridcolor": "white",
             "linecolor": "white",
             "minorgridcolor": "white",
             "startlinecolor": "#2a3f5f"
            },
            "baxis": {
             "endlinecolor": "#2a3f5f",
             "gridcolor": "white",
             "linecolor": "white",
             "minorgridcolor": "white",
             "startlinecolor": "#2a3f5f"
            },
            "type": "carpet"
           }
          ],
          "choropleth": [
           {
            "colorbar": {
             "outlinewidth": 0,
             "ticks": ""
            },
            "type": "choropleth"
           }
          ],
          "contour": [
           {
            "colorbar": {
             "outlinewidth": 0,
             "ticks": ""
            },
            "colorscale": [
             [
              0,
              "#0d0887"
             ],
             [
              0.1111111111111111,
              "#46039f"
             ],
             [
              0.2222222222222222,
              "#7201a8"
             ],
             [
              0.3333333333333333,
              "#9c179e"
             ],
             [
              0.4444444444444444,
              "#bd3786"
             ],
             [
              0.5555555555555556,
              "#d8576b"
             ],
             [
              0.6666666666666666,
              "#ed7953"
             ],
             [
              0.7777777777777778,
              "#fb9f3a"
             ],
             [
              0.8888888888888888,
              "#fdca26"
             ],
             [
              1,
              "#f0f921"
             ]
            ],
            "type": "contour"
           }
          ],
          "contourcarpet": [
           {
            "colorbar": {
             "outlinewidth": 0,
             "ticks": ""
            },
            "type": "contourcarpet"
           }
          ],
          "heatmap": [
           {
            "colorbar": {
             "outlinewidth": 0,
             "ticks": ""
            },
            "colorscale": [
             [
              0,
              "#0d0887"
             ],
             [
              0.1111111111111111,
              "#46039f"
             ],
             [
              0.2222222222222222,
              "#7201a8"
             ],
             [
              0.3333333333333333,
              "#9c179e"
             ],
             [
              0.4444444444444444,
              "#bd3786"
             ],
             [
              0.5555555555555556,
              "#d8576b"
             ],
             [
              0.6666666666666666,
              "#ed7953"
             ],
             [
              0.7777777777777778,
              "#fb9f3a"
             ],
             [
              0.8888888888888888,
              "#fdca26"
             ],
             [
              1,
              "#f0f921"
             ]
            ],
            "type": "heatmap"
           }
          ],
          "heatmapgl": [
           {
            "colorbar": {
             "outlinewidth": 0,
             "ticks": ""
            },
            "colorscale": [
             [
              0,
              "#0d0887"
             ],
             [
              0.1111111111111111,
              "#46039f"
             ],
             [
              0.2222222222222222,
              "#7201a8"
             ],
             [
              0.3333333333333333,
              "#9c179e"
             ],
             [
              0.4444444444444444,
              "#bd3786"
             ],
             [
              0.5555555555555556,
              "#d8576b"
             ],
             [
              0.6666666666666666,
              "#ed7953"
             ],
             [
              0.7777777777777778,
              "#fb9f3a"
             ],
             [
              0.8888888888888888,
              "#fdca26"
             ],
             [
              1,
              "#f0f921"
             ]
            ],
            "type": "heatmapgl"
           }
          ],
          "histogram": [
           {
            "marker": {
             "pattern": {
              "fillmode": "overlay",
              "size": 10,
              "solidity": 0.2
             }
            },
            "type": "histogram"
           }
          ],
          "histogram2d": [
           {
            "colorbar": {
             "outlinewidth": 0,
             "ticks": ""
            },
            "colorscale": [
             [
              0,
              "#0d0887"
             ],
             [
              0.1111111111111111,
              "#46039f"
             ],
             [
              0.2222222222222222,
              "#7201a8"
             ],
             [
              0.3333333333333333,
              "#9c179e"
             ],
             [
              0.4444444444444444,
              "#bd3786"
             ],
             [
              0.5555555555555556,
              "#d8576b"
             ],
             [
              0.6666666666666666,
              "#ed7953"
             ],
             [
              0.7777777777777778,
              "#fb9f3a"
             ],
             [
              0.8888888888888888,
              "#fdca26"
             ],
             [
              1,
              "#f0f921"
             ]
            ],
            "type": "histogram2d"
           }
          ],
          "histogram2dcontour": [
           {
            "colorbar": {
             "outlinewidth": 0,
             "ticks": ""
            },
            "colorscale": [
             [
              0,
              "#0d0887"
             ],
             [
              0.1111111111111111,
              "#46039f"
             ],
             [
              0.2222222222222222,
              "#7201a8"
             ],
             [
              0.3333333333333333,
              "#9c179e"
             ],
             [
              0.4444444444444444,
              "#bd3786"
             ],
             [
              0.5555555555555556,
              "#d8576b"
             ],
             [
              0.6666666666666666,
              "#ed7953"
             ],
             [
              0.7777777777777778,
              "#fb9f3a"
             ],
             [
              0.8888888888888888,
              "#fdca26"
             ],
             [
              1,
              "#f0f921"
             ]
            ],
            "type": "histogram2dcontour"
           }
          ],
          "mesh3d": [
           {
            "colorbar": {
             "outlinewidth": 0,
             "ticks": ""
            },
            "type": "mesh3d"
           }
          ],
          "parcoords": [
           {
            "line": {
             "colorbar": {
              "outlinewidth": 0,
              "ticks": ""
             }
            },
            "type": "parcoords"
           }
          ],
          "pie": [
           {
            "automargin": true,
            "type": "pie"
           }
          ],
          "scatter": [
           {
            "fillpattern": {
             "fillmode": "overlay",
             "size": 10,
             "solidity": 0.2
            },
            "type": "scatter"
           }
          ],
          "scatter3d": [
           {
            "line": {
             "colorbar": {
              "outlinewidth": 0,
              "ticks": ""
             }
            },
            "marker": {
             "colorbar": {
              "outlinewidth": 0,
              "ticks": ""
             }
            },
            "type": "scatter3d"
           }
          ],
          "scattercarpet": [
           {
            "marker": {
             "colorbar": {
              "outlinewidth": 0,
              "ticks": ""
             }
            },
            "type": "scattercarpet"
           }
          ],
          "scattergeo": [
           {
            "marker": {
             "colorbar": {
              "outlinewidth": 0,
              "ticks": ""
             }
            },
            "type": "scattergeo"
           }
          ],
          "scattergl": [
           {
            "marker": {
             "colorbar": {
              "outlinewidth": 0,
              "ticks": ""
             }
            },
            "type": "scattergl"
           }
          ],
          "scattermapbox": [
           {
            "marker": {
             "colorbar": {
              "outlinewidth": 0,
              "ticks": ""
             }
            },
            "type": "scattermapbox"
           }
          ],
          "scatterpolar": [
           {
            "marker": {
             "colorbar": {
              "outlinewidth": 0,
              "ticks": ""
             }
            },
            "type": "scatterpolar"
           }
          ],
          "scatterpolargl": [
           {
            "marker": {
             "colorbar": {
              "outlinewidth": 0,
              "ticks": ""
             }
            },
            "type": "scatterpolargl"
           }
          ],
          "scatterternary": [
           {
            "marker": {
             "colorbar": {
              "outlinewidth": 0,
              "ticks": ""
             }
            },
            "type": "scatterternary"
           }
          ],
          "surface": [
           {
            "colorbar": {
             "outlinewidth": 0,
             "ticks": ""
            },
            "colorscale": [
             [
              0,
              "#0d0887"
             ],
             [
              0.1111111111111111,
              "#46039f"
             ],
             [
              0.2222222222222222,
              "#7201a8"
             ],
             [
              0.3333333333333333,
              "#9c179e"
             ],
             [
              0.4444444444444444,
              "#bd3786"
             ],
             [
              0.5555555555555556,
              "#d8576b"
             ],
             [
              0.6666666666666666,
              "#ed7953"
             ],
             [
              0.7777777777777778,
              "#fb9f3a"
             ],
             [
              0.8888888888888888,
              "#fdca26"
             ],
             [
              1,
              "#f0f921"
             ]
            ],
            "type": "surface"
           }
          ],
          "table": [
           {
            "cells": {
             "fill": {
              "color": "#EBF0F8"
             },
             "line": {
              "color": "white"
             }
            },
            "header": {
             "fill": {
              "color": "#C8D4E3"
             },
             "line": {
              "color": "white"
             }
            },
            "type": "table"
           }
          ]
         },
         "layout": {
          "annotationdefaults": {
           "arrowcolor": "#2a3f5f",
           "arrowhead": 0,
           "arrowwidth": 1
          },
          "autotypenumbers": "strict",
          "coloraxis": {
           "colorbar": {
            "outlinewidth": 0,
            "ticks": ""
           }
          },
          "colorscale": {
           "diverging": [
            [
             0,
             "#8e0152"
            ],
            [
             0.1,
             "#c51b7d"
            ],
            [
             0.2,
             "#de77ae"
            ],
            [
             0.3,
             "#f1b6da"
            ],
            [
             0.4,
             "#fde0ef"
            ],
            [
             0.5,
             "#f7f7f7"
            ],
            [
             0.6,
             "#e6f5d0"
            ],
            [
             0.7,
             "#b8e186"
            ],
            [
             0.8,
             "#7fbc41"
            ],
            [
             0.9,
             "#4d9221"
            ],
            [
             1,
             "#276419"
            ]
           ],
           "sequential": [
            [
             0,
             "#0d0887"
            ],
            [
             0.1111111111111111,
             "#46039f"
            ],
            [
             0.2222222222222222,
             "#7201a8"
            ],
            [
             0.3333333333333333,
             "#9c179e"
            ],
            [
             0.4444444444444444,
             "#bd3786"
            ],
            [
             0.5555555555555556,
             "#d8576b"
            ],
            [
             0.6666666666666666,
             "#ed7953"
            ],
            [
             0.7777777777777778,
             "#fb9f3a"
            ],
            [
             0.8888888888888888,
             "#fdca26"
            ],
            [
             1,
             "#f0f921"
            ]
           ],
           "sequentialminus": [
            [
             0,
             "#0d0887"
            ],
            [
             0.1111111111111111,
             "#46039f"
            ],
            [
             0.2222222222222222,
             "#7201a8"
            ],
            [
             0.3333333333333333,
             "#9c179e"
            ],
            [
             0.4444444444444444,
             "#bd3786"
            ],
            [
             0.5555555555555556,
             "#d8576b"
            ],
            [
             0.6666666666666666,
             "#ed7953"
            ],
            [
             0.7777777777777778,
             "#fb9f3a"
            ],
            [
             0.8888888888888888,
             "#fdca26"
            ],
            [
             1,
             "#f0f921"
            ]
           ]
          },
          "colorway": [
           "#636efa",
           "#EF553B",
           "#00cc96",
           "#ab63fa",
           "#FFA15A",
           "#19d3f3",
           "#FF6692",
           "#B6E880",
           "#FF97FF",
           "#FECB52"
          ],
          "font": {
           "color": "#2a3f5f"
          },
          "geo": {
           "bgcolor": "white",
           "lakecolor": "white",
           "landcolor": "#E5ECF6",
           "showlakes": true,
           "showland": true,
           "subunitcolor": "white"
          },
          "hoverlabel": {
           "align": "left"
          },
          "hovermode": "closest",
          "mapbox": {
           "style": "light"
          },
          "paper_bgcolor": "white",
          "plot_bgcolor": "#E5ECF6",
          "polar": {
           "angularaxis": {
            "gridcolor": "white",
            "linecolor": "white",
            "ticks": ""
           },
           "bgcolor": "#E5ECF6",
           "radialaxis": {
            "gridcolor": "white",
            "linecolor": "white",
            "ticks": ""
           }
          },
          "scene": {
           "xaxis": {
            "backgroundcolor": "#E5ECF6",
            "gridcolor": "white",
            "gridwidth": 2,
            "linecolor": "white",
            "showbackground": true,
            "ticks": "",
            "zerolinecolor": "white"
           },
           "yaxis": {
            "backgroundcolor": "#E5ECF6",
            "gridcolor": "white",
            "gridwidth": 2,
            "linecolor": "white",
            "showbackground": true,
            "ticks": "",
            "zerolinecolor": "white"
           },
           "zaxis": {
            "backgroundcolor": "#E5ECF6",
            "gridcolor": "white",
            "gridwidth": 2,
            "linecolor": "white",
            "showbackground": true,
            "ticks": "",
            "zerolinecolor": "white"
           }
          },
          "shapedefaults": {
           "line": {
            "color": "#2a3f5f"
           }
          },
          "ternary": {
           "aaxis": {
            "gridcolor": "white",
            "linecolor": "white",
            "ticks": ""
           },
           "baxis": {
            "gridcolor": "white",
            "linecolor": "white",
            "ticks": ""
           },
           "bgcolor": "#E5ECF6",
           "caxis": {
            "gridcolor": "white",
            "linecolor": "white",
            "ticks": ""
           }
          },
          "title": {
           "x": 0.05
          },
          "xaxis": {
           "automargin": true,
           "gridcolor": "white",
           "linecolor": "white",
           "ticks": "",
           "title": {
            "standoff": 15
           },
           "zerolinecolor": "white",
           "zerolinewidth": 2
          },
          "yaxis": {
           "automargin": true,
           "gridcolor": "white",
           "linecolor": "white",
           "ticks": "",
           "title": {
            "standoff": 15
           },
           "zerolinecolor": "white",
           "zerolinewidth": 2
          }
         }
        },
        "title": {
         "text": "Principle Components",
         "x": 0.5
        },
        "width": 600
       }
      },
      "text/html": [
       "<div>                            <div id=\"69592ecb-787f-4578-aad7-f4e325875545\" class=\"plotly-graph-div\" style=\"height:800px; width:600px;\"></div>            <script type=\"text/javascript\">                require([\"plotly\"], function(Plotly) {                    window.PLOTLYENV=window.PLOTLYENV || {};                                    if (document.getElementById(\"69592ecb-787f-4578-aad7-f4e325875545\")) {                    Plotly.newPlot(                        \"69592ecb-787f-4578-aad7-f4e325875545\",                        [{\"cells\":{\"align\":[\"left\",\"left\",\"left\"],\"fill\":{\"color\":\"rgb(245,245,245)\"},\"font\":{\"color\":[\"black\",\"black\",[\"red\",\"red\",\"black\",\"black\",\"black\",\"red\",\"red\",\"red\",\"black\",\"black\",\"black\",\"black\",\"red\",\"black\",\"black\",\"red\",\"black\",\"black\",\"black\",\"black\",\"black\",\"black\",\"black\",\"black\",\"black\",\"black\",\"red\",\"red\",\"black\",\"black\",\"black\",\"red\",\"red\",\"red\",\"red\",\"red\",\"red\",\"black\",\"red\",\"black\",\"black\",\"red\",\"red\",\"red\",\"red\",\"red\",\"red\",\"red\",\"red\",\"red\"]],\"family\":\"Arial\",\"size\":14},\"height\":25,\"line\":{\"color\":\"#506784\"},\"values\":[[\"ADJ\",\"ADP\",\"ADV\",\"AUX\",\"CCONJ\",\"DET\",\"INTJ\",\"NOUN\",\"NUM\",\"PART\",\"PRON\",\"PROPN\",\"PUNCT\",\"SCONJ\",\"SYM\",\"VERB\",\"anger\",\"anticipation\",\"disgust\",\"fear\",\"joy\",\"negative\",\"positive\",\"sadness\",\"surprise\",\"trust\",\"num_unique_words\",\"depth\",\"TBsubjectivity\",\"TBpolarity\",\"words_per_sentence\",\"char_count\",\"syl_count\",\"word_count\",\"char_per_word\",\"syl_per_word\",\"sent_count\",\"word_per_sent\",\"dc_word_count\",\"gf_word_count\",\"poly_word_count\",\"dc_word_perc\",\"gf_word_perc\",\"poly_word_perc\",\"ari\",\"flesch_kincaid\",\"coleman_liau\",\"dale_chall\",\"gunning_fog\",\"smog\"],[-0.167,-0.169,-0.025,-0.146,-0.116,-0.171,0.161,-0.176,-0.007,-0.152,-0.057,-0.137,-0.171,-0.018,0.076,-0.171,-0.043,0.058,-0.0,-0.06,0.119,-0.052,0.008,0.004,0.03,-0.005,0.173,-0.175,0.105,0.115,-0.158,0.174,0.172,0.182,-0.182,-0.18,0.195,-0.152,0.163,0.142,0.142,-0.171,-0.167,-0.172,-0.184,-0.185,-0.189,-0.18,-0.179,-0.184],[0.172,0.188,0.034,0.185,0.114,0.188,-0.057,0.183,-0.115,0.162,0.048,0.128,0.189,0.026,-0.159,0.194,-0.002,0.0,0.009,0.01,0.051,-0.025,-0.011,0.011,0.02,-0.024,-0.135,-0.159,0.088,0.031,-0.191,-0.13,-0.133,-0.118,-0.16,-0.172,-0.082,-0.196,-0.148,-0.172,-0.171,-0.13,-0.184,-0.182,-0.208,-0.211,-0.174,-0.203,-0.216,-0.214]]},\"header\":{\"align\":[\"center\",\"center\",\"center\"],\"fill\":{\"color\":\"#686dea\"},\"font\":{\"color\":\"#ffffff\",\"size\":20},\"height\":50,\"values\":[[\"Var\"],[\"PC1\"],[\"PC2\"]]},\"type\":\"table\"}],                        {\"autosize\":false,\"height\":800,\"showlegend\":false,\"title\":{\"text\":\"Principle Components\",\"x\":0.5},\"width\":600,\"template\":{\"data\":{\"histogram2dcontour\":[{\"type\":\"histogram2dcontour\",\"colorbar\":{\"outlinewidth\":0,\"ticks\":\"\"},\"colorscale\":[[0.0,\"#0d0887\"],[0.1111111111111111,\"#46039f\"],[0.2222222222222222,\"#7201a8\"],[0.3333333333333333,\"#9c179e\"],[0.4444444444444444,\"#bd3786\"],[0.5555555555555556,\"#d8576b\"],[0.6666666666666666,\"#ed7953\"],[0.7777777777777778,\"#fb9f3a\"],[0.8888888888888888,\"#fdca26\"],[1.0,\"#f0f921\"]]}],\"choropleth\":[{\"type\":\"choropleth\",\"colorbar\":{\"outlinewidth\":0,\"ticks\":\"\"}}],\"histogram2d\":[{\"type\":\"histogram2d\",\"colorbar\":{\"outlinewidth\":0,\"ticks\":\"\"},\"colorscale\":[[0.0,\"#0d0887\"],[0.1111111111111111,\"#46039f\"],[0.2222222222222222,\"#7201a8\"],[0.3333333333333333,\"#9c179e\"],[0.4444444444444444,\"#bd3786\"],[0.5555555555555556,\"#d8576b\"],[0.6666666666666666,\"#ed7953\"],[0.7777777777777778,\"#fb9f3a\"],[0.8888888888888888,\"#fdca26\"],[1.0,\"#f0f921\"]]}],\"heatmap\":[{\"type\":\"heatmap\",\"colorbar\":{\"outlinewidth\":0,\"ticks\":\"\"},\"colorscale\":[[0.0,\"#0d0887\"],[0.1111111111111111,\"#46039f\"],[0.2222222222222222,\"#7201a8\"],[0.3333333333333333,\"#9c179e\"],[0.4444444444444444,\"#bd3786\"],[0.5555555555555556,\"#d8576b\"],[0.6666666666666666,\"#ed7953\"],[0.7777777777777778,\"#fb9f3a\"],[0.8888888888888888,\"#fdca26\"],[1.0,\"#f0f921\"]]}],\"heatmapgl\":[{\"type\":\"heatmapgl\",\"colorbar\":{\"outlinewidth\":0,\"ticks\":\"\"},\"colorscale\":[[0.0,\"#0d0887\"],[0.1111111111111111,\"#46039f\"],[0.2222222222222222,\"#7201a8\"],[0.3333333333333333,\"#9c179e\"],[0.4444444444444444,\"#bd3786\"],[0.5555555555555556,\"#d8576b\"],[0.6666666666666666,\"#ed7953\"],[0.7777777777777778,\"#fb9f3a\"],[0.8888888888888888,\"#fdca26\"],[1.0,\"#f0f921\"]]}],\"contourcarpet\":[{\"type\":\"contourcarpet\",\"colorbar\":{\"outlinewidth\":0,\"ticks\":\"\"}}],\"contour\":[{\"type\":\"contour\",\"colorbar\":{\"outlinewidth\":0,\"ticks\":\"\"},\"colorscale\":[[0.0,\"#0d0887\"],[0.1111111111111111,\"#46039f\"],[0.2222222222222222,\"#7201a8\"],[0.3333333333333333,\"#9c179e\"],[0.4444444444444444,\"#bd3786\"],[0.5555555555555556,\"#d8576b\"],[0.6666666666666666,\"#ed7953\"],[0.7777777777777778,\"#fb9f3a\"],[0.8888888888888888,\"#fdca26\"],[1.0,\"#f0f921\"]]}],\"surface\":[{\"type\":\"surface\",\"colorbar\":{\"outlinewidth\":0,\"ticks\":\"\"},\"colorscale\":[[0.0,\"#0d0887\"],[0.1111111111111111,\"#46039f\"],[0.2222222222222222,\"#7201a8\"],[0.3333333333333333,\"#9c179e\"],[0.4444444444444444,\"#bd3786\"],[0.5555555555555556,\"#d8576b\"],[0.6666666666666666,\"#ed7953\"],[0.7777777777777778,\"#fb9f3a\"],[0.8888888888888888,\"#fdca26\"],[1.0,\"#f0f921\"]]}],\"mesh3d\":[{\"type\":\"mesh3d\",\"colorbar\":{\"outlinewidth\":0,\"ticks\":\"\"}}],\"scatter\":[{\"fillpattern\":{\"fillmode\":\"overlay\",\"size\":10,\"solidity\":0.2},\"type\":\"scatter\"}],\"parcoords\":[{\"type\":\"parcoords\",\"line\":{\"colorbar\":{\"outlinewidth\":0,\"ticks\":\"\"}}}],\"scatterpolargl\":[{\"type\":\"scatterpolargl\",\"marker\":{\"colorbar\":{\"outlinewidth\":0,\"ticks\":\"\"}}}],\"bar\":[{\"error_x\":{\"color\":\"#2a3f5f\"},\"error_y\":{\"color\":\"#2a3f5f\"},\"marker\":{\"line\":{\"color\":\"#E5ECF6\",\"width\":0.5},\"pattern\":{\"fillmode\":\"overlay\",\"size\":10,\"solidity\":0.2}},\"type\":\"bar\"}],\"scattergeo\":[{\"type\":\"scattergeo\",\"marker\":{\"colorbar\":{\"outlinewidth\":0,\"ticks\":\"\"}}}],\"scatterpolar\":[{\"type\":\"scatterpolar\",\"marker\":{\"colorbar\":{\"outlinewidth\":0,\"ticks\":\"\"}}}],\"histogram\":[{\"marker\":{\"pattern\":{\"fillmode\":\"overlay\",\"size\":10,\"solidity\":0.2}},\"type\":\"histogram\"}],\"scattergl\":[{\"type\":\"scattergl\",\"marker\":{\"colorbar\":{\"outlinewidth\":0,\"ticks\":\"\"}}}],\"scatter3d\":[{\"type\":\"scatter3d\",\"line\":{\"colorbar\":{\"outlinewidth\":0,\"ticks\":\"\"}},\"marker\":{\"colorbar\":{\"outlinewidth\":0,\"ticks\":\"\"}}}],\"scattermapbox\":[{\"type\":\"scattermapbox\",\"marker\":{\"colorbar\":{\"outlinewidth\":0,\"ticks\":\"\"}}}],\"scatterternary\":[{\"type\":\"scatterternary\",\"marker\":{\"colorbar\":{\"outlinewidth\":0,\"ticks\":\"\"}}}],\"scattercarpet\":[{\"type\":\"scattercarpet\",\"marker\":{\"colorbar\":{\"outlinewidth\":0,\"ticks\":\"\"}}}],\"carpet\":[{\"aaxis\":{\"endlinecolor\":\"#2a3f5f\",\"gridcolor\":\"white\",\"linecolor\":\"white\",\"minorgridcolor\":\"white\",\"startlinecolor\":\"#2a3f5f\"},\"baxis\":{\"endlinecolor\":\"#2a3f5f\",\"gridcolor\":\"white\",\"linecolor\":\"white\",\"minorgridcolor\":\"white\",\"startlinecolor\":\"#2a3f5f\"},\"type\":\"carpet\"}],\"table\":[{\"cells\":{\"fill\":{\"color\":\"#EBF0F8\"},\"line\":{\"color\":\"white\"}},\"header\":{\"fill\":{\"color\":\"#C8D4E3\"},\"line\":{\"color\":\"white\"}},\"type\":\"table\"}],\"barpolar\":[{\"marker\":{\"line\":{\"color\":\"#E5ECF6\",\"width\":0.5},\"pattern\":{\"fillmode\":\"overlay\",\"size\":10,\"solidity\":0.2}},\"type\":\"barpolar\"}],\"pie\":[{\"automargin\":true,\"type\":\"pie\"}]},\"layout\":{\"autotypenumbers\":\"strict\",\"colorway\":[\"#636efa\",\"#EF553B\",\"#00cc96\",\"#ab63fa\",\"#FFA15A\",\"#19d3f3\",\"#FF6692\",\"#B6E880\",\"#FF97FF\",\"#FECB52\"],\"font\":{\"color\":\"#2a3f5f\"},\"hovermode\":\"closest\",\"hoverlabel\":{\"align\":\"left\"},\"paper_bgcolor\":\"white\",\"plot_bgcolor\":\"#E5ECF6\",\"polar\":{\"bgcolor\":\"#E5ECF6\",\"angularaxis\":{\"gridcolor\":\"white\",\"linecolor\":\"white\",\"ticks\":\"\"},\"radialaxis\":{\"gridcolor\":\"white\",\"linecolor\":\"white\",\"ticks\":\"\"}},\"ternary\":{\"bgcolor\":\"#E5ECF6\",\"aaxis\":{\"gridcolor\":\"white\",\"linecolor\":\"white\",\"ticks\":\"\"},\"baxis\":{\"gridcolor\":\"white\",\"linecolor\":\"white\",\"ticks\":\"\"},\"caxis\":{\"gridcolor\":\"white\",\"linecolor\":\"white\",\"ticks\":\"\"}},\"coloraxis\":{\"colorbar\":{\"outlinewidth\":0,\"ticks\":\"\"}},\"colorscale\":{\"sequential\":[[0.0,\"#0d0887\"],[0.1111111111111111,\"#46039f\"],[0.2222222222222222,\"#7201a8\"],[0.3333333333333333,\"#9c179e\"],[0.4444444444444444,\"#bd3786\"],[0.5555555555555556,\"#d8576b\"],[0.6666666666666666,\"#ed7953\"],[0.7777777777777778,\"#fb9f3a\"],[0.8888888888888888,\"#fdca26\"],[1.0,\"#f0f921\"]],\"sequentialminus\":[[0.0,\"#0d0887\"],[0.1111111111111111,\"#46039f\"],[0.2222222222222222,\"#7201a8\"],[0.3333333333333333,\"#9c179e\"],[0.4444444444444444,\"#bd3786\"],[0.5555555555555556,\"#d8576b\"],[0.6666666666666666,\"#ed7953\"],[0.7777777777777778,\"#fb9f3a\"],[0.8888888888888888,\"#fdca26\"],[1.0,\"#f0f921\"]],\"diverging\":[[0,\"#8e0152\"],[0.1,\"#c51b7d\"],[0.2,\"#de77ae\"],[0.3,\"#f1b6da\"],[0.4,\"#fde0ef\"],[0.5,\"#f7f7f7\"],[0.6,\"#e6f5d0\"],[0.7,\"#b8e186\"],[0.8,\"#7fbc41\"],[0.9,\"#4d9221\"],[1,\"#276419\"]]},\"xaxis\":{\"gridcolor\":\"white\",\"linecolor\":\"white\",\"ticks\":\"\",\"title\":{\"standoff\":15},\"zerolinecolor\":\"white\",\"automargin\":true,\"zerolinewidth\":2},\"yaxis\":{\"gridcolor\":\"white\",\"linecolor\":\"white\",\"ticks\":\"\",\"title\":{\"standoff\":15},\"zerolinecolor\":\"white\",\"automargin\":true,\"zerolinewidth\":2},\"scene\":{\"xaxis\":{\"backgroundcolor\":\"#E5ECF6\",\"gridcolor\":\"white\",\"linecolor\":\"white\",\"showbackground\":true,\"ticks\":\"\",\"zerolinecolor\":\"white\",\"gridwidth\":2},\"yaxis\":{\"backgroundcolor\":\"#E5ECF6\",\"gridcolor\":\"white\",\"linecolor\":\"white\",\"showbackground\":true,\"ticks\":\"\",\"zerolinecolor\":\"white\",\"gridwidth\":2},\"zaxis\":{\"backgroundcolor\":\"#E5ECF6\",\"gridcolor\":\"white\",\"linecolor\":\"white\",\"showbackground\":true,\"ticks\":\"\",\"zerolinecolor\":\"white\",\"gridwidth\":2}},\"shapedefaults\":{\"line\":{\"color\":\"#2a3f5f\"}},\"annotationdefaults\":{\"arrowcolor\":\"#2a3f5f\",\"arrowhead\":0,\"arrowwidth\":1},\"geo\":{\"bgcolor\":\"white\",\"landcolor\":\"#E5ECF6\",\"subunitcolor\":\"white\",\"showland\":true,\"showlakes\":true,\"lakecolor\":\"white\"},\"title\":{\"x\":0.05},\"mapbox\":{\"style\":\"light\"}}}},                        {\"responsive\": true}                    ).then(function(){\n",
       "                            \n",
       "var gd = document.getElementById('69592ecb-787f-4578-aad7-f4e325875545');\n",
       "var x = new MutationObserver(function (mutations, observer) {{\n",
       "        var display = window.getComputedStyle(gd).display;\n",
       "        if (!display || display === 'none') {{\n",
       "            console.log([gd, 'removed!']);\n",
       "            Plotly.purge(gd);\n",
       "            observer.disconnect();\n",
       "        }}\n",
       "}});\n",
       "\n",
       "// Listen for the removal of the full notebook cells\n",
       "var notebookContainer = gd.closest('#notebook-container');\n",
       "if (notebookContainer) {{\n",
       "    x.observe(notebookContainer, {childList: true});\n",
       "}}\n",
       "\n",
       "// Listen for the clearing of the current output cell\n",
       "var outputEl = gd.closest('.output');\n",
       "if (outputEl) {{\n",
       "    x.observe(outputEl, {childList: true});\n",
       "}}\n",
       "\n",
       "                        })                };                });            </script>        </div>"
      ]
     },
     "metadata": {},
     "output_type": "display_data"
    }
   ],
   "source": [
    "font_color=['black']*2+[['red' if boolv else 'black' for boolv in abs(to_png['PC1'])>0.16]]\n",
    "table_trace = go.Table(\n",
    "                 header = dict(height = 50,\n",
    "                               values = [['Var'], ['PC1'], ['PC2']],\n",
    "                               align = ['center']*3,\n",
    "                               fill_color = '#686dea',\n",
    "                               font_color = '#ffffff',\n",
    "                               font_size =20),\n",
    "                 cells = dict(values = [to_png['var'], round(to_png['PC1'],3), round(to_png['PC2'],3)],\n",
    "                              line = dict(color='#506784'),\n",
    "                              align = ['left']*3,\n",
    "                              font_color=font_color,\n",
    "                              font_family=\"Arial\", \n",
    "                              font_size=14,   \n",
    "                              height = 25,\n",
    "                              fill = dict(color='rgb(245,245,245)'))\n",
    "                             )\n",
    "layout = go.Layout(width=600, height=800, autosize=False,\n",
    "                   title_text='Principle Components',\n",
    "                   title_x=0.5, showlegend=False)\n",
    "fig = go.Figure(data=[table_trace], layout=layout)\n",
    "fig.show()"
   ]
  },
  {
   "cell_type": "code",
   "execution_count": 112,
   "id": "ede78418",
   "metadata": {},
   "outputs": [
    {
     "data": {
      "application/vnd.plotly.v1+json": {
       "config": {
        "plotlyServerURL": "https://plot.ly"
       },
       "data": [
        {
         "coloraxis": "coloraxis",
         "hovertemplate": "x: %{x}<br>y: %{y}<br>color: %{z}<extra></extra>",
         "name": "0",
         "texttemplate": "%{z}",
         "type": "heatmap",
         "x": [
          "PC1",
          "PC2",
          "var"
         ],
         "xaxis": "x",
         "y": [
          "ADJ",
          "ADP",
          "ADV",
          "AUX",
          "CCONJ",
          "DET",
          "INTJ",
          "NOUN",
          "NUM",
          "PART",
          "PRON",
          "PROPN",
          "PUNCT",
          "SCONJ",
          "SYM",
          "VERB",
          "anger",
          "anticipation",
          "disgust",
          "fear",
          "joy",
          "negative",
          "positive",
          "sadness",
          "surprise",
          "trust",
          "num_unique_words",
          "depth",
          "TBsubjectivity",
          "TBpolarity",
          "words_per_sentence",
          "char_count",
          "syl_count",
          "word_count",
          "char_per_word",
          "syl_per_word",
          "sent_count",
          "word_per_sent",
          "dc_word_count",
          "gf_word_count",
          "poly_word_count",
          "dc_word_perc",
          "gf_word_perc",
          "poly_word_perc",
          "ari",
          "flesch_kincaid",
          "coleman_liau",
          "dale_chall",
          "gunning_fog",
          "smog"
         ],
         "yaxis": "y",
         "z": [
          [
           -0.16745392152821373,
           0.17219766544774612,
           "ADJ"
          ],
          [
           -0.16944214376398992,
           0.18754276275293924,
           "ADP"
          ],
          [
           -0.025360292613201774,
           0.03385501593911666,
           "ADV"
          ],
          [
           -0.1460185507330068,
           0.185056155882783,
           "AUX"
          ],
          [
           -0.115724224270179,
           0.1143781666351307,
           "CCONJ"
          ],
          [
           -0.17119097150439827,
           0.18789502866323132,
           "DET"
          ],
          [
           0.1610698140473504,
           -0.056673953438124425,
           "INTJ"
          ],
          [
           -0.17560430318911582,
           0.1833913440524383,
           "NOUN"
          ],
          [
           -0.0070772887995754,
           -0.11452465711388617,
           "NUM"
          ],
          [
           -0.1523695167438893,
           0.16220838997692708,
           "PART"
          ],
          [
           -0.0570852646338992,
           0.04775449179847722,
           "PRON"
          ],
          [
           -0.13670445973215992,
           0.1278206376501512,
           "PROPN"
          ],
          [
           -0.1713229233646325,
           0.18856128732677044,
           "PUNCT"
          ],
          [
           -0.018018927289185492,
           0.025831074672136863,
           "SCONJ"
          ],
          [
           0.07626944495855663,
           -0.15861600223242572,
           "SYM"
          ],
          [
           -0.17143008028299617,
           0.19387382806177023,
           "VERB"
          ],
          [
           -0.0433758256531776,
           -0.0023195331798430345,
           "anger"
          ],
          [
           0.058347240279319215,
           0.00015690470035216556,
           "anticipation"
          ],
          [
           -9.508785108037838e-05,
           0.009148279150319499,
           "disgust"
          ],
          [
           -0.06022856567522041,
           0.010401632825641952,
           "fear"
          ],
          [
           0.11869890635177104,
           0.050615906871123655,
           "joy"
          ],
          [
           -0.05189377156413365,
           -0.02537073114135776,
           "negative"
          ],
          [
           0.008078599056457296,
           -0.011454110597967339,
           "positive"
          ],
          [
           0.003930825282051969,
           0.010641297409207417,
           "sadness"
          ],
          [
           0.030234033968180377,
           0.019828063602471985,
           "surprise"
          ],
          [
           -0.0046330996503011245,
           -0.024384016501319314,
           "trust"
          ],
          [
           0.17324333162533562,
           -0.13478675927908806,
           "num_unique_words"
          ],
          [
           -0.17519813203071347,
           -0.1587617290875212,
           "depth"
          ],
          [
           0.10479151131767998,
           0.08832223255261722,
           "TBsubjectivity"
          ],
          [
           0.11548285970436799,
           0.031032150312679228,
           "TBpolarity"
          ],
          [
           -0.1579229166527755,
           -0.1906371244102519,
           "words_per_sentence"
          ],
          [
           0.17402059824150062,
           -0.13019814570940672,
           "char_count"
          ],
          [
           0.17231490048357065,
           -0.13320301554797465,
           "syl_count"
          ],
          [
           0.18186037113904072,
           -0.11826421615498098,
           "word_count"
          ],
          [
           -0.18234121423442864,
           -0.16026880647011754,
           "char_per_word"
          ],
          [
           -0.17978939493842208,
           -0.1718125950098315,
           "syl_per_word"
          ],
          [
           0.1953673499256751,
           -0.08159583615978888,
           "sent_count"
          ],
          [
           -0.15193597204445736,
           -0.19558214550187608,
           "word_per_sent"
          ],
          [
           0.16263233349010786,
           -0.14771385173806512,
           "dc_word_count"
          ],
          [
           0.14213088672395868,
           -0.17199703465958988,
           "gf_word_count"
          ],
          [
           0.1418941350739248,
           -0.17096427056890268,
           "poly_word_count"
          ],
          [
           -0.17138777762307833,
           -0.13025216354712,
           "dc_word_perc"
          ],
          [
           -0.16669442969586648,
           -0.1836322663461345,
           "gf_word_perc"
          ],
          [
           -0.171637459249034,
           -0.18204728776411444,
           "poly_word_perc"
          ],
          [
           -0.18400973420221006,
           -0.2076650048184621,
           "ari"
          ],
          [
           -0.1846437775622433,
           -0.21055187275912796,
           "flesch_kincaid"
          ],
          [
           -0.18919229070966717,
           -0.1743194071755653,
           "coleman_liau"
          ],
          [
           -0.17981100746138584,
           -0.20260356498183904,
           "dale_chall"
          ],
          [
           -0.1787892702245872,
           -0.21568559989856073,
           "gunning_fog"
          ],
          [
           -0.18360355113406274,
           -0.21390474272107907,
           "smog"
          ]
         ]
        }
       ],
       "layout": {
        "coloraxis": {
         "colorscale": [
          [
           0,
           "#0d0887"
          ],
          [
           0.1111111111111111,
           "#46039f"
          ],
          [
           0.2222222222222222,
           "#7201a8"
          ],
          [
           0.3333333333333333,
           "#9c179e"
          ],
          [
           0.4444444444444444,
           "#bd3786"
          ],
          [
           0.5555555555555556,
           "#d8576b"
          ],
          [
           0.6666666666666666,
           "#ed7953"
          ],
          [
           0.7777777777777778,
           "#fb9f3a"
          ],
          [
           0.8888888888888888,
           "#fdca26"
          ],
          [
           1,
           "#f0f921"
          ]
         ]
        },
        "margin": {
         "t": 60
        },
        "template": {
         "data": {
          "bar": [
           {
            "error_x": {
             "color": "#2a3f5f"
            },
            "error_y": {
             "color": "#2a3f5f"
            },
            "marker": {
             "line": {
              "color": "#E5ECF6",
              "width": 0.5
             },
             "pattern": {
              "fillmode": "overlay",
              "size": 10,
              "solidity": 0.2
             }
            },
            "type": "bar"
           }
          ],
          "barpolar": [
           {
            "marker": {
             "line": {
              "color": "#E5ECF6",
              "width": 0.5
             },
             "pattern": {
              "fillmode": "overlay",
              "size": 10,
              "solidity": 0.2
             }
            },
            "type": "barpolar"
           }
          ],
          "carpet": [
           {
            "aaxis": {
             "endlinecolor": "#2a3f5f",
             "gridcolor": "white",
             "linecolor": "white",
             "minorgridcolor": "white",
             "startlinecolor": "#2a3f5f"
            },
            "baxis": {
             "endlinecolor": "#2a3f5f",
             "gridcolor": "white",
             "linecolor": "white",
             "minorgridcolor": "white",
             "startlinecolor": "#2a3f5f"
            },
            "type": "carpet"
           }
          ],
          "choropleth": [
           {
            "colorbar": {
             "outlinewidth": 0,
             "ticks": ""
            },
            "type": "choropleth"
           }
          ],
          "contour": [
           {
            "colorbar": {
             "outlinewidth": 0,
             "ticks": ""
            },
            "colorscale": [
             [
              0,
              "#0d0887"
             ],
             [
              0.1111111111111111,
              "#46039f"
             ],
             [
              0.2222222222222222,
              "#7201a8"
             ],
             [
              0.3333333333333333,
              "#9c179e"
             ],
             [
              0.4444444444444444,
              "#bd3786"
             ],
             [
              0.5555555555555556,
              "#d8576b"
             ],
             [
              0.6666666666666666,
              "#ed7953"
             ],
             [
              0.7777777777777778,
              "#fb9f3a"
             ],
             [
              0.8888888888888888,
              "#fdca26"
             ],
             [
              1,
              "#f0f921"
             ]
            ],
            "type": "contour"
           }
          ],
          "contourcarpet": [
           {
            "colorbar": {
             "outlinewidth": 0,
             "ticks": ""
            },
            "type": "contourcarpet"
           }
          ],
          "heatmap": [
           {
            "colorbar": {
             "outlinewidth": 0,
             "ticks": ""
            },
            "colorscale": [
             [
              0,
              "#0d0887"
             ],
             [
              0.1111111111111111,
              "#46039f"
             ],
             [
              0.2222222222222222,
              "#7201a8"
             ],
             [
              0.3333333333333333,
              "#9c179e"
             ],
             [
              0.4444444444444444,
              "#bd3786"
             ],
             [
              0.5555555555555556,
              "#d8576b"
             ],
             [
              0.6666666666666666,
              "#ed7953"
             ],
             [
              0.7777777777777778,
              "#fb9f3a"
             ],
             [
              0.8888888888888888,
              "#fdca26"
             ],
             [
              1,
              "#f0f921"
             ]
            ],
            "type": "heatmap"
           }
          ],
          "heatmapgl": [
           {
            "colorbar": {
             "outlinewidth": 0,
             "ticks": ""
            },
            "colorscale": [
             [
              0,
              "#0d0887"
             ],
             [
              0.1111111111111111,
              "#46039f"
             ],
             [
              0.2222222222222222,
              "#7201a8"
             ],
             [
              0.3333333333333333,
              "#9c179e"
             ],
             [
              0.4444444444444444,
              "#bd3786"
             ],
             [
              0.5555555555555556,
              "#d8576b"
             ],
             [
              0.6666666666666666,
              "#ed7953"
             ],
             [
              0.7777777777777778,
              "#fb9f3a"
             ],
             [
              0.8888888888888888,
              "#fdca26"
             ],
             [
              1,
              "#f0f921"
             ]
            ],
            "type": "heatmapgl"
           }
          ],
          "histogram": [
           {
            "marker": {
             "pattern": {
              "fillmode": "overlay",
              "size": 10,
              "solidity": 0.2
             }
            },
            "type": "histogram"
           }
          ],
          "histogram2d": [
           {
            "colorbar": {
             "outlinewidth": 0,
             "ticks": ""
            },
            "colorscale": [
             [
              0,
              "#0d0887"
             ],
             [
              0.1111111111111111,
              "#46039f"
             ],
             [
              0.2222222222222222,
              "#7201a8"
             ],
             [
              0.3333333333333333,
              "#9c179e"
             ],
             [
              0.4444444444444444,
              "#bd3786"
             ],
             [
              0.5555555555555556,
              "#d8576b"
             ],
             [
              0.6666666666666666,
              "#ed7953"
             ],
             [
              0.7777777777777778,
              "#fb9f3a"
             ],
             [
              0.8888888888888888,
              "#fdca26"
             ],
             [
              1,
              "#f0f921"
             ]
            ],
            "type": "histogram2d"
           }
          ],
          "histogram2dcontour": [
           {
            "colorbar": {
             "outlinewidth": 0,
             "ticks": ""
            },
            "colorscale": [
             [
              0,
              "#0d0887"
             ],
             [
              0.1111111111111111,
              "#46039f"
             ],
             [
              0.2222222222222222,
              "#7201a8"
             ],
             [
              0.3333333333333333,
              "#9c179e"
             ],
             [
              0.4444444444444444,
              "#bd3786"
             ],
             [
              0.5555555555555556,
              "#d8576b"
             ],
             [
              0.6666666666666666,
              "#ed7953"
             ],
             [
              0.7777777777777778,
              "#fb9f3a"
             ],
             [
              0.8888888888888888,
              "#fdca26"
             ],
             [
              1,
              "#f0f921"
             ]
            ],
            "type": "histogram2dcontour"
           }
          ],
          "mesh3d": [
           {
            "colorbar": {
             "outlinewidth": 0,
             "ticks": ""
            },
            "type": "mesh3d"
           }
          ],
          "parcoords": [
           {
            "line": {
             "colorbar": {
              "outlinewidth": 0,
              "ticks": ""
             }
            },
            "type": "parcoords"
           }
          ],
          "pie": [
           {
            "automargin": true,
            "type": "pie"
           }
          ],
          "scatter": [
           {
            "fillpattern": {
             "fillmode": "overlay",
             "size": 10,
             "solidity": 0.2
            },
            "type": "scatter"
           }
          ],
          "scatter3d": [
           {
            "line": {
             "colorbar": {
              "outlinewidth": 0,
              "ticks": ""
             }
            },
            "marker": {
             "colorbar": {
              "outlinewidth": 0,
              "ticks": ""
             }
            },
            "type": "scatter3d"
           }
          ],
          "scattercarpet": [
           {
            "marker": {
             "colorbar": {
              "outlinewidth": 0,
              "ticks": ""
             }
            },
            "type": "scattercarpet"
           }
          ],
          "scattergeo": [
           {
            "marker": {
             "colorbar": {
              "outlinewidth": 0,
              "ticks": ""
             }
            },
            "type": "scattergeo"
           }
          ],
          "scattergl": [
           {
            "marker": {
             "colorbar": {
              "outlinewidth": 0,
              "ticks": ""
             }
            },
            "type": "scattergl"
           }
          ],
          "scattermapbox": [
           {
            "marker": {
             "colorbar": {
              "outlinewidth": 0,
              "ticks": ""
             }
            },
            "type": "scattermapbox"
           }
          ],
          "scatterpolar": [
           {
            "marker": {
             "colorbar": {
              "outlinewidth": 0,
              "ticks": ""
             }
            },
            "type": "scatterpolar"
           }
          ],
          "scatterpolargl": [
           {
            "marker": {
             "colorbar": {
              "outlinewidth": 0,
              "ticks": ""
             }
            },
            "type": "scatterpolargl"
           }
          ],
          "scatterternary": [
           {
            "marker": {
             "colorbar": {
              "outlinewidth": 0,
              "ticks": ""
             }
            },
            "type": "scatterternary"
           }
          ],
          "surface": [
           {
            "colorbar": {
             "outlinewidth": 0,
             "ticks": ""
            },
            "colorscale": [
             [
              0,
              "#0d0887"
             ],
             [
              0.1111111111111111,
              "#46039f"
             ],
             [
              0.2222222222222222,
              "#7201a8"
             ],
             [
              0.3333333333333333,
              "#9c179e"
             ],
             [
              0.4444444444444444,
              "#bd3786"
             ],
             [
              0.5555555555555556,
              "#d8576b"
             ],
             [
              0.6666666666666666,
              "#ed7953"
             ],
             [
              0.7777777777777778,
              "#fb9f3a"
             ],
             [
              0.8888888888888888,
              "#fdca26"
             ],
             [
              1,
              "#f0f921"
             ]
            ],
            "type": "surface"
           }
          ],
          "table": [
           {
            "cells": {
             "fill": {
              "color": "#EBF0F8"
             },
             "line": {
              "color": "white"
             }
            },
            "header": {
             "fill": {
              "color": "#C8D4E3"
             },
             "line": {
              "color": "white"
             }
            },
            "type": "table"
           }
          ]
         },
         "layout": {
          "annotationdefaults": {
           "arrowcolor": "#2a3f5f",
           "arrowhead": 0,
           "arrowwidth": 1
          },
          "autotypenumbers": "strict",
          "coloraxis": {
           "colorbar": {
            "outlinewidth": 0,
            "ticks": ""
           }
          },
          "colorscale": {
           "diverging": [
            [
             0,
             "#8e0152"
            ],
            [
             0.1,
             "#c51b7d"
            ],
            [
             0.2,
             "#de77ae"
            ],
            [
             0.3,
             "#f1b6da"
            ],
            [
             0.4,
             "#fde0ef"
            ],
            [
             0.5,
             "#f7f7f7"
            ],
            [
             0.6,
             "#e6f5d0"
            ],
            [
             0.7,
             "#b8e186"
            ],
            [
             0.8,
             "#7fbc41"
            ],
            [
             0.9,
             "#4d9221"
            ],
            [
             1,
             "#276419"
            ]
           ],
           "sequential": [
            [
             0,
             "#0d0887"
            ],
            [
             0.1111111111111111,
             "#46039f"
            ],
            [
             0.2222222222222222,
             "#7201a8"
            ],
            [
             0.3333333333333333,
             "#9c179e"
            ],
            [
             0.4444444444444444,
             "#bd3786"
            ],
            [
             0.5555555555555556,
             "#d8576b"
            ],
            [
             0.6666666666666666,
             "#ed7953"
            ],
            [
             0.7777777777777778,
             "#fb9f3a"
            ],
            [
             0.8888888888888888,
             "#fdca26"
            ],
            [
             1,
             "#f0f921"
            ]
           ],
           "sequentialminus": [
            [
             0,
             "#0d0887"
            ],
            [
             0.1111111111111111,
             "#46039f"
            ],
            [
             0.2222222222222222,
             "#7201a8"
            ],
            [
             0.3333333333333333,
             "#9c179e"
            ],
            [
             0.4444444444444444,
             "#bd3786"
            ],
            [
             0.5555555555555556,
             "#d8576b"
            ],
            [
             0.6666666666666666,
             "#ed7953"
            ],
            [
             0.7777777777777778,
             "#fb9f3a"
            ],
            [
             0.8888888888888888,
             "#fdca26"
            ],
            [
             1,
             "#f0f921"
            ]
           ]
          },
          "colorway": [
           "#636efa",
           "#EF553B",
           "#00cc96",
           "#ab63fa",
           "#FFA15A",
           "#19d3f3",
           "#FF6692",
           "#B6E880",
           "#FF97FF",
           "#FECB52"
          ],
          "font": {
           "color": "#2a3f5f"
          },
          "geo": {
           "bgcolor": "white",
           "lakecolor": "white",
           "landcolor": "#E5ECF6",
           "showlakes": true,
           "showland": true,
           "subunitcolor": "white"
          },
          "hoverlabel": {
           "align": "left"
          },
          "hovermode": "closest",
          "mapbox": {
           "style": "light"
          },
          "paper_bgcolor": "white",
          "plot_bgcolor": "#E5ECF6",
          "polar": {
           "angularaxis": {
            "gridcolor": "white",
            "linecolor": "white",
            "ticks": ""
           },
           "bgcolor": "#E5ECF6",
           "radialaxis": {
            "gridcolor": "white",
            "linecolor": "white",
            "ticks": ""
           }
          },
          "scene": {
           "xaxis": {
            "backgroundcolor": "#E5ECF6",
            "gridcolor": "white",
            "gridwidth": 2,
            "linecolor": "white",
            "showbackground": true,
            "ticks": "",
            "zerolinecolor": "white"
           },
           "yaxis": {
            "backgroundcolor": "#E5ECF6",
            "gridcolor": "white",
            "gridwidth": 2,
            "linecolor": "white",
            "showbackground": true,
            "ticks": "",
            "zerolinecolor": "white"
           },
           "zaxis": {
            "backgroundcolor": "#E5ECF6",
            "gridcolor": "white",
            "gridwidth": 2,
            "linecolor": "white",
            "showbackground": true,
            "ticks": "",
            "zerolinecolor": "white"
           }
          },
          "shapedefaults": {
           "line": {
            "color": "#2a3f5f"
           }
          },
          "ternary": {
           "aaxis": {
            "gridcolor": "white",
            "linecolor": "white",
            "ticks": ""
           },
           "baxis": {
            "gridcolor": "white",
            "linecolor": "white",
            "ticks": ""
           },
           "bgcolor": "#E5ECF6",
           "caxis": {
            "gridcolor": "white",
            "linecolor": "white",
            "ticks": ""
           }
          },
          "title": {
           "x": 0.05
          },
          "xaxis": {
           "automargin": true,
           "gridcolor": "white",
           "linecolor": "white",
           "ticks": "",
           "title": {
            "standoff": 15
           },
           "zerolinecolor": "white",
           "zerolinewidth": 2
          },
          "yaxis": {
           "automargin": true,
           "gridcolor": "white",
           "linecolor": "white",
           "ticks": "",
           "title": {
            "standoff": 15
           },
           "zerolinecolor": "white",
           "zerolinewidth": 2
          }
         }
        },
        "xaxis": {
         "anchor": "y",
         "constrain": "domain",
         "domain": [
          0,
          1
         ],
         "scaleanchor": "y",
         "side": "top"
        },
        "yaxis": {
         "anchor": "x",
         "autorange": "reversed",
         "constrain": "domain",
         "domain": [
          0,
          1
         ]
        }
       }
      },
      "text/html": [
       "<div>                            <div id=\"19956cd0-86d3-4f76-8664-b6d3af66a5de\" class=\"plotly-graph-div\" style=\"height:525px; width:100%;\"></div>            <script type=\"text/javascript\">                require([\"plotly\"], function(Plotly) {                    window.PLOTLYENV=window.PLOTLYENV || {};                                    if (document.getElementById(\"19956cd0-86d3-4f76-8664-b6d3af66a5de\")) {                    Plotly.newPlot(                        \"19956cd0-86d3-4f76-8664-b6d3af66a5de\",                        [{\"coloraxis\":\"coloraxis\",\"name\":\"0\",\"texttemplate\":\"%{z}\",\"x\":[\"PC1\",\"PC2\",\"var\"],\"y\":[\"ADJ\",\"ADP\",\"ADV\",\"AUX\",\"CCONJ\",\"DET\",\"INTJ\",\"NOUN\",\"NUM\",\"PART\",\"PRON\",\"PROPN\",\"PUNCT\",\"SCONJ\",\"SYM\",\"VERB\",\"anger\",\"anticipation\",\"disgust\",\"fear\",\"joy\",\"negative\",\"positive\",\"sadness\",\"surprise\",\"trust\",\"num_unique_words\",\"depth\",\"TBsubjectivity\",\"TBpolarity\",\"words_per_sentence\",\"char_count\",\"syl_count\",\"word_count\",\"char_per_word\",\"syl_per_word\",\"sent_count\",\"word_per_sent\",\"dc_word_count\",\"gf_word_count\",\"poly_word_count\",\"dc_word_perc\",\"gf_word_perc\",\"poly_word_perc\",\"ari\",\"flesch_kincaid\",\"coleman_liau\",\"dale_chall\",\"gunning_fog\",\"smog\"],\"z\":[[-0.16745392152821373,0.17219766544774612,\"ADJ\"],[-0.16944214376398992,0.18754276275293924,\"ADP\"],[-0.025360292613201774,0.03385501593911666,\"ADV\"],[-0.1460185507330068,0.185056155882783,\"AUX\"],[-0.115724224270179,0.1143781666351307,\"CCONJ\"],[-0.17119097150439827,0.18789502866323132,\"DET\"],[0.1610698140473504,-0.056673953438124425,\"INTJ\"],[-0.17560430318911582,0.1833913440524383,\"NOUN\"],[-0.0070772887995754,-0.11452465711388617,\"NUM\"],[-0.1523695167438893,0.16220838997692708,\"PART\"],[-0.0570852646338992,0.04775449179847722,\"PRON\"],[-0.13670445973215992,0.1278206376501512,\"PROPN\"],[-0.1713229233646325,0.18856128732677044,\"PUNCT\"],[-0.018018927289185492,0.025831074672136863,\"SCONJ\"],[0.07626944495855663,-0.15861600223242572,\"SYM\"],[-0.17143008028299617,0.19387382806177023,\"VERB\"],[-0.0433758256531776,-0.0023195331798430345,\"anger\"],[0.058347240279319215,0.00015690470035216556,\"anticipation\"],[-9.508785108037838e-05,0.009148279150319499,\"disgust\"],[-0.06022856567522041,0.010401632825641952,\"fear\"],[0.11869890635177104,0.050615906871123655,\"joy\"],[-0.05189377156413365,-0.02537073114135776,\"negative\"],[0.008078599056457296,-0.011454110597967339,\"positive\"],[0.003930825282051969,0.010641297409207417,\"sadness\"],[0.030234033968180377,0.019828063602471985,\"surprise\"],[-0.0046330996503011245,-0.024384016501319314,\"trust\"],[0.17324333162533562,-0.13478675927908806,\"num_unique_words\"],[-0.17519813203071347,-0.1587617290875212,\"depth\"],[0.10479151131767998,0.08832223255261722,\"TBsubjectivity\"],[0.11548285970436799,0.031032150312679228,\"TBpolarity\"],[-0.1579229166527755,-0.1906371244102519,\"words_per_sentence\"],[0.17402059824150062,-0.13019814570940672,\"char_count\"],[0.17231490048357065,-0.13320301554797465,\"syl_count\"],[0.18186037113904072,-0.11826421615498098,\"word_count\"],[-0.18234121423442864,-0.16026880647011754,\"char_per_word\"],[-0.17978939493842208,-0.1718125950098315,\"syl_per_word\"],[0.1953673499256751,-0.08159583615978888,\"sent_count\"],[-0.15193597204445736,-0.19558214550187608,\"word_per_sent\"],[0.16263233349010786,-0.14771385173806512,\"dc_word_count\"],[0.14213088672395868,-0.17199703465958988,\"gf_word_count\"],[0.1418941350739248,-0.17096427056890268,\"poly_word_count\"],[-0.17138777762307833,-0.13025216354712,\"dc_word_perc\"],[-0.16669442969586648,-0.1836322663461345,\"gf_word_perc\"],[-0.171637459249034,-0.18204728776411444,\"poly_word_perc\"],[-0.18400973420221006,-0.2076650048184621,\"ari\"],[-0.1846437775622433,-0.21055187275912796,\"flesch_kincaid\"],[-0.18919229070966717,-0.1743194071755653,\"coleman_liau\"],[-0.17981100746138584,-0.20260356498183904,\"dale_chall\"],[-0.1787892702245872,-0.21568559989856073,\"gunning_fog\"],[-0.18360355113406274,-0.21390474272107907,\"smog\"]],\"type\":\"heatmap\",\"xaxis\":\"x\",\"yaxis\":\"y\",\"hovertemplate\":\"x: %{x}<br>y: %{y}<br>color: %{z}<extra></extra>\"}],                        {\"template\":{\"data\":{\"histogram2dcontour\":[{\"type\":\"histogram2dcontour\",\"colorbar\":{\"outlinewidth\":0,\"ticks\":\"\"},\"colorscale\":[[0.0,\"#0d0887\"],[0.1111111111111111,\"#46039f\"],[0.2222222222222222,\"#7201a8\"],[0.3333333333333333,\"#9c179e\"],[0.4444444444444444,\"#bd3786\"],[0.5555555555555556,\"#d8576b\"],[0.6666666666666666,\"#ed7953\"],[0.7777777777777778,\"#fb9f3a\"],[0.8888888888888888,\"#fdca26\"],[1.0,\"#f0f921\"]]}],\"choropleth\":[{\"type\":\"choropleth\",\"colorbar\":{\"outlinewidth\":0,\"ticks\":\"\"}}],\"histogram2d\":[{\"type\":\"histogram2d\",\"colorbar\":{\"outlinewidth\":0,\"ticks\":\"\"},\"colorscale\":[[0.0,\"#0d0887\"],[0.1111111111111111,\"#46039f\"],[0.2222222222222222,\"#7201a8\"],[0.3333333333333333,\"#9c179e\"],[0.4444444444444444,\"#bd3786\"],[0.5555555555555556,\"#d8576b\"],[0.6666666666666666,\"#ed7953\"],[0.7777777777777778,\"#fb9f3a\"],[0.8888888888888888,\"#fdca26\"],[1.0,\"#f0f921\"]]}],\"heatmap\":[{\"type\":\"heatmap\",\"colorbar\":{\"outlinewidth\":0,\"ticks\":\"\"},\"colorscale\":[[0.0,\"#0d0887\"],[0.1111111111111111,\"#46039f\"],[0.2222222222222222,\"#7201a8\"],[0.3333333333333333,\"#9c179e\"],[0.4444444444444444,\"#bd3786\"],[0.5555555555555556,\"#d8576b\"],[0.6666666666666666,\"#ed7953\"],[0.7777777777777778,\"#fb9f3a\"],[0.8888888888888888,\"#fdca26\"],[1.0,\"#f0f921\"]]}],\"heatmapgl\":[{\"type\":\"heatmapgl\",\"colorbar\":{\"outlinewidth\":0,\"ticks\":\"\"},\"colorscale\":[[0.0,\"#0d0887\"],[0.1111111111111111,\"#46039f\"],[0.2222222222222222,\"#7201a8\"],[0.3333333333333333,\"#9c179e\"],[0.4444444444444444,\"#bd3786\"],[0.5555555555555556,\"#d8576b\"],[0.6666666666666666,\"#ed7953\"],[0.7777777777777778,\"#fb9f3a\"],[0.8888888888888888,\"#fdca26\"],[1.0,\"#f0f921\"]]}],\"contourcarpet\":[{\"type\":\"contourcarpet\",\"colorbar\":{\"outlinewidth\":0,\"ticks\":\"\"}}],\"contour\":[{\"type\":\"contour\",\"colorbar\":{\"outlinewidth\":0,\"ticks\":\"\"},\"colorscale\":[[0.0,\"#0d0887\"],[0.1111111111111111,\"#46039f\"],[0.2222222222222222,\"#7201a8\"],[0.3333333333333333,\"#9c179e\"],[0.4444444444444444,\"#bd3786\"],[0.5555555555555556,\"#d8576b\"],[0.6666666666666666,\"#ed7953\"],[0.7777777777777778,\"#fb9f3a\"],[0.8888888888888888,\"#fdca26\"],[1.0,\"#f0f921\"]]}],\"surface\":[{\"type\":\"surface\",\"colorbar\":{\"outlinewidth\":0,\"ticks\":\"\"},\"colorscale\":[[0.0,\"#0d0887\"],[0.1111111111111111,\"#46039f\"],[0.2222222222222222,\"#7201a8\"],[0.3333333333333333,\"#9c179e\"],[0.4444444444444444,\"#bd3786\"],[0.5555555555555556,\"#d8576b\"],[0.6666666666666666,\"#ed7953\"],[0.7777777777777778,\"#fb9f3a\"],[0.8888888888888888,\"#fdca26\"],[1.0,\"#f0f921\"]]}],\"mesh3d\":[{\"type\":\"mesh3d\",\"colorbar\":{\"outlinewidth\":0,\"ticks\":\"\"}}],\"scatter\":[{\"fillpattern\":{\"fillmode\":\"overlay\",\"size\":10,\"solidity\":0.2},\"type\":\"scatter\"}],\"parcoords\":[{\"type\":\"parcoords\",\"line\":{\"colorbar\":{\"outlinewidth\":0,\"ticks\":\"\"}}}],\"scatterpolargl\":[{\"type\":\"scatterpolargl\",\"marker\":{\"colorbar\":{\"outlinewidth\":0,\"ticks\":\"\"}}}],\"bar\":[{\"error_x\":{\"color\":\"#2a3f5f\"},\"error_y\":{\"color\":\"#2a3f5f\"},\"marker\":{\"line\":{\"color\":\"#E5ECF6\",\"width\":0.5},\"pattern\":{\"fillmode\":\"overlay\",\"size\":10,\"solidity\":0.2}},\"type\":\"bar\"}],\"scattergeo\":[{\"type\":\"scattergeo\",\"marker\":{\"colorbar\":{\"outlinewidth\":0,\"ticks\":\"\"}}}],\"scatterpolar\":[{\"type\":\"scatterpolar\",\"marker\":{\"colorbar\":{\"outlinewidth\":0,\"ticks\":\"\"}}}],\"histogram\":[{\"marker\":{\"pattern\":{\"fillmode\":\"overlay\",\"size\":10,\"solidity\":0.2}},\"type\":\"histogram\"}],\"scattergl\":[{\"type\":\"scattergl\",\"marker\":{\"colorbar\":{\"outlinewidth\":0,\"ticks\":\"\"}}}],\"scatter3d\":[{\"type\":\"scatter3d\",\"line\":{\"colorbar\":{\"outlinewidth\":0,\"ticks\":\"\"}},\"marker\":{\"colorbar\":{\"outlinewidth\":0,\"ticks\":\"\"}}}],\"scattermapbox\":[{\"type\":\"scattermapbox\",\"marker\":{\"colorbar\":{\"outlinewidth\":0,\"ticks\":\"\"}}}],\"scatterternary\":[{\"type\":\"scatterternary\",\"marker\":{\"colorbar\":{\"outlinewidth\":0,\"ticks\":\"\"}}}],\"scattercarpet\":[{\"type\":\"scattercarpet\",\"marker\":{\"colorbar\":{\"outlinewidth\":0,\"ticks\":\"\"}}}],\"carpet\":[{\"aaxis\":{\"endlinecolor\":\"#2a3f5f\",\"gridcolor\":\"white\",\"linecolor\":\"white\",\"minorgridcolor\":\"white\",\"startlinecolor\":\"#2a3f5f\"},\"baxis\":{\"endlinecolor\":\"#2a3f5f\",\"gridcolor\":\"white\",\"linecolor\":\"white\",\"minorgridcolor\":\"white\",\"startlinecolor\":\"#2a3f5f\"},\"type\":\"carpet\"}],\"table\":[{\"cells\":{\"fill\":{\"color\":\"#EBF0F8\"},\"line\":{\"color\":\"white\"}},\"header\":{\"fill\":{\"color\":\"#C8D4E3\"},\"line\":{\"color\":\"white\"}},\"type\":\"table\"}],\"barpolar\":[{\"marker\":{\"line\":{\"color\":\"#E5ECF6\",\"width\":0.5},\"pattern\":{\"fillmode\":\"overlay\",\"size\":10,\"solidity\":0.2}},\"type\":\"barpolar\"}],\"pie\":[{\"automargin\":true,\"type\":\"pie\"}]},\"layout\":{\"autotypenumbers\":\"strict\",\"colorway\":[\"#636efa\",\"#EF553B\",\"#00cc96\",\"#ab63fa\",\"#FFA15A\",\"#19d3f3\",\"#FF6692\",\"#B6E880\",\"#FF97FF\",\"#FECB52\"],\"font\":{\"color\":\"#2a3f5f\"},\"hovermode\":\"closest\",\"hoverlabel\":{\"align\":\"left\"},\"paper_bgcolor\":\"white\",\"plot_bgcolor\":\"#E5ECF6\",\"polar\":{\"bgcolor\":\"#E5ECF6\",\"angularaxis\":{\"gridcolor\":\"white\",\"linecolor\":\"white\",\"ticks\":\"\"},\"radialaxis\":{\"gridcolor\":\"white\",\"linecolor\":\"white\",\"ticks\":\"\"}},\"ternary\":{\"bgcolor\":\"#E5ECF6\",\"aaxis\":{\"gridcolor\":\"white\",\"linecolor\":\"white\",\"ticks\":\"\"},\"baxis\":{\"gridcolor\":\"white\",\"linecolor\":\"white\",\"ticks\":\"\"},\"caxis\":{\"gridcolor\":\"white\",\"linecolor\":\"white\",\"ticks\":\"\"}},\"coloraxis\":{\"colorbar\":{\"outlinewidth\":0,\"ticks\":\"\"}},\"colorscale\":{\"sequential\":[[0.0,\"#0d0887\"],[0.1111111111111111,\"#46039f\"],[0.2222222222222222,\"#7201a8\"],[0.3333333333333333,\"#9c179e\"],[0.4444444444444444,\"#bd3786\"],[0.5555555555555556,\"#d8576b\"],[0.6666666666666666,\"#ed7953\"],[0.7777777777777778,\"#fb9f3a\"],[0.8888888888888888,\"#fdca26\"],[1.0,\"#f0f921\"]],\"sequentialminus\":[[0.0,\"#0d0887\"],[0.1111111111111111,\"#46039f\"],[0.2222222222222222,\"#7201a8\"],[0.3333333333333333,\"#9c179e\"],[0.4444444444444444,\"#bd3786\"],[0.5555555555555556,\"#d8576b\"],[0.6666666666666666,\"#ed7953\"],[0.7777777777777778,\"#fb9f3a\"],[0.8888888888888888,\"#fdca26\"],[1.0,\"#f0f921\"]],\"diverging\":[[0,\"#8e0152\"],[0.1,\"#c51b7d\"],[0.2,\"#de77ae\"],[0.3,\"#f1b6da\"],[0.4,\"#fde0ef\"],[0.5,\"#f7f7f7\"],[0.6,\"#e6f5d0\"],[0.7,\"#b8e186\"],[0.8,\"#7fbc41\"],[0.9,\"#4d9221\"],[1,\"#276419\"]]},\"xaxis\":{\"gridcolor\":\"white\",\"linecolor\":\"white\",\"ticks\":\"\",\"title\":{\"standoff\":15},\"zerolinecolor\":\"white\",\"automargin\":true,\"zerolinewidth\":2},\"yaxis\":{\"gridcolor\":\"white\",\"linecolor\":\"white\",\"ticks\":\"\",\"title\":{\"standoff\":15},\"zerolinecolor\":\"white\",\"automargin\":true,\"zerolinewidth\":2},\"scene\":{\"xaxis\":{\"backgroundcolor\":\"#E5ECF6\",\"gridcolor\":\"white\",\"linecolor\":\"white\",\"showbackground\":true,\"ticks\":\"\",\"zerolinecolor\":\"white\",\"gridwidth\":2},\"yaxis\":{\"backgroundcolor\":\"#E5ECF6\",\"gridcolor\":\"white\",\"linecolor\":\"white\",\"showbackground\":true,\"ticks\":\"\",\"zerolinecolor\":\"white\",\"gridwidth\":2},\"zaxis\":{\"backgroundcolor\":\"#E5ECF6\",\"gridcolor\":\"white\",\"linecolor\":\"white\",\"showbackground\":true,\"ticks\":\"\",\"zerolinecolor\":\"white\",\"gridwidth\":2}},\"shapedefaults\":{\"line\":{\"color\":\"#2a3f5f\"}},\"annotationdefaults\":{\"arrowcolor\":\"#2a3f5f\",\"arrowhead\":0,\"arrowwidth\":1},\"geo\":{\"bgcolor\":\"white\",\"landcolor\":\"#E5ECF6\",\"subunitcolor\":\"white\",\"showland\":true,\"showlakes\":true,\"lakecolor\":\"white\"},\"title\":{\"x\":0.05},\"mapbox\":{\"style\":\"light\"}}},\"xaxis\":{\"anchor\":\"y\",\"domain\":[0.0,1.0],\"scaleanchor\":\"y\",\"constrain\":\"domain\",\"side\":\"top\"},\"yaxis\":{\"anchor\":\"x\",\"domain\":[0.0,1.0],\"autorange\":\"reversed\",\"constrain\":\"domain\"},\"coloraxis\":{\"colorscale\":[[0.0,\"#0d0887\"],[0.1111111111111111,\"#46039f\"],[0.2222222222222222,\"#7201a8\"],[0.3333333333333333,\"#9c179e\"],[0.4444444444444444,\"#bd3786\"],[0.5555555555555556,\"#d8576b\"],[0.6666666666666666,\"#ed7953\"],[0.7777777777777778,\"#fb9f3a\"],[0.8888888888888888,\"#fdca26\"],[1.0,\"#f0f921\"]]},\"margin\":{\"t\":60}},                        {\"responsive\": true}                    ).then(function(){\n",
       "                            \n",
       "var gd = document.getElementById('19956cd0-86d3-4f76-8664-b6d3af66a5de');\n",
       "var x = new MutationObserver(function (mutations, observer) {{\n",
       "        var display = window.getComputedStyle(gd).display;\n",
       "        if (!display || display === 'none') {{\n",
       "            console.log([gd, 'removed!']);\n",
       "            Plotly.purge(gd);\n",
       "            observer.disconnect();\n",
       "        }}\n",
       "}});\n",
       "\n",
       "// Listen for the removal of the full notebook cells\n",
       "var notebookContainer = gd.closest('#notebook-container');\n",
       "if (notebookContainer) {{\n",
       "    x.observe(notebookContainer, {childList: true});\n",
       "}}\n",
       "\n",
       "// Listen for the clearing of the current output cell\n",
       "var outputEl = gd.closest('.output');\n",
       "if (outputEl) {{\n",
       "    x.observe(outputEl, {childList: true});\n",
       "}}\n",
       "\n",
       "                        })                };                });            </script>        </div>"
      ]
     },
     "metadata": {},
     "output_type": "display_data"
    }
   ],
   "source": [
    "fig = px.imshow(to_png,\n",
    "                text_auto=True\n",
    "               )\n",
    "fig.update_xaxes(side=\"top\")\n",
    "fig.show()"
   ]
  },
  {
   "cell_type": "markdown",
   "id": "25c28744",
   "metadata": {},
   "source": [
    "<A HREF=\"https://distill.pub/2016/misread-tsne/\">Some info about t-sne</A>"
   ]
  },
  {
   "cell_type": "code",
   "execution_count": 6,
   "id": "8da3cb22",
   "metadata": {},
   "outputs": [
    {
     "name": "stderr",
     "output_type": "stream",
     "text": [
      "/home/muddy/.local/lib/python3.10/site-packages/sklearn/manifold/_t_sne.py:810: FutureWarning:\n",
      "\n",
      "The default learning rate in TSNE will change from 200.0 to 'auto' in 1.2.\n",
      "\n"
     ]
    },
    {
     "data": {
      "application/vnd.plotly.v1+json": {
       "config": {
        "plotlyServerURL": "https://plot.ly"
       },
       "data": [
        {
         "hovertemplate": "color=nyt<br>0=%{x}<br>1=%{y}<extra></extra>",
         "legendgroup": "nyt",
         "marker": {
          "color": "rgb(127, 60, 141)",
          "symbol": "circle"
         },
         "mode": "markers",
         "name": "nyt",
         "orientation": "v",
         "showlegend": true,
         "type": "scatter",
         "x": [
          6.913326740264893,
          6.9866042137146,
          5.484319686889648,
          2.886760711669922,
          1.8081012964248657,
          2.6075551509857178,
          3.3052632808685303,
          5.8064866065979,
          -1.1734726428985596,
          -0.4864967167377472,
          7.986453056335449,
          -6.925418376922607,
          8.666696548461914,
          -0.6114262938499451,
          6.526296615600586,
          -0.21827104687690735,
          5.213521480560303,
          6.601413726806641,
          0.9384574294090271,
          -6.338644981384277,
          -6.376616477966309,
          4.1178412437438965,
          8.671937942504883,
          6.619418144226074,
          2.0577144622802734,
          -0.9971015453338623,
          5.3011345863342285,
          5.187442302703857,
          -0.6705371141433716,
          -0.5856701135635376,
          -5.458708763122559,
          4.234690189361572,
          4.823890209197998,
          4.624146461486816,
          -0.18100644648075104,
          1.7335586547851562,
          -2.5735650062561035,
          2.9356722831726074,
          5.488752365112305,
          0.3634994626045227,
          2.358643054962158,
          1.9196076393127441,
          0.7423131465911865,
          7.400827884674072,
          2.2033002376556396,
          -3.4057657718658447,
          1.9584460258483887,
          -2.808396577835083,
          7.0873637199401855,
          -2.9217681884765625,
          4.320034027099609,
          2.3976664543151855,
          0.19000543653964996,
          4.343132019042969,
          -6.694542407989502,
          1.8160392045974731,
          -0.6633689999580383,
          1.0094690322875977,
          -4.061310291290283,
          1.5990121364593506,
          5.258953094482422,
          3.11108660697937,
          -8.871807098388672,
          1.5403026342391968,
          5.218972682952881,
          2.6261680126190186,
          1.8422421216964722,
          2.9093539714813232,
          3.2664036750793457,
          6.002945423126221,
          2.110405683517456,
          -1.3676109313964844,
          2.539748191833496,
          1.4044945240020752,
          6.789921760559082,
          5.8028693199157715,
          -1.6630685329437256,
          4.80593729019165,
          -2.04205584526062,
          5.398963928222656,
          -0.7378911375999451,
          3.324733018875122,
          -2.8368942737579346,
          3.288224220275879,
          7.120672225952148,
          -2.3897953033447266,
          -3.3886618614196777,
          -4.040919780731201,
          6.337889194488525,
          1.67360520362854,
          -8.717216491699219,
          -2.8632335662841797,
          -2.4456496238708496,
          0.7772478461265564,
          -2.627831220626831,
          6.81016731262207,
          -4.518033981323242,
          -3.4231021404266357,
          1.0975828170776367,
          2.0203440189361572
         ],
         "xaxis": "x",
         "y": [
          2.810271978378296,
          2.897831678390503,
          5.374917030334473,
          1.2537331581115723,
          5.826427936553955,
          6.461367607116699,
          10.013858795166016,
          6.928353786468506,
          13.814977645874023,
          11.168085098266602,
          2.523927927017212,
          -2.2690699100494385,
          6.332111835479736,
          4.554284572601318,
          -0.19657589495182037,
          6.293106555938721,
          0.7142343521118164,
          3.7475383281707764,
          3.080620288848877,
          -3.2676427364349365,
          -3.2841336727142334,
          14.249401092529297,
          6.616014003753662,
          9.024884223937988,
          9.406682968139648,
          1.218519687652588,
          1.827545404434204,
          10.181882858276367,
          15.269426345825195,
          0.9531001448631287,
          1.089521884918213,
          7.499663829803467,
          5.962856769561768,
          4.700822830200195,
          -5.922671794891357,
          11.974130630493164,
          2.812042474746704,
          14.069454193115234,
          7.786077499389648,
          11.062455177307129,
          7.176756858825684,
          2.416616678237915,
          12.097433090209961,
          4.886279582977295,
          7.826633453369141,
          -0.20267683267593384,
          -0.4835645854473114,
          1.7111529111862183,
          4.715062141418457,
          -1.18393874168396,
          11.328252792358398,
          0.8737850785255432,
          11.255245208740234,
          5.195639133453369,
          -2.4614973068237305,
          -4.785577774047852,
          12.719534873962402,
          11.247830390930176,
          0.0719786137342453,
          -4.274165153503418,
          9.445710182189941,
          1.544124960899353,
          -11.077374458312988,
          10.929525375366211,
          1.8667035102844238,
          12.33771800994873,
          10.098634719848633,
          -3.6379940509796143,
          8.81817626953125,
          7.793682098388672,
          9.423162460327148,
          -0.673882007598877,
          8.843320846557617,
          -1.7121707201004028,
          6.905881881713867,
          5.930140495300293,
          1.5122456550598145,
          5.980138301849365,
          7.126479625701904,
          -5.257776737213135,
          11.360133171081543,
          -4.235753536224365,
          -3.132662057876587,
          11.446931838989258,
          5.932857036590576,
          9.696962356567383,
          -3.8686158657073975,
          1.4675651788711548,
          5.687893867492676,
          12.642892837524414,
          -8.19874382019043,
          2.4295690059661865,
          10.776820182800293,
          -3.007305145263672,
          3.0606250762939453,
          2.377331495285034,
          1.1151316165924072,
          10.043013572692871,
          10.165457725524902,
          0.5367066860198975
         ],
         "yaxis": "y"
        },
        {
         "hovertemplate": "color=oba<br>0=%{x}<br>1=%{y}<extra></extra>",
         "legendgroup": "oba",
         "marker": {
          "color": "rgb(17, 165, 121)",
          "symbol": "circle"
         },
         "mode": "markers",
         "name": "oba",
         "orientation": "v",
         "showlegend": true,
         "type": "scatter",
         "x": [
          -6.987759590148926,
          -1.3947207927703857,
          3.536640167236328,
          -2.4164609909057617,
          0.7087844610214233,
          -8.038321495056152,
          -8.700977325439453,
          4.692616939544678,
          -5.568108558654785,
          -7.144463539123535,
          -7.0604071617126465,
          -1.4033821821212769,
          0.7542828917503357,
          4.386593818664551,
          1.1578129529953003,
          -3.8296051025390625,
          -2.1757149696350098,
          -5.1628313064575195,
          1.9339523315429688,
          0.6089457869529724,
          -3.7420248985290527,
          -1.951075553894043,
          2.455660104751587,
          -1.3074660301208496,
          0.03900554031133652,
          -3.7834854125976562,
          -7.767124176025391,
          1.6793177127838135,
          -4.126697063446045,
          -0.6448430418968201,
          -2.156125545501709,
          -0.3226625323295593,
          -3.0445618629455566,
          -5.6129560470581055,
          -4.3024516105651855,
          -6.604840278625488,
          2.3692190647125244,
          -0.049588508903980255,
          -8.15759563446045,
          -5.307129859924316,
          -1.3566898107528687,
          -0.7221278548240662,
          0.15712085366249084,
          -1.3363198041915894,
          -2.0143187046051025,
          -0.6034047603607178,
          -6.0367255210876465,
          -1.6204683780670166,
          -0.1280200481414795,
          2.583648204803467,
          -2.9254214763641357,
          -3.714439630508423,
          -4.666751861572266,
          -8.096399307250977,
          0.3541722595691681,
          0.6364225149154663,
          -5.297234058380127,
          -4.945606231689453,
          -1.3103687763214111,
          -4.92891788482666,
          -3.436535358428955,
          -4.004187107086182,
          2.249925374984741,
          -8.88249397277832,
          -8.265886306762695,
          -1.4115700721740723,
          -7.029648303985596,
          -3.559380292892456,
          -1.9079221487045288,
          -2.0034494400024414,
          -0.2131257951259613,
          1.9360815286636353,
          -2.4069623947143555,
          -2.739323139190674,
          1.0819799900054932,
          -2.867884397506714,
          5.33569860458374,
          -7.879004001617432,
          -5.890749454498291,
          -4.629133224487305,
          4.418121337890625,
          -5.481036186218262,
          -0.8396402597427368,
          -0.7595190405845642,
          -4.047467231750488,
          2.753431797027588,
          -1.7120308876037598,
          4.6639580726623535,
          2.650254964828491,
          -7.632683753967285,
          3.3994057178497314,
          1.8239384889602661,
          -7.345118999481201,
          -6.551392555236816,
          -2.408973217010498,
          -6.165664196014404,
          -2.197230577468872,
          1.6881757974624634,
          -0.18509139120578766,
          -6.736252784729004
         ],
         "xaxis": "x",
         "y": [
          -9.860595703125,
          -7.921949863433838,
          -2.9413111209869385,
          -5.869133472442627,
          -3.757204532623291,
          -10.513513565063477,
          -8.66064739227295,
          -2.4687752723693848,
          -9.47940731048584,
          -10.438759803771973,
          -8.148381233215332,
          -6.265483379364014,
          -4.452243328094482,
          -2.9924542903900146,
          -3.4893012046813965,
          -7.206606864929199,
          -8.59833812713623,
          -10.344138145446777,
          -2.8325188159942627,
          -5.214258193969727,
          -6.819363117218018,
          -5.401150226593018,
          -4.2772908210754395,
          -2.6398167610168457,
          -7.274585723876953,
          -10.93226146697998,
          -11.715048789978027,
          -5.628896713256836,
          -9.35122299194336,
          -3.35794734954834,
          -9.126672744750977,
          -3.691009998321533,
          -9.793240547180176,
          -9.964489936828613,
          -6.019748210906982,
          -8.58424186706543,
          -4.998429775238037,
          -2.392940044403076,
          -11.511170387268066,
          -11.039121627807617,
          -8.923227310180664,
          -8.014822006225586,
          -4.392419815063477,
          -10.062446594238281,
          -7.829858779907227,
          -6.760623455047607,
          -9.246256828308105,
          -6.581735134124756,
          -6.987432479858398,
          -7.276670932769775,
          -9.897493362426758,
          -6.330458164215088,
          -11.339272499084473,
          -11.16552734375,
          -9.987030982971191,
          -7.534245491027832,
          -10.889150619506836,
          -8.728604316711426,
          -4.116122245788574,
          -7.160597324371338,
          -0.04980408772826195,
          -8.712862968444824,
          -6.723186492919922,
          -8.14599895477295,
          -10.534082412719727,
          8.553200721740723,
          -7.943169116973877,
          -10.4747953414917,
          -6.315553665161133,
          -7.391425609588623,
          -1.0458425283432007,
          -1.3321151733398438,
          -7.134543418884277,
          -10.975619316101074,
          -6.7356061935424805,
          -11.419722557067871,
          -2.190840482711792,
          -11.368497848510742,
          -10.585878372192383,
          -9.726068496704102,
          -4.7172465324401855,
          -11.70576286315918,
          -5.724860668182373,
          -1.4577652215957642,
          -11.192506790161133,
          -5.8307085037231445,
          -4.140146255493164,
          -6.892731189727783,
          -4.931238651275635,
          -10.78133773803711,
          -6.013251781463623,
          14.15536117553711,
          -11.096871376037598,
          -11.9950532913208,
          -4.881020545959473,
          -11.367473602294922,
          -8.275209426879883,
          -4.36201286315918,
          -8.105047225952148,
          -9.264572143554688
         ],
         "yaxis": "y"
        },
        {
         "hovertemplate": "color=wsj<br>0=%{x}<br>1=%{y}<extra></extra>",
         "legendgroup": "wsj",
         "marker": {
          "color": "rgb(57, 105, 172)",
          "symbol": "circle"
         },
         "mode": "markers",
         "name": "wsj",
         "orientation": "v",
         "showlegend": true,
         "type": "scatter",
         "x": [
          -2.217557907104492,
          4.222182273864746,
          4.9231719970703125,
          2.7021236419677734,
          0.0357845276594162,
          0.9246135354042053,
          3.5980136394500732,
          -0.7873852849006653,
          -0.6203571557998657,
          -0.4956769347190857,
          8.00937557220459,
          -2.6142942905426025,
          -0.8229073882102966,
          -4.678076267242432,
          -6.647103786468506,
          3.679504156112671,
          4.163308620452881,
          4.012893199920654,
          1.0330712795257568,
          8.441914558410645,
          1.3137410879135132,
          4.220327854156494,
          1.311801791191101,
          3.4542551040649414,
          0.6804347038269043,
          2.7736051082611084,
          4.797966480255127,
          4.541245460510254,
          8.78900146484375,
          -3.8425865173339844,
          -5.114705562591553,
          1.250656247138977,
          1.3413935899734497,
          5.8486409187316895,
          2.7287564277648926,
          -1.6348170042037964,
          0.9329078197479248,
          4.270818710327148,
          4.680078029632568,
          7.113713264465332,
          2.2300097942352295,
          5.934930324554443,
          0.6690398454666138,
          8.405583381652832,
          2.8782591819763184,
          -3.412550926208496,
          3.495694875717163,
          0.023812655359506607,
          3.9728572368621826,
          -2.6771469116210938,
          4.516331672668457,
          6.07844352722168,
          -3.2549026012420654,
          2.7930870056152344,
          -4.244460582733154,
          -0.5423213243484497,
          7.720417022705078,
          -0.9680812954902649,
          -3.242309808731079,
          0.9643088579177856,
          1.1980383396148682,
          4.6779465675354,
          -1.0963108539581299,
          2.6349475383758545,
          0.6005584001541138,
          3.7337942123413086,
          3.759572982788086,
          1.7384809255599976,
          5.448780536651611,
          3.842878580093384,
          -2.7516162395477295,
          -2.521747589111328,
          3.3398797512054443,
          2.8872382640838623,
          3.929600954055786,
          0.15942037105560303,
          -2.371591091156006,
          4.9289703369140625,
          2.242154598236084,
          6.483757495880127,
          5.403855800628662,
          -2.45871901512146,
          -2.777024984359741,
          0.022071272134780884,
          7.332468032836914,
          -2.268604278564453,
          -2.599196672439575,
          -3.7258706092834473,
          -1.2637747526168823,
          2.1609647274017334,
          1.2014343738555908,
          -3.4318292140960693,
          -0.2596268951892853,
          -5.577418804168701,
          -3.2241368293762207,
          2.1675305366516113,
          -5.568576335906982,
          -0.29411789774894714,
          2.3382439613342285,
          1.1303578615188599
         ],
         "xaxis": "x",
         "y": [
          9.686684608459473,
          2.99099063873291,
          4.371662616729736,
          0.35183292627334595,
          8.097585678100586,
          5.843517303466797,
          9.096640586853027,
          2.807408571243286,
          14.923653602600098,
          9.014921188354492,
          4.065794944763184,
          0.6166432499885559,
          10.597750663757324,
          2.5223493576049805,
          -2.029416561126709,
          0.7433298230171204,
          1.0032004117965698,
          4.735910415649414,
          2.874821901321411,
          9.783882141113281,
          -2.392317771911621,
          3.237947463989258,
          10.365631103515625,
          4.302500247955322,
          7.3696160316467285,
          -2.5525314807891846,
          5.606431484222412,
          8.878862380981445,
          4.087954998016357,
          1.512180209159851,
          0.6643097996711731,
          4.017123222351074,
          3.7733263969421387,
          4.554278373718262,
          3.052553415298462,
          13.060461044311523,
          12.02165699005127,
          9.449631690979004,
          6.575143337249756,
          -2.8722727298736572,
          4.526937007904053,
          -3.7059946060180664,
          9.416257858276367,
          4.100029468536377,
          7.853164196014404,
          0.6884178519248962,
          -0.5135789513587952,
          1.9563989639282227,
          2.501389741897583,
          -1.1132185459136963,
          11.255304336547852,
          4.608010768890381,
          8.417243957519531,
          6.9669270515441895,
          1.650085687637329,
          7.647453308105469,
          7.6003875732421875,
          10.656373023986816,
          2.4112014770507812,
          12.718128204345703,
          11.969860076904297,
          11.459341049194336,
          2.953714609146118,
          10.965229988098145,
          7.6462883949279785,
          8.506559371948242,
          6.802956581115723,
          6.79870080947876,
          4.743117809295654,
          8.074953079223633,
          3.97076416015625,
          -0.09395018965005875,
          10.760750770568848,
          0.374519020318985,
          0.8666006922721863,
          10.43335247039795,
          2.0269224643707275,
          7.580303192138672,
          10.857111930847168,
          10.985486030578613,
          3.8800723552703857,
          11.110260009765625,
          -3.7720978260040283,
          11.703445434570312,
          5.579504489898682,
          9.941970825195312,
          -1.4326677322387695,
          3.1936042308807373,
          12.976160049438477,
          5.951218605041504,
          9.971633911132812,
          2.160133123397827,
          9.499451637268066,
          1.9459644556045532,
          3.114100456237793,
          2.8641998767852783,
          0.03300977870821953,
          9.242341995239258,
          2.924288034439087,
          8.419768333435059
         ],
         "yaxis": "y"
        }
       ],
       "layout": {
        "legend": {
         "title": {
          "text": "color"
         },
         "tracegroupgap": 0
        },
        "margin": {
         "t": 60
        },
        "template": {
         "data": {
          "bar": [
           {
            "error_x": {
             "color": "#2a3f5f"
            },
            "error_y": {
             "color": "#2a3f5f"
            },
            "marker": {
             "line": {
              "color": "#E5ECF6",
              "width": 0.5
             },
             "pattern": {
              "fillmode": "overlay",
              "size": 10,
              "solidity": 0.2
             }
            },
            "type": "bar"
           }
          ],
          "barpolar": [
           {
            "marker": {
             "line": {
              "color": "#E5ECF6",
              "width": 0.5
             },
             "pattern": {
              "fillmode": "overlay",
              "size": 10,
              "solidity": 0.2
             }
            },
            "type": "barpolar"
           }
          ],
          "carpet": [
           {
            "aaxis": {
             "endlinecolor": "#2a3f5f",
             "gridcolor": "white",
             "linecolor": "white",
             "minorgridcolor": "white",
             "startlinecolor": "#2a3f5f"
            },
            "baxis": {
             "endlinecolor": "#2a3f5f",
             "gridcolor": "white",
             "linecolor": "white",
             "minorgridcolor": "white",
             "startlinecolor": "#2a3f5f"
            },
            "type": "carpet"
           }
          ],
          "choropleth": [
           {
            "colorbar": {
             "outlinewidth": 0,
             "ticks": ""
            },
            "type": "choropleth"
           }
          ],
          "contour": [
           {
            "colorbar": {
             "outlinewidth": 0,
             "ticks": ""
            },
            "colorscale": [
             [
              0,
              "#0d0887"
             ],
             [
              0.1111111111111111,
              "#46039f"
             ],
             [
              0.2222222222222222,
              "#7201a8"
             ],
             [
              0.3333333333333333,
              "#9c179e"
             ],
             [
              0.4444444444444444,
              "#bd3786"
             ],
             [
              0.5555555555555556,
              "#d8576b"
             ],
             [
              0.6666666666666666,
              "#ed7953"
             ],
             [
              0.7777777777777778,
              "#fb9f3a"
             ],
             [
              0.8888888888888888,
              "#fdca26"
             ],
             [
              1,
              "#f0f921"
             ]
            ],
            "type": "contour"
           }
          ],
          "contourcarpet": [
           {
            "colorbar": {
             "outlinewidth": 0,
             "ticks": ""
            },
            "type": "contourcarpet"
           }
          ],
          "heatmap": [
           {
            "colorbar": {
             "outlinewidth": 0,
             "ticks": ""
            },
            "colorscale": [
             [
              0,
              "#0d0887"
             ],
             [
              0.1111111111111111,
              "#46039f"
             ],
             [
              0.2222222222222222,
              "#7201a8"
             ],
             [
              0.3333333333333333,
              "#9c179e"
             ],
             [
              0.4444444444444444,
              "#bd3786"
             ],
             [
              0.5555555555555556,
              "#d8576b"
             ],
             [
              0.6666666666666666,
              "#ed7953"
             ],
             [
              0.7777777777777778,
              "#fb9f3a"
             ],
             [
              0.8888888888888888,
              "#fdca26"
             ],
             [
              1,
              "#f0f921"
             ]
            ],
            "type": "heatmap"
           }
          ],
          "heatmapgl": [
           {
            "colorbar": {
             "outlinewidth": 0,
             "ticks": ""
            },
            "colorscale": [
             [
              0,
              "#0d0887"
             ],
             [
              0.1111111111111111,
              "#46039f"
             ],
             [
              0.2222222222222222,
              "#7201a8"
             ],
             [
              0.3333333333333333,
              "#9c179e"
             ],
             [
              0.4444444444444444,
              "#bd3786"
             ],
             [
              0.5555555555555556,
              "#d8576b"
             ],
             [
              0.6666666666666666,
              "#ed7953"
             ],
             [
              0.7777777777777778,
              "#fb9f3a"
             ],
             [
              0.8888888888888888,
              "#fdca26"
             ],
             [
              1,
              "#f0f921"
             ]
            ],
            "type": "heatmapgl"
           }
          ],
          "histogram": [
           {
            "marker": {
             "pattern": {
              "fillmode": "overlay",
              "size": 10,
              "solidity": 0.2
             }
            },
            "type": "histogram"
           }
          ],
          "histogram2d": [
           {
            "colorbar": {
             "outlinewidth": 0,
             "ticks": ""
            },
            "colorscale": [
             [
              0,
              "#0d0887"
             ],
             [
              0.1111111111111111,
              "#46039f"
             ],
             [
              0.2222222222222222,
              "#7201a8"
             ],
             [
              0.3333333333333333,
              "#9c179e"
             ],
             [
              0.4444444444444444,
              "#bd3786"
             ],
             [
              0.5555555555555556,
              "#d8576b"
             ],
             [
              0.6666666666666666,
              "#ed7953"
             ],
             [
              0.7777777777777778,
              "#fb9f3a"
             ],
             [
              0.8888888888888888,
              "#fdca26"
             ],
             [
              1,
              "#f0f921"
             ]
            ],
            "type": "histogram2d"
           }
          ],
          "histogram2dcontour": [
           {
            "colorbar": {
             "outlinewidth": 0,
             "ticks": ""
            },
            "colorscale": [
             [
              0,
              "#0d0887"
             ],
             [
              0.1111111111111111,
              "#46039f"
             ],
             [
              0.2222222222222222,
              "#7201a8"
             ],
             [
              0.3333333333333333,
              "#9c179e"
             ],
             [
              0.4444444444444444,
              "#bd3786"
             ],
             [
              0.5555555555555556,
              "#d8576b"
             ],
             [
              0.6666666666666666,
              "#ed7953"
             ],
             [
              0.7777777777777778,
              "#fb9f3a"
             ],
             [
              0.8888888888888888,
              "#fdca26"
             ],
             [
              1,
              "#f0f921"
             ]
            ],
            "type": "histogram2dcontour"
           }
          ],
          "mesh3d": [
           {
            "colorbar": {
             "outlinewidth": 0,
             "ticks": ""
            },
            "type": "mesh3d"
           }
          ],
          "parcoords": [
           {
            "line": {
             "colorbar": {
              "outlinewidth": 0,
              "ticks": ""
             }
            },
            "type": "parcoords"
           }
          ],
          "pie": [
           {
            "automargin": true,
            "type": "pie"
           }
          ],
          "scatter": [
           {
            "fillpattern": {
             "fillmode": "overlay",
             "size": 10,
             "solidity": 0.2
            },
            "type": "scatter"
           }
          ],
          "scatter3d": [
           {
            "line": {
             "colorbar": {
              "outlinewidth": 0,
              "ticks": ""
             }
            },
            "marker": {
             "colorbar": {
              "outlinewidth": 0,
              "ticks": ""
             }
            },
            "type": "scatter3d"
           }
          ],
          "scattercarpet": [
           {
            "marker": {
             "colorbar": {
              "outlinewidth": 0,
              "ticks": ""
             }
            },
            "type": "scattercarpet"
           }
          ],
          "scattergeo": [
           {
            "marker": {
             "colorbar": {
              "outlinewidth": 0,
              "ticks": ""
             }
            },
            "type": "scattergeo"
           }
          ],
          "scattergl": [
           {
            "marker": {
             "colorbar": {
              "outlinewidth": 0,
              "ticks": ""
             }
            },
            "type": "scattergl"
           }
          ],
          "scattermapbox": [
           {
            "marker": {
             "colorbar": {
              "outlinewidth": 0,
              "ticks": ""
             }
            },
            "type": "scattermapbox"
           }
          ],
          "scatterpolar": [
           {
            "marker": {
             "colorbar": {
              "outlinewidth": 0,
              "ticks": ""
             }
            },
            "type": "scatterpolar"
           }
          ],
          "scatterpolargl": [
           {
            "marker": {
             "colorbar": {
              "outlinewidth": 0,
              "ticks": ""
             }
            },
            "type": "scatterpolargl"
           }
          ],
          "scatterternary": [
           {
            "marker": {
             "colorbar": {
              "outlinewidth": 0,
              "ticks": ""
             }
            },
            "type": "scatterternary"
           }
          ],
          "surface": [
           {
            "colorbar": {
             "outlinewidth": 0,
             "ticks": ""
            },
            "colorscale": [
             [
              0,
              "#0d0887"
             ],
             [
              0.1111111111111111,
              "#46039f"
             ],
             [
              0.2222222222222222,
              "#7201a8"
             ],
             [
              0.3333333333333333,
              "#9c179e"
             ],
             [
              0.4444444444444444,
              "#bd3786"
             ],
             [
              0.5555555555555556,
              "#d8576b"
             ],
             [
              0.6666666666666666,
              "#ed7953"
             ],
             [
              0.7777777777777778,
              "#fb9f3a"
             ],
             [
              0.8888888888888888,
              "#fdca26"
             ],
             [
              1,
              "#f0f921"
             ]
            ],
            "type": "surface"
           }
          ],
          "table": [
           {
            "cells": {
             "fill": {
              "color": "#EBF0F8"
             },
             "line": {
              "color": "white"
             }
            },
            "header": {
             "fill": {
              "color": "#C8D4E3"
             },
             "line": {
              "color": "white"
             }
            },
            "type": "table"
           }
          ]
         },
         "layout": {
          "annotationdefaults": {
           "arrowcolor": "#2a3f5f",
           "arrowhead": 0,
           "arrowwidth": 1
          },
          "autotypenumbers": "strict",
          "coloraxis": {
           "colorbar": {
            "outlinewidth": 0,
            "ticks": ""
           }
          },
          "colorscale": {
           "diverging": [
            [
             0,
             "#8e0152"
            ],
            [
             0.1,
             "#c51b7d"
            ],
            [
             0.2,
             "#de77ae"
            ],
            [
             0.3,
             "#f1b6da"
            ],
            [
             0.4,
             "#fde0ef"
            ],
            [
             0.5,
             "#f7f7f7"
            ],
            [
             0.6,
             "#e6f5d0"
            ],
            [
             0.7,
             "#b8e186"
            ],
            [
             0.8,
             "#7fbc41"
            ],
            [
             0.9,
             "#4d9221"
            ],
            [
             1,
             "#276419"
            ]
           ],
           "sequential": [
            [
             0,
             "#0d0887"
            ],
            [
             0.1111111111111111,
             "#46039f"
            ],
            [
             0.2222222222222222,
             "#7201a8"
            ],
            [
             0.3333333333333333,
             "#9c179e"
            ],
            [
             0.4444444444444444,
             "#bd3786"
            ],
            [
             0.5555555555555556,
             "#d8576b"
            ],
            [
             0.6666666666666666,
             "#ed7953"
            ],
            [
             0.7777777777777778,
             "#fb9f3a"
            ],
            [
             0.8888888888888888,
             "#fdca26"
            ],
            [
             1,
             "#f0f921"
            ]
           ],
           "sequentialminus": [
            [
             0,
             "#0d0887"
            ],
            [
             0.1111111111111111,
             "#46039f"
            ],
            [
             0.2222222222222222,
             "#7201a8"
            ],
            [
             0.3333333333333333,
             "#9c179e"
            ],
            [
             0.4444444444444444,
             "#bd3786"
            ],
            [
             0.5555555555555556,
             "#d8576b"
            ],
            [
             0.6666666666666666,
             "#ed7953"
            ],
            [
             0.7777777777777778,
             "#fb9f3a"
            ],
            [
             0.8888888888888888,
             "#fdca26"
            ],
            [
             1,
             "#f0f921"
            ]
           ]
          },
          "colorway": [
           "#636efa",
           "#EF553B",
           "#00cc96",
           "#ab63fa",
           "#FFA15A",
           "#19d3f3",
           "#FF6692",
           "#B6E880",
           "#FF97FF",
           "#FECB52"
          ],
          "font": {
           "color": "#2a3f5f"
          },
          "geo": {
           "bgcolor": "white",
           "lakecolor": "white",
           "landcolor": "#E5ECF6",
           "showlakes": true,
           "showland": true,
           "subunitcolor": "white"
          },
          "hoverlabel": {
           "align": "left"
          },
          "hovermode": "closest",
          "mapbox": {
           "style": "light"
          },
          "paper_bgcolor": "white",
          "plot_bgcolor": "#E5ECF6",
          "polar": {
           "angularaxis": {
            "gridcolor": "white",
            "linecolor": "white",
            "ticks": ""
           },
           "bgcolor": "#E5ECF6",
           "radialaxis": {
            "gridcolor": "white",
            "linecolor": "white",
            "ticks": ""
           }
          },
          "scene": {
           "xaxis": {
            "backgroundcolor": "#E5ECF6",
            "gridcolor": "white",
            "gridwidth": 2,
            "linecolor": "white",
            "showbackground": true,
            "ticks": "",
            "zerolinecolor": "white"
           },
           "yaxis": {
            "backgroundcolor": "#E5ECF6",
            "gridcolor": "white",
            "gridwidth": 2,
            "linecolor": "white",
            "showbackground": true,
            "ticks": "",
            "zerolinecolor": "white"
           },
           "zaxis": {
            "backgroundcolor": "#E5ECF6",
            "gridcolor": "white",
            "gridwidth": 2,
            "linecolor": "white",
            "showbackground": true,
            "ticks": "",
            "zerolinecolor": "white"
           }
          },
          "shapedefaults": {
           "line": {
            "color": "#2a3f5f"
           }
          },
          "ternary": {
           "aaxis": {
            "gridcolor": "white",
            "linecolor": "white",
            "ticks": ""
           },
           "baxis": {
            "gridcolor": "white",
            "linecolor": "white",
            "ticks": ""
           },
           "bgcolor": "#E5ECF6",
           "caxis": {
            "gridcolor": "white",
            "linecolor": "white",
            "ticks": ""
           }
          },
          "title": {
           "x": 0.05
          },
          "xaxis": {
           "automargin": true,
           "gridcolor": "white",
           "linecolor": "white",
           "ticks": "",
           "title": {
            "standoff": 15
           },
           "zerolinecolor": "white",
           "zerolinewidth": 2
          },
          "yaxis": {
           "automargin": true,
           "gridcolor": "white",
           "linecolor": "white",
           "ticks": "",
           "title": {
            "standoff": 15
           },
           "zerolinecolor": "white",
           "zerolinewidth": 2
          }
         }
        },
        "xaxis": {
         "anchor": "y",
         "domain": [
          0,
          1
         ],
         "title": {
          "text": "0"
         }
        },
        "yaxis": {
         "anchor": "x",
         "domain": [
          0,
          1
         ],
         "title": {
          "text": "1"
         }
        }
       }
      },
      "text/html": [
       "<div>                            <div id=\"9896c1ff-a5f0-45b6-a4f7-19e7fb85cdd5\" class=\"plotly-graph-div\" style=\"height:525px; width:100%;\"></div>            <script type=\"text/javascript\">                require([\"plotly\"], function(Plotly) {                    window.PLOTLYENV=window.PLOTLYENV || {};                                    if (document.getElementById(\"9896c1ff-a5f0-45b6-a4f7-19e7fb85cdd5\")) {                    Plotly.newPlot(                        \"9896c1ff-a5f0-45b6-a4f7-19e7fb85cdd5\",                        [{\"hovertemplate\":\"color=nyt<br>0=%{x}<br>1=%{y}<extra></extra>\",\"legendgroup\":\"nyt\",\"marker\":{\"color\":\"rgb(127, 60, 141)\",\"symbol\":\"circle\"},\"mode\":\"markers\",\"name\":\"nyt\",\"orientation\":\"v\",\"showlegend\":true,\"x\":[6.913326740264893,6.9866042137146,5.484319686889648,2.886760711669922,1.8081012964248657,2.6075551509857178,3.3052632808685303,5.8064866065979,-1.1734726428985596,-0.4864967167377472,7.986453056335449,-6.925418376922607,8.666696548461914,-0.6114262938499451,6.526296615600586,-0.21827104687690735,5.213521480560303,6.601413726806641,0.9384574294090271,-6.338644981384277,-6.376616477966309,4.1178412437438965,8.671937942504883,6.619418144226074,2.0577144622802734,-0.9971015453338623,5.3011345863342285,5.187442302703857,-0.6705371141433716,-0.5856701135635376,-5.458708763122559,4.234690189361572,4.823890209197998,4.624146461486816,-0.18100644648075104,1.7335586547851562,-2.5735650062561035,2.9356722831726074,5.488752365112305,0.3634994626045227,2.358643054962158,1.9196076393127441,0.7423131465911865,7.400827884674072,2.2033002376556396,-3.4057657718658447,1.9584460258483887,-2.808396577835083,7.0873637199401855,-2.9217681884765625,4.320034027099609,2.3976664543151855,0.19000543653964996,4.343132019042969,-6.694542407989502,1.8160392045974731,-0.6633689999580383,1.0094690322875977,-4.061310291290283,1.5990121364593506,5.258953094482422,3.11108660697937,-8.871807098388672,1.5403026342391968,5.218972682952881,2.6261680126190186,1.8422421216964722,2.9093539714813232,3.2664036750793457,6.002945423126221,2.110405683517456,-1.3676109313964844,2.539748191833496,1.4044945240020752,6.789921760559082,5.8028693199157715,-1.6630685329437256,4.80593729019165,-2.04205584526062,5.398963928222656,-0.7378911375999451,3.324733018875122,-2.8368942737579346,3.288224220275879,7.120672225952148,-2.3897953033447266,-3.3886618614196777,-4.040919780731201,6.337889194488525,1.67360520362854,-8.717216491699219,-2.8632335662841797,-2.4456496238708496,0.7772478461265564,-2.627831220626831,6.81016731262207,-4.518033981323242,-3.4231021404266357,1.0975828170776367,2.0203440189361572],\"xaxis\":\"x\",\"y\":[2.810271978378296,2.897831678390503,5.374917030334473,1.2537331581115723,5.826427936553955,6.461367607116699,10.013858795166016,6.928353786468506,13.814977645874023,11.168085098266602,2.523927927017212,-2.2690699100494385,6.332111835479736,4.554284572601318,-0.19657589495182037,6.293106555938721,0.7142343521118164,3.7475383281707764,3.080620288848877,-3.2676427364349365,-3.2841336727142334,14.249401092529297,6.616014003753662,9.024884223937988,9.406682968139648,1.218519687652588,1.827545404434204,10.181882858276367,15.269426345825195,0.9531001448631287,1.089521884918213,7.499663829803467,5.962856769561768,4.700822830200195,-5.922671794891357,11.974130630493164,2.812042474746704,14.069454193115234,7.786077499389648,11.062455177307129,7.176756858825684,2.416616678237915,12.097433090209961,4.886279582977295,7.826633453369141,-0.20267683267593384,-0.4835645854473114,1.7111529111862183,4.715062141418457,-1.18393874168396,11.328252792358398,0.8737850785255432,11.255245208740234,5.195639133453369,-2.4614973068237305,-4.785577774047852,12.719534873962402,11.247830390930176,0.0719786137342453,-4.274165153503418,9.445710182189941,1.544124960899353,-11.077374458312988,10.929525375366211,1.8667035102844238,12.33771800994873,10.098634719848633,-3.6379940509796143,8.81817626953125,7.793682098388672,9.423162460327148,-0.673882007598877,8.843320846557617,-1.7121707201004028,6.905881881713867,5.930140495300293,1.5122456550598145,5.980138301849365,7.126479625701904,-5.257776737213135,11.360133171081543,-4.235753536224365,-3.132662057876587,11.446931838989258,5.932857036590576,9.696962356567383,-3.8686158657073975,1.4675651788711548,5.687893867492676,12.642892837524414,-8.19874382019043,2.4295690059661865,10.776820182800293,-3.007305145263672,3.0606250762939453,2.377331495285034,1.1151316165924072,10.043013572692871,10.165457725524902,0.5367066860198975],\"yaxis\":\"y\",\"type\":\"scatter\"},{\"hovertemplate\":\"color=oba<br>0=%{x}<br>1=%{y}<extra></extra>\",\"legendgroup\":\"oba\",\"marker\":{\"color\":\"rgb(17, 165, 121)\",\"symbol\":\"circle\"},\"mode\":\"markers\",\"name\":\"oba\",\"orientation\":\"v\",\"showlegend\":true,\"x\":[-6.987759590148926,-1.3947207927703857,3.536640167236328,-2.4164609909057617,0.7087844610214233,-8.038321495056152,-8.700977325439453,4.692616939544678,-5.568108558654785,-7.144463539123535,-7.0604071617126465,-1.4033821821212769,0.7542828917503357,4.386593818664551,1.1578129529953003,-3.8296051025390625,-2.1757149696350098,-5.1628313064575195,1.9339523315429688,0.6089457869529724,-3.7420248985290527,-1.951075553894043,2.455660104751587,-1.3074660301208496,0.03900554031133652,-3.7834854125976562,-7.767124176025391,1.6793177127838135,-4.126697063446045,-0.6448430418968201,-2.156125545501709,-0.3226625323295593,-3.0445618629455566,-5.6129560470581055,-4.3024516105651855,-6.604840278625488,2.3692190647125244,-0.049588508903980255,-8.15759563446045,-5.307129859924316,-1.3566898107528687,-0.7221278548240662,0.15712085366249084,-1.3363198041915894,-2.0143187046051025,-0.6034047603607178,-6.0367255210876465,-1.6204683780670166,-0.1280200481414795,2.583648204803467,-2.9254214763641357,-3.714439630508423,-4.666751861572266,-8.096399307250977,0.3541722595691681,0.6364225149154663,-5.297234058380127,-4.945606231689453,-1.3103687763214111,-4.92891788482666,-3.436535358428955,-4.004187107086182,2.249925374984741,-8.88249397277832,-8.265886306762695,-1.4115700721740723,-7.029648303985596,-3.559380292892456,-1.9079221487045288,-2.0034494400024414,-0.2131257951259613,1.9360815286636353,-2.4069623947143555,-2.739323139190674,1.0819799900054932,-2.867884397506714,5.33569860458374,-7.879004001617432,-5.890749454498291,-4.629133224487305,4.418121337890625,-5.481036186218262,-0.8396402597427368,-0.7595190405845642,-4.047467231750488,2.753431797027588,-1.7120308876037598,4.6639580726623535,2.650254964828491,-7.632683753967285,3.3994057178497314,1.8239384889602661,-7.345118999481201,-6.551392555236816,-2.408973217010498,-6.165664196014404,-2.197230577468872,1.6881757974624634,-0.18509139120578766,-6.736252784729004],\"xaxis\":\"x\",\"y\":[-9.860595703125,-7.921949863433838,-2.9413111209869385,-5.869133472442627,-3.757204532623291,-10.513513565063477,-8.66064739227295,-2.4687752723693848,-9.47940731048584,-10.438759803771973,-8.148381233215332,-6.265483379364014,-4.452243328094482,-2.9924542903900146,-3.4893012046813965,-7.206606864929199,-8.59833812713623,-10.344138145446777,-2.8325188159942627,-5.214258193969727,-6.819363117218018,-5.401150226593018,-4.2772908210754395,-2.6398167610168457,-7.274585723876953,-10.93226146697998,-11.715048789978027,-5.628896713256836,-9.35122299194336,-3.35794734954834,-9.126672744750977,-3.691009998321533,-9.793240547180176,-9.964489936828613,-6.019748210906982,-8.58424186706543,-4.998429775238037,-2.392940044403076,-11.511170387268066,-11.039121627807617,-8.923227310180664,-8.014822006225586,-4.392419815063477,-10.062446594238281,-7.829858779907227,-6.760623455047607,-9.246256828308105,-6.581735134124756,-6.987432479858398,-7.276670932769775,-9.897493362426758,-6.330458164215088,-11.339272499084473,-11.16552734375,-9.987030982971191,-7.534245491027832,-10.889150619506836,-8.728604316711426,-4.116122245788574,-7.160597324371338,-0.04980408772826195,-8.712862968444824,-6.723186492919922,-8.14599895477295,-10.534082412719727,8.553200721740723,-7.943169116973877,-10.4747953414917,-6.315553665161133,-7.391425609588623,-1.0458425283432007,-1.3321151733398438,-7.134543418884277,-10.975619316101074,-6.7356061935424805,-11.419722557067871,-2.190840482711792,-11.368497848510742,-10.585878372192383,-9.726068496704102,-4.7172465324401855,-11.70576286315918,-5.724860668182373,-1.4577652215957642,-11.192506790161133,-5.8307085037231445,-4.140146255493164,-6.892731189727783,-4.931238651275635,-10.78133773803711,-6.013251781463623,14.15536117553711,-11.096871376037598,-11.9950532913208,-4.881020545959473,-11.367473602294922,-8.275209426879883,-4.36201286315918,-8.105047225952148,-9.264572143554688],\"yaxis\":\"y\",\"type\":\"scatter\"},{\"hovertemplate\":\"color=wsj<br>0=%{x}<br>1=%{y}<extra></extra>\",\"legendgroup\":\"wsj\",\"marker\":{\"color\":\"rgb(57, 105, 172)\",\"symbol\":\"circle\"},\"mode\":\"markers\",\"name\":\"wsj\",\"orientation\":\"v\",\"showlegend\":true,\"x\":[-2.217557907104492,4.222182273864746,4.9231719970703125,2.7021236419677734,0.0357845276594162,0.9246135354042053,3.5980136394500732,-0.7873852849006653,-0.6203571557998657,-0.4956769347190857,8.00937557220459,-2.6142942905426025,-0.8229073882102966,-4.678076267242432,-6.647103786468506,3.679504156112671,4.163308620452881,4.012893199920654,1.0330712795257568,8.441914558410645,1.3137410879135132,4.220327854156494,1.311801791191101,3.4542551040649414,0.6804347038269043,2.7736051082611084,4.797966480255127,4.541245460510254,8.78900146484375,-3.8425865173339844,-5.114705562591553,1.250656247138977,1.3413935899734497,5.8486409187316895,2.7287564277648926,-1.6348170042037964,0.9329078197479248,4.270818710327148,4.680078029632568,7.113713264465332,2.2300097942352295,5.934930324554443,0.6690398454666138,8.405583381652832,2.8782591819763184,-3.412550926208496,3.495694875717163,0.023812655359506607,3.9728572368621826,-2.6771469116210938,4.516331672668457,6.07844352722168,-3.2549026012420654,2.7930870056152344,-4.244460582733154,-0.5423213243484497,7.720417022705078,-0.9680812954902649,-3.242309808731079,0.9643088579177856,1.1980383396148682,4.6779465675354,-1.0963108539581299,2.6349475383758545,0.6005584001541138,3.7337942123413086,3.759572982788086,1.7384809255599976,5.448780536651611,3.842878580093384,-2.7516162395477295,-2.521747589111328,3.3398797512054443,2.8872382640838623,3.929600954055786,0.15942037105560303,-2.371591091156006,4.9289703369140625,2.242154598236084,6.483757495880127,5.403855800628662,-2.45871901512146,-2.777024984359741,0.022071272134780884,7.332468032836914,-2.268604278564453,-2.599196672439575,-3.7258706092834473,-1.2637747526168823,2.1609647274017334,1.2014343738555908,-3.4318292140960693,-0.2596268951892853,-5.577418804168701,-3.2241368293762207,2.1675305366516113,-5.568576335906982,-0.29411789774894714,2.3382439613342285,1.1303578615188599],\"xaxis\":\"x\",\"y\":[9.686684608459473,2.99099063873291,4.371662616729736,0.35183292627334595,8.097585678100586,5.843517303466797,9.096640586853027,2.807408571243286,14.923653602600098,9.014921188354492,4.065794944763184,0.6166432499885559,10.597750663757324,2.5223493576049805,-2.029416561126709,0.7433298230171204,1.0032004117965698,4.735910415649414,2.874821901321411,9.783882141113281,-2.392317771911621,3.237947463989258,10.365631103515625,4.302500247955322,7.3696160316467285,-2.5525314807891846,5.606431484222412,8.878862380981445,4.087954998016357,1.512180209159851,0.6643097996711731,4.017123222351074,3.7733263969421387,4.554278373718262,3.052553415298462,13.060461044311523,12.02165699005127,9.449631690979004,6.575143337249756,-2.8722727298736572,4.526937007904053,-3.7059946060180664,9.416257858276367,4.100029468536377,7.853164196014404,0.6884178519248962,-0.5135789513587952,1.9563989639282227,2.501389741897583,-1.1132185459136963,11.255304336547852,4.608010768890381,8.417243957519531,6.9669270515441895,1.650085687637329,7.647453308105469,7.6003875732421875,10.656373023986816,2.4112014770507812,12.718128204345703,11.969860076904297,11.459341049194336,2.953714609146118,10.965229988098145,7.6462883949279785,8.506559371948242,6.802956581115723,6.79870080947876,4.743117809295654,8.074953079223633,3.97076416015625,-0.09395018965005875,10.760750770568848,0.374519020318985,0.8666006922721863,10.43335247039795,2.0269224643707275,7.580303192138672,10.857111930847168,10.985486030578613,3.8800723552703857,11.110260009765625,-3.7720978260040283,11.703445434570312,5.579504489898682,9.941970825195312,-1.4326677322387695,3.1936042308807373,12.976160049438477,5.951218605041504,9.971633911132812,2.160133123397827,9.499451637268066,1.9459644556045532,3.114100456237793,2.8641998767852783,0.03300977870821953,9.242341995239258,2.924288034439087,8.419768333435059],\"yaxis\":\"y\",\"type\":\"scatter\"}],                        {\"template\":{\"data\":{\"histogram2dcontour\":[{\"type\":\"histogram2dcontour\",\"colorbar\":{\"outlinewidth\":0,\"ticks\":\"\"},\"colorscale\":[[0.0,\"#0d0887\"],[0.1111111111111111,\"#46039f\"],[0.2222222222222222,\"#7201a8\"],[0.3333333333333333,\"#9c179e\"],[0.4444444444444444,\"#bd3786\"],[0.5555555555555556,\"#d8576b\"],[0.6666666666666666,\"#ed7953\"],[0.7777777777777778,\"#fb9f3a\"],[0.8888888888888888,\"#fdca26\"],[1.0,\"#f0f921\"]]}],\"choropleth\":[{\"type\":\"choropleth\",\"colorbar\":{\"outlinewidth\":0,\"ticks\":\"\"}}],\"histogram2d\":[{\"type\":\"histogram2d\",\"colorbar\":{\"outlinewidth\":0,\"ticks\":\"\"},\"colorscale\":[[0.0,\"#0d0887\"],[0.1111111111111111,\"#46039f\"],[0.2222222222222222,\"#7201a8\"],[0.3333333333333333,\"#9c179e\"],[0.4444444444444444,\"#bd3786\"],[0.5555555555555556,\"#d8576b\"],[0.6666666666666666,\"#ed7953\"],[0.7777777777777778,\"#fb9f3a\"],[0.8888888888888888,\"#fdca26\"],[1.0,\"#f0f921\"]]}],\"heatmap\":[{\"type\":\"heatmap\",\"colorbar\":{\"outlinewidth\":0,\"ticks\":\"\"},\"colorscale\":[[0.0,\"#0d0887\"],[0.1111111111111111,\"#46039f\"],[0.2222222222222222,\"#7201a8\"],[0.3333333333333333,\"#9c179e\"],[0.4444444444444444,\"#bd3786\"],[0.5555555555555556,\"#d8576b\"],[0.6666666666666666,\"#ed7953\"],[0.7777777777777778,\"#fb9f3a\"],[0.8888888888888888,\"#fdca26\"],[1.0,\"#f0f921\"]]}],\"heatmapgl\":[{\"type\":\"heatmapgl\",\"colorbar\":{\"outlinewidth\":0,\"ticks\":\"\"},\"colorscale\":[[0.0,\"#0d0887\"],[0.1111111111111111,\"#46039f\"],[0.2222222222222222,\"#7201a8\"],[0.3333333333333333,\"#9c179e\"],[0.4444444444444444,\"#bd3786\"],[0.5555555555555556,\"#d8576b\"],[0.6666666666666666,\"#ed7953\"],[0.7777777777777778,\"#fb9f3a\"],[0.8888888888888888,\"#fdca26\"],[1.0,\"#f0f921\"]]}],\"contourcarpet\":[{\"type\":\"contourcarpet\",\"colorbar\":{\"outlinewidth\":0,\"ticks\":\"\"}}],\"contour\":[{\"type\":\"contour\",\"colorbar\":{\"outlinewidth\":0,\"ticks\":\"\"},\"colorscale\":[[0.0,\"#0d0887\"],[0.1111111111111111,\"#46039f\"],[0.2222222222222222,\"#7201a8\"],[0.3333333333333333,\"#9c179e\"],[0.4444444444444444,\"#bd3786\"],[0.5555555555555556,\"#d8576b\"],[0.6666666666666666,\"#ed7953\"],[0.7777777777777778,\"#fb9f3a\"],[0.8888888888888888,\"#fdca26\"],[1.0,\"#f0f921\"]]}],\"surface\":[{\"type\":\"surface\",\"colorbar\":{\"outlinewidth\":0,\"ticks\":\"\"},\"colorscale\":[[0.0,\"#0d0887\"],[0.1111111111111111,\"#46039f\"],[0.2222222222222222,\"#7201a8\"],[0.3333333333333333,\"#9c179e\"],[0.4444444444444444,\"#bd3786\"],[0.5555555555555556,\"#d8576b\"],[0.6666666666666666,\"#ed7953\"],[0.7777777777777778,\"#fb9f3a\"],[0.8888888888888888,\"#fdca26\"],[1.0,\"#f0f921\"]]}],\"mesh3d\":[{\"type\":\"mesh3d\",\"colorbar\":{\"outlinewidth\":0,\"ticks\":\"\"}}],\"scatter\":[{\"fillpattern\":{\"fillmode\":\"overlay\",\"size\":10,\"solidity\":0.2},\"type\":\"scatter\"}],\"parcoords\":[{\"type\":\"parcoords\",\"line\":{\"colorbar\":{\"outlinewidth\":0,\"ticks\":\"\"}}}],\"scatterpolargl\":[{\"type\":\"scatterpolargl\",\"marker\":{\"colorbar\":{\"outlinewidth\":0,\"ticks\":\"\"}}}],\"bar\":[{\"error_x\":{\"color\":\"#2a3f5f\"},\"error_y\":{\"color\":\"#2a3f5f\"},\"marker\":{\"line\":{\"color\":\"#E5ECF6\",\"width\":0.5},\"pattern\":{\"fillmode\":\"overlay\",\"size\":10,\"solidity\":0.2}},\"type\":\"bar\"}],\"scattergeo\":[{\"type\":\"scattergeo\",\"marker\":{\"colorbar\":{\"outlinewidth\":0,\"ticks\":\"\"}}}],\"scatterpolar\":[{\"type\":\"scatterpolar\",\"marker\":{\"colorbar\":{\"outlinewidth\":0,\"ticks\":\"\"}}}],\"histogram\":[{\"marker\":{\"pattern\":{\"fillmode\":\"overlay\",\"size\":10,\"solidity\":0.2}},\"type\":\"histogram\"}],\"scattergl\":[{\"type\":\"scattergl\",\"marker\":{\"colorbar\":{\"outlinewidth\":0,\"ticks\":\"\"}}}],\"scatter3d\":[{\"type\":\"scatter3d\",\"line\":{\"colorbar\":{\"outlinewidth\":0,\"ticks\":\"\"}},\"marker\":{\"colorbar\":{\"outlinewidth\":0,\"ticks\":\"\"}}}],\"scattermapbox\":[{\"type\":\"scattermapbox\",\"marker\":{\"colorbar\":{\"outlinewidth\":0,\"ticks\":\"\"}}}],\"scatterternary\":[{\"type\":\"scatterternary\",\"marker\":{\"colorbar\":{\"outlinewidth\":0,\"ticks\":\"\"}}}],\"scattercarpet\":[{\"type\":\"scattercarpet\",\"marker\":{\"colorbar\":{\"outlinewidth\":0,\"ticks\":\"\"}}}],\"carpet\":[{\"aaxis\":{\"endlinecolor\":\"#2a3f5f\",\"gridcolor\":\"white\",\"linecolor\":\"white\",\"minorgridcolor\":\"white\",\"startlinecolor\":\"#2a3f5f\"},\"baxis\":{\"endlinecolor\":\"#2a3f5f\",\"gridcolor\":\"white\",\"linecolor\":\"white\",\"minorgridcolor\":\"white\",\"startlinecolor\":\"#2a3f5f\"},\"type\":\"carpet\"}],\"table\":[{\"cells\":{\"fill\":{\"color\":\"#EBF0F8\"},\"line\":{\"color\":\"white\"}},\"header\":{\"fill\":{\"color\":\"#C8D4E3\"},\"line\":{\"color\":\"white\"}},\"type\":\"table\"}],\"barpolar\":[{\"marker\":{\"line\":{\"color\":\"#E5ECF6\",\"width\":0.5},\"pattern\":{\"fillmode\":\"overlay\",\"size\":10,\"solidity\":0.2}},\"type\":\"barpolar\"}],\"pie\":[{\"automargin\":true,\"type\":\"pie\"}]},\"layout\":{\"autotypenumbers\":\"strict\",\"colorway\":[\"#636efa\",\"#EF553B\",\"#00cc96\",\"#ab63fa\",\"#FFA15A\",\"#19d3f3\",\"#FF6692\",\"#B6E880\",\"#FF97FF\",\"#FECB52\"],\"font\":{\"color\":\"#2a3f5f\"},\"hovermode\":\"closest\",\"hoverlabel\":{\"align\":\"left\"},\"paper_bgcolor\":\"white\",\"plot_bgcolor\":\"#E5ECF6\",\"polar\":{\"bgcolor\":\"#E5ECF6\",\"angularaxis\":{\"gridcolor\":\"white\",\"linecolor\":\"white\",\"ticks\":\"\"},\"radialaxis\":{\"gridcolor\":\"white\",\"linecolor\":\"white\",\"ticks\":\"\"}},\"ternary\":{\"bgcolor\":\"#E5ECF6\",\"aaxis\":{\"gridcolor\":\"white\",\"linecolor\":\"white\",\"ticks\":\"\"},\"baxis\":{\"gridcolor\":\"white\",\"linecolor\":\"white\",\"ticks\":\"\"},\"caxis\":{\"gridcolor\":\"white\",\"linecolor\":\"white\",\"ticks\":\"\"}},\"coloraxis\":{\"colorbar\":{\"outlinewidth\":0,\"ticks\":\"\"}},\"colorscale\":{\"sequential\":[[0.0,\"#0d0887\"],[0.1111111111111111,\"#46039f\"],[0.2222222222222222,\"#7201a8\"],[0.3333333333333333,\"#9c179e\"],[0.4444444444444444,\"#bd3786\"],[0.5555555555555556,\"#d8576b\"],[0.6666666666666666,\"#ed7953\"],[0.7777777777777778,\"#fb9f3a\"],[0.8888888888888888,\"#fdca26\"],[1.0,\"#f0f921\"]],\"sequentialminus\":[[0.0,\"#0d0887\"],[0.1111111111111111,\"#46039f\"],[0.2222222222222222,\"#7201a8\"],[0.3333333333333333,\"#9c179e\"],[0.4444444444444444,\"#bd3786\"],[0.5555555555555556,\"#d8576b\"],[0.6666666666666666,\"#ed7953\"],[0.7777777777777778,\"#fb9f3a\"],[0.8888888888888888,\"#fdca26\"],[1.0,\"#f0f921\"]],\"diverging\":[[0,\"#8e0152\"],[0.1,\"#c51b7d\"],[0.2,\"#de77ae\"],[0.3,\"#f1b6da\"],[0.4,\"#fde0ef\"],[0.5,\"#f7f7f7\"],[0.6,\"#e6f5d0\"],[0.7,\"#b8e186\"],[0.8,\"#7fbc41\"],[0.9,\"#4d9221\"],[1,\"#276419\"]]},\"xaxis\":{\"gridcolor\":\"white\",\"linecolor\":\"white\",\"ticks\":\"\",\"title\":{\"standoff\":15},\"zerolinecolor\":\"white\",\"automargin\":true,\"zerolinewidth\":2},\"yaxis\":{\"gridcolor\":\"white\",\"linecolor\":\"white\",\"ticks\":\"\",\"title\":{\"standoff\":15},\"zerolinecolor\":\"white\",\"automargin\":true,\"zerolinewidth\":2},\"scene\":{\"xaxis\":{\"backgroundcolor\":\"#E5ECF6\",\"gridcolor\":\"white\",\"linecolor\":\"white\",\"showbackground\":true,\"ticks\":\"\",\"zerolinecolor\":\"white\",\"gridwidth\":2},\"yaxis\":{\"backgroundcolor\":\"#E5ECF6\",\"gridcolor\":\"white\",\"linecolor\":\"white\",\"showbackground\":true,\"ticks\":\"\",\"zerolinecolor\":\"white\",\"gridwidth\":2},\"zaxis\":{\"backgroundcolor\":\"#E5ECF6\",\"gridcolor\":\"white\",\"linecolor\":\"white\",\"showbackground\":true,\"ticks\":\"\",\"zerolinecolor\":\"white\",\"gridwidth\":2}},\"shapedefaults\":{\"line\":{\"color\":\"#2a3f5f\"}},\"annotationdefaults\":{\"arrowcolor\":\"#2a3f5f\",\"arrowhead\":0,\"arrowwidth\":1},\"geo\":{\"bgcolor\":\"white\",\"landcolor\":\"#E5ECF6\",\"subunitcolor\":\"white\",\"showland\":true,\"showlakes\":true,\"lakecolor\":\"white\"},\"title\":{\"x\":0.05},\"mapbox\":{\"style\":\"light\"}}},\"xaxis\":{\"anchor\":\"y\",\"domain\":[0.0,1.0],\"title\":{\"text\":\"0\"}},\"yaxis\":{\"anchor\":\"x\",\"domain\":[0.0,1.0],\"title\":{\"text\":\"1\"}},\"legend\":{\"title\":{\"text\":\"color\"},\"tracegroupgap\":0},\"margin\":{\"t\":60}},                        {\"responsive\": true}                    ).then(function(){\n",
       "                            \n",
       "var gd = document.getElementById('9896c1ff-a5f0-45b6-a4f7-19e7fb85cdd5');\n",
       "var x = new MutationObserver(function (mutations, observer) {{\n",
       "        var display = window.getComputedStyle(gd).display;\n",
       "        if (!display || display === 'none') {{\n",
       "            console.log([gd, 'removed!']);\n",
       "            Plotly.purge(gd);\n",
       "            observer.disconnect();\n",
       "        }}\n",
       "}});\n",
       "\n",
       "// Listen for the removal of the full notebook cells\n",
       "var notebookContainer = gd.closest('#notebook-container');\n",
       "if (notebookContainer) {{\n",
       "    x.observe(notebookContainer, {childList: true});\n",
       "}}\n",
       "\n",
       "// Listen for the clearing of the current output cell\n",
       "var outputEl = gd.closest('.output');\n",
       "if (outputEl) {{\n",
       "    x.observe(outputEl, {childList: true});\n",
       "}}\n",
       "\n",
       "                        })                };                });            </script>        </div>"
      ]
     },
     "metadata": {},
     "output_type": "display_data"
    }
   ],
   "source": [
    "# Maybe the right perplexity in t-sne will separate these .... mostly not\n",
    "# Perplexity value can greatly influence the shape of the results, typical ranges from 5 to 50\n",
    "# Some perplexity values with decent separation: 6,7,9,10,12,14,15\n",
    "t_sne = manifold.TSNE(\n",
    "    n_components=2,\n",
    "    perplexity=43,\n",
    "    init=\"random\",\n",
    "    n_iter=1200,\n",
    "    random_state=0,\n",
    ");\n",
    "tsne_data = scaled_data\n",
    "S_t_sne = t_sne.fit_transform(tsne_data);\n",
    "fig = px.scatter(S_t_sne, \n",
    "                 x=0, \n",
    "                 y=1, \n",
    "                 color=df_tidy['source'],\n",
    "                 color_discrete_sequence=px.colors.qualitative.Bold)\n",
    "fig.show()"
   ]
  },
  {
   "cell_type": "code",
   "execution_count": 7,
   "id": "6451082c",
   "metadata": {},
   "outputs": [
    {
     "data": {
      "application/vnd.plotly.v1+json": {
       "config": {
        "plotlyServerURL": "https://plot.ly"
       },
       "data": [
        {
         "hovertemplate": "color=nyt<br>0=%{x}<br>1=%{y}<extra></extra>",
         "legendgroup": "nyt",
         "marker": {
          "color": "rgb(127, 60, 141)",
          "symbol": "circle"
         },
         "mode": "markers",
         "name": "nyt",
         "orientation": "v",
         "showlegend": true,
         "type": "scatter",
         "x": [
          0.921390425513387,
          0.06744873340855158,
          -1.4156606671491399,
          0.45729215577207094,
          -2.1045565312517907,
          -2.390586529523183,
          -6.513278719636778,
          -2.036228564234942,
          -6.599387466749445,
          -5.407634071528257,
          -9.001172242088735,
          3.660512028379175,
          -0.7761662178302121,
          -3.9393149623515513,
          -5.929856051097922,
          -3.287197141364237,
          3.3645095068379782,
          -0.7472049689637188,
          -0.8265184694904217,
          4.503308131573804,
          2.578634406585541,
          -10.923606920552094,
          -2.241478830837061,
          -3.7528737076984484,
          -4.254689045329119,
          -1.1407973781227718,
          1.9270513108767326,
          -2.3229556127229007,
          24.355955848270654,
          -0.5620924599715915,
          -4.318777811000703,
          -3.135054676167153,
          -1.9835142201784346,
          -0.9734315374792918,
          2.5605625985119618,
          -6.906438476912983,
          -3.800485676792734,
          -7.280647934593698,
          -4.505853966192151,
          -5.019622121223979,
          -3.181534726397134,
          0.3972192443135127,
          -6.428303124936813,
          -1.520085891732628,
          -1.9735547882961169,
          -0.9201468722721636,
          0.8009648660065563,
          -2.9997477374490806,
          -1.1693818552869104,
          -0.1307728861347893,
          -5.150327064228306,
          -0.6505679167956185,
          -5.996797915327768,
          -1.65702087658315,
          2.9625829932586605,
          1.581134367787833,
          -7.8884916735585575,
          -4.920694672343143,
          -1.8297634780735592,
          1.161550312722236,
          -3.5428466687305984,
          -0.7748870434328313,
          13.469580653823952,
          -5.667212561285643,
          1.4322264525263788,
          -7.492142074163611,
          -4.263422468077126,
          -2.2826014295959176,
          -4.265490674400544,
          -4.738930920383889,
          -4.7241126015123776,
          -0.21874985595502042,
          -3.6691013661429515,
          2.3806446045039693,
          -0.5872197671637863,
          -1.1035442729735423,
          -1.6783527148636714,
          -1.8996605087152794,
          -6.040874614463426,
          0.9087371803892802,
          -5.506759851219664,
          -0.0017898198627706564,
          2.8692092791194237,
          -6.531553314065171,
          -2.3928848467460875,
          -2.597764274917179,
          4.427314142715643,
          -2.4840181473265326,
          -2.294157447321513,
          -7.241723038379441,
          -4.942879994898961,
          -3.6820932009944496,
          -5.724948579131388,
          -0.6640426978001884,
          -4.7585319747364565,
          1.1727947939565757,
          -2.0959548622910416,
          -2.8938659806856477,
          -4.323706632996718,
          -0.14754858772565332
         ],
         "xaxis": "x",
         "y": [
          -5.915547406798897,
          -6.289466921253393,
          -4.909773067728415,
          -2.470969686520378,
          0.0413404293306368,
          -1.2775155805025094,
          1.112967812771266,
          -4.457580049654397,
          -6.6443265061957,
          -3.6875566025481388,
          3.8837103245526783,
          -7.151304542605984,
          -8.025470523365327,
          1.5423620629238441,
          6.512363350351384,
          -5.358115747230806,
          -3.540450661196546,
          -6.316701677757604,
          2.3884873354170115,
          -5.529580654801478,
          6.049435919267553,
          -3.5153002548792305,
          -8.529745845267545,
          -6.788964212111264,
          0.4695758755722121,
          1.1184265818223271,
          -4.0209217246335545,
          -0.7871656461394674,
          22.335311153627696,
          0.6821358060709869,
          6.841167191454714,
          -3.1365003737485257,
          -3.6969604553376048,
          -2.299382665101573,
          4.098798036826357,
          -2.204559447352737,
          3.4923513130829944,
          -6.519516270236476,
          -5.324040584051205,
          -1.8702110324544345,
          -0.6412914312258996,
          0.6892718119440082,
          -2.594380224962518,
          -6.124002101420739,
          -1.2257030891209664,
          5.240986099513283,
          -0.4504700298410941,
          3.8253896900951267,
          -5.949362428601577,
          5.92400906152582,
          1.9162026208592837,
          -0.8393676581863558,
          -2.8945891851103567,
          -2.575883225236578,
          4.211258693983673,
          0.6211280309738688,
          -4.049581744572835,
          -1.3667636723064591,
          7.094354158967502,
          2.5349639232305203,
          -2.2782432160754498,
          -2.805703219905819,
          -8.001923523517677,
          -1.479571709180602,
          -4.136053643395783,
          0.47610100017220847,
          0.16416956508659666,
          1.8216392378198407,
          -3.124415024185106,
          -5.659151187245311,
          0.6276116993659949,
          1.815766850519695,
          -0.8526455573494612,
          -0.9437697057186247,
          -6.408969585012261,
          -3.677837011442713,
          1.957627070210987,
          -3.060018282602705,
          -7.7297059399784676,
          -6.575532732225013,
          -3.21447745931945,
          2.0938008219833333,
          2.864310858584056,
          0.2363372482265878,
          -5.317694510500033,
          0.6751147370247675,
          0.985051631866561,
          5.702792903632072,
          -4.169195520097662,
          -0.6459351339545139,
          8.473850263450487,
          2.786053710288669,
          -1.9367029989761735,
          3.0255437966217946,
          3.197727538394603,
          -5.038990758995856,
          4.498777117597847,
          -6.024048522772689,
          -1.0883262820752033,
          -0.3347907417816297
         ],
         "yaxis": "y"
        },
        {
         "hovertemplate": "color=oba<br>0=%{x}<br>1=%{y}<extra></extra>",
         "legendgroup": "oba",
         "marker": {
          "color": "rgb(17, 165, 121)",
          "symbol": "circle"
         },
         "mode": "markers",
         "name": "oba",
         "orientation": "v",
         "showlegend": true,
         "type": "scatter",
         "x": [
          9.1910810647907,
          6.586943213502437,
          -1.691839188686954,
          3.3796021081187964,
          1.2278426850989141,
          10.753007458230856,
          6.397482310894463,
          3.212639954229887,
          8.259556481501772,
          9.091897092061485,
          5.033371400247098,
          3.899160719656515,
          2.388874158081065,
          -5.655600242547713,
          0.8786216951062193,
          4.802427891263741,
          6.1641167632019895,
          7.687130354867123,
          -1.5569372258696577,
          3.9565510443286565,
          3.692625113703269,
          3.096982537883879,
          -0.46913042002272964,
          1.04535985305973,
          4.455928503021279,
          9.807213297495386,
          12.074395731945666,
          2.897275963336605,
          8.051761170972906,
          0.3836913459896544,
          8.032053551641635,
          1.3808066818131597,
          5.944375231191307,
          9.101634351288945,
          4.04888575533804,
          6.561919369600482,
          0.3637074495666631,
          2.5105877827151004,
          14.407138057789783,
          8.95529251218812,
          7.364201489521693,
          6.285372678139642,
          1.6767701178902517,
          9.123534183155941,
          5.255664707092312,
          5.081962183718646,
          8.786530133857132,
          3.9952223068837727,
          4.951022754232779,
          1.3944253375696514,
          7.402710218468485,
          3.3250397976073547,
          11.011828299595273,
          13.987472798415794,
          6.128048767384403,
          5.828398850764746,
          9.819614194183647,
          6.541450171826289,
          1.3430680280006566,
          4.191191672657923,
          -1.3497282760770835,
          6.994981374347399,
          5.019648374417402,
          5.518223288030559,
          13.413346499788611,
          -8.844059590156665,
          3.999520447078091,
          7.6884848851501,
          3.71555978204344,
          5.086589127038653,
          0.12014901298294635,
          -0.2688316841698396,
          4.430995286309625,
          6.6523434705392015,
          3.1801779238172236,
          4.910223464452475,
          -0.5632635529587608,
          13.558505547575937,
          8.227100651673258,
          9.268718871119788,
          0.5392607400021302,
          11.68277633706749,
          2.508180040497321,
          1.8878786469822832,
          9.899879218831167,
          2.172598772195452,
          1.4871377740284777,
          0.7538357888440749,
          -0.8055858005273079,
          12.505027864320379,
          -2.4813865682481206,
          -15.83102429817737,
          12.636678290771377,
          14.550565395939751,
          3.7327409168743175,
          11.409218148471169,
          6.509403664470135,
          -0.3937168882389568,
          6.731527774727218,
          8.956011165511933
         ],
         "xaxis": "x",
         "y": [
          -3.4462966481154083,
          1.8769564107267072,
          6.806192973507598,
          2.161937099436125,
          1.8024643558892435,
          6.288996601121162,
          10.984642258712544,
          -5.330897852034794,
          0.8314380203367171,
          -4.39203959558618,
          5.090822144551306,
          2.5346960911214738,
          1.6665113728417347,
          4.5866514093725685,
          1.3732793618206163,
          0.030478130153230854,
          2.068147127423797,
          -3.0375186058384527,
          3.2757081580863447,
          -0.1881649956058469,
          1.146699883628905,
          2.9284386983149475,
          3.4496237855545937,
          3.96575518233423,
          3.068713664436623,
          -2.130826386476245,
          -9.787380409309208,
          5.962939447660743,
          -0.07189994621748633,
          3.6184910641152976,
          4.303512724403263,
          2.0413948209807344,
          -1.279234150938127,
          2.0886710170370204,
          -1.6978139850226885,
          1.8408079297675057,
          5.593873814567063,
          0.8805748485185325,
          -5.7256472524030535,
          -4.089578331618471,
          5.082112663258919,
          5.969820630688725,
          5.019534281544454,
          0.9057368923358508,
          -0.34908608479973485,
          6.48633571201968,
          1.223600674288899,
          2.3587052941290603,
          4.740204037908054,
          8.95169502729053,
          -1.3844857206946182,
          -0.4505927555049687,
          -1.2811906369247634,
          -3.0361274141523813,
          -5.387597567328762,
          -0.9812445754146746,
          0.47386416398776604,
          -0.05200107357838376,
          3.338048083586545,
          -0.7656402199196763,
          4.457851895641242,
          1.9023734444902138,
          5.452900909128755,
          10.442761706940574,
          1.5730399730584805,
          -0.26035598781870134,
          3.686574166805193,
          -0.7370664431154583,
          1.7585627371809291,
          1.5282326582035504,
          1.7165824435501351,
          0.17818180487083743,
          1.1304280062690149,
          -4.726649976559758,
          7.310669182092948,
          -3.9199654575340084,
          14.19081119425051,
          -5.09299165247895,
          0.5217888008487837,
          1.9947579499233121,
          4.879097698291127,
          -0.08071673000683857,
          4.316409942134294,
          0.8064079595337983,
          -2.8972569847708285,
          -0.18403410378872678,
          5.646915359162196,
          10.06955247039317,
          4.548737588613629,
          -0.052203955557352896,
          9.864998684806013,
          3.107997052310835,
          -0.47523499736844876,
          -2.27035580171279,
          6.114364420789051,
          1.1097702949177557,
          1.0623372173073509,
          2.663650522743727,
          6.4056290473430035,
          -0.7663193171433175
         ],
         "yaxis": "y"
        },
        {
         "hovertemplate": "color=wsj<br>0=%{x}<br>1=%{y}<extra></extra>",
         "legendgroup": "wsj",
         "marker": {
          "color": "rgb(57, 105, 172)",
          "symbol": "circle"
         },
         "mode": "markers",
         "name": "wsj",
         "orientation": "v",
         "showlegend": true,
         "type": "scatter",
         "x": [
          -3.3560815735264646,
          2.553554776570685,
          0.13424672166180263,
          1.3335187122293777,
          -3.200912849926753,
          -7.68881011902688,
          -5.084500687284509,
          -2.1206610167274116,
          -14.540671533937278,
          -7.014494157767386,
          0.4851139777044484,
          -5.160993300352571,
          -4.666796838194007,
          -3.8540416637815698,
          3.3276178448222167,
          0.32561466453785004,
          0.8095946199375373,
          -1.3772246718268093,
          1.7582104388937472,
          -7.927416551877165,
          1.9407639097993712,
          0.30105513509944476,
          -5.093062380798661,
          -0.8579610409487227,
          -2.85405182137421,
          -1.2201409281269788,
          -1.0546307930603798,
          -4.13881678576424,
          0.1848037168716846,
          -2.4675806934483804,
          -2.5958149388119502,
          0.7644647610030257,
          0.48038079423663904,
          -1.0233471264979823,
          0.9329415531797834,
          -5.845540692217167,
          -6.155629269329646,
          -6.340897433757897,
          -2.7955488306817835,
          -9.894494441183094,
          -8.167256418072899,
          -3.7032942971126106,
          -5.077323091126817,
          1.3982750882150752,
          -3.4746719491775035,
          -2.418501505020103,
          3.1504915497182573,
          -0.03494004264507586,
          2.030589934188936,
          -0.5614993591633052,
          -6.262959517428183,
          -1.3322152180235423,
          -6.053229633392,
          -2.850417448813038,
          -2.993465784056341,
          -5.29687233467634,
          -3.087410880193297,
          -5.8182466396776995,
          -4.465057637890884,
          -6.323832157523916,
          -6.1772502478629825,
          -6.800998509183687,
          -2.4282478970491383,
          -6.586318292549782,
          -2.7528625892794985,
          -4.045631408029293,
          -3.4188475170666934,
          -3.5558966196068447,
          -1.5097052745817283,
          -3.966248952370079,
          -5.178478990620459,
          -2.4986317125577577,
          -6.757555322207112,
          1.860721262237393,
          0.329635313649406,
          -4.268689696459088,
          -3.644008960020069,
          -4.662384318029044,
          -5.599305882524286,
          -2.3667509019039072,
          0.11533838768181066,
          -6.822134889685749,
          2.3786182700480243,
          -6.70379713147585,
          -1.1155196897205517,
          -4.215775942699541,
          0.03596894508303922,
          -3.1899976072108154,
          -5.645255406910063,
          -1.792034960736711,
          -5.080049008083316,
          -4.233656226923379,
          -6.010317375500134,
          -3.5722853039353226,
          -4.78419337686485,
          0.5777014095191715,
          -1.1061811298040622,
          -4.263916878371324,
          -0.011674070583034891,
          -5.457934584610745
         ],
         "xaxis": "x",
         "y": [
          0.17061533353781674,
          -3.157939739273043,
          -4.1097431868276475,
          -0.663973446854401,
          -0.013768172147255089,
          -0.36632775512062943,
          -1.1604985307521176,
          0.4845513900574751,
          -13.710666295942493,
          -0.9641344643517106,
          -6.103870365197773,
          5.181495750788374,
          -2.8192305146313856,
          6.299676442501058,
          -6.681332974779077,
          -1.7150349482375127,
          -2.6771817873761092,
          -1.6969846947536777,
          -1.808739967000853,
          5.612540100048818,
          3.3315433377124553,
          -2.9452849320217473,
          -0.7642022916665729,
          -1.9603653639172325,
          -1.5324820823343517,
          6.488827328501533,
          -3.452344356630337,
          -4.402067863550717,
          -7.504431696139247,
          3.811527139741565,
          7.988399079301074,
          -4.018541127606458,
          -2.599686912121727,
          -4.570532346957246,
          -2.2351707297212946,
          -6.166607339657855,
          -1.715980349692285,
          -1.0320089238673014,
          -4.0278131419611425,
          2.4577224662618793,
          8.554796984092283,
          5.947310258722165,
          0.0013809329268171697,
          -4.781693772749862,
          -2.412120823518069,
          4.143994197663567,
          -2.445614221637283,
          3.6727915875136463,
          -2.291825281760756,
          5.020952022289156,
          2.009285714876942,
          -4.276981784661357,
          -3.148920169837219,
          -1.0082467684449972,
          5.166438238946508,
          0.6940752625584196,
          -7.3005980896526195,
          -3.732764687795588,
          3.020558276461018,
          -0.10965202387283728,
          -1.3764075252195604,
          -0.3694859710962382,
          1.241400875086307,
          -0.6730217746309082,
          -1.4181419117197138,
          -2.205280606397041,
          -3.393569093811567,
          0.09974636087060343,
          -3.6767284528173154,
          -3.851879463255745,
          2.099379618445798,
          4.310953783246567,
          0.9861248709957136,
          -1.363334404970259,
          -2.057060034933645,
          -2.367056097208954,
          3.3832229797898212,
          -4.564361582325722,
          1.813260783771189,
          -9.578907641715656,
          -3.9292058913243793,
          -4.164054966012471,
          2.7135589274566794,
          -2.1418942706471533,
          -5.32489345067386,
          -2.5719042792663327,
          4.201174271139608,
          -6.696693597534352,
          -6.057324054965997,
          -0.20709271998273215,
          -0.5235071633030541,
          4.438753751902773,
          -0.4784232289941002,
          4.866616951765449,
          3.274118472897742,
          -0.7042457045518425,
          9.205402543714976,
          -0.7944221259452147,
          -0.6187071777498119,
          -2.9758224318749185
         ],
         "yaxis": "y"
        }
       ],
       "layout": {
        "legend": {
         "title": {
          "text": "color"
         },
         "tracegroupgap": 0
        },
        "margin": {
         "t": 60
        },
        "template": {
         "data": {
          "bar": [
           {
            "error_x": {
             "color": "#2a3f5f"
            },
            "error_y": {
             "color": "#2a3f5f"
            },
            "marker": {
             "line": {
              "color": "#E5ECF6",
              "width": 0.5
             },
             "pattern": {
              "fillmode": "overlay",
              "size": 10,
              "solidity": 0.2
             }
            },
            "type": "bar"
           }
          ],
          "barpolar": [
           {
            "marker": {
             "line": {
              "color": "#E5ECF6",
              "width": 0.5
             },
             "pattern": {
              "fillmode": "overlay",
              "size": 10,
              "solidity": 0.2
             }
            },
            "type": "barpolar"
           }
          ],
          "carpet": [
           {
            "aaxis": {
             "endlinecolor": "#2a3f5f",
             "gridcolor": "white",
             "linecolor": "white",
             "minorgridcolor": "white",
             "startlinecolor": "#2a3f5f"
            },
            "baxis": {
             "endlinecolor": "#2a3f5f",
             "gridcolor": "white",
             "linecolor": "white",
             "minorgridcolor": "white",
             "startlinecolor": "#2a3f5f"
            },
            "type": "carpet"
           }
          ],
          "choropleth": [
           {
            "colorbar": {
             "outlinewidth": 0,
             "ticks": ""
            },
            "type": "choropleth"
           }
          ],
          "contour": [
           {
            "colorbar": {
             "outlinewidth": 0,
             "ticks": ""
            },
            "colorscale": [
             [
              0,
              "#0d0887"
             ],
             [
              0.1111111111111111,
              "#46039f"
             ],
             [
              0.2222222222222222,
              "#7201a8"
             ],
             [
              0.3333333333333333,
              "#9c179e"
             ],
             [
              0.4444444444444444,
              "#bd3786"
             ],
             [
              0.5555555555555556,
              "#d8576b"
             ],
             [
              0.6666666666666666,
              "#ed7953"
             ],
             [
              0.7777777777777778,
              "#fb9f3a"
             ],
             [
              0.8888888888888888,
              "#fdca26"
             ],
             [
              1,
              "#f0f921"
             ]
            ],
            "type": "contour"
           }
          ],
          "contourcarpet": [
           {
            "colorbar": {
             "outlinewidth": 0,
             "ticks": ""
            },
            "type": "contourcarpet"
           }
          ],
          "heatmap": [
           {
            "colorbar": {
             "outlinewidth": 0,
             "ticks": ""
            },
            "colorscale": [
             [
              0,
              "#0d0887"
             ],
             [
              0.1111111111111111,
              "#46039f"
             ],
             [
              0.2222222222222222,
              "#7201a8"
             ],
             [
              0.3333333333333333,
              "#9c179e"
             ],
             [
              0.4444444444444444,
              "#bd3786"
             ],
             [
              0.5555555555555556,
              "#d8576b"
             ],
             [
              0.6666666666666666,
              "#ed7953"
             ],
             [
              0.7777777777777778,
              "#fb9f3a"
             ],
             [
              0.8888888888888888,
              "#fdca26"
             ],
             [
              1,
              "#f0f921"
             ]
            ],
            "type": "heatmap"
           }
          ],
          "heatmapgl": [
           {
            "colorbar": {
             "outlinewidth": 0,
             "ticks": ""
            },
            "colorscale": [
             [
              0,
              "#0d0887"
             ],
             [
              0.1111111111111111,
              "#46039f"
             ],
             [
              0.2222222222222222,
              "#7201a8"
             ],
             [
              0.3333333333333333,
              "#9c179e"
             ],
             [
              0.4444444444444444,
              "#bd3786"
             ],
             [
              0.5555555555555556,
              "#d8576b"
             ],
             [
              0.6666666666666666,
              "#ed7953"
             ],
             [
              0.7777777777777778,
              "#fb9f3a"
             ],
             [
              0.8888888888888888,
              "#fdca26"
             ],
             [
              1,
              "#f0f921"
             ]
            ],
            "type": "heatmapgl"
           }
          ],
          "histogram": [
           {
            "marker": {
             "pattern": {
              "fillmode": "overlay",
              "size": 10,
              "solidity": 0.2
             }
            },
            "type": "histogram"
           }
          ],
          "histogram2d": [
           {
            "colorbar": {
             "outlinewidth": 0,
             "ticks": ""
            },
            "colorscale": [
             [
              0,
              "#0d0887"
             ],
             [
              0.1111111111111111,
              "#46039f"
             ],
             [
              0.2222222222222222,
              "#7201a8"
             ],
             [
              0.3333333333333333,
              "#9c179e"
             ],
             [
              0.4444444444444444,
              "#bd3786"
             ],
             [
              0.5555555555555556,
              "#d8576b"
             ],
             [
              0.6666666666666666,
              "#ed7953"
             ],
             [
              0.7777777777777778,
              "#fb9f3a"
             ],
             [
              0.8888888888888888,
              "#fdca26"
             ],
             [
              1,
              "#f0f921"
             ]
            ],
            "type": "histogram2d"
           }
          ],
          "histogram2dcontour": [
           {
            "colorbar": {
             "outlinewidth": 0,
             "ticks": ""
            },
            "colorscale": [
             [
              0,
              "#0d0887"
             ],
             [
              0.1111111111111111,
              "#46039f"
             ],
             [
              0.2222222222222222,
              "#7201a8"
             ],
             [
              0.3333333333333333,
              "#9c179e"
             ],
             [
              0.4444444444444444,
              "#bd3786"
             ],
             [
              0.5555555555555556,
              "#d8576b"
             ],
             [
              0.6666666666666666,
              "#ed7953"
             ],
             [
              0.7777777777777778,
              "#fb9f3a"
             ],
             [
              0.8888888888888888,
              "#fdca26"
             ],
             [
              1,
              "#f0f921"
             ]
            ],
            "type": "histogram2dcontour"
           }
          ],
          "mesh3d": [
           {
            "colorbar": {
             "outlinewidth": 0,
             "ticks": ""
            },
            "type": "mesh3d"
           }
          ],
          "parcoords": [
           {
            "line": {
             "colorbar": {
              "outlinewidth": 0,
              "ticks": ""
             }
            },
            "type": "parcoords"
           }
          ],
          "pie": [
           {
            "automargin": true,
            "type": "pie"
           }
          ],
          "scatter": [
           {
            "fillpattern": {
             "fillmode": "overlay",
             "size": 10,
             "solidity": 0.2
            },
            "type": "scatter"
           }
          ],
          "scatter3d": [
           {
            "line": {
             "colorbar": {
              "outlinewidth": 0,
              "ticks": ""
             }
            },
            "marker": {
             "colorbar": {
              "outlinewidth": 0,
              "ticks": ""
             }
            },
            "type": "scatter3d"
           }
          ],
          "scattercarpet": [
           {
            "marker": {
             "colorbar": {
              "outlinewidth": 0,
              "ticks": ""
             }
            },
            "type": "scattercarpet"
           }
          ],
          "scattergeo": [
           {
            "marker": {
             "colorbar": {
              "outlinewidth": 0,
              "ticks": ""
             }
            },
            "type": "scattergeo"
           }
          ],
          "scattergl": [
           {
            "marker": {
             "colorbar": {
              "outlinewidth": 0,
              "ticks": ""
             }
            },
            "type": "scattergl"
           }
          ],
          "scattermapbox": [
           {
            "marker": {
             "colorbar": {
              "outlinewidth": 0,
              "ticks": ""
             }
            },
            "type": "scattermapbox"
           }
          ],
          "scatterpolar": [
           {
            "marker": {
             "colorbar": {
              "outlinewidth": 0,
              "ticks": ""
             }
            },
            "type": "scatterpolar"
           }
          ],
          "scatterpolargl": [
           {
            "marker": {
             "colorbar": {
              "outlinewidth": 0,
              "ticks": ""
             }
            },
            "type": "scatterpolargl"
           }
          ],
          "scatterternary": [
           {
            "marker": {
             "colorbar": {
              "outlinewidth": 0,
              "ticks": ""
             }
            },
            "type": "scatterternary"
           }
          ],
          "surface": [
           {
            "colorbar": {
             "outlinewidth": 0,
             "ticks": ""
            },
            "colorscale": [
             [
              0,
              "#0d0887"
             ],
             [
              0.1111111111111111,
              "#46039f"
             ],
             [
              0.2222222222222222,
              "#7201a8"
             ],
             [
              0.3333333333333333,
              "#9c179e"
             ],
             [
              0.4444444444444444,
              "#bd3786"
             ],
             [
              0.5555555555555556,
              "#d8576b"
             ],
             [
              0.6666666666666666,
              "#ed7953"
             ],
             [
              0.7777777777777778,
              "#fb9f3a"
             ],
             [
              0.8888888888888888,
              "#fdca26"
             ],
             [
              1,
              "#f0f921"
             ]
            ],
            "type": "surface"
           }
          ],
          "table": [
           {
            "cells": {
             "fill": {
              "color": "#EBF0F8"
             },
             "line": {
              "color": "white"
             }
            },
            "header": {
             "fill": {
              "color": "#C8D4E3"
             },
             "line": {
              "color": "white"
             }
            },
            "type": "table"
           }
          ]
         },
         "layout": {
          "annotationdefaults": {
           "arrowcolor": "#2a3f5f",
           "arrowhead": 0,
           "arrowwidth": 1
          },
          "autotypenumbers": "strict",
          "coloraxis": {
           "colorbar": {
            "outlinewidth": 0,
            "ticks": ""
           }
          },
          "colorscale": {
           "diverging": [
            [
             0,
             "#8e0152"
            ],
            [
             0.1,
             "#c51b7d"
            ],
            [
             0.2,
             "#de77ae"
            ],
            [
             0.3,
             "#f1b6da"
            ],
            [
             0.4,
             "#fde0ef"
            ],
            [
             0.5,
             "#f7f7f7"
            ],
            [
             0.6,
             "#e6f5d0"
            ],
            [
             0.7,
             "#b8e186"
            ],
            [
             0.8,
             "#7fbc41"
            ],
            [
             0.9,
             "#4d9221"
            ],
            [
             1,
             "#276419"
            ]
           ],
           "sequential": [
            [
             0,
             "#0d0887"
            ],
            [
             0.1111111111111111,
             "#46039f"
            ],
            [
             0.2222222222222222,
             "#7201a8"
            ],
            [
             0.3333333333333333,
             "#9c179e"
            ],
            [
             0.4444444444444444,
             "#bd3786"
            ],
            [
             0.5555555555555556,
             "#d8576b"
            ],
            [
             0.6666666666666666,
             "#ed7953"
            ],
            [
             0.7777777777777778,
             "#fb9f3a"
            ],
            [
             0.8888888888888888,
             "#fdca26"
            ],
            [
             1,
             "#f0f921"
            ]
           ],
           "sequentialminus": [
            [
             0,
             "#0d0887"
            ],
            [
             0.1111111111111111,
             "#46039f"
            ],
            [
             0.2222222222222222,
             "#7201a8"
            ],
            [
             0.3333333333333333,
             "#9c179e"
            ],
            [
             0.4444444444444444,
             "#bd3786"
            ],
            [
             0.5555555555555556,
             "#d8576b"
            ],
            [
             0.6666666666666666,
             "#ed7953"
            ],
            [
             0.7777777777777778,
             "#fb9f3a"
            ],
            [
             0.8888888888888888,
             "#fdca26"
            ],
            [
             1,
             "#f0f921"
            ]
           ]
          },
          "colorway": [
           "#636efa",
           "#EF553B",
           "#00cc96",
           "#ab63fa",
           "#FFA15A",
           "#19d3f3",
           "#FF6692",
           "#B6E880",
           "#FF97FF",
           "#FECB52"
          ],
          "font": {
           "color": "#2a3f5f"
          },
          "geo": {
           "bgcolor": "white",
           "lakecolor": "white",
           "landcolor": "#E5ECF6",
           "showlakes": true,
           "showland": true,
           "subunitcolor": "white"
          },
          "hoverlabel": {
           "align": "left"
          },
          "hovermode": "closest",
          "mapbox": {
           "style": "light"
          },
          "paper_bgcolor": "white",
          "plot_bgcolor": "#E5ECF6",
          "polar": {
           "angularaxis": {
            "gridcolor": "white",
            "linecolor": "white",
            "ticks": ""
           },
           "bgcolor": "#E5ECF6",
           "radialaxis": {
            "gridcolor": "white",
            "linecolor": "white",
            "ticks": ""
           }
          },
          "scene": {
           "xaxis": {
            "backgroundcolor": "#E5ECF6",
            "gridcolor": "white",
            "gridwidth": 2,
            "linecolor": "white",
            "showbackground": true,
            "ticks": "",
            "zerolinecolor": "white"
           },
           "yaxis": {
            "backgroundcolor": "#E5ECF6",
            "gridcolor": "white",
            "gridwidth": 2,
            "linecolor": "white",
            "showbackground": true,
            "ticks": "",
            "zerolinecolor": "white"
           },
           "zaxis": {
            "backgroundcolor": "#E5ECF6",
            "gridcolor": "white",
            "gridwidth": 2,
            "linecolor": "white",
            "showbackground": true,
            "ticks": "",
            "zerolinecolor": "white"
           }
          },
          "shapedefaults": {
           "line": {
            "color": "#2a3f5f"
           }
          },
          "ternary": {
           "aaxis": {
            "gridcolor": "white",
            "linecolor": "white",
            "ticks": ""
           },
           "baxis": {
            "gridcolor": "white",
            "linecolor": "white",
            "ticks": ""
           },
           "bgcolor": "#E5ECF6",
           "caxis": {
            "gridcolor": "white",
            "linecolor": "white",
            "ticks": ""
           }
          },
          "title": {
           "x": 0.05
          },
          "xaxis": {
           "automargin": true,
           "gridcolor": "white",
           "linecolor": "white",
           "ticks": "",
           "title": {
            "standoff": 15
           },
           "zerolinecolor": "white",
           "zerolinewidth": 2
          },
          "yaxis": {
           "automargin": true,
           "gridcolor": "white",
           "linecolor": "white",
           "ticks": "",
           "title": {
            "standoff": 15
           },
           "zerolinecolor": "white",
           "zerolinewidth": 2
          }
         }
        },
        "xaxis": {
         "anchor": "y",
         "domain": [
          0,
          1
         ],
         "title": {
          "text": "0"
         }
        },
        "yaxis": {
         "anchor": "x",
         "domain": [
          0,
          1
         ],
         "title": {
          "text": "1"
         }
        }
       }
      },
      "text/html": [
       "<div>                            <div id=\"5e4cfd8a-ccb6-43f2-842d-10d5c6cc1fb5\" class=\"plotly-graph-div\" style=\"height:525px; width:100%;\"></div>            <script type=\"text/javascript\">                require([\"plotly\"], function(Plotly) {                    window.PLOTLYENV=window.PLOTLYENV || {};                                    if (document.getElementById(\"5e4cfd8a-ccb6-43f2-842d-10d5c6cc1fb5\")) {                    Plotly.newPlot(                        \"5e4cfd8a-ccb6-43f2-842d-10d5c6cc1fb5\",                        [{\"hovertemplate\":\"color=nyt<br>0=%{x}<br>1=%{y}<extra></extra>\",\"legendgroup\":\"nyt\",\"marker\":{\"color\":\"rgb(127, 60, 141)\",\"symbol\":\"circle\"},\"mode\":\"markers\",\"name\":\"nyt\",\"orientation\":\"v\",\"showlegend\":true,\"x\":[0.921390425513387,0.06744873340855158,-1.4156606671491399,0.45729215577207094,-2.1045565312517907,-2.390586529523183,-6.513278719636778,-2.036228564234942,-6.599387466749445,-5.407634071528257,-9.001172242088735,3.660512028379175,-0.7761662178302121,-3.9393149623515513,-5.929856051097922,-3.287197141364237,3.3645095068379782,-0.7472049689637188,-0.8265184694904217,4.503308131573804,2.578634406585541,-10.923606920552094,-2.241478830837061,-3.7528737076984484,-4.254689045329119,-1.1407973781227718,1.9270513108767326,-2.3229556127229007,24.355955848270654,-0.5620924599715915,-4.318777811000703,-3.135054676167153,-1.9835142201784346,-0.9734315374792918,2.5605625985119618,-6.906438476912983,-3.800485676792734,-7.280647934593698,-4.505853966192151,-5.019622121223979,-3.181534726397134,0.3972192443135127,-6.428303124936813,-1.520085891732628,-1.9735547882961169,-0.9201468722721636,0.8009648660065563,-2.9997477374490806,-1.1693818552869104,-0.1307728861347893,-5.150327064228306,-0.6505679167956185,-5.996797915327768,-1.65702087658315,2.9625829932586605,1.581134367787833,-7.8884916735585575,-4.920694672343143,-1.8297634780735592,1.161550312722236,-3.5428466687305984,-0.7748870434328313,13.469580653823952,-5.667212561285643,1.4322264525263788,-7.492142074163611,-4.263422468077126,-2.2826014295959176,-4.265490674400544,-4.738930920383889,-4.7241126015123776,-0.21874985595502042,-3.6691013661429515,2.3806446045039693,-0.5872197671637863,-1.1035442729735423,-1.6783527148636714,-1.8996605087152794,-6.040874614463426,0.9087371803892802,-5.506759851219664,-0.0017898198627706564,2.8692092791194237,-6.531553314065171,-2.3928848467460875,-2.597764274917179,4.427314142715643,-2.4840181473265326,-2.294157447321513,-7.241723038379441,-4.942879994898961,-3.6820932009944496,-5.724948579131388,-0.6640426978001884,-4.7585319747364565,1.1727947939565757,-2.0959548622910416,-2.8938659806856477,-4.323706632996718,-0.14754858772565332],\"xaxis\":\"x\",\"y\":[-5.915547406798897,-6.289466921253393,-4.909773067728415,-2.470969686520378,0.0413404293306368,-1.2775155805025094,1.112967812771266,-4.457580049654397,-6.6443265061957,-3.6875566025481388,3.8837103245526783,-7.151304542605984,-8.025470523365327,1.5423620629238441,6.512363350351384,-5.358115747230806,-3.540450661196546,-6.316701677757604,2.3884873354170115,-5.529580654801478,6.049435919267553,-3.5153002548792305,-8.529745845267545,-6.788964212111264,0.4695758755722121,1.1184265818223271,-4.0209217246335545,-0.7871656461394674,22.335311153627696,0.6821358060709869,6.841167191454714,-3.1365003737485257,-3.6969604553376048,-2.299382665101573,4.098798036826357,-2.204559447352737,3.4923513130829944,-6.519516270236476,-5.324040584051205,-1.8702110324544345,-0.6412914312258996,0.6892718119440082,-2.594380224962518,-6.124002101420739,-1.2257030891209664,5.240986099513283,-0.4504700298410941,3.8253896900951267,-5.949362428601577,5.92400906152582,1.9162026208592837,-0.8393676581863558,-2.8945891851103567,-2.575883225236578,4.211258693983673,0.6211280309738688,-4.049581744572835,-1.3667636723064591,7.094354158967502,2.5349639232305203,-2.2782432160754498,-2.805703219905819,-8.001923523517677,-1.479571709180602,-4.136053643395783,0.47610100017220847,0.16416956508659666,1.8216392378198407,-3.124415024185106,-5.659151187245311,0.6276116993659949,1.815766850519695,-0.8526455573494612,-0.9437697057186247,-6.408969585012261,-3.677837011442713,1.957627070210987,-3.060018282602705,-7.7297059399784676,-6.575532732225013,-3.21447745931945,2.0938008219833333,2.864310858584056,0.2363372482265878,-5.317694510500033,0.6751147370247675,0.985051631866561,5.702792903632072,-4.169195520097662,-0.6459351339545139,8.473850263450487,2.786053710288669,-1.9367029989761735,3.0255437966217946,3.197727538394603,-5.038990758995856,4.498777117597847,-6.024048522772689,-1.0883262820752033,-0.3347907417816297],\"yaxis\":\"y\",\"type\":\"scatter\"},{\"hovertemplate\":\"color=oba<br>0=%{x}<br>1=%{y}<extra></extra>\",\"legendgroup\":\"oba\",\"marker\":{\"color\":\"rgb(17, 165, 121)\",\"symbol\":\"circle\"},\"mode\":\"markers\",\"name\":\"oba\",\"orientation\":\"v\",\"showlegend\":true,\"x\":[9.1910810647907,6.586943213502437,-1.691839188686954,3.3796021081187964,1.2278426850989141,10.753007458230856,6.397482310894463,3.212639954229887,8.259556481501772,9.091897092061485,5.033371400247098,3.899160719656515,2.388874158081065,-5.655600242547713,0.8786216951062193,4.802427891263741,6.1641167632019895,7.687130354867123,-1.5569372258696577,3.9565510443286565,3.692625113703269,3.096982537883879,-0.46913042002272964,1.04535985305973,4.455928503021279,9.807213297495386,12.074395731945666,2.897275963336605,8.051761170972906,0.3836913459896544,8.032053551641635,1.3808066818131597,5.944375231191307,9.101634351288945,4.04888575533804,6.561919369600482,0.3637074495666631,2.5105877827151004,14.407138057789783,8.95529251218812,7.364201489521693,6.285372678139642,1.6767701178902517,9.123534183155941,5.255664707092312,5.081962183718646,8.786530133857132,3.9952223068837727,4.951022754232779,1.3944253375696514,7.402710218468485,3.3250397976073547,11.011828299595273,13.987472798415794,6.128048767384403,5.828398850764746,9.819614194183647,6.541450171826289,1.3430680280006566,4.191191672657923,-1.3497282760770835,6.994981374347399,5.019648374417402,5.518223288030559,13.413346499788611,-8.844059590156665,3.999520447078091,7.6884848851501,3.71555978204344,5.086589127038653,0.12014901298294635,-0.2688316841698396,4.430995286309625,6.6523434705392015,3.1801779238172236,4.910223464452475,-0.5632635529587608,13.558505547575937,8.227100651673258,9.268718871119788,0.5392607400021302,11.68277633706749,2.508180040497321,1.8878786469822832,9.899879218831167,2.172598772195452,1.4871377740284777,0.7538357888440749,-0.8055858005273079,12.505027864320379,-2.4813865682481206,-15.83102429817737,12.636678290771377,14.550565395939751,3.7327409168743175,11.409218148471169,6.509403664470135,-0.3937168882389568,6.731527774727218,8.956011165511933],\"xaxis\":\"x\",\"y\":[-3.4462966481154083,1.8769564107267072,6.806192973507598,2.161937099436125,1.8024643558892435,6.288996601121162,10.984642258712544,-5.330897852034794,0.8314380203367171,-4.39203959558618,5.090822144551306,2.5346960911214738,1.6665113728417347,4.5866514093725685,1.3732793618206163,0.030478130153230854,2.068147127423797,-3.0375186058384527,3.2757081580863447,-0.1881649956058469,1.146699883628905,2.9284386983149475,3.4496237855545937,3.96575518233423,3.068713664436623,-2.130826386476245,-9.787380409309208,5.962939447660743,-0.07189994621748633,3.6184910641152976,4.303512724403263,2.0413948209807344,-1.279234150938127,2.0886710170370204,-1.6978139850226885,1.8408079297675057,5.593873814567063,0.8805748485185325,-5.7256472524030535,-4.089578331618471,5.082112663258919,5.969820630688725,5.019534281544454,0.9057368923358508,-0.34908608479973485,6.48633571201968,1.223600674288899,2.3587052941290603,4.740204037908054,8.95169502729053,-1.3844857206946182,-0.4505927555049687,-1.2811906369247634,-3.0361274141523813,-5.387597567328762,-0.9812445754146746,0.47386416398776604,-0.05200107357838376,3.338048083586545,-0.7656402199196763,4.457851895641242,1.9023734444902138,5.452900909128755,10.442761706940574,1.5730399730584805,-0.26035598781870134,3.686574166805193,-0.7370664431154583,1.7585627371809291,1.5282326582035504,1.7165824435501351,0.17818180487083743,1.1304280062690149,-4.726649976559758,7.310669182092948,-3.9199654575340084,14.19081119425051,-5.09299165247895,0.5217888008487837,1.9947579499233121,4.879097698291127,-0.08071673000683857,4.316409942134294,0.8064079595337983,-2.8972569847708285,-0.18403410378872678,5.646915359162196,10.06955247039317,4.548737588613629,-0.052203955557352896,9.864998684806013,3.107997052310835,-0.47523499736844876,-2.27035580171279,6.114364420789051,1.1097702949177557,1.0623372173073509,2.663650522743727,6.4056290473430035,-0.7663193171433175],\"yaxis\":\"y\",\"type\":\"scatter\"},{\"hovertemplate\":\"color=wsj<br>0=%{x}<br>1=%{y}<extra></extra>\",\"legendgroup\":\"wsj\",\"marker\":{\"color\":\"rgb(57, 105, 172)\",\"symbol\":\"circle\"},\"mode\":\"markers\",\"name\":\"wsj\",\"orientation\":\"v\",\"showlegend\":true,\"x\":[-3.3560815735264646,2.553554776570685,0.13424672166180263,1.3335187122293777,-3.200912849926753,-7.68881011902688,-5.084500687284509,-2.1206610167274116,-14.540671533937278,-7.014494157767386,0.4851139777044484,-5.160993300352571,-4.666796838194007,-3.8540416637815698,3.3276178448222167,0.32561466453785004,0.8095946199375373,-1.3772246718268093,1.7582104388937472,-7.927416551877165,1.9407639097993712,0.30105513509944476,-5.093062380798661,-0.8579610409487227,-2.85405182137421,-1.2201409281269788,-1.0546307930603798,-4.13881678576424,0.1848037168716846,-2.4675806934483804,-2.5958149388119502,0.7644647610030257,0.48038079423663904,-1.0233471264979823,0.9329415531797834,-5.845540692217167,-6.155629269329646,-6.340897433757897,-2.7955488306817835,-9.894494441183094,-8.167256418072899,-3.7032942971126106,-5.077323091126817,1.3982750882150752,-3.4746719491775035,-2.418501505020103,3.1504915497182573,-0.03494004264507586,2.030589934188936,-0.5614993591633052,-6.262959517428183,-1.3322152180235423,-6.053229633392,-2.850417448813038,-2.993465784056341,-5.29687233467634,-3.087410880193297,-5.8182466396776995,-4.465057637890884,-6.323832157523916,-6.1772502478629825,-6.800998509183687,-2.4282478970491383,-6.586318292549782,-2.7528625892794985,-4.045631408029293,-3.4188475170666934,-3.5558966196068447,-1.5097052745817283,-3.966248952370079,-5.178478990620459,-2.4986317125577577,-6.757555322207112,1.860721262237393,0.329635313649406,-4.268689696459088,-3.644008960020069,-4.662384318029044,-5.599305882524286,-2.3667509019039072,0.11533838768181066,-6.822134889685749,2.3786182700480243,-6.70379713147585,-1.1155196897205517,-4.215775942699541,0.03596894508303922,-3.1899976072108154,-5.645255406910063,-1.792034960736711,-5.080049008083316,-4.233656226923379,-6.010317375500134,-3.5722853039353226,-4.78419337686485,0.5777014095191715,-1.1061811298040622,-4.263916878371324,-0.011674070583034891,-5.457934584610745],\"xaxis\":\"x\",\"y\":[0.17061533353781674,-3.157939739273043,-4.1097431868276475,-0.663973446854401,-0.013768172147255089,-0.36632775512062943,-1.1604985307521176,0.4845513900574751,-13.710666295942493,-0.9641344643517106,-6.103870365197773,5.181495750788374,-2.8192305146313856,6.299676442501058,-6.681332974779077,-1.7150349482375127,-2.6771817873761092,-1.6969846947536777,-1.808739967000853,5.612540100048818,3.3315433377124553,-2.9452849320217473,-0.7642022916665729,-1.9603653639172325,-1.5324820823343517,6.488827328501533,-3.452344356630337,-4.402067863550717,-7.504431696139247,3.811527139741565,7.988399079301074,-4.018541127606458,-2.599686912121727,-4.570532346957246,-2.2351707297212946,-6.166607339657855,-1.715980349692285,-1.0320089238673014,-4.0278131419611425,2.4577224662618793,8.554796984092283,5.947310258722165,0.0013809329268171697,-4.781693772749862,-2.412120823518069,4.143994197663567,-2.445614221637283,3.6727915875136463,-2.291825281760756,5.020952022289156,2.009285714876942,-4.276981784661357,-3.148920169837219,-1.0082467684449972,5.166438238946508,0.6940752625584196,-7.3005980896526195,-3.732764687795588,3.020558276461018,-0.10965202387283728,-1.3764075252195604,-0.3694859710962382,1.241400875086307,-0.6730217746309082,-1.4181419117197138,-2.205280606397041,-3.393569093811567,0.09974636087060343,-3.6767284528173154,-3.851879463255745,2.099379618445798,4.310953783246567,0.9861248709957136,-1.363334404970259,-2.057060034933645,-2.367056097208954,3.3832229797898212,-4.564361582325722,1.813260783771189,-9.578907641715656,-3.9292058913243793,-4.164054966012471,2.7135589274566794,-2.1418942706471533,-5.32489345067386,-2.5719042792663327,4.201174271139608,-6.696693597534352,-6.057324054965997,-0.20709271998273215,-0.5235071633030541,4.438753751902773,-0.4784232289941002,4.866616951765449,3.274118472897742,-0.7042457045518425,9.205402543714976,-0.7944221259452147,-0.6187071777498119,-2.9758224318749185],\"yaxis\":\"y\",\"type\":\"scatter\"}],                        {\"template\":{\"data\":{\"histogram2dcontour\":[{\"type\":\"histogram2dcontour\",\"colorbar\":{\"outlinewidth\":0,\"ticks\":\"\"},\"colorscale\":[[0.0,\"#0d0887\"],[0.1111111111111111,\"#46039f\"],[0.2222222222222222,\"#7201a8\"],[0.3333333333333333,\"#9c179e\"],[0.4444444444444444,\"#bd3786\"],[0.5555555555555556,\"#d8576b\"],[0.6666666666666666,\"#ed7953\"],[0.7777777777777778,\"#fb9f3a\"],[0.8888888888888888,\"#fdca26\"],[1.0,\"#f0f921\"]]}],\"choropleth\":[{\"type\":\"choropleth\",\"colorbar\":{\"outlinewidth\":0,\"ticks\":\"\"}}],\"histogram2d\":[{\"type\":\"histogram2d\",\"colorbar\":{\"outlinewidth\":0,\"ticks\":\"\"},\"colorscale\":[[0.0,\"#0d0887\"],[0.1111111111111111,\"#46039f\"],[0.2222222222222222,\"#7201a8\"],[0.3333333333333333,\"#9c179e\"],[0.4444444444444444,\"#bd3786\"],[0.5555555555555556,\"#d8576b\"],[0.6666666666666666,\"#ed7953\"],[0.7777777777777778,\"#fb9f3a\"],[0.8888888888888888,\"#fdca26\"],[1.0,\"#f0f921\"]]}],\"heatmap\":[{\"type\":\"heatmap\",\"colorbar\":{\"outlinewidth\":0,\"ticks\":\"\"},\"colorscale\":[[0.0,\"#0d0887\"],[0.1111111111111111,\"#46039f\"],[0.2222222222222222,\"#7201a8\"],[0.3333333333333333,\"#9c179e\"],[0.4444444444444444,\"#bd3786\"],[0.5555555555555556,\"#d8576b\"],[0.6666666666666666,\"#ed7953\"],[0.7777777777777778,\"#fb9f3a\"],[0.8888888888888888,\"#fdca26\"],[1.0,\"#f0f921\"]]}],\"heatmapgl\":[{\"type\":\"heatmapgl\",\"colorbar\":{\"outlinewidth\":0,\"ticks\":\"\"},\"colorscale\":[[0.0,\"#0d0887\"],[0.1111111111111111,\"#46039f\"],[0.2222222222222222,\"#7201a8\"],[0.3333333333333333,\"#9c179e\"],[0.4444444444444444,\"#bd3786\"],[0.5555555555555556,\"#d8576b\"],[0.6666666666666666,\"#ed7953\"],[0.7777777777777778,\"#fb9f3a\"],[0.8888888888888888,\"#fdca26\"],[1.0,\"#f0f921\"]]}],\"contourcarpet\":[{\"type\":\"contourcarpet\",\"colorbar\":{\"outlinewidth\":0,\"ticks\":\"\"}}],\"contour\":[{\"type\":\"contour\",\"colorbar\":{\"outlinewidth\":0,\"ticks\":\"\"},\"colorscale\":[[0.0,\"#0d0887\"],[0.1111111111111111,\"#46039f\"],[0.2222222222222222,\"#7201a8\"],[0.3333333333333333,\"#9c179e\"],[0.4444444444444444,\"#bd3786\"],[0.5555555555555556,\"#d8576b\"],[0.6666666666666666,\"#ed7953\"],[0.7777777777777778,\"#fb9f3a\"],[0.8888888888888888,\"#fdca26\"],[1.0,\"#f0f921\"]]}],\"surface\":[{\"type\":\"surface\",\"colorbar\":{\"outlinewidth\":0,\"ticks\":\"\"},\"colorscale\":[[0.0,\"#0d0887\"],[0.1111111111111111,\"#46039f\"],[0.2222222222222222,\"#7201a8\"],[0.3333333333333333,\"#9c179e\"],[0.4444444444444444,\"#bd3786\"],[0.5555555555555556,\"#d8576b\"],[0.6666666666666666,\"#ed7953\"],[0.7777777777777778,\"#fb9f3a\"],[0.8888888888888888,\"#fdca26\"],[1.0,\"#f0f921\"]]}],\"mesh3d\":[{\"type\":\"mesh3d\",\"colorbar\":{\"outlinewidth\":0,\"ticks\":\"\"}}],\"scatter\":[{\"fillpattern\":{\"fillmode\":\"overlay\",\"size\":10,\"solidity\":0.2},\"type\":\"scatter\"}],\"parcoords\":[{\"type\":\"parcoords\",\"line\":{\"colorbar\":{\"outlinewidth\":0,\"ticks\":\"\"}}}],\"scatterpolargl\":[{\"type\":\"scatterpolargl\",\"marker\":{\"colorbar\":{\"outlinewidth\":0,\"ticks\":\"\"}}}],\"bar\":[{\"error_x\":{\"color\":\"#2a3f5f\"},\"error_y\":{\"color\":\"#2a3f5f\"},\"marker\":{\"line\":{\"color\":\"#E5ECF6\",\"width\":0.5},\"pattern\":{\"fillmode\":\"overlay\",\"size\":10,\"solidity\":0.2}},\"type\":\"bar\"}],\"scattergeo\":[{\"type\":\"scattergeo\",\"marker\":{\"colorbar\":{\"outlinewidth\":0,\"ticks\":\"\"}}}],\"scatterpolar\":[{\"type\":\"scatterpolar\",\"marker\":{\"colorbar\":{\"outlinewidth\":0,\"ticks\":\"\"}}}],\"histogram\":[{\"marker\":{\"pattern\":{\"fillmode\":\"overlay\",\"size\":10,\"solidity\":0.2}},\"type\":\"histogram\"}],\"scattergl\":[{\"type\":\"scattergl\",\"marker\":{\"colorbar\":{\"outlinewidth\":0,\"ticks\":\"\"}}}],\"scatter3d\":[{\"type\":\"scatter3d\",\"line\":{\"colorbar\":{\"outlinewidth\":0,\"ticks\":\"\"}},\"marker\":{\"colorbar\":{\"outlinewidth\":0,\"ticks\":\"\"}}}],\"scattermapbox\":[{\"type\":\"scattermapbox\",\"marker\":{\"colorbar\":{\"outlinewidth\":0,\"ticks\":\"\"}}}],\"scatterternary\":[{\"type\":\"scatterternary\",\"marker\":{\"colorbar\":{\"outlinewidth\":0,\"ticks\":\"\"}}}],\"scattercarpet\":[{\"type\":\"scattercarpet\",\"marker\":{\"colorbar\":{\"outlinewidth\":0,\"ticks\":\"\"}}}],\"carpet\":[{\"aaxis\":{\"endlinecolor\":\"#2a3f5f\",\"gridcolor\":\"white\",\"linecolor\":\"white\",\"minorgridcolor\":\"white\",\"startlinecolor\":\"#2a3f5f\"},\"baxis\":{\"endlinecolor\":\"#2a3f5f\",\"gridcolor\":\"white\",\"linecolor\":\"white\",\"minorgridcolor\":\"white\",\"startlinecolor\":\"#2a3f5f\"},\"type\":\"carpet\"}],\"table\":[{\"cells\":{\"fill\":{\"color\":\"#EBF0F8\"},\"line\":{\"color\":\"white\"}},\"header\":{\"fill\":{\"color\":\"#C8D4E3\"},\"line\":{\"color\":\"white\"}},\"type\":\"table\"}],\"barpolar\":[{\"marker\":{\"line\":{\"color\":\"#E5ECF6\",\"width\":0.5},\"pattern\":{\"fillmode\":\"overlay\",\"size\":10,\"solidity\":0.2}},\"type\":\"barpolar\"}],\"pie\":[{\"automargin\":true,\"type\":\"pie\"}]},\"layout\":{\"autotypenumbers\":\"strict\",\"colorway\":[\"#636efa\",\"#EF553B\",\"#00cc96\",\"#ab63fa\",\"#FFA15A\",\"#19d3f3\",\"#FF6692\",\"#B6E880\",\"#FF97FF\",\"#FECB52\"],\"font\":{\"color\":\"#2a3f5f\"},\"hovermode\":\"closest\",\"hoverlabel\":{\"align\":\"left\"},\"paper_bgcolor\":\"white\",\"plot_bgcolor\":\"#E5ECF6\",\"polar\":{\"bgcolor\":\"#E5ECF6\",\"angularaxis\":{\"gridcolor\":\"white\",\"linecolor\":\"white\",\"ticks\":\"\"},\"radialaxis\":{\"gridcolor\":\"white\",\"linecolor\":\"white\",\"ticks\":\"\"}},\"ternary\":{\"bgcolor\":\"#E5ECF6\",\"aaxis\":{\"gridcolor\":\"white\",\"linecolor\":\"white\",\"ticks\":\"\"},\"baxis\":{\"gridcolor\":\"white\",\"linecolor\":\"white\",\"ticks\":\"\"},\"caxis\":{\"gridcolor\":\"white\",\"linecolor\":\"white\",\"ticks\":\"\"}},\"coloraxis\":{\"colorbar\":{\"outlinewidth\":0,\"ticks\":\"\"}},\"colorscale\":{\"sequential\":[[0.0,\"#0d0887\"],[0.1111111111111111,\"#46039f\"],[0.2222222222222222,\"#7201a8\"],[0.3333333333333333,\"#9c179e\"],[0.4444444444444444,\"#bd3786\"],[0.5555555555555556,\"#d8576b\"],[0.6666666666666666,\"#ed7953\"],[0.7777777777777778,\"#fb9f3a\"],[0.8888888888888888,\"#fdca26\"],[1.0,\"#f0f921\"]],\"sequentialminus\":[[0.0,\"#0d0887\"],[0.1111111111111111,\"#46039f\"],[0.2222222222222222,\"#7201a8\"],[0.3333333333333333,\"#9c179e\"],[0.4444444444444444,\"#bd3786\"],[0.5555555555555556,\"#d8576b\"],[0.6666666666666666,\"#ed7953\"],[0.7777777777777778,\"#fb9f3a\"],[0.8888888888888888,\"#fdca26\"],[1.0,\"#f0f921\"]],\"diverging\":[[0,\"#8e0152\"],[0.1,\"#c51b7d\"],[0.2,\"#de77ae\"],[0.3,\"#f1b6da\"],[0.4,\"#fde0ef\"],[0.5,\"#f7f7f7\"],[0.6,\"#e6f5d0\"],[0.7,\"#b8e186\"],[0.8,\"#7fbc41\"],[0.9,\"#4d9221\"],[1,\"#276419\"]]},\"xaxis\":{\"gridcolor\":\"white\",\"linecolor\":\"white\",\"ticks\":\"\",\"title\":{\"standoff\":15},\"zerolinecolor\":\"white\",\"automargin\":true,\"zerolinewidth\":2},\"yaxis\":{\"gridcolor\":\"white\",\"linecolor\":\"white\",\"ticks\":\"\",\"title\":{\"standoff\":15},\"zerolinecolor\":\"white\",\"automargin\":true,\"zerolinewidth\":2},\"scene\":{\"xaxis\":{\"backgroundcolor\":\"#E5ECF6\",\"gridcolor\":\"white\",\"linecolor\":\"white\",\"showbackground\":true,\"ticks\":\"\",\"zerolinecolor\":\"white\",\"gridwidth\":2},\"yaxis\":{\"backgroundcolor\":\"#E5ECF6\",\"gridcolor\":\"white\",\"linecolor\":\"white\",\"showbackground\":true,\"ticks\":\"\",\"zerolinecolor\":\"white\",\"gridwidth\":2},\"zaxis\":{\"backgroundcolor\":\"#E5ECF6\",\"gridcolor\":\"white\",\"linecolor\":\"white\",\"showbackground\":true,\"ticks\":\"\",\"zerolinecolor\":\"white\",\"gridwidth\":2}},\"shapedefaults\":{\"line\":{\"color\":\"#2a3f5f\"}},\"annotationdefaults\":{\"arrowcolor\":\"#2a3f5f\",\"arrowhead\":0,\"arrowwidth\":1},\"geo\":{\"bgcolor\":\"white\",\"landcolor\":\"#E5ECF6\",\"subunitcolor\":\"white\",\"showland\":true,\"showlakes\":true,\"lakecolor\":\"white\"},\"title\":{\"x\":0.05},\"mapbox\":{\"style\":\"light\"}}},\"xaxis\":{\"anchor\":\"y\",\"domain\":[0.0,1.0],\"title\":{\"text\":\"0\"}},\"yaxis\":{\"anchor\":\"x\",\"domain\":[0.0,1.0],\"title\":{\"text\":\"1\"}},\"legend\":{\"title\":{\"text\":\"color\"},\"tracegroupgap\":0},\"margin\":{\"t\":60}},                        {\"responsive\": true}                    ).then(function(){\n",
       "                            \n",
       "var gd = document.getElementById('5e4cfd8a-ccb6-43f2-842d-10d5c6cc1fb5');\n",
       "var x = new MutationObserver(function (mutations, observer) {{\n",
       "        var display = window.getComputedStyle(gd).display;\n",
       "        if (!display || display === 'none') {{\n",
       "            console.log([gd, 'removed!']);\n",
       "            Plotly.purge(gd);\n",
       "            observer.disconnect();\n",
       "        }}\n",
       "}});\n",
       "\n",
       "// Listen for the removal of the full notebook cells\n",
       "var notebookContainer = gd.closest('#notebook-container');\n",
       "if (notebookContainer) {{\n",
       "    x.observe(notebookContainer, {childList: true});\n",
       "}}\n",
       "\n",
       "// Listen for the clearing of the current output cell\n",
       "var outputEl = gd.closest('.output');\n",
       "if (outputEl) {{\n",
       "    x.observe(outputEl, {childList: true});\n",
       "}}\n",
       "\n",
       "                        })                };                });            </script>        </div>"
      ]
     },
     "metadata": {},
     "output_type": "display_data"
    }
   ],
   "source": [
    "# ok then, how about MDS?\n",
    "# https://scikit-learn.org/stable/modules/manifold.html#multidimensional-scaling\n",
    "# Data needs to be a similarity or disimilarity matrix ... maybe another day\n",
    "md_scaling = manifold.MDS(\n",
    "    n_components=2,\n",
    "    max_iter=50,\n",
    "    n_init=4,\n",
    "    random_state=0\n",
    ")\n",
    "S_scaling = md_scaling.fit_transform(scaled_data)\n",
    "\n",
    "fig = px.scatter(S_scaling, \n",
    "                 x=0, \n",
    "                 y=1, \n",
    "                 color=df_tidy['source'],\n",
    "                 color_discrete_sequence=px.colors.qualitative.Bold)\n",
    "fig.show()"
   ]
  },
  {
   "cell_type": "code",
   "execution_count": null,
   "id": "c01fff43",
   "metadata": {},
   "outputs": [],
   "source": []
  }
 ],
 "metadata": {
  "kernelspec": {
   "display_name": "Python 3 (ipykernel)",
   "language": "python",
   "name": "python3"
  },
  "language_info": {
   "codemirror_mode": {
    "name": "ipython",
    "version": 3
   },
   "file_extension": ".py",
   "mimetype": "text/x-python",
   "name": "python",
   "nbconvert_exporter": "python",
   "pygments_lexer": "ipython3",
   "version": "3.10.6"
  }
 },
 "nbformat": 4,
 "nbformat_minor": 5
}
