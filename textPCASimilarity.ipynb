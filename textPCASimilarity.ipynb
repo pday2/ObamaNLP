{
 "cells": [
  {
   "cell_type": "code",
   "execution_count": 2,
   "id": "f40823ed",
   "metadata": {},
   "outputs": [],
   "source": [
    "import pandas as pd\n",
    "import numpy as np\n",
    "import unicodedata\n",
    "import matplotlib.pyplot as plt\n",
    "import plotly.express as px\n",
    "import os # to check if directory exists and create it if it doesn't\n",
    "from datetime import datetime # to parse speech date\n",
    "import spacy\n",
    "import en_core_web_md\n",
    "import csv\n",
    "import nltk\n",
    "import re\n",
    "from sklearn.decomposition import PCA\n",
    "from sklearn.preprocessing import StandardScaler\n",
    "from sklearn import manifold # for t-sne"
   ]
  },
  {
   "cell_type": "code",
   "execution_count": 3,
   "id": "c0e6c31c",
   "metadata": {},
   "outputs": [
    {
     "data": {
      "text/plain": [
       "(3000, 4)"
      ]
     },
     "execution_count": 3,
     "metadata": {},
     "output_type": "execute_result"
    }
   ],
   "source": [
    "# Load the two data sets needed\n",
    "# string encodings to try utf_8, iso8859_15\n",
    "facetPlotData = pd.read_csv('facetPlotData.csv')\n",
    "df = pd.read_csv('fullEmotionData.csv', encoding='utf_8') # apostrophes aren't being read correctly\n",
    "# Pandas reads date as string, cast to datetime object\n",
    "df['date'] = pd.to_datetime(df['date'], format='%Y-%m-%d')\n",
    "facetPlotData['date'] = pd.to_datetime(facetPlotData['date'], format='%Y-%m-%d')\n",
    "facetPlotData.shape # Should be (3000, 4) "
   ]
  },
  {
   "cell_type": "code",
   "execution_count": 4,
   "id": "cf0d29ea",
   "metadata": {},
   "outputs": [],
   "source": [
    "sources = ['text_oba', 'text_nyt', 'text_wsj']\n",
    "for source in sources:\n",
    "    tmp1 = [re.sub(r\"[^\\w\\s^']\", \" \", text).lower() for text in df[source]]\n",
    "    df[source] = [re.sub(' +', ' ', text).replace('\\n', '').replace(\"â \" , \"'\") for text in tmp1]"
   ]
  },
  {
   "cell_type": "code",
   "execution_count": 5,
   "id": "a356abd7",
   "metadata": {},
   "outputs": [],
   "source": [
    "# Read in new articles from OtherSources directory\n",
    "# Load up the files\n",
    "path = './OtherSources/' \n",
    "list_of_files = []\n",
    "\n",
    "# Get file names in target directory\n",
    "for root, dirs, files in os.walk(path):\n",
    "    for file in files:\n",
    "        if file.endswith('.txt'):\n",
    "            list_of_files.append(os.path.join(root,file))\n",
    "\n",
    "# Open files and read in text\n",
    "speeches = []\n",
    "for file in list_of_files:\n",
    "    with open(file, encoding='utf-8') as f:\n",
    "        text = f.read()\n",
    "    f.close()\n",
    "    speeches.append(text)\n",
    "\n",
    "#clean out goofy unicode  space characters \n",
    "speeches = [unicodedata.normalize(\"NFKD\", speech) for speech in speeches]\n",
    "\n",
    "info = [(file.split('_')[0][15:]+'.txt', file.split('_')[1][:-4]) for file in list_of_files]\n",
    "\n",
    "# speeches[i] has the article text\n",
    "# info[i][0] has the filename to match row of original Obama speech\n",
    "# info[i][1] has the source name for naming the column\n",
    "# Some new source/column names are: FoxNews, InfoWars, NationalReview, Intercept\n",
    "\n",
    "for i in range(len(info)):\n",
    "    df[info[i][1]] = None\n",
    "\n",
    "for i in range(len(list_of_files)):\n",
    "    df.loc[df['file'] == info[i][0], [info[i][1]]] = speeches[i]"
   ]
  },
  {
   "cell_type": "markdown",
   "id": "a9706724",
   "metadata": {},
   "source": [
    "<A HREf=\"https://arxiv.org/abs/1905.05583\">Paper with some stuff on dealing with long text</A> This doesn't seem to be an issue with spacy encodings"
   ]
  },
  {
   "cell_type": "code",
   "execution_count": 6,
   "id": "7aa03ead",
   "metadata": {},
   "outputs": [],
   "source": [
    "# Clean up Obama speeches and what the heck, let's do NYT and WSJ too, just to be sure no more unicode garbage\n",
    "df['text_oba'] = [unicodedata.normalize(\"NFKD\", speech) for speech in df['text_oba']]\n",
    "df['text_nyt'] = [unicodedata.normalize(\"NFKD\", speech) for speech in df['text_nyt']]\n",
    "df['text_wsj'] = [unicodedata.normalize(\"NFKD\", speech) for speech in df['text_wsj']]"
   ]
  },
  {
   "cell_type": "code",
   "execution_count": 91,
   "id": "61a759cf",
   "metadata": {},
   "outputs": [],
   "source": [
    "nlp = spacy.load('en_core_web_md')"
   ]
  },
  {
   "cell_type": "code",
   "execution_count": 92,
   "id": "4a292843",
   "metadata": {},
   "outputs": [
    {
     "name": "stderr",
     "output_type": "stream",
     "text": [
      "/tmp/ipykernel_48261/3038641089.py:15: SettingWithCopyWarning:\n",
      "\n",
      "\n",
      "A value is trying to be set on a copy of a slice from a DataFrame\n",
      "\n",
      "See the caveats in the documentation: https://pandas.pydata.org/pandas-docs/stable/user_guide/indexing.html#returning-a-view-versus-a-copy\n",
      "\n"
     ]
    }
   ],
   "source": [
    "# This takes a little bit to calculate the encodings... maybe a minute\n",
    "# Encode all the texts and save to source specific columns\n",
    "sources = ['text_oba', 'text_nyt', 'text_wsj', 'FoxNews', 'InfoWars', 'NationalReview', 'Intercept']\n",
    "enc_col = ['enc_oba', 'enc_nyt', 'enc_wsj', 'enc_fn', 'enc_iw', 'enc_nr', 'enc_int']\n",
    "\n",
    "# initialize the new encoding columns\n",
    "for col in enc_col:\n",
    "    df[col]=None\n",
    "\n",
    "for i in range(len(df)):\n",
    "    for j in range(len(sources)):\n",
    "        #print(i, sources[j])\n",
    "        if df[sources[j]][i] != None:\n",
    "            # dfmi.loc[:, ('one', 'second')]\n",
    "            df[enc_col[j]][i] = list(nlp(df[sources[j]][i]).vector)"
   ]
  },
  {
   "cell_type": "code",
   "execution_count": 93,
   "id": "78441924",
   "metadata": {},
   "outputs": [],
   "source": [
    "pcaBiplotData = pd.DataFrame(columns=['date','source'])"
   ]
  },
  {
   "cell_type": "code",
   "execution_count": 94,
   "id": "732fa2b2",
   "metadata": {},
   "outputs": [
    {
     "name": "stderr",
     "output_type": "stream",
     "text": [
      "/tmp/ipykernel_48261/1484095954.py:11: PerformanceWarning:\n",
      "\n",
      "DataFrame is highly fragmented.  This is usually the result of calling `frame.insert` many times, which has poor performance.  Consider joining all columns at once using pd.concat(axis=1) instead. To get a de-fragmented frame, use `newframe = frame.copy()`\n",
      "\n",
      "/tmp/ipykernel_48261/1484095954.py:11: PerformanceWarning:\n",
      "\n",
      "DataFrame is highly fragmented.  This is usually the result of calling `frame.insert` many times, which has poor performance.  Consider joining all columns at once using pd.concat(axis=1) instead. To get a de-fragmented frame, use `newframe = frame.copy()`\n",
      "\n",
      "/tmp/ipykernel_48261/1484095954.py:11: PerformanceWarning:\n",
      "\n",
      "DataFrame is highly fragmented.  This is usually the result of calling `frame.insert` many times, which has poor performance.  Consider joining all columns at once using pd.concat(axis=1) instead. To get a de-fragmented frame, use `newframe = frame.copy()`\n",
      "\n",
      "/tmp/ipykernel_48261/1484095954.py:11: PerformanceWarning:\n",
      "\n",
      "DataFrame is highly fragmented.  This is usually the result of calling `frame.insert` many times, which has poor performance.  Consider joining all columns at once using pd.concat(axis=1) instead. To get a de-fragmented frame, use `newframe = frame.copy()`\n",
      "\n",
      "/tmp/ipykernel_48261/1484095954.py:11: PerformanceWarning:\n",
      "\n",
      "DataFrame is highly fragmented.  This is usually the result of calling `frame.insert` many times, which has poor performance.  Consider joining all columns at once using pd.concat(axis=1) instead. To get a de-fragmented frame, use `newframe = frame.copy()`\n",
      "\n",
      "/tmp/ipykernel_48261/1484095954.py:11: PerformanceWarning:\n",
      "\n",
      "DataFrame is highly fragmented.  This is usually the result of calling `frame.insert` many times, which has poor performance.  Consider joining all columns at once using pd.concat(axis=1) instead. To get a de-fragmented frame, use `newframe = frame.copy()`\n",
      "\n",
      "/tmp/ipykernel_48261/1484095954.py:11: PerformanceWarning:\n",
      "\n",
      "DataFrame is highly fragmented.  This is usually the result of calling `frame.insert` many times, which has poor performance.  Consider joining all columns at once using pd.concat(axis=1) instead. To get a de-fragmented frame, use `newframe = frame.copy()`\n",
      "\n",
      "/tmp/ipykernel_48261/1484095954.py:11: PerformanceWarning:\n",
      "\n",
      "DataFrame is highly fragmented.  This is usually the result of calling `frame.insert` many times, which has poor performance.  Consider joining all columns at once using pd.concat(axis=1) instead. To get a de-fragmented frame, use `newframe = frame.copy()`\n",
      "\n",
      "/tmp/ipykernel_48261/1484095954.py:11: PerformanceWarning:\n",
      "\n",
      "DataFrame is highly fragmented.  This is usually the result of calling `frame.insert` many times, which has poor performance.  Consider joining all columns at once using pd.concat(axis=1) instead. To get a de-fragmented frame, use `newframe = frame.copy()`\n",
      "\n",
      "/tmp/ipykernel_48261/1484095954.py:11: PerformanceWarning:\n",
      "\n",
      "DataFrame is highly fragmented.  This is usually the result of calling `frame.insert` many times, which has poor performance.  Consider joining all columns at once using pd.concat(axis=1) instead. To get a de-fragmented frame, use `newframe = frame.copy()`\n",
      "\n",
      "/tmp/ipykernel_48261/1484095954.py:11: PerformanceWarning:\n",
      "\n",
      "DataFrame is highly fragmented.  This is usually the result of calling `frame.insert` many times, which has poor performance.  Consider joining all columns at once using pd.concat(axis=1) instead. To get a de-fragmented frame, use `newframe = frame.copy()`\n",
      "\n",
      "/tmp/ipykernel_48261/1484095954.py:11: PerformanceWarning:\n",
      "\n",
      "DataFrame is highly fragmented.  This is usually the result of calling `frame.insert` many times, which has poor performance.  Consider joining all columns at once using pd.concat(axis=1) instead. To get a de-fragmented frame, use `newframe = frame.copy()`\n",
      "\n",
      "/tmp/ipykernel_48261/1484095954.py:11: PerformanceWarning:\n",
      "\n",
      "DataFrame is highly fragmented.  This is usually the result of calling `frame.insert` many times, which has poor performance.  Consider joining all columns at once using pd.concat(axis=1) instead. To get a de-fragmented frame, use `newframe = frame.copy()`\n",
      "\n",
      "/tmp/ipykernel_48261/1484095954.py:11: PerformanceWarning:\n",
      "\n",
      "DataFrame is highly fragmented.  This is usually the result of calling `frame.insert` many times, which has poor performance.  Consider joining all columns at once using pd.concat(axis=1) instead. To get a de-fragmented frame, use `newframe = frame.copy()`\n",
      "\n",
      "/tmp/ipykernel_48261/1484095954.py:11: PerformanceWarning:\n",
      "\n",
      "DataFrame is highly fragmented.  This is usually the result of calling `frame.insert` many times, which has poor performance.  Consider joining all columns at once using pd.concat(axis=1) instead. To get a de-fragmented frame, use `newframe = frame.copy()`\n",
      "\n",
      "/tmp/ipykernel_48261/1484095954.py:11: PerformanceWarning:\n",
      "\n",
      "DataFrame is highly fragmented.  This is usually the result of calling `frame.insert` many times, which has poor performance.  Consider joining all columns at once using pd.concat(axis=1) instead. To get a de-fragmented frame, use `newframe = frame.copy()`\n",
      "\n",
      "/tmp/ipykernel_48261/1484095954.py:11: PerformanceWarning:\n",
      "\n",
      "DataFrame is highly fragmented.  This is usually the result of calling `frame.insert` many times, which has poor performance.  Consider joining all columns at once using pd.concat(axis=1) instead. To get a de-fragmented frame, use `newframe = frame.copy()`\n",
      "\n",
      "/tmp/ipykernel_48261/1484095954.py:11: PerformanceWarning:\n",
      "\n",
      "DataFrame is highly fragmented.  This is usually the result of calling `frame.insert` many times, which has poor performance.  Consider joining all columns at once using pd.concat(axis=1) instead. To get a de-fragmented frame, use `newframe = frame.copy()`\n",
      "\n",
      "/tmp/ipykernel_48261/1484095954.py:11: PerformanceWarning:\n",
      "\n",
      "DataFrame is highly fragmented.  This is usually the result of calling `frame.insert` many times, which has poor performance.  Consider joining all columns at once using pd.concat(axis=1) instead. To get a de-fragmented frame, use `newframe = frame.copy()`\n",
      "\n",
      "/tmp/ipykernel_48261/1484095954.py:11: PerformanceWarning:\n",
      "\n",
      "DataFrame is highly fragmented.  This is usually the result of calling `frame.insert` many times, which has poor performance.  Consider joining all columns at once using pd.concat(axis=1) instead. To get a de-fragmented frame, use `newframe = frame.copy()`\n",
      "\n",
      "/tmp/ipykernel_48261/1484095954.py:11: PerformanceWarning:\n",
      "\n",
      "DataFrame is highly fragmented.  This is usually the result of calling `frame.insert` many times, which has poor performance.  Consider joining all columns at once using pd.concat(axis=1) instead. To get a de-fragmented frame, use `newframe = frame.copy()`\n",
      "\n",
      "/tmp/ipykernel_48261/1484095954.py:11: PerformanceWarning:\n",
      "\n",
      "DataFrame is highly fragmented.  This is usually the result of calling `frame.insert` many times, which has poor performance.  Consider joining all columns at once using pd.concat(axis=1) instead. To get a de-fragmented frame, use `newframe = frame.copy()`\n",
      "\n",
      "/tmp/ipykernel_48261/1484095954.py:11: PerformanceWarning:\n",
      "\n",
      "DataFrame is highly fragmented.  This is usually the result of calling `frame.insert` many times, which has poor performance.  Consider joining all columns at once using pd.concat(axis=1) instead. To get a de-fragmented frame, use `newframe = frame.copy()`\n",
      "\n",
      "/tmp/ipykernel_48261/1484095954.py:11: PerformanceWarning:\n",
      "\n",
      "DataFrame is highly fragmented.  This is usually the result of calling `frame.insert` many times, which has poor performance.  Consider joining all columns at once using pd.concat(axis=1) instead. To get a de-fragmented frame, use `newframe = frame.copy()`\n",
      "\n",
      "/tmp/ipykernel_48261/1484095954.py:11: PerformanceWarning:\n",
      "\n",
      "DataFrame is highly fragmented.  This is usually the result of calling `frame.insert` many times, which has poor performance.  Consider joining all columns at once using pd.concat(axis=1) instead. To get a de-fragmented frame, use `newframe = frame.copy()`\n",
      "\n",
      "/tmp/ipykernel_48261/1484095954.py:11: PerformanceWarning:\n",
      "\n",
      "DataFrame is highly fragmented.  This is usually the result of calling `frame.insert` many times, which has poor performance.  Consider joining all columns at once using pd.concat(axis=1) instead. To get a de-fragmented frame, use `newframe = frame.copy()`\n",
      "\n",
      "/tmp/ipykernel_48261/1484095954.py:11: PerformanceWarning:\n",
      "\n",
      "DataFrame is highly fragmented.  This is usually the result of calling `frame.insert` many times, which has poor performance.  Consider joining all columns at once using pd.concat(axis=1) instead. To get a de-fragmented frame, use `newframe = frame.copy()`\n",
      "\n",
      "/tmp/ipykernel_48261/1484095954.py:11: PerformanceWarning:\n",
      "\n",
      "DataFrame is highly fragmented.  This is usually the result of calling `frame.insert` many times, which has poor performance.  Consider joining all columns at once using pd.concat(axis=1) instead. To get a de-fragmented frame, use `newframe = frame.copy()`\n",
      "\n",
      "/tmp/ipykernel_48261/1484095954.py:11: PerformanceWarning:\n",
      "\n",
      "DataFrame is highly fragmented.  This is usually the result of calling `frame.insert` many times, which has poor performance.  Consider joining all columns at once using pd.concat(axis=1) instead. To get a de-fragmented frame, use `newframe = frame.copy()`\n",
      "\n",
      "/tmp/ipykernel_48261/1484095954.py:11: PerformanceWarning:\n",
      "\n",
      "DataFrame is highly fragmented.  This is usually the result of calling `frame.insert` many times, which has poor performance.  Consider joining all columns at once using pd.concat(axis=1) instead. To get a de-fragmented frame, use `newframe = frame.copy()`\n",
      "\n",
      "/tmp/ipykernel_48261/1484095954.py:11: PerformanceWarning:\n",
      "\n",
      "DataFrame is highly fragmented.  This is usually the result of calling `frame.insert` many times, which has poor performance.  Consider joining all columns at once using pd.concat(axis=1) instead. To get a de-fragmented frame, use `newframe = frame.copy()`\n",
      "\n",
      "/tmp/ipykernel_48261/1484095954.py:11: PerformanceWarning:\n",
      "\n",
      "DataFrame is highly fragmented.  This is usually the result of calling `frame.insert` many times, which has poor performance.  Consider joining all columns at once using pd.concat(axis=1) instead. To get a de-fragmented frame, use `newframe = frame.copy()`\n",
      "\n",
      "/tmp/ipykernel_48261/1484095954.py:11: PerformanceWarning:\n",
      "\n",
      "DataFrame is highly fragmented.  This is usually the result of calling `frame.insert` many times, which has poor performance.  Consider joining all columns at once using pd.concat(axis=1) instead. To get a de-fragmented frame, use `newframe = frame.copy()`\n",
      "\n",
      "/tmp/ipykernel_48261/1484095954.py:11: PerformanceWarning:\n",
      "\n",
      "DataFrame is highly fragmented.  This is usually the result of calling `frame.insert` many times, which has poor performance.  Consider joining all columns at once using pd.concat(axis=1) instead. To get a de-fragmented frame, use `newframe = frame.copy()`\n",
      "\n",
      "/tmp/ipykernel_48261/1484095954.py:11: PerformanceWarning:\n",
      "\n",
      "DataFrame is highly fragmented.  This is usually the result of calling `frame.insert` many times, which has poor performance.  Consider joining all columns at once using pd.concat(axis=1) instead. To get a de-fragmented frame, use `newframe = frame.copy()`\n",
      "\n",
      "/tmp/ipykernel_48261/1484095954.py:11: PerformanceWarning:\n",
      "\n",
      "DataFrame is highly fragmented.  This is usually the result of calling `frame.insert` many times, which has poor performance.  Consider joining all columns at once using pd.concat(axis=1) instead. To get a de-fragmented frame, use `newframe = frame.copy()`\n",
      "\n",
      "/tmp/ipykernel_48261/1484095954.py:11: PerformanceWarning:\n",
      "\n",
      "DataFrame is highly fragmented.  This is usually the result of calling `frame.insert` many times, which has poor performance.  Consider joining all columns at once using pd.concat(axis=1) instead. To get a de-fragmented frame, use `newframe = frame.copy()`\n",
      "\n",
      "/tmp/ipykernel_48261/1484095954.py:11: PerformanceWarning:\n",
      "\n",
      "DataFrame is highly fragmented.  This is usually the result of calling `frame.insert` many times, which has poor performance.  Consider joining all columns at once using pd.concat(axis=1) instead. To get a de-fragmented frame, use `newframe = frame.copy()`\n",
      "\n",
      "/tmp/ipykernel_48261/1484095954.py:11: PerformanceWarning:\n",
      "\n",
      "DataFrame is highly fragmented.  This is usually the result of calling `frame.insert` many times, which has poor performance.  Consider joining all columns at once using pd.concat(axis=1) instead. To get a de-fragmented frame, use `newframe = frame.copy()`\n",
      "\n",
      "/tmp/ipykernel_48261/1484095954.py:11: PerformanceWarning:\n",
      "\n",
      "DataFrame is highly fragmented.  This is usually the result of calling `frame.insert` many times, which has poor performance.  Consider joining all columns at once using pd.concat(axis=1) instead. To get a de-fragmented frame, use `newframe = frame.copy()`\n",
      "\n",
      "/tmp/ipykernel_48261/1484095954.py:11: PerformanceWarning:\n",
      "\n",
      "DataFrame is highly fragmented.  This is usually the result of calling `frame.insert` many times, which has poor performance.  Consider joining all columns at once using pd.concat(axis=1) instead. To get a de-fragmented frame, use `newframe = frame.copy()`\n",
      "\n",
      "/tmp/ipykernel_48261/1484095954.py:11: PerformanceWarning:\n",
      "\n",
      "DataFrame is highly fragmented.  This is usually the result of calling `frame.insert` many times, which has poor performance.  Consider joining all columns at once using pd.concat(axis=1) instead. To get a de-fragmented frame, use `newframe = frame.copy()`\n",
      "\n",
      "/tmp/ipykernel_48261/1484095954.py:11: PerformanceWarning:\n",
      "\n",
      "DataFrame is highly fragmented.  This is usually the result of calling `frame.insert` many times, which has poor performance.  Consider joining all columns at once using pd.concat(axis=1) instead. To get a de-fragmented frame, use `newframe = frame.copy()`\n",
      "\n",
      "/tmp/ipykernel_48261/1484095954.py:11: PerformanceWarning:\n",
      "\n",
      "DataFrame is highly fragmented.  This is usually the result of calling `frame.insert` many times, which has poor performance.  Consider joining all columns at once using pd.concat(axis=1) instead. To get a de-fragmented frame, use `newframe = frame.copy()`\n",
      "\n",
      "/tmp/ipykernel_48261/1484095954.py:11: PerformanceWarning:\n",
      "\n",
      "DataFrame is highly fragmented.  This is usually the result of calling `frame.insert` many times, which has poor performance.  Consider joining all columns at once using pd.concat(axis=1) instead. To get a de-fragmented frame, use `newframe = frame.copy()`\n",
      "\n",
      "/tmp/ipykernel_48261/1484095954.py:11: PerformanceWarning:\n",
      "\n",
      "DataFrame is highly fragmented.  This is usually the result of calling `frame.insert` many times, which has poor performance.  Consider joining all columns at once using pd.concat(axis=1) instead. To get a de-fragmented frame, use `newframe = frame.copy()`\n",
      "\n",
      "/tmp/ipykernel_48261/1484095954.py:11: PerformanceWarning:\n",
      "\n",
      "DataFrame is highly fragmented.  This is usually the result of calling `frame.insert` many times, which has poor performance.  Consider joining all columns at once using pd.concat(axis=1) instead. To get a de-fragmented frame, use `newframe = frame.copy()`\n",
      "\n",
      "/tmp/ipykernel_48261/1484095954.py:11: PerformanceWarning:\n",
      "\n",
      "DataFrame is highly fragmented.  This is usually the result of calling `frame.insert` many times, which has poor performance.  Consider joining all columns at once using pd.concat(axis=1) instead. To get a de-fragmented frame, use `newframe = frame.copy()`\n",
      "\n",
      "/tmp/ipykernel_48261/1484095954.py:11: PerformanceWarning:\n",
      "\n",
      "DataFrame is highly fragmented.  This is usually the result of calling `frame.insert` many times, which has poor performance.  Consider joining all columns at once using pd.concat(axis=1) instead. To get a de-fragmented frame, use `newframe = frame.copy()`\n",
      "\n",
      "/tmp/ipykernel_48261/1484095954.py:11: PerformanceWarning:\n",
      "\n",
      "DataFrame is highly fragmented.  This is usually the result of calling `frame.insert` many times, which has poor performance.  Consider joining all columns at once using pd.concat(axis=1) instead. To get a de-fragmented frame, use `newframe = frame.copy()`\n",
      "\n",
      "/tmp/ipykernel_48261/1484095954.py:11: PerformanceWarning:\n",
      "\n",
      "DataFrame is highly fragmented.  This is usually the result of calling `frame.insert` many times, which has poor performance.  Consider joining all columns at once using pd.concat(axis=1) instead. To get a de-fragmented frame, use `newframe = frame.copy()`\n",
      "\n",
      "/tmp/ipykernel_48261/1484095954.py:11: PerformanceWarning:\n",
      "\n",
      "DataFrame is highly fragmented.  This is usually the result of calling `frame.insert` many times, which has poor performance.  Consider joining all columns at once using pd.concat(axis=1) instead. To get a de-fragmented frame, use `newframe = frame.copy()`\n",
      "\n",
      "/tmp/ipykernel_48261/1484095954.py:11: PerformanceWarning:\n",
      "\n",
      "DataFrame is highly fragmented.  This is usually the result of calling `frame.insert` many times, which has poor performance.  Consider joining all columns at once using pd.concat(axis=1) instead. To get a de-fragmented frame, use `newframe = frame.copy()`\n",
      "\n",
      "/tmp/ipykernel_48261/1484095954.py:11: PerformanceWarning:\n",
      "\n",
      "DataFrame is highly fragmented.  This is usually the result of calling `frame.insert` many times, which has poor performance.  Consider joining all columns at once using pd.concat(axis=1) instead. To get a de-fragmented frame, use `newframe = frame.copy()`\n",
      "\n",
      "/tmp/ipykernel_48261/1484095954.py:11: PerformanceWarning:\n",
      "\n",
      "DataFrame is highly fragmented.  This is usually the result of calling `frame.insert` many times, which has poor performance.  Consider joining all columns at once using pd.concat(axis=1) instead. To get a de-fragmented frame, use `newframe = frame.copy()`\n",
      "\n",
      "/tmp/ipykernel_48261/1484095954.py:11: PerformanceWarning:\n",
      "\n",
      "DataFrame is highly fragmented.  This is usually the result of calling `frame.insert` many times, which has poor performance.  Consider joining all columns at once using pd.concat(axis=1) instead. To get a de-fragmented frame, use `newframe = frame.copy()`\n",
      "\n",
      "/tmp/ipykernel_48261/1484095954.py:11: PerformanceWarning:\n",
      "\n",
      "DataFrame is highly fragmented.  This is usually the result of calling `frame.insert` many times, which has poor performance.  Consider joining all columns at once using pd.concat(axis=1) instead. To get a de-fragmented frame, use `newframe = frame.copy()`\n",
      "\n",
      "/tmp/ipykernel_48261/1484095954.py:11: PerformanceWarning:\n",
      "\n",
      "DataFrame is highly fragmented.  This is usually the result of calling `frame.insert` many times, which has poor performance.  Consider joining all columns at once using pd.concat(axis=1) instead. To get a de-fragmented frame, use `newframe = frame.copy()`\n",
      "\n",
      "/tmp/ipykernel_48261/1484095954.py:11: PerformanceWarning:\n",
      "\n",
      "DataFrame is highly fragmented.  This is usually the result of calling `frame.insert` many times, which has poor performance.  Consider joining all columns at once using pd.concat(axis=1) instead. To get a de-fragmented frame, use `newframe = frame.copy()`\n",
      "\n",
      "/tmp/ipykernel_48261/1484095954.py:11: PerformanceWarning:\n",
      "\n",
      "DataFrame is highly fragmented.  This is usually the result of calling `frame.insert` many times, which has poor performance.  Consider joining all columns at once using pd.concat(axis=1) instead. To get a de-fragmented frame, use `newframe = frame.copy()`\n",
      "\n",
      "/tmp/ipykernel_48261/1484095954.py:11: PerformanceWarning:\n",
      "\n",
      "DataFrame is highly fragmented.  This is usually the result of calling `frame.insert` many times, which has poor performance.  Consider joining all columns at once using pd.concat(axis=1) instead. To get a de-fragmented frame, use `newframe = frame.copy()`\n",
      "\n",
      "/tmp/ipykernel_48261/1484095954.py:11: PerformanceWarning:\n",
      "\n",
      "DataFrame is highly fragmented.  This is usually the result of calling `frame.insert` many times, which has poor performance.  Consider joining all columns at once using pd.concat(axis=1) instead. To get a de-fragmented frame, use `newframe = frame.copy()`\n",
      "\n",
      "/tmp/ipykernel_48261/1484095954.py:11: PerformanceWarning:\n",
      "\n",
      "DataFrame is highly fragmented.  This is usually the result of calling `frame.insert` many times, which has poor performance.  Consider joining all columns at once using pd.concat(axis=1) instead. To get a de-fragmented frame, use `newframe = frame.copy()`\n",
      "\n",
      "/tmp/ipykernel_48261/1484095954.py:11: PerformanceWarning:\n",
      "\n",
      "DataFrame is highly fragmented.  This is usually the result of calling `frame.insert` many times, which has poor performance.  Consider joining all columns at once using pd.concat(axis=1) instead. To get a de-fragmented frame, use `newframe = frame.copy()`\n",
      "\n",
      "/tmp/ipykernel_48261/1484095954.py:11: PerformanceWarning:\n",
      "\n",
      "DataFrame is highly fragmented.  This is usually the result of calling `frame.insert` many times, which has poor performance.  Consider joining all columns at once using pd.concat(axis=1) instead. To get a de-fragmented frame, use `newframe = frame.copy()`\n",
      "\n",
      "/tmp/ipykernel_48261/1484095954.py:11: PerformanceWarning:\n",
      "\n",
      "DataFrame is highly fragmented.  This is usually the result of calling `frame.insert` many times, which has poor performance.  Consider joining all columns at once using pd.concat(axis=1) instead. To get a de-fragmented frame, use `newframe = frame.copy()`\n",
      "\n",
      "/tmp/ipykernel_48261/1484095954.py:11: PerformanceWarning:\n",
      "\n",
      "DataFrame is highly fragmented.  This is usually the result of calling `frame.insert` many times, which has poor performance.  Consider joining all columns at once using pd.concat(axis=1) instead. To get a de-fragmented frame, use `newframe = frame.copy()`\n",
      "\n",
      "/tmp/ipykernel_48261/1484095954.py:11: PerformanceWarning:\n",
      "\n",
      "DataFrame is highly fragmented.  This is usually the result of calling `frame.insert` many times, which has poor performance.  Consider joining all columns at once using pd.concat(axis=1) instead. To get a de-fragmented frame, use `newframe = frame.copy()`\n",
      "\n",
      "/tmp/ipykernel_48261/1484095954.py:11: PerformanceWarning:\n",
      "\n",
      "DataFrame is highly fragmented.  This is usually the result of calling `frame.insert` many times, which has poor performance.  Consider joining all columns at once using pd.concat(axis=1) instead. To get a de-fragmented frame, use `newframe = frame.copy()`\n",
      "\n",
      "/tmp/ipykernel_48261/1484095954.py:11: PerformanceWarning:\n",
      "\n",
      "DataFrame is highly fragmented.  This is usually the result of calling `frame.insert` many times, which has poor performance.  Consider joining all columns at once using pd.concat(axis=1) instead. To get a de-fragmented frame, use `newframe = frame.copy()`\n",
      "\n",
      "/tmp/ipykernel_48261/1484095954.py:11: PerformanceWarning:\n",
      "\n",
      "DataFrame is highly fragmented.  This is usually the result of calling `frame.insert` many times, which has poor performance.  Consider joining all columns at once using pd.concat(axis=1) instead. To get a de-fragmented frame, use `newframe = frame.copy()`\n",
      "\n",
      "/tmp/ipykernel_48261/1484095954.py:11: PerformanceWarning:\n",
      "\n",
      "DataFrame is highly fragmented.  This is usually the result of calling `frame.insert` many times, which has poor performance.  Consider joining all columns at once using pd.concat(axis=1) instead. To get a de-fragmented frame, use `newframe = frame.copy()`\n",
      "\n",
      "/tmp/ipykernel_48261/1484095954.py:11: PerformanceWarning:\n",
      "\n",
      "DataFrame is highly fragmented.  This is usually the result of calling `frame.insert` many times, which has poor performance.  Consider joining all columns at once using pd.concat(axis=1) instead. To get a de-fragmented frame, use `newframe = frame.copy()`\n",
      "\n",
      "/tmp/ipykernel_48261/1484095954.py:11: PerformanceWarning:\n",
      "\n",
      "DataFrame is highly fragmented.  This is usually the result of calling `frame.insert` many times, which has poor performance.  Consider joining all columns at once using pd.concat(axis=1) instead. To get a de-fragmented frame, use `newframe = frame.copy()`\n",
      "\n",
      "/tmp/ipykernel_48261/1484095954.py:11: PerformanceWarning:\n",
      "\n",
      "DataFrame is highly fragmented.  This is usually the result of calling `frame.insert` many times, which has poor performance.  Consider joining all columns at once using pd.concat(axis=1) instead. To get a de-fragmented frame, use `newframe = frame.copy()`\n",
      "\n",
      "/tmp/ipykernel_48261/1484095954.py:11: PerformanceWarning:\n",
      "\n",
      "DataFrame is highly fragmented.  This is usually the result of calling `frame.insert` many times, which has poor performance.  Consider joining all columns at once using pd.concat(axis=1) instead. To get a de-fragmented frame, use `newframe = frame.copy()`\n",
      "\n",
      "/tmp/ipykernel_48261/1484095954.py:11: PerformanceWarning:\n",
      "\n",
      "DataFrame is highly fragmented.  This is usually the result of calling `frame.insert` many times, which has poor performance.  Consider joining all columns at once using pd.concat(axis=1) instead. To get a de-fragmented frame, use `newframe = frame.copy()`\n",
      "\n",
      "/tmp/ipykernel_48261/1484095954.py:11: PerformanceWarning:\n",
      "\n",
      "DataFrame is highly fragmented.  This is usually the result of calling `frame.insert` many times, which has poor performance.  Consider joining all columns at once using pd.concat(axis=1) instead. To get a de-fragmented frame, use `newframe = frame.copy()`\n",
      "\n",
      "/tmp/ipykernel_48261/1484095954.py:11: PerformanceWarning:\n",
      "\n",
      "DataFrame is highly fragmented.  This is usually the result of calling `frame.insert` many times, which has poor performance.  Consider joining all columns at once using pd.concat(axis=1) instead. To get a de-fragmented frame, use `newframe = frame.copy()`\n",
      "\n",
      "/tmp/ipykernel_48261/1484095954.py:11: PerformanceWarning:\n",
      "\n",
      "DataFrame is highly fragmented.  This is usually the result of calling `frame.insert` many times, which has poor performance.  Consider joining all columns at once using pd.concat(axis=1) instead. To get a de-fragmented frame, use `newframe = frame.copy()`\n",
      "\n",
      "/tmp/ipykernel_48261/1484095954.py:11: PerformanceWarning:\n",
      "\n",
      "DataFrame is highly fragmented.  This is usually the result of calling `frame.insert` many times, which has poor performance.  Consider joining all columns at once using pd.concat(axis=1) instead. To get a de-fragmented frame, use `newframe = frame.copy()`\n",
      "\n",
      "/tmp/ipykernel_48261/1484095954.py:11: PerformanceWarning:\n",
      "\n",
      "DataFrame is highly fragmented.  This is usually the result of calling `frame.insert` many times, which has poor performance.  Consider joining all columns at once using pd.concat(axis=1) instead. To get a de-fragmented frame, use `newframe = frame.copy()`\n",
      "\n",
      "/tmp/ipykernel_48261/1484095954.py:11: PerformanceWarning:\n",
      "\n",
      "DataFrame is highly fragmented.  This is usually the result of calling `frame.insert` many times, which has poor performance.  Consider joining all columns at once using pd.concat(axis=1) instead. To get a de-fragmented frame, use `newframe = frame.copy()`\n",
      "\n",
      "/tmp/ipykernel_48261/1484095954.py:11: PerformanceWarning:\n",
      "\n",
      "DataFrame is highly fragmented.  This is usually the result of calling `frame.insert` many times, which has poor performance.  Consider joining all columns at once using pd.concat(axis=1) instead. To get a de-fragmented frame, use `newframe = frame.copy()`\n",
      "\n",
      "/tmp/ipykernel_48261/1484095954.py:11: PerformanceWarning:\n",
      "\n",
      "DataFrame is highly fragmented.  This is usually the result of calling `frame.insert` many times, which has poor performance.  Consider joining all columns at once using pd.concat(axis=1) instead. To get a de-fragmented frame, use `newframe = frame.copy()`\n",
      "\n",
      "/tmp/ipykernel_48261/1484095954.py:11: PerformanceWarning:\n",
      "\n",
      "DataFrame is highly fragmented.  This is usually the result of calling `frame.insert` many times, which has poor performance.  Consider joining all columns at once using pd.concat(axis=1) instead. To get a de-fragmented frame, use `newframe = frame.copy()`\n",
      "\n",
      "/tmp/ipykernel_48261/1484095954.py:11: PerformanceWarning:\n",
      "\n",
      "DataFrame is highly fragmented.  This is usually the result of calling `frame.insert` many times, which has poor performance.  Consider joining all columns at once using pd.concat(axis=1) instead. To get a de-fragmented frame, use `newframe = frame.copy()`\n",
      "\n",
      "/tmp/ipykernel_48261/1484095954.py:11: PerformanceWarning:\n",
      "\n",
      "DataFrame is highly fragmented.  This is usually the result of calling `frame.insert` many times, which has poor performance.  Consider joining all columns at once using pd.concat(axis=1) instead. To get a de-fragmented frame, use `newframe = frame.copy()`\n",
      "\n",
      "/tmp/ipykernel_48261/1484095954.py:11: PerformanceWarning:\n",
      "\n",
      "DataFrame is highly fragmented.  This is usually the result of calling `frame.insert` many times, which has poor performance.  Consider joining all columns at once using pd.concat(axis=1) instead. To get a de-fragmented frame, use `newframe = frame.copy()`\n",
      "\n",
      "/tmp/ipykernel_48261/1484095954.py:11: PerformanceWarning:\n",
      "\n",
      "DataFrame is highly fragmented.  This is usually the result of calling `frame.insert` many times, which has poor performance.  Consider joining all columns at once using pd.concat(axis=1) instead. To get a de-fragmented frame, use `newframe = frame.copy()`\n",
      "\n",
      "/tmp/ipykernel_48261/1484095954.py:11: PerformanceWarning:\n",
      "\n",
      "DataFrame is highly fragmented.  This is usually the result of calling `frame.insert` many times, which has poor performance.  Consider joining all columns at once using pd.concat(axis=1) instead. To get a de-fragmented frame, use `newframe = frame.copy()`\n",
      "\n",
      "/tmp/ipykernel_48261/1484095954.py:11: PerformanceWarning:\n",
      "\n",
      "DataFrame is highly fragmented.  This is usually the result of calling `frame.insert` many times, which has poor performance.  Consider joining all columns at once using pd.concat(axis=1) instead. To get a de-fragmented frame, use `newframe = frame.copy()`\n",
      "\n",
      "/tmp/ipykernel_48261/1484095954.py:11: PerformanceWarning:\n",
      "\n",
      "DataFrame is highly fragmented.  This is usually the result of calling `frame.insert` many times, which has poor performance.  Consider joining all columns at once using pd.concat(axis=1) instead. To get a de-fragmented frame, use `newframe = frame.copy()`\n",
      "\n",
      "/tmp/ipykernel_48261/1484095954.py:11: PerformanceWarning:\n",
      "\n",
      "DataFrame is highly fragmented.  This is usually the result of calling `frame.insert` many times, which has poor performance.  Consider joining all columns at once using pd.concat(axis=1) instead. To get a de-fragmented frame, use `newframe = frame.copy()`\n",
      "\n",
      "/tmp/ipykernel_48261/1484095954.py:11: PerformanceWarning:\n",
      "\n",
      "DataFrame is highly fragmented.  This is usually the result of calling `frame.insert` many times, which has poor performance.  Consider joining all columns at once using pd.concat(axis=1) instead. To get a de-fragmented frame, use `newframe = frame.copy()`\n",
      "\n",
      "/tmp/ipykernel_48261/1484095954.py:11: PerformanceWarning:\n",
      "\n",
      "DataFrame is highly fragmented.  This is usually the result of calling `frame.insert` many times, which has poor performance.  Consider joining all columns at once using pd.concat(axis=1) instead. To get a de-fragmented frame, use `newframe = frame.copy()`\n",
      "\n",
      "/tmp/ipykernel_48261/1484095954.py:11: PerformanceWarning:\n",
      "\n",
      "DataFrame is highly fragmented.  This is usually the result of calling `frame.insert` many times, which has poor performance.  Consider joining all columns at once using pd.concat(axis=1) instead. To get a de-fragmented frame, use `newframe = frame.copy()`\n",
      "\n",
      "/tmp/ipykernel_48261/1484095954.py:11: PerformanceWarning:\n",
      "\n",
      "DataFrame is highly fragmented.  This is usually the result of calling `frame.insert` many times, which has poor performance.  Consider joining all columns at once using pd.concat(axis=1) instead. To get a de-fragmented frame, use `newframe = frame.copy()`\n",
      "\n",
      "/tmp/ipykernel_48261/1484095954.py:11: PerformanceWarning:\n",
      "\n",
      "DataFrame is highly fragmented.  This is usually the result of calling `frame.insert` many times, which has poor performance.  Consider joining all columns at once using pd.concat(axis=1) instead. To get a de-fragmented frame, use `newframe = frame.copy()`\n",
      "\n",
      "/tmp/ipykernel_48261/1484095954.py:11: PerformanceWarning:\n",
      "\n",
      "DataFrame is highly fragmented.  This is usually the result of calling `frame.insert` many times, which has poor performance.  Consider joining all columns at once using pd.concat(axis=1) instead. To get a de-fragmented frame, use `newframe = frame.copy()`\n",
      "\n",
      "/tmp/ipykernel_48261/1484095954.py:11: PerformanceWarning:\n",
      "\n",
      "DataFrame is highly fragmented.  This is usually the result of calling `frame.insert` many times, which has poor performance.  Consider joining all columns at once using pd.concat(axis=1) instead. To get a de-fragmented frame, use `newframe = frame.copy()`\n",
      "\n",
      "/tmp/ipykernel_48261/1484095954.py:11: PerformanceWarning:\n",
      "\n",
      "DataFrame is highly fragmented.  This is usually the result of calling `frame.insert` many times, which has poor performance.  Consider joining all columns at once using pd.concat(axis=1) instead. To get a de-fragmented frame, use `newframe = frame.copy()`\n",
      "\n",
      "/tmp/ipykernel_48261/1484095954.py:11: PerformanceWarning:\n",
      "\n",
      "DataFrame is highly fragmented.  This is usually the result of calling `frame.insert` many times, which has poor performance.  Consider joining all columns at once using pd.concat(axis=1) instead. To get a de-fragmented frame, use `newframe = frame.copy()`\n",
      "\n",
      "/tmp/ipykernel_48261/1484095954.py:11: PerformanceWarning:\n",
      "\n",
      "DataFrame is highly fragmented.  This is usually the result of calling `frame.insert` many times, which has poor performance.  Consider joining all columns at once using pd.concat(axis=1) instead. To get a de-fragmented frame, use `newframe = frame.copy()`\n",
      "\n",
      "/tmp/ipykernel_48261/1484095954.py:11: PerformanceWarning:\n",
      "\n",
      "DataFrame is highly fragmented.  This is usually the result of calling `frame.insert` many times, which has poor performance.  Consider joining all columns at once using pd.concat(axis=1) instead. To get a de-fragmented frame, use `newframe = frame.copy()`\n",
      "\n",
      "/tmp/ipykernel_48261/1484095954.py:11: PerformanceWarning:\n",
      "\n",
      "DataFrame is highly fragmented.  This is usually the result of calling `frame.insert` many times, which has poor performance.  Consider joining all columns at once using pd.concat(axis=1) instead. To get a de-fragmented frame, use `newframe = frame.copy()`\n",
      "\n",
      "/tmp/ipykernel_48261/1484095954.py:11: PerformanceWarning:\n",
      "\n",
      "DataFrame is highly fragmented.  This is usually the result of calling `frame.insert` many times, which has poor performance.  Consider joining all columns at once using pd.concat(axis=1) instead. To get a de-fragmented frame, use `newframe = frame.copy()`\n",
      "\n",
      "/tmp/ipykernel_48261/1484095954.py:11: PerformanceWarning:\n",
      "\n",
      "DataFrame is highly fragmented.  This is usually the result of calling `frame.insert` many times, which has poor performance.  Consider joining all columns at once using pd.concat(axis=1) instead. To get a de-fragmented frame, use `newframe = frame.copy()`\n",
      "\n",
      "/tmp/ipykernel_48261/1484095954.py:11: PerformanceWarning:\n",
      "\n",
      "DataFrame is highly fragmented.  This is usually the result of calling `frame.insert` many times, which has poor performance.  Consider joining all columns at once using pd.concat(axis=1) instead. To get a de-fragmented frame, use `newframe = frame.copy()`\n",
      "\n",
      "/tmp/ipykernel_48261/1484095954.py:11: PerformanceWarning:\n",
      "\n",
      "DataFrame is highly fragmented.  This is usually the result of calling `frame.insert` many times, which has poor performance.  Consider joining all columns at once using pd.concat(axis=1) instead. To get a de-fragmented frame, use `newframe = frame.copy()`\n",
      "\n",
      "/tmp/ipykernel_48261/1484095954.py:11: PerformanceWarning:\n",
      "\n",
      "DataFrame is highly fragmented.  This is usually the result of calling `frame.insert` many times, which has poor performance.  Consider joining all columns at once using pd.concat(axis=1) instead. To get a de-fragmented frame, use `newframe = frame.copy()`\n",
      "\n",
      "/tmp/ipykernel_48261/1484095954.py:11: PerformanceWarning:\n",
      "\n",
      "DataFrame is highly fragmented.  This is usually the result of calling `frame.insert` many times, which has poor performance.  Consider joining all columns at once using pd.concat(axis=1) instead. To get a de-fragmented frame, use `newframe = frame.copy()`\n",
      "\n",
      "/tmp/ipykernel_48261/1484095954.py:11: PerformanceWarning:\n",
      "\n",
      "DataFrame is highly fragmented.  This is usually the result of calling `frame.insert` many times, which has poor performance.  Consider joining all columns at once using pd.concat(axis=1) instead. To get a de-fragmented frame, use `newframe = frame.copy()`\n",
      "\n",
      "/tmp/ipykernel_48261/1484095954.py:11: PerformanceWarning:\n",
      "\n",
      "DataFrame is highly fragmented.  This is usually the result of calling `frame.insert` many times, which has poor performance.  Consider joining all columns at once using pd.concat(axis=1) instead. To get a de-fragmented frame, use `newframe = frame.copy()`\n",
      "\n",
      "/tmp/ipykernel_48261/1484095954.py:11: PerformanceWarning:\n",
      "\n",
      "DataFrame is highly fragmented.  This is usually the result of calling `frame.insert` many times, which has poor performance.  Consider joining all columns at once using pd.concat(axis=1) instead. To get a de-fragmented frame, use `newframe = frame.copy()`\n",
      "\n",
      "/tmp/ipykernel_48261/1484095954.py:11: PerformanceWarning:\n",
      "\n",
      "DataFrame is highly fragmented.  This is usually the result of calling `frame.insert` many times, which has poor performance.  Consider joining all columns at once using pd.concat(axis=1) instead. To get a de-fragmented frame, use `newframe = frame.copy()`\n",
      "\n",
      "/tmp/ipykernel_48261/1484095954.py:11: PerformanceWarning:\n",
      "\n",
      "DataFrame is highly fragmented.  This is usually the result of calling `frame.insert` many times, which has poor performance.  Consider joining all columns at once using pd.concat(axis=1) instead. To get a de-fragmented frame, use `newframe = frame.copy()`\n",
      "\n",
      "/tmp/ipykernel_48261/1484095954.py:11: PerformanceWarning:\n",
      "\n",
      "DataFrame is highly fragmented.  This is usually the result of calling `frame.insert` many times, which has poor performance.  Consider joining all columns at once using pd.concat(axis=1) instead. To get a de-fragmented frame, use `newframe = frame.copy()`\n",
      "\n",
      "/tmp/ipykernel_48261/1484095954.py:11: PerformanceWarning:\n",
      "\n",
      "DataFrame is highly fragmented.  This is usually the result of calling `frame.insert` many times, which has poor performance.  Consider joining all columns at once using pd.concat(axis=1) instead. To get a de-fragmented frame, use `newframe = frame.copy()`\n",
      "\n",
      "/tmp/ipykernel_48261/1484095954.py:11: PerformanceWarning:\n",
      "\n",
      "DataFrame is highly fragmented.  This is usually the result of calling `frame.insert` many times, which has poor performance.  Consider joining all columns at once using pd.concat(axis=1) instead. To get a de-fragmented frame, use `newframe = frame.copy()`\n",
      "\n",
      "/tmp/ipykernel_48261/1484095954.py:11: PerformanceWarning:\n",
      "\n",
      "DataFrame is highly fragmented.  This is usually the result of calling `frame.insert` many times, which has poor performance.  Consider joining all columns at once using pd.concat(axis=1) instead. To get a de-fragmented frame, use `newframe = frame.copy()`\n",
      "\n",
      "/tmp/ipykernel_48261/1484095954.py:11: PerformanceWarning:\n",
      "\n",
      "DataFrame is highly fragmented.  This is usually the result of calling `frame.insert` many times, which has poor performance.  Consider joining all columns at once using pd.concat(axis=1) instead. To get a de-fragmented frame, use `newframe = frame.copy()`\n",
      "\n",
      "/tmp/ipykernel_48261/1484095954.py:11: PerformanceWarning:\n",
      "\n",
      "DataFrame is highly fragmented.  This is usually the result of calling `frame.insert` many times, which has poor performance.  Consider joining all columns at once using pd.concat(axis=1) instead. To get a de-fragmented frame, use `newframe = frame.copy()`\n",
      "\n",
      "/tmp/ipykernel_48261/1484095954.py:11: PerformanceWarning:\n",
      "\n",
      "DataFrame is highly fragmented.  This is usually the result of calling `frame.insert` many times, which has poor performance.  Consider joining all columns at once using pd.concat(axis=1) instead. To get a de-fragmented frame, use `newframe = frame.copy()`\n",
      "\n",
      "/tmp/ipykernel_48261/1484095954.py:11: PerformanceWarning:\n",
      "\n",
      "DataFrame is highly fragmented.  This is usually the result of calling `frame.insert` many times, which has poor performance.  Consider joining all columns at once using pd.concat(axis=1) instead. To get a de-fragmented frame, use `newframe = frame.copy()`\n",
      "\n",
      "/tmp/ipykernel_48261/1484095954.py:11: PerformanceWarning:\n",
      "\n",
      "DataFrame is highly fragmented.  This is usually the result of calling `frame.insert` many times, which has poor performance.  Consider joining all columns at once using pd.concat(axis=1) instead. To get a de-fragmented frame, use `newframe = frame.copy()`\n",
      "\n",
      "/tmp/ipykernel_48261/1484095954.py:11: PerformanceWarning:\n",
      "\n",
      "DataFrame is highly fragmented.  This is usually the result of calling `frame.insert` many times, which has poor performance.  Consider joining all columns at once using pd.concat(axis=1) instead. To get a de-fragmented frame, use `newframe = frame.copy()`\n",
      "\n",
      "/tmp/ipykernel_48261/1484095954.py:11: PerformanceWarning:\n",
      "\n",
      "DataFrame is highly fragmented.  This is usually the result of calling `frame.insert` many times, which has poor performance.  Consider joining all columns at once using pd.concat(axis=1) instead. To get a de-fragmented frame, use `newframe = frame.copy()`\n",
      "\n",
      "/tmp/ipykernel_48261/1484095954.py:11: PerformanceWarning:\n",
      "\n",
      "DataFrame is highly fragmented.  This is usually the result of calling `frame.insert` many times, which has poor performance.  Consider joining all columns at once using pd.concat(axis=1) instead. To get a de-fragmented frame, use `newframe = frame.copy()`\n",
      "\n",
      "/tmp/ipykernel_48261/1484095954.py:11: PerformanceWarning:\n",
      "\n",
      "DataFrame is highly fragmented.  This is usually the result of calling `frame.insert` many times, which has poor performance.  Consider joining all columns at once using pd.concat(axis=1) instead. To get a de-fragmented frame, use `newframe = frame.copy()`\n",
      "\n",
      "/tmp/ipykernel_48261/1484095954.py:11: PerformanceWarning:\n",
      "\n",
      "DataFrame is highly fragmented.  This is usually the result of calling `frame.insert` many times, which has poor performance.  Consider joining all columns at once using pd.concat(axis=1) instead. To get a de-fragmented frame, use `newframe = frame.copy()`\n",
      "\n",
      "/tmp/ipykernel_48261/1484095954.py:11: PerformanceWarning:\n",
      "\n",
      "DataFrame is highly fragmented.  This is usually the result of calling `frame.insert` many times, which has poor performance.  Consider joining all columns at once using pd.concat(axis=1) instead. To get a de-fragmented frame, use `newframe = frame.copy()`\n",
      "\n",
      "/tmp/ipykernel_48261/1484095954.py:11: PerformanceWarning:\n",
      "\n",
      "DataFrame is highly fragmented.  This is usually the result of calling `frame.insert` many times, which has poor performance.  Consider joining all columns at once using pd.concat(axis=1) instead. To get a de-fragmented frame, use `newframe = frame.copy()`\n",
      "\n",
      "/tmp/ipykernel_48261/1484095954.py:11: PerformanceWarning:\n",
      "\n",
      "DataFrame is highly fragmented.  This is usually the result of calling `frame.insert` many times, which has poor performance.  Consider joining all columns at once using pd.concat(axis=1) instead. To get a de-fragmented frame, use `newframe = frame.copy()`\n",
      "\n",
      "/tmp/ipykernel_48261/1484095954.py:11: PerformanceWarning:\n",
      "\n",
      "DataFrame is highly fragmented.  This is usually the result of calling `frame.insert` many times, which has poor performance.  Consider joining all columns at once using pd.concat(axis=1) instead. To get a de-fragmented frame, use `newframe = frame.copy()`\n",
      "\n",
      "/tmp/ipykernel_48261/1484095954.py:11: PerformanceWarning:\n",
      "\n",
      "DataFrame is highly fragmented.  This is usually the result of calling `frame.insert` many times, which has poor performance.  Consider joining all columns at once using pd.concat(axis=1) instead. To get a de-fragmented frame, use `newframe = frame.copy()`\n",
      "\n",
      "/tmp/ipykernel_48261/1484095954.py:11: PerformanceWarning:\n",
      "\n",
      "DataFrame is highly fragmented.  This is usually the result of calling `frame.insert` many times, which has poor performance.  Consider joining all columns at once using pd.concat(axis=1) instead. To get a de-fragmented frame, use `newframe = frame.copy()`\n",
      "\n",
      "/tmp/ipykernel_48261/1484095954.py:11: PerformanceWarning:\n",
      "\n",
      "DataFrame is highly fragmented.  This is usually the result of calling `frame.insert` many times, which has poor performance.  Consider joining all columns at once using pd.concat(axis=1) instead. To get a de-fragmented frame, use `newframe = frame.copy()`\n",
      "\n",
      "/tmp/ipykernel_48261/1484095954.py:11: PerformanceWarning:\n",
      "\n",
      "DataFrame is highly fragmented.  This is usually the result of calling `frame.insert` many times, which has poor performance.  Consider joining all columns at once using pd.concat(axis=1) instead. To get a de-fragmented frame, use `newframe = frame.copy()`\n",
      "\n",
      "/tmp/ipykernel_48261/1484095954.py:11: PerformanceWarning:\n",
      "\n",
      "DataFrame is highly fragmented.  This is usually the result of calling `frame.insert` many times, which has poor performance.  Consider joining all columns at once using pd.concat(axis=1) instead. To get a de-fragmented frame, use `newframe = frame.copy()`\n",
      "\n",
      "/tmp/ipykernel_48261/1484095954.py:11: PerformanceWarning:\n",
      "\n",
      "DataFrame is highly fragmented.  This is usually the result of calling `frame.insert` many times, which has poor performance.  Consider joining all columns at once using pd.concat(axis=1) instead. To get a de-fragmented frame, use `newframe = frame.copy()`\n",
      "\n",
      "/tmp/ipykernel_48261/1484095954.py:11: PerformanceWarning:\n",
      "\n",
      "DataFrame is highly fragmented.  This is usually the result of calling `frame.insert` many times, which has poor performance.  Consider joining all columns at once using pd.concat(axis=1) instead. To get a de-fragmented frame, use `newframe = frame.copy()`\n",
      "\n",
      "/tmp/ipykernel_48261/1484095954.py:11: PerformanceWarning:\n",
      "\n",
      "DataFrame is highly fragmented.  This is usually the result of calling `frame.insert` many times, which has poor performance.  Consider joining all columns at once using pd.concat(axis=1) instead. To get a de-fragmented frame, use `newframe = frame.copy()`\n",
      "\n",
      "/tmp/ipykernel_48261/1484095954.py:11: PerformanceWarning:\n",
      "\n",
      "DataFrame is highly fragmented.  This is usually the result of calling `frame.insert` many times, which has poor performance.  Consider joining all columns at once using pd.concat(axis=1) instead. To get a de-fragmented frame, use `newframe = frame.copy()`\n",
      "\n",
      "/tmp/ipykernel_48261/1484095954.py:11: PerformanceWarning:\n",
      "\n",
      "DataFrame is highly fragmented.  This is usually the result of calling `frame.insert` many times, which has poor performance.  Consider joining all columns at once using pd.concat(axis=1) instead. To get a de-fragmented frame, use `newframe = frame.copy()`\n",
      "\n",
      "/tmp/ipykernel_48261/1484095954.py:11: PerformanceWarning:\n",
      "\n",
      "DataFrame is highly fragmented.  This is usually the result of calling `frame.insert` many times, which has poor performance.  Consider joining all columns at once using pd.concat(axis=1) instead. To get a de-fragmented frame, use `newframe = frame.copy()`\n",
      "\n",
      "/tmp/ipykernel_48261/1484095954.py:11: PerformanceWarning:\n",
      "\n",
      "DataFrame is highly fragmented.  This is usually the result of calling `frame.insert` many times, which has poor performance.  Consider joining all columns at once using pd.concat(axis=1) instead. To get a de-fragmented frame, use `newframe = frame.copy()`\n",
      "\n",
      "/tmp/ipykernel_48261/1484095954.py:11: PerformanceWarning:\n",
      "\n",
      "DataFrame is highly fragmented.  This is usually the result of calling `frame.insert` many times, which has poor performance.  Consider joining all columns at once using pd.concat(axis=1) instead. To get a de-fragmented frame, use `newframe = frame.copy()`\n",
      "\n",
      "/tmp/ipykernel_48261/1484095954.py:11: PerformanceWarning:\n",
      "\n",
      "DataFrame is highly fragmented.  This is usually the result of calling `frame.insert` many times, which has poor performance.  Consider joining all columns at once using pd.concat(axis=1) instead. To get a de-fragmented frame, use `newframe = frame.copy()`\n",
      "\n",
      "/tmp/ipykernel_48261/1484095954.py:11: PerformanceWarning:\n",
      "\n",
      "DataFrame is highly fragmented.  This is usually the result of calling `frame.insert` many times, which has poor performance.  Consider joining all columns at once using pd.concat(axis=1) instead. To get a de-fragmented frame, use `newframe = frame.copy()`\n",
      "\n",
      "/tmp/ipykernel_48261/1484095954.py:11: PerformanceWarning:\n",
      "\n",
      "DataFrame is highly fragmented.  This is usually the result of calling `frame.insert` many times, which has poor performance.  Consider joining all columns at once using pd.concat(axis=1) instead. To get a de-fragmented frame, use `newframe = frame.copy()`\n",
      "\n",
      "/tmp/ipykernel_48261/1484095954.py:11: PerformanceWarning:\n",
      "\n",
      "DataFrame is highly fragmented.  This is usually the result of calling `frame.insert` many times, which has poor performance.  Consider joining all columns at once using pd.concat(axis=1) instead. To get a de-fragmented frame, use `newframe = frame.copy()`\n",
      "\n",
      "/tmp/ipykernel_48261/1484095954.py:11: PerformanceWarning:\n",
      "\n",
      "DataFrame is highly fragmented.  This is usually the result of calling `frame.insert` many times, which has poor performance.  Consider joining all columns at once using pd.concat(axis=1) instead. To get a de-fragmented frame, use `newframe = frame.copy()`\n",
      "\n",
      "/tmp/ipykernel_48261/1484095954.py:11: PerformanceWarning:\n",
      "\n",
      "DataFrame is highly fragmented.  This is usually the result of calling `frame.insert` many times, which has poor performance.  Consider joining all columns at once using pd.concat(axis=1) instead. To get a de-fragmented frame, use `newframe = frame.copy()`\n",
      "\n",
      "/tmp/ipykernel_48261/1484095954.py:11: PerformanceWarning:\n",
      "\n",
      "DataFrame is highly fragmented.  This is usually the result of calling `frame.insert` many times, which has poor performance.  Consider joining all columns at once using pd.concat(axis=1) instead. To get a de-fragmented frame, use `newframe = frame.copy()`\n",
      "\n",
      "/tmp/ipykernel_48261/1484095954.py:11: PerformanceWarning:\n",
      "\n",
      "DataFrame is highly fragmented.  This is usually the result of calling `frame.insert` many times, which has poor performance.  Consider joining all columns at once using pd.concat(axis=1) instead. To get a de-fragmented frame, use `newframe = frame.copy()`\n",
      "\n",
      "/tmp/ipykernel_48261/1484095954.py:11: PerformanceWarning:\n",
      "\n",
      "DataFrame is highly fragmented.  This is usually the result of calling `frame.insert` many times, which has poor performance.  Consider joining all columns at once using pd.concat(axis=1) instead. To get a de-fragmented frame, use `newframe = frame.copy()`\n",
      "\n",
      "/tmp/ipykernel_48261/1484095954.py:11: PerformanceWarning:\n",
      "\n",
      "DataFrame is highly fragmented.  This is usually the result of calling `frame.insert` many times, which has poor performance.  Consider joining all columns at once using pd.concat(axis=1) instead. To get a de-fragmented frame, use `newframe = frame.copy()`\n",
      "\n",
      "/tmp/ipykernel_48261/1484095954.py:11: PerformanceWarning:\n",
      "\n",
      "DataFrame is highly fragmented.  This is usually the result of calling `frame.insert` many times, which has poor performance.  Consider joining all columns at once using pd.concat(axis=1) instead. To get a de-fragmented frame, use `newframe = frame.copy()`\n",
      "\n",
      "/tmp/ipykernel_48261/1484095954.py:11: PerformanceWarning:\n",
      "\n",
      "DataFrame is highly fragmented.  This is usually the result of calling `frame.insert` many times, which has poor performance.  Consider joining all columns at once using pd.concat(axis=1) instead. To get a de-fragmented frame, use `newframe = frame.copy()`\n",
      "\n",
      "/tmp/ipykernel_48261/1484095954.py:11: PerformanceWarning:\n",
      "\n",
      "DataFrame is highly fragmented.  This is usually the result of calling `frame.insert` many times, which has poor performance.  Consider joining all columns at once using pd.concat(axis=1) instead. To get a de-fragmented frame, use `newframe = frame.copy()`\n",
      "\n",
      "/tmp/ipykernel_48261/1484095954.py:11: PerformanceWarning:\n",
      "\n",
      "DataFrame is highly fragmented.  This is usually the result of calling `frame.insert` many times, which has poor performance.  Consider joining all columns at once using pd.concat(axis=1) instead. To get a de-fragmented frame, use `newframe = frame.copy()`\n",
      "\n",
      "/tmp/ipykernel_48261/1484095954.py:11: PerformanceWarning:\n",
      "\n",
      "DataFrame is highly fragmented.  This is usually the result of calling `frame.insert` many times, which has poor performance.  Consider joining all columns at once using pd.concat(axis=1) instead. To get a de-fragmented frame, use `newframe = frame.copy()`\n",
      "\n",
      "/tmp/ipykernel_48261/1484095954.py:11: PerformanceWarning:\n",
      "\n",
      "DataFrame is highly fragmented.  This is usually the result of calling `frame.insert` many times, which has poor performance.  Consider joining all columns at once using pd.concat(axis=1) instead. To get a de-fragmented frame, use `newframe = frame.copy()`\n",
      "\n",
      "/tmp/ipykernel_48261/1484095954.py:11: PerformanceWarning:\n",
      "\n",
      "DataFrame is highly fragmented.  This is usually the result of calling `frame.insert` many times, which has poor performance.  Consider joining all columns at once using pd.concat(axis=1) instead. To get a de-fragmented frame, use `newframe = frame.copy()`\n",
      "\n",
      "/tmp/ipykernel_48261/1484095954.py:11: PerformanceWarning:\n",
      "\n",
      "DataFrame is highly fragmented.  This is usually the result of calling `frame.insert` many times, which has poor performance.  Consider joining all columns at once using pd.concat(axis=1) instead. To get a de-fragmented frame, use `newframe = frame.copy()`\n",
      "\n",
      "/tmp/ipykernel_48261/1484095954.py:11: PerformanceWarning:\n",
      "\n",
      "DataFrame is highly fragmented.  This is usually the result of calling `frame.insert` many times, which has poor performance.  Consider joining all columns at once using pd.concat(axis=1) instead. To get a de-fragmented frame, use `newframe = frame.copy()`\n",
      "\n",
      "/tmp/ipykernel_48261/1484095954.py:11: PerformanceWarning:\n",
      "\n",
      "DataFrame is highly fragmented.  This is usually the result of calling `frame.insert` many times, which has poor performance.  Consider joining all columns at once using pd.concat(axis=1) instead. To get a de-fragmented frame, use `newframe = frame.copy()`\n",
      "\n",
      "/tmp/ipykernel_48261/1484095954.py:11: PerformanceWarning:\n",
      "\n",
      "DataFrame is highly fragmented.  This is usually the result of calling `frame.insert` many times, which has poor performance.  Consider joining all columns at once using pd.concat(axis=1) instead. To get a de-fragmented frame, use `newframe = frame.copy()`\n",
      "\n",
      "/tmp/ipykernel_48261/1484095954.py:11: PerformanceWarning:\n",
      "\n",
      "DataFrame is highly fragmented.  This is usually the result of calling `frame.insert` many times, which has poor performance.  Consider joining all columns at once using pd.concat(axis=1) instead. To get a de-fragmented frame, use `newframe = frame.copy()`\n",
      "\n",
      "/tmp/ipykernel_48261/1484095954.py:11: PerformanceWarning:\n",
      "\n",
      "DataFrame is highly fragmented.  This is usually the result of calling `frame.insert` many times, which has poor performance.  Consider joining all columns at once using pd.concat(axis=1) instead. To get a de-fragmented frame, use `newframe = frame.copy()`\n",
      "\n",
      "/tmp/ipykernel_48261/1484095954.py:11: PerformanceWarning:\n",
      "\n",
      "DataFrame is highly fragmented.  This is usually the result of calling `frame.insert` many times, which has poor performance.  Consider joining all columns at once using pd.concat(axis=1) instead. To get a de-fragmented frame, use `newframe = frame.copy()`\n",
      "\n",
      "/tmp/ipykernel_48261/1484095954.py:11: PerformanceWarning:\n",
      "\n",
      "DataFrame is highly fragmented.  This is usually the result of calling `frame.insert` many times, which has poor performance.  Consider joining all columns at once using pd.concat(axis=1) instead. To get a de-fragmented frame, use `newframe = frame.copy()`\n",
      "\n",
      "/tmp/ipykernel_48261/1484095954.py:11: PerformanceWarning:\n",
      "\n",
      "DataFrame is highly fragmented.  This is usually the result of calling `frame.insert` many times, which has poor performance.  Consider joining all columns at once using pd.concat(axis=1) instead. To get a de-fragmented frame, use `newframe = frame.copy()`\n",
      "\n",
      "/tmp/ipykernel_48261/1484095954.py:11: PerformanceWarning:\n",
      "\n",
      "DataFrame is highly fragmented.  This is usually the result of calling `frame.insert` many times, which has poor performance.  Consider joining all columns at once using pd.concat(axis=1) instead. To get a de-fragmented frame, use `newframe = frame.copy()`\n",
      "\n",
      "/tmp/ipykernel_48261/1484095954.py:11: PerformanceWarning:\n",
      "\n",
      "DataFrame is highly fragmented.  This is usually the result of calling `frame.insert` many times, which has poor performance.  Consider joining all columns at once using pd.concat(axis=1) instead. To get a de-fragmented frame, use `newframe = frame.copy()`\n",
      "\n",
      "/tmp/ipykernel_48261/1484095954.py:11: PerformanceWarning:\n",
      "\n",
      "DataFrame is highly fragmented.  This is usually the result of calling `frame.insert` many times, which has poor performance.  Consider joining all columns at once using pd.concat(axis=1) instead. To get a de-fragmented frame, use `newframe = frame.copy()`\n",
      "\n",
      "/tmp/ipykernel_48261/1484095954.py:11: PerformanceWarning:\n",
      "\n",
      "DataFrame is highly fragmented.  This is usually the result of calling `frame.insert` many times, which has poor performance.  Consider joining all columns at once using pd.concat(axis=1) instead. To get a de-fragmented frame, use `newframe = frame.copy()`\n",
      "\n",
      "/tmp/ipykernel_48261/1484095954.py:11: PerformanceWarning:\n",
      "\n",
      "DataFrame is highly fragmented.  This is usually the result of calling `frame.insert` many times, which has poor performance.  Consider joining all columns at once using pd.concat(axis=1) instead. To get a de-fragmented frame, use `newframe = frame.copy()`\n",
      "\n",
      "/tmp/ipykernel_48261/1484095954.py:11: PerformanceWarning:\n",
      "\n",
      "DataFrame is highly fragmented.  This is usually the result of calling `frame.insert` many times, which has poor performance.  Consider joining all columns at once using pd.concat(axis=1) instead. To get a de-fragmented frame, use `newframe = frame.copy()`\n",
      "\n",
      "/tmp/ipykernel_48261/1484095954.py:11: PerformanceWarning:\n",
      "\n",
      "DataFrame is highly fragmented.  This is usually the result of calling `frame.insert` many times, which has poor performance.  Consider joining all columns at once using pd.concat(axis=1) instead. To get a de-fragmented frame, use `newframe = frame.copy()`\n",
      "\n",
      "/tmp/ipykernel_48261/1484095954.py:11: PerformanceWarning:\n",
      "\n",
      "DataFrame is highly fragmented.  This is usually the result of calling `frame.insert` many times, which has poor performance.  Consider joining all columns at once using pd.concat(axis=1) instead. To get a de-fragmented frame, use `newframe = frame.copy()`\n",
      "\n",
      "/tmp/ipykernel_48261/1484095954.py:11: PerformanceWarning:\n",
      "\n",
      "DataFrame is highly fragmented.  This is usually the result of calling `frame.insert` many times, which has poor performance.  Consider joining all columns at once using pd.concat(axis=1) instead. To get a de-fragmented frame, use `newframe = frame.copy()`\n",
      "\n",
      "/tmp/ipykernel_48261/1484095954.py:11: PerformanceWarning:\n",
      "\n",
      "DataFrame is highly fragmented.  This is usually the result of calling `frame.insert` many times, which has poor performance.  Consider joining all columns at once using pd.concat(axis=1) instead. To get a de-fragmented frame, use `newframe = frame.copy()`\n",
      "\n",
      "/tmp/ipykernel_48261/1484095954.py:11: PerformanceWarning:\n",
      "\n",
      "DataFrame is highly fragmented.  This is usually the result of calling `frame.insert` many times, which has poor performance.  Consider joining all columns at once using pd.concat(axis=1) instead. To get a de-fragmented frame, use `newframe = frame.copy()`\n",
      "\n",
      "/tmp/ipykernel_48261/1484095954.py:11: PerformanceWarning:\n",
      "\n",
      "DataFrame is highly fragmented.  This is usually the result of calling `frame.insert` many times, which has poor performance.  Consider joining all columns at once using pd.concat(axis=1) instead. To get a de-fragmented frame, use `newframe = frame.copy()`\n",
      "\n",
      "/tmp/ipykernel_48261/1484095954.py:11: PerformanceWarning:\n",
      "\n",
      "DataFrame is highly fragmented.  This is usually the result of calling `frame.insert` many times, which has poor performance.  Consider joining all columns at once using pd.concat(axis=1) instead. To get a de-fragmented frame, use `newframe = frame.copy()`\n",
      "\n",
      "/tmp/ipykernel_48261/1484095954.py:11: PerformanceWarning:\n",
      "\n",
      "DataFrame is highly fragmented.  This is usually the result of calling `frame.insert` many times, which has poor performance.  Consider joining all columns at once using pd.concat(axis=1) instead. To get a de-fragmented frame, use `newframe = frame.copy()`\n",
      "\n",
      "/tmp/ipykernel_48261/1484095954.py:11: PerformanceWarning:\n",
      "\n",
      "DataFrame is highly fragmented.  This is usually the result of calling `frame.insert` many times, which has poor performance.  Consider joining all columns at once using pd.concat(axis=1) instead. To get a de-fragmented frame, use `newframe = frame.copy()`\n",
      "\n",
      "/tmp/ipykernel_48261/1484095954.py:11: PerformanceWarning:\n",
      "\n",
      "DataFrame is highly fragmented.  This is usually the result of calling `frame.insert` many times, which has poor performance.  Consider joining all columns at once using pd.concat(axis=1) instead. To get a de-fragmented frame, use `newframe = frame.copy()`\n",
      "\n",
      "/tmp/ipykernel_48261/1484095954.py:11: PerformanceWarning:\n",
      "\n",
      "DataFrame is highly fragmented.  This is usually the result of calling `frame.insert` many times, which has poor performance.  Consider joining all columns at once using pd.concat(axis=1) instead. To get a de-fragmented frame, use `newframe = frame.copy()`\n",
      "\n",
      "/tmp/ipykernel_48261/1484095954.py:11: PerformanceWarning:\n",
      "\n",
      "DataFrame is highly fragmented.  This is usually the result of calling `frame.insert` many times, which has poor performance.  Consider joining all columns at once using pd.concat(axis=1) instead. To get a de-fragmented frame, use `newframe = frame.copy()`\n",
      "\n",
      "/tmp/ipykernel_48261/1484095954.py:11: PerformanceWarning:\n",
      "\n",
      "DataFrame is highly fragmented.  This is usually the result of calling `frame.insert` many times, which has poor performance.  Consider joining all columns at once using pd.concat(axis=1) instead. To get a de-fragmented frame, use `newframe = frame.copy()`\n",
      "\n",
      "/tmp/ipykernel_48261/1484095954.py:11: PerformanceWarning:\n",
      "\n",
      "DataFrame is highly fragmented.  This is usually the result of calling `frame.insert` many times, which has poor performance.  Consider joining all columns at once using pd.concat(axis=1) instead. To get a de-fragmented frame, use `newframe = frame.copy()`\n",
      "\n",
      "/tmp/ipykernel_48261/1484095954.py:11: PerformanceWarning:\n",
      "\n",
      "DataFrame is highly fragmented.  This is usually the result of calling `frame.insert` many times, which has poor performance.  Consider joining all columns at once using pd.concat(axis=1) instead. To get a de-fragmented frame, use `newframe = frame.copy()`\n",
      "\n",
      "/tmp/ipykernel_48261/1484095954.py:11: PerformanceWarning:\n",
      "\n",
      "DataFrame is highly fragmented.  This is usually the result of calling `frame.insert` many times, which has poor performance.  Consider joining all columns at once using pd.concat(axis=1) instead. To get a de-fragmented frame, use `newframe = frame.copy()`\n",
      "\n",
      "/tmp/ipykernel_48261/1484095954.py:11: PerformanceWarning:\n",
      "\n",
      "DataFrame is highly fragmented.  This is usually the result of calling `frame.insert` many times, which has poor performance.  Consider joining all columns at once using pd.concat(axis=1) instead. To get a de-fragmented frame, use `newframe = frame.copy()`\n",
      "\n",
      "/tmp/ipykernel_48261/1484095954.py:11: PerformanceWarning:\n",
      "\n",
      "DataFrame is highly fragmented.  This is usually the result of calling `frame.insert` many times, which has poor performance.  Consider joining all columns at once using pd.concat(axis=1) instead. To get a de-fragmented frame, use `newframe = frame.copy()`\n",
      "\n",
      "/tmp/ipykernel_48261/1484095954.py:11: PerformanceWarning:\n",
      "\n",
      "DataFrame is highly fragmented.  This is usually the result of calling `frame.insert` many times, which has poor performance.  Consider joining all columns at once using pd.concat(axis=1) instead. To get a de-fragmented frame, use `newframe = frame.copy()`\n",
      "\n",
      "/tmp/ipykernel_48261/1484095954.py:11: PerformanceWarning:\n",
      "\n",
      "DataFrame is highly fragmented.  This is usually the result of calling `frame.insert` many times, which has poor performance.  Consider joining all columns at once using pd.concat(axis=1) instead. To get a de-fragmented frame, use `newframe = frame.copy()`\n",
      "\n",
      "/tmp/ipykernel_48261/1484095954.py:11: PerformanceWarning:\n",
      "\n",
      "DataFrame is highly fragmented.  This is usually the result of calling `frame.insert` many times, which has poor performance.  Consider joining all columns at once using pd.concat(axis=1) instead. To get a de-fragmented frame, use `newframe = frame.copy()`\n",
      "\n"
     ]
    }
   ],
   "source": [
    "# Reshape data for pca analysis and plotting\n",
    "for i in range(len(df)):\n",
    "    for j in range(len(sources)):\n",
    "        if df.loc[i,sources[j]] != None:\n",
    "            index = (i*len(sources))+j\n",
    "            pcaBiplotData.loc[index, 'date' ] = pd.to_datetime(df['date'][i])\n",
    "            pcaBiplotData.loc[index, 'source' ] = sources[j]\n",
    "            for k in range(len(df['enc_oba'][99])):\n",
    "                columnname = 'enc'+str(k+1)\n",
    "                # initialize column, not sure this is necessary\n",
    "                pcaBiplotData.loc[index, columnname] = None\n",
    "                encoding = enc_col[j]\n",
    "                pcaBiplotData.loc[index, columnname] = df[encoding][i][k]\n",
    "pcaBiplotData = pcaBiplotData.reset_index()"
   ]
  },
  {
   "cell_type": "code",
   "execution_count": 9,
   "id": "3278b20f",
   "metadata": {},
   "outputs": [],
   "source": [
    "# Selecting dataframe subset with columns that start with 'enc'\n",
    "# pcaBiplotData.loc[:, pcaBiplotData.columns.str.startswith('enc')]"
   ]
  },
  {
   "cell_type": "code",
   "execution_count": 95,
   "id": "e052535c",
   "metadata": {},
   "outputs": [],
   "source": [
    "# All encoding values are already on same scale\n",
    "pca = PCA(n_components = 2)\n",
    "pcafit = pca.fit_transform(pcaBiplotData.loc[:, pcaBiplotData.columns.str.startswith('enc')])"
   ]
  },
  {
   "cell_type": "code",
   "execution_count": 96,
   "id": "13d77205",
   "metadata": {},
   "outputs": [],
   "source": [
    "plot_data = pd.DataFrame()\n",
    "plot_data = pd.concat([pd.DataFrame(pcafit), pcaBiplotData['date'], pcaBiplotData['source']], axis=1, ignore_index=True)"
   ]
  },
  {
   "cell_type": "markdown",
   "id": "4dbd342f",
   "metadata": {},
   "source": [
    "<A HREF=\"https://plotly.com/python/discrete-color/#color-sequences-in-plotly-express\">Plotly discrete color palettes/sequences</A><BR><A HREF=\"https://plotly.com/python/plotly-express/\">Plotly Express docs</A>"
   ]
  },
  {
   "cell_type": "code",
   "execution_count": 97,
   "id": "0fc08def",
   "metadata": {},
   "outputs": [
    {
     "data": {
      "application/vnd.plotly.v1+json": {
       "config": {
        "plotlyServerURL": "https://plot.ly"
       },
       "data": [
        {
         "hovertemplate": "color=text_oba<br>0=%{x}<br>1=%{y}<extra></extra>",
         "legendgroup": "text_oba",
         "marker": {
          "color": "rgb(127, 60, 141)",
          "symbol": "circle"
         },
         "mode": "markers",
         "name": "text_oba",
         "orientation": "v",
         "showlegend": true,
         "type": "scatter",
         "x": [
          5.8032430035955125,
          6.873613899831376,
          8.858641273819895,
          6.762372637625319,
          6.0874959545733445,
          6.723747464715338,
          5.569405541195908,
          3.5436936867887705,
          6.947298993178176,
          5.342283997829986,
          4.634903983621506,
          0.769238871385785,
          9.463306169774276,
          4.613031047416282,
          5.832999054378117,
          6.258286964994472,
          4.6246156079175975,
          4.542644127596693,
          4.540285555452256,
          4.63876178574997,
          4.421184438637136,
          6.729516099004913,
          7.588994871024047,
          2.2432285068426983,
          9.85622029066619,
          5.833836478849952,
          5.395406508386809,
          2.4244424376959652,
          7.108720429870265,
          3.1679030066569434,
          6.8155387351848535,
          4.043855407218132,
          6.458240478959024,
          8.46017513563883,
          4.774934401580766,
          4.405502309299131,
          2.074023990280783,
          5.456458462603524,
          5.147219755795893,
          4.099362824402308,
          7.148223753416237,
          6.845427243303278,
          3.1321208117168684,
          9.047866904609418,
          7.453311432738898,
          10.99582858328017,
          8.300540404603863,
          9.133351817151482,
          8.007890295986542,
          7.110090874717888,
          7.013553925180411,
          7.7334391767860975,
          5.740867217463618,
          5.564279688286177,
          6.395583415006029,
          5.399054053381251,
          6.0686033458042825,
          6.717833766709904,
          8.257964848939961,
          2.920392282707565,
          3.9096290313928184,
          7.89830114283639,
          4.591770863922713,
          4.317622710959949,
          5.989193527467994,
          2.0700392063063116,
          3.573343848612438,
          2.7443321076246208,
          7.895872513106621,
          8.430434243521278,
          5.493883061297588,
          4.366527830975268,
          7.095026712435583,
          7.148164770024019,
          9.65620119565955,
          3.444877367745236,
          -0.2075141397376561,
          7.219560574867803,
          7.727025705823536,
          10.945325427490951,
          4.8441682303452245,
          8.639563128612068,
          4.465829596135664,
          4.6708582624705866,
          6.776572707886701,
          5.691542616655231,
          9.220112278577483,
          9.183331269978773,
          5.409559442202788,
          8.226424453473406,
          0.384481252386938,
          -5.68451624674731,
          6.4802078427284835,
          10.581277991825278,
          6.743955403630472,
          7.334127770854261,
          9.148596779306786,
          3.9410992986505327,
          8.165977205623498,
          7.632589835164375
         ],
         "xaxis": "x",
         "y": [
          1.4207568766163177,
          2.312425089156263,
          -0.6466484939317342,
          -1.7049597845831985,
          -2.5094126286821576,
          -2.0041527775341437,
          -1.3691662811619663,
          -1.2696403465352013,
          0.07471525860888868,
          -3.5875137847077108,
          -1.4580498485292992,
          2.0825348187604655,
          -2.010860529770566,
          -1.4696409525947383,
          -2.3115611766422437,
          1.0329184432518999,
          1.76605184781232,
          -0.5806237653291728,
          -1.3561981535792853,
          -2.5521824387717538,
          -1.8927650901151962,
          -1.6452946364674756,
          -1.683853705352368,
          -2.061244820483475,
          2.301034479626163,
          3.5431645111269767,
          0.41397829822829607,
          -2.346297218711195,
          0.36114348306929045,
          -0.045771399863873956,
          3.6789829917943715,
          -1.1951715712534197,
          -0.03846447181103587,
          -0.6046157141565367,
          2.308811859907133,
          -2.823764645197839,
          -3.006210864172512,
          -2.3199051141539595,
          0.5670955382650247,
          -0.4362241586419391,
          0.5411468805137671,
          6.770431346100588,
          -1.49390916558582,
          5.535360806284809,
          1.2257010600899123,
          3.8205673612770834,
          2.0933469964273868,
          -0.9431947796276102,
          1.9077394510231303,
          1.5292151716571005,
          1.5437895691653645,
          -1.9874834634442549,
          2.468749925866466,
          -0.8362073002212866,
          1.2988108213184624,
          3.5546114862408413,
          -0.6257659796156924,
          -0.9147800947793348,
          1.9113226006454889,
          0.5847946719357986,
          -0.6984934028969384,
          1.4598611606368646,
          3.1938908367467054,
          -3.9221576617107705,
          -0.3537453710545856,
          -5.771383003897714,
          -2.473357795531081,
          3.4018716339300528,
          0.11005990487298856,
          0.7662995033119828,
          -1.7619331975216033,
          -1.1500709268943325,
          -1.0235769347939618,
          -0.0020445938724631034,
          0.37610097457473773,
          -1.868045657759786,
          -2.3052724302737944,
          0.2634333269719546,
          -0.826065296766922,
          1.573785241849365,
          -2.5741789711517207,
          1.4314498859933824,
          0.4843263557043034,
          -1.7982271215553756,
          -0.2947966151940978,
          -1.5578556786171796,
          1.784815900317384,
          0.31152459163628154,
          -2.810685568629308,
          0.7174874627122254,
          1.232926083225221,
          -5.60207466766791,
          -1.709143982532185,
          3.2189618760362206,
          0.14513083925811032,
          4.661550215472078,
          3.1690191721731176,
          -3.570080969354658,
          3.2526316982961934,
          0.5541234789869378
         ],
         "yaxis": "y"
        },
        {
         "hovertemplate": "color=text_nyt<br>0=%{x}<br>1=%{y}<extra></extra>",
         "legendgroup": "text_nyt",
         "marker": {
          "color": "rgb(17, 165, 121)",
          "symbol": "circle"
         },
         "mode": "markers",
         "name": "text_nyt",
         "orientation": "v",
         "showlegend": true,
         "type": "scatter",
         "x": [
          -3.2457025699838717,
          -3.422792993919327,
          0.532122202619792,
          -2.9065366463794104,
          -1.9301020038004486,
          1.1441543557640683,
          -0.9618174244059883,
          -5.280360765684137,
          -3.3249483413120395,
          -0.8395106387098267,
          -4.637164064036529,
          -5.513763622484057,
          -2.985000814680135,
          -2.7933427719736446,
          -4.924060027618297,
          -0.2809132757468234,
          -1.8496086538033203,
          -1.838105714423126,
          -3.818320737521079,
          -3.8592577356244067,
          -1.324375395592886,
          -2.591915302337694,
          -2.4042262062650055,
          -4.225429796177734,
          -1.607980819360049,
          -4.626074744076363,
          -1.0434378523882106,
          -4.099564403046835,
          -7.12837284699959,
          -4.140092819356439,
          -3.8435667133856426,
          -4.059072496523741,
          -1.6437616525970737,
          -0.312755930179649,
          -1.9978722807986302,
          -3.1566876477264936,
          -3.4543067070062405,
          -3.0557230326198606,
          -3.05251366041287,
          -2.850619578670996,
          -0.2469579813672644,
          -3.762270370522018,
          -5.2020624879557,
          -1.9124282996436066,
          -1.9395518872960211,
          -3.726703666564506,
          0.25637018640923703,
          -3.195274388614744,
          -3.4849416090208183,
          -3.5419967020763767,
          -1.2176661105912572,
          -2.718155351886218,
          -1.8108413616108177,
          -2.125882550403208,
          -3.628349730140238,
          -2.222528810026656,
          -2.7602746018550426,
          -2.6101591478628463,
          -3.6153935598198976,
          -1.753863144141657,
          -2.6576605874522614,
          -1.6263289983909164,
          -5.091505002213886,
          -1.5594521835063027,
          -2.904169349659967,
          -3.6987763052108495,
          -3.6226902453711705,
          -2.4965357716898335,
          -2.8909483506535776,
          -2.333699932809868,
          -4.0778326426298355,
          -3.8250906012622514,
          -1.6494501477964592,
          5.478743185586046,
          -4.836879958826454,
          -4.459537487982428,
          -6.279566641057423,
          -0.7532531587508923,
          2.128779157909502,
          1.7080409063410962,
          -1.9821047113805146,
          0.05616738674954968,
          -3.65545214265809,
          -4.708196866992372,
          -1.8088281963138826,
          -3.491070676952733,
          -2.240424134466249,
          -4.282969244256091,
          -2.3837318565454964,
          -1.3915925163915994,
          -3.4163972054773,
          -5.203654492352584,
          -0.9573081275443638,
          -1.046416350883563,
          -3.526686389543448,
          -2.1366303879104116,
          -1.8796811996706106,
          -2.855260084891434,
          -4.459308320782796,
          0.3659314916530476
         ],
         "xaxis": "x",
         "y": [
          3.3286054846307134,
          2.3852353903750223,
          -2.1990331350578463,
          1.0173014727136318,
          1.129460756059304,
          1.0390524369807832,
          1.2655653866957493,
          1.624273670094855,
          -3.247427783312445,
          -0.7293924681412285,
          0.4440199916880044,
          1.1699432682656126,
          -4.273906249381155,
          3.2802452092660594,
          0.2797395250735561,
          0.40823352863697554,
          -1.8393236633311638,
          -0.3679692011914309,
          -0.43829548881087443,
          -0.6388099251056404,
          -0.124330863256706,
          -3.7213410681865673,
          -1.04189788422313,
          -0.179455096800088,
          1.04943664797565,
          3.042138251029115,
          -0.34644897847581024,
          0.5616240040642323,
          -6.008754503758861,
          1.2742343181721407,
          3.1883021050112146,
          -1.7309271038067742,
          -1.6671521467545154,
          -0.1113291698721302,
          3.9709655833185438,
          -2.7938646132787364,
          -0.5715912773990827,
          -1.8399219210543751,
          -0.6215298319989011,
          0.9669098445921649,
          -4.702758657841355,
          6.121721632554293,
          -0.12340028772301333,
          3.190171499748513,
          -1.497205930839677,
          4.148298263603171,
          3.2340524558519474,
          0.1173731269575434,
          0.3675609920998828,
          4.302287386173864,
          -0.3594642997096952,
          1.7605019566586344,
          -0.5880567714083167,
          -0.8231461012763339,
          2.23257137692183,
          3.6867885518818673,
          -2.958270727391909,
          -0.9760001343238298,
          5.74772941610206,
          3.176233952120482,
          -0.5066761926879833,
          0.3784723227768331,
          3.2736256391047887,
          -1.936244506392651,
          0.14113306469447515,
          -1.5981476362132747,
          0.8237521706317322,
          2.0930839415376097,
          -0.7017582307886319,
          0.5310814408607244,
          -0.35123753080523495,
          2.651700451102152,
          -2.350461075531023,
          -0.5485236924585736,
          -0.038232372539447515,
          -0.6267945174947591,
          1.083946484758164,
          -1.3934505178520697,
          -2.031447954287623,
          -1.8445455954523209,
          -1.7190337964694065,
          1.3368109413379141,
          4.069770518188156,
          -2.9207505037951047,
          -5.619642699376749,
          0.6860497097191192,
          4.065286676305553,
          2.6764512540723078,
          -4.022214344029894,
          -0.31883947348952857,
          1.5626309699729162,
          0.28866477556959863,
          0.21465241687026423,
          0.7731348689583526,
          2.6976809292511956,
          2.4714963468093454,
          1.3736621721492375,
          0.1129056311858003,
          2.032421045854526,
          1.9956693320195265
         ],
         "yaxis": "y"
        },
        {
         "hovertemplate": "color=text_wsj<br>0=%{x}<br>1=%{y}<extra></extra>",
         "legendgroup": "text_wsj",
         "marker": {
          "color": "rgb(57, 105, 172)",
          "symbol": "circle"
         },
         "mode": "markers",
         "name": "text_wsj",
         "orientation": "v",
         "showlegend": true,
         "type": "scatter",
         "x": [
          -3.515470575801589,
          -4.623719965162284,
          -0.13602125283206337,
          -3.320453172010618,
          -1.2237747685674372,
          -0.20257704023339373,
          -2.7424723834421267,
          -4.533688656380277,
          -5.873272964163741,
          -3.5986825116628602,
          -4.591995977741197,
          -5.58336427868902,
          -2.844289041831476,
          -3.894777407484284,
          -5.298647268678516,
          -0.23476605462149733,
          -1.9861365968520768,
          -0.9512586387857276,
          -4.702819229043798,
          -3.5871863305946063,
          -0.4264829161188786,
          -1.8760588581901474,
          -5.958241823108102,
          -2.496806016042252,
          -5.163786621917259,
          -5.325166204692198,
          -1.3752197261687478,
          -5.034489497657536,
          -3.8541553439344365,
          -6.291853773394625,
          -3.7746287167233192,
          -3.82984001357094,
          -1.294816874872403,
          -1.809358138304115,
          -4.391565146244374,
          -2.7208051673579012,
          -4.831382686590233,
          -2.57092626520584,
          -2.1553695727596405,
          -2.19473045471466,
          -4.2920935478086335,
          -2.3931413908570898,
          -4.48332446048766,
          -2.498142631780515,
          -3.008725663532418,
          -5.75726835263802,
          -0.9525202950478394,
          -2.782778687087348,
          -5.682514455314874,
          -4.996984095210903,
          -0.19271386939167665,
          -4.005633872226834,
          -0.49676861883846213,
          -1.9585227253558606,
          -2.4276130735946033,
          -4.93293256509667,
          -2.055830131825077,
          -2.0725095655081063,
          -2.721354729263013,
          -2.719839316931351,
          -1.975738491294322,
          -0.49795205480392096,
          -6.460740530566799,
          -1.2004881336635405,
          -0.1081149746220706,
          -3.0133499119751246,
          -1.2859647883712655,
          -3.5831653729790345,
          -3.0441517680723535,
          -1.5073353563175969,
          -5.270888613309444,
          -3.2421915698615664,
          0.5191990769022953,
          3.933952880483451,
          -5.624607160569139,
          -3.137959867635241,
          -5.841851497046401,
          -2.3954811970827303,
          0.8794697478315949,
          -0.07066277919401741,
          -1.5130826736046328,
          -1.277723864326242,
          -6.13011524021531,
          -1.4731789802429707,
          -2.195762600327967,
          -2.8998559521505074,
          -2.1165786139053693,
          -5.148973394507167,
          -2.4556659239181235,
          -1.9193565854103416,
          -2.58321229765922,
          -5.929057263426186,
          -1.9025430496923057,
          0.8782695905822225,
          -6.255222657290472,
          -2.4792156976948956,
          -4.543910894488004,
          -1.7207460700571948,
          -3.9866548945063536,
          -1.2304999806157357
         ],
         "xaxis": "x",
         "y": [
          2.659996740780884,
          0.3771056897818227,
          -2.9144291374113216,
          1.840979931554225,
          -1.3609104299633652,
          -2.8006660335279774,
          0.17286529649494273,
          1.805056194205465,
          -4.976886152527888,
          -2.812568411914963,
          0.45668969554225486,
          3.2174707246894974,
          -2.252443654704843,
          4.254656524153913,
          -0.56946542782652,
          -0.6716625609856279,
          -0.3868559261049136,
          -1.6481816412673516,
          -2.301289783701724,
          -3.5512479278001607,
          -2.8369079844332,
          -0.6721601855693123,
          -3.589447563483486,
          -0.12646015729516177,
          -0.2887779477064405,
          6.516826960501966,
          -2.0785737069950496,
          -2.897447263328558,
          -3.1679331568349003,
          1.4939092867536705,
          3.8438279137286546,
          -1.2985806926126007,
          -2.808937499832622,
          -2.3275861661383925,
          -0.7893405272211819,
          -1.82299635514258,
          -1.1407506754969299,
          -3.482595205867012,
          -0.6041462928426582,
          -1.3098364080291438,
          -5.305566228658849,
          3.9245864836514426,
          -0.6265758581709674,
          2.9283827014712283,
          -1.8999831326937864,
          4.352919883916774,
          0.9382767762971207,
          -0.030287542805619416,
          1.1029043686553996,
          4.706519208651656,
          -0.7020865408201151,
          0.8292667585294885,
          1.5719973919639103,
          0.06527846588424854,
          3.11118432398322,
          2.618216328808726,
          -1.5966432707063638,
          -3.0470568480925837,
          2.7184510030010127,
          1.919899918882153,
          -0.14900350232055318,
          -1.9733287747290302,
          2.564320383270878,
          -1.946445809973196,
          -0.4129143818706889,
          -0.5171161373941024,
          -1.292978658885455,
          0.6293145737999424,
          0.5916901473644924,
          -1.2815473795660612,
          -2.2929316865154026,
          1.9838247801278919,
          -4.174312605284692,
          1.4645054169015166,
          0.6856825929632347,
          -2.1081062837311264,
          1.5909386670314987,
          -1.437029792574914,
          -1.4912354919687585,
          -3.7056478842165186,
          -3.1635789179168876,
          -1.6270008741258388,
          5.381112293161666,
          -0.9029914411673069,
          -5.30457786615875,
          0.1114123745873998,
          3.1283918354368367,
          0.44946139991906725,
          -5.235060819670357,
          0.4861009172887967,
          0.0048204069876227,
          2.8282591097537364,
          -0.3341726283530083,
          0.14831621062526493,
          3.833880381240806,
          3.8422633017466032,
          2.1672265965191544,
          -5.81385637197697,
          2.0909545833049554,
          0.30543977816240453
         ],
         "yaxis": "y"
        },
        {
         "hovertemplate": "color=FoxNews<br>0=%{x}<br>1=%{y}<extra></extra>",
         "legendgroup": "FoxNews",
         "marker": {
          "color": "rgb(242, 183, 1)",
          "symbol": "circle"
         },
         "mode": "markers",
         "name": "FoxNews",
         "orientation": "v",
         "showlegend": true,
         "type": "scatter",
         "x": [
          -7.391743094527398,
          -4.54723594975655
         ],
         "xaxis": "x",
         "y": [
          2.0131820261436575,
          1.1904206725643207
         ],
         "yaxis": "y"
        },
        {
         "hovertemplate": "color=InfoWars<br>0=%{x}<br>1=%{y}<extra></extra>",
         "legendgroup": "InfoWars",
         "marker": {
          "color": "rgb(231, 63, 116)",
          "symbol": "circle"
         },
         "mode": "markers",
         "name": "InfoWars",
         "orientation": "v",
         "showlegend": true,
         "type": "scatter",
         "x": [
          -2.9208498626474007,
          -5.882511106252943,
          -8.637472412829837
         ],
         "xaxis": "x",
         "y": [
          0.5609297052589985,
          0.2796286331887441,
          -2.364271406134781
         ],
         "yaxis": "y"
        },
        {
         "hovertemplate": "color=NationalReview<br>0=%{x}<br>1=%{y}<extra></extra>",
         "legendgroup": "NationalReview",
         "marker": {
          "color": "rgb(128, 186, 90)",
          "symbol": "circle"
         },
         "mode": "markers",
         "name": "NationalReview",
         "orientation": "v",
         "showlegend": true,
         "type": "scatter",
         "x": [
          -6.216451208564068,
          -3.79696617989323,
          2.0881728117490646,
          -3.254146888479252
         ],
         "xaxis": "x",
         "y": [
          1.9319177362099136,
          -4.23084546837629,
          -2.5277390582927746,
          0.43518881643873625
         ],
         "yaxis": "y"
        },
        {
         "hovertemplate": "color=Intercept<br>0=%{x}<br>1=%{y}<extra></extra>",
         "legendgroup": "Intercept",
         "marker": {
          "color": "rgb(230, 131, 16)",
          "symbol": "circle"
         },
         "mode": "markers",
         "name": "Intercept",
         "orientation": "v",
         "showlegend": true,
         "type": "scatter",
         "x": [
          -1.4399097309012643
         ],
         "xaxis": "x",
         "y": [
          0.1081441783726349
         ],
         "yaxis": "y"
        }
       ],
       "layout": {
        "legend": {
         "title": {
          "text": "color"
         },
         "tracegroupgap": 0
        },
        "margin": {
         "t": 60
        },
        "template": {
         "data": {
          "bar": [
           {
            "error_x": {
             "color": "#2a3f5f"
            },
            "error_y": {
             "color": "#2a3f5f"
            },
            "marker": {
             "line": {
              "color": "#E5ECF6",
              "width": 0.5
             },
             "pattern": {
              "fillmode": "overlay",
              "size": 10,
              "solidity": 0.2
             }
            },
            "type": "bar"
           }
          ],
          "barpolar": [
           {
            "marker": {
             "line": {
              "color": "#E5ECF6",
              "width": 0.5
             },
             "pattern": {
              "fillmode": "overlay",
              "size": 10,
              "solidity": 0.2
             }
            },
            "type": "barpolar"
           }
          ],
          "carpet": [
           {
            "aaxis": {
             "endlinecolor": "#2a3f5f",
             "gridcolor": "white",
             "linecolor": "white",
             "minorgridcolor": "white",
             "startlinecolor": "#2a3f5f"
            },
            "baxis": {
             "endlinecolor": "#2a3f5f",
             "gridcolor": "white",
             "linecolor": "white",
             "minorgridcolor": "white",
             "startlinecolor": "#2a3f5f"
            },
            "type": "carpet"
           }
          ],
          "choropleth": [
           {
            "colorbar": {
             "outlinewidth": 0,
             "ticks": ""
            },
            "type": "choropleth"
           }
          ],
          "contour": [
           {
            "colorbar": {
             "outlinewidth": 0,
             "ticks": ""
            },
            "colorscale": [
             [
              0,
              "#0d0887"
             ],
             [
              0.1111111111111111,
              "#46039f"
             ],
             [
              0.2222222222222222,
              "#7201a8"
             ],
             [
              0.3333333333333333,
              "#9c179e"
             ],
             [
              0.4444444444444444,
              "#bd3786"
             ],
             [
              0.5555555555555556,
              "#d8576b"
             ],
             [
              0.6666666666666666,
              "#ed7953"
             ],
             [
              0.7777777777777778,
              "#fb9f3a"
             ],
             [
              0.8888888888888888,
              "#fdca26"
             ],
             [
              1,
              "#f0f921"
             ]
            ],
            "type": "contour"
           }
          ],
          "contourcarpet": [
           {
            "colorbar": {
             "outlinewidth": 0,
             "ticks": ""
            },
            "type": "contourcarpet"
           }
          ],
          "heatmap": [
           {
            "colorbar": {
             "outlinewidth": 0,
             "ticks": ""
            },
            "colorscale": [
             [
              0,
              "#0d0887"
             ],
             [
              0.1111111111111111,
              "#46039f"
             ],
             [
              0.2222222222222222,
              "#7201a8"
             ],
             [
              0.3333333333333333,
              "#9c179e"
             ],
             [
              0.4444444444444444,
              "#bd3786"
             ],
             [
              0.5555555555555556,
              "#d8576b"
             ],
             [
              0.6666666666666666,
              "#ed7953"
             ],
             [
              0.7777777777777778,
              "#fb9f3a"
             ],
             [
              0.8888888888888888,
              "#fdca26"
             ],
             [
              1,
              "#f0f921"
             ]
            ],
            "type": "heatmap"
           }
          ],
          "heatmapgl": [
           {
            "colorbar": {
             "outlinewidth": 0,
             "ticks": ""
            },
            "colorscale": [
             [
              0,
              "#0d0887"
             ],
             [
              0.1111111111111111,
              "#46039f"
             ],
             [
              0.2222222222222222,
              "#7201a8"
             ],
             [
              0.3333333333333333,
              "#9c179e"
             ],
             [
              0.4444444444444444,
              "#bd3786"
             ],
             [
              0.5555555555555556,
              "#d8576b"
             ],
             [
              0.6666666666666666,
              "#ed7953"
             ],
             [
              0.7777777777777778,
              "#fb9f3a"
             ],
             [
              0.8888888888888888,
              "#fdca26"
             ],
             [
              1,
              "#f0f921"
             ]
            ],
            "type": "heatmapgl"
           }
          ],
          "histogram": [
           {
            "marker": {
             "pattern": {
              "fillmode": "overlay",
              "size": 10,
              "solidity": 0.2
             }
            },
            "type": "histogram"
           }
          ],
          "histogram2d": [
           {
            "colorbar": {
             "outlinewidth": 0,
             "ticks": ""
            },
            "colorscale": [
             [
              0,
              "#0d0887"
             ],
             [
              0.1111111111111111,
              "#46039f"
             ],
             [
              0.2222222222222222,
              "#7201a8"
             ],
             [
              0.3333333333333333,
              "#9c179e"
             ],
             [
              0.4444444444444444,
              "#bd3786"
             ],
             [
              0.5555555555555556,
              "#d8576b"
             ],
             [
              0.6666666666666666,
              "#ed7953"
             ],
             [
              0.7777777777777778,
              "#fb9f3a"
             ],
             [
              0.8888888888888888,
              "#fdca26"
             ],
             [
              1,
              "#f0f921"
             ]
            ],
            "type": "histogram2d"
           }
          ],
          "histogram2dcontour": [
           {
            "colorbar": {
             "outlinewidth": 0,
             "ticks": ""
            },
            "colorscale": [
             [
              0,
              "#0d0887"
             ],
             [
              0.1111111111111111,
              "#46039f"
             ],
             [
              0.2222222222222222,
              "#7201a8"
             ],
             [
              0.3333333333333333,
              "#9c179e"
             ],
             [
              0.4444444444444444,
              "#bd3786"
             ],
             [
              0.5555555555555556,
              "#d8576b"
             ],
             [
              0.6666666666666666,
              "#ed7953"
             ],
             [
              0.7777777777777778,
              "#fb9f3a"
             ],
             [
              0.8888888888888888,
              "#fdca26"
             ],
             [
              1,
              "#f0f921"
             ]
            ],
            "type": "histogram2dcontour"
           }
          ],
          "mesh3d": [
           {
            "colorbar": {
             "outlinewidth": 0,
             "ticks": ""
            },
            "type": "mesh3d"
           }
          ],
          "parcoords": [
           {
            "line": {
             "colorbar": {
              "outlinewidth": 0,
              "ticks": ""
             }
            },
            "type": "parcoords"
           }
          ],
          "pie": [
           {
            "automargin": true,
            "type": "pie"
           }
          ],
          "scatter": [
           {
            "fillpattern": {
             "fillmode": "overlay",
             "size": 10,
             "solidity": 0.2
            },
            "type": "scatter"
           }
          ],
          "scatter3d": [
           {
            "line": {
             "colorbar": {
              "outlinewidth": 0,
              "ticks": ""
             }
            },
            "marker": {
             "colorbar": {
              "outlinewidth": 0,
              "ticks": ""
             }
            },
            "type": "scatter3d"
           }
          ],
          "scattercarpet": [
           {
            "marker": {
             "colorbar": {
              "outlinewidth": 0,
              "ticks": ""
             }
            },
            "type": "scattercarpet"
           }
          ],
          "scattergeo": [
           {
            "marker": {
             "colorbar": {
              "outlinewidth": 0,
              "ticks": ""
             }
            },
            "type": "scattergeo"
           }
          ],
          "scattergl": [
           {
            "marker": {
             "colorbar": {
              "outlinewidth": 0,
              "ticks": ""
             }
            },
            "type": "scattergl"
           }
          ],
          "scattermapbox": [
           {
            "marker": {
             "colorbar": {
              "outlinewidth": 0,
              "ticks": ""
             }
            },
            "type": "scattermapbox"
           }
          ],
          "scatterpolar": [
           {
            "marker": {
             "colorbar": {
              "outlinewidth": 0,
              "ticks": ""
             }
            },
            "type": "scatterpolar"
           }
          ],
          "scatterpolargl": [
           {
            "marker": {
             "colorbar": {
              "outlinewidth": 0,
              "ticks": ""
             }
            },
            "type": "scatterpolargl"
           }
          ],
          "scatterternary": [
           {
            "marker": {
             "colorbar": {
              "outlinewidth": 0,
              "ticks": ""
             }
            },
            "type": "scatterternary"
           }
          ],
          "surface": [
           {
            "colorbar": {
             "outlinewidth": 0,
             "ticks": ""
            },
            "colorscale": [
             [
              0,
              "#0d0887"
             ],
             [
              0.1111111111111111,
              "#46039f"
             ],
             [
              0.2222222222222222,
              "#7201a8"
             ],
             [
              0.3333333333333333,
              "#9c179e"
             ],
             [
              0.4444444444444444,
              "#bd3786"
             ],
             [
              0.5555555555555556,
              "#d8576b"
             ],
             [
              0.6666666666666666,
              "#ed7953"
             ],
             [
              0.7777777777777778,
              "#fb9f3a"
             ],
             [
              0.8888888888888888,
              "#fdca26"
             ],
             [
              1,
              "#f0f921"
             ]
            ],
            "type": "surface"
           }
          ],
          "table": [
           {
            "cells": {
             "fill": {
              "color": "#EBF0F8"
             },
             "line": {
              "color": "white"
             }
            },
            "header": {
             "fill": {
              "color": "#C8D4E3"
             },
             "line": {
              "color": "white"
             }
            },
            "type": "table"
           }
          ]
         },
         "layout": {
          "annotationdefaults": {
           "arrowcolor": "#2a3f5f",
           "arrowhead": 0,
           "arrowwidth": 1
          },
          "autotypenumbers": "strict",
          "coloraxis": {
           "colorbar": {
            "outlinewidth": 0,
            "ticks": ""
           }
          },
          "colorscale": {
           "diverging": [
            [
             0,
             "#8e0152"
            ],
            [
             0.1,
             "#c51b7d"
            ],
            [
             0.2,
             "#de77ae"
            ],
            [
             0.3,
             "#f1b6da"
            ],
            [
             0.4,
             "#fde0ef"
            ],
            [
             0.5,
             "#f7f7f7"
            ],
            [
             0.6,
             "#e6f5d0"
            ],
            [
             0.7,
             "#b8e186"
            ],
            [
             0.8,
             "#7fbc41"
            ],
            [
             0.9,
             "#4d9221"
            ],
            [
             1,
             "#276419"
            ]
           ],
           "sequential": [
            [
             0,
             "#0d0887"
            ],
            [
             0.1111111111111111,
             "#46039f"
            ],
            [
             0.2222222222222222,
             "#7201a8"
            ],
            [
             0.3333333333333333,
             "#9c179e"
            ],
            [
             0.4444444444444444,
             "#bd3786"
            ],
            [
             0.5555555555555556,
             "#d8576b"
            ],
            [
             0.6666666666666666,
             "#ed7953"
            ],
            [
             0.7777777777777778,
             "#fb9f3a"
            ],
            [
             0.8888888888888888,
             "#fdca26"
            ],
            [
             1,
             "#f0f921"
            ]
           ],
           "sequentialminus": [
            [
             0,
             "#0d0887"
            ],
            [
             0.1111111111111111,
             "#46039f"
            ],
            [
             0.2222222222222222,
             "#7201a8"
            ],
            [
             0.3333333333333333,
             "#9c179e"
            ],
            [
             0.4444444444444444,
             "#bd3786"
            ],
            [
             0.5555555555555556,
             "#d8576b"
            ],
            [
             0.6666666666666666,
             "#ed7953"
            ],
            [
             0.7777777777777778,
             "#fb9f3a"
            ],
            [
             0.8888888888888888,
             "#fdca26"
            ],
            [
             1,
             "#f0f921"
            ]
           ]
          },
          "colorway": [
           "#636efa",
           "#EF553B",
           "#00cc96",
           "#ab63fa",
           "#FFA15A",
           "#19d3f3",
           "#FF6692",
           "#B6E880",
           "#FF97FF",
           "#FECB52"
          ],
          "font": {
           "color": "#2a3f5f"
          },
          "geo": {
           "bgcolor": "white",
           "lakecolor": "white",
           "landcolor": "#E5ECF6",
           "showlakes": true,
           "showland": true,
           "subunitcolor": "white"
          },
          "hoverlabel": {
           "align": "left"
          },
          "hovermode": "closest",
          "mapbox": {
           "style": "light"
          },
          "paper_bgcolor": "white",
          "plot_bgcolor": "#E5ECF6",
          "polar": {
           "angularaxis": {
            "gridcolor": "white",
            "linecolor": "white",
            "ticks": ""
           },
           "bgcolor": "#E5ECF6",
           "radialaxis": {
            "gridcolor": "white",
            "linecolor": "white",
            "ticks": ""
           }
          },
          "scene": {
           "xaxis": {
            "backgroundcolor": "#E5ECF6",
            "gridcolor": "white",
            "gridwidth": 2,
            "linecolor": "white",
            "showbackground": true,
            "ticks": "",
            "zerolinecolor": "white"
           },
           "yaxis": {
            "backgroundcolor": "#E5ECF6",
            "gridcolor": "white",
            "gridwidth": 2,
            "linecolor": "white",
            "showbackground": true,
            "ticks": "",
            "zerolinecolor": "white"
           },
           "zaxis": {
            "backgroundcolor": "#E5ECF6",
            "gridcolor": "white",
            "gridwidth": 2,
            "linecolor": "white",
            "showbackground": true,
            "ticks": "",
            "zerolinecolor": "white"
           }
          },
          "shapedefaults": {
           "line": {
            "color": "#2a3f5f"
           }
          },
          "ternary": {
           "aaxis": {
            "gridcolor": "white",
            "linecolor": "white",
            "ticks": ""
           },
           "baxis": {
            "gridcolor": "white",
            "linecolor": "white",
            "ticks": ""
           },
           "bgcolor": "#E5ECF6",
           "caxis": {
            "gridcolor": "white",
            "linecolor": "white",
            "ticks": ""
           }
          },
          "title": {
           "x": 0.05
          },
          "xaxis": {
           "automargin": true,
           "gridcolor": "white",
           "linecolor": "white",
           "ticks": "",
           "title": {
            "standoff": 15
           },
           "zerolinecolor": "white",
           "zerolinewidth": 2
          },
          "yaxis": {
           "automargin": true,
           "gridcolor": "white",
           "linecolor": "white",
           "ticks": "",
           "title": {
            "standoff": 15
           },
           "zerolinecolor": "white",
           "zerolinewidth": 2
          }
         }
        },
        "xaxis": {
         "anchor": "y",
         "domain": [
          0,
          1
         ],
         "title": {
          "text": "0"
         }
        },
        "yaxis": {
         "anchor": "x",
         "domain": [
          0,
          1
         ],
         "title": {
          "text": "1"
         }
        }
       }
      },
      "text/html": [
       "<div>                            <div id=\"10e03d7a-5e44-4663-8e7e-d89ebe1a1b56\" class=\"plotly-graph-div\" style=\"height:525px; width:100%;\"></div>            <script type=\"text/javascript\">                require([\"plotly\"], function(Plotly) {                    window.PLOTLYENV=window.PLOTLYENV || {};                                    if (document.getElementById(\"10e03d7a-5e44-4663-8e7e-d89ebe1a1b56\")) {                    Plotly.newPlot(                        \"10e03d7a-5e44-4663-8e7e-d89ebe1a1b56\",                        [{\"hovertemplate\":\"color=text_oba<br>0=%{x}<br>1=%{y}<extra></extra>\",\"legendgroup\":\"text_oba\",\"marker\":{\"color\":\"rgb(127, 60, 141)\",\"symbol\":\"circle\"},\"mode\":\"markers\",\"name\":\"text_oba\",\"orientation\":\"v\",\"showlegend\":true,\"x\":[5.8032430035955125,6.873613899831376,8.858641273819895,6.762372637625319,6.0874959545733445,6.723747464715338,5.569405541195908,3.5436936867887705,6.947298993178176,5.342283997829986,4.634903983621506,0.769238871385785,9.463306169774276,4.613031047416282,5.832999054378117,6.258286964994472,4.6246156079175975,4.542644127596693,4.540285555452256,4.63876178574997,4.421184438637136,6.729516099004913,7.588994871024047,2.2432285068426983,9.85622029066619,5.833836478849952,5.395406508386809,2.4244424376959652,7.108720429870265,3.1679030066569434,6.8155387351848535,4.043855407218132,6.458240478959024,8.46017513563883,4.774934401580766,4.405502309299131,2.074023990280783,5.456458462603524,5.147219755795893,4.099362824402308,7.148223753416237,6.845427243303278,3.1321208117168684,9.047866904609418,7.453311432738898,10.99582858328017,8.300540404603863,9.133351817151482,8.007890295986542,7.110090874717888,7.013553925180411,7.7334391767860975,5.740867217463618,5.564279688286177,6.395583415006029,5.399054053381251,6.0686033458042825,6.717833766709904,8.257964848939961,2.920392282707565,3.9096290313928184,7.89830114283639,4.591770863922713,4.317622710959949,5.989193527467994,2.0700392063063116,3.573343848612438,2.7443321076246208,7.895872513106621,8.430434243521278,5.493883061297588,4.366527830975268,7.095026712435583,7.148164770024019,9.65620119565955,3.444877367745236,-0.2075141397376561,7.219560574867803,7.727025705823536,10.945325427490951,4.8441682303452245,8.639563128612068,4.465829596135664,4.6708582624705866,6.776572707886701,5.691542616655231,9.220112278577483,9.183331269978773,5.409559442202788,8.226424453473406,0.384481252386938,-5.68451624674731,6.4802078427284835,10.581277991825278,6.743955403630472,7.334127770854261,9.148596779306786,3.9410992986505327,8.165977205623498,7.632589835164375],\"xaxis\":\"x\",\"y\":[1.4207568766163177,2.312425089156263,-0.6466484939317342,-1.7049597845831985,-2.5094126286821576,-2.0041527775341437,-1.3691662811619663,-1.2696403465352013,0.07471525860888868,-3.5875137847077108,-1.4580498485292992,2.0825348187604655,-2.010860529770566,-1.4696409525947383,-2.3115611766422437,1.0329184432518999,1.76605184781232,-0.5806237653291728,-1.3561981535792853,-2.5521824387717538,-1.8927650901151962,-1.6452946364674756,-1.683853705352368,-2.061244820483475,2.301034479626163,3.5431645111269767,0.41397829822829607,-2.346297218711195,0.36114348306929045,-0.045771399863873956,3.6789829917943715,-1.1951715712534197,-0.03846447181103587,-0.6046157141565367,2.308811859907133,-2.823764645197839,-3.006210864172512,-2.3199051141539595,0.5670955382650247,-0.4362241586419391,0.5411468805137671,6.770431346100588,-1.49390916558582,5.535360806284809,1.2257010600899123,3.8205673612770834,2.0933469964273868,-0.9431947796276102,1.9077394510231303,1.5292151716571005,1.5437895691653645,-1.9874834634442549,2.468749925866466,-0.8362073002212866,1.2988108213184624,3.5546114862408413,-0.6257659796156924,-0.9147800947793348,1.9113226006454889,0.5847946719357986,-0.6984934028969384,1.4598611606368646,3.1938908367467054,-3.9221576617107705,-0.3537453710545856,-5.771383003897714,-2.473357795531081,3.4018716339300528,0.11005990487298856,0.7662995033119828,-1.7619331975216033,-1.1500709268943325,-1.0235769347939618,-0.0020445938724631034,0.37610097457473773,-1.868045657759786,-2.3052724302737944,0.2634333269719546,-0.826065296766922,1.573785241849365,-2.5741789711517207,1.4314498859933824,0.4843263557043034,-1.7982271215553756,-0.2947966151940978,-1.5578556786171796,1.784815900317384,0.31152459163628154,-2.810685568629308,0.7174874627122254,1.232926083225221,-5.60207466766791,-1.709143982532185,3.2189618760362206,0.14513083925811032,4.661550215472078,3.1690191721731176,-3.570080969354658,3.2526316982961934,0.5541234789869378],\"yaxis\":\"y\",\"type\":\"scatter\"},{\"hovertemplate\":\"color=text_nyt<br>0=%{x}<br>1=%{y}<extra></extra>\",\"legendgroup\":\"text_nyt\",\"marker\":{\"color\":\"rgb(17, 165, 121)\",\"symbol\":\"circle\"},\"mode\":\"markers\",\"name\":\"text_nyt\",\"orientation\":\"v\",\"showlegend\":true,\"x\":[-3.2457025699838717,-3.422792993919327,0.532122202619792,-2.9065366463794104,-1.9301020038004486,1.1441543557640683,-0.9618174244059883,-5.280360765684137,-3.3249483413120395,-0.8395106387098267,-4.637164064036529,-5.513763622484057,-2.985000814680135,-2.7933427719736446,-4.924060027618297,-0.2809132757468234,-1.8496086538033203,-1.838105714423126,-3.818320737521079,-3.8592577356244067,-1.324375395592886,-2.591915302337694,-2.4042262062650055,-4.225429796177734,-1.607980819360049,-4.626074744076363,-1.0434378523882106,-4.099564403046835,-7.12837284699959,-4.140092819356439,-3.8435667133856426,-4.059072496523741,-1.6437616525970737,-0.312755930179649,-1.9978722807986302,-3.1566876477264936,-3.4543067070062405,-3.0557230326198606,-3.05251366041287,-2.850619578670996,-0.2469579813672644,-3.762270370522018,-5.2020624879557,-1.9124282996436066,-1.9395518872960211,-3.726703666564506,0.25637018640923703,-3.195274388614744,-3.4849416090208183,-3.5419967020763767,-1.2176661105912572,-2.718155351886218,-1.8108413616108177,-2.125882550403208,-3.628349730140238,-2.222528810026656,-2.7602746018550426,-2.6101591478628463,-3.6153935598198976,-1.753863144141657,-2.6576605874522614,-1.6263289983909164,-5.091505002213886,-1.5594521835063027,-2.904169349659967,-3.6987763052108495,-3.6226902453711705,-2.4965357716898335,-2.8909483506535776,-2.333699932809868,-4.0778326426298355,-3.8250906012622514,-1.6494501477964592,5.478743185586046,-4.836879958826454,-4.459537487982428,-6.279566641057423,-0.7532531587508923,2.128779157909502,1.7080409063410962,-1.9821047113805146,0.05616738674954968,-3.65545214265809,-4.708196866992372,-1.8088281963138826,-3.491070676952733,-2.240424134466249,-4.282969244256091,-2.3837318565454964,-1.3915925163915994,-3.4163972054773,-5.203654492352584,-0.9573081275443638,-1.046416350883563,-3.526686389543448,-2.1366303879104116,-1.8796811996706106,-2.855260084891434,-4.459308320782796,0.3659314916530476],\"xaxis\":\"x\",\"y\":[3.3286054846307134,2.3852353903750223,-2.1990331350578463,1.0173014727136318,1.129460756059304,1.0390524369807832,1.2655653866957493,1.624273670094855,-3.247427783312445,-0.7293924681412285,0.4440199916880044,1.1699432682656126,-4.273906249381155,3.2802452092660594,0.2797395250735561,0.40823352863697554,-1.8393236633311638,-0.3679692011914309,-0.43829548881087443,-0.6388099251056404,-0.124330863256706,-3.7213410681865673,-1.04189788422313,-0.179455096800088,1.04943664797565,3.042138251029115,-0.34644897847581024,0.5616240040642323,-6.008754503758861,1.2742343181721407,3.1883021050112146,-1.7309271038067742,-1.6671521467545154,-0.1113291698721302,3.9709655833185438,-2.7938646132787364,-0.5715912773990827,-1.8399219210543751,-0.6215298319989011,0.9669098445921649,-4.702758657841355,6.121721632554293,-0.12340028772301333,3.190171499748513,-1.497205930839677,4.148298263603171,3.2340524558519474,0.1173731269575434,0.3675609920998828,4.302287386173864,-0.3594642997096952,1.7605019566586344,-0.5880567714083167,-0.8231461012763339,2.23257137692183,3.6867885518818673,-2.958270727391909,-0.9760001343238298,5.74772941610206,3.176233952120482,-0.5066761926879833,0.3784723227768331,3.2736256391047887,-1.936244506392651,0.14113306469447515,-1.5981476362132747,0.8237521706317322,2.0930839415376097,-0.7017582307886319,0.5310814408607244,-0.35123753080523495,2.651700451102152,-2.350461075531023,-0.5485236924585736,-0.038232372539447515,-0.6267945174947591,1.083946484758164,-1.3934505178520697,-2.031447954287623,-1.8445455954523209,-1.7190337964694065,1.3368109413379141,4.069770518188156,-2.9207505037951047,-5.619642699376749,0.6860497097191192,4.065286676305553,2.6764512540723078,-4.022214344029894,-0.31883947348952857,1.5626309699729162,0.28866477556959863,0.21465241687026423,0.7731348689583526,2.6976809292511956,2.4714963468093454,1.3736621721492375,0.1129056311858003,2.032421045854526,1.9956693320195265],\"yaxis\":\"y\",\"type\":\"scatter\"},{\"hovertemplate\":\"color=text_wsj<br>0=%{x}<br>1=%{y}<extra></extra>\",\"legendgroup\":\"text_wsj\",\"marker\":{\"color\":\"rgb(57, 105, 172)\",\"symbol\":\"circle\"},\"mode\":\"markers\",\"name\":\"text_wsj\",\"orientation\":\"v\",\"showlegend\":true,\"x\":[-3.515470575801589,-4.623719965162284,-0.13602125283206337,-3.320453172010618,-1.2237747685674372,-0.20257704023339373,-2.7424723834421267,-4.533688656380277,-5.873272964163741,-3.5986825116628602,-4.591995977741197,-5.58336427868902,-2.844289041831476,-3.894777407484284,-5.298647268678516,-0.23476605462149733,-1.9861365968520768,-0.9512586387857276,-4.702819229043798,-3.5871863305946063,-0.4264829161188786,-1.8760588581901474,-5.958241823108102,-2.496806016042252,-5.163786621917259,-5.325166204692198,-1.3752197261687478,-5.034489497657536,-3.8541553439344365,-6.291853773394625,-3.7746287167233192,-3.82984001357094,-1.294816874872403,-1.809358138304115,-4.391565146244374,-2.7208051673579012,-4.831382686590233,-2.57092626520584,-2.1553695727596405,-2.19473045471466,-4.2920935478086335,-2.3931413908570898,-4.48332446048766,-2.498142631780515,-3.008725663532418,-5.75726835263802,-0.9525202950478394,-2.782778687087348,-5.682514455314874,-4.996984095210903,-0.19271386939167665,-4.005633872226834,-0.49676861883846213,-1.9585227253558606,-2.4276130735946033,-4.93293256509667,-2.055830131825077,-2.0725095655081063,-2.721354729263013,-2.719839316931351,-1.975738491294322,-0.49795205480392096,-6.460740530566799,-1.2004881336635405,-0.1081149746220706,-3.0133499119751246,-1.2859647883712655,-3.5831653729790345,-3.0441517680723535,-1.5073353563175969,-5.270888613309444,-3.2421915698615664,0.5191990769022953,3.933952880483451,-5.624607160569139,-3.137959867635241,-5.841851497046401,-2.3954811970827303,0.8794697478315949,-0.07066277919401741,-1.5130826736046328,-1.277723864326242,-6.13011524021531,-1.4731789802429707,-2.195762600327967,-2.8998559521505074,-2.1165786139053693,-5.148973394507167,-2.4556659239181235,-1.9193565854103416,-2.58321229765922,-5.929057263426186,-1.9025430496923057,0.8782695905822225,-6.255222657290472,-2.4792156976948956,-4.543910894488004,-1.7207460700571948,-3.9866548945063536,-1.2304999806157357],\"xaxis\":\"x\",\"y\":[2.659996740780884,0.3771056897818227,-2.9144291374113216,1.840979931554225,-1.3609104299633652,-2.8006660335279774,0.17286529649494273,1.805056194205465,-4.976886152527888,-2.812568411914963,0.45668969554225486,3.2174707246894974,-2.252443654704843,4.254656524153913,-0.56946542782652,-0.6716625609856279,-0.3868559261049136,-1.6481816412673516,-2.301289783701724,-3.5512479278001607,-2.8369079844332,-0.6721601855693123,-3.589447563483486,-0.12646015729516177,-0.2887779477064405,6.516826960501966,-2.0785737069950496,-2.897447263328558,-3.1679331568349003,1.4939092867536705,3.8438279137286546,-1.2985806926126007,-2.808937499832622,-2.3275861661383925,-0.7893405272211819,-1.82299635514258,-1.1407506754969299,-3.482595205867012,-0.6041462928426582,-1.3098364080291438,-5.305566228658849,3.9245864836514426,-0.6265758581709674,2.9283827014712283,-1.8999831326937864,4.352919883916774,0.9382767762971207,-0.030287542805619416,1.1029043686553996,4.706519208651656,-0.7020865408201151,0.8292667585294885,1.5719973919639103,0.06527846588424854,3.11118432398322,2.618216328808726,-1.5966432707063638,-3.0470568480925837,2.7184510030010127,1.919899918882153,-0.14900350232055318,-1.9733287747290302,2.564320383270878,-1.946445809973196,-0.4129143818706889,-0.5171161373941024,-1.292978658885455,0.6293145737999424,0.5916901473644924,-1.2815473795660612,-2.2929316865154026,1.9838247801278919,-4.174312605284692,1.4645054169015166,0.6856825929632347,-2.1081062837311264,1.5909386670314987,-1.437029792574914,-1.4912354919687585,-3.7056478842165186,-3.1635789179168876,-1.6270008741258388,5.381112293161666,-0.9029914411673069,-5.30457786615875,0.1114123745873998,3.1283918354368367,0.44946139991906725,-5.235060819670357,0.4861009172887967,0.0048204069876227,2.8282591097537364,-0.3341726283530083,0.14831621062526493,3.833880381240806,3.8422633017466032,2.1672265965191544,-5.81385637197697,2.0909545833049554,0.30543977816240453],\"yaxis\":\"y\",\"type\":\"scatter\"},{\"hovertemplate\":\"color=FoxNews<br>0=%{x}<br>1=%{y}<extra></extra>\",\"legendgroup\":\"FoxNews\",\"marker\":{\"color\":\"rgb(242, 183, 1)\",\"symbol\":\"circle\"},\"mode\":\"markers\",\"name\":\"FoxNews\",\"orientation\":\"v\",\"showlegend\":true,\"x\":[-7.391743094527398,-4.54723594975655],\"xaxis\":\"x\",\"y\":[2.0131820261436575,1.1904206725643207],\"yaxis\":\"y\",\"type\":\"scatter\"},{\"hovertemplate\":\"color=InfoWars<br>0=%{x}<br>1=%{y}<extra></extra>\",\"legendgroup\":\"InfoWars\",\"marker\":{\"color\":\"rgb(231, 63, 116)\",\"symbol\":\"circle\"},\"mode\":\"markers\",\"name\":\"InfoWars\",\"orientation\":\"v\",\"showlegend\":true,\"x\":[-2.9208498626474007,-5.882511106252943,-8.637472412829837],\"xaxis\":\"x\",\"y\":[0.5609297052589985,0.2796286331887441,-2.364271406134781],\"yaxis\":\"y\",\"type\":\"scatter\"},{\"hovertemplate\":\"color=NationalReview<br>0=%{x}<br>1=%{y}<extra></extra>\",\"legendgroup\":\"NationalReview\",\"marker\":{\"color\":\"rgb(128, 186, 90)\",\"symbol\":\"circle\"},\"mode\":\"markers\",\"name\":\"NationalReview\",\"orientation\":\"v\",\"showlegend\":true,\"x\":[-6.216451208564068,-3.79696617989323,2.0881728117490646,-3.254146888479252],\"xaxis\":\"x\",\"y\":[1.9319177362099136,-4.23084546837629,-2.5277390582927746,0.43518881643873625],\"yaxis\":\"y\",\"type\":\"scatter\"},{\"hovertemplate\":\"color=Intercept<br>0=%{x}<br>1=%{y}<extra></extra>\",\"legendgroup\":\"Intercept\",\"marker\":{\"color\":\"rgb(230, 131, 16)\",\"symbol\":\"circle\"},\"mode\":\"markers\",\"name\":\"Intercept\",\"orientation\":\"v\",\"showlegend\":true,\"x\":[-1.4399097309012643],\"xaxis\":\"x\",\"y\":[0.1081441783726349],\"yaxis\":\"y\",\"type\":\"scatter\"}],                        {\"template\":{\"data\":{\"histogram2dcontour\":[{\"type\":\"histogram2dcontour\",\"colorbar\":{\"outlinewidth\":0,\"ticks\":\"\"},\"colorscale\":[[0.0,\"#0d0887\"],[0.1111111111111111,\"#46039f\"],[0.2222222222222222,\"#7201a8\"],[0.3333333333333333,\"#9c179e\"],[0.4444444444444444,\"#bd3786\"],[0.5555555555555556,\"#d8576b\"],[0.6666666666666666,\"#ed7953\"],[0.7777777777777778,\"#fb9f3a\"],[0.8888888888888888,\"#fdca26\"],[1.0,\"#f0f921\"]]}],\"choropleth\":[{\"type\":\"choropleth\",\"colorbar\":{\"outlinewidth\":0,\"ticks\":\"\"}}],\"histogram2d\":[{\"type\":\"histogram2d\",\"colorbar\":{\"outlinewidth\":0,\"ticks\":\"\"},\"colorscale\":[[0.0,\"#0d0887\"],[0.1111111111111111,\"#46039f\"],[0.2222222222222222,\"#7201a8\"],[0.3333333333333333,\"#9c179e\"],[0.4444444444444444,\"#bd3786\"],[0.5555555555555556,\"#d8576b\"],[0.6666666666666666,\"#ed7953\"],[0.7777777777777778,\"#fb9f3a\"],[0.8888888888888888,\"#fdca26\"],[1.0,\"#f0f921\"]]}],\"heatmap\":[{\"type\":\"heatmap\",\"colorbar\":{\"outlinewidth\":0,\"ticks\":\"\"},\"colorscale\":[[0.0,\"#0d0887\"],[0.1111111111111111,\"#46039f\"],[0.2222222222222222,\"#7201a8\"],[0.3333333333333333,\"#9c179e\"],[0.4444444444444444,\"#bd3786\"],[0.5555555555555556,\"#d8576b\"],[0.6666666666666666,\"#ed7953\"],[0.7777777777777778,\"#fb9f3a\"],[0.8888888888888888,\"#fdca26\"],[1.0,\"#f0f921\"]]}],\"heatmapgl\":[{\"type\":\"heatmapgl\",\"colorbar\":{\"outlinewidth\":0,\"ticks\":\"\"},\"colorscale\":[[0.0,\"#0d0887\"],[0.1111111111111111,\"#46039f\"],[0.2222222222222222,\"#7201a8\"],[0.3333333333333333,\"#9c179e\"],[0.4444444444444444,\"#bd3786\"],[0.5555555555555556,\"#d8576b\"],[0.6666666666666666,\"#ed7953\"],[0.7777777777777778,\"#fb9f3a\"],[0.8888888888888888,\"#fdca26\"],[1.0,\"#f0f921\"]]}],\"contourcarpet\":[{\"type\":\"contourcarpet\",\"colorbar\":{\"outlinewidth\":0,\"ticks\":\"\"}}],\"contour\":[{\"type\":\"contour\",\"colorbar\":{\"outlinewidth\":0,\"ticks\":\"\"},\"colorscale\":[[0.0,\"#0d0887\"],[0.1111111111111111,\"#46039f\"],[0.2222222222222222,\"#7201a8\"],[0.3333333333333333,\"#9c179e\"],[0.4444444444444444,\"#bd3786\"],[0.5555555555555556,\"#d8576b\"],[0.6666666666666666,\"#ed7953\"],[0.7777777777777778,\"#fb9f3a\"],[0.8888888888888888,\"#fdca26\"],[1.0,\"#f0f921\"]]}],\"surface\":[{\"type\":\"surface\",\"colorbar\":{\"outlinewidth\":0,\"ticks\":\"\"},\"colorscale\":[[0.0,\"#0d0887\"],[0.1111111111111111,\"#46039f\"],[0.2222222222222222,\"#7201a8\"],[0.3333333333333333,\"#9c179e\"],[0.4444444444444444,\"#bd3786\"],[0.5555555555555556,\"#d8576b\"],[0.6666666666666666,\"#ed7953\"],[0.7777777777777778,\"#fb9f3a\"],[0.8888888888888888,\"#fdca26\"],[1.0,\"#f0f921\"]]}],\"mesh3d\":[{\"type\":\"mesh3d\",\"colorbar\":{\"outlinewidth\":0,\"ticks\":\"\"}}],\"scatter\":[{\"fillpattern\":{\"fillmode\":\"overlay\",\"size\":10,\"solidity\":0.2},\"type\":\"scatter\"}],\"parcoords\":[{\"type\":\"parcoords\",\"line\":{\"colorbar\":{\"outlinewidth\":0,\"ticks\":\"\"}}}],\"scatterpolargl\":[{\"type\":\"scatterpolargl\",\"marker\":{\"colorbar\":{\"outlinewidth\":0,\"ticks\":\"\"}}}],\"bar\":[{\"error_x\":{\"color\":\"#2a3f5f\"},\"error_y\":{\"color\":\"#2a3f5f\"},\"marker\":{\"line\":{\"color\":\"#E5ECF6\",\"width\":0.5},\"pattern\":{\"fillmode\":\"overlay\",\"size\":10,\"solidity\":0.2}},\"type\":\"bar\"}],\"scattergeo\":[{\"type\":\"scattergeo\",\"marker\":{\"colorbar\":{\"outlinewidth\":0,\"ticks\":\"\"}}}],\"scatterpolar\":[{\"type\":\"scatterpolar\",\"marker\":{\"colorbar\":{\"outlinewidth\":0,\"ticks\":\"\"}}}],\"histogram\":[{\"marker\":{\"pattern\":{\"fillmode\":\"overlay\",\"size\":10,\"solidity\":0.2}},\"type\":\"histogram\"}],\"scattergl\":[{\"type\":\"scattergl\",\"marker\":{\"colorbar\":{\"outlinewidth\":0,\"ticks\":\"\"}}}],\"scatter3d\":[{\"type\":\"scatter3d\",\"line\":{\"colorbar\":{\"outlinewidth\":0,\"ticks\":\"\"}},\"marker\":{\"colorbar\":{\"outlinewidth\":0,\"ticks\":\"\"}}}],\"scattermapbox\":[{\"type\":\"scattermapbox\",\"marker\":{\"colorbar\":{\"outlinewidth\":0,\"ticks\":\"\"}}}],\"scatterternary\":[{\"type\":\"scatterternary\",\"marker\":{\"colorbar\":{\"outlinewidth\":0,\"ticks\":\"\"}}}],\"scattercarpet\":[{\"type\":\"scattercarpet\",\"marker\":{\"colorbar\":{\"outlinewidth\":0,\"ticks\":\"\"}}}],\"carpet\":[{\"aaxis\":{\"endlinecolor\":\"#2a3f5f\",\"gridcolor\":\"white\",\"linecolor\":\"white\",\"minorgridcolor\":\"white\",\"startlinecolor\":\"#2a3f5f\"},\"baxis\":{\"endlinecolor\":\"#2a3f5f\",\"gridcolor\":\"white\",\"linecolor\":\"white\",\"minorgridcolor\":\"white\",\"startlinecolor\":\"#2a3f5f\"},\"type\":\"carpet\"}],\"table\":[{\"cells\":{\"fill\":{\"color\":\"#EBF0F8\"},\"line\":{\"color\":\"white\"}},\"header\":{\"fill\":{\"color\":\"#C8D4E3\"},\"line\":{\"color\":\"white\"}},\"type\":\"table\"}],\"barpolar\":[{\"marker\":{\"line\":{\"color\":\"#E5ECF6\",\"width\":0.5},\"pattern\":{\"fillmode\":\"overlay\",\"size\":10,\"solidity\":0.2}},\"type\":\"barpolar\"}],\"pie\":[{\"automargin\":true,\"type\":\"pie\"}]},\"layout\":{\"autotypenumbers\":\"strict\",\"colorway\":[\"#636efa\",\"#EF553B\",\"#00cc96\",\"#ab63fa\",\"#FFA15A\",\"#19d3f3\",\"#FF6692\",\"#B6E880\",\"#FF97FF\",\"#FECB52\"],\"font\":{\"color\":\"#2a3f5f\"},\"hovermode\":\"closest\",\"hoverlabel\":{\"align\":\"left\"},\"paper_bgcolor\":\"white\",\"plot_bgcolor\":\"#E5ECF6\",\"polar\":{\"bgcolor\":\"#E5ECF6\",\"angularaxis\":{\"gridcolor\":\"white\",\"linecolor\":\"white\",\"ticks\":\"\"},\"radialaxis\":{\"gridcolor\":\"white\",\"linecolor\":\"white\",\"ticks\":\"\"}},\"ternary\":{\"bgcolor\":\"#E5ECF6\",\"aaxis\":{\"gridcolor\":\"white\",\"linecolor\":\"white\",\"ticks\":\"\"},\"baxis\":{\"gridcolor\":\"white\",\"linecolor\":\"white\",\"ticks\":\"\"},\"caxis\":{\"gridcolor\":\"white\",\"linecolor\":\"white\",\"ticks\":\"\"}},\"coloraxis\":{\"colorbar\":{\"outlinewidth\":0,\"ticks\":\"\"}},\"colorscale\":{\"sequential\":[[0.0,\"#0d0887\"],[0.1111111111111111,\"#46039f\"],[0.2222222222222222,\"#7201a8\"],[0.3333333333333333,\"#9c179e\"],[0.4444444444444444,\"#bd3786\"],[0.5555555555555556,\"#d8576b\"],[0.6666666666666666,\"#ed7953\"],[0.7777777777777778,\"#fb9f3a\"],[0.8888888888888888,\"#fdca26\"],[1.0,\"#f0f921\"]],\"sequentialminus\":[[0.0,\"#0d0887\"],[0.1111111111111111,\"#46039f\"],[0.2222222222222222,\"#7201a8\"],[0.3333333333333333,\"#9c179e\"],[0.4444444444444444,\"#bd3786\"],[0.5555555555555556,\"#d8576b\"],[0.6666666666666666,\"#ed7953\"],[0.7777777777777778,\"#fb9f3a\"],[0.8888888888888888,\"#fdca26\"],[1.0,\"#f0f921\"]],\"diverging\":[[0,\"#8e0152\"],[0.1,\"#c51b7d\"],[0.2,\"#de77ae\"],[0.3,\"#f1b6da\"],[0.4,\"#fde0ef\"],[0.5,\"#f7f7f7\"],[0.6,\"#e6f5d0\"],[0.7,\"#b8e186\"],[0.8,\"#7fbc41\"],[0.9,\"#4d9221\"],[1,\"#276419\"]]},\"xaxis\":{\"gridcolor\":\"white\",\"linecolor\":\"white\",\"ticks\":\"\",\"title\":{\"standoff\":15},\"zerolinecolor\":\"white\",\"automargin\":true,\"zerolinewidth\":2},\"yaxis\":{\"gridcolor\":\"white\",\"linecolor\":\"white\",\"ticks\":\"\",\"title\":{\"standoff\":15},\"zerolinecolor\":\"white\",\"automargin\":true,\"zerolinewidth\":2},\"scene\":{\"xaxis\":{\"backgroundcolor\":\"#E5ECF6\",\"gridcolor\":\"white\",\"linecolor\":\"white\",\"showbackground\":true,\"ticks\":\"\",\"zerolinecolor\":\"white\",\"gridwidth\":2},\"yaxis\":{\"backgroundcolor\":\"#E5ECF6\",\"gridcolor\":\"white\",\"linecolor\":\"white\",\"showbackground\":true,\"ticks\":\"\",\"zerolinecolor\":\"white\",\"gridwidth\":2},\"zaxis\":{\"backgroundcolor\":\"#E5ECF6\",\"gridcolor\":\"white\",\"linecolor\":\"white\",\"showbackground\":true,\"ticks\":\"\",\"zerolinecolor\":\"white\",\"gridwidth\":2}},\"shapedefaults\":{\"line\":{\"color\":\"#2a3f5f\"}},\"annotationdefaults\":{\"arrowcolor\":\"#2a3f5f\",\"arrowhead\":0,\"arrowwidth\":1},\"geo\":{\"bgcolor\":\"white\",\"landcolor\":\"#E5ECF6\",\"subunitcolor\":\"white\",\"showland\":true,\"showlakes\":true,\"lakecolor\":\"white\"},\"title\":{\"x\":0.05},\"mapbox\":{\"style\":\"light\"}}},\"xaxis\":{\"anchor\":\"y\",\"domain\":[0.0,1.0],\"title\":{\"text\":\"0\"}},\"yaxis\":{\"anchor\":\"x\",\"domain\":[0.0,1.0],\"title\":{\"text\":\"1\"}},\"legend\":{\"title\":{\"text\":\"color\"},\"tracegroupgap\":0},\"margin\":{\"t\":60}},                        {\"responsive\": true}                    ).then(function(){\n",
       "                            \n",
       "var gd = document.getElementById('10e03d7a-5e44-4663-8e7e-d89ebe1a1b56');\n",
       "var x = new MutationObserver(function (mutations, observer) {{\n",
       "        var display = window.getComputedStyle(gd).display;\n",
       "        if (!display || display === 'none') {{\n",
       "            console.log([gd, 'removed!']);\n",
       "            Plotly.purge(gd);\n",
       "            observer.disconnect();\n",
       "        }}\n",
       "}});\n",
       "\n",
       "// Listen for the removal of the full notebook cells\n",
       "var notebookContainer = gd.closest('#notebook-container');\n",
       "if (notebookContainer) {{\n",
       "    x.observe(notebookContainer, {childList: true});\n",
       "}}\n",
       "\n",
       "// Listen for the clearing of the current output cell\n",
       "var outputEl = gd.closest('.output');\n",
       "if (outputEl) {{\n",
       "    x.observe(outputEl, {childList: true});\n",
       "}}\n",
       "\n",
       "                        })                };                });            </script>        </div>"
      ]
     },
     "metadata": {},
     "output_type": "display_data"
    }
   ],
   "source": [
    "fig = px.scatter(pcafit, \n",
    "                 x=0, \n",
    "                 y=1, \n",
    "                 color=pcaBiplotData['source'],\n",
    "                 color_discrete_sequence=px.colors.qualitative.Bold)\n",
    "fig.show()"
   ]
  },
  {
   "cell_type": "code",
   "execution_count": 98,
   "id": "191102b8",
   "metadata": {},
   "outputs": [
    {
     "data": {
      "text/plain": [
       "0              10.995829\n",
       "1               3.820567\n",
       "2    2012-07-21 00:00:00\n",
       "3               text_oba\n",
       "Name: 140, dtype: object"
      ]
     },
     "execution_count": 98,
     "metadata": {},
     "output_type": "execute_result"
    }
   ],
   "source": [
    "# What is that NYT way out there?\n",
    "plot_data.loc[plot_data[0].idxmax()]"
   ]
  },
  {
   "cell_type": "markdown",
   "id": "20dccc14",
   "metadata": {},
   "source": [
    "Very short article announcing new Intel fab and mentioning that Obama spoke at Intel."
   ]
  },
  {
   "cell_type": "markdown",
   "id": "937b40bf",
   "metadata": {},
   "source": [
    "Save the data"
   ]
  },
  {
   "cell_type": "code",
   "execution_count": 67,
   "id": "bad460cc",
   "metadata": {},
   "outputs": [],
   "source": [
    "pcaBiplotData.to_csv('pcaBiplotData.csv', index=False)"
   ]
  },
  {
   "cell_type": "code",
   "execution_count": 68,
   "id": "f2153dd1",
   "metadata": {},
   "outputs": [],
   "source": [
    "df.to_csv('df_encodings.csv')"
   ]
  },
  {
   "cell_type": "markdown",
   "id": "0a741a07",
   "metadata": {},
   "source": [
    "Playing with python's PCA"
   ]
  },
  {
   "cell_type": "code",
   "execution_count": 69,
   "id": "32a69aac",
   "metadata": {},
   "outputs": [],
   "source": [
    "pca2 = PCA(n_components = 10)\n",
    "pcafit2 = pca2.fit_transform(pcaBiplotData.loc[:, pcaBiplotData.columns.str.startswith('enc')])"
   ]
  },
  {
   "cell_type": "code",
   "execution_count": 70,
   "id": "613311f3",
   "metadata": {},
   "outputs": [
    {
     "name": "stdout",
     "output_type": "stream",
     "text": [
      "[81.78093018 42.05430485 31.00536398 29.35742016 20.7621332  17.90038185\n",
      " 17.76776161 16.05083271 13.82075759 13.030196  ]\n"
     ]
    }
   ],
   "source": [
    "# The singular values corresponding to each of the selected components - guessing they're refering to eigenvalues\n",
    "print(pca2.singular_values_)"
   ]
  },
  {
   "cell_type": "code",
   "execution_count": 71,
   "id": "3af4b37f",
   "metadata": {},
   "outputs": [
    {
     "name": "stdout",
     "output_type": "stream",
     "text": [
      "[21.64440304  5.72350989  3.11110872  2.78918485  1.39503616  1.03696981\n",
      "  1.02166134  0.83375156  0.61816615  0.54946928]\n"
     ]
    }
   ],
   "source": [
    "# The amount of variance explained by each of the selected components.\n",
    "print(pca2.explained_variance_)"
   ]
  },
  {
   "cell_type": "code",
   "execution_count": 72,
   "id": "3d4a0916",
   "metadata": {},
   "outputs": [
    {
     "name": "stdout",
     "output_type": "stream",
     "text": [
      "[0.47480208 0.12555368 0.06824678 0.06118491 0.03060219 0.02274747\n",
      " 0.02241166 0.01828958 0.01356039 0.01205342]\n"
     ]
    }
   ],
   "source": [
    "# Percentage of variance explained by each of the selected components.\n",
    "print(pca2.explained_variance_ratio_)"
   ]
  },
  {
   "cell_type": "code",
   "execution_count": 73,
   "id": "b2fd093c",
   "metadata": {},
   "outputs": [],
   "source": [
    "# Sklearn's T-SNE\n",
    "# https://scikit-learn.org/stable/modules/generated/sklearn.manifold.TSNE.html\n",
    "from sklearn import manifold"
   ]
  },
  {
   "cell_type": "code",
   "execution_count": 74,
   "id": "a1f9f3be",
   "metadata": {},
   "outputs": [
    {
     "name": "stderr",
     "output_type": "stream",
     "text": [
      "/home/muddy/.local/lib/python3.10/site-packages/sklearn/manifold/_t_sne.py:810: FutureWarning:\n",
      "\n",
      "The default learning rate in TSNE will change from 200.0 to 'auto' in 1.2.\n",
      "\n"
     ]
    },
    {
     "data": {
      "application/vnd.plotly.v1+json": {
       "config": {
        "plotlyServerURL": "https://plot.ly"
       },
       "data": [
        {
         "hovertemplate": "color=text_oba<br>0=%{x}<br>1=%{y}<extra></extra>",
         "legendgroup": "text_oba",
         "marker": {
          "color": "rgb(127, 60, 141)",
          "symbol": "circle"
         },
         "mode": "markers",
         "name": "text_oba",
         "orientation": "v",
         "showlegend": true,
         "type": "scatter",
         "x": [
          1.8654340505599976,
          -3.7954883575439453,
          1.2041397094726562,
          5.735947608947754,
          0.7105698585510254,
          1.8597359657287598,
          0.28485074639320374,
          -0.6638705730438232,
          0.7837364673614502,
          0.1275169849395752,
          -2.496737480163574,
          0.09749400615692139,
          -2.5092356204986572,
          2.110290050506592,
          1.7316670417785645,
          2.459566354751587,
          2.101213216781616,
          1.1051335334777832,
          0.9178870916366577,
          -0.231070876121521,
          0.6327565908432007,
          0.18033051490783691,
          0.6304743885993958,
          5.074860095977783,
          2.4781081676483154,
          2.192936897277832,
          1.3102068901062012,
          1.1734389066696167,
          3.735198497772217,
          1.5463398694992065,
          2.6252188682556152,
          -1.3191174268722534,
          0.9199152588844299,
          3.1154305934906006,
          0.4857379198074341,
          0.4985201060771942,
          2.545867919921875,
          1.5229589939117432,
          0.2584707736968994,
          2.4969892501831055,
          1.7143957614898682,
          2.553893566131592,
          2.2285051345825195,
          1.369613766670227,
          1.3204493522644043,
          1.3761838674545288,
          4.037976264953613,
          1.9457305669784546,
          1.7565343379974365,
          1.5731651782989502,
          0.8076272010803223,
          -0.8745006322860718,
          -0.1274086833000183,
          3.3454203605651855,
          0.8811401128768921,
          1.1103956699371338,
          0.44670796394348145,
          1.0187921524047852,
          1.6184701919555664,
          2.69813871383667,
          1.7500946521759033,
          -0.6469448804855347,
          0.8629311323165894,
          2.0928258895874023,
          0.7163838744163513,
          0.7768709659576416,
          10.328425407409668,
          1.6583402156829834,
          2.7988088130950928,
          2.3523623943328857,
          0.7400093078613281,
          1.1945688724517822,
          0.8837863802909851,
          9.889060974121094,
          1.8703293800354004,
          -2.9493038654327393,
          -4.1310272216796875,
          -16.85917091369629,
          0.027045130729675293,
          1.7759023904800415,
          -0.8736157417297363,
          1.7996444702148438,
          -3.2767910957336426,
          -0.43993252515792847,
          1.031884789466858,
          1.9031175374984741,
          3.8550076484680176,
          0.7331591844558716,
          3.8988847732543945,
          -4.1356000900268555,
          0.522908627986908,
          -0.316750705242157,
          1.7566590309143066,
          -17.42554473876953,
          -0.5361478328704834,
          1.5495648384094238,
          -0.37636494636535645,
          -0.05966305732727051,
          1.7677667140960693,
          2.6399779319763184
         ],
         "xaxis": "x",
         "y": [
          -5.436565399169922,
          -14.576501846313477,
          -7.416962623596191,
          -8.204791069030762,
          -2.7729673385620117,
          -7.247067928314209,
          -5.464535713195801,
          -4.77400016784668,
          -10.46169662475586,
          -7.921433925628662,
          -5.516733169555664,
          -6.9952826499938965,
          -7.233489990234375,
          -5.437755107879639,
          -3.74302077293396,
          -6.81475830078125,
          -7.330801963806152,
          -7.882567882537842,
          -6.228524208068848,
          -6.899524211883545,
          -5.100600242614746,
          -7.035801887512207,
          -7.521516799926758,
          -3.3353707790374756,
          -7.138784885406494,
          -3.8517749309539795,
          -5.781062126159668,
          -7.279315948486328,
          -7.6671319007873535,
          -4.17435359954834,
          -6.057620048522949,
          -9.75070571899414,
          -10.224533081054688,
          -7.458702564239502,
          -6.9040632247924805,
          -8.449888229370117,
          -4.595001220703125,
          -4.942207336425781,
          -6.213761806488037,
          -8.057144165039062,
          -6.935281276702881,
          -7.20874547958374,
          -3.9285569190979004,
          -7.854968070983887,
          -7.256288051605225,
          -6.67294979095459,
          -3.5738635063171387,
          -5.443599700927734,
          -7.057742595672607,
          -5.110515594482422,
          -7.635403156280518,
          -3.644440174102783,
          -7.2816009521484375,
          -3.496607780456543,
          -6.585744857788086,
          -5.478754997253418,
          -5.047260284423828,
          -3.620814323425293,
          -7.7848801612854,
          -5.701728343963623,
          -5.122087001800537,
          -8.195648193359375,
          -5.0459394454956055,
          -5.60465669631958,
          -6.856276512145996,
          -4.834928035736084,
          2.0011653900146484,
          -4.235922813415527,
          -7.429200172424316,
          -6.608589172363281,
          -4.996351718902588,
          -5.56795597076416,
          -2.380849838256836,
          -6.339103698730469,
          -6.9367594718933105,
          -5.204696178436279,
          -5.507479190826416,
          -11.84453296661377,
          -6.309850215911865,
          -7.911919593811035,
          -8.48990249633789,
          -7.554216384887695,
          -0.8796901702880859,
          -7.508532524108887,
          -6.960986137390137,
          -3.087225914001465,
          -4.7266387939453125,
          -7.087031364440918,
          -5.190790176391602,
          -4.350800514221191,
          -0.8305137157440186,
          1.3250372409820557,
          -7.890332221984863,
          1.1332954168319702,
          -5.548984050750732,
          -6.562851905822754,
          -7.779782295227051,
          -7.267183303833008,
          -6.644905090332031,
          -8.174515724182129
         ],
         "yaxis": "y"
        },
        {
         "hovertemplate": "color=text_nyt<br>0=%{x}<br>1=%{y}<extra></extra>",
         "legendgroup": "text_nyt",
         "marker": {
          "color": "rgb(17, 165, 121)",
          "symbol": "circle"
         },
         "mode": "markers",
         "name": "text_nyt",
         "orientation": "v",
         "showlegend": true,
         "type": "scatter",
         "x": [
          4.0353827476501465,
          -5.491243362426758,
          1.0734748840332031,
          -2.1170763969421387,
          -1.3236126899719238,
          -2.5887162685394287,
          3.6548173427581787,
          -0.058238863945007324,
          -3.445131778717041,
          -1.3301541805267334,
          0.0841604471206665,
          -0.28156256675720215,
          -4.922008037567139,
          -3.42733097076416,
          -0.6022947430610657,
          -3.2023110389709473,
          -2.693329334259033,
          -1.7417025566101074,
          -2.8013997077941895,
          -3.726081371307373,
          -2.37878155708313,
          -0.9780239462852478,
          -1.7861624956130981,
          0.5120563507080078,
          -1.1754651069641113,
          1.5662628412246704,
          -5.250934600830078,
          -2.820668935775757,
          -1.2600834369659424,
          1.762760877609253,
          1.0574731826782227,
          -0.9164201021194458,
          -5.611321449279785,
          -2.953502655029297,
          1.865951657295227,
          -2.3461432456970215,
          -5.257844924926758,
          -2.727191686630249,
          0.4714691638946533,
          -0.026581764221191406,
          -2.9282896518707275,
          1.7343504428863525,
          2.15421724319458,
          -7.56135892868042,
          -1.9421730041503906,
          -0.05843853950500488,
          -1.4751527309417725,
          1.818131923675537,
          1.6062164306640625,
          -1.483962059020996,
          -6.031020164489746,
          4.105264663696289,
          -7.466787815093994,
          -3.3158493041992188,
          1.4113199710845947,
          -1.0636911392211914,
          -1.3983430862426758,
          -2.415438175201416,
          -2.320369243621826,
          -1.9611459970474243,
          -7.2748637199401855,
          -1.9511377811431885,
          -6.457773208618164,
          0.029674530029296875,
          -8.694393157958984,
          -1.937736988067627,
          -1.5406334400177002,
          -0.7698811888694763,
          0.22107696533203125,
          -4.417229175567627,
          2.349188804626465,
          1.838782787322998,
          -4.0675787925720215,
          2.2328524589538574,
          2.68642520904541,
          -1.7517030239105225,
          0.4935038089752197,
          -0.49428343772888184,
          -3.6562201976776123,
          -3.4354047775268555,
          -0.39462709426879883,
          -1.9544291496276855,
          -0.12161913514137268,
          4.684121131896973,
          -0.0017750263214111328,
          -1.906801700592041,
          1.0392218828201294,
          -0.1689774990081787,
          -1.5424485206604004,
          -2.5632734298706055,
          -0.47390222549438477,
          2.081207036972046,
          -1.6199067831039429,
          -0.5096157789230347,
          7.175322532653809,
          0.39486002922058105,
          2.5542452335357666,
          -1.570359230041504,
          -3.8652279376983643,
          -0.9149594306945801
         ],
         "xaxis": "x",
         "y": [
          -0.9917392730712891,
          2.6620664596557617,
          3.528770685195923,
          8.649216651916504,
          -0.822374701499939,
          1.69846773147583,
          0.6325682997703552,
          4.55695104598999,
          2.8114609718322754,
          0.003726065158843994,
          2.2238755226135254,
          5.950835704803467,
          4.880042552947998,
          4.102595329284668,
          3.805927038192749,
          0.4595850706100464,
          2.9930944442749023,
          -1.4173948764801025,
          4.842009544372559,
          0.20076656341552734,
          3.415801525115967,
          2.2478389739990234,
          3.6486380100250244,
          -1.2463476657867432,
          0.8811841011047363,
          8.410051345825195,
          2.4039080142974854,
          4.288115501403809,
          3.669121265411377,
          3.0773861408233643,
          3.4503695964813232,
          8.23680591583252,
          3.969555616378784,
          6.793868541717529,
          2.8437178134918213,
          2.5128607749938965,
          4.216458320617676,
          4.784653663635254,
          2.239774227142334,
          1.7725292444229126,
          7.176687240600586,
          4.453891277313232,
          4.7383270263671875,
          2.192615032196045,
          2.8351879119873047,
          6.340826034545898,
          0.4782094955444336,
          2.341679573059082,
          2.764094114303589,
          5.873533248901367,
          3.8528096675872803,
          0.03258633613586426,
          1.9523950815200806,
          4.635552406311035,
          2.8730483055114746,
          1.8006134033203125,
          0.1229243278503418,
          0.5761432647705078,
          1.1971899271011353,
          6.431753158569336,
          -2.815363883972168,
          -0.06433629989624023,
          8.474754333496094,
          4.043647766113281,
          1.1969497203826904,
          3.2317397594451904,
          1.9554370641708374,
          2.647099256515503,
          -0.5648562908172607,
          9.473928451538086,
          1.8930883407592773,
          3.9829957485198975,
          4.545958042144775,
          -6.1959309577941895,
          2.3932275772094727,
          1.4593420028686523,
          3.857132911682129,
          1.3403511047363281,
          -3.3160853385925293,
          2.5807113647460938,
          2.6294312477111816,
          3.338496446609497,
          4.307010173797607,
          2.065941572189331,
          -1.7491278648376465,
          -6.2860260009765625,
          5.239436149597168,
          3.5359320640563965,
          2.779635190963745,
          5.229248046875,
          4.101844787597656,
          7.132838249206543,
          1.5487409830093384,
          0.9471144676208496,
          4.708706855773926,
          7.122714519500732,
          4.5800065994262695,
          0.8001735806465149,
          -1.2367889881134033,
          -4.807245254516602
         ],
         "yaxis": "y"
        },
        {
         "hovertemplate": "color=text_wsj<br>0=%{x}<br>1=%{y}<extra></extra>",
         "legendgroup": "text_wsj",
         "marker": {
          "color": "rgb(57, 105, 172)",
          "symbol": "circle"
         },
         "mode": "markers",
         "name": "text_wsj",
         "orientation": "v",
         "showlegend": true,
         "type": "scatter",
         "x": [
          -0.6678458452224731,
          -2.2219748497009277,
          -5.552929401397705,
          -0.8802087306976318,
          -5.971976280212402,
          -3.10050892829895,
          -2.1429977416992188,
          1.0586845874786377,
          -2.858865261077881,
          -3.5246236324310303,
          -0.5095226764678955,
          -0.18430191278457642,
          -2.622103691101074,
          0.0035114288330078125,
          -0.259493350982666,
          -2.723102331161499,
          -2.045552968978882,
          -3.319650411605835,
          2.770580768585205,
          2.853602647781372,
          0.31507372856140137,
          -2.6304397583007812,
          -0.5841607451438904,
          -1.1188182830810547,
          -0.31889212131500244,
          0.457330584526062,
          -2.9071359634399414,
          -2.8820486068725586,
          -2.614715576171875,
          1.6388074159622192,
          0.4728301763534546,
          -1.0392624139785767,
          -2.484302043914795,
          -1.1165709495544434,
          -0.31108784675598145,
          -2.395252227783203,
          2.6609888076782227,
          2.2404873371124268,
          -2.1766395568847656,
          -3.2474892139434814,
          -3.0280256271362305,
          1.7872405052185059,
          -5.682676792144775,
          -0.1454792022705078,
          -1.5211181640625,
          8.946418762207031,
          -2.3722639083862305,
          1.6853196620941162,
          1.4114869832992554,
          1.5581251382827759,
          -2.877815008163452,
          -0.39277350902557373,
          -0.5000815391540527,
          -0.7838180661201477,
          1.6333810091018677,
          -1.4920248985290527,
          -1.2006222009658813,
          -6.601532936096191,
          1.8092319965362549,
          -4.119779586791992,
          -3.886301040649414,
          -6.661411285400391,
          2.9628219604492188,
          -0.6806617975234985,
          -3.323498010635376,
          -2.4962384700775146,
          -3.0067403316497803,
          -0.688574492931366,
          -4.966188907623291,
          3.8477954864501953,
          -2.231462001800537,
          -0.8068861365318298,
          -1.6974703073501587,
          0.18899178504943848,
          -0.5324363112449646,
          -1.8293260335922241,
          -21.312240600585938,
          -4.074057579040527,
          -3.3212270736694336,
          -3.341905355453491,
          -2.472336530685425,
          -2.19296932220459,
          0.2603297233581543,
          0.8786048889160156,
          -3.285656690597534,
          -0.163457989692688,
          -1.9416635036468506,
          -0.45218729972839355,
          -3.052128791809082,
          -1.897517204284668,
          -2.321270704269409,
          1.226143717765808,
          -2.6621665954589844,
          -2.2010490894317627,
          0.8036400079727173,
          -0.06517261266708374,
          1.1452038288116455,
          -8.69036865234375,
          -0.7057045698165894,
          -5.421076774597168
         ],
         "xaxis": "x",
         "y": [
          2.665618419647217,
          3.340941905975342,
          2.151409864425659,
          2.018907070159912,
          -16.374540328979492,
          2.748234987258911,
          1.4207372665405273,
          2.2152040004730225,
          3.0164339542388916,
          2.351386547088623,
          2.759061098098755,
          4.822013854980469,
          2.7738213539123535,
          4.686028480529785,
          3.651402473449707,
          4.488664627075195,
          2.6168107986450195,
          5.812525749206543,
          2.4333889484405518,
          6.97299861907959,
          5.300411224365234,
          1.6983911991119385,
          1.5635441541671753,
          2.3709182739257812,
          -1.7746343612670898,
          4.531206130981445,
          5.337334632873535,
          0.25090479850769043,
          3.6683952808380127,
          4.840418815612793,
          4.844419479370117,
          -1.262080192565918,
          3.3728904724121094,
          -3.246579170227051,
          5.258113384246826,
          1.6058769226074219,
          5.008462905883789,
          2.5432705879211426,
          2.7547953128814697,
          2.4242897033691406,
          2.3321588039398193,
          4.951359748840332,
          3.3864312171936035,
          2.732499122619629,
          2.5303213596343994,
          3.487177848815918,
          3.7570159435272217,
          2.265007495880127,
          1.4156146049499512,
          5.381407737731934,
          -3.0003316402435303,
          2.296921491622925,
          1.5432982444763184,
          -0.8424437046051025,
          3.0927796363830566,
          3.3308422565460205,
          3.192943572998047,
          3.3983144760131836,
          5.3389387130737305,
          1.2777833938598633,
          1.6258420944213867,
          3.2536795139312744,
          1.5530221462249756,
          3.4707608222961426,
          3.1129584312438965,
          4.185301780700684,
          3.3647232055664062,
          1.8969464302062988,
          2.171548366546631,
          1.5894639492034912,
          1.8701393604278564,
          4.1753830909729,
          0.7720160484313965,
          -7.5425615310668945,
          6.349468231201172,
          0.5213437080383301,
          12.744732856750488,
          -0.9401154518127441,
          7.454894065856934,
          4.141018390655518,
          2.666210651397705,
          3.4717540740966797,
          5.374919891357422,
          4.4326982498168945,
          7.664102077484131,
          6.221444129943848,
          3.6747841835021973,
          2.3240292072296143,
          0.5960747003555298,
          4.969682216644287,
          0.7241966724395752,
          3.9709770679473877,
          2.548163890838623,
          -0.647580623626709,
          5.318711280822754,
          2.1962954998016357,
          4.718514442443848,
          2.1098520755767822,
          4.487503528594971,
          4.809021472930908
         ],
         "yaxis": "y"
        },
        {
         "hovertemplate": "color=FoxNews<br>0=%{x}<br>1=%{y}<extra></extra>",
         "legendgroup": "FoxNews",
         "marker": {
          "color": "rgb(242, 183, 1)",
          "symbol": "circle"
         },
         "mode": "markers",
         "name": "FoxNews",
         "orientation": "v",
         "showlegend": true,
         "type": "scatter",
         "x": [
          9.295873641967773,
          1.1860283613204956
         ],
         "xaxis": "x",
         "y": [
          2.0860085487365723,
          4.8784003257751465
         ],
         "yaxis": "y"
        },
        {
         "hovertemplate": "color=InfoWars<br>0=%{x}<br>1=%{y}<extra></extra>",
         "legendgroup": "InfoWars",
         "marker": {
          "color": "rgb(231, 63, 116)",
          "symbol": "circle"
         },
         "mode": "markers",
         "name": "InfoWars",
         "orientation": "v",
         "showlegend": true,
         "type": "scatter",
         "x": [
          0.49228739738464355,
          2.2826790809631348,
          0.9638147354125977
         ],
         "xaxis": "x",
         "y": [
          6.053598403930664,
          4.531741619110107,
          3.9401252269744873
         ],
         "yaxis": "y"
        },
        {
         "hovertemplate": "color=NationalReview<br>0=%{x}<br>1=%{y}<extra></extra>",
         "legendgroup": "NationalReview",
         "marker": {
          "color": "rgb(128, 186, 90)",
          "symbol": "circle"
         },
         "mode": "markers",
         "name": "NationalReview",
         "orientation": "v",
         "showlegend": true,
         "type": "scatter",
         "x": [
          -1.0561800003051758,
          -1.2864266633987427,
          1.111605167388916,
          -0.5435302257537842
         ],
         "xaxis": "x",
         "y": [
          3.320974111557007,
          4.971914291381836,
          -5.9491400718688965,
          2.163325786590576
         ],
         "yaxis": "y"
        },
        {
         "hovertemplate": "color=Intercept<br>0=%{x}<br>1=%{y}<extra></extra>",
         "legendgroup": "Intercept",
         "marker": {
          "color": "rgb(230, 131, 16)",
          "symbol": "circle"
         },
         "mode": "markers",
         "name": "Intercept",
         "orientation": "v",
         "showlegend": true,
         "type": "scatter",
         "x": [
          -1.2223271131515503
         ],
         "xaxis": "x",
         "y": [
          -3.6206297874450684
         ],
         "yaxis": "y"
        }
       ],
       "layout": {
        "legend": {
         "title": {
          "text": "color"
         },
         "tracegroupgap": 0
        },
        "margin": {
         "t": 60
        },
        "template": {
         "data": {
          "bar": [
           {
            "error_x": {
             "color": "#2a3f5f"
            },
            "error_y": {
             "color": "#2a3f5f"
            },
            "marker": {
             "line": {
              "color": "#E5ECF6",
              "width": 0.5
             },
             "pattern": {
              "fillmode": "overlay",
              "size": 10,
              "solidity": 0.2
             }
            },
            "type": "bar"
           }
          ],
          "barpolar": [
           {
            "marker": {
             "line": {
              "color": "#E5ECF6",
              "width": 0.5
             },
             "pattern": {
              "fillmode": "overlay",
              "size": 10,
              "solidity": 0.2
             }
            },
            "type": "barpolar"
           }
          ],
          "carpet": [
           {
            "aaxis": {
             "endlinecolor": "#2a3f5f",
             "gridcolor": "white",
             "linecolor": "white",
             "minorgridcolor": "white",
             "startlinecolor": "#2a3f5f"
            },
            "baxis": {
             "endlinecolor": "#2a3f5f",
             "gridcolor": "white",
             "linecolor": "white",
             "minorgridcolor": "white",
             "startlinecolor": "#2a3f5f"
            },
            "type": "carpet"
           }
          ],
          "choropleth": [
           {
            "colorbar": {
             "outlinewidth": 0,
             "ticks": ""
            },
            "type": "choropleth"
           }
          ],
          "contour": [
           {
            "colorbar": {
             "outlinewidth": 0,
             "ticks": ""
            },
            "colorscale": [
             [
              0,
              "#0d0887"
             ],
             [
              0.1111111111111111,
              "#46039f"
             ],
             [
              0.2222222222222222,
              "#7201a8"
             ],
             [
              0.3333333333333333,
              "#9c179e"
             ],
             [
              0.4444444444444444,
              "#bd3786"
             ],
             [
              0.5555555555555556,
              "#d8576b"
             ],
             [
              0.6666666666666666,
              "#ed7953"
             ],
             [
              0.7777777777777778,
              "#fb9f3a"
             ],
             [
              0.8888888888888888,
              "#fdca26"
             ],
             [
              1,
              "#f0f921"
             ]
            ],
            "type": "contour"
           }
          ],
          "contourcarpet": [
           {
            "colorbar": {
             "outlinewidth": 0,
             "ticks": ""
            },
            "type": "contourcarpet"
           }
          ],
          "heatmap": [
           {
            "colorbar": {
             "outlinewidth": 0,
             "ticks": ""
            },
            "colorscale": [
             [
              0,
              "#0d0887"
             ],
             [
              0.1111111111111111,
              "#46039f"
             ],
             [
              0.2222222222222222,
              "#7201a8"
             ],
             [
              0.3333333333333333,
              "#9c179e"
             ],
             [
              0.4444444444444444,
              "#bd3786"
             ],
             [
              0.5555555555555556,
              "#d8576b"
             ],
             [
              0.6666666666666666,
              "#ed7953"
             ],
             [
              0.7777777777777778,
              "#fb9f3a"
             ],
             [
              0.8888888888888888,
              "#fdca26"
             ],
             [
              1,
              "#f0f921"
             ]
            ],
            "type": "heatmap"
           }
          ],
          "heatmapgl": [
           {
            "colorbar": {
             "outlinewidth": 0,
             "ticks": ""
            },
            "colorscale": [
             [
              0,
              "#0d0887"
             ],
             [
              0.1111111111111111,
              "#46039f"
             ],
             [
              0.2222222222222222,
              "#7201a8"
             ],
             [
              0.3333333333333333,
              "#9c179e"
             ],
             [
              0.4444444444444444,
              "#bd3786"
             ],
             [
              0.5555555555555556,
              "#d8576b"
             ],
             [
              0.6666666666666666,
              "#ed7953"
             ],
             [
              0.7777777777777778,
              "#fb9f3a"
             ],
             [
              0.8888888888888888,
              "#fdca26"
             ],
             [
              1,
              "#f0f921"
             ]
            ],
            "type": "heatmapgl"
           }
          ],
          "histogram": [
           {
            "marker": {
             "pattern": {
              "fillmode": "overlay",
              "size": 10,
              "solidity": 0.2
             }
            },
            "type": "histogram"
           }
          ],
          "histogram2d": [
           {
            "colorbar": {
             "outlinewidth": 0,
             "ticks": ""
            },
            "colorscale": [
             [
              0,
              "#0d0887"
             ],
             [
              0.1111111111111111,
              "#46039f"
             ],
             [
              0.2222222222222222,
              "#7201a8"
             ],
             [
              0.3333333333333333,
              "#9c179e"
             ],
             [
              0.4444444444444444,
              "#bd3786"
             ],
             [
              0.5555555555555556,
              "#d8576b"
             ],
             [
              0.6666666666666666,
              "#ed7953"
             ],
             [
              0.7777777777777778,
              "#fb9f3a"
             ],
             [
              0.8888888888888888,
              "#fdca26"
             ],
             [
              1,
              "#f0f921"
             ]
            ],
            "type": "histogram2d"
           }
          ],
          "histogram2dcontour": [
           {
            "colorbar": {
             "outlinewidth": 0,
             "ticks": ""
            },
            "colorscale": [
             [
              0,
              "#0d0887"
             ],
             [
              0.1111111111111111,
              "#46039f"
             ],
             [
              0.2222222222222222,
              "#7201a8"
             ],
             [
              0.3333333333333333,
              "#9c179e"
             ],
             [
              0.4444444444444444,
              "#bd3786"
             ],
             [
              0.5555555555555556,
              "#d8576b"
             ],
             [
              0.6666666666666666,
              "#ed7953"
             ],
             [
              0.7777777777777778,
              "#fb9f3a"
             ],
             [
              0.8888888888888888,
              "#fdca26"
             ],
             [
              1,
              "#f0f921"
             ]
            ],
            "type": "histogram2dcontour"
           }
          ],
          "mesh3d": [
           {
            "colorbar": {
             "outlinewidth": 0,
             "ticks": ""
            },
            "type": "mesh3d"
           }
          ],
          "parcoords": [
           {
            "line": {
             "colorbar": {
              "outlinewidth": 0,
              "ticks": ""
             }
            },
            "type": "parcoords"
           }
          ],
          "pie": [
           {
            "automargin": true,
            "type": "pie"
           }
          ],
          "scatter": [
           {
            "fillpattern": {
             "fillmode": "overlay",
             "size": 10,
             "solidity": 0.2
            },
            "type": "scatter"
           }
          ],
          "scatter3d": [
           {
            "line": {
             "colorbar": {
              "outlinewidth": 0,
              "ticks": ""
             }
            },
            "marker": {
             "colorbar": {
              "outlinewidth": 0,
              "ticks": ""
             }
            },
            "type": "scatter3d"
           }
          ],
          "scattercarpet": [
           {
            "marker": {
             "colorbar": {
              "outlinewidth": 0,
              "ticks": ""
             }
            },
            "type": "scattercarpet"
           }
          ],
          "scattergeo": [
           {
            "marker": {
             "colorbar": {
              "outlinewidth": 0,
              "ticks": ""
             }
            },
            "type": "scattergeo"
           }
          ],
          "scattergl": [
           {
            "marker": {
             "colorbar": {
              "outlinewidth": 0,
              "ticks": ""
             }
            },
            "type": "scattergl"
           }
          ],
          "scattermapbox": [
           {
            "marker": {
             "colorbar": {
              "outlinewidth": 0,
              "ticks": ""
             }
            },
            "type": "scattermapbox"
           }
          ],
          "scatterpolar": [
           {
            "marker": {
             "colorbar": {
              "outlinewidth": 0,
              "ticks": ""
             }
            },
            "type": "scatterpolar"
           }
          ],
          "scatterpolargl": [
           {
            "marker": {
             "colorbar": {
              "outlinewidth": 0,
              "ticks": ""
             }
            },
            "type": "scatterpolargl"
           }
          ],
          "scatterternary": [
           {
            "marker": {
             "colorbar": {
              "outlinewidth": 0,
              "ticks": ""
             }
            },
            "type": "scatterternary"
           }
          ],
          "surface": [
           {
            "colorbar": {
             "outlinewidth": 0,
             "ticks": ""
            },
            "colorscale": [
             [
              0,
              "#0d0887"
             ],
             [
              0.1111111111111111,
              "#46039f"
             ],
             [
              0.2222222222222222,
              "#7201a8"
             ],
             [
              0.3333333333333333,
              "#9c179e"
             ],
             [
              0.4444444444444444,
              "#bd3786"
             ],
             [
              0.5555555555555556,
              "#d8576b"
             ],
             [
              0.6666666666666666,
              "#ed7953"
             ],
             [
              0.7777777777777778,
              "#fb9f3a"
             ],
             [
              0.8888888888888888,
              "#fdca26"
             ],
             [
              1,
              "#f0f921"
             ]
            ],
            "type": "surface"
           }
          ],
          "table": [
           {
            "cells": {
             "fill": {
              "color": "#EBF0F8"
             },
             "line": {
              "color": "white"
             }
            },
            "header": {
             "fill": {
              "color": "#C8D4E3"
             },
             "line": {
              "color": "white"
             }
            },
            "type": "table"
           }
          ]
         },
         "layout": {
          "annotationdefaults": {
           "arrowcolor": "#2a3f5f",
           "arrowhead": 0,
           "arrowwidth": 1
          },
          "autotypenumbers": "strict",
          "coloraxis": {
           "colorbar": {
            "outlinewidth": 0,
            "ticks": ""
           }
          },
          "colorscale": {
           "diverging": [
            [
             0,
             "#8e0152"
            ],
            [
             0.1,
             "#c51b7d"
            ],
            [
             0.2,
             "#de77ae"
            ],
            [
             0.3,
             "#f1b6da"
            ],
            [
             0.4,
             "#fde0ef"
            ],
            [
             0.5,
             "#f7f7f7"
            ],
            [
             0.6,
             "#e6f5d0"
            ],
            [
             0.7,
             "#b8e186"
            ],
            [
             0.8,
             "#7fbc41"
            ],
            [
             0.9,
             "#4d9221"
            ],
            [
             1,
             "#276419"
            ]
           ],
           "sequential": [
            [
             0,
             "#0d0887"
            ],
            [
             0.1111111111111111,
             "#46039f"
            ],
            [
             0.2222222222222222,
             "#7201a8"
            ],
            [
             0.3333333333333333,
             "#9c179e"
            ],
            [
             0.4444444444444444,
             "#bd3786"
            ],
            [
             0.5555555555555556,
             "#d8576b"
            ],
            [
             0.6666666666666666,
             "#ed7953"
            ],
            [
             0.7777777777777778,
             "#fb9f3a"
            ],
            [
             0.8888888888888888,
             "#fdca26"
            ],
            [
             1,
             "#f0f921"
            ]
           ],
           "sequentialminus": [
            [
             0,
             "#0d0887"
            ],
            [
             0.1111111111111111,
             "#46039f"
            ],
            [
             0.2222222222222222,
             "#7201a8"
            ],
            [
             0.3333333333333333,
             "#9c179e"
            ],
            [
             0.4444444444444444,
             "#bd3786"
            ],
            [
             0.5555555555555556,
             "#d8576b"
            ],
            [
             0.6666666666666666,
             "#ed7953"
            ],
            [
             0.7777777777777778,
             "#fb9f3a"
            ],
            [
             0.8888888888888888,
             "#fdca26"
            ],
            [
             1,
             "#f0f921"
            ]
           ]
          },
          "colorway": [
           "#636efa",
           "#EF553B",
           "#00cc96",
           "#ab63fa",
           "#FFA15A",
           "#19d3f3",
           "#FF6692",
           "#B6E880",
           "#FF97FF",
           "#FECB52"
          ],
          "font": {
           "color": "#2a3f5f"
          },
          "geo": {
           "bgcolor": "white",
           "lakecolor": "white",
           "landcolor": "#E5ECF6",
           "showlakes": true,
           "showland": true,
           "subunitcolor": "white"
          },
          "hoverlabel": {
           "align": "left"
          },
          "hovermode": "closest",
          "mapbox": {
           "style": "light"
          },
          "paper_bgcolor": "white",
          "plot_bgcolor": "#E5ECF6",
          "polar": {
           "angularaxis": {
            "gridcolor": "white",
            "linecolor": "white",
            "ticks": ""
           },
           "bgcolor": "#E5ECF6",
           "radialaxis": {
            "gridcolor": "white",
            "linecolor": "white",
            "ticks": ""
           }
          },
          "scene": {
           "xaxis": {
            "backgroundcolor": "#E5ECF6",
            "gridcolor": "white",
            "gridwidth": 2,
            "linecolor": "white",
            "showbackground": true,
            "ticks": "",
            "zerolinecolor": "white"
           },
           "yaxis": {
            "backgroundcolor": "#E5ECF6",
            "gridcolor": "white",
            "gridwidth": 2,
            "linecolor": "white",
            "showbackground": true,
            "ticks": "",
            "zerolinecolor": "white"
           },
           "zaxis": {
            "backgroundcolor": "#E5ECF6",
            "gridcolor": "white",
            "gridwidth": 2,
            "linecolor": "white",
            "showbackground": true,
            "ticks": "",
            "zerolinecolor": "white"
           }
          },
          "shapedefaults": {
           "line": {
            "color": "#2a3f5f"
           }
          },
          "ternary": {
           "aaxis": {
            "gridcolor": "white",
            "linecolor": "white",
            "ticks": ""
           },
           "baxis": {
            "gridcolor": "white",
            "linecolor": "white",
            "ticks": ""
           },
           "bgcolor": "#E5ECF6",
           "caxis": {
            "gridcolor": "white",
            "linecolor": "white",
            "ticks": ""
           }
          },
          "title": {
           "x": 0.05
          },
          "xaxis": {
           "automargin": true,
           "gridcolor": "white",
           "linecolor": "white",
           "ticks": "",
           "title": {
            "standoff": 15
           },
           "zerolinecolor": "white",
           "zerolinewidth": 2
          },
          "yaxis": {
           "automargin": true,
           "gridcolor": "white",
           "linecolor": "white",
           "ticks": "",
           "title": {
            "standoff": 15
           },
           "zerolinecolor": "white",
           "zerolinewidth": 2
          }
         }
        },
        "xaxis": {
         "anchor": "y",
         "domain": [
          0,
          1
         ],
         "title": {
          "text": "0"
         }
        },
        "yaxis": {
         "anchor": "x",
         "domain": [
          0,
          1
         ],
         "title": {
          "text": "1"
         }
        }
       }
      },
      "text/html": [
       "<div>                            <div id=\"e59c5113-c801-44bb-a106-31f3fc20a606\" class=\"plotly-graph-div\" style=\"height:525px; width:100%;\"></div>            <script type=\"text/javascript\">                require([\"plotly\"], function(Plotly) {                    window.PLOTLYENV=window.PLOTLYENV || {};                                    if (document.getElementById(\"e59c5113-c801-44bb-a106-31f3fc20a606\")) {                    Plotly.newPlot(                        \"e59c5113-c801-44bb-a106-31f3fc20a606\",                        [{\"hovertemplate\":\"color=text_oba<br>0=%{x}<br>1=%{y}<extra></extra>\",\"legendgroup\":\"text_oba\",\"marker\":{\"color\":\"rgb(127, 60, 141)\",\"symbol\":\"circle\"},\"mode\":\"markers\",\"name\":\"text_oba\",\"orientation\":\"v\",\"showlegend\":true,\"x\":[1.8654340505599976,-3.7954883575439453,1.2041397094726562,5.735947608947754,0.7105698585510254,1.8597359657287598,0.28485074639320374,-0.6638705730438232,0.7837364673614502,0.1275169849395752,-2.496737480163574,0.09749400615692139,-2.5092356204986572,2.110290050506592,1.7316670417785645,2.459566354751587,2.101213216781616,1.1051335334777832,0.9178870916366577,-0.231070876121521,0.6327565908432007,0.18033051490783691,0.6304743885993958,5.074860095977783,2.4781081676483154,2.192936897277832,1.3102068901062012,1.1734389066696167,3.735198497772217,1.5463398694992065,2.6252188682556152,-1.3191174268722534,0.9199152588844299,3.1154305934906006,0.4857379198074341,0.4985201060771942,2.545867919921875,1.5229589939117432,0.2584707736968994,2.4969892501831055,1.7143957614898682,2.553893566131592,2.2285051345825195,1.369613766670227,1.3204493522644043,1.3761838674545288,4.037976264953613,1.9457305669784546,1.7565343379974365,1.5731651782989502,0.8076272010803223,-0.8745006322860718,-0.1274086833000183,3.3454203605651855,0.8811401128768921,1.1103956699371338,0.44670796394348145,1.0187921524047852,1.6184701919555664,2.69813871383667,1.7500946521759033,-0.6469448804855347,0.8629311323165894,2.0928258895874023,0.7163838744163513,0.7768709659576416,10.328425407409668,1.6583402156829834,2.7988088130950928,2.3523623943328857,0.7400093078613281,1.1945688724517822,0.8837863802909851,9.889060974121094,1.8703293800354004,-2.9493038654327393,-4.1310272216796875,-16.85917091369629,0.027045130729675293,1.7759023904800415,-0.8736157417297363,1.7996444702148438,-3.2767910957336426,-0.43993252515792847,1.031884789466858,1.9031175374984741,3.8550076484680176,0.7331591844558716,3.8988847732543945,-4.1356000900268555,0.522908627986908,-0.316750705242157,1.7566590309143066,-17.42554473876953,-0.5361478328704834,1.5495648384094238,-0.37636494636535645,-0.05966305732727051,1.7677667140960693,2.6399779319763184],\"xaxis\":\"x\",\"y\":[-5.436565399169922,-14.576501846313477,-7.416962623596191,-8.204791069030762,-2.7729673385620117,-7.247067928314209,-5.464535713195801,-4.77400016784668,-10.46169662475586,-7.921433925628662,-5.516733169555664,-6.9952826499938965,-7.233489990234375,-5.437755107879639,-3.74302077293396,-6.81475830078125,-7.330801963806152,-7.882567882537842,-6.228524208068848,-6.899524211883545,-5.100600242614746,-7.035801887512207,-7.521516799926758,-3.3353707790374756,-7.138784885406494,-3.8517749309539795,-5.781062126159668,-7.279315948486328,-7.6671319007873535,-4.17435359954834,-6.057620048522949,-9.75070571899414,-10.224533081054688,-7.458702564239502,-6.9040632247924805,-8.449888229370117,-4.595001220703125,-4.942207336425781,-6.213761806488037,-8.057144165039062,-6.935281276702881,-7.20874547958374,-3.9285569190979004,-7.854968070983887,-7.256288051605225,-6.67294979095459,-3.5738635063171387,-5.443599700927734,-7.057742595672607,-5.110515594482422,-7.635403156280518,-3.644440174102783,-7.2816009521484375,-3.496607780456543,-6.585744857788086,-5.478754997253418,-5.047260284423828,-3.620814323425293,-7.7848801612854,-5.701728343963623,-5.122087001800537,-8.195648193359375,-5.0459394454956055,-5.60465669631958,-6.856276512145996,-4.834928035736084,2.0011653900146484,-4.235922813415527,-7.429200172424316,-6.608589172363281,-4.996351718902588,-5.56795597076416,-2.380849838256836,-6.339103698730469,-6.9367594718933105,-5.204696178436279,-5.507479190826416,-11.84453296661377,-6.309850215911865,-7.911919593811035,-8.48990249633789,-7.554216384887695,-0.8796901702880859,-7.508532524108887,-6.960986137390137,-3.087225914001465,-4.7266387939453125,-7.087031364440918,-5.190790176391602,-4.350800514221191,-0.8305137157440186,1.3250372409820557,-7.890332221984863,1.1332954168319702,-5.548984050750732,-6.562851905822754,-7.779782295227051,-7.267183303833008,-6.644905090332031,-8.174515724182129],\"yaxis\":\"y\",\"type\":\"scatter\"},{\"hovertemplate\":\"color=text_nyt<br>0=%{x}<br>1=%{y}<extra></extra>\",\"legendgroup\":\"text_nyt\",\"marker\":{\"color\":\"rgb(17, 165, 121)\",\"symbol\":\"circle\"},\"mode\":\"markers\",\"name\":\"text_nyt\",\"orientation\":\"v\",\"showlegend\":true,\"x\":[4.0353827476501465,-5.491243362426758,1.0734748840332031,-2.1170763969421387,-1.3236126899719238,-2.5887162685394287,3.6548173427581787,-0.058238863945007324,-3.445131778717041,-1.3301541805267334,0.0841604471206665,-0.28156256675720215,-4.922008037567139,-3.42733097076416,-0.6022947430610657,-3.2023110389709473,-2.693329334259033,-1.7417025566101074,-2.8013997077941895,-3.726081371307373,-2.37878155708313,-0.9780239462852478,-1.7861624956130981,0.5120563507080078,-1.1754651069641113,1.5662628412246704,-5.250934600830078,-2.820668935775757,-1.2600834369659424,1.762760877609253,1.0574731826782227,-0.9164201021194458,-5.611321449279785,-2.953502655029297,1.865951657295227,-2.3461432456970215,-5.257844924926758,-2.727191686630249,0.4714691638946533,-0.026581764221191406,-2.9282896518707275,1.7343504428863525,2.15421724319458,-7.56135892868042,-1.9421730041503906,-0.05843853950500488,-1.4751527309417725,1.818131923675537,1.6062164306640625,-1.483962059020996,-6.031020164489746,4.105264663696289,-7.466787815093994,-3.3158493041992188,1.4113199710845947,-1.0636911392211914,-1.3983430862426758,-2.415438175201416,-2.320369243621826,-1.9611459970474243,-7.2748637199401855,-1.9511377811431885,-6.457773208618164,0.029674530029296875,-8.694393157958984,-1.937736988067627,-1.5406334400177002,-0.7698811888694763,0.22107696533203125,-4.417229175567627,2.349188804626465,1.838782787322998,-4.0675787925720215,2.2328524589538574,2.68642520904541,-1.7517030239105225,0.4935038089752197,-0.49428343772888184,-3.6562201976776123,-3.4354047775268555,-0.39462709426879883,-1.9544291496276855,-0.12161913514137268,4.684121131896973,-0.0017750263214111328,-1.906801700592041,1.0392218828201294,-0.1689774990081787,-1.5424485206604004,-2.5632734298706055,-0.47390222549438477,2.081207036972046,-1.6199067831039429,-0.5096157789230347,7.175322532653809,0.39486002922058105,2.5542452335357666,-1.570359230041504,-3.8652279376983643,-0.9149594306945801],\"xaxis\":\"x\",\"y\":[-0.9917392730712891,2.6620664596557617,3.528770685195923,8.649216651916504,-0.822374701499939,1.69846773147583,0.6325682997703552,4.55695104598999,2.8114609718322754,0.003726065158843994,2.2238755226135254,5.950835704803467,4.880042552947998,4.102595329284668,3.805927038192749,0.4595850706100464,2.9930944442749023,-1.4173948764801025,4.842009544372559,0.20076656341552734,3.415801525115967,2.2478389739990234,3.6486380100250244,-1.2463476657867432,0.8811841011047363,8.410051345825195,2.4039080142974854,4.288115501403809,3.669121265411377,3.0773861408233643,3.4503695964813232,8.23680591583252,3.969555616378784,6.793868541717529,2.8437178134918213,2.5128607749938965,4.216458320617676,4.784653663635254,2.239774227142334,1.7725292444229126,7.176687240600586,4.453891277313232,4.7383270263671875,2.192615032196045,2.8351879119873047,6.340826034545898,0.4782094955444336,2.341679573059082,2.764094114303589,5.873533248901367,3.8528096675872803,0.03258633613586426,1.9523950815200806,4.635552406311035,2.8730483055114746,1.8006134033203125,0.1229243278503418,0.5761432647705078,1.1971899271011353,6.431753158569336,-2.815363883972168,-0.06433629989624023,8.474754333496094,4.043647766113281,1.1969497203826904,3.2317397594451904,1.9554370641708374,2.647099256515503,-0.5648562908172607,9.473928451538086,1.8930883407592773,3.9829957485198975,4.545958042144775,-6.1959309577941895,2.3932275772094727,1.4593420028686523,3.857132911682129,1.3403511047363281,-3.3160853385925293,2.5807113647460938,2.6294312477111816,3.338496446609497,4.307010173797607,2.065941572189331,-1.7491278648376465,-6.2860260009765625,5.239436149597168,3.5359320640563965,2.779635190963745,5.229248046875,4.101844787597656,7.132838249206543,1.5487409830093384,0.9471144676208496,4.708706855773926,7.122714519500732,4.5800065994262695,0.8001735806465149,-1.2367889881134033,-4.807245254516602],\"yaxis\":\"y\",\"type\":\"scatter\"},{\"hovertemplate\":\"color=text_wsj<br>0=%{x}<br>1=%{y}<extra></extra>\",\"legendgroup\":\"text_wsj\",\"marker\":{\"color\":\"rgb(57, 105, 172)\",\"symbol\":\"circle\"},\"mode\":\"markers\",\"name\":\"text_wsj\",\"orientation\":\"v\",\"showlegend\":true,\"x\":[-0.6678458452224731,-2.2219748497009277,-5.552929401397705,-0.8802087306976318,-5.971976280212402,-3.10050892829895,-2.1429977416992188,1.0586845874786377,-2.858865261077881,-3.5246236324310303,-0.5095226764678955,-0.18430191278457642,-2.622103691101074,0.0035114288330078125,-0.259493350982666,-2.723102331161499,-2.045552968978882,-3.319650411605835,2.770580768585205,2.853602647781372,0.31507372856140137,-2.6304397583007812,-0.5841607451438904,-1.1188182830810547,-0.31889212131500244,0.457330584526062,-2.9071359634399414,-2.8820486068725586,-2.614715576171875,1.6388074159622192,0.4728301763534546,-1.0392624139785767,-2.484302043914795,-1.1165709495544434,-0.31108784675598145,-2.395252227783203,2.6609888076782227,2.2404873371124268,-2.1766395568847656,-3.2474892139434814,-3.0280256271362305,1.7872405052185059,-5.682676792144775,-0.1454792022705078,-1.5211181640625,8.946418762207031,-2.3722639083862305,1.6853196620941162,1.4114869832992554,1.5581251382827759,-2.877815008163452,-0.39277350902557373,-0.5000815391540527,-0.7838180661201477,1.6333810091018677,-1.4920248985290527,-1.2006222009658813,-6.601532936096191,1.8092319965362549,-4.119779586791992,-3.886301040649414,-6.661411285400391,2.9628219604492188,-0.6806617975234985,-3.323498010635376,-2.4962384700775146,-3.0067403316497803,-0.688574492931366,-4.966188907623291,3.8477954864501953,-2.231462001800537,-0.8068861365318298,-1.6974703073501587,0.18899178504943848,-0.5324363112449646,-1.8293260335922241,-21.312240600585938,-4.074057579040527,-3.3212270736694336,-3.341905355453491,-2.472336530685425,-2.19296932220459,0.2603297233581543,0.8786048889160156,-3.285656690597534,-0.163457989692688,-1.9416635036468506,-0.45218729972839355,-3.052128791809082,-1.897517204284668,-2.321270704269409,1.226143717765808,-2.6621665954589844,-2.2010490894317627,0.8036400079727173,-0.06517261266708374,1.1452038288116455,-8.69036865234375,-0.7057045698165894,-5.421076774597168],\"xaxis\":\"x\",\"y\":[2.665618419647217,3.340941905975342,2.151409864425659,2.018907070159912,-16.374540328979492,2.748234987258911,1.4207372665405273,2.2152040004730225,3.0164339542388916,2.351386547088623,2.759061098098755,4.822013854980469,2.7738213539123535,4.686028480529785,3.651402473449707,4.488664627075195,2.6168107986450195,5.812525749206543,2.4333889484405518,6.97299861907959,5.300411224365234,1.6983911991119385,1.5635441541671753,2.3709182739257812,-1.7746343612670898,4.531206130981445,5.337334632873535,0.25090479850769043,3.6683952808380127,4.840418815612793,4.844419479370117,-1.262080192565918,3.3728904724121094,-3.246579170227051,5.258113384246826,1.6058769226074219,5.008462905883789,2.5432705879211426,2.7547953128814697,2.4242897033691406,2.3321588039398193,4.951359748840332,3.3864312171936035,2.732499122619629,2.5303213596343994,3.487177848815918,3.7570159435272217,2.265007495880127,1.4156146049499512,5.381407737731934,-3.0003316402435303,2.296921491622925,1.5432982444763184,-0.8424437046051025,3.0927796363830566,3.3308422565460205,3.192943572998047,3.3983144760131836,5.3389387130737305,1.2777833938598633,1.6258420944213867,3.2536795139312744,1.5530221462249756,3.4707608222961426,3.1129584312438965,4.185301780700684,3.3647232055664062,1.8969464302062988,2.171548366546631,1.5894639492034912,1.8701393604278564,4.1753830909729,0.7720160484313965,-7.5425615310668945,6.349468231201172,0.5213437080383301,12.744732856750488,-0.9401154518127441,7.454894065856934,4.141018390655518,2.666210651397705,3.4717540740966797,5.374919891357422,4.4326982498168945,7.664102077484131,6.221444129943848,3.6747841835021973,2.3240292072296143,0.5960747003555298,4.969682216644287,0.7241966724395752,3.9709770679473877,2.548163890838623,-0.647580623626709,5.318711280822754,2.1962954998016357,4.718514442443848,2.1098520755767822,4.487503528594971,4.809021472930908],\"yaxis\":\"y\",\"type\":\"scatter\"},{\"hovertemplate\":\"color=FoxNews<br>0=%{x}<br>1=%{y}<extra></extra>\",\"legendgroup\":\"FoxNews\",\"marker\":{\"color\":\"rgb(242, 183, 1)\",\"symbol\":\"circle\"},\"mode\":\"markers\",\"name\":\"FoxNews\",\"orientation\":\"v\",\"showlegend\":true,\"x\":[9.295873641967773,1.1860283613204956],\"xaxis\":\"x\",\"y\":[2.0860085487365723,4.8784003257751465],\"yaxis\":\"y\",\"type\":\"scatter\"},{\"hovertemplate\":\"color=InfoWars<br>0=%{x}<br>1=%{y}<extra></extra>\",\"legendgroup\":\"InfoWars\",\"marker\":{\"color\":\"rgb(231, 63, 116)\",\"symbol\":\"circle\"},\"mode\":\"markers\",\"name\":\"InfoWars\",\"orientation\":\"v\",\"showlegend\":true,\"x\":[0.49228739738464355,2.2826790809631348,0.9638147354125977],\"xaxis\":\"x\",\"y\":[6.053598403930664,4.531741619110107,3.9401252269744873],\"yaxis\":\"y\",\"type\":\"scatter\"},{\"hovertemplate\":\"color=NationalReview<br>0=%{x}<br>1=%{y}<extra></extra>\",\"legendgroup\":\"NationalReview\",\"marker\":{\"color\":\"rgb(128, 186, 90)\",\"symbol\":\"circle\"},\"mode\":\"markers\",\"name\":\"NationalReview\",\"orientation\":\"v\",\"showlegend\":true,\"x\":[-1.0561800003051758,-1.2864266633987427,1.111605167388916,-0.5435302257537842],\"xaxis\":\"x\",\"y\":[3.320974111557007,4.971914291381836,-5.9491400718688965,2.163325786590576],\"yaxis\":\"y\",\"type\":\"scatter\"},{\"hovertemplate\":\"color=Intercept<br>0=%{x}<br>1=%{y}<extra></extra>\",\"legendgroup\":\"Intercept\",\"marker\":{\"color\":\"rgb(230, 131, 16)\",\"symbol\":\"circle\"},\"mode\":\"markers\",\"name\":\"Intercept\",\"orientation\":\"v\",\"showlegend\":true,\"x\":[-1.2223271131515503],\"xaxis\":\"x\",\"y\":[-3.6206297874450684],\"yaxis\":\"y\",\"type\":\"scatter\"}],                        {\"template\":{\"data\":{\"histogram2dcontour\":[{\"type\":\"histogram2dcontour\",\"colorbar\":{\"outlinewidth\":0,\"ticks\":\"\"},\"colorscale\":[[0.0,\"#0d0887\"],[0.1111111111111111,\"#46039f\"],[0.2222222222222222,\"#7201a8\"],[0.3333333333333333,\"#9c179e\"],[0.4444444444444444,\"#bd3786\"],[0.5555555555555556,\"#d8576b\"],[0.6666666666666666,\"#ed7953\"],[0.7777777777777778,\"#fb9f3a\"],[0.8888888888888888,\"#fdca26\"],[1.0,\"#f0f921\"]]}],\"choropleth\":[{\"type\":\"choropleth\",\"colorbar\":{\"outlinewidth\":0,\"ticks\":\"\"}}],\"histogram2d\":[{\"type\":\"histogram2d\",\"colorbar\":{\"outlinewidth\":0,\"ticks\":\"\"},\"colorscale\":[[0.0,\"#0d0887\"],[0.1111111111111111,\"#46039f\"],[0.2222222222222222,\"#7201a8\"],[0.3333333333333333,\"#9c179e\"],[0.4444444444444444,\"#bd3786\"],[0.5555555555555556,\"#d8576b\"],[0.6666666666666666,\"#ed7953\"],[0.7777777777777778,\"#fb9f3a\"],[0.8888888888888888,\"#fdca26\"],[1.0,\"#f0f921\"]]}],\"heatmap\":[{\"type\":\"heatmap\",\"colorbar\":{\"outlinewidth\":0,\"ticks\":\"\"},\"colorscale\":[[0.0,\"#0d0887\"],[0.1111111111111111,\"#46039f\"],[0.2222222222222222,\"#7201a8\"],[0.3333333333333333,\"#9c179e\"],[0.4444444444444444,\"#bd3786\"],[0.5555555555555556,\"#d8576b\"],[0.6666666666666666,\"#ed7953\"],[0.7777777777777778,\"#fb9f3a\"],[0.8888888888888888,\"#fdca26\"],[1.0,\"#f0f921\"]]}],\"heatmapgl\":[{\"type\":\"heatmapgl\",\"colorbar\":{\"outlinewidth\":0,\"ticks\":\"\"},\"colorscale\":[[0.0,\"#0d0887\"],[0.1111111111111111,\"#46039f\"],[0.2222222222222222,\"#7201a8\"],[0.3333333333333333,\"#9c179e\"],[0.4444444444444444,\"#bd3786\"],[0.5555555555555556,\"#d8576b\"],[0.6666666666666666,\"#ed7953\"],[0.7777777777777778,\"#fb9f3a\"],[0.8888888888888888,\"#fdca26\"],[1.0,\"#f0f921\"]]}],\"contourcarpet\":[{\"type\":\"contourcarpet\",\"colorbar\":{\"outlinewidth\":0,\"ticks\":\"\"}}],\"contour\":[{\"type\":\"contour\",\"colorbar\":{\"outlinewidth\":0,\"ticks\":\"\"},\"colorscale\":[[0.0,\"#0d0887\"],[0.1111111111111111,\"#46039f\"],[0.2222222222222222,\"#7201a8\"],[0.3333333333333333,\"#9c179e\"],[0.4444444444444444,\"#bd3786\"],[0.5555555555555556,\"#d8576b\"],[0.6666666666666666,\"#ed7953\"],[0.7777777777777778,\"#fb9f3a\"],[0.8888888888888888,\"#fdca26\"],[1.0,\"#f0f921\"]]}],\"surface\":[{\"type\":\"surface\",\"colorbar\":{\"outlinewidth\":0,\"ticks\":\"\"},\"colorscale\":[[0.0,\"#0d0887\"],[0.1111111111111111,\"#46039f\"],[0.2222222222222222,\"#7201a8\"],[0.3333333333333333,\"#9c179e\"],[0.4444444444444444,\"#bd3786\"],[0.5555555555555556,\"#d8576b\"],[0.6666666666666666,\"#ed7953\"],[0.7777777777777778,\"#fb9f3a\"],[0.8888888888888888,\"#fdca26\"],[1.0,\"#f0f921\"]]}],\"mesh3d\":[{\"type\":\"mesh3d\",\"colorbar\":{\"outlinewidth\":0,\"ticks\":\"\"}}],\"scatter\":[{\"fillpattern\":{\"fillmode\":\"overlay\",\"size\":10,\"solidity\":0.2},\"type\":\"scatter\"}],\"parcoords\":[{\"type\":\"parcoords\",\"line\":{\"colorbar\":{\"outlinewidth\":0,\"ticks\":\"\"}}}],\"scatterpolargl\":[{\"type\":\"scatterpolargl\",\"marker\":{\"colorbar\":{\"outlinewidth\":0,\"ticks\":\"\"}}}],\"bar\":[{\"error_x\":{\"color\":\"#2a3f5f\"},\"error_y\":{\"color\":\"#2a3f5f\"},\"marker\":{\"line\":{\"color\":\"#E5ECF6\",\"width\":0.5},\"pattern\":{\"fillmode\":\"overlay\",\"size\":10,\"solidity\":0.2}},\"type\":\"bar\"}],\"scattergeo\":[{\"type\":\"scattergeo\",\"marker\":{\"colorbar\":{\"outlinewidth\":0,\"ticks\":\"\"}}}],\"scatterpolar\":[{\"type\":\"scatterpolar\",\"marker\":{\"colorbar\":{\"outlinewidth\":0,\"ticks\":\"\"}}}],\"histogram\":[{\"marker\":{\"pattern\":{\"fillmode\":\"overlay\",\"size\":10,\"solidity\":0.2}},\"type\":\"histogram\"}],\"scattergl\":[{\"type\":\"scattergl\",\"marker\":{\"colorbar\":{\"outlinewidth\":0,\"ticks\":\"\"}}}],\"scatter3d\":[{\"type\":\"scatter3d\",\"line\":{\"colorbar\":{\"outlinewidth\":0,\"ticks\":\"\"}},\"marker\":{\"colorbar\":{\"outlinewidth\":0,\"ticks\":\"\"}}}],\"scattermapbox\":[{\"type\":\"scattermapbox\",\"marker\":{\"colorbar\":{\"outlinewidth\":0,\"ticks\":\"\"}}}],\"scatterternary\":[{\"type\":\"scatterternary\",\"marker\":{\"colorbar\":{\"outlinewidth\":0,\"ticks\":\"\"}}}],\"scattercarpet\":[{\"type\":\"scattercarpet\",\"marker\":{\"colorbar\":{\"outlinewidth\":0,\"ticks\":\"\"}}}],\"carpet\":[{\"aaxis\":{\"endlinecolor\":\"#2a3f5f\",\"gridcolor\":\"white\",\"linecolor\":\"white\",\"minorgridcolor\":\"white\",\"startlinecolor\":\"#2a3f5f\"},\"baxis\":{\"endlinecolor\":\"#2a3f5f\",\"gridcolor\":\"white\",\"linecolor\":\"white\",\"minorgridcolor\":\"white\",\"startlinecolor\":\"#2a3f5f\"},\"type\":\"carpet\"}],\"table\":[{\"cells\":{\"fill\":{\"color\":\"#EBF0F8\"},\"line\":{\"color\":\"white\"}},\"header\":{\"fill\":{\"color\":\"#C8D4E3\"},\"line\":{\"color\":\"white\"}},\"type\":\"table\"}],\"barpolar\":[{\"marker\":{\"line\":{\"color\":\"#E5ECF6\",\"width\":0.5},\"pattern\":{\"fillmode\":\"overlay\",\"size\":10,\"solidity\":0.2}},\"type\":\"barpolar\"}],\"pie\":[{\"automargin\":true,\"type\":\"pie\"}]},\"layout\":{\"autotypenumbers\":\"strict\",\"colorway\":[\"#636efa\",\"#EF553B\",\"#00cc96\",\"#ab63fa\",\"#FFA15A\",\"#19d3f3\",\"#FF6692\",\"#B6E880\",\"#FF97FF\",\"#FECB52\"],\"font\":{\"color\":\"#2a3f5f\"},\"hovermode\":\"closest\",\"hoverlabel\":{\"align\":\"left\"},\"paper_bgcolor\":\"white\",\"plot_bgcolor\":\"#E5ECF6\",\"polar\":{\"bgcolor\":\"#E5ECF6\",\"angularaxis\":{\"gridcolor\":\"white\",\"linecolor\":\"white\",\"ticks\":\"\"},\"radialaxis\":{\"gridcolor\":\"white\",\"linecolor\":\"white\",\"ticks\":\"\"}},\"ternary\":{\"bgcolor\":\"#E5ECF6\",\"aaxis\":{\"gridcolor\":\"white\",\"linecolor\":\"white\",\"ticks\":\"\"},\"baxis\":{\"gridcolor\":\"white\",\"linecolor\":\"white\",\"ticks\":\"\"},\"caxis\":{\"gridcolor\":\"white\",\"linecolor\":\"white\",\"ticks\":\"\"}},\"coloraxis\":{\"colorbar\":{\"outlinewidth\":0,\"ticks\":\"\"}},\"colorscale\":{\"sequential\":[[0.0,\"#0d0887\"],[0.1111111111111111,\"#46039f\"],[0.2222222222222222,\"#7201a8\"],[0.3333333333333333,\"#9c179e\"],[0.4444444444444444,\"#bd3786\"],[0.5555555555555556,\"#d8576b\"],[0.6666666666666666,\"#ed7953\"],[0.7777777777777778,\"#fb9f3a\"],[0.8888888888888888,\"#fdca26\"],[1.0,\"#f0f921\"]],\"sequentialminus\":[[0.0,\"#0d0887\"],[0.1111111111111111,\"#46039f\"],[0.2222222222222222,\"#7201a8\"],[0.3333333333333333,\"#9c179e\"],[0.4444444444444444,\"#bd3786\"],[0.5555555555555556,\"#d8576b\"],[0.6666666666666666,\"#ed7953\"],[0.7777777777777778,\"#fb9f3a\"],[0.8888888888888888,\"#fdca26\"],[1.0,\"#f0f921\"]],\"diverging\":[[0,\"#8e0152\"],[0.1,\"#c51b7d\"],[0.2,\"#de77ae\"],[0.3,\"#f1b6da\"],[0.4,\"#fde0ef\"],[0.5,\"#f7f7f7\"],[0.6,\"#e6f5d0\"],[0.7,\"#b8e186\"],[0.8,\"#7fbc41\"],[0.9,\"#4d9221\"],[1,\"#276419\"]]},\"xaxis\":{\"gridcolor\":\"white\",\"linecolor\":\"white\",\"ticks\":\"\",\"title\":{\"standoff\":15},\"zerolinecolor\":\"white\",\"automargin\":true,\"zerolinewidth\":2},\"yaxis\":{\"gridcolor\":\"white\",\"linecolor\":\"white\",\"ticks\":\"\",\"title\":{\"standoff\":15},\"zerolinecolor\":\"white\",\"automargin\":true,\"zerolinewidth\":2},\"scene\":{\"xaxis\":{\"backgroundcolor\":\"#E5ECF6\",\"gridcolor\":\"white\",\"linecolor\":\"white\",\"showbackground\":true,\"ticks\":\"\",\"zerolinecolor\":\"white\",\"gridwidth\":2},\"yaxis\":{\"backgroundcolor\":\"#E5ECF6\",\"gridcolor\":\"white\",\"linecolor\":\"white\",\"showbackground\":true,\"ticks\":\"\",\"zerolinecolor\":\"white\",\"gridwidth\":2},\"zaxis\":{\"backgroundcolor\":\"#E5ECF6\",\"gridcolor\":\"white\",\"linecolor\":\"white\",\"showbackground\":true,\"ticks\":\"\",\"zerolinecolor\":\"white\",\"gridwidth\":2}},\"shapedefaults\":{\"line\":{\"color\":\"#2a3f5f\"}},\"annotationdefaults\":{\"arrowcolor\":\"#2a3f5f\",\"arrowhead\":0,\"arrowwidth\":1},\"geo\":{\"bgcolor\":\"white\",\"landcolor\":\"#E5ECF6\",\"subunitcolor\":\"white\",\"showland\":true,\"showlakes\":true,\"lakecolor\":\"white\"},\"title\":{\"x\":0.05},\"mapbox\":{\"style\":\"light\"}}},\"xaxis\":{\"anchor\":\"y\",\"domain\":[0.0,1.0],\"title\":{\"text\":\"0\"}},\"yaxis\":{\"anchor\":\"x\",\"domain\":[0.0,1.0],\"title\":{\"text\":\"1\"}},\"legend\":{\"title\":{\"text\":\"color\"},\"tracegroupgap\":0},\"margin\":{\"t\":60}},                        {\"responsive\": true}                    ).then(function(){\n",
       "                            \n",
       "var gd = document.getElementById('e59c5113-c801-44bb-a106-31f3fc20a606');\n",
       "var x = new MutationObserver(function (mutations, observer) {{\n",
       "        var display = window.getComputedStyle(gd).display;\n",
       "        if (!display || display === 'none') {{\n",
       "            console.log([gd, 'removed!']);\n",
       "            Plotly.purge(gd);\n",
       "            observer.disconnect();\n",
       "        }}\n",
       "}});\n",
       "\n",
       "// Listen for the removal of the full notebook cells\n",
       "var notebookContainer = gd.closest('#notebook-container');\n",
       "if (notebookContainer) {{\n",
       "    x.observe(notebookContainer, {childList: true});\n",
       "}}\n",
       "\n",
       "// Listen for the clearing of the current output cell\n",
       "var outputEl = gd.closest('.output');\n",
       "if (outputEl) {{\n",
       "    x.observe(outputEl, {childList: true});\n",
       "}}\n",
       "\n",
       "                        })                };                });            </script>        </div>"
      ]
     },
     "metadata": {},
     "output_type": "display_data"
    }
   ],
   "source": [
    "# Perplexity value can greatly influence the shape of the results, typical ranges from 5 to 50\n",
    "# Some perplexity values with decent separation: 6,7,9,10,12,14,15\n",
    "t_sne = manifold.TSNE(\n",
    "    n_components=2,\n",
    "    perplexity=10,\n",
    "    init=\"random\",\n",
    "    n_iter=250,\n",
    "    random_state=0,\n",
    ");\n",
    "tsne_data = pcaBiplotData.loc[:, pcaBiplotData.columns.str.startswith('enc')]\n",
    "S_t_sne = t_sne.fit_transform(tsne_data);\n",
    "fig = px.scatter(S_t_sne, \n",
    "                 x=0, \n",
    "                 y=1, \n",
    "                 color=pcaBiplotData['source'],\n",
    "                 color_discrete_sequence=px.colors.qualitative.Bold)\n",
    "fig.show()"
   ]
  },
  {
   "cell_type": "code",
   "execution_count": null,
   "id": "11046a54",
   "metadata": {},
   "outputs": [],
   "source": [
    "# Join PCA components to biplot dataframe and then save\n",
    "pcaBiplotData.drop(['index'], axis=1, inplace=True)\n",
    "pcafitdf = pd.DataFrame(pcafit, columns=['PCA1', 'PCA2'])\n",
    "pcaBiplotData = pcaBiplotData.join(pcafitdf)"
   ]
  },
  {
   "cell_type": "code",
   "execution_count": 108,
   "id": "6dd6ad77",
   "metadata": {},
   "outputs": [],
   "source": [
    "#pcaBiplotData.to_csv('pcaBiplotData.csv', index=False)"
   ]
  },
  {
   "cell_type": "markdown",
   "id": "d2f0c6b3",
   "metadata": {},
   "source": [
    "### Try PCA on the big tidy data set with emo, pos, sentence and word counts"
   ]
  },
  {
   "cell_type": "code",
   "execution_count": 14,
   "id": "fa5e1d03",
   "metadata": {},
   "outputs": [],
   "source": [
    "scaling=StandardScaler()\n",
    "df_tidy = pd.read_csv('tidy_data.csv')\n",
    "#df_tidy.columns"
   ]
  },
  {
   "cell_type": "code",
   "execution_count": 18,
   "id": "13fb39b1",
   "metadata": {},
   "outputs": [],
   "source": [
    "# All encoding values are already on same scale\n",
    "pca_data = df_tidy.loc[:, ~df_tidy.columns.isin(['date', 'source', 'enc_value','PCA1', 'PCA2'])]\n",
    "scaling.fit(pca_data)\n",
    "scaled_data = scaling.transform(pca_data)\n",
    "pca = PCA(n_components = 2)\n",
    "pcafit2 = pca.fit_transform(scaled_data)"
   ]
  },
  {
   "cell_type": "code",
   "execution_count": 19,
   "id": "be589bd6",
   "metadata": {},
   "outputs": [
    {
     "data": {
      "application/vnd.plotly.v1+json": {
       "config": {
        "plotlyServerURL": "https://plot.ly"
       },
       "data": [
        {
         "hovertemplate": "color=nyt<br>0=%{x}<br>1=%{y}<extra></extra>",
         "legendgroup": "nyt",
         "marker": {
          "color": "rgb(127, 60, 141)",
          "symbol": "circle"
         },
         "mode": "markers",
         "name": "nyt",
         "orientation": "v",
         "showlegend": true,
         "type": "scatter",
         "x": [
          -3.564333292406962,
          -2.8940195919442444,
          -1.3946390313208898,
          -1.6776409066081976,
          1.0668068826069217,
          0.7369943115950898,
          3.5531329462128403,
          -1.4827108913241585,
          0.8949844433666199,
          1.7622257915147945,
          -5.3072291394874975,
          -4.83956550163865,
          -3.937530072917116,
          1.0037016147772695,
          -3.9954707445455577,
          -0.187309086071445,
          -3.7764211293719248,
          -2.8172617951005257,
          -0.5957353465576374,
          -3.889937302227753,
          -3.549157288012403,
          -1.7433426265253587,
          -3.5836681004485014,
          -1.0108605848871768,
          2.76379116550974,
          1.242093005437137,
          -3.5699437226832686,
          0.40190908012374515,
          17.425443587963215,
          0.1760381383786144,
          3.285743981952589,
          0.07742885609745623,
          -0.5012224000262686,
          -0.32274345932476434,
          1.2043566418567555,
          2.8561141712263503,
          2.2801535481312634,
          0.4266865136708589,
          0.030094158066449973,
          2.438616463252634,
          1.4012804303213675,
          0.6684707546074131,
          2.3567580859973964,
          -1.3809956964923482,
          0.7083336901267374,
          2.424879084506091,
          -0.599675314461028,
          2.4566689752061164,
          -1.9000149413278822,
          2.4852778816482073,
          3.267844024460902,
          -0.2703319096482082,
          2.6895683272474127,
          -0.2300531213088809,
          -3.7237914387602213,
          0.8304556713426863,
          2.57162701336729,
          2.512226420299533,
          2.998591177962789,
          1.2542581525916743,
          0.24928255296040125,
          -1.239672929592122,
          -8.699583727829177,
          2.8213328391505947,
          -3.1297662799073493,
          4.19010065250921,
          2.7679507416284137,
          2.772264813108599,
          0.8121452303544296,
          -0.6219570408585605,
          2.69668697582109,
          0.8708736122355696,
          1.163089934947295,
          -0.8316172946743378,
          -2.914000143839226,
          -1.4716072077079148,
          0.6117411741410985,
          -0.6372974327205878,
          5.698703955988132,
          2.6479426270620867,
          2.0891710713815077,
          0.9373440779369733,
          -0.5639732355942063,
          2.930159771407544,
          -1.1917877176745986,
          1.9711614805091604,
          -1.8700102738821176,
          2.8749106664068043,
          -0.3214967928598326,
          4.243316749077568,
          -0.00823988254006788,
          2.302734472355407,
          2.9770397684680567,
          1.7805614678891555,
          3.055483831087655,
          -3.210488119868665,
          2.57120925880851,
          2.8888930594947735,
          2.1814434363137623,
          0.17968444927094185
         ],
         "xaxis": "x",
         "y": [
          0.7180577520832035,
          -0.5565437907126707,
          0.44673589823259396,
          -0.852168194076767,
          -1.5217174352959475,
          -1.325679868395968,
          -2.9896071601401717,
          -1.4407101435565286,
          1.6967614591833367,
          1.571563372734523,
          4.050655111142488,
          -3.1762680106453307,
          -0.17841823984331476,
          -1.9850936273458426,
          -5.4223227814715,
          0.6719469780630181,
          -0.6697013978703631,
          0.6206463187808406,
          -1.6536282682271726,
          -2.6345676148595647,
          -2.2444624299321636,
          0.6948685909990084,
          -1.4752575489225204,
          -2.4343324050374933,
          -1.0233064494287742,
          -1.190501112960345,
          -0.3960386690657061,
          -2.996988532322483,
          18.97920199601251,
          -1.8441166135514737,
          -5.297653741332322,
          -1.6429341092207232,
          -0.8646706593456215,
          1.603208292617711,
          0.7356754284959229,
          -0.6430472553664318,
          -4.209369733661454,
          -0.1667012485946185,
          -0.355278759368303,
          -0.31297560609536695,
          -1.2269586192335886,
          -0.5479876204283641,
          -0.6510043689586519,
          2.481316990932808,
          -0.34928140188461443,
          -2.987115053582196,
          0.7019695926082292,
          -2.514625868047126,
          2.398211975333208,
          -1.7559058818739568,
          -2.3797197087105166,
          0.028315157972836662,
          0.33148107545344835,
          0.5837304717802065,
          -3.4970171157343497,
          2.273139100560505,
          1.4121932062436255,
          -0.4436802108719283,
          -5.122655249226211,
          2.2267056216492893,
          -2.4112875275036965,
          -1.4408074370248503,
          -0.6675505212232606,
          0.5243820308030467,
          0.6531464446290614,
          -0.2584363964153885,
          -1.074440813636698,
          1.0359913971956094,
          -0.6319504212536363,
          -1.2502071224573035,
          -1.4893208544370033,
          -1.515084040761373,
          -1.8374026000949122,
          1.8232297361271887,
          -0.6845598247233927,
          -0.2897022648238256,
          -3.000228254295641,
          -0.5886573373023912,
          2.0408095565178943,
          3.4110575299585086,
          1.4144841404393473,
          1.1897003915219255,
          -1.0417627557310114,
          -2.0545346668882787,
          0.3750253271721912,
          2.3232748070432248,
          -2.2961761106468286,
          -3.852353371818165,
          1.7182474237710839,
          -0.5744242829093105,
          -0.45879526234284157,
          -3.245532640673503,
          2.634359499756996,
          -0.5868141169174109,
          -3.94588179641156,
          0.4941794509870738,
          -2.9298663232505753,
          2.7677339635786535,
          -0.3914790653425138,
          0.33193329823939116
         ],
         "yaxis": "y"
        },
        {
         "hovertemplate": "color=oba<br>0=%{x}<br>1=%{y}<extra></extra>",
         "legendgroup": "oba",
         "marker": {
          "color": "rgb(17, 165, 121)",
          "symbol": "circle"
         },
         "mode": "markers",
         "name": "oba",
         "orientation": "v",
         "showlegend": true,
         "type": "scatter",
         "x": [
          -4.5644661560632125,
          -2.307233674894223,
          4.3752118410258705,
          -0.08975334447129325,
          0.6360682627820464,
          -5.87409089048228,
          0.30979164692786115,
          5.147097572666394,
          -3.394321662612149,
          -5.931783180646132,
          -1.1267918065910312,
          -0.23977390706540058,
          0.16953937121450866,
          4.955070449924971,
          0.9891630941789548,
          -2.106794334787239,
          -2.548082492877664,
          -5.6179532985030685,
          2.689237562181825,
          -1.6843701131366056,
          -0.5988030788534825,
          -0.055033866185571476,
          2.427014168671204,
          1.995803119765612,
          -0.30583386768698956,
          -7.659872355227195,
          -8.84624621315983,
          0.42585376229459554,
          -3.6213615079553616,
          2.40325564020672,
          -3.2284615678828645,
          1.1874966230315658,
          -4.4865625610928115,
          -4.9122832269676335,
          -1.6117793361621844,
          -2.4783714638003453,
          3.0905262390874544,
          -0.11042678900996329,
          -7.544190125271724,
          -7.548204798905721,
          -3.5864262952504213,
          -0.7919052466785808,
          2.302171062585712,
          -4.96616913917054,
          -2.9192781754008132,
          1.240704945731164,
          -3.1183048519697856,
          -0.9137255197935593,
          0.8140018255987257,
          3.396704707071179,
          -4.516444224805952,
          -1.415428023623271,
          -7.601752264393914,
          -7.294475344128643,
          -3.9389707380656014,
          -0.828198502833307,
          -7.342823840140897,
          -3.1874888355120046,
          1.5347421112952555,
          -1.9896369916286474,
          2.7744270784035923,
          -3.199796516514167,
          2.5802622139041853,
          0.6748253338798382,
          -4.81691967785634,
          3.4905596129985335,
          -0.26090246078065377,
          -5.95085730587926,
          -0.9357616185375018,
          -1.870576552156054,
          1.1053613548418764,
          0.7703831588710602,
          -1.8254032789642298,
          -6.548598376950401,
          1.9908118708629376,
          -5.576209397206758,
          9.114924306856185,
          -7.517271061701437,
          -5.673789511044857,
          -4.550844412586246,
          2.104049490001996,
          -6.092941297451318,
          0.5974049769641644,
          -0.38265852611458945,
          -7.703714831783209,
          2.739762122293659,
          1.6710650063907,
          2.123933420661483,
          3.019865902370601,
          -5.172967314060752,
          2.6698441012955962,
          3.9435269331188576,
          -7.680980945813086,
          -8.822214249914271,
          0.34054773785787307,
          -7.04588967028858,
          -3.023489522388206,
          2.221001642405262,
          -0.4626840989562146,
          -3.3444885266224564
         ],
         "xaxis": "x",
         "y": [
          1.0333680588401108,
          1.845196826295012,
          0.4086311157198187,
          0.4860338793942381,
          0.2278310811381783,
          -0.0062937448965728745,
          -1.4236654939604494,
          -2.4095313422431306,
          1.9410264965221093,
          0.4206446158974039,
          -1.413362325155917,
          0.9824791144433006,
          0.995182959635955,
          -0.14140586613486858,
          0.4320140755492791,
          -0.13175614064297678,
          0.8692544657422043,
          3.47426350972342,
          -1.118169090929774,
          2.1916481204201417,
          0.12370289808083003,
          -0.5752058312548186,
          1.7890297446283174,
          -1.1237526549073054,
          2.423158965121604,
          1.156280624145631,
          1.7030373916106492,
          4.334246416213522,
          3.9731749551636,
          -0.8384178576170321,
          -1.2975331473386231,
          0.5678887548035902,
          -0.9809542440683335,
          1.3899682970183096,
          0.13266863422568761,
          2.3339099210827245,
          2.534529043391098,
          1.1409481375870933,
          0.5883559710647781,
          1.192343745865399,
          2.010420342837936,
          0.9957114105238349,
          1.340363937979694,
          1.8340482640347755,
          0.7496695590284645,
          -0.46300513256616715,
          1.1433562282027776,
          -0.7172132599121644,
          1.9636295574677485,
          0.4733047795327996,
          -2.3557574167931006,
          1.284654871017394,
          3.0927074809773303,
          1.0703248364504745,
          1.236252190209329,
          3.5189627167630246,
          3.1502887878309997,
          1.2893145414932174,
          -0.8535212634286938,
          0.10231719782546961,
          -2.6758134143242467,
          0.035142030204605504,
          2.6093702947961703,
          0.36309329506808924,
          1.3275504456833351,
          3.024243403808498,
          0.6529820992699465,
          -0.15050797427708523,
          -0.6331781483244937,
          1.280189203550803,
          -0.21206359238054437,
          1.1583027979660334,
          -0.2903120569219305,
          -0.5133591783882727,
          4.037405872402471,
          0.3787398575925564,
          -1.9854223117560788,
          0.7081385766535184,
          1.4837807575641047,
          3.727302712680873,
          2.51935868830554,
          3.451632377011342,
          -0.5613414266006473,
          -0.8793556592497042,
          -0.9070901798999604,
          1.7705451621013446,
          -1.921758923298458,
          0.901809665840979,
          1.7784418151956582,
          0.26641443189377234,
          4.521079276766499,
          -0.23367408341317902,
          0.9933220208962543,
          1.2603311072921102,
          -2.4358986477514253,
          0.31099223206993404,
          0.9903866233422007,
          1.2503217585085358,
          2.446221296892682,
          0.6476875464857448
         ],
         "yaxis": "y"
        },
        {
         "hovertemplate": "color=wsj<br>0=%{x}<br>1=%{y}<extra></extra>",
         "legendgroup": "wsj",
         "marker": {
          "color": "rgb(57, 105, 172)",
          "symbol": "circle"
         },
         "mode": "markers",
         "name": "wsj",
         "orientation": "v",
         "showlegend": true,
         "type": "scatter",
         "x": [
          2.2633275619536124,
          -2.189206155332148,
          -1.145170158885885,
          -1.4606642490717605,
          1.4981046903593687,
          -0.37868717654524614,
          1.8655110214270498,
          0.5388873130294491,
          7.679294640889664,
          2.8565446371134997,
          -1.7481232952473222,
          3.5507697467778,
          1.905707255066345,
          3.4433761574970836,
          -3.5501632467240563,
          -1.1415994816429196,
          -1.4007721530460477,
          0.1643374089946272,
          -0.37430410912349565,
          0.03973445956343435,
          0.5133498608252094,
          -1.5576132376668648,
          2.949945372555222,
          -0.4228981340112918,
          1.2406307796684657,
          3.108330315099409,
          -1.283221142094042,
          0.27522523924125936,
          -0.4915213447556193,
          2.545096710150285,
          2.932227647177495,
          -0.7002420317939777,
          -1.0663618738299692,
          -1.4013587285759426,
          -1.2127844153162586,
          0.14764449255419274,
          3.212126254135251,
          1.2732615330447192,
          -0.42177716680894084,
          5.609307750319817,
          2.1947920800713523,
          2.774590683982687,
          2.794757641102707,
          -1.6205511511641166,
          1.0339358820538878,
          2.7291717727942966,
          -2.759299238548483,
          0.384124737737354,
          -1.911650737751555,
          2.7263643021344603,
          3.117853620624213,
          -0.8320259690100046,
          2.4859892847920424,
          1.250183084680118,
          3.3551977464428746,
          2.332233021067181,
          -0.6256308080987535,
          2.177345679279858,
          2.8934606596517662,
          2.720502425976507,
          2.916746271552961,
          3.1237428208004543,
          1.5879589756138437,
          3.023847096598713,
          1.4242193549250668,
          0.8340400499661998,
          0.6499458421836923,
          1.730694954305177,
          -0.7218049461659801,
          0.3285815889012162,
          2.890932745699958,
          3.160021168412958,
          2.6165468889827626,
          -1.7141666621757368,
          -1.2536661612172246,
          1.6670837148783977,
          1.4779230468734992,
          0.6646608470735937,
          3.420164445536066,
          0.6886792047484264,
          -0.986391631889205,
          2.8975787218888893,
          -0.4568456213835068,
          3.127696754949544,
          -1.134744976019823,
          2.2688066224342416,
          1.1306899005049094,
          3.4999103068696003,
          0.3410363502168491,
          1.1706605691433773,
          2.9497604447945784,
          2.794838899769769,
          3.0592743009930126,
          3.0647900151274565,
          2.912808377854572,
          -0.6664508280962976,
          0.5823284324739093,
          2.4724624592604485,
          -0.28385870424820664,
          2.112022243347407
         ],
         "xaxis": "x",
         "y": [
          2.061263695472565,
          0.04869610459922481,
          1.3764194856493834,
          -0.8508807625162158,
          0.11638633640354179,
          0.8209544732519825,
          -2.1887956608361447,
          -1.9927534440653107,
          8.481301058929796,
          0.6699148319987024,
          3.757268833063249,
          -3.1069774523072295,
          1.8954659988166698,
          -1.459031783437816,
          -4.98975351869359,
          1.1199708582903116,
          0.6640962339625129,
          1.0047195292838413,
          -0.9028274048872206,
          -3.1472852440052326,
          0.7407142760133211,
          -1.011325597599311,
          -0.26494891549745436,
          0.15736151623766897,
          -0.02403327981921022,
          0.012260936985518478,
          0.11366318612906916,
          -2.5957450670069884,
          5.060466872849612,
          -2.7007875208788494,
          -4.752931684376924,
          -1.6548528491960321,
          -2.894675597601591,
          1.114297617598859,
          0.2638788377140817,
          1.949759999667161,
          -0.3309291678978764,
          -1.5753747601599288,
          -0.22404965615706574,
          2.2916500389553924,
          0.8568726979298797,
          2.9439804986659563,
          0.5299068131891724,
          3.27124237634022,
          -0.47557285600344845,
          -2.9772157952854017,
          1.5966274654145434,
          -0.9370270076351985,
          1.092411064846374,
          -1.2321582294637934,
          -3.503282731980542,
          2.258033868714539,
          3.242971831619705,
          -1.525192406153022,
          -3.438361469496103,
          2.2273586771369467,
          1.8490443335554725,
          1.9496830253174453,
          -3.8209363526447135,
          -1.1278270748839123,
          -0.4492611815568785,
          -3.730869805746003,
          -1.9580097543417838,
          -0.7588717616416835,
          1.155678216459975,
          -1.9402442970157605,
          0.4813155704567031,
          -0.8789650445588566,
          0.749076796129538,
          -0.6504203081721031,
          -2.624761789273552,
          -1.6497285242944162,
          -2.8010347751348252,
          0.07427690489776177,
          -0.36467058083938825,
          0.4279788504682995,
          -4.0028059692366265,
          0.6785704080297527,
          0.023623570151238515,
          -6.035357328614031,
          2.2081167032210156,
          3.312114999613264,
          -0.46328920697946685,
          0.6959289996568024,
          0.8154180705245537,
          2.765482710855706,
          -2.1231159882972177,
          -4.726676205515081,
          2.2234307420219297,
          -0.940501393880782,
          -0.6393069213513525,
          -4.007931956676686,
          1.2096812769398313,
          -3.0520877341197497,
          -3.5801629131220416,
          -0.8859386210021309,
          -5.17868071148182,
          1.0651257243143373,
          -0.3120765252717097,
          -0.022440867176991095
         ],
         "yaxis": "y"
        }
       ],
       "layout": {
        "legend": {
         "title": {
          "text": "color"
         },
         "tracegroupgap": 0
        },
        "margin": {
         "t": 60
        },
        "template": {
         "data": {
          "bar": [
           {
            "error_x": {
             "color": "#2a3f5f"
            },
            "error_y": {
             "color": "#2a3f5f"
            },
            "marker": {
             "line": {
              "color": "#E5ECF6",
              "width": 0.5
             },
             "pattern": {
              "fillmode": "overlay",
              "size": 10,
              "solidity": 0.2
             }
            },
            "type": "bar"
           }
          ],
          "barpolar": [
           {
            "marker": {
             "line": {
              "color": "#E5ECF6",
              "width": 0.5
             },
             "pattern": {
              "fillmode": "overlay",
              "size": 10,
              "solidity": 0.2
             }
            },
            "type": "barpolar"
           }
          ],
          "carpet": [
           {
            "aaxis": {
             "endlinecolor": "#2a3f5f",
             "gridcolor": "white",
             "linecolor": "white",
             "minorgridcolor": "white",
             "startlinecolor": "#2a3f5f"
            },
            "baxis": {
             "endlinecolor": "#2a3f5f",
             "gridcolor": "white",
             "linecolor": "white",
             "minorgridcolor": "white",
             "startlinecolor": "#2a3f5f"
            },
            "type": "carpet"
           }
          ],
          "choropleth": [
           {
            "colorbar": {
             "outlinewidth": 0,
             "ticks": ""
            },
            "type": "choropleth"
           }
          ],
          "contour": [
           {
            "colorbar": {
             "outlinewidth": 0,
             "ticks": ""
            },
            "colorscale": [
             [
              0,
              "#0d0887"
             ],
             [
              0.1111111111111111,
              "#46039f"
             ],
             [
              0.2222222222222222,
              "#7201a8"
             ],
             [
              0.3333333333333333,
              "#9c179e"
             ],
             [
              0.4444444444444444,
              "#bd3786"
             ],
             [
              0.5555555555555556,
              "#d8576b"
             ],
             [
              0.6666666666666666,
              "#ed7953"
             ],
             [
              0.7777777777777778,
              "#fb9f3a"
             ],
             [
              0.8888888888888888,
              "#fdca26"
             ],
             [
              1,
              "#f0f921"
             ]
            ],
            "type": "contour"
           }
          ],
          "contourcarpet": [
           {
            "colorbar": {
             "outlinewidth": 0,
             "ticks": ""
            },
            "type": "contourcarpet"
           }
          ],
          "heatmap": [
           {
            "colorbar": {
             "outlinewidth": 0,
             "ticks": ""
            },
            "colorscale": [
             [
              0,
              "#0d0887"
             ],
             [
              0.1111111111111111,
              "#46039f"
             ],
             [
              0.2222222222222222,
              "#7201a8"
             ],
             [
              0.3333333333333333,
              "#9c179e"
             ],
             [
              0.4444444444444444,
              "#bd3786"
             ],
             [
              0.5555555555555556,
              "#d8576b"
             ],
             [
              0.6666666666666666,
              "#ed7953"
             ],
             [
              0.7777777777777778,
              "#fb9f3a"
             ],
             [
              0.8888888888888888,
              "#fdca26"
             ],
             [
              1,
              "#f0f921"
             ]
            ],
            "type": "heatmap"
           }
          ],
          "heatmapgl": [
           {
            "colorbar": {
             "outlinewidth": 0,
             "ticks": ""
            },
            "colorscale": [
             [
              0,
              "#0d0887"
             ],
             [
              0.1111111111111111,
              "#46039f"
             ],
             [
              0.2222222222222222,
              "#7201a8"
             ],
             [
              0.3333333333333333,
              "#9c179e"
             ],
             [
              0.4444444444444444,
              "#bd3786"
             ],
             [
              0.5555555555555556,
              "#d8576b"
             ],
             [
              0.6666666666666666,
              "#ed7953"
             ],
             [
              0.7777777777777778,
              "#fb9f3a"
             ],
             [
              0.8888888888888888,
              "#fdca26"
             ],
             [
              1,
              "#f0f921"
             ]
            ],
            "type": "heatmapgl"
           }
          ],
          "histogram": [
           {
            "marker": {
             "pattern": {
              "fillmode": "overlay",
              "size": 10,
              "solidity": 0.2
             }
            },
            "type": "histogram"
           }
          ],
          "histogram2d": [
           {
            "colorbar": {
             "outlinewidth": 0,
             "ticks": ""
            },
            "colorscale": [
             [
              0,
              "#0d0887"
             ],
             [
              0.1111111111111111,
              "#46039f"
             ],
             [
              0.2222222222222222,
              "#7201a8"
             ],
             [
              0.3333333333333333,
              "#9c179e"
             ],
             [
              0.4444444444444444,
              "#bd3786"
             ],
             [
              0.5555555555555556,
              "#d8576b"
             ],
             [
              0.6666666666666666,
              "#ed7953"
             ],
             [
              0.7777777777777778,
              "#fb9f3a"
             ],
             [
              0.8888888888888888,
              "#fdca26"
             ],
             [
              1,
              "#f0f921"
             ]
            ],
            "type": "histogram2d"
           }
          ],
          "histogram2dcontour": [
           {
            "colorbar": {
             "outlinewidth": 0,
             "ticks": ""
            },
            "colorscale": [
             [
              0,
              "#0d0887"
             ],
             [
              0.1111111111111111,
              "#46039f"
             ],
             [
              0.2222222222222222,
              "#7201a8"
             ],
             [
              0.3333333333333333,
              "#9c179e"
             ],
             [
              0.4444444444444444,
              "#bd3786"
             ],
             [
              0.5555555555555556,
              "#d8576b"
             ],
             [
              0.6666666666666666,
              "#ed7953"
             ],
             [
              0.7777777777777778,
              "#fb9f3a"
             ],
             [
              0.8888888888888888,
              "#fdca26"
             ],
             [
              1,
              "#f0f921"
             ]
            ],
            "type": "histogram2dcontour"
           }
          ],
          "mesh3d": [
           {
            "colorbar": {
             "outlinewidth": 0,
             "ticks": ""
            },
            "type": "mesh3d"
           }
          ],
          "parcoords": [
           {
            "line": {
             "colorbar": {
              "outlinewidth": 0,
              "ticks": ""
             }
            },
            "type": "parcoords"
           }
          ],
          "pie": [
           {
            "automargin": true,
            "type": "pie"
           }
          ],
          "scatter": [
           {
            "fillpattern": {
             "fillmode": "overlay",
             "size": 10,
             "solidity": 0.2
            },
            "type": "scatter"
           }
          ],
          "scatter3d": [
           {
            "line": {
             "colorbar": {
              "outlinewidth": 0,
              "ticks": ""
             }
            },
            "marker": {
             "colorbar": {
              "outlinewidth": 0,
              "ticks": ""
             }
            },
            "type": "scatter3d"
           }
          ],
          "scattercarpet": [
           {
            "marker": {
             "colorbar": {
              "outlinewidth": 0,
              "ticks": ""
             }
            },
            "type": "scattercarpet"
           }
          ],
          "scattergeo": [
           {
            "marker": {
             "colorbar": {
              "outlinewidth": 0,
              "ticks": ""
             }
            },
            "type": "scattergeo"
           }
          ],
          "scattergl": [
           {
            "marker": {
             "colorbar": {
              "outlinewidth": 0,
              "ticks": ""
             }
            },
            "type": "scattergl"
           }
          ],
          "scattermapbox": [
           {
            "marker": {
             "colorbar": {
              "outlinewidth": 0,
              "ticks": ""
             }
            },
            "type": "scattermapbox"
           }
          ],
          "scatterpolar": [
           {
            "marker": {
             "colorbar": {
              "outlinewidth": 0,
              "ticks": ""
             }
            },
            "type": "scatterpolar"
           }
          ],
          "scatterpolargl": [
           {
            "marker": {
             "colorbar": {
              "outlinewidth": 0,
              "ticks": ""
             }
            },
            "type": "scatterpolargl"
           }
          ],
          "scatterternary": [
           {
            "marker": {
             "colorbar": {
              "outlinewidth": 0,
              "ticks": ""
             }
            },
            "type": "scatterternary"
           }
          ],
          "surface": [
           {
            "colorbar": {
             "outlinewidth": 0,
             "ticks": ""
            },
            "colorscale": [
             [
              0,
              "#0d0887"
             ],
             [
              0.1111111111111111,
              "#46039f"
             ],
             [
              0.2222222222222222,
              "#7201a8"
             ],
             [
              0.3333333333333333,
              "#9c179e"
             ],
             [
              0.4444444444444444,
              "#bd3786"
             ],
             [
              0.5555555555555556,
              "#d8576b"
             ],
             [
              0.6666666666666666,
              "#ed7953"
             ],
             [
              0.7777777777777778,
              "#fb9f3a"
             ],
             [
              0.8888888888888888,
              "#fdca26"
             ],
             [
              1,
              "#f0f921"
             ]
            ],
            "type": "surface"
           }
          ],
          "table": [
           {
            "cells": {
             "fill": {
              "color": "#EBF0F8"
             },
             "line": {
              "color": "white"
             }
            },
            "header": {
             "fill": {
              "color": "#C8D4E3"
             },
             "line": {
              "color": "white"
             }
            },
            "type": "table"
           }
          ]
         },
         "layout": {
          "annotationdefaults": {
           "arrowcolor": "#2a3f5f",
           "arrowhead": 0,
           "arrowwidth": 1
          },
          "autotypenumbers": "strict",
          "coloraxis": {
           "colorbar": {
            "outlinewidth": 0,
            "ticks": ""
           }
          },
          "colorscale": {
           "diverging": [
            [
             0,
             "#8e0152"
            ],
            [
             0.1,
             "#c51b7d"
            ],
            [
             0.2,
             "#de77ae"
            ],
            [
             0.3,
             "#f1b6da"
            ],
            [
             0.4,
             "#fde0ef"
            ],
            [
             0.5,
             "#f7f7f7"
            ],
            [
             0.6,
             "#e6f5d0"
            ],
            [
             0.7,
             "#b8e186"
            ],
            [
             0.8,
             "#7fbc41"
            ],
            [
             0.9,
             "#4d9221"
            ],
            [
             1,
             "#276419"
            ]
           ],
           "sequential": [
            [
             0,
             "#0d0887"
            ],
            [
             0.1111111111111111,
             "#46039f"
            ],
            [
             0.2222222222222222,
             "#7201a8"
            ],
            [
             0.3333333333333333,
             "#9c179e"
            ],
            [
             0.4444444444444444,
             "#bd3786"
            ],
            [
             0.5555555555555556,
             "#d8576b"
            ],
            [
             0.6666666666666666,
             "#ed7953"
            ],
            [
             0.7777777777777778,
             "#fb9f3a"
            ],
            [
             0.8888888888888888,
             "#fdca26"
            ],
            [
             1,
             "#f0f921"
            ]
           ],
           "sequentialminus": [
            [
             0,
             "#0d0887"
            ],
            [
             0.1111111111111111,
             "#46039f"
            ],
            [
             0.2222222222222222,
             "#7201a8"
            ],
            [
             0.3333333333333333,
             "#9c179e"
            ],
            [
             0.4444444444444444,
             "#bd3786"
            ],
            [
             0.5555555555555556,
             "#d8576b"
            ],
            [
             0.6666666666666666,
             "#ed7953"
            ],
            [
             0.7777777777777778,
             "#fb9f3a"
            ],
            [
             0.8888888888888888,
             "#fdca26"
            ],
            [
             1,
             "#f0f921"
            ]
           ]
          },
          "colorway": [
           "#636efa",
           "#EF553B",
           "#00cc96",
           "#ab63fa",
           "#FFA15A",
           "#19d3f3",
           "#FF6692",
           "#B6E880",
           "#FF97FF",
           "#FECB52"
          ],
          "font": {
           "color": "#2a3f5f"
          },
          "geo": {
           "bgcolor": "white",
           "lakecolor": "white",
           "landcolor": "#E5ECF6",
           "showlakes": true,
           "showland": true,
           "subunitcolor": "white"
          },
          "hoverlabel": {
           "align": "left"
          },
          "hovermode": "closest",
          "mapbox": {
           "style": "light"
          },
          "paper_bgcolor": "white",
          "plot_bgcolor": "#E5ECF6",
          "polar": {
           "angularaxis": {
            "gridcolor": "white",
            "linecolor": "white",
            "ticks": ""
           },
           "bgcolor": "#E5ECF6",
           "radialaxis": {
            "gridcolor": "white",
            "linecolor": "white",
            "ticks": ""
           }
          },
          "scene": {
           "xaxis": {
            "backgroundcolor": "#E5ECF6",
            "gridcolor": "white",
            "gridwidth": 2,
            "linecolor": "white",
            "showbackground": true,
            "ticks": "",
            "zerolinecolor": "white"
           },
           "yaxis": {
            "backgroundcolor": "#E5ECF6",
            "gridcolor": "white",
            "gridwidth": 2,
            "linecolor": "white",
            "showbackground": true,
            "ticks": "",
            "zerolinecolor": "white"
           },
           "zaxis": {
            "backgroundcolor": "#E5ECF6",
            "gridcolor": "white",
            "gridwidth": 2,
            "linecolor": "white",
            "showbackground": true,
            "ticks": "",
            "zerolinecolor": "white"
           }
          },
          "shapedefaults": {
           "line": {
            "color": "#2a3f5f"
           }
          },
          "ternary": {
           "aaxis": {
            "gridcolor": "white",
            "linecolor": "white",
            "ticks": ""
           },
           "baxis": {
            "gridcolor": "white",
            "linecolor": "white",
            "ticks": ""
           },
           "bgcolor": "#E5ECF6",
           "caxis": {
            "gridcolor": "white",
            "linecolor": "white",
            "ticks": ""
           }
          },
          "title": {
           "x": 0.05
          },
          "xaxis": {
           "automargin": true,
           "gridcolor": "white",
           "linecolor": "white",
           "ticks": "",
           "title": {
            "standoff": 15
           },
           "zerolinecolor": "white",
           "zerolinewidth": 2
          },
          "yaxis": {
           "automargin": true,
           "gridcolor": "white",
           "linecolor": "white",
           "ticks": "",
           "title": {
            "standoff": 15
           },
           "zerolinecolor": "white",
           "zerolinewidth": 2
          }
         }
        },
        "xaxis": {
         "anchor": "y",
         "domain": [
          0,
          1
         ],
         "title": {
          "text": "0"
         }
        },
        "yaxis": {
         "anchor": "x",
         "domain": [
          0,
          1
         ],
         "title": {
          "text": "1"
         }
        }
       }
      },
      "text/html": [
       "<div>                            <div id=\"5d173000-edae-40e1-af8f-be2f72ae3014\" class=\"plotly-graph-div\" style=\"height:525px; width:100%;\"></div>            <script type=\"text/javascript\">                require([\"plotly\"], function(Plotly) {                    window.PLOTLYENV=window.PLOTLYENV || {};                                    if (document.getElementById(\"5d173000-edae-40e1-af8f-be2f72ae3014\")) {                    Plotly.newPlot(                        \"5d173000-edae-40e1-af8f-be2f72ae3014\",                        [{\"hovertemplate\":\"color=nyt<br>0=%{x}<br>1=%{y}<extra></extra>\",\"legendgroup\":\"nyt\",\"marker\":{\"color\":\"rgb(127, 60, 141)\",\"symbol\":\"circle\"},\"mode\":\"markers\",\"name\":\"nyt\",\"orientation\":\"v\",\"showlegend\":true,\"x\":[-3.564333292406962,-2.8940195919442444,-1.3946390313208898,-1.6776409066081976,1.0668068826069217,0.7369943115950898,3.5531329462128403,-1.4827108913241585,0.8949844433666199,1.7622257915147945,-5.3072291394874975,-4.83956550163865,-3.937530072917116,1.0037016147772695,-3.9954707445455577,-0.187309086071445,-3.7764211293719248,-2.8172617951005257,-0.5957353465576374,-3.889937302227753,-3.549157288012403,-1.7433426265253587,-3.5836681004485014,-1.0108605848871768,2.76379116550974,1.242093005437137,-3.5699437226832686,0.40190908012374515,17.425443587963215,0.1760381383786144,3.285743981952589,0.07742885609745623,-0.5012224000262686,-0.32274345932476434,1.2043566418567555,2.8561141712263503,2.2801535481312634,0.4266865136708589,0.030094158066449973,2.438616463252634,1.4012804303213675,0.6684707546074131,2.3567580859973964,-1.3809956964923482,0.7083336901267374,2.424879084506091,-0.599675314461028,2.4566689752061164,-1.9000149413278822,2.4852778816482073,3.267844024460902,-0.2703319096482082,2.6895683272474127,-0.2300531213088809,-3.7237914387602213,0.8304556713426863,2.57162701336729,2.512226420299533,2.998591177962789,1.2542581525916743,0.24928255296040125,-1.239672929592122,-8.699583727829177,2.8213328391505947,-3.1297662799073493,4.19010065250921,2.7679507416284137,2.772264813108599,0.8121452303544296,-0.6219570408585605,2.69668697582109,0.8708736122355696,1.163089934947295,-0.8316172946743378,-2.914000143839226,-1.4716072077079148,0.6117411741410985,-0.6372974327205878,5.698703955988132,2.6479426270620867,2.0891710713815077,0.9373440779369733,-0.5639732355942063,2.930159771407544,-1.1917877176745986,1.9711614805091604,-1.8700102738821176,2.8749106664068043,-0.3214967928598326,4.243316749077568,-0.00823988254006788,2.302734472355407,2.9770397684680567,1.7805614678891555,3.055483831087655,-3.210488119868665,2.57120925880851,2.8888930594947735,2.1814434363137623,0.17968444927094185],\"xaxis\":\"x\",\"y\":[0.7180577520832035,-0.5565437907126707,0.44673589823259396,-0.852168194076767,-1.5217174352959475,-1.325679868395968,-2.9896071601401717,-1.4407101435565286,1.6967614591833367,1.571563372734523,4.050655111142488,-3.1762680106453307,-0.17841823984331476,-1.9850936273458426,-5.4223227814715,0.6719469780630181,-0.6697013978703631,0.6206463187808406,-1.6536282682271726,-2.6345676148595647,-2.2444624299321636,0.6948685909990084,-1.4752575489225204,-2.4343324050374933,-1.0233064494287742,-1.190501112960345,-0.3960386690657061,-2.996988532322483,18.97920199601251,-1.8441166135514737,-5.297653741332322,-1.6429341092207232,-0.8646706593456215,1.603208292617711,0.7356754284959229,-0.6430472553664318,-4.209369733661454,-0.1667012485946185,-0.355278759368303,-0.31297560609536695,-1.2269586192335886,-0.5479876204283641,-0.6510043689586519,2.481316990932808,-0.34928140188461443,-2.987115053582196,0.7019695926082292,-2.514625868047126,2.398211975333208,-1.7559058818739568,-2.3797197087105166,0.028315157972836662,0.33148107545344835,0.5837304717802065,-3.4970171157343497,2.273139100560505,1.4121932062436255,-0.4436802108719283,-5.122655249226211,2.2267056216492893,-2.4112875275036965,-1.4408074370248503,-0.6675505212232606,0.5243820308030467,0.6531464446290614,-0.2584363964153885,-1.074440813636698,1.0359913971956094,-0.6319504212536363,-1.2502071224573035,-1.4893208544370033,-1.515084040761373,-1.8374026000949122,1.8232297361271887,-0.6845598247233927,-0.2897022648238256,-3.000228254295641,-0.5886573373023912,2.0408095565178943,3.4110575299585086,1.4144841404393473,1.1897003915219255,-1.0417627557310114,-2.0545346668882787,0.3750253271721912,2.3232748070432248,-2.2961761106468286,-3.852353371818165,1.7182474237710839,-0.5744242829093105,-0.45879526234284157,-3.245532640673503,2.634359499756996,-0.5868141169174109,-3.94588179641156,0.4941794509870738,-2.9298663232505753,2.7677339635786535,-0.3914790653425138,0.33193329823939116],\"yaxis\":\"y\",\"type\":\"scatter\"},{\"hovertemplate\":\"color=oba<br>0=%{x}<br>1=%{y}<extra></extra>\",\"legendgroup\":\"oba\",\"marker\":{\"color\":\"rgb(17, 165, 121)\",\"symbol\":\"circle\"},\"mode\":\"markers\",\"name\":\"oba\",\"orientation\":\"v\",\"showlegend\":true,\"x\":[-4.5644661560632125,-2.307233674894223,4.3752118410258705,-0.08975334447129325,0.6360682627820464,-5.87409089048228,0.30979164692786115,5.147097572666394,-3.394321662612149,-5.931783180646132,-1.1267918065910312,-0.23977390706540058,0.16953937121450866,4.955070449924971,0.9891630941789548,-2.106794334787239,-2.548082492877664,-5.6179532985030685,2.689237562181825,-1.6843701131366056,-0.5988030788534825,-0.055033866185571476,2.427014168671204,1.995803119765612,-0.30583386768698956,-7.659872355227195,-8.84624621315983,0.42585376229459554,-3.6213615079553616,2.40325564020672,-3.2284615678828645,1.1874966230315658,-4.4865625610928115,-4.9122832269676335,-1.6117793361621844,-2.4783714638003453,3.0905262390874544,-0.11042678900996329,-7.544190125271724,-7.548204798905721,-3.5864262952504213,-0.7919052466785808,2.302171062585712,-4.96616913917054,-2.9192781754008132,1.240704945731164,-3.1183048519697856,-0.9137255197935593,0.8140018255987257,3.396704707071179,-4.516444224805952,-1.415428023623271,-7.601752264393914,-7.294475344128643,-3.9389707380656014,-0.828198502833307,-7.342823840140897,-3.1874888355120046,1.5347421112952555,-1.9896369916286474,2.7744270784035923,-3.199796516514167,2.5802622139041853,0.6748253338798382,-4.81691967785634,3.4905596129985335,-0.26090246078065377,-5.95085730587926,-0.9357616185375018,-1.870576552156054,1.1053613548418764,0.7703831588710602,-1.8254032789642298,-6.548598376950401,1.9908118708629376,-5.576209397206758,9.114924306856185,-7.517271061701437,-5.673789511044857,-4.550844412586246,2.104049490001996,-6.092941297451318,0.5974049769641644,-0.38265852611458945,-7.703714831783209,2.739762122293659,1.6710650063907,2.123933420661483,3.019865902370601,-5.172967314060752,2.6698441012955962,3.9435269331188576,-7.680980945813086,-8.822214249914271,0.34054773785787307,-7.04588967028858,-3.023489522388206,2.221001642405262,-0.4626840989562146,-3.3444885266224564],\"xaxis\":\"x\",\"y\":[1.0333680588401108,1.845196826295012,0.4086311157198187,0.4860338793942381,0.2278310811381783,-0.0062937448965728745,-1.4236654939604494,-2.4095313422431306,1.9410264965221093,0.4206446158974039,-1.413362325155917,0.9824791144433006,0.995182959635955,-0.14140586613486858,0.4320140755492791,-0.13175614064297678,0.8692544657422043,3.47426350972342,-1.118169090929774,2.1916481204201417,0.12370289808083003,-0.5752058312548186,1.7890297446283174,-1.1237526549073054,2.423158965121604,1.156280624145631,1.7030373916106492,4.334246416213522,3.9731749551636,-0.8384178576170321,-1.2975331473386231,0.5678887548035902,-0.9809542440683335,1.3899682970183096,0.13266863422568761,2.3339099210827245,2.534529043391098,1.1409481375870933,0.5883559710647781,1.192343745865399,2.010420342837936,0.9957114105238349,1.340363937979694,1.8340482640347755,0.7496695590284645,-0.46300513256616715,1.1433562282027776,-0.7172132599121644,1.9636295574677485,0.4733047795327996,-2.3557574167931006,1.284654871017394,3.0927074809773303,1.0703248364504745,1.236252190209329,3.5189627167630246,3.1502887878309997,1.2893145414932174,-0.8535212634286938,0.10231719782546961,-2.6758134143242467,0.035142030204605504,2.6093702947961703,0.36309329506808924,1.3275504456833351,3.024243403808498,0.6529820992699465,-0.15050797427708523,-0.6331781483244937,1.280189203550803,-0.21206359238054437,1.1583027979660334,-0.2903120569219305,-0.5133591783882727,4.037405872402471,0.3787398575925564,-1.9854223117560788,0.7081385766535184,1.4837807575641047,3.727302712680873,2.51935868830554,3.451632377011342,-0.5613414266006473,-0.8793556592497042,-0.9070901798999604,1.7705451621013446,-1.921758923298458,0.901809665840979,1.7784418151956582,0.26641443189377234,4.521079276766499,-0.23367408341317902,0.9933220208962543,1.2603311072921102,-2.4358986477514253,0.31099223206993404,0.9903866233422007,1.2503217585085358,2.446221296892682,0.6476875464857448],\"yaxis\":\"y\",\"type\":\"scatter\"},{\"hovertemplate\":\"color=wsj<br>0=%{x}<br>1=%{y}<extra></extra>\",\"legendgroup\":\"wsj\",\"marker\":{\"color\":\"rgb(57, 105, 172)\",\"symbol\":\"circle\"},\"mode\":\"markers\",\"name\":\"wsj\",\"orientation\":\"v\",\"showlegend\":true,\"x\":[2.2633275619536124,-2.189206155332148,-1.145170158885885,-1.4606642490717605,1.4981046903593687,-0.37868717654524614,1.8655110214270498,0.5388873130294491,7.679294640889664,2.8565446371134997,-1.7481232952473222,3.5507697467778,1.905707255066345,3.4433761574970836,-3.5501632467240563,-1.1415994816429196,-1.4007721530460477,0.1643374089946272,-0.37430410912349565,0.03973445956343435,0.5133498608252094,-1.5576132376668648,2.949945372555222,-0.4228981340112918,1.2406307796684657,3.108330315099409,-1.283221142094042,0.27522523924125936,-0.4915213447556193,2.545096710150285,2.932227647177495,-0.7002420317939777,-1.0663618738299692,-1.4013587285759426,-1.2127844153162586,0.14764449255419274,3.212126254135251,1.2732615330447192,-0.42177716680894084,5.609307750319817,2.1947920800713523,2.774590683982687,2.794757641102707,-1.6205511511641166,1.0339358820538878,2.7291717727942966,-2.759299238548483,0.384124737737354,-1.911650737751555,2.7263643021344603,3.117853620624213,-0.8320259690100046,2.4859892847920424,1.250183084680118,3.3551977464428746,2.332233021067181,-0.6256308080987535,2.177345679279858,2.8934606596517662,2.720502425976507,2.916746271552961,3.1237428208004543,1.5879589756138437,3.023847096598713,1.4242193549250668,0.8340400499661998,0.6499458421836923,1.730694954305177,-0.7218049461659801,0.3285815889012162,2.890932745699958,3.160021168412958,2.6165468889827626,-1.7141666621757368,-1.2536661612172246,1.6670837148783977,1.4779230468734992,0.6646608470735937,3.420164445536066,0.6886792047484264,-0.986391631889205,2.8975787218888893,-0.4568456213835068,3.127696754949544,-1.134744976019823,2.2688066224342416,1.1306899005049094,3.4999103068696003,0.3410363502168491,1.1706605691433773,2.9497604447945784,2.794838899769769,3.0592743009930126,3.0647900151274565,2.912808377854572,-0.6664508280962976,0.5823284324739093,2.4724624592604485,-0.28385870424820664,2.112022243347407],\"xaxis\":\"x\",\"y\":[2.061263695472565,0.04869610459922481,1.3764194856493834,-0.8508807625162158,0.11638633640354179,0.8209544732519825,-2.1887956608361447,-1.9927534440653107,8.481301058929796,0.6699148319987024,3.757268833063249,-3.1069774523072295,1.8954659988166698,-1.459031783437816,-4.98975351869359,1.1199708582903116,0.6640962339625129,1.0047195292838413,-0.9028274048872206,-3.1472852440052326,0.7407142760133211,-1.011325597599311,-0.26494891549745436,0.15736151623766897,-0.02403327981921022,0.012260936985518478,0.11366318612906916,-2.5957450670069884,5.060466872849612,-2.7007875208788494,-4.752931684376924,-1.6548528491960321,-2.894675597601591,1.114297617598859,0.2638788377140817,1.949759999667161,-0.3309291678978764,-1.5753747601599288,-0.22404965615706574,2.2916500389553924,0.8568726979298797,2.9439804986659563,0.5299068131891724,3.27124237634022,-0.47557285600344845,-2.9772157952854017,1.5966274654145434,-0.9370270076351985,1.092411064846374,-1.2321582294637934,-3.503282731980542,2.258033868714539,3.242971831619705,-1.525192406153022,-3.438361469496103,2.2273586771369467,1.8490443335554725,1.9496830253174453,-3.8209363526447135,-1.1278270748839123,-0.4492611815568785,-3.730869805746003,-1.9580097543417838,-0.7588717616416835,1.155678216459975,-1.9402442970157605,0.4813155704567031,-0.8789650445588566,0.749076796129538,-0.6504203081721031,-2.624761789273552,-1.6497285242944162,-2.8010347751348252,0.07427690489776177,-0.36467058083938825,0.4279788504682995,-4.0028059692366265,0.6785704080297527,0.023623570151238515,-6.035357328614031,2.2081167032210156,3.312114999613264,-0.46328920697946685,0.6959289996568024,0.8154180705245537,2.765482710855706,-2.1231159882972177,-4.726676205515081,2.2234307420219297,-0.940501393880782,-0.6393069213513525,-4.007931956676686,1.2096812769398313,-3.0520877341197497,-3.5801629131220416,-0.8859386210021309,-5.17868071148182,1.0651257243143373,-0.3120765252717097,-0.022440867176991095],\"yaxis\":\"y\",\"type\":\"scatter\"}],                        {\"template\":{\"data\":{\"histogram2dcontour\":[{\"type\":\"histogram2dcontour\",\"colorbar\":{\"outlinewidth\":0,\"ticks\":\"\"},\"colorscale\":[[0.0,\"#0d0887\"],[0.1111111111111111,\"#46039f\"],[0.2222222222222222,\"#7201a8\"],[0.3333333333333333,\"#9c179e\"],[0.4444444444444444,\"#bd3786\"],[0.5555555555555556,\"#d8576b\"],[0.6666666666666666,\"#ed7953\"],[0.7777777777777778,\"#fb9f3a\"],[0.8888888888888888,\"#fdca26\"],[1.0,\"#f0f921\"]]}],\"choropleth\":[{\"type\":\"choropleth\",\"colorbar\":{\"outlinewidth\":0,\"ticks\":\"\"}}],\"histogram2d\":[{\"type\":\"histogram2d\",\"colorbar\":{\"outlinewidth\":0,\"ticks\":\"\"},\"colorscale\":[[0.0,\"#0d0887\"],[0.1111111111111111,\"#46039f\"],[0.2222222222222222,\"#7201a8\"],[0.3333333333333333,\"#9c179e\"],[0.4444444444444444,\"#bd3786\"],[0.5555555555555556,\"#d8576b\"],[0.6666666666666666,\"#ed7953\"],[0.7777777777777778,\"#fb9f3a\"],[0.8888888888888888,\"#fdca26\"],[1.0,\"#f0f921\"]]}],\"heatmap\":[{\"type\":\"heatmap\",\"colorbar\":{\"outlinewidth\":0,\"ticks\":\"\"},\"colorscale\":[[0.0,\"#0d0887\"],[0.1111111111111111,\"#46039f\"],[0.2222222222222222,\"#7201a8\"],[0.3333333333333333,\"#9c179e\"],[0.4444444444444444,\"#bd3786\"],[0.5555555555555556,\"#d8576b\"],[0.6666666666666666,\"#ed7953\"],[0.7777777777777778,\"#fb9f3a\"],[0.8888888888888888,\"#fdca26\"],[1.0,\"#f0f921\"]]}],\"heatmapgl\":[{\"type\":\"heatmapgl\",\"colorbar\":{\"outlinewidth\":0,\"ticks\":\"\"},\"colorscale\":[[0.0,\"#0d0887\"],[0.1111111111111111,\"#46039f\"],[0.2222222222222222,\"#7201a8\"],[0.3333333333333333,\"#9c179e\"],[0.4444444444444444,\"#bd3786\"],[0.5555555555555556,\"#d8576b\"],[0.6666666666666666,\"#ed7953\"],[0.7777777777777778,\"#fb9f3a\"],[0.8888888888888888,\"#fdca26\"],[1.0,\"#f0f921\"]]}],\"contourcarpet\":[{\"type\":\"contourcarpet\",\"colorbar\":{\"outlinewidth\":0,\"ticks\":\"\"}}],\"contour\":[{\"type\":\"contour\",\"colorbar\":{\"outlinewidth\":0,\"ticks\":\"\"},\"colorscale\":[[0.0,\"#0d0887\"],[0.1111111111111111,\"#46039f\"],[0.2222222222222222,\"#7201a8\"],[0.3333333333333333,\"#9c179e\"],[0.4444444444444444,\"#bd3786\"],[0.5555555555555556,\"#d8576b\"],[0.6666666666666666,\"#ed7953\"],[0.7777777777777778,\"#fb9f3a\"],[0.8888888888888888,\"#fdca26\"],[1.0,\"#f0f921\"]]}],\"surface\":[{\"type\":\"surface\",\"colorbar\":{\"outlinewidth\":0,\"ticks\":\"\"},\"colorscale\":[[0.0,\"#0d0887\"],[0.1111111111111111,\"#46039f\"],[0.2222222222222222,\"#7201a8\"],[0.3333333333333333,\"#9c179e\"],[0.4444444444444444,\"#bd3786\"],[0.5555555555555556,\"#d8576b\"],[0.6666666666666666,\"#ed7953\"],[0.7777777777777778,\"#fb9f3a\"],[0.8888888888888888,\"#fdca26\"],[1.0,\"#f0f921\"]]}],\"mesh3d\":[{\"type\":\"mesh3d\",\"colorbar\":{\"outlinewidth\":0,\"ticks\":\"\"}}],\"scatter\":[{\"fillpattern\":{\"fillmode\":\"overlay\",\"size\":10,\"solidity\":0.2},\"type\":\"scatter\"}],\"parcoords\":[{\"type\":\"parcoords\",\"line\":{\"colorbar\":{\"outlinewidth\":0,\"ticks\":\"\"}}}],\"scatterpolargl\":[{\"type\":\"scatterpolargl\",\"marker\":{\"colorbar\":{\"outlinewidth\":0,\"ticks\":\"\"}}}],\"bar\":[{\"error_x\":{\"color\":\"#2a3f5f\"},\"error_y\":{\"color\":\"#2a3f5f\"},\"marker\":{\"line\":{\"color\":\"#E5ECF6\",\"width\":0.5},\"pattern\":{\"fillmode\":\"overlay\",\"size\":10,\"solidity\":0.2}},\"type\":\"bar\"}],\"scattergeo\":[{\"type\":\"scattergeo\",\"marker\":{\"colorbar\":{\"outlinewidth\":0,\"ticks\":\"\"}}}],\"scatterpolar\":[{\"type\":\"scatterpolar\",\"marker\":{\"colorbar\":{\"outlinewidth\":0,\"ticks\":\"\"}}}],\"histogram\":[{\"marker\":{\"pattern\":{\"fillmode\":\"overlay\",\"size\":10,\"solidity\":0.2}},\"type\":\"histogram\"}],\"scattergl\":[{\"type\":\"scattergl\",\"marker\":{\"colorbar\":{\"outlinewidth\":0,\"ticks\":\"\"}}}],\"scatter3d\":[{\"type\":\"scatter3d\",\"line\":{\"colorbar\":{\"outlinewidth\":0,\"ticks\":\"\"}},\"marker\":{\"colorbar\":{\"outlinewidth\":0,\"ticks\":\"\"}}}],\"scattermapbox\":[{\"type\":\"scattermapbox\",\"marker\":{\"colorbar\":{\"outlinewidth\":0,\"ticks\":\"\"}}}],\"scatterternary\":[{\"type\":\"scatterternary\",\"marker\":{\"colorbar\":{\"outlinewidth\":0,\"ticks\":\"\"}}}],\"scattercarpet\":[{\"type\":\"scattercarpet\",\"marker\":{\"colorbar\":{\"outlinewidth\":0,\"ticks\":\"\"}}}],\"carpet\":[{\"aaxis\":{\"endlinecolor\":\"#2a3f5f\",\"gridcolor\":\"white\",\"linecolor\":\"white\",\"minorgridcolor\":\"white\",\"startlinecolor\":\"#2a3f5f\"},\"baxis\":{\"endlinecolor\":\"#2a3f5f\",\"gridcolor\":\"white\",\"linecolor\":\"white\",\"minorgridcolor\":\"white\",\"startlinecolor\":\"#2a3f5f\"},\"type\":\"carpet\"}],\"table\":[{\"cells\":{\"fill\":{\"color\":\"#EBF0F8\"},\"line\":{\"color\":\"white\"}},\"header\":{\"fill\":{\"color\":\"#C8D4E3\"},\"line\":{\"color\":\"white\"}},\"type\":\"table\"}],\"barpolar\":[{\"marker\":{\"line\":{\"color\":\"#E5ECF6\",\"width\":0.5},\"pattern\":{\"fillmode\":\"overlay\",\"size\":10,\"solidity\":0.2}},\"type\":\"barpolar\"}],\"pie\":[{\"automargin\":true,\"type\":\"pie\"}]},\"layout\":{\"autotypenumbers\":\"strict\",\"colorway\":[\"#636efa\",\"#EF553B\",\"#00cc96\",\"#ab63fa\",\"#FFA15A\",\"#19d3f3\",\"#FF6692\",\"#B6E880\",\"#FF97FF\",\"#FECB52\"],\"font\":{\"color\":\"#2a3f5f\"},\"hovermode\":\"closest\",\"hoverlabel\":{\"align\":\"left\"},\"paper_bgcolor\":\"white\",\"plot_bgcolor\":\"#E5ECF6\",\"polar\":{\"bgcolor\":\"#E5ECF6\",\"angularaxis\":{\"gridcolor\":\"white\",\"linecolor\":\"white\",\"ticks\":\"\"},\"radialaxis\":{\"gridcolor\":\"white\",\"linecolor\":\"white\",\"ticks\":\"\"}},\"ternary\":{\"bgcolor\":\"#E5ECF6\",\"aaxis\":{\"gridcolor\":\"white\",\"linecolor\":\"white\",\"ticks\":\"\"},\"baxis\":{\"gridcolor\":\"white\",\"linecolor\":\"white\",\"ticks\":\"\"},\"caxis\":{\"gridcolor\":\"white\",\"linecolor\":\"white\",\"ticks\":\"\"}},\"coloraxis\":{\"colorbar\":{\"outlinewidth\":0,\"ticks\":\"\"}},\"colorscale\":{\"sequential\":[[0.0,\"#0d0887\"],[0.1111111111111111,\"#46039f\"],[0.2222222222222222,\"#7201a8\"],[0.3333333333333333,\"#9c179e\"],[0.4444444444444444,\"#bd3786\"],[0.5555555555555556,\"#d8576b\"],[0.6666666666666666,\"#ed7953\"],[0.7777777777777778,\"#fb9f3a\"],[0.8888888888888888,\"#fdca26\"],[1.0,\"#f0f921\"]],\"sequentialminus\":[[0.0,\"#0d0887\"],[0.1111111111111111,\"#46039f\"],[0.2222222222222222,\"#7201a8\"],[0.3333333333333333,\"#9c179e\"],[0.4444444444444444,\"#bd3786\"],[0.5555555555555556,\"#d8576b\"],[0.6666666666666666,\"#ed7953\"],[0.7777777777777778,\"#fb9f3a\"],[0.8888888888888888,\"#fdca26\"],[1.0,\"#f0f921\"]],\"diverging\":[[0,\"#8e0152\"],[0.1,\"#c51b7d\"],[0.2,\"#de77ae\"],[0.3,\"#f1b6da\"],[0.4,\"#fde0ef\"],[0.5,\"#f7f7f7\"],[0.6,\"#e6f5d0\"],[0.7,\"#b8e186\"],[0.8,\"#7fbc41\"],[0.9,\"#4d9221\"],[1,\"#276419\"]]},\"xaxis\":{\"gridcolor\":\"white\",\"linecolor\":\"white\",\"ticks\":\"\",\"title\":{\"standoff\":15},\"zerolinecolor\":\"white\",\"automargin\":true,\"zerolinewidth\":2},\"yaxis\":{\"gridcolor\":\"white\",\"linecolor\":\"white\",\"ticks\":\"\",\"title\":{\"standoff\":15},\"zerolinecolor\":\"white\",\"automargin\":true,\"zerolinewidth\":2},\"scene\":{\"xaxis\":{\"backgroundcolor\":\"#E5ECF6\",\"gridcolor\":\"white\",\"linecolor\":\"white\",\"showbackground\":true,\"ticks\":\"\",\"zerolinecolor\":\"white\",\"gridwidth\":2},\"yaxis\":{\"backgroundcolor\":\"#E5ECF6\",\"gridcolor\":\"white\",\"linecolor\":\"white\",\"showbackground\":true,\"ticks\":\"\",\"zerolinecolor\":\"white\",\"gridwidth\":2},\"zaxis\":{\"backgroundcolor\":\"#E5ECF6\",\"gridcolor\":\"white\",\"linecolor\":\"white\",\"showbackground\":true,\"ticks\":\"\",\"zerolinecolor\":\"white\",\"gridwidth\":2}},\"shapedefaults\":{\"line\":{\"color\":\"#2a3f5f\"}},\"annotationdefaults\":{\"arrowcolor\":\"#2a3f5f\",\"arrowhead\":0,\"arrowwidth\":1},\"geo\":{\"bgcolor\":\"white\",\"landcolor\":\"#E5ECF6\",\"subunitcolor\":\"white\",\"showland\":true,\"showlakes\":true,\"lakecolor\":\"white\"},\"title\":{\"x\":0.05},\"mapbox\":{\"style\":\"light\"}}},\"xaxis\":{\"anchor\":\"y\",\"domain\":[0.0,1.0],\"title\":{\"text\":\"0\"}},\"yaxis\":{\"anchor\":\"x\",\"domain\":[0.0,1.0],\"title\":{\"text\":\"1\"}},\"legend\":{\"title\":{\"text\":\"color\"},\"tracegroupgap\":0},\"margin\":{\"t\":60}},                        {\"responsive\": true}                    ).then(function(){\n",
       "                            \n",
       "var gd = document.getElementById('5d173000-edae-40e1-af8f-be2f72ae3014');\n",
       "var x = new MutationObserver(function (mutations, observer) {{\n",
       "        var display = window.getComputedStyle(gd).display;\n",
       "        if (!display || display === 'none') {{\n",
       "            console.log([gd, 'removed!']);\n",
       "            Plotly.purge(gd);\n",
       "            observer.disconnect();\n",
       "        }}\n",
       "}});\n",
       "\n",
       "// Listen for the removal of the full notebook cells\n",
       "var notebookContainer = gd.closest('#notebook-container');\n",
       "if (notebookContainer) {{\n",
       "    x.observe(notebookContainer, {childList: true});\n",
       "}}\n",
       "\n",
       "// Listen for the clearing of the current output cell\n",
       "var outputEl = gd.closest('.output');\n",
       "if (outputEl) {{\n",
       "    x.observe(outputEl, {childList: true});\n",
       "}}\n",
       "\n",
       "                        })                };                });            </script>        </div>"
      ]
     },
     "metadata": {},
     "output_type": "display_data"
    }
   ],
   "source": [
    "fig = px.scatter(pcafit2, \n",
    "                 x=0, \n",
    "                 y=1, \n",
    "                 color=df_tidy['source'],\n",
    "                 color_discrete_sequence=px.colors.qualitative.Bold)\n",
    "fig.show()"
   ]
  },
  {
   "cell_type": "markdown",
   "id": "25c28744",
   "metadata": {},
   "source": [
    "<A HREF=\"https://distill.pub/2016/misread-tsne/\">Some info about t-sne</A>"
   ]
  },
  {
   "cell_type": "code",
   "execution_count": 77,
   "id": "8da3cb22",
   "metadata": {},
   "outputs": [
    {
     "name": "stderr",
     "output_type": "stream",
     "text": [
      "/home/muddy/.local/lib/python3.10/site-packages/sklearn/manifold/_t_sne.py:810: FutureWarning:\n",
      "\n",
      "The default learning rate in TSNE will change from 200.0 to 'auto' in 1.2.\n",
      "\n"
     ]
    },
    {
     "data": {
      "application/vnd.plotly.v1+json": {
       "config": {
        "plotlyServerURL": "https://plot.ly"
       },
       "data": [
        {
         "hovertemplate": "color=nyt<br>0=%{x}<br>1=%{y}<extra></extra>",
         "legendgroup": "nyt",
         "marker": {
          "color": "rgb(127, 60, 141)",
          "symbol": "circle"
         },
         "mode": "markers",
         "name": "nyt",
         "orientation": "v",
         "showlegend": true,
         "type": "scatter",
         "x": [
          3.4255435466766357,
          2.974587917327881,
          5.092612266540527,
          -0.5710687041282654,
          -2.0139970779418945,
          -0.7723875045776367,
          -8.9273681640625,
          6.081545352935791,
          7.317590713500977,
          1.8945363759994507,
          3.7460098266601562,
          6.411540985107422,
          4.658349514007568,
          9.17282485961914,
          7.404536724090576,
          8.880481719970703,
          3.6859054565429688,
          4.211739540100098,
          8.151056289672852,
          6.062515735626221,
          5.980893611907959,
          -1.6155486106872559,
          4.981579303741455,
          7.220783233642578,
          -5.08889102935791,
          -3.627143144607544,
          4.611184597015381,
          -5.178712844848633,
          -1.309877634048462,
          -3.113619327545166,
          -10.68250846862793,
          7.621796607971191,
          6.0468668937683105,
          4.585555076599121,
          -0.22386062145233154,
          -3.70046067237854,
          -8.981758117675781,
          -3.636160135269165,
          2.244277238845825,
          -2.2610180377960205,
          -1.9308513402938843,
          6.980917930603027,
          -3.082765579223633,
          4.976431846618652,
          -1.4344592094421387,
          -8.24796199798584,
          0.41242775321006775,
          -7.361636638641357,
          5.743505954742432,
          -4.550124645233154,
          -7.120648384094238,
          -0.6804493069648743,
          -1.1457136869430542,
          3.5021824836730957,
          6.739704608917236,
          2.9672083854675293,
          0.9161607623100281,
          -3.0641162395477295,
          -9.645898818969727,
          2.2919859886169434,
          -4.717702865600586,
          -1.4809871912002563,
          0.7805991172790527,
          -2.8172857761383057,
          4.23065185546875,
          -4.782538414001465,
          -4.0108442306518555,
          0.8112505674362183,
          -2.137518882751465,
          6.3217902183532715,
          -5.675807952880859,
          -3.7666070461273193,
          -3.1281912326812744,
          4.985201358795166,
          2.9046835899353027,
          5.302465915679932,
          -5.004790782928467,
          4.556909084320068,
          -8.016282081604004,
          4.480781078338623,
          1.244124412536621,
          0.807041585445404,
          -2.059227228164673,
          -6.484633445739746,
          2.824634313583374,
          2.3052968978881836,
          6.018791198730469,
          -9.03378677368164,
          6.740316390991211,
          -7.28902530670166,
          -4.645059585571289,
          -8.146979331970215,
          3.507580280303955,
          -5.048518180847168,
          -8.692237854003906,
          1.8867394924163818,
          -10.353614807128906,
          1.6026583909988403,
          -2.584127187728882,
          -0.03639110177755356
         ],
         "xaxis": "x",
         "y": [
          -7.00100564956665,
          -7.377386093139648,
          -3.2858660221099854,
          -5.220060348510742,
          -0.5495626330375671,
          1.9596600532531738,
          4.501494884490967,
          -2.6658711433410645,
          3.931931495666504,
          7.39436149597168,
          -12.187492370605469,
          -8.943608283996582,
          -7.535728454589844,
          -2.2671024799346924,
          -8.395380020141602,
          0.5439357757568359,
          -8.098203659057617,
          -6.341169834136963,
          -2.732670545578003,
          -7.511336326599121,
          -7.648355007171631,
          -5.829065799713135,
          -8.08358097076416,
          -5.413102626800537,
          6.980692386627197,
          3.8207428455352783,
          -7.308506011962891,
          0.22234486043453217,
          11.938806533813477,
          -0.6549596786499023,
          5.611207008361816,
          -2.8403189182281494,
          -3.418928861618042,
          0.7360742688179016,
          -0.05288734659552574,
          7.232284069061279,
          5.963830471038818,
          -2.35471510887146,
          0.4913071095943451,
          6.40682315826416,
          2.504864454269409,
          -0.8464003205299377,
          5.762024879455566,
          1.7057055234909058,
          -1.001340627670288,
          5.779943943023682,
          -2.2837977409362793,
          8.052998542785645,
          1.2355111837387085,
          4.560513496398926,
          4.707533359527588,
          -2.5708320140838623,
          6.5679240226745605,
          -0.7536118030548096,
          -8.566460609436035,
          5.723904609680176,
          7.07843542098999,
          6.611847400665283,
          5.741630554199219,
          7.500161647796631,
          -0.09070400148630142,
          -4.672708988189697,
          -13.388689994812012,
          7.554173946380615,
          -7.079660892486572,
          6.154475212097168,
          6.103541851043701,
          8.911507606506348,
          -1.4749398231506348,
          -2.350867748260498,
          6.754990577697754,
          -0.2258520871400833,
          2.490790843963623,
          0.3602595627307892,
          -7.472239017486572,
          -2.226048469543457,
          0.4776487648487091,
          -1.6577717065811157,
          1.3250929117202759,
          9.185171127319336,
          6.88709831237793,
          5.1610307693481445,
          -2.535874128341675,
          5.172826290130615,
          -0.9800960421562195,
          8.4459810256958,
          -5.472023963928223,
          7.2838263511657715,
          2.4984424114227295,
          2.456862449645996,
          -5.785937309265137,
          7.297183990478516,
          9.735763549804688,
          8.901652336120605,
          5.378544330596924,
          -6.904916763305664,
          7.479541301727295,
          10.359944343566895,
          4.717345714569092,
          -2.268902063369751
         ],
         "yaxis": "y"
        },
        {
         "hovertemplate": "color=oba<br>0=%{x}<br>1=%{y}<extra></extra>",
         "legendgroup": "oba",
         "marker": {
          "color": "rgb(17, 165, 121)",
          "symbol": "circle"
         },
         "mode": "markers",
         "name": "oba",
         "orientation": "v",
         "showlegend": true,
         "type": "scatter",
         "x": [
          -0.24888867139816284,
          0.989359438419342,
          -7.098787784576416,
          -0.8737829327583313,
          2.271444082260132,
          0.018284693360328674,
          -4.872125148773193,
          -8.772537231445312,
          0.3023068904876709,
          0.5426017642021179,
          -3.705411434173584,
          -0.4214973747730255,
          2.618488073348999,
          -7.546306610107422,
          1.3911224603652954,
          3.957796573638916,
          3.6960232257843018,
          1.5577999353408813,
          -5.139344215393066,
          3.759411096572876,
          3.510021686553955,
          -1.5218451023101807,
          0.764999508857727,
          -3.6024701595306396,
          1.3697905540466309,
          3.0257363319396973,
          0.7035963535308838,
          4.895448684692383,
          1.4837727546691895,
          -3.2325961589813232,
          3.4849860668182373,
          -0.45501708984375,
          3.8660240173339844,
          0.49415338039398193,
          3.1888346672058105,
          -0.7763751149177551,
          0.18418064713478088,
          -3.678006410598755,
          -0.040734730660915375,
          2.5505001544952393,
          3.541341781616211,
          0.8857163786888123,
          0.03806019201874733,
          4.648687362670898,
          1.5180691480636597,
          -1.4820789098739624,
          -0.7658077478408813,
          -0.21394029259681702,
          3.1531853675842285,
          -0.316648930311203,
          5.468784332275391,
          3.3996548652648926,
          2.541184186935425,
          0.23290511965751648,
          -2.594642400741577,
          5.332418441772461,
          2.579263210296631,
          -0.05048719048500061,
          -3.080665349960327,
          -0.5554010272026062,
          -8.367456436157227,
          0.5542982816696167,
          2.0707197189331055,
          5.456328868865967,
          -0.6872130036354065,
          -0.4800054132938385,
          -3.5579257011413574,
          3.2508857250213623,
          -0.7663592100143433,
          0.7230123281478882,
          -2.77238130569458,
          0.4737458825111389,
          -0.1012805923819542,
          4.1786274909973145,
          3.6824493408203125,
          3.6128714084625244,
          -9.045649528503418,
          0.2697674334049225,
          1.570489525794983,
          1.2810893058776855,
          3.761829376220703,
          1.4723091125488281,
          -1.2139939069747925,
          -1.5201908349990845,
          3.4217755794525146,
          2.1249887943267822,
          -3.487586498260498,
          -3.229391098022461,
          1.2817044258117676,
          -0.3421725928783417,
          -9.426216125488281,
          -5.450887680053711,
          1.0018433332443237,
          1.4696156978607178,
          2.9787635803222656,
          1.2480695247650146,
          1.32339608669281,
          0.3453775942325592,
          1.4859575033187866,
          -0.8897342085838318
         ],
         "xaxis": "x",
         "y": [
          -10.339177131652832,
          -5.749761581420898,
          2.284161329269409,
          -2.4422450065612793,
          2.6421546936035156,
          -12.170973777770996,
          -5.817166328430176,
          3.0131568908691406,
          -9.840201377868652,
          -11.744131088256836,
          -5.919483184814453,
          -2.3414294719696045,
          2.5162172317504883,
          2.177821636199951,
          2.83736515045166,
          -3.142733335494995,
          -4.6396684646606445,
          -10.419517517089844,
          7.175518035888672,
          1.6169393062591553,
          -2.792475461959839,
          -3.193143367767334,
          8.347229957580566,
          4.628241539001465,
          -3.073789596557617,
          -11.374983787536621,
          -13.143290519714355,
          4.014307975769043,
          -9.525697708129883,
          5.111713409423828,
          -8.246857643127441,
          5.655240058898926,
          -8.470976829528809,
          -10.55289077758789,
          -2.524303436279297,
          -8.84605884552002,
          8.78467082977295,
          -2.527601957321167,
          -13.021416664123535,
          -11.598409652709961,
          -5.54593563079834,
          -3.768217086791992,
          7.567662715911865,
          -11.784942626953125,
          -6.339294910430908,
          0.3420283794403076,
          -9.514715194702148,
          -3.966668128967285,
          6.8742475509643555,
          10.337814331054688,
          -8.791130065917969,
          -2.1240859031677246,
          -11.779923439025879,
          -12.698820114135742,
          -8.40330696105957,
          3.628214120864868,
          -11.911236763000488,
          -8.73705768585205,
          0.7208563685417175,
          -6.9102044105529785,
          5.189163684844971,
          -8.151524543762207,
          9.40380859375,
          6.158079624176025,
          -12.088147163391113,
          9.064482688903809,
          -5.598948001861572,
          -10.319853782653809,
          -4.442086219787598,
          -5.49704647064209,
          0.20810139179229736,
          -0.8488760590553284,
          -5.835843086242676,
          -10.187871932983398,
          8.84019660949707,
          -10.255374908447266,
          2.517636299133301,
          -12.81624984741211,
          -11.328988075256348,
          -10.00899887084961,
          8.931509971618652,
          -11.031998634338379,
          0.5256138443946838,
          -2.54335618019104,
          -10.979151725769043,
          9.305274963378906,
          0.6519336700439453,
          11.434813499450684,
          9.458876609802246,
          -12.103012084960938,
          -0.720740795135498,
          3.746920347213745,
          -12.454253196716309,
          -12.839509010314941,
          3.858726978302002,
          -12.214284896850586,
          -6.832583427429199,
          7.852191925048828,
          -2.9566643238067627,
          -9.579922676086426
         ],
         "yaxis": "y"
        },
        {
         "hovertemplate": "color=wsj<br>0=%{x}<br>1=%{y}<extra></extra>",
         "legendgroup": "wsj",
         "marker": {
          "color": "rgb(57, 105, 172)",
          "symbol": "circle"
         },
         "mode": "markers",
         "name": "wsj",
         "orientation": "v",
         "showlegend": true,
         "type": "scatter",
         "x": [
          1.970628023147583,
          4.211174488067627,
          5.144885540008545,
          -0.8125284314155579,
          -0.2957364320755005,
          -5.625704765319824,
          -4.490498065948486,
          -2.6884031295776367,
          -5.561425685882568,
          -0.5826204419136047,
          5.5922369956970215,
          -7.109131813049316,
          1.600320816040039,
          -7.71416711807251,
          7.232916831970215,
          0.8652943968772888,
          1.5224746465682983,
          4.215799331665039,
          8.003955841064453,
          -7.555534839630127,
          6.302976131439209,
          4.85821008682251,
          -2.753178119659424,
          6.051246643066406,
          0.7215156555175781,
          -1.7137154340744019,
          4.283631324768066,
          -4.536375999450684,
          5.269464015960693,
          -8.462224006652832,
          -10.283061981201172,
          7.886371612548828,
          7.148962497711182,
          5.4009504318237305,
          5.132747650146484,
          7.31924295425415,
          -2.791158437728882,
          -3.82869029045105,
          2.5982091426849365,
          -3.5460574626922607,
          -6.5284857749938965,
          -3.060753107070923,
          -2.4104080200195312,
          5.189330101013184,
          0.23755909502506256,
          -8.138528823852539,
          2.335325002670288,
          8.313884735107422,
          3.870738983154297,
          -4.372805595397949,
          -7.489433288574219,
          5.094497203826904,
          3.3678791522979736,
          -1.6776070594787598,
          -9.387885093688965,
          1.7754905223846436,
          7.9340081214904785,
          0.9389926195144653,
          -9.158613204956055,
          -2.614243984222412,
          -3.2785205841064453,
          -9.686789512634277,
          -2.9680962562561035,
          -3.7935450077056885,
          1.4707543849945068,
          -2.3961493968963623,
          1.4335410594940186,
          -1.349206566810608,
          5.662468910217285,
          1.6567953824996948,
          -8.910928726196289,
          -5.044772148132324,
          -6.855020999908447,
          -0.36146023869514465,
          -0.058667510747909546,
          -0.21547465026378632,
          -7.942358016967773,
          1.3713512420654297,
          -3.607823610305786,
          -12.258711814880371,
          6.4818339347839355,
          3.7179696559906006,
          2.810533046722412,
          -2.0685834884643555,
          -3.344813585281372,
          1.9097813367843628,
          -4.48134183883667,
          -9.284627914428711,
          6.4457831382751465,
          -2.181612253189087,
          -3.5047831535339355,
          -8.492619514465332,
          0.4087873697280884,
          -10.234664916992188,
          -8.161581039428711,
          5.874724864959717,
          -12.214022636413574,
          -0.06353195756673813,
          6.58328914642334,
          1.005539894104004
         ],
         "xaxis": "x",
         "y": [
          8.414361953735352,
          -2.8614253997802734,
          -3.7778642177581787,
          -4.7088189125061035,
          5.2786383628845215,
          -3.3686463832855225,
          2.5683422088623047,
          2.4089388847351074,
          3.6621832847595215,
          7.664797782897949,
          2.20338773727417,
          6.179647445678711,
          7.230451583862305,
          9.14034652709961,
          -8.472572326660156,
          -4.858061790466309,
          -4.833322525024414,
          0.08809268474578857,
          -3.0526301860809326,
          -4.307956218719482,
          0.1073560044169426,
          -2.395552396774292,
          6.640650272369385,
          -1.5543807744979858,
          2.738367795944214,
          4.743981838226318,
          -1.2224634885787964,
          1.510663390159607,
          2.6243317127227783,
          8.052650451660156,
          6.383016109466553,
          -4.008978843688965,
          -4.007645130157471,
          -0.1746966540813446,
          -1.7085590362548828,
          3.5664947032928467,
          6.069192886352539,
          1.9314792156219482,
          0.3105589747428894,
          10.415321350097656,
          -1.5429327487945557,
          11.079899787902832,
          8.303406715393066,
          1.9602307081222534,
          1.291317105293274,
          6.6411213874816895,
          -6.322540760040283,
          -0.9998385310173035,
          -1.5416655540466309,
          4.96063756942749,
          4.752449035644531,
          1.0777112245559692,
          7.639659881591797,
          2.2273640632629395,
          7.149103164672852,
          4.833775520324707,
          2.4514665603637695,
          7.652595043182373,
          5.47125244140625,
          5.49915885925293,
          6.432435512542725,
          4.353545665740967,
          3.583361864089966,
          7.544788837432861,
          3.896456003189087,
          1.8828134536743164,
          1.3087735176086426,
          3.0541446208953857,
          -0.8075127005577087,
          0.27136650681495667,
          6.906106472015381,
          5.406485080718994,
          5.678081035614014,
          -5.3475799560546875,
          -4.595824241638184,
          6.005496025085449,
          3.976808786392212,
          1.9706670045852661,
          8.061809539794922,
          6.781972885131836,
          1.4237120151519775,
          9.660353660583496,
          -0.9494134783744812,
          7.312620639801025,
          -3.8272032737731934,
          8.238382339477539,
          0.3281222879886627,
          7.675868034362793,
          2.7611165046691895,
          2.4231700897216797,
          5.803927421569824,
          7.321526527404785,
          6.545551300048828,
          4.246247291564941,
          6.147361755371094,
          -2.0482380390167236,
          6.824421405792236,
          7.178695201873779,
          -1.8270106315612793,
          3.1558849811553955
         ],
         "yaxis": "y"
        }
       ],
       "layout": {
        "legend": {
         "title": {
          "text": "color"
         },
         "tracegroupgap": 0
        },
        "margin": {
         "t": 60
        },
        "template": {
         "data": {
          "bar": [
           {
            "error_x": {
             "color": "#2a3f5f"
            },
            "error_y": {
             "color": "#2a3f5f"
            },
            "marker": {
             "line": {
              "color": "#E5ECF6",
              "width": 0.5
             },
             "pattern": {
              "fillmode": "overlay",
              "size": 10,
              "solidity": 0.2
             }
            },
            "type": "bar"
           }
          ],
          "barpolar": [
           {
            "marker": {
             "line": {
              "color": "#E5ECF6",
              "width": 0.5
             },
             "pattern": {
              "fillmode": "overlay",
              "size": 10,
              "solidity": 0.2
             }
            },
            "type": "barpolar"
           }
          ],
          "carpet": [
           {
            "aaxis": {
             "endlinecolor": "#2a3f5f",
             "gridcolor": "white",
             "linecolor": "white",
             "minorgridcolor": "white",
             "startlinecolor": "#2a3f5f"
            },
            "baxis": {
             "endlinecolor": "#2a3f5f",
             "gridcolor": "white",
             "linecolor": "white",
             "minorgridcolor": "white",
             "startlinecolor": "#2a3f5f"
            },
            "type": "carpet"
           }
          ],
          "choropleth": [
           {
            "colorbar": {
             "outlinewidth": 0,
             "ticks": ""
            },
            "type": "choropleth"
           }
          ],
          "contour": [
           {
            "colorbar": {
             "outlinewidth": 0,
             "ticks": ""
            },
            "colorscale": [
             [
              0,
              "#0d0887"
             ],
             [
              0.1111111111111111,
              "#46039f"
             ],
             [
              0.2222222222222222,
              "#7201a8"
             ],
             [
              0.3333333333333333,
              "#9c179e"
             ],
             [
              0.4444444444444444,
              "#bd3786"
             ],
             [
              0.5555555555555556,
              "#d8576b"
             ],
             [
              0.6666666666666666,
              "#ed7953"
             ],
             [
              0.7777777777777778,
              "#fb9f3a"
             ],
             [
              0.8888888888888888,
              "#fdca26"
             ],
             [
              1,
              "#f0f921"
             ]
            ],
            "type": "contour"
           }
          ],
          "contourcarpet": [
           {
            "colorbar": {
             "outlinewidth": 0,
             "ticks": ""
            },
            "type": "contourcarpet"
           }
          ],
          "heatmap": [
           {
            "colorbar": {
             "outlinewidth": 0,
             "ticks": ""
            },
            "colorscale": [
             [
              0,
              "#0d0887"
             ],
             [
              0.1111111111111111,
              "#46039f"
             ],
             [
              0.2222222222222222,
              "#7201a8"
             ],
             [
              0.3333333333333333,
              "#9c179e"
             ],
             [
              0.4444444444444444,
              "#bd3786"
             ],
             [
              0.5555555555555556,
              "#d8576b"
             ],
             [
              0.6666666666666666,
              "#ed7953"
             ],
             [
              0.7777777777777778,
              "#fb9f3a"
             ],
             [
              0.8888888888888888,
              "#fdca26"
             ],
             [
              1,
              "#f0f921"
             ]
            ],
            "type": "heatmap"
           }
          ],
          "heatmapgl": [
           {
            "colorbar": {
             "outlinewidth": 0,
             "ticks": ""
            },
            "colorscale": [
             [
              0,
              "#0d0887"
             ],
             [
              0.1111111111111111,
              "#46039f"
             ],
             [
              0.2222222222222222,
              "#7201a8"
             ],
             [
              0.3333333333333333,
              "#9c179e"
             ],
             [
              0.4444444444444444,
              "#bd3786"
             ],
             [
              0.5555555555555556,
              "#d8576b"
             ],
             [
              0.6666666666666666,
              "#ed7953"
             ],
             [
              0.7777777777777778,
              "#fb9f3a"
             ],
             [
              0.8888888888888888,
              "#fdca26"
             ],
             [
              1,
              "#f0f921"
             ]
            ],
            "type": "heatmapgl"
           }
          ],
          "histogram": [
           {
            "marker": {
             "pattern": {
              "fillmode": "overlay",
              "size": 10,
              "solidity": 0.2
             }
            },
            "type": "histogram"
           }
          ],
          "histogram2d": [
           {
            "colorbar": {
             "outlinewidth": 0,
             "ticks": ""
            },
            "colorscale": [
             [
              0,
              "#0d0887"
             ],
             [
              0.1111111111111111,
              "#46039f"
             ],
             [
              0.2222222222222222,
              "#7201a8"
             ],
             [
              0.3333333333333333,
              "#9c179e"
             ],
             [
              0.4444444444444444,
              "#bd3786"
             ],
             [
              0.5555555555555556,
              "#d8576b"
             ],
             [
              0.6666666666666666,
              "#ed7953"
             ],
             [
              0.7777777777777778,
              "#fb9f3a"
             ],
             [
              0.8888888888888888,
              "#fdca26"
             ],
             [
              1,
              "#f0f921"
             ]
            ],
            "type": "histogram2d"
           }
          ],
          "histogram2dcontour": [
           {
            "colorbar": {
             "outlinewidth": 0,
             "ticks": ""
            },
            "colorscale": [
             [
              0,
              "#0d0887"
             ],
             [
              0.1111111111111111,
              "#46039f"
             ],
             [
              0.2222222222222222,
              "#7201a8"
             ],
             [
              0.3333333333333333,
              "#9c179e"
             ],
             [
              0.4444444444444444,
              "#bd3786"
             ],
             [
              0.5555555555555556,
              "#d8576b"
             ],
             [
              0.6666666666666666,
              "#ed7953"
             ],
             [
              0.7777777777777778,
              "#fb9f3a"
             ],
             [
              0.8888888888888888,
              "#fdca26"
             ],
             [
              1,
              "#f0f921"
             ]
            ],
            "type": "histogram2dcontour"
           }
          ],
          "mesh3d": [
           {
            "colorbar": {
             "outlinewidth": 0,
             "ticks": ""
            },
            "type": "mesh3d"
           }
          ],
          "parcoords": [
           {
            "line": {
             "colorbar": {
              "outlinewidth": 0,
              "ticks": ""
             }
            },
            "type": "parcoords"
           }
          ],
          "pie": [
           {
            "automargin": true,
            "type": "pie"
           }
          ],
          "scatter": [
           {
            "fillpattern": {
             "fillmode": "overlay",
             "size": 10,
             "solidity": 0.2
            },
            "type": "scatter"
           }
          ],
          "scatter3d": [
           {
            "line": {
             "colorbar": {
              "outlinewidth": 0,
              "ticks": ""
             }
            },
            "marker": {
             "colorbar": {
              "outlinewidth": 0,
              "ticks": ""
             }
            },
            "type": "scatter3d"
           }
          ],
          "scattercarpet": [
           {
            "marker": {
             "colorbar": {
              "outlinewidth": 0,
              "ticks": ""
             }
            },
            "type": "scattercarpet"
           }
          ],
          "scattergeo": [
           {
            "marker": {
             "colorbar": {
              "outlinewidth": 0,
              "ticks": ""
             }
            },
            "type": "scattergeo"
           }
          ],
          "scattergl": [
           {
            "marker": {
             "colorbar": {
              "outlinewidth": 0,
              "ticks": ""
             }
            },
            "type": "scattergl"
           }
          ],
          "scattermapbox": [
           {
            "marker": {
             "colorbar": {
              "outlinewidth": 0,
              "ticks": ""
             }
            },
            "type": "scattermapbox"
           }
          ],
          "scatterpolar": [
           {
            "marker": {
             "colorbar": {
              "outlinewidth": 0,
              "ticks": ""
             }
            },
            "type": "scatterpolar"
           }
          ],
          "scatterpolargl": [
           {
            "marker": {
             "colorbar": {
              "outlinewidth": 0,
              "ticks": ""
             }
            },
            "type": "scatterpolargl"
           }
          ],
          "scatterternary": [
           {
            "marker": {
             "colorbar": {
              "outlinewidth": 0,
              "ticks": ""
             }
            },
            "type": "scatterternary"
           }
          ],
          "surface": [
           {
            "colorbar": {
             "outlinewidth": 0,
             "ticks": ""
            },
            "colorscale": [
             [
              0,
              "#0d0887"
             ],
             [
              0.1111111111111111,
              "#46039f"
             ],
             [
              0.2222222222222222,
              "#7201a8"
             ],
             [
              0.3333333333333333,
              "#9c179e"
             ],
             [
              0.4444444444444444,
              "#bd3786"
             ],
             [
              0.5555555555555556,
              "#d8576b"
             ],
             [
              0.6666666666666666,
              "#ed7953"
             ],
             [
              0.7777777777777778,
              "#fb9f3a"
             ],
             [
              0.8888888888888888,
              "#fdca26"
             ],
             [
              1,
              "#f0f921"
             ]
            ],
            "type": "surface"
           }
          ],
          "table": [
           {
            "cells": {
             "fill": {
              "color": "#EBF0F8"
             },
             "line": {
              "color": "white"
             }
            },
            "header": {
             "fill": {
              "color": "#C8D4E3"
             },
             "line": {
              "color": "white"
             }
            },
            "type": "table"
           }
          ]
         },
         "layout": {
          "annotationdefaults": {
           "arrowcolor": "#2a3f5f",
           "arrowhead": 0,
           "arrowwidth": 1
          },
          "autotypenumbers": "strict",
          "coloraxis": {
           "colorbar": {
            "outlinewidth": 0,
            "ticks": ""
           }
          },
          "colorscale": {
           "diverging": [
            [
             0,
             "#8e0152"
            ],
            [
             0.1,
             "#c51b7d"
            ],
            [
             0.2,
             "#de77ae"
            ],
            [
             0.3,
             "#f1b6da"
            ],
            [
             0.4,
             "#fde0ef"
            ],
            [
             0.5,
             "#f7f7f7"
            ],
            [
             0.6,
             "#e6f5d0"
            ],
            [
             0.7,
             "#b8e186"
            ],
            [
             0.8,
             "#7fbc41"
            ],
            [
             0.9,
             "#4d9221"
            ],
            [
             1,
             "#276419"
            ]
           ],
           "sequential": [
            [
             0,
             "#0d0887"
            ],
            [
             0.1111111111111111,
             "#46039f"
            ],
            [
             0.2222222222222222,
             "#7201a8"
            ],
            [
             0.3333333333333333,
             "#9c179e"
            ],
            [
             0.4444444444444444,
             "#bd3786"
            ],
            [
             0.5555555555555556,
             "#d8576b"
            ],
            [
             0.6666666666666666,
             "#ed7953"
            ],
            [
             0.7777777777777778,
             "#fb9f3a"
            ],
            [
             0.8888888888888888,
             "#fdca26"
            ],
            [
             1,
             "#f0f921"
            ]
           ],
           "sequentialminus": [
            [
             0,
             "#0d0887"
            ],
            [
             0.1111111111111111,
             "#46039f"
            ],
            [
             0.2222222222222222,
             "#7201a8"
            ],
            [
             0.3333333333333333,
             "#9c179e"
            ],
            [
             0.4444444444444444,
             "#bd3786"
            ],
            [
             0.5555555555555556,
             "#d8576b"
            ],
            [
             0.6666666666666666,
             "#ed7953"
            ],
            [
             0.7777777777777778,
             "#fb9f3a"
            ],
            [
             0.8888888888888888,
             "#fdca26"
            ],
            [
             1,
             "#f0f921"
            ]
           ]
          },
          "colorway": [
           "#636efa",
           "#EF553B",
           "#00cc96",
           "#ab63fa",
           "#FFA15A",
           "#19d3f3",
           "#FF6692",
           "#B6E880",
           "#FF97FF",
           "#FECB52"
          ],
          "font": {
           "color": "#2a3f5f"
          },
          "geo": {
           "bgcolor": "white",
           "lakecolor": "white",
           "landcolor": "#E5ECF6",
           "showlakes": true,
           "showland": true,
           "subunitcolor": "white"
          },
          "hoverlabel": {
           "align": "left"
          },
          "hovermode": "closest",
          "mapbox": {
           "style": "light"
          },
          "paper_bgcolor": "white",
          "plot_bgcolor": "#E5ECF6",
          "polar": {
           "angularaxis": {
            "gridcolor": "white",
            "linecolor": "white",
            "ticks": ""
           },
           "bgcolor": "#E5ECF6",
           "radialaxis": {
            "gridcolor": "white",
            "linecolor": "white",
            "ticks": ""
           }
          },
          "scene": {
           "xaxis": {
            "backgroundcolor": "#E5ECF6",
            "gridcolor": "white",
            "gridwidth": 2,
            "linecolor": "white",
            "showbackground": true,
            "ticks": "",
            "zerolinecolor": "white"
           },
           "yaxis": {
            "backgroundcolor": "#E5ECF6",
            "gridcolor": "white",
            "gridwidth": 2,
            "linecolor": "white",
            "showbackground": true,
            "ticks": "",
            "zerolinecolor": "white"
           },
           "zaxis": {
            "backgroundcolor": "#E5ECF6",
            "gridcolor": "white",
            "gridwidth": 2,
            "linecolor": "white",
            "showbackground": true,
            "ticks": "",
            "zerolinecolor": "white"
           }
          },
          "shapedefaults": {
           "line": {
            "color": "#2a3f5f"
           }
          },
          "ternary": {
           "aaxis": {
            "gridcolor": "white",
            "linecolor": "white",
            "ticks": ""
           },
           "baxis": {
            "gridcolor": "white",
            "linecolor": "white",
            "ticks": ""
           },
           "bgcolor": "#E5ECF6",
           "caxis": {
            "gridcolor": "white",
            "linecolor": "white",
            "ticks": ""
           }
          },
          "title": {
           "x": 0.05
          },
          "xaxis": {
           "automargin": true,
           "gridcolor": "white",
           "linecolor": "white",
           "ticks": "",
           "title": {
            "standoff": 15
           },
           "zerolinecolor": "white",
           "zerolinewidth": 2
          },
          "yaxis": {
           "automargin": true,
           "gridcolor": "white",
           "linecolor": "white",
           "ticks": "",
           "title": {
            "standoff": 15
           },
           "zerolinecolor": "white",
           "zerolinewidth": 2
          }
         }
        },
        "xaxis": {
         "anchor": "y",
         "domain": [
          0,
          1
         ],
         "title": {
          "text": "0"
         }
        },
        "yaxis": {
         "anchor": "x",
         "domain": [
          0,
          1
         ],
         "title": {
          "text": "1"
         }
        }
       }
      },
      "text/html": [
       "<div>                            <div id=\"dd2f6d73-5ea7-4a0d-9fb6-00e4dad8da71\" class=\"plotly-graph-div\" style=\"height:525px; width:100%;\"></div>            <script type=\"text/javascript\">                require([\"plotly\"], function(Plotly) {                    window.PLOTLYENV=window.PLOTLYENV || {};                                    if (document.getElementById(\"dd2f6d73-5ea7-4a0d-9fb6-00e4dad8da71\")) {                    Plotly.newPlot(                        \"dd2f6d73-5ea7-4a0d-9fb6-00e4dad8da71\",                        [{\"hovertemplate\":\"color=nyt<br>0=%{x}<br>1=%{y}<extra></extra>\",\"legendgroup\":\"nyt\",\"marker\":{\"color\":\"rgb(127, 60, 141)\",\"symbol\":\"circle\"},\"mode\":\"markers\",\"name\":\"nyt\",\"orientation\":\"v\",\"showlegend\":true,\"x\":[3.4255435466766357,2.974587917327881,5.092612266540527,-0.5710687041282654,-2.0139970779418945,-0.7723875045776367,-8.9273681640625,6.081545352935791,7.317590713500977,1.8945363759994507,3.7460098266601562,6.411540985107422,4.658349514007568,9.17282485961914,7.404536724090576,8.880481719970703,3.6859054565429688,4.211739540100098,8.151056289672852,6.062515735626221,5.980893611907959,-1.6155486106872559,4.981579303741455,7.220783233642578,-5.08889102935791,-3.627143144607544,4.611184597015381,-5.178712844848633,-1.309877634048462,-3.113619327545166,-10.68250846862793,7.621796607971191,6.0468668937683105,4.585555076599121,-0.22386062145233154,-3.70046067237854,-8.981758117675781,-3.636160135269165,2.244277238845825,-2.2610180377960205,-1.9308513402938843,6.980917930603027,-3.082765579223633,4.976431846618652,-1.4344592094421387,-8.24796199798584,0.41242775321006775,-7.361636638641357,5.743505954742432,-4.550124645233154,-7.120648384094238,-0.6804493069648743,-1.1457136869430542,3.5021824836730957,6.739704608917236,2.9672083854675293,0.9161607623100281,-3.0641162395477295,-9.645898818969727,2.2919859886169434,-4.717702865600586,-1.4809871912002563,0.7805991172790527,-2.8172857761383057,4.23065185546875,-4.782538414001465,-4.0108442306518555,0.8112505674362183,-2.137518882751465,6.3217902183532715,-5.675807952880859,-3.7666070461273193,-3.1281912326812744,4.985201358795166,2.9046835899353027,5.302465915679932,-5.004790782928467,4.556909084320068,-8.016282081604004,4.480781078338623,1.244124412536621,0.807041585445404,-2.059227228164673,-6.484633445739746,2.824634313583374,2.3052968978881836,6.018791198730469,-9.03378677368164,6.740316390991211,-7.28902530670166,-4.645059585571289,-8.146979331970215,3.507580280303955,-5.048518180847168,-8.692237854003906,1.8867394924163818,-10.353614807128906,1.6026583909988403,-2.584127187728882,-0.03639110177755356],\"xaxis\":\"x\",\"y\":[-7.00100564956665,-7.377386093139648,-3.2858660221099854,-5.220060348510742,-0.5495626330375671,1.9596600532531738,4.501494884490967,-2.6658711433410645,3.931931495666504,7.39436149597168,-12.187492370605469,-8.943608283996582,-7.535728454589844,-2.2671024799346924,-8.395380020141602,0.5439357757568359,-8.098203659057617,-6.341169834136963,-2.732670545578003,-7.511336326599121,-7.648355007171631,-5.829065799713135,-8.08358097076416,-5.413102626800537,6.980692386627197,3.8207428455352783,-7.308506011962891,0.22234486043453217,11.938806533813477,-0.6549596786499023,5.611207008361816,-2.8403189182281494,-3.418928861618042,0.7360742688179016,-0.05288734659552574,7.232284069061279,5.963830471038818,-2.35471510887146,0.4913071095943451,6.40682315826416,2.504864454269409,-0.8464003205299377,5.762024879455566,1.7057055234909058,-1.001340627670288,5.779943943023682,-2.2837977409362793,8.052998542785645,1.2355111837387085,4.560513496398926,4.707533359527588,-2.5708320140838623,6.5679240226745605,-0.7536118030548096,-8.566460609436035,5.723904609680176,7.07843542098999,6.611847400665283,5.741630554199219,7.500161647796631,-0.09070400148630142,-4.672708988189697,-13.388689994812012,7.554173946380615,-7.079660892486572,6.154475212097168,6.103541851043701,8.911507606506348,-1.4749398231506348,-2.350867748260498,6.754990577697754,-0.2258520871400833,2.490790843963623,0.3602595627307892,-7.472239017486572,-2.226048469543457,0.4776487648487091,-1.6577717065811157,1.3250929117202759,9.185171127319336,6.88709831237793,5.1610307693481445,-2.535874128341675,5.172826290130615,-0.9800960421562195,8.4459810256958,-5.472023963928223,7.2838263511657715,2.4984424114227295,2.456862449645996,-5.785937309265137,7.297183990478516,9.735763549804688,8.901652336120605,5.378544330596924,-6.904916763305664,7.479541301727295,10.359944343566895,4.717345714569092,-2.268902063369751],\"yaxis\":\"y\",\"type\":\"scatter\"},{\"hovertemplate\":\"color=oba<br>0=%{x}<br>1=%{y}<extra></extra>\",\"legendgroup\":\"oba\",\"marker\":{\"color\":\"rgb(17, 165, 121)\",\"symbol\":\"circle\"},\"mode\":\"markers\",\"name\":\"oba\",\"orientation\":\"v\",\"showlegend\":true,\"x\":[-0.24888867139816284,0.989359438419342,-7.098787784576416,-0.8737829327583313,2.271444082260132,0.018284693360328674,-4.872125148773193,-8.772537231445312,0.3023068904876709,0.5426017642021179,-3.705411434173584,-0.4214973747730255,2.618488073348999,-7.546306610107422,1.3911224603652954,3.957796573638916,3.6960232257843018,1.5577999353408813,-5.139344215393066,3.759411096572876,3.510021686553955,-1.5218451023101807,0.764999508857727,-3.6024701595306396,1.3697905540466309,3.0257363319396973,0.7035963535308838,4.895448684692383,1.4837727546691895,-3.2325961589813232,3.4849860668182373,-0.45501708984375,3.8660240173339844,0.49415338039398193,3.1888346672058105,-0.7763751149177551,0.18418064713478088,-3.678006410598755,-0.040734730660915375,2.5505001544952393,3.541341781616211,0.8857163786888123,0.03806019201874733,4.648687362670898,1.5180691480636597,-1.4820789098739624,-0.7658077478408813,-0.21394029259681702,3.1531853675842285,-0.316648930311203,5.468784332275391,3.3996548652648926,2.541184186935425,0.23290511965751648,-2.594642400741577,5.332418441772461,2.579263210296631,-0.05048719048500061,-3.080665349960327,-0.5554010272026062,-8.367456436157227,0.5542982816696167,2.0707197189331055,5.456328868865967,-0.6872130036354065,-0.4800054132938385,-3.5579257011413574,3.2508857250213623,-0.7663592100143433,0.7230123281478882,-2.77238130569458,0.4737458825111389,-0.1012805923819542,4.1786274909973145,3.6824493408203125,3.6128714084625244,-9.045649528503418,0.2697674334049225,1.570489525794983,1.2810893058776855,3.761829376220703,1.4723091125488281,-1.2139939069747925,-1.5201908349990845,3.4217755794525146,2.1249887943267822,-3.487586498260498,-3.229391098022461,1.2817044258117676,-0.3421725928783417,-9.426216125488281,-5.450887680053711,1.0018433332443237,1.4696156978607178,2.9787635803222656,1.2480695247650146,1.32339608669281,0.3453775942325592,1.4859575033187866,-0.8897342085838318],\"xaxis\":\"x\",\"y\":[-10.339177131652832,-5.749761581420898,2.284161329269409,-2.4422450065612793,2.6421546936035156,-12.170973777770996,-5.817166328430176,3.0131568908691406,-9.840201377868652,-11.744131088256836,-5.919483184814453,-2.3414294719696045,2.5162172317504883,2.177821636199951,2.83736515045166,-3.142733335494995,-4.6396684646606445,-10.419517517089844,7.175518035888672,1.6169393062591553,-2.792475461959839,-3.193143367767334,8.347229957580566,4.628241539001465,-3.073789596557617,-11.374983787536621,-13.143290519714355,4.014307975769043,-9.525697708129883,5.111713409423828,-8.246857643127441,5.655240058898926,-8.470976829528809,-10.55289077758789,-2.524303436279297,-8.84605884552002,8.78467082977295,-2.527601957321167,-13.021416664123535,-11.598409652709961,-5.54593563079834,-3.768217086791992,7.567662715911865,-11.784942626953125,-6.339294910430908,0.3420283794403076,-9.514715194702148,-3.966668128967285,6.8742475509643555,10.337814331054688,-8.791130065917969,-2.1240859031677246,-11.779923439025879,-12.698820114135742,-8.40330696105957,3.628214120864868,-11.911236763000488,-8.73705768585205,0.7208563685417175,-6.9102044105529785,5.189163684844971,-8.151524543762207,9.40380859375,6.158079624176025,-12.088147163391113,9.064482688903809,-5.598948001861572,-10.319853782653809,-4.442086219787598,-5.49704647064209,0.20810139179229736,-0.8488760590553284,-5.835843086242676,-10.187871932983398,8.84019660949707,-10.255374908447266,2.517636299133301,-12.81624984741211,-11.328988075256348,-10.00899887084961,8.931509971618652,-11.031998634338379,0.5256138443946838,-2.54335618019104,-10.979151725769043,9.305274963378906,0.6519336700439453,11.434813499450684,9.458876609802246,-12.103012084960938,-0.720740795135498,3.746920347213745,-12.454253196716309,-12.839509010314941,3.858726978302002,-12.214284896850586,-6.832583427429199,7.852191925048828,-2.9566643238067627,-9.579922676086426],\"yaxis\":\"y\",\"type\":\"scatter\"},{\"hovertemplate\":\"color=wsj<br>0=%{x}<br>1=%{y}<extra></extra>\",\"legendgroup\":\"wsj\",\"marker\":{\"color\":\"rgb(57, 105, 172)\",\"symbol\":\"circle\"},\"mode\":\"markers\",\"name\":\"wsj\",\"orientation\":\"v\",\"showlegend\":true,\"x\":[1.970628023147583,4.211174488067627,5.144885540008545,-0.8125284314155579,-0.2957364320755005,-5.625704765319824,-4.490498065948486,-2.6884031295776367,-5.561425685882568,-0.5826204419136047,5.5922369956970215,-7.109131813049316,1.600320816040039,-7.71416711807251,7.232916831970215,0.8652943968772888,1.5224746465682983,4.215799331665039,8.003955841064453,-7.555534839630127,6.302976131439209,4.85821008682251,-2.753178119659424,6.051246643066406,0.7215156555175781,-1.7137154340744019,4.283631324768066,-4.536375999450684,5.269464015960693,-8.462224006652832,-10.283061981201172,7.886371612548828,7.148962497711182,5.4009504318237305,5.132747650146484,7.31924295425415,-2.791158437728882,-3.82869029045105,2.5982091426849365,-3.5460574626922607,-6.5284857749938965,-3.060753107070923,-2.4104080200195312,5.189330101013184,0.23755909502506256,-8.138528823852539,2.335325002670288,8.313884735107422,3.870738983154297,-4.372805595397949,-7.489433288574219,5.094497203826904,3.3678791522979736,-1.6776070594787598,-9.387885093688965,1.7754905223846436,7.9340081214904785,0.9389926195144653,-9.158613204956055,-2.614243984222412,-3.2785205841064453,-9.686789512634277,-2.9680962562561035,-3.7935450077056885,1.4707543849945068,-2.3961493968963623,1.4335410594940186,-1.349206566810608,5.662468910217285,1.6567953824996948,-8.910928726196289,-5.044772148132324,-6.855020999908447,-0.36146023869514465,-0.058667510747909546,-0.21547465026378632,-7.942358016967773,1.3713512420654297,-3.607823610305786,-12.258711814880371,6.4818339347839355,3.7179696559906006,2.810533046722412,-2.0685834884643555,-3.344813585281372,1.9097813367843628,-4.48134183883667,-9.284627914428711,6.4457831382751465,-2.181612253189087,-3.5047831535339355,-8.492619514465332,0.4087873697280884,-10.234664916992188,-8.161581039428711,5.874724864959717,-12.214022636413574,-0.06353195756673813,6.58328914642334,1.005539894104004],\"xaxis\":\"x\",\"y\":[8.414361953735352,-2.8614253997802734,-3.7778642177581787,-4.7088189125061035,5.2786383628845215,-3.3686463832855225,2.5683422088623047,2.4089388847351074,3.6621832847595215,7.664797782897949,2.20338773727417,6.179647445678711,7.230451583862305,9.14034652709961,-8.472572326660156,-4.858061790466309,-4.833322525024414,0.08809268474578857,-3.0526301860809326,-4.307956218719482,0.1073560044169426,-2.395552396774292,6.640650272369385,-1.5543807744979858,2.738367795944214,4.743981838226318,-1.2224634885787964,1.510663390159607,2.6243317127227783,8.052650451660156,6.383016109466553,-4.008978843688965,-4.007645130157471,-0.1746966540813446,-1.7085590362548828,3.5664947032928467,6.069192886352539,1.9314792156219482,0.3105589747428894,10.415321350097656,-1.5429327487945557,11.079899787902832,8.303406715393066,1.9602307081222534,1.291317105293274,6.6411213874816895,-6.322540760040283,-0.9998385310173035,-1.5416655540466309,4.96063756942749,4.752449035644531,1.0777112245559692,7.639659881591797,2.2273640632629395,7.149103164672852,4.833775520324707,2.4514665603637695,7.652595043182373,5.47125244140625,5.49915885925293,6.432435512542725,4.353545665740967,3.583361864089966,7.544788837432861,3.896456003189087,1.8828134536743164,1.3087735176086426,3.0541446208953857,-0.8075127005577087,0.27136650681495667,6.906106472015381,5.406485080718994,5.678081035614014,-5.3475799560546875,-4.595824241638184,6.005496025085449,3.976808786392212,1.9706670045852661,8.061809539794922,6.781972885131836,1.4237120151519775,9.660353660583496,-0.9494134783744812,7.312620639801025,-3.8272032737731934,8.238382339477539,0.3281222879886627,7.675868034362793,2.7611165046691895,2.4231700897216797,5.803927421569824,7.321526527404785,6.545551300048828,4.246247291564941,6.147361755371094,-2.0482380390167236,6.824421405792236,7.178695201873779,-1.8270106315612793,3.1558849811553955],\"yaxis\":\"y\",\"type\":\"scatter\"}],                        {\"template\":{\"data\":{\"histogram2dcontour\":[{\"type\":\"histogram2dcontour\",\"colorbar\":{\"outlinewidth\":0,\"ticks\":\"\"},\"colorscale\":[[0.0,\"#0d0887\"],[0.1111111111111111,\"#46039f\"],[0.2222222222222222,\"#7201a8\"],[0.3333333333333333,\"#9c179e\"],[0.4444444444444444,\"#bd3786\"],[0.5555555555555556,\"#d8576b\"],[0.6666666666666666,\"#ed7953\"],[0.7777777777777778,\"#fb9f3a\"],[0.8888888888888888,\"#fdca26\"],[1.0,\"#f0f921\"]]}],\"choropleth\":[{\"type\":\"choropleth\",\"colorbar\":{\"outlinewidth\":0,\"ticks\":\"\"}}],\"histogram2d\":[{\"type\":\"histogram2d\",\"colorbar\":{\"outlinewidth\":0,\"ticks\":\"\"},\"colorscale\":[[0.0,\"#0d0887\"],[0.1111111111111111,\"#46039f\"],[0.2222222222222222,\"#7201a8\"],[0.3333333333333333,\"#9c179e\"],[0.4444444444444444,\"#bd3786\"],[0.5555555555555556,\"#d8576b\"],[0.6666666666666666,\"#ed7953\"],[0.7777777777777778,\"#fb9f3a\"],[0.8888888888888888,\"#fdca26\"],[1.0,\"#f0f921\"]]}],\"heatmap\":[{\"type\":\"heatmap\",\"colorbar\":{\"outlinewidth\":0,\"ticks\":\"\"},\"colorscale\":[[0.0,\"#0d0887\"],[0.1111111111111111,\"#46039f\"],[0.2222222222222222,\"#7201a8\"],[0.3333333333333333,\"#9c179e\"],[0.4444444444444444,\"#bd3786\"],[0.5555555555555556,\"#d8576b\"],[0.6666666666666666,\"#ed7953\"],[0.7777777777777778,\"#fb9f3a\"],[0.8888888888888888,\"#fdca26\"],[1.0,\"#f0f921\"]]}],\"heatmapgl\":[{\"type\":\"heatmapgl\",\"colorbar\":{\"outlinewidth\":0,\"ticks\":\"\"},\"colorscale\":[[0.0,\"#0d0887\"],[0.1111111111111111,\"#46039f\"],[0.2222222222222222,\"#7201a8\"],[0.3333333333333333,\"#9c179e\"],[0.4444444444444444,\"#bd3786\"],[0.5555555555555556,\"#d8576b\"],[0.6666666666666666,\"#ed7953\"],[0.7777777777777778,\"#fb9f3a\"],[0.8888888888888888,\"#fdca26\"],[1.0,\"#f0f921\"]]}],\"contourcarpet\":[{\"type\":\"contourcarpet\",\"colorbar\":{\"outlinewidth\":0,\"ticks\":\"\"}}],\"contour\":[{\"type\":\"contour\",\"colorbar\":{\"outlinewidth\":0,\"ticks\":\"\"},\"colorscale\":[[0.0,\"#0d0887\"],[0.1111111111111111,\"#46039f\"],[0.2222222222222222,\"#7201a8\"],[0.3333333333333333,\"#9c179e\"],[0.4444444444444444,\"#bd3786\"],[0.5555555555555556,\"#d8576b\"],[0.6666666666666666,\"#ed7953\"],[0.7777777777777778,\"#fb9f3a\"],[0.8888888888888888,\"#fdca26\"],[1.0,\"#f0f921\"]]}],\"surface\":[{\"type\":\"surface\",\"colorbar\":{\"outlinewidth\":0,\"ticks\":\"\"},\"colorscale\":[[0.0,\"#0d0887\"],[0.1111111111111111,\"#46039f\"],[0.2222222222222222,\"#7201a8\"],[0.3333333333333333,\"#9c179e\"],[0.4444444444444444,\"#bd3786\"],[0.5555555555555556,\"#d8576b\"],[0.6666666666666666,\"#ed7953\"],[0.7777777777777778,\"#fb9f3a\"],[0.8888888888888888,\"#fdca26\"],[1.0,\"#f0f921\"]]}],\"mesh3d\":[{\"type\":\"mesh3d\",\"colorbar\":{\"outlinewidth\":0,\"ticks\":\"\"}}],\"scatter\":[{\"fillpattern\":{\"fillmode\":\"overlay\",\"size\":10,\"solidity\":0.2},\"type\":\"scatter\"}],\"parcoords\":[{\"type\":\"parcoords\",\"line\":{\"colorbar\":{\"outlinewidth\":0,\"ticks\":\"\"}}}],\"scatterpolargl\":[{\"type\":\"scatterpolargl\",\"marker\":{\"colorbar\":{\"outlinewidth\":0,\"ticks\":\"\"}}}],\"bar\":[{\"error_x\":{\"color\":\"#2a3f5f\"},\"error_y\":{\"color\":\"#2a3f5f\"},\"marker\":{\"line\":{\"color\":\"#E5ECF6\",\"width\":0.5},\"pattern\":{\"fillmode\":\"overlay\",\"size\":10,\"solidity\":0.2}},\"type\":\"bar\"}],\"scattergeo\":[{\"type\":\"scattergeo\",\"marker\":{\"colorbar\":{\"outlinewidth\":0,\"ticks\":\"\"}}}],\"scatterpolar\":[{\"type\":\"scatterpolar\",\"marker\":{\"colorbar\":{\"outlinewidth\":0,\"ticks\":\"\"}}}],\"histogram\":[{\"marker\":{\"pattern\":{\"fillmode\":\"overlay\",\"size\":10,\"solidity\":0.2}},\"type\":\"histogram\"}],\"scattergl\":[{\"type\":\"scattergl\",\"marker\":{\"colorbar\":{\"outlinewidth\":0,\"ticks\":\"\"}}}],\"scatter3d\":[{\"type\":\"scatter3d\",\"line\":{\"colorbar\":{\"outlinewidth\":0,\"ticks\":\"\"}},\"marker\":{\"colorbar\":{\"outlinewidth\":0,\"ticks\":\"\"}}}],\"scattermapbox\":[{\"type\":\"scattermapbox\",\"marker\":{\"colorbar\":{\"outlinewidth\":0,\"ticks\":\"\"}}}],\"scatterternary\":[{\"type\":\"scatterternary\",\"marker\":{\"colorbar\":{\"outlinewidth\":0,\"ticks\":\"\"}}}],\"scattercarpet\":[{\"type\":\"scattercarpet\",\"marker\":{\"colorbar\":{\"outlinewidth\":0,\"ticks\":\"\"}}}],\"carpet\":[{\"aaxis\":{\"endlinecolor\":\"#2a3f5f\",\"gridcolor\":\"white\",\"linecolor\":\"white\",\"minorgridcolor\":\"white\",\"startlinecolor\":\"#2a3f5f\"},\"baxis\":{\"endlinecolor\":\"#2a3f5f\",\"gridcolor\":\"white\",\"linecolor\":\"white\",\"minorgridcolor\":\"white\",\"startlinecolor\":\"#2a3f5f\"},\"type\":\"carpet\"}],\"table\":[{\"cells\":{\"fill\":{\"color\":\"#EBF0F8\"},\"line\":{\"color\":\"white\"}},\"header\":{\"fill\":{\"color\":\"#C8D4E3\"},\"line\":{\"color\":\"white\"}},\"type\":\"table\"}],\"barpolar\":[{\"marker\":{\"line\":{\"color\":\"#E5ECF6\",\"width\":0.5},\"pattern\":{\"fillmode\":\"overlay\",\"size\":10,\"solidity\":0.2}},\"type\":\"barpolar\"}],\"pie\":[{\"automargin\":true,\"type\":\"pie\"}]},\"layout\":{\"autotypenumbers\":\"strict\",\"colorway\":[\"#636efa\",\"#EF553B\",\"#00cc96\",\"#ab63fa\",\"#FFA15A\",\"#19d3f3\",\"#FF6692\",\"#B6E880\",\"#FF97FF\",\"#FECB52\"],\"font\":{\"color\":\"#2a3f5f\"},\"hovermode\":\"closest\",\"hoverlabel\":{\"align\":\"left\"},\"paper_bgcolor\":\"white\",\"plot_bgcolor\":\"#E5ECF6\",\"polar\":{\"bgcolor\":\"#E5ECF6\",\"angularaxis\":{\"gridcolor\":\"white\",\"linecolor\":\"white\",\"ticks\":\"\"},\"radialaxis\":{\"gridcolor\":\"white\",\"linecolor\":\"white\",\"ticks\":\"\"}},\"ternary\":{\"bgcolor\":\"#E5ECF6\",\"aaxis\":{\"gridcolor\":\"white\",\"linecolor\":\"white\",\"ticks\":\"\"},\"baxis\":{\"gridcolor\":\"white\",\"linecolor\":\"white\",\"ticks\":\"\"},\"caxis\":{\"gridcolor\":\"white\",\"linecolor\":\"white\",\"ticks\":\"\"}},\"coloraxis\":{\"colorbar\":{\"outlinewidth\":0,\"ticks\":\"\"}},\"colorscale\":{\"sequential\":[[0.0,\"#0d0887\"],[0.1111111111111111,\"#46039f\"],[0.2222222222222222,\"#7201a8\"],[0.3333333333333333,\"#9c179e\"],[0.4444444444444444,\"#bd3786\"],[0.5555555555555556,\"#d8576b\"],[0.6666666666666666,\"#ed7953\"],[0.7777777777777778,\"#fb9f3a\"],[0.8888888888888888,\"#fdca26\"],[1.0,\"#f0f921\"]],\"sequentialminus\":[[0.0,\"#0d0887\"],[0.1111111111111111,\"#46039f\"],[0.2222222222222222,\"#7201a8\"],[0.3333333333333333,\"#9c179e\"],[0.4444444444444444,\"#bd3786\"],[0.5555555555555556,\"#d8576b\"],[0.6666666666666666,\"#ed7953\"],[0.7777777777777778,\"#fb9f3a\"],[0.8888888888888888,\"#fdca26\"],[1.0,\"#f0f921\"]],\"diverging\":[[0,\"#8e0152\"],[0.1,\"#c51b7d\"],[0.2,\"#de77ae\"],[0.3,\"#f1b6da\"],[0.4,\"#fde0ef\"],[0.5,\"#f7f7f7\"],[0.6,\"#e6f5d0\"],[0.7,\"#b8e186\"],[0.8,\"#7fbc41\"],[0.9,\"#4d9221\"],[1,\"#276419\"]]},\"xaxis\":{\"gridcolor\":\"white\",\"linecolor\":\"white\",\"ticks\":\"\",\"title\":{\"standoff\":15},\"zerolinecolor\":\"white\",\"automargin\":true,\"zerolinewidth\":2},\"yaxis\":{\"gridcolor\":\"white\",\"linecolor\":\"white\",\"ticks\":\"\",\"title\":{\"standoff\":15},\"zerolinecolor\":\"white\",\"automargin\":true,\"zerolinewidth\":2},\"scene\":{\"xaxis\":{\"backgroundcolor\":\"#E5ECF6\",\"gridcolor\":\"white\",\"linecolor\":\"white\",\"showbackground\":true,\"ticks\":\"\",\"zerolinecolor\":\"white\",\"gridwidth\":2},\"yaxis\":{\"backgroundcolor\":\"#E5ECF6\",\"gridcolor\":\"white\",\"linecolor\":\"white\",\"showbackground\":true,\"ticks\":\"\",\"zerolinecolor\":\"white\",\"gridwidth\":2},\"zaxis\":{\"backgroundcolor\":\"#E5ECF6\",\"gridcolor\":\"white\",\"linecolor\":\"white\",\"showbackground\":true,\"ticks\":\"\",\"zerolinecolor\":\"white\",\"gridwidth\":2}},\"shapedefaults\":{\"line\":{\"color\":\"#2a3f5f\"}},\"annotationdefaults\":{\"arrowcolor\":\"#2a3f5f\",\"arrowhead\":0,\"arrowwidth\":1},\"geo\":{\"bgcolor\":\"white\",\"landcolor\":\"#E5ECF6\",\"subunitcolor\":\"white\",\"showland\":true,\"showlakes\":true,\"lakecolor\":\"white\"},\"title\":{\"x\":0.05},\"mapbox\":{\"style\":\"light\"}}},\"xaxis\":{\"anchor\":\"y\",\"domain\":[0.0,1.0],\"title\":{\"text\":\"0\"}},\"yaxis\":{\"anchor\":\"x\",\"domain\":[0.0,1.0],\"title\":{\"text\":\"1\"}},\"legend\":{\"title\":{\"text\":\"color\"},\"tracegroupgap\":0},\"margin\":{\"t\":60}},                        {\"responsive\": true}                    ).then(function(){\n",
       "                            \n",
       "var gd = document.getElementById('dd2f6d73-5ea7-4a0d-9fb6-00e4dad8da71');\n",
       "var x = new MutationObserver(function (mutations, observer) {{\n",
       "        var display = window.getComputedStyle(gd).display;\n",
       "        if (!display || display === 'none') {{\n",
       "            console.log([gd, 'removed!']);\n",
       "            Plotly.purge(gd);\n",
       "            observer.disconnect();\n",
       "        }}\n",
       "}});\n",
       "\n",
       "// Listen for the removal of the full notebook cells\n",
       "var notebookContainer = gd.closest('#notebook-container');\n",
       "if (notebookContainer) {{\n",
       "    x.observe(notebookContainer, {childList: true});\n",
       "}}\n",
       "\n",
       "// Listen for the clearing of the current output cell\n",
       "var outputEl = gd.closest('.output');\n",
       "if (outputEl) {{\n",
       "    x.observe(outputEl, {childList: true});\n",
       "}}\n",
       "\n",
       "                        })                };                });            </script>        </div>"
      ]
     },
     "metadata": {},
     "output_type": "display_data"
    }
   ],
   "source": [
    "# Maybe the right perplexity in t-sne will separate these .... mostly not\n",
    "# Perplexity value can greatly influence the shape of the results, typical ranges from 5 to 50\n",
    "# Some perplexity values with decent separation: 6,7,9,10,12,14,15\n",
    "t_sne = manifold.TSNE(\n",
    "    n_components=2,\n",
    "    perplexity=43,\n",
    "    init=\"random\",\n",
    "    n_iter=1200,\n",
    "    random_state=0,\n",
    ");\n",
    "tsne_data = scaled_data\n",
    "S_t_sne = t_sne.fit_transform(tsne_data);\n",
    "fig = px.scatter(S_t_sne, \n",
    "                 x=0, \n",
    "                 y=1, \n",
    "                 color=df_tidy['source'],\n",
    "                 color_discrete_sequence=px.colors.qualitative.Bold)\n",
    "fig.show()"
   ]
  },
  {
   "cell_type": "code",
   "execution_count": 62,
   "id": "6451082c",
   "metadata": {},
   "outputs": [
    {
     "data": {
      "application/vnd.plotly.v1+json": {
       "config": {
        "plotlyServerURL": "https://plot.ly"
       },
       "data": [
        {
         "hovertemplate": "color=nyt<br>0=%{x}<br>1=%{y}<extra></extra>",
         "legendgroup": "nyt",
         "marker": {
          "color": "rgb(127, 60, 141)",
          "symbol": "circle"
         },
         "mode": "markers",
         "name": "nyt",
         "orientation": "v",
         "showlegend": true,
         "type": "scatter",
         "x": [
          0.738599187608643,
          1.7924351895808055,
          0.7345163597301818,
          1.8142182288797382,
          1.0435960312957626,
          1.3932978465968517,
          1.4459918621226595,
          2.529151441440503,
          -4.504734968103016,
          -2.836911961335875,
          -3.8339999204529427,
          5.942602923685793,
          2.9410883041380957,
          -3.029812669079149,
          7.584747288992714,
          -1.6375136370056083,
          2.9333517319515647,
          1.7107940021680184,
          -2.37069210988504,
          5.515148714405231,
          4.473287952893472,
          -2.729203103283065,
          3.5585072590108933,
          4.390237060629012,
          0.3530042761503053,
          0.6034595900261578,
          2.1623026001510364,
          3.501249925994778,
          23.070291407580523,
          1.9215059717372291,
          2.8486684380658627,
          2.178158442206966,
          2.1192728468825845,
          -2.2028574992292325,
          -2.33417784158848,
          -0.4027916862052785,
          2.8479900221485237,
          0.04687702940964449,
          0.11558734700255867,
          -1.172522542459337,
          1.1772717595562865,
          -0.9081040467553787,
          -0.5268153806659744,
          -3.0622659348520096,
          -0.0930275858552492,
          2.779799473749366,
          -0.9728762465435506,
          3.406434218873334,
          -2.635310549877581,
          0.9220712380034796,
          2.664033138305288,
          -0.10383830209448441,
          -1.6315107886235818,
          -0.8781396580878831,
          2.3423114631842927,
          -3.632487583048283,
          -3.1625230543536396,
          -0.8004519856077903,
          4.041179293045321,
          -3.7197652491013122,
          3.08271660419382,
          2.8787343769666442,
          4.546179302480125,
          -1.843655279611965,
          1.1548324269257473,
          -0.7774488683627918,
          0.009262209419572282,
          -2.9829562678194077,
          0.9088028799260497,
          1.5109063588080713,
          0.5378130794541416,
          1.7671962105204728,
          1.1306871495742852,
          -2.4192604302708576,
          1.8368827445898983,
          0.4808879750762945,
          3.1403513362197186,
          0.7422240616258763,
          2.8507165035633597,
          -3.6774361347907387,
          -3.150091277305184,
          -4.191518418050324,
          1.6719131351462433,
          0.8719517747946951,
          -1.1426921311575515,
          -4.217217449831135,
          3.1521980552469886,
          2.3835139600875976,
          -3.039223098556492,
          -1.2770624914901565,
          -4.773065371800043,
          2.539041548785655,
          -4.98542757935143,
          1.4835978419235119,
          2.938636800428457,
          0.43422399164647735,
          1.6044135758787803,
          -5.95846270851302,
          -0.565690673962994,
          -0.6632196319150481
         ],
         "xaxis": "x",
         "y": [
          -4.115864494896914,
          -2.8263502516386017,
          -2.0545522158436373,
          -1.486770098707769,
          1.7189644428319064,
          1.2354481164203432,
          5.06740581787055,
          -1.1052689710781252,
          -0.13254744346228925,
          1.5179227129376052,
          -6.822066657466311,
          -4.173258993322239,
          -4.096029643063378,
          1.5461072300451297,
          -2.879540293842073,
          -0.8725942205926966,
          -3.8726909995746754,
          -3.652903263006192,
          -1.7433735983431586,
          -3.1729075945593377,
          -2.9175830784097534,
          -3.475375794758182,
          -3.536439061489776,
          -0.28756712877501456,
          3.4362173419272475,
          2.0901772041687146,
          -3.5574994114439598,
          1.620478613526254,
          -23.107673026763067,
          0.9731602767094657,
          7.081581349937274,
          0.6076840945063472,
          -0.3634983042523938,
          -0.8900997916924521,
          1.1998090567126247,
          3.8396103742686,
          4.810038243342427,
          0.632705579105201,
          0.1560485953461012,
          2.8472482214106147,
          1.9681465030626943,
          0.6721266255948479,
          3.034840155618272,
          -2.63876193049005,
          1.0381202027192926,
          3.6928780833674004,
          -0.8451960052215772,
          3.746469697062991,
          -2.7976204999929406,
          3.77513870930861,
          4.714905715039425,
          -0.14792577984433417,
          2.9841491900602115,
          -0.5581674270771091,
          -5.253057163701602,
          0.16524193093060255,
          2.454139173212456,
          3.03231309722973,
          5.49701203256633,
          0.8899262159373028,
          1.087286829709042,
          -0.8487932325976492,
          -8.826097976875472,
          3.2796822026750543,
          -3.647310385839951,
          5.365623102662269,
          3.5596429743040248,
          3.085431182897225,
          1.0263038241361249,
          -0.40411379913300693,
          3.6688399245668055,
          1.529759880298854,
          1.9857079939634512,
          -1.5415848863930741,
          -2.776531281213315,
          -1.5707309793846267,
          1.8792902889337815,
          -0.5456584583330523,
          8.458492624384519,
          5.559082653770331,
          2.063844618343636,
          0.5014449940344194,
          0.039049903807138124,
          4.726912565101046,
          -2.092846880535101,
          1.6087807139900767,
          -1.1835712463837664,
          5.105192465728275,
          -0.9791176929926839,
          5.4345699054591705,
          -0.2186050537254559,
          3.7605800595212036,
          2.7118654802815643,
          2.9307380437021657,
          4.885988993596759,
          -3.9884516533181524,
          5.341880761046069,
          2.2363824759921096,
          2.696234088664372,
          0.0886233953811762
         ],
         "yaxis": "y"
        },
        {
         "hovertemplate": "color=oba<br>0=%{x}<br>1=%{y}<extra></extra>",
         "legendgroup": "oba",
         "marker": {
          "color": "rgb(17, 165, 121)",
          "symbol": "circle"
         },
         "mode": "markers",
         "name": "oba",
         "orientation": "v",
         "showlegend": true,
         "type": "scatter",
         "x": [
          0.6173974247880212,
          -1.5931524046346253,
          -3.16721670561958,
          -0.8167697502325848,
          -1.7000802567163564,
          1.2433400751144603,
          6.305627682906897,
          0.47467515861620146,
          -1.1345748049794464,
          1.5721583188572432,
          3.736906967594108,
          -1.2468048870867559,
          -2.4578252912968965,
          -2.9224547385144177,
          -1.5646726822681472,
          0.45426461506962346,
          -0.03902638882058428,
          -2.1273169132264598,
          -0.6450240783952925,
          -2.30244515121631,
          -0.15634938505112017,
          0.6855955690979639,
          -3.6624591288920647,
          0.5491347733214048,
          -3.941961383091601,
          -0.9869081423915141,
          0.6203281834484164,
          5.481344938012135,
          -3.6431347126730227,
          -0.2475445383618022,
          3.2374416205708383,
          -1.280447384913919,
          2.549442077561252,
          -0.15417896857561458,
          0.1259008795638366,
          -2.221668346676026,
          -4.403022604248498,
          -3.5720036810107083,
          0.3897559403267215,
          -0.09787562748931564,
          -2.5684477564043005,
          -1.7267023237989472,
          -2.6476253850966933,
          -3.0793871475534096,
          -0.6980823975692462,
          -1.2532514764961264,
          1.634767609000787,
          1.5359517888279082,
          -3.3183151439888006,
          -3.7765612675595333,
          4.184436593398832,
          -1.246780469595365,
          -0.7157317035036725,
          0.9139304578744214,
          4.236730028825622,
          -4.524772442545106,
          -1.0811963044143689,
          -0.3331205978507661,
          0.2094707187429972,
          0.35769413276891954,
          1.6089748618667647,
          1.302442751303081,
          -4.843967048616028,
          4.978273046267593,
          2.691281279788099,
          -6.105012539647817,
          -2.1805163365882914,
          2.110927112227135,
          1.3413912593751052,
          -1.0392598537531132,
          0.034837444908532335,
          -2.2363782663702416,
          1.025732043603409,
          -3.4031886368630824,
          -5.898135947292092,
          1.1150379117032179,
          3.783651289087211,
          0.9194071861261435,
          1.672918804265463,
          -1.146954760438895,
          -5.257968230037089,
          -0.19714430647193973,
          0.7447303396571191,
          1.132652120632316,
          3.5266302756726935,
          -3.7893471871699673,
          2.477180858372525,
          -8.737940512506471,
          -3.757109204306457,
          3.371464427534208,
          -2.959434161799537,
          -8.935188514087143,
          1.5826504285434053,
          1.5336653461991352,
          4.042823728630608,
          1.4507781220784117,
          -0.44232201373214125,
          -2.753081627279064,
          -4.954117841040106,
          -0.08998346814530994
         ],
         "xaxis": "x",
         "y": [
          -5.59979515451174,
          -3.5478601137115335,
          5.405697737273918,
          -0.025888380230467477,
          0.6914981801502265,
          -7.16298886733587,
          2.1382851260556093,
          6.811069557354068,
          -4.650161940503116,
          -6.5247325025554295,
          -0.4817614415785427,
          -0.37134854458757927,
          -0.18236963290901284,
          6.505121258567929,
          0.9889853083770743,
          -2.3588607108234707,
          -3.1466262386802875,
          -6.675228819166933,
          3.880542338857874,
          -2.8838543766307634,
          -0.6807500461228361,
          0.24418191842619338,
          2.369296577731919,
          3.0951376480705277,
          -1.345192963016636,
          -8.142686376022672,
          -10.261749210552948,
          -0.8349153656388308,
          -5.015946762251431,
          2.9280052358185014,
          -2.9135126337891575,
          1.4086721093257895,
          -4.1681172306280505,
          -5.664647835847352,
          -1.66200105058054,
          -4.074194566556998,
          3.0988670288022964,
          -1.0798758506103987,
          -9.5371251121143,
          -8.088204246746885,
          -5.288900375743591,
          -1.441209327675829,
          2.4617961210400034,
          -6.505999085961532,
          -3.6715738163560196,
          2.331573262270901,
          -4.368703041691283,
          -1.0608379591116377,
          0.5414278130078654,
          6.538393892444881,
          -3.8696617309760666,
          -2.243580847178693,
          -8.485525449192018,
          -8.827145111171028,
          -4.869485153013547,
          -2.2096433277771146,
          -8.292058671207732,
          -4.006603182439384,
          2.2272948115258084,
          -2.53239450150881,
          4.187929387526383,
          -3.4946284480399696,
          2.074291517382085,
          1.8546482266365252,
          -7.0022154133173204,
          3.595184406769769,
          -0.4641678082008427,
          -5.880209537669237,
          -1.0335634320264,
          -2.5584304937754005,
          1.524344026985126,
          0.5872516877176318,
          -2.199684091592173,
          -7.012512201770226,
          1.3220922008720697,
          -5.824279278177228,
          12.477194563028759,
          -9.036353609951348,
          -6.053738270088463,
          -6.084425118680739,
          1.716477963079125,
          -7.67048088744474,
          0.8212461080530901,
          0.20432254134459918,
          -7.720559814778586,
          2.87377833456036,
          2.7354805002596083,
          1.7402572684510909,
          3.200906551058974,
          -6.22358427028683,
          7.71444997834243,
          0.5349354411681486,
          -8.362442209802637,
          -9.508772966180505,
          1.1631095553221131,
          -7.496851442913937,
          -3.6593683252955342,
          2.273856759609917,
          -1.187243822334573,
          -5.0110824048244185
         ],
         "yaxis": "y"
        },
        {
         "hovertemplate": "color=wsj<br>0=%{x}<br>1=%{y}<extra></extra>",
         "legendgroup": "wsj",
         "marker": {
          "color": "rgb(57, 105, 172)",
          "symbol": "circle"
         },
         "mode": "markers",
         "name": "wsj",
         "orientation": "v",
         "showlegend": true,
         "type": "scatter",
         "x": [
          -3.669765388273577,
          0.5848164952136763,
          -2.6741411549755307,
          2.1013350000653963,
          -1.1016443448073605,
          -5.447653671902112,
          2.277568707282719,
          1.6193473802506233,
          16.671398383876845,
          -2.5528919312881158,
          -4.388342962631588,
          2.636534180553606,
          -3.4957282671850343,
          -1.92039775866067,
          6.9823281228339065,
          -1.43292106087857,
          -0.46341299425215127,
          -1.548625339794437,
          3.7853640115229443,
          8.454972260168025,
          -2.82903967465316,
          1.8985881835415312,
          -0.891798446623424,
          -0.11396943186360932,
          0.2792127173412136,
          -2.307932788882575,
          0.9179999783280973,
          3.6482202432367576,
          -6.0092410220072905,
          2.06368553274889,
          4.252540342586168,
          1.2203045395576022,
          4.1460682638196324,
          -1.8589748118697413,
          1.535445810755827,
          -4.644405772349913,
          -0.9306874114665933,
          3.44365750751919,
          1.6136230883547014,
          -6.158727622629003,
          10.622860233547076,
          -5.806997563589652,
          -1.741835010188581,
          -3.945115213518629,
          -0.18195614164688403,
          1.9288725591796092,
          -1.789810126145555,
          3.38902783986189,
          -0.8891004497904182,
          0.22922957547925896,
          1.2034440714700307,
          -2.845684926887582,
          -5.984396702528398,
          1.7055176731580113,
          1.7873564386800604,
          -3.7060793906220257,
          -5.352680944345584,
          -3.8988510224672632,
          2.5391558867850157,
          -0.33210807871731196,
          -0.8360939562042261,
          3.7433483687311933,
          1.699781656367151,
          -0.4168446772273722,
          -2.1661435684090695,
          1.7101474675998483,
          -0.9289952499099563,
          0.312911232221332,
          -1.1275685081210336,
          0.43668237565343915,
          1.686230609984788,
          0.2585261909239133,
          2.0485484211524474,
          0.5566944051139127,
          1.5573381492109957,
          -1.4802402516050384,
          2.8009010620036614,
          -1.463335337459131,
          -1.6558268771580051,
          7.615898808089701,
          -3.7064149020318773,
          -5.963780323662686,
          1.1420695562650274,
          -2.3310376953652585,
          -3.4515141894684085,
          -4.2233653495087555,
          2.296436865379604,
          3.3546435282497917,
          -3.703146254570137,
          0.32001238246747515,
          -0.5560875667683923,
          3.35900748151931,
          -2.917949100691594,
          3.6394724796938083,
          3.03482685235051,
          1.7273714308455825,
          -4.835115085188349,
          -2.36875777824862,
          -0.1519758860509612,
          -1.8759793832806722
         ],
         "xaxis": "x",
         "y": [
          2.112752824353074,
          -2.386311766736396,
          -2.4917159512639837,
          -1.3577504946183128,
          1.8254900257414588,
          -1.7124772022064927,
          2.55935639687094,
          1.3055582509258732,
          -1.2168820754936098,
          3.4938086384274087,
          -3.2987546061743607,
          5.287186552241613,
          1.6088119035411337,
          6.6003336357940015,
          -2.074027113694209,
          -1.8862442262499555,
          -1.9945202580184522,
          -0.20685178135634985,
          -0.2962742374188666,
          1.5130388115111497,
          -0.041749231748295826,
          -1.1591350393054092,
          3.2437309156337233,
          -0.8331711589924461,
          1.67554343423901,
          4.541116499959635,
          -1.579933367889033,
          1.2611301516834235,
          -2.8711125744254518,
          4.196609631821098,
          4.734830900864489,
          -2.8328442265364804,
          -0.4349055575797915,
          -2.4190655058629265,
          -1.8093613033661922,
          -1.2442714221961932,
          3.628418197288705,
          2.053195980063635,
          -0.4389872276029862,
          6.453189494814881,
          1.5643489604750829,
          3.9216767444860614,
          3.734266652468893,
          -3.1000499235395367,
          1.3347590619069,
          4.167288419123032,
          -3.8271087112976794,
          0.6811931283497741,
          -2.6581653787994974,
          3.6393780579687007,
          5.774018579859653,
          -1.7802464884287001,
          1.2979951335630662,
          1.834469840009257,
          5.4132170893002804,
          3.251976814545893,
          -2.9255661376326145,
          1.8719461319784694,
          4.5175675495817575,
          3.4314948370695806,
          3.4858997985981706,
          4.371987259913585,
          2.579285464495741,
          4.3628093266306,
          1.3001831421987533,
          1.4481341887692225,
          0.37544424279865873,
          2.4990731168877836,
          -1.6159724013065557,
          0.5077354218207814,
          4.469437792924519,
          4.401572600245956,
          3.8300902153156438,
          -2.116930711035492,
          -1.425432021657292,
          1.820622004243574,
          4.105358426861032,
          0.41529760785282993,
          4.83439681688006,
          3.125717112226753,
          -2.2442928583661277,
          2.2829849943206435,
          -0.4284691471529643,
          3.87891456821171,
          -2.9808365155933947,
          1.8045827122778455,
          1.9645406775693677,
          6.18455898260247,
          -0.5082246398631156,
          1.484972448645173,
          3.5347808091305692,
          4.395233365963116,
          3.2862368844506284,
          4.510583561693901,
          4.780907772622239,
          -0.537523231236963,
          6.751087449135954,
          2.484005558131954,
          -0.41013649247169603,
          2.653225996134568
         ],
         "yaxis": "y"
        }
       ],
       "layout": {
        "legend": {
         "title": {
          "text": "color"
         },
         "tracegroupgap": 0
        },
        "margin": {
         "t": 60
        },
        "template": {
         "data": {
          "bar": [
           {
            "error_x": {
             "color": "#2a3f5f"
            },
            "error_y": {
             "color": "#2a3f5f"
            },
            "marker": {
             "line": {
              "color": "#E5ECF6",
              "width": 0.5
             },
             "pattern": {
              "fillmode": "overlay",
              "size": 10,
              "solidity": 0.2
             }
            },
            "type": "bar"
           }
          ],
          "barpolar": [
           {
            "marker": {
             "line": {
              "color": "#E5ECF6",
              "width": 0.5
             },
             "pattern": {
              "fillmode": "overlay",
              "size": 10,
              "solidity": 0.2
             }
            },
            "type": "barpolar"
           }
          ],
          "carpet": [
           {
            "aaxis": {
             "endlinecolor": "#2a3f5f",
             "gridcolor": "white",
             "linecolor": "white",
             "minorgridcolor": "white",
             "startlinecolor": "#2a3f5f"
            },
            "baxis": {
             "endlinecolor": "#2a3f5f",
             "gridcolor": "white",
             "linecolor": "white",
             "minorgridcolor": "white",
             "startlinecolor": "#2a3f5f"
            },
            "type": "carpet"
           }
          ],
          "choropleth": [
           {
            "colorbar": {
             "outlinewidth": 0,
             "ticks": ""
            },
            "type": "choropleth"
           }
          ],
          "contour": [
           {
            "colorbar": {
             "outlinewidth": 0,
             "ticks": ""
            },
            "colorscale": [
             [
              0,
              "#0d0887"
             ],
             [
              0.1111111111111111,
              "#46039f"
             ],
             [
              0.2222222222222222,
              "#7201a8"
             ],
             [
              0.3333333333333333,
              "#9c179e"
             ],
             [
              0.4444444444444444,
              "#bd3786"
             ],
             [
              0.5555555555555556,
              "#d8576b"
             ],
             [
              0.6666666666666666,
              "#ed7953"
             ],
             [
              0.7777777777777778,
              "#fb9f3a"
             ],
             [
              0.8888888888888888,
              "#fdca26"
             ],
             [
              1,
              "#f0f921"
             ]
            ],
            "type": "contour"
           }
          ],
          "contourcarpet": [
           {
            "colorbar": {
             "outlinewidth": 0,
             "ticks": ""
            },
            "type": "contourcarpet"
           }
          ],
          "heatmap": [
           {
            "colorbar": {
             "outlinewidth": 0,
             "ticks": ""
            },
            "colorscale": [
             [
              0,
              "#0d0887"
             ],
             [
              0.1111111111111111,
              "#46039f"
             ],
             [
              0.2222222222222222,
              "#7201a8"
             ],
             [
              0.3333333333333333,
              "#9c179e"
             ],
             [
              0.4444444444444444,
              "#bd3786"
             ],
             [
              0.5555555555555556,
              "#d8576b"
             ],
             [
              0.6666666666666666,
              "#ed7953"
             ],
             [
              0.7777777777777778,
              "#fb9f3a"
             ],
             [
              0.8888888888888888,
              "#fdca26"
             ],
             [
              1,
              "#f0f921"
             ]
            ],
            "type": "heatmap"
           }
          ],
          "heatmapgl": [
           {
            "colorbar": {
             "outlinewidth": 0,
             "ticks": ""
            },
            "colorscale": [
             [
              0,
              "#0d0887"
             ],
             [
              0.1111111111111111,
              "#46039f"
             ],
             [
              0.2222222222222222,
              "#7201a8"
             ],
             [
              0.3333333333333333,
              "#9c179e"
             ],
             [
              0.4444444444444444,
              "#bd3786"
             ],
             [
              0.5555555555555556,
              "#d8576b"
             ],
             [
              0.6666666666666666,
              "#ed7953"
             ],
             [
              0.7777777777777778,
              "#fb9f3a"
             ],
             [
              0.8888888888888888,
              "#fdca26"
             ],
             [
              1,
              "#f0f921"
             ]
            ],
            "type": "heatmapgl"
           }
          ],
          "histogram": [
           {
            "marker": {
             "pattern": {
              "fillmode": "overlay",
              "size": 10,
              "solidity": 0.2
             }
            },
            "type": "histogram"
           }
          ],
          "histogram2d": [
           {
            "colorbar": {
             "outlinewidth": 0,
             "ticks": ""
            },
            "colorscale": [
             [
              0,
              "#0d0887"
             ],
             [
              0.1111111111111111,
              "#46039f"
             ],
             [
              0.2222222222222222,
              "#7201a8"
             ],
             [
              0.3333333333333333,
              "#9c179e"
             ],
             [
              0.4444444444444444,
              "#bd3786"
             ],
             [
              0.5555555555555556,
              "#d8576b"
             ],
             [
              0.6666666666666666,
              "#ed7953"
             ],
             [
              0.7777777777777778,
              "#fb9f3a"
             ],
             [
              0.8888888888888888,
              "#fdca26"
             ],
             [
              1,
              "#f0f921"
             ]
            ],
            "type": "histogram2d"
           }
          ],
          "histogram2dcontour": [
           {
            "colorbar": {
             "outlinewidth": 0,
             "ticks": ""
            },
            "colorscale": [
             [
              0,
              "#0d0887"
             ],
             [
              0.1111111111111111,
              "#46039f"
             ],
             [
              0.2222222222222222,
              "#7201a8"
             ],
             [
              0.3333333333333333,
              "#9c179e"
             ],
             [
              0.4444444444444444,
              "#bd3786"
             ],
             [
              0.5555555555555556,
              "#d8576b"
             ],
             [
              0.6666666666666666,
              "#ed7953"
             ],
             [
              0.7777777777777778,
              "#fb9f3a"
             ],
             [
              0.8888888888888888,
              "#fdca26"
             ],
             [
              1,
              "#f0f921"
             ]
            ],
            "type": "histogram2dcontour"
           }
          ],
          "mesh3d": [
           {
            "colorbar": {
             "outlinewidth": 0,
             "ticks": ""
            },
            "type": "mesh3d"
           }
          ],
          "parcoords": [
           {
            "line": {
             "colorbar": {
              "outlinewidth": 0,
              "ticks": ""
             }
            },
            "type": "parcoords"
           }
          ],
          "pie": [
           {
            "automargin": true,
            "type": "pie"
           }
          ],
          "scatter": [
           {
            "fillpattern": {
             "fillmode": "overlay",
             "size": 10,
             "solidity": 0.2
            },
            "type": "scatter"
           }
          ],
          "scatter3d": [
           {
            "line": {
             "colorbar": {
              "outlinewidth": 0,
              "ticks": ""
             }
            },
            "marker": {
             "colorbar": {
              "outlinewidth": 0,
              "ticks": ""
             }
            },
            "type": "scatter3d"
           }
          ],
          "scattercarpet": [
           {
            "marker": {
             "colorbar": {
              "outlinewidth": 0,
              "ticks": ""
             }
            },
            "type": "scattercarpet"
           }
          ],
          "scattergeo": [
           {
            "marker": {
             "colorbar": {
              "outlinewidth": 0,
              "ticks": ""
             }
            },
            "type": "scattergeo"
           }
          ],
          "scattergl": [
           {
            "marker": {
             "colorbar": {
              "outlinewidth": 0,
              "ticks": ""
             }
            },
            "type": "scattergl"
           }
          ],
          "scattermapbox": [
           {
            "marker": {
             "colorbar": {
              "outlinewidth": 0,
              "ticks": ""
             }
            },
            "type": "scattermapbox"
           }
          ],
          "scatterpolar": [
           {
            "marker": {
             "colorbar": {
              "outlinewidth": 0,
              "ticks": ""
             }
            },
            "type": "scatterpolar"
           }
          ],
          "scatterpolargl": [
           {
            "marker": {
             "colorbar": {
              "outlinewidth": 0,
              "ticks": ""
             }
            },
            "type": "scatterpolargl"
           }
          ],
          "scatterternary": [
           {
            "marker": {
             "colorbar": {
              "outlinewidth": 0,
              "ticks": ""
             }
            },
            "type": "scatterternary"
           }
          ],
          "surface": [
           {
            "colorbar": {
             "outlinewidth": 0,
             "ticks": ""
            },
            "colorscale": [
             [
              0,
              "#0d0887"
             ],
             [
              0.1111111111111111,
              "#46039f"
             ],
             [
              0.2222222222222222,
              "#7201a8"
             ],
             [
              0.3333333333333333,
              "#9c179e"
             ],
             [
              0.4444444444444444,
              "#bd3786"
             ],
             [
              0.5555555555555556,
              "#d8576b"
             ],
             [
              0.6666666666666666,
              "#ed7953"
             ],
             [
              0.7777777777777778,
              "#fb9f3a"
             ],
             [
              0.8888888888888888,
              "#fdca26"
             ],
             [
              1,
              "#f0f921"
             ]
            ],
            "type": "surface"
           }
          ],
          "table": [
           {
            "cells": {
             "fill": {
              "color": "#EBF0F8"
             },
             "line": {
              "color": "white"
             }
            },
            "header": {
             "fill": {
              "color": "#C8D4E3"
             },
             "line": {
              "color": "white"
             }
            },
            "type": "table"
           }
          ]
         },
         "layout": {
          "annotationdefaults": {
           "arrowcolor": "#2a3f5f",
           "arrowhead": 0,
           "arrowwidth": 1
          },
          "autotypenumbers": "strict",
          "coloraxis": {
           "colorbar": {
            "outlinewidth": 0,
            "ticks": ""
           }
          },
          "colorscale": {
           "diverging": [
            [
             0,
             "#8e0152"
            ],
            [
             0.1,
             "#c51b7d"
            ],
            [
             0.2,
             "#de77ae"
            ],
            [
             0.3,
             "#f1b6da"
            ],
            [
             0.4,
             "#fde0ef"
            ],
            [
             0.5,
             "#f7f7f7"
            ],
            [
             0.6,
             "#e6f5d0"
            ],
            [
             0.7,
             "#b8e186"
            ],
            [
             0.8,
             "#7fbc41"
            ],
            [
             0.9,
             "#4d9221"
            ],
            [
             1,
             "#276419"
            ]
           ],
           "sequential": [
            [
             0,
             "#0d0887"
            ],
            [
             0.1111111111111111,
             "#46039f"
            ],
            [
             0.2222222222222222,
             "#7201a8"
            ],
            [
             0.3333333333333333,
             "#9c179e"
            ],
            [
             0.4444444444444444,
             "#bd3786"
            ],
            [
             0.5555555555555556,
             "#d8576b"
            ],
            [
             0.6666666666666666,
             "#ed7953"
            ],
            [
             0.7777777777777778,
             "#fb9f3a"
            ],
            [
             0.8888888888888888,
             "#fdca26"
            ],
            [
             1,
             "#f0f921"
            ]
           ],
           "sequentialminus": [
            [
             0,
             "#0d0887"
            ],
            [
             0.1111111111111111,
             "#46039f"
            ],
            [
             0.2222222222222222,
             "#7201a8"
            ],
            [
             0.3333333333333333,
             "#9c179e"
            ],
            [
             0.4444444444444444,
             "#bd3786"
            ],
            [
             0.5555555555555556,
             "#d8576b"
            ],
            [
             0.6666666666666666,
             "#ed7953"
            ],
            [
             0.7777777777777778,
             "#fb9f3a"
            ],
            [
             0.8888888888888888,
             "#fdca26"
            ],
            [
             1,
             "#f0f921"
            ]
           ]
          },
          "colorway": [
           "#636efa",
           "#EF553B",
           "#00cc96",
           "#ab63fa",
           "#FFA15A",
           "#19d3f3",
           "#FF6692",
           "#B6E880",
           "#FF97FF",
           "#FECB52"
          ],
          "font": {
           "color": "#2a3f5f"
          },
          "geo": {
           "bgcolor": "white",
           "lakecolor": "white",
           "landcolor": "#E5ECF6",
           "showlakes": true,
           "showland": true,
           "subunitcolor": "white"
          },
          "hoverlabel": {
           "align": "left"
          },
          "hovermode": "closest",
          "mapbox": {
           "style": "light"
          },
          "paper_bgcolor": "white",
          "plot_bgcolor": "#E5ECF6",
          "polar": {
           "angularaxis": {
            "gridcolor": "white",
            "linecolor": "white",
            "ticks": ""
           },
           "bgcolor": "#E5ECF6",
           "radialaxis": {
            "gridcolor": "white",
            "linecolor": "white",
            "ticks": ""
           }
          },
          "scene": {
           "xaxis": {
            "backgroundcolor": "#E5ECF6",
            "gridcolor": "white",
            "gridwidth": 2,
            "linecolor": "white",
            "showbackground": true,
            "ticks": "",
            "zerolinecolor": "white"
           },
           "yaxis": {
            "backgroundcolor": "#E5ECF6",
            "gridcolor": "white",
            "gridwidth": 2,
            "linecolor": "white",
            "showbackground": true,
            "ticks": "",
            "zerolinecolor": "white"
           },
           "zaxis": {
            "backgroundcolor": "#E5ECF6",
            "gridcolor": "white",
            "gridwidth": 2,
            "linecolor": "white",
            "showbackground": true,
            "ticks": "",
            "zerolinecolor": "white"
           }
          },
          "shapedefaults": {
           "line": {
            "color": "#2a3f5f"
           }
          },
          "ternary": {
           "aaxis": {
            "gridcolor": "white",
            "linecolor": "white",
            "ticks": ""
           },
           "baxis": {
            "gridcolor": "white",
            "linecolor": "white",
            "ticks": ""
           },
           "bgcolor": "#E5ECF6",
           "caxis": {
            "gridcolor": "white",
            "linecolor": "white",
            "ticks": ""
           }
          },
          "title": {
           "x": 0.05
          },
          "xaxis": {
           "automargin": true,
           "gridcolor": "white",
           "linecolor": "white",
           "ticks": "",
           "title": {
            "standoff": 15
           },
           "zerolinecolor": "white",
           "zerolinewidth": 2
          },
          "yaxis": {
           "automargin": true,
           "gridcolor": "white",
           "linecolor": "white",
           "ticks": "",
           "title": {
            "standoff": 15
           },
           "zerolinecolor": "white",
           "zerolinewidth": 2
          }
         }
        },
        "xaxis": {
         "anchor": "y",
         "domain": [
          0,
          1
         ],
         "title": {
          "text": "0"
         }
        },
        "yaxis": {
         "anchor": "x",
         "domain": [
          0,
          1
         ],
         "title": {
          "text": "1"
         }
        }
       }
      },
      "text/html": [
       "<div>                            <div id=\"a7c7b9ae-da5d-4a05-aab0-3f51737d5b46\" class=\"plotly-graph-div\" style=\"height:525px; width:100%;\"></div>            <script type=\"text/javascript\">                require([\"plotly\"], function(Plotly) {                    window.PLOTLYENV=window.PLOTLYENV || {};                                    if (document.getElementById(\"a7c7b9ae-da5d-4a05-aab0-3f51737d5b46\")) {                    Plotly.newPlot(                        \"a7c7b9ae-da5d-4a05-aab0-3f51737d5b46\",                        [{\"hovertemplate\":\"color=nyt<br>0=%{x}<br>1=%{y}<extra></extra>\",\"legendgroup\":\"nyt\",\"marker\":{\"color\":\"rgb(127, 60, 141)\",\"symbol\":\"circle\"},\"mode\":\"markers\",\"name\":\"nyt\",\"orientation\":\"v\",\"showlegend\":true,\"x\":[0.738599187608643,1.7924351895808055,0.7345163597301818,1.8142182288797382,1.0435960312957626,1.3932978465968517,1.4459918621226595,2.529151441440503,-4.504734968103016,-2.836911961335875,-3.8339999204529427,5.942602923685793,2.9410883041380957,-3.029812669079149,7.584747288992714,-1.6375136370056083,2.9333517319515647,1.7107940021680184,-2.37069210988504,5.515148714405231,4.473287952893472,-2.729203103283065,3.5585072590108933,4.390237060629012,0.3530042761503053,0.6034595900261578,2.1623026001510364,3.501249925994778,23.070291407580523,1.9215059717372291,2.8486684380658627,2.178158442206966,2.1192728468825845,-2.2028574992292325,-2.33417784158848,-0.4027916862052785,2.8479900221485237,0.04687702940964449,0.11558734700255867,-1.172522542459337,1.1772717595562865,-0.9081040467553787,-0.5268153806659744,-3.0622659348520096,-0.0930275858552492,2.779799473749366,-0.9728762465435506,3.406434218873334,-2.635310549877581,0.9220712380034796,2.664033138305288,-0.10383830209448441,-1.6315107886235818,-0.8781396580878831,2.3423114631842927,-3.632487583048283,-3.1625230543536396,-0.8004519856077903,4.041179293045321,-3.7197652491013122,3.08271660419382,2.8787343769666442,4.546179302480125,-1.843655279611965,1.1548324269257473,-0.7774488683627918,0.009262209419572282,-2.9829562678194077,0.9088028799260497,1.5109063588080713,0.5378130794541416,1.7671962105204728,1.1306871495742852,-2.4192604302708576,1.8368827445898983,0.4808879750762945,3.1403513362197186,0.7422240616258763,2.8507165035633597,-3.6774361347907387,-3.150091277305184,-4.191518418050324,1.6719131351462433,0.8719517747946951,-1.1426921311575515,-4.217217449831135,3.1521980552469886,2.3835139600875976,-3.039223098556492,-1.2770624914901565,-4.773065371800043,2.539041548785655,-4.98542757935143,1.4835978419235119,2.938636800428457,0.43422399164647735,1.6044135758787803,-5.95846270851302,-0.565690673962994,-0.6632196319150481],\"xaxis\":\"x\",\"y\":[-4.115864494896914,-2.8263502516386017,-2.0545522158436373,-1.486770098707769,1.7189644428319064,1.2354481164203432,5.06740581787055,-1.1052689710781252,-0.13254744346228925,1.5179227129376052,-6.822066657466311,-4.173258993322239,-4.096029643063378,1.5461072300451297,-2.879540293842073,-0.8725942205926966,-3.8726909995746754,-3.652903263006192,-1.7433735983431586,-3.1729075945593377,-2.9175830784097534,-3.475375794758182,-3.536439061489776,-0.28756712877501456,3.4362173419272475,2.0901772041687146,-3.5574994114439598,1.620478613526254,-23.107673026763067,0.9731602767094657,7.081581349937274,0.6076840945063472,-0.3634983042523938,-0.8900997916924521,1.1998090567126247,3.8396103742686,4.810038243342427,0.632705579105201,0.1560485953461012,2.8472482214106147,1.9681465030626943,0.6721266255948479,3.034840155618272,-2.63876193049005,1.0381202027192926,3.6928780833674004,-0.8451960052215772,3.746469697062991,-2.7976204999929406,3.77513870930861,4.714905715039425,-0.14792577984433417,2.9841491900602115,-0.5581674270771091,-5.253057163701602,0.16524193093060255,2.454139173212456,3.03231309722973,5.49701203256633,0.8899262159373028,1.087286829709042,-0.8487932325976492,-8.826097976875472,3.2796822026750543,-3.647310385839951,5.365623102662269,3.5596429743040248,3.085431182897225,1.0263038241361249,-0.40411379913300693,3.6688399245668055,1.529759880298854,1.9857079939634512,-1.5415848863930741,-2.776531281213315,-1.5707309793846267,1.8792902889337815,-0.5456584583330523,8.458492624384519,5.559082653770331,2.063844618343636,0.5014449940344194,0.039049903807138124,4.726912565101046,-2.092846880535101,1.6087807139900767,-1.1835712463837664,5.105192465728275,-0.9791176929926839,5.4345699054591705,-0.2186050537254559,3.7605800595212036,2.7118654802815643,2.9307380437021657,4.885988993596759,-3.9884516533181524,5.341880761046069,2.2363824759921096,2.696234088664372,0.0886233953811762],\"yaxis\":\"y\",\"type\":\"scatter\"},{\"hovertemplate\":\"color=oba<br>0=%{x}<br>1=%{y}<extra></extra>\",\"legendgroup\":\"oba\",\"marker\":{\"color\":\"rgb(17, 165, 121)\",\"symbol\":\"circle\"},\"mode\":\"markers\",\"name\":\"oba\",\"orientation\":\"v\",\"showlegend\":true,\"x\":[0.6173974247880212,-1.5931524046346253,-3.16721670561958,-0.8167697502325848,-1.7000802567163564,1.2433400751144603,6.305627682906897,0.47467515861620146,-1.1345748049794464,1.5721583188572432,3.736906967594108,-1.2468048870867559,-2.4578252912968965,-2.9224547385144177,-1.5646726822681472,0.45426461506962346,-0.03902638882058428,-2.1273169132264598,-0.6450240783952925,-2.30244515121631,-0.15634938505112017,0.6855955690979639,-3.6624591288920647,0.5491347733214048,-3.941961383091601,-0.9869081423915141,0.6203281834484164,5.481344938012135,-3.6431347126730227,-0.2475445383618022,3.2374416205708383,-1.280447384913919,2.549442077561252,-0.15417896857561458,0.1259008795638366,-2.221668346676026,-4.403022604248498,-3.5720036810107083,0.3897559403267215,-0.09787562748931564,-2.5684477564043005,-1.7267023237989472,-2.6476253850966933,-3.0793871475534096,-0.6980823975692462,-1.2532514764961264,1.634767609000787,1.5359517888279082,-3.3183151439888006,-3.7765612675595333,4.184436593398832,-1.246780469595365,-0.7157317035036725,0.9139304578744214,4.236730028825622,-4.524772442545106,-1.0811963044143689,-0.3331205978507661,0.2094707187429972,0.35769413276891954,1.6089748618667647,1.302442751303081,-4.843967048616028,4.978273046267593,2.691281279788099,-6.105012539647817,-2.1805163365882914,2.110927112227135,1.3413912593751052,-1.0392598537531132,0.034837444908532335,-2.2363782663702416,1.025732043603409,-3.4031886368630824,-5.898135947292092,1.1150379117032179,3.783651289087211,0.9194071861261435,1.672918804265463,-1.146954760438895,-5.257968230037089,-0.19714430647193973,0.7447303396571191,1.132652120632316,3.5266302756726935,-3.7893471871699673,2.477180858372525,-8.737940512506471,-3.757109204306457,3.371464427534208,-2.959434161799537,-8.935188514087143,1.5826504285434053,1.5336653461991352,4.042823728630608,1.4507781220784117,-0.44232201373214125,-2.753081627279064,-4.954117841040106,-0.08998346814530994],\"xaxis\":\"x\",\"y\":[-5.59979515451174,-3.5478601137115335,5.405697737273918,-0.025888380230467477,0.6914981801502265,-7.16298886733587,2.1382851260556093,6.811069557354068,-4.650161940503116,-6.5247325025554295,-0.4817614415785427,-0.37134854458757927,-0.18236963290901284,6.505121258567929,0.9889853083770743,-2.3588607108234707,-3.1466262386802875,-6.675228819166933,3.880542338857874,-2.8838543766307634,-0.6807500461228361,0.24418191842619338,2.369296577731919,3.0951376480705277,-1.345192963016636,-8.142686376022672,-10.261749210552948,-0.8349153656388308,-5.015946762251431,2.9280052358185014,-2.9135126337891575,1.4086721093257895,-4.1681172306280505,-5.664647835847352,-1.66200105058054,-4.074194566556998,3.0988670288022964,-1.0798758506103987,-9.5371251121143,-8.088204246746885,-5.288900375743591,-1.441209327675829,2.4617961210400034,-6.505999085961532,-3.6715738163560196,2.331573262270901,-4.368703041691283,-1.0608379591116377,0.5414278130078654,6.538393892444881,-3.8696617309760666,-2.243580847178693,-8.485525449192018,-8.827145111171028,-4.869485153013547,-2.2096433277771146,-8.292058671207732,-4.006603182439384,2.2272948115258084,-2.53239450150881,4.187929387526383,-3.4946284480399696,2.074291517382085,1.8546482266365252,-7.0022154133173204,3.595184406769769,-0.4641678082008427,-5.880209537669237,-1.0335634320264,-2.5584304937754005,1.524344026985126,0.5872516877176318,-2.199684091592173,-7.012512201770226,1.3220922008720697,-5.824279278177228,12.477194563028759,-9.036353609951348,-6.053738270088463,-6.084425118680739,1.716477963079125,-7.67048088744474,0.8212461080530901,0.20432254134459918,-7.720559814778586,2.87377833456036,2.7354805002596083,1.7402572684510909,3.200906551058974,-6.22358427028683,7.71444997834243,0.5349354411681486,-8.362442209802637,-9.508772966180505,1.1631095553221131,-7.496851442913937,-3.6593683252955342,2.273856759609917,-1.187243822334573,-5.0110824048244185],\"yaxis\":\"y\",\"type\":\"scatter\"},{\"hovertemplate\":\"color=wsj<br>0=%{x}<br>1=%{y}<extra></extra>\",\"legendgroup\":\"wsj\",\"marker\":{\"color\":\"rgb(57, 105, 172)\",\"symbol\":\"circle\"},\"mode\":\"markers\",\"name\":\"wsj\",\"orientation\":\"v\",\"showlegend\":true,\"x\":[-3.669765388273577,0.5848164952136763,-2.6741411549755307,2.1013350000653963,-1.1016443448073605,-5.447653671902112,2.277568707282719,1.6193473802506233,16.671398383876845,-2.5528919312881158,-4.388342962631588,2.636534180553606,-3.4957282671850343,-1.92039775866067,6.9823281228339065,-1.43292106087857,-0.46341299425215127,-1.548625339794437,3.7853640115229443,8.454972260168025,-2.82903967465316,1.8985881835415312,-0.891798446623424,-0.11396943186360932,0.2792127173412136,-2.307932788882575,0.9179999783280973,3.6482202432367576,-6.0092410220072905,2.06368553274889,4.252540342586168,1.2203045395576022,4.1460682638196324,-1.8589748118697413,1.535445810755827,-4.644405772349913,-0.9306874114665933,3.44365750751919,1.6136230883547014,-6.158727622629003,10.622860233547076,-5.806997563589652,-1.741835010188581,-3.945115213518629,-0.18195614164688403,1.9288725591796092,-1.789810126145555,3.38902783986189,-0.8891004497904182,0.22922957547925896,1.2034440714700307,-2.845684926887582,-5.984396702528398,1.7055176731580113,1.7873564386800604,-3.7060793906220257,-5.352680944345584,-3.8988510224672632,2.5391558867850157,-0.33210807871731196,-0.8360939562042261,3.7433483687311933,1.699781656367151,-0.4168446772273722,-2.1661435684090695,1.7101474675998483,-0.9289952499099563,0.312911232221332,-1.1275685081210336,0.43668237565343915,1.686230609984788,0.2585261909239133,2.0485484211524474,0.5566944051139127,1.5573381492109957,-1.4802402516050384,2.8009010620036614,-1.463335337459131,-1.6558268771580051,7.615898808089701,-3.7064149020318773,-5.963780323662686,1.1420695562650274,-2.3310376953652585,-3.4515141894684085,-4.2233653495087555,2.296436865379604,3.3546435282497917,-3.703146254570137,0.32001238246747515,-0.5560875667683923,3.35900748151931,-2.917949100691594,3.6394724796938083,3.03482685235051,1.7273714308455825,-4.835115085188349,-2.36875777824862,-0.1519758860509612,-1.8759793832806722],\"xaxis\":\"x\",\"y\":[2.112752824353074,-2.386311766736396,-2.4917159512639837,-1.3577504946183128,1.8254900257414588,-1.7124772022064927,2.55935639687094,1.3055582509258732,-1.2168820754936098,3.4938086384274087,-3.2987546061743607,5.287186552241613,1.6088119035411337,6.6003336357940015,-2.074027113694209,-1.8862442262499555,-1.9945202580184522,-0.20685178135634985,-0.2962742374188666,1.5130388115111497,-0.041749231748295826,-1.1591350393054092,3.2437309156337233,-0.8331711589924461,1.67554343423901,4.541116499959635,-1.579933367889033,1.2611301516834235,-2.8711125744254518,4.196609631821098,4.734830900864489,-2.8328442265364804,-0.4349055575797915,-2.4190655058629265,-1.8093613033661922,-1.2442714221961932,3.628418197288705,2.053195980063635,-0.4389872276029862,6.453189494814881,1.5643489604750829,3.9216767444860614,3.734266652468893,-3.1000499235395367,1.3347590619069,4.167288419123032,-3.8271087112976794,0.6811931283497741,-2.6581653787994974,3.6393780579687007,5.774018579859653,-1.7802464884287001,1.2979951335630662,1.834469840009257,5.4132170893002804,3.251976814545893,-2.9255661376326145,1.8719461319784694,4.5175675495817575,3.4314948370695806,3.4858997985981706,4.371987259913585,2.579285464495741,4.3628093266306,1.3001831421987533,1.4481341887692225,0.37544424279865873,2.4990731168877836,-1.6159724013065557,0.5077354218207814,4.469437792924519,4.401572600245956,3.8300902153156438,-2.116930711035492,-1.425432021657292,1.820622004243574,4.105358426861032,0.41529760785282993,4.83439681688006,3.125717112226753,-2.2442928583661277,2.2829849943206435,-0.4284691471529643,3.87891456821171,-2.9808365155933947,1.8045827122778455,1.9645406775693677,6.18455898260247,-0.5082246398631156,1.484972448645173,3.5347808091305692,4.395233365963116,3.2862368844506284,4.510583561693901,4.780907772622239,-0.537523231236963,6.751087449135954,2.484005558131954,-0.41013649247169603,2.653225996134568],\"yaxis\":\"y\",\"type\":\"scatter\"}],                        {\"template\":{\"data\":{\"histogram2dcontour\":[{\"type\":\"histogram2dcontour\",\"colorbar\":{\"outlinewidth\":0,\"ticks\":\"\"},\"colorscale\":[[0.0,\"#0d0887\"],[0.1111111111111111,\"#46039f\"],[0.2222222222222222,\"#7201a8\"],[0.3333333333333333,\"#9c179e\"],[0.4444444444444444,\"#bd3786\"],[0.5555555555555556,\"#d8576b\"],[0.6666666666666666,\"#ed7953\"],[0.7777777777777778,\"#fb9f3a\"],[0.8888888888888888,\"#fdca26\"],[1.0,\"#f0f921\"]]}],\"choropleth\":[{\"type\":\"choropleth\",\"colorbar\":{\"outlinewidth\":0,\"ticks\":\"\"}}],\"histogram2d\":[{\"type\":\"histogram2d\",\"colorbar\":{\"outlinewidth\":0,\"ticks\":\"\"},\"colorscale\":[[0.0,\"#0d0887\"],[0.1111111111111111,\"#46039f\"],[0.2222222222222222,\"#7201a8\"],[0.3333333333333333,\"#9c179e\"],[0.4444444444444444,\"#bd3786\"],[0.5555555555555556,\"#d8576b\"],[0.6666666666666666,\"#ed7953\"],[0.7777777777777778,\"#fb9f3a\"],[0.8888888888888888,\"#fdca26\"],[1.0,\"#f0f921\"]]}],\"heatmap\":[{\"type\":\"heatmap\",\"colorbar\":{\"outlinewidth\":0,\"ticks\":\"\"},\"colorscale\":[[0.0,\"#0d0887\"],[0.1111111111111111,\"#46039f\"],[0.2222222222222222,\"#7201a8\"],[0.3333333333333333,\"#9c179e\"],[0.4444444444444444,\"#bd3786\"],[0.5555555555555556,\"#d8576b\"],[0.6666666666666666,\"#ed7953\"],[0.7777777777777778,\"#fb9f3a\"],[0.8888888888888888,\"#fdca26\"],[1.0,\"#f0f921\"]]}],\"heatmapgl\":[{\"type\":\"heatmapgl\",\"colorbar\":{\"outlinewidth\":0,\"ticks\":\"\"},\"colorscale\":[[0.0,\"#0d0887\"],[0.1111111111111111,\"#46039f\"],[0.2222222222222222,\"#7201a8\"],[0.3333333333333333,\"#9c179e\"],[0.4444444444444444,\"#bd3786\"],[0.5555555555555556,\"#d8576b\"],[0.6666666666666666,\"#ed7953\"],[0.7777777777777778,\"#fb9f3a\"],[0.8888888888888888,\"#fdca26\"],[1.0,\"#f0f921\"]]}],\"contourcarpet\":[{\"type\":\"contourcarpet\",\"colorbar\":{\"outlinewidth\":0,\"ticks\":\"\"}}],\"contour\":[{\"type\":\"contour\",\"colorbar\":{\"outlinewidth\":0,\"ticks\":\"\"},\"colorscale\":[[0.0,\"#0d0887\"],[0.1111111111111111,\"#46039f\"],[0.2222222222222222,\"#7201a8\"],[0.3333333333333333,\"#9c179e\"],[0.4444444444444444,\"#bd3786\"],[0.5555555555555556,\"#d8576b\"],[0.6666666666666666,\"#ed7953\"],[0.7777777777777778,\"#fb9f3a\"],[0.8888888888888888,\"#fdca26\"],[1.0,\"#f0f921\"]]}],\"surface\":[{\"type\":\"surface\",\"colorbar\":{\"outlinewidth\":0,\"ticks\":\"\"},\"colorscale\":[[0.0,\"#0d0887\"],[0.1111111111111111,\"#46039f\"],[0.2222222222222222,\"#7201a8\"],[0.3333333333333333,\"#9c179e\"],[0.4444444444444444,\"#bd3786\"],[0.5555555555555556,\"#d8576b\"],[0.6666666666666666,\"#ed7953\"],[0.7777777777777778,\"#fb9f3a\"],[0.8888888888888888,\"#fdca26\"],[1.0,\"#f0f921\"]]}],\"mesh3d\":[{\"type\":\"mesh3d\",\"colorbar\":{\"outlinewidth\":0,\"ticks\":\"\"}}],\"scatter\":[{\"fillpattern\":{\"fillmode\":\"overlay\",\"size\":10,\"solidity\":0.2},\"type\":\"scatter\"}],\"parcoords\":[{\"type\":\"parcoords\",\"line\":{\"colorbar\":{\"outlinewidth\":0,\"ticks\":\"\"}}}],\"scatterpolargl\":[{\"type\":\"scatterpolargl\",\"marker\":{\"colorbar\":{\"outlinewidth\":0,\"ticks\":\"\"}}}],\"bar\":[{\"error_x\":{\"color\":\"#2a3f5f\"},\"error_y\":{\"color\":\"#2a3f5f\"},\"marker\":{\"line\":{\"color\":\"#E5ECF6\",\"width\":0.5},\"pattern\":{\"fillmode\":\"overlay\",\"size\":10,\"solidity\":0.2}},\"type\":\"bar\"}],\"scattergeo\":[{\"type\":\"scattergeo\",\"marker\":{\"colorbar\":{\"outlinewidth\":0,\"ticks\":\"\"}}}],\"scatterpolar\":[{\"type\":\"scatterpolar\",\"marker\":{\"colorbar\":{\"outlinewidth\":0,\"ticks\":\"\"}}}],\"histogram\":[{\"marker\":{\"pattern\":{\"fillmode\":\"overlay\",\"size\":10,\"solidity\":0.2}},\"type\":\"histogram\"}],\"scattergl\":[{\"type\":\"scattergl\",\"marker\":{\"colorbar\":{\"outlinewidth\":0,\"ticks\":\"\"}}}],\"scatter3d\":[{\"type\":\"scatter3d\",\"line\":{\"colorbar\":{\"outlinewidth\":0,\"ticks\":\"\"}},\"marker\":{\"colorbar\":{\"outlinewidth\":0,\"ticks\":\"\"}}}],\"scattermapbox\":[{\"type\":\"scattermapbox\",\"marker\":{\"colorbar\":{\"outlinewidth\":0,\"ticks\":\"\"}}}],\"scatterternary\":[{\"type\":\"scatterternary\",\"marker\":{\"colorbar\":{\"outlinewidth\":0,\"ticks\":\"\"}}}],\"scattercarpet\":[{\"type\":\"scattercarpet\",\"marker\":{\"colorbar\":{\"outlinewidth\":0,\"ticks\":\"\"}}}],\"carpet\":[{\"aaxis\":{\"endlinecolor\":\"#2a3f5f\",\"gridcolor\":\"white\",\"linecolor\":\"white\",\"minorgridcolor\":\"white\",\"startlinecolor\":\"#2a3f5f\"},\"baxis\":{\"endlinecolor\":\"#2a3f5f\",\"gridcolor\":\"white\",\"linecolor\":\"white\",\"minorgridcolor\":\"white\",\"startlinecolor\":\"#2a3f5f\"},\"type\":\"carpet\"}],\"table\":[{\"cells\":{\"fill\":{\"color\":\"#EBF0F8\"},\"line\":{\"color\":\"white\"}},\"header\":{\"fill\":{\"color\":\"#C8D4E3\"},\"line\":{\"color\":\"white\"}},\"type\":\"table\"}],\"barpolar\":[{\"marker\":{\"line\":{\"color\":\"#E5ECF6\",\"width\":0.5},\"pattern\":{\"fillmode\":\"overlay\",\"size\":10,\"solidity\":0.2}},\"type\":\"barpolar\"}],\"pie\":[{\"automargin\":true,\"type\":\"pie\"}]},\"layout\":{\"autotypenumbers\":\"strict\",\"colorway\":[\"#636efa\",\"#EF553B\",\"#00cc96\",\"#ab63fa\",\"#FFA15A\",\"#19d3f3\",\"#FF6692\",\"#B6E880\",\"#FF97FF\",\"#FECB52\"],\"font\":{\"color\":\"#2a3f5f\"},\"hovermode\":\"closest\",\"hoverlabel\":{\"align\":\"left\"},\"paper_bgcolor\":\"white\",\"plot_bgcolor\":\"#E5ECF6\",\"polar\":{\"bgcolor\":\"#E5ECF6\",\"angularaxis\":{\"gridcolor\":\"white\",\"linecolor\":\"white\",\"ticks\":\"\"},\"radialaxis\":{\"gridcolor\":\"white\",\"linecolor\":\"white\",\"ticks\":\"\"}},\"ternary\":{\"bgcolor\":\"#E5ECF6\",\"aaxis\":{\"gridcolor\":\"white\",\"linecolor\":\"white\",\"ticks\":\"\"},\"baxis\":{\"gridcolor\":\"white\",\"linecolor\":\"white\",\"ticks\":\"\"},\"caxis\":{\"gridcolor\":\"white\",\"linecolor\":\"white\",\"ticks\":\"\"}},\"coloraxis\":{\"colorbar\":{\"outlinewidth\":0,\"ticks\":\"\"}},\"colorscale\":{\"sequential\":[[0.0,\"#0d0887\"],[0.1111111111111111,\"#46039f\"],[0.2222222222222222,\"#7201a8\"],[0.3333333333333333,\"#9c179e\"],[0.4444444444444444,\"#bd3786\"],[0.5555555555555556,\"#d8576b\"],[0.6666666666666666,\"#ed7953\"],[0.7777777777777778,\"#fb9f3a\"],[0.8888888888888888,\"#fdca26\"],[1.0,\"#f0f921\"]],\"sequentialminus\":[[0.0,\"#0d0887\"],[0.1111111111111111,\"#46039f\"],[0.2222222222222222,\"#7201a8\"],[0.3333333333333333,\"#9c179e\"],[0.4444444444444444,\"#bd3786\"],[0.5555555555555556,\"#d8576b\"],[0.6666666666666666,\"#ed7953\"],[0.7777777777777778,\"#fb9f3a\"],[0.8888888888888888,\"#fdca26\"],[1.0,\"#f0f921\"]],\"diverging\":[[0,\"#8e0152\"],[0.1,\"#c51b7d\"],[0.2,\"#de77ae\"],[0.3,\"#f1b6da\"],[0.4,\"#fde0ef\"],[0.5,\"#f7f7f7\"],[0.6,\"#e6f5d0\"],[0.7,\"#b8e186\"],[0.8,\"#7fbc41\"],[0.9,\"#4d9221\"],[1,\"#276419\"]]},\"xaxis\":{\"gridcolor\":\"white\",\"linecolor\":\"white\",\"ticks\":\"\",\"title\":{\"standoff\":15},\"zerolinecolor\":\"white\",\"automargin\":true,\"zerolinewidth\":2},\"yaxis\":{\"gridcolor\":\"white\",\"linecolor\":\"white\",\"ticks\":\"\",\"title\":{\"standoff\":15},\"zerolinecolor\":\"white\",\"automargin\":true,\"zerolinewidth\":2},\"scene\":{\"xaxis\":{\"backgroundcolor\":\"#E5ECF6\",\"gridcolor\":\"white\",\"linecolor\":\"white\",\"showbackground\":true,\"ticks\":\"\",\"zerolinecolor\":\"white\",\"gridwidth\":2},\"yaxis\":{\"backgroundcolor\":\"#E5ECF6\",\"gridcolor\":\"white\",\"linecolor\":\"white\",\"showbackground\":true,\"ticks\":\"\",\"zerolinecolor\":\"white\",\"gridwidth\":2},\"zaxis\":{\"backgroundcolor\":\"#E5ECF6\",\"gridcolor\":\"white\",\"linecolor\":\"white\",\"showbackground\":true,\"ticks\":\"\",\"zerolinecolor\":\"white\",\"gridwidth\":2}},\"shapedefaults\":{\"line\":{\"color\":\"#2a3f5f\"}},\"annotationdefaults\":{\"arrowcolor\":\"#2a3f5f\",\"arrowhead\":0,\"arrowwidth\":1},\"geo\":{\"bgcolor\":\"white\",\"landcolor\":\"#E5ECF6\",\"subunitcolor\":\"white\",\"showland\":true,\"showlakes\":true,\"lakecolor\":\"white\"},\"title\":{\"x\":0.05},\"mapbox\":{\"style\":\"light\"}}},\"xaxis\":{\"anchor\":\"y\",\"domain\":[0.0,1.0],\"title\":{\"text\":\"0\"}},\"yaxis\":{\"anchor\":\"x\",\"domain\":[0.0,1.0],\"title\":{\"text\":\"1\"}},\"legend\":{\"title\":{\"text\":\"color\"},\"tracegroupgap\":0},\"margin\":{\"t\":60}},                        {\"responsive\": true}                    ).then(function(){\n",
       "                            \n",
       "var gd = document.getElementById('a7c7b9ae-da5d-4a05-aab0-3f51737d5b46');\n",
       "var x = new MutationObserver(function (mutations, observer) {{\n",
       "        var display = window.getComputedStyle(gd).display;\n",
       "        if (!display || display === 'none') {{\n",
       "            console.log([gd, 'removed!']);\n",
       "            Plotly.purge(gd);\n",
       "            observer.disconnect();\n",
       "        }}\n",
       "}});\n",
       "\n",
       "// Listen for the removal of the full notebook cells\n",
       "var notebookContainer = gd.closest('#notebook-container');\n",
       "if (notebookContainer) {{\n",
       "    x.observe(notebookContainer, {childList: true});\n",
       "}}\n",
       "\n",
       "// Listen for the clearing of the current output cell\n",
       "var outputEl = gd.closest('.output');\n",
       "if (outputEl) {{\n",
       "    x.observe(outputEl, {childList: true});\n",
       "}}\n",
       "\n",
       "                        })                };                });            </script>        </div>"
      ]
     },
     "metadata": {},
     "output_type": "display_data"
    }
   ],
   "source": [
    "# ok then, how about MDS?\n",
    "# https://scikit-learn.org/stable/modules/manifold.html#multidimensional-scaling\n",
    "# Data needs to be a similarity or disimilarity matrix ... maybe another day\n",
    "md_scaling = manifold.MDS(\n",
    "    n_components=2,\n",
    "    max_iter=50,\n",
    "    n_init=4,\n",
    "    random_state=0\n",
    ")\n",
    "S_scaling = md_scaling.fit_transform(scaled_data)\n",
    "\n",
    "fig = px.scatter(S_scaling, \n",
    "                 x=0, \n",
    "                 y=1, \n",
    "                 color=df_tidy['source'],\n",
    "                 color_discrete_sequence=px.colors.qualitative.Bold)\n",
    "fig.show()"
   ]
  },
  {
   "cell_type": "code",
   "execution_count": null,
   "id": "c01fff43",
   "metadata": {},
   "outputs": [],
   "source": []
  }
 ],
 "metadata": {
  "kernelspec": {
   "display_name": "Python 3 (ipykernel)",
   "language": "python",
   "name": "python3"
  },
  "language_info": {
   "codemirror_mode": {
    "name": "ipython",
    "version": 3
   },
   "file_extension": ".py",
   "mimetype": "text/x-python",
   "name": "python",
   "nbconvert_exporter": "python",
   "pygments_lexer": "ipython3",
   "version": "3.10.6"
  }
 },
 "nbformat": 4,
 "nbformat_minor": 5
}
