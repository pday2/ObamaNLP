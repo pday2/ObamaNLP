{
 "cells": [
  {
   "cell_type": "code",
   "execution_count": 118,
   "id": "f40823ed",
   "metadata": {},
   "outputs": [],
   "source": [
    "import pandas as pd\n",
    "import numpy as np\n",
    "import unicodedata\n",
    "import matplotlib.pyplot as plt\n",
    "import plotly.express as px\n",
    "import os # to check if directory exists and create it if it doesn't\n",
    "from datetime import datetime # to parse speech date\n",
    "import spacy\n",
    "import en_core_web_md\n",
    "import csv\n",
    "import nltk\n",
    "import re\n",
    "from sklearn.decomposition import PCA\n",
    "from sklearn.preprocessing import StandardScaler\n",
    "from sklearn import manifold # for t-sne\n",
    "import plotly.graph_objects as go\n",
    "import plotly.figure_factory as ff\n",
    "import kaleido"
   ]
  },
  {
   "cell_type": "markdown",
   "id": "ccfcd757",
   "metadata": {},
   "source": [
    "# [To PCA on tidy data csv](#pcatidydata)"
   ]
  },
  {
   "cell_type": "code",
   "execution_count": 3,
   "id": "c0e6c31c",
   "metadata": {},
   "outputs": [
    {
     "data": {
      "text/plain": [
       "(3000, 4)"
      ]
     },
     "execution_count": 3,
     "metadata": {},
     "output_type": "execute_result"
    }
   ],
   "source": [
    "# Load the two data sets needed\n",
    "# string encodings to try utf_8, iso8859_15\n",
    "facetPlotData = pd.read_csv('facetPlotData.csv')\n",
    "df = pd.read_csv('fullEmotionData.csv', encoding='utf_8') # apostrophes aren't being read correctly\n",
    "# Pandas reads date as string, cast to datetime object\n",
    "df['date'] = pd.to_datetime(df['date'], format='%Y-%m-%d')\n",
    "facetPlotData['date'] = pd.to_datetime(facetPlotData['date'], format='%Y-%m-%d')\n",
    "facetPlotData.shape # Should be (3000, 4) "
   ]
  },
  {
   "cell_type": "code",
   "execution_count": 4,
   "id": "cf0d29ea",
   "metadata": {},
   "outputs": [],
   "source": [
    "sources = ['text_oba', 'text_nyt', 'text_wsj']\n",
    "for source in sources:\n",
    "    tmp1 = [re.sub(r\"[^\\w\\s^']\", \" \", text).lower() for text in df[source]]\n",
    "    df[source] = [re.sub(' +', ' ', text).replace('\\n', '').replace(\"â \" , \"'\") for text in tmp1]"
   ]
  },
  {
   "cell_type": "code",
   "execution_count": 5,
   "id": "a356abd7",
   "metadata": {},
   "outputs": [],
   "source": [
    "# Read in new articles from OtherSources directory\n",
    "# Load up the files\n",
    "path = './OtherSources/' \n",
    "list_of_files = []\n",
    "\n",
    "# Get file names in target directory\n",
    "for root, dirs, files in os.walk(path):\n",
    "    for file in files:\n",
    "        if file.endswith('.txt'):\n",
    "            list_of_files.append(os.path.join(root,file))\n",
    "\n",
    "# Open files and read in text\n",
    "speeches = []\n",
    "for file in list_of_files:\n",
    "    with open(file, encoding='utf-8') as f:\n",
    "        text = f.read()\n",
    "    f.close()\n",
    "    speeches.append(text)\n",
    "\n",
    "#clean out goofy unicode  space characters \n",
    "speeches = [unicodedata.normalize(\"NFKD\", speech) for speech in speeches]\n",
    "\n",
    "info = [(file.split('_')[0][15:]+'.txt', file.split('_')[1][:-4]) for file in list_of_files]\n",
    "\n",
    "# speeches[i] has the article text\n",
    "# info[i][0] has the filename to match row of original Obama speech\n",
    "# info[i][1] has the source name for naming the column\n",
    "# Some new source/column names are: FoxNews, InfoWars, NationalReview, Intercept\n",
    "\n",
    "for i in range(len(info)):\n",
    "    df[info[i][1]] = None\n",
    "\n",
    "for i in range(len(list_of_files)):\n",
    "    df.loc[df['file'] == info[i][0], [info[i][1]]] = speeches[i]"
   ]
  },
  {
   "cell_type": "markdown",
   "id": "a9706724",
   "metadata": {},
   "source": [
    "<A HREf=\"https://arxiv.org/abs/1905.05583\">Paper with some stuff on dealing with long text</A> This doesn't seem to be an issue with spacy encodings"
   ]
  },
  {
   "cell_type": "code",
   "execution_count": 6,
   "id": "7aa03ead",
   "metadata": {},
   "outputs": [],
   "source": [
    "# Clean up Obama speeches and what the heck, let's do NYT and WSJ too, just to be sure no more unicode garbage\n",
    "df['text_oba'] = [unicodedata.normalize(\"NFKD\", speech) for speech in df['text_oba']]\n",
    "df['text_nyt'] = [unicodedata.normalize(\"NFKD\", speech) for speech in df['text_nyt']]\n",
    "df['text_wsj'] = [unicodedata.normalize(\"NFKD\", speech) for speech in df['text_wsj']]"
   ]
  },
  {
   "cell_type": "code",
   "execution_count": 7,
   "id": "61a759cf",
   "metadata": {},
   "outputs": [],
   "source": [
    "nlp = spacy.load('en_core_web_md')"
   ]
  },
  {
   "cell_type": "code",
   "execution_count": 8,
   "id": "4a292843",
   "metadata": {},
   "outputs": [
    {
     "name": "stderr",
     "output_type": "stream",
     "text": [
      "/tmp/ipykernel_41644/3038641089.py:15: SettingWithCopyWarning: \n",
      "A value is trying to be set on a copy of a slice from a DataFrame\n",
      "\n",
      "See the caveats in the documentation: https://pandas.pydata.org/pandas-docs/stable/user_guide/indexing.html#returning-a-view-versus-a-copy\n",
      "  df[enc_col[j]][i] = list(nlp(df[sources[j]][i]).vector)\n"
     ]
    }
   ],
   "source": [
    "# This takes a little bit to calculate the encodings... maybe a minute\n",
    "# Encode all the texts and save to source specific columns\n",
    "sources = ['text_oba', 'text_nyt', 'text_wsj', 'FoxNews', 'InfoWars', 'NationalReview', 'Intercept']\n",
    "enc_col = ['enc_oba', 'enc_nyt', 'enc_wsj', 'enc_fn', 'enc_iw', 'enc_nr', 'enc_int']\n",
    "\n",
    "# initialize the new encoding columns\n",
    "for col in enc_col:\n",
    "    df[col]=None\n",
    "\n",
    "for i in range(len(df)):\n",
    "    for j in range(len(sources)):\n",
    "        #print(i, sources[j])\n",
    "        if df[sources[j]][i] != None:\n",
    "            # dfmi.loc[:, ('one', 'second')]\n",
    "            df[enc_col[j]][i] = list(nlp(df[sources[j]][i]).vector)"
   ]
  },
  {
   "cell_type": "code",
   "execution_count": 9,
   "id": "78441924",
   "metadata": {},
   "outputs": [],
   "source": [
    "pcaBiplotData = pd.DataFrame(columns=['date','source'])"
   ]
  },
  {
   "cell_type": "code",
   "execution_count": 10,
   "id": "732fa2b2",
   "metadata": {},
   "outputs": [
    {
     "name": "stderr",
     "output_type": "stream",
     "text": [
      "/tmp/ipykernel_41644/1484095954.py:11: PerformanceWarning: DataFrame is highly fragmented.  This is usually the result of calling `frame.insert` many times, which has poor performance.  Consider joining all columns at once using pd.concat(axis=1) instead. To get a de-fragmented frame, use `newframe = frame.copy()`\n",
      "  pcaBiplotData.loc[index, columnname] = None\n",
      "/tmp/ipykernel_41644/1484095954.py:11: PerformanceWarning: DataFrame is highly fragmented.  This is usually the result of calling `frame.insert` many times, which has poor performance.  Consider joining all columns at once using pd.concat(axis=1) instead. To get a de-fragmented frame, use `newframe = frame.copy()`\n",
      "  pcaBiplotData.loc[index, columnname] = None\n",
      "/tmp/ipykernel_41644/1484095954.py:11: PerformanceWarning: DataFrame is highly fragmented.  This is usually the result of calling `frame.insert` many times, which has poor performance.  Consider joining all columns at once using pd.concat(axis=1) instead. To get a de-fragmented frame, use `newframe = frame.copy()`\n",
      "  pcaBiplotData.loc[index, columnname] = None\n",
      "/tmp/ipykernel_41644/1484095954.py:11: PerformanceWarning: DataFrame is highly fragmented.  This is usually the result of calling `frame.insert` many times, which has poor performance.  Consider joining all columns at once using pd.concat(axis=1) instead. To get a de-fragmented frame, use `newframe = frame.copy()`\n",
      "  pcaBiplotData.loc[index, columnname] = None\n",
      "/tmp/ipykernel_41644/1484095954.py:11: PerformanceWarning: DataFrame is highly fragmented.  This is usually the result of calling `frame.insert` many times, which has poor performance.  Consider joining all columns at once using pd.concat(axis=1) instead. To get a de-fragmented frame, use `newframe = frame.copy()`\n",
      "  pcaBiplotData.loc[index, columnname] = None\n",
      "/tmp/ipykernel_41644/1484095954.py:11: PerformanceWarning: DataFrame is highly fragmented.  This is usually the result of calling `frame.insert` many times, which has poor performance.  Consider joining all columns at once using pd.concat(axis=1) instead. To get a de-fragmented frame, use `newframe = frame.copy()`\n",
      "  pcaBiplotData.loc[index, columnname] = None\n",
      "/tmp/ipykernel_41644/1484095954.py:11: PerformanceWarning: DataFrame is highly fragmented.  This is usually the result of calling `frame.insert` many times, which has poor performance.  Consider joining all columns at once using pd.concat(axis=1) instead. To get a de-fragmented frame, use `newframe = frame.copy()`\n",
      "  pcaBiplotData.loc[index, columnname] = None\n",
      "/tmp/ipykernel_41644/1484095954.py:11: PerformanceWarning: DataFrame is highly fragmented.  This is usually the result of calling `frame.insert` many times, which has poor performance.  Consider joining all columns at once using pd.concat(axis=1) instead. To get a de-fragmented frame, use `newframe = frame.copy()`\n",
      "  pcaBiplotData.loc[index, columnname] = None\n",
      "/tmp/ipykernel_41644/1484095954.py:11: PerformanceWarning: DataFrame is highly fragmented.  This is usually the result of calling `frame.insert` many times, which has poor performance.  Consider joining all columns at once using pd.concat(axis=1) instead. To get a de-fragmented frame, use `newframe = frame.copy()`\n",
      "  pcaBiplotData.loc[index, columnname] = None\n",
      "/tmp/ipykernel_41644/1484095954.py:11: PerformanceWarning: DataFrame is highly fragmented.  This is usually the result of calling `frame.insert` many times, which has poor performance.  Consider joining all columns at once using pd.concat(axis=1) instead. To get a de-fragmented frame, use `newframe = frame.copy()`\n",
      "  pcaBiplotData.loc[index, columnname] = None\n",
      "/tmp/ipykernel_41644/1484095954.py:11: PerformanceWarning: DataFrame is highly fragmented.  This is usually the result of calling `frame.insert` many times, which has poor performance.  Consider joining all columns at once using pd.concat(axis=1) instead. To get a de-fragmented frame, use `newframe = frame.copy()`\n",
      "  pcaBiplotData.loc[index, columnname] = None\n",
      "/tmp/ipykernel_41644/1484095954.py:11: PerformanceWarning: DataFrame is highly fragmented.  This is usually the result of calling `frame.insert` many times, which has poor performance.  Consider joining all columns at once using pd.concat(axis=1) instead. To get a de-fragmented frame, use `newframe = frame.copy()`\n",
      "  pcaBiplotData.loc[index, columnname] = None\n",
      "/tmp/ipykernel_41644/1484095954.py:11: PerformanceWarning: DataFrame is highly fragmented.  This is usually the result of calling `frame.insert` many times, which has poor performance.  Consider joining all columns at once using pd.concat(axis=1) instead. To get a de-fragmented frame, use `newframe = frame.copy()`\n",
      "  pcaBiplotData.loc[index, columnname] = None\n",
      "/tmp/ipykernel_41644/1484095954.py:11: PerformanceWarning: DataFrame is highly fragmented.  This is usually the result of calling `frame.insert` many times, which has poor performance.  Consider joining all columns at once using pd.concat(axis=1) instead. To get a de-fragmented frame, use `newframe = frame.copy()`\n",
      "  pcaBiplotData.loc[index, columnname] = None\n",
      "/tmp/ipykernel_41644/1484095954.py:11: PerformanceWarning: DataFrame is highly fragmented.  This is usually the result of calling `frame.insert` many times, which has poor performance.  Consider joining all columns at once using pd.concat(axis=1) instead. To get a de-fragmented frame, use `newframe = frame.copy()`\n",
      "  pcaBiplotData.loc[index, columnname] = None\n",
      "/tmp/ipykernel_41644/1484095954.py:11: PerformanceWarning: DataFrame is highly fragmented.  This is usually the result of calling `frame.insert` many times, which has poor performance.  Consider joining all columns at once using pd.concat(axis=1) instead. To get a de-fragmented frame, use `newframe = frame.copy()`\n",
      "  pcaBiplotData.loc[index, columnname] = None\n",
      "/tmp/ipykernel_41644/1484095954.py:11: PerformanceWarning: DataFrame is highly fragmented.  This is usually the result of calling `frame.insert` many times, which has poor performance.  Consider joining all columns at once using pd.concat(axis=1) instead. To get a de-fragmented frame, use `newframe = frame.copy()`\n",
      "  pcaBiplotData.loc[index, columnname] = None\n",
      "/tmp/ipykernel_41644/1484095954.py:11: PerformanceWarning: DataFrame is highly fragmented.  This is usually the result of calling `frame.insert` many times, which has poor performance.  Consider joining all columns at once using pd.concat(axis=1) instead. To get a de-fragmented frame, use `newframe = frame.copy()`\n",
      "  pcaBiplotData.loc[index, columnname] = None\n",
      "/tmp/ipykernel_41644/1484095954.py:11: PerformanceWarning: DataFrame is highly fragmented.  This is usually the result of calling `frame.insert` many times, which has poor performance.  Consider joining all columns at once using pd.concat(axis=1) instead. To get a de-fragmented frame, use `newframe = frame.copy()`\n",
      "  pcaBiplotData.loc[index, columnname] = None\n",
      "/tmp/ipykernel_41644/1484095954.py:11: PerformanceWarning: DataFrame is highly fragmented.  This is usually the result of calling `frame.insert` many times, which has poor performance.  Consider joining all columns at once using pd.concat(axis=1) instead. To get a de-fragmented frame, use `newframe = frame.copy()`\n",
      "  pcaBiplotData.loc[index, columnname] = None\n",
      "/tmp/ipykernel_41644/1484095954.py:11: PerformanceWarning: DataFrame is highly fragmented.  This is usually the result of calling `frame.insert` many times, which has poor performance.  Consider joining all columns at once using pd.concat(axis=1) instead. To get a de-fragmented frame, use `newframe = frame.copy()`\n",
      "  pcaBiplotData.loc[index, columnname] = None\n",
      "/tmp/ipykernel_41644/1484095954.py:11: PerformanceWarning: DataFrame is highly fragmented.  This is usually the result of calling `frame.insert` many times, which has poor performance.  Consider joining all columns at once using pd.concat(axis=1) instead. To get a de-fragmented frame, use `newframe = frame.copy()`\n",
      "  pcaBiplotData.loc[index, columnname] = None\n",
      "/tmp/ipykernel_41644/1484095954.py:11: PerformanceWarning: DataFrame is highly fragmented.  This is usually the result of calling `frame.insert` many times, which has poor performance.  Consider joining all columns at once using pd.concat(axis=1) instead. To get a de-fragmented frame, use `newframe = frame.copy()`\n",
      "  pcaBiplotData.loc[index, columnname] = None\n",
      "/tmp/ipykernel_41644/1484095954.py:11: PerformanceWarning: DataFrame is highly fragmented.  This is usually the result of calling `frame.insert` many times, which has poor performance.  Consider joining all columns at once using pd.concat(axis=1) instead. To get a de-fragmented frame, use `newframe = frame.copy()`\n",
      "  pcaBiplotData.loc[index, columnname] = None\n",
      "/tmp/ipykernel_41644/1484095954.py:11: PerformanceWarning: DataFrame is highly fragmented.  This is usually the result of calling `frame.insert` many times, which has poor performance.  Consider joining all columns at once using pd.concat(axis=1) instead. To get a de-fragmented frame, use `newframe = frame.copy()`\n",
      "  pcaBiplotData.loc[index, columnname] = None\n",
      "/tmp/ipykernel_41644/1484095954.py:11: PerformanceWarning: DataFrame is highly fragmented.  This is usually the result of calling `frame.insert` many times, which has poor performance.  Consider joining all columns at once using pd.concat(axis=1) instead. To get a de-fragmented frame, use `newframe = frame.copy()`\n",
      "  pcaBiplotData.loc[index, columnname] = None\n",
      "/tmp/ipykernel_41644/1484095954.py:11: PerformanceWarning: DataFrame is highly fragmented.  This is usually the result of calling `frame.insert` many times, which has poor performance.  Consider joining all columns at once using pd.concat(axis=1) instead. To get a de-fragmented frame, use `newframe = frame.copy()`\n",
      "  pcaBiplotData.loc[index, columnname] = None\n",
      "/tmp/ipykernel_41644/1484095954.py:11: PerformanceWarning: DataFrame is highly fragmented.  This is usually the result of calling `frame.insert` many times, which has poor performance.  Consider joining all columns at once using pd.concat(axis=1) instead. To get a de-fragmented frame, use `newframe = frame.copy()`\n",
      "  pcaBiplotData.loc[index, columnname] = None\n",
      "/tmp/ipykernel_41644/1484095954.py:11: PerformanceWarning: DataFrame is highly fragmented.  This is usually the result of calling `frame.insert` many times, which has poor performance.  Consider joining all columns at once using pd.concat(axis=1) instead. To get a de-fragmented frame, use `newframe = frame.copy()`\n",
      "  pcaBiplotData.loc[index, columnname] = None\n",
      "/tmp/ipykernel_41644/1484095954.py:11: PerformanceWarning: DataFrame is highly fragmented.  This is usually the result of calling `frame.insert` many times, which has poor performance.  Consider joining all columns at once using pd.concat(axis=1) instead. To get a de-fragmented frame, use `newframe = frame.copy()`\n",
      "  pcaBiplotData.loc[index, columnname] = None\n",
      "/tmp/ipykernel_41644/1484095954.py:11: PerformanceWarning: DataFrame is highly fragmented.  This is usually the result of calling `frame.insert` many times, which has poor performance.  Consider joining all columns at once using pd.concat(axis=1) instead. To get a de-fragmented frame, use `newframe = frame.copy()`\n",
      "  pcaBiplotData.loc[index, columnname] = None\n",
      "/tmp/ipykernel_41644/1484095954.py:11: PerformanceWarning: DataFrame is highly fragmented.  This is usually the result of calling `frame.insert` many times, which has poor performance.  Consider joining all columns at once using pd.concat(axis=1) instead. To get a de-fragmented frame, use `newframe = frame.copy()`\n",
      "  pcaBiplotData.loc[index, columnname] = None\n",
      "/tmp/ipykernel_41644/1484095954.py:11: PerformanceWarning: DataFrame is highly fragmented.  This is usually the result of calling `frame.insert` many times, which has poor performance.  Consider joining all columns at once using pd.concat(axis=1) instead. To get a de-fragmented frame, use `newframe = frame.copy()`\n",
      "  pcaBiplotData.loc[index, columnname] = None\n",
      "/tmp/ipykernel_41644/1484095954.py:11: PerformanceWarning: DataFrame is highly fragmented.  This is usually the result of calling `frame.insert` many times, which has poor performance.  Consider joining all columns at once using pd.concat(axis=1) instead. To get a de-fragmented frame, use `newframe = frame.copy()`\n",
      "  pcaBiplotData.loc[index, columnname] = None\n",
      "/tmp/ipykernel_41644/1484095954.py:11: PerformanceWarning: DataFrame is highly fragmented.  This is usually the result of calling `frame.insert` many times, which has poor performance.  Consider joining all columns at once using pd.concat(axis=1) instead. To get a de-fragmented frame, use `newframe = frame.copy()`\n",
      "  pcaBiplotData.loc[index, columnname] = None\n",
      "/tmp/ipykernel_41644/1484095954.py:11: PerformanceWarning: DataFrame is highly fragmented.  This is usually the result of calling `frame.insert` many times, which has poor performance.  Consider joining all columns at once using pd.concat(axis=1) instead. To get a de-fragmented frame, use `newframe = frame.copy()`\n",
      "  pcaBiplotData.loc[index, columnname] = None\n",
      "/tmp/ipykernel_41644/1484095954.py:11: PerformanceWarning: DataFrame is highly fragmented.  This is usually the result of calling `frame.insert` many times, which has poor performance.  Consider joining all columns at once using pd.concat(axis=1) instead. To get a de-fragmented frame, use `newframe = frame.copy()`\n",
      "  pcaBiplotData.loc[index, columnname] = None\n",
      "/tmp/ipykernel_41644/1484095954.py:11: PerformanceWarning: DataFrame is highly fragmented.  This is usually the result of calling `frame.insert` many times, which has poor performance.  Consider joining all columns at once using pd.concat(axis=1) instead. To get a de-fragmented frame, use `newframe = frame.copy()`\n",
      "  pcaBiplotData.loc[index, columnname] = None\n",
      "/tmp/ipykernel_41644/1484095954.py:11: PerformanceWarning: DataFrame is highly fragmented.  This is usually the result of calling `frame.insert` many times, which has poor performance.  Consider joining all columns at once using pd.concat(axis=1) instead. To get a de-fragmented frame, use `newframe = frame.copy()`\n",
      "  pcaBiplotData.loc[index, columnname] = None\n",
      "/tmp/ipykernel_41644/1484095954.py:11: PerformanceWarning: DataFrame is highly fragmented.  This is usually the result of calling `frame.insert` many times, which has poor performance.  Consider joining all columns at once using pd.concat(axis=1) instead. To get a de-fragmented frame, use `newframe = frame.copy()`\n",
      "  pcaBiplotData.loc[index, columnname] = None\n",
      "/tmp/ipykernel_41644/1484095954.py:11: PerformanceWarning: DataFrame is highly fragmented.  This is usually the result of calling `frame.insert` many times, which has poor performance.  Consider joining all columns at once using pd.concat(axis=1) instead. To get a de-fragmented frame, use `newframe = frame.copy()`\n",
      "  pcaBiplotData.loc[index, columnname] = None\n",
      "/tmp/ipykernel_41644/1484095954.py:11: PerformanceWarning: DataFrame is highly fragmented.  This is usually the result of calling `frame.insert` many times, which has poor performance.  Consider joining all columns at once using pd.concat(axis=1) instead. To get a de-fragmented frame, use `newframe = frame.copy()`\n",
      "  pcaBiplotData.loc[index, columnname] = None\n",
      "/tmp/ipykernel_41644/1484095954.py:11: PerformanceWarning: DataFrame is highly fragmented.  This is usually the result of calling `frame.insert` many times, which has poor performance.  Consider joining all columns at once using pd.concat(axis=1) instead. To get a de-fragmented frame, use `newframe = frame.copy()`\n",
      "  pcaBiplotData.loc[index, columnname] = None\n",
      "/tmp/ipykernel_41644/1484095954.py:11: PerformanceWarning: DataFrame is highly fragmented.  This is usually the result of calling `frame.insert` many times, which has poor performance.  Consider joining all columns at once using pd.concat(axis=1) instead. To get a de-fragmented frame, use `newframe = frame.copy()`\n",
      "  pcaBiplotData.loc[index, columnname] = None\n",
      "/tmp/ipykernel_41644/1484095954.py:11: PerformanceWarning: DataFrame is highly fragmented.  This is usually the result of calling `frame.insert` many times, which has poor performance.  Consider joining all columns at once using pd.concat(axis=1) instead. To get a de-fragmented frame, use `newframe = frame.copy()`\n",
      "  pcaBiplotData.loc[index, columnname] = None\n",
      "/tmp/ipykernel_41644/1484095954.py:11: PerformanceWarning: DataFrame is highly fragmented.  This is usually the result of calling `frame.insert` many times, which has poor performance.  Consider joining all columns at once using pd.concat(axis=1) instead. To get a de-fragmented frame, use `newframe = frame.copy()`\n",
      "  pcaBiplotData.loc[index, columnname] = None\n",
      "/tmp/ipykernel_41644/1484095954.py:11: PerformanceWarning: DataFrame is highly fragmented.  This is usually the result of calling `frame.insert` many times, which has poor performance.  Consider joining all columns at once using pd.concat(axis=1) instead. To get a de-fragmented frame, use `newframe = frame.copy()`\n",
      "  pcaBiplotData.loc[index, columnname] = None\n",
      "/tmp/ipykernel_41644/1484095954.py:11: PerformanceWarning: DataFrame is highly fragmented.  This is usually the result of calling `frame.insert` many times, which has poor performance.  Consider joining all columns at once using pd.concat(axis=1) instead. To get a de-fragmented frame, use `newframe = frame.copy()`\n",
      "  pcaBiplotData.loc[index, columnname] = None\n",
      "/tmp/ipykernel_41644/1484095954.py:11: PerformanceWarning: DataFrame is highly fragmented.  This is usually the result of calling `frame.insert` many times, which has poor performance.  Consider joining all columns at once using pd.concat(axis=1) instead. To get a de-fragmented frame, use `newframe = frame.copy()`\n",
      "  pcaBiplotData.loc[index, columnname] = None\n",
      "/tmp/ipykernel_41644/1484095954.py:11: PerformanceWarning: DataFrame is highly fragmented.  This is usually the result of calling `frame.insert` many times, which has poor performance.  Consider joining all columns at once using pd.concat(axis=1) instead. To get a de-fragmented frame, use `newframe = frame.copy()`\n",
      "  pcaBiplotData.loc[index, columnname] = None\n",
      "/tmp/ipykernel_41644/1484095954.py:11: PerformanceWarning: DataFrame is highly fragmented.  This is usually the result of calling `frame.insert` many times, which has poor performance.  Consider joining all columns at once using pd.concat(axis=1) instead. To get a de-fragmented frame, use `newframe = frame.copy()`\n",
      "  pcaBiplotData.loc[index, columnname] = None\n",
      "/tmp/ipykernel_41644/1484095954.py:11: PerformanceWarning: DataFrame is highly fragmented.  This is usually the result of calling `frame.insert` many times, which has poor performance.  Consider joining all columns at once using pd.concat(axis=1) instead. To get a de-fragmented frame, use `newframe = frame.copy()`\n",
      "  pcaBiplotData.loc[index, columnname] = None\n",
      "/tmp/ipykernel_41644/1484095954.py:11: PerformanceWarning: DataFrame is highly fragmented.  This is usually the result of calling `frame.insert` many times, which has poor performance.  Consider joining all columns at once using pd.concat(axis=1) instead. To get a de-fragmented frame, use `newframe = frame.copy()`\n",
      "  pcaBiplotData.loc[index, columnname] = None\n",
      "/tmp/ipykernel_41644/1484095954.py:11: PerformanceWarning: DataFrame is highly fragmented.  This is usually the result of calling `frame.insert` many times, which has poor performance.  Consider joining all columns at once using pd.concat(axis=1) instead. To get a de-fragmented frame, use `newframe = frame.copy()`\n",
      "  pcaBiplotData.loc[index, columnname] = None\n",
      "/tmp/ipykernel_41644/1484095954.py:11: PerformanceWarning: DataFrame is highly fragmented.  This is usually the result of calling `frame.insert` many times, which has poor performance.  Consider joining all columns at once using pd.concat(axis=1) instead. To get a de-fragmented frame, use `newframe = frame.copy()`\n",
      "  pcaBiplotData.loc[index, columnname] = None\n",
      "/tmp/ipykernel_41644/1484095954.py:11: PerformanceWarning: DataFrame is highly fragmented.  This is usually the result of calling `frame.insert` many times, which has poor performance.  Consider joining all columns at once using pd.concat(axis=1) instead. To get a de-fragmented frame, use `newframe = frame.copy()`\n",
      "  pcaBiplotData.loc[index, columnname] = None\n",
      "/tmp/ipykernel_41644/1484095954.py:11: PerformanceWarning: DataFrame is highly fragmented.  This is usually the result of calling `frame.insert` many times, which has poor performance.  Consider joining all columns at once using pd.concat(axis=1) instead. To get a de-fragmented frame, use `newframe = frame.copy()`\n",
      "  pcaBiplotData.loc[index, columnname] = None\n",
      "/tmp/ipykernel_41644/1484095954.py:11: PerformanceWarning: DataFrame is highly fragmented.  This is usually the result of calling `frame.insert` many times, which has poor performance.  Consider joining all columns at once using pd.concat(axis=1) instead. To get a de-fragmented frame, use `newframe = frame.copy()`\n",
      "  pcaBiplotData.loc[index, columnname] = None\n",
      "/tmp/ipykernel_41644/1484095954.py:11: PerformanceWarning: DataFrame is highly fragmented.  This is usually the result of calling `frame.insert` many times, which has poor performance.  Consider joining all columns at once using pd.concat(axis=1) instead. To get a de-fragmented frame, use `newframe = frame.copy()`\n",
      "  pcaBiplotData.loc[index, columnname] = None\n",
      "/tmp/ipykernel_41644/1484095954.py:11: PerformanceWarning: DataFrame is highly fragmented.  This is usually the result of calling `frame.insert` many times, which has poor performance.  Consider joining all columns at once using pd.concat(axis=1) instead. To get a de-fragmented frame, use `newframe = frame.copy()`\n",
      "  pcaBiplotData.loc[index, columnname] = None\n",
      "/tmp/ipykernel_41644/1484095954.py:11: PerformanceWarning: DataFrame is highly fragmented.  This is usually the result of calling `frame.insert` many times, which has poor performance.  Consider joining all columns at once using pd.concat(axis=1) instead. To get a de-fragmented frame, use `newframe = frame.copy()`\n",
      "  pcaBiplotData.loc[index, columnname] = None\n",
      "/tmp/ipykernel_41644/1484095954.py:11: PerformanceWarning: DataFrame is highly fragmented.  This is usually the result of calling `frame.insert` many times, which has poor performance.  Consider joining all columns at once using pd.concat(axis=1) instead. To get a de-fragmented frame, use `newframe = frame.copy()`\n",
      "  pcaBiplotData.loc[index, columnname] = None\n",
      "/tmp/ipykernel_41644/1484095954.py:11: PerformanceWarning: DataFrame is highly fragmented.  This is usually the result of calling `frame.insert` many times, which has poor performance.  Consider joining all columns at once using pd.concat(axis=1) instead. To get a de-fragmented frame, use `newframe = frame.copy()`\n",
      "  pcaBiplotData.loc[index, columnname] = None\n",
      "/tmp/ipykernel_41644/1484095954.py:11: PerformanceWarning: DataFrame is highly fragmented.  This is usually the result of calling `frame.insert` many times, which has poor performance.  Consider joining all columns at once using pd.concat(axis=1) instead. To get a de-fragmented frame, use `newframe = frame.copy()`\n",
      "  pcaBiplotData.loc[index, columnname] = None\n",
      "/tmp/ipykernel_41644/1484095954.py:11: PerformanceWarning: DataFrame is highly fragmented.  This is usually the result of calling `frame.insert` many times, which has poor performance.  Consider joining all columns at once using pd.concat(axis=1) instead. To get a de-fragmented frame, use `newframe = frame.copy()`\n",
      "  pcaBiplotData.loc[index, columnname] = None\n",
      "/tmp/ipykernel_41644/1484095954.py:11: PerformanceWarning: DataFrame is highly fragmented.  This is usually the result of calling `frame.insert` many times, which has poor performance.  Consider joining all columns at once using pd.concat(axis=1) instead. To get a de-fragmented frame, use `newframe = frame.copy()`\n",
      "  pcaBiplotData.loc[index, columnname] = None\n",
      "/tmp/ipykernel_41644/1484095954.py:11: PerformanceWarning: DataFrame is highly fragmented.  This is usually the result of calling `frame.insert` many times, which has poor performance.  Consider joining all columns at once using pd.concat(axis=1) instead. To get a de-fragmented frame, use `newframe = frame.copy()`\n",
      "  pcaBiplotData.loc[index, columnname] = None\n",
      "/tmp/ipykernel_41644/1484095954.py:11: PerformanceWarning: DataFrame is highly fragmented.  This is usually the result of calling `frame.insert` many times, which has poor performance.  Consider joining all columns at once using pd.concat(axis=1) instead. To get a de-fragmented frame, use `newframe = frame.copy()`\n",
      "  pcaBiplotData.loc[index, columnname] = None\n",
      "/tmp/ipykernel_41644/1484095954.py:11: PerformanceWarning: DataFrame is highly fragmented.  This is usually the result of calling `frame.insert` many times, which has poor performance.  Consider joining all columns at once using pd.concat(axis=1) instead. To get a de-fragmented frame, use `newframe = frame.copy()`\n",
      "  pcaBiplotData.loc[index, columnname] = None\n",
      "/tmp/ipykernel_41644/1484095954.py:11: PerformanceWarning: DataFrame is highly fragmented.  This is usually the result of calling `frame.insert` many times, which has poor performance.  Consider joining all columns at once using pd.concat(axis=1) instead. To get a de-fragmented frame, use `newframe = frame.copy()`\n",
      "  pcaBiplotData.loc[index, columnname] = None\n",
      "/tmp/ipykernel_41644/1484095954.py:11: PerformanceWarning: DataFrame is highly fragmented.  This is usually the result of calling `frame.insert` many times, which has poor performance.  Consider joining all columns at once using pd.concat(axis=1) instead. To get a de-fragmented frame, use `newframe = frame.copy()`\n",
      "  pcaBiplotData.loc[index, columnname] = None\n",
      "/tmp/ipykernel_41644/1484095954.py:11: PerformanceWarning: DataFrame is highly fragmented.  This is usually the result of calling `frame.insert` many times, which has poor performance.  Consider joining all columns at once using pd.concat(axis=1) instead. To get a de-fragmented frame, use `newframe = frame.copy()`\n",
      "  pcaBiplotData.loc[index, columnname] = None\n",
      "/tmp/ipykernel_41644/1484095954.py:11: PerformanceWarning: DataFrame is highly fragmented.  This is usually the result of calling `frame.insert` many times, which has poor performance.  Consider joining all columns at once using pd.concat(axis=1) instead. To get a de-fragmented frame, use `newframe = frame.copy()`\n",
      "  pcaBiplotData.loc[index, columnname] = None\n",
      "/tmp/ipykernel_41644/1484095954.py:11: PerformanceWarning: DataFrame is highly fragmented.  This is usually the result of calling `frame.insert` many times, which has poor performance.  Consider joining all columns at once using pd.concat(axis=1) instead. To get a de-fragmented frame, use `newframe = frame.copy()`\n",
      "  pcaBiplotData.loc[index, columnname] = None\n",
      "/tmp/ipykernel_41644/1484095954.py:11: PerformanceWarning: DataFrame is highly fragmented.  This is usually the result of calling `frame.insert` many times, which has poor performance.  Consider joining all columns at once using pd.concat(axis=1) instead. To get a de-fragmented frame, use `newframe = frame.copy()`\n",
      "  pcaBiplotData.loc[index, columnname] = None\n",
      "/tmp/ipykernel_41644/1484095954.py:11: PerformanceWarning: DataFrame is highly fragmented.  This is usually the result of calling `frame.insert` many times, which has poor performance.  Consider joining all columns at once using pd.concat(axis=1) instead. To get a de-fragmented frame, use `newframe = frame.copy()`\n",
      "  pcaBiplotData.loc[index, columnname] = None\n",
      "/tmp/ipykernel_41644/1484095954.py:11: PerformanceWarning: DataFrame is highly fragmented.  This is usually the result of calling `frame.insert` many times, which has poor performance.  Consider joining all columns at once using pd.concat(axis=1) instead. To get a de-fragmented frame, use `newframe = frame.copy()`\n",
      "  pcaBiplotData.loc[index, columnname] = None\n",
      "/tmp/ipykernel_41644/1484095954.py:11: PerformanceWarning: DataFrame is highly fragmented.  This is usually the result of calling `frame.insert` many times, which has poor performance.  Consider joining all columns at once using pd.concat(axis=1) instead. To get a de-fragmented frame, use `newframe = frame.copy()`\n",
      "  pcaBiplotData.loc[index, columnname] = None\n",
      "/tmp/ipykernel_41644/1484095954.py:11: PerformanceWarning: DataFrame is highly fragmented.  This is usually the result of calling `frame.insert` many times, which has poor performance.  Consider joining all columns at once using pd.concat(axis=1) instead. To get a de-fragmented frame, use `newframe = frame.copy()`\n",
      "  pcaBiplotData.loc[index, columnname] = None\n",
      "/tmp/ipykernel_41644/1484095954.py:11: PerformanceWarning: DataFrame is highly fragmented.  This is usually the result of calling `frame.insert` many times, which has poor performance.  Consider joining all columns at once using pd.concat(axis=1) instead. To get a de-fragmented frame, use `newframe = frame.copy()`\n",
      "  pcaBiplotData.loc[index, columnname] = None\n",
      "/tmp/ipykernel_41644/1484095954.py:11: PerformanceWarning: DataFrame is highly fragmented.  This is usually the result of calling `frame.insert` many times, which has poor performance.  Consider joining all columns at once using pd.concat(axis=1) instead. To get a de-fragmented frame, use `newframe = frame.copy()`\n",
      "  pcaBiplotData.loc[index, columnname] = None\n",
      "/tmp/ipykernel_41644/1484095954.py:11: PerformanceWarning: DataFrame is highly fragmented.  This is usually the result of calling `frame.insert` many times, which has poor performance.  Consider joining all columns at once using pd.concat(axis=1) instead. To get a de-fragmented frame, use `newframe = frame.copy()`\n",
      "  pcaBiplotData.loc[index, columnname] = None\n",
      "/tmp/ipykernel_41644/1484095954.py:11: PerformanceWarning: DataFrame is highly fragmented.  This is usually the result of calling `frame.insert` many times, which has poor performance.  Consider joining all columns at once using pd.concat(axis=1) instead. To get a de-fragmented frame, use `newframe = frame.copy()`\n",
      "  pcaBiplotData.loc[index, columnname] = None\n",
      "/tmp/ipykernel_41644/1484095954.py:11: PerformanceWarning: DataFrame is highly fragmented.  This is usually the result of calling `frame.insert` many times, which has poor performance.  Consider joining all columns at once using pd.concat(axis=1) instead. To get a de-fragmented frame, use `newframe = frame.copy()`\n",
      "  pcaBiplotData.loc[index, columnname] = None\n",
      "/tmp/ipykernel_41644/1484095954.py:11: PerformanceWarning: DataFrame is highly fragmented.  This is usually the result of calling `frame.insert` many times, which has poor performance.  Consider joining all columns at once using pd.concat(axis=1) instead. To get a de-fragmented frame, use `newframe = frame.copy()`\n",
      "  pcaBiplotData.loc[index, columnname] = None\n",
      "/tmp/ipykernel_41644/1484095954.py:11: PerformanceWarning: DataFrame is highly fragmented.  This is usually the result of calling `frame.insert` many times, which has poor performance.  Consider joining all columns at once using pd.concat(axis=1) instead. To get a de-fragmented frame, use `newframe = frame.copy()`\n",
      "  pcaBiplotData.loc[index, columnname] = None\n",
      "/tmp/ipykernel_41644/1484095954.py:11: PerformanceWarning: DataFrame is highly fragmented.  This is usually the result of calling `frame.insert` many times, which has poor performance.  Consider joining all columns at once using pd.concat(axis=1) instead. To get a de-fragmented frame, use `newframe = frame.copy()`\n",
      "  pcaBiplotData.loc[index, columnname] = None\n",
      "/tmp/ipykernel_41644/1484095954.py:11: PerformanceWarning: DataFrame is highly fragmented.  This is usually the result of calling `frame.insert` many times, which has poor performance.  Consider joining all columns at once using pd.concat(axis=1) instead. To get a de-fragmented frame, use `newframe = frame.copy()`\n",
      "  pcaBiplotData.loc[index, columnname] = None\n",
      "/tmp/ipykernel_41644/1484095954.py:11: PerformanceWarning: DataFrame is highly fragmented.  This is usually the result of calling `frame.insert` many times, which has poor performance.  Consider joining all columns at once using pd.concat(axis=1) instead. To get a de-fragmented frame, use `newframe = frame.copy()`\n",
      "  pcaBiplotData.loc[index, columnname] = None\n",
      "/tmp/ipykernel_41644/1484095954.py:11: PerformanceWarning: DataFrame is highly fragmented.  This is usually the result of calling `frame.insert` many times, which has poor performance.  Consider joining all columns at once using pd.concat(axis=1) instead. To get a de-fragmented frame, use `newframe = frame.copy()`\n",
      "  pcaBiplotData.loc[index, columnname] = None\n",
      "/tmp/ipykernel_41644/1484095954.py:11: PerformanceWarning: DataFrame is highly fragmented.  This is usually the result of calling `frame.insert` many times, which has poor performance.  Consider joining all columns at once using pd.concat(axis=1) instead. To get a de-fragmented frame, use `newframe = frame.copy()`\n",
      "  pcaBiplotData.loc[index, columnname] = None\n",
      "/tmp/ipykernel_41644/1484095954.py:11: PerformanceWarning: DataFrame is highly fragmented.  This is usually the result of calling `frame.insert` many times, which has poor performance.  Consider joining all columns at once using pd.concat(axis=1) instead. To get a de-fragmented frame, use `newframe = frame.copy()`\n",
      "  pcaBiplotData.loc[index, columnname] = None\n",
      "/tmp/ipykernel_41644/1484095954.py:11: PerformanceWarning: DataFrame is highly fragmented.  This is usually the result of calling `frame.insert` many times, which has poor performance.  Consider joining all columns at once using pd.concat(axis=1) instead. To get a de-fragmented frame, use `newframe = frame.copy()`\n",
      "  pcaBiplotData.loc[index, columnname] = None\n",
      "/tmp/ipykernel_41644/1484095954.py:11: PerformanceWarning: DataFrame is highly fragmented.  This is usually the result of calling `frame.insert` many times, which has poor performance.  Consider joining all columns at once using pd.concat(axis=1) instead. To get a de-fragmented frame, use `newframe = frame.copy()`\n",
      "  pcaBiplotData.loc[index, columnname] = None\n",
      "/tmp/ipykernel_41644/1484095954.py:11: PerformanceWarning: DataFrame is highly fragmented.  This is usually the result of calling `frame.insert` many times, which has poor performance.  Consider joining all columns at once using pd.concat(axis=1) instead. To get a de-fragmented frame, use `newframe = frame.copy()`\n",
      "  pcaBiplotData.loc[index, columnname] = None\n",
      "/tmp/ipykernel_41644/1484095954.py:11: PerformanceWarning: DataFrame is highly fragmented.  This is usually the result of calling `frame.insert` many times, which has poor performance.  Consider joining all columns at once using pd.concat(axis=1) instead. To get a de-fragmented frame, use `newframe = frame.copy()`\n",
      "  pcaBiplotData.loc[index, columnname] = None\n",
      "/tmp/ipykernel_41644/1484095954.py:11: PerformanceWarning: DataFrame is highly fragmented.  This is usually the result of calling `frame.insert` many times, which has poor performance.  Consider joining all columns at once using pd.concat(axis=1) instead. To get a de-fragmented frame, use `newframe = frame.copy()`\n",
      "  pcaBiplotData.loc[index, columnname] = None\n",
      "/tmp/ipykernel_41644/1484095954.py:11: PerformanceWarning: DataFrame is highly fragmented.  This is usually the result of calling `frame.insert` many times, which has poor performance.  Consider joining all columns at once using pd.concat(axis=1) instead. To get a de-fragmented frame, use `newframe = frame.copy()`\n",
      "  pcaBiplotData.loc[index, columnname] = None\n",
      "/tmp/ipykernel_41644/1484095954.py:11: PerformanceWarning: DataFrame is highly fragmented.  This is usually the result of calling `frame.insert` many times, which has poor performance.  Consider joining all columns at once using pd.concat(axis=1) instead. To get a de-fragmented frame, use `newframe = frame.copy()`\n",
      "  pcaBiplotData.loc[index, columnname] = None\n",
      "/tmp/ipykernel_41644/1484095954.py:11: PerformanceWarning: DataFrame is highly fragmented.  This is usually the result of calling `frame.insert` many times, which has poor performance.  Consider joining all columns at once using pd.concat(axis=1) instead. To get a de-fragmented frame, use `newframe = frame.copy()`\n",
      "  pcaBiplotData.loc[index, columnname] = None\n",
      "/tmp/ipykernel_41644/1484095954.py:11: PerformanceWarning: DataFrame is highly fragmented.  This is usually the result of calling `frame.insert` many times, which has poor performance.  Consider joining all columns at once using pd.concat(axis=1) instead. To get a de-fragmented frame, use `newframe = frame.copy()`\n",
      "  pcaBiplotData.loc[index, columnname] = None\n",
      "/tmp/ipykernel_41644/1484095954.py:11: PerformanceWarning: DataFrame is highly fragmented.  This is usually the result of calling `frame.insert` many times, which has poor performance.  Consider joining all columns at once using pd.concat(axis=1) instead. To get a de-fragmented frame, use `newframe = frame.copy()`\n",
      "  pcaBiplotData.loc[index, columnname] = None\n",
      "/tmp/ipykernel_41644/1484095954.py:11: PerformanceWarning: DataFrame is highly fragmented.  This is usually the result of calling `frame.insert` many times, which has poor performance.  Consider joining all columns at once using pd.concat(axis=1) instead. To get a de-fragmented frame, use `newframe = frame.copy()`\n",
      "  pcaBiplotData.loc[index, columnname] = None\n",
      "/tmp/ipykernel_41644/1484095954.py:11: PerformanceWarning: DataFrame is highly fragmented.  This is usually the result of calling `frame.insert` many times, which has poor performance.  Consider joining all columns at once using pd.concat(axis=1) instead. To get a de-fragmented frame, use `newframe = frame.copy()`\n",
      "  pcaBiplotData.loc[index, columnname] = None\n",
      "/tmp/ipykernel_41644/1484095954.py:11: PerformanceWarning: DataFrame is highly fragmented.  This is usually the result of calling `frame.insert` many times, which has poor performance.  Consider joining all columns at once using pd.concat(axis=1) instead. To get a de-fragmented frame, use `newframe = frame.copy()`\n",
      "  pcaBiplotData.loc[index, columnname] = None\n",
      "/tmp/ipykernel_41644/1484095954.py:11: PerformanceWarning: DataFrame is highly fragmented.  This is usually the result of calling `frame.insert` many times, which has poor performance.  Consider joining all columns at once using pd.concat(axis=1) instead. To get a de-fragmented frame, use `newframe = frame.copy()`\n",
      "  pcaBiplotData.loc[index, columnname] = None\n",
      "/tmp/ipykernel_41644/1484095954.py:11: PerformanceWarning: DataFrame is highly fragmented.  This is usually the result of calling `frame.insert` many times, which has poor performance.  Consider joining all columns at once using pd.concat(axis=1) instead. To get a de-fragmented frame, use `newframe = frame.copy()`\n",
      "  pcaBiplotData.loc[index, columnname] = None\n",
      "/tmp/ipykernel_41644/1484095954.py:11: PerformanceWarning: DataFrame is highly fragmented.  This is usually the result of calling `frame.insert` many times, which has poor performance.  Consider joining all columns at once using pd.concat(axis=1) instead. To get a de-fragmented frame, use `newframe = frame.copy()`\n",
      "  pcaBiplotData.loc[index, columnname] = None\n",
      "/tmp/ipykernel_41644/1484095954.py:11: PerformanceWarning: DataFrame is highly fragmented.  This is usually the result of calling `frame.insert` many times, which has poor performance.  Consider joining all columns at once using pd.concat(axis=1) instead. To get a de-fragmented frame, use `newframe = frame.copy()`\n",
      "  pcaBiplotData.loc[index, columnname] = None\n",
      "/tmp/ipykernel_41644/1484095954.py:11: PerformanceWarning: DataFrame is highly fragmented.  This is usually the result of calling `frame.insert` many times, which has poor performance.  Consider joining all columns at once using pd.concat(axis=1) instead. To get a de-fragmented frame, use `newframe = frame.copy()`\n",
      "  pcaBiplotData.loc[index, columnname] = None\n",
      "/tmp/ipykernel_41644/1484095954.py:11: PerformanceWarning: DataFrame is highly fragmented.  This is usually the result of calling `frame.insert` many times, which has poor performance.  Consider joining all columns at once using pd.concat(axis=1) instead. To get a de-fragmented frame, use `newframe = frame.copy()`\n",
      "  pcaBiplotData.loc[index, columnname] = None\n",
      "/tmp/ipykernel_41644/1484095954.py:11: PerformanceWarning: DataFrame is highly fragmented.  This is usually the result of calling `frame.insert` many times, which has poor performance.  Consider joining all columns at once using pd.concat(axis=1) instead. To get a de-fragmented frame, use `newframe = frame.copy()`\n",
      "  pcaBiplotData.loc[index, columnname] = None\n",
      "/tmp/ipykernel_41644/1484095954.py:11: PerformanceWarning: DataFrame is highly fragmented.  This is usually the result of calling `frame.insert` many times, which has poor performance.  Consider joining all columns at once using pd.concat(axis=1) instead. To get a de-fragmented frame, use `newframe = frame.copy()`\n",
      "  pcaBiplotData.loc[index, columnname] = None\n",
      "/tmp/ipykernel_41644/1484095954.py:11: PerformanceWarning: DataFrame is highly fragmented.  This is usually the result of calling `frame.insert` many times, which has poor performance.  Consider joining all columns at once using pd.concat(axis=1) instead. To get a de-fragmented frame, use `newframe = frame.copy()`\n",
      "  pcaBiplotData.loc[index, columnname] = None\n",
      "/tmp/ipykernel_41644/1484095954.py:11: PerformanceWarning: DataFrame is highly fragmented.  This is usually the result of calling `frame.insert` many times, which has poor performance.  Consider joining all columns at once using pd.concat(axis=1) instead. To get a de-fragmented frame, use `newframe = frame.copy()`\n",
      "  pcaBiplotData.loc[index, columnname] = None\n",
      "/tmp/ipykernel_41644/1484095954.py:11: PerformanceWarning: DataFrame is highly fragmented.  This is usually the result of calling `frame.insert` many times, which has poor performance.  Consider joining all columns at once using pd.concat(axis=1) instead. To get a de-fragmented frame, use `newframe = frame.copy()`\n",
      "  pcaBiplotData.loc[index, columnname] = None\n",
      "/tmp/ipykernel_41644/1484095954.py:11: PerformanceWarning: DataFrame is highly fragmented.  This is usually the result of calling `frame.insert` many times, which has poor performance.  Consider joining all columns at once using pd.concat(axis=1) instead. To get a de-fragmented frame, use `newframe = frame.copy()`\n",
      "  pcaBiplotData.loc[index, columnname] = None\n",
      "/tmp/ipykernel_41644/1484095954.py:11: PerformanceWarning: DataFrame is highly fragmented.  This is usually the result of calling `frame.insert` many times, which has poor performance.  Consider joining all columns at once using pd.concat(axis=1) instead. To get a de-fragmented frame, use `newframe = frame.copy()`\n",
      "  pcaBiplotData.loc[index, columnname] = None\n",
      "/tmp/ipykernel_41644/1484095954.py:11: PerformanceWarning: DataFrame is highly fragmented.  This is usually the result of calling `frame.insert` many times, which has poor performance.  Consider joining all columns at once using pd.concat(axis=1) instead. To get a de-fragmented frame, use `newframe = frame.copy()`\n",
      "  pcaBiplotData.loc[index, columnname] = None\n",
      "/tmp/ipykernel_41644/1484095954.py:11: PerformanceWarning: DataFrame is highly fragmented.  This is usually the result of calling `frame.insert` many times, which has poor performance.  Consider joining all columns at once using pd.concat(axis=1) instead. To get a de-fragmented frame, use `newframe = frame.copy()`\n",
      "  pcaBiplotData.loc[index, columnname] = None\n",
      "/tmp/ipykernel_41644/1484095954.py:11: PerformanceWarning: DataFrame is highly fragmented.  This is usually the result of calling `frame.insert` many times, which has poor performance.  Consider joining all columns at once using pd.concat(axis=1) instead. To get a de-fragmented frame, use `newframe = frame.copy()`\n",
      "  pcaBiplotData.loc[index, columnname] = None\n",
      "/tmp/ipykernel_41644/1484095954.py:11: PerformanceWarning: DataFrame is highly fragmented.  This is usually the result of calling `frame.insert` many times, which has poor performance.  Consider joining all columns at once using pd.concat(axis=1) instead. To get a de-fragmented frame, use `newframe = frame.copy()`\n",
      "  pcaBiplotData.loc[index, columnname] = None\n",
      "/tmp/ipykernel_41644/1484095954.py:11: PerformanceWarning: DataFrame is highly fragmented.  This is usually the result of calling `frame.insert` many times, which has poor performance.  Consider joining all columns at once using pd.concat(axis=1) instead. To get a de-fragmented frame, use `newframe = frame.copy()`\n",
      "  pcaBiplotData.loc[index, columnname] = None\n",
      "/tmp/ipykernel_41644/1484095954.py:11: PerformanceWarning: DataFrame is highly fragmented.  This is usually the result of calling `frame.insert` many times, which has poor performance.  Consider joining all columns at once using pd.concat(axis=1) instead. To get a de-fragmented frame, use `newframe = frame.copy()`\n",
      "  pcaBiplotData.loc[index, columnname] = None\n",
      "/tmp/ipykernel_41644/1484095954.py:11: PerformanceWarning: DataFrame is highly fragmented.  This is usually the result of calling `frame.insert` many times, which has poor performance.  Consider joining all columns at once using pd.concat(axis=1) instead. To get a de-fragmented frame, use `newframe = frame.copy()`\n",
      "  pcaBiplotData.loc[index, columnname] = None\n",
      "/tmp/ipykernel_41644/1484095954.py:11: PerformanceWarning: DataFrame is highly fragmented.  This is usually the result of calling `frame.insert` many times, which has poor performance.  Consider joining all columns at once using pd.concat(axis=1) instead. To get a de-fragmented frame, use `newframe = frame.copy()`\n",
      "  pcaBiplotData.loc[index, columnname] = None\n",
      "/tmp/ipykernel_41644/1484095954.py:11: PerformanceWarning: DataFrame is highly fragmented.  This is usually the result of calling `frame.insert` many times, which has poor performance.  Consider joining all columns at once using pd.concat(axis=1) instead. To get a de-fragmented frame, use `newframe = frame.copy()`\n",
      "  pcaBiplotData.loc[index, columnname] = None\n",
      "/tmp/ipykernel_41644/1484095954.py:11: PerformanceWarning: DataFrame is highly fragmented.  This is usually the result of calling `frame.insert` many times, which has poor performance.  Consider joining all columns at once using pd.concat(axis=1) instead. To get a de-fragmented frame, use `newframe = frame.copy()`\n",
      "  pcaBiplotData.loc[index, columnname] = None\n",
      "/tmp/ipykernel_41644/1484095954.py:11: PerformanceWarning: DataFrame is highly fragmented.  This is usually the result of calling `frame.insert` many times, which has poor performance.  Consider joining all columns at once using pd.concat(axis=1) instead. To get a de-fragmented frame, use `newframe = frame.copy()`\n",
      "  pcaBiplotData.loc[index, columnname] = None\n",
      "/tmp/ipykernel_41644/1484095954.py:11: PerformanceWarning: DataFrame is highly fragmented.  This is usually the result of calling `frame.insert` many times, which has poor performance.  Consider joining all columns at once using pd.concat(axis=1) instead. To get a de-fragmented frame, use `newframe = frame.copy()`\n",
      "  pcaBiplotData.loc[index, columnname] = None\n",
      "/tmp/ipykernel_41644/1484095954.py:11: PerformanceWarning: DataFrame is highly fragmented.  This is usually the result of calling `frame.insert` many times, which has poor performance.  Consider joining all columns at once using pd.concat(axis=1) instead. To get a de-fragmented frame, use `newframe = frame.copy()`\n",
      "  pcaBiplotData.loc[index, columnname] = None\n",
      "/tmp/ipykernel_41644/1484095954.py:11: PerformanceWarning: DataFrame is highly fragmented.  This is usually the result of calling `frame.insert` many times, which has poor performance.  Consider joining all columns at once using pd.concat(axis=1) instead. To get a de-fragmented frame, use `newframe = frame.copy()`\n",
      "  pcaBiplotData.loc[index, columnname] = None\n",
      "/tmp/ipykernel_41644/1484095954.py:11: PerformanceWarning: DataFrame is highly fragmented.  This is usually the result of calling `frame.insert` many times, which has poor performance.  Consider joining all columns at once using pd.concat(axis=1) instead. To get a de-fragmented frame, use `newframe = frame.copy()`\n",
      "  pcaBiplotData.loc[index, columnname] = None\n",
      "/tmp/ipykernel_41644/1484095954.py:11: PerformanceWarning: DataFrame is highly fragmented.  This is usually the result of calling `frame.insert` many times, which has poor performance.  Consider joining all columns at once using pd.concat(axis=1) instead. To get a de-fragmented frame, use `newframe = frame.copy()`\n",
      "  pcaBiplotData.loc[index, columnname] = None\n",
      "/tmp/ipykernel_41644/1484095954.py:11: PerformanceWarning: DataFrame is highly fragmented.  This is usually the result of calling `frame.insert` many times, which has poor performance.  Consider joining all columns at once using pd.concat(axis=1) instead. To get a de-fragmented frame, use `newframe = frame.copy()`\n",
      "  pcaBiplotData.loc[index, columnname] = None\n",
      "/tmp/ipykernel_41644/1484095954.py:11: PerformanceWarning: DataFrame is highly fragmented.  This is usually the result of calling `frame.insert` many times, which has poor performance.  Consider joining all columns at once using pd.concat(axis=1) instead. To get a de-fragmented frame, use `newframe = frame.copy()`\n",
      "  pcaBiplotData.loc[index, columnname] = None\n",
      "/tmp/ipykernel_41644/1484095954.py:11: PerformanceWarning: DataFrame is highly fragmented.  This is usually the result of calling `frame.insert` many times, which has poor performance.  Consider joining all columns at once using pd.concat(axis=1) instead. To get a de-fragmented frame, use `newframe = frame.copy()`\n",
      "  pcaBiplotData.loc[index, columnname] = None\n",
      "/tmp/ipykernel_41644/1484095954.py:11: PerformanceWarning: DataFrame is highly fragmented.  This is usually the result of calling `frame.insert` many times, which has poor performance.  Consider joining all columns at once using pd.concat(axis=1) instead. To get a de-fragmented frame, use `newframe = frame.copy()`\n",
      "  pcaBiplotData.loc[index, columnname] = None\n",
      "/tmp/ipykernel_41644/1484095954.py:11: PerformanceWarning: DataFrame is highly fragmented.  This is usually the result of calling `frame.insert` many times, which has poor performance.  Consider joining all columns at once using pd.concat(axis=1) instead. To get a de-fragmented frame, use `newframe = frame.copy()`\n",
      "  pcaBiplotData.loc[index, columnname] = None\n",
      "/tmp/ipykernel_41644/1484095954.py:11: PerformanceWarning: DataFrame is highly fragmented.  This is usually the result of calling `frame.insert` many times, which has poor performance.  Consider joining all columns at once using pd.concat(axis=1) instead. To get a de-fragmented frame, use `newframe = frame.copy()`\n",
      "  pcaBiplotData.loc[index, columnname] = None\n",
      "/tmp/ipykernel_41644/1484095954.py:11: PerformanceWarning: DataFrame is highly fragmented.  This is usually the result of calling `frame.insert` many times, which has poor performance.  Consider joining all columns at once using pd.concat(axis=1) instead. To get a de-fragmented frame, use `newframe = frame.copy()`\n",
      "  pcaBiplotData.loc[index, columnname] = None\n",
      "/tmp/ipykernel_41644/1484095954.py:11: PerformanceWarning: DataFrame is highly fragmented.  This is usually the result of calling `frame.insert` many times, which has poor performance.  Consider joining all columns at once using pd.concat(axis=1) instead. To get a de-fragmented frame, use `newframe = frame.copy()`\n",
      "  pcaBiplotData.loc[index, columnname] = None\n",
      "/tmp/ipykernel_41644/1484095954.py:11: PerformanceWarning: DataFrame is highly fragmented.  This is usually the result of calling `frame.insert` many times, which has poor performance.  Consider joining all columns at once using pd.concat(axis=1) instead. To get a de-fragmented frame, use `newframe = frame.copy()`\n",
      "  pcaBiplotData.loc[index, columnname] = None\n",
      "/tmp/ipykernel_41644/1484095954.py:11: PerformanceWarning: DataFrame is highly fragmented.  This is usually the result of calling `frame.insert` many times, which has poor performance.  Consider joining all columns at once using pd.concat(axis=1) instead. To get a de-fragmented frame, use `newframe = frame.copy()`\n",
      "  pcaBiplotData.loc[index, columnname] = None\n",
      "/tmp/ipykernel_41644/1484095954.py:11: PerformanceWarning: DataFrame is highly fragmented.  This is usually the result of calling `frame.insert` many times, which has poor performance.  Consider joining all columns at once using pd.concat(axis=1) instead. To get a de-fragmented frame, use `newframe = frame.copy()`\n",
      "  pcaBiplotData.loc[index, columnname] = None\n",
      "/tmp/ipykernel_41644/1484095954.py:11: PerformanceWarning: DataFrame is highly fragmented.  This is usually the result of calling `frame.insert` many times, which has poor performance.  Consider joining all columns at once using pd.concat(axis=1) instead. To get a de-fragmented frame, use `newframe = frame.copy()`\n",
      "  pcaBiplotData.loc[index, columnname] = None\n",
      "/tmp/ipykernel_41644/1484095954.py:11: PerformanceWarning: DataFrame is highly fragmented.  This is usually the result of calling `frame.insert` many times, which has poor performance.  Consider joining all columns at once using pd.concat(axis=1) instead. To get a de-fragmented frame, use `newframe = frame.copy()`\n",
      "  pcaBiplotData.loc[index, columnname] = None\n",
      "/tmp/ipykernel_41644/1484095954.py:11: PerformanceWarning: DataFrame is highly fragmented.  This is usually the result of calling `frame.insert` many times, which has poor performance.  Consider joining all columns at once using pd.concat(axis=1) instead. To get a de-fragmented frame, use `newframe = frame.copy()`\n",
      "  pcaBiplotData.loc[index, columnname] = None\n",
      "/tmp/ipykernel_41644/1484095954.py:11: PerformanceWarning: DataFrame is highly fragmented.  This is usually the result of calling `frame.insert` many times, which has poor performance.  Consider joining all columns at once using pd.concat(axis=1) instead. To get a de-fragmented frame, use `newframe = frame.copy()`\n",
      "  pcaBiplotData.loc[index, columnname] = None\n",
      "/tmp/ipykernel_41644/1484095954.py:11: PerformanceWarning: DataFrame is highly fragmented.  This is usually the result of calling `frame.insert` many times, which has poor performance.  Consider joining all columns at once using pd.concat(axis=1) instead. To get a de-fragmented frame, use `newframe = frame.copy()`\n",
      "  pcaBiplotData.loc[index, columnname] = None\n",
      "/tmp/ipykernel_41644/1484095954.py:11: PerformanceWarning: DataFrame is highly fragmented.  This is usually the result of calling `frame.insert` many times, which has poor performance.  Consider joining all columns at once using pd.concat(axis=1) instead. To get a de-fragmented frame, use `newframe = frame.copy()`\n",
      "  pcaBiplotData.loc[index, columnname] = None\n",
      "/tmp/ipykernel_41644/1484095954.py:11: PerformanceWarning: DataFrame is highly fragmented.  This is usually the result of calling `frame.insert` many times, which has poor performance.  Consider joining all columns at once using pd.concat(axis=1) instead. To get a de-fragmented frame, use `newframe = frame.copy()`\n",
      "  pcaBiplotData.loc[index, columnname] = None\n",
      "/tmp/ipykernel_41644/1484095954.py:11: PerformanceWarning: DataFrame is highly fragmented.  This is usually the result of calling `frame.insert` many times, which has poor performance.  Consider joining all columns at once using pd.concat(axis=1) instead. To get a de-fragmented frame, use `newframe = frame.copy()`\n",
      "  pcaBiplotData.loc[index, columnname] = None\n",
      "/tmp/ipykernel_41644/1484095954.py:11: PerformanceWarning: DataFrame is highly fragmented.  This is usually the result of calling `frame.insert` many times, which has poor performance.  Consider joining all columns at once using pd.concat(axis=1) instead. To get a de-fragmented frame, use `newframe = frame.copy()`\n",
      "  pcaBiplotData.loc[index, columnname] = None\n",
      "/tmp/ipykernel_41644/1484095954.py:11: PerformanceWarning: DataFrame is highly fragmented.  This is usually the result of calling `frame.insert` many times, which has poor performance.  Consider joining all columns at once using pd.concat(axis=1) instead. To get a de-fragmented frame, use `newframe = frame.copy()`\n",
      "  pcaBiplotData.loc[index, columnname] = None\n",
      "/tmp/ipykernel_41644/1484095954.py:11: PerformanceWarning: DataFrame is highly fragmented.  This is usually the result of calling `frame.insert` many times, which has poor performance.  Consider joining all columns at once using pd.concat(axis=1) instead. To get a de-fragmented frame, use `newframe = frame.copy()`\n",
      "  pcaBiplotData.loc[index, columnname] = None\n",
      "/tmp/ipykernel_41644/1484095954.py:11: PerformanceWarning: DataFrame is highly fragmented.  This is usually the result of calling `frame.insert` many times, which has poor performance.  Consider joining all columns at once using pd.concat(axis=1) instead. To get a de-fragmented frame, use `newframe = frame.copy()`\n",
      "  pcaBiplotData.loc[index, columnname] = None\n",
      "/tmp/ipykernel_41644/1484095954.py:11: PerformanceWarning: DataFrame is highly fragmented.  This is usually the result of calling `frame.insert` many times, which has poor performance.  Consider joining all columns at once using pd.concat(axis=1) instead. To get a de-fragmented frame, use `newframe = frame.copy()`\n",
      "  pcaBiplotData.loc[index, columnname] = None\n",
      "/tmp/ipykernel_41644/1484095954.py:11: PerformanceWarning: DataFrame is highly fragmented.  This is usually the result of calling `frame.insert` many times, which has poor performance.  Consider joining all columns at once using pd.concat(axis=1) instead. To get a de-fragmented frame, use `newframe = frame.copy()`\n",
      "  pcaBiplotData.loc[index, columnname] = None\n",
      "/tmp/ipykernel_41644/1484095954.py:11: PerformanceWarning: DataFrame is highly fragmented.  This is usually the result of calling `frame.insert` many times, which has poor performance.  Consider joining all columns at once using pd.concat(axis=1) instead. To get a de-fragmented frame, use `newframe = frame.copy()`\n",
      "  pcaBiplotData.loc[index, columnname] = None\n",
      "/tmp/ipykernel_41644/1484095954.py:11: PerformanceWarning: DataFrame is highly fragmented.  This is usually the result of calling `frame.insert` many times, which has poor performance.  Consider joining all columns at once using pd.concat(axis=1) instead. To get a de-fragmented frame, use `newframe = frame.copy()`\n",
      "  pcaBiplotData.loc[index, columnname] = None\n",
      "/tmp/ipykernel_41644/1484095954.py:11: PerformanceWarning: DataFrame is highly fragmented.  This is usually the result of calling `frame.insert` many times, which has poor performance.  Consider joining all columns at once using pd.concat(axis=1) instead. To get a de-fragmented frame, use `newframe = frame.copy()`\n",
      "  pcaBiplotData.loc[index, columnname] = None\n",
      "/tmp/ipykernel_41644/1484095954.py:11: PerformanceWarning: DataFrame is highly fragmented.  This is usually the result of calling `frame.insert` many times, which has poor performance.  Consider joining all columns at once using pd.concat(axis=1) instead. To get a de-fragmented frame, use `newframe = frame.copy()`\n",
      "  pcaBiplotData.loc[index, columnname] = None\n",
      "/tmp/ipykernel_41644/1484095954.py:11: PerformanceWarning: DataFrame is highly fragmented.  This is usually the result of calling `frame.insert` many times, which has poor performance.  Consider joining all columns at once using pd.concat(axis=1) instead. To get a de-fragmented frame, use `newframe = frame.copy()`\n",
      "  pcaBiplotData.loc[index, columnname] = None\n",
      "/tmp/ipykernel_41644/1484095954.py:11: PerformanceWarning: DataFrame is highly fragmented.  This is usually the result of calling `frame.insert` many times, which has poor performance.  Consider joining all columns at once using pd.concat(axis=1) instead. To get a de-fragmented frame, use `newframe = frame.copy()`\n",
      "  pcaBiplotData.loc[index, columnname] = None\n",
      "/tmp/ipykernel_41644/1484095954.py:11: PerformanceWarning: DataFrame is highly fragmented.  This is usually the result of calling `frame.insert` many times, which has poor performance.  Consider joining all columns at once using pd.concat(axis=1) instead. To get a de-fragmented frame, use `newframe = frame.copy()`\n",
      "  pcaBiplotData.loc[index, columnname] = None\n",
      "/tmp/ipykernel_41644/1484095954.py:11: PerformanceWarning: DataFrame is highly fragmented.  This is usually the result of calling `frame.insert` many times, which has poor performance.  Consider joining all columns at once using pd.concat(axis=1) instead. To get a de-fragmented frame, use `newframe = frame.copy()`\n",
      "  pcaBiplotData.loc[index, columnname] = None\n",
      "/tmp/ipykernel_41644/1484095954.py:11: PerformanceWarning: DataFrame is highly fragmented.  This is usually the result of calling `frame.insert` many times, which has poor performance.  Consider joining all columns at once using pd.concat(axis=1) instead. To get a de-fragmented frame, use `newframe = frame.copy()`\n",
      "  pcaBiplotData.loc[index, columnname] = None\n",
      "/tmp/ipykernel_41644/1484095954.py:11: PerformanceWarning: DataFrame is highly fragmented.  This is usually the result of calling `frame.insert` many times, which has poor performance.  Consider joining all columns at once using pd.concat(axis=1) instead. To get a de-fragmented frame, use `newframe = frame.copy()`\n",
      "  pcaBiplotData.loc[index, columnname] = None\n",
      "/tmp/ipykernel_41644/1484095954.py:11: PerformanceWarning: DataFrame is highly fragmented.  This is usually the result of calling `frame.insert` many times, which has poor performance.  Consider joining all columns at once using pd.concat(axis=1) instead. To get a de-fragmented frame, use `newframe = frame.copy()`\n",
      "  pcaBiplotData.loc[index, columnname] = None\n",
      "/tmp/ipykernel_41644/1484095954.py:11: PerformanceWarning: DataFrame is highly fragmented.  This is usually the result of calling `frame.insert` many times, which has poor performance.  Consider joining all columns at once using pd.concat(axis=1) instead. To get a de-fragmented frame, use `newframe = frame.copy()`\n",
      "  pcaBiplotData.loc[index, columnname] = None\n",
      "/tmp/ipykernel_41644/1484095954.py:11: PerformanceWarning: DataFrame is highly fragmented.  This is usually the result of calling `frame.insert` many times, which has poor performance.  Consider joining all columns at once using pd.concat(axis=1) instead. To get a de-fragmented frame, use `newframe = frame.copy()`\n",
      "  pcaBiplotData.loc[index, columnname] = None\n",
      "/tmp/ipykernel_41644/1484095954.py:11: PerformanceWarning: DataFrame is highly fragmented.  This is usually the result of calling `frame.insert` many times, which has poor performance.  Consider joining all columns at once using pd.concat(axis=1) instead. To get a de-fragmented frame, use `newframe = frame.copy()`\n",
      "  pcaBiplotData.loc[index, columnname] = None\n",
      "/tmp/ipykernel_41644/1484095954.py:11: PerformanceWarning: DataFrame is highly fragmented.  This is usually the result of calling `frame.insert` many times, which has poor performance.  Consider joining all columns at once using pd.concat(axis=1) instead. To get a de-fragmented frame, use `newframe = frame.copy()`\n",
      "  pcaBiplotData.loc[index, columnname] = None\n",
      "/tmp/ipykernel_41644/1484095954.py:11: PerformanceWarning: DataFrame is highly fragmented.  This is usually the result of calling `frame.insert` many times, which has poor performance.  Consider joining all columns at once using pd.concat(axis=1) instead. To get a de-fragmented frame, use `newframe = frame.copy()`\n",
      "  pcaBiplotData.loc[index, columnname] = None\n",
      "/tmp/ipykernel_41644/1484095954.py:11: PerformanceWarning: DataFrame is highly fragmented.  This is usually the result of calling `frame.insert` many times, which has poor performance.  Consider joining all columns at once using pd.concat(axis=1) instead. To get a de-fragmented frame, use `newframe = frame.copy()`\n",
      "  pcaBiplotData.loc[index, columnname] = None\n",
      "/tmp/ipykernel_41644/1484095954.py:11: PerformanceWarning: DataFrame is highly fragmented.  This is usually the result of calling `frame.insert` many times, which has poor performance.  Consider joining all columns at once using pd.concat(axis=1) instead. To get a de-fragmented frame, use `newframe = frame.copy()`\n",
      "  pcaBiplotData.loc[index, columnname] = None\n",
      "/tmp/ipykernel_41644/1484095954.py:11: PerformanceWarning: DataFrame is highly fragmented.  This is usually the result of calling `frame.insert` many times, which has poor performance.  Consider joining all columns at once using pd.concat(axis=1) instead. To get a de-fragmented frame, use `newframe = frame.copy()`\n",
      "  pcaBiplotData.loc[index, columnname] = None\n",
      "/tmp/ipykernel_41644/1484095954.py:11: PerformanceWarning: DataFrame is highly fragmented.  This is usually the result of calling `frame.insert` many times, which has poor performance.  Consider joining all columns at once using pd.concat(axis=1) instead. To get a de-fragmented frame, use `newframe = frame.copy()`\n",
      "  pcaBiplotData.loc[index, columnname] = None\n",
      "/tmp/ipykernel_41644/1484095954.py:11: PerformanceWarning: DataFrame is highly fragmented.  This is usually the result of calling `frame.insert` many times, which has poor performance.  Consider joining all columns at once using pd.concat(axis=1) instead. To get a de-fragmented frame, use `newframe = frame.copy()`\n",
      "  pcaBiplotData.loc[index, columnname] = None\n",
      "/tmp/ipykernel_41644/1484095954.py:11: PerformanceWarning: DataFrame is highly fragmented.  This is usually the result of calling `frame.insert` many times, which has poor performance.  Consider joining all columns at once using pd.concat(axis=1) instead. To get a de-fragmented frame, use `newframe = frame.copy()`\n",
      "  pcaBiplotData.loc[index, columnname] = None\n",
      "/tmp/ipykernel_41644/1484095954.py:11: PerformanceWarning: DataFrame is highly fragmented.  This is usually the result of calling `frame.insert` many times, which has poor performance.  Consider joining all columns at once using pd.concat(axis=1) instead. To get a de-fragmented frame, use `newframe = frame.copy()`\n",
      "  pcaBiplotData.loc[index, columnname] = None\n",
      "/tmp/ipykernel_41644/1484095954.py:11: PerformanceWarning: DataFrame is highly fragmented.  This is usually the result of calling `frame.insert` many times, which has poor performance.  Consider joining all columns at once using pd.concat(axis=1) instead. To get a de-fragmented frame, use `newframe = frame.copy()`\n",
      "  pcaBiplotData.loc[index, columnname] = None\n",
      "/tmp/ipykernel_41644/1484095954.py:11: PerformanceWarning: DataFrame is highly fragmented.  This is usually the result of calling `frame.insert` many times, which has poor performance.  Consider joining all columns at once using pd.concat(axis=1) instead. To get a de-fragmented frame, use `newframe = frame.copy()`\n",
      "  pcaBiplotData.loc[index, columnname] = None\n",
      "/tmp/ipykernel_41644/1484095954.py:11: PerformanceWarning: DataFrame is highly fragmented.  This is usually the result of calling `frame.insert` many times, which has poor performance.  Consider joining all columns at once using pd.concat(axis=1) instead. To get a de-fragmented frame, use `newframe = frame.copy()`\n",
      "  pcaBiplotData.loc[index, columnname] = None\n",
      "/tmp/ipykernel_41644/1484095954.py:11: PerformanceWarning: DataFrame is highly fragmented.  This is usually the result of calling `frame.insert` many times, which has poor performance.  Consider joining all columns at once using pd.concat(axis=1) instead. To get a de-fragmented frame, use `newframe = frame.copy()`\n",
      "  pcaBiplotData.loc[index, columnname] = None\n",
      "/tmp/ipykernel_41644/1484095954.py:11: PerformanceWarning: DataFrame is highly fragmented.  This is usually the result of calling `frame.insert` many times, which has poor performance.  Consider joining all columns at once using pd.concat(axis=1) instead. To get a de-fragmented frame, use `newframe = frame.copy()`\n",
      "  pcaBiplotData.loc[index, columnname] = None\n",
      "/tmp/ipykernel_41644/1484095954.py:11: PerformanceWarning: DataFrame is highly fragmented.  This is usually the result of calling `frame.insert` many times, which has poor performance.  Consider joining all columns at once using pd.concat(axis=1) instead. To get a de-fragmented frame, use `newframe = frame.copy()`\n",
      "  pcaBiplotData.loc[index, columnname] = None\n",
      "/tmp/ipykernel_41644/1484095954.py:11: PerformanceWarning: DataFrame is highly fragmented.  This is usually the result of calling `frame.insert` many times, which has poor performance.  Consider joining all columns at once using pd.concat(axis=1) instead. To get a de-fragmented frame, use `newframe = frame.copy()`\n",
      "  pcaBiplotData.loc[index, columnname] = None\n",
      "/tmp/ipykernel_41644/1484095954.py:11: PerformanceWarning: DataFrame is highly fragmented.  This is usually the result of calling `frame.insert` many times, which has poor performance.  Consider joining all columns at once using pd.concat(axis=1) instead. To get a de-fragmented frame, use `newframe = frame.copy()`\n",
      "  pcaBiplotData.loc[index, columnname] = None\n",
      "/tmp/ipykernel_41644/1484095954.py:11: PerformanceWarning: DataFrame is highly fragmented.  This is usually the result of calling `frame.insert` many times, which has poor performance.  Consider joining all columns at once using pd.concat(axis=1) instead. To get a de-fragmented frame, use `newframe = frame.copy()`\n",
      "  pcaBiplotData.loc[index, columnname] = None\n",
      "/tmp/ipykernel_41644/1484095954.py:11: PerformanceWarning: DataFrame is highly fragmented.  This is usually the result of calling `frame.insert` many times, which has poor performance.  Consider joining all columns at once using pd.concat(axis=1) instead. To get a de-fragmented frame, use `newframe = frame.copy()`\n",
      "  pcaBiplotData.loc[index, columnname] = None\n",
      "/tmp/ipykernel_41644/1484095954.py:11: PerformanceWarning: DataFrame is highly fragmented.  This is usually the result of calling `frame.insert` many times, which has poor performance.  Consider joining all columns at once using pd.concat(axis=1) instead. To get a de-fragmented frame, use `newframe = frame.copy()`\n",
      "  pcaBiplotData.loc[index, columnname] = None\n",
      "/tmp/ipykernel_41644/1484095954.py:11: PerformanceWarning: DataFrame is highly fragmented.  This is usually the result of calling `frame.insert` many times, which has poor performance.  Consider joining all columns at once using pd.concat(axis=1) instead. To get a de-fragmented frame, use `newframe = frame.copy()`\n",
      "  pcaBiplotData.loc[index, columnname] = None\n",
      "/tmp/ipykernel_41644/1484095954.py:11: PerformanceWarning: DataFrame is highly fragmented.  This is usually the result of calling `frame.insert` many times, which has poor performance.  Consider joining all columns at once using pd.concat(axis=1) instead. To get a de-fragmented frame, use `newframe = frame.copy()`\n",
      "  pcaBiplotData.loc[index, columnname] = None\n",
      "/tmp/ipykernel_41644/1484095954.py:11: PerformanceWarning: DataFrame is highly fragmented.  This is usually the result of calling `frame.insert` many times, which has poor performance.  Consider joining all columns at once using pd.concat(axis=1) instead. To get a de-fragmented frame, use `newframe = frame.copy()`\n",
      "  pcaBiplotData.loc[index, columnname] = None\n",
      "/tmp/ipykernel_41644/1484095954.py:11: PerformanceWarning: DataFrame is highly fragmented.  This is usually the result of calling `frame.insert` many times, which has poor performance.  Consider joining all columns at once using pd.concat(axis=1) instead. To get a de-fragmented frame, use `newframe = frame.copy()`\n",
      "  pcaBiplotData.loc[index, columnname] = None\n",
      "/tmp/ipykernel_41644/1484095954.py:11: PerformanceWarning: DataFrame is highly fragmented.  This is usually the result of calling `frame.insert` many times, which has poor performance.  Consider joining all columns at once using pd.concat(axis=1) instead. To get a de-fragmented frame, use `newframe = frame.copy()`\n",
      "  pcaBiplotData.loc[index, columnname] = None\n",
      "/tmp/ipykernel_41644/1484095954.py:11: PerformanceWarning: DataFrame is highly fragmented.  This is usually the result of calling `frame.insert` many times, which has poor performance.  Consider joining all columns at once using pd.concat(axis=1) instead. To get a de-fragmented frame, use `newframe = frame.copy()`\n",
      "  pcaBiplotData.loc[index, columnname] = None\n",
      "/tmp/ipykernel_41644/1484095954.py:11: PerformanceWarning: DataFrame is highly fragmented.  This is usually the result of calling `frame.insert` many times, which has poor performance.  Consider joining all columns at once using pd.concat(axis=1) instead. To get a de-fragmented frame, use `newframe = frame.copy()`\n",
      "  pcaBiplotData.loc[index, columnname] = None\n",
      "/tmp/ipykernel_41644/1484095954.py:11: PerformanceWarning: DataFrame is highly fragmented.  This is usually the result of calling `frame.insert` many times, which has poor performance.  Consider joining all columns at once using pd.concat(axis=1) instead. To get a de-fragmented frame, use `newframe = frame.copy()`\n",
      "  pcaBiplotData.loc[index, columnname] = None\n"
     ]
    }
   ],
   "source": [
    "# Reshape data for pca analysis and plotting\n",
    "for i in range(len(df)):\n",
    "    for j in range(len(sources)):\n",
    "        if df.loc[i,sources[j]] != None:\n",
    "            index = (i*len(sources))+j\n",
    "            pcaBiplotData.loc[index, 'date' ] = pd.to_datetime(df['date'][i])\n",
    "            pcaBiplotData.loc[index, 'source' ] = sources[j]\n",
    "            for k in range(len(df['enc_oba'][99])):\n",
    "                columnname = 'enc'+str(k+1)\n",
    "                # initialize column, not sure this is necessary\n",
    "                pcaBiplotData.loc[index, columnname] = None\n",
    "                encoding = enc_col[j]\n",
    "                pcaBiplotData.loc[index, columnname] = df[encoding][i][k]\n",
    "pcaBiplotData = pcaBiplotData.reset_index()"
   ]
  },
  {
   "cell_type": "code",
   "execution_count": 11,
   "id": "7314fa1d",
   "metadata": {},
   "outputs": [],
   "source": [
    "pcaBiplotData['date'] = pd.to_datetime(pcaBiplotData['date'], format='%Y-%m-%d')"
   ]
  },
  {
   "cell_type": "code",
   "execution_count": 12,
   "id": "3278b20f",
   "metadata": {},
   "outputs": [],
   "source": [
    "# Selecting dataframe subset with columns that start with 'enc'\n",
    "# pcaBiplotData.loc[:, pcaBiplotData.columns.str.startswith('enc')]"
   ]
  },
  {
   "cell_type": "code",
   "execution_count": 13,
   "id": "e052535c",
   "metadata": {},
   "outputs": [],
   "source": [
    "# All encoding values are already on same scale\n",
    "pca = PCA(n_components = 2)\n",
    "pcafit = pca.fit_transform(pcaBiplotData.loc[:, pcaBiplotData.columns.str.startswith('enc')])"
   ]
  },
  {
   "cell_type": "code",
   "execution_count": 14,
   "id": "13d77205",
   "metadata": {},
   "outputs": [],
   "source": [
    "plot_data = pd.DataFrame()\n",
    "plot_data = pd.concat([pd.DataFrame(pcafit), pcaBiplotData['date'], pcaBiplotData['source']], axis=1, ignore_index=True)"
   ]
  },
  {
   "cell_type": "markdown",
   "id": "4dbd342f",
   "metadata": {},
   "source": [
    "<A HREF=\"https://plotly.com/python/discrete-color/#color-sequences-in-plotly-express\">Plotly discrete color palettes/sequences</A><BR><A HREF=\"https://plotly.com/python/plotly-express/\">Plotly Express docs</A>"
   ]
  },
  {
   "cell_type": "code",
   "execution_count": 64,
   "id": "0fc08def",
   "metadata": {},
   "outputs": [
    {
     "data": {
      "application/vnd.plotly.v1+json": {
       "config": {
        "plotlyServerURL": "https://plot.ly"
       },
       "data": [
        {
         "hovertemplate": "<b>%{hovertext}</b><br><br>color=text_oba<br>0=%{x}<br>1=%{y}<extra></extra>",
         "hovertext": [
          "2008-06-04T00:00:00",
          "2008-11-05T00:00:00",
          "2009-01-05T00:00:00",
          "2009-01-20T00:00:00",
          "2009-04-02T00:00:00",
          "2009-04-15T00:00:00",
          "2009-05-22T00:00:00",
          "2009-06-15T00:00:00",
          "2009-07-15T00:00:00",
          "2009-09-24T00:00:00",
          "2009-10-09T00:00:00",
          "2009-11-05T00:00:00",
          "2009-12-19T00:00:00",
          "2009-12-25T00:00:00",
          "2010-01-12T00:00:00",
          "2010-03-04T00:00:00",
          "2010-03-24T00:00:00",
          "2010-04-15T00:00:00",
          "2010-04-22T00:00:00",
          "2010-05-07T00:00:00",
          "2010-07-15T00:00:00",
          "2010-07-21T00:00:00",
          "2010-07-26T00:00:00",
          "2010-08-31T00:00:00",
          "2010-11-02T00:00:00",
          "2011-01-08T00:00:00",
          "2011-01-26T00:00:00",
          "2011-01-31T00:00:00",
          "2011-02-19T00:00:00",
          "2011-05-02T00:00:00",
          "2011-05-23T00:00:00",
          "2011-06-23T00:00:00",
          "2011-07-26T00:00:00",
          "2011-09-09T00:00:00",
          "2011-10-17T00:00:00",
          "2011-11-17T00:00:00",
          "2011-12-16T00:00:00",
          "2012-01-06T00:00:00",
          "2012-01-25T00:00:00",
          "2012-03-27T00:00:00",
          "2012-03-31T00:00:00",
          "2012-04-29T00:00:00",
          "2012-05-02T00:00:00",
          "2012-05-10T00:00:00",
          "2012-06-29T00:00:00",
          "2012-07-21T00:00:00",
          "2012-09-07T00:00:00",
          "2012-10-29T00:00:00",
          "2012-11-07T00:00:00",
          "2012-12-15T00:00:00",
          "2013-01-16T00:00:00",
          "2013-01-22T00:00:00",
          "2013-01-30T00:00:00",
          "2013-02-13T00:00:00",
          "2013-04-16T00:00:00",
          "2013-04-26T00:00:00",
          "2013-05-04T00:00:00",
          "2013-06-19T00:00:00",
          "2013-07-14T00:00:00",
          "2013-08-29T00:00:00",
          "2013-09-11T00:00:00",
          "2013-10-02T00:00:00",
          "2013-12-06T00:00:00",
          "2014-01-18T00:00:00",
          "2014-01-29T00:00:00",
          "2014-03-07T00:00:00",
          "2014-03-26T00:00:00",
          "2014-04-11T00:00:00",
          "2014-05-21T00:00:00",
          "2014-07-01T00:00:00",
          "2014-08-08T00:00:00",
          "2014-08-12T00:00:00",
          "2014-09-17T00:00:00",
          "2014-10-18T00:00:00",
          "2014-11-05T00:00:00",
          "2014-12-18T00:00:00",
          "2015-01-08T00:00:00",
          "2015-01-21T00:00:00",
          "2015-02-14T00:00:00",
          "2015-03-11T00:00:00",
          "2015-04-03T00:00:00",
          "2015-05-09T00:00:00",
          "2015-06-18T00:00:00",
          "2015-07-07T00:00:00",
          "2015-08-03T00:00:00",
          "2015-09-24T00:00:00",
          "2015-10-02T00:00:00",
          "2015-11-14T00:00:00",
          "2015-12-14T00:00:00",
          "2016-01-13T00:00:00",
          "2016-02-16T00:00:00",
          "2016-03-23T00:00:00",
          "2016-04-25T00:00:00",
          "2016-05-06T00:00:00",
          "2016-06-13T00:00:00",
          "2016-07-28T00:00:00",
          "2016-08-17T00:00:00",
          "2016-09-05T00:00:00",
          "2016-11-09T00:00:00",
          "2017-01-11T00:00:00"
         ],
         "legendgroup": "text_oba",
         "marker": {
          "color": "rgb(127, 60, 141)",
          "symbol": "circle"
         },
         "mode": "markers",
         "name": "text_oba",
         "orientation": "v",
         "showlegend": true,
         "type": "scatter",
         "x": [
          5.8032430035955125,
          6.873613899831376,
          8.858641273819895,
          6.762372637625319,
          6.0874959545733445,
          6.723747464715338,
          5.569405541195908,
          3.5436936867887705,
          6.947298993178176,
          5.342283997829986,
          4.634903983621506,
          0.769238871385785,
          9.463306169774276,
          4.613031047416282,
          5.832999054378117,
          6.258286964994472,
          4.6246156079175975,
          4.542644127596693,
          4.540285555452256,
          4.63876178574997,
          4.421184438637136,
          6.729516099004913,
          7.588994871024047,
          2.2432285068426983,
          9.85622029066619,
          5.833836478849952,
          5.395406508386809,
          2.4244424376959652,
          7.108720429870265,
          3.1679030066569434,
          6.8155387351848535,
          4.043855407218132,
          6.458240478959024,
          8.46017513563883,
          4.774934401580766,
          4.405502309299131,
          2.074023990280783,
          5.456458462603524,
          5.147219755795893,
          4.099362824402308,
          7.148223753416237,
          6.845427243303278,
          3.1321208117168684,
          9.047866904609418,
          7.453311432738898,
          10.99582858328017,
          8.300540404603863,
          9.133351817151482,
          8.007890295986542,
          7.110090874717888,
          7.013553925180411,
          7.7334391767860975,
          5.740867217463618,
          5.564279688286177,
          6.395583415006029,
          5.399054053381251,
          6.0686033458042825,
          6.717833766709904,
          8.257964848939961,
          2.920392282707565,
          3.9096290313928184,
          7.89830114283639,
          4.591770863922713,
          4.317622710959949,
          5.989193527467994,
          2.0700392063063116,
          3.573343848612438,
          2.7443321076246208,
          7.895872513106621,
          8.430434243521278,
          5.493883061297588,
          4.366527830975268,
          7.095026712435583,
          7.148164770024019,
          9.65620119565955,
          3.444877367745236,
          -0.2075141397376561,
          7.219560574867803,
          7.727025705823536,
          10.945325427490951,
          4.8441682303452245,
          8.639563128612068,
          4.465829596135664,
          4.6708582624705866,
          6.776572707886701,
          5.691542616655231,
          9.220112278577483,
          9.183331269978773,
          5.409559442202788,
          8.226424453473406,
          0.384481252386938,
          -5.68451624674731,
          6.4802078427284835,
          10.581277991825278,
          6.743955403630472,
          7.334127770854261,
          9.148596779306786,
          3.9410992986505327,
          8.165977205623498,
          7.632589835164375
         ],
         "xaxis": "x",
         "y": [
          1.4207568766163177,
          2.312425089156263,
          -0.6466484939317342,
          -1.7049597845831985,
          -2.5094126286821576,
          -2.0041527775341437,
          -1.3691662811619663,
          -1.2696403465352013,
          0.07471525860888868,
          -3.5875137847077108,
          -1.4580498485292992,
          2.0825348187604655,
          -2.010860529770566,
          -1.4696409525947383,
          -2.3115611766422437,
          1.0329184432518999,
          1.76605184781232,
          -0.5806237653291728,
          -1.3561981535792853,
          -2.5521824387717538,
          -1.8927650901151962,
          -1.6452946364674756,
          -1.683853705352368,
          -2.061244820483475,
          2.301034479626163,
          3.5431645111269767,
          0.41397829822829607,
          -2.346297218711195,
          0.36114348306929045,
          -0.045771399863873956,
          3.6789829917943715,
          -1.1951715712534197,
          -0.03846447181103587,
          -0.6046157141565367,
          2.308811859907133,
          -2.823764645197839,
          -3.006210864172512,
          -2.3199051141539595,
          0.5670955382650247,
          -0.4362241586419391,
          0.5411468805137671,
          6.770431346100588,
          -1.49390916558582,
          5.535360806284809,
          1.2257010600899123,
          3.8205673612770834,
          2.0933469964273868,
          -0.9431947796276102,
          1.9077394510231303,
          1.5292151716571005,
          1.5437895691653645,
          -1.9874834634442549,
          2.468749925866466,
          -0.8362073002212866,
          1.2988108213184624,
          3.5546114862408413,
          -0.6257659796156924,
          -0.9147800947793348,
          1.9113226006454889,
          0.5847946719357986,
          -0.6984934028969384,
          1.4598611606368646,
          3.1938908367467054,
          -3.9221576617107705,
          -0.3537453710545856,
          -5.771383003897714,
          -2.473357795531081,
          3.4018716339300528,
          0.11005990487298856,
          0.7662995033119828,
          -1.7619331975216033,
          -1.1500709268943325,
          -1.0235769347939618,
          -0.0020445938724631034,
          0.37610097457473773,
          -1.868045657759786,
          -2.3052724302737944,
          0.2634333269719546,
          -0.826065296766922,
          1.573785241849365,
          -2.5741789711517207,
          1.4314498859933824,
          0.4843263557043034,
          -1.7982271215553756,
          -0.2947966151940978,
          -1.5578556786171796,
          1.784815900317384,
          0.31152459163628154,
          -2.810685568629308,
          0.7174874627122254,
          1.232926083225221,
          -5.60207466766791,
          -1.709143982532185,
          3.2189618760362206,
          0.14513083925811032,
          4.661550215472078,
          3.1690191721731176,
          -3.570080969354658,
          3.2526316982961934,
          0.5541234789869378
         ],
         "yaxis": "y"
        },
        {
         "hovertemplate": "<b>%{hovertext}</b><br><br>color=text_nyt<br>0=%{x}<br>1=%{y}<extra></extra>",
         "hovertext": [
          "2008-06-04T00:00:00",
          "2008-11-05T00:00:00",
          "2009-01-05T00:00:00",
          "2009-01-20T00:00:00",
          "2009-04-02T00:00:00",
          "2009-04-15T00:00:00",
          "2009-05-22T00:00:00",
          "2009-06-15T00:00:00",
          "2009-07-15T00:00:00",
          "2009-09-24T00:00:00",
          "2009-10-09T00:00:00",
          "2009-11-05T00:00:00",
          "2009-12-19T00:00:00",
          "2009-12-25T00:00:00",
          "2010-01-12T00:00:00",
          "2010-03-04T00:00:00",
          "2010-03-24T00:00:00",
          "2010-04-15T00:00:00",
          "2010-04-22T00:00:00",
          "2010-05-07T00:00:00",
          "2010-07-15T00:00:00",
          "2010-07-21T00:00:00",
          "2010-07-26T00:00:00",
          "2010-08-31T00:00:00",
          "2010-11-02T00:00:00",
          "2011-01-08T00:00:00",
          "2011-01-26T00:00:00",
          "2011-01-31T00:00:00",
          "2011-02-19T00:00:00",
          "2011-05-02T00:00:00",
          "2011-05-23T00:00:00",
          "2011-06-23T00:00:00",
          "2011-07-26T00:00:00",
          "2011-09-09T00:00:00",
          "2011-10-17T00:00:00",
          "2011-11-17T00:00:00",
          "2011-12-16T00:00:00",
          "2012-01-06T00:00:00",
          "2012-01-25T00:00:00",
          "2012-03-27T00:00:00",
          "2012-03-31T00:00:00",
          "2012-04-29T00:00:00",
          "2012-05-02T00:00:00",
          "2012-05-10T00:00:00",
          "2012-06-29T00:00:00",
          "2012-07-21T00:00:00",
          "2012-09-07T00:00:00",
          "2012-10-29T00:00:00",
          "2012-11-07T00:00:00",
          "2012-12-15T00:00:00",
          "2013-01-16T00:00:00",
          "2013-01-22T00:00:00",
          "2013-01-30T00:00:00",
          "2013-02-13T00:00:00",
          "2013-04-16T00:00:00",
          "2013-04-26T00:00:00",
          "2013-05-04T00:00:00",
          "2013-06-19T00:00:00",
          "2013-07-14T00:00:00",
          "2013-08-29T00:00:00",
          "2013-09-11T00:00:00",
          "2013-10-02T00:00:00",
          "2013-12-06T00:00:00",
          "2014-01-18T00:00:00",
          "2014-01-29T00:00:00",
          "2014-03-07T00:00:00",
          "2014-03-26T00:00:00",
          "2014-04-11T00:00:00",
          "2014-05-21T00:00:00",
          "2014-07-01T00:00:00",
          "2014-08-08T00:00:00",
          "2014-08-12T00:00:00",
          "2014-09-17T00:00:00",
          "2014-10-18T00:00:00",
          "2014-11-05T00:00:00",
          "2014-12-18T00:00:00",
          "2015-01-08T00:00:00",
          "2015-01-21T00:00:00",
          "2015-02-14T00:00:00",
          "2015-03-11T00:00:00",
          "2015-04-03T00:00:00",
          "2015-05-09T00:00:00",
          "2015-06-18T00:00:00",
          "2015-07-07T00:00:00",
          "2015-08-03T00:00:00",
          "2015-09-24T00:00:00",
          "2015-10-02T00:00:00",
          "2015-11-14T00:00:00",
          "2015-12-14T00:00:00",
          "2016-01-13T00:00:00",
          "2016-02-16T00:00:00",
          "2016-03-23T00:00:00",
          "2016-04-25T00:00:00",
          "2016-05-06T00:00:00",
          "2016-06-13T00:00:00",
          "2016-07-28T00:00:00",
          "2016-08-17T00:00:00",
          "2016-09-05T00:00:00",
          "2016-11-09T00:00:00",
          "2017-01-11T00:00:00"
         ],
         "legendgroup": "text_nyt",
         "marker": {
          "color": "rgb(17, 165, 121)",
          "symbol": "circle"
         },
         "mode": "markers",
         "name": "text_nyt",
         "orientation": "v",
         "showlegend": true,
         "type": "scatter",
         "x": [
          -3.2457025699838717,
          -3.422792993919327,
          0.532122202619792,
          -2.9065366463794104,
          -1.9301020038004486,
          1.1441543557640683,
          -0.9618174244059883,
          -5.280360765684137,
          -3.3249483413120395,
          -0.8395106387098267,
          -4.637164064036529,
          -5.513763622484057,
          -2.985000814680135,
          -2.7933427719736446,
          -4.924060027618297,
          -0.2809132757468234,
          -1.8496086538033203,
          -1.838105714423126,
          -3.818320737521079,
          -3.8592577356244067,
          -1.324375395592886,
          -2.591915302337694,
          -2.4042262062650055,
          -4.225429796177734,
          -1.607980819360049,
          -4.626074744076363,
          -1.0434378523882106,
          -4.099564403046835,
          -7.12837284699959,
          -4.140092819356439,
          -3.8435667133856426,
          -4.059072496523741,
          -1.6437616525970737,
          -0.312755930179649,
          -1.9978722807986302,
          -3.1566876477264936,
          -3.4543067070062405,
          -3.0557230326198606,
          -3.05251366041287,
          -2.850619578670996,
          -0.2469579813672644,
          -3.762270370522018,
          -5.2020624879557,
          -1.9124282996436066,
          -1.9395518872960211,
          -3.726703666564506,
          0.25637018640923703,
          -3.195274388614744,
          -3.4849416090208183,
          -3.5419967020763767,
          -1.2176661105912572,
          -2.718155351886218,
          -1.8108413616108177,
          -2.125882550403208,
          -3.628349730140238,
          -2.222528810026656,
          -2.7602746018550426,
          -2.6101591478628463,
          -3.6153935598198976,
          -1.753863144141657,
          -2.6576605874522614,
          -1.6263289983909164,
          -5.091505002213886,
          -1.5594521835063027,
          -2.904169349659967,
          -3.6987763052108495,
          -3.6226902453711705,
          -2.4965357716898335,
          -2.8909483506535776,
          -2.333699932809868,
          -4.0778326426298355,
          -3.8250906012622514,
          -1.6494501477964592,
          5.478743185586046,
          -4.836879958826454,
          -4.459537487982428,
          -6.279566641057423,
          -0.7532531587508923,
          2.128779157909502,
          1.7080409063410962,
          -1.9821047113805146,
          0.05616738674954968,
          -3.65545214265809,
          -4.708196866992372,
          -1.8088281963138826,
          -3.491070676952733,
          -2.240424134466249,
          -4.282969244256091,
          -2.3837318565454964,
          -1.3915925163915994,
          -3.4163972054773,
          -5.203654492352584,
          -0.9573081275443638,
          -1.046416350883563,
          -3.526686389543448,
          -2.1366303879104116,
          -1.8796811996706106,
          -2.855260084891434,
          -4.459308320782796,
          0.3659314916530476
         ],
         "xaxis": "x",
         "y": [
          3.3286054846307134,
          2.3852353903750223,
          -2.1990331350578463,
          1.0173014727136318,
          1.129460756059304,
          1.0390524369807832,
          1.2655653866957493,
          1.624273670094855,
          -3.247427783312445,
          -0.7293924681412285,
          0.4440199916880044,
          1.1699432682656126,
          -4.273906249381155,
          3.2802452092660594,
          0.2797395250735561,
          0.40823352863697554,
          -1.8393236633311638,
          -0.3679692011914309,
          -0.43829548881087443,
          -0.6388099251056404,
          -0.124330863256706,
          -3.7213410681865673,
          -1.04189788422313,
          -0.179455096800088,
          1.04943664797565,
          3.042138251029115,
          -0.34644897847581024,
          0.5616240040642323,
          -6.008754503758861,
          1.2742343181721407,
          3.1883021050112146,
          -1.7309271038067742,
          -1.6671521467545154,
          -0.1113291698721302,
          3.9709655833185438,
          -2.7938646132787364,
          -0.5715912773990827,
          -1.8399219210543751,
          -0.6215298319989011,
          0.9669098445921649,
          -4.702758657841355,
          6.121721632554293,
          -0.12340028772301333,
          3.190171499748513,
          -1.497205930839677,
          4.148298263603171,
          3.2340524558519474,
          0.1173731269575434,
          0.3675609920998828,
          4.302287386173864,
          -0.3594642997096952,
          1.7605019566586344,
          -0.5880567714083167,
          -0.8231461012763339,
          2.23257137692183,
          3.6867885518818673,
          -2.958270727391909,
          -0.9760001343238298,
          5.74772941610206,
          3.176233952120482,
          -0.5066761926879833,
          0.3784723227768331,
          3.2736256391047887,
          -1.936244506392651,
          0.14113306469447515,
          -1.5981476362132747,
          0.8237521706317322,
          2.0930839415376097,
          -0.7017582307886319,
          0.5310814408607244,
          -0.35123753080523495,
          2.651700451102152,
          -2.350461075531023,
          -0.5485236924585736,
          -0.038232372539447515,
          -0.6267945174947591,
          1.083946484758164,
          -1.3934505178520697,
          -2.031447954287623,
          -1.8445455954523209,
          -1.7190337964694065,
          1.3368109413379141,
          4.069770518188156,
          -2.9207505037951047,
          -5.619642699376749,
          0.6860497097191192,
          4.065286676305553,
          2.6764512540723078,
          -4.022214344029894,
          -0.31883947348952857,
          1.5626309699729162,
          0.28866477556959863,
          0.21465241687026423,
          0.7731348689583526,
          2.6976809292511956,
          2.4714963468093454,
          1.3736621721492375,
          0.1129056311858003,
          2.032421045854526,
          1.9956693320195265
         ],
         "yaxis": "y"
        },
        {
         "hovertemplate": "<b>%{hovertext}</b><br><br>color=text_wsj<br>0=%{x}<br>1=%{y}<extra></extra>",
         "hovertext": [
          "2008-06-04T00:00:00",
          "2008-11-05T00:00:00",
          "2009-01-05T00:00:00",
          "2009-01-20T00:00:00",
          "2009-04-02T00:00:00",
          "2009-04-15T00:00:00",
          "2009-05-22T00:00:00",
          "2009-06-15T00:00:00",
          "2009-07-15T00:00:00",
          "2009-09-24T00:00:00",
          "2009-10-09T00:00:00",
          "2009-11-05T00:00:00",
          "2009-12-19T00:00:00",
          "2009-12-25T00:00:00",
          "2010-01-12T00:00:00",
          "2010-03-04T00:00:00",
          "2010-03-24T00:00:00",
          "2010-04-15T00:00:00",
          "2010-04-22T00:00:00",
          "2010-05-07T00:00:00",
          "2010-07-15T00:00:00",
          "2010-07-21T00:00:00",
          "2010-07-26T00:00:00",
          "2010-08-31T00:00:00",
          "2010-11-02T00:00:00",
          "2011-01-08T00:00:00",
          "2011-01-26T00:00:00",
          "2011-01-31T00:00:00",
          "2011-02-19T00:00:00",
          "2011-05-02T00:00:00",
          "2011-05-23T00:00:00",
          "2011-06-23T00:00:00",
          "2011-07-26T00:00:00",
          "2011-09-09T00:00:00",
          "2011-10-17T00:00:00",
          "2011-11-17T00:00:00",
          "2011-12-16T00:00:00",
          "2012-01-06T00:00:00",
          "2012-01-25T00:00:00",
          "2012-03-27T00:00:00",
          "2012-03-31T00:00:00",
          "2012-04-29T00:00:00",
          "2012-05-02T00:00:00",
          "2012-05-10T00:00:00",
          "2012-06-29T00:00:00",
          "2012-07-21T00:00:00",
          "2012-09-07T00:00:00",
          "2012-10-29T00:00:00",
          "2012-11-07T00:00:00",
          "2012-12-15T00:00:00",
          "2013-01-16T00:00:00",
          "2013-01-22T00:00:00",
          "2013-01-30T00:00:00",
          "2013-02-13T00:00:00",
          "2013-04-16T00:00:00",
          "2013-04-26T00:00:00",
          "2013-05-04T00:00:00",
          "2013-06-19T00:00:00",
          "2013-07-14T00:00:00",
          "2013-08-29T00:00:00",
          "2013-09-11T00:00:00",
          "2013-10-02T00:00:00",
          "2013-12-06T00:00:00",
          "2014-01-18T00:00:00",
          "2014-01-29T00:00:00",
          "2014-03-07T00:00:00",
          "2014-03-26T00:00:00",
          "2014-04-11T00:00:00",
          "2014-05-21T00:00:00",
          "2014-07-01T00:00:00",
          "2014-08-08T00:00:00",
          "2014-08-12T00:00:00",
          "2014-09-17T00:00:00",
          "2014-10-18T00:00:00",
          "2014-11-05T00:00:00",
          "2014-12-18T00:00:00",
          "2015-01-08T00:00:00",
          "2015-01-21T00:00:00",
          "2015-02-14T00:00:00",
          "2015-03-11T00:00:00",
          "2015-04-03T00:00:00",
          "2015-05-09T00:00:00",
          "2015-06-18T00:00:00",
          "2015-07-07T00:00:00",
          "2015-08-03T00:00:00",
          "2015-09-24T00:00:00",
          "2015-10-02T00:00:00",
          "2015-11-14T00:00:00",
          "2015-12-14T00:00:00",
          "2016-01-13T00:00:00",
          "2016-02-16T00:00:00",
          "2016-03-23T00:00:00",
          "2016-04-25T00:00:00",
          "2016-05-06T00:00:00",
          "2016-06-13T00:00:00",
          "2016-07-28T00:00:00",
          "2016-08-17T00:00:00",
          "2016-09-05T00:00:00",
          "2016-11-09T00:00:00",
          "2017-01-11T00:00:00"
         ],
         "legendgroup": "text_wsj",
         "marker": {
          "color": "rgb(57, 105, 172)",
          "symbol": "circle"
         },
         "mode": "markers",
         "name": "text_wsj",
         "orientation": "v",
         "showlegend": true,
         "type": "scatter",
         "x": [
          -3.515470575801589,
          -4.623719965162284,
          -0.13602125283206337,
          -3.320453172010618,
          -1.2237747685674372,
          -0.20257704023339373,
          -2.7424723834421267,
          -4.533688656380277,
          -5.873272964163741,
          -3.5986825116628602,
          -4.591995977741197,
          -5.58336427868902,
          -2.844289041831476,
          -3.894777407484284,
          -5.298647268678516,
          -0.23476605462149733,
          -1.9861365968520768,
          -0.9512586387857276,
          -4.702819229043798,
          -3.5871863305946063,
          -0.4264829161188786,
          -1.8760588581901474,
          -5.958241823108102,
          -2.496806016042252,
          -5.163786621917259,
          -5.325166204692198,
          -1.3752197261687478,
          -5.034489497657536,
          -3.8541553439344365,
          -6.291853773394625,
          -3.7746287167233192,
          -3.82984001357094,
          -1.294816874872403,
          -1.809358138304115,
          -4.391565146244374,
          -2.7208051673579012,
          -4.831382686590233,
          -2.57092626520584,
          -2.1553695727596405,
          -2.19473045471466,
          -4.2920935478086335,
          -2.3931413908570898,
          -4.48332446048766,
          -2.498142631780515,
          -3.008725663532418,
          -5.75726835263802,
          -0.9525202950478394,
          -2.782778687087348,
          -5.682514455314874,
          -4.996984095210903,
          -0.19271386939167665,
          -4.005633872226834,
          -0.49676861883846213,
          -1.9585227253558606,
          -2.4276130735946033,
          -4.93293256509667,
          -2.055830131825077,
          -2.0725095655081063,
          -2.721354729263013,
          -2.719839316931351,
          -1.975738491294322,
          -0.49795205480392096,
          -6.460740530566799,
          -1.2004881336635405,
          -0.1081149746220706,
          -3.0133499119751246,
          -1.2859647883712655,
          -3.5831653729790345,
          -3.0441517680723535,
          -1.5073353563175969,
          -5.270888613309444,
          -3.2421915698615664,
          0.5191990769022953,
          3.933952880483451,
          -5.624607160569139,
          -3.137959867635241,
          -5.841851497046401,
          -2.3954811970827303,
          0.8794697478315949,
          -0.07066277919401741,
          -1.5130826736046328,
          -1.277723864326242,
          -6.13011524021531,
          -1.4731789802429707,
          -2.195762600327967,
          -2.8998559521505074,
          -2.1165786139053693,
          -5.148973394507167,
          -2.4556659239181235,
          -1.9193565854103416,
          -2.58321229765922,
          -5.929057263426186,
          -1.9025430496923057,
          0.8782695905822225,
          -6.255222657290472,
          -2.4792156976948956,
          -4.543910894488004,
          -1.7207460700571948,
          -3.9866548945063536,
          -1.2304999806157357
         ],
         "xaxis": "x",
         "y": [
          2.659996740780884,
          0.3771056897818227,
          -2.9144291374113216,
          1.840979931554225,
          -1.3609104299633652,
          -2.8006660335279774,
          0.17286529649494273,
          1.805056194205465,
          -4.976886152527888,
          -2.812568411914963,
          0.45668969554225486,
          3.2174707246894974,
          -2.252443654704843,
          4.254656524153913,
          -0.56946542782652,
          -0.6716625609856279,
          -0.3868559261049136,
          -1.6481816412673516,
          -2.301289783701724,
          -3.5512479278001607,
          -2.8369079844332,
          -0.6721601855693123,
          -3.589447563483486,
          -0.12646015729516177,
          -0.2887779477064405,
          6.516826960501966,
          -2.0785737069950496,
          -2.897447263328558,
          -3.1679331568349003,
          1.4939092867536705,
          3.8438279137286546,
          -1.2985806926126007,
          -2.808937499832622,
          -2.3275861661383925,
          -0.7893405272211819,
          -1.82299635514258,
          -1.1407506754969299,
          -3.482595205867012,
          -0.6041462928426582,
          -1.3098364080291438,
          -5.305566228658849,
          3.9245864836514426,
          -0.6265758581709674,
          2.9283827014712283,
          -1.8999831326937864,
          4.352919883916774,
          0.9382767762971207,
          -0.030287542805619416,
          1.1029043686553996,
          4.706519208651656,
          -0.7020865408201151,
          0.8292667585294885,
          1.5719973919639103,
          0.06527846588424854,
          3.11118432398322,
          2.618216328808726,
          -1.5966432707063638,
          -3.0470568480925837,
          2.7184510030010127,
          1.919899918882153,
          -0.14900350232055318,
          -1.9733287747290302,
          2.564320383270878,
          -1.946445809973196,
          -0.4129143818706889,
          -0.5171161373941024,
          -1.292978658885455,
          0.6293145737999424,
          0.5916901473644924,
          -1.2815473795660612,
          -2.2929316865154026,
          1.9838247801278919,
          -4.174312605284692,
          1.4645054169015166,
          0.6856825929632347,
          -2.1081062837311264,
          1.5909386670314987,
          -1.437029792574914,
          -1.4912354919687585,
          -3.7056478842165186,
          -3.1635789179168876,
          -1.6270008741258388,
          5.381112293161666,
          -0.9029914411673069,
          -5.30457786615875,
          0.1114123745873998,
          3.1283918354368367,
          0.44946139991906725,
          -5.235060819670357,
          0.4861009172887967,
          0.0048204069876227,
          2.8282591097537364,
          -0.3341726283530083,
          0.14831621062526493,
          3.833880381240806,
          3.8422633017466032,
          2.1672265965191544,
          -5.81385637197697,
          2.0909545833049554,
          0.30543977816240453
         ],
         "yaxis": "y"
        },
        {
         "hovertemplate": "<b>%{hovertext}</b><br><br>color=FoxNews<br>0=%{x}<br>1=%{y}<extra></extra>",
         "hovertext": [
          "2011-05-02T00:00:00",
          "2011-09-09T00:00:00"
         ],
         "legendgroup": "FoxNews",
         "marker": {
          "color": "rgb(242, 183, 1)",
          "symbol": "circle"
         },
         "mode": "markers",
         "name": "FoxNews",
         "orientation": "v",
         "showlegend": true,
         "type": "scatter",
         "x": [
          -7.391743094527398,
          -4.54723594975655
         ],
         "xaxis": "x",
         "y": [
          2.0131820261436575,
          1.1904206725643207
         ],
         "yaxis": "y"
        },
        {
         "hovertemplate": "<b>%{hovertext}</b><br><br>color=InfoWars<br>0=%{x}<br>1=%{y}<extra></extra>",
         "hovertext": [
          "2011-05-02T00:00:00",
          "2012-12-15T00:00:00",
          "2016-02-16T00:00:00"
         ],
         "legendgroup": "InfoWars",
         "marker": {
          "color": "rgb(231, 63, 116)",
          "symbol": "circle"
         },
         "mode": "markers",
         "name": "InfoWars",
         "orientation": "v",
         "showlegend": true,
         "type": "scatter",
         "x": [
          -2.9208498626474007,
          -5.882511106252943,
          -8.637472412829837
         ],
         "xaxis": "x",
         "y": [
          0.5609297052589985,
          0.2796286331887441,
          -2.364271406134781
         ],
         "yaxis": "y"
        },
        {
         "hovertemplate": "<b>%{hovertext}</b><br><br>color=NationalReview<br>0=%{x}<br>1=%{y}<extra></extra>",
         "hovertext": [
          "2011-05-02T00:00:00",
          "2011-09-09T00:00:00",
          "2012-12-15T00:00:00",
          "2016-02-16T00:00:00"
         ],
         "legendgroup": "NationalReview",
         "marker": {
          "color": "rgb(128, 186, 90)",
          "symbol": "circle"
         },
         "mode": "markers",
         "name": "NationalReview",
         "orientation": "v",
         "showlegend": true,
         "type": "scatter",
         "x": [
          -6.216451208564068,
          -3.79696617989323,
          2.0881728117490646,
          -3.254146888479252
         ],
         "xaxis": "x",
         "y": [
          1.9319177362099136,
          -4.23084546837629,
          -2.5277390582927746,
          0.43518881643873625
         ],
         "yaxis": "y"
        },
        {
         "hovertemplate": "<b>%{hovertext}</b><br><br>color=Intercept<br>0=%{x}<br>1=%{y}<extra></extra>",
         "hovertext": [
          "2015-04-03T00:00:00"
         ],
         "legendgroup": "Intercept",
         "marker": {
          "color": "rgb(230, 131, 16)",
          "symbol": "circle"
         },
         "mode": "markers",
         "name": "Intercept",
         "orientation": "v",
         "showlegend": true,
         "type": "scatter",
         "x": [
          -1.4399097309012643
         ],
         "xaxis": "x",
         "y": [
          0.1081441783726349
         ],
         "yaxis": "y"
        }
       ],
       "layout": {
        "legend": {
         "title": {
          "text": "color"
         },
         "tracegroupgap": 0
        },
        "template": {
         "data": {
          "bar": [
           {
            "error_x": {
             "color": "#2a3f5f"
            },
            "error_y": {
             "color": "#2a3f5f"
            },
            "marker": {
             "line": {
              "color": "#E5ECF6",
              "width": 0.5
             },
             "pattern": {
              "fillmode": "overlay",
              "size": 10,
              "solidity": 0.2
             }
            },
            "type": "bar"
           }
          ],
          "barpolar": [
           {
            "marker": {
             "line": {
              "color": "#E5ECF6",
              "width": 0.5
             },
             "pattern": {
              "fillmode": "overlay",
              "size": 10,
              "solidity": 0.2
             }
            },
            "type": "barpolar"
           }
          ],
          "carpet": [
           {
            "aaxis": {
             "endlinecolor": "#2a3f5f",
             "gridcolor": "white",
             "linecolor": "white",
             "minorgridcolor": "white",
             "startlinecolor": "#2a3f5f"
            },
            "baxis": {
             "endlinecolor": "#2a3f5f",
             "gridcolor": "white",
             "linecolor": "white",
             "minorgridcolor": "white",
             "startlinecolor": "#2a3f5f"
            },
            "type": "carpet"
           }
          ],
          "choropleth": [
           {
            "colorbar": {
             "outlinewidth": 0,
             "ticks": ""
            },
            "type": "choropleth"
           }
          ],
          "contour": [
           {
            "colorbar": {
             "outlinewidth": 0,
             "ticks": ""
            },
            "colorscale": [
             [
              0,
              "#0d0887"
             ],
             [
              0.1111111111111111,
              "#46039f"
             ],
             [
              0.2222222222222222,
              "#7201a8"
             ],
             [
              0.3333333333333333,
              "#9c179e"
             ],
             [
              0.4444444444444444,
              "#bd3786"
             ],
             [
              0.5555555555555556,
              "#d8576b"
             ],
             [
              0.6666666666666666,
              "#ed7953"
             ],
             [
              0.7777777777777778,
              "#fb9f3a"
             ],
             [
              0.8888888888888888,
              "#fdca26"
             ],
             [
              1,
              "#f0f921"
             ]
            ],
            "type": "contour"
           }
          ],
          "contourcarpet": [
           {
            "colorbar": {
             "outlinewidth": 0,
             "ticks": ""
            },
            "type": "contourcarpet"
           }
          ],
          "heatmap": [
           {
            "colorbar": {
             "outlinewidth": 0,
             "ticks": ""
            },
            "colorscale": [
             [
              0,
              "#0d0887"
             ],
             [
              0.1111111111111111,
              "#46039f"
             ],
             [
              0.2222222222222222,
              "#7201a8"
             ],
             [
              0.3333333333333333,
              "#9c179e"
             ],
             [
              0.4444444444444444,
              "#bd3786"
             ],
             [
              0.5555555555555556,
              "#d8576b"
             ],
             [
              0.6666666666666666,
              "#ed7953"
             ],
             [
              0.7777777777777778,
              "#fb9f3a"
             ],
             [
              0.8888888888888888,
              "#fdca26"
             ],
             [
              1,
              "#f0f921"
             ]
            ],
            "type": "heatmap"
           }
          ],
          "heatmapgl": [
           {
            "colorbar": {
             "outlinewidth": 0,
             "ticks": ""
            },
            "colorscale": [
             [
              0,
              "#0d0887"
             ],
             [
              0.1111111111111111,
              "#46039f"
             ],
             [
              0.2222222222222222,
              "#7201a8"
             ],
             [
              0.3333333333333333,
              "#9c179e"
             ],
             [
              0.4444444444444444,
              "#bd3786"
             ],
             [
              0.5555555555555556,
              "#d8576b"
             ],
             [
              0.6666666666666666,
              "#ed7953"
             ],
             [
              0.7777777777777778,
              "#fb9f3a"
             ],
             [
              0.8888888888888888,
              "#fdca26"
             ],
             [
              1,
              "#f0f921"
             ]
            ],
            "type": "heatmapgl"
           }
          ],
          "histogram": [
           {
            "marker": {
             "pattern": {
              "fillmode": "overlay",
              "size": 10,
              "solidity": 0.2
             }
            },
            "type": "histogram"
           }
          ],
          "histogram2d": [
           {
            "colorbar": {
             "outlinewidth": 0,
             "ticks": ""
            },
            "colorscale": [
             [
              0,
              "#0d0887"
             ],
             [
              0.1111111111111111,
              "#46039f"
             ],
             [
              0.2222222222222222,
              "#7201a8"
             ],
             [
              0.3333333333333333,
              "#9c179e"
             ],
             [
              0.4444444444444444,
              "#bd3786"
             ],
             [
              0.5555555555555556,
              "#d8576b"
             ],
             [
              0.6666666666666666,
              "#ed7953"
             ],
             [
              0.7777777777777778,
              "#fb9f3a"
             ],
             [
              0.8888888888888888,
              "#fdca26"
             ],
             [
              1,
              "#f0f921"
             ]
            ],
            "type": "histogram2d"
           }
          ],
          "histogram2dcontour": [
           {
            "colorbar": {
             "outlinewidth": 0,
             "ticks": ""
            },
            "colorscale": [
             [
              0,
              "#0d0887"
             ],
             [
              0.1111111111111111,
              "#46039f"
             ],
             [
              0.2222222222222222,
              "#7201a8"
             ],
             [
              0.3333333333333333,
              "#9c179e"
             ],
             [
              0.4444444444444444,
              "#bd3786"
             ],
             [
              0.5555555555555556,
              "#d8576b"
             ],
             [
              0.6666666666666666,
              "#ed7953"
             ],
             [
              0.7777777777777778,
              "#fb9f3a"
             ],
             [
              0.8888888888888888,
              "#fdca26"
             ],
             [
              1,
              "#f0f921"
             ]
            ],
            "type": "histogram2dcontour"
           }
          ],
          "mesh3d": [
           {
            "colorbar": {
             "outlinewidth": 0,
             "ticks": ""
            },
            "type": "mesh3d"
           }
          ],
          "parcoords": [
           {
            "line": {
             "colorbar": {
              "outlinewidth": 0,
              "ticks": ""
             }
            },
            "type": "parcoords"
           }
          ],
          "pie": [
           {
            "automargin": true,
            "type": "pie"
           }
          ],
          "scatter": [
           {
            "fillpattern": {
             "fillmode": "overlay",
             "size": 10,
             "solidity": 0.2
            },
            "type": "scatter"
           }
          ],
          "scatter3d": [
           {
            "line": {
             "colorbar": {
              "outlinewidth": 0,
              "ticks": ""
             }
            },
            "marker": {
             "colorbar": {
              "outlinewidth": 0,
              "ticks": ""
             }
            },
            "type": "scatter3d"
           }
          ],
          "scattercarpet": [
           {
            "marker": {
             "colorbar": {
              "outlinewidth": 0,
              "ticks": ""
             }
            },
            "type": "scattercarpet"
           }
          ],
          "scattergeo": [
           {
            "marker": {
             "colorbar": {
              "outlinewidth": 0,
              "ticks": ""
             }
            },
            "type": "scattergeo"
           }
          ],
          "scattergl": [
           {
            "marker": {
             "colorbar": {
              "outlinewidth": 0,
              "ticks": ""
             }
            },
            "type": "scattergl"
           }
          ],
          "scattermapbox": [
           {
            "marker": {
             "colorbar": {
              "outlinewidth": 0,
              "ticks": ""
             }
            },
            "type": "scattermapbox"
           }
          ],
          "scatterpolar": [
           {
            "marker": {
             "colorbar": {
              "outlinewidth": 0,
              "ticks": ""
             }
            },
            "type": "scatterpolar"
           }
          ],
          "scatterpolargl": [
           {
            "marker": {
             "colorbar": {
              "outlinewidth": 0,
              "ticks": ""
             }
            },
            "type": "scatterpolargl"
           }
          ],
          "scatterternary": [
           {
            "marker": {
             "colorbar": {
              "outlinewidth": 0,
              "ticks": ""
             }
            },
            "type": "scatterternary"
           }
          ],
          "surface": [
           {
            "colorbar": {
             "outlinewidth": 0,
             "ticks": ""
            },
            "colorscale": [
             [
              0,
              "#0d0887"
             ],
             [
              0.1111111111111111,
              "#46039f"
             ],
             [
              0.2222222222222222,
              "#7201a8"
             ],
             [
              0.3333333333333333,
              "#9c179e"
             ],
             [
              0.4444444444444444,
              "#bd3786"
             ],
             [
              0.5555555555555556,
              "#d8576b"
             ],
             [
              0.6666666666666666,
              "#ed7953"
             ],
             [
              0.7777777777777778,
              "#fb9f3a"
             ],
             [
              0.8888888888888888,
              "#fdca26"
             ],
             [
              1,
              "#f0f921"
             ]
            ],
            "type": "surface"
           }
          ],
          "table": [
           {
            "cells": {
             "fill": {
              "color": "#EBF0F8"
             },
             "line": {
              "color": "white"
             }
            },
            "header": {
             "fill": {
              "color": "#C8D4E3"
             },
             "line": {
              "color": "white"
             }
            },
            "type": "table"
           }
          ]
         },
         "layout": {
          "annotationdefaults": {
           "arrowcolor": "#2a3f5f",
           "arrowhead": 0,
           "arrowwidth": 1
          },
          "autotypenumbers": "strict",
          "coloraxis": {
           "colorbar": {
            "outlinewidth": 0,
            "ticks": ""
           }
          },
          "colorscale": {
           "diverging": [
            [
             0,
             "#8e0152"
            ],
            [
             0.1,
             "#c51b7d"
            ],
            [
             0.2,
             "#de77ae"
            ],
            [
             0.3,
             "#f1b6da"
            ],
            [
             0.4,
             "#fde0ef"
            ],
            [
             0.5,
             "#f7f7f7"
            ],
            [
             0.6,
             "#e6f5d0"
            ],
            [
             0.7,
             "#b8e186"
            ],
            [
             0.8,
             "#7fbc41"
            ],
            [
             0.9,
             "#4d9221"
            ],
            [
             1,
             "#276419"
            ]
           ],
           "sequential": [
            [
             0,
             "#0d0887"
            ],
            [
             0.1111111111111111,
             "#46039f"
            ],
            [
             0.2222222222222222,
             "#7201a8"
            ],
            [
             0.3333333333333333,
             "#9c179e"
            ],
            [
             0.4444444444444444,
             "#bd3786"
            ],
            [
             0.5555555555555556,
             "#d8576b"
            ],
            [
             0.6666666666666666,
             "#ed7953"
            ],
            [
             0.7777777777777778,
             "#fb9f3a"
            ],
            [
             0.8888888888888888,
             "#fdca26"
            ],
            [
             1,
             "#f0f921"
            ]
           ],
           "sequentialminus": [
            [
             0,
             "#0d0887"
            ],
            [
             0.1111111111111111,
             "#46039f"
            ],
            [
             0.2222222222222222,
             "#7201a8"
            ],
            [
             0.3333333333333333,
             "#9c179e"
            ],
            [
             0.4444444444444444,
             "#bd3786"
            ],
            [
             0.5555555555555556,
             "#d8576b"
            ],
            [
             0.6666666666666666,
             "#ed7953"
            ],
            [
             0.7777777777777778,
             "#fb9f3a"
            ],
            [
             0.8888888888888888,
             "#fdca26"
            ],
            [
             1,
             "#f0f921"
            ]
           ]
          },
          "colorway": [
           "#636efa",
           "#EF553B",
           "#00cc96",
           "#ab63fa",
           "#FFA15A",
           "#19d3f3",
           "#FF6692",
           "#B6E880",
           "#FF97FF",
           "#FECB52"
          ],
          "font": {
           "color": "#2a3f5f"
          },
          "geo": {
           "bgcolor": "white",
           "lakecolor": "white",
           "landcolor": "#E5ECF6",
           "showlakes": true,
           "showland": true,
           "subunitcolor": "white"
          },
          "hoverlabel": {
           "align": "left"
          },
          "hovermode": "closest",
          "mapbox": {
           "style": "light"
          },
          "paper_bgcolor": "white",
          "plot_bgcolor": "#E5ECF6",
          "polar": {
           "angularaxis": {
            "gridcolor": "white",
            "linecolor": "white",
            "ticks": ""
           },
           "bgcolor": "#E5ECF6",
           "radialaxis": {
            "gridcolor": "white",
            "linecolor": "white",
            "ticks": ""
           }
          },
          "scene": {
           "xaxis": {
            "backgroundcolor": "#E5ECF6",
            "gridcolor": "white",
            "gridwidth": 2,
            "linecolor": "white",
            "showbackground": true,
            "ticks": "",
            "zerolinecolor": "white"
           },
           "yaxis": {
            "backgroundcolor": "#E5ECF6",
            "gridcolor": "white",
            "gridwidth": 2,
            "linecolor": "white",
            "showbackground": true,
            "ticks": "",
            "zerolinecolor": "white"
           },
           "zaxis": {
            "backgroundcolor": "#E5ECF6",
            "gridcolor": "white",
            "gridwidth": 2,
            "linecolor": "white",
            "showbackground": true,
            "ticks": "",
            "zerolinecolor": "white"
           }
          },
          "shapedefaults": {
           "line": {
            "color": "#2a3f5f"
           }
          },
          "ternary": {
           "aaxis": {
            "gridcolor": "white",
            "linecolor": "white",
            "ticks": ""
           },
           "baxis": {
            "gridcolor": "white",
            "linecolor": "white",
            "ticks": ""
           },
           "bgcolor": "#E5ECF6",
           "caxis": {
            "gridcolor": "white",
            "linecolor": "white",
            "ticks": ""
           }
          },
          "title": {
           "x": 0.05
          },
          "xaxis": {
           "automargin": true,
           "gridcolor": "white",
           "linecolor": "white",
           "ticks": "",
           "title": {
            "standoff": 15
           },
           "zerolinecolor": "white",
           "zerolinewidth": 2
          },
          "yaxis": {
           "automargin": true,
           "gridcolor": "white",
           "linecolor": "white",
           "ticks": "",
           "title": {
            "standoff": 15
           },
           "zerolinecolor": "white",
           "zerolinewidth": 2
          }
         }
        },
        "title": {
         "text": "Principle Components Biplot"
        },
        "xaxis": {
         "anchor": "y",
         "domain": [
          0,
          1
         ],
         "title": {
          "text": "0"
         }
        },
        "yaxis": {
         "anchor": "x",
         "domain": [
          0,
          1
         ],
         "title": {
          "text": "1"
         }
        }
       }
      },
      "text/html": [
       "<div>                            <div id=\"abdf3f80-3676-4f77-8ae0-285d96bcf39b\" class=\"plotly-graph-div\" style=\"height:525px; width:100%;\"></div>            <script type=\"text/javascript\">                require([\"plotly\"], function(Plotly) {                    window.PLOTLYENV=window.PLOTLYENV || {};                                    if (document.getElementById(\"abdf3f80-3676-4f77-8ae0-285d96bcf39b\")) {                    Plotly.newPlot(                        \"abdf3f80-3676-4f77-8ae0-285d96bcf39b\",                        [{\"hovertemplate\":\"<b>%{hovertext}</b><br><br>color=text_oba<br>0=%{x}<br>1=%{y}<extra></extra>\",\"hovertext\":[\"2008-06-04T00:00:00\",\"2008-11-05T00:00:00\",\"2009-01-05T00:00:00\",\"2009-01-20T00:00:00\",\"2009-04-02T00:00:00\",\"2009-04-15T00:00:00\",\"2009-05-22T00:00:00\",\"2009-06-15T00:00:00\",\"2009-07-15T00:00:00\",\"2009-09-24T00:00:00\",\"2009-10-09T00:00:00\",\"2009-11-05T00:00:00\",\"2009-12-19T00:00:00\",\"2009-12-25T00:00:00\",\"2010-01-12T00:00:00\",\"2010-03-04T00:00:00\",\"2010-03-24T00:00:00\",\"2010-04-15T00:00:00\",\"2010-04-22T00:00:00\",\"2010-05-07T00:00:00\",\"2010-07-15T00:00:00\",\"2010-07-21T00:00:00\",\"2010-07-26T00:00:00\",\"2010-08-31T00:00:00\",\"2010-11-02T00:00:00\",\"2011-01-08T00:00:00\",\"2011-01-26T00:00:00\",\"2011-01-31T00:00:00\",\"2011-02-19T00:00:00\",\"2011-05-02T00:00:00\",\"2011-05-23T00:00:00\",\"2011-06-23T00:00:00\",\"2011-07-26T00:00:00\",\"2011-09-09T00:00:00\",\"2011-10-17T00:00:00\",\"2011-11-17T00:00:00\",\"2011-12-16T00:00:00\",\"2012-01-06T00:00:00\",\"2012-01-25T00:00:00\",\"2012-03-27T00:00:00\",\"2012-03-31T00:00:00\",\"2012-04-29T00:00:00\",\"2012-05-02T00:00:00\",\"2012-05-10T00:00:00\",\"2012-06-29T00:00:00\",\"2012-07-21T00:00:00\",\"2012-09-07T00:00:00\",\"2012-10-29T00:00:00\",\"2012-11-07T00:00:00\",\"2012-12-15T00:00:00\",\"2013-01-16T00:00:00\",\"2013-01-22T00:00:00\",\"2013-01-30T00:00:00\",\"2013-02-13T00:00:00\",\"2013-04-16T00:00:00\",\"2013-04-26T00:00:00\",\"2013-05-04T00:00:00\",\"2013-06-19T00:00:00\",\"2013-07-14T00:00:00\",\"2013-08-29T00:00:00\",\"2013-09-11T00:00:00\",\"2013-10-02T00:00:00\",\"2013-12-06T00:00:00\",\"2014-01-18T00:00:00\",\"2014-01-29T00:00:00\",\"2014-03-07T00:00:00\",\"2014-03-26T00:00:00\",\"2014-04-11T00:00:00\",\"2014-05-21T00:00:00\",\"2014-07-01T00:00:00\",\"2014-08-08T00:00:00\",\"2014-08-12T00:00:00\",\"2014-09-17T00:00:00\",\"2014-10-18T00:00:00\",\"2014-11-05T00:00:00\",\"2014-12-18T00:00:00\",\"2015-01-08T00:00:00\",\"2015-01-21T00:00:00\",\"2015-02-14T00:00:00\",\"2015-03-11T00:00:00\",\"2015-04-03T00:00:00\",\"2015-05-09T00:00:00\",\"2015-06-18T00:00:00\",\"2015-07-07T00:00:00\",\"2015-08-03T00:00:00\",\"2015-09-24T00:00:00\",\"2015-10-02T00:00:00\",\"2015-11-14T00:00:00\",\"2015-12-14T00:00:00\",\"2016-01-13T00:00:00\",\"2016-02-16T00:00:00\",\"2016-03-23T00:00:00\",\"2016-04-25T00:00:00\",\"2016-05-06T00:00:00\",\"2016-06-13T00:00:00\",\"2016-07-28T00:00:00\",\"2016-08-17T00:00:00\",\"2016-09-05T00:00:00\",\"2016-11-09T00:00:00\",\"2017-01-11T00:00:00\"],\"legendgroup\":\"text_oba\",\"marker\":{\"color\":\"rgb(127, 60, 141)\",\"symbol\":\"circle\"},\"mode\":\"markers\",\"name\":\"text_oba\",\"orientation\":\"v\",\"showlegend\":true,\"x\":[5.8032430035955125,6.873613899831376,8.858641273819895,6.762372637625319,6.0874959545733445,6.723747464715338,5.569405541195908,3.5436936867887705,6.947298993178176,5.342283997829986,4.634903983621506,0.769238871385785,9.463306169774276,4.613031047416282,5.832999054378117,6.258286964994472,4.6246156079175975,4.542644127596693,4.540285555452256,4.63876178574997,4.421184438637136,6.729516099004913,7.588994871024047,2.2432285068426983,9.85622029066619,5.833836478849952,5.395406508386809,2.4244424376959652,7.108720429870265,3.1679030066569434,6.8155387351848535,4.043855407218132,6.458240478959024,8.46017513563883,4.774934401580766,4.405502309299131,2.074023990280783,5.456458462603524,5.147219755795893,4.099362824402308,7.148223753416237,6.845427243303278,3.1321208117168684,9.047866904609418,7.453311432738898,10.99582858328017,8.300540404603863,9.133351817151482,8.007890295986542,7.110090874717888,7.013553925180411,7.7334391767860975,5.740867217463618,5.564279688286177,6.395583415006029,5.399054053381251,6.0686033458042825,6.717833766709904,8.257964848939961,2.920392282707565,3.9096290313928184,7.89830114283639,4.591770863922713,4.317622710959949,5.989193527467994,2.0700392063063116,3.573343848612438,2.7443321076246208,7.895872513106621,8.430434243521278,5.493883061297588,4.366527830975268,7.095026712435583,7.148164770024019,9.65620119565955,3.444877367745236,-0.2075141397376561,7.219560574867803,7.727025705823536,10.945325427490951,4.8441682303452245,8.639563128612068,4.465829596135664,4.6708582624705866,6.776572707886701,5.691542616655231,9.220112278577483,9.183331269978773,5.409559442202788,8.226424453473406,0.384481252386938,-5.68451624674731,6.4802078427284835,10.581277991825278,6.743955403630472,7.334127770854261,9.148596779306786,3.9410992986505327,8.165977205623498,7.632589835164375],\"xaxis\":\"x\",\"y\":[1.4207568766163177,2.312425089156263,-0.6466484939317342,-1.7049597845831985,-2.5094126286821576,-2.0041527775341437,-1.3691662811619663,-1.2696403465352013,0.07471525860888868,-3.5875137847077108,-1.4580498485292992,2.0825348187604655,-2.010860529770566,-1.4696409525947383,-2.3115611766422437,1.0329184432518999,1.76605184781232,-0.5806237653291728,-1.3561981535792853,-2.5521824387717538,-1.8927650901151962,-1.6452946364674756,-1.683853705352368,-2.061244820483475,2.301034479626163,3.5431645111269767,0.41397829822829607,-2.346297218711195,0.36114348306929045,-0.045771399863873956,3.6789829917943715,-1.1951715712534197,-0.03846447181103587,-0.6046157141565367,2.308811859907133,-2.823764645197839,-3.006210864172512,-2.3199051141539595,0.5670955382650247,-0.4362241586419391,0.5411468805137671,6.770431346100588,-1.49390916558582,5.535360806284809,1.2257010600899123,3.8205673612770834,2.0933469964273868,-0.9431947796276102,1.9077394510231303,1.5292151716571005,1.5437895691653645,-1.9874834634442549,2.468749925866466,-0.8362073002212866,1.2988108213184624,3.5546114862408413,-0.6257659796156924,-0.9147800947793348,1.9113226006454889,0.5847946719357986,-0.6984934028969384,1.4598611606368646,3.1938908367467054,-3.9221576617107705,-0.3537453710545856,-5.771383003897714,-2.473357795531081,3.4018716339300528,0.11005990487298856,0.7662995033119828,-1.7619331975216033,-1.1500709268943325,-1.0235769347939618,-0.0020445938724631034,0.37610097457473773,-1.868045657759786,-2.3052724302737944,0.2634333269719546,-0.826065296766922,1.573785241849365,-2.5741789711517207,1.4314498859933824,0.4843263557043034,-1.7982271215553756,-0.2947966151940978,-1.5578556786171796,1.784815900317384,0.31152459163628154,-2.810685568629308,0.7174874627122254,1.232926083225221,-5.60207466766791,-1.709143982532185,3.2189618760362206,0.14513083925811032,4.661550215472078,3.1690191721731176,-3.570080969354658,3.2526316982961934,0.5541234789869378],\"yaxis\":\"y\",\"type\":\"scatter\"},{\"hovertemplate\":\"<b>%{hovertext}</b><br><br>color=text_nyt<br>0=%{x}<br>1=%{y}<extra></extra>\",\"hovertext\":[\"2008-06-04T00:00:00\",\"2008-11-05T00:00:00\",\"2009-01-05T00:00:00\",\"2009-01-20T00:00:00\",\"2009-04-02T00:00:00\",\"2009-04-15T00:00:00\",\"2009-05-22T00:00:00\",\"2009-06-15T00:00:00\",\"2009-07-15T00:00:00\",\"2009-09-24T00:00:00\",\"2009-10-09T00:00:00\",\"2009-11-05T00:00:00\",\"2009-12-19T00:00:00\",\"2009-12-25T00:00:00\",\"2010-01-12T00:00:00\",\"2010-03-04T00:00:00\",\"2010-03-24T00:00:00\",\"2010-04-15T00:00:00\",\"2010-04-22T00:00:00\",\"2010-05-07T00:00:00\",\"2010-07-15T00:00:00\",\"2010-07-21T00:00:00\",\"2010-07-26T00:00:00\",\"2010-08-31T00:00:00\",\"2010-11-02T00:00:00\",\"2011-01-08T00:00:00\",\"2011-01-26T00:00:00\",\"2011-01-31T00:00:00\",\"2011-02-19T00:00:00\",\"2011-05-02T00:00:00\",\"2011-05-23T00:00:00\",\"2011-06-23T00:00:00\",\"2011-07-26T00:00:00\",\"2011-09-09T00:00:00\",\"2011-10-17T00:00:00\",\"2011-11-17T00:00:00\",\"2011-12-16T00:00:00\",\"2012-01-06T00:00:00\",\"2012-01-25T00:00:00\",\"2012-03-27T00:00:00\",\"2012-03-31T00:00:00\",\"2012-04-29T00:00:00\",\"2012-05-02T00:00:00\",\"2012-05-10T00:00:00\",\"2012-06-29T00:00:00\",\"2012-07-21T00:00:00\",\"2012-09-07T00:00:00\",\"2012-10-29T00:00:00\",\"2012-11-07T00:00:00\",\"2012-12-15T00:00:00\",\"2013-01-16T00:00:00\",\"2013-01-22T00:00:00\",\"2013-01-30T00:00:00\",\"2013-02-13T00:00:00\",\"2013-04-16T00:00:00\",\"2013-04-26T00:00:00\",\"2013-05-04T00:00:00\",\"2013-06-19T00:00:00\",\"2013-07-14T00:00:00\",\"2013-08-29T00:00:00\",\"2013-09-11T00:00:00\",\"2013-10-02T00:00:00\",\"2013-12-06T00:00:00\",\"2014-01-18T00:00:00\",\"2014-01-29T00:00:00\",\"2014-03-07T00:00:00\",\"2014-03-26T00:00:00\",\"2014-04-11T00:00:00\",\"2014-05-21T00:00:00\",\"2014-07-01T00:00:00\",\"2014-08-08T00:00:00\",\"2014-08-12T00:00:00\",\"2014-09-17T00:00:00\",\"2014-10-18T00:00:00\",\"2014-11-05T00:00:00\",\"2014-12-18T00:00:00\",\"2015-01-08T00:00:00\",\"2015-01-21T00:00:00\",\"2015-02-14T00:00:00\",\"2015-03-11T00:00:00\",\"2015-04-03T00:00:00\",\"2015-05-09T00:00:00\",\"2015-06-18T00:00:00\",\"2015-07-07T00:00:00\",\"2015-08-03T00:00:00\",\"2015-09-24T00:00:00\",\"2015-10-02T00:00:00\",\"2015-11-14T00:00:00\",\"2015-12-14T00:00:00\",\"2016-01-13T00:00:00\",\"2016-02-16T00:00:00\",\"2016-03-23T00:00:00\",\"2016-04-25T00:00:00\",\"2016-05-06T00:00:00\",\"2016-06-13T00:00:00\",\"2016-07-28T00:00:00\",\"2016-08-17T00:00:00\",\"2016-09-05T00:00:00\",\"2016-11-09T00:00:00\",\"2017-01-11T00:00:00\"],\"legendgroup\":\"text_nyt\",\"marker\":{\"color\":\"rgb(17, 165, 121)\",\"symbol\":\"circle\"},\"mode\":\"markers\",\"name\":\"text_nyt\",\"orientation\":\"v\",\"showlegend\":true,\"x\":[-3.2457025699838717,-3.422792993919327,0.532122202619792,-2.9065366463794104,-1.9301020038004486,1.1441543557640683,-0.9618174244059883,-5.280360765684137,-3.3249483413120395,-0.8395106387098267,-4.637164064036529,-5.513763622484057,-2.985000814680135,-2.7933427719736446,-4.924060027618297,-0.2809132757468234,-1.8496086538033203,-1.838105714423126,-3.818320737521079,-3.8592577356244067,-1.324375395592886,-2.591915302337694,-2.4042262062650055,-4.225429796177734,-1.607980819360049,-4.626074744076363,-1.0434378523882106,-4.099564403046835,-7.12837284699959,-4.140092819356439,-3.8435667133856426,-4.059072496523741,-1.6437616525970737,-0.312755930179649,-1.9978722807986302,-3.1566876477264936,-3.4543067070062405,-3.0557230326198606,-3.05251366041287,-2.850619578670996,-0.2469579813672644,-3.762270370522018,-5.2020624879557,-1.9124282996436066,-1.9395518872960211,-3.726703666564506,0.25637018640923703,-3.195274388614744,-3.4849416090208183,-3.5419967020763767,-1.2176661105912572,-2.718155351886218,-1.8108413616108177,-2.125882550403208,-3.628349730140238,-2.222528810026656,-2.7602746018550426,-2.6101591478628463,-3.6153935598198976,-1.753863144141657,-2.6576605874522614,-1.6263289983909164,-5.091505002213886,-1.5594521835063027,-2.904169349659967,-3.6987763052108495,-3.6226902453711705,-2.4965357716898335,-2.8909483506535776,-2.333699932809868,-4.0778326426298355,-3.8250906012622514,-1.6494501477964592,5.478743185586046,-4.836879958826454,-4.459537487982428,-6.279566641057423,-0.7532531587508923,2.128779157909502,1.7080409063410962,-1.9821047113805146,0.05616738674954968,-3.65545214265809,-4.708196866992372,-1.8088281963138826,-3.491070676952733,-2.240424134466249,-4.282969244256091,-2.3837318565454964,-1.3915925163915994,-3.4163972054773,-5.203654492352584,-0.9573081275443638,-1.046416350883563,-3.526686389543448,-2.1366303879104116,-1.8796811996706106,-2.855260084891434,-4.459308320782796,0.3659314916530476],\"xaxis\":\"x\",\"y\":[3.3286054846307134,2.3852353903750223,-2.1990331350578463,1.0173014727136318,1.129460756059304,1.0390524369807832,1.2655653866957493,1.624273670094855,-3.247427783312445,-0.7293924681412285,0.4440199916880044,1.1699432682656126,-4.273906249381155,3.2802452092660594,0.2797395250735561,0.40823352863697554,-1.8393236633311638,-0.3679692011914309,-0.43829548881087443,-0.6388099251056404,-0.124330863256706,-3.7213410681865673,-1.04189788422313,-0.179455096800088,1.04943664797565,3.042138251029115,-0.34644897847581024,0.5616240040642323,-6.008754503758861,1.2742343181721407,3.1883021050112146,-1.7309271038067742,-1.6671521467545154,-0.1113291698721302,3.9709655833185438,-2.7938646132787364,-0.5715912773990827,-1.8399219210543751,-0.6215298319989011,0.9669098445921649,-4.702758657841355,6.121721632554293,-0.12340028772301333,3.190171499748513,-1.497205930839677,4.148298263603171,3.2340524558519474,0.1173731269575434,0.3675609920998828,4.302287386173864,-0.3594642997096952,1.7605019566586344,-0.5880567714083167,-0.8231461012763339,2.23257137692183,3.6867885518818673,-2.958270727391909,-0.9760001343238298,5.74772941610206,3.176233952120482,-0.5066761926879833,0.3784723227768331,3.2736256391047887,-1.936244506392651,0.14113306469447515,-1.5981476362132747,0.8237521706317322,2.0930839415376097,-0.7017582307886319,0.5310814408607244,-0.35123753080523495,2.651700451102152,-2.350461075531023,-0.5485236924585736,-0.038232372539447515,-0.6267945174947591,1.083946484758164,-1.3934505178520697,-2.031447954287623,-1.8445455954523209,-1.7190337964694065,1.3368109413379141,4.069770518188156,-2.9207505037951047,-5.619642699376749,0.6860497097191192,4.065286676305553,2.6764512540723078,-4.022214344029894,-0.31883947348952857,1.5626309699729162,0.28866477556959863,0.21465241687026423,0.7731348689583526,2.6976809292511956,2.4714963468093454,1.3736621721492375,0.1129056311858003,2.032421045854526,1.9956693320195265],\"yaxis\":\"y\",\"type\":\"scatter\"},{\"hovertemplate\":\"<b>%{hovertext}</b><br><br>color=text_wsj<br>0=%{x}<br>1=%{y}<extra></extra>\",\"hovertext\":[\"2008-06-04T00:00:00\",\"2008-11-05T00:00:00\",\"2009-01-05T00:00:00\",\"2009-01-20T00:00:00\",\"2009-04-02T00:00:00\",\"2009-04-15T00:00:00\",\"2009-05-22T00:00:00\",\"2009-06-15T00:00:00\",\"2009-07-15T00:00:00\",\"2009-09-24T00:00:00\",\"2009-10-09T00:00:00\",\"2009-11-05T00:00:00\",\"2009-12-19T00:00:00\",\"2009-12-25T00:00:00\",\"2010-01-12T00:00:00\",\"2010-03-04T00:00:00\",\"2010-03-24T00:00:00\",\"2010-04-15T00:00:00\",\"2010-04-22T00:00:00\",\"2010-05-07T00:00:00\",\"2010-07-15T00:00:00\",\"2010-07-21T00:00:00\",\"2010-07-26T00:00:00\",\"2010-08-31T00:00:00\",\"2010-11-02T00:00:00\",\"2011-01-08T00:00:00\",\"2011-01-26T00:00:00\",\"2011-01-31T00:00:00\",\"2011-02-19T00:00:00\",\"2011-05-02T00:00:00\",\"2011-05-23T00:00:00\",\"2011-06-23T00:00:00\",\"2011-07-26T00:00:00\",\"2011-09-09T00:00:00\",\"2011-10-17T00:00:00\",\"2011-11-17T00:00:00\",\"2011-12-16T00:00:00\",\"2012-01-06T00:00:00\",\"2012-01-25T00:00:00\",\"2012-03-27T00:00:00\",\"2012-03-31T00:00:00\",\"2012-04-29T00:00:00\",\"2012-05-02T00:00:00\",\"2012-05-10T00:00:00\",\"2012-06-29T00:00:00\",\"2012-07-21T00:00:00\",\"2012-09-07T00:00:00\",\"2012-10-29T00:00:00\",\"2012-11-07T00:00:00\",\"2012-12-15T00:00:00\",\"2013-01-16T00:00:00\",\"2013-01-22T00:00:00\",\"2013-01-30T00:00:00\",\"2013-02-13T00:00:00\",\"2013-04-16T00:00:00\",\"2013-04-26T00:00:00\",\"2013-05-04T00:00:00\",\"2013-06-19T00:00:00\",\"2013-07-14T00:00:00\",\"2013-08-29T00:00:00\",\"2013-09-11T00:00:00\",\"2013-10-02T00:00:00\",\"2013-12-06T00:00:00\",\"2014-01-18T00:00:00\",\"2014-01-29T00:00:00\",\"2014-03-07T00:00:00\",\"2014-03-26T00:00:00\",\"2014-04-11T00:00:00\",\"2014-05-21T00:00:00\",\"2014-07-01T00:00:00\",\"2014-08-08T00:00:00\",\"2014-08-12T00:00:00\",\"2014-09-17T00:00:00\",\"2014-10-18T00:00:00\",\"2014-11-05T00:00:00\",\"2014-12-18T00:00:00\",\"2015-01-08T00:00:00\",\"2015-01-21T00:00:00\",\"2015-02-14T00:00:00\",\"2015-03-11T00:00:00\",\"2015-04-03T00:00:00\",\"2015-05-09T00:00:00\",\"2015-06-18T00:00:00\",\"2015-07-07T00:00:00\",\"2015-08-03T00:00:00\",\"2015-09-24T00:00:00\",\"2015-10-02T00:00:00\",\"2015-11-14T00:00:00\",\"2015-12-14T00:00:00\",\"2016-01-13T00:00:00\",\"2016-02-16T00:00:00\",\"2016-03-23T00:00:00\",\"2016-04-25T00:00:00\",\"2016-05-06T00:00:00\",\"2016-06-13T00:00:00\",\"2016-07-28T00:00:00\",\"2016-08-17T00:00:00\",\"2016-09-05T00:00:00\",\"2016-11-09T00:00:00\",\"2017-01-11T00:00:00\"],\"legendgroup\":\"text_wsj\",\"marker\":{\"color\":\"rgb(57, 105, 172)\",\"symbol\":\"circle\"},\"mode\":\"markers\",\"name\":\"text_wsj\",\"orientation\":\"v\",\"showlegend\":true,\"x\":[-3.515470575801589,-4.623719965162284,-0.13602125283206337,-3.320453172010618,-1.2237747685674372,-0.20257704023339373,-2.7424723834421267,-4.533688656380277,-5.873272964163741,-3.5986825116628602,-4.591995977741197,-5.58336427868902,-2.844289041831476,-3.894777407484284,-5.298647268678516,-0.23476605462149733,-1.9861365968520768,-0.9512586387857276,-4.702819229043798,-3.5871863305946063,-0.4264829161188786,-1.8760588581901474,-5.958241823108102,-2.496806016042252,-5.163786621917259,-5.325166204692198,-1.3752197261687478,-5.034489497657536,-3.8541553439344365,-6.291853773394625,-3.7746287167233192,-3.82984001357094,-1.294816874872403,-1.809358138304115,-4.391565146244374,-2.7208051673579012,-4.831382686590233,-2.57092626520584,-2.1553695727596405,-2.19473045471466,-4.2920935478086335,-2.3931413908570898,-4.48332446048766,-2.498142631780515,-3.008725663532418,-5.75726835263802,-0.9525202950478394,-2.782778687087348,-5.682514455314874,-4.996984095210903,-0.19271386939167665,-4.005633872226834,-0.49676861883846213,-1.9585227253558606,-2.4276130735946033,-4.93293256509667,-2.055830131825077,-2.0725095655081063,-2.721354729263013,-2.719839316931351,-1.975738491294322,-0.49795205480392096,-6.460740530566799,-1.2004881336635405,-0.1081149746220706,-3.0133499119751246,-1.2859647883712655,-3.5831653729790345,-3.0441517680723535,-1.5073353563175969,-5.270888613309444,-3.2421915698615664,0.5191990769022953,3.933952880483451,-5.624607160569139,-3.137959867635241,-5.841851497046401,-2.3954811970827303,0.8794697478315949,-0.07066277919401741,-1.5130826736046328,-1.277723864326242,-6.13011524021531,-1.4731789802429707,-2.195762600327967,-2.8998559521505074,-2.1165786139053693,-5.148973394507167,-2.4556659239181235,-1.9193565854103416,-2.58321229765922,-5.929057263426186,-1.9025430496923057,0.8782695905822225,-6.255222657290472,-2.4792156976948956,-4.543910894488004,-1.7207460700571948,-3.9866548945063536,-1.2304999806157357],\"xaxis\":\"x\",\"y\":[2.659996740780884,0.3771056897818227,-2.9144291374113216,1.840979931554225,-1.3609104299633652,-2.8006660335279774,0.17286529649494273,1.805056194205465,-4.976886152527888,-2.812568411914963,0.45668969554225486,3.2174707246894974,-2.252443654704843,4.254656524153913,-0.56946542782652,-0.6716625609856279,-0.3868559261049136,-1.6481816412673516,-2.301289783701724,-3.5512479278001607,-2.8369079844332,-0.6721601855693123,-3.589447563483486,-0.12646015729516177,-0.2887779477064405,6.516826960501966,-2.0785737069950496,-2.897447263328558,-3.1679331568349003,1.4939092867536705,3.8438279137286546,-1.2985806926126007,-2.808937499832622,-2.3275861661383925,-0.7893405272211819,-1.82299635514258,-1.1407506754969299,-3.482595205867012,-0.6041462928426582,-1.3098364080291438,-5.305566228658849,3.9245864836514426,-0.6265758581709674,2.9283827014712283,-1.8999831326937864,4.352919883916774,0.9382767762971207,-0.030287542805619416,1.1029043686553996,4.706519208651656,-0.7020865408201151,0.8292667585294885,1.5719973919639103,0.06527846588424854,3.11118432398322,2.618216328808726,-1.5966432707063638,-3.0470568480925837,2.7184510030010127,1.919899918882153,-0.14900350232055318,-1.9733287747290302,2.564320383270878,-1.946445809973196,-0.4129143818706889,-0.5171161373941024,-1.292978658885455,0.6293145737999424,0.5916901473644924,-1.2815473795660612,-2.2929316865154026,1.9838247801278919,-4.174312605284692,1.4645054169015166,0.6856825929632347,-2.1081062837311264,1.5909386670314987,-1.437029792574914,-1.4912354919687585,-3.7056478842165186,-3.1635789179168876,-1.6270008741258388,5.381112293161666,-0.9029914411673069,-5.30457786615875,0.1114123745873998,3.1283918354368367,0.44946139991906725,-5.235060819670357,0.4861009172887967,0.0048204069876227,2.8282591097537364,-0.3341726283530083,0.14831621062526493,3.833880381240806,3.8422633017466032,2.1672265965191544,-5.81385637197697,2.0909545833049554,0.30543977816240453],\"yaxis\":\"y\",\"type\":\"scatter\"},{\"hovertemplate\":\"<b>%{hovertext}</b><br><br>color=FoxNews<br>0=%{x}<br>1=%{y}<extra></extra>\",\"hovertext\":[\"2011-05-02T00:00:00\",\"2011-09-09T00:00:00\"],\"legendgroup\":\"FoxNews\",\"marker\":{\"color\":\"rgb(242, 183, 1)\",\"symbol\":\"circle\"},\"mode\":\"markers\",\"name\":\"FoxNews\",\"orientation\":\"v\",\"showlegend\":true,\"x\":[-7.391743094527398,-4.54723594975655],\"xaxis\":\"x\",\"y\":[2.0131820261436575,1.1904206725643207],\"yaxis\":\"y\",\"type\":\"scatter\"},{\"hovertemplate\":\"<b>%{hovertext}</b><br><br>color=InfoWars<br>0=%{x}<br>1=%{y}<extra></extra>\",\"hovertext\":[\"2011-05-02T00:00:00\",\"2012-12-15T00:00:00\",\"2016-02-16T00:00:00\"],\"legendgroup\":\"InfoWars\",\"marker\":{\"color\":\"rgb(231, 63, 116)\",\"symbol\":\"circle\"},\"mode\":\"markers\",\"name\":\"InfoWars\",\"orientation\":\"v\",\"showlegend\":true,\"x\":[-2.9208498626474007,-5.882511106252943,-8.637472412829837],\"xaxis\":\"x\",\"y\":[0.5609297052589985,0.2796286331887441,-2.364271406134781],\"yaxis\":\"y\",\"type\":\"scatter\"},{\"hovertemplate\":\"<b>%{hovertext}</b><br><br>color=NationalReview<br>0=%{x}<br>1=%{y}<extra></extra>\",\"hovertext\":[\"2011-05-02T00:00:00\",\"2011-09-09T00:00:00\",\"2012-12-15T00:00:00\",\"2016-02-16T00:00:00\"],\"legendgroup\":\"NationalReview\",\"marker\":{\"color\":\"rgb(128, 186, 90)\",\"symbol\":\"circle\"},\"mode\":\"markers\",\"name\":\"NationalReview\",\"orientation\":\"v\",\"showlegend\":true,\"x\":[-6.216451208564068,-3.79696617989323,2.0881728117490646,-3.254146888479252],\"xaxis\":\"x\",\"y\":[1.9319177362099136,-4.23084546837629,-2.5277390582927746,0.43518881643873625],\"yaxis\":\"y\",\"type\":\"scatter\"},{\"hovertemplate\":\"<b>%{hovertext}</b><br><br>color=Intercept<br>0=%{x}<br>1=%{y}<extra></extra>\",\"hovertext\":[\"2015-04-03T00:00:00\"],\"legendgroup\":\"Intercept\",\"marker\":{\"color\":\"rgb(230, 131, 16)\",\"symbol\":\"circle\"},\"mode\":\"markers\",\"name\":\"Intercept\",\"orientation\":\"v\",\"showlegend\":true,\"x\":[-1.4399097309012643],\"xaxis\":\"x\",\"y\":[0.1081441783726349],\"yaxis\":\"y\",\"type\":\"scatter\"}],                        {\"template\":{\"data\":{\"histogram2dcontour\":[{\"type\":\"histogram2dcontour\",\"colorbar\":{\"outlinewidth\":0,\"ticks\":\"\"},\"colorscale\":[[0.0,\"#0d0887\"],[0.1111111111111111,\"#46039f\"],[0.2222222222222222,\"#7201a8\"],[0.3333333333333333,\"#9c179e\"],[0.4444444444444444,\"#bd3786\"],[0.5555555555555556,\"#d8576b\"],[0.6666666666666666,\"#ed7953\"],[0.7777777777777778,\"#fb9f3a\"],[0.8888888888888888,\"#fdca26\"],[1.0,\"#f0f921\"]]}],\"choropleth\":[{\"type\":\"choropleth\",\"colorbar\":{\"outlinewidth\":0,\"ticks\":\"\"}}],\"histogram2d\":[{\"type\":\"histogram2d\",\"colorbar\":{\"outlinewidth\":0,\"ticks\":\"\"},\"colorscale\":[[0.0,\"#0d0887\"],[0.1111111111111111,\"#46039f\"],[0.2222222222222222,\"#7201a8\"],[0.3333333333333333,\"#9c179e\"],[0.4444444444444444,\"#bd3786\"],[0.5555555555555556,\"#d8576b\"],[0.6666666666666666,\"#ed7953\"],[0.7777777777777778,\"#fb9f3a\"],[0.8888888888888888,\"#fdca26\"],[1.0,\"#f0f921\"]]}],\"heatmap\":[{\"type\":\"heatmap\",\"colorbar\":{\"outlinewidth\":0,\"ticks\":\"\"},\"colorscale\":[[0.0,\"#0d0887\"],[0.1111111111111111,\"#46039f\"],[0.2222222222222222,\"#7201a8\"],[0.3333333333333333,\"#9c179e\"],[0.4444444444444444,\"#bd3786\"],[0.5555555555555556,\"#d8576b\"],[0.6666666666666666,\"#ed7953\"],[0.7777777777777778,\"#fb9f3a\"],[0.8888888888888888,\"#fdca26\"],[1.0,\"#f0f921\"]]}],\"heatmapgl\":[{\"type\":\"heatmapgl\",\"colorbar\":{\"outlinewidth\":0,\"ticks\":\"\"},\"colorscale\":[[0.0,\"#0d0887\"],[0.1111111111111111,\"#46039f\"],[0.2222222222222222,\"#7201a8\"],[0.3333333333333333,\"#9c179e\"],[0.4444444444444444,\"#bd3786\"],[0.5555555555555556,\"#d8576b\"],[0.6666666666666666,\"#ed7953\"],[0.7777777777777778,\"#fb9f3a\"],[0.8888888888888888,\"#fdca26\"],[1.0,\"#f0f921\"]]}],\"contourcarpet\":[{\"type\":\"contourcarpet\",\"colorbar\":{\"outlinewidth\":0,\"ticks\":\"\"}}],\"contour\":[{\"type\":\"contour\",\"colorbar\":{\"outlinewidth\":0,\"ticks\":\"\"},\"colorscale\":[[0.0,\"#0d0887\"],[0.1111111111111111,\"#46039f\"],[0.2222222222222222,\"#7201a8\"],[0.3333333333333333,\"#9c179e\"],[0.4444444444444444,\"#bd3786\"],[0.5555555555555556,\"#d8576b\"],[0.6666666666666666,\"#ed7953\"],[0.7777777777777778,\"#fb9f3a\"],[0.8888888888888888,\"#fdca26\"],[1.0,\"#f0f921\"]]}],\"surface\":[{\"type\":\"surface\",\"colorbar\":{\"outlinewidth\":0,\"ticks\":\"\"},\"colorscale\":[[0.0,\"#0d0887\"],[0.1111111111111111,\"#46039f\"],[0.2222222222222222,\"#7201a8\"],[0.3333333333333333,\"#9c179e\"],[0.4444444444444444,\"#bd3786\"],[0.5555555555555556,\"#d8576b\"],[0.6666666666666666,\"#ed7953\"],[0.7777777777777778,\"#fb9f3a\"],[0.8888888888888888,\"#fdca26\"],[1.0,\"#f0f921\"]]}],\"mesh3d\":[{\"type\":\"mesh3d\",\"colorbar\":{\"outlinewidth\":0,\"ticks\":\"\"}}],\"scatter\":[{\"fillpattern\":{\"fillmode\":\"overlay\",\"size\":10,\"solidity\":0.2},\"type\":\"scatter\"}],\"parcoords\":[{\"type\":\"parcoords\",\"line\":{\"colorbar\":{\"outlinewidth\":0,\"ticks\":\"\"}}}],\"scatterpolargl\":[{\"type\":\"scatterpolargl\",\"marker\":{\"colorbar\":{\"outlinewidth\":0,\"ticks\":\"\"}}}],\"bar\":[{\"error_x\":{\"color\":\"#2a3f5f\"},\"error_y\":{\"color\":\"#2a3f5f\"},\"marker\":{\"line\":{\"color\":\"#E5ECF6\",\"width\":0.5},\"pattern\":{\"fillmode\":\"overlay\",\"size\":10,\"solidity\":0.2}},\"type\":\"bar\"}],\"scattergeo\":[{\"type\":\"scattergeo\",\"marker\":{\"colorbar\":{\"outlinewidth\":0,\"ticks\":\"\"}}}],\"scatterpolar\":[{\"type\":\"scatterpolar\",\"marker\":{\"colorbar\":{\"outlinewidth\":0,\"ticks\":\"\"}}}],\"histogram\":[{\"marker\":{\"pattern\":{\"fillmode\":\"overlay\",\"size\":10,\"solidity\":0.2}},\"type\":\"histogram\"}],\"scattergl\":[{\"type\":\"scattergl\",\"marker\":{\"colorbar\":{\"outlinewidth\":0,\"ticks\":\"\"}}}],\"scatter3d\":[{\"type\":\"scatter3d\",\"line\":{\"colorbar\":{\"outlinewidth\":0,\"ticks\":\"\"}},\"marker\":{\"colorbar\":{\"outlinewidth\":0,\"ticks\":\"\"}}}],\"scattermapbox\":[{\"type\":\"scattermapbox\",\"marker\":{\"colorbar\":{\"outlinewidth\":0,\"ticks\":\"\"}}}],\"scatterternary\":[{\"type\":\"scatterternary\",\"marker\":{\"colorbar\":{\"outlinewidth\":0,\"ticks\":\"\"}}}],\"scattercarpet\":[{\"type\":\"scattercarpet\",\"marker\":{\"colorbar\":{\"outlinewidth\":0,\"ticks\":\"\"}}}],\"carpet\":[{\"aaxis\":{\"endlinecolor\":\"#2a3f5f\",\"gridcolor\":\"white\",\"linecolor\":\"white\",\"minorgridcolor\":\"white\",\"startlinecolor\":\"#2a3f5f\"},\"baxis\":{\"endlinecolor\":\"#2a3f5f\",\"gridcolor\":\"white\",\"linecolor\":\"white\",\"minorgridcolor\":\"white\",\"startlinecolor\":\"#2a3f5f\"},\"type\":\"carpet\"}],\"table\":[{\"cells\":{\"fill\":{\"color\":\"#EBF0F8\"},\"line\":{\"color\":\"white\"}},\"header\":{\"fill\":{\"color\":\"#C8D4E3\"},\"line\":{\"color\":\"white\"}},\"type\":\"table\"}],\"barpolar\":[{\"marker\":{\"line\":{\"color\":\"#E5ECF6\",\"width\":0.5},\"pattern\":{\"fillmode\":\"overlay\",\"size\":10,\"solidity\":0.2}},\"type\":\"barpolar\"}],\"pie\":[{\"automargin\":true,\"type\":\"pie\"}]},\"layout\":{\"autotypenumbers\":\"strict\",\"colorway\":[\"#636efa\",\"#EF553B\",\"#00cc96\",\"#ab63fa\",\"#FFA15A\",\"#19d3f3\",\"#FF6692\",\"#B6E880\",\"#FF97FF\",\"#FECB52\"],\"font\":{\"color\":\"#2a3f5f\"},\"hovermode\":\"closest\",\"hoverlabel\":{\"align\":\"left\"},\"paper_bgcolor\":\"white\",\"plot_bgcolor\":\"#E5ECF6\",\"polar\":{\"bgcolor\":\"#E5ECF6\",\"angularaxis\":{\"gridcolor\":\"white\",\"linecolor\":\"white\",\"ticks\":\"\"},\"radialaxis\":{\"gridcolor\":\"white\",\"linecolor\":\"white\",\"ticks\":\"\"}},\"ternary\":{\"bgcolor\":\"#E5ECF6\",\"aaxis\":{\"gridcolor\":\"white\",\"linecolor\":\"white\",\"ticks\":\"\"},\"baxis\":{\"gridcolor\":\"white\",\"linecolor\":\"white\",\"ticks\":\"\"},\"caxis\":{\"gridcolor\":\"white\",\"linecolor\":\"white\",\"ticks\":\"\"}},\"coloraxis\":{\"colorbar\":{\"outlinewidth\":0,\"ticks\":\"\"}},\"colorscale\":{\"sequential\":[[0.0,\"#0d0887\"],[0.1111111111111111,\"#46039f\"],[0.2222222222222222,\"#7201a8\"],[0.3333333333333333,\"#9c179e\"],[0.4444444444444444,\"#bd3786\"],[0.5555555555555556,\"#d8576b\"],[0.6666666666666666,\"#ed7953\"],[0.7777777777777778,\"#fb9f3a\"],[0.8888888888888888,\"#fdca26\"],[1.0,\"#f0f921\"]],\"sequentialminus\":[[0.0,\"#0d0887\"],[0.1111111111111111,\"#46039f\"],[0.2222222222222222,\"#7201a8\"],[0.3333333333333333,\"#9c179e\"],[0.4444444444444444,\"#bd3786\"],[0.5555555555555556,\"#d8576b\"],[0.6666666666666666,\"#ed7953\"],[0.7777777777777778,\"#fb9f3a\"],[0.8888888888888888,\"#fdca26\"],[1.0,\"#f0f921\"]],\"diverging\":[[0,\"#8e0152\"],[0.1,\"#c51b7d\"],[0.2,\"#de77ae\"],[0.3,\"#f1b6da\"],[0.4,\"#fde0ef\"],[0.5,\"#f7f7f7\"],[0.6,\"#e6f5d0\"],[0.7,\"#b8e186\"],[0.8,\"#7fbc41\"],[0.9,\"#4d9221\"],[1,\"#276419\"]]},\"xaxis\":{\"gridcolor\":\"white\",\"linecolor\":\"white\",\"ticks\":\"\",\"title\":{\"standoff\":15},\"zerolinecolor\":\"white\",\"automargin\":true,\"zerolinewidth\":2},\"yaxis\":{\"gridcolor\":\"white\",\"linecolor\":\"white\",\"ticks\":\"\",\"title\":{\"standoff\":15},\"zerolinecolor\":\"white\",\"automargin\":true,\"zerolinewidth\":2},\"scene\":{\"xaxis\":{\"backgroundcolor\":\"#E5ECF6\",\"gridcolor\":\"white\",\"linecolor\":\"white\",\"showbackground\":true,\"ticks\":\"\",\"zerolinecolor\":\"white\",\"gridwidth\":2},\"yaxis\":{\"backgroundcolor\":\"#E5ECF6\",\"gridcolor\":\"white\",\"linecolor\":\"white\",\"showbackground\":true,\"ticks\":\"\",\"zerolinecolor\":\"white\",\"gridwidth\":2},\"zaxis\":{\"backgroundcolor\":\"#E5ECF6\",\"gridcolor\":\"white\",\"linecolor\":\"white\",\"showbackground\":true,\"ticks\":\"\",\"zerolinecolor\":\"white\",\"gridwidth\":2}},\"shapedefaults\":{\"line\":{\"color\":\"#2a3f5f\"}},\"annotationdefaults\":{\"arrowcolor\":\"#2a3f5f\",\"arrowhead\":0,\"arrowwidth\":1},\"geo\":{\"bgcolor\":\"white\",\"landcolor\":\"#E5ECF6\",\"subunitcolor\":\"white\",\"showland\":true,\"showlakes\":true,\"lakecolor\":\"white\"},\"title\":{\"x\":0.05},\"mapbox\":{\"style\":\"light\"}}},\"xaxis\":{\"anchor\":\"y\",\"domain\":[0.0,1.0],\"title\":{\"text\":\"0\"}},\"yaxis\":{\"anchor\":\"x\",\"domain\":[0.0,1.0],\"title\":{\"text\":\"1\"}},\"legend\":{\"title\":{\"text\":\"color\"},\"tracegroupgap\":0},\"title\":{\"text\":\"Principle Components Biplot\"}},                        {\"responsive\": true}                    ).then(function(){\n",
       "                            \n",
       "var gd = document.getElementById('abdf3f80-3676-4f77-8ae0-285d96bcf39b');\n",
       "var x = new MutationObserver(function (mutations, observer) {{\n",
       "        var display = window.getComputedStyle(gd).display;\n",
       "        if (!display || display === 'none') {{\n",
       "            console.log([gd, 'removed!']);\n",
       "            Plotly.purge(gd);\n",
       "            observer.disconnect();\n",
       "        }}\n",
       "}});\n",
       "\n",
       "// Listen for the removal of the full notebook cells\n",
       "var notebookContainer = gd.closest('#notebook-container');\n",
       "if (notebookContainer) {{\n",
       "    x.observe(notebookContainer, {childList: true});\n",
       "}}\n",
       "\n",
       "// Listen for the clearing of the current output cell\n",
       "var outputEl = gd.closest('.output');\n",
       "if (outputEl) {{\n",
       "    x.observe(outputEl, {childList: true});\n",
       "}}\n",
       "\n",
       "                        })                };                });            </script>        </div>"
      ]
     },
     "metadata": {},
     "output_type": "display_data"
    }
   ],
   "source": [
    "fig = px.scatter(pcafit, \n",
    "                 x=0, \n",
    "                 y=1, \n",
    "                 color=pcaBiplotData['source'],\n",
    "                 hover_name=pcaBiplotData['date'],\n",
    "                 color_discrete_sequence=px.colors.qualitative.Bold,\n",
    "                 title=\"Principle Components Biplot\")\n",
    "fig.show()"
   ]
  },
  {
   "cell_type": "code",
   "execution_count": 16,
   "id": "191102b8",
   "metadata": {},
   "outputs": [
    {
     "data": {
      "text/plain": [
       "0              10.995829\n",
       "1               3.820567\n",
       "2    2012-07-21 00:00:00\n",
       "3               text_oba\n",
       "Name: 140, dtype: object"
      ]
     },
     "execution_count": 16,
     "metadata": {},
     "output_type": "execute_result"
    }
   ],
   "source": [
    "# What is that NYT way out there?\n",
    "plot_data.loc[plot_data[0].idxmax()]"
   ]
  },
  {
   "cell_type": "markdown",
   "id": "20dccc14",
   "metadata": {},
   "source": [
    "Very short article announcing new Intel fab and mentioning that Obama spoke at Intel."
   ]
  },
  {
   "cell_type": "markdown",
   "id": "937b40bf",
   "metadata": {},
   "source": [
    "### Save the data"
   ]
  },
  {
   "cell_type": "code",
   "execution_count": 17,
   "id": "bad460cc",
   "metadata": {},
   "outputs": [],
   "source": [
    "#pcaBiplotData.to_csv('pcaBiplotData.csv', index=False)"
   ]
  },
  {
   "cell_type": "code",
   "execution_count": 18,
   "id": "f2153dd1",
   "metadata": {},
   "outputs": [],
   "source": [
    "#df.to_csv('df_encodings.csv')"
   ]
  },
  {
   "cell_type": "markdown",
   "id": "0a741a07",
   "metadata": {},
   "source": [
    "Playing with python's PCA"
   ]
  },
  {
   "cell_type": "code",
   "execution_count": 19,
   "id": "32a69aac",
   "metadata": {},
   "outputs": [],
   "source": [
    "pca2 = PCA(n_components = 10)\n",
    "pcafit2 = pca2.fit_transform(pcaBiplotData.loc[:, pcaBiplotData.columns.str.startswith('enc')])"
   ]
  },
  {
   "cell_type": "code",
   "execution_count": 20,
   "id": "613311f3",
   "metadata": {},
   "outputs": [
    {
     "name": "stdout",
     "output_type": "stream",
     "text": [
      "[81.78093018 42.05430485 31.00536398 29.35742016 20.7621332  17.90038185\n",
      " 17.76776161 16.05083271 13.82075759 13.030196  ]\n"
     ]
    }
   ],
   "source": [
    "# The singular values corresponding to each of the selected components - guessing they're refering to eigenvalues\n",
    "print(pca2.singular_values_)"
   ]
  },
  {
   "cell_type": "code",
   "execution_count": 21,
   "id": "3af4b37f",
   "metadata": {},
   "outputs": [
    {
     "name": "stdout",
     "output_type": "stream",
     "text": [
      "[21.64440304  5.72350989  3.11110872  2.78918485  1.39503616  1.03696981\n",
      "  1.02166134  0.83375156  0.61816615  0.54946928]\n"
     ]
    }
   ],
   "source": [
    "# The amount of variance explained by each of the selected components.\n",
    "print(pca2.explained_variance_)"
   ]
  },
  {
   "cell_type": "code",
   "execution_count": 22,
   "id": "3d4a0916",
   "metadata": {},
   "outputs": [
    {
     "name": "stdout",
     "output_type": "stream",
     "text": [
      "[0.47480208 0.12555368 0.06824678 0.06118491 0.03060219 0.02274747\n",
      " 0.02241166 0.01828958 0.01356039 0.01205342]\n"
     ]
    }
   ],
   "source": [
    "# Percentage of variance explained by each of the selected components.\n",
    "print(pca2.explained_variance_ratio_)"
   ]
  },
  {
   "cell_type": "code",
   "execution_count": 23,
   "id": "b2fd093c",
   "metadata": {},
   "outputs": [],
   "source": [
    "# Sklearn's T-SNE\n",
    "# https://scikit-learn.org/stable/modules/generated/sklearn.manifold.TSNE.html\n",
    "from sklearn import manifold"
   ]
  },
  {
   "cell_type": "code",
   "execution_count": 24,
   "id": "a1f9f3be",
   "metadata": {},
   "outputs": [
    {
     "data": {
      "application/vnd.plotly.v1+json": {
       "config": {
        "plotlyServerURL": "https://plot.ly"
       },
       "data": [
        {
         "hovertemplate": "<b>%{hovertext}</b><br><br>color=text_oba<br>0=%{x}<br>1=%{y}<extra></extra>",
         "hovertext": [
          "2008-06-04T00:00:00",
          "2008-11-05T00:00:00",
          "2009-01-05T00:00:00",
          "2009-01-20T00:00:00",
          "2009-04-02T00:00:00",
          "2009-04-15T00:00:00",
          "2009-05-22T00:00:00",
          "2009-06-15T00:00:00",
          "2009-07-15T00:00:00",
          "2009-09-24T00:00:00",
          "2009-10-09T00:00:00",
          "2009-11-05T00:00:00",
          "2009-12-19T00:00:00",
          "2009-12-25T00:00:00",
          "2010-01-12T00:00:00",
          "2010-03-04T00:00:00",
          "2010-03-24T00:00:00",
          "2010-04-15T00:00:00",
          "2010-04-22T00:00:00",
          "2010-05-07T00:00:00",
          "2010-07-15T00:00:00",
          "2010-07-21T00:00:00",
          "2010-07-26T00:00:00",
          "2010-08-31T00:00:00",
          "2010-11-02T00:00:00",
          "2011-01-08T00:00:00",
          "2011-01-26T00:00:00",
          "2011-01-31T00:00:00",
          "2011-02-19T00:00:00",
          "2011-05-02T00:00:00",
          "2011-05-23T00:00:00",
          "2011-06-23T00:00:00",
          "2011-07-26T00:00:00",
          "2011-09-09T00:00:00",
          "2011-10-17T00:00:00",
          "2011-11-17T00:00:00",
          "2011-12-16T00:00:00",
          "2012-01-06T00:00:00",
          "2012-01-25T00:00:00",
          "2012-03-27T00:00:00",
          "2012-03-31T00:00:00",
          "2012-04-29T00:00:00",
          "2012-05-02T00:00:00",
          "2012-05-10T00:00:00",
          "2012-06-29T00:00:00",
          "2012-07-21T00:00:00",
          "2012-09-07T00:00:00",
          "2012-10-29T00:00:00",
          "2012-11-07T00:00:00",
          "2012-12-15T00:00:00",
          "2013-01-16T00:00:00",
          "2013-01-22T00:00:00",
          "2013-01-30T00:00:00",
          "2013-02-13T00:00:00",
          "2013-04-16T00:00:00",
          "2013-04-26T00:00:00",
          "2013-05-04T00:00:00",
          "2013-06-19T00:00:00",
          "2013-07-14T00:00:00",
          "2013-08-29T00:00:00",
          "2013-09-11T00:00:00",
          "2013-10-02T00:00:00",
          "2013-12-06T00:00:00",
          "2014-01-18T00:00:00",
          "2014-01-29T00:00:00",
          "2014-03-07T00:00:00",
          "2014-03-26T00:00:00",
          "2014-04-11T00:00:00",
          "2014-05-21T00:00:00",
          "2014-07-01T00:00:00",
          "2014-08-08T00:00:00",
          "2014-08-12T00:00:00",
          "2014-09-17T00:00:00",
          "2014-10-18T00:00:00",
          "2014-11-05T00:00:00",
          "2014-12-18T00:00:00",
          "2015-01-08T00:00:00",
          "2015-01-21T00:00:00",
          "2015-02-14T00:00:00",
          "2015-03-11T00:00:00",
          "2015-04-03T00:00:00",
          "2015-05-09T00:00:00",
          "2015-06-18T00:00:00",
          "2015-07-07T00:00:00",
          "2015-08-03T00:00:00",
          "2015-09-24T00:00:00",
          "2015-10-02T00:00:00",
          "2015-11-14T00:00:00",
          "2015-12-14T00:00:00",
          "2016-01-13T00:00:00",
          "2016-02-16T00:00:00",
          "2016-03-23T00:00:00",
          "2016-04-25T00:00:00",
          "2016-05-06T00:00:00",
          "2016-06-13T00:00:00",
          "2016-07-28T00:00:00",
          "2016-08-17T00:00:00",
          "2016-09-05T00:00:00",
          "2016-11-09T00:00:00",
          "2017-01-11T00:00:00"
         ],
         "legendgroup": "text_oba",
         "marker": {
          "color": "rgb(127, 60, 141)",
          "symbol": "circle"
         },
         "mode": "markers",
         "name": "text_oba",
         "orientation": "v",
         "showlegend": true,
         "type": "scatter",
         "x": [
          -1.1946502923965454,
          -1.1496855020523071,
          -1.2705695629119873,
          -1.1298595666885376,
          -1.0642427206039429,
          -1.2826628684997559,
          -1.0620907545089722,
          -1.0639572143554688,
          -1.146057367324829,
          -0.9876243472099304,
          -1.0352091789245605,
          -0.777529776096344,
          -1.108525276184082,
          -1.1413575410842896,
          -1.120147943496704,
          -1.3769081830978394,
          -1.2043343782424927,
          -1.310523271560669,
          -1.0589091777801514,
          -1.238446593284607,
          -1.0850043296813965,
          -1.0441596508026123,
          -1.1730115413665771,
          -0.7984572649002075,
          -1.3177521228790283,
          -1.2316793203353882,
          -1.2382519245147705,
          -1.0200122594833374,
          -1.0214992761611938,
          -1.0855648517608643,
          -1.087867021560669,
          -1.1223291158676147,
          -1.1543246507644653,
          -1.0421184301376343,
          -1.0514936447143555,
          -1.0266958475112915,
          -1.1410475969314575,
          -1.0307806730270386,
          -1.2714664936065674,
          -1.2803691625595093,
          -1.2834396362304688,
          -1.2886275053024292,
          -1.0295647382736206,
          -1.2785879373550415,
          -1.2657989263534546,
          -1.2855886220932007,
          -0.6917542815208435,
          -1.2729098796844482,
          -1.0748109817504883,
          -1.1777634620666504,
          -1.3023277521133423,
          -1.0216153860092163,
          -1.260608434677124,
          -0.49814343452453613,
          -1.2355725765228271,
          -1.1014530658721924,
          -1.1330901384353638,
          -1.3095756769180298,
          -1.270848274230957,
          -0.9525095224380493,
          -0.9901532530784607,
          -1.2290709018707275,
          -1.083592176437378,
          -1.1128860712051392,
          -1.585256814956665,
          -1.062407374382019,
          -0.9886548519134521,
          -0.9820453524589539,
          -1.2229787111282349,
          -1.325618028640747,
          -1.0601119995117188,
          -1.08403480052948,
          -1.2080200910568237,
          -1.1211589574813843,
          -1.1231069564819336,
          -0.9299215078353882,
          -0.9911139011383057,
          -1.163264274597168,
          -1.282453179359436,
          -1.3013015985488892,
          -1.0855963230133057,
          -1.4171820878982544,
          -1.0443394184112549,
          -1.0179520845413208,
          -0.7078787088394165,
          -1.0860249996185303,
          -0.7730429172515869,
          -1.1494958400726318,
          -1.147947907447815,
          -4.479881763458252,
          0.2832425534725189,
          0.5334608554840088,
          -1.0482759475708008,
          -1.1864759922027588,
          -1.0813411474227905,
          -1.3537657260894775,
          -1.3512461185455322,
          -1.1519663333892822,
          -1.2625480890274048,
          -0.8905530571937561
         ],
         "xaxis": "x",
         "y": [
          -1.39643132686615,
          -1.956941843032837,
          -1.5500661134719849,
          -1.4630964994430542,
          -1.6264632940292358,
          -1.6604410409927368,
          -1.4520854949951172,
          -1.3861637115478516,
          -1.6491143703460693,
          -1.5148260593414307,
          -1.5096497535705566,
          -1.0575494766235352,
          -1.862301230430603,
          -1.4459891319274902,
          -1.5055571794509888,
          -1.7398631572723389,
          -1.671770691871643,
          -1.585268497467041,
          -1.4641733169555664,
          -1.5708091259002686,
          -1.651300072669983,
          -1.7049428224563599,
          -1.619697093963623,
          -1.3725600242614746,
          -1.8232948780059814,
          -1.616665244102478,
          -1.6841380596160889,
          -1.5229816436767578,
          -1.733797550201416,
          -1.3941222429275513,
          -1.6605761051177979,
          -1.425756573677063,
          -1.7298401594161987,
          -1.6823639869689941,
          -1.4264456033706665,
          -1.3740699291229248,
          -1.4001150131225586,
          -1.4700088500976562,
          -1.7267075777053833,
          -1.6047914028167725,
          -1.7035280466079712,
          -1.8096892833709717,
          -1.3987469673156738,
          -1.7841150760650635,
          -1.7002530097961426,
          -1.8156903982162476,
          -1.8961856365203857,
          -1.8530850410461426,
          -1.3111034631729126,
          -1.5823547840118408,
          -1.6329917907714844,
          -1.5017166137695312,
          -1.6696710586547852,
          -1.7219828367233276,
          -1.7567901611328125,
          -1.5798537731170654,
          -1.5788183212280273,
          -1.6669214963912964,
          -1.6881699562072754,
          -1.3728772401809692,
          -1.4133641719818115,
          -1.7488493919372559,
          -1.4465874433517456,
          -1.3963274955749512,
          -1.693232536315918,
          -1.4024118185043335,
          -1.2793166637420654,
          -1.3579093217849731,
          -1.681105613708496,
          -2.4975810050964355,
          -1.5153720378875732,
          -1.4360008239746094,
          -1.6609238386154175,
          -1.8392153978347778,
          -1.5841751098632812,
          -1.438949465751648,
          -1.2336862087249756,
          -1.7535624504089355,
          -1.6510415077209473,
          -1.9302254915237427,
          -1.447940707206726,
          -1.7961994409561157,
          -1.3870142698287964,
          -1.1805187463760376,
          -1.7294275760650635,
          -1.4931145906448364,
          -1.7374637126922607,
          -1.7232105731964111,
          -1.5075520277023315,
          -1.078571081161499,
          0.35608941316604614,
          0.7977030873298645,
          -1.3059332370758057,
          -1.6213598251342773,
          -1.5199272632598877,
          -1.7228761911392212,
          -1.7613763809204102,
          -1.4966843128204346,
          -1.820659875869751,
          -1.6909894943237305
         ],
         "yaxis": "y"
        },
        {
         "hovertemplate": "<b>%{hovertext}</b><br><br>color=text_nyt<br>0=%{x}<br>1=%{y}<extra></extra>",
         "hovertext": [
          "2008-06-04T00:00:00",
          "2008-11-05T00:00:00",
          "2009-01-05T00:00:00",
          "2009-01-20T00:00:00",
          "2009-04-02T00:00:00",
          "2009-04-15T00:00:00",
          "2009-05-22T00:00:00",
          "2009-06-15T00:00:00",
          "2009-07-15T00:00:00",
          "2009-09-24T00:00:00",
          "2009-10-09T00:00:00",
          "2009-11-05T00:00:00",
          "2009-12-19T00:00:00",
          "2009-12-25T00:00:00",
          "2010-01-12T00:00:00",
          "2010-03-04T00:00:00",
          "2010-03-24T00:00:00",
          "2010-04-15T00:00:00",
          "2010-04-22T00:00:00",
          "2010-05-07T00:00:00",
          "2010-07-15T00:00:00",
          "2010-07-21T00:00:00",
          "2010-07-26T00:00:00",
          "2010-08-31T00:00:00",
          "2010-11-02T00:00:00",
          "2011-01-08T00:00:00",
          "2011-01-26T00:00:00",
          "2011-01-31T00:00:00",
          "2011-02-19T00:00:00",
          "2011-05-02T00:00:00",
          "2011-05-23T00:00:00",
          "2011-06-23T00:00:00",
          "2011-07-26T00:00:00",
          "2011-09-09T00:00:00",
          "2011-10-17T00:00:00",
          "2011-11-17T00:00:00",
          "2011-12-16T00:00:00",
          "2012-01-06T00:00:00",
          "2012-01-25T00:00:00",
          "2012-03-27T00:00:00",
          "2012-03-31T00:00:00",
          "2012-04-29T00:00:00",
          "2012-05-02T00:00:00",
          "2012-05-10T00:00:00",
          "2012-06-29T00:00:00",
          "2012-07-21T00:00:00",
          "2012-09-07T00:00:00",
          "2012-10-29T00:00:00",
          "2012-11-07T00:00:00",
          "2012-12-15T00:00:00",
          "2013-01-16T00:00:00",
          "2013-01-22T00:00:00",
          "2013-01-30T00:00:00",
          "2013-02-13T00:00:00",
          "2013-04-16T00:00:00",
          "2013-04-26T00:00:00",
          "2013-05-04T00:00:00",
          "2013-06-19T00:00:00",
          "2013-07-14T00:00:00",
          "2013-08-29T00:00:00",
          "2013-09-11T00:00:00",
          "2013-10-02T00:00:00",
          "2013-12-06T00:00:00",
          "2014-01-18T00:00:00",
          "2014-01-29T00:00:00",
          "2014-03-07T00:00:00",
          "2014-03-26T00:00:00",
          "2014-04-11T00:00:00",
          "2014-05-21T00:00:00",
          "2014-07-01T00:00:00",
          "2014-08-08T00:00:00",
          "2014-08-12T00:00:00",
          "2014-09-17T00:00:00",
          "2014-10-18T00:00:00",
          "2014-11-05T00:00:00",
          "2014-12-18T00:00:00",
          "2015-01-08T00:00:00",
          "2015-01-21T00:00:00",
          "2015-02-14T00:00:00",
          "2015-03-11T00:00:00",
          "2015-04-03T00:00:00",
          "2015-05-09T00:00:00",
          "2015-06-18T00:00:00",
          "2015-07-07T00:00:00",
          "2015-08-03T00:00:00",
          "2015-09-24T00:00:00",
          "2015-10-02T00:00:00",
          "2015-11-14T00:00:00",
          "2015-12-14T00:00:00",
          "2016-01-13T00:00:00",
          "2016-02-16T00:00:00",
          "2016-03-23T00:00:00",
          "2016-04-25T00:00:00",
          "2016-05-06T00:00:00",
          "2016-06-13T00:00:00",
          "2016-07-28T00:00:00",
          "2016-08-17T00:00:00",
          "2016-09-05T00:00:00",
          "2016-11-09T00:00:00",
          "2017-01-11T00:00:00"
         ],
         "legendgroup": "text_nyt",
         "marker": {
          "color": "rgb(17, 165, 121)",
          "symbol": "circle"
         },
         "mode": "markers",
         "name": "text_nyt",
         "orientation": "v",
         "showlegend": true,
         "type": "scatter",
         "x": [
          0.5866115093231201,
          0.5399844646453857,
          0.42664095759391785,
          0.6549472212791443,
          0.41999226808547974,
          0.4756564795970917,
          0.5879161953926086,
          0.6667893528938293,
          0.5484662652015686,
          0.5355257987976074,
          0.5982418060302734,
          0.6146900653839111,
          0.6160354614257812,
          0.7495813965797424,
          0.8298261165618896,
          0.5729270577430725,
          0.6014779806137085,
          0.44233238697052,
          0.7098801136016846,
          0.6889059543609619,
          0.6649861931800842,
          0.49645569920539856,
          0.5990921854972839,
          0.5744783282279968,
          0.373562216758728,
          0.7184268832206726,
          -4.474371433258057,
          1.2418193817138672,
          0.5808259844779968,
          0.576322078704834,
          0.751556396484375,
          0.61729896068573,
          0.5065484046936035,
          0.6726759076118469,
          0.5754833817481995,
          0.49343445897102356,
          -0.12349653244018555,
          0.5040560364723206,
          0.566720187664032,
          0.5739935636520386,
          0.5841078162193298,
          0.7303773164749146,
          0.6338105797767639,
          0.580305814743042,
          0.482621967792511,
          0.6954128742218018,
          0.4730823040008545,
          0.7423759698867798,
          0.5262165069580078,
          0.8241461515426636,
          0.5062758326530457,
          0.4597998559474945,
          0.5114378333091736,
          0.6877238750457764,
          0.770794153213501,
          0.5648692846298218,
          0.5705028772354126,
          0.5593255162239075,
          0.6938673853874207,
          0.5923494696617126,
          0.554742693901062,
          0.3099392056465149,
          0.5950173735618591,
          0.49379727244377136,
          0.5580810904502869,
          0.548112690448761,
          0.5616881847381592,
          0.5611375570297241,
          0.518927812576294,
          0.5865818858146667,
          0.7340492010116577,
          0.7528395056724548,
          0.561174213886261,
          -1.2749584913253784,
          0.5556265711784363,
          0.5432372689247131,
          0.6577920317649841,
          0.5663101077079773,
          0.339634507894516,
          0.6778810024261475,
          0.5673092603683472,
          0.47623443603515625,
          0.7056714296340942,
          0.6211733818054199,
          0.5928939580917358,
          0.5161322355270386,
          0.7048465609550476,
          0.7170729041099548,
          0.567974865436554,
          0.6406593918800354,
          0.5363844037055969,
          0.5788809657096863,
          0.6330806612968445,
          0.5569894909858704,
          0.7106705904006958,
          0.5681012868881226,
          0.6953220367431641,
          0.5712458491325378,
          0.5456202626228333,
          0.5211336612701416
         ],
         "xaxis": "x",
         "y": [
          0.851914644241333,
          0.8817440867424011,
          0.4276237189769745,
          0.7579159736633301,
          0.7025051712989807,
          0.569021463394165,
          0.5477262735366821,
          1.16604745388031,
          0.5141753554344177,
          0.4633890986442566,
          0.8205505013465881,
          1.261400580406189,
          0.5745937824249268,
          1.4680566787719727,
          1.2110097408294678,
          0.4765099883079529,
          0.3577495217323303,
          0.4500759243965149,
          1.0884318351745605,
          0.9924206733703613,
          0.9659467935562134,
          0.4480060338973999,
          0.5535745024681091,
          0.9595267176628113,
          0.4968937635421753,
          1.4296298027038574,
          3.9760916233062744,
          1.1052899360656738,
          0.5984519124031067,
          0.9965008497238159,
          1.401236891746521,
          0.7642807364463806,
          0.39472129940986633,
          -0.2898099422454834,
          1.210591435432434,
          0.5937364101409912,
          0.9391231536865234,
          0.7122112512588501,
          0.6222635507583618,
          0.7217593789100647,
          0.5587679743766785,
          1.4151556491851807,
          1.0899819135665894,
          0.7773241996765137,
          0.4495668113231659,
          1.418267011642456,
          0.5347891449928284,
          1.3058795928955078,
          0.8170181512832642,
          1.382297396659851,
          0.3624134659767151,
          0.9155431389808655,
          0.4809454083442688,
          0.47030237317085266,
          1.3514318466186523,
          0.9989863634109497,
          0.7905340194702148,
          0.5460091233253479,
          1.2807036638259888,
          0.831437349319458,
          0.5676947832107544,
          0.5567835569381714,
          1.010038137435913,
          0.2539968490600586,
          0.2737778425216675,
          0.6120395660400391,
          0.9267333149909973,
          0.8167524933815002,
          0.4980447292327881,
          0.661584734916687,
          0.9291760921478271,
          1.3295667171478271,
          0.4919207692146301,
          -1.7525660991668701,
          0.8875125646591187,
          0.6215750575065613,
          1.2798688411712646,
          0.5598671436309814,
          0.12801915407180786,
          0.32434362173080444,
          0.5545085668563843,
          0.581434965133667,
          1.195246696472168,
          0.8954230546951294,
          0.5575218200683594,
          0.8141015768051147,
          1.4058258533477783,
          1.4280346632003784,
          0.44247859716415405,
          0.5785025358200073,
          0.8049108982086182,
          1.235624074935913,
          0.5774775743484497,
          0.6780527830123901,
          1.2691452503204346,
          0.8112184405326843,
          1.3658242225646973,
          0.8197029232978821,
          0.8514800667762756,
          0.4607992172241211
         ],
         "yaxis": "y"
        },
        {
         "hovertemplate": "<b>%{hovertext}</b><br><br>color=text_wsj<br>0=%{x}<br>1=%{y}<extra></extra>",
         "hovertext": [
          "2008-06-04T00:00:00",
          "2008-11-05T00:00:00",
          "2009-01-05T00:00:00",
          "2009-01-20T00:00:00",
          "2009-04-02T00:00:00",
          "2009-04-15T00:00:00",
          "2009-05-22T00:00:00",
          "2009-06-15T00:00:00",
          "2009-07-15T00:00:00",
          "2009-09-24T00:00:00",
          "2009-10-09T00:00:00",
          "2009-11-05T00:00:00",
          "2009-12-19T00:00:00",
          "2009-12-25T00:00:00",
          "2010-01-12T00:00:00",
          "2010-03-04T00:00:00",
          "2010-03-24T00:00:00",
          "2010-04-15T00:00:00",
          "2010-04-22T00:00:00",
          "2010-05-07T00:00:00",
          "2010-07-15T00:00:00",
          "2010-07-21T00:00:00",
          "2010-07-26T00:00:00",
          "2010-08-31T00:00:00",
          "2010-11-02T00:00:00",
          "2011-01-08T00:00:00",
          "2011-01-26T00:00:00",
          "2011-01-31T00:00:00",
          "2011-02-19T00:00:00",
          "2011-05-02T00:00:00",
          "2011-05-23T00:00:00",
          "2011-06-23T00:00:00",
          "2011-07-26T00:00:00",
          "2011-09-09T00:00:00",
          "2011-10-17T00:00:00",
          "2011-11-17T00:00:00",
          "2011-12-16T00:00:00",
          "2012-01-06T00:00:00",
          "2012-01-25T00:00:00",
          "2012-03-27T00:00:00",
          "2012-03-31T00:00:00",
          "2012-04-29T00:00:00",
          "2012-05-02T00:00:00",
          "2012-05-10T00:00:00",
          "2012-06-29T00:00:00",
          "2012-07-21T00:00:00",
          "2012-09-07T00:00:00",
          "2012-10-29T00:00:00",
          "2012-11-07T00:00:00",
          "2012-12-15T00:00:00",
          "2013-01-16T00:00:00",
          "2013-01-22T00:00:00",
          "2013-01-30T00:00:00",
          "2013-02-13T00:00:00",
          "2013-04-16T00:00:00",
          "2013-04-26T00:00:00",
          "2013-05-04T00:00:00",
          "2013-06-19T00:00:00",
          "2013-07-14T00:00:00",
          "2013-08-29T00:00:00",
          "2013-09-11T00:00:00",
          "2013-10-02T00:00:00",
          "2013-12-06T00:00:00",
          "2014-01-18T00:00:00",
          "2014-01-29T00:00:00",
          "2014-03-07T00:00:00",
          "2014-03-26T00:00:00",
          "2014-04-11T00:00:00",
          "2014-05-21T00:00:00",
          "2014-07-01T00:00:00",
          "2014-08-08T00:00:00",
          "2014-08-12T00:00:00",
          "2014-09-17T00:00:00",
          "2014-10-18T00:00:00",
          "2014-11-05T00:00:00",
          "2014-12-18T00:00:00",
          "2015-01-08T00:00:00",
          "2015-01-21T00:00:00",
          "2015-02-14T00:00:00",
          "2015-03-11T00:00:00",
          "2015-04-03T00:00:00",
          "2015-05-09T00:00:00",
          "2015-06-18T00:00:00",
          "2015-07-07T00:00:00",
          "2015-08-03T00:00:00",
          "2015-09-24T00:00:00",
          "2015-10-02T00:00:00",
          "2015-11-14T00:00:00",
          "2015-12-14T00:00:00",
          "2016-01-13T00:00:00",
          "2016-02-16T00:00:00",
          "2016-03-23T00:00:00",
          "2016-04-25T00:00:00",
          "2016-05-06T00:00:00",
          "2016-06-13T00:00:00",
          "2016-07-28T00:00:00",
          "2016-08-17T00:00:00",
          "2016-09-05T00:00:00",
          "2016-11-09T00:00:00",
          "2017-01-11T00:00:00"
         ],
         "legendgroup": "text_wsj",
         "marker": {
          "color": "rgb(57, 105, 172)",
          "symbol": "circle"
         },
         "mode": "markers",
         "name": "text_wsj",
         "orientation": "v",
         "showlegend": true,
         "type": "scatter",
         "x": [
          0.5667163133621216,
          0.8721190094947815,
          0.5524536371231079,
          0.5592217445373535,
          -2.8676388263702393,
          0.5624996423721313,
          0.28790152072906494,
          0.6789548397064209,
          0.5714306831359863,
          0.5638115406036377,
          0.5257449150085449,
          0.7854086756706238,
          0.5674046277999878,
          0.7517825365066528,
          0.7019513249397278,
          0.6121385097503662,
          0.4928165078163147,
          0.6817997694015503,
          0.6676974892616272,
          0.6832644939422607,
          0.6542597413063049,
          0.5671190023422241,
          0.6055976152420044,
          0.5777342915534973,
          0.5506644248962402,
          0.7370453476905823,
          0.5608853697776794,
          0.5905969142913818,
          0.5861079096794128,
          0.7059727311134338,
          0.8171781301498413,
          0.6007657051086426,
          0.5296955704689026,
          0.5463735461235046,
          0.6224685311317444,
          0.5970185995101929,
          0.9094877243041992,
          0.7896506786346436,
          0.4713599383831024,
          0.6825164556503296,
          0.5833967328071594,
          0.7630955576896667,
          0.6030539274215698,
          0.5103554129600525,
          0.5564562678337097,
          0.7882319688796997,
          0.5666778683662415,
          0.7450993061065674,
          0.49786630272865295,
          0.7686335444450378,
          0.49976852536201477,
          0.49694693088531494,
          0.5221059322357178,
          0.7040249109268188,
          0.7373158931732178,
          0.4920165538787842,
          0.5247806310653687,
          0.4774373471736908,
          0.6475186347961426,
          0.5944715738296509,
          0.41957300901412964,
          0.4816977381706238,
          0.5868360996246338,
          0.4958471953868866,
          0.5244922041893005,
          0.5404341816902161,
          0.5657092332839966,
          0.6014032959938049,
          0.6050176620483398,
          0.6280735731124878,
          0.6124958992004395,
          0.6737638711929321,
          0.5251992344856262,
          -1.207688570022583,
          0.564656674861908,
          0.49213188886642456,
          0.7170611619949341,
          0.5111594796180725,
          0.38010746240615845,
          0.516930878162384,
          0.5955199599266052,
          0.5229516625404358,
          0.7165108323097229,
          0.3004797697067261,
          0.569258987903595,
          0.4932902157306671,
          0.7524925470352173,
          0.7207736372947693,
          0.5404058694839478,
          0.4159902334213257,
          0.4219905138015747,
          0.7367108464241028,
          0.5781868696212769,
          0.4873892664909363,
          0.731055736541748,
          0.5382103323936462,
          0.7409511804580688,
          0.5872446894645691,
          0.4657517671585083,
          0.4112110137939453
         ],
         "xaxis": "x",
         "y": [
          0.8712736964225769,
          1.0023826360702515,
          0.3029569983482361,
          0.854575514793396,
          -10.305601119995117,
          0.41583412885665894,
          0.6177594661712646,
          1.1302233934402466,
          0.4932430386543274,
          0.6368039846420288,
          0.8607046604156494,
          1.3033636808395386,
          0.5893673300743103,
          1.3217495679855347,
          1.1850842237472534,
          0.5363216400146484,
          0.41605955362319946,
          0.4712499678134918,
          1.0096056461334229,
          0.90754234790802,
          0.8598044514656067,
          0.4594343900680542,
          0.8788174390792847,
          0.6748353838920593,
          0.9216396808624268,
          1.3434662818908691,
          0.13875514268875122,
          0.8547589778900146,
          0.5405965447425842,
          1.2083349227905273,
          1.4215654134750366,
          0.8611776828765869,
          0.42861634492874146,
          0.7625079154968262,
          0.9276862144470215,
          0.6058891415596008,
          0.9666643142700195,
          0.5855321288108826,
          0.4740474224090576,
          0.4862024188041687,
          0.5631901621818542,
          1.3967481851577759,
          0.7869307994842529,
          0.7862741947174072,
          0.4441544711589813,
          1.4493380784988403,
          0.5191047191619873,
          1.3004367351531982,
          0.8754284977912903,
          1.4959487915039062,
          0.472287654876709,
          0.895214855670929,
          0.5751039385795593,
          0.28962498903274536,
          1.4362237453460693,
          0.9145718216896057,
          0.40509745478630066,
          0.5862174034118652,
          1.1787008047103882,
          1.0138366222381592,
          0.49596792459487915,
          0.42696890234947205,
          1.0277067422866821,
          0.8805164098739624,
          0.47415411472320557,
          0.6008038520812988,
          0.4915089011192322,
          0.5594766736030579,
          0.5743503570556641,
          0.455942839384079,
          0.9247016906738281,
          1.2252167463302612,
          0.5163232088088989,
          -1.6745630502700806,
          0.9125930666923523,
          0.491896390914917,
          1.0687956809997559,
          0.6717991828918457,
          0.24405238032341003,
          0.42207837104797363,
          0.5850622057914734,
          0.4249905049800873,
          1.5913927555084229,
          0.5115936398506165,
          0.5463644862174988,
          0.7753913402557373,
          1.4444701671600342,
          1.292536973953247,
          0.5629352331161499,
          0.561917781829834,
          0.49243366718292236,
          1.4312313795089722,
          0.25276845693588257,
          0.5619155168533325,
          1.3905450105667114,
          0.8111147880554199,
          1.4347622394561768,
          0.5522074699401855,
          0.8573892116546631,
          0.5435932874679565
         ],
         "yaxis": "y"
        },
        {
         "hovertemplate": "<b>%{hovertext}</b><br><br>color=FoxNews<br>0=%{x}<br>1=%{y}<extra></extra>",
         "hovertext": [
          "2011-05-02T00:00:00",
          "2011-09-09T00:00:00"
         ],
         "legendgroup": "FoxNews",
         "marker": {
          "color": "rgb(242, 183, 1)",
          "symbol": "circle"
         },
         "mode": "markers",
         "name": "FoxNews",
         "orientation": "v",
         "showlegend": true,
         "type": "scatter",
         "x": [
          0.6711438894271851,
          0.566846489906311
         ],
         "xaxis": "x",
         "y": [
          1.1378496885299683,
          0.8575743436813354
         ],
         "yaxis": "y"
        },
        {
         "hovertemplate": "<b>%{hovertext}</b><br><br>color=InfoWars<br>0=%{x}<br>1=%{y}<extra></extra>",
         "hovertext": [
          "2011-05-02T00:00:00",
          "2012-12-15T00:00:00",
          "2016-02-16T00:00:00"
         ],
         "legendgroup": "InfoWars",
         "marker": {
          "color": "rgb(231, 63, 116)",
          "symbol": "circle"
         },
         "mode": "markers",
         "name": "InfoWars",
         "orientation": "v",
         "showlegend": true,
         "type": "scatter",
         "x": [
          0.6548628211021423,
          0.716326117515564,
          0.6477760672569275
         ],
         "xaxis": "x",
         "y": [
          0.9478933215141296,
          1.1874754428863525,
          1.1401171684265137
         ],
         "yaxis": "y"
        },
        {
         "hovertemplate": "<b>%{hovertext}</b><br><br>color=NationalReview<br>0=%{x}<br>1=%{y}<extra></extra>",
         "hovertext": [
          "2011-05-02T00:00:00",
          "2011-09-09T00:00:00",
          "2012-12-15T00:00:00",
          "2016-02-16T00:00:00"
         ],
         "legendgroup": "NationalReview",
         "marker": {
          "color": "rgb(128, 186, 90)",
          "symbol": "circle"
         },
         "mode": "markers",
         "name": "NationalReview",
         "orientation": "v",
         "showlegend": true,
         "type": "scatter",
         "x": [
          0.6808082461357117,
          0.6150919795036316,
          -1.0024464130401611,
          0.5372665524482727
         ],
         "xaxis": "x",
         "y": [
          1.1255890130996704,
          0.7424283623695374,
          -1.3425123691558838,
          0.8172445893287659
         ],
         "yaxis": "y"
        },
        {
         "hovertemplate": "<b>%{hovertext}</b><br><br>color=Intercept<br>0=%{x}<br>1=%{y}<extra></extra>",
         "hovertext": [
          "2015-04-03T00:00:00"
         ],
         "legendgroup": "Intercept",
         "marker": {
          "color": "rgb(230, 131, 16)",
          "symbol": "circle"
         },
         "mode": "markers",
         "name": "Intercept",
         "orientation": "v",
         "showlegend": true,
         "type": "scatter",
         "x": [
          0.6269400119781494
         ],
         "xaxis": "x",
         "y": [
          0.8736831545829773
         ],
         "yaxis": "y"
        }
       ],
       "layout": {
        "legend": {
         "title": {
          "text": "color"
         },
         "tracegroupgap": 0
        },
        "margin": {
         "t": 60
        },
        "template": {
         "data": {
          "bar": [
           {
            "error_x": {
             "color": "#2a3f5f"
            },
            "error_y": {
             "color": "#2a3f5f"
            },
            "marker": {
             "line": {
              "color": "#E5ECF6",
              "width": 0.5
             },
             "pattern": {
              "fillmode": "overlay",
              "size": 10,
              "solidity": 0.2
             }
            },
            "type": "bar"
           }
          ],
          "barpolar": [
           {
            "marker": {
             "line": {
              "color": "#E5ECF6",
              "width": 0.5
             },
             "pattern": {
              "fillmode": "overlay",
              "size": 10,
              "solidity": 0.2
             }
            },
            "type": "barpolar"
           }
          ],
          "carpet": [
           {
            "aaxis": {
             "endlinecolor": "#2a3f5f",
             "gridcolor": "white",
             "linecolor": "white",
             "minorgridcolor": "white",
             "startlinecolor": "#2a3f5f"
            },
            "baxis": {
             "endlinecolor": "#2a3f5f",
             "gridcolor": "white",
             "linecolor": "white",
             "minorgridcolor": "white",
             "startlinecolor": "#2a3f5f"
            },
            "type": "carpet"
           }
          ],
          "choropleth": [
           {
            "colorbar": {
             "outlinewidth": 0,
             "ticks": ""
            },
            "type": "choropleth"
           }
          ],
          "contour": [
           {
            "colorbar": {
             "outlinewidth": 0,
             "ticks": ""
            },
            "colorscale": [
             [
              0,
              "#0d0887"
             ],
             [
              0.1111111111111111,
              "#46039f"
             ],
             [
              0.2222222222222222,
              "#7201a8"
             ],
             [
              0.3333333333333333,
              "#9c179e"
             ],
             [
              0.4444444444444444,
              "#bd3786"
             ],
             [
              0.5555555555555556,
              "#d8576b"
             ],
             [
              0.6666666666666666,
              "#ed7953"
             ],
             [
              0.7777777777777778,
              "#fb9f3a"
             ],
             [
              0.8888888888888888,
              "#fdca26"
             ],
             [
              1,
              "#f0f921"
             ]
            ],
            "type": "contour"
           }
          ],
          "contourcarpet": [
           {
            "colorbar": {
             "outlinewidth": 0,
             "ticks": ""
            },
            "type": "contourcarpet"
           }
          ],
          "heatmap": [
           {
            "colorbar": {
             "outlinewidth": 0,
             "ticks": ""
            },
            "colorscale": [
             [
              0,
              "#0d0887"
             ],
             [
              0.1111111111111111,
              "#46039f"
             ],
             [
              0.2222222222222222,
              "#7201a8"
             ],
             [
              0.3333333333333333,
              "#9c179e"
             ],
             [
              0.4444444444444444,
              "#bd3786"
             ],
             [
              0.5555555555555556,
              "#d8576b"
             ],
             [
              0.6666666666666666,
              "#ed7953"
             ],
             [
              0.7777777777777778,
              "#fb9f3a"
             ],
             [
              0.8888888888888888,
              "#fdca26"
             ],
             [
              1,
              "#f0f921"
             ]
            ],
            "type": "heatmap"
           }
          ],
          "heatmapgl": [
           {
            "colorbar": {
             "outlinewidth": 0,
             "ticks": ""
            },
            "colorscale": [
             [
              0,
              "#0d0887"
             ],
             [
              0.1111111111111111,
              "#46039f"
             ],
             [
              0.2222222222222222,
              "#7201a8"
             ],
             [
              0.3333333333333333,
              "#9c179e"
             ],
             [
              0.4444444444444444,
              "#bd3786"
             ],
             [
              0.5555555555555556,
              "#d8576b"
             ],
             [
              0.6666666666666666,
              "#ed7953"
             ],
             [
              0.7777777777777778,
              "#fb9f3a"
             ],
             [
              0.8888888888888888,
              "#fdca26"
             ],
             [
              1,
              "#f0f921"
             ]
            ],
            "type": "heatmapgl"
           }
          ],
          "histogram": [
           {
            "marker": {
             "pattern": {
              "fillmode": "overlay",
              "size": 10,
              "solidity": 0.2
             }
            },
            "type": "histogram"
           }
          ],
          "histogram2d": [
           {
            "colorbar": {
             "outlinewidth": 0,
             "ticks": ""
            },
            "colorscale": [
             [
              0,
              "#0d0887"
             ],
             [
              0.1111111111111111,
              "#46039f"
             ],
             [
              0.2222222222222222,
              "#7201a8"
             ],
             [
              0.3333333333333333,
              "#9c179e"
             ],
             [
              0.4444444444444444,
              "#bd3786"
             ],
             [
              0.5555555555555556,
              "#d8576b"
             ],
             [
              0.6666666666666666,
              "#ed7953"
             ],
             [
              0.7777777777777778,
              "#fb9f3a"
             ],
             [
              0.8888888888888888,
              "#fdca26"
             ],
             [
              1,
              "#f0f921"
             ]
            ],
            "type": "histogram2d"
           }
          ],
          "histogram2dcontour": [
           {
            "colorbar": {
             "outlinewidth": 0,
             "ticks": ""
            },
            "colorscale": [
             [
              0,
              "#0d0887"
             ],
             [
              0.1111111111111111,
              "#46039f"
             ],
             [
              0.2222222222222222,
              "#7201a8"
             ],
             [
              0.3333333333333333,
              "#9c179e"
             ],
             [
              0.4444444444444444,
              "#bd3786"
             ],
             [
              0.5555555555555556,
              "#d8576b"
             ],
             [
              0.6666666666666666,
              "#ed7953"
             ],
             [
              0.7777777777777778,
              "#fb9f3a"
             ],
             [
              0.8888888888888888,
              "#fdca26"
             ],
             [
              1,
              "#f0f921"
             ]
            ],
            "type": "histogram2dcontour"
           }
          ],
          "mesh3d": [
           {
            "colorbar": {
             "outlinewidth": 0,
             "ticks": ""
            },
            "type": "mesh3d"
           }
          ],
          "parcoords": [
           {
            "line": {
             "colorbar": {
              "outlinewidth": 0,
              "ticks": ""
             }
            },
            "type": "parcoords"
           }
          ],
          "pie": [
           {
            "automargin": true,
            "type": "pie"
           }
          ],
          "scatter": [
           {
            "fillpattern": {
             "fillmode": "overlay",
             "size": 10,
             "solidity": 0.2
            },
            "type": "scatter"
           }
          ],
          "scatter3d": [
           {
            "line": {
             "colorbar": {
              "outlinewidth": 0,
              "ticks": ""
             }
            },
            "marker": {
             "colorbar": {
              "outlinewidth": 0,
              "ticks": ""
             }
            },
            "type": "scatter3d"
           }
          ],
          "scattercarpet": [
           {
            "marker": {
             "colorbar": {
              "outlinewidth": 0,
              "ticks": ""
             }
            },
            "type": "scattercarpet"
           }
          ],
          "scattergeo": [
           {
            "marker": {
             "colorbar": {
              "outlinewidth": 0,
              "ticks": ""
             }
            },
            "type": "scattergeo"
           }
          ],
          "scattergl": [
           {
            "marker": {
             "colorbar": {
              "outlinewidth": 0,
              "ticks": ""
             }
            },
            "type": "scattergl"
           }
          ],
          "scattermapbox": [
           {
            "marker": {
             "colorbar": {
              "outlinewidth": 0,
              "ticks": ""
             }
            },
            "type": "scattermapbox"
           }
          ],
          "scatterpolar": [
           {
            "marker": {
             "colorbar": {
              "outlinewidth": 0,
              "ticks": ""
             }
            },
            "type": "scatterpolar"
           }
          ],
          "scatterpolargl": [
           {
            "marker": {
             "colorbar": {
              "outlinewidth": 0,
              "ticks": ""
             }
            },
            "type": "scatterpolargl"
           }
          ],
          "scatterternary": [
           {
            "marker": {
             "colorbar": {
              "outlinewidth": 0,
              "ticks": ""
             }
            },
            "type": "scatterternary"
           }
          ],
          "surface": [
           {
            "colorbar": {
             "outlinewidth": 0,
             "ticks": ""
            },
            "colorscale": [
             [
              0,
              "#0d0887"
             ],
             [
              0.1111111111111111,
              "#46039f"
             ],
             [
              0.2222222222222222,
              "#7201a8"
             ],
             [
              0.3333333333333333,
              "#9c179e"
             ],
             [
              0.4444444444444444,
              "#bd3786"
             ],
             [
              0.5555555555555556,
              "#d8576b"
             ],
             [
              0.6666666666666666,
              "#ed7953"
             ],
             [
              0.7777777777777778,
              "#fb9f3a"
             ],
             [
              0.8888888888888888,
              "#fdca26"
             ],
             [
              1,
              "#f0f921"
             ]
            ],
            "type": "surface"
           }
          ],
          "table": [
           {
            "cells": {
             "fill": {
              "color": "#EBF0F8"
             },
             "line": {
              "color": "white"
             }
            },
            "header": {
             "fill": {
              "color": "#C8D4E3"
             },
             "line": {
              "color": "white"
             }
            },
            "type": "table"
           }
          ]
         },
         "layout": {
          "annotationdefaults": {
           "arrowcolor": "#2a3f5f",
           "arrowhead": 0,
           "arrowwidth": 1
          },
          "autotypenumbers": "strict",
          "coloraxis": {
           "colorbar": {
            "outlinewidth": 0,
            "ticks": ""
           }
          },
          "colorscale": {
           "diverging": [
            [
             0,
             "#8e0152"
            ],
            [
             0.1,
             "#c51b7d"
            ],
            [
             0.2,
             "#de77ae"
            ],
            [
             0.3,
             "#f1b6da"
            ],
            [
             0.4,
             "#fde0ef"
            ],
            [
             0.5,
             "#f7f7f7"
            ],
            [
             0.6,
             "#e6f5d0"
            ],
            [
             0.7,
             "#b8e186"
            ],
            [
             0.8,
             "#7fbc41"
            ],
            [
             0.9,
             "#4d9221"
            ],
            [
             1,
             "#276419"
            ]
           ],
           "sequential": [
            [
             0,
             "#0d0887"
            ],
            [
             0.1111111111111111,
             "#46039f"
            ],
            [
             0.2222222222222222,
             "#7201a8"
            ],
            [
             0.3333333333333333,
             "#9c179e"
            ],
            [
             0.4444444444444444,
             "#bd3786"
            ],
            [
             0.5555555555555556,
             "#d8576b"
            ],
            [
             0.6666666666666666,
             "#ed7953"
            ],
            [
             0.7777777777777778,
             "#fb9f3a"
            ],
            [
             0.8888888888888888,
             "#fdca26"
            ],
            [
             1,
             "#f0f921"
            ]
           ],
           "sequentialminus": [
            [
             0,
             "#0d0887"
            ],
            [
             0.1111111111111111,
             "#46039f"
            ],
            [
             0.2222222222222222,
             "#7201a8"
            ],
            [
             0.3333333333333333,
             "#9c179e"
            ],
            [
             0.4444444444444444,
             "#bd3786"
            ],
            [
             0.5555555555555556,
             "#d8576b"
            ],
            [
             0.6666666666666666,
             "#ed7953"
            ],
            [
             0.7777777777777778,
             "#fb9f3a"
            ],
            [
             0.8888888888888888,
             "#fdca26"
            ],
            [
             1,
             "#f0f921"
            ]
           ]
          },
          "colorway": [
           "#636efa",
           "#EF553B",
           "#00cc96",
           "#ab63fa",
           "#FFA15A",
           "#19d3f3",
           "#FF6692",
           "#B6E880",
           "#FF97FF",
           "#FECB52"
          ],
          "font": {
           "color": "#2a3f5f"
          },
          "geo": {
           "bgcolor": "white",
           "lakecolor": "white",
           "landcolor": "#E5ECF6",
           "showlakes": true,
           "showland": true,
           "subunitcolor": "white"
          },
          "hoverlabel": {
           "align": "left"
          },
          "hovermode": "closest",
          "mapbox": {
           "style": "light"
          },
          "paper_bgcolor": "white",
          "plot_bgcolor": "#E5ECF6",
          "polar": {
           "angularaxis": {
            "gridcolor": "white",
            "linecolor": "white",
            "ticks": ""
           },
           "bgcolor": "#E5ECF6",
           "radialaxis": {
            "gridcolor": "white",
            "linecolor": "white",
            "ticks": ""
           }
          },
          "scene": {
           "xaxis": {
            "backgroundcolor": "#E5ECF6",
            "gridcolor": "white",
            "gridwidth": 2,
            "linecolor": "white",
            "showbackground": true,
            "ticks": "",
            "zerolinecolor": "white"
           },
           "yaxis": {
            "backgroundcolor": "#E5ECF6",
            "gridcolor": "white",
            "gridwidth": 2,
            "linecolor": "white",
            "showbackground": true,
            "ticks": "",
            "zerolinecolor": "white"
           },
           "zaxis": {
            "backgroundcolor": "#E5ECF6",
            "gridcolor": "white",
            "gridwidth": 2,
            "linecolor": "white",
            "showbackground": true,
            "ticks": "",
            "zerolinecolor": "white"
           }
          },
          "shapedefaults": {
           "line": {
            "color": "#2a3f5f"
           }
          },
          "ternary": {
           "aaxis": {
            "gridcolor": "white",
            "linecolor": "white",
            "ticks": ""
           },
           "baxis": {
            "gridcolor": "white",
            "linecolor": "white",
            "ticks": ""
           },
           "bgcolor": "#E5ECF6",
           "caxis": {
            "gridcolor": "white",
            "linecolor": "white",
            "ticks": ""
           }
          },
          "title": {
           "x": 0.05
          },
          "xaxis": {
           "automargin": true,
           "gridcolor": "white",
           "linecolor": "white",
           "ticks": "",
           "title": {
            "standoff": 15
           },
           "zerolinecolor": "white",
           "zerolinewidth": 2
          },
          "yaxis": {
           "automargin": true,
           "gridcolor": "white",
           "linecolor": "white",
           "ticks": "",
           "title": {
            "standoff": 15
           },
           "zerolinecolor": "white",
           "zerolinewidth": 2
          }
         }
        },
        "xaxis": {
         "anchor": "y",
         "domain": [
          0,
          1
         ],
         "title": {
          "text": "0"
         }
        },
        "yaxis": {
         "anchor": "x",
         "domain": [
          0,
          1
         ],
         "title": {
          "text": "1"
         }
        }
       }
      },
      "text/html": [
       "<div>                            <div id=\"50a33752-1d97-4840-aeeb-1202c99a86b9\" class=\"plotly-graph-div\" style=\"height:525px; width:100%;\"></div>            <script type=\"text/javascript\">                require([\"plotly\"], function(Plotly) {                    window.PLOTLYENV=window.PLOTLYENV || {};                                    if (document.getElementById(\"50a33752-1d97-4840-aeeb-1202c99a86b9\")) {                    Plotly.newPlot(                        \"50a33752-1d97-4840-aeeb-1202c99a86b9\",                        [{\"hovertemplate\":\"<b>%{hovertext}</b><br><br>color=text_oba<br>0=%{x}<br>1=%{y}<extra></extra>\",\"hovertext\":[\"2008-06-04T00:00:00\",\"2008-11-05T00:00:00\",\"2009-01-05T00:00:00\",\"2009-01-20T00:00:00\",\"2009-04-02T00:00:00\",\"2009-04-15T00:00:00\",\"2009-05-22T00:00:00\",\"2009-06-15T00:00:00\",\"2009-07-15T00:00:00\",\"2009-09-24T00:00:00\",\"2009-10-09T00:00:00\",\"2009-11-05T00:00:00\",\"2009-12-19T00:00:00\",\"2009-12-25T00:00:00\",\"2010-01-12T00:00:00\",\"2010-03-04T00:00:00\",\"2010-03-24T00:00:00\",\"2010-04-15T00:00:00\",\"2010-04-22T00:00:00\",\"2010-05-07T00:00:00\",\"2010-07-15T00:00:00\",\"2010-07-21T00:00:00\",\"2010-07-26T00:00:00\",\"2010-08-31T00:00:00\",\"2010-11-02T00:00:00\",\"2011-01-08T00:00:00\",\"2011-01-26T00:00:00\",\"2011-01-31T00:00:00\",\"2011-02-19T00:00:00\",\"2011-05-02T00:00:00\",\"2011-05-23T00:00:00\",\"2011-06-23T00:00:00\",\"2011-07-26T00:00:00\",\"2011-09-09T00:00:00\",\"2011-10-17T00:00:00\",\"2011-11-17T00:00:00\",\"2011-12-16T00:00:00\",\"2012-01-06T00:00:00\",\"2012-01-25T00:00:00\",\"2012-03-27T00:00:00\",\"2012-03-31T00:00:00\",\"2012-04-29T00:00:00\",\"2012-05-02T00:00:00\",\"2012-05-10T00:00:00\",\"2012-06-29T00:00:00\",\"2012-07-21T00:00:00\",\"2012-09-07T00:00:00\",\"2012-10-29T00:00:00\",\"2012-11-07T00:00:00\",\"2012-12-15T00:00:00\",\"2013-01-16T00:00:00\",\"2013-01-22T00:00:00\",\"2013-01-30T00:00:00\",\"2013-02-13T00:00:00\",\"2013-04-16T00:00:00\",\"2013-04-26T00:00:00\",\"2013-05-04T00:00:00\",\"2013-06-19T00:00:00\",\"2013-07-14T00:00:00\",\"2013-08-29T00:00:00\",\"2013-09-11T00:00:00\",\"2013-10-02T00:00:00\",\"2013-12-06T00:00:00\",\"2014-01-18T00:00:00\",\"2014-01-29T00:00:00\",\"2014-03-07T00:00:00\",\"2014-03-26T00:00:00\",\"2014-04-11T00:00:00\",\"2014-05-21T00:00:00\",\"2014-07-01T00:00:00\",\"2014-08-08T00:00:00\",\"2014-08-12T00:00:00\",\"2014-09-17T00:00:00\",\"2014-10-18T00:00:00\",\"2014-11-05T00:00:00\",\"2014-12-18T00:00:00\",\"2015-01-08T00:00:00\",\"2015-01-21T00:00:00\",\"2015-02-14T00:00:00\",\"2015-03-11T00:00:00\",\"2015-04-03T00:00:00\",\"2015-05-09T00:00:00\",\"2015-06-18T00:00:00\",\"2015-07-07T00:00:00\",\"2015-08-03T00:00:00\",\"2015-09-24T00:00:00\",\"2015-10-02T00:00:00\",\"2015-11-14T00:00:00\",\"2015-12-14T00:00:00\",\"2016-01-13T00:00:00\",\"2016-02-16T00:00:00\",\"2016-03-23T00:00:00\",\"2016-04-25T00:00:00\",\"2016-05-06T00:00:00\",\"2016-06-13T00:00:00\",\"2016-07-28T00:00:00\",\"2016-08-17T00:00:00\",\"2016-09-05T00:00:00\",\"2016-11-09T00:00:00\",\"2017-01-11T00:00:00\"],\"legendgroup\":\"text_oba\",\"marker\":{\"color\":\"rgb(127, 60, 141)\",\"symbol\":\"circle\"},\"mode\":\"markers\",\"name\":\"text_oba\",\"orientation\":\"v\",\"showlegend\":true,\"x\":[-1.1946502923965454,-1.1496855020523071,-1.2705695629119873,-1.1298595666885376,-1.0642427206039429,-1.2826628684997559,-1.0620907545089722,-1.0639572143554688,-1.146057367324829,-0.9876243472099304,-1.0352091789245605,-0.777529776096344,-1.108525276184082,-1.1413575410842896,-1.120147943496704,-1.3769081830978394,-1.2043343782424927,-1.310523271560669,-1.0589091777801514,-1.238446593284607,-1.0850043296813965,-1.0441596508026123,-1.1730115413665771,-0.7984572649002075,-1.3177521228790283,-1.2316793203353882,-1.2382519245147705,-1.0200122594833374,-1.0214992761611938,-1.0855648517608643,-1.087867021560669,-1.1223291158676147,-1.1543246507644653,-1.0421184301376343,-1.0514936447143555,-1.0266958475112915,-1.1410475969314575,-1.0307806730270386,-1.2714664936065674,-1.2803691625595093,-1.2834396362304688,-1.2886275053024292,-1.0295647382736206,-1.2785879373550415,-1.2657989263534546,-1.2855886220932007,-0.6917542815208435,-1.2729098796844482,-1.0748109817504883,-1.1777634620666504,-1.3023277521133423,-1.0216153860092163,-1.260608434677124,-0.49814343452453613,-1.2355725765228271,-1.1014530658721924,-1.1330901384353638,-1.3095756769180298,-1.270848274230957,-0.9525095224380493,-0.9901532530784607,-1.2290709018707275,-1.083592176437378,-1.1128860712051392,-1.585256814956665,-1.062407374382019,-0.9886548519134521,-0.9820453524589539,-1.2229787111282349,-1.325618028640747,-1.0601119995117188,-1.08403480052948,-1.2080200910568237,-1.1211589574813843,-1.1231069564819336,-0.9299215078353882,-0.9911139011383057,-1.163264274597168,-1.282453179359436,-1.3013015985488892,-1.0855963230133057,-1.4171820878982544,-1.0443394184112549,-1.0179520845413208,-0.7078787088394165,-1.0860249996185303,-0.7730429172515869,-1.1494958400726318,-1.147947907447815,-4.479881763458252,0.2832425534725189,0.5334608554840088,-1.0482759475708008,-1.1864759922027588,-1.0813411474227905,-1.3537657260894775,-1.3512461185455322,-1.1519663333892822,-1.2625480890274048,-0.8905530571937561],\"xaxis\":\"x\",\"y\":[-1.39643132686615,-1.956941843032837,-1.5500661134719849,-1.4630964994430542,-1.6264632940292358,-1.6604410409927368,-1.4520854949951172,-1.3861637115478516,-1.6491143703460693,-1.5148260593414307,-1.5096497535705566,-1.0575494766235352,-1.862301230430603,-1.4459891319274902,-1.5055571794509888,-1.7398631572723389,-1.671770691871643,-1.585268497467041,-1.4641733169555664,-1.5708091259002686,-1.651300072669983,-1.7049428224563599,-1.619697093963623,-1.3725600242614746,-1.8232948780059814,-1.616665244102478,-1.6841380596160889,-1.5229816436767578,-1.733797550201416,-1.3941222429275513,-1.6605761051177979,-1.425756573677063,-1.7298401594161987,-1.6823639869689941,-1.4264456033706665,-1.3740699291229248,-1.4001150131225586,-1.4700088500976562,-1.7267075777053833,-1.6047914028167725,-1.7035280466079712,-1.8096892833709717,-1.3987469673156738,-1.7841150760650635,-1.7002530097961426,-1.8156903982162476,-1.8961856365203857,-1.8530850410461426,-1.3111034631729126,-1.5823547840118408,-1.6329917907714844,-1.5017166137695312,-1.6696710586547852,-1.7219828367233276,-1.7567901611328125,-1.5798537731170654,-1.5788183212280273,-1.6669214963912964,-1.6881699562072754,-1.3728772401809692,-1.4133641719818115,-1.7488493919372559,-1.4465874433517456,-1.3963274955749512,-1.693232536315918,-1.4024118185043335,-1.2793166637420654,-1.3579093217849731,-1.681105613708496,-2.4975810050964355,-1.5153720378875732,-1.4360008239746094,-1.6609238386154175,-1.8392153978347778,-1.5841751098632812,-1.438949465751648,-1.2336862087249756,-1.7535624504089355,-1.6510415077209473,-1.9302254915237427,-1.447940707206726,-1.7961994409561157,-1.3870142698287964,-1.1805187463760376,-1.7294275760650635,-1.4931145906448364,-1.7374637126922607,-1.7232105731964111,-1.5075520277023315,-1.078571081161499,0.35608941316604614,0.7977030873298645,-1.3059332370758057,-1.6213598251342773,-1.5199272632598877,-1.7228761911392212,-1.7613763809204102,-1.4966843128204346,-1.820659875869751,-1.6909894943237305],\"yaxis\":\"y\",\"type\":\"scatter\"},{\"hovertemplate\":\"<b>%{hovertext}</b><br><br>color=text_nyt<br>0=%{x}<br>1=%{y}<extra></extra>\",\"hovertext\":[\"2008-06-04T00:00:00\",\"2008-11-05T00:00:00\",\"2009-01-05T00:00:00\",\"2009-01-20T00:00:00\",\"2009-04-02T00:00:00\",\"2009-04-15T00:00:00\",\"2009-05-22T00:00:00\",\"2009-06-15T00:00:00\",\"2009-07-15T00:00:00\",\"2009-09-24T00:00:00\",\"2009-10-09T00:00:00\",\"2009-11-05T00:00:00\",\"2009-12-19T00:00:00\",\"2009-12-25T00:00:00\",\"2010-01-12T00:00:00\",\"2010-03-04T00:00:00\",\"2010-03-24T00:00:00\",\"2010-04-15T00:00:00\",\"2010-04-22T00:00:00\",\"2010-05-07T00:00:00\",\"2010-07-15T00:00:00\",\"2010-07-21T00:00:00\",\"2010-07-26T00:00:00\",\"2010-08-31T00:00:00\",\"2010-11-02T00:00:00\",\"2011-01-08T00:00:00\",\"2011-01-26T00:00:00\",\"2011-01-31T00:00:00\",\"2011-02-19T00:00:00\",\"2011-05-02T00:00:00\",\"2011-05-23T00:00:00\",\"2011-06-23T00:00:00\",\"2011-07-26T00:00:00\",\"2011-09-09T00:00:00\",\"2011-10-17T00:00:00\",\"2011-11-17T00:00:00\",\"2011-12-16T00:00:00\",\"2012-01-06T00:00:00\",\"2012-01-25T00:00:00\",\"2012-03-27T00:00:00\",\"2012-03-31T00:00:00\",\"2012-04-29T00:00:00\",\"2012-05-02T00:00:00\",\"2012-05-10T00:00:00\",\"2012-06-29T00:00:00\",\"2012-07-21T00:00:00\",\"2012-09-07T00:00:00\",\"2012-10-29T00:00:00\",\"2012-11-07T00:00:00\",\"2012-12-15T00:00:00\",\"2013-01-16T00:00:00\",\"2013-01-22T00:00:00\",\"2013-01-30T00:00:00\",\"2013-02-13T00:00:00\",\"2013-04-16T00:00:00\",\"2013-04-26T00:00:00\",\"2013-05-04T00:00:00\",\"2013-06-19T00:00:00\",\"2013-07-14T00:00:00\",\"2013-08-29T00:00:00\",\"2013-09-11T00:00:00\",\"2013-10-02T00:00:00\",\"2013-12-06T00:00:00\",\"2014-01-18T00:00:00\",\"2014-01-29T00:00:00\",\"2014-03-07T00:00:00\",\"2014-03-26T00:00:00\",\"2014-04-11T00:00:00\",\"2014-05-21T00:00:00\",\"2014-07-01T00:00:00\",\"2014-08-08T00:00:00\",\"2014-08-12T00:00:00\",\"2014-09-17T00:00:00\",\"2014-10-18T00:00:00\",\"2014-11-05T00:00:00\",\"2014-12-18T00:00:00\",\"2015-01-08T00:00:00\",\"2015-01-21T00:00:00\",\"2015-02-14T00:00:00\",\"2015-03-11T00:00:00\",\"2015-04-03T00:00:00\",\"2015-05-09T00:00:00\",\"2015-06-18T00:00:00\",\"2015-07-07T00:00:00\",\"2015-08-03T00:00:00\",\"2015-09-24T00:00:00\",\"2015-10-02T00:00:00\",\"2015-11-14T00:00:00\",\"2015-12-14T00:00:00\",\"2016-01-13T00:00:00\",\"2016-02-16T00:00:00\",\"2016-03-23T00:00:00\",\"2016-04-25T00:00:00\",\"2016-05-06T00:00:00\",\"2016-06-13T00:00:00\",\"2016-07-28T00:00:00\",\"2016-08-17T00:00:00\",\"2016-09-05T00:00:00\",\"2016-11-09T00:00:00\",\"2017-01-11T00:00:00\"],\"legendgroup\":\"text_nyt\",\"marker\":{\"color\":\"rgb(17, 165, 121)\",\"symbol\":\"circle\"},\"mode\":\"markers\",\"name\":\"text_nyt\",\"orientation\":\"v\",\"showlegend\":true,\"x\":[0.5866115093231201,0.5399844646453857,0.42664095759391785,0.6549472212791443,0.41999226808547974,0.4756564795970917,0.5879161953926086,0.6667893528938293,0.5484662652015686,0.5355257987976074,0.5982418060302734,0.6146900653839111,0.6160354614257812,0.7495813965797424,0.8298261165618896,0.5729270577430725,0.6014779806137085,0.44233238697052,0.7098801136016846,0.6889059543609619,0.6649861931800842,0.49645569920539856,0.5990921854972839,0.5744783282279968,0.373562216758728,0.7184268832206726,-4.474371433258057,1.2418193817138672,0.5808259844779968,0.576322078704834,0.751556396484375,0.61729896068573,0.5065484046936035,0.6726759076118469,0.5754833817481995,0.49343445897102356,-0.12349653244018555,0.5040560364723206,0.566720187664032,0.5739935636520386,0.5841078162193298,0.7303773164749146,0.6338105797767639,0.580305814743042,0.482621967792511,0.6954128742218018,0.4730823040008545,0.7423759698867798,0.5262165069580078,0.8241461515426636,0.5062758326530457,0.4597998559474945,0.5114378333091736,0.6877238750457764,0.770794153213501,0.5648692846298218,0.5705028772354126,0.5593255162239075,0.6938673853874207,0.5923494696617126,0.554742693901062,0.3099392056465149,0.5950173735618591,0.49379727244377136,0.5580810904502869,0.548112690448761,0.5616881847381592,0.5611375570297241,0.518927812576294,0.5865818858146667,0.7340492010116577,0.7528395056724548,0.561174213886261,-1.2749584913253784,0.5556265711784363,0.5432372689247131,0.6577920317649841,0.5663101077079773,0.339634507894516,0.6778810024261475,0.5673092603683472,0.47623443603515625,0.7056714296340942,0.6211733818054199,0.5928939580917358,0.5161322355270386,0.7048465609550476,0.7170729041099548,0.567974865436554,0.6406593918800354,0.5363844037055969,0.5788809657096863,0.6330806612968445,0.5569894909858704,0.7106705904006958,0.5681012868881226,0.6953220367431641,0.5712458491325378,0.5456202626228333,0.5211336612701416],\"xaxis\":\"x\",\"y\":[0.851914644241333,0.8817440867424011,0.4276237189769745,0.7579159736633301,0.7025051712989807,0.569021463394165,0.5477262735366821,1.16604745388031,0.5141753554344177,0.4633890986442566,0.8205505013465881,1.261400580406189,0.5745937824249268,1.4680566787719727,1.2110097408294678,0.4765099883079529,0.3577495217323303,0.4500759243965149,1.0884318351745605,0.9924206733703613,0.9659467935562134,0.4480060338973999,0.5535745024681091,0.9595267176628113,0.4968937635421753,1.4296298027038574,3.9760916233062744,1.1052899360656738,0.5984519124031067,0.9965008497238159,1.401236891746521,0.7642807364463806,0.39472129940986633,-0.2898099422454834,1.210591435432434,0.5937364101409912,0.9391231536865234,0.7122112512588501,0.6222635507583618,0.7217593789100647,0.5587679743766785,1.4151556491851807,1.0899819135665894,0.7773241996765137,0.4495668113231659,1.418267011642456,0.5347891449928284,1.3058795928955078,0.8170181512832642,1.382297396659851,0.3624134659767151,0.9155431389808655,0.4809454083442688,0.47030237317085266,1.3514318466186523,0.9989863634109497,0.7905340194702148,0.5460091233253479,1.2807036638259888,0.831437349319458,0.5676947832107544,0.5567835569381714,1.010038137435913,0.2539968490600586,0.2737778425216675,0.6120395660400391,0.9267333149909973,0.8167524933815002,0.4980447292327881,0.661584734916687,0.9291760921478271,1.3295667171478271,0.4919207692146301,-1.7525660991668701,0.8875125646591187,0.6215750575065613,1.2798688411712646,0.5598671436309814,0.12801915407180786,0.32434362173080444,0.5545085668563843,0.581434965133667,1.195246696472168,0.8954230546951294,0.5575218200683594,0.8141015768051147,1.4058258533477783,1.4280346632003784,0.44247859716415405,0.5785025358200073,0.8049108982086182,1.235624074935913,0.5774775743484497,0.6780527830123901,1.2691452503204346,0.8112184405326843,1.3658242225646973,0.8197029232978821,0.8514800667762756,0.4607992172241211],\"yaxis\":\"y\",\"type\":\"scatter\"},{\"hovertemplate\":\"<b>%{hovertext}</b><br><br>color=text_wsj<br>0=%{x}<br>1=%{y}<extra></extra>\",\"hovertext\":[\"2008-06-04T00:00:00\",\"2008-11-05T00:00:00\",\"2009-01-05T00:00:00\",\"2009-01-20T00:00:00\",\"2009-04-02T00:00:00\",\"2009-04-15T00:00:00\",\"2009-05-22T00:00:00\",\"2009-06-15T00:00:00\",\"2009-07-15T00:00:00\",\"2009-09-24T00:00:00\",\"2009-10-09T00:00:00\",\"2009-11-05T00:00:00\",\"2009-12-19T00:00:00\",\"2009-12-25T00:00:00\",\"2010-01-12T00:00:00\",\"2010-03-04T00:00:00\",\"2010-03-24T00:00:00\",\"2010-04-15T00:00:00\",\"2010-04-22T00:00:00\",\"2010-05-07T00:00:00\",\"2010-07-15T00:00:00\",\"2010-07-21T00:00:00\",\"2010-07-26T00:00:00\",\"2010-08-31T00:00:00\",\"2010-11-02T00:00:00\",\"2011-01-08T00:00:00\",\"2011-01-26T00:00:00\",\"2011-01-31T00:00:00\",\"2011-02-19T00:00:00\",\"2011-05-02T00:00:00\",\"2011-05-23T00:00:00\",\"2011-06-23T00:00:00\",\"2011-07-26T00:00:00\",\"2011-09-09T00:00:00\",\"2011-10-17T00:00:00\",\"2011-11-17T00:00:00\",\"2011-12-16T00:00:00\",\"2012-01-06T00:00:00\",\"2012-01-25T00:00:00\",\"2012-03-27T00:00:00\",\"2012-03-31T00:00:00\",\"2012-04-29T00:00:00\",\"2012-05-02T00:00:00\",\"2012-05-10T00:00:00\",\"2012-06-29T00:00:00\",\"2012-07-21T00:00:00\",\"2012-09-07T00:00:00\",\"2012-10-29T00:00:00\",\"2012-11-07T00:00:00\",\"2012-12-15T00:00:00\",\"2013-01-16T00:00:00\",\"2013-01-22T00:00:00\",\"2013-01-30T00:00:00\",\"2013-02-13T00:00:00\",\"2013-04-16T00:00:00\",\"2013-04-26T00:00:00\",\"2013-05-04T00:00:00\",\"2013-06-19T00:00:00\",\"2013-07-14T00:00:00\",\"2013-08-29T00:00:00\",\"2013-09-11T00:00:00\",\"2013-10-02T00:00:00\",\"2013-12-06T00:00:00\",\"2014-01-18T00:00:00\",\"2014-01-29T00:00:00\",\"2014-03-07T00:00:00\",\"2014-03-26T00:00:00\",\"2014-04-11T00:00:00\",\"2014-05-21T00:00:00\",\"2014-07-01T00:00:00\",\"2014-08-08T00:00:00\",\"2014-08-12T00:00:00\",\"2014-09-17T00:00:00\",\"2014-10-18T00:00:00\",\"2014-11-05T00:00:00\",\"2014-12-18T00:00:00\",\"2015-01-08T00:00:00\",\"2015-01-21T00:00:00\",\"2015-02-14T00:00:00\",\"2015-03-11T00:00:00\",\"2015-04-03T00:00:00\",\"2015-05-09T00:00:00\",\"2015-06-18T00:00:00\",\"2015-07-07T00:00:00\",\"2015-08-03T00:00:00\",\"2015-09-24T00:00:00\",\"2015-10-02T00:00:00\",\"2015-11-14T00:00:00\",\"2015-12-14T00:00:00\",\"2016-01-13T00:00:00\",\"2016-02-16T00:00:00\",\"2016-03-23T00:00:00\",\"2016-04-25T00:00:00\",\"2016-05-06T00:00:00\",\"2016-06-13T00:00:00\",\"2016-07-28T00:00:00\",\"2016-08-17T00:00:00\",\"2016-09-05T00:00:00\",\"2016-11-09T00:00:00\",\"2017-01-11T00:00:00\"],\"legendgroup\":\"text_wsj\",\"marker\":{\"color\":\"rgb(57, 105, 172)\",\"symbol\":\"circle\"},\"mode\":\"markers\",\"name\":\"text_wsj\",\"orientation\":\"v\",\"showlegend\":true,\"x\":[0.5667163133621216,0.8721190094947815,0.5524536371231079,0.5592217445373535,-2.8676388263702393,0.5624996423721313,0.28790152072906494,0.6789548397064209,0.5714306831359863,0.5638115406036377,0.5257449150085449,0.7854086756706238,0.5674046277999878,0.7517825365066528,0.7019513249397278,0.6121385097503662,0.4928165078163147,0.6817997694015503,0.6676974892616272,0.6832644939422607,0.6542597413063049,0.5671190023422241,0.6055976152420044,0.5777342915534973,0.5506644248962402,0.7370453476905823,0.5608853697776794,0.5905969142913818,0.5861079096794128,0.7059727311134338,0.8171781301498413,0.6007657051086426,0.5296955704689026,0.5463735461235046,0.6224685311317444,0.5970185995101929,0.9094877243041992,0.7896506786346436,0.4713599383831024,0.6825164556503296,0.5833967328071594,0.7630955576896667,0.6030539274215698,0.5103554129600525,0.5564562678337097,0.7882319688796997,0.5666778683662415,0.7450993061065674,0.49786630272865295,0.7686335444450378,0.49976852536201477,0.49694693088531494,0.5221059322357178,0.7040249109268188,0.7373158931732178,0.4920165538787842,0.5247806310653687,0.4774373471736908,0.6475186347961426,0.5944715738296509,0.41957300901412964,0.4816977381706238,0.5868360996246338,0.4958471953868866,0.5244922041893005,0.5404341816902161,0.5657092332839966,0.6014032959938049,0.6050176620483398,0.6280735731124878,0.6124958992004395,0.6737638711929321,0.5251992344856262,-1.207688570022583,0.564656674861908,0.49213188886642456,0.7170611619949341,0.5111594796180725,0.38010746240615845,0.516930878162384,0.5955199599266052,0.5229516625404358,0.7165108323097229,0.3004797697067261,0.569258987903595,0.4932902157306671,0.7524925470352173,0.7207736372947693,0.5404058694839478,0.4159902334213257,0.4219905138015747,0.7367108464241028,0.5781868696212769,0.4873892664909363,0.731055736541748,0.5382103323936462,0.7409511804580688,0.5872446894645691,0.4657517671585083,0.4112110137939453],\"xaxis\":\"x\",\"y\":[0.8712736964225769,1.0023826360702515,0.3029569983482361,0.854575514793396,-10.305601119995117,0.41583412885665894,0.6177594661712646,1.1302233934402466,0.4932430386543274,0.6368039846420288,0.8607046604156494,1.3033636808395386,0.5893673300743103,1.3217495679855347,1.1850842237472534,0.5363216400146484,0.41605955362319946,0.4712499678134918,1.0096056461334229,0.90754234790802,0.8598044514656067,0.4594343900680542,0.8788174390792847,0.6748353838920593,0.9216396808624268,1.3434662818908691,0.13875514268875122,0.8547589778900146,0.5405965447425842,1.2083349227905273,1.4215654134750366,0.8611776828765869,0.42861634492874146,0.7625079154968262,0.9276862144470215,0.6058891415596008,0.9666643142700195,0.5855321288108826,0.4740474224090576,0.4862024188041687,0.5631901621818542,1.3967481851577759,0.7869307994842529,0.7862741947174072,0.4441544711589813,1.4493380784988403,0.5191047191619873,1.3004367351531982,0.8754284977912903,1.4959487915039062,0.472287654876709,0.895214855670929,0.5751039385795593,0.28962498903274536,1.4362237453460693,0.9145718216896057,0.40509745478630066,0.5862174034118652,1.1787008047103882,1.0138366222381592,0.49596792459487915,0.42696890234947205,1.0277067422866821,0.8805164098739624,0.47415411472320557,0.6008038520812988,0.4915089011192322,0.5594766736030579,0.5743503570556641,0.455942839384079,0.9247016906738281,1.2252167463302612,0.5163232088088989,-1.6745630502700806,0.9125930666923523,0.491896390914917,1.0687956809997559,0.6717991828918457,0.24405238032341003,0.42207837104797363,0.5850622057914734,0.4249905049800873,1.5913927555084229,0.5115936398506165,0.5463644862174988,0.7753913402557373,1.4444701671600342,1.292536973953247,0.5629352331161499,0.561917781829834,0.49243366718292236,1.4312313795089722,0.25276845693588257,0.5619155168533325,1.3905450105667114,0.8111147880554199,1.4347622394561768,0.5522074699401855,0.8573892116546631,0.5435932874679565],\"yaxis\":\"y\",\"type\":\"scatter\"},{\"hovertemplate\":\"<b>%{hovertext}</b><br><br>color=FoxNews<br>0=%{x}<br>1=%{y}<extra></extra>\",\"hovertext\":[\"2011-05-02T00:00:00\",\"2011-09-09T00:00:00\"],\"legendgroup\":\"FoxNews\",\"marker\":{\"color\":\"rgb(242, 183, 1)\",\"symbol\":\"circle\"},\"mode\":\"markers\",\"name\":\"FoxNews\",\"orientation\":\"v\",\"showlegend\":true,\"x\":[0.6711438894271851,0.566846489906311],\"xaxis\":\"x\",\"y\":[1.1378496885299683,0.8575743436813354],\"yaxis\":\"y\",\"type\":\"scatter\"},{\"hovertemplate\":\"<b>%{hovertext}</b><br><br>color=InfoWars<br>0=%{x}<br>1=%{y}<extra></extra>\",\"hovertext\":[\"2011-05-02T00:00:00\",\"2012-12-15T00:00:00\",\"2016-02-16T00:00:00\"],\"legendgroup\":\"InfoWars\",\"marker\":{\"color\":\"rgb(231, 63, 116)\",\"symbol\":\"circle\"},\"mode\":\"markers\",\"name\":\"InfoWars\",\"orientation\":\"v\",\"showlegend\":true,\"x\":[0.6548628211021423,0.716326117515564,0.6477760672569275],\"xaxis\":\"x\",\"y\":[0.9478933215141296,1.1874754428863525,1.1401171684265137],\"yaxis\":\"y\",\"type\":\"scatter\"},{\"hovertemplate\":\"<b>%{hovertext}</b><br><br>color=NationalReview<br>0=%{x}<br>1=%{y}<extra></extra>\",\"hovertext\":[\"2011-05-02T00:00:00\",\"2011-09-09T00:00:00\",\"2012-12-15T00:00:00\",\"2016-02-16T00:00:00\"],\"legendgroup\":\"NationalReview\",\"marker\":{\"color\":\"rgb(128, 186, 90)\",\"symbol\":\"circle\"},\"mode\":\"markers\",\"name\":\"NationalReview\",\"orientation\":\"v\",\"showlegend\":true,\"x\":[0.6808082461357117,0.6150919795036316,-1.0024464130401611,0.5372665524482727],\"xaxis\":\"x\",\"y\":[1.1255890130996704,0.7424283623695374,-1.3425123691558838,0.8172445893287659],\"yaxis\":\"y\",\"type\":\"scatter\"},{\"hovertemplate\":\"<b>%{hovertext}</b><br><br>color=Intercept<br>0=%{x}<br>1=%{y}<extra></extra>\",\"hovertext\":[\"2015-04-03T00:00:00\"],\"legendgroup\":\"Intercept\",\"marker\":{\"color\":\"rgb(230, 131, 16)\",\"symbol\":\"circle\"},\"mode\":\"markers\",\"name\":\"Intercept\",\"orientation\":\"v\",\"showlegend\":true,\"x\":[0.6269400119781494],\"xaxis\":\"x\",\"y\":[0.8736831545829773],\"yaxis\":\"y\",\"type\":\"scatter\"}],                        {\"template\":{\"data\":{\"histogram2dcontour\":[{\"type\":\"histogram2dcontour\",\"colorbar\":{\"outlinewidth\":0,\"ticks\":\"\"},\"colorscale\":[[0.0,\"#0d0887\"],[0.1111111111111111,\"#46039f\"],[0.2222222222222222,\"#7201a8\"],[0.3333333333333333,\"#9c179e\"],[0.4444444444444444,\"#bd3786\"],[0.5555555555555556,\"#d8576b\"],[0.6666666666666666,\"#ed7953\"],[0.7777777777777778,\"#fb9f3a\"],[0.8888888888888888,\"#fdca26\"],[1.0,\"#f0f921\"]]}],\"choropleth\":[{\"type\":\"choropleth\",\"colorbar\":{\"outlinewidth\":0,\"ticks\":\"\"}}],\"histogram2d\":[{\"type\":\"histogram2d\",\"colorbar\":{\"outlinewidth\":0,\"ticks\":\"\"},\"colorscale\":[[0.0,\"#0d0887\"],[0.1111111111111111,\"#46039f\"],[0.2222222222222222,\"#7201a8\"],[0.3333333333333333,\"#9c179e\"],[0.4444444444444444,\"#bd3786\"],[0.5555555555555556,\"#d8576b\"],[0.6666666666666666,\"#ed7953\"],[0.7777777777777778,\"#fb9f3a\"],[0.8888888888888888,\"#fdca26\"],[1.0,\"#f0f921\"]]}],\"heatmap\":[{\"type\":\"heatmap\",\"colorbar\":{\"outlinewidth\":0,\"ticks\":\"\"},\"colorscale\":[[0.0,\"#0d0887\"],[0.1111111111111111,\"#46039f\"],[0.2222222222222222,\"#7201a8\"],[0.3333333333333333,\"#9c179e\"],[0.4444444444444444,\"#bd3786\"],[0.5555555555555556,\"#d8576b\"],[0.6666666666666666,\"#ed7953\"],[0.7777777777777778,\"#fb9f3a\"],[0.8888888888888888,\"#fdca26\"],[1.0,\"#f0f921\"]]}],\"heatmapgl\":[{\"type\":\"heatmapgl\",\"colorbar\":{\"outlinewidth\":0,\"ticks\":\"\"},\"colorscale\":[[0.0,\"#0d0887\"],[0.1111111111111111,\"#46039f\"],[0.2222222222222222,\"#7201a8\"],[0.3333333333333333,\"#9c179e\"],[0.4444444444444444,\"#bd3786\"],[0.5555555555555556,\"#d8576b\"],[0.6666666666666666,\"#ed7953\"],[0.7777777777777778,\"#fb9f3a\"],[0.8888888888888888,\"#fdca26\"],[1.0,\"#f0f921\"]]}],\"contourcarpet\":[{\"type\":\"contourcarpet\",\"colorbar\":{\"outlinewidth\":0,\"ticks\":\"\"}}],\"contour\":[{\"type\":\"contour\",\"colorbar\":{\"outlinewidth\":0,\"ticks\":\"\"},\"colorscale\":[[0.0,\"#0d0887\"],[0.1111111111111111,\"#46039f\"],[0.2222222222222222,\"#7201a8\"],[0.3333333333333333,\"#9c179e\"],[0.4444444444444444,\"#bd3786\"],[0.5555555555555556,\"#d8576b\"],[0.6666666666666666,\"#ed7953\"],[0.7777777777777778,\"#fb9f3a\"],[0.8888888888888888,\"#fdca26\"],[1.0,\"#f0f921\"]]}],\"surface\":[{\"type\":\"surface\",\"colorbar\":{\"outlinewidth\":0,\"ticks\":\"\"},\"colorscale\":[[0.0,\"#0d0887\"],[0.1111111111111111,\"#46039f\"],[0.2222222222222222,\"#7201a8\"],[0.3333333333333333,\"#9c179e\"],[0.4444444444444444,\"#bd3786\"],[0.5555555555555556,\"#d8576b\"],[0.6666666666666666,\"#ed7953\"],[0.7777777777777778,\"#fb9f3a\"],[0.8888888888888888,\"#fdca26\"],[1.0,\"#f0f921\"]]}],\"mesh3d\":[{\"type\":\"mesh3d\",\"colorbar\":{\"outlinewidth\":0,\"ticks\":\"\"}}],\"scatter\":[{\"fillpattern\":{\"fillmode\":\"overlay\",\"size\":10,\"solidity\":0.2},\"type\":\"scatter\"}],\"parcoords\":[{\"type\":\"parcoords\",\"line\":{\"colorbar\":{\"outlinewidth\":0,\"ticks\":\"\"}}}],\"scatterpolargl\":[{\"type\":\"scatterpolargl\",\"marker\":{\"colorbar\":{\"outlinewidth\":0,\"ticks\":\"\"}}}],\"bar\":[{\"error_x\":{\"color\":\"#2a3f5f\"},\"error_y\":{\"color\":\"#2a3f5f\"},\"marker\":{\"line\":{\"color\":\"#E5ECF6\",\"width\":0.5},\"pattern\":{\"fillmode\":\"overlay\",\"size\":10,\"solidity\":0.2}},\"type\":\"bar\"}],\"scattergeo\":[{\"type\":\"scattergeo\",\"marker\":{\"colorbar\":{\"outlinewidth\":0,\"ticks\":\"\"}}}],\"scatterpolar\":[{\"type\":\"scatterpolar\",\"marker\":{\"colorbar\":{\"outlinewidth\":0,\"ticks\":\"\"}}}],\"histogram\":[{\"marker\":{\"pattern\":{\"fillmode\":\"overlay\",\"size\":10,\"solidity\":0.2}},\"type\":\"histogram\"}],\"scattergl\":[{\"type\":\"scattergl\",\"marker\":{\"colorbar\":{\"outlinewidth\":0,\"ticks\":\"\"}}}],\"scatter3d\":[{\"type\":\"scatter3d\",\"line\":{\"colorbar\":{\"outlinewidth\":0,\"ticks\":\"\"}},\"marker\":{\"colorbar\":{\"outlinewidth\":0,\"ticks\":\"\"}}}],\"scattermapbox\":[{\"type\":\"scattermapbox\",\"marker\":{\"colorbar\":{\"outlinewidth\":0,\"ticks\":\"\"}}}],\"scatterternary\":[{\"type\":\"scatterternary\",\"marker\":{\"colorbar\":{\"outlinewidth\":0,\"ticks\":\"\"}}}],\"scattercarpet\":[{\"type\":\"scattercarpet\",\"marker\":{\"colorbar\":{\"outlinewidth\":0,\"ticks\":\"\"}}}],\"carpet\":[{\"aaxis\":{\"endlinecolor\":\"#2a3f5f\",\"gridcolor\":\"white\",\"linecolor\":\"white\",\"minorgridcolor\":\"white\",\"startlinecolor\":\"#2a3f5f\"},\"baxis\":{\"endlinecolor\":\"#2a3f5f\",\"gridcolor\":\"white\",\"linecolor\":\"white\",\"minorgridcolor\":\"white\",\"startlinecolor\":\"#2a3f5f\"},\"type\":\"carpet\"}],\"table\":[{\"cells\":{\"fill\":{\"color\":\"#EBF0F8\"},\"line\":{\"color\":\"white\"}},\"header\":{\"fill\":{\"color\":\"#C8D4E3\"},\"line\":{\"color\":\"white\"}},\"type\":\"table\"}],\"barpolar\":[{\"marker\":{\"line\":{\"color\":\"#E5ECF6\",\"width\":0.5},\"pattern\":{\"fillmode\":\"overlay\",\"size\":10,\"solidity\":0.2}},\"type\":\"barpolar\"}],\"pie\":[{\"automargin\":true,\"type\":\"pie\"}]},\"layout\":{\"autotypenumbers\":\"strict\",\"colorway\":[\"#636efa\",\"#EF553B\",\"#00cc96\",\"#ab63fa\",\"#FFA15A\",\"#19d3f3\",\"#FF6692\",\"#B6E880\",\"#FF97FF\",\"#FECB52\"],\"font\":{\"color\":\"#2a3f5f\"},\"hovermode\":\"closest\",\"hoverlabel\":{\"align\":\"left\"},\"paper_bgcolor\":\"white\",\"plot_bgcolor\":\"#E5ECF6\",\"polar\":{\"bgcolor\":\"#E5ECF6\",\"angularaxis\":{\"gridcolor\":\"white\",\"linecolor\":\"white\",\"ticks\":\"\"},\"radialaxis\":{\"gridcolor\":\"white\",\"linecolor\":\"white\",\"ticks\":\"\"}},\"ternary\":{\"bgcolor\":\"#E5ECF6\",\"aaxis\":{\"gridcolor\":\"white\",\"linecolor\":\"white\",\"ticks\":\"\"},\"baxis\":{\"gridcolor\":\"white\",\"linecolor\":\"white\",\"ticks\":\"\"},\"caxis\":{\"gridcolor\":\"white\",\"linecolor\":\"white\",\"ticks\":\"\"}},\"coloraxis\":{\"colorbar\":{\"outlinewidth\":0,\"ticks\":\"\"}},\"colorscale\":{\"sequential\":[[0.0,\"#0d0887\"],[0.1111111111111111,\"#46039f\"],[0.2222222222222222,\"#7201a8\"],[0.3333333333333333,\"#9c179e\"],[0.4444444444444444,\"#bd3786\"],[0.5555555555555556,\"#d8576b\"],[0.6666666666666666,\"#ed7953\"],[0.7777777777777778,\"#fb9f3a\"],[0.8888888888888888,\"#fdca26\"],[1.0,\"#f0f921\"]],\"sequentialminus\":[[0.0,\"#0d0887\"],[0.1111111111111111,\"#46039f\"],[0.2222222222222222,\"#7201a8\"],[0.3333333333333333,\"#9c179e\"],[0.4444444444444444,\"#bd3786\"],[0.5555555555555556,\"#d8576b\"],[0.6666666666666666,\"#ed7953\"],[0.7777777777777778,\"#fb9f3a\"],[0.8888888888888888,\"#fdca26\"],[1.0,\"#f0f921\"]],\"diverging\":[[0,\"#8e0152\"],[0.1,\"#c51b7d\"],[0.2,\"#de77ae\"],[0.3,\"#f1b6da\"],[0.4,\"#fde0ef\"],[0.5,\"#f7f7f7\"],[0.6,\"#e6f5d0\"],[0.7,\"#b8e186\"],[0.8,\"#7fbc41\"],[0.9,\"#4d9221\"],[1,\"#276419\"]]},\"xaxis\":{\"gridcolor\":\"white\",\"linecolor\":\"white\",\"ticks\":\"\",\"title\":{\"standoff\":15},\"zerolinecolor\":\"white\",\"automargin\":true,\"zerolinewidth\":2},\"yaxis\":{\"gridcolor\":\"white\",\"linecolor\":\"white\",\"ticks\":\"\",\"title\":{\"standoff\":15},\"zerolinecolor\":\"white\",\"automargin\":true,\"zerolinewidth\":2},\"scene\":{\"xaxis\":{\"backgroundcolor\":\"#E5ECF6\",\"gridcolor\":\"white\",\"linecolor\":\"white\",\"showbackground\":true,\"ticks\":\"\",\"zerolinecolor\":\"white\",\"gridwidth\":2},\"yaxis\":{\"backgroundcolor\":\"#E5ECF6\",\"gridcolor\":\"white\",\"linecolor\":\"white\",\"showbackground\":true,\"ticks\":\"\",\"zerolinecolor\":\"white\",\"gridwidth\":2},\"zaxis\":{\"backgroundcolor\":\"#E5ECF6\",\"gridcolor\":\"white\",\"linecolor\":\"white\",\"showbackground\":true,\"ticks\":\"\",\"zerolinecolor\":\"white\",\"gridwidth\":2}},\"shapedefaults\":{\"line\":{\"color\":\"#2a3f5f\"}},\"annotationdefaults\":{\"arrowcolor\":\"#2a3f5f\",\"arrowhead\":0,\"arrowwidth\":1},\"geo\":{\"bgcolor\":\"white\",\"landcolor\":\"#E5ECF6\",\"subunitcolor\":\"white\",\"showland\":true,\"showlakes\":true,\"lakecolor\":\"white\"},\"title\":{\"x\":0.05},\"mapbox\":{\"style\":\"light\"}}},\"xaxis\":{\"anchor\":\"y\",\"domain\":[0.0,1.0],\"title\":{\"text\":\"0\"}},\"yaxis\":{\"anchor\":\"x\",\"domain\":[0.0,1.0],\"title\":{\"text\":\"1\"}},\"legend\":{\"title\":{\"text\":\"color\"},\"tracegroupgap\":0},\"margin\":{\"t\":60}},                        {\"responsive\": true}                    ).then(function(){\n",
       "                            \n",
       "var gd = document.getElementById('50a33752-1d97-4840-aeeb-1202c99a86b9');\n",
       "var x = new MutationObserver(function (mutations, observer) {{\n",
       "        var display = window.getComputedStyle(gd).display;\n",
       "        if (!display || display === 'none') {{\n",
       "            console.log([gd, 'removed!']);\n",
       "            Plotly.purge(gd);\n",
       "            observer.disconnect();\n",
       "        }}\n",
       "}});\n",
       "\n",
       "// Listen for the removal of the full notebook cells\n",
       "var notebookContainer = gd.closest('#notebook-container');\n",
       "if (notebookContainer) {{\n",
       "    x.observe(notebookContainer, {childList: true});\n",
       "}}\n",
       "\n",
       "// Listen for the clearing of the current output cell\n",
       "var outputEl = gd.closest('.output');\n",
       "if (outputEl) {{\n",
       "    x.observe(outputEl, {childList: true});\n",
       "}}\n",
       "\n",
       "                        })                };                });            </script>        </div>"
      ]
     },
     "metadata": {},
     "output_type": "display_data"
    }
   ],
   "source": [
    "# Perplexity value can greatly influence the shape of the results, typical ranges from 5 to 50\n",
    "# Some perplexity values with decent separation: 6,7,9,10,12,14,15\n",
    "t_sne = manifold.TSNE(\n",
    "    n_components=2,\n",
    "    perplexity=10,\n",
    "    init=\"random\",\n",
    "    n_iter=250,\n",
    "    random_state=0,\n",
    ");\n",
    "tsne_data = pcaBiplotData.loc[:, pcaBiplotData.columns.str.startswith('enc')]\n",
    "S_t_sne = t_sne.fit_transform(tsne_data);\n",
    "fig = px.scatter(S_t_sne, \n",
    "                 x=0, \n",
    "                 y=1, \n",
    "                 color=pcaBiplotData['source'],\n",
    "                 hover_name=pcaBiplotData['date'],\n",
    "                 color_discrete_sequence=px.colors.qualitative.Bold)\n",
    "fig.show()"
   ]
  },
  {
   "cell_type": "code",
   "execution_count": 25,
   "id": "11046a54",
   "metadata": {},
   "outputs": [],
   "source": [
    "# Join PCA components to biplot dataframe and then save\n",
    "pcaBiplotData.drop(['index'], axis=1, inplace=True)\n",
    "pcafitdf = pd.DataFrame(pcafit, columns=['PCA1', 'PCA2'])\n",
    "pcaBiplotData = pcaBiplotData.join(pcafitdf)"
   ]
  },
  {
   "cell_type": "code",
   "execution_count": 26,
   "id": "6dd6ad77",
   "metadata": {},
   "outputs": [],
   "source": [
    "#pcaBiplotData.to_csv('pcaBiplotData.csv', index=False)"
   ]
  },
  {
   "cell_type": "markdown",
   "id": "d2f0c6b3",
   "metadata": {},
   "source": [
    "### <a id='pcatidydata'>Try PCA on the big tidy data set with emo, pos, sentence and word counts</a>"
   ]
  },
  {
   "cell_type": "code",
   "execution_count": 95,
   "id": "fa5e1d03",
   "metadata": {},
   "outputs": [],
   "source": [
    "scaling=StandardScaler()\n",
    "df_tidy = pd.read_csv('tidy_data.csv')\n",
    "df_tidy_all = df_tidy.copy(deep=True)\n",
    "# drop variables which will simply increase with length of text\n",
    "df_tidy = df_tidy.drop(['sent_count', 'word_count', 'char_count', 'syl_count', 'dc_word_count', 'gf_word_count', 'poly_word_count'], axis=1)\n",
    "#df_tidy.columns"
   ]
  },
  {
   "cell_type": "code",
   "execution_count": 89,
   "id": "13fb39b1",
   "metadata": {},
   "outputs": [],
   "source": [
    "pca_data = df_tidy.drop(['date', 'source', 'enc_value','PCA1', 'PCA2','num_sents', 'num_words'], axis=1, inplace=False)\n",
    "scaling.fit(pca_data)\n",
    "scaled_data = scaling.transform(pca_data)\n",
    "pca = PCA(n_components = 2)\n",
    "pcafit2 = pca.fit_transform(scaled_data)"
   ]
  },
  {
   "cell_type": "code",
   "execution_count": 90,
   "id": "be589bd6",
   "metadata": {},
   "outputs": [
    {
     "data": {
      "application/vnd.plotly.v1+json": {
       "config": {
        "plotlyServerURL": "https://plot.ly"
       },
       "data": [
        {
         "hovertemplate": "<b>%{hovertext}</b><br><br>color=oba<br>0=%{x}<br>1=%{y}<extra></extra>",
         "hovertext": [
          "2008-06-04",
          "2008-11-05",
          "2009-01-05",
          "2009-01-20",
          "2009-04-02",
          "2009-04-15",
          "2009-05-22",
          "2009-06-15",
          "2009-07-15",
          "2009-09-24",
          "2009-10-09",
          "2009-11-05",
          "2009-12-19",
          "2009-12-25",
          "2010-01-12",
          "2010-03-04",
          "2010-03-24",
          "2010-04-15",
          "2010-04-22",
          "2010-05-07",
          "2010-07-15",
          "2010-07-21",
          "2010-07-26",
          "2010-08-31",
          "2010-11-02",
          "2011-01-08",
          "2011-01-26",
          "2011-01-31",
          "2011-02-19",
          "2011-05-02",
          "2011-05-23",
          "2011-06-23",
          "2011-07-26",
          "2011-09-09",
          "2011-10-17",
          "2011-11-17",
          "2011-12-16",
          "2012-01-06",
          "2012-01-25",
          "2012-03-27",
          "2012-03-31",
          "2012-04-29",
          "2012-05-02",
          "2012-05-10",
          "2012-06-29",
          "2012-07-21",
          "2012-09-07",
          "2012-10-29",
          "2012-11-07",
          "2012-12-15",
          "2013-01-16",
          "2013-01-22",
          "2013-01-30",
          "2013-02-13",
          "2013-04-16",
          "2013-04-26",
          "2013-05-04",
          "2013-06-19",
          "2013-07-14",
          "2013-08-29",
          "2013-09-11",
          "2013-10-02",
          "2013-12-06",
          "2014-01-18",
          "2014-01-29",
          "2014-03-07",
          "2014-03-26",
          "2014-04-11",
          "2014-05-21",
          "2014-07-01",
          "2014-08-08",
          "2014-08-12",
          "2014-09-17",
          "2014-10-18",
          "2014-11-05",
          "2014-12-18",
          "2015-01-08",
          "2015-01-21",
          "2015-02-14",
          "2015-03-11",
          "2015-04-03",
          "2015-05-09",
          "2015-06-18",
          "2015-07-07",
          "2015-08-03",
          "2015-09-24",
          "2015-10-02",
          "2015-11-14",
          "2015-12-14",
          "2016-01-13",
          "2016-02-16",
          "2016-03-23",
          "2016-04-25",
          "2016-05-06",
          "2016-06-13",
          "2016-07-28",
          "2016-08-17",
          "2016-09-05",
          "2016-11-09",
          "2017-01-11"
         ],
         "legendgroup": "oba",
         "marker": {
          "color": "rgb(127, 60, 141)",
          "symbol": "circle"
         },
         "mode": "markers",
         "name": "oba",
         "orientation": "v",
         "showlegend": true,
         "type": "scatter",
         "x": [
          -4.256532055936437,
          -6.040520046470486,
          0.06466425054937075,
          -3.0077010581046144,
          -1.4444760277976565,
          -4.148153984984674,
          -0.2787432894703799,
          0.08317132993938418,
          -5.621457249868952,
          -4.285506718817897,
          -2.5178619355965774,
          -3.9357907211664616,
          -2.4242394876428004,
          1.7684920952484375,
          -1.262583864762229,
          -3.8948328838628905,
          -6.282399926014353,
          -5.379791114166533,
          0.15380358609358163,
          -3.6393007620336557,
          -2.8670960232069875,
          -3.5387747890271744,
          -0.2069259248287829,
          -0.8544565753547675,
          -4.053224512024621,
          -8.928686864214923,
          -8.313517854141548,
          -2.4174291326617072,
          -6.669816756876063,
          -1.1508487783815342,
          -8.440843856009053,
          -1.3145811631599529,
          -5.507757836148372,
          -6.874244015332453,
          -2.395476905881582,
          -2.651859365546033,
          -0.790040295034245,
          -1.782630210646423,
          -7.126088010268658,
          -6.246243788395501,
          -7.749989689425916,
          -7.3159362328481174,
          -2.1278955521764225,
          -7.810959191953418,
          -5.368115297993923,
          -5.429326749433598,
          -5.804913704855943,
          -4.26276801586657,
          -4.58787704715498,
          -1.9823026454319839,
          -6.613069245114684,
          -2.677579413245894,
          -9.579073608217614,
          -6.197095233428264,
          -5.6037522801524355,
          -4.50662365551351,
          -6.246687622120169,
          -5.12616647008624,
          -1.2605886104043933,
          -2.6115680081862154,
          0.402487162283835,
          -6.061859079261626,
          -2.933807700758534,
          3.6658608440388476,
          -4.562801976878965,
          4.057793140247267,
          -0.9103793031613914,
          -6.449694119471078,
          -3.9632916532552005,
          -5.033956123252625,
          -0.5508164572770617,
          0.07492777044051019,
          -4.260622738325487,
          -6.371829594413005,
          -3.494381302929569,
          -3.643217416374708,
          5.815030828676774,
          -7.108363745630015,
          -4.502258504644017,
          -7.753803963670842,
          0.1617451221638889,
          -8.974207535839515,
          -3.4277111820611172,
          -1.3246916987055062,
          -8.284339578568124,
          -0.22978411556669628,
          -2.8022932178279683,
          -3.0837565306907484,
          -0.101185107952663,
          -6.180654409862806,
          -1.1755060064071494,
          9.223279085515365,
          -6.243014901365906,
          -11.162118677850868,
          -4.226193398015715,
          -8.695546247628709,
          -6.499654283102715,
          -0.2108024792585825,
          -6.993340093555766,
          -4.711326343287584
         ],
         "xaxis": "x",
         "y": [
          -1.7793411494679847,
          1.3925178647527496,
          5.1930812182770305,
          2.253611329021189,
          1.857382551665668,
          -2.8646182707630548,
          2.4385711656891007,
          5.920292775083879,
          0.652418533949575,
          -3.083829884364332,
          1.484122838082721,
          2.5323407079365237,
          1.675925816876518,
          4.865976276168843,
          1.816529657420323,
          0.3031087085141428,
          1.1816585182600092,
          -2.5338660971040614,
          2.682683788150828,
          0.28288755454494474,
          1.563415852125195,
          2.4087945933261454,
          2.801721766210042,
          3.4469630990637645,
          2.2419788606818036,
          -3.1704863763124016,
          -3.0071204438988235,
          2.0178477611105348,
          0.589748341788425,
          3.6737545430876413,
          1.7065686919220342,
          2.4747946874598155,
          -1.7861398640152484,
          -0.3004762190882286,
          -0.6039409473063805,
          -0.19671238493539572,
          4.140837288321314,
          0.983931979331541,
          -2.1369589429997884,
          -4.2862761826593525,
          0.6225401052133452,
          4.10430751357998,
          4.490989493427359,
          -1.1768365225542132,
          -0.23416982532553832,
          4.91253973874966,
          1.259201433439429,
          1.4091911004923081,
          4.365300490011122,
          4.907824929158501,
          -1.1194204283649187,
          0.13786600707147914,
          -2.030569631238487,
          -2.7628703752919637,
          -1.6237670197517606,
          1.7969821707294609,
          -4.078741539840359,
          0.18642049059142476,
          2.712100123654744,
          -0.3120486483636645,
          3.441405563408617,
          0.8109529494761649,
          4.507478102898828,
          -0.36001281421790465,
          -0.8009208457431729,
          1.4102165851260464,
          1.25715586202715,
          -2.692409666551719,
          1.336321333782185,
          1.4130349856950724,
          1.935781080113866,
          0.8451676103634176,
          0.8830257284999222,
          -4.116681747839416,
          5.0252402279170765,
          -4.287553278818699,
          7.24637408694083,
          -2.4105056422754854,
          -3.258761877745747,
          0.3780954676572407,
          3.14370283367591,
          -0.11696285555178591,
          2.7513060008008514,
          0.8125436614863636,
          -3.306170448567731,
          3.182556007147368,
          3.9694657813819876,
          4.72282115293271,
          3.776573906721875,
          -0.3197239647233034,
          3.7366362063370775,
          -2.523095800164014,
          -3.688930020267924,
          -1.679873301898512,
          3.0022431076014118,
          -1.5761987664981276,
          0.7497726015946958,
          2.829298363386724,
          4.151104940132585,
          0.24829666702762931
         ],
         "yaxis": "y"
        },
        {
         "hovertemplate": "<b>%{hovertext}</b><br><br>color=nyt<br>0=%{x}<br>1=%{y}<extra></extra>",
         "hovertext": [
          "2008-06-04",
          "2008-11-05",
          "2009-01-05",
          "2009-01-20",
          "2009-04-02",
          "2009-04-15",
          "2009-05-22",
          "2009-06-15",
          "2009-07-15",
          "2009-09-24",
          "2009-10-09",
          "2009-11-05",
          "2009-12-19",
          "2009-12-25",
          "2010-01-12",
          "2010-03-04",
          "2010-03-24",
          "2010-04-15",
          "2010-04-22",
          "2010-05-07",
          "2010-07-15",
          "2010-07-21",
          "2010-07-26",
          "2010-08-31",
          "2010-11-02",
          "2011-01-08",
          "2011-01-26",
          "2011-01-31",
          "2011-02-19",
          "2011-05-02",
          "2011-05-23",
          "2011-06-23",
          "2011-07-26",
          "2011-09-09",
          "2011-10-17",
          "2011-11-17",
          "2011-12-16",
          "2012-01-06",
          "2012-01-25",
          "2012-03-27",
          "2012-03-31",
          "2012-04-29",
          "2012-05-02",
          "2012-05-10",
          "2012-06-29",
          "2012-07-21",
          "2012-09-07",
          "2012-10-29",
          "2012-11-07",
          "2012-12-15",
          "2013-01-16",
          "2013-01-22",
          "2013-01-30",
          "2013-02-13",
          "2013-04-16",
          "2013-04-26",
          "2013-05-04",
          "2013-06-19",
          "2013-07-14",
          "2013-08-29",
          "2013-09-11",
          "2013-10-02",
          "2013-12-06",
          "2014-01-18",
          "2014-01-29",
          "2014-03-07",
          "2014-03-26",
          "2014-04-11",
          "2014-05-21",
          "2014-07-01",
          "2014-08-08",
          "2014-08-12",
          "2014-09-17",
          "2014-10-18",
          "2014-11-05",
          "2014-12-18",
          "2015-01-08",
          "2015-01-21",
          "2015-02-14",
          "2015-03-11",
          "2015-04-03",
          "2015-05-09",
          "2015-06-18",
          "2015-07-07",
          "2015-08-03",
          "2015-09-24",
          "2015-10-02",
          "2015-11-14",
          "2015-12-14",
          "2016-01-13",
          "2016-02-16",
          "2016-03-23",
          "2016-04-25",
          "2016-05-06",
          "2016-06-13",
          "2016-07-28",
          "2016-08-17",
          "2016-09-05",
          "2016-11-09",
          "2017-01-11"
         ],
         "legendgroup": "nyt",
         "marker": {
          "color": "rgb(17, 165, 121)",
          "symbol": "circle"
         },
         "mode": "markers",
         "name": "nyt",
         "orientation": "v",
         "showlegend": true,
         "type": "scatter",
         "x": [
          0.09463279786033174,
          1.0614309672515172,
          1.7769665888047121,
          0.3999773393984784,
          1.5294535077882474,
          1.9226914209056052,
          4.8888630723112,
          2.1407102114869465,
          5.730280080755577,
          4.771068553120119,
          0.24142981141344802,
          -1.8114662462057054,
          1.9942647831738793,
          2.025487521387569,
          -1.4018620211841917,
          2.774240912774777,
          -2.816027863394289,
          1.4045668352373288,
          -0.9653079297983786,
          -3.327752367014626,
          -2.9427565810636405,
          6.175145704695261,
          2.6875903529591305,
          3.2828661707228646,
          3.472934178116451,
          0.8512094524454739,
          -1.1419717586555007,
          2.0229359321924973,
          8.991153335119442,
          0.336323247406047,
          0.8154094892062067,
          3.157560156520277,
          1.9586574188801205,
          0.9905203102864578,
          -3.056742589598325,
          5.764568963521371,
          2.0816195721103745,
          6.028202067450671,
          4.338381736925093,
          4.096739136290767,
          2.7573780854739494,
          -0.7651596272079325,
          5.559889409617054,
          1.9482833623533973,
          1.9626828280114317,
          -0.3894790184591828,
          -0.7840588904922803,
          1.2292017005232234,
          1.5183976311237748,
          -1.34070035713415,
          3.545437552740008,
          0.5380926847007188,
          5.082538609672908,
          1.7678947602968809,
          -2.5445231731950426,
          -1.2625459529729208,
          6.631394396124356,
          4.166516469010241,
          0.27095010063607083,
          -1.0617760505068734,
          3.0899838690484187,
          0.9310282456506905,
          -3.387421802043983,
          4.573213399445073,
          -0.5214363610495548,
          5.819359936287624,
          3.5596937193084903,
          1.3750972291493557,
          3.9963453407938943,
          4.323825190261456,
          3.9688989371583507,
          -0.590775046747484,
          3.0472060510009396,
          -1.7051382553839582,
          1.7229730582101324,
          1.6723446943378784,
          0.5490867159622543,
          2.060516621852995,
          4.9996553581384555,
          0.800983954432692,
          4.505527882728407,
          -0.3869640774841952,
          -2.8260491921232798,
          5.071652186495039,
          2.491204906816971,
          1.8414615580831577,
          -4.03928371830926,
          0.32362693210625326,
          2.5603962921291408,
          5.487772113302803,
          1.315962061758399,
          2.248603590708307,
          3.2757562236660345,
          -0.36255235867304625,
          2.8731315450818364,
          -0.2064643840513911,
          0.5075970602917126,
          2.3010367462674943,
          3.9199178846225284,
          -0.10444417414299179
         ],
         "xaxis": "x",
         "y": [
          -4.9165539172385895,
          -4.751429896624319,
          -3.4072784674722922,
          -2.235939097511634,
          -0.03422743503765615,
          -0.8925413088547295,
          0.7110425495554209,
          -3.620652511595291,
          -3.2541593455009914,
          -1.2406571653015812,
          -6.937402384233057,
          -4.881684103128731,
          -6.495689498704161,
          -0.4323016586142794,
          -4.534799429963122,
          -2.513013550279444,
          -3.064073904345625,
          -4.864552489195032,
          -0.7070170957846796,
          -2.944771456150273,
          -3.1994978583512226,
          -6.998531087019949,
          -6.8480200781333025,
          -4.172984809544934,
          0.8204506287530209,
          1.1943883290323847,
          -3.9136666589406066,
          -1.0467779749661386,
          16.568585218170856,
          0.25642228174879234,
          2.9140529644402955,
          -2.312554284591943,
          -2.578160029371871,
          -1.299143384554836,
          3.6354496528666207,
          -0.7453776272307392,
          1.527196170115975,
          -4.246584152619236,
          -3.5198349554419472,
          -0.14870397760721132,
          -0.41360186024969203,
          0.8637570315353962,
          -1.0468872194392982,
          -3.536529779312293,
          -0.5391082977611649,
          3.3997803545838816,
          -0.2785719492298418,
          2.2396160411292754,
          -3.5634219916172363,
          4.066831767797377,
          1.3818535616984857,
          -0.7137452663269888,
          -0.4660141198239616,
          -1.7096392910282574,
          -3.226814172908436,
          1.6624003804230536,
          -1.6841661319173011,
          -0.18204343104073414,
          3.7348440705660932,
          2.4133735401828016,
          -1.9649965363218993,
          -2.4757783534798987,
          -6.659490060719476,
          0.17317747382736295,
          -3.5956749821597405,
          1.4595936582537428,
          0.6396171604435275,
          2.4622685295986626,
          -1.9470182730841048,
          -4.240100013034213,
          0.6014832570333151,
          1.51987720943243,
          -0.9405169112532958,
          -0.09959807968197758,
          -4.6862777511511,
          -3.100334465019964,
          0.492544319024032,
          -2.52847017389189,
          3.7780123868479585,
          2.5487904007512903,
          -0.6623997358871527,
          1.3761577371085965,
          1.6102138743332965,
          -0.04925176138474547,
          -3.608559022992544,
          1.3059769616872372,
          0.5387326882834753,
          3.3442486331384886,
          -1.9624832638005196,
          1.476215036953129,
          0.4009110925368644,
          1.43708301604962,
          1.3811232519663703,
          2.2847127898157584,
          1.6686884321982784,
          -4.016815721286834,
          2.704310546528341,
          1.7845737075884898,
          0.0016368281894369656,
          0.13056659974149465
         ],
         "yaxis": "y"
        },
        {
         "hovertemplate": "<b>%{hovertext}</b><br><br>color=wsj<br>0=%{x}<br>1=%{y}<extra></extra>",
         "hovertext": [
          "2008-06-04",
          "2008-11-05",
          "2009-01-05",
          "2009-01-20",
          "2009-04-02",
          "2009-04-15",
          "2009-05-22",
          "2009-06-15",
          "2009-07-15",
          "2009-09-24",
          "2009-10-09",
          "2009-11-05",
          "2009-12-19",
          "2009-12-25",
          "2010-01-12",
          "2010-03-04",
          "2010-03-24",
          "2010-04-15",
          "2010-04-22",
          "2010-05-07",
          "2010-07-15",
          "2010-07-21",
          "2010-07-26",
          "2010-08-31",
          "2010-11-02",
          "2011-01-08",
          "2011-01-26",
          "2011-01-31",
          "2011-02-19",
          "2011-05-02",
          "2011-05-23",
          "2011-06-23",
          "2011-07-26",
          "2011-09-09",
          "2011-10-17",
          "2011-11-17",
          "2011-12-16",
          "2012-01-06",
          "2012-01-25",
          "2012-03-27",
          "2012-03-31",
          "2012-04-29",
          "2012-05-02",
          "2012-05-10",
          "2012-06-29",
          "2012-07-21",
          "2012-09-07",
          "2012-10-29",
          "2012-11-07",
          "2012-12-15",
          "2013-01-16",
          "2013-01-22",
          "2013-01-30",
          "2013-02-13",
          "2013-04-16",
          "2013-04-26",
          "2013-05-04",
          "2013-06-19",
          "2013-07-14",
          "2013-08-29",
          "2013-09-11",
          "2013-10-02",
          "2013-12-06",
          "2014-01-18",
          "2014-01-29",
          "2014-03-07",
          "2014-03-26",
          "2014-04-11",
          "2014-05-21",
          "2014-07-01",
          "2014-08-08",
          "2014-08-12",
          "2014-09-17",
          "2014-10-18",
          "2014-11-05",
          "2014-12-18",
          "2015-01-08",
          "2015-01-21",
          "2015-02-14",
          "2015-03-11",
          "2015-04-03",
          "2015-05-09",
          "2015-06-18",
          "2015-07-07",
          "2015-08-03",
          "2015-09-24",
          "2015-10-02",
          "2015-11-14",
          "2015-12-14",
          "2016-01-13",
          "2016-02-16",
          "2016-03-23",
          "2016-04-25",
          "2016-05-06",
          "2016-06-13",
          "2016-07-28",
          "2016-08-17",
          "2016-09-05",
          "2016-11-09",
          "2017-01-11"
         ],
         "legendgroup": "wsj",
         "marker": {
          "color": "rgb(57, 105, 172)",
          "symbol": "circle"
         },
         "mode": "markers",
         "name": "wsj",
         "orientation": "v",
         "showlegend": true,
         "type": "scatter",
         "x": [
          2.525180057647177,
          -0.3953176370605538,
          0.5273517551467284,
          -1.346544003111159,
          2.526180604342233,
          2.446813546499611,
          4.237684941234328,
          1.616065862297489,
          11.641759544745856,
          4.949767255927837,
          0.4320220564190517,
          2.0272936875124037,
          3.958378039907045,
          0.9447060187735136,
          -1.66611733532506,
          -0.2524304470331929,
          -0.3674106138807485,
          1.5805619891580924,
          -0.8246948655843098,
          1.239578657311422,
          -2.2986554404381603,
          0.6349879414250388,
          4.564802114010062,
          0.8024217724988801,
          2.4069318158155006,
          -0.6062742236300063,
          1.458203371865134,
          3.4653508262639146,
          0.6246164338070329,
          0.6097384386936437,
          -0.8971974813179385,
          0.1210719504733143,
          -0.034828171295223365,
          1.4603374227814783,
          -0.533089193713672,
          4.277330157718223,
          5.143349671242361,
          4.188895026762917,
          2.8219931254800037,
          5.021635937776652,
          2.795724433020294,
          1.1147304988927103,
          3.84511033376862,
          -0.48379207392757345,
          3.1479930459762717,
          0.6175330566853743,
          -2.7072832967631233,
          -1.0116667983346845,
          -1.2959780594222658,
          -0.8682629010092152,
          3.9593605773336757,
          1.6005998919868578,
          2.0929257360408453,
          2.6060948130553907,
          0.9027857900680195,
          2.564218420508226,
          2.3381552313089355,
          4.621109844902927,
          2.559578353471888,
          4.2472642104903935,
          5.231209544006107,
          4.2869820646243255,
          1.8684215193160114,
          5.031536820220458,
          2.453190606237661,
          3.8601090339881186,
          3.2070775832579463,
          2.4542996230097818,
          1.6243191226136577,
          3.6655197323086517,
          3.8223043156334984,
          0.6501535354222101,
          4.474626877007208,
          -1.2619810045725557,
          -0.16374431917680343,
          4.04849553282685,
          1.3394955325571205,
          4.442906869415275,
          3.060380059463719,
          3.3792549362121442,
          0.5517914239858615,
          3.843617781334375,
          -2.8921710146659367,
          4.999268449169415,
          1.5841407867934356,
          3.012178934956161,
          -1.4537592248764382,
          3.414647371099968,
          5.119660686442363,
          1.4730616356271153,
          4.3853983167639266,
          1.9290734519531434,
          4.387044027881681,
          0.8336617931000866,
          2.6802435477956807,
          -0.9313134539692858,
          -2.118230971187806,
          3.6329260790637035,
          -0.19842739568177367,
          4.20491567293787
         ],
         "xaxis": "x",
         "y": [
          1.106161722260784,
          -2.0301035606732416,
          -2.0439956017064085,
          -0.8929246656814055,
          0.15765672394112107,
          -2.6058258457334063,
          -0.9628992322511422,
          -0.27725179176171905,
          1.8216492972158655,
          0.06078300288039398,
          -2.55424828496666,
          2.880793265198886,
          -0.22923135819925541,
          3.7939065245660615,
          -3.535503008495384,
          -1.1648384433630525,
          -1.372801642261436,
          -0.7717558917636084,
          -0.030518464467744286,
          -1.5438766738937013,
          1.6589558216600728,
          -2.346801191224745,
          0.40511516124453345,
          -1.3653236781421354,
          -0.19502473599205283,
          4.293972226996791,
          -2.826175573682473,
          -2.2843400606869193,
          -1.546673689949236,
          2.618608431242475,
          4.110729053701069,
          -1.5599763624012908,
          -1.7493438621289237,
          -3.10157992036406,
          -1.402957628885347,
          -3.407626427762226,
          0.13843555710229022,
          -1.4359366554325548,
          -2.8179529067953966,
          3.343234734303281,
          0.5059556009674185,
          2.913996104279304,
          0.7493627650529314,
          -2.0020617085876786,
          -1.1696189042109557,
          2.7647648791806922,
          -1.7342246348160695,
          1.1821915103440088,
          -1.4133729965177533,
          3.8390829501034154,
          0.6867313923340272,
          -2.3726470425060944,
          1.4542684892671163,
          -0.5772179378061466,
          3.5528086432439654,
          0.8409865688437842,
          -2.8259128054669254,
          -0.835433855451282,
          1.6746414768949107,
          -0.14653741081733798,
          -0.07092086977038792,
          0.379180926308053,
          0.8325878324593805,
          0.34259942152404893,
          -0.03798153527033957,
          -1.822351524019925,
          -1.5603291321742179,
          0.1711446426054488,
          -2.4202767981400424,
          -2.505071404450034,
          1.1627476152108744,
          3.3028707848637513,
          -0.00028903323830821274,
          -1.2160052498693996,
          -1.4963711323169697,
          -0.9331017700840071,
          0.8623868929415266,
          -2.4818133497155,
          1.8694918113032737,
          -2.360306292937177,
          -1.5543221076300866,
          0.8841348628633102,
          1.3738593546543127,
          0.14657342911000198,
          -2.9758625465651227,
          0.7098302637495546,
          2.334589983074249,
          1.8804337274412812,
          -3.4638396458548613,
          0.15905557905548806,
          0.38448508947140897,
          2.245945102742779,
          0.6800396250087398,
          2.707110115798334,
          1.6375927517979225,
          -0.6020821278097002,
          1.880011446013827,
          0.5552024876092192,
          -0.3167200831267448,
          -0.7894859093955404
         ],
         "yaxis": "y"
        }
       ],
       "layout": {
        "legend": {
         "title": {
          "text": "color"
         },
         "tracegroupgap": 0
        },
        "template": {
         "data": {
          "bar": [
           {
            "error_x": {
             "color": "#2a3f5f"
            },
            "error_y": {
             "color": "#2a3f5f"
            },
            "marker": {
             "line": {
              "color": "#E5ECF6",
              "width": 0.5
             },
             "pattern": {
              "fillmode": "overlay",
              "size": 10,
              "solidity": 0.2
             }
            },
            "type": "bar"
           }
          ],
          "barpolar": [
           {
            "marker": {
             "line": {
              "color": "#E5ECF6",
              "width": 0.5
             },
             "pattern": {
              "fillmode": "overlay",
              "size": 10,
              "solidity": 0.2
             }
            },
            "type": "barpolar"
           }
          ],
          "carpet": [
           {
            "aaxis": {
             "endlinecolor": "#2a3f5f",
             "gridcolor": "white",
             "linecolor": "white",
             "minorgridcolor": "white",
             "startlinecolor": "#2a3f5f"
            },
            "baxis": {
             "endlinecolor": "#2a3f5f",
             "gridcolor": "white",
             "linecolor": "white",
             "minorgridcolor": "white",
             "startlinecolor": "#2a3f5f"
            },
            "type": "carpet"
           }
          ],
          "choropleth": [
           {
            "colorbar": {
             "outlinewidth": 0,
             "ticks": ""
            },
            "type": "choropleth"
           }
          ],
          "contour": [
           {
            "colorbar": {
             "outlinewidth": 0,
             "ticks": ""
            },
            "colorscale": [
             [
              0,
              "#0d0887"
             ],
             [
              0.1111111111111111,
              "#46039f"
             ],
             [
              0.2222222222222222,
              "#7201a8"
             ],
             [
              0.3333333333333333,
              "#9c179e"
             ],
             [
              0.4444444444444444,
              "#bd3786"
             ],
             [
              0.5555555555555556,
              "#d8576b"
             ],
             [
              0.6666666666666666,
              "#ed7953"
             ],
             [
              0.7777777777777778,
              "#fb9f3a"
             ],
             [
              0.8888888888888888,
              "#fdca26"
             ],
             [
              1,
              "#f0f921"
             ]
            ],
            "type": "contour"
           }
          ],
          "contourcarpet": [
           {
            "colorbar": {
             "outlinewidth": 0,
             "ticks": ""
            },
            "type": "contourcarpet"
           }
          ],
          "heatmap": [
           {
            "colorbar": {
             "outlinewidth": 0,
             "ticks": ""
            },
            "colorscale": [
             [
              0,
              "#0d0887"
             ],
             [
              0.1111111111111111,
              "#46039f"
             ],
             [
              0.2222222222222222,
              "#7201a8"
             ],
             [
              0.3333333333333333,
              "#9c179e"
             ],
             [
              0.4444444444444444,
              "#bd3786"
             ],
             [
              0.5555555555555556,
              "#d8576b"
             ],
             [
              0.6666666666666666,
              "#ed7953"
             ],
             [
              0.7777777777777778,
              "#fb9f3a"
             ],
             [
              0.8888888888888888,
              "#fdca26"
             ],
             [
              1,
              "#f0f921"
             ]
            ],
            "type": "heatmap"
           }
          ],
          "heatmapgl": [
           {
            "colorbar": {
             "outlinewidth": 0,
             "ticks": ""
            },
            "colorscale": [
             [
              0,
              "#0d0887"
             ],
             [
              0.1111111111111111,
              "#46039f"
             ],
             [
              0.2222222222222222,
              "#7201a8"
             ],
             [
              0.3333333333333333,
              "#9c179e"
             ],
             [
              0.4444444444444444,
              "#bd3786"
             ],
             [
              0.5555555555555556,
              "#d8576b"
             ],
             [
              0.6666666666666666,
              "#ed7953"
             ],
             [
              0.7777777777777778,
              "#fb9f3a"
             ],
             [
              0.8888888888888888,
              "#fdca26"
             ],
             [
              1,
              "#f0f921"
             ]
            ],
            "type": "heatmapgl"
           }
          ],
          "histogram": [
           {
            "marker": {
             "pattern": {
              "fillmode": "overlay",
              "size": 10,
              "solidity": 0.2
             }
            },
            "type": "histogram"
           }
          ],
          "histogram2d": [
           {
            "colorbar": {
             "outlinewidth": 0,
             "ticks": ""
            },
            "colorscale": [
             [
              0,
              "#0d0887"
             ],
             [
              0.1111111111111111,
              "#46039f"
             ],
             [
              0.2222222222222222,
              "#7201a8"
             ],
             [
              0.3333333333333333,
              "#9c179e"
             ],
             [
              0.4444444444444444,
              "#bd3786"
             ],
             [
              0.5555555555555556,
              "#d8576b"
             ],
             [
              0.6666666666666666,
              "#ed7953"
             ],
             [
              0.7777777777777778,
              "#fb9f3a"
             ],
             [
              0.8888888888888888,
              "#fdca26"
             ],
             [
              1,
              "#f0f921"
             ]
            ],
            "type": "histogram2d"
           }
          ],
          "histogram2dcontour": [
           {
            "colorbar": {
             "outlinewidth": 0,
             "ticks": ""
            },
            "colorscale": [
             [
              0,
              "#0d0887"
             ],
             [
              0.1111111111111111,
              "#46039f"
             ],
             [
              0.2222222222222222,
              "#7201a8"
             ],
             [
              0.3333333333333333,
              "#9c179e"
             ],
             [
              0.4444444444444444,
              "#bd3786"
             ],
             [
              0.5555555555555556,
              "#d8576b"
             ],
             [
              0.6666666666666666,
              "#ed7953"
             ],
             [
              0.7777777777777778,
              "#fb9f3a"
             ],
             [
              0.8888888888888888,
              "#fdca26"
             ],
             [
              1,
              "#f0f921"
             ]
            ],
            "type": "histogram2dcontour"
           }
          ],
          "mesh3d": [
           {
            "colorbar": {
             "outlinewidth": 0,
             "ticks": ""
            },
            "type": "mesh3d"
           }
          ],
          "parcoords": [
           {
            "line": {
             "colorbar": {
              "outlinewidth": 0,
              "ticks": ""
             }
            },
            "type": "parcoords"
           }
          ],
          "pie": [
           {
            "automargin": true,
            "type": "pie"
           }
          ],
          "scatter": [
           {
            "fillpattern": {
             "fillmode": "overlay",
             "size": 10,
             "solidity": 0.2
            },
            "type": "scatter"
           }
          ],
          "scatter3d": [
           {
            "line": {
             "colorbar": {
              "outlinewidth": 0,
              "ticks": ""
             }
            },
            "marker": {
             "colorbar": {
              "outlinewidth": 0,
              "ticks": ""
             }
            },
            "type": "scatter3d"
           }
          ],
          "scattercarpet": [
           {
            "marker": {
             "colorbar": {
              "outlinewidth": 0,
              "ticks": ""
             }
            },
            "type": "scattercarpet"
           }
          ],
          "scattergeo": [
           {
            "marker": {
             "colorbar": {
              "outlinewidth": 0,
              "ticks": ""
             }
            },
            "type": "scattergeo"
           }
          ],
          "scattergl": [
           {
            "marker": {
             "colorbar": {
              "outlinewidth": 0,
              "ticks": ""
             }
            },
            "type": "scattergl"
           }
          ],
          "scattermapbox": [
           {
            "marker": {
             "colorbar": {
              "outlinewidth": 0,
              "ticks": ""
             }
            },
            "type": "scattermapbox"
           }
          ],
          "scatterpolar": [
           {
            "marker": {
             "colorbar": {
              "outlinewidth": 0,
              "ticks": ""
             }
            },
            "type": "scatterpolar"
           }
          ],
          "scatterpolargl": [
           {
            "marker": {
             "colorbar": {
              "outlinewidth": 0,
              "ticks": ""
             }
            },
            "type": "scatterpolargl"
           }
          ],
          "scatterternary": [
           {
            "marker": {
             "colorbar": {
              "outlinewidth": 0,
              "ticks": ""
             }
            },
            "type": "scatterternary"
           }
          ],
          "surface": [
           {
            "colorbar": {
             "outlinewidth": 0,
             "ticks": ""
            },
            "colorscale": [
             [
              0,
              "#0d0887"
             ],
             [
              0.1111111111111111,
              "#46039f"
             ],
             [
              0.2222222222222222,
              "#7201a8"
             ],
             [
              0.3333333333333333,
              "#9c179e"
             ],
             [
              0.4444444444444444,
              "#bd3786"
             ],
             [
              0.5555555555555556,
              "#d8576b"
             ],
             [
              0.6666666666666666,
              "#ed7953"
             ],
             [
              0.7777777777777778,
              "#fb9f3a"
             ],
             [
              0.8888888888888888,
              "#fdca26"
             ],
             [
              1,
              "#f0f921"
             ]
            ],
            "type": "surface"
           }
          ],
          "table": [
           {
            "cells": {
             "fill": {
              "color": "#EBF0F8"
             },
             "line": {
              "color": "white"
             }
            },
            "header": {
             "fill": {
              "color": "#C8D4E3"
             },
             "line": {
              "color": "white"
             }
            },
            "type": "table"
           }
          ]
         },
         "layout": {
          "annotationdefaults": {
           "arrowcolor": "#2a3f5f",
           "arrowhead": 0,
           "arrowwidth": 1
          },
          "autotypenumbers": "strict",
          "coloraxis": {
           "colorbar": {
            "outlinewidth": 0,
            "ticks": ""
           }
          },
          "colorscale": {
           "diverging": [
            [
             0,
             "#8e0152"
            ],
            [
             0.1,
             "#c51b7d"
            ],
            [
             0.2,
             "#de77ae"
            ],
            [
             0.3,
             "#f1b6da"
            ],
            [
             0.4,
             "#fde0ef"
            ],
            [
             0.5,
             "#f7f7f7"
            ],
            [
             0.6,
             "#e6f5d0"
            ],
            [
             0.7,
             "#b8e186"
            ],
            [
             0.8,
             "#7fbc41"
            ],
            [
             0.9,
             "#4d9221"
            ],
            [
             1,
             "#276419"
            ]
           ],
           "sequential": [
            [
             0,
             "#0d0887"
            ],
            [
             0.1111111111111111,
             "#46039f"
            ],
            [
             0.2222222222222222,
             "#7201a8"
            ],
            [
             0.3333333333333333,
             "#9c179e"
            ],
            [
             0.4444444444444444,
             "#bd3786"
            ],
            [
             0.5555555555555556,
             "#d8576b"
            ],
            [
             0.6666666666666666,
             "#ed7953"
            ],
            [
             0.7777777777777778,
             "#fb9f3a"
            ],
            [
             0.8888888888888888,
             "#fdca26"
            ],
            [
             1,
             "#f0f921"
            ]
           ],
           "sequentialminus": [
            [
             0,
             "#0d0887"
            ],
            [
             0.1111111111111111,
             "#46039f"
            ],
            [
             0.2222222222222222,
             "#7201a8"
            ],
            [
             0.3333333333333333,
             "#9c179e"
            ],
            [
             0.4444444444444444,
             "#bd3786"
            ],
            [
             0.5555555555555556,
             "#d8576b"
            ],
            [
             0.6666666666666666,
             "#ed7953"
            ],
            [
             0.7777777777777778,
             "#fb9f3a"
            ],
            [
             0.8888888888888888,
             "#fdca26"
            ],
            [
             1,
             "#f0f921"
            ]
           ]
          },
          "colorway": [
           "#636efa",
           "#EF553B",
           "#00cc96",
           "#ab63fa",
           "#FFA15A",
           "#19d3f3",
           "#FF6692",
           "#B6E880",
           "#FF97FF",
           "#FECB52"
          ],
          "font": {
           "color": "#2a3f5f"
          },
          "geo": {
           "bgcolor": "white",
           "lakecolor": "white",
           "landcolor": "#E5ECF6",
           "showlakes": true,
           "showland": true,
           "subunitcolor": "white"
          },
          "hoverlabel": {
           "align": "left"
          },
          "hovermode": "closest",
          "mapbox": {
           "style": "light"
          },
          "paper_bgcolor": "white",
          "plot_bgcolor": "#E5ECF6",
          "polar": {
           "angularaxis": {
            "gridcolor": "white",
            "linecolor": "white",
            "ticks": ""
           },
           "bgcolor": "#E5ECF6",
           "radialaxis": {
            "gridcolor": "white",
            "linecolor": "white",
            "ticks": ""
           }
          },
          "scene": {
           "xaxis": {
            "backgroundcolor": "#E5ECF6",
            "gridcolor": "white",
            "gridwidth": 2,
            "linecolor": "white",
            "showbackground": true,
            "ticks": "",
            "zerolinecolor": "white"
           },
           "yaxis": {
            "backgroundcolor": "#E5ECF6",
            "gridcolor": "white",
            "gridwidth": 2,
            "linecolor": "white",
            "showbackground": true,
            "ticks": "",
            "zerolinecolor": "white"
           },
           "zaxis": {
            "backgroundcolor": "#E5ECF6",
            "gridcolor": "white",
            "gridwidth": 2,
            "linecolor": "white",
            "showbackground": true,
            "ticks": "",
            "zerolinecolor": "white"
           }
          },
          "shapedefaults": {
           "line": {
            "color": "#2a3f5f"
           }
          },
          "ternary": {
           "aaxis": {
            "gridcolor": "white",
            "linecolor": "white",
            "ticks": ""
           },
           "baxis": {
            "gridcolor": "white",
            "linecolor": "white",
            "ticks": ""
           },
           "bgcolor": "#E5ECF6",
           "caxis": {
            "gridcolor": "white",
            "linecolor": "white",
            "ticks": ""
           }
          },
          "title": {
           "x": 0.05
          },
          "xaxis": {
           "automargin": true,
           "gridcolor": "white",
           "linecolor": "white",
           "ticks": "",
           "title": {
            "standoff": 15
           },
           "zerolinecolor": "white",
           "zerolinewidth": 2
          },
          "yaxis": {
           "automargin": true,
           "gridcolor": "white",
           "linecolor": "white",
           "ticks": "",
           "title": {
            "standoff": 15
           },
           "zerolinecolor": "white",
           "zerolinewidth": 2
          }
         }
        },
        "title": {
         "text": "Principle Components Biplot"
        },
        "xaxis": {
         "anchor": "y",
         "domain": [
          0,
          1
         ],
         "title": {
          "text": "PC1"
         }
        },
        "yaxis": {
         "anchor": "x",
         "domain": [
          0,
          1
         ],
         "title": {
          "text": "PC2"
         }
        }
       }
      },
      "text/html": [
       "<div>                            <div id=\"18107d79-673e-4da9-9a40-d6a4e3e510e6\" class=\"plotly-graph-div\" style=\"height:525px; width:100%;\"></div>            <script type=\"text/javascript\">                require([\"plotly\"], function(Plotly) {                    window.PLOTLYENV=window.PLOTLYENV || {};                                    if (document.getElementById(\"18107d79-673e-4da9-9a40-d6a4e3e510e6\")) {                    Plotly.newPlot(                        \"18107d79-673e-4da9-9a40-d6a4e3e510e6\",                        [{\"hovertemplate\":\"<b>%{hovertext}</b><br><br>color=oba<br>0=%{x}<br>1=%{y}<extra></extra>\",\"hovertext\":[\"2008-06-04\",\"2008-11-05\",\"2009-01-05\",\"2009-01-20\",\"2009-04-02\",\"2009-04-15\",\"2009-05-22\",\"2009-06-15\",\"2009-07-15\",\"2009-09-24\",\"2009-10-09\",\"2009-11-05\",\"2009-12-19\",\"2009-12-25\",\"2010-01-12\",\"2010-03-04\",\"2010-03-24\",\"2010-04-15\",\"2010-04-22\",\"2010-05-07\",\"2010-07-15\",\"2010-07-21\",\"2010-07-26\",\"2010-08-31\",\"2010-11-02\",\"2011-01-08\",\"2011-01-26\",\"2011-01-31\",\"2011-02-19\",\"2011-05-02\",\"2011-05-23\",\"2011-06-23\",\"2011-07-26\",\"2011-09-09\",\"2011-10-17\",\"2011-11-17\",\"2011-12-16\",\"2012-01-06\",\"2012-01-25\",\"2012-03-27\",\"2012-03-31\",\"2012-04-29\",\"2012-05-02\",\"2012-05-10\",\"2012-06-29\",\"2012-07-21\",\"2012-09-07\",\"2012-10-29\",\"2012-11-07\",\"2012-12-15\",\"2013-01-16\",\"2013-01-22\",\"2013-01-30\",\"2013-02-13\",\"2013-04-16\",\"2013-04-26\",\"2013-05-04\",\"2013-06-19\",\"2013-07-14\",\"2013-08-29\",\"2013-09-11\",\"2013-10-02\",\"2013-12-06\",\"2014-01-18\",\"2014-01-29\",\"2014-03-07\",\"2014-03-26\",\"2014-04-11\",\"2014-05-21\",\"2014-07-01\",\"2014-08-08\",\"2014-08-12\",\"2014-09-17\",\"2014-10-18\",\"2014-11-05\",\"2014-12-18\",\"2015-01-08\",\"2015-01-21\",\"2015-02-14\",\"2015-03-11\",\"2015-04-03\",\"2015-05-09\",\"2015-06-18\",\"2015-07-07\",\"2015-08-03\",\"2015-09-24\",\"2015-10-02\",\"2015-11-14\",\"2015-12-14\",\"2016-01-13\",\"2016-02-16\",\"2016-03-23\",\"2016-04-25\",\"2016-05-06\",\"2016-06-13\",\"2016-07-28\",\"2016-08-17\",\"2016-09-05\",\"2016-11-09\",\"2017-01-11\"],\"legendgroup\":\"oba\",\"marker\":{\"color\":\"rgb(127, 60, 141)\",\"symbol\":\"circle\"},\"mode\":\"markers\",\"name\":\"oba\",\"orientation\":\"v\",\"showlegend\":true,\"x\":[-4.256532055936437,-6.040520046470486,0.06466425054937075,-3.0077010581046144,-1.4444760277976565,-4.148153984984674,-0.2787432894703799,0.08317132993938418,-5.621457249868952,-4.285506718817897,-2.5178619355965774,-3.9357907211664616,-2.4242394876428004,1.7684920952484375,-1.262583864762229,-3.8948328838628905,-6.282399926014353,-5.379791114166533,0.15380358609358163,-3.6393007620336557,-2.8670960232069875,-3.5387747890271744,-0.2069259248287829,-0.8544565753547675,-4.053224512024621,-8.928686864214923,-8.313517854141548,-2.4174291326617072,-6.669816756876063,-1.1508487783815342,-8.440843856009053,-1.3145811631599529,-5.507757836148372,-6.874244015332453,-2.395476905881582,-2.651859365546033,-0.790040295034245,-1.782630210646423,-7.126088010268658,-6.246243788395501,-7.749989689425916,-7.3159362328481174,-2.1278955521764225,-7.810959191953418,-5.368115297993923,-5.429326749433598,-5.804913704855943,-4.26276801586657,-4.58787704715498,-1.9823026454319839,-6.613069245114684,-2.677579413245894,-9.579073608217614,-6.197095233428264,-5.6037522801524355,-4.50662365551351,-6.246687622120169,-5.12616647008624,-1.2605886104043933,-2.6115680081862154,0.402487162283835,-6.061859079261626,-2.933807700758534,3.6658608440388476,-4.562801976878965,4.057793140247267,-0.9103793031613914,-6.449694119471078,-3.9632916532552005,-5.033956123252625,-0.5508164572770617,0.07492777044051019,-4.260622738325487,-6.371829594413005,-3.494381302929569,-3.643217416374708,5.815030828676774,-7.108363745630015,-4.502258504644017,-7.753803963670842,0.1617451221638889,-8.974207535839515,-3.4277111820611172,-1.3246916987055062,-8.284339578568124,-0.22978411556669628,-2.8022932178279683,-3.0837565306907484,-0.101185107952663,-6.180654409862806,-1.1755060064071494,9.223279085515365,-6.243014901365906,-11.162118677850868,-4.226193398015715,-8.695546247628709,-6.499654283102715,-0.2108024792585825,-6.993340093555766,-4.711326343287584],\"xaxis\":\"x\",\"y\":[-1.7793411494679847,1.3925178647527496,5.1930812182770305,2.253611329021189,1.857382551665668,-2.8646182707630548,2.4385711656891007,5.920292775083879,0.652418533949575,-3.083829884364332,1.484122838082721,2.5323407079365237,1.675925816876518,4.865976276168843,1.816529657420323,0.3031087085141428,1.1816585182600092,-2.5338660971040614,2.682683788150828,0.28288755454494474,1.563415852125195,2.4087945933261454,2.801721766210042,3.4469630990637645,2.2419788606818036,-3.1704863763124016,-3.0071204438988235,2.0178477611105348,0.589748341788425,3.6737545430876413,1.7065686919220342,2.4747946874598155,-1.7861398640152484,-0.3004762190882286,-0.6039409473063805,-0.19671238493539572,4.140837288321314,0.983931979331541,-2.1369589429997884,-4.2862761826593525,0.6225401052133452,4.10430751357998,4.490989493427359,-1.1768365225542132,-0.23416982532553832,4.91253973874966,1.259201433439429,1.4091911004923081,4.365300490011122,4.907824929158501,-1.1194204283649187,0.13786600707147914,-2.030569631238487,-2.7628703752919637,-1.6237670197517606,1.7969821707294609,-4.078741539840359,0.18642049059142476,2.712100123654744,-0.3120486483636645,3.441405563408617,0.8109529494761649,4.507478102898828,-0.36001281421790465,-0.8009208457431729,1.4102165851260464,1.25715586202715,-2.692409666551719,1.336321333782185,1.4130349856950724,1.935781080113866,0.8451676103634176,0.8830257284999222,-4.116681747839416,5.0252402279170765,-4.287553278818699,7.24637408694083,-2.4105056422754854,-3.258761877745747,0.3780954676572407,3.14370283367591,-0.11696285555178591,2.7513060008008514,0.8125436614863636,-3.306170448567731,3.182556007147368,3.9694657813819876,4.72282115293271,3.776573906721875,-0.3197239647233034,3.7366362063370775,-2.523095800164014,-3.688930020267924,-1.679873301898512,3.0022431076014118,-1.5761987664981276,0.7497726015946958,2.829298363386724,4.151104940132585,0.24829666702762931],\"yaxis\":\"y\",\"type\":\"scatter\"},{\"hovertemplate\":\"<b>%{hovertext}</b><br><br>color=nyt<br>0=%{x}<br>1=%{y}<extra></extra>\",\"hovertext\":[\"2008-06-04\",\"2008-11-05\",\"2009-01-05\",\"2009-01-20\",\"2009-04-02\",\"2009-04-15\",\"2009-05-22\",\"2009-06-15\",\"2009-07-15\",\"2009-09-24\",\"2009-10-09\",\"2009-11-05\",\"2009-12-19\",\"2009-12-25\",\"2010-01-12\",\"2010-03-04\",\"2010-03-24\",\"2010-04-15\",\"2010-04-22\",\"2010-05-07\",\"2010-07-15\",\"2010-07-21\",\"2010-07-26\",\"2010-08-31\",\"2010-11-02\",\"2011-01-08\",\"2011-01-26\",\"2011-01-31\",\"2011-02-19\",\"2011-05-02\",\"2011-05-23\",\"2011-06-23\",\"2011-07-26\",\"2011-09-09\",\"2011-10-17\",\"2011-11-17\",\"2011-12-16\",\"2012-01-06\",\"2012-01-25\",\"2012-03-27\",\"2012-03-31\",\"2012-04-29\",\"2012-05-02\",\"2012-05-10\",\"2012-06-29\",\"2012-07-21\",\"2012-09-07\",\"2012-10-29\",\"2012-11-07\",\"2012-12-15\",\"2013-01-16\",\"2013-01-22\",\"2013-01-30\",\"2013-02-13\",\"2013-04-16\",\"2013-04-26\",\"2013-05-04\",\"2013-06-19\",\"2013-07-14\",\"2013-08-29\",\"2013-09-11\",\"2013-10-02\",\"2013-12-06\",\"2014-01-18\",\"2014-01-29\",\"2014-03-07\",\"2014-03-26\",\"2014-04-11\",\"2014-05-21\",\"2014-07-01\",\"2014-08-08\",\"2014-08-12\",\"2014-09-17\",\"2014-10-18\",\"2014-11-05\",\"2014-12-18\",\"2015-01-08\",\"2015-01-21\",\"2015-02-14\",\"2015-03-11\",\"2015-04-03\",\"2015-05-09\",\"2015-06-18\",\"2015-07-07\",\"2015-08-03\",\"2015-09-24\",\"2015-10-02\",\"2015-11-14\",\"2015-12-14\",\"2016-01-13\",\"2016-02-16\",\"2016-03-23\",\"2016-04-25\",\"2016-05-06\",\"2016-06-13\",\"2016-07-28\",\"2016-08-17\",\"2016-09-05\",\"2016-11-09\",\"2017-01-11\"],\"legendgroup\":\"nyt\",\"marker\":{\"color\":\"rgb(17, 165, 121)\",\"symbol\":\"circle\"},\"mode\":\"markers\",\"name\":\"nyt\",\"orientation\":\"v\",\"showlegend\":true,\"x\":[0.09463279786033174,1.0614309672515172,1.7769665888047121,0.3999773393984784,1.5294535077882474,1.9226914209056052,4.8888630723112,2.1407102114869465,5.730280080755577,4.771068553120119,0.24142981141344802,-1.8114662462057054,1.9942647831738793,2.025487521387569,-1.4018620211841917,2.774240912774777,-2.816027863394289,1.4045668352373288,-0.9653079297983786,-3.327752367014626,-2.9427565810636405,6.175145704695261,2.6875903529591305,3.2828661707228646,3.472934178116451,0.8512094524454739,-1.1419717586555007,2.0229359321924973,8.991153335119442,0.336323247406047,0.8154094892062067,3.157560156520277,1.9586574188801205,0.9905203102864578,-3.056742589598325,5.764568963521371,2.0816195721103745,6.028202067450671,4.338381736925093,4.096739136290767,2.7573780854739494,-0.7651596272079325,5.559889409617054,1.9482833623533973,1.9626828280114317,-0.3894790184591828,-0.7840588904922803,1.2292017005232234,1.5183976311237748,-1.34070035713415,3.545437552740008,0.5380926847007188,5.082538609672908,1.7678947602968809,-2.5445231731950426,-1.2625459529729208,6.631394396124356,4.166516469010241,0.27095010063607083,-1.0617760505068734,3.0899838690484187,0.9310282456506905,-3.387421802043983,4.573213399445073,-0.5214363610495548,5.819359936287624,3.5596937193084903,1.3750972291493557,3.9963453407938943,4.323825190261456,3.9688989371583507,-0.590775046747484,3.0472060510009396,-1.7051382553839582,1.7229730582101324,1.6723446943378784,0.5490867159622543,2.060516621852995,4.9996553581384555,0.800983954432692,4.505527882728407,-0.3869640774841952,-2.8260491921232798,5.071652186495039,2.491204906816971,1.8414615580831577,-4.03928371830926,0.32362693210625326,2.5603962921291408,5.487772113302803,1.315962061758399,2.248603590708307,3.2757562236660345,-0.36255235867304625,2.8731315450818364,-0.2064643840513911,0.5075970602917126,2.3010367462674943,3.9199178846225284,-0.10444417414299179],\"xaxis\":\"x\",\"y\":[-4.9165539172385895,-4.751429896624319,-3.4072784674722922,-2.235939097511634,-0.03422743503765615,-0.8925413088547295,0.7110425495554209,-3.620652511595291,-3.2541593455009914,-1.2406571653015812,-6.937402384233057,-4.881684103128731,-6.495689498704161,-0.4323016586142794,-4.534799429963122,-2.513013550279444,-3.064073904345625,-4.864552489195032,-0.7070170957846796,-2.944771456150273,-3.1994978583512226,-6.998531087019949,-6.8480200781333025,-4.172984809544934,0.8204506287530209,1.1943883290323847,-3.9136666589406066,-1.0467779749661386,16.568585218170856,0.25642228174879234,2.9140529644402955,-2.312554284591943,-2.578160029371871,-1.299143384554836,3.6354496528666207,-0.7453776272307392,1.527196170115975,-4.246584152619236,-3.5198349554419472,-0.14870397760721132,-0.41360186024969203,0.8637570315353962,-1.0468872194392982,-3.536529779312293,-0.5391082977611649,3.3997803545838816,-0.2785719492298418,2.2396160411292754,-3.5634219916172363,4.066831767797377,1.3818535616984857,-0.7137452663269888,-0.4660141198239616,-1.7096392910282574,-3.226814172908436,1.6624003804230536,-1.6841661319173011,-0.18204343104073414,3.7348440705660932,2.4133735401828016,-1.9649965363218993,-2.4757783534798987,-6.659490060719476,0.17317747382736295,-3.5956749821597405,1.4595936582537428,0.6396171604435275,2.4622685295986626,-1.9470182730841048,-4.240100013034213,0.6014832570333151,1.51987720943243,-0.9405169112532958,-0.09959807968197758,-4.6862777511511,-3.100334465019964,0.492544319024032,-2.52847017389189,3.7780123868479585,2.5487904007512903,-0.6623997358871527,1.3761577371085965,1.6102138743332965,-0.04925176138474547,-3.608559022992544,1.3059769616872372,0.5387326882834753,3.3442486331384886,-1.9624832638005196,1.476215036953129,0.4009110925368644,1.43708301604962,1.3811232519663703,2.2847127898157584,1.6686884321982784,-4.016815721286834,2.704310546528341,1.7845737075884898,0.0016368281894369656,0.13056659974149465],\"yaxis\":\"y\",\"type\":\"scatter\"},{\"hovertemplate\":\"<b>%{hovertext}</b><br><br>color=wsj<br>0=%{x}<br>1=%{y}<extra></extra>\",\"hovertext\":[\"2008-06-04\",\"2008-11-05\",\"2009-01-05\",\"2009-01-20\",\"2009-04-02\",\"2009-04-15\",\"2009-05-22\",\"2009-06-15\",\"2009-07-15\",\"2009-09-24\",\"2009-10-09\",\"2009-11-05\",\"2009-12-19\",\"2009-12-25\",\"2010-01-12\",\"2010-03-04\",\"2010-03-24\",\"2010-04-15\",\"2010-04-22\",\"2010-05-07\",\"2010-07-15\",\"2010-07-21\",\"2010-07-26\",\"2010-08-31\",\"2010-11-02\",\"2011-01-08\",\"2011-01-26\",\"2011-01-31\",\"2011-02-19\",\"2011-05-02\",\"2011-05-23\",\"2011-06-23\",\"2011-07-26\",\"2011-09-09\",\"2011-10-17\",\"2011-11-17\",\"2011-12-16\",\"2012-01-06\",\"2012-01-25\",\"2012-03-27\",\"2012-03-31\",\"2012-04-29\",\"2012-05-02\",\"2012-05-10\",\"2012-06-29\",\"2012-07-21\",\"2012-09-07\",\"2012-10-29\",\"2012-11-07\",\"2012-12-15\",\"2013-01-16\",\"2013-01-22\",\"2013-01-30\",\"2013-02-13\",\"2013-04-16\",\"2013-04-26\",\"2013-05-04\",\"2013-06-19\",\"2013-07-14\",\"2013-08-29\",\"2013-09-11\",\"2013-10-02\",\"2013-12-06\",\"2014-01-18\",\"2014-01-29\",\"2014-03-07\",\"2014-03-26\",\"2014-04-11\",\"2014-05-21\",\"2014-07-01\",\"2014-08-08\",\"2014-08-12\",\"2014-09-17\",\"2014-10-18\",\"2014-11-05\",\"2014-12-18\",\"2015-01-08\",\"2015-01-21\",\"2015-02-14\",\"2015-03-11\",\"2015-04-03\",\"2015-05-09\",\"2015-06-18\",\"2015-07-07\",\"2015-08-03\",\"2015-09-24\",\"2015-10-02\",\"2015-11-14\",\"2015-12-14\",\"2016-01-13\",\"2016-02-16\",\"2016-03-23\",\"2016-04-25\",\"2016-05-06\",\"2016-06-13\",\"2016-07-28\",\"2016-08-17\",\"2016-09-05\",\"2016-11-09\",\"2017-01-11\"],\"legendgroup\":\"wsj\",\"marker\":{\"color\":\"rgb(57, 105, 172)\",\"symbol\":\"circle\"},\"mode\":\"markers\",\"name\":\"wsj\",\"orientation\":\"v\",\"showlegend\":true,\"x\":[2.525180057647177,-0.3953176370605538,0.5273517551467284,-1.346544003111159,2.526180604342233,2.446813546499611,4.237684941234328,1.616065862297489,11.641759544745856,4.949767255927837,0.4320220564190517,2.0272936875124037,3.958378039907045,0.9447060187735136,-1.66611733532506,-0.2524304470331929,-0.3674106138807485,1.5805619891580924,-0.8246948655843098,1.239578657311422,-2.2986554404381603,0.6349879414250388,4.564802114010062,0.8024217724988801,2.4069318158155006,-0.6062742236300063,1.458203371865134,3.4653508262639146,0.6246164338070329,0.6097384386936437,-0.8971974813179385,0.1210719504733143,-0.034828171295223365,1.4603374227814783,-0.533089193713672,4.277330157718223,5.143349671242361,4.188895026762917,2.8219931254800037,5.021635937776652,2.795724433020294,1.1147304988927103,3.84511033376862,-0.48379207392757345,3.1479930459762717,0.6175330566853743,-2.7072832967631233,-1.0116667983346845,-1.2959780594222658,-0.8682629010092152,3.9593605773336757,1.6005998919868578,2.0929257360408453,2.6060948130553907,0.9027857900680195,2.564218420508226,2.3381552313089355,4.621109844902927,2.559578353471888,4.2472642104903935,5.231209544006107,4.2869820646243255,1.8684215193160114,5.031536820220458,2.453190606237661,3.8601090339881186,3.2070775832579463,2.4542996230097818,1.6243191226136577,3.6655197323086517,3.8223043156334984,0.6501535354222101,4.474626877007208,-1.2619810045725557,-0.16374431917680343,4.04849553282685,1.3394955325571205,4.442906869415275,3.060380059463719,3.3792549362121442,0.5517914239858615,3.843617781334375,-2.8921710146659367,4.999268449169415,1.5841407867934356,3.012178934956161,-1.4537592248764382,3.414647371099968,5.119660686442363,1.4730616356271153,4.3853983167639266,1.9290734519531434,4.387044027881681,0.8336617931000866,2.6802435477956807,-0.9313134539692858,-2.118230971187806,3.6329260790637035,-0.19842739568177367,4.20491567293787],\"xaxis\":\"x\",\"y\":[1.106161722260784,-2.0301035606732416,-2.0439956017064085,-0.8929246656814055,0.15765672394112107,-2.6058258457334063,-0.9628992322511422,-0.27725179176171905,1.8216492972158655,0.06078300288039398,-2.55424828496666,2.880793265198886,-0.22923135819925541,3.7939065245660615,-3.535503008495384,-1.1648384433630525,-1.372801642261436,-0.7717558917636084,-0.030518464467744286,-1.5438766738937013,1.6589558216600728,-2.346801191224745,0.40511516124453345,-1.3653236781421354,-0.19502473599205283,4.293972226996791,-2.826175573682473,-2.2843400606869193,-1.546673689949236,2.618608431242475,4.110729053701069,-1.5599763624012908,-1.7493438621289237,-3.10157992036406,-1.402957628885347,-3.407626427762226,0.13843555710229022,-1.4359366554325548,-2.8179529067953966,3.343234734303281,0.5059556009674185,2.913996104279304,0.7493627650529314,-2.0020617085876786,-1.1696189042109557,2.7647648791806922,-1.7342246348160695,1.1821915103440088,-1.4133729965177533,3.8390829501034154,0.6867313923340272,-2.3726470425060944,1.4542684892671163,-0.5772179378061466,3.5528086432439654,0.8409865688437842,-2.8259128054669254,-0.835433855451282,1.6746414768949107,-0.14653741081733798,-0.07092086977038792,0.379180926308053,0.8325878324593805,0.34259942152404893,-0.03798153527033957,-1.822351524019925,-1.5603291321742179,0.1711446426054488,-2.4202767981400424,-2.505071404450034,1.1627476152108744,3.3028707848637513,-0.00028903323830821274,-1.2160052498693996,-1.4963711323169697,-0.9331017700840071,0.8623868929415266,-2.4818133497155,1.8694918113032737,-2.360306292937177,-1.5543221076300866,0.8841348628633102,1.3738593546543127,0.14657342911000198,-2.9758625465651227,0.7098302637495546,2.334589983074249,1.8804337274412812,-3.4638396458548613,0.15905557905548806,0.38448508947140897,2.245945102742779,0.6800396250087398,2.707110115798334,1.6375927517979225,-0.6020821278097002,1.880011446013827,0.5552024876092192,-0.3167200831267448,-0.7894859093955404],\"yaxis\":\"y\",\"type\":\"scatter\"}],                        {\"template\":{\"data\":{\"histogram2dcontour\":[{\"type\":\"histogram2dcontour\",\"colorbar\":{\"outlinewidth\":0,\"ticks\":\"\"},\"colorscale\":[[0.0,\"#0d0887\"],[0.1111111111111111,\"#46039f\"],[0.2222222222222222,\"#7201a8\"],[0.3333333333333333,\"#9c179e\"],[0.4444444444444444,\"#bd3786\"],[0.5555555555555556,\"#d8576b\"],[0.6666666666666666,\"#ed7953\"],[0.7777777777777778,\"#fb9f3a\"],[0.8888888888888888,\"#fdca26\"],[1.0,\"#f0f921\"]]}],\"choropleth\":[{\"type\":\"choropleth\",\"colorbar\":{\"outlinewidth\":0,\"ticks\":\"\"}}],\"histogram2d\":[{\"type\":\"histogram2d\",\"colorbar\":{\"outlinewidth\":0,\"ticks\":\"\"},\"colorscale\":[[0.0,\"#0d0887\"],[0.1111111111111111,\"#46039f\"],[0.2222222222222222,\"#7201a8\"],[0.3333333333333333,\"#9c179e\"],[0.4444444444444444,\"#bd3786\"],[0.5555555555555556,\"#d8576b\"],[0.6666666666666666,\"#ed7953\"],[0.7777777777777778,\"#fb9f3a\"],[0.8888888888888888,\"#fdca26\"],[1.0,\"#f0f921\"]]}],\"heatmap\":[{\"type\":\"heatmap\",\"colorbar\":{\"outlinewidth\":0,\"ticks\":\"\"},\"colorscale\":[[0.0,\"#0d0887\"],[0.1111111111111111,\"#46039f\"],[0.2222222222222222,\"#7201a8\"],[0.3333333333333333,\"#9c179e\"],[0.4444444444444444,\"#bd3786\"],[0.5555555555555556,\"#d8576b\"],[0.6666666666666666,\"#ed7953\"],[0.7777777777777778,\"#fb9f3a\"],[0.8888888888888888,\"#fdca26\"],[1.0,\"#f0f921\"]]}],\"heatmapgl\":[{\"type\":\"heatmapgl\",\"colorbar\":{\"outlinewidth\":0,\"ticks\":\"\"},\"colorscale\":[[0.0,\"#0d0887\"],[0.1111111111111111,\"#46039f\"],[0.2222222222222222,\"#7201a8\"],[0.3333333333333333,\"#9c179e\"],[0.4444444444444444,\"#bd3786\"],[0.5555555555555556,\"#d8576b\"],[0.6666666666666666,\"#ed7953\"],[0.7777777777777778,\"#fb9f3a\"],[0.8888888888888888,\"#fdca26\"],[1.0,\"#f0f921\"]]}],\"contourcarpet\":[{\"type\":\"contourcarpet\",\"colorbar\":{\"outlinewidth\":0,\"ticks\":\"\"}}],\"contour\":[{\"type\":\"contour\",\"colorbar\":{\"outlinewidth\":0,\"ticks\":\"\"},\"colorscale\":[[0.0,\"#0d0887\"],[0.1111111111111111,\"#46039f\"],[0.2222222222222222,\"#7201a8\"],[0.3333333333333333,\"#9c179e\"],[0.4444444444444444,\"#bd3786\"],[0.5555555555555556,\"#d8576b\"],[0.6666666666666666,\"#ed7953\"],[0.7777777777777778,\"#fb9f3a\"],[0.8888888888888888,\"#fdca26\"],[1.0,\"#f0f921\"]]}],\"surface\":[{\"type\":\"surface\",\"colorbar\":{\"outlinewidth\":0,\"ticks\":\"\"},\"colorscale\":[[0.0,\"#0d0887\"],[0.1111111111111111,\"#46039f\"],[0.2222222222222222,\"#7201a8\"],[0.3333333333333333,\"#9c179e\"],[0.4444444444444444,\"#bd3786\"],[0.5555555555555556,\"#d8576b\"],[0.6666666666666666,\"#ed7953\"],[0.7777777777777778,\"#fb9f3a\"],[0.8888888888888888,\"#fdca26\"],[1.0,\"#f0f921\"]]}],\"mesh3d\":[{\"type\":\"mesh3d\",\"colorbar\":{\"outlinewidth\":0,\"ticks\":\"\"}}],\"scatter\":[{\"fillpattern\":{\"fillmode\":\"overlay\",\"size\":10,\"solidity\":0.2},\"type\":\"scatter\"}],\"parcoords\":[{\"type\":\"parcoords\",\"line\":{\"colorbar\":{\"outlinewidth\":0,\"ticks\":\"\"}}}],\"scatterpolargl\":[{\"type\":\"scatterpolargl\",\"marker\":{\"colorbar\":{\"outlinewidth\":0,\"ticks\":\"\"}}}],\"bar\":[{\"error_x\":{\"color\":\"#2a3f5f\"},\"error_y\":{\"color\":\"#2a3f5f\"},\"marker\":{\"line\":{\"color\":\"#E5ECF6\",\"width\":0.5},\"pattern\":{\"fillmode\":\"overlay\",\"size\":10,\"solidity\":0.2}},\"type\":\"bar\"}],\"scattergeo\":[{\"type\":\"scattergeo\",\"marker\":{\"colorbar\":{\"outlinewidth\":0,\"ticks\":\"\"}}}],\"scatterpolar\":[{\"type\":\"scatterpolar\",\"marker\":{\"colorbar\":{\"outlinewidth\":0,\"ticks\":\"\"}}}],\"histogram\":[{\"marker\":{\"pattern\":{\"fillmode\":\"overlay\",\"size\":10,\"solidity\":0.2}},\"type\":\"histogram\"}],\"scattergl\":[{\"type\":\"scattergl\",\"marker\":{\"colorbar\":{\"outlinewidth\":0,\"ticks\":\"\"}}}],\"scatter3d\":[{\"type\":\"scatter3d\",\"line\":{\"colorbar\":{\"outlinewidth\":0,\"ticks\":\"\"}},\"marker\":{\"colorbar\":{\"outlinewidth\":0,\"ticks\":\"\"}}}],\"scattermapbox\":[{\"type\":\"scattermapbox\",\"marker\":{\"colorbar\":{\"outlinewidth\":0,\"ticks\":\"\"}}}],\"scatterternary\":[{\"type\":\"scatterternary\",\"marker\":{\"colorbar\":{\"outlinewidth\":0,\"ticks\":\"\"}}}],\"scattercarpet\":[{\"type\":\"scattercarpet\",\"marker\":{\"colorbar\":{\"outlinewidth\":0,\"ticks\":\"\"}}}],\"carpet\":[{\"aaxis\":{\"endlinecolor\":\"#2a3f5f\",\"gridcolor\":\"white\",\"linecolor\":\"white\",\"minorgridcolor\":\"white\",\"startlinecolor\":\"#2a3f5f\"},\"baxis\":{\"endlinecolor\":\"#2a3f5f\",\"gridcolor\":\"white\",\"linecolor\":\"white\",\"minorgridcolor\":\"white\",\"startlinecolor\":\"#2a3f5f\"},\"type\":\"carpet\"}],\"table\":[{\"cells\":{\"fill\":{\"color\":\"#EBF0F8\"},\"line\":{\"color\":\"white\"}},\"header\":{\"fill\":{\"color\":\"#C8D4E3\"},\"line\":{\"color\":\"white\"}},\"type\":\"table\"}],\"barpolar\":[{\"marker\":{\"line\":{\"color\":\"#E5ECF6\",\"width\":0.5},\"pattern\":{\"fillmode\":\"overlay\",\"size\":10,\"solidity\":0.2}},\"type\":\"barpolar\"}],\"pie\":[{\"automargin\":true,\"type\":\"pie\"}]},\"layout\":{\"autotypenumbers\":\"strict\",\"colorway\":[\"#636efa\",\"#EF553B\",\"#00cc96\",\"#ab63fa\",\"#FFA15A\",\"#19d3f3\",\"#FF6692\",\"#B6E880\",\"#FF97FF\",\"#FECB52\"],\"font\":{\"color\":\"#2a3f5f\"},\"hovermode\":\"closest\",\"hoverlabel\":{\"align\":\"left\"},\"paper_bgcolor\":\"white\",\"plot_bgcolor\":\"#E5ECF6\",\"polar\":{\"bgcolor\":\"#E5ECF6\",\"angularaxis\":{\"gridcolor\":\"white\",\"linecolor\":\"white\",\"ticks\":\"\"},\"radialaxis\":{\"gridcolor\":\"white\",\"linecolor\":\"white\",\"ticks\":\"\"}},\"ternary\":{\"bgcolor\":\"#E5ECF6\",\"aaxis\":{\"gridcolor\":\"white\",\"linecolor\":\"white\",\"ticks\":\"\"},\"baxis\":{\"gridcolor\":\"white\",\"linecolor\":\"white\",\"ticks\":\"\"},\"caxis\":{\"gridcolor\":\"white\",\"linecolor\":\"white\",\"ticks\":\"\"}},\"coloraxis\":{\"colorbar\":{\"outlinewidth\":0,\"ticks\":\"\"}},\"colorscale\":{\"sequential\":[[0.0,\"#0d0887\"],[0.1111111111111111,\"#46039f\"],[0.2222222222222222,\"#7201a8\"],[0.3333333333333333,\"#9c179e\"],[0.4444444444444444,\"#bd3786\"],[0.5555555555555556,\"#d8576b\"],[0.6666666666666666,\"#ed7953\"],[0.7777777777777778,\"#fb9f3a\"],[0.8888888888888888,\"#fdca26\"],[1.0,\"#f0f921\"]],\"sequentialminus\":[[0.0,\"#0d0887\"],[0.1111111111111111,\"#46039f\"],[0.2222222222222222,\"#7201a8\"],[0.3333333333333333,\"#9c179e\"],[0.4444444444444444,\"#bd3786\"],[0.5555555555555556,\"#d8576b\"],[0.6666666666666666,\"#ed7953\"],[0.7777777777777778,\"#fb9f3a\"],[0.8888888888888888,\"#fdca26\"],[1.0,\"#f0f921\"]],\"diverging\":[[0,\"#8e0152\"],[0.1,\"#c51b7d\"],[0.2,\"#de77ae\"],[0.3,\"#f1b6da\"],[0.4,\"#fde0ef\"],[0.5,\"#f7f7f7\"],[0.6,\"#e6f5d0\"],[0.7,\"#b8e186\"],[0.8,\"#7fbc41\"],[0.9,\"#4d9221\"],[1,\"#276419\"]]},\"xaxis\":{\"gridcolor\":\"white\",\"linecolor\":\"white\",\"ticks\":\"\",\"title\":{\"standoff\":15},\"zerolinecolor\":\"white\",\"automargin\":true,\"zerolinewidth\":2},\"yaxis\":{\"gridcolor\":\"white\",\"linecolor\":\"white\",\"ticks\":\"\",\"title\":{\"standoff\":15},\"zerolinecolor\":\"white\",\"automargin\":true,\"zerolinewidth\":2},\"scene\":{\"xaxis\":{\"backgroundcolor\":\"#E5ECF6\",\"gridcolor\":\"white\",\"linecolor\":\"white\",\"showbackground\":true,\"ticks\":\"\",\"zerolinecolor\":\"white\",\"gridwidth\":2},\"yaxis\":{\"backgroundcolor\":\"#E5ECF6\",\"gridcolor\":\"white\",\"linecolor\":\"white\",\"showbackground\":true,\"ticks\":\"\",\"zerolinecolor\":\"white\",\"gridwidth\":2},\"zaxis\":{\"backgroundcolor\":\"#E5ECF6\",\"gridcolor\":\"white\",\"linecolor\":\"white\",\"showbackground\":true,\"ticks\":\"\",\"zerolinecolor\":\"white\",\"gridwidth\":2}},\"shapedefaults\":{\"line\":{\"color\":\"#2a3f5f\"}},\"annotationdefaults\":{\"arrowcolor\":\"#2a3f5f\",\"arrowhead\":0,\"arrowwidth\":1},\"geo\":{\"bgcolor\":\"white\",\"landcolor\":\"#E5ECF6\",\"subunitcolor\":\"white\",\"showland\":true,\"showlakes\":true,\"lakecolor\":\"white\"},\"title\":{\"x\":0.05},\"mapbox\":{\"style\":\"light\"}}},\"xaxis\":{\"anchor\":\"y\",\"domain\":[0.0,1.0],\"title\":{\"text\":\"PC1\"}},\"yaxis\":{\"anchor\":\"x\",\"domain\":[0.0,1.0],\"title\":{\"text\":\"PC2\"}},\"legend\":{\"title\":{\"text\":\"color\"},\"tracegroupgap\":0},\"title\":{\"text\":\"Principle Components Biplot\"}},                        {\"responsive\": true}                    ).then(function(){\n",
       "                            \n",
       "var gd = document.getElementById('18107d79-673e-4da9-9a40-d6a4e3e510e6');\n",
       "var x = new MutationObserver(function (mutations, observer) {{\n",
       "        var display = window.getComputedStyle(gd).display;\n",
       "        if (!display || display === 'none') {{\n",
       "            console.log([gd, 'removed!']);\n",
       "            Plotly.purge(gd);\n",
       "            observer.disconnect();\n",
       "        }}\n",
       "}});\n",
       "\n",
       "// Listen for the removal of the full notebook cells\n",
       "var notebookContainer = gd.closest('#notebook-container');\n",
       "if (notebookContainer) {{\n",
       "    x.observe(notebookContainer, {childList: true});\n",
       "}}\n",
       "\n",
       "// Listen for the clearing of the current output cell\n",
       "var outputEl = gd.closest('.output');\n",
       "if (outputEl) {{\n",
       "    x.observe(outputEl, {childList: true});\n",
       "}}\n",
       "\n",
       "                        })                };                });            </script>        </div>"
      ]
     },
     "metadata": {},
     "output_type": "display_data"
    }
   ],
   "source": [
    "fig = px.scatter(pcafit2, \n",
    "                 x=0, \n",
    "                 y=1, \n",
    "                 color=df_tidy['source'],\n",
    "                 hover_name=df_tidy['date'],\n",
    "                 color_discrete_sequence=px.colors.qualitative.Bold,\n",
    "                 title=\"Principle Components Biplot\")\n",
    "fig.update_layout(\n",
    "    xaxis_title=\"PC1\",\n",
    "    yaxis_title=\"PC2\")\n",
    "fig.show()"
   ]
  },
  {
   "cell_type": "code",
   "execution_count": 91,
   "id": "ddd51ad0",
   "metadata": {},
   "outputs": [
    {
     "name": "stdout",
     "output_type": "stream",
     "text": [
      "[0.33800732 0.17423761]\n"
     ]
    }
   ],
   "source": [
    "print(pca.explained_variance_ratio_)"
   ]
  },
  {
   "cell_type": "code",
   "execution_count": 92,
   "id": "58ef780f",
   "metadata": {},
   "outputs": [
    {
     "name": "stdout",
     "output_type": "stream",
     "text": [
      "[66.03252531 47.40954697]\n"
     ]
    }
   ],
   "source": [
    "print(pca.singular_values_)"
   ]
  },
  {
   "cell_type": "code",
   "execution_count": 93,
   "id": "9f489951",
   "metadata": {},
   "outputs": [
    {
     "data": {
      "text/html": [
       "<style type=\"text/css\">\n",
       "#T_39d2a_row0_col0, #T_39d2a_row0_col1, #T_39d2a_row0_col2, #T_39d2a_row0_col3, #T_39d2a_row0_col4, #T_39d2a_row0_col5, #T_39d2a_row0_col6, #T_39d2a_row0_col7, #T_39d2a_row0_col8, #T_39d2a_row0_col9, #T_39d2a_row0_col10, #T_39d2a_row0_col11, #T_39d2a_row0_col12, #T_39d2a_row0_col13, #T_39d2a_row0_col14, #T_39d2a_row0_col15, #T_39d2a_row0_col16, #T_39d2a_row0_col17, #T_39d2a_row0_col18, #T_39d2a_row0_col19, #T_39d2a_row0_col20, #T_39d2a_row0_col21, #T_39d2a_row0_col22, #T_39d2a_row0_col23, #T_39d2a_row0_col24, #T_39d2a_row0_col25, #T_39d2a_row0_col26, #T_39d2a_row0_col27, #T_39d2a_row0_col28, #T_39d2a_row1_col0, #T_39d2a_row1_col1, #T_39d2a_row1_col2, #T_39d2a_row1_col3, #T_39d2a_row1_col4, #T_39d2a_row1_col6, #T_39d2a_row1_col7, #T_39d2a_row1_col8, #T_39d2a_row1_col9, #T_39d2a_row1_col10, #T_39d2a_row1_col11, #T_39d2a_row1_col12, #T_39d2a_row1_col13, #T_39d2a_row1_col14, #T_39d2a_row1_col15, #T_39d2a_row1_col16, #T_39d2a_row1_col17, #T_39d2a_row1_col18, #T_39d2a_row1_col19, #T_39d2a_row1_col29, #T_39d2a_row1_col30, #T_39d2a_row1_col31, #T_39d2a_row1_col32, #T_39d2a_row1_col33, #T_39d2a_row1_col34, #T_39d2a_row1_col35, #T_39d2a_row1_col36, #T_39d2a_row1_col37, #T_39d2a_row1_col38, #T_39d2a_row1_col39, #T_39d2a_row1_col40, #T_39d2a_row1_col41, #T_39d2a_row1_col42 {\n",
       "  font-weight: ;\n",
       "}\n",
       "#T_39d2a_row0_col29, #T_39d2a_row0_col30, #T_39d2a_row0_col31, #T_39d2a_row0_col32, #T_39d2a_row0_col33, #T_39d2a_row0_col34, #T_39d2a_row0_col35, #T_39d2a_row0_col36, #T_39d2a_row0_col37, #T_39d2a_row0_col38, #T_39d2a_row0_col39, #T_39d2a_row0_col40, #T_39d2a_row0_col41, #T_39d2a_row0_col42, #T_39d2a_row1_col5, #T_39d2a_row1_col20, #T_39d2a_row1_col21, #T_39d2a_row1_col22, #T_39d2a_row1_col23, #T_39d2a_row1_col24, #T_39d2a_row1_col25, #T_39d2a_row1_col26, #T_39d2a_row1_col27, #T_39d2a_row1_col28 {\n",
       "  font-weight: bold;\n",
       "}\n",
       "</style>\n",
       "<table id=\"T_39d2a\">\n",
       "  <thead>\n",
       "    <tr>\n",
       "      <th class=\"blank level0\" >&nbsp;</th>\n",
       "      <th id=\"T_39d2a_level0_col0\" class=\"col_heading level0 col0\" >INTJ</th>\n",
       "      <th id=\"T_39d2a_level0_col1\" class=\"col_heading level0 col1\" >num_unique_words</th>\n",
       "      <th id=\"T_39d2a_level0_col2\" class=\"col_heading level0 col2\" >joy</th>\n",
       "      <th id=\"T_39d2a_level0_col3\" class=\"col_heading level0 col3\" >TBpolarity</th>\n",
       "      <th id=\"T_39d2a_level0_col4\" class=\"col_heading level0 col4\" >TBsubjectivity</th>\n",
       "      <th id=\"T_39d2a_level0_col5\" class=\"col_heading level0 col5\" >SYM</th>\n",
       "      <th id=\"T_39d2a_level0_col6\" class=\"col_heading level0 col6\" >anticipation</th>\n",
       "      <th id=\"T_39d2a_level0_col7\" class=\"col_heading level0 col7\" >surprise</th>\n",
       "      <th id=\"T_39d2a_level0_col8\" class=\"col_heading level0 col8\" >sadness</th>\n",
       "      <th id=\"T_39d2a_level0_col9\" class=\"col_heading level0 col9\" >positive</th>\n",
       "      <th id=\"T_39d2a_level0_col10\" class=\"col_heading level0 col10\" >disgust</th>\n",
       "      <th id=\"T_39d2a_level0_col11\" class=\"col_heading level0 col11\" >trust</th>\n",
       "      <th id=\"T_39d2a_level0_col12\" class=\"col_heading level0 col12\" >SCONJ</th>\n",
       "      <th id=\"T_39d2a_level0_col13\" class=\"col_heading level0 col13\" >ADV</th>\n",
       "      <th id=\"T_39d2a_level0_col14\" class=\"col_heading level0 col14\" >NUM</th>\n",
       "      <th id=\"T_39d2a_level0_col15\" class=\"col_heading level0 col15\" >anger</th>\n",
       "      <th id=\"T_39d2a_level0_col16\" class=\"col_heading level0 col16\" >PRON</th>\n",
       "      <th id=\"T_39d2a_level0_col17\" class=\"col_heading level0 col17\" >negative</th>\n",
       "      <th id=\"T_39d2a_level0_col18\" class=\"col_heading level0 col18\" >fear</th>\n",
       "      <th id=\"T_39d2a_level0_col19\" class=\"col_heading level0 col19\" >CCONJ</th>\n",
       "      <th id=\"T_39d2a_level0_col20\" class=\"col_heading level0 col20\" >AUX</th>\n",
       "      <th id=\"T_39d2a_level0_col21\" class=\"col_heading level0 col21\" >PROPN</th>\n",
       "      <th id=\"T_39d2a_level0_col22\" class=\"col_heading level0 col22\" >PART</th>\n",
       "      <th id=\"T_39d2a_level0_col23\" class=\"col_heading level0 col23\" >ADP</th>\n",
       "      <th id=\"T_39d2a_level0_col24\" class=\"col_heading level0 col24\" >VERB</th>\n",
       "      <th id=\"T_39d2a_level0_col25\" class=\"col_heading level0 col25\" >PUNCT</th>\n",
       "      <th id=\"T_39d2a_level0_col26\" class=\"col_heading level0 col26\" >ADJ</th>\n",
       "      <th id=\"T_39d2a_level0_col27\" class=\"col_heading level0 col27\" >DET</th>\n",
       "      <th id=\"T_39d2a_level0_col28\" class=\"col_heading level0 col28\" >NOUN</th>\n",
       "      <th id=\"T_39d2a_level0_col29\" class=\"col_heading level0 col29\" >word_per_sent</th>\n",
       "      <th id=\"T_39d2a_level0_col30\" class=\"col_heading level0 col30\" >words_per_sentence</th>\n",
       "      <th id=\"T_39d2a_level0_col31\" class=\"col_heading level0 col31\" >dc_word_perc</th>\n",
       "      <th id=\"T_39d2a_level0_col32\" class=\"col_heading level0 col32\" >gf_word_perc</th>\n",
       "      <th id=\"T_39d2a_level0_col33\" class=\"col_heading level0 col33\" >depth</th>\n",
       "      <th id=\"T_39d2a_level0_col34\" class=\"col_heading level0 col34\" >poly_word_perc</th>\n",
       "      <th id=\"T_39d2a_level0_col35\" class=\"col_heading level0 col35\" >dale_chall</th>\n",
       "      <th id=\"T_39d2a_level0_col36\" class=\"col_heading level0 col36\" >gunning_fog</th>\n",
       "      <th id=\"T_39d2a_level0_col37\" class=\"col_heading level0 col37\" >char_per_word</th>\n",
       "      <th id=\"T_39d2a_level0_col38\" class=\"col_heading level0 col38\" >syl_per_word</th>\n",
       "      <th id=\"T_39d2a_level0_col39\" class=\"col_heading level0 col39\" >ari</th>\n",
       "      <th id=\"T_39d2a_level0_col40\" class=\"col_heading level0 col40\" >smog</th>\n",
       "      <th id=\"T_39d2a_level0_col41\" class=\"col_heading level0 col41\" >flesch_kincaid</th>\n",
       "      <th id=\"T_39d2a_level0_col42\" class=\"col_heading level0 col42\" >coleman_liau</th>\n",
       "    </tr>\n",
       "  </thead>\n",
       "  <tbody>\n",
       "    <tr>\n",
       "      <th id=\"T_39d2a_level0_row0\" class=\"row_heading level0 row0\" >PC1</th>\n",
       "      <td id=\"T_39d2a_row0_col0\" class=\"data row0 col0\" >-0.167020</td>\n",
       "      <td id=\"T_39d2a_row0_col1\" class=\"data row0 col1\" >-0.132444</td>\n",
       "      <td id=\"T_39d2a_row0_col2\" class=\"data row0 col2\" >-0.132269</td>\n",
       "      <td id=\"T_39d2a_row0_col3\" class=\"data row0 col3\" >-0.129103</td>\n",
       "      <td id=\"T_39d2a_row0_col4\" class=\"data row0 col4\" >-0.126149</td>\n",
       "      <td id=\"T_39d2a_row0_col5\" class=\"data row0 col5\" >-0.073157</td>\n",
       "      <td id=\"T_39d2a_row0_col6\" class=\"data row0 col6\" >-0.065939</td>\n",
       "      <td id=\"T_39d2a_row0_col7\" class=\"data row0 col7\" >-0.037702</td>\n",
       "      <td id=\"T_39d2a_row0_col8\" class=\"data row0 col8\" >-0.012965</td>\n",
       "      <td id=\"T_39d2a_row0_col9\" class=\"data row0 col9\" >-0.005148</td>\n",
       "      <td id=\"T_39d2a_row0_col10\" class=\"data row0 col10\" >-0.001795</td>\n",
       "      <td id=\"T_39d2a_row0_col11\" class=\"data row0 col11\" >0.005319</td>\n",
       "      <td id=\"T_39d2a_row0_col12\" class=\"data row0 col12\" >0.016202</td>\n",
       "      <td id=\"T_39d2a_row0_col13\" class=\"data row0 col13\" >0.021169</td>\n",
       "      <td id=\"T_39d2a_row0_col14\" class=\"data row0 col14\" >0.023487</td>\n",
       "      <td id=\"T_39d2a_row0_col15\" class=\"data row0 col15\" >0.050428</td>\n",
       "      <td id=\"T_39d2a_row0_col16\" class=\"data row0 col16\" >0.053226</td>\n",
       "      <td id=\"T_39d2a_row0_col17\" class=\"data row0 col17\" >0.056491</td>\n",
       "      <td id=\"T_39d2a_row0_col18\" class=\"data row0 col18\" >0.069414</td>\n",
       "      <td id=\"T_39d2a_row0_col19\" class=\"data row0 col19\" >0.115504</td>\n",
       "      <td id=\"T_39d2a_row0_col20\" class=\"data row0 col20\" >0.143954</td>\n",
       "      <td id=\"T_39d2a_row0_col21\" class=\"data row0 col21\" >0.144245</td>\n",
       "      <td id=\"T_39d2a_row0_col22\" class=\"data row0 col22\" >0.155025</td>\n",
       "      <td id=\"T_39d2a_row0_col23\" class=\"data row0 col23\" >0.167701</td>\n",
       "      <td id=\"T_39d2a_row0_col24\" class=\"data row0 col24\" >0.168216</td>\n",
       "      <td id=\"T_39d2a_row0_col25\" class=\"data row0 col25\" >0.168301</td>\n",
       "      <td id=\"T_39d2a_row0_col26\" class=\"data row0 col26\" >0.168391</td>\n",
       "      <td id=\"T_39d2a_row0_col27\" class=\"data row0 col27\" >0.169595</td>\n",
       "      <td id=\"T_39d2a_row0_col28\" class=\"data row0 col28\" >0.173988</td>\n",
       "      <td id=\"T_39d2a_row0_col29\" class=\"data row0 col29\" >0.183866</td>\n",
       "      <td id=\"T_39d2a_row0_col30\" class=\"data row0 col30\" >0.189563</td>\n",
       "      <td id=\"T_39d2a_row0_col31\" class=\"data row0 col31\" >0.199262</td>\n",
       "      <td id=\"T_39d2a_row0_col32\" class=\"data row0 col32\" >0.203023</td>\n",
       "      <td id=\"T_39d2a_row0_col33\" class=\"data row0 col33\" >0.206478</td>\n",
       "      <td id=\"T_39d2a_row0_col34\" class=\"data row0 col34\" >0.209358</td>\n",
       "      <td id=\"T_39d2a_row0_col35\" class=\"data row0 col35\" >0.214998</td>\n",
       "      <td id=\"T_39d2a_row0_col36\" class=\"data row0 col36\" >0.216969</td>\n",
       "      <td id=\"T_39d2a_row0_col37\" class=\"data row0 col37\" >0.218860</td>\n",
       "      <td id=\"T_39d2a_row0_col38\" class=\"data row0 col38\" >0.219050</td>\n",
       "      <td id=\"T_39d2a_row0_col39\" class=\"data row0 col39\" >0.221974</td>\n",
       "      <td id=\"T_39d2a_row0_col40\" class=\"data row0 col40\" >0.223523</td>\n",
       "      <td id=\"T_39d2a_row0_col41\" class=\"data row0 col41\" >0.224120</td>\n",
       "      <td id=\"T_39d2a_row0_col42\" class=\"data row0 col42\" >0.227326</td>\n",
       "    </tr>\n",
       "    <tr>\n",
       "      <th id=\"T_39d2a_level0_row1\" class=\"row_heading level0 row1\" >PC2</th>\n",
       "      <td id=\"T_39d2a_row1_col0\" class=\"data row1 col0\" >-0.104625</td>\n",
       "      <td id=\"T_39d2a_row1_col1\" class=\"data row1 col1\" >-0.094602</td>\n",
       "      <td id=\"T_39d2a_row1_col2\" class=\"data row1 col2\" >0.026973</td>\n",
       "      <td id=\"T_39d2a_row1_col3\" class=\"data row1 col3\" >0.000585</td>\n",
       "      <td id=\"T_39d2a_row1_col4\" class=\"data row1 col4\" >0.057694</td>\n",
       "      <td id=\"T_39d2a_row1_col5\" class=\"data row1 col5\" >-0.213439</td>\n",
       "      <td id=\"T_39d2a_row1_col6\" class=\"data row1 col6\" >-0.022706</td>\n",
       "      <td id=\"T_39d2a_row1_col7\" class=\"data row1 col7\" >0.004712</td>\n",
       "      <td id=\"T_39d2a_row1_col8\" class=\"data row1 col8\" >-0.011963</td>\n",
       "      <td id=\"T_39d2a_row1_col9\" class=\"data row1 col9\" >-0.005324</td>\n",
       "      <td id=\"T_39d2a_row1_col10\" class=\"data row1 col10\" >0.005430</td>\n",
       "      <td id=\"T_39d2a_row1_col11\" class=\"data row1 col11\" >-0.027861</td>\n",
       "      <td id=\"T_39d2a_row1_col12\" class=\"data row1 col12\" >0.030459</td>\n",
       "      <td id=\"T_39d2a_row1_col13\" class=\"data row1 col13\" >0.035742</td>\n",
       "      <td id=\"T_39d2a_row1_col14\" class=\"data row1 col14\" >-0.113038</td>\n",
       "      <td id=\"T_39d2a_row1_col15\" class=\"data row1 col15\" >0.016100</td>\n",
       "      <td id=\"T_39d2a_row1_col16\" class=\"data row1 col16\" >0.057522</td>\n",
       "      <td id=\"T_39d2a_row1_col17\" class=\"data row1 col17\" >-0.021456</td>\n",
       "      <td id=\"T_39d2a_row1_col18\" class=\"data row1 col18\" >0.039992</td>\n",
       "      <td id=\"T_39d2a_row1_col19\" class=\"data row1 col19\" >0.162808</td>\n",
       "      <td id=\"T_39d2a_row1_col20\" class=\"data row1 col20\" >0.258094</td>\n",
       "      <td id=\"T_39d2a_row1_col21\" class=\"data row1 col21\" >0.204661</td>\n",
       "      <td id=\"T_39d2a_row1_col22\" class=\"data row1 col22\" >0.239667</td>\n",
       "      <td id=\"T_39d2a_row1_col23\" class=\"data row1 col23\" >0.264102</td>\n",
       "      <td id=\"T_39d2a_row1_col24\" class=\"data row1 col24\" >0.269095</td>\n",
       "      <td id=\"T_39d2a_row1_col25\" class=\"data row1 col25\" >0.262491</td>\n",
       "      <td id=\"T_39d2a_row1_col26\" class=\"data row1 col26\" >0.249891</td>\n",
       "      <td id=\"T_39d2a_row1_col27\" class=\"data row1 col27\" >0.264945</td>\n",
       "      <td id=\"T_39d2a_row1_col28\" class=\"data row1 col28\" >0.259209</td>\n",
       "      <td id=\"T_39d2a_row1_col29\" class=\"data row1 col29\" >-0.171505</td>\n",
       "      <td id=\"T_39d2a_row1_col30\" class=\"data row1 col30\" >-0.164969</td>\n",
       "      <td id=\"T_39d2a_row1_col31\" class=\"data row1 col31\" >-0.090393</td>\n",
       "      <td id=\"T_39d2a_row1_col32\" class=\"data row1 col32\" >-0.140303</td>\n",
       "      <td id=\"T_39d2a_row1_col33\" class=\"data row1 col33\" >-0.121135</td>\n",
       "      <td id=\"T_39d2a_row1_col34\" class=\"data row1 col34\" >-0.134169</td>\n",
       "      <td id=\"T_39d2a_row1_col35\" class=\"data row1 col35\" >-0.170053</td>\n",
       "      <td id=\"T_39d2a_row1_col36\" class=\"data row1 col36\" >-0.179448</td>\n",
       "      <td id=\"T_39d2a_row1_col37\" class=\"data row1 col37\" >-0.107936</td>\n",
       "      <td id=\"T_39d2a_row1_col38\" class=\"data row1 col38\" >-0.115903</td>\n",
       "      <td id=\"T_39d2a_row1_col39\" class=\"data row1 col39\" >-0.169312</td>\n",
       "      <td id=\"T_39d2a_row1_col40\" class=\"data row1 col40\" >-0.171812</td>\n",
       "      <td id=\"T_39d2a_row1_col41\" class=\"data row1 col41\" >-0.168814</td>\n",
       "      <td id=\"T_39d2a_row1_col42\" class=\"data row1 col42\" >-0.122389</td>\n",
       "    </tr>\n",
       "  </tbody>\n",
       "</table>\n"
      ],
      "text/plain": [
       "<pandas.io.formats.style.Styler at 0x7fa64412ec80>"
      ]
     },
     "execution_count": 93,
     "metadata": {},
     "output_type": "execute_result"
    }
   ],
   "source": [
    "loadings=pd.DataFrame(pca.components_.T, columns=['PC1', 'PC2'], index=pca_data.columns)\n",
    "loadings=loadings.sort_values(by='PC1')\n",
    "def large_bold(val):\n",
    "    bold = 'bold' if abs(val) > 0.18 else ''\n",
    "    return 'font-weight: %s' % bold\n",
    "loadings.T.style.applymap(large_bold) # .T makes it wide instead of tall"
   ]
  },
  {
   "cell_type": "code",
   "execution_count": 94,
   "id": "3103c96b",
   "metadata": {},
   "outputs": [
    {
     "data": {
      "application/vnd.plotly.v1+json": {
       "config": {
        "plotlyServerURL": "https://plot.ly"
       },
       "data": [
        {
         "alignmentgroup": "True",
         "hovertemplate": "index=%{x}<br>PC1=%{marker.color}<extra></extra>",
         "legendgroup": "",
         "marker": {
          "color": [
           -0.1670202815401451,
           -0.13244368829342568,
           -0.13226855664550008,
           -0.1291029806105013,
           -0.12614946784203956,
           -0.07315656659362049,
           -0.06593902196996515,
           -0.037701668032674066,
           -0.01296546083185503,
           -0.005148427987197973,
           -0.0017947737702531722,
           0.005318986172787857,
           0.016201938561038718,
           0.021168667766976124,
           0.023487446894630736,
           0.050428319300498396,
           0.05322594217440367,
           0.05649140479060223,
           0.06941447801291958,
           0.11550416097852813,
           0.14395402747913755,
           0.144244823634871,
           0.15502542484282847,
           0.16770121809130956,
           0.1682162718767743,
           0.16830117845458017,
           0.16839137877773944,
           0.1695953406705407,
           0.17398757099684092,
           0.1838659969430174,
           0.18956311876521748,
           0.1992619662484497,
           0.20302263153015787,
           0.20647755904657727,
           0.20935767553500578,
           0.21499825066788558,
           0.21696862777147347,
           0.2188601869401943,
           0.2190502702694547,
           0.22197380971569833,
           0.2235231003033478,
           0.2241197996441233,
           0.2273262335869928
          ],
          "coloraxis": "coloraxis",
          "pattern": {
           "shape": ""
          }
         },
         "name": "",
         "offsetgroup": "",
         "orientation": "v",
         "showlegend": false,
         "textposition": "auto",
         "type": "bar",
         "x": [
          "INTJ",
          "num_unique_words",
          "joy",
          "TBpolarity",
          "TBsubjectivity",
          "SYM",
          "anticipation",
          "surprise",
          "sadness",
          "positive",
          "disgust",
          "trust",
          "SCONJ",
          "ADV",
          "NUM",
          "anger",
          "PRON",
          "negative",
          "fear",
          "CCONJ",
          "AUX",
          "PROPN",
          "PART",
          "ADP",
          "VERB",
          "PUNCT",
          "ADJ",
          "DET",
          "NOUN",
          "word_per_sent",
          "words_per_sentence",
          "dc_word_perc",
          "gf_word_perc",
          "depth",
          "poly_word_perc",
          "dale_chall",
          "gunning_fog",
          "char_per_word",
          "syl_per_word",
          "ari",
          "smog",
          "flesch_kincaid",
          "coleman_liau"
         ],
         "xaxis": "x",
         "y": [
          -0.1670202815401451,
          -0.13244368829342568,
          -0.13226855664550008,
          -0.1291029806105013,
          -0.12614946784203956,
          -0.07315656659362049,
          -0.06593902196996515,
          -0.037701668032674066,
          -0.01296546083185503,
          -0.005148427987197973,
          -0.0017947737702531722,
          0.005318986172787857,
          0.016201938561038718,
          0.021168667766976124,
          0.023487446894630736,
          0.050428319300498396,
          0.05322594217440367,
          0.05649140479060223,
          0.06941447801291958,
          0.11550416097852813,
          0.14395402747913755,
          0.144244823634871,
          0.15502542484282847,
          0.16770121809130956,
          0.1682162718767743,
          0.16830117845458017,
          0.16839137877773944,
          0.1695953406705407,
          0.17398757099684092,
          0.1838659969430174,
          0.18956311876521748,
          0.1992619662484497,
          0.20302263153015787,
          0.20647755904657727,
          0.20935767553500578,
          0.21499825066788558,
          0.21696862777147347,
          0.2188601869401943,
          0.2190502702694547,
          0.22197380971569833,
          0.2235231003033478,
          0.2241197996441233,
          0.2273262335869928
         ],
         "yaxis": "y"
        }
       ],
       "layout": {
        "barmode": "relative",
        "coloraxis": {
         "colorbar": {
          "title": {
           "text": "PC1"
          }
         },
         "colorscale": [
          [
           0,
           "#0d0887"
          ],
          [
           0.1111111111111111,
           "#46039f"
          ],
          [
           0.2222222222222222,
           "#7201a8"
          ],
          [
           0.3333333333333333,
           "#9c179e"
          ],
          [
           0.4444444444444444,
           "#bd3786"
          ],
          [
           0.5555555555555556,
           "#d8576b"
          ],
          [
           0.6666666666666666,
           "#ed7953"
          ],
          [
           0.7777777777777778,
           "#fb9f3a"
          ],
          [
           0.8888888888888888,
           "#fdca26"
          ],
          [
           1,
           "#f0f921"
          ]
         ]
        },
        "legend": {
         "tracegroupgap": 0
        },
        "template": {
         "data": {
          "bar": [
           {
            "error_x": {
             "color": "#2a3f5f"
            },
            "error_y": {
             "color": "#2a3f5f"
            },
            "marker": {
             "line": {
              "color": "#E5ECF6",
              "width": 0.5
             },
             "pattern": {
              "fillmode": "overlay",
              "size": 10,
              "solidity": 0.2
             }
            },
            "type": "bar"
           }
          ],
          "barpolar": [
           {
            "marker": {
             "line": {
              "color": "#E5ECF6",
              "width": 0.5
             },
             "pattern": {
              "fillmode": "overlay",
              "size": 10,
              "solidity": 0.2
             }
            },
            "type": "barpolar"
           }
          ],
          "carpet": [
           {
            "aaxis": {
             "endlinecolor": "#2a3f5f",
             "gridcolor": "white",
             "linecolor": "white",
             "minorgridcolor": "white",
             "startlinecolor": "#2a3f5f"
            },
            "baxis": {
             "endlinecolor": "#2a3f5f",
             "gridcolor": "white",
             "linecolor": "white",
             "minorgridcolor": "white",
             "startlinecolor": "#2a3f5f"
            },
            "type": "carpet"
           }
          ],
          "choropleth": [
           {
            "colorbar": {
             "outlinewidth": 0,
             "ticks": ""
            },
            "type": "choropleth"
           }
          ],
          "contour": [
           {
            "colorbar": {
             "outlinewidth": 0,
             "ticks": ""
            },
            "colorscale": [
             [
              0,
              "#0d0887"
             ],
             [
              0.1111111111111111,
              "#46039f"
             ],
             [
              0.2222222222222222,
              "#7201a8"
             ],
             [
              0.3333333333333333,
              "#9c179e"
             ],
             [
              0.4444444444444444,
              "#bd3786"
             ],
             [
              0.5555555555555556,
              "#d8576b"
             ],
             [
              0.6666666666666666,
              "#ed7953"
             ],
             [
              0.7777777777777778,
              "#fb9f3a"
             ],
             [
              0.8888888888888888,
              "#fdca26"
             ],
             [
              1,
              "#f0f921"
             ]
            ],
            "type": "contour"
           }
          ],
          "contourcarpet": [
           {
            "colorbar": {
             "outlinewidth": 0,
             "ticks": ""
            },
            "type": "contourcarpet"
           }
          ],
          "heatmap": [
           {
            "colorbar": {
             "outlinewidth": 0,
             "ticks": ""
            },
            "colorscale": [
             [
              0,
              "#0d0887"
             ],
             [
              0.1111111111111111,
              "#46039f"
             ],
             [
              0.2222222222222222,
              "#7201a8"
             ],
             [
              0.3333333333333333,
              "#9c179e"
             ],
             [
              0.4444444444444444,
              "#bd3786"
             ],
             [
              0.5555555555555556,
              "#d8576b"
             ],
             [
              0.6666666666666666,
              "#ed7953"
             ],
             [
              0.7777777777777778,
              "#fb9f3a"
             ],
             [
              0.8888888888888888,
              "#fdca26"
             ],
             [
              1,
              "#f0f921"
             ]
            ],
            "type": "heatmap"
           }
          ],
          "heatmapgl": [
           {
            "colorbar": {
             "outlinewidth": 0,
             "ticks": ""
            },
            "colorscale": [
             [
              0,
              "#0d0887"
             ],
             [
              0.1111111111111111,
              "#46039f"
             ],
             [
              0.2222222222222222,
              "#7201a8"
             ],
             [
              0.3333333333333333,
              "#9c179e"
             ],
             [
              0.4444444444444444,
              "#bd3786"
             ],
             [
              0.5555555555555556,
              "#d8576b"
             ],
             [
              0.6666666666666666,
              "#ed7953"
             ],
             [
              0.7777777777777778,
              "#fb9f3a"
             ],
             [
              0.8888888888888888,
              "#fdca26"
             ],
             [
              1,
              "#f0f921"
             ]
            ],
            "type": "heatmapgl"
           }
          ],
          "histogram": [
           {
            "marker": {
             "pattern": {
              "fillmode": "overlay",
              "size": 10,
              "solidity": 0.2
             }
            },
            "type": "histogram"
           }
          ],
          "histogram2d": [
           {
            "colorbar": {
             "outlinewidth": 0,
             "ticks": ""
            },
            "colorscale": [
             [
              0,
              "#0d0887"
             ],
             [
              0.1111111111111111,
              "#46039f"
             ],
             [
              0.2222222222222222,
              "#7201a8"
             ],
             [
              0.3333333333333333,
              "#9c179e"
             ],
             [
              0.4444444444444444,
              "#bd3786"
             ],
             [
              0.5555555555555556,
              "#d8576b"
             ],
             [
              0.6666666666666666,
              "#ed7953"
             ],
             [
              0.7777777777777778,
              "#fb9f3a"
             ],
             [
              0.8888888888888888,
              "#fdca26"
             ],
             [
              1,
              "#f0f921"
             ]
            ],
            "type": "histogram2d"
           }
          ],
          "histogram2dcontour": [
           {
            "colorbar": {
             "outlinewidth": 0,
             "ticks": ""
            },
            "colorscale": [
             [
              0,
              "#0d0887"
             ],
             [
              0.1111111111111111,
              "#46039f"
             ],
             [
              0.2222222222222222,
              "#7201a8"
             ],
             [
              0.3333333333333333,
              "#9c179e"
             ],
             [
              0.4444444444444444,
              "#bd3786"
             ],
             [
              0.5555555555555556,
              "#d8576b"
             ],
             [
              0.6666666666666666,
              "#ed7953"
             ],
             [
              0.7777777777777778,
              "#fb9f3a"
             ],
             [
              0.8888888888888888,
              "#fdca26"
             ],
             [
              1,
              "#f0f921"
             ]
            ],
            "type": "histogram2dcontour"
           }
          ],
          "mesh3d": [
           {
            "colorbar": {
             "outlinewidth": 0,
             "ticks": ""
            },
            "type": "mesh3d"
           }
          ],
          "parcoords": [
           {
            "line": {
             "colorbar": {
              "outlinewidth": 0,
              "ticks": ""
             }
            },
            "type": "parcoords"
           }
          ],
          "pie": [
           {
            "automargin": true,
            "type": "pie"
           }
          ],
          "scatter": [
           {
            "fillpattern": {
             "fillmode": "overlay",
             "size": 10,
             "solidity": 0.2
            },
            "type": "scatter"
           }
          ],
          "scatter3d": [
           {
            "line": {
             "colorbar": {
              "outlinewidth": 0,
              "ticks": ""
             }
            },
            "marker": {
             "colorbar": {
              "outlinewidth": 0,
              "ticks": ""
             }
            },
            "type": "scatter3d"
           }
          ],
          "scattercarpet": [
           {
            "marker": {
             "colorbar": {
              "outlinewidth": 0,
              "ticks": ""
             }
            },
            "type": "scattercarpet"
           }
          ],
          "scattergeo": [
           {
            "marker": {
             "colorbar": {
              "outlinewidth": 0,
              "ticks": ""
             }
            },
            "type": "scattergeo"
           }
          ],
          "scattergl": [
           {
            "marker": {
             "colorbar": {
              "outlinewidth": 0,
              "ticks": ""
             }
            },
            "type": "scattergl"
           }
          ],
          "scattermapbox": [
           {
            "marker": {
             "colorbar": {
              "outlinewidth": 0,
              "ticks": ""
             }
            },
            "type": "scattermapbox"
           }
          ],
          "scatterpolar": [
           {
            "marker": {
             "colorbar": {
              "outlinewidth": 0,
              "ticks": ""
             }
            },
            "type": "scatterpolar"
           }
          ],
          "scatterpolargl": [
           {
            "marker": {
             "colorbar": {
              "outlinewidth": 0,
              "ticks": ""
             }
            },
            "type": "scatterpolargl"
           }
          ],
          "scatterternary": [
           {
            "marker": {
             "colorbar": {
              "outlinewidth": 0,
              "ticks": ""
             }
            },
            "type": "scatterternary"
           }
          ],
          "surface": [
           {
            "colorbar": {
             "outlinewidth": 0,
             "ticks": ""
            },
            "colorscale": [
             [
              0,
              "#0d0887"
             ],
             [
              0.1111111111111111,
              "#46039f"
             ],
             [
              0.2222222222222222,
              "#7201a8"
             ],
             [
              0.3333333333333333,
              "#9c179e"
             ],
             [
              0.4444444444444444,
              "#bd3786"
             ],
             [
              0.5555555555555556,
              "#d8576b"
             ],
             [
              0.6666666666666666,
              "#ed7953"
             ],
             [
              0.7777777777777778,
              "#fb9f3a"
             ],
             [
              0.8888888888888888,
              "#fdca26"
             ],
             [
              1,
              "#f0f921"
             ]
            ],
            "type": "surface"
           }
          ],
          "table": [
           {
            "cells": {
             "fill": {
              "color": "#EBF0F8"
             },
             "line": {
              "color": "white"
             }
            },
            "header": {
             "fill": {
              "color": "#C8D4E3"
             },
             "line": {
              "color": "white"
             }
            },
            "type": "table"
           }
          ]
         },
         "layout": {
          "annotationdefaults": {
           "arrowcolor": "#2a3f5f",
           "arrowhead": 0,
           "arrowwidth": 1
          },
          "autotypenumbers": "strict",
          "coloraxis": {
           "colorbar": {
            "outlinewidth": 0,
            "ticks": ""
           }
          },
          "colorscale": {
           "diverging": [
            [
             0,
             "#8e0152"
            ],
            [
             0.1,
             "#c51b7d"
            ],
            [
             0.2,
             "#de77ae"
            ],
            [
             0.3,
             "#f1b6da"
            ],
            [
             0.4,
             "#fde0ef"
            ],
            [
             0.5,
             "#f7f7f7"
            ],
            [
             0.6,
             "#e6f5d0"
            ],
            [
             0.7,
             "#b8e186"
            ],
            [
             0.8,
             "#7fbc41"
            ],
            [
             0.9,
             "#4d9221"
            ],
            [
             1,
             "#276419"
            ]
           ],
           "sequential": [
            [
             0,
             "#0d0887"
            ],
            [
             0.1111111111111111,
             "#46039f"
            ],
            [
             0.2222222222222222,
             "#7201a8"
            ],
            [
             0.3333333333333333,
             "#9c179e"
            ],
            [
             0.4444444444444444,
             "#bd3786"
            ],
            [
             0.5555555555555556,
             "#d8576b"
            ],
            [
             0.6666666666666666,
             "#ed7953"
            ],
            [
             0.7777777777777778,
             "#fb9f3a"
            ],
            [
             0.8888888888888888,
             "#fdca26"
            ],
            [
             1,
             "#f0f921"
            ]
           ],
           "sequentialminus": [
            [
             0,
             "#0d0887"
            ],
            [
             0.1111111111111111,
             "#46039f"
            ],
            [
             0.2222222222222222,
             "#7201a8"
            ],
            [
             0.3333333333333333,
             "#9c179e"
            ],
            [
             0.4444444444444444,
             "#bd3786"
            ],
            [
             0.5555555555555556,
             "#d8576b"
            ],
            [
             0.6666666666666666,
             "#ed7953"
            ],
            [
             0.7777777777777778,
             "#fb9f3a"
            ],
            [
             0.8888888888888888,
             "#fdca26"
            ],
            [
             1,
             "#f0f921"
            ]
           ]
          },
          "colorway": [
           "#636efa",
           "#EF553B",
           "#00cc96",
           "#ab63fa",
           "#FFA15A",
           "#19d3f3",
           "#FF6692",
           "#B6E880",
           "#FF97FF",
           "#FECB52"
          ],
          "font": {
           "color": "#2a3f5f"
          },
          "geo": {
           "bgcolor": "white",
           "lakecolor": "white",
           "landcolor": "#E5ECF6",
           "showlakes": true,
           "showland": true,
           "subunitcolor": "white"
          },
          "hoverlabel": {
           "align": "left"
          },
          "hovermode": "closest",
          "mapbox": {
           "style": "light"
          },
          "paper_bgcolor": "white",
          "plot_bgcolor": "#E5ECF6",
          "polar": {
           "angularaxis": {
            "gridcolor": "white",
            "linecolor": "white",
            "ticks": ""
           },
           "bgcolor": "#E5ECF6",
           "radialaxis": {
            "gridcolor": "white",
            "linecolor": "white",
            "ticks": ""
           }
          },
          "scene": {
           "xaxis": {
            "backgroundcolor": "#E5ECF6",
            "gridcolor": "white",
            "gridwidth": 2,
            "linecolor": "white",
            "showbackground": true,
            "ticks": "",
            "zerolinecolor": "white"
           },
           "yaxis": {
            "backgroundcolor": "#E5ECF6",
            "gridcolor": "white",
            "gridwidth": 2,
            "linecolor": "white",
            "showbackground": true,
            "ticks": "",
            "zerolinecolor": "white"
           },
           "zaxis": {
            "backgroundcolor": "#E5ECF6",
            "gridcolor": "white",
            "gridwidth": 2,
            "linecolor": "white",
            "showbackground": true,
            "ticks": "",
            "zerolinecolor": "white"
           }
          },
          "shapedefaults": {
           "line": {
            "color": "#2a3f5f"
           }
          },
          "ternary": {
           "aaxis": {
            "gridcolor": "white",
            "linecolor": "white",
            "ticks": ""
           },
           "baxis": {
            "gridcolor": "white",
            "linecolor": "white",
            "ticks": ""
           },
           "bgcolor": "#E5ECF6",
           "caxis": {
            "gridcolor": "white",
            "linecolor": "white",
            "ticks": ""
           }
          },
          "title": {
           "x": 0.05
          },
          "xaxis": {
           "automargin": true,
           "gridcolor": "white",
           "linecolor": "white",
           "ticks": "",
           "title": {
            "standoff": 15
           },
           "zerolinecolor": "white",
           "zerolinewidth": 2
          },
          "yaxis": {
           "automargin": true,
           "gridcolor": "white",
           "linecolor": "white",
           "ticks": "",
           "title": {
            "standoff": 15
           },
           "zerolinecolor": "white",
           "zerolinewidth": 2
          }
         }
        },
        "title": {
         "text": "PC1 loadings"
        },
        "xaxis": {
         "anchor": "y",
         "domain": [
          0,
          1
         ],
         "title": {
          "text": "index"
         }
        },
        "yaxis": {
         "anchor": "x",
         "domain": [
          0,
          1
         ],
         "title": {
          "text": "PC1"
         }
        }
       }
      },
      "text/html": [
       "<div>                            <div id=\"ef4521ca-5198-49bf-9dd9-dc631c6551b4\" class=\"plotly-graph-div\" style=\"height:525px; width:100%;\"></div>            <script type=\"text/javascript\">                require([\"plotly\"], function(Plotly) {                    window.PLOTLYENV=window.PLOTLYENV || {};                                    if (document.getElementById(\"ef4521ca-5198-49bf-9dd9-dc631c6551b4\")) {                    Plotly.newPlot(                        \"ef4521ca-5198-49bf-9dd9-dc631c6551b4\",                        [{\"alignmentgroup\":\"True\",\"hovertemplate\":\"index=%{x}<br>PC1=%{marker.color}<extra></extra>\",\"legendgroup\":\"\",\"marker\":{\"color\":[-0.1670202815401451,-0.13244368829342568,-0.13226855664550008,-0.1291029806105013,-0.12614946784203956,-0.07315656659362049,-0.06593902196996515,-0.037701668032674066,-0.01296546083185503,-0.005148427987197973,-0.0017947737702531722,0.005318986172787857,0.016201938561038718,0.021168667766976124,0.023487446894630736,0.050428319300498396,0.05322594217440367,0.05649140479060223,0.06941447801291958,0.11550416097852813,0.14395402747913755,0.144244823634871,0.15502542484282847,0.16770121809130956,0.1682162718767743,0.16830117845458017,0.16839137877773944,0.1695953406705407,0.17398757099684092,0.1838659969430174,0.18956311876521748,0.1992619662484497,0.20302263153015787,0.20647755904657727,0.20935767553500578,0.21499825066788558,0.21696862777147347,0.2188601869401943,0.2190502702694547,0.22197380971569833,0.2235231003033478,0.2241197996441233,0.2273262335869928],\"coloraxis\":\"coloraxis\",\"pattern\":{\"shape\":\"\"}},\"name\":\"\",\"offsetgroup\":\"\",\"orientation\":\"v\",\"showlegend\":false,\"textposition\":\"auto\",\"x\":[\"INTJ\",\"num_unique_words\",\"joy\",\"TBpolarity\",\"TBsubjectivity\",\"SYM\",\"anticipation\",\"surprise\",\"sadness\",\"positive\",\"disgust\",\"trust\",\"SCONJ\",\"ADV\",\"NUM\",\"anger\",\"PRON\",\"negative\",\"fear\",\"CCONJ\",\"AUX\",\"PROPN\",\"PART\",\"ADP\",\"VERB\",\"PUNCT\",\"ADJ\",\"DET\",\"NOUN\",\"word_per_sent\",\"words_per_sentence\",\"dc_word_perc\",\"gf_word_perc\",\"depth\",\"poly_word_perc\",\"dale_chall\",\"gunning_fog\",\"char_per_word\",\"syl_per_word\",\"ari\",\"smog\",\"flesch_kincaid\",\"coleman_liau\"],\"xaxis\":\"x\",\"y\":[-0.1670202815401451,-0.13244368829342568,-0.13226855664550008,-0.1291029806105013,-0.12614946784203956,-0.07315656659362049,-0.06593902196996515,-0.037701668032674066,-0.01296546083185503,-0.005148427987197973,-0.0017947737702531722,0.005318986172787857,0.016201938561038718,0.021168667766976124,0.023487446894630736,0.050428319300498396,0.05322594217440367,0.05649140479060223,0.06941447801291958,0.11550416097852813,0.14395402747913755,0.144244823634871,0.15502542484282847,0.16770121809130956,0.1682162718767743,0.16830117845458017,0.16839137877773944,0.1695953406705407,0.17398757099684092,0.1838659969430174,0.18956311876521748,0.1992619662484497,0.20302263153015787,0.20647755904657727,0.20935767553500578,0.21499825066788558,0.21696862777147347,0.2188601869401943,0.2190502702694547,0.22197380971569833,0.2235231003033478,0.2241197996441233,0.2273262335869928],\"yaxis\":\"y\",\"type\":\"bar\"}],                        {\"template\":{\"data\":{\"histogram2dcontour\":[{\"type\":\"histogram2dcontour\",\"colorbar\":{\"outlinewidth\":0,\"ticks\":\"\"},\"colorscale\":[[0.0,\"#0d0887\"],[0.1111111111111111,\"#46039f\"],[0.2222222222222222,\"#7201a8\"],[0.3333333333333333,\"#9c179e\"],[0.4444444444444444,\"#bd3786\"],[0.5555555555555556,\"#d8576b\"],[0.6666666666666666,\"#ed7953\"],[0.7777777777777778,\"#fb9f3a\"],[0.8888888888888888,\"#fdca26\"],[1.0,\"#f0f921\"]]}],\"choropleth\":[{\"type\":\"choropleth\",\"colorbar\":{\"outlinewidth\":0,\"ticks\":\"\"}}],\"histogram2d\":[{\"type\":\"histogram2d\",\"colorbar\":{\"outlinewidth\":0,\"ticks\":\"\"},\"colorscale\":[[0.0,\"#0d0887\"],[0.1111111111111111,\"#46039f\"],[0.2222222222222222,\"#7201a8\"],[0.3333333333333333,\"#9c179e\"],[0.4444444444444444,\"#bd3786\"],[0.5555555555555556,\"#d8576b\"],[0.6666666666666666,\"#ed7953\"],[0.7777777777777778,\"#fb9f3a\"],[0.8888888888888888,\"#fdca26\"],[1.0,\"#f0f921\"]]}],\"heatmap\":[{\"type\":\"heatmap\",\"colorbar\":{\"outlinewidth\":0,\"ticks\":\"\"},\"colorscale\":[[0.0,\"#0d0887\"],[0.1111111111111111,\"#46039f\"],[0.2222222222222222,\"#7201a8\"],[0.3333333333333333,\"#9c179e\"],[0.4444444444444444,\"#bd3786\"],[0.5555555555555556,\"#d8576b\"],[0.6666666666666666,\"#ed7953\"],[0.7777777777777778,\"#fb9f3a\"],[0.8888888888888888,\"#fdca26\"],[1.0,\"#f0f921\"]]}],\"heatmapgl\":[{\"type\":\"heatmapgl\",\"colorbar\":{\"outlinewidth\":0,\"ticks\":\"\"},\"colorscale\":[[0.0,\"#0d0887\"],[0.1111111111111111,\"#46039f\"],[0.2222222222222222,\"#7201a8\"],[0.3333333333333333,\"#9c179e\"],[0.4444444444444444,\"#bd3786\"],[0.5555555555555556,\"#d8576b\"],[0.6666666666666666,\"#ed7953\"],[0.7777777777777778,\"#fb9f3a\"],[0.8888888888888888,\"#fdca26\"],[1.0,\"#f0f921\"]]}],\"contourcarpet\":[{\"type\":\"contourcarpet\",\"colorbar\":{\"outlinewidth\":0,\"ticks\":\"\"}}],\"contour\":[{\"type\":\"contour\",\"colorbar\":{\"outlinewidth\":0,\"ticks\":\"\"},\"colorscale\":[[0.0,\"#0d0887\"],[0.1111111111111111,\"#46039f\"],[0.2222222222222222,\"#7201a8\"],[0.3333333333333333,\"#9c179e\"],[0.4444444444444444,\"#bd3786\"],[0.5555555555555556,\"#d8576b\"],[0.6666666666666666,\"#ed7953\"],[0.7777777777777778,\"#fb9f3a\"],[0.8888888888888888,\"#fdca26\"],[1.0,\"#f0f921\"]]}],\"surface\":[{\"type\":\"surface\",\"colorbar\":{\"outlinewidth\":0,\"ticks\":\"\"},\"colorscale\":[[0.0,\"#0d0887\"],[0.1111111111111111,\"#46039f\"],[0.2222222222222222,\"#7201a8\"],[0.3333333333333333,\"#9c179e\"],[0.4444444444444444,\"#bd3786\"],[0.5555555555555556,\"#d8576b\"],[0.6666666666666666,\"#ed7953\"],[0.7777777777777778,\"#fb9f3a\"],[0.8888888888888888,\"#fdca26\"],[1.0,\"#f0f921\"]]}],\"mesh3d\":[{\"type\":\"mesh3d\",\"colorbar\":{\"outlinewidth\":0,\"ticks\":\"\"}}],\"scatter\":[{\"fillpattern\":{\"fillmode\":\"overlay\",\"size\":10,\"solidity\":0.2},\"type\":\"scatter\"}],\"parcoords\":[{\"type\":\"parcoords\",\"line\":{\"colorbar\":{\"outlinewidth\":0,\"ticks\":\"\"}}}],\"scatterpolargl\":[{\"type\":\"scatterpolargl\",\"marker\":{\"colorbar\":{\"outlinewidth\":0,\"ticks\":\"\"}}}],\"bar\":[{\"error_x\":{\"color\":\"#2a3f5f\"},\"error_y\":{\"color\":\"#2a3f5f\"},\"marker\":{\"line\":{\"color\":\"#E5ECF6\",\"width\":0.5},\"pattern\":{\"fillmode\":\"overlay\",\"size\":10,\"solidity\":0.2}},\"type\":\"bar\"}],\"scattergeo\":[{\"type\":\"scattergeo\",\"marker\":{\"colorbar\":{\"outlinewidth\":0,\"ticks\":\"\"}}}],\"scatterpolar\":[{\"type\":\"scatterpolar\",\"marker\":{\"colorbar\":{\"outlinewidth\":0,\"ticks\":\"\"}}}],\"histogram\":[{\"marker\":{\"pattern\":{\"fillmode\":\"overlay\",\"size\":10,\"solidity\":0.2}},\"type\":\"histogram\"}],\"scattergl\":[{\"type\":\"scattergl\",\"marker\":{\"colorbar\":{\"outlinewidth\":0,\"ticks\":\"\"}}}],\"scatter3d\":[{\"type\":\"scatter3d\",\"line\":{\"colorbar\":{\"outlinewidth\":0,\"ticks\":\"\"}},\"marker\":{\"colorbar\":{\"outlinewidth\":0,\"ticks\":\"\"}}}],\"scattermapbox\":[{\"type\":\"scattermapbox\",\"marker\":{\"colorbar\":{\"outlinewidth\":0,\"ticks\":\"\"}}}],\"scatterternary\":[{\"type\":\"scatterternary\",\"marker\":{\"colorbar\":{\"outlinewidth\":0,\"ticks\":\"\"}}}],\"scattercarpet\":[{\"type\":\"scattercarpet\",\"marker\":{\"colorbar\":{\"outlinewidth\":0,\"ticks\":\"\"}}}],\"carpet\":[{\"aaxis\":{\"endlinecolor\":\"#2a3f5f\",\"gridcolor\":\"white\",\"linecolor\":\"white\",\"minorgridcolor\":\"white\",\"startlinecolor\":\"#2a3f5f\"},\"baxis\":{\"endlinecolor\":\"#2a3f5f\",\"gridcolor\":\"white\",\"linecolor\":\"white\",\"minorgridcolor\":\"white\",\"startlinecolor\":\"#2a3f5f\"},\"type\":\"carpet\"}],\"table\":[{\"cells\":{\"fill\":{\"color\":\"#EBF0F8\"},\"line\":{\"color\":\"white\"}},\"header\":{\"fill\":{\"color\":\"#C8D4E3\"},\"line\":{\"color\":\"white\"}},\"type\":\"table\"}],\"barpolar\":[{\"marker\":{\"line\":{\"color\":\"#E5ECF6\",\"width\":0.5},\"pattern\":{\"fillmode\":\"overlay\",\"size\":10,\"solidity\":0.2}},\"type\":\"barpolar\"}],\"pie\":[{\"automargin\":true,\"type\":\"pie\"}]},\"layout\":{\"autotypenumbers\":\"strict\",\"colorway\":[\"#636efa\",\"#EF553B\",\"#00cc96\",\"#ab63fa\",\"#FFA15A\",\"#19d3f3\",\"#FF6692\",\"#B6E880\",\"#FF97FF\",\"#FECB52\"],\"font\":{\"color\":\"#2a3f5f\"},\"hovermode\":\"closest\",\"hoverlabel\":{\"align\":\"left\"},\"paper_bgcolor\":\"white\",\"plot_bgcolor\":\"#E5ECF6\",\"polar\":{\"bgcolor\":\"#E5ECF6\",\"angularaxis\":{\"gridcolor\":\"white\",\"linecolor\":\"white\",\"ticks\":\"\"},\"radialaxis\":{\"gridcolor\":\"white\",\"linecolor\":\"white\",\"ticks\":\"\"}},\"ternary\":{\"bgcolor\":\"#E5ECF6\",\"aaxis\":{\"gridcolor\":\"white\",\"linecolor\":\"white\",\"ticks\":\"\"},\"baxis\":{\"gridcolor\":\"white\",\"linecolor\":\"white\",\"ticks\":\"\"},\"caxis\":{\"gridcolor\":\"white\",\"linecolor\":\"white\",\"ticks\":\"\"}},\"coloraxis\":{\"colorbar\":{\"outlinewidth\":0,\"ticks\":\"\"}},\"colorscale\":{\"sequential\":[[0.0,\"#0d0887\"],[0.1111111111111111,\"#46039f\"],[0.2222222222222222,\"#7201a8\"],[0.3333333333333333,\"#9c179e\"],[0.4444444444444444,\"#bd3786\"],[0.5555555555555556,\"#d8576b\"],[0.6666666666666666,\"#ed7953\"],[0.7777777777777778,\"#fb9f3a\"],[0.8888888888888888,\"#fdca26\"],[1.0,\"#f0f921\"]],\"sequentialminus\":[[0.0,\"#0d0887\"],[0.1111111111111111,\"#46039f\"],[0.2222222222222222,\"#7201a8\"],[0.3333333333333333,\"#9c179e\"],[0.4444444444444444,\"#bd3786\"],[0.5555555555555556,\"#d8576b\"],[0.6666666666666666,\"#ed7953\"],[0.7777777777777778,\"#fb9f3a\"],[0.8888888888888888,\"#fdca26\"],[1.0,\"#f0f921\"]],\"diverging\":[[0,\"#8e0152\"],[0.1,\"#c51b7d\"],[0.2,\"#de77ae\"],[0.3,\"#f1b6da\"],[0.4,\"#fde0ef\"],[0.5,\"#f7f7f7\"],[0.6,\"#e6f5d0\"],[0.7,\"#b8e186\"],[0.8,\"#7fbc41\"],[0.9,\"#4d9221\"],[1,\"#276419\"]]},\"xaxis\":{\"gridcolor\":\"white\",\"linecolor\":\"white\",\"ticks\":\"\",\"title\":{\"standoff\":15},\"zerolinecolor\":\"white\",\"automargin\":true,\"zerolinewidth\":2},\"yaxis\":{\"gridcolor\":\"white\",\"linecolor\":\"white\",\"ticks\":\"\",\"title\":{\"standoff\":15},\"zerolinecolor\":\"white\",\"automargin\":true,\"zerolinewidth\":2},\"scene\":{\"xaxis\":{\"backgroundcolor\":\"#E5ECF6\",\"gridcolor\":\"white\",\"linecolor\":\"white\",\"showbackground\":true,\"ticks\":\"\",\"zerolinecolor\":\"white\",\"gridwidth\":2},\"yaxis\":{\"backgroundcolor\":\"#E5ECF6\",\"gridcolor\":\"white\",\"linecolor\":\"white\",\"showbackground\":true,\"ticks\":\"\",\"zerolinecolor\":\"white\",\"gridwidth\":2},\"zaxis\":{\"backgroundcolor\":\"#E5ECF6\",\"gridcolor\":\"white\",\"linecolor\":\"white\",\"showbackground\":true,\"ticks\":\"\",\"zerolinecolor\":\"white\",\"gridwidth\":2}},\"shapedefaults\":{\"line\":{\"color\":\"#2a3f5f\"}},\"annotationdefaults\":{\"arrowcolor\":\"#2a3f5f\",\"arrowhead\":0,\"arrowwidth\":1},\"geo\":{\"bgcolor\":\"white\",\"landcolor\":\"#E5ECF6\",\"subunitcolor\":\"white\",\"showland\":true,\"showlakes\":true,\"lakecolor\":\"white\"},\"title\":{\"x\":0.05},\"mapbox\":{\"style\":\"light\"}}},\"xaxis\":{\"anchor\":\"y\",\"domain\":[0.0,1.0],\"title\":{\"text\":\"index\"}},\"yaxis\":{\"anchor\":\"x\",\"domain\":[0.0,1.0],\"title\":{\"text\":\"PC1\"}},\"coloraxis\":{\"colorbar\":{\"title\":{\"text\":\"PC1\"}},\"colorscale\":[[0.0,\"#0d0887\"],[0.1111111111111111,\"#46039f\"],[0.2222222222222222,\"#7201a8\"],[0.3333333333333333,\"#9c179e\"],[0.4444444444444444,\"#bd3786\"],[0.5555555555555556,\"#d8576b\"],[0.6666666666666666,\"#ed7953\"],[0.7777777777777778,\"#fb9f3a\"],[0.8888888888888888,\"#fdca26\"],[1.0,\"#f0f921\"]]},\"legend\":{\"tracegroupgap\":0},\"title\":{\"text\":\"PC1 loadings\"},\"barmode\":\"relative\"},                        {\"responsive\": true}                    ).then(function(){\n",
       "                            \n",
       "var gd = document.getElementById('ef4521ca-5198-49bf-9dd9-dc631c6551b4');\n",
       "var x = new MutationObserver(function (mutations, observer) {{\n",
       "        var display = window.getComputedStyle(gd).display;\n",
       "        if (!display || display === 'none') {{\n",
       "            console.log([gd, 'removed!']);\n",
       "            Plotly.purge(gd);\n",
       "            observer.disconnect();\n",
       "        }}\n",
       "}});\n",
       "\n",
       "// Listen for the removal of the full notebook cells\n",
       "var notebookContainer = gd.closest('#notebook-container');\n",
       "if (notebookContainer) {{\n",
       "    x.observe(notebookContainer, {childList: true});\n",
       "}}\n",
       "\n",
       "// Listen for the clearing of the current output cell\n",
       "var outputEl = gd.closest('.output');\n",
       "if (outputEl) {{\n",
       "    x.observe(outputEl, {childList: true});\n",
       "}}\n",
       "\n",
       "                        })                };                });            </script>        </div>"
      ]
     },
     "metadata": {},
     "output_type": "display_data"
    }
   ],
   "source": [
    "fig = px.bar(loadings, \n",
    "             x=loadings.index, \n",
    "             y='PC1', \n",
    "             color='PC1', \n",
    "             title = 'PC1 loadings')\n",
    "fig.show()"
   ]
  },
  {
   "cell_type": "code",
   "execution_count": 87,
   "id": "a9856176",
   "metadata": {},
   "outputs": [
    {
     "data": {
      "application/vnd.plotly.v1+json": {
       "config": {
        "plotlyServerURL": "https://plot.ly"
       },
       "data": [
        {
         "alignmentgroup": "True",
         "hovertemplate": "index=%{x}<br>PC2=%{marker.color}<extra></extra>",
         "legendgroup": "",
         "marker": {
          "color": [
           -0.10082795782254104,
           -0.09978831056278291,
           -0.09135382006504279,
           0.029293526089105525,
           0.0035576511775265397,
           0.061101438596774964,
           -0.20942158635099464,
           -0.02072786178042784,
           0.006221974682750267,
           -0.009668987700137749,
           -0.006032261611373319,
           0.005886268201815309,
           -0.027625912993265583,
           0.03039068542209903,
           -0.11399013658052798,
           0.03601678961773369,
           0.014410420509566924,
           0.05715671387499417,
           -0.0218668275475961,
           0.03735720024332069,
           0.15922005706841105,
           0.19838990064109743,
           0.25271959228195595,
           0.2336554236567126,
           0.2583519936287626,
           0.24395478983152685,
           0.26354366020907616,
           0.25701013976719456,
           0.2591598447953146,
           0.2535185912042659,
           -0.17513227460701142,
           -0.16868863760529712,
           -0.09457926152445965,
           -0.14511598839746392,
           -0.12564223477764325,
           -0.13941001945212017,
           -0.1743762377573678,
           -0.18410622035154445,
           -0.12187795487933467,
           -0.11354898224428052,
           -0.17419887961862288,
           -0.17693622642291457,
           -0.1739877787133487,
           -0.12809513415467466
          ],
          "coloraxis": "coloraxis",
          "pattern": {
           "shape": ""
          }
         },
         "name": "",
         "offsetgroup": "",
         "orientation": "v",
         "showlegend": false,
         "textposition": "auto",
         "type": "bar",
         "x": [
          "INTJ",
          "num_unique_words",
          "char_count",
          "joy",
          "TBpolarity",
          "TBsubjectivity",
          "SYM",
          "anticipation",
          "surprise",
          "sadness",
          "positive",
          "disgust",
          "trust",
          "SCONJ",
          "NUM",
          "ADV",
          "anger",
          "PRON",
          "negative",
          "fear",
          "CCONJ",
          "PROPN",
          "AUX",
          "PART",
          "ADP",
          "ADJ",
          "VERB",
          "PUNCT",
          "DET",
          "NOUN",
          "word_per_sent",
          "words_per_sentence",
          "dc_word_perc",
          "gf_word_perc",
          "depth",
          "poly_word_perc",
          "dale_chall",
          "gunning_fog",
          "syl_per_word",
          "char_per_word",
          "ari",
          "smog",
          "flesch_kincaid",
          "coleman_liau"
         ],
         "xaxis": "x",
         "y": [
          -0.10082795782254104,
          -0.09978831056278291,
          -0.09135382006504279,
          0.029293526089105525,
          0.0035576511775265397,
          0.061101438596774964,
          -0.20942158635099464,
          -0.02072786178042784,
          0.006221974682750267,
          -0.009668987700137749,
          -0.006032261611373319,
          0.005886268201815309,
          -0.027625912993265583,
          0.03039068542209903,
          -0.11399013658052798,
          0.03601678961773369,
          0.014410420509566924,
          0.05715671387499417,
          -0.0218668275475961,
          0.03735720024332069,
          0.15922005706841105,
          0.19838990064109743,
          0.25271959228195595,
          0.2336554236567126,
          0.2583519936287626,
          0.24395478983152685,
          0.26354366020907616,
          0.25701013976719456,
          0.2591598447953146,
          0.2535185912042659,
          -0.17513227460701142,
          -0.16868863760529712,
          -0.09457926152445965,
          -0.14511598839746392,
          -0.12564223477764325,
          -0.13941001945212017,
          -0.1743762377573678,
          -0.18410622035154445,
          -0.12187795487933467,
          -0.11354898224428052,
          -0.17419887961862288,
          -0.17693622642291457,
          -0.1739877787133487,
          -0.12809513415467466
         ],
         "yaxis": "y"
        }
       ],
       "layout": {
        "barmode": "relative",
        "coloraxis": {
         "colorbar": {
          "title": {
           "text": "PC2"
          }
         },
         "colorscale": [
          [
           0,
           "#0d0887"
          ],
          [
           0.1111111111111111,
           "#46039f"
          ],
          [
           0.2222222222222222,
           "#7201a8"
          ],
          [
           0.3333333333333333,
           "#9c179e"
          ],
          [
           0.4444444444444444,
           "#bd3786"
          ],
          [
           0.5555555555555556,
           "#d8576b"
          ],
          [
           0.6666666666666666,
           "#ed7953"
          ],
          [
           0.7777777777777778,
           "#fb9f3a"
          ],
          [
           0.8888888888888888,
           "#fdca26"
          ],
          [
           1,
           "#f0f921"
          ]
         ]
        },
        "legend": {
         "tracegroupgap": 0
        },
        "template": {
         "data": {
          "bar": [
           {
            "error_x": {
             "color": "#2a3f5f"
            },
            "error_y": {
             "color": "#2a3f5f"
            },
            "marker": {
             "line": {
              "color": "#E5ECF6",
              "width": 0.5
             },
             "pattern": {
              "fillmode": "overlay",
              "size": 10,
              "solidity": 0.2
             }
            },
            "type": "bar"
           }
          ],
          "barpolar": [
           {
            "marker": {
             "line": {
              "color": "#E5ECF6",
              "width": 0.5
             },
             "pattern": {
              "fillmode": "overlay",
              "size": 10,
              "solidity": 0.2
             }
            },
            "type": "barpolar"
           }
          ],
          "carpet": [
           {
            "aaxis": {
             "endlinecolor": "#2a3f5f",
             "gridcolor": "white",
             "linecolor": "white",
             "minorgridcolor": "white",
             "startlinecolor": "#2a3f5f"
            },
            "baxis": {
             "endlinecolor": "#2a3f5f",
             "gridcolor": "white",
             "linecolor": "white",
             "minorgridcolor": "white",
             "startlinecolor": "#2a3f5f"
            },
            "type": "carpet"
           }
          ],
          "choropleth": [
           {
            "colorbar": {
             "outlinewidth": 0,
             "ticks": ""
            },
            "type": "choropleth"
           }
          ],
          "contour": [
           {
            "colorbar": {
             "outlinewidth": 0,
             "ticks": ""
            },
            "colorscale": [
             [
              0,
              "#0d0887"
             ],
             [
              0.1111111111111111,
              "#46039f"
             ],
             [
              0.2222222222222222,
              "#7201a8"
             ],
             [
              0.3333333333333333,
              "#9c179e"
             ],
             [
              0.4444444444444444,
              "#bd3786"
             ],
             [
              0.5555555555555556,
              "#d8576b"
             ],
             [
              0.6666666666666666,
              "#ed7953"
             ],
             [
              0.7777777777777778,
              "#fb9f3a"
             ],
             [
              0.8888888888888888,
              "#fdca26"
             ],
             [
              1,
              "#f0f921"
             ]
            ],
            "type": "contour"
           }
          ],
          "contourcarpet": [
           {
            "colorbar": {
             "outlinewidth": 0,
             "ticks": ""
            },
            "type": "contourcarpet"
           }
          ],
          "heatmap": [
           {
            "colorbar": {
             "outlinewidth": 0,
             "ticks": ""
            },
            "colorscale": [
             [
              0,
              "#0d0887"
             ],
             [
              0.1111111111111111,
              "#46039f"
             ],
             [
              0.2222222222222222,
              "#7201a8"
             ],
             [
              0.3333333333333333,
              "#9c179e"
             ],
             [
              0.4444444444444444,
              "#bd3786"
             ],
             [
              0.5555555555555556,
              "#d8576b"
             ],
             [
              0.6666666666666666,
              "#ed7953"
             ],
             [
              0.7777777777777778,
              "#fb9f3a"
             ],
             [
              0.8888888888888888,
              "#fdca26"
             ],
             [
              1,
              "#f0f921"
             ]
            ],
            "type": "heatmap"
           }
          ],
          "heatmapgl": [
           {
            "colorbar": {
             "outlinewidth": 0,
             "ticks": ""
            },
            "colorscale": [
             [
              0,
              "#0d0887"
             ],
             [
              0.1111111111111111,
              "#46039f"
             ],
             [
              0.2222222222222222,
              "#7201a8"
             ],
             [
              0.3333333333333333,
              "#9c179e"
             ],
             [
              0.4444444444444444,
              "#bd3786"
             ],
             [
              0.5555555555555556,
              "#d8576b"
             ],
             [
              0.6666666666666666,
              "#ed7953"
             ],
             [
              0.7777777777777778,
              "#fb9f3a"
             ],
             [
              0.8888888888888888,
              "#fdca26"
             ],
             [
              1,
              "#f0f921"
             ]
            ],
            "type": "heatmapgl"
           }
          ],
          "histogram": [
           {
            "marker": {
             "pattern": {
              "fillmode": "overlay",
              "size": 10,
              "solidity": 0.2
             }
            },
            "type": "histogram"
           }
          ],
          "histogram2d": [
           {
            "colorbar": {
             "outlinewidth": 0,
             "ticks": ""
            },
            "colorscale": [
             [
              0,
              "#0d0887"
             ],
             [
              0.1111111111111111,
              "#46039f"
             ],
             [
              0.2222222222222222,
              "#7201a8"
             ],
             [
              0.3333333333333333,
              "#9c179e"
             ],
             [
              0.4444444444444444,
              "#bd3786"
             ],
             [
              0.5555555555555556,
              "#d8576b"
             ],
             [
              0.6666666666666666,
              "#ed7953"
             ],
             [
              0.7777777777777778,
              "#fb9f3a"
             ],
             [
              0.8888888888888888,
              "#fdca26"
             ],
             [
              1,
              "#f0f921"
             ]
            ],
            "type": "histogram2d"
           }
          ],
          "histogram2dcontour": [
           {
            "colorbar": {
             "outlinewidth": 0,
             "ticks": ""
            },
            "colorscale": [
             [
              0,
              "#0d0887"
             ],
             [
              0.1111111111111111,
              "#46039f"
             ],
             [
              0.2222222222222222,
              "#7201a8"
             ],
             [
              0.3333333333333333,
              "#9c179e"
             ],
             [
              0.4444444444444444,
              "#bd3786"
             ],
             [
              0.5555555555555556,
              "#d8576b"
             ],
             [
              0.6666666666666666,
              "#ed7953"
             ],
             [
              0.7777777777777778,
              "#fb9f3a"
             ],
             [
              0.8888888888888888,
              "#fdca26"
             ],
             [
              1,
              "#f0f921"
             ]
            ],
            "type": "histogram2dcontour"
           }
          ],
          "mesh3d": [
           {
            "colorbar": {
             "outlinewidth": 0,
             "ticks": ""
            },
            "type": "mesh3d"
           }
          ],
          "parcoords": [
           {
            "line": {
             "colorbar": {
              "outlinewidth": 0,
              "ticks": ""
             }
            },
            "type": "parcoords"
           }
          ],
          "pie": [
           {
            "automargin": true,
            "type": "pie"
           }
          ],
          "scatter": [
           {
            "fillpattern": {
             "fillmode": "overlay",
             "size": 10,
             "solidity": 0.2
            },
            "type": "scatter"
           }
          ],
          "scatter3d": [
           {
            "line": {
             "colorbar": {
              "outlinewidth": 0,
              "ticks": ""
             }
            },
            "marker": {
             "colorbar": {
              "outlinewidth": 0,
              "ticks": ""
             }
            },
            "type": "scatter3d"
           }
          ],
          "scattercarpet": [
           {
            "marker": {
             "colorbar": {
              "outlinewidth": 0,
              "ticks": ""
             }
            },
            "type": "scattercarpet"
           }
          ],
          "scattergeo": [
           {
            "marker": {
             "colorbar": {
              "outlinewidth": 0,
              "ticks": ""
             }
            },
            "type": "scattergeo"
           }
          ],
          "scattergl": [
           {
            "marker": {
             "colorbar": {
              "outlinewidth": 0,
              "ticks": ""
             }
            },
            "type": "scattergl"
           }
          ],
          "scattermapbox": [
           {
            "marker": {
             "colorbar": {
              "outlinewidth": 0,
              "ticks": ""
             }
            },
            "type": "scattermapbox"
           }
          ],
          "scatterpolar": [
           {
            "marker": {
             "colorbar": {
              "outlinewidth": 0,
              "ticks": ""
             }
            },
            "type": "scatterpolar"
           }
          ],
          "scatterpolargl": [
           {
            "marker": {
             "colorbar": {
              "outlinewidth": 0,
              "ticks": ""
             }
            },
            "type": "scatterpolargl"
           }
          ],
          "scatterternary": [
           {
            "marker": {
             "colorbar": {
              "outlinewidth": 0,
              "ticks": ""
             }
            },
            "type": "scatterternary"
           }
          ],
          "surface": [
           {
            "colorbar": {
             "outlinewidth": 0,
             "ticks": ""
            },
            "colorscale": [
             [
              0,
              "#0d0887"
             ],
             [
              0.1111111111111111,
              "#46039f"
             ],
             [
              0.2222222222222222,
              "#7201a8"
             ],
             [
              0.3333333333333333,
              "#9c179e"
             ],
             [
              0.4444444444444444,
              "#bd3786"
             ],
             [
              0.5555555555555556,
              "#d8576b"
             ],
             [
              0.6666666666666666,
              "#ed7953"
             ],
             [
              0.7777777777777778,
              "#fb9f3a"
             ],
             [
              0.8888888888888888,
              "#fdca26"
             ],
             [
              1,
              "#f0f921"
             ]
            ],
            "type": "surface"
           }
          ],
          "table": [
           {
            "cells": {
             "fill": {
              "color": "#EBF0F8"
             },
             "line": {
              "color": "white"
             }
            },
            "header": {
             "fill": {
              "color": "#C8D4E3"
             },
             "line": {
              "color": "white"
             }
            },
            "type": "table"
           }
          ]
         },
         "layout": {
          "annotationdefaults": {
           "arrowcolor": "#2a3f5f",
           "arrowhead": 0,
           "arrowwidth": 1
          },
          "autotypenumbers": "strict",
          "coloraxis": {
           "colorbar": {
            "outlinewidth": 0,
            "ticks": ""
           }
          },
          "colorscale": {
           "diverging": [
            [
             0,
             "#8e0152"
            ],
            [
             0.1,
             "#c51b7d"
            ],
            [
             0.2,
             "#de77ae"
            ],
            [
             0.3,
             "#f1b6da"
            ],
            [
             0.4,
             "#fde0ef"
            ],
            [
             0.5,
             "#f7f7f7"
            ],
            [
             0.6,
             "#e6f5d0"
            ],
            [
             0.7,
             "#b8e186"
            ],
            [
             0.8,
             "#7fbc41"
            ],
            [
             0.9,
             "#4d9221"
            ],
            [
             1,
             "#276419"
            ]
           ],
           "sequential": [
            [
             0,
             "#0d0887"
            ],
            [
             0.1111111111111111,
             "#46039f"
            ],
            [
             0.2222222222222222,
             "#7201a8"
            ],
            [
             0.3333333333333333,
             "#9c179e"
            ],
            [
             0.4444444444444444,
             "#bd3786"
            ],
            [
             0.5555555555555556,
             "#d8576b"
            ],
            [
             0.6666666666666666,
             "#ed7953"
            ],
            [
             0.7777777777777778,
             "#fb9f3a"
            ],
            [
             0.8888888888888888,
             "#fdca26"
            ],
            [
             1,
             "#f0f921"
            ]
           ],
           "sequentialminus": [
            [
             0,
             "#0d0887"
            ],
            [
             0.1111111111111111,
             "#46039f"
            ],
            [
             0.2222222222222222,
             "#7201a8"
            ],
            [
             0.3333333333333333,
             "#9c179e"
            ],
            [
             0.4444444444444444,
             "#bd3786"
            ],
            [
             0.5555555555555556,
             "#d8576b"
            ],
            [
             0.6666666666666666,
             "#ed7953"
            ],
            [
             0.7777777777777778,
             "#fb9f3a"
            ],
            [
             0.8888888888888888,
             "#fdca26"
            ],
            [
             1,
             "#f0f921"
            ]
           ]
          },
          "colorway": [
           "#636efa",
           "#EF553B",
           "#00cc96",
           "#ab63fa",
           "#FFA15A",
           "#19d3f3",
           "#FF6692",
           "#B6E880",
           "#FF97FF",
           "#FECB52"
          ],
          "font": {
           "color": "#2a3f5f"
          },
          "geo": {
           "bgcolor": "white",
           "lakecolor": "white",
           "landcolor": "#E5ECF6",
           "showlakes": true,
           "showland": true,
           "subunitcolor": "white"
          },
          "hoverlabel": {
           "align": "left"
          },
          "hovermode": "closest",
          "mapbox": {
           "style": "light"
          },
          "paper_bgcolor": "white",
          "plot_bgcolor": "#E5ECF6",
          "polar": {
           "angularaxis": {
            "gridcolor": "white",
            "linecolor": "white",
            "ticks": ""
           },
           "bgcolor": "#E5ECF6",
           "radialaxis": {
            "gridcolor": "white",
            "linecolor": "white",
            "ticks": ""
           }
          },
          "scene": {
           "xaxis": {
            "backgroundcolor": "#E5ECF6",
            "gridcolor": "white",
            "gridwidth": 2,
            "linecolor": "white",
            "showbackground": true,
            "ticks": "",
            "zerolinecolor": "white"
           },
           "yaxis": {
            "backgroundcolor": "#E5ECF6",
            "gridcolor": "white",
            "gridwidth": 2,
            "linecolor": "white",
            "showbackground": true,
            "ticks": "",
            "zerolinecolor": "white"
           },
           "zaxis": {
            "backgroundcolor": "#E5ECF6",
            "gridcolor": "white",
            "gridwidth": 2,
            "linecolor": "white",
            "showbackground": true,
            "ticks": "",
            "zerolinecolor": "white"
           }
          },
          "shapedefaults": {
           "line": {
            "color": "#2a3f5f"
           }
          },
          "ternary": {
           "aaxis": {
            "gridcolor": "white",
            "linecolor": "white",
            "ticks": ""
           },
           "baxis": {
            "gridcolor": "white",
            "linecolor": "white",
            "ticks": ""
           },
           "bgcolor": "#E5ECF6",
           "caxis": {
            "gridcolor": "white",
            "linecolor": "white",
            "ticks": ""
           }
          },
          "title": {
           "x": 0.05
          },
          "xaxis": {
           "automargin": true,
           "gridcolor": "white",
           "linecolor": "white",
           "ticks": "",
           "title": {
            "standoff": 15
           },
           "zerolinecolor": "white",
           "zerolinewidth": 2
          },
          "yaxis": {
           "automargin": true,
           "gridcolor": "white",
           "linecolor": "white",
           "ticks": "",
           "title": {
            "standoff": 15
           },
           "zerolinecolor": "white",
           "zerolinewidth": 2
          }
         }
        },
        "title": {
         "text": "PC2 loadings"
        },
        "xaxis": {
         "anchor": "y",
         "domain": [
          0,
          1
         ],
         "title": {
          "text": "index"
         }
        },
        "yaxis": {
         "anchor": "x",
         "domain": [
          0,
          1
         ],
         "title": {
          "text": "PC2"
         }
        }
       }
      },
      "text/html": [
       "<div>                            <div id=\"0a0f735d-121b-4152-bcb8-b291bc9ad967\" class=\"plotly-graph-div\" style=\"height:525px; width:100%;\"></div>            <script type=\"text/javascript\">                require([\"plotly\"], function(Plotly) {                    window.PLOTLYENV=window.PLOTLYENV || {};                                    if (document.getElementById(\"0a0f735d-121b-4152-bcb8-b291bc9ad967\")) {                    Plotly.newPlot(                        \"0a0f735d-121b-4152-bcb8-b291bc9ad967\",                        [{\"alignmentgroup\":\"True\",\"hovertemplate\":\"index=%{x}<br>PC2=%{marker.color}<extra></extra>\",\"legendgroup\":\"\",\"marker\":{\"color\":[-0.10082795782254104,-0.09978831056278291,-0.09135382006504279,0.029293526089105525,0.0035576511775265397,0.061101438596774964,-0.20942158635099464,-0.02072786178042784,0.006221974682750267,-0.009668987700137749,-0.006032261611373319,0.005886268201815309,-0.027625912993265583,0.03039068542209903,-0.11399013658052798,0.03601678961773369,0.014410420509566924,0.05715671387499417,-0.0218668275475961,0.03735720024332069,0.15922005706841105,0.19838990064109743,0.25271959228195595,0.2336554236567126,0.2583519936287626,0.24395478983152685,0.26354366020907616,0.25701013976719456,0.2591598447953146,0.2535185912042659,-0.17513227460701142,-0.16868863760529712,-0.09457926152445965,-0.14511598839746392,-0.12564223477764325,-0.13941001945212017,-0.1743762377573678,-0.18410622035154445,-0.12187795487933467,-0.11354898224428052,-0.17419887961862288,-0.17693622642291457,-0.1739877787133487,-0.12809513415467466],\"coloraxis\":\"coloraxis\",\"pattern\":{\"shape\":\"\"}},\"name\":\"\",\"offsetgroup\":\"\",\"orientation\":\"v\",\"showlegend\":false,\"textposition\":\"auto\",\"x\":[\"INTJ\",\"num_unique_words\",\"char_count\",\"joy\",\"TBpolarity\",\"TBsubjectivity\",\"SYM\",\"anticipation\",\"surprise\",\"sadness\",\"positive\",\"disgust\",\"trust\",\"SCONJ\",\"NUM\",\"ADV\",\"anger\",\"PRON\",\"negative\",\"fear\",\"CCONJ\",\"PROPN\",\"AUX\",\"PART\",\"ADP\",\"ADJ\",\"VERB\",\"PUNCT\",\"DET\",\"NOUN\",\"word_per_sent\",\"words_per_sentence\",\"dc_word_perc\",\"gf_word_perc\",\"depth\",\"poly_word_perc\",\"dale_chall\",\"gunning_fog\",\"syl_per_word\",\"char_per_word\",\"ari\",\"smog\",\"flesch_kincaid\",\"coleman_liau\"],\"xaxis\":\"x\",\"y\":[-0.10082795782254104,-0.09978831056278291,-0.09135382006504279,0.029293526089105525,0.0035576511775265397,0.061101438596774964,-0.20942158635099464,-0.02072786178042784,0.006221974682750267,-0.009668987700137749,-0.006032261611373319,0.005886268201815309,-0.027625912993265583,0.03039068542209903,-0.11399013658052798,0.03601678961773369,0.014410420509566924,0.05715671387499417,-0.0218668275475961,0.03735720024332069,0.15922005706841105,0.19838990064109743,0.25271959228195595,0.2336554236567126,0.2583519936287626,0.24395478983152685,0.26354366020907616,0.25701013976719456,0.2591598447953146,0.2535185912042659,-0.17513227460701142,-0.16868863760529712,-0.09457926152445965,-0.14511598839746392,-0.12564223477764325,-0.13941001945212017,-0.1743762377573678,-0.18410622035154445,-0.12187795487933467,-0.11354898224428052,-0.17419887961862288,-0.17693622642291457,-0.1739877787133487,-0.12809513415467466],\"yaxis\":\"y\",\"type\":\"bar\"}],                        {\"template\":{\"data\":{\"histogram2dcontour\":[{\"type\":\"histogram2dcontour\",\"colorbar\":{\"outlinewidth\":0,\"ticks\":\"\"},\"colorscale\":[[0.0,\"#0d0887\"],[0.1111111111111111,\"#46039f\"],[0.2222222222222222,\"#7201a8\"],[0.3333333333333333,\"#9c179e\"],[0.4444444444444444,\"#bd3786\"],[0.5555555555555556,\"#d8576b\"],[0.6666666666666666,\"#ed7953\"],[0.7777777777777778,\"#fb9f3a\"],[0.8888888888888888,\"#fdca26\"],[1.0,\"#f0f921\"]]}],\"choropleth\":[{\"type\":\"choropleth\",\"colorbar\":{\"outlinewidth\":0,\"ticks\":\"\"}}],\"histogram2d\":[{\"type\":\"histogram2d\",\"colorbar\":{\"outlinewidth\":0,\"ticks\":\"\"},\"colorscale\":[[0.0,\"#0d0887\"],[0.1111111111111111,\"#46039f\"],[0.2222222222222222,\"#7201a8\"],[0.3333333333333333,\"#9c179e\"],[0.4444444444444444,\"#bd3786\"],[0.5555555555555556,\"#d8576b\"],[0.6666666666666666,\"#ed7953\"],[0.7777777777777778,\"#fb9f3a\"],[0.8888888888888888,\"#fdca26\"],[1.0,\"#f0f921\"]]}],\"heatmap\":[{\"type\":\"heatmap\",\"colorbar\":{\"outlinewidth\":0,\"ticks\":\"\"},\"colorscale\":[[0.0,\"#0d0887\"],[0.1111111111111111,\"#46039f\"],[0.2222222222222222,\"#7201a8\"],[0.3333333333333333,\"#9c179e\"],[0.4444444444444444,\"#bd3786\"],[0.5555555555555556,\"#d8576b\"],[0.6666666666666666,\"#ed7953\"],[0.7777777777777778,\"#fb9f3a\"],[0.8888888888888888,\"#fdca26\"],[1.0,\"#f0f921\"]]}],\"heatmapgl\":[{\"type\":\"heatmapgl\",\"colorbar\":{\"outlinewidth\":0,\"ticks\":\"\"},\"colorscale\":[[0.0,\"#0d0887\"],[0.1111111111111111,\"#46039f\"],[0.2222222222222222,\"#7201a8\"],[0.3333333333333333,\"#9c179e\"],[0.4444444444444444,\"#bd3786\"],[0.5555555555555556,\"#d8576b\"],[0.6666666666666666,\"#ed7953\"],[0.7777777777777778,\"#fb9f3a\"],[0.8888888888888888,\"#fdca26\"],[1.0,\"#f0f921\"]]}],\"contourcarpet\":[{\"type\":\"contourcarpet\",\"colorbar\":{\"outlinewidth\":0,\"ticks\":\"\"}}],\"contour\":[{\"type\":\"contour\",\"colorbar\":{\"outlinewidth\":0,\"ticks\":\"\"},\"colorscale\":[[0.0,\"#0d0887\"],[0.1111111111111111,\"#46039f\"],[0.2222222222222222,\"#7201a8\"],[0.3333333333333333,\"#9c179e\"],[0.4444444444444444,\"#bd3786\"],[0.5555555555555556,\"#d8576b\"],[0.6666666666666666,\"#ed7953\"],[0.7777777777777778,\"#fb9f3a\"],[0.8888888888888888,\"#fdca26\"],[1.0,\"#f0f921\"]]}],\"surface\":[{\"type\":\"surface\",\"colorbar\":{\"outlinewidth\":0,\"ticks\":\"\"},\"colorscale\":[[0.0,\"#0d0887\"],[0.1111111111111111,\"#46039f\"],[0.2222222222222222,\"#7201a8\"],[0.3333333333333333,\"#9c179e\"],[0.4444444444444444,\"#bd3786\"],[0.5555555555555556,\"#d8576b\"],[0.6666666666666666,\"#ed7953\"],[0.7777777777777778,\"#fb9f3a\"],[0.8888888888888888,\"#fdca26\"],[1.0,\"#f0f921\"]]}],\"mesh3d\":[{\"type\":\"mesh3d\",\"colorbar\":{\"outlinewidth\":0,\"ticks\":\"\"}}],\"scatter\":[{\"fillpattern\":{\"fillmode\":\"overlay\",\"size\":10,\"solidity\":0.2},\"type\":\"scatter\"}],\"parcoords\":[{\"type\":\"parcoords\",\"line\":{\"colorbar\":{\"outlinewidth\":0,\"ticks\":\"\"}}}],\"scatterpolargl\":[{\"type\":\"scatterpolargl\",\"marker\":{\"colorbar\":{\"outlinewidth\":0,\"ticks\":\"\"}}}],\"bar\":[{\"error_x\":{\"color\":\"#2a3f5f\"},\"error_y\":{\"color\":\"#2a3f5f\"},\"marker\":{\"line\":{\"color\":\"#E5ECF6\",\"width\":0.5},\"pattern\":{\"fillmode\":\"overlay\",\"size\":10,\"solidity\":0.2}},\"type\":\"bar\"}],\"scattergeo\":[{\"type\":\"scattergeo\",\"marker\":{\"colorbar\":{\"outlinewidth\":0,\"ticks\":\"\"}}}],\"scatterpolar\":[{\"type\":\"scatterpolar\",\"marker\":{\"colorbar\":{\"outlinewidth\":0,\"ticks\":\"\"}}}],\"histogram\":[{\"marker\":{\"pattern\":{\"fillmode\":\"overlay\",\"size\":10,\"solidity\":0.2}},\"type\":\"histogram\"}],\"scattergl\":[{\"type\":\"scattergl\",\"marker\":{\"colorbar\":{\"outlinewidth\":0,\"ticks\":\"\"}}}],\"scatter3d\":[{\"type\":\"scatter3d\",\"line\":{\"colorbar\":{\"outlinewidth\":0,\"ticks\":\"\"}},\"marker\":{\"colorbar\":{\"outlinewidth\":0,\"ticks\":\"\"}}}],\"scattermapbox\":[{\"type\":\"scattermapbox\",\"marker\":{\"colorbar\":{\"outlinewidth\":0,\"ticks\":\"\"}}}],\"scatterternary\":[{\"type\":\"scatterternary\",\"marker\":{\"colorbar\":{\"outlinewidth\":0,\"ticks\":\"\"}}}],\"scattercarpet\":[{\"type\":\"scattercarpet\",\"marker\":{\"colorbar\":{\"outlinewidth\":0,\"ticks\":\"\"}}}],\"carpet\":[{\"aaxis\":{\"endlinecolor\":\"#2a3f5f\",\"gridcolor\":\"white\",\"linecolor\":\"white\",\"minorgridcolor\":\"white\",\"startlinecolor\":\"#2a3f5f\"},\"baxis\":{\"endlinecolor\":\"#2a3f5f\",\"gridcolor\":\"white\",\"linecolor\":\"white\",\"minorgridcolor\":\"white\",\"startlinecolor\":\"#2a3f5f\"},\"type\":\"carpet\"}],\"table\":[{\"cells\":{\"fill\":{\"color\":\"#EBF0F8\"},\"line\":{\"color\":\"white\"}},\"header\":{\"fill\":{\"color\":\"#C8D4E3\"},\"line\":{\"color\":\"white\"}},\"type\":\"table\"}],\"barpolar\":[{\"marker\":{\"line\":{\"color\":\"#E5ECF6\",\"width\":0.5},\"pattern\":{\"fillmode\":\"overlay\",\"size\":10,\"solidity\":0.2}},\"type\":\"barpolar\"}],\"pie\":[{\"automargin\":true,\"type\":\"pie\"}]},\"layout\":{\"autotypenumbers\":\"strict\",\"colorway\":[\"#636efa\",\"#EF553B\",\"#00cc96\",\"#ab63fa\",\"#FFA15A\",\"#19d3f3\",\"#FF6692\",\"#B6E880\",\"#FF97FF\",\"#FECB52\"],\"font\":{\"color\":\"#2a3f5f\"},\"hovermode\":\"closest\",\"hoverlabel\":{\"align\":\"left\"},\"paper_bgcolor\":\"white\",\"plot_bgcolor\":\"#E5ECF6\",\"polar\":{\"bgcolor\":\"#E5ECF6\",\"angularaxis\":{\"gridcolor\":\"white\",\"linecolor\":\"white\",\"ticks\":\"\"},\"radialaxis\":{\"gridcolor\":\"white\",\"linecolor\":\"white\",\"ticks\":\"\"}},\"ternary\":{\"bgcolor\":\"#E5ECF6\",\"aaxis\":{\"gridcolor\":\"white\",\"linecolor\":\"white\",\"ticks\":\"\"},\"baxis\":{\"gridcolor\":\"white\",\"linecolor\":\"white\",\"ticks\":\"\"},\"caxis\":{\"gridcolor\":\"white\",\"linecolor\":\"white\",\"ticks\":\"\"}},\"coloraxis\":{\"colorbar\":{\"outlinewidth\":0,\"ticks\":\"\"}},\"colorscale\":{\"sequential\":[[0.0,\"#0d0887\"],[0.1111111111111111,\"#46039f\"],[0.2222222222222222,\"#7201a8\"],[0.3333333333333333,\"#9c179e\"],[0.4444444444444444,\"#bd3786\"],[0.5555555555555556,\"#d8576b\"],[0.6666666666666666,\"#ed7953\"],[0.7777777777777778,\"#fb9f3a\"],[0.8888888888888888,\"#fdca26\"],[1.0,\"#f0f921\"]],\"sequentialminus\":[[0.0,\"#0d0887\"],[0.1111111111111111,\"#46039f\"],[0.2222222222222222,\"#7201a8\"],[0.3333333333333333,\"#9c179e\"],[0.4444444444444444,\"#bd3786\"],[0.5555555555555556,\"#d8576b\"],[0.6666666666666666,\"#ed7953\"],[0.7777777777777778,\"#fb9f3a\"],[0.8888888888888888,\"#fdca26\"],[1.0,\"#f0f921\"]],\"diverging\":[[0,\"#8e0152\"],[0.1,\"#c51b7d\"],[0.2,\"#de77ae\"],[0.3,\"#f1b6da\"],[0.4,\"#fde0ef\"],[0.5,\"#f7f7f7\"],[0.6,\"#e6f5d0\"],[0.7,\"#b8e186\"],[0.8,\"#7fbc41\"],[0.9,\"#4d9221\"],[1,\"#276419\"]]},\"xaxis\":{\"gridcolor\":\"white\",\"linecolor\":\"white\",\"ticks\":\"\",\"title\":{\"standoff\":15},\"zerolinecolor\":\"white\",\"automargin\":true,\"zerolinewidth\":2},\"yaxis\":{\"gridcolor\":\"white\",\"linecolor\":\"white\",\"ticks\":\"\",\"title\":{\"standoff\":15},\"zerolinecolor\":\"white\",\"automargin\":true,\"zerolinewidth\":2},\"scene\":{\"xaxis\":{\"backgroundcolor\":\"#E5ECF6\",\"gridcolor\":\"white\",\"linecolor\":\"white\",\"showbackground\":true,\"ticks\":\"\",\"zerolinecolor\":\"white\",\"gridwidth\":2},\"yaxis\":{\"backgroundcolor\":\"#E5ECF6\",\"gridcolor\":\"white\",\"linecolor\":\"white\",\"showbackground\":true,\"ticks\":\"\",\"zerolinecolor\":\"white\",\"gridwidth\":2},\"zaxis\":{\"backgroundcolor\":\"#E5ECF6\",\"gridcolor\":\"white\",\"linecolor\":\"white\",\"showbackground\":true,\"ticks\":\"\",\"zerolinecolor\":\"white\",\"gridwidth\":2}},\"shapedefaults\":{\"line\":{\"color\":\"#2a3f5f\"}},\"annotationdefaults\":{\"arrowcolor\":\"#2a3f5f\",\"arrowhead\":0,\"arrowwidth\":1},\"geo\":{\"bgcolor\":\"white\",\"landcolor\":\"#E5ECF6\",\"subunitcolor\":\"white\",\"showland\":true,\"showlakes\":true,\"lakecolor\":\"white\"},\"title\":{\"x\":0.05},\"mapbox\":{\"style\":\"light\"}}},\"xaxis\":{\"anchor\":\"y\",\"domain\":[0.0,1.0],\"title\":{\"text\":\"index\"}},\"yaxis\":{\"anchor\":\"x\",\"domain\":[0.0,1.0],\"title\":{\"text\":\"PC2\"}},\"coloraxis\":{\"colorbar\":{\"title\":{\"text\":\"PC2\"}},\"colorscale\":[[0.0,\"#0d0887\"],[0.1111111111111111,\"#46039f\"],[0.2222222222222222,\"#7201a8\"],[0.3333333333333333,\"#9c179e\"],[0.4444444444444444,\"#bd3786\"],[0.5555555555555556,\"#d8576b\"],[0.6666666666666666,\"#ed7953\"],[0.7777777777777778,\"#fb9f3a\"],[0.8888888888888888,\"#fdca26\"],[1.0,\"#f0f921\"]]},\"legend\":{\"tracegroupgap\":0},\"title\":{\"text\":\"PC2 loadings\"},\"barmode\":\"relative\"},                        {\"responsive\": true}                    ).then(function(){\n",
       "                            \n",
       "var gd = document.getElementById('0a0f735d-121b-4152-bcb8-b291bc9ad967');\n",
       "var x = new MutationObserver(function (mutations, observer) {{\n",
       "        var display = window.getComputedStyle(gd).display;\n",
       "        if (!display || display === 'none') {{\n",
       "            console.log([gd, 'removed!']);\n",
       "            Plotly.purge(gd);\n",
       "            observer.disconnect();\n",
       "        }}\n",
       "}});\n",
       "\n",
       "// Listen for the removal of the full notebook cells\n",
       "var notebookContainer = gd.closest('#notebook-container');\n",
       "if (notebookContainer) {{\n",
       "    x.observe(notebookContainer, {childList: true});\n",
       "}}\n",
       "\n",
       "// Listen for the clearing of the current output cell\n",
       "var outputEl = gd.closest('.output');\n",
       "if (outputEl) {{\n",
       "    x.observe(outputEl, {childList: true});\n",
       "}}\n",
       "\n",
       "                        })                };                });            </script>        </div>"
      ]
     },
     "metadata": {},
     "output_type": "display_data"
    }
   ],
   "source": [
    "fig = px.bar(loadings, \n",
    "             x=loadings.index, \n",
    "             y='PC2', \n",
    "             color='PC2', \n",
    "             title = 'PC2 loadings')\n",
    "fig.show()"
   ]
  },
  {
   "cell_type": "code",
   "execution_count": 97,
   "id": "fd64731a",
   "metadata": {},
   "outputs": [
    {
     "data": {
      "text/html": [
       "<div>\n",
       "<style scoped>\n",
       "    .dataframe tbody tr th:only-of-type {\n",
       "        vertical-align: middle;\n",
       "    }\n",
       "\n",
       "    .dataframe tbody tr th {\n",
       "        vertical-align: top;\n",
       "    }\n",
       "\n",
       "    .dataframe thead th {\n",
       "        text-align: right;\n",
       "    }\n",
       "</style>\n",
       "<table border=\"1\" class=\"dataframe\">\n",
       "  <thead>\n",
       "    <tr style=\"text-align: right;\">\n",
       "      <th></th>\n",
       "      <th>274</th>\n",
       "    </tr>\n",
       "  </thead>\n",
       "  <tbody>\n",
       "    <tr>\n",
       "      <th>date</th>\n",
       "      <td>2016-03-23</td>\n",
       "    </tr>\n",
       "    <tr>\n",
       "      <th>source</th>\n",
       "      <td>oba</td>\n",
       "    </tr>\n",
       "    <tr>\n",
       "      <th>ADJ</th>\n",
       "      <td>0.069703</td>\n",
       "    </tr>\n",
       "    <tr>\n",
       "      <th>ADP</th>\n",
       "      <td>0.076828</td>\n",
       "    </tr>\n",
       "    <tr>\n",
       "      <th>ADV</th>\n",
       "      <td>0.061958</td>\n",
       "    </tr>\n",
       "    <tr>\n",
       "      <th>AUX</th>\n",
       "      <td>0.053903</td>\n",
       "    </tr>\n",
       "    <tr>\n",
       "      <th>CCONJ</th>\n",
       "      <td>0.078377</td>\n",
       "    </tr>\n",
       "    <tr>\n",
       "      <th>DET</th>\n",
       "      <td>0.077447</td>\n",
       "    </tr>\n",
       "    <tr>\n",
       "      <th>INTJ</th>\n",
       "      <td>0.0</td>\n",
       "    </tr>\n",
       "    <tr>\n",
       "      <th>NOUN</th>\n",
       "      <td>0.078686</td>\n",
       "    </tr>\n",
       "    <tr>\n",
       "      <th>NUM</th>\n",
       "      <td>0.078067</td>\n",
       "    </tr>\n",
       "    <tr>\n",
       "      <th>PART</th>\n",
       "      <td>0.067534</td>\n",
       "    </tr>\n",
       "    <tr>\n",
       "      <th>PRON</th>\n",
       "      <td>0.072491</td>\n",
       "    </tr>\n",
       "    <tr>\n",
       "      <th>PROPN</th>\n",
       "      <td>0.077138</td>\n",
       "    </tr>\n",
       "    <tr>\n",
       "      <th>PUNCT</th>\n",
       "      <td>0.078996</td>\n",
       "    </tr>\n",
       "    <tr>\n",
       "      <th>SCONJ</th>\n",
       "      <td>0.052664</td>\n",
       "    </tr>\n",
       "    <tr>\n",
       "      <th>SYM</th>\n",
       "      <td>0.0</td>\n",
       "    </tr>\n",
       "    <tr>\n",
       "      <th>VERB</th>\n",
       "      <td>0.076208</td>\n",
       "    </tr>\n",
       "    <tr>\n",
       "      <th>enc_value</th>\n",
       "      <td>[-3.1408453, -0.4640198, -2.0588233, 1.1760383...</td>\n",
       "    </tr>\n",
       "    <tr>\n",
       "      <th>PCA1</th>\n",
       "      <td>-5.684516</td>\n",
       "    </tr>\n",
       "    <tr>\n",
       "      <th>PCA2</th>\n",
       "      <td>-5.602075</td>\n",
       "    </tr>\n",
       "    <tr>\n",
       "      <th>anger</th>\n",
       "      <td>0.096774</td>\n",
       "    </tr>\n",
       "    <tr>\n",
       "      <th>anticipation</th>\n",
       "      <td>0.16129</td>\n",
       "    </tr>\n",
       "    <tr>\n",
       "      <th>disgust</th>\n",
       "      <td>0.032258</td>\n",
       "    </tr>\n",
       "    <tr>\n",
       "      <th>fear</th>\n",
       "      <td>0.16129</td>\n",
       "    </tr>\n",
       "    <tr>\n",
       "      <th>joy</th>\n",
       "      <td>0.032258</td>\n",
       "    </tr>\n",
       "    <tr>\n",
       "      <th>negative</th>\n",
       "      <td>0.096774</td>\n",
       "    </tr>\n",
       "    <tr>\n",
       "      <th>positive</th>\n",
       "      <td>0.225806</td>\n",
       "    </tr>\n",
       "    <tr>\n",
       "      <th>sadness</th>\n",
       "      <td>0.064516</td>\n",
       "    </tr>\n",
       "    <tr>\n",
       "      <th>surprise</th>\n",
       "      <td>0.032258</td>\n",
       "    </tr>\n",
       "    <tr>\n",
       "      <th>trust</th>\n",
       "      <td>0.096774</td>\n",
       "    </tr>\n",
       "    <tr>\n",
       "      <th>num_sents</th>\n",
       "      <td>5</td>\n",
       "    </tr>\n",
       "    <tr>\n",
       "      <th>num_words</th>\n",
       "      <td>245</td>\n",
       "    </tr>\n",
       "    <tr>\n",
       "      <th>num_unique_words</th>\n",
       "      <td>130</td>\n",
       "    </tr>\n",
       "    <tr>\n",
       "      <th>depth</th>\n",
       "      <td>9.8</td>\n",
       "    </tr>\n",
       "    <tr>\n",
       "      <th>TBsubjectivity</th>\n",
       "      <td>0.145833</td>\n",
       "    </tr>\n",
       "    <tr>\n",
       "      <th>TBpolarity</th>\n",
       "      <td>-0.028125</td>\n",
       "    </tr>\n",
       "    <tr>\n",
       "      <th>words_per_sentence</th>\n",
       "      <td>49.0</td>\n",
       "    </tr>\n",
       "    <tr>\n",
       "      <th>char_count</th>\n",
       "      <td>1065</td>\n",
       "    </tr>\n",
       "    <tr>\n",
       "      <th>syl_count</th>\n",
       "      <td>358</td>\n",
       "    </tr>\n",
       "    <tr>\n",
       "      <th>word_count</th>\n",
       "      <td>228</td>\n",
       "    </tr>\n",
       "    <tr>\n",
       "      <th>char_per_word</th>\n",
       "      <td>4.671053</td>\n",
       "    </tr>\n",
       "    <tr>\n",
       "      <th>syl_per_word</th>\n",
       "      <td>1.570175</td>\n",
       "    </tr>\n",
       "    <tr>\n",
       "      <th>sent_count</th>\n",
       "      <td>5</td>\n",
       "    </tr>\n",
       "    <tr>\n",
       "      <th>word_per_sent</th>\n",
       "      <td>45.6</td>\n",
       "    </tr>\n",
       "    <tr>\n",
       "      <th>dc_word_count</th>\n",
       "      <td>77</td>\n",
       "    </tr>\n",
       "    <tr>\n",
       "      <th>gf_word_count</th>\n",
       "      <td>28</td>\n",
       "    </tr>\n",
       "    <tr>\n",
       "      <th>poly_word_count</th>\n",
       "      <td>35</td>\n",
       "    </tr>\n",
       "    <tr>\n",
       "      <th>dc_word_perc</th>\n",
       "      <td>0.337719</td>\n",
       "    </tr>\n",
       "    <tr>\n",
       "      <th>gf_word_perc</th>\n",
       "      <td>0.122807</td>\n",
       "    </tr>\n",
       "    <tr>\n",
       "      <th>poly_word_perc</th>\n",
       "      <td>0.153509</td>\n",
       "    </tr>\n",
       "    <tr>\n",
       "      <th>ari</th>\n",
       "      <td>23.370658</td>\n",
       "    </tr>\n",
       "    <tr>\n",
       "      <th>flesch_kincaid</th>\n",
       "      <td>20.72207</td>\n",
       "    </tr>\n",
       "    <tr>\n",
       "      <th>coleman_liau</th>\n",
       "      <td>11.016667</td>\n",
       "    </tr>\n",
       "    <tr>\n",
       "      <th>dale_chall</th>\n",
       "      <td>27.950188</td>\n",
       "    </tr>\n",
       "    <tr>\n",
       "      <th>gunning_fog</th>\n",
       "      <td>23.152281</td>\n",
       "    </tr>\n",
       "    <tr>\n",
       "      <th>smog</th>\n",
       "      <td>18.243606</td>\n",
       "    </tr>\n",
       "  </tbody>\n",
       "</table>\n",
       "</div>"
      ],
      "text/plain": [
       "                                                                  274\n",
       "date                                                       2016-03-23\n",
       "source                                                            oba\n",
       "ADJ                                                          0.069703\n",
       "ADP                                                          0.076828\n",
       "ADV                                                          0.061958\n",
       "AUX                                                          0.053903\n",
       "CCONJ                                                        0.078377\n",
       "DET                                                          0.077447\n",
       "INTJ                                                              0.0\n",
       "NOUN                                                         0.078686\n",
       "NUM                                                          0.078067\n",
       "PART                                                         0.067534\n",
       "PRON                                                         0.072491\n",
       "PROPN                                                        0.077138\n",
       "PUNCT                                                        0.078996\n",
       "SCONJ                                                        0.052664\n",
       "SYM                                                               0.0\n",
       "VERB                                                         0.076208\n",
       "enc_value           [-3.1408453, -0.4640198, -2.0588233, 1.1760383...\n",
       "PCA1                                                        -5.684516\n",
       "PCA2                                                        -5.602075\n",
       "anger                                                        0.096774\n",
       "anticipation                                                  0.16129\n",
       "disgust                                                      0.032258\n",
       "fear                                                          0.16129\n",
       "joy                                                          0.032258\n",
       "negative                                                     0.096774\n",
       "positive                                                     0.225806\n",
       "sadness                                                      0.064516\n",
       "surprise                                                     0.032258\n",
       "trust                                                        0.096774\n",
       "num_sents                                                           5\n",
       "num_words                                                         245\n",
       "num_unique_words                                                  130\n",
       "depth                                                             9.8\n",
       "TBsubjectivity                                               0.145833\n",
       "TBpolarity                                                  -0.028125\n",
       "words_per_sentence                                               49.0\n",
       "char_count                                                       1065\n",
       "syl_count                                                         358\n",
       "word_count                                                        228\n",
       "char_per_word                                                4.671053\n",
       "syl_per_word                                                 1.570175\n",
       "sent_count                                                          5\n",
       "word_per_sent                                                    45.6\n",
       "dc_word_count                                                      77\n",
       "gf_word_count                                                      28\n",
       "poly_word_count                                                    35\n",
       "dc_word_perc                                                 0.337719\n",
       "gf_word_perc                                                 0.122807\n",
       "poly_word_perc                                               0.153509\n",
       "ari                                                         23.370658\n",
       "flesch_kincaid                                               20.72207\n",
       "coleman_liau                                                11.016667\n",
       "dale_chall                                                  27.950188\n",
       "gunning_fog                                                 23.152281\n",
       "smog                                                        18.243606"
      ]
     },
     "execution_count": 97,
     "metadata": {},
     "output_type": "execute_result"
    }
   ],
   "source": [
    "# Furthes right Obama speech 2016-03-23\n",
    "df_tidy_all.query('source == \"oba\"').query('date == \"2016-03-23\"').T"
   ]
  },
  {
   "cell_type": "code",
   "execution_count": 112,
   "id": "2f59e964",
   "metadata": {},
   "outputs": [
    {
     "data": {
      "text/plain": [
       "0.05572808833678395"
      ]
     },
     "execution_count": 112,
     "metadata": {},
     "output_type": "execute_result"
    }
   ],
   "source": [
    "df_tidy_all.query('source == \"oba\"').anger.median()"
   ]
  },
  {
   "cell_type": "code",
   "execution_count": 114,
   "id": "f704b047",
   "metadata": {},
   "outputs": [
    {
     "data": {
      "text/plain": [
       "229    0.163636\n",
       "Name: anger, dtype: float64"
      ]
     },
     "execution_count": 114,
     "metadata": {},
     "output_type": "execute_result"
    }
   ],
   "source": [
    "df_tidy_all.query('source == \"oba\"').query('date == \"2015-01-08\"').anger"
   ]
  },
  {
   "cell_type": "code",
   "execution_count": 115,
   "id": "9b11c8db",
   "metadata": {},
   "outputs": [
    {
     "data": {
      "text/html": [
       "<div>\n",
       "<style scoped>\n",
       "    .dataframe tbody tr th:only-of-type {\n",
       "        vertical-align: middle;\n",
       "    }\n",
       "\n",
       "    .dataframe tbody tr th {\n",
       "        vertical-align: top;\n",
       "    }\n",
       "\n",
       "    .dataframe thead th {\n",
       "        text-align: right;\n",
       "    }\n",
       "</style>\n",
       "<table border=\"1\" class=\"dataframe\">\n",
       "  <thead>\n",
       "    <tr style=\"text-align: right;\">\n",
       "      <th></th>\n",
       "      <th>258</th>\n",
       "    </tr>\n",
       "  </thead>\n",
       "  <tbody>\n",
       "    <tr>\n",
       "      <th>date</th>\n",
       "      <td>2015-10-02</td>\n",
       "    </tr>\n",
       "    <tr>\n",
       "      <th>source</th>\n",
       "      <td>nyt</td>\n",
       "    </tr>\n",
       "    <tr>\n",
       "      <th>ADJ</th>\n",
       "      <td>0.067064</td>\n",
       "    </tr>\n",
       "    <tr>\n",
       "      <th>ADP</th>\n",
       "      <td>0.067354</td>\n",
       "    </tr>\n",
       "    <tr>\n",
       "      <th>ADV</th>\n",
       "      <td>0.064005</td>\n",
       "    </tr>\n",
       "    <tr>\n",
       "      <th>AUX</th>\n",
       "      <td>0.064842</td>\n",
       "    </tr>\n",
       "    <tr>\n",
       "      <th>CCONJ</th>\n",
       "      <td>0.067128</td>\n",
       "    </tr>\n",
       "    <tr>\n",
       "      <th>DET</th>\n",
       "      <td>0.067193</td>\n",
       "    </tr>\n",
       "    <tr>\n",
       "      <th>INTJ</th>\n",
       "      <td>0.028815</td>\n",
       "    </tr>\n",
       "    <tr>\n",
       "      <th>NOUN</th>\n",
       "      <td>0.067386</td>\n",
       "    </tr>\n",
       "    <tr>\n",
       "      <th>NUM</th>\n",
       "      <td>0.065035</td>\n",
       "    </tr>\n",
       "    <tr>\n",
       "      <th>PART</th>\n",
       "      <td>0.061301</td>\n",
       "    </tr>\n",
       "    <tr>\n",
       "      <th>PRON</th>\n",
       "      <td>0.067257</td>\n",
       "    </tr>\n",
       "    <tr>\n",
       "      <th>PROPN</th>\n",
       "      <td>0.066838</td>\n",
       "    </tr>\n",
       "    <tr>\n",
       "      <th>PUNCT</th>\n",
       "      <td>0.06745</td>\n",
       "    </tr>\n",
       "    <tr>\n",
       "      <th>SCONJ</th>\n",
       "      <td>0.066742</td>\n",
       "    </tr>\n",
       "    <tr>\n",
       "      <th>SYM</th>\n",
       "      <td>0.044301</td>\n",
       "    </tr>\n",
       "    <tr>\n",
       "      <th>VERB</th>\n",
       "      <td>0.067289</td>\n",
       "    </tr>\n",
       "    <tr>\n",
       "      <th>enc_value</th>\n",
       "      <td>[-1.9444184, 1.1604545, -2.3373566, 0.42289472...</td>\n",
       "    </tr>\n",
       "    <tr>\n",
       "      <th>PCA1</th>\n",
       "      <td>-2.240424</td>\n",
       "    </tr>\n",
       "    <tr>\n",
       "      <th>PCA2</th>\n",
       "      <td>4.065287</td>\n",
       "    </tr>\n",
       "    <tr>\n",
       "      <th>anger</th>\n",
       "      <td>0.098191</td>\n",
       "    </tr>\n",
       "    <tr>\n",
       "      <th>anticipation</th>\n",
       "      <td>0.085271</td>\n",
       "    </tr>\n",
       "    <tr>\n",
       "      <th>disgust</th>\n",
       "      <td>0.03876</td>\n",
       "    </tr>\n",
       "    <tr>\n",
       "      <th>fear</th>\n",
       "      <td>0.157623</td>\n",
       "    </tr>\n",
       "    <tr>\n",
       "      <th>joy</th>\n",
       "      <td>0.043928</td>\n",
       "    </tr>\n",
       "    <tr>\n",
       "      <th>negative</th>\n",
       "      <td>0.152455</td>\n",
       "    </tr>\n",
       "    <tr>\n",
       "      <th>positive</th>\n",
       "      <td>0.175711</td>\n",
       "    </tr>\n",
       "    <tr>\n",
       "      <th>sadness</th>\n",
       "      <td>0.069767</td>\n",
       "    </tr>\n",
       "    <tr>\n",
       "      <th>surprise</th>\n",
       "      <td>0.041344</td>\n",
       "    </tr>\n",
       "    <tr>\n",
       "      <th>trust</th>\n",
       "      <td>0.136951</td>\n",
       "    </tr>\n",
       "    <tr>\n",
       "      <th>num_sents</th>\n",
       "      <td>98</td>\n",
       "    </tr>\n",
       "    <tr>\n",
       "      <th>num_words</th>\n",
       "      <td>1972</td>\n",
       "    </tr>\n",
       "    <tr>\n",
       "      <th>num_unique_words</th>\n",
       "      <td>789</td>\n",
       "    </tr>\n",
       "    <tr>\n",
       "      <th>depth</th>\n",
       "      <td>5.091837</td>\n",
       "    </tr>\n",
       "    <tr>\n",
       "      <th>TBsubjectivity</th>\n",
       "      <td>0.420772</td>\n",
       "    </tr>\n",
       "    <tr>\n",
       "      <th>TBpolarity</th>\n",
       "      <td>0.032871</td>\n",
       "    </tr>\n",
       "    <tr>\n",
       "      <th>words_per_sentence</th>\n",
       "      <td>20.122449</td>\n",
       "    </tr>\n",
       "    <tr>\n",
       "      <th>char_count</th>\n",
       "      <td>8209</td>\n",
       "    </tr>\n",
       "    <tr>\n",
       "      <th>syl_count</th>\n",
       "      <td>2653</td>\n",
       "    </tr>\n",
       "    <tr>\n",
       "      <th>word_count</th>\n",
       "      <td>1789</td>\n",
       "    </tr>\n",
       "    <tr>\n",
       "      <th>char_per_word</th>\n",
       "      <td>4.588597</td>\n",
       "    </tr>\n",
       "    <tr>\n",
       "      <th>syl_per_word</th>\n",
       "      <td>1.482951</td>\n",
       "    </tr>\n",
       "    <tr>\n",
       "      <th>sent_count</th>\n",
       "      <td>98</td>\n",
       "    </tr>\n",
       "    <tr>\n",
       "      <th>word_per_sent</th>\n",
       "      <td>18.255102</td>\n",
       "    </tr>\n",
       "    <tr>\n",
       "      <th>dc_word_count</th>\n",
       "      <td>680</td>\n",
       "    </tr>\n",
       "    <tr>\n",
       "      <th>gf_word_count</th>\n",
       "      <td>173</td>\n",
       "    </tr>\n",
       "    <tr>\n",
       "      <th>poly_word_count</th>\n",
       "      <td>191</td>\n",
       "    </tr>\n",
       "    <tr>\n",
       "      <th>dc_word_perc</th>\n",
       "      <td>0.380101</td>\n",
       "    </tr>\n",
       "    <tr>\n",
       "      <th>gf_word_perc</th>\n",
       "      <td>0.096702</td>\n",
       "    </tr>\n",
       "    <tr>\n",
       "      <th>poly_word_perc</th>\n",
       "      <td>0.106764</td>\n",
       "    </tr>\n",
       "    <tr>\n",
       "      <th>ari</th>\n",
       "      <td>9.309843</td>\n",
       "    </tr>\n",
       "    <tr>\n",
       "      <th>flesch_kincaid</th>\n",
       "      <td>9.028316</td>\n",
       "    </tr>\n",
       "    <tr>\n",
       "      <th>coleman_liau</th>\n",
       "      <td>9.559486</td>\n",
       "    </tr>\n",
       "    <tr>\n",
       "      <th>dale_chall</th>\n",
       "      <td>15.056319</td>\n",
       "    </tr>\n",
       "    <tr>\n",
       "      <th>gunning_fog</th>\n",
       "      <td>11.170124</td>\n",
       "    </tr>\n",
       "    <tr>\n",
       "      <th>smog</th>\n",
       "      <td>11.104429</td>\n",
       "    </tr>\n",
       "  </tbody>\n",
       "</table>\n",
       "</div>"
      ],
      "text/plain": [
       "                                                                  258\n",
       "date                                                       2015-10-02\n",
       "source                                                            nyt\n",
       "ADJ                                                          0.067064\n",
       "ADP                                                          0.067354\n",
       "ADV                                                          0.064005\n",
       "AUX                                                          0.064842\n",
       "CCONJ                                                        0.067128\n",
       "DET                                                          0.067193\n",
       "INTJ                                                         0.028815\n",
       "NOUN                                                         0.067386\n",
       "NUM                                                          0.065035\n",
       "PART                                                         0.061301\n",
       "PRON                                                         0.067257\n",
       "PROPN                                                        0.066838\n",
       "PUNCT                                                         0.06745\n",
       "SCONJ                                                        0.066742\n",
       "SYM                                                          0.044301\n",
       "VERB                                                         0.067289\n",
       "enc_value           [-1.9444184, 1.1604545, -2.3373566, 0.42289472...\n",
       "PCA1                                                        -2.240424\n",
       "PCA2                                                         4.065287\n",
       "anger                                                        0.098191\n",
       "anticipation                                                 0.085271\n",
       "disgust                                                       0.03876\n",
       "fear                                                         0.157623\n",
       "joy                                                          0.043928\n",
       "negative                                                     0.152455\n",
       "positive                                                     0.175711\n",
       "sadness                                                      0.069767\n",
       "surprise                                                     0.041344\n",
       "trust                                                        0.136951\n",
       "num_sents                                                          98\n",
       "num_words                                                        1972\n",
       "num_unique_words                                                  789\n",
       "depth                                                        5.091837\n",
       "TBsubjectivity                                               0.420772\n",
       "TBpolarity                                                   0.032871\n",
       "words_per_sentence                                          20.122449\n",
       "char_count                                                       8209\n",
       "syl_count                                                        2653\n",
       "word_count                                                       1789\n",
       "char_per_word                                                4.588597\n",
       "syl_per_word                                                 1.482951\n",
       "sent_count                                                         98\n",
       "word_per_sent                                               18.255102\n",
       "dc_word_count                                                     680\n",
       "gf_word_count                                                     173\n",
       "poly_word_count                                                   191\n",
       "dc_word_perc                                                 0.380101\n",
       "gf_word_perc                                                 0.096702\n",
       "poly_word_perc                                               0.106764\n",
       "ari                                                          9.309843\n",
       "flesch_kincaid                                               9.028316\n",
       "coleman_liau                                                 9.559486\n",
       "dale_chall                                                  15.056319\n",
       "gunning_fog                                                 11.170124\n",
       "smog                                                        11.104429"
      ]
     },
     "execution_count": 115,
     "metadata": {},
     "output_type": "execute_result"
    }
   ],
   "source": [
    "df_tidy_all.query('source == \"nyt\"').query('date == \"2015-10-02\"').T"
   ]
  },
  {
   "cell_type": "code",
   "execution_count": 117,
   "id": "9fbb5237",
   "metadata": {},
   "outputs": [
    {
     "data": {
      "text/plain": [
       "ADJ                      0.069442\n",
       "ADP                      0.069782\n",
       "ADV                      0.068327\n",
       "AUX                      0.069364\n",
       "CCONJ                    0.068404\n",
       "DET                      0.069633\n",
       "INTJ                     0.000000\n",
       "NOUN                     0.070115\n",
       "NUM                      0.065055\n",
       "PART                     0.068897\n",
       "PRON                     0.069390\n",
       "PROPN                    0.068867\n",
       "PUNCT                    0.070332\n",
       "SCONJ                    0.067977\n",
       "SYM                      0.000000\n",
       "VERB                     0.069982\n",
       "PCA1                    -2.821981\n",
       "PCA2                     0.247196\n",
       "anger                    0.070658\n",
       "anticipation             0.094775\n",
       "disgust                  0.026988\n",
       "fear                     0.092532\n",
       "joy                      0.052242\n",
       "negative                 0.152947\n",
       "positive                 0.230911\n",
       "sadness                  0.063914\n",
       "surprise                 0.038627\n",
       "trust                    0.154262\n",
       "num_sents               51.500000\n",
       "num_words             1435.000000\n",
       "num_unique_words       619.000000\n",
       "depth                    6.477273\n",
       "TBsubjectivity           0.407215\n",
       "TBpolarity               0.066894\n",
       "words_per_sentence      27.243083\n",
       "char_count            6532.000000\n",
       "syl_count             2189.500000\n",
       "word_count            1347.500000\n",
       "char_per_word            4.811584\n",
       "syl_per_word             1.627680\n",
       "sent_count              51.500000\n",
       "word_per_sent           25.240620\n",
       "dc_word_count          544.000000\n",
       "gf_word_count          205.500000\n",
       "poly_word_count        235.000000\n",
       "dc_word_perc             0.410293\n",
       "gf_word_perc             0.156695\n",
       "poly_word_perc           0.177632\n",
       "ari                     14.027747\n",
       "flesch_kincaid          13.667585\n",
       "coleman_liau            11.332523\n",
       "dale_chall              19.062539\n",
       "gunning_fog             16.614654\n",
       "smog                    15.274565\n",
       "dtype: float64"
      ]
     },
     "execution_count": 117,
     "metadata": {},
     "output_type": "execute_result"
    }
   ],
   "source": [
    "df_tidy_all.query('source == \"nyt\"').median(numeric_only=True)"
   ]
  },
  {
   "cell_type": "markdown",
   "id": "ce37d77f",
   "metadata": {},
   "source": [
    "<A HREF=\"https://plotly.com/python/figure-factory-table/\">Plotly Figure Factory</A>"
   ]
  },
  {
   "cell_type": "code",
   "execution_count": 42,
   "id": "5a504007",
   "metadata": {},
   "outputs": [
    {
     "data": {
      "text/plain": [
       "20.66673983026046"
      ]
     },
     "execution_count": 42,
     "metadata": {},
     "output_type": "execute_result"
    }
   ],
   "source": [
    "df_tidy.query('source == \"oba\"').words_per_sentence.median()"
   ]
  },
  {
   "cell_type": "code",
   "execution_count": 39,
   "id": "874b8c9c",
   "metadata": {},
   "outputs": [
    {
     "data": {
      "text/plain": [
       "3.974525548147794"
      ]
     },
     "execution_count": 39,
     "metadata": {},
     "output_type": "execute_result"
    }
   ],
   "source": [
    "df_tidy.query('source == \"oba\"').words_per_sentence.std()"
   ]
  },
  {
   "cell_type": "code",
   "execution_count": 43,
   "id": "96143560",
   "metadata": {},
   "outputs": [
    {
     "data": {
      "text/plain": [
       "27.24308300395257"
      ]
     },
     "execution_count": 43,
     "metadata": {},
     "output_type": "execute_result"
    }
   ],
   "source": [
    "df_tidy.query('source == \"nyt\"').words_per_sentence.median()"
   ]
  },
  {
   "cell_type": "code",
   "execution_count": 40,
   "id": "ccd2c410",
   "metadata": {},
   "outputs": [
    {
     "data": {
      "text/plain": [
       "4.13493756317543"
      ]
     },
     "execution_count": 40,
     "metadata": {},
     "output_type": "execute_result"
    }
   ],
   "source": [
    "df_tidy.query('source == \"nyt\"').words_per_sentence.std()"
   ]
  },
  {
   "cell_type": "code",
   "execution_count": 44,
   "id": "a03c3c24",
   "metadata": {},
   "outputs": [
    {
     "data": {
      "text/plain": [
       "24.980288461538464"
      ]
     },
     "execution_count": 44,
     "metadata": {},
     "output_type": "execute_result"
    }
   ],
   "source": [
    "df_tidy.query('source == \"wsj\"').words_per_sentence.median()"
   ]
  },
  {
   "cell_type": "code",
   "execution_count": 41,
   "id": "b090d6fe",
   "metadata": {},
   "outputs": [
    {
     "data": {
      "text/plain": [
       "3.3016256473246495"
      ]
     },
     "execution_count": 41,
     "metadata": {},
     "output_type": "execute_result"
    }
   ],
   "source": [
    "df_tidy.query('source == \"wsj\"').words_per_sentence.std()"
   ]
  },
  {
   "cell_type": "code",
   "execution_count": 53,
   "id": "56757d43",
   "metadata": {},
   "outputs": [
    {
     "data": {
      "text/plain": [
       "1.8660367791631192"
      ]
     },
     "execution_count": 53,
     "metadata": {},
     "output_type": "execute_result"
    }
   ],
   "source": [
    "df_tidy.query('source == \"oba\"').dale_chall.std()"
   ]
  },
  {
   "cell_type": "code",
   "execution_count": 54,
   "id": "0e837ab2",
   "metadata": {},
   "outputs": [
    {
     "data": {
      "text/plain": [
       "2.0675398047665117"
      ]
     },
     "execution_count": 54,
     "metadata": {},
     "output_type": "execute_result"
    }
   ],
   "source": [
    "df_tidy.query('source == \"nyt\"').dale_chall.std()"
   ]
  },
  {
   "cell_type": "code",
   "execution_count": 55,
   "id": "c0b9e136",
   "metadata": {},
   "outputs": [
    {
     "data": {
      "text/plain": [
       "1.748271429016244"
      ]
     },
     "execution_count": 55,
     "metadata": {},
     "output_type": "execute_result"
    }
   ],
   "source": [
    "df_tidy.query('source == \"wsj\"').dale_chall.std()"
   ]
  },
  {
   "cell_type": "markdown",
   "id": "0bac6567",
   "metadata": {},
   "source": [
    "<A HREF=\"https://plotly.com/python/figure-factory-table/\">Plotly figure factory documentation</A>"
   ]
  },
  {
   "cell_type": "code",
   "execution_count": 119,
   "id": "36772d0f",
   "metadata": {},
   "outputs": [
    {
     "data": {
      "application/vnd.plotly.v1+json": {
       "config": {
        "plotlyServerURL": "https://plot.ly"
       },
       "data": [
        {
         "colorscale": [
          [
           0,
           "#00083e"
          ],
          [
           0.5,
           "#ededee"
          ],
          [
           1,
           "#ffffff"
          ]
         ],
         "hoverinfo": "none",
         "opacity": 0.75,
         "showscale": false,
         "type": "heatmap",
         "z": [
          [
           0,
           0,
           0
          ],
          [
           0.5,
           0.5,
           0.5
          ],
          [
           1,
           1,
           1
          ],
          [
           0.5,
           0.5,
           0.5
          ],
          [
           1,
           1,
           1
          ],
          [
           0.5,
           0.5,
           0.5
          ],
          [
           1,
           1,
           1
          ],
          [
           0.5,
           0.5,
           0.5
          ],
          [
           1,
           1,
           1
          ],
          [
           0.5,
           0.5,
           0.5
          ],
          [
           1,
           1,
           1
          ],
          [
           0.5,
           0.5,
           0.5
          ],
          [
           1,
           1,
           1
          ],
          [
           0.5,
           0.5,
           0.5
          ],
          [
           1,
           1,
           1
          ],
          [
           0.5,
           0.5,
           0.5
          ],
          [
           1,
           1,
           1
          ],
          [
           0.5,
           0.5,
           0.5
          ],
          [
           1,
           1,
           1
          ],
          [
           0.5,
           0.5,
           0.5
          ],
          [
           1,
           1,
           1
          ],
          [
           0.5,
           0.5,
           0.5
          ],
          [
           1,
           1,
           1
          ],
          [
           0.5,
           0.5,
           0.5
          ],
          [
           1,
           1,
           1
          ],
          [
           0.5,
           0.5,
           0.5
          ],
          [
           1,
           1,
           1
          ],
          [
           0.5,
           0.5,
           0.5
          ],
          [
           1,
           1,
           1
          ],
          [
           0.5,
           0.5,
           0.5
          ],
          [
           1,
           1,
           1
          ],
          [
           0.5,
           0.5,
           0.5
          ],
          [
           1,
           1,
           1
          ],
          [
           0.5,
           0.5,
           0.5
          ],
          [
           1,
           1,
           1
          ],
          [
           0.5,
           0.5,
           0.5
          ],
          [
           1,
           1,
           1
          ],
          [
           0.5,
           0.5,
           0.5
          ],
          [
           1,
           1,
           1
          ],
          [
           0.5,
           0.5,
           0.5
          ],
          [
           1,
           1,
           1
          ],
          [
           0.5,
           0.5,
           0.5
          ],
          [
           1,
           1,
           1
          ],
          [
           0.5,
           0.5,
           0.5
          ]
         ]
        }
       ],
       "layout": {
        "annotations": [
         {
          "align": "left",
          "font": {
           "color": "#ffffff"
          },
          "showarrow": false,
          "text": "<b>PC1</b>",
          "x": -0.45,
          "xanchor": "left",
          "xref": "x",
          "y": 0,
          "yref": "y"
         },
         {
          "align": "left",
          "font": {
           "color": "#ffffff"
          },
          "showarrow": false,
          "text": "<b>PC2</b>",
          "x": 0.55,
          "xanchor": "left",
          "xref": "x",
          "y": 0,
          "yref": "y"
         },
         {
          "align": "left",
          "font": {
           "color": "#ffffff"
          },
          "showarrow": false,
          "text": "<b>var</b>",
          "x": 1.55,
          "xanchor": "left",
          "xref": "x",
          "y": 0,
          "yref": "y"
         },
         {
          "align": "left",
          "font": {
           "color": "#000000"
          },
          "showarrow": false,
          "text": "-0.167",
          "x": -0.45,
          "xanchor": "left",
          "xref": "x",
          "y": 1,
          "yref": "y"
         },
         {
          "align": "left",
          "font": {
           "color": "#000000"
          },
          "showarrow": false,
          "text": "-0.105",
          "x": 0.55,
          "xanchor": "left",
          "xref": "x",
          "y": 1,
          "yref": "y"
         },
         {
          "align": "left",
          "font": {
           "color": "#000000"
          },
          "showarrow": false,
          "text": "INTJ",
          "x": 1.55,
          "xanchor": "left",
          "xref": "x",
          "y": 1,
          "yref": "y"
         },
         {
          "align": "left",
          "font": {
           "color": "#000000"
          },
          "showarrow": false,
          "text": "-0.132",
          "x": -0.45,
          "xanchor": "left",
          "xref": "x",
          "y": 2,
          "yref": "y"
         },
         {
          "align": "left",
          "font": {
           "color": "#000000"
          },
          "showarrow": false,
          "text": "-0.095",
          "x": 0.55,
          "xanchor": "left",
          "xref": "x",
          "y": 2,
          "yref": "y"
         },
         {
          "align": "left",
          "font": {
           "color": "#000000"
          },
          "showarrow": false,
          "text": "num_unique_words",
          "x": 1.55,
          "xanchor": "left",
          "xref": "x",
          "y": 2,
          "yref": "y"
         },
         {
          "align": "left",
          "font": {
           "color": "#000000"
          },
          "showarrow": false,
          "text": "-0.132",
          "x": -0.45,
          "xanchor": "left",
          "xref": "x",
          "y": 3,
          "yref": "y"
         },
         {
          "align": "left",
          "font": {
           "color": "#000000"
          },
          "showarrow": false,
          "text": "0.027",
          "x": 0.55,
          "xanchor": "left",
          "xref": "x",
          "y": 3,
          "yref": "y"
         },
         {
          "align": "left",
          "font": {
           "color": "#000000"
          },
          "showarrow": false,
          "text": "joy",
          "x": 1.55,
          "xanchor": "left",
          "xref": "x",
          "y": 3,
          "yref": "y"
         },
         {
          "align": "left",
          "font": {
           "color": "#000000"
          },
          "showarrow": false,
          "text": "-0.129",
          "x": -0.45,
          "xanchor": "left",
          "xref": "x",
          "y": 4,
          "yref": "y"
         },
         {
          "align": "left",
          "font": {
           "color": "#000000"
          },
          "showarrow": false,
          "text": "0.001",
          "x": 0.55,
          "xanchor": "left",
          "xref": "x",
          "y": 4,
          "yref": "y"
         },
         {
          "align": "left",
          "font": {
           "color": "#000000"
          },
          "showarrow": false,
          "text": "TBpolarity",
          "x": 1.55,
          "xanchor": "left",
          "xref": "x",
          "y": 4,
          "yref": "y"
         },
         {
          "align": "left",
          "font": {
           "color": "#000000"
          },
          "showarrow": false,
          "text": "-0.126",
          "x": -0.45,
          "xanchor": "left",
          "xref": "x",
          "y": 5,
          "yref": "y"
         },
         {
          "align": "left",
          "font": {
           "color": "#000000"
          },
          "showarrow": false,
          "text": "0.058",
          "x": 0.55,
          "xanchor": "left",
          "xref": "x",
          "y": 5,
          "yref": "y"
         },
         {
          "align": "left",
          "font": {
           "color": "#000000"
          },
          "showarrow": false,
          "text": "TBsubjectivity",
          "x": 1.55,
          "xanchor": "left",
          "xref": "x",
          "y": 5,
          "yref": "y"
         },
         {
          "align": "left",
          "font": {
           "color": "#000000"
          },
          "showarrow": false,
          "text": "-0.073",
          "x": -0.45,
          "xanchor": "left",
          "xref": "x",
          "y": 6,
          "yref": "y"
         },
         {
          "align": "left",
          "font": {
           "color": "#000000"
          },
          "showarrow": false,
          "text": "-0.213",
          "x": 0.55,
          "xanchor": "left",
          "xref": "x",
          "y": 6,
          "yref": "y"
         },
         {
          "align": "left",
          "font": {
           "color": "#000000"
          },
          "showarrow": false,
          "text": "SYM",
          "x": 1.55,
          "xanchor": "left",
          "xref": "x",
          "y": 6,
          "yref": "y"
         },
         {
          "align": "left",
          "font": {
           "color": "#000000"
          },
          "showarrow": false,
          "text": "-0.066",
          "x": -0.45,
          "xanchor": "left",
          "xref": "x",
          "y": 7,
          "yref": "y"
         },
         {
          "align": "left",
          "font": {
           "color": "#000000"
          },
          "showarrow": false,
          "text": "-0.023",
          "x": 0.55,
          "xanchor": "left",
          "xref": "x",
          "y": 7,
          "yref": "y"
         },
         {
          "align": "left",
          "font": {
           "color": "#000000"
          },
          "showarrow": false,
          "text": "anticipation",
          "x": 1.55,
          "xanchor": "left",
          "xref": "x",
          "y": 7,
          "yref": "y"
         },
         {
          "align": "left",
          "font": {
           "color": "#000000"
          },
          "showarrow": false,
          "text": "-0.038",
          "x": -0.45,
          "xanchor": "left",
          "xref": "x",
          "y": 8,
          "yref": "y"
         },
         {
          "align": "left",
          "font": {
           "color": "#000000"
          },
          "showarrow": false,
          "text": "0.005",
          "x": 0.55,
          "xanchor": "left",
          "xref": "x",
          "y": 8,
          "yref": "y"
         },
         {
          "align": "left",
          "font": {
           "color": "#000000"
          },
          "showarrow": false,
          "text": "surprise",
          "x": 1.55,
          "xanchor": "left",
          "xref": "x",
          "y": 8,
          "yref": "y"
         },
         {
          "align": "left",
          "font": {
           "color": "#000000"
          },
          "showarrow": false,
          "text": "-0.013",
          "x": -0.45,
          "xanchor": "left",
          "xref": "x",
          "y": 9,
          "yref": "y"
         },
         {
          "align": "left",
          "font": {
           "color": "#000000"
          },
          "showarrow": false,
          "text": "-0.012",
          "x": 0.55,
          "xanchor": "left",
          "xref": "x",
          "y": 9,
          "yref": "y"
         },
         {
          "align": "left",
          "font": {
           "color": "#000000"
          },
          "showarrow": false,
          "text": "sadness",
          "x": 1.55,
          "xanchor": "left",
          "xref": "x",
          "y": 9,
          "yref": "y"
         },
         {
          "align": "left",
          "font": {
           "color": "#000000"
          },
          "showarrow": false,
          "text": "-0.005",
          "x": -0.45,
          "xanchor": "left",
          "xref": "x",
          "y": 10,
          "yref": "y"
         },
         {
          "align": "left",
          "font": {
           "color": "#000000"
          },
          "showarrow": false,
          "text": "-0.005",
          "x": 0.55,
          "xanchor": "left",
          "xref": "x",
          "y": 10,
          "yref": "y"
         },
         {
          "align": "left",
          "font": {
           "color": "#000000"
          },
          "showarrow": false,
          "text": "positive",
          "x": 1.55,
          "xanchor": "left",
          "xref": "x",
          "y": 10,
          "yref": "y"
         },
         {
          "align": "left",
          "font": {
           "color": "#000000"
          },
          "showarrow": false,
          "text": "-0.002",
          "x": -0.45,
          "xanchor": "left",
          "xref": "x",
          "y": 11,
          "yref": "y"
         },
         {
          "align": "left",
          "font": {
           "color": "#000000"
          },
          "showarrow": false,
          "text": "0.005",
          "x": 0.55,
          "xanchor": "left",
          "xref": "x",
          "y": 11,
          "yref": "y"
         },
         {
          "align": "left",
          "font": {
           "color": "#000000"
          },
          "showarrow": false,
          "text": "disgust",
          "x": 1.55,
          "xanchor": "left",
          "xref": "x",
          "y": 11,
          "yref": "y"
         },
         {
          "align": "left",
          "font": {
           "color": "#000000"
          },
          "showarrow": false,
          "text": "0.005",
          "x": -0.45,
          "xanchor": "left",
          "xref": "x",
          "y": 12,
          "yref": "y"
         },
         {
          "align": "left",
          "font": {
           "color": "#000000"
          },
          "showarrow": false,
          "text": "-0.028",
          "x": 0.55,
          "xanchor": "left",
          "xref": "x",
          "y": 12,
          "yref": "y"
         },
         {
          "align": "left",
          "font": {
           "color": "#000000"
          },
          "showarrow": false,
          "text": "trust",
          "x": 1.55,
          "xanchor": "left",
          "xref": "x",
          "y": 12,
          "yref": "y"
         },
         {
          "align": "left",
          "font": {
           "color": "#000000"
          },
          "showarrow": false,
          "text": "0.016",
          "x": -0.45,
          "xanchor": "left",
          "xref": "x",
          "y": 13,
          "yref": "y"
         },
         {
          "align": "left",
          "font": {
           "color": "#000000"
          },
          "showarrow": false,
          "text": "0.03",
          "x": 0.55,
          "xanchor": "left",
          "xref": "x",
          "y": 13,
          "yref": "y"
         },
         {
          "align": "left",
          "font": {
           "color": "#000000"
          },
          "showarrow": false,
          "text": "SCONJ",
          "x": 1.55,
          "xanchor": "left",
          "xref": "x",
          "y": 13,
          "yref": "y"
         },
         {
          "align": "left",
          "font": {
           "color": "#000000"
          },
          "showarrow": false,
          "text": "0.021",
          "x": -0.45,
          "xanchor": "left",
          "xref": "x",
          "y": 14,
          "yref": "y"
         },
         {
          "align": "left",
          "font": {
           "color": "#000000"
          },
          "showarrow": false,
          "text": "0.036",
          "x": 0.55,
          "xanchor": "left",
          "xref": "x",
          "y": 14,
          "yref": "y"
         },
         {
          "align": "left",
          "font": {
           "color": "#000000"
          },
          "showarrow": false,
          "text": "ADV",
          "x": 1.55,
          "xanchor": "left",
          "xref": "x",
          "y": 14,
          "yref": "y"
         },
         {
          "align": "left",
          "font": {
           "color": "#000000"
          },
          "showarrow": false,
          "text": "0.023",
          "x": -0.45,
          "xanchor": "left",
          "xref": "x",
          "y": 15,
          "yref": "y"
         },
         {
          "align": "left",
          "font": {
           "color": "#000000"
          },
          "showarrow": false,
          "text": "-0.113",
          "x": 0.55,
          "xanchor": "left",
          "xref": "x",
          "y": 15,
          "yref": "y"
         },
         {
          "align": "left",
          "font": {
           "color": "#000000"
          },
          "showarrow": false,
          "text": "NUM",
          "x": 1.55,
          "xanchor": "left",
          "xref": "x",
          "y": 15,
          "yref": "y"
         },
         {
          "align": "left",
          "font": {
           "color": "#000000"
          },
          "showarrow": false,
          "text": "0.05",
          "x": -0.45,
          "xanchor": "left",
          "xref": "x",
          "y": 16,
          "yref": "y"
         },
         {
          "align": "left",
          "font": {
           "color": "#000000"
          },
          "showarrow": false,
          "text": "0.016",
          "x": 0.55,
          "xanchor": "left",
          "xref": "x",
          "y": 16,
          "yref": "y"
         },
         {
          "align": "left",
          "font": {
           "color": "#000000"
          },
          "showarrow": false,
          "text": "anger",
          "x": 1.55,
          "xanchor": "left",
          "xref": "x",
          "y": 16,
          "yref": "y"
         },
         {
          "align": "left",
          "font": {
           "color": "#000000"
          },
          "showarrow": false,
          "text": "0.053",
          "x": -0.45,
          "xanchor": "left",
          "xref": "x",
          "y": 17,
          "yref": "y"
         },
         {
          "align": "left",
          "font": {
           "color": "#000000"
          },
          "showarrow": false,
          "text": "0.058",
          "x": 0.55,
          "xanchor": "left",
          "xref": "x",
          "y": 17,
          "yref": "y"
         },
         {
          "align": "left",
          "font": {
           "color": "#000000"
          },
          "showarrow": false,
          "text": "PRON",
          "x": 1.55,
          "xanchor": "left",
          "xref": "x",
          "y": 17,
          "yref": "y"
         },
         {
          "align": "left",
          "font": {
           "color": "#000000"
          },
          "showarrow": false,
          "text": "0.056",
          "x": -0.45,
          "xanchor": "left",
          "xref": "x",
          "y": 18,
          "yref": "y"
         },
         {
          "align": "left",
          "font": {
           "color": "#000000"
          },
          "showarrow": false,
          "text": "-0.021",
          "x": 0.55,
          "xanchor": "left",
          "xref": "x",
          "y": 18,
          "yref": "y"
         },
         {
          "align": "left",
          "font": {
           "color": "#000000"
          },
          "showarrow": false,
          "text": "negative",
          "x": 1.55,
          "xanchor": "left",
          "xref": "x",
          "y": 18,
          "yref": "y"
         },
         {
          "align": "left",
          "font": {
           "color": "#000000"
          },
          "showarrow": false,
          "text": "0.069",
          "x": -0.45,
          "xanchor": "left",
          "xref": "x",
          "y": 19,
          "yref": "y"
         },
         {
          "align": "left",
          "font": {
           "color": "#000000"
          },
          "showarrow": false,
          "text": "0.04",
          "x": 0.55,
          "xanchor": "left",
          "xref": "x",
          "y": 19,
          "yref": "y"
         },
         {
          "align": "left",
          "font": {
           "color": "#000000"
          },
          "showarrow": false,
          "text": "fear",
          "x": 1.55,
          "xanchor": "left",
          "xref": "x",
          "y": 19,
          "yref": "y"
         },
         {
          "align": "left",
          "font": {
           "color": "#000000"
          },
          "showarrow": false,
          "text": "0.116",
          "x": -0.45,
          "xanchor": "left",
          "xref": "x",
          "y": 20,
          "yref": "y"
         },
         {
          "align": "left",
          "font": {
           "color": "#000000"
          },
          "showarrow": false,
          "text": "0.163",
          "x": 0.55,
          "xanchor": "left",
          "xref": "x",
          "y": 20,
          "yref": "y"
         },
         {
          "align": "left",
          "font": {
           "color": "#000000"
          },
          "showarrow": false,
          "text": "CCONJ",
          "x": 1.55,
          "xanchor": "left",
          "xref": "x",
          "y": 20,
          "yref": "y"
         },
         {
          "align": "left",
          "font": {
           "color": "#000000"
          },
          "showarrow": false,
          "text": "0.144",
          "x": -0.45,
          "xanchor": "left",
          "xref": "x",
          "y": 21,
          "yref": "y"
         },
         {
          "align": "left",
          "font": {
           "color": "#000000"
          },
          "showarrow": false,
          "text": "0.258",
          "x": 0.55,
          "xanchor": "left",
          "xref": "x",
          "y": 21,
          "yref": "y"
         },
         {
          "align": "left",
          "font": {
           "color": "#000000"
          },
          "showarrow": false,
          "text": "AUX",
          "x": 1.55,
          "xanchor": "left",
          "xref": "x",
          "y": 21,
          "yref": "y"
         },
         {
          "align": "left",
          "font": {
           "color": "#000000"
          },
          "showarrow": false,
          "text": "0.144",
          "x": -0.45,
          "xanchor": "left",
          "xref": "x",
          "y": 22,
          "yref": "y"
         },
         {
          "align": "left",
          "font": {
           "color": "#000000"
          },
          "showarrow": false,
          "text": "0.205",
          "x": 0.55,
          "xanchor": "left",
          "xref": "x",
          "y": 22,
          "yref": "y"
         },
         {
          "align": "left",
          "font": {
           "color": "#000000"
          },
          "showarrow": false,
          "text": "PROPN",
          "x": 1.55,
          "xanchor": "left",
          "xref": "x",
          "y": 22,
          "yref": "y"
         },
         {
          "align": "left",
          "font": {
           "color": "#000000"
          },
          "showarrow": false,
          "text": "0.155",
          "x": -0.45,
          "xanchor": "left",
          "xref": "x",
          "y": 23,
          "yref": "y"
         },
         {
          "align": "left",
          "font": {
           "color": "#000000"
          },
          "showarrow": false,
          "text": "0.24",
          "x": 0.55,
          "xanchor": "left",
          "xref": "x",
          "y": 23,
          "yref": "y"
         },
         {
          "align": "left",
          "font": {
           "color": "#000000"
          },
          "showarrow": false,
          "text": "PART",
          "x": 1.55,
          "xanchor": "left",
          "xref": "x",
          "y": 23,
          "yref": "y"
         },
         {
          "align": "left",
          "font": {
           "color": "#000000"
          },
          "showarrow": false,
          "text": "0.168",
          "x": -0.45,
          "xanchor": "left",
          "xref": "x",
          "y": 24,
          "yref": "y"
         },
         {
          "align": "left",
          "font": {
           "color": "#000000"
          },
          "showarrow": false,
          "text": "0.264",
          "x": 0.55,
          "xanchor": "left",
          "xref": "x",
          "y": 24,
          "yref": "y"
         },
         {
          "align": "left",
          "font": {
           "color": "#000000"
          },
          "showarrow": false,
          "text": "ADP",
          "x": 1.55,
          "xanchor": "left",
          "xref": "x",
          "y": 24,
          "yref": "y"
         },
         {
          "align": "left",
          "font": {
           "color": "#000000"
          },
          "showarrow": false,
          "text": "0.168",
          "x": -0.45,
          "xanchor": "left",
          "xref": "x",
          "y": 25,
          "yref": "y"
         },
         {
          "align": "left",
          "font": {
           "color": "#000000"
          },
          "showarrow": false,
          "text": "0.269",
          "x": 0.55,
          "xanchor": "left",
          "xref": "x",
          "y": 25,
          "yref": "y"
         },
         {
          "align": "left",
          "font": {
           "color": "#000000"
          },
          "showarrow": false,
          "text": "VERB",
          "x": 1.55,
          "xanchor": "left",
          "xref": "x",
          "y": 25,
          "yref": "y"
         },
         {
          "align": "left",
          "font": {
           "color": "#000000"
          },
          "showarrow": false,
          "text": "0.168",
          "x": -0.45,
          "xanchor": "left",
          "xref": "x",
          "y": 26,
          "yref": "y"
         },
         {
          "align": "left",
          "font": {
           "color": "#000000"
          },
          "showarrow": false,
          "text": "0.262",
          "x": 0.55,
          "xanchor": "left",
          "xref": "x",
          "y": 26,
          "yref": "y"
         },
         {
          "align": "left",
          "font": {
           "color": "#000000"
          },
          "showarrow": false,
          "text": "PUNCT",
          "x": 1.55,
          "xanchor": "left",
          "xref": "x",
          "y": 26,
          "yref": "y"
         },
         {
          "align": "left",
          "font": {
           "color": "#000000"
          },
          "showarrow": false,
          "text": "0.168",
          "x": -0.45,
          "xanchor": "left",
          "xref": "x",
          "y": 27,
          "yref": "y"
         },
         {
          "align": "left",
          "font": {
           "color": "#000000"
          },
          "showarrow": false,
          "text": "0.25",
          "x": 0.55,
          "xanchor": "left",
          "xref": "x",
          "y": 27,
          "yref": "y"
         },
         {
          "align": "left",
          "font": {
           "color": "#000000"
          },
          "showarrow": false,
          "text": "ADJ",
          "x": 1.55,
          "xanchor": "left",
          "xref": "x",
          "y": 27,
          "yref": "y"
         },
         {
          "align": "left",
          "font": {
           "color": "#000000"
          },
          "showarrow": false,
          "text": "0.17",
          "x": -0.45,
          "xanchor": "left",
          "xref": "x",
          "y": 28,
          "yref": "y"
         },
         {
          "align": "left",
          "font": {
           "color": "#000000"
          },
          "showarrow": false,
          "text": "0.265",
          "x": 0.55,
          "xanchor": "left",
          "xref": "x",
          "y": 28,
          "yref": "y"
         },
         {
          "align": "left",
          "font": {
           "color": "#000000"
          },
          "showarrow": false,
          "text": "DET",
          "x": 1.55,
          "xanchor": "left",
          "xref": "x",
          "y": 28,
          "yref": "y"
         },
         {
          "align": "left",
          "font": {
           "color": "#000000"
          },
          "showarrow": false,
          "text": "0.174",
          "x": -0.45,
          "xanchor": "left",
          "xref": "x",
          "y": 29,
          "yref": "y"
         },
         {
          "align": "left",
          "font": {
           "color": "#000000"
          },
          "showarrow": false,
          "text": "0.259",
          "x": 0.55,
          "xanchor": "left",
          "xref": "x",
          "y": 29,
          "yref": "y"
         },
         {
          "align": "left",
          "font": {
           "color": "#000000"
          },
          "showarrow": false,
          "text": "NOUN",
          "x": 1.55,
          "xanchor": "left",
          "xref": "x",
          "y": 29,
          "yref": "y"
         },
         {
          "align": "left",
          "font": {
           "color": "#000000"
          },
          "showarrow": false,
          "text": "0.184",
          "x": -0.45,
          "xanchor": "left",
          "xref": "x",
          "y": 30,
          "yref": "y"
         },
         {
          "align": "left",
          "font": {
           "color": "#000000"
          },
          "showarrow": false,
          "text": "-0.172",
          "x": 0.55,
          "xanchor": "left",
          "xref": "x",
          "y": 30,
          "yref": "y"
         },
         {
          "align": "left",
          "font": {
           "color": "#000000"
          },
          "showarrow": false,
          "text": "word_per_sent",
          "x": 1.55,
          "xanchor": "left",
          "xref": "x",
          "y": 30,
          "yref": "y"
         },
         {
          "align": "left",
          "font": {
           "color": "#000000"
          },
          "showarrow": false,
          "text": "0.19",
          "x": -0.45,
          "xanchor": "left",
          "xref": "x",
          "y": 31,
          "yref": "y"
         },
         {
          "align": "left",
          "font": {
           "color": "#000000"
          },
          "showarrow": false,
          "text": "-0.165",
          "x": 0.55,
          "xanchor": "left",
          "xref": "x",
          "y": 31,
          "yref": "y"
         },
         {
          "align": "left",
          "font": {
           "color": "#000000"
          },
          "showarrow": false,
          "text": "words_per_sentence",
          "x": 1.55,
          "xanchor": "left",
          "xref": "x",
          "y": 31,
          "yref": "y"
         },
         {
          "align": "left",
          "font": {
           "color": "#000000"
          },
          "showarrow": false,
          "text": "0.199",
          "x": -0.45,
          "xanchor": "left",
          "xref": "x",
          "y": 32,
          "yref": "y"
         },
         {
          "align": "left",
          "font": {
           "color": "#000000"
          },
          "showarrow": false,
          "text": "-0.09",
          "x": 0.55,
          "xanchor": "left",
          "xref": "x",
          "y": 32,
          "yref": "y"
         },
         {
          "align": "left",
          "font": {
           "color": "#000000"
          },
          "showarrow": false,
          "text": "dc_word_perc",
          "x": 1.55,
          "xanchor": "left",
          "xref": "x",
          "y": 32,
          "yref": "y"
         },
         {
          "align": "left",
          "font": {
           "color": "#000000"
          },
          "showarrow": false,
          "text": "0.203",
          "x": -0.45,
          "xanchor": "left",
          "xref": "x",
          "y": 33,
          "yref": "y"
         },
         {
          "align": "left",
          "font": {
           "color": "#000000"
          },
          "showarrow": false,
          "text": "-0.14",
          "x": 0.55,
          "xanchor": "left",
          "xref": "x",
          "y": 33,
          "yref": "y"
         },
         {
          "align": "left",
          "font": {
           "color": "#000000"
          },
          "showarrow": false,
          "text": "gf_word_perc",
          "x": 1.55,
          "xanchor": "left",
          "xref": "x",
          "y": 33,
          "yref": "y"
         },
         {
          "align": "left",
          "font": {
           "color": "#000000"
          },
          "showarrow": false,
          "text": "0.206",
          "x": -0.45,
          "xanchor": "left",
          "xref": "x",
          "y": 34,
          "yref": "y"
         },
         {
          "align": "left",
          "font": {
           "color": "#000000"
          },
          "showarrow": false,
          "text": "-0.121",
          "x": 0.55,
          "xanchor": "left",
          "xref": "x",
          "y": 34,
          "yref": "y"
         },
         {
          "align": "left",
          "font": {
           "color": "#000000"
          },
          "showarrow": false,
          "text": "depth",
          "x": 1.55,
          "xanchor": "left",
          "xref": "x",
          "y": 34,
          "yref": "y"
         },
         {
          "align": "left",
          "font": {
           "color": "#000000"
          },
          "showarrow": false,
          "text": "0.209",
          "x": -0.45,
          "xanchor": "left",
          "xref": "x",
          "y": 35,
          "yref": "y"
         },
         {
          "align": "left",
          "font": {
           "color": "#000000"
          },
          "showarrow": false,
          "text": "-0.134",
          "x": 0.55,
          "xanchor": "left",
          "xref": "x",
          "y": 35,
          "yref": "y"
         },
         {
          "align": "left",
          "font": {
           "color": "#000000"
          },
          "showarrow": false,
          "text": "poly_word_perc",
          "x": 1.55,
          "xanchor": "left",
          "xref": "x",
          "y": 35,
          "yref": "y"
         },
         {
          "align": "left",
          "font": {
           "color": "#000000"
          },
          "showarrow": false,
          "text": "0.215",
          "x": -0.45,
          "xanchor": "left",
          "xref": "x",
          "y": 36,
          "yref": "y"
         },
         {
          "align": "left",
          "font": {
           "color": "#000000"
          },
          "showarrow": false,
          "text": "-0.17",
          "x": 0.55,
          "xanchor": "left",
          "xref": "x",
          "y": 36,
          "yref": "y"
         },
         {
          "align": "left",
          "font": {
           "color": "#000000"
          },
          "showarrow": false,
          "text": "dale_chall",
          "x": 1.55,
          "xanchor": "left",
          "xref": "x",
          "y": 36,
          "yref": "y"
         },
         {
          "align": "left",
          "font": {
           "color": "#000000"
          },
          "showarrow": false,
          "text": "0.217",
          "x": -0.45,
          "xanchor": "left",
          "xref": "x",
          "y": 37,
          "yref": "y"
         },
         {
          "align": "left",
          "font": {
           "color": "#000000"
          },
          "showarrow": false,
          "text": "-0.179",
          "x": 0.55,
          "xanchor": "left",
          "xref": "x",
          "y": 37,
          "yref": "y"
         },
         {
          "align": "left",
          "font": {
           "color": "#000000"
          },
          "showarrow": false,
          "text": "gunning_fog",
          "x": 1.55,
          "xanchor": "left",
          "xref": "x",
          "y": 37,
          "yref": "y"
         },
         {
          "align": "left",
          "font": {
           "color": "#000000"
          },
          "showarrow": false,
          "text": "0.219",
          "x": -0.45,
          "xanchor": "left",
          "xref": "x",
          "y": 38,
          "yref": "y"
         },
         {
          "align": "left",
          "font": {
           "color": "#000000"
          },
          "showarrow": false,
          "text": "-0.108",
          "x": 0.55,
          "xanchor": "left",
          "xref": "x",
          "y": 38,
          "yref": "y"
         },
         {
          "align": "left",
          "font": {
           "color": "#000000"
          },
          "showarrow": false,
          "text": "char_per_word",
          "x": 1.55,
          "xanchor": "left",
          "xref": "x",
          "y": 38,
          "yref": "y"
         },
         {
          "align": "left",
          "font": {
           "color": "#000000"
          },
          "showarrow": false,
          "text": "0.219",
          "x": -0.45,
          "xanchor": "left",
          "xref": "x",
          "y": 39,
          "yref": "y"
         },
         {
          "align": "left",
          "font": {
           "color": "#000000"
          },
          "showarrow": false,
          "text": "-0.116",
          "x": 0.55,
          "xanchor": "left",
          "xref": "x",
          "y": 39,
          "yref": "y"
         },
         {
          "align": "left",
          "font": {
           "color": "#000000"
          },
          "showarrow": false,
          "text": "syl_per_word",
          "x": 1.55,
          "xanchor": "left",
          "xref": "x",
          "y": 39,
          "yref": "y"
         },
         {
          "align": "left",
          "font": {
           "color": "#000000"
          },
          "showarrow": false,
          "text": "0.222",
          "x": -0.45,
          "xanchor": "left",
          "xref": "x",
          "y": 40,
          "yref": "y"
         },
         {
          "align": "left",
          "font": {
           "color": "#000000"
          },
          "showarrow": false,
          "text": "-0.169",
          "x": 0.55,
          "xanchor": "left",
          "xref": "x",
          "y": 40,
          "yref": "y"
         },
         {
          "align": "left",
          "font": {
           "color": "#000000"
          },
          "showarrow": false,
          "text": "ari",
          "x": 1.55,
          "xanchor": "left",
          "xref": "x",
          "y": 40,
          "yref": "y"
         },
         {
          "align": "left",
          "font": {
           "color": "#000000"
          },
          "showarrow": false,
          "text": "0.224",
          "x": -0.45,
          "xanchor": "left",
          "xref": "x",
          "y": 41,
          "yref": "y"
         },
         {
          "align": "left",
          "font": {
           "color": "#000000"
          },
          "showarrow": false,
          "text": "-0.172",
          "x": 0.55,
          "xanchor": "left",
          "xref": "x",
          "y": 41,
          "yref": "y"
         },
         {
          "align": "left",
          "font": {
           "color": "#000000"
          },
          "showarrow": false,
          "text": "smog",
          "x": 1.55,
          "xanchor": "left",
          "xref": "x",
          "y": 41,
          "yref": "y"
         },
         {
          "align": "left",
          "font": {
           "color": "#000000"
          },
          "showarrow": false,
          "text": "0.224",
          "x": -0.45,
          "xanchor": "left",
          "xref": "x",
          "y": 42,
          "yref": "y"
         },
         {
          "align": "left",
          "font": {
           "color": "#000000"
          },
          "showarrow": false,
          "text": "-0.169",
          "x": 0.55,
          "xanchor": "left",
          "xref": "x",
          "y": 42,
          "yref": "y"
         },
         {
          "align": "left",
          "font": {
           "color": "#000000"
          },
          "showarrow": false,
          "text": "flesch_kincaid",
          "x": 1.55,
          "xanchor": "left",
          "xref": "x",
          "y": 42,
          "yref": "y"
         },
         {
          "align": "left",
          "font": {
           "color": "#000000"
          },
          "showarrow": false,
          "text": "0.227",
          "x": -0.45,
          "xanchor": "left",
          "xref": "x",
          "y": 43,
          "yref": "y"
         },
         {
          "align": "left",
          "font": {
           "color": "#000000"
          },
          "showarrow": false,
          "text": "-0.122",
          "x": 0.55,
          "xanchor": "left",
          "xref": "x",
          "y": 43,
          "yref": "y"
         },
         {
          "align": "left",
          "font": {
           "color": "#000000"
          },
          "showarrow": false,
          "text": "coleman_liau",
          "x": 1.55,
          "xanchor": "left",
          "xref": "x",
          "y": 43,
          "yref": "y"
         }
        ],
        "autosize": false,
        "height": 700,
        "margin": {
         "b": 0,
         "l": 0,
         "r": 0,
         "t": 0
        },
        "template": {
         "data": {
          "bar": [
           {
            "error_x": {
             "color": "#2a3f5f"
            },
            "error_y": {
             "color": "#2a3f5f"
            },
            "marker": {
             "line": {
              "color": "#E5ECF6",
              "width": 0.5
             },
             "pattern": {
              "fillmode": "overlay",
              "size": 10,
              "solidity": 0.2
             }
            },
            "type": "bar"
           }
          ],
          "barpolar": [
           {
            "marker": {
             "line": {
              "color": "#E5ECF6",
              "width": 0.5
             },
             "pattern": {
              "fillmode": "overlay",
              "size": 10,
              "solidity": 0.2
             }
            },
            "type": "barpolar"
           }
          ],
          "carpet": [
           {
            "aaxis": {
             "endlinecolor": "#2a3f5f",
             "gridcolor": "white",
             "linecolor": "white",
             "minorgridcolor": "white",
             "startlinecolor": "#2a3f5f"
            },
            "baxis": {
             "endlinecolor": "#2a3f5f",
             "gridcolor": "white",
             "linecolor": "white",
             "minorgridcolor": "white",
             "startlinecolor": "#2a3f5f"
            },
            "type": "carpet"
           }
          ],
          "choropleth": [
           {
            "colorbar": {
             "outlinewidth": 0,
             "ticks": ""
            },
            "type": "choropleth"
           }
          ],
          "contour": [
           {
            "colorbar": {
             "outlinewidth": 0,
             "ticks": ""
            },
            "colorscale": [
             [
              0,
              "#0d0887"
             ],
             [
              0.1111111111111111,
              "#46039f"
             ],
             [
              0.2222222222222222,
              "#7201a8"
             ],
             [
              0.3333333333333333,
              "#9c179e"
             ],
             [
              0.4444444444444444,
              "#bd3786"
             ],
             [
              0.5555555555555556,
              "#d8576b"
             ],
             [
              0.6666666666666666,
              "#ed7953"
             ],
             [
              0.7777777777777778,
              "#fb9f3a"
             ],
             [
              0.8888888888888888,
              "#fdca26"
             ],
             [
              1,
              "#f0f921"
             ]
            ],
            "type": "contour"
           }
          ],
          "contourcarpet": [
           {
            "colorbar": {
             "outlinewidth": 0,
             "ticks": ""
            },
            "type": "contourcarpet"
           }
          ],
          "heatmap": [
           {
            "colorbar": {
             "outlinewidth": 0,
             "ticks": ""
            },
            "colorscale": [
             [
              0,
              "#0d0887"
             ],
             [
              0.1111111111111111,
              "#46039f"
             ],
             [
              0.2222222222222222,
              "#7201a8"
             ],
             [
              0.3333333333333333,
              "#9c179e"
             ],
             [
              0.4444444444444444,
              "#bd3786"
             ],
             [
              0.5555555555555556,
              "#d8576b"
             ],
             [
              0.6666666666666666,
              "#ed7953"
             ],
             [
              0.7777777777777778,
              "#fb9f3a"
             ],
             [
              0.8888888888888888,
              "#fdca26"
             ],
             [
              1,
              "#f0f921"
             ]
            ],
            "type": "heatmap"
           }
          ],
          "heatmapgl": [
           {
            "colorbar": {
             "outlinewidth": 0,
             "ticks": ""
            },
            "colorscale": [
             [
              0,
              "#0d0887"
             ],
             [
              0.1111111111111111,
              "#46039f"
             ],
             [
              0.2222222222222222,
              "#7201a8"
             ],
             [
              0.3333333333333333,
              "#9c179e"
             ],
             [
              0.4444444444444444,
              "#bd3786"
             ],
             [
              0.5555555555555556,
              "#d8576b"
             ],
             [
              0.6666666666666666,
              "#ed7953"
             ],
             [
              0.7777777777777778,
              "#fb9f3a"
             ],
             [
              0.8888888888888888,
              "#fdca26"
             ],
             [
              1,
              "#f0f921"
             ]
            ],
            "type": "heatmapgl"
           }
          ],
          "histogram": [
           {
            "marker": {
             "pattern": {
              "fillmode": "overlay",
              "size": 10,
              "solidity": 0.2
             }
            },
            "type": "histogram"
           }
          ],
          "histogram2d": [
           {
            "colorbar": {
             "outlinewidth": 0,
             "ticks": ""
            },
            "colorscale": [
             [
              0,
              "#0d0887"
             ],
             [
              0.1111111111111111,
              "#46039f"
             ],
             [
              0.2222222222222222,
              "#7201a8"
             ],
             [
              0.3333333333333333,
              "#9c179e"
             ],
             [
              0.4444444444444444,
              "#bd3786"
             ],
             [
              0.5555555555555556,
              "#d8576b"
             ],
             [
              0.6666666666666666,
              "#ed7953"
             ],
             [
              0.7777777777777778,
              "#fb9f3a"
             ],
             [
              0.8888888888888888,
              "#fdca26"
             ],
             [
              1,
              "#f0f921"
             ]
            ],
            "type": "histogram2d"
           }
          ],
          "histogram2dcontour": [
           {
            "colorbar": {
             "outlinewidth": 0,
             "ticks": ""
            },
            "colorscale": [
             [
              0,
              "#0d0887"
             ],
             [
              0.1111111111111111,
              "#46039f"
             ],
             [
              0.2222222222222222,
              "#7201a8"
             ],
             [
              0.3333333333333333,
              "#9c179e"
             ],
             [
              0.4444444444444444,
              "#bd3786"
             ],
             [
              0.5555555555555556,
              "#d8576b"
             ],
             [
              0.6666666666666666,
              "#ed7953"
             ],
             [
              0.7777777777777778,
              "#fb9f3a"
             ],
             [
              0.8888888888888888,
              "#fdca26"
             ],
             [
              1,
              "#f0f921"
             ]
            ],
            "type": "histogram2dcontour"
           }
          ],
          "mesh3d": [
           {
            "colorbar": {
             "outlinewidth": 0,
             "ticks": ""
            },
            "type": "mesh3d"
           }
          ],
          "parcoords": [
           {
            "line": {
             "colorbar": {
              "outlinewidth": 0,
              "ticks": ""
             }
            },
            "type": "parcoords"
           }
          ],
          "pie": [
           {
            "automargin": true,
            "type": "pie"
           }
          ],
          "scatter": [
           {
            "fillpattern": {
             "fillmode": "overlay",
             "size": 10,
             "solidity": 0.2
            },
            "type": "scatter"
           }
          ],
          "scatter3d": [
           {
            "line": {
             "colorbar": {
              "outlinewidth": 0,
              "ticks": ""
             }
            },
            "marker": {
             "colorbar": {
              "outlinewidth": 0,
              "ticks": ""
             }
            },
            "type": "scatter3d"
           }
          ],
          "scattercarpet": [
           {
            "marker": {
             "colorbar": {
              "outlinewidth": 0,
              "ticks": ""
             }
            },
            "type": "scattercarpet"
           }
          ],
          "scattergeo": [
           {
            "marker": {
             "colorbar": {
              "outlinewidth": 0,
              "ticks": ""
             }
            },
            "type": "scattergeo"
           }
          ],
          "scattergl": [
           {
            "marker": {
             "colorbar": {
              "outlinewidth": 0,
              "ticks": ""
             }
            },
            "type": "scattergl"
           }
          ],
          "scattermapbox": [
           {
            "marker": {
             "colorbar": {
              "outlinewidth": 0,
              "ticks": ""
             }
            },
            "type": "scattermapbox"
           }
          ],
          "scatterpolar": [
           {
            "marker": {
             "colorbar": {
              "outlinewidth": 0,
              "ticks": ""
             }
            },
            "type": "scatterpolar"
           }
          ],
          "scatterpolargl": [
           {
            "marker": {
             "colorbar": {
              "outlinewidth": 0,
              "ticks": ""
             }
            },
            "type": "scatterpolargl"
           }
          ],
          "scatterternary": [
           {
            "marker": {
             "colorbar": {
              "outlinewidth": 0,
              "ticks": ""
             }
            },
            "type": "scatterternary"
           }
          ],
          "surface": [
           {
            "colorbar": {
             "outlinewidth": 0,
             "ticks": ""
            },
            "colorscale": [
             [
              0,
              "#0d0887"
             ],
             [
              0.1111111111111111,
              "#46039f"
             ],
             [
              0.2222222222222222,
              "#7201a8"
             ],
             [
              0.3333333333333333,
              "#9c179e"
             ],
             [
              0.4444444444444444,
              "#bd3786"
             ],
             [
              0.5555555555555556,
              "#d8576b"
             ],
             [
              0.6666666666666666,
              "#ed7953"
             ],
             [
              0.7777777777777778,
              "#fb9f3a"
             ],
             [
              0.8888888888888888,
              "#fdca26"
             ],
             [
              1,
              "#f0f921"
             ]
            ],
            "type": "surface"
           }
          ],
          "table": [
           {
            "cells": {
             "fill": {
              "color": "#EBF0F8"
             },
             "line": {
              "color": "white"
             }
            },
            "header": {
             "fill": {
              "color": "#C8D4E3"
             },
             "line": {
              "color": "white"
             }
            },
            "type": "table"
           }
          ]
         },
         "layout": {
          "annotationdefaults": {
           "arrowcolor": "#2a3f5f",
           "arrowhead": 0,
           "arrowwidth": 1
          },
          "autotypenumbers": "strict",
          "coloraxis": {
           "colorbar": {
            "outlinewidth": 0,
            "ticks": ""
           }
          },
          "colorscale": {
           "diverging": [
            [
             0,
             "#8e0152"
            ],
            [
             0.1,
             "#c51b7d"
            ],
            [
             0.2,
             "#de77ae"
            ],
            [
             0.3,
             "#f1b6da"
            ],
            [
             0.4,
             "#fde0ef"
            ],
            [
             0.5,
             "#f7f7f7"
            ],
            [
             0.6,
             "#e6f5d0"
            ],
            [
             0.7,
             "#b8e186"
            ],
            [
             0.8,
             "#7fbc41"
            ],
            [
             0.9,
             "#4d9221"
            ],
            [
             1,
             "#276419"
            ]
           ],
           "sequential": [
            [
             0,
             "#0d0887"
            ],
            [
             0.1111111111111111,
             "#46039f"
            ],
            [
             0.2222222222222222,
             "#7201a8"
            ],
            [
             0.3333333333333333,
             "#9c179e"
            ],
            [
             0.4444444444444444,
             "#bd3786"
            ],
            [
             0.5555555555555556,
             "#d8576b"
            ],
            [
             0.6666666666666666,
             "#ed7953"
            ],
            [
             0.7777777777777778,
             "#fb9f3a"
            ],
            [
             0.8888888888888888,
             "#fdca26"
            ],
            [
             1,
             "#f0f921"
            ]
           ],
           "sequentialminus": [
            [
             0,
             "#0d0887"
            ],
            [
             0.1111111111111111,
             "#46039f"
            ],
            [
             0.2222222222222222,
             "#7201a8"
            ],
            [
             0.3333333333333333,
             "#9c179e"
            ],
            [
             0.4444444444444444,
             "#bd3786"
            ],
            [
             0.5555555555555556,
             "#d8576b"
            ],
            [
             0.6666666666666666,
             "#ed7953"
            ],
            [
             0.7777777777777778,
             "#fb9f3a"
            ],
            [
             0.8888888888888888,
             "#fdca26"
            ],
            [
             1,
             "#f0f921"
            ]
           ]
          },
          "colorway": [
           "#636efa",
           "#EF553B",
           "#00cc96",
           "#ab63fa",
           "#FFA15A",
           "#19d3f3",
           "#FF6692",
           "#B6E880",
           "#FF97FF",
           "#FECB52"
          ],
          "font": {
           "color": "#2a3f5f"
          },
          "geo": {
           "bgcolor": "white",
           "lakecolor": "white",
           "landcolor": "#E5ECF6",
           "showlakes": true,
           "showland": true,
           "subunitcolor": "white"
          },
          "hoverlabel": {
           "align": "left"
          },
          "hovermode": "closest",
          "mapbox": {
           "style": "light"
          },
          "paper_bgcolor": "white",
          "plot_bgcolor": "#E5ECF6",
          "polar": {
           "angularaxis": {
            "gridcolor": "white",
            "linecolor": "white",
            "ticks": ""
           },
           "bgcolor": "#E5ECF6",
           "radialaxis": {
            "gridcolor": "white",
            "linecolor": "white",
            "ticks": ""
           }
          },
          "scene": {
           "xaxis": {
            "backgroundcolor": "#E5ECF6",
            "gridcolor": "white",
            "gridwidth": 2,
            "linecolor": "white",
            "showbackground": true,
            "ticks": "",
            "zerolinecolor": "white"
           },
           "yaxis": {
            "backgroundcolor": "#E5ECF6",
            "gridcolor": "white",
            "gridwidth": 2,
            "linecolor": "white",
            "showbackground": true,
            "ticks": "",
            "zerolinecolor": "white"
           },
           "zaxis": {
            "backgroundcolor": "#E5ECF6",
            "gridcolor": "white",
            "gridwidth": 2,
            "linecolor": "white",
            "showbackground": true,
            "ticks": "",
            "zerolinecolor": "white"
           }
          },
          "shapedefaults": {
           "line": {
            "color": "#2a3f5f"
           }
          },
          "ternary": {
           "aaxis": {
            "gridcolor": "white",
            "linecolor": "white",
            "ticks": ""
           },
           "baxis": {
            "gridcolor": "white",
            "linecolor": "white",
            "ticks": ""
           },
           "bgcolor": "#E5ECF6",
           "caxis": {
            "gridcolor": "white",
            "linecolor": "white",
            "ticks": ""
           }
          },
          "title": {
           "x": 0.05
          },
          "xaxis": {
           "automargin": true,
           "gridcolor": "white",
           "linecolor": "white",
           "ticks": "",
           "title": {
            "standoff": 15
           },
           "zerolinecolor": "white",
           "zerolinewidth": 2
          },
          "yaxis": {
           "automargin": true,
           "gridcolor": "white",
           "linecolor": "white",
           "ticks": "",
           "title": {
            "standoff": 15
           },
           "zerolinecolor": "white",
           "zerolinewidth": 2
          }
         }
        },
        "width": 400,
        "xaxis": {
         "dtick": 1,
         "gridwidth": 2,
         "showticklabels": false,
         "tick0": -0.5,
         "ticks": "",
         "zeroline": false
        },
        "yaxis": {
         "autorange": "reversed",
         "dtick": 1,
         "gridwidth": 2,
         "showticklabels": false,
         "tick0": 0.5,
         "ticks": "",
         "zeroline": false
        }
       }
      },
      "text/html": [
       "<div>                            <div id=\"0a53d1ab-928e-4337-98e7-f4b385769b01\" class=\"plotly-graph-div\" style=\"height:700px; width:400px;\"></div>            <script type=\"text/javascript\">                require([\"plotly\"], function(Plotly) {                    window.PLOTLYENV=window.PLOTLYENV || {};                                    if (document.getElementById(\"0a53d1ab-928e-4337-98e7-f4b385769b01\")) {                    Plotly.newPlot(                        \"0a53d1ab-928e-4337-98e7-f4b385769b01\",                        [{\"colorscale\":[[0,\"#00083e\"],[0.5,\"#ededee\"],[1,\"#ffffff\"]],\"hoverinfo\":\"none\",\"opacity\":0.75,\"showscale\":false,\"z\":[[0,0,0],[0.5,0.5,0.5],[1,1,1],[0.5,0.5,0.5],[1,1,1],[0.5,0.5,0.5],[1,1,1],[0.5,0.5,0.5],[1,1,1],[0.5,0.5,0.5],[1,1,1],[0.5,0.5,0.5],[1,1,1],[0.5,0.5,0.5],[1,1,1],[0.5,0.5,0.5],[1,1,1],[0.5,0.5,0.5],[1,1,1],[0.5,0.5,0.5],[1,1,1],[0.5,0.5,0.5],[1,1,1],[0.5,0.5,0.5],[1,1,1],[0.5,0.5,0.5],[1,1,1],[0.5,0.5,0.5],[1,1,1],[0.5,0.5,0.5],[1,1,1],[0.5,0.5,0.5],[1,1,1],[0.5,0.5,0.5],[1,1,1],[0.5,0.5,0.5],[1,1,1],[0.5,0.5,0.5],[1,1,1],[0.5,0.5,0.5],[1,1,1],[0.5,0.5,0.5],[1,1,1],[0.5,0.5,0.5]],\"type\":\"heatmap\"}],                        {\"annotations\":[{\"align\":\"left\",\"font\":{\"color\":\"#ffffff\"},\"showarrow\":false,\"text\":\"<b>PC1</b>\",\"x\":-0.45,\"xanchor\":\"left\",\"xref\":\"x\",\"y\":0,\"yref\":\"y\"},{\"align\":\"left\",\"font\":{\"color\":\"#ffffff\"},\"showarrow\":false,\"text\":\"<b>PC2</b>\",\"x\":0.55,\"xanchor\":\"left\",\"xref\":\"x\",\"y\":0,\"yref\":\"y\"},{\"align\":\"left\",\"font\":{\"color\":\"#ffffff\"},\"showarrow\":false,\"text\":\"<b>var</b>\",\"x\":1.55,\"xanchor\":\"left\",\"xref\":\"x\",\"y\":0,\"yref\":\"y\"},{\"align\":\"left\",\"font\":{\"color\":\"#000000\"},\"showarrow\":false,\"text\":\"-0.167\",\"x\":-0.45,\"xanchor\":\"left\",\"xref\":\"x\",\"y\":1,\"yref\":\"y\"},{\"align\":\"left\",\"font\":{\"color\":\"#000000\"},\"showarrow\":false,\"text\":\"-0.105\",\"x\":0.55,\"xanchor\":\"left\",\"xref\":\"x\",\"y\":1,\"yref\":\"y\"},{\"align\":\"left\",\"font\":{\"color\":\"#000000\"},\"showarrow\":false,\"text\":\"INTJ\",\"x\":1.55,\"xanchor\":\"left\",\"xref\":\"x\",\"y\":1,\"yref\":\"y\"},{\"align\":\"left\",\"font\":{\"color\":\"#000000\"},\"showarrow\":false,\"text\":\"-0.132\",\"x\":-0.45,\"xanchor\":\"left\",\"xref\":\"x\",\"y\":2,\"yref\":\"y\"},{\"align\":\"left\",\"font\":{\"color\":\"#000000\"},\"showarrow\":false,\"text\":\"-0.095\",\"x\":0.55,\"xanchor\":\"left\",\"xref\":\"x\",\"y\":2,\"yref\":\"y\"},{\"align\":\"left\",\"font\":{\"color\":\"#000000\"},\"showarrow\":false,\"text\":\"num_unique_words\",\"x\":1.55,\"xanchor\":\"left\",\"xref\":\"x\",\"y\":2,\"yref\":\"y\"},{\"align\":\"left\",\"font\":{\"color\":\"#000000\"},\"showarrow\":false,\"text\":\"-0.132\",\"x\":-0.45,\"xanchor\":\"left\",\"xref\":\"x\",\"y\":3,\"yref\":\"y\"},{\"align\":\"left\",\"font\":{\"color\":\"#000000\"},\"showarrow\":false,\"text\":\"0.027\",\"x\":0.55,\"xanchor\":\"left\",\"xref\":\"x\",\"y\":3,\"yref\":\"y\"},{\"align\":\"left\",\"font\":{\"color\":\"#000000\"},\"showarrow\":false,\"text\":\"joy\",\"x\":1.55,\"xanchor\":\"left\",\"xref\":\"x\",\"y\":3,\"yref\":\"y\"},{\"align\":\"left\",\"font\":{\"color\":\"#000000\"},\"showarrow\":false,\"text\":\"-0.129\",\"x\":-0.45,\"xanchor\":\"left\",\"xref\":\"x\",\"y\":4,\"yref\":\"y\"},{\"align\":\"left\",\"font\":{\"color\":\"#000000\"},\"showarrow\":false,\"text\":\"0.001\",\"x\":0.55,\"xanchor\":\"left\",\"xref\":\"x\",\"y\":4,\"yref\":\"y\"},{\"align\":\"left\",\"font\":{\"color\":\"#000000\"},\"showarrow\":false,\"text\":\"TBpolarity\",\"x\":1.55,\"xanchor\":\"left\",\"xref\":\"x\",\"y\":4,\"yref\":\"y\"},{\"align\":\"left\",\"font\":{\"color\":\"#000000\"},\"showarrow\":false,\"text\":\"-0.126\",\"x\":-0.45,\"xanchor\":\"left\",\"xref\":\"x\",\"y\":5,\"yref\":\"y\"},{\"align\":\"left\",\"font\":{\"color\":\"#000000\"},\"showarrow\":false,\"text\":\"0.058\",\"x\":0.55,\"xanchor\":\"left\",\"xref\":\"x\",\"y\":5,\"yref\":\"y\"},{\"align\":\"left\",\"font\":{\"color\":\"#000000\"},\"showarrow\":false,\"text\":\"TBsubjectivity\",\"x\":1.55,\"xanchor\":\"left\",\"xref\":\"x\",\"y\":5,\"yref\":\"y\"},{\"align\":\"left\",\"font\":{\"color\":\"#000000\"},\"showarrow\":false,\"text\":\"-0.073\",\"x\":-0.45,\"xanchor\":\"left\",\"xref\":\"x\",\"y\":6,\"yref\":\"y\"},{\"align\":\"left\",\"font\":{\"color\":\"#000000\"},\"showarrow\":false,\"text\":\"-0.213\",\"x\":0.55,\"xanchor\":\"left\",\"xref\":\"x\",\"y\":6,\"yref\":\"y\"},{\"align\":\"left\",\"font\":{\"color\":\"#000000\"},\"showarrow\":false,\"text\":\"SYM\",\"x\":1.55,\"xanchor\":\"left\",\"xref\":\"x\",\"y\":6,\"yref\":\"y\"},{\"align\":\"left\",\"font\":{\"color\":\"#000000\"},\"showarrow\":false,\"text\":\"-0.066\",\"x\":-0.45,\"xanchor\":\"left\",\"xref\":\"x\",\"y\":7,\"yref\":\"y\"},{\"align\":\"left\",\"font\":{\"color\":\"#000000\"},\"showarrow\":false,\"text\":\"-0.023\",\"x\":0.55,\"xanchor\":\"left\",\"xref\":\"x\",\"y\":7,\"yref\":\"y\"},{\"align\":\"left\",\"font\":{\"color\":\"#000000\"},\"showarrow\":false,\"text\":\"anticipation\",\"x\":1.55,\"xanchor\":\"left\",\"xref\":\"x\",\"y\":7,\"yref\":\"y\"},{\"align\":\"left\",\"font\":{\"color\":\"#000000\"},\"showarrow\":false,\"text\":\"-0.038\",\"x\":-0.45,\"xanchor\":\"left\",\"xref\":\"x\",\"y\":8,\"yref\":\"y\"},{\"align\":\"left\",\"font\":{\"color\":\"#000000\"},\"showarrow\":false,\"text\":\"0.005\",\"x\":0.55,\"xanchor\":\"left\",\"xref\":\"x\",\"y\":8,\"yref\":\"y\"},{\"align\":\"left\",\"font\":{\"color\":\"#000000\"},\"showarrow\":false,\"text\":\"surprise\",\"x\":1.55,\"xanchor\":\"left\",\"xref\":\"x\",\"y\":8,\"yref\":\"y\"},{\"align\":\"left\",\"font\":{\"color\":\"#000000\"},\"showarrow\":false,\"text\":\"-0.013\",\"x\":-0.45,\"xanchor\":\"left\",\"xref\":\"x\",\"y\":9,\"yref\":\"y\"},{\"align\":\"left\",\"font\":{\"color\":\"#000000\"},\"showarrow\":false,\"text\":\"-0.012\",\"x\":0.55,\"xanchor\":\"left\",\"xref\":\"x\",\"y\":9,\"yref\":\"y\"},{\"align\":\"left\",\"font\":{\"color\":\"#000000\"},\"showarrow\":false,\"text\":\"sadness\",\"x\":1.55,\"xanchor\":\"left\",\"xref\":\"x\",\"y\":9,\"yref\":\"y\"},{\"align\":\"left\",\"font\":{\"color\":\"#000000\"},\"showarrow\":false,\"text\":\"-0.005\",\"x\":-0.45,\"xanchor\":\"left\",\"xref\":\"x\",\"y\":10,\"yref\":\"y\"},{\"align\":\"left\",\"font\":{\"color\":\"#000000\"},\"showarrow\":false,\"text\":\"-0.005\",\"x\":0.55,\"xanchor\":\"left\",\"xref\":\"x\",\"y\":10,\"yref\":\"y\"},{\"align\":\"left\",\"font\":{\"color\":\"#000000\"},\"showarrow\":false,\"text\":\"positive\",\"x\":1.55,\"xanchor\":\"left\",\"xref\":\"x\",\"y\":10,\"yref\":\"y\"},{\"align\":\"left\",\"font\":{\"color\":\"#000000\"},\"showarrow\":false,\"text\":\"-0.002\",\"x\":-0.45,\"xanchor\":\"left\",\"xref\":\"x\",\"y\":11,\"yref\":\"y\"},{\"align\":\"left\",\"font\":{\"color\":\"#000000\"},\"showarrow\":false,\"text\":\"0.005\",\"x\":0.55,\"xanchor\":\"left\",\"xref\":\"x\",\"y\":11,\"yref\":\"y\"},{\"align\":\"left\",\"font\":{\"color\":\"#000000\"},\"showarrow\":false,\"text\":\"disgust\",\"x\":1.55,\"xanchor\":\"left\",\"xref\":\"x\",\"y\":11,\"yref\":\"y\"},{\"align\":\"left\",\"font\":{\"color\":\"#000000\"},\"showarrow\":false,\"text\":\"0.005\",\"x\":-0.45,\"xanchor\":\"left\",\"xref\":\"x\",\"y\":12,\"yref\":\"y\"},{\"align\":\"left\",\"font\":{\"color\":\"#000000\"},\"showarrow\":false,\"text\":\"-0.028\",\"x\":0.55,\"xanchor\":\"left\",\"xref\":\"x\",\"y\":12,\"yref\":\"y\"},{\"align\":\"left\",\"font\":{\"color\":\"#000000\"},\"showarrow\":false,\"text\":\"trust\",\"x\":1.55,\"xanchor\":\"left\",\"xref\":\"x\",\"y\":12,\"yref\":\"y\"},{\"align\":\"left\",\"font\":{\"color\":\"#000000\"},\"showarrow\":false,\"text\":\"0.016\",\"x\":-0.45,\"xanchor\":\"left\",\"xref\":\"x\",\"y\":13,\"yref\":\"y\"},{\"align\":\"left\",\"font\":{\"color\":\"#000000\"},\"showarrow\":false,\"text\":\"0.03\",\"x\":0.55,\"xanchor\":\"left\",\"xref\":\"x\",\"y\":13,\"yref\":\"y\"},{\"align\":\"left\",\"font\":{\"color\":\"#000000\"},\"showarrow\":false,\"text\":\"SCONJ\",\"x\":1.55,\"xanchor\":\"left\",\"xref\":\"x\",\"y\":13,\"yref\":\"y\"},{\"align\":\"left\",\"font\":{\"color\":\"#000000\"},\"showarrow\":false,\"text\":\"0.021\",\"x\":-0.45,\"xanchor\":\"left\",\"xref\":\"x\",\"y\":14,\"yref\":\"y\"},{\"align\":\"left\",\"font\":{\"color\":\"#000000\"},\"showarrow\":false,\"text\":\"0.036\",\"x\":0.55,\"xanchor\":\"left\",\"xref\":\"x\",\"y\":14,\"yref\":\"y\"},{\"align\":\"left\",\"font\":{\"color\":\"#000000\"},\"showarrow\":false,\"text\":\"ADV\",\"x\":1.55,\"xanchor\":\"left\",\"xref\":\"x\",\"y\":14,\"yref\":\"y\"},{\"align\":\"left\",\"font\":{\"color\":\"#000000\"},\"showarrow\":false,\"text\":\"0.023\",\"x\":-0.45,\"xanchor\":\"left\",\"xref\":\"x\",\"y\":15,\"yref\":\"y\"},{\"align\":\"left\",\"font\":{\"color\":\"#000000\"},\"showarrow\":false,\"text\":\"-0.113\",\"x\":0.55,\"xanchor\":\"left\",\"xref\":\"x\",\"y\":15,\"yref\":\"y\"},{\"align\":\"left\",\"font\":{\"color\":\"#000000\"},\"showarrow\":false,\"text\":\"NUM\",\"x\":1.55,\"xanchor\":\"left\",\"xref\":\"x\",\"y\":15,\"yref\":\"y\"},{\"align\":\"left\",\"font\":{\"color\":\"#000000\"},\"showarrow\":false,\"text\":\"0.05\",\"x\":-0.45,\"xanchor\":\"left\",\"xref\":\"x\",\"y\":16,\"yref\":\"y\"},{\"align\":\"left\",\"font\":{\"color\":\"#000000\"},\"showarrow\":false,\"text\":\"0.016\",\"x\":0.55,\"xanchor\":\"left\",\"xref\":\"x\",\"y\":16,\"yref\":\"y\"},{\"align\":\"left\",\"font\":{\"color\":\"#000000\"},\"showarrow\":false,\"text\":\"anger\",\"x\":1.55,\"xanchor\":\"left\",\"xref\":\"x\",\"y\":16,\"yref\":\"y\"},{\"align\":\"left\",\"font\":{\"color\":\"#000000\"},\"showarrow\":false,\"text\":\"0.053\",\"x\":-0.45,\"xanchor\":\"left\",\"xref\":\"x\",\"y\":17,\"yref\":\"y\"},{\"align\":\"left\",\"font\":{\"color\":\"#000000\"},\"showarrow\":false,\"text\":\"0.058\",\"x\":0.55,\"xanchor\":\"left\",\"xref\":\"x\",\"y\":17,\"yref\":\"y\"},{\"align\":\"left\",\"font\":{\"color\":\"#000000\"},\"showarrow\":false,\"text\":\"PRON\",\"x\":1.55,\"xanchor\":\"left\",\"xref\":\"x\",\"y\":17,\"yref\":\"y\"},{\"align\":\"left\",\"font\":{\"color\":\"#000000\"},\"showarrow\":false,\"text\":\"0.056\",\"x\":-0.45,\"xanchor\":\"left\",\"xref\":\"x\",\"y\":18,\"yref\":\"y\"},{\"align\":\"left\",\"font\":{\"color\":\"#000000\"},\"showarrow\":false,\"text\":\"-0.021\",\"x\":0.55,\"xanchor\":\"left\",\"xref\":\"x\",\"y\":18,\"yref\":\"y\"},{\"align\":\"left\",\"font\":{\"color\":\"#000000\"},\"showarrow\":false,\"text\":\"negative\",\"x\":1.55,\"xanchor\":\"left\",\"xref\":\"x\",\"y\":18,\"yref\":\"y\"},{\"align\":\"left\",\"font\":{\"color\":\"#000000\"},\"showarrow\":false,\"text\":\"0.069\",\"x\":-0.45,\"xanchor\":\"left\",\"xref\":\"x\",\"y\":19,\"yref\":\"y\"},{\"align\":\"left\",\"font\":{\"color\":\"#000000\"},\"showarrow\":false,\"text\":\"0.04\",\"x\":0.55,\"xanchor\":\"left\",\"xref\":\"x\",\"y\":19,\"yref\":\"y\"},{\"align\":\"left\",\"font\":{\"color\":\"#000000\"},\"showarrow\":false,\"text\":\"fear\",\"x\":1.55,\"xanchor\":\"left\",\"xref\":\"x\",\"y\":19,\"yref\":\"y\"},{\"align\":\"left\",\"font\":{\"color\":\"#000000\"},\"showarrow\":false,\"text\":\"0.116\",\"x\":-0.45,\"xanchor\":\"left\",\"xref\":\"x\",\"y\":20,\"yref\":\"y\"},{\"align\":\"left\",\"font\":{\"color\":\"#000000\"},\"showarrow\":false,\"text\":\"0.163\",\"x\":0.55,\"xanchor\":\"left\",\"xref\":\"x\",\"y\":20,\"yref\":\"y\"},{\"align\":\"left\",\"font\":{\"color\":\"#000000\"},\"showarrow\":false,\"text\":\"CCONJ\",\"x\":1.55,\"xanchor\":\"left\",\"xref\":\"x\",\"y\":20,\"yref\":\"y\"},{\"align\":\"left\",\"font\":{\"color\":\"#000000\"},\"showarrow\":false,\"text\":\"0.144\",\"x\":-0.45,\"xanchor\":\"left\",\"xref\":\"x\",\"y\":21,\"yref\":\"y\"},{\"align\":\"left\",\"font\":{\"color\":\"#000000\"},\"showarrow\":false,\"text\":\"0.258\",\"x\":0.55,\"xanchor\":\"left\",\"xref\":\"x\",\"y\":21,\"yref\":\"y\"},{\"align\":\"left\",\"font\":{\"color\":\"#000000\"},\"showarrow\":false,\"text\":\"AUX\",\"x\":1.55,\"xanchor\":\"left\",\"xref\":\"x\",\"y\":21,\"yref\":\"y\"},{\"align\":\"left\",\"font\":{\"color\":\"#000000\"},\"showarrow\":false,\"text\":\"0.144\",\"x\":-0.45,\"xanchor\":\"left\",\"xref\":\"x\",\"y\":22,\"yref\":\"y\"},{\"align\":\"left\",\"font\":{\"color\":\"#000000\"},\"showarrow\":false,\"text\":\"0.205\",\"x\":0.55,\"xanchor\":\"left\",\"xref\":\"x\",\"y\":22,\"yref\":\"y\"},{\"align\":\"left\",\"font\":{\"color\":\"#000000\"},\"showarrow\":false,\"text\":\"PROPN\",\"x\":1.55,\"xanchor\":\"left\",\"xref\":\"x\",\"y\":22,\"yref\":\"y\"},{\"align\":\"left\",\"font\":{\"color\":\"#000000\"},\"showarrow\":false,\"text\":\"0.155\",\"x\":-0.45,\"xanchor\":\"left\",\"xref\":\"x\",\"y\":23,\"yref\":\"y\"},{\"align\":\"left\",\"font\":{\"color\":\"#000000\"},\"showarrow\":false,\"text\":\"0.24\",\"x\":0.55,\"xanchor\":\"left\",\"xref\":\"x\",\"y\":23,\"yref\":\"y\"},{\"align\":\"left\",\"font\":{\"color\":\"#000000\"},\"showarrow\":false,\"text\":\"PART\",\"x\":1.55,\"xanchor\":\"left\",\"xref\":\"x\",\"y\":23,\"yref\":\"y\"},{\"align\":\"left\",\"font\":{\"color\":\"#000000\"},\"showarrow\":false,\"text\":\"0.168\",\"x\":-0.45,\"xanchor\":\"left\",\"xref\":\"x\",\"y\":24,\"yref\":\"y\"},{\"align\":\"left\",\"font\":{\"color\":\"#000000\"},\"showarrow\":false,\"text\":\"0.264\",\"x\":0.55,\"xanchor\":\"left\",\"xref\":\"x\",\"y\":24,\"yref\":\"y\"},{\"align\":\"left\",\"font\":{\"color\":\"#000000\"},\"showarrow\":false,\"text\":\"ADP\",\"x\":1.55,\"xanchor\":\"left\",\"xref\":\"x\",\"y\":24,\"yref\":\"y\"},{\"align\":\"left\",\"font\":{\"color\":\"#000000\"},\"showarrow\":false,\"text\":\"0.168\",\"x\":-0.45,\"xanchor\":\"left\",\"xref\":\"x\",\"y\":25,\"yref\":\"y\"},{\"align\":\"left\",\"font\":{\"color\":\"#000000\"},\"showarrow\":false,\"text\":\"0.269\",\"x\":0.55,\"xanchor\":\"left\",\"xref\":\"x\",\"y\":25,\"yref\":\"y\"},{\"align\":\"left\",\"font\":{\"color\":\"#000000\"},\"showarrow\":false,\"text\":\"VERB\",\"x\":1.55,\"xanchor\":\"left\",\"xref\":\"x\",\"y\":25,\"yref\":\"y\"},{\"align\":\"left\",\"font\":{\"color\":\"#000000\"},\"showarrow\":false,\"text\":\"0.168\",\"x\":-0.45,\"xanchor\":\"left\",\"xref\":\"x\",\"y\":26,\"yref\":\"y\"},{\"align\":\"left\",\"font\":{\"color\":\"#000000\"},\"showarrow\":false,\"text\":\"0.262\",\"x\":0.55,\"xanchor\":\"left\",\"xref\":\"x\",\"y\":26,\"yref\":\"y\"},{\"align\":\"left\",\"font\":{\"color\":\"#000000\"},\"showarrow\":false,\"text\":\"PUNCT\",\"x\":1.55,\"xanchor\":\"left\",\"xref\":\"x\",\"y\":26,\"yref\":\"y\"},{\"align\":\"left\",\"font\":{\"color\":\"#000000\"},\"showarrow\":false,\"text\":\"0.168\",\"x\":-0.45,\"xanchor\":\"left\",\"xref\":\"x\",\"y\":27,\"yref\":\"y\"},{\"align\":\"left\",\"font\":{\"color\":\"#000000\"},\"showarrow\":false,\"text\":\"0.25\",\"x\":0.55,\"xanchor\":\"left\",\"xref\":\"x\",\"y\":27,\"yref\":\"y\"},{\"align\":\"left\",\"font\":{\"color\":\"#000000\"},\"showarrow\":false,\"text\":\"ADJ\",\"x\":1.55,\"xanchor\":\"left\",\"xref\":\"x\",\"y\":27,\"yref\":\"y\"},{\"align\":\"left\",\"font\":{\"color\":\"#000000\"},\"showarrow\":false,\"text\":\"0.17\",\"x\":-0.45,\"xanchor\":\"left\",\"xref\":\"x\",\"y\":28,\"yref\":\"y\"},{\"align\":\"left\",\"font\":{\"color\":\"#000000\"},\"showarrow\":false,\"text\":\"0.265\",\"x\":0.55,\"xanchor\":\"left\",\"xref\":\"x\",\"y\":28,\"yref\":\"y\"},{\"align\":\"left\",\"font\":{\"color\":\"#000000\"},\"showarrow\":false,\"text\":\"DET\",\"x\":1.55,\"xanchor\":\"left\",\"xref\":\"x\",\"y\":28,\"yref\":\"y\"},{\"align\":\"left\",\"font\":{\"color\":\"#000000\"},\"showarrow\":false,\"text\":\"0.174\",\"x\":-0.45,\"xanchor\":\"left\",\"xref\":\"x\",\"y\":29,\"yref\":\"y\"},{\"align\":\"left\",\"font\":{\"color\":\"#000000\"},\"showarrow\":false,\"text\":\"0.259\",\"x\":0.55,\"xanchor\":\"left\",\"xref\":\"x\",\"y\":29,\"yref\":\"y\"},{\"align\":\"left\",\"font\":{\"color\":\"#000000\"},\"showarrow\":false,\"text\":\"NOUN\",\"x\":1.55,\"xanchor\":\"left\",\"xref\":\"x\",\"y\":29,\"yref\":\"y\"},{\"align\":\"left\",\"font\":{\"color\":\"#000000\"},\"showarrow\":false,\"text\":\"0.184\",\"x\":-0.45,\"xanchor\":\"left\",\"xref\":\"x\",\"y\":30,\"yref\":\"y\"},{\"align\":\"left\",\"font\":{\"color\":\"#000000\"},\"showarrow\":false,\"text\":\"-0.172\",\"x\":0.55,\"xanchor\":\"left\",\"xref\":\"x\",\"y\":30,\"yref\":\"y\"},{\"align\":\"left\",\"font\":{\"color\":\"#000000\"},\"showarrow\":false,\"text\":\"word_per_sent\",\"x\":1.55,\"xanchor\":\"left\",\"xref\":\"x\",\"y\":30,\"yref\":\"y\"},{\"align\":\"left\",\"font\":{\"color\":\"#000000\"},\"showarrow\":false,\"text\":\"0.19\",\"x\":-0.45,\"xanchor\":\"left\",\"xref\":\"x\",\"y\":31,\"yref\":\"y\"},{\"align\":\"left\",\"font\":{\"color\":\"#000000\"},\"showarrow\":false,\"text\":\"-0.165\",\"x\":0.55,\"xanchor\":\"left\",\"xref\":\"x\",\"y\":31,\"yref\":\"y\"},{\"align\":\"left\",\"font\":{\"color\":\"#000000\"},\"showarrow\":false,\"text\":\"words_per_sentence\",\"x\":1.55,\"xanchor\":\"left\",\"xref\":\"x\",\"y\":31,\"yref\":\"y\"},{\"align\":\"left\",\"font\":{\"color\":\"#000000\"},\"showarrow\":false,\"text\":\"0.199\",\"x\":-0.45,\"xanchor\":\"left\",\"xref\":\"x\",\"y\":32,\"yref\":\"y\"},{\"align\":\"left\",\"font\":{\"color\":\"#000000\"},\"showarrow\":false,\"text\":\"-0.09\",\"x\":0.55,\"xanchor\":\"left\",\"xref\":\"x\",\"y\":32,\"yref\":\"y\"},{\"align\":\"left\",\"font\":{\"color\":\"#000000\"},\"showarrow\":false,\"text\":\"dc_word_perc\",\"x\":1.55,\"xanchor\":\"left\",\"xref\":\"x\",\"y\":32,\"yref\":\"y\"},{\"align\":\"left\",\"font\":{\"color\":\"#000000\"},\"showarrow\":false,\"text\":\"0.203\",\"x\":-0.45,\"xanchor\":\"left\",\"xref\":\"x\",\"y\":33,\"yref\":\"y\"},{\"align\":\"left\",\"font\":{\"color\":\"#000000\"},\"showarrow\":false,\"text\":\"-0.14\",\"x\":0.55,\"xanchor\":\"left\",\"xref\":\"x\",\"y\":33,\"yref\":\"y\"},{\"align\":\"left\",\"font\":{\"color\":\"#000000\"},\"showarrow\":false,\"text\":\"gf_word_perc\",\"x\":1.55,\"xanchor\":\"left\",\"xref\":\"x\",\"y\":33,\"yref\":\"y\"},{\"align\":\"left\",\"font\":{\"color\":\"#000000\"},\"showarrow\":false,\"text\":\"0.206\",\"x\":-0.45,\"xanchor\":\"left\",\"xref\":\"x\",\"y\":34,\"yref\":\"y\"},{\"align\":\"left\",\"font\":{\"color\":\"#000000\"},\"showarrow\":false,\"text\":\"-0.121\",\"x\":0.55,\"xanchor\":\"left\",\"xref\":\"x\",\"y\":34,\"yref\":\"y\"},{\"align\":\"left\",\"font\":{\"color\":\"#000000\"},\"showarrow\":false,\"text\":\"depth\",\"x\":1.55,\"xanchor\":\"left\",\"xref\":\"x\",\"y\":34,\"yref\":\"y\"},{\"align\":\"left\",\"font\":{\"color\":\"#000000\"},\"showarrow\":false,\"text\":\"0.209\",\"x\":-0.45,\"xanchor\":\"left\",\"xref\":\"x\",\"y\":35,\"yref\":\"y\"},{\"align\":\"left\",\"font\":{\"color\":\"#000000\"},\"showarrow\":false,\"text\":\"-0.134\",\"x\":0.55,\"xanchor\":\"left\",\"xref\":\"x\",\"y\":35,\"yref\":\"y\"},{\"align\":\"left\",\"font\":{\"color\":\"#000000\"},\"showarrow\":false,\"text\":\"poly_word_perc\",\"x\":1.55,\"xanchor\":\"left\",\"xref\":\"x\",\"y\":35,\"yref\":\"y\"},{\"align\":\"left\",\"font\":{\"color\":\"#000000\"},\"showarrow\":false,\"text\":\"0.215\",\"x\":-0.45,\"xanchor\":\"left\",\"xref\":\"x\",\"y\":36,\"yref\":\"y\"},{\"align\":\"left\",\"font\":{\"color\":\"#000000\"},\"showarrow\":false,\"text\":\"-0.17\",\"x\":0.55,\"xanchor\":\"left\",\"xref\":\"x\",\"y\":36,\"yref\":\"y\"},{\"align\":\"left\",\"font\":{\"color\":\"#000000\"},\"showarrow\":false,\"text\":\"dale_chall\",\"x\":1.55,\"xanchor\":\"left\",\"xref\":\"x\",\"y\":36,\"yref\":\"y\"},{\"align\":\"left\",\"font\":{\"color\":\"#000000\"},\"showarrow\":false,\"text\":\"0.217\",\"x\":-0.45,\"xanchor\":\"left\",\"xref\":\"x\",\"y\":37,\"yref\":\"y\"},{\"align\":\"left\",\"font\":{\"color\":\"#000000\"},\"showarrow\":false,\"text\":\"-0.179\",\"x\":0.55,\"xanchor\":\"left\",\"xref\":\"x\",\"y\":37,\"yref\":\"y\"},{\"align\":\"left\",\"font\":{\"color\":\"#000000\"},\"showarrow\":false,\"text\":\"gunning_fog\",\"x\":1.55,\"xanchor\":\"left\",\"xref\":\"x\",\"y\":37,\"yref\":\"y\"},{\"align\":\"left\",\"font\":{\"color\":\"#000000\"},\"showarrow\":false,\"text\":\"0.219\",\"x\":-0.45,\"xanchor\":\"left\",\"xref\":\"x\",\"y\":38,\"yref\":\"y\"},{\"align\":\"left\",\"font\":{\"color\":\"#000000\"},\"showarrow\":false,\"text\":\"-0.108\",\"x\":0.55,\"xanchor\":\"left\",\"xref\":\"x\",\"y\":38,\"yref\":\"y\"},{\"align\":\"left\",\"font\":{\"color\":\"#000000\"},\"showarrow\":false,\"text\":\"char_per_word\",\"x\":1.55,\"xanchor\":\"left\",\"xref\":\"x\",\"y\":38,\"yref\":\"y\"},{\"align\":\"left\",\"font\":{\"color\":\"#000000\"},\"showarrow\":false,\"text\":\"0.219\",\"x\":-0.45,\"xanchor\":\"left\",\"xref\":\"x\",\"y\":39,\"yref\":\"y\"},{\"align\":\"left\",\"font\":{\"color\":\"#000000\"},\"showarrow\":false,\"text\":\"-0.116\",\"x\":0.55,\"xanchor\":\"left\",\"xref\":\"x\",\"y\":39,\"yref\":\"y\"},{\"align\":\"left\",\"font\":{\"color\":\"#000000\"},\"showarrow\":false,\"text\":\"syl_per_word\",\"x\":1.55,\"xanchor\":\"left\",\"xref\":\"x\",\"y\":39,\"yref\":\"y\"},{\"align\":\"left\",\"font\":{\"color\":\"#000000\"},\"showarrow\":false,\"text\":\"0.222\",\"x\":-0.45,\"xanchor\":\"left\",\"xref\":\"x\",\"y\":40,\"yref\":\"y\"},{\"align\":\"left\",\"font\":{\"color\":\"#000000\"},\"showarrow\":false,\"text\":\"-0.169\",\"x\":0.55,\"xanchor\":\"left\",\"xref\":\"x\",\"y\":40,\"yref\":\"y\"},{\"align\":\"left\",\"font\":{\"color\":\"#000000\"},\"showarrow\":false,\"text\":\"ari\",\"x\":1.55,\"xanchor\":\"left\",\"xref\":\"x\",\"y\":40,\"yref\":\"y\"},{\"align\":\"left\",\"font\":{\"color\":\"#000000\"},\"showarrow\":false,\"text\":\"0.224\",\"x\":-0.45,\"xanchor\":\"left\",\"xref\":\"x\",\"y\":41,\"yref\":\"y\"},{\"align\":\"left\",\"font\":{\"color\":\"#000000\"},\"showarrow\":false,\"text\":\"-0.172\",\"x\":0.55,\"xanchor\":\"left\",\"xref\":\"x\",\"y\":41,\"yref\":\"y\"},{\"align\":\"left\",\"font\":{\"color\":\"#000000\"},\"showarrow\":false,\"text\":\"smog\",\"x\":1.55,\"xanchor\":\"left\",\"xref\":\"x\",\"y\":41,\"yref\":\"y\"},{\"align\":\"left\",\"font\":{\"color\":\"#000000\"},\"showarrow\":false,\"text\":\"0.224\",\"x\":-0.45,\"xanchor\":\"left\",\"xref\":\"x\",\"y\":42,\"yref\":\"y\"},{\"align\":\"left\",\"font\":{\"color\":\"#000000\"},\"showarrow\":false,\"text\":\"-0.169\",\"x\":0.55,\"xanchor\":\"left\",\"xref\":\"x\",\"y\":42,\"yref\":\"y\"},{\"align\":\"left\",\"font\":{\"color\":\"#000000\"},\"showarrow\":false,\"text\":\"flesch_kincaid\",\"x\":1.55,\"xanchor\":\"left\",\"xref\":\"x\",\"y\":42,\"yref\":\"y\"},{\"align\":\"left\",\"font\":{\"color\":\"#000000\"},\"showarrow\":false,\"text\":\"0.227\",\"x\":-0.45,\"xanchor\":\"left\",\"xref\":\"x\",\"y\":43,\"yref\":\"y\"},{\"align\":\"left\",\"font\":{\"color\":\"#000000\"},\"showarrow\":false,\"text\":\"-0.122\",\"x\":0.55,\"xanchor\":\"left\",\"xref\":\"x\",\"y\":43,\"yref\":\"y\"},{\"align\":\"left\",\"font\":{\"color\":\"#000000\"},\"showarrow\":false,\"text\":\"coleman_liau\",\"x\":1.55,\"xanchor\":\"left\",\"xref\":\"x\",\"y\":43,\"yref\":\"y\"}],\"height\":700,\"margin\":{\"b\":0,\"l\":0,\"r\":0,\"t\":0},\"xaxis\":{\"dtick\":1,\"gridwidth\":2,\"showticklabels\":false,\"tick0\":-0.5,\"ticks\":\"\",\"zeroline\":false},\"yaxis\":{\"autorange\":\"reversed\",\"dtick\":1,\"gridwidth\":2,\"showticklabels\":false,\"tick0\":0.5,\"ticks\":\"\",\"zeroline\":false},\"template\":{\"data\":{\"histogram2dcontour\":[{\"type\":\"histogram2dcontour\",\"colorbar\":{\"outlinewidth\":0,\"ticks\":\"\"},\"colorscale\":[[0.0,\"#0d0887\"],[0.1111111111111111,\"#46039f\"],[0.2222222222222222,\"#7201a8\"],[0.3333333333333333,\"#9c179e\"],[0.4444444444444444,\"#bd3786\"],[0.5555555555555556,\"#d8576b\"],[0.6666666666666666,\"#ed7953\"],[0.7777777777777778,\"#fb9f3a\"],[0.8888888888888888,\"#fdca26\"],[1.0,\"#f0f921\"]]}],\"choropleth\":[{\"type\":\"choropleth\",\"colorbar\":{\"outlinewidth\":0,\"ticks\":\"\"}}],\"histogram2d\":[{\"type\":\"histogram2d\",\"colorbar\":{\"outlinewidth\":0,\"ticks\":\"\"},\"colorscale\":[[0.0,\"#0d0887\"],[0.1111111111111111,\"#46039f\"],[0.2222222222222222,\"#7201a8\"],[0.3333333333333333,\"#9c179e\"],[0.4444444444444444,\"#bd3786\"],[0.5555555555555556,\"#d8576b\"],[0.6666666666666666,\"#ed7953\"],[0.7777777777777778,\"#fb9f3a\"],[0.8888888888888888,\"#fdca26\"],[1.0,\"#f0f921\"]]}],\"heatmap\":[{\"type\":\"heatmap\",\"colorbar\":{\"outlinewidth\":0,\"ticks\":\"\"},\"colorscale\":[[0.0,\"#0d0887\"],[0.1111111111111111,\"#46039f\"],[0.2222222222222222,\"#7201a8\"],[0.3333333333333333,\"#9c179e\"],[0.4444444444444444,\"#bd3786\"],[0.5555555555555556,\"#d8576b\"],[0.6666666666666666,\"#ed7953\"],[0.7777777777777778,\"#fb9f3a\"],[0.8888888888888888,\"#fdca26\"],[1.0,\"#f0f921\"]]}],\"heatmapgl\":[{\"type\":\"heatmapgl\",\"colorbar\":{\"outlinewidth\":0,\"ticks\":\"\"},\"colorscale\":[[0.0,\"#0d0887\"],[0.1111111111111111,\"#46039f\"],[0.2222222222222222,\"#7201a8\"],[0.3333333333333333,\"#9c179e\"],[0.4444444444444444,\"#bd3786\"],[0.5555555555555556,\"#d8576b\"],[0.6666666666666666,\"#ed7953\"],[0.7777777777777778,\"#fb9f3a\"],[0.8888888888888888,\"#fdca26\"],[1.0,\"#f0f921\"]]}],\"contourcarpet\":[{\"type\":\"contourcarpet\",\"colorbar\":{\"outlinewidth\":0,\"ticks\":\"\"}}],\"contour\":[{\"type\":\"contour\",\"colorbar\":{\"outlinewidth\":0,\"ticks\":\"\"},\"colorscale\":[[0.0,\"#0d0887\"],[0.1111111111111111,\"#46039f\"],[0.2222222222222222,\"#7201a8\"],[0.3333333333333333,\"#9c179e\"],[0.4444444444444444,\"#bd3786\"],[0.5555555555555556,\"#d8576b\"],[0.6666666666666666,\"#ed7953\"],[0.7777777777777778,\"#fb9f3a\"],[0.8888888888888888,\"#fdca26\"],[1.0,\"#f0f921\"]]}],\"surface\":[{\"type\":\"surface\",\"colorbar\":{\"outlinewidth\":0,\"ticks\":\"\"},\"colorscale\":[[0.0,\"#0d0887\"],[0.1111111111111111,\"#46039f\"],[0.2222222222222222,\"#7201a8\"],[0.3333333333333333,\"#9c179e\"],[0.4444444444444444,\"#bd3786\"],[0.5555555555555556,\"#d8576b\"],[0.6666666666666666,\"#ed7953\"],[0.7777777777777778,\"#fb9f3a\"],[0.8888888888888888,\"#fdca26\"],[1.0,\"#f0f921\"]]}],\"mesh3d\":[{\"type\":\"mesh3d\",\"colorbar\":{\"outlinewidth\":0,\"ticks\":\"\"}}],\"scatter\":[{\"fillpattern\":{\"fillmode\":\"overlay\",\"size\":10,\"solidity\":0.2},\"type\":\"scatter\"}],\"parcoords\":[{\"type\":\"parcoords\",\"line\":{\"colorbar\":{\"outlinewidth\":0,\"ticks\":\"\"}}}],\"scatterpolargl\":[{\"type\":\"scatterpolargl\",\"marker\":{\"colorbar\":{\"outlinewidth\":0,\"ticks\":\"\"}}}],\"bar\":[{\"error_x\":{\"color\":\"#2a3f5f\"},\"error_y\":{\"color\":\"#2a3f5f\"},\"marker\":{\"line\":{\"color\":\"#E5ECF6\",\"width\":0.5},\"pattern\":{\"fillmode\":\"overlay\",\"size\":10,\"solidity\":0.2}},\"type\":\"bar\"}],\"scattergeo\":[{\"type\":\"scattergeo\",\"marker\":{\"colorbar\":{\"outlinewidth\":0,\"ticks\":\"\"}}}],\"scatterpolar\":[{\"type\":\"scatterpolar\",\"marker\":{\"colorbar\":{\"outlinewidth\":0,\"ticks\":\"\"}}}],\"histogram\":[{\"marker\":{\"pattern\":{\"fillmode\":\"overlay\",\"size\":10,\"solidity\":0.2}},\"type\":\"histogram\"}],\"scattergl\":[{\"type\":\"scattergl\",\"marker\":{\"colorbar\":{\"outlinewidth\":0,\"ticks\":\"\"}}}],\"scatter3d\":[{\"type\":\"scatter3d\",\"line\":{\"colorbar\":{\"outlinewidth\":0,\"ticks\":\"\"}},\"marker\":{\"colorbar\":{\"outlinewidth\":0,\"ticks\":\"\"}}}],\"scattermapbox\":[{\"type\":\"scattermapbox\",\"marker\":{\"colorbar\":{\"outlinewidth\":0,\"ticks\":\"\"}}}],\"scatterternary\":[{\"type\":\"scatterternary\",\"marker\":{\"colorbar\":{\"outlinewidth\":0,\"ticks\":\"\"}}}],\"scattercarpet\":[{\"type\":\"scattercarpet\",\"marker\":{\"colorbar\":{\"outlinewidth\":0,\"ticks\":\"\"}}}],\"carpet\":[{\"aaxis\":{\"endlinecolor\":\"#2a3f5f\",\"gridcolor\":\"white\",\"linecolor\":\"white\",\"minorgridcolor\":\"white\",\"startlinecolor\":\"#2a3f5f\"},\"baxis\":{\"endlinecolor\":\"#2a3f5f\",\"gridcolor\":\"white\",\"linecolor\":\"white\",\"minorgridcolor\":\"white\",\"startlinecolor\":\"#2a3f5f\"},\"type\":\"carpet\"}],\"table\":[{\"cells\":{\"fill\":{\"color\":\"#EBF0F8\"},\"line\":{\"color\":\"white\"}},\"header\":{\"fill\":{\"color\":\"#C8D4E3\"},\"line\":{\"color\":\"white\"}},\"type\":\"table\"}],\"barpolar\":[{\"marker\":{\"line\":{\"color\":\"#E5ECF6\",\"width\":0.5},\"pattern\":{\"fillmode\":\"overlay\",\"size\":10,\"solidity\":0.2}},\"type\":\"barpolar\"}],\"pie\":[{\"automargin\":true,\"type\":\"pie\"}]},\"layout\":{\"autotypenumbers\":\"strict\",\"colorway\":[\"#636efa\",\"#EF553B\",\"#00cc96\",\"#ab63fa\",\"#FFA15A\",\"#19d3f3\",\"#FF6692\",\"#B6E880\",\"#FF97FF\",\"#FECB52\"],\"font\":{\"color\":\"#2a3f5f\"},\"hovermode\":\"closest\",\"hoverlabel\":{\"align\":\"left\"},\"paper_bgcolor\":\"white\",\"plot_bgcolor\":\"#E5ECF6\",\"polar\":{\"bgcolor\":\"#E5ECF6\",\"angularaxis\":{\"gridcolor\":\"white\",\"linecolor\":\"white\",\"ticks\":\"\"},\"radialaxis\":{\"gridcolor\":\"white\",\"linecolor\":\"white\",\"ticks\":\"\"}},\"ternary\":{\"bgcolor\":\"#E5ECF6\",\"aaxis\":{\"gridcolor\":\"white\",\"linecolor\":\"white\",\"ticks\":\"\"},\"baxis\":{\"gridcolor\":\"white\",\"linecolor\":\"white\",\"ticks\":\"\"},\"caxis\":{\"gridcolor\":\"white\",\"linecolor\":\"white\",\"ticks\":\"\"}},\"coloraxis\":{\"colorbar\":{\"outlinewidth\":0,\"ticks\":\"\"}},\"colorscale\":{\"sequential\":[[0.0,\"#0d0887\"],[0.1111111111111111,\"#46039f\"],[0.2222222222222222,\"#7201a8\"],[0.3333333333333333,\"#9c179e\"],[0.4444444444444444,\"#bd3786\"],[0.5555555555555556,\"#d8576b\"],[0.6666666666666666,\"#ed7953\"],[0.7777777777777778,\"#fb9f3a\"],[0.8888888888888888,\"#fdca26\"],[1.0,\"#f0f921\"]],\"sequentialminus\":[[0.0,\"#0d0887\"],[0.1111111111111111,\"#46039f\"],[0.2222222222222222,\"#7201a8\"],[0.3333333333333333,\"#9c179e\"],[0.4444444444444444,\"#bd3786\"],[0.5555555555555556,\"#d8576b\"],[0.6666666666666666,\"#ed7953\"],[0.7777777777777778,\"#fb9f3a\"],[0.8888888888888888,\"#fdca26\"],[1.0,\"#f0f921\"]],\"diverging\":[[0,\"#8e0152\"],[0.1,\"#c51b7d\"],[0.2,\"#de77ae\"],[0.3,\"#f1b6da\"],[0.4,\"#fde0ef\"],[0.5,\"#f7f7f7\"],[0.6,\"#e6f5d0\"],[0.7,\"#b8e186\"],[0.8,\"#7fbc41\"],[0.9,\"#4d9221\"],[1,\"#276419\"]]},\"xaxis\":{\"gridcolor\":\"white\",\"linecolor\":\"white\",\"ticks\":\"\",\"title\":{\"standoff\":15},\"zerolinecolor\":\"white\",\"automargin\":true,\"zerolinewidth\":2},\"yaxis\":{\"gridcolor\":\"white\",\"linecolor\":\"white\",\"ticks\":\"\",\"title\":{\"standoff\":15},\"zerolinecolor\":\"white\",\"automargin\":true,\"zerolinewidth\":2},\"scene\":{\"xaxis\":{\"backgroundcolor\":\"#E5ECF6\",\"gridcolor\":\"white\",\"linecolor\":\"white\",\"showbackground\":true,\"ticks\":\"\",\"zerolinecolor\":\"white\",\"gridwidth\":2},\"yaxis\":{\"backgroundcolor\":\"#E5ECF6\",\"gridcolor\":\"white\",\"linecolor\":\"white\",\"showbackground\":true,\"ticks\":\"\",\"zerolinecolor\":\"white\",\"gridwidth\":2},\"zaxis\":{\"backgroundcolor\":\"#E5ECF6\",\"gridcolor\":\"white\",\"linecolor\":\"white\",\"showbackground\":true,\"ticks\":\"\",\"zerolinecolor\":\"white\",\"gridwidth\":2}},\"shapedefaults\":{\"line\":{\"color\":\"#2a3f5f\"}},\"annotationdefaults\":{\"arrowcolor\":\"#2a3f5f\",\"arrowhead\":0,\"arrowwidth\":1},\"geo\":{\"bgcolor\":\"white\",\"landcolor\":\"#E5ECF6\",\"subunitcolor\":\"white\",\"showland\":true,\"showlakes\":true,\"lakecolor\":\"white\"},\"title\":{\"x\":0.05},\"mapbox\":{\"style\":\"light\"}}},\"autosize\":false,\"width\":400},                        {\"responsive\": true}                    ).then(function(){\n",
       "                            \n",
       "var gd = document.getElementById('0a53d1ab-928e-4337-98e7-f4b385769b01');\n",
       "var x = new MutationObserver(function (mutations, observer) {{\n",
       "        var display = window.getComputedStyle(gd).display;\n",
       "        if (!display || display === 'none') {{\n",
       "            console.log([gd, 'removed!']);\n",
       "            Plotly.purge(gd);\n",
       "            observer.disconnect();\n",
       "        }}\n",
       "}});\n",
       "\n",
       "// Listen for the removal of the full notebook cells\n",
       "var notebookContainer = gd.closest('#notebook-container');\n",
       "if (notebookContainer) {{\n",
       "    x.observe(notebookContainer, {childList: true});\n",
       "}}\n",
       "\n",
       "// Listen for the clearing of the current output cell\n",
       "var outputEl = gd.closest('.output');\n",
       "if (outputEl) {{\n",
       "    x.observe(outputEl, {childList: true});\n",
       "}}\n",
       "\n",
       "                        })                };                });            </script>        </div>"
      ]
     },
     "metadata": {},
     "output_type": "display_data"
    }
   ],
   "source": [
    "to_png = loadings.copy()\n",
    "to_png['var'] = to_png.index\n",
    "table = ff.create_table(round(to_png,3))\n",
    "table.update_layout(\n",
    "    autosize=False,\n",
    "    width=400,\n",
    "    height=700)"
   ]
  },
  {
   "cell_type": "code",
   "execution_count": 120,
   "id": "2c95587c",
   "metadata": {},
   "outputs": [],
   "source": [
    "# Not working\n",
    "import kaleido\n",
    "table.write_image(\"table_plotly.png\", scale=2)"
   ]
  },
  {
   "cell_type": "code",
   "execution_count": 121,
   "id": "df8f236d",
   "metadata": {},
   "outputs": [
    {
     "data": {
      "application/vnd.plotly.v1+json": {
       "config": {
        "plotlyServerURL": "https://plot.ly"
       },
       "data": [
        {
         "cells": {
          "align": [
           "left",
           "left",
           "left"
          ],
          "fill": {
           "color": "rgb(245,245,245)"
          },
          "font": {
           "color": [
            "black",
            "black",
            [
             "red",
             "black",
             "black",
             "black",
             "black",
             "black",
             "black",
             "black",
             "black",
             "black",
             "black",
             "black",
             "black",
             "black",
             "black",
             "black",
             "black",
             "black",
             "black",
             "black",
             "black",
             "black",
             "black",
             "red",
             "red",
             "red",
             "red",
             "red",
             "red",
             "red",
             "red",
             "red",
             "red",
             "red",
             "red",
             "red",
             "red",
             "red",
             "red",
             "red",
             "red",
             "red",
             "red"
            ]
           ],
           "family": "Arial",
           "size": 14
          },
          "height": 25,
          "line": {
           "color": "#506784"
          },
          "values": [
           [
            "INTJ",
            "num_unique_words",
            "joy",
            "TBpolarity",
            "TBsubjectivity",
            "SYM",
            "anticipation",
            "surprise",
            "sadness",
            "positive",
            "disgust",
            "trust",
            "SCONJ",
            "ADV",
            "NUM",
            "anger",
            "PRON",
            "negative",
            "fear",
            "CCONJ",
            "AUX",
            "PROPN",
            "PART",
            "ADP",
            "VERB",
            "PUNCT",
            "ADJ",
            "DET",
            "NOUN",
            "word_per_sent",
            "words_per_sentence",
            "dc_word_perc",
            "gf_word_perc",
            "depth",
            "poly_word_perc",
            "dale_chall",
            "gunning_fog",
            "char_per_word",
            "syl_per_word",
            "ari",
            "smog",
            "flesch_kincaid",
            "coleman_liau"
           ],
           [
            -0.167,
            -0.132,
            -0.132,
            -0.129,
            -0.126,
            -0.073,
            -0.066,
            -0.038,
            -0.013,
            -0.005,
            -0.002,
            0.005,
            0.016,
            0.021,
            0.023,
            0.05,
            0.053,
            0.056,
            0.069,
            0.116,
            0.144,
            0.144,
            0.155,
            0.168,
            0.168,
            0.168,
            0.168,
            0.17,
            0.174,
            0.184,
            0.19,
            0.199,
            0.203,
            0.206,
            0.209,
            0.215,
            0.217,
            0.219,
            0.219,
            0.222,
            0.224,
            0.224,
            0.227
           ],
           [
            -0.105,
            -0.095,
            0.027,
            0.001,
            0.058,
            -0.213,
            -0.023,
            0.005,
            -0.012,
            -0.005,
            0.005,
            -0.028,
            0.03,
            0.036,
            -0.113,
            0.016,
            0.058,
            -0.021,
            0.04,
            0.163,
            0.258,
            0.205,
            0.24,
            0.264,
            0.269,
            0.262,
            0.25,
            0.265,
            0.259,
            -0.172,
            -0.165,
            -0.09,
            -0.14,
            -0.121,
            -0.134,
            -0.17,
            -0.179,
            -0.108,
            -0.116,
            -0.169,
            -0.172,
            -0.169,
            -0.122
           ]
          ]
         },
         "header": {
          "align": [
           "center",
           "center",
           "center"
          ],
          "fill": {
           "color": "#686dea"
          },
          "font": {
           "color": "#ffffff",
           "size": 20
          },
          "height": 50,
          "values": [
           [
            "Var"
           ],
           [
            "PC1"
           ],
           [
            "PC2"
           ]
          ]
         },
         "type": "table"
        }
       ],
       "layout": {
        "autosize": false,
        "height": 800,
        "showlegend": false,
        "template": {
         "data": {
          "bar": [
           {
            "error_x": {
             "color": "#2a3f5f"
            },
            "error_y": {
             "color": "#2a3f5f"
            },
            "marker": {
             "line": {
              "color": "#E5ECF6",
              "width": 0.5
             },
             "pattern": {
              "fillmode": "overlay",
              "size": 10,
              "solidity": 0.2
             }
            },
            "type": "bar"
           }
          ],
          "barpolar": [
           {
            "marker": {
             "line": {
              "color": "#E5ECF6",
              "width": 0.5
             },
             "pattern": {
              "fillmode": "overlay",
              "size": 10,
              "solidity": 0.2
             }
            },
            "type": "barpolar"
           }
          ],
          "carpet": [
           {
            "aaxis": {
             "endlinecolor": "#2a3f5f",
             "gridcolor": "white",
             "linecolor": "white",
             "minorgridcolor": "white",
             "startlinecolor": "#2a3f5f"
            },
            "baxis": {
             "endlinecolor": "#2a3f5f",
             "gridcolor": "white",
             "linecolor": "white",
             "minorgridcolor": "white",
             "startlinecolor": "#2a3f5f"
            },
            "type": "carpet"
           }
          ],
          "choropleth": [
           {
            "colorbar": {
             "outlinewidth": 0,
             "ticks": ""
            },
            "type": "choropleth"
           }
          ],
          "contour": [
           {
            "colorbar": {
             "outlinewidth": 0,
             "ticks": ""
            },
            "colorscale": [
             [
              0,
              "#0d0887"
             ],
             [
              0.1111111111111111,
              "#46039f"
             ],
             [
              0.2222222222222222,
              "#7201a8"
             ],
             [
              0.3333333333333333,
              "#9c179e"
             ],
             [
              0.4444444444444444,
              "#bd3786"
             ],
             [
              0.5555555555555556,
              "#d8576b"
             ],
             [
              0.6666666666666666,
              "#ed7953"
             ],
             [
              0.7777777777777778,
              "#fb9f3a"
             ],
             [
              0.8888888888888888,
              "#fdca26"
             ],
             [
              1,
              "#f0f921"
             ]
            ],
            "type": "contour"
           }
          ],
          "contourcarpet": [
           {
            "colorbar": {
             "outlinewidth": 0,
             "ticks": ""
            },
            "type": "contourcarpet"
           }
          ],
          "heatmap": [
           {
            "colorbar": {
             "outlinewidth": 0,
             "ticks": ""
            },
            "colorscale": [
             [
              0,
              "#0d0887"
             ],
             [
              0.1111111111111111,
              "#46039f"
             ],
             [
              0.2222222222222222,
              "#7201a8"
             ],
             [
              0.3333333333333333,
              "#9c179e"
             ],
             [
              0.4444444444444444,
              "#bd3786"
             ],
             [
              0.5555555555555556,
              "#d8576b"
             ],
             [
              0.6666666666666666,
              "#ed7953"
             ],
             [
              0.7777777777777778,
              "#fb9f3a"
             ],
             [
              0.8888888888888888,
              "#fdca26"
             ],
             [
              1,
              "#f0f921"
             ]
            ],
            "type": "heatmap"
           }
          ],
          "heatmapgl": [
           {
            "colorbar": {
             "outlinewidth": 0,
             "ticks": ""
            },
            "colorscale": [
             [
              0,
              "#0d0887"
             ],
             [
              0.1111111111111111,
              "#46039f"
             ],
             [
              0.2222222222222222,
              "#7201a8"
             ],
             [
              0.3333333333333333,
              "#9c179e"
             ],
             [
              0.4444444444444444,
              "#bd3786"
             ],
             [
              0.5555555555555556,
              "#d8576b"
             ],
             [
              0.6666666666666666,
              "#ed7953"
             ],
             [
              0.7777777777777778,
              "#fb9f3a"
             ],
             [
              0.8888888888888888,
              "#fdca26"
             ],
             [
              1,
              "#f0f921"
             ]
            ],
            "type": "heatmapgl"
           }
          ],
          "histogram": [
           {
            "marker": {
             "pattern": {
              "fillmode": "overlay",
              "size": 10,
              "solidity": 0.2
             }
            },
            "type": "histogram"
           }
          ],
          "histogram2d": [
           {
            "colorbar": {
             "outlinewidth": 0,
             "ticks": ""
            },
            "colorscale": [
             [
              0,
              "#0d0887"
             ],
             [
              0.1111111111111111,
              "#46039f"
             ],
             [
              0.2222222222222222,
              "#7201a8"
             ],
             [
              0.3333333333333333,
              "#9c179e"
             ],
             [
              0.4444444444444444,
              "#bd3786"
             ],
             [
              0.5555555555555556,
              "#d8576b"
             ],
             [
              0.6666666666666666,
              "#ed7953"
             ],
             [
              0.7777777777777778,
              "#fb9f3a"
             ],
             [
              0.8888888888888888,
              "#fdca26"
             ],
             [
              1,
              "#f0f921"
             ]
            ],
            "type": "histogram2d"
           }
          ],
          "histogram2dcontour": [
           {
            "colorbar": {
             "outlinewidth": 0,
             "ticks": ""
            },
            "colorscale": [
             [
              0,
              "#0d0887"
             ],
             [
              0.1111111111111111,
              "#46039f"
             ],
             [
              0.2222222222222222,
              "#7201a8"
             ],
             [
              0.3333333333333333,
              "#9c179e"
             ],
             [
              0.4444444444444444,
              "#bd3786"
             ],
             [
              0.5555555555555556,
              "#d8576b"
             ],
             [
              0.6666666666666666,
              "#ed7953"
             ],
             [
              0.7777777777777778,
              "#fb9f3a"
             ],
             [
              0.8888888888888888,
              "#fdca26"
             ],
             [
              1,
              "#f0f921"
             ]
            ],
            "type": "histogram2dcontour"
           }
          ],
          "mesh3d": [
           {
            "colorbar": {
             "outlinewidth": 0,
             "ticks": ""
            },
            "type": "mesh3d"
           }
          ],
          "parcoords": [
           {
            "line": {
             "colorbar": {
              "outlinewidth": 0,
              "ticks": ""
             }
            },
            "type": "parcoords"
           }
          ],
          "pie": [
           {
            "automargin": true,
            "type": "pie"
           }
          ],
          "scatter": [
           {
            "fillpattern": {
             "fillmode": "overlay",
             "size": 10,
             "solidity": 0.2
            },
            "type": "scatter"
           }
          ],
          "scatter3d": [
           {
            "line": {
             "colorbar": {
              "outlinewidth": 0,
              "ticks": ""
             }
            },
            "marker": {
             "colorbar": {
              "outlinewidth": 0,
              "ticks": ""
             }
            },
            "type": "scatter3d"
           }
          ],
          "scattercarpet": [
           {
            "marker": {
             "colorbar": {
              "outlinewidth": 0,
              "ticks": ""
             }
            },
            "type": "scattercarpet"
           }
          ],
          "scattergeo": [
           {
            "marker": {
             "colorbar": {
              "outlinewidth": 0,
              "ticks": ""
             }
            },
            "type": "scattergeo"
           }
          ],
          "scattergl": [
           {
            "marker": {
             "colorbar": {
              "outlinewidth": 0,
              "ticks": ""
             }
            },
            "type": "scattergl"
           }
          ],
          "scattermapbox": [
           {
            "marker": {
             "colorbar": {
              "outlinewidth": 0,
              "ticks": ""
             }
            },
            "type": "scattermapbox"
           }
          ],
          "scatterpolar": [
           {
            "marker": {
             "colorbar": {
              "outlinewidth": 0,
              "ticks": ""
             }
            },
            "type": "scatterpolar"
           }
          ],
          "scatterpolargl": [
           {
            "marker": {
             "colorbar": {
              "outlinewidth": 0,
              "ticks": ""
             }
            },
            "type": "scatterpolargl"
           }
          ],
          "scatterternary": [
           {
            "marker": {
             "colorbar": {
              "outlinewidth": 0,
              "ticks": ""
             }
            },
            "type": "scatterternary"
           }
          ],
          "surface": [
           {
            "colorbar": {
             "outlinewidth": 0,
             "ticks": ""
            },
            "colorscale": [
             [
              0,
              "#0d0887"
             ],
             [
              0.1111111111111111,
              "#46039f"
             ],
             [
              0.2222222222222222,
              "#7201a8"
             ],
             [
              0.3333333333333333,
              "#9c179e"
             ],
             [
              0.4444444444444444,
              "#bd3786"
             ],
             [
              0.5555555555555556,
              "#d8576b"
             ],
             [
              0.6666666666666666,
              "#ed7953"
             ],
             [
              0.7777777777777778,
              "#fb9f3a"
             ],
             [
              0.8888888888888888,
              "#fdca26"
             ],
             [
              1,
              "#f0f921"
             ]
            ],
            "type": "surface"
           }
          ],
          "table": [
           {
            "cells": {
             "fill": {
              "color": "#EBF0F8"
             },
             "line": {
              "color": "white"
             }
            },
            "header": {
             "fill": {
              "color": "#C8D4E3"
             },
             "line": {
              "color": "white"
             }
            },
            "type": "table"
           }
          ]
         },
         "layout": {
          "annotationdefaults": {
           "arrowcolor": "#2a3f5f",
           "arrowhead": 0,
           "arrowwidth": 1
          },
          "autotypenumbers": "strict",
          "coloraxis": {
           "colorbar": {
            "outlinewidth": 0,
            "ticks": ""
           }
          },
          "colorscale": {
           "diverging": [
            [
             0,
             "#8e0152"
            ],
            [
             0.1,
             "#c51b7d"
            ],
            [
             0.2,
             "#de77ae"
            ],
            [
             0.3,
             "#f1b6da"
            ],
            [
             0.4,
             "#fde0ef"
            ],
            [
             0.5,
             "#f7f7f7"
            ],
            [
             0.6,
             "#e6f5d0"
            ],
            [
             0.7,
             "#b8e186"
            ],
            [
             0.8,
             "#7fbc41"
            ],
            [
             0.9,
             "#4d9221"
            ],
            [
             1,
             "#276419"
            ]
           ],
           "sequential": [
            [
             0,
             "#0d0887"
            ],
            [
             0.1111111111111111,
             "#46039f"
            ],
            [
             0.2222222222222222,
             "#7201a8"
            ],
            [
             0.3333333333333333,
             "#9c179e"
            ],
            [
             0.4444444444444444,
             "#bd3786"
            ],
            [
             0.5555555555555556,
             "#d8576b"
            ],
            [
             0.6666666666666666,
             "#ed7953"
            ],
            [
             0.7777777777777778,
             "#fb9f3a"
            ],
            [
             0.8888888888888888,
             "#fdca26"
            ],
            [
             1,
             "#f0f921"
            ]
           ],
           "sequentialminus": [
            [
             0,
             "#0d0887"
            ],
            [
             0.1111111111111111,
             "#46039f"
            ],
            [
             0.2222222222222222,
             "#7201a8"
            ],
            [
             0.3333333333333333,
             "#9c179e"
            ],
            [
             0.4444444444444444,
             "#bd3786"
            ],
            [
             0.5555555555555556,
             "#d8576b"
            ],
            [
             0.6666666666666666,
             "#ed7953"
            ],
            [
             0.7777777777777778,
             "#fb9f3a"
            ],
            [
             0.8888888888888888,
             "#fdca26"
            ],
            [
             1,
             "#f0f921"
            ]
           ]
          },
          "colorway": [
           "#636efa",
           "#EF553B",
           "#00cc96",
           "#ab63fa",
           "#FFA15A",
           "#19d3f3",
           "#FF6692",
           "#B6E880",
           "#FF97FF",
           "#FECB52"
          ],
          "font": {
           "color": "#2a3f5f"
          },
          "geo": {
           "bgcolor": "white",
           "lakecolor": "white",
           "landcolor": "#E5ECF6",
           "showlakes": true,
           "showland": true,
           "subunitcolor": "white"
          },
          "hoverlabel": {
           "align": "left"
          },
          "hovermode": "closest",
          "mapbox": {
           "style": "light"
          },
          "paper_bgcolor": "white",
          "plot_bgcolor": "#E5ECF6",
          "polar": {
           "angularaxis": {
            "gridcolor": "white",
            "linecolor": "white",
            "ticks": ""
           },
           "bgcolor": "#E5ECF6",
           "radialaxis": {
            "gridcolor": "white",
            "linecolor": "white",
            "ticks": ""
           }
          },
          "scene": {
           "xaxis": {
            "backgroundcolor": "#E5ECF6",
            "gridcolor": "white",
            "gridwidth": 2,
            "linecolor": "white",
            "showbackground": true,
            "ticks": "",
            "zerolinecolor": "white"
           },
           "yaxis": {
            "backgroundcolor": "#E5ECF6",
            "gridcolor": "white",
            "gridwidth": 2,
            "linecolor": "white",
            "showbackground": true,
            "ticks": "",
            "zerolinecolor": "white"
           },
           "zaxis": {
            "backgroundcolor": "#E5ECF6",
            "gridcolor": "white",
            "gridwidth": 2,
            "linecolor": "white",
            "showbackground": true,
            "ticks": "",
            "zerolinecolor": "white"
           }
          },
          "shapedefaults": {
           "line": {
            "color": "#2a3f5f"
           }
          },
          "ternary": {
           "aaxis": {
            "gridcolor": "white",
            "linecolor": "white",
            "ticks": ""
           },
           "baxis": {
            "gridcolor": "white",
            "linecolor": "white",
            "ticks": ""
           },
           "bgcolor": "#E5ECF6",
           "caxis": {
            "gridcolor": "white",
            "linecolor": "white",
            "ticks": ""
           }
          },
          "title": {
           "x": 0.05
          },
          "xaxis": {
           "automargin": true,
           "gridcolor": "white",
           "linecolor": "white",
           "ticks": "",
           "title": {
            "standoff": 15
           },
           "zerolinecolor": "white",
           "zerolinewidth": 2
          },
          "yaxis": {
           "automargin": true,
           "gridcolor": "white",
           "linecolor": "white",
           "ticks": "",
           "title": {
            "standoff": 15
           },
           "zerolinecolor": "white",
           "zerolinewidth": 2
          }
         }
        },
        "title": {
         "text": "Principle Components",
         "x": 0.5
        },
        "width": 600
       }
      },
      "text/html": [
       "<div>                            <div id=\"9bbc4508-e0c1-4579-9d08-edf37fd6b1cf\" class=\"plotly-graph-div\" style=\"height:800px; width:600px;\"></div>            <script type=\"text/javascript\">                require([\"plotly\"], function(Plotly) {                    window.PLOTLYENV=window.PLOTLYENV || {};                                    if (document.getElementById(\"9bbc4508-e0c1-4579-9d08-edf37fd6b1cf\")) {                    Plotly.newPlot(                        \"9bbc4508-e0c1-4579-9d08-edf37fd6b1cf\",                        [{\"cells\":{\"align\":[\"left\",\"left\",\"left\"],\"fill\":{\"color\":\"rgb(245,245,245)\"},\"font\":{\"color\":[\"black\",\"black\",[\"red\",\"black\",\"black\",\"black\",\"black\",\"black\",\"black\",\"black\",\"black\",\"black\",\"black\",\"black\",\"black\",\"black\",\"black\",\"black\",\"black\",\"black\",\"black\",\"black\",\"black\",\"black\",\"black\",\"red\",\"red\",\"red\",\"red\",\"red\",\"red\",\"red\",\"red\",\"red\",\"red\",\"red\",\"red\",\"red\",\"red\",\"red\",\"red\",\"red\",\"red\",\"red\",\"red\"]],\"family\":\"Arial\",\"size\":14},\"height\":25,\"line\":{\"color\":\"#506784\"},\"values\":[[\"INTJ\",\"num_unique_words\",\"joy\",\"TBpolarity\",\"TBsubjectivity\",\"SYM\",\"anticipation\",\"surprise\",\"sadness\",\"positive\",\"disgust\",\"trust\",\"SCONJ\",\"ADV\",\"NUM\",\"anger\",\"PRON\",\"negative\",\"fear\",\"CCONJ\",\"AUX\",\"PROPN\",\"PART\",\"ADP\",\"VERB\",\"PUNCT\",\"ADJ\",\"DET\",\"NOUN\",\"word_per_sent\",\"words_per_sentence\",\"dc_word_perc\",\"gf_word_perc\",\"depth\",\"poly_word_perc\",\"dale_chall\",\"gunning_fog\",\"char_per_word\",\"syl_per_word\",\"ari\",\"smog\",\"flesch_kincaid\",\"coleman_liau\"],[-0.167,-0.132,-0.132,-0.129,-0.126,-0.073,-0.066,-0.038,-0.013,-0.005,-0.002,0.005,0.016,0.021,0.023,0.05,0.053,0.056,0.069,0.116,0.144,0.144,0.155,0.168,0.168,0.168,0.168,0.17,0.174,0.184,0.19,0.199,0.203,0.206,0.209,0.215,0.217,0.219,0.219,0.222,0.224,0.224,0.227],[-0.105,-0.095,0.027,0.001,0.058,-0.213,-0.023,0.005,-0.012,-0.005,0.005,-0.028,0.03,0.036,-0.113,0.016,0.058,-0.021,0.04,0.163,0.258,0.205,0.24,0.264,0.269,0.262,0.25,0.265,0.259,-0.172,-0.165,-0.09,-0.14,-0.121,-0.134,-0.17,-0.179,-0.108,-0.116,-0.169,-0.172,-0.169,-0.122]]},\"header\":{\"align\":[\"center\",\"center\",\"center\"],\"fill\":{\"color\":\"#686dea\"},\"font\":{\"color\":\"#ffffff\",\"size\":20},\"height\":50,\"values\":[[\"Var\"],[\"PC1\"],[\"PC2\"]]},\"type\":\"table\"}],                        {\"autosize\":false,\"height\":800,\"showlegend\":false,\"title\":{\"text\":\"Principle Components\",\"x\":0.5},\"width\":600,\"template\":{\"data\":{\"histogram2dcontour\":[{\"type\":\"histogram2dcontour\",\"colorbar\":{\"outlinewidth\":0,\"ticks\":\"\"},\"colorscale\":[[0.0,\"#0d0887\"],[0.1111111111111111,\"#46039f\"],[0.2222222222222222,\"#7201a8\"],[0.3333333333333333,\"#9c179e\"],[0.4444444444444444,\"#bd3786\"],[0.5555555555555556,\"#d8576b\"],[0.6666666666666666,\"#ed7953\"],[0.7777777777777778,\"#fb9f3a\"],[0.8888888888888888,\"#fdca26\"],[1.0,\"#f0f921\"]]}],\"choropleth\":[{\"type\":\"choropleth\",\"colorbar\":{\"outlinewidth\":0,\"ticks\":\"\"}}],\"histogram2d\":[{\"type\":\"histogram2d\",\"colorbar\":{\"outlinewidth\":0,\"ticks\":\"\"},\"colorscale\":[[0.0,\"#0d0887\"],[0.1111111111111111,\"#46039f\"],[0.2222222222222222,\"#7201a8\"],[0.3333333333333333,\"#9c179e\"],[0.4444444444444444,\"#bd3786\"],[0.5555555555555556,\"#d8576b\"],[0.6666666666666666,\"#ed7953\"],[0.7777777777777778,\"#fb9f3a\"],[0.8888888888888888,\"#fdca26\"],[1.0,\"#f0f921\"]]}],\"heatmap\":[{\"type\":\"heatmap\",\"colorbar\":{\"outlinewidth\":0,\"ticks\":\"\"},\"colorscale\":[[0.0,\"#0d0887\"],[0.1111111111111111,\"#46039f\"],[0.2222222222222222,\"#7201a8\"],[0.3333333333333333,\"#9c179e\"],[0.4444444444444444,\"#bd3786\"],[0.5555555555555556,\"#d8576b\"],[0.6666666666666666,\"#ed7953\"],[0.7777777777777778,\"#fb9f3a\"],[0.8888888888888888,\"#fdca26\"],[1.0,\"#f0f921\"]]}],\"heatmapgl\":[{\"type\":\"heatmapgl\",\"colorbar\":{\"outlinewidth\":0,\"ticks\":\"\"},\"colorscale\":[[0.0,\"#0d0887\"],[0.1111111111111111,\"#46039f\"],[0.2222222222222222,\"#7201a8\"],[0.3333333333333333,\"#9c179e\"],[0.4444444444444444,\"#bd3786\"],[0.5555555555555556,\"#d8576b\"],[0.6666666666666666,\"#ed7953\"],[0.7777777777777778,\"#fb9f3a\"],[0.8888888888888888,\"#fdca26\"],[1.0,\"#f0f921\"]]}],\"contourcarpet\":[{\"type\":\"contourcarpet\",\"colorbar\":{\"outlinewidth\":0,\"ticks\":\"\"}}],\"contour\":[{\"type\":\"contour\",\"colorbar\":{\"outlinewidth\":0,\"ticks\":\"\"},\"colorscale\":[[0.0,\"#0d0887\"],[0.1111111111111111,\"#46039f\"],[0.2222222222222222,\"#7201a8\"],[0.3333333333333333,\"#9c179e\"],[0.4444444444444444,\"#bd3786\"],[0.5555555555555556,\"#d8576b\"],[0.6666666666666666,\"#ed7953\"],[0.7777777777777778,\"#fb9f3a\"],[0.8888888888888888,\"#fdca26\"],[1.0,\"#f0f921\"]]}],\"surface\":[{\"type\":\"surface\",\"colorbar\":{\"outlinewidth\":0,\"ticks\":\"\"},\"colorscale\":[[0.0,\"#0d0887\"],[0.1111111111111111,\"#46039f\"],[0.2222222222222222,\"#7201a8\"],[0.3333333333333333,\"#9c179e\"],[0.4444444444444444,\"#bd3786\"],[0.5555555555555556,\"#d8576b\"],[0.6666666666666666,\"#ed7953\"],[0.7777777777777778,\"#fb9f3a\"],[0.8888888888888888,\"#fdca26\"],[1.0,\"#f0f921\"]]}],\"mesh3d\":[{\"type\":\"mesh3d\",\"colorbar\":{\"outlinewidth\":0,\"ticks\":\"\"}}],\"scatter\":[{\"fillpattern\":{\"fillmode\":\"overlay\",\"size\":10,\"solidity\":0.2},\"type\":\"scatter\"}],\"parcoords\":[{\"type\":\"parcoords\",\"line\":{\"colorbar\":{\"outlinewidth\":0,\"ticks\":\"\"}}}],\"scatterpolargl\":[{\"type\":\"scatterpolargl\",\"marker\":{\"colorbar\":{\"outlinewidth\":0,\"ticks\":\"\"}}}],\"bar\":[{\"error_x\":{\"color\":\"#2a3f5f\"},\"error_y\":{\"color\":\"#2a3f5f\"},\"marker\":{\"line\":{\"color\":\"#E5ECF6\",\"width\":0.5},\"pattern\":{\"fillmode\":\"overlay\",\"size\":10,\"solidity\":0.2}},\"type\":\"bar\"}],\"scattergeo\":[{\"type\":\"scattergeo\",\"marker\":{\"colorbar\":{\"outlinewidth\":0,\"ticks\":\"\"}}}],\"scatterpolar\":[{\"type\":\"scatterpolar\",\"marker\":{\"colorbar\":{\"outlinewidth\":0,\"ticks\":\"\"}}}],\"histogram\":[{\"marker\":{\"pattern\":{\"fillmode\":\"overlay\",\"size\":10,\"solidity\":0.2}},\"type\":\"histogram\"}],\"scattergl\":[{\"type\":\"scattergl\",\"marker\":{\"colorbar\":{\"outlinewidth\":0,\"ticks\":\"\"}}}],\"scatter3d\":[{\"type\":\"scatter3d\",\"line\":{\"colorbar\":{\"outlinewidth\":0,\"ticks\":\"\"}},\"marker\":{\"colorbar\":{\"outlinewidth\":0,\"ticks\":\"\"}}}],\"scattermapbox\":[{\"type\":\"scattermapbox\",\"marker\":{\"colorbar\":{\"outlinewidth\":0,\"ticks\":\"\"}}}],\"scatterternary\":[{\"type\":\"scatterternary\",\"marker\":{\"colorbar\":{\"outlinewidth\":0,\"ticks\":\"\"}}}],\"scattercarpet\":[{\"type\":\"scattercarpet\",\"marker\":{\"colorbar\":{\"outlinewidth\":0,\"ticks\":\"\"}}}],\"carpet\":[{\"aaxis\":{\"endlinecolor\":\"#2a3f5f\",\"gridcolor\":\"white\",\"linecolor\":\"white\",\"minorgridcolor\":\"white\",\"startlinecolor\":\"#2a3f5f\"},\"baxis\":{\"endlinecolor\":\"#2a3f5f\",\"gridcolor\":\"white\",\"linecolor\":\"white\",\"minorgridcolor\":\"white\",\"startlinecolor\":\"#2a3f5f\"},\"type\":\"carpet\"}],\"table\":[{\"cells\":{\"fill\":{\"color\":\"#EBF0F8\"},\"line\":{\"color\":\"white\"}},\"header\":{\"fill\":{\"color\":\"#C8D4E3\"},\"line\":{\"color\":\"white\"}},\"type\":\"table\"}],\"barpolar\":[{\"marker\":{\"line\":{\"color\":\"#E5ECF6\",\"width\":0.5},\"pattern\":{\"fillmode\":\"overlay\",\"size\":10,\"solidity\":0.2}},\"type\":\"barpolar\"}],\"pie\":[{\"automargin\":true,\"type\":\"pie\"}]},\"layout\":{\"autotypenumbers\":\"strict\",\"colorway\":[\"#636efa\",\"#EF553B\",\"#00cc96\",\"#ab63fa\",\"#FFA15A\",\"#19d3f3\",\"#FF6692\",\"#B6E880\",\"#FF97FF\",\"#FECB52\"],\"font\":{\"color\":\"#2a3f5f\"},\"hovermode\":\"closest\",\"hoverlabel\":{\"align\":\"left\"},\"paper_bgcolor\":\"white\",\"plot_bgcolor\":\"#E5ECF6\",\"polar\":{\"bgcolor\":\"#E5ECF6\",\"angularaxis\":{\"gridcolor\":\"white\",\"linecolor\":\"white\",\"ticks\":\"\"},\"radialaxis\":{\"gridcolor\":\"white\",\"linecolor\":\"white\",\"ticks\":\"\"}},\"ternary\":{\"bgcolor\":\"#E5ECF6\",\"aaxis\":{\"gridcolor\":\"white\",\"linecolor\":\"white\",\"ticks\":\"\"},\"baxis\":{\"gridcolor\":\"white\",\"linecolor\":\"white\",\"ticks\":\"\"},\"caxis\":{\"gridcolor\":\"white\",\"linecolor\":\"white\",\"ticks\":\"\"}},\"coloraxis\":{\"colorbar\":{\"outlinewidth\":0,\"ticks\":\"\"}},\"colorscale\":{\"sequential\":[[0.0,\"#0d0887\"],[0.1111111111111111,\"#46039f\"],[0.2222222222222222,\"#7201a8\"],[0.3333333333333333,\"#9c179e\"],[0.4444444444444444,\"#bd3786\"],[0.5555555555555556,\"#d8576b\"],[0.6666666666666666,\"#ed7953\"],[0.7777777777777778,\"#fb9f3a\"],[0.8888888888888888,\"#fdca26\"],[1.0,\"#f0f921\"]],\"sequentialminus\":[[0.0,\"#0d0887\"],[0.1111111111111111,\"#46039f\"],[0.2222222222222222,\"#7201a8\"],[0.3333333333333333,\"#9c179e\"],[0.4444444444444444,\"#bd3786\"],[0.5555555555555556,\"#d8576b\"],[0.6666666666666666,\"#ed7953\"],[0.7777777777777778,\"#fb9f3a\"],[0.8888888888888888,\"#fdca26\"],[1.0,\"#f0f921\"]],\"diverging\":[[0,\"#8e0152\"],[0.1,\"#c51b7d\"],[0.2,\"#de77ae\"],[0.3,\"#f1b6da\"],[0.4,\"#fde0ef\"],[0.5,\"#f7f7f7\"],[0.6,\"#e6f5d0\"],[0.7,\"#b8e186\"],[0.8,\"#7fbc41\"],[0.9,\"#4d9221\"],[1,\"#276419\"]]},\"xaxis\":{\"gridcolor\":\"white\",\"linecolor\":\"white\",\"ticks\":\"\",\"title\":{\"standoff\":15},\"zerolinecolor\":\"white\",\"automargin\":true,\"zerolinewidth\":2},\"yaxis\":{\"gridcolor\":\"white\",\"linecolor\":\"white\",\"ticks\":\"\",\"title\":{\"standoff\":15},\"zerolinecolor\":\"white\",\"automargin\":true,\"zerolinewidth\":2},\"scene\":{\"xaxis\":{\"backgroundcolor\":\"#E5ECF6\",\"gridcolor\":\"white\",\"linecolor\":\"white\",\"showbackground\":true,\"ticks\":\"\",\"zerolinecolor\":\"white\",\"gridwidth\":2},\"yaxis\":{\"backgroundcolor\":\"#E5ECF6\",\"gridcolor\":\"white\",\"linecolor\":\"white\",\"showbackground\":true,\"ticks\":\"\",\"zerolinecolor\":\"white\",\"gridwidth\":2},\"zaxis\":{\"backgroundcolor\":\"#E5ECF6\",\"gridcolor\":\"white\",\"linecolor\":\"white\",\"showbackground\":true,\"ticks\":\"\",\"zerolinecolor\":\"white\",\"gridwidth\":2}},\"shapedefaults\":{\"line\":{\"color\":\"#2a3f5f\"}},\"annotationdefaults\":{\"arrowcolor\":\"#2a3f5f\",\"arrowhead\":0,\"arrowwidth\":1},\"geo\":{\"bgcolor\":\"white\",\"landcolor\":\"#E5ECF6\",\"subunitcolor\":\"white\",\"showland\":true,\"showlakes\":true,\"lakecolor\":\"white\"},\"title\":{\"x\":0.05},\"mapbox\":{\"style\":\"light\"}}}},                        {\"responsive\": true}                    ).then(function(){\n",
       "                            \n",
       "var gd = document.getElementById('9bbc4508-e0c1-4579-9d08-edf37fd6b1cf');\n",
       "var x = new MutationObserver(function (mutations, observer) {{\n",
       "        var display = window.getComputedStyle(gd).display;\n",
       "        if (!display || display === 'none') {{\n",
       "            console.log([gd, 'removed!']);\n",
       "            Plotly.purge(gd);\n",
       "            observer.disconnect();\n",
       "        }}\n",
       "}});\n",
       "\n",
       "// Listen for the removal of the full notebook cells\n",
       "var notebookContainer = gd.closest('#notebook-container');\n",
       "if (notebookContainer) {{\n",
       "    x.observe(notebookContainer, {childList: true});\n",
       "}}\n",
       "\n",
       "// Listen for the clearing of the current output cell\n",
       "var outputEl = gd.closest('.output');\n",
       "if (outputEl) {{\n",
       "    x.observe(outputEl, {childList: true});\n",
       "}}\n",
       "\n",
       "                        })                };                });            </script>        </div>"
      ]
     },
     "metadata": {},
     "output_type": "display_data"
    }
   ],
   "source": [
    "font_color=['black']*2+[['red' if boolv else 'black' for boolv in abs(to_png['PC1'])>0.16]]\n",
    "table_trace = go.Table(\n",
    "                 header = dict(height = 50,\n",
    "                               values = [['Var'], ['PC1'], ['PC2']],\n",
    "                               align = ['center']*3,\n",
    "                               fill_color = '#686dea',\n",
    "                               font_color = '#ffffff',\n",
    "                               font_size =20),\n",
    "                 cells = dict(values = [to_png['var'], round(to_png['PC1'],3), round(to_png['PC2'],3)],\n",
    "                              line = dict(color='#506784'),\n",
    "                              align = ['left']*3,\n",
    "                              font_color=font_color,\n",
    "                              font_family=\"Arial\", \n",
    "                              font_size=14,   \n",
    "                              height = 25,\n",
    "                              fill = dict(color='rgb(245,245,245)'))\n",
    "                             )\n",
    "layout = go.Layout(width=600, height=800, autosize=False,\n",
    "                   title_text='Principle Components',\n",
    "                   title_x=0.5, showlegend=False)\n",
    "fig = go.Figure(data=[table_trace], layout=layout)\n",
    "fig.show()"
   ]
  },
  {
   "cell_type": "code",
   "execution_count": 122,
   "id": "ede78418",
   "metadata": {},
   "outputs": [
    {
     "data": {
      "application/vnd.plotly.v1+json": {
       "config": {
        "plotlyServerURL": "https://plot.ly"
       },
       "data": [
        {
         "coloraxis": "coloraxis",
         "hovertemplate": "x: %{x}<br>y: %{y}<br>color: %{z}<extra></extra>",
         "name": "0",
         "texttemplate": "%{z}",
         "type": "heatmap",
         "x": [
          "PC1",
          "PC2",
          "var"
         ],
         "xaxis": "x",
         "y": [
          "INTJ",
          "num_unique_words",
          "joy",
          "TBpolarity",
          "TBsubjectivity",
          "SYM",
          "anticipation",
          "surprise",
          "sadness",
          "positive",
          "disgust",
          "trust",
          "SCONJ",
          "ADV",
          "NUM",
          "anger",
          "PRON",
          "negative",
          "fear",
          "CCONJ",
          "AUX",
          "PROPN",
          "PART",
          "ADP",
          "VERB",
          "PUNCT",
          "ADJ",
          "DET",
          "NOUN",
          "word_per_sent",
          "words_per_sentence",
          "dc_word_perc",
          "gf_word_perc",
          "depth",
          "poly_word_perc",
          "dale_chall",
          "gunning_fog",
          "char_per_word",
          "syl_per_word",
          "ari",
          "smog",
          "flesch_kincaid",
          "coleman_liau"
         ],
         "yaxis": "y",
         "z": [
          [
           -0.1670202815401451,
           -0.10462523176122301,
           "INTJ"
          ],
          [
           -0.13244368829342568,
           -0.09460171747943938,
           "num_unique_words"
          ],
          [
           -0.13226855664550008,
           0.02697306844368579,
           "joy"
          ],
          [
           -0.1291029806105013,
           0.0005846105038219768,
           "TBpolarity"
          ],
          [
           -0.12614946784203956,
           0.0576943817776343,
           "TBsubjectivity"
          ],
          [
           -0.07315656659362049,
           -0.21343893925861218,
           "SYM"
          ],
          [
           -0.06593902196996515,
           -0.022705505235711146,
           "anticipation"
          ],
          [
           -0.037701668032674066,
           0.004712328848675891,
           "surprise"
          ],
          [
           -0.01296546083185503,
           -0.011962553392345622,
           "sadness"
          ],
          [
           -0.005148427987197973,
           -0.005324256243127425,
           "positive"
          ],
          [
           -0.0017947737702531722,
           0.005430372687658443,
           "disgust"
          ],
          [
           0.005318986172787857,
           -0.027861285831176086,
           "trust"
          ],
          [
           0.016201938561038718,
           0.030458538965269687,
           "SCONJ"
          ],
          [
           0.021168667766976124,
           0.03574238847981581,
           "ADV"
          ],
          [
           0.023487446894630736,
           -0.11303755303231369,
           "NUM"
          ],
          [
           0.050428319300498396,
           0.016100256689258744,
           "anger"
          ],
          [
           0.05322594217440367,
           0.05752183615800038,
           "PRON"
          ],
          [
           0.05649140479060223,
           -0.021456141073833937,
           "negative"
          ],
          [
           0.06941447801291958,
           0.0399924802829297,
           "fear"
          ],
          [
           0.11550416097852813,
           0.1628081872799816,
           "CCONJ"
          ],
          [
           0.14395402747913755,
           0.2580942628019104,
           "AUX"
          ],
          [
           0.144244823634871,
           0.2046610674223605,
           "PROPN"
          ],
          [
           0.15502542484282847,
           0.23966690046840827,
           "PART"
          ],
          [
           0.16770121809130956,
           0.26410175541525505,
           "ADP"
          ],
          [
           0.1682162718767743,
           0.2690948016966966,
           "VERB"
          ],
          [
           0.16830117845458017,
           0.26249097448432823,
           "PUNCT"
          ],
          [
           0.16839137877773944,
           0.24989124538526244,
           "ADJ"
          ],
          [
           0.1695953406705407,
           0.2649448833975731,
           "DET"
          ],
          [
           0.17398757099684092,
           0.2592094782519452,
           "NOUN"
          ],
          [
           0.1838659969430174,
           -0.17150476056889324,
           "word_per_sent"
          ],
          [
           0.18956311876521748,
           -0.164969359317708,
           "words_per_sentence"
          ],
          [
           0.1992619662484497,
           -0.09039344461126442,
           "dc_word_perc"
          ],
          [
           0.20302263153015787,
           -0.14030307147233834,
           "gf_word_perc"
          ],
          [
           0.20647755904657727,
           -0.12113540859167309,
           "depth"
          ],
          [
           0.20935767553500578,
           -0.134169042220618,
           "poly_word_perc"
          ],
          [
           0.21499825066788558,
           -0.17005321535577245,
           "dale_chall"
          ],
          [
           0.21696862777147347,
           -0.17944824450132926,
           "gunning_fog"
          ],
          [
           0.2188601869401943,
           -0.1079361084649472,
           "char_per_word"
          ],
          [
           0.2190502702694547,
           -0.11590273159702658,
           "syl_per_word"
          ],
          [
           0.22197380971569833,
           -0.1693115781339285,
           "ari"
          ],
          [
           0.2235231003033478,
           -0.1718122245564686,
           "smog"
          ],
          [
           0.2241197996441233,
           -0.16881359016461522,
           "flesch_kincaid"
          ],
          [
           0.2273262335869928,
           -0.12238901796100962,
           "coleman_liau"
          ]
         ]
        }
       ],
       "layout": {
        "coloraxis": {
         "colorscale": [
          [
           0,
           "#0d0887"
          ],
          [
           0.1111111111111111,
           "#46039f"
          ],
          [
           0.2222222222222222,
           "#7201a8"
          ],
          [
           0.3333333333333333,
           "#9c179e"
          ],
          [
           0.4444444444444444,
           "#bd3786"
          ],
          [
           0.5555555555555556,
           "#d8576b"
          ],
          [
           0.6666666666666666,
           "#ed7953"
          ],
          [
           0.7777777777777778,
           "#fb9f3a"
          ],
          [
           0.8888888888888888,
           "#fdca26"
          ],
          [
           1,
           "#f0f921"
          ]
         ]
        },
        "margin": {
         "t": 60
        },
        "template": {
         "data": {
          "bar": [
           {
            "error_x": {
             "color": "#2a3f5f"
            },
            "error_y": {
             "color": "#2a3f5f"
            },
            "marker": {
             "line": {
              "color": "#E5ECF6",
              "width": 0.5
             },
             "pattern": {
              "fillmode": "overlay",
              "size": 10,
              "solidity": 0.2
             }
            },
            "type": "bar"
           }
          ],
          "barpolar": [
           {
            "marker": {
             "line": {
              "color": "#E5ECF6",
              "width": 0.5
             },
             "pattern": {
              "fillmode": "overlay",
              "size": 10,
              "solidity": 0.2
             }
            },
            "type": "barpolar"
           }
          ],
          "carpet": [
           {
            "aaxis": {
             "endlinecolor": "#2a3f5f",
             "gridcolor": "white",
             "linecolor": "white",
             "minorgridcolor": "white",
             "startlinecolor": "#2a3f5f"
            },
            "baxis": {
             "endlinecolor": "#2a3f5f",
             "gridcolor": "white",
             "linecolor": "white",
             "minorgridcolor": "white",
             "startlinecolor": "#2a3f5f"
            },
            "type": "carpet"
           }
          ],
          "choropleth": [
           {
            "colorbar": {
             "outlinewidth": 0,
             "ticks": ""
            },
            "type": "choropleth"
           }
          ],
          "contour": [
           {
            "colorbar": {
             "outlinewidth": 0,
             "ticks": ""
            },
            "colorscale": [
             [
              0,
              "#0d0887"
             ],
             [
              0.1111111111111111,
              "#46039f"
             ],
             [
              0.2222222222222222,
              "#7201a8"
             ],
             [
              0.3333333333333333,
              "#9c179e"
             ],
             [
              0.4444444444444444,
              "#bd3786"
             ],
             [
              0.5555555555555556,
              "#d8576b"
             ],
             [
              0.6666666666666666,
              "#ed7953"
             ],
             [
              0.7777777777777778,
              "#fb9f3a"
             ],
             [
              0.8888888888888888,
              "#fdca26"
             ],
             [
              1,
              "#f0f921"
             ]
            ],
            "type": "contour"
           }
          ],
          "contourcarpet": [
           {
            "colorbar": {
             "outlinewidth": 0,
             "ticks": ""
            },
            "type": "contourcarpet"
           }
          ],
          "heatmap": [
           {
            "colorbar": {
             "outlinewidth": 0,
             "ticks": ""
            },
            "colorscale": [
             [
              0,
              "#0d0887"
             ],
             [
              0.1111111111111111,
              "#46039f"
             ],
             [
              0.2222222222222222,
              "#7201a8"
             ],
             [
              0.3333333333333333,
              "#9c179e"
             ],
             [
              0.4444444444444444,
              "#bd3786"
             ],
             [
              0.5555555555555556,
              "#d8576b"
             ],
             [
              0.6666666666666666,
              "#ed7953"
             ],
             [
              0.7777777777777778,
              "#fb9f3a"
             ],
             [
              0.8888888888888888,
              "#fdca26"
             ],
             [
              1,
              "#f0f921"
             ]
            ],
            "type": "heatmap"
           }
          ],
          "heatmapgl": [
           {
            "colorbar": {
             "outlinewidth": 0,
             "ticks": ""
            },
            "colorscale": [
             [
              0,
              "#0d0887"
             ],
             [
              0.1111111111111111,
              "#46039f"
             ],
             [
              0.2222222222222222,
              "#7201a8"
             ],
             [
              0.3333333333333333,
              "#9c179e"
             ],
             [
              0.4444444444444444,
              "#bd3786"
             ],
             [
              0.5555555555555556,
              "#d8576b"
             ],
             [
              0.6666666666666666,
              "#ed7953"
             ],
             [
              0.7777777777777778,
              "#fb9f3a"
             ],
             [
              0.8888888888888888,
              "#fdca26"
             ],
             [
              1,
              "#f0f921"
             ]
            ],
            "type": "heatmapgl"
           }
          ],
          "histogram": [
           {
            "marker": {
             "pattern": {
              "fillmode": "overlay",
              "size": 10,
              "solidity": 0.2
             }
            },
            "type": "histogram"
           }
          ],
          "histogram2d": [
           {
            "colorbar": {
             "outlinewidth": 0,
             "ticks": ""
            },
            "colorscale": [
             [
              0,
              "#0d0887"
             ],
             [
              0.1111111111111111,
              "#46039f"
             ],
             [
              0.2222222222222222,
              "#7201a8"
             ],
             [
              0.3333333333333333,
              "#9c179e"
             ],
             [
              0.4444444444444444,
              "#bd3786"
             ],
             [
              0.5555555555555556,
              "#d8576b"
             ],
             [
              0.6666666666666666,
              "#ed7953"
             ],
             [
              0.7777777777777778,
              "#fb9f3a"
             ],
             [
              0.8888888888888888,
              "#fdca26"
             ],
             [
              1,
              "#f0f921"
             ]
            ],
            "type": "histogram2d"
           }
          ],
          "histogram2dcontour": [
           {
            "colorbar": {
             "outlinewidth": 0,
             "ticks": ""
            },
            "colorscale": [
             [
              0,
              "#0d0887"
             ],
             [
              0.1111111111111111,
              "#46039f"
             ],
             [
              0.2222222222222222,
              "#7201a8"
             ],
             [
              0.3333333333333333,
              "#9c179e"
             ],
             [
              0.4444444444444444,
              "#bd3786"
             ],
             [
              0.5555555555555556,
              "#d8576b"
             ],
             [
              0.6666666666666666,
              "#ed7953"
             ],
             [
              0.7777777777777778,
              "#fb9f3a"
             ],
             [
              0.8888888888888888,
              "#fdca26"
             ],
             [
              1,
              "#f0f921"
             ]
            ],
            "type": "histogram2dcontour"
           }
          ],
          "mesh3d": [
           {
            "colorbar": {
             "outlinewidth": 0,
             "ticks": ""
            },
            "type": "mesh3d"
           }
          ],
          "parcoords": [
           {
            "line": {
             "colorbar": {
              "outlinewidth": 0,
              "ticks": ""
             }
            },
            "type": "parcoords"
           }
          ],
          "pie": [
           {
            "automargin": true,
            "type": "pie"
           }
          ],
          "scatter": [
           {
            "fillpattern": {
             "fillmode": "overlay",
             "size": 10,
             "solidity": 0.2
            },
            "type": "scatter"
           }
          ],
          "scatter3d": [
           {
            "line": {
             "colorbar": {
              "outlinewidth": 0,
              "ticks": ""
             }
            },
            "marker": {
             "colorbar": {
              "outlinewidth": 0,
              "ticks": ""
             }
            },
            "type": "scatter3d"
           }
          ],
          "scattercarpet": [
           {
            "marker": {
             "colorbar": {
              "outlinewidth": 0,
              "ticks": ""
             }
            },
            "type": "scattercarpet"
           }
          ],
          "scattergeo": [
           {
            "marker": {
             "colorbar": {
              "outlinewidth": 0,
              "ticks": ""
             }
            },
            "type": "scattergeo"
           }
          ],
          "scattergl": [
           {
            "marker": {
             "colorbar": {
              "outlinewidth": 0,
              "ticks": ""
             }
            },
            "type": "scattergl"
           }
          ],
          "scattermapbox": [
           {
            "marker": {
             "colorbar": {
              "outlinewidth": 0,
              "ticks": ""
             }
            },
            "type": "scattermapbox"
           }
          ],
          "scatterpolar": [
           {
            "marker": {
             "colorbar": {
              "outlinewidth": 0,
              "ticks": ""
             }
            },
            "type": "scatterpolar"
           }
          ],
          "scatterpolargl": [
           {
            "marker": {
             "colorbar": {
              "outlinewidth": 0,
              "ticks": ""
             }
            },
            "type": "scatterpolargl"
           }
          ],
          "scatterternary": [
           {
            "marker": {
             "colorbar": {
              "outlinewidth": 0,
              "ticks": ""
             }
            },
            "type": "scatterternary"
           }
          ],
          "surface": [
           {
            "colorbar": {
             "outlinewidth": 0,
             "ticks": ""
            },
            "colorscale": [
             [
              0,
              "#0d0887"
             ],
             [
              0.1111111111111111,
              "#46039f"
             ],
             [
              0.2222222222222222,
              "#7201a8"
             ],
             [
              0.3333333333333333,
              "#9c179e"
             ],
             [
              0.4444444444444444,
              "#bd3786"
             ],
             [
              0.5555555555555556,
              "#d8576b"
             ],
             [
              0.6666666666666666,
              "#ed7953"
             ],
             [
              0.7777777777777778,
              "#fb9f3a"
             ],
             [
              0.8888888888888888,
              "#fdca26"
             ],
             [
              1,
              "#f0f921"
             ]
            ],
            "type": "surface"
           }
          ],
          "table": [
           {
            "cells": {
             "fill": {
              "color": "#EBF0F8"
             },
             "line": {
              "color": "white"
             }
            },
            "header": {
             "fill": {
              "color": "#C8D4E3"
             },
             "line": {
              "color": "white"
             }
            },
            "type": "table"
           }
          ]
         },
         "layout": {
          "annotationdefaults": {
           "arrowcolor": "#2a3f5f",
           "arrowhead": 0,
           "arrowwidth": 1
          },
          "autotypenumbers": "strict",
          "coloraxis": {
           "colorbar": {
            "outlinewidth": 0,
            "ticks": ""
           }
          },
          "colorscale": {
           "diverging": [
            [
             0,
             "#8e0152"
            ],
            [
             0.1,
             "#c51b7d"
            ],
            [
             0.2,
             "#de77ae"
            ],
            [
             0.3,
             "#f1b6da"
            ],
            [
             0.4,
             "#fde0ef"
            ],
            [
             0.5,
             "#f7f7f7"
            ],
            [
             0.6,
             "#e6f5d0"
            ],
            [
             0.7,
             "#b8e186"
            ],
            [
             0.8,
             "#7fbc41"
            ],
            [
             0.9,
             "#4d9221"
            ],
            [
             1,
             "#276419"
            ]
           ],
           "sequential": [
            [
             0,
             "#0d0887"
            ],
            [
             0.1111111111111111,
             "#46039f"
            ],
            [
             0.2222222222222222,
             "#7201a8"
            ],
            [
             0.3333333333333333,
             "#9c179e"
            ],
            [
             0.4444444444444444,
             "#bd3786"
            ],
            [
             0.5555555555555556,
             "#d8576b"
            ],
            [
             0.6666666666666666,
             "#ed7953"
            ],
            [
             0.7777777777777778,
             "#fb9f3a"
            ],
            [
             0.8888888888888888,
             "#fdca26"
            ],
            [
             1,
             "#f0f921"
            ]
           ],
           "sequentialminus": [
            [
             0,
             "#0d0887"
            ],
            [
             0.1111111111111111,
             "#46039f"
            ],
            [
             0.2222222222222222,
             "#7201a8"
            ],
            [
             0.3333333333333333,
             "#9c179e"
            ],
            [
             0.4444444444444444,
             "#bd3786"
            ],
            [
             0.5555555555555556,
             "#d8576b"
            ],
            [
             0.6666666666666666,
             "#ed7953"
            ],
            [
             0.7777777777777778,
             "#fb9f3a"
            ],
            [
             0.8888888888888888,
             "#fdca26"
            ],
            [
             1,
             "#f0f921"
            ]
           ]
          },
          "colorway": [
           "#636efa",
           "#EF553B",
           "#00cc96",
           "#ab63fa",
           "#FFA15A",
           "#19d3f3",
           "#FF6692",
           "#B6E880",
           "#FF97FF",
           "#FECB52"
          ],
          "font": {
           "color": "#2a3f5f"
          },
          "geo": {
           "bgcolor": "white",
           "lakecolor": "white",
           "landcolor": "#E5ECF6",
           "showlakes": true,
           "showland": true,
           "subunitcolor": "white"
          },
          "hoverlabel": {
           "align": "left"
          },
          "hovermode": "closest",
          "mapbox": {
           "style": "light"
          },
          "paper_bgcolor": "white",
          "plot_bgcolor": "#E5ECF6",
          "polar": {
           "angularaxis": {
            "gridcolor": "white",
            "linecolor": "white",
            "ticks": ""
           },
           "bgcolor": "#E5ECF6",
           "radialaxis": {
            "gridcolor": "white",
            "linecolor": "white",
            "ticks": ""
           }
          },
          "scene": {
           "xaxis": {
            "backgroundcolor": "#E5ECF6",
            "gridcolor": "white",
            "gridwidth": 2,
            "linecolor": "white",
            "showbackground": true,
            "ticks": "",
            "zerolinecolor": "white"
           },
           "yaxis": {
            "backgroundcolor": "#E5ECF6",
            "gridcolor": "white",
            "gridwidth": 2,
            "linecolor": "white",
            "showbackground": true,
            "ticks": "",
            "zerolinecolor": "white"
           },
           "zaxis": {
            "backgroundcolor": "#E5ECF6",
            "gridcolor": "white",
            "gridwidth": 2,
            "linecolor": "white",
            "showbackground": true,
            "ticks": "",
            "zerolinecolor": "white"
           }
          },
          "shapedefaults": {
           "line": {
            "color": "#2a3f5f"
           }
          },
          "ternary": {
           "aaxis": {
            "gridcolor": "white",
            "linecolor": "white",
            "ticks": ""
           },
           "baxis": {
            "gridcolor": "white",
            "linecolor": "white",
            "ticks": ""
           },
           "bgcolor": "#E5ECF6",
           "caxis": {
            "gridcolor": "white",
            "linecolor": "white",
            "ticks": ""
           }
          },
          "title": {
           "x": 0.05
          },
          "xaxis": {
           "automargin": true,
           "gridcolor": "white",
           "linecolor": "white",
           "ticks": "",
           "title": {
            "standoff": 15
           },
           "zerolinecolor": "white",
           "zerolinewidth": 2
          },
          "yaxis": {
           "automargin": true,
           "gridcolor": "white",
           "linecolor": "white",
           "ticks": "",
           "title": {
            "standoff": 15
           },
           "zerolinecolor": "white",
           "zerolinewidth": 2
          }
         }
        },
        "xaxis": {
         "anchor": "y",
         "constrain": "domain",
         "domain": [
          0,
          1
         ],
         "scaleanchor": "y",
         "side": "top"
        },
        "yaxis": {
         "anchor": "x",
         "autorange": "reversed",
         "constrain": "domain",
         "domain": [
          0,
          1
         ]
        }
       }
      },
      "text/html": [
       "<div>                            <div id=\"88309956-aeca-49ce-ab8a-801769cfa661\" class=\"plotly-graph-div\" style=\"height:525px; width:100%;\"></div>            <script type=\"text/javascript\">                require([\"plotly\"], function(Plotly) {                    window.PLOTLYENV=window.PLOTLYENV || {};                                    if (document.getElementById(\"88309956-aeca-49ce-ab8a-801769cfa661\")) {                    Plotly.newPlot(                        \"88309956-aeca-49ce-ab8a-801769cfa661\",                        [{\"coloraxis\":\"coloraxis\",\"name\":\"0\",\"texttemplate\":\"%{z}\",\"x\":[\"PC1\",\"PC2\",\"var\"],\"y\":[\"INTJ\",\"num_unique_words\",\"joy\",\"TBpolarity\",\"TBsubjectivity\",\"SYM\",\"anticipation\",\"surprise\",\"sadness\",\"positive\",\"disgust\",\"trust\",\"SCONJ\",\"ADV\",\"NUM\",\"anger\",\"PRON\",\"negative\",\"fear\",\"CCONJ\",\"AUX\",\"PROPN\",\"PART\",\"ADP\",\"VERB\",\"PUNCT\",\"ADJ\",\"DET\",\"NOUN\",\"word_per_sent\",\"words_per_sentence\",\"dc_word_perc\",\"gf_word_perc\",\"depth\",\"poly_word_perc\",\"dale_chall\",\"gunning_fog\",\"char_per_word\",\"syl_per_word\",\"ari\",\"smog\",\"flesch_kincaid\",\"coleman_liau\"],\"z\":[[-0.1670202815401451,-0.10462523176122301,\"INTJ\"],[-0.13244368829342568,-0.09460171747943938,\"num_unique_words\"],[-0.13226855664550008,0.02697306844368579,\"joy\"],[-0.1291029806105013,0.0005846105038219768,\"TBpolarity\"],[-0.12614946784203956,0.0576943817776343,\"TBsubjectivity\"],[-0.07315656659362049,-0.21343893925861218,\"SYM\"],[-0.06593902196996515,-0.022705505235711146,\"anticipation\"],[-0.037701668032674066,0.004712328848675891,\"surprise\"],[-0.01296546083185503,-0.011962553392345622,\"sadness\"],[-0.005148427987197973,-0.005324256243127425,\"positive\"],[-0.0017947737702531722,0.005430372687658443,\"disgust\"],[0.005318986172787857,-0.027861285831176086,\"trust\"],[0.016201938561038718,0.030458538965269687,\"SCONJ\"],[0.021168667766976124,0.03574238847981581,\"ADV\"],[0.023487446894630736,-0.11303755303231369,\"NUM\"],[0.050428319300498396,0.016100256689258744,\"anger\"],[0.05322594217440367,0.05752183615800038,\"PRON\"],[0.05649140479060223,-0.021456141073833937,\"negative\"],[0.06941447801291958,0.0399924802829297,\"fear\"],[0.11550416097852813,0.1628081872799816,\"CCONJ\"],[0.14395402747913755,0.2580942628019104,\"AUX\"],[0.144244823634871,0.2046610674223605,\"PROPN\"],[0.15502542484282847,0.23966690046840827,\"PART\"],[0.16770121809130956,0.26410175541525505,\"ADP\"],[0.1682162718767743,0.2690948016966966,\"VERB\"],[0.16830117845458017,0.26249097448432823,\"PUNCT\"],[0.16839137877773944,0.24989124538526244,\"ADJ\"],[0.1695953406705407,0.2649448833975731,\"DET\"],[0.17398757099684092,0.2592094782519452,\"NOUN\"],[0.1838659969430174,-0.17150476056889324,\"word_per_sent\"],[0.18956311876521748,-0.164969359317708,\"words_per_sentence\"],[0.1992619662484497,-0.09039344461126442,\"dc_word_perc\"],[0.20302263153015787,-0.14030307147233834,\"gf_word_perc\"],[0.20647755904657727,-0.12113540859167309,\"depth\"],[0.20935767553500578,-0.134169042220618,\"poly_word_perc\"],[0.21499825066788558,-0.17005321535577245,\"dale_chall\"],[0.21696862777147347,-0.17944824450132926,\"gunning_fog\"],[0.2188601869401943,-0.1079361084649472,\"char_per_word\"],[0.2190502702694547,-0.11590273159702658,\"syl_per_word\"],[0.22197380971569833,-0.1693115781339285,\"ari\"],[0.2235231003033478,-0.1718122245564686,\"smog\"],[0.2241197996441233,-0.16881359016461522,\"flesch_kincaid\"],[0.2273262335869928,-0.12238901796100962,\"coleman_liau\"]],\"type\":\"heatmap\",\"xaxis\":\"x\",\"yaxis\":\"y\",\"hovertemplate\":\"x: %{x}<br>y: %{y}<br>color: %{z}<extra></extra>\"}],                        {\"template\":{\"data\":{\"histogram2dcontour\":[{\"type\":\"histogram2dcontour\",\"colorbar\":{\"outlinewidth\":0,\"ticks\":\"\"},\"colorscale\":[[0.0,\"#0d0887\"],[0.1111111111111111,\"#46039f\"],[0.2222222222222222,\"#7201a8\"],[0.3333333333333333,\"#9c179e\"],[0.4444444444444444,\"#bd3786\"],[0.5555555555555556,\"#d8576b\"],[0.6666666666666666,\"#ed7953\"],[0.7777777777777778,\"#fb9f3a\"],[0.8888888888888888,\"#fdca26\"],[1.0,\"#f0f921\"]]}],\"choropleth\":[{\"type\":\"choropleth\",\"colorbar\":{\"outlinewidth\":0,\"ticks\":\"\"}}],\"histogram2d\":[{\"type\":\"histogram2d\",\"colorbar\":{\"outlinewidth\":0,\"ticks\":\"\"},\"colorscale\":[[0.0,\"#0d0887\"],[0.1111111111111111,\"#46039f\"],[0.2222222222222222,\"#7201a8\"],[0.3333333333333333,\"#9c179e\"],[0.4444444444444444,\"#bd3786\"],[0.5555555555555556,\"#d8576b\"],[0.6666666666666666,\"#ed7953\"],[0.7777777777777778,\"#fb9f3a\"],[0.8888888888888888,\"#fdca26\"],[1.0,\"#f0f921\"]]}],\"heatmap\":[{\"type\":\"heatmap\",\"colorbar\":{\"outlinewidth\":0,\"ticks\":\"\"},\"colorscale\":[[0.0,\"#0d0887\"],[0.1111111111111111,\"#46039f\"],[0.2222222222222222,\"#7201a8\"],[0.3333333333333333,\"#9c179e\"],[0.4444444444444444,\"#bd3786\"],[0.5555555555555556,\"#d8576b\"],[0.6666666666666666,\"#ed7953\"],[0.7777777777777778,\"#fb9f3a\"],[0.8888888888888888,\"#fdca26\"],[1.0,\"#f0f921\"]]}],\"heatmapgl\":[{\"type\":\"heatmapgl\",\"colorbar\":{\"outlinewidth\":0,\"ticks\":\"\"},\"colorscale\":[[0.0,\"#0d0887\"],[0.1111111111111111,\"#46039f\"],[0.2222222222222222,\"#7201a8\"],[0.3333333333333333,\"#9c179e\"],[0.4444444444444444,\"#bd3786\"],[0.5555555555555556,\"#d8576b\"],[0.6666666666666666,\"#ed7953\"],[0.7777777777777778,\"#fb9f3a\"],[0.8888888888888888,\"#fdca26\"],[1.0,\"#f0f921\"]]}],\"contourcarpet\":[{\"type\":\"contourcarpet\",\"colorbar\":{\"outlinewidth\":0,\"ticks\":\"\"}}],\"contour\":[{\"type\":\"contour\",\"colorbar\":{\"outlinewidth\":0,\"ticks\":\"\"},\"colorscale\":[[0.0,\"#0d0887\"],[0.1111111111111111,\"#46039f\"],[0.2222222222222222,\"#7201a8\"],[0.3333333333333333,\"#9c179e\"],[0.4444444444444444,\"#bd3786\"],[0.5555555555555556,\"#d8576b\"],[0.6666666666666666,\"#ed7953\"],[0.7777777777777778,\"#fb9f3a\"],[0.8888888888888888,\"#fdca26\"],[1.0,\"#f0f921\"]]}],\"surface\":[{\"type\":\"surface\",\"colorbar\":{\"outlinewidth\":0,\"ticks\":\"\"},\"colorscale\":[[0.0,\"#0d0887\"],[0.1111111111111111,\"#46039f\"],[0.2222222222222222,\"#7201a8\"],[0.3333333333333333,\"#9c179e\"],[0.4444444444444444,\"#bd3786\"],[0.5555555555555556,\"#d8576b\"],[0.6666666666666666,\"#ed7953\"],[0.7777777777777778,\"#fb9f3a\"],[0.8888888888888888,\"#fdca26\"],[1.0,\"#f0f921\"]]}],\"mesh3d\":[{\"type\":\"mesh3d\",\"colorbar\":{\"outlinewidth\":0,\"ticks\":\"\"}}],\"scatter\":[{\"fillpattern\":{\"fillmode\":\"overlay\",\"size\":10,\"solidity\":0.2},\"type\":\"scatter\"}],\"parcoords\":[{\"type\":\"parcoords\",\"line\":{\"colorbar\":{\"outlinewidth\":0,\"ticks\":\"\"}}}],\"scatterpolargl\":[{\"type\":\"scatterpolargl\",\"marker\":{\"colorbar\":{\"outlinewidth\":0,\"ticks\":\"\"}}}],\"bar\":[{\"error_x\":{\"color\":\"#2a3f5f\"},\"error_y\":{\"color\":\"#2a3f5f\"},\"marker\":{\"line\":{\"color\":\"#E5ECF6\",\"width\":0.5},\"pattern\":{\"fillmode\":\"overlay\",\"size\":10,\"solidity\":0.2}},\"type\":\"bar\"}],\"scattergeo\":[{\"type\":\"scattergeo\",\"marker\":{\"colorbar\":{\"outlinewidth\":0,\"ticks\":\"\"}}}],\"scatterpolar\":[{\"type\":\"scatterpolar\",\"marker\":{\"colorbar\":{\"outlinewidth\":0,\"ticks\":\"\"}}}],\"histogram\":[{\"marker\":{\"pattern\":{\"fillmode\":\"overlay\",\"size\":10,\"solidity\":0.2}},\"type\":\"histogram\"}],\"scattergl\":[{\"type\":\"scattergl\",\"marker\":{\"colorbar\":{\"outlinewidth\":0,\"ticks\":\"\"}}}],\"scatter3d\":[{\"type\":\"scatter3d\",\"line\":{\"colorbar\":{\"outlinewidth\":0,\"ticks\":\"\"}},\"marker\":{\"colorbar\":{\"outlinewidth\":0,\"ticks\":\"\"}}}],\"scattermapbox\":[{\"type\":\"scattermapbox\",\"marker\":{\"colorbar\":{\"outlinewidth\":0,\"ticks\":\"\"}}}],\"scatterternary\":[{\"type\":\"scatterternary\",\"marker\":{\"colorbar\":{\"outlinewidth\":0,\"ticks\":\"\"}}}],\"scattercarpet\":[{\"type\":\"scattercarpet\",\"marker\":{\"colorbar\":{\"outlinewidth\":0,\"ticks\":\"\"}}}],\"carpet\":[{\"aaxis\":{\"endlinecolor\":\"#2a3f5f\",\"gridcolor\":\"white\",\"linecolor\":\"white\",\"minorgridcolor\":\"white\",\"startlinecolor\":\"#2a3f5f\"},\"baxis\":{\"endlinecolor\":\"#2a3f5f\",\"gridcolor\":\"white\",\"linecolor\":\"white\",\"minorgridcolor\":\"white\",\"startlinecolor\":\"#2a3f5f\"},\"type\":\"carpet\"}],\"table\":[{\"cells\":{\"fill\":{\"color\":\"#EBF0F8\"},\"line\":{\"color\":\"white\"}},\"header\":{\"fill\":{\"color\":\"#C8D4E3\"},\"line\":{\"color\":\"white\"}},\"type\":\"table\"}],\"barpolar\":[{\"marker\":{\"line\":{\"color\":\"#E5ECF6\",\"width\":0.5},\"pattern\":{\"fillmode\":\"overlay\",\"size\":10,\"solidity\":0.2}},\"type\":\"barpolar\"}],\"pie\":[{\"automargin\":true,\"type\":\"pie\"}]},\"layout\":{\"autotypenumbers\":\"strict\",\"colorway\":[\"#636efa\",\"#EF553B\",\"#00cc96\",\"#ab63fa\",\"#FFA15A\",\"#19d3f3\",\"#FF6692\",\"#B6E880\",\"#FF97FF\",\"#FECB52\"],\"font\":{\"color\":\"#2a3f5f\"},\"hovermode\":\"closest\",\"hoverlabel\":{\"align\":\"left\"},\"paper_bgcolor\":\"white\",\"plot_bgcolor\":\"#E5ECF6\",\"polar\":{\"bgcolor\":\"#E5ECF6\",\"angularaxis\":{\"gridcolor\":\"white\",\"linecolor\":\"white\",\"ticks\":\"\"},\"radialaxis\":{\"gridcolor\":\"white\",\"linecolor\":\"white\",\"ticks\":\"\"}},\"ternary\":{\"bgcolor\":\"#E5ECF6\",\"aaxis\":{\"gridcolor\":\"white\",\"linecolor\":\"white\",\"ticks\":\"\"},\"baxis\":{\"gridcolor\":\"white\",\"linecolor\":\"white\",\"ticks\":\"\"},\"caxis\":{\"gridcolor\":\"white\",\"linecolor\":\"white\",\"ticks\":\"\"}},\"coloraxis\":{\"colorbar\":{\"outlinewidth\":0,\"ticks\":\"\"}},\"colorscale\":{\"sequential\":[[0.0,\"#0d0887\"],[0.1111111111111111,\"#46039f\"],[0.2222222222222222,\"#7201a8\"],[0.3333333333333333,\"#9c179e\"],[0.4444444444444444,\"#bd3786\"],[0.5555555555555556,\"#d8576b\"],[0.6666666666666666,\"#ed7953\"],[0.7777777777777778,\"#fb9f3a\"],[0.8888888888888888,\"#fdca26\"],[1.0,\"#f0f921\"]],\"sequentialminus\":[[0.0,\"#0d0887\"],[0.1111111111111111,\"#46039f\"],[0.2222222222222222,\"#7201a8\"],[0.3333333333333333,\"#9c179e\"],[0.4444444444444444,\"#bd3786\"],[0.5555555555555556,\"#d8576b\"],[0.6666666666666666,\"#ed7953\"],[0.7777777777777778,\"#fb9f3a\"],[0.8888888888888888,\"#fdca26\"],[1.0,\"#f0f921\"]],\"diverging\":[[0,\"#8e0152\"],[0.1,\"#c51b7d\"],[0.2,\"#de77ae\"],[0.3,\"#f1b6da\"],[0.4,\"#fde0ef\"],[0.5,\"#f7f7f7\"],[0.6,\"#e6f5d0\"],[0.7,\"#b8e186\"],[0.8,\"#7fbc41\"],[0.9,\"#4d9221\"],[1,\"#276419\"]]},\"xaxis\":{\"gridcolor\":\"white\",\"linecolor\":\"white\",\"ticks\":\"\",\"title\":{\"standoff\":15},\"zerolinecolor\":\"white\",\"automargin\":true,\"zerolinewidth\":2},\"yaxis\":{\"gridcolor\":\"white\",\"linecolor\":\"white\",\"ticks\":\"\",\"title\":{\"standoff\":15},\"zerolinecolor\":\"white\",\"automargin\":true,\"zerolinewidth\":2},\"scene\":{\"xaxis\":{\"backgroundcolor\":\"#E5ECF6\",\"gridcolor\":\"white\",\"linecolor\":\"white\",\"showbackground\":true,\"ticks\":\"\",\"zerolinecolor\":\"white\",\"gridwidth\":2},\"yaxis\":{\"backgroundcolor\":\"#E5ECF6\",\"gridcolor\":\"white\",\"linecolor\":\"white\",\"showbackground\":true,\"ticks\":\"\",\"zerolinecolor\":\"white\",\"gridwidth\":2},\"zaxis\":{\"backgroundcolor\":\"#E5ECF6\",\"gridcolor\":\"white\",\"linecolor\":\"white\",\"showbackground\":true,\"ticks\":\"\",\"zerolinecolor\":\"white\",\"gridwidth\":2}},\"shapedefaults\":{\"line\":{\"color\":\"#2a3f5f\"}},\"annotationdefaults\":{\"arrowcolor\":\"#2a3f5f\",\"arrowhead\":0,\"arrowwidth\":1},\"geo\":{\"bgcolor\":\"white\",\"landcolor\":\"#E5ECF6\",\"subunitcolor\":\"white\",\"showland\":true,\"showlakes\":true,\"lakecolor\":\"white\"},\"title\":{\"x\":0.05},\"mapbox\":{\"style\":\"light\"}}},\"xaxis\":{\"anchor\":\"y\",\"domain\":[0.0,1.0],\"scaleanchor\":\"y\",\"constrain\":\"domain\",\"side\":\"top\"},\"yaxis\":{\"anchor\":\"x\",\"domain\":[0.0,1.0],\"autorange\":\"reversed\",\"constrain\":\"domain\"},\"coloraxis\":{\"colorscale\":[[0.0,\"#0d0887\"],[0.1111111111111111,\"#46039f\"],[0.2222222222222222,\"#7201a8\"],[0.3333333333333333,\"#9c179e\"],[0.4444444444444444,\"#bd3786\"],[0.5555555555555556,\"#d8576b\"],[0.6666666666666666,\"#ed7953\"],[0.7777777777777778,\"#fb9f3a\"],[0.8888888888888888,\"#fdca26\"],[1.0,\"#f0f921\"]]},\"margin\":{\"t\":60}},                        {\"responsive\": true}                    ).then(function(){\n",
       "                            \n",
       "var gd = document.getElementById('88309956-aeca-49ce-ab8a-801769cfa661');\n",
       "var x = new MutationObserver(function (mutations, observer) {{\n",
       "        var display = window.getComputedStyle(gd).display;\n",
       "        if (!display || display === 'none') {{\n",
       "            console.log([gd, 'removed!']);\n",
       "            Plotly.purge(gd);\n",
       "            observer.disconnect();\n",
       "        }}\n",
       "}});\n",
       "\n",
       "// Listen for the removal of the full notebook cells\n",
       "var notebookContainer = gd.closest('#notebook-container');\n",
       "if (notebookContainer) {{\n",
       "    x.observe(notebookContainer, {childList: true});\n",
       "}}\n",
       "\n",
       "// Listen for the clearing of the current output cell\n",
       "var outputEl = gd.closest('.output');\n",
       "if (outputEl) {{\n",
       "    x.observe(outputEl, {childList: true});\n",
       "}}\n",
       "\n",
       "                        })                };                });            </script>        </div>"
      ]
     },
     "metadata": {},
     "output_type": "display_data"
    }
   ],
   "source": [
    "fig = px.imshow(to_png,\n",
    "                text_auto=True\n",
    "               )\n",
    "fig.update_xaxes(side=\"top\")\n",
    "fig.show()"
   ]
  },
  {
   "cell_type": "markdown",
   "id": "25c28744",
   "metadata": {},
   "source": [
    "<A HREF=\"https://distill.pub/2016/misread-tsne/\">Some info about t-sne</A>"
   ]
  },
  {
   "cell_type": "code",
   "execution_count": 137,
   "id": "8da3cb22",
   "metadata": {},
   "outputs": [
    {
     "data": {
      "application/vnd.plotly.v1+json": {
       "config": {
        "plotlyServerURL": "https://plot.ly"
       },
       "data": [
        {
         "hovertemplate": "<b>%{hovertext}</b><br><br>color=oba<br>0=%{x}<br>1=%{y}<extra></extra>",
         "hovertext": [
          "2008-06-04",
          "2008-11-05",
          "2009-01-05",
          "2009-01-20",
          "2009-04-02",
          "2009-04-15",
          "2009-05-22",
          "2009-06-15",
          "2009-07-15",
          "2009-09-24",
          "2009-10-09",
          "2009-11-05",
          "2009-12-19",
          "2009-12-25",
          "2010-01-12",
          "2010-03-04",
          "2010-03-24",
          "2010-04-15",
          "2010-04-22",
          "2010-05-07",
          "2010-07-15",
          "2010-07-21",
          "2010-07-26",
          "2010-08-31",
          "2010-11-02",
          "2011-01-08",
          "2011-01-26",
          "2011-01-31",
          "2011-02-19",
          "2011-05-02",
          "2011-05-23",
          "2011-06-23",
          "2011-07-26",
          "2011-09-09",
          "2011-10-17",
          "2011-11-17",
          "2011-12-16",
          "2012-01-06",
          "2012-01-25",
          "2012-03-27",
          "2012-03-31",
          "2012-04-29",
          "2012-05-02",
          "2012-05-10",
          "2012-06-29",
          "2012-07-21",
          "2012-09-07",
          "2012-10-29",
          "2012-11-07",
          "2012-12-15",
          "2013-01-16",
          "2013-01-22",
          "2013-01-30",
          "2013-02-13",
          "2013-04-16",
          "2013-04-26",
          "2013-05-04",
          "2013-06-19",
          "2013-07-14",
          "2013-08-29",
          "2013-09-11",
          "2013-10-02",
          "2013-12-06",
          "2014-01-18",
          "2014-01-29",
          "2014-03-07",
          "2014-03-26",
          "2014-04-11",
          "2014-05-21",
          "2014-07-01",
          "2014-08-08",
          "2014-08-12",
          "2014-09-17",
          "2014-10-18",
          "2014-11-05",
          "2014-12-18",
          "2015-01-08",
          "2015-01-21",
          "2015-02-14",
          "2015-03-11",
          "2015-04-03",
          "2015-05-09",
          "2015-06-18",
          "2015-07-07",
          "2015-08-03",
          "2015-09-24",
          "2015-10-02",
          "2015-11-14",
          "2015-12-14",
          "2016-01-13",
          "2016-02-16",
          "2016-03-23",
          "2016-04-25",
          "2016-05-06",
          "2016-06-13",
          "2016-07-28",
          "2016-08-17",
          "2016-09-05",
          "2016-11-09",
          "2017-01-11"
         ],
         "legendgroup": "oba",
         "marker": {
          "color": "rgb(127, 60, 141)",
          "symbol": "circle"
         },
         "mode": "markers",
         "name": "oba",
         "orientation": "v",
         "showlegend": true,
         "type": "scatter",
         "x": [
          -18.30984878540039,
          -23.967750549316406,
          -26.7642879486084,
          -26.302696228027344,
          -12.035965919494629,
          -13.448111534118652,
          -19.995059967041016,
          -22.161563873291016,
          -20.579801559448242,
          -13.424302101135254,
          -17.321706771850586,
          -26.43733787536621,
          -12.880047798156738,
          -21.01688003540039,
          -13.153338432312012,
          -17.011377334594727,
          -18.320552825927734,
          -15.593321800231934,
          -25.894081115722656,
          -12.879070281982422,
          -16.365137100219727,
          -30.969032287597656,
          -11.213281631469727,
          -20.214929580688477,
          -23.472652435302734,
          -23.454509735107422,
          -19.63473129272461,
          -15.429624557495117,
          -26.454870223999023,
          -20.5606746673584,
          -15.003430366516113,
          -18.5518798828125,
          -13.059353828430176,
          -21.05758285522461,
          -15.646846771240234,
          -5.719973564147949,
          -18.66912841796875,
          -16.612010955810547,
          -18.808570861816406,
          -16.510038375854492,
          -23.492916107177734,
          -33.60232925415039,
          -19.2880802154541,
          -27.06584358215332,
          -27.17644691467285,
          -34.43863296508789,
          -23.626218795776367,
          -29.418315887451172,
          -24.370290756225586,
          -25.839649200439453,
          -13.469164848327637,
          -15.1231050491333,
          -25.09712028503418,
          -16.94567108154297,
          -14.521261215209961,
          -22.020788192749023,
          -15.589495658874512,
          -20.95149040222168,
          -27.382965087890625,
          -19.042423248291016,
          -25.360143661499023,
          -20.539684295654297,
          -23.33179473876953,
          12.874008178710938,
          -17.593996047973633,
          9.762020111083984,
          -16.038381576538086,
          -13.720475196838379,
          -30.39019012451172,
          -26.371370315551758,
          -17.303247451782227,
          -4.248395919799805,
          -28.324092864990234,
          -19.543743133544922,
          -23.13032341003418,
          -12.944931983947754,
          -21.05282211303711,
          -18.140954971313477,
          -14.545127868652344,
          -25.96137046813965,
          -4.576398849487305,
          -25.871963500976562,
          -28.774343490600586,
          -16.68826675415039,
          -21.574344635009766,
          -22.857912063598633,
          -29.447839736938477,
          -31.17510986328125,
          -18.256853103637695,
          -18.6234073638916,
          -19.509475708007812,
          30.902498245239258,
          -16.17251205444336,
          -23.721986770629883,
          -32.895111083984375,
          -21.506589889526367,
          -25.591073989868164,
          -17.066558837890625,
          -33.26932907104492,
          -20.590951919555664
         ],
         "xaxis": "x",
         "y": [
          -23.11515235900879,
          -20.68288803100586,
          -1.0423355102539062,
          -15.722574234008789,
          -7.672369480133057,
          -37.58176040649414,
          4.828131675720215,
          12.690231323242188,
          -27.5965633392334,
          -38.572994232177734,
          6.177713871002197,
          -16.70044708251953,
          -8.632706642150879,
          10.745282173156738,
          -6.466231346130371,
          -16.451263427734375,
          -27.672117233276367,
          -44.8105354309082,
          -3.4505615234375,
          -10.17094612121582,
          -15.744217872619629,
          -17.306243896484375,
          0.8853420615196228,
          2.85508131980896,
          -16.25755500793457,
          -38.69124984741211,
          -38.2760009765625,
          -8.429038047790527,
          -31.120689392089844,
          1.7608453035354614,
          -30.466524124145508,
          0.7487183809280396,
          -33.95713424682617,
          -29.276212692260742,
          -19.85733413696289,
          -12.890788078308105,
          -3.6352155208587646,
          2.3829662799835205,
          -36.631465911865234,
          -41.51628112792969,
          -28.95427894592285,
          -23.259395599365234,
          -1.050881028175354,
          -27.051916122436523,
          -22.6795597076416,
          -21.039752960205078,
          -21.970653533935547,
          -19.227970123291016,
          -14.19731616973877,
          -9.637574195861816,
          -32.321563720703125,
          -17.240467071533203,
          -35.58852767944336,
          -38.01493453979492,
          -26.467329025268555,
          -16.23175048828125,
          -42.94963073730469,
          -23.33383560180664,
          -3.0805823802948,
          -21.31696319580078,
          17.035654067993164,
          -30.215892791748047,
          -8.878915786743164,
          23.945199966430664,
          -33.59904861450195,
          17.73926544189453,
          5.221091270446777,
          -34.72908401489258,
          -18.66542625427246,
          -20.186277389526367,
          9.200209617614746,
          -1.9877734184265137,
          -21.420299530029297,
          -42.37898635864258,
          -12.54959487915039,
          -40.62459945678711,
          13.766573905944824,
          -37.81010818481445,
          -40.94221496582031,
          -30.083688735961914,
          0.1826939880847931,
          -33.809505462646484,
          -14.883174896240234,
          7.4687066078186035,
          -40.86131286621094,
          -7.480517864227295,
          -3.2693660259246826,
          -3.4884235858917236,
          -4.604794502258301,
          -34.72843551635742,
          -6.089919567108154,
          20.5599422454834,
          -39.80428695678711,
          -37.296844482421875,
          -16.380817413330078,
          -37.393001556396484,
          -23.576425552368164,
          -1.649429440498352,
          -24.177461624145508,
          -22.2640438079834
         ],
         "yaxis": "y"
        },
        {
         "hovertemplate": "<b>%{hovertext}</b><br><br>color=nyt<br>0=%{x}<br>1=%{y}<extra></extra>",
         "hovertext": [
          "2008-06-04",
          "2008-11-05",
          "2009-01-05",
          "2009-01-20",
          "2009-04-02",
          "2009-04-15",
          "2009-05-22",
          "2009-06-15",
          "2009-07-15",
          "2009-09-24",
          "2009-10-09",
          "2009-11-05",
          "2009-12-19",
          "2009-12-25",
          "2010-01-12",
          "2010-03-04",
          "2010-03-24",
          "2010-04-15",
          "2010-04-22",
          "2010-05-07",
          "2010-07-15",
          "2010-07-21",
          "2010-07-26",
          "2010-08-31",
          "2010-11-02",
          "2011-01-08",
          "2011-01-26",
          "2011-01-31",
          "2011-02-19",
          "2011-05-02",
          "2011-05-23",
          "2011-06-23",
          "2011-07-26",
          "2011-09-09",
          "2011-10-17",
          "2011-11-17",
          "2011-12-16",
          "2012-01-06",
          "2012-01-25",
          "2012-03-27",
          "2012-03-31",
          "2012-04-29",
          "2012-05-02",
          "2012-05-10",
          "2012-06-29",
          "2012-07-21",
          "2012-09-07",
          "2012-10-29",
          "2012-11-07",
          "2012-12-15",
          "2013-01-16",
          "2013-01-22",
          "2013-01-30",
          "2013-02-13",
          "2013-04-16",
          "2013-04-26",
          "2013-05-04",
          "2013-06-19",
          "2013-07-14",
          "2013-08-29",
          "2013-09-11",
          "2013-10-02",
          "2013-12-06",
          "2014-01-18",
          "2014-01-29",
          "2014-03-07",
          "2014-03-26",
          "2014-04-11",
          "2014-05-21",
          "2014-07-01",
          "2014-08-08",
          "2014-08-12",
          "2014-09-17",
          "2014-10-18",
          "2014-11-05",
          "2014-12-18",
          "2015-01-08",
          "2015-01-21",
          "2015-02-14",
          "2015-03-11",
          "2015-04-03",
          "2015-05-09",
          "2015-06-18",
          "2015-07-07",
          "2015-08-03",
          "2015-09-24",
          "2015-10-02",
          "2015-11-14",
          "2015-12-14",
          "2016-01-13",
          "2016-02-16",
          "2016-03-23",
          "2016-04-25",
          "2016-05-06",
          "2016-06-13",
          "2016-07-28",
          "2016-08-17",
          "2016-09-05",
          "2016-11-09",
          "2017-01-11"
         ],
         "legendgroup": "nyt",
         "marker": {
          "color": "rgb(17, 165, 121)",
          "symbol": "circle"
         },
         "mode": "markers",
         "name": "nyt",
         "orientation": "v",
         "showlegend": true,
         "type": "scatter",
         "x": [
          32.732444763183594,
          31.933029174804688,
          27.476999282836914,
          3.5721919536590576,
          6.837167739868164,
          10.85004711151123,
          5.554847717285156,
          19.531173706054688,
          23.021995544433594,
          18.13132095336914,
          35.516300201416016,
          8.516087532043457,
          36.48636245727539,
          -0.0825665220618248,
          9.593945503234863,
          34.324214935302734,
          -9.065014839172363,
          30.968175888061523,
          15.697823524475098,
          4.376396179199219,
          5.065795421600342,
          36.265716552734375,
          36.353004455566406,
          25.138729095458984,
          6.341568946838379,
          -12.241796493530273,
          7.44756555557251,
          2.3366546630859375,
          17.323095321655273,
          -13.788414001464844,
          -27.33172607421875,
          19.46851921081543,
          26.250944137573242,
          30.129302978515625,
          -26.90591049194336,
          26.9737548828125,
          -13.583196640014648,
          31.497329711914062,
          31.229673385620117,
          21.280988693237305,
          9.752129554748535,
          13.646438598632812,
          25.37002944946289,
          34.278995513916016,
          14.044964790344238,
          -26.528898239135742,
          -2.387005090713501,
          -18.70532989501953,
          33.670772552490234,
          -28.131389617919922,
          4.9106645584106445,
          0.8470631837844849,
          22.40041160583496,
          29.498558044433594,
          7.613548278808594,
          -14.719683647155762,
          25.9759578704834,
          21.157716751098633,
          -25.419641494750977,
          -16.629497528076172,
          23.376575469970703,
          4.523104190826416,
          -10.90456771850586,
          13.339227676391602,
          7.201292514801025,
          16.990766525268555,
          19.71953010559082,
          -9.746258735656738,
          21.48927116394043,
          31.540010452270508,
          5.314706325531006,
          -26.107524871826172,
          4.2708330154418945,
          -13.701284408569336,
          18.260942459106445,
          21.447223663330078,
          -13.61215877532959,
          26.623886108398438,
          -7.515612602233887,
          -4.013640403747559,
          20.527973175048828,
          -12.986773490905762,
          -28.317184448242188,
          7.871320724487305,
          33.73339080810547,
          0.1501898169517517,
          -30.5404052734375,
          -23.299236297607422,
          25.96487808227539,
          25.333724975585938,
          -11.966666221618652,
          -16.952390670776367,
          2.566734790802002,
          -10.41848087310791,
          -12.739089012145996,
          33.733238220214844,
          -25.60976791381836,
          -1.146317481994629,
          15.152398109436035,
          0.20610766112804413
         ],
         "xaxis": "x",
         "y": [
          -14.214669227600098,
          -14.732182502746582,
          -8.218301773071289,
          -4.344138145446777,
          4.30933141708374,
          3.7018322944641113,
          25.340728759765625,
          -3.757476568222046,
          15.566703796386719,
          19.915775299072266,
          -14.270951271057129,
          -29.481647491455078,
          3.721693754196167,
          20.515945434570312,
          -26.874906539916992,
          12.727250099182129,
          -35.692848205566406,
          -10.85234546661377,
          -15.664351463317871,
          -28.50853729248047,
          -29.302095413208008,
          6.775373458862305,
          4.670394420623779,
          7.55583381652832,
          22.50946617126465,
          14.940696716308594,
          -13.981490135192871,
          32.726619720458984,
          34.81230545043945,
          15.338208198547363,
          20.24038314819336,
          2.4766926765441895,
          -8.65782642364502,
          -5.688277244567871,
          -13.357008934020996,
          24.55291748046875,
          23.116294860839844,
          18.48320198059082,
          11.50609302520752,
          22.555438995361328,
          6.12802791595459,
          -11.291081428527832,
          23.6487979888916,
          -3.279658555984497,
          9.299314498901367,
          16.3885498046875,
          -4.129985332489014,
          22.286279678344727,
          -3.965773105621338,
          12.351821899414062,
          31.088167190551758,
          -5.357514381408691,
          21.80078125,
          -4.626810073852539,
          -28.632823944091797,
          -2.191248893737793,
          21.263874053955078,
          26.149351119995117,
          19.174327850341797,
          -0.6038903594017029,
          8.132546424865723,
          -3.886385679244995,
          -39.79396438598633,
          26.755279541015625,
          -13.22319221496582,
          31.283374786376953,
          26.800451278686523,
          2.0784709453582764,
          9.31546688079834,
          9.588883399963379,
          22.12290382385254,
          9.275473594665527,
          20.951339721679688,
          -17.085758209228516,
          -2.6217665672302246,
          -5.099438190460205,
          17.587905883789062,
          -6.251033782958984,
          6.603228569030762,
          1.1818768978118896,
          20.04401969909668,
          -1.811764121055603,
          8.074767112731934,
          30.344823837280273,
          -1.3972728252410889,
          9.986834526062012,
          6.235087871551514,
          23.93131446838379,
          1.4900058507919312,
          27.94774627685547,
          11.530089378356934,
          23.731176376342773,
          13.073755264282227,
          -6.618627071380615,
          22.399932861328125,
          -15.000041961669922,
          25.057785034179688,
          12.441237449645996,
          24.282543182373047,
          -4.6023359298706055
         ],
         "yaxis": "y"
        },
        {
         "hovertemplate": "<b>%{hovertext}</b><br><br>color=wsj<br>0=%{x}<br>1=%{y}<extra></extra>",
         "hovertext": [
          "2008-06-04",
          "2008-11-05",
          "2009-01-05",
          "2009-01-20",
          "2009-04-02",
          "2009-04-15",
          "2009-05-22",
          "2009-06-15",
          "2009-07-15",
          "2009-09-24",
          "2009-10-09",
          "2009-11-05",
          "2009-12-19",
          "2009-12-25",
          "2010-01-12",
          "2010-03-04",
          "2010-03-24",
          "2010-04-15",
          "2010-04-22",
          "2010-05-07",
          "2010-07-15",
          "2010-07-21",
          "2010-07-26",
          "2010-08-31",
          "2010-11-02",
          "2011-01-08",
          "2011-01-26",
          "2011-01-31",
          "2011-02-19",
          "2011-05-02",
          "2011-05-23",
          "2011-06-23",
          "2011-07-26",
          "2011-09-09",
          "2011-10-17",
          "2011-11-17",
          "2011-12-16",
          "2012-01-06",
          "2012-01-25",
          "2012-03-27",
          "2012-03-31",
          "2012-04-29",
          "2012-05-02",
          "2012-05-10",
          "2012-06-29",
          "2012-07-21",
          "2012-09-07",
          "2012-10-29",
          "2012-11-07",
          "2012-12-15",
          "2013-01-16",
          "2013-01-22",
          "2013-01-30",
          "2013-02-13",
          "2013-04-16",
          "2013-04-26",
          "2013-05-04",
          "2013-06-19",
          "2013-07-14",
          "2013-08-29",
          "2013-09-11",
          "2013-10-02",
          "2013-12-06",
          "2014-01-18",
          "2014-01-29",
          "2014-03-07",
          "2014-03-26",
          "2014-04-11",
          "2014-05-21",
          "2014-07-01",
          "2014-08-08",
          "2014-08-12",
          "2014-09-17",
          "2014-10-18",
          "2014-11-05",
          "2014-12-18",
          "2015-01-08",
          "2015-01-21",
          "2015-02-14",
          "2015-03-11",
          "2015-04-03",
          "2015-05-09",
          "2015-06-18",
          "2015-07-07",
          "2015-08-03",
          "2015-09-24",
          "2015-10-02",
          "2015-11-14",
          "2015-12-14",
          "2016-01-13",
          "2016-02-16",
          "2016-03-23",
          "2016-04-25",
          "2016-05-06",
          "2016-06-13",
          "2016-07-28",
          "2016-08-17",
          "2016-09-05",
          "2016-11-09",
          "2017-01-11"
         ],
         "legendgroup": "wsj",
         "marker": {
          "color": "rgb(57, 105, 172)",
          "symbol": "circle"
         },
         "mode": "markers",
         "name": "wsj",
         "orientation": "v",
         "showlegend": true,
         "type": "scatter",
         "x": [
          1.241447925567627,
          18.00975799560547,
          26.48875617980957,
          -1.1843560934066772,
          12.273524284362793,
          22.977766036987305,
          18.3205509185791,
          -10.280309677124023,
          17.243574142456055,
          11.360029220581055,
          33.90426254272461,
          -30.694751739501953,
          18.18803596496582,
          -21.70693016052246,
          8.901103019714355,
          2.4666807651519775,
          4.0856852531433105,
          23.489208221435547,
          16.14358139038086,
          15.57018756866455,
          -14.450546264648438,
          18.91722869873047,
          15.417969703674316,
          21.805355072021484,
          10.827733039855957,
          -23.75937843322754,
          27.090383529663086,
          17.626035690307617,
          36.84309005737305,
          -22.142850875854492,
          -26.817476272583008,
          17.81479263305664,
          16.79178810119629,
          30.089475631713867,
          15.097317695617676,
          26.911767959594727,
          24.3294620513916,
          16.05217742919922,
          26.33341407775879,
          -5.875514030456543,
          12.869126319885254,
          -8.094653129577637,
          17.921703338623047,
          35.66988754272461,
          14.967307090759277,
          -27.11957359313965,
          -3.428299903869629,
          -18.609142303466797,
          16.44048309326172,
          -28.315631866455078,
          4.062093257904053,
          31.405853271484375,
          17.174034118652344,
          10.628951072692871,
          -23.828384399414062,
          8.64657974243164,
          27.416996002197266,
          19.64927864074707,
          -15.355106353759766,
          22.64272117614746,
          25.01022720336914,
          4.013416290283203,
          -8.826250076293945,
          11.9024658203125,
          9.719636917114258,
          18.217330932617188,
          21.843278884887695,
          8.706751823425293,
          23.74325942993164,
          20.396272659301758,
          -14.740689277648926,
          -29.29795265197754,
          10.369693756103516,
          -0.028778860345482826,
          2.7258052825927734,
          21.050661087036133,
          -13.754817962646484,
          29.852088928222656,
          13.212078094482422,
          18.067707061767578,
          24.80716323852539,
          3.2501046657562256,
          -31.34278678894043,
          19.873205184936523,
          29.474340438842773,
          -0.06584914773702621,
          -27.62689781188965,
          -16.488101959228516,
          24.819190979003906,
          8.658111572265625,
          16.30277442932129,
          -17.89058494567871,
          13.656954765319824,
          -22.86483383178711,
          -12.636682510375977,
          15.884987831115723,
          -27.46344566345215,
          12.703984260559082,
          17.061124801635742,
          28.555944442749023
         ],
         "xaxis": "x",
         "y": [
          9.89171028137207,
          -7.493819236755371,
          -10.467004776000977,
          -8.309141159057617,
          15.943004608154297,
          -3.8714632987976074,
          7.638039588928223,
          15.773002624511719,
          33.261199951171875,
          19.542041778564453,
          -7.430599212646484,
          16.641300201416016,
          18.5682373046875,
          26.721988677978516,
          -27.53578758239746,
          -7.633123397827148,
          -9.029414176940918,
          -0.01982620358467102,
          -14.035147666931152,
          -19.816425323486328,
          -14.364105224609375,
          -6.485456943511963,
          25.959491729736328,
          -8.276582717895508,
          12.74103832244873,
          1.6980595588684082,
          -5.0309247970581055,
          4.2480316162109375,
          -6.166971206665039,
          24.835004806518555,
          22.325231552124023,
          -18.059627532958984,
          -18.091590881347656,
          -8.787583351135254,
          -9.834633827209473,
          16.560691833496094,
          26.10358428955078,
          4.113311290740967,
          -4.149253845214844,
          6.991857528686523,
          -8.822357177734375,
          4.645012855529785,
          28.281864166259766,
          -6.216724872589111,
          8.62520980834961,
          17.602947235107422,
          -10.530027389526367,
          20.13066864013672,
          -7.825847148895264,
          13.327672958374023,
          31.670246124267578,
          -7.161357402801514,
          16.115406036376953,
          5.036952495574951,
          24.606536865234375,
          13.788466453552246,
          2.2587356567382812,
          18.09825325012207,
          23.584596633911133,
          26.667858123779297,
          25.257553100585938,
          29.379608154296875,
          16.031890869140625,
          27.09554672241211,
          12.79822063446045,
          6.604716777801514,
          1.1958736181259155,
          7.302280902862549,
          -7.462599754333496,
          7.321741104125977,
          26.264469146728516,
          15.51633071899414,
          27.458192825317383,
          -8.507000923156738,
          -9.038735389709473,
          18.76178550720215,
          19.184030532836914,
          12.021905899047852,
          28.762758255004883,
          9.57780647277832,
          -0.18268895149230957,
          13.700155258178711,
          5.1913981437683105,
          22.989063262939453,
          -2.3516314029693604,
          11.014220237731934,
          9.44575309753418,
          26.281909942626953,
          16.847904205322266,
          4.949460029602051,
          25.948596954345703,
          24.210725784301758,
          18.40157127380371,
          17.238529205322266,
          24.377897262573242,
          -11.554927825927734,
          25.536449432373047,
          17.663471221923828,
          -11.450288772583008,
          12.728936195373535
         ],
         "yaxis": "y"
        }
       ],
       "layout": {
        "legend": {
         "title": {
          "text": "color"
         },
         "tracegroupgap": 0
        },
        "margin": {
         "t": 60
        },
        "template": {
         "data": {
          "bar": [
           {
            "error_x": {
             "color": "#2a3f5f"
            },
            "error_y": {
             "color": "#2a3f5f"
            },
            "marker": {
             "line": {
              "color": "#E5ECF6",
              "width": 0.5
             },
             "pattern": {
              "fillmode": "overlay",
              "size": 10,
              "solidity": 0.2
             }
            },
            "type": "bar"
           }
          ],
          "barpolar": [
           {
            "marker": {
             "line": {
              "color": "#E5ECF6",
              "width": 0.5
             },
             "pattern": {
              "fillmode": "overlay",
              "size": 10,
              "solidity": 0.2
             }
            },
            "type": "barpolar"
           }
          ],
          "carpet": [
           {
            "aaxis": {
             "endlinecolor": "#2a3f5f",
             "gridcolor": "white",
             "linecolor": "white",
             "minorgridcolor": "white",
             "startlinecolor": "#2a3f5f"
            },
            "baxis": {
             "endlinecolor": "#2a3f5f",
             "gridcolor": "white",
             "linecolor": "white",
             "minorgridcolor": "white",
             "startlinecolor": "#2a3f5f"
            },
            "type": "carpet"
           }
          ],
          "choropleth": [
           {
            "colorbar": {
             "outlinewidth": 0,
             "ticks": ""
            },
            "type": "choropleth"
           }
          ],
          "contour": [
           {
            "colorbar": {
             "outlinewidth": 0,
             "ticks": ""
            },
            "colorscale": [
             [
              0,
              "#0d0887"
             ],
             [
              0.1111111111111111,
              "#46039f"
             ],
             [
              0.2222222222222222,
              "#7201a8"
             ],
             [
              0.3333333333333333,
              "#9c179e"
             ],
             [
              0.4444444444444444,
              "#bd3786"
             ],
             [
              0.5555555555555556,
              "#d8576b"
             ],
             [
              0.6666666666666666,
              "#ed7953"
             ],
             [
              0.7777777777777778,
              "#fb9f3a"
             ],
             [
              0.8888888888888888,
              "#fdca26"
             ],
             [
              1,
              "#f0f921"
             ]
            ],
            "type": "contour"
           }
          ],
          "contourcarpet": [
           {
            "colorbar": {
             "outlinewidth": 0,
             "ticks": ""
            },
            "type": "contourcarpet"
           }
          ],
          "heatmap": [
           {
            "colorbar": {
             "outlinewidth": 0,
             "ticks": ""
            },
            "colorscale": [
             [
              0,
              "#0d0887"
             ],
             [
              0.1111111111111111,
              "#46039f"
             ],
             [
              0.2222222222222222,
              "#7201a8"
             ],
             [
              0.3333333333333333,
              "#9c179e"
             ],
             [
              0.4444444444444444,
              "#bd3786"
             ],
             [
              0.5555555555555556,
              "#d8576b"
             ],
             [
              0.6666666666666666,
              "#ed7953"
             ],
             [
              0.7777777777777778,
              "#fb9f3a"
             ],
             [
              0.8888888888888888,
              "#fdca26"
             ],
             [
              1,
              "#f0f921"
             ]
            ],
            "type": "heatmap"
           }
          ],
          "heatmapgl": [
           {
            "colorbar": {
             "outlinewidth": 0,
             "ticks": ""
            },
            "colorscale": [
             [
              0,
              "#0d0887"
             ],
             [
              0.1111111111111111,
              "#46039f"
             ],
             [
              0.2222222222222222,
              "#7201a8"
             ],
             [
              0.3333333333333333,
              "#9c179e"
             ],
             [
              0.4444444444444444,
              "#bd3786"
             ],
             [
              0.5555555555555556,
              "#d8576b"
             ],
             [
              0.6666666666666666,
              "#ed7953"
             ],
             [
              0.7777777777777778,
              "#fb9f3a"
             ],
             [
              0.8888888888888888,
              "#fdca26"
             ],
             [
              1,
              "#f0f921"
             ]
            ],
            "type": "heatmapgl"
           }
          ],
          "histogram": [
           {
            "marker": {
             "pattern": {
              "fillmode": "overlay",
              "size": 10,
              "solidity": 0.2
             }
            },
            "type": "histogram"
           }
          ],
          "histogram2d": [
           {
            "colorbar": {
             "outlinewidth": 0,
             "ticks": ""
            },
            "colorscale": [
             [
              0,
              "#0d0887"
             ],
             [
              0.1111111111111111,
              "#46039f"
             ],
             [
              0.2222222222222222,
              "#7201a8"
             ],
             [
              0.3333333333333333,
              "#9c179e"
             ],
             [
              0.4444444444444444,
              "#bd3786"
             ],
             [
              0.5555555555555556,
              "#d8576b"
             ],
             [
              0.6666666666666666,
              "#ed7953"
             ],
             [
              0.7777777777777778,
              "#fb9f3a"
             ],
             [
              0.8888888888888888,
              "#fdca26"
             ],
             [
              1,
              "#f0f921"
             ]
            ],
            "type": "histogram2d"
           }
          ],
          "histogram2dcontour": [
           {
            "colorbar": {
             "outlinewidth": 0,
             "ticks": ""
            },
            "colorscale": [
             [
              0,
              "#0d0887"
             ],
             [
              0.1111111111111111,
              "#46039f"
             ],
             [
              0.2222222222222222,
              "#7201a8"
             ],
             [
              0.3333333333333333,
              "#9c179e"
             ],
             [
              0.4444444444444444,
              "#bd3786"
             ],
             [
              0.5555555555555556,
              "#d8576b"
             ],
             [
              0.6666666666666666,
              "#ed7953"
             ],
             [
              0.7777777777777778,
              "#fb9f3a"
             ],
             [
              0.8888888888888888,
              "#fdca26"
             ],
             [
              1,
              "#f0f921"
             ]
            ],
            "type": "histogram2dcontour"
           }
          ],
          "mesh3d": [
           {
            "colorbar": {
             "outlinewidth": 0,
             "ticks": ""
            },
            "type": "mesh3d"
           }
          ],
          "parcoords": [
           {
            "line": {
             "colorbar": {
              "outlinewidth": 0,
              "ticks": ""
             }
            },
            "type": "parcoords"
           }
          ],
          "pie": [
           {
            "automargin": true,
            "type": "pie"
           }
          ],
          "scatter": [
           {
            "fillpattern": {
             "fillmode": "overlay",
             "size": 10,
             "solidity": 0.2
            },
            "type": "scatter"
           }
          ],
          "scatter3d": [
           {
            "line": {
             "colorbar": {
              "outlinewidth": 0,
              "ticks": ""
             }
            },
            "marker": {
             "colorbar": {
              "outlinewidth": 0,
              "ticks": ""
             }
            },
            "type": "scatter3d"
           }
          ],
          "scattercarpet": [
           {
            "marker": {
             "colorbar": {
              "outlinewidth": 0,
              "ticks": ""
             }
            },
            "type": "scattercarpet"
           }
          ],
          "scattergeo": [
           {
            "marker": {
             "colorbar": {
              "outlinewidth": 0,
              "ticks": ""
             }
            },
            "type": "scattergeo"
           }
          ],
          "scattergl": [
           {
            "marker": {
             "colorbar": {
              "outlinewidth": 0,
              "ticks": ""
             }
            },
            "type": "scattergl"
           }
          ],
          "scattermapbox": [
           {
            "marker": {
             "colorbar": {
              "outlinewidth": 0,
              "ticks": ""
             }
            },
            "type": "scattermapbox"
           }
          ],
          "scatterpolar": [
           {
            "marker": {
             "colorbar": {
              "outlinewidth": 0,
              "ticks": ""
             }
            },
            "type": "scatterpolar"
           }
          ],
          "scatterpolargl": [
           {
            "marker": {
             "colorbar": {
              "outlinewidth": 0,
              "ticks": ""
             }
            },
            "type": "scatterpolargl"
           }
          ],
          "scatterternary": [
           {
            "marker": {
             "colorbar": {
              "outlinewidth": 0,
              "ticks": ""
             }
            },
            "type": "scatterternary"
           }
          ],
          "surface": [
           {
            "colorbar": {
             "outlinewidth": 0,
             "ticks": ""
            },
            "colorscale": [
             [
              0,
              "#0d0887"
             ],
             [
              0.1111111111111111,
              "#46039f"
             ],
             [
              0.2222222222222222,
              "#7201a8"
             ],
             [
              0.3333333333333333,
              "#9c179e"
             ],
             [
              0.4444444444444444,
              "#bd3786"
             ],
             [
              0.5555555555555556,
              "#d8576b"
             ],
             [
              0.6666666666666666,
              "#ed7953"
             ],
             [
              0.7777777777777778,
              "#fb9f3a"
             ],
             [
              0.8888888888888888,
              "#fdca26"
             ],
             [
              1,
              "#f0f921"
             ]
            ],
            "type": "surface"
           }
          ],
          "table": [
           {
            "cells": {
             "fill": {
              "color": "#EBF0F8"
             },
             "line": {
              "color": "white"
             }
            },
            "header": {
             "fill": {
              "color": "#C8D4E3"
             },
             "line": {
              "color": "white"
             }
            },
            "type": "table"
           }
          ]
         },
         "layout": {
          "annotationdefaults": {
           "arrowcolor": "#2a3f5f",
           "arrowhead": 0,
           "arrowwidth": 1
          },
          "autotypenumbers": "strict",
          "coloraxis": {
           "colorbar": {
            "outlinewidth": 0,
            "ticks": ""
           }
          },
          "colorscale": {
           "diverging": [
            [
             0,
             "#8e0152"
            ],
            [
             0.1,
             "#c51b7d"
            ],
            [
             0.2,
             "#de77ae"
            ],
            [
             0.3,
             "#f1b6da"
            ],
            [
             0.4,
             "#fde0ef"
            ],
            [
             0.5,
             "#f7f7f7"
            ],
            [
             0.6,
             "#e6f5d0"
            ],
            [
             0.7,
             "#b8e186"
            ],
            [
             0.8,
             "#7fbc41"
            ],
            [
             0.9,
             "#4d9221"
            ],
            [
             1,
             "#276419"
            ]
           ],
           "sequential": [
            [
             0,
             "#0d0887"
            ],
            [
             0.1111111111111111,
             "#46039f"
            ],
            [
             0.2222222222222222,
             "#7201a8"
            ],
            [
             0.3333333333333333,
             "#9c179e"
            ],
            [
             0.4444444444444444,
             "#bd3786"
            ],
            [
             0.5555555555555556,
             "#d8576b"
            ],
            [
             0.6666666666666666,
             "#ed7953"
            ],
            [
             0.7777777777777778,
             "#fb9f3a"
            ],
            [
             0.8888888888888888,
             "#fdca26"
            ],
            [
             1,
             "#f0f921"
            ]
           ],
           "sequentialminus": [
            [
             0,
             "#0d0887"
            ],
            [
             0.1111111111111111,
             "#46039f"
            ],
            [
             0.2222222222222222,
             "#7201a8"
            ],
            [
             0.3333333333333333,
             "#9c179e"
            ],
            [
             0.4444444444444444,
             "#bd3786"
            ],
            [
             0.5555555555555556,
             "#d8576b"
            ],
            [
             0.6666666666666666,
             "#ed7953"
            ],
            [
             0.7777777777777778,
             "#fb9f3a"
            ],
            [
             0.8888888888888888,
             "#fdca26"
            ],
            [
             1,
             "#f0f921"
            ]
           ]
          },
          "colorway": [
           "#636efa",
           "#EF553B",
           "#00cc96",
           "#ab63fa",
           "#FFA15A",
           "#19d3f3",
           "#FF6692",
           "#B6E880",
           "#FF97FF",
           "#FECB52"
          ],
          "font": {
           "color": "#2a3f5f"
          },
          "geo": {
           "bgcolor": "white",
           "lakecolor": "white",
           "landcolor": "#E5ECF6",
           "showlakes": true,
           "showland": true,
           "subunitcolor": "white"
          },
          "hoverlabel": {
           "align": "left"
          },
          "hovermode": "closest",
          "mapbox": {
           "style": "light"
          },
          "paper_bgcolor": "white",
          "plot_bgcolor": "#E5ECF6",
          "polar": {
           "angularaxis": {
            "gridcolor": "white",
            "linecolor": "white",
            "ticks": ""
           },
           "bgcolor": "#E5ECF6",
           "radialaxis": {
            "gridcolor": "white",
            "linecolor": "white",
            "ticks": ""
           }
          },
          "scene": {
           "xaxis": {
            "backgroundcolor": "#E5ECF6",
            "gridcolor": "white",
            "gridwidth": 2,
            "linecolor": "white",
            "showbackground": true,
            "ticks": "",
            "zerolinecolor": "white"
           },
           "yaxis": {
            "backgroundcolor": "#E5ECF6",
            "gridcolor": "white",
            "gridwidth": 2,
            "linecolor": "white",
            "showbackground": true,
            "ticks": "",
            "zerolinecolor": "white"
           },
           "zaxis": {
            "backgroundcolor": "#E5ECF6",
            "gridcolor": "white",
            "gridwidth": 2,
            "linecolor": "white",
            "showbackground": true,
            "ticks": "",
            "zerolinecolor": "white"
           }
          },
          "shapedefaults": {
           "line": {
            "color": "#2a3f5f"
           }
          },
          "ternary": {
           "aaxis": {
            "gridcolor": "white",
            "linecolor": "white",
            "ticks": ""
           },
           "baxis": {
            "gridcolor": "white",
            "linecolor": "white",
            "ticks": ""
           },
           "bgcolor": "#E5ECF6",
           "caxis": {
            "gridcolor": "white",
            "linecolor": "white",
            "ticks": ""
           }
          },
          "title": {
           "x": 0.05
          },
          "xaxis": {
           "automargin": true,
           "gridcolor": "white",
           "linecolor": "white",
           "ticks": "",
           "title": {
            "standoff": 15
           },
           "zerolinecolor": "white",
           "zerolinewidth": 2
          },
          "yaxis": {
           "automargin": true,
           "gridcolor": "white",
           "linecolor": "white",
           "ticks": "",
           "title": {
            "standoff": 15
           },
           "zerolinecolor": "white",
           "zerolinewidth": 2
          }
         }
        },
        "xaxis": {
         "anchor": "y",
         "domain": [
          0,
          1
         ],
         "title": {
          "text": "0"
         }
        },
        "yaxis": {
         "anchor": "x",
         "domain": [
          0,
          1
         ],
         "title": {
          "text": "1"
         }
        }
       }
      },
      "text/html": [
       "<div>                            <div id=\"a70381c2-3664-450c-b069-eb3a6a7cdb68\" class=\"plotly-graph-div\" style=\"height:525px; width:100%;\"></div>            <script type=\"text/javascript\">                require([\"plotly\"], function(Plotly) {                    window.PLOTLYENV=window.PLOTLYENV || {};                                    if (document.getElementById(\"a70381c2-3664-450c-b069-eb3a6a7cdb68\")) {                    Plotly.newPlot(                        \"a70381c2-3664-450c-b069-eb3a6a7cdb68\",                        [{\"hovertemplate\":\"<b>%{hovertext}</b><br><br>color=oba<br>0=%{x}<br>1=%{y}<extra></extra>\",\"hovertext\":[\"2008-06-04\",\"2008-11-05\",\"2009-01-05\",\"2009-01-20\",\"2009-04-02\",\"2009-04-15\",\"2009-05-22\",\"2009-06-15\",\"2009-07-15\",\"2009-09-24\",\"2009-10-09\",\"2009-11-05\",\"2009-12-19\",\"2009-12-25\",\"2010-01-12\",\"2010-03-04\",\"2010-03-24\",\"2010-04-15\",\"2010-04-22\",\"2010-05-07\",\"2010-07-15\",\"2010-07-21\",\"2010-07-26\",\"2010-08-31\",\"2010-11-02\",\"2011-01-08\",\"2011-01-26\",\"2011-01-31\",\"2011-02-19\",\"2011-05-02\",\"2011-05-23\",\"2011-06-23\",\"2011-07-26\",\"2011-09-09\",\"2011-10-17\",\"2011-11-17\",\"2011-12-16\",\"2012-01-06\",\"2012-01-25\",\"2012-03-27\",\"2012-03-31\",\"2012-04-29\",\"2012-05-02\",\"2012-05-10\",\"2012-06-29\",\"2012-07-21\",\"2012-09-07\",\"2012-10-29\",\"2012-11-07\",\"2012-12-15\",\"2013-01-16\",\"2013-01-22\",\"2013-01-30\",\"2013-02-13\",\"2013-04-16\",\"2013-04-26\",\"2013-05-04\",\"2013-06-19\",\"2013-07-14\",\"2013-08-29\",\"2013-09-11\",\"2013-10-02\",\"2013-12-06\",\"2014-01-18\",\"2014-01-29\",\"2014-03-07\",\"2014-03-26\",\"2014-04-11\",\"2014-05-21\",\"2014-07-01\",\"2014-08-08\",\"2014-08-12\",\"2014-09-17\",\"2014-10-18\",\"2014-11-05\",\"2014-12-18\",\"2015-01-08\",\"2015-01-21\",\"2015-02-14\",\"2015-03-11\",\"2015-04-03\",\"2015-05-09\",\"2015-06-18\",\"2015-07-07\",\"2015-08-03\",\"2015-09-24\",\"2015-10-02\",\"2015-11-14\",\"2015-12-14\",\"2016-01-13\",\"2016-02-16\",\"2016-03-23\",\"2016-04-25\",\"2016-05-06\",\"2016-06-13\",\"2016-07-28\",\"2016-08-17\",\"2016-09-05\",\"2016-11-09\",\"2017-01-11\"],\"legendgroup\":\"oba\",\"marker\":{\"color\":\"rgb(127, 60, 141)\",\"symbol\":\"circle\"},\"mode\":\"markers\",\"name\":\"oba\",\"orientation\":\"v\",\"showlegend\":true,\"x\":[-18.30984878540039,-23.967750549316406,-26.7642879486084,-26.302696228027344,-12.035965919494629,-13.448111534118652,-19.995059967041016,-22.161563873291016,-20.579801559448242,-13.424302101135254,-17.321706771850586,-26.43733787536621,-12.880047798156738,-21.01688003540039,-13.153338432312012,-17.011377334594727,-18.320552825927734,-15.593321800231934,-25.894081115722656,-12.879070281982422,-16.365137100219727,-30.969032287597656,-11.213281631469727,-20.214929580688477,-23.472652435302734,-23.454509735107422,-19.63473129272461,-15.429624557495117,-26.454870223999023,-20.5606746673584,-15.003430366516113,-18.5518798828125,-13.059353828430176,-21.05758285522461,-15.646846771240234,-5.719973564147949,-18.66912841796875,-16.612010955810547,-18.808570861816406,-16.510038375854492,-23.492916107177734,-33.60232925415039,-19.2880802154541,-27.06584358215332,-27.17644691467285,-34.43863296508789,-23.626218795776367,-29.418315887451172,-24.370290756225586,-25.839649200439453,-13.469164848327637,-15.1231050491333,-25.09712028503418,-16.94567108154297,-14.521261215209961,-22.020788192749023,-15.589495658874512,-20.95149040222168,-27.382965087890625,-19.042423248291016,-25.360143661499023,-20.539684295654297,-23.33179473876953,12.874008178710938,-17.593996047973633,9.762020111083984,-16.038381576538086,-13.720475196838379,-30.39019012451172,-26.371370315551758,-17.303247451782227,-4.248395919799805,-28.324092864990234,-19.543743133544922,-23.13032341003418,-12.944931983947754,-21.05282211303711,-18.140954971313477,-14.545127868652344,-25.96137046813965,-4.576398849487305,-25.871963500976562,-28.774343490600586,-16.68826675415039,-21.574344635009766,-22.857912063598633,-29.447839736938477,-31.17510986328125,-18.256853103637695,-18.6234073638916,-19.509475708007812,30.902498245239258,-16.17251205444336,-23.721986770629883,-32.895111083984375,-21.506589889526367,-25.591073989868164,-17.066558837890625,-33.26932907104492,-20.590951919555664],\"xaxis\":\"x\",\"y\":[-23.11515235900879,-20.68288803100586,-1.0423355102539062,-15.722574234008789,-7.672369480133057,-37.58176040649414,4.828131675720215,12.690231323242188,-27.5965633392334,-38.572994232177734,6.177713871002197,-16.70044708251953,-8.632706642150879,10.745282173156738,-6.466231346130371,-16.451263427734375,-27.672117233276367,-44.8105354309082,-3.4505615234375,-10.17094612121582,-15.744217872619629,-17.306243896484375,0.8853420615196228,2.85508131980896,-16.25755500793457,-38.69124984741211,-38.2760009765625,-8.429038047790527,-31.120689392089844,1.7608453035354614,-30.466524124145508,0.7487183809280396,-33.95713424682617,-29.276212692260742,-19.85733413696289,-12.890788078308105,-3.6352155208587646,2.3829662799835205,-36.631465911865234,-41.51628112792969,-28.95427894592285,-23.259395599365234,-1.050881028175354,-27.051916122436523,-22.6795597076416,-21.039752960205078,-21.970653533935547,-19.227970123291016,-14.19731616973877,-9.637574195861816,-32.321563720703125,-17.240467071533203,-35.58852767944336,-38.01493453979492,-26.467329025268555,-16.23175048828125,-42.94963073730469,-23.33383560180664,-3.0805823802948,-21.31696319580078,17.035654067993164,-30.215892791748047,-8.878915786743164,23.945199966430664,-33.59904861450195,17.73926544189453,5.221091270446777,-34.72908401489258,-18.66542625427246,-20.186277389526367,9.200209617614746,-1.9877734184265137,-21.420299530029297,-42.37898635864258,-12.54959487915039,-40.62459945678711,13.766573905944824,-37.81010818481445,-40.94221496582031,-30.083688735961914,0.1826939880847931,-33.809505462646484,-14.883174896240234,7.4687066078186035,-40.86131286621094,-7.480517864227295,-3.2693660259246826,-3.4884235858917236,-4.604794502258301,-34.72843551635742,-6.089919567108154,20.5599422454834,-39.80428695678711,-37.296844482421875,-16.380817413330078,-37.393001556396484,-23.576425552368164,-1.649429440498352,-24.177461624145508,-22.2640438079834],\"yaxis\":\"y\",\"type\":\"scatter\"},{\"hovertemplate\":\"<b>%{hovertext}</b><br><br>color=nyt<br>0=%{x}<br>1=%{y}<extra></extra>\",\"hovertext\":[\"2008-06-04\",\"2008-11-05\",\"2009-01-05\",\"2009-01-20\",\"2009-04-02\",\"2009-04-15\",\"2009-05-22\",\"2009-06-15\",\"2009-07-15\",\"2009-09-24\",\"2009-10-09\",\"2009-11-05\",\"2009-12-19\",\"2009-12-25\",\"2010-01-12\",\"2010-03-04\",\"2010-03-24\",\"2010-04-15\",\"2010-04-22\",\"2010-05-07\",\"2010-07-15\",\"2010-07-21\",\"2010-07-26\",\"2010-08-31\",\"2010-11-02\",\"2011-01-08\",\"2011-01-26\",\"2011-01-31\",\"2011-02-19\",\"2011-05-02\",\"2011-05-23\",\"2011-06-23\",\"2011-07-26\",\"2011-09-09\",\"2011-10-17\",\"2011-11-17\",\"2011-12-16\",\"2012-01-06\",\"2012-01-25\",\"2012-03-27\",\"2012-03-31\",\"2012-04-29\",\"2012-05-02\",\"2012-05-10\",\"2012-06-29\",\"2012-07-21\",\"2012-09-07\",\"2012-10-29\",\"2012-11-07\",\"2012-12-15\",\"2013-01-16\",\"2013-01-22\",\"2013-01-30\",\"2013-02-13\",\"2013-04-16\",\"2013-04-26\",\"2013-05-04\",\"2013-06-19\",\"2013-07-14\",\"2013-08-29\",\"2013-09-11\",\"2013-10-02\",\"2013-12-06\",\"2014-01-18\",\"2014-01-29\",\"2014-03-07\",\"2014-03-26\",\"2014-04-11\",\"2014-05-21\",\"2014-07-01\",\"2014-08-08\",\"2014-08-12\",\"2014-09-17\",\"2014-10-18\",\"2014-11-05\",\"2014-12-18\",\"2015-01-08\",\"2015-01-21\",\"2015-02-14\",\"2015-03-11\",\"2015-04-03\",\"2015-05-09\",\"2015-06-18\",\"2015-07-07\",\"2015-08-03\",\"2015-09-24\",\"2015-10-02\",\"2015-11-14\",\"2015-12-14\",\"2016-01-13\",\"2016-02-16\",\"2016-03-23\",\"2016-04-25\",\"2016-05-06\",\"2016-06-13\",\"2016-07-28\",\"2016-08-17\",\"2016-09-05\",\"2016-11-09\",\"2017-01-11\"],\"legendgroup\":\"nyt\",\"marker\":{\"color\":\"rgb(17, 165, 121)\",\"symbol\":\"circle\"},\"mode\":\"markers\",\"name\":\"nyt\",\"orientation\":\"v\",\"showlegend\":true,\"x\":[32.732444763183594,31.933029174804688,27.476999282836914,3.5721919536590576,6.837167739868164,10.85004711151123,5.554847717285156,19.531173706054688,23.021995544433594,18.13132095336914,35.516300201416016,8.516087532043457,36.48636245727539,-0.0825665220618248,9.593945503234863,34.324214935302734,-9.065014839172363,30.968175888061523,15.697823524475098,4.376396179199219,5.065795421600342,36.265716552734375,36.353004455566406,25.138729095458984,6.341568946838379,-12.241796493530273,7.44756555557251,2.3366546630859375,17.323095321655273,-13.788414001464844,-27.33172607421875,19.46851921081543,26.250944137573242,30.129302978515625,-26.90591049194336,26.9737548828125,-13.583196640014648,31.497329711914062,31.229673385620117,21.280988693237305,9.752129554748535,13.646438598632812,25.37002944946289,34.278995513916016,14.044964790344238,-26.528898239135742,-2.387005090713501,-18.70532989501953,33.670772552490234,-28.131389617919922,4.9106645584106445,0.8470631837844849,22.40041160583496,29.498558044433594,7.613548278808594,-14.719683647155762,25.9759578704834,21.157716751098633,-25.419641494750977,-16.629497528076172,23.376575469970703,4.523104190826416,-10.90456771850586,13.339227676391602,7.201292514801025,16.990766525268555,19.71953010559082,-9.746258735656738,21.48927116394043,31.540010452270508,5.314706325531006,-26.107524871826172,4.2708330154418945,-13.701284408569336,18.260942459106445,21.447223663330078,-13.61215877532959,26.623886108398438,-7.515612602233887,-4.013640403747559,20.527973175048828,-12.986773490905762,-28.317184448242188,7.871320724487305,33.73339080810547,0.1501898169517517,-30.5404052734375,-23.299236297607422,25.96487808227539,25.333724975585938,-11.966666221618652,-16.952390670776367,2.566734790802002,-10.41848087310791,-12.739089012145996,33.733238220214844,-25.60976791381836,-1.146317481994629,15.152398109436035,0.20610766112804413],\"xaxis\":\"x\",\"y\":[-14.214669227600098,-14.732182502746582,-8.218301773071289,-4.344138145446777,4.30933141708374,3.7018322944641113,25.340728759765625,-3.757476568222046,15.566703796386719,19.915775299072266,-14.270951271057129,-29.481647491455078,3.721693754196167,20.515945434570312,-26.874906539916992,12.727250099182129,-35.692848205566406,-10.85234546661377,-15.664351463317871,-28.50853729248047,-29.302095413208008,6.775373458862305,4.670394420623779,7.55583381652832,22.50946617126465,14.940696716308594,-13.981490135192871,32.726619720458984,34.81230545043945,15.338208198547363,20.24038314819336,2.4766926765441895,-8.65782642364502,-5.688277244567871,-13.357008934020996,24.55291748046875,23.116294860839844,18.48320198059082,11.50609302520752,22.555438995361328,6.12802791595459,-11.291081428527832,23.6487979888916,-3.279658555984497,9.299314498901367,16.3885498046875,-4.129985332489014,22.286279678344727,-3.965773105621338,12.351821899414062,31.088167190551758,-5.357514381408691,21.80078125,-4.626810073852539,-28.632823944091797,-2.191248893737793,21.263874053955078,26.149351119995117,19.174327850341797,-0.6038903594017029,8.132546424865723,-3.886385679244995,-39.79396438598633,26.755279541015625,-13.22319221496582,31.283374786376953,26.800451278686523,2.0784709453582764,9.31546688079834,9.588883399963379,22.12290382385254,9.275473594665527,20.951339721679688,-17.085758209228516,-2.6217665672302246,-5.099438190460205,17.587905883789062,-6.251033782958984,6.603228569030762,1.1818768978118896,20.04401969909668,-1.811764121055603,8.074767112731934,30.344823837280273,-1.3972728252410889,9.986834526062012,6.235087871551514,23.93131446838379,1.4900058507919312,27.94774627685547,11.530089378356934,23.731176376342773,13.073755264282227,-6.618627071380615,22.399932861328125,-15.000041961669922,25.057785034179688,12.441237449645996,24.282543182373047,-4.6023359298706055],\"yaxis\":\"y\",\"type\":\"scatter\"},{\"hovertemplate\":\"<b>%{hovertext}</b><br><br>color=wsj<br>0=%{x}<br>1=%{y}<extra></extra>\",\"hovertext\":[\"2008-06-04\",\"2008-11-05\",\"2009-01-05\",\"2009-01-20\",\"2009-04-02\",\"2009-04-15\",\"2009-05-22\",\"2009-06-15\",\"2009-07-15\",\"2009-09-24\",\"2009-10-09\",\"2009-11-05\",\"2009-12-19\",\"2009-12-25\",\"2010-01-12\",\"2010-03-04\",\"2010-03-24\",\"2010-04-15\",\"2010-04-22\",\"2010-05-07\",\"2010-07-15\",\"2010-07-21\",\"2010-07-26\",\"2010-08-31\",\"2010-11-02\",\"2011-01-08\",\"2011-01-26\",\"2011-01-31\",\"2011-02-19\",\"2011-05-02\",\"2011-05-23\",\"2011-06-23\",\"2011-07-26\",\"2011-09-09\",\"2011-10-17\",\"2011-11-17\",\"2011-12-16\",\"2012-01-06\",\"2012-01-25\",\"2012-03-27\",\"2012-03-31\",\"2012-04-29\",\"2012-05-02\",\"2012-05-10\",\"2012-06-29\",\"2012-07-21\",\"2012-09-07\",\"2012-10-29\",\"2012-11-07\",\"2012-12-15\",\"2013-01-16\",\"2013-01-22\",\"2013-01-30\",\"2013-02-13\",\"2013-04-16\",\"2013-04-26\",\"2013-05-04\",\"2013-06-19\",\"2013-07-14\",\"2013-08-29\",\"2013-09-11\",\"2013-10-02\",\"2013-12-06\",\"2014-01-18\",\"2014-01-29\",\"2014-03-07\",\"2014-03-26\",\"2014-04-11\",\"2014-05-21\",\"2014-07-01\",\"2014-08-08\",\"2014-08-12\",\"2014-09-17\",\"2014-10-18\",\"2014-11-05\",\"2014-12-18\",\"2015-01-08\",\"2015-01-21\",\"2015-02-14\",\"2015-03-11\",\"2015-04-03\",\"2015-05-09\",\"2015-06-18\",\"2015-07-07\",\"2015-08-03\",\"2015-09-24\",\"2015-10-02\",\"2015-11-14\",\"2015-12-14\",\"2016-01-13\",\"2016-02-16\",\"2016-03-23\",\"2016-04-25\",\"2016-05-06\",\"2016-06-13\",\"2016-07-28\",\"2016-08-17\",\"2016-09-05\",\"2016-11-09\",\"2017-01-11\"],\"legendgroup\":\"wsj\",\"marker\":{\"color\":\"rgb(57, 105, 172)\",\"symbol\":\"circle\"},\"mode\":\"markers\",\"name\":\"wsj\",\"orientation\":\"v\",\"showlegend\":true,\"x\":[1.241447925567627,18.00975799560547,26.48875617980957,-1.1843560934066772,12.273524284362793,22.977766036987305,18.3205509185791,-10.280309677124023,17.243574142456055,11.360029220581055,33.90426254272461,-30.694751739501953,18.18803596496582,-21.70693016052246,8.901103019714355,2.4666807651519775,4.0856852531433105,23.489208221435547,16.14358139038086,15.57018756866455,-14.450546264648438,18.91722869873047,15.417969703674316,21.805355072021484,10.827733039855957,-23.75937843322754,27.090383529663086,17.626035690307617,36.84309005737305,-22.142850875854492,-26.817476272583008,17.81479263305664,16.79178810119629,30.089475631713867,15.097317695617676,26.911767959594727,24.3294620513916,16.05217742919922,26.33341407775879,-5.875514030456543,12.869126319885254,-8.094653129577637,17.921703338623047,35.66988754272461,14.967307090759277,-27.11957359313965,-3.428299903869629,-18.609142303466797,16.44048309326172,-28.315631866455078,4.062093257904053,31.405853271484375,17.174034118652344,10.628951072692871,-23.828384399414062,8.64657974243164,27.416996002197266,19.64927864074707,-15.355106353759766,22.64272117614746,25.01022720336914,4.013416290283203,-8.826250076293945,11.9024658203125,9.719636917114258,18.217330932617188,21.843278884887695,8.706751823425293,23.74325942993164,20.396272659301758,-14.740689277648926,-29.29795265197754,10.369693756103516,-0.028778860345482826,2.7258052825927734,21.050661087036133,-13.754817962646484,29.852088928222656,13.212078094482422,18.067707061767578,24.80716323852539,3.2501046657562256,-31.34278678894043,19.873205184936523,29.474340438842773,-0.06584914773702621,-27.62689781188965,-16.488101959228516,24.819190979003906,8.658111572265625,16.30277442932129,-17.89058494567871,13.656954765319824,-22.86483383178711,-12.636682510375977,15.884987831115723,-27.46344566345215,12.703984260559082,17.061124801635742,28.555944442749023],\"xaxis\":\"x\",\"y\":[9.89171028137207,-7.493819236755371,-10.467004776000977,-8.309141159057617,15.943004608154297,-3.8714632987976074,7.638039588928223,15.773002624511719,33.261199951171875,19.542041778564453,-7.430599212646484,16.641300201416016,18.5682373046875,26.721988677978516,-27.53578758239746,-7.633123397827148,-9.029414176940918,-0.01982620358467102,-14.035147666931152,-19.816425323486328,-14.364105224609375,-6.485456943511963,25.959491729736328,-8.276582717895508,12.74103832244873,1.6980595588684082,-5.0309247970581055,4.2480316162109375,-6.166971206665039,24.835004806518555,22.325231552124023,-18.059627532958984,-18.091590881347656,-8.787583351135254,-9.834633827209473,16.560691833496094,26.10358428955078,4.113311290740967,-4.149253845214844,6.991857528686523,-8.822357177734375,4.645012855529785,28.281864166259766,-6.216724872589111,8.62520980834961,17.602947235107422,-10.530027389526367,20.13066864013672,-7.825847148895264,13.327672958374023,31.670246124267578,-7.161357402801514,16.115406036376953,5.036952495574951,24.606536865234375,13.788466453552246,2.2587356567382812,18.09825325012207,23.584596633911133,26.667858123779297,25.257553100585938,29.379608154296875,16.031890869140625,27.09554672241211,12.79822063446045,6.604716777801514,1.1958736181259155,7.302280902862549,-7.462599754333496,7.321741104125977,26.264469146728516,15.51633071899414,27.458192825317383,-8.507000923156738,-9.038735389709473,18.76178550720215,19.184030532836914,12.021905899047852,28.762758255004883,9.57780647277832,-0.18268895149230957,13.700155258178711,5.1913981437683105,22.989063262939453,-2.3516314029693604,11.014220237731934,9.44575309753418,26.281909942626953,16.847904205322266,4.949460029602051,25.948596954345703,24.210725784301758,18.40157127380371,17.238529205322266,24.377897262573242,-11.554927825927734,25.536449432373047,17.663471221923828,-11.450288772583008,12.728936195373535],\"yaxis\":\"y\",\"type\":\"scatter\"}],                        {\"template\":{\"data\":{\"histogram2dcontour\":[{\"type\":\"histogram2dcontour\",\"colorbar\":{\"outlinewidth\":0,\"ticks\":\"\"},\"colorscale\":[[0.0,\"#0d0887\"],[0.1111111111111111,\"#46039f\"],[0.2222222222222222,\"#7201a8\"],[0.3333333333333333,\"#9c179e\"],[0.4444444444444444,\"#bd3786\"],[0.5555555555555556,\"#d8576b\"],[0.6666666666666666,\"#ed7953\"],[0.7777777777777778,\"#fb9f3a\"],[0.8888888888888888,\"#fdca26\"],[1.0,\"#f0f921\"]]}],\"choropleth\":[{\"type\":\"choropleth\",\"colorbar\":{\"outlinewidth\":0,\"ticks\":\"\"}}],\"histogram2d\":[{\"type\":\"histogram2d\",\"colorbar\":{\"outlinewidth\":0,\"ticks\":\"\"},\"colorscale\":[[0.0,\"#0d0887\"],[0.1111111111111111,\"#46039f\"],[0.2222222222222222,\"#7201a8\"],[0.3333333333333333,\"#9c179e\"],[0.4444444444444444,\"#bd3786\"],[0.5555555555555556,\"#d8576b\"],[0.6666666666666666,\"#ed7953\"],[0.7777777777777778,\"#fb9f3a\"],[0.8888888888888888,\"#fdca26\"],[1.0,\"#f0f921\"]]}],\"heatmap\":[{\"type\":\"heatmap\",\"colorbar\":{\"outlinewidth\":0,\"ticks\":\"\"},\"colorscale\":[[0.0,\"#0d0887\"],[0.1111111111111111,\"#46039f\"],[0.2222222222222222,\"#7201a8\"],[0.3333333333333333,\"#9c179e\"],[0.4444444444444444,\"#bd3786\"],[0.5555555555555556,\"#d8576b\"],[0.6666666666666666,\"#ed7953\"],[0.7777777777777778,\"#fb9f3a\"],[0.8888888888888888,\"#fdca26\"],[1.0,\"#f0f921\"]]}],\"heatmapgl\":[{\"type\":\"heatmapgl\",\"colorbar\":{\"outlinewidth\":0,\"ticks\":\"\"},\"colorscale\":[[0.0,\"#0d0887\"],[0.1111111111111111,\"#46039f\"],[0.2222222222222222,\"#7201a8\"],[0.3333333333333333,\"#9c179e\"],[0.4444444444444444,\"#bd3786\"],[0.5555555555555556,\"#d8576b\"],[0.6666666666666666,\"#ed7953\"],[0.7777777777777778,\"#fb9f3a\"],[0.8888888888888888,\"#fdca26\"],[1.0,\"#f0f921\"]]}],\"contourcarpet\":[{\"type\":\"contourcarpet\",\"colorbar\":{\"outlinewidth\":0,\"ticks\":\"\"}}],\"contour\":[{\"type\":\"contour\",\"colorbar\":{\"outlinewidth\":0,\"ticks\":\"\"},\"colorscale\":[[0.0,\"#0d0887\"],[0.1111111111111111,\"#46039f\"],[0.2222222222222222,\"#7201a8\"],[0.3333333333333333,\"#9c179e\"],[0.4444444444444444,\"#bd3786\"],[0.5555555555555556,\"#d8576b\"],[0.6666666666666666,\"#ed7953\"],[0.7777777777777778,\"#fb9f3a\"],[0.8888888888888888,\"#fdca26\"],[1.0,\"#f0f921\"]]}],\"surface\":[{\"type\":\"surface\",\"colorbar\":{\"outlinewidth\":0,\"ticks\":\"\"},\"colorscale\":[[0.0,\"#0d0887\"],[0.1111111111111111,\"#46039f\"],[0.2222222222222222,\"#7201a8\"],[0.3333333333333333,\"#9c179e\"],[0.4444444444444444,\"#bd3786\"],[0.5555555555555556,\"#d8576b\"],[0.6666666666666666,\"#ed7953\"],[0.7777777777777778,\"#fb9f3a\"],[0.8888888888888888,\"#fdca26\"],[1.0,\"#f0f921\"]]}],\"mesh3d\":[{\"type\":\"mesh3d\",\"colorbar\":{\"outlinewidth\":0,\"ticks\":\"\"}}],\"scatter\":[{\"fillpattern\":{\"fillmode\":\"overlay\",\"size\":10,\"solidity\":0.2},\"type\":\"scatter\"}],\"parcoords\":[{\"type\":\"parcoords\",\"line\":{\"colorbar\":{\"outlinewidth\":0,\"ticks\":\"\"}}}],\"scatterpolargl\":[{\"type\":\"scatterpolargl\",\"marker\":{\"colorbar\":{\"outlinewidth\":0,\"ticks\":\"\"}}}],\"bar\":[{\"error_x\":{\"color\":\"#2a3f5f\"},\"error_y\":{\"color\":\"#2a3f5f\"},\"marker\":{\"line\":{\"color\":\"#E5ECF6\",\"width\":0.5},\"pattern\":{\"fillmode\":\"overlay\",\"size\":10,\"solidity\":0.2}},\"type\":\"bar\"}],\"scattergeo\":[{\"type\":\"scattergeo\",\"marker\":{\"colorbar\":{\"outlinewidth\":0,\"ticks\":\"\"}}}],\"scatterpolar\":[{\"type\":\"scatterpolar\",\"marker\":{\"colorbar\":{\"outlinewidth\":0,\"ticks\":\"\"}}}],\"histogram\":[{\"marker\":{\"pattern\":{\"fillmode\":\"overlay\",\"size\":10,\"solidity\":0.2}},\"type\":\"histogram\"}],\"scattergl\":[{\"type\":\"scattergl\",\"marker\":{\"colorbar\":{\"outlinewidth\":0,\"ticks\":\"\"}}}],\"scatter3d\":[{\"type\":\"scatter3d\",\"line\":{\"colorbar\":{\"outlinewidth\":0,\"ticks\":\"\"}},\"marker\":{\"colorbar\":{\"outlinewidth\":0,\"ticks\":\"\"}}}],\"scattermapbox\":[{\"type\":\"scattermapbox\",\"marker\":{\"colorbar\":{\"outlinewidth\":0,\"ticks\":\"\"}}}],\"scatterternary\":[{\"type\":\"scatterternary\",\"marker\":{\"colorbar\":{\"outlinewidth\":0,\"ticks\":\"\"}}}],\"scattercarpet\":[{\"type\":\"scattercarpet\",\"marker\":{\"colorbar\":{\"outlinewidth\":0,\"ticks\":\"\"}}}],\"carpet\":[{\"aaxis\":{\"endlinecolor\":\"#2a3f5f\",\"gridcolor\":\"white\",\"linecolor\":\"white\",\"minorgridcolor\":\"white\",\"startlinecolor\":\"#2a3f5f\"},\"baxis\":{\"endlinecolor\":\"#2a3f5f\",\"gridcolor\":\"white\",\"linecolor\":\"white\",\"minorgridcolor\":\"white\",\"startlinecolor\":\"#2a3f5f\"},\"type\":\"carpet\"}],\"table\":[{\"cells\":{\"fill\":{\"color\":\"#EBF0F8\"},\"line\":{\"color\":\"white\"}},\"header\":{\"fill\":{\"color\":\"#C8D4E3\"},\"line\":{\"color\":\"white\"}},\"type\":\"table\"}],\"barpolar\":[{\"marker\":{\"line\":{\"color\":\"#E5ECF6\",\"width\":0.5},\"pattern\":{\"fillmode\":\"overlay\",\"size\":10,\"solidity\":0.2}},\"type\":\"barpolar\"}],\"pie\":[{\"automargin\":true,\"type\":\"pie\"}]},\"layout\":{\"autotypenumbers\":\"strict\",\"colorway\":[\"#636efa\",\"#EF553B\",\"#00cc96\",\"#ab63fa\",\"#FFA15A\",\"#19d3f3\",\"#FF6692\",\"#B6E880\",\"#FF97FF\",\"#FECB52\"],\"font\":{\"color\":\"#2a3f5f\"},\"hovermode\":\"closest\",\"hoverlabel\":{\"align\":\"left\"},\"paper_bgcolor\":\"white\",\"plot_bgcolor\":\"#E5ECF6\",\"polar\":{\"bgcolor\":\"#E5ECF6\",\"angularaxis\":{\"gridcolor\":\"white\",\"linecolor\":\"white\",\"ticks\":\"\"},\"radialaxis\":{\"gridcolor\":\"white\",\"linecolor\":\"white\",\"ticks\":\"\"}},\"ternary\":{\"bgcolor\":\"#E5ECF6\",\"aaxis\":{\"gridcolor\":\"white\",\"linecolor\":\"white\",\"ticks\":\"\"},\"baxis\":{\"gridcolor\":\"white\",\"linecolor\":\"white\",\"ticks\":\"\"},\"caxis\":{\"gridcolor\":\"white\",\"linecolor\":\"white\",\"ticks\":\"\"}},\"coloraxis\":{\"colorbar\":{\"outlinewidth\":0,\"ticks\":\"\"}},\"colorscale\":{\"sequential\":[[0.0,\"#0d0887\"],[0.1111111111111111,\"#46039f\"],[0.2222222222222222,\"#7201a8\"],[0.3333333333333333,\"#9c179e\"],[0.4444444444444444,\"#bd3786\"],[0.5555555555555556,\"#d8576b\"],[0.6666666666666666,\"#ed7953\"],[0.7777777777777778,\"#fb9f3a\"],[0.8888888888888888,\"#fdca26\"],[1.0,\"#f0f921\"]],\"sequentialminus\":[[0.0,\"#0d0887\"],[0.1111111111111111,\"#46039f\"],[0.2222222222222222,\"#7201a8\"],[0.3333333333333333,\"#9c179e\"],[0.4444444444444444,\"#bd3786\"],[0.5555555555555556,\"#d8576b\"],[0.6666666666666666,\"#ed7953\"],[0.7777777777777778,\"#fb9f3a\"],[0.8888888888888888,\"#fdca26\"],[1.0,\"#f0f921\"]],\"diverging\":[[0,\"#8e0152\"],[0.1,\"#c51b7d\"],[0.2,\"#de77ae\"],[0.3,\"#f1b6da\"],[0.4,\"#fde0ef\"],[0.5,\"#f7f7f7\"],[0.6,\"#e6f5d0\"],[0.7,\"#b8e186\"],[0.8,\"#7fbc41\"],[0.9,\"#4d9221\"],[1,\"#276419\"]]},\"xaxis\":{\"gridcolor\":\"white\",\"linecolor\":\"white\",\"ticks\":\"\",\"title\":{\"standoff\":15},\"zerolinecolor\":\"white\",\"automargin\":true,\"zerolinewidth\":2},\"yaxis\":{\"gridcolor\":\"white\",\"linecolor\":\"white\",\"ticks\":\"\",\"title\":{\"standoff\":15},\"zerolinecolor\":\"white\",\"automargin\":true,\"zerolinewidth\":2},\"scene\":{\"xaxis\":{\"backgroundcolor\":\"#E5ECF6\",\"gridcolor\":\"white\",\"linecolor\":\"white\",\"showbackground\":true,\"ticks\":\"\",\"zerolinecolor\":\"white\",\"gridwidth\":2},\"yaxis\":{\"backgroundcolor\":\"#E5ECF6\",\"gridcolor\":\"white\",\"linecolor\":\"white\",\"showbackground\":true,\"ticks\":\"\",\"zerolinecolor\":\"white\",\"gridwidth\":2},\"zaxis\":{\"backgroundcolor\":\"#E5ECF6\",\"gridcolor\":\"white\",\"linecolor\":\"white\",\"showbackground\":true,\"ticks\":\"\",\"zerolinecolor\":\"white\",\"gridwidth\":2}},\"shapedefaults\":{\"line\":{\"color\":\"#2a3f5f\"}},\"annotationdefaults\":{\"arrowcolor\":\"#2a3f5f\",\"arrowhead\":0,\"arrowwidth\":1},\"geo\":{\"bgcolor\":\"white\",\"landcolor\":\"#E5ECF6\",\"subunitcolor\":\"white\",\"showland\":true,\"showlakes\":true,\"lakecolor\":\"white\"},\"title\":{\"x\":0.05},\"mapbox\":{\"style\":\"light\"}}},\"xaxis\":{\"anchor\":\"y\",\"domain\":[0.0,1.0],\"title\":{\"text\":\"0\"}},\"yaxis\":{\"anchor\":\"x\",\"domain\":[0.0,1.0],\"title\":{\"text\":\"1\"}},\"legend\":{\"title\":{\"text\":\"color\"},\"tracegroupgap\":0},\"margin\":{\"t\":60}},                        {\"responsive\": true}                    ).then(function(){\n",
       "                            \n",
       "var gd = document.getElementById('a70381c2-3664-450c-b069-eb3a6a7cdb68');\n",
       "var x = new MutationObserver(function (mutations, observer) {{\n",
       "        var display = window.getComputedStyle(gd).display;\n",
       "        if (!display || display === 'none') {{\n",
       "            console.log([gd, 'removed!']);\n",
       "            Plotly.purge(gd);\n",
       "            observer.disconnect();\n",
       "        }}\n",
       "}});\n",
       "\n",
       "// Listen for the removal of the full notebook cells\n",
       "var notebookContainer = gd.closest('#notebook-container');\n",
       "if (notebookContainer) {{\n",
       "    x.observe(notebookContainer, {childList: true});\n",
       "}}\n",
       "\n",
       "// Listen for the clearing of the current output cell\n",
       "var outputEl = gd.closest('.output');\n",
       "if (outputEl) {{\n",
       "    x.observe(outputEl, {childList: true});\n",
       "}}\n",
       "\n",
       "                        })                };                });            </script>        </div>"
      ]
     },
     "metadata": {},
     "output_type": "display_data"
    }
   ],
   "source": [
    "# Maybe the right perplexity in t-sne will separate these .... mostly not\n",
    "# Perplexity value can greatly influence the shape of the results, typical ranges from 5 to 50\n",
    "# Some perplexity values with decent separation: 6,7,9,10,12,14,15\n",
    "t_sne = manifold.TSNE(\n",
    "    n_components=2,\n",
    "    perplexity=10,\n",
    "    init=\"random\",\n",
    "    n_iter=1200,\n",
    "    random_state=0,\n",
    ");\n",
    "tsne_data = scaled_data\n",
    "S_t_sne = t_sne.fit_transform(tsne_data);\n",
    "fig = px.scatter(S_t_sne, \n",
    "                 x=0, \n",
    "                 y=1, \n",
    "                 color=df_tidy['source'],\n",
    "                 hover_name=df_tidy['date'],\n",
    "                 color_discrete_sequence=px.colors.qualitative.Bold)\n",
    "fig.show()"
   ]
  },
  {
   "cell_type": "code",
   "execution_count": 124,
   "id": "6451082c",
   "metadata": {},
   "outputs": [
    {
     "name": "stderr",
     "output_type": "stream",
     "text": [
      "/home/muddy/.local/lib/python3.10/site-packages/sklearn/manifold/_mds.py:299: FutureWarning:\n",
      "\n",
      "The default value of `normalized_stress` will change to `'auto'` in version 1.4. To suppress this warning, manually set the value of `normalized_stress`.\n",
      "\n"
     ]
    },
    {
     "data": {
      "application/vnd.plotly.v1+json": {
       "config": {
        "plotlyServerURL": "https://plot.ly"
       },
       "data": [
        {
         "hovertemplate": "color=oba<br>0=%{x}<br>1=%{y}<extra></extra>",
         "legendgroup": "oba",
         "marker": {
          "color": "rgb(127, 60, 141)",
          "symbol": "circle"
         },
         "mode": "markers",
         "name": "oba",
         "orientation": "v",
         "showlegend": true,
         "type": "scatter",
         "x": [
          5.338013267897061,
          7.100555754494368,
          -0.29248553712057745,
          3.1775076526937616,
          1.5408445257841636,
          5.128219961444234,
          -0.7197014030993644,
          3.94548382880362,
          6.20153467729315,
          5.218699376169241,
          2.3541176571680684,
          4.124731536176008,
          2.9484589543526707,
          -4.468298386407811,
          1.4292545638390106,
          4.201511266699235,
          6.892474990249124,
          6.6133866408540865,
          -0.8210192973256915,
          4.518895093401273,
          3.028813738718291,
          3.4950949902723627,
          0.5477086625072513,
          0.26519029200228866,
          5.164492548784847,
          9.976560274448175,
          9.267480472704472,
          4.211434471049368,
          8.256704512420303,
          0.808176976648659,
          8.863230195758055,
          1.2263136276599778,
          6.120410386246304,
          7.341943900251275,
          3.9033546189282275,
          3.689841870772147,
          1.417728103531664,
          2.79345543723415,
          8.218464251760794,
          7.451077040230057,
          8.712768853532927,
          7.323082937537777,
          2.140028884643412,
          9.73509485650261,
          5.938404485694726,
          5.969401197207566,
          6.388780296976533,
          4.676209364935745,
          5.165357046684273,
          2.95185509268318,
          7.807264790138384,
          3.3773662933372983,
          10.718076932871494,
          7.248185245101563,
          7.470737502125757,
          6.778485396748464,
          8.524827866421854,
          5.562393977280971,
          1.4076722191221325,
          3.1938474636820477,
          -1.4675323065652959,
          6.36005232841206,
          4.708833500464744,
          -5.599901356711852,
          5.5221034421489,
          -8.369276680953293,
          0.9224422648357683,
          7.4048501752821725,
          4.270630356365973,
          5.334354880696468,
          0.3070389315536635,
          -0.010097267820755226,
          4.5428712495479076,
          7.446717345277967,
          4.423158537327641,
          4.761011974066966,
          -0.44705608557847565,
          8.024478769327102,
          5.739829517617288,
          8.80912828231047,
          -0.427974420244401,
          10.171688188092018,
          3.5976173146667887,
          1.1379806207745051,
          9.481763355084496,
          2.1517682931829674,
          2.394631392116844,
          3.5733938592223287,
          0.13079000514983163,
          6.8515023620209075,
          0.4691911959817342,
          -15.225767344369038,
          7.329370097821068,
          11.717595543788102,
          4.620281010822033,
          9.344269048512572,
          6.9991662250465065,
          0.11614558660823553,
          7.8026370789337385,
          5.418515309394659
         ],
         "xaxis": "x",
         "y": [
          -1.7291324126202536,
          2.500749575678526,
          6.960397327232986,
          2.4593475590643434,
          2.2408378824403594,
          -2.5748792933568896,
          3.785698307726434,
          -4.326270217562794,
          0.8267169507254131,
          -2.817254262233705,
          2.323856332887759,
          2.7888768773006443,
          1.98617954699512,
          5.513194941820262,
          1.6086891258285443,
          0.5139189884182903,
          2.13780085016739,
          -2.9791198894248367,
          3.369982355459503,
          -0.0036574315060363583,
          1.4821134389269899,
          3.2432357874864226,
          3.4664344858729437,
          3.686157961855095,
          3.2207034093571045,
          -2.1096731720594706,
          -2.986737841262415,
          5.217679545199745,
          0.7793442133299545,
          3.8909618188707573,
          3.4264776114912006,
          2.376957473097561,
          -1.150217783614334,
          0.5088121746771201,
          -1.4499748760261157,
          -0.9180637318268627,
          5.513141262396773,
          1.1977354380823706,
          -1.9992326068950457,
          -4.146427465456423,
          3.1653931112626514,
          5.1159142829276645,
          5.236086397234991,
          0.817785422757216,
          0.160158512927328,
          5.993543085342398,
          1.9296236260623674,
          2.5050059088832173,
          5.0725857872803815,
          8.287062832316428,
          -0.8034036786624567,
          -0.2392092504505144,
          -1.2060089073868088,
          -2.451577979658516,
          -3.7748848362376597,
          1.4029909013616004,
          -2.0765931848318875,
          0.33261175054464837,
          3.7520283328838597,
          -0.15060356524114535,
          4.361446378025119,
          1.9753000517592538,
          6.368714799061598,
          -0.5772226544271144,
          -1.0017075569971314,
          0.25412502720999464,
          0.9867090369423949,
          -1.4164226582961088,
          2.0286945245613177,
          1.7896678473050096,
          1.9823606428336757,
          0.32391435002832036,
          1.3921848843887314,
          -4.3270068368307095,
          6.884071121460793,
          -4.035335826277937,
          13.814922611285978,
          -2.062100994589392,
          -3.0045187467656223,
          1.5859075195644203,
          4.189696687804834,
          0.4627877572542531,
          3.9360753466112315,
          1.047921160922466,
          -2.9408662089245134,
          1.5231199532161694,
          5.577904279109109,
          9.220305015933778,
          4.749655950025423,
          -0.0826426347579792,
          9.685030843511207,
          3.573717704067008,
          -3.0729072673676536,
          -1.0362748640579615,
          5.722654495333828,
          -0.43118782328272803,
          1.4672935106472278,
          2.882880956576081,
          5.54018908219374,
          0.4173234116630018
         ],
         "yaxis": "y"
        },
        {
         "hovertemplate": "color=nyt<br>0=%{x}<br>1=%{y}<extra></extra>",
         "legendgroup": "nyt",
         "marker": {
          "color": "rgb(17, 165, 121)",
          "symbol": "circle"
         },
         "mode": "markers",
         "name": "nyt",
         "orientation": "v",
         "showlegend": true,
         "type": "scatter",
         "x": [
          1.2205848651660562,
          0.13274070468739796,
          -1.1299550118625967,
          0.0471480901882894,
          -1.7159550059317326,
          -1.8791143435784274,
          -6.189583787557128,
          -1.8271881411141375,
          -6.063690060607108,
          -5.324159444357058,
          -8.667344774997197,
          3.9174535753863386,
          -0.5989116688448396,
          -3.627962780745097,
          -5.583140587017457,
          -2.9761248977205335,
          3.8569432891792723,
          -0.17222612010397959,
          1.0412003270670136,
          5.248381581476642,
          6.074856094820478,
          -10.655756062497785,
          -1.7730311375082255,
          -3.523731093284737,
          -3.957883749747398,
          -1.2542828558219878,
          2.2204139889199643,
          -2.742515595017954,
          25.52339097115804,
          -0.7590942171845586,
          -3.3955835680397732,
          -3.047651631405415,
          -1.6365346830285987,
          -0.6809175886102922,
          3.157998712607268,
          -6.783625139584829,
          -3.7830710389485325,
          -6.991360881094913,
          -4.471423169601065,
          -4.754176491310726,
          -2.8546453120197985,
          1.154162528022114,
          -6.358298462187585,
          -1.2795132082359908,
          -1.94118056076092,
          -0.8589024329661429,
          1.018592918843039,
          -2.881812359023627,
          -0.860232049234949,
          0.5622809675308587,
          -5.038004351838292,
          -0.4671124793565283,
          -5.903606570045636,
          -1.460393321892105,
          4.453129475785033,
          2.0809080232336865,
          -7.487724862164075,
          -4.645618428126277,
          -2.1793983780663018,
          1.5805303003924949,
          -3.5205607829921974,
          -0.5265196501523555,
          5.510457767009288,
          -5.588233686545732,
          1.6869305960731527,
          -7.3732603210466525,
          -4.044514101121822,
          -1.8278575191459285,
          -4.084028432110655,
          -4.455921519715071,
          -4.702285493170557,
          0.010853987755412504,
          -3.4513664155216737,
          2.764681095339131,
          -0.7900717930985014,
          -1.2344019747617871,
          -1.6848276475218171,
          -1.7391243730174404,
          -5.9524085603016825,
          1.8594691179579144,
          -5.522389057425517,
          0.16851604983579313,
          2.851162565716051,
          -6.369003627588199,
          -2.1756127764925863,
          -2.5988144085397957,
          4.714591836733081,
          -1.9742125349937334,
          -2.4450008077615824,
          -7.1030334446892,
          -1.9537652839926172,
          -3.599247103759387,
          -5.553912187740904,
          -0.13218518679906674,
          -4.667152426014824,
          1.4254828545167415,
          -2.0751096062413947,
          -2.1825237546133085,
          -4.32322014291493,
          0.22417915150000006
         ],
         "xaxis": "x",
         "y": [
          -5.937508640457818,
          -6.304848878788125,
          -4.887336559722554,
          -2.273938379710138,
          0.15438299768031802,
          -1.2154316111500818,
          1.4200307163695574,
          -4.410195502286215,
          -6.492055957397743,
          -3.425281702946695,
          4.084182481976622,
          -7.190554222567024,
          -7.945653833186278,
          1.8462906815613949,
          6.562118832735585,
          -5.312777238013135,
          -3.3394526619055105,
          -6.264828704524632,
          1.17798014538287,
          -5.3002690275416455,
          2.3770339891642767,
          -3.0588613521267356,
          -8.493662684190273,
          -6.7846022323481225,
          0.6953761972694719,
          1.3450576824578548,
          -3.998278652001716,
          -0.41000574303252313,
          20.64721351303819,
          0.8668084213073969,
          7.069701134242023,
          -3.045917148372689,
          -3.7314662788992323,
          -2.202712651586973,
          4.4069557126917145,
          -1.9848468128227446,
          3.527746983897198,
          -6.410687817718192,
          -5.170227366803505,
          -1.6795559278355363,
          -0.49847651342706906,
          0.6195565525962502,
          -2.44238133431896,
          -6.092472128820402,
          -1.038249526160163,
          5.3418540937274965,
          -0.40116215021439094,
          4.035038447838558,
          -5.806879169003986,
          5.987950856397288,
          2.177159630442457,
          -0.741060588232008,
          -2.677536751339832,
          -2.5045162519134343,
          3.3353338201908547,
          0.9823278999912638,
          -3.9146876026790007,
          -1.2089434199128883,
          6.9688211311652815,
          3.0355881847259827,
          -2.245603867241876,
          -2.886576766334281,
          -7.238065976206989,
          -1.3981335018147192,
          -4.13551004177696,
          0.5921190154327431,
          0.38017201838266157,
          2.0438840697377967,
          -2.9689334110452243,
          -5.59111774797302,
          0.8993455778715151,
          2.0310588824302087,
          -0.7760926045740125,
          -0.9036965210157538,
          -6.248122958718949,
          -3.547823273789405,
          2.351256402466143,
          -3.0218421503974957,
          -7.566258263788409,
          -5.678293514849684,
          -3.002392068796429,
          2.371241170663168,
          3.4666630508043608,
          0.3624415799449626,
          -5.273403087885223,
          0.8819317454880112,
          1.7648768363634264,
          5.877344920009414,
          -3.912079717781875,
          -0.33925961162556073,
          1.0011897291443328,
          3.0290599715172233,
          -2.053902926661633,
          3.1968140039777575,
          3.43476917065051,
          -4.998536648156082,
          5.060452914429723,
          -5.8275982852760055,
          -0.9689529289979844,
          -0.23690692963078752
         ],
         "yaxis": "y"
        },
        {
         "hovertemplate": "color=wsj<br>0=%{x}<br>1=%{y}<extra></extra>",
         "legendgroup": "wsj",
         "marker": {
          "color": "rgb(57, 105, 172)",
          "symbol": "circle"
         },
         "mode": "markers",
         "name": "wsj",
         "orientation": "v",
         "showlegend": true,
         "type": "scatter",
         "x": [
          -3.4372345290070023,
          0.842568450611602,
          0.4547375245081991,
          1.7141091993672464,
          -3.170562747925454,
          -7.022240111088316,
          -4.916416416585344,
          -2.172401798593487,
          -14.029587237808565,
          -6.739625829573931,
          0.9823853680397463,
          -4.22617156662323,
          -4.632497212137965,
          -2.9949478330124584,
          3.903340550092156,
          0.7553934332682043,
          1.2819118627239727,
          -1.2643910901916808,
          2.213365240213407,
          -6.5096274671904775,
          2.8533522494275996,
          -0.30110714813382805,
          -4.805881331181944,
          -0.45160893837369054,
          -2.5801918511916275,
          0.22836351020570567,
          -0.9249212707063135,
          -3.9305931197619763,
          1.3400014715979653,
          -2.0418875425706537,
          -1.4558470523191205,
          1.244765989232073,
          0.8074884015719296,
          -0.5935446208601641,
          1.3718636044696093,
          -4.86708650314538,
          -5.873325520152033,
          -6.175353398884715,
          -2.6358407370200205,
          -9.079627960801933,
          -6.590827466200169,
          -2.0259539747098754,
          -4.653249455893982,
          1.9383074622346033,
          -3.0728155240542585,
          -1.9867616631104088,
          3.640151870762731,
          0.5658136422238563,
          2.125991928536595,
          0.2712446425975837,
          -5.998442826124569,
          -0.8920281126920917,
          -4.420961013518782,
          -2.6762408678595064,
          -2.55688374085364,
          -4.105735554699383,
          -1.9677825521490002,
          -5.41479634557735,
          -4.075791170545861,
          -5.661342020010525,
          -6.138095897125146,
          -6.520116896553225,
          -2.537799717440838,
          -6.4609336499217855,
          -2.3773495231869424,
          -3.873167052197643,
          -2.982591228025337,
          -2.804252917507873,
          -0.9135140818471913,
          -3.6607361693818774,
          -5.152696114855964,
          -1.6816092473164128,
          -6.495916855642338,
          1.8151188409708858,
          0.7912192480332797,
          -4.209170841240112,
          -3.3434641894559327,
          -4.558529964886057,
          -4.625382974160995,
          -1.1546442205745342,
          0.4579756104602141,
          -6.317074337480611,
          3.1839205175892777,
          -6.286445061311211,
          -0.6392335311817234,
          -3.9284503766535472,
          0.9347102568737685,
          -3.6458284321257963,
          -5.347401983964468,
          -1.438058552702696,
          -4.852336486130588,
          -3.9410485180639068,
          -5.441310603608382,
          -2.677154624812759,
          -4.498995288238318,
          1.1332388037879935,
          0.6942973163880671,
          -4.098335483826901,
          0.2611710777296526,
          -4.854773422057834
         ],
         "xaxis": "x",
         "y": [
          -0.0718884537900356,
          -2.264184592616973,
          -4.087796866813842,
          -0.6649652305830583,
          0.23259574805709093,
          -0.06937909897866658,
          -1.0231589188780141,
          0.6829030020865758,
          -13.696598425254914,
          -0.8544513041506268,
          -5.977773716259011,
          5.530704139137458,
          -2.6408570515965843,
          6.580070346634972,
          -6.581854381778372,
          -1.6731957098728554,
          -2.5181777917721866,
          -1.627798972864428,
          -1.8272693378057887,
          6.454431813932672,
          3.1885435519293828,
          -2.4607216419276283,
          -0.5918567062410202,
          -1.8627231031466418,
          -1.4094111123991953,
          6.37848417673488,
          -3.42333457050699,
          -4.333029411814376,
          -6.846274629348407,
          4.0368548329431535,
          8.09058964710205,
          -3.8294186143032927,
          -2.6843357994968207,
          -4.519699820854875,
          -2.199305995786042,
          -6.283560564075281,
          -1.536728357655568,
          -0.9132779644284552,
          -4.020798179079142,
          3.18102338861536,
          9.263057711662974,
          6.370694436612176,
          0.19199643571046762,
          -4.582826765497004,
          -2.2218088791247945,
          4.356573579682856,
          -2.2648733705062516,
          4.235940957811798,
          -2.3051717883666702,
          5.135090544543292,
          2.271504255493629,
          -4.220197686330755,
          -3.581495340286093,
          -0.9440108634066974,
          5.420378365827304,
          0.734141500950485,
          -7.195349677493814,
          -3.521815618665137,
          3.301901544811886,
          0.14036048624270725,
          -1.3195803757923439,
          0.4733025707871696,
          1.5032779192717378,
          -0.2901203105294484,
          -1.3369296443829994,
          -2.078797784840804,
          -3.289374688311496,
          0.22512924614262608,
          -3.6370491692232223,
          -3.7637380914487957,
          2.283759505622357,
          4.289658438416171,
          1.2750599031987415,
          -1.284729180288636,
          -2.0277116326415094,
          -2.197017183098861,
          3.7503092590140525,
          -4.456076521592289,
          1.9833734231637579,
          -9.341103130491698,
          -3.9038541438590744,
          -3.9360306772089944,
          2.7844066892099435,
          -2.0985333185598005,
          -5.265472903493886,
          -2.4557256414402406,
          4.295804234833733,
          -6.2594406585302425,
          -5.940828367271952,
          -0.0933503514146653,
          -0.32879202611696906,
          4.715848597198107,
          -0.4285753637554637,
          4.977923808448503,
          3.531781742909894,
          -0.6652985342792449,
          9.063268183671772,
          -0.66192398262059,
          -0.5483062857446588,
          -2.643962730166398
         ],
         "yaxis": "y"
        }
       ],
       "layout": {
        "legend": {
         "title": {
          "text": "color"
         },
         "tracegroupgap": 0
        },
        "margin": {
         "t": 60
        },
        "template": {
         "data": {
          "bar": [
           {
            "error_x": {
             "color": "#2a3f5f"
            },
            "error_y": {
             "color": "#2a3f5f"
            },
            "marker": {
             "line": {
              "color": "#E5ECF6",
              "width": 0.5
             },
             "pattern": {
              "fillmode": "overlay",
              "size": 10,
              "solidity": 0.2
             }
            },
            "type": "bar"
           }
          ],
          "barpolar": [
           {
            "marker": {
             "line": {
              "color": "#E5ECF6",
              "width": 0.5
             },
             "pattern": {
              "fillmode": "overlay",
              "size": 10,
              "solidity": 0.2
             }
            },
            "type": "barpolar"
           }
          ],
          "carpet": [
           {
            "aaxis": {
             "endlinecolor": "#2a3f5f",
             "gridcolor": "white",
             "linecolor": "white",
             "minorgridcolor": "white",
             "startlinecolor": "#2a3f5f"
            },
            "baxis": {
             "endlinecolor": "#2a3f5f",
             "gridcolor": "white",
             "linecolor": "white",
             "minorgridcolor": "white",
             "startlinecolor": "#2a3f5f"
            },
            "type": "carpet"
           }
          ],
          "choropleth": [
           {
            "colorbar": {
             "outlinewidth": 0,
             "ticks": ""
            },
            "type": "choropleth"
           }
          ],
          "contour": [
           {
            "colorbar": {
             "outlinewidth": 0,
             "ticks": ""
            },
            "colorscale": [
             [
              0,
              "#0d0887"
             ],
             [
              0.1111111111111111,
              "#46039f"
             ],
             [
              0.2222222222222222,
              "#7201a8"
             ],
             [
              0.3333333333333333,
              "#9c179e"
             ],
             [
              0.4444444444444444,
              "#bd3786"
             ],
             [
              0.5555555555555556,
              "#d8576b"
             ],
             [
              0.6666666666666666,
              "#ed7953"
             ],
             [
              0.7777777777777778,
              "#fb9f3a"
             ],
             [
              0.8888888888888888,
              "#fdca26"
             ],
             [
              1,
              "#f0f921"
             ]
            ],
            "type": "contour"
           }
          ],
          "contourcarpet": [
           {
            "colorbar": {
             "outlinewidth": 0,
             "ticks": ""
            },
            "type": "contourcarpet"
           }
          ],
          "heatmap": [
           {
            "colorbar": {
             "outlinewidth": 0,
             "ticks": ""
            },
            "colorscale": [
             [
              0,
              "#0d0887"
             ],
             [
              0.1111111111111111,
              "#46039f"
             ],
             [
              0.2222222222222222,
              "#7201a8"
             ],
             [
              0.3333333333333333,
              "#9c179e"
             ],
             [
              0.4444444444444444,
              "#bd3786"
             ],
             [
              0.5555555555555556,
              "#d8576b"
             ],
             [
              0.6666666666666666,
              "#ed7953"
             ],
             [
              0.7777777777777778,
              "#fb9f3a"
             ],
             [
              0.8888888888888888,
              "#fdca26"
             ],
             [
              1,
              "#f0f921"
             ]
            ],
            "type": "heatmap"
           }
          ],
          "heatmapgl": [
           {
            "colorbar": {
             "outlinewidth": 0,
             "ticks": ""
            },
            "colorscale": [
             [
              0,
              "#0d0887"
             ],
             [
              0.1111111111111111,
              "#46039f"
             ],
             [
              0.2222222222222222,
              "#7201a8"
             ],
             [
              0.3333333333333333,
              "#9c179e"
             ],
             [
              0.4444444444444444,
              "#bd3786"
             ],
             [
              0.5555555555555556,
              "#d8576b"
             ],
             [
              0.6666666666666666,
              "#ed7953"
             ],
             [
              0.7777777777777778,
              "#fb9f3a"
             ],
             [
              0.8888888888888888,
              "#fdca26"
             ],
             [
              1,
              "#f0f921"
             ]
            ],
            "type": "heatmapgl"
           }
          ],
          "histogram": [
           {
            "marker": {
             "pattern": {
              "fillmode": "overlay",
              "size": 10,
              "solidity": 0.2
             }
            },
            "type": "histogram"
           }
          ],
          "histogram2d": [
           {
            "colorbar": {
             "outlinewidth": 0,
             "ticks": ""
            },
            "colorscale": [
             [
              0,
              "#0d0887"
             ],
             [
              0.1111111111111111,
              "#46039f"
             ],
             [
              0.2222222222222222,
              "#7201a8"
             ],
             [
              0.3333333333333333,
              "#9c179e"
             ],
             [
              0.4444444444444444,
              "#bd3786"
             ],
             [
              0.5555555555555556,
              "#d8576b"
             ],
             [
              0.6666666666666666,
              "#ed7953"
             ],
             [
              0.7777777777777778,
              "#fb9f3a"
             ],
             [
              0.8888888888888888,
              "#fdca26"
             ],
             [
              1,
              "#f0f921"
             ]
            ],
            "type": "histogram2d"
           }
          ],
          "histogram2dcontour": [
           {
            "colorbar": {
             "outlinewidth": 0,
             "ticks": ""
            },
            "colorscale": [
             [
              0,
              "#0d0887"
             ],
             [
              0.1111111111111111,
              "#46039f"
             ],
             [
              0.2222222222222222,
              "#7201a8"
             ],
             [
              0.3333333333333333,
              "#9c179e"
             ],
             [
              0.4444444444444444,
              "#bd3786"
             ],
             [
              0.5555555555555556,
              "#d8576b"
             ],
             [
              0.6666666666666666,
              "#ed7953"
             ],
             [
              0.7777777777777778,
              "#fb9f3a"
             ],
             [
              0.8888888888888888,
              "#fdca26"
             ],
             [
              1,
              "#f0f921"
             ]
            ],
            "type": "histogram2dcontour"
           }
          ],
          "mesh3d": [
           {
            "colorbar": {
             "outlinewidth": 0,
             "ticks": ""
            },
            "type": "mesh3d"
           }
          ],
          "parcoords": [
           {
            "line": {
             "colorbar": {
              "outlinewidth": 0,
              "ticks": ""
             }
            },
            "type": "parcoords"
           }
          ],
          "pie": [
           {
            "automargin": true,
            "type": "pie"
           }
          ],
          "scatter": [
           {
            "fillpattern": {
             "fillmode": "overlay",
             "size": 10,
             "solidity": 0.2
            },
            "type": "scatter"
           }
          ],
          "scatter3d": [
           {
            "line": {
             "colorbar": {
              "outlinewidth": 0,
              "ticks": ""
             }
            },
            "marker": {
             "colorbar": {
              "outlinewidth": 0,
              "ticks": ""
             }
            },
            "type": "scatter3d"
           }
          ],
          "scattercarpet": [
           {
            "marker": {
             "colorbar": {
              "outlinewidth": 0,
              "ticks": ""
             }
            },
            "type": "scattercarpet"
           }
          ],
          "scattergeo": [
           {
            "marker": {
             "colorbar": {
              "outlinewidth": 0,
              "ticks": ""
             }
            },
            "type": "scattergeo"
           }
          ],
          "scattergl": [
           {
            "marker": {
             "colorbar": {
              "outlinewidth": 0,
              "ticks": ""
             }
            },
            "type": "scattergl"
           }
          ],
          "scattermapbox": [
           {
            "marker": {
             "colorbar": {
              "outlinewidth": 0,
              "ticks": ""
             }
            },
            "type": "scattermapbox"
           }
          ],
          "scatterpolar": [
           {
            "marker": {
             "colorbar": {
              "outlinewidth": 0,
              "ticks": ""
             }
            },
            "type": "scatterpolar"
           }
          ],
          "scatterpolargl": [
           {
            "marker": {
             "colorbar": {
              "outlinewidth": 0,
              "ticks": ""
             }
            },
            "type": "scatterpolargl"
           }
          ],
          "scatterternary": [
           {
            "marker": {
             "colorbar": {
              "outlinewidth": 0,
              "ticks": ""
             }
            },
            "type": "scatterternary"
           }
          ],
          "surface": [
           {
            "colorbar": {
             "outlinewidth": 0,
             "ticks": ""
            },
            "colorscale": [
             [
              0,
              "#0d0887"
             ],
             [
              0.1111111111111111,
              "#46039f"
             ],
             [
              0.2222222222222222,
              "#7201a8"
             ],
             [
              0.3333333333333333,
              "#9c179e"
             ],
             [
              0.4444444444444444,
              "#bd3786"
             ],
             [
              0.5555555555555556,
              "#d8576b"
             ],
             [
              0.6666666666666666,
              "#ed7953"
             ],
             [
              0.7777777777777778,
              "#fb9f3a"
             ],
             [
              0.8888888888888888,
              "#fdca26"
             ],
             [
              1,
              "#f0f921"
             ]
            ],
            "type": "surface"
           }
          ],
          "table": [
           {
            "cells": {
             "fill": {
              "color": "#EBF0F8"
             },
             "line": {
              "color": "white"
             }
            },
            "header": {
             "fill": {
              "color": "#C8D4E3"
             },
             "line": {
              "color": "white"
             }
            },
            "type": "table"
           }
          ]
         },
         "layout": {
          "annotationdefaults": {
           "arrowcolor": "#2a3f5f",
           "arrowhead": 0,
           "arrowwidth": 1
          },
          "autotypenumbers": "strict",
          "coloraxis": {
           "colorbar": {
            "outlinewidth": 0,
            "ticks": ""
           }
          },
          "colorscale": {
           "diverging": [
            [
             0,
             "#8e0152"
            ],
            [
             0.1,
             "#c51b7d"
            ],
            [
             0.2,
             "#de77ae"
            ],
            [
             0.3,
             "#f1b6da"
            ],
            [
             0.4,
             "#fde0ef"
            ],
            [
             0.5,
             "#f7f7f7"
            ],
            [
             0.6,
             "#e6f5d0"
            ],
            [
             0.7,
             "#b8e186"
            ],
            [
             0.8,
             "#7fbc41"
            ],
            [
             0.9,
             "#4d9221"
            ],
            [
             1,
             "#276419"
            ]
           ],
           "sequential": [
            [
             0,
             "#0d0887"
            ],
            [
             0.1111111111111111,
             "#46039f"
            ],
            [
             0.2222222222222222,
             "#7201a8"
            ],
            [
             0.3333333333333333,
             "#9c179e"
            ],
            [
             0.4444444444444444,
             "#bd3786"
            ],
            [
             0.5555555555555556,
             "#d8576b"
            ],
            [
             0.6666666666666666,
             "#ed7953"
            ],
            [
             0.7777777777777778,
             "#fb9f3a"
            ],
            [
             0.8888888888888888,
             "#fdca26"
            ],
            [
             1,
             "#f0f921"
            ]
           ],
           "sequentialminus": [
            [
             0,
             "#0d0887"
            ],
            [
             0.1111111111111111,
             "#46039f"
            ],
            [
             0.2222222222222222,
             "#7201a8"
            ],
            [
             0.3333333333333333,
             "#9c179e"
            ],
            [
             0.4444444444444444,
             "#bd3786"
            ],
            [
             0.5555555555555556,
             "#d8576b"
            ],
            [
             0.6666666666666666,
             "#ed7953"
            ],
            [
             0.7777777777777778,
             "#fb9f3a"
            ],
            [
             0.8888888888888888,
             "#fdca26"
            ],
            [
             1,
             "#f0f921"
            ]
           ]
          },
          "colorway": [
           "#636efa",
           "#EF553B",
           "#00cc96",
           "#ab63fa",
           "#FFA15A",
           "#19d3f3",
           "#FF6692",
           "#B6E880",
           "#FF97FF",
           "#FECB52"
          ],
          "font": {
           "color": "#2a3f5f"
          },
          "geo": {
           "bgcolor": "white",
           "lakecolor": "white",
           "landcolor": "#E5ECF6",
           "showlakes": true,
           "showland": true,
           "subunitcolor": "white"
          },
          "hoverlabel": {
           "align": "left"
          },
          "hovermode": "closest",
          "mapbox": {
           "style": "light"
          },
          "paper_bgcolor": "white",
          "plot_bgcolor": "#E5ECF6",
          "polar": {
           "angularaxis": {
            "gridcolor": "white",
            "linecolor": "white",
            "ticks": ""
           },
           "bgcolor": "#E5ECF6",
           "radialaxis": {
            "gridcolor": "white",
            "linecolor": "white",
            "ticks": ""
           }
          },
          "scene": {
           "xaxis": {
            "backgroundcolor": "#E5ECF6",
            "gridcolor": "white",
            "gridwidth": 2,
            "linecolor": "white",
            "showbackground": true,
            "ticks": "",
            "zerolinecolor": "white"
           },
           "yaxis": {
            "backgroundcolor": "#E5ECF6",
            "gridcolor": "white",
            "gridwidth": 2,
            "linecolor": "white",
            "showbackground": true,
            "ticks": "",
            "zerolinecolor": "white"
           },
           "zaxis": {
            "backgroundcolor": "#E5ECF6",
            "gridcolor": "white",
            "gridwidth": 2,
            "linecolor": "white",
            "showbackground": true,
            "ticks": "",
            "zerolinecolor": "white"
           }
          },
          "shapedefaults": {
           "line": {
            "color": "#2a3f5f"
           }
          },
          "ternary": {
           "aaxis": {
            "gridcolor": "white",
            "linecolor": "white",
            "ticks": ""
           },
           "baxis": {
            "gridcolor": "white",
            "linecolor": "white",
            "ticks": ""
           },
           "bgcolor": "#E5ECF6",
           "caxis": {
            "gridcolor": "white",
            "linecolor": "white",
            "ticks": ""
           }
          },
          "title": {
           "x": 0.05
          },
          "xaxis": {
           "automargin": true,
           "gridcolor": "white",
           "linecolor": "white",
           "ticks": "",
           "title": {
            "standoff": 15
           },
           "zerolinecolor": "white",
           "zerolinewidth": 2
          },
          "yaxis": {
           "automargin": true,
           "gridcolor": "white",
           "linecolor": "white",
           "ticks": "",
           "title": {
            "standoff": 15
           },
           "zerolinecolor": "white",
           "zerolinewidth": 2
          }
         }
        },
        "xaxis": {
         "anchor": "y",
         "domain": [
          0,
          1
         ],
         "title": {
          "text": "0"
         }
        },
        "yaxis": {
         "anchor": "x",
         "domain": [
          0,
          1
         ],
         "title": {
          "text": "1"
         }
        }
       }
      },
      "text/html": [
       "<div>                            <div id=\"575adb96-5493-4f0c-bc2a-0ddaf9aeeb6a\" class=\"plotly-graph-div\" style=\"height:525px; width:100%;\"></div>            <script type=\"text/javascript\">                require([\"plotly\"], function(Plotly) {                    window.PLOTLYENV=window.PLOTLYENV || {};                                    if (document.getElementById(\"575adb96-5493-4f0c-bc2a-0ddaf9aeeb6a\")) {                    Plotly.newPlot(                        \"575adb96-5493-4f0c-bc2a-0ddaf9aeeb6a\",                        [{\"hovertemplate\":\"color=oba<br>0=%{x}<br>1=%{y}<extra></extra>\",\"legendgroup\":\"oba\",\"marker\":{\"color\":\"rgb(127, 60, 141)\",\"symbol\":\"circle\"},\"mode\":\"markers\",\"name\":\"oba\",\"orientation\":\"v\",\"showlegend\":true,\"x\":[5.338013267897061,7.100555754494368,-0.29248553712057745,3.1775076526937616,1.5408445257841636,5.128219961444234,-0.7197014030993644,3.94548382880362,6.20153467729315,5.218699376169241,2.3541176571680684,4.124731536176008,2.9484589543526707,-4.468298386407811,1.4292545638390106,4.201511266699235,6.892474990249124,6.6133866408540865,-0.8210192973256915,4.518895093401273,3.028813738718291,3.4950949902723627,0.5477086625072513,0.26519029200228866,5.164492548784847,9.976560274448175,9.267480472704472,4.211434471049368,8.256704512420303,0.808176976648659,8.863230195758055,1.2263136276599778,6.120410386246304,7.341943900251275,3.9033546189282275,3.689841870772147,1.417728103531664,2.79345543723415,8.218464251760794,7.451077040230057,8.712768853532927,7.323082937537777,2.140028884643412,9.73509485650261,5.938404485694726,5.969401197207566,6.388780296976533,4.676209364935745,5.165357046684273,2.95185509268318,7.807264790138384,3.3773662933372983,10.718076932871494,7.248185245101563,7.470737502125757,6.778485396748464,8.524827866421854,5.562393977280971,1.4076722191221325,3.1938474636820477,-1.4675323065652959,6.36005232841206,4.708833500464744,-5.599901356711852,5.5221034421489,-8.369276680953293,0.9224422648357683,7.4048501752821725,4.270630356365973,5.334354880696468,0.3070389315536635,-0.010097267820755226,4.5428712495479076,7.446717345277967,4.423158537327641,4.761011974066966,-0.44705608557847565,8.024478769327102,5.739829517617288,8.80912828231047,-0.427974420244401,10.171688188092018,3.5976173146667887,1.1379806207745051,9.481763355084496,2.1517682931829674,2.394631392116844,3.5733938592223287,0.13079000514983163,6.8515023620209075,0.4691911959817342,-15.225767344369038,7.329370097821068,11.717595543788102,4.620281010822033,9.344269048512572,6.9991662250465065,0.11614558660823553,7.8026370789337385,5.418515309394659],\"xaxis\":\"x\",\"y\":[-1.7291324126202536,2.500749575678526,6.960397327232986,2.4593475590643434,2.2408378824403594,-2.5748792933568896,3.785698307726434,-4.326270217562794,0.8267169507254131,-2.817254262233705,2.323856332887759,2.7888768773006443,1.98617954699512,5.513194941820262,1.6086891258285443,0.5139189884182903,2.13780085016739,-2.9791198894248367,3.369982355459503,-0.0036574315060363583,1.4821134389269899,3.2432357874864226,3.4664344858729437,3.686157961855095,3.2207034093571045,-2.1096731720594706,-2.986737841262415,5.217679545199745,0.7793442133299545,3.8909618188707573,3.4264776114912006,2.376957473097561,-1.150217783614334,0.5088121746771201,-1.4499748760261157,-0.9180637318268627,5.513141262396773,1.1977354380823706,-1.9992326068950457,-4.146427465456423,3.1653931112626514,5.1159142829276645,5.236086397234991,0.817785422757216,0.160158512927328,5.993543085342398,1.9296236260623674,2.5050059088832173,5.0725857872803815,8.287062832316428,-0.8034036786624567,-0.2392092504505144,-1.2060089073868088,-2.451577979658516,-3.7748848362376597,1.4029909013616004,-2.0765931848318875,0.33261175054464837,3.7520283328838597,-0.15060356524114535,4.361446378025119,1.9753000517592538,6.368714799061598,-0.5772226544271144,-1.0017075569971314,0.25412502720999464,0.9867090369423949,-1.4164226582961088,2.0286945245613177,1.7896678473050096,1.9823606428336757,0.32391435002832036,1.3921848843887314,-4.3270068368307095,6.884071121460793,-4.035335826277937,13.814922611285978,-2.062100994589392,-3.0045187467656223,1.5859075195644203,4.189696687804834,0.4627877572542531,3.9360753466112315,1.047921160922466,-2.9408662089245134,1.5231199532161694,5.577904279109109,9.220305015933778,4.749655950025423,-0.0826426347579792,9.685030843511207,3.573717704067008,-3.0729072673676536,-1.0362748640579615,5.722654495333828,-0.43118782328272803,1.4672935106472278,2.882880956576081,5.54018908219374,0.4173234116630018],\"yaxis\":\"y\",\"type\":\"scatter\"},{\"hovertemplate\":\"color=nyt<br>0=%{x}<br>1=%{y}<extra></extra>\",\"legendgroup\":\"nyt\",\"marker\":{\"color\":\"rgb(17, 165, 121)\",\"symbol\":\"circle\"},\"mode\":\"markers\",\"name\":\"nyt\",\"orientation\":\"v\",\"showlegend\":true,\"x\":[1.2205848651660562,0.13274070468739796,-1.1299550118625967,0.0471480901882894,-1.7159550059317326,-1.8791143435784274,-6.189583787557128,-1.8271881411141375,-6.063690060607108,-5.324159444357058,-8.667344774997197,3.9174535753863386,-0.5989116688448396,-3.627962780745097,-5.583140587017457,-2.9761248977205335,3.8569432891792723,-0.17222612010397959,1.0412003270670136,5.248381581476642,6.074856094820478,-10.655756062497785,-1.7730311375082255,-3.523731093284737,-3.957883749747398,-1.2542828558219878,2.2204139889199643,-2.742515595017954,25.52339097115804,-0.7590942171845586,-3.3955835680397732,-3.047651631405415,-1.6365346830285987,-0.6809175886102922,3.157998712607268,-6.783625139584829,-3.7830710389485325,-6.991360881094913,-4.471423169601065,-4.754176491310726,-2.8546453120197985,1.154162528022114,-6.358298462187585,-1.2795132082359908,-1.94118056076092,-0.8589024329661429,1.018592918843039,-2.881812359023627,-0.860232049234949,0.5622809675308587,-5.038004351838292,-0.4671124793565283,-5.903606570045636,-1.460393321892105,4.453129475785033,2.0809080232336865,-7.487724862164075,-4.645618428126277,-2.1793983780663018,1.5805303003924949,-3.5205607829921974,-0.5265196501523555,5.510457767009288,-5.588233686545732,1.6869305960731527,-7.3732603210466525,-4.044514101121822,-1.8278575191459285,-4.084028432110655,-4.455921519715071,-4.702285493170557,0.010853987755412504,-3.4513664155216737,2.764681095339131,-0.7900717930985014,-1.2344019747617871,-1.6848276475218171,-1.7391243730174404,-5.9524085603016825,1.8594691179579144,-5.522389057425517,0.16851604983579313,2.851162565716051,-6.369003627588199,-2.1756127764925863,-2.5988144085397957,4.714591836733081,-1.9742125349937334,-2.4450008077615824,-7.1030334446892,-1.9537652839926172,-3.599247103759387,-5.553912187740904,-0.13218518679906674,-4.667152426014824,1.4254828545167415,-2.0751096062413947,-2.1825237546133085,-4.32322014291493,0.22417915150000006],\"xaxis\":\"x\",\"y\":[-5.937508640457818,-6.304848878788125,-4.887336559722554,-2.273938379710138,0.15438299768031802,-1.2154316111500818,1.4200307163695574,-4.410195502286215,-6.492055957397743,-3.425281702946695,4.084182481976622,-7.190554222567024,-7.945653833186278,1.8462906815613949,6.562118832735585,-5.312777238013135,-3.3394526619055105,-6.264828704524632,1.17798014538287,-5.3002690275416455,2.3770339891642767,-3.0588613521267356,-8.493662684190273,-6.7846022323481225,0.6953761972694719,1.3450576824578548,-3.998278652001716,-0.41000574303252313,20.64721351303819,0.8668084213073969,7.069701134242023,-3.045917148372689,-3.7314662788992323,-2.202712651586973,4.4069557126917145,-1.9848468128227446,3.527746983897198,-6.410687817718192,-5.170227366803505,-1.6795559278355363,-0.49847651342706906,0.6195565525962502,-2.44238133431896,-6.092472128820402,-1.038249526160163,5.3418540937274965,-0.40116215021439094,4.035038447838558,-5.806879169003986,5.987950856397288,2.177159630442457,-0.741060588232008,-2.677536751339832,-2.5045162519134343,3.3353338201908547,0.9823278999912638,-3.9146876026790007,-1.2089434199128883,6.9688211311652815,3.0355881847259827,-2.245603867241876,-2.886576766334281,-7.238065976206989,-1.3981335018147192,-4.13551004177696,0.5921190154327431,0.38017201838266157,2.0438840697377967,-2.9689334110452243,-5.59111774797302,0.8993455778715151,2.0310588824302087,-0.7760926045740125,-0.9036965210157538,-6.248122958718949,-3.547823273789405,2.351256402466143,-3.0218421503974957,-7.566258263788409,-5.678293514849684,-3.002392068796429,2.371241170663168,3.4666630508043608,0.3624415799449626,-5.273403087885223,0.8819317454880112,1.7648768363634264,5.877344920009414,-3.912079717781875,-0.33925961162556073,1.0011897291443328,3.0290599715172233,-2.053902926661633,3.1968140039777575,3.43476917065051,-4.998536648156082,5.060452914429723,-5.8275982852760055,-0.9689529289979844,-0.23690692963078752],\"yaxis\":\"y\",\"type\":\"scatter\"},{\"hovertemplate\":\"color=wsj<br>0=%{x}<br>1=%{y}<extra></extra>\",\"legendgroup\":\"wsj\",\"marker\":{\"color\":\"rgb(57, 105, 172)\",\"symbol\":\"circle\"},\"mode\":\"markers\",\"name\":\"wsj\",\"orientation\":\"v\",\"showlegend\":true,\"x\":[-3.4372345290070023,0.842568450611602,0.4547375245081991,1.7141091993672464,-3.170562747925454,-7.022240111088316,-4.916416416585344,-2.172401798593487,-14.029587237808565,-6.739625829573931,0.9823853680397463,-4.22617156662323,-4.632497212137965,-2.9949478330124584,3.903340550092156,0.7553934332682043,1.2819118627239727,-1.2643910901916808,2.213365240213407,-6.5096274671904775,2.8533522494275996,-0.30110714813382805,-4.805881331181944,-0.45160893837369054,-2.5801918511916275,0.22836351020570567,-0.9249212707063135,-3.9305931197619763,1.3400014715979653,-2.0418875425706537,-1.4558470523191205,1.244765989232073,0.8074884015719296,-0.5935446208601641,1.3718636044696093,-4.86708650314538,-5.873325520152033,-6.175353398884715,-2.6358407370200205,-9.079627960801933,-6.590827466200169,-2.0259539747098754,-4.653249455893982,1.9383074622346033,-3.0728155240542585,-1.9867616631104088,3.640151870762731,0.5658136422238563,2.125991928536595,0.2712446425975837,-5.998442826124569,-0.8920281126920917,-4.420961013518782,-2.6762408678595064,-2.55688374085364,-4.105735554699383,-1.9677825521490002,-5.41479634557735,-4.075791170545861,-5.661342020010525,-6.138095897125146,-6.520116896553225,-2.537799717440838,-6.4609336499217855,-2.3773495231869424,-3.873167052197643,-2.982591228025337,-2.804252917507873,-0.9135140818471913,-3.6607361693818774,-5.152696114855964,-1.6816092473164128,-6.495916855642338,1.8151188409708858,0.7912192480332797,-4.209170841240112,-3.3434641894559327,-4.558529964886057,-4.625382974160995,-1.1546442205745342,0.4579756104602141,-6.317074337480611,3.1839205175892777,-6.286445061311211,-0.6392335311817234,-3.9284503766535472,0.9347102568737685,-3.6458284321257963,-5.347401983964468,-1.438058552702696,-4.852336486130588,-3.9410485180639068,-5.441310603608382,-2.677154624812759,-4.498995288238318,1.1332388037879935,0.6942973163880671,-4.098335483826901,0.2611710777296526,-4.854773422057834],\"xaxis\":\"x\",\"y\":[-0.0718884537900356,-2.264184592616973,-4.087796866813842,-0.6649652305830583,0.23259574805709093,-0.06937909897866658,-1.0231589188780141,0.6829030020865758,-13.696598425254914,-0.8544513041506268,-5.977773716259011,5.530704139137458,-2.6408570515965843,6.580070346634972,-6.581854381778372,-1.6731957098728554,-2.5181777917721866,-1.627798972864428,-1.8272693378057887,6.454431813932672,3.1885435519293828,-2.4607216419276283,-0.5918567062410202,-1.8627231031466418,-1.4094111123991953,6.37848417673488,-3.42333457050699,-4.333029411814376,-6.846274629348407,4.0368548329431535,8.09058964710205,-3.8294186143032927,-2.6843357994968207,-4.519699820854875,-2.199305995786042,-6.283560564075281,-1.536728357655568,-0.9132779644284552,-4.020798179079142,3.18102338861536,9.263057711662974,6.370694436612176,0.19199643571046762,-4.582826765497004,-2.2218088791247945,4.356573579682856,-2.2648733705062516,4.235940957811798,-2.3051717883666702,5.135090544543292,2.271504255493629,-4.220197686330755,-3.581495340286093,-0.9440108634066974,5.420378365827304,0.734141500950485,-7.195349677493814,-3.521815618665137,3.301901544811886,0.14036048624270725,-1.3195803757923439,0.4733025707871696,1.5032779192717378,-0.2901203105294484,-1.3369296443829994,-2.078797784840804,-3.289374688311496,0.22512924614262608,-3.6370491692232223,-3.7637380914487957,2.283759505622357,4.289658438416171,1.2750599031987415,-1.284729180288636,-2.0277116326415094,-2.197017183098861,3.7503092590140525,-4.456076521592289,1.9833734231637579,-9.341103130491698,-3.9038541438590744,-3.9360306772089944,2.7844066892099435,-2.0985333185598005,-5.265472903493886,-2.4557256414402406,4.295804234833733,-6.2594406585302425,-5.940828367271952,-0.0933503514146653,-0.32879202611696906,4.715848597198107,-0.4285753637554637,4.977923808448503,3.531781742909894,-0.6652985342792449,9.063268183671772,-0.66192398262059,-0.5483062857446588,-2.643962730166398],\"yaxis\":\"y\",\"type\":\"scatter\"}],                        {\"template\":{\"data\":{\"histogram2dcontour\":[{\"type\":\"histogram2dcontour\",\"colorbar\":{\"outlinewidth\":0,\"ticks\":\"\"},\"colorscale\":[[0.0,\"#0d0887\"],[0.1111111111111111,\"#46039f\"],[0.2222222222222222,\"#7201a8\"],[0.3333333333333333,\"#9c179e\"],[0.4444444444444444,\"#bd3786\"],[0.5555555555555556,\"#d8576b\"],[0.6666666666666666,\"#ed7953\"],[0.7777777777777778,\"#fb9f3a\"],[0.8888888888888888,\"#fdca26\"],[1.0,\"#f0f921\"]]}],\"choropleth\":[{\"type\":\"choropleth\",\"colorbar\":{\"outlinewidth\":0,\"ticks\":\"\"}}],\"histogram2d\":[{\"type\":\"histogram2d\",\"colorbar\":{\"outlinewidth\":0,\"ticks\":\"\"},\"colorscale\":[[0.0,\"#0d0887\"],[0.1111111111111111,\"#46039f\"],[0.2222222222222222,\"#7201a8\"],[0.3333333333333333,\"#9c179e\"],[0.4444444444444444,\"#bd3786\"],[0.5555555555555556,\"#d8576b\"],[0.6666666666666666,\"#ed7953\"],[0.7777777777777778,\"#fb9f3a\"],[0.8888888888888888,\"#fdca26\"],[1.0,\"#f0f921\"]]}],\"heatmap\":[{\"type\":\"heatmap\",\"colorbar\":{\"outlinewidth\":0,\"ticks\":\"\"},\"colorscale\":[[0.0,\"#0d0887\"],[0.1111111111111111,\"#46039f\"],[0.2222222222222222,\"#7201a8\"],[0.3333333333333333,\"#9c179e\"],[0.4444444444444444,\"#bd3786\"],[0.5555555555555556,\"#d8576b\"],[0.6666666666666666,\"#ed7953\"],[0.7777777777777778,\"#fb9f3a\"],[0.8888888888888888,\"#fdca26\"],[1.0,\"#f0f921\"]]}],\"heatmapgl\":[{\"type\":\"heatmapgl\",\"colorbar\":{\"outlinewidth\":0,\"ticks\":\"\"},\"colorscale\":[[0.0,\"#0d0887\"],[0.1111111111111111,\"#46039f\"],[0.2222222222222222,\"#7201a8\"],[0.3333333333333333,\"#9c179e\"],[0.4444444444444444,\"#bd3786\"],[0.5555555555555556,\"#d8576b\"],[0.6666666666666666,\"#ed7953\"],[0.7777777777777778,\"#fb9f3a\"],[0.8888888888888888,\"#fdca26\"],[1.0,\"#f0f921\"]]}],\"contourcarpet\":[{\"type\":\"contourcarpet\",\"colorbar\":{\"outlinewidth\":0,\"ticks\":\"\"}}],\"contour\":[{\"type\":\"contour\",\"colorbar\":{\"outlinewidth\":0,\"ticks\":\"\"},\"colorscale\":[[0.0,\"#0d0887\"],[0.1111111111111111,\"#46039f\"],[0.2222222222222222,\"#7201a8\"],[0.3333333333333333,\"#9c179e\"],[0.4444444444444444,\"#bd3786\"],[0.5555555555555556,\"#d8576b\"],[0.6666666666666666,\"#ed7953\"],[0.7777777777777778,\"#fb9f3a\"],[0.8888888888888888,\"#fdca26\"],[1.0,\"#f0f921\"]]}],\"surface\":[{\"type\":\"surface\",\"colorbar\":{\"outlinewidth\":0,\"ticks\":\"\"},\"colorscale\":[[0.0,\"#0d0887\"],[0.1111111111111111,\"#46039f\"],[0.2222222222222222,\"#7201a8\"],[0.3333333333333333,\"#9c179e\"],[0.4444444444444444,\"#bd3786\"],[0.5555555555555556,\"#d8576b\"],[0.6666666666666666,\"#ed7953\"],[0.7777777777777778,\"#fb9f3a\"],[0.8888888888888888,\"#fdca26\"],[1.0,\"#f0f921\"]]}],\"mesh3d\":[{\"type\":\"mesh3d\",\"colorbar\":{\"outlinewidth\":0,\"ticks\":\"\"}}],\"scatter\":[{\"fillpattern\":{\"fillmode\":\"overlay\",\"size\":10,\"solidity\":0.2},\"type\":\"scatter\"}],\"parcoords\":[{\"type\":\"parcoords\",\"line\":{\"colorbar\":{\"outlinewidth\":0,\"ticks\":\"\"}}}],\"scatterpolargl\":[{\"type\":\"scatterpolargl\",\"marker\":{\"colorbar\":{\"outlinewidth\":0,\"ticks\":\"\"}}}],\"bar\":[{\"error_x\":{\"color\":\"#2a3f5f\"},\"error_y\":{\"color\":\"#2a3f5f\"},\"marker\":{\"line\":{\"color\":\"#E5ECF6\",\"width\":0.5},\"pattern\":{\"fillmode\":\"overlay\",\"size\":10,\"solidity\":0.2}},\"type\":\"bar\"}],\"scattergeo\":[{\"type\":\"scattergeo\",\"marker\":{\"colorbar\":{\"outlinewidth\":0,\"ticks\":\"\"}}}],\"scatterpolar\":[{\"type\":\"scatterpolar\",\"marker\":{\"colorbar\":{\"outlinewidth\":0,\"ticks\":\"\"}}}],\"histogram\":[{\"marker\":{\"pattern\":{\"fillmode\":\"overlay\",\"size\":10,\"solidity\":0.2}},\"type\":\"histogram\"}],\"scattergl\":[{\"type\":\"scattergl\",\"marker\":{\"colorbar\":{\"outlinewidth\":0,\"ticks\":\"\"}}}],\"scatter3d\":[{\"type\":\"scatter3d\",\"line\":{\"colorbar\":{\"outlinewidth\":0,\"ticks\":\"\"}},\"marker\":{\"colorbar\":{\"outlinewidth\":0,\"ticks\":\"\"}}}],\"scattermapbox\":[{\"type\":\"scattermapbox\",\"marker\":{\"colorbar\":{\"outlinewidth\":0,\"ticks\":\"\"}}}],\"scatterternary\":[{\"type\":\"scatterternary\",\"marker\":{\"colorbar\":{\"outlinewidth\":0,\"ticks\":\"\"}}}],\"scattercarpet\":[{\"type\":\"scattercarpet\",\"marker\":{\"colorbar\":{\"outlinewidth\":0,\"ticks\":\"\"}}}],\"carpet\":[{\"aaxis\":{\"endlinecolor\":\"#2a3f5f\",\"gridcolor\":\"white\",\"linecolor\":\"white\",\"minorgridcolor\":\"white\",\"startlinecolor\":\"#2a3f5f\"},\"baxis\":{\"endlinecolor\":\"#2a3f5f\",\"gridcolor\":\"white\",\"linecolor\":\"white\",\"minorgridcolor\":\"white\",\"startlinecolor\":\"#2a3f5f\"},\"type\":\"carpet\"}],\"table\":[{\"cells\":{\"fill\":{\"color\":\"#EBF0F8\"},\"line\":{\"color\":\"white\"}},\"header\":{\"fill\":{\"color\":\"#C8D4E3\"},\"line\":{\"color\":\"white\"}},\"type\":\"table\"}],\"barpolar\":[{\"marker\":{\"line\":{\"color\":\"#E5ECF6\",\"width\":0.5},\"pattern\":{\"fillmode\":\"overlay\",\"size\":10,\"solidity\":0.2}},\"type\":\"barpolar\"}],\"pie\":[{\"automargin\":true,\"type\":\"pie\"}]},\"layout\":{\"autotypenumbers\":\"strict\",\"colorway\":[\"#636efa\",\"#EF553B\",\"#00cc96\",\"#ab63fa\",\"#FFA15A\",\"#19d3f3\",\"#FF6692\",\"#B6E880\",\"#FF97FF\",\"#FECB52\"],\"font\":{\"color\":\"#2a3f5f\"},\"hovermode\":\"closest\",\"hoverlabel\":{\"align\":\"left\"},\"paper_bgcolor\":\"white\",\"plot_bgcolor\":\"#E5ECF6\",\"polar\":{\"bgcolor\":\"#E5ECF6\",\"angularaxis\":{\"gridcolor\":\"white\",\"linecolor\":\"white\",\"ticks\":\"\"},\"radialaxis\":{\"gridcolor\":\"white\",\"linecolor\":\"white\",\"ticks\":\"\"}},\"ternary\":{\"bgcolor\":\"#E5ECF6\",\"aaxis\":{\"gridcolor\":\"white\",\"linecolor\":\"white\",\"ticks\":\"\"},\"baxis\":{\"gridcolor\":\"white\",\"linecolor\":\"white\",\"ticks\":\"\"},\"caxis\":{\"gridcolor\":\"white\",\"linecolor\":\"white\",\"ticks\":\"\"}},\"coloraxis\":{\"colorbar\":{\"outlinewidth\":0,\"ticks\":\"\"}},\"colorscale\":{\"sequential\":[[0.0,\"#0d0887\"],[0.1111111111111111,\"#46039f\"],[0.2222222222222222,\"#7201a8\"],[0.3333333333333333,\"#9c179e\"],[0.4444444444444444,\"#bd3786\"],[0.5555555555555556,\"#d8576b\"],[0.6666666666666666,\"#ed7953\"],[0.7777777777777778,\"#fb9f3a\"],[0.8888888888888888,\"#fdca26\"],[1.0,\"#f0f921\"]],\"sequentialminus\":[[0.0,\"#0d0887\"],[0.1111111111111111,\"#46039f\"],[0.2222222222222222,\"#7201a8\"],[0.3333333333333333,\"#9c179e\"],[0.4444444444444444,\"#bd3786\"],[0.5555555555555556,\"#d8576b\"],[0.6666666666666666,\"#ed7953\"],[0.7777777777777778,\"#fb9f3a\"],[0.8888888888888888,\"#fdca26\"],[1.0,\"#f0f921\"]],\"diverging\":[[0,\"#8e0152\"],[0.1,\"#c51b7d\"],[0.2,\"#de77ae\"],[0.3,\"#f1b6da\"],[0.4,\"#fde0ef\"],[0.5,\"#f7f7f7\"],[0.6,\"#e6f5d0\"],[0.7,\"#b8e186\"],[0.8,\"#7fbc41\"],[0.9,\"#4d9221\"],[1,\"#276419\"]]},\"xaxis\":{\"gridcolor\":\"white\",\"linecolor\":\"white\",\"ticks\":\"\",\"title\":{\"standoff\":15},\"zerolinecolor\":\"white\",\"automargin\":true,\"zerolinewidth\":2},\"yaxis\":{\"gridcolor\":\"white\",\"linecolor\":\"white\",\"ticks\":\"\",\"title\":{\"standoff\":15},\"zerolinecolor\":\"white\",\"automargin\":true,\"zerolinewidth\":2},\"scene\":{\"xaxis\":{\"backgroundcolor\":\"#E5ECF6\",\"gridcolor\":\"white\",\"linecolor\":\"white\",\"showbackground\":true,\"ticks\":\"\",\"zerolinecolor\":\"white\",\"gridwidth\":2},\"yaxis\":{\"backgroundcolor\":\"#E5ECF6\",\"gridcolor\":\"white\",\"linecolor\":\"white\",\"showbackground\":true,\"ticks\":\"\",\"zerolinecolor\":\"white\",\"gridwidth\":2},\"zaxis\":{\"backgroundcolor\":\"#E5ECF6\",\"gridcolor\":\"white\",\"linecolor\":\"white\",\"showbackground\":true,\"ticks\":\"\",\"zerolinecolor\":\"white\",\"gridwidth\":2}},\"shapedefaults\":{\"line\":{\"color\":\"#2a3f5f\"}},\"annotationdefaults\":{\"arrowcolor\":\"#2a3f5f\",\"arrowhead\":0,\"arrowwidth\":1},\"geo\":{\"bgcolor\":\"white\",\"landcolor\":\"#E5ECF6\",\"subunitcolor\":\"white\",\"showland\":true,\"showlakes\":true,\"lakecolor\":\"white\"},\"title\":{\"x\":0.05},\"mapbox\":{\"style\":\"light\"}}},\"xaxis\":{\"anchor\":\"y\",\"domain\":[0.0,1.0],\"title\":{\"text\":\"0\"}},\"yaxis\":{\"anchor\":\"x\",\"domain\":[0.0,1.0],\"title\":{\"text\":\"1\"}},\"legend\":{\"title\":{\"text\":\"color\"},\"tracegroupgap\":0},\"margin\":{\"t\":60}},                        {\"responsive\": true}                    ).then(function(){\n",
       "                            \n",
       "var gd = document.getElementById('575adb96-5493-4f0c-bc2a-0ddaf9aeeb6a');\n",
       "var x = new MutationObserver(function (mutations, observer) {{\n",
       "        var display = window.getComputedStyle(gd).display;\n",
       "        if (!display || display === 'none') {{\n",
       "            console.log([gd, 'removed!']);\n",
       "            Plotly.purge(gd);\n",
       "            observer.disconnect();\n",
       "        }}\n",
       "}});\n",
       "\n",
       "// Listen for the removal of the full notebook cells\n",
       "var notebookContainer = gd.closest('#notebook-container');\n",
       "if (notebookContainer) {{\n",
       "    x.observe(notebookContainer, {childList: true});\n",
       "}}\n",
       "\n",
       "// Listen for the clearing of the current output cell\n",
       "var outputEl = gd.closest('.output');\n",
       "if (outputEl) {{\n",
       "    x.observe(outputEl, {childList: true});\n",
       "}}\n",
       "\n",
       "                        })                };                });            </script>        </div>"
      ]
     },
     "metadata": {},
     "output_type": "display_data"
    }
   ],
   "source": [
    "# ok then, how about MDS?\n",
    "# https://scikit-learn.org/stable/modules/manifold.html#multidimensional-scaling\n",
    "# Data needs to be a similarity or disimilarity matrix ... maybe another day\n",
    "md_scaling = manifold.MDS(\n",
    "    n_components=2,\n",
    "    max_iter=50,\n",
    "    n_init=4,\n",
    "    random_state=0\n",
    ")\n",
    "S_scaling = md_scaling.fit_transform(scaled_data)\n",
    "\n",
    "fig = px.scatter(S_scaling, \n",
    "                 x=0, \n",
    "                 y=1, \n",
    "                 color=df_tidy['source'],\n",
    "                 color_discrete_sequence=px.colors.qualitative.Bold)\n",
    "fig.show()"
   ]
  },
  {
   "cell_type": "code",
   "execution_count": null,
   "id": "c01fff43",
   "metadata": {},
   "outputs": [],
   "source": []
  }
 ],
 "metadata": {
  "kernelspec": {
   "display_name": "Python 3 (ipykernel)",
   "language": "python",
   "name": "python3"
  },
  "language_info": {
   "codemirror_mode": {
    "name": "ipython",
    "version": 3
   },
   "file_extension": ".py",
   "mimetype": "text/x-python",
   "name": "python",
   "nbconvert_exporter": "python",
   "pygments_lexer": "ipython3",
   "version": "3.10.6"
  }
 },
 "nbformat": 4,
 "nbformat_minor": 5
}
