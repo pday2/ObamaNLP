{
 "cells": [
  {
   "cell_type": "markdown",
   "id": "1fd9d49e",
   "metadata": {},
   "source": [
    "This notebook scrapes the timelines <A HREF=\"https://en.wikipedia.org/wiki/Timeline_of_the_Barack_Obama_presidency\">found on Wikipedia</A> and saves each year as a csv with fields: data, event"
   ]
  },
  {
   "cell_type": "code",
   "execution_count": 1,
   "id": "91bc3b0f",
   "metadata": {},
   "outputs": [],
   "source": [
    "# The usual suspects...\n",
    "import requests\n",
    "import re\n",
    "import pandas as pd\n",
    "from bs4 import BeautifulSoup\n",
    "import time # avoid swamping the americanrhetoric website\n",
    "import os # to check if directory exists and create it if it doesn't\n",
    "from datetime import date, datetime # to parse speech date"
   ]
  },
  {
   "cell_type": "code",
   "execution_count": 2,
   "id": "78602c3f",
   "metadata": {},
   "outputs": [
    {
     "name": "stdout",
     "output_type": "stream",
     "text": [
      "DataWiki folder already exists.\n",
      "created folder :  USATimeline\n"
     ]
    }
   ],
   "source": [
    "# Check if Data and associated folders exist for saving speech CSVs to.\n",
    "# https://djangocentral.com/check-if-a-directory-exists-if-not-create-it/\n",
    "\n",
    "MYDIRS = [\"DataWiki\", \"USATimeline\"]\n",
    "\n",
    "# If folder doesn't exist, then create it.\n",
    "for MYDIR in MYDIRS:\n",
    "    CHECK_FOLDER = os.path.isdir(MYDIR)\n",
    "    if CHECK_FOLDER:\n",
    "        print(MYDIR, \"folder already exists.\")\n",
    "    else:\n",
    "        os.makedirs(MYDIR)\n",
    "        print(\"created folder : \", MYDIR)"
   ]
  },
  {
   "cell_type": "code",
   "execution_count": 119,
   "id": "85d5c612",
   "metadata": {},
   "outputs": [
    {
     "name": "stdout",
     "output_type": "stream",
     "text": [
      "2009 saved!\n",
      "2010 saved!\n",
      "2011 saved!\n",
      "2012 saved!\n",
      "2013 saved!\n",
      "2014 saved!\n",
      "2015 saved!\n",
      "2016 saved!\n"
     ]
    }
   ],
   "source": [
    "# Barack Obama Presidential timeline\n",
    "url = 'https://en.wikipedia.org/wiki/Timeline_of_the_Barack_Obama_presidency_(2011)'\n",
    "links = []\n",
    "for year in range(2009, 2017):\n",
    "    if year==2016:\n",
    "        links.append('https://en.wikipedia.org/wiki/Timeline_of_the_Barack_Obama_presidency_(2016%E2%80%932017)')\n",
    "    else:\n",
    "        links.append('https://en.wikipedia.org/wiki/Timeline_of_the_Barack_Obama_presidency_('+str(year)+')')\n",
    "for url in links:\n",
    "    try:\n",
    "        page = requests.get(url, headers={'user-agent': 'Mozilla/5.0'})\n",
    "    except Exception as e:\n",
    "        print(e, speechlink)\n",
    "        #continue # skip this page and go back to beginning of for loop\n",
    "    soup = BeautifulSoup(page.content, 'html.parser')\n",
    "    year = re.search('(20[0-9]+)', soup.title.text).group(0)\n",
    "    months = ['January', 'February', 'March', 'April', 'May', 'June', 'July', 'August', 'September', 'October', 'November', 'December']\n",
    "    li_tags = [x for x in soup.find_all('li') if (soup.find_all('li') is not None) and (x.find('b') is not None)]\n",
    "    tmptimeline = [y.text for y in li_tags if y.text.split(' ')[0] in months]\n",
    "    timeline = [re.sub('^(.*?)[\\–|−|-|—|-]\\s', '', x) for x in tmptimeline]\n",
    "    # regex to grab everything to left of first – : ^[^–]*\n",
    "    # note – is not -  I don't think my keyboard has –\n",
    "    # turns out there are three different –,−,- floating around, yeah first two are different!S\n",
    "    # search finds matching text, group(0) returns all of the matching text, .rstrip() removes training space\n",
    "    # re.search(\"^[^–]*\", txt).group(0)\n",
    "    dates = [ re.search(\"^[^–|−|-|—|-]*\", txt).group(0).rstrip()+', '+ year for txt in tmptimeline]\n",
    "    cleanDates = [datetime.strptime(date, '%B %d, %Y').strftime(\"%d/%m/%Y\") for date in dates]\n",
    "    # combine dates and timeline into a df and save as csv\n",
    "    metadata=list(zip(cleanDates, timeline))\n",
    "    df = pd.DataFrame(metadata)\n",
    "    df.to_csv('DataWiki/' + 'wiki_timeline_'+year+'.csv', encoding='utf-8', header=False, index=False)\n",
    "    print(year,\"saved!\")\n",
    "    time.sleep(3)"
   ]
  },
  {
   "cell_type": "code",
   "execution_count": 22,
   "id": "e9aa248e",
   "metadata": {},
   "outputs": [
    {
     "ename": "AttributeError",
     "evalue": "'builtin_function_or_method' object has no attribute 'text'",
     "output_type": "error",
     "traceback": [
      "\u001b[0;31m---------------------------------------------------------------------------\u001b[0m",
      "\u001b[0;31mAttributeError\u001b[0m                            Traceback (most recent call last)",
      "Input \u001b[0;32mIn [22]\u001b[0m, in \u001b[0;36m<cell line: 6>\u001b[0;34m()\u001b[0m\n\u001b[1;32m     13\u001b[0m startEvents \u001b[38;5;241m=\u001b[39m \u001b[38;5;28mstr\u001b[39m(soup)\u001b[38;5;241m.\u001b[39mfind(\u001b[38;5;124m'\u001b[39m\u001b[38;5;124m<h2><span class=\u001b[39m\u001b[38;5;124m\"\u001b[39m\u001b[38;5;124mmw-headline\u001b[39m\u001b[38;5;124m\"\u001b[39m\u001b[38;5;124m id=\u001b[39m\u001b[38;5;124m\"\u001b[39m\u001b[38;5;124mEvents\u001b[39m\u001b[38;5;124m\"\u001b[39m\u001b[38;5;124m>Events</span>\u001b[39m\u001b[38;5;124m'\u001b[39m)\n\u001b[1;32m     14\u001b[0m soup \u001b[38;5;241m=\u001b[39m \u001b[38;5;28mstr\u001b[39m(soup)[startEvents:]\n\u001b[0;32m---> 15\u001b[0m year \u001b[38;5;241m=\u001b[39m re\u001b[38;5;241m.\u001b[39msearch(\u001b[38;5;124m'\u001b[39m\u001b[38;5;124m(20[0-9]+)\u001b[39m\u001b[38;5;124m'\u001b[39m, \u001b[43msoup\u001b[49m\u001b[38;5;241;43m.\u001b[39;49m\u001b[43mtitle\u001b[49m\u001b[38;5;241;43m.\u001b[39;49m\u001b[43mtext\u001b[49m)\u001b[38;5;241m.\u001b[39mgroup(\u001b[38;5;241m0\u001b[39m)\n\u001b[1;32m     16\u001b[0m months \u001b[38;5;241m=\u001b[39m [\u001b[38;5;124m'\u001b[39m\u001b[38;5;124mJanuary\u001b[39m\u001b[38;5;124m'\u001b[39m, \u001b[38;5;124m'\u001b[39m\u001b[38;5;124mFebruary\u001b[39m\u001b[38;5;124m'\u001b[39m, \u001b[38;5;124m'\u001b[39m\u001b[38;5;124mMarch\u001b[39m\u001b[38;5;124m'\u001b[39m, \u001b[38;5;124m'\u001b[39m\u001b[38;5;124mApril\u001b[39m\u001b[38;5;124m'\u001b[39m, \u001b[38;5;124m'\u001b[39m\u001b[38;5;124mMay\u001b[39m\u001b[38;5;124m'\u001b[39m, \u001b[38;5;124m'\u001b[39m\u001b[38;5;124mJune\u001b[39m\u001b[38;5;124m'\u001b[39m, \u001b[38;5;124m'\u001b[39m\u001b[38;5;124mJuly\u001b[39m\u001b[38;5;124m'\u001b[39m, \u001b[38;5;124m'\u001b[39m\u001b[38;5;124mAugust\u001b[39m\u001b[38;5;124m'\u001b[39m, \u001b[38;5;124m'\u001b[39m\u001b[38;5;124mSeptember\u001b[39m\u001b[38;5;124m'\u001b[39m, \u001b[38;5;124m'\u001b[39m\u001b[38;5;124mOctober\u001b[39m\u001b[38;5;124m'\u001b[39m, \u001b[38;5;124m'\u001b[39m\u001b[38;5;124mNovember\u001b[39m\u001b[38;5;124m'\u001b[39m, \u001b[38;5;124m'\u001b[39m\u001b[38;5;124mDecember\u001b[39m\u001b[38;5;124m'\u001b[39m]\n\u001b[1;32m     17\u001b[0m li_tags \u001b[38;5;241m=\u001b[39m [x \u001b[38;5;28;01mfor\u001b[39;00m x \u001b[38;5;129;01min\u001b[39;00m soup\u001b[38;5;241m.\u001b[39mfind_all(\u001b[38;5;124m'\u001b[39m\u001b[38;5;124mli\u001b[39m\u001b[38;5;124m'\u001b[39m) \u001b[38;5;28;01mif\u001b[39;00m (soup\u001b[38;5;241m.\u001b[39mfind_all(\u001b[38;5;124m'\u001b[39m\u001b[38;5;124mli\u001b[39m\u001b[38;5;124m'\u001b[39m) \u001b[38;5;129;01mis\u001b[39;00m \u001b[38;5;129;01mnot\u001b[39;00m \u001b[38;5;28;01mNone\u001b[39;00m)]\n",
      "\u001b[0;31mAttributeError\u001b[0m: 'builtin_function_or_method' object has no attribute 'text'"
     ]
    }
   ],
   "source": [
    "# USA Timeline\n",
    "url = 'https://en.wikipedia.org/wiki/2010_in_the_United_States'\n",
    "links = []\n",
    "for year in range(2004, 2005):\n",
    "    links.append('https://en.wikipedia.org/wiki/'+str(year)+'_in_the_United_States')\n",
    "for url in links:\n",
    "    try:\n",
    "        page = requests.get(url, headers={'user-agent': 'Mozilla/5.0'})\n",
    "    except Exception as e:\n",
    "        print(e, speechlink)\n",
    "        #continue # skip this page and go back to beginning of for loop\n",
    "    soup = BeautifulSoup(page.content, 'html.parser')\n",
    "    startEvents = str(soup).find('<h2><span class=\"mw-headline\" id=\"Events\">Events</span>')\n",
    "    year = re.search('(20[0-9]+)', soup.title.text).group(0)\n",
    "    months = ['January', 'February', 'March', 'April', 'May', 'June', 'July', 'August', 'September', 'October', 'November', 'December']\n",
    "    li_tags = [x for x in soup.find_all('li') if (soup.find_all('li') is not None)]\n",
    "    tmptimeline = [y.text for y in li_tags if y.text.split(' ')[0] in months]\n",
    "    timeline = [re.sub('^(.*?)[\\–|−|-|—|-|\\n]\\s', '', x) for x in tmptimeline]\n",
    "    # regex to grab everything to left of first – : ^[^–]*\n",
    "    # note – is not -  I don't think my keyboard has –\n",
    "    # turns out there are three different –,−,- floating around, yeah first two are different!S\n",
    "    # search finds matching text, group(0) returns all of the matching text, .rstrip() removes training space\n",
    "    # re.search(\"^[^–]*\", txt).group(0)\n",
    "    dates = [ re.search(\"^[^–|−|-|—|-|\\n]*\", txt).group(0).rstrip()+', '+ year for txt in tmptimeline]\n",
    "    cleanDates = [datetime.strptime(date, '%B %d, %Y').strftime(\"%d/%m/%Y\") for date in dates]\n",
    "    # combine dates and timeline into a df and save as csv\n",
    "    metadata=list(zip(cleanDates, timeline))\n",
    "    df = pd.DataFrame(metadata)\n",
    "    df.to_csv('USATimeline/' + 'wiki_timeline_'+year+'.csv', encoding='utf-8', header=False, index=False)\n",
    "    print(year,\"saved!\")\n",
    "    time.sleep(3)"
   ]
  },
  {
   "cell_type": "code",
   "execution_count": null,
   "id": "e10cb380",
   "metadata": {},
   "outputs": [],
   "source": []
  }
 ],
 "metadata": {
  "kernelspec": {
   "display_name": "Python 3",
   "language": "python",
   "name": "python3"
  },
  "language_info": {
   "codemirror_mode": {
    "name": "ipython",
    "version": 3
   },
   "file_extension": ".py",
   "mimetype": "text/x-python",
   "name": "python",
   "nbconvert_exporter": "python",
   "pygments_lexer": "ipython3",
   "version": "3.9.10"
  }
 },
 "nbformat": 4,
 "nbformat_minor": 5
}
